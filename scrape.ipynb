{
  "nbformat": 4,
  "nbformat_minor": 0,
  "metadata": {
    "colab": {
      "name": "scrape.ipynb",
      "provenance": [],
      "include_colab_link": true
    },
    "kernelspec": {
      "name": "python3",
      "display_name": "Python 3"
    }
  },
  "cells": [
    {
      "cell_type": "markdown",
      "metadata": {
        "id": "view-in-github",
        "colab_type": "text"
      },
      "source": [
        "<a href=\"https://colab.research.google.com/github/ravi-gopalan/DAND_Data_Wrangling/blob/master/scrape.ipynb\" target=\"_parent\"><img src=\"https://colab.research.google.com/assets/colab-badge.svg\" alt=\"Open In Colab\"/></a>"
      ]
    },
    {
      "cell_type": "code",
      "metadata": {
        "id": "reuIG1DM4E9L",
        "colab_type": "code",
        "colab": {
          "base_uri": "https://localhost:8080/",
          "height": 817
        },
        "outputId": "470fb284-2d2c-421d-be56-506b22516876"
      },
      "source": [
        "# install chromium, its driver, and selenium\n",
        "!apt install chromium-chromedriver\n",
        "!pip install selenium\n",
        "# set options to be headless, ..\n",
        "from selenium import webdriver\n",
        "from selenium.webdriver.support.ui import WebDriverWait\n",
        "from selenium.webdriver.support import expected_conditions as EC\n",
        "from selenium.webdriver.common.by import By\n",
        "\n",
        "import time\n",
        "import pandas as pd\n",
        "import matplotlib.pyplot as plt\n",
        "import re\n",
        "\n",
        "options = webdriver.ChromeOptions()\n",
        "options.add_argument('--headless')\n",
        "options.add_argument('--no-sandbox')\n",
        "options.add_argument('--disable-dev-shm-usage')\n",
        "# open it, go to a website, and get results\n",
        "driver = webdriver.Chrome('chromedriver',options=options)\n",
        "\n"
      ],
      "execution_count": 1,
      "outputs": [
        {
          "output_type": "stream",
          "text": [
            "Reading package lists... Done\n",
            "Building dependency tree       \n",
            "Reading state information... Done\n",
            "The following additional packages will be installed:\n",
            "  chromium-browser chromium-browser-l10n chromium-codecs-ffmpeg-extra\n",
            "Suggested packages:\n",
            "  webaccounts-chromium-extension unity-chromium-extension adobe-flashplugin\n",
            "The following NEW packages will be installed:\n",
            "  chromium-browser chromium-browser-l10n chromium-chromedriver\n",
            "  chromium-codecs-ffmpeg-extra\n",
            "0 upgraded, 4 newly installed, 0 to remove and 35 not upgraded.\n",
            "Need to get 71.9 MB of archives.\n",
            "After this operation, 257 MB of additional disk space will be used.\n",
            "Get:1 http://archive.ubuntu.com/ubuntu bionic-updates/universe amd64 chromium-codecs-ffmpeg-extra amd64 78.0.3904.70-0ubuntu0.18.04.2 [1,078 kB]\n",
            "Get:2 http://archive.ubuntu.com/ubuntu bionic-updates/universe amd64 chromium-browser amd64 78.0.3904.70-0ubuntu0.18.04.2 [63.3 MB]\n",
            "Get:3 http://archive.ubuntu.com/ubuntu bionic-updates/universe amd64 chromium-browser-l10n all 78.0.3904.70-0ubuntu0.18.04.2 [3,073 kB]\n",
            "Get:4 http://archive.ubuntu.com/ubuntu bionic-updates/universe amd64 chromium-chromedriver amd64 78.0.3904.70-0ubuntu0.18.04.2 [4,465 kB]\n",
            "Fetched 71.9 MB in 1s (53.3 MB/s)\n",
            "Selecting previously unselected package chromium-codecs-ffmpeg-extra.\n",
            "(Reading database ... 132684 files and directories currently installed.)\n",
            "Preparing to unpack .../chromium-codecs-ffmpeg-extra_78.0.3904.70-0ubuntu0.18.04.2_amd64.deb ...\n",
            "Unpacking chromium-codecs-ffmpeg-extra (78.0.3904.70-0ubuntu0.18.04.2) ...\n",
            "Selecting previously unselected package chromium-browser.\n",
            "Preparing to unpack .../chromium-browser_78.0.3904.70-0ubuntu0.18.04.2_amd64.deb ...\n",
            "Unpacking chromium-browser (78.0.3904.70-0ubuntu0.18.04.2) ...\n",
            "Selecting previously unselected package chromium-browser-l10n.\n",
            "Preparing to unpack .../chromium-browser-l10n_78.0.3904.70-0ubuntu0.18.04.2_all.deb ...\n",
            "Unpacking chromium-browser-l10n (78.0.3904.70-0ubuntu0.18.04.2) ...\n",
            "Selecting previously unselected package chromium-chromedriver.\n",
            "Preparing to unpack .../chromium-chromedriver_78.0.3904.70-0ubuntu0.18.04.2_amd64.deb ...\n",
            "Unpacking chromium-chromedriver (78.0.3904.70-0ubuntu0.18.04.2) ...\n",
            "Processing triggers for mime-support (3.60ubuntu1) ...\n",
            "Setting up chromium-codecs-ffmpeg-extra (78.0.3904.70-0ubuntu0.18.04.2) ...\n",
            "Processing triggers for man-db (2.8.3-2ubuntu0.1) ...\n",
            "Processing triggers for hicolor-icon-theme (0.17-2) ...\n",
            "Setting up chromium-browser (78.0.3904.70-0ubuntu0.18.04.2) ...\n",
            "update-alternatives: using /usr/bin/chromium-browser to provide /usr/bin/x-www-browser (x-www-browser) in auto mode\n",
            "update-alternatives: using /usr/bin/chromium-browser to provide /usr/bin/gnome-www-browser (gnome-www-browser) in auto mode\n",
            "Setting up chromium-chromedriver (78.0.3904.70-0ubuntu0.18.04.2) ...\n",
            "Setting up chromium-browser-l10n (78.0.3904.70-0ubuntu0.18.04.2) ...\n",
            "Collecting selenium\n",
            "\u001b[?25l  Downloading https://files.pythonhosted.org/packages/80/d6/4294f0b4bce4de0abf13e17190289f9d0613b0a44e5dd6a7f5ca98459853/selenium-3.141.0-py2.py3-none-any.whl (904kB)\n",
            "\u001b[K     |████████████████████████████████| 911kB 9.7MB/s \n",
            "\u001b[?25hRequirement already satisfied: urllib3 in /usr/local/lib/python3.6/dist-packages (from selenium) (1.24.3)\n",
            "Installing collected packages: selenium\n",
            "Successfully installed selenium-3.141.0\n"
          ],
          "name": "stdout"
        }
      ]
    },
    {
      "cell_type": "code",
      "metadata": {
        "id": "XKe237a55_5l",
        "colab_type": "code",
        "colab": {
          "base_uri": "https://localhost:8080/",
          "height": 34
        },
        "outputId": "c3047d41-386c-4733-9602-c667b3b58a94"
      },
      "source": [
        "url = 'https://play.google.com/store/apps/details?id=com.abvmobile&showAllReviews=true'\n",
        "\n",
        "y = 200\n",
        "for i in range(0,200):\n",
        "  driver.execute_script(\"window.scrollTo(0,\"+str(y)+\")\")\n",
        "  y += 1000\n",
        "  time.sleep(2)\n",
        "driver.get(url)\n",
        "driver.title\n",
        "\n",
        "\n",
        "\n"
      ],
      "execution_count": 10,
      "outputs": [
        {
          "output_type": "execute_result",
          "data": {
            "text/plain": [
              "'abillionveg - Vegan food & cruelty-free products - Apps on Google Play'"
            ]
          },
          "metadata": {
            "tags": []
          },
          "execution_count": 10
        }
      ]
    },
    {
      "cell_type": "code",
      "metadata": {
        "id": "zTu0TYcYX6fC",
        "colab_type": "code",
        "colab": {}
      },
      "source": [
        "# Selenium script to scroll to the bottom, wait 3 seconds for the next batch of data to load, then continue scrolling.  \n",
        "# It will continue to do this until the page stops loading new data.\n",
        "url = 'https://play.google.com/store/apps/details?id=com.abvmobile&showAllReviews=true'\n",
        "driver.get(url)\n",
        "lenOfPage = driver.execute_script(\"window.scrollTo(0, document.body.scrollHeight); var lenOfPage=document.body.scrollHeight; return lenOfPage;\")\n",
        "match=False\n",
        "while(match==False):\n",
        "  lastCount = lenOfPage\n",
        "  time.sleep(3)\n",
        "  lenOfPage = driver.execute_script(\"window.scrollTo(0, document.body.scrollHeight);var lenOfPage=document.body.scrollHeight;return lenOfPage;\")\n",
        "  if lastCount==lenOfPage:\n",
        "    match=True"
      ],
      "execution_count": 0,
      "outputs": []
    },
    {
      "cell_type": "code",
      "metadata": {
        "id": "lguCF2jYZcFY",
        "colab_type": "code",
        "colab": {
          "base_uri": "https://localhost:8080/",
          "height": 34
        },
        "outputId": "ad3779e1-06c9-47af-ec2c-ce981949b6ca"
      },
      "source": [
        "lenOfPage"
      ],
      "execution_count": 3,
      "outputs": [
        {
          "output_type": "execute_result",
          "data": {
            "text/plain": [
              "23933"
            ]
          },
          "metadata": {
            "tags": []
          },
          "execution_count": 3
        }
      ]
    },
    {
      "cell_type": "code",
      "metadata": {
        "id": "jns2ecSy7JYc",
        "colab_type": "code",
        "colab": {
          "base_uri": "https://localhost:8080/",
          "height": 34
        },
        "outputId": "e6453d8c-fb5a-4314-99ec-e702e70d6037"
      },
      "source": [
        "driver.current_url"
      ],
      "execution_count": 4,
      "outputs": [
        {
          "output_type": "execute_result",
          "data": {
            "text/plain": [
              "'https://play.google.com/store/apps/details?id=com.abvmobile&showAllReviews=true'"
            ]
          },
          "metadata": {
            "tags": []
          },
          "execution_count": 4
        }
      ]
    },
    {
      "cell_type": "code",
      "metadata": {
        "id": "wZawerUae3gl",
        "colab_type": "code",
        "colab": {
          "base_uri": "https://localhost:8080/",
          "height": 34
        },
        "outputId": "84fe2e1f-30d5-41a5-8e1c-3c365c476125"
      },
      "source": [
        ""
      ],
      "execution_count": 4,
      "outputs": [
        {
          "output_type": "execute_result",
          "data": {
            "text/plain": [
              "17"
            ]
          },
          "metadata": {
            "tags": []
          },
          "execution_count": 4
        }
      ]
    },
    {
      "cell_type": "code",
      "metadata": {
        "id": "9bkphIuL2qQK",
        "colab_type": "code",
        "colab": {
          "base_uri": "https://localhost:8080/",
          "height": 34
        },
        "outputId": "61b1d45e-4332-4f2a-ccaa-bc85fdd7ede6"
      },
      "source": [
        "bu = driver.find_elements_by_css_selector('button.LkLjZd.ScJHi.OzU4dc')\n",
        "\n",
        "#driver.find_element_by_css_selector('span.CwaK9').click()\n",
        "\n",
        "\n",
        "len(bu)"
      ],
      "execution_count": 5,
      "outputs": [
        {
          "output_type": "execute_result",
          "data": {
            "text/plain": [
              "17"
            ]
          },
          "metadata": {
            "tags": []
          },
          "execution_count": 5
        }
      ]
    },
    {
      "cell_type": "code",
      "metadata": {
        "id": "6YRKtP0hTbWd",
        "colab_type": "code",
        "colab": {
          "base_uri": "https://localhost:8080/",
          "height": 402
        },
        "outputId": "e5ae2dd5-8417-4247-aae1-67ad98bea88c"
      },
      "source": [
        "for item in bu:\n",
        "  time.sleep(1)\n",
        "  item.click()\n",
        "  time.sleep(1)"
      ],
      "execution_count": 6,
      "outputs": [
        {
          "output_type": "error",
          "ename": "ElementClickInterceptedException",
          "evalue": "ignored",
          "traceback": [
            "\u001b[0;31m---------------------------------------------------------------------------\u001b[0m",
            "\u001b[0;31mElementClickInterceptedException\u001b[0m          Traceback (most recent call last)",
            "\u001b[0;32m<ipython-input-6-138b90a20dd0>\u001b[0m in \u001b[0;36m<module>\u001b[0;34m()\u001b[0m\n\u001b[1;32m      1\u001b[0m \u001b[0;32mfor\u001b[0m \u001b[0mitem\u001b[0m \u001b[0;32min\u001b[0m \u001b[0mbu\u001b[0m\u001b[0;34m:\u001b[0m\u001b[0;34m\u001b[0m\u001b[0;34m\u001b[0m\u001b[0m\n\u001b[1;32m      2\u001b[0m   \u001b[0mtime\u001b[0m\u001b[0;34m.\u001b[0m\u001b[0msleep\u001b[0m\u001b[0;34m(\u001b[0m\u001b[0;36m1\u001b[0m\u001b[0;34m)\u001b[0m\u001b[0;34m\u001b[0m\u001b[0;34m\u001b[0m\u001b[0m\n\u001b[0;32m----> 3\u001b[0;31m   \u001b[0mitem\u001b[0m\u001b[0;34m.\u001b[0m\u001b[0mclick\u001b[0m\u001b[0;34m(\u001b[0m\u001b[0;34m)\u001b[0m\u001b[0;34m\u001b[0m\u001b[0;34m\u001b[0m\u001b[0m\n\u001b[0m\u001b[1;32m      4\u001b[0m   \u001b[0mtime\u001b[0m\u001b[0;34m.\u001b[0m\u001b[0msleep\u001b[0m\u001b[0;34m(\u001b[0m\u001b[0;36m1\u001b[0m\u001b[0;34m)\u001b[0m\u001b[0;34m\u001b[0m\u001b[0;34m\u001b[0m\u001b[0m\n",
            "\u001b[0;32m/usr/local/lib/python3.6/dist-packages/selenium/webdriver/remote/webelement.py\u001b[0m in \u001b[0;36mclick\u001b[0;34m(self)\u001b[0m\n\u001b[1;32m     78\u001b[0m     \u001b[0;32mdef\u001b[0m \u001b[0mclick\u001b[0m\u001b[0;34m(\u001b[0m\u001b[0mself\u001b[0m\u001b[0;34m)\u001b[0m\u001b[0;34m:\u001b[0m\u001b[0;34m\u001b[0m\u001b[0;34m\u001b[0m\u001b[0m\n\u001b[1;32m     79\u001b[0m         \u001b[0;34m\"\"\"Clicks the element.\"\"\"\u001b[0m\u001b[0;34m\u001b[0m\u001b[0;34m\u001b[0m\u001b[0m\n\u001b[0;32m---> 80\u001b[0;31m         \u001b[0mself\u001b[0m\u001b[0;34m.\u001b[0m\u001b[0m_execute\u001b[0m\u001b[0;34m(\u001b[0m\u001b[0mCommand\u001b[0m\u001b[0;34m.\u001b[0m\u001b[0mCLICK_ELEMENT\u001b[0m\u001b[0;34m)\u001b[0m\u001b[0;34m\u001b[0m\u001b[0;34m\u001b[0m\u001b[0m\n\u001b[0m\u001b[1;32m     81\u001b[0m \u001b[0;34m\u001b[0m\u001b[0m\n\u001b[1;32m     82\u001b[0m     \u001b[0;32mdef\u001b[0m \u001b[0msubmit\u001b[0m\u001b[0;34m(\u001b[0m\u001b[0mself\u001b[0m\u001b[0;34m)\u001b[0m\u001b[0;34m:\u001b[0m\u001b[0;34m\u001b[0m\u001b[0;34m\u001b[0m\u001b[0m\n",
            "\u001b[0;32m/usr/local/lib/python3.6/dist-packages/selenium/webdriver/remote/webelement.py\u001b[0m in \u001b[0;36m_execute\u001b[0;34m(self, command, params)\u001b[0m\n\u001b[1;32m    631\u001b[0m             \u001b[0mparams\u001b[0m \u001b[0;34m=\u001b[0m \u001b[0;34m{\u001b[0m\u001b[0;34m}\u001b[0m\u001b[0;34m\u001b[0m\u001b[0;34m\u001b[0m\u001b[0m\n\u001b[1;32m    632\u001b[0m         \u001b[0mparams\u001b[0m\u001b[0;34m[\u001b[0m\u001b[0;34m'id'\u001b[0m\u001b[0;34m]\u001b[0m \u001b[0;34m=\u001b[0m \u001b[0mself\u001b[0m\u001b[0;34m.\u001b[0m\u001b[0m_id\u001b[0m\u001b[0;34m\u001b[0m\u001b[0;34m\u001b[0m\u001b[0m\n\u001b[0;32m--> 633\u001b[0;31m         \u001b[0;32mreturn\u001b[0m \u001b[0mself\u001b[0m\u001b[0;34m.\u001b[0m\u001b[0m_parent\u001b[0m\u001b[0;34m.\u001b[0m\u001b[0mexecute\u001b[0m\u001b[0;34m(\u001b[0m\u001b[0mcommand\u001b[0m\u001b[0;34m,\u001b[0m \u001b[0mparams\u001b[0m\u001b[0;34m)\u001b[0m\u001b[0;34m\u001b[0m\u001b[0;34m\u001b[0m\u001b[0m\n\u001b[0m\u001b[1;32m    634\u001b[0m \u001b[0;34m\u001b[0m\u001b[0m\n\u001b[1;32m    635\u001b[0m     \u001b[0;32mdef\u001b[0m \u001b[0mfind_element\u001b[0m\u001b[0;34m(\u001b[0m\u001b[0mself\u001b[0m\u001b[0;34m,\u001b[0m \u001b[0mby\u001b[0m\u001b[0;34m=\u001b[0m\u001b[0mBy\u001b[0m\u001b[0;34m.\u001b[0m\u001b[0mID\u001b[0m\u001b[0;34m,\u001b[0m \u001b[0mvalue\u001b[0m\u001b[0;34m=\u001b[0m\u001b[0;32mNone\u001b[0m\u001b[0;34m)\u001b[0m\u001b[0;34m:\u001b[0m\u001b[0;34m\u001b[0m\u001b[0;34m\u001b[0m\u001b[0m\n",
            "\u001b[0;32m/usr/local/lib/python3.6/dist-packages/selenium/webdriver/remote/webdriver.py\u001b[0m in \u001b[0;36mexecute\u001b[0;34m(self, driver_command, params)\u001b[0m\n\u001b[1;32m    319\u001b[0m         \u001b[0mresponse\u001b[0m \u001b[0;34m=\u001b[0m \u001b[0mself\u001b[0m\u001b[0;34m.\u001b[0m\u001b[0mcommand_executor\u001b[0m\u001b[0;34m.\u001b[0m\u001b[0mexecute\u001b[0m\u001b[0;34m(\u001b[0m\u001b[0mdriver_command\u001b[0m\u001b[0;34m,\u001b[0m \u001b[0mparams\u001b[0m\u001b[0;34m)\u001b[0m\u001b[0;34m\u001b[0m\u001b[0;34m\u001b[0m\u001b[0m\n\u001b[1;32m    320\u001b[0m         \u001b[0;32mif\u001b[0m \u001b[0mresponse\u001b[0m\u001b[0;34m:\u001b[0m\u001b[0;34m\u001b[0m\u001b[0;34m\u001b[0m\u001b[0m\n\u001b[0;32m--> 321\u001b[0;31m             \u001b[0mself\u001b[0m\u001b[0;34m.\u001b[0m\u001b[0merror_handler\u001b[0m\u001b[0;34m.\u001b[0m\u001b[0mcheck_response\u001b[0m\u001b[0;34m(\u001b[0m\u001b[0mresponse\u001b[0m\u001b[0;34m)\u001b[0m\u001b[0;34m\u001b[0m\u001b[0;34m\u001b[0m\u001b[0m\n\u001b[0m\u001b[1;32m    322\u001b[0m             response['value'] = self._unwrap_value(\n\u001b[1;32m    323\u001b[0m                 response.get('value', None))\n",
            "\u001b[0;32m/usr/local/lib/python3.6/dist-packages/selenium/webdriver/remote/errorhandler.py\u001b[0m in \u001b[0;36mcheck_response\u001b[0;34m(self, response)\u001b[0m\n\u001b[1;32m    240\u001b[0m                 \u001b[0malert_text\u001b[0m \u001b[0;34m=\u001b[0m \u001b[0mvalue\u001b[0m\u001b[0;34m[\u001b[0m\u001b[0;34m'alert'\u001b[0m\u001b[0;34m]\u001b[0m\u001b[0;34m.\u001b[0m\u001b[0mget\u001b[0m\u001b[0;34m(\u001b[0m\u001b[0;34m'text'\u001b[0m\u001b[0;34m)\u001b[0m\u001b[0;34m\u001b[0m\u001b[0;34m\u001b[0m\u001b[0m\n\u001b[1;32m    241\u001b[0m             \u001b[0;32mraise\u001b[0m \u001b[0mexception_class\u001b[0m\u001b[0;34m(\u001b[0m\u001b[0mmessage\u001b[0m\u001b[0;34m,\u001b[0m \u001b[0mscreen\u001b[0m\u001b[0;34m,\u001b[0m \u001b[0mstacktrace\u001b[0m\u001b[0;34m,\u001b[0m \u001b[0malert_text\u001b[0m\u001b[0;34m)\u001b[0m\u001b[0;34m\u001b[0m\u001b[0;34m\u001b[0m\u001b[0m\n\u001b[0;32m--> 242\u001b[0;31m         \u001b[0;32mraise\u001b[0m \u001b[0mexception_class\u001b[0m\u001b[0;34m(\u001b[0m\u001b[0mmessage\u001b[0m\u001b[0;34m,\u001b[0m \u001b[0mscreen\u001b[0m\u001b[0;34m,\u001b[0m \u001b[0mstacktrace\u001b[0m\u001b[0;34m)\u001b[0m\u001b[0;34m\u001b[0m\u001b[0;34m\u001b[0m\u001b[0m\n\u001b[0m\u001b[1;32m    243\u001b[0m \u001b[0;34m\u001b[0m\u001b[0m\n\u001b[1;32m    244\u001b[0m     \u001b[0;32mdef\u001b[0m \u001b[0m_value_or_default\u001b[0m\u001b[0;34m(\u001b[0m\u001b[0mself\u001b[0m\u001b[0;34m,\u001b[0m \u001b[0mobj\u001b[0m\u001b[0;34m,\u001b[0m \u001b[0mkey\u001b[0m\u001b[0;34m,\u001b[0m \u001b[0mdefault\u001b[0m\u001b[0;34m)\u001b[0m\u001b[0;34m:\u001b[0m\u001b[0;34m\u001b[0m\u001b[0;34m\u001b[0m\u001b[0m\n",
            "\u001b[0;31mElementClickInterceptedException\u001b[0m: Message: element click intercepted: Element <button class=\"LkLjZd ScJHi OzU4dc  \" jsaction=\"click:TiglPc\" jsname=\"gxjVle\">...</button> is not clickable at point (398, 10). Other element would receive the click: <a href=\"/store/apps\" class=\"L9ZZW uJjCzb\">...</a>\n  (Session info: headless chrome=78.0.3904.70)\n"
          ]
        }
      ]
    },
    {
      "cell_type": "code",
      "metadata": {
        "id": "JfTSmLz060Sw",
        "colab_type": "code",
        "colab": {
          "base_uri": "https://localhost:8080/",
          "height": 34
        },
        "outputId": "6d389956-63b0-4f73-bfd9-5324daab3136"
      },
      "source": [
        "driver.current_url"
      ],
      "execution_count": 7,
      "outputs": [
        {
          "output_type": "execute_result",
          "data": {
            "text/plain": [
              "'https://play.google.com/store/apps/details?id=com.abvmobile&showAllReviews=true'"
            ]
          },
          "metadata": {
            "tags": []
          },
          "execution_count": 7
        }
      ]
    },
    {
      "cell_type": "code",
      "metadata": {
        "id": "UMruUKmRynMm",
        "colab_type": "code",
        "colab": {
          "base_uri": "https://localhost:8080/",
          "height": 347
        },
        "outputId": "db637ae4-a62f-423e-cdab-002880e42104"
      },
      "source": [
        "driver.find_element_by_xpath(\"//div[@button='U26fgb.O0WRkf.oG5Srb.C0oVfc.n9lfJ.M9Bg4d']\")\n",
        "#driver.find_element_by_xpath(\"//span[@jsname='bN97Pc']\").text"
      ],
      "execution_count": 54,
      "outputs": [
        {
          "output_type": "error",
          "ename": "NoSuchElementException",
          "evalue": "ignored",
          "traceback": [
            "\u001b[0;31m---------------------------------------------------------------------------\u001b[0m",
            "\u001b[0;31mNoSuchElementException\u001b[0m                    Traceback (most recent call last)",
            "\u001b[0;32m<ipython-input-54-c9080cd77820>\u001b[0m in \u001b[0;36m<module>\u001b[0;34m()\u001b[0m\n\u001b[0;32m----> 1\u001b[0;31m \u001b[0mdriver\u001b[0m\u001b[0;34m.\u001b[0m\u001b[0mfind_element_by_xpath\u001b[0m\u001b[0;34m(\u001b[0m\u001b[0;34m\"//div[@button='U26fgb.O0WRkf.oG5Srb.C0oVfc.n9lfJ.M9Bg4d']\"\u001b[0m\u001b[0;34m)\u001b[0m\u001b[0;34m\u001b[0m\u001b[0;34m\u001b[0m\u001b[0m\n\u001b[0m\u001b[1;32m      2\u001b[0m \u001b[0;31m#driver.find_element_by_xpath(\"//span[@jsname='bN97Pc']\").text\u001b[0m\u001b[0;34m\u001b[0m\u001b[0;34m\u001b[0m\u001b[0;34m\u001b[0m\u001b[0m\n",
            "\u001b[0;32m/usr/local/lib/python3.6/dist-packages/selenium/webdriver/remote/webdriver.py\u001b[0m in \u001b[0;36mfind_element_by_xpath\u001b[0;34m(self, xpath)\u001b[0m\n\u001b[1;32m    392\u001b[0m             \u001b[0melement\u001b[0m \u001b[0;34m=\u001b[0m \u001b[0mdriver\u001b[0m\u001b[0;34m.\u001b[0m\u001b[0mfind_element_by_xpath\u001b[0m\u001b[0;34m(\u001b[0m\u001b[0;34m'//div/td[1]'\u001b[0m\u001b[0;34m)\u001b[0m\u001b[0;34m\u001b[0m\u001b[0;34m\u001b[0m\u001b[0m\n\u001b[1;32m    393\u001b[0m         \"\"\"\n\u001b[0;32m--> 394\u001b[0;31m         \u001b[0;32mreturn\u001b[0m \u001b[0mself\u001b[0m\u001b[0;34m.\u001b[0m\u001b[0mfind_element\u001b[0m\u001b[0;34m(\u001b[0m\u001b[0mby\u001b[0m\u001b[0;34m=\u001b[0m\u001b[0mBy\u001b[0m\u001b[0;34m.\u001b[0m\u001b[0mXPATH\u001b[0m\u001b[0;34m,\u001b[0m \u001b[0mvalue\u001b[0m\u001b[0;34m=\u001b[0m\u001b[0mxpath\u001b[0m\u001b[0;34m)\u001b[0m\u001b[0;34m\u001b[0m\u001b[0;34m\u001b[0m\u001b[0m\n\u001b[0m\u001b[1;32m    395\u001b[0m \u001b[0;34m\u001b[0m\u001b[0m\n\u001b[1;32m    396\u001b[0m     \u001b[0;32mdef\u001b[0m \u001b[0mfind_elements_by_xpath\u001b[0m\u001b[0;34m(\u001b[0m\u001b[0mself\u001b[0m\u001b[0;34m,\u001b[0m \u001b[0mxpath\u001b[0m\u001b[0;34m)\u001b[0m\u001b[0;34m:\u001b[0m\u001b[0;34m\u001b[0m\u001b[0;34m\u001b[0m\u001b[0m\n",
            "\u001b[0;32m/usr/local/lib/python3.6/dist-packages/selenium/webdriver/remote/webdriver.py\u001b[0m in \u001b[0;36mfind_element\u001b[0;34m(self, by, value)\u001b[0m\n\u001b[1;32m    976\u001b[0m         return self.execute(Command.FIND_ELEMENT, {\n\u001b[1;32m    977\u001b[0m             \u001b[0;34m'using'\u001b[0m\u001b[0;34m:\u001b[0m \u001b[0mby\u001b[0m\u001b[0;34m,\u001b[0m\u001b[0;34m\u001b[0m\u001b[0;34m\u001b[0m\u001b[0m\n\u001b[0;32m--> 978\u001b[0;31m             'value': value})['value']\n\u001b[0m\u001b[1;32m    979\u001b[0m \u001b[0;34m\u001b[0m\u001b[0m\n\u001b[1;32m    980\u001b[0m     \u001b[0;32mdef\u001b[0m \u001b[0mfind_elements\u001b[0m\u001b[0;34m(\u001b[0m\u001b[0mself\u001b[0m\u001b[0;34m,\u001b[0m \u001b[0mby\u001b[0m\u001b[0;34m=\u001b[0m\u001b[0mBy\u001b[0m\u001b[0;34m.\u001b[0m\u001b[0mID\u001b[0m\u001b[0;34m,\u001b[0m \u001b[0mvalue\u001b[0m\u001b[0;34m=\u001b[0m\u001b[0;32mNone\u001b[0m\u001b[0;34m)\u001b[0m\u001b[0;34m:\u001b[0m\u001b[0;34m\u001b[0m\u001b[0;34m\u001b[0m\u001b[0m\n",
            "\u001b[0;32m/usr/local/lib/python3.6/dist-packages/selenium/webdriver/remote/webdriver.py\u001b[0m in \u001b[0;36mexecute\u001b[0;34m(self, driver_command, params)\u001b[0m\n\u001b[1;32m    319\u001b[0m         \u001b[0mresponse\u001b[0m \u001b[0;34m=\u001b[0m \u001b[0mself\u001b[0m\u001b[0;34m.\u001b[0m\u001b[0mcommand_executor\u001b[0m\u001b[0;34m.\u001b[0m\u001b[0mexecute\u001b[0m\u001b[0;34m(\u001b[0m\u001b[0mdriver_command\u001b[0m\u001b[0;34m,\u001b[0m \u001b[0mparams\u001b[0m\u001b[0;34m)\u001b[0m\u001b[0;34m\u001b[0m\u001b[0;34m\u001b[0m\u001b[0m\n\u001b[1;32m    320\u001b[0m         \u001b[0;32mif\u001b[0m \u001b[0mresponse\u001b[0m\u001b[0;34m:\u001b[0m\u001b[0;34m\u001b[0m\u001b[0;34m\u001b[0m\u001b[0m\n\u001b[0;32m--> 321\u001b[0;31m             \u001b[0mself\u001b[0m\u001b[0;34m.\u001b[0m\u001b[0merror_handler\u001b[0m\u001b[0;34m.\u001b[0m\u001b[0mcheck_response\u001b[0m\u001b[0;34m(\u001b[0m\u001b[0mresponse\u001b[0m\u001b[0;34m)\u001b[0m\u001b[0;34m\u001b[0m\u001b[0;34m\u001b[0m\u001b[0m\n\u001b[0m\u001b[1;32m    322\u001b[0m             response['value'] = self._unwrap_value(\n\u001b[1;32m    323\u001b[0m                 response.get('value', None))\n",
            "\u001b[0;32m/usr/local/lib/python3.6/dist-packages/selenium/webdriver/remote/errorhandler.py\u001b[0m in \u001b[0;36mcheck_response\u001b[0;34m(self, response)\u001b[0m\n\u001b[1;32m    240\u001b[0m                 \u001b[0malert_text\u001b[0m \u001b[0;34m=\u001b[0m \u001b[0mvalue\u001b[0m\u001b[0;34m[\u001b[0m\u001b[0;34m'alert'\u001b[0m\u001b[0;34m]\u001b[0m\u001b[0;34m.\u001b[0m\u001b[0mget\u001b[0m\u001b[0;34m(\u001b[0m\u001b[0;34m'text'\u001b[0m\u001b[0;34m)\u001b[0m\u001b[0;34m\u001b[0m\u001b[0;34m\u001b[0m\u001b[0m\n\u001b[1;32m    241\u001b[0m             \u001b[0;32mraise\u001b[0m \u001b[0mexception_class\u001b[0m\u001b[0;34m(\u001b[0m\u001b[0mmessage\u001b[0m\u001b[0;34m,\u001b[0m \u001b[0mscreen\u001b[0m\u001b[0;34m,\u001b[0m \u001b[0mstacktrace\u001b[0m\u001b[0;34m,\u001b[0m \u001b[0malert_text\u001b[0m\u001b[0;34m)\u001b[0m\u001b[0;34m\u001b[0m\u001b[0;34m\u001b[0m\u001b[0m\n\u001b[0;32m--> 242\u001b[0;31m         \u001b[0;32mraise\u001b[0m \u001b[0mexception_class\u001b[0m\u001b[0;34m(\u001b[0m\u001b[0mmessage\u001b[0m\u001b[0;34m,\u001b[0m \u001b[0mscreen\u001b[0m\u001b[0;34m,\u001b[0m \u001b[0mstacktrace\u001b[0m\u001b[0;34m)\u001b[0m\u001b[0;34m\u001b[0m\u001b[0;34m\u001b[0m\u001b[0m\n\u001b[0m\u001b[1;32m    243\u001b[0m \u001b[0;34m\u001b[0m\u001b[0m\n\u001b[1;32m    244\u001b[0m     \u001b[0;32mdef\u001b[0m \u001b[0m_value_or_default\u001b[0m\u001b[0;34m(\u001b[0m\u001b[0mself\u001b[0m\u001b[0;34m,\u001b[0m \u001b[0mobj\u001b[0m\u001b[0;34m,\u001b[0m \u001b[0mkey\u001b[0m\u001b[0;34m,\u001b[0m \u001b[0mdefault\u001b[0m\u001b[0;34m)\u001b[0m\u001b[0;34m:\u001b[0m\u001b[0;34m\u001b[0m\u001b[0;34m\u001b[0m\u001b[0m\n",
            "\u001b[0;31mNoSuchElementException\u001b[0m: Message: no such element: Unable to locate element: {\"method\":\"xpath\",\"selector\":\"//div[@button='U26fgb.O0WRkf.oG5Srb.C0oVfc.n9lfJ.M9Bg4d']\"}\n  (Session info: headless chrome=78.0.3904.70)\n"
          ]
        }
      ]
    },
    {
      "cell_type": "code",
      "metadata": {
        "id": "gK5ST9qpyR9B",
        "colab_type": "code",
        "colab": {
          "base_uri": "https://localhost:8080/",
          "height": 34
        },
        "outputId": "b3cd751e-76bf-41fc-f83e-6741f287e3fc"
      },
      "source": [
        "driver.find_elements_by_link_text('Full Review')\n",
        "#(By.XPATH, '//button[text()=\"Read All Reviews\"]')"
      ],
      "execution_count": 55,
      "outputs": [
        {
          "output_type": "execute_result",
          "data": {
            "text/plain": [
              "[]"
            ]
          },
          "metadata": {
            "tags": []
          },
          "execution_count": 55
        }
      ]
    },
    {
      "cell_type": "code",
      "metadata": {
        "id": "9-EDcGKwBi0j",
        "colab_type": "code",
        "colab": {
          "base_uri": "https://localhost:8080/",
          "height": 208
        },
        "outputId": "b5120b61-b52d-4c5f-b5e5-f1b9a3abb7fa"
      },
      "source": [
        "for item in driver.find_elements(By.XPATH, '//button[text()=\"Full Review\"]'):\n",
        "  print(item.text)"
      ],
      "execution_count": 69,
      "outputs": [
        {
          "output_type": "stream",
          "text": [
            "Full Review\n",
            "Full Review\n",
            "Full Review\n",
            "Full Review\n",
            "Full Review\n",
            "Full Review\n",
            "Full Review\n",
            "Full Review\n",
            "Full Review\n",
            "Full Review\n",
            "Full Review\n"
          ],
          "name": "stdout"
        }
      ]
    },
    {
      "cell_type": "code",
      "metadata": {
        "id": "AxuqoAI7wl2V",
        "colab_type": "code",
        "colab": {}
      },
      "source": [
        "for item in driver.find_elements(By.XPATH, '//button[text()=\"Full Review\"]'):\n",
        "  item.click()\n",
        "  time.sleep(1)"
      ],
      "execution_count": 0,
      "outputs": []
    },
    {
      "cell_type": "code",
      "metadata": {
        "id": "rqRNL8MQwPrb",
        "colab_type": "code",
        "colab": {
          "base_uri": "https://localhost:8080/",
          "height": 295
        },
        "outputId": "d4204b3a-f2b6-4b37-a3ff-6b0386588362"
      },
      "source": [
        ""
      ],
      "execution_count": 10,
      "outputs": [
        {
          "output_type": "execute_result",
          "data": {
            "text/plain": [
              "[<selenium.webdriver.remote.webelement.WebElement (session=\"ae10500c3b3b53c7bac3f5bcff1a106e\", element=\"76c03bc2-8ecc-4481-a9b9-57b092b5120a\")>,\n",
              " <selenium.webdriver.remote.webelement.WebElement (session=\"ae10500c3b3b53c7bac3f5bcff1a106e\", element=\"a7be3c4e-3fe4-4f45-9afa-63fb83cfb346\")>,\n",
              " <selenium.webdriver.remote.webelement.WebElement (session=\"ae10500c3b3b53c7bac3f5bcff1a106e\", element=\"c972dc2b-c863-43e9-8f91-5abb8e76f33e\")>,\n",
              " <selenium.webdriver.remote.webelement.WebElement (session=\"ae10500c3b3b53c7bac3f5bcff1a106e\", element=\"5959de5d-46a1-4641-b02e-9fc58d964be2\")>,\n",
              " <selenium.webdriver.remote.webelement.WebElement (session=\"ae10500c3b3b53c7bac3f5bcff1a106e\", element=\"8141a1b1-380a-42ae-a9b3-40de8be36a76\")>,\n",
              " <selenium.webdriver.remote.webelement.WebElement (session=\"ae10500c3b3b53c7bac3f5bcff1a106e\", element=\"d7ec374f-6ae6-410f-9a32-f6fe9f40b214\")>,\n",
              " <selenium.webdriver.remote.webelement.WebElement (session=\"ae10500c3b3b53c7bac3f5bcff1a106e\", element=\"9e56b688-f3e8-43b4-91e2-9f8084bb4916\")>,\n",
              " <selenium.webdriver.remote.webelement.WebElement (session=\"ae10500c3b3b53c7bac3f5bcff1a106e\", element=\"6d47cf1c-8ab7-4b40-b220-096ae91826c3\")>,\n",
              " <selenium.webdriver.remote.webelement.WebElement (session=\"ae10500c3b3b53c7bac3f5bcff1a106e\", element=\"b1a2b2ed-f667-4a84-a707-feeb0f7bc27e\")>,\n",
              " <selenium.webdriver.remote.webelement.WebElement (session=\"ae10500c3b3b53c7bac3f5bcff1a106e\", element=\"2ffdd0de-33a9-4ce4-bbb4-36e97d53d0d0\")>,\n",
              " <selenium.webdriver.remote.webelement.WebElement (session=\"ae10500c3b3b53c7bac3f5bcff1a106e\", element=\"d704cc29-bffb-410d-b009-cd0475084f68\")>,\n",
              " <selenium.webdriver.remote.webelement.WebElement (session=\"ae10500c3b3b53c7bac3f5bcff1a106e\", element=\"401402d6-85ca-43bd-a592-0a228dd12fd4\")>,\n",
              " <selenium.webdriver.remote.webelement.WebElement (session=\"ae10500c3b3b53c7bac3f5bcff1a106e\", element=\"2e5338e7-765f-4a4d-978b-cc2233f0a624\")>,\n",
              " <selenium.webdriver.remote.webelement.WebElement (session=\"ae10500c3b3b53c7bac3f5bcff1a106e\", element=\"2270d54f-39c1-4bd9-91e9-c88bb379fd77\")>,\n",
              " <selenium.webdriver.remote.webelement.WebElement (session=\"ae10500c3b3b53c7bac3f5bcff1a106e\", element=\"44a073c9-d266-4dbc-8d3c-0c3511d3a937\")>,\n",
              " <selenium.webdriver.remote.webelement.WebElement (session=\"ae10500c3b3b53c7bac3f5bcff1a106e\", element=\"a80159cd-cff7-40dd-a287-4a3e97ad9db5\")>]"
            ]
          },
          "metadata": {
            "tags": []
          },
          "execution_count": 10
        }
      ]
    },
    {
      "cell_type": "code",
      "metadata": {
        "id": "LubCM2uXb44n",
        "colab_type": "code",
        "colab": {
          "base_uri": "https://localhost:8080/",
          "height": 263
        },
        "outputId": "6c2fb761-c834-49e8-8e6d-9cdeb8255f82"
      },
      "source": [
        "full_reviews  = driver.find_elements(by='xpath',value=\"//span[@jsname='fbQN7e']\")\n",
        "print(full_reviews)\n",
        "for review in full_reviews:\n",
        "        for paragraph in review.find_elements(By.TAG_NAME, 'span'):\n",
        "            print(paragraph.get_attribute('textContent').encode(\"utf-8\"))\n",
        "        print('\\n============================\\n')"
      ],
      "execution_count": 7,
      "outputs": [
        {
          "output_type": "stream",
          "text": [
            "[<selenium.webdriver.remote.webelement.WebElement (session=\"56ee0aef89f58122d1f4ea94b8c1b4e5\", element=\"b0a3e216-285d-4e0f-ba97-3130abfbcf8d\")>, <selenium.webdriver.remote.webelement.WebElement (session=\"56ee0aef89f58122d1f4ea94b8c1b4e5\", element=\"fe9b60ee-b1a5-46c1-9e1b-7bbcfd4292eb\")>, <selenium.webdriver.remote.webelement.WebElement (session=\"56ee0aef89f58122d1f4ea94b8c1b4e5\", element=\"46abb7ef-ec36-4d72-848b-90fd34c02669\")>, <selenium.webdriver.remote.webelement.WebElement (session=\"56ee0aef89f58122d1f4ea94b8c1b4e5\", element=\"d8233220-c3d9-4fd0-bcde-1d7491d486da\")>]\n",
            "\n",
            "============================\n",
            "\n",
            "\n",
            "============================\n",
            "\n",
            "\n",
            "============================\n",
            "\n",
            "\n",
            "============================\n",
            "\n"
          ],
          "name": "stdout"
        }
      ]
    },
    {
      "cell_type": "code",
      "metadata": {
        "id": "QZs8B0IBdg9U",
        "colab_type": "code",
        "colab": {
          "base_uri": "https://localhost:8080/",
          "height": 34
        },
        "outputId": "2072e4b8-405c-451e-b5ab-e47e23cf97b7"
      },
      "source": [
        "full_reviews[0].find_elements(By.TAG_NAME, 'p')"
      ],
      "execution_count": 11,
      "outputs": [
        {
          "output_type": "execute_result",
          "data": {
            "text/plain": [
              "[]"
            ]
          },
          "metadata": {
            "tags": []
          },
          "execution_count": 11
        }
      ]
    },
    {
      "cell_type": "code",
      "metadata": {
        "id": "ah2hZDh_8WdE",
        "colab_type": "code",
        "colab": {
          "base_uri": "https://localhost:8080/",
          "height": 54
        },
        "outputId": "bbd7b766-ce1c-4e0c-c9b4-fc31671142d6"
      },
      "source": [
        "\n",
        "driver.find_element_by_xpath(\"//span[@jsname='bN97Pc']\").text"
      ],
      "execution_count": 72,
      "outputs": [
        {
          "output_type": "execute_result",
          "data": {
            "text/plain": [
              "\"Loving the concept of this app. Even without the donations it's still a great idea. However that is a major incentive. What that said almost everything works pretty well however when you take a photo it comes out sideways and that's aggravating cuz you can't rotate it or anything. But other than tha...\\nFull Review\""
            ]
          },
          "metadata": {
            "tags": []
          },
          "execution_count": 72
        }
      ]
    },
    {
      "cell_type": "code",
      "metadata": {
        "id": "0usz-rM0Dktj",
        "colab_type": "code",
        "colab": {
          "base_uri": "https://localhost:8080/",
          "height": 34
        },
        "outputId": "d6f73550-36d6-4fc9-f454-6f16d760db33"
      },
      "source": [
        "driver.find_element_by_xpath(\"//span[@class='p2TkOb']\").text"
      ],
      "execution_count": 102,
      "outputs": [
        {
          "output_type": "execute_result",
          "data": {
            "text/plain": [
              "'October 25, 2019'"
            ]
          },
          "metadata": {
            "tags": []
          },
          "execution_count": 102
        }
      ]
    },
    {
      "cell_type": "code",
      "metadata": {
        "id": "KhT9tbL6bdtD",
        "colab_type": "code",
        "colab": {
          "base_uri": "https://localhost:8080/",
          "height": 419
        },
        "outputId": "fe591799-9c82-4dbe-c219-412793ea2764"
      },
      "source": [
        "\n",
        "driver.find_element_by_xpath(\"//input[@role='button' and @class='U26fgb O0WRkf oG5Srb C0oVfc n9lfJ M9Bg4d' and @jsaction='click:cOuCgd; mousedown:UX7yZ; mouseup:lbsD7e; mouseenter:tfO1Yc; mouseleave:JywGue; focus:AHmuwe; blur:O22p3e; contextmenu:mg9Pef;touchstart:p6p2H; touchmove:FwuNnf; touchend:yfqBxc(preventMouseEvents=true|preventDefault=true); touchcancel:JMtRjd;' and @jscontroller='VXdfxd']\").click()\n",
        "\n",
        "time.sleep(3)\n",
        "\n"
      ],
      "execution_count": 105,
      "outputs": [
        {
          "output_type": "error",
          "ename": "NoSuchElementException",
          "evalue": "ignored",
          "traceback": [
            "\u001b[0;31m---------------------------------------------------------------------------\u001b[0m",
            "\u001b[0;31mNoSuchElementException\u001b[0m                    Traceback (most recent call last)",
            "\u001b[0;32m<ipython-input-105-cf9ffd1c40e6>\u001b[0m in \u001b[0;36m<module>\u001b[0;34m()\u001b[0m\n\u001b[1;32m      1\u001b[0m \u001b[0;34m\u001b[0m\u001b[0m\n\u001b[0;32m----> 2\u001b[0;31m \u001b[0mdriver\u001b[0m\u001b[0;34m.\u001b[0m\u001b[0mfind_element_by_xpath\u001b[0m\u001b[0;34m(\u001b[0m\u001b[0;34m\"//input[@role='button' and @class='U26fgb O0WRkf oG5Srb C0oVfc n9lfJ M9Bg4d' and @jsaction='click:cOuCgd; mousedown:UX7yZ; mouseup:lbsD7e; mouseenter:tfO1Yc; mouseleave:JywGue; focus:AHmuwe; blur:O22p3e; contextmenu:mg9Pef;touchstart:p6p2H; touchmove:FwuNnf; touchend:yfqBxc(preventMouseEvents=true|preventDefault=true); touchcancel:JMtRjd;' and @jscontroller='VXdfxd']\"\u001b[0m\u001b[0;34m)\u001b[0m\u001b[0;34m.\u001b[0m\u001b[0mclick\u001b[0m\u001b[0;34m(\u001b[0m\u001b[0;34m)\u001b[0m\u001b[0;34m\u001b[0m\u001b[0;34m\u001b[0m\u001b[0m\n\u001b[0m\u001b[1;32m      3\u001b[0m \u001b[0;34m\u001b[0m\u001b[0m\n\u001b[1;32m      4\u001b[0m \u001b[0;34m\u001b[0m\u001b[0m\n\u001b[1;32m      5\u001b[0m \u001b[0;34m\u001b[0m\u001b[0m\n",
            "\u001b[0;32m/usr/local/lib/python3.6/dist-packages/selenium/webdriver/remote/webdriver.py\u001b[0m in \u001b[0;36mfind_element_by_xpath\u001b[0;34m(self, xpath)\u001b[0m\n\u001b[1;32m    392\u001b[0m             \u001b[0melement\u001b[0m \u001b[0;34m=\u001b[0m \u001b[0mdriver\u001b[0m\u001b[0;34m.\u001b[0m\u001b[0mfind_element_by_xpath\u001b[0m\u001b[0;34m(\u001b[0m\u001b[0;34m'//div/td[1]'\u001b[0m\u001b[0;34m)\u001b[0m\u001b[0;34m\u001b[0m\u001b[0;34m\u001b[0m\u001b[0m\n\u001b[1;32m    393\u001b[0m         \"\"\"\n\u001b[0;32m--> 394\u001b[0;31m         \u001b[0;32mreturn\u001b[0m \u001b[0mself\u001b[0m\u001b[0;34m.\u001b[0m\u001b[0mfind_element\u001b[0m\u001b[0;34m(\u001b[0m\u001b[0mby\u001b[0m\u001b[0;34m=\u001b[0m\u001b[0mBy\u001b[0m\u001b[0;34m.\u001b[0m\u001b[0mXPATH\u001b[0m\u001b[0;34m,\u001b[0m \u001b[0mvalue\u001b[0m\u001b[0;34m=\u001b[0m\u001b[0mxpath\u001b[0m\u001b[0;34m)\u001b[0m\u001b[0;34m\u001b[0m\u001b[0;34m\u001b[0m\u001b[0m\n\u001b[0m\u001b[1;32m    395\u001b[0m \u001b[0;34m\u001b[0m\u001b[0m\n\u001b[1;32m    396\u001b[0m     \u001b[0;32mdef\u001b[0m \u001b[0mfind_elements_by_xpath\u001b[0m\u001b[0;34m(\u001b[0m\u001b[0mself\u001b[0m\u001b[0;34m,\u001b[0m \u001b[0mxpath\u001b[0m\u001b[0;34m)\u001b[0m\u001b[0;34m:\u001b[0m\u001b[0;34m\u001b[0m\u001b[0;34m\u001b[0m\u001b[0m\n",
            "\u001b[0;32m/usr/local/lib/python3.6/dist-packages/selenium/webdriver/remote/webdriver.py\u001b[0m in \u001b[0;36mfind_element\u001b[0;34m(self, by, value)\u001b[0m\n\u001b[1;32m    976\u001b[0m         return self.execute(Command.FIND_ELEMENT, {\n\u001b[1;32m    977\u001b[0m             \u001b[0;34m'using'\u001b[0m\u001b[0;34m:\u001b[0m \u001b[0mby\u001b[0m\u001b[0;34m,\u001b[0m\u001b[0;34m\u001b[0m\u001b[0;34m\u001b[0m\u001b[0m\n\u001b[0;32m--> 978\u001b[0;31m             'value': value})['value']\n\u001b[0m\u001b[1;32m    979\u001b[0m \u001b[0;34m\u001b[0m\u001b[0m\n\u001b[1;32m    980\u001b[0m     \u001b[0;32mdef\u001b[0m \u001b[0mfind_elements\u001b[0m\u001b[0;34m(\u001b[0m\u001b[0mself\u001b[0m\u001b[0;34m,\u001b[0m \u001b[0mby\u001b[0m\u001b[0;34m=\u001b[0m\u001b[0mBy\u001b[0m\u001b[0;34m.\u001b[0m\u001b[0mID\u001b[0m\u001b[0;34m,\u001b[0m \u001b[0mvalue\u001b[0m\u001b[0;34m=\u001b[0m\u001b[0;32mNone\u001b[0m\u001b[0;34m)\u001b[0m\u001b[0;34m:\u001b[0m\u001b[0;34m\u001b[0m\u001b[0;34m\u001b[0m\u001b[0m\n",
            "\u001b[0;32m/usr/local/lib/python3.6/dist-packages/selenium/webdriver/remote/webdriver.py\u001b[0m in \u001b[0;36mexecute\u001b[0;34m(self, driver_command, params)\u001b[0m\n\u001b[1;32m    319\u001b[0m         \u001b[0mresponse\u001b[0m \u001b[0;34m=\u001b[0m \u001b[0mself\u001b[0m\u001b[0;34m.\u001b[0m\u001b[0mcommand_executor\u001b[0m\u001b[0;34m.\u001b[0m\u001b[0mexecute\u001b[0m\u001b[0;34m(\u001b[0m\u001b[0mdriver_command\u001b[0m\u001b[0;34m,\u001b[0m \u001b[0mparams\u001b[0m\u001b[0;34m)\u001b[0m\u001b[0;34m\u001b[0m\u001b[0;34m\u001b[0m\u001b[0m\n\u001b[1;32m    320\u001b[0m         \u001b[0;32mif\u001b[0m \u001b[0mresponse\u001b[0m\u001b[0;34m:\u001b[0m\u001b[0;34m\u001b[0m\u001b[0;34m\u001b[0m\u001b[0m\n\u001b[0;32m--> 321\u001b[0;31m             \u001b[0mself\u001b[0m\u001b[0;34m.\u001b[0m\u001b[0merror_handler\u001b[0m\u001b[0;34m.\u001b[0m\u001b[0mcheck_response\u001b[0m\u001b[0;34m(\u001b[0m\u001b[0mresponse\u001b[0m\u001b[0;34m)\u001b[0m\u001b[0;34m\u001b[0m\u001b[0;34m\u001b[0m\u001b[0m\n\u001b[0m\u001b[1;32m    322\u001b[0m             response['value'] = self._unwrap_value(\n\u001b[1;32m    323\u001b[0m                 response.get('value', None))\n",
            "\u001b[0;32m/usr/local/lib/python3.6/dist-packages/selenium/webdriver/remote/errorhandler.py\u001b[0m in \u001b[0;36mcheck_response\u001b[0;34m(self, response)\u001b[0m\n\u001b[1;32m    240\u001b[0m                 \u001b[0malert_text\u001b[0m \u001b[0;34m=\u001b[0m \u001b[0mvalue\u001b[0m\u001b[0;34m[\u001b[0m\u001b[0;34m'alert'\u001b[0m\u001b[0;34m]\u001b[0m\u001b[0;34m.\u001b[0m\u001b[0mget\u001b[0m\u001b[0;34m(\u001b[0m\u001b[0;34m'text'\u001b[0m\u001b[0;34m)\u001b[0m\u001b[0;34m\u001b[0m\u001b[0;34m\u001b[0m\u001b[0m\n\u001b[1;32m    241\u001b[0m             \u001b[0;32mraise\u001b[0m \u001b[0mexception_class\u001b[0m\u001b[0;34m(\u001b[0m\u001b[0mmessage\u001b[0m\u001b[0;34m,\u001b[0m \u001b[0mscreen\u001b[0m\u001b[0;34m,\u001b[0m \u001b[0mstacktrace\u001b[0m\u001b[0;34m,\u001b[0m \u001b[0malert_text\u001b[0m\u001b[0;34m)\u001b[0m\u001b[0;34m\u001b[0m\u001b[0;34m\u001b[0m\u001b[0m\n\u001b[0;32m--> 242\u001b[0;31m         \u001b[0;32mraise\u001b[0m \u001b[0mexception_class\u001b[0m\u001b[0;34m(\u001b[0m\u001b[0mmessage\u001b[0m\u001b[0;34m,\u001b[0m \u001b[0mscreen\u001b[0m\u001b[0;34m,\u001b[0m \u001b[0mstacktrace\u001b[0m\u001b[0;34m)\u001b[0m\u001b[0;34m\u001b[0m\u001b[0;34m\u001b[0m\u001b[0m\n\u001b[0m\u001b[1;32m    243\u001b[0m \u001b[0;34m\u001b[0m\u001b[0m\n\u001b[1;32m    244\u001b[0m     \u001b[0;32mdef\u001b[0m \u001b[0m_value_or_default\u001b[0m\u001b[0;34m(\u001b[0m\u001b[0mself\u001b[0m\u001b[0;34m,\u001b[0m \u001b[0mobj\u001b[0m\u001b[0;34m,\u001b[0m \u001b[0mkey\u001b[0m\u001b[0;34m,\u001b[0m \u001b[0mdefault\u001b[0m\u001b[0;34m)\u001b[0m\u001b[0;34m:\u001b[0m\u001b[0;34m\u001b[0m\u001b[0;34m\u001b[0m\u001b[0m\n",
            "\u001b[0;31mNoSuchElementException\u001b[0m: Message: no such element: Unable to locate element: {\"method\":\"xpath\",\"selector\":\"//input[@role='button' and @class='U26fgb O0WRkf oG5Srb C0oVfc n9lfJ M9Bg4d' and @jsaction='click:cOuCgd; mousedown:UX7yZ; mouseup:lbsD7e; mouseenter:tfO1Yc; mouseleave:JywGue; focus:AHmuwe; blur:O22p3e; contextmenu:mg9Pef;touchstart:p6p2H; touchmove:FwuNnf; touchend:yfqBxc(preventMouseEvents=true|preventDefault=true); touchcancel:JMtRjd;' and @jscontroller='VXdfxd']\"}\n  (Session info: headless chrome=78.0.3904.70)\n"
          ]
        }
      ]
    },
    {
      "cell_type": "code",
      "metadata": {
        "id": "B2ggOVAvB3UR",
        "colab_type": "code",
        "colab": {
          "base_uri": "https://localhost:8080/",
          "height": 34
        },
        "outputId": "e17953a8-d6fd-4fc8-ebb7-9c8bfbc90d31"
      },
      "source": [
        "reviewer = []\n",
        "review_date = []\n",
        "i = 0\n",
        "\n",
        "review_info = {}\n",
        "for item in driver.find_elements_by_css_selector('div.bAhLNe.kx8XBd'):\n",
        "  reviewer.append(item.text)\n",
        "\n",
        "helpful_reviews = driver.find_elements_by_css_selector('div.jUL89d.y92BAb')\n",
        "abridged_review = driver.find_elements(by='xpath',value=\"//span[@jsname='bN97Pc']\")\n",
        "full_reviews  = driver.find_elements(by='xpath',value=\"//span[@jsname='fbQN7e']\")\n",
        "stars = driver.find_elements(by='xpath',value=\"//span[@class='nt2C1d']//div//div[@role='img']\")\n",
        "print(len(reviewer),len(abridged_review), len(full_reviews), len(helpful_reviews),len(stars))"
      ],
      "execution_count": 112,
      "outputs": [
        {
          "output_type": "stream",
          "text": [
            "92 92 92 92 92\n"
          ],
          "name": "stdout"
        }
      ]
    },
    {
      "cell_type": "code",
      "metadata": {
        "id": "frZ_BPdGFojI",
        "colab_type": "code",
        "colab": {}
      },
      "source": [
        "\n",
        "all_reviews = []\n",
        "for i, (r, a, f, h, s) in enumerate(zip(reviewer, abridged_review,full_reviews, helpful_reviews, stars )):\n",
        "  review_info = {}\n",
        "  review_info.update({'id':i, \\\n",
        "                      'name':r.split('\\n')[0], \\\n",
        "                      'review_date':r.split('\\n')[1], \\\n",
        "                      'abridged_review': a.text, \\\n",
        "                      'full_review': f.text, \\\n",
        "                      'helpful_review': h.text, \\\n",
        "                      'stars':re.findall(r\"\\d\",s.get_attribute('aria-label'))[0]})\n",
        "  all_reviews.append(review_info)\n"
      ],
      "execution_count": 0,
      "outputs": []
    },
    {
      "cell_type": "code",
      "metadata": {
        "id": "Pj9BIz6qK0Gu",
        "colab_type": "code",
        "colab": {
          "base_uri": "https://localhost:8080/",
          "height": 434
        },
        "outputId": "c188b086-3ed6-4b20-e5a0-b5e8d1e00a9c"
      },
      "source": [
        "df_review = pd.DataFrame(all_reviews)\n",
        "df_review.info()\n",
        "df_review['review_date'] = df_review['review_date'].apply(lambda x: pd.datetime.strptime(x, '%B %d, %Y'))\n",
        "df_review['helpful_review'] = pd.to_numeric(df_review['helpful_review'], errors='coerce')\n",
        "df_review['stars'] = df_review['stars'].astype('int8') \n",
        "df_review.info()"
      ],
      "execution_count": 186,
      "outputs": [
        {
          "output_type": "stream",
          "text": [
            "<class 'pandas.core.frame.DataFrame'>\n",
            "RangeIndex: 92 entries, 0 to 91\n",
            "Data columns (total 7 columns):\n",
            "id                 92 non-null int64\n",
            "name               92 non-null object\n",
            "review_date        92 non-null object\n",
            "abridged_review    92 non-null object\n",
            "full_review        92 non-null object\n",
            "helpful_review     92 non-null object\n",
            "stars              92 non-null object\n",
            "dtypes: int64(1), object(6)\n",
            "memory usage: 5.2+ KB\n",
            "<class 'pandas.core.frame.DataFrame'>\n",
            "RangeIndex: 92 entries, 0 to 91\n",
            "Data columns (total 7 columns):\n",
            "id                 92 non-null int64\n",
            "name               92 non-null object\n",
            "review_date        92 non-null datetime64[ns]\n",
            "abridged_review    92 non-null object\n",
            "full_review        92 non-null object\n",
            "helpful_review     62 non-null float64\n",
            "stars              92 non-null int8\n",
            "dtypes: datetime64[ns](1), float64(1), int64(1), int8(1), object(3)\n",
            "memory usage: 4.5+ KB\n"
          ],
          "name": "stdout"
        }
      ]
    },
    {
      "cell_type": "code",
      "metadata": {
        "id": "VaaUDlnAcD9q",
        "colab_type": "code",
        "colab": {
          "base_uri": "https://localhost:8080/",
          "height": 197
        },
        "outputId": "1037c55d-bb2b-4907-f729-7c932b215dc3"
      },
      "source": [
        "df_review.head()"
      ],
      "execution_count": 187,
      "outputs": [
        {
          "output_type": "execute_result",
          "data": {
            "text/html": [
              "<div>\n",
              "<style scoped>\n",
              "    .dataframe tbody tr th:only-of-type {\n",
              "        vertical-align: middle;\n",
              "    }\n",
              "\n",
              "    .dataframe tbody tr th {\n",
              "        vertical-align: top;\n",
              "    }\n",
              "\n",
              "    .dataframe thead th {\n",
              "        text-align: right;\n",
              "    }\n",
              "</style>\n",
              "<table border=\"1\" class=\"dataframe\">\n",
              "  <thead>\n",
              "    <tr style=\"text-align: right;\">\n",
              "      <th></th>\n",
              "      <th>id</th>\n",
              "      <th>name</th>\n",
              "      <th>review_date</th>\n",
              "      <th>abridged_review</th>\n",
              "      <th>full_review</th>\n",
              "      <th>helpful_review</th>\n",
              "      <th>stars</th>\n",
              "    </tr>\n",
              "  </thead>\n",
              "  <tbody>\n",
              "    <tr>\n",
              "      <th>0</th>\n",
              "      <td>0</td>\n",
              "      <td>Jared Thresher</td>\n",
              "      <td>2019-10-25</td>\n",
              "      <td>Loving the concept of this app. Even without t...</td>\n",
              "      <td></td>\n",
              "      <td>2.0</td>\n",
              "      <td>4</td>\n",
              "    </tr>\n",
              "    <tr>\n",
              "      <th>1</th>\n",
              "      <td>1</td>\n",
              "      <td>Shweta Ramanujam</td>\n",
              "      <td>2019-10-14</td>\n",
              "      <td>Been using this app for a while now.Apart from...</td>\n",
              "      <td></td>\n",
              "      <td>8.0</td>\n",
              "      <td>5</td>\n",
              "    </tr>\n",
              "    <tr>\n",
              "      <th>2</th>\n",
              "      <td>2</td>\n",
              "      <td>Yoga Ong</td>\n",
              "      <td>2019-10-08</td>\n",
              "      <td>Overall considered not bad, it is good that ha...</td>\n",
              "      <td></td>\n",
              "      <td>1.0</td>\n",
              "      <td>4</td>\n",
              "    </tr>\n",
              "    <tr>\n",
              "      <th>3</th>\n",
              "      <td>3</td>\n",
              "      <td>eclipse9871</td>\n",
              "      <td>2019-10-16</td>\n",
              "      <td>Love this app especially because it allows use...</td>\n",
              "      <td></td>\n",
              "      <td>4.0</td>\n",
              "      <td>5</td>\n",
              "    </tr>\n",
              "    <tr>\n",
              "      <th>4</th>\n",
              "      <td>4</td>\n",
              "      <td>Jay Laone</td>\n",
              "      <td>2019-08-20</td>\n",
              "      <td>I like the idea! I think it's a little hard to...</td>\n",
              "      <td></td>\n",
              "      <td>NaN</td>\n",
              "      <td>3</td>\n",
              "    </tr>\n",
              "  </tbody>\n",
              "</table>\n",
              "</div>"
            ],
            "text/plain": [
              "   id              name review_date  ... full_review helpful_review  stars\n",
              "0   0    Jared Thresher  2019-10-25  ...                        2.0      4\n",
              "1   1  Shweta Ramanujam  2019-10-14  ...                        8.0      5\n",
              "2   2          Yoga Ong  2019-10-08  ...                        1.0      4\n",
              "3   3       eclipse9871  2019-10-16  ...                        4.0      5\n",
              "4   4         Jay Laone  2019-08-20  ...                        NaN      3\n",
              "\n",
              "[5 rows x 7 columns]"
            ]
          },
          "metadata": {
            "tags": []
          },
          "execution_count": 187
        }
      ]
    },
    {
      "cell_type": "code",
      "metadata": {
        "id": "Qe2bZSUVcIom",
        "colab_type": "code",
        "colab": {
          "base_uri": "https://localhost:8080/",
          "height": 225
        },
        "outputId": "102102a9-4897-49bd-bc81-19f8c71dbad8"
      },
      "source": [
        "df_review.full_review"
      ],
      "execution_count": 188,
      "outputs": [
        {
          "output_type": "execute_result",
          "data": {
            "text/plain": [
              "0      \n",
              "1      \n",
              "2      \n",
              "3      \n",
              "4      \n",
              "     ..\n",
              "87     \n",
              "88     \n",
              "89     \n",
              "90     \n",
              "91     \n",
              "Name: full_review, Length: 92, dtype: object"
            ]
          },
          "metadata": {
            "tags": []
          },
          "execution_count": 188
        }
      ]
    },
    {
      "cell_type": "code",
      "metadata": {
        "id": "K0tM_QGIcask",
        "colab_type": "code",
        "colab": {
          "base_uri": "https://localhost:8080/",
          "height": 389
        },
        "outputId": "4242e828-a1d5-4f1f-effc-2ae75ea8d7da"
      },
      "source": [
        "df_review.drop(columns=['full_review'],inplace=True)\n",
        "df_review.info()\n",
        "df_review.head()"
      ],
      "execution_count": 189,
      "outputs": [
        {
          "output_type": "stream",
          "text": [
            "<class 'pandas.core.frame.DataFrame'>\n",
            "RangeIndex: 92 entries, 0 to 91\n",
            "Data columns (total 6 columns):\n",
            "id                 92 non-null int64\n",
            "name               92 non-null object\n",
            "review_date        92 non-null datetime64[ns]\n",
            "abridged_review    92 non-null object\n",
            "helpful_review     62 non-null float64\n",
            "stars              92 non-null int8\n",
            "dtypes: datetime64[ns](1), float64(1), int64(1), int8(1), object(2)\n",
            "memory usage: 3.8+ KB\n"
          ],
          "name": "stdout"
        },
        {
          "output_type": "execute_result",
          "data": {
            "text/html": [
              "<div>\n",
              "<style scoped>\n",
              "    .dataframe tbody tr th:only-of-type {\n",
              "        vertical-align: middle;\n",
              "    }\n",
              "\n",
              "    .dataframe tbody tr th {\n",
              "        vertical-align: top;\n",
              "    }\n",
              "\n",
              "    .dataframe thead th {\n",
              "        text-align: right;\n",
              "    }\n",
              "</style>\n",
              "<table border=\"1\" class=\"dataframe\">\n",
              "  <thead>\n",
              "    <tr style=\"text-align: right;\">\n",
              "      <th></th>\n",
              "      <th>id</th>\n",
              "      <th>name</th>\n",
              "      <th>review_date</th>\n",
              "      <th>abridged_review</th>\n",
              "      <th>helpful_review</th>\n",
              "      <th>stars</th>\n",
              "    </tr>\n",
              "  </thead>\n",
              "  <tbody>\n",
              "    <tr>\n",
              "      <th>0</th>\n",
              "      <td>0</td>\n",
              "      <td>Jared Thresher</td>\n",
              "      <td>2019-10-25</td>\n",
              "      <td>Loving the concept of this app. Even without t...</td>\n",
              "      <td>2.0</td>\n",
              "      <td>4</td>\n",
              "    </tr>\n",
              "    <tr>\n",
              "      <th>1</th>\n",
              "      <td>1</td>\n",
              "      <td>Shweta Ramanujam</td>\n",
              "      <td>2019-10-14</td>\n",
              "      <td>Been using this app for a while now.Apart from...</td>\n",
              "      <td>8.0</td>\n",
              "      <td>5</td>\n",
              "    </tr>\n",
              "    <tr>\n",
              "      <th>2</th>\n",
              "      <td>2</td>\n",
              "      <td>Yoga Ong</td>\n",
              "      <td>2019-10-08</td>\n",
              "      <td>Overall considered not bad, it is good that ha...</td>\n",
              "      <td>1.0</td>\n",
              "      <td>4</td>\n",
              "    </tr>\n",
              "    <tr>\n",
              "      <th>3</th>\n",
              "      <td>3</td>\n",
              "      <td>eclipse9871</td>\n",
              "      <td>2019-10-16</td>\n",
              "      <td>Love this app especially because it allows use...</td>\n",
              "      <td>4.0</td>\n",
              "      <td>5</td>\n",
              "    </tr>\n",
              "    <tr>\n",
              "      <th>4</th>\n",
              "      <td>4</td>\n",
              "      <td>Jay Laone</td>\n",
              "      <td>2019-08-20</td>\n",
              "      <td>I like the idea! I think it's a little hard to...</td>\n",
              "      <td>NaN</td>\n",
              "      <td>3</td>\n",
              "    </tr>\n",
              "  </tbody>\n",
              "</table>\n",
              "</div>"
            ],
            "text/plain": [
              "   id              name  ... helpful_review stars\n",
              "0   0    Jared Thresher  ...            2.0     4\n",
              "1   1  Shweta Ramanujam  ...            8.0     5\n",
              "2   2          Yoga Ong  ...            1.0     4\n",
              "3   3       eclipse9871  ...            4.0     5\n",
              "4   4         Jay Laone  ...            NaN     3\n",
              "\n",
              "[5 rows x 6 columns]"
            ]
          },
          "metadata": {
            "tags": []
          },
          "execution_count": 189
        }
      ]
    },
    {
      "cell_type": "code",
      "metadata": {
        "id": "VJqHRY-B4t84",
        "colab_type": "code",
        "colab": {}
      },
      "source": [
        ""
      ],
      "execution_count": 0,
      "outputs": []
    },
    {
      "cell_type": "code",
      "metadata": {
        "id": "8VE4LMHYc1iZ",
        "colab_type": "code",
        "colab": {
          "base_uri": "https://localhost:8080/",
          "height": 592
        },
        "outputId": "69e78759-6f43-4590-d3b5-bb518edbe9b7"
      },
      "source": [
        "plt.figure(figsize=(10,10))\n",
        "plt.hist(df_review['review_date'])\n",
        "plt.show()\n"
      ],
      "execution_count": 190,
      "outputs": [
        {
          "output_type": "display_data",
          "data": {
            "image/png": "[encoded data removed]",
            "text/plain": [
              "<Figure size 720x720 with 1 Axes>"
            ]
          },
          "metadata": {
            "tags": []
          }
        }
      ]
    },
    {
      "cell_type": "code",
      "metadata": {
        "id": "yjSUYIMierDD",
        "colab_type": "code",
        "colab": {
          "base_uri": "https://localhost:8080/",
          "height": 662
        },
        "outputId": "52156e6e-e140-4896-9192-ba3c46bbba2c"
      },
      "source": [
        "plt.figure(figsize=(10,10))\n",
        "plt.hist(df_review['helpful_review'])\n",
        "plt.show()"
      ],
      "execution_count": 191,
      "outputs": [
        {
          "output_type": "stream",
          "text": [
            "/usr/local/lib/python3.6/dist-packages/numpy/lib/histograms.py:839: RuntimeWarning: invalid value encountered in greater_equal\n",
            "  keep = (tmp_a >= first_edge)\n",
            "/usr/local/lib/python3.6/dist-packages/numpy/lib/histograms.py:840: RuntimeWarning: invalid value encountered in less_equal\n",
            "  keep &= (tmp_a <= last_edge)\n"
          ],
          "name": "stderr"
        },
        {
          "output_type": "display_data",
          "data": {
            "image/png": "[encoded data removed]",
            "text/plain": [
              "<Figure size 720x720 with 1 Axes>"
            ]
          },
          "metadata": {
            "tags": []
          }
        }
      ]
    },
    {
      "cell_type": "code",
      "metadata": {
        "id": "VamQBUFcfWY4",
        "colab_type": "code",
        "colab": {
          "base_uri": "https://localhost:8080/",
          "height": 592
        },
        "outputId": "4a11cdc9-3ccd-416f-bfdb-baf5c54c72be"
      },
      "source": [
        "plt.figure(figsize=(10,10))\n",
        "plt.hist(df_review['stars'])\n",
        "plt.show()"
      ],
      "execution_count": 192,
      "outputs": [
        {
          "output_type": "display_data",
          "data": {
            "image/png": "[encoded data removed]",
            "text/plain": [
              "<Figure size 720x720 with 1 Axes>"
            ]
          },
          "metadata": {
            "tags": []
          }
        }
      ]
    },
    {
      "cell_type": "code",
      "metadata": {
        "id": "lcPMPq-v_-RD",
        "colab_type": "code",
        "colab": {}
      },
      "source": [
        "dates = driver.find_elements(by='xpath',value=\"//div[@class='LVQB0b']//div[2]//span[@class='p2TkOb']\")\n",
        "person = driver.find_elements(by='xpath',value=\"//div[@class='LVQB0b']//div[2]//span[@class='X43Kjb']\")\n",
        "all_comms = driver.find_elements(by='xpath',value=\"//div[@class='LVQB0b']\")"
      ],
      "execution_count": 0,
      "outputs": []
    },
    {
      "cell_type": "code",
      "metadata": {
        "id": "Te0E8S78AAYS",
        "colab_type": "code",
        "colab": {
          "base_uri": "https://localhost:8080/",
          "height": 1000
        },
        "outputId": "4daecefa-1544-4594-835f-92949e4f75e5"
      },
      "source": [
        "for i, (d, p, a) in enumerate(zip(dates, person, all_comms)):\n",
        "  print(i+1, d.text, p.text, a.text.split('\\n')[1])"
      ],
      "execution_count": 166,
      "outputs": [
        {
          "output_type": "stream",
          "text": [
            "1 October 29, 2019 abillionveg Hi Jared, We apologize for the issue with uploading photos, it's due to how our server sometimes recognizes and renders photos. We're building in image editing features that will go out in Q1 2020 that will fix this. From all of us at abillionveg, a big thank you for being part of the journey as we build this. All the best, Vikas\n",
            "2 October 22, 2019 abillionveg Wow thank you for this amazing review Shweta!\n",
            "3 October 22, 2019 abillionveg Dear Ong, Thank you so much for the feedback on accessing folders in your gallery. It's something that's on our product roadmap and we will get this right for you. We also have some exciting new features related to photos that will be appearing before year-end. Thanks for taking the time to post this review! All the best, Vikas\n",
            "4 October 22, 2019 abillionveg Hello! Thank you so much for the wonderful review of the app. We have so many new features and improvements that are going in before the end of the year that are going to make it even more powerful. If there's anything we can do to improve, please reach out at vikas@abillionveg.com Thanks, Vikas\n",
            "5 August 21, 2019 abillionveg Hey Jay, Thanks so much for the review. We have a long way to go and excited about what we're building and the impact we're having on the ecosystem. We have a huge revamp of the search engine coming out in the next 30 days which will include a significant leap in location based searches. Hope you come back and try it out. All the best, Vikas\n",
            "6 October 22, 2019 abillionveg Hi Theresa, Thank you so much for the wonderful review of the app. We have so many new features and improvements that are going in before the end of the year that are going to make it even more powerful. If there's anything we can do to improve, please reach out at vikas@abillionveg.com All the best, Vikas\n",
            "7 October 22, 2019 abillionveg Hi Jonny, Thank you so much for posting this nice review of the app! It gets me so excited when we have amazing people in the community like you. It means we have a real chance at making the impact that we're all working so hard to get to. Thank you for giving us a shot. I promise we're working hard to make it a great experience. Vikas\n",
            "8 October 22, 2019 abillionveg Thanks for the great review Hazel!\n",
            "9 September 17, 2019 abillionveg Hi Lee Sheng, thank you so much for taking the time to post a review! We're grateful for this and so happy to hear that you're enjoying the community. It's thanks to your efforts and the community that we have a chance at making the impact we all want. Wishing you all the best, Vikas\n",
            "10 October 22, 2019 abillionveg Dear Joy, It's only because of your contribution in building our community that we have a chance at making the impact we all want. Thank you so much for joining the movement and helping us build this. We'd love to get to know you better, if you ever want to chat please email me at vikas@abillionveg.com Thank you!\n",
            "11 October 22, 2019 abillionveg Dear Libby, Thank you so much for posting this review and all the wonderful reviews in the app. Each of your posts makes it easier for others to do the right thing and helps us support some of the most impactful organizations on the planet. If there's anything we can do to improve please get in touch. vikas@abillionveg.com Thanks, Vikas\n",
            "12 October 22, 2019 abillionveg Hey Alex, Thank you so much. One of the big things we're working on is making the user experience a lot less clunky and more intuitive. You're going to see huge improvements in the search bar, maps and suggestions in the next couple of app updates. If you have any feedback on the next update please let me know. I'm @vikas in the app, thank you!\n",
            "13 October 22, 2019 abillionveg Dear Cynthia, Thank you for the positive review and all of your wonderful contributions to building the movement. If there's anything at all that we can do to improve the platform please reach out to me directly at vikas@abillionveg.com All the best, Vikas\n",
            "14 October 22, 2019 abillionveg Dear Marisa, Thank you so much for the great review and for your insights. You're going to see some amazing new features in the app the next 3 months as we kick off our 1 million review challenge in 2020! If there's anything we can do to improve the app please let us know vikas@abillionveg.com Thanks, Vikas\n",
            "15 October 22, 2019 abillionveg Hey Candy, Thank you so much for this review. We'd love to hear more about the options you'd like in settings. Could you contact me at vikas@abillionveg.com and I'll be sure to work on this? Thanks, Vikas\n",
            "16 October 22, 2019 abillionveg Dear Marinette, Thank you so much for the great review. I'm so happy to hear that you're having a great experience in the app. If you ever think of anything we can do to make the experience better for you or the community please let me know at vikas@abillionveg.com Wishing you all the best, Vikas\n",
            "17 September 23, 2019 abillionveg Dear Melanie, thank you so much for the review. It's only because of your contributions to helping build the community that we have a chance to make the impact for the world that we're all working hard to deliver. Wishing you all the best, Vikas\n",
            "18 October 29, 2019 abillionveg Dear Crystal, Thank you so much for the review! We're so grateful to have you part of the community and a force for change. Every time you choose vegan you're making an amazingly conscious choice for positive transformation in the world. Wishing you all the best, Vikas\n",
            "19 September 17, 2019 abillionveg Hi Riante, thank you so much for the kind review. We have a long way to to in making the community and app an even better experience. Your review is so uplifting and we appreciate it. Thank you! Wishing you all the best, Vikas\n",
            "20 October 22, 2019 abillionveg Dear Lobo, We're very sorry that you weren't able to find options in your area. You're absolutely right, we're very new, and sometimes we just don't have reviews yet in an area where someone new signs up. We're working on this, and thank you for considering checking out the app again in the future. We're grateful! All the best, Vikas\n",
            "21 October 22, 2019 abillionveg Hi Bushra, I'm so sorry to hear that you had a bad experience signing up. Can you check if you were on the sign up page or login page? That's one of the errors that most often results in a \"bad sign up\". If you can email me at vikas@abillionveg.com I'll personally look into this for you and help you fix it. Thanks, Vikas\n",
            "22 September 23, 2019 abillionveg Dear Montse, From everyone at abillionveg thank you for the great review. Thanks to your wonderful contributions we now have nearly 30 animal rescue organizations around the world that we count as partners. Your reviews are making a huge impact! Wishing you all the best, Vikas\n",
            "23 August 20, 2019 abillionveg Hi Renee, Thanks for the review. We have been experimenting with categories in an effort to improve content moderation and the quality of reviews. We had a lot of categories and now we've gone in the other direction, and there's probably a happy medium that works for everyone. You can stop notifications in your app settings. All the best, Vikas\n",
            "24 May 27, 2019 abillionveg Dear Milica, thank you so much for your feedback and the great suggestions. We're going to think further about how we build this so its more responsive to what you need. Stay tuned for more improvements. We just released product reviews and there's lots of work to be done here over the next few months. Really appreciate your feedback, thank you.\n",
            "25 June 26, 2019 abillionveg Hi Chase, thank you for the review. This is spot on and very fair. Try using the filters in the near me map to select distance instead of popularity and you will see more results. And you can zoom out and zoom in on the map, but you have to zoom in enough to display results. You identified a lot of work in progress. Thanks for being part of this!\n",
            "26 May 30, 2019 abillionveg Thank you for the amazing feedback. We have been evaluating photo packages to find one that works really well for folders but so far haven't found one that works seamlessly. Regarding the grid, would you prefer 4 or 5 photos across? We've kept it at 3 so it works for smaller phones too. Thanks again for the detailed feedback, we appreciate it!\n",
            "27 July 15, 2019 abillionveg Hi Geoff, thanks so much for taking the time to write in. We're working through a couple of bugs that will improve latency and also there's a big revamp of the search function coming in August. Thanks for pointing out the delay with search results, it's something we're keenly focused on improving. Wishing you the best, Vikas\n",
            "28 October 22, 2019 abillionveg Dear Mikayla, Thank you so much for taking the time to post a review about the app. We're really grateful for your contributions in building the abillionveg movement and helping us get one step closer to making the impact that we all want. Wishing you all the best, Vikas\n",
            "29 October 22, 2019 abillionveg Dear friend, Thank you so much for our first review from Israel! We're grateful that you joined the community. One of my biggest frustrations in the app is the review function and our engineering team is working hard to improve the functionality and results of the search bar. You'll be seeing a big revamp and improvements before 2020! Best, Vikas\n",
            "30 June 12, 2019 abillionveg Thanks for your review! Definitely agree, we have a long way to go. Thanks for trying us out, hope we can make a bigger impact for you in the future. All the best.\n",
            "31 October 22, 2019 abillionveg Dear Alie, Thank you so much for this great review and for your contributions to building the movement. We're working hard to update the app and make it a great experience with more features and suggestions, and it's only going to happen thanks to the work of our members too. Wishing you all the best, Vikas\n",
            "32 July 25, 2019 abillionveg Hi Ray, thanks for taking the time to post a review. If you're not seeing any options its because nobody has posted a review yet. We have 40k reviews in 86 countries but it takes time to build an authentic community from the ground up. I hope you'll try us out again in 6 months and see a lot more! And if you're up for it, try posting a few reviews!\n",
            "33 October 22, 2019 abillionveg Hi Nurit, Thank you so much for the wonderful review of the app. It's only because of amazing members like you that we have a chance at growing the movement and making an impact on the world. If there's anything we can do to improve, please reach out at vikas@abillionveg.com All the best, Vikas\n",
            "34 July 11, 2019 abillionveg Hi Grace, thank you so much for the positive feedback. It's only thanks to members like you that we have a shot at building something that makes lasting impact. If there's anything we can do to make the platform better, please reach out directly to me at vikas@abillionveg.com, thanks Grace.\n",
            "35 October 22, 2019 abillionveg Dear Elena, Thank you for the beautiful review! If there's anything at all that we can do to improve the app for you please let me know at vikas@abillionveg.com Thank you & all the best, Vikas\n",
            "36 August 2, 2019 abillionveg Hi Sarah, thank you so much for the nice review. We are still super new, don't have a ton of options (40k reviews and options globally), but we really want to build this community the right way, focused on reviews that real people like us submit. I hope to see you on the app! @vikas\n",
            "37 May 27, 2019 abillionveg Dear Andrea, thank you for the feedback and review. We're working hard to make it a great experience for the community. Wishing you all the best.\n",
            "38 June 28, 2019 abillionveg Dear Lani, I am so sorry for this problem. We just updated a part of the app and think this might be causing the crashes in the latest release. We're working on fixing this problem, thanks so much for reporting it.\n",
            "39 October 29, 2019 abillionveg Thank you so much for the kind review Gretchen! Wishing you all the best, Vikas\n",
            "40 May 27, 2019 abillionveg Dear Kevin, thank you so much for helping build the community. We can make a big dent on how people and businesses think about plant-based options by working together, thank you!\n",
            "41 June 28, 2019 abillionveg Hi Dana, so sorry to hear you're having a problem logging into the app. Could you try a password reset which should help refresh the password? Thanks so much. Vikas\n",
            "42 July 29, 2019 abillionveg Dear Ren, thanks for taking the time to review the app. We're building an authentic new community and while we already have tons of reviews in 90 countries, there are lots of places where a review hasn't been posted yet. We hope you'll try adding the first review of a vegan option in your area. Thank you & all the best.\n",
            "43 July 11, 2019 abillionveg Thank you so much, it's going to keep getting better!\n",
            "44 October 22, 2019 abillionveg Hi Esther, Thank you so much for posting such a positive review. If there's ever anything we can do to make the experience better for you please let me know! All the best, Vikas\n",
            "45 July 11, 2019 abillionveg Hi Camille, thanks so much for the review. We're focused on building an authentic community from the ground up. In places like Vancouver we have a ton of options and reviews listed, but in other places in Canada we might not. That's why its so important to have members like you that can contribute and help others find great options. All the best.\n",
            "46 August 20, 2019 abillionveg Hi Mippy, Thank you so much for taking the time to post a review of the app. We're working hard to make it a great experience for everyone, and I really appreciate you helping build the community with your posts. Thank you Mippy! All the best, Vikas\n",
            "47 July 16, 2019 abillionveg Hi Samantha, I'm so sorry to hear this. You can definitely search by city in the app. We initially launched with a country selection feature and allowed for location in the search box, but in the next update we're going to be including detailed location searches which will really improve your experience. Thanks for the feedback! Best, Vikas\n",
            "48 July 11, 2019 abillionveg Hi thanks for trying to contribute. We're building an authentic community which means we're working from the ground up based on member suggestions on what's good or not. I'm so sorry to hear that the search function didn't help you find locations you wanted to review. Can you reach out vikas@abillionveg.com so we can help you please?\n",
            "49 September 3, 2019 abillionveg Hi thank you, we're not sure what you mean but would appreciate if you could help us with some more details with an email to contact@abillionveg.com, thank you very much. All the best, Vikas\n",
            "50 May 27, 2019 abillionveg Thank you Rachael, we're working hard to make it a great experience for the community. We really appreciate your help while we grow and make an even bigger impact, thank you!\n",
            "51 March 11, 2019 abillionveg Hi Shayna, thank you so much for the review and for joining the community! We have a long way to go in making the platform great but with your help and a lot of work we're going to do it! In our next app update (a month away), we'll have a completely new look to product reviews and being able to find them and give feedback to the brands. Thank you!\n",
            "52 December 3, 2018 abillionveg Hi Trina, thanks for the great feedback. It's a constant process improving the functionality of the platform. You've picked up on a very big project, giving supermarket products a home and refining the search. We rely on the community to ask whether an item is vegan. Please give us a shot and we'll get this right! Thanks and all the best Trina!\n",
            "53 March 26, 2019 abillionveg Dear Ines, thank you so much for the feedback. Our engineering team is looking into this and we'll be making changes in the next update so the app is better integrated with other apps on your phone. Thank you so much for taking the time to help make abv a great experience for you and others. All the best, Vikas & team abv.\n",
            "54 September 3, 2019 abillionveg Thanks Geoff, appreciate the kind words. Wishing you all the best.\n",
            "55 October 29, 2018 abillionveg Hi Chloe, thanks for taking the time to write a review. We're excited to have you on board to show businesses how to do right by vegan food and make an impact for animal welfare. Thank you!\n",
            "56 February 25, 2019 abillionveg Thanks very much Sajani, we're working hard to add a lot of features and make the experience better for you and the animals. Thanks for joining and helping support abv.\n",
            "57 June 23, 2019 abillionveg Hi Miranda thanks for your review and feedback. We're building a 100% authentic community, which means no back-filled data from other places on the web. It sounds like you are the first person in your area that's using the app which means there aren't any reviews yet, and our suggestions are based on member reviews only, so hope you contribute!\n",
            "58 November 29, 2018 abillionveg Hi Emmanuel, thank you so much for taking the time to review and for the nice feedback. The truth is we have a long way to go and you’ll be seeing a lot of great updates in the weeks and months ahead. If there’s anything at all we can do to make the experience better for you please reach out vikas@abillionveg.com Thank you! Best, Vikas\n",
            "59 October 29, 2019 abillionveg Dear Geeta, Thank you so much for the kind review. We're working hard to improve the app and you'll be seeing a lot of new releases over the next 3 months that continue to improve the experience for the community. Thank you for taking the time to post a review. Wishing you all the best, Vikas\n",
            "60 July 16, 2019 abillionveg Hi thanks so much for your feedback. We have 40,000 reviews in 86 countries and growing every day, but we're also very new. Which country are you from? We're all about building an authentic community so your reviews can really help build the community and impact we're working on having around the world. Thank you for considering!\n",
            "61 May 27, 2019 abillionveg Hi, thank you so much, we believe we can change the way people think about apps and social media. Thank you for joining the movement!\n",
            "62 October 22, 2019 abillionveg You got it Alice, that's what we're here for. It's so important we get this right and have the impact that we all want. Please help us in reaching $1 million donated to animal welfare and vegan initiatives next year. Wishing you all the best, Vikas\n",
            "63 July 29, 2019 abillionveg Dear Em, thanks for taking the time to review the app. We're building an authentic new community and while we already have tons of reviews in 90 countries, there are lots of places where a review hasn't been posted yet. We hope you'll try adding the first review of a vegan option in your area. Thank you & all the best.\n",
            "64 July 15, 2019 abillionveg Hi Kartik, thanks for taking the time to write in. Curious what you thought you were downloading. We're a platform for people to find vegan options around the world, and to review vegan options wherever they go. We're a social community and review platform that's working to drive sustainability around the world. I hope that helps, thank you, Vikas\n",
            "65 May 27, 2019 abillionveg Hi Michal, thank you so much, we're so happy that you're using the app to support animal rescue. Thank you!\n",
            "66 May 13, 2019 abillionveg Thank you!\n",
            "67 November 12, 2018 abillionveg Hi Danielle, thank you so much. With a little bit of help from the community we can build this into something that will have a lasting impact on food systems and consumption. I hope you'll stay plugged in, and if there's anything we can do to make the experience better for you please reach out at any time. vikas@abillionveg.com\n",
            "68 October 22, 2019 abillionveg Thank you so much! It's great to have you on board with the movement!\n",
            "69 July 16, 2019 abillionveg Hi Paloma, thank you so much for the nice review. The community is only as good as our members and we appreciate your support and feedback. Thank you!\n",
            "70 July 25, 2018 abillionveg Thanks very much Lee Choon, I hope you're enjoying using the app!\n",
            "71 May 17, 2019 abillionveg Thank you so much, stay tuned as we make the app even better!\n",
            "72 September 7, 2018 abillionveg Jim, so appreciative of your nice comment, thank you very much. If there's anything we can do to make the experience better for you please let us know at contact@abillionveg.com Thank you!\n",
            "73 September 7, 2018 abillionveg Thank you so much for the nice review! If there's anything we can do to make the platform better for you let us know at contact@abillionveg.com\n",
            "74 August 28, 2018 abillionveg Thanks Rebecca, we appreciate the feedback. If there's anything we can do to make the experience better for you please let us know anytime through the app!\n",
            "75 September 11, 2018 abillionveg Thank you so much Sharon, we're building a lot of functionality around the advocacy and hope to share a lot more information and metrics around the impact we're having in the future. Thank you for joining us on this mission!\n",
            "76 August 24, 2018 abillionveg Hi Kai, very sorry to hear about the issues you're experiencing. We've experienced issues where users on certain devices cannot access photo folders. It's something we're working on. Sorry to hear about the issue with typing speed, it's something we haven't had issues with before but we'll look into. So sorry for not having a quick solution.\n",
            "77 September 20, 2018 abillionveg Hi Tyler, with our latest app release the problem for certain Android phones and access to photos should be resolved. Could you please let us know if it works for you now? Thank you!\n",
            "78 September 7, 2018 abillionveg Thanks Angela, we couldn't do it without your contributions! If there's anything we can do to make the experience better please let us know at contact@abillionveg.com\n",
            "79 July 25, 2018 abillionveg Thanks Amber, we want to do whatever we can to support our partner sanctuaries. Every one of your reviews counts towards that! Thank you!!!\n",
            "80 July 25, 2018 abillionveg Hi Harald, thank you so much for your review and for letting us know which device you're using. With the latest app release have your problems been solved? We sorted out the bugs around why the app was crashing on certain devices. Please let us know. Thank you!\n",
            "81 July 25, 2018 abillionveg Wow thank you Mike for the nice review. Hope you're enjoying using the app!\n",
            "82 July 25, 2018 abillionveg Wow thank you for the nice review, we are working hard to make it of value for you, thank you!\n",
            "83 July 25, 2018 abillionveg Thanks very much for trying out the app!\n",
            "84 July 25, 2018 abillionveg Thanks very much for the nice review Lou!\n",
            "85 September 7, 2018 abillionveg Thank you so much for the nice comment. If there's anything we can do to make it better just let us know at contact@abillionveg.com\n",
            "86 July 25, 2018 abillionveg Wow, that's wonderful Leong Yoke. I hope you'll try out some of our latest recipes! Thank you.\n",
            "87 July 25, 2018 abillionveg Thanks very much Pratik, we just crossed 5,000 reviews from 47 countries around the world. We hope you'll try reviewing your favorite dishes!\n",
            "88 July 25, 2018 abillionveg Thanks very much Larcielto. How do you like the app so far?\n",
            "89 May 13, 2019 abillionveg Thank you Pragnya, grateful to have you on board and working to build the community!\n",
            "90 July 25, 2018 abillionveg Thanks very much Rishabh, we just crossed 5,000 reviews from 47 countries around the world. We hope you'll try reviewing your favorite dishes!\n"
          ],
          "name": "stdout"
        }
      ]
    },
    {
      "cell_type": "code",
      "metadata": {
        "id": "dDcc38XXjP57",
        "colab_type": "code",
        "colab": {}
      },
      "source": [
        "dates = driver.find_elements(by='xpath',value=\"//div[@class='LVQB0b']//div[2]//span[@class='p2TkOb']\")\n",
        "person = driver.find_elements(by='xpath',value=\"//div[@class='LVQB0b']//div[2]//span[@class='X43Kjb']\")\n",
        "all_comms = driver.find_elements(by='xpath',value=\"//div[@class='LVQB0b']\")\n",
        "\n",
        "\n",
        "all_responses = []\n",
        "for i, (d, p, a) in enumerate(zip(dates, person, all_comms)):\n",
        "  response_info = {}\n",
        "  response_info.update({'id':i, \\\n",
        "                      'responder_name':p.text, \\\n",
        "                      'response_date':d.text, \\\n",
        "                      'response_text':a.text.split('\\n')[1]})\n",
        "  all_responses.append(response_info)"
      ],
      "execution_count": 0,
      "outputs": []
    },
    {
      "cell_type": "code",
      "metadata": {
        "id": "siWAhkiegFla",
        "colab_type": "code",
        "colab": {
          "base_uri": "https://localhost:8080/",
          "height": 1000
        },
        "outputId": "b246d7db-e136-4c22-9d81-0a3ddaa05b48"
      },
      "source": [
        "all_responses"
      ],
      "execution_count": 171,
      "outputs": [
        {
          "output_type": "execute_result",
          "data": {
            "text/plain": [
              "[{'id': 0,\n",
              "  'responder_name': 'abillionveg',\n",
              "  'response_date': 'October 29, 2019',\n",
              "  'response_text': \"Hi Jared, We apologize for the issue with uploading photos, it's due to how our server sometimes recognizes and renders photos. We're building in image editing features that will go out in Q1 2020 that will fix this. From all of us at abillionveg, a big thank you for being part of the journey as we build this. All the best, Vikas\"},\n",
              " {'id': 1,\n",
              "  'responder_name': 'abillionveg',\n",
              "  'response_date': 'October 22, 2019',\n",
              "  'response_text': 'Wow thank you for this amazing review Shweta!'},\n",
              " {'id': 2,\n",
              "  'responder_name': 'abillionveg',\n",
              "  'response_date': 'October 22, 2019',\n",
              "  'response_text': \"Dear Ong, Thank you so much for the feedback on accessing folders in your gallery. It's something that's on our product roadmap and we will get this right for you. We also have some exciting new features related to photos that will be appearing before year-end. Thanks for taking the time to post this review! All the best, Vikas\"},\n",
              " {'id': 3,\n",
              "  'responder_name': 'abillionveg',\n",
              "  'response_date': 'October 22, 2019',\n",
              "  'response_text': \"Hello! Thank you so much for the wonderful review of the app. We have so many new features and improvements that are going in before the end of the year that are going to make it even more powerful. If there's anything we can do to improve, please reach out at vikas@abillionveg.com Thanks, Vikas\"},\n",
              " {'id': 4,\n",
              "  'responder_name': 'abillionveg',\n",
              "  'response_date': 'August 21, 2019',\n",
              "  'response_text': \"Hey Jay, Thanks so much for the review. We have a long way to go and excited about what we're building and the impact we're having on the ecosystem. We have a huge revamp of the search engine coming out in the next 30 days which will include a significant leap in location based searches. Hope you come back and try it out. All the best, Vikas\"},\n",
              " {'id': 5,\n",
              "  'responder_name': 'abillionveg',\n",
              "  'response_date': 'October 22, 2019',\n",
              "  'response_text': \"Hi Theresa, Thank you so much for the wonderful review of the app. We have so many new features and improvements that are going in before the end of the year that are going to make it even more powerful. If there's anything we can do to improve, please reach out at vikas@abillionveg.com All the best, Vikas\"},\n",
              " {'id': 6,\n",
              "  'responder_name': 'abillionveg',\n",
              "  'response_date': 'October 22, 2019',\n",
              "  'response_text': \"Hi Jonny, Thank you so much for posting this nice review of the app! It gets me so excited when we have amazing people in the community like you. It means we have a real chance at making the impact that we're all working so hard to get to. Thank you for giving us a shot. I promise we're working hard to make it a great experience. Vikas\"},\n",
              " {'id': 7,\n",
              "  'responder_name': 'abillionveg',\n",
              "  'response_date': 'October 22, 2019',\n",
              "  'response_text': 'Thanks for the great review Hazel!'},\n",
              " {'id': 8,\n",
              "  'responder_name': 'abillionveg',\n",
              "  'response_date': 'September 17, 2019',\n",
              "  'response_text': \"Hi Lee Sheng, thank you so much for taking the time to post a review! We're grateful for this and so happy to hear that you're enjoying the community. It's thanks to your efforts and the community that we have a chance at making the impact we all want. Wishing you all the best, Vikas\"},\n",
              " {'id': 9,\n",
              "  'responder_name': 'abillionveg',\n",
              "  'response_date': 'October 22, 2019',\n",
              "  'response_text': \"Dear Joy, It's only because of your contribution in building our community that we have a chance at making the impact we all want. Thank you so much for joining the movement and helping us build this. We'd love to get to know you better, if you ever want to chat please email me at vikas@abillionveg.com Thank you!\"},\n",
              " {'id': 10,\n",
              "  'responder_name': 'abillionveg',\n",
              "  'response_date': 'October 22, 2019',\n",
              "  'response_text': \"Dear Libby, Thank you so much for posting this review and all the wonderful reviews in the app. Each of your posts makes it easier for others to do the right thing and helps us support some of the most impactful organizations on the planet. If there's anything we can do to improve please get in touch. vikas@abillionveg.com Thanks, Vikas\"},\n",
              " {'id': 11,\n",
              "  'responder_name': 'abillionveg',\n",
              "  'response_date': 'October 22, 2019',\n",
              "  'response_text': \"Hey Alex, Thank you so much. One of the big things we're working on is making the user experience a lot less clunky and more intuitive. You're going to see huge improvements in the search bar, maps and suggestions in the next couple of app updates. If you have any feedback on the next update please let me know. I'm @vikas in the app, thank you!\"},\n",
              " {'id': 12,\n",
              "  'responder_name': 'abillionveg',\n",
              "  'response_date': 'October 22, 2019',\n",
              "  'response_text': \"Dear Cynthia, Thank you for the positive review and all of your wonderful contributions to building the movement. If there's anything at all that we can do to improve the platform please reach out to me directly at vikas@abillionveg.com All the best, Vikas\"},\n",
              " {'id': 13,\n",
              "  'responder_name': 'abillionveg',\n",
              "  'response_date': 'October 22, 2019',\n",
              "  'response_text': \"Dear Marisa, Thank you so much for the great review and for your insights. You're going to see some amazing new features in the app the next 3 months as we kick off our 1 million review challenge in 2020! If there's anything we can do to improve the app please let us know vikas@abillionveg.com Thanks, Vikas\"},\n",
              " {'id': 14,\n",
              "  'responder_name': 'abillionveg',\n",
              "  'response_date': 'October 22, 2019',\n",
              "  'response_text': \"Hey Candy, Thank you so much for this review. We'd love to hear more about the options you'd like in settings. Could you contact me at vikas@abillionveg.com and I'll be sure to work on this? Thanks, Vikas\"},\n",
              " {'id': 15,\n",
              "  'responder_name': 'abillionveg',\n",
              "  'response_date': 'October 22, 2019',\n",
              "  'response_text': \"Dear Marinette, Thank you so much for the great review. I'm so happy to hear that you're having a great experience in the app. If you ever think of anything we can do to make the experience better for you or the community please let me know at vikas@abillionveg.com Wishing you all the best, Vikas\"},\n",
              " {'id': 16,\n",
              "  'responder_name': 'abillionveg',\n",
              "  'response_date': 'September 23, 2019',\n",
              "  'response_text': \"Dear Melanie, thank you so much for the review. It's only because of your contributions to helping build the community that we have a chance to make the impact for the world that we're all working hard to deliver. Wishing you all the best, Vikas\"},\n",
              " {'id': 17,\n",
              "  'responder_name': 'abillionveg',\n",
              "  'response_date': 'October 29, 2019',\n",
              "  'response_text': \"Dear Crystal, Thank you so much for the review! We're so grateful to have you part of the community and a force for change. Every time you choose vegan you're making an amazingly conscious choice for positive transformation in the world. Wishing you all the best, Vikas\"},\n",
              " {'id': 18,\n",
              "  'responder_name': 'abillionveg',\n",
              "  'response_date': 'September 17, 2019',\n",
              "  'response_text': 'Hi Riante, thank you so much for the kind review. We have a long way to to in making the community and app an even better experience. Your review is so uplifting and we appreciate it. Thank you! Wishing you all the best, Vikas'},\n",
              " {'id': 19,\n",
              "  'responder_name': 'abillionveg',\n",
              "  'response_date': 'October 22, 2019',\n",
              "  'response_text': \"Dear Lobo, We're very sorry that you weren't able to find options in your area. You're absolutely right, we're very new, and sometimes we just don't have reviews yet in an area where someone new signs up. We're working on this, and thank you for considering checking out the app again in the future. We're grateful! All the best, Vikas\"},\n",
              " {'id': 20,\n",
              "  'responder_name': 'abillionveg',\n",
              "  'response_date': 'October 22, 2019',\n",
              "  'response_text': 'Hi Bushra, I\\'m so sorry to hear that you had a bad experience signing up. Can you check if you were on the sign up page or login page? That\\'s one of the errors that most often results in a \"bad sign up\". If you can email me at vikas@abillionveg.com I\\'ll personally look into this for you and help you fix it. Thanks, Vikas'},\n",
              " {'id': 21,\n",
              "  'responder_name': 'abillionveg',\n",
              "  'response_date': 'September 23, 2019',\n",
              "  'response_text': 'Dear Montse, From everyone at abillionveg thank you for the great review. Thanks to your wonderful contributions we now have nearly 30 animal rescue organizations around the world that we count as partners. Your reviews are making a huge impact! Wishing you all the best, Vikas'},\n",
              " {'id': 22,\n",
              "  'responder_name': 'abillionveg',\n",
              "  'response_date': 'August 20, 2019',\n",
              "  'response_text': \"Hi Renee, Thanks for the review. We have been experimenting with categories in an effort to improve content moderation and the quality of reviews. We had a lot of categories and now we've gone in the other direction, and there's probably a happy medium that works for everyone. You can stop notifications in your app settings. All the best, Vikas\"},\n",
              " {'id': 23,\n",
              "  'responder_name': 'abillionveg',\n",
              "  'response_date': 'May 27, 2019',\n",
              "  'response_text': \"Dear Milica, thank you so much for your feedback and the great suggestions. We're going to think further about how we build this so its more responsive to what you need. Stay tuned for more improvements. We just released product reviews and there's lots of work to be done here over the next few months. Really appreciate your feedback, thank you.\"},\n",
              " {'id': 24,\n",
              "  'responder_name': 'abillionveg',\n",
              "  'response_date': 'June 26, 2019',\n",
              "  'response_text': 'Hi Chase, thank you for the review. This is spot on and very fair. Try using the filters in the near me map to select distance instead of popularity and you will see more results. And you can zoom out and zoom in on the map, but you have to zoom in enough to display results. You identified a lot of work in progress. Thanks for being part of this!'},\n",
              " {'id': 25,\n",
              "  'responder_name': 'abillionveg',\n",
              "  'response_date': 'May 30, 2019',\n",
              "  'response_text': \"Thank you for the amazing feedback. We have been evaluating photo packages to find one that works really well for folders but so far haven't found one that works seamlessly. Regarding the grid, would you prefer 4 or 5 photos across? We've kept it at 3 so it works for smaller phones too. Thanks again for the detailed feedback, we appreciate it!\"},\n",
              " {'id': 26,\n",
              "  'responder_name': 'abillionveg',\n",
              "  'response_date': 'July 15, 2019',\n",
              "  'response_text': \"Hi Geoff, thanks so much for taking the time to write in. We're working through a couple of bugs that will improve latency and also there's a big revamp of the search function coming in August. Thanks for pointing out the delay with search results, it's something we're keenly focused on improving. Wishing you the best, Vikas\"},\n",
              " {'id': 27,\n",
              "  'responder_name': 'abillionveg',\n",
              "  'response_date': 'October 22, 2019',\n",
              "  'response_text': \"Dear Mikayla, Thank you so much for taking the time to post a review about the app. We're really grateful for your contributions in building the abillionveg movement and helping us get one step closer to making the impact that we all want. Wishing you all the best, Vikas\"},\n",
              " {'id': 28,\n",
              "  'responder_name': 'abillionveg',\n",
              "  'response_date': 'October 22, 2019',\n",
              "  'response_text': \"Dear friend, Thank you so much for our first review from Israel! We're grateful that you joined the community. One of my biggest frustrations in the app is the review function and our engineering team is working hard to improve the functionality and results of the search bar. You'll be seeing a big revamp and improvements before 2020! Best, Vikas\"},\n",
              " {'id': 29,\n",
              "  'responder_name': 'abillionveg',\n",
              "  'response_date': 'June 12, 2019',\n",
              "  'response_text': 'Thanks for your review! Definitely agree, we have a long way to go. Thanks for trying us out, hope we can make a bigger impact for you in the future. All the best.'},\n",
              " {'id': 30,\n",
              "  'responder_name': 'abillionveg',\n",
              "  'response_date': 'October 22, 2019',\n",
              "  'response_text': \"Dear Alie, Thank you so much for this great review and for your contributions to building the movement. We're working hard to update the app and make it a great experience with more features and suggestions, and it's only going to happen thanks to the work of our members too. Wishing you all the best, Vikas\"},\n",
              " {'id': 31,\n",
              "  'responder_name': 'abillionveg',\n",
              "  'response_date': 'July 25, 2019',\n",
              "  'response_text': \"Hi Ray, thanks for taking the time to post a review. If you're not seeing any options its because nobody has posted a review yet. We have 40k reviews in 86 countries but it takes time to build an authentic community from the ground up. I hope you'll try us out again in 6 months and see a lot more! And if you're up for it, try posting a few reviews!\"},\n",
              " {'id': 32,\n",
              "  'responder_name': 'abillionveg',\n",
              "  'response_date': 'October 22, 2019',\n",
              "  'response_text': \"Hi Nurit, Thank you so much for the wonderful review of the app. It's only because of amazing members like you that we have a chance at growing the movement and making an impact on the world. If there's anything we can do to improve, please reach out at vikas@abillionveg.com All the best, Vikas\"},\n",
              " {'id': 33,\n",
              "  'responder_name': 'abillionveg',\n",
              "  'response_date': 'July 11, 2019',\n",
              "  'response_text': \"Hi Grace, thank you so much for the positive feedback. It's only thanks to members like you that we have a shot at building something that makes lasting impact. If there's anything we can do to make the platform better, please reach out directly to me at vikas@abillionveg.com, thanks Grace.\"},\n",
              " {'id': 34,\n",
              "  'responder_name': 'abillionveg',\n",
              "  'response_date': 'October 22, 2019',\n",
              "  'response_text': \"Dear Elena, Thank you for the beautiful review! If there's anything at all that we can do to improve the app for you please let me know at vikas@abillionveg.com Thank you & all the best, Vikas\"},\n",
              " {'id': 35,\n",
              "  'responder_name': 'abillionveg',\n",
              "  'response_date': 'August 2, 2019',\n",
              "  'response_text': \"Hi Sarah, thank you so much for the nice review. We are still super new, don't have a ton of options (40k reviews and options globally), but we really want to build this community the right way, focused on reviews that real people like us submit. I hope to see you on the app! @vikas\"},\n",
              " {'id': 36,\n",
              "  'responder_name': 'abillionveg',\n",
              "  'response_date': 'May 27, 2019',\n",
              "  'response_text': \"Dear Andrea, thank you for the feedback and review. We're working hard to make it a great experience for the community. Wishing you all the best.\"},\n",
              " {'id': 37,\n",
              "  'responder_name': 'abillionveg',\n",
              "  'response_date': 'June 28, 2019',\n",
              "  'response_text': \"Dear Lani, I am so sorry for this problem. We just updated a part of the app and think this might be causing the crashes in the latest release. We're working on fixing this problem, thanks so much for reporting it.\"},\n",
              " {'id': 38,\n",
              "  'responder_name': 'abillionveg',\n",
              "  'response_date': 'October 29, 2019',\n",
              "  'response_text': 'Thank you so much for the kind review Gretchen! Wishing you all the best, Vikas'},\n",
              " {'id': 39,\n",
              "  'responder_name': 'abillionveg',\n",
              "  'response_date': 'May 27, 2019',\n",
              "  'response_text': 'Dear Kevin, thank you so much for helping build the community. We can make a big dent on how people and businesses think about plant-based options by working together, thank you!'},\n",
              " {'id': 40,\n",
              "  'responder_name': 'abillionveg',\n",
              "  'response_date': 'June 28, 2019',\n",
              "  'response_text': \"Hi Dana, so sorry to hear you're having a problem logging into the app. Could you try a password reset which should help refresh the password? Thanks so much. Vikas\"},\n",
              " {'id': 41,\n",
              "  'responder_name': 'abillionveg',\n",
              "  'response_date': 'July 29, 2019',\n",
              "  'response_text': \"Dear Ren, thanks for taking the time to review the app. We're building an authentic new community and while we already have tons of reviews in 90 countries, there are lots of places where a review hasn't been posted yet. We hope you'll try adding the first review of a vegan option in your area. Thank you & all the best.\"},\n",
              " {'id': 42,\n",
              "  'responder_name': 'abillionveg',\n",
              "  'response_date': 'July 11, 2019',\n",
              "  'response_text': \"Thank you so much, it's going to keep getting better!\"},\n",
              " {'id': 43,\n",
              "  'responder_name': 'abillionveg',\n",
              "  'response_date': 'October 22, 2019',\n",
              "  'response_text': \"Hi Esther, Thank you so much for posting such a positive review. If there's ever anything we can do to make the experience better for you please let me know! All the best, Vikas\"},\n",
              " {'id': 44,\n",
              "  'responder_name': 'abillionveg',\n",
              "  'response_date': 'July 11, 2019',\n",
              "  'response_text': \"Hi Camille, thanks so much for the review. We're focused on building an authentic community from the ground up. In places like Vancouver we have a ton of options and reviews listed, but in other places in Canada we might not. That's why its so important to have members like you that can contribute and help others find great options. All the best.\"},\n",
              " {'id': 45,\n",
              "  'responder_name': 'abillionveg',\n",
              "  'response_date': 'August 20, 2019',\n",
              "  'response_text': \"Hi Mippy, Thank you so much for taking the time to post a review of the app. We're working hard to make it a great experience for everyone, and I really appreciate you helping build the community with your posts. Thank you Mippy! All the best, Vikas\"},\n",
              " {'id': 46,\n",
              "  'responder_name': 'abillionveg',\n",
              "  'response_date': 'July 16, 2019',\n",
              "  'response_text': \"Hi Samantha, I'm so sorry to hear this. You can definitely search by city in the app. We initially launched with a country selection feature and allowed for location in the search box, but in the next update we're going to be including detailed location searches which will really improve your experience. Thanks for the feedback! Best, Vikas\"},\n",
              " {'id': 47,\n",
              "  'responder_name': 'abillionveg',\n",
              "  'response_date': 'July 11, 2019',\n",
              "  'response_text': \"Hi thanks for trying to contribute. We're building an authentic community which means we're working from the ground up based on member suggestions on what's good or not. I'm so sorry to hear that the search function didn't help you find locations you wanted to review. Can you reach out vikas@abillionveg.com so we can help you please?\"},\n",
              " {'id': 48,\n",
              "  'responder_name': 'abillionveg',\n",
              "  'response_date': 'September 3, 2019',\n",
              "  'response_text': \"Hi thank you, we're not sure what you mean but would appreciate if you could help us with some more details with an email to contact@abillionveg.com, thank you very much. All the best, Vikas\"},\n",
              " {'id': 49,\n",
              "  'responder_name': 'abillionveg',\n",
              "  'response_date': 'May 27, 2019',\n",
              "  'response_text': \"Thank you Rachael, we're working hard to make it a great experience for the community. We really appreciate your help while we grow and make an even bigger impact, thank you!\"},\n",
              " {'id': 50,\n",
              "  'responder_name': 'abillionveg',\n",
              "  'response_date': 'March 11, 2019',\n",
              "  'response_text': \"Hi Shayna, thank you so much for the review and for joining the community! We have a long way to go in making the platform great but with your help and a lot of work we're going to do it! In our next app update (a month away), we'll have a completely new look to product reviews and being able to find them and give feedback to the brands. Thank you!\"},\n",
              " {'id': 51,\n",
              "  'responder_name': 'abillionveg',\n",
              "  'response_date': 'December 3, 2018',\n",
              "  'response_text': \"Hi Trina, thanks for the great feedback. It's a constant process improving the functionality of the platform. You've picked up on a very big project, giving supermarket products a home and refining the search. We rely on the community to ask whether an item is vegan. Please give us a shot and we'll get this right! Thanks and all the best Trina!\"},\n",
              " {'id': 52,\n",
              "  'responder_name': 'abillionveg',\n",
              "  'response_date': 'March 26, 2019',\n",
              "  'response_text': \"Dear Ines, thank you so much for the feedback. Our engineering team is looking into this and we'll be making changes in the next update so the app is better integrated with other apps on your phone. Thank you so much for taking the time to help make abv a great experience for you and others. All the best, Vikas & team abv.\"},\n",
              " {'id': 53,\n",
              "  'responder_name': 'abillionveg',\n",
              "  'response_date': 'September 3, 2019',\n",
              "  'response_text': 'Thanks Geoff, appreciate the kind words. Wishing you all the best.'},\n",
              " {'id': 54,\n",
              "  'responder_name': 'abillionveg',\n",
              "  'response_date': 'October 29, 2018',\n",
              "  'response_text': \"Hi Chloe, thanks for taking the time to write a review. We're excited to have you on board to show businesses how to do right by vegan food and make an impact for animal welfare. Thank you!\"},\n",
              " {'id': 55,\n",
              "  'responder_name': 'abillionveg',\n",
              "  'response_date': 'February 25, 2019',\n",
              "  'response_text': \"Thanks very much Sajani, we're working hard to add a lot of features and make the experience better for you and the animals. Thanks for joining and helping support abv.\"},\n",
              " {'id': 56,\n",
              "  'responder_name': 'abillionveg',\n",
              "  'response_date': 'June 23, 2019',\n",
              "  'response_text': \"Hi Miranda thanks for your review and feedback. We're building a 100% authentic community, which means no back-filled data from other places on the web. It sounds like you are the first person in your area that's using the app which means there aren't any reviews yet, and our suggestions are based on member reviews only, so hope you contribute!\"},\n",
              " {'id': 57,\n",
              "  'responder_name': 'abillionveg',\n",
              "  'response_date': 'November 29, 2018',\n",
              "  'response_text': 'Hi Emmanuel, thank you so much for taking the time to review and for the nice feedback. The truth is we have a long way to go and you’ll be seeing a lot of great updates in the weeks and months ahead. If there’s anything at all we can do to make the experience better for you please reach out vikas@abillionveg.com Thank you! Best, Vikas'},\n",
              " {'id': 58,\n",
              "  'responder_name': 'abillionveg',\n",
              "  'response_date': 'October 29, 2019',\n",
              "  'response_text': \"Dear Geeta, Thank you so much for the kind review. We're working hard to improve the app and you'll be seeing a lot of new releases over the next 3 months that continue to improve the experience for the community. Thank you for taking the time to post a review. Wishing you all the best, Vikas\"},\n",
              " {'id': 59,\n",
              "  'responder_name': 'abillionveg',\n",
              "  'response_date': 'July 16, 2019',\n",
              "  'response_text': \"Hi thanks so much for your feedback. We have 40,000 reviews in 86 countries and growing every day, but we're also very new. Which country are you from? We're all about building an authentic community so your reviews can really help build the community and impact we're working on having around the world. Thank you for considering!\"},\n",
              " {'id': 60,\n",
              "  'responder_name': 'abillionveg',\n",
              "  'response_date': 'May 27, 2019',\n",
              "  'response_text': 'Hi, thank you so much, we believe we can change the way people think about apps and social media. Thank you for joining the movement!'},\n",
              " {'id': 61,\n",
              "  'responder_name': 'abillionveg',\n",
              "  'response_date': 'October 22, 2019',\n",
              "  'response_text': \"You got it Alice, that's what we're here for. It's so important we get this right and have the impact that we all want. Please help us in reaching $1 million donated to animal welfare and vegan initiatives next year. Wishing you all the best, Vikas\"},\n",
              " {'id': 62,\n",
              "  'responder_name': 'abillionveg',\n",
              "  'response_date': 'July 29, 2019',\n",
              "  'response_text': \"Dear Em, thanks for taking the time to review the app. We're building an authentic new community and while we already have tons of reviews in 90 countries, there are lots of places where a review hasn't been posted yet. We hope you'll try adding the first review of a vegan option in your area. Thank you & all the best.\"},\n",
              " {'id': 63,\n",
              "  'responder_name': 'abillionveg',\n",
              "  'response_date': 'July 15, 2019',\n",
              "  'response_text': \"Hi Kartik, thanks for taking the time to write in. Curious what you thought you were downloading. We're a platform for people to find vegan options around the world, and to review vegan options wherever they go. We're a social community and review platform that's working to drive sustainability around the world. I hope that helps, thank you, Vikas\"},\n",
              " {'id': 64,\n",
              "  'responder_name': 'abillionveg',\n",
              "  'response_date': 'May 27, 2019',\n",
              "  'response_text': \"Hi Michal, thank you so much, we're so happy that you're using the app to support animal rescue. Thank you!\"},\n",
              " {'id': 65,\n",
              "  'responder_name': 'abillionveg',\n",
              "  'response_date': 'May 13, 2019',\n",
              "  'response_text': 'Thank you!'},\n",
              " {'id': 66,\n",
              "  'responder_name': 'abillionveg',\n",
              "  'response_date': 'November 12, 2018',\n",
              "  'response_text': \"Hi Danielle, thank you so much. With a little bit of help from the community we can build this into something that will have a lasting impact on food systems and consumption. I hope you'll stay plugged in, and if there's anything we can do to make the experience better for you please reach out at any time. vikas@abillionveg.com\"},\n",
              " {'id': 67,\n",
              "  'responder_name': 'abillionveg',\n",
              "  'response_date': 'October 22, 2019',\n",
              "  'response_text': \"Thank you so much! It's great to have you on board with the movement!\"},\n",
              " {'id': 68,\n",
              "  'responder_name': 'abillionveg',\n",
              "  'response_date': 'July 16, 2019',\n",
              "  'response_text': 'Hi Paloma, thank you so much for the nice review. The community is only as good as our members and we appreciate your support and feedback. Thank you!'},\n",
              " {'id': 69,\n",
              "  'responder_name': 'abillionveg',\n",
              "  'response_date': 'July 25, 2018',\n",
              "  'response_text': \"Thanks very much Lee Choon, I hope you're enjoying using the app!\"},\n",
              " {'id': 70,\n",
              "  'responder_name': 'abillionveg',\n",
              "  'response_date': 'May 17, 2019',\n",
              "  'response_text': 'Thank you so much, stay tuned as we make the app even better!'},\n",
              " {'id': 71,\n",
              "  'responder_name': 'abillionveg',\n",
              "  'response_date': 'September 7, 2018',\n",
              "  'response_text': \"Jim, so appreciative of your nice comment, thank you very much. If there's anything we can do to make the experience better for you please let us know at contact@abillionveg.com Thank you!\"},\n",
              " {'id': 72,\n",
              "  'responder_name': 'abillionveg',\n",
              "  'response_date': 'September 7, 2018',\n",
              "  'response_text': \"Thank you so much for the nice review! If there's anything we can do to make the platform better for you let us know at contact@abillionveg.com\"},\n",
              " {'id': 73,\n",
              "  'responder_name': 'abillionveg',\n",
              "  'response_date': 'August 28, 2018',\n",
              "  'response_text': \"Thanks Rebecca, we appreciate the feedback. If there's anything we can do to make the experience better for you please let us know anytime through the app!\"},\n",
              " {'id': 74,\n",
              "  'responder_name': 'abillionveg',\n",
              "  'response_date': 'September 11, 2018',\n",
              "  'response_text': \"Thank you so much Sharon, we're building a lot of functionality around the advocacy and hope to share a lot more information and metrics around the impact we're having in the future. Thank you for joining us on this mission!\"},\n",
              " {'id': 75,\n",
              "  'responder_name': 'abillionveg',\n",
              "  'response_date': 'August 24, 2018',\n",
              "  'response_text': \"Hi Kai, very sorry to hear about the issues you're experiencing. We've experienced issues where users on certain devices cannot access photo folders. It's something we're working on. Sorry to hear about the issue with typing speed, it's something we haven't had issues with before but we'll look into. So sorry for not having a quick solution.\"},\n",
              " {'id': 76,\n",
              "  'responder_name': 'abillionveg',\n",
              "  'response_date': 'September 20, 2018',\n",
              "  'response_text': 'Hi Tyler, with our latest app release the problem for certain Android phones and access to photos should be resolved. Could you please let us know if it works for you now? Thank you!'},\n",
              " {'id': 77,\n",
              "  'responder_name': 'abillionveg',\n",
              "  'response_date': 'September 7, 2018',\n",
              "  'response_text': \"Thanks Angela, we couldn't do it without your contributions! If there's anything we can do to make the experience better please let us know at contact@abillionveg.com\"},\n",
              " {'id': 78,\n",
              "  'responder_name': 'abillionveg',\n",
              "  'response_date': 'July 25, 2018',\n",
              "  'response_text': 'Thanks Amber, we want to do whatever we can to support our partner sanctuaries. Every one of your reviews counts towards that! Thank you!!!'},\n",
              " {'id': 79,\n",
              "  'responder_name': 'abillionveg',\n",
              "  'response_date': 'July 25, 2018',\n",
              "  'response_text': \"Hi Harald, thank you so much for your review and for letting us know which device you're using. With the latest app release have your problems been solved? We sorted out the bugs around why the app was crashing on certain devices. Please let us know. Thank you!\"},\n",
              " {'id': 80,\n",
              "  'responder_name': 'abillionveg',\n",
              "  'response_date': 'July 25, 2018',\n",
              "  'response_text': \"Wow thank you Mike for the nice review. Hope you're enjoying using the app!\"},\n",
              " {'id': 81,\n",
              "  'responder_name': 'abillionveg',\n",
              "  'response_date': 'July 25, 2018',\n",
              "  'response_text': 'Wow thank you for the nice review, we are working hard to make it of value for you, thank you!'},\n",
              " {'id': 82,\n",
              "  'responder_name': 'abillionveg',\n",
              "  'response_date': 'July 25, 2018',\n",
              "  'response_text': 'Thanks very much for trying out the app!'},\n",
              " {'id': 83,\n",
              "  'responder_name': 'abillionveg',\n",
              "  'response_date': 'July 25, 2018',\n",
              "  'response_text': 'Thanks very much for the nice review Lou!'},\n",
              " {'id': 84,\n",
              "  'responder_name': 'abillionveg',\n",
              "  'response_date': 'September 7, 2018',\n",
              "  'response_text': \"Thank you so much for the nice comment. If there's anything we can do to make it better just let us know at contact@abillionveg.com\"},\n",
              " {'id': 85,\n",
              "  'responder_name': 'abillionveg',\n",
              "  'response_date': 'July 25, 2018',\n",
              "  'response_text': \"Wow, that's wonderful Leong Yoke. I hope you'll try out some of our latest recipes! Thank you.\"},\n",
              " {'id': 86,\n",
              "  'responder_name': 'abillionveg',\n",
              "  'response_date': 'July 25, 2018',\n",
              "  'response_text': \"Thanks very much Pratik, we just crossed 5,000 reviews from 47 countries around the world. We hope you'll try reviewing your favorite dishes!\"},\n",
              " {'id': 87,\n",
              "  'responder_name': 'abillionveg',\n",
              "  'response_date': 'July 25, 2018',\n",
              "  'response_text': 'Thanks very much Larcielto. How do you like the app so far?'},\n",
              " {'id': 88,\n",
              "  'responder_name': 'abillionveg',\n",
              "  'response_date': 'May 13, 2019',\n",
              "  'response_text': 'Thank you Pragnya, grateful to have you on board and working to build the community!'},\n",
              " {'id': 89,\n",
              "  'responder_name': 'abillionveg',\n",
              "  'response_date': 'July 25, 2018',\n",
              "  'response_text': \"Thanks very much Rishabh, we just crossed 5,000 reviews from 47 countries around the world. We hope you'll try reviewing your favorite dishes!\"}]"
            ]
          },
          "metadata": {
            "tags": []
          },
          "execution_count": 171
        }
      ]
    },
    {
      "cell_type": "code",
      "metadata": {
        "id": "iYpKHwDfqa_L",
        "colab_type": "code",
        "colab": {
          "base_uri": "https://localhost:8080/",
          "height": 173
        },
        "outputId": "2e83f77c-19e1-408a-be3a-789c226abc8d"
      },
      "source": [
        "df_response = pd.DataFrame(all_responses)\n",
        "df_response['response_date'] = df_response['response_date'].apply(lambda x: pd.datetime.strptime(x, '%B %d, %Y'))\n",
        "df_response.info()"
      ],
      "execution_count": 175,
      "outputs": [
        {
          "output_type": "stream",
          "text": [
            "<class 'pandas.core.frame.DataFrame'>\n",
            "RangeIndex: 90 entries, 0 to 89\n",
            "Data columns (total 4 columns):\n",
            "id                90 non-null int64\n",
            "responder_name    90 non-null object\n",
            "response_date     90 non-null datetime64[ns]\n",
            "response_text     90 non-null object\n",
            "dtypes: datetime64[ns](1), int64(1), object(2)\n",
            "memory usage: 2.9+ KB\n"
          ],
          "name": "stdout"
        }
      ]
    },
    {
      "cell_type": "code",
      "metadata": {
        "id": "TqKBmE-Qq_EP",
        "colab_type": "code",
        "colab": {
          "base_uri": "https://localhost:8080/",
          "height": 173
        },
        "outputId": "62f55c6d-42a9-40d6-c046-71f1c6a82d23"
      },
      "source": [
        "df_response.info()"
      ],
      "execution_count": 173,
      "outputs": [
        {
          "output_type": "stream",
          "text": [
            "<class 'pandas.core.frame.DataFrame'>\n",
            "RangeIndex: 90 entries, 0 to 89\n",
            "Data columns (total 4 columns):\n",
            "id                90 non-null int64\n",
            "responder_name    90 non-null object\n",
            "response_date     90 non-null object\n",
            "response_text     90 non-null object\n",
            "dtypes: int64(1), object(3)\n",
            "memory usage: 2.9+ KB\n"
          ],
          "name": "stdout"
        }
      ]
    },
    {
      "cell_type": "code",
      "metadata": {
        "id": "Oguw5NHWikwV",
        "colab_type": "code",
        "colab": {
          "base_uri": "https://localhost:8080/",
          "height": 197
        },
        "outputId": "475556db-e088-4940-de78-d37abf337729"
      },
      "source": [
        "df_response.head()"
      ],
      "execution_count": 176,
      "outputs": [
        {
          "output_type": "execute_result",
          "data": {
            "text/html": [
              "<div>\n",
              "<style scoped>\n",
              "    .dataframe tbody tr th:only-of-type {\n",
              "        vertical-align: middle;\n",
              "    }\n",
              "\n",
              "    .dataframe tbody tr th {\n",
              "        vertical-align: top;\n",
              "    }\n",
              "\n",
              "    .dataframe thead th {\n",
              "        text-align: right;\n",
              "    }\n",
              "</style>\n",
              "<table border=\"1\" class=\"dataframe\">\n",
              "  <thead>\n",
              "    <tr style=\"text-align: right;\">\n",
              "      <th></th>\n",
              "      <th>id</th>\n",
              "      <th>responder_name</th>\n",
              "      <th>response_date</th>\n",
              "      <th>response_text</th>\n",
              "    </tr>\n",
              "  </thead>\n",
              "  <tbody>\n",
              "    <tr>\n",
              "      <th>0</th>\n",
              "      <td>0</td>\n",
              "      <td>abillionveg</td>\n",
              "      <td>2019-10-29</td>\n",
              "      <td>Hi Jared, We apologize for the issue with uplo...</td>\n",
              "    </tr>\n",
              "    <tr>\n",
              "      <th>1</th>\n",
              "      <td>1</td>\n",
              "      <td>abillionveg</td>\n",
              "      <td>2019-10-22</td>\n",
              "      <td>Wow thank you for this amazing review Shweta!</td>\n",
              "    </tr>\n",
              "    <tr>\n",
              "      <th>2</th>\n",
              "      <td>2</td>\n",
              "      <td>abillionveg</td>\n",
              "      <td>2019-10-22</td>\n",
              "      <td>Dear Ong, Thank you so much for the feedback o...</td>\n",
              "    </tr>\n",
              "    <tr>\n",
              "      <th>3</th>\n",
              "      <td>3</td>\n",
              "      <td>abillionveg</td>\n",
              "      <td>2019-10-22</td>\n",
              "      <td>Hello! Thank you so much for the wonderful rev...</td>\n",
              "    </tr>\n",
              "    <tr>\n",
              "      <th>4</th>\n",
              "      <td>4</td>\n",
              "      <td>abillionveg</td>\n",
              "      <td>2019-08-21</td>\n",
              "      <td>Hey Jay, Thanks so much for the review. We hav...</td>\n",
              "    </tr>\n",
              "  </tbody>\n",
              "</table>\n",
              "</div>"
            ],
            "text/plain": [
              "   id  ...                                      response_text\n",
              "0   0  ...  Hi Jared, We apologize for the issue with uplo...\n",
              "1   1  ...      Wow thank you for this amazing review Shweta!\n",
              "2   2  ...  Dear Ong, Thank you so much for the feedback o...\n",
              "3   3  ...  Hello! Thank you so much for the wonderful rev...\n",
              "4   4  ...  Hey Jay, Thanks so much for the review. We hav...\n",
              "\n",
              "[5 rows x 4 columns]"
            ]
          },
          "metadata": {
            "tags": []
          },
          "execution_count": 176
        }
      ]
    },
    {
      "cell_type": "code",
      "metadata": {
        "id": "bp9HGZUAKKHh",
        "colab_type": "code",
        "colab": {
          "base_uri": "https://localhost:8080/",
          "height": 437
        },
        "outputId": "0ca8c723-c40c-452e-e735-260c834eb032"
      },
      "source": [
        "df_review.iloc[:13]\n"
      ],
      "execution_count": 199,
      "outputs": [
        {
          "output_type": "execute_result",
          "data": {
            "text/html": [
              "<div>\n",
              "<style scoped>\n",
              "    .dataframe tbody tr th:only-of-type {\n",
              "        vertical-align: middle;\n",
              "    }\n",
              "\n",
              "    .dataframe tbody tr th {\n",
              "        vertical-align: top;\n",
              "    }\n",
              "\n",
              "    .dataframe thead th {\n",
              "        text-align: right;\n",
              "    }\n",
              "</style>\n",
              "<table border=\"1\" class=\"dataframe\">\n",
              "  <thead>\n",
              "    <tr style=\"text-align: right;\">\n",
              "      <th></th>\n",
              "      <th>id</th>\n",
              "      <th>name</th>\n",
              "      <th>review_date</th>\n",
              "      <th>abridged_review</th>\n",
              "      <th>helpful_review</th>\n",
              "      <th>stars</th>\n",
              "    </tr>\n",
              "  </thead>\n",
              "  <tbody>\n",
              "    <tr>\n",
              "      <th>0</th>\n",
              "      <td>0</td>\n",
              "      <td>Jared Thresher</td>\n",
              "      <td>2019-10-25</td>\n",
              "      <td>Loving the concept of this app. Even without t...</td>\n",
              "      <td>2.0</td>\n",
              "      <td>4</td>\n",
              "    </tr>\n",
              "    <tr>\n",
              "      <th>1</th>\n",
              "      <td>1</td>\n",
              "      <td>Shweta Ramanujam</td>\n",
              "      <td>2019-10-14</td>\n",
              "      <td>Been using this app for a while now.Apart from...</td>\n",
              "      <td>8.0</td>\n",
              "      <td>5</td>\n",
              "    </tr>\n",
              "    <tr>\n",
              "      <th>2</th>\n",
              "      <td>2</td>\n",
              "      <td>Yoga Ong</td>\n",
              "      <td>2019-10-08</td>\n",
              "      <td>Overall considered not bad, it is good that ha...</td>\n",
              "      <td>1.0</td>\n",
              "      <td>4</td>\n",
              "    </tr>\n",
              "    <tr>\n",
              "      <th>3</th>\n",
              "      <td>3</td>\n",
              "      <td>eclipse9871</td>\n",
              "      <td>2019-10-16</td>\n",
              "      <td>Love this app especially because it allows use...</td>\n",
              "      <td>4.0</td>\n",
              "      <td>5</td>\n",
              "    </tr>\n",
              "    <tr>\n",
              "      <th>4</th>\n",
              "      <td>4</td>\n",
              "      <td>Jay Laone</td>\n",
              "      <td>2019-08-20</td>\n",
              "      <td>I like the idea! I think it's a little hard to...</td>\n",
              "      <td>NaN</td>\n",
              "      <td>3</td>\n",
              "    </tr>\n",
              "    <tr>\n",
              "      <th>5</th>\n",
              "      <td>5</td>\n",
              "      <td>Theresa Salchert</td>\n",
              "      <td>2019-10-16</td>\n",
              "      <td>I really love this app. Very easy to use, grea...</td>\n",
              "      <td>NaN</td>\n",
              "      <td>5</td>\n",
              "    </tr>\n",
              "    <tr>\n",
              "      <th>6</th>\n",
              "      <td>6</td>\n",
              "      <td>Jonny Marshall</td>\n",
              "      <td>2019-10-06</td>\n",
              "      <td>Fantastic app. Great resource which is useful ...</td>\n",
              "      <td>NaN</td>\n",
              "      <td>5</td>\n",
              "    </tr>\n",
              "    <tr>\n",
              "      <th>7</th>\n",
              "      <td>7</td>\n",
              "      <td>Hazel Sim</td>\n",
              "      <td>2019-10-16</td>\n",
              "      <td>If you're finding it hard to dine out with fri...</td>\n",
              "      <td>NaN</td>\n",
              "      <td>5</td>\n",
              "    </tr>\n",
              "    <tr>\n",
              "      <th>8</th>\n",
              "      <td>8</td>\n",
              "      <td>Lee Sheng Chua</td>\n",
              "      <td>2019-09-16</td>\n",
              "      <td>Love how this app binds people of same beliefs...</td>\n",
              "      <td>1.0</td>\n",
              "      <td>5</td>\n",
              "    </tr>\n",
              "    <tr>\n",
              "      <th>9</th>\n",
              "      <td>9</td>\n",
              "      <td>Joy Rose</td>\n",
              "      <td>2019-09-26</td>\n",
              "      <td>A great app with a great mission. I've donated...</td>\n",
              "      <td>1.0</td>\n",
              "      <td>5</td>\n",
              "    </tr>\n",
              "    <tr>\n",
              "      <th>10</th>\n",
              "      <td>10</td>\n",
              "      <td>Libby Wongstein</td>\n",
              "      <td>2019-10-05</td>\n",
              "      <td>Love the concept of this app. Easy to use and ...</td>\n",
              "      <td>NaN</td>\n",
              "      <td>5</td>\n",
              "    </tr>\n",
              "    <tr>\n",
              "      <th>11</th>\n",
              "      <td>11</td>\n",
              "      <td>Alex Helme</td>\n",
              "      <td>2019-09-25</td>\n",
              "      <td>A little complicated to start with, but compre...</td>\n",
              "      <td>NaN</td>\n",
              "      <td>5</td>\n",
              "    </tr>\n",
              "    <tr>\n",
              "      <th>12</th>\n",
              "      <td>12</td>\n",
              "      <td>Cynthia Villegas</td>\n",
              "      <td>2019-10-05</td>\n",
              "      <td>Very easy to use and full of great info. I lov...</td>\n",
              "      <td>NaN</td>\n",
              "      <td>5</td>\n",
              "    </tr>\n",
              "  </tbody>\n",
              "</table>\n",
              "</div>"
            ],
            "text/plain": [
              "    id              name  ... helpful_review stars\n",
              "0    0    Jared Thresher  ...            2.0     4\n",
              "1    1  Shweta Ramanujam  ...            8.0     5\n",
              "2    2          Yoga Ong  ...            1.0     4\n",
              "3    3       eclipse9871  ...            4.0     5\n",
              "4    4         Jay Laone  ...            NaN     3\n",
              "5    5  Theresa Salchert  ...            NaN     5\n",
              "6    6    Jonny Marshall  ...            NaN     5\n",
              "7    7         Hazel Sim  ...            NaN     5\n",
              "8    8    Lee Sheng Chua  ...            1.0     5\n",
              "9    9          Joy Rose  ...            1.0     5\n",
              "10  10   Libby Wongstein  ...            NaN     5\n",
              "11  11        Alex Helme  ...            NaN     5\n",
              "12  12  Cynthia Villegas  ...            NaN     5\n",
              "\n",
              "[13 rows x 6 columns]"
            ]
          },
          "metadata": {
            "tags": []
          },
          "execution_count": 199
        }
      ]
    },
    {
      "cell_type": "code",
      "metadata": {
        "id": "PkHt6rzsLLZA",
        "colab_type": "code",
        "colab": {
          "base_uri": "https://localhost:8080/",
          "height": 138
        },
        "outputId": "7a26d03a-65a7-44e8-ebe4-85abff363643"
      },
      "source": [
        "df_review.iloc[63]"
      ],
      "execution_count": 208,
      "outputs": [
        {
          "output_type": "execute_result",
          "data": {
            "text/plain": [
              "id                                                                63\n",
              "name                                                   Sibel Şendere\n",
              "review_date                                      2019-11-11 00:00:00\n",
              "abridged_review    I reviewed 10 vegan products and this app dona...\n",
              "helpful_review                                                   NaN\n",
              "stars                                                              5\n",
              "Name: 63, dtype: object"
            ]
          },
          "metadata": {
            "tags": []
          },
          "execution_count": 208
        }
      ]
    },
    {
      "cell_type": "code",
      "metadata": {
        "id": "akZJuqHDKWJj",
        "colab_type": "code",
        "colab": {
          "base_uri": "https://localhost:8080/",
          "height": 647
        },
        "outputId": "871ef4b5-b094-4e92-8ce2-e88226cbe3fe"
      },
      "source": [
        "df_review = pd.concat([df_review.iloc[:13],\\\n",
        "                       df_review.iloc[14:63],\\\n",
        "                       df_review.iloc[64:],\\\n",
        "                       df_review.iloc[13],\\\n",
        "                       df_review.iloc[63]]).reset_index(drop=True)\n",
        "df_review.head(20)\n"
      ],
      "execution_count": 212,
      "outputs": [
        {
          "output_type": "execute_result",
          "data": {
            "text/html": [
              "<div>\n",
              "<style scoped>\n",
              "    .dataframe tbody tr th:only-of-type {\n",
              "        vertical-align: middle;\n",
              "    }\n",
              "\n",
              "    .dataframe tbody tr th {\n",
              "        vertical-align: top;\n",
              "    }\n",
              "\n",
              "    .dataframe thead th {\n",
              "        text-align: right;\n",
              "    }\n",
              "</style>\n",
              "<table border=\"1\" class=\"dataframe\">\n",
              "  <thead>\n",
              "    <tr style=\"text-align: right;\">\n",
              "      <th></th>\n",
              "      <th>0</th>\n",
              "      <th>abridged_review</th>\n",
              "      <th>helpful_review</th>\n",
              "      <th>id</th>\n",
              "      <th>name</th>\n",
              "      <th>review_date</th>\n",
              "      <th>stars</th>\n",
              "    </tr>\n",
              "  </thead>\n",
              "  <tbody>\n",
              "    <tr>\n",
              "      <th>0</th>\n",
              "      <td>NaN</td>\n",
              "      <td>Loving the concept of this app. Even without t...</td>\n",
              "      <td>2.0</td>\n",
              "      <td>0.0</td>\n",
              "      <td>Jared Thresher</td>\n",
              "      <td>2019-10-25</td>\n",
              "      <td>4.0</td>\n",
              "    </tr>\n",
              "    <tr>\n",
              "      <th>1</th>\n",
              "      <td>NaN</td>\n",
              "      <td>Been using this app for a while now.Apart from...</td>\n",
              "      <td>8.0</td>\n",
              "      <td>1.0</td>\n",
              "      <td>Shweta Ramanujam</td>\n",
              "      <td>2019-10-14</td>\n",
              "      <td>5.0</td>\n",
              "    </tr>\n",
              "    <tr>\n",
              "      <th>2</th>\n",
              "      <td>NaN</td>\n",
              "      <td>Overall considered not bad, it is good that ha...</td>\n",
              "      <td>1.0</td>\n",
              "      <td>2.0</td>\n",
              "      <td>Yoga Ong</td>\n",
              "      <td>2019-10-08</td>\n",
              "      <td>4.0</td>\n",
              "    </tr>\n",
              "    <tr>\n",
              "      <th>3</th>\n",
              "      <td>NaN</td>\n",
              "      <td>Love this app especially because it allows use...</td>\n",
              "      <td>4.0</td>\n",
              "      <td>3.0</td>\n",
              "      <td>eclipse9871</td>\n",
              "      <td>2019-10-16</td>\n",
              "      <td>5.0</td>\n",
              "    </tr>\n",
              "    <tr>\n",
              "      <th>4</th>\n",
              "      <td>NaN</td>\n",
              "      <td>I like the idea! I think it's a little hard to...</td>\n",
              "      <td>NaN</td>\n",
              "      <td>4.0</td>\n",
              "      <td>Jay Laone</td>\n",
              "      <td>2019-08-20</td>\n",
              "      <td>3.0</td>\n",
              "    </tr>\n",
              "    <tr>\n",
              "      <th>5</th>\n",
              "      <td>NaN</td>\n",
              "      <td>I really love this app. Very easy to use, grea...</td>\n",
              "      <td>NaN</td>\n",
              "      <td>5.0</td>\n",
              "      <td>Theresa Salchert</td>\n",
              "      <td>2019-10-16</td>\n",
              "      <td>5.0</td>\n",
              "    </tr>\n",
              "    <tr>\n",
              "      <th>6</th>\n",
              "      <td>NaN</td>\n",
              "      <td>Fantastic app. Great resource which is useful ...</td>\n",
              "      <td>NaN</td>\n",
              "      <td>6.0</td>\n",
              "      <td>Jonny Marshall</td>\n",
              "      <td>2019-10-06</td>\n",
              "      <td>5.0</td>\n",
              "    </tr>\n",
              "    <tr>\n",
              "      <th>7</th>\n",
              "      <td>NaN</td>\n",
              "      <td>If you're finding it hard to dine out with fri...</td>\n",
              "      <td>NaN</td>\n",
              "      <td>7.0</td>\n",
              "      <td>Hazel Sim</td>\n",
              "      <td>2019-10-16</td>\n",
              "      <td>5.0</td>\n",
              "    </tr>\n",
              "    <tr>\n",
              "      <th>8</th>\n",
              "      <td>NaN</td>\n",
              "      <td>Love how this app binds people of same beliefs...</td>\n",
              "      <td>1.0</td>\n",
              "      <td>8.0</td>\n",
              "      <td>Lee Sheng Chua</td>\n",
              "      <td>2019-09-16</td>\n",
              "      <td>5.0</td>\n",
              "    </tr>\n",
              "    <tr>\n",
              "      <th>9</th>\n",
              "      <td>NaN</td>\n",
              "      <td>A great app with a great mission. I've donated...</td>\n",
              "      <td>1.0</td>\n",
              "      <td>9.0</td>\n",
              "      <td>Joy Rose</td>\n",
              "      <td>2019-09-26</td>\n",
              "      <td>5.0</td>\n",
              "    </tr>\n",
              "    <tr>\n",
              "      <th>10</th>\n",
              "      <td>NaN</td>\n",
              "      <td>Love the concept of this app. Easy to use and ...</td>\n",
              "      <td>NaN</td>\n",
              "      <td>10.0</td>\n",
              "      <td>Libby Wongstein</td>\n",
              "      <td>2019-10-05</td>\n",
              "      <td>5.0</td>\n",
              "    </tr>\n",
              "    <tr>\n",
              "      <th>11</th>\n",
              "      <td>NaN</td>\n",
              "      <td>A little complicated to start with, but compre...</td>\n",
              "      <td>NaN</td>\n",
              "      <td>11.0</td>\n",
              "      <td>Alex Helme</td>\n",
              "      <td>2019-09-25</td>\n",
              "      <td>5.0</td>\n",
              "    </tr>\n",
              "    <tr>\n",
              "      <th>12</th>\n",
              "      <td>NaN</td>\n",
              "      <td>Very easy to use and full of great info. I lov...</td>\n",
              "      <td>NaN</td>\n",
              "      <td>12.0</td>\n",
              "      <td>Cynthia Villegas</td>\n",
              "      <td>2019-10-05</td>\n",
              "      <td>5.0</td>\n",
              "    </tr>\n",
              "    <tr>\n",
              "      <th>13</th>\n",
              "      <td>NaN</td>\n",
              "      <td>Great app 👍 it's different from Happy Cow beca...</td>\n",
              "      <td>1.0</td>\n",
              "      <td>14.0</td>\n",
              "      <td>marisa b</td>\n",
              "      <td>2019-10-07</td>\n",
              "      <td>5.0</td>\n",
              "    </tr>\n",
              "    <tr>\n",
              "      <th>14</th>\n",
              "      <td>NaN</td>\n",
              "      <td>Love this app! Very easy to use and very helpf...</td>\n",
              "      <td>NaN</td>\n",
              "      <td>15.0</td>\n",
              "      <td>Candy Daitch</td>\n",
              "      <td>2019-10-11</td>\n",
              "      <td>5.0</td>\n",
              "    </tr>\n",
              "    <tr>\n",
              "      <th>15</th>\n",
              "      <td>NaN</td>\n",
              "      <td>LOVE this app so much! So many good causes to ...</td>\n",
              "      <td>NaN</td>\n",
              "      <td>16.0</td>\n",
              "      <td>Marinette Coertzen</td>\n",
              "      <td>2019-10-01</td>\n",
              "      <td>5.0</td>\n",
              "    </tr>\n",
              "    <tr>\n",
              "      <th>16</th>\n",
              "      <td>NaN</td>\n",
              "      <td>Excellent app! I love that I can help raise fu...</td>\n",
              "      <td>NaN</td>\n",
              "      <td>17.0</td>\n",
              "      <td>Melanie Martina</td>\n",
              "      <td>2019-09-18</td>\n",
              "      <td>5.0</td>\n",
              "    </tr>\n",
              "    <tr>\n",
              "      <th>17</th>\n",
              "      <td>NaN</td>\n",
              "      <td>Great app that encourages me to eat more vegan...</td>\n",
              "      <td>NaN</td>\n",
              "      <td>18.0</td>\n",
              "      <td>Crystal H</td>\n",
              "      <td>2019-10-23</td>\n",
              "      <td>5.0</td>\n",
              "    </tr>\n",
              "    <tr>\n",
              "      <th>18</th>\n",
              "      <td>NaN</td>\n",
              "      <td>Easy to use. Great for reviewing vegan product...</td>\n",
              "      <td>NaN</td>\n",
              "      <td>19.0</td>\n",
              "      <td>Riante du Toit</td>\n",
              "      <td>2019-09-16</td>\n",
              "      <td>5.0</td>\n",
              "    </tr>\n",
              "    <tr>\n",
              "      <th>19</th>\n",
              "      <td>NaN</td>\n",
              "      <td>Unfortunately it does not have a more up to da...</td>\n",
              "      <td>1.0</td>\n",
              "      <td>20.0</td>\n",
              "      <td>Lobo Lobo</td>\n",
              "      <td>2019-10-01</td>\n",
              "      <td>1.0</td>\n",
              "    </tr>\n",
              "  </tbody>\n",
              "</table>\n",
              "</div>"
            ],
            "text/plain": [
              "      0                                    abridged_review  ...  review_date  stars\n",
              "0   NaN  Loving the concept of this app. Even without t...  ...   2019-10-25    4.0\n",
              "1   NaN  Been using this app for a while now.Apart from...  ...   2019-10-14    5.0\n",
              "2   NaN  Overall considered not bad, it is good that ha...  ...   2019-10-08    4.0\n",
              "3   NaN  Love this app especially because it allows use...  ...   2019-10-16    5.0\n",
              "4   NaN  I like the idea! I think it's a little hard to...  ...   2019-08-20    3.0\n",
              "5   NaN  I really love this app. Very easy to use, grea...  ...   2019-10-16    5.0\n",
              "6   NaN  Fantastic app. Great resource which is useful ...  ...   2019-10-06    5.0\n",
              "7   NaN  If you're finding it hard to dine out with fri...  ...   2019-10-16    5.0\n",
              "8   NaN  Love how this app binds people of same beliefs...  ...   2019-09-16    5.0\n",
              "9   NaN  A great app with a great mission. I've donated...  ...   2019-09-26    5.0\n",
              "10  NaN  Love the concept of this app. Easy to use and ...  ...   2019-10-05    5.0\n",
              "11  NaN  A little complicated to start with, but compre...  ...   2019-09-25    5.0\n",
              "12  NaN  Very easy to use and full of great info. I lov...  ...   2019-10-05    5.0\n",
              "13  NaN  Great app 👍 it's different from Happy Cow beca...  ...   2019-10-07    5.0\n",
              "14  NaN  Love this app! Very easy to use and very helpf...  ...   2019-10-11    5.0\n",
              "15  NaN  LOVE this app so much! So many good causes to ...  ...   2019-10-01    5.0\n",
              "16  NaN  Excellent app! I love that I can help raise fu...  ...   2019-09-18    5.0\n",
              "17  NaN  Great app that encourages me to eat more vegan...  ...   2019-10-23    5.0\n",
              "18  NaN  Easy to use. Great for reviewing vegan product...  ...   2019-09-16    5.0\n",
              "19  NaN  Unfortunately it does not have a more up to da...  ...   2019-10-01    1.0\n",
              "\n",
              "[20 rows x 7 columns]"
            ]
          },
          "metadata": {
            "tags": []
          },
          "execution_count": 212
        }
      ]
    },
    {
      "cell_type": "code",
      "metadata": {
        "id": "lb1MC2e_KlQl",
        "colab_type": "code",
        "colab": {
          "base_uri": "https://localhost:8080/",
          "height": 197
        },
        "outputId": "2496795c-9a46-4979-bc71-c68c2397f55e"
      },
      "source": [
        "df_review.tail()"
      ],
      "execution_count": 213,
      "outputs": [
        {
          "output_type": "execute_result",
          "data": {
            "text/html": [
              "<div>\n",
              "<style scoped>\n",
              "    .dataframe tbody tr th:only-of-type {\n",
              "        vertical-align: middle;\n",
              "    }\n",
              "\n",
              "    .dataframe tbody tr th {\n",
              "        vertical-align: top;\n",
              "    }\n",
              "\n",
              "    .dataframe thead th {\n",
              "        text-align: right;\n",
              "    }\n",
              "</style>\n",
              "<table border=\"1\" class=\"dataframe\">\n",
              "  <thead>\n",
              "    <tr style=\"text-align: right;\">\n",
              "      <th></th>\n",
              "      <th>0</th>\n",
              "      <th>abridged_review</th>\n",
              "      <th>helpful_review</th>\n",
              "      <th>id</th>\n",
              "      <th>name</th>\n",
              "      <th>review_date</th>\n",
              "      <th>stars</th>\n",
              "    </tr>\n",
              "  </thead>\n",
              "  <tbody>\n",
              "    <tr>\n",
              "      <th>97</th>\n",
              "      <td>Sibel Şendere</td>\n",
              "      <td>NaN</td>\n",
              "      <td>NaN</td>\n",
              "      <td>NaN</td>\n",
              "      <td>NaN</td>\n",
              "      <td>NaT</td>\n",
              "      <td>NaN</td>\n",
              "    </tr>\n",
              "    <tr>\n",
              "      <th>98</th>\n",
              "      <td>2019-11-11 00:00:00</td>\n",
              "      <td>NaN</td>\n",
              "      <td>NaN</td>\n",
              "      <td>NaN</td>\n",
              "      <td>NaN</td>\n",
              "      <td>NaT</td>\n",
              "      <td>NaN</td>\n",
              "    </tr>\n",
              "    <tr>\n",
              "      <th>99</th>\n",
              "      <td>I reviewed 10 vegan products and this app dona...</td>\n",
              "      <td>NaN</td>\n",
              "      <td>NaN</td>\n",
              "      <td>NaN</td>\n",
              "      <td>NaN</td>\n",
              "      <td>NaT</td>\n",
              "      <td>NaN</td>\n",
              "    </tr>\n",
              "    <tr>\n",
              "      <th>100</th>\n",
              "      <td>NaN</td>\n",
              "      <td>NaN</td>\n",
              "      <td>NaN</td>\n",
              "      <td>NaN</td>\n",
              "      <td>NaN</td>\n",
              "      <td>NaT</td>\n",
              "      <td>NaN</td>\n",
              "    </tr>\n",
              "    <tr>\n",
              "      <th>101</th>\n",
              "      <td>5</td>\n",
              "      <td>NaN</td>\n",
              "      <td>NaN</td>\n",
              "      <td>NaN</td>\n",
              "      <td>NaN</td>\n",
              "      <td>NaT</td>\n",
              "      <td>NaN</td>\n",
              "    </tr>\n",
              "  </tbody>\n",
              "</table>\n",
              "</div>"
            ],
            "text/plain": [
              "                                                     0  ... stars\n",
              "97                                       Sibel Şendere  ...   NaN\n",
              "98                                 2019-11-11 00:00:00  ...   NaN\n",
              "99   I reviewed 10 vegan products and this app dona...  ...   NaN\n",
              "100                                                NaN  ...   NaN\n",
              "101                                                  5  ...   NaN\n",
              "\n",
              "[5 rows x 7 columns]"
            ]
          },
          "metadata": {
            "tags": []
          },
          "execution_count": 213
        }
      ]
    },
    {
      "cell_type": "code",
      "metadata": {
        "id": "nioTM4m3KBHK",
        "colab_type": "code",
        "colab": {}
      },
      "source": [
        "df_review = concat([df_review.iloc[:2], line, df.iloc[3:]]).reset_index(drop=True)"
      ],
      "execution_count": 0,
      "outputs": []
    },
    {
      "cell_type": "code",
      "metadata": {
        "id": "My_XJRstICcR",
        "colab_type": "code",
        "colab": {}
      },
      "source": [
        "df_review.to_csv('reviews.csv')\n",
        "df_response.to_csv('responses.csv')\n"
      ],
      "execution_count": 0,
      "outputs": []
    },
    {
      "cell_type": "code",
      "metadata": {
        "id": "vuvrgO_HD_g5",
        "colab_type": "code",
        "colab": {
          "base_uri": "https://localhost:8080/",
          "height": 225
        },
        "outputId": "fca22201-e47c-4f7c-888f-8b3b0d8d81d6"
      },
      "source": [
        "df_response.response_text"
      ],
      "execution_count": 185,
      "outputs": [
        {
          "output_type": "execute_result",
          "data": {
            "text/plain": [
              "0     Hi Jared, We apologize for the issue with uplo...\n",
              "1         Wow thank you for this amazing review Shweta!\n",
              "2     Dear Ong, Thank you so much for the feedback o...\n",
              "3     Hello! Thank you so much for the wonderful rev...\n",
              "4     Hey Jay, Thanks so much for the review. We hav...\n",
              "                            ...                        \n",
              "85    Wow, that's wonderful Leong Yoke. I hope you'l...\n",
              "86    Thanks very much Pratik, we just crossed 5,000...\n",
              "87    Thanks very much Larcielto. How do you like th...\n",
              "88    Thank you Pragnya, grateful to have you on boa...\n",
              "89    Thanks very much Rishabh, we just crossed 5,00...\n",
              "Name: response_text, Length: 90, dtype: object"
            ]
          },
          "metadata": {
            "tags": []
          },
          "execution_count": 185
        }
      ]
    },
    {
      "cell_type": "code",
      "metadata": {
        "id": "_z7Bm4ibqoIz",
        "colab_type": "code",
        "colab": {
          "base_uri": "https://localhost:8080/",
          "height": 107
        },
        "outputId": "6fd77c3f-be76-454d-e140-b92d42127ccc"
      },
      "source": [
        "df_review.query('review_date > \"2019-10-30\"')"
      ],
      "execution_count": 193,
      "outputs": [
        {
          "output_type": "execute_result",
          "data": {
            "text/html": [
              "<div>\n",
              "<style scoped>\n",
              "    .dataframe tbody tr th:only-of-type {\n",
              "        vertical-align: middle;\n",
              "    }\n",
              "\n",
              "    .dataframe tbody tr th {\n",
              "        vertical-align: top;\n",
              "    }\n",
              "\n",
              "    .dataframe thead th {\n",
              "        text-align: right;\n",
              "    }\n",
              "</style>\n",
              "<table border=\"1\" class=\"dataframe\">\n",
              "  <thead>\n",
              "    <tr style=\"text-align: right;\">\n",
              "      <th></th>\n",
              "      <th>id</th>\n",
              "      <th>name</th>\n",
              "      <th>review_date</th>\n",
              "      <th>abridged_review</th>\n",
              "      <th>helpful_review</th>\n",
              "      <th>stars</th>\n",
              "    </tr>\n",
              "  </thead>\n",
              "  <tbody>\n",
              "    <tr>\n",
              "      <th>13</th>\n",
              "      <td>13</td>\n",
              "      <td>caiyun Xu</td>\n",
              "      <td>2019-10-31</td>\n",
              "      <td>It's a useful app. We can share our reviews, e...</td>\n",
              "      <td>NaN</td>\n",
              "      <td>5</td>\n",
              "    </tr>\n",
              "    <tr>\n",
              "      <th>63</th>\n",
              "      <td>63</td>\n",
              "      <td>Sibel Şendere</td>\n",
              "      <td>2019-11-11</td>\n",
              "      <td>I reviewed 10 vegan products and this app dona...</td>\n",
              "      <td>NaN</td>\n",
              "      <td>5</td>\n",
              "    </tr>\n",
              "  </tbody>\n",
              "</table>\n",
              "</div>"
            ],
            "text/plain": [
              "    id           name  ... helpful_review stars\n",
              "13  13      caiyun Xu  ...            NaN     5\n",
              "63  63  Sibel Şendere  ...            NaN     5\n",
              "\n",
              "[2 rows x 6 columns]"
            ]
          },
          "metadata": {
            "tags": []
          },
          "execution_count": 193
        }
      ]
    },
    {
      "cell_type": "code",
      "metadata": {
        "id": "n6YKBYdlFqIR",
        "colab_type": "code",
        "colab": {
          "base_uri": "https://localhost:8080/",
          "height": 1000
        },
        "outputId": "e929c3a2-4658-4f7c-8262-9fe3c9c1b19f"
      },
      "source": [
        "import nltk\n",
        "nltk.download(['stopwords','punkt','wordnet'])\n",
        "from nltk import word_tokenize, sent_tokenize\n",
        "from nltk.corpus import stopwords, wordnet\n",
        "from nltk.stem.porter import PorterStemmer\n",
        "from nltk.stem.wordnet import WordNetLemmatizer"
      ],
      "execution_count": 67,
      "outputs": [
        {
          "output_type": "stream",
          "text": [
            "\n",
            "\n",
            "\n",
            "\n",
            "\n",
            "\n",
            "\n",
            "\n",
            "\n",
            "\n",
            "\n",
            "\n",
            "\n",
            "\n",
            "\n",
            "\n",
            "\n",
            "\n",
            "\n",
            "\n",
            "\n",
            "\n",
            "\n",
            "\n",
            "\n",
            "\n",
            "\n",
            "\n",
            "\n",
            "\n",
            "\n",
            "\n",
            "\n",
            "\n",
            "\n",
            "\n",
            "\n",
            "\n",
            "\n",
            "\n",
            "\n",
            "\n",
            "\n",
            "\n",
            "\n",
            "\n",
            "\n",
            "\n",
            "\n",
            "\n",
            "\n",
            "\n",
            "\n",
            "\n",
            "\n",
            "\n",
            "\n",
            "\n",
            "\n",
            "\n",
            "\n",
            "\n",
            "\n",
            "\n",
            "\n",
            "\n",
            "\n",
            "\n",
            "\n",
            "\n",
            "\n",
            "\n",
            "\n",
            "\n",
            "\n",
            "\n",
            "\n",
            "\n",
            "\n",
            "\n",
            "\n",
            "\n",
            "\n",
            "\n",
            "\n",
            "\n",
            "\n",
            "\n",
            "\n",
            "\n",
            "\n",
            "\n"
          ],
          "name": "stdout"
        }
      ]
    },
    {
      "cell_type": "code",
      "metadata": {
        "id": "qzj6IIgVia_h",
        "colab_type": "code",
        "colab": {}
      },
      "source": [
        "\n",
        "reviewer_names = driver.find_elements(by='xpath',value=\"//span[@class='X43Kjb']\")\n",
        "review_date = driver.find_elements(by='xpath',value=\"//span[@class='p2TkOb']\")\n",
        "abridged_review = driver.find_elements(by='xpath',value=\"//span[@jsname='bN97Pc']\")\n",
        "full_reviews  = driver.find_elements(by='xpath',value=\"//span[@jsname='fbQN7e']\")"
      ],
      "execution_count": 0,
      "outputs": []
    },
    {
      "cell_type": "code",
      "metadata": {
        "id": "PsbIF_s5jRba",
        "colab_type": "code",
        "colab": {
          "base_uri": "https://localhost:8080/",
          "height": 34
        },
        "outputId": "69e233a0-aae6-4043-b133-c5cf994c102b"
      },
      "source": [
        "len(full_reviews)"
      ],
      "execution_count": 59,
      "outputs": [
        {
          "output_type": "execute_result",
          "data": {
            "text/plain": [
              "40"
            ]
          },
          "metadata": {
            "tags": []
          },
          "execution_count": 59
        }
      ]
    },
    {
      "cell_type": "code",
      "metadata": {
        "id": "YuJpqSgqi15y",
        "colab_type": "code",
        "colab": {
          "base_uri": "https://localhost:8080/",
          "height": 733
        },
        "outputId": "be868383-bfbf-43d8-d374-c8dab26de234"
      },
      "source": [
        "for i in range(0,40):\n",
        "  print(i+1,reviewer_names[i].text, review_date[i].text, abridged_review[i].text, full_reviews[i].text )"
      ],
      "execution_count": 61,
      "outputs": [
        {
          "output_type": "stream",
          "text": [
            "1 Jared Thresher October 25, 2019  Loving the concept of this app. Even without the donations it's still a great idea. However that is a major incentive. What that said almost everything works pretty well however when you take a photo it comes out sideways and that's aggravating cuz you can't rotate it or anything. But other than that I'm loving this app and I just donated for the second time!\n",
            "2 abillionveg October 29, 2019  Been using this app for a while now.Apart from looking for reviews of restaurants and dishes, the app also provides products which are vegan(which is new) comparing the apps I have used previously.The best thing about this app is it gives me a chance to do something good for the animals. A very noble concept, which has made me love this app more and more.\n",
            "3 Shweta Ramanujam October 14, 2019  Overall considered not bad, it is good that having an app to help a vegan / vegetarian on searching vegan food nearby or somewhere. The review function also make me easier on my decision / preferred options. The most i like is the writing a review = making a donation. Only that the problem I found hard to upload my images as it doesn't allow me select from the categories of my gallery. Sometime i will post late, which I have to scroll all the way down just to look for my pictures.\n",
            "4 abillionveg October 22, 2019  Love this app especially because it allows users to make donations to animal welfare organizations and animal sanctuaries all over the world, which is something i have never seen before in any other review platforms! They also have articles in the app which cover a decent range of topics such as recipes, vegan food travel guides and even university vegan food guide :D Great job!\n",
            "5 Yoga Ong October 8, 2019 I like the idea! I think it's a little hard to use to find restaurants... When searching, dont just find any reviews in a certain area, just list the closest possible. Almost no one would search by dish, but by area/location. For a good idea check out happy cow's app \n",
            "6 abillionveg October 22, 2019 I really love this app. Very easy to use, great to see items purchased by others that I haven't tried before. Best part, it donates money to a farm sanctuary of my choice. \n",
            "7 eclipse9871 October 16, 2019 Fantastic app. Great resource which is useful to find vegan food and also incentivses people to contribute in order to garner donations to charity. The poke option is also a brilliant idea to get businesses to do more to be vegan friendly. \n",
            "8 abillionveg October 22, 2019  If you're finding it hard to dine out with friends who may not be vegan, feel that it's impossible to go vegan or just constantly posting food photos on Instagram and feel hollow after, this is the app you need. Every review raises 1 USD which you later can donate to a sanctuary/animal welfare organisation of your choice! How awesome is that?\n",
            "9 Jay Laone August 20, 2019 Love how this app binds people of same beliefs, and also a platform for anyone who is interested to join the vegan lifestyle! It has many good reviews on food and products, great sharing platform! \n",
            "10 abillionveg August 21, 2019 A great app with a great mission. I've donated over $200 to animal sanctuaries by just reviewing food through this app. A great way to help the animals and spread the message about good vegan food! \n",
            "11 Theresa Salchert October 16, 2019 Love the concept of this app. Easy to use and to upload new restaurants! Like having reviews of vegan food and products in the one place 😊 \n",
            "12 abillionveg October 22, 2019 A little complicated to start with, but comprehensive and worthwhile learning your way around. Excited to see the app transform \n",
            "13 Jonny Marshall October 6, 2019 Very easy to use and full of great info. I love this app because you are able to make a difference for an amazing cause! \n",
            "14 abillionveg October 22, 2019 It's a useful app. We can share our reviews, exchange useful information and make donation to help animals. I love the app! Thanks to abillionveg! \n",
            "15 Hazel Sim October 16, 2019 Great app 👍 it's different from Happy Cow because it's more about specific dishes you can order at restaurants and products from the grocery store whereas Happy Cow is more for travelling and restaurant reviews. \n",
            "16 abillionveg October 22, 2019 Love this app! Very easy to use and very helpful. I would add options in the settings, but it's a great app \n",
            "17 Lee Sheng Chua September 16, 2019 LOVE this app so much! So many good causes to receive donations and learning of so many products and restaurants! 10/10 \n",
            "18 abillionveg September 17, 2019 Excellent app! I love that I can help raise funds for animal advocacy non-profit organizations and sanctuaries ❤👍 \n",
            "19 Joy Rose September 26, 2019 Great app that encourages me to eat more vegan food so that I can review it 😆 gives 10USD donations to animal charities of your choice for every 10 reviews! \n",
            "20 abillionveg October 22, 2019 Easy to use. Great for reviewing vegan products and also looking up other's reviews \n",
            "21 Libby Wongstein October 5, 2019 Unfortunately it does not have a more up to date listing of the vegan restaurants in my area. There are at least a handful that I know of already. Oh well hopefully this app will improve soon. Sorry will have to uninstall for now. :-( \n",
            "22 abillionveg October 22, 2019 Clicked \"sign up\" and nothing happened. Tried to open the app later and it kept crashing whenever I tried. \n",
            "23 Alex Helme September 25, 2019 It's super useful for you and you get to help amazing organizations all in one! \n",
            "24 abillionveg October 22, 2019  Desperately needs more subcategories!! How is there no place for Candy? whose pantry only consists of instant noodles and mayo? (not mentioning that mayo is a refrigerated product). I had to add custard powder and drinking chocolate under the milyk category and sugar candy under chocolate, becauae there is absolutely no other spots for them. Not only does it make it hard for reveiwers but also for people who are looking for particular products by category. Needs a way to stop notifications also.\n",
            "25 Cynthia Villegas October 5, 2019  I love the idea! I think this app has great potential, I just have a few things I would like to change: I would like the option to edit a certain product, specifically with the categories. When adding a product I put it in a certain category, then later I realized that a different category would suit it better. Also when adding a new brand, I would like to be able to select multiple categories since there are some cosmetic brands that also make food.\n",
            "26 abillionveg October 22, 2019  vegan on pixel 3 the search mechanic is clunky right now and you have to just hit search over and over because the app always zooms in and displays a small area of results making you scroll and search enough to make it irritable. I do hope this is fixed soon and you can zoom out and search because I love the idea and how they donate when you do reviews which I will do. app is better suited to finding food as you are out and about not planning ahead (as of funcionality right now)\n",
            "27 caiyun Xu October 31, 2019  Love the idea of posting & promoting vegan foods around the world. Although, some complications detected. When I want to upload an image which was clicked long back, I have to endlessly keep scrolling through the gallery and there's no 'folder' options to select the images from, which will make it easier and user-friendly. Also, the gallery doesn't scroll smoothly as well, it only loads as 3 row grids, making me scroll too much. Please look into this. TIA.\n",
            "28 marisa b October 7, 2019  Great idea, but the app has some big problems. Often it blocks completely for a while, then suddenly wakes up and maniacally reacts to all the taps you made while it was thinking. And sometimes I cannot post a review for a restaurant the app does not know about already; it just says \"fetching more results\" forever...\n",
            "29 abillionveg October 22, 2019 Incredible app and love that I can support my favourite farm animal sanctuaries \n",
            "30 Candy Daitch October 11, 2019 They are doing great things. But they should improve the search function ☺️ \n",
            "31 abillionveg October 22, 2019  Has a long way to go. These apps seem to be all the rage lately, but I am yet to see one that comes remotely close to happycow. Hopefully the increase in apps directly correlates to an increase in vegansism. abillionveg does not currently appear to be of much use in Australia due to a lack of obvious listings, while random businesses are listed as 'very veg friendly'. Hopefully the data improves soon.\n",
            "32 Marinette Coertzen October 1, 2019 Love this app. It's essentially social media for vegans. \n",
            "33 abillionveg October 22, 2019 yikes . this is a horribly designed app. i was so excited because the idea is great but there is barely anything listed in the entirety of new england ?? cmon . the map feature is also nearly impossible to use and you cant narrow your search down to specific states. \n",
            "34 Melanie Martina September 18, 2019 Love the app and the suggestions and review it has 0 \n",
            "35 abillionveg September 23, 2019 Loving this much-needed app! So great for new vegans to help them find info about restaurants and products! well done! \n",
            "36 Crystal H October 23, 2019 It's and amazing and beautiful idea, love it! \n",
            "37 abillionveg October 29, 2019 love all the ideas. very nice community. very small and fresh to the market app. would love to see where it goes!! \n",
            "38 Riante du Toit September 16, 2019 I love this app!! I can find vegan options near me, it's so helpful and user friendly:) Thanks abillionveg!!! \n",
            "39 abillionveg September 17, 2019 can't open this app its keeps crashing and when it doesn't crash it freezes on sign up screen 😓 \n",
            "40 Lobo Lobo October 1, 2019 Best way to introduce nice veg food and helping charity organisations at the same time! \n"
          ],
          "name": "stdout"
        }
      ]
    },
    {
      "cell_type": "code",
      "metadata": {
        "id": "QHe04GNnXR0N",
        "colab_type": "code",
        "colab": {
          "base_uri": "https://localhost:8080/",
          "height": 367
        },
        "outputId": "a36dbae0-b22a-430b-daa8-10fb15ff3dc0"
      },
      "source": [
        "for button in driver.find_elements_by_xpath(\"//div[@class='cQj82c']\"):\n",
        "  button.click()"
      ],
      "execution_count": 10,
      "outputs": [
        {
          "output_type": "error",
          "ename": "ElementClickInterceptedException",
          "evalue": "ignored",
          "traceback": [
            "\u001b[0;31m---------------------------------------------------------------------------\u001b[0m",
            "\u001b[0;31mElementClickInterceptedException\u001b[0m          Traceback (most recent call last)",
            "\u001b[0;32m<ipython-input-10-531eb5b0ff70>\u001b[0m in \u001b[0;36m<module>\u001b[0;34m()\u001b[0m\n\u001b[1;32m      1\u001b[0m \u001b[0;32mfor\u001b[0m \u001b[0mbutton\u001b[0m \u001b[0;32min\u001b[0m \u001b[0mdriver\u001b[0m\u001b[0;34m.\u001b[0m\u001b[0mfind_elements_by_xpath\u001b[0m\u001b[0;34m(\u001b[0m\u001b[0;34m\"//div[@class='cQj82c']\"\u001b[0m\u001b[0;34m)\u001b[0m\u001b[0;34m:\u001b[0m\u001b[0;34m\u001b[0m\u001b[0;34m\u001b[0m\u001b[0m\n\u001b[0;32m----> 2\u001b[0;31m   \u001b[0mbutton\u001b[0m\u001b[0;34m.\u001b[0m\u001b[0mclick\u001b[0m\u001b[0;34m(\u001b[0m\u001b[0;34m)\u001b[0m\u001b[0;34m\u001b[0m\u001b[0;34m\u001b[0m\u001b[0m\n\u001b[0m",
            "\u001b[0;32m/usr/local/lib/python3.6/dist-packages/selenium/webdriver/remote/webelement.py\u001b[0m in \u001b[0;36mclick\u001b[0;34m(self)\u001b[0m\n\u001b[1;32m     78\u001b[0m     \u001b[0;32mdef\u001b[0m \u001b[0mclick\u001b[0m\u001b[0;34m(\u001b[0m\u001b[0mself\u001b[0m\u001b[0;34m)\u001b[0m\u001b[0;34m:\u001b[0m\u001b[0;34m\u001b[0m\u001b[0;34m\u001b[0m\u001b[0m\n\u001b[1;32m     79\u001b[0m         \u001b[0;34m\"\"\"Clicks the element.\"\"\"\u001b[0m\u001b[0;34m\u001b[0m\u001b[0;34m\u001b[0m\u001b[0m\n\u001b[0;32m---> 80\u001b[0;31m         \u001b[0mself\u001b[0m\u001b[0;34m.\u001b[0m\u001b[0m_execute\u001b[0m\u001b[0;34m(\u001b[0m\u001b[0mCommand\u001b[0m\u001b[0;34m.\u001b[0m\u001b[0mCLICK_ELEMENT\u001b[0m\u001b[0;34m)\u001b[0m\u001b[0;34m\u001b[0m\u001b[0;34m\u001b[0m\u001b[0m\n\u001b[0m\u001b[1;32m     81\u001b[0m \u001b[0;34m\u001b[0m\u001b[0m\n\u001b[1;32m     82\u001b[0m     \u001b[0;32mdef\u001b[0m \u001b[0msubmit\u001b[0m\u001b[0;34m(\u001b[0m\u001b[0mself\u001b[0m\u001b[0;34m)\u001b[0m\u001b[0;34m:\u001b[0m\u001b[0;34m\u001b[0m\u001b[0;34m\u001b[0m\u001b[0m\n",
            "\u001b[0;32m/usr/local/lib/python3.6/dist-packages/selenium/webdriver/remote/webelement.py\u001b[0m in \u001b[0;36m_execute\u001b[0;34m(self, command, params)\u001b[0m\n\u001b[1;32m    631\u001b[0m             \u001b[0mparams\u001b[0m \u001b[0;34m=\u001b[0m \u001b[0;34m{\u001b[0m\u001b[0;34m}\u001b[0m\u001b[0;34m\u001b[0m\u001b[0;34m\u001b[0m\u001b[0m\n\u001b[1;32m    632\u001b[0m         \u001b[0mparams\u001b[0m\u001b[0;34m[\u001b[0m\u001b[0;34m'id'\u001b[0m\u001b[0;34m]\u001b[0m \u001b[0;34m=\u001b[0m \u001b[0mself\u001b[0m\u001b[0;34m.\u001b[0m\u001b[0m_id\u001b[0m\u001b[0;34m\u001b[0m\u001b[0;34m\u001b[0m\u001b[0m\n\u001b[0;32m--> 633\u001b[0;31m         \u001b[0;32mreturn\u001b[0m \u001b[0mself\u001b[0m\u001b[0;34m.\u001b[0m\u001b[0m_parent\u001b[0m\u001b[0;34m.\u001b[0m\u001b[0mexecute\u001b[0m\u001b[0;34m(\u001b[0m\u001b[0mcommand\u001b[0m\u001b[0;34m,\u001b[0m \u001b[0mparams\u001b[0m\u001b[0;34m)\u001b[0m\u001b[0;34m\u001b[0m\u001b[0;34m\u001b[0m\u001b[0m\n\u001b[0m\u001b[1;32m    634\u001b[0m \u001b[0;34m\u001b[0m\u001b[0m\n\u001b[1;32m    635\u001b[0m     \u001b[0;32mdef\u001b[0m \u001b[0mfind_element\u001b[0m\u001b[0;34m(\u001b[0m\u001b[0mself\u001b[0m\u001b[0;34m,\u001b[0m \u001b[0mby\u001b[0m\u001b[0;34m=\u001b[0m\u001b[0mBy\u001b[0m\u001b[0;34m.\u001b[0m\u001b[0mID\u001b[0m\u001b[0;34m,\u001b[0m \u001b[0mvalue\u001b[0m\u001b[0;34m=\u001b[0m\u001b[0;32mNone\u001b[0m\u001b[0;34m)\u001b[0m\u001b[0;34m:\u001b[0m\u001b[0;34m\u001b[0m\u001b[0;34m\u001b[0m\u001b[0m\n",
            "\u001b[0;32m/usr/local/lib/python3.6/dist-packages/selenium/webdriver/remote/webdriver.py\u001b[0m in \u001b[0;36mexecute\u001b[0;34m(self, driver_command, params)\u001b[0m\n\u001b[1;32m    319\u001b[0m         \u001b[0mresponse\u001b[0m \u001b[0;34m=\u001b[0m \u001b[0mself\u001b[0m\u001b[0;34m.\u001b[0m\u001b[0mcommand_executor\u001b[0m\u001b[0;34m.\u001b[0m\u001b[0mexecute\u001b[0m\u001b[0;34m(\u001b[0m\u001b[0mdriver_command\u001b[0m\u001b[0;34m,\u001b[0m \u001b[0mparams\u001b[0m\u001b[0;34m)\u001b[0m\u001b[0;34m\u001b[0m\u001b[0;34m\u001b[0m\u001b[0m\n\u001b[1;32m    320\u001b[0m         \u001b[0;32mif\u001b[0m \u001b[0mresponse\u001b[0m\u001b[0;34m:\u001b[0m\u001b[0;34m\u001b[0m\u001b[0;34m\u001b[0m\u001b[0m\n\u001b[0;32m--> 321\u001b[0;31m             \u001b[0mself\u001b[0m\u001b[0;34m.\u001b[0m\u001b[0merror_handler\u001b[0m\u001b[0;34m.\u001b[0m\u001b[0mcheck_response\u001b[0m\u001b[0;34m(\u001b[0m\u001b[0mresponse\u001b[0m\u001b[0;34m)\u001b[0m\u001b[0;34m\u001b[0m\u001b[0;34m\u001b[0m\u001b[0m\n\u001b[0m\u001b[1;32m    322\u001b[0m             response['value'] = self._unwrap_value(\n\u001b[1;32m    323\u001b[0m                 response.get('value', None))\n",
            "\u001b[0;32m/usr/local/lib/python3.6/dist-packages/selenium/webdriver/remote/errorhandler.py\u001b[0m in \u001b[0;36mcheck_response\u001b[0;34m(self, response)\u001b[0m\n\u001b[1;32m    240\u001b[0m                 \u001b[0malert_text\u001b[0m \u001b[0;34m=\u001b[0m \u001b[0mvalue\u001b[0m\u001b[0;34m[\u001b[0m\u001b[0;34m'alert'\u001b[0m\u001b[0;34m]\u001b[0m\u001b[0;34m.\u001b[0m\u001b[0mget\u001b[0m\u001b[0;34m(\u001b[0m\u001b[0;34m'text'\u001b[0m\u001b[0;34m)\u001b[0m\u001b[0;34m\u001b[0m\u001b[0;34m\u001b[0m\u001b[0m\n\u001b[1;32m    241\u001b[0m             \u001b[0;32mraise\u001b[0m \u001b[0mexception_class\u001b[0m\u001b[0;34m(\u001b[0m\u001b[0mmessage\u001b[0m\u001b[0;34m,\u001b[0m \u001b[0mscreen\u001b[0m\u001b[0;34m,\u001b[0m \u001b[0mstacktrace\u001b[0m\u001b[0;34m,\u001b[0m \u001b[0malert_text\u001b[0m\u001b[0;34m)\u001b[0m\u001b[0;34m\u001b[0m\u001b[0;34m\u001b[0m\u001b[0m\n\u001b[0;32m--> 242\u001b[0;31m         \u001b[0;32mraise\u001b[0m \u001b[0mexception_class\u001b[0m\u001b[0;34m(\u001b[0m\u001b[0mmessage\u001b[0m\u001b[0;34m,\u001b[0m \u001b[0mscreen\u001b[0m\u001b[0;34m,\u001b[0m \u001b[0mstacktrace\u001b[0m\u001b[0;34m)\u001b[0m\u001b[0;34m\u001b[0m\u001b[0;34m\u001b[0m\u001b[0m\n\u001b[0m\u001b[1;32m    243\u001b[0m \u001b[0;34m\u001b[0m\u001b[0m\n\u001b[1;32m    244\u001b[0m     \u001b[0;32mdef\u001b[0m \u001b[0m_value_or_default\u001b[0m\u001b[0;34m(\u001b[0m\u001b[0mself\u001b[0m\u001b[0;34m,\u001b[0m \u001b[0mobj\u001b[0m\u001b[0;34m,\u001b[0m \u001b[0mkey\u001b[0m\u001b[0;34m,\u001b[0m \u001b[0mdefault\u001b[0m\u001b[0;34m)\u001b[0m\u001b[0;34m:\u001b[0m\u001b[0;34m\u001b[0m\u001b[0;34m\u001b[0m\u001b[0m\n",
            "\u001b[0;31mElementClickInterceptedException\u001b[0m: Message: element click intercepted: Element <div class=\"cQj82c\">...</div> is not clickable at point (503, 14). Other element would receive the click: <a href=\"/store/apps/top\" class=\"L9ZZW uJjCzb\">...</a>\n  (Session info: headless chrome=78.0.3904.70)\n"
          ]
        }
      ]
    },
    {
      "cell_type": "code",
      "metadata": {
        "id": "zSMhxAq2V-wf",
        "colab_type": "code",
        "colab": {}
      },
      "source": [
        "# click radio button\n",
        "full_review_button = driver.find_elements_by_xpath(\"//input[@class='LkLjZd ScJHi OzU4dc  ' and @jsaction='click:TiglPc' and @jsname='gxjVle']\")[0]\n",
        "full_review_button.click()"
      ],
      "execution_count": 0,
      "outputs": []
    },
    {
      "cell_type": "code",
      "metadata": {
        "id": "cxHgoQuAImDo",
        "colab_type": "code",
        "colab": {
          "base_uri": "https://localhost:8080/",
          "height": 524
        },
        "outputId": "06dd76fe-ea2f-4857-8bf1-749230801d38"
      },
      "source": [
        "count = 0\n",
        "for element in driver.find_elements(by='xpath',value=\"//span[@class='X43Kjb']\"):\n",
        "  count += 1\n",
        "  print(count, element.text)\n",
        "\n",
        "count = 0\n",
        "for element in driver.find_elements(by='xpath',value=\"//span[@class='p2TkOb']\"):\n",
        "  count += 1  \n",
        "  print(count, element.text)\n",
        "\n",
        "count = 0\n",
        "for element in driver.find_elements(by='xpath',value=\"//span[@jsname='bN97Pc']\"):\n",
        "  count += 1  \n",
        "  print(count, element.text)\n",
        "\n",
        "\n",
        "count = 0\n",
        "for element in driver.find_elements(by='xpath',value=\"//span[@jsname='fbQN7e']\"):\n",
        "  count += 1  \n",
        "  print(count, element.text)\n"
      ],
      "execution_count": 5,
      "outputs": [
        {
          "output_type": "stream",
          "text": [
            "1 Jared Thresher\n",
            "2 abillionveg\n",
            "3 Shweta Ramanujam\n",
            "4 abillionveg\n",
            "5 Yoga Ong\n",
            "6 abillionveg\n",
            "7 eclipse9871\n",
            "8 abillionveg\n",
            "1 October 25, 2019\n",
            "2 October 29, 2019\n",
            "3 October 14, 2019\n",
            "4 October 22, 2019\n",
            "5 October 8, 2019\n",
            "6 October 22, 2019\n",
            "7 October 16, 2019\n",
            "8 October 22, 2019\n",
            "1 Loving the concept of this app. Even without the donations it's still a great idea. However that is a major incentive. What that said almost everything works pretty well however when you take a photo it comes out sideways and that's aggravating cuz you can't rotate it or anything. But other than tha...\n",
            "Full Review\n",
            "2 Been using this app for a while now.Apart from looking for reviews of restaurants and dishes, the app also provides products which are vegan(which is new) comparing the apps I have used previously.The best thing about this app is it gives me a chance to do something good for the animals. A very nobl...\n",
            "Full Review\n",
            "3 Overall considered not bad, it is good that having an app to help a vegan / vegetarian on searching vegan food nearby or somewhere. The review function also make me easier on my decision / preferred options. The most i like is the writing a review = making a donation. Only that the problem I found h...\n",
            "Full Review\n",
            "4 Love this app especially because it allows users to make donations to animal welfare organizations and animal sanctuaries all over the world, which is something i have never seen before in any other review platforms! They also have articles in the app which cover a decent range of topics such as rec...\n",
            "Full Review\n",
            "1 \n",
            "2 \n",
            "3 \n",
            "4 \n"
          ],
          "name": "stdout"
        }
      ]
    }
  ]
}