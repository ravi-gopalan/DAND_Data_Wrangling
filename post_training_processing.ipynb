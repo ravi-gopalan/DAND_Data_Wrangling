{
  "nbformat": 4,
  "nbformat_minor": 0,
  "metadata": {
    "colab": {
      "name": "post_training_processing.ipynb",
      "provenance": [],
      "machine_shape": "hm",
      "authorship_tag": "ABX9TyOfGI6tMrzYy0U/gbD19Q8j",
      "include_colab_link": true
    },
    "kernelspec": {
      "name": "python3",
      "display_name": "Python 3"
    },
    "accelerator": "GPU"
  },
  "cells": [
    {
      "cell_type": "markdown",
      "metadata": {
        "id": "view-in-github",
        "colab_type": "text"
      },
      "source": [
        "<a href=\"https://colab.research.google.com/github/ravi-gopalan/DAND_Data_Wrangling/blob/master/post_training_processing.ipynb\" target=\"_parent\"><img src=\"https://colab.research.google.com/assets/colab-badge.svg\" alt=\"Open In Colab\"/></a>"
      ]
    },
    {
      "cell_type": "code",
      "metadata": {
        "id": "SxHPbK3OYv_f",
        "colab_type": "code",
        "colab": {
          "base_uri": "https://localhost:8080/",
          "height": 141
        },
        "outputId": "ac90fcfb-3590-4f9a-81b1-d129de85f9e7"
      },
      "source": [
        "from google.colab import drive\n",
        "drive.mount('/gdrive')\n",
        "%cd /gdrive"
      ],
      "execution_count": 6,
      "outputs": [
        {
          "output_type": "stream",
          "text": [
            "Go to this URL in a browser: https://accounts.google.com/o/oauth2/auth?client_id=947318989803-6bn6qk8qdgf4n4g3pfee6491hc0brc4i.apps.googleusercontent.com&redirect_uri=urn%3aietf%3awg%3aoauth%3a2.0%3aoob&response_type=code&scope=email%20https%3a%2f%2fwww.googleapis.com%2fauth%2fdocs.test%20https%3a%2f%2fwww.googleapis.com%2fauth%2fdrive%20https%3a%2f%2fwww.googleapis.com%2fauth%2fdrive.photos.readonly%20https%3a%2f%2fwww.googleapis.com%2fauth%2fpeopleapi.readonly\n",
            "\n",
            "Enter your authorization code:\n",
            "··········\n",
            "Mounted at /gdrive\n",
            "/gdrive\n"
          ],
          "name": "stdout"
        }
      ]
    },
    {
      "cell_type": "code",
      "metadata": {
        "id": "SiKbczEsZPMi",
        "colab_type": "code",
        "colab": {
          "base_uri": "https://localhost:8080/",
          "height": 34
        },
        "outputId": "e8f2c9de-f812-49d1-c889-132d866b974b"
      },
      "source": [
        "cd '/gdrive/My Drive/abv_reviews'"
      ],
      "execution_count": 7,
      "outputs": [
        {
          "output_type": "stream",
          "text": [
            "/gdrive/My Drive/abv_reviews\n"
          ],
          "name": "stdout"
        }
      ]
    },
    {
      "cell_type": "code",
      "metadata": {
        "id": "vnQhxbvKOhhC",
        "colab_type": "code",
        "colab": {
          "base_uri": "https://localhost:8080/",
          "height": 869
        },
        "outputId": "a7f57a78-e32c-4c8f-f385-92f24e726058"
      },
      "source": [
        "!pip install -U spacy[cuda100]"
      ],
      "execution_count": 1,
      "outputs": [
        {
          "output_type": "stream",
          "text": [
            "Collecting spacy[cuda100]\n",
            "\u001b[?25l  Downloading https://files.pythonhosted.org/packages/47/13/80ad28ef7a16e2a86d16d73e28588be5f1085afd3e85e4b9b912bd700e8a/spacy-2.2.3-cp36-cp36m-manylinux1_x86_64.whl (10.4MB)\n",
            "\u001b[K     |████████████████████████████████| 10.4MB 4.8MB/s \n",
            "\u001b[?25hRequirement already satisfied, skipping upgrade: cymem<2.1.0,>=2.0.2 in /usr/local/lib/python3.6/dist-packages (from spacy[cuda100]) (2.0.3)\n",
            "Requirement already satisfied, skipping upgrade: requests<3.0.0,>=2.13.0 in /usr/local/lib/python3.6/dist-packages (from spacy[cuda100]) (2.21.0)\n",
            "Collecting catalogue<1.1.0,>=0.0.7\n",
            "  Downloading https://files.pythonhosted.org/packages/6c/f9/9a5658e2f56932e41eb264941f9a2cb7f3ce41a80cb36b2af6ab78e2f8af/catalogue-1.0.0-py2.py3-none-any.whl\n",
            "Collecting blis<0.5.0,>=0.4.0\n",
            "\u001b[?25l  Downloading https://files.pythonhosted.org/packages/41/19/f95c75562d18eb27219df3a3590b911e78d131b68466ad79fdf5847eaac4/blis-0.4.1-cp36-cp36m-manylinux1_x86_64.whl (3.7MB)\n",
            "\u001b[K     |████████████████████████████████| 3.7MB 48.4MB/s \n",
            "\u001b[?25hRequirement already satisfied, skipping upgrade: setuptools in /usr/local/lib/python3.6/dist-packages (from spacy[cuda100]) (42.0.2)\n",
            "Requirement already satisfied, skipping upgrade: numpy>=1.15.0 in /usr/local/lib/python3.6/dist-packages (from spacy[cuda100]) (1.17.5)\n",
            "Requirement already satisfied, skipping upgrade: wasabi<1.1.0,>=0.4.0 in /usr/local/lib/python3.6/dist-packages (from spacy[cuda100]) (0.6.0)\n",
            "Requirement already satisfied, skipping upgrade: srsly<1.1.0,>=0.1.0 in /usr/local/lib/python3.6/dist-packages (from spacy[cuda100]) (1.0.1)\n",
            "Collecting preshed<3.1.0,>=3.0.2\n",
            "\u001b[?25l  Downloading https://files.pythonhosted.org/packages/db/6b/e07fad36913879757c90ba03d6fb7f406f7279e11dcefc105ee562de63ea/preshed-3.0.2-cp36-cp36m-manylinux1_x86_64.whl (119kB)\n",
            "\u001b[K     |████████████████████████████████| 122kB 55.8MB/s \n",
            "\u001b[?25hCollecting thinc<7.4.0,>=7.3.0\n",
            "\u001b[?25l  Downloading https://files.pythonhosted.org/packages/07/59/6bb553bc9a5f072d3cd479fc939fea0f6f682892f1f5cff98de5c9b615bb/thinc-7.3.1-cp36-cp36m-manylinux1_x86_64.whl (2.2MB)\n",
            "\u001b[K     |████████████████████████████████| 2.2MB 39.7MB/s \n",
            "\u001b[?25hRequirement already satisfied, skipping upgrade: plac<1.2.0,>=0.9.6 in /usr/local/lib/python3.6/dist-packages (from spacy[cuda100]) (0.9.6)\n",
            "Requirement already satisfied, skipping upgrade: murmurhash<1.1.0,>=0.28.0 in /usr/local/lib/python3.6/dist-packages (from spacy[cuda100]) (1.0.2)\n",
            "Collecting cupy-cuda100>=5.0.0b4; extra == \"cuda100\"\n",
            "\u001b[?25l  Downloading https://files.pythonhosted.org/packages/84/3a/bf66277c1230a9cf3c26afa5b5fabc9fceb2e63f914cf5f4d59d574ac968/cupy_cuda100-7.0.0-cp36-cp36m-manylinux1_x86_64.whl (382.9MB)\n",
            "\u001b[K     |████████████████████████████████| 382.9MB 38kB/s \n",
            "\u001b[?25hRequirement already satisfied, skipping upgrade: chardet<3.1.0,>=3.0.2 in /usr/local/lib/python3.6/dist-packages (from requests<3.0.0,>=2.13.0->spacy[cuda100]) (3.0.4)\n",
            "Requirement already satisfied, skipping upgrade: certifi>=2017.4.17 in /usr/local/lib/python3.6/dist-packages (from requests<3.0.0,>=2.13.0->spacy[cuda100]) (2019.11.28)\n",
            "Requirement already satisfied, skipping upgrade: idna<2.9,>=2.5 in /usr/local/lib/python3.6/dist-packages (from requests<3.0.0,>=2.13.0->spacy[cuda100]) (2.8)\n",
            "Requirement already satisfied, skipping upgrade: urllib3<1.25,>=1.21.1 in /usr/local/lib/python3.6/dist-packages (from requests<3.0.0,>=2.13.0->spacy[cuda100]) (1.24.3)\n",
            "Requirement already satisfied, skipping upgrade: importlib-metadata>=0.20; python_version < \"3.8\" in /usr/local/lib/python3.6/dist-packages (from catalogue<1.1.0,>=0.0.7->spacy[cuda100]) (1.3.0)\n",
            "Requirement already satisfied, skipping upgrade: tqdm<5.0.0,>=4.10.0 in /usr/local/lib/python3.6/dist-packages (from thinc<7.4.0,>=7.3.0->spacy[cuda100]) (4.28.1)\n",
            "Requirement already satisfied, skipping upgrade: six>=1.9.0 in /usr/local/lib/python3.6/dist-packages (from cupy-cuda100>=5.0.0b4; extra == \"cuda100\"->spacy[cuda100]) (1.12.0)\n",
            "Requirement already satisfied, skipping upgrade: fastrlock>=0.3 in /usr/local/lib/python3.6/dist-packages (from cupy-cuda100>=5.0.0b4; extra == \"cuda100\"->spacy[cuda100]) (0.4)\n",
            "Requirement already satisfied, skipping upgrade: zipp>=0.5 in /usr/local/lib/python3.6/dist-packages (from importlib-metadata>=0.20; python_version < \"3.8\"->catalogue<1.1.0,>=0.0.7->spacy[cuda100]) (0.6.0)\n",
            "Requirement already satisfied, skipping upgrade: more-itertools in /usr/local/lib/python3.6/dist-packages (from zipp>=0.5->importlib-metadata>=0.20; python_version < \"3.8\"->catalogue<1.1.0,>=0.0.7->spacy[cuda100]) (8.0.2)\n",
            "Installing collected packages: catalogue, blis, preshed, thinc, cupy-cuda100, spacy\n",
            "  Found existing installation: blis 0.2.4\n",
            "    Uninstalling blis-0.2.4:\n",
            "      Successfully uninstalled blis-0.2.4\n",
            "  Found existing installation: preshed 2.0.1\n",
            "    Uninstalling preshed-2.0.1:\n",
            "      Successfully uninstalled preshed-2.0.1\n",
            "  Found existing installation: thinc 7.0.8\n",
            "    Uninstalling thinc-7.0.8:\n",
            "      Successfully uninstalled thinc-7.0.8\n",
            "  Found existing installation: spacy 2.1.9\n",
            "    Uninstalling spacy-2.1.9:\n",
            "      Successfully uninstalled spacy-2.1.9\n",
            "Successfully installed blis-0.4.1 catalogue-1.0.0 cupy-cuda100-7.0.0 preshed-3.0.2 spacy-2.2.3 thinc-7.3.1\n"
          ],
          "name": "stdout"
        }
      ]
    },
    {
      "cell_type": "code",
      "metadata": {
        "id": "xlTTSjBeZYGp",
        "colab_type": "code",
        "colab": {
          "base_uri": "https://localhost:8080/",
          "height": 138
        },
        "outputId": "2f8cc9c3-a189-4f4c-b04a-9ac27104cce6"
      },
      "source": [
        "import pandas as pd\n",
        "import numpy as np\n",
        "import warnings\n",
        "warnings.filterwarnings(\"ignore\")\n",
        "import re\n",
        "import random\n",
        "import srsly\n",
        "import json\n",
        "import spacy\n",
        "from spacy.lang.en import English\n",
        "from spacy.pipeline import EntityRuler\n",
        "from spacy import displacy\n",
        "from spacy.util import minibatch, compounding\n",
        "from pandas.io.json import json_normalize\n",
        "from spacy.gold import docs_to_json, biluo_tags_from_offsets, offsets_from_biluo_tags\n",
        "import spacy.cli\n",
        "spacy.cli.download(\"en_core_web_lg\")\n",
        "import en_core_web_lg\n",
        "\n",
        "import itertools\n",
        "\n",
        "import matplotlib.pyplot as plt\n",
        "%matplotlib inline\n",
        "\n",
        "from spacy.util import decaying\n"
      ],
      "execution_count": 2,
      "outputs": [
        {
          "output_type": "stream",
          "text": [
            "\u001b[38;5;3m⚠ Skipping model package dependencies and setting `--no-deps`. You\n",
            "don't seem to have the spaCy package itself installed (maybe because you've\n",
            "built from source?), so installing the model dependencies would cause spaCy to\n",
            "be downloaded, which probably isn't what you want. If the model package has\n",
            "other dependencies, you'll have to install them manually.\u001b[0m\n",
            "\u001b[38;5;2m✔ Download and installation successful\u001b[0m\n",
            "You can now load the model via spacy.load('en_core_web_lg')\n"
          ],
          "name": "stdout"
        }
      ]
    },
    {
      "cell_type": "code",
      "metadata": {
        "id": "3MUjKRl3Pnws",
        "colab_type": "code",
        "colab": {
          "base_uri": "https://localhost:8080/",
          "height": 34
        },
        "outputId": "8ce80d29-2c18-43b2-9409-e2b719a297eb"
      },
      "source": [
        "spacy.prefer_gpu()"
      ],
      "execution_count": 3,
      "outputs": [
        {
          "output_type": "execute_result",
          "data": {
            "text/plain": [
              "True"
            ]
          },
          "metadata": {
            "tags": []
          },
          "execution_count": 3
        }
      ]
    },
    {
      "cell_type": "code",
      "metadata": {
        "id": "PvnCeutZZYm2",
        "colab_type": "code",
        "colab": {}
      },
      "source": [
        "def cleanse_text(text):\n",
        "  step1 = re.sub(r\"(\\{'LOWER':\\s)\",r\"\",str(text))\n",
        "  step2 = re.sub(r\"[\\[{\\'\\,\\\"}\\]]\",r\"\",step1)\n",
        "  return step2\n",
        "\n",
        "def trim_entity_spans(data: list) -> list:\n",
        "    \"\"\"Removes leading and trailing white spaces from entity spans.\n",
        "\n",
        "    Args:\n",
        "        data (list): The data to be cleaned in spaCy JSON format.\n",
        "\n",
        "    Returns:\n",
        "        list: The cleaned data.\n",
        "    \"\"\"\n",
        "    invalid_span_tokens = re.compile(r'\\s')\n",
        "\n",
        "    cleaned_data = []\n",
        "    for text, annotations in data:\n",
        "        entities = annotations['entities']\n",
        "\n",
        "        print(text, annotations)\n",
        "        valid_entities = []\n",
        "        for start, end, label in entities:\n",
        "          valid_start = start\n",
        "          valid_end = end\n",
        "          print(valid_start, valid_end, len(text))\n",
        "          while valid_start < len(text) and invalid_span_tokens.match(text[valid_start]):\n",
        "            valid_start += 1\n",
        "          while valid_end > 1 and invalid_span_tokens.match(text[valid_end - 1]):\n",
        "            valid_end -= 1\n",
        "          valid_entities.append([valid_start, valid_end, label])\n",
        "        cleaned_data.append([text, {'entities': valid_entities}])\n",
        "\n",
        "    return cleaned_data\n",
        "\n",
        "def dump_jsonl(data, output_path, append=False):\n",
        "    \"\"\"\n",
        "    Write list of objects to a JSON lines file.\n",
        "    \"\"\"\n",
        "    mode = 'a+' if append else 'w'\n",
        "    with open(output_path, mode, encoding='utf-8') as f:\n",
        "        for line in data:\n",
        "            json_record = json.dumps(line, ensure_ascii=False)\n",
        "            f.write(json_record + '\\n')\n",
        "    print('Wrote {} records to {}'.format(len(data), output_path))\n",
        "\n",
        "def load_jsonl(input_path) -> list:\n",
        "    \"\"\"\n",
        "    Read list of objects from a JSON lines file.\n",
        "    \"\"\"\n",
        "    data = []\n",
        "    with open(input_path, 'r', encoding='utf-8') as f:\n",
        "        for line in f:\n",
        "            data.append(json.loads(line.rstrip('\\n|\\r')))\n",
        "    print('Loaded {} records from {}'.format(len(data), input_path))\n",
        "    return data\n",
        "\n",
        "\n",
        "def create_entity_pattern(ent_name, ent_label):\n",
        "  pattern_list = []\n",
        "  pattern_dict = {}\n",
        "  id_str = ''\n",
        "  for word in ent_name.lower().split():\n",
        "    token_dict = {}\n",
        "    token_dict['LOWER'] = word\n",
        "    pattern_list.append(token_dict)\n",
        "    id_str += '_' + word\n",
        "  if ent_label[:2] == 'U_':\n",
        "    pattern_dict['label'] = ent_label[2:]\n",
        "  else:\n",
        "    pattern_dict['label'] = ent_label  \n",
        "  pattern_dict['pattern'] = pattern_list\n",
        "  if id_str[0] == '_':\n",
        "    id_str = id_str[1:]\n",
        "  pattern_dict['id'] = id_str\n",
        "  return pattern_dict"
      ],
      "execution_count": 0,
      "outputs": []
    },
    {
      "cell_type": "code",
      "metadata": {
        "id": "KEDmm_epZdDW",
        "colab_type": "code",
        "colab": {
          "base_uri": "https://localhost:8080/",
          "height": 51
        },
        "outputId": "b7c91a6f-6352-4c5b-f4b5-5c944fe817b6"
      },
      "source": [
        "train_data = load_jsonl('train.jsonl')\n",
        "type(train_data)"
      ],
      "execution_count": 8,
      "outputs": [
        {
          "output_type": "stream",
          "text": [
            "Loaded 1000 records from train.jsonl\n"
          ],
          "name": "stdout"
        },
        {
          "output_type": "execute_result",
          "data": {
            "text/plain": [
              "list"
            ]
          },
          "metadata": {
            "tags": []
          },
          "execution_count": 8
        }
      ]
    },
    {
      "cell_type": "code",
      "metadata": {
        "id": "7QNjwFscSQms",
        "colab_type": "code",
        "colab": {
          "base_uri": "https://localhost:8080/",
          "height": 34
        },
        "outputId": "852e9e77-8c03-49fa-80e2-09e54b9540c8"
      },
      "source": [
        "type(en_core_web_lg)"
      ],
      "execution_count": 12,
      "outputs": [
        {
          "output_type": "execute_result",
          "data": {
            "text/plain": [
              "module"
            ]
          },
          "metadata": {
            "tags": []
          },
          "execution_count": 12
        }
      ]
    },
    {
      "cell_type": "code",
      "metadata": {
        "id": "oGg3p0XZR-JW",
        "colab_type": "code",
        "colab": {}
      },
      "source": [
        "nlp = en_core_web_lg.load()"
      ],
      "execution_count": 0,
      "outputs": []
    },
    {
      "cell_type": "code",
      "metadata": {
        "id": "NxAIXSlAaS-d",
        "colab_type": "code",
        "colab": {
          "base_uri": "https://localhost:8080/",
          "height": 34
        },
        "outputId": "3a8ea0f5-94b1-4499-d7d3-46c634c49a56"
      },
      "source": [
        "model = 'en_core_web_lg'\n",
        "#model = None\n",
        "\n",
        "\n",
        "\"\"\"Load the model, set up the pipeline and train the entity recognizer.\"\"\"\n",
        "if model is not None:\n",
        "    nlp = en_core_web_lg.load()  # load existing spaCy model\n",
        "    print(\"Loaded model '%s'\" % model)\n",
        "else:\n",
        "    nlp = spacy.blank(\"en\")  # create blank Language class\n",
        "    print(\"Created blank 'en' model\")\n",
        "\n",
        "# nlp.create_pipe works for built-ins that are registered with spaCy\n",
        "if \"ner\" not in nlp.pipe_names:\n",
        "    ner = nlp.create_pipe(\"ner\")\n",
        "    nlp.add_pipe(ner, last=True)\n",
        "# otherwise, get it so we can add labels\n",
        "else:\n",
        "    ner = nlp.get_pipe(\"ner\")\n",
        "\n",
        "# add labels\n",
        "for _, annotations in train_data:\n",
        "    for ent in annotations.get(\"entities\"):\n",
        "        ner.add_label(ent[2])"
      ],
      "execution_count": 13,
      "outputs": [
        {
          "output_type": "stream",
          "text": [
            "Loaded model 'en_core_web_lg'\n"
          ],
          "name": "stdout"
        }
      ]
    },
    {
      "cell_type": "code",
      "metadata": {
        "id": "0jWJGhTEa5Af",
        "colab_type": "code",
        "colab": {
          "base_uri": "https://localhost:8080/",
          "height": 608
        },
        "outputId": "a473dac5-82af-436f-895c-1c8c8f5e46fe"
      },
      "source": [
        "ner.labels"
      ],
      "execution_count": 14,
      "outputs": [
        {
          "output_type": "execute_result",
          "data": {
            "text/plain": [
              "('CARDINAL',\n",
              " 'DATE',\n",
              " 'EVENT',\n",
              " 'FAC',\n",
              " 'GPE',\n",
              " 'LANGUAGE',\n",
              " 'LAW',\n",
              " 'LOC',\n",
              " 'MONEY',\n",
              " 'NORP',\n",
              " 'ORDINAL',\n",
              " 'ORG',\n",
              " 'PERCENT',\n",
              " 'PERSON',\n",
              " 'PRODUCT',\n",
              " 'QUANTITY',\n",
              " 'TIME',\n",
              " 'WORK_OF_ART',\n",
              " 'beverage',\n",
              " 'bread',\n",
              " 'condiment',\n",
              " 'dish',\n",
              " 'food_habit',\n",
              " 'fruit',\n",
              " 'herb',\n",
              " 'lifestyle',\n",
              " 'meal',\n",
              " 'pastry',\n",
              " 'product',\n",
              " 'sandwich',\n",
              " 'seed',\n",
              " 'spice',\n",
              " 'vegetable',\n",
              " 'vegetableU_spice')"
            ]
          },
          "metadata": {
            "tags": []
          },
          "execution_count": 14
        }
      ]
    },
    {
      "cell_type": "code",
      "metadata": {
        "id": "YCqv8cL7MgMr",
        "colab_type": "code",
        "colab": {}
      },
      "source": [
        "dropout = decaying(0.6, 0.2, 1e-4)"
      ],
      "execution_count": 0,
      "outputs": []
    },
    {
      "cell_type": "code",
      "metadata": {
        "id": "UNeOGAWZMiEC",
        "colab_type": "code",
        "colab": {
          "base_uri": "https://localhost:8080/",
          "height": 34
        },
        "outputId": "5fd59cae-afb7-4b20-a246-0c7c51faa28c"
      },
      "source": [
        "next(dropout)"
      ],
      "execution_count": 17,
      "outputs": [
        {
          "output_type": "execute_result",
          "data": {
            "text/plain": [
              "0.5999"
            ]
          },
          "metadata": {
            "tags": []
          },
          "execution_count": 17
        }
      ]
    },
    {
      "cell_type": "code",
      "metadata": {
        "id": "RDPmPN1RbEFZ",
        "colab_type": "code",
        "colab": {}
      },
      "source": [
        "# get names of other pipes to disable them during training\n",
        "#other_pipes = [pipe for pipe in nlp.pipe_names if pipe not in [\"ner\", \"entity_ruler\",\"merge_entities\"]]\n",
        "\n",
        "other_pipes = [pipe for pipe in nlp.pipe_names if pipe not in [\"ner\"]]\n",
        "\n",
        "loss_trend = []\n",
        "with nlp.disable_pipes(*other_pipes):  # only train NER\n",
        "    # reset and initialize the weights randomly – but only if we're\n",
        "    # training a new model\n",
        "    if model is None:\n",
        "        nlp.begin_training()\n",
        "\n",
        "\n",
        "\n",
        "    for itn in range(200):\n",
        "      random.shuffle(train_data)\n",
        "      losses = {}\n",
        "\n",
        "#      for item in clean_train_ents:\n",
        "# batch up the examples using spaCy's minibatch\n",
        "      batches = minibatch(train_data, size=compounding(4.0, 32.0, 1.001))\n",
        "\n",
        "      for batch in batches:\n",
        "        texts, annotations = zip(*batch)\n",
        "#        print([item[0]], [item[1]])\n",
        "\n",
        "#        print(texts)\n",
        "#        print(annotations)\n",
        "        nlp.update(texts, annotations, drop=next(dropout), losses=losses)\n",
        "        loss_trend.append(losses['ner'])"
      ],
      "execution_count": 0,
      "outputs": []
    },
    {
      "cell_type": "code",
      "metadata": {
        "id": "ZU2vdKduNA8b",
        "colab_type": "code",
        "colab": {}
      },
      "source": [
        "import seaborn as sns"
      ],
      "execution_count": 0,
      "outputs": []
    },
    {
      "cell_type": "code",
      "metadata": {
        "id": "sWmp7lNAUb9o",
        "colab_type": "code",
        "colab": {
          "base_uri": "https://localhost:8080/",
          "height": 1000
        },
        "outputId": "5044d9da-b193-42cd-a6d9-dfa4c650f222"
      },
      "source": [
        "loss_trend"
      ],
      "execution_count": 25,
      "outputs": [
        {
          "output_type": "execute_result",
          "data": {
            "text/plain": [
              "[245.08283400535583,\n",
              " 669.137021780014,\n",
              " 973.1348836421967,\n",
              " 1250.6717293262482,\n",
              " 1656.3692877292633,\n",
              " 1908.5378210544586,\n",
              " 2146.511801481247,\n",
              " 2365.4678637981415,\n",
              " 2804.4378554821014,\n",
              " 3135.4046333823353,\n",
              " 3399.201971868053,\n",
              " 3550.1626661811024,\n",
              " 3956.898047307506,\n",
              " 4160.105110505596,\n",
              " 4368.195422748104,\n",
              " 4615.21020946838,\n",
              " 5055.9108987841755,\n",
              " 5268.423066237941,\n",
              " 5428.897396663204,\n",
              " 5735.454948047176,\n",
              " 5951.424540141597,\n",
              " 6078.1497646365315,\n",
              " 6357.259116748348,\n",
              " 6581.9380336795,\n",
              " 6742.56984958984,\n",
              " 6904.0658889804035,\n",
              " 7506.4580570254475,\n",
              " 7786.162561992183,\n",
              " 7999.2948504481465,\n",
              " 8220.025570729747,\n",
              " 8465.900627950206,\n",
              " 8768.009950498119,\n",
              " 8961.69323025085,\n",
              " 9159.567160228267,\n",
              " 9330.985387424007,\n",
              " 9473.617841819301,\n",
              " 9600.802021602169,\n",
              " 9978.085938075557,\n",
              " 10161.154475787655,\n",
              " 10321.328083613887,\n",
              " 10531.388797381893,\n",
              " 10804.056508639827,\n",
              " 10955.092108348384,\n",
              " 11210.405599216,\n",
              " 11343.00905428268,\n",
              " 11564.669119456783,\n",
              " 11711.616958716884,\n",
              " 11911.677811244503,\n",
              " 12085.481815913692,\n",
              " 12422.105259517208,\n",
              " 12592.301307300106,\n",
              " 12765.690864184871,\n",
              " 12918.18131361343,\n",
              " 13096.465928176418,\n",
              " 13391.546600440517,\n",
              " 13521.20017872192,\n",
              " 13649.307744601741,\n",
              " 13788.881034472957,\n",
              " 13912.429597953334,\n",
              " 14178.524401763454,\n",
              " 14452.1864295993,\n",
              " 14611.165831426159,\n",
              " 14892.919867375866,\n",
              " 15019.203616002575,\n",
              " 15216.730295279995,\n",
              " 15364.170092919841,\n",
              " 15562.423957208171,\n",
              " 15819.264231065288,\n",
              " 16088.987426141277,\n",
              " 16295.7936769519,\n",
              " 16517.385320762172,\n",
              " 16600.93940959312,\n",
              " 16717.087625125423,\n",
              " 16854.77522454597,\n",
              " 17097.07920060493,\n",
              " 17238.4958523307,\n",
              " 17491.024783948436,\n",
              " 17658.573619225994,\n",
              " 17812.45467076637,\n",
              " 18136.774580815807,\n",
              " 18328.689801076427,\n",
              " 18469.75652203895,\n",
              " 18534.48050270416,\n",
              " 18765.082190135494,\n",
              " 18974.191605189815,\n",
              " 19183.576193192974,\n",
              " 19360.810930589214,\n",
              " 19590.86370597221,\n",
              " 19730.3884304557,\n",
              " 20007.860423425213,\n",
              " 20097.104778150097,\n",
              " 20251.354122022167,\n",
              " 20376.306777337566,\n",
              " 20505.322491029277,\n",
              " 20583.958486894146,\n",
              " 20770.951000073925,\n",
              " 20918.73781833984,\n",
              " 21053.012012103572,\n",
              " 21131.23784838058,\n",
              " 21301.4122234378,\n",
              " 21456.739267209545,\n",
              " 21569.412874082103,\n",
              " 21746.360112527385,\n",
              " 21959.87261901237,\n",
              " 22251.15146289207,\n",
              " 22425.538938859478,\n",
              " 22577.090888837352,\n",
              " 22737.607349256054,\n",
              " 22875.810205319896,\n",
              " 23014.185119489208,\n",
              " 23127.58427129127,\n",
              " 23317.12010560371,\n",
              " 23492.233120778576,\n",
              " 23649.15970979072,\n",
              " 23810.403830865398,\n",
              " 24011.855137685314,\n",
              " 24210.061096051708,\n",
              " 24377.85706959106,\n",
              " 24530.96139726974,\n",
              " 24658.754491427913,\n",
              " 24955.3081842456,\n",
              " 25069.98198256828,\n",
              " 25261.2900055442,\n",
              " 25375.84755549766,\n",
              " 25565.970935204998,\n",
              " 25807.291826585308,\n",
              " 25939.72547684051,\n",
              " 26213.895468810573,\n",
              " 26432.864515403286,\n",
              " 26563.13487491943,\n",
              " 26727.667378762737,\n",
              " 26908.011175969616,\n",
              " 27120.985827544704,\n",
              " 27253.038543561473,\n",
              " 27413.22677216865,\n",
              " 27539.797708133236,\n",
              " 27808.76968727447,\n",
              " 27995.360861400142,\n",
              " 28124.327038625255,\n",
              " 28280.185873845592,\n",
              " 28398.346951106563,\n",
              " 28553.27539072372,\n",
              " 28751.718151668087,\n",
              " 28869.30594930984,\n",
              " 29001.923902610317,\n",
              " 29134.199369529262,\n",
              " 29244.922894576564,\n",
              " 29464.242540458217,\n",
              " 29646.24229345657,\n",
              " 29815.190140822902,\n",
              " 29912.95393023826,\n",
              " 30127.10509810783,\n",
              " 30264.4403525386,\n",
              " 30556.065910676494,\n",
              " 30728.49040208198,\n",
              " 30836.275670388713,\n",
              " 31014.72875724174,\n",
              " 31147.50502238609,\n",
              " 31348.84220633842,\n",
              " 31494.633222917095,\n",
              " 31608.04381094314,\n",
              " 31831.2412146125,\n",
              " 32099.178067067638,\n",
              " 32242.206754067913,\n",
              " 32378.93713269569,\n",
              " 32604.9323385749,\n",
              " 32758.751319745556,\n",
              " 33119.97971520759,\n",
              " 33266.656311372295,\n",
              " 33479.878628591076,\n",
              " 33625.78726587631,\n",
              " 33976.008596995845,\n",
              " 34237.544332126155,\n",
              " 34412.6945949588,\n",
              " 34600.69027862884,\n",
              " 34709.361381152645,\n",
              " 34911.93315611221,\n",
              " 35022.87527881004,\n",
              " 35221.78608451225,\n",
              " 35377.16210637428,\n",
              " 35510.24264011718,\n",
              " 35752.737161258236,\n",
              " 35901.96820507385,\n",
              " 36033.03508601524,\n",
              " 36213.53064904548,\n",
              " 36472.61705289222,\n",
              " 36698.91146169044,\n",
              " 36852.23546359874,\n",
              " 37033.800891378894,\n",
              " 37143.29968927242,\n",
              " 37296.76190564968,\n",
              " 37456.09235189296,\n",
              " 37543.12781951763,\n",
              " 37651.719980934635,\n",
              " 37756.72389099933,\n",
              " 37938.27914879657,\n",
              " 38276.301018456,\n",
              " 38437.55224678852,\n",
              " 38558.30114004947,\n",
              " 38670.7248966489,\n",
              " 38838.84961626865,\n",
              " 38985.89204333164,\n",
              " 39181.95035670139,\n",
              " 39370.41671917774,\n",
              " 39485.62257550098,\n",
              " 39673.21967146732,\n",
              " 39947.334995487705,\n",
              " 40049.49652955867,\n",
              " 40268.94080732204,\n",
              " 40339.14694760181,\n",
              " 40539.31020806171,\n",
              " 40631.426092842594,\n",
              " 40811.709312656894,\n",
              " 40970.3305527959,\n",
              " 41078.97266791202,\n",
              " 41219.31219599582,\n",
              " 41333.60511277057,\n",
              " 41694.377813080326,\n",
              " 41847.39667055942,\n",
              " 42137.64606306888,\n",
              " 42228.431913355365,\n",
              " 42331.20060012676,\n",
              " 42576.970069864765,\n",
              " 42741.624452093616,\n",
              " 42931.50862787105,\n",
              " 43112.015139559284,\n",
              " 43384.75143430568,\n",
              " 43559.0335507188,\n",
              " 43740.53812120296,\n",
              " 44002.33928296901,\n",
              " 44467.257855394855,\n",
              " 44658.798152903095,\n",
              " 44826.23915765621,\n",
              " 44896.474455812946,\n",
              " 45060.725259760395,\n",
              " 45279.014459589496,\n",
              " 45482.30144594051,\n",
              " 45722.69635484554,\n",
              " 45900.74130366184,\n",
              " 46206.34481118061,\n",
              " 46455.4437877927,\n",
              " 46586.45027778484,\n",
              " 46843.20178792812,\n",
              " 46992.31311140396,\n",
              " 47229.66254411079,\n",
              " 90.6944317817688,\n",
              " 298.7228903770447,\n",
              " 500.8072667121887,\n",
              " 663.8552720546722,\n",
              " 844.1636438369751,\n",
              " 1035.3188524246216,\n",
              " 1257.9847402572632,\n",
              " 1395.1764534711838,\n",
              " 1592.2980717420578,\n",
              " 1809.1559895277023,\n",
              " 2066.7669466733932,\n",
              " 2258.028242468834,\n",
              " 2379.613568663597,\n",
              " 2579.558158516884,\n",
              " 2748.9922786951065,\n",
              " 2879.288573861122,\n",
              " 3061.41750395298,\n",
              " 3239.725572705269,\n",
              " 3417.794011235237,\n",
              " 3660.8035222291946,\n",
              " 3809.925255417824,\n",
              " 3990.527651667595,\n",
              " 4266.570137858391,\n",
              " 4450.484439611435,\n",
              " 4677.139870405197,\n",
              " 4803.481474637985,\n",
              " 5009.24635386467,\n",
              " 5155.746440649033,\n",
              " 5325.591951608658,\n",
              " 5446.032266616821,\n",
              " 5604.783739566803,\n",
              " 5779.606471300125,\n",
              " 5913.426793575287,\n",
              " 6109.962676525116,\n",
              " 6272.6359169483185,\n",
              " 6384.482607603073,\n",
              " 6545.11781167984,\n",
              " 6841.055893421173,\n",
              " 7000.460106611252,\n",
              " 7264.002722024918,\n",
              " 7402.585018396378,\n",
              " 7515.3844583034515,\n",
              " 7637.7052800655365,\n",
              " 7757.3567135334015,\n",
              " 7871.314162373543,\n",
              " 8000.6497040987015,\n",
              " 8181.080298662186,\n",
              " 8377.13173532486,\n",
              " 8538.856414318085,\n",
              " 8637.459635257721,\n",
              " 8938.60078048706,\n",
              " 9040.859458446503,\n",
              " 9257.902125835419,\n",
              " 9461.858158111572,\n",
              " 9562.437133193016,\n",
              " 9743.646867632866,\n",
              " 9911.420293450356,\n",
              " 10099.314274191856,\n",
              " 10290.628441691399,\n",
              " 10404.543372511864,\n",
              " 10580.7231143713,\n",
              " 10753.286673903465,\n",
              " 10853.343191981316,\n",
              " 10934.450536131859,\n",
              " 11192.726167082787,\n",
              " 11326.558546423912,\n",
              " 11476.293052077293,\n",
              " 11594.175950407982,\n",
              " 11738.736516356468,\n",
              " 11890.804130673409,\n",
              " 12071.037803530693,\n",
              " 12229.98389351368,\n",
              " 12331.084103941917,\n",
              " 12493.415345072746,\n",
              " 12650.872586607933,\n",
              " 12873.33541047573,\n",
              " 13013.885912775993,\n",
              " 13165.571703791618,\n",
              " 13289.389117598534,\n",
              " 13423.623551726341,\n",
              " 13562.289371848106,\n",
              " 13700.729419350624,\n",
              " 13854.812260270119,\n",
              " 14033.110345959663,\n",
              " 14250.781183242798,\n",
              " 14485.28747177124,\n",
              " 14610.59424829483,\n",
              " 14889.178703784943,\n",
              " 15018.30344748497,\n",
              " 15144.468219041824,\n",
              " 15245.082356452942,\n",
              " 15403.21377325058,\n",
              " 15644.748740673065,\n",
              " 16085.646016597748,\n",
              " 16163.705292224884,\n",
              " 16279.058372974396,\n",
              " 16380.960632801056,\n",
              " 16483.795825719833,\n",
              " 16651.655954360962,\n",
              " 16902.514434337616,\n",
              " 17039.262256145477,\n",
              " 17198.69166326523,\n",
              " 17298.61794233322,\n",
              " 17556.91419315338,\n",
              " 17654.99743080139,\n",
              " 17799.28326177597,\n",
              " 17965.42343235016,\n",
              " 18130.308841466904,\n",
              " 18407.55319094658,\n",
              " 18635.333741426468,\n",
              " 18713.749775648117,\n",
              " 18832.09422683716,\n",
              " 18953.10272693634,\n",
              " 19246.227954864502,\n",
              " 19357.762904167175,\n",
              " 19654.31991004944,\n",
              " 19783.41004025936,\n",
              " 20043.78007400036,\n",
              " 20183.098244547844,\n",
              " 20343.891800522804,\n",
              " 20442.77048456669,\n",
              " 20602.081607460976,\n",
              " 20717.163283467293,\n",
              " 20804.97276341915,\n",
              " 20911.041055560112,\n",
              " 21126.851217627525,\n",
              " 21286.246004462242,\n",
              " 21453.433985590935,\n",
              " 21644.023449778557,\n",
              " 21728.76950263977,\n",
              " 21866.546753644943,\n",
              " 22215.440989255905,\n",
              " 22418.101016402245,\n",
              " 22665.25933587551,\n",
              " 22795.427156567574,\n",
              " 22973.44437968731,\n",
              " 23057.606356739998,\n",
              " 23190.5782238245,\n",
              " 23504.83803999424,\n",
              " 23598.644470334053,\n",
              " 23760.732020497322,\n",
              " 23952.098506331444,\n",
              " 24058.298928380013,\n",
              " 24146.40403687954,\n",
              " 24312.52395761013,\n",
              " 24420.00452554226,\n",
              " 24525.111764073372,\n",
              " 24678.079614043236,\n",
              " 24855.24489581585,\n",
              " 24959.840693831444,\n",
              " 25089.07609450817,\n",
              " 25234.87319648266,\n",
              " 25360.61212193966,\n",
              " 25520.630710959435,\n",
              " 25746.62685573101,\n",
              " 25900.04542338848,\n",
              " 26139.81925046444,\n",
              " 26285.64853465557,\n",
              " 26463.52806031704,\n",
              " 26645.362238049507,\n",
              " 26927.88317978382,\n",
              " 27053.759141087532,\n",
              " 27203.366691589355,\n",
              " 27562.15588736534,\n",
              " 27693.38404762745,\n",
              " 27802.069120526314,\n",
              " 27929.077951550484,\n",
              " 28047.524847626686,\n",
              " 28148.979065179825,\n",
              " 28355.630708932877,\n",
              " 28469.68717455864,\n",
              " 28865.972888708115,\n",
              " 28941.865418195724,\n",
              " 29148.26946902275,\n",
              " 29312.035278320312,\n",
              " 29485.38840031624,\n",
              " 29694.487602472305,\n",
              " 29823.961036920547,\n",
              " 30069.659911632538,\n",
              " 30231.158606886864,\n",
              " 30390.981490969658,\n",
              " 30485.625114560127,\n",
              " 30608.73372143507,\n",
              " 30766.19817394018,\n",
              " 30905.226808965206,\n",
              " 30999.154502809048,\n",
              " 31084.11780589819,\n",
              " 31225.641330063343,\n",
              " 31342.92572170496,\n",
              " 31482.84768539667,\n",
              " 31612.841776907444,\n",
              " 31747.64354234934,\n",
              " 31860.47115522623,\n",
              " 32033.822879374027,\n",
              " 32156.797218739986,\n",
              " 32321.164225518703,\n",
              " 32520.567431628704,\n",
              " 32655.714786231518,\n",
              " 32864.03050631285,\n",
              " 32961.63780802488,\n",
              " 33133.19377416372,\n",
              " 33301.756686627865,\n",
              " 33391.4084712863,\n",
              " 33609.922935664654,\n",
              " 33767.60667484999,\n",
              " 33912.91245359182,\n",
              " 34148.83521169424,\n",
              " 34376.3848734498,\n",
              " 34569.73977905512,\n",
              " 34655.43368965387,\n",
              " 34773.20323783159,\n",
              " 34950.95909053087,\n",
              " 35159.38524276018,\n",
              " 35452.707090198994,\n",
              " 35617.19440251589,\n",
              " 35804.653848946095,\n",
              " 35914.11875206232,\n",
              " 36035.232942163944,\n",
              " 36283.98378866911,\n",
              " 36484.10805243254,\n",
              " 36682.17784041166,\n",
              " 36778.75467723608,\n",
              " 36881.040152966976,\n",
              " 37056.84001964331,\n",
              " 37254.167940080166,\n",
              " 37442.19802373648,\n",
              " 37664.01994031668,\n",
              " 37967.36299985647,\n",
              " 38520.550410211086,\n",
              " 38876.43179553747,\n",
              " 39042.08293098211,\n",
              " 39127.37974113226,\n",
              " 39294.31611007452,\n",
              " 39544.12721866369,\n",
              " 39662.41076797247,\n",
              " 39802.526794850826,\n",
              " 40021.29997128248,\n",
              " 40227.00618427992,\n",
              " 40403.344110667706,\n",
              " 40545.927207648754,\n",
              " 40685.04937285185,\n",
              " 40812.96625012159,\n",
              " 41045.018204391,\n",
              " 41223.017566382885,\n",
              " 41476.806979596615,\n",
              " 210.89677381515503,\n",
              " 342.12865352630615,\n",
              " 496.0661025047302,\n",
              " 635.0553174614906,\n",
              " 763.4248705506325,\n",
              " 875.2218685746193,\n",
              " 1009.6605585217476,\n",
              " 1196.8080711960793,\n",
              " 1302.3993182778358,\n",
              " 1410.4143577218056,\n",
              " 1542.8203793168068,\n",
              " 1663.9787085652351,\n",
              " 1783.3403452038765,\n",
              " 2128.559415638447,\n",
              " 2280.793654024601,\n",
              " 2461.2893057465553,\n",
              " 2662.159113943577,\n",
              " 2808.9143531918526,\n",
              " 2944.8777361512184,\n",
              " 3118.1600752472878,\n",
              " 3307.1973825097084,\n",
              " 3424.109716951847,\n",
              " 3573.981720983982,\n",
              " 3710.631354033947,\n",
              " 3882.5965940356255,\n",
              " 4084.9659182429314,\n",
              " 4294.134988725185,\n",
              " 4395.396209657192,\n",
              " 4495.1176897883415,\n",
              " 4669.456029117107,\n",
              " 4798.035620868206,\n",
              " 4932.365568816662,\n",
              " 5014.849165856838,\n",
              " 5197.857908189297,\n",
              " 5276.8243998885155,\n",
              " 5402.037612378597,\n",
              " 5538.823384702206,\n",
              " 5739.345602929592,\n",
              " 5968.752485692501,\n",
              " 6153.285949409008,\n",
              " 6355.467337191105,\n",
              " 6440.3083973526955,\n",
              " 6619.09836345911,\n",
              " 6738.164064824581,\n",
              " 6903.789110600948,\n",
              " 7025.308278739452,\n",
              " 7147.232285678387,\n",
              " 7308.971834361553,\n",
              " 7406.584266364574,\n",
              " 7549.754645764828,\n",
              " 7713.697673738003,\n",
              " 7890.171581923962,\n",
              " 8001.498256146908,\n",
              " 8135.5367820858955,\n",
              " 8300.169393837452,\n",
              " 8444.81985682249,\n",
              " 8585.897569835186,\n",
              " 8709.200060784817,\n",
              " 8820.734344422817,\n",
              " 8993.162597596645,\n",
              " 9208.525553643703,\n",
              " 9333.5673417449,\n",
              " 9593.260219991207,\n",
              " 9684.109999597073,\n",
              " 9901.236299932003,\n",
              " 9992.93074554205,\n",
              " 10133.692162692547,\n",
              " 10213.632774055004,\n",
              " 10312.565696179867,\n",
              " 10494.900418698788,\n",
              " 10659.344190061092,\n",
              " 10869.573427379131,\n",
              " 11113.797443807125,\n",
              " 11304.136856496334,\n",
              " 11475.425186216831,\n",
              " 11605.633875906467,\n",
              " 11888.087978422642,\n",
              " 12090.541203796864,\n",
              " 12288.351534187794,\n",
              " 12455.404774606228,\n",
              " 12590.290856540203,\n",
              " 12768.869325578213,\n",
              " 12824.99275869131,\n",
              " 12909.686274945736,\n",
              " 13093.476519525051,\n",
              " 13247.694126069546,\n",
              " 13551.758090913296,\n",
              " 13818.289117753506,\n",
              " 13952.705709636211,\n",
              " 14090.649065196514,\n",
              " 14315.558212459087,\n",
              " 14438.772644937038,\n",
              " 14611.351776063442,\n",
              " 14681.251728951931,\n",
              " 14854.662650048733,\n",
              " 14984.99985331297,\n",
              " 15109.879260003567,\n",
              " 15303.520942628384,\n",
              " 15411.28489202261,\n",
              " 15584.80898207426,\n",
              " 15723.903868377209,\n",
              " 15903.821976840496,\n",
              " 16004.928204476833,\n",
              " 16106.078422248363,\n",
              " 16236.815506398678,\n",
              " 16325.369542062283,\n",
              " 16573.019668519497,\n",
              " 16660.222395837307,\n",
              " 16820.158598840237,\n",
              " 16982.67453712225,\n",
              " 17162.13562577963,\n",
              " 17395.506369531155,\n",
              " 17569.19035857916,\n",
              " 17727.223087728024,\n",
              " 17830.904336631298,\n",
              " 17966.13695639372,\n",
              " 18122.84888881445,\n",
              " 18344.616105020046,\n",
              " 18548.87156766653,\n",
              " 18681.49858301878,\n",
              " 18795.369876265526,\n",
              " 18955.775656104088,\n",
              " 19202.61857545376,\n",
              " 19403.318143248558,\n",
              " 19512.700469374657,\n",
              " 19753.806280493736,\n",
              " 19930.008345484734,\n",
              " 20063.046133995056,\n",
              " 20231.70761823654,\n",
              " 20320.76555109024,\n",
              " 20624.590656995773,\n",
              " 20705.066616773605,\n",
              " 20894.21052479744,\n",
              " 21006.00361418724,\n",
              " 21199.558725595474,\n",
              " 21374.74568605423,\n",
              " 21489.50640630722,\n",
              " 21642.286254405975,\n",
              " 21785.002815008163,\n",
              " 21856.20109629631,\n",
              " 22001.247220039368,\n",
              " 22229.17484664917,\n",
              " 22442.137783050537,\n",
              " 22629.089766979218,\n",
              " 22751.584062337875,\n",
              " 22947.37015914917,\n",
              " 23092.191879749298,\n",
              " 23255.215309143066,\n",
              " 23419.01035785675,\n",
              " 23625.241360664368,\n",
              " 23754.11963891983,\n",
              " 23958.622696995735,\n",
              " 24218.844469189644,\n",
              " 24430.666541218758,\n",
              " 24637.631577134132,\n",
              " 24920.88470542431,\n",
              " 25039.431599736214,\n",
              " 25118.504640221596,\n",
              " 25284.663573861122,\n",
              " 25404.516079068184,\n",
              " 25585.83497095108,\n",
              " 25746.53973722458,\n",
              " 25955.290722370148,\n",
              " 26078.28758907318,\n",
              " 26303.205248355865,\n",
              " 26537.93296480179,\n",
              " 26775.945729017258,\n",
              " 26963.568405389786,\n",
              " 27142.507776498795,\n",
              " 27226.364750146866,\n",
              " 27378.426813840866,\n",
              " 27514.17405962944,\n",
              " 27683.920308351517,\n",
              " 27807.023380994797,\n",
              " 27966.0318877697,\n",
              " 28208.836412668228,\n",
              " 28272.61544060707,\n",
              " 28436.336450099945,\n",
              " 28548.70010614395,\n",
              " 28644.263603687286,\n",
              " 28813.333519220352,\n",
              " 28949.56600499153,\n",
              " 29119.57978606224,\n",
              " 29242.140716314316,\n",
              " 29383.679631471634,\n",
              " 29555.3293364048,\n",
              " 29674.5747525692,\n",
              " 30089.409061193466,\n",
              " 30251.66330742836,\n",
              " 30395.56633400917,\n",
              " 30521.150925397873,\n",
              " 30648.906842947006,\n",
              " 30778.236663341522,\n",
              " 30975.40053462982,\n",
              " 31212.297757148743,\n",
              " 31344.448835372925,\n",
              " 31564.680123806,\n",
              " 31807.12676525116,\n",
              " 31993.684856414795,\n",
              " 32205.26789331436,\n",
              " 32333.37331366539,\n",
              " 32425.294333457947,\n",
              " 32593.985538482666,\n",
              " 32726.15570449829,\n",
              " 32924.978209495544,\n",
              " 33042.68214225769,\n",
              " 33201.49653786421,\n",
              " 33264.94709223509,\n",
              " 33488.261431872845,\n",
              " 33583.7222353816,\n",
              " 33755.468734920025,\n",
              " 33955.10152691603,\n",
              " 34084.03695589304,\n",
              " 34234.41635662317,\n",
              " 34377.33173900843,\n",
              " 34534.14976507425,\n",
              " 34694.13199621439,\n",
              " 34830.55164819956,\n",
              " 34894.2566973567,\n",
              " 34981.4658395648,\n",
              " 35046.365070044994,\n",
              " 35210.96239537001,\n",
              " 35383.867438971996,\n",
              " 35537.98298805952,\n",
              " 35820.15943020582,\n",
              " 35944.65035837889,\n",
              " 36201.80120819807,\n",
              " 36615.39810436964,\n",
              " 36885.99203747511,\n",
              " 37068.03122586012,\n",
              " 37201.42243403196,\n",
              " 37343.914570748806,\n",
              " 37590.32106202841,\n",
              " 37712.37970775366,\n",
              " 37966.77198070288,\n",
              " 38250.6231841445,\n",
              " 38404.619399011135,\n",
              " 38636.03056615591,\n",
              " 38857.253533780575,\n",
              " 39001.819723546505,\n",
              " 39320.99399036169,\n",
              " 39670.88195556402,\n",
              " 40035.12583106756,\n",
              " 40200.633547246456,\n",
              " 40728.177791535854,\n",
              " 198.80695962905884,\n",
              " 453.1684079170227,\n",
              " 588.1326746940613,\n",
              " 697.6207501888275,\n",
              " 777.8904993534088,\n",
              " 922.7154560089111,\n",
              " 1106.6473531723022,\n",
              " 1211.1424283981323,\n",
              " 1344.3828620910645,\n",
              " 1434.092942237854,\n",
              " 1575.1906123161316,\n",
              " 1782.416130065918,\n",
              " 1964.1642565727234,\n",
              " 2090.7066082954407,\n",
              " 2183.27836227417,\n",
              " 2359.8918957710266,\n",
              " 2468.0144653320312,\n",
              " 2610.6126914024353,\n",
              " 2805.6293959617615,\n",
              " 3022.1358857154846,\n",
              " 3114.085798740387,\n",
              " 3320.716689825058,\n",
              " 3549.81370139122,\n",
              " 3690.2972428798676,\n",
              " 3827.30575799942,\n",
              " 3986.983835697174,\n",
              " 4249.145017147064,\n",
              " 4433.515749454498,\n",
              " 4525.111744880676,\n",
              " 4726.935302734375,\n",
              " 4839.027894735336,\n",
              " 5107.019283533096,\n",
              " 5240.792218446732,\n",
              " 5358.1057941913605,\n",
              " 5476.988643169403,\n",
              " 5624.820361375809,\n",
              " 5765.68825674057,\n",
              " 5830.9597182273865,\n",
              " 5988.2957491874695,\n",
              " 6086.524321079254,\n",
              " 6479.55934381485,\n",
              " 6607.992256402969,\n",
              " 6814.499204874039,\n",
              " 6966.038506746292,\n",
              " 7176.1029942035675,\n",
              " 7249.097730636597,\n",
              " 7320.352348327637,\n",
              " 7438.086373329163,\n",
              " 7552.566860675812,\n",
              " 7696.832595348358,\n",
              " 7889.87696480751,\n",
              " 8075.404367685318,\n",
              " 8294.70443868637,\n",
              " 8489.76436471939,\n",
              " 8676.947632312775,\n",
              " 9108.135176181793,\n",
              " 9401.686122894287,\n",
              " 9476.061805725098,\n",
              " 9705.404550552368,\n",
              " 9813.756338357925,\n",
              " 9947.88041639328,\n",
              " 10024.461255788803,\n",
              " 10232.001868009567,\n",
              " 10333.996457338333,\n",
              " 10494.735357522964,\n",
              " 10712.438207626343,\n",
              " 10901.521641731262,\n",
              " 11001.689931869507,\n",
              " 11163.0463514328,\n",
              " 11238.248860836029,\n",
              " 11393.532938480377,\n",
              " 11482.602350950241,\n",
              " 11610.815644025803,\n",
              " 11723.743690013885,\n",
              " 11849.708433628082,\n",
              " 11935.65344285965,\n",
              " 12126.867443561554,\n",
              " 12263.497827529907,\n",
              " 12420.886002540588,\n",
              " 12552.69611120224,\n",
              " 12694.787068843842,\n",
              " 12896.766284227371,\n",
              " 12995.371264696121,\n",
              " 13164.58050274849,\n",
              " 13296.120580911636,\n",
              " 13573.054893732071,\n",
              " 13688.765478730202,\n",
              " 13779.799120306969,\n",
              " 14149.354945540428,\n",
              " 14332.478953957558,\n",
              " 14463.278051495552,\n",
              " 14571.654600381851,\n",
              " 14672.917281389236,\n",
              " 14840.335380077362,\n",
              " 14939.12974023819,\n",
              " 15130.49136686325,\n",
              " 15267.354820251465,\n",
              " 15455.374112129211,\n",
              " 15652.36548614502,\n",
              " 15822.495919704437,\n",
              " 16012.619101047516,\n",
              " 16100.486152648926,\n",
              " 16329.530320882797,\n",
              " 16479.6444003582,\n",
              " 16673.017609596252,\n",
              " 16876.15604186058,\n",
              " 17002.21503329277,\n",
              " 17087.947607517242,\n",
              " 17197.803616046906,\n",
              " 17344.585438251495,\n",
              " 17514.840001821518,\n",
              " 17639.380758047104,\n",
              " 17778.925941944122,\n",
              " 17897.196568965912,\n",
              " 18018.987161636353,\n",
              " 18212.09635066986,\n",
              " 18444.47150659561,\n",
              " 18804.057530641556,\n",
              " 19031.557431459427,\n",
              " 19149.331513643265,\n",
              " 19327.522310495377,\n",
              " 19569.297513246536,\n",
              " 19744.186779260635,\n",
              " 20011.831456422806,\n",
              " 20176.11229944229,\n",
              " 20308.252909183502,\n",
              " 20387.10122036934,\n",
              " 20563.694543123245,\n",
              " 20692.13403248787,\n",
              " 20865.830006837845,\n",
              " 20971.003435373306,\n",
              " 21175.35983467102,\n",
              " 21356.19499540329,\n",
              " 21598.80856704712,\n",
              " 21781.131680965424,\n",
              " 21868.592541217804,\n",
              " 21964.96161031723,\n",
              " 22185.0383105278,\n",
              " 22325.40841650963,\n",
              " 22453.702543973923,\n",
              " 22680.97550368309,\n",
              " 22783.76132082939,\n",
              " 22902.459678411484,\n",
              " 23072.00470995903,\n",
              " 23227.08767414093,\n",
              " 23386.718999624252,\n",
              " 23519.23844742775,\n",
              " 23765.413251161575,\n",
              " 24064.93577694893,\n",
              " 24197.655480146408,\n",
              " 24329.410166978836,\n",
              " 24525.99268245697,\n",
              " 24665.7500500679,\n",
              " 24840.36600983143,\n",
              " 25044.58769953251,\n",
              " 25152.810996174812,\n",
              " 25368.967590928078,\n",
              " 25448.686019062996,\n",
              " 25623.147911190987,\n",
              " 25715.742210030556,\n",
              " 25938.605910897255,\n",
              " 26092.78248512745,\n",
              " 26268.07276928425,\n",
              " 26347.159556746483,\n",
              " 26466.006360650063,\n",
              " 26608.975705742836,\n",
              " 26749.964005589485,\n",
              " 26886.317608237267,\n",
              " 27012.475359797478,\n",
              " 27107.515625596046,\n",
              " 27250.971183419228,\n",
              " 27364.160970807076,\n",
              " 27559.38662159443,\n",
              " 27658.13354933262,\n",
              " 27832.853340744972,\n",
              " 27969.589928269386,\n",
              " 28097.373333334923,\n",
              " 28200.631898522377,\n",
              " 28360.49393761158,\n",
              " 28424.651104569435,\n",
              " 28501.90849649906,\n",
              " 28575.855783581734,\n",
              " 28735.43872797489,\n",
              " 28861.63380277157,\n",
              " 29041.97641170025,\n",
              " 29365.35578763485,\n",
              " 29635.44705426693,\n",
              " 30006.06763970852,\n",
              " 30153.310191512108,\n",
              " 30298.791783213615,\n",
              " 30379.88620352745,\n",
              " 30548.89520430565,\n",
              " 30833.709220170975,\n",
              " 30945.483126163483,\n",
              " 31107.091329336166,\n",
              " 31313.960692167282,\n",
              " 31433.336402893066,\n",
              " 31587.201148986816,\n",
              " 31832.472655296326,\n",
              " 31936.590583324432,\n",
              " 32046.63034439087,\n",
              " 32142.034622192383,\n",
              " 32224.837206304073,\n",
              " 32399.877011716366,\n",
              " 32521.369380176067,\n",
              " 32707.263049304485,\n",
              " 32893.92763108015,\n",
              " 33026.45125645399,\n",
              " 33197.39648145437,\n",
              " 33335.37094539404,\n",
              " 33419.36002629995,\n",
              " 33508.74824017286,\n",
              " 33646.99726694822,\n",
              " 33799.62406748533,\n",
              " 33922.890262782574,\n",
              " 34134.21117848158,\n",
              " 34299.48278492689,\n",
              " 34586.09056729078,\n",
              " 34768.68291538954,\n",
              " 35012.66531151533,\n",
              " 35129.61622995138,\n",
              " 35275.38398450613,\n",
              " 35446.17579373717,\n",
              " 35636.93512710929,\n",
              " 35824.381598085165,\n",
              " 36046.87587222457,\n",
              " 36211.984243005514,\n",
              " 36453.84589394927,\n",
              " 36631.77121922374,\n",
              " 36727.06816717982,\n",
              " 36938.25063750148,\n",
              " 37118.72241923213,\n",
              " 37270.04561087489,\n",
              " 37537.763962715864,\n",
              " 37680.23912259936,\n",
              " 37816.365524977446,\n",
              " 38003.57295152545,\n",
              " 38192.155834406614,\n",
              " 38466.52845689654,\n",
              " 38656.36456748843,\n",
              " 38819.93324920535,\n",
              " 39165.35633966327,\n",
              " 39331.38147756457,\n",
              " 39458.07896563411,\n",
              " 39562.17014309764,\n",
              " 236.4303970336914,\n",
              " 324.3815743923187,\n",
              " 499.36344361305237,\n",
              " 642.9648957252502,\n",
              " 891.9004715681076,\n",
              " 1102.308142542839,\n",
              " 1266.866268992424,\n",
              " 1380.9860609769821,\n",
              " 1551.6062949895859,\n",
              " 1687.66848218441,\n",
              " 1792.0555037260056,\n",
              " 1910.010309100151,\n",
              " 2100.575615286827,\n",
              " 2293.5230885744095,\n",
              " 2509.2074798345566,\n",
              " 2745.3382719755173,\n",
              " 3020.843850016594,\n",
              " 3159.6225863695145,\n",
              " 3269.1458755731583,\n",
              " 3410.0685692429543,\n",
              " ...]"
            ]
          },
          "metadata": {
            "tags": []
          },
          "execution_count": 25
        }
      ]
    },
    {
      "cell_type": "code",
      "metadata": {
        "id": "3-2Ghi2IbWcM",
        "colab_type": "code",
        "colab": {
          "base_uri": "https://localhost:8080/",
          "height": 282
        },
        "outputId": "609b181f-628a-4456-8ef2-1820f1b1ae54"
      },
      "source": [
        "plt.plot(loss_trend)"
      ],
      "execution_count": 29,
      "outputs": [
        {
          "output_type": "execute_result",
          "data": {
            "text/plain": [
              "[<matplotlib.lines.Line2D at 0x7f78eee4ad68>]"
            ]
          },
          "metadata": {
            "tags": []
          },
          "execution_count": 29
        },
        {
          "output_type": "display_data",
          "data": {
            "image/png": "[encoded data removed]",
            "text/plain": [
              "<Figure size 432x288 with 1 Axes>"
            ]
          },
          "metadata": {
            "tags": []
          }
        }
      ]
    },
    {
      "cell_type": "code",
      "metadata": {
        "id": "36ORCjGkqTTg",
        "colab_type": "code",
        "colab": {
          "base_uri": "https://localhost:8080/",
          "height": 197
        },
        "outputId": "b0b5ca47-684c-4bb3-aa0b-dcbdf5566fc3"
      },
      "source": [
        "df_pattern = pd.read_json('patterns.jsonl',lines=True)\n",
        "df_pattern['cleaned_pattern'] = df_pattern.pattern.apply(lambda x: cleanse_text(x))\n",
        "df_pattern['label'] = 'U_' + df_pattern.label.astype(str)\n",
        "df_pattern['tup_col'] = list(zip(df_pattern.cleaned_pattern, df_pattern.label))\n",
        "df_pattern['merged'] = df_pattern.apply(lambda row: {row['cleaned_pattern']:row['label']}, axis=1)\n",
        "df_pattern.head()\n",
        "df_pattern.tail()"
      ],
      "execution_count": 30,
      "outputs": [
        {
          "output_type": "execute_result",
          "data": {
            "text/html": [
              "<div>\n",
              "<style scoped>\n",
              "    .dataframe tbody tr th:only-of-type {\n",
              "        vertical-align: middle;\n",
              "    }\n",
              "\n",
              "    .dataframe tbody tr th {\n",
              "        vertical-align: top;\n",
              "    }\n",
              "\n",
              "    .dataframe thead th {\n",
              "        text-align: right;\n",
              "    }\n",
              "</style>\n",
              "<table border=\"1\" class=\"dataframe\">\n",
              "  <thead>\n",
              "    <tr style=\"text-align: right;\">\n",
              "      <th></th>\n",
              "      <th>label</th>\n",
              "      <th>pattern</th>\n",
              "      <th>id</th>\n",
              "      <th>cleaned_pattern</th>\n",
              "      <th>tup_col</th>\n",
              "      <th>merged</th>\n",
              "    </tr>\n",
              "  </thead>\n",
              "  <tbody>\n",
              "    <tr>\n",
              "      <th>7682</th>\n",
              "      <td>U_vegetable</td>\n",
              "      <td>[{'LOWER': 'wing'}, {'LOWER': 'bean'}]</td>\n",
              "      <td>wing_bean</td>\n",
              "      <td>wing bean</td>\n",
              "      <td>(wing bean, U_vegetable)</td>\n",
              "      <td>{'wing bean': 'U_vegetable'}</td>\n",
              "    </tr>\n",
              "    <tr>\n",
              "      <th>7683</th>\n",
              "      <td>U_vegetable</td>\n",
              "      <td>[{'LOWER': 'yellow'}, {'LOWER': 'pepper'}]</td>\n",
              "      <td>yellow_pepper</td>\n",
              "      <td>yellow pepper</td>\n",
              "      <td>(yellow pepper, U_vegetable)</td>\n",
              "      <td>{'yellow pepper': 'U_vegetable'}</td>\n",
              "    </tr>\n",
              "    <tr>\n",
              "      <th>7684</th>\n",
              "      <td>U_vegetable</td>\n",
              "      <td>[{'LOWER': 'yellow'}, {'LOWER': 'zucchini'}]</td>\n",
              "      <td>yellow_zucchini</td>\n",
              "      <td>yellow zucchini</td>\n",
              "      <td>(yellow zucchini, U_vegetable)</td>\n",
              "      <td>{'yellow zucchini': 'U_vegetable'}</td>\n",
              "    </tr>\n",
              "    <tr>\n",
              "      <th>7685</th>\n",
              "      <td>U_vegetable</td>\n",
              "      <td>[{'LOWER': 'zucchini'}]</td>\n",
              "      <td>zucchini</td>\n",
              "      <td>zucchini</td>\n",
              "      <td>(zucchini, U_vegetable)</td>\n",
              "      <td>{'zucchini': 'U_vegetable'}</td>\n",
              "    </tr>\n",
              "    <tr>\n",
              "      <th>7686</th>\n",
              "      <td>U_vegetable</td>\n",
              "      <td>[{'LOWER': 'zucchinis'}]</td>\n",
              "      <td>zucchinis</td>\n",
              "      <td>zucchinis</td>\n",
              "      <td>(zucchinis, U_vegetable)</td>\n",
              "      <td>{'zucchinis': 'U_vegetable'}</td>\n",
              "    </tr>\n",
              "  </tbody>\n",
              "</table>\n",
              "</div>"
            ],
            "text/plain": [
              "            label  ...                              merged\n",
              "7682  U_vegetable  ...        {'wing bean': 'U_vegetable'}\n",
              "7683  U_vegetable  ...    {'yellow pepper': 'U_vegetable'}\n",
              "7684  U_vegetable  ...  {'yellow zucchini': 'U_vegetable'}\n",
              "7685  U_vegetable  ...         {'zucchini': 'U_vegetable'}\n",
              "7686  U_vegetable  ...        {'zucchinis': 'U_vegetable'}\n",
              "\n",
              "[5 rows x 6 columns]"
            ]
          },
          "metadata": {
            "tags": []
          },
          "execution_count": 30
        }
      ]
    },
    {
      "cell_type": "code",
      "metadata": {
        "id": "SJ5JscRRq7wc",
        "colab_type": "code",
        "colab": {
          "base_uri": "https://localhost:8080/",
          "height": 34
        },
        "outputId": "92584d65-e864-49ab-fa95-d168ee472fb0"
      },
      "source": [
        "nlp.pipe_names"
      ],
      "execution_count": 31,
      "outputs": [
        {
          "output_type": "execute_result",
          "data": {
            "text/plain": [
              "['tagger', 'parser', 'ner']"
            ]
          },
          "metadata": {
            "tags": []
          },
          "execution_count": 31
        }
      ]
    },
    {
      "cell_type": "code",
      "metadata": {
        "id": "wPz-w5_orSee",
        "colab_type": "code",
        "colab": {
          "base_uri": "https://localhost:8080/",
          "height": 312
        },
        "outputId": "5f29b18c-167a-4728-8968-307c3f517d48"
      },
      "source": [
        "reviews = pd.read_csv('reviews_text.csv',usecols=['_id', 'text','overall','originality','value','nutrition','presentation','taste','dish','type','user','restaurant'])\n",
        "reviews.info()"
      ],
      "execution_count": 34,
      "outputs": [
        {
          "output_type": "stream",
          "text": [
            "<class 'pandas.core.frame.DataFrame'>\n",
            "RangeIndex: 56156 entries, 0 to 56155\n",
            "Data columns (total 12 columns):\n",
            "_id             56156 non-null object\n",
            "originality     56156 non-null int64\n",
            "value           56156 non-null int64\n",
            "nutrition       56156 non-null int64\n",
            "presentation    56156 non-null int64\n",
            "taste           56156 non-null int64\n",
            "text            56155 non-null object\n",
            "dish            56156 non-null object\n",
            "type            56156 non-null object\n",
            "user            56156 non-null object\n",
            "restaurant      56156 non-null object\n",
            "overall         56156 non-null float64\n",
            "dtypes: float64(1), int64(5), object(6)\n",
            "memory usage: 5.1+ MB\n"
          ],
          "name": "stdout"
        }
      ]
    },
    {
      "cell_type": "code",
      "metadata": {
        "id": "joHbfL8lrAMr",
        "colab_type": "code",
        "colab": {
          "base_uri": "https://localhost:8080/",
          "height": 312
        },
        "outputId": "e80297d4-6b83-4a52-a77b-9f90337d7c70"
      },
      "source": [
        "reviews.dropna(inplace=True)\n",
        "reviews.info()"
      ],
      "execution_count": 19,
      "outputs": [
        {
          "output_type": "stream",
          "text": [
            "<class 'pandas.core.frame.DataFrame'>\n",
            "Int64Index: 56155 entries, 0 to 56155\n",
            "Data columns (total 12 columns):\n",
            "_id             56155 non-null object\n",
            "originality     56155 non-null int64\n",
            "value           56155 non-null int64\n",
            "nutrition       56155 non-null int64\n",
            "presentation    56155 non-null int64\n",
            "taste           56155 non-null int64\n",
            "text            56155 non-null object\n",
            "dish            56155 non-null object\n",
            "type            56155 non-null object\n",
            "user            56155 non-null object\n",
            "restaurant      56155 non-null object\n",
            "overall         56155 non-null float64\n",
            "dtypes: float64(1), int64(5), object(6)\n",
            "memory usage: 5.6+ MB\n"
          ],
          "name": "stdout"
        }
      ]
    },
    {
      "cell_type": "code",
      "metadata": {
        "id": "46BHeBPIrMii",
        "colab_type": "code",
        "colab": {
          "base_uri": "https://localhost:8080/",
          "height": 34
        },
        "outputId": "2e3548cc-424e-4873-ba00-f45ec08c47ca"
      },
      "source": [
        "reviews['user'].nunique()"
      ],
      "execution_count": 20,
      "outputs": [
        {
          "output_type": "execute_result",
          "data": {
            "text/plain": [
              "5714"
            ]
          },
          "metadata": {
            "tags": []
          },
          "execution_count": 20
        }
      ]
    },
    {
      "cell_type": "code",
      "metadata": {
        "id": "m2sgcrjJuCly",
        "colab_type": "code",
        "colab": {
          "base_uri": "https://localhost:8080/",
          "height": 34
        },
        "outputId": "f2571e4e-fd68-43a7-88bc-d6b2d45acb20"
      },
      "source": [
        "reviews['dish'].nunique()"
      ],
      "execution_count": 25,
      "outputs": [
        {
          "output_type": "execute_result",
          "data": {
            "text/plain": [
              "43668"
            ]
          },
          "metadata": {
            "tags": []
          },
          "execution_count": 25
        }
      ]
    },
    {
      "cell_type": "code",
      "metadata": {
        "id": "K_XXf8gbuFVa",
        "colab_type": "code",
        "colab": {
          "base_uri": "https://localhost:8080/",
          "height": 34
        },
        "outputId": "3a2110b8-b8c2-4194-9387-0e4dc3660b2f"
      },
      "source": [
        "reviews['restaurant'].nunique()"
      ],
      "execution_count": 26,
      "outputs": [
        {
          "output_type": "execute_result",
          "data": {
            "text/plain": [
              "16881"
            ]
          },
          "metadata": {
            "tags": []
          },
          "execution_count": 26
        }
      ]
    },
    {
      "cell_type": "code",
      "metadata": {
        "id": "inc3HCRssvEO",
        "colab_type": "code",
        "colab": {
          "base_uri": "https://localhost:8080/",
          "height": 406
        },
        "outputId": "a33802a3-a35e-4889-b62e-6d05e238a889"
      },
      "source": [
        "reviews.groupby(['user','restaurant','dish'],as_index=False)['text'].count().sort_values(by=['text'],ascending=False)"
      ],
      "execution_count": 27,
      "outputs": [
        {
          "output_type": "execute_result",
          "data": {
            "text/html": [
              "<div>\n",
              "<style scoped>\n",
              "    .dataframe tbody tr th:only-of-type {\n",
              "        vertical-align: middle;\n",
              "    }\n",
              "\n",
              "    .dataframe tbody tr th {\n",
              "        vertical-align: top;\n",
              "    }\n",
              "\n",
              "    .dataframe thead th {\n",
              "        text-align: right;\n",
              "    }\n",
              "</style>\n",
              "<table border=\"1\" class=\"dataframe\">\n",
              "  <thead>\n",
              "    <tr style=\"text-align: right;\">\n",
              "      <th></th>\n",
              "      <th>user</th>\n",
              "      <th>restaurant</th>\n",
              "      <th>dish</th>\n",
              "      <th>text</th>\n",
              "    </tr>\n",
              "  </thead>\n",
              "  <tbody>\n",
              "    <tr>\n",
              "      <th>544</th>\n",
              "      <td>59c489e73e616a0004f9bcf7</td>\n",
              "      <td>5a08f8326d62fc000456e328</td>\n",
              "      <td>5c4feb845de4510004556ddd</td>\n",
              "      <td>16</td>\n",
              "    </tr>\n",
              "    <tr>\n",
              "      <th>10658</th>\n",
              "      <td>5acb8f9dd5fbb40004e7a793</td>\n",
              "      <td>5c4c28a0db404600045f3372</td>\n",
              "      <td>5c4c28dddb404600045f3373</td>\n",
              "      <td>12</td>\n",
              "    </tr>\n",
              "    <tr>\n",
              "      <th>42319</th>\n",
              "      <td>5d3f28ffd45aa9000435db9b</td>\n",
              "      <td>5d6628871b64cf00048d6090</td>\n",
              "      <td>5d668ae51b64cf00048d6f27</td>\n",
              "      <td>10</td>\n",
              "    </tr>\n",
              "    <tr>\n",
              "      <th>573</th>\n",
              "      <td>59c489e73e616a0004f9bcf7</td>\n",
              "      <td>5a277fb0adeb5c0004e599d8</td>\n",
              "      <td>5a2781f1adeb5c0004e599df</td>\n",
              "      <td>9</td>\n",
              "    </tr>\n",
              "    <tr>\n",
              "      <th>488</th>\n",
              "      <td>59c489e73e616a0004f9bcf7</td>\n",
              "      <td>59f2d53bdc652e000489b37e</td>\n",
              "      <td>59f2d943dc652e000489b38a</td>\n",
              "      <td>9</td>\n",
              "    </tr>\n",
              "    <tr>\n",
              "      <th>...</th>\n",
              "      <td>...</td>\n",
              "      <td>...</td>\n",
              "      <td>...</td>\n",
              "      <td>...</td>\n",
              "    </tr>\n",
              "    <tr>\n",
              "      <th>18495</th>\n",
              "      <td>5bb52c0d1c6cca00048806b3</td>\n",
              "      <td>5ad0618f02994d00048ff42b</td>\n",
              "      <td>5ad061fb02994d00048ff42d</td>\n",
              "      <td>1</td>\n",
              "    </tr>\n",
              "    <tr>\n",
              "      <th>18496</th>\n",
              "      <td>5bb52c0d1c6cca00048806b3</td>\n",
              "      <td>5b99db50c3087d000410adbe</td>\n",
              "      <td>5bb52eba1c6cca00048806bf</td>\n",
              "      <td>1</td>\n",
              "    </tr>\n",
              "    <tr>\n",
              "      <th>18497</th>\n",
              "      <td>5bb52c0d1c6cca00048806b3</td>\n",
              "      <td>5bb52f8a1c6cca00048806ca</td>\n",
              "      <td>5bb530661c6cca00048806d2</td>\n",
              "      <td>1</td>\n",
              "    </tr>\n",
              "    <tr>\n",
              "      <th>18498</th>\n",
              "      <td>5bb5c5c21c6cca000488084b</td>\n",
              "      <td>5ab99bfe158f6d0004fcfba0</td>\n",
              "      <td>5bb5cfe81c6cca0004880858</td>\n",
              "      <td>1</td>\n",
              "    </tr>\n",
              "    <tr>\n",
              "      <th>54989</th>\n",
              "      <td>5de6f37589849e0020715fa4</td>\n",
              "      <td>5de6f71189849e0020716110</td>\n",
              "      <td>5de6f79589849e0020716150</td>\n",
              "      <td>1</td>\n",
              "    </tr>\n",
              "  </tbody>\n",
              "</table>\n",
              "<p>54990 rows × 4 columns</p>\n",
              "</div>"
            ],
            "text/plain": [
              "                           user  ... text\n",
              "544    59c489e73e616a0004f9bcf7  ...   16\n",
              "10658  5acb8f9dd5fbb40004e7a793  ...   12\n",
              "42319  5d3f28ffd45aa9000435db9b  ...   10\n",
              "573    59c489e73e616a0004f9bcf7  ...    9\n",
              "488    59c489e73e616a0004f9bcf7  ...    9\n",
              "...                         ...  ...  ...\n",
              "18495  5bb52c0d1c6cca00048806b3  ...    1\n",
              "18496  5bb52c0d1c6cca00048806b3  ...    1\n",
              "18497  5bb52c0d1c6cca00048806b3  ...    1\n",
              "18498  5bb5c5c21c6cca000488084b  ...    1\n",
              "54989  5de6f37589849e0020715fa4  ...    1\n",
              "\n",
              "[54990 rows x 4 columns]"
            ]
          },
          "metadata": {
            "tags": []
          },
          "execution_count": 27
        }
      ]
    },
    {
      "cell_type": "code",
      "metadata": {
        "id": "rkNuQDNNuT_v",
        "colab_type": "code",
        "colab": {
          "base_uri": "https://localhost:8080/",
          "height": 406
        },
        "outputId": "050e5345-98cf-4e04-90c8-67e56043bbb2"
      },
      "source": [
        "reviews.groupby(['restaurant','user'],as_index=False)['text'].count().sort_values(by=['text'],ascending=False)"
      ],
      "execution_count": 29,
      "outputs": [
        {
          "output_type": "execute_result",
          "data": {
            "text/html": [
              "<div>\n",
              "<style scoped>\n",
              "    .dataframe tbody tr th:only-of-type {\n",
              "        vertical-align: middle;\n",
              "    }\n",
              "\n",
              "    .dataframe tbody tr th {\n",
              "        vertical-align: top;\n",
              "    }\n",
              "\n",
              "    .dataframe thead th {\n",
              "        text-align: right;\n",
              "    }\n",
              "</style>\n",
              "<table border=\"1\" class=\"dataframe\">\n",
              "  <thead>\n",
              "    <tr style=\"text-align: right;\">\n",
              "      <th></th>\n",
              "      <th>restaurant</th>\n",
              "      <th>user</th>\n",
              "      <th>text</th>\n",
              "    </tr>\n",
              "  </thead>\n",
              "  <tbody>\n",
              "    <tr>\n",
              "      <th>461</th>\n",
              "      <td>59c20f081747f4000483765d</td>\n",
              "      <td>5adaeab7b433a40004dc0259</td>\n",
              "      <td>102</td>\n",
              "    </tr>\n",
              "    <tr>\n",
              "      <th>16453</th>\n",
              "      <td>5c028cda3434a90004fde9a9</td>\n",
              "      <td>5d1b99f20d225d000450df53</td>\n",
              "      <td>85</td>\n",
              "    </tr>\n",
              "    <tr>\n",
              "      <th>539</th>\n",
              "      <td>59c20f081747f4000483765d</td>\n",
              "      <td>5c95cdd9d893940004247c9e</td>\n",
              "      <td>56</td>\n",
              "    </tr>\n",
              "    <tr>\n",
              "      <th>26789</th>\n",
              "      <td>5d28047889291800043a487f</td>\n",
              "      <td>5cfbf6e0a95ce3000492d4c0</td>\n",
              "      <td>55</td>\n",
              "    </tr>\n",
              "    <tr>\n",
              "      <th>30169</th>\n",
              "      <td>5dad6aa63b499c00209f8569</td>\n",
              "      <td>5da9242a90ae8b0020fac517</td>\n",
              "      <td>52</td>\n",
              "    </tr>\n",
              "    <tr>\n",
              "      <th>...</th>\n",
              "      <td>...</td>\n",
              "      <td>...</td>\n",
              "      <td>...</td>\n",
              "    </tr>\n",
              "    <tr>\n",
              "      <th>12786</th>\n",
              "      <td>5b672fea2fd1a7000431f14a</td>\n",
              "      <td>5cdcde41faa8b9000444c4e5</td>\n",
              "      <td>1</td>\n",
              "    </tr>\n",
              "    <tr>\n",
              "      <th>12784</th>\n",
              "      <td>5b672fea2fd1a7000431f14a</td>\n",
              "      <td>5bf2ba16f21e730004d3307b</td>\n",
              "      <td>1</td>\n",
              "    </tr>\n",
              "    <tr>\n",
              "      <th>12782</th>\n",
              "      <td>5b672fea2fd1a7000431f14a</td>\n",
              "      <td>5b3f1d52f46f500004ae0d6c</td>\n",
              "      <td>1</td>\n",
              "    </tr>\n",
              "    <tr>\n",
              "      <th>12781</th>\n",
              "      <td>5b672fea2fd1a7000431f14a</td>\n",
              "      <td>5ac7bf61dde05700046de152</td>\n",
              "      <td>1</td>\n",
              "    </tr>\n",
              "    <tr>\n",
              "      <th>31281</th>\n",
              "      <td>5de6f71189849e0020716110</td>\n",
              "      <td>5de6f37589849e0020715fa4</td>\n",
              "      <td>1</td>\n",
              "    </tr>\n",
              "  </tbody>\n",
              "</table>\n",
              "<p>31282 rows × 3 columns</p>\n",
              "</div>"
            ],
            "text/plain": [
              "                     restaurant                      user  text\n",
              "461    59c20f081747f4000483765d  5adaeab7b433a40004dc0259   102\n",
              "16453  5c028cda3434a90004fde9a9  5d1b99f20d225d000450df53    85\n",
              "539    59c20f081747f4000483765d  5c95cdd9d893940004247c9e    56\n",
              "26789  5d28047889291800043a487f  5cfbf6e0a95ce3000492d4c0    55\n",
              "30169  5dad6aa63b499c00209f8569  5da9242a90ae8b0020fac517    52\n",
              "...                         ...                       ...   ...\n",
              "12786  5b672fea2fd1a7000431f14a  5cdcde41faa8b9000444c4e5     1\n",
              "12784  5b672fea2fd1a7000431f14a  5bf2ba16f21e730004d3307b     1\n",
              "12782  5b672fea2fd1a7000431f14a  5b3f1d52f46f500004ae0d6c     1\n",
              "12781  5b672fea2fd1a7000431f14a  5ac7bf61dde05700046de152     1\n",
              "31281  5de6f71189849e0020716110  5de6f37589849e0020715fa4     1\n",
              "\n",
              "[31282 rows x 3 columns]"
            ]
          },
          "metadata": {
            "tags": []
          },
          "execution_count": 29
        }
      ]
    },
    {
      "cell_type": "code",
      "metadata": {
        "id": "ZHmQm2irtnS8",
        "colab_type": "code",
        "colab": {
          "base_uri": "https://localhost:8080/",
          "height": 54
        },
        "outputId": "f513dad6-2eb8-4196-d692-aae563363d3e"
      },
      "source": [
        "reviews.query('user == \"59c489e73e616a0004f9bcf7\" & dish == \"5c4feb845de4510004556ddd\"')['text'][16485]\n"
      ],
      "execution_count": 34,
      "outputs": [
        {
          "output_type": "execute_result",
          "data": {
            "text/plain": [
              "'Startup life and vegan junk food is starting to show on me and so I’ve been on a health kick and nothing could be better than my custom wrap at SaladStop. I get #sustenir kale which is hydroponic kale grown here in Singapore 🇸🇬 and a whole bunch of fresh veggies. If I could just eat like this all the time!\\n\\n#greeeeen #wraps #saladstop'"
            ]
          },
          "metadata": {
            "tags": []
          },
          "execution_count": 34
        }
      ]
    },
    {
      "cell_type": "code",
      "metadata": {
        "id": "F1pIksPlt2DR",
        "colab_type": "code",
        "colab": {}
      },
      "source": [
        "train_reviews = reviews[:1000]\n",
        "eval_reviews = reviews[1000:2000]\n",
        "test_reviews = reviews[2000:3000]"
      ],
      "execution_count": 0,
      "outputs": []
    },
    {
      "cell_type": "code",
      "metadata": {
        "id": "7PJqVnh5vePb",
        "colab_type": "code",
        "colab": {
          "base_uri": "https://localhost:8080/",
          "height": 1000
        },
        "outputId": "97acbd94-136d-4011-a631-55f59eaccadd"
      },
      "source": [
        "eval_docs = eval_reviews['text'][:20]\n",
        "\n",
        "for doc in eval_docs:\n",
        "  displacy.render(nlp(doc),'ent',jupyter=True)\n",
        "  print([(ent.text, ent.label_) for ent in nlp(doc).ents])"
      ],
      "execution_count": 36,
      "outputs": [
        {
          "output_type": "display_data",
          "data": {
            "text/html": [
              "<div class=\"entities\" style=\"line-height: 2.5; direction: ltr\">The way the dish was presented was so different. Unfortunately could not get a good picture as was in a big group at a business meeting. Very well done and with the \n",
              "<mark class=\"entity\" style=\"background: #ddd; padding: 0.45em 0.6em; margin: 0 0.25em; line-height: 1; border-radius: 0.35em;\">\n",
              "    sauce\n",
              "    <span style=\"font-size: 0.8em; font-weight: bold; line-height: 1; border-radius: 0.35em; text-transform: uppercase; vertical-align: middle; margin-left: 0.5rem\">condiment</span>\n",
              "</mark>\n",
              " tasted amazing</div>"
            ],
            "text/plain": [
              "<IPython.core.display.HTML object>"
            ]
          },
          "metadata": {
            "tags": []
          }
        },
        {
          "output_type": "stream",
          "text": [
            "[('sauce', 'condiment')]\n"
          ],
          "name": "stdout"
        },
        {
          "output_type": "display_data",
          "data": {
            "text/html": [
              "<div class=\"entities\" style=\"line-height: 2.5; direction: ltr\">Off the menu and they added \n",
              "<mark class=\"entity\" style=\"background: #ddd; padding: 0.45em 0.6em; margin: 0 0.25em; line-height: 1; border-radius: 0.35em;\">\n",
              "    asparagus\n",
              "    <span style=\"font-size: 0.8em; font-weight: bold; line-height: 1; border-radius: 0.35em; text-transform: uppercase; vertical-align: middle; margin-left: 0.5rem\">vegetable</span>\n",
              "</mark>\n",
              " and \n",
              "<mark class=\"entity\" style=\"background: #ddd; padding: 0.45em 0.6em; margin: 0 0.25em; line-height: 1; border-radius: 0.35em;\">\n",
              "    mushroom\n",
              "    <span style=\"font-size: 0.8em; font-weight: bold; line-height: 1; border-radius: 0.35em; text-transform: uppercase; vertical-align: middle; margin-left: 0.5rem\">vegetable</span>\n",
              "</mark>\n",
              " and since I wanted it spicy they did pretty well. The quality of the ingredients was very good.</div>"
            ],
            "text/plain": [
              "<IPython.core.display.HTML object>"
            ]
          },
          "metadata": {
            "tags": []
          }
        },
        {
          "output_type": "stream",
          "text": [
            "[('asparagus', 'vegetable'), ('mushroom', 'vegetable')]\n"
          ],
          "name": "stdout"
        },
        {
          "output_type": "display_data",
          "data": {
            "text/html": [
              "<div class=\"entities\" style=\"line-height: 2.5; direction: ltr\">Overall good \n",
              "<mark class=\"entity\" style=\"background: #ddd; padding: 0.45em 0.6em; margin: 0 0.25em; line-height: 1; border-radius: 0.35em;\">\n",
              "    salad\n",
              "    <span style=\"font-size: 0.8em; font-weight: bold; line-height: 1; border-radius: 0.35em; text-transform: uppercase; vertical-align: middle; margin-left: 0.5rem\">dish</span>\n",
              "</mark>\n",
              " that was healthy and hadn’t a nice mix of different toppings including grilled \n",
              "<mark class=\"entity\" style=\"background: #ddd; padding: 0.45em 0.6em; margin: 0 0.25em; line-height: 1; border-radius: 0.35em;\">\n",
              "    tofu\n",
              "    <span style=\"font-size: 0.8em; font-weight: bold; line-height: 1; border-radius: 0.35em; text-transform: uppercase; vertical-align: middle; margin-left: 0.5rem\">dish</span>\n",
              "</mark>\n",
              ", \n",
              "<mark class=\"entity\" style=\"background: #ddd; padding: 0.45em 0.6em; margin: 0 0.25em; line-height: 1; border-radius: 0.35em;\">\n",
              "    pomelo\n",
              "    <span style=\"font-size: 0.8em; font-weight: bold; line-height: 1; border-radius: 0.35em; text-transform: uppercase; vertical-align: middle; margin-left: 0.5rem\">fruit</span>\n",
              "</mark>\n",
              ", \n",
              "<mark class=\"entity\" style=\"background: #ddd; padding: 0.45em 0.6em; margin: 0 0.25em; line-height: 1; border-radius: 0.35em;\">\n",
              "    corn\n",
              "    <span style=\"font-size: 0.8em; font-weight: bold; line-height: 1; border-radius: 0.35em; text-transform: uppercase; vertical-align: middle; margin-left: 0.5rem\">vegetable</span>\n",
              "</mark>\n",
              ", \n",
              "<mark class=\"entity\" style=\"background: #ddd; padding: 0.45em 0.6em; margin: 0 0.25em; line-height: 1; border-radius: 0.35em;\">\n",
              "    carrots\n",
              "    <span style=\"font-size: 0.8em; font-weight: bold; line-height: 1; border-radius: 0.35em; text-transform: uppercase; vertical-align: middle; margin-left: 0.5rem\">vegetable</span>\n",
              "</mark>\n",
              " and \n",
              "<mark class=\"entity\" style=\"background: #ddd; padding: 0.45em 0.6em; margin: 0 0.25em; line-height: 1; border-radius: 0.35em;\">\n",
              "    quinoa\n",
              "    <span style=\"font-size: 0.8em; font-weight: bold; line-height: 1; border-radius: 0.35em; text-transform: uppercase; vertical-align: middle; margin-left: 0.5rem\">dish</span>\n",
              "</mark>\n",
              ".  The \n",
              "<mark class=\"entity\" style=\"background: #ddd; padding: 0.45em 0.6em; margin: 0 0.25em; line-height: 1; border-radius: 0.35em;\">\n",
              "    salad\n",
              "    <span style=\"font-size: 0.8em; font-weight: bold; line-height: 1; border-radius: 0.35em; text-transform: uppercase; vertical-align: middle; margin-left: 0.5rem\">dish</span>\n",
              "</mark>\n",
              " dressing could have been a bit more flavorful but I appreciate that they don’t overdress the \n",
              "<mark class=\"entity\" style=\"background: #ddd; padding: 0.45em 0.6em; margin: 0 0.25em; line-height: 1; border-radius: 0.35em;\">\n",
              "    salad\n",
              "    <span style=\"font-size: 0.8em; font-weight: bold; line-height: 1; border-radius: 0.35em; text-transform: uppercase; vertical-align: middle; margin-left: 0.5rem\">dish</span>\n",
              "</mark>\n",
              " because that is the worst! I would order again.  TIP: I noticed a new sign that says if you have allergies or are \n",
              "<mark class=\"entity\" style=\"background: #ddd; padding: 0.45em 0.6em; margin: 0 0.25em; line-height: 1; border-radius: 0.35em;\">\n",
              "    vegan\n",
              "    <span style=\"font-size: 0.8em; font-weight: bold; line-height: 1; border-radius: 0.35em; text-transform: uppercase; vertical-align: middle; margin-left: 0.5rem\">lifestyle</span>\n",
              "</mark>\n",
              "/\n",
              "<mark class=\"entity\" style=\"background: #ddd; padding: 0.45em 0.6em; margin: 0 0.25em; line-height: 1; border-radius: 0.35em;\">\n",
              "    vegetarian\n",
              "    <span style=\"font-size: 0.8em; font-weight: bold; line-height: 1; border-radius: 0.35em; text-transform: uppercase; vertical-align: middle; margin-left: 0.5rem\">lifestyle</span>\n",
              "</mark>\n",
              " you can ask them to switch out the chopping board. Applaud them for highlighting this option!</div>"
            ],
            "text/plain": [
              "<IPython.core.display.HTML object>"
            ]
          },
          "metadata": {
            "tags": []
          }
        },
        {
          "output_type": "stream",
          "text": [
            "[('salad', 'dish'), ('tofu', 'dish'), ('pomelo', 'fruit'), ('corn', 'vegetable'), ('carrots', 'vegetable'), ('quinoa', 'dish'), ('salad', 'dish'), ('salad', 'dish'), ('vegan', 'lifestyle'), ('vegetarian', 'lifestyle')]\n"
          ],
          "name": "stdout"
        },
        {
          "output_type": "display_data",
          "data": {
            "text/html": [
              "<div class=\"entities\" style=\"line-height: 2.5; direction: ltr\">Not much choices for \n",
              "<mark class=\"entity\" style=\"background: #ddd; padding: 0.45em 0.6em; margin: 0 0.25em; line-height: 1; border-radius: 0.35em;\">\n",
              "    vegetarians\n",
              "    <span style=\"font-size: 0.8em; font-weight: bold; line-height: 1; border-radius: 0.35em; text-transform: uppercase; vertical-align: middle; margin-left: 0.5rem\">food_habit</span>\n",
              "</mark>\n",
              " but they do have a \n",
              "<mark class=\"entity\" style=\"background: #ddd; padding: 0.45em 0.6em; margin: 0 0.25em; line-height: 1; border-radius: 0.35em;\">\n",
              "    veg set\n",
              "    <span style=\"font-size: 0.8em; font-weight: bold; line-height: 1; border-radius: 0.35em; text-transform: uppercase; vertical-align: middle; margin-left: 0.5rem\">food_habit</span>\n",
              "</mark>\n",
              " menu. I ordered the hot and \n",
              "<mark class=\"entity\" style=\"background: #ddd; padding: 0.45em 0.6em; margin: 0 0.25em; line-height: 1; border-radius: 0.35em;\">\n",
              "    sour soup\n",
              "    <span style=\"font-size: 0.8em; font-weight: bold; line-height: 1; border-radius: 0.35em; text-transform: uppercase; vertical-align: middle; margin-left: 0.5rem\">condiment</span>\n",
              "</mark>\n",
              " and some \n",
              "<mark class=\"entity\" style=\"background: #ddd; padding: 0.45em 0.6em; margin: 0 0.25em; line-height: 1; border-radius: 0.35em;\">\n",
              "    fried rice\n",
              "    <span style=\"font-size: 0.8em; font-weight: bold; line-height: 1; border-radius: 0.35em; text-transform: uppercase; vertical-align: middle; margin-left: 0.5rem\">dish</span>\n",
              "</mark>\n",
              " with \n",
              "<mark class=\"entity\" style=\"background: #ddd; padding: 0.45em 0.6em; margin: 0 0.25em; line-height: 1; border-radius: 0.35em;\">\n",
              "    veggies\n",
              "    <span style=\"font-size: 0.8em; font-weight: bold; line-height: 1; border-radius: 0.35em; text-transform: uppercase; vertical-align: middle; margin-left: 0.5rem\">vegetable</span>\n",
              "</mark>\n",
              " and \n",
              "<mark class=\"entity\" style=\"background: #ddd; padding: 0.45em 0.6em; margin: 0 0.25em; line-height: 1; border-radius: 0.35em;\">\n",
              "    tofu\n",
              "    <span style=\"font-size: 0.8em; font-weight: bold; line-height: 1; border-radius: 0.35em; text-transform: uppercase; vertical-align: middle; margin-left: 0.5rem\">dish</span>\n",
              "</mark>\n",
              " without \n",
              "<mark class=\"entity\" style=\"background: #ddd; padding: 0.45em 0.6em; margin: 0 0.25em; line-height: 1; border-radius: 0.35em;\">\n",
              "    egg\n",
              "    <span style=\"font-size: 0.8em; font-weight: bold; line-height: 1; border-radius: 0.35em; text-transform: uppercase; vertical-align: middle; margin-left: 0.5rem\">dish</span>\n",
              "</mark>\n",
              ". Could not capture pics as this was a business \n",
              "<mark class=\"entity\" style=\"background: #ddd; padding: 0.45em 0.6em; margin: 0 0.25em; line-height: 1; border-radius: 0.35em;\">\n",
              "    dinner\n",
              "    <span style=\"font-size: 0.8em; font-weight: bold; line-height: 1; border-radius: 0.35em; text-transform: uppercase; vertical-align: middle; margin-left: 0.5rem\">meal</span>\n",
              "</mark>\n",
              ". The \n",
              "<mark class=\"entity\" style=\"background: #ddd; padding: 0.45em 0.6em; margin: 0 0.25em; line-height: 1; border-radius: 0.35em;\">\n",
              "    soup\n",
              "    <span style=\"font-size: 0.8em; font-weight: bold; line-height: 1; border-radius: 0.35em; text-transform: uppercase; vertical-align: middle; margin-left: 0.5rem\">dish</span>\n",
              "</mark>\n",
              " was good. Other dishes so so</div>"
            ],
            "text/plain": [
              "<IPython.core.display.HTML object>"
            ]
          },
          "metadata": {
            "tags": []
          }
        },
        {
          "output_type": "stream",
          "text": [
            "[('vegetarians', 'food_habit'), ('veg set', 'food_habit'), ('sour soup', 'condiment'), ('fried rice', 'dish'), ('veggies', 'vegetable'), ('tofu', 'dish'), ('egg', 'dish'), ('dinner', 'meal'), ('soup', 'dish')]\n"
          ],
          "name": "stdout"
        },
        {
          "output_type": "display_data",
          "data": {
            "text/html": [
              "<div class=\"entities\" style=\"line-height: 2.5; direction: ltr\">So colorful. So much variety. I especially like the purple edible flower. #crfsg</div>"
            ],
            "text/plain": [
              "<IPython.core.display.HTML object>"
            ]
          },
          "metadata": {
            "tags": []
          }
        },
        {
          "output_type": "stream",
          "text": [
            "[]\n"
          ],
          "name": "stdout"
        },
        {
          "output_type": "display_data",
          "data": {
            "text/html": [
              "<div class=\"entities\" style=\"line-height: 2.5; direction: ltr\">$10.90, but got it for $5 during the international day of peace disc! honestly for $10.90 it’s pretty expensive so I probably wouldn’t get this usually. anyway quite good though! \n",
              "<mark class=\"entity\" style=\"background: #ddd; padding: 0.45em 0.6em; margin: 0 0.25em; line-height: 1; border-radius: 0.35em;\">\n",
              "    linguine\n",
              "    <span style=\"font-size: 0.8em; font-weight: bold; line-height: 1; border-radius: 0.35em; text-transform: uppercase; vertical-align: middle; margin-left: 0.5rem\">dish</span>\n",
              "</mark>\n",
              " in \n",
              "<mark class=\"entity\" style=\"background: #ddd; padding: 0.45em 0.6em; margin: 0 0.25em; line-height: 1; border-radius: 0.35em;\">\n",
              "    cashew nut cream cheese\n",
              "    <span style=\"font-size: 0.8em; font-weight: bold; line-height: 1; border-radius: 0.35em; text-transform: uppercase; vertical-align: middle; margin-left: 0.5rem\">dish</span>\n",
              "</mark>\n",
              " and \n",
              "<mark class=\"entity\" style=\"background: #ddd; padding: 0.45em 0.6em; margin: 0 0.25em; line-height: 1; border-radius: 0.35em;\">\n",
              "    spinach\n",
              "    <span style=\"font-size: 0.8em; font-weight: bold; line-height: 1; border-radius: 0.35em; text-transform: uppercase; vertical-align: middle; margin-left: 0.5rem\">vegetable</span>\n",
              "</mark>\n",
              ", super flavourful and you can’t taste the \n",
              "<mark class=\"entity\" style=\"background: #ddd; padding: 0.45em 0.6em; margin: 0 0.25em; line-height: 1; border-radius: 0.35em;\">\n",
              "    spinach\n",
              "    <span style=\"font-size: 0.8em; font-weight: bold; line-height: 1; border-radius: 0.35em; text-transform: uppercase; vertical-align: middle; margin-left: 0.5rem\">vegetable</span>\n",
              "</mark>\n",
              " at all:o not sure how to describe the taste actually bc ive never tried anything like it😂 in a good way! </br>also I waited 35 MINUTES for this which is honestly too long... the place wasn’t super full for them to be so busy, and the person who sat beside me that came \n",
              "<mark class=\"entity\" style=\"background: #e4e7d2; padding: 0.45em 0.6em; margin: 0 0.25em; line-height: 1; border-radius: 0.35em;\">\n",
              "    20mins\n",
              "    <span style=\"font-size: 0.8em; font-weight: bold; line-height: 1; border-radius: 0.35em; text-transform: uppercase; vertical-align: middle; margin-left: 0.5rem\">ORDINAL</span>\n",
              "</mark>\n",
              " after me and also ordered a \n",
              "<mark class=\"entity\" style=\"background: #ddd; padding: 0.45em 0.6em; margin: 0 0.25em; line-height: 1; border-radius: 0.35em;\">\n",
              "    pasta\n",
              "    <span style=\"font-size: 0.8em; font-weight: bold; line-height: 1; border-radius: 0.35em; text-transform: uppercase; vertical-align: middle; margin-left: 0.5rem\">dish</span>\n",
              "</mark>\n",
              " had his \n",
              "<mark class=\"entity\" style=\"background: #ddd; padding: 0.45em 0.6em; margin: 0 0.25em; line-height: 1; border-radius: 0.35em;\">\n",
              "    pasta\n",
              "    <span style=\"font-size: 0.8em; font-weight: bold; line-height: 1; border-radius: 0.35em; text-transform: uppercase; vertical-align: middle; margin-left: 0.5rem\">dish</span>\n",
              "</mark>\n",
              " come in 10 \n",
              "<mark class=\"entity\" style=\"background: #bfe1d9; padding: 0.45em 0.6em; margin: 0 0.25em; line-height: 1; border-radius: 0.35em;\">\n",
              "    mins\n",
              "    <span style=\"font-size: 0.8em; font-weight: bold; line-height: 1; border-radius: 0.35em; text-transform: uppercase; vertical-align: middle; margin-left: 0.5rem\">TIME</span>\n",
              "</mark>\n",
              " and mine came after his... and it was only after I asked, them it was served like immediately so I was just wondering where it was sitting this entire time:/ but it still came hot so that was ok! the taste compensated I guess haha</div>"
            ],
            "text/plain": [
              "<IPython.core.display.HTML object>"
            ]
          },
          "metadata": {
            "tags": []
          }
        },
        {
          "output_type": "stream",
          "text": [
            "[('linguine', 'dish'), ('cashew nut cream cheese', 'dish'), ('spinach', 'vegetable'), ('spinach', 'vegetable'), ('20mins', 'ORDINAL'), ('pasta', 'dish'), ('pasta', 'dish'), ('mins', 'TIME')]\n"
          ],
          "name": "stdout"
        },
        {
          "output_type": "display_data",
          "data": {
            "text/html": [
              "<div class=\"entities\" style=\"line-height: 2.5; direction: ltr\">Very yummy! I've got a weakness for \n",
              "<mark class=\"entity\" style=\"background: #ddd; padding: 0.45em 0.6em; margin: 0 0.25em; line-height: 1; border-radius: 0.35em;\">\n",
              "    pasta\n",
              "    <span style=\"font-size: 0.8em; font-weight: bold; line-height: 1; border-radius: 0.35em; text-transform: uppercase; vertical-align: middle; margin-left: 0.5rem\">dish</span>\n",
              "</mark>\n",
              " and I've tried many \n",
              "<mark class=\"entity\" style=\"background: #ddd; padding: 0.45em 0.6em; margin: 0 0.25em; line-height: 1; border-radius: 0.35em;\">\n",
              "    vegan\n",
              "    <span style=\"font-size: 0.8em; font-weight: bold; line-height: 1; border-radius: 0.35em; text-transform: uppercase; vertical-align: middle; margin-left: 0.5rem\">lifestyle</span>\n",
              "</mark>\n",
              " \n",
              "<mark class=\"entity\" style=\"background: #ddd; padding: 0.45em 0.6em; margin: 0 0.25em; line-height: 1; border-radius: 0.35em;\">\n",
              "    pasta\n",
              "    <span style=\"font-size: 0.8em; font-weight: bold; line-height: 1; border-radius: 0.35em; text-transform: uppercase; vertical-align: middle; margin-left: 0.5rem\">dish</span>\n",
              "</mark>\n",
              " so far. This is one of my favourites so far, will come back again for more. #crf</div>"
            ],
            "text/plain": [
              "<IPython.core.display.HTML object>"
            ]
          },
          "metadata": {
            "tags": []
          }
        },
        {
          "output_type": "stream",
          "text": [
            "[('pasta', 'dish'), ('vegan', 'lifestyle'), ('pasta', 'dish')]\n"
          ],
          "name": "stdout"
        },
        {
          "output_type": "display_data",
          "data": {
            "text/html": [
              "<div class=\"entities\" style=\"line-height: 2.5; direction: ltr\">Yum! I especially like the nutritional yeast and lots of \n",
              "<mark class=\"entity\" style=\"background: #ddd; padding: 0.45em 0.6em; margin: 0 0.25em; line-height: 1; border-radius: 0.35em;\">\n",
              "    spinach\n",
              "    <span style=\"font-size: 0.8em; font-weight: bold; line-height: 1; border-radius: 0.35em; text-transform: uppercase; vertical-align: middle; margin-left: 0.5rem\">vegetable</span>\n",
              "</mark>\n",
              ". The \n",
              "<mark class=\"entity\" style=\"background: #ddd; padding: 0.45em 0.6em; margin: 0 0.25em; line-height: 1; border-radius: 0.35em;\">\n",
              "    pasta\n",
              "    <span style=\"font-size: 0.8em; font-weight: bold; line-height: 1; border-radius: 0.35em; text-transform: uppercase; vertical-align: middle; margin-left: 0.5rem\">dish</span>\n",
              "</mark>\n",
              " is cooked just right. #crfsg</div>"
            ],
            "text/plain": [
              "<IPython.core.display.HTML object>"
            ]
          },
          "metadata": {
            "tags": []
          }
        },
        {
          "output_type": "stream",
          "text": [
            "[('spinach', 'vegetable'), ('pasta', 'dish')]\n"
          ],
          "name": "stdout"
        },
        {
          "output_type": "display_data",
          "data": {
            "text/html": [
              "<div class=\"entities\" style=\"line-height: 2.5; direction: ltr\">The steady stream of visitors to this food truck in a \n",
              "<mark class=\"entity\" style=\"background: #e4e7d2; padding: 0.45em 0.6em; margin: 0 0.25em; line-height: 1; border-radius: 0.35em;\">\n",
              "    7\n",
              "    <span style=\"font-size: 0.8em; font-weight: bold; line-height: 1; border-radius: 0.35em; text-transform: uppercase; vertical-align: middle; margin-left: 0.5rem\">CARDINAL</span>\n",
              "</mark>\n",
              "-11 parking lot should alert you that the food is authentic.  Prices ridiculously modest, \n",
              "<mark class=\"entity\" style=\"background: #ddd; padding: 0.45em 0.6em; margin: 0 0.25em; line-height: 1; border-radius: 0.35em;\">\n",
              "    snack\n",
              "    <span style=\"font-size: 0.8em; font-weight: bold; line-height: 1; border-radius: 0.35em; text-transform: uppercase; vertical-align: middle; margin-left: 0.5rem\">meal</span>\n",
              "</mark>\n",
              " spot on!!  The \n",
              "<mark class=\"entity\" style=\"background: #ddd; padding: 0.45em 0.6em; margin: 0 0.25em; line-height: 1; border-radius: 0.35em;\">\n",
              "    sweet sauce\n",
              "    <span style=\"font-size: 0.8em; font-weight: bold; line-height: 1; border-radius: 0.35em; text-transform: uppercase; vertical-align: middle; margin-left: 0.5rem\">condiment</span>\n",
              "</mark>\n",
              " is amazing..</div>"
            ],
            "text/plain": [
              "<IPython.core.display.HTML object>"
            ]
          },
          "metadata": {
            "tags": []
          }
        },
        {
          "output_type": "stream",
          "text": [
            "[('7', 'CARDINAL'), ('snack', 'meal'), ('sweet sauce', 'condiment')]\n"
          ],
          "name": "stdout"
        },
        {
          "output_type": "display_data",
          "data": {
            "text/html": [
              "<div class=\"entities\" style=\"line-height: 2.5; direction: ltr\">Delicious \n",
              "<mark class=\"entity\" style=\"background: #ddd; padding: 0.45em 0.6em; margin: 0 0.25em; line-height: 1; border-radius: 0.35em;\">\n",
              "    donut\n",
              "    <span style=\"font-size: 0.8em; font-weight: bold; line-height: 1; border-radius: 0.35em; text-transform: uppercase; vertical-align: middle; margin-left: 0.5rem\">dish</span>\n",
              "</mark>\n",
              " stuffed with homemade \n",
              "<mark class=\"entity\" style=\"background: #ddd; padding: 0.45em 0.6em; margin: 0 0.25em; line-height: 1; border-radius: 0.35em;\">\n",
              "    banana cream\n",
              "    <span style=\"font-size: 0.8em; font-weight: bold; line-height: 1; border-radius: 0.35em; text-transform: uppercase; vertical-align: middle; margin-left: 0.5rem\">condiment</span>\n",
              "</mark>\n",
              ". The dough had a perfect consistency and there was just the right amount of \n",
              "<mark class=\"entity\" style=\"background: #ddd; padding: 0.45em 0.6em; margin: 0 0.25em; line-height: 1; border-radius: 0.35em;\">\n",
              "    banana\n",
              "    <span style=\"font-size: 0.8em; font-weight: bold; line-height: 1; border-radius: 0.35em; text-transform: uppercase; vertical-align: middle; margin-left: 0.5rem\">fruit</span>\n",
              "</mark>\n",
              " to \n",
              "<mark class=\"entity\" style=\"background: #ddd; padding: 0.45em 0.6em; margin: 0 0.25em; line-height: 1; border-radius: 0.35em;\">\n",
              "    chocolate\n",
              "    <span style=\"font-size: 0.8em; font-weight: bold; line-height: 1; border-radius: 0.35em; text-transform: uppercase; vertical-align: middle; margin-left: 0.5rem\">dish</span>\n",
              "</mark>\n",
              " ratio. Note, this \n",
              "<mark class=\"entity\" style=\"background: #ddd; padding: 0.45em 0.6em; margin: 0 0.25em; line-height: 1; border-radius: 0.35em;\">\n",
              "    donut\n",
              "    <span style=\"font-size: 0.8em; font-weight: bold; line-height: 1; border-radius: 0.35em; text-transform: uppercase; vertical-align: middle; margin-left: 0.5rem\">dish</span>\n",
              "</mark>\n",
              " is only sold certain \n",
              "<mark class=\"entity\" style=\"background: #bfe1d9; padding: 0.45em 0.6em; margin: 0 0.25em; line-height: 1; border-radius: 0.35em;\">\n",
              "    days\n",
              "    <span style=\"font-size: 0.8em; font-weight: bold; line-height: 1; border-radius: 0.35em; text-transform: uppercase; vertical-align: middle; margin-left: 0.5rem\">DATE</span>\n",
              "</mark>\n",
              " as the cafe tends to rotate their homemade \n",
              "<mark class=\"entity\" style=\"background: #ddd; padding: 0.45em 0.6em; margin: 0 0.25em; line-height: 1; border-radius: 0.35em;\">\n",
              "    donuts\n",
              "    <span style=\"font-size: 0.8em; font-weight: bold; line-height: 1; border-radius: 0.35em; text-transform: uppercase; vertical-align: middle; margin-left: 0.5rem\">pastry</span>\n",
              "</mark>\n",
              ".</div>"
            ],
            "text/plain": [
              "<IPython.core.display.HTML object>"
            ]
          },
          "metadata": {
            "tags": []
          }
        },
        {
          "output_type": "stream",
          "text": [
            "[('donut', 'dish'), ('banana cream', 'condiment'), ('banana', 'fruit'), ('chocolate', 'dish'), ('donut', 'dish'), ('days', 'DATE'), ('donuts', 'pastry')]\n"
          ],
          "name": "stdout"
        },
        {
          "output_type": "display_data",
          "data": {
            "text/html": [
              "<div class=\"entities\" style=\"line-height: 2.5; direction: ltr\">\n",
              "<mark class=\"entity\" style=\"background: #ddd; padding: 0.45em 0.6em; margin: 0 0.25em; line-height: 1; border-radius: 0.35em;\">\n",
              "    Cheese\n",
              "    <span style=\"font-size: 0.8em; font-weight: bold; line-height: 1; border-radius: 0.35em; text-transform: uppercase; vertical-align: middle; margin-left: 0.5rem\">dish</span>\n",
              "</mark>\n",
              " meats \n",
              "<mark class=\"entity\" style=\"background: #ddd; padding: 0.45em 0.6em; margin: 0 0.25em; line-height: 1; border-radius: 0.35em;\">\n",
              "    bread\n",
              "    <span style=\"font-size: 0.8em; font-weight: bold; line-height: 1; border-radius: 0.35em; text-transform: uppercase; vertical-align: middle; margin-left: 0.5rem\">bread</span>\n",
              "</mark>\n",
              " offers a solid \n",
              "<mark class=\"entity\" style=\"background: #ddd; padding: 0.45em 0.6em; margin: 0 0.25em; line-height: 1; border-radius: 0.35em;\">\n",
              "    vegan\n",
              "    <span style=\"font-size: 0.8em; font-weight: bold; line-height: 1; border-radius: 0.35em; text-transform: uppercase; vertical-align: middle; margin-left: 0.5rem\">lifestyle</span>\n",
              "</mark>\n",
              " grilled \n",
              "<mark class=\"entity\" style=\"background: #ddd; padding: 0.45em 0.6em; margin: 0 0.25em; line-height: 1; border-radius: 0.35em;\">\n",
              "    cheese\n",
              "    <span style=\"font-size: 0.8em; font-weight: bold; line-height: 1; border-radius: 0.35em; text-transform: uppercase; vertical-align: middle; margin-left: 0.5rem\">dish</span>\n",
              "</mark>\n",
              " option. Grilled \n",
              "<mark class=\"entity\" style=\"background: #7aecec; padding: 0.45em 0.6em; margin: 0 0.25em; line-height: 1; border-radius: 0.35em;\">\n",
              "    cheeseries\n",
              "    <span style=\"font-size: 0.8em; font-weight: bold; line-height: 1; border-radius: 0.35em; text-transform: uppercase; vertical-align: middle; margin-left: 0.5rem\">ORG</span>\n",
              "</mark>\n",
              " are hard to come across in the \n",
              "<mark class=\"entity\" style=\"background: #e4e7d2; padding: 0.45em 0.6em; margin: 0 0.25em; line-height: 1; border-radius: 0.35em;\">\n",
              "    first\n",
              "    <span style=\"font-size: 0.8em; font-weight: bold; line-height: 1; border-radius: 0.35em; text-transform: uppercase; vertical-align: middle; margin-left: 0.5rem\">ORDINAL</span>\n",
              "</mark>\n",
              " place and to find a \n",
              "<mark class=\"entity\" style=\"background: #ddd; padding: 0.45em 0.6em; margin: 0 0.25em; line-height: 1; border-radius: 0.35em;\">\n",
              "    vegan\n",
              "    <span style=\"font-size: 0.8em; font-weight: bold; line-height: 1; border-radius: 0.35em; text-transform: uppercase; vertical-align: middle; margin-left: 0.5rem\">lifestyle</span>\n",
              "</mark>\n",
              " option was pretty exciting. It tasted great, provided the comfort of a non-vegan grilled \n",
              "<mark class=\"entity\" style=\"background: #ddd; padding: 0.45em 0.6em; margin: 0 0.25em; line-height: 1; border-radius: 0.35em;\">\n",
              "    cheese\n",
              "    <span style=\"font-size: 0.8em; font-weight: bold; line-height: 1; border-radius: 0.35em; text-transform: uppercase; vertical-align: middle; margin-left: 0.5rem\">dish</span>\n",
              "</mark>\n",
              ", and it actually walked the line of late-\n",
              "<mark class=\"entity\" style=\"background: #bfe1d9; padding: 0.45em 0.6em; margin: 0 0.25em; line-height: 1; border-radius: 0.35em;\">\n",
              "    night\n",
              "    <span style=\"font-size: 0.8em; font-weight: bold; line-height: 1; border-radius: 0.35em; text-transform: uppercase; vertical-align: middle; margin-left: 0.5rem\">TIME</span>\n",
              "</mark>\n",
              " and healthy \n",
              "<mark class=\"entity\" style=\"background: #ddd; padding: 0.45em 0.6em; margin: 0 0.25em; line-height: 1; border-radius: 0.35em;\">\n",
              "    lunch\n",
              "    <span style=\"font-size: 0.8em; font-weight: bold; line-height: 1; border-radius: 0.35em; text-transform: uppercase; vertical-align: middle; margin-left: 0.5rem\">meal</span>\n",
              "</mark>\n",
              " food. I would definitely recommend it. My only wish is that they offer some of their other \n",
              "<mark class=\"entity\" style=\"background: #ddd; padding: 0.45em 0.6em; margin: 0 0.25em; line-height: 1; border-radius: 0.35em;\">\n",
              "    sandwich\n",
              "    <span style=\"font-size: 0.8em; font-weight: bold; line-height: 1; border-radius: 0.35em; text-transform: uppercase; vertical-align: middle; margin-left: 0.5rem\">dish</span>\n",
              "</mark>\n",
              " toppings with the \n",
              "<mark class=\"entity\" style=\"background: #ddd; padding: 0.45em 0.6em; margin: 0 0.25em; line-height: 1; border-radius: 0.35em;\">\n",
              "    vegan\n",
              "    <span style=\"font-size: 0.8em; font-weight: bold; line-height: 1; border-radius: 0.35em; text-transform: uppercase; vertical-align: middle; margin-left: 0.5rem\">lifestyle</span>\n",
              "</mark>\n",
              " \n",
              "<mark class=\"entity\" style=\"background: #ddd; padding: 0.45em 0.6em; margin: 0 0.25em; line-height: 1; border-radius: 0.35em;\">\n",
              "    sandwich\n",
              "    <span style=\"font-size: 0.8em; font-weight: bold; line-height: 1; border-radius: 0.35em; text-transform: uppercase; vertical-align: middle; margin-left: 0.5rem\">dish</span>\n",
              "</mark>\n",
              " (you can't ask for substitutions).</br></br>Ingredients: \n",
              "<mark class=\"entity\" style=\"background: #ddd; padding: 0.45em 0.6em; margin: 0 0.25em; line-height: 1; border-radius: 0.35em;\">\n",
              "    Vegan cheese\n",
              "    <span style=\"font-size: 0.8em; font-weight: bold; line-height: 1; border-radius: 0.35em; text-transform: uppercase; vertical-align: middle; margin-left: 0.5rem\">dish</span>\n",
              "</mark>\n",
              ", smashed \n",
              "<mark class=\"entity\" style=\"background: #ddd; padding: 0.45em 0.6em; margin: 0 0.25em; line-height: 1; border-radius: 0.35em;\">\n",
              "    avocado\n",
              "    <span style=\"font-size: 0.8em; font-weight: bold; line-height: 1; border-radius: 0.35em; text-transform: uppercase; vertical-align: middle; margin-left: 0.5rem\">fruit</span>\n",
              "</mark>\n",
              ", roasted \n",
              "<mark class=\"entity\" style=\"background: #ddd; padding: 0.45em 0.6em; margin: 0 0.25em; line-height: 1; border-radius: 0.35em;\">\n",
              "    tomatoes\n",
              "    <span style=\"font-size: 0.8em; font-weight: bold; line-height: 1; border-radius: 0.35em; text-transform: uppercase; vertical-align: middle; margin-left: 0.5rem\">fruit</span>\n",
              "</mark>\n",
              ", \n",
              "<mark class=\"entity\" style=\"background: #ddd; padding: 0.45em 0.6em; margin: 0 0.25em; line-height: 1; border-radius: 0.35em;\">\n",
              "    kale\n",
              "    <span style=\"font-size: 0.8em; font-weight: bold; line-height: 1; border-radius: 0.35em; text-transform: uppercase; vertical-align: middle; margin-left: 0.5rem\">vegetable</span>\n",
              "</mark>\n",
              ", \n",
              "<mark class=\"entity\" style=\"background: #ddd; padding: 0.45em 0.6em; margin: 0 0.25em; line-height: 1; border-radius: 0.35em;\">\n",
              "    balsamic drizzle\n",
              "    <span style=\"font-size: 0.8em; font-weight: bold; line-height: 1; border-radius: 0.35em; text-transform: uppercase; vertical-align: middle; margin-left: 0.5rem\">condiment</span>\n",
              "</mark>\n",
              ", whole wheat \n",
              "<mark class=\"entity\" style=\"background: #ddd; padding: 0.45em 0.6em; margin: 0 0.25em; line-height: 1; border-radius: 0.35em;\">\n",
              "    bread\n",
              "    <span style=\"font-size: 0.8em; font-weight: bold; line-height: 1; border-radius: 0.35em; text-transform: uppercase; vertical-align: middle; margin-left: 0.5rem\">bread</span>\n",
              "</mark>\n",
              ", \n",
              "<mark class=\"entity\" style=\"background: #ddd; padding: 0.45em 0.6em; margin: 0 0.25em; line-height: 1; border-radius: 0.35em;\">\n",
              "    vegan\n",
              "    <span style=\"font-size: 0.8em; font-weight: bold; line-height: 1; border-radius: 0.35em; text-transform: uppercase; vertical-align: middle; margin-left: 0.5rem\">lifestyle</span>\n",
              "</mark>\n",
              " \n",
              "<mark class=\"entity\" style=\"background: #ddd; padding: 0.45em 0.6em; margin: 0 0.25em; line-height: 1; border-radius: 0.35em;\">\n",
              "    butter\n",
              "    <span style=\"font-size: 0.8em; font-weight: bold; line-height: 1; border-radius: 0.35em; text-transform: uppercase; vertical-align: middle; margin-left: 0.5rem\">condiment</span>\n",
              "</mark>\n",
              "</div>"
            ],
            "text/plain": [
              "<IPython.core.display.HTML object>"
            ]
          },
          "metadata": {
            "tags": []
          }
        },
        {
          "output_type": "stream",
          "text": [
            "[('Cheese', 'dish'), ('bread', 'bread'), ('vegan', 'lifestyle'), ('cheese', 'dish'), ('cheeseries', 'ORG'), ('first', 'ORDINAL'), ('vegan', 'lifestyle'), ('cheese', 'dish'), ('night', 'TIME'), ('lunch', 'meal'), ('sandwich', 'dish'), ('vegan', 'lifestyle'), ('sandwich', 'dish'), ('Vegan cheese', 'dish'), ('avocado', 'fruit'), ('tomatoes', 'fruit'), ('kale', 'vegetable'), ('balsamic drizzle', 'condiment'), ('bread', 'bread'), ('vegan', 'lifestyle'), ('butter', 'condiment')]\n"
          ],
          "name": "stdout"
        },
        {
          "output_type": "display_data",
          "data": {
            "text/html": [
              "<div class=\"entities\" style=\"line-height: 2.5; direction: ltr\">This restaurant only offers 10 orders of these per day. The dipping cube is actually a \n",
              "<mark class=\"entity\" style=\"background: #ddd; padding: 0.45em 0.6em; margin: 0 0.25em; line-height: 1; border-radius: 0.35em;\">\n",
              "    bread\n",
              "    <span style=\"font-size: 0.8em; font-weight: bold; line-height: 1; border-radius: 0.35em; text-transform: uppercase; vertical-align: middle; margin-left: 0.5rem\">bread</span>\n",
              "</mark>\n",
              " cube filled with \n",
              "<mark class=\"entity\" style=\"background: #ddd; padding: 0.45em 0.6em; margin: 0 0.25em; line-height: 1; border-radius: 0.35em;\">\n",
              "    pumpkin\n",
              "    <span style=\"font-size: 0.8em; font-weight: bold; line-height: 1; border-radius: 0.35em; text-transform: uppercase; vertical-align: middle; margin-left: 0.5rem\">vegetable</span>\n",
              "</mark>\n",
              " and some sprinkled \n",
              "<mark class=\"entity\" style=\"background: #ddd; padding: 0.45em 0.6em; margin: 0 0.25em; line-height: 1; border-radius: 0.35em;\">\n",
              "    vegan cheese\n",
              "    <span style=\"font-size: 0.8em; font-weight: bold; line-height: 1; border-radius: 0.35em; text-transform: uppercase; vertical-align: middle; margin-left: 0.5rem\">dish</span>\n",
              "</mark>\n",
              " on top. Although this isn’t the healthiest (the skewers are deep fried!) this is a good sharing dish. The \n",
              "<mark class=\"entity\" style=\"background: #ddd; padding: 0.45em 0.6em; margin: 0 0.25em; line-height: 1; border-radius: 0.35em;\">\n",
              "    veggies\n",
              "    <span style=\"font-size: 0.8em; font-weight: bold; line-height: 1; border-radius: 0.35em; text-transform: uppercase; vertical-align: middle; margin-left: 0.5rem\">vegetable</span>\n",
              "</mark>\n",
              " include \n",
              "<mark class=\"entity\" style=\"background: #ddd; padding: 0.45em 0.6em; margin: 0 0.25em; line-height: 1; border-radius: 0.35em;\">\n",
              "    winter melon\n",
              "    <span style=\"font-size: 0.8em; font-weight: bold; line-height: 1; border-radius: 0.35em; text-transform: uppercase; vertical-align: middle; margin-left: 0.5rem\">fruit</span>\n",
              "</mark>\n",
              ", \n",
              "<mark class=\"entity\" style=\"background: #ddd; padding: 0.45em 0.6em; margin: 0 0.25em; line-height: 1; border-radius: 0.35em;\">\n",
              "    mushroom\n",
              "    <span style=\"font-size: 0.8em; font-weight: bold; line-height: 1; border-radius: 0.35em; text-transform: uppercase; vertical-align: middle; margin-left: 0.5rem\">vegetable</span>\n",
              "</mark>\n",
              ", Choi sum, as well as \n",
              "<mark class=\"entity\" style=\"background: #ddd; padding: 0.45em 0.6em; margin: 0 0.25em; line-height: 1; border-radius: 0.35em;\">\n",
              "    rice\n",
              "    <span style=\"font-size: 0.8em; font-weight: bold; line-height: 1; border-radius: 0.35em; text-transform: uppercase; vertical-align: middle; margin-left: 0.5rem\">dish</span>\n",
              "</mark>\n",
              " rolls and \n",
              "<mark class=\"entity\" style=\"background: #ddd; padding: 0.45em 0.6em; margin: 0 0.25em; line-height: 1; border-radius: 0.35em;\">\n",
              "    tofu\n",
              "    <span style=\"font-size: 0.8em; font-weight: bold; line-height: 1; border-radius: 0.35em; text-transform: uppercase; vertical-align: middle; margin-left: 0.5rem\">dish</span>\n",
              "</mark>\n",
              ". It also comes with a side of \n",
              "<mark class=\"entity\" style=\"background: #ddd; padding: 0.45em 0.6em; margin: 0 0.25em; line-height: 1; border-radius: 0.35em;\">\n",
              "    kimchi\n",
              "    <span style=\"font-size: 0.8em; font-weight: bold; line-height: 1; border-radius: 0.35em; text-transform: uppercase; vertical-align: middle; margin-left: 0.5rem\">dish</span>\n",
              "</mark>\n",
              ", something I haven’t tried since going \n",
              "<mark class=\"entity\" style=\"background: #ddd; padding: 0.45em 0.6em; margin: 0 0.25em; line-height: 1; border-radius: 0.35em;\">\n",
              "    vegan\n",
              "    <span style=\"font-size: 0.8em; font-weight: bold; line-height: 1; border-radius: 0.35em; text-transform: uppercase; vertical-align: middle; margin-left: 0.5rem\">lifestyle</span>\n",
              "</mark>\n",
              "!</div>"
            ],
            "text/plain": [
              "<IPython.core.display.HTML object>"
            ]
          },
          "metadata": {
            "tags": []
          }
        },
        {
          "output_type": "stream",
          "text": [
            "[('bread', 'bread'), ('pumpkin', 'vegetable'), ('vegan cheese', 'dish'), ('veggies', 'vegetable'), ('winter melon', 'fruit'), ('mushroom', 'vegetable'), ('rice', 'dish'), ('tofu', 'dish'), ('kimchi', 'dish'), ('vegan', 'lifestyle')]\n"
          ],
          "name": "stdout"
        },
        {
          "output_type": "display_data",
          "data": {
            "text/html": [
              "<div class=\"entities\" style=\"line-height: 2.5; direction: ltr\">The \n",
              "<mark class=\"entity\" style=\"background: #ddd; padding: 0.45em 0.6em; margin: 0 0.25em; line-height: 1; border-radius: 0.35em;\">\n",
              "    bacon\n",
              "    <span style=\"font-size: 0.8em; font-weight: bold; line-height: 1; border-radius: 0.35em; text-transform: uppercase; vertical-align: middle; margin-left: 0.5rem\">dish</span>\n",
              "</mark>\n",
              " looked so real, I was so afraid to eat it!!  A must try!</div>"
            ],
            "text/plain": [
              "<IPython.core.display.HTML object>"
            ]
          },
          "metadata": {
            "tags": []
          }
        },
        {
          "output_type": "stream",
          "text": [
            "[('bacon', 'dish')]\n"
          ],
          "name": "stdout"
        },
        {
          "output_type": "display_data",
          "data": {
            "text/html": [
              "<div class=\"entities\" style=\"line-height: 2.5; direction: ltr\">These are the only \n",
              "<mark class=\"entity\" style=\"background: #ddd; padding: 0.45em 0.6em; margin: 0 0.25em; line-height: 1; border-radius: 0.35em;\">\n",
              "    dim sum\n",
              "    <span style=\"font-size: 0.8em; font-weight: bold; line-height: 1; border-radius: 0.35em; text-transform: uppercase; vertical-align: middle; margin-left: 0.5rem\">dish</span>\n",
              "</mark>\n",
              " / \n",
              "<mark class=\"entity\" style=\"background: #ddd; padding: 0.45em 0.6em; margin: 0 0.25em; line-height: 1; border-radius: 0.35em;\">\n",
              "    dumpling\n",
              "    <span style=\"font-size: 0.8em; font-weight: bold; line-height: 1; border-radius: 0.35em; text-transform: uppercase; vertical-align: middle; margin-left: 0.5rem\">dish</span>\n",
              "</mark>\n",
              " option which is \n",
              "<mark class=\"entity\" style=\"background: #ddd; padding: 0.45em 0.6em; margin: 0 0.25em; line-height: 1; border-radius: 0.35em;\">\n",
              "    vegan\n",
              "    <span style=\"font-size: 0.8em; font-weight: bold; line-height: 1; border-radius: 0.35em; text-transform: uppercase; vertical-align: middle; margin-left: 0.5rem\">lifestyle</span>\n",
              "</mark>\n",
              ". You can tell these \n",
              "<mark class=\"entity\" style=\"background: #ddd; padding: 0.45em 0.6em; margin: 0 0.25em; line-height: 1; border-radius: 0.35em;\">\n",
              "    dumplings\n",
              "    <span style=\"font-size: 0.8em; font-weight: bold; line-height: 1; border-radius: 0.35em; text-transform: uppercase; vertical-align: middle; margin-left: 0.5rem\">dish</span>\n",
              "</mark>\n",
              " are fresh and have a hint of \n",
              "<mark class=\"entity\" style=\"background: #ddd; padding: 0.45em 0.6em; margin: 0 0.25em; line-height: 1; border-radius: 0.35em;\">\n",
              "    truffle\n",
              "    <span style=\"font-size: 0.8em; font-weight: bold; line-height: 1; border-radius: 0.35em; text-transform: uppercase; vertical-align: middle; margin-left: 0.5rem\">vegetable</span>\n",
              "</mark>\n",
              " (not too powerful!)</div>"
            ],
            "text/plain": [
              "<IPython.core.display.HTML object>"
            ]
          },
          "metadata": {
            "tags": []
          }
        },
        {
          "output_type": "stream",
          "text": [
            "[('dim sum', 'dish'), ('dumpling', 'dish'), ('vegan', 'lifestyle'), ('dumplings', 'dish'), ('truffle', 'vegetable')]\n"
          ],
          "name": "stdout"
        },
        {
          "output_type": "display_data",
          "data": {
            "text/html": [
              "<div class=\"entities\" style=\"line-height: 2.5; direction: ltr\">Although I really don’t like \n",
              "<mark class=\"entity\" style=\"background: #ddd; padding: 0.45em 0.6em; margin: 0 0.25em; line-height: 1; border-radius: 0.35em;\">\n",
              "    kale\n",
              "    <span style=\"font-size: 0.8em; font-weight: bold; line-height: 1; border-radius: 0.35em; text-transform: uppercase; vertical-align: middle; margin-left: 0.5rem\">vegetable</span>\n",
              "</mark>\n",
              " on its own, this dish was flavourful and easy to digest. The \n",
              "<mark class=\"entity\" style=\"background: #ddd; padding: 0.45em 0.6em; margin: 0 0.25em; line-height: 1; border-radius: 0.35em;\">\n",
              "    goji berries\n",
              "    <span style=\"font-size: 0.8em; font-weight: bold; line-height: 1; border-radius: 0.35em; text-transform: uppercase; vertical-align: middle; margin-left: 0.5rem\">fruit</span>\n",
              "</mark>\n",
              " are a nice touch.</div>"
            ],
            "text/plain": [
              "<IPython.core.display.HTML object>"
            ]
          },
          "metadata": {
            "tags": []
          }
        },
        {
          "output_type": "stream",
          "text": [
            "[('kale', 'vegetable'), ('goji berries', 'fruit')]\n"
          ],
          "name": "stdout"
        },
        {
          "output_type": "display_data",
          "data": {
            "text/html": [
              "<div class=\"entities\" style=\"line-height: 2.5; direction: ltr\">This \n",
              "<mark class=\"entity\" style=\"background: #ddd; padding: 0.45em 0.6em; margin: 0 0.25em; line-height: 1; border-radius: 0.35em;\">\n",
              "    eggplant\n",
              "    <span style=\"font-size: 0.8em; font-weight: bold; line-height: 1; border-radius: 0.35em; text-transform: uppercase; vertical-align: middle; margin-left: 0.5rem\">vegetable</span>\n",
              "</mark>\n",
              " was cooked perfectly and wasn’t too oily. There was a great combination of flavours and it wasn’t too spicy.</div>"
            ],
            "text/plain": [
              "<IPython.core.display.HTML object>"
            ]
          },
          "metadata": {
            "tags": []
          }
        },
        {
          "output_type": "stream",
          "text": [
            "[('eggplant', 'vegetable')]\n"
          ],
          "name": "stdout"
        },
        {
          "output_type": "display_data",
          "data": {
            "text/html": [
              "<div class=\"entities\" style=\"line-height: 2.5; direction: ltr\">*** update, these are NOT \n",
              "<mark class=\"entity\" style=\"background: #ddd; padding: 0.45em 0.6em; margin: 0 0.25em; line-height: 1; border-radius: 0.35em;\">\n",
              "    vegan\n",
              "    <span style=\"font-size: 0.8em; font-weight: bold; line-height: 1; border-radius: 0.35em; text-transform: uppercase; vertical-align: middle; margin-left: 0.5rem\">lifestyle</span>\n",
              "</mark>\n",
              " since theyre made with \n",
              "<mark class=\"entity\" style=\"background: #ddd; padding: 0.45em 0.6em; margin: 0 0.25em; line-height: 1; border-radius: 0.35em;\">\n",
              "    egg\n",
              "    <span style=\"font-size: 0.8em; font-weight: bold; line-height: 1; border-radius: 0.35em; text-transform: uppercase; vertical-align: middle; margin-left: 0.5rem\">dish</span>\n",
              "</mark>\n",
              "*** This was actually a large portion of \n",
              "<mark class=\"entity\" style=\"background: #ddd; padding: 0.45em 0.6em; margin: 0 0.25em; line-height: 1; border-radius: 0.35em;\">\n",
              "    noodles\n",
              "    <span style=\"font-size: 0.8em; font-weight: bold; line-height: 1; border-radius: 0.35em; text-transform: uppercase; vertical-align: middle; margin-left: 0.5rem\">dish</span>\n",
              "</mark>\n",
              ". A nice combination of \n",
              "<mark class=\"entity\" style=\"background: #ddd; padding: 0.45em 0.6em; margin: 0 0.25em; line-height: 1; border-radius: 0.35em;\">\n",
              "    truffle\n",
              "    <span style=\"font-size: 0.8em; font-weight: bold; line-height: 1; border-radius: 0.35em; text-transform: uppercase; vertical-align: middle; margin-left: 0.5rem\">vegetable</span>\n",
              "</mark>\n",
              ", \n",
              "<mark class=\"entity\" style=\"background: #ddd; padding: 0.45em 0.6em; margin: 0 0.25em; line-height: 1; border-radius: 0.35em;\">\n",
              "    mushrooms\n",
              "    <span style=\"font-size: 0.8em; font-weight: bold; line-height: 1; border-radius: 0.35em; text-transform: uppercase; vertical-align: middle; margin-left: 0.5rem\">vegetable</span>\n",
              "</mark>\n",
              ", and \n",
              "<mark class=\"entity\" style=\"background: #ddd; padding: 0.45em 0.6em; margin: 0 0.25em; line-height: 1; border-radius: 0.35em;\">\n",
              "    edamame\n",
              "    <span style=\"font-size: 0.8em; font-weight: bold; line-height: 1; border-radius: 0.35em; text-transform: uppercase; vertical-align: middle; margin-left: 0.5rem\">vegetable</span>\n",
              "</mark>\n",
              ".</div>"
            ],
            "text/plain": [
              "<IPython.core.display.HTML object>"
            ]
          },
          "metadata": {
            "tags": []
          }
        },
        {
          "output_type": "stream",
          "text": [
            "[('vegan', 'lifestyle'), ('egg', 'dish'), ('noodles', 'dish'), ('truffle', 'vegetable'), ('mushrooms', 'vegetable'), ('edamame', 'vegetable')]\n"
          ],
          "name": "stdout"
        },
        {
          "output_type": "display_data",
          "data": {
            "text/html": [
              "<div class=\"entities\" style=\"line-height: 2.5; direction: ltr\">This \n",
              "<mark class=\"entity\" style=\"background: #ddd; padding: 0.45em 0.6em; margin: 0 0.25em; line-height: 1; border-radius: 0.35em;\">\n",
              "    tofu\n",
              "    <span style=\"font-size: 0.8em; font-weight: bold; line-height: 1; border-radius: 0.35em; text-transform: uppercase; vertical-align: middle; margin-left: 0.5rem\">dish</span>\n",
              "</mark>\n",
              " is a favourite with my carnivore friends. It’s \n",
              "<mark class=\"entity\" style=\"background: #ddd; padding: 0.45em 0.6em; margin: 0 0.25em; line-height: 1; border-radius: 0.35em;\">\n",
              "    silken tofu\n",
              "    <span style=\"font-size: 0.8em; font-weight: bold; line-height: 1; border-radius: 0.35em; text-transform: uppercase; vertical-align: middle; margin-left: 0.5rem\">dish</span>\n",
              "</mark>\n",
              " with delicious seasonings on a bed of fried \n",
              "<mark class=\"entity\" style=\"background: #ddd; padding: 0.45em 0.6em; margin: 0 0.25em; line-height: 1; border-radius: 0.35em;\">\n",
              "    enoki mushrooms\n",
              "    <span style=\"font-size: 0.8em; font-weight: bold; line-height: 1; border-radius: 0.35em; text-transform: uppercase; vertical-align: middle; margin-left: 0.5rem\">vegetable</span>\n",
              "</mark>\n",
              ".</div>"
            ],
            "text/plain": [
              "<IPython.core.display.HTML object>"
            ]
          },
          "metadata": {
            "tags": []
          }
        },
        {
          "output_type": "stream",
          "text": [
            "[('tofu', 'dish'), ('silken tofu', 'dish'), ('enoki mushrooms', 'vegetable')]\n"
          ],
          "name": "stdout"
        },
        {
          "output_type": "display_data",
          "data": {
            "text/html": [
              "<div class=\"entities\" style=\"line-height: 2.5; direction: ltr\">I’ve never tried \n",
              "<mark class=\"entity\" style=\"background: #ddd; padding: 0.45em 0.6em; margin: 0 0.25em; line-height: 1; border-radius: 0.35em;\">\n",
              "    kale\n",
              "    <span style=\"font-size: 0.8em; font-weight: bold; line-height: 1; border-radius: 0.35em; text-transform: uppercase; vertical-align: middle; margin-left: 0.5rem\">vegetable</span>\n",
              "</mark>\n",
              " that looked like this before. The tartness of the \n",
              "<mark class=\"entity\" style=\"background: #ddd; padding: 0.45em 0.6em; margin: 0 0.25em; line-height: 1; border-radius: 0.35em;\">\n",
              "    pomegranate seeds\n",
              "    <span style=\"font-size: 0.8em; font-weight: bold; line-height: 1; border-radius: 0.35em; text-transform: uppercase; vertical-align: middle; margin-left: 0.5rem\">seed</span>\n",
              "</mark>\n",
              " complimented the bitterness of the \n",
              "<mark class=\"entity\" style=\"background: #ddd; padding: 0.45em 0.6em; margin: 0 0.25em; line-height: 1; border-radius: 0.35em;\">\n",
              "    veggie\n",
              "    <span style=\"font-size: 0.8em; font-weight: bold; line-height: 1; border-radius: 0.35em; text-transform: uppercase; vertical-align: middle; margin-left: 0.5rem\">vegetable</span>\n",
              "</mark>\n",
              ".</div>"
            ],
            "text/plain": [
              "<IPython.core.display.HTML object>"
            ]
          },
          "metadata": {
            "tags": []
          }
        },
        {
          "output_type": "stream",
          "text": [
            "[('kale', 'vegetable'), ('pomegranate seeds', 'seed'), ('veggie', 'vegetable')]\n"
          ],
          "name": "stdout"
        },
        {
          "output_type": "display_data",
          "data": {
            "text/html": [
              "<div class=\"entities\" style=\"line-height: 2.5; direction: ltr\">This is a healthy fruit \n",
              "<mark class=\"entity\" style=\"background: #ddd; padding: 0.45em 0.6em; margin: 0 0.25em; line-height: 1; border-radius: 0.35em;\">\n",
              "    dessert\n",
              "    <span style=\"font-size: 0.8em; font-weight: bold; line-height: 1; border-radius: 0.35em; text-transform: uppercase; vertical-align: middle; margin-left: 0.5rem\">meal</span>\n",
              "</mark>\n",
              " in a \n",
              "<mark class=\"entity\" style=\"background: #ddd; padding: 0.45em 0.6em; margin: 0 0.25em; line-height: 1; border-radius: 0.35em;\">\n",
              "    sweet soup\n",
              "    <span style=\"font-size: 0.8em; font-weight: bold; line-height: 1; border-radius: 0.35em; text-transform: uppercase; vertical-align: middle; margin-left: 0.5rem\">dish</span>\n",
              "</mark>\n",
              "-like base with \n",
              "<mark class=\"entity\" style=\"background: #ddd; padding: 0.45em 0.6em; margin: 0 0.25em; line-height: 1; border-radius: 0.35em;\">\n",
              "    goji berries\n",
              "    <span style=\"font-size: 0.8em; font-weight: bold; line-height: 1; border-radius: 0.35em; text-transform: uppercase; vertical-align: middle; margin-left: 0.5rem\">fruit</span>\n",
              "</mark>\n",
              ". Great if you don’t want something too filling or too sweet!</div>"
            ],
            "text/plain": [
              "<IPython.core.display.HTML object>"
            ]
          },
          "metadata": {
            "tags": []
          }
        },
        {
          "output_type": "stream",
          "text": [
            "[('dessert', 'meal'), ('sweet soup', 'dish'), ('goji berries', 'fruit')]\n"
          ],
          "name": "stdout"
        }
      ]
    },
    {
      "cell_type": "code",
      "metadata": {
        "id": "1-abIDO80Uop",
        "colab_type": "code",
        "colab": {
          "base_uri": "https://localhost:8080/",
          "height": 591
        },
        "outputId": "ab4c7023-d6e8-40a2-edd3-c163f005dd6e"
      },
      "source": [
        "!pip install spacymoji\n",
        "from spacymoji import Emoji"
      ],
      "execution_count": 38,
      "outputs": [
        {
          "output_type": "stream",
          "text": [
            "Collecting spacymoji\n",
            "  Downloading https://files.pythonhosted.org/packages/e6/42/b4460030eb06504451973609ab8a95b8c0106090aca7a4d657baf9b2611d/spacymoji-2.0.0-py3-none-any.whl\n",
            "Collecting emoji<1.0.0,>=0.4.5\n",
            "\u001b[?25l  Downloading https://files.pythonhosted.org/packages/40/8d/521be7f0091fe0f2ae690cc044faf43e3445e0ff33c574eae752dd7e39fa/emoji-0.5.4.tar.gz (43kB)\n",
            "\u001b[K     |████████████████████████████████| 51kB 4.3MB/s \n",
            "\u001b[?25hRequirement already satisfied: spacy<3.0.0,>=2.1.3 in /usr/local/lib/python3.6/dist-packages (from spacymoji) (2.2.3)\n",
            "Requirement already satisfied: requests<3.0.0,>=2.13.0 in /usr/local/lib/python3.6/dist-packages (from spacy<3.0.0,>=2.1.3->spacymoji) (2.21.0)\n",
            "Requirement already satisfied: catalogue<1.1.0,>=0.0.7 in /usr/local/lib/python3.6/dist-packages (from spacy<3.0.0,>=2.1.3->spacymoji) (1.0.0)\n",
            "Requirement already satisfied: cymem<2.1.0,>=2.0.2 in /usr/local/lib/python3.6/dist-packages (from spacy<3.0.0,>=2.1.3->spacymoji) (2.0.3)\n",
            "Requirement already satisfied: setuptools in /usr/local/lib/python3.6/dist-packages (from spacy<3.0.0,>=2.1.3->spacymoji) (42.0.2)\n",
            "Requirement already satisfied: murmurhash<1.1.0,>=0.28.0 in /usr/local/lib/python3.6/dist-packages (from spacy<3.0.0,>=2.1.3->spacymoji) (1.0.2)\n",
            "Requirement already satisfied: thinc<7.4.0,>=7.3.0 in /usr/local/lib/python3.6/dist-packages (from spacy<3.0.0,>=2.1.3->spacymoji) (7.3.1)\n",
            "Requirement already satisfied: plac<1.2.0,>=0.9.6 in /usr/local/lib/python3.6/dist-packages (from spacy<3.0.0,>=2.1.3->spacymoji) (0.9.6)\n",
            "Requirement already satisfied: preshed<3.1.0,>=3.0.2 in /usr/local/lib/python3.6/dist-packages (from spacy<3.0.0,>=2.1.3->spacymoji) (3.0.2)\n",
            "Requirement already satisfied: wasabi<1.1.0,>=0.4.0 in /usr/local/lib/python3.6/dist-packages (from spacy<3.0.0,>=2.1.3->spacymoji) (0.6.0)\n",
            "Requirement already satisfied: numpy>=1.15.0 in /usr/local/lib/python3.6/dist-packages (from spacy<3.0.0,>=2.1.3->spacymoji) (1.17.5)\n",
            "Requirement already satisfied: blis<0.5.0,>=0.4.0 in /usr/local/lib/python3.6/dist-packages (from spacy<3.0.0,>=2.1.3->spacymoji) (0.4.1)\n",
            "Requirement already satisfied: srsly<1.1.0,>=0.1.0 in /usr/local/lib/python3.6/dist-packages (from spacy<3.0.0,>=2.1.3->spacymoji) (1.0.1)\n",
            "Requirement already satisfied: chardet<3.1.0,>=3.0.2 in /usr/local/lib/python3.6/dist-packages (from requests<3.0.0,>=2.13.0->spacy<3.0.0,>=2.1.3->spacymoji) (3.0.4)\n",
            "Requirement already satisfied: idna<2.9,>=2.5 in /usr/local/lib/python3.6/dist-packages (from requests<3.0.0,>=2.13.0->spacy<3.0.0,>=2.1.3->spacymoji) (2.8)\n",
            "Requirement already satisfied: certifi>=2017.4.17 in /usr/local/lib/python3.6/dist-packages (from requests<3.0.0,>=2.13.0->spacy<3.0.0,>=2.1.3->spacymoji) (2019.11.28)\n",
            "Requirement already satisfied: urllib3<1.25,>=1.21.1 in /usr/local/lib/python3.6/dist-packages (from requests<3.0.0,>=2.13.0->spacy<3.0.0,>=2.1.3->spacymoji) (1.24.3)\n",
            "Requirement already satisfied: importlib-metadata>=0.20; python_version < \"3.8\" in /usr/local/lib/python3.6/dist-packages (from catalogue<1.1.0,>=0.0.7->spacy<3.0.0,>=2.1.3->spacymoji) (1.3.0)\n",
            "Requirement already satisfied: tqdm<5.0.0,>=4.10.0 in /usr/local/lib/python3.6/dist-packages (from thinc<7.4.0,>=7.3.0->spacy<3.0.0,>=2.1.3->spacymoji) (4.28.1)\n",
            "Requirement already satisfied: zipp>=0.5 in /usr/local/lib/python3.6/dist-packages (from importlib-metadata>=0.20; python_version < \"3.8\"->catalogue<1.1.0,>=0.0.7->spacy<3.0.0,>=2.1.3->spacymoji) (0.6.0)\n",
            "Requirement already satisfied: more-itertools in /usr/local/lib/python3.6/dist-packages (from zipp>=0.5->importlib-metadata>=0.20; python_version < \"3.8\"->catalogue<1.1.0,>=0.0.7->spacy<3.0.0,>=2.1.3->spacymoji) (8.0.2)\n",
            "Building wheels for collected packages: emoji\n",
            "  Building wheel for emoji (setup.py) ... \u001b[?25l\u001b[?25hdone\n",
            "  Created wheel for emoji: filename=emoji-0.5.4-cp36-none-any.whl size=42175 sha256=9c8b1eeee3f5d24e79466a88628ed2c17646aa8dac817915bbd4a4a452de6080\n",
            "  Stored in directory: /root/.cache/pip/wheels/2a/a9/0a/4f8e8cce8074232aba240caca3fade315bb49fac68808d1a9c\n",
            "Successfully built emoji\n",
            "Installing collected packages: emoji, spacymoji\n",
            "Successfully installed emoji-0.5.4 spacymoji-2.0.0\n"
          ],
          "name": "stdout"
        }
      ]
    },
    {
      "cell_type": "code",
      "metadata": {
        "id": "goS9YzJ90Due",
        "colab_type": "code",
        "colab": {
          "base_uri": "https://localhost:8080/",
          "height": 34
        },
        "outputId": "be0f54cf-d6be-4719-c557-6dc881107688"
      },
      "source": [
        "emoji = Emoji(nlp)\n",
        "nlp.add_pipe(emoji, first=True)\n",
        "nlp.pipe_names"
      ],
      "execution_count": 39,
      "outputs": [
        {
          "output_type": "execute_result",
          "data": {
            "text/plain": [
              "['emoji', 'tagger', 'parser', 'ner']"
            ]
          },
          "metadata": {
            "tags": []
          },
          "execution_count": 39
        }
      ]
    },
    {
      "cell_type": "code",
      "metadata": {
        "id": "LTGOl_c61Q83",
        "colab_type": "code",
        "colab": {
          "base_uri": "https://localhost:8080/",
          "height": 34
        },
        "outputId": "9bce2795-4af6-4dd8-d34a-9c31847252d1"
      },
      "source": [
        "from spacy.pipeline import Tagger\n",
        "\n"
      ],
      "execution_count": 53,
      "outputs": [
        {
          "output_type": "execute_result",
          "data": {
            "text/plain": [
              "spacy.pipeline.pipes.Tagger"
            ]
          },
          "metadata": {
            "tags": []
          },
          "execution_count": 53
        }
      ]
    },
    {
      "cell_type": "code",
      "metadata": {
        "id": "--Ju-jzrzaxq",
        "colab_type": "code",
        "colab": {
          "base_uri": "https://localhost:8080/",
          "height": 34
        },
        "outputId": "97720600-83c0-49b6-b93c-f8382fd21b49"
      },
      "source": [
        "merge_ents = nlp.create_pipe(\"merge_entities\")\n",
        "nlp.add_pipe(merge_ents, after='ner')\n",
        "nlp.pipe_names"
      ],
      "execution_count": 40,
      "outputs": [
        {
          "output_type": "execute_result",
          "data": {
            "text/plain": [
              "['emoji', 'tagger', 'parser', 'ner', 'merge_entities']"
            ]
          },
          "metadata": {
            "tags": []
          },
          "execution_count": 40
        }
      ]
    },
    {
      "cell_type": "code",
      "metadata": {
        "id": "ibSJd_4suLUD",
        "colab_type": "code",
        "colab": {
          "base_uri": "https://localhost:8080/",
          "height": 34
        },
        "outputId": "062e21c8-67dc-457c-f473-871c41bc98b4"
      },
      "source": [
        "ruler = EntityRuler(nlp).from_disk(\"patterns.jsonl\")\n",
        "nlp.add_pipe(ruler, before='ner')\n",
        "nlp.pipe_names"
      ],
      "execution_count": 76,
      "outputs": [
        {
          "output_type": "execute_result",
          "data": {
            "text/plain": [
              "['emoji', 'tagger', 'parser', 'entity_ruler', 'ner', 'merge_entities']"
            ]
          },
          "metadata": {
            "tags": []
          },
          "execution_count": 76
        }
      ]
    },
    {
      "cell_type": "code",
      "metadata": {
        "id": "BwLbA7PL75Qm",
        "colab_type": "code",
        "colab": {}
      },
      "source": [
        "nlp.to_disk('trained_model_2020_01_13')"
      ],
      "execution_count": 0,
      "outputs": []
    },
    {
      "cell_type": "code",
      "metadata": {
        "id": "LThHynaN4yE2",
        "colab_type": "code",
        "colab": {
          "base_uri": "https://localhost:8080/",
          "height": 89
        },
        "outputId": "c3ce7b3a-6c0e-4cda-cef8-4cf69eafaa31"
      },
      "source": [
        "nlp(eval_docs[1010])"
      ],
      "execution_count": 41,
      "outputs": [
        {
          "output_type": "execute_result",
          "data": {
            "text/plain": [
              "Cheese meats bread offers a solid vegan grilled cheese option. Grilled cheeseries are hard to come across in the first place and to find a vegan option was pretty exciting. It tasted great, provided the comfort of a non-vegan grilled cheese, and it actually walked the line of late-night and healthy lunch food. I would definitely recommend it. My only wish is that they offer some of their other sandwich toppings with the vegan sandwich (you can't ask for substitutions).\n",
              "\n",
              "Ingredients: Vegan cheese, smashed avocado, roasted tomatoes, kale, balsamic drizzle, whole wheat bread, vegan butter"
            ]
          },
          "metadata": {
            "tags": []
          },
          "execution_count": 41
        }
      ]
    },
    {
      "cell_type": "code",
      "metadata": {
        "id": "d8qTXJJTmB8R",
        "colab_type": "code",
        "colab": {}
      },
      "source": [
        "from collections import Counter\n",
        "def remove_duplicate_list_items(input_list):\n",
        "  c = Counter(input_list)\n",
        "  output_list = []\n",
        "  for key in c.keys():\n",
        "    if len(key) != 0:\n",
        "      output_list.append(key)\n",
        "  \n",
        "  return output_list"
      ],
      "execution_count": 0,
      "outputs": []
    },
    {
      "cell_type": "code",
      "metadata": {
        "id": "UJ06StzymR5Q",
        "colab_type": "code",
        "colab": {
          "base_uri": "https://localhost:8080/",
          "height": 156
        },
        "outputId": "e9852e22-a83f-41cb-e9a6-767ebc69c1dd"
      },
      "source": [
        "l = ['carrots',\n",
        "  'corn',\n",
        "  'pomelo',\n",
        "  'quinoa',\n",
        "  'salad',\n",
        "  'salad',\n",
        "  'salad',\n",
        "  'tofu',\n",
        "  'vegan',\n",
        "  'vegetarian']\n",
        "Counter(l)"
      ],
      "execution_count": 60,
      "outputs": [
        {
          "output_type": "execute_result",
          "data": {
            "text/plain": [
              "Counter({'carrots': 1,\n",
              "         'corn': 1,\n",
              "         'pomelo': 1,\n",
              "         'quinoa': 1,\n",
              "         'salad': 3,\n",
              "         'tofu': 1,\n",
              "         'vegan': 1,\n",
              "         'vegetarian': 1})"
            ]
          },
          "metadata": {
            "tags": []
          },
          "execution_count": 60
        }
      ]
    },
    {
      "cell_type": "code",
      "metadata": {
        "id": "7wiW197fwW4W",
        "colab_type": "code",
        "colab": {
          "base_uri": "https://localhost:8080/",
          "height": 347
        },
        "outputId": "4fd3e945-c932-4504-d534-21cbd51347fe"
      },
      "source": [
        "ent_list = []\n",
        "for doc in eval_reviews['text']:\n",
        "#  displacy.render(nlp(doc),'ent',jupyter=True)\n",
        "  ent_list.append([k  for k in Counter(sorted([(ent.ent_id_) for ent in nlp(doc).ents if ent.ent_id_ != ''])).keys()])\n",
        "#ent_list.append([ent.text for ent in nlp(doc).ents if ent.ent_id_ == ''])\n",
        "\n",
        "ent_list[-5:]"
      ],
      "execution_count": 156,
      "outputs": [
        {
          "output_type": "execute_result",
          "data": {
            "text/plain": [
              "[['buns',\n",
              "  'char_siu',\n",
              "  'dipping_sauce',\n",
              "  'hong_kong',\n",
              "  'lunch',\n",
              "  'mock_meats',\n",
              "  'vegan'],\n",
              " ['chinese', 'curry', 'english', 'lunch', 'rice', 'sauce', 'vegan'],\n",
              " ['a_ton',\n",
              "  'asparagus',\n",
              "  'bread',\n",
              "  'egg',\n",
              "  'feta',\n",
              "  'omelette',\n",
              "  'tomato',\n",
              "  'vegan',\n",
              "  'vegetarian'],\n",
              " ['pepper', 'stuffed_tomatoes', 'vegan'],\n",
              " ['chocolate', 'dessert', 'hazelnuts']]"
            ]
          },
          "metadata": {
            "tags": []
          },
          "execution_count": 156
        }
      ]
    },
    {
      "cell_type": "code",
      "metadata": {
        "id": "kgEEZoij-xCI",
        "colab_type": "code",
        "colab": {}
      },
      "source": [
        "df_entities = pd.DataFrame(pd.Series(ent_list),columns=['entities'])"
      ],
      "execution_count": 0,
      "outputs": []
    },
    {
      "cell_type": "code",
      "metadata": {
        "id": "E6n6paKNBkJ-",
        "colab_type": "code",
        "colab": {
          "base_uri": "https://localhost:8080/",
          "height": 197
        },
        "outputId": "661b3967-ba56-4128-9a65-9425dd378cbb"
      },
      "source": [
        "df_entities.tail()"
      ],
      "execution_count": 159,
      "outputs": [
        {
          "output_type": "execute_result",
          "data": {
            "text/html": [
              "<div>\n",
              "<style scoped>\n",
              "    .dataframe tbody tr th:only-of-type {\n",
              "        vertical-align: middle;\n",
              "    }\n",
              "\n",
              "    .dataframe tbody tr th {\n",
              "        vertical-align: top;\n",
              "    }\n",
              "\n",
              "    .dataframe thead th {\n",
              "        text-align: right;\n",
              "    }\n",
              "</style>\n",
              "<table border=\"1\" class=\"dataframe\">\n",
              "  <thead>\n",
              "    <tr style=\"text-align: right;\">\n",
              "      <th></th>\n",
              "      <th>entities</th>\n",
              "    </tr>\n",
              "  </thead>\n",
              "  <tbody>\n",
              "    <tr>\n",
              "      <th>995</th>\n",
              "      <td>[buns, char_siu, dipping_sauce, hong_kong, lun...</td>\n",
              "    </tr>\n",
              "    <tr>\n",
              "      <th>996</th>\n",
              "      <td>[chinese, curry, english, lunch, rice, sauce, ...</td>\n",
              "    </tr>\n",
              "    <tr>\n",
              "      <th>997</th>\n",
              "      <td>[a_ton, asparagus, bread, egg, feta, omelette,...</td>\n",
              "    </tr>\n",
              "    <tr>\n",
              "      <th>998</th>\n",
              "      <td>[pepper, stuffed_tomatoes, vegan]</td>\n",
              "    </tr>\n",
              "    <tr>\n",
              "      <th>999</th>\n",
              "      <td>[chocolate, dessert, hazelnuts]</td>\n",
              "    </tr>\n",
              "  </tbody>\n",
              "</table>\n",
              "</div>"
            ],
            "text/plain": [
              "                                              entities\n",
              "995  [buns, char_siu, dipping_sauce, hong_kong, lun...\n",
              "996  [chinese, curry, english, lunch, rice, sauce, ...\n",
              "997  [a_ton, asparagus, bread, egg, feta, omelette,...\n",
              "998                  [pepper, stuffed_tomatoes, vegan]\n",
              "999                    [chocolate, dessert, hazelnuts]"
            ]
          },
          "metadata": {
            "tags": []
          },
          "execution_count": 159
        }
      ]
    },
    {
      "cell_type": "code",
      "metadata": {
        "id": "ID0aSzxoBota",
        "colab_type": "code",
        "colab": {
          "base_uri": "https://localhost:8080/",
          "height": 197
        },
        "outputId": "280aff37-9167-42f5-9d14-1a30d2e8162b"
      },
      "source": [
        "eval_reviews.head()"
      ],
      "execution_count": 160,
      "outputs": [
        {
          "output_type": "execute_result",
          "data": {
            "text/html": [
              "<div>\n",
              "<style scoped>\n",
              "    .dataframe tbody tr th:only-of-type {\n",
              "        vertical-align: middle;\n",
              "    }\n",
              "\n",
              "    .dataframe tbody tr th {\n",
              "        vertical-align: top;\n",
              "    }\n",
              "\n",
              "    .dataframe thead th {\n",
              "        text-align: right;\n",
              "    }\n",
              "</style>\n",
              "<table border=\"1\" class=\"dataframe\">\n",
              "  <thead>\n",
              "    <tr style=\"text-align: right;\">\n",
              "      <th></th>\n",
              "      <th>_id</th>\n",
              "      <th>originality</th>\n",
              "      <th>value</th>\n",
              "      <th>nutrition</th>\n",
              "      <th>presentation</th>\n",
              "      <th>taste</th>\n",
              "      <th>text</th>\n",
              "      <th>dish</th>\n",
              "      <th>type</th>\n",
              "      <th>user</th>\n",
              "      <th>restaurant</th>\n",
              "      <th>overall</th>\n",
              "    </tr>\n",
              "  </thead>\n",
              "  <tbody>\n",
              "    <tr>\n",
              "      <th>1000</th>\n",
              "      <td>5a5e06be72aeaa00048cc4c8</td>\n",
              "      <td>4</td>\n",
              "      <td>3</td>\n",
              "      <td>4</td>\n",
              "      <td>4</td>\n",
              "      <td>4</td>\n",
              "      <td>The way the dish was presented was so differen...</td>\n",
              "      <td>5a5e06bc72aeaa00048cc4c7</td>\n",
              "      <td>dish</td>\n",
              "      <td>5a1a2eb0ee33f1000472ace3</td>\n",
              "      <td>5a3722f0587eb70004fab2e1</td>\n",
              "      <td>3.8</td>\n",
              "    </tr>\n",
              "    <tr>\n",
              "      <th>1001</th>\n",
              "      <td>5a5e078772aeaa00048cc4cc</td>\n",
              "      <td>2</td>\n",
              "      <td>3</td>\n",
              "      <td>4</td>\n",
              "      <td>3</td>\n",
              "      <td>4</td>\n",
              "      <td>Off the menu and they added asparagus and mush...</td>\n",
              "      <td>5a5e078572aeaa00048cc4cb</td>\n",
              "      <td>dish</td>\n",
              "      <td>5a1a2eb0ee33f1000472ace3</td>\n",
              "      <td>5a3722f0587eb70004fab2e1</td>\n",
              "      <td>3.2</td>\n",
              "    </tr>\n",
              "    <tr>\n",
              "      <th>1002</th>\n",
              "      <td>5a5eb04672aeaa00048cc505</td>\n",
              "      <td>5</td>\n",
              "      <td>4</td>\n",
              "      <td>5</td>\n",
              "      <td>4</td>\n",
              "      <td>5</td>\n",
              "      <td>Overall good salad that was healthy and hadn’t...</td>\n",
              "      <td>5a5eb04472aeaa00048cc504</td>\n",
              "      <td>dish</td>\n",
              "      <td>59d98c55ded2bc0004210661</td>\n",
              "      <td>5a08f8336d62fc000456e32f</td>\n",
              "      <td>4.6</td>\n",
              "    </tr>\n",
              "    <tr>\n",
              "      <th>1003</th>\n",
              "      <td>5a5f4c94935a8a0004fc9e75</td>\n",
              "      <td>2</td>\n",
              "      <td>3</td>\n",
              "      <td>3</td>\n",
              "      <td>3</td>\n",
              "      <td>3</td>\n",
              "      <td>Not much choices for vegetarians but they do h...</td>\n",
              "      <td>5a5f4c4e935a8a0004fc9e6f</td>\n",
              "      <td>dish</td>\n",
              "      <td>5a1a2eb0ee33f1000472ace3</td>\n",
              "      <td>59faa363f85af800044811a5</td>\n",
              "      <td>2.8</td>\n",
              "    </tr>\n",
              "    <tr>\n",
              "      <th>1004</th>\n",
              "      <td>5a602755935a8a0004fc9e89</td>\n",
              "      <td>5</td>\n",
              "      <td>5</td>\n",
              "      <td>5</td>\n",
              "      <td>5</td>\n",
              "      <td>4</td>\n",
              "      <td>So colorful. So much variety. I especially lik...</td>\n",
              "      <td>5a602753935a8a0004fc9e88</td>\n",
              "      <td>dish</td>\n",
              "      <td>59ec22d177466d00048bb2e2</td>\n",
              "      <td>5a0883fc6d62fc000456e323</td>\n",
              "      <td>4.8</td>\n",
              "    </tr>\n",
              "  </tbody>\n",
              "</table>\n",
              "</div>"
            ],
            "text/plain": [
              "                           _id  originality  ...                restaurant  overall\n",
              "1000  5a5e06be72aeaa00048cc4c8            4  ...  5a3722f0587eb70004fab2e1      3.8\n",
              "1001  5a5e078772aeaa00048cc4cc            2  ...  5a3722f0587eb70004fab2e1      3.2\n",
              "1002  5a5eb04672aeaa00048cc505            5  ...  5a08f8336d62fc000456e32f      4.6\n",
              "1003  5a5f4c94935a8a0004fc9e75            2  ...  59faa363f85af800044811a5      2.8\n",
              "1004  5a602755935a8a0004fc9e89            5  ...  5a0883fc6d62fc000456e323      4.8\n",
              "\n",
              "[5 rows x 12 columns]"
            ]
          },
          "metadata": {
            "tags": []
          },
          "execution_count": 160
        }
      ]
    },
    {
      "cell_type": "code",
      "metadata": {
        "id": "mrn1MvuSCV_B",
        "colab_type": "code",
        "colab": {
          "base_uri": "https://localhost:8080/",
          "height": 406
        },
        "outputId": "1fc6f46f-257a-4490-e2a7-9c87c12dc54f"
      },
      "source": [
        "eval_reviews.reset_index(drop=True)"
      ],
      "execution_count": 165,
      "outputs": [
        {
          "output_type": "execute_result",
          "data": {
            "text/html": [
              "<div>\n",
              "<style scoped>\n",
              "    .dataframe tbody tr th:only-of-type {\n",
              "        vertical-align: middle;\n",
              "    }\n",
              "\n",
              "    .dataframe tbody tr th {\n",
              "        vertical-align: top;\n",
              "    }\n",
              "\n",
              "    .dataframe thead th {\n",
              "        text-align: right;\n",
              "    }\n",
              "</style>\n",
              "<table border=\"1\" class=\"dataframe\">\n",
              "  <thead>\n",
              "    <tr style=\"text-align: right;\">\n",
              "      <th></th>\n",
              "      <th>_id</th>\n",
              "      <th>originality</th>\n",
              "      <th>value</th>\n",
              "      <th>nutrition</th>\n",
              "      <th>presentation</th>\n",
              "      <th>taste</th>\n",
              "      <th>text</th>\n",
              "      <th>dish</th>\n",
              "      <th>type</th>\n",
              "      <th>user</th>\n",
              "      <th>restaurant</th>\n",
              "      <th>overall</th>\n",
              "    </tr>\n",
              "  </thead>\n",
              "  <tbody>\n",
              "    <tr>\n",
              "      <th>0</th>\n",
              "      <td>5a5e06be72aeaa00048cc4c8</td>\n",
              "      <td>4</td>\n",
              "      <td>3</td>\n",
              "      <td>4</td>\n",
              "      <td>4</td>\n",
              "      <td>4</td>\n",
              "      <td>The way the dish was presented was so differen...</td>\n",
              "      <td>5a5e06bc72aeaa00048cc4c7</td>\n",
              "      <td>dish</td>\n",
              "      <td>5a1a2eb0ee33f1000472ace3</td>\n",
              "      <td>5a3722f0587eb70004fab2e1</td>\n",
              "      <td>3.8</td>\n",
              "    </tr>\n",
              "    <tr>\n",
              "      <th>1</th>\n",
              "      <td>5a5e078772aeaa00048cc4cc</td>\n",
              "      <td>2</td>\n",
              "      <td>3</td>\n",
              "      <td>4</td>\n",
              "      <td>3</td>\n",
              "      <td>4</td>\n",
              "      <td>Off the menu and they added asparagus and mush...</td>\n",
              "      <td>5a5e078572aeaa00048cc4cb</td>\n",
              "      <td>dish</td>\n",
              "      <td>5a1a2eb0ee33f1000472ace3</td>\n",
              "      <td>5a3722f0587eb70004fab2e1</td>\n",
              "      <td>3.2</td>\n",
              "    </tr>\n",
              "    <tr>\n",
              "      <th>2</th>\n",
              "      <td>5a5eb04672aeaa00048cc505</td>\n",
              "      <td>5</td>\n",
              "      <td>4</td>\n",
              "      <td>5</td>\n",
              "      <td>4</td>\n",
              "      <td>5</td>\n",
              "      <td>Overall good salad that was healthy and hadn’t...</td>\n",
              "      <td>5a5eb04472aeaa00048cc504</td>\n",
              "      <td>dish</td>\n",
              "      <td>59d98c55ded2bc0004210661</td>\n",
              "      <td>5a08f8336d62fc000456e32f</td>\n",
              "      <td>4.6</td>\n",
              "    </tr>\n",
              "    <tr>\n",
              "      <th>3</th>\n",
              "      <td>5a5f4c94935a8a0004fc9e75</td>\n",
              "      <td>2</td>\n",
              "      <td>3</td>\n",
              "      <td>3</td>\n",
              "      <td>3</td>\n",
              "      <td>3</td>\n",
              "      <td>Not much choices for vegetarians but they do h...</td>\n",
              "      <td>5a5f4c4e935a8a0004fc9e6f</td>\n",
              "      <td>dish</td>\n",
              "      <td>5a1a2eb0ee33f1000472ace3</td>\n",
              "      <td>59faa363f85af800044811a5</td>\n",
              "      <td>2.8</td>\n",
              "    </tr>\n",
              "    <tr>\n",
              "      <th>4</th>\n",
              "      <td>5a602755935a8a0004fc9e89</td>\n",
              "      <td>5</td>\n",
              "      <td>5</td>\n",
              "      <td>5</td>\n",
              "      <td>5</td>\n",
              "      <td>4</td>\n",
              "      <td>So colorful. So much variety. I especially lik...</td>\n",
              "      <td>5a602753935a8a0004fc9e88</td>\n",
              "      <td>dish</td>\n",
              "      <td>59ec22d177466d00048bb2e2</td>\n",
              "      <td>5a0883fc6d62fc000456e323</td>\n",
              "      <td>4.8</td>\n",
              "    </tr>\n",
              "    <tr>\n",
              "      <th>...</th>\n",
              "      <td>...</td>\n",
              "      <td>...</td>\n",
              "      <td>...</td>\n",
              "      <td>...</td>\n",
              "      <td>...</td>\n",
              "      <td>...</td>\n",
              "      <td>...</td>\n",
              "      <td>...</td>\n",
              "      <td>...</td>\n",
              "      <td>...</td>\n",
              "      <td>...</td>\n",
              "      <td>...</td>\n",
              "    </tr>\n",
              "    <tr>\n",
              "      <th>995</th>\n",
              "      <td>5aa4beb014f5ac000443145c</td>\n",
              "      <td>5</td>\n",
              "      <td>5</td>\n",
              "      <td>5</td>\n",
              "      <td>5</td>\n",
              "      <td>4</td>\n",
              "      <td>Part of an all-you-can-eat vegan lunch set. Al...</td>\n",
              "      <td>5aa4beaf14f5ac000443145b</td>\n",
              "      <td>dish</td>\n",
              "      <td>5a4f34be991bc70004e1e3a9</td>\n",
              "      <td>5a9d4e51b31e0f00048f5382</td>\n",
              "      <td>4.8</td>\n",
              "    </tr>\n",
              "    <tr>\n",
              "      <th>996</th>\n",
              "      <td>5aa4bf9e14f5ac000443145f</td>\n",
              "      <td>3</td>\n",
              "      <td>2</td>\n",
              "      <td>3</td>\n",
              "      <td>3</td>\n",
              "      <td>3</td>\n",
              "      <td>Part of an all-you-can-eat vegan lunch set. Th...</td>\n",
              "      <td>5aa4bf9c14f5ac000443145e</td>\n",
              "      <td>dish</td>\n",
              "      <td>5a4f34be991bc70004e1e3a9</td>\n",
              "      <td>5a9d4e51b31e0f00048f5382</td>\n",
              "      <td>2.8</td>\n",
              "    </tr>\n",
              "    <tr>\n",
              "      <th>997</th>\n",
              "      <td>5aa4cf2414f5ac0004431480</td>\n",
              "      <td>5</td>\n",
              "      <td>4</td>\n",
              "      <td>5</td>\n",
              "      <td>5</td>\n",
              "      <td>5</td>\n",
              "      <td>Egg white omelette with asparagus, feta, sauté...</td>\n",
              "      <td>5aa4cf2314f5ac000443147f</td>\n",
              "      <td>dish</td>\n",
              "      <td>59d98c55ded2bc0004210661</td>\n",
              "      <td>5a019c6349b40d00048326b4</td>\n",
              "      <td>4.8</td>\n",
              "    </tr>\n",
              "    <tr>\n",
              "      <th>998</th>\n",
              "      <td>5aa4d04714f5ac0004431484</td>\n",
              "      <td>2</td>\n",
              "      <td>2</td>\n",
              "      <td>4</td>\n",
              "      <td>3</td>\n",
              "      <td>3</td>\n",
              "      <td>This dish of stuffed tomatoes and green pepper...</td>\n",
              "      <td>5aa4d04514f5ac0004431483</td>\n",
              "      <td>dish</td>\n",
              "      <td>59d98c55ded2bc0004210661</td>\n",
              "      <td>59e83398a898310004aae3c7</td>\n",
              "      <td>2.8</td>\n",
              "    </tr>\n",
              "    <tr>\n",
              "      <th>999</th>\n",
              "      <td>5aa4f1b014f5ac00044314c8</td>\n",
              "      <td>4</td>\n",
              "      <td>4</td>\n",
              "      <td>3</td>\n",
              "      <td>4</td>\n",
              "      <td>4</td>\n",
              "      <td>Yummy warm dessert with crumbled hazelnuts and...</td>\n",
              "      <td>5aa4f1b014f5ac00044314c7</td>\n",
              "      <td>dish</td>\n",
              "      <td>5a5c92b80c85640004cadd0b</td>\n",
              "      <td>5a75f649d25973000459f1fb</td>\n",
              "      <td>3.8</td>\n",
              "    </tr>\n",
              "  </tbody>\n",
              "</table>\n",
              "<p>1000 rows × 12 columns</p>\n",
              "</div>"
            ],
            "text/plain": [
              "                          _id  originality  ...                restaurant  overall\n",
              "0    5a5e06be72aeaa00048cc4c8            4  ...  5a3722f0587eb70004fab2e1      3.8\n",
              "1    5a5e078772aeaa00048cc4cc            2  ...  5a3722f0587eb70004fab2e1      3.2\n",
              "2    5a5eb04672aeaa00048cc505            5  ...  5a08f8336d62fc000456e32f      4.6\n",
              "3    5a5f4c94935a8a0004fc9e75            2  ...  59faa363f85af800044811a5      2.8\n",
              "4    5a602755935a8a0004fc9e89            5  ...  5a0883fc6d62fc000456e323      4.8\n",
              "..                        ...          ...  ...                       ...      ...\n",
              "995  5aa4beb014f5ac000443145c            5  ...  5a9d4e51b31e0f00048f5382      4.8\n",
              "996  5aa4bf9e14f5ac000443145f            3  ...  5a9d4e51b31e0f00048f5382      2.8\n",
              "997  5aa4cf2414f5ac0004431480            5  ...  5a019c6349b40d00048326b4      4.8\n",
              "998  5aa4d04714f5ac0004431484            2  ...  59e83398a898310004aae3c7      2.8\n",
              "999  5aa4f1b014f5ac00044314c8            4  ...  5a75f649d25973000459f1fb      3.8\n",
              "\n",
              "[1000 rows x 12 columns]"
            ]
          },
          "metadata": {
            "tags": []
          },
          "execution_count": 165
        }
      ]
    },
    {
      "cell_type": "code",
      "metadata": {
        "id": "F45zOUInDQr0",
        "colab_type": "code",
        "colab": {
          "base_uri": "https://localhost:8080/",
          "height": 243
        },
        "outputId": "4f9150fe-9260-423c-9591-4273a1cabd66"
      },
      "source": [
        "list(eval_reviews.columns) + list(df_entities.columns)"
      ],
      "execution_count": 173,
      "outputs": [
        {
          "output_type": "execute_result",
          "data": {
            "text/plain": [
              "['_id',\n",
              " 'originality',\n",
              " 'value',\n",
              " 'nutrition',\n",
              " 'presentation',\n",
              " 'taste',\n",
              " 'text',\n",
              " 'dish',\n",
              " 'type',\n",
              " 'user',\n",
              " 'restaurant',\n",
              " 'overall',\n",
              " 'entities']"
            ]
          },
          "metadata": {
            "tags": []
          },
          "execution_count": 173
        }
      ]
    },
    {
      "cell_type": "code",
      "metadata": {
        "id": "kUmvHf6sBx7i",
        "colab_type": "code",
        "colab": {
          "base_uri": "https://localhost:8080/",
          "height": 281
        },
        "outputId": "b56f18ea-5061-4263-ef99-87e362698c04"
      },
      "source": [
        "eval_new_df = pd.concat([eval_reviews.reset_index(drop=True), df_entities],axis=1,ignore_index=True)\n",
        "eval_new_df.columns = list(eval_reviews.columns) + list(df_entities.columns)\n",
        "eval_new_df.head()"
      ],
      "execution_count": 174,
      "outputs": [
        {
          "output_type": "execute_result",
          "data": {
            "text/html": [
              "<div>\n",
              "<style scoped>\n",
              "    .dataframe tbody tr th:only-of-type {\n",
              "        vertical-align: middle;\n",
              "    }\n",
              "\n",
              "    .dataframe tbody tr th {\n",
              "        vertical-align: top;\n",
              "    }\n",
              "\n",
              "    .dataframe thead th {\n",
              "        text-align: right;\n",
              "    }\n",
              "</style>\n",
              "<table border=\"1\" class=\"dataframe\">\n",
              "  <thead>\n",
              "    <tr style=\"text-align: right;\">\n",
              "      <th></th>\n",
              "      <th>_id</th>\n",
              "      <th>originality</th>\n",
              "      <th>value</th>\n",
              "      <th>nutrition</th>\n",
              "      <th>presentation</th>\n",
              "      <th>taste</th>\n",
              "      <th>text</th>\n",
              "      <th>dish</th>\n",
              "      <th>type</th>\n",
              "      <th>user</th>\n",
              "      <th>restaurant</th>\n",
              "      <th>overall</th>\n",
              "      <th>entities</th>\n",
              "    </tr>\n",
              "  </thead>\n",
              "  <tbody>\n",
              "    <tr>\n",
              "      <th>0</th>\n",
              "      <td>5a5e06be72aeaa00048cc4c8</td>\n",
              "      <td>4</td>\n",
              "      <td>3</td>\n",
              "      <td>4</td>\n",
              "      <td>4</td>\n",
              "      <td>4</td>\n",
              "      <td>The way the dish was presented was so differen...</td>\n",
              "      <td>5a5e06bc72aeaa00048cc4c7</td>\n",
              "      <td>dish</td>\n",
              "      <td>5a1a2eb0ee33f1000472ace3</td>\n",
              "      <td>5a3722f0587eb70004fab2e1</td>\n",
              "      <td>3.8</td>\n",
              "      <td>[sauce]</td>\n",
              "    </tr>\n",
              "    <tr>\n",
              "      <th>1</th>\n",
              "      <td>5a5e078772aeaa00048cc4cc</td>\n",
              "      <td>2</td>\n",
              "      <td>3</td>\n",
              "      <td>4</td>\n",
              "      <td>3</td>\n",
              "      <td>4</td>\n",
              "      <td>Off the menu and they added asparagus and mush...</td>\n",
              "      <td>5a5e078572aeaa00048cc4cb</td>\n",
              "      <td>dish</td>\n",
              "      <td>5a1a2eb0ee33f1000472ace3</td>\n",
              "      <td>5a3722f0587eb70004fab2e1</td>\n",
              "      <td>3.2</td>\n",
              "      <td>[asparagus, mushrooms]</td>\n",
              "    </tr>\n",
              "    <tr>\n",
              "      <th>2</th>\n",
              "      <td>5a5eb04672aeaa00048cc505</td>\n",
              "      <td>5</td>\n",
              "      <td>4</td>\n",
              "      <td>5</td>\n",
              "      <td>4</td>\n",
              "      <td>5</td>\n",
              "      <td>Overall good salad that was healthy and hadn’t...</td>\n",
              "      <td>5a5eb04472aeaa00048cc504</td>\n",
              "      <td>dish</td>\n",
              "      <td>59d98c55ded2bc0004210661</td>\n",
              "      <td>5a08f8336d62fc000456e32f</td>\n",
              "      <td>4.6</td>\n",
              "      <td>[carrot, corn, pomelo, quinoa, salad, tofu, ve...</td>\n",
              "    </tr>\n",
              "    <tr>\n",
              "      <th>3</th>\n",
              "      <td>5a5f4c94935a8a0004fc9e75</td>\n",
              "      <td>2</td>\n",
              "      <td>3</td>\n",
              "      <td>3</td>\n",
              "      <td>3</td>\n",
              "      <td>3</td>\n",
              "      <td>Not much choices for vegetarians but they do h...</td>\n",
              "      <td>5a5f4c4e935a8a0004fc9e6f</td>\n",
              "      <td>dish</td>\n",
              "      <td>5a1a2eb0ee33f1000472ace3</td>\n",
              "      <td>59faa363f85af800044811a5</td>\n",
              "      <td>2.8</td>\n",
              "      <td>[dinner, egg, fried_rice, hot_and_sour_soup, s...</td>\n",
              "    </tr>\n",
              "    <tr>\n",
              "      <th>4</th>\n",
              "      <td>5a602755935a8a0004fc9e89</td>\n",
              "      <td>5</td>\n",
              "      <td>5</td>\n",
              "      <td>5</td>\n",
              "      <td>5</td>\n",
              "      <td>4</td>\n",
              "      <td>So colorful. So much variety. I especially lik...</td>\n",
              "      <td>5a602753935a8a0004fc9e88</td>\n",
              "      <td>dish</td>\n",
              "      <td>59ec22d177466d00048bb2e2</td>\n",
              "      <td>5a0883fc6d62fc000456e323</td>\n",
              "      <td>4.8</td>\n",
              "      <td>[#_crf]</td>\n",
              "    </tr>\n",
              "  </tbody>\n",
              "</table>\n",
              "</div>"
            ],
            "text/plain": [
              "                        _id  ...                                           entities\n",
              "0  5a5e06be72aeaa00048cc4c8  ...                                            [sauce]\n",
              "1  5a5e078772aeaa00048cc4cc  ...                             [asparagus, mushrooms]\n",
              "2  5a5eb04672aeaa00048cc505  ...  [carrot, corn, pomelo, quinoa, salad, tofu, ve...\n",
              "3  5a5f4c94935a8a0004fc9e75  ...  [dinner, egg, fried_rice, hot_and_sour_soup, s...\n",
              "4  5a602755935a8a0004fc9e89  ...                                            [#_crf]\n",
              "\n",
              "[5 rows x 13 columns]"
            ]
          },
          "metadata": {
            "tags": []
          },
          "execution_count": 174
        }
      ]
    },
    {
      "cell_type": "code",
      "metadata": {
        "id": "MvxDZtUVBFhO",
        "colab_type": "code",
        "colab": {}
      },
      "source": [
        "ent_list = []\n",
        "for doc in eval_reviews['text'][:10]:\n",
        "  ent_list.append([ent.text for ent in nlp(doc).ents if ent.ent_id_ == ''])\n",
        "\n",
        "ent_list"
      ],
      "execution_count": 0,
      "outputs": []
    },
    {
      "cell_type": "code",
      "metadata": {
        "id": "OTalT_Od2lmg",
        "colab_type": "code",
        "colab": {}
      },
      "source": [
        "df = pd.DataFrame()\n",
        "df =df.append(ent_list).dropna(how='all')"
      ],
      "execution_count": 0,
      "outputs": []
    },
    {
      "cell_type": "code",
      "metadata": {
        "id": "g2MclFdTxyrQ",
        "colab_type": "code",
        "colab": {
          "base_uri": "https://localhost:8080/",
          "height": 365
        },
        "outputId": "d6aeeb96-1969-4d02-b1b2-04de50d82d07"
      },
      "source": [
        "df.info()"
      ],
      "execution_count": 119,
      "outputs": [
        {
          "output_type": "stream",
          "text": [
            "<class 'pandas.core.frame.DataFrame'>\n",
            "Int64Index: 329 entries, 5 to 989\n",
            "Data columns (total 15 columns):\n",
            "0     329 non-null object\n",
            "1     120 non-null object\n",
            "2     40 non-null object\n",
            "3     17 non-null object\n",
            "4     11 non-null object\n",
            "5     7 non-null object\n",
            "6     4 non-null object\n",
            "7     3 non-null object\n",
            "8     3 non-null object\n",
            "9     2 non-null object\n",
            "10    1 non-null object\n",
            "11    1 non-null object\n",
            "12    1 non-null object\n",
            "13    1 non-null object\n",
            "14    1 non-null object\n",
            "dtypes: object(15)\n",
            "memory usage: 41.1+ KB\n"
          ],
          "name": "stdout"
        }
      ]
    },
    {
      "cell_type": "code",
      "metadata": {
        "id": "HJyD1UftzYof",
        "colab_type": "code",
        "colab": {
          "base_uri": "https://localhost:8080/",
          "height": 713
        },
        "outputId": "66b35c77-bbb4-4942-b19d-8441513f7d49"
      },
      "source": [
        "[k for k in Counter(list(df[2])).keys() if k != None]"
      ],
      "execution_count": 132,
      "outputs": [
        {
          "output_type": "execute_result",
          "data": {
            "text/plain": [
              "['croissants',\n",
              " 'Gujarati',\n",
              " 'Rajasthani',\n",
              " 'Native Bowl',\n",
              " 'Fremantle',\n",
              " 'Swiss',\n",
              " 'shakshuka',\n",
              " 'Kona Joe',\n",
              " 'Ahmedabad',\n",
              " 'Shangrila',\n",
              " 'Pili',\n",
              " 'Les Chottes',\n",
              " 'Verbier',\n",
              " 'berries',\n",
              " 'buffet',\n",
              " 'Stockholm',\n",
              " 'Nadu',\n",
              " 'SUFOOD',\n",
              " 'poached',\n",
              " 'Kaedama',\n",
              " 'dosas',\n",
              " 'Kaveri',\n",
              " 'crepes',\n",
              " 'oat',\n",
              " '8️⃣',\n",
              " 'peppercorns',\n",
              " '9',\n",
              " 'deep fried & coated',\n",
              " 'Hokkien',\n",
              " 'Bangkok',\n",
              " 'creme',\n",
              " 'palak',\n",
              " 'choc',\n",
              " 'mac &',\n",
              " 'calzones',\n",
              " 'Nasi Goreng',\n",
              " 'natto',\n",
              " '10 euros',\n",
              " 'donación',\n",
              " 'Central kitchen']"
            ]
          },
          "metadata": {
            "tags": []
          },
          "execution_count": 132
        }
      ]
    },
    {
      "cell_type": "code",
      "metadata": {
        "id": "1ERzPB9Eyqwq",
        "colab_type": "code",
        "colab": {
          "base_uri": "https://localhost:8080/",
          "height": 1000
        },
        "outputId": "07933c64-c6c4-4499-89f4-b81063fbfe9d"
      },
      "source": [
        "full_list = []\n",
        "\n",
        "for col in df.columns:\n",
        "  full_list.extend([k for k in Counter(list(df[col])).keys() if k != None])\n",
        "\n",
        "full_list"
      ],
      "execution_count": 134,
      "outputs": [
        {
          "output_type": "execute_result",
          "data": {
            "text/plain": [
              "['20mins',\n",
              " 'cheeseries',\n",
              " 'cronuts',\n",
              " 'parfaits',\n",
              " 'Maharashtrian',\n",
              " 'Pulkas',\n",
              " 'hush puppies',\n",
              " 'Rajasthani',\n",
              " 'wholewheat',\n",
              " 'Saturday',\n",
              " 'Sicilian',\n",
              " 'bakeries',\n",
              " 'bbq bowl',\n",
              " 'mac & cheeses',\n",
              " 'MAC &',\n",
              " 'mac &',\n",
              " 'YAAASSS',\n",
              " 'chilly day',\n",
              " 'SGD15',\n",
              " 'Poppers',\n",
              " 'lingon berries',\n",
              " 'Vegas',\n",
              " 'Oreo',\n",
              " 'deep fried',\n",
              " 'Perth Organic Kitchen',\n",
              " 'Black Brewing Co',\n",
              " 'Moore &',\n",
              " 'CocoFreak',\n",
              " 'Las papas',\n",
              " 'bata',\n",
              " 'lasagna',\n",
              " 'Israeli',\n",
              " 'Morries',\n",
              " 'South West',\n",
              " 'craze',\n",
              " 'mandarin',\n",
              " 'capers',\n",
              " 'Manila',\n",
              " 'muffins',\n",
              " 'Causeway Bay',\n",
              " 'Tabouleh',\n",
              " 'poached',\n",
              " 'elderflower compote',\n",
              " 'Earlier',\n",
              " 'graham',\n",
              " 'darshini',\n",
              " '30 cents',\n",
              " 'Tasmanian',\n",
              " 'Koji',\n",
              " 'canapés',\n",
              " 'marmalade',\n",
              " 'buttermilk dressing',\n",
              " 'sonis',\n",
              " 'Marriott',\n",
              " 'kaya',\n",
              " 'East Coast',\n",
              " 'artichokes',\n",
              " 'Choc',\n",
              " 'Pestle Rock',\n",
              " 'sambhar',\n",
              " 'bamboo shoots',\n",
              " 'Thalis',\n",
              " 'maple glaze',\n",
              " 'buffet',\n",
              " 'Shang',\n",
              " 'Dempsey Hill',\n",
              " 'raddish',\n",
              " 'Open Farm Community',\n",
              " 'Jaggi',\n",
              " 'Verbier',\n",
              " 'zurich',\n",
              " 'Bindella',\n",
              " 'Grassroot Pantry',\n",
              " 'diner',\n",
              " 'Konjac',\n",
              " 'San',\n",
              " 'balsamic',\n",
              " 'chiabeet balls',\n",
              " 'scones',\n",
              " 'Grand Hyatt',\n",
              " 'Cyprus',\n",
              " 'Turkish',\n",
              " 'samosas',\n",
              " 'berries',\n",
              " 'Braceria',\n",
              " 'arabiatta',\n",
              " 'Canadian',\n",
              " 'coffeeshop',\n",
              " 'Moroccan',\n",
              " 'legumes',\n",
              " 'maca',\n",
              " 'Ja Manafaru',\n",
              " '17 Dollars',\n",
              " 'cusine',\n",
              " 'Hung Hom',\n",
              " 'Tanaka',\n",
              " 'pandan',\n",
              " 'jelak',\n",
              " 'jalepeno',\n",
              " 'camembert',\n",
              " 'Auroville',\n",
              " 'Shimon',\n",
              " 'Zi Ran',\n",
              " 'SUFOOD',\n",
              " 'Poké',\n",
              " 'shoyu dlavour',\n",
              " 'fresh fruit (',\n",
              " 'Amritsar',\n",
              " 'Punjab',\n",
              " 'gyoza',\n",
              " 'Miami',\n",
              " 'side grilled',\n",
              " 'Orchard Central',\n",
              " 'gyozas',\n",
              " 'Sooji',\n",
              " 'chola',\n",
              " 'Indians',\n",
              " 'lacha',\n",
              " 'furikake',\n",
              " 'Lee Garden',\n",
              " 'ceramic pot',\n",
              " 'shisenhanten',\n",
              " 'cold rainy day',\n",
              " 'baguettes',\n",
              " 'TANGLIN Mall',\n",
              " 'cupcakes',\n",
              " 'dahi',\n",
              " 'brownies',\n",
              " 'pepita toast',\n",
              " 'Tiong Bahru',\n",
              " 'Ippudo',\n",
              " 'dijon',\n",
              " 'besan',\n",
              " 'Millets',\n",
              " 'tropics',\n",
              " 'Kaveri',\n",
              " 'Maca',\n",
              " 'tuna',\n",
              " 'Tasmanian cherries',\n",
              " 'Fifth',\n",
              " 'Rome',\n",
              " 'kangkong',\n",
              " 'beurre',\n",
              " 'Mesa',\n",
              " 'decirles',\n",
              " 'unagi',\n",
              " 'Boi',\n",
              " 'Katsu',\n",
              " 'katsu',\n",
              " 'cutlet',\n",
              " 'Ho jiak',\n",
              " 'Naples',\n",
              " 'next day',\n",
              " 'rocket leaves.',\n",
              " '55 dollars',\n",
              " 'Masala Masala',\n",
              " 'main dish',\n",
              " 'Boba',\n",
              " 'Nang',\n",
              " 'veganise',\n",
              " 'konnyaku',\n",
              " 'curd',\n",
              " 'Kihei',\n",
              " 'cocoa nibs',\n",
              " 'burgs',\n",
              " 'HAHHA',\n",
              " 'VeganBurg!',\n",
              " 'youncan',\n",
              " 'Sizzlin',\n",
              " 'heels',\n",
              " 'Day5',\n",
              " 'bestsellers',\n",
              " 'pattie',\n",
              " 'swiss',\n",
              " 'my day',\n",
              " 'BeyondMeat',\n",
              " 'GraciasMadre',\n",
              " 'tomatillo',\n",
              " 'flan',\n",
              " \"Queen Ka'ahumanu\",\n",
              " 'natto',\n",
              " 'ume',\n",
              " 'takeaways',\n",
              " 'barePack',\n",
              " 'Rajasthan',\n",
              " 'jelly',\n",
              " 'kailan',\n",
              " 'Cao Lau',\n",
              " 'shimeji',\n",
              " 'purple skin',\n",
              " 'earlier',\n",
              " 'Street Grill',\n",
              " 'Pakoras',\n",
              " 'bada',\n",
              " 'malai brocolli',\n",
              " 'tandoori',\n",
              " 'parantha',\n",
              " 'varki',\n",
              " 'Alettertovegans',\n",
              " 'Na Aroon',\n",
              " 'Bangkok',\n",
              " 'ketchup',\n",
              " 'Nasi Briyani',\n",
              " 'Kizuki',\n",
              " 'Mian Dry',\n",
              " 'kung poa',\n",
              " 'buckwheat and',\n",
              " 'A’a Roots',\n",
              " 'fresh fruit,',\n",
              " 'jun',\n",
              " 'Barcelona Harbor',\n",
              " 'Shangrila',\n",
              " 'Cicheti',\n",
              " 'Masjid Sultan',\n",
              " 'creme brûlée',\n",
              " 'Shenton House',\n",
              " 'Boon Keng MRT',\n",
              " 'linguini',\n",
              " 'Vegie Bar',\n",
              " 'turkey',\n",
              " 'choc',\n",
              " 'Milan',\n",
              " 'yogurts',\n",
              " 'shroom',\n",
              " 'Shepherd',\n",
              " 'raspberries',\n",
              " 'Tartine',\n",
              " 'antipasti',\n",
              " 'luncheon',\n",
              " 'las gyozas',\n",
              " 'Cripsy',\n",
              " 'Hawaiian',\n",
              " 'Big Bowl',\n",
              " 'Sudra',\n",
              " 'Cruz Room',\n",
              " 'Koreano',\n",
              " 'dolsot',\n",
              " 'beansprouts',\n",
              " 'rainbow in a bowl',\n",
              " 'jjigae',\n",
              " 'budae jigae',\n",
              " 'Wholesome Savour',\n",
              " 'sunflower sea',\n",
              " 'Englanders',\n",
              " 'yellow',\n",
              " 'crusts',\n",
              " 'XL',\n",
              " 'southern',\n",
              " 'croissants',\n",
              " 'kadhaa',\n",
              " 'fungus',\n",
              " 'Rosso Vino',\n",
              " 'sofas',\n",
              " 'Malaysian',\n",
              " 'bhatura',\n",
              " 'chao cheeses',\n",
              " 'sundried',\n",
              " 'marionberry',\n",
              " 'citrussy',\n",
              " 'Fresh leaves',\n",
              " 'hummous',\n",
              " 'glutenfree',\n",
              " 'oat',\n",
              " 'tase',\n",
              " 'Natto',\n",
              " 'Thursday',\n",
              " 'Albóndigas',\n",
              " 'Barcelona',\n",
              " 'bad day',\n",
              " 'kappa maki',\n",
              " 'cactus',\n",
              " 'soya',\n",
              " 'school',\n",
              " 'vergetarian',\n",
              " 'Choy',\n",
              " 'balsamic drizzle',\n",
              " 'Saturday',\n",
              " 'Pearl',\n",
              " 'ridge gourd',\n",
              " 'handcut',\n",
              " 'Rajasthan',\n",
              " 'buckwheat',\n",
              " 'southern',\n",
              " 'mac &',\n",
              " '-it',\n",
              " 'Macro Bowl',\n",
              " 'Margaret River',\n",
              " 'Moore Cafe',\n",
              " 'fresh fruit',\n",
              " 'especias',\n",
              " 'lasagna',\n",
              " 'Bunker Bay',\n",
              " 'Australia',\n",
              " 'Ethiopian',\n",
              " '16 dollars',\n",
              " 'tuna',\n",
              " 'kaya',\n",
              " 'sambhar',\n",
              " 'Gujarati',\n",
              " 'buffet',\n",
              " 'muffins',\n",
              " 'Shanghai',\n",
              " 'Farm Community',\n",
              " 'Siviez',\n",
              " 'Bindella',\n",
              " 'diner',\n",
              " 'Verbier',\n",
              " 'currant',\n",
              " 'margarine spread',\n",
              " 'Lanka',\n",
              " 'Maledives',\n",
              " 'pandan',\n",
              " 'Le Shed',\n",
              " 'Tamil',\n",
              " 'Israeli',\n",
              " 'hougang',\n",
              " 'non-',\n",
              " 'pescetarian',\n",
              " 'kefir',\n",
              " 'burji',\n",
              " 'bhatura',\n",
              " 'breakasft',\n",
              " 'McDonald',\n",
              " 'Mandarin Orchard',\n",
              " 'szechuan',\n",
              " 'shisenhanten',\n",
              " 'CMCR',\n",
              " 'more dollars',\n",
              " 'Millets',\n",
              " 'mornings',\n",
              " 'dosas',\n",
              " 'Maca',\n",
              " 'Santa Barbara',\n",
              " 'maki',\n",
              " '9',\n",
              " 'natto',\n",
              " 'cutlet',\n",
              " 'Stockholm',\n",
              " 'tumeric',\n",
              " 'Nang',\n",
              " 'konnyaku',\n",
              " 'Poonie',\n",
              " 'ala carte',\n",
              " '#veganburg',\n",
              " 'Alettertovegans',\n",
              " 'Ispanan',\n",
              " 'alliums',\n",
              " 'ume',\n",
              " '@',\n",
              " 'barePack',\n",
              " '50 dollars',\n",
              " 'Ate',\n",
              " 'marwari',\n",
              " 'parantha',\n",
              " 'bamboo shoots',\n",
              " 'Hawker Centre at Circuit Road',\n",
              " 'China Bowl',\n",
              " 'Cafe Des',\n",
              " 'marmalade',\n",
              " 'Bussorah Street',\n",
              " 'Jaggi',\n",
              " 'Kway',\n",
              " 'gelatos',\n",
              " '🤷🏻\\u200d♀️ era',\n",
              " 'Cheung',\n",
              " 'Beyond',\n",
              " 'Happy Hours',\n",
              " 'liviano',\n",
              " 'beansprouts',\n",
              " '1-for-1',\n",
              " 'Kuala Lumpur',\n",
              " 'Chola',\n",
              " 'marionberry',\n",
              " 'sunflower',\n",
              " 'Natto',\n",
              " 'Europe',\n",
              " 'cornstarch',\n",
              " 'generosa',\n",
              " 'Shenton house',\n",
              " 'croissants',\n",
              " 'Gujarati',\n",
              " 'Rajasthani',\n",
              " 'Native Bowl',\n",
              " 'Fremantle',\n",
              " 'Swiss',\n",
              " 'shakshuka',\n",
              " 'Kona Joe',\n",
              " 'Ahmedabad',\n",
              " 'Shangrila',\n",
              " 'Pili',\n",
              " 'Les Chottes',\n",
              " 'Verbier',\n",
              " 'berries',\n",
              " 'buffet',\n",
              " 'Stockholm',\n",
              " 'Nadu',\n",
              " 'SUFOOD',\n",
              " 'poached',\n",
              " 'Kaedama',\n",
              " 'dosas',\n",
              " 'Kaveri',\n",
              " 'crepes',\n",
              " 'oat',\n",
              " '8️⃣',\n",
              " 'peppercorns',\n",
              " '9',\n",
              " 'deep fried & coated',\n",
              " 'Hokkien',\n",
              " 'Bangkok',\n",
              " 'creme',\n",
              " 'palak',\n",
              " 'choc',\n",
              " 'mac &',\n",
              " 'calzones',\n",
              " 'Nasi Goreng',\n",
              " 'natto',\n",
              " '10 euros',\n",
              " 'donación',\n",
              " 'Central kitchen',\n",
              " 'muffins',\n",
              " 'gujarati',\n",
              " 'Health Shack',\n",
              " 'Gujarati',\n",
              " 'khasta',\n",
              " 'Philippines',\n",
              " 'Ritchie',\n",
              " 'Swiss',\n",
              " 'Tuesdays',\n",
              " 'ala carte',\n",
              " 'rotis',\n",
              " 'serviette',\n",
              " 'sundried',\n",
              " 'sunflower',\n",
              " 'natto',\n",
              " 'Eastern',\n",
              " 'Gujarati',\n",
              " 'Thalis',\n",
              " 'red dip',\n",
              " 'hibiscus',\n",
              " 'jalepenos',\n",
              " 'left based',\n",
              " 'tulsi',\n",
              " 'beveganmakepeace',\n",
              " 'buffet',\n",
              " 'radishes',\n",
              " 'masala',\n",
              " 'Maharashtian',\n",
              " 'Ahmedabad',\n",
              " 'hash browns',\n",
              " 'great new',\n",
              " 'yuca',\n",
              " 'plantstrong',\n",
              " 'Foccocia',\n",
              " 'Thali',\n",
              " 'lian',\n",
              " 'eatright',\n",
              " '9',\n",
              " 'roselle jelly',\n",
              " 'eatclean',\n",
              " 'sundried',\n",
              " 'confit',\n",
              " 'gamechanger',\n",
              " 'buffet',\n",
              " 'sunflower',\n",
              " 'livemoreconsciously',\n",
              " 'non-',\n",
              " 'experience-',\n",
              " 'Thursday',\n",
              " 'Yu Sheng',\n",
              " 'mandarin']"
            ]
          },
          "metadata": {
            "tags": []
          },
          "execution_count": 134
        }
      ]
    },
    {
      "cell_type": "code",
      "metadata": {
        "id": "4rxJKo9a1f-g",
        "colab_type": "code",
        "colab": {}
      },
      "source": [
        "len(full_list)\n",
        "import json\n",
        "\n",
        "with open('entities_to_be_added.txt', 'w') as f:\n",
        "    f.write(json.dumps(full_list))\n"
      ],
      "execution_count": 0,
      "outputs": []
    },
    {
      "cell_type": "code",
      "metadata": {
        "id": "fqRqHnyZo2OR",
        "colab_type": "code",
        "colab": {
          "base_uri": "https://localhost:8080/",
          "height": 89
        },
        "outputId": "ad6e6da9-a33f-44ba-d409-30f1ad4ea0c8"
      },
      "source": [
        "doc2 = nlp(\"Avocado 🌿 is good but Indian cuising such as chicken tikka masala and paneer tikka masala are fantastic while sweet potato fries is atrocious in Egypt and India\")\n",
        "displacy.render(doc2,'ent',jupyter=True)\n",
        "\n",
        "print([(ent.text, ent.label_, ent.ent_id_) for ent in doc2.ents])"
      ],
      "execution_count": 104,
      "outputs": [
        {
          "output_type": "display_data",
          "data": {
            "text/html": [
              "<div class=\"entities\" style=\"line-height: 2.5; direction: ltr\">\n",
              "<mark class=\"entity\" style=\"background: #ddd; padding: 0.45em 0.6em; margin: 0 0.25em; line-height: 1; border-radius: 0.35em;\">\n",
              "    Avocado\n",
              "    <span style=\"font-size: 0.8em; font-weight: bold; line-height: 1; border-radius: 0.35em; text-transform: uppercase; vertical-align: middle; margin-left: 0.5rem\">fruit</span>\n",
              "</mark>\n",
              " 🌿 is good but \n",
              "<mark class=\"entity\" style=\"background: #c887fb; padding: 0.45em 0.6em; margin: 0 0.25em; line-height: 1; border-radius: 0.35em;\">\n",
              "    Indian\n",
              "    <span style=\"font-size: 0.8em; font-weight: bold; line-height: 1; border-radius: 0.35em; text-transform: uppercase; vertical-align: middle; margin-left: 0.5rem\">NORP</span>\n",
              "</mark>\n",
              " cuising such as \n",
              "<mark class=\"entity\" style=\"background: #ddd; padding: 0.45em 0.6em; margin: 0 0.25em; line-height: 1; border-radius: 0.35em;\">\n",
              "    chicken tikka masala\n",
              "    <span style=\"font-size: 0.8em; font-weight: bold; line-height: 1; border-radius: 0.35em; text-transform: uppercase; vertical-align: middle; margin-left: 0.5rem\">dish</span>\n",
              "</mark>\n",
              " and \n",
              "<mark class=\"entity\" style=\"background: #ddd; padding: 0.45em 0.6em; margin: 0 0.25em; line-height: 1; border-radius: 0.35em;\">\n",
              "    paneer tikka masala\n",
              "    <span style=\"font-size: 0.8em; font-weight: bold; line-height: 1; border-radius: 0.35em; text-transform: uppercase; vertical-align: middle; margin-left: 0.5rem\">dish</span>\n",
              "</mark>\n",
              " are fantastic while \n",
              "<mark class=\"entity\" style=\"background: #ddd; padding: 0.45em 0.6em; margin: 0 0.25em; line-height: 1; border-radius: 0.35em;\">\n",
              "    sweet potato fries\n",
              "    <span style=\"font-size: 0.8em; font-weight: bold; line-height: 1; border-radius: 0.35em; text-transform: uppercase; vertical-align: middle; margin-left: 0.5rem\">dish</span>\n",
              "</mark>\n",
              " is atrocious in \n",
              "<mark class=\"entity\" style=\"background: #feca74; padding: 0.45em 0.6em; margin: 0 0.25em; line-height: 1; border-radius: 0.35em;\">\n",
              "    Egypt\n",
              "    <span style=\"font-size: 0.8em; font-weight: bold; line-height: 1; border-radius: 0.35em; text-transform: uppercase; vertical-align: middle; margin-left: 0.5rem\">GPE</span>\n",
              "</mark>\n",
              " and \n",
              "<mark class=\"entity\" style=\"background: #feca74; padding: 0.45em 0.6em; margin: 0 0.25em; line-height: 1; border-radius: 0.35em;\">\n",
              "    India\n",
              "    <span style=\"font-size: 0.8em; font-weight: bold; line-height: 1; border-radius: 0.35em; text-transform: uppercase; vertical-align: middle; margin-left: 0.5rem\">GPE</span>\n",
              "</mark>\n",
              "</div>"
            ],
            "text/plain": [
              "<IPython.core.display.HTML object>"
            ]
          },
          "metadata": {
            "tags": []
          }
        },
        {
          "output_type": "stream",
          "text": [
            "[('Avocado', 'fruit', 'avocado'), ('Indian', 'NORP', 'indian'), ('chicken tikka masala', 'dish', 'chicken_tikka_masala'), ('paneer tikka masala', 'dish', 'paneer_tikka_masala'), ('sweet potato fries', 'dish', 'sweet_potato_fries'), ('Egypt', 'GPE', 'egypt'), ('India', 'GPE', 'india')]\n"
          ],
          "name": "stdout"
        }
      ]
    },
    {
      "cell_type": "code",
      "metadata": {
        "id": "V7Kuw2LQnMf-",
        "colab_type": "code",
        "colab": {}
      },
      "source": [
        "full_list."
      ],
      "execution_count": 0,
      "outputs": []
    }
  ]
}