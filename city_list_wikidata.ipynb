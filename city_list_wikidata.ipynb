{
  "nbformat": 4,
  "nbformat_minor": 0,
  "metadata": {
    "colab": {
      "name": "city_list_wikidata.ipynb",
      "provenance": [],
      "authorship_tag": "ABX9TyOeq1fkbQ7A1TOYKORvciVl",
      "include_colab_link": true
    },
    "kernelspec": {
      "name": "python3",
      "display_name": "Python 3"
    },
    "accelerator": "GPU"
  },
  "cells": [
    {
      "cell_type": "markdown",
      "metadata": {
        "id": "view-in-github",
        "colab_type": "text"
      },
      "source": [
        "<a href=\"https://colab.research.google.com/github/ravi-gopalan/DAND_Data_Wrangling/blob/master/city_list_wikidata.ipynb\" target=\"_parent\"><img src=\"https://colab.research.google.com/assets/colab-badge.svg\" alt=\"Open In Colab\"/></a>"
      ]
    },
    {
      "cell_type": "markdown",
      "metadata": {
        "id": "uj1N_uBgHCNp",
        "colab_type": "text"
      },
      "source": [
        "## Install modules"
      ]
    },
    {
      "cell_type": "code",
      "metadata": {
        "id": "Eh8Zt0FQamyN",
        "colab_type": "code",
        "colab": {
          "base_uri": "https://localhost:8080/",
          "height": 660
        },
        "outputId": "a73637c7-7426-471d-f062-e85bcbe9e511"
      },
      "source": [
        "# Install sparqlwrapper for retrieving wikidata info, wikipedia and pymediawiki to retrieve data from wikipedia\n",
        "\n",
        "!pip install sparqlwrapper\n",
        "!pip install wikipedia\n",
        "!pip install pymediawiki"
      ],
      "execution_count": 1,
      "outputs": [
        {
          "output_type": "stream",
          "text": [
            "Collecting sparqlwrapper\n",
            "  Downloading https://files.pythonhosted.org/packages/00/9b/443fbe06996c080ee9c1f01b04e2f683b2b07e149905f33a2397ee3b80a2/SPARQLWrapper-1.8.5-py3-none-any.whl\n",
            "Collecting rdflib>=4.0\n",
            "\u001b[?25l  Downloading https://files.pythonhosted.org/packages/3c/fe/630bacb652680f6d481b9febbb3e2c3869194a1a5fc3401a4a41195a2f8f/rdflib-4.2.2-py3-none-any.whl (344kB)\n",
            "\u001b[K     |████████████████████████████████| 348kB 8.0MB/s \n",
            "\u001b[?25hRequirement already satisfied: pyparsing in /usr/local/lib/python3.6/dist-packages (from rdflib>=4.0->sparqlwrapper) (2.4.6)\n",
            "Collecting isodate\n",
            "\u001b[?25l  Downloading https://files.pythonhosted.org/packages/9b/9f/b36f7774ff5ea8e428fdcfc4bb332c39ee5b9362ddd3d40d9516a55221b2/isodate-0.6.0-py2.py3-none-any.whl (45kB)\n",
            "\u001b[K     |████████████████████████████████| 51kB 8.0MB/s \n",
            "\u001b[?25hRequirement already satisfied: six in /usr/local/lib/python3.6/dist-packages (from isodate->rdflib>=4.0->sparqlwrapper) (1.12.0)\n",
            "Installing collected packages: isodate, rdflib, sparqlwrapper\n",
            "Successfully installed isodate-0.6.0 rdflib-4.2.2 sparqlwrapper-1.8.5\n",
            "Collecting wikipedia\n",
            "  Downloading https://files.pythonhosted.org/packages/67/35/25e68fbc99e672127cc6fbb14b8ec1ba3dfef035bf1e4c90f78f24a80b7d/wikipedia-1.4.0.tar.gz\n",
            "Requirement already satisfied: beautifulsoup4 in /usr/local/lib/python3.6/dist-packages (from wikipedia) (4.6.3)\n",
            "Requirement already satisfied: requests<3.0.0,>=2.0.0 in /usr/local/lib/python3.6/dist-packages (from wikipedia) (2.21.0)\n",
            "Requirement already satisfied: idna<2.9,>=2.5 in /usr/local/lib/python3.6/dist-packages (from requests<3.0.0,>=2.0.0->wikipedia) (2.8)\n",
            "Requirement already satisfied: chardet<3.1.0,>=3.0.2 in /usr/local/lib/python3.6/dist-packages (from requests<3.0.0,>=2.0.0->wikipedia) (3.0.4)\n",
            "Requirement already satisfied: certifi>=2017.4.17 in /usr/local/lib/python3.6/dist-packages (from requests<3.0.0,>=2.0.0->wikipedia) (2019.11.28)\n",
            "Requirement already satisfied: urllib3<1.25,>=1.21.1 in /usr/local/lib/python3.6/dist-packages (from requests<3.0.0,>=2.0.0->wikipedia) (1.24.3)\n",
            "Building wheels for collected packages: wikipedia\n",
            "  Building wheel for wikipedia (setup.py) ... \u001b[?25l\u001b[?25hdone\n",
            "  Created wheel for wikipedia: filename=wikipedia-1.4.0-cp36-none-any.whl size=11686 sha256=0e15f6aa438b4b0f26b111a8a8081fb1ac2db7ba07e686ca731b33b2d6d0d252\n",
            "  Stored in directory: /root/.cache/pip/wheels/87/2a/18/4e471fd96d12114d16fe4a446d00c3b38fb9efcb744bd31f4a\n",
            "Successfully built wikipedia\n",
            "Installing collected packages: wikipedia\n",
            "Successfully installed wikipedia-1.4.0\n",
            "Collecting pymediawiki\n",
            "  Downloading https://files.pythonhosted.org/packages/8e/70/49616e2cee4a57fcb72d6174b73e578961822905c72f80b66425763415b3/pymediawiki-0.6.2-py2.py3-none-any.whl\n",
            "Requirement already satisfied: beautifulsoup4 in /usr/local/lib/python3.6/dist-packages (from pymediawiki) (4.6.3)\n",
            "Requirement already satisfied: requests<3.0.0,>=2.0.0 in /usr/local/lib/python3.6/dist-packages (from pymediawiki) (2.21.0)\n",
            "Requirement already satisfied: chardet<3.1.0,>=3.0.2 in /usr/local/lib/python3.6/dist-packages (from requests<3.0.0,>=2.0.0->pymediawiki) (3.0.4)\n",
            "Requirement already satisfied: idna<2.9,>=2.5 in /usr/local/lib/python3.6/dist-packages (from requests<3.0.0,>=2.0.0->pymediawiki) (2.8)\n",
            "Requirement already satisfied: urllib3<1.25,>=1.21.1 in /usr/local/lib/python3.6/dist-packages (from requests<3.0.0,>=2.0.0->pymediawiki) (1.24.3)\n",
            "Requirement already satisfied: certifi>=2017.4.17 in /usr/local/lib/python3.6/dist-packages (from requests<3.0.0,>=2.0.0->pymediawiki) (2019.11.28)\n",
            "Installing collected packages: pymediawiki\n",
            "Successfully installed pymediawiki-0.6.2\n"
          ],
          "name": "stdout"
        }
      ]
    },
    {
      "cell_type": "markdown",
      "metadata": {
        "id": "QJpVfM9YG-iC",
        "colab_type": "text"
      },
      "source": [
        "## Import Libraries"
      ]
    },
    {
      "cell_type": "code",
      "metadata": {
        "id": "qpnlduPBbMp9",
        "colab_type": "code",
        "colab": {}
      },
      "source": [
        "# Import pandas, numpy, SPARQLWrapper, re, json, collections, time, itertools, requests, json_normalize, spacy, wikipedia, mediawiki and interactiveshell\n",
        "\n",
        "import pandas as pd\n",
        "import numpy as np\n",
        "import json\n",
        "from SPARQLWrapper import SPARQLWrapper, JSON\n",
        "import re\n",
        "from collections import Counter\n",
        "import time\n",
        "import itertools\n",
        "\n",
        "import requests\n",
        "from pandas.io.json import json_normalize\n",
        "\n",
        "import spacy\n",
        "\n",
        "import wikipedia\n",
        "from mediawiki import MediaWiki\n",
        "\n",
        "from IPython.core.interactiveshell import InteractiveShell\n",
        "InteractiveShell.ast_node_interactivity = \"all\""
      ],
      "execution_count": 0,
      "outputs": []
    },
    {
      "cell_type": "markdown",
      "metadata": {
        "id": "6ETy20ICG6hf",
        "colab_type": "text"
      },
      "source": [
        "## Load helper functions"
      ]
    },
    {
      "cell_type": "code",
      "metadata": {
        "id": "7CwdeDdrdd3U",
        "colab_type": "code",
        "colab": {}
      },
      "source": [
        "# get results from wikidata\n",
        "def get_results(endpoint_url, query):\n",
        "    sparql = SPARQLWrapper(endpoint_url)\n",
        "    sparql.setQuery(query)\n",
        "    sparql.setReturnFormat(JSON)\n",
        "    result = sparql.query()\n",
        "\n",
        "    processed_results = json.load(result.response)\n",
        "    cols = processed_results['head']['vars']\n",
        "\n",
        "    out = []\n",
        "    for row in processed_results['results']['bindings']:\n",
        "      item = []\n",
        "      for c in cols:\n",
        "        item.append(row.get(c, {}).get('value'))\n",
        "      out.append(item)\n",
        "    return pd.DataFrame(out, columns = cols)\n",
        "\n",
        "\n",
        "def dump_jsonl(data, output_path, append=False):\n",
        "    \"\"\"\n",
        "    Write list of objects to a JSON lines file.\n",
        "    \"\"\"\n",
        "    mode = 'a+' if append else 'w'\n",
        "    with open(output_path, mode, encoding='utf-8') as f:\n",
        "        for line in data:\n",
        "            json_record = json.dumps(line, ensure_ascii=False)\n",
        "            f.write(json_record + '\\n')\n",
        "#    print('Wrote {} records to {}'.format(len(data), output_path))\n",
        "\n",
        "\n",
        "\n",
        "def load_jsonl(input_path) -> list:\n",
        "    \"\"\"\n",
        "    Read list of objects from a JSON lines file.\n",
        "    \"\"\"\n",
        "    data = []\n",
        "    with open(input_path, 'r', encoding='utf-8') as f:\n",
        "        for line in f:\n",
        "            data.append(json.loads(line.rstrip('\\n|\\r')))\n",
        "    print('Loaded {} records from {}'.format(len(data), input_path))\n",
        "    return data\n",
        "\n",
        "def get_wikidata_id(col):\n",
        "  rx = re.compile(r'(http\\:\\/\\/www\\.wikidata\\.org\\/entity\\/)(Q[0-9]+)')\n",
        "  m = rx.match(col)\n",
        "  if m is not None:\n",
        "    return m.group(2)\n",
        "\n",
        "def get_wikidata_description(row):\n",
        "  base_string = 'https://www.wikidata.org/w/api.php?action=wbgetentities&sites=enwiki&languages=en&format=json&props=descriptions&ids='\n",
        "  query_string = base_string + row\n",
        "#  print(query_string)\n",
        "  r = requests.get(query_string)\n",
        "  return json.loads(r.content.decode('utf-8'))['entities'][row]\n",
        "\n",
        "def get_wikidata_label(row):\n",
        "  base_string = 'https://www.wikidata.org/w/api.php?action=wbgetentities&sites=enwiki&languages=en&format=json&props=labels&ids='\n",
        "  query_string = base_string + row\n",
        "#  print(query_string)\n",
        "  r = requests.get(query_string)\n",
        "  return json.loads(r.content.decode('utf-8'))['entities'][row]\n",
        "\n",
        "def check_Qcodes(x):\n",
        "  step1 = re.sub(\"Q[0-9]+\",\"UNKNOWN\",x)\n",
        "  return step1\n",
        "\n",
        "def query_and_process_results(url, query_parameter):\n",
        "  query = query_parameter\n",
        "#  print(query)\n",
        "\n",
        "  df_initial = get_results(url, query)\n",
        "  print(df_initial.shape)\n",
        "  print(df_initial.head())\n",
        "\n",
        "  df_initial['city_check'] = df_initial['instance_ofLabel'].apply(lambda x: check_Qcodes(x))\n",
        "\n",
        "  df = df_initial.query('city_check != \"UNKNOWN\"').reset_index(drop=True)\n",
        "  print(df.shape)\n",
        "  print(df.head())  \n",
        "\n",
        "  res_list =  sorted([re.sub(\"q[0-9]+\",\"\",item.lower()) for item in df.groupby(['instance_ofLabel'])['instance_of'].agg('count').index.values.tolist()])\n",
        "  res_list = sorted([re.sub(\"\\-\", \" \",item) for item in res_list])\n",
        "  res_list = [item for item in res_list if not re.findall(\"[0-9]+\",item)]\n",
        "  res_counter = Counter(res_list)\n",
        "  res_list = []\n",
        "  for key in res_counter.keys():\n",
        "    if len(key) != 0:\n",
        "      res_list.append(key)\n",
        "\n",
        "  print(len(res_list), res_list)\n",
        "\n",
        "  return df, res_list, res_counter\n",
        "\n",
        "\n",
        "\n",
        "def clean_pat(x):\n",
        "  step1 = re.sub(\"None\\,\",\"\",x)\n",
        "  step2 = re.sub(\"None\",\"\",step1)\n",
        "  step2 = '{\"label\": \"GPE_city\", \"pattern\": ' + '['+ step2.strip()[:-1] + ']'\n",
        "  return step2\n",
        "\n",
        "\n",
        "def clean_id(x):\n",
        "  step1 = re.sub(\"None\",\"\",x)\n",
        "  step2 = ', \"id\": \"' + re.sub(\"(\\_)([\\'\\_a-zA-Z\\u0080-\\uFFFF]+)\",r\"\\2\",step1) + '\"}'\n",
        "  return step2\n",
        "\n",
        "def get_city_summary(x,n):\n",
        "  try:\n",
        "    out = wiki.summary(title=x,sentences=n)\n",
        "  except:\n",
        "    out = 'error'\n",
        "  return out"
      ],
      "execution_count": 0,
      "outputs": []
    },
    {
      "cell_type": "code",
      "metadata": {
        "id": "62T9M8TUhs1P",
        "colab_type": "code",
        "colab": {}
      },
      "source": [
        "url = \"https://query.wikidata.org/sparql\"\n",
        "\n",
        "query = '''\n",
        "SELECT ?instance_of ?instance_ofLabel ?country ?countryLabel ?located_in_the_administrative_territorial_entity ?located_in_the_administrative_territorial_entityLabel WHERE \n",
        "{\n",
        "  SERVICE wikibase:label { bd:serviceParam wikibase:language \"[AUTO_LANGUAGE],en\". }\n",
        "  ?instance_of wdt:P31 wd:Q1637706.\n",
        "  OPTIONAL { ?instance_of wdt:P17 ?country. }\n",
        "  OPTIONAL { ?instance_of wdt:P131 ?located_in_the_administrative_territorial_entity. }\n",
        "}\n",
        "'''"
      ],
      "execution_count": 0,
      "outputs": []
    },
    {
      "cell_type": "code",
      "metadata": {
        "id": "ibgCP4o-jryb",
        "colab_type": "code",
        "colab": {
          "base_uri": "https://localhost:8080/",
          "height": 367
        },
        "outputId": "0279eb19-e214-43d1-cb6b-b493c3fb07de"
      },
      "source": [
        "df, r_list, r_counter = query_and_process_results(url, query)"
      ],
      "execution_count": 62,
      "outputs": [
        {
          "output_type": "stream",
          "text": [
            "(673, 6)\n",
            "                          instance_of  ... located_in_the_administrative_territorial_entityLabel\n",
            "0  http://www.wikidata.org/entity/Q60  ...                                           New York   \n",
            "1  http://www.wikidata.org/entity/Q64  ...                                            Germany   \n",
            "2  http://www.wikidata.org/entity/Q65  ...                                 Los Angeles County   \n",
            "3  http://www.wikidata.org/entity/Q84  ...                                     Greater London   \n",
            "4  http://www.wikidata.org/entity/Q87  ...                             Alexandria Governorate   \n",
            "\n",
            "[5 rows x 6 columns]\n",
            "(673, 7)\n",
            "                          instance_of  ...     city_check\n",
            "0  http://www.wikidata.org/entity/Q60  ...  New York City\n",
            "1  http://www.wikidata.org/entity/Q64  ...         Berlin\n",
            "2  http://www.wikidata.org/entity/Q65  ...    Los Angeles\n",
            "3  http://www.wikidata.org/entity/Q84  ...         London\n",
            "4  http://www.wikidata.org/entity/Q87  ...     Alexandria\n",
            "\n",
            "[5 rows x 7 columns]\n",
            "604 ['abidjan', 'accra', 'adana', 'addis ababa', 'agra', 'ahmedabad', 'ahvaz', 'al ahsa governorate', 'albuquerque', 'aleppo', 'alexandria', 'aligarh', 'allahabad', 'almaty', 'amman', 'amritsar', 'ankara', 'anqing', 'anshan', 'anshun', 'antalya', 'antananarivo', 'arequipa', 'ashgabat', 'aurangabad', 'baghdad', 'baise', 'baiyin', 'baku', 'bamako', 'bandarlampung', 'bangalore', 'bangkok', 'baoding', 'baoji', 'baoshan', 'baotou', 'barcelona', 'barquisimeto', 'barranquilla', 'basra', 'batam', 'bayannur', 'bazhong', 'beihai', 'beijing', 'bekasi', 'belgrade', 'belo horizonte', 'belém', 'bengbu', 'benxi', 'berlin', 'bhiwandi', 'bhopal', 'bijie', 'binhai new area', 'binzhou', 'birmingham', 'biên hòa', 'blantyre', 'bogor', 'bogotá', 'bozhou', 'brasília', 'brazzaville', 'bucharest', 'budapest', 'buenos aires', 'bursa', 'busan', 'calgary', 'cali', 'campinas', 'cangzhou', 'caracas', 'cartagena', 'chandigarh', 'changchun', 'changde', 'changsha', 'changshu', 'changzhi', 'changzhou', 'chaoyang', 'chaozhou', 'chelyabinsk', 'chengde', 'chennai', 'chenzhou', 'chifeng', 'chittagong', 'chizhou', 'chongqing', 'chongzuo', 'chuzhou', 'ciudad juárez', 'ciudad nezahualcóyotl', 'cologne', 'comayaguela', 'conakry', 'curitiba', 'córdoba', 'cần thơ', 'da nang', 'daegu', 'daejeon', 'dakar', 'dalian', 'dallas', 'damascus', 'dandong', 'daqing', 'dar es salaam', 'datong', 'davao city', 'dazhou', 'delhi', 'dengzhou', 'depok', 'deyang', 'dezhou', 'dhaka', 'dingxi', 'dingzhou', 'diyarbakır', 'doha', 'dongguan', 'dongying', 'douala', 'dubai', 'east berlin', 'ezhou', 'faisalabad', 'faridabad', 'fez', 'fortaleza', 'foshan', 'fukuoka', 'fushun', 'fuxin', 'fuyang', 'fuzhou', 'ganzhou', 'gaozhou', 'gaziantep', 'ghaziabad', 'goiânia', 'gongzhuling', 'goyang', 'greater tehran', 'guadalajara', \"guang'an\", 'guangyuan', 'guangzhou', 'guarulhos', 'guatemala city', 'guayaquil', 'guigang', 'guilin', 'guiyang', 'gujranwala', 'guyuan', 'gwalior', 'gwangju', 'haicheng', 'haidong', 'haikou', 'haiphong', 'hanchuan city', 'handan', 'hangzhou', 'hanoi', 'hanzhong', 'harare', 'hargeisa', 'havana', 'hebi', 'hechi', 'hefei', 'hegang', 'heihe', 'hengshui', 'hengyang', 'heyuan', 'heze', 'hezhou', 'hiroshima', 'hohhot', 'houston', 'howrah', \"huai'an\", 'huaibei', 'huaihua', 'huainan', 'huanggang', 'huangshan city', 'huangshi', 'huazhou shi', 'huizhou', 'huludao', 'hulunbuir', 'huzhou', 'hyderabad', 'incheon', 'indore', 'irbid', 'isfahan', 'islamabad', 'istanbul', 'i̇zmir', 'jabalpur', 'jaipur', 'jakarta', 'jamshedpur', 'jeddah', \"ji'an\", 'jiamusi', 'jiangmen', 'jiangyin', 'jianyang, sichuan', 'jiaozuo', 'jiaxing', 'jieyang', 'jilin city', 'jinan', 'jincheng', 'jingdezhen', 'jingmen city', 'jingzhou', 'jinhua', 'jining', 'jinjiang', 'jinzhong', 'jinzhou', 'jiujiang', 'jixi', 'jodhpur', 'johannesburg', 'juárez municipality', 'kabul', 'kaifeng', 'kampala', 'kananga', 'kano', 'kanpur', 'kaohsiung', 'karachi', 'karaj', 'kawasaki', 'kayseri', 'kharkiv', 'khartoum', 'khulna', 'kiev', 'kigali', 'kinshasa', 'kolkata', 'konya', 'kota', 'kuala lumpur', 'kumasi', 'kunming', 'kunshan', 'kyoto', 'kōbe', 'lagos', 'lahore', 'laibin', 'laiwu', 'langfang', 'lanzhou', 'leizhou', 'leshan', 'león', 'lianjiang', 'lianyuan', 'lianyungang', 'liaocheng', 'liaoyang', 'lijiang', 'liling', 'lincang', 'linfen', 'linyi', 'lishui', 'liupanshui', 'liuzhou', 'london', 'longnan', 'longyan', 'los angeles', 'loudi', \"lu'an\", 'luanda', 'lubumbashi', 'lucknow', 'lufeng', 'luohe', 'luoyang', 'lusaka', 'luzhou', 'lüliang', \"ma'anshan\", 'maceió', 'madrid', 'madurai', 'managua', 'mandalay', 'manila', 'maoming', 'maputo', 'maracaibo', 'mashhad', 'matola', 'medan', 'medellín', 'medina', 'meerut', 'meishan', 'meizhou', 'mersin', 'mexico city', 'mianyang', 'minsk', 'mirzapur', 'mogadishu', 'mombasa', 'monrovia', 'monterrey', 'montreal', 'mosul', 'mudanjiang', 'multan', 'munich', \"n'djamena\", 'nagoya', 'nagpur', 'nairobi', 'nanchang', 'nanchong', 'nanjing', 'nanning', 'nanping', 'nantong', 'nanyang', 'nashik', 'navi mumbai', 'naypyidaw', 'neijiang', 'new york city', 'niamey', 'ningbo', 'ningde', 'ningxiang city', 'nizhny novgorod', 'nouakchott', 'novosibirsk', 'nur sultan', 'odessa', 'ogbomosho', 'omdurman', 'omsk', 'onitsha', 'ordos city', 'ouagadougou', 'palembang', 'panjin', 'panzhihua', 'panzhou city', 'paris', 'patna', 'perm', 'perth', 'peshawar', 'philadelphia', 'phnom penh', 'phoenix', 'pimpri chinchwad', 'pingdingshan', 'pingdu', 'pingliang', 'pingxiang', 'pizhou', 'port harcourt', 'porto alegre', 'prague', \"pu'er city\", 'pudong', 'puebla city', 'pune', 'puning', 'putian', 'puyang', 'pyongyang', 'qingdao', 'qingyang', 'qingyuan', 'qinhuangdao', 'qinzhou', 'qiqihar', 'qom', 'quanzhou', 'quetta', 'quito', 'qujing', 'quzhou', 'rabat', 'raipur', 'rajkot', 'ranchi', 'rawalpindi', 'recife', 'rio de janeiro', 'riyadh', 'rizhao', 'rome', 'rosario', 'rostov on don', 'rugao', 'saint petersburg', 'saitama', 'salvador', 'samsun', 'san antonio', 'san diego', 'san jose', 'san pedro sula', \"sana'a\", 'sanmenxia', 'sanming', 'santa cruz de la sierra', 'santiago', 'santiago de los caballeros', 'santo domingo', 'sapporo', 'semarang', 'sendai', 'seoul', 'shanghai', 'shangluo', 'shangqiu', 'shangrao', 'shantou', 'shanwei', 'shaoguan', 'shaoxing', 'shaoyang', 'sharjah', 'shenyang', 'shenzhen', 'shijiazhuang', 'shiraz', 'shiyan', 'shouguang', 'shuangyashan', 'shubra el kheima', 'shuozhou', 'shymkent', 'singapore', 'siping', 'sofia', 'south tangerang', 'srinagar', 'stockholm urban area', 'suihua', 'suining', 'suizhou', 'suqian', 'surabaya', 'surat', 'suwon', 'suzhou', 'são luís', 'são paulo', 'tabriz', \"tai'an\", 'taichung', 'tainan', 'taipei', 'taixing', 'taiyuan', 'taizhou', 'tangerang', 'tangshan', 'taoyuan city', 'tashkent', 'tbilisi', 'tegucigalpa', 'tehran', 'tekirdağ', 'tengzhou', 'thane', 'tianjin', 'tianshui', 'tieling', 'tijuana', 'tokyo', 'tongliao', 'tongren', 'toronto', 'tripoli', 'tunis', 'ufa', 'ulaanbaatar', 'ulanqab', 'ulsan', 'vadodara', 'valencia', 'varanasi', 'vasai virar', 'vienna', 'vijayawada', 'visakhapatnam', 'volgograd', 'voronezh', 'wafangdian', 'warsaw', 'weifang', 'weihai', 'weinan', 'wenzhou', 'west berlin', 'wuhan', 'wuhu', 'wuwei', 'wuxi', 'wuzhong', 'wuzhou', \"xi'an\", 'xiamen', 'xiangcheng city', 'xiangtan', 'xiangyang', 'xianning', 'xianyang', 'xiaogan', 'xinghua', 'xining', 'xintai', 'xinxiang', 'xinyang', 'xinyu', 'xinzhou', 'xuancheng', 'xuanwei', 'xuchang', 'xuzhou', \"ya'an\", \"yan'an\", 'yancheng', 'yangjiang', 'yangon', 'yangquan', 'yangzhou', 'yantai', 'yaoundé', 'yerevan', 'yibin', 'yichang', 'yichun', 'yinchuan', 'yingkou', 'yingtan', 'yixing', 'yiyang', 'yokohama', 'yongcheng', 'yongzhou', 'yueyang', 'yulin', 'yunfu', 'yushu', 'yuxi', 'yuzhou', 'zaoyang city', 'zaozhuang', 'zapopan', 'zhangjiagang', 'zhangjiajie', 'zhangjiakou', 'zhangye', 'zhangzhou', 'zhanjiang', 'zhaoqing', 'zhaotong', 'zhengzhou', 'zhenjiang', 'zhongshan', 'zhongwei', 'zhongxiang city', 'zhoukou', 'zhucheng', 'zhuhai', 'zhumadian', 'zhuzhou', 'zibo', 'zigong', 'ziyang', 'zoucheng', 'zunyi', 'ürümqi', 'ōsaka', 'şanlıurfa']\n"
          ],
          "name": "stdout"
        }
      ]
    },
    {
      "cell_type": "code",
      "metadata": {
        "id": "9da8ctW7mO6a",
        "colab_type": "code",
        "colab": {
          "base_uri": "https://localhost:8080/",
          "height": 197
        },
        "outputId": "9e0a8e4f-a541-4870-b19a-9fbaa5a5f2c7"
      },
      "source": [
        "df.head()"
      ],
      "execution_count": 63,
      "outputs": [
        {
          "output_type": "execute_result",
          "data": {
            "text/html": [
              "<div>\n",
              "<style scoped>\n",
              "    .dataframe tbody tr th:only-of-type {\n",
              "        vertical-align: middle;\n",
              "    }\n",
              "\n",
              "    .dataframe tbody tr th {\n",
              "        vertical-align: top;\n",
              "    }\n",
              "\n",
              "    .dataframe thead th {\n",
              "        text-align: right;\n",
              "    }\n",
              "</style>\n",
              "<table border=\"1\" class=\"dataframe\">\n",
              "  <thead>\n",
              "    <tr style=\"text-align: right;\">\n",
              "      <th></th>\n",
              "      <th>instance_of</th>\n",
              "      <th>instance_ofLabel</th>\n",
              "      <th>country</th>\n",
              "      <th>countryLabel</th>\n",
              "      <th>located_in_the_administrative_territorial_entity</th>\n",
              "      <th>located_in_the_administrative_territorial_entityLabel</th>\n",
              "      <th>city_check</th>\n",
              "    </tr>\n",
              "  </thead>\n",
              "  <tbody>\n",
              "    <tr>\n",
              "      <th>0</th>\n",
              "      <td>http://www.wikidata.org/entity/Q60</td>\n",
              "      <td>New York City</td>\n",
              "      <td>http://www.wikidata.org/entity/Q30</td>\n",
              "      <td>United States of America</td>\n",
              "      <td>http://www.wikidata.org/entity/Q1384</td>\n",
              "      <td>New York</td>\n",
              "      <td>New York City</td>\n",
              "    </tr>\n",
              "    <tr>\n",
              "      <th>1</th>\n",
              "      <td>http://www.wikidata.org/entity/Q64</td>\n",
              "      <td>Berlin</td>\n",
              "      <td>http://www.wikidata.org/entity/Q183</td>\n",
              "      <td>Germany</td>\n",
              "      <td>http://www.wikidata.org/entity/Q183</td>\n",
              "      <td>Germany</td>\n",
              "      <td>Berlin</td>\n",
              "    </tr>\n",
              "    <tr>\n",
              "      <th>2</th>\n",
              "      <td>http://www.wikidata.org/entity/Q65</td>\n",
              "      <td>Los Angeles</td>\n",
              "      <td>http://www.wikidata.org/entity/Q30</td>\n",
              "      <td>United States of America</td>\n",
              "      <td>http://www.wikidata.org/entity/Q104994</td>\n",
              "      <td>Los Angeles County</td>\n",
              "      <td>Los Angeles</td>\n",
              "    </tr>\n",
              "    <tr>\n",
              "      <th>3</th>\n",
              "      <td>http://www.wikidata.org/entity/Q84</td>\n",
              "      <td>London</td>\n",
              "      <td>http://www.wikidata.org/entity/Q145</td>\n",
              "      <td>United Kingdom</td>\n",
              "      <td>http://www.wikidata.org/entity/Q23306</td>\n",
              "      <td>Greater London</td>\n",
              "      <td>London</td>\n",
              "    </tr>\n",
              "    <tr>\n",
              "      <th>4</th>\n",
              "      <td>http://www.wikidata.org/entity/Q87</td>\n",
              "      <td>Alexandria</td>\n",
              "      <td>http://www.wikidata.org/entity/Q79</td>\n",
              "      <td>Egypt</td>\n",
              "      <td>http://www.wikidata.org/entity/Q29943</td>\n",
              "      <td>Alexandria Governorate</td>\n",
              "      <td>Alexandria</td>\n",
              "    </tr>\n",
              "  </tbody>\n",
              "</table>\n",
              "</div>"
            ],
            "text/plain": [
              "                          instance_of  ...     city_check\n",
              "0  http://www.wikidata.org/entity/Q60  ...  New York City\n",
              "1  http://www.wikidata.org/entity/Q64  ...         Berlin\n",
              "2  http://www.wikidata.org/entity/Q65  ...    Los Angeles\n",
              "3  http://www.wikidata.org/entity/Q84  ...         London\n",
              "4  http://www.wikidata.org/entity/Q87  ...     Alexandria\n",
              "\n",
              "[5 rows x 7 columns]"
            ]
          },
          "metadata": {
            "tags": []
          },
          "execution_count": 63
        }
      ]
    },
    {
      "cell_type": "code",
      "metadata": {
        "id": "7h8K8WOVllY8",
        "colab_type": "code",
        "colab": {
          "base_uri": "https://localhost:8080/",
          "height": 197
        },
        "outputId": "9339e3c1-0362-4a13-aabe-ee728719a0d7"
      },
      "source": [
        "df.columns = ['city_entity','city','country_entity','country','admin_entity','admin','city_check']\n",
        "df.head()"
      ],
      "execution_count": 64,
      "outputs": [
        {
          "output_type": "execute_result",
          "data": {
            "text/html": [
              "<div>\n",
              "<style scoped>\n",
              "    .dataframe tbody tr th:only-of-type {\n",
              "        vertical-align: middle;\n",
              "    }\n",
              "\n",
              "    .dataframe tbody tr th {\n",
              "        vertical-align: top;\n",
              "    }\n",
              "\n",
              "    .dataframe thead th {\n",
              "        text-align: right;\n",
              "    }\n",
              "</style>\n",
              "<table border=\"1\" class=\"dataframe\">\n",
              "  <thead>\n",
              "    <tr style=\"text-align: right;\">\n",
              "      <th></th>\n",
              "      <th>city_entity</th>\n",
              "      <th>city</th>\n",
              "      <th>country_entity</th>\n",
              "      <th>country</th>\n",
              "      <th>admin_entity</th>\n",
              "      <th>admin</th>\n",
              "      <th>city_check</th>\n",
              "    </tr>\n",
              "  </thead>\n",
              "  <tbody>\n",
              "    <tr>\n",
              "      <th>0</th>\n",
              "      <td>http://www.wikidata.org/entity/Q60</td>\n",
              "      <td>New York City</td>\n",
              "      <td>http://www.wikidata.org/entity/Q30</td>\n",
              "      <td>United States of America</td>\n",
              "      <td>http://www.wikidata.org/entity/Q1384</td>\n",
              "      <td>New York</td>\n",
              "      <td>New York City</td>\n",
              "    </tr>\n",
              "    <tr>\n",
              "      <th>1</th>\n",
              "      <td>http://www.wikidata.org/entity/Q64</td>\n",
              "      <td>Berlin</td>\n",
              "      <td>http://www.wikidata.org/entity/Q183</td>\n",
              "      <td>Germany</td>\n",
              "      <td>http://www.wikidata.org/entity/Q183</td>\n",
              "      <td>Germany</td>\n",
              "      <td>Berlin</td>\n",
              "    </tr>\n",
              "    <tr>\n",
              "      <th>2</th>\n",
              "      <td>http://www.wikidata.org/entity/Q65</td>\n",
              "      <td>Los Angeles</td>\n",
              "      <td>http://www.wikidata.org/entity/Q30</td>\n",
              "      <td>United States of America</td>\n",
              "      <td>http://www.wikidata.org/entity/Q104994</td>\n",
              "      <td>Los Angeles County</td>\n",
              "      <td>Los Angeles</td>\n",
              "    </tr>\n",
              "    <tr>\n",
              "      <th>3</th>\n",
              "      <td>http://www.wikidata.org/entity/Q84</td>\n",
              "      <td>London</td>\n",
              "      <td>http://www.wikidata.org/entity/Q145</td>\n",
              "      <td>United Kingdom</td>\n",
              "      <td>http://www.wikidata.org/entity/Q23306</td>\n",
              "      <td>Greater London</td>\n",
              "      <td>London</td>\n",
              "    </tr>\n",
              "    <tr>\n",
              "      <th>4</th>\n",
              "      <td>http://www.wikidata.org/entity/Q87</td>\n",
              "      <td>Alexandria</td>\n",
              "      <td>http://www.wikidata.org/entity/Q79</td>\n",
              "      <td>Egypt</td>\n",
              "      <td>http://www.wikidata.org/entity/Q29943</td>\n",
              "      <td>Alexandria Governorate</td>\n",
              "      <td>Alexandria</td>\n",
              "    </tr>\n",
              "  </tbody>\n",
              "</table>\n",
              "</div>"
            ],
            "text/plain": [
              "                          city_entity  ...     city_check\n",
              "0  http://www.wikidata.org/entity/Q60  ...  New York City\n",
              "1  http://www.wikidata.org/entity/Q64  ...         Berlin\n",
              "2  http://www.wikidata.org/entity/Q65  ...    Los Angeles\n",
              "3  http://www.wikidata.org/entity/Q84  ...         London\n",
              "4  http://www.wikidata.org/entity/Q87  ...     Alexandria\n",
              "\n",
              "[5 rows x 7 columns]"
            ]
          },
          "metadata": {
            "tags": []
          },
          "execution_count": 64
        }
      ]
    },
    {
      "cell_type": "code",
      "metadata": {
        "id": "ZGcDhq3EHlo9",
        "colab_type": "code",
        "colab": {}
      },
      "source": [
        "df.to_csv('city_details.csv')"
      ],
      "execution_count": 0,
      "outputs": []
    },
    {
      "cell_type": "code",
      "metadata": {
        "id": "9eqKc2fCDszE",
        "colab_type": "code",
        "colab": {}
      },
      "source": [
        "df['city'] = df['city'].apply(lambda x: x.lower())"
      ],
      "execution_count": 0,
      "outputs": []
    },
    {
      "cell_type": "code",
      "metadata": {
        "id": "SYHQbPW9OPkg",
        "colab_type": "code",
        "colab": {
          "base_uri": "https://localhost:8080/",
          "height": 197
        },
        "outputId": "e5e9b901-8d28-4e07-bcb8-ca700cb18808"
      },
      "source": [
        "df['admin'] = df['admin'].map(lambda x: x if type(x) != str else x.lower())\n",
        "df.head()"
      ],
      "execution_count": 67,
      "outputs": [
        {
          "output_type": "execute_result",
          "data": {
            "text/html": [
              "<div>\n",
              "<style scoped>\n",
              "    .dataframe tbody tr th:only-of-type {\n",
              "        vertical-align: middle;\n",
              "    }\n",
              "\n",
              "    .dataframe tbody tr th {\n",
              "        vertical-align: top;\n",
              "    }\n",
              "\n",
              "    .dataframe thead th {\n",
              "        text-align: right;\n",
              "    }\n",
              "</style>\n",
              "<table border=\"1\" class=\"dataframe\">\n",
              "  <thead>\n",
              "    <tr style=\"text-align: right;\">\n",
              "      <th></th>\n",
              "      <th>city_entity</th>\n",
              "      <th>city</th>\n",
              "      <th>country_entity</th>\n",
              "      <th>country</th>\n",
              "      <th>admin_entity</th>\n",
              "      <th>admin</th>\n",
              "      <th>city_check</th>\n",
              "    </tr>\n",
              "  </thead>\n",
              "  <tbody>\n",
              "    <tr>\n",
              "      <th>0</th>\n",
              "      <td>http://www.wikidata.org/entity/Q60</td>\n",
              "      <td>new york city</td>\n",
              "      <td>http://www.wikidata.org/entity/Q30</td>\n",
              "      <td>United States of America</td>\n",
              "      <td>http://www.wikidata.org/entity/Q1384</td>\n",
              "      <td>new york</td>\n",
              "      <td>New York City</td>\n",
              "    </tr>\n",
              "    <tr>\n",
              "      <th>1</th>\n",
              "      <td>http://www.wikidata.org/entity/Q64</td>\n",
              "      <td>berlin</td>\n",
              "      <td>http://www.wikidata.org/entity/Q183</td>\n",
              "      <td>Germany</td>\n",
              "      <td>http://www.wikidata.org/entity/Q183</td>\n",
              "      <td>germany</td>\n",
              "      <td>Berlin</td>\n",
              "    </tr>\n",
              "    <tr>\n",
              "      <th>2</th>\n",
              "      <td>http://www.wikidata.org/entity/Q65</td>\n",
              "      <td>los angeles</td>\n",
              "      <td>http://www.wikidata.org/entity/Q30</td>\n",
              "      <td>United States of America</td>\n",
              "      <td>http://www.wikidata.org/entity/Q104994</td>\n",
              "      <td>los angeles county</td>\n",
              "      <td>Los Angeles</td>\n",
              "    </tr>\n",
              "    <tr>\n",
              "      <th>3</th>\n",
              "      <td>http://www.wikidata.org/entity/Q84</td>\n",
              "      <td>london</td>\n",
              "      <td>http://www.wikidata.org/entity/Q145</td>\n",
              "      <td>United Kingdom</td>\n",
              "      <td>http://www.wikidata.org/entity/Q23306</td>\n",
              "      <td>greater london</td>\n",
              "      <td>London</td>\n",
              "    </tr>\n",
              "    <tr>\n",
              "      <th>4</th>\n",
              "      <td>http://www.wikidata.org/entity/Q87</td>\n",
              "      <td>alexandria</td>\n",
              "      <td>http://www.wikidata.org/entity/Q79</td>\n",
              "      <td>Egypt</td>\n",
              "      <td>http://www.wikidata.org/entity/Q29943</td>\n",
              "      <td>alexandria governorate</td>\n",
              "      <td>Alexandria</td>\n",
              "    </tr>\n",
              "  </tbody>\n",
              "</table>\n",
              "</div>"
            ],
            "text/plain": [
              "                          city_entity  ...     city_check\n",
              "0  http://www.wikidata.org/entity/Q60  ...  New York City\n",
              "1  http://www.wikidata.org/entity/Q64  ...         Berlin\n",
              "2  http://www.wikidata.org/entity/Q65  ...    Los Angeles\n",
              "3  http://www.wikidata.org/entity/Q84  ...         London\n",
              "4  http://www.wikidata.org/entity/Q87  ...     Alexandria\n",
              "\n",
              "[5 rows x 7 columns]"
            ]
          },
          "metadata": {
            "tags": []
          },
          "execution_count": 67
        }
      ]
    },
    {
      "cell_type": "code",
      "metadata": {
        "id": "BsvPTs_kOvDx",
        "colab_type": "code",
        "colab": {
          "base_uri": "https://localhost:8080/",
          "height": 197
        },
        "outputId": "5faba22e-ddb1-4923-bdfb-05f81f7c0d92"
      },
      "source": [
        "df['country'] = df['country'].map(lambda x: x if type(x) != str else x.lower())\n",
        "df.head()"
      ],
      "execution_count": 68,
      "outputs": [
        {
          "output_type": "execute_result",
          "data": {
            "text/html": [
              "<div>\n",
              "<style scoped>\n",
              "    .dataframe tbody tr th:only-of-type {\n",
              "        vertical-align: middle;\n",
              "    }\n",
              "\n",
              "    .dataframe tbody tr th {\n",
              "        vertical-align: top;\n",
              "    }\n",
              "\n",
              "    .dataframe thead th {\n",
              "        text-align: right;\n",
              "    }\n",
              "</style>\n",
              "<table border=\"1\" class=\"dataframe\">\n",
              "  <thead>\n",
              "    <tr style=\"text-align: right;\">\n",
              "      <th></th>\n",
              "      <th>city_entity</th>\n",
              "      <th>city</th>\n",
              "      <th>country_entity</th>\n",
              "      <th>country</th>\n",
              "      <th>admin_entity</th>\n",
              "      <th>admin</th>\n",
              "      <th>city_check</th>\n",
              "    </tr>\n",
              "  </thead>\n",
              "  <tbody>\n",
              "    <tr>\n",
              "      <th>0</th>\n",
              "      <td>http://www.wikidata.org/entity/Q60</td>\n",
              "      <td>new york city</td>\n",
              "      <td>http://www.wikidata.org/entity/Q30</td>\n",
              "      <td>united states of america</td>\n",
              "      <td>http://www.wikidata.org/entity/Q1384</td>\n",
              "      <td>new york</td>\n",
              "      <td>New York City</td>\n",
              "    </tr>\n",
              "    <tr>\n",
              "      <th>1</th>\n",
              "      <td>http://www.wikidata.org/entity/Q64</td>\n",
              "      <td>berlin</td>\n",
              "      <td>http://www.wikidata.org/entity/Q183</td>\n",
              "      <td>germany</td>\n",
              "      <td>http://www.wikidata.org/entity/Q183</td>\n",
              "      <td>germany</td>\n",
              "      <td>Berlin</td>\n",
              "    </tr>\n",
              "    <tr>\n",
              "      <th>2</th>\n",
              "      <td>http://www.wikidata.org/entity/Q65</td>\n",
              "      <td>los angeles</td>\n",
              "      <td>http://www.wikidata.org/entity/Q30</td>\n",
              "      <td>united states of america</td>\n",
              "      <td>http://www.wikidata.org/entity/Q104994</td>\n",
              "      <td>los angeles county</td>\n",
              "      <td>Los Angeles</td>\n",
              "    </tr>\n",
              "    <tr>\n",
              "      <th>3</th>\n",
              "      <td>http://www.wikidata.org/entity/Q84</td>\n",
              "      <td>london</td>\n",
              "      <td>http://www.wikidata.org/entity/Q145</td>\n",
              "      <td>united kingdom</td>\n",
              "      <td>http://www.wikidata.org/entity/Q23306</td>\n",
              "      <td>greater london</td>\n",
              "      <td>London</td>\n",
              "    </tr>\n",
              "    <tr>\n",
              "      <th>4</th>\n",
              "      <td>http://www.wikidata.org/entity/Q87</td>\n",
              "      <td>alexandria</td>\n",
              "      <td>http://www.wikidata.org/entity/Q79</td>\n",
              "      <td>egypt</td>\n",
              "      <td>http://www.wikidata.org/entity/Q29943</td>\n",
              "      <td>alexandria governorate</td>\n",
              "      <td>Alexandria</td>\n",
              "    </tr>\n",
              "  </tbody>\n",
              "</table>\n",
              "</div>"
            ],
            "text/plain": [
              "                          city_entity  ...     city_check\n",
              "0  http://www.wikidata.org/entity/Q60  ...  New York City\n",
              "1  http://www.wikidata.org/entity/Q64  ...         Berlin\n",
              "2  http://www.wikidata.org/entity/Q65  ...    Los Angeles\n",
              "3  http://www.wikidata.org/entity/Q84  ...         London\n",
              "4  http://www.wikidata.org/entity/Q87  ...     Alexandria\n",
              "\n",
              "[5 rows x 7 columns]"
            ]
          },
          "metadata": {
            "tags": []
          },
          "execution_count": 68
        }
      ]
    },
    {
      "cell_type": "code",
      "metadata": {
        "id": "5Hoq0Iq9DmKa",
        "colab_type": "code",
        "colab": {}
      },
      "source": [
        "nlp = spacy.load('en_core_web_sm')"
      ],
      "execution_count": 0,
      "outputs": []
    },
    {
      "cell_type": "code",
      "metadata": {
        "id": "jg-asAtdd50h",
        "colab_type": "code",
        "colab": {}
      },
      "source": [
        ""
      ],
      "execution_count": 0,
      "outputs": []
    },
    {
      "cell_type": "code",
      "metadata": {
        "id": "PUoSQvD_FSTO",
        "colab_type": "code",
        "colab": {}
      },
      "source": [
        "patterns = []\n",
        "id_list = []\n",
        "for item in list(df['city']):\n",
        "  patterns.append(['{\"LOWER\": \"'+ token.text + '\"}' for token in nlp(item)])\n",
        "  id_list.append(['_'+ token.text for token in nlp(item)])\n"
      ],
      "execution_count": 0,
      "outputs": []
    },
    {
      "cell_type": "code",
      "metadata": {
        "id": "sI7iJL66K9va",
        "colab_type": "code",
        "colab": {
          "base_uri": "https://localhost:8080/",
          "height": 34
        },
        "outputId": "592b0a6c-b03a-4538-c7a1-3fd0cc984d63"
      },
      "source": [
        "print(len(patterns),len(id_list))"
      ],
      "execution_count": 71,
      "outputs": [
        {
          "output_type": "stream",
          "text": [
            "673 673\n"
          ],
          "name": "stdout"
        }
      ]
    },
    {
      "cell_type": "code",
      "metadata": {
        "id": "t39r8wlBH6hl",
        "colab_type": "code",
        "colab": {
          "base_uri": "https://localhost:8080/",
          "height": 378
        },
        "outputId": "036426c4-7a77-4026-cf71-758612d7e311"
      },
      "source": [
        "df_pats = pd.DataFrame(patterns)\n",
        "df_pats.head()\n",
        "df_ids = pd.DataFrame(id_list)\n",
        "df_ids.head()"
      ],
      "execution_count": 72,
      "outputs": [
        {
          "output_type": "execute_result",
          "data": {
            "text/html": [
              "<div>\n",
              "<style scoped>\n",
              "    .dataframe tbody tr th:only-of-type {\n",
              "        vertical-align: middle;\n",
              "    }\n",
              "\n",
              "    .dataframe tbody tr th {\n",
              "        vertical-align: top;\n",
              "    }\n",
              "\n",
              "    .dataframe thead th {\n",
              "        text-align: right;\n",
              "    }\n",
              "</style>\n",
              "<table border=\"1\" class=\"dataframe\">\n",
              "  <thead>\n",
              "    <tr style=\"text-align: right;\">\n",
              "      <th></th>\n",
              "      <th>0</th>\n",
              "      <th>1</th>\n",
              "      <th>2</th>\n",
              "      <th>3</th>\n",
              "      <th>4</th>\n",
              "    </tr>\n",
              "  </thead>\n",
              "  <tbody>\n",
              "    <tr>\n",
              "      <th>0</th>\n",
              "      <td>{\"LOWER\": \"new\"}</td>\n",
              "      <td>{\"LOWER\": \"york\"}</td>\n",
              "      <td>{\"LOWER\": \"city\"}</td>\n",
              "      <td>None</td>\n",
              "      <td>None</td>\n",
              "    </tr>\n",
              "    <tr>\n",
              "      <th>1</th>\n",
              "      <td>{\"LOWER\": \"berlin\"}</td>\n",
              "      <td>None</td>\n",
              "      <td>None</td>\n",
              "      <td>None</td>\n",
              "      <td>None</td>\n",
              "    </tr>\n",
              "    <tr>\n",
              "      <th>2</th>\n",
              "      <td>{\"LOWER\": \"los\"}</td>\n",
              "      <td>{\"LOWER\": \"angeles\"}</td>\n",
              "      <td>None</td>\n",
              "      <td>None</td>\n",
              "      <td>None</td>\n",
              "    </tr>\n",
              "    <tr>\n",
              "      <th>3</th>\n",
              "      <td>{\"LOWER\": \"london\"}</td>\n",
              "      <td>None</td>\n",
              "      <td>None</td>\n",
              "      <td>None</td>\n",
              "      <td>None</td>\n",
              "    </tr>\n",
              "    <tr>\n",
              "      <th>4</th>\n",
              "      <td>{\"LOWER\": \"alexandria\"}</td>\n",
              "      <td>None</td>\n",
              "      <td>None</td>\n",
              "      <td>None</td>\n",
              "      <td>None</td>\n",
              "    </tr>\n",
              "  </tbody>\n",
              "</table>\n",
              "</div>"
            ],
            "text/plain": [
              "                         0                     1                  2     3     4\n",
              "0         {\"LOWER\": \"new\"}     {\"LOWER\": \"york\"}  {\"LOWER\": \"city\"}  None  None\n",
              "1      {\"LOWER\": \"berlin\"}                  None               None  None  None\n",
              "2         {\"LOWER\": \"los\"}  {\"LOWER\": \"angeles\"}               None  None  None\n",
              "3      {\"LOWER\": \"london\"}                  None               None  None  None\n",
              "4  {\"LOWER\": \"alexandria\"}                  None               None  None  None"
            ]
          },
          "metadata": {
            "tags": []
          },
          "execution_count": 72
        },
        {
          "output_type": "execute_result",
          "data": {
            "text/html": [
              "<div>\n",
              "<style scoped>\n",
              "    .dataframe tbody tr th:only-of-type {\n",
              "        vertical-align: middle;\n",
              "    }\n",
              "\n",
              "    .dataframe tbody tr th {\n",
              "        vertical-align: top;\n",
              "    }\n",
              "\n",
              "    .dataframe thead th {\n",
              "        text-align: right;\n",
              "    }\n",
              "</style>\n",
              "<table border=\"1\" class=\"dataframe\">\n",
              "  <thead>\n",
              "    <tr style=\"text-align: right;\">\n",
              "      <th></th>\n",
              "      <th>0</th>\n",
              "      <th>1</th>\n",
              "      <th>2</th>\n",
              "      <th>3</th>\n",
              "      <th>4</th>\n",
              "    </tr>\n",
              "  </thead>\n",
              "  <tbody>\n",
              "    <tr>\n",
              "      <th>0</th>\n",
              "      <td>_new</td>\n",
              "      <td>_york</td>\n",
              "      <td>_city</td>\n",
              "      <td>None</td>\n",
              "      <td>None</td>\n",
              "    </tr>\n",
              "    <tr>\n",
              "      <th>1</th>\n",
              "      <td>_berlin</td>\n",
              "      <td>None</td>\n",
              "      <td>None</td>\n",
              "      <td>None</td>\n",
              "      <td>None</td>\n",
              "    </tr>\n",
              "    <tr>\n",
              "      <th>2</th>\n",
              "      <td>_los</td>\n",
              "      <td>_angeles</td>\n",
              "      <td>None</td>\n",
              "      <td>None</td>\n",
              "      <td>None</td>\n",
              "    </tr>\n",
              "    <tr>\n",
              "      <th>3</th>\n",
              "      <td>_london</td>\n",
              "      <td>None</td>\n",
              "      <td>None</td>\n",
              "      <td>None</td>\n",
              "      <td>None</td>\n",
              "    </tr>\n",
              "    <tr>\n",
              "      <th>4</th>\n",
              "      <td>_alexandria</td>\n",
              "      <td>None</td>\n",
              "      <td>None</td>\n",
              "      <td>None</td>\n",
              "      <td>None</td>\n",
              "    </tr>\n",
              "  </tbody>\n",
              "</table>\n",
              "</div>"
            ],
            "text/plain": [
              "             0         1      2     3     4\n",
              "0         _new     _york  _city  None  None\n",
              "1      _berlin      None   None  None  None\n",
              "2         _los  _angeles   None  None  None\n",
              "3      _london      None   None  None  None\n",
              "4  _alexandria      None   None  None  None"
            ]
          },
          "metadata": {
            "tags": []
          },
          "execution_count": 72
        }
      ]
    },
    {
      "cell_type": "code",
      "metadata": {
        "id": "ut6e56YhIL7Y",
        "colab_type": "code",
        "colab": {
          "base_uri": "https://localhost:8080/",
          "height": 378
        },
        "outputId": "4c1214cc-1284-4e9d-d1ba-dce38e40c3e2"
      },
      "source": [
        "df_pats['combined'] = df_pats[0].astype('str') + ', ' + df_pats[1].astype('str') + ', ' + df_pats[2].astype('str') + ', ' + df_pats[3].astype('str')\\\n",
        "+ ', ' + df_pats[4].astype('str') #+ ', ' + df_pats[5].astype('str') + ', ' + df_pats[6].astype('str') + ', ' + df_pats[7].astype('str')\n",
        "df_pats.drop(columns=[0,1,2,3,4],inplace=True)\n",
        "df_pats['cleaned'] = df_pats['combined'].apply(lambda x: clean_pat(x))\n",
        "df_pats.drop(columns=['combined'],inplace=True)\n",
        "df_pats.columns=['cleaned_pattern']\n",
        "\n",
        "df_pats.head()\n",
        "\n",
        "df_ids['combined'] = df_ids[0].astype('str') + df_ids[1].astype('str') + df_ids[2].astype('str') + df_ids[3].astype('str')\\\n",
        "+ df_ids[4].astype('str') #+ df_ids[5].astype('str') + df_ids[6].astype('str') + df_ids[7].astype('str') + df_ids[8].astype('str')\n",
        "df_ids.drop(columns=[0,1,2,3,4],inplace=True)\n",
        "\n",
        "df_ids['cleaned'] = df_ids['combined'].apply(lambda x: clean_id(x))\n",
        "df_ids.drop(columns=['combined'],inplace=True)\n",
        "df_ids.columns=['cleaned_id']\n",
        "df_ids.head()"
      ],
      "execution_count": 73,
      "outputs": [
        {
          "output_type": "execute_result",
          "data": {
            "text/html": [
              "<div>\n",
              "<style scoped>\n",
              "    .dataframe tbody tr th:only-of-type {\n",
              "        vertical-align: middle;\n",
              "    }\n",
              "\n",
              "    .dataframe tbody tr th {\n",
              "        vertical-align: top;\n",
              "    }\n",
              "\n",
              "    .dataframe thead th {\n",
              "        text-align: right;\n",
              "    }\n",
              "</style>\n",
              "<table border=\"1\" class=\"dataframe\">\n",
              "  <thead>\n",
              "    <tr style=\"text-align: right;\">\n",
              "      <th></th>\n",
              "      <th>cleaned_pattern</th>\n",
              "    </tr>\n",
              "  </thead>\n",
              "  <tbody>\n",
              "    <tr>\n",
              "      <th>0</th>\n",
              "      <td>{\"label\": \"GPE_city\", \"pattern\": [{\"LOWER\": \"n...</td>\n",
              "    </tr>\n",
              "    <tr>\n",
              "      <th>1</th>\n",
              "      <td>{\"label\": \"GPE_city\", \"pattern\": [{\"LOWER\": \"b...</td>\n",
              "    </tr>\n",
              "    <tr>\n",
              "      <th>2</th>\n",
              "      <td>{\"label\": \"GPE_city\", \"pattern\": [{\"LOWER\": \"l...</td>\n",
              "    </tr>\n",
              "    <tr>\n",
              "      <th>3</th>\n",
              "      <td>{\"label\": \"GPE_city\", \"pattern\": [{\"LOWER\": \"l...</td>\n",
              "    </tr>\n",
              "    <tr>\n",
              "      <th>4</th>\n",
              "      <td>{\"label\": \"GPE_city\", \"pattern\": [{\"LOWER\": \"a...</td>\n",
              "    </tr>\n",
              "  </tbody>\n",
              "</table>\n",
              "</div>"
            ],
            "text/plain": [
              "                                     cleaned_pattern\n",
              "0  {\"label\": \"GPE_city\", \"pattern\": [{\"LOWER\": \"n...\n",
              "1  {\"label\": \"GPE_city\", \"pattern\": [{\"LOWER\": \"b...\n",
              "2  {\"label\": \"GPE_city\", \"pattern\": [{\"LOWER\": \"l...\n",
              "3  {\"label\": \"GPE_city\", \"pattern\": [{\"LOWER\": \"l...\n",
              "4  {\"label\": \"GPE_city\", \"pattern\": [{\"LOWER\": \"a..."
            ]
          },
          "metadata": {
            "tags": []
          },
          "execution_count": 73
        },
        {
          "output_type": "execute_result",
          "data": {
            "text/html": [
              "<div>\n",
              "<style scoped>\n",
              "    .dataframe tbody tr th:only-of-type {\n",
              "        vertical-align: middle;\n",
              "    }\n",
              "\n",
              "    .dataframe tbody tr th {\n",
              "        vertical-align: top;\n",
              "    }\n",
              "\n",
              "    .dataframe thead th {\n",
              "        text-align: right;\n",
              "    }\n",
              "</style>\n",
              "<table border=\"1\" class=\"dataframe\">\n",
              "  <thead>\n",
              "    <tr style=\"text-align: right;\">\n",
              "      <th></th>\n",
              "      <th>cleaned_id</th>\n",
              "    </tr>\n",
              "  </thead>\n",
              "  <tbody>\n",
              "    <tr>\n",
              "      <th>0</th>\n",
              "      <td>, \"id\": \"new_york_city\"}</td>\n",
              "    </tr>\n",
              "    <tr>\n",
              "      <th>1</th>\n",
              "      <td>, \"id\": \"berlin\"}</td>\n",
              "    </tr>\n",
              "    <tr>\n",
              "      <th>2</th>\n",
              "      <td>, \"id\": \"los_angeles\"}</td>\n",
              "    </tr>\n",
              "    <tr>\n",
              "      <th>3</th>\n",
              "      <td>, \"id\": \"london\"}</td>\n",
              "    </tr>\n",
              "    <tr>\n",
              "      <th>4</th>\n",
              "      <td>, \"id\": \"alexandria\"}</td>\n",
              "    </tr>\n",
              "  </tbody>\n",
              "</table>\n",
              "</div>"
            ],
            "text/plain": [
              "                 cleaned_id\n",
              "0  , \"id\": \"new_york_city\"}\n",
              "1         , \"id\": \"berlin\"}\n",
              "2    , \"id\": \"los_angeles\"}\n",
              "3         , \"id\": \"london\"}\n",
              "4     , \"id\": \"alexandria\"}"
            ]
          },
          "metadata": {
            "tags": []
          },
          "execution_count": 73
        }
      ]
    },
    {
      "cell_type": "code",
      "metadata": {
        "id": "B5XMYvP-JLr1",
        "colab_type": "code",
        "colab": {
          "base_uri": "https://localhost:8080/",
          "height": 698
        },
        "outputId": "8ff480f6-6448-4e62-cb33-1c6be85906bb"
      },
      "source": [
        "df_pat_ids = pd.concat([df_pats,df_ids],axis=1)\n",
        "df_pat_ids['combined'] = df_pat_ids['cleaned_pattern'].astype('str') + df_pat_ids['cleaned_id'].astype('str')\n",
        "df_pat_ids.info()\n",
        "df_pat_ids.head()\n",
        "df_pat_ids.tail()\n",
        "\n",
        "df_pat_ids.drop(columns=['cleaned_pattern','cleaned_id'],inplace=True)\n",
        "df_pat_ids.head()"
      ],
      "execution_count": 74,
      "outputs": [
        {
          "output_type": "stream",
          "text": [
            "<class 'pandas.core.frame.DataFrame'>\n",
            "RangeIndex: 673 entries, 0 to 672\n",
            "Data columns (total 3 columns):\n",
            "cleaned_pattern    673 non-null object\n",
            "cleaned_id         673 non-null object\n",
            "combined           673 non-null object\n",
            "dtypes: object(3)\n",
            "memory usage: 15.9+ KB\n"
          ],
          "name": "stdout"
        },
        {
          "output_type": "execute_result",
          "data": {
            "text/html": [
              "<div>\n",
              "<style scoped>\n",
              "    .dataframe tbody tr th:only-of-type {\n",
              "        vertical-align: middle;\n",
              "    }\n",
              "\n",
              "    .dataframe tbody tr th {\n",
              "        vertical-align: top;\n",
              "    }\n",
              "\n",
              "    .dataframe thead th {\n",
              "        text-align: right;\n",
              "    }\n",
              "</style>\n",
              "<table border=\"1\" class=\"dataframe\">\n",
              "  <thead>\n",
              "    <tr style=\"text-align: right;\">\n",
              "      <th></th>\n",
              "      <th>cleaned_pattern</th>\n",
              "      <th>cleaned_id</th>\n",
              "      <th>combined</th>\n",
              "    </tr>\n",
              "  </thead>\n",
              "  <tbody>\n",
              "    <tr>\n",
              "      <th>0</th>\n",
              "      <td>{\"label\": \"GPE_city\", \"pattern\": [{\"LOWER\": \"n...</td>\n",
              "      <td>, \"id\": \"new_york_city\"}</td>\n",
              "      <td>{\"label\": \"GPE_city\", \"pattern\": [{\"LOWER\": \"n...</td>\n",
              "    </tr>\n",
              "    <tr>\n",
              "      <th>1</th>\n",
              "      <td>{\"label\": \"GPE_city\", \"pattern\": [{\"LOWER\": \"b...</td>\n",
              "      <td>, \"id\": \"berlin\"}</td>\n",
              "      <td>{\"label\": \"GPE_city\", \"pattern\": [{\"LOWER\": \"b...</td>\n",
              "    </tr>\n",
              "    <tr>\n",
              "      <th>2</th>\n",
              "      <td>{\"label\": \"GPE_city\", \"pattern\": [{\"LOWER\": \"l...</td>\n",
              "      <td>, \"id\": \"los_angeles\"}</td>\n",
              "      <td>{\"label\": \"GPE_city\", \"pattern\": [{\"LOWER\": \"l...</td>\n",
              "    </tr>\n",
              "    <tr>\n",
              "      <th>3</th>\n",
              "      <td>{\"label\": \"GPE_city\", \"pattern\": [{\"LOWER\": \"l...</td>\n",
              "      <td>, \"id\": \"london\"}</td>\n",
              "      <td>{\"label\": \"GPE_city\", \"pattern\": [{\"LOWER\": \"l...</td>\n",
              "    </tr>\n",
              "    <tr>\n",
              "      <th>4</th>\n",
              "      <td>{\"label\": \"GPE_city\", \"pattern\": [{\"LOWER\": \"a...</td>\n",
              "      <td>, \"id\": \"alexandria\"}</td>\n",
              "      <td>{\"label\": \"GPE_city\", \"pattern\": [{\"LOWER\": \"a...</td>\n",
              "    </tr>\n",
              "  </tbody>\n",
              "</table>\n",
              "</div>"
            ],
            "text/plain": [
              "                                     cleaned_pattern  ...                                           combined\n",
              "0  {\"label\": \"GPE_city\", \"pattern\": [{\"LOWER\": \"n...  ...  {\"label\": \"GPE_city\", \"pattern\": [{\"LOWER\": \"n...\n",
              "1  {\"label\": \"GPE_city\", \"pattern\": [{\"LOWER\": \"b...  ...  {\"label\": \"GPE_city\", \"pattern\": [{\"LOWER\": \"b...\n",
              "2  {\"label\": \"GPE_city\", \"pattern\": [{\"LOWER\": \"l...  ...  {\"label\": \"GPE_city\", \"pattern\": [{\"LOWER\": \"l...\n",
              "3  {\"label\": \"GPE_city\", \"pattern\": [{\"LOWER\": \"l...  ...  {\"label\": \"GPE_city\", \"pattern\": [{\"LOWER\": \"l...\n",
              "4  {\"label\": \"GPE_city\", \"pattern\": [{\"LOWER\": \"a...  ...  {\"label\": \"GPE_city\", \"pattern\": [{\"LOWER\": \"a...\n",
              "\n",
              "[5 rows x 3 columns]"
            ]
          },
          "metadata": {
            "tags": []
          },
          "execution_count": 74
        },
        {
          "output_type": "execute_result",
          "data": {
            "text/html": [
              "<div>\n",
              "<style scoped>\n",
              "    .dataframe tbody tr th:only-of-type {\n",
              "        vertical-align: middle;\n",
              "    }\n",
              "\n",
              "    .dataframe tbody tr th {\n",
              "        vertical-align: top;\n",
              "    }\n",
              "\n",
              "    .dataframe thead th {\n",
              "        text-align: right;\n",
              "    }\n",
              "</style>\n",
              "<table border=\"1\" class=\"dataframe\">\n",
              "  <thead>\n",
              "    <tr style=\"text-align: right;\">\n",
              "      <th></th>\n",
              "      <th>cleaned_pattern</th>\n",
              "      <th>cleaned_id</th>\n",
              "      <th>combined</th>\n",
              "    </tr>\n",
              "  </thead>\n",
              "  <tbody>\n",
              "    <tr>\n",
              "      <th>668</th>\n",
              "      <td>{\"label\": \"GPE_city\", \"pattern\": [{\"LOWER\": \"b...</td>\n",
              "      <td>, \"id\": \"blantyre\"}</td>\n",
              "      <td>{\"label\": \"GPE_city\", \"pattern\": [{\"LOWER\": \"b...</td>\n",
              "    </tr>\n",
              "    <tr>\n",
              "      <th>669</th>\n",
              "      <td>{\"label\": \"GPE_city\", \"pattern\": [{\"LOWER\": \"l...</td>\n",
              "      <td>, \"id\": \"león\"}</td>\n",
              "      <td>{\"label\": \"GPE_city\", \"pattern\": [{\"LOWER\": \"l...</td>\n",
              "    </tr>\n",
              "    <tr>\n",
              "      <th>670</th>\n",
              "      <td>{\"label\": \"GPE_city\", \"pattern\": [{\"LOWER\": \"g...</td>\n",
              "      <td>, \"id\": \"guilin\"}</td>\n",
              "      <td>{\"label\": \"GPE_city\", \"pattern\": [{\"LOWER\": \"g...</td>\n",
              "    </tr>\n",
              "    <tr>\n",
              "      <th>671</th>\n",
              "      <td>{\"label\": \"GPE_city\", \"pattern\": [{\"LOWER\": \"h...</td>\n",
              "      <td>, \"id\": \"haikou\"}</td>\n",
              "      <td>{\"label\": \"GPE_city\", \"pattern\": [{\"LOWER\": \"h...</td>\n",
              "    </tr>\n",
              "    <tr>\n",
              "      <th>672</th>\n",
              "      <td>{\"label\": \"GPE_city\", \"pattern\": [{\"LOWER\": \"g...</td>\n",
              "      <td>, \"id\": \"guiyang\"}</td>\n",
              "      <td>{\"label\": \"GPE_city\", \"pattern\": [{\"LOWER\": \"g...</td>\n",
              "    </tr>\n",
              "  </tbody>\n",
              "</table>\n",
              "</div>"
            ],
            "text/plain": [
              "                                       cleaned_pattern  ...                                           combined\n",
              "668  {\"label\": \"GPE_city\", \"pattern\": [{\"LOWER\": \"b...  ...  {\"label\": \"GPE_city\", \"pattern\": [{\"LOWER\": \"b...\n",
              "669  {\"label\": \"GPE_city\", \"pattern\": [{\"LOWER\": \"l...  ...  {\"label\": \"GPE_city\", \"pattern\": [{\"LOWER\": \"l...\n",
              "670  {\"label\": \"GPE_city\", \"pattern\": [{\"LOWER\": \"g...  ...  {\"label\": \"GPE_city\", \"pattern\": [{\"LOWER\": \"g...\n",
              "671  {\"label\": \"GPE_city\", \"pattern\": [{\"LOWER\": \"h...  ...  {\"label\": \"GPE_city\", \"pattern\": [{\"LOWER\": \"h...\n",
              "672  {\"label\": \"GPE_city\", \"pattern\": [{\"LOWER\": \"g...  ...  {\"label\": \"GPE_city\", \"pattern\": [{\"LOWER\": \"g...\n",
              "\n",
              "[5 rows x 3 columns]"
            ]
          },
          "metadata": {
            "tags": []
          },
          "execution_count": 74
        },
        {
          "output_type": "execute_result",
          "data": {
            "text/html": [
              "<div>\n",
              "<style scoped>\n",
              "    .dataframe tbody tr th:only-of-type {\n",
              "        vertical-align: middle;\n",
              "    }\n",
              "\n",
              "    .dataframe tbody tr th {\n",
              "        vertical-align: top;\n",
              "    }\n",
              "\n",
              "    .dataframe thead th {\n",
              "        text-align: right;\n",
              "    }\n",
              "</style>\n",
              "<table border=\"1\" class=\"dataframe\">\n",
              "  <thead>\n",
              "    <tr style=\"text-align: right;\">\n",
              "      <th></th>\n",
              "      <th>combined</th>\n",
              "    </tr>\n",
              "  </thead>\n",
              "  <tbody>\n",
              "    <tr>\n",
              "      <th>0</th>\n",
              "      <td>{\"label\": \"GPE_city\", \"pattern\": [{\"LOWER\": \"n...</td>\n",
              "    </tr>\n",
              "    <tr>\n",
              "      <th>1</th>\n",
              "      <td>{\"label\": \"GPE_city\", \"pattern\": [{\"LOWER\": \"b...</td>\n",
              "    </tr>\n",
              "    <tr>\n",
              "      <th>2</th>\n",
              "      <td>{\"label\": \"GPE_city\", \"pattern\": [{\"LOWER\": \"l...</td>\n",
              "    </tr>\n",
              "    <tr>\n",
              "      <th>3</th>\n",
              "      <td>{\"label\": \"GPE_city\", \"pattern\": [{\"LOWER\": \"l...</td>\n",
              "    </tr>\n",
              "    <tr>\n",
              "      <th>4</th>\n",
              "      <td>{\"label\": \"GPE_city\", \"pattern\": [{\"LOWER\": \"a...</td>\n",
              "    </tr>\n",
              "  </tbody>\n",
              "</table>\n",
              "</div>"
            ],
            "text/plain": [
              "                                            combined\n",
              "0  {\"label\": \"GPE_city\", \"pattern\": [{\"LOWER\": \"n...\n",
              "1  {\"label\": \"GPE_city\", \"pattern\": [{\"LOWER\": \"b...\n",
              "2  {\"label\": \"GPE_city\", \"pattern\": [{\"LOWER\": \"l...\n",
              "3  {\"label\": \"GPE_city\", \"pattern\": [{\"LOWER\": \"l...\n",
              "4  {\"label\": \"GPE_city\", \"pattern\": [{\"LOWER\": \"a..."
            ]
          },
          "metadata": {
            "tags": []
          },
          "execution_count": 74
        }
      ]
    },
    {
      "cell_type": "code",
      "metadata": {
        "id": "EIfTT6OViBJY",
        "colab_type": "code",
        "colab": {
          "base_uri": "https://localhost:8080/",
          "height": 197
        },
        "outputId": "00b09872-a02b-4007-b223-4b0a85328b38"
      },
      "source": [
        "df = pd.concat([df,df_pat_ids],axis=1)\n",
        "df.head()"
      ],
      "execution_count": 75,
      "outputs": [
        {
          "output_type": "execute_result",
          "data": {
            "text/html": [
              "<div>\n",
              "<style scoped>\n",
              "    .dataframe tbody tr th:only-of-type {\n",
              "        vertical-align: middle;\n",
              "    }\n",
              "\n",
              "    .dataframe tbody tr th {\n",
              "        vertical-align: top;\n",
              "    }\n",
              "\n",
              "    .dataframe thead th {\n",
              "        text-align: right;\n",
              "    }\n",
              "</style>\n",
              "<table border=\"1\" class=\"dataframe\">\n",
              "  <thead>\n",
              "    <tr style=\"text-align: right;\">\n",
              "      <th></th>\n",
              "      <th>city_entity</th>\n",
              "      <th>city</th>\n",
              "      <th>country_entity</th>\n",
              "      <th>country</th>\n",
              "      <th>admin_entity</th>\n",
              "      <th>admin</th>\n",
              "      <th>city_check</th>\n",
              "      <th>combined</th>\n",
              "    </tr>\n",
              "  </thead>\n",
              "  <tbody>\n",
              "    <tr>\n",
              "      <th>0</th>\n",
              "      <td>http://www.wikidata.org/entity/Q60</td>\n",
              "      <td>new york city</td>\n",
              "      <td>http://www.wikidata.org/entity/Q30</td>\n",
              "      <td>united states of america</td>\n",
              "      <td>http://www.wikidata.org/entity/Q1384</td>\n",
              "      <td>new york</td>\n",
              "      <td>New York City</td>\n",
              "      <td>{\"label\": \"GPE_city\", \"pattern\": [{\"LOWER\": \"n...</td>\n",
              "    </tr>\n",
              "    <tr>\n",
              "      <th>1</th>\n",
              "      <td>http://www.wikidata.org/entity/Q64</td>\n",
              "      <td>berlin</td>\n",
              "      <td>http://www.wikidata.org/entity/Q183</td>\n",
              "      <td>germany</td>\n",
              "      <td>http://www.wikidata.org/entity/Q183</td>\n",
              "      <td>germany</td>\n",
              "      <td>Berlin</td>\n",
              "      <td>{\"label\": \"GPE_city\", \"pattern\": [{\"LOWER\": \"b...</td>\n",
              "    </tr>\n",
              "    <tr>\n",
              "      <th>2</th>\n",
              "      <td>http://www.wikidata.org/entity/Q65</td>\n",
              "      <td>los angeles</td>\n",
              "      <td>http://www.wikidata.org/entity/Q30</td>\n",
              "      <td>united states of america</td>\n",
              "      <td>http://www.wikidata.org/entity/Q104994</td>\n",
              "      <td>los angeles county</td>\n",
              "      <td>Los Angeles</td>\n",
              "      <td>{\"label\": \"GPE_city\", \"pattern\": [{\"LOWER\": \"l...</td>\n",
              "    </tr>\n",
              "    <tr>\n",
              "      <th>3</th>\n",
              "      <td>http://www.wikidata.org/entity/Q84</td>\n",
              "      <td>london</td>\n",
              "      <td>http://www.wikidata.org/entity/Q145</td>\n",
              "      <td>united kingdom</td>\n",
              "      <td>http://www.wikidata.org/entity/Q23306</td>\n",
              "      <td>greater london</td>\n",
              "      <td>London</td>\n",
              "      <td>{\"label\": \"GPE_city\", \"pattern\": [{\"LOWER\": \"l...</td>\n",
              "    </tr>\n",
              "    <tr>\n",
              "      <th>4</th>\n",
              "      <td>http://www.wikidata.org/entity/Q87</td>\n",
              "      <td>alexandria</td>\n",
              "      <td>http://www.wikidata.org/entity/Q79</td>\n",
              "      <td>egypt</td>\n",
              "      <td>http://www.wikidata.org/entity/Q29943</td>\n",
              "      <td>alexandria governorate</td>\n",
              "      <td>Alexandria</td>\n",
              "      <td>{\"label\": \"GPE_city\", \"pattern\": [{\"LOWER\": \"a...</td>\n",
              "    </tr>\n",
              "  </tbody>\n",
              "</table>\n",
              "</div>"
            ],
            "text/plain": [
              "                          city_entity  ...                                           combined\n",
              "0  http://www.wikidata.org/entity/Q60  ...  {\"label\": \"GPE_city\", \"pattern\": [{\"LOWER\": \"n...\n",
              "1  http://www.wikidata.org/entity/Q64  ...  {\"label\": \"GPE_city\", \"pattern\": [{\"LOWER\": \"b...\n",
              "2  http://www.wikidata.org/entity/Q65  ...  {\"label\": \"GPE_city\", \"pattern\": [{\"LOWER\": \"l...\n",
              "3  http://www.wikidata.org/entity/Q84  ...  {\"label\": \"GPE_city\", \"pattern\": [{\"LOWER\": \"l...\n",
              "4  http://www.wikidata.org/entity/Q87  ...  {\"label\": \"GPE_city\", \"pattern\": [{\"LOWER\": \"a...\n",
              "\n",
              "[5 rows x 8 columns]"
            ]
          },
          "metadata": {
            "tags": []
          },
          "execution_count": 75
        }
      ]
    },
    {
      "cell_type": "code",
      "metadata": {
        "id": "mp9KkBFDLR2B",
        "colab_type": "code",
        "colab": {
          "base_uri": "https://localhost:8080/",
          "height": 34
        },
        "outputId": "8d4bf207-932d-4f93-e68e-a7b23b4d2137"
      },
      "source": [
        "df['combined'][100]"
      ],
      "execution_count": 76,
      "outputs": [
        {
          "output_type": "execute_result",
          "data": {
            "text/plain": [
              "'{\"label\": \"GPE_city\", \"pattern\": [{\"LOWER\": \"brazzaville\"}], \"id\": \"brazzaville\"}'"
            ]
          },
          "metadata": {
            "tags": []
          },
          "execution_count": 76
        }
      ]
    },
    {
      "cell_type": "code",
      "metadata": {
        "id": "9DG7qZJHYw41",
        "colab_type": "code",
        "colab": {}
      },
      "source": [
        "df.drop(columns=['city_check'],inplace=True)\n",
        "df.to_csv('city_detail_w_pattern.csv',index=False)"
      ],
      "execution_count": 0,
      "outputs": []
    },
    {
      "cell_type": "code",
      "metadata": {
        "id": "mVxV2bt8LUDJ",
        "colab_type": "code",
        "colab": {}
      },
      "source": [
        "dump_jsonl(list(df['combined']), 'city_patterns.jsonl')"
      ],
      "execution_count": 0,
      "outputs": []
    },
    {
      "cell_type": "code",
      "metadata": {
        "id": "BzNNwzDqLc0B",
        "colab_type": "code",
        "colab": {}
      },
      "source": [
        "df[['combined']].to_csv('city_patterns.csv',index=False)"
      ],
      "execution_count": 0,
      "outputs": []
    },
    {
      "cell_type": "code",
      "metadata": {
        "id": "cfL_Gw86ZsEe",
        "colab_type": "code",
        "colab": {
          "base_uri": "https://localhost:8080/",
          "height": 225
        },
        "outputId": "4531bde9-0958-4f46-d63d-d76b516deb9d"
      },
      "source": [
        "df.info()"
      ],
      "execution_count": 28,
      "outputs": [
        {
          "output_type": "stream",
          "text": [
            "<class 'pandas.core.frame.DataFrame'>\n",
            "RangeIndex: 3719 entries, 0 to 3718\n",
            "Data columns (total 7 columns):\n",
            "city_entity       3719 non-null object\n",
            "city              3719 non-null object\n",
            "country_entity    3719 non-null object\n",
            "country           3719 non-null object\n",
            "admin_entity      3698 non-null object\n",
            "admin             3698 non-null object\n",
            "combined          3719 non-null object\n",
            "dtypes: object(7)\n",
            "memory usage: 203.5+ KB\n"
          ],
          "name": "stdout"
        }
      ]
    },
    {
      "cell_type": "code",
      "metadata": {
        "id": "Oyh4LxUeePaK",
        "colab_type": "code",
        "colab": {}
      },
      "source": [
        ""
      ],
      "execution_count": 0,
      "outputs": []
    },
    {
      "cell_type": "code",
      "metadata": {
        "id": "XeEljZVXesvw",
        "colab_type": "code",
        "colab": {
          "base_uri": "https://localhost:8080/",
          "height": 197
        },
        "outputId": "8802d33a-2561-4a6b-ea2a-140252cb0f5d"
      },
      "source": [
        "df.tail()"
      ],
      "execution_count": 80,
      "outputs": [
        {
          "output_type": "execute_result",
          "data": {
            "text/html": [
              "<div>\n",
              "<style scoped>\n",
              "    .dataframe tbody tr th:only-of-type {\n",
              "        vertical-align: middle;\n",
              "    }\n",
              "\n",
              "    .dataframe tbody tr th {\n",
              "        vertical-align: top;\n",
              "    }\n",
              "\n",
              "    .dataframe thead th {\n",
              "        text-align: right;\n",
              "    }\n",
              "</style>\n",
              "<table border=\"1\" class=\"dataframe\">\n",
              "  <thead>\n",
              "    <tr style=\"text-align: right;\">\n",
              "      <th></th>\n",
              "      <th>city_entity</th>\n",
              "      <th>city</th>\n",
              "      <th>country_entity</th>\n",
              "      <th>country</th>\n",
              "      <th>admin_entity</th>\n",
              "      <th>admin</th>\n",
              "      <th>combined</th>\n",
              "    </tr>\n",
              "  </thead>\n",
              "  <tbody>\n",
              "    <tr>\n",
              "      <th>668</th>\n",
              "      <td>http://www.wikidata.org/entity/Q188693</td>\n",
              "      <td>blantyre</td>\n",
              "      <td>http://www.wikidata.org/entity/Q1020</td>\n",
              "      <td>malawi</td>\n",
              "      <td>http://www.wikidata.org/entity/Q1059262</td>\n",
              "      <td>blantyre district</td>\n",
              "      <td>{\"label\": \"GPE_city\", \"pattern\": [{\"LOWER\": \"b...</td>\n",
              "    </tr>\n",
              "    <tr>\n",
              "      <th>669</th>\n",
              "      <td>http://www.wikidata.org/entity/Q189128</td>\n",
              "      <td>león</td>\n",
              "      <td>http://www.wikidata.org/entity/Q96</td>\n",
              "      <td>mexico</td>\n",
              "      <td>http://www.wikidata.org/entity/Q9022143</td>\n",
              "      <td>león municipality</td>\n",
              "      <td>{\"label\": \"GPE_city\", \"pattern\": [{\"LOWER\": \"l...</td>\n",
              "    </tr>\n",
              "    <tr>\n",
              "      <th>670</th>\n",
              "      <td>http://www.wikidata.org/entity/Q189633</td>\n",
              "      <td>guilin</td>\n",
              "      <td>http://www.wikidata.org/entity/Q148</td>\n",
              "      <td>people's republic of china</td>\n",
              "      <td>http://www.wikidata.org/entity/Q15176</td>\n",
              "      <td>guangxi zhuang autonomous region</td>\n",
              "      <td>{\"label\": \"GPE_city\", \"pattern\": [{\"LOWER\": \"g...</td>\n",
              "    </tr>\n",
              "    <tr>\n",
              "      <th>671</th>\n",
              "      <td>http://www.wikidata.org/entity/Q189823</td>\n",
              "      <td>haikou</td>\n",
              "      <td>http://www.wikidata.org/entity/Q148</td>\n",
              "      <td>people's republic of china</td>\n",
              "      <td>http://www.wikidata.org/entity/Q42200</td>\n",
              "      <td>hainan</td>\n",
              "      <td>{\"label\": \"GPE_city\", \"pattern\": [{\"LOWER\": \"h...</td>\n",
              "    </tr>\n",
              "    <tr>\n",
              "      <th>672</th>\n",
              "      <td>http://www.wikidata.org/entity/Q192271</td>\n",
              "      <td>guiyang</td>\n",
              "      <td>http://www.wikidata.org/entity/Q148</td>\n",
              "      <td>people's republic of china</td>\n",
              "      <td>http://www.wikidata.org/entity/Q47097</td>\n",
              "      <td>guizhou</td>\n",
              "      <td>{\"label\": \"GPE_city\", \"pattern\": [{\"LOWER\": \"g...</td>\n",
              "    </tr>\n",
              "  </tbody>\n",
              "</table>\n",
              "</div>"
            ],
            "text/plain": [
              "                                city_entity  ...                                           combined\n",
              "668  http://www.wikidata.org/entity/Q188693  ...  {\"label\": \"GPE_city\", \"pattern\": [{\"LOWER\": \"b...\n",
              "669  http://www.wikidata.org/entity/Q189128  ...  {\"label\": \"GPE_city\", \"pattern\": [{\"LOWER\": \"l...\n",
              "670  http://www.wikidata.org/entity/Q189633  ...  {\"label\": \"GPE_city\", \"pattern\": [{\"LOWER\": \"g...\n",
              "671  http://www.wikidata.org/entity/Q189823  ...  {\"label\": \"GPE_city\", \"pattern\": [{\"LOWER\": \"h...\n",
              "672  http://www.wikidata.org/entity/Q192271  ...  {\"label\": \"GPE_city\", \"pattern\": [{\"LOWER\": \"g...\n",
              "\n",
              "[5 rows x 7 columns]"
            ]
          },
          "metadata": {
            "tags": []
          },
          "execution_count": 80
        }
      ]
    },
    {
      "cell_type": "code",
      "metadata": {
        "id": "2PcQXeepgYKH",
        "colab_type": "code",
        "colab": {
          "base_uri": "https://localhost:8080/",
          "height": 77
        },
        "outputId": "bc2d4aa8-bca6-47d2-daa3-b06d12850fd4"
      },
      "source": [
        "df.query('country == \"afghanistan\"')"
      ],
      "execution_count": 81,
      "outputs": [
        {
          "output_type": "execute_result",
          "data": {
            "text/html": [
              "<div>\n",
              "<style scoped>\n",
              "    .dataframe tbody tr th:only-of-type {\n",
              "        vertical-align: middle;\n",
              "    }\n",
              "\n",
              "    .dataframe tbody tr th {\n",
              "        vertical-align: top;\n",
              "    }\n",
              "\n",
              "    .dataframe thead th {\n",
              "        text-align: right;\n",
              "    }\n",
              "</style>\n",
              "<table border=\"1\" class=\"dataframe\">\n",
              "  <thead>\n",
              "    <tr style=\"text-align: right;\">\n",
              "      <th></th>\n",
              "      <th>city_entity</th>\n",
              "      <th>city</th>\n",
              "      <th>country_entity</th>\n",
              "      <th>country</th>\n",
              "      <th>admin_entity</th>\n",
              "      <th>admin</th>\n",
              "      <th>combined</th>\n",
              "    </tr>\n",
              "  </thead>\n",
              "  <tbody>\n",
              "    <tr>\n",
              "      <th>118</th>\n",
              "      <td>http://www.wikidata.org/entity/Q5838</td>\n",
              "      <td>kabul</td>\n",
              "      <td>http://www.wikidata.org/entity/Q889</td>\n",
              "      <td>afghanistan</td>\n",
              "      <td>http://www.wikidata.org/entity/Q6344428</td>\n",
              "      <td>kabul</td>\n",
              "      <td>{\"label\": \"GPE_city\", \"pattern\": [{\"LOWER\": \"k...</td>\n",
              "    </tr>\n",
              "  </tbody>\n",
              "</table>\n",
              "</div>"
            ],
            "text/plain": [
              "                              city_entity  ...                                           combined\n",
              "118  http://www.wikidata.org/entity/Q5838  ...  {\"label\": \"GPE_city\", \"pattern\": [{\"LOWER\": \"k...\n",
              "\n",
              "[1 rows x 7 columns]"
            ]
          },
          "metadata": {
            "tags": []
          },
          "execution_count": 81
        }
      ]
    },
    {
      "cell_type": "code",
      "metadata": {
        "id": "Nsi32jQl1Pni",
        "colab_type": "code",
        "colab": {}
      },
      "source": [
        "df.fillna(0,inplace=True)"
      ],
      "execution_count": 0,
      "outputs": []
    },
    {
      "cell_type": "code",
      "metadata": {
        "id": "qMmgvMI8Rqn-",
        "colab_type": "code",
        "colab": {
          "base_uri": "https://localhost:8080/",
          "height": 197
        },
        "outputId": "d112aaab-6645-4e7a-eff8-a9baa4a12ba2"
      },
      "source": [
        "df_admins = pd.read_csv('country_subdivisions_detail.csv')\n",
        "df_admins.head()"
      ],
      "execution_count": 83,
      "outputs": [
        {
          "output_type": "execute_result",
          "data": {
            "text/html": [
              "<div>\n",
              "<style scoped>\n",
              "    .dataframe tbody tr th:only-of-type {\n",
              "        vertical-align: middle;\n",
              "    }\n",
              "\n",
              "    .dataframe tbody tr th {\n",
              "        vertical-align: top;\n",
              "    }\n",
              "\n",
              "    .dataframe thead th {\n",
              "        text-align: right;\n",
              "    }\n",
              "</style>\n",
              "<table border=\"1\" class=\"dataframe\">\n",
              "  <thead>\n",
              "    <tr style=\"text-align: right;\">\n",
              "      <th></th>\n",
              "      <th>country_alpha_2</th>\n",
              "      <th>sd_code</th>\n",
              "      <th>sd_name</th>\n",
              "      <th>sd_type</th>\n",
              "      <th>sd_parent_code</th>\n",
              "    </tr>\n",
              "  </thead>\n",
              "  <tbody>\n",
              "    <tr>\n",
              "      <th>0</th>\n",
              "      <td>AF</td>\n",
              "      <td>AF-BAL</td>\n",
              "      <td>balkh</td>\n",
              "      <td>Province</td>\n",
              "      <td>NaN</td>\n",
              "    </tr>\n",
              "    <tr>\n",
              "      <th>1</th>\n",
              "      <td>AF</td>\n",
              "      <td>AF-BAM</td>\n",
              "      <td>bāmyān</td>\n",
              "      <td>Province</td>\n",
              "      <td>NaN</td>\n",
              "    </tr>\n",
              "    <tr>\n",
              "      <th>2</th>\n",
              "      <td>AF</td>\n",
              "      <td>AF-BDG</td>\n",
              "      <td>bādghīs</td>\n",
              "      <td>Province</td>\n",
              "      <td>NaN</td>\n",
              "    </tr>\n",
              "    <tr>\n",
              "      <th>3</th>\n",
              "      <td>AF</td>\n",
              "      <td>AF-BDS</td>\n",
              "      <td>badakhshān</td>\n",
              "      <td>Province</td>\n",
              "      <td>NaN</td>\n",
              "    </tr>\n",
              "    <tr>\n",
              "      <th>4</th>\n",
              "      <td>AF</td>\n",
              "      <td>AF-BGL</td>\n",
              "      <td>baghlān</td>\n",
              "      <td>Province</td>\n",
              "      <td>NaN</td>\n",
              "    </tr>\n",
              "  </tbody>\n",
              "</table>\n",
              "</div>"
            ],
            "text/plain": [
              "  country_alpha_2 sd_code     sd_name   sd_type sd_parent_code\n",
              "0              AF  AF-BAL       balkh  Province            NaN\n",
              "1              AF  AF-BAM      bāmyān  Province            NaN\n",
              "2              AF  AF-BDG     bādghīs  Province            NaN\n",
              "3              AF  AF-BDS  badakhshān  Province            NaN\n",
              "4              AF  AF-BGL     baghlān  Province            NaN"
            ]
          },
          "metadata": {
            "tags": []
          },
          "execution_count": 83
        }
      ]
    },
    {
      "cell_type": "code",
      "metadata": {
        "id": "L4Od46LwR9J2",
        "colab_type": "code",
        "colab": {
          "base_uri": "https://localhost:8080/",
          "height": 197
        },
        "outputId": "3fc560cf-d941-43fa-c5db-b17c53381d65"
      },
      "source": [
        "df_country = pd.read_csv('country_detail.csv')\n",
        "df_country.head()"
      ],
      "execution_count": 84,
      "outputs": [
        {
          "output_type": "execute_result",
          "data": {
            "text/html": [
              "<div>\n",
              "<style scoped>\n",
              "    .dataframe tbody tr th:only-of-type {\n",
              "        vertical-align: middle;\n",
              "    }\n",
              "\n",
              "    .dataframe tbody tr th {\n",
              "        vertical-align: top;\n",
              "    }\n",
              "\n",
              "    .dataframe thead th {\n",
              "        text-align: right;\n",
              "    }\n",
              "</style>\n",
              "<table border=\"1\" class=\"dataframe\">\n",
              "  <thead>\n",
              "    <tr style=\"text-align: right;\">\n",
              "      <th></th>\n",
              "      <th>country_alpha_2</th>\n",
              "      <th>country_alpha_3</th>\n",
              "      <th>country_name</th>\n",
              "      <th>country_numeric</th>\n",
              "    </tr>\n",
              "  </thead>\n",
              "  <tbody>\n",
              "    <tr>\n",
              "      <th>0</th>\n",
              "      <td>AW</td>\n",
              "      <td>ABW</td>\n",
              "      <td>aruba</td>\n",
              "      <td>533</td>\n",
              "    </tr>\n",
              "    <tr>\n",
              "      <th>1</th>\n",
              "      <td>AF</td>\n",
              "      <td>AFG</td>\n",
              "      <td>afghanistan</td>\n",
              "      <td>4</td>\n",
              "    </tr>\n",
              "    <tr>\n",
              "      <th>2</th>\n",
              "      <td>AO</td>\n",
              "      <td>AGO</td>\n",
              "      <td>angola</td>\n",
              "      <td>24</td>\n",
              "    </tr>\n",
              "    <tr>\n",
              "      <th>3</th>\n",
              "      <td>AI</td>\n",
              "      <td>AIA</td>\n",
              "      <td>anguilla</td>\n",
              "      <td>660</td>\n",
              "    </tr>\n",
              "    <tr>\n",
              "      <th>4</th>\n",
              "      <td>AX</td>\n",
              "      <td>ALA</td>\n",
              "      <td>åland islands</td>\n",
              "      <td>248</td>\n",
              "    </tr>\n",
              "  </tbody>\n",
              "</table>\n",
              "</div>"
            ],
            "text/plain": [
              "  country_alpha_2 country_alpha_3   country_name  country_numeric\n",
              "0              AW             ABW          aruba              533\n",
              "1              AF             AFG    afghanistan                4\n",
              "2              AO             AGO         angola               24\n",
              "3              AI             AIA       anguilla              660\n",
              "4              AX             ALA  åland islands              248"
            ]
          },
          "metadata": {
            "tags": []
          },
          "execution_count": 84
        }
      ]
    },
    {
      "cell_type": "code",
      "metadata": {
        "id": "7-9b2Js6SGKg",
        "colab_type": "code",
        "colab": {
          "base_uri": "https://localhost:8080/",
          "height": 197
        },
        "outputId": "017c6d9a-725a-4dac-efa8-9d8e21294f01"
      },
      "source": [
        "df_country_admins = df_admins.merge(df_country,how='left',on='country_alpha_2')\n",
        "df_country_admins.head()"
      ],
      "execution_count": 85,
      "outputs": [
        {
          "output_type": "execute_result",
          "data": {
            "text/html": [
              "<div>\n",
              "<style scoped>\n",
              "    .dataframe tbody tr th:only-of-type {\n",
              "        vertical-align: middle;\n",
              "    }\n",
              "\n",
              "    .dataframe tbody tr th {\n",
              "        vertical-align: top;\n",
              "    }\n",
              "\n",
              "    .dataframe thead th {\n",
              "        text-align: right;\n",
              "    }\n",
              "</style>\n",
              "<table border=\"1\" class=\"dataframe\">\n",
              "  <thead>\n",
              "    <tr style=\"text-align: right;\">\n",
              "      <th></th>\n",
              "      <th>country_alpha_2</th>\n",
              "      <th>sd_code</th>\n",
              "      <th>sd_name</th>\n",
              "      <th>sd_type</th>\n",
              "      <th>sd_parent_code</th>\n",
              "      <th>country_alpha_3</th>\n",
              "      <th>country_name</th>\n",
              "      <th>country_numeric</th>\n",
              "    </tr>\n",
              "  </thead>\n",
              "  <tbody>\n",
              "    <tr>\n",
              "      <th>0</th>\n",
              "      <td>AF</td>\n",
              "      <td>AF-BAL</td>\n",
              "      <td>balkh</td>\n",
              "      <td>Province</td>\n",
              "      <td>NaN</td>\n",
              "      <td>AFG</td>\n",
              "      <td>afghanistan</td>\n",
              "      <td>4</td>\n",
              "    </tr>\n",
              "    <tr>\n",
              "      <th>1</th>\n",
              "      <td>AF</td>\n",
              "      <td>AF-BAM</td>\n",
              "      <td>bāmyān</td>\n",
              "      <td>Province</td>\n",
              "      <td>NaN</td>\n",
              "      <td>AFG</td>\n",
              "      <td>afghanistan</td>\n",
              "      <td>4</td>\n",
              "    </tr>\n",
              "    <tr>\n",
              "      <th>2</th>\n",
              "      <td>AF</td>\n",
              "      <td>AF-BDG</td>\n",
              "      <td>bādghīs</td>\n",
              "      <td>Province</td>\n",
              "      <td>NaN</td>\n",
              "      <td>AFG</td>\n",
              "      <td>afghanistan</td>\n",
              "      <td>4</td>\n",
              "    </tr>\n",
              "    <tr>\n",
              "      <th>3</th>\n",
              "      <td>AF</td>\n",
              "      <td>AF-BDS</td>\n",
              "      <td>badakhshān</td>\n",
              "      <td>Province</td>\n",
              "      <td>NaN</td>\n",
              "      <td>AFG</td>\n",
              "      <td>afghanistan</td>\n",
              "      <td>4</td>\n",
              "    </tr>\n",
              "    <tr>\n",
              "      <th>4</th>\n",
              "      <td>AF</td>\n",
              "      <td>AF-BGL</td>\n",
              "      <td>baghlān</td>\n",
              "      <td>Province</td>\n",
              "      <td>NaN</td>\n",
              "      <td>AFG</td>\n",
              "      <td>afghanistan</td>\n",
              "      <td>4</td>\n",
              "    </tr>\n",
              "  </tbody>\n",
              "</table>\n",
              "</div>"
            ],
            "text/plain": [
              "  country_alpha_2 sd_code  ... country_name country_numeric\n",
              "0              AF  AF-BAL  ...  afghanistan               4\n",
              "1              AF  AF-BAM  ...  afghanistan               4\n",
              "2              AF  AF-BDG  ...  afghanistan               4\n",
              "3              AF  AF-BDS  ...  afghanistan               4\n",
              "4              AF  AF-BGL  ...  afghanistan               4\n",
              "\n",
              "[5 rows x 8 columns]"
            ]
          },
          "metadata": {
            "tags": []
          },
          "execution_count": 85
        }
      ]
    },
    {
      "cell_type": "code",
      "metadata": {
        "id": "vlQcTsDnxi7n",
        "colab_type": "code",
        "colab": {
          "base_uri": "https://localhost:8080/",
          "height": 243
        },
        "outputId": "748f154d-8746-4bb3-f6be-fb5dba29412b"
      },
      "source": [
        "df_country_admins.info()"
      ],
      "execution_count": 86,
      "outputs": [
        {
          "output_type": "stream",
          "text": [
            "<class 'pandas.core.frame.DataFrame'>\n",
            "Int64Index: 4844 entries, 0 to 4843\n",
            "Data columns (total 8 columns):\n",
            "country_alpha_2    4831 non-null object\n",
            "sd_code            4844 non-null object\n",
            "sd_name            4843 non-null object\n",
            "sd_type            4844 non-null object\n",
            "sd_parent_code     1315 non-null object\n",
            "country_alpha_3    4844 non-null object\n",
            "country_name       4844 non-null object\n",
            "country_numeric    4844 non-null int64\n",
            "dtypes: int64(1), object(7)\n",
            "memory usage: 340.6+ KB\n"
          ],
          "name": "stdout"
        }
      ]
    },
    {
      "cell_type": "code",
      "metadata": {
        "id": "lyMZNMxS1vUk",
        "colab_type": "code",
        "colab": {
          "base_uri": "https://localhost:8080/",
          "height": 104
        },
        "outputId": "ca825642-cf94-457e-8adf-c866098a54c9"
      },
      "source": [
        "df_country_admins['sd_name'][4234] = \"nan\""
      ],
      "execution_count": 87,
      "outputs": [
        {
          "output_type": "stream",
          "text": [
            "/usr/local/lib/python3.6/dist-packages/ipykernel_launcher.py:1: SettingWithCopyWarning: \n",
            "A value is trying to be set on a copy of a slice from a DataFrame\n",
            "\n",
            "See the caveats in the documentation: http://pandas.pydata.org/pandas-docs/stable/user_guide/indexing.html#returning-a-view-versus-a-copy\n",
            "  \"\"\"Entry point for launching an IPython kernel.\n"
          ],
          "name": "stderr"
        }
      ]
    },
    {
      "cell_type": "code",
      "metadata": {
        "id": "nILkNRAeyn8F",
        "colab_type": "code",
        "colab": {
          "base_uri": "https://localhost:8080/",
          "height": 347
        },
        "outputId": "aa4f9f2a-3367-4d85-d9e0-95eaddece153"
      },
      "source": [
        "df_country_admins[df_country_admins['country_alpha_3'] == \"THA\"][40:50]"
      ],
      "execution_count": 38,
      "outputs": [
        {
          "output_type": "execute_result",
          "data": {
            "text/html": [
              "<div>\n",
              "<style scoped>\n",
              "    .dataframe tbody tr th:only-of-type {\n",
              "        vertical-align: middle;\n",
              "    }\n",
              "\n",
              "    .dataframe tbody tr th {\n",
              "        vertical-align: top;\n",
              "    }\n",
              "\n",
              "    .dataframe thead th {\n",
              "        text-align: right;\n",
              "    }\n",
              "</style>\n",
              "<table border=\"1\" class=\"dataframe\">\n",
              "  <thead>\n",
              "    <tr style=\"text-align: right;\">\n",
              "      <th></th>\n",
              "      <th>country_alpha_2</th>\n",
              "      <th>sd_code</th>\n",
              "      <th>sd_name</th>\n",
              "      <th>sd_type</th>\n",
              "      <th>sd_parent_code</th>\n",
              "      <th>country_alpha_3</th>\n",
              "      <th>country_name</th>\n",
              "      <th>country_numeric</th>\n",
              "    </tr>\n",
              "  </thead>\n",
              "  <tbody>\n",
              "    <tr>\n",
              "      <th>4232</th>\n",
              "      <td>TH</td>\n",
              "      <td>TH-53</td>\n",
              "      <td>uttaradit</td>\n",
              "      <td>Province</td>\n",
              "      <td>NaN</td>\n",
              "      <td>THA</td>\n",
              "      <td>thailand</td>\n",
              "      <td>764</td>\n",
              "    </tr>\n",
              "    <tr>\n",
              "      <th>4233</th>\n",
              "      <td>TH</td>\n",
              "      <td>TH-54</td>\n",
              "      <td>phrae</td>\n",
              "      <td>Province</td>\n",
              "      <td>NaN</td>\n",
              "      <td>THA</td>\n",
              "      <td>thailand</td>\n",
              "      <td>764</td>\n",
              "    </tr>\n",
              "    <tr>\n",
              "      <th>4234</th>\n",
              "      <td>TH</td>\n",
              "      <td>TH-55</td>\n",
              "      <td>nan</td>\n",
              "      <td>Province</td>\n",
              "      <td>NaN</td>\n",
              "      <td>THA</td>\n",
              "      <td>thailand</td>\n",
              "      <td>764</td>\n",
              "    </tr>\n",
              "    <tr>\n",
              "      <th>4235</th>\n",
              "      <td>TH</td>\n",
              "      <td>TH-56</td>\n",
              "      <td>phayao</td>\n",
              "      <td>Province</td>\n",
              "      <td>NaN</td>\n",
              "      <td>THA</td>\n",
              "      <td>thailand</td>\n",
              "      <td>764</td>\n",
              "    </tr>\n",
              "    <tr>\n",
              "      <th>4236</th>\n",
              "      <td>TH</td>\n",
              "      <td>TH-57</td>\n",
              "      <td>chiang rai</td>\n",
              "      <td>Province</td>\n",
              "      <td>NaN</td>\n",
              "      <td>THA</td>\n",
              "      <td>thailand</td>\n",
              "      <td>764</td>\n",
              "    </tr>\n",
              "    <tr>\n",
              "      <th>4237</th>\n",
              "      <td>TH</td>\n",
              "      <td>TH-58</td>\n",
              "      <td>mae hong son</td>\n",
              "      <td>Province</td>\n",
              "      <td>NaN</td>\n",
              "      <td>THA</td>\n",
              "      <td>thailand</td>\n",
              "      <td>764</td>\n",
              "    </tr>\n",
              "    <tr>\n",
              "      <th>4238</th>\n",
              "      <td>TH</td>\n",
              "      <td>TH-60</td>\n",
              "      <td>nakhon sawan</td>\n",
              "      <td>Province</td>\n",
              "      <td>NaN</td>\n",
              "      <td>THA</td>\n",
              "      <td>thailand</td>\n",
              "      <td>764</td>\n",
              "    </tr>\n",
              "    <tr>\n",
              "      <th>4239</th>\n",
              "      <td>TH</td>\n",
              "      <td>TH-61</td>\n",
              "      <td>uthai thani</td>\n",
              "      <td>Province</td>\n",
              "      <td>NaN</td>\n",
              "      <td>THA</td>\n",
              "      <td>thailand</td>\n",
              "      <td>764</td>\n",
              "    </tr>\n",
              "    <tr>\n",
              "      <th>4240</th>\n",
              "      <td>TH</td>\n",
              "      <td>TH-62</td>\n",
              "      <td>kamphaeng phet</td>\n",
              "      <td>Province</td>\n",
              "      <td>NaN</td>\n",
              "      <td>THA</td>\n",
              "      <td>thailand</td>\n",
              "      <td>764</td>\n",
              "    </tr>\n",
              "    <tr>\n",
              "      <th>4241</th>\n",
              "      <td>TH</td>\n",
              "      <td>TH-63</td>\n",
              "      <td>tak</td>\n",
              "      <td>Province</td>\n",
              "      <td>NaN</td>\n",
              "      <td>THA</td>\n",
              "      <td>thailand</td>\n",
              "      <td>764</td>\n",
              "    </tr>\n",
              "  </tbody>\n",
              "</table>\n",
              "</div>"
            ],
            "text/plain": [
              "     country_alpha_2 sd_code  ... country_name country_numeric\n",
              "4232              TH   TH-53  ...     thailand             764\n",
              "4233              TH   TH-54  ...     thailand             764\n",
              "4234              TH   TH-55  ...     thailand             764\n",
              "4235              TH   TH-56  ...     thailand             764\n",
              "4236              TH   TH-57  ...     thailand             764\n",
              "4237              TH   TH-58  ...     thailand             764\n",
              "4238              TH   TH-60  ...     thailand             764\n",
              "4239              TH   TH-61  ...     thailand             764\n",
              "4240              TH   TH-62  ...     thailand             764\n",
              "4241              TH   TH-63  ...     thailand             764\n",
              "\n",
              "[10 rows x 8 columns]"
            ]
          },
          "metadata": {
            "tags": []
          },
          "execution_count": 38
        }
      ]
    },
    {
      "cell_type": "code",
      "metadata": {
        "id": "m-5B7yqfgpdn",
        "colab_type": "code",
        "colab": {
          "base_uri": "https://localhost:8080/",
          "height": 553
        },
        "outputId": "ee047931-07ce-4140-e134-498d0312fcf0"
      },
      "source": [
        "df_updated = df.merge(df_country_admins,how='left',left_on='admin',right_on='sd_name').reset_index(drop=True)\n",
        "df_updated.head()"
      ],
      "execution_count": 88,
      "outputs": [
        {
          "output_type": "execute_result",
          "data": {
            "text/html": [
              "<div>\n",
              "<style scoped>\n",
              "    .dataframe tbody tr th:only-of-type {\n",
              "        vertical-align: middle;\n",
              "    }\n",
              "\n",
              "    .dataframe tbody tr th {\n",
              "        vertical-align: top;\n",
              "    }\n",
              "\n",
              "    .dataframe thead th {\n",
              "        text-align: right;\n",
              "    }\n",
              "</style>\n",
              "<table border=\"1\" class=\"dataframe\">\n",
              "  <thead>\n",
              "    <tr style=\"text-align: right;\">\n",
              "      <th></th>\n",
              "      <th>city_entity</th>\n",
              "      <th>city</th>\n",
              "      <th>country_entity</th>\n",
              "      <th>country</th>\n",
              "      <th>admin_entity</th>\n",
              "      <th>admin</th>\n",
              "      <th>combined</th>\n",
              "      <th>country_alpha_2</th>\n",
              "      <th>sd_code</th>\n",
              "      <th>sd_name</th>\n",
              "      <th>sd_type</th>\n",
              "      <th>sd_parent_code</th>\n",
              "      <th>country_alpha_3</th>\n",
              "      <th>country_name</th>\n",
              "      <th>country_numeric</th>\n",
              "    </tr>\n",
              "  </thead>\n",
              "  <tbody>\n",
              "    <tr>\n",
              "      <th>0</th>\n",
              "      <td>http://www.wikidata.org/entity/Q60</td>\n",
              "      <td>new york city</td>\n",
              "      <td>http://www.wikidata.org/entity/Q30</td>\n",
              "      <td>united states of america</td>\n",
              "      <td>http://www.wikidata.org/entity/Q1384</td>\n",
              "      <td>new york</td>\n",
              "      <td>{\"label\": \"GPE_city\", \"pattern\": [{\"LOWER\": \"n...</td>\n",
              "      <td>US</td>\n",
              "      <td>US-NY</td>\n",
              "      <td>new york</td>\n",
              "      <td>State</td>\n",
              "      <td>NaN</td>\n",
              "      <td>USA</td>\n",
              "      <td>united states</td>\n",
              "      <td>840.0</td>\n",
              "    </tr>\n",
              "    <tr>\n",
              "      <th>1</th>\n",
              "      <td>http://www.wikidata.org/entity/Q64</td>\n",
              "      <td>berlin</td>\n",
              "      <td>http://www.wikidata.org/entity/Q183</td>\n",
              "      <td>germany</td>\n",
              "      <td>http://www.wikidata.org/entity/Q183</td>\n",
              "      <td>germany</td>\n",
              "      <td>{\"label\": \"GPE_city\", \"pattern\": [{\"LOWER\": \"b...</td>\n",
              "      <td>NaN</td>\n",
              "      <td>NaN</td>\n",
              "      <td>NaN</td>\n",
              "      <td>NaN</td>\n",
              "      <td>NaN</td>\n",
              "      <td>NaN</td>\n",
              "      <td>NaN</td>\n",
              "      <td>NaN</td>\n",
              "    </tr>\n",
              "    <tr>\n",
              "      <th>2</th>\n",
              "      <td>http://www.wikidata.org/entity/Q65</td>\n",
              "      <td>los angeles</td>\n",
              "      <td>http://www.wikidata.org/entity/Q30</td>\n",
              "      <td>united states of america</td>\n",
              "      <td>http://www.wikidata.org/entity/Q104994</td>\n",
              "      <td>los angeles county</td>\n",
              "      <td>{\"label\": \"GPE_city\", \"pattern\": [{\"LOWER\": \"l...</td>\n",
              "      <td>NaN</td>\n",
              "      <td>NaN</td>\n",
              "      <td>NaN</td>\n",
              "      <td>NaN</td>\n",
              "      <td>NaN</td>\n",
              "      <td>NaN</td>\n",
              "      <td>NaN</td>\n",
              "      <td>NaN</td>\n",
              "    </tr>\n",
              "    <tr>\n",
              "      <th>3</th>\n",
              "      <td>http://www.wikidata.org/entity/Q84</td>\n",
              "      <td>london</td>\n",
              "      <td>http://www.wikidata.org/entity/Q145</td>\n",
              "      <td>united kingdom</td>\n",
              "      <td>http://www.wikidata.org/entity/Q23306</td>\n",
              "      <td>greater london</td>\n",
              "      <td>{\"label\": \"GPE_city\", \"pattern\": [{\"LOWER\": \"l...</td>\n",
              "      <td>NaN</td>\n",
              "      <td>NaN</td>\n",
              "      <td>NaN</td>\n",
              "      <td>NaN</td>\n",
              "      <td>NaN</td>\n",
              "      <td>NaN</td>\n",
              "      <td>NaN</td>\n",
              "      <td>NaN</td>\n",
              "    </tr>\n",
              "    <tr>\n",
              "      <th>4</th>\n",
              "      <td>http://www.wikidata.org/entity/Q87</td>\n",
              "      <td>alexandria</td>\n",
              "      <td>http://www.wikidata.org/entity/Q79</td>\n",
              "      <td>egypt</td>\n",
              "      <td>http://www.wikidata.org/entity/Q29943</td>\n",
              "      <td>alexandria governorate</td>\n",
              "      <td>{\"label\": \"GPE_city\", \"pattern\": [{\"LOWER\": \"a...</td>\n",
              "      <td>NaN</td>\n",
              "      <td>NaN</td>\n",
              "      <td>NaN</td>\n",
              "      <td>NaN</td>\n",
              "      <td>NaN</td>\n",
              "      <td>NaN</td>\n",
              "      <td>NaN</td>\n",
              "      <td>NaN</td>\n",
              "    </tr>\n",
              "  </tbody>\n",
              "</table>\n",
              "</div>"
            ],
            "text/plain": [
              "                          city_entity  ... country_numeric\n",
              "0  http://www.wikidata.org/entity/Q60  ...           840.0\n",
              "1  http://www.wikidata.org/entity/Q64  ...             NaN\n",
              "2  http://www.wikidata.org/entity/Q65  ...             NaN\n",
              "3  http://www.wikidata.org/entity/Q84  ...             NaN\n",
              "4  http://www.wikidata.org/entity/Q87  ...             NaN\n",
              "\n",
              "[5 rows x 15 columns]"
            ]
          },
          "metadata": {
            "tags": []
          },
          "execution_count": 88
        }
      ]
    },
    {
      "cell_type": "code",
      "metadata": {
        "id": "1SycojFci3lr",
        "colab_type": "code",
        "colab": {
          "base_uri": "https://localhost:8080/",
          "height": 365
        },
        "outputId": "4f3b51d5-24d8-4741-fb6a-1d11eeb55513"
      },
      "source": [
        "df_updated.info()"
      ],
      "execution_count": 89,
      "outputs": [
        {
          "output_type": "stream",
          "text": [
            "<class 'pandas.core.frame.DataFrame'>\n",
            "RangeIndex: 678 entries, 0 to 677\n",
            "Data columns (total 15 columns):\n",
            "city_entity        678 non-null object\n",
            "city               678 non-null object\n",
            "country_entity     678 non-null object\n",
            "country            678 non-null object\n",
            "admin_entity       678 non-null object\n",
            "admin              678 non-null object\n",
            "combined           678 non-null object\n",
            "country_alpha_2    59 non-null object\n",
            "sd_code            59 non-null object\n",
            "sd_name            59 non-null object\n",
            "sd_type            59 non-null object\n",
            "sd_parent_code     5 non-null object\n",
            "country_alpha_3    59 non-null object\n",
            "country_name       59 non-null object\n",
            "country_numeric    59 non-null float64\n",
            "dtypes: float64(1), object(14)\n",
            "memory usage: 79.6+ KB\n"
          ],
          "name": "stdout"
        }
      ]
    },
    {
      "cell_type": "code",
      "metadata": {
        "id": "nYNLCo4t2Rtw",
        "colab_type": "code",
        "colab": {
          "base_uri": "https://localhost:8080/",
          "height": 164
        },
        "outputId": "67e7fae8-38e9-49eb-e70c-b5cf8c68c5f9"
      },
      "source": [
        "df_updated.query('city == \"coquimbo\"')"
      ],
      "execution_count": 42,
      "outputs": [
        {
          "output_type": "execute_result",
          "data": {
            "text/html": [
              "<div>\n",
              "<style scoped>\n",
              "    .dataframe tbody tr th:only-of-type {\n",
              "        vertical-align: middle;\n",
              "    }\n",
              "\n",
              "    .dataframe tbody tr th {\n",
              "        vertical-align: top;\n",
              "    }\n",
              "\n",
              "    .dataframe thead th {\n",
              "        text-align: right;\n",
              "    }\n",
              "</style>\n",
              "<table border=\"1\" class=\"dataframe\">\n",
              "  <thead>\n",
              "    <tr style=\"text-align: right;\">\n",
              "      <th></th>\n",
              "      <th>city_entity</th>\n",
              "      <th>city</th>\n",
              "      <th>country_entity</th>\n",
              "      <th>country</th>\n",
              "      <th>admin_entity</th>\n",
              "      <th>admin</th>\n",
              "      <th>combined</th>\n",
              "      <th>country_alpha_2</th>\n",
              "      <th>sd_code</th>\n",
              "      <th>sd_name</th>\n",
              "      <th>sd_type</th>\n",
              "      <th>sd_parent_code</th>\n",
              "      <th>country_alpha_3</th>\n",
              "      <th>country_name</th>\n",
              "      <th>country_numeric</th>\n",
              "    </tr>\n",
              "  </thead>\n",
              "  <tbody>\n",
              "    <tr>\n",
              "      <th>4</th>\n",
              "      <td>http://www.wikidata.org/entity/Q3871</td>\n",
              "      <td>coquimbo</td>\n",
              "      <td>http://www.wikidata.org/entity/Q298</td>\n",
              "      <td>chile</td>\n",
              "      <td>http://www.wikidata.org/entity/Q23660214</td>\n",
              "      <td>coquimbo</td>\n",
              "      <td>{\"label\": \"GPE_city\", \"pattern\": [{\"LOWER\": \"c...</td>\n",
              "      <td>CL</td>\n",
              "      <td>CL-CO</td>\n",
              "      <td>coquimbo</td>\n",
              "      <td>Region</td>\n",
              "      <td>NaN</td>\n",
              "      <td>CHL</td>\n",
              "      <td>chile</td>\n",
              "      <td>152.0</td>\n",
              "    </tr>\n",
              "  </tbody>\n",
              "</table>\n",
              "</div>"
            ],
            "text/plain": [
              "                            city_entity      city  ... country_name country_numeric\n",
              "4  http://www.wikidata.org/entity/Q3871  coquimbo  ...        chile           152.0\n",
              "\n",
              "[1 rows x 15 columns]"
            ]
          },
          "metadata": {
            "tags": []
          },
          "execution_count": 42
        }
      ]
    },
    {
      "cell_type": "code",
      "metadata": {
        "id": "lJW6eDkejSR8",
        "colab_type": "code",
        "colab": {
          "base_uri": "https://localhost:8080/",
          "height": 34
        },
        "outputId": "618a22a2-292c-4614-81fd-2801e7340c53"
      },
      "source": [
        "grouped = df_updated.groupby(['country'])\n",
        "type(grouped)"
      ],
      "execution_count": 44,
      "outputs": [
        {
          "output_type": "execute_result",
          "data": {
            "text/plain": [
              "pandas.core.groupby.generic.DataFrameGroupBy"
            ]
          },
          "metadata": {
            "tags": []
          },
          "execution_count": 44
        }
      ]
    },
    {
      "cell_type": "code",
      "metadata": {
        "id": "h-dlw7C3WLgi",
        "colab_type": "code",
        "colab": {
          "base_uri": "https://localhost:8080/",
          "height": 191
        },
        "outputId": "84696fd1-0549-4639-f678-ba2930b99ece"
      },
      "source": [
        "r_list[:10]"
      ],
      "execution_count": 43,
      "outputs": [
        {
          "output_type": "execute_result",
          "data": {
            "text/plain": [
              "[\"'s hertogenbosch\",\n",
              " 'a coruña',\n",
              " 'aachen',\n",
              " 'aalborg',\n",
              " 'aarhus',\n",
              " 'aba',\n",
              " 'abadan',\n",
              " 'abakan',\n",
              " 'abbotsford',\n",
              " 'abbottabad']"
            ]
          },
          "metadata": {
            "tags": []
          },
          "execution_count": 43
        }
      ]
    },
    {
      "cell_type": "code",
      "metadata": {
        "id": "jPYeaXwSg-5j",
        "colab_type": "code",
        "colab": {
          "base_uri": "https://localhost:8080/",
          "height": 556
        },
        "outputId": "1ffc5c4f-2171-454b-ca90-381fe71f607d"
      },
      "source": [
        "list(grouped)[1][1]['city']"
      ],
      "execution_count": 63,
      "outputs": [
        {
          "output_type": "execute_result",
          "data": {
            "text/plain": [
              "255              kabul\n",
              "943              herat\n",
              "944           kandahar\n",
              "1706          asadabad\n",
              "1818            bamyan\n",
              "2026       chaghcharan\n",
              "2199    mazar-i-sharif\n",
              "2200    mazar-i-sharif\n",
              "2416           baghlan\n",
              "3719            ghazni\n",
              "3887         sar-e pol\n",
              "3945             qalat\n",
              "4116            gardēz\n",
              "4131            zaranj\n",
              "4134       lashkar gah\n",
              "4135      pul-e khomri\n",
              "4140           taloqan\n",
              "4373        sheberghan\n",
              "5050         jalalabad\n",
              "5150             farah\n",
              "5712             kholm\n",
              "6793          samangan\n",
              "6962           andkhoy\n",
              "7290         khan abad\n",
              "7382             kishm\n",
              "7540        euthydemia\n",
              "7675     qalʻah-ye zāl\n",
              "7747           sharana\n",
              "7874           watapur\n",
              "7944          shindand\n",
              "Name: city, dtype: object"
            ]
          },
          "metadata": {
            "tags": []
          },
          "execution_count": 63
        }
      ]
    },
    {
      "cell_type": "code",
      "metadata": {
        "id": "i1kUlQ6xcVv4",
        "colab_type": "code",
        "colab": {}
      },
      "source": [
        "wiki = MediaWiki()"
      ],
      "execution_count": 0,
      "outputs": []
    },
    {
      "cell_type": "code",
      "metadata": {
        "id": "sLDoIXvdyQ1a",
        "colab_type": "code",
        "colab": {
          "base_uri": "https://localhost:8080/",
          "height": 54
        },
        "outputId": "1ee84692-b187-4a07-8896-f1e1cc20e7f6"
      },
      "source": [
        "wiki.summary(title='Catania',sentences=3)"
      ],
      "execution_count": 45,
      "outputs": [
        {
          "output_type": "execute_result",
          "data": {
            "text/plain": [
              "'Catania (UK: , US: , Sicilian and Italian: [kaˈtaːnja] (listen)) is the second largest city of Sicily after Palermo; it is located on the east coast facing the Ionian Sea. It is the capital of the Metropolitan City of Catania, one of the ten biggest cities in Italy, and the seventh largest metropolitan city in Italy. The population of the city proper is 311,584 while the population of the Metropolitan City of Catania is 1,107,702.Catania was destroyed by catastrophic earthquakes in 1169 and 1693, and by several volcanic eruptions from the neighbouring Mount Etna, the most violent of which was in 1669.Catania was founded in the 8th century BC by Chalcidians.'"
            ]
          },
          "metadata": {
            "tags": []
          },
          "execution_count": 45
        }
      ]
    },
    {
      "cell_type": "code",
      "metadata": {
        "id": "z0J2aVE2a3Bw",
        "colab_type": "code",
        "colab": {
          "base_uri": "https://localhost:8080/",
          "height": 54
        },
        "outputId": "1587e989-0485-475c-e869-10546e9ee23d"
      },
      "source": [
        "wikipedia.summary(\"Catania\")"
      ],
      "execution_count": 46,
      "outputs": [
        {
          "output_type": "execute_result",
          "data": {
            "text/plain": [
              "\"Catania (UK: , US: , Sicilian and Italian: [kaˈtaːnja] (listen)) is the second largest city of Sicily after Palermo; it is located on the east coast facing the Ionian Sea. It is the capital of the Metropolitan City of Catania, one of the ten biggest cities in Italy, and the seventh largest metropolitan city in Italy. The population of the city proper is 311,584 while the population of the Metropolitan City of Catania is 1,107,702.Catania was destroyed by catastrophic earthquakes in 1169 and 1693, and by several volcanic eruptions from the neighbouring Mount Etna, the most violent of which was in 1669.Catania was founded in the 8th century BC by Chalcidians. In 1434, the first university in Sicily was founded in the city. In the 14th century and into the Renaissance period, Catania was one of Italy's most important cultural, artistic and political centres.The city is noted for its history, culture, architecture and gastronomy. Its old town, besides being one of the biggest examples of baroque architecture in Italy, is a World Heritage Site, protected by UNESCO.\\nCatania has been a native or adoptive homeland of some of Italy's most famous artists and writers, including composers Vincenzo Bellini and Giovanni Pacini, and writers Giovanni Verga, Luigi Capuana, Federico De Roberto and Nino Martoglio.\\nThe city is the main industrial, logistical and commercial center of Sicily. It is the home of the Catania-Fontanarossa Airport, the largest in Southern Italy.\\n\\n\""
            ]
          },
          "metadata": {
            "tags": []
          },
          "execution_count": 46
        }
      ]
    },
    {
      "cell_type": "code",
      "metadata": {
        "id": "JzRxDugIcaNR",
        "colab_type": "code",
        "colab": {}
      },
      "source": [
        "summaries = []\n",
        "for item in r_list:\n",
        "  summaries.append(get_city_summary(item,3))"
      ],
      "execution_count": 0,
      "outputs": []
    },
    {
      "cell_type": "code",
      "metadata": {
        "id": "agswN4rYebgy",
        "colab_type": "code",
        "colab": {
          "base_uri": "https://localhost:8080/",
          "height": 34
        },
        "outputId": "c7e9e509-04e0-446f-ef4d-43abf6ab8efe"
      },
      "source": [
        "len(r_list)"
      ],
      "execution_count": 92,
      "outputs": [
        {
          "output_type": "execute_result",
          "data": {
            "text/plain": [
              "604"
            ]
          },
          "metadata": {
            "tags": []
          },
          "execution_count": 92
        }
      ]
    },
    {
      "cell_type": "code",
      "metadata": {
        "id": "cWAnpZbkeV7q",
        "colab_type": "code",
        "colab": {
          "base_uri": "https://localhost:8080/",
          "height": 34
        },
        "outputId": "b82987a8-bdcb-4760-acf2-d505f5b4a02a"
      },
      "source": [
        "len(summaries)"
      ],
      "execution_count": 93,
      "outputs": [
        {
          "output_type": "execute_result",
          "data": {
            "text/plain": [
              "604"
            ]
          },
          "metadata": {
            "tags": []
          },
          "execution_count": 93
        }
      ]
    },
    {
      "cell_type": "code",
      "metadata": {
        "id": "32zKaEn5eeN8",
        "colab_type": "code",
        "colab": {
          "base_uri": "https://localhost:8080/",
          "height": 211
        },
        "outputId": "9fd4cb7c-ed65-45ac-b150-d2b9e34d42c8"
      },
      "source": [
        "summaries[:10]"
      ],
      "execution_count": 94,
      "outputs": [
        {
          "output_type": "execute_result",
          "data": {
            "text/plain": [
              "[\"Abidjan ( AB-ih-JAHN, French: [abidʒɑ̃]) is the economic capital of Ivory Coast and one of the most populous French-speaking cities in Africa. According to the 2014 census, Abidjan's population was 4.7 million, which is 20 percent of the overall population of the country, and this also makes it the sixth most populous city proper in Africa, after Lagos, Cairo, Kinshasa, Dar es Salaam, and Johannesburg. A cultural crossroads of West Africa, Abidjan is characterised by a high level of industrialisation and urbanisation.\",\n",
              " 'Accra  is the capital of Ghana covering an area of 225.67 km2 (87.13 sq mi) with an estimated urban population of 2.27 million as of 2012. It is organized into 12 local government districts – 11 municipal districts and the Accra Metropolitan District, which is the only district within the capital to be granted city status. \"Accra\" usually refers to the Accra Metropolitan Area, which serves as the capital of Ghana, while the district which is within the jurisdiction of the Accra Metropolitan Assembly is distinguished from the rest of the capital as the \"City of Accra\".',\n",
              " 'Adana (pronounced [aˈda.na]; Armenian: Ադանա; Ancient Greek: Άδανα, Arabic: أضنة\\u200e) is a major city in southern Turkey. The city is situated on the Seyhan river, 35 km (22 mi) inland from the Mediterranean, in south-central Anatolia. It is the administrative seat of the Adana Province and has a population of 1.75 million, making it the 5th most populated city in Turkey.',\n",
              " 'Addis Ababa (Amharic: አዲስ አበባ, Addis Abäba IPA: [adˈdis ˈabəba] (listen), \"new flower\") or Addis Abeba, also known as Finfinne  (Oromo: Finfinne \"natural spring\"), is the capital and largest city of Ethiopia. According to the 2007 census, the city has a population of 2,739,551 inhabitants.As a chartered city, Addis Ababa also serves as the capital city of Oromia. It is where the African Union is headquartered and where its predecessor the Organisation of African Unity (OAU) was based.',\n",
              " 'Agra ( (listen)) is a city on the banks of the Yamuna river in the Indian state of Uttar Pradesh. It is 206 kilometres (128 mi) south of the national capital New Delhi. Agra is the fourth-most populous city in Uttar Pradesh and 24th in India.Agra is a major tourist destination because of its many Mughal-era buildings, most notably the Taj Mahal, Agra Fort and Fatehpur Sikri, all of which are UNESCO World Heritage Sites.',\n",
              " \"Ahmedabad ( (listen), pronounced as Amdavad in Gujarati) is the largest city and former capital of the Indian state of Gujarat. It is the administrative headquarters of the Ahmadabad district and the seat of the Gujarat High Court. Ahmedabad's population of 5,633,927 (as per 2011 population census) makes it the fifth-most populous city in India, and the encompassing urban agglomeration population estimated at 6,357,693 is the seventh-most populous in India.\",\n",
              " \"Ahvaz (Persian: اهواز\\u200e, romanized: Ahvāz), also known as Ahwaz or Al-Ahwaz (Arabic: الأهواز\\u200e or الأحواز), is a city in the southwest of Iran and the capital of Khuzestan province. Ahvaz's population is about 1,300,000 and its built-up area with the nearby town of Sheybani is home to 1,136,989 inhabitants. It is home to Persians, Arabs, Bakhtiaris, Dezfulis, Shushtaris, etc.\",\n",
              " \"Al Ahsa (Arabic: ٱلْأَحْسَاء\\u200e, romanized: Al-Aḥsāʾ, locally pronounced al-Ḥasāʾ (Arabic: الحَسا\\u200e)) is the largest governorate in Saudi Arabia's Eastern Province, named after the Al-Ahsa Oasis. The name Al-Ahsa is also given to the biggest city in the governorate, Hofuf. In Classical Arabic, 'Ahsa' means the sound of water underground.\",\n",
              " \"Albuquerque ( (listen) AL-bə-kur-kee; Navajo: Beeʼeldííl Dahsinil [pèːʔèltíːl tɑ̀xsɪ̀nɪ̀l]; Eastern Keres: Arawageeki; Jemez: Vakêêke; Zuni: Alo:ke:k'ya; Jicarilla Apache: Gołgéeki'yé), abbreviated as ABQ, is the most populous city in the U.S. state of New Mexico, and the 32nd-most populous city in the United States. The city's nicknames are The Duke City and Burque, both of which reference its 1706 founding by Nuevo México governor Francisco Cuervo y Valdés as La Villa de Alburquerque, named in honor of then Viceroy the 10th Duke of Alburquerque, the Villa was an outpost on El Camino Real for the Tiquex and Hispano towns in the area (such as Barelas, Corrales, Isleta Pueblo, Los Ranchos, and Sandia Pueblo). Since the city's founding it has continued to be included on travel and trade routes including Santa Fe Railway (ATSF), Route 66, Interstate 25, Interstate 40, and the Albuquerque International Sunport.\",\n",
              " 'Aleppo  (; Arabic: ﺣَﻠَﺐ\\u200e / ALA-LC: Ḥalab, IPA: [ˈħalab]; French: Alep) is a city in Syria, which serves as the capital of the Aleppo Governorate, the most populous Syrian governorate. With an official population of 4.6 million in 2010, Aleppo was the largest Syrian city before the Syrian Civil War; however, it is now the second-largest city in Syria, after the capital Damascus.Aleppo is one of the oldest continuously inhabited cities in the world; it may have been inhabited since the 6th millennium BC. Excavations at Tell as-Sawda and Tell al-Ansari, just south of the old city of Aleppo, show that the area was occupied by Amorites since at least the latter part of the 3rd millennium BC. That is also the time at which Aleppo is first mentioned in cuneiform tablets unearthed in Ebla and Mesopotamia, which speak of it as part of the Amorite state of Yamhad, and note its commercial and military proficiency. Such a long history is attributed to its strategic location as a trading center midway between the Mediterranean Sea and Mesopotamia.']"
            ]
          },
          "metadata": {
            "tags": []
          },
          "execution_count": 94
        }
      ]
    },
    {
      "cell_type": "code",
      "metadata": {
        "id": "_ufV6ul5clVD",
        "colab_type": "code",
        "colab": {
          "base_uri": "https://localhost:8080/",
          "height": 197
        },
        "outputId": "ddd3bc86-99da-403f-f1c7-d0a95e353f72"
      },
      "source": [
        "df_nlp = pd.DataFrame({'city_names':r_list,'wiki_summary_projected':summaries})\n",
        "df_nlp.head()\n"
      ],
      "execution_count": 95,
      "outputs": [
        {
          "output_type": "execute_result",
          "data": {
            "text/html": [
              "<div>\n",
              "<style scoped>\n",
              "    .dataframe tbody tr th:only-of-type {\n",
              "        vertical-align: middle;\n",
              "    }\n",
              "\n",
              "    .dataframe tbody tr th {\n",
              "        vertical-align: top;\n",
              "    }\n",
              "\n",
              "    .dataframe thead th {\n",
              "        text-align: right;\n",
              "    }\n",
              "</style>\n",
              "<table border=\"1\" class=\"dataframe\">\n",
              "  <thead>\n",
              "    <tr style=\"text-align: right;\">\n",
              "      <th></th>\n",
              "      <th>city_names</th>\n",
              "      <th>wiki_summary_projected</th>\n",
              "    </tr>\n",
              "  </thead>\n",
              "  <tbody>\n",
              "    <tr>\n",
              "      <th>0</th>\n",
              "      <td>abidjan</td>\n",
              "      <td>Abidjan ( AB-ih-JAHN, French: [abidʒɑ̃]) is th...</td>\n",
              "    </tr>\n",
              "    <tr>\n",
              "      <th>1</th>\n",
              "      <td>accra</td>\n",
              "      <td>Accra  is the capital of Ghana covering an are...</td>\n",
              "    </tr>\n",
              "    <tr>\n",
              "      <th>2</th>\n",
              "      <td>adana</td>\n",
              "      <td>Adana (pronounced [aˈda.na]; Armenian: Ադանա; ...</td>\n",
              "    </tr>\n",
              "    <tr>\n",
              "      <th>3</th>\n",
              "      <td>addis ababa</td>\n",
              "      <td>Addis Ababa (Amharic: አዲስ አበባ, Addis Abäba IPA...</td>\n",
              "    </tr>\n",
              "    <tr>\n",
              "      <th>4</th>\n",
              "      <td>agra</td>\n",
              "      <td>Agra ( (listen)) is a city on the banks of the...</td>\n",
              "    </tr>\n",
              "  </tbody>\n",
              "</table>\n",
              "</div>"
            ],
            "text/plain": [
              "    city_names                             wiki_summary_projected\n",
              "0      abidjan  Abidjan ( AB-ih-JAHN, French: [abidʒɑ̃]) is th...\n",
              "1        accra  Accra  is the capital of Ghana covering an are...\n",
              "2        adana  Adana (pronounced [aˈda.na]; Armenian: Ադանա; ...\n",
              "3  addis ababa  Addis Ababa (Amharic: አዲስ አበባ, Addis Abäba IPA...\n",
              "4         agra  Agra ( (listen)) is a city on the banks of the..."
            ]
          },
          "metadata": {
            "tags": []
          },
          "execution_count": 95
        }
      ]
    },
    {
      "cell_type": "code",
      "metadata": {
        "id": "mogxfZBIxIMn",
        "colab_type": "code",
        "colab": {
          "base_uri": "https://localhost:8080/",
          "height": 54
        },
        "outputId": "15a3d969-b939-45e4-a7dc-3ecfd6d89f0e"
      },
      "source": [
        "df_nlp.query('city_names == \"kerkrade\"')['wiki_summary_projected'][3295]"
      ],
      "execution_count": 117,
      "outputs": [
        {
          "output_type": "execute_result",
          "data": {
            "text/plain": [
              "'Kerkrade (Kerkrade dialect: Kirchroa; German: Kerkrade or Kirchrath) is a town and a municipality in the southeast of Limburg, the southernmost province of the Netherlands. It forms part of the Parkstad Limburg agglomeration.\\nKerkrade is the western half of a divided city; it was part of the German town of Herzogenrath until the Congress of Vienna in 1815 drew the current Dutch-German border and separated the towns. This means that the eastern end of the city marks the international border.\\nThe two towns, including outlying suburban settlements, have a population approaching 100,000, of which nearly 47,000 are in Kerkrade.'"
            ]
          },
          "metadata": {
            "tags": []
          },
          "execution_count": 117
        }
      ]
    },
    {
      "cell_type": "code",
      "metadata": {
        "id": "zEVvJEyCf0lJ",
        "colab_type": "code",
        "colab": {
          "base_uri": "https://localhost:8080/",
          "height": 191
        },
        "outputId": "ba530067-0e26-4f10-fbad-6cb15c6be479"
      },
      "source": [
        "for item in nlp.pipe(df_nlp['wiki_summary_projected'][:10]):\n",
        "  print([(ent.text.lower(), ent.label_) for ent in item.ents if ent.label_ == 'GPE'])\n",
        "\n"
      ],
      "execution_count": 96,
      "outputs": [
        {
          "output_type": "stream",
          "text": [
            "[('ivory coast', 'GPE'), ('abidjan', 'GPE'), ('lagos', 'GPE'), ('cairo', 'GPE'), ('kinshasa', 'GPE'), ('dar es salaam', 'GPE'), ('johannesburg', 'GPE'), ('west africa', 'GPE'), ('abidjan', 'GPE')]\n",
            "[('ghana', 'GPE'), ('ghana', 'GPE')]\n",
            "[('turkey', 'GPE'), ('anatolia', 'GPE'), ('the adana province', 'GPE'), ('turkey', 'GPE')]\n",
            "[('addis ababa', 'GPE'), ('ethiopia', 'GPE'), ('addis ababa', 'GPE'), ('oromia', 'GPE')]\n",
            "[('new delhi', 'GPE'), ('india', 'GPE')]\n",
            "[('gujarati', 'GPE'), ('gujarat', 'GPE'), ('ahmadabad', 'GPE'), ('india', 'GPE'), ('india', 'GPE')]\n",
            "[('iran', 'GPE'), ('khuzestan', 'GPE'), ('bakhtiaris', 'GPE'), ('dezfulis', 'GPE'), ('shushtaris', 'GPE')]\n",
            "[(\"saudi arabia's\", 'GPE'), ('eastern province', 'GPE'), ('hofuf', 'GPE'), ('classical arabic', 'GPE')]\n",
            "[('beeʼeldííl dahsinil', 'GPE'), ('u.s.', 'GPE'), ('new mexico', 'GPE'), ('the united states', 'GPE'), ('the duke city', 'GPE'), ('la villa de alburquerque', 'GPE'), ('pueblo', 'GPE'), ('los ranchos', 'GPE')]\n",
            "[('syria', 'GPE'), ('syria', 'GPE'), ('damascus', 'GPE'), ('ebla', 'GPE')]\n"
          ],
          "name": "stdout"
        }
      ]
    },
    {
      "cell_type": "code",
      "metadata": {
        "id": "KcAzKksfj_bh",
        "colab_type": "code",
        "colab": {}
      },
      "source": [
        "sum_entities = []\n",
        "for item in nlp.pipe(df_nlp['wiki_summary_projected']):\n",
        "  sum_entities.append([k  for k in Counter(sorted([(ent.text.lower(), ent.label_) for ent in item.ents if ent.label_ in ['GPE','NORP']])).keys()])\n"
      ],
      "execution_count": 0,
      "outputs": []
    },
    {
      "cell_type": "code",
      "metadata": {
        "id": "SeQ-f_5-pZw3",
        "colab_type": "code",
        "colab": {
          "base_uri": "https://localhost:8080/",
          "height": 1000
        },
        "outputId": "112c35d4-b2c2-4ac4-9529-e9fdf7164002"
      },
      "source": [
        "sum_entities[:20]"
      ],
      "execution_count": 98,
      "outputs": [
        {
          "output_type": "execute_result",
          "data": {
            "text/plain": [
              "[[('abidjan', 'GPE'),\n",
              "  ('cairo', 'GPE'),\n",
              "  ('dar es salaam', 'GPE'),\n",
              "  ('french', 'NORP'),\n",
              "  ('ivory coast', 'GPE'),\n",
              "  ('johannesburg', 'GPE'),\n",
              "  ('kinshasa', 'GPE'),\n",
              "  ('lagos', 'GPE'),\n",
              "  ('west africa', 'GPE')],\n",
              " [('ghana', 'GPE')],\n",
              " [('anatolia', 'GPE'),\n",
              "  ('armenian', 'NORP'),\n",
              "  ('the adana province', 'GPE'),\n",
              "  ('turkey', 'GPE')],\n",
              " [('addis ababa', 'GPE'), ('ethiopia', 'GPE'), ('oromia', 'GPE')],\n",
              " [('india', 'GPE'),\n",
              "  ('indian', 'NORP'),\n",
              "  ('new delhi', 'GPE'),\n",
              "  ('uttar pradesh', 'NORP')],\n",
              " [('ahmadabad', 'GPE'),\n",
              "  ('gujarat', 'GPE'),\n",
              "  ('gujarati', 'GPE'),\n",
              "  ('india', 'GPE'),\n",
              "  ('indian', 'NORP')],\n",
              " [('arabic', 'NORP'),\n",
              "  ('arabs', 'NORP'),\n",
              "  ('bakhtiaris', 'GPE'),\n",
              "  ('dezfulis', 'GPE'),\n",
              "  ('iran', 'GPE'),\n",
              "  ('khuzestan', 'GPE'),\n",
              "  ('persian', 'NORP'),\n",
              "  ('persians', 'NORP'),\n",
              "  ('sheybani', 'NORP'),\n",
              "  ('shushtaris', 'GPE')],\n",
              " [('arabic', 'NORP'),\n",
              "  ('classical arabic', 'GPE'),\n",
              "  ('eastern province', 'GPE'),\n",
              "  ('hofuf', 'GPE'),\n",
              "  (\"saudi arabia's\", 'GPE')],\n",
              " [('beeʼeldííl dahsinil', 'GPE'),\n",
              "  ('burque', 'NORP'),\n",
              "  ('la villa de alburquerque', 'GPE'),\n",
              "  ('los ranchos', 'GPE'),\n",
              "  ('new mexico', 'GPE'),\n",
              "  ('pueblo', 'GPE'),\n",
              "  ('the duke city', 'GPE'),\n",
              "  ('the united states', 'GPE'),\n",
              "  ('tiquex', 'NORP'),\n",
              "  ('u.s.', 'GPE')],\n",
              " [('amorite', 'NORP'),\n",
              "  ('damascus', 'GPE'),\n",
              "  ('ebla', 'GPE'),\n",
              "  ('french', 'NORP'),\n",
              "  ('syria', 'GPE'),\n",
              "  ('syrian', 'NORP')],\n",
              " [('alexandria', 'NORP'),\n",
              "  ('arab', 'NORP'),\n",
              "  ('arabic', 'NORP'),\n",
              "  ('egypt', 'GPE'),\n",
              "  ('egyptian', 'NORP'),\n",
              "  ('greek', 'NORP')],\n",
              " [('india', 'GPE'), ('kanpur', 'GPE'), ('new delhi', 'GPE')],\n",
              " [('allahabad', 'GPE'),\n",
              "  ('illahabad', 'NORP'),\n",
              "  ('india', 'GPE'),\n",
              "  ('indian', 'NORP')],\n",
              " [('astana', 'GPE'),\n",
              "  ('kazakhstan', 'GPE'),\n",
              "  ('russian', 'NORP'),\n",
              "  ('soviet', 'NORP'),\n",
              "  ('верный', 'NORP')],\n",
              " [('amman', 'GPE'), ('arab', 'NORP'), ('jordan', 'GPE'), ('levant', 'GPE')],\n",
              " [('india', 'GPE'), ('indian', 'NORP'), ('majha', 'GPE'), ('punjab', 'GPE')],\n",
              " [('istanbul', 'GPE'), ('turkey', 'GPE'), ('turkish', 'NORP'), ('us', 'GPE')],\n",
              " [('anhui', 'GPE'),\n",
              "  ('anqing', 'GPE'),\n",
              "  ('chinese', 'NORP'),\n",
              "  ('huaining county', 'GPE'),\n",
              "  ('hwaining', 'GPE'),\n",
              "  (\"people's republic of china\", 'GPE'),\n",
              "  ('the taiping heavenly kingdom', 'GPE')],\n",
              " [('chinese', 'NORP'),\n",
              "  ('liaoning', 'GPE'),\n",
              "  (\"people's republic of china\", 'GPE'),\n",
              "  ('shenyang', 'GPE')],\n",
              " [('china', 'GPE'), ('chinese', 'NORP'), ('guizhou', 'GPE')]]"
            ]
          },
          "metadata": {
            "tags": []
          },
          "execution_count": 98
        }
      ]
    },
    {
      "cell_type": "code",
      "metadata": {
        "id": "Lp9jLkG5jXIX",
        "colab_type": "code",
        "colab": {
          "base_uri": "https://localhost:8080/",
          "height": 281
        },
        "outputId": "9fb7cd6d-d49f-4619-8619-7c4435939998"
      },
      "source": [
        "df_nlp_entities = pd.concat([df_nlp,pd.DataFrame(sum_entities)],axis=1)\n",
        "df_nlp_entities.head()"
      ],
      "execution_count": 99,
      "outputs": [
        {
          "output_type": "execute_result",
          "data": {
            "text/html": [
              "<div>\n",
              "<style scoped>\n",
              "    .dataframe tbody tr th:only-of-type {\n",
              "        vertical-align: middle;\n",
              "    }\n",
              "\n",
              "    .dataframe tbody tr th {\n",
              "        vertical-align: top;\n",
              "    }\n",
              "\n",
              "    .dataframe thead th {\n",
              "        text-align: right;\n",
              "    }\n",
              "</style>\n",
              "<table border=\"1\" class=\"dataframe\">\n",
              "  <thead>\n",
              "    <tr style=\"text-align: right;\">\n",
              "      <th></th>\n",
              "      <th>city_names</th>\n",
              "      <th>wiki_summary_projected</th>\n",
              "      <th>0</th>\n",
              "      <th>1</th>\n",
              "      <th>2</th>\n",
              "      <th>3</th>\n",
              "      <th>4</th>\n",
              "      <th>5</th>\n",
              "      <th>6</th>\n",
              "      <th>7</th>\n",
              "      <th>8</th>\n",
              "      <th>9</th>\n",
              "      <th>10</th>\n",
              "      <th>11</th>\n",
              "      <th>12</th>\n",
              "      <th>13</th>\n",
              "      <th>14</th>\n",
              "    </tr>\n",
              "  </thead>\n",
              "  <tbody>\n",
              "    <tr>\n",
              "      <th>0</th>\n",
              "      <td>abidjan</td>\n",
              "      <td>Abidjan ( AB-ih-JAHN, French: [abidʒɑ̃]) is th...</td>\n",
              "      <td>(abidjan, GPE)</td>\n",
              "      <td>(cairo, GPE)</td>\n",
              "      <td>(dar es salaam, GPE)</td>\n",
              "      <td>(french, NORP)</td>\n",
              "      <td>(ivory coast, GPE)</td>\n",
              "      <td>(johannesburg, GPE)</td>\n",
              "      <td>(kinshasa, GPE)</td>\n",
              "      <td>(lagos, GPE)</td>\n",
              "      <td>(west africa, GPE)</td>\n",
              "      <td>None</td>\n",
              "      <td>None</td>\n",
              "      <td>None</td>\n",
              "      <td>None</td>\n",
              "      <td>None</td>\n",
              "      <td>None</td>\n",
              "    </tr>\n",
              "    <tr>\n",
              "      <th>1</th>\n",
              "      <td>accra</td>\n",
              "      <td>Accra  is the capital of Ghana covering an are...</td>\n",
              "      <td>(ghana, GPE)</td>\n",
              "      <td>None</td>\n",
              "      <td>None</td>\n",
              "      <td>None</td>\n",
              "      <td>None</td>\n",
              "      <td>None</td>\n",
              "      <td>None</td>\n",
              "      <td>None</td>\n",
              "      <td>None</td>\n",
              "      <td>None</td>\n",
              "      <td>None</td>\n",
              "      <td>None</td>\n",
              "      <td>None</td>\n",
              "      <td>None</td>\n",
              "      <td>None</td>\n",
              "    </tr>\n",
              "    <tr>\n",
              "      <th>2</th>\n",
              "      <td>adana</td>\n",
              "      <td>Adana (pronounced [aˈda.na]; Armenian: Ադանա; ...</td>\n",
              "      <td>(anatolia, GPE)</td>\n",
              "      <td>(armenian, NORP)</td>\n",
              "      <td>(the adana province, GPE)</td>\n",
              "      <td>(turkey, GPE)</td>\n",
              "      <td>None</td>\n",
              "      <td>None</td>\n",
              "      <td>None</td>\n",
              "      <td>None</td>\n",
              "      <td>None</td>\n",
              "      <td>None</td>\n",
              "      <td>None</td>\n",
              "      <td>None</td>\n",
              "      <td>None</td>\n",
              "      <td>None</td>\n",
              "      <td>None</td>\n",
              "    </tr>\n",
              "    <tr>\n",
              "      <th>3</th>\n",
              "      <td>addis ababa</td>\n",
              "      <td>Addis Ababa (Amharic: አዲስ አበባ, Addis Abäba IPA...</td>\n",
              "      <td>(addis ababa, GPE)</td>\n",
              "      <td>(ethiopia, GPE)</td>\n",
              "      <td>(oromia, GPE)</td>\n",
              "      <td>None</td>\n",
              "      <td>None</td>\n",
              "      <td>None</td>\n",
              "      <td>None</td>\n",
              "      <td>None</td>\n",
              "      <td>None</td>\n",
              "      <td>None</td>\n",
              "      <td>None</td>\n",
              "      <td>None</td>\n",
              "      <td>None</td>\n",
              "      <td>None</td>\n",
              "      <td>None</td>\n",
              "    </tr>\n",
              "    <tr>\n",
              "      <th>4</th>\n",
              "      <td>agra</td>\n",
              "      <td>Agra ( (listen)) is a city on the banks of the...</td>\n",
              "      <td>(india, GPE)</td>\n",
              "      <td>(indian, NORP)</td>\n",
              "      <td>(new delhi, GPE)</td>\n",
              "      <td>(uttar pradesh, NORP)</td>\n",
              "      <td>None</td>\n",
              "      <td>None</td>\n",
              "      <td>None</td>\n",
              "      <td>None</td>\n",
              "      <td>None</td>\n",
              "      <td>None</td>\n",
              "      <td>None</td>\n",
              "      <td>None</td>\n",
              "      <td>None</td>\n",
              "      <td>None</td>\n",
              "      <td>None</td>\n",
              "    </tr>\n",
              "  </tbody>\n",
              "</table>\n",
              "</div>"
            ],
            "text/plain": [
              "    city_names                             wiki_summary_projected  ...    13    14\n",
              "0      abidjan  Abidjan ( AB-ih-JAHN, French: [abidʒɑ̃]) is th...  ...  None  None\n",
              "1        accra  Accra  is the capital of Ghana covering an are...  ...  None  None\n",
              "2        adana  Adana (pronounced [aˈda.na]; Armenian: Ադանա; ...  ...  None  None\n",
              "3  addis ababa  Addis Ababa (Amharic: አዲስ አበባ, Addis Abäba IPA...  ...  None  None\n",
              "4         agra  Agra ( (listen)) is a city on the banks of the...  ...  None  None\n",
              "\n",
              "[5 rows x 17 columns]"
            ]
          },
          "metadata": {
            "tags": []
          },
          "execution_count": 99
        }
      ]
    },
    {
      "cell_type": "code",
      "metadata": {
        "id": "KGDczLhEwjmG",
        "colab_type": "code",
        "colab": {
          "base_uri": "https://localhost:8080/",
          "height": 281
        },
        "outputId": "92f74d1b-5bc6-4651-938e-4f08cfed4632"
      },
      "source": [
        "df_nlp_entities.tail()"
      ],
      "execution_count": 100,
      "outputs": [
        {
          "output_type": "execute_result",
          "data": {
            "text/html": [
              "<div>\n",
              "<style scoped>\n",
              "    .dataframe tbody tr th:only-of-type {\n",
              "        vertical-align: middle;\n",
              "    }\n",
              "\n",
              "    .dataframe tbody tr th {\n",
              "        vertical-align: top;\n",
              "    }\n",
              "\n",
              "    .dataframe thead th {\n",
              "        text-align: right;\n",
              "    }\n",
              "</style>\n",
              "<table border=\"1\" class=\"dataframe\">\n",
              "  <thead>\n",
              "    <tr style=\"text-align: right;\">\n",
              "      <th></th>\n",
              "      <th>city_names</th>\n",
              "      <th>wiki_summary_projected</th>\n",
              "      <th>0</th>\n",
              "      <th>1</th>\n",
              "      <th>2</th>\n",
              "      <th>3</th>\n",
              "      <th>4</th>\n",
              "      <th>5</th>\n",
              "      <th>6</th>\n",
              "      <th>7</th>\n",
              "      <th>8</th>\n",
              "      <th>9</th>\n",
              "      <th>10</th>\n",
              "      <th>11</th>\n",
              "      <th>12</th>\n",
              "      <th>13</th>\n",
              "      <th>14</th>\n",
              "    </tr>\n",
              "  </thead>\n",
              "  <tbody>\n",
              "    <tr>\n",
              "      <th>599</th>\n",
              "      <td>zoucheng</td>\n",
              "      <td>Zoucheng (simplified Chinese: 邹城; traditional ...</td>\n",
              "      <td>(china, GPE)</td>\n",
              "      <td>(chinese, NORP)</td>\n",
              "      <td>(jining, GPE)</td>\n",
              "      <td>(shandong province, GPE)</td>\n",
              "      <td>(zou county, GPE)</td>\n",
              "      <td>(zouxian, NORP)</td>\n",
              "      <td>None</td>\n",
              "      <td>None</td>\n",
              "      <td>None</td>\n",
              "      <td>None</td>\n",
              "      <td>None</td>\n",
              "      <td>None</td>\n",
              "      <td>None</td>\n",
              "      <td>None</td>\n",
              "      <td>None</td>\n",
              "    </tr>\n",
              "    <tr>\n",
              "      <th>600</th>\n",
              "      <td>zunyi</td>\n",
              "      <td>Zunyi (simplified Chinese: 遵义; traditional Chi...</td>\n",
              "      <td>(bozhou, GPE)</td>\n",
              "      <td>(chinese, NORP)</td>\n",
              "      <td>(chongqing, GPE)</td>\n",
              "      <td>(guiyang, GPE)</td>\n",
              "      <td>(guizhou, GPE)</td>\n",
              "      <td>(honghuagang, GPE)</td>\n",
              "      <td>(huichuan, GPE)</td>\n",
              "      <td>(people's republic of china, GPE)</td>\n",
              "      <td>(sichuan, GPE)</td>\n",
              "      <td>None</td>\n",
              "      <td>None</td>\n",
              "      <td>None</td>\n",
              "      <td>None</td>\n",
              "      <td>None</td>\n",
              "      <td>None</td>\n",
              "    </tr>\n",
              "    <tr>\n",
              "      <th>601</th>\n",
              "      <td>ürümqi</td>\n",
              "      <td>Ürümqi (UK: , US: ; Uyghur pronunciation: [ʏrʏ...</td>\n",
              "      <td>(china, GPE)</td>\n",
              "      <td>(chinese, NORP)</td>\n",
              "      <td>(the people's republic of china, GPE)</td>\n",
              "      <td>(the xinjiang uygur autonomous region, GPE)</td>\n",
              "      <td>(uk, GPE)</td>\n",
              "      <td>(us, GPE)</td>\n",
              "      <td>(ürümqi, GPE)</td>\n",
              "      <td>None</td>\n",
              "      <td>None</td>\n",
              "      <td>None</td>\n",
              "      <td>None</td>\n",
              "      <td>None</td>\n",
              "      <td>None</td>\n",
              "      <td>None</td>\n",
              "      <td>None</td>\n",
              "    </tr>\n",
              "    <tr>\n",
              "      <th>602</th>\n",
              "      <td>ōsaka</td>\n",
              "      <td>Osaka (Japanese: 大阪市, Hepburn: Ōsaka-shi, pron...</td>\n",
              "      <td>(japan, GPE)</td>\n",
              "      <td>(japanese, NORP)</td>\n",
              "      <td>(osaka, GPE)</td>\n",
              "      <td>(osaka prefecture, GPE)</td>\n",
              "      <td>None</td>\n",
              "      <td>None</td>\n",
              "      <td>None</td>\n",
              "      <td>None</td>\n",
              "      <td>None</td>\n",
              "      <td>None</td>\n",
              "      <td>None</td>\n",
              "      <td>None</td>\n",
              "      <td>None</td>\n",
              "      <td>None</td>\n",
              "      <td>None</td>\n",
              "    </tr>\n",
              "    <tr>\n",
              "      <th>603</th>\n",
              "      <td>şanlıurfa</td>\n",
              "      <td>Şanlıurfa Province (Turkish: Şanlıurfa ili) or...</td>\n",
              "      <td>(turkey, GPE)</td>\n",
              "      <td>(turkish, NORP)</td>\n",
              "      <td>(urfa province, GPE)</td>\n",
              "      <td>(şanlıurfa, GPE)</td>\n",
              "      <td>(şanlıurfa province, GPE)</td>\n",
              "      <td>None</td>\n",
              "      <td>None</td>\n",
              "      <td>None</td>\n",
              "      <td>None</td>\n",
              "      <td>None</td>\n",
              "      <td>None</td>\n",
              "      <td>None</td>\n",
              "      <td>None</td>\n",
              "      <td>None</td>\n",
              "      <td>None</td>\n",
              "    </tr>\n",
              "  </tbody>\n",
              "</table>\n",
              "</div>"
            ],
            "text/plain": [
              "    city_names                             wiki_summary_projected  ...    13    14\n",
              "599   zoucheng  Zoucheng (simplified Chinese: 邹城; traditional ...  ...  None  None\n",
              "600      zunyi  Zunyi (simplified Chinese: 遵义; traditional Chi...  ...  None  None\n",
              "601     ürümqi  Ürümqi (UK: , US: ; Uyghur pronunciation: [ʏrʏ...  ...  None  None\n",
              "602      ōsaka  Osaka (Japanese: 大阪市, Hepburn: Ōsaka-shi, pron...  ...  None  None\n",
              "603  şanlıurfa  Şanlıurfa Province (Turkish: Şanlıurfa ili) or...  ...  None  None\n",
              "\n",
              "[5 rows x 17 columns]"
            ]
          },
          "metadata": {
            "tags": []
          },
          "execution_count": 100
        }
      ]
    },
    {
      "cell_type": "code",
      "metadata": {
        "id": "Fq157h9Mx07Z",
        "colab_type": "code",
        "colab": {
          "base_uri": "https://localhost:8080/",
          "height": 160
        },
        "outputId": "f47568fa-c847-4a61-d639-a11b3167afc7"
      },
      "source": [
        "df_nlp_entities.query('city_names == \"kerkrade\"')"
      ],
      "execution_count": 118,
      "outputs": [
        {
          "output_type": "execute_result",
          "data": {
            "text/html": [
              "<div>\n",
              "<style scoped>\n",
              "    .dataframe tbody tr th:only-of-type {\n",
              "        vertical-align: middle;\n",
              "    }\n",
              "\n",
              "    .dataframe tbody tr th {\n",
              "        vertical-align: top;\n",
              "    }\n",
              "\n",
              "    .dataframe thead th {\n",
              "        text-align: right;\n",
              "    }\n",
              "</style>\n",
              "<table border=\"1\" class=\"dataframe\">\n",
              "  <thead>\n",
              "    <tr style=\"text-align: right;\">\n",
              "      <th></th>\n",
              "      <th>city_names</th>\n",
              "      <th>wiki_summary_projected</th>\n",
              "      <th>0</th>\n",
              "      <th>1</th>\n",
              "      <th>2</th>\n",
              "      <th>3</th>\n",
              "      <th>4</th>\n",
              "      <th>5</th>\n",
              "      <th>6</th>\n",
              "      <th>7</th>\n",
              "      <th>8</th>\n",
              "      <th>9</th>\n",
              "      <th>10</th>\n",
              "      <th>11</th>\n",
              "      <th>12</th>\n",
              "      <th>13</th>\n",
              "      <th>14</th>\n",
              "      <th>15</th>\n",
              "      <th>16</th>\n",
              "      <th>17</th>\n",
              "      <th>18</th>\n",
              "      <th>19</th>\n",
              "      <th>20</th>\n",
              "      <th>21</th>\n",
              "      <th>22</th>\n",
              "      <th>23</th>\n",
              "      <th>24</th>\n",
              "      <th>25</th>\n",
              "      <th>26</th>\n",
              "      <th>27</th>\n",
              "      <th>28</th>\n",
              "      <th>29</th>\n",
              "      <th>30</th>\n",
              "      <th>31</th>\n",
              "      <th>32</th>\n",
              "      <th>33</th>\n",
              "      <th>34</th>\n",
              "      <th>35</th>\n",
              "      <th>36</th>\n",
              "      <th>37</th>\n",
              "      <th>...</th>\n",
              "      <th>58</th>\n",
              "      <th>59</th>\n",
              "      <th>60</th>\n",
              "      <th>61</th>\n",
              "      <th>62</th>\n",
              "      <th>63</th>\n",
              "      <th>64</th>\n",
              "      <th>65</th>\n",
              "      <th>66</th>\n",
              "      <th>67</th>\n",
              "      <th>68</th>\n",
              "      <th>69</th>\n",
              "      <th>70</th>\n",
              "      <th>71</th>\n",
              "      <th>72</th>\n",
              "      <th>73</th>\n",
              "      <th>74</th>\n",
              "      <th>75</th>\n",
              "      <th>76</th>\n",
              "      <th>77</th>\n",
              "      <th>78</th>\n",
              "      <th>79</th>\n",
              "      <th>80</th>\n",
              "      <th>81</th>\n",
              "      <th>82</th>\n",
              "      <th>83</th>\n",
              "      <th>84</th>\n",
              "      <th>85</th>\n",
              "      <th>86</th>\n",
              "      <th>87</th>\n",
              "      <th>88</th>\n",
              "      <th>89</th>\n",
              "      <th>90</th>\n",
              "      <th>91</th>\n",
              "      <th>92</th>\n",
              "      <th>93</th>\n",
              "      <th>94</th>\n",
              "      <th>95</th>\n",
              "      <th>96</th>\n",
              "      <th>97</th>\n",
              "    </tr>\n",
              "  </thead>\n",
              "  <tbody>\n",
              "    <tr>\n",
              "      <th>3295</th>\n",
              "      <td>kerkrade</td>\n",
              "      <td>Kerkrade (Kerkrade dialect: Kirchroa; German: ...</td>\n",
              "      <td>(herzogenrath, GPE)</td>\n",
              "      <td>(kerkrade, GPE)</td>\n",
              "      <td>(limburg, GPE)</td>\n",
              "      <td>(netherlands, GPE)</td>\n",
              "      <td>None</td>\n",
              "      <td>None</td>\n",
              "      <td>None</td>\n",
              "      <td>None</td>\n",
              "      <td>None</td>\n",
              "      <td>None</td>\n",
              "      <td>None</td>\n",
              "      <td>None</td>\n",
              "      <td>None</td>\n",
              "      <td>None</td>\n",
              "      <td>None</td>\n",
              "      <td>None</td>\n",
              "      <td>None</td>\n",
              "      <td>None</td>\n",
              "      <td>None</td>\n",
              "      <td>None</td>\n",
              "      <td>None</td>\n",
              "      <td>None</td>\n",
              "      <td>None</td>\n",
              "      <td>None</td>\n",
              "      <td>None</td>\n",
              "      <td>None</td>\n",
              "      <td>None</td>\n",
              "      <td>None</td>\n",
              "      <td>None</td>\n",
              "      <td>None</td>\n",
              "      <td>None</td>\n",
              "      <td>None</td>\n",
              "      <td>None</td>\n",
              "      <td>None</td>\n",
              "      <td>None</td>\n",
              "      <td>None</td>\n",
              "      <td>None</td>\n",
              "      <td>None</td>\n",
              "      <td>...</td>\n",
              "      <td>None</td>\n",
              "      <td>None</td>\n",
              "      <td>None</td>\n",
              "      <td>None</td>\n",
              "      <td>None</td>\n",
              "      <td>None</td>\n",
              "      <td>None</td>\n",
              "      <td>None</td>\n",
              "      <td>None</td>\n",
              "      <td>None</td>\n",
              "      <td>None</td>\n",
              "      <td>None</td>\n",
              "      <td>None</td>\n",
              "      <td>None</td>\n",
              "      <td>None</td>\n",
              "      <td>None</td>\n",
              "      <td>None</td>\n",
              "      <td>None</td>\n",
              "      <td>None</td>\n",
              "      <td>None</td>\n",
              "      <td>None</td>\n",
              "      <td>None</td>\n",
              "      <td>None</td>\n",
              "      <td>None</td>\n",
              "      <td>None</td>\n",
              "      <td>None</td>\n",
              "      <td>None</td>\n",
              "      <td>None</td>\n",
              "      <td>None</td>\n",
              "      <td>None</td>\n",
              "      <td>None</td>\n",
              "      <td>None</td>\n",
              "      <td>None</td>\n",
              "      <td>None</td>\n",
              "      <td>None</td>\n",
              "      <td>None</td>\n",
              "      <td>None</td>\n",
              "      <td>None</td>\n",
              "      <td>None</td>\n",
              "      <td>None</td>\n",
              "    </tr>\n",
              "  </tbody>\n",
              "</table>\n",
              "<p>1 rows × 100 columns</p>\n",
              "</div>"
            ],
            "text/plain": [
              "     city_names                             wiki_summary_projected  ...    96    97\n",
              "3295   kerkrade  Kerkrade (Kerkrade dialect: Kirchroa; German: ...  ...  None  None\n",
              "\n",
              "[1 rows x 100 columns]"
            ]
          },
          "metadata": {
            "tags": []
          },
          "execution_count": 118
        }
      ]
    },
    {
      "cell_type": "code",
      "metadata": {
        "id": "nx7-TRZ6jly-",
        "colab_type": "code",
        "colab": {}
      },
      "source": [
        "df_updated_2 = df_updated.merge(df_nlp_entities,how='left',left_on='city',right_on='city_names')"
      ],
      "execution_count": 0,
      "outputs": []
    },
    {
      "cell_type": "code",
      "metadata": {
        "id": "Vi7JljfIkg5V",
        "colab_type": "code",
        "colab": {}
      },
      "source": [
        "df_updated_2.to_csv('cities_updated_with_admin.csv',index=False)"
      ],
      "execution_count": 0,
      "outputs": []
    },
    {
      "cell_type": "code",
      "metadata": {
        "id": "1YLXkSqPm_W2",
        "colab_type": "code",
        "colab": {
          "base_uri": "https://localhost:8080/",
          "height": 456
        },
        "outputId": "cfe32cbb-0a18-4895-b106-f415f92237fe"
      },
      "source": [
        "df_updated_2.tail(4)"
      ],
      "execution_count": 103,
      "outputs": [
        {
          "output_type": "execute_result",
          "data": {
            "text/html": [
              "<div>\n",
              "<style scoped>\n",
              "    .dataframe tbody tr th:only-of-type {\n",
              "        vertical-align: middle;\n",
              "    }\n",
              "\n",
              "    .dataframe tbody tr th {\n",
              "        vertical-align: top;\n",
              "    }\n",
              "\n",
              "    .dataframe thead th {\n",
              "        text-align: right;\n",
              "    }\n",
              "</style>\n",
              "<table border=\"1\" class=\"dataframe\">\n",
              "  <thead>\n",
              "    <tr style=\"text-align: right;\">\n",
              "      <th></th>\n",
              "      <th>city_entity</th>\n",
              "      <th>city</th>\n",
              "      <th>country_entity</th>\n",
              "      <th>country</th>\n",
              "      <th>admin_entity</th>\n",
              "      <th>admin</th>\n",
              "      <th>combined</th>\n",
              "      <th>country_alpha_2</th>\n",
              "      <th>sd_code</th>\n",
              "      <th>sd_name</th>\n",
              "      <th>sd_type</th>\n",
              "      <th>sd_parent_code</th>\n",
              "      <th>country_alpha_3</th>\n",
              "      <th>country_name</th>\n",
              "      <th>country_numeric</th>\n",
              "      <th>city_names</th>\n",
              "      <th>wiki_summary_projected</th>\n",
              "      <th>0</th>\n",
              "      <th>1</th>\n",
              "      <th>2</th>\n",
              "      <th>3</th>\n",
              "      <th>4</th>\n",
              "      <th>5</th>\n",
              "      <th>6</th>\n",
              "      <th>7</th>\n",
              "      <th>8</th>\n",
              "      <th>9</th>\n",
              "      <th>10</th>\n",
              "      <th>11</th>\n",
              "      <th>12</th>\n",
              "      <th>13</th>\n",
              "      <th>14</th>\n",
              "    </tr>\n",
              "  </thead>\n",
              "  <tbody>\n",
              "    <tr>\n",
              "      <th>674</th>\n",
              "      <td>http://www.wikidata.org/entity/Q189128</td>\n",
              "      <td>león</td>\n",
              "      <td>http://www.wikidata.org/entity/Q96</td>\n",
              "      <td>mexico</td>\n",
              "      <td>http://www.wikidata.org/entity/Q9022143</td>\n",
              "      <td>león municipality</td>\n",
              "      <td>{\"label\": \"GPE_city\", \"pattern\": [{\"LOWER\": \"l...</td>\n",
              "      <td>NaN</td>\n",
              "      <td>NaN</td>\n",
              "      <td>NaN</td>\n",
              "      <td>NaN</td>\n",
              "      <td>NaN</td>\n",
              "      <td>NaN</td>\n",
              "      <td>NaN</td>\n",
              "      <td>NaN</td>\n",
              "      <td>león</td>\n",
              "      <td>error</td>\n",
              "      <td>None</td>\n",
              "      <td>None</td>\n",
              "      <td>None</td>\n",
              "      <td>None</td>\n",
              "      <td>None</td>\n",
              "      <td>None</td>\n",
              "      <td>None</td>\n",
              "      <td>None</td>\n",
              "      <td>None</td>\n",
              "      <td>None</td>\n",
              "      <td>None</td>\n",
              "      <td>None</td>\n",
              "      <td>None</td>\n",
              "      <td>None</td>\n",
              "      <td>None</td>\n",
              "    </tr>\n",
              "    <tr>\n",
              "      <th>675</th>\n",
              "      <td>http://www.wikidata.org/entity/Q189633</td>\n",
              "      <td>guilin</td>\n",
              "      <td>http://www.wikidata.org/entity/Q148</td>\n",
              "      <td>people's republic of china</td>\n",
              "      <td>http://www.wikidata.org/entity/Q15176</td>\n",
              "      <td>guangxi zhuang autonomous region</td>\n",
              "      <td>{\"label\": \"GPE_city\", \"pattern\": [{\"LOWER\": \"g...</td>\n",
              "      <td>NaN</td>\n",
              "      <td>NaN</td>\n",
              "      <td>NaN</td>\n",
              "      <td>NaN</td>\n",
              "      <td>NaN</td>\n",
              "      <td>NaN</td>\n",
              "      <td>NaN</td>\n",
              "      <td>NaN</td>\n",
              "      <td>guilin</td>\n",
              "      <td>Guilin (Standard Zhuang: Gveilinz; alternately...</td>\n",
              "      <td>(china, GPE)</td>\n",
              "      <td>(guangxi zhuang autonomous region, GPE)</td>\n",
              "      <td>(hunan, GPE)</td>\n",
              "      <td>None</td>\n",
              "      <td>None</td>\n",
              "      <td>None</td>\n",
              "      <td>None</td>\n",
              "      <td>None</td>\n",
              "      <td>None</td>\n",
              "      <td>None</td>\n",
              "      <td>None</td>\n",
              "      <td>None</td>\n",
              "      <td>None</td>\n",
              "      <td>None</td>\n",
              "      <td>None</td>\n",
              "    </tr>\n",
              "    <tr>\n",
              "      <th>676</th>\n",
              "      <td>http://www.wikidata.org/entity/Q189823</td>\n",
              "      <td>haikou</td>\n",
              "      <td>http://www.wikidata.org/entity/Q148</td>\n",
              "      <td>people's republic of china</td>\n",
              "      <td>http://www.wikidata.org/entity/Q42200</td>\n",
              "      <td>hainan</td>\n",
              "      <td>{\"label\": \"GPE_city\", \"pattern\": [{\"LOWER\": \"h...</td>\n",
              "      <td>NaN</td>\n",
              "      <td>NaN</td>\n",
              "      <td>NaN</td>\n",
              "      <td>NaN</td>\n",
              "      <td>NaN</td>\n",
              "      <td>NaN</td>\n",
              "      <td>NaN</td>\n",
              "      <td>NaN</td>\n",
              "      <td>haikou</td>\n",
              "      <td>Haikou (Chinese: 海口; pinyin: Hǎikǒu) is the ca...</td>\n",
              "      <td>(chinese, NORP)</td>\n",
              "      <td>(haikou, GPE)</td>\n",
              "      <td>(hainan, GPE)</td>\n",
              "      <td>None</td>\n",
              "      <td>None</td>\n",
              "      <td>None</td>\n",
              "      <td>None</td>\n",
              "      <td>None</td>\n",
              "      <td>None</td>\n",
              "      <td>None</td>\n",
              "      <td>None</td>\n",
              "      <td>None</td>\n",
              "      <td>None</td>\n",
              "      <td>None</td>\n",
              "      <td>None</td>\n",
              "    </tr>\n",
              "    <tr>\n",
              "      <th>677</th>\n",
              "      <td>http://www.wikidata.org/entity/Q192271</td>\n",
              "      <td>guiyang</td>\n",
              "      <td>http://www.wikidata.org/entity/Q148</td>\n",
              "      <td>people's republic of china</td>\n",
              "      <td>http://www.wikidata.org/entity/Q47097</td>\n",
              "      <td>guizhou</td>\n",
              "      <td>{\"label\": \"GPE_city\", \"pattern\": [{\"LOWER\": \"g...</td>\n",
              "      <td>NaN</td>\n",
              "      <td>NaN</td>\n",
              "      <td>NaN</td>\n",
              "      <td>NaN</td>\n",
              "      <td>NaN</td>\n",
              "      <td>NaN</td>\n",
              "      <td>NaN</td>\n",
              "      <td>NaN</td>\n",
              "      <td>guiyang</td>\n",
              "      <td>Guiyang is the capital of Guizhou province of ...</td>\n",
              "      <td>(guizhou province, GPE)</td>\n",
              "      <td>None</td>\n",
              "      <td>None</td>\n",
              "      <td>None</td>\n",
              "      <td>None</td>\n",
              "      <td>None</td>\n",
              "      <td>None</td>\n",
              "      <td>None</td>\n",
              "      <td>None</td>\n",
              "      <td>None</td>\n",
              "      <td>None</td>\n",
              "      <td>None</td>\n",
              "      <td>None</td>\n",
              "      <td>None</td>\n",
              "      <td>None</td>\n",
              "    </tr>\n",
              "  </tbody>\n",
              "</table>\n",
              "</div>"
            ],
            "text/plain": [
              "                                city_entity     city  ...    13    14\n",
              "674  http://www.wikidata.org/entity/Q189128     león  ...  None  None\n",
              "675  http://www.wikidata.org/entity/Q189633   guilin  ...  None  None\n",
              "676  http://www.wikidata.org/entity/Q189823   haikou  ...  None  None\n",
              "677  http://www.wikidata.org/entity/Q192271  guiyang  ...  None  None\n",
              "\n",
              "[4 rows x 32 columns]"
            ]
          },
          "metadata": {
            "tags": []
          },
          "execution_count": 103
        }
      ]
    },
    {
      "cell_type": "code",
      "metadata": {
        "id": "cZXEfKiNmpRl",
        "colab_type": "code",
        "colab": {
          "base_uri": "https://localhost:8080/",
          "height": 54
        },
        "outputId": "ac7ecf2b-8564-44a6-e530-89246d64a6de"
      },
      "source": [
        "wiki.summary('franca')"
      ],
      "execution_count": 107,
      "outputs": [
        {
          "output_type": "execute_result",
          "data": {
            "text/plain": [
              "\"France (French: [fʁɑ̃s] (listen)), officially the French Republic (French: République française, pronounced [ʁepyblik fʁɑ̃sɛːz] (listen)), is a country whose territory consists of metropolitan France in Western Europe and several overseas regions and territories. The metropolitan area of France extends from the Mediterranean Sea to the English Channel and the North Sea, and from the Rhine to the Atlantic Ocean. It is bordered by Belgium, Luxembourg and Germany to the northeast, Switzerland and Italy to the east, and Andorra and Spain to the south. The overseas territories include French Guiana in South America and several islands in the Atlantic, Pacific and Indian oceans. The country's 18 integral regions (five of which are situated overseas) span a combined area of 643,801 square kilometres (248,573 sq mi) and a total population of 67.02 million (as of July 2019). France is a unitary semi-presidential republic with its capital in Paris, the country's largest city and main cultural and commercial centre. Other major urban areas include Lyon, Marseille, Toulouse, Bordeaux, Lille and Nice. France, including its overseas territories, has the most number of time zones of any country, with a total of 12.\\nDuring the Iron Age, what is now metropolitan France was inhabited by the Gauls, a Celtic people. Rome annexed the area in 51 BC, holding it until the arrival of Germanic Franks in 476, who formed the Kingdom of Francia. The Treaty of Verdun of 843 partitioned Francia into East Francia, Middle Francia and West Francia. West Francia, which became the Kingdom of France in 987, emerged as a major European power in the Late Middle Ages, following its victory in the Hundred Years' War (1337–1453). During the Renaissance, French culture flourished and a global colonial empire was established, which by the 20th century would become the second largest in the world. The 16th century was dominated by religious civil wars between Catholics and Protestants (Huguenots). France became Europe's dominant cultural, political, and military power in the 17th century under Louis XIV. In the late 18th century, the French Revolution overthrew the absolute monarchy, establishing one of modern history's earliest republics and drafting the Declaration of the Rights of Man and of the Citizen, which expresses the nation's ideals to this day.\\nIn the 19th century, Napoleon took power and established the First French Empire. His subsequent Napoleonic Wars (1803–15) shaped the course of continental Europe. Following the collapse of the Empire, France endured a tumultuous succession of governments culminating with the establishment of the French Third Republic in 1870. France was a major participant in World War I, from which it emerged victorious, and was one of the Allies in World War II, but came under occupation by the Axis powers in 1940. Following liberation in 1944, a Fourth Republic was established and later dissolved in the course of the Algerian War. The Fifth Republic, led by Charles de Gaulle, was formed in 1958 and remains today. Algeria and nearly all the other colonies became independent in the 1960s, with most retaining close economic and military connections with France.\\nFrance has long been a global centre of art, science, and philosophy. It hosts the world's fourth-largest number of UNESCO World Heritage Sites and is the leading tourist destination, receiving around 83 million foreign visitors annually. France is a developed country with the world's sixth-largest economy by nominal GDP, and tenth-largest by purchasing power parity. In terms of aggregate household wealth, it ranks fourth in the world. France performs well in international rankings of education, health care, life expectancy, and human development. France is considered a great power in global affairs, being one of the five permanent members of the United Nations Security Council with the power to veto and an official nuclear-weapon state. It is a leading member state of the European Union and the Eurozone, and a member of the Group of 7, North Atlantic Treaty Organization (NATO), Organisation for Economic Co-operation and Development (OECD), the World Trade Organization (WTO), and La Francophonie.\""
            ]
          },
          "metadata": {
            "tags": []
          },
          "execution_count": 107
        }
      ]
    },
    {
      "cell_type": "code",
      "metadata": {
        "id": "i_OOZDIstC_i",
        "colab_type": "code",
        "colab": {
          "base_uri": "https://localhost:8080/",
          "height": 1000
        },
        "outputId": "2e61aee3-cfad-468b-c4ce-056a745ea52c"
      },
      "source": [
        "sum_entities[:20]"
      ],
      "execution_count": 108,
      "outputs": [
        {
          "output_type": "execute_result",
          "data": {
            "text/plain": [
              "[[('netherlands', 'GPE'),\n",
              "  ('north brabant', 'GPE'),\n",
              "  ('uk', 'GPE'),\n",
              "  ('us', 'GPE')],\n",
              " [('galicia', 'GPE'), ('spain', 'GPE'), ('the kingdom of galicia', 'GPE')],\n",
              " [('aabenraa municipality', 'GPE'),\n",
              "  ('denmark', 'GPE'),\n",
              "  ('flensburg', 'GPE'),\n",
              "  ('germany', 'GPE'),\n",
              "  ('south jutland county', 'GPE'),\n",
              "  ('southern denmark', 'GPE')],\n",
              " [('ausiait', 'GPE'), ('greenland', 'GPE')],\n",
              " [('australia', 'GPE'),\n",
              "  ('canada', 'GPE'),\n",
              "  ('ireland', 'GPE'),\n",
              "  ('new zealand', 'GPE'),\n",
              "  ('south africa', 'GPE'),\n",
              "  ('stockholm', 'GPE'),\n",
              "  ('sweden', 'GPE'),\n",
              "  ('the united kingdom', 'GPE'),\n",
              "  ('the united states', 'GPE'),\n",
              "  ('uk', 'GPE')],\n",
              " [],\n",
              " [('peru', 'GPE'), ('quechua', 'GPE'), ('the abancay province', 'GPE')],\n",
              " [('banja luka', 'GPE'),\n",
              "  ('bosnia', 'GPE'),\n",
              "  ('byzacena', 'GPE'),\n",
              "  ('tunisia', 'GPE')],\n",
              " [('al-daghmah', 'GPE'),\n",
              "  ('alshawaf', 'GPE'),\n",
              "  ('gaza strip', 'GPE'),\n",
              "  ('qudayh', 'GPE')],\n",
              " [('county laois', 'GPE'), ('dublin', 'GPE'), ('ireland', 'GPE')],\n",
              " [('abbotsford', 'GPE'),\n",
              "  ('british columbia', 'GPE'),\n",
              "  ('canada', 'GPE'),\n",
              "  ('the city of chilliwack', 'GPE'),\n",
              "  ('the township of langley', 'GPE'),\n",
              "  ('united states', 'GPE'),\n",
              "  ('washington', 'GPE')],\n",
              " [('hazara', 'GPE'),\n",
              "  ('islamabad', 'GPE'),\n",
              "  ('pakistan', 'GPE'),\n",
              "  ('peshawar', 'GPE')],\n",
              " [],\n",
              " [('abidjan', 'GPE'), ('ghana', 'GPE'), ('ivory coast', 'GPE')],\n",
              " [('abeokuta', 'GPE'),\n",
              "  ('lagos', 'GPE'),\n",
              "  ('nigeria', 'GPE'),\n",
              "  ('ogun state', 'GPE')],\n",
              " [('united kingdom', 'GPE'), ('wales', 'GPE'), ('welsh county', 'GPE')],\n",
              " [('aberdeen', 'GPE'),\n",
              "  ('britain', 'GPE'),\n",
              "  ('scotland', 'GPE'),\n",
              "  (\"the united kingdom's\", 'GPE'),\n",
              "  ('uk', 'GPE')],\n",
              " [('asir region', 'GPE'), ('saudi arabia', 'GPE')],\n",
              " [('abidjan', 'GPE'),\n",
              "  ('cairo', 'GPE'),\n",
              "  ('dar es salaam', 'GPE'),\n",
              "  ('france', 'GPE'),\n",
              "  ('ivory coast', 'GPE'),\n",
              "  ('johannesburg', 'GPE'),\n",
              "  ('kinshasa', 'GPE'),\n",
              "  ('lagos', 'GPE'),\n",
              "  ('the abidjan autonomous district', 'GPE'),\n",
              "  ('west africa', 'GPE'),\n",
              "  ('yamoussoukro', 'GPE')],\n",
              " [('abdelhamid', 'GPE'),\n",
              "  ('abdil', 'GPE'),\n",
              "  ('abdol', 'GPE'),\n",
              "  ('abdool', 'GPE')]]"
            ]
          },
          "metadata": {
            "tags": []
          },
          "execution_count": 108
        }
      ]
    },
    {
      "cell_type": "code",
      "metadata": {
        "id": "NsYiGT15uM2b",
        "colab_type": "code",
        "colab": {
          "base_uri": "https://localhost:8080/",
          "height": 1000
        },
        "outputId": "dcf6f48b-1092-4979-b0a3-3f2f9db4102a"
      },
      "source": [
        "for item in sum_entities:\n",
        "  if len(item) > 10:\n",
        "    print(item)"
      ],
      "execution_count": 60,
      "outputs": [
        {
          "output_type": "stream",
          "text": [
            "[('alans', 'NORP'), ('aryan', 'NORP'), ('caucasian', 'NORP'), ('chinese', 'NORP'), ('iranian', 'NORP'), ('latin', 'NORP'), ('massagetae', 'GPE'), ('roman', 'NORP'), ('sarmatians', 'NORP'), ('the central asian', 'NORP'), ('the parthian empire', 'GPE'), ('the roman empire', 'GPE')]\n",
            "[('arabs', 'NORP'), ('assyrians', 'NORP'), ('babylonians', 'NORP'), ('greek', 'NORP'), ('hasmoneans', 'NORP'), ('hebrew', 'NORP'), ('israel', 'GPE'), ('mamluks', 'GPE'), ('persians', 'NORP'), ('phoenicians', 'NORP'), ('romans', 'NORP'), ('tel aviv', 'GPE'), ('the ancient egyptians', 'NORP'), ('the gaza strip', 'GPE'), ('אַשְׁקְלוֹן', 'GPE')]\n",
            "[('banya', 'GPE'), ('bucharest', 'GPE'), ('german', 'NORP'), ('hungarian', 'NORP'), ('hungary', 'GPE'), ('igniș', 'NORP'), ('latin', 'NORP'), ('maramureș county', 'GPE'), ('romania', 'GPE'), ('romanian', 'NORP'), ('ukraine', 'GPE'), ('us', 'GPE'), ('yiddish', 'NORP'), ('באניע\\u200e', 'NORP')]\n",
            "[('bolognese', 'NORP'), ('bononia', 'GPE'), ('bulåggna', 'NORP'), ('emilia-romagna', 'NORP'), ('etruscan', 'NORP'), ('etruscans', 'NORP'), ('european', 'NORP'), ('italian', 'NORP'), ('italy', 'GPE'), ('latin', 'NORP'), ('romans', 'NORP'), ('uk', 'GPE')]\n",
            "[('botoschan', 'GPE'), ('botoszany', 'GPE'), ('botosány', 'GPE'), ('botoșani county', 'GPE'), ('german', 'NORP'), ('hungarian', 'NORP'), ('moldavia', 'GPE'), ('polish', 'NORP'), ('prince stephen the great', 'GPE'), ('romania', 'GPE'), ('romanian', 'NORP')]\n",
            "[('brașov county', 'GPE'), ('bucharest', 'GPE'), ('corona', 'GPE'), ('german', 'NORP'), ('hungarian', 'NORP'), ('latin', 'NORP'), ('romania', 'GPE'), ('romanian', 'NORP'), ('transylvanian', 'NORP'), ('uk', 'GPE'), ('us', 'GPE')]\n",
            "[('busan metropolitan city', 'GPE'), ('honshu', 'GPE'), ('japanese', 'NORP'), ('korea', 'GPE'), ('korean', 'NORP'), ('kyushu', 'GPE'), ('pusan', 'GPE'), ('seoul', 'GPE'), ('south gyeongsang', 'GPE'), ('south korea', 'GPE'), (\"south korea's\", 'GPE')]\n",
            "[('bengali', 'NORP'), ('butuan city', 'GPE'), ('butuanon', 'GPE'), ('champa', 'GPE'), ('dakbayan', 'NORP'), ('majapahit', 'GPE'), ('ming', 'GPE'), ('philippine', 'NORP'), ('philippines', 'GPE'), ('srivijaya', 'GPE'), ('the city of butuan', 'GPE')]\n",
            "[('changzhou', 'GPE'), ('changzhounese', 'NORP'), ('china', 'GPE'), ('chinese', 'NORP'), ('jiangsu province', 'GPE'), ('jinling', 'GPE'), ('lanling', 'GPE'), ('nanjing', 'GPE'), ('yanling', 'GPE'), ('zhejiang', 'GPE'), ('zhenjiang', 'GPE')]\n",
            "[('berlin', 'GPE'), ('central german', 'NORP'), ('czech', 'NORP'), ('dresden', 'GPE'), ('east germany', 'GPE'), ('freiberg', 'GPE'), ('german', 'NORP'), ('germany', 'GPE'), ('leipzig', 'GPE'), ('plauen', 'GPE'), ('saxony', 'GPE')]\n",
            "[('arabic', 'NORP'), ('armenian', 'NORP'), ('cizre', 'GPE'), ('gziro', 'GPE'), ('iraqi', 'NORP'), ('kurdish', 'NORP'), ('syria', 'GPE'), ('syrian', 'NORP'), ('turkey', 'GPE'), ('turkish', 'NORP'), ('turkish kurdistan', 'GPE'), ('şırnak province', 'GPE')]\n",
            "[('belgrade', 'GPE'), ('bucharest', 'GPE'), ('budapest', 'GPE'), ('cluj county', 'GPE'), ('german', 'NORP'), ('hungarian', 'NORP'), ('kloiznburg', 'GPE'), ('romania', 'GPE'), ('romanian', 'NORP'), ('transylvania', 'GPE'), ('yiddish', 'NORP')]\n",
            "[('baghdad', 'GPE'), ('greek', 'NORP'), ('hellenistic', 'NORP'), ('middle persian', 'NORP'), ('muslim', 'NORP'), ('parthian', 'NORP'), ('persia', 'GPE'), ('persian', 'NORP'), ('sasanian', 'NORP'), ('seleucia', 'GPE'), ('the persian empire', 'GPE'), ('the sasanian empire', 'GPE')]\n",
            "[('dalian', 'GPE'), ('huludao', 'GPE'), ('liaodong', 'GPE'), ('liaoning', 'GPE'), ('liaoning province', 'GPE'), ('north korea', 'GPE'), (\"people's republic of china\", 'GPE'), ('shandong', 'GPE'), ('shenyang', 'GPE'), ('weihai', 'GPE'), ('yantai', 'GPE'), ('yingkou', 'GPE')]\n",
            "[('afar', 'GPE'), ('arabic', 'NORP'), ('djibouti', 'GPE'), ('eritrea', 'GPE'), ('ethiopia', 'GPE'), ('french', 'NORP'), ('somali', 'NORP'), ('somalia', 'GPE'), ('the republic of djibouti', 'GPE'), ('yemen', 'GPE'), ('yibuuti', 'GPE')]\n",
            "[('berlin', 'GPE'), ('cologne', 'GPE'), ('czech', 'NORP'), ('dresden', 'GPE'), ('drezno', 'NORP'), ('east germany', 'GPE'), ('german', 'NORP'), ('germany', 'GPE'), ('hamburg', 'GPE'), ('leipzig', 'GPE'), ('polish', 'NORP'), ('saxony', 'GPE')]\n",
            "[('bulgaria', 'GPE'), ('bulgarian', 'NORP'), ('east thrace', 'GPE'), ('edirne', 'GPE'), ('greece', 'GPE'), ('istanbul', 'GPE'), ('latin', 'NORP'), ('roman', 'NORP'), ('the ottoman empire', 'GPE'), ('thracian', 'NORP'), ('turkey', 'GPE'), ('turkish', 'NORP'), ('us', 'GPE')]\n",
            "[('andorra', 'GPE'), ('belgium', 'GPE'), ('france', 'GPE'), ('french', 'NORP'), ('germany', 'GPE'), ('italy', 'GPE'), ('luxembourg', 'GPE'), ('république', 'NORP'), ('spain', 'GPE'), ('switzerland', 'GPE'), ('the french republic', 'GPE')]\n",
            "[('baltic', 'NORP'), ('danzig', 'GPE'), ('gdynia', 'GPE'), ('german', 'NORP'), ('kashubia', 'GPE'), ('kashubian', 'NORP'), ('poland', 'GPE'), ('polish', 'NORP'), ('sopot', 'GPE'), ('the pomeranian voivodeship', 'GPE'), ('us', 'GPE')]\n",
            "[('canton', 'GPE'), ('cantonese', 'NORP'), ('china', 'GPE'), ('chinese', 'NORP'), ('dongguan', 'GPE'), ('foshan', 'GPE'), ('guangdong', 'GPE'), ('guangzhou', 'GPE'), ('hong kong', 'GPE'), ('macau', 'GPE'), ('shenzhen', 'GPE'), ('zhongshan', 'GPE')]\n",
            "[('berlin', 'GPE'), ('dresden', 'GPE'), ('east germany', 'GPE'), ('german', 'NORP'), ('germany', 'GPE'), ('halle', 'GPE'), ('leipzig', 'GPE'), ('magdeburg', 'GPE'), ('sachsen', 'GPE'), ('saxony', 'GPE'), ('uk', 'GPE'), ('us', 'GPE')]\n",
            "[('anhui', 'GPE'), ('chinese', 'NORP'), ('chuzhou', 'GPE'), (\"huai'an\", 'GPE'), ('jiangsu province', 'GPE'), ('lianyungang', 'GPE'), ('nanjing', 'GPE'), ('suqian', 'NORP'), (\"the people's republic of china\", 'GPE'), ('yancheng', 'GPE'), ('yangzhou', 'GPE')]\n",
            "[('changde', 'NORP'), ('china', 'GPE'), ('chinese', 'NORP'), ('guangxi', 'GPE'), ('guizhou', 'GPE'), ('hunan province', 'GPE'), ('liuzhou', 'GPE'), ('loudi', 'GPE'), ('qiandongnan', 'GPE'), ('shaoyang', 'GPE'), ('xiangxi', 'GPE'), ('yiyang', 'GPE'), ('zhangjiajie', 'GPE')]\n",
            "[('daejeon', 'NORP'), ('iksan county', 'GPE'), ('janghang', 'GPE'), ('jeolla', 'GPE'), ('jeollabuk', 'GPE'), ('jeonju', 'GPE'), ('korean', 'NORP'), ('north jeolla province', 'GPE'), ('seoul', 'GPE'), ('south korea', 'GPE'), ('yeosu', 'GPE')]\n",
            "[('austria', 'GPE'), ('european', 'NORP'), ('france', 'GPE'), ('italia', 'GPE'), ('italian', 'NORP'), ('italy', 'GPE'), ('san marino', 'GPE'), ('slovenia', 'GPE'), ('switzerland', 'GPE'), ('the italian republic', 'GPE'), ('vatican city', 'GPE')]\n",
            "[(\"bo'ai county\", 'GPE'), ('china', 'GPE'), ('chinese', 'NORP'), ('henan province', 'GPE'), ('jiefang', 'GPE'), ('jiyuan', 'GPE'), ('luoyang', 'GPE'), ('macun', 'GPE'), ('shanxi', 'GPE'), ('shanyang', 'GPE'), ('xinxiang', 'GPE'), ('zhengzhou', 'GPE'), ('zhongzhan', 'GPE')]\n",
            "[('baden', 'GPE'), ('baden-baden', 'GPE'), ('baden-württemberg', 'GPE'), ('french', 'NORP'), ('german', 'NORP'), ('germany', 'GPE'), ('karlsruhe', 'GPE'), ('rhine', 'NORP'), ('strasbourg', 'GPE'), ('stuttgart', 'GPE'), ('us', 'GPE')]\n",
            "[('aachen', 'GPE'), ('belgian', 'NORP'), ('belgium', 'GPE'), ('dutch', 'NORP'), ('french', 'NORP'), ('german', 'NORP'), ('germany', 'GPE'), ('liège', 'GPE'), ('lüttich', 'GPE'), ('maastricht', 'GPE'), ('netherlands', 'GPE'), ('walloon city', 'GPE')]\n",
            "[('changting', 'GPE'), ('chinese', 'NORP'), ('fujian', 'GPE'), ('fujian province', 'GPE'), ('guangdong', 'GPE'), ('hakka', 'NORP'), ('huanglian', 'NORP'), ('jiangxi', 'GPE'), ('liong', 'GPE'), ('lóngyán', 'GPE'), (\"people's republic of china\", 'GPE'), ('tingzhou', 'GPE'), ('xinluo', 'GPE')]\n",
            "[('belgium', 'GPE'), ('brussels', 'GPE'), ('france', 'GPE'), ('frankfurt', 'GPE'), ('french', 'NORP'), ('german', 'NORP'), ('germany', 'GPE'), ('luxembourg', 'GPE'), ('luxembourg city', 'GPE'), ('luxembourgish', 'NORP'), ('strasbourg', 'GPE')]\n",
            "[('ancient egyptian', 'NORP'), ('arabic', 'NORP'), ('diospolis', 'GPE'), ('egypt', 'GPE'), ('egyptian', 'NORP'), ('karnak', 'GPE'), ('luxor', 'GPE'), ('necropolis', 'GPE'), ('thebes', 'GPE'), ('upper', 'GPE'), ('upper egyptian', 'NORP'), ('waset', 'GPE')]\n",
            "[('arabic', 'NORP'), ('baghdad', 'GPE'), ('bengali', 'NORP'), ('imams', 'NORP'), ('indonesian', 'NORP'), ('manser', 'GPE'), ('mansoor', 'GPE'), ('mansur', 'GPE'), ('moghulistan', 'GPE'), ('mounsor', 'GPE'), ('persian', 'NORP'), ('samanids', 'GPE'), ('sufism', 'NORP'), ('yemen', 'GPE')]\n",
            "[('bulacan', 'GPE'), ('caloocan', 'NORP'), ('malolos city', 'GPE'), ('manila', 'GPE'), ('marilao', 'GPE'), ('meycauayan', 'GPE'), ('meycauayan city', 'GPE'), ('obando', 'GPE'), ('philippines', 'GPE'), ('the city of meycauayan', 'GPE'), ('valenzuela', 'GPE')]\n",
            "[('emilia-romagna', 'NORP'), ('etruscan', 'NORP'), ('italian', 'NORP'), ('italy', 'GPE'), ('latin', 'NORP'), ('maserati', 'GPE'), ('modena', 'GPE'), ('modenese', 'NORP'), ('mutina', 'GPE'), ('the province of modena', 'GPE'), ('uk', 'GPE'), ('us', 'GPE')]\n",
            "[('dutch', 'NORP'), ('flughafen', 'GPE'), ('german', 'NORP'), ('germany', 'GPE'), ('giesenkirchen‑nord', 'GPE'), ('holt', 'GPE'), ('mönchengladbach', 'GPE'), ('north rhine-westphalia', 'GPE'), ('pongs', 'GPE'), ('schmölderpark', 'GPE'), ('waldhausen', 'GPE'), ('westend', 'GPE'), ('windberg', 'GPE')]\n",
            "[('byzantine', 'GPE'), ('christian', 'NORP'), ('greek', 'NORP'), ('jerusalem', 'GPE'), ('nablus', 'GPE'), ('palestinian', 'NORP'), ('roman', 'NORP'), ('samaritan', 'GPE'), ('vespasian', 'NORP'), ('west bank', 'GPE'), ('νeápolis', 'NORP')]\n",
            "[('china', 'GPE'), ('chinese', 'NORP'), ('jiangsu province', 'GPE'), ('nantong', 'GPE'), ('nantung', 'GPE'), ('qihai', 'GPE'), ('shanghai', 'GPE'), ('suzhou', 'GPE'), ('taizhou', 'GPE'), ('tongzhou', 'GPE'), ('tungchow', 'GPE'), ('wuxi', 'GPE')]\n",
            "[('abuja in nigeria', 'GPE'), ('australia', 'GPE'), ('brasília', 'GPE'), ('brazil', 'GPE'), ('canberra', 'GPE'), ('d.c.', 'GPE'), ('islamabad', 'GPE'), ('myanmar', 'GPE'), ('pakistan', 'GPE'), ('the united states', 'GPE'), ('washington', 'GPE')]\n",
            "[('iran', 'GPE'), ('khorasan province', 'GPE'), ('khorasan razavi province', 'GPE'), ('middle persian', 'NORP'), ('new city of shapur', 'GPE'), ('nishabur', 'GPE'), ('nishapur', 'GPE'), ('nişapur', 'GPE'), ('nīshāpūr', 'GPE'), ('persian', 'NORP'), ('shapur', 'GPE'), ('the nishapur county', 'GPE'), ('نیشابور\\u200e', 'GPE')]\n",
            "[('bihor county', 'GPE'), ('crișana', 'GPE'), ('german', 'NORP'), ('hungarian', 'NORP'), ('hungary', 'GPE'), ('oradea', 'GPE'), ('romania', 'GPE'), ('romanian', 'NORP'), ('turkish', 'NORP'), ('uk', 'GPE'), ('us', 'GPE'), ('várad', 'GPE'), ('yiddish', 'NORP')]\n",
            "[('andalusian', 'NORP'), ('arabic', 'NORP'), ('armenia', 'GPE'), ('azerbaijan', 'GPE'), ('egypt', 'GPE'), ('greece', 'GPE'), ('iran', 'GPE'), ('iraq', 'GPE'), ('kurdistan', 'GPE'), ('lebanon', 'GPE'), ('north african chaabi', 'GPE'), ('palestine', 'GPE'), ('persian', 'NORP'), ('saudi arabia', 'GPE'), ('somalia', 'GPE'), ('sudan', 'GPE'), ('syria', 'GPE'), ('turkey', 'GPE'), ('western', 'NORP'), ('yemen', 'GPE')]\n",
            "[('augsburg', 'GPE'), ('austro-bavarian', 'NORP'), ('bavaria', 'GPE'), ('danube', 'GPE'), ('german', 'NORP'), ('germany', 'GPE'), ('munich', 'GPE'), ('nuremberg', 'GPE'), ('rengschburch', 'GPE'), ('rengschburg', 'GPE'), ('the state', 'GPE'), ('us', 'GPE')]\n",
            "[('calabria', 'GPE'), ('emilia-romagna', 'NORP'), ('emilian', 'NORP'), ('italian', 'NORP'), ('italy', 'GPE'), ('latin', 'NORP'), ('reggiani', 'NORP'), ('reggini', 'GPE'), ('reggio', 'GPE'), ('the province of reggio emilia', 'GPE'), ('us', 'GPE')]\n",
            "[('american', 'NORP'), ('argentine', 'NORP'), ('bolivian', 'NORP'), ('chilean', 'NORP'), ('colombian', 'NORP'), ('costa rican', 'NORP'), ('cuban', 'NORP'), ('ecuador', 'GPE'), ('featherweight', 'GPE'), ('mexican', 'NORP'), ('new orleans', 'GPE'), ('new york', 'GPE'), ('peruvian', 'NORP'), ('rochester', 'GPE'), ('spain', 'GPE'), ('spanish', 'NORP'), ('the dominican republic', 'GPE'), ('venezuelan', 'NORP')]\n",
            "[('afghanistan', 'GPE'), ('india', 'GPE'), ('iran', 'GPE'), ('japan', 'GPE'), ('japanese', 'NORP'), ('korea', 'GPE'), ('mainland china', 'GPE'), ('myanmar', 'GPE'), ('nepal', 'GPE'), ('pakistan', 'GPE'), ('taiwan', 'GPE'), ('thailand', 'GPE'), ('west siberia', 'GPE')]\n",
            "[('aragonese', 'NORP'), ('italian', 'NORP'), ('pisans', 'NORP'), ('sardinia', 'GPE'), ('sardinian', 'NORP'), ('sassarese', 'NORP'), ('sassaresi', 'NORP'), ('sassari', 'GPE'), ('spanish', 'NORP'), ('tàtari', 'NORP'), ('us', 'GPE')]\n",
            "[('bucharest', 'GPE'), ('german', 'NORP'), ('hermanshtat', 'GPE'), ('hungarian', 'NORP'), ('härmeschtat', 'NORP'), ('romania', 'GPE'), ('romanian', 'NORP'), ('sibiu', 'GPE'), ('sibiu county', 'GPE'), ('transylvania', 'GPE'), ('transylvanian', 'NORP'), ('yiddish', 'NORP')]\n",
            "[('austria', 'GPE'), ('bukovina', 'GPE'), ('german', 'NORP'), ('hungary', 'GPE'), ('kingdom of romania', 'GPE'), ('moldavia', 'GPE'), ('old kingdom', 'GPE'), ('romania', 'GPE'), ('romanian', 'NORP'), ('suceava county', 'GPE'), ('the austrian empire', 'GPE')]\n",
            "[('chengdu', 'GPE'), ('chinese', 'NORP'), ('chongqing', 'GPE'), ('deyang', 'GPE'), (\"guang'an\", 'GPE'), ('mianyang', 'GPE'), ('nanchong', 'GPE'), ('neijiang', 'GPE'), ('sichuan', 'GPE'), ('sichuanese', 'NORP'), ('ziyang', 'GPE')]\n",
            "[('german', 'NORP'), ('hungarian', 'NORP'), ('romania', 'GPE'), ('romanian', 'NORP'), ('serbian', 'NORP'), ('temeschburg', 'GPE'), ('temeschwar', 'GPE'), ('the city of flowers', 'GPE'), ('timiș county', 'GPE'), ('timișoara', 'GPE'), ('turkish', 'NORP'), ('uk', 'GPE'), ('us', 'GPE')]\n",
            "[('afghanistan', 'GPE'), ('china', 'GPE'), ('iran', 'GPE'), ('kazakhstan', 'GPE'), ('kyrgyzstan', 'GPE'), ('persian', 'NORP'), ('tajikistan', 'GPE'), ('tibet', 'GPE'), ('turkistan', 'GPE'), ('turkmenistan', 'GPE'), ('turks', 'NORP'), ('uyghuristan', 'GPE'), ('xinjiang', 'GPE')]\n",
            "[('al-qassim province', 'GPE'), ('arabic', 'NORP'), ('buraydah', 'GPE'), ('iran', 'GPE'), ('iraq', 'GPE'), ('muslim', 'NORP'), ('onaizah', 'GPE'), ('onizah', 'GPE'), ('persia', 'GPE'), ('riyadh', 'GPE'), ('saudi arabian', 'NORP'), ('the al qassim province', 'GPE'), ('the kingdom of saudi arabia', 'GPE'), ('unaizah', 'GPE'), ('unayzah', 'NORP')]\n",
            "[('fujian province', 'GPE'), ('haicang', 'GPE'), ('hokkien', 'GPE'), ('huli', 'GPE'), ('jimei', 'GPE'), (\"people's republic of china\", 'GPE'), (\"tong'an\", 'GPE'), ('uk', 'GPE'), ('us', 'GPE'), ('xiamen', 'GPE'), (\"xiang'an\", 'GPE')]\n",
            "[('andong city', 'GPE'), ('bonghwa county', 'GPE'), ('confucian', 'NORP'), ('danyang county', 'GPE'), ('gangwon province', 'GPE'), ('korean', 'NORP'), ('north chungcheong', 'GPE'), ('north gyeongsang', 'GPE'), ('south korea', 'GPE'), ('yecheon', 'GPE'), ('yeongju', 'GPE'), ('yeongwol county', 'GPE')]\n",
            "[('korean', 'NORP'), ('namhae county', 'GPE'), ('south gyeongsang province', 'GPE'), ('south jeolla province', 'GPE'), ('south korea', 'GPE'), ('suncheon', 'GPE'), ('yeocheon city', 'GPE'), ('yeocheon county', 'GPE'), ('yeosu', 'GPE'), ('yeosu', 'NORP'), ('yeosu city', 'GPE')]\n",
            "[('anshan', 'GPE'), ('chinese', 'NORP'), ('dalian', 'GPE'), ('huludao', 'GPE'), ('jinzhou', 'GPE'), ('liaoning', 'GPE'), ('liaoning province', 'GPE'), ('panjin', 'GPE'), (\"people's republic of china\", 'GPE'), ('yíngkǒu', 'GPE'), ('zhanqian', 'NORP')]\n",
            "[('binzhou', 'GPE'), ('boshan', 'GPE'), ('china', 'GPE'), ('chinese', 'NORP'), ('jinan', 'GPE'), ('laiwu', 'GPE'), ('linyi', 'GPE'), ('shandong province', 'GPE'), (\"tai'an\", 'GPE'), ('weifang', 'GPE'), ('zhangdian', 'NORP'), ('zhoucun', 'GPE'), ('zichuan', 'GPE')]\n"
          ],
          "name": "stdout"
        }
      ]
    },
    {
      "cell_type": "code",
      "metadata": {
        "id": "ERcIShy7uYjO",
        "colab_type": "code",
        "colab": {}
      },
      "source": [
        ""
      ],
      "execution_count": 0,
      "outputs": []
    }
  ]
}