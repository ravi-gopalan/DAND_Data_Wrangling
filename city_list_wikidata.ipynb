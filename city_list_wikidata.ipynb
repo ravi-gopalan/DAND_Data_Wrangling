{
  "nbformat": 4,
  "nbformat_minor": 0,
  "metadata": {
    "colab": {
      "name": "city_list_wikidata.ipynb",
      "provenance": [],
      "authorship_tag": "ABX9TyPUx0W73Y3sLfLcx1DMfmdb",
      "include_colab_link": true
    },
    "kernelspec": {
      "name": "python3",
      "display_name": "Python 3"
    },
    "accelerator": "GPU"
  },
  "cells": [
    {
      "cell_type": "markdown",
      "metadata": {
        "id": "view-in-github",
        "colab_type": "text"
      },
      "source": [
        "<a href=\"https://colab.research.google.com/github/ravi-gopalan/DAND_Data_Wrangling/blob/master/city_list_wikidata.ipynb\" target=\"_parent\"><img src=\"https://colab.research.google.com/assets/colab-badge.svg\" alt=\"Open In Colab\"/></a>"
      ]
    },
    {
      "cell_type": "code",
      "metadata": {
        "id": "Eh8Zt0FQamyN",
        "colab_type": "code",
        "colab": {
          "base_uri": "https://localhost:8080/",
          "height": 225
        },
        "outputId": "fab887da-9901-4ed2-e407-065f90f711e2"
      },
      "source": [
        "!pip install sparqlwrapper"
      ],
      "execution_count": 1,
      "outputs": [
        {
          "output_type": "stream",
          "text": [
            "Collecting sparqlwrapper\n",
            "  Downloading https://files.pythonhosted.org/packages/00/9b/443fbe06996c080ee9c1f01b04e2f683b2b07e149905f33a2397ee3b80a2/SPARQLWrapper-1.8.5-py3-none-any.whl\n",
            "Collecting rdflib>=4.0\n",
            "\u001b[?25l  Downloading https://files.pythonhosted.org/packages/3c/fe/630bacb652680f6d481b9febbb3e2c3869194a1a5fc3401a4a41195a2f8f/rdflib-4.2.2-py3-none-any.whl (344kB)\n",
            "\r\u001b[K     |█                               | 10kB 32.9MB/s eta 0:00:01\r\u001b[K     |██                              | 20kB 41.2MB/s eta 0:00:01\r\u001b[K     |██▉                             | 30kB 49.4MB/s eta 0:00:01\r\u001b[K     |███▉                            | 40kB 11.2MB/s eta 0:00:01\r\u001b[K     |████▊                           | 51kB 13.3MB/s eta 0:00:01\r\u001b[K     |█████▊                          | 61kB 15.4MB/s eta 0:00:01\r\u001b[K     |██████▋                         | 71kB 17.2MB/s eta 0:00:01\r\u001b[K     |███████▋                        | 81kB 18.8MB/s eta 0:00:01\r\u001b[K     |████████▋                       | 92kB 20.5MB/s eta 0:00:01\r\u001b[K     |█████████▌                      | 102kB 22.1MB/s eta 0:00:01\r\u001b[K     |██████████▌                     | 112kB 22.1MB/s eta 0:00:01\r\u001b[K     |███████████▍                    | 122kB 22.1MB/s eta 0:00:01\r\u001b[K     |████████████▍                   | 133kB 22.1MB/s eta 0:00:01\r\u001b[K     |█████████████▎                  | 143kB 22.1MB/s eta 0:00:01\r\u001b[K     |██████████████▎                 | 153kB 22.1MB/s eta 0:00:01\r\u001b[K     |███████████████▎                | 163kB 22.1MB/s eta 0:00:01\r\u001b[K     |████████████████▏               | 174kB 22.1MB/s eta 0:00:01\r\u001b[K     |█████████████████▏              | 184kB 22.1MB/s eta 0:00:01\r\u001b[K     |██████████████████              | 194kB 22.1MB/s eta 0:00:01\r\u001b[K     |███████████████████             | 204kB 22.1MB/s eta 0:00:01\r\u001b[K     |████████████████████            | 215kB 22.1MB/s eta 0:00:01\r\u001b[K     |█████████████████████           | 225kB 22.1MB/s eta 0:00:01\r\u001b[K     |██████████████████████          | 235kB 22.1MB/s eta 0:00:01\r\u001b[K     |██████████████████████▉         | 245kB 22.1MB/s eta 0:00:01\r\u001b[K     |███████████████████████▉        | 256kB 22.1MB/s eta 0:00:01\r\u001b[K     |████████████████████████▊       | 266kB 22.1MB/s eta 0:00:01\r\u001b[K     |█████████████████████████▊      | 276kB 22.1MB/s eta 0:00:01\r\u001b[K     |██████████████████████████▋     | 286kB 22.1MB/s eta 0:00:01\r\u001b[K     |███████████████████████████▋    | 296kB 22.1MB/s eta 0:00:01\r\u001b[K     |████████████████████████████▋   | 307kB 22.1MB/s eta 0:00:01\r\u001b[K     |█████████████████████████████▌  | 317kB 22.1MB/s eta 0:00:01\r\u001b[K     |██████████████████████████████▌ | 327kB 22.1MB/s eta 0:00:01\r\u001b[K     |███████████████████████████████▍| 337kB 22.1MB/s eta 0:00:01\r\u001b[K     |████████████████████████████████| 348kB 22.1MB/s \n",
            "\u001b[?25hCollecting isodate\n",
            "\u001b[?25l  Downloading https://files.pythonhosted.org/packages/9b/9f/b36f7774ff5ea8e428fdcfc4bb332c39ee5b9362ddd3d40d9516a55221b2/isodate-0.6.0-py2.py3-none-any.whl (45kB)\n",
            "\r\u001b[K     |███████▏                        | 10kB 29.8MB/s eta 0:00:01\r\u001b[K     |██████████████▍                 | 20kB 39.3MB/s eta 0:00:01\r\u001b[K     |█████████████████████▌          | 30kB 44.8MB/s eta 0:00:01\r\u001b[K     |████████████████████████████▊   | 40kB 27.5MB/s eta 0:00:01\r\u001b[K     |████████████████████████████████| 51kB 7.9MB/s \n",
            "\u001b[?25hRequirement already satisfied: pyparsing in /usr/local/lib/python3.6/dist-packages (from rdflib>=4.0->sparqlwrapper) (2.4.6)\n",
            "Requirement already satisfied: six in /usr/local/lib/python3.6/dist-packages (from isodate->rdflib>=4.0->sparqlwrapper) (1.12.0)\n",
            "Installing collected packages: isodate, rdflib, sparqlwrapper\n",
            "Successfully installed isodate-0.6.0 rdflib-4.2.2 sparqlwrapper-1.8.5\n"
          ],
          "name": "stdout"
        }
      ]
    },
    {
      "cell_type": "code",
      "metadata": {
        "id": "qpnlduPBbMp9",
        "colab_type": "code",
        "colab": {
          "base_uri": "https://localhost:8080/",
          "height": 278
        },
        "outputId": "a1770fbb-745d-4d7a-e1b5-9ef1087634cc"
      },
      "source": [
        "!pip install wikipedia"
      ],
      "execution_count": 2,
      "outputs": [
        {
          "output_type": "stream",
          "text": [
            "Collecting wikipedia\n",
            "  Downloading https://files.pythonhosted.org/packages/67/35/25e68fbc99e672127cc6fbb14b8ec1ba3dfef035bf1e4c90f78f24a80b7d/wikipedia-1.4.0.tar.gz\n",
            "Requirement already satisfied: beautifulsoup4 in /usr/local/lib/python3.6/dist-packages (from wikipedia) (4.6.3)\n",
            "Requirement already satisfied: requests<3.0.0,>=2.0.0 in /usr/local/lib/python3.6/dist-packages (from wikipedia) (2.21.0)\n",
            "Requirement already satisfied: urllib3<1.25,>=1.21.1 in /usr/local/lib/python3.6/dist-packages (from requests<3.0.0,>=2.0.0->wikipedia) (1.24.3)\n",
            "Requirement already satisfied: idna<2.9,>=2.5 in /usr/local/lib/python3.6/dist-packages (from requests<3.0.0,>=2.0.0->wikipedia) (2.8)\n",
            "Requirement already satisfied: chardet<3.1.0,>=3.0.2 in /usr/local/lib/python3.6/dist-packages (from requests<3.0.0,>=2.0.0->wikipedia) (3.0.4)\n",
            "Requirement already satisfied: certifi>=2017.4.17 in /usr/local/lib/python3.6/dist-packages (from requests<3.0.0,>=2.0.0->wikipedia) (2019.11.28)\n",
            "Building wheels for collected packages: wikipedia\n",
            "  Building wheel for wikipedia (setup.py) ... \u001b[?25l\u001b[?25hdone\n",
            "  Created wheel for wikipedia: filename=wikipedia-1.4.0-cp36-none-any.whl size=11686 sha256=db4b9b076e788f50a1c5109b7ae68efe83f645df60e45cc54a168aca245fec63\n",
            "  Stored in directory: /root/.cache/pip/wheels/87/2a/18/4e471fd96d12114d16fe4a446d00c3b38fb9efcb744bd31f4a\n",
            "Successfully built wikipedia\n",
            "Installing collected packages: wikipedia\n",
            "Successfully installed wikipedia-1.4.0\n"
          ],
          "name": "stdout"
        }
      ]
    },
    {
      "cell_type": "code",
      "metadata": {
        "id": "Y65KIeXidF0Q",
        "colab_type": "code",
        "colab": {}
      },
      "source": [
        "import pandas as pd\n",
        "import numpy as np\n",
        "import json\n",
        "from SPARQLWrapper import SPARQLWrapper, JSON\n",
        "import re\n",
        "from collections import Counter\n",
        "import time\n",
        "import itertools\n",
        "import wikipedia\n",
        "import requests\n",
        "from pandas.io.json import json_normalize\n",
        "\n",
        "from IPython.core.interactiveshell import InteractiveShell\n",
        "InteractiveShell.ast_node_interactivity = \"all\""
      ],
      "execution_count": 0,
      "outputs": []
    },
    {
      "cell_type": "code",
      "metadata": {
        "id": "7CwdeDdrdd3U",
        "colab_type": "code",
        "colab": {}
      },
      "source": [
        "def get_results(endpoint_url, query):\n",
        "    sparql = SPARQLWrapper(endpoint_url)\n",
        "    sparql.setQuery(query)\n",
        "    sparql.setReturnFormat(JSON)\n",
        "    result = sparql.query()\n",
        "\n",
        "    processed_results = json.load(result.response)\n",
        "    cols = processed_results['head']['vars']\n",
        "\n",
        "    out = []\n",
        "    for row in processed_results['results']['bindings']:\n",
        "      item = []\n",
        "      for c in cols:\n",
        "        item.append(row.get(c, {}).get('value'))\n",
        "      out.append(item)\n",
        "    return pd.DataFrame(out, columns = cols)"
      ],
      "execution_count": 0,
      "outputs": []
    },
    {
      "cell_type": "code",
      "metadata": {
        "id": "F3qbNBcMdrP0",
        "colab_type": "code",
        "colab": {}
      },
      "source": [
        "\n",
        "url = \"https://query.wikidata.org/sparql\"\n",
        "\n",
        "query = '''\n",
        "SELECT ?instance_of ?instance_ofLabel ?country ?countryLabel ?located_in_the_administrative_territorial_entity ?located_in_the_administrative_territorial_entityLabel WHERE \n",
        "{\n",
        "  SERVICE wikibase:label { bd:serviceParam wikibase:language \"[AUTO_LANGUAGE],en\". }\n",
        "  ?instance_of wdt:P31 wd:Q515.\n",
        "  OPTIONAL { ?instance_of wdt:P17 ?country. }\n",
        "  OPTIONAL { ?instance_of wdt:P131 ?located_in_the_administrative_territorial_entity. }\n",
        "}\n",
        "'''\n",
        "#  print(query)\n",
        "\n",
        "df = get_results(url, query)"
      ],
      "execution_count": 0,
      "outputs": []
    },
    {
      "cell_type": "code",
      "metadata": {
        "id": "zctPsIA6ebQ3",
        "colab_type": "code",
        "colab": {
          "base_uri": "https://localhost:8080/",
          "height": 251
        },
        "outputId": "9ba98f22-f58e-4725-c335-3708d3f53a52"
      },
      "source": [
        "df.head()"
      ],
      "execution_count": 7,
      "outputs": [
        {
          "output_type": "execute_result",
          "data": {
            "text/html": [
              "<div>\n",
              "<style scoped>\n",
              "    .dataframe tbody tr th:only-of-type {\n",
              "        vertical-align: middle;\n",
              "    }\n",
              "\n",
              "    .dataframe tbody tr th {\n",
              "        vertical-align: top;\n",
              "    }\n",
              "\n",
              "    .dataframe thead th {\n",
              "        text-align: right;\n",
              "    }\n",
              "</style>\n",
              "<table border=\"1\" class=\"dataframe\">\n",
              "  <thead>\n",
              "    <tr style=\"text-align: right;\">\n",
              "      <th></th>\n",
              "      <th>instance_of</th>\n",
              "      <th>instance_ofLabel</th>\n",
              "      <th>country</th>\n",
              "      <th>countryLabel</th>\n",
              "      <th>located_in_the_administrative_territorial_entity</th>\n",
              "      <th>located_in_the_administrative_territorial_entityLabel</th>\n",
              "    </tr>\n",
              "  </thead>\n",
              "  <tbody>\n",
              "    <tr>\n",
              "      <th>0</th>\n",
              "      <td>http://www.wikidata.org/entity/Q3940</td>\n",
              "      <td>Victoria</td>\n",
              "      <td>http://www.wikidata.org/entity/Q1042</td>\n",
              "      <td>Seychelles</td>\n",
              "      <td>http://www.wikidata.org/entity/Q1042</td>\n",
              "      <td>Seychelles</td>\n",
              "    </tr>\n",
              "    <tr>\n",
              "      <th>1</th>\n",
              "      <td>http://www.wikidata.org/entity/Q3992</td>\n",
              "      <td>Liège</td>\n",
              "      <td>http://www.wikidata.org/entity/Q31</td>\n",
              "      <td>Belgium</td>\n",
              "      <td>http://www.wikidata.org/entity/Q1127</td>\n",
              "      <td>Liège</td>\n",
              "    </tr>\n",
              "    <tr>\n",
              "      <th>2</th>\n",
              "      <td>http://www.wikidata.org/entity/Q4035</td>\n",
              "      <td>Osasco</td>\n",
              "      <td>http://www.wikidata.org/entity/Q155</td>\n",
              "      <td>Brazil</td>\n",
              "      <td>http://www.wikidata.org/entity/Q175</td>\n",
              "      <td>São Paulo</td>\n",
              "    </tr>\n",
              "    <tr>\n",
              "      <th>3</th>\n",
              "      <td>http://www.wikidata.org/entity/Q4045</td>\n",
              "      <td>Fujairah</td>\n",
              "      <td>http://www.wikidata.org/entity/Q878</td>\n",
              "      <td>United Arab Emirates</td>\n",
              "      <td>http://www.wikidata.org/entity/Q4091</td>\n",
              "      <td>Fujairah</td>\n",
              "    </tr>\n",
              "    <tr>\n",
              "      <th>4</th>\n",
              "      <td>http://www.wikidata.org/entity/Q4093</td>\n",
              "      <td>Glasgow</td>\n",
              "      <td>http://www.wikidata.org/entity/Q145</td>\n",
              "      <td>United Kingdom</td>\n",
              "      <td>http://www.wikidata.org/entity/Q55934339</td>\n",
              "      <td>Glasgow City</td>\n",
              "    </tr>\n",
              "  </tbody>\n",
              "</table>\n",
              "</div>"
            ],
            "text/plain": [
              "                            instance_of  ... located_in_the_administrative_territorial_entityLabel\n",
              "0  http://www.wikidata.org/entity/Q3940  ...                                         Seychelles   \n",
              "1  http://www.wikidata.org/entity/Q3992  ...                                              Liège   \n",
              "2  http://www.wikidata.org/entity/Q4035  ...                                          São Paulo   \n",
              "3  http://www.wikidata.org/entity/Q4045  ...                                           Fujairah   \n",
              "4  http://www.wikidata.org/entity/Q4093  ...                                       Glasgow City   \n",
              "\n",
              "[5 rows x 6 columns]"
            ]
          },
          "metadata": {
            "tags": []
          },
          "execution_count": 7
        }
      ]
    },
    {
      "cell_type": "code",
      "metadata": {
        "id": "aWMvgXsiewwh",
        "colab_type": "code",
        "colab": {
          "base_uri": "https://localhost:8080/",
          "height": 208
        },
        "outputId": "7e1224e1-23f5-4a9a-e798-00b7058cbf1f"
      },
      "source": [
        "df.info()"
      ],
      "execution_count": 8,
      "outputs": [
        {
          "output_type": "stream",
          "text": [
            "<class 'pandas.core.frame.DataFrame'>\n",
            "RangeIndex: 10084 entries, 0 to 10083\n",
            "Data columns (total 6 columns):\n",
            "instance_of                                              10084 non-null object\n",
            "instance_ofLabel                                         10084 non-null object\n",
            "country                                                  9605 non-null object\n",
            "countryLabel                                             9605 non-null object\n",
            "located_in_the_administrative_territorial_entity         8465 non-null object\n",
            "located_in_the_administrative_territorial_entityLabel    8465 non-null object\n",
            "dtypes: object(6)\n",
            "memory usage: 472.8+ KB\n"
          ],
          "name": "stdout"
        }
      ]
    },
    {
      "cell_type": "code",
      "metadata": {
        "id": "nMiDXLm3eyDd",
        "colab_type": "code",
        "colab": {
          "base_uri": "https://localhost:8080/",
          "height": 460
        },
        "outputId": "e2933ee3-8d0b-4fc5-d77c-3a7a40d5ba1e"
      },
      "source": [
        "df.sort_values(['countryLabel','located_in_the_administrative_territorial_entityLabel','instance_ofLabel'],inplace=True)"
      ],
      "execution_count": 9,
      "outputs": [
        {
          "output_type": "execute_result",
          "data": {
            "text/html": [
              "<div>\n",
              "<style scoped>\n",
              "    .dataframe tbody tr th:only-of-type {\n",
              "        vertical-align: middle;\n",
              "    }\n",
              "\n",
              "    .dataframe tbody tr th {\n",
              "        vertical-align: top;\n",
              "    }\n",
              "\n",
              "    .dataframe thead th {\n",
              "        text-align: right;\n",
              "    }\n",
              "</style>\n",
              "<table border=\"1\" class=\"dataframe\">\n",
              "  <thead>\n",
              "    <tr style=\"text-align: right;\">\n",
              "      <th></th>\n",
              "      <th>instance_of</th>\n",
              "      <th>instance_ofLabel</th>\n",
              "      <th>country</th>\n",
              "      <th>countryLabel</th>\n",
              "      <th>located_in_the_administrative_territorial_entity</th>\n",
              "      <th>located_in_the_administrative_territorial_entityLabel</th>\n",
              "    </tr>\n",
              "  </thead>\n",
              "  <tbody>\n",
              "    <tr>\n",
              "      <th>9359</th>\n",
              "      <td>http://www.wikidata.org/entity/Q11929668</td>\n",
              "      <td>Karkh</td>\n",
              "      <td>http://www.wikidata.org/entity/Q12536</td>\n",
              "      <td>Abbasid Caliphate</td>\n",
              "      <td>None</td>\n",
              "      <td>None</td>\n",
              "    </tr>\n",
              "    <tr>\n",
              "      <th>9318</th>\n",
              "      <td>http://www.wikidata.org/entity/Q11925148</td>\n",
              "      <td>Q11925148</td>\n",
              "      <td>http://www.wikidata.org/entity/Q26857</td>\n",
              "      <td>Aetolia</td>\n",
              "      <td>None</td>\n",
              "      <td>None</td>\n",
              "    </tr>\n",
              "    <tr>\n",
              "      <th>6568</th>\n",
              "      <td>http://www.wikidata.org/entity/Q685808</td>\n",
              "      <td>Asadabad</td>\n",
              "      <td>http://www.wikidata.org/entity/Q889</td>\n",
              "      <td>Afghanistan</td>\n",
              "      <td>http://www.wikidata.org/entity/Q2663257</td>\n",
              "      <td>Asadabad</td>\n",
              "    </tr>\n",
              "    <tr>\n",
              "      <th>6639</th>\n",
              "      <td>http://www.wikidata.org/entity/Q1020649</td>\n",
              "      <td>Samangan</td>\n",
              "      <td>http://www.wikidata.org/entity/Q889</td>\n",
              "      <td>Afghanistan</td>\n",
              "      <td>http://www.wikidata.org/entity/Q3694404</td>\n",
              "      <td>Aybak</td>\n",
              "    </tr>\n",
              "    <tr>\n",
              "      <th>7049</th>\n",
              "      <td>http://www.wikidata.org/entity/Q732879</td>\n",
              "      <td>Baghlan</td>\n",
              "      <td>http://www.wikidata.org/entity/Q889</td>\n",
              "      <td>Afghanistan</td>\n",
              "      <td>http://www.wikidata.org/entity/Q170309</td>\n",
              "      <td>Baghlan</td>\n",
              "    </tr>\n",
              "    <tr>\n",
              "      <th>...</th>\n",
              "      <td>...</td>\n",
              "      <td>...</td>\n",
              "      <td>...</td>\n",
              "      <td>...</td>\n",
              "      <td>...</td>\n",
              "      <td>...</td>\n",
              "    </tr>\n",
              "    <tr>\n",
              "      <th>10015</th>\n",
              "      <td>http://www.wikidata.org/entity/Q65088955</td>\n",
              "      <td>Triopium</td>\n",
              "      <td>None</td>\n",
              "      <td>None</td>\n",
              "      <td>None</td>\n",
              "      <td>None</td>\n",
              "    </tr>\n",
              "    <tr>\n",
              "      <th>7960</th>\n",
              "      <td>http://www.wikidata.org/entity/Q5373099</td>\n",
              "      <td>Ur Kaśdim</td>\n",
              "      <td>None</td>\n",
              "      <td>None</td>\n",
              "      <td>None</td>\n",
              "      <td>None</td>\n",
              "    </tr>\n",
              "    <tr>\n",
              "      <th>8680</th>\n",
              "      <td>http://www.wikidata.org/entity/Q46187190</td>\n",
              "      <td>Uscana</td>\n",
              "      <td>None</td>\n",
              "      <td>None</td>\n",
              "      <td>None</td>\n",
              "      <td>None</td>\n",
              "    </tr>\n",
              "    <tr>\n",
              "      <th>9263</th>\n",
              "      <td>http://www.wikidata.org/entity/Q11878638</td>\n",
              "      <td>Velká Olomouc</td>\n",
              "      <td>None</td>\n",
              "      <td>None</td>\n",
              "      <td>None</td>\n",
              "      <td>None</td>\n",
              "    </tr>\n",
              "    <tr>\n",
              "      <th>9958</th>\n",
              "      <td>http://www.wikidata.org/entity/Q25230774</td>\n",
              "      <td>Wanyjok, South Sudan</td>\n",
              "      <td>None</td>\n",
              "      <td>None</td>\n",
              "      <td>None</td>\n",
              "      <td>None</td>\n",
              "    </tr>\n",
              "  </tbody>\n",
              "</table>\n",
              "<p>10084 rows × 6 columns</p>\n",
              "</div>"
            ],
            "text/plain": [
              "                                    instance_of  ... located_in_the_administrative_territorial_entityLabel\n",
              "9359   http://www.wikidata.org/entity/Q11929668  ...                                               None   \n",
              "9318   http://www.wikidata.org/entity/Q11925148  ...                                               None   \n",
              "6568     http://www.wikidata.org/entity/Q685808  ...                                           Asadabad   \n",
              "6639    http://www.wikidata.org/entity/Q1020649  ...                                              Aybak   \n",
              "7049     http://www.wikidata.org/entity/Q732879  ...                                            Baghlan   \n",
              "...                                         ...  ...                                                ...   \n",
              "10015  http://www.wikidata.org/entity/Q65088955  ...                                               None   \n",
              "7960    http://www.wikidata.org/entity/Q5373099  ...                                               None   \n",
              "8680   http://www.wikidata.org/entity/Q46187190  ...                                               None   \n",
              "9263   http://www.wikidata.org/entity/Q11878638  ...                                               None   \n",
              "9958   http://www.wikidata.org/entity/Q25230774  ...                                               None   \n",
              "\n",
              "[10084 rows x 6 columns]"
            ]
          },
          "metadata": {
            "tags": []
          },
          "execution_count": 9
        }
      ]
    },
    {
      "cell_type": "code",
      "metadata": {
        "id": "nuZRF-NdfJaz",
        "colab_type": "code",
        "colab": {
          "base_uri": "https://localhost:8080/",
          "height": 251
        },
        "outputId": "4015c073-ed6e-4032-c5b0-59ee49135d16"
      },
      "source": [
        "df = df[['countryLabel','located_in_the_administrative_territorial_entityLabel','instance_ofLabel',\\\n",
        "         'country','located_in_the_administrative_territorial_entity','instance_of']]\n",
        "df.head()"
      ],
      "execution_count": 6,
      "outputs": [
        {
          "output_type": "execute_result",
          "data": {
            "text/html": [
              "<div>\n",
              "<style scoped>\n",
              "    .dataframe tbody tr th:only-of-type {\n",
              "        vertical-align: middle;\n",
              "    }\n",
              "\n",
              "    .dataframe tbody tr th {\n",
              "        vertical-align: top;\n",
              "    }\n",
              "\n",
              "    .dataframe thead th {\n",
              "        text-align: right;\n",
              "    }\n",
              "</style>\n",
              "<table border=\"1\" class=\"dataframe\">\n",
              "  <thead>\n",
              "    <tr style=\"text-align: right;\">\n",
              "      <th></th>\n",
              "      <th>countryLabel</th>\n",
              "      <th>located_in_the_administrative_territorial_entityLabel</th>\n",
              "      <th>instance_ofLabel</th>\n",
              "      <th>country</th>\n",
              "      <th>located_in_the_administrative_territorial_entity</th>\n",
              "      <th>instance_of</th>\n",
              "    </tr>\n",
              "  </thead>\n",
              "  <tbody>\n",
              "    <tr>\n",
              "      <th>0</th>\n",
              "      <td>Seychelles</td>\n",
              "      <td>Seychelles</td>\n",
              "      <td>Victoria</td>\n",
              "      <td>http://www.wikidata.org/entity/Q1042</td>\n",
              "      <td>http://www.wikidata.org/entity/Q1042</td>\n",
              "      <td>http://www.wikidata.org/entity/Q3940</td>\n",
              "    </tr>\n",
              "    <tr>\n",
              "      <th>1</th>\n",
              "      <td>Belgium</td>\n",
              "      <td>Liège</td>\n",
              "      <td>Liège</td>\n",
              "      <td>http://www.wikidata.org/entity/Q31</td>\n",
              "      <td>http://www.wikidata.org/entity/Q1127</td>\n",
              "      <td>http://www.wikidata.org/entity/Q3992</td>\n",
              "    </tr>\n",
              "    <tr>\n",
              "      <th>2</th>\n",
              "      <td>Brazil</td>\n",
              "      <td>São Paulo</td>\n",
              "      <td>Osasco</td>\n",
              "      <td>http://www.wikidata.org/entity/Q155</td>\n",
              "      <td>http://www.wikidata.org/entity/Q175</td>\n",
              "      <td>http://www.wikidata.org/entity/Q4035</td>\n",
              "    </tr>\n",
              "    <tr>\n",
              "      <th>3</th>\n",
              "      <td>United Arab Emirates</td>\n",
              "      <td>Fujairah</td>\n",
              "      <td>Fujairah</td>\n",
              "      <td>http://www.wikidata.org/entity/Q878</td>\n",
              "      <td>http://www.wikidata.org/entity/Q4091</td>\n",
              "      <td>http://www.wikidata.org/entity/Q4045</td>\n",
              "    </tr>\n",
              "    <tr>\n",
              "      <th>4</th>\n",
              "      <td>United Kingdom</td>\n",
              "      <td>Glasgow City</td>\n",
              "      <td>Glasgow</td>\n",
              "      <td>http://www.wikidata.org/entity/Q145</td>\n",
              "      <td>http://www.wikidata.org/entity/Q55934339</td>\n",
              "      <td>http://www.wikidata.org/entity/Q4093</td>\n",
              "    </tr>\n",
              "  </tbody>\n",
              "</table>\n",
              "</div>"
            ],
            "text/plain": [
              "           countryLabel  ...                           instance_of\n",
              "0            Seychelles  ...  http://www.wikidata.org/entity/Q3940\n",
              "1               Belgium  ...  http://www.wikidata.org/entity/Q3992\n",
              "2                Brazil  ...  http://www.wikidata.org/entity/Q4035\n",
              "3  United Arab Emirates  ...  http://www.wikidata.org/entity/Q4045\n",
              "4        United Kingdom  ...  http://www.wikidata.org/entity/Q4093\n",
              "\n",
              "[5 rows x 6 columns]"
            ]
          },
          "metadata": {
            "tags": []
          },
          "execution_count": 6
        }
      ]
    },
    {
      "cell_type": "code",
      "metadata": {
        "id": "iCqlqu2qgTwq",
        "colab_type": "code",
        "colab": {}
      },
      "source": [
        "df.sort_values(['countryLabel','located_in_the_administrative_territorial_entityLabel','instance_ofLabel'],inplace=True)"
      ],
      "execution_count": 0,
      "outputs": []
    },
    {
      "cell_type": "code",
      "metadata": {
        "id": "R4KPEUE7gZLT",
        "colab_type": "code",
        "colab": {
          "base_uri": "https://localhost:8080/",
          "height": 234
        },
        "outputId": "db8ec37a-0fe8-487a-f3e2-28b37718be6f"
      },
      "source": [
        "df.head()"
      ],
      "execution_count": 12,
      "outputs": [
        {
          "output_type": "execute_result",
          "data": {
            "text/html": [
              "<div>\n",
              "<style scoped>\n",
              "    .dataframe tbody tr th:only-of-type {\n",
              "        vertical-align: middle;\n",
              "    }\n",
              "\n",
              "    .dataframe tbody tr th {\n",
              "        vertical-align: top;\n",
              "    }\n",
              "\n",
              "    .dataframe thead th {\n",
              "        text-align: right;\n",
              "    }\n",
              "</style>\n",
              "<table border=\"1\" class=\"dataframe\">\n",
              "  <thead>\n",
              "    <tr style=\"text-align: right;\">\n",
              "      <th></th>\n",
              "      <th>countryLabel</th>\n",
              "      <th>located_in_the_administrative_territorial_entityLabel</th>\n",
              "      <th>instance_ofLabel</th>\n",
              "      <th>country</th>\n",
              "      <th>located_in_the_administrative_territorial_entity</th>\n",
              "      <th>instance_of</th>\n",
              "    </tr>\n",
              "  </thead>\n",
              "  <tbody>\n",
              "    <tr>\n",
              "      <th>9359</th>\n",
              "      <td>Abbasid Caliphate</td>\n",
              "      <td>None</td>\n",
              "      <td>Karkh</td>\n",
              "      <td>http://www.wikidata.org/entity/Q12536</td>\n",
              "      <td>None</td>\n",
              "      <td>http://www.wikidata.org/entity/Q11929668</td>\n",
              "    </tr>\n",
              "    <tr>\n",
              "      <th>9318</th>\n",
              "      <td>Aetolia</td>\n",
              "      <td>None</td>\n",
              "      <td>Q11925148</td>\n",
              "      <td>http://www.wikidata.org/entity/Q26857</td>\n",
              "      <td>None</td>\n",
              "      <td>http://www.wikidata.org/entity/Q11925148</td>\n",
              "    </tr>\n",
              "    <tr>\n",
              "      <th>6568</th>\n",
              "      <td>Afghanistan</td>\n",
              "      <td>Asadabad</td>\n",
              "      <td>Asadabad</td>\n",
              "      <td>http://www.wikidata.org/entity/Q889</td>\n",
              "      <td>http://www.wikidata.org/entity/Q2663257</td>\n",
              "      <td>http://www.wikidata.org/entity/Q685808</td>\n",
              "    </tr>\n",
              "    <tr>\n",
              "      <th>6639</th>\n",
              "      <td>Afghanistan</td>\n",
              "      <td>Aybak</td>\n",
              "      <td>Samangan</td>\n",
              "      <td>http://www.wikidata.org/entity/Q889</td>\n",
              "      <td>http://www.wikidata.org/entity/Q3694404</td>\n",
              "      <td>http://www.wikidata.org/entity/Q1020649</td>\n",
              "    </tr>\n",
              "    <tr>\n",
              "      <th>7049</th>\n",
              "      <td>Afghanistan</td>\n",
              "      <td>Baghlan</td>\n",
              "      <td>Baghlan</td>\n",
              "      <td>http://www.wikidata.org/entity/Q889</td>\n",
              "      <td>http://www.wikidata.org/entity/Q170309</td>\n",
              "      <td>http://www.wikidata.org/entity/Q732879</td>\n",
              "    </tr>\n",
              "  </tbody>\n",
              "</table>\n",
              "</div>"
            ],
            "text/plain": [
              "           countryLabel  ...                               instance_of\n",
              "9359  Abbasid Caliphate  ...  http://www.wikidata.org/entity/Q11929668\n",
              "9318            Aetolia  ...  http://www.wikidata.org/entity/Q11925148\n",
              "6568        Afghanistan  ...    http://www.wikidata.org/entity/Q685808\n",
              "6639        Afghanistan  ...   http://www.wikidata.org/entity/Q1020649\n",
              "7049        Afghanistan  ...    http://www.wikidata.org/entity/Q732879\n",
              "\n",
              "[5 rows x 6 columns]"
            ]
          },
          "metadata": {
            "tags": []
          },
          "execution_count": 12
        }
      ]
    },
    {
      "cell_type": "code",
      "metadata": {
        "id": "HVXir-9tgbFd",
        "colab_type": "code",
        "colab": {
          "base_uri": "https://localhost:8080/",
          "height": 384
        },
        "outputId": "acf972f0-d0e7-4613-ee96-e1652065f98b"
      },
      "source": [
        "df.head(10)"
      ],
      "execution_count": 13,
      "outputs": [
        {
          "output_type": "execute_result",
          "data": {
            "text/html": [
              "<div>\n",
              "<style scoped>\n",
              "    .dataframe tbody tr th:only-of-type {\n",
              "        vertical-align: middle;\n",
              "    }\n",
              "\n",
              "    .dataframe tbody tr th {\n",
              "        vertical-align: top;\n",
              "    }\n",
              "\n",
              "    .dataframe thead th {\n",
              "        text-align: right;\n",
              "    }\n",
              "</style>\n",
              "<table border=\"1\" class=\"dataframe\">\n",
              "  <thead>\n",
              "    <tr style=\"text-align: right;\">\n",
              "      <th></th>\n",
              "      <th>countryLabel</th>\n",
              "      <th>located_in_the_administrative_territorial_entityLabel</th>\n",
              "      <th>instance_ofLabel</th>\n",
              "      <th>country</th>\n",
              "      <th>located_in_the_administrative_territorial_entity</th>\n",
              "      <th>instance_of</th>\n",
              "    </tr>\n",
              "  </thead>\n",
              "  <tbody>\n",
              "    <tr>\n",
              "      <th>9359</th>\n",
              "      <td>Abbasid Caliphate</td>\n",
              "      <td>None</td>\n",
              "      <td>Karkh</td>\n",
              "      <td>http://www.wikidata.org/entity/Q12536</td>\n",
              "      <td>None</td>\n",
              "      <td>http://www.wikidata.org/entity/Q11929668</td>\n",
              "    </tr>\n",
              "    <tr>\n",
              "      <th>9318</th>\n",
              "      <td>Aetolia</td>\n",
              "      <td>None</td>\n",
              "      <td>Q11925148</td>\n",
              "      <td>http://www.wikidata.org/entity/Q26857</td>\n",
              "      <td>None</td>\n",
              "      <td>http://www.wikidata.org/entity/Q11925148</td>\n",
              "    </tr>\n",
              "    <tr>\n",
              "      <th>6568</th>\n",
              "      <td>Afghanistan</td>\n",
              "      <td>Asadabad</td>\n",
              "      <td>Asadabad</td>\n",
              "      <td>http://www.wikidata.org/entity/Q889</td>\n",
              "      <td>http://www.wikidata.org/entity/Q2663257</td>\n",
              "      <td>http://www.wikidata.org/entity/Q685808</td>\n",
              "    </tr>\n",
              "    <tr>\n",
              "      <th>6639</th>\n",
              "      <td>Afghanistan</td>\n",
              "      <td>Aybak</td>\n",
              "      <td>Samangan</td>\n",
              "      <td>http://www.wikidata.org/entity/Q889</td>\n",
              "      <td>http://www.wikidata.org/entity/Q3694404</td>\n",
              "      <td>http://www.wikidata.org/entity/Q1020649</td>\n",
              "    </tr>\n",
              "    <tr>\n",
              "      <th>7049</th>\n",
              "      <td>Afghanistan</td>\n",
              "      <td>Baghlan</td>\n",
              "      <td>Baghlan</td>\n",
              "      <td>http://www.wikidata.org/entity/Q889</td>\n",
              "      <td>http://www.wikidata.org/entity/Q170309</td>\n",
              "      <td>http://www.wikidata.org/entity/Q732879</td>\n",
              "    </tr>\n",
              "    <tr>\n",
              "      <th>5549</th>\n",
              "      <td>Afghanistan</td>\n",
              "      <td>Balkh</td>\n",
              "      <td>Kholm</td>\n",
              "      <td>http://www.wikidata.org/entity/Q889</td>\n",
              "      <td>http://www.wikidata.org/entity/Q121104</td>\n",
              "      <td>http://www.wikidata.org/entity/Q1014375</td>\n",
              "    </tr>\n",
              "    <tr>\n",
              "      <th>2578</th>\n",
              "      <td>Afghanistan</td>\n",
              "      <td>Balkh</td>\n",
              "      <td>Mazar-i-Sharif</td>\n",
              "      <td>http://www.wikidata.org/entity/Q889</td>\n",
              "      <td>http://www.wikidata.org/entity/Q121104</td>\n",
              "      <td>http://www.wikidata.org/entity/Q130469</td>\n",
              "    </tr>\n",
              "    <tr>\n",
              "      <th>1811</th>\n",
              "      <td>Afghanistan</td>\n",
              "      <td>Bamyan</td>\n",
              "      <td>Bamyan</td>\n",
              "      <td>http://www.wikidata.org/entity/Q889</td>\n",
              "      <td>http://www.wikidata.org/entity/Q171382</td>\n",
              "      <td>http://www.wikidata.org/entity/Q214495</td>\n",
              "    </tr>\n",
              "    <tr>\n",
              "      <th>4796</th>\n",
              "      <td>Afghanistan</td>\n",
              "      <td>Farah</td>\n",
              "      <td>Farah</td>\n",
              "      <td>http://www.wikidata.org/entity/Q889</td>\n",
              "      <td>http://www.wikidata.org/entity/Q180330</td>\n",
              "      <td>http://www.wikidata.org/entity/Q593156</td>\n",
              "    </tr>\n",
              "    <tr>\n",
              "      <th>7208</th>\n",
              "      <td>Afghanistan</td>\n",
              "      <td>Faryab</td>\n",
              "      <td>Andkhoy</td>\n",
              "      <td>http://www.wikidata.org/entity/Q889</td>\n",
              "      <td>http://www.wikidata.org/entity/Q173830</td>\n",
              "      <td>http://www.wikidata.org/entity/Q1054127</td>\n",
              "    </tr>\n",
              "  </tbody>\n",
              "</table>\n",
              "</div>"
            ],
            "text/plain": [
              "           countryLabel  ...                               instance_of\n",
              "9359  Abbasid Caliphate  ...  http://www.wikidata.org/entity/Q11929668\n",
              "9318            Aetolia  ...  http://www.wikidata.org/entity/Q11925148\n",
              "6568        Afghanistan  ...    http://www.wikidata.org/entity/Q685808\n",
              "6639        Afghanistan  ...   http://www.wikidata.org/entity/Q1020649\n",
              "7049        Afghanistan  ...    http://www.wikidata.org/entity/Q732879\n",
              "5549        Afghanistan  ...   http://www.wikidata.org/entity/Q1014375\n",
              "2578        Afghanistan  ...    http://www.wikidata.org/entity/Q130469\n",
              "1811        Afghanistan  ...    http://www.wikidata.org/entity/Q214495\n",
              "4796        Afghanistan  ...    http://www.wikidata.org/entity/Q593156\n",
              "7208        Afghanistan  ...   http://www.wikidata.org/entity/Q1054127\n",
              "\n",
              "[10 rows x 6 columns]"
            ]
          },
          "metadata": {
            "tags": []
          },
          "execution_count": 13
        }
      ]
    },
    {
      "cell_type": "code",
      "metadata": {
        "id": "p9E_S28AgoHA",
        "colab_type": "code",
        "colab": {
          "base_uri": "https://localhost:8080/",
          "height": 34
        },
        "outputId": "e84e6faf-c32e-44a9-866f-49e2b258e62a"
      },
      "source": [
        "df.shape"
      ],
      "execution_count": 14,
      "outputs": [
        {
          "output_type": "execute_result",
          "data": {
            "text/plain": [
              "(10084, 6)"
            ]
          },
          "metadata": {
            "tags": []
          },
          "execution_count": 14
        }
      ]
    },
    {
      "cell_type": "code",
      "metadata": {
        "id": "ePN0wIMAiydC",
        "colab_type": "code",
        "colab": {
          "base_uri": "https://localhost:8080/",
          "height": 234
        },
        "outputId": "f781f268-c396-426b-d092-5b395a889f74"
      },
      "source": [
        "df = df.reset_index(drop=True)\n",
        "df.head()"
      ],
      "execution_count": 16,
      "outputs": [
        {
          "output_type": "execute_result",
          "data": {
            "text/html": [
              "<div>\n",
              "<style scoped>\n",
              "    .dataframe tbody tr th:only-of-type {\n",
              "        vertical-align: middle;\n",
              "    }\n",
              "\n",
              "    .dataframe tbody tr th {\n",
              "        vertical-align: top;\n",
              "    }\n",
              "\n",
              "    .dataframe thead th {\n",
              "        text-align: right;\n",
              "    }\n",
              "</style>\n",
              "<table border=\"1\" class=\"dataframe\">\n",
              "  <thead>\n",
              "    <tr style=\"text-align: right;\">\n",
              "      <th></th>\n",
              "      <th>countryLabel</th>\n",
              "      <th>located_in_the_administrative_territorial_entityLabel</th>\n",
              "      <th>instance_ofLabel</th>\n",
              "      <th>country</th>\n",
              "      <th>located_in_the_administrative_territorial_entity</th>\n",
              "      <th>instance_of</th>\n",
              "    </tr>\n",
              "  </thead>\n",
              "  <tbody>\n",
              "    <tr>\n",
              "      <th>0</th>\n",
              "      <td>Abbasid Caliphate</td>\n",
              "      <td>None</td>\n",
              "      <td>Karkh</td>\n",
              "      <td>http://www.wikidata.org/entity/Q12536</td>\n",
              "      <td>None</td>\n",
              "      <td>http://www.wikidata.org/entity/Q11929668</td>\n",
              "    </tr>\n",
              "    <tr>\n",
              "      <th>1</th>\n",
              "      <td>Aetolia</td>\n",
              "      <td>None</td>\n",
              "      <td>Q11925148</td>\n",
              "      <td>http://www.wikidata.org/entity/Q26857</td>\n",
              "      <td>None</td>\n",
              "      <td>http://www.wikidata.org/entity/Q11925148</td>\n",
              "    </tr>\n",
              "    <tr>\n",
              "      <th>2</th>\n",
              "      <td>Afghanistan</td>\n",
              "      <td>Asadabad</td>\n",
              "      <td>Asadabad</td>\n",
              "      <td>http://www.wikidata.org/entity/Q889</td>\n",
              "      <td>http://www.wikidata.org/entity/Q2663257</td>\n",
              "      <td>http://www.wikidata.org/entity/Q685808</td>\n",
              "    </tr>\n",
              "    <tr>\n",
              "      <th>3</th>\n",
              "      <td>Afghanistan</td>\n",
              "      <td>Aybak</td>\n",
              "      <td>Samangan</td>\n",
              "      <td>http://www.wikidata.org/entity/Q889</td>\n",
              "      <td>http://www.wikidata.org/entity/Q3694404</td>\n",
              "      <td>http://www.wikidata.org/entity/Q1020649</td>\n",
              "    </tr>\n",
              "    <tr>\n",
              "      <th>4</th>\n",
              "      <td>Afghanistan</td>\n",
              "      <td>Baghlan</td>\n",
              "      <td>Baghlan</td>\n",
              "      <td>http://www.wikidata.org/entity/Q889</td>\n",
              "      <td>http://www.wikidata.org/entity/Q170309</td>\n",
              "      <td>http://www.wikidata.org/entity/Q732879</td>\n",
              "    </tr>\n",
              "  </tbody>\n",
              "</table>\n",
              "</div>"
            ],
            "text/plain": [
              "        countryLabel  ...                               instance_of\n",
              "0  Abbasid Caliphate  ...  http://www.wikidata.org/entity/Q11929668\n",
              "1            Aetolia  ...  http://www.wikidata.org/entity/Q11925148\n",
              "2        Afghanistan  ...    http://www.wikidata.org/entity/Q685808\n",
              "3        Afghanistan  ...   http://www.wikidata.org/entity/Q1020649\n",
              "4        Afghanistan  ...    http://www.wikidata.org/entity/Q732879\n",
              "\n",
              "[5 rows x 6 columns]"
            ]
          },
          "metadata": {
            "tags": []
          },
          "execution_count": 16
        }
      ]
    },
    {
      "cell_type": "code",
      "metadata": {
        "id": "uEqWYZEBjkx1",
        "colab_type": "code",
        "colab": {}
      },
      "source": [
        "def dump_jsonl(data, output_path, append=False):\n",
        "    \"\"\"\n",
        "    Write list of objects to a JSON lines file.\n",
        "    \"\"\"\n",
        "    mode = 'a+' if append else 'w'\n",
        "    with open(output_path, mode, encoding='utf-8') as f:\n",
        "        for line in data:\n",
        "            json_record = json.dumps(line, ensure_ascii=False)\n",
        "            f.write(json_record + '\\n')\n",
        "#    print('Wrote {} records to {}'.format(len(data), output_path))\n",
        "\n",
        "\n",
        "\n",
        "def load_jsonl(input_path) -> list:\n",
        "    \"\"\"\n",
        "    Read list of objects from a JSON lines file.\n",
        "    \"\"\"\n",
        "    data = []\n",
        "    with open(input_path, 'r', encoding='utf-8') as f:\n",
        "        for line in f:\n",
        "            data.append(json.loads(line.rstrip('\\n|\\r')))\n",
        "    print('Loaded {} records from {}'.format(len(data), input_path))\n",
        "    return data"
      ],
      "execution_count": 0,
      "outputs": []
    },
    {
      "cell_type": "code",
      "metadata": {
        "id": "QzoiUlD2i4Og",
        "colab_type": "code",
        "colab": {}
      },
      "source": [
        "def get_wikidata_id(col):\n",
        "  rx = re.compile(r'(http\\:\\/\\/www\\.wikidata\\.org\\/entity\\/)(Q[0-9]+)')\n",
        "  m = rx.match(col)\n",
        "  if m is not None:\n",
        "    return m.group(2)\n",
        "\n",
        "def get_wikidata_description(row):\n",
        "  base_string = 'https://www.wikidata.org/w/api.php?action=wbgetentities&sites=enwiki&languages=en&format=json&props=descriptions&ids='\n",
        "  query_string = base_string + row\n",
        "#  print(query_string)\n",
        "  r = requests.get(query_string)\n",
        "  return json.loads(r.content.decode('utf-8'))['entities'][row]\n",
        "\n",
        "def get_wikidata_label(row):\n",
        "  base_string = 'https://www.wikidata.org/w/api.php?action=wbgetentities&sites=enwiki&languages=en&format=json&props=labels&ids='\n",
        "  query_string = base_string + row\n",
        "#  print(query_string)\n",
        "  r = requests.get(query_string)\n",
        "  return json.loads(r.content.decode('utf-8'))['entities'][row]"
      ],
      "execution_count": 0,
      "outputs": []
    },
    {
      "cell_type": "code",
      "metadata": {
        "id": "LWUOZwLxlJp3",
        "colab_type": "code",
        "colab": {}
      },
      "source": [
        "def query_and_process_results(url, query_parameter):\n",
        "\n",
        "\n",
        "  query = query_parameter\n",
        "#  print(query)\n",
        "\n",
        "  df = get_results(url, query)\n",
        "  df.shape\n",
        "  df.head()\n",
        "\n",
        "  res_list =  sorted([re.sub(\"q[0-9]+\",\"\",item.lower()) for item in df.groupby(['instance_ofLabel'])['instance_of'].agg('count').index.values.tolist()])\n",
        "  res_list = sorted([re.sub(\"\\-\", \" \",item) for item in res_list])\n",
        "  res_list = [item for item in res_list if not re.findall(\"[0-9]+\",item)]\n",
        "  res_counter = Counter(res_list)\n",
        "  res_list = []\n",
        "  for key in res_counter.keys():\n",
        "    if len(key) != 0:\n",
        "      res_list.append(key)\n",
        "\n",
        "  print(len(res_list), res_list)\n",
        "\n",
        "  return df, res_list, res_counter"
      ],
      "execution_count": 0,
      "outputs": []
    },
    {
      "cell_type": "code",
      "metadata": {
        "id": "62T9M8TUhs1P",
        "colab_type": "code",
        "colab": {}
      },
      "source": [
        "url = \"https://query.wikidata.org/sparql\"\n",
        "\n",
        "query = '''\n",
        "SELECT ?instance_of ?instance_ofLabel ?country ?countryLabel ?located_in_the_administrative_territorial_entity ?located_in_the_administrative_territorial_entityLabel WHERE \n",
        "{\n",
        "  SERVICE wikibase:label { bd:serviceParam wikibase:language \"[AUTO_LANGUAGE],en\". }\n",
        "  ?instance_of wdt:P31 wd:Q515.\n",
        "  OPTIONAL { ?instance_of wdt:P17 ?country. }\n",
        "  OPTIONAL { ?instance_of wdt:P131 ?located_in_the_administrative_territorial_entity. }\n",
        "}\n",
        "'''"
      ],
      "execution_count": 0,
      "outputs": []
    },
    {
      "cell_type": "code",
      "metadata": {
        "id": "ibgCP4o-jryb",
        "colab_type": "code",
        "colab": {
          "base_uri": "https://localhost:8080/",
          "height": 54
        },
        "outputId": "705f038f-6c18-4313-c68b-cb19cf69fada"
      },
      "source": [
        "df2, r_list, r_counter = query_and_process_results(url, query)"
      ],
      "execution_count": 11,
      "outputs": [
        {
          "output_type": "stream",
          "text": [
            "7602 [\"'s hertogenbosch\", 'a coruña', 'aabenraa', 'aasiaat', 'aba', 'abala', 'abancay', 'abaradira', 'abasan al kabera', 'abbeyleix', 'abbotsford', 'abbottabad', 'abdon', 'abengourou', 'abeokuta', 'abercwmboi', 'aberdeen', 'abha', 'abidjan', 'abkua', 'aboisso', 'abomey', 'abomsa', 'abong mbang', 'abreus', 'abu dhabi', 'abu dis', 'abu kabir', 'abu qir', 'abu qirqas', 'abu qurayn', 'abutig', 'abéché', 'abū qurqāş', 'acalayong', 'acapulco', 'acarigua', 'acarlar', 'accra', 'achacachi', 'achaguas', 'acomayo', 'aconibe', 'acre', 'acuera', 'acultzingo', \"ad dali'\", 'ad dhahiriya', \"ad dhale'e district\", 'ad dis', 'ad quintum', 'ad salices', 'adabokrom', 'adamantina', 'adamov', 'adana', 'adapazarı', 'addu city', 'adelaide', 'aden', 'adet', 'adi keyh', 'adi quala', 'adigrat', 'ado ekiti', 'adobha', 'adolfo', 'adolfo ruiz cortines', 'adrar', 'adrogué', 'adré', 'adzopé', 'adıyaman', 'aegys', 'aelia capitolina', 'afak', 'afif', 'aflou', 'afrin', 'afula', 'afyonkarahisar', 'agadir', 'agaete', 'agar, madhya pradesh', 'agara, bangalore', 'agathyrnum', 'agboville', 'agdam', 'agdash', 'aghir', 'agogo', 'agordat', 'agra', 'agrigento', 'agrinio', 'agsu', 'aguada de pasajeros', 'aguascalientes city', 'aguaí', 'agudos', 'agui', 'aguilares, argentina', 'aheloy', 'ahmedabad', 'ahtopol', 'ahuacatlán', 'ahuachapán', 'ai', 'aichach', 'aija', 'aijalon', 'ainaro', 'aiquile', 'ait melloul', 'aitape', 'ajdir', 'ajitgarh', 'ajloun', 'ajman', 'ajmer', 'akaa', 'akarassos', 'akbarpur', 'akhalkalaki', 'akhaltsikhe', 'akhmeta', 'akhmim', 'akim oda', 'akmenė', 'akok', 'akola', 'akonolinga', 'akora khattak', 'akranes', 'aksakovo', 'aksaray', 'aksu', 'aktau', 'aktepe', 'aktobe', 'akure', 'akureyri', 'akçay', 'al `ula', 'al aaroui', 'al ahsa governorate', 'al ain', 'al ain region, abu dhabi', 'al bab', 'al bahah', 'al bayda', \"al bayda'\", 'al bireh', 'al bukayriyah', 'al buraimi', 'al dar al kabirah', 'al darbasiyah', 'al diwaniyah', 'al eizariya', 'al faw', 'al gharraf', 'al ghuwariyah', 'al haffah', 'al hajar al aswad', 'al hamool', 'al hasakah', 'al hashimiya', 'al hashimiyah', 'al hashimiyya', 'al hassan science city', 'al hay', 'al hudaydah', 'al husn', 'al jabalayn', 'al jawf', 'al jubayhah', 'al karak', 'al karmah', 'al khalidiya', 'al kiswah', 'al madinat al zahira', 'al mahwit', \"al majma'ah\", 'al malikiyah', 'al mansura district', 'al maschariqa', 'al mashariqah', 'al meshkhab', 'al midaina', 'al midhatiya', 'al misrakh district', 'al mithnab', 'al muabbada', 'al mualla district', 'al mubarraz', 'al qaryatayn', 'al qunfudhah', 'al qurayn, egypt', 'al qusayr', 'al quwaysimah', 'al ram', 'al rastan', 'al rumaitha', 'al safira', 'al sanamayn', 'al shamal', 'al shaykh badr', 'al shirqat', 'al shuna al shamalyah', 'al suqaylabiyah', 'al suwayda', 'al tall', 'al thawrah', 'al ubayyid', 'al wakrah', 'al wasta', 'al yamun', 'al zabadani', 'aladağ', 'alajuela', 'alajärvi', 'alambari', 'alanya', 'alatau', 'alavus', 'albacete', 'albanopolis', 'albury', 'alcalá de henares', 'alcobendas', 'aleksandrów kujawski', 'aleksandrów łódzki', 'aleppo', 'alexandreia', 'alexandria in orietai', 'alexandria prophthasia', 'alexandroupoli', 'alfredo marcondes', 'ali sabieh', 'alicante', 'aligarh', 'alisio', 'aliyu amba', 'alkmaar', 'allahabad', 'allen', 'allenstein', 'almaty', 'almelo', 'almere', 'almería', 'alor setar', 'alotau', 'alpuri', 'alqosh', 'alquízar', 'alta', 'alta gracia', 'altai', 'altair, são paulo', 'altena', 'altinópolis', 'alto alegre, são paulo', 'altona', 'altınoluk', 'aluminé', 'alumínio', 'alvarado', 'alvinlândia', 'alwernia', 'alytus', 'am timan', 'amadiya', 'amancio', 'amangarh', 'amantia', 'amara, nubia', 'amaragadhi', 'amarah', 'amaravati', 'amarete', 'amasya', 'amba mariam', 'ambala', 'ambam', 'ambanja', 'ambarnath', 'ambato', 'ambattur', 'amblada', 'ambo', 'amboasary', 'ambodiharina', 'ambrolauri', 'amecameca de juárez', 'americana', 'amersfoort', 'amfissa', 'amlapura', 'amman', 'amoudah', 'ampang jaya', 'amparo, são paulo', 'amphigeneia', 'amposta', 'amritsar', 'amstelveen', 'amsterdam', 'américa', 'américo brasiliense', 'an nabk', 'anaco', 'anaittha', 'anaklia', 'analalava', 'analândia', 'anathoth', 'anchovy', 'ancient ostra', 'ancona', 'ancuabe', 'andahuaylas', 'andalgalá', 'andijan', 'andkhoy', 'andradina', 'andria', 'andrijevica', 'andrychów', 'andújar', 'anenii noi', 'angadipuram laterite', 'angatuba', 'angers', 'angkor', 'angoche', 'angren', 'anhembi', 'anhumas', 'ani', 'anjangaon', 'anjara', 'anklav', 'ankober', 'anna regina', 'annaba', 'annopol', 'annotto bay', 'ansan', 'antabamba', 'antakya', 'antalya', 'antequera', 'antheia (messenia)', 'antibes', 'antigua guatemala', 'antilla', 'antiochia ad sarum', 'antiochia lamotis', 'antipatrea', 'antiphellus', 'antsirabe', 'antwerp', 'anuradhapura', 'anyang', 'anykščiai', 'anápolis', 'aného', 'apamea', 'apapa', 'aparecida', \"aparecida d'oeste\", 'apeldoorn', 'aphek', 'aphrodisias', 'apia', 'apiaí', 'aplao', 'apolo, la paz', 'appingedam', 'apriltsi', 'apros', 'apóstoles', 'aqaba', 'aquae sextiae', 'ar rajban', 'ar ramtha', 'ar rayn', 'ar rutba', 'arabsiyo', 'arad', 'araden', 'araguari', 'aral', 'aramina', 'arandu', 'arani', 'aranjuez', 'arapeí', 'araraquara', 'araras', 'ararat', 'araure', 'araxá', 'araçariguama', 'araçatuba', 'araçoiaba da serra', 'arboye', 'arcetri', 'archidona, ecuador', 'arco íris', 'arcos de la frontera', 'ardahan', 'ardanuç', 'arealva', 'areias, são paulo', 'areiópolis', 'arendal', 'argos', 'arhavi', 'ariha', 'ariogala', 'ariranha', 'arisba', 'arish', 'aristóbulo del valle', 'arkalyk', 'arlon', 'armagh', 'armidale', 'armutalan', 'arnhem', 'arnis', 'arnos vale', 'arpalı kasabası', 'arraba', 'arrah', 'arrecife', 'arretium', 'arroyo concepción', 'arta, djibouti', 'artemisa', 'artvin', 'arua', 'arujá', 'arusha', 'arvaikheer', 'arviat', 'arys', 'arzashkun', 'arzew', 'as salif district', 'as samu', 'as sulayyil', 'asaba', 'asadabad', 'ascención de guarayos', 'ascope', 'asella', 'asenovgrad', 'aserrí', 'ash shihr', 'ash shinafiyah', 'ashdod', 'ashgabat', 'ashkelon', 'ashrafiyat sahnaya', 'asientos', 'asmara', 'asnières sur seine', 'assen', 'assomada', 'assorus', 'assur', 'astapa', 'astara', 'asti', 'asunción', 'aswan', 'asyut', 'at turrah', 'atacames', 'atafu', 'atalaya', 'atar', 'atarib', 'atax', 'atayurt', 'atbarah', 'atfih', 'athens', 'ati', 'atibaia', 'atlacomulco municipality', 'atlixco', 'atlántida, uruguay', 'attapeu', 'attock', 'atuntaqui', 'atyrau', 'atzeneta del maestrat', 'aubervilliers', 'auckland', 'augusta treverorum', 'augusta vindelicorum', 'augustopolis in palaestina', 'aulnay sous bois', 'aulon', 'aurangabad', 'auriflama', 'auroville', 'ausa', 'austur skaftafellssýsla', 'avadi', 'avanhandava', 'avaré, são paulo', 'avaí', 'avellaneda', 'avignon', 'avilés', 'awasa', 'aweil, south sudan', 'awka', 'axim', 'axum', 'ayabaca', 'ayacucho', 'ayagoz', 'ayancık', 'ayaviri', 'aydun', 'aydın', 'aydıncık', 'ayn al arab', 'ayn al basha', 'ayn al tamr', 'ayodhya', 'ayoun el atrous', 'aytos', 'ayvacık', 'az zubaydiyah', 'az zubayr', 'azaz', 'azimuntium', 'azogues', 'azul', 'azángaro', 'aïn el aouda', 'añatuya', 'añisoc', 'ağcabədi', 'ağstafa', 'b baria, bangladesh', 'baala', 'baalbek', 'baarle', 'baba', 'babahoyo', 'babati', 'babbila', 'babek', 'babel', 'babimost', 'babor   ville', 'baborów', 'baboua', 'babri, burkina faso', 'bad wilsnack', 'badajoz', 'badalona', 'badou', 'badulla', 'bady bassitt', 'baeza', 'bafang', 'bafatá', 'bafia', 'bafilo', 'bafoulabé', 'bafoussam', 'bagansiapiapi', 'baganuur', 'baghdad', 'baghdati', 'baghlan', 'bago', 'bagua', 'bagua grande', 'bahawalpur', 'bahir dar', 'bahía blanca', 'bahía de caráquez', 'bahía honda', 'baidoa', 'baiji', 'bailey town', 'bairnsdale', 'bajil', 'bajos de haina', 'bajram curri', 'bakaata', 'bakel', 'bakou', 'bakoumba', 'balad', 'balaka township', 'balakən', 'balao', 'balasagun', 'balasore', 'balat', 'balbinos', 'balboa', 'balcarce', 'balchik', 'balel pipariya', 'balkanabat', 'balkhash', 'ballarat', 'ballsh', 'balsa', 'baltim resort', 'baltoji vokė', 'balykchy', 'balzar', 'balıkesir', 'bamako', 'bamarni', 'bambari', 'bambey', 'bameka', 'bamenda', 'bamenkombo', 'bamyan', 'ban houayxay', 'banana', 'bananal', 'banavasi', 'banda del río salí', 'bandar seri begawan', 'bandjoun', 'bandol seoni', 'bandırma', 'banepa', 'banes', 'banfora', 'bangalore', 'bangassou', 'bangem', 'bangkalan', 'bangkok', 'bangor', 'bangui', 'bangula', 'banha', \"bani na'im\", 'bani suheila', 'bani walid', 'baniyas', 'banja luka', 'banjul', 'bankya', 'bannu', 'banovci, nijemci', 'banpo', 'bansko', 'banská bystrica', 'banting', 'banwa', 'banya, plovdiv province', 'banyo, cameroon', 'baqa jatt', 'baqubah', 'barabanki', 'baracoa', 'baraguá', 'barahathawa municipality', 'barahona', 'baral, pakistan', 'baramulla', 'baranów sandomierski', 'barawa', 'barbacena', 'barbosa, são paulo', 'barcelona', 'barcin', 'barczewo', 'barda', 'bardaï, chad', 'bardhere', 'bardia', 'bardo', 'bareilly', 'barentsburg', 'barentu, eritrea', 'bareq', 'bargny', 'bari', 'bariadi', 'bariloche', 'barinas', 'bariri', 'baris', 'barisal', 'barlinek', 'barnala', 'barndaké', 'barquisimeto', 'barra bonita', 'barra do chapéu', 'barra do turvo', 'barranca', 'barranqueras', 'barranquilla', 'barretos', 'barrie', 'barrinha', 'barros blancos', 'barsinghausen', 'bartica', 'bartın', 'barueri', 'baruun urt', 'barwani', 'barwice', 'barão de antonina', 'basail', 'basankusu', 'basarabeasca', 'basoko', 'bassar', 'basseterre', 'basti islamabad', 'bastos', 'basyoun', 'bat yam', 'bata', 'batak', 'batalik', 'batallas', 'batatais', 'bath', 'bathinda', 'bathurst', 'bati', 'batken', 'batman', 'batna', 'batouri', 'battambang', 'batu', 'batumi', 'baucau', 'bauchi', 'baures', 'bauru', 'bauta', 'bawiti', 'bayamo', 'bayankhongor', 'bayat', 'bayburt', 'bayt al faqih', 'baños de agua santa', 'bački petrovac', 'beaumont', 'bebedouro', 'beda fomm', 'bedessa', 'beed', 'beersheba', 'begíjar', 'beica', 'beiguozhuang', 'beijing', 'beilul', 'beira', 'beit hanoun', 'beit jala', 'beit lahia', 'beit sahour', \"beit she'an\", 'beit shemesh', 'beitbridge', 'beitunia', 'bekabad', 'bekbele', 'bekoji', 'bela palanka', 'beldibi', 'beledweyne', 'belen', 'belene', 'belfast', 'belgaum', 'belgrade', 'belize city', 'bell ville', 'bella unión', 'bella vista', 'bella vista, corrientes', 'bellavista', 'belmopan', 'belo horizonte', 'beloozyorsky', 'beloretsk', 'belovo', 'belsh', 'beltinci', 'belén de escobar', 'bembla', 'ben ahmed', 'ben slimane', 'benalla', 'bender', 'bendigo', 'bengal vinto', 'benghazi', 'benguela', 'beni ansar / aït nsar', 'beni mazar', 'beni suef', 'beniane', 'benidorm', 'benin city', 'bennane', 'benoy', 'benque viejo del carmen', 'bento de abreu', 'beramba, madagascar', 'berane', 'berat', 'berbera', 'berbérati', 'berenice epideires', 'berenice panchrysos', 'bergamo', 'bergen', 'berisso', 'berlin', 'bernal', 'bernardino de campos', 'berovo', 'berrechid', 'bertioga', 'bertoua', 'besa', 'best', 'bethlehem', 'beylagan', 'beypazarı', 'bełżyce', 'bhaba nagar', 'bhadrapur', 'bhagalpur', 'bhairab bāzār', 'bhakkar', 'bhamo', 'bhavnagar', 'bhawana', 'bhilai', 'bhilwara', 'bhiria road', 'bhiwandi', 'bhiwani', 'bhubaneswar', 'biankouma', 'biała', 'biała piska', 'biała podlaska', 'biała rawska', 'białobrzegi', 'biały bór', 'białystok', 'biba, egypt', 'bichena', 'bid', 'bidjabidjan', 'bidor', 'bidur', 'biecz', 'biella', 'bielsko biała', 'bierutów', 'bieżuń', 'bignona', 'bihać', 'bijapur', 'bijeljina', 'bijelo polje', 'bikaner', 'bilac', 'bilara', 'bilaspur, chhattisgarh', 'bilbao', 'bilbeis', 'bilecik', 'bilene', 'biltine', 'biləsuvar', 'bimbo', 'bindura', 'bingerville', 'bingöl', 'biograd na moru', 'bir lehlou', 'bir salah', 'bire akkar', 'birendranagar', 'bireuen', 'birigüi', 'biritiba mirim', 'birkerød', 'birkirkara', 'birán', 'birštonas', 'bishoftu', 'biskra', 'biskupiec', 'bissau', 'bissorã', 'bisztynek', 'bitez', 'bitlis', 'bitola', 'bizya', 'blachownia', 'black river', 'blagaj japra', 'blagoevgrad', 'blankaartkasteel', 'blantyre', 'bled', 'blida', 'blitta', 'bloemfontein', 'bluefields', 'blönduós', 'bnei brak', 'bni drar', 'bo', 'boa esperança do sul', 'boaco', 'bobo dioulasso', 'bobolice', 'bobonong', 'boboshevo', 'bobov dol', 'bobowa', 'bocaina', 'bocas town, bocas del toro', 'bockum hövel', 'bodzentyn', 'bodø', 'bofete', 'bogatynia', 'bogo', 'boguchwała', 'bohechío', 'boituva', 'bojanowo', 'bokhtar', 'bol', 'bola shareef', 'bolama', 'bolax (elis)', 'bolbe', 'bolgatanga', 'bolków', 'bollineni hillside', 'bolnisi', 'bolo, ethiopia', 'bologna', 'bolsward', 'bolu', 'bolungarvík', 'bolívar', 'bom jesus dos perdões', 'bom sucesso de itararé', 'boma', 'bomassa', 'bondoukou', 'bonga', 'bongor', 'bongoville', 'bonthe', 'bor', 'bor öndör', 'boraceia', 'borama', 'borborema', 'bordj bou arréridj', 'borebi', 'borek wielkopolski', 'borg el arab', 'borgarnes', 'borj cédria', 'borjomi', 'borken', 'borne sulinowo', 'borovnica', 'borriana', 'boryza', 'borá', 'bosra', 'bossangoa', 'botevgrad', 'botucatu', 'bou omrane', 'bouaanan', 'bouaflé', 'bouar', 'boujad', 'boujdour', 'bouknadel', 'boulogne sur mer', 'boumalne dades', 'boumerdès', 'bouna', 'boundiali', 'boundji', 'bouneima', 'bounkiling', 'bouroum bouroum', 'bouskoura', 'bousso', 'bouïra', 'bovec', 'bowen', 'boychinovtsi', 'boyuibe', 'bozoum', 'bradford', 'bragado', 'bragança paulista', 'brahmanbaria', 'brak', 'brampton', 'brandon', 'bratislava', 'braunau am inn', 'brazzaville', 'braúna', 'brecon', 'breda', 'brega', 'bregbo', 'bregenz', 'bregovo', 'brejo alegre', 'brejo do cruz', 'brekstad', 'bremen', 'brescia', 'breznik', 'brezovo', 'brežice', 'bria', 'briceni', 'bridgetown', 'brighton and hove', 'brinkmann', 'brisbane', 'bristol', 'brixia', 'brodowski', 'brok', 'broken hill', 'brotas', \"brown's town\", 'brugge', 'brus laguna', 'brussels', 'brusy', 'bruzual', 'brwinów', 'brzeg dolny', 'brzesko', 'brzeszcze', 'brześć kujawski', 'brzostek', 'brzozów', 'brønshøj', 'brühl', \"bu'ale\", 'buari', 'buba', 'bubanza', 'bucak', 'buchanan', 'buda', 'budanilkantha', 'budva', 'buea', 'buena fe', 'buena vista', 'buenos aires', 'buey arriba', 'buhovo', 'buin, papua new guinea', 'bujumbura', 'buk', 'buka', 'bukama', 'bukhara', 'bukit baru', 'bukit pasir', 'bukoba', 'bukwa', 'bulawayo', 'bulayev', 'bulgan', 'bulqizë', 'bumba', 'bunagana, democratic republic of the congo', 'bunbury', 'bundaberg', 'bungoma', 'buraan', 'buraidah', 'burao', 'burdur', 'bure (gojjam), ethiopia', 'burg stargard', 'burga', 'burgas', 'burgos', 'buri, são paulo', 'buritama', 'buritizal', 'burlington', 'burnaby', 'burnie', 'burrel', 'bursa', 'burton', 'bururi', 'burutu', 'burzaco', 'busia', 'busko zdrój', 'busselton', 'busto arsizio', 'buta', 'butajira', 'butare', 'butembo', 'butere', 'butha buthe', 'buzema', 'byala slatina', 'byala, ruse province', 'byala, varna province', 'byas', 'byblos', 'bychawa', 'byczyna', 'bydgoszcz', 'bystrzyca kłodzka', 'bytom', 'bytom odrzański', 'bytów', 'byumba', 'byzantium', 'bádonfa', 'báguanos', 'bálsamo', 'béccar', 'bédy goazon', 'bélabo', 'bétou', 'béziers', 'bíldudalur', 'búðardalur', 'büren', 'büyükyoncalı', 'bălți', 'błaszki', 'błażowa', 'błonie', 'caaguazú district', 'caballococha', 'cabana', 'cabezas', 'cabimas', 'cabinda', 'cabo de santo agostinho', 'cabo frio', 'cabo san lucas', 'cabreúva', 'cabrália paulista', 'cabudare', 'cacheu', 'cachoeira paulista', 'cacocum', 'caconde', 'cafelândia', 'cagua', 'cahul', 'caia, mozambique', 'caiabu', 'caibarién', 'caieiras', 'caimanera', 'caimito', 'cairns', 'caiuá', 'cajabamba', 'cajamar', 'cajamarca', 'cajatambo', 'cajati', 'cajobi', 'cajuru', 'cala cala', 'calabar', 'calabasa', 'calabozo', 'calais', 'calca', 'caleta olivia', 'calgary', 'cali', 'calimete', 'calixto garcía', 'callao', 'calulo', 'calvar', 'camagüey', 'camaná', 'camargo', 'cambridge', 'camenca', 'camiri', 'campana', 'campanero', 'campbell river', 'campbelltown', 'campeche', 'campechuela', 'campina do monte alegre', 'campina grande', 'campinas', 'campo', 'campo limpo paulista', 'campos do jordão', 'campos novos paulista', 'cananea', 'cananéia', 'canas, são paulo', 'canberra', 'canchungo', 'cancún', 'candarave', 'candelaria', 'cangallo', 'canitar', 'cankuzo', 'cannes', 'canta', 'cantaura', 'canterbury', 'cap haïtien', 'cap malheureux', 'capacho viejo', 'capela do alto', 'capilla del monte', 'capivari', 'capão bonito', 'caracas', 'caraguatatuba', 'caranavi', 'carapicuíba', 'caravaca de la cruz', 'caravelí', 'caraz', 'cardona', 'cardoso, são paulo', 'carhuaz', 'caripe', 'caripito', 'carlisle', 'carlos manuel de céspedes', 'carlos spegazzini', 'carmel city', 'carmelo', 'carmona', 'carnot', 'carnuntum', 'carora', 'carrefour', 'carrickmacross', 'cartagena', 'cartago', 'carúpano', 'casa branca', 'casablanca', 'cascante', 'cascas', 'caseros', 'caserta', 'casilda', 'casma', 'castelar', 'castellammare di stabia', 'castelló de la plana', 'castilho', 'castillos', 'castlemaine', 'castries', 'castro urdiales', 'catacamas', 'catacaos', 'catala', 'cataluña', 'catalão', 'catamayo', 'catandica', 'catanduva', 'catania', 'catanzaro', 'cataviña', 'catia la mar', 'catiguá', 'catió', 'catlin, new york', 'caucaia do alto', 'caucete', 'cauto cristo', 'caxito', 'cayambe', 'cazin', 'caçapava', 'cañada de gómez', 'ceadîr lunga', 'cedral', 'cedros, francisco morazán', 'cedynia', 'celaenae', 'celendín', 'celje', 'centre de flacq', 'ceres', 'cerknica', 'cerqueira césar', 'cerquilho', 'cerrillos', 'cerro chato', 'cerro de pasco', 'cessnock', 'cestrina', 'cesário lange', 'cetinje', 'ceyhan', 'chabahil', 'chacas', 'chachapoyas', 'chagai, pakistan', 'chaghcharan', 'chagni', 'chaguanas', 'chajarí', 'chakwal', 'chalco de díaz covarrubias', 'chalhuanca', 'chalkida', 'challapata', 'chamanki', 'chambas', 'chamchamal', 'champigny sur marne', 'chancay', 'chandpur', 'chandragiri municipality', 'chandrapur', 'chane independencia', 'changchun', 'changhua city', 'changwon', 'chania', 'chapala', 'charagua', 'charallave', 'charikot', 'charleroi', 'charlottetown', 'charqueada', 'chatham kent', 'chavantes', 'chavuma', 'chavín de huántar', 'chbar ampéou', 'chefchaouen', 'chelmsford', 'chengdu', 'chennai', 'cheonan', 'chepén', 'chernomorets', 'chester', 'chetumal', 'cheyenne', 'chełm', 'chełmek', 'chhanera', 'chhaya', 'chhoti sadri', 'chia', 'chiatura', 'chiautempan', 'chiayi city', 'chibombo', 'chibuto', 'chichester', 'chiclayo', 'chicualacuala', 'chihuahua', 'chikwawa', 'chilca, cañete', 'chilecito', 'chililabombwe', 'chilliwack', 'chimbote', 'chimoio', 'chimoré', 'chinandega', 'chincha alta', 'chincheros', 'chinde', 'chinderi', 'chingola', 'chinhoyi', 'chiniot', 'chios', 'chipata', 'chipoka', 'chiprovtsi', 'chiquián', 'chiradzulu', 'chirchiq', 'chitipa', 'chitré', 'chittagong', 'chivacoa', 'chivay', 'chivhu', 'chivilcoy', 'chișinău', 'chkalovsk', 'chlef', 'chmielnik', 'chocianów', 'chociwel', 'chocz', 'chodecz', 'choibalsan', 'chojna', 'chokwe', 'cholet', 'cholpon ata', 'choluteca', 'chomutov', 'chone', 'chongqing', 'choni', 'choroszcz', 'chortoq', 'chorzele', 'chorzów', 'choszczno', 'chota', 'christchurch', 'christiana', 'christiania', 'chrzanów', 'chu lai', 'chulucanas', 'chulumani', 'chupaca', 'chuquibamba', 'chuquibambilla', 'chuy', 'chęciny', 'ciechanowiec', 'ciego de ávila', 'cienfuegos', 'cieszanów', 'cikarang', 'cimișlia', 'cinco saltos', 'cipolletti', 'ciro redondo', 'city of griffith', 'city of london', 'city of zenica', 'ciudad bolívar', 'ciudad cuauhtémoc', 'ciudad de ancud', 'ciudad de chiautla de tapia', 'ciudad de la costa', 'ciudad del carmen', 'ciudad del este', 'ciudad evita', 'ciudad guayana', 'ciudad jardín el libertador', 'ciudad madero, buenos aires', 'ciudad nezahualcóyotl', 'ciudad nicolás romero', 'ciudad ojeda', 'ciudad real', 'ciudad rodrigo', 'ciudad tecún umán', 'ciężkowice', 'clairmont', 'clarence rockland', 'clarines', 'clarkston village historic district', 'clausthal', 'claypole, buenos aires', 'clementina', 'cliza', 'coatzacoalcos', 'cobh', 'cobija', 'cobue', 'cochabamba', 'cochrane', 'coffs harbour', 'cofradia', 'cogo', 'coihueco', 'coimbatore', 'cojedes', 'colac', 'colcapirhua', 'cold lake', 'colima', 'colina', 'collana', 'colombes', 'colombia', 'colombo', 'colomi', 'colonia del sacramento', 'colonia del sol', 'colonia nicolich', 'colquencha', 'colquiri', 'columbus', 'colón', 'colômbia', 'comana', 'comana pontica', 'comarapa', 'comayagua', 'comayaguela', 'como', 'comodoro rivadavia', 'complutum', 'compsa', 'comrat', 'conakry', 'concepción', 'concepción del uruguay', 'concepción, santa cruz', 'concepción, tucumán', 'conchal', 'conchas', 'concordia', 'constantine', 'constantinople', 'constanța', 'contamana', 'contumazá', 'coolidge', 'coquitlam', 'coracora', 'coral harbour', 'coranza', 'cordeirópolis', 'cordero', 'corella', 'corfu', 'coria, cáceres', 'corinth', 'corinto', 'coripata', 'cork', 'corner brook', 'cornwall', 'coro', 'coroados', 'coronel macedo', 'coronel suárez', 'corongo', 'corozal town', 'corrientes', 'corriverton', 'cortês', 'corumbataí', 'cos (city)', 'cosmorama, são paulo', 'cosmópolis', 'cosquín, córdoba', 'cotacachi', 'cotahuasi', 'cotia', 'cotoca', 'cotuí', 'county administered city', 'courbevoie', 'coventry', 'coyuca de catalán', 'cranbrook', 'crasnoe', 'crater district', 'cravinhos', 'cregneash', 'crieff', 'cristais paulista', 'croix des bouquets', 'cruces', 'cruz del eje', 'cruzeiro, são paulo', 'cruzália', 'créteil', 'cuamba', 'cuatro cañadas', 'cubatão', 'cuenca', 'cuevas del almanzora', 'cuevo', 'cuidad sin trabajo', 'cumae', 'cumanayagua', 'cumaná', 'cunha', 'cupcini', 'cupertino', 'curitiba', 'curuzú cuatiá', 'cusae', 'cusco', 'cutha', 'cutral có', 'cuttack', 'cyangugu', 'cybinka', 'cynocephalus', 'czaplinek', 'czarna białostocka', 'czarne', 'czchów', 'czechowice dziedzice', 'czempiń', 'czerniejewo', 'czersk', 'czerwieńsk', 'czerwionka leszczyny', 'czerwińsk nad wisłą', 'czyżew', 'częstochowa', 'człopa', 'cáceres', 'cádiz', 'cárdenas', 'cássia dos coqueiros', 'cândido mota', 'cândido rodrigues', 'cërrik', 'córdoba', 'cúa', 'cúcuta', 'cúpira', 'călărași', 'căușeni', 'cəbrayil', 'cəlilabad', 'cần thơ', 'da nang', 'dabakala', 'dabola', 'dabou', 'dadegaon', 'dadyal', 'daga post', 'dagana, senegal', 'dahra', 'dahyan', 'dakhla', 'dakshinkali', 'dalanzadgad', 'daleszyce', 'dalvík', 'damanhur', 'damascus', 'damaturu', 'damietta', 'dandenong', 'dangila', 'dangriga', 'danilovgrad', 'danlí', 'danyang', 'danyor', 'daphne near antioch', 'dar el salam', 'dar es salaam', 'daraa', 'darat izza', 'daraw', 'darayya', 'darbhanga', 'dargan ata', 'darkhan', 'daru', 'darwin', 'dasharathchanda', 'daton', 'daugai', 'daugavpils', 'daule', 'dauphin', 'daura', 'david', 'davlekanovo', 'davutlar', 'dawei', 'dawson creek', 'dayr hafir', 'dazaifu', 'daşkəsən', 'daşoguz', 'debar', 'debarq', 'debelets', 'debrzno', 'debundscha', 'dediapada', 'dedoplis tskaro', 'deep creek', 'dehradun', 'deir al balah', 'deir atiyah', 'deir ez zor', 'deir mawas', 'dekemhare', 'delft', 'delmas', 'dembecha', 'dembi dollo', 'dembo', 'dembéni', 'den helder', 'dengel ber', 'denizciler', 'denizli', 'denu', 'deoghar', 'dera allah yar', 'dera ghazi khan', 'derby', 'derik', 'derry', 'desaguadero', 'descalvado', 'desouk', 'dessie', 'devarakonda', 'deventer', 'devonport', 'devsar', 'deán funes', 'dečani', 'dhahran', 'dhaka', 'dhamar', 'dhanbad', 'dhingana city', 'dhlail', 'dhule', 'dhuluiya', 'diadema', 'diadochoupolis', 'diamniadio', 'diaobé kabendou', 'dibrugarh', 'diddeleng', 'diego de alvear', 'diekirch', 'dieppe', 'differdange', 'digelu', 'dikhil', 'dili', 'dilolo', 'dimako', 'dimitrovgrad', 'dimona', 'dina', 'dinajpur', 'dindigul', 'dinga', 'dinhabah', 'diofior', 'diosso', 'diourbel', 'dir', 'dirce reis', 'dire dawa', 'diriamba', 'diriyah', 'dispur', 'divinolândia', 'divjakë', 'divo', 'divuma', 'diyarbakır', 'djambala', 'djanet', 'djelfa', 'djibouti', 'djoum', 'dmanisi', 'dnestrovsc', 'doba', 'dobanovci', 'dobczyce', 'dobiegniew', 'doboj', 'dobra', 'dobra, turek county', 'dobrada', 'dobre miasto', 'dobrich', 'dobrinishte', 'dobrodzień', 'dobrzany', 'dobrzyca', 'dobrzyń nad wisłą', 'dock sud', 'dodhara chandani municipality', 'dodola, ethiopia', 'doetinchem', 'dogbo', 'dois córregos', 'dokimeion', 'dolcinópolis', 'dolisie', 'dolna oryahovitsa', 'dolores', 'dolsk', 'domburg', 'domžale', 'don bosco', 'don torcuato', 'dondo', 'dondușeni', 'donegal', 'dongargaon, agar malwa', 'dongola', 'dongou', 'donji milanovac', 'donostia san sebastian', 'dordrecht', 'dostyk', 'douala', 'douma', 'dourado, são paulo', 'dracena', 'dragoman', 'drama', 'drargua', 'dras', 'dravograd', 'drawno', 'drawsko pomorskie', 'drepana', 'dresden', 'drezdenko', 'drobin', 'drochia', 'drogheda', 'drohiczyn', 'druskininkai', 'dryden', 'drzewica', 'drøbak', 'dschang', 'duartina', 'duba', 'dubai', 'dubbo', 'dubăsari', 'duhok', 'dukla', 'dumaria', 'dumat al jandal', 'dumont', 'dunavarsány', 'dundee', 'dunedin', 'dunkirk', 'dunmurry', 'dunmurry west', 'dupnitsa', 'duque de caxias', 'dura, hebron', 'duraykish', 'durazno', 'durban', 'durbete', 'durg', 'durgawati', 'durham', 'durlești', 'durrës', 'durán, ecuador', 'dusetos', 'dushanbe', 'dusheti', 'dusmareb', 'duékoué', 'dvin', 'dzerzhinsk', 'dzhebel', 'działoszyce', 'działoszyn', 'dzierzgoń', 'dziwnów', 'dédougou', 'dédé makouba', 'düzce', 'dąbie, greater poland voivodeship', 'dąbrowa białostocka', 'dąbrowa górnicza', 'dąbrowa tarnowska', 'dębno', 'děčín', 'dūkštas', 'dəliməmmədli', 'east hidd city', 'east london', 'ebebiyín', 'ecbatana', 'eceabat', 'echaporã', 'echternach', 'edappadi', 'edd', 'edessa', 'edfu', 'edinburgh', 'edineț', 'edirne', 'edmonton', 'edéa', 'eenhana', 'effon alaiye', 'egaña', 'egilsstaðir', 'eglon, canaan', 'eibar', 'ejido', 'ejido mochis', 'ekenäs', 'ekibastuz', 'ekwendeni', 'el agheila', 'el aioun sidi mellouk', 'el alamein', 'el alto', 'el badari', 'el bahnasa', 'el balyana', 'el bayyada', 'el carmen (ecuador)', 'el carmen (santa cruz)', 'el carrizo', 'el consejo', 'el empalme', 'el hiba', 'el jadida', 'el kantara', 'el kharga town', 'el limón', 'el mahalla el kubra', 'el matareya', 'el oued', 'el palomar, buenos aires', 'el pangui', 'el parco', 'el progreso', 'el qantarah el sharqiyya', 'el refugio, baja california', 'el roble', 'el rosario, baja california', 'el salvador', 'el shorouk', 'el taref', 'el tigre', 'el tocuyo', 'el tod', 'el tor', 'el torno, santa cruz', 'el triunfo', 'elbasan', 'elbląg', 'eldorado, são paulo', 'eldoradown', 'eldoret', 'elektrostal', 'elektrėnai', 'elena', 'eleusis', 'elias fausto', 'elin pelin', 'elisiário', 'ely', 'elâzığ', 'embarcación', 'embaúba', 'embu', 'embu das artes', 'embu guaçu', 'emfraz', 'emiliano zapata', 'emilianópolis', 'eminabad', 'emona', 'empalme', 'encarnación', 'ende', 'endibir', 'engenheiro coelho', 'enkhuizen', 'enniskillen', 'ensenada', 'entebbe', 'entella', 'enugu', 'epanomi', 'epiphaneia in bithynia', 'erbil', 'erdenet', 'ereğli', 'erfelek', 'erfurt', 'erigavo', 'eriza', 'erode', 'errachidia', 'errenteria', 'ertis', 'eryx', 'erzin', 'erzincan', 'erzurum', 'esbjerg', 'esch sur alzette', 'escuintla', 'esik', 'eskifjörður', 'eskişehir', 'esmeralda', 'esmeraldas', 'esna', 'espargos', 'espera feliz', 'esperanza', 'esplugues de llobregat', 'espoo', 'espírito santo do pinhal', 'espírito santo do turvo', 'esquel', 'esquipulas', 'essaouira', 'esslingen am neckar', 'estella lizarra', 'estelí', 'estevan', 'estiva gerbi', \"estrela d'oeste\", 'estrela do norte, são paulo', 'esztergom', 'etarea', 'etoumbi', 'ettelbrück', 'eucaliptus', 'euclides da cunha paulista', 'eudocias', 'euroea in phoenicia', 'european green capital', 'euthydemia', 'evinayong', 'ewarton', 'ewo', 'ewu', 'exeter', 'eyl', 'eyrarbakki', 'ezeiza', 'ezpeleta', 'ezzedine salim subdistrict', 'ežerėlis', 'faaborg', 'fada', \"fada n'gourma\", 'faisalabad', 'faiyum', 'faizabad cantt', 'falerii novi', 'falkum', 'fallujah', 'falsterbo', 'famaillá', 'farafra town', 'farah', 'faraskur', 'faridabad', 'faridpur city', 'farim', 'fartura', 'fateh pur', 'fatehganj', 'fatehgunj', 'fatick', 'faya largeau', 'fayid', 'federal, entre ríos', 'feldkirch', 'feni', 'fenix', 'fergana', 'ferizaj', 'ferkessédougou', 'fernando echenique', 'fernando prestes', 'fernandópolis', 'fernández alonso', 'fernão', 'ferrara', 'ferraz de vasconcelos', 'ferreñafe', 'ferrol', 'fethiye', 'fez', 'fianga', 'fier', 'fierzë', 'figuig', 'finike', 'finote selam', 'finziade', 'fiq', 'firozpur', 'flin flon', 'flora rica', 'floreal', 'florence', 'florencia', 'florencio varela', 'florești', 'florida', 'florínea', 'florø', 'flórida paulista', 'foggia', 'fomboni', 'fondanti', 'fontana', 'forlì', 'formiae', 'formosa', 'forssa', 'fort de france', 'fort lamy', 'fort st. john', 'fort william', 'fortaleza', 'forward kahuta', 'fougamou', 'foumban', 'foundiougne', 'foča', 'fraita', 'frampol', 'franca', 'franceville', 'francisco morato', 'francistown', 'franco da rocha', 'frank país', 'frankfurt west', 'frankston', 'fray bentos', 'fredericia', 'fredericton', 'frederikshavn', 'frederikssund', 'frederiksværk', 'fredrikshald', 'freetown', 'fresnillo', 'fridau', 'frombork', 'frontera', 'frías', 'frías, santiago del estero', 'fröndenberg', 'frýdek místek', 'fujairah', 'fulacunda', 'funafuti', 'funai', 'funes, santa fe', 'fushë arrëz', 'fushë krujë', 'füzuli', 'fălești', 'fındıklı', 'gabane', 'gabela', 'gabriel leyva solano', 'gabriel monteiro', 'gabrovo', 'gabú', 'gadaka', 'gades', 'gagnoa', 'gaibandha', 'gaighat', 'gajuri', 'galabovo', 'galas', 'galeana', 'gali', 'galkayo', 'galle', 'galt', 'galway', 'gamboma', 'gandajika', 'gandhinagar', 'gandia', 'gandiaye', 'gangavalli taluk', 'gangtok', 'garabekewül', 'garabogaz', 'garbahaareey', 'gardabani', 'gardēz', 'gargždai', 'garissa', 'garliava', 'garoowe', 'garoua', 'garrygala', 'garut', 'garça', 'garðabær', 'gatama', 'gath rimmon', 'gaur, nepal', 'gavião peixoto', 'gaya', 'gayéri', 'gaza city', 'gazakh', 'gaziantep', 'gazojak', 'gbadolite', 'gbélo', 'gdynia', 'gedera', 'geelong', 'geestland', 'geita', 'gelgaudiškis', 'gelinkaya', 'gemena', 'general alvear', 'general escobedo', 'general güemes, salta', 'general josé de san martín', 'general leonidas plaza gutiérrez', 'general levalle', 'general pacheco', 'general pico', 'general roca', 'general rodríguez', 'general salgado', 'general toshevo', 'genk', 'genoa', 'george town', 'georgetown', 'geraardsbergen', 'geraldton', 'germiston', 'getafe', 'getulina', 'ghafsai', 'ghanzi', 'gharrous', 'gharyan', 'ghat', 'ghaziabad', 'ghazni', 'ghent', 'ghinda', 'ghorahi', 'ghotki', 'giannitsa', 'gibara', 'gijduvan', 'gijón', 'gikongoro', 'gimbi', 'giresun', 'girga', 'girona', 'gisborne', 'gisenyi', 'gitega', 'giugliano in campania', 'givatayim', 'giza', 'gjakova', 'gjilan', 'gjirokastër', 'gladbach rheydt', 'gladstone', 'glasgow', 'glavinitsa', 'glengarriff', 'gleno', 'glew, buenos aires', 'glicério', 'glinojeck', 'gliwice', 'glodeni', 'gloucester', 'glyfada', 'gniew', 'gniewkowo', 'goba', 'gobabis', 'gobernador virasoro', 'gobo', 'godavarikhani', 'gode', 'godech', 'godoy cruz', 'gogawan', 'gogolin', 'goindval', 'goiânia', 'gokarneshwor', 'golaghat', 'golczewo', 'gold coast', 'goleniów', 'golina', 'goma', 'gomphi', 'gonaïves', 'gondar', 'goniądz', 'gonoessa', 'gonzález catán', 'good hope, botswana', 'gopalganj', 'gopalpur, tangail, bangladesh', 'gorakhpur', 'goranboy', 'gori', 'gorna oryahovitsa', 'gornja radgona', 'gornji petrovci', 'gornji vakuf uskoplje', 'goroka', 'goroumo', 'gorzów wielkopolski', 'gorzów śląski', 'goré', 'gosford', 'gossas', 'gostivar', 'gostyń', 'gotse delchev', 'gouda', 'goudiry', 'goudomp', 'goulburn', 'goulmima', 'gouyave', 'goya', 'goychay', 'goz beïda', 'gołańcz', 'gołdap', 'gościno', 'grabów nad prosną', 'gracias', 'graethem', 'grafton', 'gramada', 'gramsh', 'granada', 'grand baie', 'grand bourg', 'grand lahou', 'grange hill, jamaica', 'granollers', 'gravisca', 'greater noida', 'green bay', 'gregorio de laferrere', 'grenville', 'grenå', 'grevenmacher', 'griffith', 'grigoriopol', 'grindavík', 'grodków', 'grodzisk mazowiecki', 'grodzisk wielkopolski', 'groningen', 'grootfontein', 'grosuplje', 'grudziądz', 'grundarfjörður', 'gryfice', 'gryfino', 'gryfów śląski', 'grójec', 'guacara', 'guadalajara', 'guadalupe', 'guadalupe, baja california', 'guadix', 'guaimaca', 'guaimbê', 'guaiçara', 'gualeguay', 'gualeguaychú', 'guanajay', 'guanape', 'guanare', 'guangzhou', 'guantánamo', 'guapiara', 'guapiaçu', 'guaraci', 'guaranda', \"guarani d'oeste\", 'guarantã', 'guararapes', 'guararema', 'guaratinguetá', 'guaraçaí', 'guarenas', 'guareí', 'guariba', 'guarujá', 'guarulhos', 'guará', 'guasave city', 'guasdualito', 'guastatoya', 'guatapará', 'guatemala city', 'guatire', 'guayaquil', 'guayaramerín', 'guaymas', 'guaíra, são paulo', 'guelmim', 'guelph', 'guercif', 'guere, cameroon', 'guernica', 'guerrero, coahuila', 'guider', 'guiglo', 'guinguinéo', 'guisa', 'guittena', 'gujranwala', 'gujrat', 'gularia', 'gulistan, balochistan', 'guliston', 'gulu', 'gumare', 'gummi', 'gundeshapur', 'gunthakal', 'gurdaspur', 'gurgaon', 'guriceel', 'gurjaani', 'gurúè', 'gusau', 'gusinje', 'guwahati', 'guzolândia', 'guáimaro', 'guéckédougou', 'guédiawaye', 'gwadar', 'gwalior', 'gwanda', 'gweru', 'gyumri', 'gália', 'góis', 'góra', 'góra kalwaria', 'górzno', 'gökçe', 'gökçebey', 'gölcük', 'göreme', 'göygöl', 'göytəpə', 'gözcüler', 'güigüe', 'güines', 'güira de melena', 'gümüşhane', 'gürpınar', 'güzelyalı', 'gąbin', 'głogów małopolski', 'głogówek', 'głubczyce', 'głuchołazy', 'głuszyca', 'gədəbəy', 'g‘uzor', \"ha'il, saudi arabia\", 'haapajärvi', 'haapavesi', 'haarlem', 'habban district', 'hachinohe', 'hadejia', 'hadera', 'hadrianopolis', 'hadzhidimovo', 'hafar al batin', 'hafnarfjörður', 'hafun', 'haifa', 'haiphong', 'hajipur', 'hajiqabul', 'hajjah', 'hakha', 'hakkâri', 'hala', 'halabja', 'halaesa', 'halah', 'halaç', 'halebidu', 'half way tree', 'halhul', 'halifax', 'halinów', 'halpa', 'halyciae', 'hama', 'hamad town', 'hamam al alil', 'hamar', 'hambantota', 'hamilton', 'hamina', 'hammerfest', 'hanamakonda', 'hanko', 'hankou', 'hannut', 'hanoi', 'hanover', 'hanseongbu', 'harar', 'harare', 'harasta', 'harbin', 'harbiye', 'harbour island', 'harburg', 'harburg wilhelmsburg', 'harem', 'hargeisa', 'harhoura', 'haridwar', 'harinakunda', 'haripur, pakistan', 'harjavalta', 'harstad', 'hashtpar', 'haskovo', 'hasköy', 'hassa', 'hassan', 'hasselt', 'hastinganj', 'hastings', 'haugesund', 'havelse', 'havran', 'havířov', 'hayes', 'hayq', 'hazar', 'hazorasp', 'hebron', 'hedley, british columbia', 'heerenveen', 'heheng', 'heho', 'heinola', 'heliopolis', 'hella', 'hellenopolis', 'hellissandur', 'hellín', 'helmond', 'helsingør', 'helsinki', 'helwan', 'henties bay', 'heraclea', 'heraclea in trachis', 'herakleopolis magna', 'herat', 'herceg novi', 'herculândia', 'heredia', 'hereford', 'hermonthis', 'hermosillo', 'herning', 'heroica matamoros', 'heroica nogales', 'heronem trebirorum', 'hervey bay', 'herzliya', 'hibiscus coast', 'highgate', 'higuerote', 'hihya', 'hillah', 'hillerød', 'hillsborough', 'hippana', 'hiroshima', 'hisar', 'hisar urban agglomeration', 'hisarya, bulgaria', 'hisor', 'historic centre of cusco', 'hjørring', 'hlatikulu', 'hlotse', 'hluti', 'ho', 'hoa lu', 'hobart', 'hobro', 'hod hasharon', 'hoegaarden', 'hohnstein', 'hohoe', 'hola', 'holambra', 'holbæk', 'holguín', 'holland village', 'hollerich bonnevoie', 'holon', 'holstebro', 'homa bay', 'hondarribia', 'hong kong', 'honiara', 'hope town', 'horsens', 'horsham', 'horten', 'hortolândia', 'hospet', 'hořice', 'hpa an', 'hradec králové', 'hrairia', 'hrastnik', 'hsinchu', 'hsinking', 'hua hin', 'huacaraje', 'huachacalla', 'huacho', 'huamachuco', 'huambo', 'huanca sancos', 'huancabamba', 'huancané', 'huancavelica', 'huancayo', 'huanchaco', 'huanta', 'huanuni', 'huaquillas', 'huaral', 'huaraz', 'huari', 'huarmey', 'huaura', 'huaytará', 'hub', 'hubli', 'hudur', 'huehuetenango', 'huejotzingo', 'huelva', 'huining prefecture', 'huittinen', 'hukuntsi', 'humahuaca', 'humera', 'hun', 'hunjiang city', 'hunza', 'hurghada', 'hurna', 'husseiniya', 'huánuco', 'hvammstangi', 'hveragerði', 'hvolsvöllur', 'hwange', 'hwaseong', 'hybla heraea', 'hybla major', 'hyderabad', 'hyria', 'hyvinkää', 'hämeenlinna', 'hîncești', 'hólar', 'hólmavík', 'höfn', 'hørsholm', 'húsavík', 'hīt', 'iacanga', 'iacri', 'ialoveni', 'iaras', 'iasos', 'ibadan', 'ibagué', 'ibarra', 'ibaté', 'ibb', 'ibirarema', 'ibirá', 'ibitinga', 'ibiúna', 'ica', 'ichalkaranji', 'ichinomiya', 'icém', 'idanre', 'idenau', 'idhna', 'idiofa', 'idku', 'idlib', 'idrias', 'ie', 'iepê', 'ietas', 'ife', 'ifrane', 'igarapava', 'igaratá', 'igaraçu do tietê', 'ignatievo', 'iguala', 'iguape', 'iim', 'iisalmi', 'ikaalinen', 'ikast', 'ikela', 'ikere ekiti', 'ilam', 'ilave', 'ile', 'ilebo', 'ilesa', 'ilha comprida', 'ilha solteira', 'ilhabela', 'ilirska bistrica', 'illaga', 'ilo', 'ilorin', 'ilulissat', 'ilıca', 'imachara', 'imasgho', 'imatra', 'imesi ile', 'imishli', 'impfondo', 'imphal', 'imías', 'indaiatuba', 'independencia', 'indiana, são paulo', 'indiaporã', 'indore', 'ingeniero jacobacci', 'ingeniero pablo nogués', 'inhambane', 'injibara', 'inkhil', 'innsbruck', 'integrated urban water management in medellín, colombia', 'interamna lirenas', 'intibili', 'invercargill', 'inverness', 'inycum', 'inúbia paulista', 'ioannina', 'ipaussu', 'iperó', 'ipeúna', 'ipiguá', 'iporanga', 'ipswich', 'ipuã', 'iquitos', 'iracemápolis', 'irapuato', 'irapuru', 'irapuã', 'irbid', 'iringa', 'ironcollo', 'irupana', 'isa town', 'ischia di castro', 'iseyin', 'isfana', 'isfara', 'ishozi', 'isidro casanova', 'isiolo', 'isiro', 'iskandar puteri', 'iskandariya', 'iskar', 'islamabad', 'islamkot', 'island of mozambique', 'ismaïlia', 'isparta', 'isperih', 'istarawshan', 'istočno sarajevo', 'itaberá', 'itahari', 'itajobi', 'itaju', 'itanagar', 'itanhaém', 'itaoca', 'itapecerica da serra', 'itapetininga', 'itapeva, são paulo', 'itapevi', 'itapira', 'itapirapuã paulista', 'itaporanga, são paulo', 'itapura', 'itapuí', 'itaquaquecetuba', 'itararé', 'itariri', 'itatiba', 'itaí', 'itirapina', 'itirapuã', 'itobi', 'ittoqqortoormiit', 'itu', 'ituiutaba', 'ituni', 'itupeva', 'ituverava', 'itápolis', 'iuvavum', 'ivanjica', 'ivirgarzama', 'iwonicz zdrój', 'ixiamas', 'izatovci', 'izbica kujawska', 'izki', 'izola', 'izra', 'iñapari', 'iğdır', 'iłowa', 'iłża', 'ińsko', 'işıklar', 'i̇nallı', 'i̇negöl', 'i̇ske qazan', 'i̇smayıllı', 'i̇smil', 'i̇zmit', 'jabalia', 'jabalpur', 'jableh', 'jablonec nad nisou', 'jaborandi, são paulo', 'jaboticabal', 'jabłonowo pomorskie', 'jacareí', 'jaci, são paulo', 'jacobabad', 'jacqueville', 'jacupiranga', 'jaffa', 'jaffna', 'jagdalpur', 'jagoh', 'jaguariúna', 'jagüey grande', 'jahanpanah', 'jaisalmer', 'jakarta', 'jakobstad', 'jalal abad', 'jalalabad', 'jalalpur bhattian', 'jalandhar', 'jalapa', 'jales', 'jalgaon', 'jalna', 'jalore', 'jalpa de méndez', 'jaltipan de morelos', 'jambeiro', 'jamestown', 'jammu', 'jamnagar', 'jamshedpur', 'jamtara', 'janakpurdham', 'jandira', 'janikowo', 'janjgir', 'janowiec wielkopolski', 'janzur', 'janów lubelski', 'jarabulus', 'jaramana', 'jaramijó', 'jardinópolis', 'jardín américa', 'jarinu', 'jarmuth', 'jarocin', 'jaruco', 'jasień, lubusz voivodeship', 'jastrebarsko', 'jastrowie', 'jastrzębie zdrój', 'jauja', 'jaunpur', 'jawi, penang', 'jaworzno', 'jaworzyna śląska', 'jayrud', 'jazer', 'jaén', 'jaú', 'jaʿār', 'jeddah', 'jedlicze', 'jedwabne', 'jelcz laskowice', 'jelenia góra', 'jelgava', 'jena', 'jenin, palestine', 'jerada', 'jerash', 'jerez de la frontera', 'jerez de los caballeros', 'jericho', 'jeriquara', 'jerusalem', 'jesús maría', 'jesús menéndez', 'jesús, peru', 'jeziorany', 'jezkazgan', 'jhalokati', 'jhang', 'jhansi', 'jhelum', 'jibla', 'jiguaní', 'jijiga', 'jimaguayú', 'jimeta', 'jimma', 'jinja', 'jinotega', 'jinotepe', 'jipijapa', 'jisr al shughur', 'jiutepec', 'jizan', 'jizzakh', 'joal fadiouth', 'joanópolis', 'jodhpur', 'jodoigne', 'joensuu', 'johannesburg', 'jolfa, azerbaijan', 'jonava', 'joniškis', 'joniškėlis', 'joondalup', 'jorf', 'jorochito', 'jos', 'josé bonifácio, são paulo', 'josé c. paz', 'josé enrique rodó', 'josé pedro varela', 'josé santos guardiola', 'jounieh', 'jovellanos', 'joão ramalho', 'ju', 'juan bautista alberdi', 'juan griego', 'juanjuí', 'juba', 'jubail', 'jubbah', 'judibana', 'juhaynah', 'juigalpa', 'julcán', 'juli', 'juliaca', 'juma', 'jumbilla', 'jumilla', 'jumirim', 'jumla', 'junagadh', 'jundiaí', 'junnar', 'junqueirópolis', 'junín', 'juquitiba', 'juquiá', 'jurbarkas', 'juticalpa', 'jutrosin', 'jvari', 'jwaya', 'jyväskylä', 'jämsä', 'järvenpää', 'józefów nad wisłą', 'józefów, biłgoraj county', 'júlio mesquita', 'jędrzejów', \"k'iche' kingdom of q'umarkaj\", 'kaarina', 'kabala', 'kabalo', 'kabara, mali', 'kableshkovo', 'kabul', 'kabwe', 'kadam rasul', 'kadoma', 'kaduna', 'kafr el dawwar', 'kafr el sheikh', 'kafr qasim', 'kafr shukr', 'kaga bandoro', 'kagal', 'kagan', 'kageshwori manohara', 'kago kaju', 'kagoshima', 'kahama', 'kahone', 'kahramanmaraş', 'kailahun', 'kairana', 'kajaani', 'kajiado', 'kakamega', 'kakata', 'kalaiya, nepal', 'kalajoki', 'kalbajar', 'kalbe', 'kalecik', 'kalemie', 'kalenić', 'kalfou', 'kalgoorlie', 'kaliakair', 'kalisz', 'kalisz pomorski', 'kallithea', 'kallurkot', 'kalundborg', 'kalvarija', 'kalwaria zebrzydowska', 'kamalamai', 'kambia, sierra leone', 'kambove', 'kamenica', 'kameno', 'kamień krajeński', 'kamieńsk', 'kamina', 'kamloops', 'kamnik', 'kampala', 'kampar', 'kampen', 'kampong cham', 'kampong speu', 'kampong thom', 'kampot', 'kamëz', 'kananga', 'kandahar', 'kandhkot', 'kandikuppam', 'kandy', 'kandé', 'kanel', 'kangaatsiaq', 'kankaanpää', 'kannus', 'kano', 'kanpur', 'kant', 'kanyabayonga', 'kanyakumari', 'kanye', 'kaohsiung', 'kaolack', 'kaolinovo', 'kapaklı', 'kapchagay', 'kapelhoek', 'kapurthala', 'kara suu', 'karaağaç', 'karaburna', 'karabük', 'karadeniz ereğli', 'karaganda', 'karak', 'karakol', 'karakore', 'karakorum', 'karaköl', 'karaman', 'karapınar', 'karasburg', 'karatau', 'karayılan, i̇skenderun', 'karaçulha', 'karbala', 'karditsa', 'kardzhali', 'kareli', 'kargowa', 'kargıpınarı', 'kariba', 'karkh', 'karkkila', 'karl johan city', 'karlino', 'karlovo', 'karlovy vary', 'karmiel', 'karnak', 'karnobat', 'kars', 'karviná', 'kasaka lci', 'kasama, zambia', 'kasan', 'kasane', 'kasanga', 'kasese', 'kaskelen', 'kaskinen', 'kaspi', 'kaspichan', 'kassala', 'kastamonu', 'kastoria', 'kasugai', 'kasulu', 'katerini', 'kathmandu', 'katima mulilo', 'katiola', 'katowice', 'katsina', 'katsushima', 'katta kurgan', 'katzrin', 'kauhajoki', 'kauhava', 'kaunas', 'kauniainen', 'kavadarci', 'kavajë', 'kavala', 'kavarskas', 'kavieng', 'kawagoe', 'kawkaban', 'kayanza', 'kayseri', 'kazanlak', 'kazimierz dolny', 'kazimierza wielka', 'kazlų rūda', 'kaçanik', 'kaélé', 'kać', 'kałuszyn', 'kańczuga', 'kcynia', 'kecskemét', 'keelung', 'keetmanshoop', 'keflavík', 'kegalle', 'kele, ethiopia', 'kelmė', 'kelowna', 'kemer', 'kemi', 'kemijärvi', 'kemise', 'kenema', 'kenge, bandundu', 'kengtung', 'keningau', 'kenitra', 'kenscoff', 'kepez', 'kerava', 'kerben', 'kerema', 'keren, eritrea', 'kericho', 'kerki', 'kerkrade', 'kermen', 'kestel', 'keuruu', 'kfar saba', 'khaar', 'khabab', 'khachmaz', 'khagrachari', 'khairpur tamiwali', 'khambhat', 'khamir', 'khamis mushait', 'khan abad', 'khan yunis', 'khanaqin', 'khanbaliq', 'khandbari', 'khandela', 'khanpur, gujarat', 'khartoum', 'khartoum north', 'khashuri', 'khemisset', 'khenchela', 'khenifra', 'khereddine', 'khiva', 'khobi', 'khojali', 'khojavend', 'kholm', 'khombole', 'khoni', 'khorixas', 'khorugh', 'khovd', 'khujand', 'khulna', 'khushalpur', 'kibaha', 'kibangou', 'kibeho', 'kibuye', 'kidira', 'kielce', 'kieta', 'kietrz', 'kigoma', 'kikinda', 'kikwit', 'kilaguni', 'kilamba', 'kilifarevo', 'kilifi', 'kilimli', 'kilis', 'kilkenny', 'killiney', 'kimpese', 'kindu', 'king abdulaziz city for science and technology', 'kingston', 'kingston upon hull', 'kinkala', 'kinshasa', 'kipushi', 'kirkenes', 'kirkuk', 'kirtipur', 'kirundo', 'kiryat ata', 'kiryat bialik', 'kiryat gat', 'kiryat malakhi', 'kiryat motzkin', 'kiryat ono', 'kiryat shmona', 'kiryat yam', 'kisangani', 'kishm', 'kisielice', 'kisii', 'kismayo', 'kisumu', 'kitakawabe', 'kitale', 'kitchener', 'kitee', 'kiten, burgas province', 'kittrell, texas', 'kitwe', 'kiuruvesi', 'kičevo', 'kladno', 'klaipėda', 'kleczew', 'kleszczele', 'klimontów, sandomierz county', 'klisura', 'klos, mat', 'kluczbork', 'kmeti', 'knyszyn', 'koani', 'kobo', 'kobylin', 'kochi', 'kochkor ata', 'kock', 'koh kong', 'kohima', 'kohunlich', 'koidutown sefadu', 'kokemäki', 'koki', 'kokkola', 'kokopo', 'kokshetau', 'kolar', 'kolašin', 'kolbuszowa', 'kolda', 'kolding', 'kolhapur', 'kollam', 'kolmanskop', 'kolonowskie', 'koluszki', 'kolwezi', 'kom ombo', 'komki ipala', 'komotini', 'konacık', 'konaklı', 'kong', 'kongens lyngby', 'konibodom', 'koniecpol', 'konin', 'konongo', 'konstancin jeziorna', 'konya', 'konye', 'konye urgench', 'koper', 'kopong', 'koprivnica', 'koprivshtitsa', 'koprzywnica', 'korak', 'korba', 'kordié', 'korfantów', 'koro', 'korogwe', 'koronowo', 'koror', 'korsze', 'korsør', 'koru', 'korçë', 'kosonsoy', 'kosovo polje', 'kostandovo', 'kostanjevica na krki', 'kostenets', 'kostrzyn', 'koszalin', 'koszyce, lesser poland voivodeship', 'kosów lacki', 'kot momin', 'kota', 'kota kinabalu', 'kotel', 'kotka', 'kotor', 'koudougou', 'koulamoutou', 'koumpentoum', 'koumra', 'koungheul', 'kousséri', 'kouvola', 'kowalewo pomorskie', 'koynare', 'koza', 'kozan', 'kozani', 'kozhikode', 'koziegłowy, silesian voivodeship', 'kozienice', 'kozloduy', 'kozlu', 'kočani', 'kołaczyce', 'końskie', 'koźle', 'koźmin wielkopolski', 'kożuchów', 'kpalimé', 'kragujevac', 'krajenka', 'kranj', 'krapkowice', 'krasnobród', 'kratié', 'kratovo', 'kretinga', 'kribi', 'kristiania', 'kristiansand', 'kristinestad', 'kriva palanka', 'krnete', 'krobia', 'krong kep', 'krosno', 'krosno odrzańskie', 'krotoszyn', 'krośniewice', 'krujë', 'krumë', 'kruszwica', 'kruševo', 'krynica zdrój', 'krynki', 'krzanowice', 'krzepice', 'krzeszowice', 'krzywiń', 'krzyż wielkopolski', 'krško', 'książ wielkopolski', 'kuajok', 'kuala terengganu', 'kubrat', 'kudirkos naumiestis', 'kufa', 'kufranjah', 'kuhmo', 'kukës', 'kula, ethiopia', 'kulob', 'kulu', 'kumanovo', 'kumari', 'kumarlar', 'kumasi', 'kumba', 'kumbo', 'kunów', 'kuopio', 'kupiškis', 'kurayyimah', 'kurbnesh', 'kurchaloy', 'kurihashi', 'kurikka', 'kurugöl', 'kurumbakkavu bhagavathy temple edathala', 'kurunegala', 'kuršėnai', 'kut', 'kutaisi', 'kuusamo', 'kuwait city', 'kuzuculu', 'kuçovë', 'kuşadası', 'kuźnia raciborska', 'kvareli', 'kwale, nigeria', 'kwekwe', 'kyaukhtu', 'kyaukpyu', 'kybartai', 'kyrenia', 'kyustendil', 'kyzyl kiya', 'kyzylorda', 'kyōto', 'kébémer', 'kédougou', 'kélo', 'kórnik', 'körfez', 'køge', 'kürdəmir', 'küçükdalyan', 'kąty wrocławskie', 'kėdainiai', 'kępice', 'kępno', 'kęty', 'kırklareli', 'kırıkkale', 'kırşehir', 'kızılpınar', 'kłecko', 'kłobuck', 'kłodawa', 'kōbe', 'kōchi', 'kōfu', 'la angostura, santa cruz', 'la banda', 'la bañeza', 'la bélgica', 'la calera', 'la ceiba', 'la chorrera', 'la cité du fleuve', 'la concordia', 'la democracia', 'la défense', 'la entrada', 'la esperanza', 'la grita', 'la guaira', 'la higuera', 'la joya de los sachas', 'la libertad, santa elena', 'la lima', 'la merced', 'la oroya', 'la paz', 'la paz, entre ríos', 'la piedad', 'la plata', 'la rioja', 'la rochelle', 'la rumorosa', 'la salina, baja california', 'la sierpe', 'la tablada', 'la troncal', 'la vela de coro', 'la ventosa', 'la victoria', 'la villa del rosario', 'laakirchen', 'laayoune', 'laboulaye', 'labé', 'lacedaemon', 'lachin', 'lae', 'lagodekhi', 'lagoinha', 'lagos', 'lagrange, new york', 'laguna alsina', 'laguna de duero', 'lahad datu', 'lahan', 'lahij', 'lahn', 'lahore', 'lahti', 'lahuachaca', 'laitila', 'lajas', 'lakota', 'lakshipur', 'lalian', 'lalitpur', 'lamap', 'lamas', 'lambaréné', 'lambayeque', 'lamia', 'laminium', 'lamki', 'lampa', 'lamud', 'lancaster', 'lanchkhuti', 'landen', 'langley', 'lanús', 'lapithos', 'lappeenranta', 'laranjal paulista', \"larissa d'assíria\", 'larkana', 'larvik', 'las delicias', 'las heras', 'las lomitas', 'las martínez', 'las palmas de gran canaria', 'las parejas, santa fe', 'las piedras', 'las tablas', 'las varillas', 'lascano', 'lashio', 'lashkar gah', 'lastoursville', 'latacunga', 'latakia', 'latina', 'latrobe', 'latur', 'launceston', 'laurent, south dakota', 'lauriacum', 'lautoka', 'lavici', 'lavrinhas', 'lavumisa', 'lavínia', 'lawas', 'lawazantiya', 'layla', 'layou', 'layyah', 'lazdijai', 'laç', 'laï', 'le tampon', 'leandro n. alem', 'lebedyn', 'lecce', 'lecheng', 'lechería', 'lederata', 'ledon', 'leeds', 'leer', 'leeuwarden', 'legnica', 'lehi', 'leicester', 'leiden', 'leipzig', 'lekhnath', 'lekki', 'lelystad', 'leme', 'lenart v slovenskih goricah', 'lendava', 'lenggong', 'lentvaris', 'lençóis paulista', 'leova', 'lerdo de tejada', 'lerik', 'lesko', 'leszno', 'lethem', 'letlhakane', 'letnitsa', 'leucophrys', 'leuven', 'levski, pleven province', 'lewin brzeski', 'lezhë', 'león', 'leśna', 'leśnica', 'lhasa', 'liao nanjing', 'liaqauatpur', 'liberia', 'libertad', 'libertador general san martín', 'libiąż', 'librazhd', 'libreville', 'lice', 'licenciado benito juárez', 'lichfield', 'lichinga', 'lidzbark', 'lieksa', 'likasi', 'lilibaeum', 'lilongwe', 'liman', 'limavady', 'limbe', 'limeira', 'limerick', 'limne', 'limoncito', 'limón', 'linares', 'lincoln', 'linden', 'lindi', 'lindóia', 'lingshet', 'linguère', 'linkuva', 'linnich', 'lins', 'linstead', 'lionel town, jamaica', 'lipiany', 'lipsk', 'lipsko', 'liquiçá', 'lircay', 'lirquén', 'lisala', 'lisburn', 'lismore', 'lissus', 'list of cities in yemen', 'lithgow', 'liverpool', 'livingstone', 'livorno', 'liwonde', 'liège', 'ljubljana', 'llafranc', 'llamellín', 'llanfairfechan', 'llavallol', 'lloydminster', 'lobamba', 'lobatse', 'lobos', 'lochem', 'locumba', 'lod', 'lodja', 'lodwar', 'lohja', 'loikaw', 'loimaa', 'loja', 'lokichogio', 'lom', 'lomas de sargentillo', 'lomas del mirador', 'lomié', 'london', 'longchamps, buenos aires', 'lorca', 'lorena, são paulo', 'lorengau', 'los guayos', 'los polvorines', 'los reyes municipal council', 'los teques', 'lospalos', 'louata', 'loudima', 'louga', 'loum', 'louny', 'lourdes', 'louveira', 'lovech', 'loviisa', 'lower hutt', 'lowlands', 'lož', 'lqliâa', 'luanda', 'luang prabang', 'luanshya', 'luba', 'lubawka', 'luberizi', 'lubień kujawski', 'lublin', 'lubniewice', 'lubomia', 'lubomierz', 'lubowidz, masovian voivodeship', 'lubraniec', 'lubsko', 'lubumbashi', 'lucea', 'lucerne', 'luchenza', 'lucianópolis', 'lucky shah sadar', 'lucélia', 'ludhiana', 'lugano', 'lugau', 'lugo', 'luiziânia', 'lukovit', 'lules', 'luleå', 'lumbo', 'luna', 'lundu, sarawak', 'lupércio', 'lusail', 'lusaka', 'lushnjë', 'lututów', 'lutécia', 'luxembourg', 'luxor', 'luís antônio', 'lwówek', 'lwówek śląski', 'lyede', 'lysimachia (aetolia)', 'lyubimets', 'lázaro cárdenas, jalisco', 'léogâne', 'lüderitz', 'lāla musa', 'lądek zdrój', \"m'banza kongo\", \"m'bour\", \"ma'alot tarshiha\", \"ma'an\", \"ma'rib\", \"maarrat al nu'man\", 'maarrat misrin', 'maastricht', 'mabaruma', 'mabeleapudi', 'macas', 'macatuba', 'macaubal', 'macedônia', 'maceió', 'machakos', 'machala', 'machh', 'machico', 'machinda', 'machiques', 'mackay', 'macusani', 'macuto, vargas', 'madaba', 'madalla', 'madaripur', 'madhabdi', 'madinat zayed', 'madingo kayes', 'madingou', 'madrid', 'madurai', 'maebashi', 'mafeteng', 'magallanes', 'magburaka', 'magda', 'magdalena', 'magdanly', 'magetobria', 'maghagha', 'maghar', 'maghera', 'maghrawa', 'magnesia ad sipylum', 'magnesia on the maeander', 'magura, bangladesh', 'magway', 'mahalapye', 'mahavelona', 'mahbubnagar', 'mahdia', 'mahmoudiyah, egypt', 'mahmutlar', 'mahón', 'maiduguri', 'maihar', 'maijdee', 'mailuu suu', 'maintinandry', 'maionia in lydia', 'maipú', 'maiquetía', 'mairana', 'mairinque', 'mairiporã', 'maisí', 'maitengwe', 'majayahan', 'majete', 'maji', 'majibacoa', 'majuro', 'makabana', 'makale', 'makamba', 'makeni', 'makhmur', 'makoua', 'makénéné', 'maków podhalański', 'mala, cañete province', 'malabo', 'malakal', 'malanyu', 'malargüe', 'malatya', 'malavli', 'maldonado', 'malegaon', 'malem hodar', 'maliana', 'malko tarnovo', 'mallawi', 'malout', 'malé', 'mamfe', 'mamporal', 'mamurras', 'managua', 'manama', 'mananwala', 'manatuto', 'manatí', 'manbij', 'manchester', 'mandalay', 'mandalgovi', 'mandeville', 'mandi bahauddin', 'mandsaur', 'mandurah', 'manduri', 'mandya', 'manfalut', 'manga', 'mangalore', 'mangina', 'mango', 'mangochi', 'manhiça', 'manica', 'maniitsoq', 'manisa', 'manono', 'mansa', 'mansoura', 'mansura, raqqa', 'mansôa', 'manta', 'manuel tames', 'manukau city', 'manzala', 'manzanillo', 'manzini', 'manëz', 'mao', 'mapai', 'mapiri', 'maple ridge', 'maputo', 'marabá paulista', 'maracaibo', 'maracay', 'maracaí', 'maradi', 'marapoama', 'marbella', 'marcos juárez', 'mardaman', 'mardan', 'mardin', 'marehra', 'marevo', 'margilan', 'margonin', 'mariano acosta, buenos aires province', 'maribor', 'mariel', 'mariental', 'marijampolė', 'marinópolis', 'mariposa, satipo province', 'mariápolis', 'marjayoun', 'markham', 'marmara ereğlisi', 'marneuli', 'marondera', 'maros', 'marot', 'maroua', 'marrakech menara', 'marrakesh', 'marsabit', 'martakert', 'martap', 'martensville', 'martin', 'martinópolis', 'martos', 'martvili', 'martínez', 'mary', 'mary geoise', 'maryborough', 'marília', 'masally', 'masan', 'masaya', 'mascara', 'maseru', 'maspalomas', 'massa veternensis', 'massaguet', 'massakory', 'massawa', 'massenya', 'massock songloulou', 'mastaura in asia', 'masvingo', 'masyaf', 'maszewo', 'matadi', 'matagalpa', 'matai', 'matam', 'matanzas', 'mathangwane', 'mathura', 'matola', 'matru', 'matsue', 'matsuyama', 'matucana', 'maturín', 'matão', 'maun', 'maungdaw township', 'mauritsstad', 'mauá', 'mawlamyine', 'mawqaq', 'maxixe', 'maxville', 'may pen', 'mayadin', 'mayarí', 'mayumba', 'mazar i sharif', 'maçka', 'maño', 'małogoszcz', 'małomice', 'mažeikiai', 'ma‘bar', 'mbacké', 'mbale', 'mbalmayo', 'mbandaka', 'mbang', 'mbanza ngungu', 'mbaïki', 'mbeya', 'mbinda', 'mbini', 'mbombela', 'mboro', 'mbouda', 'mbuji mayi', 'meadow lake', 'mecca', 'mechelen', 'meckhe', 'medellín', 'medeon', 'media luna', 'medina', 'mediolanum', 'meerut', 'mega, ethiopia', 'megara', 'meiganga', \"mek'ele\", 'mekane berhan', 'mekane selam', 'meki', 'meknes', 'melaka city', 'melbourne', 'melena del sur', 'melilla', 'mellita', 'melut', 'mendefera', 'mendi', 'mendoza', 'mengomeyén', 'meppel', 'mera, pastaza', 'merak', 'meraro', 'merawi, ethiopia', 'merca', 'mercedes', 'merewether', 'mergesor', 'meri, cameroon', 'merida', 'meridiano, são paulo', 'merlo', 'mersa matruh', 'mersin', 'merzifon', 'messina', 'mesópolis', 'metangula', 'metehara', 'metemma', 'metlika', 'metu', 'mexicali', 'mežica', 'mfuwe', 'mhlume', 'miani', 'miaoli city', 'miarinarivo', 'miastko', 'michalovce', 'michałowo', 'michelena', 'michmash', 'micomeseng', 'middelburg', 'middelfart', 'midway', 'miechów', 'miejska górka', 'mieroszów', 'mieso', 'mieszkowice', 'migdal haemek', 'miguel alemán, hermosillo', 'miguelópolis', 'migues', 'mikkeli', 'mikołajki', 'mikstat', 'milagro', 'milan', 'mildura', 'miletus', 'milford', 'milicz', 'milosavci', 'milot', 'minas', 'minatitlán', 'mindelo', 'mineiros do tietê', 'mingora', 'minicoy', 'minna', 'minvoul', 'minya', 'mir ali tehsil', 'mira bhayandar', 'mira estrela', 'miracatu', 'miranda de ebro', 'mirandópolis', 'miranshah', 'mirante do paranapanema', 'mirassol', 'mirassolândia', 'mirosławiec', 'mirpur khas', 'mirsk', 'mirzapur', 'miskolc', 'misrata', 'mississauga', 'mit ghamr', 'mitrovica', 'mitsamihuli', 'mitzic', 'miyazaki', 'miziling', 'mizpah in benjamin', 'mizque', 'międzybórz', 'międzychód', 'międzylesie', 'międzyrzecz', 'międzyzdroje', 'miłakowo', 'miłomłyn', 'miłosław', 'mkoani', 'mkokotoni', 'mladá boleslav', 'moa', 'moab', 'moatize', 'mobaye', 'mocha', 'moche, trujillo', 'mococa', 'mocuba', 'mocímboa da praia', 'modena', \"modi'in maccabim re'ut\", 'modliborzyce, lublin voivodeship', 'mogadishu', 'mogi das cruzes', 'mogi guaçu', 'mogielnica', 'mogilno', 'mogoditshane', 'mogontiacum', 'moguer', 'mohammedia', 'moho', 'moji mirim', 'mojkovac', 'mokhotlong', 'mokolo', 'moladah', 'molepolole', 'molfetta', 'mollendo', 'molėtai', 'mombasa', 'mombuca', 'momchilgrad', 'moncton', 'monfalcone', 'mong la', 'mongaguá', 'mongar', 'mongo, chad', 'mongomo', 'mongu', 'monrovia', 'montalvo', 'montana', 'monte alegre do sul', 'monte alto, são paulo', 'monte aprazível', 'monte azul paulista', 'monte caseros', 'monte castelo, são paulo', 'monte chingolo', 'monte grande', 'monte mor', 'monteagudo', 'montecarlo', 'montecristi', 'montego bay', 'monteiro', 'monteiro lobato, são paulo', 'montepuez', 'montero', 'monteros', 'monterrey', 'monterrico', 'monywa', 'monza', 'monções', 'moose jaw', 'moquegua', 'mora', 'morant bay', 'morden', 'mordy', 'moreno', 'morococha', 'morogoro', 'moroni', 'morro agudo', 'morteros', 'morungaba', 'moryń', 'morón', 'morąg', 'moshi', 'moshupa', 'mosina', 'mossaka', 'mossendjo', 'mostaganem', 'mostar', 'mosul', 'mota, ethiopia', 'motihari', 'motril', 'motuca', 'mouila', 'mounana', 'moundou', 'mount gambier', 'mount hagen', 'mount isa', 'moussoro', 'mowa', 'moyale', 'moyamba', 'moyobamba', 'moçâmedes', 'mońki', 'mpanda', 'mpohor', 'mpwapwa', 'mrauk u', 'mrocza', 'mrozy, mińsk county', 'mszczonów', 'mtskheta', 'mtwara', 'muang xay', 'mubi', 'muborak', 'mudula', 'mueda', 'mufulira', 'mugilla', 'muhanga', 'muharraq', 'mukalla', 'mukden', 'mulanje', 'mulenge', 'mullaitivu', 'mullana', 'multan', 'mulukuku', 'mumbai', 'mumias', 'munich', 'municipality of macau', 'munro', 'muqdadiyah', 'muradabad', 'muramvya', 'murcia', 'murowana goślina', 'murray bridge', 'murska sobota', 'murutinga do sul', 'murzuk', 'muse', 'musoma', 'musturud', 'musumba', 'muszyna', 'mut', 'mutare', 'mutoko', 'mutriku', 'mutsamudu', 'muttrah', 'muyinga', 'muzaffarpur', 'muñiz, buenos aires', 'muğla', 'mwanza', 'mwaro', 'mweka', 'mwene ditu', 'myeik', 'myitkyina', 'mykonos', 'mysomakedones', 'mysore', 'myszyniec', 'mytilene', 'myślenice', 'myślibórz', 'mzuzu', 'málaga', 'mänttä vilppula', 'médina yoro foulah', 'médéa', 'mérida', 'mörön', 'młynary', \"n'dalatando\", \"n'djamena\", 'naantali', 'naarath', 'nabatieh', 'nabinagar', 'nabk', 'nablus', 'nacaome', 'nachingwea, tanzania', 'nacona', 'nador', 'naema', 'nag hammadi', 'nagano', 'nagapattinam', 'nagarjun municipality', 'nagarjunakonda', 'nagercoil', 'nagpur', 'nahariya', 'naina devi', 'naivasha', 'najaf', 'najan', 'najasa', 'najran', 'nakano', 'nakfa, eritrea', 'nakhchivan', 'naklo', 'nakonde', 'nakskov', 'nakuru', 'nakło nad notecią', 'nala sopara', 'nalaikh', 'nalut', 'namaacha', 'namakkal', 'namanga', 'namangan', 'namatanai', 'nampho', 'nampula', 'namur', 'namysłów', 'nanaimo', 'nanded', 'nandurbar', 'nangal choudhary', 'nangal kalan', 'nangal rajawatan', 'nanking', 'nanterre', 'nantes, são paulo', 'nanyuki', 'naolinco, veracruz', 'napata', 'napier', 'naples', 'naqada', 'nara', 'naracoopa', 'narandiba', 'naranjal', 'naranjito', 'narayan', 'narayanganj', 'naresh', 'narlı', 'narok', 'narol', 'narona', 'narsaq', 'narsingdi', 'narvik', 'naryn', 'nasca', 'nashik', 'nasielsk', 'nasiriyah', 'nassau', 'nasser', 'natas', 'natividade da serra', 'natá de los caballeros', 'naucalpan de juárez', 'naujoji akmenė', 'naulochus', 'naupactus', 'nauta', 'navekat', 'navi mumbai', 'navoiy', 'navojoa', 'nawa', 'nawabshah', 'nawer valley', 'naxos (city)', 'naya raipur', 'naypyidaw', 'nazareth', 'nazaré paulista', 'nałęczów', 'ncue', 'ndevana', 'ndi oji abam', 'ndioum', 'ndola', 'ndom', 'nea filadelfeia', 'nea ionia', 'neapolis', 'necochea', 'nefas mewcha', 'nefasit', 'neftekamsk', 'neftçala', 'negombo', 'negotino', 'negril', 'nehardea', 'nejo', 'nekla', 'nellore', 'nelson', 'nemenčinė', 'neon', 'nepalgunj', 'nerkattumseval', 'nerulum', 'nerva', 'nesebar', 'nesher', 'neskaupstaður', 'ness ziona', 'netanya', 'netivot', 'netum', 'neuquén', 'neves paulista', 'nevşehir', 'new amsterdam', 'new cairo', 'new plymouth', 'new westminster', 'new york city', 'newcastle', 'newcastle upon tyne', 'newcastle west', 'newport', 'newry', 'nganda', 'ngaoundéré', 'ngerulmud', 'ngornu', 'ngozi', 'nguti', 'nguékhokh', 'ngwenya', 'nhamatanda', 'nhandeara', 'nhlangano', 'niagara falls', 'niamey', 'niamtougou', 'niceto pérez', 'nidaros', 'nidzica', 'niederlahnstein', 'niefang', 'niemcza', 'niemodlin', 'nienburg', 'niepołomice', 'nijkerk', 'nijmegen', 'nikaia', 'nikkō', 'nikšić', 'nilore, islamabad', 'ninotsminda', 'nioro du rip', 'nipoã', 'nishinomiya', 'nisko', 'nisporeni', 'nissing', 'niterói', 'nitra', 'nivala', 'nizamabad', 'nizip', 'nizwa', 'niğde', 'niš', 'njarðvík', 'njombe mjini', 'nkayi, republic of the congo', 'nkhata bay', 'nkimi', 'nkondjock', 'nkongsamba', 'nkurenkuru', 'nof hagalil', 'noida', 'nokia', 'nola, central african republic', 'nombre de jesús', 'nondara', 'nordhorn', 'norsup', 'north bay', 'north nicosia', 'north vancouver', 'norwich', 'notsé', 'nottingham', 'nouaceur', 'nouadhibou', 'nouakchott', 'nova aliança', 'nova campina', 'nova canaã paulista', 'nova castilho', 'nova europa', 'nova gorica', 'nova granada', 'nova guataporanga', 'nova independência', 'nova lima', 'nova luzitânia', 'nova odessa', 'nova varoš', 'novais, são paulo', 'novara', 'novi iskar', 'novi pazar', 'novo horizonte, são paulo', 'novo mesto', 'novorossiysk', 'nový jičín', 'nowa dęba', 'nowa sarzyna', 'nowa słupia', 'nowe', 'nowe brzesko', 'nowe miasteczko', 'nowe miasto nad pilicą', 'nowe skalmierzyce', 'nowe warpno', 'nowogard', 'nowogrodziec', 'nowogród', 'nowogród bobrzański', 'nowy dwór gdański', 'nowy korczyn', 'nowy staw', 'nowy sącz', 'nowy tomyśl', 'nowy wiśnicz', 'nsang', 'nsanje', 'nsoko', 'nueva cáceres', 'nueva gerona', 'nueva helvecia', 'nueva loja', 'nueva ocotepeque', 'nueva palmira', 'nuevitas', 'nuevo berlín', 'nuevo laredo', 'nuevo san carlos', \"nuku'alofa\", 'nukus', 'nuporanga', 'nurafshon', 'nurak', 'nuremberg', 'nurmes', 'nurpur', 'nusaybin', 'nushki', 'nuuk', 'nuwara eliya', 'nuweiba', 'nuzi', 'nyala', 'nyamasheke', 'nyanga', 'nyanza, rwanda', 'nyaunglebin', 'nyborg', 'nykarleby', 'nykøbing falster', 'nysa', 'nyíregyháza', 'närpes', 'næstved', 'nørresundby', 'o smach', 'oba', 'obala', 'obeliai', 'oberlahnstein', 'oberá', 'obock', 'oborniki', 'oborniki śląskie', 'ocauçu', 'ocnița', 'ocotal', 'ocumare del tuy', 'odienné', 'odolanów', 'odranci', 'odžak', 'oebisfelde', 'of', 'ofakim', 'ogbomosho', 'ogrodzieniec', 'ohrid', 'okakarara', 'okene', 'okonek', 'okoyo', 'olanchito', 'olavarría', 'old cölln', 'old delhi', 'old harbour', 'old neredmet village', 'old sana', 'olecko', 'olesno', 'oleszyce', 'oleśnica, świętokrzyskie voivodeship', 'olite', 'olivenza', 'olkusz', 'ollantaytambo', 'olmaliq', 'olomouc', 'olsztyn', 'olsztynek', 'olszyna', 'olympe', 'olímpia', 'omaruru', 'omate', 'omdurman', 'ommen', 'omurtag', 'omuthiya', 'onda verde', 'ondangwa', 'ondjiva', 'ondo city', 'ongwediva', 'oni', 'onitsha', 'onoguris', 'onoto', 'opalenica', 'opatowiec', 'opatów', 'opava', 'opoczno', 'opole', 'opole lubelskie', 'opuwo', 'or akiva', 'oracabessa', 'orahovac', 'oral', 'oran', 'orange', 'oranjemund', 'oranjestad', 'orapa', 'ordu', 'ordubad', 'orhei', 'oricum', 'oriente, são paulo', 'orihuela', 'orillia', 'orimattila', 'orindiúva', 'orivesi', 'orkanger', 'orlando', 'orlândia', 'orneta', 'oropia', 'oropolí', 'ortahisar', 'ortaklar', 'ortiz, guárico', 'oruro', 'orzysz', 'osasco', 'oscar bressane', 'osemotor', 'osh', 'oshakati', 'oshawa', 'oshikango', 'osieczna', 'osiek, świętokrzyskie voivodeship', 'oskemen', 'oslo', 'osmanabad', 'osmaniye', 'osogbo', 'ostrava', 'ostroróg', 'ostrołęka', 'ostrzeszów', 'ostrów lubelski', 'osvaldo cruz', 'osório', 'otavalo', 'otavi', 'otjiwarongo', 'otmuchów', 'otrar', 'otuzco', 'otyń', 'ouahigouya', 'ouargla', 'ouazzane', 'oued laou', 'oued zem', 'oujda', 'oulainen', 'oulu', 'oum el bouaghi', 'oum hadjer', 'oumé', 'ourense', 'ourinhos', 'ouro sogui', 'ouro verde', 'ouroeste', 'oussouye', 'outapi', 'outjo', 'outokumpu', 'ouésso', 'ovacık', 'ovaeymir', 'ovaören', 'oviedo', 'owando', 'owen sound', 'owerri', 'owo', 'oyo', 'oyo, republic of the congo', 'ozimek', 'ozurgeti', 'oğuz', 'ośno lubuskie', 'ożarów', 'ożarów mazowiecki', 'paamiut', 'pabradė', 'pacaembu', 'pacanów', 'pacasmayo', 'pachacútec city special project', 'paczków', 'padang besar', 'padilla', 'padua', 'pahadi, rajasthan', 'paiania', 'pailón', 'paimio', 'paishiyauvada', 'paita', 'pajęczno', 'pakenham', 'pakość', 'pakruojis', 'pakse', 'pakwach', 'pakxan', 'pala', 'palakkad', 'palakollu', 'palanpur', 'palapye', 'palencia', 'palenque', 'palermo', 'palestina', 'pali', 'palić', 'palma', 'palma soriano', 'palmares paulista', 'palmas', \"palmeira d'oeste\", 'palmerston', 'palmerston north', 'palmira', 'palmital', 'palo negro', 'palos blancos', 'palos de la frontera', 'palpa', 'palpalá', 'pampas', 'pampatar', 'pamplona', 'pan de azúcar, uruguay', 'pana', 'panajachel', 'panama city', 'panauti', 'panchor', 'panda', 'pandaul vidhan sabha constituency', 'pando', 'pandėlys', 'panevėžys', 'pangani', 'pangin', 'pangkham', 'panguna', 'panjakent', 'panjim', 'panna, india', 'papenburg', 'paradero', 'paraguaçu paulista', 'paraibuna', 'paramaribo', 'paranapanema', 'paranapuã', 'paraná', 'parapuã', 'paravur', 'parczew', 'pardes hanna karkur', 'pardinho', 'pardubice', 'pargas', 'parika', 'pariquera açu', 'paris', 'parisi', 'parkano', 'parkhurst, isle of wight', 'parma', 'paro', 'paroom', 'parotani', 'parque del plata', 'parque san martín, buenos aires province', 'paruro', 'parvomay', 'pasaje', 'paso de los libres', 'paso de los toros', 'pasvalys', 'pasym', 'pasłęk', 'patacamaya', 'pataliputra', 'pathein', 'patiala', 'patna', 'patos', 'patos de minas', 'patras', 'patreksfjörður', 'patrocínio paulista', 'pattaya', 'pau', 'paucartambo', 'pauliceia', 'paulistânia', 'paulo de faria', 'paulínia', 'paurito', 'pausa', 'pavlikeni', 'pavlodar', 'pavón, santa fe', 'payas', 'paysandú', 'pazardzhik', 'pedernales', 'pedernales, delta amacuro', 'pederneiras', 'pedra badejo', 'pedra bela', 'pedranópolis', 'pedregulho', 'pedreira, são paulo', 'pedrinhas paulista', 'pedro carbo', 'pedro de toledo', 'pedro juan caballero', 'pedro luro', 'pedro vicente maldonado', 'pefki', 'pejë', 'pelileo', 'pelitli', 'pella', 'pelplin', 'pelusium', 'pemba', 'pempe', 'penonomé, coclé', 'penrith', 'penticton', 'penápolis', 'peqin', 'pereira', 'pereira barreto', 'pereiras', 'perga', 'pergamino', 'peribeca', 'perico', 'perico (jujuy)', 'perito moreno', 'pernik', 'perth', 'perugia', 'peruíbe', 'pescara', 'peshawar', 'peshkopi', 'peshtera', 'pestszentimre', 'petah tikva', 'petaling jaya', 'peterborough', 'petit goâve', 'petra', 'petrich', 'petronia city', 'petropavl', 'petrovaradin', 'petrópolis', 'pełczyce', 'phalombe', 'phnom penh', 'phongsali', 'phuket', 'phuntsholing', 'piacatu', 'piacenza', 'piaseczno', 'piaski', 'pichanal', 'pickering', 'pico truncado', 'picota', 'piedade, são paulo', 'piekary śląskie', 'pieksämäki', 'pieniężno', 'pierrefonds', 'pierzchnica', 'pieńsk', 'pigüé', 'pikine', 'pilar', 'pilar do sul', 'pilar, córdoba province', 'pilawa', 'pilica', 'pilin', 'pillaro', 'pilzno', 'pilón', 'pimentel', 'pimpri chinchwad', 'pinar del rio', 'pindamonhangaba', 'pindi bhattian', 'pindorama', 'pingtung city', 'pinhalzinho', 'pinner', 'pinosava', 'pinya', 'piotrków kujawski', 'piotrków trybunalski', 'piquerobi', 'piquete', 'pir jo goth', 'piracaia', 'piracicaba', 'piraju', 'pirajuí', 'pirangi', 'pirangut', 'pirané', 'pirapora do bom jesus', 'pirapozinho', 'pirassununga', 'piratininga', 'piriápolis', 'pisa', 'pisco', 'piscobamba', 'pisz', 'pitangueiras', 'pitsunda', 'pitt meadows', 'piura', 'piwniczna zdrój', 'piątek, łódź voivodeship', 'placetas', 'planalto', 'plano', 'plasencia', 'platina', 'plav', 'playas', 'pleszew', 'pleven', 'pliska', 'pljevlja', 'plovdiv', 'plungė', 'plužine', 'plymouth', 'plzeň', 'pniewy', 'pobiedziska', 'poddębice', 'podgorica', 'podor', 'pogorzela', 'pogradec', 'pointe noire', 'poipet', 'poitiers', 'polanów', 'polatlı', 'poli', 'police', 'poliçan', 'polkowice', 'poloni', 'polski trambesh', 'pomabamba', 'pompeia', 'pompeiopolis', 'pondicherry', 'pongaí', 'poniatowa', 'poniec', 'pontal', 'pontalinda', 'pontes gestal', 'pontevedra', 'pontevedra, buenos aires province', 'popondetta', 'poprad', 'populina', 'porangaba', 'porbandar', 'pori', 'porirua', 'porlamar', 'porsgrunn', 'port antonio', 'port arthur', 'port augusta', 'port blair', 'port colborne', 'port elizabeth', 'port fuad', 'port gentil', 'port kamsar', 'port loko', 'port louis', 'port macquarie', 'port maria', 'port mathurin', 'port moresby', 'port of bayóvar', 'port of spain', 'port said', 'port sudan', 'port vila', 'portachuelo', 'portage la prairie', 'portland', 'portmore', 'porto alegre', 'porto amboim', 'porto feliz', 'porto ferreira', 'porto inglês', 'porto novo', 'porto santana', 'portsmouth', 'portugalete', 'porus', 'porvenir', 'porvoo', 'posadas', 'posof', 'postojna', 'potchefstroom', 'potentia', 'potenza', 'pothia', 'poti', 'potim', 'potirendaba', 'potosí', 'pout', 'powell river', 'poznań', 'poá', 'połaniec', 'połczyn zdrój', 'prabuty', 'pracinha', 'pradópolis', 'pragjyotishpura', 'praia', 'praia grande', 'praisos', 'praszka', 'prato', 'pratteln', 'pratânia', 'pravets', 'presidente alves', 'presidente bernardes', 'presidente epitácio', 'presidente prudente', 'presidente venceslau', 'preslav', 'preston', 'preveza', 'prešov', 'priekulė', 'prienai', 'prievidza', 'prijedor', 'prijepolje', 'prilep', 'primorsko', 'prince albert', 'prince george', 'priozersk', 'pristina', 'prithbinarayan', 'priverno', 'prizren', 'probištip', 'prochowice', 'promissão', 'prostějov', 'proszowice', 'protaras', 'proti', 'prrenjas', 'pruchnik', 'prudnik', 'prusice', 'przecław', 'przedbórz', 'przedecz', 'przemków', 'przemyśl', 'przysucha', 'prószków', 'psie pole', 'pszczyna', 'ptuj', 'pucallpa', 'pudasjärvi', 'puebla city', 'pueblo nuevo', 'puente san pablo', 'puerto armuelles', 'puerto ayacucho', 'puerto ayora', 'puerto baquerizo moreno', 'puerto barrios', 'puerto cabello', 'puerto cabezas', 'puerto castilla, honduras', 'puerto cortés', 'puerto deseado', 'puerto francisco de orellana', 'puerto iguazú', 'puerto la cruz', 'puerto lempira', 'puerto madryn', 'puerto maldonado', 'puerto nuevo, baja california', 'puerto ordaz', 'puerto padre', 'puerto pailas', 'puerto peñasco', 'puerto píritu', 'puerto quito', 'puerto rico', 'puerto san josé', 'puerto suárez', 'pujehun', 'pul e khomri', 'punakha', 'punata', 'pune', 'pune camp', 'puno', 'punta gorda', 'punta prieta', 'puntarenas', 'punto fijo', 'puquio', 'purchena', 'puri', 'purmerend', 'purnia', 'pushkar', 'putina', 'puyo, pastaza', 'pułtusk', 'pyapon', 'pyatigorsk', 'pyhäjärvi', 'pyli (kos)', 'pyongyang', 'pyrgos', 'pyrzyce', 'pyzdry', 'pétion ville', 'pınarbaşı', 'płock', 'płoty', 'přerov', 'qaanaaq', 'qabala', 'qabatiya', \"qacha's nek\", 'qaha', 'qakh', 'qalansiyah', 'qalat', 'qalqilya', 'qalyub', 'qalʻah ye zāl', 'qamishli', 'qanatir el qahiriya', 'qandala', 'qarah', 'qarshi', 'qart hadasht', 'qasigiannguit', 'qastiliya', 'qatif', 'qatra', 'qayyarah', 'qena', 'qeqertarsuaq', 'qift', 'qilixia', 'qobustan', 'qorasuv', 'qormi', 'quadra', 'quartier militaire', 'quatá', 'quba', 'qubadlı', 'qudsaya', 'queanbeyan', 'queenstown', 'queiroz', 'quelimane', 'quetta', 'quetzaltenango', 'quevedo', 'quezalapa', 'quillabamba', 'quillacollo', 'quillón', 'quilmes', 'quincy', 'quinhámel', 'quintana', 'quitilipi', 'quito', 'quivicán', 'quneitra', 'qurayyat', 'qurayyat, oman', 'qus', 'qusar', 'quthing', 'qutur, egypt', 'quíbor', \"ra'anana\", \"ra's lanuf\", 'raahe', 'raba', 'rabat', 'rabaul', 'rabka zdrój', \"rada'a\", 'radeče', 'radków', 'radom', 'radomir', 'radomyśl wielki', 'radoszyce, świętokrzyskie voivodeship', 'radoviš', 'radviliškis', 'radzymin', 'radzyń chełmiński', 'radłów', 'rafael calzada', 'rafael castillo', 'rafael freyre', 'rafah', 'rafard', 'rahat', 'rahim yar khan', 'rahmaniya', 'raipur', 'raisio', 'rajgir', 'rajgród', 'rajmahal', 'rajshahi', 'rakoniewice', 'rakovski', 'rama', 'ramachandrapuram, medak', 'ramadi', 'ramallah', 'ramallo', 'ramat gan', 'ramat hasharon', 'ramla', 'ramos mejía', 'ramotswa', 'ramygala', 'rancharia', 'randers', 'rangpur', 'ranya', 'raqqa', 'ras ajdir', 'ras al ayn', 'ras al khaimah', 'ras el bar', 'ras el ma', 'ras gharib', 'ras tanura', 'rason', 'raszków', 'ratlam', 'ratnanagar', 'rauma', 'ravenna', 'ravne na koroškem', 'rawalpindi', 'rawicz', 'rawson', 'raydah', 'razgrad', 'razlog', 'recife', 'reconquista', 'recz', 'redcliff', 'redcliffe city', 'redenção da serra', 'regente feijó', 'reggio calabria', 'reggio nell’emilia', 'regina', 'reginópolis', 'registro', 'rehoboth', 'rehovot', 'reimerswaal', 'remedios de escalada calle manuel castro', 'remich', 'reps', 'requena', 'resende', 'resistencia', 'resko', 'restinga, são paulo', 'reszel', 'retalhuleu', 'rethymno', 'revere', 'rewa', 'rey bouba', 'reyes, bolivia', 'reykjahlíð', 'reyðarfjörður', 'rezina', 'rhithymna', 'rhytion', 'ribeira', 'ribeirão bonito', 'ribeirão branco', 'ribeirão corrente', 'ribeirão do sul', 'ribeirão dos índios', 'ribeirão grande', 'ribeirão pires', 'ribeirão preto', 'richard toll', 'richmond', 'richmond hill', 'ridder', 'ridderkerk', 'rietavas', 'rifaina', 'riffa', 'riihimäki', 'rijeka', 'rijswijk', 'rikhawdar', 'rila', 'rim', 'rimini', 'rincão', 'ringsted', 'rinópolis', 'rio branco', 'rio claro', 'rio de janeiro', 'rio grande da serra', 'rio rico', 'riobamba', 'rioja', 'ripan, huánuco,los angeles', 'ripollet', 'ripon', 'rishikesh', 'rishon lezion', 'rishton, uzbekistan', 'rithi, katni', 'riva del garda', 'rivadavia', 'river cess', 'riverview, new brunswick', 'rize', 'rjukan', 'rocha', 'rochester', 'rockhampton', 'rodas', 'rodríguez', 'roermond', 'rogoźno', 'rohanpur', 'rohtak', 'rokiškis', 'roman', 'rome', 'rommani', 'ronda', 'roorkee', 'roosendaal', 'ropczyce', 'rosa zárate', 'rosana', 'rosario', 'rosario de la frontera', 'rosario de lerma', 'rosarito beach', 'rose hall', 'roseau', 'roseira', 'rosetta', 'rosh haayin', 'rosignol', 'rosières devant bar', 'roskilde', 'roskovec', 'rosmalen', 'ross béthio', 'rostock', 'rotorua', 'rotterdam', 'roubaix', 'rourkela', 'rovaniemi', 'rovinj', 'rožaje', 'rrëshen', 'ruacana', 'rubik', 'rubinéia', 'rubio', 'rubiácea', 'rubí', 'ruciane nida', 'ruda śląska', 'rudnik nad sanem', 'rueil malmaison', 'rufisque', 'rugby', 'ruhango', 'ruhengeri', 'rumelange', 'rumphi', 'rurrenabaque', 'rusayl', 'ruse', 'russeifa', 'rustaq', 'rustavi', 'rutana', 'ruwa', 'ruyigi', 'ruše', 'rwamagana', 'rybnik', 'rychwał', 'rydzyna', 'ryglice', 'ryki', 'rymanów', 'ryn', 'rzepin', 'rzeszów', 'rzgów', 'río branco', 'río cauto', 'río chico', 'río gallegos', 'río grande', 'río segundo', 'río tercero', 'río turbio', 'rîbnița', 'rîșcani', 'różan', 'rønne', 'rəzi', \"sa'dah\", 'saal', 'saarijärvi', 'saatlı', 'saavedra', 'sabadell', 'sabaneta', 'sabino', 'sabirabad', 'sabou', 'sabratha', 'sabya', 'sacaba', 'sacatepéquez', 'sachkhere', 'sadda, fata', 'sadovo', 'saedinenie, plovdiv province', 'safaga', 'safdarabad', 'safed', 'safi', 'safita', 'safwa city', 'sagaing', 'sagarejo', 'sagres, são paulo', 'sagua de tánamo', 'sagua la grande', 'sagunto', 'saguntum', 'sagure', 'sahajanpur', 'saharanpur', 'saharsa', 'sahiwal', 'sahline', 'saidpur, rangpur division', 'sainshand', \"saint ann's bay, jamaica\", 'saint john', 'saint louis', 'saint marc', 'saint peter port', 'saint pierre', 'sainte croix', 'sainyabuli', 'saipina', 'sakakah', 'sakania', 'sakhnin', 'sakib', 'saktigarh, siliguri', 'sakçagözü', 'sal rei', 'salalah', 'salamanca', 'salamina', 'salamiyah', 'salamá', 'salantai', 'salavan', 'salavat', 'salcajá', 'sale', 'salem', 'salemata', 'salerno', 'sales', 'sales oliveira', 'salesópolis', 'salford', 'salinas', 'salisbury', 'salmourão', 'salo', 'salona', 'salt', 'salta', 'saltillo', 'saltinho', 'salto', 'salto de pirapora', 'salto del guairá', 'salto grande', 'salvador mazza', 'salvatierra', 'saly', 'salyan', 'salé', 'samaipata', 'samalut', 'samangan', 'samannud', 'samarkand', 'samarobriva', 'samarra', 'samawah', 'sambaza', 'sambhal', 'samborondón', 'same', 'sami, paletwa', 'samosata', 'samsun', 'samtredia', 'san antonio de los altos', 'san antonio de los baños', 'san antonio de los cobres', 'san antonio de padua', 'san antonio de palé', 'san antonio de ureca', 'san antonio del sur', 'san antonio del táchira', 'san antonio oeste', 'san bautista', 'san benito, cochabamba', 'san bernardo', 'san borja', 'san buenaventura, la paz', 'san carlos', 'san carlos de río negro', 'san carlos, río san juan', 'san cristóbal', 'san cristóbal de la laguna', 'san cristóbal verapaz', 'san diego', 'san fernando', 'san fernando de apure', 'san fernando del valle de catamarca', 'san francisco', 'san francisco coacalco', 'san francisco de macorís', 'san francisco solano', 'san gregorio de polanco', 'san ignacio', 'san ignacio de moxos', 'san ignacio de velasco', 'san isidro', 'san isidro, santa cruz', 'san jacinto', 'san jacinto, uruguay', 'san javie', 'san joaquín', 'san jorge (santa fe)', 'san jose', 'san jose chinantequilla', 'san josé', 'san josé de barlovento', 'san josé de chiquitos', 'san josé de fray mamerto esquiú', 'san josé de guanipa', 'san josé de mayo', 'san josé de metán', 'san josé del cabo', 'san josé pibtuch', 'san josé, andrés ibáñez', 'san josé, buenos aires', 'san juan', 'san juan de payara', 'san juan de yapacaní', 'san juan district, tibás', 'san juan ostuncalco', 'san julián, santa cruz', 'san justo', 'san lorenzo', 'san luis', 'san luis potosí', 'san luis río colorado', 'san marino', 'san martín', 'san martín de hidalgo', 'san martín de los andes', 'san mateo', 'san matías, santa cruz', 'san miguel', 'san miguel de tucumán', 'san miguel de velasco', 'san miguel, bolívar', 'san miguel, la mar province', 'san nicolás de los arroyos', 'san nicolás de los garza', 'san pablo', 'san pablo del monte', 'san pedro', 'san pedro de jujuy', 'san pedro de lloc', 'san pedro de ycuamandiyú', 'san pedro garza garcía', 'san pedro sula', 'san pedro town', 'san quintín', 'san rafael', 'san rafael de velasco', 'san ramón', 'san ramón de la nueva orán', 'san salvador', 'san salvador de jujuy', 'san sebastián', 'san telmo, baja california', 'san vicente', 'san vicente de cañete', 'san vito dei normanni', \"sana'a\", 'sanare', 'sancti spíritus', 'sandakan', 'sandanski', 'sandefjord', 'sandgerði', 'sandia', 'sandnes', 'sandnessjøen', 'sandovalina', 'sandvika', 'sangli', 'sangmélima', 'sangolquí', 'sankt vith', 'sann', 'sanniki, masovian voivodeship', 'sanremo', 'santa adélia', 'santa albertina', 'santa ana', 'santa ana del yacuma', 'santa branca', 'santa bárbara', \"santa bárbara d'oeste\", 'santa bárbara del zulia', 'santa catarina', 'santa clara', \"santa clara d'oeste\", 'santa clara de olimar', 'santa clara del mar', 'santa cruz da conceição', 'santa cruz da esperança', 'santa cruz das palmeiras', 'santa cruz de la sierra', 'santa cruz de los taques', 'santa cruz de tenerife', 'santa cruz del quiché', 'santa cruz del sur', 'santa cruz do rio pardo', 'santa cruz do sul', 'santa cruz do xingu', 'santa cruz, jamaica', 'santa elena', 'santa elena de arenales', 'santa elena de uairén', 'santa ernestina', 'santa fe de yapacaní', 'santa fé do sul', 'santa gertrudes', 'santa isabel', 'santa lucía', 'santa lúcia', 'santa maria da serra', 'santa maría de ipire', 'santa maría de nieva', 'santa maría del oro', 'santa mercedes', 'santa rita', \"santa rita d'oeste\", 'santa rita do passa quatro', 'santa rita, venezuela', 'santa rosa', 'santa rosa de copán', 'santa rosa de viterbo', 'santa rosa del sara', 'santa salete', 'santa teresa del tuy', 'santana da ponte pensa', 'santana de parnaíba', 'santander', 'santiago de chuco', 'santiago de compostela', 'santiago de cuba', 'santiago de huari', 'santiago de los caballeros', 'santiago de los caballeros de guatemala', 'santiago de puriscal', 'santiago de veraguas', 'santiago del estero', 'santo anastácio', 'santo andré', 'santo antônio da alegria', 'santo antônio de jesus', 'santo antônio de posse', 'santo antônio do aracanguá', 'santo antônio do jardim', 'santo antônio do pinhal', 'santo domingo', 'santo expedito', 'santo tomás', 'santo tomás de castilla', 'santo tomé', 'santos', 'santos dumont, minas gerais', 'santópolis do aguapeí', 'sapareva banya', 'saparmyrat türkmenbaşy', 'sapinuwa', 'saponé', 'saposoa', 'saqunda', 'sar e pol', 'sarai', 'sarajevo', 'saran', 'sarandí', 'sarandí del yí', 'sarandí grande', 'sarapuí', 'saray jük', 'saray, tekirdağ', 'sargodha', 'sarh', 'sarnath', 'sarnia', 'saroke', 'sarpsborg', 'sarutaiá', 'sarıkaya', 'sasaram', 'saskatoon', 'sassari', 'sastamala', 'saswad', 'satara', 'satipo', 'satna', 'satpayev', 'sauce, uruguay', 'sault ste. marie', 'sauteurs', 'sauðárkrókur', 'savanna la mar', 'savannakhet', 'savar', 'savona', 'savonlinna', 'savuca', 'savé', 'sawara', 'sawla', 'sayram', 'sayyidah zaynab', 'scampis', 'schaerbeek', 'schiedam', 'schuckmannsburg', 'schwerin', 'sderot', 'sebastianópolis do sul', 'sebeta', 'sechura', 'secunderabad', 'seda', 'seeb', 'sefrou', 'segesta', 'segodunum', 'segontia', 'seinäjoki', 'seiyun', 'sekong', 'sela dingay', 'selangau, sarawak', 'selat panjang', 'selebi phikwe', 'seleucia pieria', 'selfoss', 'selinunte', 'selkirk', 'selouane', 'seltjarnarnes', 'semarapura', 'semari', 'sembé', 'semey', 'senafe', 'senaki', 'senovo', 'septemvri', 'seremban', 'sergiopolis', 'serhetabat', 'serikin', 'serock', 'serowe', 'serra azul', 'serra negra', 'serrana, são paulo', 'serres', 'sertãozinho', 'sete barras', 'setganga', 'setovia', 'settat', 'severínia', 'sevilla', 'seville', 'sevlievo', 'sevojno', 'seýdi', 'sežana', 'shabqadar', 'shabwa', 'shah faisal town', 'shaharah', 'shahbazpur town', 'shahidnagar danda', 'shahrisabz', 'shakargarh', 'shakawe', 'shakhtinsk', 'shalkar', 'shamia', 'shanghai', 'shankarapur', 'shankerpura', 'shanqhae', 'shaqlawa', 'sharana', 'shargʻun', 'sharjah', 'sharm el sheikh', 'sharuna', 'sheberghan', 'sheffield', 'sheikh othman', 'sheikhupura', 'shenzhen', 'shepparton', 'sherpur', 'shfaram', 'shibam', 'shibin al kawm, al minufiyah', 'shibin el qanater', 'shijak', 'shikar pur, bhakkar', 'shillong', 'shimao ruins', 'shimla', 'shinahota', 'shindand', 'shinjuku', 'shinyanga', 'shipka', 'shkodër', 'shopokov', 'shorkot', 'shoshong', 'shubra el kheima', 'shuhada', 'shumen', 'shurpali shri lakshmi narasimha temple', 'shwenyaung', 'shymkent', 'shëngjin', 'sialkot', 'sianów', 'sibanicú, cuba', 'sibay', 'sibiti', 'sibut', 'sicuani', 'sidam', 'sidas', 'siddharthanagar', 'siddhirganj', 'sidi abdelaziz', 'sidi bel abbès', 'sidi bennour', 'sidi ifni', 'sidi kacem', 'sidi meskin', 'sidi slimane', 'sidlaphadi', 'sidon', 'sidra', 'sidyma', 'siechnice', 'siedlce', 'siem reap', 'siemianowice śląskie', 'siena', 'sieniawa', 'sieraków', 'sierra de cubitas', 'sighnaghi', 'sighnaq', 'siglufjörður', 'siguatepeque', 'siguiri', 'sihanoukville', 'sihuas', 'siirt', 'sikar', 'sikasso', 'silao', 'silistra', 'silkeborg', 'silveiras', 'simeonovgrad', 'simnas', 'simunye', 'simón bolívar', 'sinfra', 'singapore', 'singida', 'sinnuris', 'sinop', 'sinuessa', 'sipe sipe', 'siphae', 'sirhind fategarh', 'sirohi', 'sironko', 'sirwah', 'sisimiut', 'sisophon', 'sitapur', 'siteki', 'sittard', 'sittwe', 'siwa town', 'siwan', 'siyəzən', 'sjenica', 'skagaströnd', 'skalbmierz', 'skanderborg', 'skanes', 'skarszewy', 'skaryszew', 'skaudvilė', 'skawina', 'skała', 'skhirat', 'skien', 'skierniewice', 'skikda', 'skive', 'skoczów', 'skoki', 'skopje', 'skuodas', 'skupi', 'skwierzyna', 'skógar', 'skýros', 'skępe', 'slagelse', 'slatina', 'slemani', 'sliven', 'slovenj gradec', 'slovenska bistrica', 'slovenske konjice', 'smalininkai', 'smara', 'smolyan', 'smørumnedre', 'sneek', 'sobral', 'sobótka', 'socopó', 'socorro', 'socuéllamos', 'soe', 'sofia', 'sohag', 'sohar', 'sohawa', 'sohawal', 'sokodé', 'sokone', 'sokoto', 'sokołów małopolski', 'sokółka', 'solan', 'solapur', 'solec kujawski', 'soledad', 'soledade', 'soluntum', 'solwezi', 'somero', 'somoto', 'sompolno', 'songea', 'sopot', 'soqota', 'sorata', 'soria', 'soroca', 'sorocaba', 'soroti', 'sosnowiec', 'sotouboua', 'soubré', 'souillac, mauritius', 'soulédé roua', 'souq al shuyukh', 'south tarawa', 'southampton', 'southport', 'soweto', 'sozopol', 'sośnicowice', 'spanish town', 'spata', 'springs', 'spruce creek', 'sredets', 'sri aman', 'sri ganganagar', 'srinagar', 'sriniwaspuri', 'st albans', 'st asaph', 'st davids', 'st. catharines', \"st. george's\", 'st. pölten', 'stamboliyski', 'stara zagora', 'stary sącz', 'stassano', 'staszów', 'stavanger', 'stawiski', 'stawiszyn', 'steinbach', 'stepanakert', 'stirling', 'stockholm', 'stoke on trent', 'stokkseyri', 'stone town', 'stony hill, jamaica', 'straelen', 'strazhitsa', 'strelcha', 'stronie śląskie', 'struga', 'strumica', 'strumień', 'stryków', 'strzegom', 'strzelce krajeńskie', 'strzelce opolskie', 'strzelin', 'strzelno', 'strzyżów', 'strășeni', 'stung treng', 'stykkishólmur', 'styllangium', 'stąporków', 'stęszew', 'suakin', 'suani ben adem', 'subačius', 'sublaqueum', 'subotica', 'suchań', 'suchedniów', 'suchitoto municipality', 'suchowola', 'sud mennucci, são paulo', 'sudhowala', 'suhindol', 'sukhumi', 'sukkur', 'sulechów', 'sulejów', 'sullana', 'sultan', 'sultan bathery', 'sultanhanı', 'sultanköy', 'sulukta', 'sulęcin', 'sumaré', 'sumbawanga', 'sumbe', 'summerside', 'sunamganj', 'sundar basti', 'sunderland', 'sungurlare', 'sunpu', 'suonenjoki', 'suong', 'supe', 'supetar', 'supraśl', 'sur', 'sura', 'surat', 'suraż', 'surif', 'surrey', 'susz', 'suva', 'suva reka', 'suwaylih', 'suwałki', 'suzanápolis', 'sułkowice', 'svay rieng', 'svendborg', 'sveti nikole', 'sveti vlas', 'svilengrad', 'svishtov', 'swakopmund', 'swan hill', 'swansea', 'swarzędz', 'swift current', 'swords', 'syangela', 'syców', 'sydney', 'sylhet', 'syracuse', 'szadek', 'szamocin', 'szamotuły', 'szczawnica', 'szczebrzeszyn', 'szczecin', 'szczekociny', 'szczucin', 'szczuczyn', 'szczytna', 'szeged', 'szepietowo', 'szlichtyngowa', 'szprotawa', 'sztum', 'szubin', 'szydłowiec', 'szydłów', 'székesfehérvár', 'são bento do sapucaí', 'são bernardo do campo', 'são caetano do sul', 'são carlos', 'são domingos', 'são filipe', 'são francisco, são paulo', 'são joaquim da barra', 'são josé da bela vista', 'são josé do barreiro', 'são josé do rio pardo', 'são josé do rio preto', 'são josé dos campos', 'são joão da boa vista', 'são joão das duas pontes', 'são joão de iracema', \"são joão do pau d'alho\", 'são lourenço da serra', 'são luiz do paraitinga', 'são luís', 'são manuel', 'são miguel arcanjo', 'são paulo', 'são pedro do turvo', 'são pedro, são paulo', 'são roque, são paulo', 'são sebastião da grama', 'são sebastião, são paulo', 'são tomé', 'são vicente', 'sébikotane', 'sédhiou', 'ségou', 'séguéla', 'sétif', 'sîngerei', 'sønderborg', 'sükhbaatar', 'sędziszów', 'sędziszów małopolski', 'sępopol', 'sępólno krajeńskie', 'sława', 'słomniki', 'słubice', 'słupsk', \"ta'if\", \"ta'izz\", 'taba', 'tabacundo', 'tabapuã', 'tabarjal', 'tabatinga', 'tabligbo', 'tabora', 'taboão da serra', 'tabubil', 'tabuk', 'taciba', 'tacna', 'tacotalpa', 'tacuarembó', 'tadjoura', 'tadmur', 'tafalla', 'tafilah', 'tafí viejo', 'taguaí', 'tahaundam', 'taiaçu', 'taichung', 'tainan', 'taipei', 'taitung city', 'taiúva', 'tajynsha', 'takamatsu', 'takéo', 'tal afar', 'tala', 'talanga', 'talara', 'talas', 'talavera de la reina', 'taldykorgan', 'talesh', 'talgar', 'talkalakh', 'talkha', 'tallinn', 'taloqan', 'talwandi bhindran', 'tamale', 'tamanrasset', 'tambacounda', 'tambaú', 'tamra', 'tamralipta', 'tamworth', 'tan tan', 'tanabi', 'tanah rata', 'tando allahyar', 'tanga', 'tangalle', 'tangier', 'tangin dassouri', 'tanjung batu', 'tank', 'tansen', 'tanta', 'taounate', 'taourirt', 'taoyuan city', 'tapachula', 'tapah', 'tapiratiba', 'tapiraí', 'taposiris magna', 'taqtaq', 'taquaral', 'taquaritinga', 'taquarituba', 'taquarivaí', 'tarabai', 'tarabo', 'tarabuco', 'taraclia', 'tarakeshwor', 'taranto', 'tarapoto', 'tarata', 'tarczyn', 'taree', 'targovishte', 'tarhuna', 'tari', 'tarija', 'tarim', 'tarma', 'tarnobrzeg', 'tarnogród', 'taroudant', 'tarqumiyah', 'tarragona', 'tarsus', 'tartagal', 'tartar', 'tartus', 'tarumã', 'tarun bazaar', 'tashkent', 'tashkömür', 'tasiilaq', 'tatların', 'tatuí', 'taubaté', 'taunggyi', 'tauragė', 'tauranga', 'tauresium', 'tawau', 'tawella', 'taxco', 'tayabamba', 'tayibe', 'taza', 'taşucu', 'tbilisi', 'tchibanga', 'te haroto', 'teaoraereke', 'tecpán de galeana', 'tegucigalpa', 'tejo', 'tejupá', 'tekeli', 'tekirdağ', 'tel aviv', 'tel dor', 'tela', 'telavi', 'telefomin', 'telenești', 'tell abyad', 'tellenae', 'teluk air tawar', 'teluk kumbar', 'telšiai', 'temara', 'temesa', 'temperley', 'temsia', 'tena', 'tenosique', 'tenta', 'tentena', 'teodoro sampaio', 'tepezalá', 'tepi', 'tepic', 'teplice', 'tepoztlán', 'terjola', 'termas de río hondo', 'termez', 'terni', 'terra roxa', 'terrace', 'teruel', 'tervel', 'teseney', 'tete', 'tetovo', 'tetri tsqaro', 'teyateyaneng', 'thaba tseka', 'thakhek', 'thamaga', 'thames', 'thana khurd, haryana', 'thane', 'thatta', 'the gateway of gulmarg', 'the hague', 'the valley', 'theangela', 'thebes', 'thermi', 'thessaloniki', 'thiadiaye', 'thila', 'thilogne', 'thimphu', 'thiruvananthapuram', 'thiruvarur', 'thisted', 'thiès', 'thmuis', 'thompson', 'thoothukudi', 'thrissur', 'thunder bay', 'thurii', 'thyatira', 'thyolo', 'tianjing', 'tiaret', 'tibati', 'tiberias', 'tibula', 'ticinum', 'tiefo', 'tienen', 'tieningboué', 'tientsin', 'tietê', 'tifernum metaurense', 'tiflet', 'tifsa', 'tijuana', 'tikapur', 'tiko', 'tikrit', 'tilburg', 'tima', 'timbuktu', 'timburi', 'timergara', 'timmins', 'tinaquillo', 'tinchlik', 'tingo maría', 'tinsukia', 'tiquipaya', 'tiquipaya, santa cruz', 'tira', 'tirana', 'tiraque', 'tiraspolul nou', 'tirat carmel', 'tire', 'tirunelveli', 'tirupur', 'tissemsilt', 'tivaouane', 'tivat', 'tišina', 'tkibuli', 'tkvarcheli', 'tlajomulco de zuñiga', 'tlalixtaquilla', 'tlaltenango de sánchez román', 'tlaquepaque', 'tlaxcala', 'tlaxco', 'tlemcen', 'toamasina', 'toba tek singh', 'tobruk', 'tocache', 'tocantins', 'tocoa', 'tocuyito', 'tokat', 'tokha', 'tokmok', 'tokyo', 'toliara', 'tolkmicko', 'toluca', 'tombos', 'tomoi', 'tongeren', 'tongwan', 'topolovgrad', 'toprakkale', 'torit', 'tornio', 'tornquist', 'toronto', 'tororo', 'torre de pedra', 'torrelavega', 'torreón', 'torrinha', 'tortuguitas', 'toruń', 'torzym', 'toszek', 'totonicapán', 'tottori', 'touba', 'touba, senegal', 'touggourt', 'touissit', 'tourcoing', 'tournai', 'tovar', 'tovuz', 'townsville', 'to‘rtko‘l', 'trabiju', 'trabzon', 'tragilius', 'traianoupoli', 'trakai', 'tralleis', 'tralles', 'tranqueras', 'traralgon', 'trashigang', 'trastenik', 'trebinje', 'trebnje', 'trebujena', 'treinta y tres', 'trelew', 'tremembé', 'trenque lauquen', 'trento', 'trenčín', 'tres arroyos', 'treviso', 'trichy', 'tridentum', 'trier', 'trieste', 'trikala', 'trincomalee', 'trindade', 'trinidad', 'triocala', 'triolet, mauritius', 'triopium', 'tripoli', 'triunfo', 'triyuga', 'trnava', 'tromsø', 'trondheim', 'trongsa', 'troyan', 'troškūnai', 'truckton', 'true blue', 'trujillo', 'truro', 'tryavna', 'trysa', 'trzcianka', 'trzciel', 'trzcińsko zdrój', 'trzebiatów', 'trzebinia', 'trzebnica', 'trzemeszno', 'três corações', 'três fronteiras', 'tsageri', 'tsalenjikha', 'tsalka', 'tsar kaloyan, razgrad province', 'tsarevo', 'tsetserleg', 'tshabong', 'tsiroanomandidy', 'tskhinvali', 'tsnori', 'tsqaltubo', 'tsukuba', 'tsumeb', 'tuaran', 'tubarão', 'tubas', 'tuchola', 'tuchów', 'tucupita', 'tuczno', 'tudela', 'tuiuti', 'tukuyu', 'tulcán', 'tuliszków', 'tulkarm', 'tulsipur', 'tultepec', 'tultitlán de mariano escobedo', 'tumbes', 'tumbura', 'tumkur', 'tumpat', 'tunceli', 'tunuyán', 'tupambaé', 'tupi paulista', 'tupiza', 'tupã', 'turgutalp', 'turin', 'turiúba', 'turki', 'turkistan', 'turmalina', 'turmero', 'turmi', 'turnacum', 'tursunzoda', 'turunçova', 'tuszyn', 'tutin', 'tutrakan', 'tutume', 'tuxpan', 'tuz khormato', 'tuzla', 'tuzla city', 'tułowice, opole voivodeship', 'tvedestrand', 'twardogóra', 'tychowo', 'tychy', 'tyczyn', 'tykocin', 'tyre', 'tyrnavos', 'tyszowce', 'tytuvėnai', 'tálknafjörður', 'táriba', 'tébessa', 'tétouan', 'tôlanaro', 'tômbwa', 'tömük', 'tønsberg', 'türkmenabat', 'tłuszcz', 'ubarana', 'ubatuba', 'uberaba', 'uberlândia', 'ubirajara', 'ubundu', 'ubá', 'uchkuduk', 'uchoa', 'ucureña', 'udhampur', 'udine', 'udong', 'udu, nigeria', 'udupi', 'ugarchin', 'ujazd', 'ujiji', 'ujjain', 'ujście', 'ukbara', 'ukmergė', 'ulaangom', 'ulanów', 'ulcinj', 'ulhasnagar', 'uliastai', 'uljin', 'ulm', 'ulvila', 'umeå', 'umm al fahm', 'umm qasr', 'umuahia', 'umurlu', 'unaizah', 'ungheni', 'uniejów', 'unwana city', 'upalavi', 'upernavik', 'upper bayang', 'upper hutt', 'uppsala', 'ur kaśdim', 'urawa', 'urbano noris', 'urbino', 'urcos', 'ureña', 'urgench', 'urgut', 'uruapan', 'urubamba', 'urzędów', 'urë vajgurore', 'usakos', 'uscana', 'ushuaia', 'usta mohammad', 'ustrzyki dolne', 'usulután', 'utena', 'utrecht', 'uummannaq', 'uusikaupunki', 'uvira', 'uychi', 'uyuni', 'uzgen', 'uşak', 'užventis', 'v.s.k.valasai', 'vaasa', 'vabalninkas', 'vabkent', 'vadamalapuram', 'vadodara', 'vahdat', \"val d'or, penang\", 'valandovo', 'valchedram', 'valchi dol', 'valderrama', 'vale', 'valencia', 'valentín alsina', 'valera', 'valinhos', 'valkeakoski', 'valladolid', 'valle de la pascua', 'valledupar', 'vallegrande', 'valley of the chillos', 'valsad', 'van', 'vandavasi', 'vantaa', 'varadero', 'varanasi', 'varde', 'varese', 'varia', 'varkaus', 'varna', 'varniai', 'varshets', 'varėna', 'vasai virar', 'vaughan', 'veii', 'veisiejai', 'vejle', 'velenje', 'veles', 'veliko tarnovo', 'velimeşe', 'velingrad', 'velká olomouc', 'venado tuerto', 'venice', 'venlo', 'venta', 'ventanas', 'vera', 'vergara', 'vernon', 'veroia', 'verona', 'vertientes', 'verviers', 'vescia', 'vetovo', 'vetren, pazardzhik province', 'viacha', 'viana', 'vianden', 'viborg', 'vicente guerrero', 'vicenza', 'vicina', 'victor harbor', 'victoria', 'victoria falls', 'victoria, buenos aires', 'vidin', 'vidisha', 'viedma', 'viekšniai', 'vienna', 'vientiane', 'vigo', 'viitasaari', 'vila de sena', 'vila real', 'vila velha', 'vilankulo', 'vilcashuamán (provincial capital)', 'vilkaviškis', 'vilkija', 'villa adelina', 'villa ballester', 'villa carlos paz', 'villa celina', 'villa centenario', 'villa constitución', 'villa de mayo', 'villa dolores', 'villa domínico', 'villa fiorito', 'villa gobernador gálvez', 'villa jesús maría', 'villa krause', 'villa luzuriaga', 'villa mariano matamoros', 'villa maría', 'villa mercedes', 'villa salvación', 'villa serrano', 'villa simón bolívar', 'villa soriano', 'villa tesei', 'villa tunari', 'villa udaondo', 'villa vaca guzmán', 'villa ángela', 'villach', 'villaguay', 'villahermosa', 'villamontes', 'villanueva', 'villanueva de la serena', 'villarrobledo', 'villena', 'vilnius', 'vin', 'vinces', 'vinhedo', 'vinto', 'vipava', 'viqueque', 'virbalis', 'virrat', 'virreyes, buenos aires', 'virú', 'visakhapatnam', 'visconde do rio branco', 'vishnu baug colony', 'visoko', 'vitoria gasteiz', 'vitry sur seine', 'vizianagaram', 'višegrad', 'vlaardingen', 'vlasenica', 'vlissingen', 'vlorë', 'voerde (niederrhein)', 'vogar', 'vohemar', 'volos', 'voorburg', 'vopnafjörður', 'vordingborg', 'votuporanga', 'vratsa', 'vreed en hoop', 'vrhnika', 'vrindavan', 'vukovar', 'vulcănești', 'vučitrn', 'vyadhapura', 'várzea paulista', 'vélingara', 'wacca', 'wad madani', 'wadi al seer', 'wadi halfa', 'wadowice', 'wageningen', 'wagga wagga', 'waitakere city', 'waiwerang', 'wajir', 'wakayama', 'wakefield', 'waku kungo', 'walla walla', 'walvis bay', 'wanda', 'wangaratta', 'wanyjok, south sudan', 'warangal tri city', 'wardha', 'waremme', 'warka', 'warman', 'warnes', 'warrap, south sudan', 'warri', 'warrnambool', 'warsaw', 'warta', 'wasilków', 'watapur', 'wategaon', 'waterford', 'waterloo', 'wavre', 'wazirabad', 'wałbrzych', 'weh antioch khosrow', 'weiji', 'weitra', 'weldiya', 'welenchiti', 'wellington city', 'wells', 'wels', 'were ilu', 'wereta', 'west kelowna', 'weston under lizard', 'westport', 'wete', 'whanganui', 'whangarei', 'whitby', 'whitehorse', 'whyalla', 'widikum boffe', 'wiehl', 'wielbark, warmian masurian voivodeship', 'wieleń', 'wielichowo', 'wieliczka', 'wieluń', 'wiener neustadt', 'wieruszów', 'wijitapura', 'wilamowice', 'wilde', 'willemstad', 'william c. morris', 'wiltz', 'winchester', 'windhoek', 'windsor', 'winkler', 'winneba', 'winnipeg', 'wismar', 'witkowo', 'witnica', 'wittingen', 'wiązów', 'więcbork', 'wiślica', 'wleń', 'wodonga', 'wojnicz', 'wolbrom', 'wolbórz', 'wolin', 'wolsztyn', 'wolverhampton', 'worcester', 'wołczyn', 'wołomin', 'wołów', 'woźniki', 'wronki', 'września', 'wschowa', 'wuchale', 'wuchang city', 'wum', 'wyrzysk', 'wysoka', 'wyszków', 'wyszogród', 'wyśmierzyce', 'würzburg', 'wąchock', 'wąsosz', 'węgliniec', 'węgorzewo', 'węgorzyno', 'włoszczowa', 'xacitarxan', 'xai xai', 'xalapa', 'xangongo', 'xanthi', 'xiaoshangqiao', 'xochihuehuetlán', 'xonobod', 'xırdalan', 'xızı', \"ya'bad\", 'yabassi', 'yabrud', 'yachay', 'yafa', 'yafran', 'yagoua', 'yaguachi', 'yaguarón', 'yaguarú', 'yakınca', 'yalamlam', 'yalavagi', 'yallahs', 'yamagata', 'yambol', 'yamuna nagar', 'yana', 'yanahuanca', 'yanaoca', 'yangambi', 'yangcheng', 'yangiyer', 'yangon', 'yanjing', 'yaoundé', 'yapacaní', 'yaqubi', 'yara', 'yardımlı', 'yarim', 'yaritagua', 'yatağan', 'yateras', 'yathrib', 'yatta', 'yauri', 'yauyos', 'yavatmal', 'yavne', 'yaypan', 'yazmin', 'ye', 'yehud', 'yele', 'yenangyaung', 'yeni', 'yenice', 'yeniceköy', 'yeniceoba', 'yeniçiftlik', 'yerba buena, tucumán', 'yevlakh', 'yeşilköy', 'yinxu', 'ylivieska', 'ylöjärvi', 'yokadouma', 'yokneam illit', 'yoko', 'yola', 'york', 'yoro', 'youssoufia', 'yozgat', 'yucumo', 'yugo, baltistan', 'yukarıdinek', 'yungay', 'yunguyo', 'yurimaguas', 'yurtbaşı', 'yuscarán', 'yōkaichi', 'zabrze', 'zabłudów', 'zacatelco', 'zacatlán', 'zafarwal', 'zagazig', 'zagorje ob savi', 'zagórz', 'zagórów', 'zahlé', 'zaio', 'zakho', 'zakliczyn', 'zaklików', 'zakroczym', 'zalewo', 'zamora', 'zamość', 'zamyn üüd', 'zana', 'zanzibar city', 'zaouiet sousse', 'zapala', 'zapopan', 'zaprešić', 'zaqatala', 'zarafshan', 'zaragoza', 'zaranj', 'zarasai', 'zaraza', 'zarcero', 'zardab', 'zaria', 'zarumilla', 'zator', 'zavala', 'zavet', 'zawadzkie', 'zawichost', 'zbąszynek', 'zbąszyń', 'zduny', 'zdzieszowice', 'zefta', 'zeghanghane', 'zelów', 'zenica', 'zenopolis in isauria', 'zharkent', 'zhetikara', 'zhetisay', 'zhongdu', 'zhovkva', 'ziarat, north khorasan', 'zielona góra', 'zigon', 'ziguinchor', 'zinder', 'zinjibar', 'ziębice', 'zlataritsa', 'zlatitsa', 'zliten', 'zlín', 'zoan', 'zoetermeer', 'zomba', 'zorritos', 'zouar', 'zoutpansberg', 'zouérat', 'zudáñez', 'zug', 'zugdidi', 'zula', 'zumbo', 'zutphen', 'zuunmod', 'zuwara', 'zuwetina', 'zvartnots', 'zwenkau', 'zwierzyniec', 'zwoleń', 'zwolle', 'zárate', 'zülpich', 'züsow', 'züünkharaa', 'ząbkowice śląskie', 'złocieniec', 'złoczew', 'złoty stok', 'zəngilan', 'águas da prata', 'águas de lindóia', 'águas de santa bárbara', 'águas de são pedro', 'álftanes', 'álvares florence', 'álvares machado', 'álvaro de carvalho', 'ávila', 'ähtäri', 'äänekoski', 'ålesund', 'åndalsnes', 'çaldıran', 'çanakkale', 'çankırı', 'çatalağzı', 'çaylı', 'çayırhan', 'çiçekdağı', 'çobanlar', 'çorlu', 'çorovodë', 'çorum', 'çınar', 'écija', 'ísafjörður', 'île sainte marie', 'ólafsvík', 'óleo', 'ölgii', 'ølstykke stenløse', 'úbeda', 'ústí nad labem', 'übach palenberg', 'þorlákshöfn', 'āmer', 'ćmielów', 'čakovec', 'čapljina', 'český těšín', 'črnomelj', 'łabiszyn', 'łagów, świętokrzyskie voivodeship', 'łapy', 'łasin', 'łask', 'łaszczów', 'łazy', 'łobez', 'łobżenica', 'łochów', 'łomianki', 'łomża', 'łosice', 'łódź', 'łęczna', 'ōsaka', 'ōtsu', 'řevnice', 'ścinawa', 'ślesin', 'śmigiel', 'śrem', 'środa wielkopolska', 'środa śląska', 'świebodzin', 'świecie', 'świerzawa', 'świnoujście', 'świątniki górne', 'świętochłowice', 'şahbuz', 'şanlıurfa', 'şavşat district', 'şırnak', 'şəmkir', 'šakiai', 'šalčininkai', 'šamac', 'šeduva', 'šempeter pri gorici', 'šiauliai', 'šilalė', 'šilutė', 'širvintos', 'štip', 'švenčionys', 'švenčionėliai', 'żabno', 'żarki', 'żarów', 'żelechów', 'żerków', 'żmigród', 'żnin', 'żory', 'żukowo', 'żuromin', 'żychlin', 'żywiec', 'žagarė', 'žiežmariai', 'žilina', 'ștefan vodă', 'ʿamrān', 'الجلفة', 'مأرب', 'ḍera ismaīl k͟hān']\n"
          ],
          "name": "stdout"
        }
      ]
    },
    {
      "cell_type": "code",
      "metadata": {
        "id": "9da8ctW7mO6a",
        "colab_type": "code",
        "colab": {
          "base_uri": "https://localhost:8080/",
          "height": 217
        },
        "outputId": "bbac0df1-b8c9-4a6b-cbef-0bc1fb6edcb1"
      },
      "source": [
        "df2.head()"
      ],
      "execution_count": 12,
      "outputs": [
        {
          "output_type": "execute_result",
          "data": {
            "text/html": [
              "<div>\n",
              "<style scoped>\n",
              "    .dataframe tbody tr th:only-of-type {\n",
              "        vertical-align: middle;\n",
              "    }\n",
              "\n",
              "    .dataframe tbody tr th {\n",
              "        vertical-align: top;\n",
              "    }\n",
              "\n",
              "    .dataframe thead th {\n",
              "        text-align: right;\n",
              "    }\n",
              "</style>\n",
              "<table border=\"1\" class=\"dataframe\">\n",
              "  <thead>\n",
              "    <tr style=\"text-align: right;\">\n",
              "      <th></th>\n",
              "      <th>instance_of</th>\n",
              "      <th>instance_ofLabel</th>\n",
              "      <th>country</th>\n",
              "      <th>countryLabel</th>\n",
              "      <th>located_in_the_administrative_territorial_entity</th>\n",
              "      <th>located_in_the_administrative_territorial_entityLabel</th>\n",
              "    </tr>\n",
              "  </thead>\n",
              "  <tbody>\n",
              "    <tr>\n",
              "      <th>0</th>\n",
              "      <td>http://www.wikidata.org/entity/Q1903</td>\n",
              "      <td>Catania</td>\n",
              "      <td>http://www.wikidata.org/entity/Q38</td>\n",
              "      <td>Italy</td>\n",
              "      <td>http://www.wikidata.org/entity/Q20991246</td>\n",
              "      <td>Metropolitan City of Catania</td>\n",
              "    </tr>\n",
              "    <tr>\n",
              "      <th>1</th>\n",
              "      <td>http://www.wikidata.org/entity/Q1906</td>\n",
              "      <td>Caserta</td>\n",
              "      <td>http://www.wikidata.org/entity/Q38</td>\n",
              "      <td>Italy</td>\n",
              "      <td>http://www.wikidata.org/entity/Q16153</td>\n",
              "      <td>Province of Caserta</td>\n",
              "    </tr>\n",
              "    <tr>\n",
              "      <th>2</th>\n",
              "      <td>http://www.wikidata.org/entity/Q1947</td>\n",
              "      <td>Juba</td>\n",
              "      <td>http://www.wikidata.org/entity/Q958</td>\n",
              "      <td>South Sudan</td>\n",
              "      <td>http://www.wikidata.org/entity/Q487709</td>\n",
              "      <td>Central Equatoria</td>\n",
              "    </tr>\n",
              "    <tr>\n",
              "      <th>3</th>\n",
              "      <td>http://www.wikidata.org/entity/Q1960</td>\n",
              "      <td>Dar es Salaam</td>\n",
              "      <td>http://www.wikidata.org/entity/Q924</td>\n",
              "      <td>Tanzania</td>\n",
              "      <td>http://www.wikidata.org/entity/Q557539</td>\n",
              "      <td>Dar es Salaam Region</td>\n",
              "    </tr>\n",
              "    <tr>\n",
              "      <th>4</th>\n",
              "      <td>http://www.wikidata.org/entity/Q1963</td>\n",
              "      <td>Khartoum</td>\n",
              "      <td>http://www.wikidata.org/entity/Q1049</td>\n",
              "      <td>Sudan</td>\n",
              "      <td>http://www.wikidata.org/entity/Q310385</td>\n",
              "      <td>Khartoum</td>\n",
              "    </tr>\n",
              "  </tbody>\n",
              "</table>\n",
              "</div>"
            ],
            "text/plain": [
              "                            instance_of  ... located_in_the_administrative_territorial_entityLabel\n",
              "0  http://www.wikidata.org/entity/Q1903  ...                       Metropolitan City of Catania   \n",
              "1  http://www.wikidata.org/entity/Q1906  ...                                Province of Caserta   \n",
              "2  http://www.wikidata.org/entity/Q1947  ...                                  Central Equatoria   \n",
              "3  http://www.wikidata.org/entity/Q1960  ...                               Dar es Salaam Region   \n",
              "4  http://www.wikidata.org/entity/Q1963  ...                                           Khartoum   \n",
              "\n",
              "[5 rows x 6 columns]"
            ]
          },
          "metadata": {
            "tags": []
          },
          "execution_count": 12
        }
      ]
    },
    {
      "cell_type": "code",
      "metadata": {
        "id": "7h8K8WOVllY8",
        "colab_type": "code",
        "colab": {
          "base_uri": "https://localhost:8080/",
          "height": 217
        },
        "outputId": "5adbe5a1-8f5d-44d3-ea00-28dddb197cd7"
      },
      "source": [
        "df2.head()"
      ],
      "execution_count": 13,
      "outputs": [
        {
          "output_type": "execute_result",
          "data": {
            "text/html": [
              "<div>\n",
              "<style scoped>\n",
              "    .dataframe tbody tr th:only-of-type {\n",
              "        vertical-align: middle;\n",
              "    }\n",
              "\n",
              "    .dataframe tbody tr th {\n",
              "        vertical-align: top;\n",
              "    }\n",
              "\n",
              "    .dataframe thead th {\n",
              "        text-align: right;\n",
              "    }\n",
              "</style>\n",
              "<table border=\"1\" class=\"dataframe\">\n",
              "  <thead>\n",
              "    <tr style=\"text-align: right;\">\n",
              "      <th></th>\n",
              "      <th>instance_of</th>\n",
              "      <th>instance_ofLabel</th>\n",
              "      <th>country</th>\n",
              "      <th>countryLabel</th>\n",
              "      <th>located_in_the_administrative_territorial_entity</th>\n",
              "      <th>located_in_the_administrative_territorial_entityLabel</th>\n",
              "    </tr>\n",
              "  </thead>\n",
              "  <tbody>\n",
              "    <tr>\n",
              "      <th>0</th>\n",
              "      <td>http://www.wikidata.org/entity/Q1903</td>\n",
              "      <td>Catania</td>\n",
              "      <td>http://www.wikidata.org/entity/Q38</td>\n",
              "      <td>Italy</td>\n",
              "      <td>http://www.wikidata.org/entity/Q20991246</td>\n",
              "      <td>Metropolitan City of Catania</td>\n",
              "    </tr>\n",
              "    <tr>\n",
              "      <th>1</th>\n",
              "      <td>http://www.wikidata.org/entity/Q1906</td>\n",
              "      <td>Caserta</td>\n",
              "      <td>http://www.wikidata.org/entity/Q38</td>\n",
              "      <td>Italy</td>\n",
              "      <td>http://www.wikidata.org/entity/Q16153</td>\n",
              "      <td>Province of Caserta</td>\n",
              "    </tr>\n",
              "    <tr>\n",
              "      <th>2</th>\n",
              "      <td>http://www.wikidata.org/entity/Q1947</td>\n",
              "      <td>Juba</td>\n",
              "      <td>http://www.wikidata.org/entity/Q958</td>\n",
              "      <td>South Sudan</td>\n",
              "      <td>http://www.wikidata.org/entity/Q487709</td>\n",
              "      <td>Central Equatoria</td>\n",
              "    </tr>\n",
              "    <tr>\n",
              "      <th>3</th>\n",
              "      <td>http://www.wikidata.org/entity/Q1960</td>\n",
              "      <td>Dar es Salaam</td>\n",
              "      <td>http://www.wikidata.org/entity/Q924</td>\n",
              "      <td>Tanzania</td>\n",
              "      <td>http://www.wikidata.org/entity/Q557539</td>\n",
              "      <td>Dar es Salaam Region</td>\n",
              "    </tr>\n",
              "    <tr>\n",
              "      <th>4</th>\n",
              "      <td>http://www.wikidata.org/entity/Q1963</td>\n",
              "      <td>Khartoum</td>\n",
              "      <td>http://www.wikidata.org/entity/Q1049</td>\n",
              "      <td>Sudan</td>\n",
              "      <td>http://www.wikidata.org/entity/Q310385</td>\n",
              "      <td>Khartoum</td>\n",
              "    </tr>\n",
              "  </tbody>\n",
              "</table>\n",
              "</div>"
            ],
            "text/plain": [
              "                            instance_of  ... located_in_the_administrative_territorial_entityLabel\n",
              "0  http://www.wikidata.org/entity/Q1903  ...                       Metropolitan City of Catania   \n",
              "1  http://www.wikidata.org/entity/Q1906  ...                                Province of Caserta   \n",
              "2  http://www.wikidata.org/entity/Q1947  ...                                  Central Equatoria   \n",
              "3  http://www.wikidata.org/entity/Q1960  ...                               Dar es Salaam Region   \n",
              "4  http://www.wikidata.org/entity/Q1963  ...                                           Khartoum   \n",
              "\n",
              "[5 rows x 6 columns]"
            ]
          },
          "metadata": {
            "tags": []
          },
          "execution_count": 13
        }
      ]
    },
    {
      "cell_type": "code",
      "metadata": {
        "id": "_tb9FLP2jTkt",
        "colab_type": "code",
        "colab": {
          "base_uri": "https://localhost:8080/",
          "height": 217
        },
        "outputId": "4bc36072-434e-45fd-e12f-a7a6c8d577f6"
      },
      "source": [
        "df2['wikidata_entity_id'] = df2['instance_of'].apply(get_wikidata_id)\n",
        "df2.head()"
      ],
      "execution_count": 15,
      "outputs": [
        {
          "output_type": "execute_result",
          "data": {
            "text/html": [
              "<div>\n",
              "<style scoped>\n",
              "    .dataframe tbody tr th:only-of-type {\n",
              "        vertical-align: middle;\n",
              "    }\n",
              "\n",
              "    .dataframe tbody tr th {\n",
              "        vertical-align: top;\n",
              "    }\n",
              "\n",
              "    .dataframe thead th {\n",
              "        text-align: right;\n",
              "    }\n",
              "</style>\n",
              "<table border=\"1\" class=\"dataframe\">\n",
              "  <thead>\n",
              "    <tr style=\"text-align: right;\">\n",
              "      <th></th>\n",
              "      <th>instance_of</th>\n",
              "      <th>instance_ofLabel</th>\n",
              "      <th>country</th>\n",
              "      <th>countryLabel</th>\n",
              "      <th>located_in_the_administrative_territorial_entity</th>\n",
              "      <th>located_in_the_administrative_territorial_entityLabel</th>\n",
              "      <th>wikidata_entity_id</th>\n",
              "    </tr>\n",
              "  </thead>\n",
              "  <tbody>\n",
              "    <tr>\n",
              "      <th>0</th>\n",
              "      <td>http://www.wikidata.org/entity/Q1903</td>\n",
              "      <td>Catania</td>\n",
              "      <td>http://www.wikidata.org/entity/Q38</td>\n",
              "      <td>Italy</td>\n",
              "      <td>http://www.wikidata.org/entity/Q20991246</td>\n",
              "      <td>Metropolitan City of Catania</td>\n",
              "      <td>Q1903</td>\n",
              "    </tr>\n",
              "    <tr>\n",
              "      <th>1</th>\n",
              "      <td>http://www.wikidata.org/entity/Q1906</td>\n",
              "      <td>Caserta</td>\n",
              "      <td>http://www.wikidata.org/entity/Q38</td>\n",
              "      <td>Italy</td>\n",
              "      <td>http://www.wikidata.org/entity/Q16153</td>\n",
              "      <td>Province of Caserta</td>\n",
              "      <td>Q1906</td>\n",
              "    </tr>\n",
              "    <tr>\n",
              "      <th>2</th>\n",
              "      <td>http://www.wikidata.org/entity/Q1947</td>\n",
              "      <td>Juba</td>\n",
              "      <td>http://www.wikidata.org/entity/Q958</td>\n",
              "      <td>South Sudan</td>\n",
              "      <td>http://www.wikidata.org/entity/Q487709</td>\n",
              "      <td>Central Equatoria</td>\n",
              "      <td>Q1947</td>\n",
              "    </tr>\n",
              "    <tr>\n",
              "      <th>3</th>\n",
              "      <td>http://www.wikidata.org/entity/Q1960</td>\n",
              "      <td>Dar es Salaam</td>\n",
              "      <td>http://www.wikidata.org/entity/Q924</td>\n",
              "      <td>Tanzania</td>\n",
              "      <td>http://www.wikidata.org/entity/Q557539</td>\n",
              "      <td>Dar es Salaam Region</td>\n",
              "      <td>Q1960</td>\n",
              "    </tr>\n",
              "    <tr>\n",
              "      <th>4</th>\n",
              "      <td>http://www.wikidata.org/entity/Q1963</td>\n",
              "      <td>Khartoum</td>\n",
              "      <td>http://www.wikidata.org/entity/Q1049</td>\n",
              "      <td>Sudan</td>\n",
              "      <td>http://www.wikidata.org/entity/Q310385</td>\n",
              "      <td>Khartoum</td>\n",
              "      <td>Q1963</td>\n",
              "    </tr>\n",
              "  </tbody>\n",
              "</table>\n",
              "</div>"
            ],
            "text/plain": [
              "                            instance_of  ... wikidata_entity_id\n",
              "0  http://www.wikidata.org/entity/Q1903  ...              Q1903\n",
              "1  http://www.wikidata.org/entity/Q1906  ...              Q1906\n",
              "2  http://www.wikidata.org/entity/Q1947  ...              Q1947\n",
              "3  http://www.wikidata.org/entity/Q1960  ...              Q1960\n",
              "4  http://www.wikidata.org/entity/Q1963  ...              Q1963\n",
              "\n",
              "[5 rows x 7 columns]"
            ]
          },
          "metadata": {
            "tags": []
          },
          "execution_count": 15
        }
      ]
    },
    {
      "cell_type": "code",
      "metadata": {
        "id": "uIvCfPe2rGbG",
        "colab_type": "code",
        "colab": {}
      },
      "source": [
        "  df2['desc_detail'] = df2['wikidata_entity_id'].apply(get_wikidata_description)\n",
        "  df2['label_detail'] = df2['wikidata_entity_id'].apply(get_wikidata_label)"
      ],
      "execution_count": 0,
      "outputs": []
    },
    {
      "cell_type": "code",
      "metadata": {
        "id": "ZGcDhq3EHlo9",
        "colab_type": "code",
        "colab": {}
      },
      "source": [
        "df2.to_csv('city_details.csv')"
      ],
      "execution_count": 0,
      "outputs": []
    },
    {
      "cell_type": "code",
      "metadata": {
        "id": "7NfZCAgXHqoP",
        "colab_type": "code",
        "colab": {}
      },
      "source": [
        "import spacy"
      ],
      "execution_count": 0,
      "outputs": []
    },
    {
      "cell_type": "code",
      "metadata": {
        "id": "5Hoq0Iq9DmKa",
        "colab_type": "code",
        "colab": {}
      },
      "source": [
        "nlp = spacy.load('en_core_web_sm')"
      ],
      "execution_count": 0,
      "outputs": []
    },
    {
      "cell_type": "code",
      "metadata": {
        "id": "9eqKc2fCDszE",
        "colab_type": "code",
        "colab": {
          "base_uri": "https://localhost:8080/",
          "height": 225
        },
        "outputId": "c9629a9e-53e0-415b-d551-1325e8cc830d"
      },
      "source": [
        "df2['instance_ofLabel']"
      ],
      "execution_count": 22,
      "outputs": [
        {
          "output_type": "execute_result",
          "data": {
            "text/plain": [
              "0              Catania\n",
              "1              Caserta\n",
              "2                 Juba\n",
              "3        Dar es Salaam\n",
              "4             Khartoum\n",
              "             ...      \n",
              "10082         Kerkrade\n",
              "10083        Q28976219\n",
              "10084        Q28976366\n",
              "10085        Q29000726\n",
              "10086    Al-Mashariqah\n",
              "Name: instance_ofLabel, Length: 10087, dtype: object"
            ]
          },
          "metadata": {
            "tags": []
          },
          "execution_count": 22
        }
      ]
    },
    {
      "cell_type": "code",
      "metadata": {
        "id": "Jc0Uwm46EBOI",
        "colab_type": "code",
        "colab": {
          "base_uri": "https://localhost:8080/",
          "height": 191
        },
        "outputId": "a2a88754-227d-487e-f946-05dde76b317c"
      },
      "source": [
        "r_list[:10]"
      ],
      "execution_count": 23,
      "outputs": [
        {
          "output_type": "execute_result",
          "data": {
            "text/plain": [
              "[\"'s hertogenbosch\",\n",
              " 'a coruña',\n",
              " 'aabenraa',\n",
              " 'aasiaat',\n",
              " 'aba',\n",
              " 'abala',\n",
              " 'abancay',\n",
              " 'abaradira',\n",
              " 'abasan al kabera',\n",
              " 'abbeyleix']"
            ]
          },
          "metadata": {
            "tags": []
          },
          "execution_count": 23
        }
      ]
    },
    {
      "cell_type": "code",
      "metadata": {
        "id": "WzNPF8L1EfCl",
        "colab_type": "code",
        "colab": {
          "base_uri": "https://localhost:8080/",
          "height": 51
        },
        "outputId": "f69dcc26-a7d7-4aa6-9f90-1de68164159b"
      },
      "source": [
        "[print(token.text) for token in nlp.pipe(r_list[1:2])]"
      ],
      "execution_count": 27,
      "outputs": [
        {
          "output_type": "stream",
          "text": [
            "a coruña\n"
          ],
          "name": "stdout"
        },
        {
          "output_type": "execute_result",
          "data": {
            "text/plain": [
              "[None]"
            ]
          },
          "metadata": {
            "tags": []
          },
          "execution_count": 27
        }
      ]
    },
    {
      "cell_type": "code",
      "metadata": {
        "id": "tP8eUYecEsKD",
        "colab_type": "code",
        "colab": {
          "base_uri": "https://localhost:8080/",
          "height": 34
        },
        "outputId": "27c4f0c4-06ab-44da-a752-b72d19aae959"
      },
      "source": [
        "r_list[0]"
      ],
      "execution_count": 28,
      "outputs": [
        {
          "output_type": "execute_result",
          "data": {
            "text/plain": [
              "\"'s hertogenbosch\""
            ]
          },
          "metadata": {
            "tags": []
          },
          "execution_count": 28
        }
      ]
    },
    {
      "cell_type": "code",
      "metadata": {
        "id": "4qBUrJOqFJK-",
        "colab_type": "code",
        "colab": {
          "base_uri": "https://localhost:8080/",
          "height": 34
        },
        "outputId": "4c1c64c2-9cb0-4089-d9e3-11fd6a5c30af"
      },
      "source": [
        "['{\"LOWER\": \"'+ token.text + '\"}' for token in nlp(r_list[0])]"
      ],
      "execution_count": 33,
      "outputs": [
        {
          "output_type": "execute_result",
          "data": {
            "text/plain": [
              "['{\"LOWER\": \"\\'s\"}', '{\"LOWER\": \"hertogenbosch\"}']"
            ]
          },
          "metadata": {
            "tags": []
          },
          "execution_count": 33
        }
      ]
    },
    {
      "cell_type": "code",
      "metadata": {
        "id": "PUoSQvD_FSTO",
        "colab_type": "code",
        "colab": {
          "base_uri": "https://localhost:8080/",
          "height": 71
        },
        "outputId": "fa478661-78aa-4e5d-aa05-ce3a5a2527d0"
      },
      "source": [
        "patterns = []\n",
        "id_list = []\n",
        "for item in r_list:\n",
        "  patterns.append(['{\"LOWER\": \"'+ token.text + '\"}' for token in nlp(item)])\n",
        "  id_list.append(['_'+ token.text for token in nlp(item)])\n",
        "\n",
        "print(patterns)\n",
        "print(id_list)"
      ],
      "execution_count": 51,
      "outputs": [
        {
          "output_type": "stream",
          "text": [
            "[['{\"LOWER\": \"\\'s\"}', '{\"LOWER\": \"hertogenbosch\"}'], ['{\"LOWER\": \"a\"}', '{\"LOWER\": \"coruña\"}'], ['{\"LOWER\": \"aabenraa\"}'], ['{\"LOWER\": \"aasiaat\"}'], ['{\"LOWER\": \"aba\"}'], ['{\"LOWER\": \"abala\"}'], ['{\"LOWER\": \"abancay\"}'], ['{\"LOWER\": \"abaradira\"}'], ['{\"LOWER\": \"abasan\"}', '{\"LOWER\": \"al\"}', '{\"LOWER\": \"kabera\"}'], ['{\"LOWER\": \"abbeyleix\"}'], ['{\"LOWER\": \"abbotsford\"}'], ['{\"LOWER\": \"abbottabad\"}'], ['{\"LOWER\": \"abdon\"}'], ['{\"LOWER\": \"abengourou\"}'], ['{\"LOWER\": \"abeokuta\"}'], ['{\"LOWER\": \"abercwmboi\"}'], ['{\"LOWER\": \"aberdeen\"}'], ['{\"LOWER\": \"abha\"}'], ['{\"LOWER\": \"abidjan\"}'], ['{\"LOWER\": \"abkua\"}'], ['{\"LOWER\": \"aboisso\"}'], ['{\"LOWER\": \"abomey\"}'], ['{\"LOWER\": \"abomsa\"}'], ['{\"LOWER\": \"abong\"}', '{\"LOWER\": \"mbang\"}'], ['{\"LOWER\": \"abreus\"}'], ['{\"LOWER\": \"abu\"}', '{\"LOWER\": \"dhabi\"}'], ['{\"LOWER\": \"abu\"}', '{\"LOWER\": \"dis\"}'], ['{\"LOWER\": \"abu\"}', '{\"LOWER\": \"kabir\"}'], ['{\"LOWER\": \"abu\"}', '{\"LOWER\": \"qir\"}'], ['{\"LOWER\": \"abu\"}', '{\"LOWER\": \"qirqas\"}'], ['{\"LOWER\": \"abu\"}', '{\"LOWER\": \"qurayn\"}'], ['{\"LOWER\": \"abutig\"}'], ['{\"LOWER\": \"abéché\"}'], ['{\"LOWER\": \"abū\"}', '{\"LOWER\": \"qurqāş\"}'], ['{\"LOWER\": \"acalayong\"}'], ['{\"LOWER\": \"acapulco\"}'], ['{\"LOWER\": \"acarigua\"}'], ['{\"LOWER\": \"acarlar\"}'], ['{\"LOWER\": \"accra\"}'], ['{\"LOWER\": \"achacachi\"}'], ['{\"LOWER\": \"achaguas\"}'], ['{\"LOWER\": \"acomayo\"}'], ['{\"LOWER\": \"aconibe\"}'], ['{\"LOWER\": \"acre\"}'], ['{\"LOWER\": \"acuera\"}'], ['{\"LOWER\": \"acultzingo\"}'], ['{\"LOWER\": \"ad\"}', '{\"LOWER\": \"dali\"}', '{\"LOWER\": \"\\'\"}'], ['{\"LOWER\": \"ad\"}', '{\"LOWER\": \"dhahiriya\"}'], ['{\"LOWER\": \"ad\"}', '{\"LOWER\": \"dhale\\'e\"}', '{\"LOWER\": \"district\"}'], ['{\"LOWER\": \"ad\"}', '{\"LOWER\": \"dis\"}'], ['{\"LOWER\": \"ad\"}', '{\"LOWER\": \"quintum\"}'], ['{\"LOWER\": \"ad\"}', '{\"LOWER\": \"salices\"}'], ['{\"LOWER\": \"adabokrom\"}'], ['{\"LOWER\": \"adamantina\"}'], ['{\"LOWER\": \"adamov\"}'], ['{\"LOWER\": \"adana\"}'], ['{\"LOWER\": \"adapazarı\"}'], ['{\"LOWER\": \"addu\"}', '{\"LOWER\": \"city\"}'], ['{\"LOWER\": \"adelaide\"}'], ['{\"LOWER\": \"aden\"}'], ['{\"LOWER\": \"adet\"}'], ['{\"LOWER\": \"adi\"}', '{\"LOWER\": \"keyh\"}'], ['{\"LOWER\": \"adi\"}', '{\"LOWER\": \"quala\"}'], ['{\"LOWER\": \"adigrat\"}'], ['{\"LOWER\": \"ado\"}', '{\"LOWER\": \"ekiti\"}'], ['{\"LOWER\": \"adobha\"}'], ['{\"LOWER\": \"adolfo\"}'], ['{\"LOWER\": \"adolfo\"}', '{\"LOWER\": \"ruiz\"}', '{\"LOWER\": \"cortines\"}'], ['{\"LOWER\": \"adrar\"}'], ['{\"LOWER\": \"adrogué\"}'], ['{\"LOWER\": \"adré\"}'], ['{\"LOWER\": \"adzopé\"}'], ['{\"LOWER\": \"adıyaman\"}'], ['{\"LOWER\": \"aegys\"}'], ['{\"LOWER\": \"aelia\"}', '{\"LOWER\": \"capitolina\"}'], ['{\"LOWER\": \"afak\"}'], ['{\"LOWER\": \"afif\"}'], ['{\"LOWER\": \"aflou\"}'], ['{\"LOWER\": \"afrin\"}'], ['{\"LOWER\": \"afula\"}'], ['{\"LOWER\": \"afyonkarahisar\"}'], ['{\"LOWER\": \"agadir\"}'], ['{\"LOWER\": \"agaete\"}'], ['{\"LOWER\": \"agar\"}', '{\"LOWER\": \",\"}', '{\"LOWER\": \"madhya\"}', '{\"LOWER\": \"pradesh\"}'], ['{\"LOWER\": \"agara\"}', '{\"LOWER\": \",\"}', '{\"LOWER\": \"bangalore\"}'], ['{\"LOWER\": \"agathyrnum\"}'], ['{\"LOWER\": \"agboville\"}'], ['{\"LOWER\": \"agdam\"}'], ['{\"LOWER\": \"agdash\"}'], ['{\"LOWER\": \"aghir\"}'], ['{\"LOWER\": \"agogo\"}'], ['{\"LOWER\": \"agordat\"}'], ['{\"LOWER\": \"agra\"}'], ['{\"LOWER\": \"agrigento\"}'], ['{\"LOWER\": \"agrinio\"}'], ['{\"LOWER\": \"agsu\"}'], ['{\"LOWER\": \"aguada\"}', '{\"LOWER\": \"de\"}', '{\"LOWER\": \"pasajeros\"}'], ['{\"LOWER\": \"aguascalientes\"}', '{\"LOWER\": \"city\"}'], ['{\"LOWER\": \"aguaí\"}'], ['{\"LOWER\": \"agudos\"}'], ['{\"LOWER\": \"agui\"}'], ['{\"LOWER\": \"aguilares\"}', '{\"LOWER\": \",\"}', '{\"LOWER\": \"argentina\"}'], ['{\"LOWER\": \"aheloy\"}'], ['{\"LOWER\": \"ahmedabad\"}'], ['{\"LOWER\": \"ahtopol\"}'], ['{\"LOWER\": \"ahuacatlán\"}'], ['{\"LOWER\": \"ahuachapán\"}'], ['{\"LOWER\": \"ai\"}'], ['{\"LOWER\": \"aichach\"}'], ['{\"LOWER\": \"aija\"}'], ['{\"LOWER\": \"aijalon\"}'], ['{\"LOWER\": \"ainaro\"}'], ['{\"LOWER\": \"aiquile\"}'], ['{\"LOWER\": \"ait\"}', '{\"LOWER\": \"melloul\"}'], ['{\"LOWER\": \"aitape\"}'], ['{\"LOWER\": \"ajdir\"}'], ['{\"LOWER\": \"ajitgarh\"}'], ['{\"LOWER\": \"ajloun\"}'], ['{\"LOWER\": \"ajman\"}'], ['{\"LOWER\": \"ajmer\"}'], ['{\"LOWER\": \"akaa\"}'], ['{\"LOWER\": \"akarassos\"}'], ['{\"LOWER\": \"akbarpur\"}'], ['{\"LOWER\": \"akhalkalaki\"}'], ['{\"LOWER\": \"akhaltsikhe\"}'], ['{\"LOWER\": \"akhmeta\"}'], ['{\"LOWER\": \"akhmim\"}'], ['{\"LOWER\": \"akim\"}', '{\"LOWER\": \"oda\"}'], ['{\"LOWER\": \"akmenė\"}'], ['{\"LOWER\": \"akok\"}'], ['{\"LOWER\": \"akola\"}'], ['{\"LOWER\": \"akonolinga\"}'], ['{\"LOWER\": \"akora\"}', '{\"LOWER\": \"khattak\"}'], ['{\"LOWER\": \"akranes\"}'], ['{\"LOWER\": \"aksakovo\"}'], ['{\"LOWER\": \"aksaray\"}'], ['{\"LOWER\": \"aksu\"}'], ['{\"LOWER\": \"aktau\"}'], ['{\"LOWER\": \"aktepe\"}'], ['{\"LOWER\": \"aktobe\"}'], ['{\"LOWER\": \"akure\"}'], ['{\"LOWER\": \"akureyri\"}'], ['{\"LOWER\": \"akçay\"}'], ['{\"LOWER\": \"al\"}', '{\"LOWER\": \"`\"}', '{\"LOWER\": \"ula\"}'], ['{\"LOWER\": \"al\"}', '{\"LOWER\": \"aaroui\"}'], ['{\"LOWER\": \"al\"}', '{\"LOWER\": \"ahsa\"}', '{\"LOWER\": \"governorate\"}'], ['{\"LOWER\": \"al\"}', '{\"LOWER\": \"ain\"}'], ['{\"LOWER\": \"al\"}', '{\"LOWER\": \"ain\"}', '{\"LOWER\": \"region\"}', '{\"LOWER\": \",\"}', '{\"LOWER\": \"abu\"}', '{\"LOWER\": \"dhabi\"}'], ['{\"LOWER\": \"al\"}', '{\"LOWER\": \"bab\"}'], ['{\"LOWER\": \"al\"}', '{\"LOWER\": \"bahah\"}'], ['{\"LOWER\": \"al\"}', '{\"LOWER\": \"bayda\"}'], ['{\"LOWER\": \"al\"}', '{\"LOWER\": \"bayda\"}', '{\"LOWER\": \"\\'\"}'], ['{\"LOWER\": \"al\"}', '{\"LOWER\": \"bireh\"}'], ['{\"LOWER\": \"al\"}', '{\"LOWER\": \"bukayriyah\"}'], ['{\"LOWER\": \"al\"}', '{\"LOWER\": \"buraimi\"}'], ['{\"LOWER\": \"al\"}', '{\"LOWER\": \"dar\"}', '{\"LOWER\": \"al\"}', '{\"LOWER\": \"kabirah\"}'], ['{\"LOWER\": \"al\"}', '{\"LOWER\": \"darbasiyah\"}'], ['{\"LOWER\": \"al\"}', '{\"LOWER\": \"diwaniyah\"}'], ['{\"LOWER\": \"al\"}', '{\"LOWER\": \"eizariya\"}'], ['{\"LOWER\": \"al\"}', '{\"LOWER\": \"faw\"}'], ['{\"LOWER\": \"al\"}', '{\"LOWER\": \"gharraf\"}'], ['{\"LOWER\": \"al\"}', '{\"LOWER\": \"ghuwariyah\"}'], ['{\"LOWER\": \"al\"}', '{\"LOWER\": \"haffah\"}'], ['{\"LOWER\": \"al\"}', '{\"LOWER\": \"hajar\"}', '{\"LOWER\": \"al\"}', '{\"LOWER\": \"aswad\"}'], ['{\"LOWER\": \"al\"}', '{\"LOWER\": \"hamool\"}'], ['{\"LOWER\": \"al\"}', '{\"LOWER\": \"hasakah\"}'], ['{\"LOWER\": \"al\"}', '{\"LOWER\": \"hashimiya\"}'], ['{\"LOWER\": \"al\"}', '{\"LOWER\": \"hashimiyah\"}'], ['{\"LOWER\": \"al\"}', '{\"LOWER\": \"hashimiyya\"}'], ['{\"LOWER\": \"al\"}', '{\"LOWER\": \"hassan\"}', '{\"LOWER\": \"science\"}', '{\"LOWER\": \"city\"}'], ['{\"LOWER\": \"al\"}', '{\"LOWER\": \"hay\"}'], ['{\"LOWER\": \"al\"}', '{\"LOWER\": \"hudaydah\"}'], ['{\"LOWER\": \"al\"}', '{\"LOWER\": \"husn\"}'], ['{\"LOWER\": \"al\"}', '{\"LOWER\": \"jabalayn\"}'], ['{\"LOWER\": \"al\"}', '{\"LOWER\": \"jawf\"}'], ['{\"LOWER\": \"al\"}', '{\"LOWER\": \"jubayhah\"}'], ['{\"LOWER\": \"al\"}', '{\"LOWER\": \"karak\"}'], ['{\"LOWER\": \"al\"}', '{\"LOWER\": \"karmah\"}'], ['{\"LOWER\": \"al\"}', '{\"LOWER\": \"khalidiya\"}'], ['{\"LOWER\": \"al\"}', '{\"LOWER\": \"kiswah\"}'], ['{\"LOWER\": \"al\"}', '{\"LOWER\": \"madinat\"}', '{\"LOWER\": \"al\"}', '{\"LOWER\": \"zahira\"}'], ['{\"LOWER\": \"al\"}', '{\"LOWER\": \"mahwit\"}'], ['{\"LOWER\": \"al\"}', '{\"LOWER\": \"majma\\'ah\"}'], ['{\"LOWER\": \"al\"}', '{\"LOWER\": \"malikiyah\"}'], ['{\"LOWER\": \"al\"}', '{\"LOWER\": \"mansura\"}', '{\"LOWER\": \"district\"}'], ['{\"LOWER\": \"al\"}', '{\"LOWER\": \"maschariqa\"}'], ['{\"LOWER\": \"al\"}', '{\"LOWER\": \"mashariqah\"}'], ['{\"LOWER\": \"al\"}', '{\"LOWER\": \"meshkhab\"}'], ['{\"LOWER\": \"al\"}', '{\"LOWER\": \"midaina\"}'], ['{\"LOWER\": \"al\"}', '{\"LOWER\": \"midhatiya\"}'], ['{\"LOWER\": \"al\"}', '{\"LOWER\": \"misrakh\"}', '{\"LOWER\": \"district\"}'], ['{\"LOWER\": \"al\"}', '{\"LOWER\": \"mithnab\"}'], ['{\"LOWER\": \"al\"}', '{\"LOWER\": \"muabbada\"}'], ['{\"LOWER\": \"al\"}', '{\"LOWER\": \"mualla\"}', '{\"LOWER\": \"district\"}'], ['{\"LOWER\": \"al\"}', '{\"LOWER\": \"mubarraz\"}'], ['{\"LOWER\": \"al\"}', '{\"LOWER\": \"qaryatayn\"}'], ['{\"LOWER\": \"al\"}', '{\"LOWER\": \"qunfudhah\"}'], ['{\"LOWER\": \"al\"}', '{\"LOWER\": \"qurayn\"}', '{\"LOWER\": \",\"}', '{\"LOWER\": \"egypt\"}'], ['{\"LOWER\": \"al\"}', '{\"LOWER\": \"qusayr\"}'], ['{\"LOWER\": \"al\"}', '{\"LOWER\": \"quwaysimah\"}'], ['{\"LOWER\": \"al\"}', '{\"LOWER\": \"ram\"}'], ['{\"LOWER\": \"al\"}', '{\"LOWER\": \"rastan\"}'], ['{\"LOWER\": \"al\"}', '{\"LOWER\": \"rumaitha\"}'], ['{\"LOWER\": \"al\"}', '{\"LOWER\": \"safira\"}'], ['{\"LOWER\": \"al\"}', '{\"LOWER\": \"sanamayn\"}'], ['{\"LOWER\": \"al\"}', '{\"LOWER\": \"shamal\"}'], ['{\"LOWER\": \"al\"}', '{\"LOWER\": \"shaykh\"}', '{\"LOWER\": \"badr\"}'], ['{\"LOWER\": \"al\"}', '{\"LOWER\": \"shirqat\"}'], ['{\"LOWER\": \"al\"}', '{\"LOWER\": \"shuna\"}', '{\"LOWER\": \"al\"}', '{\"LOWER\": \"shamalyah\"}'], ['{\"LOWER\": \"al\"}', '{\"LOWER\": \"suqaylabiyah\"}'], ['{\"LOWER\": \"al\"}', '{\"LOWER\": \"suwayda\"}'], ['{\"LOWER\": \"al\"}', '{\"LOWER\": \"tall\"}'], ['{\"LOWER\": \"al\"}', '{\"LOWER\": \"thawrah\"}'], ['{\"LOWER\": \"al\"}', '{\"LOWER\": \"ubayyid\"}'], ['{\"LOWER\": \"al\"}', '{\"LOWER\": \"wakrah\"}'], ['{\"LOWER\": \"al\"}', '{\"LOWER\": \"wasta\"}'], ['{\"LOWER\": \"al\"}', '{\"LOWER\": \"yamun\"}'], ['{\"LOWER\": \"al\"}', '{\"LOWER\": \"zabadani\"}'], ['{\"LOWER\": \"aladağ\"}'], ['{\"LOWER\": \"alajuela\"}'], ['{\"LOWER\": \"alajärvi\"}'], ['{\"LOWER\": \"alambari\"}'], ['{\"LOWER\": \"alanya\"}'], ['{\"LOWER\": \"alatau\"}'], ['{\"LOWER\": \"alavus\"}'], ['{\"LOWER\": \"albacete\"}'], ['{\"LOWER\": \"albanopolis\"}'], ['{\"LOWER\": \"albury\"}'], ['{\"LOWER\": \"alcalá\"}', '{\"LOWER\": \"de\"}', '{\"LOWER\": \"henares\"}'], ['{\"LOWER\": \"alcobendas\"}'], ['{\"LOWER\": \"aleksandrów\"}', '{\"LOWER\": \"kujawski\"}'], ['{\"LOWER\": \"aleksandrów\"}', '{\"LOWER\": \"łódzki\"}'], ['{\"LOWER\": \"aleppo\"}'], ['{\"LOWER\": \"alexandreia\"}'], ['{\"LOWER\": \"alexandria\"}', '{\"LOWER\": \"in\"}', '{\"LOWER\": \"orietai\"}'], ['{\"LOWER\": \"alexandria\"}', '{\"LOWER\": \"prophthasia\"}'], ['{\"LOWER\": \"alexandroupoli\"}'], ['{\"LOWER\": \"alfredo\"}', '{\"LOWER\": \"marcondes\"}'], ['{\"LOWER\": \"ali\"}', '{\"LOWER\": \"sabieh\"}'], ['{\"LOWER\": \"alicante\"}'], ['{\"LOWER\": \"aligarh\"}'], ['{\"LOWER\": \"alisio\"}'], ['{\"LOWER\": \"aliyu\"}', '{\"LOWER\": \"amba\"}'], ['{\"LOWER\": \"alkmaar\"}'], ['{\"LOWER\": \"allahabad\"}'], ['{\"LOWER\": \"allen\"}'], ['{\"LOWER\": \"allenstein\"}'], ['{\"LOWER\": \"almaty\"}'], ['{\"LOWER\": \"almelo\"}'], ['{\"LOWER\": \"almere\"}'], ['{\"LOWER\": \"almería\"}'], ['{\"LOWER\": \"alor\"}', '{\"LOWER\": \"setar\"}'], ['{\"LOWER\": \"alotau\"}'], ['{\"LOWER\": \"alpuri\"}'], ['{\"LOWER\": \"alqosh\"}'], ['{\"LOWER\": \"alquízar\"}'], ['{\"LOWER\": \"alta\"}'], ['{\"LOWER\": \"alta\"}', '{\"LOWER\": \"gracia\"}'], ['{\"LOWER\": \"altai\"}'], ['{\"LOWER\": \"altair\"}', '{\"LOWER\": \",\"}', '{\"LOWER\": \"são\"}', '{\"LOWER\": \"paulo\"}'], ['{\"LOWER\": \"altena\"}'], ['{\"LOWER\": \"altinópolis\"}'], ['{\"LOWER\": \"alto\"}', '{\"LOWER\": \"alegre\"}', '{\"LOWER\": \",\"}', '{\"LOWER\": \"são\"}', '{\"LOWER\": \"paulo\"}'], ['{\"LOWER\": \"altona\"}'], ['{\"LOWER\": \"altınoluk\"}'], ['{\"LOWER\": \"aluminé\"}'], ['{\"LOWER\": \"alumínio\"}'], ['{\"LOWER\": \"alvarado\"}'], ['{\"LOWER\": \"alvinlândia\"}'], ['{\"LOWER\": \"alwernia\"}'], ['{\"LOWER\": \"alytus\"}'], ['{\"LOWER\": \"am\"}', '{\"LOWER\": \"timan\"}'], ['{\"LOWER\": \"amadiya\"}'], ['{\"LOWER\": \"amancio\"}'], ['{\"LOWER\": \"amangarh\"}'], ['{\"LOWER\": \"amantia\"}'], ['{\"LOWER\": \"amara\"}', '{\"LOWER\": \",\"}', '{\"LOWER\": \"nubia\"}'], ['{\"LOWER\": \"amaragadhi\"}'], ['{\"LOWER\": \"amarah\"}'], ['{\"LOWER\": \"amaravati\"}'], ['{\"LOWER\": \"amarete\"}'], ['{\"LOWER\": \"amasya\"}'], ['{\"LOWER\": \"amba\"}', '{\"LOWER\": \"mariam\"}'], ['{\"LOWER\": \"ambala\"}'], ['{\"LOWER\": \"ambam\"}'], ['{\"LOWER\": \"ambanja\"}'], ['{\"LOWER\": \"ambarnath\"}'], ['{\"LOWER\": \"ambato\"}'], ['{\"LOWER\": \"ambattur\"}'], ['{\"LOWER\": \"amblada\"}'], ['{\"LOWER\": \"ambo\"}'], ['{\"LOWER\": \"amboasary\"}'], ['{\"LOWER\": \"ambodiharina\"}'], ['{\"LOWER\": \"ambrolauri\"}'], ['{\"LOWER\": \"amecameca\"}', '{\"LOWER\": \"de\"}', '{\"LOWER\": \"juárez\"}'], ['{\"LOWER\": \"americana\"}'], ['{\"LOWER\": \"amersfoort\"}'], ['{\"LOWER\": \"amfissa\"}'], ['{\"LOWER\": \"amlapura\"}'], ['{\"LOWER\": \"amman\"}'], ['{\"LOWER\": \"amoudah\"}'], ['{\"LOWER\": \"ampang\"}', '{\"LOWER\": \"jaya\"}'], ['{\"LOWER\": \"amparo\"}', '{\"LOWER\": \",\"}', '{\"LOWER\": \"são\"}', '{\"LOWER\": \"paulo\"}'], ['{\"LOWER\": \"amphigeneia\"}'], ['{\"LOWER\": \"amposta\"}'], ['{\"LOWER\": \"amritsar\"}'], ['{\"LOWER\": \"amstelveen\"}'], ['{\"LOWER\": \"amsterdam\"}'], ['{\"LOWER\": \"américa\"}'], ['{\"LOWER\": \"américo\"}', '{\"LOWER\": \"brasiliense\"}'], ['{\"LOWER\": \"an\"}', '{\"LOWER\": \"nabk\"}'], ['{\"LOWER\": \"anaco\"}'], ['{\"LOWER\": \"anaittha\"}'], ['{\"LOWER\": \"anaklia\"}'], ['{\"LOWER\": \"analalava\"}'], ['{\"LOWER\": \"analândia\"}'], ['{\"LOWER\": \"anathoth\"}'], ['{\"LOWER\": \"anchovy\"}'], ['{\"LOWER\": \"ancient\"}', '{\"LOWER\": \"ostra\"}'], ['{\"LOWER\": \"ancona\"}'], ['{\"LOWER\": \"ancuabe\"}'], ['{\"LOWER\": \"andahuaylas\"}'], ['{\"LOWER\": \"andalgalá\"}'], ['{\"LOWER\": \"andijan\"}'], ['{\"LOWER\": \"andkhoy\"}'], ['{\"LOWER\": \"andradina\"}'], ['{\"LOWER\": \"andria\"}'], ['{\"LOWER\": \"andrijevica\"}'], ['{\"LOWER\": \"andrychów\"}'], ['{\"LOWER\": \"andújar\"}'], ['{\"LOWER\": \"anenii\"}', '{\"LOWER\": \"noi\"}'], ['{\"LOWER\": \"angadipuram\"}', '{\"LOWER\": \"laterite\"}'], ['{\"LOWER\": \"angatuba\"}'], ['{\"LOWER\": \"angers\"}'], ['{\"LOWER\": \"angkor\"}'], ['{\"LOWER\": \"angoche\"}'], ['{\"LOWER\": \"angren\"}'], ['{\"LOWER\": \"anhembi\"}'], ['{\"LOWER\": \"anhumas\"}'], ['{\"LOWER\": \"ani\"}'], ['{\"LOWER\": \"anjangaon\"}'], ['{\"LOWER\": \"anjara\"}'], ['{\"LOWER\": \"anklav\"}'], ['{\"LOWER\": \"ankober\"}'], ['{\"LOWER\": \"anna\"}', '{\"LOWER\": \"regina\"}'], ['{\"LOWER\": \"annaba\"}'], ['{\"LOWER\": \"annopol\"}'], ['{\"LOWER\": \"annotto\"}', '{\"LOWER\": \"bay\"}'], ['{\"LOWER\": \"ansan\"}'], ['{\"LOWER\": \"antabamba\"}'], ['{\"LOWER\": \"antakya\"}'], ['{\"LOWER\": \"antalya\"}'], ['{\"LOWER\": \"antequera\"}'], ['{\"LOWER\": \"antheia\"}', '{\"LOWER\": \"(\"}', '{\"LOWER\": \"messenia\"}', '{\"LOWER\": \")\"}'], ['{\"LOWER\": \"antibes\"}'], ['{\"LOWER\": \"antigua\"}', '{\"LOWER\": \"guatemala\"}'], ['{\"LOWER\": \"antilla\"}'], ['{\"LOWER\": \"antiochia\"}', '{\"LOWER\": \"ad\"}', '{\"LOWER\": \"sarum\"}'], ['{\"LOWER\": \"antiochia\"}', '{\"LOWER\": \"lamotis\"}'], ['{\"LOWER\": \"antipatrea\"}'], ['{\"LOWER\": \"antiphellus\"}'], ['{\"LOWER\": \"antsirabe\"}'], ['{\"LOWER\": \"antwerp\"}'], ['{\"LOWER\": \"anuradhapura\"}'], ['{\"LOWER\": \"anyang\"}'], ['{\"LOWER\": \"anykščiai\"}'], ['{\"LOWER\": \"anápolis\"}'], ['{\"LOWER\": \"aného\"}'], ['{\"LOWER\": \"apamea\"}'], ['{\"LOWER\": \"apapa\"}'], ['{\"LOWER\": \"aparecida\"}'], ['{\"LOWER\": \"aparecida\"}', '{\"LOWER\": \"d\\'oeste\"}'], ['{\"LOWER\": \"apeldoorn\"}'], ['{\"LOWER\": \"aphek\"}'], ['{\"LOWER\": \"aphrodisias\"}'], ['{\"LOWER\": \"apia\"}'], ['{\"LOWER\": \"apiaí\"}'], ['{\"LOWER\": \"aplao\"}'], ['{\"LOWER\": \"apolo\"}', '{\"LOWER\": \",\"}', '{\"LOWER\": \"la\"}', '{\"LOWER\": \"paz\"}'], ['{\"LOWER\": \"appingedam\"}'], ['{\"LOWER\": \"apriltsi\"}'], ['{\"LOWER\": \"apros\"}'], ['{\"LOWER\": \"apóstoles\"}'], ['{\"LOWER\": \"aqaba\"}'], ['{\"LOWER\": \"aquae\"}', '{\"LOWER\": \"sextiae\"}'], ['{\"LOWER\": \"ar\"}', '{\"LOWER\": \"rajban\"}'], ['{\"LOWER\": \"ar\"}', '{\"LOWER\": \"ramtha\"}'], ['{\"LOWER\": \"ar\"}', '{\"LOWER\": \"rayn\"}'], ['{\"LOWER\": \"ar\"}', '{\"LOWER\": \"rutba\"}'], ['{\"LOWER\": \"arabsiyo\"}'], ['{\"LOWER\": \"arad\"}'], ['{\"LOWER\": \"araden\"}'], ['{\"LOWER\": \"araguari\"}'], ['{\"LOWER\": \"aral\"}'], ['{\"LOWER\": \"aramina\"}'], ['{\"LOWER\": \"arandu\"}'], ['{\"LOWER\": \"arani\"}'], ['{\"LOWER\": \"aranjuez\"}'], ['{\"LOWER\": \"arapeí\"}'], ['{\"LOWER\": \"araraquara\"}'], ['{\"LOWER\": \"araras\"}'], ['{\"LOWER\": \"ararat\"}'], ['{\"LOWER\": \"araure\"}'], ['{\"LOWER\": \"araxá\"}'], ['{\"LOWER\": \"araçariguama\"}'], ['{\"LOWER\": \"araçatuba\"}'], ['{\"LOWER\": \"araçoiaba\"}', '{\"LOWER\": \"da\"}', '{\"LOWER\": \"serra\"}'], ['{\"LOWER\": \"arboye\"}'], ['{\"LOWER\": \"arcetri\"}'], ['{\"LOWER\": \"archidona\"}', '{\"LOWER\": \",\"}', '{\"LOWER\": \"ecuador\"}'], ['{\"LOWER\": \"arco\"}', '{\"LOWER\": \"íris\"}'], ['{\"LOWER\": \"arcos\"}', '{\"LOWER\": \"de\"}', '{\"LOWER\": \"la\"}', '{\"LOWER\": \"frontera\"}'], ['{\"LOWER\": \"ardahan\"}'], ['{\"LOWER\": \"ardanuç\"}'], ['{\"LOWER\": \"arealva\"}'], ['{\"LOWER\": \"areias\"}', '{\"LOWER\": \",\"}', '{\"LOWER\": \"são\"}', '{\"LOWER\": \"paulo\"}'], ['{\"LOWER\": \"areiópolis\"}'], ['{\"LOWER\": \"arendal\"}'], ['{\"LOWER\": \"argos\"}'], ['{\"LOWER\": \"arhavi\"}'], ['{\"LOWER\": \"ariha\"}'], ['{\"LOWER\": \"ariogala\"}'], ['{\"LOWER\": \"ariranha\"}'], ['{\"LOWER\": \"arisba\"}'], ['{\"LOWER\": \"arish\"}'], ['{\"LOWER\": \"aristóbulo\"}', '{\"LOWER\": \"del\"}', '{\"LOWER\": \"valle\"}'], ['{\"LOWER\": \"arkalyk\"}'], ['{\"LOWER\": \"arlon\"}'], ['{\"LOWER\": \"armagh\"}'], ['{\"LOWER\": \"armidale\"}'], ['{\"LOWER\": \"armutalan\"}'], ['{\"LOWER\": \"arnhem\"}'], ['{\"LOWER\": \"arnis\"}'], ['{\"LOWER\": \"arnos\"}', '{\"LOWER\": \"vale\"}'], ['{\"LOWER\": \"arpalı\"}', '{\"LOWER\": \"kasabası\"}'], ['{\"LOWER\": \"arraba\"}'], ['{\"LOWER\": \"arrah\"}'], ['{\"LOWER\": \"arrecife\"}'], ['{\"LOWER\": \"arretium\"}'], ['{\"LOWER\": \"arroyo\"}', '{\"LOWER\": \"concepción\"}'], ['{\"LOWER\": \"arta\"}', '{\"LOWER\": \",\"}', '{\"LOWER\": \"djibouti\"}'], ['{\"LOWER\": \"artemisa\"}'], ['{\"LOWER\": \"artvin\"}'], ['{\"LOWER\": \"arua\"}'], ['{\"LOWER\": \"arujá\"}'], ['{\"LOWER\": \"arusha\"}'], ['{\"LOWER\": \"arvaikheer\"}'], ['{\"LOWER\": \"arviat\"}'], ['{\"LOWER\": \"arys\"}'], ['{\"LOWER\": \"arzashkun\"}'], ['{\"LOWER\": \"arzew\"}'], ['{\"LOWER\": \"as\"}', '{\"LOWER\": \"salif\"}', '{\"LOWER\": \"district\"}'], ['{\"LOWER\": \"as\"}', '{\"LOWER\": \"samu\"}'], ['{\"LOWER\": \"as\"}', '{\"LOWER\": \"sulayyil\"}'], ['{\"LOWER\": \"asaba\"}'], ['{\"LOWER\": \"asadabad\"}'], ['{\"LOWER\": \"ascención\"}', '{\"LOWER\": \"de\"}', '{\"LOWER\": \"guarayos\"}'], ['{\"LOWER\": \"ascope\"}'], ['{\"LOWER\": \"asella\"}'], ['{\"LOWER\": \"asenovgrad\"}'], ['{\"LOWER\": \"aserrí\"}'], ['{\"LOWER\": \"ash\"}', '{\"LOWER\": \"shihr\"}'], ['{\"LOWER\": \"ash\"}', '{\"LOWER\": \"shinafiyah\"}'], ['{\"LOWER\": \"ashdod\"}'], ['{\"LOWER\": \"ashgabat\"}'], ['{\"LOWER\": \"ashkelon\"}'], ['{\"LOWER\": \"ashrafiyat\"}', '{\"LOWER\": \"sahnaya\"}'], ['{\"LOWER\": \"asientos\"}'], ['{\"LOWER\": \"asmara\"}'], ['{\"LOWER\": \"asnières\"}', '{\"LOWER\": \"sur\"}', '{\"LOWER\": \"seine\"}'], ['{\"LOWER\": \"assen\"}'], ['{\"LOWER\": \"assomada\"}'], ['{\"LOWER\": \"assorus\"}'], ['{\"LOWER\": \"assur\"}'], ['{\"LOWER\": \"astapa\"}'], ['{\"LOWER\": \"astara\"}'], ['{\"LOWER\": \"asti\"}'], ['{\"LOWER\": \"asunción\"}'], ['{\"LOWER\": \"aswan\"}'], ['{\"LOWER\": \"asyut\"}'], ['{\"LOWER\": \"at\"}', '{\"LOWER\": \"turrah\"}'], ['{\"LOWER\": \"atacames\"}'], ['{\"LOWER\": \"atafu\"}'], ['{\"LOWER\": \"atalaya\"}'], ['{\"LOWER\": \"atar\"}'], ['{\"LOWER\": \"atarib\"}'], ['{\"LOWER\": \"atax\"}'], ['{\"LOWER\": \"atayurt\"}'], ['{\"LOWER\": \"atbarah\"}'], ['{\"LOWER\": \"atfih\"}'], ['{\"LOWER\": \"athens\"}'], ['{\"LOWER\": \"ati\"}'], ['{\"LOWER\": \"atibaia\"}'], ['{\"LOWER\": \"atlacomulco\"}', '{\"LOWER\": \"municipality\"}'], ['{\"LOWER\": \"atlixco\"}'], ['{\"LOWER\": \"atlántida\"}', '{\"LOWER\": \",\"}', '{\"LOWER\": \"uruguay\"}'], ['{\"LOWER\": \"attapeu\"}'], ['{\"LOWER\": \"attock\"}'], ['{\"LOWER\": \"atuntaqui\"}'], ['{\"LOWER\": \"atyrau\"}'], ['{\"LOWER\": \"atzeneta\"}', '{\"LOWER\": \"del\"}', '{\"LOWER\": \"maestrat\"}'], ['{\"LOWER\": \"aubervilliers\"}'], ['{\"LOWER\": \"auckland\"}'], ['{\"LOWER\": \"augusta\"}', '{\"LOWER\": \"treverorum\"}'], ['{\"LOWER\": \"augusta\"}', '{\"LOWER\": \"vindelicorum\"}'], ['{\"LOWER\": \"augustopolis\"}', '{\"LOWER\": \"in\"}', '{\"LOWER\": \"palaestina\"}'], ['{\"LOWER\": \"aulnay\"}', '{\"LOWER\": \"sous\"}', '{\"LOWER\": \"bois\"}'], ['{\"LOWER\": \"aulon\"}'], ['{\"LOWER\": \"aurangabad\"}'], ['{\"LOWER\": \"auriflama\"}'], ['{\"LOWER\": \"auroville\"}'], ['{\"LOWER\": \"ausa\"}'], ['{\"LOWER\": \"austur\"}', '{\"LOWER\": \"skaftafellssýsla\"}'], ['{\"LOWER\": \"avadi\"}'], ['{\"LOWER\": \"avanhandava\"}'], ['{\"LOWER\": \"avaré\"}', '{\"LOWER\": \",\"}', '{\"LOWER\": \"são\"}', '{\"LOWER\": \"paulo\"}'], ['{\"LOWER\": \"avaí\"}'], ['{\"LOWER\": \"avellaneda\"}'], ['{\"LOWER\": \"avignon\"}'], ['{\"LOWER\": \"avilés\"}'], ['{\"LOWER\": \"awasa\"}'], ['{\"LOWER\": \"aweil\"}', '{\"LOWER\": \",\"}', '{\"LOWER\": \"south\"}', '{\"LOWER\": \"sudan\"}'], ['{\"LOWER\": \"awka\"}'], ['{\"LOWER\": \"axim\"}'], ['{\"LOWER\": \"axum\"}'], ['{\"LOWER\": \"ayabaca\"}'], ['{\"LOWER\": \"ayacucho\"}'], ['{\"LOWER\": \"ayagoz\"}'], ['{\"LOWER\": \"ayancık\"}'], ['{\"LOWER\": \"ayaviri\"}'], ['{\"LOWER\": \"aydun\"}'], ['{\"LOWER\": \"aydın\"}'], ['{\"LOWER\": \"aydıncık\"}'], ['{\"LOWER\": \"ayn\"}', '{\"LOWER\": \"al\"}', '{\"LOWER\": \"arab\"}'], ['{\"LOWER\": \"ayn\"}', '{\"LOWER\": \"al\"}', '{\"LOWER\": \"basha\"}'], ['{\"LOWER\": \"ayn\"}', '{\"LOWER\": \"al\"}', '{\"LOWER\": \"tamr\"}'], ['{\"LOWER\": \"ayodhya\"}'], ['{\"LOWER\": \"ayoun\"}', '{\"LOWER\": \"el\"}', '{\"LOWER\": \"atrous\"}'], ['{\"LOWER\": \"aytos\"}'], ['{\"LOWER\": \"ayvacık\"}'], ['{\"LOWER\": \"az\"}', '{\"LOWER\": \"zubaydiyah\"}'], ['{\"LOWER\": \"az\"}', '{\"LOWER\": \"zubayr\"}'], ['{\"LOWER\": \"azaz\"}'], ['{\"LOWER\": \"azimuntium\"}'], ['{\"LOWER\": \"azogues\"}'], ['{\"LOWER\": \"azul\"}'], ['{\"LOWER\": \"azángaro\"}'], ['{\"LOWER\": \"aïn\"}', '{\"LOWER\": \"el\"}', '{\"LOWER\": \"aouda\"}'], ['{\"LOWER\": \"añatuya\"}'], ['{\"LOWER\": \"añisoc\"}'], ['{\"LOWER\": \"ağcabədi\"}'], ['{\"LOWER\": \"ağstafa\"}'], ['{\"LOWER\": \"b\"}', '{\"LOWER\": \"baria\"}', '{\"LOWER\": \",\"}', '{\"LOWER\": \"bangladesh\"}'], ['{\"LOWER\": \"baala\"}'], ['{\"LOWER\": \"baalbek\"}'], ['{\"LOWER\": \"baarle\"}'], ['{\"LOWER\": \"baba\"}'], ['{\"LOWER\": \"babahoyo\"}'], ['{\"LOWER\": \"babati\"}'], ['{\"LOWER\": \"babbila\"}'], ['{\"LOWER\": \"babek\"}'], ['{\"LOWER\": \"babel\"}'], ['{\"LOWER\": \"babimost\"}'], ['{\"LOWER\": \"babor\"}', '{\"LOWER\": \"  \"}', '{\"LOWER\": \"ville\"}'], ['{\"LOWER\": \"baborów\"}'], ['{\"LOWER\": \"baboua\"}'], ['{\"LOWER\": \"babri\"}', '{\"LOWER\": \",\"}', '{\"LOWER\": \"burkina\"}', '{\"LOWER\": \"faso\"}'], ['{\"LOWER\": \"bad\"}', '{\"LOWER\": \"wilsnack\"}'], ['{\"LOWER\": \"badajoz\"}'], ['{\"LOWER\": \"badalona\"}'], ['{\"LOWER\": \"badou\"}'], ['{\"LOWER\": \"badulla\"}'], ['{\"LOWER\": \"bady\"}', '{\"LOWER\": \"bassitt\"}'], ['{\"LOWER\": \"baeza\"}'], ['{\"LOWER\": \"bafang\"}'], ['{\"LOWER\": \"bafatá\"}'], ['{\"LOWER\": \"bafia\"}'], ['{\"LOWER\": \"bafilo\"}'], ['{\"LOWER\": \"bafoulabé\"}'], ['{\"LOWER\": \"bafoussam\"}'], ['{\"LOWER\": \"bagansiapiapi\"}'], ['{\"LOWER\": \"baganuur\"}'], ['{\"LOWER\": \"baghdad\"}'], ['{\"LOWER\": \"baghdati\"}'], ['{\"LOWER\": \"baghlan\"}'], ['{\"LOWER\": \"bago\"}'], ['{\"LOWER\": \"bagua\"}'], ['{\"LOWER\": \"bagua\"}', '{\"LOWER\": \"grande\"}'], ['{\"LOWER\": \"bahawalpur\"}'], ['{\"LOWER\": \"bahir\"}', '{\"LOWER\": \"dar\"}'], ['{\"LOWER\": \"bahía\"}', '{\"LOWER\": \"blanca\"}'], ['{\"LOWER\": \"bahía\"}', '{\"LOWER\": \"de\"}', '{\"LOWER\": \"caráquez\"}'], ['{\"LOWER\": \"bahía\"}', '{\"LOWER\": \"honda\"}'], ['{\"LOWER\": \"baidoa\"}'], ['{\"LOWER\": \"baiji\"}'], ['{\"LOWER\": \"bailey\"}', '{\"LOWER\": \"town\"}'], ['{\"LOWER\": \"bairnsdale\"}'], ['{\"LOWER\": \"bajil\"}'], ['{\"LOWER\": \"bajos\"}', '{\"LOWER\": \"de\"}', '{\"LOWER\": \"haina\"}'], ['{\"LOWER\": \"bajram\"}', '{\"LOWER\": \"curri\"}'], ['{\"LOWER\": \"bakaata\"}'], ['{\"LOWER\": \"bakel\"}'], ['{\"LOWER\": \"bakou\"}'], ['{\"LOWER\": \"bakoumba\"}'], ['{\"LOWER\": \"balad\"}'], ['{\"LOWER\": \"balaka\"}', '{\"LOWER\": \"township\"}'], ['{\"LOWER\": \"balakən\"}'], ['{\"LOWER\": \"balao\"}'], ['{\"LOWER\": \"balasagun\"}'], ['{\"LOWER\": \"balasore\"}'], ['{\"LOWER\": \"balat\"}'], ['{\"LOWER\": \"balbinos\"}'], ['{\"LOWER\": \"balboa\"}'], ['{\"LOWER\": \"balcarce\"}'], ['{\"LOWER\": \"balchik\"}'], ['{\"LOWER\": \"balel\"}', '{\"LOWER\": \"pipariya\"}'], ['{\"LOWER\": \"balkanabat\"}'], ['{\"LOWER\": \"balkhash\"}'], ['{\"LOWER\": \"ballarat\"}'], ['{\"LOWER\": \"ballsh\"}'], ['{\"LOWER\": \"balsa\"}'], ['{\"LOWER\": \"baltim\"}', '{\"LOWER\": \"resort\"}'], ['{\"LOWER\": \"baltoji\"}', '{\"LOWER\": \"vokė\"}'], ['{\"LOWER\": \"balykchy\"}'], ['{\"LOWER\": \"balzar\"}'], ['{\"LOWER\": \"balıkesir\"}'], ['{\"LOWER\": \"bamako\"}'], ['{\"LOWER\": \"bamarni\"}'], ['{\"LOWER\": \"bambari\"}'], ['{\"LOWER\": \"bambey\"}'], ['{\"LOWER\": \"bameka\"}'], ['{\"LOWER\": \"bamenda\"}'], ['{\"LOWER\": \"bamenkombo\"}'], ['{\"LOWER\": \"bamyan\"}'], ['{\"LOWER\": \"ban\"}', '{\"LOWER\": \"houayxay\"}'], ['{\"LOWER\": \"banana\"}'], ['{\"LOWER\": \"bananal\"}'], ['{\"LOWER\": \"banavasi\"}'], ['{\"LOWER\": \"banda\"}', '{\"LOWER\": \"del\"}', '{\"LOWER\": \"río\"}', '{\"LOWER\": \"salí\"}'], ['{\"LOWER\": \"bandar\"}', '{\"LOWER\": \"seri\"}', '{\"LOWER\": \"begawan\"}'], ['{\"LOWER\": \"bandjoun\"}'], ['{\"LOWER\": \"bandol\"}', '{\"LOWER\": \"seoni\"}'], ['{\"LOWER\": \"bandırma\"}'], ['{\"LOWER\": \"banepa\"}'], ['{\"LOWER\": \"banes\"}'], ['{\"LOWER\": \"banfora\"}'], ['{\"LOWER\": \"bangalore\"}'], ['{\"LOWER\": \"bangassou\"}'], ['{\"LOWER\": \"bangem\"}'], ['{\"LOWER\": \"bangkalan\"}'], ['{\"LOWER\": \"bangkok\"}'], ['{\"LOWER\": \"bangor\"}'], ['{\"LOWER\": \"bangui\"}'], ['{\"LOWER\": \"bangula\"}'], ['{\"LOWER\": \"banha\"}'], ['{\"LOWER\": \"bani\"}', '{\"LOWER\": \"na\\'im\"}'], ['{\"LOWER\": \"bani\"}', '{\"LOWER\": \"suheila\"}'], ['{\"LOWER\": \"bani\"}', '{\"LOWER\": \"walid\"}'], ['{\"LOWER\": \"baniyas\"}'], ['{\"LOWER\": \"banja\"}', '{\"LOWER\": \"luka\"}'], ['{\"LOWER\": \"banjul\"}'], ['{\"LOWER\": \"bankya\"}'], ['{\"LOWER\": \"bannu\"}'], ['{\"LOWER\": \"banovci\"}', '{\"LOWER\": \",\"}', '{\"LOWER\": \"nijemci\"}'], ['{\"LOWER\": \"banpo\"}'], ['{\"LOWER\": \"bansko\"}'], ['{\"LOWER\": \"banská\"}', '{\"LOWER\": \"bystrica\"}'], ['{\"LOWER\": \"banting\"}'], ['{\"LOWER\": \"banwa\"}'], ['{\"LOWER\": \"banya\"}', '{\"LOWER\": \",\"}', '{\"LOWER\": \"plovdiv\"}', '{\"LOWER\": \"province\"}'], ['{\"LOWER\": \"banyo\"}', '{\"LOWER\": \",\"}', '{\"LOWER\": \"cameroon\"}'], ['{\"LOWER\": \"baqa\"}', '{\"LOWER\": \"jatt\"}'], ['{\"LOWER\": \"baqubah\"}'], ['{\"LOWER\": \"barabanki\"}'], ['{\"LOWER\": \"baracoa\"}'], ['{\"LOWER\": \"baraguá\"}'], ['{\"LOWER\": \"barahathawa\"}', '{\"LOWER\": \"municipality\"}'], ['{\"LOWER\": \"barahona\"}'], ['{\"LOWER\": \"baral\"}', '{\"LOWER\": \",\"}', '{\"LOWER\": \"pakistan\"}'], ['{\"LOWER\": \"baramulla\"}'], ['{\"LOWER\": \"baranów\"}', '{\"LOWER\": \"sandomierski\"}'], ['{\"LOWER\": \"barawa\"}'], ['{\"LOWER\": \"barbacena\"}'], ['{\"LOWER\": \"barbosa\"}', '{\"LOWER\": \",\"}', '{\"LOWER\": \"são\"}', '{\"LOWER\": \"paulo\"}'], ['{\"LOWER\": \"barcelona\"}'], ['{\"LOWER\": \"barcin\"}'], ['{\"LOWER\": \"barczewo\"}'], ['{\"LOWER\": \"barda\"}'], ['{\"LOWER\": \"bardaï\"}', '{\"LOWER\": \",\"}', '{\"LOWER\": \"chad\"}'], ['{\"LOWER\": \"bardhere\"}'], ['{\"LOWER\": \"bardia\"}'], ['{\"LOWER\": \"bardo\"}'], ['{\"LOWER\": \"bareilly\"}'], ['{\"LOWER\": \"barentsburg\"}'], ['{\"LOWER\": \"barentu\"}', '{\"LOWER\": \",\"}', '{\"LOWER\": \"eritrea\"}'], ['{\"LOWER\": \"bareq\"}'], ['{\"LOWER\": \"bargny\"}'], ['{\"LOWER\": \"bari\"}'], ['{\"LOWER\": \"bariadi\"}'], ['{\"LOWER\": \"bariloche\"}'], ['{\"LOWER\": \"barinas\"}'], ['{\"LOWER\": \"bariri\"}'], ['{\"LOWER\": \"baris\"}'], ['{\"LOWER\": \"barisal\"}'], ['{\"LOWER\": \"barlinek\"}'], ['{\"LOWER\": \"barnala\"}'], ['{\"LOWER\": \"barndaké\"}'], ['{\"LOWER\": \"barquisimeto\"}'], ['{\"LOWER\": \"barra\"}', '{\"LOWER\": \"bonita\"}'], ['{\"LOWER\": \"barra\"}', '{\"LOWER\": \"do\"}', '{\"LOWER\": \"chapéu\"}'], ['{\"LOWER\": \"barra\"}', '{\"LOWER\": \"do\"}', '{\"LOWER\": \"turvo\"}'], ['{\"LOWER\": \"barranca\"}'], ['{\"LOWER\": \"barranqueras\"}'], ['{\"LOWER\": \"barranquilla\"}'], ['{\"LOWER\": \"barretos\"}'], ['{\"LOWER\": \"barrie\"}'], ['{\"LOWER\": \"barrinha\"}'], ['{\"LOWER\": \"barros\"}', '{\"LOWER\": \"blancos\"}'], ['{\"LOWER\": \"barsinghausen\"}'], ['{\"LOWER\": \"bartica\"}'], ['{\"LOWER\": \"bartın\"}'], ['{\"LOWER\": \"barueri\"}'], ['{\"LOWER\": \"baruun\"}', '{\"LOWER\": \"urt\"}'], ['{\"LOWER\": \"barwani\"}'], ['{\"LOWER\": \"barwice\"}'], ['{\"LOWER\": \"barão\"}', '{\"LOWER\": \"de\"}', '{\"LOWER\": \"antonina\"}'], ['{\"LOWER\": \"basail\"}'], ['{\"LOWER\": \"basankusu\"}'], ['{\"LOWER\": \"basarabeasca\"}'], ['{\"LOWER\": \"basoko\"}'], ['{\"LOWER\": \"bassar\"}'], ['{\"LOWER\": \"basseterre\"}'], ['{\"LOWER\": \"basti\"}', '{\"LOWER\": \"islamabad\"}'], ['{\"LOWER\": \"bastos\"}'], ['{\"LOWER\": \"basyoun\"}'], ['{\"LOWER\": \"bat\"}', '{\"LOWER\": \"yam\"}'], ['{\"LOWER\": \"bata\"}'], ['{\"LOWER\": \"batak\"}'], ['{\"LOWER\": \"batalik\"}'], ['{\"LOWER\": \"batallas\"}'], ['{\"LOWER\": \"batatais\"}'], ['{\"LOWER\": \"bath\"}'], ['{\"LOWER\": \"bathinda\"}'], ['{\"LOWER\": \"bathurst\"}'], ['{\"LOWER\": \"bati\"}'], ['{\"LOWER\": \"batken\"}'], ['{\"LOWER\": \"batman\"}'], ['{\"LOWER\": \"batna\"}'], ['{\"LOWER\": \"batouri\"}'], ['{\"LOWER\": \"battambang\"}'], ['{\"LOWER\": \"batu\"}'], ['{\"LOWER\": \"batumi\"}'], ['{\"LOWER\": \"baucau\"}'], ['{\"LOWER\": \"bauchi\"}'], ['{\"LOWER\": \"baures\"}'], ['{\"LOWER\": \"bauru\"}'], ['{\"LOWER\": \"bauta\"}'], ['{\"LOWER\": \"bawiti\"}'], ['{\"LOWER\": \"bayamo\"}'], ['{\"LOWER\": \"bayankhongor\"}'], ['{\"LOWER\": \"bayat\"}'], ['{\"LOWER\": \"bayburt\"}'], ['{\"LOWER\": \"bayt\"}', '{\"LOWER\": \"al\"}', '{\"LOWER\": \"faqih\"}'], ['{\"LOWER\": \"baños\"}', '{\"LOWER\": \"de\"}', '{\"LOWER\": \"agua\"}', '{\"LOWER\": \"santa\"}'], ['{\"LOWER\": \"bački\"}', '{\"LOWER\": \"petrovac\"}'], ['{\"LOWER\": \"beaumont\"}'], ['{\"LOWER\": \"bebedouro\"}'], ['{\"LOWER\": \"beda\"}', '{\"LOWER\": \"fomm\"}'], ['{\"LOWER\": \"bedessa\"}'], ['{\"LOWER\": \"beed\"}'], ['{\"LOWER\": \"beersheba\"}'], ['{\"LOWER\": \"begíjar\"}'], ['{\"LOWER\": \"beica\"}'], ['{\"LOWER\": \"beiguozhuang\"}'], ['{\"LOWER\": \"beijing\"}'], ['{\"LOWER\": \"beilul\"}'], ['{\"LOWER\": \"beira\"}'], ['{\"LOWER\": \"beit\"}', '{\"LOWER\": \"hanoun\"}'], ['{\"LOWER\": \"beit\"}', '{\"LOWER\": \"jala\"}'], ['{\"LOWER\": \"beit\"}', '{\"LOWER\": \"lahia\"}'], ['{\"LOWER\": \"beit\"}', '{\"LOWER\": \"sahour\"}'], ['{\"LOWER\": \"beit\"}', '{\"LOWER\": \"she\\'an\"}'], ['{\"LOWER\": \"beit\"}', '{\"LOWER\": \"shemesh\"}'], ['{\"LOWER\": \"beitbridge\"}'], ['{\"LOWER\": \"beitunia\"}'], ['{\"LOWER\": \"bekabad\"}'], ['{\"LOWER\": \"bekbele\"}'], ['{\"LOWER\": \"bekoji\"}'], ['{\"LOWER\": \"bela\"}', '{\"LOWER\": \"palanka\"}'], ['{\"LOWER\": \"beldibi\"}'], ['{\"LOWER\": \"beledweyne\"}'], ['{\"LOWER\": \"belen\"}'], ['{\"LOWER\": \"belene\"}'], ['{\"LOWER\": \"belfast\"}'], ['{\"LOWER\": \"belgaum\"}'], ['{\"LOWER\": \"belgrade\"}'], ['{\"LOWER\": \"belize\"}', '{\"LOWER\": \"city\"}'], ['{\"LOWER\": \"bell\"}', '{\"LOWER\": \"ville\"}'], ['{\"LOWER\": \"bella\"}', '{\"LOWER\": \"unión\"}'], ['{\"LOWER\": \"bella\"}', '{\"LOWER\": \"vista\"}'], ['{\"LOWER\": \"bella\"}', '{\"LOWER\": \"vista\"}', '{\"LOWER\": \",\"}', '{\"LOWER\": \"corrientes\"}'], ['{\"LOWER\": \"bellavista\"}'], ['{\"LOWER\": \"belmopan\"}'], ['{\"LOWER\": \"belo\"}', '{\"LOWER\": \"horizonte\"}'], ['{\"LOWER\": \"beloozyorsky\"}'], ['{\"LOWER\": \"beloretsk\"}'], ['{\"LOWER\": \"belovo\"}'], ['{\"LOWER\": \"belsh\"}'], ['{\"LOWER\": \"beltinci\"}'], ['{\"LOWER\": \"belén\"}', '{\"LOWER\": \"de\"}', '{\"LOWER\": \"escobar\"}'], ['{\"LOWER\": \"bembla\"}'], ['{\"LOWER\": \"ben\"}', '{\"LOWER\": \"ahmed\"}'], ['{\"LOWER\": \"ben\"}', '{\"LOWER\": \"slimane\"}'], ['{\"LOWER\": \"benalla\"}'], ['{\"LOWER\": \"bender\"}'], ['{\"LOWER\": \"bendigo\"}'], ['{\"LOWER\": \"bengal\"}', '{\"LOWER\": \"vinto\"}'], ['{\"LOWER\": \"benghazi\"}'], ['{\"LOWER\": \"benguela\"}'], ['{\"LOWER\": \"beni\"}', '{\"LOWER\": \"ansar\"}', '{\"LOWER\": \"/\"}', '{\"LOWER\": \"aït\"}', '{\"LOWER\": \"nsar\"}'], ['{\"LOWER\": \"beni\"}', '{\"LOWER\": \"mazar\"}'], ['{\"LOWER\": \"beni\"}', '{\"LOWER\": \"suef\"}'], ['{\"LOWER\": \"beniane\"}'], ['{\"LOWER\": \"benidorm\"}'], ['{\"LOWER\": \"benin\"}', '{\"LOWER\": \"city\"}'], ['{\"LOWER\": \"bennane\"}'], ['{\"LOWER\": \"benoy\"}'], ['{\"LOWER\": \"benque\"}', '{\"LOWER\": \"viejo\"}', '{\"LOWER\": \"del\"}', '{\"LOWER\": \"carmen\"}'], ['{\"LOWER\": \"bento\"}', '{\"LOWER\": \"de\"}', '{\"LOWER\": \"abreu\"}'], ['{\"LOWER\": \"beramba\"}', '{\"LOWER\": \",\"}', '{\"LOWER\": \"madagascar\"}'], ['{\"LOWER\": \"berane\"}'], ['{\"LOWER\": \"berat\"}'], ['{\"LOWER\": \"berbera\"}'], ['{\"LOWER\": \"berbérati\"}'], ['{\"LOWER\": \"berenice\"}', '{\"LOWER\": \"epideires\"}'], ['{\"LOWER\": \"berenice\"}', '{\"LOWER\": \"panchrysos\"}'], ['{\"LOWER\": \"bergamo\"}'], ['{\"LOWER\": \"bergen\"}'], ['{\"LOWER\": \"berisso\"}'], ['{\"LOWER\": \"berlin\"}'], ['{\"LOWER\": \"bernal\"}'], ['{\"LOWER\": \"bernardino\"}', '{\"LOWER\": \"de\"}', '{\"LOWER\": \"campos\"}'], ['{\"LOWER\": \"berovo\"}'], ['{\"LOWER\": \"berrechid\"}'], ['{\"LOWER\": \"bertioga\"}'], ['{\"LOWER\": \"bertoua\"}'], ['{\"LOWER\": \"besa\"}'], ['{\"LOWER\": \"best\"}'], ['{\"LOWER\": \"bethlehem\"}'], ['{\"LOWER\": \"beylagan\"}'], ['{\"LOWER\": \"beypazarı\"}'], ['{\"LOWER\": \"bełżyce\"}'], ['{\"LOWER\": \"bhaba\"}', '{\"LOWER\": \"nagar\"}'], ['{\"LOWER\": \"bhadrapur\"}'], ['{\"LOWER\": \"bhagalpur\"}'], ['{\"LOWER\": \"bhairab\"}', '{\"LOWER\": \"bāzār\"}'], ['{\"LOWER\": \"bhakkar\"}'], ['{\"LOWER\": \"bhamo\"}'], ['{\"LOWER\": \"bhavnagar\"}'], ['{\"LOWER\": \"bhawana\"}'], ['{\"LOWER\": \"bhilai\"}'], ['{\"LOWER\": \"bhilwara\"}'], ['{\"LOWER\": \"bhiria\"}', '{\"LOWER\": \"road\"}'], ['{\"LOWER\": \"bhiwandi\"}'], ['{\"LOWER\": \"bhiwani\"}'], ['{\"LOWER\": \"bhubaneswar\"}'], ['{\"LOWER\": \"biankouma\"}'], ['{\"LOWER\": \"biała\"}'], ['{\"LOWER\": \"biała\"}', '{\"LOWER\": \"piska\"}'], ['{\"LOWER\": \"biała\"}', '{\"LOWER\": \"podlaska\"}'], ['{\"LOWER\": \"biała\"}', '{\"LOWER\": \"rawska\"}'], ['{\"LOWER\": \"białobrzegi\"}'], ['{\"LOWER\": \"biały\"}', '{\"LOWER\": \"bór\"}'], ['{\"LOWER\": \"białystok\"}'], ['{\"LOWER\": \"biba\"}', '{\"LOWER\": \",\"}', '{\"LOWER\": \"egypt\"}'], ['{\"LOWER\": \"bichena\"}'], ['{\"LOWER\": \"bid\"}'], ['{\"LOWER\": \"bidjabidjan\"}'], ['{\"LOWER\": \"bidor\"}'], ['{\"LOWER\": \"bidur\"}'], ['{\"LOWER\": \"biecz\"}'], ['{\"LOWER\": \"biella\"}'], ['{\"LOWER\": \"bielsko\"}', '{\"LOWER\": \"biała\"}'], ['{\"LOWER\": \"bierutów\"}'], ['{\"LOWER\": \"bieżuń\"}'], ['{\"LOWER\": \"bignona\"}'], ['{\"LOWER\": \"bihać\"}'], ['{\"LOWER\": \"bijapur\"}'], ['{\"LOWER\": \"bijeljina\"}'], ['{\"LOWER\": \"bijelo\"}', '{\"LOWER\": \"polje\"}'], ['{\"LOWER\": \"bikaner\"}'], ['{\"LOWER\": \"bilac\"}'], ['{\"LOWER\": \"bilara\"}'], ['{\"LOWER\": \"bilaspur\"}', '{\"LOWER\": \",\"}', '{\"LOWER\": \"chhattisgarh\"}'], ['{\"LOWER\": \"bilbao\"}'], ['{\"LOWER\": \"bilbeis\"}'], ['{\"LOWER\": \"bilecik\"}'], ['{\"LOWER\": \"bilene\"}'], ['{\"LOWER\": \"biltine\"}'], ['{\"LOWER\": \"biləsuvar\"}'], ['{\"LOWER\": \"bimbo\"}'], ['{\"LOWER\": \"bindura\"}'], ['{\"LOWER\": \"bingerville\"}'], ['{\"LOWER\": \"bingöl\"}'], ['{\"LOWER\": \"biograd\"}', '{\"LOWER\": \"na\"}', '{\"LOWER\": \"moru\"}'], ['{\"LOWER\": \"bir\"}', '{\"LOWER\": \"lehlou\"}'], ['{\"LOWER\": \"bir\"}', '{\"LOWER\": \"salah\"}'], ['{\"LOWER\": \"bire\"}', '{\"LOWER\": \"akkar\"}'], ['{\"LOWER\": \"birendranagar\"}'], ['{\"LOWER\": \"bireuen\"}'], ['{\"LOWER\": \"birigüi\"}'], ['{\"LOWER\": \"biritiba\"}', '{\"LOWER\": \"mirim\"}'], ['{\"LOWER\": \"birkerød\"}'], ['{\"LOWER\": \"birkirkara\"}'], ['{\"LOWER\": \"birán\"}'], ['{\"LOWER\": \"birštonas\"}'], ['{\"LOWER\": \"bishoftu\"}'], ['{\"LOWER\": \"biskra\"}'], ['{\"LOWER\": \"biskupiec\"}'], ['{\"LOWER\": \"bissau\"}'], ['{\"LOWER\": \"bissorã\"}'], ['{\"LOWER\": \"bisztynek\"}'], ['{\"LOWER\": \"bitez\"}'], ['{\"LOWER\": \"bitlis\"}'], ['{\"LOWER\": \"bitola\"}'], ['{\"LOWER\": \"bizya\"}'], ['{\"LOWER\": \"blachownia\"}'], ['{\"LOWER\": \"black\"}', '{\"LOWER\": \"river\"}'], ['{\"LOWER\": \"blagaj\"}', '{\"LOWER\": \"japra\"}'], ['{\"LOWER\": \"blagoevgrad\"}'], ['{\"LOWER\": \"blankaartkasteel\"}'], ['{\"LOWER\": \"blantyre\"}'], ['{\"LOWER\": \"bled\"}'], ['{\"LOWER\": \"blida\"}'], ['{\"LOWER\": \"blitta\"}'], ['{\"LOWER\": \"bloemfontein\"}'], ['{\"LOWER\": \"bluefields\"}'], ['{\"LOWER\": \"blönduós\"}'], ['{\"LOWER\": \"bnei\"}', '{\"LOWER\": \"brak\"}'], ['{\"LOWER\": \"bni\"}', '{\"LOWER\": \"drar\"}'], ['{\"LOWER\": \"bo\"}'], ['{\"LOWER\": \"boa\"}', '{\"LOWER\": \"esperança\"}', '{\"LOWER\": \"do\"}', '{\"LOWER\": \"sul\"}'], ['{\"LOWER\": \"boaco\"}'], ['{\"LOWER\": \"bobo\"}', '{\"LOWER\": \"dioulasso\"}'], ['{\"LOWER\": \"bobolice\"}'], ['{\"LOWER\": \"bobonong\"}'], ['{\"LOWER\": \"boboshevo\"}'], ['{\"LOWER\": \"bobov\"}', '{\"LOWER\": \"dol\"}'], ['{\"LOWER\": \"bobowa\"}'], ['{\"LOWER\": \"bocaina\"}'], ['{\"LOWER\": \"bocas\"}', '{\"LOWER\": \"town\"}', '{\"LOWER\": \",\"}', '{\"LOWER\": \"bocas\"}', '{\"LOWER\": \"del\"}', '{\"LOWER\": \"toro\"}'], ['{\"LOWER\": \"bockum\"}', '{\"LOWER\": \"hövel\"}'], ['{\"LOWER\": \"bodzentyn\"}'], ['{\"LOWER\": \"bodø\"}'], ['{\"LOWER\": \"bofete\"}'], ['{\"LOWER\": \"bogatynia\"}'], ['{\"LOWER\": \"bogo\"}'], ['{\"LOWER\": \"boguchwała\"}'], ['{\"LOWER\": \"bohechío\"}'], ['{\"LOWER\": \"boituva\"}'], ['{\"LOWER\": \"bojanowo\"}'], ['{\"LOWER\": \"bokhtar\"}'], ['{\"LOWER\": \"bol\"}'], ['{\"LOWER\": \"bola\"}', '{\"LOWER\": \"shareef\"}'], ['{\"LOWER\": \"bolama\"}'], ['{\"LOWER\": \"bolax\"}', '{\"LOWER\": \"(\"}', '{\"LOWER\": \"elis\"}', '{\"LOWER\": \")\"}'], ['{\"LOWER\": \"bolbe\"}'], ['{\"LOWER\": \"bolgatanga\"}'], ['{\"LOWER\": \"bolków\"}'], ['{\"LOWER\": \"bollineni\"}', '{\"LOWER\": \"hillside\"}'], ['{\"LOWER\": \"bolnisi\"}'], ['{\"LOWER\": \"bolo\"}', '{\"LOWER\": \",\"}', '{\"LOWER\": \"ethiopia\"}'], ['{\"LOWER\": \"bologna\"}'], ['{\"LOWER\": \"bolsward\"}'], ['{\"LOWER\": \"bolu\"}'], ['{\"LOWER\": \"bolungarvík\"}'], ['{\"LOWER\": \"bolívar\"}'], ['{\"LOWER\": \"bom\"}', '{\"LOWER\": \"jesus\"}', '{\"LOWER\": \"dos\"}', '{\"LOWER\": \"perdões\"}'], ['{\"LOWER\": \"bom\"}', '{\"LOWER\": \"sucesso\"}', '{\"LOWER\": \"de\"}', '{\"LOWER\": \"itararé\"}'], ['{\"LOWER\": \"boma\"}'], ['{\"LOWER\": \"bomassa\"}'], ['{\"LOWER\": \"bondoukou\"}'], ['{\"LOWER\": \"bonga\"}'], ['{\"LOWER\": \"bongor\"}'], ['{\"LOWER\": \"bongoville\"}'], ['{\"LOWER\": \"bonthe\"}'], ['{\"LOWER\": \"bor\"}'], ['{\"LOWER\": \"bor\"}', '{\"LOWER\": \"öndör\"}'], ['{\"LOWER\": \"boraceia\"}'], ['{\"LOWER\": \"borama\"}'], ['{\"LOWER\": \"borborema\"}'], ['{\"LOWER\": \"bordj\"}', '{\"LOWER\": \"bou\"}', '{\"LOWER\": \"arréridj\"}'], ['{\"LOWER\": \"borebi\"}'], ['{\"LOWER\": \"borek\"}', '{\"LOWER\": \"wielkopolski\"}'], ['{\"LOWER\": \"borg\"}', '{\"LOWER\": \"el\"}', '{\"LOWER\": \"arab\"}'], ['{\"LOWER\": \"borgarnes\"}'], ['{\"LOWER\": \"borj\"}', '{\"LOWER\": \"cédria\"}'], ['{\"LOWER\": \"borjomi\"}'], ['{\"LOWER\": \"borken\"}'], ['{\"LOWER\": \"borne\"}', '{\"LOWER\": \"sulinowo\"}'], ['{\"LOWER\": \"borovnica\"}'], ['{\"LOWER\": \"borriana\"}'], ['{\"LOWER\": \"boryza\"}'], ['{\"LOWER\": \"borá\"}'], ['{\"LOWER\": \"bosra\"}'], ['{\"LOWER\": \"bossangoa\"}'], ['{\"LOWER\": \"botevgrad\"}'], ['{\"LOWER\": \"botucatu\"}'], ['{\"LOWER\": \"bou\"}', '{\"LOWER\": \"omrane\"}'], ['{\"LOWER\": \"bouaanan\"}'], ['{\"LOWER\": \"bouaflé\"}'], ['{\"LOWER\": \"bouar\"}'], ['{\"LOWER\": \"boujad\"}'], ['{\"LOWER\": \"boujdour\"}'], ['{\"LOWER\": \"bouknadel\"}'], ['{\"LOWER\": \"boulogne\"}', '{\"LOWER\": \"sur\"}', '{\"LOWER\": \"mer\"}'], ['{\"LOWER\": \"boumalne\"}', '{\"LOWER\": \"dades\"}'], ['{\"LOWER\": \"boumerdès\"}'], ['{\"LOWER\": \"bouna\"}'], ['{\"LOWER\": \"boundiali\"}'], ['{\"LOWER\": \"boundji\"}'], ['{\"LOWER\": \"bouneima\"}'], ['{\"LOWER\": \"bounkiling\"}'], ['{\"LOWER\": \"bouroum\"}', '{\"LOWER\": \"bouroum\"}'], ['{\"LOWER\": \"bouskoura\"}'], ['{\"LOWER\": \"bousso\"}'], ['{\"LOWER\": \"bouïra\"}'], ['{\"LOWER\": \"bovec\"}'], ['{\"LOWER\": \"bowen\"}'], ['{\"LOWER\": \"boychinovtsi\"}'], ['{\"LOWER\": \"boyuibe\"}'], ['{\"LOWER\": \"bozoum\"}'], ['{\"LOWER\": \"bradford\"}'], ['{\"LOWER\": \"bragado\"}'], ['{\"LOWER\": \"bragança\"}', '{\"LOWER\": \"paulista\"}'], ['{\"LOWER\": \"brahmanbaria\"}'], ['{\"LOWER\": \"brak\"}'], ['{\"LOWER\": \"brampton\"}'], ['{\"LOWER\": \"brandon\"}'], ['{\"LOWER\": \"bratislava\"}'], ['{\"LOWER\": \"braunau\"}', '{\"LOWER\": \"am\"}', '{\"LOWER\": \"inn\"}'], ['{\"LOWER\": \"brazzaville\"}'], ['{\"LOWER\": \"braúna\"}'], ['{\"LOWER\": \"brecon\"}'], ['{\"LOWER\": \"breda\"}'], ['{\"LOWER\": \"brega\"}'], ['{\"LOWER\": \"bregbo\"}'], ['{\"LOWER\": \"bregenz\"}'], ['{\"LOWER\": \"bregovo\"}'], ['{\"LOWER\": \"brejo\"}', '{\"LOWER\": \"alegre\"}'], ['{\"LOWER\": \"brejo\"}', '{\"LOWER\": \"do\"}', '{\"LOWER\": \"cruz\"}'], ['{\"LOWER\": \"brekstad\"}'], ['{\"LOWER\": \"bremen\"}'], ['{\"LOWER\": \"brescia\"}'], ['{\"LOWER\": \"breznik\"}'], ['{\"LOWER\": \"brezovo\"}'], ['{\"LOWER\": \"brežice\"}'], ['{\"LOWER\": \"bria\"}'], ['{\"LOWER\": \"briceni\"}'], ['{\"LOWER\": \"bridgetown\"}'], ['{\"LOWER\": \"brighton\"}', '{\"LOWER\": \"and\"}', '{\"LOWER\": \"hove\"}'], ['{\"LOWER\": \"brinkmann\"}'], ['{\"LOWER\": \"brisbane\"}'], ['{\"LOWER\": \"bristol\"}'], ['{\"LOWER\": \"brixia\"}'], ['{\"LOWER\": \"brodowski\"}'], ['{\"LOWER\": \"brok\"}'], ['{\"LOWER\": \"broken\"}', '{\"LOWER\": \"hill\"}'], ['{\"LOWER\": \"brotas\"}'], ['{\"LOWER\": \"brown\"}', '{\"LOWER\": \"\\'s\"}', '{\"LOWER\": \"town\"}'], ['{\"LOWER\": \"brugge\"}'], ['{\"LOWER\": \"brus\"}', '{\"LOWER\": \"laguna\"}'], ['{\"LOWER\": \"brussels\"}'], ['{\"LOWER\": \"brusy\"}'], ['{\"LOWER\": \"bruzual\"}'], ['{\"LOWER\": \"brwinów\"}'], ['{\"LOWER\": \"brzeg\"}', '{\"LOWER\": \"dolny\"}'], ['{\"LOWER\": \"brzesko\"}'], ['{\"LOWER\": \"brzeszcze\"}'], ['{\"LOWER\": \"brześć\"}', '{\"LOWER\": \"kujawski\"}'], ['{\"LOWER\": \"brzostek\"}'], ['{\"LOWER\": \"brzozów\"}'], ['{\"LOWER\": \"brønshøj\"}'], ['{\"LOWER\": \"brühl\"}'], ['{\"LOWER\": \"bu\\'ale\"}'], ['{\"LOWER\": \"buari\"}'], ['{\"LOWER\": \"buba\"}'], ['{\"LOWER\": \"bubanza\"}'], ['{\"LOWER\": \"bucak\"}'], ['{\"LOWER\": \"buchanan\"}'], ['{\"LOWER\": \"buda\"}'], ['{\"LOWER\": \"budanilkantha\"}'], ['{\"LOWER\": \"budva\"}'], ['{\"LOWER\": \"buea\"}'], ['{\"LOWER\": \"buena\"}', '{\"LOWER\": \"fe\"}'], ['{\"LOWER\": \"buena\"}', '{\"LOWER\": \"vista\"}'], ['{\"LOWER\": \"buenos\"}', '{\"LOWER\": \"aires\"}'], ['{\"LOWER\": \"buey\"}', '{\"LOWER\": \"arriba\"}'], ['{\"LOWER\": \"buhovo\"}'], ['{\"LOWER\": \"buin\"}', '{\"LOWER\": \",\"}', '{\"LOWER\": \"papua\"}', '{\"LOWER\": \"new\"}', '{\"LOWER\": \"guinea\"}'], ['{\"LOWER\": \"bujumbura\"}'], ['{\"LOWER\": \"buk\"}'], ['{\"LOWER\": \"buka\"}'], ['{\"LOWER\": \"bukama\"}'], ['{\"LOWER\": \"bukhara\"}'], ['{\"LOWER\": \"bukit\"}', '{\"LOWER\": \"baru\"}'], ['{\"LOWER\": \"bukit\"}', '{\"LOWER\": \"pasir\"}'], ['{\"LOWER\": \"bukoba\"}'], ['{\"LOWER\": \"bukwa\"}'], ['{\"LOWER\": \"bulawayo\"}'], ['{\"LOWER\": \"bulayev\"}'], ['{\"LOWER\": \"bulgan\"}'], ['{\"LOWER\": \"bulqizë\"}'], ['{\"LOWER\": \"bumba\"}'], ['{\"LOWER\": \"bunagana\"}', '{\"LOWER\": \",\"}', '{\"LOWER\": \"democratic\"}', '{\"LOWER\": \"republic\"}', '{\"LOWER\": \"of\"}', '{\"LOWER\": \"the\"}', '{\"LOWER\": \"congo\"}'], ['{\"LOWER\": \"bunbury\"}'], ['{\"LOWER\": \"bundaberg\"}'], ['{\"LOWER\": \"bungoma\"}'], ['{\"LOWER\": \"buraan\"}'], ['{\"LOWER\": \"buraidah\"}'], ['{\"LOWER\": \"burao\"}'], ['{\"LOWER\": \"burdur\"}'], ['{\"LOWER\": \"bure\"}', '{\"LOWER\": \"(\"}', '{\"LOWER\": \"gojjam\"}', '{\"LOWER\": \")\"}', '{\"LOWER\": \",\"}', '{\"LOWER\": \"ethiopia\"}'], ['{\"LOWER\": \"burg\"}', '{\"LOWER\": \"stargard\"}'], ['{\"LOWER\": \"burga\"}'], ['{\"LOWER\": \"burgas\"}'], ['{\"LOWER\": \"burgos\"}'], ['{\"LOWER\": \"buri\"}', '{\"LOWER\": \",\"}', '{\"LOWER\": \"são\"}', '{\"LOWER\": \"paulo\"}'], ['{\"LOWER\": \"buritama\"}'], ['{\"LOWER\": \"buritizal\"}'], ['{\"LOWER\": \"burlington\"}'], ['{\"LOWER\": \"burnaby\"}'], ['{\"LOWER\": \"burnie\"}'], ['{\"LOWER\": \"burrel\"}'], ['{\"LOWER\": \"bursa\"}'], ['{\"LOWER\": \"burton\"}'], ['{\"LOWER\": \"bururi\"}'], ['{\"LOWER\": \"burutu\"}'], ['{\"LOWER\": \"burzaco\"}'], ['{\"LOWER\": \"busia\"}'], ['{\"LOWER\": \"busko\"}', '{\"LOWER\": \"zdrój\"}'], ['{\"LOWER\": \"busselton\"}'], ['{\"LOWER\": \"busto\"}', '{\"LOWER\": \"arsizio\"}'], ['{\"LOWER\": \"buta\"}'], ['{\"LOWER\": \"butajira\"}'], ['{\"LOWER\": \"butare\"}'], ['{\"LOWER\": \"butembo\"}'], ['{\"LOWER\": \"butere\"}'], ['{\"LOWER\": \"butha\"}', '{\"LOWER\": \"buthe\"}'], ['{\"LOWER\": \"buzema\"}'], ['{\"LOWER\": \"byala\"}', '{\"LOWER\": \"slatina\"}'], ['{\"LOWER\": \"byala\"}', '{\"LOWER\": \",\"}', '{\"LOWER\": \"ruse\"}', '{\"LOWER\": \"province\"}'], ['{\"LOWER\": \"byala\"}', '{\"LOWER\": \",\"}', '{\"LOWER\": \"varna\"}', '{\"LOWER\": \"province\"}'], ['{\"LOWER\": \"byas\"}'], ['{\"LOWER\": \"byblos\"}'], ['{\"LOWER\": \"bychawa\"}'], ['{\"LOWER\": \"byczyna\"}'], ['{\"LOWER\": \"bydgoszcz\"}'], ['{\"LOWER\": \"bystrzyca\"}', '{\"LOWER\": \"kłodzka\"}'], ['{\"LOWER\": \"bytom\"}'], ['{\"LOWER\": \"bytom\"}', '{\"LOWER\": \"odrzański\"}'], ['{\"LOWER\": \"bytów\"}'], ['{\"LOWER\": \"byumba\"}'], ['{\"LOWER\": \"byzantium\"}'], ['{\"LOWER\": \"bádonfa\"}'], ['{\"LOWER\": \"báguanos\"}'], ['{\"LOWER\": \"bálsamo\"}'], ['{\"LOWER\": \"béccar\"}'], ['{\"LOWER\": \"bédy\"}', '{\"LOWER\": \"goazon\"}'], ['{\"LOWER\": \"bélabo\"}'], ['{\"LOWER\": \"bétou\"}'], ['{\"LOWER\": \"béziers\"}'], ['{\"LOWER\": \"bíldudalur\"}'], ['{\"LOWER\": \"búðardalur\"}'], ['{\"LOWER\": \"büren\"}'], ['{\"LOWER\": \"büyükyoncalı\"}'], ['{\"LOWER\": \"bălți\"}'], ['{\"LOWER\": \"błaszki\"}'], ['{\"LOWER\": \"błażowa\"}'], ['{\"LOWER\": \"błonie\"}'], ['{\"LOWER\": \"caaguazú\"}', '{\"LOWER\": \"district\"}'], ['{\"LOWER\": \"caballococha\"}'], ['{\"LOWER\": \"cabana\"}'], ['{\"LOWER\": \"cabezas\"}'], ['{\"LOWER\": \"cabimas\"}'], ['{\"LOWER\": \"cabinda\"}'], ['{\"LOWER\": \"cabo\"}', '{\"LOWER\": \"de\"}', '{\"LOWER\": \"santo\"}', '{\"LOWER\": \"agostinho\"}'], ['{\"LOWER\": \"cabo\"}', '{\"LOWER\": \"frio\"}'], ['{\"LOWER\": \"cabo\"}', '{\"LOWER\": \"san\"}', '{\"LOWER\": \"lucas\"}'], ['{\"LOWER\": \"cabreúva\"}'], ['{\"LOWER\": \"cabrália\"}', '{\"LOWER\": \"paulista\"}'], ['{\"LOWER\": \"cabudare\"}'], ['{\"LOWER\": \"cacheu\"}'], ['{\"LOWER\": \"cachoeira\"}', '{\"LOWER\": \"paulista\"}'], ['{\"LOWER\": \"cacocum\"}'], ['{\"LOWER\": \"caconde\"}'], ['{\"LOWER\": \"cafelândia\"}'], ['{\"LOWER\": \"cagua\"}'], ['{\"LOWER\": \"cahul\"}'], ['{\"LOWER\": \"caia\"}', '{\"LOWER\": \",\"}', '{\"LOWER\": \"mozambique\"}'], ['{\"LOWER\": \"caiabu\"}'], ['{\"LOWER\": \"caibarién\"}'], ['{\"LOWER\": \"caieiras\"}'], ['{\"LOWER\": \"caimanera\"}'], ['{\"LOWER\": \"caimito\"}'], ['{\"LOWER\": \"cairns\"}'], ['{\"LOWER\": \"caiuá\"}'], ['{\"LOWER\": \"cajabamba\"}'], ['{\"LOWER\": \"cajamar\"}'], ['{\"LOWER\": \"cajamarca\"}'], ['{\"LOWER\": \"cajatambo\"}'], ['{\"LOWER\": \"cajati\"}'], ['{\"LOWER\": \"cajobi\"}'], ['{\"LOWER\": \"cajuru\"}'], ['{\"LOWER\": \"cala\"}', '{\"LOWER\": \"cala\"}'], ['{\"LOWER\": \"calabar\"}'], ['{\"LOWER\": \"calabasa\"}'], ['{\"LOWER\": \"calabozo\"}'], ['{\"LOWER\": \"calais\"}'], ['{\"LOWER\": \"calca\"}'], ['{\"LOWER\": \"caleta\"}', '{\"LOWER\": \"olivia\"}'], ['{\"LOWER\": \"calgary\"}'], ['{\"LOWER\": \"cali\"}'], ['{\"LOWER\": \"calimete\"}'], ['{\"LOWER\": \"calixto\"}', '{\"LOWER\": \"garcía\"}'], ['{\"LOWER\": \"callao\"}'], ['{\"LOWER\": \"calulo\"}'], ['{\"LOWER\": \"calvar\"}'], ['{\"LOWER\": \"camagüey\"}'], ['{\"LOWER\": \"camaná\"}'], ['{\"LOWER\": \"camargo\"}'], ['{\"LOWER\": \"cambridge\"}'], ['{\"LOWER\": \"camenca\"}'], ['{\"LOWER\": \"camiri\"}'], ['{\"LOWER\": \"campana\"}'], ['{\"LOWER\": \"campanero\"}'], ['{\"LOWER\": \"campbell\"}', '{\"LOWER\": \"river\"}'], ['{\"LOWER\": \"campbelltown\"}'], ['{\"LOWER\": \"campeche\"}'], ['{\"LOWER\": \"campechuela\"}'], ['{\"LOWER\": \"campina\"}', '{\"LOWER\": \"do\"}', '{\"LOWER\": \"monte\"}', '{\"LOWER\": \"alegre\"}'], ['{\"LOWER\": \"campina\"}', '{\"LOWER\": \"grande\"}'], ['{\"LOWER\": \"campinas\"}'], ['{\"LOWER\": \"campo\"}'], ['{\"LOWER\": \"campo\"}', '{\"LOWER\": \"limpo\"}', '{\"LOWER\": \"paulista\"}'], ['{\"LOWER\": \"campos\"}', '{\"LOWER\": \"do\"}', '{\"LOWER\": \"jordão\"}'], ['{\"LOWER\": \"campos\"}', '{\"LOWER\": \"novos\"}', '{\"LOWER\": \"paulista\"}'], ['{\"LOWER\": \"cananea\"}'], ['{\"LOWER\": \"cananéia\"}'], ['{\"LOWER\": \"canas\"}', '{\"LOWER\": \",\"}', '{\"LOWER\": \"são\"}', '{\"LOWER\": \"paulo\"}'], ['{\"LOWER\": \"canberra\"}'], ['{\"LOWER\": \"canchungo\"}'], ['{\"LOWER\": \"cancún\"}'], ['{\"LOWER\": \"candarave\"}'], ['{\"LOWER\": \"candelaria\"}'], ['{\"LOWER\": \"cangallo\"}'], ['{\"LOWER\": \"canitar\"}'], ['{\"LOWER\": \"cankuzo\"}'], ['{\"LOWER\": \"cannes\"}'], ['{\"LOWER\": \"canta\"}'], ['{\"LOWER\": \"cantaura\"}'], ['{\"LOWER\": \"canterbury\"}'], ['{\"LOWER\": \"cap\"}', '{\"LOWER\": \"haïtien\"}'], ['{\"LOWER\": \"cap\"}', '{\"LOWER\": \"malheureux\"}'], ['{\"LOWER\": \"capacho\"}', '{\"LOWER\": \"viejo\"}'], ['{\"LOWER\": \"capela\"}', '{\"LOWER\": \"do\"}', '{\"LOWER\": \"alto\"}'], ['{\"LOWER\": \"capilla\"}', '{\"LOWER\": \"del\"}', '{\"LOWER\": \"monte\"}'], ['{\"LOWER\": \"capivari\"}'], ['{\"LOWER\": \"capão\"}', '{\"LOWER\": \"bonito\"}'], ['{\"LOWER\": \"caracas\"}'], ['{\"LOWER\": \"caraguatatuba\"}'], ['{\"LOWER\": \"caranavi\"}'], ['{\"LOWER\": \"carapicuíba\"}'], ['{\"LOWER\": \"caravaca\"}', '{\"LOWER\": \"de\"}', '{\"LOWER\": \"la\"}', '{\"LOWER\": \"cruz\"}'], ['{\"LOWER\": \"caravelí\"}'], ['{\"LOWER\": \"caraz\"}'], ['{\"LOWER\": \"cardona\"}'], ['{\"LOWER\": \"cardoso\"}', '{\"LOWER\": \",\"}', '{\"LOWER\": \"são\"}', '{\"LOWER\": \"paulo\"}'], ['{\"LOWER\": \"carhuaz\"}'], ['{\"LOWER\": \"caripe\"}'], ['{\"LOWER\": \"caripito\"}'], ['{\"LOWER\": \"carlisle\"}'], ['{\"LOWER\": \"carlos\"}', '{\"LOWER\": \"manuel\"}', '{\"LOWER\": \"de\"}', '{\"LOWER\": \"céspedes\"}'], ['{\"LOWER\": \"carlos\"}', '{\"LOWER\": \"spegazzini\"}'], ['{\"LOWER\": \"carmel\"}', '{\"LOWER\": \"city\"}'], ['{\"LOWER\": \"carmelo\"}'], ['{\"LOWER\": \"carmona\"}'], ['{\"LOWER\": \"carnot\"}'], ['{\"LOWER\": \"carnuntum\"}'], ['{\"LOWER\": \"carora\"}'], ['{\"LOWER\": \"carrefour\"}'], ['{\"LOWER\": \"carrickmacross\"}'], ['{\"LOWER\": \"cartagena\"}'], ['{\"LOWER\": \"cartago\"}'], ['{\"LOWER\": \"carúpano\"}'], ['{\"LOWER\": \"casa\"}', '{\"LOWER\": \"branca\"}'], ['{\"LOWER\": \"casablanca\"}'], ['{\"LOWER\": \"cascante\"}'], ['{\"LOWER\": \"cascas\"}'], ['{\"LOWER\": \"caseros\"}'], ['{\"LOWER\": \"caserta\"}'], ['{\"LOWER\": \"casilda\"}'], ['{\"LOWER\": \"casma\"}'], ['{\"LOWER\": \"castelar\"}'], ['{\"LOWER\": \"castellammare\"}', '{\"LOWER\": \"di\"}', '{\"LOWER\": \"stabia\"}'], ['{\"LOWER\": \"castelló\"}', '{\"LOWER\": \"de\"}', '{\"LOWER\": \"la\"}', '{\"LOWER\": \"plana\"}'], ['{\"LOWER\": \"castilho\"}'], ['{\"LOWER\": \"castillos\"}'], ['{\"LOWER\": \"castlemaine\"}'], ['{\"LOWER\": \"castries\"}'], ['{\"LOWER\": \"castro\"}', '{\"LOWER\": \"urdiales\"}'], ['{\"LOWER\": \"catacamas\"}'], ['{\"LOWER\": \"catacaos\"}'], ['{\"LOWER\": \"catala\"}'], ['{\"LOWER\": \"cataluña\"}'], ['{\"LOWER\": \"catalão\"}'], ['{\"LOWER\": \"catamayo\"}'], ['{\"LOWER\": \"catandica\"}'], ['{\"LOWER\": \"catanduva\"}'], ['{\"LOWER\": \"catania\"}'], ['{\"LOWER\": \"catanzaro\"}'], ['{\"LOWER\": \"cataviña\"}'], ['{\"LOWER\": \"catia\"}', '{\"LOWER\": \"la\"}', '{\"LOWER\": \"mar\"}'], ['{\"LOWER\": \"catiguá\"}'], ['{\"LOWER\": \"catió\"}'], ['{\"LOWER\": \"catlin\"}', '{\"LOWER\": \",\"}', '{\"LOWER\": \"new\"}', '{\"LOWER\": \"york\"}'], ['{\"LOWER\": \"caucaia\"}', '{\"LOWER\": \"do\"}', '{\"LOWER\": \"alto\"}'], ['{\"LOWER\": \"caucete\"}'], ['{\"LOWER\": \"cauto\"}', '{\"LOWER\": \"cristo\"}'], ['{\"LOWER\": \"caxito\"}'], ['{\"LOWER\": \"cayambe\"}'], ['{\"LOWER\": \"cazin\"}'], ['{\"LOWER\": \"caçapava\"}'], ['{\"LOWER\": \"cañada\"}', '{\"LOWER\": \"de\"}', '{\"LOWER\": \"gómez\"}'], ['{\"LOWER\": \"ceadîr\"}', '{\"LOWER\": \"lunga\"}'], ['{\"LOWER\": \"cedral\"}'], ['{\"LOWER\": \"cedros\"}', '{\"LOWER\": \",\"}', '{\"LOWER\": \"francisco\"}', '{\"LOWER\": \"morazán\"}'], ['{\"LOWER\": \"cedynia\"}'], ['{\"LOWER\": \"celaenae\"}'], ['{\"LOWER\": \"celendín\"}'], ['{\"LOWER\": \"celje\"}'], ['{\"LOWER\": \"centre\"}', '{\"LOWER\": \"de\"}', '{\"LOWER\": \"flacq\"}'], ['{\"LOWER\": \"ceres\"}'], ['{\"LOWER\": \"cerknica\"}'], ['{\"LOWER\": \"cerqueira\"}', '{\"LOWER\": \"césar\"}'], ['{\"LOWER\": \"cerquilho\"}'], ['{\"LOWER\": \"cerrillos\"}'], ['{\"LOWER\": \"cerro\"}', '{\"LOWER\": \"chato\"}'], ['{\"LOWER\": \"cerro\"}', '{\"LOWER\": \"de\"}', '{\"LOWER\": \"pasco\"}'], ['{\"LOWER\": \"cessnock\"}'], ['{\"LOWER\": \"cestrina\"}'], ['{\"LOWER\": \"cesário\"}', '{\"LOWER\": \"lange\"}'], ['{\"LOWER\": \"cetinje\"}'], ['{\"LOWER\": \"ceyhan\"}'], ['{\"LOWER\": \"chabahil\"}'], ['{\"LOWER\": \"chacas\"}'], ['{\"LOWER\": \"chachapoyas\"}'], ['{\"LOWER\": \"chagai\"}', '{\"LOWER\": \",\"}', '{\"LOWER\": \"pakistan\"}'], ['{\"LOWER\": \"chaghcharan\"}'], ['{\"LOWER\": \"chagni\"}'], ['{\"LOWER\": \"chaguanas\"}'], ['{\"LOWER\": \"chajarí\"}'], ['{\"LOWER\": \"chakwal\"}'], ['{\"LOWER\": \"chalco\"}', '{\"LOWER\": \"de\"}', '{\"LOWER\": \"díaz\"}', '{\"LOWER\": \"covarrubias\"}'], ['{\"LOWER\": \"chalhuanca\"}'], ['{\"LOWER\": \"chalkida\"}'], ['{\"LOWER\": \"challapata\"}'], ['{\"LOWER\": \"chamanki\"}'], ['{\"LOWER\": \"chambas\"}'], ['{\"LOWER\": \"chamchamal\"}'], ['{\"LOWER\": \"champigny\"}', '{\"LOWER\": \"sur\"}', '{\"LOWER\": \"marne\"}'], ['{\"LOWER\": \"chancay\"}'], ['{\"LOWER\": \"chandpur\"}'], ['{\"LOWER\": \"chandragiri\"}', '{\"LOWER\": \"municipality\"}'], ['{\"LOWER\": \"chandrapur\"}'], ['{\"LOWER\": \"chane\"}', '{\"LOWER\": \"independencia\"}'], ['{\"LOWER\": \"changchun\"}'], ['{\"LOWER\": \"changhua\"}', '{\"LOWER\": \"city\"}'], ['{\"LOWER\": \"changwon\"}'], ['{\"LOWER\": \"chania\"}'], ['{\"LOWER\": \"chapala\"}'], ['{\"LOWER\": \"charagua\"}'], ['{\"LOWER\": \"charallave\"}'], ['{\"LOWER\": \"charikot\"}'], ['{\"LOWER\": \"charleroi\"}'], ['{\"LOWER\": \"charlottetown\"}'], ['{\"LOWER\": \"charqueada\"}'], ['{\"LOWER\": \"chatham\"}', '{\"LOWER\": \"kent\"}'], ['{\"LOWER\": \"chavantes\"}'], ['{\"LOWER\": \"chavuma\"}'], ['{\"LOWER\": \"chavín\"}', '{\"LOWER\": \"de\"}', '{\"LOWER\": \"huántar\"}'], ['{\"LOWER\": \"chbar\"}', '{\"LOWER\": \"ampéou\"}'], ['{\"LOWER\": \"chefchaouen\"}'], ['{\"LOWER\": \"chelmsford\"}'], ['{\"LOWER\": \"chengdu\"}'], ['{\"LOWER\": \"chennai\"}'], ['{\"LOWER\": \"cheonan\"}'], ['{\"LOWER\": \"chepén\"}'], ['{\"LOWER\": \"chernomorets\"}'], ['{\"LOWER\": \"chester\"}'], ['{\"LOWER\": \"chetumal\"}'], ['{\"LOWER\": \"cheyenne\"}'], ['{\"LOWER\": \"chełm\"}'], ['{\"LOWER\": \"chełmek\"}'], ['{\"LOWER\": \"chhanera\"}'], ['{\"LOWER\": \"chhaya\"}'], ['{\"LOWER\": \"chhoti\"}', '{\"LOWER\": \"sadri\"}'], ['{\"LOWER\": \"chia\"}'], ['{\"LOWER\": \"chiatura\"}'], ['{\"LOWER\": \"chiautempan\"}'], ['{\"LOWER\": \"chiayi\"}', '{\"LOWER\": \"city\"}'], ['{\"LOWER\": \"chibombo\"}'], ['{\"LOWER\": \"chibuto\"}'], ['{\"LOWER\": \"chichester\"}'], ['{\"LOWER\": \"chiclayo\"}'], ['{\"LOWER\": \"chicualacuala\"}'], ['{\"LOWER\": \"chihuahua\"}'], ['{\"LOWER\": \"chikwawa\"}'], ['{\"LOWER\": \"chilca\"}', '{\"LOWER\": \",\"}', '{\"LOWER\": \"cañete\"}'], ['{\"LOWER\": \"chilecito\"}'], ['{\"LOWER\": \"chililabombwe\"}'], ['{\"LOWER\": \"chilliwack\"}'], ['{\"LOWER\": \"chimbote\"}'], ['{\"LOWER\": \"chimoio\"}'], ['{\"LOWER\": \"chimoré\"}'], ['{\"LOWER\": \"chinandega\"}'], ['{\"LOWER\": \"chincha\"}', '{\"LOWER\": \"alta\"}'], ['{\"LOWER\": \"chincheros\"}'], ['{\"LOWER\": \"chinde\"}'], ['{\"LOWER\": \"chinderi\"}'], ['{\"LOWER\": \"chingola\"}'], ['{\"LOWER\": \"chinhoyi\"}'], ['{\"LOWER\": \"chiniot\"}'], ['{\"LOWER\": \"chios\"}'], ['{\"LOWER\": \"chipata\"}'], ['{\"LOWER\": \"chipoka\"}'], ['{\"LOWER\": \"chiprovtsi\"}'], ['{\"LOWER\": \"chiquián\"}'], ['{\"LOWER\": \"chiradzulu\"}'], ['{\"LOWER\": \"chirchiq\"}'], ['{\"LOWER\": \"chitipa\"}'], ['{\"LOWER\": \"chitré\"}'], ['{\"LOWER\": \"chittagong\"}'], ['{\"LOWER\": \"chivacoa\"}'], ['{\"LOWER\": \"chivay\"}'], ['{\"LOWER\": \"chivhu\"}'], ['{\"LOWER\": \"chivilcoy\"}'], ['{\"LOWER\": \"chișinău\"}'], ['{\"LOWER\": \"chkalovsk\"}'], ['{\"LOWER\": \"chlef\"}'], ['{\"LOWER\": \"chmielnik\"}'], ['{\"LOWER\": \"chocianów\"}'], ['{\"LOWER\": \"chociwel\"}'], ['{\"LOWER\": \"chocz\"}'], ['{\"LOWER\": \"chodecz\"}'], ['{\"LOWER\": \"choibalsan\"}'], ['{\"LOWER\": \"chojna\"}'], ['{\"LOWER\": \"chokwe\"}'], ['{\"LOWER\": \"cholet\"}'], ['{\"LOWER\": \"cholpon\"}', '{\"LOWER\": \"ata\"}'], ['{\"LOWER\": \"choluteca\"}'], ['{\"LOWER\": \"chomutov\"}'], ['{\"LOWER\": \"chone\"}'], ['{\"LOWER\": \"chongqing\"}'], ['{\"LOWER\": \"choni\"}'], ['{\"LOWER\": \"choroszcz\"}'], ['{\"LOWER\": \"chortoq\"}'], ['{\"LOWER\": \"chorzele\"}'], ['{\"LOWER\": \"chorzów\"}'], ['{\"LOWER\": \"choszczno\"}'], ['{\"LOWER\": \"chota\"}'], ['{\"LOWER\": \"christchurch\"}'], ['{\"LOWER\": \"christiana\"}'], ['{\"LOWER\": \"christiania\"}'], ['{\"LOWER\": \"chrzanów\"}'], ['{\"LOWER\": \"chu\"}', '{\"LOWER\": \"lai\"}'], ['{\"LOWER\": \"chulucanas\"}'], ['{\"LOWER\": \"chulumani\"}'], ['{\"LOWER\": \"chupaca\"}'], ['{\"LOWER\": \"chuquibamba\"}'], ['{\"LOWER\": \"chuquibambilla\"}'], ['{\"LOWER\": \"chuy\"}'], ['{\"LOWER\": \"chęciny\"}'], ['{\"LOWER\": \"ciechanowiec\"}'], ['{\"LOWER\": \"ciego\"}', '{\"LOWER\": \"de\"}', '{\"LOWER\": \"ávila\"}'], ['{\"LOWER\": \"cienfuegos\"}'], ['{\"LOWER\": \"cieszanów\"}'], ['{\"LOWER\": \"cikarang\"}'], ['{\"LOWER\": \"cimișlia\"}'], ['{\"LOWER\": \"cinco\"}', '{\"LOWER\": \"saltos\"}'], ['{\"LOWER\": \"cipolletti\"}'], ['{\"LOWER\": \"ciro\"}', '{\"LOWER\": \"redondo\"}'], ['{\"LOWER\": \"city\"}', '{\"LOWER\": \"of\"}', '{\"LOWER\": \"griffith\"}'], ['{\"LOWER\": \"city\"}', '{\"LOWER\": \"of\"}', '{\"LOWER\": \"london\"}'], ['{\"LOWER\": \"city\"}', '{\"LOWER\": \"of\"}', '{\"LOWER\": \"zenica\"}'], ['{\"LOWER\": \"ciudad\"}', '{\"LOWER\": \"bolívar\"}'], ['{\"LOWER\": \"ciudad\"}', '{\"LOWER\": \"cuauhtémoc\"}'], ['{\"LOWER\": \"ciudad\"}', '{\"LOWER\": \"de\"}', '{\"LOWER\": \"ancud\"}'], ['{\"LOWER\": \"ciudad\"}', '{\"LOWER\": \"de\"}', '{\"LOWER\": \"chiautla\"}', '{\"LOWER\": \"de\"}', '{\"LOWER\": \"tapia\"}'], ['{\"LOWER\": \"ciudad\"}', '{\"LOWER\": \"de\"}', '{\"LOWER\": \"la\"}', '{\"LOWER\": \"costa\"}'], ['{\"LOWER\": \"ciudad\"}', '{\"LOWER\": \"del\"}', '{\"LOWER\": \"carmen\"}'], ['{\"LOWER\": \"ciudad\"}', '{\"LOWER\": \"del\"}', '{\"LOWER\": \"este\"}'], ['{\"LOWER\": \"ciudad\"}', '{\"LOWER\": \"evita\"}'], ['{\"LOWER\": \"ciudad\"}', '{\"LOWER\": \"guayana\"}'], ['{\"LOWER\": \"ciudad\"}', '{\"LOWER\": \"jardín\"}', '{\"LOWER\": \"el\"}', '{\"LOWER\": \"libertador\"}'], ['{\"LOWER\": \"ciudad\"}', '{\"LOWER\": \"madero\"}', '{\"LOWER\": \",\"}', '{\"LOWER\": \"buenos\"}', '{\"LOWER\": \"aires\"}'], ['{\"LOWER\": \"ciudad\"}', '{\"LOWER\": \"nezahualcóyotl\"}'], ['{\"LOWER\": \"ciudad\"}', '{\"LOWER\": \"nicolás\"}', '{\"LOWER\": \"romero\"}'], ['{\"LOWER\": \"ciudad\"}', '{\"LOWER\": \"ojeda\"}'], ['{\"LOWER\": \"ciudad\"}', '{\"LOWER\": \"real\"}'], ['{\"LOWER\": \"ciudad\"}', '{\"LOWER\": \"rodrigo\"}'], ['{\"LOWER\": \"ciudad\"}', '{\"LOWER\": \"tecún\"}', '{\"LOWER\": \"umán\"}'], ['{\"LOWER\": \"ciężkowice\"}'], ['{\"LOWER\": \"clairmont\"}'], ['{\"LOWER\": \"clarence\"}', '{\"LOWER\": \"rockland\"}'], ['{\"LOWER\": \"clarines\"}'], ['{\"LOWER\": \"clarkston\"}', '{\"LOWER\": \"village\"}', '{\"LOWER\": \"historic\"}', '{\"LOWER\": \"district\"}'], ['{\"LOWER\": \"clausthal\"}'], ['{\"LOWER\": \"claypole\"}', '{\"LOWER\": \",\"}', '{\"LOWER\": \"buenos\"}', '{\"LOWER\": \"aires\"}'], ['{\"LOWER\": \"clementina\"}'], ['{\"LOWER\": \"cliza\"}'], ['{\"LOWER\": \"coatzacoalcos\"}'], ['{\"LOWER\": \"cobh\"}'], ['{\"LOWER\": \"cobija\"}'], ['{\"LOWER\": \"cobue\"}'], ['{\"LOWER\": \"cochabamba\"}'], ['{\"LOWER\": \"cochrane\"}'], ['{\"LOWER\": \"coffs\"}', '{\"LOWER\": \"harbour\"}'], ['{\"LOWER\": \"cofradia\"}'], ['{\"LOWER\": \"cogo\"}'], ['{\"LOWER\": \"coihueco\"}'], ['{\"LOWER\": \"coimbatore\"}'], ['{\"LOWER\": \"cojedes\"}'], ['{\"LOWER\": \"colac\"}'], ['{\"LOWER\": \"colcapirhua\"}'], ['{\"LOWER\": \"cold\"}', '{\"LOWER\": \"lake\"}'], ['{\"LOWER\": \"colima\"}'], ['{\"LOWER\": \"colina\"}'], ['{\"LOWER\": \"collana\"}'], ['{\"LOWER\": \"colombes\"}'], ['{\"LOWER\": \"colombia\"}'], ['{\"LOWER\": \"colombo\"}'], ['{\"LOWER\": \"colomi\"}'], ['{\"LOWER\": \"colonia\"}', '{\"LOWER\": \"del\"}', '{\"LOWER\": \"sacramento\"}'], ['{\"LOWER\": \"colonia\"}', '{\"LOWER\": \"del\"}', '{\"LOWER\": \"sol\"}'], ['{\"LOWER\": \"colonia\"}', '{\"LOWER\": \"nicolich\"}'], ['{\"LOWER\": \"colquencha\"}'], ['{\"LOWER\": \"colquiri\"}'], ['{\"LOWER\": \"columbus\"}'], ['{\"LOWER\": \"colón\"}'], ['{\"LOWER\": \"colômbia\"}'], ['{\"LOWER\": \"comana\"}'], ['{\"LOWER\": \"comana\"}', '{\"LOWER\": \"pontica\"}'], ['{\"LOWER\": \"comarapa\"}'], ['{\"LOWER\": \"comayagua\"}'], ['{\"LOWER\": \"comayaguela\"}'], ['{\"LOWER\": \"como\"}'], ['{\"LOWER\": \"comodoro\"}', '{\"LOWER\": \"rivadavia\"}'], ['{\"LOWER\": \"complutum\"}'], ['{\"LOWER\": \"compsa\"}'], ['{\"LOWER\": \"comrat\"}'], ['{\"LOWER\": \"conakry\"}'], ['{\"LOWER\": \"concepción\"}'], ['{\"LOWER\": \"concepción\"}', '{\"LOWER\": \"del\"}', '{\"LOWER\": \"uruguay\"}'], ['{\"LOWER\": \"concepción\"}', '{\"LOWER\": \",\"}', '{\"LOWER\": \"santa\"}', '{\"LOWER\": \"cruz\"}'], ['{\"LOWER\": \"concepción\"}', '{\"LOWER\": \",\"}', '{\"LOWER\": \"tucumán\"}'], ['{\"LOWER\": \"conchal\"}'], ['{\"LOWER\": \"conchas\"}'], ['{\"LOWER\": \"concordia\"}'], ['{\"LOWER\": \"constantine\"}'], ['{\"LOWER\": \"constantinople\"}'], ['{\"LOWER\": \"constanța\"}'], ['{\"LOWER\": \"contamana\"}'], ['{\"LOWER\": \"contumazá\"}'], ['{\"LOWER\": \"coolidge\"}'], ['{\"LOWER\": \"coquitlam\"}'], ['{\"LOWER\": \"coracora\"}'], ['{\"LOWER\": \"coral\"}', '{\"LOWER\": \"harbour\"}'], ['{\"LOWER\": \"coranza\"}'], ['{\"LOWER\": \"cordeirópolis\"}'], ['{\"LOWER\": \"cordero\"}'], ['{\"LOWER\": \"corella\"}'], ['{\"LOWER\": \"corfu\"}'], ['{\"LOWER\": \"coria\"}', '{\"LOWER\": \",\"}', '{\"LOWER\": \"cáceres\"}'], ['{\"LOWER\": \"corinth\"}'], ['{\"LOWER\": \"corinto\"}'], ['{\"LOWER\": \"coripata\"}'], ['{\"LOWER\": \"cork\"}'], ['{\"LOWER\": \"corner\"}', '{\"LOWER\": \"brook\"}'], ['{\"LOWER\": \"cornwall\"}'], ['{\"LOWER\": \"coro\"}'], ['{\"LOWER\": \"coroados\"}'], ['{\"LOWER\": \"coronel\"}', '{\"LOWER\": \"macedo\"}'], ['{\"LOWER\": \"coronel\"}', '{\"LOWER\": \"suárez\"}'], ['{\"LOWER\": \"corongo\"}'], ['{\"LOWER\": \"corozal\"}', '{\"LOWER\": \"town\"}'], ['{\"LOWER\": \"corrientes\"}'], ['{\"LOWER\": \"corriverton\"}'], ['{\"LOWER\": \"cortês\"}'], ['{\"LOWER\": \"corumbataí\"}'], ['{\"LOWER\": \"cos\"}', '{\"LOWER\": \"(\"}', '{\"LOWER\": \"city\"}', '{\"LOWER\": \")\"}'], ['{\"LOWER\": \"cosmorama\"}', '{\"LOWER\": \",\"}', '{\"LOWER\": \"são\"}', '{\"LOWER\": \"paulo\"}'], ['{\"LOWER\": \"cosmópolis\"}'], ['{\"LOWER\": \"cosquín\"}', '{\"LOWER\": \",\"}', '{\"LOWER\": \"córdoba\"}'], ['{\"LOWER\": \"cotacachi\"}'], ['{\"LOWER\": \"cotahuasi\"}'], ['{\"LOWER\": \"cotia\"}'], ['{\"LOWER\": \"cotoca\"}'], ['{\"LOWER\": \"cotuí\"}'], ['{\"LOWER\": \"county\"}', '{\"LOWER\": \"administered\"}', '{\"LOWER\": \"city\"}'], ['{\"LOWER\": \"courbevoie\"}'], ['{\"LOWER\": \"coventry\"}'], ['{\"LOWER\": \"coyuca\"}', '{\"LOWER\": \"de\"}', '{\"LOWER\": \"catalán\"}'], ['{\"LOWER\": \"cranbrook\"}'], ['{\"LOWER\": \"crasnoe\"}'], ['{\"LOWER\": \"crater\"}', '{\"LOWER\": \"district\"}'], ['{\"LOWER\": \"cravinhos\"}'], ['{\"LOWER\": \"cregneash\"}'], ['{\"LOWER\": \"crieff\"}'], ['{\"LOWER\": \"cristais\"}', '{\"LOWER\": \"paulista\"}'], ['{\"LOWER\": \"croix\"}', '{\"LOWER\": \"des\"}', '{\"LOWER\": \"bouquets\"}'], ['{\"LOWER\": \"cruces\"}'], ['{\"LOWER\": \"cruz\"}', '{\"LOWER\": \"del\"}', '{\"LOWER\": \"eje\"}'], ['{\"LOWER\": \"cruzeiro\"}', '{\"LOWER\": \",\"}', '{\"LOWER\": \"são\"}', '{\"LOWER\": \"paulo\"}'], ['{\"LOWER\": \"cruzália\"}'], ['{\"LOWER\": \"créteil\"}'], ['{\"LOWER\": \"cuamba\"}'], ['{\"LOWER\": \"cuatro\"}', '{\"LOWER\": \"cañadas\"}'], ['{\"LOWER\": \"cubatão\"}'], ['{\"LOWER\": \"cuenca\"}'], ['{\"LOWER\": \"cuevas\"}', '{\"LOWER\": \"del\"}', '{\"LOWER\": \"almanzora\"}'], ['{\"LOWER\": \"cuevo\"}'], ['{\"LOWER\": \"cuidad\"}', '{\"LOWER\": \"sin\"}', '{\"LOWER\": \"trabajo\"}'], ['{\"LOWER\": \"cumae\"}'], ['{\"LOWER\": \"cumanayagua\"}'], ['{\"LOWER\": \"cumaná\"}'], ['{\"LOWER\": \"cunha\"}'], ['{\"LOWER\": \"cupcini\"}'], ['{\"LOWER\": \"cupertino\"}'], ['{\"LOWER\": \"curitiba\"}'], ['{\"LOWER\": \"curuzú\"}', '{\"LOWER\": \"cuatiá\"}'], ['{\"LOWER\": \"cusae\"}'], ['{\"LOWER\": \"cusco\"}'], ['{\"LOWER\": \"cutha\"}'], ['{\"LOWER\": \"cutral\"}', '{\"LOWER\": \"có\"}'], ['{\"LOWER\": \"cuttack\"}'], ['{\"LOWER\": \"cyangugu\"}'], ['{\"LOWER\": \"cybinka\"}'], ['{\"LOWER\": \"cynocephalus\"}'], ['{\"LOWER\": \"czaplinek\"}'], ['{\"LOWER\": \"czarna\"}', '{\"LOWER\": \"białostocka\"}'], ['{\"LOWER\": \"czarne\"}'], ['{\"LOWER\": \"czchów\"}'], ['{\"LOWER\": \"czechowice\"}', '{\"LOWER\": \"dziedzice\"}'], ['{\"LOWER\": \"czempiń\"}'], ['{\"LOWER\": \"czerniejewo\"}'], ['{\"LOWER\": \"czersk\"}'], ['{\"LOWER\": \"czerwieńsk\"}'], ['{\"LOWER\": \"czerwionka\"}', '{\"LOWER\": \"leszczyny\"}'], ['{\"LOWER\": \"czerwińsk\"}', '{\"LOWER\": \"nad\"}', '{\"LOWER\": \"wisłą\"}'], ['{\"LOWER\": \"czyżew\"}'], ['{\"LOWER\": \"częstochowa\"}'], ['{\"LOWER\": \"człopa\"}'], ['{\"LOWER\": \"cáceres\"}'], ['{\"LOWER\": \"cádiz\"}'], ['{\"LOWER\": \"cárdenas\"}'], ['{\"LOWER\": \"cássia\"}', '{\"LOWER\": \"dos\"}', '{\"LOWER\": \"coqueiros\"}'], ['{\"LOWER\": \"cândido\"}', '{\"LOWER\": \"mota\"}'], ['{\"LOWER\": \"cândido\"}', '{\"LOWER\": \"rodrigues\"}'], ['{\"LOWER\": \"cërrik\"}'], ['{\"LOWER\": \"córdoba\"}'], ['{\"LOWER\": \"cúa\"}'], ['{\"LOWER\": \"cúcuta\"}'], ['{\"LOWER\": \"cúpira\"}'], ['{\"LOWER\": \"călărași\"}'], ['{\"LOWER\": \"căușeni\"}'], ['{\"LOWER\": \"cəbrayil\"}'], ['{\"LOWER\": \"cəlilabad\"}'], ['{\"LOWER\": \"cần\"}', '{\"LOWER\": \"thơ\"}'], ['{\"LOWER\": \"da\"}', '{\"LOWER\": \"nang\"}'], ['{\"LOWER\": \"dabakala\"}'], ['{\"LOWER\": \"dabola\"}'], ['{\"LOWER\": \"dabou\"}'], ['{\"LOWER\": \"dadegaon\"}'], ['{\"LOWER\": \"dadyal\"}'], ['{\"LOWER\": \"daga\"}', '{\"LOWER\": \"post\"}'], ['{\"LOWER\": \"dagana\"}', '{\"LOWER\": \",\"}', '{\"LOWER\": \"senegal\"}'], ['{\"LOWER\": \"dahra\"}'], ['{\"LOWER\": \"dahyan\"}'], ['{\"LOWER\": \"dakhla\"}'], ['{\"LOWER\": \"dakshinkali\"}'], ['{\"LOWER\": \"dalanzadgad\"}'], ['{\"LOWER\": \"daleszyce\"}'], ['{\"LOWER\": \"dalvík\"}'], ['{\"LOWER\": \"damanhur\"}'], ['{\"LOWER\": \"damascus\"}'], ['{\"LOWER\": \"damaturu\"}'], ['{\"LOWER\": \"damietta\"}'], ['{\"LOWER\": \"dandenong\"}'], ['{\"LOWER\": \"dangila\"}'], ['{\"LOWER\": \"dangriga\"}'], ['{\"LOWER\": \"danilovgrad\"}'], ['{\"LOWER\": \"danlí\"}'], ['{\"LOWER\": \"danyang\"}'], ['{\"LOWER\": \"danyor\"}'], ['{\"LOWER\": \"daphne\"}', '{\"LOWER\": \"near\"}', '{\"LOWER\": \"antioch\"}'], ['{\"LOWER\": \"dar\"}', '{\"LOWER\": \"el\"}', '{\"LOWER\": \"salam\"}'], ['{\"LOWER\": \"dar\"}', '{\"LOWER\": \"es\"}', '{\"LOWER\": \"salaam\"}'], ['{\"LOWER\": \"daraa\"}'], ['{\"LOWER\": \"darat\"}', '{\"LOWER\": \"izza\"}'], ['{\"LOWER\": \"daraw\"}'], ['{\"LOWER\": \"darayya\"}'], ['{\"LOWER\": \"darbhanga\"}'], ['{\"LOWER\": \"dargan\"}', '{\"LOWER\": \"ata\"}'], ['{\"LOWER\": \"darkhan\"}'], ['{\"LOWER\": \"daru\"}'], ['{\"LOWER\": \"darwin\"}'], ['{\"LOWER\": \"dasharathchanda\"}'], ['{\"LOWER\": \"daton\"}'], ['{\"LOWER\": \"daugai\"}'], ['{\"LOWER\": \"daugavpils\"}'], ['{\"LOWER\": \"daule\"}'], ['{\"LOWER\": \"dauphin\"}'], ['{\"LOWER\": \"daura\"}'], ['{\"LOWER\": \"david\"}'], ['{\"LOWER\": \"davlekanovo\"}'], ['{\"LOWER\": \"davutlar\"}'], ['{\"LOWER\": \"dawei\"}'], ['{\"LOWER\": \"dawson\"}', '{\"LOWER\": \"creek\"}'], ['{\"LOWER\": \"dayr\"}', '{\"LOWER\": \"hafir\"}'], ['{\"LOWER\": \"dazaifu\"}'], ['{\"LOWER\": \"daşkəsən\"}'], ['{\"LOWER\": \"daşoguz\"}'], ['{\"LOWER\": \"debar\"}'], ['{\"LOWER\": \"debarq\"}'], ['{\"LOWER\": \"debelets\"}'], ['{\"LOWER\": \"debrzno\"}'], ['{\"LOWER\": \"debundscha\"}'], ['{\"LOWER\": \"dediapada\"}'], ['{\"LOWER\": \"dedoplis\"}', '{\"LOWER\": \"tskaro\"}'], ['{\"LOWER\": \"deep\"}', '{\"LOWER\": \"creek\"}'], ['{\"LOWER\": \"dehradun\"}'], ['{\"LOWER\": \"deir\"}', '{\"LOWER\": \"al\"}', '{\"LOWER\": \"balah\"}'], ['{\"LOWER\": \"deir\"}', '{\"LOWER\": \"atiyah\"}'], ['{\"LOWER\": \"deir\"}', '{\"LOWER\": \"ez\"}', '{\"LOWER\": \"zor\"}'], ['{\"LOWER\": \"deir\"}', '{\"LOWER\": \"mawas\"}'], ['{\"LOWER\": \"dekemhare\"}'], ['{\"LOWER\": \"delft\"}'], ['{\"LOWER\": \"delmas\"}'], ['{\"LOWER\": \"dembecha\"}'], ['{\"LOWER\": \"dembi\"}', '{\"LOWER\": \"dollo\"}'], ['{\"LOWER\": \"dembo\"}'], ['{\"LOWER\": \"dembéni\"}'], ['{\"LOWER\": \"den\"}', '{\"LOWER\": \"helder\"}'], ['{\"LOWER\": \"dengel\"}', '{\"LOWER\": \"ber\"}'], ['{\"LOWER\": \"denizciler\"}'], ['{\"LOWER\": \"denizli\"}'], ['{\"LOWER\": \"denu\"}'], ['{\"LOWER\": \"deoghar\"}'], ['{\"LOWER\": \"dera\"}', '{\"LOWER\": \"allah\"}', '{\"LOWER\": \"yar\"}'], ['{\"LOWER\": \"dera\"}', '{\"LOWER\": \"ghazi\"}', '{\"LOWER\": \"khan\"}'], ['{\"LOWER\": \"derby\"}'], ['{\"LOWER\": \"derik\"}'], ['{\"LOWER\": \"derry\"}'], ['{\"LOWER\": \"desaguadero\"}'], ['{\"LOWER\": \"descalvado\"}'], ['{\"LOWER\": \"desouk\"}'], ['{\"LOWER\": \"dessie\"}'], ['{\"LOWER\": \"devarakonda\"}'], ['{\"LOWER\": \"deventer\"}'], ['{\"LOWER\": \"devonport\"}'], ['{\"LOWER\": \"devsar\"}'], ['{\"LOWER\": \"deán\"}', '{\"LOWER\": \"funes\"}'], ['{\"LOWER\": \"dečani\"}'], ['{\"LOWER\": \"dhahran\"}'], ['{\"LOWER\": \"dhaka\"}'], ['{\"LOWER\": \"dhamar\"}'], ['{\"LOWER\": \"dhanbad\"}'], ['{\"LOWER\": \"dhingana\"}', '{\"LOWER\": \"city\"}'], ['{\"LOWER\": \"dhlail\"}'], ['{\"LOWER\": \"dhule\"}'], ['{\"LOWER\": \"dhuluiya\"}'], ['{\"LOWER\": \"diadema\"}'], ['{\"LOWER\": \"diadochoupolis\"}'], ['{\"LOWER\": \"diamniadio\"}'], ['{\"LOWER\": \"diaobé\"}', '{\"LOWER\": \"kabendou\"}'], ['{\"LOWER\": \"dibrugarh\"}'], ['{\"LOWER\": \"diddeleng\"}'], ['{\"LOWER\": \"diego\"}', '{\"LOWER\": \"de\"}', '{\"LOWER\": \"alvear\"}'], ['{\"LOWER\": \"diekirch\"}'], ['{\"LOWER\": \"dieppe\"}'], ['{\"LOWER\": \"differdange\"}'], ['{\"LOWER\": \"digelu\"}'], ['{\"LOWER\": \"dikhil\"}'], ['{\"LOWER\": \"dili\"}'], ['{\"LOWER\": \"dilolo\"}'], ['{\"LOWER\": \"dimako\"}'], ['{\"LOWER\": \"dimitrovgrad\"}'], ['{\"LOWER\": \"dimona\"}'], ['{\"LOWER\": \"dina\"}'], ['{\"LOWER\": \"dinajpur\"}'], ['{\"LOWER\": \"dindigul\"}'], ['{\"LOWER\": \"dinga\"}'], ['{\"LOWER\": \"dinhabah\"}'], ['{\"LOWER\": \"diofior\"}'], ['{\"LOWER\": \"diosso\"}'], ['{\"LOWER\": \"diourbel\"}'], ['{\"LOWER\": \"dir\"}'], ['{\"LOWER\": \"dirce\"}', '{\"LOWER\": \"reis\"}'], ['{\"LOWER\": \"dire\"}', '{\"LOWER\": \"dawa\"}'], ['{\"LOWER\": \"diriamba\"}'], ['{\"LOWER\": \"diriyah\"}'], ['{\"LOWER\": \"dispur\"}'], ['{\"LOWER\": \"divinolândia\"}'], ['{\"LOWER\": \"divjakë\"}'], ['{\"LOWER\": \"divo\"}'], ['{\"LOWER\": \"divuma\"}'], ['{\"LOWER\": \"diyarbakır\"}'], ['{\"LOWER\": \"djambala\"}'], ['{\"LOWER\": \"djanet\"}'], ['{\"LOWER\": \"djelfa\"}'], ['{\"LOWER\": \"djibouti\"}'], ['{\"LOWER\": \"djoum\"}'], ['{\"LOWER\": \"dmanisi\"}'], ['{\"LOWER\": \"dnestrovsc\"}'], ['{\"LOWER\": \"doba\"}'], ['{\"LOWER\": \"dobanovci\"}'], ['{\"LOWER\": \"dobczyce\"}'], ['{\"LOWER\": \"dobiegniew\"}'], ['{\"LOWER\": \"doboj\"}'], ['{\"LOWER\": \"dobra\"}'], ['{\"LOWER\": \"dobra\"}', '{\"LOWER\": \",\"}', '{\"LOWER\": \"turek\"}', '{\"LOWER\": \"county\"}'], ['{\"LOWER\": \"dobrada\"}'], ['{\"LOWER\": \"dobre\"}', '{\"LOWER\": \"miasto\"}'], ['{\"LOWER\": \"dobrich\"}'], ['{\"LOWER\": \"dobrinishte\"}'], ['{\"LOWER\": \"dobrodzień\"}'], ['{\"LOWER\": \"dobrzany\"}'], ['{\"LOWER\": \"dobrzyca\"}'], ['{\"LOWER\": \"dobrzyń\"}', '{\"LOWER\": \"nad\"}', '{\"LOWER\": \"wisłą\"}'], ['{\"LOWER\": \"dock\"}', '{\"LOWER\": \"sud\"}'], ['{\"LOWER\": \"dodhara\"}', '{\"LOWER\": \"chandani\"}', '{\"LOWER\": \"municipality\"}'], ['{\"LOWER\": \"dodola\"}', '{\"LOWER\": \",\"}', '{\"LOWER\": \"ethiopia\"}'], ['{\"LOWER\": \"doetinchem\"}'], ['{\"LOWER\": \"dogbo\"}'], ['{\"LOWER\": \"dois\"}', '{\"LOWER\": \"córregos\"}'], ['{\"LOWER\": \"dokimeion\"}'], ['{\"LOWER\": \"dolcinópolis\"}'], ['{\"LOWER\": \"dolisie\"}'], ['{\"LOWER\": \"dolna\"}', '{\"LOWER\": \"oryahovitsa\"}'], ['{\"LOWER\": \"dolores\"}'], ['{\"LOWER\": \"dolsk\"}'], ['{\"LOWER\": \"domburg\"}'], ['{\"LOWER\": \"domžale\"}'], ['{\"LOWER\": \"don\"}', '{\"LOWER\": \"bosco\"}'], ['{\"LOWER\": \"don\"}', '{\"LOWER\": \"torcuato\"}'], ['{\"LOWER\": \"dondo\"}'], ['{\"LOWER\": \"dondușeni\"}'], ['{\"LOWER\": \"donegal\"}'], ['{\"LOWER\": \"dongargaon\"}', '{\"LOWER\": \",\"}', '{\"LOWER\": \"agar\"}', '{\"LOWER\": \"malwa\"}'], ['{\"LOWER\": \"dongola\"}'], ['{\"LOWER\": \"dongou\"}'], ['{\"LOWER\": \"donji\"}', '{\"LOWER\": \"milanovac\"}'], ['{\"LOWER\": \"donostia\"}', '{\"LOWER\": \"san\"}', '{\"LOWER\": \"sebastian\"}'], ['{\"LOWER\": \"dordrecht\"}'], ['{\"LOWER\": \"dostyk\"}'], ['{\"LOWER\": \"douala\"}'], ['{\"LOWER\": \"douma\"}'], ['{\"LOWER\": \"dourado\"}', '{\"LOWER\": \",\"}', '{\"LOWER\": \"são\"}', '{\"LOWER\": \"paulo\"}'], ['{\"LOWER\": \"dracena\"}'], ['{\"LOWER\": \"dragoman\"}'], ['{\"LOWER\": \"drama\"}'], ['{\"LOWER\": \"drargua\"}'], ['{\"LOWER\": \"dras\"}'], ['{\"LOWER\": \"dravograd\"}'], ['{\"LOWER\": \"drawno\"}'], ['{\"LOWER\": \"drawsko\"}', '{\"LOWER\": \"pomorskie\"}'], ['{\"LOWER\": \"drepana\"}'], ['{\"LOWER\": \"dresden\"}'], ['{\"LOWER\": \"drezdenko\"}'], ['{\"LOWER\": \"drobin\"}'], ['{\"LOWER\": \"drochia\"}'], ['{\"LOWER\": \"drogheda\"}'], ['{\"LOWER\": \"drohiczyn\"}'], ['{\"LOWER\": \"druskininkai\"}'], ['{\"LOWER\": \"dryden\"}'], ['{\"LOWER\": \"drzewica\"}'], ['{\"LOWER\": \"drøbak\"}'], ['{\"LOWER\": \"dschang\"}'], ['{\"LOWER\": \"duartina\"}'], ['{\"LOWER\": \"duba\"}'], ['{\"LOWER\": \"dubai\"}'], ['{\"LOWER\": \"dubbo\"}'], ['{\"LOWER\": \"dubăsari\"}'], ['{\"LOWER\": \"duhok\"}'], ['{\"LOWER\": \"dukla\"}'], ['{\"LOWER\": \"dumaria\"}'], ['{\"LOWER\": \"dumat\"}', '{\"LOWER\": \"al\"}', '{\"LOWER\": \"jandal\"}'], ['{\"LOWER\": \"dumont\"}'], ['{\"LOWER\": \"dunavarsány\"}'], ['{\"LOWER\": \"dundee\"}'], ['{\"LOWER\": \"dunedin\"}'], ['{\"LOWER\": \"dunkirk\"}'], ['{\"LOWER\": \"dunmurry\"}'], ['{\"LOWER\": \"dunmurry\"}', '{\"LOWER\": \"west\"}'], ['{\"LOWER\": \"dupnitsa\"}'], ['{\"LOWER\": \"duque\"}', '{\"LOWER\": \"de\"}', '{\"LOWER\": \"caxias\"}'], ['{\"LOWER\": \"dura\"}', '{\"LOWER\": \",\"}', '{\"LOWER\": \"hebron\"}'], ['{\"LOWER\": \"duraykish\"}'], ['{\"LOWER\": \"durazno\"}'], ['{\"LOWER\": \"durban\"}'], ['{\"LOWER\": \"durbete\"}'], ['{\"LOWER\": \"durg\"}'], ['{\"LOWER\": \"durgawati\"}'], ['{\"LOWER\": \"durham\"}'], ['{\"LOWER\": \"durlești\"}'], ['{\"LOWER\": \"durrës\"}'], ['{\"LOWER\": \"durán\"}', '{\"LOWER\": \",\"}', '{\"LOWER\": \"ecuador\"}'], ['{\"LOWER\": \"dusetos\"}'], ['{\"LOWER\": \"dushanbe\"}'], ['{\"LOWER\": \"dusheti\"}'], ['{\"LOWER\": \"dusmareb\"}'], ['{\"LOWER\": \"duékoué\"}'], ['{\"LOWER\": \"dvin\"}'], ['{\"LOWER\": \"dzerzhinsk\"}'], ['{\"LOWER\": \"dzhebel\"}'], ['{\"LOWER\": \"działoszyce\"}'], ['{\"LOWER\": \"działoszyn\"}'], ['{\"LOWER\": \"dzierzgoń\"}'], ['{\"LOWER\": \"dziwnów\"}'], ['{\"LOWER\": \"dédougou\"}'], ['{\"LOWER\": \"dédé\"}', '{\"LOWER\": \"makouba\"}'], ['{\"LOWER\": \"düzce\"}'], ['{\"LOWER\": \"dąbie\"}', '{\"LOWER\": \",\"}', '{\"LOWER\": \"greater\"}', '{\"LOWER\": \"poland\"}', '{\"LOWER\": \"voivodeship\"}'], ['{\"LOWER\": \"dąbrowa\"}', '{\"LOWER\": \"białostocka\"}'], ['{\"LOWER\": \"dąbrowa\"}', '{\"LOWER\": \"górnicza\"}'], ['{\"LOWER\": \"dąbrowa\"}', '{\"LOWER\": \"tarnowska\"}'], ['{\"LOWER\": \"dębno\"}'], ['{\"LOWER\": \"děčín\"}'], ['{\"LOWER\": \"dūkštas\"}'], ['{\"LOWER\": \"dəliməmmədli\"}'], ['{\"LOWER\": \"east\"}', '{\"LOWER\": \"hidd\"}', '{\"LOWER\": \"city\"}'], ['{\"LOWER\": \"east\"}', '{\"LOWER\": \"london\"}'], ['{\"LOWER\": \"ebebiyín\"}'], ['{\"LOWER\": \"ecbatana\"}'], ['{\"LOWER\": \"eceabat\"}'], ['{\"LOWER\": \"echaporã\"}'], ['{\"LOWER\": \"echternach\"}'], ['{\"LOWER\": \"edappadi\"}'], ['{\"LOWER\": \"edd\"}'], ['{\"LOWER\": \"edessa\"}'], ['{\"LOWER\": \"edfu\"}'], ['{\"LOWER\": \"edinburgh\"}'], ['{\"LOWER\": \"edineț\"}'], ['{\"LOWER\": \"edirne\"}'], ['{\"LOWER\": \"edmonton\"}'], ['{\"LOWER\": \"edéa\"}'], ['{\"LOWER\": \"eenhana\"}'], ['{\"LOWER\": \"effon\"}', '{\"LOWER\": \"alaiye\"}'], ['{\"LOWER\": \"egaña\"}'], ['{\"LOWER\": \"egilsstaðir\"}'], ['{\"LOWER\": \"eglon\"}', '{\"LOWER\": \",\"}', '{\"LOWER\": \"canaan\"}'], ['{\"LOWER\": \"eibar\"}'], ['{\"LOWER\": \"ejido\"}'], ['{\"LOWER\": \"ejido\"}', '{\"LOWER\": \"mochis\"}'], ['{\"LOWER\": \"ekenäs\"}'], ['{\"LOWER\": \"ekibastuz\"}'], ['{\"LOWER\": \"ekwendeni\"}'], ['{\"LOWER\": \"el\"}', '{\"LOWER\": \"agheila\"}'], ['{\"LOWER\": \"el\"}', '{\"LOWER\": \"aioun\"}', '{\"LOWER\": \"sidi\"}', '{\"LOWER\": \"mellouk\"}'], ['{\"LOWER\": \"el\"}', '{\"LOWER\": \"alamein\"}'], ['{\"LOWER\": \"el\"}', '{\"LOWER\": \"alto\"}'], ['{\"LOWER\": \"el\"}', '{\"LOWER\": \"badari\"}'], ['{\"LOWER\": \"el\"}', '{\"LOWER\": \"bahnasa\"}'], ['{\"LOWER\": \"el\"}', '{\"LOWER\": \"balyana\"}'], ['{\"LOWER\": \"el\"}', '{\"LOWER\": \"bayyada\"}'], ['{\"LOWER\": \"el\"}', '{\"LOWER\": \"carmen\"}', '{\"LOWER\": \"(\"}', '{\"LOWER\": \"ecuador\"}', '{\"LOWER\": \")\"}'], ['{\"LOWER\": \"el\"}', '{\"LOWER\": \"carmen\"}', '{\"LOWER\": \"(\"}', '{\"LOWER\": \"santa\"}', '{\"LOWER\": \"cruz\"}', '{\"LOWER\": \")\"}'], ['{\"LOWER\": \"el\"}', '{\"LOWER\": \"carrizo\"}'], ['{\"LOWER\": \"el\"}', '{\"LOWER\": \"consejo\"}'], ['{\"LOWER\": \"el\"}', '{\"LOWER\": \"empalme\"}'], ['{\"LOWER\": \"el\"}', '{\"LOWER\": \"hiba\"}'], ['{\"LOWER\": \"el\"}', '{\"LOWER\": \"jadida\"}'], ['{\"LOWER\": \"el\"}', '{\"LOWER\": \"kantara\"}'], ['{\"LOWER\": \"el\"}', '{\"LOWER\": \"kharga\"}', '{\"LOWER\": \"town\"}'], ['{\"LOWER\": \"el\"}', '{\"LOWER\": \"limón\"}'], ['{\"LOWER\": \"el\"}', '{\"LOWER\": \"mahalla\"}', '{\"LOWER\": \"el\"}', '{\"LOWER\": \"kubra\"}'], ['{\"LOWER\": \"el\"}', '{\"LOWER\": \"matareya\"}'], ['{\"LOWER\": \"el\"}', '{\"LOWER\": \"oued\"}'], ['{\"LOWER\": \"el\"}', '{\"LOWER\": \"palomar\"}', '{\"LOWER\": \",\"}', '{\"LOWER\": \"buenos\"}', '{\"LOWER\": \"aires\"}'], ['{\"LOWER\": \"el\"}', '{\"LOWER\": \"pangui\"}'], ['{\"LOWER\": \"el\"}', '{\"LOWER\": \"parco\"}'], ['{\"LOWER\": \"el\"}', '{\"LOWER\": \"progreso\"}'], ['{\"LOWER\": \"el\"}', '{\"LOWER\": \"qantarah\"}', '{\"LOWER\": \"el\"}', '{\"LOWER\": \"sharqiyya\"}'], ['{\"LOWER\": \"el\"}', '{\"LOWER\": \"refugio\"}', '{\"LOWER\": \",\"}', '{\"LOWER\": \"baja\"}', '{\"LOWER\": \"california\"}'], ['{\"LOWER\": \"el\"}', '{\"LOWER\": \"roble\"}'], ['{\"LOWER\": \"el\"}', '{\"LOWER\": \"rosario\"}', '{\"LOWER\": \",\"}', '{\"LOWER\": \"baja\"}', '{\"LOWER\": \"california\"}'], ['{\"LOWER\": \"el\"}', '{\"LOWER\": \"salvador\"}'], ['{\"LOWER\": \"el\"}', '{\"LOWER\": \"shorouk\"}'], ['{\"LOWER\": \"el\"}', '{\"LOWER\": \"taref\"}'], ['{\"LOWER\": \"el\"}', '{\"LOWER\": \"tigre\"}'], ['{\"LOWER\": \"el\"}', '{\"LOWER\": \"tocuyo\"}'], ['{\"LOWER\": \"el\"}', '{\"LOWER\": \"tod\"}'], ['{\"LOWER\": \"el\"}', '{\"LOWER\": \"tor\"}'], ['{\"LOWER\": \"el\"}', '{\"LOWER\": \"torno\"}', '{\"LOWER\": \",\"}', '{\"LOWER\": \"santa\"}', '{\"LOWER\": \"cruz\"}'], ['{\"LOWER\": \"el\"}', '{\"LOWER\": \"triunfo\"}'], ['{\"LOWER\": \"elbasan\"}'], ['{\"LOWER\": \"elbląg\"}'], ['{\"LOWER\": \"eldorado\"}', '{\"LOWER\": \",\"}', '{\"LOWER\": \"são\"}', '{\"LOWER\": \"paulo\"}'], ['{\"LOWER\": \"eldoradown\"}'], ['{\"LOWER\": \"eldoret\"}'], ['{\"LOWER\": \"elektrostal\"}'], ['{\"LOWER\": \"elektrėnai\"}'], ['{\"LOWER\": \"elena\"}'], ['{\"LOWER\": \"eleusis\"}'], ['{\"LOWER\": \"elias\"}', '{\"LOWER\": \"fausto\"}'], ['{\"LOWER\": \"elin\"}', '{\"LOWER\": \"pelin\"}'], ['{\"LOWER\": \"elisiário\"}'], ['{\"LOWER\": \"ely\"}'], ['{\"LOWER\": \"elâzığ\"}'], ['{\"LOWER\": \"embarcación\"}'], ['{\"LOWER\": \"embaúba\"}'], ['{\"LOWER\": \"embu\"}'], ['{\"LOWER\": \"embu\"}', '{\"LOWER\": \"das\"}', '{\"LOWER\": \"artes\"}'], ['{\"LOWER\": \"embu\"}', '{\"LOWER\": \"guaçu\"}'], ['{\"LOWER\": \"emfraz\"}'], ['{\"LOWER\": \"emiliano\"}', '{\"LOWER\": \"zapata\"}'], ['{\"LOWER\": \"emilianópolis\"}'], ['{\"LOWER\": \"eminabad\"}'], ['{\"LOWER\": \"emona\"}'], ['{\"LOWER\": \"empalme\"}'], ['{\"LOWER\": \"encarnación\"}'], ['{\"LOWER\": \"ende\"}'], ['{\"LOWER\": \"endibir\"}'], ['{\"LOWER\": \"engenheiro\"}', '{\"LOWER\": \"coelho\"}'], ['{\"LOWER\": \"enkhuizen\"}'], ['{\"LOWER\": \"enniskillen\"}'], ['{\"LOWER\": \"ensenada\"}'], ['{\"LOWER\": \"entebbe\"}'], ['{\"LOWER\": \"entella\"}'], ['{\"LOWER\": \"enugu\"}'], ['{\"LOWER\": \"epanomi\"}'], ['{\"LOWER\": \"epiphaneia\"}', '{\"LOWER\": \"in\"}', '{\"LOWER\": \"bithynia\"}'], ['{\"LOWER\": \"erbil\"}'], ['{\"LOWER\": \"erdenet\"}'], ['{\"LOWER\": \"ereğli\"}'], ['{\"LOWER\": \"erfelek\"}'], ['{\"LOWER\": \"erfurt\"}'], ['{\"LOWER\": \"erigavo\"}'], ['{\"LOWER\": \"eriza\"}'], ['{\"LOWER\": \"erode\"}'], ['{\"LOWER\": \"errachidia\"}'], ['{\"LOWER\": \"errenteria\"}'], ['{\"LOWER\": \"ertis\"}'], ['{\"LOWER\": \"eryx\"}'], ['{\"LOWER\": \"erzin\"}'], ['{\"LOWER\": \"erzincan\"}'], ['{\"LOWER\": \"erzurum\"}'], ['{\"LOWER\": \"esbjerg\"}'], ['{\"LOWER\": \"esch\"}', '{\"LOWER\": \"sur\"}', '{\"LOWER\": \"alzette\"}'], ['{\"LOWER\": \"escuintla\"}'], ['{\"LOWER\": \"esik\"}'], ['{\"LOWER\": \"eskifjörður\"}'], ['{\"LOWER\": \"eskişehir\"}'], ['{\"LOWER\": \"esmeralda\"}'], ['{\"LOWER\": \"esmeraldas\"}'], ['{\"LOWER\": \"esna\"}'], ['{\"LOWER\": \"espargos\"}'], ['{\"LOWER\": \"espera\"}', '{\"LOWER\": \"feliz\"}'], ['{\"LOWER\": \"esperanza\"}'], ['{\"LOWER\": \"esplugues\"}', '{\"LOWER\": \"de\"}', '{\"LOWER\": \"llobregat\"}'], ['{\"LOWER\": \"espoo\"}'], ['{\"LOWER\": \"espírito\"}', '{\"LOWER\": \"santo\"}', '{\"LOWER\": \"do\"}', '{\"LOWER\": \"pinhal\"}'], ['{\"LOWER\": \"espírito\"}', '{\"LOWER\": \"santo\"}', '{\"LOWER\": \"do\"}', '{\"LOWER\": \"turvo\"}'], ['{\"LOWER\": \"esquel\"}'], ['{\"LOWER\": \"esquipulas\"}'], ['{\"LOWER\": \"essaouira\"}'], ['{\"LOWER\": \"esslingen\"}', '{\"LOWER\": \"am\"}', '{\"LOWER\": \"neckar\"}'], ['{\"LOWER\": \"estella\"}', '{\"LOWER\": \"lizarra\"}'], ['{\"LOWER\": \"estelí\"}'], ['{\"LOWER\": \"estevan\"}'], ['{\"LOWER\": \"estiva\"}', '{\"LOWER\": \"gerbi\"}'], ['{\"LOWER\": \"estrela\"}', '{\"LOWER\": \"d\\'oeste\"}'], ['{\"LOWER\": \"estrela\"}', '{\"LOWER\": \"do\"}', '{\"LOWER\": \"norte\"}', '{\"LOWER\": \",\"}', '{\"LOWER\": \"são\"}', '{\"LOWER\": \"paulo\"}'], ['{\"LOWER\": \"esztergom\"}'], ['{\"LOWER\": \"etarea\"}'], ['{\"LOWER\": \"etoumbi\"}'], ['{\"LOWER\": \"ettelbrück\"}'], ['{\"LOWER\": \"eucaliptus\"}'], ['{\"LOWER\": \"euclides\"}', '{\"LOWER\": \"da\"}', '{\"LOWER\": \"cunha\"}', '{\"LOWER\": \"paulista\"}'], ['{\"LOWER\": \"eudocias\"}'], ['{\"LOWER\": \"euroea\"}', '{\"LOWER\": \"in\"}', '{\"LOWER\": \"phoenicia\"}'], ['{\"LOWER\": \"european\"}', '{\"LOWER\": \"green\"}', '{\"LOWER\": \"capital\"}'], ['{\"LOWER\": \"euthydemia\"}'], ['{\"LOWER\": \"evinayong\"}'], ['{\"LOWER\": \"ewarton\"}'], ['{\"LOWER\": \"ewo\"}'], ['{\"LOWER\": \"ewu\"}'], ['{\"LOWER\": \"exeter\"}'], ['{\"LOWER\": \"eyl\"}'], ['{\"LOWER\": \"eyrarbakki\"}'], ['{\"LOWER\": \"ezeiza\"}'], ['{\"LOWER\": \"ezpeleta\"}'], ['{\"LOWER\": \"ezzedine\"}', '{\"LOWER\": \"salim\"}', '{\"LOWER\": \"subdistrict\"}'], ['{\"LOWER\": \"ežerėlis\"}'], ['{\"LOWER\": \"faaborg\"}'], ['{\"LOWER\": \"fada\"}'], ['{\"LOWER\": \"fada\"}', '{\"LOWER\": \"n\\'gourma\"}'], ['{\"LOWER\": \"faisalabad\"}'], ['{\"LOWER\": \"faiyum\"}'], ['{\"LOWER\": \"faizabad\"}', '{\"LOWER\": \"cantt\"}'], ['{\"LOWER\": \"falerii\"}', '{\"LOWER\": \"novi\"}'], ['{\"LOWER\": \"falkum\"}'], ['{\"LOWER\": \"fallujah\"}'], ['{\"LOWER\": \"falsterbo\"}'], ['{\"LOWER\": \"famaillá\"}'], ['{\"LOWER\": \"farafra\"}', '{\"LOWER\": \"town\"}'], ['{\"LOWER\": \"farah\"}'], ['{\"LOWER\": \"faraskur\"}'], ['{\"LOWER\": \"faridabad\"}'], ['{\"LOWER\": \"faridpur\"}', '{\"LOWER\": \"city\"}'], ['{\"LOWER\": \"farim\"}'], ['{\"LOWER\": \"fartura\"}'], ['{\"LOWER\": \"fateh\"}', '{\"LOWER\": \"pur\"}'], ['{\"LOWER\": \"fatehganj\"}'], ['{\"LOWER\": \"fatehgunj\"}'], ['{\"LOWER\": \"fatick\"}'], ['{\"LOWER\": \"faya\"}', '{\"LOWER\": \"largeau\"}'], ['{\"LOWER\": \"fayid\"}'], ['{\"LOWER\": \"federal\"}', '{\"LOWER\": \",\"}', '{\"LOWER\": \"entre\"}', '{\"LOWER\": \"ríos\"}'], ['{\"LOWER\": \"feldkirch\"}'], ['{\"LOWER\": \"feni\"}'], ['{\"LOWER\": \"fenix\"}'], ['{\"LOWER\": \"fergana\"}'], ['{\"LOWER\": \"ferizaj\"}'], ['{\"LOWER\": \"ferkessédougou\"}'], ['{\"LOWER\": \"fernando\"}', '{\"LOWER\": \"echenique\"}'], ['{\"LOWER\": \"fernando\"}', '{\"LOWER\": \"prestes\"}'], ['{\"LOWER\": \"fernandópolis\"}'], ['{\"LOWER\": \"fernández\"}', '{\"LOWER\": \"alonso\"}'], ['{\"LOWER\": \"fernão\"}'], ['{\"LOWER\": \"ferrara\"}'], ['{\"LOWER\": \"ferraz\"}', '{\"LOWER\": \"de\"}', '{\"LOWER\": \"vasconcelos\"}'], ['{\"LOWER\": \"ferreñafe\"}'], ['{\"LOWER\": \"ferrol\"}'], ['{\"LOWER\": \"fethiye\"}'], ['{\"LOWER\": \"fez\"}'], ['{\"LOWER\": \"fianga\"}'], ['{\"LOWER\": \"fier\"}'], ['{\"LOWER\": \"fierzë\"}'], ['{\"LOWER\": \"figuig\"}'], ['{\"LOWER\": \"finike\"}'], ['{\"LOWER\": \"finote\"}', '{\"LOWER\": \"selam\"}'], ['{\"LOWER\": \"finziade\"}'], ['{\"LOWER\": \"fiq\"}'], ['{\"LOWER\": \"firozpur\"}'], ['{\"LOWER\": \"flin\"}', '{\"LOWER\": \"flon\"}'], ['{\"LOWER\": \"flora\"}', '{\"LOWER\": \"rica\"}'], ['{\"LOWER\": \"floreal\"}'], ['{\"LOWER\": \"florence\"}'], ['{\"LOWER\": \"florencia\"}'], ['{\"LOWER\": \"florencio\"}', '{\"LOWER\": \"varela\"}'], ['{\"LOWER\": \"florești\"}'], ['{\"LOWER\": \"florida\"}'], ['{\"LOWER\": \"florínea\"}'], ['{\"LOWER\": \"florø\"}'], ['{\"LOWER\": \"flórida\"}', '{\"LOWER\": \"paulista\"}'], ['{\"LOWER\": \"foggia\"}'], ['{\"LOWER\": \"fomboni\"}'], ['{\"LOWER\": \"fondanti\"}'], ['{\"LOWER\": \"fontana\"}'], ['{\"LOWER\": \"forlì\"}'], ['{\"LOWER\": \"formiae\"}'], ['{\"LOWER\": \"formosa\"}'], ['{\"LOWER\": \"forssa\"}'], ['{\"LOWER\": \"fort\"}', '{\"LOWER\": \"de\"}', '{\"LOWER\": \"france\"}'], ['{\"LOWER\": \"fort\"}', '{\"LOWER\": \"lamy\"}'], ['{\"LOWER\": \"fort\"}', '{\"LOWER\": \"st\"}', '{\"LOWER\": \".\"}', '{\"LOWER\": \"john\"}'], ['{\"LOWER\": \"fort\"}', '{\"LOWER\": \"william\"}'], ['{\"LOWER\": \"fortaleza\"}'], ['{\"LOWER\": \"forward\"}', '{\"LOWER\": \"kahuta\"}'], ['{\"LOWER\": \"fougamou\"}'], ['{\"LOWER\": \"foumban\"}'], ['{\"LOWER\": \"foundiougne\"}'], ['{\"LOWER\": \"foča\"}'], ['{\"LOWER\": \"fraita\"}'], ['{\"LOWER\": \"frampol\"}'], ['{\"LOWER\": \"franca\"}'], ['{\"LOWER\": \"franceville\"}'], ['{\"LOWER\": \"francisco\"}', '{\"LOWER\": \"morato\"}'], ['{\"LOWER\": \"francistown\"}'], ['{\"LOWER\": \"franco\"}', '{\"LOWER\": \"da\"}', '{\"LOWER\": \"rocha\"}'], ['{\"LOWER\": \"frank\"}', '{\"LOWER\": \"país\"}'], ['{\"LOWER\": \"frankfurt\"}', '{\"LOWER\": \"west\"}'], ['{\"LOWER\": \"frankston\"}'], ['{\"LOWER\": \"fray\"}', '{\"LOWER\": \"bentos\"}'], ['{\"LOWER\": \"fredericia\"}'], ['{\"LOWER\": \"fredericton\"}'], ['{\"LOWER\": \"frederikshavn\"}'], ['{\"LOWER\": \"frederikssund\"}'], ['{\"LOWER\": \"frederiksværk\"}'], ['{\"LOWER\": \"fredrikshald\"}'], ['{\"LOWER\": \"freetown\"}'], ['{\"LOWER\": \"fresnillo\"}'], ['{\"LOWER\": \"fridau\"}'], ['{\"LOWER\": \"frombork\"}'], ['{\"LOWER\": \"frontera\"}'], ['{\"LOWER\": \"frías\"}'], ['{\"LOWER\": \"frías\"}', '{\"LOWER\": \",\"}', '{\"LOWER\": \"santiago\"}', '{\"LOWER\": \"del\"}', '{\"LOWER\": \"estero\"}'], ['{\"LOWER\": \"fröndenberg\"}'], ['{\"LOWER\": \"frýdek\"}', '{\"LOWER\": \"místek\"}'], ['{\"LOWER\": \"fujairah\"}'], ['{\"LOWER\": \"fulacunda\"}'], ['{\"LOWER\": \"funafuti\"}'], ['{\"LOWER\": \"funai\"}'], ['{\"LOWER\": \"funes\"}', '{\"LOWER\": \",\"}', '{\"LOWER\": \"santa\"}', '{\"LOWER\": \"fe\"}'], ['{\"LOWER\": \"fushë\"}', '{\"LOWER\": \"arrëz\"}'], ['{\"LOWER\": \"fushë\"}', '{\"LOWER\": \"krujë\"}'], ['{\"LOWER\": \"füzuli\"}'], ['{\"LOWER\": \"fălești\"}'], ['{\"LOWER\": \"fındıklı\"}'], ['{\"LOWER\": \"gabane\"}'], ['{\"LOWER\": \"gabela\"}'], ['{\"LOWER\": \"gabriel\"}', '{\"LOWER\": \"leyva\"}', '{\"LOWER\": \"solano\"}'], ['{\"LOWER\": \"gabriel\"}', '{\"LOWER\": \"monteiro\"}'], ['{\"LOWER\": \"gabrovo\"}'], ['{\"LOWER\": \"gabú\"}'], ['{\"LOWER\": \"gadaka\"}'], ['{\"LOWER\": \"gades\"}'], ['{\"LOWER\": \"gagnoa\"}'], ['{\"LOWER\": \"gaibandha\"}'], ['{\"LOWER\": \"gaighat\"}'], ['{\"LOWER\": \"gajuri\"}'], ['{\"LOWER\": \"galabovo\"}'], ['{\"LOWER\": \"galas\"}'], ['{\"LOWER\": \"galeana\"}'], ['{\"LOWER\": \"gali\"}'], ['{\"LOWER\": \"galkayo\"}'], ['{\"LOWER\": \"galle\"}'], ['{\"LOWER\": \"galt\"}'], ['{\"LOWER\": \"galway\"}'], ['{\"LOWER\": \"gamboma\"}'], ['{\"LOWER\": \"gandajika\"}'], ['{\"LOWER\": \"gandhinagar\"}'], ['{\"LOWER\": \"gandia\"}'], ['{\"LOWER\": \"gandiaye\"}'], ['{\"LOWER\": \"gangavalli\"}', '{\"LOWER\": \"taluk\"}'], ['{\"LOWER\": \"gangtok\"}'], ['{\"LOWER\": \"garabekewül\"}'], ['{\"LOWER\": \"garabogaz\"}'], ['{\"LOWER\": \"garbahaareey\"}'], ['{\"LOWER\": \"gardabani\"}'], ['{\"LOWER\": \"gardēz\"}'], ['{\"LOWER\": \"gargždai\"}'], ['{\"LOWER\": \"garissa\"}'], ['{\"LOWER\": \"garliava\"}'], ['{\"LOWER\": \"garoowe\"}'], ['{\"LOWER\": \"garoua\"}'], ['{\"LOWER\": \"garrygala\"}'], ['{\"LOWER\": \"garut\"}'], ['{\"LOWER\": \"garça\"}'], ['{\"LOWER\": \"garðabær\"}'], ['{\"LOWER\": \"gatama\"}'], ['{\"LOWER\": \"gath\"}', '{\"LOWER\": \"rimmon\"}'], ['{\"LOWER\": \"gaur\"}', '{\"LOWER\": \",\"}', '{\"LOWER\": \"nepal\"}'], ['{\"LOWER\": \"gavião\"}', '{\"LOWER\": \"peixoto\"}'], ['{\"LOWER\": \"gaya\"}'], ['{\"LOWER\": \"gayéri\"}'], ['{\"LOWER\": \"gaza\"}', '{\"LOWER\": \"city\"}'], ['{\"LOWER\": \"gazakh\"}'], ['{\"LOWER\": \"gaziantep\"}'], ['{\"LOWER\": \"gazojak\"}'], ['{\"LOWER\": \"gbadolite\"}'], ['{\"LOWER\": \"gbélo\"}'], ['{\"LOWER\": \"gdynia\"}'], ['{\"LOWER\": \"gedera\"}'], ['{\"LOWER\": \"geelong\"}'], ['{\"LOWER\": \"geestland\"}'], ['{\"LOWER\": \"geita\"}'], ['{\"LOWER\": \"gelgaudiškis\"}'], ['{\"LOWER\": \"gelinkaya\"}'], ['{\"LOWER\": \"gemena\"}'], ['{\"LOWER\": \"general\"}', '{\"LOWER\": \"alvear\"}'], ['{\"LOWER\": \"general\"}', '{\"LOWER\": \"escobedo\"}'], ['{\"LOWER\": \"general\"}', '{\"LOWER\": \"güemes\"}', '{\"LOWER\": \",\"}', '{\"LOWER\": \"salta\"}'], ['{\"LOWER\": \"general\"}', '{\"LOWER\": \"josé\"}', '{\"LOWER\": \"de\"}', '{\"LOWER\": \"san\"}', '{\"LOWER\": \"martín\"}'], ['{\"LOWER\": \"general\"}', '{\"LOWER\": \"leonidas\"}', '{\"LOWER\": \"plaza\"}', '{\"LOWER\": \"gutiérrez\"}'], ['{\"LOWER\": \"general\"}', '{\"LOWER\": \"levalle\"}'], ['{\"LOWER\": \"general\"}', '{\"LOWER\": \"pacheco\"}'], ['{\"LOWER\": \"general\"}', '{\"LOWER\": \"pico\"}'], ['{\"LOWER\": \"general\"}', '{\"LOWER\": \"roca\"}'], ['{\"LOWER\": \"general\"}', '{\"LOWER\": \"rodríguez\"}'], ['{\"LOWER\": \"general\"}', '{\"LOWER\": \"salgado\"}'], ['{\"LOWER\": \"general\"}', '{\"LOWER\": \"toshevo\"}'], ['{\"LOWER\": \"genk\"}'], ['{\"LOWER\": \"genoa\"}'], ['{\"LOWER\": \"george\"}', '{\"LOWER\": \"town\"}'], ['{\"LOWER\": \"georgetown\"}'], ['{\"LOWER\": \"geraardsbergen\"}'], ['{\"LOWER\": \"geraldton\"}'], ['{\"LOWER\": \"germiston\"}'], ['{\"LOWER\": \"getafe\"}'], ['{\"LOWER\": \"getulina\"}'], ['{\"LOWER\": \"ghafsai\"}'], ['{\"LOWER\": \"ghanzi\"}'], ['{\"LOWER\": \"gharrous\"}'], ['{\"LOWER\": \"gharyan\"}'], ['{\"LOWER\": \"ghat\"}'], ['{\"LOWER\": \"ghaziabad\"}'], ['{\"LOWER\": \"ghazni\"}'], ['{\"LOWER\": \"ghent\"}'], ['{\"LOWER\": \"ghinda\"}'], ['{\"LOWER\": \"ghorahi\"}'], ['{\"LOWER\": \"ghotki\"}'], ['{\"LOWER\": \"giannitsa\"}'], ['{\"LOWER\": \"gibara\"}'], ['{\"LOWER\": \"gijduvan\"}'], ['{\"LOWER\": \"gijón\"}'], ['{\"LOWER\": \"gikongoro\"}'], ['{\"LOWER\": \"gimbi\"}'], ['{\"LOWER\": \"giresun\"}'], ['{\"LOWER\": \"girga\"}'], ['{\"LOWER\": \"girona\"}'], ['{\"LOWER\": \"gisborne\"}'], ['{\"LOWER\": \"gisenyi\"}'], ['{\"LOWER\": \"gitega\"}'], ['{\"LOWER\": \"giugliano\"}', '{\"LOWER\": \"in\"}', '{\"LOWER\": \"campania\"}'], ['{\"LOWER\": \"givatayim\"}'], ['{\"LOWER\": \"giza\"}'], ['{\"LOWER\": \"gjakova\"}'], ['{\"LOWER\": \"gjilan\"}'], ['{\"LOWER\": \"gjirokastër\"}'], ['{\"LOWER\": \"gladbach\"}', '{\"LOWER\": \"rheydt\"}'], ['{\"LOWER\": \"gladstone\"}'], ['{\"LOWER\": \"glasgow\"}'], ['{\"LOWER\": \"glavinitsa\"}'], ['{\"LOWER\": \"glengarriff\"}'], ['{\"LOWER\": \"gleno\"}'], ['{\"LOWER\": \"glew\"}', '{\"LOWER\": \",\"}', '{\"LOWER\": \"buenos\"}', '{\"LOWER\": \"aires\"}'], ['{\"LOWER\": \"glicério\"}'], ['{\"LOWER\": \"glinojeck\"}'], ['{\"LOWER\": \"gliwice\"}'], ['{\"LOWER\": \"glodeni\"}'], ['{\"LOWER\": \"gloucester\"}'], ['{\"LOWER\": \"glyfada\"}'], ['{\"LOWER\": \"gniew\"}'], ['{\"LOWER\": \"gniewkowo\"}'], ['{\"LOWER\": \"goba\"}'], ['{\"LOWER\": \"gobabis\"}'], ['{\"LOWER\": \"gobernador\"}', '{\"LOWER\": \"virasoro\"}'], ['{\"LOWER\": \"gobo\"}'], ['{\"LOWER\": \"godavarikhani\"}'], ['{\"LOWER\": \"gode\"}'], ['{\"LOWER\": \"godech\"}'], ['{\"LOWER\": \"godoy\"}', '{\"LOWER\": \"cruz\"}'], ['{\"LOWER\": \"gogawan\"}'], ['{\"LOWER\": \"gogolin\"}'], ['{\"LOWER\": \"goindval\"}'], ['{\"LOWER\": \"goiânia\"}'], ['{\"LOWER\": \"gokarneshwor\"}'], ['{\"LOWER\": \"golaghat\"}'], ['{\"LOWER\": \"golczewo\"}'], ['{\"LOWER\": \"gold\"}', '{\"LOWER\": \"coast\"}'], ['{\"LOWER\": \"goleniów\"}'], ['{\"LOWER\": \"golina\"}'], ['{\"LOWER\": \"goma\"}'], ['{\"LOWER\": \"gomphi\"}'], ['{\"LOWER\": \"gonaïves\"}'], ['{\"LOWER\": \"gondar\"}'], ['{\"LOWER\": \"goniądz\"}'], ['{\"LOWER\": \"gonoessa\"}'], ['{\"LOWER\": \"gonzález\"}', '{\"LOWER\": \"catán\"}'], ['{\"LOWER\": \"good\"}', '{\"LOWER\": \"hope\"}', '{\"LOWER\": \",\"}', '{\"LOWER\": \"botswana\"}'], ['{\"LOWER\": \"gopalganj\"}'], ['{\"LOWER\": \"gopalpur\"}', '{\"LOWER\": \",\"}', '{\"LOWER\": \"tangail\"}', '{\"LOWER\": \",\"}', '{\"LOWER\": \"bangladesh\"}'], ['{\"LOWER\": \"gorakhpur\"}'], ['{\"LOWER\": \"goranboy\"}'], ['{\"LOWER\": \"gori\"}'], ['{\"LOWER\": \"gorna\"}', '{\"LOWER\": \"oryahovitsa\"}'], ['{\"LOWER\": \"gornja\"}', '{\"LOWER\": \"radgona\"}'], ['{\"LOWER\": \"gornji\"}', '{\"LOWER\": \"petrovci\"}'], ['{\"LOWER\": \"gornji\"}', '{\"LOWER\": \"vakuf\"}', '{\"LOWER\": \"uskoplje\"}'], ['{\"LOWER\": \"goroka\"}'], ['{\"LOWER\": \"goroumo\"}'], ['{\"LOWER\": \"gorzów\"}', '{\"LOWER\": \"wielkopolski\"}'], ['{\"LOWER\": \"gorzów\"}', '{\"LOWER\": \"śląski\"}'], ['{\"LOWER\": \"goré\"}'], ['{\"LOWER\": \"gosford\"}'], ['{\"LOWER\": \"gossas\"}'], ['{\"LOWER\": \"gostivar\"}'], ['{\"LOWER\": \"gostyń\"}'], ['{\"LOWER\": \"gotse\"}', '{\"LOWER\": \"delchev\"}'], ['{\"LOWER\": \"gouda\"}'], ['{\"LOWER\": \"goudiry\"}'], ['{\"LOWER\": \"goudomp\"}'], ['{\"LOWER\": \"goulburn\"}'], ['{\"LOWER\": \"goulmima\"}'], ['{\"LOWER\": \"gouyave\"}'], ['{\"LOWER\": \"goya\"}'], ['{\"LOWER\": \"goychay\"}'], ['{\"LOWER\": \"goz\"}', '{\"LOWER\": \"beïda\"}'], ['{\"LOWER\": \"gołańcz\"}'], ['{\"LOWER\": \"gołdap\"}'], ['{\"LOWER\": \"gościno\"}'], ['{\"LOWER\": \"grabów\"}', '{\"LOWER\": \"nad\"}', '{\"LOWER\": \"prosną\"}'], ['{\"LOWER\": \"gracias\"}'], ['{\"LOWER\": \"graethem\"}'], ['{\"LOWER\": \"grafton\"}'], ['{\"LOWER\": \"gramada\"}'], ['{\"LOWER\": \"gramsh\"}'], ['{\"LOWER\": \"granada\"}'], ['{\"LOWER\": \"grand\"}', '{\"LOWER\": \"baie\"}'], ['{\"LOWER\": \"grand\"}', '{\"LOWER\": \"bourg\"}'], ['{\"LOWER\": \"grand\"}', '{\"LOWER\": \"lahou\"}'], ['{\"LOWER\": \"grange\"}', '{\"LOWER\": \"hill\"}', '{\"LOWER\": \",\"}', '{\"LOWER\": \"jamaica\"}'], ['{\"LOWER\": \"granollers\"}'], ['{\"LOWER\": \"gravisca\"}'], ['{\"LOWER\": \"greater\"}', '{\"LOWER\": \"noida\"}'], ['{\"LOWER\": \"green\"}', '{\"LOWER\": \"bay\"}'], ['{\"LOWER\": \"gregorio\"}', '{\"LOWER\": \"de\"}', '{\"LOWER\": \"laferrere\"}'], ['{\"LOWER\": \"grenville\"}'], ['{\"LOWER\": \"grenå\"}'], ['{\"LOWER\": \"grevenmacher\"}'], ['{\"LOWER\": \"griffith\"}'], ['{\"LOWER\": \"grigoriopol\"}'], ['{\"LOWER\": \"grindavík\"}'], ['{\"LOWER\": \"grodków\"}'], ['{\"LOWER\": \"grodzisk\"}', '{\"LOWER\": \"mazowiecki\"}'], ['{\"LOWER\": \"grodzisk\"}', '{\"LOWER\": \"wielkopolski\"}'], ['{\"LOWER\": \"groningen\"}'], ['{\"LOWER\": \"grootfontein\"}'], ['{\"LOWER\": \"grosuplje\"}'], ['{\"LOWER\": \"grudziądz\"}'], ['{\"LOWER\": \"grundarfjörður\"}'], ['{\"LOWER\": \"gryfice\"}'], ['{\"LOWER\": \"gryfino\"}'], ['{\"LOWER\": \"gryfów\"}', '{\"LOWER\": \"śląski\"}'], ['{\"LOWER\": \"grójec\"}'], ['{\"LOWER\": \"guacara\"}'], ['{\"LOWER\": \"guadalajara\"}'], ['{\"LOWER\": \"guadalupe\"}'], ['{\"LOWER\": \"guadalupe\"}', '{\"LOWER\": \",\"}', '{\"LOWER\": \"baja\"}', '{\"LOWER\": \"california\"}'], ['{\"LOWER\": \"guadix\"}'], ['{\"LOWER\": \"guaimaca\"}'], ['{\"LOWER\": \"guaimbê\"}'], ['{\"LOWER\": \"guaiçara\"}'], ['{\"LOWER\": \"gualeguay\"}'], ['{\"LOWER\": \"gualeguaychú\"}'], ['{\"LOWER\": \"guanajay\"}'], ['{\"LOWER\": \"guanape\"}'], ['{\"LOWER\": \"guanare\"}'], ['{\"LOWER\": \"guangzhou\"}'], ['{\"LOWER\": \"guantánamo\"}'], ['{\"LOWER\": \"guapiara\"}'], ['{\"LOWER\": \"guapiaçu\"}'], ['{\"LOWER\": \"guaraci\"}'], ['{\"LOWER\": \"guaranda\"}'], ['{\"LOWER\": \"guarani\"}', '{\"LOWER\": \"d\\'oeste\"}'], ['{\"LOWER\": \"guarantã\"}'], ['{\"LOWER\": \"guararapes\"}'], ['{\"LOWER\": \"guararema\"}'], ['{\"LOWER\": \"guaratinguetá\"}'], ['{\"LOWER\": \"guaraçaí\"}'], ['{\"LOWER\": \"guarenas\"}'], ['{\"LOWER\": \"guareí\"}'], ['{\"LOWER\": \"guariba\"}'], ['{\"LOWER\": \"guarujá\"}'], ['{\"LOWER\": \"guarulhos\"}'], ['{\"LOWER\": \"guará\"}'], ['{\"LOWER\": \"guasave\"}', '{\"LOWER\": \"city\"}'], ['{\"LOWER\": \"guasdualito\"}'], ['{\"LOWER\": \"guastatoya\"}'], ['{\"LOWER\": \"guatapará\"}'], ['{\"LOWER\": \"guatemala\"}', '{\"LOWER\": \"city\"}'], ['{\"LOWER\": \"guatire\"}'], ['{\"LOWER\": \"guayaquil\"}'], ['{\"LOWER\": \"guayaramerín\"}'], ['{\"LOWER\": \"guaymas\"}'], ['{\"LOWER\": \"guaíra\"}', '{\"LOWER\": \",\"}', '{\"LOWER\": \"são\"}', '{\"LOWER\": \"paulo\"}'], ['{\"LOWER\": \"guelmim\"}'], ['{\"LOWER\": \"guelph\"}'], ['{\"LOWER\": \"guercif\"}'], ['{\"LOWER\": \"guere\"}', '{\"LOWER\": \",\"}', '{\"LOWER\": \"cameroon\"}'], ['{\"LOWER\": \"guernica\"}'], ['{\"LOWER\": \"guerrero\"}', '{\"LOWER\": \",\"}', '{\"LOWER\": \"coahuila\"}'], ['{\"LOWER\": \"guider\"}'], ['{\"LOWER\": \"guiglo\"}'], ['{\"LOWER\": \"guinguinéo\"}'], ['{\"LOWER\": \"guisa\"}'], ['{\"LOWER\": \"guittena\"}'], ['{\"LOWER\": \"gujranwala\"}'], ['{\"LOWER\": \"gujrat\"}'], ['{\"LOWER\": \"gularia\"}'], ['{\"LOWER\": \"gulistan\"}', '{\"LOWER\": \",\"}', '{\"LOWER\": \"balochistan\"}'], ['{\"LOWER\": \"guliston\"}'], ['{\"LOWER\": \"gulu\"}'], ['{\"LOWER\": \"gumare\"}'], ['{\"LOWER\": \"gummi\"}'], ['{\"LOWER\": \"gundeshapur\"}'], ['{\"LOWER\": \"gunthakal\"}'], ['{\"LOWER\": \"gurdaspur\"}'], ['{\"LOWER\": \"gurgaon\"}'], ['{\"LOWER\": \"guriceel\"}'], ['{\"LOWER\": \"gurjaani\"}'], ['{\"LOWER\": \"gurúè\"}'], ['{\"LOWER\": \"gusau\"}'], ['{\"LOWER\": \"gusinje\"}'], ['{\"LOWER\": \"guwahati\"}'], ['{\"LOWER\": \"guzolândia\"}'], ['{\"LOWER\": \"guáimaro\"}'], ['{\"LOWER\": \"guéckédougou\"}'], ['{\"LOWER\": \"guédiawaye\"}'], ['{\"LOWER\": \"gwadar\"}'], ['{\"LOWER\": \"gwalior\"}'], ['{\"LOWER\": \"gwanda\"}'], ['{\"LOWER\": \"gweru\"}'], ['{\"LOWER\": \"gyumri\"}'], ['{\"LOWER\": \"gália\"}'], ['{\"LOWER\": \"góis\"}'], ['{\"LOWER\": \"góra\"}'], ['{\"LOWER\": \"góra\"}', '{\"LOWER\": \"kalwaria\"}'], ['{\"LOWER\": \"górzno\"}'], ['{\"LOWER\": \"gökçe\"}'], ['{\"LOWER\": \"gökçebey\"}'], ['{\"LOWER\": \"gölcük\"}'], ['{\"LOWER\": \"göreme\"}'], ['{\"LOWER\": \"göygöl\"}'], ['{\"LOWER\": \"göytəpə\"}'], ['{\"LOWER\": \"gözcüler\"}'], ['{\"LOWER\": \"güigüe\"}'], ['{\"LOWER\": \"güines\"}'], ['{\"LOWER\": \"güira\"}', '{\"LOWER\": \"de\"}', '{\"LOWER\": \"melena\"}'], ['{\"LOWER\": \"gümüşhane\"}'], ['{\"LOWER\": \"gürpınar\"}'], ['{\"LOWER\": \"güzelyalı\"}'], ['{\"LOWER\": \"gąbin\"}'], ['{\"LOWER\": \"głogów\"}', '{\"LOWER\": \"małopolski\"}'], ['{\"LOWER\": \"głogówek\"}'], ['{\"LOWER\": \"głubczyce\"}'], ['{\"LOWER\": \"głuchołazy\"}'], ['{\"LOWER\": \"głuszyca\"}'], ['{\"LOWER\": \"gədəbəy\"}'], ['{\"LOWER\": \"g‘uzor\"}'], ['{\"LOWER\": \"ha\\'il\"}', '{\"LOWER\": \",\"}', '{\"LOWER\": \"saudi\"}', '{\"LOWER\": \"arabia\"}'], ['{\"LOWER\": \"haapajärvi\"}'], ['{\"LOWER\": \"haapavesi\"}'], ['{\"LOWER\": \"haarlem\"}'], ['{\"LOWER\": \"habban\"}', '{\"LOWER\": \"district\"}'], ['{\"LOWER\": \"hachinohe\"}'], ['{\"LOWER\": \"hadejia\"}'], ['{\"LOWER\": \"hadera\"}'], ['{\"LOWER\": \"hadrianopolis\"}'], ['{\"LOWER\": \"hadzhidimovo\"}'], ['{\"LOWER\": \"hafar\"}', '{\"LOWER\": \"al\"}', '{\"LOWER\": \"batin\"}'], ['{\"LOWER\": \"hafnarfjörður\"}'], ['{\"LOWER\": \"hafun\"}'], ['{\"LOWER\": \"haifa\"}'], ['{\"LOWER\": \"haiphong\"}'], ['{\"LOWER\": \"hajipur\"}'], ['{\"LOWER\": \"hajiqabul\"}'], ['{\"LOWER\": \"hajjah\"}'], ['{\"LOWER\": \"hakha\"}'], ['{\"LOWER\": \"hakkâri\"}'], ['{\"LOWER\": \"hala\"}'], ['{\"LOWER\": \"halabja\"}'], ['{\"LOWER\": \"halaesa\"}'], ['{\"LOWER\": \"halah\"}'], ['{\"LOWER\": \"halaç\"}'], ['{\"LOWER\": \"halebidu\"}'], ['{\"LOWER\": \"half\"}', '{\"LOWER\": \"way\"}', '{\"LOWER\": \"tree\"}'], ['{\"LOWER\": \"halhul\"}'], ['{\"LOWER\": \"halifax\"}'], ['{\"LOWER\": \"halinów\"}'], ['{\"LOWER\": \"halpa\"}'], ['{\"LOWER\": \"halyciae\"}'], ['{\"LOWER\": \"hama\"}'], ['{\"LOWER\": \"hamad\"}', '{\"LOWER\": \"town\"}'], ['{\"LOWER\": \"hamam\"}', '{\"LOWER\": \"al\"}', '{\"LOWER\": \"alil\"}'], ['{\"LOWER\": \"hamar\"}'], ['{\"LOWER\": \"hambantota\"}'], ['{\"LOWER\": \"hamilton\"}'], ['{\"LOWER\": \"hamina\"}'], ['{\"LOWER\": \"hammerfest\"}'], ['{\"LOWER\": \"hanamakonda\"}'], ['{\"LOWER\": \"hanko\"}'], ['{\"LOWER\": \"hankou\"}'], ['{\"LOWER\": \"hannut\"}'], ['{\"LOWER\": \"hanoi\"}'], ['{\"LOWER\": \"hanover\"}'], ['{\"LOWER\": \"hanseongbu\"}'], ['{\"LOWER\": \"harar\"}'], ['{\"LOWER\": \"harare\"}'], ['{\"LOWER\": \"harasta\"}'], ['{\"LOWER\": \"harbin\"}'], ['{\"LOWER\": \"harbiye\"}'], ['{\"LOWER\": \"harbour\"}', '{\"LOWER\": \"island\"}'], ['{\"LOWER\": \"harburg\"}'], ['{\"LOWER\": \"harburg\"}', '{\"LOWER\": \"wilhelmsburg\"}'], ['{\"LOWER\": \"harem\"}'], ['{\"LOWER\": \"hargeisa\"}'], ['{\"LOWER\": \"harhoura\"}'], ['{\"LOWER\": \"haridwar\"}'], ['{\"LOWER\": \"harinakunda\"}'], ['{\"LOWER\": \"haripur\"}', '{\"LOWER\": \",\"}', '{\"LOWER\": \"pakistan\"}'], ['{\"LOWER\": \"harjavalta\"}'], ['{\"LOWER\": \"harstad\"}'], ['{\"LOWER\": \"hashtpar\"}'], ['{\"LOWER\": \"haskovo\"}'], ['{\"LOWER\": \"hasköy\"}'], ['{\"LOWER\": \"hassa\"}'], ['{\"LOWER\": \"hassan\"}'], ['{\"LOWER\": \"hasselt\"}'], ['{\"LOWER\": \"hastinganj\"}'], ['{\"LOWER\": \"hastings\"}'], ['{\"LOWER\": \"haugesund\"}'], ['{\"LOWER\": \"havelse\"}'], ['{\"LOWER\": \"havran\"}'], ['{\"LOWER\": \"havířov\"}'], ['{\"LOWER\": \"hayes\"}'], ['{\"LOWER\": \"hayq\"}'], ['{\"LOWER\": \"hazar\"}'], ['{\"LOWER\": \"hazorasp\"}'], ['{\"LOWER\": \"hebron\"}'], ['{\"LOWER\": \"hedley\"}', '{\"LOWER\": \",\"}', '{\"LOWER\": \"british\"}', '{\"LOWER\": \"columbia\"}'], ['{\"LOWER\": \"heerenveen\"}'], ['{\"LOWER\": \"heheng\"}'], ['{\"LOWER\": \"heho\"}'], ['{\"LOWER\": \"heinola\"}'], ['{\"LOWER\": \"heliopolis\"}'], ['{\"LOWER\": \"hella\"}'], ['{\"LOWER\": \"hellenopolis\"}'], ['{\"LOWER\": \"hellissandur\"}'], ['{\"LOWER\": \"hellín\"}'], ['{\"LOWER\": \"helmond\"}'], ['{\"LOWER\": \"helsingør\"}'], ['{\"LOWER\": \"helsinki\"}'], ['{\"LOWER\": \"helwan\"}'], ['{\"LOWER\": \"henties\"}', '{\"LOWER\": \"bay\"}'], ['{\"LOWER\": \"heraclea\"}'], ['{\"LOWER\": \"heraclea\"}', '{\"LOWER\": \"in\"}', '{\"LOWER\": \"trachis\"}'], ['{\"LOWER\": \"herakleopolis\"}', '{\"LOWER\": \"magna\"}'], ['{\"LOWER\": \"herat\"}'], ['{\"LOWER\": \"herceg\"}', '{\"LOWER\": \"novi\"}'], ['{\"LOWER\": \"herculândia\"}'], ['{\"LOWER\": \"heredia\"}'], ['{\"LOWER\": \"hereford\"}'], ['{\"LOWER\": \"hermonthis\"}'], ['{\"LOWER\": \"hermosillo\"}'], ['{\"LOWER\": \"herning\"}'], ['{\"LOWER\": \"heroica\"}', '{\"LOWER\": \"matamoros\"}'], ['{\"LOWER\": \"heroica\"}', '{\"LOWER\": \"nogales\"}'], ['{\"LOWER\": \"heronem\"}', '{\"LOWER\": \"trebirorum\"}'], ['{\"LOWER\": \"hervey\"}', '{\"LOWER\": \"bay\"}'], ['{\"LOWER\": \"herzliya\"}'], ['{\"LOWER\": \"hibiscus\"}', '{\"LOWER\": \"coast\"}'], ['{\"LOWER\": \"highgate\"}'], ['{\"LOWER\": \"higuerote\"}'], ['{\"LOWER\": \"hihya\"}'], ['{\"LOWER\": \"hillah\"}'], ['{\"LOWER\": \"hillerød\"}'], ['{\"LOWER\": \"hillsborough\"}'], ['{\"LOWER\": \"hippana\"}'], ['{\"LOWER\": \"hiroshima\"}'], ['{\"LOWER\": \"hisar\"}'], ['{\"LOWER\": \"hisar\"}', '{\"LOWER\": \"urban\"}', '{\"LOWER\": \"agglomeration\"}'], ['{\"LOWER\": \"hisarya\"}', '{\"LOWER\": \",\"}', '{\"LOWER\": \"bulgaria\"}'], ['{\"LOWER\": \"hisor\"}'], ['{\"LOWER\": \"historic\"}', '{\"LOWER\": \"centre\"}', '{\"LOWER\": \"of\"}', '{\"LOWER\": \"cusco\"}'], ['{\"LOWER\": \"hjørring\"}'], ['{\"LOWER\": \"hlatikulu\"}'], ['{\"LOWER\": \"hlotse\"}'], ['{\"LOWER\": \"hluti\"}'], ['{\"LOWER\": \"ho\"}'], ['{\"LOWER\": \"hoa\"}', '{\"LOWER\": \"lu\"}'], ['{\"LOWER\": \"hobart\"}'], ['{\"LOWER\": \"hobro\"}'], ['{\"LOWER\": \"hod\"}', '{\"LOWER\": \"hasharon\"}'], ['{\"LOWER\": \"hoegaarden\"}'], ['{\"LOWER\": \"hohnstein\"}'], ['{\"LOWER\": \"hohoe\"}'], ['{\"LOWER\": \"hola\"}'], ['{\"LOWER\": \"holambra\"}'], ['{\"LOWER\": \"holbæk\"}'], ['{\"LOWER\": \"holguín\"}'], ['{\"LOWER\": \"holland\"}', '{\"LOWER\": \"village\"}'], ['{\"LOWER\": \"hollerich\"}', '{\"LOWER\": \"bonnevoie\"}'], ['{\"LOWER\": \"holon\"}'], ['{\"LOWER\": \"holstebro\"}'], ['{\"LOWER\": \"homa\"}', '{\"LOWER\": \"bay\"}'], ['{\"LOWER\": \"hondarribia\"}'], ['{\"LOWER\": \"hong\"}', '{\"LOWER\": \"kong\"}'], ['{\"LOWER\": \"honiara\"}'], ['{\"LOWER\": \"hope\"}', '{\"LOWER\": \"town\"}'], ['{\"LOWER\": \"horsens\"}'], ['{\"LOWER\": \"horsham\"}'], ['{\"LOWER\": \"horten\"}'], ['{\"LOWER\": \"hortolândia\"}'], ['{\"LOWER\": \"hospet\"}'], ['{\"LOWER\": \"hořice\"}'], ['{\"LOWER\": \"hpa\"}', '{\"LOWER\": \"an\"}'], ['{\"LOWER\": \"hradec\"}', '{\"LOWER\": \"králové\"}'], ['{\"LOWER\": \"hrairia\"}'], ['{\"LOWER\": \"hrastnik\"}'], ['{\"LOWER\": \"hsinchu\"}'], ['{\"LOWER\": \"hsinking\"}'], ['{\"LOWER\": \"hua\"}', '{\"LOWER\": \"hin\"}'], ['{\"LOWER\": \"huacaraje\"}'], ['{\"LOWER\": \"huachacalla\"}'], ['{\"LOWER\": \"huacho\"}'], ['{\"LOWER\": \"huamachuco\"}'], ['{\"LOWER\": \"huambo\"}'], ['{\"LOWER\": \"huanca\"}', '{\"LOWER\": \"sancos\"}'], ['{\"LOWER\": \"huancabamba\"}'], ['{\"LOWER\": \"huancané\"}'], ['{\"LOWER\": \"huancavelica\"}'], ['{\"LOWER\": \"huancayo\"}'], ['{\"LOWER\": \"huanchaco\"}'], ['{\"LOWER\": \"huanta\"}'], ['{\"LOWER\": \"huanuni\"}'], ['{\"LOWER\": \"huaquillas\"}'], ['{\"LOWER\": \"huaral\"}'], ['{\"LOWER\": \"huaraz\"}'], ['{\"LOWER\": \"huari\"}'], ['{\"LOWER\": \"huarmey\"}'], ['{\"LOWER\": \"huaura\"}'], ['{\"LOWER\": \"huaytará\"}'], ['{\"LOWER\": \"hub\"}'], ['{\"LOWER\": \"hubli\"}'], ['{\"LOWER\": \"hudur\"}'], ['{\"LOWER\": \"huehuetenango\"}'], ['{\"LOWER\": \"huejotzingo\"}'], ['{\"LOWER\": \"huelva\"}'], ['{\"LOWER\": \"huining\"}', '{\"LOWER\": \"prefecture\"}'], ['{\"LOWER\": \"huittinen\"}'], ['{\"LOWER\": \"hukuntsi\"}'], ['{\"LOWER\": \"humahuaca\"}'], ['{\"LOWER\": \"humera\"}'], ['{\"LOWER\": \"hun\"}'], ['{\"LOWER\": \"hunjiang\"}', '{\"LOWER\": \"city\"}'], ['{\"LOWER\": \"hunza\"}'], ['{\"LOWER\": \"hurghada\"}'], ['{\"LOWER\": \"hurna\"}'], ['{\"LOWER\": \"husseiniya\"}'], ['{\"LOWER\": \"huánuco\"}'], ['{\"LOWER\": \"hvammstangi\"}'], ['{\"LOWER\": \"hveragerði\"}'], ['{\"LOWER\": \"hvolsvöllur\"}'], ['{\"LOWER\": \"hwange\"}'], ['{\"LOWER\": \"hwaseong\"}'], ['{\"LOWER\": \"hybla\"}', '{\"LOWER\": \"heraea\"}'], ['{\"LOWER\": \"hybla\"}', '{\"LOWER\": \"major\"}'], ['{\"LOWER\": \"hyderabad\"}'], ['{\"LOWER\": \"hyria\"}'], ['{\"LOWER\": \"hyvinkää\"}'], ['{\"LOWER\": \"hämeenlinna\"}'], ['{\"LOWER\": \"hîncești\"}'], ['{\"LOWER\": \"hólar\"}'], ['{\"LOWER\": \"hólmavík\"}'], ['{\"LOWER\": \"höfn\"}'], ['{\"LOWER\": \"hørsholm\"}'], ['{\"LOWER\": \"húsavík\"}'], ['{\"LOWER\": \"hīt\"}'], ['{\"LOWER\": \"iacanga\"}'], ['{\"LOWER\": \"iacri\"}'], ['{\"LOWER\": \"ialoveni\"}'], ['{\"LOWER\": \"iaras\"}'], ['{\"LOWER\": \"iasos\"}'], ['{\"LOWER\": \"ibadan\"}'], ['{\"LOWER\": \"ibagué\"}'], ['{\"LOWER\": \"ibarra\"}'], ['{\"LOWER\": \"ibaté\"}'], ['{\"LOWER\": \"ibb\"}'], ['{\"LOWER\": \"ibirarema\"}'], ['{\"LOWER\": \"ibirá\"}'], ['{\"LOWER\": \"ibitinga\"}'], ['{\"LOWER\": \"ibiúna\"}'], ['{\"LOWER\": \"ica\"}'], ['{\"LOWER\": \"ichalkaranji\"}'], ['{\"LOWER\": \"ichinomiya\"}'], ['{\"LOWER\": \"icém\"}'], ['{\"LOWER\": \"idanre\"}'], ['{\"LOWER\": \"idenau\"}'], ['{\"LOWER\": \"idhna\"}'], ['{\"LOWER\": \"idiofa\"}'], ['{\"LOWER\": \"idku\"}'], ['{\"LOWER\": \"idlib\"}'], ['{\"LOWER\": \"idrias\"}'], ['{\"LOWER\": \"ie\"}'], ['{\"LOWER\": \"iepê\"}'], ['{\"LOWER\": \"ietas\"}'], ['{\"LOWER\": \"ife\"}'], ['{\"LOWER\": \"ifrane\"}'], ['{\"LOWER\": \"igarapava\"}'], ['{\"LOWER\": \"igaratá\"}'], ['{\"LOWER\": \"igaraçu\"}', '{\"LOWER\": \"do\"}', '{\"LOWER\": \"tietê\"}'], ['{\"LOWER\": \"ignatievo\"}'], ['{\"LOWER\": \"iguala\"}'], ['{\"LOWER\": \"iguape\"}'], ['{\"LOWER\": \"iim\"}'], ['{\"LOWER\": \"iisalmi\"}'], ['{\"LOWER\": \"ikaalinen\"}'], ['{\"LOWER\": \"ikast\"}'], ['{\"LOWER\": \"ikela\"}'], ['{\"LOWER\": \"ikere\"}', '{\"LOWER\": \"ekiti\"}'], ['{\"LOWER\": \"ilam\"}'], ['{\"LOWER\": \"ilave\"}'], ['{\"LOWER\": \"ile\"}'], ['{\"LOWER\": \"ilebo\"}'], ['{\"LOWER\": \"ilesa\"}'], ['{\"LOWER\": \"ilha\"}', '{\"LOWER\": \"comprida\"}'], ['{\"LOWER\": \"ilha\"}', '{\"LOWER\": \"solteira\"}'], ['{\"LOWER\": \"ilhabela\"}'], ['{\"LOWER\": \"ilirska\"}', '{\"LOWER\": \"bistrica\"}'], ['{\"LOWER\": \"illaga\"}'], ['{\"LOWER\": \"ilo\"}'], ['{\"LOWER\": \"ilorin\"}'], ['{\"LOWER\": \"ilulissat\"}'], ['{\"LOWER\": \"ilıca\"}'], ['{\"LOWER\": \"imachara\"}'], ['{\"LOWER\": \"imasgho\"}'], ['{\"LOWER\": \"imatra\"}'], ['{\"LOWER\": \"imesi\"}', '{\"LOWER\": \"ile\"}'], ['{\"LOWER\": \"imishli\"}'], ['{\"LOWER\": \"impfondo\"}'], ['{\"LOWER\": \"imphal\"}'], ['{\"LOWER\": \"imías\"}'], ['{\"LOWER\": \"indaiatuba\"}'], ['{\"LOWER\": \"independencia\"}'], ['{\"LOWER\": \"indiana\"}', '{\"LOWER\": \",\"}', '{\"LOWER\": \"são\"}', '{\"LOWER\": \"paulo\"}'], ['{\"LOWER\": \"indiaporã\"}'], ['{\"LOWER\": \"indore\"}'], ['{\"LOWER\": \"ingeniero\"}', '{\"LOWER\": \"jacobacci\"}'], ['{\"LOWER\": \"ingeniero\"}', '{\"LOWER\": \"pablo\"}', '{\"LOWER\": \"nogués\"}'], ['{\"LOWER\": \"inhambane\"}'], ['{\"LOWER\": \"injibara\"}'], ['{\"LOWER\": \"inkhil\"}'], ['{\"LOWER\": \"innsbruck\"}'], ['{\"LOWER\": \"integrated\"}', '{\"LOWER\": \"urban\"}', '{\"LOWER\": \"water\"}', '{\"LOWER\": \"management\"}', '{\"LOWER\": \"in\"}', '{\"LOWER\": \"medellín\"}', '{\"LOWER\": \",\"}', '{\"LOWER\": \"colombia\"}'], ['{\"LOWER\": \"interamna\"}', '{\"LOWER\": \"lirenas\"}'], ['{\"LOWER\": \"intibili\"}'], ['{\"LOWER\": \"invercargill\"}'], ['{\"LOWER\": \"inverness\"}'], ['{\"LOWER\": \"inycum\"}'], ['{\"LOWER\": \"inúbia\"}', '{\"LOWER\": \"paulista\"}'], ['{\"LOWER\": \"ioannina\"}'], ['{\"LOWER\": \"ipaussu\"}'], ['{\"LOWER\": \"iperó\"}'], ['{\"LOWER\": \"ipeúna\"}'], ['{\"LOWER\": \"ipiguá\"}'], ['{\"LOWER\": \"iporanga\"}'], ['{\"LOWER\": \"ipswich\"}'], ['{\"LOWER\": \"ipuã\"}'], ['{\"LOWER\": \"iquitos\"}'], ['{\"LOWER\": \"iracemápolis\"}'], ['{\"LOWER\": \"irapuato\"}'], ['{\"LOWER\": \"irapuru\"}'], ['{\"LOWER\": \"irapuã\"}'], ['{\"LOWER\": \"irbid\"}'], ['{\"LOWER\": \"iringa\"}'], ['{\"LOWER\": \"ironcollo\"}'], ['{\"LOWER\": \"irupana\"}'], ['{\"LOWER\": \"isa\"}', '{\"LOWER\": \"town\"}'], ['{\"LOWER\": \"ischia\"}', '{\"LOWER\": \"di\"}', '{\"LOWER\": \"castro\"}'], ['{\"LOWER\": \"iseyin\"}'], ['{\"LOWER\": \"isfana\"}'], ['{\"LOWER\": \"isfara\"}'], ['{\"LOWER\": \"ishozi\"}'], ['{\"LOWER\": \"isidro\"}', '{\"LOWER\": \"casanova\"}'], ['{\"LOWER\": \"isiolo\"}'], ['{\"LOWER\": \"isiro\"}'], ['{\"LOWER\": \"iskandar\"}', '{\"LOWER\": \"puteri\"}'], ['{\"LOWER\": \"iskandariya\"}'], ['{\"LOWER\": \"iskar\"}'], ['{\"LOWER\": \"islamabad\"}'], ['{\"LOWER\": \"islamkot\"}'], ['{\"LOWER\": \"island\"}', '{\"LOWER\": \"of\"}', '{\"LOWER\": \"mozambique\"}'], ['{\"LOWER\": \"ismaïlia\"}'], ['{\"LOWER\": \"isparta\"}'], ['{\"LOWER\": \"isperih\"}'], ['{\"LOWER\": \"istarawshan\"}'], ['{\"LOWER\": \"istočno\"}', '{\"LOWER\": \"sarajevo\"}'], ['{\"LOWER\": \"itaberá\"}'], ['{\"LOWER\": \"itahari\"}'], ['{\"LOWER\": \"itajobi\"}'], ['{\"LOWER\": \"itaju\"}'], ['{\"LOWER\": \"itanagar\"}'], ['{\"LOWER\": \"itanhaém\"}'], ['{\"LOWER\": \"itaoca\"}'], ['{\"LOWER\": \"itapecerica\"}', '{\"LOWER\": \"da\"}', '{\"LOWER\": \"serra\"}'], ['{\"LOWER\": \"itapetininga\"}'], ['{\"LOWER\": \"itapeva\"}', '{\"LOWER\": \",\"}', '{\"LOWER\": \"são\"}', '{\"LOWER\": \"paulo\"}'], ['{\"LOWER\": \"itapevi\"}'], ['{\"LOWER\": \"itapira\"}'], ['{\"LOWER\": \"itapirapuã\"}', '{\"LOWER\": \"paulista\"}'], ['{\"LOWER\": \"itaporanga\"}', '{\"LOWER\": \",\"}', '{\"LOWER\": \"são\"}', '{\"LOWER\": \"paulo\"}'], ['{\"LOWER\": \"itapura\"}'], ['{\"LOWER\": \"itapuí\"}'], ['{\"LOWER\": \"itaquaquecetuba\"}'], ['{\"LOWER\": \"itararé\"}'], ['{\"LOWER\": \"itariri\"}'], ['{\"LOWER\": \"itatiba\"}'], ['{\"LOWER\": \"itaí\"}'], ['{\"LOWER\": \"itirapina\"}'], ['{\"LOWER\": \"itirapuã\"}'], ['{\"LOWER\": \"itobi\"}'], ['{\"LOWER\": \"ittoqqortoormiit\"}'], ['{\"LOWER\": \"itu\"}'], ['{\"LOWER\": \"ituiutaba\"}'], ['{\"LOWER\": \"ituni\"}'], ['{\"LOWER\": \"itupeva\"}'], ['{\"LOWER\": \"ituverava\"}'], ['{\"LOWER\": \"itápolis\"}'], ['{\"LOWER\": \"iuvavum\"}'], ['{\"LOWER\": \"ivanjica\"}'], ['{\"LOWER\": \"ivirgarzama\"}'], ['{\"LOWER\": \"iwonicz\"}', '{\"LOWER\": \"zdrój\"}'], ['{\"LOWER\": \"ixiamas\"}'], ['{\"LOWER\": \"izatovci\"}'], ['{\"LOWER\": \"izbica\"}', '{\"LOWER\": \"kujawska\"}'], ['{\"LOWER\": \"izki\"}'], ['{\"LOWER\": \"izola\"}'], ['{\"LOWER\": \"izra\"}'], ['{\"LOWER\": \"iñapari\"}'], ['{\"LOWER\": \"iğdır\"}'], ['{\"LOWER\": \"iłowa\"}'], ['{\"LOWER\": \"iłża\"}'], ['{\"LOWER\": \"ińsko\"}'], ['{\"LOWER\": \"işıklar\"}'], ['{\"LOWER\": \"i̇nallı\"}'], ['{\"LOWER\": \"i̇negöl\"}'], ['{\"LOWER\": \"i̇ske\"}', '{\"LOWER\": \"qazan\"}'], ['{\"LOWER\": \"i̇smayıllı\"}'], ['{\"LOWER\": \"i̇smil\"}'], ['{\"LOWER\": \"i̇zmit\"}'], ['{\"LOWER\": \"jabalia\"}'], ['{\"LOWER\": \"jabalpur\"}'], ['{\"LOWER\": \"jableh\"}'], ['{\"LOWER\": \"jablonec\"}', '{\"LOWER\": \"nad\"}', '{\"LOWER\": \"nisou\"}'], ['{\"LOWER\": \"jaborandi\"}', '{\"LOWER\": \",\"}', '{\"LOWER\": \"são\"}', '{\"LOWER\": \"paulo\"}'], ['{\"LOWER\": \"jaboticabal\"}'], ['{\"LOWER\": \"jabłonowo\"}', '{\"LOWER\": \"pomorskie\"}'], ['{\"LOWER\": \"jacareí\"}'], ['{\"LOWER\": \"jaci\"}', '{\"LOWER\": \",\"}', '{\"LOWER\": \"são\"}', '{\"LOWER\": \"paulo\"}'], ['{\"LOWER\": \"jacobabad\"}'], ['{\"LOWER\": \"jacqueville\"}'], ['{\"LOWER\": \"jacupiranga\"}'], ['{\"LOWER\": \"jaffa\"}'], ['{\"LOWER\": \"jaffna\"}'], ['{\"LOWER\": \"jagdalpur\"}'], ['{\"LOWER\": \"jagoh\"}'], ['{\"LOWER\": \"jaguariúna\"}'], ['{\"LOWER\": \"jagüey\"}', '{\"LOWER\": \"grande\"}'], ['{\"LOWER\": \"jahanpanah\"}'], ['{\"LOWER\": \"jaisalmer\"}'], ['{\"LOWER\": \"jakarta\"}'], ['{\"LOWER\": \"jakobstad\"}'], ['{\"LOWER\": \"jalal\"}', '{\"LOWER\": \"abad\"}'], ['{\"LOWER\": \"jalalabad\"}'], ['{\"LOWER\": \"jalalpur\"}', '{\"LOWER\": \"bhattian\"}'], ['{\"LOWER\": \"jalandhar\"}'], ['{\"LOWER\": \"jalapa\"}'], ['{\"LOWER\": \"jales\"}'], ['{\"LOWER\": \"jalgaon\"}'], ['{\"LOWER\": \"jalna\"}'], ['{\"LOWER\": \"jalore\"}'], ['{\"LOWER\": \"jalpa\"}', '{\"LOWER\": \"de\"}', '{\"LOWER\": \"méndez\"}'], ['{\"LOWER\": \"jaltipan\"}', '{\"LOWER\": \"de\"}', '{\"LOWER\": \"morelos\"}'], ['{\"LOWER\": \"jambeiro\"}'], ['{\"LOWER\": \"jamestown\"}'], ['{\"LOWER\": \"jammu\"}'], ['{\"LOWER\": \"jamnagar\"}'], ['{\"LOWER\": \"jamshedpur\"}'], ['{\"LOWER\": \"jamtara\"}'], ['{\"LOWER\": \"janakpurdham\"}'], ['{\"LOWER\": \"jandira\"}'], ['{\"LOWER\": \"janikowo\"}'], ['{\"LOWER\": \"janjgir\"}'], ['{\"LOWER\": \"janowiec\"}', '{\"LOWER\": \"wielkopolski\"}'], ['{\"LOWER\": \"janzur\"}'], ['{\"LOWER\": \"janów\"}', '{\"LOWER\": \"lubelski\"}'], ['{\"LOWER\": \"jarabulus\"}'], ['{\"LOWER\": \"jaramana\"}'], ['{\"LOWER\": \"jaramijó\"}'], ['{\"LOWER\": \"jardinópolis\"}'], ['{\"LOWER\": \"jardín\"}', '{\"LOWER\": \"américa\"}'], ['{\"LOWER\": \"jarinu\"}'], ['{\"LOWER\": \"jarmuth\"}'], ['{\"LOWER\": \"jarocin\"}'], ['{\"LOWER\": \"jaruco\"}'], ['{\"LOWER\": \"jasień\"}', '{\"LOWER\": \",\"}', '{\"LOWER\": \"lubusz\"}', '{\"LOWER\": \"voivodeship\"}'], ['{\"LOWER\": \"jastrebarsko\"}'], ['{\"LOWER\": \"jastrowie\"}'], ['{\"LOWER\": \"jastrzębie\"}', '{\"LOWER\": \"zdrój\"}'], ['{\"LOWER\": \"jauja\"}'], ['{\"LOWER\": \"jaunpur\"}'], ['{\"LOWER\": \"jawi\"}', '{\"LOWER\": \",\"}', '{\"LOWER\": \"penang\"}'], ['{\"LOWER\": \"jaworzno\"}'], ['{\"LOWER\": \"jaworzyna\"}', '{\"LOWER\": \"śląska\"}'], ['{\"LOWER\": \"jayrud\"}'], ['{\"LOWER\": \"jazer\"}'], ['{\"LOWER\": \"jaén\"}'], ['{\"LOWER\": \"jaú\"}'], ['{\"LOWER\": \"jaʿār\"}'], ['{\"LOWER\": \"jeddah\"}'], ['{\"LOWER\": \"jedlicze\"}'], ['{\"LOWER\": \"jedwabne\"}'], ['{\"LOWER\": \"jelcz\"}', '{\"LOWER\": \"laskowice\"}'], ['{\"LOWER\": \"jelenia\"}', '{\"LOWER\": \"góra\"}'], ['{\"LOWER\": \"jelgava\"}'], ['{\"LOWER\": \"jena\"}'], ['{\"LOWER\": \"jenin\"}', '{\"LOWER\": \",\"}', '{\"LOWER\": \"palestine\"}'], ['{\"LOWER\": \"jerada\"}'], ['{\"LOWER\": \"jerash\"}'], ['{\"LOWER\": \"jerez\"}', '{\"LOWER\": \"de\"}', '{\"LOWER\": \"la\"}', '{\"LOWER\": \"frontera\"}'], ['{\"LOWER\": \"jerez\"}', '{\"LOWER\": \"de\"}', '{\"LOWER\": \"los\"}', '{\"LOWER\": \"caballeros\"}'], ['{\"LOWER\": \"jericho\"}'], ['{\"LOWER\": \"jeriquara\"}'], ['{\"LOWER\": \"jerusalem\"}'], ['{\"LOWER\": \"jesús\"}', '{\"LOWER\": \"maría\"}'], ['{\"LOWER\": \"jesús\"}', '{\"LOWER\": \"menéndez\"}'], ['{\"LOWER\": \"jesús\"}', '{\"LOWER\": \",\"}', '{\"LOWER\": \"peru\"}'], ['{\"LOWER\": \"jeziorany\"}'], ['{\"LOWER\": \"jezkazgan\"}'], ['{\"LOWER\": \"jhalokati\"}'], ['{\"LOWER\": \"jhang\"}'], ['{\"LOWER\": \"jhansi\"}'], ['{\"LOWER\": \"jhelum\"}'], ['{\"LOWER\": \"jibla\"}'], ['{\"LOWER\": \"jiguaní\"}'], ['{\"LOWER\": \"jijiga\"}'], ['{\"LOWER\": \"jimaguayú\"}'], ['{\"LOWER\": \"jimeta\"}'], ['{\"LOWER\": \"jimma\"}'], ['{\"LOWER\": \"jinja\"}'], ['{\"LOWER\": \"jinotega\"}'], ['{\"LOWER\": \"jinotepe\"}'], ['{\"LOWER\": \"jipijapa\"}'], ['{\"LOWER\": \"jisr\"}', '{\"LOWER\": \"al\"}', '{\"LOWER\": \"shughur\"}'], ['{\"LOWER\": \"jiutepec\"}'], ['{\"LOWER\": \"jizan\"}'], ['{\"LOWER\": \"jizzakh\"}'], ['{\"LOWER\": \"joal\"}', '{\"LOWER\": \"fadiouth\"}'], ['{\"LOWER\": \"joanópolis\"}'], ['{\"LOWER\": \"jodhpur\"}'], ['{\"LOWER\": \"jodoigne\"}'], ['{\"LOWER\": \"joensuu\"}'], ['{\"LOWER\": \"johannesburg\"}'], ['{\"LOWER\": \"jolfa\"}', '{\"LOWER\": \",\"}', '{\"LOWER\": \"azerbaijan\"}'], ['{\"LOWER\": \"jonava\"}'], ['{\"LOWER\": \"joniškis\"}'], ['{\"LOWER\": \"joniškėlis\"}'], ['{\"LOWER\": \"joondalup\"}'], ['{\"LOWER\": \"jorf\"}'], ['{\"LOWER\": \"jorochito\"}'], ['{\"LOWER\": \"jos\"}'], ['{\"LOWER\": \"josé\"}', '{\"LOWER\": \"bonifácio\"}', '{\"LOWER\": \",\"}', '{\"LOWER\": \"são\"}', '{\"LOWER\": \"paulo\"}'], ['{\"LOWER\": \"josé\"}', '{\"LOWER\": \"c.\"}', '{\"LOWER\": \"paz\"}'], ['{\"LOWER\": \"josé\"}', '{\"LOWER\": \"enrique\"}', '{\"LOWER\": \"rodó\"}'], ['{\"LOWER\": \"josé\"}', '{\"LOWER\": \"pedro\"}', '{\"LOWER\": \"varela\"}'], ['{\"LOWER\": \"josé\"}', '{\"LOWER\": \"santos\"}', '{\"LOWER\": \"guardiola\"}'], ['{\"LOWER\": \"jounieh\"}'], ['{\"LOWER\": \"jovellanos\"}'], ['{\"LOWER\": \"joão\"}', '{\"LOWER\": \"ramalho\"}'], ['{\"LOWER\": \"ju\"}'], ['{\"LOWER\": \"juan\"}', '{\"LOWER\": \"bautista\"}', '{\"LOWER\": \"alberdi\"}'], ['{\"LOWER\": \"juan\"}', '{\"LOWER\": \"griego\"}'], ['{\"LOWER\": \"juanjuí\"}'], ['{\"LOWER\": \"juba\"}'], ['{\"LOWER\": \"jubail\"}'], ['{\"LOWER\": \"jubbah\"}'], ['{\"LOWER\": \"judibana\"}'], ['{\"LOWER\": \"juhaynah\"}'], ['{\"LOWER\": \"juigalpa\"}'], ['{\"LOWER\": \"julcán\"}'], ['{\"LOWER\": \"juli\"}'], ['{\"LOWER\": \"juliaca\"}'], ['{\"LOWER\": \"juma\"}'], ['{\"LOWER\": \"jumbilla\"}'], ['{\"LOWER\": \"jumilla\"}'], ['{\"LOWER\": \"jumirim\"}'], ['{\"LOWER\": \"jumla\"}'], ['{\"LOWER\": \"junagadh\"}'], ['{\"LOWER\": \"jundiaí\"}'], ['{\"LOWER\": \"junnar\"}'], ['{\"LOWER\": \"junqueirópolis\"}'], ['{\"LOWER\": \"junín\"}'], ['{\"LOWER\": \"juquitiba\"}'], ['{\"LOWER\": \"juquiá\"}'], ['{\"LOWER\": \"jurbarkas\"}'], ['{\"LOWER\": \"juticalpa\"}'], ['{\"LOWER\": \"jutrosin\"}'], ['{\"LOWER\": \"jvari\"}'], ['{\"LOWER\": \"jwaya\"}'], ['{\"LOWER\": \"jyväskylä\"}'], ['{\"LOWER\": \"jämsä\"}'], ['{\"LOWER\": \"järvenpää\"}'], ['{\"LOWER\": \"józefów\"}', '{\"LOWER\": \"nad\"}', '{\"LOWER\": \"wisłą\"}'], ['{\"LOWER\": \"józefów\"}', '{\"LOWER\": \",\"}', '{\"LOWER\": \"biłgoraj\"}', '{\"LOWER\": \"county\"}'], ['{\"LOWER\": \"júlio\"}', '{\"LOWER\": \"mesquita\"}'], ['{\"LOWER\": \"jędrzejów\"}'], ['{\"LOWER\": \"k\\'iche\"}', '{\"LOWER\": \"\\'\"}', '{\"LOWER\": \"kingdom\"}', '{\"LOWER\": \"of\"}', '{\"LOWER\": \"q\\'umarkaj\"}'], ['{\"LOWER\": \"kaarina\"}'], ['{\"LOWER\": \"kabala\"}'], ['{\"LOWER\": \"kabalo\"}'], ['{\"LOWER\": \"kabara\"}', '{\"LOWER\": \",\"}', '{\"LOWER\": \"mali\"}'], ['{\"LOWER\": \"kableshkovo\"}'], ['{\"LOWER\": \"kabul\"}'], ['{\"LOWER\": \"kabwe\"}'], ['{\"LOWER\": \"kadam\"}', '{\"LOWER\": \"rasul\"}'], ['{\"LOWER\": \"kadoma\"}'], ['{\"LOWER\": \"kaduna\"}'], ['{\"LOWER\": \"kafr\"}', '{\"LOWER\": \"el\"}', '{\"LOWER\": \"dawwar\"}'], ['{\"LOWER\": \"kafr\"}', '{\"LOWER\": \"el\"}', '{\"LOWER\": \"sheikh\"}'], ['{\"LOWER\": \"kafr\"}', '{\"LOWER\": \"qasim\"}'], ['{\"LOWER\": \"kafr\"}', '{\"LOWER\": \"shukr\"}'], ['{\"LOWER\": \"kaga\"}', '{\"LOWER\": \"bandoro\"}'], ['{\"LOWER\": \"kagal\"}'], ['{\"LOWER\": \"kagan\"}'], ['{\"LOWER\": \"kageshwori\"}', '{\"LOWER\": \"manohara\"}'], ['{\"LOWER\": \"kago\"}', '{\"LOWER\": \"kaju\"}'], ['{\"LOWER\": \"kagoshima\"}'], ['{\"LOWER\": \"kahama\"}'], ['{\"LOWER\": \"kahone\"}'], ['{\"LOWER\": \"kahramanmaraş\"}'], ['{\"LOWER\": \"kailahun\"}'], ['{\"LOWER\": \"kairana\"}'], ['{\"LOWER\": \"kajaani\"}'], ['{\"LOWER\": \"kajiado\"}'], ['{\"LOWER\": \"kakamega\"}'], ['{\"LOWER\": \"kakata\"}'], ['{\"LOWER\": \"kalaiya\"}', '{\"LOWER\": \",\"}', '{\"LOWER\": \"nepal\"}'], ['{\"LOWER\": \"kalajoki\"}'], ['{\"LOWER\": \"kalbajar\"}'], ['{\"LOWER\": \"kalbe\"}'], ['{\"LOWER\": \"kalecik\"}'], ['{\"LOWER\": \"kalemie\"}'], ['{\"LOWER\": \"kalenić\"}'], ['{\"LOWER\": \"kalfou\"}'], ['{\"LOWER\": \"kalgoorlie\"}'], ['{\"LOWER\": \"kaliakair\"}'], ['{\"LOWER\": \"kalisz\"}'], ['{\"LOWER\": \"kalisz\"}', '{\"LOWER\": \"pomorski\"}'], ['{\"LOWER\": \"kallithea\"}'], ['{\"LOWER\": \"kallurkot\"}'], ['{\"LOWER\": \"kalundborg\"}'], ['{\"LOWER\": \"kalvarija\"}'], ['{\"LOWER\": \"kalwaria\"}', '{\"LOWER\": \"zebrzydowska\"}'], ['{\"LOWER\": \"kamalamai\"}'], ['{\"LOWER\": \"kambia\"}', '{\"LOWER\": \",\"}', '{\"LOWER\": \"sierra\"}', '{\"LOWER\": \"leone\"}'], ['{\"LOWER\": \"kambove\"}'], ['{\"LOWER\": \"kamenica\"}'], ['{\"LOWER\": \"kameno\"}'], ['{\"LOWER\": \"kamień\"}', '{\"LOWER\": \"krajeński\"}'], ['{\"LOWER\": \"kamieńsk\"}'], ['{\"LOWER\": \"kamina\"}'], ['{\"LOWER\": \"kamloops\"}'], ['{\"LOWER\": \"kamnik\"}'], ['{\"LOWER\": \"kampala\"}'], ['{\"LOWER\": \"kampar\"}'], ['{\"LOWER\": \"kampen\"}'], ['{\"LOWER\": \"kampong\"}', '{\"LOWER\": \"cham\"}'], ['{\"LOWER\": \"kampong\"}', '{\"LOWER\": \"speu\"}'], ['{\"LOWER\": \"kampong\"}', '{\"LOWER\": \"thom\"}'], ['{\"LOWER\": \"kampot\"}'], ['{\"LOWER\": \"kamëz\"}'], ['{\"LOWER\": \"kananga\"}'], ['{\"LOWER\": \"kandahar\"}'], ['{\"LOWER\": \"kandhkot\"}'], ['{\"LOWER\": \"kandikuppam\"}'], ['{\"LOWER\": \"kandy\"}'], ['{\"LOWER\": \"kandé\"}'], ['{\"LOWER\": \"kanel\"}'], ['{\"LOWER\": \"kangaatsiaq\"}'], ['{\"LOWER\": \"kankaanpää\"}'], ['{\"LOWER\": \"kannus\"}'], ['{\"LOWER\": \"kano\"}'], ['{\"LOWER\": \"kanpur\"}'], ['{\"LOWER\": \"kant\"}'], ['{\"LOWER\": \"kanyabayonga\"}'], ['{\"LOWER\": \"kanyakumari\"}'], ['{\"LOWER\": \"kanye\"}'], ['{\"LOWER\": \"kaohsiung\"}'], ['{\"LOWER\": \"kaolack\"}'], ['{\"LOWER\": \"kaolinovo\"}'], ['{\"LOWER\": \"kapaklı\"}'], ['{\"LOWER\": \"kapchagay\"}'], ['{\"LOWER\": \"kapelhoek\"}'], ['{\"LOWER\": \"kapurthala\"}'], ['{\"LOWER\": \"kara\"}', '{\"LOWER\": \"suu\"}'], ['{\"LOWER\": \"karaağaç\"}'], ['{\"LOWER\": \"karaburna\"}'], ['{\"LOWER\": \"karabük\"}'], ['{\"LOWER\": \"karadeniz\"}', '{\"LOWER\": \"ereğli\"}'], ['{\"LOWER\": \"karaganda\"}'], ['{\"LOWER\": \"karak\"}'], ['{\"LOWER\": \"karakol\"}'], ['{\"LOWER\": \"karakore\"}'], ['{\"LOWER\": \"karakorum\"}'], ['{\"LOWER\": \"karaköl\"}'], ['{\"LOWER\": \"karaman\"}'], ['{\"LOWER\": \"karapınar\"}'], ['{\"LOWER\": \"karasburg\"}'], ['{\"LOWER\": \"karatau\"}'], ['{\"LOWER\": \"karayılan\"}', '{\"LOWER\": \",\"}', '{\"LOWER\": \"i̇skenderun\"}'], ['{\"LOWER\": \"karaçulha\"}'], ['{\"LOWER\": \"karbala\"}'], ['{\"LOWER\": \"karditsa\"}'], ['{\"LOWER\": \"kardzhali\"}'], ['{\"LOWER\": \"kareli\"}'], ['{\"LOWER\": \"kargowa\"}'], ['{\"LOWER\": \"kargıpınarı\"}'], ['{\"LOWER\": \"kariba\"}'], ['{\"LOWER\": \"karkh\"}'], ['{\"LOWER\": \"karkkila\"}'], ['{\"LOWER\": \"karl\"}', '{\"LOWER\": \"johan\"}', '{\"LOWER\": \"city\"}'], ['{\"LOWER\": \"karlino\"}'], ['{\"LOWER\": \"karlovo\"}'], ['{\"LOWER\": \"karlovy\"}', '{\"LOWER\": \"vary\"}'], ['{\"LOWER\": \"karmiel\"}'], ['{\"LOWER\": \"karnak\"}'], ['{\"LOWER\": \"karnobat\"}'], ['{\"LOWER\": \"kars\"}'], ['{\"LOWER\": \"karviná\"}'], ['{\"LOWER\": \"kasaka\"}', '{\"LOWER\": \"lci\"}'], ['{\"LOWER\": \"kasama\"}', '{\"LOWER\": \",\"}', '{\"LOWER\": \"zambia\"}'], ['{\"LOWER\": \"kasan\"}'], ['{\"LOWER\": \"kasane\"}'], ['{\"LOWER\": \"kasanga\"}'], ['{\"LOWER\": \"kasese\"}'], ['{\"LOWER\": \"kaskelen\"}'], ['{\"LOWER\": \"kaskinen\"}'], ['{\"LOWER\": \"kaspi\"}'], ['{\"LOWER\": \"kaspichan\"}'], ['{\"LOWER\": \"kassala\"}'], ['{\"LOWER\": \"kastamonu\"}'], ['{\"LOWER\": \"kastoria\"}'], ['{\"LOWER\": \"kasugai\"}'], ['{\"LOWER\": \"kasulu\"}'], ['{\"LOWER\": \"katerini\"}'], ['{\"LOWER\": \"kathmandu\"}'], ['{\"LOWER\": \"katima\"}', '{\"LOWER\": \"mulilo\"}'], ['{\"LOWER\": \"katiola\"}'], ['{\"LOWER\": \"katowice\"}'], ['{\"LOWER\": \"katsina\"}'], ['{\"LOWER\": \"katsushima\"}'], ['{\"LOWER\": \"katta\"}', '{\"LOWER\": \"kurgan\"}'], ['{\"LOWER\": \"katzrin\"}'], ['{\"LOWER\": \"kauhajoki\"}'], ['{\"LOWER\": \"kauhava\"}'], ['{\"LOWER\": \"kaunas\"}'], ['{\"LOWER\": \"kauniainen\"}'], ['{\"LOWER\": \"kavadarci\"}'], ['{\"LOWER\": \"kavajë\"}'], ['{\"LOWER\": \"kavala\"}'], ['{\"LOWER\": \"kavarskas\"}'], ['{\"LOWER\": \"kavieng\"}'], ['{\"LOWER\": \"kawagoe\"}'], ['{\"LOWER\": \"kawkaban\"}'], ['{\"LOWER\": \"kayanza\"}'], ['{\"LOWER\": \"kayseri\"}'], ['{\"LOWER\": \"kazanlak\"}'], ['{\"LOWER\": \"kazimierz\"}', '{\"LOWER\": \"dolny\"}'], ['{\"LOWER\": \"kazimierza\"}', '{\"LOWER\": \"wielka\"}'], ['{\"LOWER\": \"kazlų\"}', '{\"LOWER\": \"rūda\"}'], ['{\"LOWER\": \"kaçanik\"}'], ['{\"LOWER\": \"kaélé\"}'], ['{\"LOWER\": \"kać\"}'], ['{\"LOWER\": \"kałuszyn\"}'], ['{\"LOWER\": \"kańczuga\"}'], ['{\"LOWER\": \"kcynia\"}'], ['{\"LOWER\": \"kecskemét\"}'], ['{\"LOWER\": \"keelung\"}'], ['{\"LOWER\": \"keetmanshoop\"}'], ['{\"LOWER\": \"keflavík\"}'], ['{\"LOWER\": \"kegalle\"}'], ['{\"LOWER\": \"kele\"}', '{\"LOWER\": \",\"}', '{\"LOWER\": \"ethiopia\"}'], ['{\"LOWER\": \"kelmė\"}'], ['{\"LOWER\": \"kelowna\"}'], ['{\"LOWER\": \"kemer\"}'], ['{\"LOWER\": \"kemi\"}'], ['{\"LOWER\": \"kemijärvi\"}'], ['{\"LOWER\": \"kemise\"}'], ['{\"LOWER\": \"kenema\"}'], ['{\"LOWER\": \"kenge\"}', '{\"LOWER\": \",\"}', '{\"LOWER\": \"bandundu\"}'], ['{\"LOWER\": \"kengtung\"}'], ['{\"LOWER\": \"keningau\"}'], ['{\"LOWER\": \"kenitra\"}'], ['{\"LOWER\": \"kenscoff\"}'], ['{\"LOWER\": \"kepez\"}'], ['{\"LOWER\": \"kerava\"}'], ['{\"LOWER\": \"kerben\"}'], ['{\"LOWER\": \"kerema\"}'], ['{\"LOWER\": \"keren\"}', '{\"LOWER\": \",\"}', '{\"LOWER\": \"eritrea\"}'], ['{\"LOWER\": \"kericho\"}'], ['{\"LOWER\": \"kerki\"}'], ['{\"LOWER\": \"kerkrade\"}'], ['{\"LOWER\": \"kermen\"}'], ['{\"LOWER\": \"kestel\"}'], ['{\"LOWER\": \"keuruu\"}'], ['{\"LOWER\": \"kfar\"}', '{\"LOWER\": \"saba\"}'], ['{\"LOWER\": \"khaar\"}'], ['{\"LOWER\": \"khabab\"}'], ['{\"LOWER\": \"khachmaz\"}'], ['{\"LOWER\": \"khagrachari\"}'], ['{\"LOWER\": \"khairpur\"}', '{\"LOWER\": \"tamiwali\"}'], ['{\"LOWER\": \"khambhat\"}'], ['{\"LOWER\": \"khamir\"}'], ['{\"LOWER\": \"khamis\"}', '{\"LOWER\": \"mushait\"}'], ['{\"LOWER\": \"khan\"}', '{\"LOWER\": \"abad\"}'], ['{\"LOWER\": \"khan\"}', '{\"LOWER\": \"yunis\"}'], ['{\"LOWER\": \"khanaqin\"}'], ['{\"LOWER\": \"khanbaliq\"}'], ['{\"LOWER\": \"khandbari\"}'], ['{\"LOWER\": \"khandela\"}'], ['{\"LOWER\": \"khanpur\"}', '{\"LOWER\": \",\"}', '{\"LOWER\": \"gujarat\"}'], ['{\"LOWER\": \"khartoum\"}'], ['{\"LOWER\": \"khartoum\"}', '{\"LOWER\": \"north\"}'], ['{\"LOWER\": \"khashuri\"}'], ['{\"LOWER\": \"khemisset\"}'], ['{\"LOWER\": \"khenchela\"}'], ['{\"LOWER\": \"khenifra\"}'], ['{\"LOWER\": \"khereddine\"}'], ['{\"LOWER\": \"khiva\"}'], ['{\"LOWER\": \"khobi\"}'], ['{\"LOWER\": \"khojali\"}'], ['{\"LOWER\": \"khojavend\"}'], ['{\"LOWER\": \"kholm\"}'], ['{\"LOWER\": \"khombole\"}'], ['{\"LOWER\": \"khoni\"}'], ['{\"LOWER\": \"khorixas\"}'], ['{\"LOWER\": \"khorugh\"}'], ['{\"LOWER\": \"khovd\"}'], ['{\"LOWER\": \"khujand\"}'], ['{\"LOWER\": \"khulna\"}'], ['{\"LOWER\": \"khushalpur\"}'], ['{\"LOWER\": \"kibaha\"}'], ['{\"LOWER\": \"kibangou\"}'], ['{\"LOWER\": \"kibeho\"}'], ['{\"LOWER\": \"kibuye\"}'], ['{\"LOWER\": \"kidira\"}'], ['{\"LOWER\": \"kielce\"}'], ['{\"LOWER\": \"kieta\"}'], ['{\"LOWER\": \"kietrz\"}'], ['{\"LOWER\": \"kigoma\"}'], ['{\"LOWER\": \"kikinda\"}'], ['{\"LOWER\": \"kikwit\"}'], ['{\"LOWER\": \"kilaguni\"}'], ['{\"LOWER\": \"kilamba\"}'], ['{\"LOWER\": \"kilifarevo\"}'], ['{\"LOWER\": \"kilifi\"}'], ['{\"LOWER\": \"kilimli\"}'], ['{\"LOWER\": \"kilis\"}'], ['{\"LOWER\": \"kilkenny\"}'], ['{\"LOWER\": \"killiney\"}'], ['{\"LOWER\": \"kimpese\"}'], ['{\"LOWER\": \"kindu\"}'], ['{\"LOWER\": \"king\"}', '{\"LOWER\": \"abdulaziz\"}', '{\"LOWER\": \"city\"}', '{\"LOWER\": \"for\"}', '{\"LOWER\": \"science\"}', '{\"LOWER\": \"and\"}', '{\"LOWER\": \"technology\"}'], ['{\"LOWER\": \"kingston\"}'], ['{\"LOWER\": \"kingston\"}', '{\"LOWER\": \"upon\"}', '{\"LOWER\": \"hull\"}'], ['{\"LOWER\": \"kinkala\"}'], ['{\"LOWER\": \"kinshasa\"}'], ['{\"LOWER\": \"kipushi\"}'], ['{\"LOWER\": \"kirkenes\"}'], ['{\"LOWER\": \"kirkuk\"}'], ['{\"LOWER\": \"kirtipur\"}'], ['{\"LOWER\": \"kirundo\"}'], ['{\"LOWER\": \"kiryat\"}', '{\"LOWER\": \"ata\"}'], ['{\"LOWER\": \"kiryat\"}', '{\"LOWER\": \"bialik\"}'], ['{\"LOWER\": \"kiryat\"}', '{\"LOWER\": \"gat\"}'], ['{\"LOWER\": \"kiryat\"}', '{\"LOWER\": \"malakhi\"}'], ['{\"LOWER\": \"kiryat\"}', '{\"LOWER\": \"motzkin\"}'], ['{\"LOWER\": \"kiryat\"}', '{\"LOWER\": \"ono\"}'], ['{\"LOWER\": \"kiryat\"}', '{\"LOWER\": \"shmona\"}'], ['{\"LOWER\": \"kiryat\"}', '{\"LOWER\": \"yam\"}'], ['{\"LOWER\": \"kisangani\"}'], ['{\"LOWER\": \"kishm\"}'], ['{\"LOWER\": \"kisielice\"}'], ['{\"LOWER\": \"kisii\"}'], ['{\"LOWER\": \"kismayo\"}'], ['{\"LOWER\": \"kisumu\"}'], ['{\"LOWER\": \"kitakawabe\"}'], ['{\"LOWER\": \"kitale\"}'], ['{\"LOWER\": \"kitchener\"}'], ['{\"LOWER\": \"kitee\"}'], ['{\"LOWER\": \"kiten\"}', '{\"LOWER\": \",\"}', '{\"LOWER\": \"burgas\"}', '{\"LOWER\": \"province\"}'], ['{\"LOWER\": \"kittrell\"}', '{\"LOWER\": \",\"}', '{\"LOWER\": \"texas\"}'], ['{\"LOWER\": \"kitwe\"}'], ['{\"LOWER\": \"kiuruvesi\"}'], ['{\"LOWER\": \"kičevo\"}'], ['{\"LOWER\": \"kladno\"}'], ['{\"LOWER\": \"klaipėda\"}'], ['{\"LOWER\": \"kleczew\"}'], ['{\"LOWER\": \"kleszczele\"}'], ['{\"LOWER\": \"klimontów\"}', '{\"LOWER\": \",\"}', '{\"LOWER\": \"sandomierz\"}', '{\"LOWER\": \"county\"}'], ['{\"LOWER\": \"klisura\"}'], ['{\"LOWER\": \"klos\"}', '{\"LOWER\": \",\"}', '{\"LOWER\": \"mat\"}'], ['{\"LOWER\": \"kluczbork\"}'], ['{\"LOWER\": \"kmeti\"}'], ['{\"LOWER\": \"knyszyn\"}'], ['{\"LOWER\": \"koani\"}'], ['{\"LOWER\": \"kobo\"}'], ['{\"LOWER\": \"kobylin\"}'], ['{\"LOWER\": \"kochi\"}'], ['{\"LOWER\": \"kochkor\"}', '{\"LOWER\": \"ata\"}'], ['{\"LOWER\": \"kock\"}'], ['{\"LOWER\": \"koh\"}', '{\"LOWER\": \"kong\"}'], ['{\"LOWER\": \"kohima\"}'], ['{\"LOWER\": \"kohunlich\"}'], ['{\"LOWER\": \"koidutown\"}', '{\"LOWER\": \"sefadu\"}'], ['{\"LOWER\": \"kokemäki\"}'], ['{\"LOWER\": \"koki\"}'], ['{\"LOWER\": \"kokkola\"}'], ['{\"LOWER\": \"kokopo\"}'], ['{\"LOWER\": \"kokshetau\"}'], ['{\"LOWER\": \"kolar\"}'], ['{\"LOWER\": \"kolašin\"}'], ['{\"LOWER\": \"kolbuszowa\"}'], ['{\"LOWER\": \"kolda\"}'], ['{\"LOWER\": \"kolding\"}'], ['{\"LOWER\": \"kolhapur\"}'], ['{\"LOWER\": \"kollam\"}'], ['{\"LOWER\": \"kolmanskop\"}'], ['{\"LOWER\": \"kolonowskie\"}'], ['{\"LOWER\": \"koluszki\"}'], ['{\"LOWER\": \"kolwezi\"}'], ['{\"LOWER\": \"kom\"}', '{\"LOWER\": \"ombo\"}'], ['{\"LOWER\": \"komki\"}', '{\"LOWER\": \"ipala\"}'], ['{\"LOWER\": \"komotini\"}'], ['{\"LOWER\": \"konacık\"}'], ['{\"LOWER\": \"konaklı\"}'], ['{\"LOWER\": \"kong\"}'], ['{\"LOWER\": \"kongens\"}', '{\"LOWER\": \"lyngby\"}'], ['{\"LOWER\": \"konibodom\"}'], ['{\"LOWER\": \"koniecpol\"}'], ['{\"LOWER\": \"konin\"}'], ['{\"LOWER\": \"konongo\"}'], ['{\"LOWER\": \"konstancin\"}', '{\"LOWER\": \"jeziorna\"}'], ['{\"LOWER\": \"konya\"}'], ['{\"LOWER\": \"konye\"}'], ['{\"LOWER\": \"konye\"}', '{\"LOWER\": \"urgench\"}'], ['{\"LOWER\": \"koper\"}'], ['{\"LOWER\": \"kopong\"}'], ['{\"LOWER\": \"koprivnica\"}'], ['{\"LOWER\": \"koprivshtitsa\"}'], ['{\"LOWER\": \"koprzywnica\"}'], ['{\"LOWER\": \"korak\"}'], ['{\"LOWER\": \"korba\"}'], ['{\"LOWER\": \"kordié\"}'], ['{\"LOWER\": \"korfantów\"}'], ['{\"LOWER\": \"koro\"}'], ['{\"LOWER\": \"korogwe\"}'], ['{\"LOWER\": \"koronowo\"}'], ['{\"LOWER\": \"koror\"}'], ['{\"LOWER\": \"korsze\"}'], ['{\"LOWER\": \"korsør\"}'], ['{\"LOWER\": \"koru\"}'], ['{\"LOWER\": \"korçë\"}'], ['{\"LOWER\": \"kosonsoy\"}'], ['{\"LOWER\": \"kosovo\"}', '{\"LOWER\": \"polje\"}'], ['{\"LOWER\": \"kostandovo\"}'], ['{\"LOWER\": \"kostanjevica\"}', '{\"LOWER\": \"na\"}', '{\"LOWER\": \"krki\"}'], ['{\"LOWER\": \"kostenets\"}'], ['{\"LOWER\": \"kostrzyn\"}'], ['{\"LOWER\": \"koszalin\"}'], ['{\"LOWER\": \"koszyce\"}', '{\"LOWER\": \",\"}', '{\"LOWER\": \"lesser\"}', '{\"LOWER\": \"poland\"}', '{\"LOWER\": \"voivodeship\"}'], ['{\"LOWER\": \"kosów\"}', '{\"LOWER\": \"lacki\"}'], ['{\"LOWER\": \"kot\"}', '{\"LOWER\": \"momin\"}'], ['{\"LOWER\": \"kota\"}'], ['{\"LOWER\": \"kota\"}', '{\"LOWER\": \"kinabalu\"}'], ['{\"LOWER\": \"kotel\"}'], ['{\"LOWER\": \"kotka\"}'], ['{\"LOWER\": \"kotor\"}'], ['{\"LOWER\": \"koudougou\"}'], ['{\"LOWER\": \"koulamoutou\"}'], ['{\"LOWER\": \"koumpentoum\"}'], ['{\"LOWER\": \"koumra\"}'], ['{\"LOWER\": \"koungheul\"}'], ['{\"LOWER\": \"kousséri\"}'], ['{\"LOWER\": \"kouvola\"}'], ['{\"LOWER\": \"kowalewo\"}', '{\"LOWER\": \"pomorskie\"}'], ['{\"LOWER\": \"koynare\"}'], ['{\"LOWER\": \"koza\"}'], ['{\"LOWER\": \"kozan\"}'], ['{\"LOWER\": \"kozani\"}'], ['{\"LOWER\": \"kozhikode\"}'], ['{\"LOWER\": \"koziegłowy\"}', '{\"LOWER\": \",\"}', '{\"LOWER\": \"silesian\"}', '{\"LOWER\": \"voivodeship\"}'], ['{\"LOWER\": \"kozienice\"}'], ['{\"LOWER\": \"kozloduy\"}'], ['{\"LOWER\": \"kozlu\"}'], ['{\"LOWER\": \"kočani\"}'], ['{\"LOWER\": \"kołaczyce\"}'], ['{\"LOWER\": \"końskie\"}'], ['{\"LOWER\": \"koźle\"}'], ['{\"LOWER\": \"koźmin\"}', '{\"LOWER\": \"wielkopolski\"}'], ['{\"LOWER\": \"kożuchów\"}'], ['{\"LOWER\": \"kpalimé\"}'], ['{\"LOWER\": \"kragujevac\"}'], ['{\"LOWER\": \"krajenka\"}'], ['{\"LOWER\": \"kranj\"}'], ['{\"LOWER\": \"krapkowice\"}'], ['{\"LOWER\": \"krasnobród\"}'], ['{\"LOWER\": \"kratié\"}'], ['{\"LOWER\": \"kratovo\"}'], ['{\"LOWER\": \"kretinga\"}'], ['{\"LOWER\": \"kribi\"}'], ['{\"LOWER\": \"kristiania\"}'], ['{\"LOWER\": \"kristiansand\"}'], ['{\"LOWER\": \"kristinestad\"}'], ['{\"LOWER\": \"kriva\"}', '{\"LOWER\": \"palanka\"}'], ['{\"LOWER\": \"krnete\"}'], ['{\"LOWER\": \"krobia\"}'], ['{\"LOWER\": \"krong\"}', '{\"LOWER\": \"kep\"}'], ['{\"LOWER\": \"krosno\"}'], ['{\"LOWER\": \"krosno\"}', '{\"LOWER\": \"odrzańskie\"}'], ['{\"LOWER\": \"krotoszyn\"}'], ['{\"LOWER\": \"krośniewice\"}'], ['{\"LOWER\": \"krujë\"}'], ['{\"LOWER\": \"krumë\"}'], ['{\"LOWER\": \"kruszwica\"}'], ['{\"LOWER\": \"kruševo\"}'], ['{\"LOWER\": \"krynica\"}', '{\"LOWER\": \"zdrój\"}'], ['{\"LOWER\": \"krynki\"}'], ['{\"LOWER\": \"krzanowice\"}'], ['{\"LOWER\": \"krzepice\"}'], ['{\"LOWER\": \"krzeszowice\"}'], ['{\"LOWER\": \"krzywiń\"}'], ['{\"LOWER\": \"krzyż\"}', '{\"LOWER\": \"wielkopolski\"}'], ['{\"LOWER\": \"krško\"}'], ['{\"LOWER\": \"książ\"}', '{\"LOWER\": \"wielkopolski\"}'], ['{\"LOWER\": \"kuajok\"}'], ['{\"LOWER\": \"kuala\"}', '{\"LOWER\": \"terengganu\"}'], ['{\"LOWER\": \"kubrat\"}'], ['{\"LOWER\": \"kudirkos\"}', '{\"LOWER\": \"naumiestis\"}'], ['{\"LOWER\": \"kufa\"}'], ['{\"LOWER\": \"kufranjah\"}'], ['{\"LOWER\": \"kuhmo\"}'], ['{\"LOWER\": \"kukës\"}'], ['{\"LOWER\": \"kula\"}', '{\"LOWER\": \",\"}', '{\"LOWER\": \"ethiopia\"}'], ['{\"LOWER\": \"kulob\"}'], ['{\"LOWER\": \"kulu\"}'], ['{\"LOWER\": \"kumanovo\"}'], ['{\"LOWER\": \"kumari\"}'], ['{\"LOWER\": \"kumarlar\"}'], ['{\"LOWER\": \"kumasi\"}'], ['{\"LOWER\": \"kumba\"}'], ['{\"LOWER\": \"kumbo\"}'], ['{\"LOWER\": \"kunów\"}'], ['{\"LOWER\": \"kuopio\"}'], ['{\"LOWER\": \"kupiškis\"}'], ['{\"LOWER\": \"kurayyimah\"}'], ['{\"LOWER\": \"kurbnesh\"}'], ['{\"LOWER\": \"kurchaloy\"}'], ['{\"LOWER\": \"kurihashi\"}'], ['{\"LOWER\": \"kurikka\"}'], ['{\"LOWER\": \"kurugöl\"}'], ['{\"LOWER\": \"kurumbakkavu\"}', '{\"LOWER\": \"bhagavathy\"}', '{\"LOWER\": \"temple\"}', '{\"LOWER\": \"edathala\"}'], ['{\"LOWER\": \"kurunegala\"}'], ['{\"LOWER\": \"kuršėnai\"}'], ['{\"LOWER\": \"kut\"}'], ['{\"LOWER\": \"kutaisi\"}'], ['{\"LOWER\": \"kuusamo\"}'], ['{\"LOWER\": \"kuwait\"}', '{\"LOWER\": \"city\"}'], ['{\"LOWER\": \"kuzuculu\"}'], ['{\"LOWER\": \"kuçovë\"}'], ['{\"LOWER\": \"kuşadası\"}'], ['{\"LOWER\": \"kuźnia\"}', '{\"LOWER\": \"raciborska\"}'], ['{\"LOWER\": \"kvareli\"}'], ['{\"LOWER\": \"kwale\"}', '{\"LOWER\": \",\"}', '{\"LOWER\": \"nigeria\"}'], ['{\"LOWER\": \"kwekwe\"}'], ['{\"LOWER\": \"kyaukhtu\"}'], ['{\"LOWER\": \"kyaukpyu\"}'], ['{\"LOWER\": \"kybartai\"}'], ['{\"LOWER\": \"kyrenia\"}'], ['{\"LOWER\": \"kyustendil\"}'], ['{\"LOWER\": \"kyzyl\"}', '{\"LOWER\": \"kiya\"}'], ['{\"LOWER\": \"kyzylorda\"}'], ['{\"LOWER\": \"kyōto\"}'], ['{\"LOWER\": \"kébémer\"}'], ['{\"LOWER\": \"kédougou\"}'], ['{\"LOWER\": \"kélo\"}'], ['{\"LOWER\": \"kórnik\"}'], ['{\"LOWER\": \"körfez\"}'], ['{\"LOWER\": \"køge\"}'], ['{\"LOWER\": \"kürdəmir\"}'], ['{\"LOWER\": \"küçükdalyan\"}'], ['{\"LOWER\": \"kąty\"}', '{\"LOWER\": \"wrocławskie\"}'], ['{\"LOWER\": \"kėdainiai\"}'], ['{\"LOWER\": \"kępice\"}'], ['{\"LOWER\": \"kępno\"}'], ['{\"LOWER\": \"kęty\"}'], ['{\"LOWER\": \"kırklareli\"}'], ['{\"LOWER\": \"kırıkkale\"}'], ['{\"LOWER\": \"kırşehir\"}'], ['{\"LOWER\": \"kızılpınar\"}'], ['{\"LOWER\": \"kłecko\"}'], ['{\"LOWER\": \"kłobuck\"}'], ['{\"LOWER\": \"kłodawa\"}'], ['{\"LOWER\": \"kōbe\"}'], ['{\"LOWER\": \"kōchi\"}'], ['{\"LOWER\": \"kōfu\"}'], ['{\"LOWER\": \"la\"}', '{\"LOWER\": \"angostura\"}', '{\"LOWER\": \",\"}', '{\"LOWER\": \"santa\"}', '{\"LOWER\": \"cruz\"}'], ['{\"LOWER\": \"la\"}', '{\"LOWER\": \"banda\"}'], ['{\"LOWER\": \"la\"}', '{\"LOWER\": \"bañeza\"}'], ['{\"LOWER\": \"la\"}', '{\"LOWER\": \"bélgica\"}'], ['{\"LOWER\": \"la\"}', '{\"LOWER\": \"calera\"}'], ['{\"LOWER\": \"la\"}', '{\"LOWER\": \"ceiba\"}'], ['{\"LOWER\": \"la\"}', '{\"LOWER\": \"chorrera\"}'], ['{\"LOWER\": \"la\"}', '{\"LOWER\": \"cité\"}', '{\"LOWER\": \"du\"}', '{\"LOWER\": \"fleuve\"}'], ['{\"LOWER\": \"la\"}', '{\"LOWER\": \"concordia\"}'], ['{\"LOWER\": \"la\"}', '{\"LOWER\": \"democracia\"}'], ['{\"LOWER\": \"la\"}', '{\"LOWER\": \"défense\"}'], ['{\"LOWER\": \"la\"}', '{\"LOWER\": \"entrada\"}'], ['{\"LOWER\": \"la\"}', '{\"LOWER\": \"esperanza\"}'], ['{\"LOWER\": \"la\"}', '{\"LOWER\": \"grita\"}'], ['{\"LOWER\": \"la\"}', '{\"LOWER\": \"guaira\"}'], ['{\"LOWER\": \"la\"}', '{\"LOWER\": \"higuera\"}'], ['{\"LOWER\": \"la\"}', '{\"LOWER\": \"joya\"}', '{\"LOWER\": \"de\"}', '{\"LOWER\": \"los\"}', '{\"LOWER\": \"sachas\"}'], ['{\"LOWER\": \"la\"}', '{\"LOWER\": \"libertad\"}', '{\"LOWER\": \",\"}', '{\"LOWER\": \"santa\"}', '{\"LOWER\": \"elena\"}'], ['{\"LOWER\": \"la\"}', '{\"LOWER\": \"lima\"}'], ['{\"LOWER\": \"la\"}', '{\"LOWER\": \"merced\"}'], ['{\"LOWER\": \"la\"}', '{\"LOWER\": \"oroya\"}'], ['{\"LOWER\": \"la\"}', '{\"LOWER\": \"paz\"}'], ['{\"LOWER\": \"la\"}', '{\"LOWER\": \"paz\"}', '{\"LOWER\": \",\"}', '{\"LOWER\": \"entre\"}', '{\"LOWER\": \"ríos\"}'], ['{\"LOWER\": \"la\"}', '{\"LOWER\": \"piedad\"}'], ['{\"LOWER\": \"la\"}', '{\"LOWER\": \"plata\"}'], ['{\"LOWER\": \"la\"}', '{\"LOWER\": \"rioja\"}'], ['{\"LOWER\": \"la\"}', '{\"LOWER\": \"rochelle\"}'], ['{\"LOWER\": \"la\"}', '{\"LOWER\": \"rumorosa\"}'], ['{\"LOWER\": \"la\"}', '{\"LOWER\": \"salina\"}', '{\"LOWER\": \",\"}', '{\"LOWER\": \"baja\"}', '{\"LOWER\": \"california\"}'], ['{\"LOWER\": \"la\"}', '{\"LOWER\": \"sierpe\"}'], ['{\"LOWER\": \"la\"}', '{\"LOWER\": \"tablada\"}'], ['{\"LOWER\": \"la\"}', '{\"LOWER\": \"troncal\"}'], ['{\"LOWER\": \"la\"}', '{\"LOWER\": \"vela\"}', '{\"LOWER\": \"de\"}', '{\"LOWER\": \"coro\"}'], ['{\"LOWER\": \"la\"}', '{\"LOWER\": \"ventosa\"}'], ['{\"LOWER\": \"la\"}', '{\"LOWER\": \"victoria\"}'], ['{\"LOWER\": \"la\"}', '{\"LOWER\": \"villa\"}', '{\"LOWER\": \"del\"}', '{\"LOWER\": \"rosario\"}'], ['{\"LOWER\": \"laakirchen\"}'], ['{\"LOWER\": \"laayoune\"}'], ['{\"LOWER\": \"laboulaye\"}'], ['{\"LOWER\": \"labé\"}'], ['{\"LOWER\": \"lacedaemon\"}'], ['{\"LOWER\": \"lachin\"}'], ['{\"LOWER\": \"lae\"}'], ['{\"LOWER\": \"lagodekhi\"}'], ['{\"LOWER\": \"lagoinha\"}'], ['{\"LOWER\": \"lagos\"}'], ['{\"LOWER\": \"lagrange\"}', '{\"LOWER\": \",\"}', '{\"LOWER\": \"new\"}', '{\"LOWER\": \"york\"}'], ['{\"LOWER\": \"laguna\"}', '{\"LOWER\": \"alsina\"}'], ['{\"LOWER\": \"laguna\"}', '{\"LOWER\": \"de\"}', '{\"LOWER\": \"duero\"}'], ['{\"LOWER\": \"lahad\"}', '{\"LOWER\": \"datu\"}'], ['{\"LOWER\": \"lahan\"}'], ['{\"LOWER\": \"lahij\"}'], ['{\"LOWER\": \"lahn\"}'], ['{\"LOWER\": \"lahore\"}'], ['{\"LOWER\": \"lahti\"}'], ['{\"LOWER\": \"lahuachaca\"}'], ['{\"LOWER\": \"laitila\"}'], ['{\"LOWER\": \"lajas\"}'], ['{\"LOWER\": \"lakota\"}'], ['{\"LOWER\": \"lakshipur\"}'], ['{\"LOWER\": \"lalian\"}'], ['{\"LOWER\": \"lalitpur\"}'], ['{\"LOWER\": \"lamap\"}'], ['{\"LOWER\": \"lamas\"}'], ['{\"LOWER\": \"lambaréné\"}'], ['{\"LOWER\": \"lambayeque\"}'], ['{\"LOWER\": \"lamia\"}'], ['{\"LOWER\": \"laminium\"}'], ['{\"LOWER\": \"lamki\"}'], ['{\"LOWER\": \"lampa\"}'], ['{\"LOWER\": \"lamud\"}'], ['{\"LOWER\": \"lancaster\"}'], ['{\"LOWER\": \"lanchkhuti\"}'], ['{\"LOWER\": \"landen\"}'], ['{\"LOWER\": \"langley\"}'], ['{\"LOWER\": \"lanús\"}'], ['{\"LOWER\": \"lapithos\"}'], ['{\"LOWER\": \"lappeenranta\"}'], ['{\"LOWER\": \"laranjal\"}', '{\"LOWER\": \"paulista\"}'], ['{\"LOWER\": \"larissa\"}', '{\"LOWER\": \"d\\'assíria\"}'], ['{\"LOWER\": \"larkana\"}'], ['{\"LOWER\": \"larvik\"}'], ['{\"LOWER\": \"las\"}', '{\"LOWER\": \"delicias\"}'], ['{\"LOWER\": \"las\"}', '{\"LOWER\": \"heras\"}'], ['{\"LOWER\": \"las\"}', '{\"LOWER\": \"lomitas\"}'], ['{\"LOWER\": \"las\"}', '{\"LOWER\": \"martínez\"}'], ['{\"LOWER\": \"las\"}', '{\"LOWER\": \"palmas\"}', '{\"LOWER\": \"de\"}', '{\"LOWER\": \"gran\"}', '{\"LOWER\": \"canaria\"}'], ['{\"LOWER\": \"las\"}', '{\"LOWER\": \"parejas\"}', '{\"LOWER\": \",\"}', '{\"LOWER\": \"santa\"}', '{\"LOWER\": \"fe\"}'], ['{\"LOWER\": \"las\"}', '{\"LOWER\": \"piedras\"}'], ['{\"LOWER\": \"las\"}', '{\"LOWER\": \"tablas\"}'], ['{\"LOWER\": \"las\"}', '{\"LOWER\": \"varillas\"}'], ['{\"LOWER\": \"lascano\"}'], ['{\"LOWER\": \"lashio\"}'], ['{\"LOWER\": \"lashkar\"}', '{\"LOWER\": \"gah\"}'], ['{\"LOWER\": \"lastoursville\"}'], ['{\"LOWER\": \"latacunga\"}'], ['{\"LOWER\": \"latakia\"}'], ['{\"LOWER\": \"latina\"}'], ['{\"LOWER\": \"latrobe\"}'], ['{\"LOWER\": \"latur\"}'], ['{\"LOWER\": \"launceston\"}'], ['{\"LOWER\": \"laurent\"}', '{\"LOWER\": \",\"}', '{\"LOWER\": \"south\"}', '{\"LOWER\": \"dakota\"}'], ['{\"LOWER\": \"lauriacum\"}'], ['{\"LOWER\": \"lautoka\"}'], ['{\"LOWER\": \"lavici\"}'], ['{\"LOWER\": \"lavrinhas\"}'], ['{\"LOWER\": \"lavumisa\"}'], ['{\"LOWER\": \"lavínia\"}'], ['{\"LOWER\": \"lawas\"}'], ['{\"LOWER\": \"lawazantiya\"}'], ['{\"LOWER\": \"layla\"}'], ['{\"LOWER\": \"layou\"}'], ['{\"LOWER\": \"layyah\"}'], ['{\"LOWER\": \"lazdijai\"}'], ['{\"LOWER\": \"laç\"}'], ['{\"LOWER\": \"laï\"}'], ['{\"LOWER\": \"le\"}', '{\"LOWER\": \"tampon\"}'], ['{\"LOWER\": \"leandro\"}', '{\"LOWER\": \"n.\"}', '{\"LOWER\": \"alem\"}'], ['{\"LOWER\": \"lebedyn\"}'], ['{\"LOWER\": \"lecce\"}'], ['{\"LOWER\": \"lecheng\"}'], ['{\"LOWER\": \"lechería\"}'], ['{\"LOWER\": \"lederata\"}'], ['{\"LOWER\": \"ledon\"}'], ['{\"LOWER\": \"leeds\"}'], ['{\"LOWER\": \"leer\"}'], ['{\"LOWER\": \"leeuwarden\"}'], ['{\"LOWER\": \"legnica\"}'], ['{\"LOWER\": \"lehi\"}'], ['{\"LOWER\": \"leicester\"}'], ['{\"LOWER\": \"leiden\"}'], ['{\"LOWER\": \"leipzig\"}'], ['{\"LOWER\": \"lekhnath\"}'], ['{\"LOWER\": \"lekki\"}'], ['{\"LOWER\": \"lelystad\"}'], ['{\"LOWER\": \"leme\"}'], ['{\"LOWER\": \"lenart\"}', '{\"LOWER\": \"v\"}', '{\"LOWER\": \"slovenskih\"}', '{\"LOWER\": \"goricah\"}'], ['{\"LOWER\": \"lendava\"}'], ['{\"LOWER\": \"lenggong\"}'], ['{\"LOWER\": \"lentvaris\"}'], ['{\"LOWER\": \"lençóis\"}', '{\"LOWER\": \"paulista\"}'], ['{\"LOWER\": \"leova\"}'], ['{\"LOWER\": \"lerdo\"}', '{\"LOWER\": \"de\"}', '{\"LOWER\": \"tejada\"}'], ['{\"LOWER\": \"lerik\"}'], ['{\"LOWER\": \"lesko\"}'], ['{\"LOWER\": \"leszno\"}'], ['{\"LOWER\": \"lethem\"}'], ['{\"LOWER\": \"letlhakane\"}'], ['{\"LOWER\": \"letnitsa\"}'], ['{\"LOWER\": \"leucophrys\"}'], ['{\"LOWER\": \"leuven\"}'], ['{\"LOWER\": \"levski\"}', '{\"LOWER\": \",\"}', '{\"LOWER\": \"pleven\"}', '{\"LOWER\": \"province\"}'], ['{\"LOWER\": \"lewin\"}', '{\"LOWER\": \"brzeski\"}'], ['{\"LOWER\": \"lezhë\"}'], ['{\"LOWER\": \"león\"}'], ['{\"LOWER\": \"leśna\"}'], ['{\"LOWER\": \"leśnica\"}'], ['{\"LOWER\": \"lhasa\"}'], ['{\"LOWER\": \"liao\"}', '{\"LOWER\": \"nanjing\"}'], ['{\"LOWER\": \"liaqauatpur\"}'], ['{\"LOWER\": \"liberia\"}'], ['{\"LOWER\": \"libertad\"}'], ['{\"LOWER\": \"libertador\"}', '{\"LOWER\": \"general\"}', '{\"LOWER\": \"san\"}', '{\"LOWER\": \"martín\"}'], ['{\"LOWER\": \"libiąż\"}'], ['{\"LOWER\": \"librazhd\"}'], ['{\"LOWER\": \"libreville\"}'], ['{\"LOWER\": \"lice\"}'], ['{\"LOWER\": \"licenciado\"}', '{\"LOWER\": \"benito\"}', '{\"LOWER\": \"juárez\"}'], ['{\"LOWER\": \"lichfield\"}'], ['{\"LOWER\": \"lichinga\"}'], ['{\"LOWER\": \"lidzbark\"}'], ['{\"LOWER\": \"lieksa\"}'], ['{\"LOWER\": \"likasi\"}'], ['{\"LOWER\": \"lilibaeum\"}'], ['{\"LOWER\": \"lilongwe\"}'], ['{\"LOWER\": \"liman\"}'], ['{\"LOWER\": \"limavady\"}'], ['{\"LOWER\": \"limbe\"}'], ['{\"LOWER\": \"limeira\"}'], ['{\"LOWER\": \"limerick\"}'], ['{\"LOWER\": \"limne\"}'], ['{\"LOWER\": \"limoncito\"}'], ['{\"LOWER\": \"limón\"}'], ['{\"LOWER\": \"linares\"}'], ['{\"LOWER\": \"lincoln\"}'], ['{\"LOWER\": \"linden\"}'], ['{\"LOWER\": \"lindi\"}'], ['{\"LOWER\": \"lindóia\"}'], ['{\"LOWER\": \"lingshet\"}'], ['{\"LOWER\": \"linguère\"}'], ['{\"LOWER\": \"linkuva\"}'], ['{\"LOWER\": \"linnich\"}'], ['{\"LOWER\": \"lins\"}'], ['{\"LOWER\": \"linstead\"}'], ['{\"LOWER\": \"lionel\"}', '{\"LOWER\": \"town\"}', '{\"LOWER\": \",\"}', '{\"LOWER\": \"jamaica\"}'], ['{\"LOWER\": \"lipiany\"}'], ['{\"LOWER\": \"lipsk\"}'], ['{\"LOWER\": \"lipsko\"}'], ['{\"LOWER\": \"liquiçá\"}'], ['{\"LOWER\": \"lircay\"}'], ['{\"LOWER\": \"lirquén\"}'], ['{\"LOWER\": \"lisala\"}'], ['{\"LOWER\": \"lisburn\"}'], ['{\"LOWER\": \"lismore\"}'], ['{\"LOWER\": \"lissus\"}'], ['{\"LOWER\": \"list\"}', '{\"LOWER\": \"of\"}', '{\"LOWER\": \"cities\"}', '{\"LOWER\": \"in\"}', '{\"LOWER\": \"yemen\"}'], ['{\"LOWER\": \"lithgow\"}'], ['{\"LOWER\": \"liverpool\"}'], ['{\"LOWER\": \"livingstone\"}'], ['{\"LOWER\": \"livorno\"}'], ['{\"LOWER\": \"liwonde\"}'], ['{\"LOWER\": \"liège\"}'], ['{\"LOWER\": \"ljubljana\"}'], ['{\"LOWER\": \"llafranc\"}'], ['{\"LOWER\": \"llamellín\"}'], ['{\"LOWER\": \"llanfairfechan\"}'], ['{\"LOWER\": \"llavallol\"}'], ['{\"LOWER\": \"lloydminster\"}'], ['{\"LOWER\": \"lobamba\"}'], ['{\"LOWER\": \"lobatse\"}'], ['{\"LOWER\": \"lobos\"}'], ['{\"LOWER\": \"lochem\"}'], ['{\"LOWER\": \"locumba\"}'], ['{\"LOWER\": \"lod\"}'], ['{\"LOWER\": \"lodja\"}'], ['{\"LOWER\": \"lodwar\"}'], ['{\"LOWER\": \"lohja\"}'], ['{\"LOWER\": \"loikaw\"}'], ['{\"LOWER\": \"loimaa\"}'], ['{\"LOWER\": \"loja\"}'], ['{\"LOWER\": \"lokichogio\"}'], ['{\"LOWER\": \"lom\"}'], ['{\"LOWER\": \"lomas\"}', '{\"LOWER\": \"de\"}', '{\"LOWER\": \"sargentillo\"}'], ['{\"LOWER\": \"lomas\"}', '{\"LOWER\": \"del\"}', '{\"LOWER\": \"mirador\"}'], ['{\"LOWER\": \"lomié\"}'], ['{\"LOWER\": \"london\"}'], ['{\"LOWER\": \"longchamps\"}', '{\"LOWER\": \",\"}', '{\"LOWER\": \"buenos\"}', '{\"LOWER\": \"aires\"}'], ['{\"LOWER\": \"lorca\"}'], ['{\"LOWER\": \"lorena\"}', '{\"LOWER\": \",\"}', '{\"LOWER\": \"são\"}', '{\"LOWER\": \"paulo\"}'], ['{\"LOWER\": \"lorengau\"}'], ['{\"LOWER\": \"los\"}', '{\"LOWER\": \"guayos\"}'], ['{\"LOWER\": \"los\"}', '{\"LOWER\": \"polvorines\"}'], ['{\"LOWER\": \"los\"}', '{\"LOWER\": \"reyes\"}', '{\"LOWER\": \"municipal\"}', '{\"LOWER\": \"council\"}'], ['{\"LOWER\": \"los\"}', '{\"LOWER\": \"teques\"}'], ['{\"LOWER\": \"lospalos\"}'], ['{\"LOWER\": \"louata\"}'], ['{\"LOWER\": \"loudima\"}'], ['{\"LOWER\": \"louga\"}'], ['{\"LOWER\": \"loum\"}'], ['{\"LOWER\": \"louny\"}'], ['{\"LOWER\": \"lourdes\"}'], ['{\"LOWER\": \"louveira\"}'], ['{\"LOWER\": \"lovech\"}'], ['{\"LOWER\": \"loviisa\"}'], ['{\"LOWER\": \"lower\"}', '{\"LOWER\": \"hutt\"}'], ['{\"LOWER\": \"lowlands\"}'], ['{\"LOWER\": \"lož\"}'], ['{\"LOWER\": \"lqliâa\"}'], ['{\"LOWER\": \"luanda\"}'], ['{\"LOWER\": \"luang\"}', '{\"LOWER\": \"prabang\"}'], ['{\"LOWER\": \"luanshya\"}'], ['{\"LOWER\": \"luba\"}'], ['{\"LOWER\": \"lubawka\"}'], ['{\"LOWER\": \"luberizi\"}'], ['{\"LOWER\": \"lubień\"}', '{\"LOWER\": \"kujawski\"}'], ['{\"LOWER\": \"lublin\"}'], ['{\"LOWER\": \"lubniewice\"}'], ['{\"LOWER\": \"lubomia\"}'], ['{\"LOWER\": \"lubomierz\"}'], ['{\"LOWER\": \"lubowidz\"}', '{\"LOWER\": \",\"}', '{\"LOWER\": \"masovian\"}', '{\"LOWER\": \"voivodeship\"}'], ['{\"LOWER\": \"lubraniec\"}'], ['{\"LOWER\": \"lubsko\"}'], ['{\"LOWER\": \"lubumbashi\"}'], ['{\"LOWER\": \"lucea\"}'], ['{\"LOWER\": \"lucerne\"}'], ['{\"LOWER\": \"luchenza\"}'], ['{\"LOWER\": \"lucianópolis\"}'], ['{\"LOWER\": \"lucky\"}', '{\"LOWER\": \"shah\"}', '{\"LOWER\": \"sadar\"}'], ['{\"LOWER\": \"lucélia\"}'], ['{\"LOWER\": \"ludhiana\"}'], ['{\"LOWER\": \"lugano\"}'], ['{\"LOWER\": \"lugau\"}'], ['{\"LOWER\": \"lugo\"}'], ['{\"LOWER\": \"luiziânia\"}'], ['{\"LOWER\": \"lukovit\"}'], ['{\"LOWER\": \"lules\"}'], ['{\"LOWER\": \"luleå\"}'], ['{\"LOWER\": \"lumbo\"}'], ['{\"LOWER\": \"luna\"}'], ['{\"LOWER\": \"lundu\"}', '{\"LOWER\": \",\"}', '{\"LOWER\": \"sarawak\"}'], ['{\"LOWER\": \"lupércio\"}'], ['{\"LOWER\": \"lusail\"}'], ['{\"LOWER\": \"lusaka\"}'], ['{\"LOWER\": \"lushnjë\"}'], ['{\"LOWER\": \"lututów\"}'], ['{\"LOWER\": \"lutécia\"}'], ['{\"LOWER\": \"luxembourg\"}'], ['{\"LOWER\": \"luxor\"}'], ['{\"LOWER\": \"luís\"}', '{\"LOWER\": \"antônio\"}'], ['{\"LOWER\": \"lwówek\"}'], ['{\"LOWER\": \"lwówek\"}', '{\"LOWER\": \"śląski\"}'], ['{\"LOWER\": \"lyede\"}'], ['{\"LOWER\": \"lysimachia\"}', '{\"LOWER\": \"(\"}', '{\"LOWER\": \"aetolia\"}', '{\"LOWER\": \")\"}'], ['{\"LOWER\": \"lyubimets\"}'], ['{\"LOWER\": \"lázaro\"}', '{\"LOWER\": \"cárdenas\"}', '{\"LOWER\": \",\"}', '{\"LOWER\": \"jalisco\"}'], ['{\"LOWER\": \"léogâne\"}'], ['{\"LOWER\": \"lüderitz\"}'], ['{\"LOWER\": \"lāla\"}', '{\"LOWER\": \"musa\"}'], ['{\"LOWER\": \"lądek\"}', '{\"LOWER\": \"zdrój\"}'], ['{\"LOWER\": \"m\\'banza\"}', '{\"LOWER\": \"kongo\"}'], ['{\"LOWER\": \"m\\'bour\"}'], ['{\"LOWER\": \"ma\\'alot\"}', '{\"LOWER\": \"tarshiha\"}'], ['{\"LOWER\": \"ma\\'an\"}'], ['{\"LOWER\": \"ma\\'rib\"}'], ['{\"LOWER\": \"maarrat\"}', '{\"LOWER\": \"al\"}', '{\"LOWER\": \"nu\\'man\"}'], ['{\"LOWER\": \"maarrat\"}', '{\"LOWER\": \"misrin\"}'], ['{\"LOWER\": \"maastricht\"}'], ['{\"LOWER\": \"mabaruma\"}'], ['{\"LOWER\": \"mabeleapudi\"}'], ['{\"LOWER\": \"macas\"}'], ['{\"LOWER\": \"macatuba\"}'], ['{\"LOWER\": \"macaubal\"}'], ['{\"LOWER\": \"macedônia\"}'], ['{\"LOWER\": \"maceió\"}'], ['{\"LOWER\": \"machakos\"}'], ['{\"LOWER\": \"machala\"}'], ['{\"LOWER\": \"machh\"}'], ['{\"LOWER\": \"machico\"}'], ['{\"LOWER\": \"machinda\"}'], ['{\"LOWER\": \"machiques\"}'], ['{\"LOWER\": \"mackay\"}'], ['{\"LOWER\": \"macusani\"}'], ['{\"LOWER\": \"macuto\"}', '{\"LOWER\": \",\"}', '{\"LOWER\": \"vargas\"}'], ['{\"LOWER\": \"madaba\"}'], ['{\"LOWER\": \"madalla\"}'], ['{\"LOWER\": \"madaripur\"}'], ['{\"LOWER\": \"madhabdi\"}'], ['{\"LOWER\": \"madinat\"}', '{\"LOWER\": \"zayed\"}'], ['{\"LOWER\": \"madingo\"}', '{\"LOWER\": \"kayes\"}'], ['{\"LOWER\": \"madingou\"}'], ['{\"LOWER\": \"madrid\"}'], ['{\"LOWER\": \"madurai\"}'], ['{\"LOWER\": \"maebashi\"}'], ['{\"LOWER\": \"mafeteng\"}'], ['{\"LOWER\": \"magallanes\"}'], ['{\"LOWER\": \"magburaka\"}'], ['{\"LOWER\": \"magda\"}'], ['{\"LOWER\": \"magdalena\"}'], ['{\"LOWER\": \"magdanly\"}'], ['{\"LOWER\": \"magetobria\"}'], ['{\"LOWER\": \"maghagha\"}'], ['{\"LOWER\": \"maghar\"}'], ['{\"LOWER\": \"maghera\"}'], ['{\"LOWER\": \"maghrawa\"}'], ['{\"LOWER\": \"magnesia\"}', '{\"LOWER\": \"ad\"}', '{\"LOWER\": \"sipylum\"}'], ['{\"LOWER\": \"magnesia\"}', '{\"LOWER\": \"on\"}', '{\"LOWER\": \"the\"}', '{\"LOWER\": \"maeander\"}'], ['{\"LOWER\": \"magura\"}', '{\"LOWER\": \",\"}', '{\"LOWER\": \"bangladesh\"}'], ['{\"LOWER\": \"magway\"}'], ['{\"LOWER\": \"mahalapye\"}'], ['{\"LOWER\": \"mahavelona\"}'], ['{\"LOWER\": \"mahbubnagar\"}'], ['{\"LOWER\": \"mahdia\"}'], ['{\"LOWER\": \"mahmoudiyah\"}', '{\"LOWER\": \",\"}', '{\"LOWER\": \"egypt\"}'], ['{\"LOWER\": \"mahmutlar\"}'], ['{\"LOWER\": \"mahón\"}'], ['{\"LOWER\": \"maiduguri\"}'], ['{\"LOWER\": \"maihar\"}'], ['{\"LOWER\": \"maijdee\"}'], ['{\"LOWER\": \"mailuu\"}', '{\"LOWER\": \"suu\"}'], ['{\"LOWER\": \"maintinandry\"}'], ['{\"LOWER\": \"maionia\"}', '{\"LOWER\": \"in\"}', '{\"LOWER\": \"lydia\"}'], ['{\"LOWER\": \"maipú\"}'], ['{\"LOWER\": \"maiquetía\"}'], ['{\"LOWER\": \"mairana\"}'], ['{\"LOWER\": \"mairinque\"}'], ['{\"LOWER\": \"mairiporã\"}'], ['{\"LOWER\": \"maisí\"}'], ['{\"LOWER\": \"maitengwe\"}'], ['{\"LOWER\": \"majayahan\"}'], ['{\"LOWER\": \"majete\"}'], ['{\"LOWER\": \"maji\"}'], ['{\"LOWER\": \"majibacoa\"}'], ['{\"LOWER\": \"majuro\"}'], ['{\"LOWER\": \"makabana\"}'], ['{\"LOWER\": \"makale\"}'], ['{\"LOWER\": \"makamba\"}'], ['{\"LOWER\": \"makeni\"}'], ['{\"LOWER\": \"makhmur\"}'], ['{\"LOWER\": \"makoua\"}'], ['{\"LOWER\": \"makénéné\"}'], ['{\"LOWER\": \"maków\"}', '{\"LOWER\": \"podhalański\"}'], ['{\"LOWER\": \"mala\"}', '{\"LOWER\": \",\"}', '{\"LOWER\": \"cañete\"}', '{\"LOWER\": \"province\"}'], ['{\"LOWER\": \"malabo\"}'], ['{\"LOWER\": \"malakal\"}'], ['{\"LOWER\": \"malanyu\"}'], ['{\"LOWER\": \"malargüe\"}'], ['{\"LOWER\": \"malatya\"}'], ['{\"LOWER\": \"malavli\"}'], ['{\"LOWER\": \"maldonado\"}'], ['{\"LOWER\": \"malegaon\"}'], ['{\"LOWER\": \"malem\"}', '{\"LOWER\": \"hodar\"}'], ['{\"LOWER\": \"maliana\"}'], ['{\"LOWER\": \"malko\"}', '{\"LOWER\": \"tarnovo\"}'], ['{\"LOWER\": \"mallawi\"}'], ['{\"LOWER\": \"malout\"}'], ['{\"LOWER\": \"malé\"}'], ['{\"LOWER\": \"mamfe\"}'], ['{\"LOWER\": \"mamporal\"}'], ['{\"LOWER\": \"mamurras\"}'], ['{\"LOWER\": \"managua\"}'], ['{\"LOWER\": \"manama\"}'], ['{\"LOWER\": \"mananwala\"}'], ['{\"LOWER\": \"manatuto\"}'], ['{\"LOWER\": \"manatí\"}'], ['{\"LOWER\": \"manbij\"}'], ['{\"LOWER\": \"manchester\"}'], ['{\"LOWER\": \"mandalay\"}'], ['{\"LOWER\": \"mandalgovi\"}'], ['{\"LOWER\": \"mandeville\"}'], ['{\"LOWER\": \"mandi\"}', '{\"LOWER\": \"bahauddin\"}'], ['{\"LOWER\": \"mandsaur\"}'], ['{\"LOWER\": \"mandurah\"}'], ['{\"LOWER\": \"manduri\"}'], ['{\"LOWER\": \"mandya\"}'], ['{\"LOWER\": \"manfalut\"}'], ['{\"LOWER\": \"manga\"}'], ['{\"LOWER\": \"mangalore\"}'], ['{\"LOWER\": \"mangina\"}'], ['{\"LOWER\": \"mango\"}'], ['{\"LOWER\": \"mangochi\"}'], ['{\"LOWER\": \"manhiça\"}'], ['{\"LOWER\": \"manica\"}'], ['{\"LOWER\": \"maniitsoq\"}'], ['{\"LOWER\": \"manisa\"}'], ['{\"LOWER\": \"manono\"}'], ['{\"LOWER\": \"mansa\"}'], ['{\"LOWER\": \"mansoura\"}'], ['{\"LOWER\": \"mansura\"}', '{\"LOWER\": \",\"}', '{\"LOWER\": \"raqqa\"}'], ['{\"LOWER\": \"mansôa\"}'], ['{\"LOWER\": \"manta\"}'], ['{\"LOWER\": \"manuel\"}', '{\"LOWER\": \"tames\"}'], ['{\"LOWER\": \"manukau\"}', '{\"LOWER\": \"city\"}'], ['{\"LOWER\": \"manzala\"}'], ['{\"LOWER\": \"manzanillo\"}'], ['{\"LOWER\": \"manzini\"}'], ['{\"LOWER\": \"manëz\"}'], ['{\"LOWER\": \"mao\"}'], ['{\"LOWER\": \"mapai\"}'], ['{\"LOWER\": \"mapiri\"}'], ['{\"LOWER\": \"maple\"}', '{\"LOWER\": \"ridge\"}'], ['{\"LOWER\": \"maputo\"}'], ['{\"LOWER\": \"marabá\"}', '{\"LOWER\": \"paulista\"}'], ['{\"LOWER\": \"maracaibo\"}'], ['{\"LOWER\": \"maracay\"}'], ['{\"LOWER\": \"maracaí\"}'], ['{\"LOWER\": \"maradi\"}'], ['{\"LOWER\": \"marapoama\"}'], ['{\"LOWER\": \"marbella\"}'], ['{\"LOWER\": \"marcos\"}', '{\"LOWER\": \"juárez\"}'], ['{\"LOWER\": \"mardaman\"}'], ['{\"LOWER\": \"mardan\"}'], ['{\"LOWER\": \"mardin\"}'], ['{\"LOWER\": \"marehra\"}'], ['{\"LOWER\": \"marevo\"}'], ['{\"LOWER\": \"margilan\"}'], ['{\"LOWER\": \"margonin\"}'], ['{\"LOWER\": \"mariano\"}', '{\"LOWER\": \"acosta\"}', '{\"LOWER\": \",\"}', '{\"LOWER\": \"buenos\"}', '{\"LOWER\": \"aires\"}', '{\"LOWER\": \"province\"}'], ['{\"LOWER\": \"maribor\"}'], ['{\"LOWER\": \"mariel\"}'], ['{\"LOWER\": \"mariental\"}'], ['{\"LOWER\": \"marijampolė\"}'], ['{\"LOWER\": \"marinópolis\"}'], ['{\"LOWER\": \"mariposa\"}', '{\"LOWER\": \",\"}', '{\"LOWER\": \"satipo\"}', '{\"LOWER\": \"province\"}'], ['{\"LOWER\": \"mariápolis\"}'], ['{\"LOWER\": \"marjayoun\"}'], ['{\"LOWER\": \"markham\"}'], ['{\"LOWER\": \"marmara\"}', '{\"LOWER\": \"ereğlisi\"}'], ['{\"LOWER\": \"marneuli\"}'], ['{\"LOWER\": \"marondera\"}'], ['{\"LOWER\": \"maros\"}'], ['{\"LOWER\": \"marot\"}'], ['{\"LOWER\": \"maroua\"}'], ['{\"LOWER\": \"marrakech\"}', '{\"LOWER\": \"menara\"}'], ['{\"LOWER\": \"marrakesh\"}'], ['{\"LOWER\": \"marsabit\"}'], ['{\"LOWER\": \"martakert\"}'], ['{\"LOWER\": \"martap\"}'], ['{\"LOWER\": \"martensville\"}'], ['{\"LOWER\": \"martin\"}'], ['{\"LOWER\": \"martinópolis\"}'], ['{\"LOWER\": \"martos\"}'], ['{\"LOWER\": \"martvili\"}'], ['{\"LOWER\": \"martínez\"}'], ['{\"LOWER\": \"mary\"}'], ['{\"LOWER\": \"mary\"}', '{\"LOWER\": \"geoise\"}'], ['{\"LOWER\": \"maryborough\"}'], ['{\"LOWER\": \"marília\"}'], ['{\"LOWER\": \"masally\"}'], ['{\"LOWER\": \"masan\"}'], ['{\"LOWER\": \"masaya\"}'], ['{\"LOWER\": \"mascara\"}'], ['{\"LOWER\": \"maseru\"}'], ['{\"LOWER\": \"maspalomas\"}'], ['{\"LOWER\": \"massa\"}', '{\"LOWER\": \"veternensis\"}'], ['{\"LOWER\": \"massaguet\"}'], ['{\"LOWER\": \"massakory\"}'], ['{\"LOWER\": \"massawa\"}'], ['{\"LOWER\": \"massenya\"}'], ['{\"LOWER\": \"massock\"}', '{\"LOWER\": \"songloulou\"}'], ['{\"LOWER\": \"mastaura\"}', '{\"LOWER\": \"in\"}', '{\"LOWER\": \"asia\"}'], ['{\"LOWER\": \"masvingo\"}'], ['{\"LOWER\": \"masyaf\"}'], ['{\"LOWER\": \"maszewo\"}'], ['{\"LOWER\": \"matadi\"}'], ['{\"LOWER\": \"matagalpa\"}'], ['{\"LOWER\": \"matai\"}'], ['{\"LOWER\": \"matam\"}'], ['{\"LOWER\": \"matanzas\"}'], ['{\"LOWER\": \"mathangwane\"}'], ['{\"LOWER\": \"mathura\"}'], ['{\"LOWER\": \"matola\"}'], ['{\"LOWER\": \"matru\"}'], ['{\"LOWER\": \"matsue\"}'], ['{\"LOWER\": \"matsuyama\"}'], ['{\"LOWER\": \"matucana\"}'], ['{\"LOWER\": \"maturín\"}'], ['{\"LOWER\": \"matão\"}'], ['{\"LOWER\": \"maun\"}'], ['{\"LOWER\": \"maungdaw\"}', '{\"LOWER\": \"township\"}'], ['{\"LOWER\": \"mauritsstad\"}'], ['{\"LOWER\": \"mauá\"}'], ['{\"LOWER\": \"mawlamyine\"}'], ['{\"LOWER\": \"mawqaq\"}'], ['{\"LOWER\": \"maxixe\"}'], ['{\"LOWER\": \"maxville\"}'], ['{\"LOWER\": \"may\"}', '{\"LOWER\": \"pen\"}'], ['{\"LOWER\": \"mayadin\"}'], ['{\"LOWER\": \"mayarí\"}'], ['{\"LOWER\": \"mayumba\"}'], ['{\"LOWER\": \"mazar\"}', '{\"LOWER\": \"i\"}', '{\"LOWER\": \"sharif\"}'], ['{\"LOWER\": \"maçka\"}'], ['{\"LOWER\": \"maño\"}'], ['{\"LOWER\": \"małogoszcz\"}'], ['{\"LOWER\": \"małomice\"}'], ['{\"LOWER\": \"mažeikiai\"}'], ['{\"LOWER\": \"ma‘bar\"}'], ['{\"LOWER\": \"mbacké\"}'], ['{\"LOWER\": \"mbale\"}'], ['{\"LOWER\": \"mbalmayo\"}'], ['{\"LOWER\": \"mbandaka\"}'], ['{\"LOWER\": \"mbang\"}'], ['{\"LOWER\": \"mbanza\"}', '{\"LOWER\": \"ngungu\"}'], ['{\"LOWER\": \"mbaïki\"}'], ['{\"LOWER\": \"mbeya\"}'], ['{\"LOWER\": \"mbinda\"}'], ['{\"LOWER\": \"mbini\"}'], ['{\"LOWER\": \"mbombela\"}'], ['{\"LOWER\": \"mboro\"}'], ['{\"LOWER\": \"mbouda\"}'], ['{\"LOWER\": \"mbuji\"}', '{\"LOWER\": \"mayi\"}'], ['{\"LOWER\": \"meadow\"}', '{\"LOWER\": \"lake\"}'], ['{\"LOWER\": \"mecca\"}'], ['{\"LOWER\": \"mechelen\"}'], ['{\"LOWER\": \"meckhe\"}'], ['{\"LOWER\": \"medellín\"}'], ['{\"LOWER\": \"medeon\"}'], ['{\"LOWER\": \"media\"}', '{\"LOWER\": \"luna\"}'], ['{\"LOWER\": \"medina\"}'], ['{\"LOWER\": \"mediolanum\"}'], ['{\"LOWER\": \"meerut\"}'], ['{\"LOWER\": \"mega\"}', '{\"LOWER\": \",\"}', '{\"LOWER\": \"ethiopia\"}'], ['{\"LOWER\": \"megara\"}'], ['{\"LOWER\": \"meiganga\"}'], ['{\"LOWER\": \"mek\\'ele\"}'], ['{\"LOWER\": \"mekane\"}', '{\"LOWER\": \"berhan\"}'], ['{\"LOWER\": \"mekane\"}', '{\"LOWER\": \"selam\"}'], ['{\"LOWER\": \"meki\"}'], ['{\"LOWER\": \"meknes\"}'], ['{\"LOWER\": \"melaka\"}', '{\"LOWER\": \"city\"}'], ['{\"LOWER\": \"melbourne\"}'], ['{\"LOWER\": \"melena\"}', '{\"LOWER\": \"del\"}', '{\"LOWER\": \"sur\"}'], ['{\"LOWER\": \"melilla\"}'], ['{\"LOWER\": \"mellita\"}'], ['{\"LOWER\": \"melut\"}'], ['{\"LOWER\": \"mendefera\"}'], ['{\"LOWER\": \"mendi\"}'], ['{\"LOWER\": \"mendoza\"}'], ['{\"LOWER\": \"mengomeyén\"}'], ['{\"LOWER\": \"meppel\"}'], ['{\"LOWER\": \"mera\"}', '{\"LOWER\": \",\"}', '{\"LOWER\": \"pastaza\"}'], ['{\"LOWER\": \"merak\"}'], ['{\"LOWER\": \"meraro\"}'], ['{\"LOWER\": \"merawi\"}', '{\"LOWER\": \",\"}', '{\"LOWER\": \"ethiopia\"}'], ['{\"LOWER\": \"merca\"}'], ['{\"LOWER\": \"mercedes\"}'], ['{\"LOWER\": \"merewether\"}'], ['{\"LOWER\": \"mergesor\"}'], ['{\"LOWER\": \"meri\"}', '{\"LOWER\": \",\"}', '{\"LOWER\": \"cameroon\"}'], ['{\"LOWER\": \"merida\"}'], ['{\"LOWER\": \"meridiano\"}', '{\"LOWER\": \",\"}', '{\"LOWER\": \"são\"}', '{\"LOWER\": \"paulo\"}'], ['{\"LOWER\": \"merlo\"}'], ['{\"LOWER\": \"mersa\"}', '{\"LOWER\": \"matruh\"}'], ['{\"LOWER\": \"mersin\"}'], ['{\"LOWER\": \"merzifon\"}'], ['{\"LOWER\": \"messina\"}'], ['{\"LOWER\": \"mesópolis\"}'], ['{\"LOWER\": \"metangula\"}'], ['{\"LOWER\": \"metehara\"}'], ['{\"LOWER\": \"metemma\"}'], ['{\"LOWER\": \"metlika\"}'], ['{\"LOWER\": \"metu\"}'], ['{\"LOWER\": \"mexicali\"}'], ['{\"LOWER\": \"mežica\"}'], ['{\"LOWER\": \"mfuwe\"}'], ['{\"LOWER\": \"mhlume\"}'], ['{\"LOWER\": \"miani\"}'], ['{\"LOWER\": \"miaoli\"}', '{\"LOWER\": \"city\"}'], ['{\"LOWER\": \"miarinarivo\"}'], ['{\"LOWER\": \"miastko\"}'], ['{\"LOWER\": \"michalovce\"}'], ['{\"LOWER\": \"michałowo\"}'], ['{\"LOWER\": \"michelena\"}'], ['{\"LOWER\": \"michmash\"}'], ['{\"LOWER\": \"micomeseng\"}'], ['{\"LOWER\": \"middelburg\"}'], ['{\"LOWER\": \"middelfart\"}'], ['{\"LOWER\": \"midway\"}'], ['{\"LOWER\": \"miechów\"}'], ['{\"LOWER\": \"miejska\"}', '{\"LOWER\": \"górka\"}'], ['{\"LOWER\": \"mieroszów\"}'], ['{\"LOWER\": \"mieso\"}'], ['{\"LOWER\": \"mieszkowice\"}'], ['{\"LOWER\": \"migdal\"}', '{\"LOWER\": \"haemek\"}'], ['{\"LOWER\": \"miguel\"}', '{\"LOWER\": \"alemán\"}', '{\"LOWER\": \",\"}', '{\"LOWER\": \"hermosillo\"}'], ['{\"LOWER\": \"miguelópolis\"}'], ['{\"LOWER\": \"migues\"}'], ['{\"LOWER\": \"mikkeli\"}'], ['{\"LOWER\": \"mikołajki\"}'], ['{\"LOWER\": \"mikstat\"}'], ['{\"LOWER\": \"milagro\"}'], ['{\"LOWER\": \"milan\"}'], ['{\"LOWER\": \"mildura\"}'], ['{\"LOWER\": \"miletus\"}'], ['{\"LOWER\": \"milford\"}'], ['{\"LOWER\": \"milicz\"}'], ['{\"LOWER\": \"milosavci\"}'], ['{\"LOWER\": \"milot\"}'], ['{\"LOWER\": \"minas\"}'], ['{\"LOWER\": \"minatitlán\"}'], ['{\"LOWER\": \"mindelo\"}'], ['{\"LOWER\": \"mineiros\"}', '{\"LOWER\": \"do\"}', '{\"LOWER\": \"tietê\"}'], ['{\"LOWER\": \"mingora\"}'], ['{\"LOWER\": \"minicoy\"}'], ['{\"LOWER\": \"minna\"}'], ['{\"LOWER\": \"minvoul\"}'], ['{\"LOWER\": \"minya\"}'], ['{\"LOWER\": \"mir\"}', '{\"LOWER\": \"ali\"}', '{\"LOWER\": \"tehsil\"}'], ['{\"LOWER\": \"mira\"}', '{\"LOWER\": \"bhayandar\"}'], ['{\"LOWER\": \"mira\"}', '{\"LOWER\": \"estrela\"}'], ['{\"LOWER\": \"miracatu\"}'], ['{\"LOWER\": \"miranda\"}', '{\"LOWER\": \"de\"}', '{\"LOWER\": \"ebro\"}'], ['{\"LOWER\": \"mirandópolis\"}'], ['{\"LOWER\": \"miranshah\"}'], ['{\"LOWER\": \"mirante\"}', '{\"LOWER\": \"do\"}', '{\"LOWER\": \"paranapanema\"}'], ['{\"LOWER\": \"mirassol\"}'], ['{\"LOWER\": \"mirassolândia\"}'], ['{\"LOWER\": \"mirosławiec\"}'], ['{\"LOWER\": \"mirpur\"}', '{\"LOWER\": \"khas\"}'], ['{\"LOWER\": \"mirsk\"}'], ['{\"LOWER\": \"mirzapur\"}'], ['{\"LOWER\": \"miskolc\"}'], ['{\"LOWER\": \"misrata\"}'], ['{\"LOWER\": \"mississauga\"}'], ['{\"LOWER\": \"mit\"}', '{\"LOWER\": \"ghamr\"}'], ['{\"LOWER\": \"mitrovica\"}'], ['{\"LOWER\": \"mitsamihuli\"}'], ['{\"LOWER\": \"mitzic\"}'], ['{\"LOWER\": \"miyazaki\"}'], ['{\"LOWER\": \"miziling\"}'], ['{\"LOWER\": \"mizpah\"}', '{\"LOWER\": \"in\"}', '{\"LOWER\": \"benjamin\"}'], ['{\"LOWER\": \"mizque\"}'], ['{\"LOWER\": \"międzybórz\"}'], ['{\"LOWER\": \"międzychód\"}'], ['{\"LOWER\": \"międzylesie\"}'], ['{\"LOWER\": \"międzyrzecz\"}'], ['{\"LOWER\": \"międzyzdroje\"}'], ['{\"LOWER\": \"miłakowo\"}'], ['{\"LOWER\": \"miłomłyn\"}'], ['{\"LOWER\": \"miłosław\"}'], ['{\"LOWER\": \"mkoani\"}'], ['{\"LOWER\": \"mkokotoni\"}'], ['{\"LOWER\": \"mladá\"}', '{\"LOWER\": \"boleslav\"}'], ['{\"LOWER\": \"moa\"}'], ['{\"LOWER\": \"moab\"}'], ['{\"LOWER\": \"moatize\"}'], ['{\"LOWER\": \"mobaye\"}'], ['{\"LOWER\": \"mocha\"}'], ['{\"LOWER\": \"moche\"}', '{\"LOWER\": \",\"}', '{\"LOWER\": \"trujillo\"}'], ['{\"LOWER\": \"mococa\"}'], ['{\"LOWER\": \"mocuba\"}'], ['{\"LOWER\": \"mocímboa\"}', '{\"LOWER\": \"da\"}', '{\"LOWER\": \"praia\"}'], ['{\"LOWER\": \"modena\"}'], ['{\"LOWER\": \"modi\\'in\"}', '{\"LOWER\": \"maccabim\"}', '{\"LOWER\": \"re\\'ut\"}'], ['{\"LOWER\": \"modliborzyce\"}', '{\"LOWER\": \",\"}', '{\"LOWER\": \"lublin\"}', '{\"LOWER\": \"voivodeship\"}'], ['{\"LOWER\": \"mogadishu\"}'], ['{\"LOWER\": \"mogi\"}', '{\"LOWER\": \"das\"}', '{\"LOWER\": \"cruzes\"}'], ['{\"LOWER\": \"mogi\"}', '{\"LOWER\": \"guaçu\"}'], ['{\"LOWER\": \"mogielnica\"}'], ['{\"LOWER\": \"mogilno\"}'], ['{\"LOWER\": \"mogoditshane\"}'], ['{\"LOWER\": \"mogontiacum\"}'], ['{\"LOWER\": \"moguer\"}'], ['{\"LOWER\": \"mohammedia\"}'], ['{\"LOWER\": \"moho\"}'], ['{\"LOWER\": \"moji\"}', '{\"LOWER\": \"mirim\"}'], ['{\"LOWER\": \"mojkovac\"}'], ['{\"LOWER\": \"mokhotlong\"}'], ['{\"LOWER\": \"mokolo\"}'], ['{\"LOWER\": \"moladah\"}'], ['{\"LOWER\": \"molepolole\"}'], ['{\"LOWER\": \"molfetta\"}'], ['{\"LOWER\": \"mollendo\"}'], ['{\"LOWER\": \"molėtai\"}'], ['{\"LOWER\": \"mombasa\"}'], ['{\"LOWER\": \"mombuca\"}'], ['{\"LOWER\": \"momchilgrad\"}'], ['{\"LOWER\": \"moncton\"}'], ['{\"LOWER\": \"monfalcone\"}'], ['{\"LOWER\": \"mong\"}', '{\"LOWER\": \"la\"}'], ['{\"LOWER\": \"mongaguá\"}'], ['{\"LOWER\": \"mongar\"}'], ['{\"LOWER\": \"mongo\"}', '{\"LOWER\": \",\"}', '{\"LOWER\": \"chad\"}'], ['{\"LOWER\": \"mongomo\"}'], ['{\"LOWER\": \"mongu\"}'], ['{\"LOWER\": \"monrovia\"}'], ['{\"LOWER\": \"montalvo\"}'], ['{\"LOWER\": \"montana\"}'], ['{\"LOWER\": \"monte\"}', '{\"LOWER\": \"alegre\"}', '{\"LOWER\": \"do\"}', '{\"LOWER\": \"sul\"}'], ['{\"LOWER\": \"monte\"}', '{\"LOWER\": \"alto\"}', '{\"LOWER\": \",\"}', '{\"LOWER\": \"são\"}', '{\"LOWER\": \"paulo\"}'], ['{\"LOWER\": \"monte\"}', '{\"LOWER\": \"aprazível\"}'], ['{\"LOWER\": \"monte\"}', '{\"LOWER\": \"azul\"}', '{\"LOWER\": \"paulista\"}'], ['{\"LOWER\": \"monte\"}', '{\"LOWER\": \"caseros\"}'], ['{\"LOWER\": \"monte\"}', '{\"LOWER\": \"castelo\"}', '{\"LOWER\": \",\"}', '{\"LOWER\": \"são\"}', '{\"LOWER\": \"paulo\"}'], ['{\"LOWER\": \"monte\"}', '{\"LOWER\": \"chingolo\"}'], ['{\"LOWER\": \"monte\"}', '{\"LOWER\": \"grande\"}'], ['{\"LOWER\": \"monte\"}', '{\"LOWER\": \"mor\"}'], ['{\"LOWER\": \"monteagudo\"}'], ['{\"LOWER\": \"montecarlo\"}'], ['{\"LOWER\": \"montecristi\"}'], ['{\"LOWER\": \"montego\"}', '{\"LOWER\": \"bay\"}'], ['{\"LOWER\": \"monteiro\"}'], ['{\"LOWER\": \"monteiro\"}', '{\"LOWER\": \"lobato\"}', '{\"LOWER\": \",\"}', '{\"LOWER\": \"são\"}', '{\"LOWER\": \"paulo\"}'], ['{\"LOWER\": \"montepuez\"}'], ['{\"LOWER\": \"montero\"}'], ['{\"LOWER\": \"monteros\"}'], ['{\"LOWER\": \"monterrey\"}'], ['{\"LOWER\": \"monterrico\"}'], ['{\"LOWER\": \"monywa\"}'], ['{\"LOWER\": \"monza\"}'], ['{\"LOWER\": \"monções\"}'], ['{\"LOWER\": \"moose\"}', '{\"LOWER\": \"jaw\"}'], ['{\"LOWER\": \"moquegua\"}'], ['{\"LOWER\": \"mora\"}'], ['{\"LOWER\": \"morant\"}', '{\"LOWER\": \"bay\"}'], ['{\"LOWER\": \"morden\"}'], ['{\"LOWER\": \"mordy\"}'], ['{\"LOWER\": \"moreno\"}'], ['{\"LOWER\": \"morococha\"}'], ['{\"LOWER\": \"morogoro\"}'], ['{\"LOWER\": \"moroni\"}'], ['{\"LOWER\": \"morro\"}', '{\"LOWER\": \"agudo\"}'], ['{\"LOWER\": \"morteros\"}'], ['{\"LOWER\": \"morungaba\"}'], ['{\"LOWER\": \"moryń\"}'], ['{\"LOWER\": \"morón\"}'], ['{\"LOWER\": \"morąg\"}'], ['{\"LOWER\": \"moshi\"}'], ['{\"LOWER\": \"moshupa\"}'], ['{\"LOWER\": \"mosina\"}'], ['{\"LOWER\": \"mossaka\"}'], ['{\"LOWER\": \"mossendjo\"}'], ['{\"LOWER\": \"mostaganem\"}'], ['{\"LOWER\": \"mostar\"}'], ['{\"LOWER\": \"mosul\"}'], ['{\"LOWER\": \"mota\"}', '{\"LOWER\": \",\"}', '{\"LOWER\": \"ethiopia\"}'], ['{\"LOWER\": \"motihari\"}'], ['{\"LOWER\": \"motril\"}'], ['{\"LOWER\": \"motuca\"}'], ['{\"LOWER\": \"mouila\"}'], ['{\"LOWER\": \"mounana\"}'], ['{\"LOWER\": \"moundou\"}'], ['{\"LOWER\": \"mount\"}', '{\"LOWER\": \"gambier\"}'], ['{\"LOWER\": \"mount\"}', '{\"LOWER\": \"hagen\"}'], ['{\"LOWER\": \"mount\"}', '{\"LOWER\": \"isa\"}'], ['{\"LOWER\": \"moussoro\"}'], ['{\"LOWER\": \"mowa\"}'], ['{\"LOWER\": \"moyale\"}'], ['{\"LOWER\": \"moyamba\"}'], ['{\"LOWER\": \"moyobamba\"}'], ['{\"LOWER\": \"moçâmedes\"}'], ['{\"LOWER\": \"mońki\"}'], ['{\"LOWER\": \"mpanda\"}'], ['{\"LOWER\": \"mpohor\"}'], ['{\"LOWER\": \"mpwapwa\"}'], ['{\"LOWER\": \"mrauk\"}', '{\"LOWER\": \"u\"}'], ['{\"LOWER\": \"mrocza\"}'], ['{\"LOWER\": \"mrozy\"}', '{\"LOWER\": \",\"}', '{\"LOWER\": \"mińsk\"}', '{\"LOWER\": \"county\"}'], ['{\"LOWER\": \"mszczonów\"}'], ['{\"LOWER\": \"mtskheta\"}'], ['{\"LOWER\": \"mtwara\"}'], ['{\"LOWER\": \"muang\"}', '{\"LOWER\": \"xay\"}'], ['{\"LOWER\": \"mubi\"}'], ['{\"LOWER\": \"muborak\"}'], ['{\"LOWER\": \"mudula\"}'], ['{\"LOWER\": \"mueda\"}'], ['{\"LOWER\": \"mufulira\"}'], ['{\"LOWER\": \"mugilla\"}'], ['{\"LOWER\": \"muhanga\"}'], ['{\"LOWER\": \"muharraq\"}'], ['{\"LOWER\": \"mukalla\"}'], ['{\"LOWER\": \"mukden\"}'], ['{\"LOWER\": \"mulanje\"}'], ['{\"LOWER\": \"mulenge\"}'], ['{\"LOWER\": \"mullaitivu\"}'], ['{\"LOWER\": \"mullana\"}'], ['{\"LOWER\": \"multan\"}'], ['{\"LOWER\": \"mulukuku\"}'], ['{\"LOWER\": \"mumbai\"}'], ['{\"LOWER\": \"mumias\"}'], ['{\"LOWER\": \"munich\"}'], ['{\"LOWER\": \"municipality\"}', '{\"LOWER\": \"of\"}', '{\"LOWER\": \"macau\"}'], ['{\"LOWER\": \"munro\"}'], ['{\"LOWER\": \"muqdadiyah\"}'], ['{\"LOWER\": \"muradabad\"}'], ['{\"LOWER\": \"muramvya\"}'], ['{\"LOWER\": \"murcia\"}'], ['{\"LOWER\": \"murowana\"}', '{\"LOWER\": \"goślina\"}'], ['{\"LOWER\": \"murray\"}', '{\"LOWER\": \"bridge\"}'], ['{\"LOWER\": \"murska\"}', '{\"LOWER\": \"sobota\"}'], ['{\"LOWER\": \"murutinga\"}', '{\"LOWER\": \"do\"}', '{\"LOWER\": \"sul\"}'], ['{\"LOWER\": \"murzuk\"}'], ['{\"LOWER\": \"muse\"}'], ['{\"LOWER\": \"musoma\"}'], ['{\"LOWER\": \"musturud\"}'], ['{\"LOWER\": \"musumba\"}'], ['{\"LOWER\": \"muszyna\"}'], ['{\"LOWER\": \"mut\"}'], ['{\"LOWER\": \"mutare\"}'], ['{\"LOWER\": \"mutoko\"}'], ['{\"LOWER\": \"mutriku\"}'], ['{\"LOWER\": \"mutsamudu\"}'], ['{\"LOWER\": \"muttrah\"}'], ['{\"LOWER\": \"muyinga\"}'], ['{\"LOWER\": \"muzaffarpur\"}'], ['{\"LOWER\": \"muñiz\"}', '{\"LOWER\": \",\"}', '{\"LOWER\": \"buenos\"}', '{\"LOWER\": \"aires\"}'], ['{\"LOWER\": \"muğla\"}'], ['{\"LOWER\": \"mwanza\"}'], ['{\"LOWER\": \"mwaro\"}'], ['{\"LOWER\": \"mweka\"}'], ['{\"LOWER\": \"mwene\"}', '{\"LOWER\": \"ditu\"}'], ['{\"LOWER\": \"myeik\"}'], ['{\"LOWER\": \"myitkyina\"}'], ['{\"LOWER\": \"mykonos\"}'], ['{\"LOWER\": \"mysomakedones\"}'], ['{\"LOWER\": \"mysore\"}'], ['{\"LOWER\": \"myszyniec\"}'], ['{\"LOWER\": \"mytilene\"}'], ['{\"LOWER\": \"myślenice\"}'], ['{\"LOWER\": \"myślibórz\"}'], ['{\"LOWER\": \"mzuzu\"}'], ['{\"LOWER\": \"málaga\"}'], ['{\"LOWER\": \"mänttä\"}', '{\"LOWER\": \"vilppula\"}'], ['{\"LOWER\": \"médina\"}', '{\"LOWER\": \"yoro\"}', '{\"LOWER\": \"foulah\"}'], ['{\"LOWER\": \"médéa\"}'], ['{\"LOWER\": \"mérida\"}'], ['{\"LOWER\": \"mörön\"}'], ['{\"LOWER\": \"młynary\"}'], ['{\"LOWER\": \"n\\'dalatando\"}'], ['{\"LOWER\": \"n\\'djamena\"}'], ['{\"LOWER\": \"naantali\"}'], ['{\"LOWER\": \"naarath\"}'], ['{\"LOWER\": \"nabatieh\"}'], ['{\"LOWER\": \"nabinagar\"}'], ['{\"LOWER\": \"nabk\"}'], ['{\"LOWER\": \"nablus\"}'], ['{\"LOWER\": \"nacaome\"}'], ['{\"LOWER\": \"nachingwea\"}', '{\"LOWER\": \",\"}', '{\"LOWER\": \"tanzania\"}'], ['{\"LOWER\": \"nacona\"}'], ['{\"LOWER\": \"nador\"}'], ['{\"LOWER\": \"naema\"}'], ['{\"LOWER\": \"nag\"}', '{\"LOWER\": \"hammadi\"}'], ['{\"LOWER\": \"nagano\"}'], ['{\"LOWER\": \"nagapattinam\"}'], ['{\"LOWER\": \"nagarjun\"}', '{\"LOWER\": \"municipality\"}'], ['{\"LOWER\": \"nagarjunakonda\"}'], ['{\"LOWER\": \"nagercoil\"}'], ['{\"LOWER\": \"nagpur\"}'], ['{\"LOWER\": \"nahariya\"}'], ['{\"LOWER\": \"naina\"}', '{\"LOWER\": \"devi\"}'], ['{\"LOWER\": \"naivasha\"}'], ['{\"LOWER\": \"najaf\"}'], ['{\"LOWER\": \"najan\"}'], ['{\"LOWER\": \"najasa\"}'], ['{\"LOWER\": \"najran\"}'], ['{\"LOWER\": \"nakano\"}'], ['{\"LOWER\": \"nakfa\"}', '{\"LOWER\": \",\"}', '{\"LOWER\": \"eritrea\"}'], ['{\"LOWER\": \"nakhchivan\"}'], ['{\"LOWER\": \"naklo\"}'], ['{\"LOWER\": \"nakonde\"}'], ['{\"LOWER\": \"nakskov\"}'], ['{\"LOWER\": \"nakuru\"}'], ['{\"LOWER\": \"nakło\"}', '{\"LOWER\": \"nad\"}', '{\"LOWER\": \"notecią\"}'], ['{\"LOWER\": \"nala\"}', '{\"LOWER\": \"sopara\"}'], ['{\"LOWER\": \"nalaikh\"}'], ['{\"LOWER\": \"nalut\"}'], ['{\"LOWER\": \"namaacha\"}'], ['{\"LOWER\": \"namakkal\"}'], ['{\"LOWER\": \"namanga\"}'], ['{\"LOWER\": \"namangan\"}'], ['{\"LOWER\": \"namatanai\"}'], ['{\"LOWER\": \"nampho\"}'], ['{\"LOWER\": \"nampula\"}'], ['{\"LOWER\": \"namur\"}'], ['{\"LOWER\": \"namysłów\"}'], ['{\"LOWER\": \"nanaimo\"}'], ['{\"LOWER\": \"nanded\"}'], ['{\"LOWER\": \"nandurbar\"}'], ['{\"LOWER\": \"nangal\"}', '{\"LOWER\": \"choudhary\"}'], ['{\"LOWER\": \"nangal\"}', '{\"LOWER\": \"kalan\"}'], ['{\"LOWER\": \"nangal\"}', '{\"LOWER\": \"rajawatan\"}'], ['{\"LOWER\": \"nanking\"}'], ['{\"LOWER\": \"nanterre\"}'], ['{\"LOWER\": \"nantes\"}', '{\"LOWER\": \",\"}', '{\"LOWER\": \"são\"}', '{\"LOWER\": \"paulo\"}'], ['{\"LOWER\": \"nanyuki\"}'], ['{\"LOWER\": \"naolinco\"}', '{\"LOWER\": \",\"}', '{\"LOWER\": \"veracruz\"}'], ['{\"LOWER\": \"napata\"}'], ['{\"LOWER\": \"napier\"}'], ['{\"LOWER\": \"naples\"}'], ['{\"LOWER\": \"naqada\"}'], ['{\"LOWER\": \"nara\"}'], ['{\"LOWER\": \"naracoopa\"}'], ['{\"LOWER\": \"narandiba\"}'], ['{\"LOWER\": \"naranjal\"}'], ['{\"LOWER\": \"naranjito\"}'], ['{\"LOWER\": \"narayan\"}'], ['{\"LOWER\": \"narayanganj\"}'], ['{\"LOWER\": \"naresh\"}'], ['{\"LOWER\": \"narlı\"}'], ['{\"LOWER\": \"narok\"}'], ['{\"LOWER\": \"narol\"}'], ['{\"LOWER\": \"narona\"}'], ['{\"LOWER\": \"narsaq\"}'], ['{\"LOWER\": \"narsingdi\"}'], ['{\"LOWER\": \"narvik\"}'], ['{\"LOWER\": \"naryn\"}'], ['{\"LOWER\": \"nasca\"}'], ['{\"LOWER\": \"nashik\"}'], ['{\"LOWER\": \"nasielsk\"}'], ['{\"LOWER\": \"nasiriyah\"}'], ['{\"LOWER\": \"nassau\"}'], ['{\"LOWER\": \"nasser\"}'], ['{\"LOWER\": \"natas\"}'], ['{\"LOWER\": \"natividade\"}', '{\"LOWER\": \"da\"}', '{\"LOWER\": \"serra\"}'], ['{\"LOWER\": \"natá\"}', '{\"LOWER\": \"de\"}', '{\"LOWER\": \"los\"}', '{\"LOWER\": \"caballeros\"}'], ['{\"LOWER\": \"naucalpan\"}', '{\"LOWER\": \"de\"}', '{\"LOWER\": \"juárez\"}'], ['{\"LOWER\": \"naujoji\"}', '{\"LOWER\": \"akmenė\"}'], ['{\"LOWER\": \"naulochus\"}'], ['{\"LOWER\": \"naupactus\"}'], ['{\"LOWER\": \"nauta\"}'], ['{\"LOWER\": \"navekat\"}'], ['{\"LOWER\": \"navi\"}', '{\"LOWER\": \"mumbai\"}'], ['{\"LOWER\": \"navoiy\"}'], ['{\"LOWER\": \"navojoa\"}'], ['{\"LOWER\": \"nawa\"}'], ['{\"LOWER\": \"nawabshah\"}'], ['{\"LOWER\": \"nawer\"}', '{\"LOWER\": \"valley\"}'], ['{\"LOWER\": \"naxos\"}', '{\"LOWER\": \"(\"}', '{\"LOWER\": \"city\"}', '{\"LOWER\": \")\"}'], ['{\"LOWER\": \"naya\"}', '{\"LOWER\": \"raipur\"}'], ['{\"LOWER\": \"naypyidaw\"}'], ['{\"LOWER\": \"nazareth\"}'], ['{\"LOWER\": \"nazaré\"}', '{\"LOWER\": \"paulista\"}'], ['{\"LOWER\": \"nałęczów\"}'], ['{\"LOWER\": \"ncue\"}'], ['{\"LOWER\": \"ndevana\"}'], ['{\"LOWER\": \"ndi\"}', '{\"LOWER\": \"oji\"}', '{\"LOWER\": \"abam\"}'], ['{\"LOWER\": \"ndioum\"}'], ['{\"LOWER\": \"ndola\"}'], ['{\"LOWER\": \"ndom\"}'], ['{\"LOWER\": \"nea\"}', '{\"LOWER\": \"filadelfeia\"}'], ['{\"LOWER\": \"nea\"}', '{\"LOWER\": \"ionia\"}'], ['{\"LOWER\": \"neapolis\"}'], ['{\"LOWER\": \"necochea\"}'], ['{\"LOWER\": \"nefas\"}', '{\"LOWER\": \"mewcha\"}'], ['{\"LOWER\": \"nefasit\"}'], ['{\"LOWER\": \"neftekamsk\"}'], ['{\"LOWER\": \"neftçala\"}'], ['{\"LOWER\": \"negombo\"}'], ['{\"LOWER\": \"negotino\"}'], ['{\"LOWER\": \"negril\"}'], ['{\"LOWER\": \"nehardea\"}'], ['{\"LOWER\": \"nejo\"}'], ['{\"LOWER\": \"nekla\"}'], ['{\"LOWER\": \"nellore\"}'], ['{\"LOWER\": \"nelson\"}'], ['{\"LOWER\": \"nemenčinė\"}'], ['{\"LOWER\": \"neon\"}'], ['{\"LOWER\": \"nepalgunj\"}'], ['{\"LOWER\": \"nerkattumseval\"}'], ['{\"LOWER\": \"nerulum\"}'], ['{\"LOWER\": \"nerva\"}'], ['{\"LOWER\": \"nesebar\"}'], ['{\"LOWER\": \"nesher\"}'], ['{\"LOWER\": \"neskaupstaður\"}'], ['{\"LOWER\": \"ness\"}', '{\"LOWER\": \"ziona\"}'], ['{\"LOWER\": \"netanya\"}'], ['{\"LOWER\": \"netivot\"}'], ['{\"LOWER\": \"netum\"}'], ['{\"LOWER\": \"neuquén\"}'], ['{\"LOWER\": \"neves\"}', '{\"LOWER\": \"paulista\"}'], ['{\"LOWER\": \"nevşehir\"}'], ['{\"LOWER\": \"new\"}', '{\"LOWER\": \"amsterdam\"}'], ['{\"LOWER\": \"new\"}', '{\"LOWER\": \"cairo\"}'], ['{\"LOWER\": \"new\"}', '{\"LOWER\": \"plymouth\"}'], ['{\"LOWER\": \"new\"}', '{\"LOWER\": \"westminster\"}'], ['{\"LOWER\": \"new\"}', '{\"LOWER\": \"york\"}', '{\"LOWER\": \"city\"}'], ['{\"LOWER\": \"newcastle\"}'], ['{\"LOWER\": \"newcastle\"}', '{\"LOWER\": \"upon\"}', '{\"LOWER\": \"tyne\"}'], ['{\"LOWER\": \"newcastle\"}', '{\"LOWER\": \"west\"}'], ['{\"LOWER\": \"newport\"}'], ['{\"LOWER\": \"newry\"}'], ['{\"LOWER\": \"nganda\"}'], ['{\"LOWER\": \"ngaoundéré\"}'], ['{\"LOWER\": \"ngerulmud\"}'], ['{\"LOWER\": \"ngornu\"}'], ['{\"LOWER\": \"ngozi\"}'], ['{\"LOWER\": \"nguti\"}'], ['{\"LOWER\": \"nguékhokh\"}'], ['{\"LOWER\": \"ngwenya\"}'], ['{\"LOWER\": \"nhamatanda\"}'], ['{\"LOWER\": \"nhandeara\"}'], ['{\"LOWER\": \"nhlangano\"}'], ['{\"LOWER\": \"niagara\"}', '{\"LOWER\": \"falls\"}'], ['{\"LOWER\": \"niamey\"}'], ['{\"LOWER\": \"niamtougou\"}'], ['{\"LOWER\": \"niceto\"}', '{\"LOWER\": \"pérez\"}'], ['{\"LOWER\": \"nidaros\"}'], ['{\"LOWER\": \"nidzica\"}'], ['{\"LOWER\": \"niederlahnstein\"}'], ['{\"LOWER\": \"niefang\"}'], ['{\"LOWER\": \"niemcza\"}'], ['{\"LOWER\": \"niemodlin\"}'], ['{\"LOWER\": \"nienburg\"}'], ['{\"LOWER\": \"niepołomice\"}'], ['{\"LOWER\": \"nijkerk\"}'], ['{\"LOWER\": \"nijmegen\"}'], ['{\"LOWER\": \"nikaia\"}'], ['{\"LOWER\": \"nikkō\"}'], ['{\"LOWER\": \"nikšić\"}'], ['{\"LOWER\": \"nilore\"}', '{\"LOWER\": \",\"}', '{\"LOWER\": \"islamabad\"}'], ['{\"LOWER\": \"ninotsminda\"}'], ['{\"LOWER\": \"nioro\"}', '{\"LOWER\": \"du\"}', '{\"LOWER\": \"rip\"}'], ['{\"LOWER\": \"nipoã\"}'], ['{\"LOWER\": \"nishinomiya\"}'], ['{\"LOWER\": \"nisko\"}'], ['{\"LOWER\": \"nisporeni\"}'], ['{\"LOWER\": \"nissing\"}'], ['{\"LOWER\": \"niterói\"}'], ['{\"LOWER\": \"nitra\"}'], ['{\"LOWER\": \"nivala\"}'], ['{\"LOWER\": \"nizamabad\"}'], ['{\"LOWER\": \"nizip\"}'], ['{\"LOWER\": \"nizwa\"}'], ['{\"LOWER\": \"niğde\"}'], ['{\"LOWER\": \"niš\"}'], ['{\"LOWER\": \"njarðvík\"}'], ['{\"LOWER\": \"njombe\"}', '{\"LOWER\": \"mjini\"}'], ['{\"LOWER\": \"nkayi\"}', '{\"LOWER\": \",\"}', '{\"LOWER\": \"republic\"}', '{\"LOWER\": \"of\"}', '{\"LOWER\": \"the\"}', '{\"LOWER\": \"congo\"}'], ['{\"LOWER\": \"nkhata\"}', '{\"LOWER\": \"bay\"}'], ['{\"LOWER\": \"nkimi\"}'], ['{\"LOWER\": \"nkondjock\"}'], ['{\"LOWER\": \"nkongsamba\"}'], ['{\"LOWER\": \"nkurenkuru\"}'], ['{\"LOWER\": \"nof\"}', '{\"LOWER\": \"hagalil\"}'], ['{\"LOWER\": \"noida\"}'], ['{\"LOWER\": \"nokia\"}'], ['{\"LOWER\": \"nola\"}', '{\"LOWER\": \",\"}', '{\"LOWER\": \"central\"}', '{\"LOWER\": \"african\"}', '{\"LOWER\": \"republic\"}'], ['{\"LOWER\": \"nombre\"}', '{\"LOWER\": \"de\"}', '{\"LOWER\": \"jesús\"}'], ['{\"LOWER\": \"nondara\"}'], ['{\"LOWER\": \"nordhorn\"}'], ['{\"LOWER\": \"norsup\"}'], ['{\"LOWER\": \"north\"}', '{\"LOWER\": \"bay\"}'], ['{\"LOWER\": \"north\"}', '{\"LOWER\": \"nicosia\"}'], ['{\"LOWER\": \"north\"}', '{\"LOWER\": \"vancouver\"}'], ['{\"LOWER\": \"norwich\"}'], ['{\"LOWER\": \"notsé\"}'], ['{\"LOWER\": \"nottingham\"}'], ['{\"LOWER\": \"nouaceur\"}'], ['{\"LOWER\": \"nouadhibou\"}'], ['{\"LOWER\": \"nouakchott\"}'], ['{\"LOWER\": \"nova\"}', '{\"LOWER\": \"aliança\"}'], ['{\"LOWER\": \"nova\"}', '{\"LOWER\": \"campina\"}'], ['{\"LOWER\": \"nova\"}', '{\"LOWER\": \"canaã\"}', '{\"LOWER\": \"paulista\"}'], ['{\"LOWER\": \"nova\"}', '{\"LOWER\": \"castilho\"}'], ['{\"LOWER\": \"nova\"}', '{\"LOWER\": \"europa\"}'], ['{\"LOWER\": \"nova\"}', '{\"LOWER\": \"gorica\"}'], ['{\"LOWER\": \"nova\"}', '{\"LOWER\": \"granada\"}'], ['{\"LOWER\": \"nova\"}', '{\"LOWER\": \"guataporanga\"}'], ['{\"LOWER\": \"nova\"}', '{\"LOWER\": \"independência\"}'], ['{\"LOWER\": \"nova\"}', '{\"LOWER\": \"lima\"}'], ['{\"LOWER\": \"nova\"}', '{\"LOWER\": \"luzitânia\"}'], ['{\"LOWER\": \"nova\"}', '{\"LOWER\": \"odessa\"}'], ['{\"LOWER\": \"nova\"}', '{\"LOWER\": \"varoš\"}'], ['{\"LOWER\": \"novais\"}', '{\"LOWER\": \",\"}', '{\"LOWER\": \"são\"}', '{\"LOWER\": \"paulo\"}'], ['{\"LOWER\": \"novara\"}'], ['{\"LOWER\": \"novi\"}', '{\"LOWER\": \"iskar\"}'], ['{\"LOWER\": \"novi\"}', '{\"LOWER\": \"pazar\"}'], ['{\"LOWER\": \"novo\"}', '{\"LOWER\": \"horizonte\"}', '{\"LOWER\": \",\"}', '{\"LOWER\": \"são\"}', '{\"LOWER\": \"paulo\"}'], ['{\"LOWER\": \"novo\"}', '{\"LOWER\": \"mesto\"}'], ['{\"LOWER\": \"novorossiysk\"}'], ['{\"LOWER\": \"nový\"}', '{\"LOWER\": \"jičín\"}'], ['{\"LOWER\": \"nowa\"}', '{\"LOWER\": \"dęba\"}'], ['{\"LOWER\": \"nowa\"}', '{\"LOWER\": \"sarzyna\"}'], ['{\"LOWER\": \"nowa\"}', '{\"LOWER\": \"słupia\"}'], ['{\"LOWER\": \"nowe\"}'], ['{\"LOWER\": \"nowe\"}', '{\"LOWER\": \"brzesko\"}'], ['{\"LOWER\": \"nowe\"}', '{\"LOWER\": \"miasteczko\"}'], ['{\"LOWER\": \"nowe\"}', '{\"LOWER\": \"miasto\"}', '{\"LOWER\": \"nad\"}', '{\"LOWER\": \"pilicą\"}'], ['{\"LOWER\": \"nowe\"}', '{\"LOWER\": \"skalmierzyce\"}'], ['{\"LOWER\": \"nowe\"}', '{\"LOWER\": \"warpno\"}'], ['{\"LOWER\": \"nowogard\"}'], ['{\"LOWER\": \"nowogrodziec\"}'], ['{\"LOWER\": \"nowogród\"}'], ['{\"LOWER\": \"nowogród\"}', '{\"LOWER\": \"bobrzański\"}'], ['{\"LOWER\": \"nowy\"}', '{\"LOWER\": \"dwór\"}', '{\"LOWER\": \"gdański\"}'], ['{\"LOWER\": \"nowy\"}', '{\"LOWER\": \"korczyn\"}'], ['{\"LOWER\": \"nowy\"}', '{\"LOWER\": \"staw\"}'], ['{\"LOWER\": \"nowy\"}', '{\"LOWER\": \"sącz\"}'], ['{\"LOWER\": \"nowy\"}', '{\"LOWER\": \"tomyśl\"}'], ['{\"LOWER\": \"nowy\"}', '{\"LOWER\": \"wiśnicz\"}'], ['{\"LOWER\": \"nsang\"}'], ['{\"LOWER\": \"nsanje\"}'], ['{\"LOWER\": \"nsoko\"}'], ['{\"LOWER\": \"nueva\"}', '{\"LOWER\": \"cáceres\"}'], ['{\"LOWER\": \"nueva\"}', '{\"LOWER\": \"gerona\"}'], ['{\"LOWER\": \"nueva\"}', '{\"LOWER\": \"helvecia\"}'], ['{\"LOWER\": \"nueva\"}', '{\"LOWER\": \"loja\"}'], ['{\"LOWER\": \"nueva\"}', '{\"LOWER\": \"ocotepeque\"}'], ['{\"LOWER\": \"nueva\"}', '{\"LOWER\": \"palmira\"}'], ['{\"LOWER\": \"nuevitas\"}'], ['{\"LOWER\": \"nuevo\"}', '{\"LOWER\": \"berlín\"}'], ['{\"LOWER\": \"nuevo\"}', '{\"LOWER\": \"laredo\"}'], ['{\"LOWER\": \"nuevo\"}', '{\"LOWER\": \"san\"}', '{\"LOWER\": \"carlos\"}'], ['{\"LOWER\": \"nuku\\'alofa\"}'], ['{\"LOWER\": \"nukus\"}'], ['{\"LOWER\": \"nuporanga\"}'], ['{\"LOWER\": \"nurafshon\"}'], ['{\"LOWER\": \"nurak\"}'], ['{\"LOWER\": \"nuremberg\"}'], ['{\"LOWER\": \"nurmes\"}'], ['{\"LOWER\": \"nurpur\"}'], ['{\"LOWER\": \"nusaybin\"}'], ['{\"LOWER\": \"nushki\"}'], ['{\"LOWER\": \"nuuk\"}'], ['{\"LOWER\": \"nuwara\"}', '{\"LOWER\": \"eliya\"}'], ['{\"LOWER\": \"nuweiba\"}'], ['{\"LOWER\": \"nuzi\"}'], ['{\"LOWER\": \"nyala\"}'], ['{\"LOWER\": \"nyamasheke\"}'], ['{\"LOWER\": \"nyanga\"}'], ['{\"LOWER\": \"nyanza\"}', '{\"LOWER\": \",\"}', '{\"LOWER\": \"rwanda\"}'], ['{\"LOWER\": \"nyaunglebin\"}'], ['{\"LOWER\": \"nyborg\"}'], ['{\"LOWER\": \"nykarleby\"}'], ['{\"LOWER\": \"nykøbing\"}', '{\"LOWER\": \"falster\"}'], ['{\"LOWER\": \"nysa\"}'], ['{\"LOWER\": \"nyíregyháza\"}'], ['{\"LOWER\": \"närpes\"}'], ['{\"LOWER\": \"næstved\"}'], ['{\"LOWER\": \"nørresundby\"}'], ['{\"LOWER\": \"o\"}', '{\"LOWER\": \"smach\"}'], ['{\"LOWER\": \"oba\"}'], ['{\"LOWER\": \"obala\"}'], ['{\"LOWER\": \"obeliai\"}'], ['{\"LOWER\": \"oberlahnstein\"}'], ['{\"LOWER\": \"oberá\"}'], ['{\"LOWER\": \"obock\"}'], ['{\"LOWER\": \"oborniki\"}'], ['{\"LOWER\": \"oborniki\"}', '{\"LOWER\": \"śląskie\"}'], ['{\"LOWER\": \"ocauçu\"}'], ['{\"LOWER\": \"ocnița\"}'], ['{\"LOWER\": \"ocotal\"}'], ['{\"LOWER\": \"ocumare\"}', '{\"LOWER\": \"del\"}', '{\"LOWER\": \"tuy\"}'], ['{\"LOWER\": \"odienné\"}'], ['{\"LOWER\": \"odolanów\"}'], ['{\"LOWER\": \"odranci\"}'], ['{\"LOWER\": \"odžak\"}'], ['{\"LOWER\": \"oebisfelde\"}'], ['{\"LOWER\": \"of\"}'], ['{\"LOWER\": \"ofakim\"}'], ['{\"LOWER\": \"ogbomosho\"}'], ['{\"LOWER\": \"ogrodzieniec\"}'], ['{\"LOWER\": \"ohrid\"}'], ['{\"LOWER\": \"okakarara\"}'], ['{\"LOWER\": \"okene\"}'], ['{\"LOWER\": \"okonek\"}'], ['{\"LOWER\": \"okoyo\"}'], ['{\"LOWER\": \"olanchito\"}'], ['{\"LOWER\": \"olavarría\"}'], ['{\"LOWER\": \"old\"}', '{\"LOWER\": \"cölln\"}'], ['{\"LOWER\": \"old\"}', '{\"LOWER\": \"delhi\"}'], ['{\"LOWER\": \"old\"}', '{\"LOWER\": \"harbour\"}'], ['{\"LOWER\": \"old\"}', '{\"LOWER\": \"neredmet\"}', '{\"LOWER\": \"village\"}'], ['{\"LOWER\": \"old\"}', '{\"LOWER\": \"sana\"}'], ['{\"LOWER\": \"olecko\"}'], ['{\"LOWER\": \"olesno\"}'], ['{\"LOWER\": \"oleszyce\"}'], ['{\"LOWER\": \"oleśnica\"}', '{\"LOWER\": \",\"}', '{\"LOWER\": \"świętokrzyskie\"}', '{\"LOWER\": \"voivodeship\"}'], ['{\"LOWER\": \"olite\"}'], ['{\"LOWER\": \"olivenza\"}'], ['{\"LOWER\": \"olkusz\"}'], ['{\"LOWER\": \"ollantaytambo\"}'], ['{\"LOWER\": \"olmaliq\"}'], ['{\"LOWER\": \"olomouc\"}'], ['{\"LOWER\": \"olsztyn\"}'], ['{\"LOWER\": \"olsztynek\"}'], ['{\"LOWER\": \"olszyna\"}'], ['{\"LOWER\": \"olympe\"}'], ['{\"LOWER\": \"olímpia\"}'], ['{\"LOWER\": \"omaruru\"}'], ['{\"LOWER\": \"omate\"}'], ['{\"LOWER\": \"omdurman\"}'], ['{\"LOWER\": \"ommen\"}'], ['{\"LOWER\": \"omurtag\"}'], ['{\"LOWER\": \"omuthiya\"}'], ['{\"LOWER\": \"onda\"}', '{\"LOWER\": \"verde\"}'], ['{\"LOWER\": \"ondangwa\"}'], ['{\"LOWER\": \"ondjiva\"}'], ['{\"LOWER\": \"ondo\"}', '{\"LOWER\": \"city\"}'], ['{\"LOWER\": \"ongwediva\"}'], ['{\"LOWER\": \"oni\"}'], ['{\"LOWER\": \"onitsha\"}'], ['{\"LOWER\": \"onoguris\"}'], ['{\"LOWER\": \"onoto\"}'], ['{\"LOWER\": \"opalenica\"}'], ['{\"LOWER\": \"opatowiec\"}'], ['{\"LOWER\": \"opatów\"}'], ['{\"LOWER\": \"opava\"}'], ['{\"LOWER\": \"opoczno\"}'], ['{\"LOWER\": \"opole\"}'], ['{\"LOWER\": \"opole\"}', '{\"LOWER\": \"lubelskie\"}'], ['{\"LOWER\": \"opuwo\"}'], ['{\"LOWER\": \"or\"}', '{\"LOWER\": \"akiva\"}'], ['{\"LOWER\": \"oracabessa\"}'], ['{\"LOWER\": \"orahovac\"}'], ['{\"LOWER\": \"oral\"}'], ['{\"LOWER\": \"oran\"}'], ['{\"LOWER\": \"orange\"}'], ['{\"LOWER\": \"oranjemund\"}'], ['{\"LOWER\": \"oranjestad\"}'], ['{\"LOWER\": \"orapa\"}'], ['{\"LOWER\": \"ordu\"}'], ['{\"LOWER\": \"ordubad\"}'], ['{\"LOWER\": \"orhei\"}'], ['{\"LOWER\": \"oricum\"}'], ['{\"LOWER\": \"oriente\"}', '{\"LOWER\": \",\"}', '{\"LOWER\": \"são\"}', '{\"LOWER\": \"paulo\"}'], ['{\"LOWER\": \"orihuela\"}'], ['{\"LOWER\": \"orillia\"}'], ['{\"LOWER\": \"orimattila\"}'], ['{\"LOWER\": \"orindiúva\"}'], ['{\"LOWER\": \"orivesi\"}'], ['{\"LOWER\": \"orkanger\"}'], ['{\"LOWER\": \"orlando\"}'], ['{\"LOWER\": \"orlândia\"}'], ['{\"LOWER\": \"orneta\"}'], ['{\"LOWER\": \"oropia\"}'], ['{\"LOWER\": \"oropolí\"}'], ['{\"LOWER\": \"ortahisar\"}'], ['{\"LOWER\": \"ortaklar\"}'], ['{\"LOWER\": \"ortiz\"}', '{\"LOWER\": \",\"}', '{\"LOWER\": \"guárico\"}'], ['{\"LOWER\": \"oruro\"}'], ['{\"LOWER\": \"orzysz\"}'], ['{\"LOWER\": \"osasco\"}'], ['{\"LOWER\": \"oscar\"}', '{\"LOWER\": \"bressane\"}'], ['{\"LOWER\": \"osemotor\"}'], ['{\"LOWER\": \"osh\"}'], ['{\"LOWER\": \"oshakati\"}'], ['{\"LOWER\": \"oshawa\"}'], ['{\"LOWER\": \"oshikango\"}'], ['{\"LOWER\": \"osieczna\"}'], ['{\"LOWER\": \"osiek\"}', '{\"LOWER\": \",\"}', '{\"LOWER\": \"świętokrzyskie\"}', '{\"LOWER\": \"voivodeship\"}'], ['{\"LOWER\": \"oskemen\"}'], ['{\"LOWER\": \"oslo\"}'], ['{\"LOWER\": \"osmanabad\"}'], ['{\"LOWER\": \"osmaniye\"}'], ['{\"LOWER\": \"osogbo\"}'], ['{\"LOWER\": \"ostrava\"}'], ['{\"LOWER\": \"ostroróg\"}'], ['{\"LOWER\": \"ostrołęka\"}'], ['{\"LOWER\": \"ostrzeszów\"}'], ['{\"LOWER\": \"ostrów\"}', '{\"LOWER\": \"lubelski\"}'], ['{\"LOWER\": \"osvaldo\"}', '{\"LOWER\": \"cruz\"}'], ['{\"LOWER\": \"osório\"}'], ['{\"LOWER\": \"otavalo\"}'], ['{\"LOWER\": \"otavi\"}'], ['{\"LOWER\": \"otjiwarongo\"}'], ['{\"LOWER\": \"otmuchów\"}'], ['{\"LOWER\": \"otrar\"}'], ['{\"LOWER\": \"otuzco\"}'], ['{\"LOWER\": \"otyń\"}'], ['{\"LOWER\": \"ouahigouya\"}'], ['{\"LOWER\": \"ouargla\"}'], ['{\"LOWER\": \"ouazzane\"}'], ['{\"LOWER\": \"oued\"}', '{\"LOWER\": \"laou\"}'], ['{\"LOWER\": \"oued\"}', '{\"LOWER\": \"zem\"}'], ['{\"LOWER\": \"oujda\"}'], ['{\"LOWER\": \"oulainen\"}'], ['{\"LOWER\": \"oulu\"}'], ['{\"LOWER\": \"oum\"}', '{\"LOWER\": \"el\"}', '{\"LOWER\": \"bouaghi\"}'], ['{\"LOWER\": \"oum\"}', '{\"LOWER\": \"hadjer\"}'], ['{\"LOWER\": \"oumé\"}'], ['{\"LOWER\": \"ourense\"}'], ['{\"LOWER\": \"ourinhos\"}'], ['{\"LOWER\": \"ouro\"}', '{\"LOWER\": \"sogui\"}'], ['{\"LOWER\": \"ouro\"}', '{\"LOWER\": \"verde\"}'], ['{\"LOWER\": \"ouroeste\"}'], ['{\"LOWER\": \"oussouye\"}'], ['{\"LOWER\": \"outapi\"}'], ['{\"LOWER\": \"outjo\"}'], ['{\"LOWER\": \"outokumpu\"}'], ['{\"LOWER\": \"ouésso\"}'], ['{\"LOWER\": \"ovacık\"}'], ['{\"LOWER\": \"ovaeymir\"}'], ['{\"LOWER\": \"ovaören\"}'], ['{\"LOWER\": \"oviedo\"}'], ['{\"LOWER\": \"owando\"}'], ['{\"LOWER\": \"owen\"}', '{\"LOWER\": \"sound\"}'], ['{\"LOWER\": \"owerri\"}'], ['{\"LOWER\": \"owo\"}'], ['{\"LOWER\": \"oyo\"}'], ['{\"LOWER\": \"oyo\"}', '{\"LOWER\": \",\"}', '{\"LOWER\": \"republic\"}', '{\"LOWER\": \"of\"}', '{\"LOWER\": \"the\"}', '{\"LOWER\": \"congo\"}'], ['{\"LOWER\": \"ozimek\"}'], ['{\"LOWER\": \"ozurgeti\"}'], ['{\"LOWER\": \"oğuz\"}'], ['{\"LOWER\": \"ośno\"}', '{\"LOWER\": \"lubuskie\"}'], ['{\"LOWER\": \"ożarów\"}'], ['{\"LOWER\": \"ożarów\"}', '{\"LOWER\": \"mazowiecki\"}'], ['{\"LOWER\": \"paamiut\"}'], ['{\"LOWER\": \"pabradė\"}'], ['{\"LOWER\": \"pacaembu\"}'], ['{\"LOWER\": \"pacanów\"}'], ['{\"LOWER\": \"pacasmayo\"}'], ['{\"LOWER\": \"pachacútec\"}', '{\"LOWER\": \"city\"}', '{\"LOWER\": \"special\"}', '{\"LOWER\": \"project\"}'], ['{\"LOWER\": \"paczków\"}'], ['{\"LOWER\": \"padang\"}', '{\"LOWER\": \"besar\"}'], ['{\"LOWER\": \"padilla\"}'], ['{\"LOWER\": \"padua\"}'], ['{\"LOWER\": \"pahadi\"}', '{\"LOWER\": \",\"}', '{\"LOWER\": \"rajasthan\"}'], ['{\"LOWER\": \"paiania\"}'], ['{\"LOWER\": \"pailón\"}'], ['{\"LOWER\": \"paimio\"}'], ['{\"LOWER\": \"paishiyauvada\"}'], ['{\"LOWER\": \"paita\"}'], ['{\"LOWER\": \"pajęczno\"}'], ['{\"LOWER\": \"pakenham\"}'], ['{\"LOWER\": \"pakość\"}'], ['{\"LOWER\": \"pakruojis\"}'], ['{\"LOWER\": \"pakse\"}'], ['{\"LOWER\": \"pakwach\"}'], ['{\"LOWER\": \"pakxan\"}'], ['{\"LOWER\": \"pala\"}'], ['{\"LOWER\": \"palakkad\"}'], ['{\"LOWER\": \"palakollu\"}'], ['{\"LOWER\": \"palanpur\"}'], ['{\"LOWER\": \"palapye\"}'], ['{\"LOWER\": \"palencia\"}'], ['{\"LOWER\": \"palenque\"}'], ['{\"LOWER\": \"palermo\"}'], ['{\"LOWER\": \"palestina\"}'], ['{\"LOWER\": \"pali\"}'], ['{\"LOWER\": \"palić\"}'], ['{\"LOWER\": \"palma\"}'], ['{\"LOWER\": \"palma\"}', '{\"LOWER\": \"soriano\"}'], ['{\"LOWER\": \"palmares\"}', '{\"LOWER\": \"paulista\"}'], ['{\"LOWER\": \"palmas\"}'], ['{\"LOWER\": \"palmeira\"}', '{\"LOWER\": \"d\\'oeste\"}'], ['{\"LOWER\": \"palmerston\"}'], ['{\"LOWER\": \"palmerston\"}', '{\"LOWER\": \"north\"}'], ['{\"LOWER\": \"palmira\"}'], ['{\"LOWER\": \"palmital\"}'], ['{\"LOWER\": \"palo\"}', '{\"LOWER\": \"negro\"}'], ['{\"LOWER\": \"palos\"}', '{\"LOWER\": \"blancos\"}'], ['{\"LOWER\": \"palos\"}', '{\"LOWER\": \"de\"}', '{\"LOWER\": \"la\"}', '{\"LOWER\": \"frontera\"}'], ['{\"LOWER\": \"palpa\"}'], ['{\"LOWER\": \"palpalá\"}'], ['{\"LOWER\": \"pampas\"}'], ['{\"LOWER\": \"pampatar\"}'], ['{\"LOWER\": \"pamplona\"}'], ['{\"LOWER\": \"pan\"}', '{\"LOWER\": \"de\"}', '{\"LOWER\": \"azúcar\"}', '{\"LOWER\": \",\"}', '{\"LOWER\": \"uruguay\"}'], ['{\"LOWER\": \"pana\"}'], ['{\"LOWER\": \"panajachel\"}'], ['{\"LOWER\": \"panama\"}', '{\"LOWER\": \"city\"}'], ['{\"LOWER\": \"panauti\"}'], ['{\"LOWER\": \"panchor\"}'], ['{\"LOWER\": \"panda\"}'], ['{\"LOWER\": \"pandaul\"}', '{\"LOWER\": \"vidhan\"}', '{\"LOWER\": \"sabha\"}', '{\"LOWER\": \"constituency\"}'], ['{\"LOWER\": \"pando\"}'], ['{\"LOWER\": \"pandėlys\"}'], ['{\"LOWER\": \"panevėžys\"}'], ['{\"LOWER\": \"pangani\"}'], ['{\"LOWER\": \"pangin\"}'], ['{\"LOWER\": \"pangkham\"}'], ['{\"LOWER\": \"panguna\"}'], ['{\"LOWER\": \"panjakent\"}'], ['{\"LOWER\": \"panjim\"}'], ['{\"LOWER\": \"panna\"}', '{\"LOWER\": \",\"}', '{\"LOWER\": \"india\"}'], ['{\"LOWER\": \"papenburg\"}'], ['{\"LOWER\": \"paradero\"}'], ['{\"LOWER\": \"paraguaçu\"}', '{\"LOWER\": \"paulista\"}'], ['{\"LOWER\": \"paraibuna\"}'], ['{\"LOWER\": \"paramaribo\"}'], ['{\"LOWER\": \"paranapanema\"}'], ['{\"LOWER\": \"paranapuã\"}'], ['{\"LOWER\": \"paraná\"}'], ['{\"LOWER\": \"parapuã\"}'], ['{\"LOWER\": \"paravur\"}'], ['{\"LOWER\": \"parczew\"}'], ['{\"LOWER\": \"pardes\"}', '{\"LOWER\": \"hanna\"}', '{\"LOWER\": \"karkur\"}'], ['{\"LOWER\": \"pardinho\"}'], ['{\"LOWER\": \"pardubice\"}'], ['{\"LOWER\": \"pargas\"}'], ['{\"LOWER\": \"parika\"}'], ['{\"LOWER\": \"pariquera\"}', '{\"LOWER\": \"açu\"}'], ['{\"LOWER\": \"paris\"}'], ['{\"LOWER\": \"parisi\"}'], ['{\"LOWER\": \"parkano\"}'], ['{\"LOWER\": \"parkhurst\"}', '{\"LOWER\": \",\"}', '{\"LOWER\": \"isle\"}', '{\"LOWER\": \"of\"}', '{\"LOWER\": \"wight\"}'], ['{\"LOWER\": \"parma\"}'], ['{\"LOWER\": \"paro\"}'], ['{\"LOWER\": \"paroom\"}'], ['{\"LOWER\": \"parotani\"}'], ['{\"LOWER\": \"parque\"}', '{\"LOWER\": \"del\"}', '{\"LOWER\": \"plata\"}'], ['{\"LOWER\": \"parque\"}', '{\"LOWER\": \"san\"}', '{\"LOWER\": \"martín\"}', '{\"LOWER\": \",\"}', '{\"LOWER\": \"buenos\"}', '{\"LOWER\": \"aires\"}', '{\"LOWER\": \"province\"}'], ['{\"LOWER\": \"paruro\"}'], ['{\"LOWER\": \"parvomay\"}'], ['{\"LOWER\": \"pasaje\"}'], ['{\"LOWER\": \"paso\"}', '{\"LOWER\": \"de\"}', '{\"LOWER\": \"los\"}', '{\"LOWER\": \"libres\"}'], ['{\"LOWER\": \"paso\"}', '{\"LOWER\": \"de\"}', '{\"LOWER\": \"los\"}', '{\"LOWER\": \"toros\"}'], ['{\"LOWER\": \"pasvalys\"}'], ['{\"LOWER\": \"pasym\"}'], ['{\"LOWER\": \"pasłęk\"}'], ['{\"LOWER\": \"patacamaya\"}'], ['{\"LOWER\": \"pataliputra\"}'], ['{\"LOWER\": \"pathein\"}'], ['{\"LOWER\": \"patiala\"}'], ['{\"LOWER\": \"patna\"}'], ['{\"LOWER\": \"patos\"}'], ['{\"LOWER\": \"patos\"}', '{\"LOWER\": \"de\"}', '{\"LOWER\": \"minas\"}'], ['{\"LOWER\": \"patras\"}'], ['{\"LOWER\": \"patreksfjörður\"}'], ['{\"LOWER\": \"patrocínio\"}', '{\"LOWER\": \"paulista\"}'], ['{\"LOWER\": \"pattaya\"}'], ['{\"LOWER\": \"pau\"}'], ['{\"LOWER\": \"paucartambo\"}'], ['{\"LOWER\": \"pauliceia\"}'], ['{\"LOWER\": \"paulistânia\"}'], ['{\"LOWER\": \"paulo\"}', '{\"LOWER\": \"de\"}', '{\"LOWER\": \"faria\"}'], ['{\"LOWER\": \"paulínia\"}'], ['{\"LOWER\": \"paurito\"}'], ['{\"LOWER\": \"pausa\"}'], ['{\"LOWER\": \"pavlikeni\"}'], ['{\"LOWER\": \"pavlodar\"}'], ['{\"LOWER\": \"pavón\"}', '{\"LOWER\": \",\"}', '{\"LOWER\": \"santa\"}', '{\"LOWER\": \"fe\"}'], ['{\"LOWER\": \"payas\"}'], ['{\"LOWER\": \"paysandú\"}'], ['{\"LOWER\": \"pazardzhik\"}'], ['{\"LOWER\": \"pedernales\"}'], ['{\"LOWER\": \"pedernales\"}', '{\"LOWER\": \",\"}', '{\"LOWER\": \"delta\"}', '{\"LOWER\": \"amacuro\"}'], ['{\"LOWER\": \"pederneiras\"}'], ['{\"LOWER\": \"pedra\"}', '{\"LOWER\": \"badejo\"}'], ['{\"LOWER\": \"pedra\"}', '{\"LOWER\": \"bela\"}'], ['{\"LOWER\": \"pedranópolis\"}'], ['{\"LOWER\": \"pedregulho\"}'], ['{\"LOWER\": \"pedreira\"}', '{\"LOWER\": \",\"}', '{\"LOWER\": \"são\"}', '{\"LOWER\": \"paulo\"}'], ['{\"LOWER\": \"pedrinhas\"}', '{\"LOWER\": \"paulista\"}'], ['{\"LOWER\": \"pedro\"}', '{\"LOWER\": \"carbo\"}'], ['{\"LOWER\": \"pedro\"}', '{\"LOWER\": \"de\"}', '{\"LOWER\": \"toledo\"}'], ['{\"LOWER\": \"pedro\"}', '{\"LOWER\": \"juan\"}', '{\"LOWER\": \"caballero\"}'], ['{\"LOWER\": \"pedro\"}', '{\"LOWER\": \"luro\"}'], ['{\"LOWER\": \"pedro\"}', '{\"LOWER\": \"vicente\"}', '{\"LOWER\": \"maldonado\"}'], ['{\"LOWER\": \"pefki\"}'], ['{\"LOWER\": \"pejë\"}'], ['{\"LOWER\": \"pelileo\"}'], ['{\"LOWER\": \"pelitli\"}'], ['{\"LOWER\": \"pella\"}'], ['{\"LOWER\": \"pelplin\"}'], ['{\"LOWER\": \"pelusium\"}'], ['{\"LOWER\": \"pemba\"}'], ['{\"LOWER\": \"pempe\"}'], ['{\"LOWER\": \"penonomé\"}', '{\"LOWER\": \",\"}', '{\"LOWER\": \"coclé\"}'], ['{\"LOWER\": \"penrith\"}'], ['{\"LOWER\": \"penticton\"}'], ['{\"LOWER\": \"penápolis\"}'], ['{\"LOWER\": \"peqin\"}'], ['{\"LOWER\": \"pereira\"}'], ['{\"LOWER\": \"pereira\"}', '{\"LOWER\": \"barreto\"}'], ['{\"LOWER\": \"pereiras\"}'], ['{\"LOWER\": \"perga\"}'], ['{\"LOWER\": \"pergamino\"}'], ['{\"LOWER\": \"peribeca\"}'], ['{\"LOWER\": \"perico\"}'], ['{\"LOWER\": \"perico\"}', '{\"LOWER\": \"(\"}', '{\"LOWER\": \"jujuy\"}', '{\"LOWER\": \")\"}'], ['{\"LOWER\": \"perito\"}', '{\"LOWER\": \"moreno\"}'], ['{\"LOWER\": \"pernik\"}'], ['{\"LOWER\": \"perth\"}'], ['{\"LOWER\": \"perugia\"}'], ['{\"LOWER\": \"peruíbe\"}'], ['{\"LOWER\": \"pescara\"}'], ['{\"LOWER\": \"peshawar\"}'], ['{\"LOWER\": \"peshkopi\"}'], ['{\"LOWER\": \"peshtera\"}'], ['{\"LOWER\": \"pestszentimre\"}'], ['{\"LOWER\": \"petah\"}', '{\"LOWER\": \"tikva\"}'], ['{\"LOWER\": \"petaling\"}', '{\"LOWER\": \"jaya\"}'], ['{\"LOWER\": \"peterborough\"}'], ['{\"LOWER\": \"petit\"}', '{\"LOWER\": \"goâve\"}'], ['{\"LOWER\": \"petra\"}'], ['{\"LOWER\": \"petrich\"}'], ['{\"LOWER\": \"petronia\"}', '{\"LOWER\": \"city\"}'], ['{\"LOWER\": \"petropavl\"}'], ['{\"LOWER\": \"petrovaradin\"}'], ['{\"LOWER\": \"petrópolis\"}'], ['{\"LOWER\": \"pełczyce\"}'], ['{\"LOWER\": \"phalombe\"}'], ['{\"LOWER\": \"phnom\"}', '{\"LOWER\": \"penh\"}'], ['{\"LOWER\": \"phongsali\"}'], ['{\"LOWER\": \"phuket\"}'], ['{\"LOWER\": \"phuntsholing\"}'], ['{\"LOWER\": \"piacatu\"}'], ['{\"LOWER\": \"piacenza\"}'], ['{\"LOWER\": \"piaseczno\"}'], ['{\"LOWER\": \"piaski\"}'], ['{\"LOWER\": \"pichanal\"}'], ['{\"LOWER\": \"pickering\"}'], ['{\"LOWER\": \"pico\"}', '{\"LOWER\": \"truncado\"}'], ['{\"LOWER\": \"picota\"}'], ['{\"LOWER\": \"piedade\"}', '{\"LOWER\": \",\"}', '{\"LOWER\": \"são\"}', '{\"LOWER\": \"paulo\"}'], ['{\"LOWER\": \"piekary\"}', '{\"LOWER\": \"śląskie\"}'], ['{\"LOWER\": \"pieksämäki\"}'], ['{\"LOWER\": \"pieniężno\"}'], ['{\"LOWER\": \"pierrefonds\"}'], ['{\"LOWER\": \"pierzchnica\"}'], ['{\"LOWER\": \"pieńsk\"}'], ['{\"LOWER\": \"pigüé\"}'], ['{\"LOWER\": \"pikine\"}'], ['{\"LOWER\": \"pilar\"}'], ['{\"LOWER\": \"pilar\"}', '{\"LOWER\": \"do\"}', '{\"LOWER\": \"sul\"}'], ['{\"LOWER\": \"pilar\"}', '{\"LOWER\": \",\"}', '{\"LOWER\": \"córdoba\"}', '{\"LOWER\": \"province\"}'], ['{\"LOWER\": \"pilawa\"}'], ['{\"LOWER\": \"pilica\"}'], ['{\"LOWER\": \"pilin\"}'], ['{\"LOWER\": \"pillaro\"}'], ['{\"LOWER\": \"pilzno\"}'], ['{\"LOWER\": \"pilón\"}'], ['{\"LOWER\": \"pimentel\"}'], ['{\"LOWER\": \"pimpri\"}', '{\"LOWER\": \"chinchwad\"}'], ['{\"LOWER\": \"pinar\"}', '{\"LOWER\": \"del\"}', '{\"LOWER\": \"rio\"}'], ['{\"LOWER\": \"pindamonhangaba\"}'], ['{\"LOWER\": \"pindi\"}', '{\"LOWER\": \"bhattian\"}'], ['{\"LOWER\": \"pindorama\"}'], ['{\"LOWER\": \"pingtung\"}', '{\"LOWER\": \"city\"}'], ['{\"LOWER\": \"pinhalzinho\"}'], ['{\"LOWER\": \"pinner\"}'], ['{\"LOWER\": \"pinosava\"}'], ['{\"LOWER\": \"pinya\"}'], ['{\"LOWER\": \"piotrków\"}', '{\"LOWER\": \"kujawski\"}'], ['{\"LOWER\": \"piotrków\"}', '{\"LOWER\": \"trybunalski\"}'], ['{\"LOWER\": \"piquerobi\"}'], ['{\"LOWER\": \"piquete\"}'], ['{\"LOWER\": \"pir\"}', '{\"LOWER\": \"jo\"}', '{\"LOWER\": \"goth\"}'], ['{\"LOWER\": \"piracaia\"}'], ['{\"LOWER\": \"piracicaba\"}'], ['{\"LOWER\": \"piraju\"}'], ['{\"LOWER\": \"pirajuí\"}'], ['{\"LOWER\": \"pirangi\"}'], ['{\"LOWER\": \"pirangut\"}'], ['{\"LOWER\": \"pirané\"}'], ['{\"LOWER\": \"pirapora\"}', '{\"LOWER\": \"do\"}', '{\"LOWER\": \"bom\"}', '{\"LOWER\": \"jesus\"}'], ['{\"LOWER\": \"pirapozinho\"}'], ['{\"LOWER\": \"pirassununga\"}'], ['{\"LOWER\": \"piratininga\"}'], ['{\"LOWER\": \"piriápolis\"}'], ['{\"LOWER\": \"pisa\"}'], ['{\"LOWER\": \"pisco\"}'], ['{\"LOWER\": \"piscobamba\"}'], ['{\"LOWER\": \"pisz\"}'], ['{\"LOWER\": \"pitangueiras\"}'], ['{\"LOWER\": \"pitsunda\"}'], ['{\"LOWER\": \"pitt\"}', '{\"LOWER\": \"meadows\"}'], ['{\"LOWER\": \"piura\"}'], ['{\"LOWER\": \"piwniczna\"}', '{\"LOWER\": \"zdrój\"}'], ['{\"LOWER\": \"piątek\"}', '{\"LOWER\": \",\"}', '{\"LOWER\": \"łódź\"}', '{\"LOWER\": \"voivodeship\"}'], ['{\"LOWER\": \"placetas\"}'], ['{\"LOWER\": \"planalto\"}'], ['{\"LOWER\": \"plano\"}'], ['{\"LOWER\": \"plasencia\"}'], ['{\"LOWER\": \"platina\"}'], ['{\"LOWER\": \"plav\"}'], ['{\"LOWER\": \"playas\"}'], ['{\"LOWER\": \"pleszew\"}'], ['{\"LOWER\": \"pleven\"}'], ['{\"LOWER\": \"pliska\"}'], ['{\"LOWER\": \"pljevlja\"}'], ['{\"LOWER\": \"plovdiv\"}'], ['{\"LOWER\": \"plungė\"}'], ['{\"LOWER\": \"plužine\"}'], ['{\"LOWER\": \"plymouth\"}'], ['{\"LOWER\": \"plzeň\"}'], ['{\"LOWER\": \"pniewy\"}'], ['{\"LOWER\": \"pobiedziska\"}'], ['{\"LOWER\": \"poddębice\"}'], ['{\"LOWER\": \"podgorica\"}'], ['{\"LOWER\": \"podor\"}'], ['{\"LOWER\": \"pogorzela\"}'], ['{\"LOWER\": \"pogradec\"}'], ['{\"LOWER\": \"pointe\"}', '{\"LOWER\": \"noire\"}'], ['{\"LOWER\": \"poipet\"}'], ['{\"LOWER\": \"poitiers\"}'], ['{\"LOWER\": \"polanów\"}'], ['{\"LOWER\": \"polatlı\"}'], ['{\"LOWER\": \"poli\"}'], ['{\"LOWER\": \"police\"}'], ['{\"LOWER\": \"poliçan\"}'], ['{\"LOWER\": \"polkowice\"}'], ['{\"LOWER\": \"poloni\"}'], ['{\"LOWER\": \"polski\"}', '{\"LOWER\": \"trambesh\"}'], ['{\"LOWER\": \"pomabamba\"}'], ['{\"LOWER\": \"pompeia\"}'], ['{\"LOWER\": \"pompeiopolis\"}'], ['{\"LOWER\": \"pondicherry\"}'], ['{\"LOWER\": \"pongaí\"}'], ['{\"LOWER\": \"poniatowa\"}'], ['{\"LOWER\": \"poniec\"}'], ['{\"LOWER\": \"pontal\"}'], ['{\"LOWER\": \"pontalinda\"}'], ['{\"LOWER\": \"pontes\"}', '{\"LOWER\": \"gestal\"}'], ['{\"LOWER\": \"pontevedra\"}'], ['{\"LOWER\": \"pontevedra\"}', '{\"LOWER\": \",\"}', '{\"LOWER\": \"buenos\"}', '{\"LOWER\": \"aires\"}', '{\"LOWER\": \"province\"}'], ['{\"LOWER\": \"popondetta\"}'], ['{\"LOWER\": \"poprad\"}'], ['{\"LOWER\": \"populina\"}'], ['{\"LOWER\": \"porangaba\"}'], ['{\"LOWER\": \"porbandar\"}'], ['{\"LOWER\": \"pori\"}'], ['{\"LOWER\": \"porirua\"}'], ['{\"LOWER\": \"porlamar\"}'], ['{\"LOWER\": \"porsgrunn\"}'], ['{\"LOWER\": \"port\"}', '{\"LOWER\": \"antonio\"}'], ['{\"LOWER\": \"port\"}', '{\"LOWER\": \"arthur\"}'], ['{\"LOWER\": \"port\"}', '{\"LOWER\": \"augusta\"}'], ['{\"LOWER\": \"port\"}', '{\"LOWER\": \"blair\"}'], ['{\"LOWER\": \"port\"}', '{\"LOWER\": \"colborne\"}'], ['{\"LOWER\": \"port\"}', '{\"LOWER\": \"elizabeth\"}'], ['{\"LOWER\": \"port\"}', '{\"LOWER\": \"fuad\"}'], ['{\"LOWER\": \"port\"}', '{\"LOWER\": \"gentil\"}'], ['{\"LOWER\": \"port\"}', '{\"LOWER\": \"kamsar\"}'], ['{\"LOWER\": \"port\"}', '{\"LOWER\": \"loko\"}'], ['{\"LOWER\": \"port\"}', '{\"LOWER\": \"louis\"}'], ['{\"LOWER\": \"port\"}', '{\"LOWER\": \"macquarie\"}'], ['{\"LOWER\": \"port\"}', '{\"LOWER\": \"maria\"}'], ['{\"LOWER\": \"port\"}', '{\"LOWER\": \"mathurin\"}'], ['{\"LOWER\": \"port\"}', '{\"LOWER\": \"moresby\"}'], ['{\"LOWER\": \"port\"}', '{\"LOWER\": \"of\"}', '{\"LOWER\": \"bayóvar\"}'], ['{\"LOWER\": \"port\"}', '{\"LOWER\": \"of\"}', '{\"LOWER\": \"spain\"}'], ['{\"LOWER\": \"port\"}', '{\"LOWER\": \"said\"}'], ['{\"LOWER\": \"port\"}', '{\"LOWER\": \"sudan\"}'], ['{\"LOWER\": \"port\"}', '{\"LOWER\": \"vila\"}'], ['{\"LOWER\": \"portachuelo\"}'], ['{\"LOWER\": \"portage\"}', '{\"LOWER\": \"la\"}', '{\"LOWER\": \"prairie\"}'], ['{\"LOWER\": \"portland\"}'], ['{\"LOWER\": \"portmore\"}'], ['{\"LOWER\": \"porto\"}', '{\"LOWER\": \"alegre\"}'], ['{\"LOWER\": \"porto\"}', '{\"LOWER\": \"amboim\"}'], ['{\"LOWER\": \"porto\"}', '{\"LOWER\": \"feliz\"}'], ['{\"LOWER\": \"porto\"}', '{\"LOWER\": \"ferreira\"}'], ['{\"LOWER\": \"porto\"}', '{\"LOWER\": \"inglês\"}'], ['{\"LOWER\": \"porto\"}', '{\"LOWER\": \"novo\"}'], ['{\"LOWER\": \"porto\"}', '{\"LOWER\": \"santana\"}'], ['{\"LOWER\": \"portsmouth\"}'], ['{\"LOWER\": \"portugalete\"}'], ['{\"LOWER\": \"porus\"}'], ['{\"LOWER\": \"porvenir\"}'], ['{\"LOWER\": \"porvoo\"}'], ['{\"LOWER\": \"posadas\"}'], ['{\"LOWER\": \"posof\"}'], ['{\"LOWER\": \"postojna\"}'], ['{\"LOWER\": \"potchefstroom\"}'], ['{\"LOWER\": \"potentia\"}'], ['{\"LOWER\": \"potenza\"}'], ['{\"LOWER\": \"pothia\"}'], ['{\"LOWER\": \"poti\"}'], ['{\"LOWER\": \"potim\"}'], ['{\"LOWER\": \"potirendaba\"}'], ['{\"LOWER\": \"potosí\"}'], ['{\"LOWER\": \"pout\"}'], ['{\"LOWER\": \"powell\"}', '{\"LOWER\": \"river\"}'], ['{\"LOWER\": \"poznań\"}'], ['{\"LOWER\": \"poá\"}'], ['{\"LOWER\": \"połaniec\"}'], ['{\"LOWER\": \"połczyn\"}', '{\"LOWER\": \"zdrój\"}'], ['{\"LOWER\": \"prabuty\"}'], ['{\"LOWER\": \"pracinha\"}'], ['{\"LOWER\": \"pradópolis\"}'], ['{\"LOWER\": \"pragjyotishpura\"}'], ['{\"LOWER\": \"praia\"}'], ['{\"LOWER\": \"praia\"}', '{\"LOWER\": \"grande\"}'], ['{\"LOWER\": \"praisos\"}'], ['{\"LOWER\": \"praszka\"}'], ['{\"LOWER\": \"prato\"}'], ['{\"LOWER\": \"pratteln\"}'], ['{\"LOWER\": \"pratânia\"}'], ['{\"LOWER\": \"pravets\"}'], ['{\"LOWER\": \"presidente\"}', '{\"LOWER\": \"alves\"}'], ['{\"LOWER\": \"presidente\"}', '{\"LOWER\": \"bernardes\"}'], ['{\"LOWER\": \"presidente\"}', '{\"LOWER\": \"epitácio\"}'], ['{\"LOWER\": \"presidente\"}', '{\"LOWER\": \"prudente\"}'], ['{\"LOWER\": \"presidente\"}', '{\"LOWER\": \"venceslau\"}'], ['{\"LOWER\": \"preslav\"}'], ['{\"LOWER\": \"preston\"}'], ['{\"LOWER\": \"preveza\"}'], ['{\"LOWER\": \"prešov\"}'], ['{\"LOWER\": \"priekulė\"}'], ['{\"LOWER\": \"prienai\"}'], ['{\"LOWER\": \"prievidza\"}'], ['{\"LOWER\": \"prijedor\"}'], ['{\"LOWER\": \"prijepolje\"}'], ['{\"LOWER\": \"prilep\"}'], ['{\"LOWER\": \"primorsko\"}'], ['{\"LOWER\": \"prince\"}', '{\"LOWER\": \"albert\"}'], ['{\"LOWER\": \"prince\"}', '{\"LOWER\": \"george\"}'], ['{\"LOWER\": \"priozersk\"}'], ['{\"LOWER\": \"pristina\"}'], ['{\"LOWER\": \"prithbinarayan\"}'], ['{\"LOWER\": \"priverno\"}'], ['{\"LOWER\": \"prizren\"}'], ['{\"LOWER\": \"probištip\"}'], ['{\"LOWER\": \"prochowice\"}'], ['{\"LOWER\": \"promissão\"}'], ['{\"LOWER\": \"prostějov\"}'], ['{\"LOWER\": \"proszowice\"}'], ['{\"LOWER\": \"protaras\"}'], ['{\"LOWER\": \"proti\"}'], ['{\"LOWER\": \"prrenjas\"}'], ['{\"LOWER\": \"pruchnik\"}'], ['{\"LOWER\": \"prudnik\"}'], ['{\"LOWER\": \"prusice\"}'], ['{\"LOWER\": \"przecław\"}'], ['{\"LOWER\": \"przedbórz\"}'], ['{\"LOWER\": \"przedecz\"}'], ['{\"LOWER\": \"przemków\"}'], ['{\"LOWER\": \"przemyśl\"}'], ['{\"LOWER\": \"przysucha\"}'], ['{\"LOWER\": \"prószków\"}'], ['{\"LOWER\": \"psie\"}', '{\"LOWER\": \"pole\"}'], ['{\"LOWER\": \"pszczyna\"}'], ['{\"LOWER\": \"ptuj\"}'], ['{\"LOWER\": \"pucallpa\"}'], ['{\"LOWER\": \"pudasjärvi\"}'], ['{\"LOWER\": \"puebla\"}', '{\"LOWER\": \"city\"}'], ['{\"LOWER\": \"pueblo\"}', '{\"LOWER\": \"nuevo\"}'], ['{\"LOWER\": \"puente\"}', '{\"LOWER\": \"san\"}', '{\"LOWER\": \"pablo\"}'], ['{\"LOWER\": \"puerto\"}', '{\"LOWER\": \"armuelles\"}'], ['{\"LOWER\": \"puerto\"}', '{\"LOWER\": \"ayacucho\"}'], ['{\"LOWER\": \"puerto\"}', '{\"LOWER\": \"ayora\"}'], ['{\"LOWER\": \"puerto\"}', '{\"LOWER\": \"baquerizo\"}', '{\"LOWER\": \"moreno\"}'], ['{\"LOWER\": \"puerto\"}', '{\"LOWER\": \"barrios\"}'], ['{\"LOWER\": \"puerto\"}', '{\"LOWER\": \"cabello\"}'], ['{\"LOWER\": \"puerto\"}', '{\"LOWER\": \"cabezas\"}'], ['{\"LOWER\": \"puerto\"}', '{\"LOWER\": \"castilla\"}', '{\"LOWER\": \",\"}', '{\"LOWER\": \"honduras\"}'], ['{\"LOWER\": \"puerto\"}', '{\"LOWER\": \"cortés\"}'], ['{\"LOWER\": \"puerto\"}', '{\"LOWER\": \"deseado\"}'], ['{\"LOWER\": \"puerto\"}', '{\"LOWER\": \"francisco\"}', '{\"LOWER\": \"de\"}', '{\"LOWER\": \"orellana\"}'], ['{\"LOWER\": \"puerto\"}', '{\"LOWER\": \"iguazú\"}'], ['{\"LOWER\": \"puerto\"}', '{\"LOWER\": \"la\"}', '{\"LOWER\": \"cruz\"}'], ['{\"LOWER\": \"puerto\"}', '{\"LOWER\": \"lempira\"}'], ['{\"LOWER\": \"puerto\"}', '{\"LOWER\": \"madryn\"}'], ['{\"LOWER\": \"puerto\"}', '{\"LOWER\": \"maldonado\"}'], ['{\"LOWER\": \"puerto\"}', '{\"LOWER\": \"nuevo\"}', '{\"LOWER\": \",\"}', '{\"LOWER\": \"baja\"}', '{\"LOWER\": \"california\"}'], ['{\"LOWER\": \"puerto\"}', '{\"LOWER\": \"ordaz\"}'], ['{\"LOWER\": \"puerto\"}', '{\"LOWER\": \"padre\"}'], ['{\"LOWER\": \"puerto\"}', '{\"LOWER\": \"pailas\"}'], ['{\"LOWER\": \"puerto\"}', '{\"LOWER\": \"peñasco\"}'], ['{\"LOWER\": \"puerto\"}', '{\"LOWER\": \"píritu\"}'], ['{\"LOWER\": \"puerto\"}', '{\"LOWER\": \"quito\"}'], ['{\"LOWER\": \"puerto\"}', '{\"LOWER\": \"rico\"}'], ['{\"LOWER\": \"puerto\"}', '{\"LOWER\": \"san\"}', '{\"LOWER\": \"josé\"}'], ['{\"LOWER\": \"puerto\"}', '{\"LOWER\": \"suárez\"}'], ['{\"LOWER\": \"pujehun\"}'], ['{\"LOWER\": \"pul\"}', '{\"LOWER\": \"e\"}', '{\"LOWER\": \"khomri\"}'], ['{\"LOWER\": \"punakha\"}'], ['{\"LOWER\": \"punata\"}'], ['{\"LOWER\": \"pune\"}'], ['{\"LOWER\": \"pune\"}', '{\"LOWER\": \"camp\"}'], ['{\"LOWER\": \"puno\"}'], ['{\"LOWER\": \"punta\"}', '{\"LOWER\": \"gorda\"}'], ['{\"LOWER\": \"punta\"}', '{\"LOWER\": \"prieta\"}'], ['{\"LOWER\": \"puntarenas\"}'], ['{\"LOWER\": \"punto\"}', '{\"LOWER\": \"fijo\"}'], ['{\"LOWER\": \"puquio\"}'], ['{\"LOWER\": \"purchena\"}'], ['{\"LOWER\": \"puri\"}'], ['{\"LOWER\": \"purmerend\"}'], ['{\"LOWER\": \"purnia\"}'], ['{\"LOWER\": \"pushkar\"}'], ['{\"LOWER\": \"putina\"}'], ['{\"LOWER\": \"puyo\"}', '{\"LOWER\": \",\"}', '{\"LOWER\": \"pastaza\"}'], ['{\"LOWER\": \"pułtusk\"}'], ['{\"LOWER\": \"pyapon\"}'], ['{\"LOWER\": \"pyatigorsk\"}'], ['{\"LOWER\": \"pyhäjärvi\"}'], ['{\"LOWER\": \"pyli\"}', '{\"LOWER\": \"(\"}', '{\"LOWER\": \"kos\"}', '{\"LOWER\": \")\"}'], ['{\"LOWER\": \"pyongyang\"}'], ['{\"LOWER\": \"pyrgos\"}'], ['{\"LOWER\": \"pyrzyce\"}'], ['{\"LOWER\": \"pyzdry\"}'], ['{\"LOWER\": \"pétion\"}', '{\"LOWER\": \"ville\"}'], ['{\"LOWER\": \"pınarbaşı\"}'], ['{\"LOWER\": \"płock\"}'], ['{\"LOWER\": \"płoty\"}'], ['{\"LOWER\": \"přerov\"}'], ['{\"LOWER\": \"qaanaaq\"}'], ['{\"LOWER\": \"qabala\"}'], ['{\"LOWER\": \"qabatiya\"}'], ['{\"LOWER\": \"qacha\"}', '{\"LOWER\": \"\\'s\"}', '{\"LOWER\": \"nek\"}'], ['{\"LOWER\": \"qaha\"}'], ['{\"LOWER\": \"qakh\"}'], ['{\"LOWER\": \"qalansiyah\"}'], ['{\"LOWER\": \"qalat\"}'], ['{\"LOWER\": \"qalqilya\"}'], ['{\"LOWER\": \"qalyub\"}'], ['{\"LOWER\": \"qalʻah\"}', '{\"LOWER\": \"ye\"}', '{\"LOWER\": \"zāl\"}'], ['{\"LOWER\": \"qamishli\"}'], ['{\"LOWER\": \"qanatir\"}', '{\"LOWER\": \"el\"}', '{\"LOWER\": \"qahiriya\"}'], ['{\"LOWER\": \"qandala\"}'], ['{\"LOWER\": \"qarah\"}'], ['{\"LOWER\": \"qarshi\"}'], ['{\"LOWER\": \"qart\"}', '{\"LOWER\": \"hadasht\"}'], ['{\"LOWER\": \"qasigiannguit\"}'], ['{\"LOWER\": \"qastiliya\"}'], ['{\"LOWER\": \"qatif\"}'], ['{\"LOWER\": \"qatra\"}'], ['{\"LOWER\": \"qayyarah\"}'], ['{\"LOWER\": \"qena\"}'], ['{\"LOWER\": \"qeqertarsuaq\"}'], ['{\"LOWER\": \"qift\"}'], ['{\"LOWER\": \"qilixia\"}'], ['{\"LOWER\": \"qobustan\"}'], ['{\"LOWER\": \"qorasuv\"}'], ['{\"LOWER\": \"qormi\"}'], ['{\"LOWER\": \"quadra\"}'], ['{\"LOWER\": \"quartier\"}', '{\"LOWER\": \"militaire\"}'], ['{\"LOWER\": \"quatá\"}'], ['{\"LOWER\": \"quba\"}'], ['{\"LOWER\": \"qubadlı\"}'], ['{\"LOWER\": \"qudsaya\"}'], ['{\"LOWER\": \"queanbeyan\"}'], ['{\"LOWER\": \"queenstown\"}'], ['{\"LOWER\": \"queiroz\"}'], ['{\"LOWER\": \"quelimane\"}'], ['{\"LOWER\": \"quetta\"}'], ['{\"LOWER\": \"quetzaltenango\"}'], ['{\"LOWER\": \"quevedo\"}'], ['{\"LOWER\": \"quezalapa\"}'], ['{\"LOWER\": \"quillabamba\"}'], ['{\"LOWER\": \"quillacollo\"}'], ['{\"LOWER\": \"quillón\"}'], ['{\"LOWER\": \"quilmes\"}'], ['{\"LOWER\": \"quincy\"}'], ['{\"LOWER\": \"quinhámel\"}'], ['{\"LOWER\": \"quintana\"}'], ['{\"LOWER\": \"quitilipi\"}'], ['{\"LOWER\": \"quito\"}'], ['{\"LOWER\": \"quivicán\"}'], ['{\"LOWER\": \"quneitra\"}'], ['{\"LOWER\": \"qurayyat\"}'], ['{\"LOWER\": \"qurayyat\"}', '{\"LOWER\": \",\"}', '{\"LOWER\": \"oman\"}'], ['{\"LOWER\": \"qus\"}'], ['{\"LOWER\": \"qusar\"}'], ['{\"LOWER\": \"quthing\"}'], ['{\"LOWER\": \"qutur\"}', '{\"LOWER\": \",\"}', '{\"LOWER\": \"egypt\"}'], ['{\"LOWER\": \"quíbor\"}'], ['{\"LOWER\": \"ra\\'anana\"}'], ['{\"LOWER\": \"ra\"}', '{\"LOWER\": \"\\'s\"}', '{\"LOWER\": \"lanuf\"}'], ['{\"LOWER\": \"raahe\"}'], ['{\"LOWER\": \"raba\"}'], ['{\"LOWER\": \"rabat\"}'], ['{\"LOWER\": \"rabaul\"}'], ['{\"LOWER\": \"rabka\"}', '{\"LOWER\": \"zdrój\"}'], ['{\"LOWER\": \"rada\\'a\"}'], ['{\"LOWER\": \"radeče\"}'], ['{\"LOWER\": \"radków\"}'], ['{\"LOWER\": \"radom\"}'], ['{\"LOWER\": \"radomir\"}'], ['{\"LOWER\": \"radomyśl\"}', '{\"LOWER\": \"wielki\"}'], ['{\"LOWER\": \"radoszyce\"}', '{\"LOWER\": \",\"}', '{\"LOWER\": \"świętokrzyskie\"}', '{\"LOWER\": \"voivodeship\"}'], ['{\"LOWER\": \"radoviš\"}'], ['{\"LOWER\": \"radviliškis\"}'], ['{\"LOWER\": \"radzymin\"}'], ['{\"LOWER\": \"radzyń\"}', '{\"LOWER\": \"chełmiński\"}'], ['{\"LOWER\": \"radłów\"}'], ['{\"LOWER\": \"rafael\"}', '{\"LOWER\": \"calzada\"}'], ['{\"LOWER\": \"rafael\"}', '{\"LOWER\": \"castillo\"}'], ['{\"LOWER\": \"rafael\"}', '{\"LOWER\": \"freyre\"}'], ['{\"LOWER\": \"rafah\"}'], ['{\"LOWER\": \"rafard\"}'], ['{\"LOWER\": \"rahat\"}'], ['{\"LOWER\": \"rahim\"}', '{\"LOWER\": \"yar\"}', '{\"LOWER\": \"khan\"}'], ['{\"LOWER\": \"rahmaniya\"}'], ['{\"LOWER\": \"raipur\"}'], ['{\"LOWER\": \"raisio\"}'], ['{\"LOWER\": \"rajgir\"}'], ['{\"LOWER\": \"rajgród\"}'], ['{\"LOWER\": \"rajmahal\"}'], ['{\"LOWER\": \"rajshahi\"}'], ['{\"LOWER\": \"rakoniewice\"}'], ['{\"LOWER\": \"rakovski\"}'], ['{\"LOWER\": \"rama\"}'], ['{\"LOWER\": \"ramachandrapuram\"}', '{\"LOWER\": \",\"}', '{\"LOWER\": \"medak\"}'], ['{\"LOWER\": \"ramadi\"}'], ['{\"LOWER\": \"ramallah\"}'], ['{\"LOWER\": \"ramallo\"}'], ['{\"LOWER\": \"ramat\"}', '{\"LOWER\": \"gan\"}'], ['{\"LOWER\": \"ramat\"}', '{\"LOWER\": \"hasharon\"}'], ['{\"LOWER\": \"ramla\"}'], ['{\"LOWER\": \"ramos\"}', '{\"LOWER\": \"mejía\"}'], ['{\"LOWER\": \"ramotswa\"}'], ['{\"LOWER\": \"ramygala\"}'], ['{\"LOWER\": \"rancharia\"}'], ['{\"LOWER\": \"randers\"}'], ['{\"LOWER\": \"rangpur\"}'], ['{\"LOWER\": \"ranya\"}'], ['{\"LOWER\": \"raqqa\"}'], ['{\"LOWER\": \"ras\"}', '{\"LOWER\": \"ajdir\"}'], ['{\"LOWER\": \"ras\"}', '{\"LOWER\": \"al\"}', '{\"LOWER\": \"ayn\"}'], ['{\"LOWER\": \"ras\"}', '{\"LOWER\": \"al\"}', '{\"LOWER\": \"khaimah\"}'], ['{\"LOWER\": \"ras\"}', '{\"LOWER\": \"el\"}', '{\"LOWER\": \"bar\"}'], ['{\"LOWER\": \"ras\"}', '{\"LOWER\": \"el\"}', '{\"LOWER\": \"ma\"}'], ['{\"LOWER\": \"ras\"}', '{\"LOWER\": \"gharib\"}'], ['{\"LOWER\": \"ras\"}', '{\"LOWER\": \"tanura\"}'], ['{\"LOWER\": \"rason\"}'], ['{\"LOWER\": \"raszków\"}'], ['{\"LOWER\": \"ratlam\"}'], ['{\"LOWER\": \"ratnanagar\"}'], ['{\"LOWER\": \"rauma\"}'], ['{\"LOWER\": \"ravenna\"}'], ['{\"LOWER\": \"ravne\"}', '{\"LOWER\": \"na\"}', '{\"LOWER\": \"koroškem\"}'], ['{\"LOWER\": \"rawalpindi\"}'], ['{\"LOWER\": \"rawicz\"}'], ['{\"LOWER\": \"rawson\"}'], ['{\"LOWER\": \"raydah\"}'], ['{\"LOWER\": \"razgrad\"}'], ['{\"LOWER\": \"razlog\"}'], ['{\"LOWER\": \"recife\"}'], ['{\"LOWER\": \"reconquista\"}'], ['{\"LOWER\": \"recz\"}'], ['{\"LOWER\": \"redcliff\"}'], ['{\"LOWER\": \"redcliffe\"}', '{\"LOWER\": \"city\"}'], ['{\"LOWER\": \"redenção\"}', '{\"LOWER\": \"da\"}', '{\"LOWER\": \"serra\"}'], ['{\"LOWER\": \"regente\"}', '{\"LOWER\": \"feijó\"}'], ['{\"LOWER\": \"reggio\"}', '{\"LOWER\": \"calabria\"}'], ['{\"LOWER\": \"reggio\"}', '{\"LOWER\": \"nell’emilia\"}'], ['{\"LOWER\": \"regina\"}'], ['{\"LOWER\": \"reginópolis\"}'], ['{\"LOWER\": \"registro\"}'], ['{\"LOWER\": \"rehoboth\"}'], ['{\"LOWER\": \"rehovot\"}'], ['{\"LOWER\": \"reimerswaal\"}'], ['{\"LOWER\": \"remedios\"}', '{\"LOWER\": \"de\"}', '{\"LOWER\": \"escalada\"}', '{\"LOWER\": \"calle\"}', '{\"LOWER\": \"manuel\"}', '{\"LOWER\": \"castro\"}'], ['{\"LOWER\": \"remich\"}'], ['{\"LOWER\": \"reps\"}'], ['{\"LOWER\": \"requena\"}'], ['{\"LOWER\": \"resende\"}'], ['{\"LOWER\": \"resistencia\"}'], ['{\"LOWER\": \"resko\"}'], ['{\"LOWER\": \"restinga\"}', '{\"LOWER\": \",\"}', '{\"LOWER\": \"são\"}', '{\"LOWER\": \"paulo\"}'], ['{\"LOWER\": \"reszel\"}'], ['{\"LOWER\": \"retalhuleu\"}'], ['{\"LOWER\": \"rethymno\"}'], ['{\"LOWER\": \"revere\"}'], ['{\"LOWER\": \"rewa\"}'], ['{\"LOWER\": \"rey\"}', '{\"LOWER\": \"bouba\"}'], ['{\"LOWER\": \"reyes\"}', '{\"LOWER\": \",\"}', '{\"LOWER\": \"bolivia\"}'], ['{\"LOWER\": \"reykjahlíð\"}'], ['{\"LOWER\": \"reyðarfjörður\"}'], ['{\"LOWER\": \"rezina\"}'], ['{\"LOWER\": \"rhithymna\"}'], ['{\"LOWER\": \"rhytion\"}'], ['{\"LOWER\": \"ribeira\"}'], ['{\"LOWER\": \"ribeirão\"}', '{\"LOWER\": \"bonito\"}'], ['{\"LOWER\": \"ribeirão\"}', '{\"LOWER\": \"branco\"}'], ['{\"LOWER\": \"ribeirão\"}', '{\"LOWER\": \"corrente\"}'], ['{\"LOWER\": \"ribeirão\"}', '{\"LOWER\": \"do\"}', '{\"LOWER\": \"sul\"}'], ['{\"LOWER\": \"ribeirão\"}', '{\"LOWER\": \"dos\"}', '{\"LOWER\": \"índios\"}'], ['{\"LOWER\": \"ribeirão\"}', '{\"LOWER\": \"grande\"}'], ['{\"LOWER\": \"ribeirão\"}', '{\"LOWER\": \"pires\"}'], ['{\"LOWER\": \"ribeirão\"}', '{\"LOWER\": \"preto\"}'], ['{\"LOWER\": \"richard\"}', '{\"LOWER\": \"toll\"}'], ['{\"LOWER\": \"richmond\"}'], ['{\"LOWER\": \"richmond\"}', '{\"LOWER\": \"hill\"}'], ['{\"LOWER\": \"ridder\"}'], ['{\"LOWER\": \"ridderkerk\"}'], ['{\"LOWER\": \"rietavas\"}'], ['{\"LOWER\": \"rifaina\"}'], ['{\"LOWER\": \"riffa\"}'], ['{\"LOWER\": \"riihimäki\"}'], ['{\"LOWER\": \"rijeka\"}'], ['{\"LOWER\": \"rijswijk\"}'], ['{\"LOWER\": \"rikhawdar\"}'], ['{\"LOWER\": \"rila\"}'], ['{\"LOWER\": \"rim\"}'], ['{\"LOWER\": \"rimini\"}'], ['{\"LOWER\": \"rincão\"}'], ['{\"LOWER\": \"ringsted\"}'], ['{\"LOWER\": \"rinópolis\"}'], ['{\"LOWER\": \"rio\"}', '{\"LOWER\": \"branco\"}'], ['{\"LOWER\": \"rio\"}', '{\"LOWER\": \"claro\"}'], ['{\"LOWER\": \"rio\"}', '{\"LOWER\": \"de\"}', '{\"LOWER\": \"janeiro\"}'], ['{\"LOWER\": \"rio\"}', '{\"LOWER\": \"grande\"}', '{\"LOWER\": \"da\"}', '{\"LOWER\": \"serra\"}'], ['{\"LOWER\": \"rio\"}', '{\"LOWER\": \"rico\"}'], ['{\"LOWER\": \"riobamba\"}'], ['{\"LOWER\": \"rioja\"}'], ['{\"LOWER\": \"ripan\"}', '{\"LOWER\": \",\"}', '{\"LOWER\": \"huánuco\"}', '{\"LOWER\": \",\"}', '{\"LOWER\": \"los\"}', '{\"LOWER\": \"angeles\"}'], ['{\"LOWER\": \"ripollet\"}'], ['{\"LOWER\": \"ripon\"}'], ['{\"LOWER\": \"rishikesh\"}'], ['{\"LOWER\": \"rishon\"}', '{\"LOWER\": \"lezion\"}'], ['{\"LOWER\": \"rishton\"}', '{\"LOWER\": \",\"}', '{\"LOWER\": \"uzbekistan\"}'], ['{\"LOWER\": \"rithi\"}', '{\"LOWER\": \",\"}', '{\"LOWER\": \"katni\"}'], ['{\"LOWER\": \"riva\"}', '{\"LOWER\": \"del\"}', '{\"LOWER\": \"garda\"}'], ['{\"LOWER\": \"rivadavia\"}'], ['{\"LOWER\": \"river\"}', '{\"LOWER\": \"cess\"}'], ['{\"LOWER\": \"riverview\"}', '{\"LOWER\": \",\"}', '{\"LOWER\": \"new\"}', '{\"LOWER\": \"brunswick\"}'], ['{\"LOWER\": \"rize\"}'], ['{\"LOWER\": \"rjukan\"}'], ['{\"LOWER\": \"rocha\"}'], ['{\"LOWER\": \"rochester\"}'], ['{\"LOWER\": \"rockhampton\"}'], ['{\"LOWER\": \"rodas\"}'], ['{\"LOWER\": \"rodríguez\"}'], ['{\"LOWER\": \"roermond\"}'], ['{\"LOWER\": \"rogoźno\"}'], ['{\"LOWER\": \"rohanpur\"}'], ['{\"LOWER\": \"rohtak\"}'], ['{\"LOWER\": \"rokiškis\"}'], ['{\"LOWER\": \"roman\"}'], ['{\"LOWER\": \"rome\"}'], ['{\"LOWER\": \"rommani\"}'], ['{\"LOWER\": \"ronda\"}'], ['{\"LOWER\": \"roorkee\"}'], ['{\"LOWER\": \"roosendaal\"}'], ['{\"LOWER\": \"ropczyce\"}'], ['{\"LOWER\": \"rosa\"}', '{\"LOWER\": \"zárate\"}'], ['{\"LOWER\": \"rosana\"}'], ['{\"LOWER\": \"rosario\"}'], ['{\"LOWER\": \"rosario\"}', '{\"LOWER\": \"de\"}', '{\"LOWER\": \"la\"}', '{\"LOWER\": \"frontera\"}'], ['{\"LOWER\": \"rosario\"}', '{\"LOWER\": \"de\"}', '{\"LOWER\": \"lerma\"}'], ['{\"LOWER\": \"rosarito\"}', '{\"LOWER\": \"beach\"}'], ['{\"LOWER\": \"rose\"}', '{\"LOWER\": \"hall\"}'], ['{\"LOWER\": \"roseau\"}'], ['{\"LOWER\": \"roseira\"}'], ['{\"LOWER\": \"rosetta\"}'], ['{\"LOWER\": \"rosh\"}', '{\"LOWER\": \"haayin\"}'], ['{\"LOWER\": \"rosignol\"}'], ['{\"LOWER\": \"rosières\"}', '{\"LOWER\": \"devant\"}', '{\"LOWER\": \"bar\"}'], ['{\"LOWER\": \"roskilde\"}'], ['{\"LOWER\": \"roskovec\"}'], ['{\"LOWER\": \"rosmalen\"}'], ['{\"LOWER\": \"ross\"}', '{\"LOWER\": \"béthio\"}'], ['{\"LOWER\": \"rostock\"}'], ['{\"LOWER\": \"rotorua\"}'], ['{\"LOWER\": \"rotterdam\"}'], ['{\"LOWER\": \"roubaix\"}'], ['{\"LOWER\": \"rourkela\"}'], ['{\"LOWER\": \"rovaniemi\"}'], ['{\"LOWER\": \"rovinj\"}'], ['{\"LOWER\": \"rožaje\"}'], ['{\"LOWER\": \"rrëshen\"}'], ['{\"LOWER\": \"ruacana\"}'], ['{\"LOWER\": \"rubik\"}'], ['{\"LOWER\": \"rubinéia\"}'], ['{\"LOWER\": \"rubio\"}'], ['{\"LOWER\": \"rubiácea\"}'], ['{\"LOWER\": \"rubí\"}'], ['{\"LOWER\": \"ruciane\"}', '{\"LOWER\": \"nida\"}'], ['{\"LOWER\": \"ruda\"}', '{\"LOWER\": \"śląska\"}'], ['{\"LOWER\": \"rudnik\"}', '{\"LOWER\": \"nad\"}', '{\"LOWER\": \"sanem\"}'], ['{\"LOWER\": \"rueil\"}', '{\"LOWER\": \"malmaison\"}'], ['{\"LOWER\": \"rufisque\"}'], ['{\"LOWER\": \"rugby\"}'], ['{\"LOWER\": \"ruhango\"}'], ['{\"LOWER\": \"ruhengeri\"}'], ['{\"LOWER\": \"rumelange\"}'], ['{\"LOWER\": \"rumphi\"}'], ['{\"LOWER\": \"rurrenabaque\"}'], ['{\"LOWER\": \"rusayl\"}'], ['{\"LOWER\": \"ruse\"}'], ['{\"LOWER\": \"russeifa\"}'], ['{\"LOWER\": \"rustaq\"}'], ['{\"LOWER\": \"rustavi\"}'], ['{\"LOWER\": \"rutana\"}'], ['{\"LOWER\": \"ruwa\"}'], ['{\"LOWER\": \"ruyigi\"}'], ['{\"LOWER\": \"ruše\"}'], ['{\"LOWER\": \"rwamagana\"}'], ['{\"LOWER\": \"rybnik\"}'], ['{\"LOWER\": \"rychwał\"}'], ['{\"LOWER\": \"rydzyna\"}'], ['{\"LOWER\": \"ryglice\"}'], ['{\"LOWER\": \"ryki\"}'], ['{\"LOWER\": \"rymanów\"}'], ['{\"LOWER\": \"ryn\"}'], ['{\"LOWER\": \"rzepin\"}'], ['{\"LOWER\": \"rzeszów\"}'], ['{\"LOWER\": \"rzgów\"}'], ['{\"LOWER\": \"río\"}', '{\"LOWER\": \"branco\"}'], ['{\"LOWER\": \"río\"}', '{\"LOWER\": \"cauto\"}'], ['{\"LOWER\": \"río\"}', '{\"LOWER\": \"chico\"}'], ['{\"LOWER\": \"río\"}', '{\"LOWER\": \"gallegos\"}'], ['{\"LOWER\": \"río\"}', '{\"LOWER\": \"grande\"}'], ['{\"LOWER\": \"río\"}', '{\"LOWER\": \"segundo\"}'], ['{\"LOWER\": \"río\"}', '{\"LOWER\": \"tercero\"}'], ['{\"LOWER\": \"río\"}', '{\"LOWER\": \"turbio\"}'], ['{\"LOWER\": \"rîbnița\"}'], ['{\"LOWER\": \"rîșcani\"}'], ['{\"LOWER\": \"różan\"}'], ['{\"LOWER\": \"rønne\"}'], ['{\"LOWER\": \"rəzi\"}'], ['{\"LOWER\": \"sa\\'dah\"}'], ['{\"LOWER\": \"saal\"}'], ['{\"LOWER\": \"saarijärvi\"}'], ['{\"LOWER\": \"saatlı\"}'], ['{\"LOWER\": \"saavedra\"}'], ['{\"LOWER\": \"sabadell\"}'], ['{\"LOWER\": \"sabaneta\"}'], ['{\"LOWER\": \"sabino\"}'], ['{\"LOWER\": \"sabirabad\"}'], ['{\"LOWER\": \"sabou\"}'], ['{\"LOWER\": \"sabratha\"}'], ['{\"LOWER\": \"sabya\"}'], ['{\"LOWER\": \"sacaba\"}'], ['{\"LOWER\": \"sacatepéquez\"}'], ['{\"LOWER\": \"sachkhere\"}'], ['{\"LOWER\": \"sadda\"}', '{\"LOWER\": \",\"}', '{\"LOWER\": \"fata\"}'], ['{\"LOWER\": \"sadovo\"}'], ['{\"LOWER\": \"saedinenie\"}', '{\"LOWER\": \",\"}', '{\"LOWER\": \"plovdiv\"}', '{\"LOWER\": \"province\"}'], ['{\"LOWER\": \"safaga\"}'], ['{\"LOWER\": \"safdarabad\"}'], ['{\"LOWER\": \"safed\"}'], ['{\"LOWER\": \"safi\"}'], ['{\"LOWER\": \"safita\"}'], ['{\"LOWER\": \"safwa\"}', '{\"LOWER\": \"city\"}'], ['{\"LOWER\": \"sagaing\"}'], ['{\"LOWER\": \"sagarejo\"}'], ['{\"LOWER\": \"sagres\"}', '{\"LOWER\": \",\"}', '{\"LOWER\": \"são\"}', '{\"LOWER\": \"paulo\"}'], ['{\"LOWER\": \"sagua\"}', '{\"LOWER\": \"de\"}', '{\"LOWER\": \"tánamo\"}'], ['{\"LOWER\": \"sagua\"}', '{\"LOWER\": \"la\"}', '{\"LOWER\": \"grande\"}'], ['{\"LOWER\": \"sagunto\"}'], ['{\"LOWER\": \"saguntum\"}'], ['{\"LOWER\": \"sagure\"}'], ['{\"LOWER\": \"sahajanpur\"}'], ['{\"LOWER\": \"saharanpur\"}'], ['{\"LOWER\": \"saharsa\"}'], ['{\"LOWER\": \"sahiwal\"}'], ['{\"LOWER\": \"sahline\"}'], ['{\"LOWER\": \"saidpur\"}', '{\"LOWER\": \",\"}', '{\"LOWER\": \"rangpur\"}', '{\"LOWER\": \"division\"}'], ['{\"LOWER\": \"sainshand\"}'], ['{\"LOWER\": \"saint\"}', '{\"LOWER\": \"ann\"}', '{\"LOWER\": \"\\'s\"}', '{\"LOWER\": \"bay\"}', '{\"LOWER\": \",\"}', '{\"LOWER\": \"jamaica\"}'], ['{\"LOWER\": \"saint\"}', '{\"LOWER\": \"john\"}'], ['{\"LOWER\": \"saint\"}', '{\"LOWER\": \"louis\"}'], ['{\"LOWER\": \"saint\"}', '{\"LOWER\": \"marc\"}'], ['{\"LOWER\": \"saint\"}', '{\"LOWER\": \"peter\"}', '{\"LOWER\": \"port\"}'], ['{\"LOWER\": \"saint\"}', '{\"LOWER\": \"pierre\"}'], ['{\"LOWER\": \"sainte\"}', '{\"LOWER\": \"croix\"}'], ['{\"LOWER\": \"sainyabuli\"}'], ['{\"LOWER\": \"saipina\"}'], ['{\"LOWER\": \"sakakah\"}'], ['{\"LOWER\": \"sakania\"}'], ['{\"LOWER\": \"sakhnin\"}'], ['{\"LOWER\": \"sakib\"}'], ['{\"LOWER\": \"saktigarh\"}', '{\"LOWER\": \",\"}', '{\"LOWER\": \"siliguri\"}'], ['{\"LOWER\": \"sakçagözü\"}'], ['{\"LOWER\": \"sal\"}', '{\"LOWER\": \"rei\"}'], ['{\"LOWER\": \"salalah\"}'], ['{\"LOWER\": \"salamanca\"}'], ['{\"LOWER\": \"salamina\"}'], ['{\"LOWER\": \"salamiyah\"}'], ['{\"LOWER\": \"salamá\"}'], ['{\"LOWER\": \"salantai\"}'], ['{\"LOWER\": \"salavan\"}'], ['{\"LOWER\": \"salavat\"}'], ['{\"LOWER\": \"salcajá\"}'], ['{\"LOWER\": \"sale\"}'], ['{\"LOWER\": \"salem\"}'], ['{\"LOWER\": \"salemata\"}'], ['{\"LOWER\": \"salerno\"}'], ['{\"LOWER\": \"sales\"}'], ['{\"LOWER\": \"sales\"}', '{\"LOWER\": \"oliveira\"}'], ['{\"LOWER\": \"salesópolis\"}'], ['{\"LOWER\": \"salford\"}'], ['{\"LOWER\": \"salinas\"}'], ['{\"LOWER\": \"salisbury\"}'], ['{\"LOWER\": \"salmourão\"}'], ['{\"LOWER\": \"salo\"}'], ['{\"LOWER\": \"salona\"}'], ['{\"LOWER\": \"salt\"}'], ['{\"LOWER\": \"salta\"}'], ['{\"LOWER\": \"saltillo\"}'], ['{\"LOWER\": \"saltinho\"}'], ['{\"LOWER\": \"salto\"}'], ['{\"LOWER\": \"salto\"}', '{\"LOWER\": \"de\"}', '{\"LOWER\": \"pirapora\"}'], ['{\"LOWER\": \"salto\"}', '{\"LOWER\": \"del\"}', '{\"LOWER\": \"guairá\"}'], ['{\"LOWER\": \"salto\"}', '{\"LOWER\": \"grande\"}'], ['{\"LOWER\": \"salvador\"}', '{\"LOWER\": \"mazza\"}'], ['{\"LOWER\": \"salvatierra\"}'], ['{\"LOWER\": \"saly\"}'], ['{\"LOWER\": \"salyan\"}'], ['{\"LOWER\": \"salé\"}'], ['{\"LOWER\": \"samaipata\"}'], ['{\"LOWER\": \"samalut\"}'], ['{\"LOWER\": \"samangan\"}'], ['{\"LOWER\": \"samannud\"}'], ['{\"LOWER\": \"samarkand\"}'], ['{\"LOWER\": \"samarobriva\"}'], ['{\"LOWER\": \"samarra\"}'], ['{\"LOWER\": \"samawah\"}'], ['{\"LOWER\": \"sambaza\"}'], ['{\"LOWER\": \"sambhal\"}'], ['{\"LOWER\": \"samborondón\"}'], ['{\"LOWER\": \"same\"}'], ['{\"LOWER\": \"sami\"}', '{\"LOWER\": \",\"}', '{\"LOWER\": \"paletwa\"}'], ['{\"LOWER\": \"samosata\"}'], ['{\"LOWER\": \"samsun\"}'], ['{\"LOWER\": \"samtredia\"}'], ['{\"LOWER\": \"san\"}', '{\"LOWER\": \"antonio\"}', '{\"LOWER\": \"de\"}', '{\"LOWER\": \"los\"}', '{\"LOWER\": \"altos\"}'], ['{\"LOWER\": \"san\"}', '{\"LOWER\": \"antonio\"}', '{\"LOWER\": \"de\"}', '{\"LOWER\": \"los\"}', '{\"LOWER\": \"baños\"}'], ['{\"LOWER\": \"san\"}', '{\"LOWER\": \"antonio\"}', '{\"LOWER\": \"de\"}', '{\"LOWER\": \"los\"}', '{\"LOWER\": \"cobres\"}'], ['{\"LOWER\": \"san\"}', '{\"LOWER\": \"antonio\"}', '{\"LOWER\": \"de\"}', '{\"LOWER\": \"padua\"}'], ['{\"LOWER\": \"san\"}', '{\"LOWER\": \"antonio\"}', '{\"LOWER\": \"de\"}', '{\"LOWER\": \"palé\"}'], ['{\"LOWER\": \"san\"}', '{\"LOWER\": \"antonio\"}', '{\"LOWER\": \"de\"}', '{\"LOWER\": \"ureca\"}'], ['{\"LOWER\": \"san\"}', '{\"LOWER\": \"antonio\"}', '{\"LOWER\": \"del\"}', '{\"LOWER\": \"sur\"}'], ['{\"LOWER\": \"san\"}', '{\"LOWER\": \"antonio\"}', '{\"LOWER\": \"del\"}', '{\"LOWER\": \"táchira\"}'], ['{\"LOWER\": \"san\"}', '{\"LOWER\": \"antonio\"}', '{\"LOWER\": \"oeste\"}'], ['{\"LOWER\": \"san\"}', '{\"LOWER\": \"bautista\"}'], ['{\"LOWER\": \"san\"}', '{\"LOWER\": \"benito\"}', '{\"LOWER\": \",\"}', '{\"LOWER\": \"cochabamba\"}'], ['{\"LOWER\": \"san\"}', '{\"LOWER\": \"bernardo\"}'], ['{\"LOWER\": \"san\"}', '{\"LOWER\": \"borja\"}'], ['{\"LOWER\": \"san\"}', '{\"LOWER\": \"buenaventura\"}', '{\"LOWER\": \",\"}', '{\"LOWER\": \"la\"}', '{\"LOWER\": \"paz\"}'], ['{\"LOWER\": \"san\"}', '{\"LOWER\": \"carlos\"}'], ['{\"LOWER\": \"san\"}', '{\"LOWER\": \"carlos\"}', '{\"LOWER\": \"de\"}', '{\"LOWER\": \"río\"}', '{\"LOWER\": \"negro\"}'], ['{\"LOWER\": \"san\"}', '{\"LOWER\": \"carlos\"}', '{\"LOWER\": \",\"}', '{\"LOWER\": \"río\"}', '{\"LOWER\": \"san\"}', '{\"LOWER\": \"juan\"}'], ['{\"LOWER\": \"san\"}', '{\"LOWER\": \"cristóbal\"}'], ['{\"LOWER\": \"san\"}', '{\"LOWER\": \"cristóbal\"}', '{\"LOWER\": \"de\"}', '{\"LOWER\": \"la\"}', '{\"LOWER\": \"laguna\"}'], ['{\"LOWER\": \"san\"}', '{\"LOWER\": \"cristóbal\"}', '{\"LOWER\": \"verapaz\"}'], ['{\"LOWER\": \"san\"}', '{\"LOWER\": \"diego\"}'], ['{\"LOWER\": \"san\"}', '{\"LOWER\": \"fernando\"}'], ['{\"LOWER\": \"san\"}', '{\"LOWER\": \"fernando\"}', '{\"LOWER\": \"de\"}', '{\"LOWER\": \"apure\"}'], ['{\"LOWER\": \"san\"}', '{\"LOWER\": \"fernando\"}', '{\"LOWER\": \"del\"}', '{\"LOWER\": \"valle\"}', '{\"LOWER\": \"de\"}', '{\"LOWER\": \"catamarca\"}'], ['{\"LOWER\": \"san\"}', '{\"LOWER\": \"francisco\"}'], ['{\"LOWER\": \"san\"}', '{\"LOWER\": \"francisco\"}', '{\"LOWER\": \"coacalco\"}'], ['{\"LOWER\": \"san\"}', '{\"LOWER\": \"francisco\"}', '{\"LOWER\": \"de\"}', '{\"LOWER\": \"macorís\"}'], ['{\"LOWER\": \"san\"}', '{\"LOWER\": \"francisco\"}', '{\"LOWER\": \"solano\"}'], ['{\"LOWER\": \"san\"}', '{\"LOWER\": \"gregorio\"}', '{\"LOWER\": \"de\"}', '{\"LOWER\": \"polanco\"}'], ['{\"LOWER\": \"san\"}', '{\"LOWER\": \"ignacio\"}'], ['{\"LOWER\": \"san\"}', '{\"LOWER\": \"ignacio\"}', '{\"LOWER\": \"de\"}', '{\"LOWER\": \"moxos\"}'], ['{\"LOWER\": \"san\"}', '{\"LOWER\": \"ignacio\"}', '{\"LOWER\": \"de\"}', '{\"LOWER\": \"velasco\"}'], ['{\"LOWER\": \"san\"}', '{\"LOWER\": \"isidro\"}'], ['{\"LOWER\": \"san\"}', '{\"LOWER\": \"isidro\"}', '{\"LOWER\": \",\"}', '{\"LOWER\": \"santa\"}', '{\"LOWER\": \"cruz\"}'], ['{\"LOWER\": \"san\"}', '{\"LOWER\": \"jacinto\"}'], ['{\"LOWER\": \"san\"}', '{\"LOWER\": \"jacinto\"}', '{\"LOWER\": \",\"}', '{\"LOWER\": \"uruguay\"}'], ['{\"LOWER\": \"san\"}', '{\"LOWER\": \"javie\"}'], ['{\"LOWER\": \"san\"}', '{\"LOWER\": \"joaquín\"}'], ['{\"LOWER\": \"san\"}', '{\"LOWER\": \"jorge\"}', '{\"LOWER\": \"(\"}', '{\"LOWER\": \"santa\"}', '{\"LOWER\": \"fe\"}', '{\"LOWER\": \")\"}'], ['{\"LOWER\": \"san\"}', '{\"LOWER\": \"jose\"}'], ['{\"LOWER\": \"san\"}', '{\"LOWER\": \"jose\"}', '{\"LOWER\": \"chinantequilla\"}'], ['{\"LOWER\": \"san\"}', '{\"LOWER\": \"josé\"}'], ['{\"LOWER\": \"san\"}', '{\"LOWER\": \"josé\"}', '{\"LOWER\": \"de\"}', '{\"LOWER\": \"barlovento\"}'], ['{\"LOWER\": \"san\"}', '{\"LOWER\": \"josé\"}', '{\"LOWER\": \"de\"}', '{\"LOWER\": \"chiquitos\"}'], ['{\"LOWER\": \"san\"}', '{\"LOWER\": \"josé\"}', '{\"LOWER\": \"de\"}', '{\"LOWER\": \"fray\"}', '{\"LOWER\": \"mamerto\"}', '{\"LOWER\": \"esquiú\"}'], ['{\"LOWER\": \"san\"}', '{\"LOWER\": \"josé\"}', '{\"LOWER\": \"de\"}', '{\"LOWER\": \"guanipa\"}'], ['{\"LOWER\": \"san\"}', '{\"LOWER\": \"josé\"}', '{\"LOWER\": \"de\"}', '{\"LOWER\": \"mayo\"}'], ['{\"LOWER\": \"san\"}', '{\"LOWER\": \"josé\"}', '{\"LOWER\": \"de\"}', '{\"LOWER\": \"metán\"}'], ['{\"LOWER\": \"san\"}', '{\"LOWER\": \"josé\"}', '{\"LOWER\": \"del\"}', '{\"LOWER\": \"cabo\"}'], ['{\"LOWER\": \"san\"}', '{\"LOWER\": \"josé\"}', '{\"LOWER\": \"pibtuch\"}'], ['{\"LOWER\": \"san\"}', '{\"LOWER\": \"josé\"}', '{\"LOWER\": \",\"}', '{\"LOWER\": \"andrés\"}', '{\"LOWER\": \"ibáñez\"}'], ['{\"LOWER\": \"san\"}', '{\"LOWER\": \"josé\"}', '{\"LOWER\": \",\"}', '{\"LOWER\": \"buenos\"}', '{\"LOWER\": \"aires\"}'], ['{\"LOWER\": \"san\"}', '{\"LOWER\": \"juan\"}'], ['{\"LOWER\": \"san\"}', '{\"LOWER\": \"juan\"}', '{\"LOWER\": \"de\"}', '{\"LOWER\": \"payara\"}'], ['{\"LOWER\": \"san\"}', '{\"LOWER\": \"juan\"}', '{\"LOWER\": \"de\"}', '{\"LOWER\": \"yapacaní\"}'], ['{\"LOWER\": \"san\"}', '{\"LOWER\": \"juan\"}', '{\"LOWER\": \"district\"}', '{\"LOWER\": \",\"}', '{\"LOWER\": \"tibás\"}'], ['{\"LOWER\": \"san\"}', '{\"LOWER\": \"juan\"}', '{\"LOWER\": \"ostuncalco\"}'], ['{\"LOWER\": \"san\"}', '{\"LOWER\": \"julián\"}', '{\"LOWER\": \",\"}', '{\"LOWER\": \"santa\"}', '{\"LOWER\": \"cruz\"}'], ['{\"LOWER\": \"san\"}', '{\"LOWER\": \"justo\"}'], ['{\"LOWER\": \"san\"}', '{\"LOWER\": \"lorenzo\"}'], ['{\"LOWER\": \"san\"}', '{\"LOWER\": \"luis\"}'], ['{\"LOWER\": \"san\"}', '{\"LOWER\": \"luis\"}', '{\"LOWER\": \"potosí\"}'], ['{\"LOWER\": \"san\"}', '{\"LOWER\": \"luis\"}', '{\"LOWER\": \"río\"}', '{\"LOWER\": \"colorado\"}'], ['{\"LOWER\": \"san\"}', '{\"LOWER\": \"marino\"}'], ['{\"LOWER\": \"san\"}', '{\"LOWER\": \"martín\"}'], ['{\"LOWER\": \"san\"}', '{\"LOWER\": \"martín\"}', '{\"LOWER\": \"de\"}', '{\"LOWER\": \"hidalgo\"}'], ['{\"LOWER\": \"san\"}', '{\"LOWER\": \"martín\"}', '{\"LOWER\": \"de\"}', '{\"LOWER\": \"los\"}', '{\"LOWER\": \"andes\"}'], ['{\"LOWER\": \"san\"}', '{\"LOWER\": \"mateo\"}'], ['{\"LOWER\": \"san\"}', '{\"LOWER\": \"matías\"}', '{\"LOWER\": \",\"}', '{\"LOWER\": \"santa\"}', '{\"LOWER\": \"cruz\"}'], ['{\"LOWER\": \"san\"}', '{\"LOWER\": \"miguel\"}'], ['{\"LOWER\": \"san\"}', '{\"LOWER\": \"miguel\"}', '{\"LOWER\": \"de\"}', '{\"LOWER\": \"tucumán\"}'], ['{\"LOWER\": \"san\"}', '{\"LOWER\": \"miguel\"}', '{\"LOWER\": \"de\"}', '{\"LOWER\": \"velasco\"}'], ['{\"LOWER\": \"san\"}', '{\"LOWER\": \"miguel\"}', '{\"LOWER\": \",\"}', '{\"LOWER\": \"bolívar\"}'], ['{\"LOWER\": \"san\"}', '{\"LOWER\": \"miguel\"}', '{\"LOWER\": \",\"}', '{\"LOWER\": \"la\"}', '{\"LOWER\": \"mar\"}', '{\"LOWER\": \"province\"}'], ['{\"LOWER\": \"san\"}', '{\"LOWER\": \"nicolás\"}', '{\"LOWER\": \"de\"}', '{\"LOWER\": \"los\"}', '{\"LOWER\": \"arroyos\"}'], ['{\"LOWER\": \"san\"}', '{\"LOWER\": \"nicolás\"}', '{\"LOWER\": \"de\"}', '{\"LOWER\": \"los\"}', '{\"LOWER\": \"garza\"}'], ['{\"LOWER\": \"san\"}', '{\"LOWER\": \"pablo\"}'], ['{\"LOWER\": \"san\"}', '{\"LOWER\": \"pablo\"}', '{\"LOWER\": \"del\"}', '{\"LOWER\": \"monte\"}'], ['{\"LOWER\": \"san\"}', '{\"LOWER\": \"pedro\"}'], ['{\"LOWER\": \"san\"}', '{\"LOWER\": \"pedro\"}', '{\"LOWER\": \"de\"}', '{\"LOWER\": \"jujuy\"}'], ['{\"LOWER\": \"san\"}', '{\"LOWER\": \"pedro\"}', '{\"LOWER\": \"de\"}', '{\"LOWER\": \"lloc\"}'], ['{\"LOWER\": \"san\"}', '{\"LOWER\": \"pedro\"}', '{\"LOWER\": \"de\"}', '{\"LOWER\": \"ycuamandiyú\"}'], ['{\"LOWER\": \"san\"}', '{\"LOWER\": \"pedro\"}', '{\"LOWER\": \"garza\"}', '{\"LOWER\": \"garcía\"}'], ['{\"LOWER\": \"san\"}', '{\"LOWER\": \"pedro\"}', '{\"LOWER\": \"sula\"}'], ['{\"LOWER\": \"san\"}', '{\"LOWER\": \"pedro\"}', '{\"LOWER\": \"town\"}'], ['{\"LOWER\": \"san\"}', '{\"LOWER\": \"quintín\"}'], ['{\"LOWER\": \"san\"}', '{\"LOWER\": \"rafael\"}'], ['{\"LOWER\": \"san\"}', '{\"LOWER\": \"rafael\"}', '{\"LOWER\": \"de\"}', '{\"LOWER\": \"velasco\"}'], ['{\"LOWER\": \"san\"}', '{\"LOWER\": \"ramón\"}'], ['{\"LOWER\": \"san\"}', '{\"LOWER\": \"ramón\"}', '{\"LOWER\": \"de\"}', '{\"LOWER\": \"la\"}', '{\"LOWER\": \"nueva\"}', '{\"LOWER\": \"orán\"}'], ['{\"LOWER\": \"san\"}', '{\"LOWER\": \"salvador\"}'], ['{\"LOWER\": \"san\"}', '{\"LOWER\": \"salvador\"}', '{\"LOWER\": \"de\"}', '{\"LOWER\": \"jujuy\"}'], ['{\"LOWER\": \"san\"}', '{\"LOWER\": \"sebastián\"}'], ['{\"LOWER\": \"san\"}', '{\"LOWER\": \"telmo\"}', '{\"LOWER\": \",\"}', '{\"LOWER\": \"baja\"}', '{\"LOWER\": \"california\"}'], ['{\"LOWER\": \"san\"}', '{\"LOWER\": \"vicente\"}'], ['{\"LOWER\": \"san\"}', '{\"LOWER\": \"vicente\"}', '{\"LOWER\": \"de\"}', '{\"LOWER\": \"cañete\"}'], ['{\"LOWER\": \"san\"}', '{\"LOWER\": \"vito\"}', '{\"LOWER\": \"dei\"}', '{\"LOWER\": \"normanni\"}'], ['{\"LOWER\": \"sana\\'a\"}'], ['{\"LOWER\": \"sanare\"}'], ['{\"LOWER\": \"sancti\"}', '{\"LOWER\": \"spíritus\"}'], ['{\"LOWER\": \"sandakan\"}'], ['{\"LOWER\": \"sandanski\"}'], ['{\"LOWER\": \"sandefjord\"}'], ['{\"LOWER\": \"sandgerði\"}'], ['{\"LOWER\": \"sandia\"}'], ['{\"LOWER\": \"sandnes\"}'], ['{\"LOWER\": \"sandnessjøen\"}'], ['{\"LOWER\": \"sandovalina\"}'], ['{\"LOWER\": \"sandvika\"}'], ['{\"LOWER\": \"sangli\"}'], ['{\"LOWER\": \"sangmélima\"}'], ['{\"LOWER\": \"sangolquí\"}'], ['{\"LOWER\": \"sankt\"}', '{\"LOWER\": \"vith\"}'], ['{\"LOWER\": \"sann\"}'], ['{\"LOWER\": \"sanniki\"}', '{\"LOWER\": \",\"}', '{\"LOWER\": \"masovian\"}', '{\"LOWER\": \"voivodeship\"}'], ['{\"LOWER\": \"sanremo\"}'], ['{\"LOWER\": \"santa\"}', '{\"LOWER\": \"adélia\"}'], ['{\"LOWER\": \"santa\"}', '{\"LOWER\": \"albertina\"}'], ['{\"LOWER\": \"santa\"}', '{\"LOWER\": \"ana\"}'], ['{\"LOWER\": \"santa\"}', '{\"LOWER\": \"ana\"}', '{\"LOWER\": \"del\"}', '{\"LOWER\": \"yacuma\"}'], ['{\"LOWER\": \"santa\"}', '{\"LOWER\": \"branca\"}'], ['{\"LOWER\": \"santa\"}', '{\"LOWER\": \"bárbara\"}'], ['{\"LOWER\": \"santa\"}', '{\"LOWER\": \"bárbara\"}', '{\"LOWER\": \"d\\'oeste\"}'], ['{\"LOWER\": \"santa\"}', '{\"LOWER\": \"bárbara\"}', '{\"LOWER\": \"del\"}', '{\"LOWER\": \"zulia\"}'], ['{\"LOWER\": \"santa\"}', '{\"LOWER\": \"catarina\"}'], ['{\"LOWER\": \"santa\"}', '{\"LOWER\": \"clara\"}'], ['{\"LOWER\": \"santa\"}', '{\"LOWER\": \"clara\"}', '{\"LOWER\": \"d\\'oeste\"}'], ['{\"LOWER\": \"santa\"}', '{\"LOWER\": \"clara\"}', '{\"LOWER\": \"de\"}', '{\"LOWER\": \"olimar\"}'], ['{\"LOWER\": \"santa\"}', '{\"LOWER\": \"clara\"}', '{\"LOWER\": \"del\"}', '{\"LOWER\": \"mar\"}'], ['{\"LOWER\": \"santa\"}', '{\"LOWER\": \"cruz\"}', '{\"LOWER\": \"da\"}', '{\"LOWER\": \"conceição\"}'], ['{\"LOWER\": \"santa\"}', '{\"LOWER\": \"cruz\"}', '{\"LOWER\": \"da\"}', '{\"LOWER\": \"esperança\"}'], ['{\"LOWER\": \"santa\"}', '{\"LOWER\": \"cruz\"}', '{\"LOWER\": \"das\"}', '{\"LOWER\": \"palmeiras\"}'], ['{\"LOWER\": \"santa\"}', '{\"LOWER\": \"cruz\"}', '{\"LOWER\": \"de\"}', '{\"LOWER\": \"la\"}', '{\"LOWER\": \"sierra\"}'], ['{\"LOWER\": \"santa\"}', '{\"LOWER\": \"cruz\"}', '{\"LOWER\": \"de\"}', '{\"LOWER\": \"los\"}', '{\"LOWER\": \"taques\"}'], ['{\"LOWER\": \"santa\"}', '{\"LOWER\": \"cruz\"}', '{\"LOWER\": \"de\"}', '{\"LOWER\": \"tenerife\"}'], ['{\"LOWER\": \"santa\"}', '{\"LOWER\": \"cruz\"}', '{\"LOWER\": \"del\"}', '{\"LOWER\": \"quiché\"}'], ['{\"LOWER\": \"santa\"}', '{\"LOWER\": \"cruz\"}', '{\"LOWER\": \"del\"}', '{\"LOWER\": \"sur\"}'], ['{\"LOWER\": \"santa\"}', '{\"LOWER\": \"cruz\"}', '{\"LOWER\": \"do\"}', '{\"LOWER\": \"rio\"}', '{\"LOWER\": \"pardo\"}'], ['{\"LOWER\": \"santa\"}', '{\"LOWER\": \"cruz\"}', '{\"LOWER\": \"do\"}', '{\"LOWER\": \"sul\"}'], ['{\"LOWER\": \"santa\"}', '{\"LOWER\": \"cruz\"}', '{\"LOWER\": \"do\"}', '{\"LOWER\": \"xingu\"}'], ['{\"LOWER\": \"santa\"}', '{\"LOWER\": \"cruz\"}', '{\"LOWER\": \",\"}', '{\"LOWER\": \"jamaica\"}'], ['{\"LOWER\": \"santa\"}', '{\"LOWER\": \"elena\"}'], ['{\"LOWER\": \"santa\"}', '{\"LOWER\": \"elena\"}', '{\"LOWER\": \"de\"}', '{\"LOWER\": \"arenales\"}'], ['{\"LOWER\": \"santa\"}', '{\"LOWER\": \"elena\"}', '{\"LOWER\": \"de\"}', '{\"LOWER\": \"uairén\"}'], ['{\"LOWER\": \"santa\"}', '{\"LOWER\": \"ernestina\"}'], ['{\"LOWER\": \"santa\"}', '{\"LOWER\": \"fe\"}', '{\"LOWER\": \"de\"}', '{\"LOWER\": \"yapacaní\"}'], ['{\"LOWER\": \"santa\"}', '{\"LOWER\": \"fé\"}', '{\"LOWER\": \"do\"}', '{\"LOWER\": \"sul\"}'], ['{\"LOWER\": \"santa\"}', '{\"LOWER\": \"gertrudes\"}'], ['{\"LOWER\": \"santa\"}', '{\"LOWER\": \"isabel\"}'], ['{\"LOWER\": \"santa\"}', '{\"LOWER\": \"lucía\"}'], ['{\"LOWER\": \"santa\"}', '{\"LOWER\": \"lúcia\"}'], ['{\"LOWER\": \"santa\"}', '{\"LOWER\": \"maria\"}', '{\"LOWER\": \"da\"}', '{\"LOWER\": \"serra\"}'], ['{\"LOWER\": \"santa\"}', '{\"LOWER\": \"maría\"}', '{\"LOWER\": \"de\"}', '{\"LOWER\": \"ipire\"}'], ['{\"LOWER\": \"santa\"}', '{\"LOWER\": \"maría\"}', '{\"LOWER\": \"de\"}', '{\"LOWER\": \"nieva\"}'], ['{\"LOWER\": \"santa\"}', '{\"LOWER\": \"maría\"}', '{\"LOWER\": \"del\"}', '{\"LOWER\": \"oro\"}'], ['{\"LOWER\": \"santa\"}', '{\"LOWER\": \"mercedes\"}'], ['{\"LOWER\": \"santa\"}', '{\"LOWER\": \"rita\"}'], ['{\"LOWER\": \"santa\"}', '{\"LOWER\": \"rita\"}', '{\"LOWER\": \"d\\'oeste\"}'], ['{\"LOWER\": \"santa\"}', '{\"LOWER\": \"rita\"}', '{\"LOWER\": \"do\"}', '{\"LOWER\": \"passa\"}', '{\"LOWER\": \"quatro\"}'], ['{\"LOWER\": \"santa\"}', '{\"LOWER\": \"rita\"}', '{\"LOWER\": \",\"}', '{\"LOWER\": \"venezuela\"}'], ['{\"LOWER\": \"santa\"}', '{\"LOWER\": \"rosa\"}'], ['{\"LOWER\": \"santa\"}', '{\"LOWER\": \"rosa\"}', '{\"LOWER\": \"de\"}', '{\"LOWER\": \"copán\"}'], ['{\"LOWER\": \"santa\"}', '{\"LOWER\": \"rosa\"}', '{\"LOWER\": \"de\"}', '{\"LOWER\": \"viterbo\"}'], ['{\"LOWER\": \"santa\"}', '{\"LOWER\": \"rosa\"}', '{\"LOWER\": \"del\"}', '{\"LOWER\": \"sara\"}'], ['{\"LOWER\": \"santa\"}', '{\"LOWER\": \"salete\"}'], ['{\"LOWER\": \"santa\"}', '{\"LOWER\": \"teresa\"}', '{\"LOWER\": \"del\"}', '{\"LOWER\": \"tuy\"}'], ['{\"LOWER\": \"santana\"}', '{\"LOWER\": \"da\"}', '{\"LOWER\": \"ponte\"}', '{\"LOWER\": \"pensa\"}'], ['{\"LOWER\": \"santana\"}', '{\"LOWER\": \"de\"}', '{\"LOWER\": \"parnaíba\"}'], ['{\"LOWER\": \"santander\"}'], ['{\"LOWER\": \"santiago\"}', '{\"LOWER\": \"de\"}', '{\"LOWER\": \"chuco\"}'], ['{\"LOWER\": \"santiago\"}', '{\"LOWER\": \"de\"}', '{\"LOWER\": \"compostela\"}'], ['{\"LOWER\": \"santiago\"}', '{\"LOWER\": \"de\"}', '{\"LOWER\": \"cuba\"}'], ['{\"LOWER\": \"santiago\"}', '{\"LOWER\": \"de\"}', '{\"LOWER\": \"huari\"}'], ['{\"LOWER\": \"santiago\"}', '{\"LOWER\": \"de\"}', '{\"LOWER\": \"los\"}', '{\"LOWER\": \"caballeros\"}'], ['{\"LOWER\": \"santiago\"}', '{\"LOWER\": \"de\"}', '{\"LOWER\": \"los\"}', '{\"LOWER\": \"caballeros\"}', '{\"LOWER\": \"de\"}', '{\"LOWER\": \"guatemala\"}'], ['{\"LOWER\": \"santiago\"}', '{\"LOWER\": \"de\"}', '{\"LOWER\": \"puriscal\"}'], ['{\"LOWER\": \"santiago\"}', '{\"LOWER\": \"de\"}', '{\"LOWER\": \"veraguas\"}'], ['{\"LOWER\": \"santiago\"}', '{\"LOWER\": \"del\"}', '{\"LOWER\": \"estero\"}'], ['{\"LOWER\": \"santo\"}', '{\"LOWER\": \"anastácio\"}'], ['{\"LOWER\": \"santo\"}', '{\"LOWER\": \"andré\"}'], ['{\"LOWER\": \"santo\"}', '{\"LOWER\": \"antônio\"}', '{\"LOWER\": \"da\"}', '{\"LOWER\": \"alegria\"}'], ['{\"LOWER\": \"santo\"}', '{\"LOWER\": \"antônio\"}', '{\"LOWER\": \"de\"}', '{\"LOWER\": \"jesus\"}'], ['{\"LOWER\": \"santo\"}', '{\"LOWER\": \"antônio\"}', '{\"LOWER\": \"de\"}', '{\"LOWER\": \"posse\"}'], ['{\"LOWER\": \"santo\"}', '{\"LOWER\": \"antônio\"}', '{\"LOWER\": \"do\"}', '{\"LOWER\": \"aracanguá\"}'], ['{\"LOWER\": \"santo\"}', '{\"LOWER\": \"antônio\"}', '{\"LOWER\": \"do\"}', '{\"LOWER\": \"jardim\"}'], ['{\"LOWER\": \"santo\"}', '{\"LOWER\": \"antônio\"}', '{\"LOWER\": \"do\"}', '{\"LOWER\": \"pinhal\"}'], ['{\"LOWER\": \"santo\"}', '{\"LOWER\": \"domingo\"}'], ['{\"LOWER\": \"santo\"}', '{\"LOWER\": \"expedito\"}'], ['{\"LOWER\": \"santo\"}', '{\"LOWER\": \"tomás\"}'], ['{\"LOWER\": \"santo\"}', '{\"LOWER\": \"tomás\"}', '{\"LOWER\": \"de\"}', '{\"LOWER\": \"castilla\"}'], ['{\"LOWER\": \"santo\"}', '{\"LOWER\": \"tomé\"}'], ['{\"LOWER\": \"santos\"}'], ['{\"LOWER\": \"santos\"}', '{\"LOWER\": \"dumont\"}', '{\"LOWER\": \",\"}', '{\"LOWER\": \"minas\"}', '{\"LOWER\": \"gerais\"}'], ['{\"LOWER\": \"santópolis\"}', '{\"LOWER\": \"do\"}', '{\"LOWER\": \"aguapeí\"}'], ['{\"LOWER\": \"sapareva\"}', '{\"LOWER\": \"banya\"}'], ['{\"LOWER\": \"saparmyrat\"}', '{\"LOWER\": \"türkmenbaşy\"}'], ['{\"LOWER\": \"sapinuwa\"}'], ['{\"LOWER\": \"saponé\"}'], ['{\"LOWER\": \"saposoa\"}'], ['{\"LOWER\": \"saqunda\"}'], ['{\"LOWER\": \"sar\"}', '{\"LOWER\": \"e\"}', '{\"LOWER\": \"pol\"}'], ['{\"LOWER\": \"sarai\"}'], ['{\"LOWER\": \"sarajevo\"}'], ['{\"LOWER\": \"saran\"}'], ['{\"LOWER\": \"sarandí\"}'], ['{\"LOWER\": \"sarandí\"}', '{\"LOWER\": \"del\"}', '{\"LOWER\": \"yí\"}'], ['{\"LOWER\": \"sarandí\"}', '{\"LOWER\": \"grande\"}'], ['{\"LOWER\": \"sarapuí\"}'], ['{\"LOWER\": \"saray\"}', '{\"LOWER\": \"jük\"}'], ['{\"LOWER\": \"saray\"}', '{\"LOWER\": \",\"}', '{\"LOWER\": \"tekirdağ\"}'], ['{\"LOWER\": \"sargodha\"}'], ['{\"LOWER\": \"sarh\"}'], ['{\"LOWER\": \"sarnath\"}'], ['{\"LOWER\": \"sarnia\"}'], ['{\"LOWER\": \"saroke\"}'], ['{\"LOWER\": \"sarpsborg\"}'], ['{\"LOWER\": \"sarutaiá\"}'], ['{\"LOWER\": \"sarıkaya\"}'], ['{\"LOWER\": \"sasaram\"}'], ['{\"LOWER\": \"saskatoon\"}'], ['{\"LOWER\": \"sassari\"}'], ['{\"LOWER\": \"sastamala\"}'], ['{\"LOWER\": \"saswad\"}'], ['{\"LOWER\": \"satara\"}'], ['{\"LOWER\": \"satipo\"}'], ['{\"LOWER\": \"satna\"}'], ['{\"LOWER\": \"satpayev\"}'], ['{\"LOWER\": \"sauce\"}', '{\"LOWER\": \",\"}', '{\"LOWER\": \"uruguay\"}'], ['{\"LOWER\": \"sault\"}', '{\"LOWER\": \"ste\"}', '{\"LOWER\": \".\"}', '{\"LOWER\": \"marie\"}'], ['{\"LOWER\": \"sauteurs\"}'], ['{\"LOWER\": \"sauðárkrókur\"}'], ['{\"LOWER\": \"savanna\"}', '{\"LOWER\": \"la\"}', '{\"LOWER\": \"mar\"}'], ['{\"LOWER\": \"savannakhet\"}'], ['{\"LOWER\": \"savar\"}'], ['{\"LOWER\": \"savona\"}'], ['{\"LOWER\": \"savonlinna\"}'], ['{\"LOWER\": \"savuca\"}'], ['{\"LOWER\": \"savé\"}'], ['{\"LOWER\": \"sawara\"}'], ['{\"LOWER\": \"sawla\"}'], ['{\"LOWER\": \"sayram\"}'], ['{\"LOWER\": \"sayyidah\"}', '{\"LOWER\": \"zaynab\"}'], ['{\"LOWER\": \"scampis\"}'], ['{\"LOWER\": \"schaerbeek\"}'], ['{\"LOWER\": \"schiedam\"}'], ['{\"LOWER\": \"schuckmannsburg\"}'], ['{\"LOWER\": \"schwerin\"}'], ['{\"LOWER\": \"sderot\"}'], ['{\"LOWER\": \"sebastianópolis\"}', '{\"LOWER\": \"do\"}', '{\"LOWER\": \"sul\"}'], ['{\"LOWER\": \"sebeta\"}'], ['{\"LOWER\": \"sechura\"}'], ['{\"LOWER\": \"secunderabad\"}'], ['{\"LOWER\": \"seda\"}'], ['{\"LOWER\": \"seeb\"}'], ['{\"LOWER\": \"sefrou\"}'], ['{\"LOWER\": \"segesta\"}'], ['{\"LOWER\": \"segodunum\"}'], ['{\"LOWER\": \"segontia\"}'], ['{\"LOWER\": \"seinäjoki\"}'], ['{\"LOWER\": \"seiyun\"}'], ['{\"LOWER\": \"sekong\"}'], ['{\"LOWER\": \"sela\"}', '{\"LOWER\": \"dingay\"}'], ['{\"LOWER\": \"selangau\"}', '{\"LOWER\": \",\"}', '{\"LOWER\": \"sarawak\"}'], ['{\"LOWER\": \"selat\"}', '{\"LOWER\": \"panjang\"}'], ['{\"LOWER\": \"selebi\"}', '{\"LOWER\": \"phikwe\"}'], ['{\"LOWER\": \"seleucia\"}', '{\"LOWER\": \"pieria\"}'], ['{\"LOWER\": \"selfoss\"}'], ['{\"LOWER\": \"selinunte\"}'], ['{\"LOWER\": \"selkirk\"}'], ['{\"LOWER\": \"selouane\"}'], ['{\"LOWER\": \"seltjarnarnes\"}'], ['{\"LOWER\": \"semarapura\"}'], ['{\"LOWER\": \"semari\"}'], ['{\"LOWER\": \"sembé\"}'], ['{\"LOWER\": \"semey\"}'], ['{\"LOWER\": \"senafe\"}'], ['{\"LOWER\": \"senaki\"}'], ['{\"LOWER\": \"senovo\"}'], ['{\"LOWER\": \"septemvri\"}'], ['{\"LOWER\": \"seremban\"}'], ['{\"LOWER\": \"sergiopolis\"}'], ['{\"LOWER\": \"serhetabat\"}'], ['{\"LOWER\": \"serikin\"}'], ['{\"LOWER\": \"serock\"}'], ['{\"LOWER\": \"serowe\"}'], ['{\"LOWER\": \"serra\"}', '{\"LOWER\": \"azul\"}'], ['{\"LOWER\": \"serra\"}', '{\"LOWER\": \"negra\"}'], ['{\"LOWER\": \"serrana\"}', '{\"LOWER\": \",\"}', '{\"LOWER\": \"são\"}', '{\"LOWER\": \"paulo\"}'], ['{\"LOWER\": \"serres\"}'], ['{\"LOWER\": \"sertãozinho\"}'], ['{\"LOWER\": \"sete\"}', '{\"LOWER\": \"barras\"}'], ['{\"LOWER\": \"setganga\"}'], ['{\"LOWER\": \"setovia\"}'], ['{\"LOWER\": \"settat\"}'], ['{\"LOWER\": \"severínia\"}'], ['{\"LOWER\": \"sevilla\"}'], ['{\"LOWER\": \"seville\"}'], ['{\"LOWER\": \"sevlievo\"}'], ['{\"LOWER\": \"sevojno\"}'], ['{\"LOWER\": \"seýdi\"}'], ['{\"LOWER\": \"sežana\"}'], ['{\"LOWER\": \"shabqadar\"}'], ['{\"LOWER\": \"shabwa\"}'], ['{\"LOWER\": \"shah\"}', '{\"LOWER\": \"faisal\"}', '{\"LOWER\": \"town\"}'], ['{\"LOWER\": \"shaharah\"}'], ['{\"LOWER\": \"shahbazpur\"}', '{\"LOWER\": \"town\"}'], ['{\"LOWER\": \"shahidnagar\"}', '{\"LOWER\": \"danda\"}'], ['{\"LOWER\": \"shahrisabz\"}'], ['{\"LOWER\": \"shakargarh\"}'], ['{\"LOWER\": \"shakawe\"}'], ['{\"LOWER\": \"shakhtinsk\"}'], ['{\"LOWER\": \"shalkar\"}'], ['{\"LOWER\": \"shamia\"}'], ['{\"LOWER\": \"shanghai\"}'], ['{\"LOWER\": \"shankarapur\"}'], ['{\"LOWER\": \"shankerpura\"}'], ['{\"LOWER\": \"shanqhae\"}'], ['{\"LOWER\": \"shaqlawa\"}'], ['{\"LOWER\": \"sharana\"}'], ['{\"LOWER\": \"shargʻun\"}'], ['{\"LOWER\": \"sharjah\"}'], ['{\"LOWER\": \"sharm\"}', '{\"LOWER\": \"el\"}', '{\"LOWER\": \"sheikh\"}'], ['{\"LOWER\": \"sharuna\"}'], ['{\"LOWER\": \"sheberghan\"}'], ['{\"LOWER\": \"sheffield\"}'], ['{\"LOWER\": \"sheikh\"}', '{\"LOWER\": \"othman\"}'], ['{\"LOWER\": \"sheikhupura\"}'], ['{\"LOWER\": \"shenzhen\"}'], ['{\"LOWER\": \"shepparton\"}'], ['{\"LOWER\": \"sherpur\"}'], ['{\"LOWER\": \"shfaram\"}'], ['{\"LOWER\": \"shibam\"}'], ['{\"LOWER\": \"shibin\"}', '{\"LOWER\": \"al\"}', '{\"LOWER\": \"kawm\"}', '{\"LOWER\": \",\"}', '{\"LOWER\": \"al\"}', '{\"LOWER\": \"minufiyah\"}'], ['{\"LOWER\": \"shibin\"}', '{\"LOWER\": \"el\"}', '{\"LOWER\": \"qanater\"}'], ['{\"LOWER\": \"shijak\"}'], ['{\"LOWER\": \"shikar\"}', '{\"LOWER\": \"pur\"}', '{\"LOWER\": \",\"}', '{\"LOWER\": \"bhakkar\"}'], ['{\"LOWER\": \"shillong\"}'], ['{\"LOWER\": \"shimao\"}', '{\"LOWER\": \"ruins\"}'], ['{\"LOWER\": \"shimla\"}'], ['{\"LOWER\": \"shinahota\"}'], ['{\"LOWER\": \"shindand\"}'], ['{\"LOWER\": \"shinjuku\"}'], ['{\"LOWER\": \"shinyanga\"}'], ['{\"LOWER\": \"shipka\"}'], ['{\"LOWER\": \"shkodër\"}'], ['{\"LOWER\": \"shopokov\"}'], ['{\"LOWER\": \"shorkot\"}'], ['{\"LOWER\": \"shoshong\"}'], ['{\"LOWER\": \"shubra\"}', '{\"LOWER\": \"el\"}', '{\"LOWER\": \"kheima\"}'], ['{\"LOWER\": \"shuhada\"}'], ['{\"LOWER\": \"shumen\"}'], ['{\"LOWER\": \"shurpali\"}', '{\"LOWER\": \"shri\"}', '{\"LOWER\": \"lakshmi\"}', '{\"LOWER\": \"narasimha\"}', '{\"LOWER\": \"temple\"}'], ['{\"LOWER\": \"shwenyaung\"}'], ['{\"LOWER\": \"shymkent\"}'], ['{\"LOWER\": \"shëngjin\"}'], ['{\"LOWER\": \"sialkot\"}'], ['{\"LOWER\": \"sianów\"}'], ['{\"LOWER\": \"sibanicú\"}', '{\"LOWER\": \",\"}', '{\"LOWER\": \"cuba\"}'], ['{\"LOWER\": \"sibay\"}'], ['{\"LOWER\": \"sibiti\"}'], ['{\"LOWER\": \"sibut\"}'], ['{\"LOWER\": \"sicuani\"}'], ['{\"LOWER\": \"sidam\"}'], ['{\"LOWER\": \"sidas\"}'], ['{\"LOWER\": \"siddharthanagar\"}'], ['{\"LOWER\": \"siddhirganj\"}'], ['{\"LOWER\": \"sidi\"}', '{\"LOWER\": \"abdelaziz\"}'], ['{\"LOWER\": \"sidi\"}', '{\"LOWER\": \"bel\"}', '{\"LOWER\": \"abbès\"}'], ['{\"LOWER\": \"sidi\"}', '{\"LOWER\": \"bennour\"}'], ['{\"LOWER\": \"sidi\"}', '{\"LOWER\": \"ifni\"}'], ['{\"LOWER\": \"sidi\"}', '{\"LOWER\": \"kacem\"}'], ['{\"LOWER\": \"sidi\"}', '{\"LOWER\": \"meskin\"}'], ['{\"LOWER\": \"sidi\"}', '{\"LOWER\": \"slimane\"}'], ['{\"LOWER\": \"sidlaphadi\"}'], ['{\"LOWER\": \"sidon\"}'], ['{\"LOWER\": \"sidra\"}'], ['{\"LOWER\": \"sidyma\"}'], ['{\"LOWER\": \"siechnice\"}'], ['{\"LOWER\": \"siedlce\"}'], ['{\"LOWER\": \"siem\"}', '{\"LOWER\": \"reap\"}'], ['{\"LOWER\": \"siemianowice\"}', '{\"LOWER\": \"śląskie\"}'], ['{\"LOWER\": \"siena\"}'], ['{\"LOWER\": \"sieniawa\"}'], ['{\"LOWER\": \"sieraków\"}'], ['{\"LOWER\": \"sierra\"}', '{\"LOWER\": \"de\"}', '{\"LOWER\": \"cubitas\"}'], ['{\"LOWER\": \"sighnaghi\"}'], ['{\"LOWER\": \"sighnaq\"}'], ['{\"LOWER\": \"siglufjörður\"}'], ['{\"LOWER\": \"siguatepeque\"}'], ['{\"LOWER\": \"siguiri\"}'], ['{\"LOWER\": \"sihanoukville\"}'], ['{\"LOWER\": \"sihuas\"}'], ['{\"LOWER\": \"siirt\"}'], ['{\"LOWER\": \"sikar\"}'], ['{\"LOWER\": \"sikasso\"}'], ['{\"LOWER\": \"silao\"}'], ['{\"LOWER\": \"silistra\"}'], ['{\"LOWER\": \"silkeborg\"}'], ['{\"LOWER\": \"silveiras\"}'], ['{\"LOWER\": \"simeonovgrad\"}'], ['{\"LOWER\": \"simnas\"}'], ['{\"LOWER\": \"simunye\"}'], ['{\"LOWER\": \"simón\"}', '{\"LOWER\": \"bolívar\"}'], ['{\"LOWER\": \"sinfra\"}'], ['{\"LOWER\": \"singapore\"}'], ['{\"LOWER\": \"singida\"}'], ['{\"LOWER\": \"sinnuris\"}'], ['{\"LOWER\": \"sinop\"}'], ['{\"LOWER\": \"sinuessa\"}'], ['{\"LOWER\": \"sipe\"}', '{\"LOWER\": \"sipe\"}'], ['{\"LOWER\": \"siphae\"}'], ['{\"LOWER\": \"sirhind\"}', '{\"LOWER\": \"fategarh\"}'], ['{\"LOWER\": \"sirohi\"}'], ['{\"LOWER\": \"sironko\"}'], ['{\"LOWER\": \"sirwah\"}'], ['{\"LOWER\": \"sisimiut\"}'], ['{\"LOWER\": \"sisophon\"}'], ['{\"LOWER\": \"sitapur\"}'], ['{\"LOWER\": \"siteki\"}'], ['{\"LOWER\": \"sittard\"}'], ['{\"LOWER\": \"sittwe\"}'], ['{\"LOWER\": \"siwa\"}', '{\"LOWER\": \"town\"}'], ['{\"LOWER\": \"siwan\"}'], ['{\"LOWER\": \"siyəzən\"}'], ['{\"LOWER\": \"sjenica\"}'], ['{\"LOWER\": \"skagaströnd\"}'], ['{\"LOWER\": \"skalbmierz\"}'], ['{\"LOWER\": \"skanderborg\"}'], ['{\"LOWER\": \"skanes\"}'], ['{\"LOWER\": \"skarszewy\"}'], ['{\"LOWER\": \"skaryszew\"}'], ['{\"LOWER\": \"skaudvilė\"}'], ['{\"LOWER\": \"skawina\"}'], ['{\"LOWER\": \"skała\"}'], ['{\"LOWER\": \"skhirat\"}'], ['{\"LOWER\": \"skien\"}'], ['{\"LOWER\": \"skierniewice\"}'], ['{\"LOWER\": \"skikda\"}'], ['{\"LOWER\": \"skive\"}'], ['{\"LOWER\": \"skoczów\"}'], ['{\"LOWER\": \"skoki\"}'], ['{\"LOWER\": \"skopje\"}'], ['{\"LOWER\": \"skuodas\"}'], ['{\"LOWER\": \"skupi\"}'], ['{\"LOWER\": \"skwierzyna\"}'], ['{\"LOWER\": \"skógar\"}'], ['{\"LOWER\": \"skýros\"}'], ['{\"LOWER\": \"skępe\"}'], ['{\"LOWER\": \"slagelse\"}'], ['{\"LOWER\": \"slatina\"}'], ['{\"LOWER\": \"slemani\"}'], ['{\"LOWER\": \"sliven\"}'], ['{\"LOWER\": \"slovenj\"}', '{\"LOWER\": \"gradec\"}'], ['{\"LOWER\": \"slovenska\"}', '{\"LOWER\": \"bistrica\"}'], ['{\"LOWER\": \"slovenske\"}', '{\"LOWER\": \"konjice\"}'], ['{\"LOWER\": \"smalininkai\"}'], ['{\"LOWER\": \"smara\"}'], ['{\"LOWER\": \"smolyan\"}'], ['{\"LOWER\": \"smørumnedre\"}'], ['{\"LOWER\": \"sneek\"}'], ['{\"LOWER\": \"sobral\"}'], ['{\"LOWER\": \"sobótka\"}'], ['{\"LOWER\": \"socopó\"}'], ['{\"LOWER\": \"socorro\"}'], ['{\"LOWER\": \"socuéllamos\"}'], ['{\"LOWER\": \"soe\"}'], ['{\"LOWER\": \"sofia\"}'], ['{\"LOWER\": \"sohag\"}'], ['{\"LOWER\": \"sohar\"}'], ['{\"LOWER\": \"sohawa\"}'], ['{\"LOWER\": \"sohawal\"}'], ['{\"LOWER\": \"sokodé\"}'], ['{\"LOWER\": \"sokone\"}'], ['{\"LOWER\": \"sokoto\"}'], ['{\"LOWER\": \"sokołów\"}', '{\"LOWER\": \"małopolski\"}'], ['{\"LOWER\": \"sokółka\"}'], ['{\"LOWER\": \"solan\"}'], ['{\"LOWER\": \"solapur\"}'], ['{\"LOWER\": \"solec\"}', '{\"LOWER\": \"kujawski\"}'], ['{\"LOWER\": \"soledad\"}'], ['{\"LOWER\": \"soledade\"}'], ['{\"LOWER\": \"soluntum\"}'], ['{\"LOWER\": \"solwezi\"}'], ['{\"LOWER\": \"somero\"}'], ['{\"LOWER\": \"somoto\"}'], ['{\"LOWER\": \"sompolno\"}'], ['{\"LOWER\": \"songea\"}'], ['{\"LOWER\": \"sopot\"}'], ['{\"LOWER\": \"soqota\"}'], ['{\"LOWER\": \"sorata\"}'], ['{\"LOWER\": \"soria\"}'], ['{\"LOWER\": \"soroca\"}'], ['{\"LOWER\": \"sorocaba\"}'], ['{\"LOWER\": \"soroti\"}'], ['{\"LOWER\": \"sosnowiec\"}'], ['{\"LOWER\": \"sotouboua\"}'], ['{\"LOWER\": \"soubré\"}'], ['{\"LOWER\": \"souillac\"}', '{\"LOWER\": \",\"}', '{\"LOWER\": \"mauritius\"}'], ['{\"LOWER\": \"soulédé\"}', '{\"LOWER\": \"roua\"}'], ['{\"LOWER\": \"souq\"}', '{\"LOWER\": \"al\"}', '{\"LOWER\": \"shuyukh\"}'], ['{\"LOWER\": \"south\"}', '{\"LOWER\": \"tarawa\"}'], ['{\"LOWER\": \"southampton\"}'], ['{\"LOWER\": \"southport\"}'], ['{\"LOWER\": \"soweto\"}'], ['{\"LOWER\": \"sozopol\"}'], ['{\"LOWER\": \"sośnicowice\"}'], ['{\"LOWER\": \"spanish\"}', '{\"LOWER\": \"town\"}'], ['{\"LOWER\": \"spata\"}'], ['{\"LOWER\": \"springs\"}'], ['{\"LOWER\": \"spruce\"}', '{\"LOWER\": \"creek\"}'], ['{\"LOWER\": \"sredets\"}'], ['{\"LOWER\": \"sri\"}', '{\"LOWER\": \"aman\"}'], ['{\"LOWER\": \"sri\"}', '{\"LOWER\": \"ganganagar\"}'], ['{\"LOWER\": \"srinagar\"}'], ['{\"LOWER\": \"sriniwaspuri\"}'], ['{\"LOWER\": \"st\"}', '{\"LOWER\": \"albans\"}'], ['{\"LOWER\": \"st\"}', '{\"LOWER\": \"asaph\"}'], ['{\"LOWER\": \"st\"}', '{\"LOWER\": \"davids\"}'], ['{\"LOWER\": \"st\"}', '{\"LOWER\": \".\"}', '{\"LOWER\": \"catharines\"}'], ['{\"LOWER\": \"st\"}', '{\"LOWER\": \".\"}', '{\"LOWER\": \"george\"}', '{\"LOWER\": \"\\'s\"}'], ['{\"LOWER\": \"st\"}', '{\"LOWER\": \".\"}', '{\"LOWER\": \"pölten\"}'], ['{\"LOWER\": \"stamboliyski\"}'], ['{\"LOWER\": \"stara\"}', '{\"LOWER\": \"zagora\"}'], ['{\"LOWER\": \"stary\"}', '{\"LOWER\": \"sącz\"}'], ['{\"LOWER\": \"stassano\"}'], ['{\"LOWER\": \"staszów\"}'], ['{\"LOWER\": \"stavanger\"}'], ['{\"LOWER\": \"stawiski\"}'], ['{\"LOWER\": \"stawiszyn\"}'], ['{\"LOWER\": \"steinbach\"}'], ['{\"LOWER\": \"stepanakert\"}'], ['{\"LOWER\": \"stirling\"}'], ['{\"LOWER\": \"stockholm\"}'], ['{\"LOWER\": \"stoke\"}', '{\"LOWER\": \"on\"}', '{\"LOWER\": \"trent\"}'], ['{\"LOWER\": \"stokkseyri\"}'], ['{\"LOWER\": \"stone\"}', '{\"LOWER\": \"town\"}'], ['{\"LOWER\": \"stony\"}', '{\"LOWER\": \"hill\"}', '{\"LOWER\": \",\"}', '{\"LOWER\": \"jamaica\"}'], ['{\"LOWER\": \"straelen\"}'], ['{\"LOWER\": \"strazhitsa\"}'], ['{\"LOWER\": \"strelcha\"}'], ['{\"LOWER\": \"stronie\"}', '{\"LOWER\": \"śląskie\"}'], ['{\"LOWER\": \"struga\"}'], ['{\"LOWER\": \"strumica\"}'], ['{\"LOWER\": \"strumień\"}'], ['{\"LOWER\": \"stryków\"}'], ['{\"LOWER\": \"strzegom\"}'], ['{\"LOWER\": \"strzelce\"}', '{\"LOWER\": \"krajeńskie\"}'], ['{\"LOWER\": \"strzelce\"}', '{\"LOWER\": \"opolskie\"}'], ['{\"LOWER\": \"strzelin\"}'], ['{\"LOWER\": \"strzelno\"}'], ['{\"LOWER\": \"strzyżów\"}'], ['{\"LOWER\": \"strășeni\"}'], ['{\"LOWER\": \"stung\"}', '{\"LOWER\": \"treng\"}'], ['{\"LOWER\": \"stykkishólmur\"}'], ['{\"LOWER\": \"styllangium\"}'], ['{\"LOWER\": \"stąporków\"}'], ['{\"LOWER\": \"stęszew\"}'], ['{\"LOWER\": \"suakin\"}'], ['{\"LOWER\": \"suani\"}', '{\"LOWER\": \"ben\"}', '{\"LOWER\": \"adem\"}'], ['{\"LOWER\": \"subačius\"}'], ['{\"LOWER\": \"sublaqueum\"}'], ['{\"LOWER\": \"subotica\"}'], ['{\"LOWER\": \"suchań\"}'], ['{\"LOWER\": \"suchedniów\"}'], ['{\"LOWER\": \"suchitoto\"}', '{\"LOWER\": \"municipality\"}'], ['{\"LOWER\": \"suchowola\"}'], ['{\"LOWER\": \"sud\"}', '{\"LOWER\": \"mennucci\"}', '{\"LOWER\": \",\"}', '{\"LOWER\": \"são\"}', '{\"LOWER\": \"paulo\"}'], ['{\"LOWER\": \"sudhowala\"}'], ['{\"LOWER\": \"suhindol\"}'], ['{\"LOWER\": \"sukhumi\"}'], ['{\"LOWER\": \"sukkur\"}'], ['{\"LOWER\": \"sulechów\"}'], ['{\"LOWER\": \"sulejów\"}'], ['{\"LOWER\": \"sullana\"}'], ['{\"LOWER\": \"sultan\"}'], ['{\"LOWER\": \"sultan\"}', '{\"LOWER\": \"bathery\"}'], ['{\"LOWER\": \"sultanhanı\"}'], ['{\"LOWER\": \"sultanköy\"}'], ['{\"LOWER\": \"sulukta\"}'], ['{\"LOWER\": \"sulęcin\"}'], ['{\"LOWER\": \"sumaré\"}'], ['{\"LOWER\": \"sumbawanga\"}'], ['{\"LOWER\": \"sumbe\"}'], ['{\"LOWER\": \"summerside\"}'], ['{\"LOWER\": \"sunamganj\"}'], ['{\"LOWER\": \"sundar\"}', '{\"LOWER\": \"basti\"}'], ['{\"LOWER\": \"sunderland\"}'], ['{\"LOWER\": \"sungurlare\"}'], ['{\"LOWER\": \"sunpu\"}'], ['{\"LOWER\": \"suonenjoki\"}'], ['{\"LOWER\": \"suong\"}'], ['{\"LOWER\": \"supe\"}'], ['{\"LOWER\": \"supetar\"}'], ['{\"LOWER\": \"supraśl\"}'], ['{\"LOWER\": \"sur\"}'], ['{\"LOWER\": \"sura\"}'], ['{\"LOWER\": \"surat\"}'], ['{\"LOWER\": \"suraż\"}'], ['{\"LOWER\": \"surif\"}'], ['{\"LOWER\": \"surrey\"}'], ['{\"LOWER\": \"susz\"}'], ['{\"LOWER\": \"suva\"}'], ['{\"LOWER\": \"suva\"}', '{\"LOWER\": \"reka\"}'], ['{\"LOWER\": \"suwaylih\"}'], ['{\"LOWER\": \"suwałki\"}'], ['{\"LOWER\": \"suzanápolis\"}'], ['{\"LOWER\": \"sułkowice\"}'], ['{\"LOWER\": \"svay\"}', '{\"LOWER\": \"rieng\"}'], ['{\"LOWER\": \"svendborg\"}'], ['{\"LOWER\": \"sveti\"}', '{\"LOWER\": \"nikole\"}'], ['{\"LOWER\": \"sveti\"}', '{\"LOWER\": \"vlas\"}'], ['{\"LOWER\": \"svilengrad\"}'], ['{\"LOWER\": \"svishtov\"}'], ['{\"LOWER\": \"swakopmund\"}'], ['{\"LOWER\": \"swan\"}', '{\"LOWER\": \"hill\"}'], ['{\"LOWER\": \"swansea\"}'], ['{\"LOWER\": \"swarzędz\"}'], ['{\"LOWER\": \"swift\"}', '{\"LOWER\": \"current\"}'], ['{\"LOWER\": \"swords\"}'], ['{\"LOWER\": \"syangela\"}'], ['{\"LOWER\": \"syców\"}'], ['{\"LOWER\": \"sydney\"}'], ['{\"LOWER\": \"sylhet\"}'], ['{\"LOWER\": \"syracuse\"}'], ['{\"LOWER\": \"szadek\"}'], ['{\"LOWER\": \"szamocin\"}'], ['{\"LOWER\": \"szamotuły\"}'], ['{\"LOWER\": \"szczawnica\"}'], ['{\"LOWER\": \"szczebrzeszyn\"}'], ['{\"LOWER\": \"szczecin\"}'], ['{\"LOWER\": \"szczekociny\"}'], ['{\"LOWER\": \"szczucin\"}'], ['{\"LOWER\": \"szczuczyn\"}'], ['{\"LOWER\": \"szczytna\"}'], ['{\"LOWER\": \"szeged\"}'], ['{\"LOWER\": \"szepietowo\"}'], ['{\"LOWER\": \"szlichtyngowa\"}'], ['{\"LOWER\": \"szprotawa\"}'], ['{\"LOWER\": \"sztum\"}'], ['{\"LOWER\": \"szubin\"}'], ['{\"LOWER\": \"szydłowiec\"}'], ['{\"LOWER\": \"szydłów\"}'], ['{\"LOWER\": \"székesfehérvár\"}'], ['{\"LOWER\": \"são\"}', '{\"LOWER\": \"bento\"}', '{\"LOWER\": \"do\"}', '{\"LOWER\": \"sapucaí\"}'], ['{\"LOWER\": \"são\"}', '{\"LOWER\": \"bernardo\"}', '{\"LOWER\": \"do\"}', '{\"LOWER\": \"campo\"}'], ['{\"LOWER\": \"são\"}', '{\"LOWER\": \"caetano\"}', '{\"LOWER\": \"do\"}', '{\"LOWER\": \"sul\"}'], ['{\"LOWER\": \"são\"}', '{\"LOWER\": \"carlos\"}'], ['{\"LOWER\": \"são\"}', '{\"LOWER\": \"domingos\"}'], ['{\"LOWER\": \"são\"}', '{\"LOWER\": \"filipe\"}'], ['{\"LOWER\": \"são\"}', '{\"LOWER\": \"francisco\"}', '{\"LOWER\": \",\"}', '{\"LOWER\": \"são\"}', '{\"LOWER\": \"paulo\"}'], ['{\"LOWER\": \"são\"}', '{\"LOWER\": \"joaquim\"}', '{\"LOWER\": \"da\"}', '{\"LOWER\": \"barra\"}'], ['{\"LOWER\": \"são\"}', '{\"LOWER\": \"josé\"}', '{\"LOWER\": \"da\"}', '{\"LOWER\": \"bela\"}', '{\"LOWER\": \"vista\"}'], ['{\"LOWER\": \"são\"}', '{\"LOWER\": \"josé\"}', '{\"LOWER\": \"do\"}', '{\"LOWER\": \"barreiro\"}'], ['{\"LOWER\": \"são\"}', '{\"LOWER\": \"josé\"}', '{\"LOWER\": \"do\"}', '{\"LOWER\": \"rio\"}', '{\"LOWER\": \"pardo\"}'], ['{\"LOWER\": \"são\"}', '{\"LOWER\": \"josé\"}', '{\"LOWER\": \"do\"}', '{\"LOWER\": \"rio\"}', '{\"LOWER\": \"preto\"}'], ['{\"LOWER\": \"são\"}', '{\"LOWER\": \"josé\"}', '{\"LOWER\": \"dos\"}', '{\"LOWER\": \"campos\"}'], ['{\"LOWER\": \"são\"}', '{\"LOWER\": \"joão\"}', '{\"LOWER\": \"da\"}', '{\"LOWER\": \"boa\"}', '{\"LOWER\": \"vista\"}'], ['{\"LOWER\": \"são\"}', '{\"LOWER\": \"joão\"}', '{\"LOWER\": \"das\"}', '{\"LOWER\": \"duas\"}', '{\"LOWER\": \"pontes\"}'], ['{\"LOWER\": \"são\"}', '{\"LOWER\": \"joão\"}', '{\"LOWER\": \"de\"}', '{\"LOWER\": \"iracema\"}'], ['{\"LOWER\": \"são\"}', '{\"LOWER\": \"joão\"}', '{\"LOWER\": \"do\"}', '{\"LOWER\": \"pau\"}', '{\"LOWER\": \"d\\'alho\"}'], ['{\"LOWER\": \"são\"}', '{\"LOWER\": \"lourenço\"}', '{\"LOWER\": \"da\"}', '{\"LOWER\": \"serra\"}'], ['{\"LOWER\": \"são\"}', '{\"LOWER\": \"luiz\"}', '{\"LOWER\": \"do\"}', '{\"LOWER\": \"paraitinga\"}'], ['{\"LOWER\": \"são\"}', '{\"LOWER\": \"luís\"}'], ['{\"LOWER\": \"são\"}', '{\"LOWER\": \"manuel\"}'], ['{\"LOWER\": \"são\"}', '{\"LOWER\": \"miguel\"}', '{\"LOWER\": \"arcanjo\"}'], ['{\"LOWER\": \"são\"}', '{\"LOWER\": \"paulo\"}'], ['{\"LOWER\": \"são\"}', '{\"LOWER\": \"pedro\"}', '{\"LOWER\": \"do\"}', '{\"LOWER\": \"turvo\"}'], ['{\"LOWER\": \"são\"}', '{\"LOWER\": \"pedro\"}', '{\"LOWER\": \",\"}', '{\"LOWER\": \"são\"}', '{\"LOWER\": \"paulo\"}'], ['{\"LOWER\": \"são\"}', '{\"LOWER\": \"roque\"}', '{\"LOWER\": \",\"}', '{\"LOWER\": \"são\"}', '{\"LOWER\": \"paulo\"}'], ['{\"LOWER\": \"são\"}', '{\"LOWER\": \"sebastião\"}', '{\"LOWER\": \"da\"}', '{\"LOWER\": \"grama\"}'], ['{\"LOWER\": \"são\"}', '{\"LOWER\": \"sebastião\"}', '{\"LOWER\": \",\"}', '{\"LOWER\": \"são\"}', '{\"LOWER\": \"paulo\"}'], ['{\"LOWER\": \"são\"}', '{\"LOWER\": \"tomé\"}'], ['{\"LOWER\": \"são\"}', '{\"LOWER\": \"vicente\"}'], ['{\"LOWER\": \"sébikotane\"}'], ['{\"LOWER\": \"sédhiou\"}'], ['{\"LOWER\": \"ségou\"}'], ['{\"LOWER\": \"séguéla\"}'], ['{\"LOWER\": \"sétif\"}'], ['{\"LOWER\": \"sîngerei\"}'], ['{\"LOWER\": \"sønderborg\"}'], ['{\"LOWER\": \"sükhbaatar\"}'], ['{\"LOWER\": \"sędziszów\"}'], ['{\"LOWER\": \"sędziszów\"}', '{\"LOWER\": \"małopolski\"}'], ['{\"LOWER\": \"sępopol\"}'], ['{\"LOWER\": \"sępólno\"}', '{\"LOWER\": \"krajeńskie\"}'], ['{\"LOWER\": \"sława\"}'], ['{\"LOWER\": \"słomniki\"}'], ['{\"LOWER\": \"słubice\"}'], ['{\"LOWER\": \"słupsk\"}'], ['{\"LOWER\": \"ta\\'if\"}'], ['{\"LOWER\": \"ta\\'izz\"}'], ['{\"LOWER\": \"taba\"}'], ['{\"LOWER\": \"tabacundo\"}'], ['{\"LOWER\": \"tabapuã\"}'], ['{\"LOWER\": \"tabarjal\"}'], ['{\"LOWER\": \"tabatinga\"}'], ['{\"LOWER\": \"tabligbo\"}'], ['{\"LOWER\": \"tabora\"}'], ['{\"LOWER\": \"taboão\"}', '{\"LOWER\": \"da\"}', '{\"LOWER\": \"serra\"}'], ['{\"LOWER\": \"tabubil\"}'], ['{\"LOWER\": \"tabuk\"}'], ['{\"LOWER\": \"taciba\"}'], ['{\"LOWER\": \"tacna\"}'], ['{\"LOWER\": \"tacotalpa\"}'], ['{\"LOWER\": \"tacuarembó\"}'], ['{\"LOWER\": \"tadjoura\"}'], ['{\"LOWER\": \"tadmur\"}'], ['{\"LOWER\": \"tafalla\"}'], ['{\"LOWER\": \"tafilah\"}'], ['{\"LOWER\": \"tafí\"}', '{\"LOWER\": \"viejo\"}'], ['{\"LOWER\": \"taguaí\"}'], ['{\"LOWER\": \"tahaundam\"}'], ['{\"LOWER\": \"taiaçu\"}'], ['{\"LOWER\": \"taichung\"}'], ['{\"LOWER\": \"tainan\"}'], ['{\"LOWER\": \"taipei\"}'], ['{\"LOWER\": \"taitung\"}', '{\"LOWER\": \"city\"}'], ['{\"LOWER\": \"taiúva\"}'], ['{\"LOWER\": \"tajynsha\"}'], ['{\"LOWER\": \"takamatsu\"}'], ['{\"LOWER\": \"takéo\"}'], ['{\"LOWER\": \"tal\"}', '{\"LOWER\": \"afar\"}'], ['{\"LOWER\": \"tala\"}'], ['{\"LOWER\": \"talanga\"}'], ['{\"LOWER\": \"talara\"}'], ['{\"LOWER\": \"talas\"}'], ['{\"LOWER\": \"talavera\"}', '{\"LOWER\": \"de\"}', '{\"LOWER\": \"la\"}', '{\"LOWER\": \"reina\"}'], ['{\"LOWER\": \"taldykorgan\"}'], ['{\"LOWER\": \"talesh\"}'], ['{\"LOWER\": \"talgar\"}'], ['{\"LOWER\": \"talkalakh\"}'], ['{\"LOWER\": \"talkha\"}'], ['{\"LOWER\": \"tallinn\"}'], ['{\"LOWER\": \"taloqan\"}'], ['{\"LOWER\": \"talwandi\"}', '{\"LOWER\": \"bhindran\"}'], ['{\"LOWER\": \"tamale\"}'], ['{\"LOWER\": \"tamanrasset\"}'], ['{\"LOWER\": \"tambacounda\"}'], ['{\"LOWER\": \"tambaú\"}'], ['{\"LOWER\": \"tamra\"}'], ['{\"LOWER\": \"tamralipta\"}'], ['{\"LOWER\": \"tamworth\"}'], ['{\"LOWER\": \"tan\"}', '{\"LOWER\": \"tan\"}'], ['{\"LOWER\": \"tanabi\"}'], ['{\"LOWER\": \"tanah\"}', '{\"LOWER\": \"rata\"}'], ['{\"LOWER\": \"tando\"}', '{\"LOWER\": \"allahyar\"}'], ['{\"LOWER\": \"tanga\"}'], ['{\"LOWER\": \"tangalle\"}'], ['{\"LOWER\": \"tangier\"}'], ['{\"LOWER\": \"tangin\"}', '{\"LOWER\": \"dassouri\"}'], ['{\"LOWER\": \"tanjung\"}', '{\"LOWER\": \"batu\"}'], ['{\"LOWER\": \"tank\"}'], ['{\"LOWER\": \"tansen\"}'], ['{\"LOWER\": \"tanta\"}'], ['{\"LOWER\": \"taounate\"}'], ['{\"LOWER\": \"taourirt\"}'], ['{\"LOWER\": \"taoyuan\"}', '{\"LOWER\": \"city\"}'], ['{\"LOWER\": \"tapachula\"}'], ['{\"LOWER\": \"tapah\"}'], ['{\"LOWER\": \"tapiratiba\"}'], ['{\"LOWER\": \"tapiraí\"}'], ['{\"LOWER\": \"taposiris\"}', '{\"LOWER\": \"magna\"}'], ['{\"LOWER\": \"taqtaq\"}'], ['{\"LOWER\": \"taquaral\"}'], ['{\"LOWER\": \"taquaritinga\"}'], ['{\"LOWER\": \"taquarituba\"}'], ['{\"LOWER\": \"taquarivaí\"}'], ['{\"LOWER\": \"tarabai\"}'], ['{\"LOWER\": \"tarabo\"}'], ['{\"LOWER\": \"tarabuco\"}'], ['{\"LOWER\": \"taraclia\"}'], ['{\"LOWER\": \"tarakeshwor\"}'], ['{\"LOWER\": \"taranto\"}'], ['{\"LOWER\": \"tarapoto\"}'], ['{\"LOWER\": \"tarata\"}'], ['{\"LOWER\": \"tarczyn\"}'], ['{\"LOWER\": \"taree\"}'], ['{\"LOWER\": \"targovishte\"}'], ['{\"LOWER\": \"tarhuna\"}'], ['{\"LOWER\": \"tari\"}'], ['{\"LOWER\": \"tarija\"}'], ['{\"LOWER\": \"tarim\"}'], ['{\"LOWER\": \"tarma\"}'], ['{\"LOWER\": \"tarnobrzeg\"}'], ['{\"LOWER\": \"tarnogród\"}'], ['{\"LOWER\": \"taroudant\"}'], ['{\"LOWER\": \"tarqumiyah\"}'], ['{\"LOWER\": \"tarragona\"}'], ['{\"LOWER\": \"tarsus\"}'], ['{\"LOWER\": \"tartagal\"}'], ['{\"LOWER\": \"tartar\"}'], ['{\"LOWER\": \"tartus\"}'], ['{\"LOWER\": \"tarumã\"}'], ['{\"LOWER\": \"tarun\"}', '{\"LOWER\": \"bazaar\"}'], ['{\"LOWER\": \"tashkent\"}'], ['{\"LOWER\": \"tashkömür\"}'], ['{\"LOWER\": \"tasiilaq\"}'], ['{\"LOWER\": \"tatların\"}'], ['{\"LOWER\": \"tatuí\"}'], ['{\"LOWER\": \"taubaté\"}'], ['{\"LOWER\": \"taunggyi\"}'], ['{\"LOWER\": \"tauragė\"}'], ['{\"LOWER\": \"tauranga\"}'], ['{\"LOWER\": \"tauresium\"}'], ['{\"LOWER\": \"tawau\"}'], ['{\"LOWER\": \"tawella\"}'], ['{\"LOWER\": \"taxco\"}'], ['{\"LOWER\": \"tayabamba\"}'], ['{\"LOWER\": \"tayibe\"}'], ['{\"LOWER\": \"taza\"}'], ['{\"LOWER\": \"taşucu\"}'], ['{\"LOWER\": \"tbilisi\"}'], ['{\"LOWER\": \"tchibanga\"}'], ['{\"LOWER\": \"te\"}', '{\"LOWER\": \"haroto\"}'], ['{\"LOWER\": \"teaoraereke\"}'], ['{\"LOWER\": \"tecpán\"}', '{\"LOWER\": \"de\"}', '{\"LOWER\": \"galeana\"}'], ['{\"LOWER\": \"tegucigalpa\"}'], ['{\"LOWER\": \"tejo\"}'], ['{\"LOWER\": \"tejupá\"}'], ['{\"LOWER\": \"tekeli\"}'], ['{\"LOWER\": \"tekirdağ\"}'], ['{\"LOWER\": \"tel\"}', '{\"LOWER\": \"aviv\"}'], ['{\"LOWER\": \"tel\"}', '{\"LOWER\": \"dor\"}'], ['{\"LOWER\": \"tela\"}'], ['{\"LOWER\": \"telavi\"}'], ['{\"LOWER\": \"telefomin\"}'], ['{\"LOWER\": \"telenești\"}'], ['{\"LOWER\": \"tell\"}', '{\"LOWER\": \"abyad\"}'], ['{\"LOWER\": \"tellenae\"}'], ['{\"LOWER\": \"teluk\"}', '{\"LOWER\": \"air\"}', '{\"LOWER\": \"tawar\"}'], ['{\"LOWER\": \"teluk\"}', '{\"LOWER\": \"kumbar\"}'], ['{\"LOWER\": \"telšiai\"}'], ['{\"LOWER\": \"temara\"}'], ['{\"LOWER\": \"temesa\"}'], ['{\"LOWER\": \"temperley\"}'], ['{\"LOWER\": \"temsia\"}'], ['{\"LOWER\": \"tena\"}'], ['{\"LOWER\": \"tenosique\"}'], ['{\"LOWER\": \"tenta\"}'], ['{\"LOWER\": \"tentena\"}'], ['{\"LOWER\": \"teodoro\"}', '{\"LOWER\": \"sampaio\"}'], ['{\"LOWER\": \"tepezalá\"}'], ['{\"LOWER\": \"tepi\"}'], ['{\"LOWER\": \"tepic\"}'], ['{\"LOWER\": \"teplice\"}'], ['{\"LOWER\": \"tepoztlán\"}'], ['{\"LOWER\": \"terjola\"}'], ['{\"LOWER\": \"termas\"}', '{\"LOWER\": \"de\"}', '{\"LOWER\": \"río\"}', '{\"LOWER\": \"hondo\"}'], ['{\"LOWER\": \"termez\"}'], ['{\"LOWER\": \"terni\"}'], ['{\"LOWER\": \"terra\"}', '{\"LOWER\": \"roxa\"}'], ['{\"LOWER\": \"terrace\"}'], ['{\"LOWER\": \"teruel\"}'], ['{\"LOWER\": \"tervel\"}'], ['{\"LOWER\": \"teseney\"}'], ['{\"LOWER\": \"tete\"}'], ['{\"LOWER\": \"tetovo\"}'], ['{\"LOWER\": \"tetri\"}', '{\"LOWER\": \"tsqaro\"}'], ['{\"LOWER\": \"teyateyaneng\"}'], ['{\"LOWER\": \"thaba\"}', '{\"LOWER\": \"tseka\"}'], ['{\"LOWER\": \"thakhek\"}'], ['{\"LOWER\": \"thamaga\"}'], ['{\"LOWER\": \"thames\"}'], ['{\"LOWER\": \"thana\"}', '{\"LOWER\": \"khurd\"}', '{\"LOWER\": \",\"}', '{\"LOWER\": \"haryana\"}'], ['{\"LOWER\": \"thane\"}'], ['{\"LOWER\": \"thatta\"}'], ['{\"LOWER\": \"the\"}', '{\"LOWER\": \"gateway\"}', '{\"LOWER\": \"of\"}', '{\"LOWER\": \"gulmarg\"}'], ['{\"LOWER\": \"the\"}', '{\"LOWER\": \"hague\"}'], ['{\"LOWER\": \"the\"}', '{\"LOWER\": \"valley\"}'], ['{\"LOWER\": \"theangela\"}'], ['{\"LOWER\": \"thebes\"}'], ['{\"LOWER\": \"thermi\"}'], ['{\"LOWER\": \"thessaloniki\"}'], ['{\"LOWER\": \"thiadiaye\"}'], ['{\"LOWER\": \"thila\"}'], ['{\"LOWER\": \"thilogne\"}'], ['{\"LOWER\": \"thimphu\"}'], ['{\"LOWER\": \"thiruvananthapuram\"}'], ['{\"LOWER\": \"thiruvarur\"}'], ['{\"LOWER\": \"thisted\"}'], ['{\"LOWER\": \"thiès\"}'], ['{\"LOWER\": \"thmuis\"}'], ['{\"LOWER\": \"thompson\"}'], ['{\"LOWER\": \"thoothukudi\"}'], ['{\"LOWER\": \"thrissur\"}'], ['{\"LOWER\": \"thunder\"}', '{\"LOWER\": \"bay\"}'], ['{\"LOWER\": \"thurii\"}'], ['{\"LOWER\": \"thyatira\"}'], ['{\"LOWER\": \"thyolo\"}'], ['{\"LOWER\": \"tianjing\"}'], ['{\"LOWER\": \"tiaret\"}'], ['{\"LOWER\": \"tibati\"}'], ['{\"LOWER\": \"tiberias\"}'], ['{\"LOWER\": \"tibula\"}'], ['{\"LOWER\": \"ticinum\"}'], ['{\"LOWER\": \"tiefo\"}'], ['{\"LOWER\": \"tienen\"}'], ['{\"LOWER\": \"tieningboué\"}'], ['{\"LOWER\": \"tientsin\"}'], ['{\"LOWER\": \"tietê\"}'], ['{\"LOWER\": \"tifernum\"}', '{\"LOWER\": \"metaurense\"}'], ['{\"LOWER\": \"tiflet\"}'], ['{\"LOWER\": \"tifsa\"}'], ['{\"LOWER\": \"tijuana\"}'], ['{\"LOWER\": \"tikapur\"}'], ['{\"LOWER\": \"tiko\"}'], ['{\"LOWER\": \"tikrit\"}'], ['{\"LOWER\": \"tilburg\"}'], ['{\"LOWER\": \"tima\"}'], ['{\"LOWER\": \"timbuktu\"}'], ['{\"LOWER\": \"timburi\"}'], ['{\"LOWER\": \"timergara\"}'], ['{\"LOWER\": \"timmins\"}'], ['{\"LOWER\": \"tinaquillo\"}'], ['{\"LOWER\": \"tinchlik\"}'], ['{\"LOWER\": \"tingo\"}', '{\"LOWER\": \"maría\"}'], ['{\"LOWER\": \"tinsukia\"}'], ['{\"LOWER\": \"tiquipaya\"}'], ['{\"LOWER\": \"tiquipaya\"}', '{\"LOWER\": \",\"}', '{\"LOWER\": \"santa\"}', '{\"LOWER\": \"cruz\"}'], ['{\"LOWER\": \"tira\"}'], ['{\"LOWER\": \"tirana\"}'], ['{\"LOWER\": \"tiraque\"}'], ['{\"LOWER\": \"tiraspolul\"}', '{\"LOWER\": \"nou\"}'], ['{\"LOWER\": \"tirat\"}', '{\"LOWER\": \"carmel\"}'], ['{\"LOWER\": \"tire\"}'], ['{\"LOWER\": \"tirunelveli\"}'], ['{\"LOWER\": \"tirupur\"}'], ['{\"LOWER\": \"tissemsilt\"}'], ['{\"LOWER\": \"tivaouane\"}'], ['{\"LOWER\": \"tivat\"}'], ['{\"LOWER\": \"tišina\"}'], ['{\"LOWER\": \"tkibuli\"}'], ['{\"LOWER\": \"tkvarcheli\"}'], ['{\"LOWER\": \"tlajomulco\"}', '{\"LOWER\": \"de\"}', '{\"LOWER\": \"zuñiga\"}'], ['{\"LOWER\": \"tlalixtaquilla\"}'], ['{\"LOWER\": \"tlaltenango\"}', '{\"LOWER\": \"de\"}', '{\"LOWER\": \"sánchez\"}', '{\"LOWER\": \"román\"}'], ['{\"LOWER\": \"tlaquepaque\"}'], ['{\"LOWER\": \"tlaxcala\"}'], ['{\"LOWER\": \"tlaxco\"}'], ['{\"LOWER\": \"tlemcen\"}'], ['{\"LOWER\": \"toamasina\"}'], ['{\"LOWER\": \"toba\"}', '{\"LOWER\": \"tek\"}', '{\"LOWER\": \"singh\"}'], ['{\"LOWER\": \"tobruk\"}'], ['{\"LOWER\": \"tocache\"}'], ['{\"LOWER\": \"tocantins\"}'], ['{\"LOWER\": \"tocoa\"}'], ['{\"LOWER\": \"tocuyito\"}'], ['{\"LOWER\": \"tokat\"}'], ['{\"LOWER\": \"tokha\"}'], ['{\"LOWER\": \"tokmok\"}'], ['{\"LOWER\": \"tokyo\"}'], ['{\"LOWER\": \"toliara\"}'], ['{\"LOWER\": \"tolkmicko\"}'], ['{\"LOWER\": \"toluca\"}'], ['{\"LOWER\": \"tombos\"}'], ['{\"LOWER\": \"tomoi\"}'], ['{\"LOWER\": \"tongeren\"}'], ['{\"LOWER\": \"tongwan\"}'], ['{\"LOWER\": \"topolovgrad\"}'], ['{\"LOWER\": \"toprakkale\"}'], ['{\"LOWER\": \"torit\"}'], ['{\"LOWER\": \"tornio\"}'], ['{\"LOWER\": \"tornquist\"}'], ['{\"LOWER\": \"toronto\"}'], ['{\"LOWER\": \"tororo\"}'], ['{\"LOWER\": \"torre\"}', '{\"LOWER\": \"de\"}', '{\"LOWER\": \"pedra\"}'], ['{\"LOWER\": \"torrelavega\"}'], ['{\"LOWER\": \"torreón\"}'], ['{\"LOWER\": \"torrinha\"}'], ['{\"LOWER\": \"tortuguitas\"}'], ['{\"LOWER\": \"toruń\"}'], ['{\"LOWER\": \"torzym\"}'], ['{\"LOWER\": \"toszek\"}'], ['{\"LOWER\": \"totonicapán\"}'], ['{\"LOWER\": \"tottori\"}'], ['{\"LOWER\": \"touba\"}'], ['{\"LOWER\": \"touba\"}', '{\"LOWER\": \",\"}', '{\"LOWER\": \"senegal\"}'], ['{\"LOWER\": \"touggourt\"}'], ['{\"LOWER\": \"touissit\"}'], ['{\"LOWER\": \"tourcoing\"}'], ['{\"LOWER\": \"tournai\"}'], ['{\"LOWER\": \"tovar\"}'], ['{\"LOWER\": \"tovuz\"}'], ['{\"LOWER\": \"townsville\"}'], ['{\"LOWER\": \"to‘rtko‘l\"}'], ['{\"LOWER\": \"trabiju\"}'], ['{\"LOWER\": \"trabzon\"}'], ['{\"LOWER\": \"tragilius\"}'], ['{\"LOWER\": \"traianoupoli\"}'], ['{\"LOWER\": \"trakai\"}'], ['{\"LOWER\": \"tralleis\"}'], ['{\"LOWER\": \"tralles\"}'], ['{\"LOWER\": \"tranqueras\"}'], ['{\"LOWER\": \"traralgon\"}'], ['{\"LOWER\": \"trashigang\"}'], ['{\"LOWER\": \"trastenik\"}'], ['{\"LOWER\": \"trebinje\"}'], ['{\"LOWER\": \"trebnje\"}'], ['{\"LOWER\": \"trebujena\"}'], ['{\"LOWER\": \"treinta\"}', '{\"LOWER\": \"y\"}', '{\"LOWER\": \"tres\"}'], ['{\"LOWER\": \"trelew\"}'], ['{\"LOWER\": \"tremembé\"}'], ['{\"LOWER\": \"trenque\"}', '{\"LOWER\": \"lauquen\"}'], ['{\"LOWER\": \"trento\"}'], ['{\"LOWER\": \"trenčín\"}'], ['{\"LOWER\": \"tres\"}', '{\"LOWER\": \"arroyos\"}'], ['{\"LOWER\": \"treviso\"}'], ['{\"LOWER\": \"trichy\"}'], ['{\"LOWER\": \"tridentum\"}'], ['{\"LOWER\": \"trier\"}'], ['{\"LOWER\": \"trieste\"}'], ['{\"LOWER\": \"trikala\"}'], ['{\"LOWER\": \"trincomalee\"}'], ['{\"LOWER\": \"trindade\"}'], ['{\"LOWER\": \"trinidad\"}'], ['{\"LOWER\": \"triocala\"}'], ['{\"LOWER\": \"triolet\"}', '{\"LOWER\": \",\"}', '{\"LOWER\": \"mauritius\"}'], ['{\"LOWER\": \"triopium\"}'], ['{\"LOWER\": \"tripoli\"}'], ['{\"LOWER\": \"triunfo\"}'], ['{\"LOWER\": \"triyuga\"}'], ['{\"LOWER\": \"trnava\"}'], ['{\"LOWER\": \"tromsø\"}'], ['{\"LOWER\": \"trondheim\"}'], ['{\"LOWER\": \"trongsa\"}'], ['{\"LOWER\": \"troyan\"}'], ['{\"LOWER\": \"troškūnai\"}'], ['{\"LOWER\": \"truckton\"}'], ['{\"LOWER\": \"true\"}', '{\"LOWER\": \"blue\"}'], ['{\"LOWER\": \"trujillo\"}'], ['{\"LOWER\": \"truro\"}'], ['{\"LOWER\": \"tryavna\"}'], ['{\"LOWER\": \"trysa\"}'], ['{\"LOWER\": \"trzcianka\"}'], ['{\"LOWER\": \"trzciel\"}'], ['{\"LOWER\": \"trzcińsko\"}', '{\"LOWER\": \"zdrój\"}'], ['{\"LOWER\": \"trzebiatów\"}'], ['{\"LOWER\": \"trzebinia\"}'], ['{\"LOWER\": \"trzebnica\"}'], ['{\"LOWER\": \"trzemeszno\"}'], ['{\"LOWER\": \"três\"}', '{\"LOWER\": \"corações\"}'], ['{\"LOWER\": \"três\"}', '{\"LOWER\": \"fronteiras\"}'], ['{\"LOWER\": \"tsageri\"}'], ['{\"LOWER\": \"tsalenjikha\"}'], ['{\"LOWER\": \"tsalka\"}'], ['{\"LOWER\": \"tsar\"}', '{\"LOWER\": \"kaloyan\"}', '{\"LOWER\": \",\"}', '{\"LOWER\": \"razgrad\"}', '{\"LOWER\": \"province\"}'], ['{\"LOWER\": \"tsarevo\"}'], ['{\"LOWER\": \"tsetserleg\"}'], ['{\"LOWER\": \"tshabong\"}'], ['{\"LOWER\": \"tsiroanomandidy\"}'], ['{\"LOWER\": \"tskhinvali\"}'], ['{\"LOWER\": \"tsnori\"}'], ['{\"LOWER\": \"tsqaltubo\"}'], ['{\"LOWER\": \"tsukuba\"}'], ['{\"LOWER\": \"tsumeb\"}'], ['{\"LOWER\": \"tuaran\"}'], ['{\"LOWER\": \"tubarão\"}'], ['{\"LOWER\": \"tubas\"}'], ['{\"LOWER\": \"tuchola\"}'], ['{\"LOWER\": \"tuchów\"}'], ['{\"LOWER\": \"tucupita\"}'], ['{\"LOWER\": \"tuczno\"}'], ['{\"LOWER\": \"tudela\"}'], ['{\"LOWER\": \"tuiuti\"}'], ['{\"LOWER\": \"tukuyu\"}'], ['{\"LOWER\": \"tulcán\"}'], ['{\"LOWER\": \"tuliszków\"}'], ['{\"LOWER\": \"tulkarm\"}'], ['{\"LOWER\": \"tulsipur\"}'], ['{\"LOWER\": \"tultepec\"}'], ['{\"LOWER\": \"tultitlán\"}', '{\"LOWER\": \"de\"}', '{\"LOWER\": \"mariano\"}', '{\"LOWER\": \"escobedo\"}'], ['{\"LOWER\": \"tumbes\"}'], ['{\"LOWER\": \"tumbura\"}'], ['{\"LOWER\": \"tumkur\"}'], ['{\"LOWER\": \"tumpat\"}'], ['{\"LOWER\": \"tunceli\"}'], ['{\"LOWER\": \"tunuyán\"}'], ['{\"LOWER\": \"tupambaé\"}'], ['{\"LOWER\": \"tupi\"}', '{\"LOWER\": \"paulista\"}'], ['{\"LOWER\": \"tupiza\"}'], ['{\"LOWER\": \"tupã\"}'], ['{\"LOWER\": \"turgutalp\"}'], ['{\"LOWER\": \"turin\"}'], ['{\"LOWER\": \"turiúba\"}'], ['{\"LOWER\": \"turki\"}'], ['{\"LOWER\": \"turkistan\"}'], ['{\"LOWER\": \"turmalina\"}'], ['{\"LOWER\": \"turmero\"}'], ['{\"LOWER\": \"turmi\"}'], ['{\"LOWER\": \"turnacum\"}'], ['{\"LOWER\": \"tursunzoda\"}'], ['{\"LOWER\": \"turunçova\"}'], ['{\"LOWER\": \"tuszyn\"}'], ['{\"LOWER\": \"tutin\"}'], ['{\"LOWER\": \"tutrakan\"}'], ['{\"LOWER\": \"tutume\"}'], ['{\"LOWER\": \"tuxpan\"}'], ['{\"LOWER\": \"tuz\"}', '{\"LOWER\": \"khormato\"}'], ['{\"LOWER\": \"tuzla\"}'], ['{\"LOWER\": \"tuzla\"}', '{\"LOWER\": \"city\"}'], ['{\"LOWER\": \"tułowice\"}', '{\"LOWER\": \",\"}', '{\"LOWER\": \"opole\"}', '{\"LOWER\": \"voivodeship\"}'], ['{\"LOWER\": \"tvedestrand\"}'], ['{\"LOWER\": \"twardogóra\"}'], ['{\"LOWER\": \"tychowo\"}'], ['{\"LOWER\": \"tychy\"}'], ['{\"LOWER\": \"tyczyn\"}'], ['{\"LOWER\": \"tykocin\"}'], ['{\"LOWER\": \"tyre\"}'], ['{\"LOWER\": \"tyrnavos\"}'], ['{\"LOWER\": \"tyszowce\"}'], ['{\"LOWER\": \"tytuvėnai\"}'], ['{\"LOWER\": \"tálknafjörður\"}'], ['{\"LOWER\": \"táriba\"}'], ['{\"LOWER\": \"tébessa\"}'], ['{\"LOWER\": \"tétouan\"}'], ['{\"LOWER\": \"tôlanaro\"}'], ['{\"LOWER\": \"tômbwa\"}'], ['{\"LOWER\": \"tömük\"}'], ['{\"LOWER\": \"tønsberg\"}'], ['{\"LOWER\": \"türkmenabat\"}'], ['{\"LOWER\": \"tłuszcz\"}'], ['{\"LOWER\": \"ubarana\"}'], ['{\"LOWER\": \"ubatuba\"}'], ['{\"LOWER\": \"uberaba\"}'], ['{\"LOWER\": \"uberlândia\"}'], ['{\"LOWER\": \"ubirajara\"}'], ['{\"LOWER\": \"ubundu\"}'], ['{\"LOWER\": \"ubá\"}'], ['{\"LOWER\": \"uchkuduk\"}'], ['{\"LOWER\": \"uchoa\"}'], ['{\"LOWER\": \"ucureña\"}'], ['{\"LOWER\": \"udhampur\"}'], ['{\"LOWER\": \"udine\"}'], ['{\"LOWER\": \"udong\"}'], ['{\"LOWER\": \"udu\"}', '{\"LOWER\": \",\"}', '{\"LOWER\": \"nigeria\"}'], ['{\"LOWER\": \"udupi\"}'], ['{\"LOWER\": \"ugarchin\"}'], ['{\"LOWER\": \"ujazd\"}'], ['{\"LOWER\": \"ujiji\"}'], ['{\"LOWER\": \"ujjain\"}'], ['{\"LOWER\": \"ujście\"}'], ['{\"LOWER\": \"ukbara\"}'], ['{\"LOWER\": \"ukmergė\"}'], ['{\"LOWER\": \"ulaangom\"}'], ['{\"LOWER\": \"ulanów\"}'], ['{\"LOWER\": \"ulcinj\"}'], ['{\"LOWER\": \"ulhasnagar\"}'], ['{\"LOWER\": \"uliastai\"}'], ['{\"LOWER\": \"uljin\"}'], ['{\"LOWER\": \"ulm\"}'], ['{\"LOWER\": \"ulvila\"}'], ['{\"LOWER\": \"umeå\"}'], ['{\"LOWER\": \"umm\"}', '{\"LOWER\": \"al\"}', '{\"LOWER\": \"fahm\"}'], ['{\"LOWER\": \"umm\"}', '{\"LOWER\": \"qasr\"}'], ['{\"LOWER\": \"umuahia\"}'], ['{\"LOWER\": \"umurlu\"}'], ['{\"LOWER\": \"unaizah\"}'], ['{\"LOWER\": \"ungheni\"}'], ['{\"LOWER\": \"uniejów\"}'], ['{\"LOWER\": \"unwana\"}', '{\"LOWER\": \"city\"}'], ['{\"LOWER\": \"upalavi\"}'], ['{\"LOWER\": \"upernavik\"}'], ['{\"LOWER\": \"upper\"}', '{\"LOWER\": \"bayang\"}'], ['{\"LOWER\": \"upper\"}', '{\"LOWER\": \"hutt\"}'], ['{\"LOWER\": \"uppsala\"}'], ['{\"LOWER\": \"ur\"}', '{\"LOWER\": \"kaśdim\"}'], ['{\"LOWER\": \"urawa\"}'], ['{\"LOWER\": \"urbano\"}', '{\"LOWER\": \"noris\"}'], ['{\"LOWER\": \"urbino\"}'], ['{\"LOWER\": \"urcos\"}'], ['{\"LOWER\": \"ureña\"}'], ['{\"LOWER\": \"urgench\"}'], ['{\"LOWER\": \"urgut\"}'], ['{\"LOWER\": \"uruapan\"}'], ['{\"LOWER\": \"urubamba\"}'], ['{\"LOWER\": \"urzędów\"}'], ['{\"LOWER\": \"urë\"}', '{\"LOWER\": \"vajgurore\"}'], ['{\"LOWER\": \"usakos\"}'], ['{\"LOWER\": \"uscana\"}'], ['{\"LOWER\": \"ushuaia\"}'], ['{\"LOWER\": \"usta\"}', '{\"LOWER\": \"mohammad\"}'], ['{\"LOWER\": \"ustrzyki\"}', '{\"LOWER\": \"dolne\"}'], ['{\"LOWER\": \"usulután\"}'], ['{\"LOWER\": \"utena\"}'], ['{\"LOWER\": \"utrecht\"}'], ['{\"LOWER\": \"uummannaq\"}'], ['{\"LOWER\": \"uusikaupunki\"}'], ['{\"LOWER\": \"uvira\"}'], ['{\"LOWER\": \"uychi\"}'], ['{\"LOWER\": \"uyuni\"}'], ['{\"LOWER\": \"uzgen\"}'], ['{\"LOWER\": \"uşak\"}'], ['{\"LOWER\": \"užventis\"}'], ['{\"LOWER\": \"v.s.k.valasai\"}'], ['{\"LOWER\": \"vaasa\"}'], ['{\"LOWER\": \"vabalninkas\"}'], ['{\"LOWER\": \"vabkent\"}'], ['{\"LOWER\": \"vadamalapuram\"}'], ['{\"LOWER\": \"vadodara\"}'], ['{\"LOWER\": \"vahdat\"}'], ['{\"LOWER\": \"val\"}', '{\"LOWER\": \"d\\'or\"}', '{\"LOWER\": \",\"}', '{\"LOWER\": \"penang\"}'], ['{\"LOWER\": \"valandovo\"}'], ['{\"LOWER\": \"valchedram\"}'], ['{\"LOWER\": \"valchi\"}', '{\"LOWER\": \"dol\"}'], ['{\"LOWER\": \"valderrama\"}'], ['{\"LOWER\": \"vale\"}'], ['{\"LOWER\": \"valencia\"}'], ['{\"LOWER\": \"valentín\"}', '{\"LOWER\": \"alsina\"}'], ['{\"LOWER\": \"valera\"}'], ['{\"LOWER\": \"valinhos\"}'], ['{\"LOWER\": \"valkeakoski\"}'], ['{\"LOWER\": \"valladolid\"}'], ['{\"LOWER\": \"valle\"}', '{\"LOWER\": \"de\"}', '{\"LOWER\": \"la\"}', '{\"LOWER\": \"pascua\"}'], ['{\"LOWER\": \"valledupar\"}'], ['{\"LOWER\": \"vallegrande\"}'], ['{\"LOWER\": \"valley\"}', '{\"LOWER\": \"of\"}', '{\"LOWER\": \"the\"}', '{\"LOWER\": \"chillos\"}'], ['{\"LOWER\": \"valsad\"}'], ['{\"LOWER\": \"van\"}'], ['{\"LOWER\": \"vandavasi\"}'], ['{\"LOWER\": \"vantaa\"}'], ['{\"LOWER\": \"varadero\"}'], ['{\"LOWER\": \"varanasi\"}'], ['{\"LOWER\": \"varde\"}'], ['{\"LOWER\": \"varese\"}'], ['{\"LOWER\": \"varia\"}'], ['{\"LOWER\": \"varkaus\"}'], ['{\"LOWER\": \"varna\"}'], ['{\"LOWER\": \"varniai\"}'], ['{\"LOWER\": \"varshets\"}'], ['{\"LOWER\": \"varėna\"}'], ['{\"LOWER\": \"vasai\"}', '{\"LOWER\": \"virar\"}'], ['{\"LOWER\": \"vaughan\"}'], ['{\"LOWER\": \"veii\"}'], ['{\"LOWER\": \"veisiejai\"}'], ['{\"LOWER\": \"vejle\"}'], ['{\"LOWER\": \"velenje\"}'], ['{\"LOWER\": \"veles\"}'], ['{\"LOWER\": \"veliko\"}', '{\"LOWER\": \"tarnovo\"}'], ['{\"LOWER\": \"velimeşe\"}'], ['{\"LOWER\": \"velingrad\"}'], ['{\"LOWER\": \"velká\"}', '{\"LOWER\": \"olomouc\"}'], ['{\"LOWER\": \"venado\"}', '{\"LOWER\": \"tuerto\"}'], ['{\"LOWER\": \"venice\"}'], ['{\"LOWER\": \"venlo\"}'], ['{\"LOWER\": \"venta\"}'], ['{\"LOWER\": \"ventanas\"}'], ['{\"LOWER\": \"vera\"}'], ['{\"LOWER\": \"vergara\"}'], ['{\"LOWER\": \"vernon\"}'], ['{\"LOWER\": \"veroia\"}'], ['{\"LOWER\": \"verona\"}'], ['{\"LOWER\": \"vertientes\"}'], ['{\"LOWER\": \"verviers\"}'], ['{\"LOWER\": \"vescia\"}'], ['{\"LOWER\": \"vetovo\"}'], ['{\"LOWER\": \"vetren\"}', '{\"LOWER\": \",\"}', '{\"LOWER\": \"pazardzhik\"}', '{\"LOWER\": \"province\"}'], ['{\"LOWER\": \"viacha\"}'], ['{\"LOWER\": \"viana\"}'], ['{\"LOWER\": \"vianden\"}'], ['{\"LOWER\": \"viborg\"}'], ['{\"LOWER\": \"vicente\"}', '{\"LOWER\": \"guerrero\"}'], ['{\"LOWER\": \"vicenza\"}'], ['{\"LOWER\": \"vicina\"}'], ['{\"LOWER\": \"victor\"}', '{\"LOWER\": \"harbor\"}'], ['{\"LOWER\": \"victoria\"}'], ['{\"LOWER\": \"victoria\"}', '{\"LOWER\": \"falls\"}'], ['{\"LOWER\": \"victoria\"}', '{\"LOWER\": \",\"}', '{\"LOWER\": \"buenos\"}', '{\"LOWER\": \"aires\"}'], ['{\"LOWER\": \"vidin\"}'], ['{\"LOWER\": \"vidisha\"}'], ['{\"LOWER\": \"viedma\"}'], ['{\"LOWER\": \"viekšniai\"}'], ['{\"LOWER\": \"vienna\"}'], ['{\"LOWER\": \"vientiane\"}'], ['{\"LOWER\": \"vigo\"}'], ['{\"LOWER\": \"viitasaari\"}'], ['{\"LOWER\": \"vila\"}', '{\"LOWER\": \"de\"}', '{\"LOWER\": \"sena\"}'], ['{\"LOWER\": \"vila\"}', '{\"LOWER\": \"real\"}'], ['{\"LOWER\": \"vila\"}', '{\"LOWER\": \"velha\"}'], ['{\"LOWER\": \"vilankulo\"}'], ['{\"LOWER\": \"vilcashuamán\"}', '{\"LOWER\": \"(\"}', '{\"LOWER\": \"provincial\"}', '{\"LOWER\": \"capital\"}', '{\"LOWER\": \")\"}'], ['{\"LOWER\": \"vilkaviškis\"}'], ['{\"LOWER\": \"vilkija\"}'], ['{\"LOWER\": \"villa\"}', '{\"LOWER\": \"adelina\"}'], ['{\"LOWER\": \"villa\"}', '{\"LOWER\": \"ballester\"}'], ['{\"LOWER\": \"villa\"}', '{\"LOWER\": \"carlos\"}', '{\"LOWER\": \"paz\"}'], ['{\"LOWER\": \"villa\"}', '{\"LOWER\": \"celina\"}'], ['{\"LOWER\": \"villa\"}', '{\"LOWER\": \"centenario\"}'], ['{\"LOWER\": \"villa\"}', '{\"LOWER\": \"constitución\"}'], ['{\"LOWER\": \"villa\"}', '{\"LOWER\": \"de\"}', '{\"LOWER\": \"mayo\"}'], ['{\"LOWER\": \"villa\"}', '{\"LOWER\": \"dolores\"}'], ['{\"LOWER\": \"villa\"}', '{\"LOWER\": \"domínico\"}'], ['{\"LOWER\": \"villa\"}', '{\"LOWER\": \"fiorito\"}'], ['{\"LOWER\": \"villa\"}', '{\"LOWER\": \"gobernador\"}', '{\"LOWER\": \"gálvez\"}'], ['{\"LOWER\": \"villa\"}', '{\"LOWER\": \"jesús\"}', '{\"LOWER\": \"maría\"}'], ['{\"LOWER\": \"villa\"}', '{\"LOWER\": \"krause\"}'], ['{\"LOWER\": \"villa\"}', '{\"LOWER\": \"luzuriaga\"}'], ['{\"LOWER\": \"villa\"}', '{\"LOWER\": \"mariano\"}', '{\"LOWER\": \"matamoros\"}'], ['{\"LOWER\": \"villa\"}', '{\"LOWER\": \"maría\"}'], ['{\"LOWER\": \"villa\"}', '{\"LOWER\": \"mercedes\"}'], ['{\"LOWER\": \"villa\"}', '{\"LOWER\": \"salvación\"}'], ['{\"LOWER\": \"villa\"}', '{\"LOWER\": \"serrano\"}'], ['{\"LOWER\": \"villa\"}', '{\"LOWER\": \"simón\"}', '{\"LOWER\": \"bolívar\"}'], ['{\"LOWER\": \"villa\"}', '{\"LOWER\": \"soriano\"}'], ['{\"LOWER\": \"villa\"}', '{\"LOWER\": \"tesei\"}'], ['{\"LOWER\": \"villa\"}', '{\"LOWER\": \"tunari\"}'], ['{\"LOWER\": \"villa\"}', '{\"LOWER\": \"udaondo\"}'], ['{\"LOWER\": \"villa\"}', '{\"LOWER\": \"vaca\"}', '{\"LOWER\": \"guzmán\"}'], ['{\"LOWER\": \"villa\"}', '{\"LOWER\": \"ángela\"}'], ['{\"LOWER\": \"villach\"}'], ['{\"LOWER\": \"villaguay\"}'], ['{\"LOWER\": \"villahermosa\"}'], ['{\"LOWER\": \"villamontes\"}'], ['{\"LOWER\": \"villanueva\"}'], ['{\"LOWER\": \"villanueva\"}', '{\"LOWER\": \"de\"}', '{\"LOWER\": \"la\"}', '{\"LOWER\": \"serena\"}'], ['{\"LOWER\": \"villarrobledo\"}'], ['{\"LOWER\": \"villena\"}'], ['{\"LOWER\": \"vilnius\"}'], ['{\"LOWER\": \"vin\"}'], ['{\"LOWER\": \"vinces\"}'], ['{\"LOWER\": \"vinhedo\"}'], ['{\"LOWER\": \"vinto\"}'], ['{\"LOWER\": \"vipava\"}'], ['{\"LOWER\": \"viqueque\"}'], ['{\"LOWER\": \"virbalis\"}'], ['{\"LOWER\": \"virrat\"}'], ['{\"LOWER\": \"virreyes\"}', '{\"LOWER\": \",\"}', '{\"LOWER\": \"buenos\"}', '{\"LOWER\": \"aires\"}'], ['{\"LOWER\": \"virú\"}'], ['{\"LOWER\": \"visakhapatnam\"}'], ['{\"LOWER\": \"visconde\"}', '{\"LOWER\": \"do\"}', '{\"LOWER\": \"rio\"}', '{\"LOWER\": \"branco\"}'], ['{\"LOWER\": \"vishnu\"}', '{\"LOWER\": \"baug\"}', '{\"LOWER\": \"colony\"}'], ['{\"LOWER\": \"visoko\"}'], ['{\"LOWER\": \"vitoria\"}', '{\"LOWER\": \"gasteiz\"}'], ['{\"LOWER\": \"vitry\"}', '{\"LOWER\": \"sur\"}', '{\"LOWER\": \"seine\"}'], ['{\"LOWER\": \"vizianagaram\"}'], ['{\"LOWER\": \"višegrad\"}'], ['{\"LOWER\": \"vlaardingen\"}'], ['{\"LOWER\": \"vlasenica\"}'], ['{\"LOWER\": \"vlissingen\"}'], ['{\"LOWER\": \"vlorë\"}'], ['{\"LOWER\": \"voerde\"}', '{\"LOWER\": \"(\"}', '{\"LOWER\": \"niederrhein\"}', '{\"LOWER\": \")\"}'], ['{\"LOWER\": \"vogar\"}'], ['{\"LOWER\": \"vohemar\"}'], ['{\"LOWER\": \"volos\"}'], ['{\"LOWER\": \"voorburg\"}'], ['{\"LOWER\": \"vopnafjörður\"}'], ['{\"LOWER\": \"vordingborg\"}'], ['{\"LOWER\": \"votuporanga\"}'], ['{\"LOWER\": \"vratsa\"}'], ['{\"LOWER\": \"vreed\"}', '{\"LOWER\": \"en\"}', '{\"LOWER\": \"hoop\"}'], ['{\"LOWER\": \"vrhnika\"}'], ['{\"LOWER\": \"vrindavan\"}'], ['{\"LOWER\": \"vukovar\"}'], ['{\"LOWER\": \"vulcănești\"}'], ['{\"LOWER\": \"vučitrn\"}'], ['{\"LOWER\": \"vyadhapura\"}'], ['{\"LOWER\": \"várzea\"}', '{\"LOWER\": \"paulista\"}'], ['{\"LOWER\": \"vélingara\"}'], ['{\"LOWER\": \"wacca\"}'], ['{\"LOWER\": \"wad\"}', '{\"LOWER\": \"madani\"}'], ['{\"LOWER\": \"wadi\"}', '{\"LOWER\": \"al\"}', '{\"LOWER\": \"seer\"}'], ['{\"LOWER\": \"wadi\"}', '{\"LOWER\": \"halfa\"}'], ['{\"LOWER\": \"wadowice\"}'], ['{\"LOWER\": \"wageningen\"}'], ['{\"LOWER\": \"wagga\"}', '{\"LOWER\": \"wagga\"}'], ['{\"LOWER\": \"waitakere\"}', '{\"LOWER\": \"city\"}'], ['{\"LOWER\": \"waiwerang\"}'], ['{\"LOWER\": \"wajir\"}'], ['{\"LOWER\": \"wakayama\"}'], ['{\"LOWER\": \"wakefield\"}'], ['{\"LOWER\": \"waku\"}', '{\"LOWER\": \"kungo\"}'], ['{\"LOWER\": \"walla\"}', '{\"LOWER\": \"walla\"}'], ['{\"LOWER\": \"walvis\"}', '{\"LOWER\": \"bay\"}'], ['{\"LOWER\": \"wanda\"}'], ['{\"LOWER\": \"wangaratta\"}'], ['{\"LOWER\": \"wanyjok\"}', '{\"LOWER\": \",\"}', '{\"LOWER\": \"south\"}', '{\"LOWER\": \"sudan\"}'], ['{\"LOWER\": \"warangal\"}', '{\"LOWER\": \"tri\"}', '{\"LOWER\": \"city\"}'], ['{\"LOWER\": \"wardha\"}'], ['{\"LOWER\": \"waremme\"}'], ['{\"LOWER\": \"warka\"}'], ['{\"LOWER\": \"warman\"}'], ['{\"LOWER\": \"warnes\"}'], ['{\"LOWER\": \"warrap\"}', '{\"LOWER\": \",\"}', '{\"LOWER\": \"south\"}', '{\"LOWER\": \"sudan\"}'], ['{\"LOWER\": \"warri\"}'], ['{\"LOWER\": \"warrnambool\"}'], ['{\"LOWER\": \"warsaw\"}'], ['{\"LOWER\": \"warta\"}'], ['{\"LOWER\": \"wasilków\"}'], ['{\"LOWER\": \"watapur\"}'], ['{\"LOWER\": \"wategaon\"}'], ['{\"LOWER\": \"waterford\"}'], ['{\"LOWER\": \"waterloo\"}'], ['{\"LOWER\": \"wavre\"}'], ['{\"LOWER\": \"wazirabad\"}'], ['{\"LOWER\": \"wałbrzych\"}'], ['{\"LOWER\": \"weh\"}', '{\"LOWER\": \"antioch\"}', '{\"LOWER\": \"khosrow\"}'], ['{\"LOWER\": \"weiji\"}'], ['{\"LOWER\": \"weitra\"}'], ['{\"LOWER\": \"weldiya\"}'], ['{\"LOWER\": \"welenchiti\"}'], ['{\"LOWER\": \"wellington\"}', '{\"LOWER\": \"city\"}'], ['{\"LOWER\": \"wells\"}'], ['{\"LOWER\": \"wels\"}'], ['{\"LOWER\": \"were\"}', '{\"LOWER\": \"ilu\"}'], ['{\"LOWER\": \"wereta\"}'], ['{\"LOWER\": \"west\"}', '{\"LOWER\": \"kelowna\"}'], ['{\"LOWER\": \"weston\"}', '{\"LOWER\": \"under\"}', '{\"LOWER\": \"lizard\"}'], ['{\"LOWER\": \"westport\"}'], ['{\"LOWER\": \"wete\"}'], ['{\"LOWER\": \"whanganui\"}'], ['{\"LOWER\": \"whangarei\"}'], ['{\"LOWER\": \"whitby\"}'], ['{\"LOWER\": \"whitehorse\"}'], ['{\"LOWER\": \"whyalla\"}'], ['{\"LOWER\": \"widikum\"}', '{\"LOWER\": \"boffe\"}'], ['{\"LOWER\": \"wiehl\"}'], ['{\"LOWER\": \"wielbark\"}', '{\"LOWER\": \",\"}', '{\"LOWER\": \"warmian\"}', '{\"LOWER\": \"masurian\"}', '{\"LOWER\": \"voivodeship\"}'], ['{\"LOWER\": \"wieleń\"}'], ['{\"LOWER\": \"wielichowo\"}'], ['{\"LOWER\": \"wieliczka\"}'], ['{\"LOWER\": \"wieluń\"}'], ['{\"LOWER\": \"wiener\"}', '{\"LOWER\": \"neustadt\"}'], ['{\"LOWER\": \"wieruszów\"}'], ['{\"LOWER\": \"wijitapura\"}'], ['{\"LOWER\": \"wilamowice\"}'], ['{\"LOWER\": \"wilde\"}'], ['{\"LOWER\": \"willemstad\"}'], ['{\"LOWER\": \"william\"}', '{\"LOWER\": \"c.\"}', '{\"LOWER\": \"morris\"}'], ['{\"LOWER\": \"wiltz\"}'], ['{\"LOWER\": \"winchester\"}'], ['{\"LOWER\": \"windhoek\"}'], ['{\"LOWER\": \"windsor\"}'], ['{\"LOWER\": \"winkler\"}'], ['{\"LOWER\": \"winneba\"}'], ['{\"LOWER\": \"winnipeg\"}'], ['{\"LOWER\": \"wismar\"}'], ['{\"LOWER\": \"witkowo\"}'], ['{\"LOWER\": \"witnica\"}'], ['{\"LOWER\": \"wittingen\"}'], ['{\"LOWER\": \"wiązów\"}'], ['{\"LOWER\": \"więcbork\"}'], ['{\"LOWER\": \"wiślica\"}'], ['{\"LOWER\": \"wleń\"}'], ['{\"LOWER\": \"wodonga\"}'], ['{\"LOWER\": \"wojnicz\"}'], ['{\"LOWER\": \"wolbrom\"}'], ['{\"LOWER\": \"wolbórz\"}'], ['{\"LOWER\": \"wolin\"}'], ['{\"LOWER\": \"wolsztyn\"}'], ['{\"LOWER\": \"wolverhampton\"}'], ['{\"LOWER\": \"worcester\"}'], ['{\"LOWER\": \"wołczyn\"}'], ['{\"LOWER\": \"wołomin\"}'], ['{\"LOWER\": \"wołów\"}'], ['{\"LOWER\": \"woźniki\"}'], ['{\"LOWER\": \"wronki\"}'], ['{\"LOWER\": \"września\"}'], ['{\"LOWER\": \"wschowa\"}'], ['{\"LOWER\": \"wuchale\"}'], ['{\"LOWER\": \"wuchang\"}', '{\"LOWER\": \"city\"}'], ['{\"LOWER\": \"wum\"}'], ['{\"LOWER\": \"wyrzysk\"}'], ['{\"LOWER\": \"wysoka\"}'], ['{\"LOWER\": \"wyszków\"}'], ['{\"LOWER\": \"wyszogród\"}'], ['{\"LOWER\": \"wyśmierzyce\"}'], ['{\"LOWER\": \"würzburg\"}'], ['{\"LOWER\": \"wąchock\"}'], ['{\"LOWER\": \"wąsosz\"}'], ['{\"LOWER\": \"węgliniec\"}'], ['{\"LOWER\": \"węgorzewo\"}'], ['{\"LOWER\": \"węgorzyno\"}'], ['{\"LOWER\": \"włoszczowa\"}'], ['{\"LOWER\": \"xacitarxan\"}'], ['{\"LOWER\": \"xai\"}', '{\"LOWER\": \"xai\"}'], ['{\"LOWER\": \"xalapa\"}'], ['{\"LOWER\": \"xangongo\"}'], ['{\"LOWER\": \"xanthi\"}'], ['{\"LOWER\": \"xiaoshangqiao\"}'], ['{\"LOWER\": \"xochihuehuetlán\"}'], ['{\"LOWER\": \"xonobod\"}'], ['{\"LOWER\": \"xırdalan\"}'], ['{\"LOWER\": \"xızı\"}'], ['{\"LOWER\": \"ya\\'bad\"}'], ['{\"LOWER\": \"yabassi\"}'], ['{\"LOWER\": \"yabrud\"}'], ['{\"LOWER\": \"yachay\"}'], ['{\"LOWER\": \"yafa\"}'], ['{\"LOWER\": \"yafran\"}'], ['{\"LOWER\": \"yagoua\"}'], ['{\"LOWER\": \"yaguachi\"}'], ['{\"LOWER\": \"yaguarón\"}'], ['{\"LOWER\": \"yaguarú\"}'], ['{\"LOWER\": \"yakınca\"}'], ['{\"LOWER\": \"yalamlam\"}'], ['{\"LOWER\": \"yalavagi\"}'], ['{\"LOWER\": \"yallahs\"}'], ['{\"LOWER\": \"yamagata\"}'], ['{\"LOWER\": \"yambol\"}'], ['{\"LOWER\": \"yamuna\"}', '{\"LOWER\": \"nagar\"}'], ['{\"LOWER\": \"yana\"}'], ['{\"LOWER\": \"yanahuanca\"}'], ['{\"LOWER\": \"yanaoca\"}'], ['{\"LOWER\": \"yangambi\"}'], ['{\"LOWER\": \"yangcheng\"}'], ['{\"LOWER\": \"yangiyer\"}'], ['{\"LOWER\": \"yangon\"}'], ['{\"LOWER\": \"yanjing\"}'], ['{\"LOWER\": \"yaoundé\"}'], ['{\"LOWER\": \"yapacaní\"}'], ['{\"LOWER\": \"yaqubi\"}'], ['{\"LOWER\": \"yara\"}'], ['{\"LOWER\": \"yardımlı\"}'], ['{\"LOWER\": \"yarim\"}'], ['{\"LOWER\": \"yaritagua\"}'], ['{\"LOWER\": \"yatağan\"}'], ['{\"LOWER\": \"yateras\"}'], ['{\"LOWER\": \"yathrib\"}'], ['{\"LOWER\": \"yatta\"}'], ['{\"LOWER\": \"yauri\"}'], ['{\"LOWER\": \"yauyos\"}'], ['{\"LOWER\": \"yavatmal\"}'], ['{\"LOWER\": \"yavne\"}'], ['{\"LOWER\": \"yaypan\"}'], ['{\"LOWER\": \"yazmin\"}'], ['{\"LOWER\": \"ye\"}'], ['{\"LOWER\": \"yehud\"}'], ['{\"LOWER\": \"yele\"}'], ['{\"LOWER\": \"yenangyaung\"}'], ['{\"LOWER\": \"yeni\"}'], ['{\"LOWER\": \"yenice\"}'], ['{\"LOWER\": \"yeniceköy\"}'], ['{\"LOWER\": \"yeniceoba\"}'], ['{\"LOWER\": \"yeniçiftlik\"}'], ['{\"LOWER\": \"yerba\"}', '{\"LOWER\": \"buena\"}', '{\"LOWER\": \",\"}', '{\"LOWER\": \"tucumán\"}'], ['{\"LOWER\": \"yevlakh\"}'], ['{\"LOWER\": \"yeşilköy\"}'], ['{\"LOWER\": \"yinxu\"}'], ['{\"LOWER\": \"ylivieska\"}'], ['{\"LOWER\": \"ylöjärvi\"}'], ['{\"LOWER\": \"yokadouma\"}'], ['{\"LOWER\": \"yokneam\"}', '{\"LOWER\": \"illit\"}'], ['{\"LOWER\": \"yoko\"}'], ['{\"LOWER\": \"yola\"}'], ['{\"LOWER\": \"york\"}'], ['{\"LOWER\": \"yoro\"}'], ['{\"LOWER\": \"youssoufia\"}'], ['{\"LOWER\": \"yozgat\"}'], ['{\"LOWER\": \"yucumo\"}'], ['{\"LOWER\": \"yugo\"}', '{\"LOWER\": \",\"}', '{\"LOWER\": \"baltistan\"}'], ['{\"LOWER\": \"yukarıdinek\"}'], ['{\"LOWER\": \"yungay\"}'], ['{\"LOWER\": \"yunguyo\"}'], ['{\"LOWER\": \"yurimaguas\"}'], ['{\"LOWER\": \"yurtbaşı\"}'], ['{\"LOWER\": \"yuscarán\"}'], ['{\"LOWER\": \"yōkaichi\"}'], ['{\"LOWER\": \"zabrze\"}'], ['{\"LOWER\": \"zabłudów\"}'], ['{\"LOWER\": \"zacatelco\"}'], ['{\"LOWER\": \"zacatlán\"}'], ['{\"LOWER\": \"zafarwal\"}'], ['{\"LOWER\": \"zagazig\"}'], ['{\"LOWER\": \"zagorje\"}', '{\"LOWER\": \"ob\"}', '{\"LOWER\": \"savi\"}'], ['{\"LOWER\": \"zagórz\"}'], ['{\"LOWER\": \"zagórów\"}'], ['{\"LOWER\": \"zahlé\"}'], ['{\"LOWER\": \"zaio\"}'], ['{\"LOWER\": \"zakho\"}'], ['{\"LOWER\": \"zakliczyn\"}'], ['{\"LOWER\": \"zaklików\"}'], ['{\"LOWER\": \"zakroczym\"}'], ['{\"LOWER\": \"zalewo\"}'], ['{\"LOWER\": \"zamora\"}'], ['{\"LOWER\": \"zamość\"}'], ['{\"LOWER\": \"zamyn\"}', '{\"LOWER\": \"üüd\"}'], ['{\"LOWER\": \"zana\"}'], ['{\"LOWER\": \"zanzibar\"}', '{\"LOWER\": \"city\"}'], ['{\"LOWER\": \"zaouiet\"}', '{\"LOWER\": \"sousse\"}'], ['{\"LOWER\": \"zapala\"}'], ['{\"LOWER\": \"zapopan\"}'], ['{\"LOWER\": \"zaprešić\"}'], ['{\"LOWER\": \"zaqatala\"}'], ['{\"LOWER\": \"zarafshan\"}'], ['{\"LOWER\": \"zaragoza\"}'], ['{\"LOWER\": \"zaranj\"}'], ['{\"LOWER\": \"zarasai\"}'], ['{\"LOWER\": \"zaraza\"}'], ['{\"LOWER\": \"zarcero\"}'], ['{\"LOWER\": \"zardab\"}'], ['{\"LOWER\": \"zaria\"}'], ['{\"LOWER\": \"zarumilla\"}'], ['{\"LOWER\": \"zator\"}'], ['{\"LOWER\": \"zavala\"}'], ['{\"LOWER\": \"zavet\"}'], ['{\"LOWER\": \"zawadzkie\"}'], ['{\"LOWER\": \"zawichost\"}'], ['{\"LOWER\": \"zbąszynek\"}'], ['{\"LOWER\": \"zbąszyń\"}'], ['{\"LOWER\": \"zduny\"}'], ['{\"LOWER\": \"zdzieszowice\"}'], ['{\"LOWER\": \"zefta\"}'], ['{\"LOWER\": \"zeghanghane\"}'], ['{\"LOWER\": \"zelów\"}'], ['{\"LOWER\": \"zenica\"}'], ['{\"LOWER\": \"zenopolis\"}', '{\"LOWER\": \"in\"}', '{\"LOWER\": \"isauria\"}'], ['{\"LOWER\": \"zharkent\"}'], ['{\"LOWER\": \"zhetikara\"}'], ['{\"LOWER\": \"zhetisay\"}'], ['{\"LOWER\": \"zhongdu\"}'], ['{\"LOWER\": \"zhovkva\"}'], ['{\"LOWER\": \"ziarat\"}', '{\"LOWER\": \",\"}', '{\"LOWER\": \"north\"}', '{\"LOWER\": \"khorasan\"}'], ['{\"LOWER\": \"zielona\"}', '{\"LOWER\": \"góra\"}'], ['{\"LOWER\": \"zigon\"}'], ['{\"LOWER\": \"ziguinchor\"}'], ['{\"LOWER\": \"zinder\"}'], ['{\"LOWER\": \"zinjibar\"}'], ['{\"LOWER\": \"ziębice\"}'], ['{\"LOWER\": \"zlataritsa\"}'], ['{\"LOWER\": \"zlatitsa\"}'], ['{\"LOWER\": \"zliten\"}'], ['{\"LOWER\": \"zlín\"}'], ['{\"LOWER\": \"zoan\"}'], ['{\"LOWER\": \"zoetermeer\"}'], ['{\"LOWER\": \"zomba\"}'], ['{\"LOWER\": \"zorritos\"}'], ['{\"LOWER\": \"zouar\"}'], ['{\"LOWER\": \"zoutpansberg\"}'], ['{\"LOWER\": \"zouérat\"}'], ['{\"LOWER\": \"zudáñez\"}'], ['{\"LOWER\": \"zug\"}'], ['{\"LOWER\": \"zugdidi\"}'], ['{\"LOWER\": \"zula\"}'], ['{\"LOWER\": \"zumbo\"}'], ['{\"LOWER\": \"zutphen\"}'], ['{\"LOWER\": \"zuunmod\"}'], ['{\"LOWER\": \"zuwara\"}'], ['{\"LOWER\": \"zuwetina\"}'], ['{\"LOWER\": \"zvartnots\"}'], ['{\"LOWER\": \"zwenkau\"}'], ['{\"LOWER\": \"zwierzyniec\"}'], ['{\"LOWER\": \"zwoleń\"}'], ['{\"LOWER\": \"zwolle\"}'], ['{\"LOWER\": \"zárate\"}'], ['{\"LOWER\": \"zülpich\"}'], ['{\"LOWER\": \"züsow\"}'], ['{\"LOWER\": \"züünkharaa\"}'], ['{\"LOWER\": \"ząbkowice\"}', '{\"LOWER\": \"śląskie\"}'], ['{\"LOWER\": \"złocieniec\"}'], ['{\"LOWER\": \"złoczew\"}'], ['{\"LOWER\": \"złoty\"}', '{\"LOWER\": \"stok\"}'], ['{\"LOWER\": \"zəngilan\"}'], ['{\"LOWER\": \"águas\"}', '{\"LOWER\": \"da\"}', '{\"LOWER\": \"prata\"}'], ['{\"LOWER\": \"águas\"}', '{\"LOWER\": \"de\"}', '{\"LOWER\": \"lindóia\"}'], ['{\"LOWER\": \"águas\"}', '{\"LOWER\": \"de\"}', '{\"LOWER\": \"santa\"}', '{\"LOWER\": \"bárbara\"}'], ['{\"LOWER\": \"águas\"}', '{\"LOWER\": \"de\"}', '{\"LOWER\": \"são\"}', '{\"LOWER\": \"pedro\"}'], ['{\"LOWER\": \"álftanes\"}'], ['{\"LOWER\": \"álvares\"}', '{\"LOWER\": \"florence\"}'], ['{\"LOWER\": \"álvares\"}', '{\"LOWER\": \"machado\"}'], ['{\"LOWER\": \"álvaro\"}', '{\"LOWER\": \"de\"}', '{\"LOWER\": \"carvalho\"}'], ['{\"LOWER\": \"ávila\"}'], ['{\"LOWER\": \"ähtäri\"}'], ['{\"LOWER\": \"äänekoski\"}'], ['{\"LOWER\": \"ålesund\"}'], ['{\"LOWER\": \"åndalsnes\"}'], ['{\"LOWER\": \"çaldıran\"}'], ['{\"LOWER\": \"çanakkale\"}'], ['{\"LOWER\": \"çankırı\"}'], ['{\"LOWER\": \"çatalağzı\"}'], ['{\"LOWER\": \"çaylı\"}'], ['{\"LOWER\": \"çayırhan\"}'], ['{\"LOWER\": \"çiçekdağı\"}'], ['{\"LOWER\": \"çobanlar\"}'], ['{\"LOWER\": \"çorlu\"}'], ['{\"LOWER\": \"çorovodë\"}'], ['{\"LOWER\": \"çorum\"}'], ['{\"LOWER\": \"çınar\"}'], ['{\"LOWER\": \"écija\"}'], ['{\"LOWER\": \"ísafjörður\"}'], ['{\"LOWER\": \"île\"}', '{\"LOWER\": \"sainte\"}', '{\"LOWER\": \"marie\"}'], ['{\"LOWER\": \"ólafsvík\"}'], ['{\"LOWER\": \"óleo\"}'], ['{\"LOWER\": \"ölgii\"}'], ['{\"LOWER\": \"ølstykke\"}', '{\"LOWER\": \"stenløse\"}'], ['{\"LOWER\": \"úbeda\"}'], ['{\"LOWER\": \"ústí\"}', '{\"LOWER\": \"nad\"}', '{\"LOWER\": \"labem\"}'], ['{\"LOWER\": \"übach\"}', '{\"LOWER\": \"palenberg\"}'], ['{\"LOWER\": \"þorlákshöfn\"}'], ['{\"LOWER\": \"āmer\"}'], ['{\"LOWER\": \"ćmielów\"}'], ['{\"LOWER\": \"čakovec\"}'], ['{\"LOWER\": \"čapljina\"}'], ['{\"LOWER\": \"český\"}', '{\"LOWER\": \"těšín\"}'], ['{\"LOWER\": \"črnomelj\"}'], ['{\"LOWER\": \"łabiszyn\"}'], ['{\"LOWER\": \"łagów\"}', '{\"LOWER\": \",\"}', '{\"LOWER\": \"świętokrzyskie\"}', '{\"LOWER\": \"voivodeship\"}'], ['{\"LOWER\": \"łapy\"}'], ['{\"LOWER\": \"łasin\"}'], ['{\"LOWER\": \"łask\"}'], ['{\"LOWER\": \"łaszczów\"}'], ['{\"LOWER\": \"łazy\"}'], ['{\"LOWER\": \"łobez\"}'], ['{\"LOWER\": \"łobżenica\"}'], ['{\"LOWER\": \"łochów\"}'], ['{\"LOWER\": \"łomianki\"}'], ['{\"LOWER\": \"łomża\"}'], ['{\"LOWER\": \"łosice\"}'], ['{\"LOWER\": \"łódź\"}'], ['{\"LOWER\": \"łęczna\"}'], ['{\"LOWER\": \"ōsaka\"}'], ['{\"LOWER\": \"ōtsu\"}'], ['{\"LOWER\": \"řevnice\"}'], ['{\"LOWER\": \"ścinawa\"}'], ['{\"LOWER\": \"ślesin\"}'], ['{\"LOWER\": \"śmigiel\"}'], ['{\"LOWER\": \"śrem\"}'], ['{\"LOWER\": \"środa\"}', '{\"LOWER\": \"wielkopolska\"}'], ['{\"LOWER\": \"środa\"}', '{\"LOWER\": \"śląska\"}'], ['{\"LOWER\": \"świebodzin\"}'], ['{\"LOWER\": \"świecie\"}'], ['{\"LOWER\": \"świerzawa\"}'], ['{\"LOWER\": \"świnoujście\"}'], ['{\"LOWER\": \"świątniki\"}', '{\"LOWER\": \"górne\"}'], ['{\"LOWER\": \"świętochłowice\"}'], ['{\"LOWER\": \"şahbuz\"}'], ['{\"LOWER\": \"şanlıurfa\"}'], ['{\"LOWER\": \"şavşat\"}', '{\"LOWER\": \"district\"}'], ['{\"LOWER\": \"şırnak\"}'], ['{\"LOWER\": \"şəmkir\"}'], ['{\"LOWER\": \"šakiai\"}'], ['{\"LOWER\": \"šalčininkai\"}'], ['{\"LOWER\": \"šamac\"}'], ['{\"LOWER\": \"šeduva\"}'], ['{\"LOWER\": \"šempeter\"}', '{\"LOWER\": \"pri\"}', '{\"LOWER\": \"gorici\"}'], ['{\"LOWER\": \"šiauliai\"}'], ['{\"LOWER\": \"šilalė\"}'], ['{\"LOWER\": \"šilutė\"}'], ['{\"LOWER\": \"širvintos\"}'], ['{\"LOWER\": \"štip\"}'], ['{\"LOWER\": \"švenčionys\"}'], ['{\"LOWER\": \"švenčionėliai\"}'], ['{\"LOWER\": \"żabno\"}'], ['{\"LOWER\": \"żarki\"}'], ['{\"LOWER\": \"żarów\"}'], ['{\"LOWER\": \"żelechów\"}'], ['{\"LOWER\": \"żerków\"}'], ['{\"LOWER\": \"żmigród\"}'], ['{\"LOWER\": \"żnin\"}'], ['{\"LOWER\": \"żory\"}'], ['{\"LOWER\": \"żukowo\"}'], ['{\"LOWER\": \"żuromin\"}'], ['{\"LOWER\": \"żychlin\"}'], ['{\"LOWER\": \"żywiec\"}'], ['{\"LOWER\": \"žagarė\"}'], ['{\"LOWER\": \"žiežmariai\"}'], ['{\"LOWER\": \"žilina\"}'], ['{\"LOWER\": \"ștefan\"}', '{\"LOWER\": \"vodă\"}'], ['{\"LOWER\": \"ʿamrān\"}'], ['{\"LOWER\": \"الجلفة\"}'], ['{\"LOWER\": \"مأرب\"}'], ['{\"LOWER\": \"ḍera\"}', '{\"LOWER\": \"ismaīl\"}', '{\"LOWER\": \"k͟hān\"}']]\n",
            "[[\"_'s\", '_hertogenbosch'], ['_a', '_coruña'], ['_aabenraa'], ['_aasiaat'], ['_aba'], ['_abala'], ['_abancay'], ['_abaradira'], ['_abasan', '_al', '_kabera'], ['_abbeyleix'], ['_abbotsford'], ['_abbottabad'], ['_abdon'], ['_abengourou'], ['_abeokuta'], ['_abercwmboi'], ['_aberdeen'], ['_abha'], ['_abidjan'], ['_abkua'], ['_aboisso'], ['_abomey'], ['_abomsa'], ['_abong', '_mbang'], ['_abreus'], ['_abu', '_dhabi'], ['_abu', '_dis'], ['_abu', '_kabir'], ['_abu', '_qir'], ['_abu', '_qirqas'], ['_abu', '_qurayn'], ['_abutig'], ['_abéché'], ['_abū', '_qurqāş'], ['_acalayong'], ['_acapulco'], ['_acarigua'], ['_acarlar'], ['_accra'], ['_achacachi'], ['_achaguas'], ['_acomayo'], ['_aconibe'], ['_acre'], ['_acuera'], ['_acultzingo'], ['_ad', '_dali', \"_'\"], ['_ad', '_dhahiriya'], ['_ad', \"_dhale'e\", '_district'], ['_ad', '_dis'], ['_ad', '_quintum'], ['_ad', '_salices'], ['_adabokrom'], ['_adamantina'], ['_adamov'], ['_adana'], ['_adapazarı'], ['_addu', '_city'], ['_adelaide'], ['_aden'], ['_adet'], ['_adi', '_keyh'], ['_adi', '_quala'], ['_adigrat'], ['_ado', '_ekiti'], ['_adobha'], ['_adolfo'], ['_adolfo', '_ruiz', '_cortines'], ['_adrar'], ['_adrogué'], ['_adré'], ['_adzopé'], ['_adıyaman'], ['_aegys'], ['_aelia', '_capitolina'], ['_afak'], ['_afif'], ['_aflou'], ['_afrin'], ['_afula'], ['_afyonkarahisar'], ['_agadir'], ['_agaete'], ['_agar', '_,', '_madhya', '_pradesh'], ['_agara', '_,', '_bangalore'], ['_agathyrnum'], ['_agboville'], ['_agdam'], ['_agdash'], ['_aghir'], ['_agogo'], ['_agordat'], ['_agra'], ['_agrigento'], ['_agrinio'], ['_agsu'], ['_aguada', '_de', '_pasajeros'], ['_aguascalientes', '_city'], ['_aguaí'], ['_agudos'], ['_agui'], ['_aguilares', '_,', '_argentina'], ['_aheloy'], ['_ahmedabad'], ['_ahtopol'], ['_ahuacatlán'], ['_ahuachapán'], ['_ai'], ['_aichach'], ['_aija'], ['_aijalon'], ['_ainaro'], ['_aiquile'], ['_ait', '_melloul'], ['_aitape'], ['_ajdir'], ['_ajitgarh'], ['_ajloun'], ['_ajman'], ['_ajmer'], ['_akaa'], ['_akarassos'], ['_akbarpur'], ['_akhalkalaki'], ['_akhaltsikhe'], ['_akhmeta'], ['_akhmim'], ['_akim', '_oda'], ['_akmenė'], ['_akok'], ['_akola'], ['_akonolinga'], ['_akora', '_khattak'], ['_akranes'], ['_aksakovo'], ['_aksaray'], ['_aksu'], ['_aktau'], ['_aktepe'], ['_aktobe'], ['_akure'], ['_akureyri'], ['_akçay'], ['_al', '_`', '_ula'], ['_al', '_aaroui'], ['_al', '_ahsa', '_governorate'], ['_al', '_ain'], ['_al', '_ain', '_region', '_,', '_abu', '_dhabi'], ['_al', '_bab'], ['_al', '_bahah'], ['_al', '_bayda'], ['_al', '_bayda', \"_'\"], ['_al', '_bireh'], ['_al', '_bukayriyah'], ['_al', '_buraimi'], ['_al', '_dar', '_al', '_kabirah'], ['_al', '_darbasiyah'], ['_al', '_diwaniyah'], ['_al', '_eizariya'], ['_al', '_faw'], ['_al', '_gharraf'], ['_al', '_ghuwariyah'], ['_al', '_haffah'], ['_al', '_hajar', '_al', '_aswad'], ['_al', '_hamool'], ['_al', '_hasakah'], ['_al', '_hashimiya'], ['_al', '_hashimiyah'], ['_al', '_hashimiyya'], ['_al', '_hassan', '_science', '_city'], ['_al', '_hay'], ['_al', '_hudaydah'], ['_al', '_husn'], ['_al', '_jabalayn'], ['_al', '_jawf'], ['_al', '_jubayhah'], ['_al', '_karak'], ['_al', '_karmah'], ['_al', '_khalidiya'], ['_al', '_kiswah'], ['_al', '_madinat', '_al', '_zahira'], ['_al', '_mahwit'], ['_al', \"_majma'ah\"], ['_al', '_malikiyah'], ['_al', '_mansura', '_district'], ['_al', '_maschariqa'], ['_al', '_mashariqah'], ['_al', '_meshkhab'], ['_al', '_midaina'], ['_al', '_midhatiya'], ['_al', '_misrakh', '_district'], ['_al', '_mithnab'], ['_al', '_muabbada'], ['_al', '_mualla', '_district'], ['_al', '_mubarraz'], ['_al', '_qaryatayn'], ['_al', '_qunfudhah'], ['_al', '_qurayn', '_,', '_egypt'], ['_al', '_qusayr'], ['_al', '_quwaysimah'], ['_al', '_ram'], ['_al', '_rastan'], ['_al', '_rumaitha'], ['_al', '_safira'], ['_al', '_sanamayn'], ['_al', '_shamal'], ['_al', '_shaykh', '_badr'], ['_al', '_shirqat'], ['_al', '_shuna', '_al', '_shamalyah'], ['_al', '_suqaylabiyah'], ['_al', '_suwayda'], ['_al', '_tall'], ['_al', '_thawrah'], ['_al', '_ubayyid'], ['_al', '_wakrah'], ['_al', '_wasta'], ['_al', '_yamun'], ['_al', '_zabadani'], ['_aladağ'], ['_alajuela'], ['_alajärvi'], ['_alambari'], ['_alanya'], ['_alatau'], ['_alavus'], ['_albacete'], ['_albanopolis'], ['_albury'], ['_alcalá', '_de', '_henares'], ['_alcobendas'], ['_aleksandrów', '_kujawski'], ['_aleksandrów', '_łódzki'], ['_aleppo'], ['_alexandreia'], ['_alexandria', '_in', '_orietai'], ['_alexandria', '_prophthasia'], ['_alexandroupoli'], ['_alfredo', '_marcondes'], ['_ali', '_sabieh'], ['_alicante'], ['_aligarh'], ['_alisio'], ['_aliyu', '_amba'], ['_alkmaar'], ['_allahabad'], ['_allen'], ['_allenstein'], ['_almaty'], ['_almelo'], ['_almere'], ['_almería'], ['_alor', '_setar'], ['_alotau'], ['_alpuri'], ['_alqosh'], ['_alquízar'], ['_alta'], ['_alta', '_gracia'], ['_altai'], ['_altair', '_,', '_são', '_paulo'], ['_altena'], ['_altinópolis'], ['_alto', '_alegre', '_,', '_são', '_paulo'], ['_altona'], ['_altınoluk'], ['_aluminé'], ['_alumínio'], ['_alvarado'], ['_alvinlândia'], ['_alwernia'], ['_alytus'], ['_am', '_timan'], ['_amadiya'], ['_amancio'], ['_amangarh'], ['_amantia'], ['_amara', '_,', '_nubia'], ['_amaragadhi'], ['_amarah'], ['_amaravati'], ['_amarete'], ['_amasya'], ['_amba', '_mariam'], ['_ambala'], ['_ambam'], ['_ambanja'], ['_ambarnath'], ['_ambato'], ['_ambattur'], ['_amblada'], ['_ambo'], ['_amboasary'], ['_ambodiharina'], ['_ambrolauri'], ['_amecameca', '_de', '_juárez'], ['_americana'], ['_amersfoort'], ['_amfissa'], ['_amlapura'], ['_amman'], ['_amoudah'], ['_ampang', '_jaya'], ['_amparo', '_,', '_são', '_paulo'], ['_amphigeneia'], ['_amposta'], ['_amritsar'], ['_amstelveen'], ['_amsterdam'], ['_américa'], ['_américo', '_brasiliense'], ['_an', '_nabk'], ['_anaco'], ['_anaittha'], ['_anaklia'], ['_analalava'], ['_analândia'], ['_anathoth'], ['_anchovy'], ['_ancient', '_ostra'], ['_ancona'], ['_ancuabe'], ['_andahuaylas'], ['_andalgalá'], ['_andijan'], ['_andkhoy'], ['_andradina'], ['_andria'], ['_andrijevica'], ['_andrychów'], ['_andújar'], ['_anenii', '_noi'], ['_angadipuram', '_laterite'], ['_angatuba'], ['_angers'], ['_angkor'], ['_angoche'], ['_angren'], ['_anhembi'], ['_anhumas'], ['_ani'], ['_anjangaon'], ['_anjara'], ['_anklav'], ['_ankober'], ['_anna', '_regina'], ['_annaba'], ['_annopol'], ['_annotto', '_bay'], ['_ansan'], ['_antabamba'], ['_antakya'], ['_antalya'], ['_antequera'], ['_antheia', '_(', '_messenia', '_)'], ['_antibes'], ['_antigua', '_guatemala'], ['_antilla'], ['_antiochia', '_ad', '_sarum'], ['_antiochia', '_lamotis'], ['_antipatrea'], ['_antiphellus'], ['_antsirabe'], ['_antwerp'], ['_anuradhapura'], ['_anyang'], ['_anykščiai'], ['_anápolis'], ['_aného'], ['_apamea'], ['_apapa'], ['_aparecida'], ['_aparecida', \"_d'oeste\"], ['_apeldoorn'], ['_aphek'], ['_aphrodisias'], ['_apia'], ['_apiaí'], ['_aplao'], ['_apolo', '_,', '_la', '_paz'], ['_appingedam'], ['_apriltsi'], ['_apros'], ['_apóstoles'], ['_aqaba'], ['_aquae', '_sextiae'], ['_ar', '_rajban'], ['_ar', '_ramtha'], ['_ar', '_rayn'], ['_ar', '_rutba'], ['_arabsiyo'], ['_arad'], ['_araden'], ['_araguari'], ['_aral'], ['_aramina'], ['_arandu'], ['_arani'], ['_aranjuez'], ['_arapeí'], ['_araraquara'], ['_araras'], ['_ararat'], ['_araure'], ['_araxá'], ['_araçariguama'], ['_araçatuba'], ['_araçoiaba', '_da', '_serra'], ['_arboye'], ['_arcetri'], ['_archidona', '_,', '_ecuador'], ['_arco', '_íris'], ['_arcos', '_de', '_la', '_frontera'], ['_ardahan'], ['_ardanuç'], ['_arealva'], ['_areias', '_,', '_são', '_paulo'], ['_areiópolis'], ['_arendal'], ['_argos'], ['_arhavi'], ['_ariha'], ['_ariogala'], ['_ariranha'], ['_arisba'], ['_arish'], ['_aristóbulo', '_del', '_valle'], ['_arkalyk'], ['_arlon'], ['_armagh'], ['_armidale'], ['_armutalan'], ['_arnhem'], ['_arnis'], ['_arnos', '_vale'], ['_arpalı', '_kasabası'], ['_arraba'], ['_arrah'], ['_arrecife'], ['_arretium'], ['_arroyo', '_concepción'], ['_arta', '_,', '_djibouti'], ['_artemisa'], ['_artvin'], ['_arua'], ['_arujá'], ['_arusha'], ['_arvaikheer'], ['_arviat'], ['_arys'], ['_arzashkun'], ['_arzew'], ['_as', '_salif', '_district'], ['_as', '_samu'], ['_as', '_sulayyil'], ['_asaba'], ['_asadabad'], ['_ascención', '_de', '_guarayos'], ['_ascope'], ['_asella'], ['_asenovgrad'], ['_aserrí'], ['_ash', '_shihr'], ['_ash', '_shinafiyah'], ['_ashdod'], ['_ashgabat'], ['_ashkelon'], ['_ashrafiyat', '_sahnaya'], ['_asientos'], ['_asmara'], ['_asnières', '_sur', '_seine'], ['_assen'], ['_assomada'], ['_assorus'], ['_assur'], ['_astapa'], ['_astara'], ['_asti'], ['_asunción'], ['_aswan'], ['_asyut'], ['_at', '_turrah'], ['_atacames'], ['_atafu'], ['_atalaya'], ['_atar'], ['_atarib'], ['_atax'], ['_atayurt'], ['_atbarah'], ['_atfih'], ['_athens'], ['_ati'], ['_atibaia'], ['_atlacomulco', '_municipality'], ['_atlixco'], ['_atlántida', '_,', '_uruguay'], ['_attapeu'], ['_attock'], ['_atuntaqui'], ['_atyrau'], ['_atzeneta', '_del', '_maestrat'], ['_aubervilliers'], ['_auckland'], ['_augusta', '_treverorum'], ['_augusta', '_vindelicorum'], ['_augustopolis', '_in', '_palaestina'], ['_aulnay', '_sous', '_bois'], ['_aulon'], ['_aurangabad'], ['_auriflama'], ['_auroville'], ['_ausa'], ['_austur', '_skaftafellssýsla'], ['_avadi'], ['_avanhandava'], ['_avaré', '_,', '_são', '_paulo'], ['_avaí'], ['_avellaneda'], ['_avignon'], ['_avilés'], ['_awasa'], ['_aweil', '_,', '_south', '_sudan'], ['_awka'], ['_axim'], ['_axum'], ['_ayabaca'], ['_ayacucho'], ['_ayagoz'], ['_ayancık'], ['_ayaviri'], ['_aydun'], ['_aydın'], ['_aydıncık'], ['_ayn', '_al', '_arab'], ['_ayn', '_al', '_basha'], ['_ayn', '_al', '_tamr'], ['_ayodhya'], ['_ayoun', '_el', '_atrous'], ['_aytos'], ['_ayvacık'], ['_az', '_zubaydiyah'], ['_az', '_zubayr'], ['_azaz'], ['_azimuntium'], ['_azogues'], ['_azul'], ['_azángaro'], ['_aïn', '_el', '_aouda'], ['_añatuya'], ['_añisoc'], ['_ağcabədi'], ['_ağstafa'], ['_b', '_baria', '_,', '_bangladesh'], ['_baala'], ['_baalbek'], ['_baarle'], ['_baba'], ['_babahoyo'], ['_babati'], ['_babbila'], ['_babek'], ['_babel'], ['_babimost'], ['_babor', '_  ', '_ville'], ['_baborów'], ['_baboua'], ['_babri', '_,', '_burkina', '_faso'], ['_bad', '_wilsnack'], ['_badajoz'], ['_badalona'], ['_badou'], ['_badulla'], ['_bady', '_bassitt'], ['_baeza'], ['_bafang'], ['_bafatá'], ['_bafia'], ['_bafilo'], ['_bafoulabé'], ['_bafoussam'], ['_bagansiapiapi'], ['_baganuur'], ['_baghdad'], ['_baghdati'], ['_baghlan'], ['_bago'], ['_bagua'], ['_bagua', '_grande'], ['_bahawalpur'], ['_bahir', '_dar'], ['_bahía', '_blanca'], ['_bahía', '_de', '_caráquez'], ['_bahía', '_honda'], ['_baidoa'], ['_baiji'], ['_bailey', '_town'], ['_bairnsdale'], ['_bajil'], ['_bajos', '_de', '_haina'], ['_bajram', '_curri'], ['_bakaata'], ['_bakel'], ['_bakou'], ['_bakoumba'], ['_balad'], ['_balaka', '_township'], ['_balakən'], ['_balao'], ['_balasagun'], ['_balasore'], ['_balat'], ['_balbinos'], ['_balboa'], ['_balcarce'], ['_balchik'], ['_balel', '_pipariya'], ['_balkanabat'], ['_balkhash'], ['_ballarat'], ['_ballsh'], ['_balsa'], ['_baltim', '_resort'], ['_baltoji', '_vokė'], ['_balykchy'], ['_balzar'], ['_balıkesir'], ['_bamako'], ['_bamarni'], ['_bambari'], ['_bambey'], ['_bameka'], ['_bamenda'], ['_bamenkombo'], ['_bamyan'], ['_ban', '_houayxay'], ['_banana'], ['_bananal'], ['_banavasi'], ['_banda', '_del', '_río', '_salí'], ['_bandar', '_seri', '_begawan'], ['_bandjoun'], ['_bandol', '_seoni'], ['_bandırma'], ['_banepa'], ['_banes'], ['_banfora'], ['_bangalore'], ['_bangassou'], ['_bangem'], ['_bangkalan'], ['_bangkok'], ['_bangor'], ['_bangui'], ['_bangula'], ['_banha'], ['_bani', \"_na'im\"], ['_bani', '_suheila'], ['_bani', '_walid'], ['_baniyas'], ['_banja', '_luka'], ['_banjul'], ['_bankya'], ['_bannu'], ['_banovci', '_,', '_nijemci'], ['_banpo'], ['_bansko'], ['_banská', '_bystrica'], ['_banting'], ['_banwa'], ['_banya', '_,', '_plovdiv', '_province'], ['_banyo', '_,', '_cameroon'], ['_baqa', '_jatt'], ['_baqubah'], ['_barabanki'], ['_baracoa'], ['_baraguá'], ['_barahathawa', '_municipality'], ['_barahona'], ['_baral', '_,', '_pakistan'], ['_baramulla'], ['_baranów', '_sandomierski'], ['_barawa'], ['_barbacena'], ['_barbosa', '_,', '_são', '_paulo'], ['_barcelona'], ['_barcin'], ['_barczewo'], ['_barda'], ['_bardaï', '_,', '_chad'], ['_bardhere'], ['_bardia'], ['_bardo'], ['_bareilly'], ['_barentsburg'], ['_barentu', '_,', '_eritrea'], ['_bareq'], ['_bargny'], ['_bari'], ['_bariadi'], ['_bariloche'], ['_barinas'], ['_bariri'], ['_baris'], ['_barisal'], ['_barlinek'], ['_barnala'], ['_barndaké'], ['_barquisimeto'], ['_barra', '_bonita'], ['_barra', '_do', '_chapéu'], ['_barra', '_do', '_turvo'], ['_barranca'], ['_barranqueras'], ['_barranquilla'], ['_barretos'], ['_barrie'], ['_barrinha'], ['_barros', '_blancos'], ['_barsinghausen'], ['_bartica'], ['_bartın'], ['_barueri'], ['_baruun', '_urt'], ['_barwani'], ['_barwice'], ['_barão', '_de', '_antonina'], ['_basail'], ['_basankusu'], ['_basarabeasca'], ['_basoko'], ['_bassar'], ['_basseterre'], ['_basti', '_islamabad'], ['_bastos'], ['_basyoun'], ['_bat', '_yam'], ['_bata'], ['_batak'], ['_batalik'], ['_batallas'], ['_batatais'], ['_bath'], ['_bathinda'], ['_bathurst'], ['_bati'], ['_batken'], ['_batman'], ['_batna'], ['_batouri'], ['_battambang'], ['_batu'], ['_batumi'], ['_baucau'], ['_bauchi'], ['_baures'], ['_bauru'], ['_bauta'], ['_bawiti'], ['_bayamo'], ['_bayankhongor'], ['_bayat'], ['_bayburt'], ['_bayt', '_al', '_faqih'], ['_baños', '_de', '_agua', '_santa'], ['_bački', '_petrovac'], ['_beaumont'], ['_bebedouro'], ['_beda', '_fomm'], ['_bedessa'], ['_beed'], ['_beersheba'], ['_begíjar'], ['_beica'], ['_beiguozhuang'], ['_beijing'], ['_beilul'], ['_beira'], ['_beit', '_hanoun'], ['_beit', '_jala'], ['_beit', '_lahia'], ['_beit', '_sahour'], ['_beit', \"_she'an\"], ['_beit', '_shemesh'], ['_beitbridge'], ['_beitunia'], ['_bekabad'], ['_bekbele'], ['_bekoji'], ['_bela', '_palanka'], ['_beldibi'], ['_beledweyne'], ['_belen'], ['_belene'], ['_belfast'], ['_belgaum'], ['_belgrade'], ['_belize', '_city'], ['_bell', '_ville'], ['_bella', '_unión'], ['_bella', '_vista'], ['_bella', '_vista', '_,', '_corrientes'], ['_bellavista'], ['_belmopan'], ['_belo', '_horizonte'], ['_beloozyorsky'], ['_beloretsk'], ['_belovo'], ['_belsh'], ['_beltinci'], ['_belén', '_de', '_escobar'], ['_bembla'], ['_ben', '_ahmed'], ['_ben', '_slimane'], ['_benalla'], ['_bender'], ['_bendigo'], ['_bengal', '_vinto'], ['_benghazi'], ['_benguela'], ['_beni', '_ansar', '_/', '_aït', '_nsar'], ['_beni', '_mazar'], ['_beni', '_suef'], ['_beniane'], ['_benidorm'], ['_benin', '_city'], ['_bennane'], ['_benoy'], ['_benque', '_viejo', '_del', '_carmen'], ['_bento', '_de', '_abreu'], ['_beramba', '_,', '_madagascar'], ['_berane'], ['_berat'], ['_berbera'], ['_berbérati'], ['_berenice', '_epideires'], ['_berenice', '_panchrysos'], ['_bergamo'], ['_bergen'], ['_berisso'], ['_berlin'], ['_bernal'], ['_bernardino', '_de', '_campos'], ['_berovo'], ['_berrechid'], ['_bertioga'], ['_bertoua'], ['_besa'], ['_best'], ['_bethlehem'], ['_beylagan'], ['_beypazarı'], ['_bełżyce'], ['_bhaba', '_nagar'], ['_bhadrapur'], ['_bhagalpur'], ['_bhairab', '_bāzār'], ['_bhakkar'], ['_bhamo'], ['_bhavnagar'], ['_bhawana'], ['_bhilai'], ['_bhilwara'], ['_bhiria', '_road'], ['_bhiwandi'], ['_bhiwani'], ['_bhubaneswar'], ['_biankouma'], ['_biała'], ['_biała', '_piska'], ['_biała', '_podlaska'], ['_biała', '_rawska'], ['_białobrzegi'], ['_biały', '_bór'], ['_białystok'], ['_biba', '_,', '_egypt'], ['_bichena'], ['_bid'], ['_bidjabidjan'], ['_bidor'], ['_bidur'], ['_biecz'], ['_biella'], ['_bielsko', '_biała'], ['_bierutów'], ['_bieżuń'], ['_bignona'], ['_bihać'], ['_bijapur'], ['_bijeljina'], ['_bijelo', '_polje'], ['_bikaner'], ['_bilac'], ['_bilara'], ['_bilaspur', '_,', '_chhattisgarh'], ['_bilbao'], ['_bilbeis'], ['_bilecik'], ['_bilene'], ['_biltine'], ['_biləsuvar'], ['_bimbo'], ['_bindura'], ['_bingerville'], ['_bingöl'], ['_biograd', '_na', '_moru'], ['_bir', '_lehlou'], ['_bir', '_salah'], ['_bire', '_akkar'], ['_birendranagar'], ['_bireuen'], ['_birigüi'], ['_biritiba', '_mirim'], ['_birkerød'], ['_birkirkara'], ['_birán'], ['_birštonas'], ['_bishoftu'], ['_biskra'], ['_biskupiec'], ['_bissau'], ['_bissorã'], ['_bisztynek'], ['_bitez'], ['_bitlis'], ['_bitola'], ['_bizya'], ['_blachownia'], ['_black', '_river'], ['_blagaj', '_japra'], ['_blagoevgrad'], ['_blankaartkasteel'], ['_blantyre'], ['_bled'], ['_blida'], ['_blitta'], ['_bloemfontein'], ['_bluefields'], ['_blönduós'], ['_bnei', '_brak'], ['_bni', '_drar'], ['_bo'], ['_boa', '_esperança', '_do', '_sul'], ['_boaco'], ['_bobo', '_dioulasso'], ['_bobolice'], ['_bobonong'], ['_boboshevo'], ['_bobov', '_dol'], ['_bobowa'], ['_bocaina'], ['_bocas', '_town', '_,', '_bocas', '_del', '_toro'], ['_bockum', '_hövel'], ['_bodzentyn'], ['_bodø'], ['_bofete'], ['_bogatynia'], ['_bogo'], ['_boguchwała'], ['_bohechío'], ['_boituva'], ['_bojanowo'], ['_bokhtar'], ['_bol'], ['_bola', '_shareef'], ['_bolama'], ['_bolax', '_(', '_elis', '_)'], ['_bolbe'], ['_bolgatanga'], ['_bolków'], ['_bollineni', '_hillside'], ['_bolnisi'], ['_bolo', '_,', '_ethiopia'], ['_bologna'], ['_bolsward'], ['_bolu'], ['_bolungarvík'], ['_bolívar'], ['_bom', '_jesus', '_dos', '_perdões'], ['_bom', '_sucesso', '_de', '_itararé'], ['_boma'], ['_bomassa'], ['_bondoukou'], ['_bonga'], ['_bongor'], ['_bongoville'], ['_bonthe'], ['_bor'], ['_bor', '_öndör'], ['_boraceia'], ['_borama'], ['_borborema'], ['_bordj', '_bou', '_arréridj'], ['_borebi'], ['_borek', '_wielkopolski'], ['_borg', '_el', '_arab'], ['_borgarnes'], ['_borj', '_cédria'], ['_borjomi'], ['_borken'], ['_borne', '_sulinowo'], ['_borovnica'], ['_borriana'], ['_boryza'], ['_borá'], ['_bosra'], ['_bossangoa'], ['_botevgrad'], ['_botucatu'], ['_bou', '_omrane'], ['_bouaanan'], ['_bouaflé'], ['_bouar'], ['_boujad'], ['_boujdour'], ['_bouknadel'], ['_boulogne', '_sur', '_mer'], ['_boumalne', '_dades'], ['_boumerdès'], ['_bouna'], ['_boundiali'], ['_boundji'], ['_bouneima'], ['_bounkiling'], ['_bouroum', '_bouroum'], ['_bouskoura'], ['_bousso'], ['_bouïra'], ['_bovec'], ['_bowen'], ['_boychinovtsi'], ['_boyuibe'], ['_bozoum'], ['_bradford'], ['_bragado'], ['_bragança', '_paulista'], ['_brahmanbaria'], ['_brak'], ['_brampton'], ['_brandon'], ['_bratislava'], ['_braunau', '_am', '_inn'], ['_brazzaville'], ['_braúna'], ['_brecon'], ['_breda'], ['_brega'], ['_bregbo'], ['_bregenz'], ['_bregovo'], ['_brejo', '_alegre'], ['_brejo', '_do', '_cruz'], ['_brekstad'], ['_bremen'], ['_brescia'], ['_breznik'], ['_brezovo'], ['_brežice'], ['_bria'], ['_briceni'], ['_bridgetown'], ['_brighton', '_and', '_hove'], ['_brinkmann'], ['_brisbane'], ['_bristol'], ['_brixia'], ['_brodowski'], ['_brok'], ['_broken', '_hill'], ['_brotas'], ['_brown', \"_'s\", '_town'], ['_brugge'], ['_brus', '_laguna'], ['_brussels'], ['_brusy'], ['_bruzual'], ['_brwinów'], ['_brzeg', '_dolny'], ['_brzesko'], ['_brzeszcze'], ['_brześć', '_kujawski'], ['_brzostek'], ['_brzozów'], ['_brønshøj'], ['_brühl'], [\"_bu'ale\"], ['_buari'], ['_buba'], ['_bubanza'], ['_bucak'], ['_buchanan'], ['_buda'], ['_budanilkantha'], ['_budva'], ['_buea'], ['_buena', '_fe'], ['_buena', '_vista'], ['_buenos', '_aires'], ['_buey', '_arriba'], ['_buhovo'], ['_buin', '_,', '_papua', '_new', '_guinea'], ['_bujumbura'], ['_buk'], ['_buka'], ['_bukama'], ['_bukhara'], ['_bukit', '_baru'], ['_bukit', '_pasir'], ['_bukoba'], ['_bukwa'], ['_bulawayo'], ['_bulayev'], ['_bulgan'], ['_bulqizë'], ['_bumba'], ['_bunagana', '_,', '_democratic', '_republic', '_of', '_the', '_congo'], ['_bunbury'], ['_bundaberg'], ['_bungoma'], ['_buraan'], ['_buraidah'], ['_burao'], ['_burdur'], ['_bure', '_(', '_gojjam', '_)', '_,', '_ethiopia'], ['_burg', '_stargard'], ['_burga'], ['_burgas'], ['_burgos'], ['_buri', '_,', '_são', '_paulo'], ['_buritama'], ['_buritizal'], ['_burlington'], ['_burnaby'], ['_burnie'], ['_burrel'], ['_bursa'], ['_burton'], ['_bururi'], ['_burutu'], ['_burzaco'], ['_busia'], ['_busko', '_zdrój'], ['_busselton'], ['_busto', '_arsizio'], ['_buta'], ['_butajira'], ['_butare'], ['_butembo'], ['_butere'], ['_butha', '_buthe'], ['_buzema'], ['_byala', '_slatina'], ['_byala', '_,', '_ruse', '_province'], ['_byala', '_,', '_varna', '_province'], ['_byas'], ['_byblos'], ['_bychawa'], ['_byczyna'], ['_bydgoszcz'], ['_bystrzyca', '_kłodzka'], ['_bytom'], ['_bytom', '_odrzański'], ['_bytów'], ['_byumba'], ['_byzantium'], ['_bádonfa'], ['_báguanos'], ['_bálsamo'], ['_béccar'], ['_bédy', '_goazon'], ['_bélabo'], ['_bétou'], ['_béziers'], ['_bíldudalur'], ['_búðardalur'], ['_büren'], ['_büyükyoncalı'], ['_bălți'], ['_błaszki'], ['_błażowa'], ['_błonie'], ['_caaguazú', '_district'], ['_caballococha'], ['_cabana'], ['_cabezas'], ['_cabimas'], ['_cabinda'], ['_cabo', '_de', '_santo', '_agostinho'], ['_cabo', '_frio'], ['_cabo', '_san', '_lucas'], ['_cabreúva'], ['_cabrália', '_paulista'], ['_cabudare'], ['_cacheu'], ['_cachoeira', '_paulista'], ['_cacocum'], ['_caconde'], ['_cafelândia'], ['_cagua'], ['_cahul'], ['_caia', '_,', '_mozambique'], ['_caiabu'], ['_caibarién'], ['_caieiras'], ['_caimanera'], ['_caimito'], ['_cairns'], ['_caiuá'], ['_cajabamba'], ['_cajamar'], ['_cajamarca'], ['_cajatambo'], ['_cajati'], ['_cajobi'], ['_cajuru'], ['_cala', '_cala'], ['_calabar'], ['_calabasa'], ['_calabozo'], ['_calais'], ['_calca'], ['_caleta', '_olivia'], ['_calgary'], ['_cali'], ['_calimete'], ['_calixto', '_garcía'], ['_callao'], ['_calulo'], ['_calvar'], ['_camagüey'], ['_camaná'], ['_camargo'], ['_cambridge'], ['_camenca'], ['_camiri'], ['_campana'], ['_campanero'], ['_campbell', '_river'], ['_campbelltown'], ['_campeche'], ['_campechuela'], ['_campina', '_do', '_monte', '_alegre'], ['_campina', '_grande'], ['_campinas'], ['_campo'], ['_campo', '_limpo', '_paulista'], ['_campos', '_do', '_jordão'], ['_campos', '_novos', '_paulista'], ['_cananea'], ['_cananéia'], ['_canas', '_,', '_são', '_paulo'], ['_canberra'], ['_canchungo'], ['_cancún'], ['_candarave'], ['_candelaria'], ['_cangallo'], ['_canitar'], ['_cankuzo'], ['_cannes'], ['_canta'], ['_cantaura'], ['_canterbury'], ['_cap', '_haïtien'], ['_cap', '_malheureux'], ['_capacho', '_viejo'], ['_capela', '_do', '_alto'], ['_capilla', '_del', '_monte'], ['_capivari'], ['_capão', '_bonito'], ['_caracas'], ['_caraguatatuba'], ['_caranavi'], ['_carapicuíba'], ['_caravaca', '_de', '_la', '_cruz'], ['_caravelí'], ['_caraz'], ['_cardona'], ['_cardoso', '_,', '_são', '_paulo'], ['_carhuaz'], ['_caripe'], ['_caripito'], ['_carlisle'], ['_carlos', '_manuel', '_de', '_céspedes'], ['_carlos', '_spegazzini'], ['_carmel', '_city'], ['_carmelo'], ['_carmona'], ['_carnot'], ['_carnuntum'], ['_carora'], ['_carrefour'], ['_carrickmacross'], ['_cartagena'], ['_cartago'], ['_carúpano'], ['_casa', '_branca'], ['_casablanca'], ['_cascante'], ['_cascas'], ['_caseros'], ['_caserta'], ['_casilda'], ['_casma'], ['_castelar'], ['_castellammare', '_di', '_stabia'], ['_castelló', '_de', '_la', '_plana'], ['_castilho'], ['_castillos'], ['_castlemaine'], ['_castries'], ['_castro', '_urdiales'], ['_catacamas'], ['_catacaos'], ['_catala'], ['_cataluña'], ['_catalão'], ['_catamayo'], ['_catandica'], ['_catanduva'], ['_catania'], ['_catanzaro'], ['_cataviña'], ['_catia', '_la', '_mar'], ['_catiguá'], ['_catió'], ['_catlin', '_,', '_new', '_york'], ['_caucaia', '_do', '_alto'], ['_caucete'], ['_cauto', '_cristo'], ['_caxito'], ['_cayambe'], ['_cazin'], ['_caçapava'], ['_cañada', '_de', '_gómez'], ['_ceadîr', '_lunga'], ['_cedral'], ['_cedros', '_,', '_francisco', '_morazán'], ['_cedynia'], ['_celaenae'], ['_celendín'], ['_celje'], ['_centre', '_de', '_flacq'], ['_ceres'], ['_cerknica'], ['_cerqueira', '_césar'], ['_cerquilho'], ['_cerrillos'], ['_cerro', '_chato'], ['_cerro', '_de', '_pasco'], ['_cessnock'], ['_cestrina'], ['_cesário', '_lange'], ['_cetinje'], ['_ceyhan'], ['_chabahil'], ['_chacas'], ['_chachapoyas'], ['_chagai', '_,', '_pakistan'], ['_chaghcharan'], ['_chagni'], ['_chaguanas'], ['_chajarí'], ['_chakwal'], ['_chalco', '_de', '_díaz', '_covarrubias'], ['_chalhuanca'], ['_chalkida'], ['_challapata'], ['_chamanki'], ['_chambas'], ['_chamchamal'], ['_champigny', '_sur', '_marne'], ['_chancay'], ['_chandpur'], ['_chandragiri', '_municipality'], ['_chandrapur'], ['_chane', '_independencia'], ['_changchun'], ['_changhua', '_city'], ['_changwon'], ['_chania'], ['_chapala'], ['_charagua'], ['_charallave'], ['_charikot'], ['_charleroi'], ['_charlottetown'], ['_charqueada'], ['_chatham', '_kent'], ['_chavantes'], ['_chavuma'], ['_chavín', '_de', '_huántar'], ['_chbar', '_ampéou'], ['_chefchaouen'], ['_chelmsford'], ['_chengdu'], ['_chennai'], ['_cheonan'], ['_chepén'], ['_chernomorets'], ['_chester'], ['_chetumal'], ['_cheyenne'], ['_chełm'], ['_chełmek'], ['_chhanera'], ['_chhaya'], ['_chhoti', '_sadri'], ['_chia'], ['_chiatura'], ['_chiautempan'], ['_chiayi', '_city'], ['_chibombo'], ['_chibuto'], ['_chichester'], ['_chiclayo'], ['_chicualacuala'], ['_chihuahua'], ['_chikwawa'], ['_chilca', '_,', '_cañete'], ['_chilecito'], ['_chililabombwe'], ['_chilliwack'], ['_chimbote'], ['_chimoio'], ['_chimoré'], ['_chinandega'], ['_chincha', '_alta'], ['_chincheros'], ['_chinde'], ['_chinderi'], ['_chingola'], ['_chinhoyi'], ['_chiniot'], ['_chios'], ['_chipata'], ['_chipoka'], ['_chiprovtsi'], ['_chiquián'], ['_chiradzulu'], ['_chirchiq'], ['_chitipa'], ['_chitré'], ['_chittagong'], ['_chivacoa'], ['_chivay'], ['_chivhu'], ['_chivilcoy'], ['_chișinău'], ['_chkalovsk'], ['_chlef'], ['_chmielnik'], ['_chocianów'], ['_chociwel'], ['_chocz'], ['_chodecz'], ['_choibalsan'], ['_chojna'], ['_chokwe'], ['_cholet'], ['_cholpon', '_ata'], ['_choluteca'], ['_chomutov'], ['_chone'], ['_chongqing'], ['_choni'], ['_choroszcz'], ['_chortoq'], ['_chorzele'], ['_chorzów'], ['_choszczno'], ['_chota'], ['_christchurch'], ['_christiana'], ['_christiania'], ['_chrzanów'], ['_chu', '_lai'], ['_chulucanas'], ['_chulumani'], ['_chupaca'], ['_chuquibamba'], ['_chuquibambilla'], ['_chuy'], ['_chęciny'], ['_ciechanowiec'], ['_ciego', '_de', '_ávila'], ['_cienfuegos'], ['_cieszanów'], ['_cikarang'], ['_cimișlia'], ['_cinco', '_saltos'], ['_cipolletti'], ['_ciro', '_redondo'], ['_city', '_of', '_griffith'], ['_city', '_of', '_london'], ['_city', '_of', '_zenica'], ['_ciudad', '_bolívar'], ['_ciudad', '_cuauhtémoc'], ['_ciudad', '_de', '_ancud'], ['_ciudad', '_de', '_chiautla', '_de', '_tapia'], ['_ciudad', '_de', '_la', '_costa'], ['_ciudad', '_del', '_carmen'], ['_ciudad', '_del', '_este'], ['_ciudad', '_evita'], ['_ciudad', '_guayana'], ['_ciudad', '_jardín', '_el', '_libertador'], ['_ciudad', '_madero', '_,', '_buenos', '_aires'], ['_ciudad', '_nezahualcóyotl'], ['_ciudad', '_nicolás', '_romero'], ['_ciudad', '_ojeda'], ['_ciudad', '_real'], ['_ciudad', '_rodrigo'], ['_ciudad', '_tecún', '_umán'], ['_ciężkowice'], ['_clairmont'], ['_clarence', '_rockland'], ['_clarines'], ['_clarkston', '_village', '_historic', '_district'], ['_clausthal'], ['_claypole', '_,', '_buenos', '_aires'], ['_clementina'], ['_cliza'], ['_coatzacoalcos'], ['_cobh'], ['_cobija'], ['_cobue'], ['_cochabamba'], ['_cochrane'], ['_coffs', '_harbour'], ['_cofradia'], ['_cogo'], ['_coihueco'], ['_coimbatore'], ['_cojedes'], ['_colac'], ['_colcapirhua'], ['_cold', '_lake'], ['_colima'], ['_colina'], ['_collana'], ['_colombes'], ['_colombia'], ['_colombo'], ['_colomi'], ['_colonia', '_del', '_sacramento'], ['_colonia', '_del', '_sol'], ['_colonia', '_nicolich'], ['_colquencha'], ['_colquiri'], ['_columbus'], ['_colón'], ['_colômbia'], ['_comana'], ['_comana', '_pontica'], ['_comarapa'], ['_comayagua'], ['_comayaguela'], ['_como'], ['_comodoro', '_rivadavia'], ['_complutum'], ['_compsa'], ['_comrat'], ['_conakry'], ['_concepción'], ['_concepción', '_del', '_uruguay'], ['_concepción', '_,', '_santa', '_cruz'], ['_concepción', '_,', '_tucumán'], ['_conchal'], ['_conchas'], ['_concordia'], ['_constantine'], ['_constantinople'], ['_constanța'], ['_contamana'], ['_contumazá'], ['_coolidge'], ['_coquitlam'], ['_coracora'], ['_coral', '_harbour'], ['_coranza'], ['_cordeirópolis'], ['_cordero'], ['_corella'], ['_corfu'], ['_coria', '_,', '_cáceres'], ['_corinth'], ['_corinto'], ['_coripata'], ['_cork'], ['_corner', '_brook'], ['_cornwall'], ['_coro'], ['_coroados'], ['_coronel', '_macedo'], ['_coronel', '_suárez'], ['_corongo'], ['_corozal', '_town'], ['_corrientes'], ['_corriverton'], ['_cortês'], ['_corumbataí'], ['_cos', '_(', '_city', '_)'], ['_cosmorama', '_,', '_são', '_paulo'], ['_cosmópolis'], ['_cosquín', '_,', '_córdoba'], ['_cotacachi'], ['_cotahuasi'], ['_cotia'], ['_cotoca'], ['_cotuí'], ['_county', '_administered', '_city'], ['_courbevoie'], ['_coventry'], ['_coyuca', '_de', '_catalán'], ['_cranbrook'], ['_crasnoe'], ['_crater', '_district'], ['_cravinhos'], ['_cregneash'], ['_crieff'], ['_cristais', '_paulista'], ['_croix', '_des', '_bouquets'], ['_cruces'], ['_cruz', '_del', '_eje'], ['_cruzeiro', '_,', '_são', '_paulo'], ['_cruzália'], ['_créteil'], ['_cuamba'], ['_cuatro', '_cañadas'], ['_cubatão'], ['_cuenca'], ['_cuevas', '_del', '_almanzora'], ['_cuevo'], ['_cuidad', '_sin', '_trabajo'], ['_cumae'], ['_cumanayagua'], ['_cumaná'], ['_cunha'], ['_cupcini'], ['_cupertino'], ['_curitiba'], ['_curuzú', '_cuatiá'], ['_cusae'], ['_cusco'], ['_cutha'], ['_cutral', '_có'], ['_cuttack'], ['_cyangugu'], ['_cybinka'], ['_cynocephalus'], ['_czaplinek'], ['_czarna', '_białostocka'], ['_czarne'], ['_czchów'], ['_czechowice', '_dziedzice'], ['_czempiń'], ['_czerniejewo'], ['_czersk'], ['_czerwieńsk'], ['_czerwionka', '_leszczyny'], ['_czerwińsk', '_nad', '_wisłą'], ['_czyżew'], ['_częstochowa'], ['_człopa'], ['_cáceres'], ['_cádiz'], ['_cárdenas'], ['_cássia', '_dos', '_coqueiros'], ['_cândido', '_mota'], ['_cândido', '_rodrigues'], ['_cërrik'], ['_córdoba'], ['_cúa'], ['_cúcuta'], ['_cúpira'], ['_călărași'], ['_căușeni'], ['_cəbrayil'], ['_cəlilabad'], ['_cần', '_thơ'], ['_da', '_nang'], ['_dabakala'], ['_dabola'], ['_dabou'], ['_dadegaon'], ['_dadyal'], ['_daga', '_post'], ['_dagana', '_,', '_senegal'], ['_dahra'], ['_dahyan'], ['_dakhla'], ['_dakshinkali'], ['_dalanzadgad'], ['_daleszyce'], ['_dalvík'], ['_damanhur'], ['_damascus'], ['_damaturu'], ['_damietta'], ['_dandenong'], ['_dangila'], ['_dangriga'], ['_danilovgrad'], ['_danlí'], ['_danyang'], ['_danyor'], ['_daphne', '_near', '_antioch'], ['_dar', '_el', '_salam'], ['_dar', '_es', '_salaam'], ['_daraa'], ['_darat', '_izza'], ['_daraw'], ['_darayya'], ['_darbhanga'], ['_dargan', '_ata'], ['_darkhan'], ['_daru'], ['_darwin'], ['_dasharathchanda'], ['_daton'], ['_daugai'], ['_daugavpils'], ['_daule'], ['_dauphin'], ['_daura'], ['_david'], ['_davlekanovo'], ['_davutlar'], ['_dawei'], ['_dawson', '_creek'], ['_dayr', '_hafir'], ['_dazaifu'], ['_daşkəsən'], ['_daşoguz'], ['_debar'], ['_debarq'], ['_debelets'], ['_debrzno'], ['_debundscha'], ['_dediapada'], ['_dedoplis', '_tskaro'], ['_deep', '_creek'], ['_dehradun'], ['_deir', '_al', '_balah'], ['_deir', '_atiyah'], ['_deir', '_ez', '_zor'], ['_deir', '_mawas'], ['_dekemhare'], ['_delft'], ['_delmas'], ['_dembecha'], ['_dembi', '_dollo'], ['_dembo'], ['_dembéni'], ['_den', '_helder'], ['_dengel', '_ber'], ['_denizciler'], ['_denizli'], ['_denu'], ['_deoghar'], ['_dera', '_allah', '_yar'], ['_dera', '_ghazi', '_khan'], ['_derby'], ['_derik'], ['_derry'], ['_desaguadero'], ['_descalvado'], ['_desouk'], ['_dessie'], ['_devarakonda'], ['_deventer'], ['_devonport'], ['_devsar'], ['_deán', '_funes'], ['_dečani'], ['_dhahran'], ['_dhaka'], ['_dhamar'], ['_dhanbad'], ['_dhingana', '_city'], ['_dhlail'], ['_dhule'], ['_dhuluiya'], ['_diadema'], ['_diadochoupolis'], ['_diamniadio'], ['_diaobé', '_kabendou'], ['_dibrugarh'], ['_diddeleng'], ['_diego', '_de', '_alvear'], ['_diekirch'], ['_dieppe'], ['_differdange'], ['_digelu'], ['_dikhil'], ['_dili'], ['_dilolo'], ['_dimako'], ['_dimitrovgrad'], ['_dimona'], ['_dina'], ['_dinajpur'], ['_dindigul'], ['_dinga'], ['_dinhabah'], ['_diofior'], ['_diosso'], ['_diourbel'], ['_dir'], ['_dirce', '_reis'], ['_dire', '_dawa'], ['_diriamba'], ['_diriyah'], ['_dispur'], ['_divinolândia'], ['_divjakë'], ['_divo'], ['_divuma'], ['_diyarbakır'], ['_djambala'], ['_djanet'], ['_djelfa'], ['_djibouti'], ['_djoum'], ['_dmanisi'], ['_dnestrovsc'], ['_doba'], ['_dobanovci'], ['_dobczyce'], ['_dobiegniew'], ['_doboj'], ['_dobra'], ['_dobra', '_,', '_turek', '_county'], ['_dobrada'], ['_dobre', '_miasto'], ['_dobrich'], ['_dobrinishte'], ['_dobrodzień'], ['_dobrzany'], ['_dobrzyca'], ['_dobrzyń', '_nad', '_wisłą'], ['_dock', '_sud'], ['_dodhara', '_chandani', '_municipality'], ['_dodola', '_,', '_ethiopia'], ['_doetinchem'], ['_dogbo'], ['_dois', '_córregos'], ['_dokimeion'], ['_dolcinópolis'], ['_dolisie'], ['_dolna', '_oryahovitsa'], ['_dolores'], ['_dolsk'], ['_domburg'], ['_domžale'], ['_don', '_bosco'], ['_don', '_torcuato'], ['_dondo'], ['_dondușeni'], ['_donegal'], ['_dongargaon', '_,', '_agar', '_malwa'], ['_dongola'], ['_dongou'], ['_donji', '_milanovac'], ['_donostia', '_san', '_sebastian'], ['_dordrecht'], ['_dostyk'], ['_douala'], ['_douma'], ['_dourado', '_,', '_são', '_paulo'], ['_dracena'], ['_dragoman'], ['_drama'], ['_drargua'], ['_dras'], ['_dravograd'], ['_drawno'], ['_drawsko', '_pomorskie'], ['_drepana'], ['_dresden'], ['_drezdenko'], ['_drobin'], ['_drochia'], ['_drogheda'], ['_drohiczyn'], ['_druskininkai'], ['_dryden'], ['_drzewica'], ['_drøbak'], ['_dschang'], ['_duartina'], ['_duba'], ['_dubai'], ['_dubbo'], ['_dubăsari'], ['_duhok'], ['_dukla'], ['_dumaria'], ['_dumat', '_al', '_jandal'], ['_dumont'], ['_dunavarsány'], ['_dundee'], ['_dunedin'], ['_dunkirk'], ['_dunmurry'], ['_dunmurry', '_west'], ['_dupnitsa'], ['_duque', '_de', '_caxias'], ['_dura', '_,', '_hebron'], ['_duraykish'], ['_durazno'], ['_durban'], ['_durbete'], ['_durg'], ['_durgawati'], ['_durham'], ['_durlești'], ['_durrës'], ['_durán', '_,', '_ecuador'], ['_dusetos'], ['_dushanbe'], ['_dusheti'], ['_dusmareb'], ['_duékoué'], ['_dvin'], ['_dzerzhinsk'], ['_dzhebel'], ['_działoszyce'], ['_działoszyn'], ['_dzierzgoń'], ['_dziwnów'], ['_dédougou'], ['_dédé', '_makouba'], ['_düzce'], ['_dąbie', '_,', '_greater', '_poland', '_voivodeship'], ['_dąbrowa', '_białostocka'], ['_dąbrowa', '_górnicza'], ['_dąbrowa', '_tarnowska'], ['_dębno'], ['_děčín'], ['_dūkštas'], ['_dəliməmmədli'], ['_east', '_hidd', '_city'], ['_east', '_london'], ['_ebebiyín'], ['_ecbatana'], ['_eceabat'], ['_echaporã'], ['_echternach'], ['_edappadi'], ['_edd'], ['_edessa'], ['_edfu'], ['_edinburgh'], ['_edineț'], ['_edirne'], ['_edmonton'], ['_edéa'], ['_eenhana'], ['_effon', '_alaiye'], ['_egaña'], ['_egilsstaðir'], ['_eglon', '_,', '_canaan'], ['_eibar'], ['_ejido'], ['_ejido', '_mochis'], ['_ekenäs'], ['_ekibastuz'], ['_ekwendeni'], ['_el', '_agheila'], ['_el', '_aioun', '_sidi', '_mellouk'], ['_el', '_alamein'], ['_el', '_alto'], ['_el', '_badari'], ['_el', '_bahnasa'], ['_el', '_balyana'], ['_el', '_bayyada'], ['_el', '_carmen', '_(', '_ecuador', '_)'], ['_el', '_carmen', '_(', '_santa', '_cruz', '_)'], ['_el', '_carrizo'], ['_el', '_consejo'], ['_el', '_empalme'], ['_el', '_hiba'], ['_el', '_jadida'], ['_el', '_kantara'], ['_el', '_kharga', '_town'], ['_el', '_limón'], ['_el', '_mahalla', '_el', '_kubra'], ['_el', '_matareya'], ['_el', '_oued'], ['_el', '_palomar', '_,', '_buenos', '_aires'], ['_el', '_pangui'], ['_el', '_parco'], ['_el', '_progreso'], ['_el', '_qantarah', '_el', '_sharqiyya'], ['_el', '_refugio', '_,', '_baja', '_california'], ['_el', '_roble'], ['_el', '_rosario', '_,', '_baja', '_california'], ['_el', '_salvador'], ['_el', '_shorouk'], ['_el', '_taref'], ['_el', '_tigre'], ['_el', '_tocuyo'], ['_el', '_tod'], ['_el', '_tor'], ['_el', '_torno', '_,', '_santa', '_cruz'], ['_el', '_triunfo'], ['_elbasan'], ['_elbląg'], ['_eldorado', '_,', '_são', '_paulo'], ['_eldoradown'], ['_eldoret'], ['_elektrostal'], ['_elektrėnai'], ['_elena'], ['_eleusis'], ['_elias', '_fausto'], ['_elin', '_pelin'], ['_elisiário'], ['_ely'], ['_elâzığ'], ['_embarcación'], ['_embaúba'], ['_embu'], ['_embu', '_das', '_artes'], ['_embu', '_guaçu'], ['_emfraz'], ['_emiliano', '_zapata'], ['_emilianópolis'], ['_eminabad'], ['_emona'], ['_empalme'], ['_encarnación'], ['_ende'], ['_endibir'], ['_engenheiro', '_coelho'], ['_enkhuizen'], ['_enniskillen'], ['_ensenada'], ['_entebbe'], ['_entella'], ['_enugu'], ['_epanomi'], ['_epiphaneia', '_in', '_bithynia'], ['_erbil'], ['_erdenet'], ['_ereğli'], ['_erfelek'], ['_erfurt'], ['_erigavo'], ['_eriza'], ['_erode'], ['_errachidia'], ['_errenteria'], ['_ertis'], ['_eryx'], ['_erzin'], ['_erzincan'], ['_erzurum'], ['_esbjerg'], ['_esch', '_sur', '_alzette'], ['_escuintla'], ['_esik'], ['_eskifjörður'], ['_eskişehir'], ['_esmeralda'], ['_esmeraldas'], ['_esna'], ['_espargos'], ['_espera', '_feliz'], ['_esperanza'], ['_esplugues', '_de', '_llobregat'], ['_espoo'], ['_espírito', '_santo', '_do', '_pinhal'], ['_espírito', '_santo', '_do', '_turvo'], ['_esquel'], ['_esquipulas'], ['_essaouira'], ['_esslingen', '_am', '_neckar'], ['_estella', '_lizarra'], ['_estelí'], ['_estevan'], ['_estiva', '_gerbi'], ['_estrela', \"_d'oeste\"], ['_estrela', '_do', '_norte', '_,', '_são', '_paulo'], ['_esztergom'], ['_etarea'], ['_etoumbi'], ['_ettelbrück'], ['_eucaliptus'], ['_euclides', '_da', '_cunha', '_paulista'], ['_eudocias'], ['_euroea', '_in', '_phoenicia'], ['_european', '_green', '_capital'], ['_euthydemia'], ['_evinayong'], ['_ewarton'], ['_ewo'], ['_ewu'], ['_exeter'], ['_eyl'], ['_eyrarbakki'], ['_ezeiza'], ['_ezpeleta'], ['_ezzedine', '_salim', '_subdistrict'], ['_ežerėlis'], ['_faaborg'], ['_fada'], ['_fada', \"_n'gourma\"], ['_faisalabad'], ['_faiyum'], ['_faizabad', '_cantt'], ['_falerii', '_novi'], ['_falkum'], ['_fallujah'], ['_falsterbo'], ['_famaillá'], ['_farafra', '_town'], ['_farah'], ['_faraskur'], ['_faridabad'], ['_faridpur', '_city'], ['_farim'], ['_fartura'], ['_fateh', '_pur'], ['_fatehganj'], ['_fatehgunj'], ['_fatick'], ['_faya', '_largeau'], ['_fayid'], ['_federal', '_,', '_entre', '_ríos'], ['_feldkirch'], ['_feni'], ['_fenix'], ['_fergana'], ['_ferizaj'], ['_ferkessédougou'], ['_fernando', '_echenique'], ['_fernando', '_prestes'], ['_fernandópolis'], ['_fernández', '_alonso'], ['_fernão'], ['_ferrara'], ['_ferraz', '_de', '_vasconcelos'], ['_ferreñafe'], ['_ferrol'], ['_fethiye'], ['_fez'], ['_fianga'], ['_fier'], ['_fierzë'], ['_figuig'], ['_finike'], ['_finote', '_selam'], ['_finziade'], ['_fiq'], ['_firozpur'], ['_flin', '_flon'], ['_flora', '_rica'], ['_floreal'], ['_florence'], ['_florencia'], ['_florencio', '_varela'], ['_florești'], ['_florida'], ['_florínea'], ['_florø'], ['_flórida', '_paulista'], ['_foggia'], ['_fomboni'], ['_fondanti'], ['_fontana'], ['_forlì'], ['_formiae'], ['_formosa'], ['_forssa'], ['_fort', '_de', '_france'], ['_fort', '_lamy'], ['_fort', '_st', '_.', '_john'], ['_fort', '_william'], ['_fortaleza'], ['_forward', '_kahuta'], ['_fougamou'], ['_foumban'], ['_foundiougne'], ['_foča'], ['_fraita'], ['_frampol'], ['_franca'], ['_franceville'], ['_francisco', '_morato'], ['_francistown'], ['_franco', '_da', '_rocha'], ['_frank', '_país'], ['_frankfurt', '_west'], ['_frankston'], ['_fray', '_bentos'], ['_fredericia'], ['_fredericton'], ['_frederikshavn'], ['_frederikssund'], ['_frederiksværk'], ['_fredrikshald'], ['_freetown'], ['_fresnillo'], ['_fridau'], ['_frombork'], ['_frontera'], ['_frías'], ['_frías', '_,', '_santiago', '_del', '_estero'], ['_fröndenberg'], ['_frýdek', '_místek'], ['_fujairah'], ['_fulacunda'], ['_funafuti'], ['_funai'], ['_funes', '_,', '_santa', '_fe'], ['_fushë', '_arrëz'], ['_fushë', '_krujë'], ['_füzuli'], ['_fălești'], ['_fındıklı'], ['_gabane'], ['_gabela'], ['_gabriel', '_leyva', '_solano'], ['_gabriel', '_monteiro'], ['_gabrovo'], ['_gabú'], ['_gadaka'], ['_gades'], ['_gagnoa'], ['_gaibandha'], ['_gaighat'], ['_gajuri'], ['_galabovo'], ['_galas'], ['_galeana'], ['_gali'], ['_galkayo'], ['_galle'], ['_galt'], ['_galway'], ['_gamboma'], ['_gandajika'], ['_gandhinagar'], ['_gandia'], ['_gandiaye'], ['_gangavalli', '_taluk'], ['_gangtok'], ['_garabekewül'], ['_garabogaz'], ['_garbahaareey'], ['_gardabani'], ['_gardēz'], ['_gargždai'], ['_garissa'], ['_garliava'], ['_garoowe'], ['_garoua'], ['_garrygala'], ['_garut'], ['_garça'], ['_garðabær'], ['_gatama'], ['_gath', '_rimmon'], ['_gaur', '_,', '_nepal'], ['_gavião', '_peixoto'], ['_gaya'], ['_gayéri'], ['_gaza', '_city'], ['_gazakh'], ['_gaziantep'], ['_gazojak'], ['_gbadolite'], ['_gbélo'], ['_gdynia'], ['_gedera'], ['_geelong'], ['_geestland'], ['_geita'], ['_gelgaudiškis'], ['_gelinkaya'], ['_gemena'], ['_general', '_alvear'], ['_general', '_escobedo'], ['_general', '_güemes', '_,', '_salta'], ['_general', '_josé', '_de', '_san', '_martín'], ['_general', '_leonidas', '_plaza', '_gutiérrez'], ['_general', '_levalle'], ['_general', '_pacheco'], ['_general', '_pico'], ['_general', '_roca'], ['_general', '_rodríguez'], ['_general', '_salgado'], ['_general', '_toshevo'], ['_genk'], ['_genoa'], ['_george', '_town'], ['_georgetown'], ['_geraardsbergen'], ['_geraldton'], ['_germiston'], ['_getafe'], ['_getulina'], ['_ghafsai'], ['_ghanzi'], ['_gharrous'], ['_gharyan'], ['_ghat'], ['_ghaziabad'], ['_ghazni'], ['_ghent'], ['_ghinda'], ['_ghorahi'], ['_ghotki'], ['_giannitsa'], ['_gibara'], ['_gijduvan'], ['_gijón'], ['_gikongoro'], ['_gimbi'], ['_giresun'], ['_girga'], ['_girona'], ['_gisborne'], ['_gisenyi'], ['_gitega'], ['_giugliano', '_in', '_campania'], ['_givatayim'], ['_giza'], ['_gjakova'], ['_gjilan'], ['_gjirokastër'], ['_gladbach', '_rheydt'], ['_gladstone'], ['_glasgow'], ['_glavinitsa'], ['_glengarriff'], ['_gleno'], ['_glew', '_,', '_buenos', '_aires'], ['_glicério'], ['_glinojeck'], ['_gliwice'], ['_glodeni'], ['_gloucester'], ['_glyfada'], ['_gniew'], ['_gniewkowo'], ['_goba'], ['_gobabis'], ['_gobernador', '_virasoro'], ['_gobo'], ['_godavarikhani'], ['_gode'], ['_godech'], ['_godoy', '_cruz'], ['_gogawan'], ['_gogolin'], ['_goindval'], ['_goiânia'], ['_gokarneshwor'], ['_golaghat'], ['_golczewo'], ['_gold', '_coast'], ['_goleniów'], ['_golina'], ['_goma'], ['_gomphi'], ['_gonaïves'], ['_gondar'], ['_goniądz'], ['_gonoessa'], ['_gonzález', '_catán'], ['_good', '_hope', '_,', '_botswana'], ['_gopalganj'], ['_gopalpur', '_,', '_tangail', '_,', '_bangladesh'], ['_gorakhpur'], ['_goranboy'], ['_gori'], ['_gorna', '_oryahovitsa'], ['_gornja', '_radgona'], ['_gornji', '_petrovci'], ['_gornji', '_vakuf', '_uskoplje'], ['_goroka'], ['_goroumo'], ['_gorzów', '_wielkopolski'], ['_gorzów', '_śląski'], ['_goré'], ['_gosford'], ['_gossas'], ['_gostivar'], ['_gostyń'], ['_gotse', '_delchev'], ['_gouda'], ['_goudiry'], ['_goudomp'], ['_goulburn'], ['_goulmima'], ['_gouyave'], ['_goya'], ['_goychay'], ['_goz', '_beïda'], ['_gołańcz'], ['_gołdap'], ['_gościno'], ['_grabów', '_nad', '_prosną'], ['_gracias'], ['_graethem'], ['_grafton'], ['_gramada'], ['_gramsh'], ['_granada'], ['_grand', '_baie'], ['_grand', '_bourg'], ['_grand', '_lahou'], ['_grange', '_hill', '_,', '_jamaica'], ['_granollers'], ['_gravisca'], ['_greater', '_noida'], ['_green', '_bay'], ['_gregorio', '_de', '_laferrere'], ['_grenville'], ['_grenå'], ['_grevenmacher'], ['_griffith'], ['_grigoriopol'], ['_grindavík'], ['_grodków'], ['_grodzisk', '_mazowiecki'], ['_grodzisk', '_wielkopolski'], ['_groningen'], ['_grootfontein'], ['_grosuplje'], ['_grudziądz'], ['_grundarfjörður'], ['_gryfice'], ['_gryfino'], ['_gryfów', '_śląski'], ['_grójec'], ['_guacara'], ['_guadalajara'], ['_guadalupe'], ['_guadalupe', '_,', '_baja', '_california'], ['_guadix'], ['_guaimaca'], ['_guaimbê'], ['_guaiçara'], ['_gualeguay'], ['_gualeguaychú'], ['_guanajay'], ['_guanape'], ['_guanare'], ['_guangzhou'], ['_guantánamo'], ['_guapiara'], ['_guapiaçu'], ['_guaraci'], ['_guaranda'], ['_guarani', \"_d'oeste\"], ['_guarantã'], ['_guararapes'], ['_guararema'], ['_guaratinguetá'], ['_guaraçaí'], ['_guarenas'], ['_guareí'], ['_guariba'], ['_guarujá'], ['_guarulhos'], ['_guará'], ['_guasave', '_city'], ['_guasdualito'], ['_guastatoya'], ['_guatapará'], ['_guatemala', '_city'], ['_guatire'], ['_guayaquil'], ['_guayaramerín'], ['_guaymas'], ['_guaíra', '_,', '_são', '_paulo'], ['_guelmim'], ['_guelph'], ['_guercif'], ['_guere', '_,', '_cameroon'], ['_guernica'], ['_guerrero', '_,', '_coahuila'], ['_guider'], ['_guiglo'], ['_guinguinéo'], ['_guisa'], ['_guittena'], ['_gujranwala'], ['_gujrat'], ['_gularia'], ['_gulistan', '_,', '_balochistan'], ['_guliston'], ['_gulu'], ['_gumare'], ['_gummi'], ['_gundeshapur'], ['_gunthakal'], ['_gurdaspur'], ['_gurgaon'], ['_guriceel'], ['_gurjaani'], ['_gurúè'], ['_gusau'], ['_gusinje'], ['_guwahati'], ['_guzolândia'], ['_guáimaro'], ['_guéckédougou'], ['_guédiawaye'], ['_gwadar'], ['_gwalior'], ['_gwanda'], ['_gweru'], ['_gyumri'], ['_gália'], ['_góis'], ['_góra'], ['_góra', '_kalwaria'], ['_górzno'], ['_gökçe'], ['_gökçebey'], ['_gölcük'], ['_göreme'], ['_göygöl'], ['_göytəpə'], ['_gözcüler'], ['_güigüe'], ['_güines'], ['_güira', '_de', '_melena'], ['_gümüşhane'], ['_gürpınar'], ['_güzelyalı'], ['_gąbin'], ['_głogów', '_małopolski'], ['_głogówek'], ['_głubczyce'], ['_głuchołazy'], ['_głuszyca'], ['_gədəbəy'], ['_g‘uzor'], [\"_ha'il\", '_,', '_saudi', '_arabia'], ['_haapajärvi'], ['_haapavesi'], ['_haarlem'], ['_habban', '_district'], ['_hachinohe'], ['_hadejia'], ['_hadera'], ['_hadrianopolis'], ['_hadzhidimovo'], ['_hafar', '_al', '_batin'], ['_hafnarfjörður'], ['_hafun'], ['_haifa'], ['_haiphong'], ['_hajipur'], ['_hajiqabul'], ['_hajjah'], ['_hakha'], ['_hakkâri'], ['_hala'], ['_halabja'], ['_halaesa'], ['_halah'], ['_halaç'], ['_halebidu'], ['_half', '_way', '_tree'], ['_halhul'], ['_halifax'], ['_halinów'], ['_halpa'], ['_halyciae'], ['_hama'], ['_hamad', '_town'], ['_hamam', '_al', '_alil'], ['_hamar'], ['_hambantota'], ['_hamilton'], ['_hamina'], ['_hammerfest'], ['_hanamakonda'], ['_hanko'], ['_hankou'], ['_hannut'], ['_hanoi'], ['_hanover'], ['_hanseongbu'], ['_harar'], ['_harare'], ['_harasta'], ['_harbin'], ['_harbiye'], ['_harbour', '_island'], ['_harburg'], ['_harburg', '_wilhelmsburg'], ['_harem'], ['_hargeisa'], ['_harhoura'], ['_haridwar'], ['_harinakunda'], ['_haripur', '_,', '_pakistan'], ['_harjavalta'], ['_harstad'], ['_hashtpar'], ['_haskovo'], ['_hasköy'], ['_hassa'], ['_hassan'], ['_hasselt'], ['_hastinganj'], ['_hastings'], ['_haugesund'], ['_havelse'], ['_havran'], ['_havířov'], ['_hayes'], ['_hayq'], ['_hazar'], ['_hazorasp'], ['_hebron'], ['_hedley', '_,', '_british', '_columbia'], ['_heerenveen'], ['_heheng'], ['_heho'], ['_heinola'], ['_heliopolis'], ['_hella'], ['_hellenopolis'], ['_hellissandur'], ['_hellín'], ['_helmond'], ['_helsingør'], ['_helsinki'], ['_helwan'], ['_henties', '_bay'], ['_heraclea'], ['_heraclea', '_in', '_trachis'], ['_herakleopolis', '_magna'], ['_herat'], ['_herceg', '_novi'], ['_herculândia'], ['_heredia'], ['_hereford'], ['_hermonthis'], ['_hermosillo'], ['_herning'], ['_heroica', '_matamoros'], ['_heroica', '_nogales'], ['_heronem', '_trebirorum'], ['_hervey', '_bay'], ['_herzliya'], ['_hibiscus', '_coast'], ['_highgate'], ['_higuerote'], ['_hihya'], ['_hillah'], ['_hillerød'], ['_hillsborough'], ['_hippana'], ['_hiroshima'], ['_hisar'], ['_hisar', '_urban', '_agglomeration'], ['_hisarya', '_,', '_bulgaria'], ['_hisor'], ['_historic', '_centre', '_of', '_cusco'], ['_hjørring'], ['_hlatikulu'], ['_hlotse'], ['_hluti'], ['_ho'], ['_hoa', '_lu'], ['_hobart'], ['_hobro'], ['_hod', '_hasharon'], ['_hoegaarden'], ['_hohnstein'], ['_hohoe'], ['_hola'], ['_holambra'], ['_holbæk'], ['_holguín'], ['_holland', '_village'], ['_hollerich', '_bonnevoie'], ['_holon'], ['_holstebro'], ['_homa', '_bay'], ['_hondarribia'], ['_hong', '_kong'], ['_honiara'], ['_hope', '_town'], ['_horsens'], ['_horsham'], ['_horten'], ['_hortolândia'], ['_hospet'], ['_hořice'], ['_hpa', '_an'], ['_hradec', '_králové'], ['_hrairia'], ['_hrastnik'], ['_hsinchu'], ['_hsinking'], ['_hua', '_hin'], ['_huacaraje'], ['_huachacalla'], ['_huacho'], ['_huamachuco'], ['_huambo'], ['_huanca', '_sancos'], ['_huancabamba'], ['_huancané'], ['_huancavelica'], ['_huancayo'], ['_huanchaco'], ['_huanta'], ['_huanuni'], ['_huaquillas'], ['_huaral'], ['_huaraz'], ['_huari'], ['_huarmey'], ['_huaura'], ['_huaytará'], ['_hub'], ['_hubli'], ['_hudur'], ['_huehuetenango'], ['_huejotzingo'], ['_huelva'], ['_huining', '_prefecture'], ['_huittinen'], ['_hukuntsi'], ['_humahuaca'], ['_humera'], ['_hun'], ['_hunjiang', '_city'], ['_hunza'], ['_hurghada'], ['_hurna'], ['_husseiniya'], ['_huánuco'], ['_hvammstangi'], ['_hveragerði'], ['_hvolsvöllur'], ['_hwange'], ['_hwaseong'], ['_hybla', '_heraea'], ['_hybla', '_major'], ['_hyderabad'], ['_hyria'], ['_hyvinkää'], ['_hämeenlinna'], ['_hîncești'], ['_hólar'], ['_hólmavík'], ['_höfn'], ['_hørsholm'], ['_húsavík'], ['_hīt'], ['_iacanga'], ['_iacri'], ['_ialoveni'], ['_iaras'], ['_iasos'], ['_ibadan'], ['_ibagué'], ['_ibarra'], ['_ibaté'], ['_ibb'], ['_ibirarema'], ['_ibirá'], ['_ibitinga'], ['_ibiúna'], ['_ica'], ['_ichalkaranji'], ['_ichinomiya'], ['_icém'], ['_idanre'], ['_idenau'], ['_idhna'], ['_idiofa'], ['_idku'], ['_idlib'], ['_idrias'], ['_ie'], ['_iepê'], ['_ietas'], ['_ife'], ['_ifrane'], ['_igarapava'], ['_igaratá'], ['_igaraçu', '_do', '_tietê'], ['_ignatievo'], ['_iguala'], ['_iguape'], ['_iim'], ['_iisalmi'], ['_ikaalinen'], ['_ikast'], ['_ikela'], ['_ikere', '_ekiti'], ['_ilam'], ['_ilave'], ['_ile'], ['_ilebo'], ['_ilesa'], ['_ilha', '_comprida'], ['_ilha', '_solteira'], ['_ilhabela'], ['_ilirska', '_bistrica'], ['_illaga'], ['_ilo'], ['_ilorin'], ['_ilulissat'], ['_ilıca'], ['_imachara'], ['_imasgho'], ['_imatra'], ['_imesi', '_ile'], ['_imishli'], ['_impfondo'], ['_imphal'], ['_imías'], ['_indaiatuba'], ['_independencia'], ['_indiana', '_,', '_são', '_paulo'], ['_indiaporã'], ['_indore'], ['_ingeniero', '_jacobacci'], ['_ingeniero', '_pablo', '_nogués'], ['_inhambane'], ['_injibara'], ['_inkhil'], ['_innsbruck'], ['_integrated', '_urban', '_water', '_management', '_in', '_medellín', '_,', '_colombia'], ['_interamna', '_lirenas'], ['_intibili'], ['_invercargill'], ['_inverness'], ['_inycum'], ['_inúbia', '_paulista'], ['_ioannina'], ['_ipaussu'], ['_iperó'], ['_ipeúna'], ['_ipiguá'], ['_iporanga'], ['_ipswich'], ['_ipuã'], ['_iquitos'], ['_iracemápolis'], ['_irapuato'], ['_irapuru'], ['_irapuã'], ['_irbid'], ['_iringa'], ['_ironcollo'], ['_irupana'], ['_isa', '_town'], ['_ischia', '_di', '_castro'], ['_iseyin'], ['_isfana'], ['_isfara'], ['_ishozi'], ['_isidro', '_casanova'], ['_isiolo'], ['_isiro'], ['_iskandar', '_puteri'], ['_iskandariya'], ['_iskar'], ['_islamabad'], ['_islamkot'], ['_island', '_of', '_mozambique'], ['_ismaïlia'], ['_isparta'], ['_isperih'], ['_istarawshan'], ['_istočno', '_sarajevo'], ['_itaberá'], ['_itahari'], ['_itajobi'], ['_itaju'], ['_itanagar'], ['_itanhaém'], ['_itaoca'], ['_itapecerica', '_da', '_serra'], ['_itapetininga'], ['_itapeva', '_,', '_são', '_paulo'], ['_itapevi'], ['_itapira'], ['_itapirapuã', '_paulista'], ['_itaporanga', '_,', '_são', '_paulo'], ['_itapura'], ['_itapuí'], ['_itaquaquecetuba'], ['_itararé'], ['_itariri'], ['_itatiba'], ['_itaí'], ['_itirapina'], ['_itirapuã'], ['_itobi'], ['_ittoqqortoormiit'], ['_itu'], ['_ituiutaba'], ['_ituni'], ['_itupeva'], ['_ituverava'], ['_itápolis'], ['_iuvavum'], ['_ivanjica'], ['_ivirgarzama'], ['_iwonicz', '_zdrój'], ['_ixiamas'], ['_izatovci'], ['_izbica', '_kujawska'], ['_izki'], ['_izola'], ['_izra'], ['_iñapari'], ['_iğdır'], ['_iłowa'], ['_iłża'], ['_ińsko'], ['_işıklar'], ['_i̇nallı'], ['_i̇negöl'], ['_i̇ske', '_qazan'], ['_i̇smayıllı'], ['_i̇smil'], ['_i̇zmit'], ['_jabalia'], ['_jabalpur'], ['_jableh'], ['_jablonec', '_nad', '_nisou'], ['_jaborandi', '_,', '_são', '_paulo'], ['_jaboticabal'], ['_jabłonowo', '_pomorskie'], ['_jacareí'], ['_jaci', '_,', '_são', '_paulo'], ['_jacobabad'], ['_jacqueville'], ['_jacupiranga'], ['_jaffa'], ['_jaffna'], ['_jagdalpur'], ['_jagoh'], ['_jaguariúna'], ['_jagüey', '_grande'], ['_jahanpanah'], ['_jaisalmer'], ['_jakarta'], ['_jakobstad'], ['_jalal', '_abad'], ['_jalalabad'], ['_jalalpur', '_bhattian'], ['_jalandhar'], ['_jalapa'], ['_jales'], ['_jalgaon'], ['_jalna'], ['_jalore'], ['_jalpa', '_de', '_méndez'], ['_jaltipan', '_de', '_morelos'], ['_jambeiro'], ['_jamestown'], ['_jammu'], ['_jamnagar'], ['_jamshedpur'], ['_jamtara'], ['_janakpurdham'], ['_jandira'], ['_janikowo'], ['_janjgir'], ['_janowiec', '_wielkopolski'], ['_janzur'], ['_janów', '_lubelski'], ['_jarabulus'], ['_jaramana'], ['_jaramijó'], ['_jardinópolis'], ['_jardín', '_américa'], ['_jarinu'], ['_jarmuth'], ['_jarocin'], ['_jaruco'], ['_jasień', '_,', '_lubusz', '_voivodeship'], ['_jastrebarsko'], ['_jastrowie'], ['_jastrzębie', '_zdrój'], ['_jauja'], ['_jaunpur'], ['_jawi', '_,', '_penang'], ['_jaworzno'], ['_jaworzyna', '_śląska'], ['_jayrud'], ['_jazer'], ['_jaén'], ['_jaú'], ['_jaʿār'], ['_jeddah'], ['_jedlicze'], ['_jedwabne'], ['_jelcz', '_laskowice'], ['_jelenia', '_góra'], ['_jelgava'], ['_jena'], ['_jenin', '_,', '_palestine'], ['_jerada'], ['_jerash'], ['_jerez', '_de', '_la', '_frontera'], ['_jerez', '_de', '_los', '_caballeros'], ['_jericho'], ['_jeriquara'], ['_jerusalem'], ['_jesús', '_maría'], ['_jesús', '_menéndez'], ['_jesús', '_,', '_peru'], ['_jeziorany'], ['_jezkazgan'], ['_jhalokati'], ['_jhang'], ['_jhansi'], ['_jhelum'], ['_jibla'], ['_jiguaní'], ['_jijiga'], ['_jimaguayú'], ['_jimeta'], ['_jimma'], ['_jinja'], ['_jinotega'], ['_jinotepe'], ['_jipijapa'], ['_jisr', '_al', '_shughur'], ['_jiutepec'], ['_jizan'], ['_jizzakh'], ['_joal', '_fadiouth'], ['_joanópolis'], ['_jodhpur'], ['_jodoigne'], ['_joensuu'], ['_johannesburg'], ['_jolfa', '_,', '_azerbaijan'], ['_jonava'], ['_joniškis'], ['_joniškėlis'], ['_joondalup'], ['_jorf'], ['_jorochito'], ['_jos'], ['_josé', '_bonifácio', '_,', '_são', '_paulo'], ['_josé', '_c.', '_paz'], ['_josé', '_enrique', '_rodó'], ['_josé', '_pedro', '_varela'], ['_josé', '_santos', '_guardiola'], ['_jounieh'], ['_jovellanos'], ['_joão', '_ramalho'], ['_ju'], ['_juan', '_bautista', '_alberdi'], ['_juan', '_griego'], ['_juanjuí'], ['_juba'], ['_jubail'], ['_jubbah'], ['_judibana'], ['_juhaynah'], ['_juigalpa'], ['_julcán'], ['_juli'], ['_juliaca'], ['_juma'], ['_jumbilla'], ['_jumilla'], ['_jumirim'], ['_jumla'], ['_junagadh'], ['_jundiaí'], ['_junnar'], ['_junqueirópolis'], ['_junín'], ['_juquitiba'], ['_juquiá'], ['_jurbarkas'], ['_juticalpa'], ['_jutrosin'], ['_jvari'], ['_jwaya'], ['_jyväskylä'], ['_jämsä'], ['_järvenpää'], ['_józefów', '_nad', '_wisłą'], ['_józefów', '_,', '_biłgoraj', '_county'], ['_júlio', '_mesquita'], ['_jędrzejów'], [\"_k'iche\", \"_'\", '_kingdom', '_of', \"_q'umarkaj\"], ['_kaarina'], ['_kabala'], ['_kabalo'], ['_kabara', '_,', '_mali'], ['_kableshkovo'], ['_kabul'], ['_kabwe'], ['_kadam', '_rasul'], ['_kadoma'], ['_kaduna'], ['_kafr', '_el', '_dawwar'], ['_kafr', '_el', '_sheikh'], ['_kafr', '_qasim'], ['_kafr', '_shukr'], ['_kaga', '_bandoro'], ['_kagal'], ['_kagan'], ['_kageshwori', '_manohara'], ['_kago', '_kaju'], ['_kagoshima'], ['_kahama'], ['_kahone'], ['_kahramanmaraş'], ['_kailahun'], ['_kairana'], ['_kajaani'], ['_kajiado'], ['_kakamega'], ['_kakata'], ['_kalaiya', '_,', '_nepal'], ['_kalajoki'], ['_kalbajar'], ['_kalbe'], ['_kalecik'], ['_kalemie'], ['_kalenić'], ['_kalfou'], ['_kalgoorlie'], ['_kaliakair'], ['_kalisz'], ['_kalisz', '_pomorski'], ['_kallithea'], ['_kallurkot'], ['_kalundborg'], ['_kalvarija'], ['_kalwaria', '_zebrzydowska'], ['_kamalamai'], ['_kambia', '_,', '_sierra', '_leone'], ['_kambove'], ['_kamenica'], ['_kameno'], ['_kamień', '_krajeński'], ['_kamieńsk'], ['_kamina'], ['_kamloops'], ['_kamnik'], ['_kampala'], ['_kampar'], ['_kampen'], ['_kampong', '_cham'], ['_kampong', '_speu'], ['_kampong', '_thom'], ['_kampot'], ['_kamëz'], ['_kananga'], ['_kandahar'], ['_kandhkot'], ['_kandikuppam'], ['_kandy'], ['_kandé'], ['_kanel'], ['_kangaatsiaq'], ['_kankaanpää'], ['_kannus'], ['_kano'], ['_kanpur'], ['_kant'], ['_kanyabayonga'], ['_kanyakumari'], ['_kanye'], ['_kaohsiung'], ['_kaolack'], ['_kaolinovo'], ['_kapaklı'], ['_kapchagay'], ['_kapelhoek'], ['_kapurthala'], ['_kara', '_suu'], ['_karaağaç'], ['_karaburna'], ['_karabük'], ['_karadeniz', '_ereğli'], ['_karaganda'], ['_karak'], ['_karakol'], ['_karakore'], ['_karakorum'], ['_karaköl'], ['_karaman'], ['_karapınar'], ['_karasburg'], ['_karatau'], ['_karayılan', '_,', '_i̇skenderun'], ['_karaçulha'], ['_karbala'], ['_karditsa'], ['_kardzhali'], ['_kareli'], ['_kargowa'], ['_kargıpınarı'], ['_kariba'], ['_karkh'], ['_karkkila'], ['_karl', '_johan', '_city'], ['_karlino'], ['_karlovo'], ['_karlovy', '_vary'], ['_karmiel'], ['_karnak'], ['_karnobat'], ['_kars'], ['_karviná'], ['_kasaka', '_lci'], ['_kasama', '_,', '_zambia'], ['_kasan'], ['_kasane'], ['_kasanga'], ['_kasese'], ['_kaskelen'], ['_kaskinen'], ['_kaspi'], ['_kaspichan'], ['_kassala'], ['_kastamonu'], ['_kastoria'], ['_kasugai'], ['_kasulu'], ['_katerini'], ['_kathmandu'], ['_katima', '_mulilo'], ['_katiola'], ['_katowice'], ['_katsina'], ['_katsushima'], ['_katta', '_kurgan'], ['_katzrin'], ['_kauhajoki'], ['_kauhava'], ['_kaunas'], ['_kauniainen'], ['_kavadarci'], ['_kavajë'], ['_kavala'], ['_kavarskas'], ['_kavieng'], ['_kawagoe'], ['_kawkaban'], ['_kayanza'], ['_kayseri'], ['_kazanlak'], ['_kazimierz', '_dolny'], ['_kazimierza', '_wielka'], ['_kazlų', '_rūda'], ['_kaçanik'], ['_kaélé'], ['_kać'], ['_kałuszyn'], ['_kańczuga'], ['_kcynia'], ['_kecskemét'], ['_keelung'], ['_keetmanshoop'], ['_keflavík'], ['_kegalle'], ['_kele', '_,', '_ethiopia'], ['_kelmė'], ['_kelowna'], ['_kemer'], ['_kemi'], ['_kemijärvi'], ['_kemise'], ['_kenema'], ['_kenge', '_,', '_bandundu'], ['_kengtung'], ['_keningau'], ['_kenitra'], ['_kenscoff'], ['_kepez'], ['_kerava'], ['_kerben'], ['_kerema'], ['_keren', '_,', '_eritrea'], ['_kericho'], ['_kerki'], ['_kerkrade'], ['_kermen'], ['_kestel'], ['_keuruu'], ['_kfar', '_saba'], ['_khaar'], ['_khabab'], ['_khachmaz'], ['_khagrachari'], ['_khairpur', '_tamiwali'], ['_khambhat'], ['_khamir'], ['_khamis', '_mushait'], ['_khan', '_abad'], ['_khan', '_yunis'], ['_khanaqin'], ['_khanbaliq'], ['_khandbari'], ['_khandela'], ['_khanpur', '_,', '_gujarat'], ['_khartoum'], ['_khartoum', '_north'], ['_khashuri'], ['_khemisset'], ['_khenchela'], ['_khenifra'], ['_khereddine'], ['_khiva'], ['_khobi'], ['_khojali'], ['_khojavend'], ['_kholm'], ['_khombole'], ['_khoni'], ['_khorixas'], ['_khorugh'], ['_khovd'], ['_khujand'], ['_khulna'], ['_khushalpur'], ['_kibaha'], ['_kibangou'], ['_kibeho'], ['_kibuye'], ['_kidira'], ['_kielce'], ['_kieta'], ['_kietrz'], ['_kigoma'], ['_kikinda'], ['_kikwit'], ['_kilaguni'], ['_kilamba'], ['_kilifarevo'], ['_kilifi'], ['_kilimli'], ['_kilis'], ['_kilkenny'], ['_killiney'], ['_kimpese'], ['_kindu'], ['_king', '_abdulaziz', '_city', '_for', '_science', '_and', '_technology'], ['_kingston'], ['_kingston', '_upon', '_hull'], ['_kinkala'], ['_kinshasa'], ['_kipushi'], ['_kirkenes'], ['_kirkuk'], ['_kirtipur'], ['_kirundo'], ['_kiryat', '_ata'], ['_kiryat', '_bialik'], ['_kiryat', '_gat'], ['_kiryat', '_malakhi'], ['_kiryat', '_motzkin'], ['_kiryat', '_ono'], ['_kiryat', '_shmona'], ['_kiryat', '_yam'], ['_kisangani'], ['_kishm'], ['_kisielice'], ['_kisii'], ['_kismayo'], ['_kisumu'], ['_kitakawabe'], ['_kitale'], ['_kitchener'], ['_kitee'], ['_kiten', '_,', '_burgas', '_province'], ['_kittrell', '_,', '_texas'], ['_kitwe'], ['_kiuruvesi'], ['_kičevo'], ['_kladno'], ['_klaipėda'], ['_kleczew'], ['_kleszczele'], ['_klimontów', '_,', '_sandomierz', '_county'], ['_klisura'], ['_klos', '_,', '_mat'], ['_kluczbork'], ['_kmeti'], ['_knyszyn'], ['_koani'], ['_kobo'], ['_kobylin'], ['_kochi'], ['_kochkor', '_ata'], ['_kock'], ['_koh', '_kong'], ['_kohima'], ['_kohunlich'], ['_koidutown', '_sefadu'], ['_kokemäki'], ['_koki'], ['_kokkola'], ['_kokopo'], ['_kokshetau'], ['_kolar'], ['_kolašin'], ['_kolbuszowa'], ['_kolda'], ['_kolding'], ['_kolhapur'], ['_kollam'], ['_kolmanskop'], ['_kolonowskie'], ['_koluszki'], ['_kolwezi'], ['_kom', '_ombo'], ['_komki', '_ipala'], ['_komotini'], ['_konacık'], ['_konaklı'], ['_kong'], ['_kongens', '_lyngby'], ['_konibodom'], ['_koniecpol'], ['_konin'], ['_konongo'], ['_konstancin', '_jeziorna'], ['_konya'], ['_konye'], ['_konye', '_urgench'], ['_koper'], ['_kopong'], ['_koprivnica'], ['_koprivshtitsa'], ['_koprzywnica'], ['_korak'], ['_korba'], ['_kordié'], ['_korfantów'], ['_koro'], ['_korogwe'], ['_koronowo'], ['_koror'], ['_korsze'], ['_korsør'], ['_koru'], ['_korçë'], ['_kosonsoy'], ['_kosovo', '_polje'], ['_kostandovo'], ['_kostanjevica', '_na', '_krki'], ['_kostenets'], ['_kostrzyn'], ['_koszalin'], ['_koszyce', '_,', '_lesser', '_poland', '_voivodeship'], ['_kosów', '_lacki'], ['_kot', '_momin'], ['_kota'], ['_kota', '_kinabalu'], ['_kotel'], ['_kotka'], ['_kotor'], ['_koudougou'], ['_koulamoutou'], ['_koumpentoum'], ['_koumra'], ['_koungheul'], ['_kousséri'], ['_kouvola'], ['_kowalewo', '_pomorskie'], ['_koynare'], ['_koza'], ['_kozan'], ['_kozani'], ['_kozhikode'], ['_koziegłowy', '_,', '_silesian', '_voivodeship'], ['_kozienice'], ['_kozloduy'], ['_kozlu'], ['_kočani'], ['_kołaczyce'], ['_końskie'], ['_koźle'], ['_koźmin', '_wielkopolski'], ['_kożuchów'], ['_kpalimé'], ['_kragujevac'], ['_krajenka'], ['_kranj'], ['_krapkowice'], ['_krasnobród'], ['_kratié'], ['_kratovo'], ['_kretinga'], ['_kribi'], ['_kristiania'], ['_kristiansand'], ['_kristinestad'], ['_kriva', '_palanka'], ['_krnete'], ['_krobia'], ['_krong', '_kep'], ['_krosno'], ['_krosno', '_odrzańskie'], ['_krotoszyn'], ['_krośniewice'], ['_krujë'], ['_krumë'], ['_kruszwica'], ['_kruševo'], ['_krynica', '_zdrój'], ['_krynki'], ['_krzanowice'], ['_krzepice'], ['_krzeszowice'], ['_krzywiń'], ['_krzyż', '_wielkopolski'], ['_krško'], ['_książ', '_wielkopolski'], ['_kuajok'], ['_kuala', '_terengganu'], ['_kubrat'], ['_kudirkos', '_naumiestis'], ['_kufa'], ['_kufranjah'], ['_kuhmo'], ['_kukës'], ['_kula', '_,', '_ethiopia'], ['_kulob'], ['_kulu'], ['_kumanovo'], ['_kumari'], ['_kumarlar'], ['_kumasi'], ['_kumba'], ['_kumbo'], ['_kunów'], ['_kuopio'], ['_kupiškis'], ['_kurayyimah'], ['_kurbnesh'], ['_kurchaloy'], ['_kurihashi'], ['_kurikka'], ['_kurugöl'], ['_kurumbakkavu', '_bhagavathy', '_temple', '_edathala'], ['_kurunegala'], ['_kuršėnai'], ['_kut'], ['_kutaisi'], ['_kuusamo'], ['_kuwait', '_city'], ['_kuzuculu'], ['_kuçovë'], ['_kuşadası'], ['_kuźnia', '_raciborska'], ['_kvareli'], ['_kwale', '_,', '_nigeria'], ['_kwekwe'], ['_kyaukhtu'], ['_kyaukpyu'], ['_kybartai'], ['_kyrenia'], ['_kyustendil'], ['_kyzyl', '_kiya'], ['_kyzylorda'], ['_kyōto'], ['_kébémer'], ['_kédougou'], ['_kélo'], ['_kórnik'], ['_körfez'], ['_køge'], ['_kürdəmir'], ['_küçükdalyan'], ['_kąty', '_wrocławskie'], ['_kėdainiai'], ['_kępice'], ['_kępno'], ['_kęty'], ['_kırklareli'], ['_kırıkkale'], ['_kırşehir'], ['_kızılpınar'], ['_kłecko'], ['_kłobuck'], ['_kłodawa'], ['_kōbe'], ['_kōchi'], ['_kōfu'], ['_la', '_angostura', '_,', '_santa', '_cruz'], ['_la', '_banda'], ['_la', '_bañeza'], ['_la', '_bélgica'], ['_la', '_calera'], ['_la', '_ceiba'], ['_la', '_chorrera'], ['_la', '_cité', '_du', '_fleuve'], ['_la', '_concordia'], ['_la', '_democracia'], ['_la', '_défense'], ['_la', '_entrada'], ['_la', '_esperanza'], ['_la', '_grita'], ['_la', '_guaira'], ['_la', '_higuera'], ['_la', '_joya', '_de', '_los', '_sachas'], ['_la', '_libertad', '_,', '_santa', '_elena'], ['_la', '_lima'], ['_la', '_merced'], ['_la', '_oroya'], ['_la', '_paz'], ['_la', '_paz', '_,', '_entre', '_ríos'], ['_la', '_piedad'], ['_la', '_plata'], ['_la', '_rioja'], ['_la', '_rochelle'], ['_la', '_rumorosa'], ['_la', '_salina', '_,', '_baja', '_california'], ['_la', '_sierpe'], ['_la', '_tablada'], ['_la', '_troncal'], ['_la', '_vela', '_de', '_coro'], ['_la', '_ventosa'], ['_la', '_victoria'], ['_la', '_villa', '_del', '_rosario'], ['_laakirchen'], ['_laayoune'], ['_laboulaye'], ['_labé'], ['_lacedaemon'], ['_lachin'], ['_lae'], ['_lagodekhi'], ['_lagoinha'], ['_lagos'], ['_lagrange', '_,', '_new', '_york'], ['_laguna', '_alsina'], ['_laguna', '_de', '_duero'], ['_lahad', '_datu'], ['_lahan'], ['_lahij'], ['_lahn'], ['_lahore'], ['_lahti'], ['_lahuachaca'], ['_laitila'], ['_lajas'], ['_lakota'], ['_lakshipur'], ['_lalian'], ['_lalitpur'], ['_lamap'], ['_lamas'], ['_lambaréné'], ['_lambayeque'], ['_lamia'], ['_laminium'], ['_lamki'], ['_lampa'], ['_lamud'], ['_lancaster'], ['_lanchkhuti'], ['_landen'], ['_langley'], ['_lanús'], ['_lapithos'], ['_lappeenranta'], ['_laranjal', '_paulista'], ['_larissa', \"_d'assíria\"], ['_larkana'], ['_larvik'], ['_las', '_delicias'], ['_las', '_heras'], ['_las', '_lomitas'], ['_las', '_martínez'], ['_las', '_palmas', '_de', '_gran', '_canaria'], ['_las', '_parejas', '_,', '_santa', '_fe'], ['_las', '_piedras'], ['_las', '_tablas'], ['_las', '_varillas'], ['_lascano'], ['_lashio'], ['_lashkar', '_gah'], ['_lastoursville'], ['_latacunga'], ['_latakia'], ['_latina'], ['_latrobe'], ['_latur'], ['_launceston'], ['_laurent', '_,', '_south', '_dakota'], ['_lauriacum'], ['_lautoka'], ['_lavici'], ['_lavrinhas'], ['_lavumisa'], ['_lavínia'], ['_lawas'], ['_lawazantiya'], ['_layla'], ['_layou'], ['_layyah'], ['_lazdijai'], ['_laç'], ['_laï'], ['_le', '_tampon'], ['_leandro', '_n.', '_alem'], ['_lebedyn'], ['_lecce'], ['_lecheng'], ['_lechería'], ['_lederata'], ['_ledon'], ['_leeds'], ['_leer'], ['_leeuwarden'], ['_legnica'], ['_lehi'], ['_leicester'], ['_leiden'], ['_leipzig'], ['_lekhnath'], ['_lekki'], ['_lelystad'], ['_leme'], ['_lenart', '_v', '_slovenskih', '_goricah'], ['_lendava'], ['_lenggong'], ['_lentvaris'], ['_lençóis', '_paulista'], ['_leova'], ['_lerdo', '_de', '_tejada'], ['_lerik'], ['_lesko'], ['_leszno'], ['_lethem'], ['_letlhakane'], ['_letnitsa'], ['_leucophrys'], ['_leuven'], ['_levski', '_,', '_pleven', '_province'], ['_lewin', '_brzeski'], ['_lezhë'], ['_león'], ['_leśna'], ['_leśnica'], ['_lhasa'], ['_liao', '_nanjing'], ['_liaqauatpur'], ['_liberia'], ['_libertad'], ['_libertador', '_general', '_san', '_martín'], ['_libiąż'], ['_librazhd'], ['_libreville'], ['_lice'], ['_licenciado', '_benito', '_juárez'], ['_lichfield'], ['_lichinga'], ['_lidzbark'], ['_lieksa'], ['_likasi'], ['_lilibaeum'], ['_lilongwe'], ['_liman'], ['_limavady'], ['_limbe'], ['_limeira'], ['_limerick'], ['_limne'], ['_limoncito'], ['_limón'], ['_linares'], ['_lincoln'], ['_linden'], ['_lindi'], ['_lindóia'], ['_lingshet'], ['_linguère'], ['_linkuva'], ['_linnich'], ['_lins'], ['_linstead'], ['_lionel', '_town', '_,', '_jamaica'], ['_lipiany'], ['_lipsk'], ['_lipsko'], ['_liquiçá'], ['_lircay'], ['_lirquén'], ['_lisala'], ['_lisburn'], ['_lismore'], ['_lissus'], ['_list', '_of', '_cities', '_in', '_yemen'], ['_lithgow'], ['_liverpool'], ['_livingstone'], ['_livorno'], ['_liwonde'], ['_liège'], ['_ljubljana'], ['_llafranc'], ['_llamellín'], ['_llanfairfechan'], ['_llavallol'], ['_lloydminster'], ['_lobamba'], ['_lobatse'], ['_lobos'], ['_lochem'], ['_locumba'], ['_lod'], ['_lodja'], ['_lodwar'], ['_lohja'], ['_loikaw'], ['_loimaa'], ['_loja'], ['_lokichogio'], ['_lom'], ['_lomas', '_de', '_sargentillo'], ['_lomas', '_del', '_mirador'], ['_lomié'], ['_london'], ['_longchamps', '_,', '_buenos', '_aires'], ['_lorca'], ['_lorena', '_,', '_são', '_paulo'], ['_lorengau'], ['_los', '_guayos'], ['_los', '_polvorines'], ['_los', '_reyes', '_municipal', '_council'], ['_los', '_teques'], ['_lospalos'], ['_louata'], ['_loudima'], ['_louga'], ['_loum'], ['_louny'], ['_lourdes'], ['_louveira'], ['_lovech'], ['_loviisa'], ['_lower', '_hutt'], ['_lowlands'], ['_lož'], ['_lqliâa'], ['_luanda'], ['_luang', '_prabang'], ['_luanshya'], ['_luba'], ['_lubawka'], ['_luberizi'], ['_lubień', '_kujawski'], ['_lublin'], ['_lubniewice'], ['_lubomia'], ['_lubomierz'], ['_lubowidz', '_,', '_masovian', '_voivodeship'], ['_lubraniec'], ['_lubsko'], ['_lubumbashi'], ['_lucea'], ['_lucerne'], ['_luchenza'], ['_lucianópolis'], ['_lucky', '_shah', '_sadar'], ['_lucélia'], ['_ludhiana'], ['_lugano'], ['_lugau'], ['_lugo'], ['_luiziânia'], ['_lukovit'], ['_lules'], ['_luleå'], ['_lumbo'], ['_luna'], ['_lundu', '_,', '_sarawak'], ['_lupércio'], ['_lusail'], ['_lusaka'], ['_lushnjë'], ['_lututów'], ['_lutécia'], ['_luxembourg'], ['_luxor'], ['_luís', '_antônio'], ['_lwówek'], ['_lwówek', '_śląski'], ['_lyede'], ['_lysimachia', '_(', '_aetolia', '_)'], ['_lyubimets'], ['_lázaro', '_cárdenas', '_,', '_jalisco'], ['_léogâne'], ['_lüderitz'], ['_lāla', '_musa'], ['_lądek', '_zdrój'], [\"_m'banza\", '_kongo'], [\"_m'bour\"], [\"_ma'alot\", '_tarshiha'], [\"_ma'an\"], [\"_ma'rib\"], ['_maarrat', '_al', \"_nu'man\"], ['_maarrat', '_misrin'], ['_maastricht'], ['_mabaruma'], ['_mabeleapudi'], ['_macas'], ['_macatuba'], ['_macaubal'], ['_macedônia'], ['_maceió'], ['_machakos'], ['_machala'], ['_machh'], ['_machico'], ['_machinda'], ['_machiques'], ['_mackay'], ['_macusani'], ['_macuto', '_,', '_vargas'], ['_madaba'], ['_madalla'], ['_madaripur'], ['_madhabdi'], ['_madinat', '_zayed'], ['_madingo', '_kayes'], ['_madingou'], ['_madrid'], ['_madurai'], ['_maebashi'], ['_mafeteng'], ['_magallanes'], ['_magburaka'], ['_magda'], ['_magdalena'], ['_magdanly'], ['_magetobria'], ['_maghagha'], ['_maghar'], ['_maghera'], ['_maghrawa'], ['_magnesia', '_ad', '_sipylum'], ['_magnesia', '_on', '_the', '_maeander'], ['_magura', '_,', '_bangladesh'], ['_magway'], ['_mahalapye'], ['_mahavelona'], ['_mahbubnagar'], ['_mahdia'], ['_mahmoudiyah', '_,', '_egypt'], ['_mahmutlar'], ['_mahón'], ['_maiduguri'], ['_maihar'], ['_maijdee'], ['_mailuu', '_suu'], ['_maintinandry'], ['_maionia', '_in', '_lydia'], ['_maipú'], ['_maiquetía'], ['_mairana'], ['_mairinque'], ['_mairiporã'], ['_maisí'], ['_maitengwe'], ['_majayahan'], ['_majete'], ['_maji'], ['_majibacoa'], ['_majuro'], ['_makabana'], ['_makale'], ['_makamba'], ['_makeni'], ['_makhmur'], ['_makoua'], ['_makénéné'], ['_maków', '_podhalański'], ['_mala', '_,', '_cañete', '_province'], ['_malabo'], ['_malakal'], ['_malanyu'], ['_malargüe'], ['_malatya'], ['_malavli'], ['_maldonado'], ['_malegaon'], ['_malem', '_hodar'], ['_maliana'], ['_malko', '_tarnovo'], ['_mallawi'], ['_malout'], ['_malé'], ['_mamfe'], ['_mamporal'], ['_mamurras'], ['_managua'], ['_manama'], ['_mananwala'], ['_manatuto'], ['_manatí'], ['_manbij'], ['_manchester'], ['_mandalay'], ['_mandalgovi'], ['_mandeville'], ['_mandi', '_bahauddin'], ['_mandsaur'], ['_mandurah'], ['_manduri'], ['_mandya'], ['_manfalut'], ['_manga'], ['_mangalore'], ['_mangina'], ['_mango'], ['_mangochi'], ['_manhiça'], ['_manica'], ['_maniitsoq'], ['_manisa'], ['_manono'], ['_mansa'], ['_mansoura'], ['_mansura', '_,', '_raqqa'], ['_mansôa'], ['_manta'], ['_manuel', '_tames'], ['_manukau', '_city'], ['_manzala'], ['_manzanillo'], ['_manzini'], ['_manëz'], ['_mao'], ['_mapai'], ['_mapiri'], ['_maple', '_ridge'], ['_maputo'], ['_marabá', '_paulista'], ['_maracaibo'], ['_maracay'], ['_maracaí'], ['_maradi'], ['_marapoama'], ['_marbella'], ['_marcos', '_juárez'], ['_mardaman'], ['_mardan'], ['_mardin'], ['_marehra'], ['_marevo'], ['_margilan'], ['_margonin'], ['_mariano', '_acosta', '_,', '_buenos', '_aires', '_province'], ['_maribor'], ['_mariel'], ['_mariental'], ['_marijampolė'], ['_marinópolis'], ['_mariposa', '_,', '_satipo', '_province'], ['_mariápolis'], ['_marjayoun'], ['_markham'], ['_marmara', '_ereğlisi'], ['_marneuli'], ['_marondera'], ['_maros'], ['_marot'], ['_maroua'], ['_marrakech', '_menara'], ['_marrakesh'], ['_marsabit'], ['_martakert'], ['_martap'], ['_martensville'], ['_martin'], ['_martinópolis'], ['_martos'], ['_martvili'], ['_martínez'], ['_mary'], ['_mary', '_geoise'], ['_maryborough'], ['_marília'], ['_masally'], ['_masan'], ['_masaya'], ['_mascara'], ['_maseru'], ['_maspalomas'], ['_massa', '_veternensis'], ['_massaguet'], ['_massakory'], ['_massawa'], ['_massenya'], ['_massock', '_songloulou'], ['_mastaura', '_in', '_asia'], ['_masvingo'], ['_masyaf'], ['_maszewo'], ['_matadi'], ['_matagalpa'], ['_matai'], ['_matam'], ['_matanzas'], ['_mathangwane'], ['_mathura'], ['_matola'], ['_matru'], ['_matsue'], ['_matsuyama'], ['_matucana'], ['_maturín'], ['_matão'], ['_maun'], ['_maungdaw', '_township'], ['_mauritsstad'], ['_mauá'], ['_mawlamyine'], ['_mawqaq'], ['_maxixe'], ['_maxville'], ['_may', '_pen'], ['_mayadin'], ['_mayarí'], ['_mayumba'], ['_mazar', '_i', '_sharif'], ['_maçka'], ['_maño'], ['_małogoszcz'], ['_małomice'], ['_mažeikiai'], ['_ma‘bar'], ['_mbacké'], ['_mbale'], ['_mbalmayo'], ['_mbandaka'], ['_mbang'], ['_mbanza', '_ngungu'], ['_mbaïki'], ['_mbeya'], ['_mbinda'], ['_mbini'], ['_mbombela'], ['_mboro'], ['_mbouda'], ['_mbuji', '_mayi'], ['_meadow', '_lake'], ['_mecca'], ['_mechelen'], ['_meckhe'], ['_medellín'], ['_medeon'], ['_media', '_luna'], ['_medina'], ['_mediolanum'], ['_meerut'], ['_mega', '_,', '_ethiopia'], ['_megara'], ['_meiganga'], [\"_mek'ele\"], ['_mekane', '_berhan'], ['_mekane', '_selam'], ['_meki'], ['_meknes'], ['_melaka', '_city'], ['_melbourne'], ['_melena', '_del', '_sur'], ['_melilla'], ['_mellita'], ['_melut'], ['_mendefera'], ['_mendi'], ['_mendoza'], ['_mengomeyén'], ['_meppel'], ['_mera', '_,', '_pastaza'], ['_merak'], ['_meraro'], ['_merawi', '_,', '_ethiopia'], ['_merca'], ['_mercedes'], ['_merewether'], ['_mergesor'], ['_meri', '_,', '_cameroon'], ['_merida'], ['_meridiano', '_,', '_são', '_paulo'], ['_merlo'], ['_mersa', '_matruh'], ['_mersin'], ['_merzifon'], ['_messina'], ['_mesópolis'], ['_metangula'], ['_metehara'], ['_metemma'], ['_metlika'], ['_metu'], ['_mexicali'], ['_mežica'], ['_mfuwe'], ['_mhlume'], ['_miani'], ['_miaoli', '_city'], ['_miarinarivo'], ['_miastko'], ['_michalovce'], ['_michałowo'], ['_michelena'], ['_michmash'], ['_micomeseng'], ['_middelburg'], ['_middelfart'], ['_midway'], ['_miechów'], ['_miejska', '_górka'], ['_mieroszów'], ['_mieso'], ['_mieszkowice'], ['_migdal', '_haemek'], ['_miguel', '_alemán', '_,', '_hermosillo'], ['_miguelópolis'], ['_migues'], ['_mikkeli'], ['_mikołajki'], ['_mikstat'], ['_milagro'], ['_milan'], ['_mildura'], ['_miletus'], ['_milford'], ['_milicz'], ['_milosavci'], ['_milot'], ['_minas'], ['_minatitlán'], ['_mindelo'], ['_mineiros', '_do', '_tietê'], ['_mingora'], ['_minicoy'], ['_minna'], ['_minvoul'], ['_minya'], ['_mir', '_ali', '_tehsil'], ['_mira', '_bhayandar'], ['_mira', '_estrela'], ['_miracatu'], ['_miranda', '_de', '_ebro'], ['_mirandópolis'], ['_miranshah'], ['_mirante', '_do', '_paranapanema'], ['_mirassol'], ['_mirassolândia'], ['_mirosławiec'], ['_mirpur', '_khas'], ['_mirsk'], ['_mirzapur'], ['_miskolc'], ['_misrata'], ['_mississauga'], ['_mit', '_ghamr'], ['_mitrovica'], ['_mitsamihuli'], ['_mitzic'], ['_miyazaki'], ['_miziling'], ['_mizpah', '_in', '_benjamin'], ['_mizque'], ['_międzybórz'], ['_międzychód'], ['_międzylesie'], ['_międzyrzecz'], ['_międzyzdroje'], ['_miłakowo'], ['_miłomłyn'], ['_miłosław'], ['_mkoani'], ['_mkokotoni'], ['_mladá', '_boleslav'], ['_moa'], ['_moab'], ['_moatize'], ['_mobaye'], ['_mocha'], ['_moche', '_,', '_trujillo'], ['_mococa'], ['_mocuba'], ['_mocímboa', '_da', '_praia'], ['_modena'], [\"_modi'in\", '_maccabim', \"_re'ut\"], ['_modliborzyce', '_,', '_lublin', '_voivodeship'], ['_mogadishu'], ['_mogi', '_das', '_cruzes'], ['_mogi', '_guaçu'], ['_mogielnica'], ['_mogilno'], ['_mogoditshane'], ['_mogontiacum'], ['_moguer'], ['_mohammedia'], ['_moho'], ['_moji', '_mirim'], ['_mojkovac'], ['_mokhotlong'], ['_mokolo'], ['_moladah'], ['_molepolole'], ['_molfetta'], ['_mollendo'], ['_molėtai'], ['_mombasa'], ['_mombuca'], ['_momchilgrad'], ['_moncton'], ['_monfalcone'], ['_mong', '_la'], ['_mongaguá'], ['_mongar'], ['_mongo', '_,', '_chad'], ['_mongomo'], ['_mongu'], ['_monrovia'], ['_montalvo'], ['_montana'], ['_monte', '_alegre', '_do', '_sul'], ['_monte', '_alto', '_,', '_são', '_paulo'], ['_monte', '_aprazível'], ['_monte', '_azul', '_paulista'], ['_monte', '_caseros'], ['_monte', '_castelo', '_,', '_são', '_paulo'], ['_monte', '_chingolo'], ['_monte', '_grande'], ['_monte', '_mor'], ['_monteagudo'], ['_montecarlo'], ['_montecristi'], ['_montego', '_bay'], ['_monteiro'], ['_monteiro', '_lobato', '_,', '_são', '_paulo'], ['_montepuez'], ['_montero'], ['_monteros'], ['_monterrey'], ['_monterrico'], ['_monywa'], ['_monza'], ['_monções'], ['_moose', '_jaw'], ['_moquegua'], ['_mora'], ['_morant', '_bay'], ['_morden'], ['_mordy'], ['_moreno'], ['_morococha'], ['_morogoro'], ['_moroni'], ['_morro', '_agudo'], ['_morteros'], ['_morungaba'], ['_moryń'], ['_morón'], ['_morąg'], ['_moshi'], ['_moshupa'], ['_mosina'], ['_mossaka'], ['_mossendjo'], ['_mostaganem'], ['_mostar'], ['_mosul'], ['_mota', '_,', '_ethiopia'], ['_motihari'], ['_motril'], ['_motuca'], ['_mouila'], ['_mounana'], ['_moundou'], ['_mount', '_gambier'], ['_mount', '_hagen'], ['_mount', '_isa'], ['_moussoro'], ['_mowa'], ['_moyale'], ['_moyamba'], ['_moyobamba'], ['_moçâmedes'], ['_mońki'], ['_mpanda'], ['_mpohor'], ['_mpwapwa'], ['_mrauk', '_u'], ['_mrocza'], ['_mrozy', '_,', '_mińsk', '_county'], ['_mszczonów'], ['_mtskheta'], ['_mtwara'], ['_muang', '_xay'], ['_mubi'], ['_muborak'], ['_mudula'], ['_mueda'], ['_mufulira'], ['_mugilla'], ['_muhanga'], ['_muharraq'], ['_mukalla'], ['_mukden'], ['_mulanje'], ['_mulenge'], ['_mullaitivu'], ['_mullana'], ['_multan'], ['_mulukuku'], ['_mumbai'], ['_mumias'], ['_munich'], ['_municipality', '_of', '_macau'], ['_munro'], ['_muqdadiyah'], ['_muradabad'], ['_muramvya'], ['_murcia'], ['_murowana', '_goślina'], ['_murray', '_bridge'], ['_murska', '_sobota'], ['_murutinga', '_do', '_sul'], ['_murzuk'], ['_muse'], ['_musoma'], ['_musturud'], ['_musumba'], ['_muszyna'], ['_mut'], ['_mutare'], ['_mutoko'], ['_mutriku'], ['_mutsamudu'], ['_muttrah'], ['_muyinga'], ['_muzaffarpur'], ['_muñiz', '_,', '_buenos', '_aires'], ['_muğla'], ['_mwanza'], ['_mwaro'], ['_mweka'], ['_mwene', '_ditu'], ['_myeik'], ['_myitkyina'], ['_mykonos'], ['_mysomakedones'], ['_mysore'], ['_myszyniec'], ['_mytilene'], ['_myślenice'], ['_myślibórz'], ['_mzuzu'], ['_málaga'], ['_mänttä', '_vilppula'], ['_médina', '_yoro', '_foulah'], ['_médéa'], ['_mérida'], ['_mörön'], ['_młynary'], [\"_n'dalatando\"], [\"_n'djamena\"], ['_naantali'], ['_naarath'], ['_nabatieh'], ['_nabinagar'], ['_nabk'], ['_nablus'], ['_nacaome'], ['_nachingwea', '_,', '_tanzania'], ['_nacona'], ['_nador'], ['_naema'], ['_nag', '_hammadi'], ['_nagano'], ['_nagapattinam'], ['_nagarjun', '_municipality'], ['_nagarjunakonda'], ['_nagercoil'], ['_nagpur'], ['_nahariya'], ['_naina', '_devi'], ['_naivasha'], ['_najaf'], ['_najan'], ['_najasa'], ['_najran'], ['_nakano'], ['_nakfa', '_,', '_eritrea'], ['_nakhchivan'], ['_naklo'], ['_nakonde'], ['_nakskov'], ['_nakuru'], ['_nakło', '_nad', '_notecią'], ['_nala', '_sopara'], ['_nalaikh'], ['_nalut'], ['_namaacha'], ['_namakkal'], ['_namanga'], ['_namangan'], ['_namatanai'], ['_nampho'], ['_nampula'], ['_namur'], ['_namysłów'], ['_nanaimo'], ['_nanded'], ['_nandurbar'], ['_nangal', '_choudhary'], ['_nangal', '_kalan'], ['_nangal', '_rajawatan'], ['_nanking'], ['_nanterre'], ['_nantes', '_,', '_são', '_paulo'], ['_nanyuki'], ['_naolinco', '_,', '_veracruz'], ['_napata'], ['_napier'], ['_naples'], ['_naqada'], ['_nara'], ['_naracoopa'], ['_narandiba'], ['_naranjal'], ['_naranjito'], ['_narayan'], ['_narayanganj'], ['_naresh'], ['_narlı'], ['_narok'], ['_narol'], ['_narona'], ['_narsaq'], ['_narsingdi'], ['_narvik'], ['_naryn'], ['_nasca'], ['_nashik'], ['_nasielsk'], ['_nasiriyah'], ['_nassau'], ['_nasser'], ['_natas'], ['_natividade', '_da', '_serra'], ['_natá', '_de', '_los', '_caballeros'], ['_naucalpan', '_de', '_juárez'], ['_naujoji', '_akmenė'], ['_naulochus'], ['_naupactus'], ['_nauta'], ['_navekat'], ['_navi', '_mumbai'], ['_navoiy'], ['_navojoa'], ['_nawa'], ['_nawabshah'], ['_nawer', '_valley'], ['_naxos', '_(', '_city', '_)'], ['_naya', '_raipur'], ['_naypyidaw'], ['_nazareth'], ['_nazaré', '_paulista'], ['_nałęczów'], ['_ncue'], ['_ndevana'], ['_ndi', '_oji', '_abam'], ['_ndioum'], ['_ndola'], ['_ndom'], ['_nea', '_filadelfeia'], ['_nea', '_ionia'], ['_neapolis'], ['_necochea'], ['_nefas', '_mewcha'], ['_nefasit'], ['_neftekamsk'], ['_neftçala'], ['_negombo'], ['_negotino'], ['_negril'], ['_nehardea'], ['_nejo'], ['_nekla'], ['_nellore'], ['_nelson'], ['_nemenčinė'], ['_neon'], ['_nepalgunj'], ['_nerkattumseval'], ['_nerulum'], ['_nerva'], ['_nesebar'], ['_nesher'], ['_neskaupstaður'], ['_ness', '_ziona'], ['_netanya'], ['_netivot'], ['_netum'], ['_neuquén'], ['_neves', '_paulista'], ['_nevşehir'], ['_new', '_amsterdam'], ['_new', '_cairo'], ['_new', '_plymouth'], ['_new', '_westminster'], ['_new', '_york', '_city'], ['_newcastle'], ['_newcastle', '_upon', '_tyne'], ['_newcastle', '_west'], ['_newport'], ['_newry'], ['_nganda'], ['_ngaoundéré'], ['_ngerulmud'], ['_ngornu'], ['_ngozi'], ['_nguti'], ['_nguékhokh'], ['_ngwenya'], ['_nhamatanda'], ['_nhandeara'], ['_nhlangano'], ['_niagara', '_falls'], ['_niamey'], ['_niamtougou'], ['_niceto', '_pérez'], ['_nidaros'], ['_nidzica'], ['_niederlahnstein'], ['_niefang'], ['_niemcza'], ['_niemodlin'], ['_nienburg'], ['_niepołomice'], ['_nijkerk'], ['_nijmegen'], ['_nikaia'], ['_nikkō'], ['_nikšić'], ['_nilore', '_,', '_islamabad'], ['_ninotsminda'], ['_nioro', '_du', '_rip'], ['_nipoã'], ['_nishinomiya'], ['_nisko'], ['_nisporeni'], ['_nissing'], ['_niterói'], ['_nitra'], ['_nivala'], ['_nizamabad'], ['_nizip'], ['_nizwa'], ['_niğde'], ['_niš'], ['_njarðvík'], ['_njombe', '_mjini'], ['_nkayi', '_,', '_republic', '_of', '_the', '_congo'], ['_nkhata', '_bay'], ['_nkimi'], ['_nkondjock'], ['_nkongsamba'], ['_nkurenkuru'], ['_nof', '_hagalil'], ['_noida'], ['_nokia'], ['_nola', '_,', '_central', '_african', '_republic'], ['_nombre', '_de', '_jesús'], ['_nondara'], ['_nordhorn'], ['_norsup'], ['_north', '_bay'], ['_north', '_nicosia'], ['_north', '_vancouver'], ['_norwich'], ['_notsé'], ['_nottingham'], ['_nouaceur'], ['_nouadhibou'], ['_nouakchott'], ['_nova', '_aliança'], ['_nova', '_campina'], ['_nova', '_canaã', '_paulista'], ['_nova', '_castilho'], ['_nova', '_europa'], ['_nova', '_gorica'], ['_nova', '_granada'], ['_nova', '_guataporanga'], ['_nova', '_independência'], ['_nova', '_lima'], ['_nova', '_luzitânia'], ['_nova', '_odessa'], ['_nova', '_varoš'], ['_novais', '_,', '_são', '_paulo'], ['_novara'], ['_novi', '_iskar'], ['_novi', '_pazar'], ['_novo', '_horizonte', '_,', '_são', '_paulo'], ['_novo', '_mesto'], ['_novorossiysk'], ['_nový', '_jičín'], ['_nowa', '_dęba'], ['_nowa', '_sarzyna'], ['_nowa', '_słupia'], ['_nowe'], ['_nowe', '_brzesko'], ['_nowe', '_miasteczko'], ['_nowe', '_miasto', '_nad', '_pilicą'], ['_nowe', '_skalmierzyce'], ['_nowe', '_warpno'], ['_nowogard'], ['_nowogrodziec'], ['_nowogród'], ['_nowogród', '_bobrzański'], ['_nowy', '_dwór', '_gdański'], ['_nowy', '_korczyn'], ['_nowy', '_staw'], ['_nowy', '_sącz'], ['_nowy', '_tomyśl'], ['_nowy', '_wiśnicz'], ['_nsang'], ['_nsanje'], ['_nsoko'], ['_nueva', '_cáceres'], ['_nueva', '_gerona'], ['_nueva', '_helvecia'], ['_nueva', '_loja'], ['_nueva', '_ocotepeque'], ['_nueva', '_palmira'], ['_nuevitas'], ['_nuevo', '_berlín'], ['_nuevo', '_laredo'], ['_nuevo', '_san', '_carlos'], [\"_nuku'alofa\"], ['_nukus'], ['_nuporanga'], ['_nurafshon'], ['_nurak'], ['_nuremberg'], ['_nurmes'], ['_nurpur'], ['_nusaybin'], ['_nushki'], ['_nuuk'], ['_nuwara', '_eliya'], ['_nuweiba'], ['_nuzi'], ['_nyala'], ['_nyamasheke'], ['_nyanga'], ['_nyanza', '_,', '_rwanda'], ['_nyaunglebin'], ['_nyborg'], ['_nykarleby'], ['_nykøbing', '_falster'], ['_nysa'], ['_nyíregyháza'], ['_närpes'], ['_næstved'], ['_nørresundby'], ['_o', '_smach'], ['_oba'], ['_obala'], ['_obeliai'], ['_oberlahnstein'], ['_oberá'], ['_obock'], ['_oborniki'], ['_oborniki', '_śląskie'], ['_ocauçu'], ['_ocnița'], ['_ocotal'], ['_ocumare', '_del', '_tuy'], ['_odienné'], ['_odolanów'], ['_odranci'], ['_odžak'], ['_oebisfelde'], ['_of'], ['_ofakim'], ['_ogbomosho'], ['_ogrodzieniec'], ['_ohrid'], ['_okakarara'], ['_okene'], ['_okonek'], ['_okoyo'], ['_olanchito'], ['_olavarría'], ['_old', '_cölln'], ['_old', '_delhi'], ['_old', '_harbour'], ['_old', '_neredmet', '_village'], ['_old', '_sana'], ['_olecko'], ['_olesno'], ['_oleszyce'], ['_oleśnica', '_,', '_świętokrzyskie', '_voivodeship'], ['_olite'], ['_olivenza'], ['_olkusz'], ['_ollantaytambo'], ['_olmaliq'], ['_olomouc'], ['_olsztyn'], ['_olsztynek'], ['_olszyna'], ['_olympe'], ['_olímpia'], ['_omaruru'], ['_omate'], ['_omdurman'], ['_ommen'], ['_omurtag'], ['_omuthiya'], ['_onda', '_verde'], ['_ondangwa'], ['_ondjiva'], ['_ondo', '_city'], ['_ongwediva'], ['_oni'], ['_onitsha'], ['_onoguris'], ['_onoto'], ['_opalenica'], ['_opatowiec'], ['_opatów'], ['_opava'], ['_opoczno'], ['_opole'], ['_opole', '_lubelskie'], ['_opuwo'], ['_or', '_akiva'], ['_oracabessa'], ['_orahovac'], ['_oral'], ['_oran'], ['_orange'], ['_oranjemund'], ['_oranjestad'], ['_orapa'], ['_ordu'], ['_ordubad'], ['_orhei'], ['_oricum'], ['_oriente', '_,', '_são', '_paulo'], ['_orihuela'], ['_orillia'], ['_orimattila'], ['_orindiúva'], ['_orivesi'], ['_orkanger'], ['_orlando'], ['_orlândia'], ['_orneta'], ['_oropia'], ['_oropolí'], ['_ortahisar'], ['_ortaklar'], ['_ortiz', '_,', '_guárico'], ['_oruro'], ['_orzysz'], ['_osasco'], ['_oscar', '_bressane'], ['_osemotor'], ['_osh'], ['_oshakati'], ['_oshawa'], ['_oshikango'], ['_osieczna'], ['_osiek', '_,', '_świętokrzyskie', '_voivodeship'], ['_oskemen'], ['_oslo'], ['_osmanabad'], ['_osmaniye'], ['_osogbo'], ['_ostrava'], ['_ostroróg'], ['_ostrołęka'], ['_ostrzeszów'], ['_ostrów', '_lubelski'], ['_osvaldo', '_cruz'], ['_osório'], ['_otavalo'], ['_otavi'], ['_otjiwarongo'], ['_otmuchów'], ['_otrar'], ['_otuzco'], ['_otyń'], ['_ouahigouya'], ['_ouargla'], ['_ouazzane'], ['_oued', '_laou'], ['_oued', '_zem'], ['_oujda'], ['_oulainen'], ['_oulu'], ['_oum', '_el', '_bouaghi'], ['_oum', '_hadjer'], ['_oumé'], ['_ourense'], ['_ourinhos'], ['_ouro', '_sogui'], ['_ouro', '_verde'], ['_ouroeste'], ['_oussouye'], ['_outapi'], ['_outjo'], ['_outokumpu'], ['_ouésso'], ['_ovacık'], ['_ovaeymir'], ['_ovaören'], ['_oviedo'], ['_owando'], ['_owen', '_sound'], ['_owerri'], ['_owo'], ['_oyo'], ['_oyo', '_,', '_republic', '_of', '_the', '_congo'], ['_ozimek'], ['_ozurgeti'], ['_oğuz'], ['_ośno', '_lubuskie'], ['_ożarów'], ['_ożarów', '_mazowiecki'], ['_paamiut'], ['_pabradė'], ['_pacaembu'], ['_pacanów'], ['_pacasmayo'], ['_pachacútec', '_city', '_special', '_project'], ['_paczków'], ['_padang', '_besar'], ['_padilla'], ['_padua'], ['_pahadi', '_,', '_rajasthan'], ['_paiania'], ['_pailón'], ['_paimio'], ['_paishiyauvada'], ['_paita'], ['_pajęczno'], ['_pakenham'], ['_pakość'], ['_pakruojis'], ['_pakse'], ['_pakwach'], ['_pakxan'], ['_pala'], ['_palakkad'], ['_palakollu'], ['_palanpur'], ['_palapye'], ['_palencia'], ['_palenque'], ['_palermo'], ['_palestina'], ['_pali'], ['_palić'], ['_palma'], ['_palma', '_soriano'], ['_palmares', '_paulista'], ['_palmas'], ['_palmeira', \"_d'oeste\"], ['_palmerston'], ['_palmerston', '_north'], ['_palmira'], ['_palmital'], ['_palo', '_negro'], ['_palos', '_blancos'], ['_palos', '_de', '_la', '_frontera'], ['_palpa'], ['_palpalá'], ['_pampas'], ['_pampatar'], ['_pamplona'], ['_pan', '_de', '_azúcar', '_,', '_uruguay'], ['_pana'], ['_panajachel'], ['_panama', '_city'], ['_panauti'], ['_panchor'], ['_panda'], ['_pandaul', '_vidhan', '_sabha', '_constituency'], ['_pando'], ['_pandėlys'], ['_panevėžys'], ['_pangani'], ['_pangin'], ['_pangkham'], ['_panguna'], ['_panjakent'], ['_panjim'], ['_panna', '_,', '_india'], ['_papenburg'], ['_paradero'], ['_paraguaçu', '_paulista'], ['_paraibuna'], ['_paramaribo'], ['_paranapanema'], ['_paranapuã'], ['_paraná'], ['_parapuã'], ['_paravur'], ['_parczew'], ['_pardes', '_hanna', '_karkur'], ['_pardinho'], ['_pardubice'], ['_pargas'], ['_parika'], ['_pariquera', '_açu'], ['_paris'], ['_parisi'], ['_parkano'], ['_parkhurst', '_,', '_isle', '_of', '_wight'], ['_parma'], ['_paro'], ['_paroom'], ['_parotani'], ['_parque', '_del', '_plata'], ['_parque', '_san', '_martín', '_,', '_buenos', '_aires', '_province'], ['_paruro'], ['_parvomay'], ['_pasaje'], ['_paso', '_de', '_los', '_libres'], ['_paso', '_de', '_los', '_toros'], ['_pasvalys'], ['_pasym'], ['_pasłęk'], ['_patacamaya'], ['_pataliputra'], ['_pathein'], ['_patiala'], ['_patna'], ['_patos'], ['_patos', '_de', '_minas'], ['_patras'], ['_patreksfjörður'], ['_patrocínio', '_paulista'], ['_pattaya'], ['_pau'], ['_paucartambo'], ['_pauliceia'], ['_paulistânia'], ['_paulo', '_de', '_faria'], ['_paulínia'], ['_paurito'], ['_pausa'], ['_pavlikeni'], ['_pavlodar'], ['_pavón', '_,', '_santa', '_fe'], ['_payas'], ['_paysandú'], ['_pazardzhik'], ['_pedernales'], ['_pedernales', '_,', '_delta', '_amacuro'], ['_pederneiras'], ['_pedra', '_badejo'], ['_pedra', '_bela'], ['_pedranópolis'], ['_pedregulho'], ['_pedreira', '_,', '_são', '_paulo'], ['_pedrinhas', '_paulista'], ['_pedro', '_carbo'], ['_pedro', '_de', '_toledo'], ['_pedro', '_juan', '_caballero'], ['_pedro', '_luro'], ['_pedro', '_vicente', '_maldonado'], ['_pefki'], ['_pejë'], ['_pelileo'], ['_pelitli'], ['_pella'], ['_pelplin'], ['_pelusium'], ['_pemba'], ['_pempe'], ['_penonomé', '_,', '_coclé'], ['_penrith'], ['_penticton'], ['_penápolis'], ['_peqin'], ['_pereira'], ['_pereira', '_barreto'], ['_pereiras'], ['_perga'], ['_pergamino'], ['_peribeca'], ['_perico'], ['_perico', '_(', '_jujuy', '_)'], ['_perito', '_moreno'], ['_pernik'], ['_perth'], ['_perugia'], ['_peruíbe'], ['_pescara'], ['_peshawar'], ['_peshkopi'], ['_peshtera'], ['_pestszentimre'], ['_petah', '_tikva'], ['_petaling', '_jaya'], ['_peterborough'], ['_petit', '_goâve'], ['_petra'], ['_petrich'], ['_petronia', '_city'], ['_petropavl'], ['_petrovaradin'], ['_petrópolis'], ['_pełczyce'], ['_phalombe'], ['_phnom', '_penh'], ['_phongsali'], ['_phuket'], ['_phuntsholing'], ['_piacatu'], ['_piacenza'], ['_piaseczno'], ['_piaski'], ['_pichanal'], ['_pickering'], ['_pico', '_truncado'], ['_picota'], ['_piedade', '_,', '_são', '_paulo'], ['_piekary', '_śląskie'], ['_pieksämäki'], ['_pieniężno'], ['_pierrefonds'], ['_pierzchnica'], ['_pieńsk'], ['_pigüé'], ['_pikine'], ['_pilar'], ['_pilar', '_do', '_sul'], ['_pilar', '_,', '_córdoba', '_province'], ['_pilawa'], ['_pilica'], ['_pilin'], ['_pillaro'], ['_pilzno'], ['_pilón'], ['_pimentel'], ['_pimpri', '_chinchwad'], ['_pinar', '_del', '_rio'], ['_pindamonhangaba'], ['_pindi', '_bhattian'], ['_pindorama'], ['_pingtung', '_city'], ['_pinhalzinho'], ['_pinner'], ['_pinosava'], ['_pinya'], ['_piotrków', '_kujawski'], ['_piotrków', '_trybunalski'], ['_piquerobi'], ['_piquete'], ['_pir', '_jo', '_goth'], ['_piracaia'], ['_piracicaba'], ['_piraju'], ['_pirajuí'], ['_pirangi'], ['_pirangut'], ['_pirané'], ['_pirapora', '_do', '_bom', '_jesus'], ['_pirapozinho'], ['_pirassununga'], ['_piratininga'], ['_piriápolis'], ['_pisa'], ['_pisco'], ['_piscobamba'], ['_pisz'], ['_pitangueiras'], ['_pitsunda'], ['_pitt', '_meadows'], ['_piura'], ['_piwniczna', '_zdrój'], ['_piątek', '_,', '_łódź', '_voivodeship'], ['_placetas'], ['_planalto'], ['_plano'], ['_plasencia'], ['_platina'], ['_plav'], ['_playas'], ['_pleszew'], ['_pleven'], ['_pliska'], ['_pljevlja'], ['_plovdiv'], ['_plungė'], ['_plužine'], ['_plymouth'], ['_plzeň'], ['_pniewy'], ['_pobiedziska'], ['_poddębice'], ['_podgorica'], ['_podor'], ['_pogorzela'], ['_pogradec'], ['_pointe', '_noire'], ['_poipet'], ['_poitiers'], ['_polanów'], ['_polatlı'], ['_poli'], ['_police'], ['_poliçan'], ['_polkowice'], ['_poloni'], ['_polski', '_trambesh'], ['_pomabamba'], ['_pompeia'], ['_pompeiopolis'], ['_pondicherry'], ['_pongaí'], ['_poniatowa'], ['_poniec'], ['_pontal'], ['_pontalinda'], ['_pontes', '_gestal'], ['_pontevedra'], ['_pontevedra', '_,', '_buenos', '_aires', '_province'], ['_popondetta'], ['_poprad'], ['_populina'], ['_porangaba'], ['_porbandar'], ['_pori'], ['_porirua'], ['_porlamar'], ['_porsgrunn'], ['_port', '_antonio'], ['_port', '_arthur'], ['_port', '_augusta'], ['_port', '_blair'], ['_port', '_colborne'], ['_port', '_elizabeth'], ['_port', '_fuad'], ['_port', '_gentil'], ['_port', '_kamsar'], ['_port', '_loko'], ['_port', '_louis'], ['_port', '_macquarie'], ['_port', '_maria'], ['_port', '_mathurin'], ['_port', '_moresby'], ['_port', '_of', '_bayóvar'], ['_port', '_of', '_spain'], ['_port', '_said'], ['_port', '_sudan'], ['_port', '_vila'], ['_portachuelo'], ['_portage', '_la', '_prairie'], ['_portland'], ['_portmore'], ['_porto', '_alegre'], ['_porto', '_amboim'], ['_porto', '_feliz'], ['_porto', '_ferreira'], ['_porto', '_inglês'], ['_porto', '_novo'], ['_porto', '_santana'], ['_portsmouth'], ['_portugalete'], ['_porus'], ['_porvenir'], ['_porvoo'], ['_posadas'], ['_posof'], ['_postojna'], ['_potchefstroom'], ['_potentia'], ['_potenza'], ['_pothia'], ['_poti'], ['_potim'], ['_potirendaba'], ['_potosí'], ['_pout'], ['_powell', '_river'], ['_poznań'], ['_poá'], ['_połaniec'], ['_połczyn', '_zdrój'], ['_prabuty'], ['_pracinha'], ['_pradópolis'], ['_pragjyotishpura'], ['_praia'], ['_praia', '_grande'], ['_praisos'], ['_praszka'], ['_prato'], ['_pratteln'], ['_pratânia'], ['_pravets'], ['_presidente', '_alves'], ['_presidente', '_bernardes'], ['_presidente', '_epitácio'], ['_presidente', '_prudente'], ['_presidente', '_venceslau'], ['_preslav'], ['_preston'], ['_preveza'], ['_prešov'], ['_priekulė'], ['_prienai'], ['_prievidza'], ['_prijedor'], ['_prijepolje'], ['_prilep'], ['_primorsko'], ['_prince', '_albert'], ['_prince', '_george'], ['_priozersk'], ['_pristina'], ['_prithbinarayan'], ['_priverno'], ['_prizren'], ['_probištip'], ['_prochowice'], ['_promissão'], ['_prostějov'], ['_proszowice'], ['_protaras'], ['_proti'], ['_prrenjas'], ['_pruchnik'], ['_prudnik'], ['_prusice'], ['_przecław'], ['_przedbórz'], ['_przedecz'], ['_przemków'], ['_przemyśl'], ['_przysucha'], ['_prószków'], ['_psie', '_pole'], ['_pszczyna'], ['_ptuj'], ['_pucallpa'], ['_pudasjärvi'], ['_puebla', '_city'], ['_pueblo', '_nuevo'], ['_puente', '_san', '_pablo'], ['_puerto', '_armuelles'], ['_puerto', '_ayacucho'], ['_puerto', '_ayora'], ['_puerto', '_baquerizo', '_moreno'], ['_puerto', '_barrios'], ['_puerto', '_cabello'], ['_puerto', '_cabezas'], ['_puerto', '_castilla', '_,', '_honduras'], ['_puerto', '_cortés'], ['_puerto', '_deseado'], ['_puerto', '_francisco', '_de', '_orellana'], ['_puerto', '_iguazú'], ['_puerto', '_la', '_cruz'], ['_puerto', '_lempira'], ['_puerto', '_madryn'], ['_puerto', '_maldonado'], ['_puerto', '_nuevo', '_,', '_baja', '_california'], ['_puerto', '_ordaz'], ['_puerto', '_padre'], ['_puerto', '_pailas'], ['_puerto', '_peñasco'], ['_puerto', '_píritu'], ['_puerto', '_quito'], ['_puerto', '_rico'], ['_puerto', '_san', '_josé'], ['_puerto', '_suárez'], ['_pujehun'], ['_pul', '_e', '_khomri'], ['_punakha'], ['_punata'], ['_pune'], ['_pune', '_camp'], ['_puno'], ['_punta', '_gorda'], ['_punta', '_prieta'], ['_puntarenas'], ['_punto', '_fijo'], ['_puquio'], ['_purchena'], ['_puri'], ['_purmerend'], ['_purnia'], ['_pushkar'], ['_putina'], ['_puyo', '_,', '_pastaza'], ['_pułtusk'], ['_pyapon'], ['_pyatigorsk'], ['_pyhäjärvi'], ['_pyli', '_(', '_kos', '_)'], ['_pyongyang'], ['_pyrgos'], ['_pyrzyce'], ['_pyzdry'], ['_pétion', '_ville'], ['_pınarbaşı'], ['_płock'], ['_płoty'], ['_přerov'], ['_qaanaaq'], ['_qabala'], ['_qabatiya'], ['_qacha', \"_'s\", '_nek'], ['_qaha'], ['_qakh'], ['_qalansiyah'], ['_qalat'], ['_qalqilya'], ['_qalyub'], ['_qalʻah', '_ye', '_zāl'], ['_qamishli'], ['_qanatir', '_el', '_qahiriya'], ['_qandala'], ['_qarah'], ['_qarshi'], ['_qart', '_hadasht'], ['_qasigiannguit'], ['_qastiliya'], ['_qatif'], ['_qatra'], ['_qayyarah'], ['_qena'], ['_qeqertarsuaq'], ['_qift'], ['_qilixia'], ['_qobustan'], ['_qorasuv'], ['_qormi'], ['_quadra'], ['_quartier', '_militaire'], ['_quatá'], ['_quba'], ['_qubadlı'], ['_qudsaya'], ['_queanbeyan'], ['_queenstown'], ['_queiroz'], ['_quelimane'], ['_quetta'], ['_quetzaltenango'], ['_quevedo'], ['_quezalapa'], ['_quillabamba'], ['_quillacollo'], ['_quillón'], ['_quilmes'], ['_quincy'], ['_quinhámel'], ['_quintana'], ['_quitilipi'], ['_quito'], ['_quivicán'], ['_quneitra'], ['_qurayyat'], ['_qurayyat', '_,', '_oman'], ['_qus'], ['_qusar'], ['_quthing'], ['_qutur', '_,', '_egypt'], ['_quíbor'], [\"_ra'anana\"], ['_ra', \"_'s\", '_lanuf'], ['_raahe'], ['_raba'], ['_rabat'], ['_rabaul'], ['_rabka', '_zdrój'], [\"_rada'a\"], ['_radeče'], ['_radków'], ['_radom'], ['_radomir'], ['_radomyśl', '_wielki'], ['_radoszyce', '_,', '_świętokrzyskie', '_voivodeship'], ['_radoviš'], ['_radviliškis'], ['_radzymin'], ['_radzyń', '_chełmiński'], ['_radłów'], ['_rafael', '_calzada'], ['_rafael', '_castillo'], ['_rafael', '_freyre'], ['_rafah'], ['_rafard'], ['_rahat'], ['_rahim', '_yar', '_khan'], ['_rahmaniya'], ['_raipur'], ['_raisio'], ['_rajgir'], ['_rajgród'], ['_rajmahal'], ['_rajshahi'], ['_rakoniewice'], ['_rakovski'], ['_rama'], ['_ramachandrapuram', '_,', '_medak'], ['_ramadi'], ['_ramallah'], ['_ramallo'], ['_ramat', '_gan'], ['_ramat', '_hasharon'], ['_ramla'], ['_ramos', '_mejía'], ['_ramotswa'], ['_ramygala'], ['_rancharia'], ['_randers'], ['_rangpur'], ['_ranya'], ['_raqqa'], ['_ras', '_ajdir'], ['_ras', '_al', '_ayn'], ['_ras', '_al', '_khaimah'], ['_ras', '_el', '_bar'], ['_ras', '_el', '_ma'], ['_ras', '_gharib'], ['_ras', '_tanura'], ['_rason'], ['_raszków'], ['_ratlam'], ['_ratnanagar'], ['_rauma'], ['_ravenna'], ['_ravne', '_na', '_koroškem'], ['_rawalpindi'], ['_rawicz'], ['_rawson'], ['_raydah'], ['_razgrad'], ['_razlog'], ['_recife'], ['_reconquista'], ['_recz'], ['_redcliff'], ['_redcliffe', '_city'], ['_redenção', '_da', '_serra'], ['_regente', '_feijó'], ['_reggio', '_calabria'], ['_reggio', '_nell’emilia'], ['_regina'], ['_reginópolis'], ['_registro'], ['_rehoboth'], ['_rehovot'], ['_reimerswaal'], ['_remedios', '_de', '_escalada', '_calle', '_manuel', '_castro'], ['_remich'], ['_reps'], ['_requena'], ['_resende'], ['_resistencia'], ['_resko'], ['_restinga', '_,', '_são', '_paulo'], ['_reszel'], ['_retalhuleu'], ['_rethymno'], ['_revere'], ['_rewa'], ['_rey', '_bouba'], ['_reyes', '_,', '_bolivia'], ['_reykjahlíð'], ['_reyðarfjörður'], ['_rezina'], ['_rhithymna'], ['_rhytion'], ['_ribeira'], ['_ribeirão', '_bonito'], ['_ribeirão', '_branco'], ['_ribeirão', '_corrente'], ['_ribeirão', '_do', '_sul'], ['_ribeirão', '_dos', '_índios'], ['_ribeirão', '_grande'], ['_ribeirão', '_pires'], ['_ribeirão', '_preto'], ['_richard', '_toll'], ['_richmond'], ['_richmond', '_hill'], ['_ridder'], ['_ridderkerk'], ['_rietavas'], ['_rifaina'], ['_riffa'], ['_riihimäki'], ['_rijeka'], ['_rijswijk'], ['_rikhawdar'], ['_rila'], ['_rim'], ['_rimini'], ['_rincão'], ['_ringsted'], ['_rinópolis'], ['_rio', '_branco'], ['_rio', '_claro'], ['_rio', '_de', '_janeiro'], ['_rio', '_grande', '_da', '_serra'], ['_rio', '_rico'], ['_riobamba'], ['_rioja'], ['_ripan', '_,', '_huánuco', '_,', '_los', '_angeles'], ['_ripollet'], ['_ripon'], ['_rishikesh'], ['_rishon', '_lezion'], ['_rishton', '_,', '_uzbekistan'], ['_rithi', '_,', '_katni'], ['_riva', '_del', '_garda'], ['_rivadavia'], ['_river', '_cess'], ['_riverview', '_,', '_new', '_brunswick'], ['_rize'], ['_rjukan'], ['_rocha'], ['_rochester'], ['_rockhampton'], ['_rodas'], ['_rodríguez'], ['_roermond'], ['_rogoźno'], ['_rohanpur'], ['_rohtak'], ['_rokiškis'], ['_roman'], ['_rome'], ['_rommani'], ['_ronda'], ['_roorkee'], ['_roosendaal'], ['_ropczyce'], ['_rosa', '_zárate'], ['_rosana'], ['_rosario'], ['_rosario', '_de', '_la', '_frontera'], ['_rosario', '_de', '_lerma'], ['_rosarito', '_beach'], ['_rose', '_hall'], ['_roseau'], ['_roseira'], ['_rosetta'], ['_rosh', '_haayin'], ['_rosignol'], ['_rosières', '_devant', '_bar'], ['_roskilde'], ['_roskovec'], ['_rosmalen'], ['_ross', '_béthio'], ['_rostock'], ['_rotorua'], ['_rotterdam'], ['_roubaix'], ['_rourkela'], ['_rovaniemi'], ['_rovinj'], ['_rožaje'], ['_rrëshen'], ['_ruacana'], ['_rubik'], ['_rubinéia'], ['_rubio'], ['_rubiácea'], ['_rubí'], ['_ruciane', '_nida'], ['_ruda', '_śląska'], ['_rudnik', '_nad', '_sanem'], ['_rueil', '_malmaison'], ['_rufisque'], ['_rugby'], ['_ruhango'], ['_ruhengeri'], ['_rumelange'], ['_rumphi'], ['_rurrenabaque'], ['_rusayl'], ['_ruse'], ['_russeifa'], ['_rustaq'], ['_rustavi'], ['_rutana'], ['_ruwa'], ['_ruyigi'], ['_ruše'], ['_rwamagana'], ['_rybnik'], ['_rychwał'], ['_rydzyna'], ['_ryglice'], ['_ryki'], ['_rymanów'], ['_ryn'], ['_rzepin'], ['_rzeszów'], ['_rzgów'], ['_río', '_branco'], ['_río', '_cauto'], ['_río', '_chico'], ['_río', '_gallegos'], ['_río', '_grande'], ['_río', '_segundo'], ['_río', '_tercero'], ['_río', '_turbio'], ['_rîbnița'], ['_rîșcani'], ['_różan'], ['_rønne'], ['_rəzi'], [\"_sa'dah\"], ['_saal'], ['_saarijärvi'], ['_saatlı'], ['_saavedra'], ['_sabadell'], ['_sabaneta'], ['_sabino'], ['_sabirabad'], ['_sabou'], ['_sabratha'], ['_sabya'], ['_sacaba'], ['_sacatepéquez'], ['_sachkhere'], ['_sadda', '_,', '_fata'], ['_sadovo'], ['_saedinenie', '_,', '_plovdiv', '_province'], ['_safaga'], ['_safdarabad'], ['_safed'], ['_safi'], ['_safita'], ['_safwa', '_city'], ['_sagaing'], ['_sagarejo'], ['_sagres', '_,', '_são', '_paulo'], ['_sagua', '_de', '_tánamo'], ['_sagua', '_la', '_grande'], ['_sagunto'], ['_saguntum'], ['_sagure'], ['_sahajanpur'], ['_saharanpur'], ['_saharsa'], ['_sahiwal'], ['_sahline'], ['_saidpur', '_,', '_rangpur', '_division'], ['_sainshand'], ['_saint', '_ann', \"_'s\", '_bay', '_,', '_jamaica'], ['_saint', '_john'], ['_saint', '_louis'], ['_saint', '_marc'], ['_saint', '_peter', '_port'], ['_saint', '_pierre'], ['_sainte', '_croix'], ['_sainyabuli'], ['_saipina'], ['_sakakah'], ['_sakania'], ['_sakhnin'], ['_sakib'], ['_saktigarh', '_,', '_siliguri'], ['_sakçagözü'], ['_sal', '_rei'], ['_salalah'], ['_salamanca'], ['_salamina'], ['_salamiyah'], ['_salamá'], ['_salantai'], ['_salavan'], ['_salavat'], ['_salcajá'], ['_sale'], ['_salem'], ['_salemata'], ['_salerno'], ['_sales'], ['_sales', '_oliveira'], ['_salesópolis'], ['_salford'], ['_salinas'], ['_salisbury'], ['_salmourão'], ['_salo'], ['_salona'], ['_salt'], ['_salta'], ['_saltillo'], ['_saltinho'], ['_salto'], ['_salto', '_de', '_pirapora'], ['_salto', '_del', '_guairá'], ['_salto', '_grande'], ['_salvador', '_mazza'], ['_salvatierra'], ['_saly'], ['_salyan'], ['_salé'], ['_samaipata'], ['_samalut'], ['_samangan'], ['_samannud'], ['_samarkand'], ['_samarobriva'], ['_samarra'], ['_samawah'], ['_sambaza'], ['_sambhal'], ['_samborondón'], ['_same'], ['_sami', '_,', '_paletwa'], ['_samosata'], ['_samsun'], ['_samtredia'], ['_san', '_antonio', '_de', '_los', '_altos'], ['_san', '_antonio', '_de', '_los', '_baños'], ['_san', '_antonio', '_de', '_los', '_cobres'], ['_san', '_antonio', '_de', '_padua'], ['_san', '_antonio', '_de', '_palé'], ['_san', '_antonio', '_de', '_ureca'], ['_san', '_antonio', '_del', '_sur'], ['_san', '_antonio', '_del', '_táchira'], ['_san', '_antonio', '_oeste'], ['_san', '_bautista'], ['_san', '_benito', '_,', '_cochabamba'], ['_san', '_bernardo'], ['_san', '_borja'], ['_san', '_buenaventura', '_,', '_la', '_paz'], ['_san', '_carlos'], ['_san', '_carlos', '_de', '_río', '_negro'], ['_san', '_carlos', '_,', '_río', '_san', '_juan'], ['_san', '_cristóbal'], ['_san', '_cristóbal', '_de', '_la', '_laguna'], ['_san', '_cristóbal', '_verapaz'], ['_san', '_diego'], ['_san', '_fernando'], ['_san', '_fernando', '_de', '_apure'], ['_san', '_fernando', '_del', '_valle', '_de', '_catamarca'], ['_san', '_francisco'], ['_san', '_francisco', '_coacalco'], ['_san', '_francisco', '_de', '_macorís'], ['_san', '_francisco', '_solano'], ['_san', '_gregorio', '_de', '_polanco'], ['_san', '_ignacio'], ['_san', '_ignacio', '_de', '_moxos'], ['_san', '_ignacio', '_de', '_velasco'], ['_san', '_isidro'], ['_san', '_isidro', '_,', '_santa', '_cruz'], ['_san', '_jacinto'], ['_san', '_jacinto', '_,', '_uruguay'], ['_san', '_javie'], ['_san', '_joaquín'], ['_san', '_jorge', '_(', '_santa', '_fe', '_)'], ['_san', '_jose'], ['_san', '_jose', '_chinantequilla'], ['_san', '_josé'], ['_san', '_josé', '_de', '_barlovento'], ['_san', '_josé', '_de', '_chiquitos'], ['_san', '_josé', '_de', '_fray', '_mamerto', '_esquiú'], ['_san', '_josé', '_de', '_guanipa'], ['_san', '_josé', '_de', '_mayo'], ['_san', '_josé', '_de', '_metán'], ['_san', '_josé', '_del', '_cabo'], ['_san', '_josé', '_pibtuch'], ['_san', '_josé', '_,', '_andrés', '_ibáñez'], ['_san', '_josé', '_,', '_buenos', '_aires'], ['_san', '_juan'], ['_san', '_juan', '_de', '_payara'], ['_san', '_juan', '_de', '_yapacaní'], ['_san', '_juan', '_district', '_,', '_tibás'], ['_san', '_juan', '_ostuncalco'], ['_san', '_julián', '_,', '_santa', '_cruz'], ['_san', '_justo'], ['_san', '_lorenzo'], ['_san', '_luis'], ['_san', '_luis', '_potosí'], ['_san', '_luis', '_río', '_colorado'], ['_san', '_marino'], ['_san', '_martín'], ['_san', '_martín', '_de', '_hidalgo'], ['_san', '_martín', '_de', '_los', '_andes'], ['_san', '_mateo'], ['_san', '_matías', '_,', '_santa', '_cruz'], ['_san', '_miguel'], ['_san', '_miguel', '_de', '_tucumán'], ['_san', '_miguel', '_de', '_velasco'], ['_san', '_miguel', '_,', '_bolívar'], ['_san', '_miguel', '_,', '_la', '_mar', '_province'], ['_san', '_nicolás', '_de', '_los', '_arroyos'], ['_san', '_nicolás', '_de', '_los', '_garza'], ['_san', '_pablo'], ['_san', '_pablo', '_del', '_monte'], ['_san', '_pedro'], ['_san', '_pedro', '_de', '_jujuy'], ['_san', '_pedro', '_de', '_lloc'], ['_san', '_pedro', '_de', '_ycuamandiyú'], ['_san', '_pedro', '_garza', '_garcía'], ['_san', '_pedro', '_sula'], ['_san', '_pedro', '_town'], ['_san', '_quintín'], ['_san', '_rafael'], ['_san', '_rafael', '_de', '_velasco'], ['_san', '_ramón'], ['_san', '_ramón', '_de', '_la', '_nueva', '_orán'], ['_san', '_salvador'], ['_san', '_salvador', '_de', '_jujuy'], ['_san', '_sebastián'], ['_san', '_telmo', '_,', '_baja', '_california'], ['_san', '_vicente'], ['_san', '_vicente', '_de', '_cañete'], ['_san', '_vito', '_dei', '_normanni'], [\"_sana'a\"], ['_sanare'], ['_sancti', '_spíritus'], ['_sandakan'], ['_sandanski'], ['_sandefjord'], ['_sandgerði'], ['_sandia'], ['_sandnes'], ['_sandnessjøen'], ['_sandovalina'], ['_sandvika'], ['_sangli'], ['_sangmélima'], ['_sangolquí'], ['_sankt', '_vith'], ['_sann'], ['_sanniki', '_,', '_masovian', '_voivodeship'], ['_sanremo'], ['_santa', '_adélia'], ['_santa', '_albertina'], ['_santa', '_ana'], ['_santa', '_ana', '_del', '_yacuma'], ['_santa', '_branca'], ['_santa', '_bárbara'], ['_santa', '_bárbara', \"_d'oeste\"], ['_santa', '_bárbara', '_del', '_zulia'], ['_santa', '_catarina'], ['_santa', '_clara'], ['_santa', '_clara', \"_d'oeste\"], ['_santa', '_clara', '_de', '_olimar'], ['_santa', '_clara', '_del', '_mar'], ['_santa', '_cruz', '_da', '_conceição'], ['_santa', '_cruz', '_da', '_esperança'], ['_santa', '_cruz', '_das', '_palmeiras'], ['_santa', '_cruz', '_de', '_la', '_sierra'], ['_santa', '_cruz', '_de', '_los', '_taques'], ['_santa', '_cruz', '_de', '_tenerife'], ['_santa', '_cruz', '_del', '_quiché'], ['_santa', '_cruz', '_del', '_sur'], ['_santa', '_cruz', '_do', '_rio', '_pardo'], ['_santa', '_cruz', '_do', '_sul'], ['_santa', '_cruz', '_do', '_xingu'], ['_santa', '_cruz', '_,', '_jamaica'], ['_santa', '_elena'], ['_santa', '_elena', '_de', '_arenales'], ['_santa', '_elena', '_de', '_uairén'], ['_santa', '_ernestina'], ['_santa', '_fe', '_de', '_yapacaní'], ['_santa', '_fé', '_do', '_sul'], ['_santa', '_gertrudes'], ['_santa', '_isabel'], ['_santa', '_lucía'], ['_santa', '_lúcia'], ['_santa', '_maria', '_da', '_serra'], ['_santa', '_maría', '_de', '_ipire'], ['_santa', '_maría', '_de', '_nieva'], ['_santa', '_maría', '_del', '_oro'], ['_santa', '_mercedes'], ['_santa', '_rita'], ['_santa', '_rita', \"_d'oeste\"], ['_santa', '_rita', '_do', '_passa', '_quatro'], ['_santa', '_rita', '_,', '_venezuela'], ['_santa', '_rosa'], ['_santa', '_rosa', '_de', '_copán'], ['_santa', '_rosa', '_de', '_viterbo'], ['_santa', '_rosa', '_del', '_sara'], ['_santa', '_salete'], ['_santa', '_teresa', '_del', '_tuy'], ['_santana', '_da', '_ponte', '_pensa'], ['_santana', '_de', '_parnaíba'], ['_santander'], ['_santiago', '_de', '_chuco'], ['_santiago', '_de', '_compostela'], ['_santiago', '_de', '_cuba'], ['_santiago', '_de', '_huari'], ['_santiago', '_de', '_los', '_caballeros'], ['_santiago', '_de', '_los', '_caballeros', '_de', '_guatemala'], ['_santiago', '_de', '_puriscal'], ['_santiago', '_de', '_veraguas'], ['_santiago', '_del', '_estero'], ['_santo', '_anastácio'], ['_santo', '_andré'], ['_santo', '_antônio', '_da', '_alegria'], ['_santo', '_antônio', '_de', '_jesus'], ['_santo', '_antônio', '_de', '_posse'], ['_santo', '_antônio', '_do', '_aracanguá'], ['_santo', '_antônio', '_do', '_jardim'], ['_santo', '_antônio', '_do', '_pinhal'], ['_santo', '_domingo'], ['_santo', '_expedito'], ['_santo', '_tomás'], ['_santo', '_tomás', '_de', '_castilla'], ['_santo', '_tomé'], ['_santos'], ['_santos', '_dumont', '_,', '_minas', '_gerais'], ['_santópolis', '_do', '_aguapeí'], ['_sapareva', '_banya'], ['_saparmyrat', '_türkmenbaşy'], ['_sapinuwa'], ['_saponé'], ['_saposoa'], ['_saqunda'], ['_sar', '_e', '_pol'], ['_sarai'], ['_sarajevo'], ['_saran'], ['_sarandí'], ['_sarandí', '_del', '_yí'], ['_sarandí', '_grande'], ['_sarapuí'], ['_saray', '_jük'], ['_saray', '_,', '_tekirdağ'], ['_sargodha'], ['_sarh'], ['_sarnath'], ['_sarnia'], ['_saroke'], ['_sarpsborg'], ['_sarutaiá'], ['_sarıkaya'], ['_sasaram'], ['_saskatoon'], ['_sassari'], ['_sastamala'], ['_saswad'], ['_satara'], ['_satipo'], ['_satna'], ['_satpayev'], ['_sauce', '_,', '_uruguay'], ['_sault', '_ste', '_.', '_marie'], ['_sauteurs'], ['_sauðárkrókur'], ['_savanna', '_la', '_mar'], ['_savannakhet'], ['_savar'], ['_savona'], ['_savonlinna'], ['_savuca'], ['_savé'], ['_sawara'], ['_sawla'], ['_sayram'], ['_sayyidah', '_zaynab'], ['_scampis'], ['_schaerbeek'], ['_schiedam'], ['_schuckmannsburg'], ['_schwerin'], ['_sderot'], ['_sebastianópolis', '_do', '_sul'], ['_sebeta'], ['_sechura'], ['_secunderabad'], ['_seda'], ['_seeb'], ['_sefrou'], ['_segesta'], ['_segodunum'], ['_segontia'], ['_seinäjoki'], ['_seiyun'], ['_sekong'], ['_sela', '_dingay'], ['_selangau', '_,', '_sarawak'], ['_selat', '_panjang'], ['_selebi', '_phikwe'], ['_seleucia', '_pieria'], ['_selfoss'], ['_selinunte'], ['_selkirk'], ['_selouane'], ['_seltjarnarnes'], ['_semarapura'], ['_semari'], ['_sembé'], ['_semey'], ['_senafe'], ['_senaki'], ['_senovo'], ['_septemvri'], ['_seremban'], ['_sergiopolis'], ['_serhetabat'], ['_serikin'], ['_serock'], ['_serowe'], ['_serra', '_azul'], ['_serra', '_negra'], ['_serrana', '_,', '_são', '_paulo'], ['_serres'], ['_sertãozinho'], ['_sete', '_barras'], ['_setganga'], ['_setovia'], ['_settat'], ['_severínia'], ['_sevilla'], ['_seville'], ['_sevlievo'], ['_sevojno'], ['_seýdi'], ['_sežana'], ['_shabqadar'], ['_shabwa'], ['_shah', '_faisal', '_town'], ['_shaharah'], ['_shahbazpur', '_town'], ['_shahidnagar', '_danda'], ['_shahrisabz'], ['_shakargarh'], ['_shakawe'], ['_shakhtinsk'], ['_shalkar'], ['_shamia'], ['_shanghai'], ['_shankarapur'], ['_shankerpura'], ['_shanqhae'], ['_shaqlawa'], ['_sharana'], ['_shargʻun'], ['_sharjah'], ['_sharm', '_el', '_sheikh'], ['_sharuna'], ['_sheberghan'], ['_sheffield'], ['_sheikh', '_othman'], ['_sheikhupura'], ['_shenzhen'], ['_shepparton'], ['_sherpur'], ['_shfaram'], ['_shibam'], ['_shibin', '_al', '_kawm', '_,', '_al', '_minufiyah'], ['_shibin', '_el', '_qanater'], ['_shijak'], ['_shikar', '_pur', '_,', '_bhakkar'], ['_shillong'], ['_shimao', '_ruins'], ['_shimla'], ['_shinahota'], ['_shindand'], ['_shinjuku'], ['_shinyanga'], ['_shipka'], ['_shkodër'], ['_shopokov'], ['_shorkot'], ['_shoshong'], ['_shubra', '_el', '_kheima'], ['_shuhada'], ['_shumen'], ['_shurpali', '_shri', '_lakshmi', '_narasimha', '_temple'], ['_shwenyaung'], ['_shymkent'], ['_shëngjin'], ['_sialkot'], ['_sianów'], ['_sibanicú', '_,', '_cuba'], ['_sibay'], ['_sibiti'], ['_sibut'], ['_sicuani'], ['_sidam'], ['_sidas'], ['_siddharthanagar'], ['_siddhirganj'], ['_sidi', '_abdelaziz'], ['_sidi', '_bel', '_abbès'], ['_sidi', '_bennour'], ['_sidi', '_ifni'], ['_sidi', '_kacem'], ['_sidi', '_meskin'], ['_sidi', '_slimane'], ['_sidlaphadi'], ['_sidon'], ['_sidra'], ['_sidyma'], ['_siechnice'], ['_siedlce'], ['_siem', '_reap'], ['_siemianowice', '_śląskie'], ['_siena'], ['_sieniawa'], ['_sieraków'], ['_sierra', '_de', '_cubitas'], ['_sighnaghi'], ['_sighnaq'], ['_siglufjörður'], ['_siguatepeque'], ['_siguiri'], ['_sihanoukville'], ['_sihuas'], ['_siirt'], ['_sikar'], ['_sikasso'], ['_silao'], ['_silistra'], ['_silkeborg'], ['_silveiras'], ['_simeonovgrad'], ['_simnas'], ['_simunye'], ['_simón', '_bolívar'], ['_sinfra'], ['_singapore'], ['_singida'], ['_sinnuris'], ['_sinop'], ['_sinuessa'], ['_sipe', '_sipe'], ['_siphae'], ['_sirhind', '_fategarh'], ['_sirohi'], ['_sironko'], ['_sirwah'], ['_sisimiut'], ['_sisophon'], ['_sitapur'], ['_siteki'], ['_sittard'], ['_sittwe'], ['_siwa', '_town'], ['_siwan'], ['_siyəzən'], ['_sjenica'], ['_skagaströnd'], ['_skalbmierz'], ['_skanderborg'], ['_skanes'], ['_skarszewy'], ['_skaryszew'], ['_skaudvilė'], ['_skawina'], ['_skała'], ['_skhirat'], ['_skien'], ['_skierniewice'], ['_skikda'], ['_skive'], ['_skoczów'], ['_skoki'], ['_skopje'], ['_skuodas'], ['_skupi'], ['_skwierzyna'], ['_skógar'], ['_skýros'], ['_skępe'], ['_slagelse'], ['_slatina'], ['_slemani'], ['_sliven'], ['_slovenj', '_gradec'], ['_slovenska', '_bistrica'], ['_slovenske', '_konjice'], ['_smalininkai'], ['_smara'], ['_smolyan'], ['_smørumnedre'], ['_sneek'], ['_sobral'], ['_sobótka'], ['_socopó'], ['_socorro'], ['_socuéllamos'], ['_soe'], ['_sofia'], ['_sohag'], ['_sohar'], ['_sohawa'], ['_sohawal'], ['_sokodé'], ['_sokone'], ['_sokoto'], ['_sokołów', '_małopolski'], ['_sokółka'], ['_solan'], ['_solapur'], ['_solec', '_kujawski'], ['_soledad'], ['_soledade'], ['_soluntum'], ['_solwezi'], ['_somero'], ['_somoto'], ['_sompolno'], ['_songea'], ['_sopot'], ['_soqota'], ['_sorata'], ['_soria'], ['_soroca'], ['_sorocaba'], ['_soroti'], ['_sosnowiec'], ['_sotouboua'], ['_soubré'], ['_souillac', '_,', '_mauritius'], ['_soulédé', '_roua'], ['_souq', '_al', '_shuyukh'], ['_south', '_tarawa'], ['_southampton'], ['_southport'], ['_soweto'], ['_sozopol'], ['_sośnicowice'], ['_spanish', '_town'], ['_spata'], ['_springs'], ['_spruce', '_creek'], ['_sredets'], ['_sri', '_aman'], ['_sri', '_ganganagar'], ['_srinagar'], ['_sriniwaspuri'], ['_st', '_albans'], ['_st', '_asaph'], ['_st', '_davids'], ['_st', '_.', '_catharines'], ['_st', '_.', '_george', \"_'s\"], ['_st', '_.', '_pölten'], ['_stamboliyski'], ['_stara', '_zagora'], ['_stary', '_sącz'], ['_stassano'], ['_staszów'], ['_stavanger'], ['_stawiski'], ['_stawiszyn'], ['_steinbach'], ['_stepanakert'], ['_stirling'], ['_stockholm'], ['_stoke', '_on', '_trent'], ['_stokkseyri'], ['_stone', '_town'], ['_stony', '_hill', '_,', '_jamaica'], ['_straelen'], ['_strazhitsa'], ['_strelcha'], ['_stronie', '_śląskie'], ['_struga'], ['_strumica'], ['_strumień'], ['_stryków'], ['_strzegom'], ['_strzelce', '_krajeńskie'], ['_strzelce', '_opolskie'], ['_strzelin'], ['_strzelno'], ['_strzyżów'], ['_strășeni'], ['_stung', '_treng'], ['_stykkishólmur'], ['_styllangium'], ['_stąporków'], ['_stęszew'], ['_suakin'], ['_suani', '_ben', '_adem'], ['_subačius'], ['_sublaqueum'], ['_subotica'], ['_suchań'], ['_suchedniów'], ['_suchitoto', '_municipality'], ['_suchowola'], ['_sud', '_mennucci', '_,', '_são', '_paulo'], ['_sudhowala'], ['_suhindol'], ['_sukhumi'], ['_sukkur'], ['_sulechów'], ['_sulejów'], ['_sullana'], ['_sultan'], ['_sultan', '_bathery'], ['_sultanhanı'], ['_sultanköy'], ['_sulukta'], ['_sulęcin'], ['_sumaré'], ['_sumbawanga'], ['_sumbe'], ['_summerside'], ['_sunamganj'], ['_sundar', '_basti'], ['_sunderland'], ['_sungurlare'], ['_sunpu'], ['_suonenjoki'], ['_suong'], ['_supe'], ['_supetar'], ['_supraśl'], ['_sur'], ['_sura'], ['_surat'], ['_suraż'], ['_surif'], ['_surrey'], ['_susz'], ['_suva'], ['_suva', '_reka'], ['_suwaylih'], ['_suwałki'], ['_suzanápolis'], ['_sułkowice'], ['_svay', '_rieng'], ['_svendborg'], ['_sveti', '_nikole'], ['_sveti', '_vlas'], ['_svilengrad'], ['_svishtov'], ['_swakopmund'], ['_swan', '_hill'], ['_swansea'], ['_swarzędz'], ['_swift', '_current'], ['_swords'], ['_syangela'], ['_syców'], ['_sydney'], ['_sylhet'], ['_syracuse'], ['_szadek'], ['_szamocin'], ['_szamotuły'], ['_szczawnica'], ['_szczebrzeszyn'], ['_szczecin'], ['_szczekociny'], ['_szczucin'], ['_szczuczyn'], ['_szczytna'], ['_szeged'], ['_szepietowo'], ['_szlichtyngowa'], ['_szprotawa'], ['_sztum'], ['_szubin'], ['_szydłowiec'], ['_szydłów'], ['_székesfehérvár'], ['_são', '_bento', '_do', '_sapucaí'], ['_são', '_bernardo', '_do', '_campo'], ['_são', '_caetano', '_do', '_sul'], ['_são', '_carlos'], ['_são', '_domingos'], ['_são', '_filipe'], ['_são', '_francisco', '_,', '_são', '_paulo'], ['_são', '_joaquim', '_da', '_barra'], ['_são', '_josé', '_da', '_bela', '_vista'], ['_são', '_josé', '_do', '_barreiro'], ['_são', '_josé', '_do', '_rio', '_pardo'], ['_são', '_josé', '_do', '_rio', '_preto'], ['_são', '_josé', '_dos', '_campos'], ['_são', '_joão', '_da', '_boa', '_vista'], ['_são', '_joão', '_das', '_duas', '_pontes'], ['_são', '_joão', '_de', '_iracema'], ['_são', '_joão', '_do', '_pau', \"_d'alho\"], ['_são', '_lourenço', '_da', '_serra'], ['_são', '_luiz', '_do', '_paraitinga'], ['_são', '_luís'], ['_são', '_manuel'], ['_são', '_miguel', '_arcanjo'], ['_são', '_paulo'], ['_são', '_pedro', '_do', '_turvo'], ['_são', '_pedro', '_,', '_são', '_paulo'], ['_são', '_roque', '_,', '_são', '_paulo'], ['_são', '_sebastião', '_da', '_grama'], ['_são', '_sebastião', '_,', '_são', '_paulo'], ['_são', '_tomé'], ['_são', '_vicente'], ['_sébikotane'], ['_sédhiou'], ['_ségou'], ['_séguéla'], ['_sétif'], ['_sîngerei'], ['_sønderborg'], ['_sükhbaatar'], ['_sędziszów'], ['_sędziszów', '_małopolski'], ['_sępopol'], ['_sępólno', '_krajeńskie'], ['_sława'], ['_słomniki'], ['_słubice'], ['_słupsk'], [\"_ta'if\"], [\"_ta'izz\"], ['_taba'], ['_tabacundo'], ['_tabapuã'], ['_tabarjal'], ['_tabatinga'], ['_tabligbo'], ['_tabora'], ['_taboão', '_da', '_serra'], ['_tabubil'], ['_tabuk'], ['_taciba'], ['_tacna'], ['_tacotalpa'], ['_tacuarembó'], ['_tadjoura'], ['_tadmur'], ['_tafalla'], ['_tafilah'], ['_tafí', '_viejo'], ['_taguaí'], ['_tahaundam'], ['_taiaçu'], ['_taichung'], ['_tainan'], ['_taipei'], ['_taitung', '_city'], ['_taiúva'], ['_tajynsha'], ['_takamatsu'], ['_takéo'], ['_tal', '_afar'], ['_tala'], ['_talanga'], ['_talara'], ['_talas'], ['_talavera', '_de', '_la', '_reina'], ['_taldykorgan'], ['_talesh'], ['_talgar'], ['_talkalakh'], ['_talkha'], ['_tallinn'], ['_taloqan'], ['_talwandi', '_bhindran'], ['_tamale'], ['_tamanrasset'], ['_tambacounda'], ['_tambaú'], ['_tamra'], ['_tamralipta'], ['_tamworth'], ['_tan', '_tan'], ['_tanabi'], ['_tanah', '_rata'], ['_tando', '_allahyar'], ['_tanga'], ['_tangalle'], ['_tangier'], ['_tangin', '_dassouri'], ['_tanjung', '_batu'], ['_tank'], ['_tansen'], ['_tanta'], ['_taounate'], ['_taourirt'], ['_taoyuan', '_city'], ['_tapachula'], ['_tapah'], ['_tapiratiba'], ['_tapiraí'], ['_taposiris', '_magna'], ['_taqtaq'], ['_taquaral'], ['_taquaritinga'], ['_taquarituba'], ['_taquarivaí'], ['_tarabai'], ['_tarabo'], ['_tarabuco'], ['_taraclia'], ['_tarakeshwor'], ['_taranto'], ['_tarapoto'], ['_tarata'], ['_tarczyn'], ['_taree'], ['_targovishte'], ['_tarhuna'], ['_tari'], ['_tarija'], ['_tarim'], ['_tarma'], ['_tarnobrzeg'], ['_tarnogród'], ['_taroudant'], ['_tarqumiyah'], ['_tarragona'], ['_tarsus'], ['_tartagal'], ['_tartar'], ['_tartus'], ['_tarumã'], ['_tarun', '_bazaar'], ['_tashkent'], ['_tashkömür'], ['_tasiilaq'], ['_tatların'], ['_tatuí'], ['_taubaté'], ['_taunggyi'], ['_tauragė'], ['_tauranga'], ['_tauresium'], ['_tawau'], ['_tawella'], ['_taxco'], ['_tayabamba'], ['_tayibe'], ['_taza'], ['_taşucu'], ['_tbilisi'], ['_tchibanga'], ['_te', '_haroto'], ['_teaoraereke'], ['_tecpán', '_de', '_galeana'], ['_tegucigalpa'], ['_tejo'], ['_tejupá'], ['_tekeli'], ['_tekirdağ'], ['_tel', '_aviv'], ['_tel', '_dor'], ['_tela'], ['_telavi'], ['_telefomin'], ['_telenești'], ['_tell', '_abyad'], ['_tellenae'], ['_teluk', '_air', '_tawar'], ['_teluk', '_kumbar'], ['_telšiai'], ['_temara'], ['_temesa'], ['_temperley'], ['_temsia'], ['_tena'], ['_tenosique'], ['_tenta'], ['_tentena'], ['_teodoro', '_sampaio'], ['_tepezalá'], ['_tepi'], ['_tepic'], ['_teplice'], ['_tepoztlán'], ['_terjola'], ['_termas', '_de', '_río', '_hondo'], ['_termez'], ['_terni'], ['_terra', '_roxa'], ['_terrace'], ['_teruel'], ['_tervel'], ['_teseney'], ['_tete'], ['_tetovo'], ['_tetri', '_tsqaro'], ['_teyateyaneng'], ['_thaba', '_tseka'], ['_thakhek'], ['_thamaga'], ['_thames'], ['_thana', '_khurd', '_,', '_haryana'], ['_thane'], ['_thatta'], ['_the', '_gateway', '_of', '_gulmarg'], ['_the', '_hague'], ['_the', '_valley'], ['_theangela'], ['_thebes'], ['_thermi'], ['_thessaloniki'], ['_thiadiaye'], ['_thila'], ['_thilogne'], ['_thimphu'], ['_thiruvananthapuram'], ['_thiruvarur'], ['_thisted'], ['_thiès'], ['_thmuis'], ['_thompson'], ['_thoothukudi'], ['_thrissur'], ['_thunder', '_bay'], ['_thurii'], ['_thyatira'], ['_thyolo'], ['_tianjing'], ['_tiaret'], ['_tibati'], ['_tiberias'], ['_tibula'], ['_ticinum'], ['_tiefo'], ['_tienen'], ['_tieningboué'], ['_tientsin'], ['_tietê'], ['_tifernum', '_metaurense'], ['_tiflet'], ['_tifsa'], ['_tijuana'], ['_tikapur'], ['_tiko'], ['_tikrit'], ['_tilburg'], ['_tima'], ['_timbuktu'], ['_timburi'], ['_timergara'], ['_timmins'], ['_tinaquillo'], ['_tinchlik'], ['_tingo', '_maría'], ['_tinsukia'], ['_tiquipaya'], ['_tiquipaya', '_,', '_santa', '_cruz'], ['_tira'], ['_tirana'], ['_tiraque'], ['_tiraspolul', '_nou'], ['_tirat', '_carmel'], ['_tire'], ['_tirunelveli'], ['_tirupur'], ['_tissemsilt'], ['_tivaouane'], ['_tivat'], ['_tišina'], ['_tkibuli'], ['_tkvarcheli'], ['_tlajomulco', '_de', '_zuñiga'], ['_tlalixtaquilla'], ['_tlaltenango', '_de', '_sánchez', '_román'], ['_tlaquepaque'], ['_tlaxcala'], ['_tlaxco'], ['_tlemcen'], ['_toamasina'], ['_toba', '_tek', '_singh'], ['_tobruk'], ['_tocache'], ['_tocantins'], ['_tocoa'], ['_tocuyito'], ['_tokat'], ['_tokha'], ['_tokmok'], ['_tokyo'], ['_toliara'], ['_tolkmicko'], ['_toluca'], ['_tombos'], ['_tomoi'], ['_tongeren'], ['_tongwan'], ['_topolovgrad'], ['_toprakkale'], ['_torit'], ['_tornio'], ['_tornquist'], ['_toronto'], ['_tororo'], ['_torre', '_de', '_pedra'], ['_torrelavega'], ['_torreón'], ['_torrinha'], ['_tortuguitas'], ['_toruń'], ['_torzym'], ['_toszek'], ['_totonicapán'], ['_tottori'], ['_touba'], ['_touba', '_,', '_senegal'], ['_touggourt'], ['_touissit'], ['_tourcoing'], ['_tournai'], ['_tovar'], ['_tovuz'], ['_townsville'], ['_to‘rtko‘l'], ['_trabiju'], ['_trabzon'], ['_tragilius'], ['_traianoupoli'], ['_trakai'], ['_tralleis'], ['_tralles'], ['_tranqueras'], ['_traralgon'], ['_trashigang'], ['_trastenik'], ['_trebinje'], ['_trebnje'], ['_trebujena'], ['_treinta', '_y', '_tres'], ['_trelew'], ['_tremembé'], ['_trenque', '_lauquen'], ['_trento'], ['_trenčín'], ['_tres', '_arroyos'], ['_treviso'], ['_trichy'], ['_tridentum'], ['_trier'], ['_trieste'], ['_trikala'], ['_trincomalee'], ['_trindade'], ['_trinidad'], ['_triocala'], ['_triolet', '_,', '_mauritius'], ['_triopium'], ['_tripoli'], ['_triunfo'], ['_triyuga'], ['_trnava'], ['_tromsø'], ['_trondheim'], ['_trongsa'], ['_troyan'], ['_troškūnai'], ['_truckton'], ['_true', '_blue'], ['_trujillo'], ['_truro'], ['_tryavna'], ['_trysa'], ['_trzcianka'], ['_trzciel'], ['_trzcińsko', '_zdrój'], ['_trzebiatów'], ['_trzebinia'], ['_trzebnica'], ['_trzemeszno'], ['_três', '_corações'], ['_três', '_fronteiras'], ['_tsageri'], ['_tsalenjikha'], ['_tsalka'], ['_tsar', '_kaloyan', '_,', '_razgrad', '_province'], ['_tsarevo'], ['_tsetserleg'], ['_tshabong'], ['_tsiroanomandidy'], ['_tskhinvali'], ['_tsnori'], ['_tsqaltubo'], ['_tsukuba'], ['_tsumeb'], ['_tuaran'], ['_tubarão'], ['_tubas'], ['_tuchola'], ['_tuchów'], ['_tucupita'], ['_tuczno'], ['_tudela'], ['_tuiuti'], ['_tukuyu'], ['_tulcán'], ['_tuliszków'], ['_tulkarm'], ['_tulsipur'], ['_tultepec'], ['_tultitlán', '_de', '_mariano', '_escobedo'], ['_tumbes'], ['_tumbura'], ['_tumkur'], ['_tumpat'], ['_tunceli'], ['_tunuyán'], ['_tupambaé'], ['_tupi', '_paulista'], ['_tupiza'], ['_tupã'], ['_turgutalp'], ['_turin'], ['_turiúba'], ['_turki'], ['_turkistan'], ['_turmalina'], ['_turmero'], ['_turmi'], ['_turnacum'], ['_tursunzoda'], ['_turunçova'], ['_tuszyn'], ['_tutin'], ['_tutrakan'], ['_tutume'], ['_tuxpan'], ['_tuz', '_khormato'], ['_tuzla'], ['_tuzla', '_city'], ['_tułowice', '_,', '_opole', '_voivodeship'], ['_tvedestrand'], ['_twardogóra'], ['_tychowo'], ['_tychy'], ['_tyczyn'], ['_tykocin'], ['_tyre'], ['_tyrnavos'], ['_tyszowce'], ['_tytuvėnai'], ['_tálknafjörður'], ['_táriba'], ['_tébessa'], ['_tétouan'], ['_tôlanaro'], ['_tômbwa'], ['_tömük'], ['_tønsberg'], ['_türkmenabat'], ['_tłuszcz'], ['_ubarana'], ['_ubatuba'], ['_uberaba'], ['_uberlândia'], ['_ubirajara'], ['_ubundu'], ['_ubá'], ['_uchkuduk'], ['_uchoa'], ['_ucureña'], ['_udhampur'], ['_udine'], ['_udong'], ['_udu', '_,', '_nigeria'], ['_udupi'], ['_ugarchin'], ['_ujazd'], ['_ujiji'], ['_ujjain'], ['_ujście'], ['_ukbara'], ['_ukmergė'], ['_ulaangom'], ['_ulanów'], ['_ulcinj'], ['_ulhasnagar'], ['_uliastai'], ['_uljin'], ['_ulm'], ['_ulvila'], ['_umeå'], ['_umm', '_al', '_fahm'], ['_umm', '_qasr'], ['_umuahia'], ['_umurlu'], ['_unaizah'], ['_ungheni'], ['_uniejów'], ['_unwana', '_city'], ['_upalavi'], ['_upernavik'], ['_upper', '_bayang'], ['_upper', '_hutt'], ['_uppsala'], ['_ur', '_kaśdim'], ['_urawa'], ['_urbano', '_noris'], ['_urbino'], ['_urcos'], ['_ureña'], ['_urgench'], ['_urgut'], ['_uruapan'], ['_urubamba'], ['_urzędów'], ['_urë', '_vajgurore'], ['_usakos'], ['_uscana'], ['_ushuaia'], ['_usta', '_mohammad'], ['_ustrzyki', '_dolne'], ['_usulután'], ['_utena'], ['_utrecht'], ['_uummannaq'], ['_uusikaupunki'], ['_uvira'], ['_uychi'], ['_uyuni'], ['_uzgen'], ['_uşak'], ['_užventis'], ['_v.s.k.valasai'], ['_vaasa'], ['_vabalninkas'], ['_vabkent'], ['_vadamalapuram'], ['_vadodara'], ['_vahdat'], ['_val', \"_d'or\", '_,', '_penang'], ['_valandovo'], ['_valchedram'], ['_valchi', '_dol'], ['_valderrama'], ['_vale'], ['_valencia'], ['_valentín', '_alsina'], ['_valera'], ['_valinhos'], ['_valkeakoski'], ['_valladolid'], ['_valle', '_de', '_la', '_pascua'], ['_valledupar'], ['_vallegrande'], ['_valley', '_of', '_the', '_chillos'], ['_valsad'], ['_van'], ['_vandavasi'], ['_vantaa'], ['_varadero'], ['_varanasi'], ['_varde'], ['_varese'], ['_varia'], ['_varkaus'], ['_varna'], ['_varniai'], ['_varshets'], ['_varėna'], ['_vasai', '_virar'], ['_vaughan'], ['_veii'], ['_veisiejai'], ['_vejle'], ['_velenje'], ['_veles'], ['_veliko', '_tarnovo'], ['_velimeşe'], ['_velingrad'], ['_velká', '_olomouc'], ['_venado', '_tuerto'], ['_venice'], ['_venlo'], ['_venta'], ['_ventanas'], ['_vera'], ['_vergara'], ['_vernon'], ['_veroia'], ['_verona'], ['_vertientes'], ['_verviers'], ['_vescia'], ['_vetovo'], ['_vetren', '_,', '_pazardzhik', '_province'], ['_viacha'], ['_viana'], ['_vianden'], ['_viborg'], ['_vicente', '_guerrero'], ['_vicenza'], ['_vicina'], ['_victor', '_harbor'], ['_victoria'], ['_victoria', '_falls'], ['_victoria', '_,', '_buenos', '_aires'], ['_vidin'], ['_vidisha'], ['_viedma'], ['_viekšniai'], ['_vienna'], ['_vientiane'], ['_vigo'], ['_viitasaari'], ['_vila', '_de', '_sena'], ['_vila', '_real'], ['_vila', '_velha'], ['_vilankulo'], ['_vilcashuamán', '_(', '_provincial', '_capital', '_)'], ['_vilkaviškis'], ['_vilkija'], ['_villa', '_adelina'], ['_villa', '_ballester'], ['_villa', '_carlos', '_paz'], ['_villa', '_celina'], ['_villa', '_centenario'], ['_villa', '_constitución'], ['_villa', '_de', '_mayo'], ['_villa', '_dolores'], ['_villa', '_domínico'], ['_villa', '_fiorito'], ['_villa', '_gobernador', '_gálvez'], ['_villa', '_jesús', '_maría'], ['_villa', '_krause'], ['_villa', '_luzuriaga'], ['_villa', '_mariano', '_matamoros'], ['_villa', '_maría'], ['_villa', '_mercedes'], ['_villa', '_salvación'], ['_villa', '_serrano'], ['_villa', '_simón', '_bolívar'], ['_villa', '_soriano'], ['_villa', '_tesei'], ['_villa', '_tunari'], ['_villa', '_udaondo'], ['_villa', '_vaca', '_guzmán'], ['_villa', '_ángela'], ['_villach'], ['_villaguay'], ['_villahermosa'], ['_villamontes'], ['_villanueva'], ['_villanueva', '_de', '_la', '_serena'], ['_villarrobledo'], ['_villena'], ['_vilnius'], ['_vin'], ['_vinces'], ['_vinhedo'], ['_vinto'], ['_vipava'], ['_viqueque'], ['_virbalis'], ['_virrat'], ['_virreyes', '_,', '_buenos', '_aires'], ['_virú'], ['_visakhapatnam'], ['_visconde', '_do', '_rio', '_branco'], ['_vishnu', '_baug', '_colony'], ['_visoko'], ['_vitoria', '_gasteiz'], ['_vitry', '_sur', '_seine'], ['_vizianagaram'], ['_višegrad'], ['_vlaardingen'], ['_vlasenica'], ['_vlissingen'], ['_vlorë'], ['_voerde', '_(', '_niederrhein', '_)'], ['_vogar'], ['_vohemar'], ['_volos'], ['_voorburg'], ['_vopnafjörður'], ['_vordingborg'], ['_votuporanga'], ['_vratsa'], ['_vreed', '_en', '_hoop'], ['_vrhnika'], ['_vrindavan'], ['_vukovar'], ['_vulcănești'], ['_vučitrn'], ['_vyadhapura'], ['_várzea', '_paulista'], ['_vélingara'], ['_wacca'], ['_wad', '_madani'], ['_wadi', '_al', '_seer'], ['_wadi', '_halfa'], ['_wadowice'], ['_wageningen'], ['_wagga', '_wagga'], ['_waitakere', '_city'], ['_waiwerang'], ['_wajir'], ['_wakayama'], ['_wakefield'], ['_waku', '_kungo'], ['_walla', '_walla'], ['_walvis', '_bay'], ['_wanda'], ['_wangaratta'], ['_wanyjok', '_,', '_south', '_sudan'], ['_warangal', '_tri', '_city'], ['_wardha'], ['_waremme'], ['_warka'], ['_warman'], ['_warnes'], ['_warrap', '_,', '_south', '_sudan'], ['_warri'], ['_warrnambool'], ['_warsaw'], ['_warta'], ['_wasilków'], ['_watapur'], ['_wategaon'], ['_waterford'], ['_waterloo'], ['_wavre'], ['_wazirabad'], ['_wałbrzych'], ['_weh', '_antioch', '_khosrow'], ['_weiji'], ['_weitra'], ['_weldiya'], ['_welenchiti'], ['_wellington', '_city'], ['_wells'], ['_wels'], ['_were', '_ilu'], ['_wereta'], ['_west', '_kelowna'], ['_weston', '_under', '_lizard'], ['_westport'], ['_wete'], ['_whanganui'], ['_whangarei'], ['_whitby'], ['_whitehorse'], ['_whyalla'], ['_widikum', '_boffe'], ['_wiehl'], ['_wielbark', '_,', '_warmian', '_masurian', '_voivodeship'], ['_wieleń'], ['_wielichowo'], ['_wieliczka'], ['_wieluń'], ['_wiener', '_neustadt'], ['_wieruszów'], ['_wijitapura'], ['_wilamowice'], ['_wilde'], ['_willemstad'], ['_william', '_c.', '_morris'], ['_wiltz'], ['_winchester'], ['_windhoek'], ['_windsor'], ['_winkler'], ['_winneba'], ['_winnipeg'], ['_wismar'], ['_witkowo'], ['_witnica'], ['_wittingen'], ['_wiązów'], ['_więcbork'], ['_wiślica'], ['_wleń'], ['_wodonga'], ['_wojnicz'], ['_wolbrom'], ['_wolbórz'], ['_wolin'], ['_wolsztyn'], ['_wolverhampton'], ['_worcester'], ['_wołczyn'], ['_wołomin'], ['_wołów'], ['_woźniki'], ['_wronki'], ['_września'], ['_wschowa'], ['_wuchale'], ['_wuchang', '_city'], ['_wum'], ['_wyrzysk'], ['_wysoka'], ['_wyszków'], ['_wyszogród'], ['_wyśmierzyce'], ['_würzburg'], ['_wąchock'], ['_wąsosz'], ['_węgliniec'], ['_węgorzewo'], ['_węgorzyno'], ['_włoszczowa'], ['_xacitarxan'], ['_xai', '_xai'], ['_xalapa'], ['_xangongo'], ['_xanthi'], ['_xiaoshangqiao'], ['_xochihuehuetlán'], ['_xonobod'], ['_xırdalan'], ['_xızı'], [\"_ya'bad\"], ['_yabassi'], ['_yabrud'], ['_yachay'], ['_yafa'], ['_yafran'], ['_yagoua'], ['_yaguachi'], ['_yaguarón'], ['_yaguarú'], ['_yakınca'], ['_yalamlam'], ['_yalavagi'], ['_yallahs'], ['_yamagata'], ['_yambol'], ['_yamuna', '_nagar'], ['_yana'], ['_yanahuanca'], ['_yanaoca'], ['_yangambi'], ['_yangcheng'], ['_yangiyer'], ['_yangon'], ['_yanjing'], ['_yaoundé'], ['_yapacaní'], ['_yaqubi'], ['_yara'], ['_yardımlı'], ['_yarim'], ['_yaritagua'], ['_yatağan'], ['_yateras'], ['_yathrib'], ['_yatta'], ['_yauri'], ['_yauyos'], ['_yavatmal'], ['_yavne'], ['_yaypan'], ['_yazmin'], ['_ye'], ['_yehud'], ['_yele'], ['_yenangyaung'], ['_yeni'], ['_yenice'], ['_yeniceköy'], ['_yeniceoba'], ['_yeniçiftlik'], ['_yerba', '_buena', '_,', '_tucumán'], ['_yevlakh'], ['_yeşilköy'], ['_yinxu'], ['_ylivieska'], ['_ylöjärvi'], ['_yokadouma'], ['_yokneam', '_illit'], ['_yoko'], ['_yola'], ['_york'], ['_yoro'], ['_youssoufia'], ['_yozgat'], ['_yucumo'], ['_yugo', '_,', '_baltistan'], ['_yukarıdinek'], ['_yungay'], ['_yunguyo'], ['_yurimaguas'], ['_yurtbaşı'], ['_yuscarán'], ['_yōkaichi'], ['_zabrze'], ['_zabłudów'], ['_zacatelco'], ['_zacatlán'], ['_zafarwal'], ['_zagazig'], ['_zagorje', '_ob', '_savi'], ['_zagórz'], ['_zagórów'], ['_zahlé'], ['_zaio'], ['_zakho'], ['_zakliczyn'], ['_zaklików'], ['_zakroczym'], ['_zalewo'], ['_zamora'], ['_zamość'], ['_zamyn', '_üüd'], ['_zana'], ['_zanzibar', '_city'], ['_zaouiet', '_sousse'], ['_zapala'], ['_zapopan'], ['_zaprešić'], ['_zaqatala'], ['_zarafshan'], ['_zaragoza'], ['_zaranj'], ['_zarasai'], ['_zaraza'], ['_zarcero'], ['_zardab'], ['_zaria'], ['_zarumilla'], ['_zator'], ['_zavala'], ['_zavet'], ['_zawadzkie'], ['_zawichost'], ['_zbąszynek'], ['_zbąszyń'], ['_zduny'], ['_zdzieszowice'], ['_zefta'], ['_zeghanghane'], ['_zelów'], ['_zenica'], ['_zenopolis', '_in', '_isauria'], ['_zharkent'], ['_zhetikara'], ['_zhetisay'], ['_zhongdu'], ['_zhovkva'], ['_ziarat', '_,', '_north', '_khorasan'], ['_zielona', '_góra'], ['_zigon'], ['_ziguinchor'], ['_zinder'], ['_zinjibar'], ['_ziębice'], ['_zlataritsa'], ['_zlatitsa'], ['_zliten'], ['_zlín'], ['_zoan'], ['_zoetermeer'], ['_zomba'], ['_zorritos'], ['_zouar'], ['_zoutpansberg'], ['_zouérat'], ['_zudáñez'], ['_zug'], ['_zugdidi'], ['_zula'], ['_zumbo'], ['_zutphen'], ['_zuunmod'], ['_zuwara'], ['_zuwetina'], ['_zvartnots'], ['_zwenkau'], ['_zwierzyniec'], ['_zwoleń'], ['_zwolle'], ['_zárate'], ['_zülpich'], ['_züsow'], ['_züünkharaa'], ['_ząbkowice', '_śląskie'], ['_złocieniec'], ['_złoczew'], ['_złoty', '_stok'], ['_zəngilan'], ['_águas', '_da', '_prata'], ['_águas', '_de', '_lindóia'], ['_águas', '_de', '_santa', '_bárbara'], ['_águas', '_de', '_são', '_pedro'], ['_álftanes'], ['_álvares', '_florence'], ['_álvares', '_machado'], ['_álvaro', '_de', '_carvalho'], ['_ávila'], ['_ähtäri'], ['_äänekoski'], ['_ålesund'], ['_åndalsnes'], ['_çaldıran'], ['_çanakkale'], ['_çankırı'], ['_çatalağzı'], ['_çaylı'], ['_çayırhan'], ['_çiçekdağı'], ['_çobanlar'], ['_çorlu'], ['_çorovodë'], ['_çorum'], ['_çınar'], ['_écija'], ['_ísafjörður'], ['_île', '_sainte', '_marie'], ['_ólafsvík'], ['_óleo'], ['_ölgii'], ['_ølstykke', '_stenløse'], ['_úbeda'], ['_ústí', '_nad', '_labem'], ['_übach', '_palenberg'], ['_þorlákshöfn'], ['_āmer'], ['_ćmielów'], ['_čakovec'], ['_čapljina'], ['_český', '_těšín'], ['_črnomelj'], ['_łabiszyn'], ['_łagów', '_,', '_świętokrzyskie', '_voivodeship'], ['_łapy'], ['_łasin'], ['_łask'], ['_łaszczów'], ['_łazy'], ['_łobez'], ['_łobżenica'], ['_łochów'], ['_łomianki'], ['_łomża'], ['_łosice'], ['_łódź'], ['_łęczna'], ['_ōsaka'], ['_ōtsu'], ['_řevnice'], ['_ścinawa'], ['_ślesin'], ['_śmigiel'], ['_śrem'], ['_środa', '_wielkopolska'], ['_środa', '_śląska'], ['_świebodzin'], ['_świecie'], ['_świerzawa'], ['_świnoujście'], ['_świątniki', '_górne'], ['_świętochłowice'], ['_şahbuz'], ['_şanlıurfa'], ['_şavşat', '_district'], ['_şırnak'], ['_şəmkir'], ['_šakiai'], ['_šalčininkai'], ['_šamac'], ['_šeduva'], ['_šempeter', '_pri', '_gorici'], ['_šiauliai'], ['_šilalė'], ['_šilutė'], ['_širvintos'], ['_štip'], ['_švenčionys'], ['_švenčionėliai'], ['_żabno'], ['_żarki'], ['_żarów'], ['_żelechów'], ['_żerków'], ['_żmigród'], ['_żnin'], ['_żory'], ['_żukowo'], ['_żuromin'], ['_żychlin'], ['_żywiec'], ['_žagarė'], ['_žiežmariai'], ['_žilina'], ['_ștefan', '_vodă'], ['_ʿamrān'], ['_الجلفة'], ['_مأرب'], ['_ḍera', '_ismaīl', '_k͟hān']]\n"
          ],
          "name": "stdout"
        }
      ]
    },
    {
      "cell_type": "code",
      "metadata": {
        "id": "sI7iJL66K9va",
        "colab_type": "code",
        "colab": {
          "base_uri": "https://localhost:8080/",
          "height": 34
        },
        "outputId": "de7bfa5a-0071-4471-bff5-edd8f5c03835"
      },
      "source": [
        "print(len(patterns),len(id_list))"
      ],
      "execution_count": 54,
      "outputs": [
        {
          "output_type": "stream",
          "text": [
            "7602 7602\n"
          ],
          "name": "stdout"
        }
      ]
    },
    {
      "cell_type": "code",
      "metadata": {
        "id": "gFQ0s87YGYJ4",
        "colab_type": "code",
        "colab": {
          "base_uri": "https://localhost:8080/",
          "height": 34
        },
        "outputId": "562cbe06-6900-4fd9-a758-54b0664ca47e"
      },
      "source": [
        "with open(\"pats.txt\", \"w\") as output:\n",
        "    output.write(str(patterns))"
      ],
      "execution_count": 42,
      "outputs": [
        {
          "output_type": "execute_result",
          "data": {
            "text/plain": [
              "343"
            ]
          },
          "metadata": {
            "tags": []
          },
          "execution_count": 42
        }
      ]
    },
    {
      "cell_type": "code",
      "metadata": {
        "id": "t39r8wlBH6hl",
        "colab_type": "code",
        "colab": {}
      },
      "source": [
        "df_pats = pd.DataFrame(patterns)\n",
        "df_ids = pd.DataFrame(id_list)"
      ],
      "execution_count": 0,
      "outputs": []
    },
    {
      "cell_type": "code",
      "metadata": {
        "id": "ut6e56YhIL7Y",
        "colab_type": "code",
        "colab": {
          "base_uri": "https://localhost:8080/",
          "height": 197
        },
        "outputId": "39a15b98-bbf8-49b5-f29f-149921769164"
      },
      "source": [
        "df_pats['combined'] = df_pats[0].astype('str') + ', ' + df_pats[1].astype('str') + ', ' + df_pats[2].astype('str') + ', ' + df_pats[3].astype('str')\\\n",
        "+ ', ' + df_pats[4].astype('str') + ', ' + df_pats[5].astype('str') + ', ' + df_pats[6].astype('str') + ', ' + df_pats[7].astype('str')\n",
        "df_pats.drop(columns=[0,1,2,3,4,5,6,7],inplace=True)\n",
        "df_pats.head()"
      ],
      "execution_count": 119,
      "outputs": [
        {
          "output_type": "execute_result",
          "data": {
            "text/html": [
              "<div>\n",
              "<style scoped>\n",
              "    .dataframe tbody tr th:only-of-type {\n",
              "        vertical-align: middle;\n",
              "    }\n",
              "\n",
              "    .dataframe tbody tr th {\n",
              "        vertical-align: top;\n",
              "    }\n",
              "\n",
              "    .dataframe thead th {\n",
              "        text-align: right;\n",
              "    }\n",
              "</style>\n",
              "<table border=\"1\" class=\"dataframe\">\n",
              "  <thead>\n",
              "    <tr style=\"text-align: right;\">\n",
              "      <th></th>\n",
              "      <th>combined</th>\n",
              "    </tr>\n",
              "  </thead>\n",
              "  <tbody>\n",
              "    <tr>\n",
              "      <th>0</th>\n",
              "      <td>{\"LOWER\": \"'s\"}, {\"LOWER\": \"hertogenbosch\"}, N...</td>\n",
              "    </tr>\n",
              "    <tr>\n",
              "      <th>1</th>\n",
              "      <td>{\"LOWER\": \"a\"}, {\"LOWER\": \"coruña\"}, None, Non...</td>\n",
              "    </tr>\n",
              "    <tr>\n",
              "      <th>2</th>\n",
              "      <td>{\"LOWER\": \"aabenraa\"}, None, None, None, None,...</td>\n",
              "    </tr>\n",
              "    <tr>\n",
              "      <th>3</th>\n",
              "      <td>{\"LOWER\": \"aasiaat\"}, None, None, None, None, ...</td>\n",
              "    </tr>\n",
              "    <tr>\n",
              "      <th>4</th>\n",
              "      <td>{\"LOWER\": \"aba\"}, None, None, None, None, None...</td>\n",
              "    </tr>\n",
              "  </tbody>\n",
              "</table>\n",
              "</div>"
            ],
            "text/plain": [
              "                                            combined\n",
              "0  {\"LOWER\": \"'s\"}, {\"LOWER\": \"hertogenbosch\"}, N...\n",
              "1  {\"LOWER\": \"a\"}, {\"LOWER\": \"coruña\"}, None, Non...\n",
              "2  {\"LOWER\": \"aabenraa\"}, None, None, None, None,...\n",
              "3  {\"LOWER\": \"aasiaat\"}, None, None, None, None, ...\n",
              "4  {\"LOWER\": \"aba\"}, None, None, None, None, None..."
            ]
          },
          "metadata": {
            "tags": []
          },
          "execution_count": 119
        }
      ]
    },
    {
      "cell_type": "code",
      "metadata": {
        "id": "zAy8OOPdL4FZ",
        "colab_type": "code",
        "colab": {
          "base_uri": "https://localhost:8080/",
          "height": 197
        },
        "outputId": "8a64c8e3-b51f-4d5a-8b92-d4285cc7e5ef"
      },
      "source": [
        "df_ids['combined'] = df_ids[0].astype('str') + df_ids[1].astype('str') + df_ids[2].astype('str') + df_ids[3].astype('str')\\\n",
        "+ df_ids[4].astype('str') + df_ids[5].astype('str') + df_ids[6].astype('str') + df_ids[7].astype('str')\n",
        "df_ids.drop(columns=[0,1,2,3,4,5,6,7],inplace=True)\n",
        "df_ids.head()"
      ],
      "execution_count": 120,
      "outputs": [
        {
          "output_type": "execute_result",
          "data": {
            "text/html": [
              "<div>\n",
              "<style scoped>\n",
              "    .dataframe tbody tr th:only-of-type {\n",
              "        vertical-align: middle;\n",
              "    }\n",
              "\n",
              "    .dataframe tbody tr th {\n",
              "        vertical-align: top;\n",
              "    }\n",
              "\n",
              "    .dataframe thead th {\n",
              "        text-align: right;\n",
              "    }\n",
              "</style>\n",
              "<table border=\"1\" class=\"dataframe\">\n",
              "  <thead>\n",
              "    <tr style=\"text-align: right;\">\n",
              "      <th></th>\n",
              "      <th>combined</th>\n",
              "    </tr>\n",
              "  </thead>\n",
              "  <tbody>\n",
              "    <tr>\n",
              "      <th>0</th>\n",
              "      <td>_'s_hertogenboschNoneNoneNoneNoneNoneNone</td>\n",
              "    </tr>\n",
              "    <tr>\n",
              "      <th>1</th>\n",
              "      <td>_a_coruñaNoneNoneNoneNoneNoneNone</td>\n",
              "    </tr>\n",
              "    <tr>\n",
              "      <th>2</th>\n",
              "      <td>_aabenraaNoneNoneNoneNoneNoneNoneNone</td>\n",
              "    </tr>\n",
              "    <tr>\n",
              "      <th>3</th>\n",
              "      <td>_aasiaatNoneNoneNoneNoneNoneNoneNone</td>\n",
              "    </tr>\n",
              "    <tr>\n",
              "      <th>4</th>\n",
              "      <td>_abaNoneNoneNoneNoneNoneNoneNone</td>\n",
              "    </tr>\n",
              "  </tbody>\n",
              "</table>\n",
              "</div>"
            ],
            "text/plain": [
              "                                    combined\n",
              "0  _'s_hertogenboschNoneNoneNoneNoneNoneNone\n",
              "1          _a_coruñaNoneNoneNoneNoneNoneNone\n",
              "2      _aabenraaNoneNoneNoneNoneNoneNoneNone\n",
              "3       _aasiaatNoneNoneNoneNoneNoneNoneNone\n",
              "4           _abaNoneNoneNoneNoneNoneNoneNone"
            ]
          },
          "metadata": {
            "tags": []
          },
          "execution_count": 120
        }
      ]
    },
    {
      "cell_type": "code",
      "metadata": {
        "id": "DBi_Ce0iMam0",
        "colab_type": "code",
        "colab": {}
      },
      "source": [
        "import re"
      ],
      "execution_count": 0,
      "outputs": []
    },
    {
      "cell_type": "code",
      "metadata": {
        "id": "82WoDxkkNbnV",
        "colab_type": "code",
        "colab": {}
      },
      "source": [
        "def clean_pat(x):\n",
        "  step1 = re.sub(\"None\\,\",\"\",x)\n",
        "  step2 = re.sub(\"None\",\"\",step1)\n",
        "  step2 = '{\"label\": \"GPE_city\", \"pattern\": ' + '['+ step2.strip()[:-1] + ']'\n",
        "  return step2\n",
        "\n",
        "\n",
        "def clean_id(x):\n",
        "  step1 = re.sub(\"None\",\"\",x)\n",
        "  step2 = ', \"id\": \"' + re.sub(\"(\\_)([\\'\\_a-zA-Z\\u0080-\\uFFFF]+)\",r\"\\2\",step1) + '\"}'\n",
        "  return step2"
      ],
      "execution_count": 0,
      "outputs": []
    },
    {
      "cell_type": "code",
      "metadata": {
        "id": "D5XrPp_9McXf",
        "colab_type": "code",
        "colab": {}
      },
      "source": [
        "df_pats['cleaned'] = df_pats['combined'].apply(lambda x: clean_pat(x))\n",
        "\n",
        "df_pats.drop(columns=['combined'],inplace=True)\n",
        "df_pats.columns=['cleaned_pattern']\n",
        "\n",
        "df_ids['cleaned'] = df_ids['combined'].apply(lambda x: clean_id(x))\n",
        "df_ids.drop(columns=['combined'],inplace=True)\n",
        "df_ids.columns=['cleaned_id']\n"
      ],
      "execution_count": 0,
      "outputs": []
    },
    {
      "cell_type": "code",
      "metadata": {
        "id": "7bf2NcspWVch",
        "colab_type": "code",
        "colab": {}
      },
      "source": [
        "{\"label\": \"vegetable\", \"pattern\": [{\"LOWER\": \"zuccchini\"}], \"id\": \"zucchini\"}"
      ],
      "execution_count": 0,
      "outputs": []
    },
    {
      "cell_type": "code",
      "metadata": {
        "id": "B5XMYvP-JLr1",
        "colab_type": "code",
        "colab": {
          "base_uri": "https://localhost:8080/",
          "height": 138
        },
        "outputId": "fe50227d-a4d8-4c53-dffd-5edb766789a6"
      },
      "source": [
        "df_full = pd.concat([df_pats,df_ids],axis=1)\n",
        "df_full.info()"
      ],
      "execution_count": 124,
      "outputs": [
        {
          "output_type": "stream",
          "text": [
            "<class 'pandas.core.frame.DataFrame'>\n",
            "RangeIndex: 7602 entries, 0 to 7601\n",
            "Data columns (total 2 columns):\n",
            "cleaned_pattern    7602 non-null object\n",
            "cleaned_id         7602 non-null object\n",
            "dtypes: object(2)\n",
            "memory usage: 118.9+ KB\n"
          ],
          "name": "stdout"
        }
      ]
    },
    {
      "cell_type": "code",
      "metadata": {
        "id": "H5YMkGSFQAnX",
        "colab_type": "code",
        "colab": {
          "base_uri": "https://localhost:8080/",
          "height": 197
        },
        "outputId": "db5b1282-3ae4-45ff-d062-a43cfebed64e"
      },
      "source": [
        "df_full.head()"
      ],
      "execution_count": 125,
      "outputs": [
        {
          "output_type": "execute_result",
          "data": {
            "text/html": [
              "<div>\n",
              "<style scoped>\n",
              "    .dataframe tbody tr th:only-of-type {\n",
              "        vertical-align: middle;\n",
              "    }\n",
              "\n",
              "    .dataframe tbody tr th {\n",
              "        vertical-align: top;\n",
              "    }\n",
              "\n",
              "    .dataframe thead th {\n",
              "        text-align: right;\n",
              "    }\n",
              "</style>\n",
              "<table border=\"1\" class=\"dataframe\">\n",
              "  <thead>\n",
              "    <tr style=\"text-align: right;\">\n",
              "      <th></th>\n",
              "      <th>cleaned_pattern</th>\n",
              "      <th>cleaned_id</th>\n",
              "    </tr>\n",
              "  </thead>\n",
              "  <tbody>\n",
              "    <tr>\n",
              "      <th>0</th>\n",
              "      <td>{\"label\": \"GPE_city\", \"pattern\": [{\"LOWER\": \"'...</td>\n",
              "      <td>, \"id\": \"'s_hertogenbosch\"}</td>\n",
              "    </tr>\n",
              "    <tr>\n",
              "      <th>1</th>\n",
              "      <td>{\"label\": \"GPE_city\", \"pattern\": [{\"LOWER\": \"a...</td>\n",
              "      <td>, \"id\": \"a_coruña\"}</td>\n",
              "    </tr>\n",
              "    <tr>\n",
              "      <th>2</th>\n",
              "      <td>{\"label\": \"GPE_city\", \"pattern\": [{\"LOWER\": \"a...</td>\n",
              "      <td>, \"id\": \"aabenraa\"}</td>\n",
              "    </tr>\n",
              "    <tr>\n",
              "      <th>3</th>\n",
              "      <td>{\"label\": \"GPE_city\", \"pattern\": [{\"LOWER\": \"a...</td>\n",
              "      <td>, \"id\": \"aasiaat\"}</td>\n",
              "    </tr>\n",
              "    <tr>\n",
              "      <th>4</th>\n",
              "      <td>{\"label\": \"GPE_city\", \"pattern\": [{\"LOWER\": \"a...</td>\n",
              "      <td>, \"id\": \"aba\"}</td>\n",
              "    </tr>\n",
              "  </tbody>\n",
              "</table>\n",
              "</div>"
            ],
            "text/plain": [
              "                                     cleaned_pattern                   cleaned_id\n",
              "0  {\"label\": \"GPE_city\", \"pattern\": [{\"LOWER\": \"'...  , \"id\": \"'s_hertogenbosch\"}\n",
              "1  {\"label\": \"GPE_city\", \"pattern\": [{\"LOWER\": \"a...          , \"id\": \"a_coruña\"}\n",
              "2  {\"label\": \"GPE_city\", \"pattern\": [{\"LOWER\": \"a...          , \"id\": \"aabenraa\"}\n",
              "3  {\"label\": \"GPE_city\", \"pattern\": [{\"LOWER\": \"a...           , \"id\": \"aasiaat\"}\n",
              "4  {\"label\": \"GPE_city\", \"pattern\": [{\"LOWER\": \"a...               , \"id\": \"aba\"}"
            ]
          },
          "metadata": {
            "tags": []
          },
          "execution_count": 125
        }
      ]
    },
    {
      "cell_type": "code",
      "metadata": {
        "id": "fsa9JRc8S4FQ",
        "colab_type": "code",
        "colab": {
          "base_uri": "https://localhost:8080/",
          "height": 197
        },
        "outputId": "11c66c13-98d8-49d4-fb6e-7c2ac4d9732d"
      },
      "source": [
        "df_full.tail()"
      ],
      "execution_count": 126,
      "outputs": [
        {
          "output_type": "execute_result",
          "data": {
            "text/html": [
              "<div>\n",
              "<style scoped>\n",
              "    .dataframe tbody tr th:only-of-type {\n",
              "        vertical-align: middle;\n",
              "    }\n",
              "\n",
              "    .dataframe tbody tr th {\n",
              "        vertical-align: top;\n",
              "    }\n",
              "\n",
              "    .dataframe thead th {\n",
              "        text-align: right;\n",
              "    }\n",
              "</style>\n",
              "<table border=\"1\" class=\"dataframe\">\n",
              "  <thead>\n",
              "    <tr style=\"text-align: right;\">\n",
              "      <th></th>\n",
              "      <th>cleaned_pattern</th>\n",
              "      <th>cleaned_id</th>\n",
              "    </tr>\n",
              "  </thead>\n",
              "  <tbody>\n",
              "    <tr>\n",
              "      <th>7597</th>\n",
              "      <td>{\"label\": \"GPE_city\", \"pattern\": [{\"LOWER\": \"ș...</td>\n",
              "      <td>, \"id\": \"ștefan_vodă\"}</td>\n",
              "    </tr>\n",
              "    <tr>\n",
              "      <th>7598</th>\n",
              "      <td>{\"label\": \"GPE_city\", \"pattern\": [{\"LOWER\": \"ʿ...</td>\n",
              "      <td>, \"id\": \"ʿamrān\"}</td>\n",
              "    </tr>\n",
              "    <tr>\n",
              "      <th>7599</th>\n",
              "      <td>{\"label\": \"GPE_city\", \"pattern\": [{\"LOWER\": \"ا...</td>\n",
              "      <td>, \"id\": \"الجلفة\"}</td>\n",
              "    </tr>\n",
              "    <tr>\n",
              "      <th>7600</th>\n",
              "      <td>{\"label\": \"GPE_city\", \"pattern\": [{\"LOWER\": \"م...</td>\n",
              "      <td>, \"id\": \"مأرب\"}</td>\n",
              "    </tr>\n",
              "    <tr>\n",
              "      <th>7601</th>\n",
              "      <td>{\"label\": \"GPE_city\", \"pattern\": [{\"LOWER\": \"ḍ...</td>\n",
              "      <td>, \"id\": \"ḍera_ismaīl_k͟hān\"}</td>\n",
              "    </tr>\n",
              "  </tbody>\n",
              "</table>\n",
              "</div>"
            ],
            "text/plain": [
              "                                        cleaned_pattern                    cleaned_id\n",
              "7597  {\"label\": \"GPE_city\", \"pattern\": [{\"LOWER\": \"ș...        , \"id\": \"ștefan_vodă\"}\n",
              "7598  {\"label\": \"GPE_city\", \"pattern\": [{\"LOWER\": \"ʿ...             , \"id\": \"ʿamrān\"}\n",
              "7599  {\"label\": \"GPE_city\", \"pattern\": [{\"LOWER\": \"ا...             , \"id\": \"الجلفة\"}\n",
              "7600  {\"label\": \"GPE_city\", \"pattern\": [{\"LOWER\": \"م...               , \"id\": \"مأرب\"}\n",
              "7601  {\"label\": \"GPE_city\", \"pattern\": [{\"LOWER\": \"ḍ...  , \"id\": \"ḍera_ismaīl_k͟hān\"}"
            ]
          },
          "metadata": {
            "tags": []
          },
          "execution_count": 126
        }
      ]
    },
    {
      "cell_type": "code",
      "metadata": {
        "id": "QxxEjq8ULJ3B",
        "colab_type": "code",
        "colab": {}
      },
      "source": [
        "df_full['combined'] = df_full['cleaned_pattern'].astype('str') + df_full['cleaned_id'].astype('str')"
      ],
      "execution_count": 0,
      "outputs": []
    },
    {
      "cell_type": "code",
      "metadata": {
        "id": "Y27Low08LLll",
        "colab_type": "code",
        "colab": {
          "base_uri": "https://localhost:8080/",
          "height": 197
        },
        "outputId": "9bf6df5e-ea89-435c-e211-804facbb7ed5"
      },
      "source": [
        "df_full.head()"
      ],
      "execution_count": 128,
      "outputs": [
        {
          "output_type": "execute_result",
          "data": {
            "text/html": [
              "<div>\n",
              "<style scoped>\n",
              "    .dataframe tbody tr th:only-of-type {\n",
              "        vertical-align: middle;\n",
              "    }\n",
              "\n",
              "    .dataframe tbody tr th {\n",
              "        vertical-align: top;\n",
              "    }\n",
              "\n",
              "    .dataframe thead th {\n",
              "        text-align: right;\n",
              "    }\n",
              "</style>\n",
              "<table border=\"1\" class=\"dataframe\">\n",
              "  <thead>\n",
              "    <tr style=\"text-align: right;\">\n",
              "      <th></th>\n",
              "      <th>cleaned_pattern</th>\n",
              "      <th>cleaned_id</th>\n",
              "      <th>combined</th>\n",
              "    </tr>\n",
              "  </thead>\n",
              "  <tbody>\n",
              "    <tr>\n",
              "      <th>0</th>\n",
              "      <td>{\"label\": \"GPE_city\", \"pattern\": [{\"LOWER\": \"'...</td>\n",
              "      <td>, \"id\": \"'s_hertogenbosch\"}</td>\n",
              "      <td>{\"label\": \"GPE_city\", \"pattern\": [{\"LOWER\": \"'...</td>\n",
              "    </tr>\n",
              "    <tr>\n",
              "      <th>1</th>\n",
              "      <td>{\"label\": \"GPE_city\", \"pattern\": [{\"LOWER\": \"a...</td>\n",
              "      <td>, \"id\": \"a_coruña\"}</td>\n",
              "      <td>{\"label\": \"GPE_city\", \"pattern\": [{\"LOWER\": \"a...</td>\n",
              "    </tr>\n",
              "    <tr>\n",
              "      <th>2</th>\n",
              "      <td>{\"label\": \"GPE_city\", \"pattern\": [{\"LOWER\": \"a...</td>\n",
              "      <td>, \"id\": \"aabenraa\"}</td>\n",
              "      <td>{\"label\": \"GPE_city\", \"pattern\": [{\"LOWER\": \"a...</td>\n",
              "    </tr>\n",
              "    <tr>\n",
              "      <th>3</th>\n",
              "      <td>{\"label\": \"GPE_city\", \"pattern\": [{\"LOWER\": \"a...</td>\n",
              "      <td>, \"id\": \"aasiaat\"}</td>\n",
              "      <td>{\"label\": \"GPE_city\", \"pattern\": [{\"LOWER\": \"a...</td>\n",
              "    </tr>\n",
              "    <tr>\n",
              "      <th>4</th>\n",
              "      <td>{\"label\": \"GPE_city\", \"pattern\": [{\"LOWER\": \"a...</td>\n",
              "      <td>, \"id\": \"aba\"}</td>\n",
              "      <td>{\"label\": \"GPE_city\", \"pattern\": [{\"LOWER\": \"a...</td>\n",
              "    </tr>\n",
              "  </tbody>\n",
              "</table>\n",
              "</div>"
            ],
            "text/plain": [
              "                                     cleaned_pattern  ...                                           combined\n",
              "0  {\"label\": \"GPE_city\", \"pattern\": [{\"LOWER\": \"'...  ...  {\"label\": \"GPE_city\", \"pattern\": [{\"LOWER\": \"'...\n",
              "1  {\"label\": \"GPE_city\", \"pattern\": [{\"LOWER\": \"a...  ...  {\"label\": \"GPE_city\", \"pattern\": [{\"LOWER\": \"a...\n",
              "2  {\"label\": \"GPE_city\", \"pattern\": [{\"LOWER\": \"a...  ...  {\"label\": \"GPE_city\", \"pattern\": [{\"LOWER\": \"a...\n",
              "3  {\"label\": \"GPE_city\", \"pattern\": [{\"LOWER\": \"a...  ...  {\"label\": \"GPE_city\", \"pattern\": [{\"LOWER\": \"a...\n",
              "4  {\"label\": \"GPE_city\", \"pattern\": [{\"LOWER\": \"a...  ...  {\"label\": \"GPE_city\", \"pattern\": [{\"LOWER\": \"a...\n",
              "\n",
              "[5 rows x 3 columns]"
            ]
          },
          "metadata": {
            "tags": []
          },
          "execution_count": 128
        }
      ]
    },
    {
      "cell_type": "code",
      "metadata": {
        "id": "mp9KkBFDLR2B",
        "colab_type": "code",
        "colab": {
          "base_uri": "https://localhost:8080/",
          "height": 34
        },
        "outputId": "c9620249-fd9a-4063-b585-3c23937d3436"
      },
      "source": [
        "df_full['combined'][0]"
      ],
      "execution_count": 130,
      "outputs": [
        {
          "output_type": "execute_result",
          "data": {
            "text/plain": [
              "'{\"label\": \"GPE_city\", \"pattern\": [{\"LOWER\": \"\\'s\"}, {\"LOWER\": \"hertogenbosch\"}], \"id\": \"\\'s_hertogenbosch\"}'"
            ]
          },
          "metadata": {
            "tags": []
          },
          "execution_count": 130
        }
      ]
    },
    {
      "cell_type": "code",
      "metadata": {
        "id": "9DG7qZJHYw41",
        "colab_type": "code",
        "colab": {
          "base_uri": "https://localhost:8080/",
          "height": 34
        },
        "outputId": "775d5ad8-d63b-43f4-fde3-5cced771d711"
      },
      "source": [
        "type(list(df_full['combined']))"
      ],
      "execution_count": 132,
      "outputs": [
        {
          "output_type": "execute_result",
          "data": {
            "text/plain": [
              "list"
            ]
          },
          "metadata": {
            "tags": []
          },
          "execution_count": 132
        }
      ]
    },
    {
      "cell_type": "code",
      "metadata": {
        "id": "mVxV2bt8LUDJ",
        "colab_type": "code",
        "colab": {}
      },
      "source": [
        "dump_jsonl(list(df_full['combined']), 'city_patterns.jsonl')"
      ],
      "execution_count": 0,
      "outputs": []
    },
    {
      "cell_type": "code",
      "metadata": {
        "id": "BzNNwzDqLc0B",
        "colab_type": "code",
        "colab": {}
      },
      "source": [
        "df_full[['combined']].to_csv('city_patterns.csv',index=False)"
      ],
      "execution_count": 0,
      "outputs": []
    },
    {
      "cell_type": "code",
      "metadata": {
        "id": "cfL_Gw86ZsEe",
        "colab_type": "code",
        "colab": {
          "base_uri": "https://localhost:8080/",
          "height": 225
        },
        "outputId": "eaf45ebf-6337-461c-c811-7babb42d4344"
      },
      "source": [
        "df2.info()"
      ],
      "execution_count": 139,
      "outputs": [
        {
          "output_type": "stream",
          "text": [
            "<class 'pandas.core.frame.DataFrame'>\n",
            "RangeIndex: 10087 entries, 0 to 10086\n",
            "Data columns (total 7 columns):\n",
            "instance_of                                              10087 non-null object\n",
            "instance_ofLabel                                         10087 non-null object\n",
            "country                                                  9608 non-null object\n",
            "countryLabel                                             9608 non-null object\n",
            "located_in_the_administrative_territorial_entity         8466 non-null object\n",
            "located_in_the_administrative_territorial_entityLabel    8466 non-null object\n",
            "wikidata_entity_id                                       10087 non-null object\n",
            "dtypes: object(7)\n",
            "memory usage: 551.8+ KB\n"
          ],
          "name": "stdout"
        }
      ]
    },
    {
      "cell_type": "code",
      "metadata": {
        "id": "XVhjqz_wbzel",
        "colab_type": "code",
        "colab": {
          "base_uri": "https://localhost:8080/",
          "height": 197
        },
        "outputId": "b56d2975-3c7f-4de8-8e84-b343a70dab58"
      },
      "source": [
        "df_new = df2[['instance_ofLabel','located_in_the_administrative_territorial_entityLabel','countryLabel']]\n",
        "df_new.columns = ['city','admin_division','country']\n",
        "df_new.head()"
      ],
      "execution_count": 141,
      "outputs": [
        {
          "output_type": "execute_result",
          "data": {
            "text/html": [
              "<div>\n",
              "<style scoped>\n",
              "    .dataframe tbody tr th:only-of-type {\n",
              "        vertical-align: middle;\n",
              "    }\n",
              "\n",
              "    .dataframe tbody tr th {\n",
              "        vertical-align: top;\n",
              "    }\n",
              "\n",
              "    .dataframe thead th {\n",
              "        text-align: right;\n",
              "    }\n",
              "</style>\n",
              "<table border=\"1\" class=\"dataframe\">\n",
              "  <thead>\n",
              "    <tr style=\"text-align: right;\">\n",
              "      <th></th>\n",
              "      <th>city</th>\n",
              "      <th>admin_division</th>\n",
              "      <th>country</th>\n",
              "    </tr>\n",
              "  </thead>\n",
              "  <tbody>\n",
              "    <tr>\n",
              "      <th>0</th>\n",
              "      <td>Catania</td>\n",
              "      <td>Metropolitan City of Catania</td>\n",
              "      <td>Italy</td>\n",
              "    </tr>\n",
              "    <tr>\n",
              "      <th>1</th>\n",
              "      <td>Caserta</td>\n",
              "      <td>Province of Caserta</td>\n",
              "      <td>Italy</td>\n",
              "    </tr>\n",
              "    <tr>\n",
              "      <th>2</th>\n",
              "      <td>Juba</td>\n",
              "      <td>Central Equatoria</td>\n",
              "      <td>South Sudan</td>\n",
              "    </tr>\n",
              "    <tr>\n",
              "      <th>3</th>\n",
              "      <td>Dar es Salaam</td>\n",
              "      <td>Dar es Salaam Region</td>\n",
              "      <td>Tanzania</td>\n",
              "    </tr>\n",
              "    <tr>\n",
              "      <th>4</th>\n",
              "      <td>Khartoum</td>\n",
              "      <td>Khartoum</td>\n",
              "      <td>Sudan</td>\n",
              "    </tr>\n",
              "  </tbody>\n",
              "</table>\n",
              "</div>"
            ],
            "text/plain": [
              "            city                admin_division      country\n",
              "0        Catania  Metropolitan City of Catania        Italy\n",
              "1        Caserta           Province of Caserta        Italy\n",
              "2           Juba             Central Equatoria  South Sudan\n",
              "3  Dar es Salaam          Dar es Salaam Region     Tanzania\n",
              "4       Khartoum                      Khartoum        Sudan"
            ]
          },
          "metadata": {
            "tags": []
          },
          "execution_count": 141
        }
      ]
    },
    {
      "cell_type": "code",
      "metadata": {
        "id": "TnSZN_YZcz6E",
        "colab_type": "code",
        "colab": {
          "base_uri": "https://localhost:8080/",
          "height": 312
        },
        "outputId": "ce1792ef-c197-4028-b6c8-0671d7d9200f"
      },
      "source": [
        "for col in df_new.columns:\n",
        "  df_new[col].apply(lambda row: row.str.lower())"
      ],
      "execution_count": 143,
      "outputs": [
        {
          "output_type": "error",
          "ename": "AttributeError",
          "evalue": "ignored",
          "traceback": [
            "\u001b[0;31m---------------------------------------------------------------------------\u001b[0m",
            "\u001b[0;31mAttributeError\u001b[0m                            Traceback (most recent call last)",
            "\u001b[0;32m<ipython-input-143-b9d03457e286>\u001b[0m in \u001b[0;36m<module>\u001b[0;34m()\u001b[0m\n\u001b[1;32m      1\u001b[0m \u001b[0;32mfor\u001b[0m \u001b[0mcol\u001b[0m \u001b[0;32min\u001b[0m \u001b[0mdf_new\u001b[0m\u001b[0;34m.\u001b[0m\u001b[0mcolumns\u001b[0m\u001b[0;34m:\u001b[0m\u001b[0;34m\u001b[0m\u001b[0;34m\u001b[0m\u001b[0m\n\u001b[0;32m----> 2\u001b[0;31m   \u001b[0mdf_new\u001b[0m\u001b[0;34m[\u001b[0m\u001b[0mcol\u001b[0m\u001b[0;34m]\u001b[0m\u001b[0;34m.\u001b[0m\u001b[0mapply\u001b[0m\u001b[0;34m(\u001b[0m\u001b[0;32mlambda\u001b[0m \u001b[0mrow\u001b[0m\u001b[0;34m:\u001b[0m \u001b[0mrow\u001b[0m\u001b[0;34m.\u001b[0m\u001b[0mstr\u001b[0m\u001b[0;34m.\u001b[0m\u001b[0mlower\u001b[0m\u001b[0;34m(\u001b[0m\u001b[0;34m)\u001b[0m\u001b[0;34m)\u001b[0m\u001b[0;34m\u001b[0m\u001b[0;34m\u001b[0m\u001b[0m\n\u001b[0m",
            "\u001b[0;32m/usr/local/lib/python3.6/dist-packages/pandas/core/series.py\u001b[0m in \u001b[0;36mapply\u001b[0;34m(self, func, convert_dtype, args, **kwds)\u001b[0m\n\u001b[1;32m   4043\u001b[0m             \u001b[0;32melse\u001b[0m\u001b[0;34m:\u001b[0m\u001b[0;34m\u001b[0m\u001b[0;34m\u001b[0m\u001b[0m\n\u001b[1;32m   4044\u001b[0m                 \u001b[0mvalues\u001b[0m \u001b[0;34m=\u001b[0m \u001b[0mself\u001b[0m\u001b[0;34m.\u001b[0m\u001b[0mastype\u001b[0m\u001b[0;34m(\u001b[0m\u001b[0mobject\u001b[0m\u001b[0;34m)\u001b[0m\u001b[0;34m.\u001b[0m\u001b[0mvalues\u001b[0m\u001b[0;34m\u001b[0m\u001b[0;34m\u001b[0m\u001b[0m\n\u001b[0;32m-> 4045\u001b[0;31m                 \u001b[0mmapped\u001b[0m \u001b[0;34m=\u001b[0m \u001b[0mlib\u001b[0m\u001b[0;34m.\u001b[0m\u001b[0mmap_infer\u001b[0m\u001b[0;34m(\u001b[0m\u001b[0mvalues\u001b[0m\u001b[0;34m,\u001b[0m \u001b[0mf\u001b[0m\u001b[0;34m,\u001b[0m \u001b[0mconvert\u001b[0m\u001b[0;34m=\u001b[0m\u001b[0mconvert_dtype\u001b[0m\u001b[0;34m)\u001b[0m\u001b[0;34m\u001b[0m\u001b[0;34m\u001b[0m\u001b[0m\n\u001b[0m\u001b[1;32m   4046\u001b[0m \u001b[0;34m\u001b[0m\u001b[0m\n\u001b[1;32m   4047\u001b[0m         \u001b[0;32mif\u001b[0m \u001b[0mlen\u001b[0m\u001b[0;34m(\u001b[0m\u001b[0mmapped\u001b[0m\u001b[0;34m)\u001b[0m \u001b[0;32mand\u001b[0m \u001b[0misinstance\u001b[0m\u001b[0;34m(\u001b[0m\u001b[0mmapped\u001b[0m\u001b[0;34m[\u001b[0m\u001b[0;36m0\u001b[0m\u001b[0;34m]\u001b[0m\u001b[0;34m,\u001b[0m \u001b[0mSeries\u001b[0m\u001b[0;34m)\u001b[0m\u001b[0;34m:\u001b[0m\u001b[0;34m\u001b[0m\u001b[0;34m\u001b[0m\u001b[0m\n",
            "\u001b[0;32mpandas/_libs/lib.pyx\u001b[0m in \u001b[0;36mpandas._libs.lib.map_infer\u001b[0;34m()\u001b[0m\n",
            "\u001b[0;32m<ipython-input-143-b9d03457e286>\u001b[0m in \u001b[0;36m<lambda>\u001b[0;34m(row)\u001b[0m\n\u001b[1;32m      1\u001b[0m \u001b[0;32mfor\u001b[0m \u001b[0mcol\u001b[0m \u001b[0;32min\u001b[0m \u001b[0mdf_new\u001b[0m\u001b[0;34m.\u001b[0m\u001b[0mcolumns\u001b[0m\u001b[0;34m:\u001b[0m\u001b[0;34m\u001b[0m\u001b[0;34m\u001b[0m\u001b[0m\n\u001b[0;32m----> 2\u001b[0;31m   \u001b[0mdf_new\u001b[0m\u001b[0;34m[\u001b[0m\u001b[0mcol\u001b[0m\u001b[0;34m]\u001b[0m\u001b[0;34m.\u001b[0m\u001b[0mapply\u001b[0m\u001b[0;34m(\u001b[0m\u001b[0;32mlambda\u001b[0m \u001b[0mrow\u001b[0m\u001b[0;34m:\u001b[0m \u001b[0mrow\u001b[0m\u001b[0;34m.\u001b[0m\u001b[0mstr\u001b[0m\u001b[0;34m.\u001b[0m\u001b[0mlower\u001b[0m\u001b[0;34m(\u001b[0m\u001b[0;34m)\u001b[0m\u001b[0;34m)\u001b[0m\u001b[0;34m\u001b[0m\u001b[0;34m\u001b[0m\u001b[0m\n\u001b[0m",
            "\u001b[0;31mAttributeError\u001b[0m: 'str' object has no attribute 'str'"
          ]
        }
      ]
    },
    {
      "cell_type": "code",
      "metadata": {
        "id": "Oyh4LxUeePaK",
        "colab_type": "code",
        "colab": {}
      },
      "source": [
        "def check_Qcodes(x):\n",
        "  step1 = re.sub(\"Q[0-9]+\",\"UNKNOWN\",x)\n",
        "  return step1"
      ],
      "execution_count": 0,
      "outputs": []
    },
    {
      "cell_type": "code",
      "metadata": {
        "id": "wXZ3TSF5dNHu",
        "colab_type": "code",
        "colab": {
          "base_uri": "https://localhost:8080/",
          "height": 197
        },
        "outputId": "a04d8459-f191-41dd-a510-fd4d9c7d66f5"
      },
      "source": [
        "df_new['city'].apply(re.sub\"Q[0-9]+\",\"UNKNOWN\",)"
      ],
      "execution_count": 144,
      "outputs": [
        {
          "output_type": "execute_result",
          "data": {
            "text/html": [
              "<div>\n",
              "<style scoped>\n",
              "    .dataframe tbody tr th:only-of-type {\n",
              "        vertical-align: middle;\n",
              "    }\n",
              "\n",
              "    .dataframe tbody tr th {\n",
              "        vertical-align: top;\n",
              "    }\n",
              "\n",
              "    .dataframe thead th {\n",
              "        text-align: right;\n",
              "    }\n",
              "</style>\n",
              "<table border=\"1\" class=\"dataframe\">\n",
              "  <thead>\n",
              "    <tr style=\"text-align: right;\">\n",
              "      <th></th>\n",
              "      <th>city</th>\n",
              "      <th>admin_division</th>\n",
              "      <th>country</th>\n",
              "    </tr>\n",
              "  </thead>\n",
              "  <tbody>\n",
              "    <tr>\n",
              "      <th>10082</th>\n",
              "      <td>Kerkrade</td>\n",
              "      <td>Kerkrade</td>\n",
              "      <td>Netherlands</td>\n",
              "    </tr>\n",
              "    <tr>\n",
              "      <th>10083</th>\n",
              "      <td>Q28976219</td>\n",
              "      <td>None</td>\n",
              "      <td>Jordan</td>\n",
              "    </tr>\n",
              "    <tr>\n",
              "      <th>10084</th>\n",
              "      <td>Q28976366</td>\n",
              "      <td>None</td>\n",
              "      <td>Jordan</td>\n",
              "    </tr>\n",
              "    <tr>\n",
              "      <th>10085</th>\n",
              "      <td>Q29000726</td>\n",
              "      <td>None</td>\n",
              "      <td>Jordan</td>\n",
              "    </tr>\n",
              "    <tr>\n",
              "      <th>10086</th>\n",
              "      <td>Al-Mashariqah</td>\n",
              "      <td>None</td>\n",
              "      <td>Jordan</td>\n",
              "    </tr>\n",
              "  </tbody>\n",
              "</table>\n",
              "</div>"
            ],
            "text/plain": [
              "                city admin_division      country\n",
              "10082       Kerkrade       Kerkrade  Netherlands\n",
              "10083      Q28976219           None       Jordan\n",
              "10084      Q28976366           None       Jordan\n",
              "10085      Q29000726           None       Jordan\n",
              "10086  Al-Mashariqah           None       Jordan"
            ]
          },
          "metadata": {
            "tags": []
          },
          "execution_count": 144
        }
      ]
    },
    {
      "cell_type": "code",
      "metadata": {
        "id": "t4zucT0jdonZ",
        "colab_type": "code",
        "colab": {
          "base_uri": "https://localhost:8080/",
          "height": 121
        },
        "outputId": "ddcf5667-f697-4954-8cb0-e6dae772de77"
      },
      "source": [
        "df_new['city_check'] = df_new['city'].apply(lambda x: check_Qcodes(x))"
      ],
      "execution_count": 159,
      "outputs": [
        {
          "output_type": "stream",
          "text": [
            "/usr/local/lib/python3.6/dist-packages/ipykernel_launcher.py:1: SettingWithCopyWarning: \n",
            "A value is trying to be set on a copy of a slice from a DataFrame.\n",
            "Try using .loc[row_indexer,col_indexer] = value instead\n",
            "\n",
            "See the caveats in the documentation: http://pandas.pydata.org/pandas-docs/stable/user_guide/indexing.html#returning-a-view-versus-a-copy\n",
            "  \"\"\"Entry point for launching an IPython kernel.\n"
          ],
          "name": "stderr"
        }
      ]
    },
    {
      "cell_type": "code",
      "metadata": {
        "id": "pnuUXAvEepF8",
        "colab_type": "code",
        "colab": {
          "base_uri": "https://localhost:8080/",
          "height": 104
        },
        "outputId": "b35fb309-1185-4730-d8bf-050ce3b0ac08"
      },
      "source": [
        "df_new.drop(labels='city_check',inplace=True)"
      ],
      "execution_count": 157,
      "outputs": [
        {
          "output_type": "stream",
          "text": [
            "/usr/local/lib/python3.6/dist-packages/pandas/core/frame.py:4117: SettingWithCopyWarning: \n",
            "A value is trying to be set on a copy of a slice from a DataFrame\n",
            "\n",
            "See the caveats in the documentation: http://pandas.pydata.org/pandas-docs/stable/user_guide/indexing.html#returning-a-view-versus-a-copy\n",
            "  errors=errors,\n"
          ],
          "name": "stderr"
        }
      ]
    },
    {
      "cell_type": "code",
      "metadata": {
        "id": "XeEljZVXesvw",
        "colab_type": "code",
        "colab": {
          "base_uri": "https://localhost:8080/",
          "height": 197
        },
        "outputId": "3925a3a4-b8cf-4362-9631-88941dc4927a"
      },
      "source": [
        "df_new.tail()"
      ],
      "execution_count": 160,
      "outputs": [
        {
          "output_type": "execute_result",
          "data": {
            "text/html": [
              "<div>\n",
              "<style scoped>\n",
              "    .dataframe tbody tr th:only-of-type {\n",
              "        vertical-align: middle;\n",
              "    }\n",
              "\n",
              "    .dataframe tbody tr th {\n",
              "        vertical-align: top;\n",
              "    }\n",
              "\n",
              "    .dataframe thead th {\n",
              "        text-align: right;\n",
              "    }\n",
              "</style>\n",
              "<table border=\"1\" class=\"dataframe\">\n",
              "  <thead>\n",
              "    <tr style=\"text-align: right;\">\n",
              "      <th></th>\n",
              "      <th>city</th>\n",
              "      <th>admin_division</th>\n",
              "      <th>country</th>\n",
              "      <th>city_check</th>\n",
              "    </tr>\n",
              "  </thead>\n",
              "  <tbody>\n",
              "    <tr>\n",
              "      <th>10082</th>\n",
              "      <td>Kerkrade</td>\n",
              "      <td>Kerkrade</td>\n",
              "      <td>Netherlands</td>\n",
              "      <td>Kerkrade</td>\n",
              "    </tr>\n",
              "    <tr>\n",
              "      <th>10083</th>\n",
              "      <td>Q28976219</td>\n",
              "      <td>None</td>\n",
              "      <td>Jordan</td>\n",
              "      <td>UNKNOWN</td>\n",
              "    </tr>\n",
              "    <tr>\n",
              "      <th>10084</th>\n",
              "      <td>Q28976366</td>\n",
              "      <td>None</td>\n",
              "      <td>Jordan</td>\n",
              "      <td>UNKNOWN</td>\n",
              "    </tr>\n",
              "    <tr>\n",
              "      <th>10085</th>\n",
              "      <td>Q29000726</td>\n",
              "      <td>None</td>\n",
              "      <td>Jordan</td>\n",
              "      <td>UNKNOWN</td>\n",
              "    </tr>\n",
              "    <tr>\n",
              "      <th>10086</th>\n",
              "      <td>Al-Mashariqah</td>\n",
              "      <td>None</td>\n",
              "      <td>Jordan</td>\n",
              "      <td>Al-Mashariqah</td>\n",
              "    </tr>\n",
              "  </tbody>\n",
              "</table>\n",
              "</div>"
            ],
            "text/plain": [
              "                city admin_division      country     city_check\n",
              "10082       Kerkrade       Kerkrade  Netherlands       Kerkrade\n",
              "10083      Q28976219           None       Jordan        UNKNOWN\n",
              "10084      Q28976366           None       Jordan        UNKNOWN\n",
              "10085      Q29000726           None       Jordan        UNKNOWN\n",
              "10086  Al-Mashariqah           None       Jordan  Al-Mashariqah"
            ]
          },
          "metadata": {
            "tags": []
          },
          "execution_count": 160
        }
      ]
    },
    {
      "cell_type": "code",
      "metadata": {
        "id": "c3UWLhI1fm29",
        "colab_type": "code",
        "colab": {
          "base_uri": "https://localhost:8080/",
          "height": 173
        },
        "outputId": "346e6bd9-d5f6-441f-b6f0-a61550f1fa76"
      },
      "source": [
        "df_new = df_new.query('city_check != \"UNKNOWN\"')\n",
        "df_new.info()"
      ],
      "execution_count": 163,
      "outputs": [
        {
          "output_type": "stream",
          "text": [
            "<class 'pandas.core.frame.DataFrame'>\n",
            "Index: 8778 entries, 0 to 10086\n",
            "Data columns (total 4 columns):\n",
            "city              8778 non-null object\n",
            "admin_division    8170 non-null object\n",
            "country           8694 non-null object\n",
            "city_check        8778 non-null object\n",
            "dtypes: object(4)\n",
            "memory usage: 342.9+ KB\n"
          ],
          "name": "stdout"
        }
      ]
    },
    {
      "cell_type": "code",
      "metadata": {
        "id": "DqEI1junf3uR",
        "colab_type": "code",
        "colab": {}
      },
      "source": [
        "df_new.drop(columns='city_check',inplace=True)"
      ],
      "execution_count": 0,
      "outputs": []
    },
    {
      "cell_type": "code",
      "metadata": {
        "id": "j4HNz5hagGYv",
        "colab_type": "code",
        "colab": {
          "base_uri": "https://localhost:8080/",
          "height": 197
        },
        "outputId": "8a48b7af-26dd-4f44-d036-eb899ce6f213"
      },
      "source": [
        "df_new.head()"
      ],
      "execution_count": 170,
      "outputs": [
        {
          "output_type": "execute_result",
          "data": {
            "text/html": [
              "<div>\n",
              "<style scoped>\n",
              "    .dataframe tbody tr th:only-of-type {\n",
              "        vertical-align: middle;\n",
              "    }\n",
              "\n",
              "    .dataframe tbody tr th {\n",
              "        vertical-align: top;\n",
              "    }\n",
              "\n",
              "    .dataframe thead th {\n",
              "        text-align: right;\n",
              "    }\n",
              "</style>\n",
              "<table border=\"1\" class=\"dataframe\">\n",
              "  <thead>\n",
              "    <tr style=\"text-align: right;\">\n",
              "      <th></th>\n",
              "      <th>city</th>\n",
              "      <th>admin_division</th>\n",
              "      <th>country</th>\n",
              "    </tr>\n",
              "  </thead>\n",
              "  <tbody>\n",
              "    <tr>\n",
              "      <th>0</th>\n",
              "      <td>catania</td>\n",
              "      <td>metropolitan city of catania</td>\n",
              "      <td>italy</td>\n",
              "    </tr>\n",
              "    <tr>\n",
              "      <th>1</th>\n",
              "      <td>caserta</td>\n",
              "      <td>province of caserta</td>\n",
              "      <td>italy</td>\n",
              "    </tr>\n",
              "    <tr>\n",
              "      <th>2</th>\n",
              "      <td>juba</td>\n",
              "      <td>central equatoria</td>\n",
              "      <td>south sudan</td>\n",
              "    </tr>\n",
              "    <tr>\n",
              "      <th>3</th>\n",
              "      <td>dar es salaam</td>\n",
              "      <td>dar es salaam region</td>\n",
              "      <td>tanzania</td>\n",
              "    </tr>\n",
              "    <tr>\n",
              "      <th>4</th>\n",
              "      <td>khartoum</td>\n",
              "      <td>khartoum</td>\n",
              "      <td>sudan</td>\n",
              "    </tr>\n",
              "  </tbody>\n",
              "</table>\n",
              "</div>"
            ],
            "text/plain": [
              "            city                admin_division      country\n",
              "0        catania  metropolitan city of catania        italy\n",
              "1        caserta           province of caserta        italy\n",
              "2           juba             central equatoria  south sudan\n",
              "3  dar es salaam          dar es salaam region     tanzania\n",
              "4       khartoum                      khartoum        sudan"
            ]
          },
          "metadata": {
            "tags": []
          },
          "execution_count": 170
        }
      ]
    },
    {
      "cell_type": "code",
      "metadata": {
        "id": "5hEep4ILgPQv",
        "colab_type": "code",
        "colab": {}
      },
      "source": [
        "df_new['city'] = df_new['city'].str.lower()\n",
        "df_new['admin_division'] = df_new['admin_division'].str.lower()\n",
        "df_new['country'] = df_new['country'].str.lower()"
      ],
      "execution_count": 0,
      "outputs": []
    },
    {
      "cell_type": "code",
      "metadata": {
        "id": "2PcQXeepgYKH",
        "colab_type": "code",
        "colab": {
          "base_uri": "https://localhost:8080/",
          "height": 406
        },
        "outputId": "2860fdf5-5b2e-48b8-9535-f96687fc59c8"
      },
      "source": [
        "df_new.query('country == \"india\"')"
      ],
      "execution_count": 172,
      "outputs": [
        {
          "output_type": "execute_result",
          "data": {
            "text/html": [
              "<div>\n",
              "<style scoped>\n",
              "    .dataframe tbody tr th:only-of-type {\n",
              "        vertical-align: middle;\n",
              "    }\n",
              "\n",
              "    .dataframe tbody tr th {\n",
              "        vertical-align: top;\n",
              "    }\n",
              "\n",
              "    .dataframe thead th {\n",
              "        text-align: right;\n",
              "    }\n",
              "</style>\n",
              "<table border=\"1\" class=\"dataframe\">\n",
              "  <thead>\n",
              "    <tr style=\"text-align: right;\">\n",
              "      <th></th>\n",
              "      <th>city</th>\n",
              "      <th>admin_division</th>\n",
              "      <th>country</th>\n",
              "    </tr>\n",
              "  </thead>\n",
              "  <tbody>\n",
              "    <tr>\n",
              "      <th>256</th>\n",
              "      <td>ahmedabad</td>\n",
              "      <td>gujarat</td>\n",
              "      <td>india</td>\n",
              "    </tr>\n",
              "    <tr>\n",
              "      <th>258</th>\n",
              "      <td>jamnagar</td>\n",
              "      <td>jamnagar taluka</td>\n",
              "      <td>india</td>\n",
              "    </tr>\n",
              "    <tr>\n",
              "      <th>260</th>\n",
              "      <td>mumbai</td>\n",
              "      <td>maharashtra</td>\n",
              "      <td>india</td>\n",
              "    </tr>\n",
              "    <tr>\n",
              "      <th>265</th>\n",
              "      <td>chennai</td>\n",
              "      <td>tamil nadu</td>\n",
              "      <td>india</td>\n",
              "    </tr>\n",
              "    <tr>\n",
              "      <th>267</th>\n",
              "      <td>bangalore</td>\n",
              "      <td>karnataka</td>\n",
              "      <td>india</td>\n",
              "    </tr>\n",
              "    <tr>\n",
              "      <th>...</th>\n",
              "      <td>...</td>\n",
              "      <td>...</td>\n",
              "      <td>...</td>\n",
              "    </tr>\n",
              "    <tr>\n",
              "      <th>9972</th>\n",
              "      <td>durgawati</td>\n",
              "      <td>patna</td>\n",
              "      <td>india</td>\n",
              "    </tr>\n",
              "    <tr>\n",
              "      <th>9977</th>\n",
              "      <td>agar, madhya pradesh</td>\n",
              "      <td>agar malwa district</td>\n",
              "      <td>india</td>\n",
              "    </tr>\n",
              "    <tr>\n",
              "      <th>9978</th>\n",
              "      <td>nangal rajawatan</td>\n",
              "      <td>dausa district</td>\n",
              "      <td>india</td>\n",
              "    </tr>\n",
              "    <tr>\n",
              "      <th>9982</th>\n",
              "      <td>bandol seoni</td>\n",
              "      <td>None</td>\n",
              "      <td>india</td>\n",
              "    </tr>\n",
              "    <tr>\n",
              "      <th>10068</th>\n",
              "      <td>malavli</td>\n",
              "      <td>None</td>\n",
              "      <td>india</td>\n",
              "    </tr>\n",
              "  </tbody>\n",
              "</table>\n",
              "<p>351 rows × 3 columns</p>\n",
              "</div>"
            ],
            "text/plain": [
              "                       city       admin_division country\n",
              "256               ahmedabad              gujarat   india\n",
              "258                jamnagar      jamnagar taluka   india\n",
              "260                  mumbai          maharashtra   india\n",
              "265                 chennai           tamil nadu   india\n",
              "267               bangalore            karnataka   india\n",
              "...                     ...                  ...     ...\n",
              "9972              durgawati                patna   india\n",
              "9977   agar, madhya pradesh  agar malwa district   india\n",
              "9978       nangal rajawatan       dausa district   india\n",
              "9982           bandol seoni                 None   india\n",
              "10068               malavli                 None   india\n",
              "\n",
              "[351 rows x 3 columns]"
            ]
          },
          "metadata": {
            "tags": []
          },
          "execution_count": 172
        }
      ]
    },
    {
      "cell_type": "code",
      "metadata": {
        "id": "m-5B7yqfgpdn",
        "colab_type": "code",
        "colab": {}
      },
      "source": [
        "check_admin = df_new[df_new['admin_division'].isna()].reset_index(drop=True)"
      ],
      "execution_count": 0,
      "outputs": []
    },
    {
      "cell_type": "code",
      "metadata": {
        "id": "1SycojFci3lr",
        "colab_type": "code",
        "colab": {
          "base_uri": "https://localhost:8080/",
          "height": 406
        },
        "outputId": "0939c34a-14a3-4377-f28e-ea8eb2df3099"
      },
      "source": [
        "df_new[df_new['admin_division'].notna()].reset_index(drop=True).groupby(['city'],as_index=False)['country'].count().sort_values(['country'],ascending=False)\\\n"
      ],
      "execution_count": 191,
      "outputs": [
        {
          "output_type": "execute_result",
          "data": {
            "text/html": [
              "<div>\n",
              "<style scoped>\n",
              "    .dataframe tbody tr th:only-of-type {\n",
              "        vertical-align: middle;\n",
              "    }\n",
              "\n",
              "    .dataframe tbody tr th {\n",
              "        vertical-align: top;\n",
              "    }\n",
              "\n",
              "    .dataframe thead th {\n",
              "        text-align: right;\n",
              "    }\n",
              "</style>\n",
              "<table border=\"1\" class=\"dataframe\">\n",
              "  <thead>\n",
              "    <tr style=\"text-align: right;\">\n",
              "      <th></th>\n",
              "      <th>city</th>\n",
              "      <th>country</th>\n",
              "    </tr>\n",
              "  </thead>\n",
              "  <tbody>\n",
              "    <tr>\n",
              "      <th>1997</th>\n",
              "      <td>fort-de-france</td>\n",
              "      <td>11</td>\n",
              "    </tr>\n",
              "    <tr>\n",
              "      <th>5235</th>\n",
              "      <td>roubaix</td>\n",
              "      <td>9</td>\n",
              "    </tr>\n",
              "    <tr>\n",
              "      <th>4656</th>\n",
              "      <td>pau</td>\n",
              "      <td>8</td>\n",
              "    </tr>\n",
              "    <tr>\n",
              "      <th>458</th>\n",
              "      <td>avignon</td>\n",
              "      <td>8</td>\n",
              "    </tr>\n",
              "    <tr>\n",
              "      <th>1748</th>\n",
              "      <td>dunkirk</td>\n",
              "      <td>8</td>\n",
              "    </tr>\n",
              "    <tr>\n",
              "      <th>...</th>\n",
              "      <td>...</td>\n",
              "      <td>...</td>\n",
              "    </tr>\n",
              "    <tr>\n",
              "      <th>4864</th>\n",
              "      <td>portland</td>\n",
              "      <td>4</td>\n",
              "    </tr>\n",
              "    <tr>\n",
              "      <th>6667</th>\n",
              "      <td>warrnambool</td>\n",
              "      <td>4</td>\n",
              "    </tr>\n",
              "    <tr>\n",
              "      <th>6658</th>\n",
              "      <td>wangaratta</td>\n",
              "      <td>4</td>\n",
              "    </tr>\n",
              "    <tr>\n",
              "      <th>3750</th>\n",
              "      <td>martakert</td>\n",
              "      <td>4</td>\n",
              "    </tr>\n",
              "    <tr>\n",
              "      <th>1740</th>\n",
              "      <td>dubăsari</td>\n",
              "      <td>4</td>\n",
              "    </tr>\n",
              "  </tbody>\n",
              "</table>\n",
              "<p>100 rows × 2 columns</p>\n",
              "</div>"
            ],
            "text/plain": [
              "                city  country\n",
              "1997  fort-de-france       11\n",
              "5235         roubaix        9\n",
              "4656             pau        8\n",
              "458          avignon        8\n",
              "1748         dunkirk        8\n",
              "...              ...      ...\n",
              "4864        portland        4\n",
              "6667     warrnambool        4\n",
              "6658      wangaratta        4\n",
              "3750       martakert        4\n",
              "1740        dubăsari        4\n",
              "\n",
              "[100 rows x 2 columns]"
            ]
          },
          "metadata": {
            "tags": []
          },
          "execution_count": 191
        }
      ]
    },
    {
      "cell_type": "code",
      "metadata": {
        "id": "lJW6eDkejSR8",
        "colab_type": "code",
        "colab": {
          "base_uri": "https://localhost:8080/",
          "height": 287
        },
        "outputId": "43642d19-3634-44ee-adf2-cb30fe6dde6d"
      },
      "source": [
        "df_new[df_new['admin_division'].notna()].reset_index(drop=True).query('city == \"dunkirk\"')"
      ],
      "execution_count": 195,
      "outputs": [
        {
          "output_type": "execute_result",
          "data": {
            "text/html": [
              "<div>\n",
              "<style scoped>\n",
              "    .dataframe tbody tr th:only-of-type {\n",
              "        vertical-align: middle;\n",
              "    }\n",
              "\n",
              "    .dataframe tbody tr th {\n",
              "        vertical-align: top;\n",
              "    }\n",
              "\n",
              "    .dataframe thead th {\n",
              "        text-align: right;\n",
              "    }\n",
              "</style>\n",
              "<table border=\"1\" class=\"dataframe\">\n",
              "  <thead>\n",
              "    <tr style=\"text-align: right;\">\n",
              "      <th></th>\n",
              "      <th>city</th>\n",
              "      <th>admin_division</th>\n",
              "      <th>country</th>\n",
              "    </tr>\n",
              "  </thead>\n",
              "  <tbody>\n",
              "    <tr>\n",
              "      <th>1677</th>\n",
              "      <td>dunkirk</td>\n",
              "      <td>nord</td>\n",
              "      <td>france</td>\n",
              "    </tr>\n",
              "    <tr>\n",
              "      <th>1678</th>\n",
              "      <td>dunkirk</td>\n",
              "      <td>canton of dunkerque-ouest</td>\n",
              "      <td>france</td>\n",
              "    </tr>\n",
              "    <tr>\n",
              "      <th>1679</th>\n",
              "      <td>dunkirk</td>\n",
              "      <td>canton of dunkerque-est</td>\n",
              "      <td>france</td>\n",
              "    </tr>\n",
              "    <tr>\n",
              "      <th>1680</th>\n",
              "      <td>dunkirk</td>\n",
              "      <td>arrondissement of dunkirk</td>\n",
              "      <td>france</td>\n",
              "    </tr>\n",
              "    <tr>\n",
              "      <th>1681</th>\n",
              "      <td>dunkirk</td>\n",
              "      <td>canton of grande-synthe</td>\n",
              "      <td>france</td>\n",
              "    </tr>\n",
              "    <tr>\n",
              "      <th>1682</th>\n",
              "      <td>dunkirk</td>\n",
              "      <td>canton of coudekerque-branche</td>\n",
              "      <td>france</td>\n",
              "    </tr>\n",
              "    <tr>\n",
              "      <th>1683</th>\n",
              "      <td>dunkirk</td>\n",
              "      <td>communauté urbaine de dunkerque</td>\n",
              "      <td>france</td>\n",
              "    </tr>\n",
              "    <tr>\n",
              "      <th>7531</th>\n",
              "      <td>dunkirk</td>\n",
              "      <td>matabeleland north province</td>\n",
              "      <td>zimbabwe</td>\n",
              "    </tr>\n",
              "  </tbody>\n",
              "</table>\n",
              "</div>"
            ],
            "text/plain": [
              "         city                   admin_division   country\n",
              "1677  dunkirk                             nord    france\n",
              "1678  dunkirk        canton of dunkerque-ouest    france\n",
              "1679  dunkirk          canton of dunkerque-est    france\n",
              "1680  dunkirk        arrondissement of dunkirk    france\n",
              "1681  dunkirk          canton of grande-synthe    france\n",
              "1682  dunkirk    canton of coudekerque-branche    france\n",
              "1683  dunkirk  communauté urbaine de dunkerque    france\n",
              "7531  dunkirk      matabeleland north province  zimbabwe"
            ]
          },
          "metadata": {
            "tags": []
          },
          "execution_count": 195
        }
      ]
    },
    {
      "cell_type": "code",
      "metadata": {
        "id": "jPYeaXwSg-5j",
        "colab_type": "code",
        "colab": {
          "base_uri": "https://localhost:8080/",
          "height": 156
        },
        "outputId": "d97271a6-b993-4940-904c-b05316c8dacc"
      },
      "source": [
        "df_new.info()"
      ],
      "execution_count": 180,
      "outputs": [
        {
          "output_type": "stream",
          "text": [
            "<class 'pandas.core.frame.DataFrame'>\n",
            "Index: 8778 entries, 0 to 10086\n",
            "Data columns (total 3 columns):\n",
            "city              8778 non-null object\n",
            "admin_division    8170 non-null object\n",
            "country           8694 non-null object\n",
            "dtypes: object(3)\n",
            "memory usage: 594.3+ KB\n"
          ],
          "name": "stdout"
        }
      ]
    },
    {
      "cell_type": "code",
      "metadata": {
        "id": "J6Rskt-5hWe8",
        "colab_type": "code",
        "colab": {
          "base_uri": "https://localhost:8080/",
          "height": 225
        },
        "outputId": "2f4534a8-ddff-4466-bb0c-e95f67bb1b40"
      },
      "source": [
        "df_new['admin_division'].value_counts()"
      ],
      "execution_count": 181,
      "outputs": [
        {
          "output_type": "execute_result",
          "data": {
            "text/plain": [
              "são paulo                614\n",
              "new south wales           23\n",
              "victoria                  22\n",
              "silesian voivodeship      18\n",
              "minas gerais              16\n",
              "                        ... \n",
              "urcos district             1\n",
              "cazin municipality         1\n",
              "yamuna nagar district      1\n",
              "orkdal                     1\n",
              "cimișlia district          1\n",
              "Name: admin_division, Length: 5439, dtype: int64"
            ]
          },
          "metadata": {
            "tags": []
          },
          "execution_count": 181
        }
      ]
    },
    {
      "cell_type": "code",
      "metadata": {
        "id": "4454MdUciOUs",
        "colab_type": "code",
        "colab": {}
      },
      "source": [
        ""
      ],
      "execution_count": 0,
      "outputs": []
    }
  ]
}