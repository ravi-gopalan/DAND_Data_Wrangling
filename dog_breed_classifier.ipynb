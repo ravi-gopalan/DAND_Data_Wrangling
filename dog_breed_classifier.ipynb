{
  "nbformat": 4,
  "nbformat_minor": 0,
  "metadata": {
    "colab": {
      "name": "dog_breed_classifier.ipynb",
      "version": "0.3.2",
      "provenance": [],
      "collapsed_sections": [],
      "toc_visible": true,
      "machine_shape": "hm",
      "include_colab_link": true
    },
    "kernelspec": {
      "name": "python3",
      "display_name": "Python 3"
    },
    "accelerator": "GPU"
  },
  "cells": [
    {
      "cell_type": "markdown",
      "metadata": {
        "id": "view-in-github",
        "colab_type": "text"
      },
      "source": [
        "<a href=\"https://colab.research.google.com/github/ravi-gopalan/DAND_Data_Wrangling/blob/master/dog_breed_classifier.ipynb\" target=\"_parent\"><img src=\"https://colab.research.google.com/assets/colab-badge.svg\" alt=\"Open In Colab\"/></a>"
      ]
    },
    {
      "cell_type": "code",
      "metadata": {
        "id": "mgWi4nU2-iD3",
        "colab_type": "code",
        "colab": {}
      },
      "source": [
        "import timeit\n"
      ],
      "execution_count": 0,
      "outputs": []
    },
    {
      "cell_type": "code",
      "metadata": {
        "id": "I9TdMfcA-thW",
        "colab_type": "code",
        "colab": {}
      },
      "source": [
        "start_time = timeit.default_timer()"
      ],
      "execution_count": 0,
      "outputs": []
    },
    {
      "cell_type": "markdown",
      "metadata": {
        "id": "Y9btdwbq3jLw",
        "colab_type": "text"
      },
      "source": [
        "# Get Files"
      ]
    },
    {
      "cell_type": "code",
      "metadata": {
        "id": "IXGsORvM3SXb",
        "colab_type": "code",
        "colab": {
          "base_uri": "https://localhost:8080/",
          "height": 225
        },
        "outputId": "1f7197f1-f8f6-4250-ac4f-f89efd1a1335"
      },
      "source": [
        "# Clone the entire repo.\n",
        "\n",
        "!git clone -l -s git://github.com/ravi-gopalan/dog_breed_classifier_udacity.git cloned-repository\n",
        "%cd cloned-repository\n",
        "!ls"
      ],
      "execution_count": 3,
      "outputs": [
        {
          "output_type": "stream",
          "text": [
            "Cloning into 'cloned-repository'...\n",
            "warning: --local is ignored\n",
            "remote: Enumerating objects: 27753, done.\u001b[K\n",
            "remote: Counting objects: 100% (27753/27753), done.\u001b[K\n",
            "remote: Compressing objects: 100% (25998/25998), done.\u001b[K\n",
            "remote: Total 27753 (delta 18), reused 27733 (delta 9), pack-reused 0\u001b[K\n",
            "Receiving objects: 100% (27753/27753), 1.22 GiB | 56.26 MiB/s, done.\n",
            "Resolving deltas: 100% (18/18), done.\n",
            "Checking out files: 100% (21589/21589), done.\n",
            "/content/cloned-repository\n",
            "dog_breed_classifier.ipynb\thaarcascades  lfw\n",
            "extract_bottleneck_features.py\timages\t      README.md\n"
          ],
          "name": "stdout"
        }
      ]
    },
    {
      "cell_type": "code",
      "metadata": {
        "id": "ENEV7mHpBkQm",
        "colab_type": "code",
        "colab": {
          "base_uri": "https://localhost:8080/",
          "height": 124
        },
        "outputId": "46963d11-2819-4659-b942-01092b10132b"
      },
      "source": [
        "from google.colab import drive\n",
        "drive.mount('/gdrive')"
      ],
      "execution_count": 4,
      "outputs": [
        {
          "output_type": "stream",
          "text": [
            "Go to this URL in a browser: https://accounts.google.com/o/oauth2/auth?client_id=947318989803-6bn6qk8qdgf4n4g3pfee6491hc0brc4i.apps.googleusercontent.com&redirect_uri=urn%3Aietf%3Awg%3Aoauth%3A2.0%3Aoob&scope=email%20https%3A%2F%2Fwww.googleapis.com%2Fauth%2Fdocs.test%20https%3A%2F%2Fwww.googleapis.com%2Fauth%2Fdrive%20https%3A%2F%2Fwww.googleapis.com%2Fauth%2Fdrive.photos.readonly%20https%3A%2F%2Fwww.googleapis.com%2Fauth%2Fpeopleapi.readonly&response_type=code\n",
            "\n",
            "Enter your authorization code:\n",
            "··········\n",
            "Mounted at /gdrive\n"
          ],
          "name": "stdout"
        }
      ]
    },
    {
      "cell_type": "code",
      "metadata": {
        "id": "PG5aPUKfDCrg",
        "colab_type": "code",
        "colab": {
          "base_uri": "https://localhost:8080/",
          "height": 34
        },
        "outputId": "6fca63ea-56ad-4299-8a57-3291b4b12a47"
      },
      "source": [
        "pwd"
      ],
      "execution_count": 5,
      "outputs": [
        {
          "output_type": "execute_result",
          "data": {
            "text/plain": [
              "'/content/cloned-repository'"
            ]
          },
          "metadata": {
            "tags": []
          },
          "execution_count": 5
        }
      ]
    },
    {
      "cell_type": "code",
      "metadata": {
        "id": "C7Ozzoci5b9x",
        "colab_type": "code",
        "colab": {}
      },
      "source": [
        "from IPython.core.interactiveshell import InteractiveShell\n",
        "InteractiveShell.ast_node_interactivity = \"all\""
      ],
      "execution_count": 0,
      "outputs": []
    },
    {
      "cell_type": "markdown",
      "metadata": {
        "id": "vW7qzoSg6J4t",
        "colab_type": "text"
      },
      "source": [
        "### The Road Ahead\n",
        "\n",
        "We break the notebook into separate steps.  Feel free to use the links below to navigate the notebook.\n",
        "\n",
        "* [Step 0](#step0): Import Datasets\n",
        "* [Step 1](#step1): Detect Humans\n",
        "* [Step 2](#step2): Detect Dogs\n",
        "* [Step 3](#step3): Create a CNN to Classify Dog Breeds (from Scratch)\n",
        "* [Step 4](#step4): Use a CNN to Classify Dog Breeds (using Transfer Learning)\n",
        "* [Step 5](#step5): Create a CNN to Classify Dog Breeds (using Transfer Learning)\n",
        "* [Step 6](#step6): Write your Algorithm\n",
        "* [Step 7](#step7): Test Your Algorithm\n",
        "\n",
        "---\n",
        "<a id='step0'></a>\n",
        "## Step 0: Import Datasets\n",
        "\n",
        "### Import Dog Dataset\n",
        "\n",
        "In the code cell below, we import a dataset of dog images.  We populate a few variables through the use of the `load_files` function from the scikit-learn library:\n",
        "- `train_files`, `valid_files`, `test_files` - numpy arrays containing file paths to images\n",
        "- `train_targets`, `valid_targets`, `test_targets` - numpy arrays containing onehot-encoded classification labels \n",
        "- `dog_names` - list of string-valued dog breed names for translating labels"
      ]
    },
    {
      "cell_type": "markdown",
      "metadata": {
        "id": "Wow-UOLY5ddL",
        "colab_type": "text"
      },
      "source": [
        "# Import Files"
      ]
    },
    {
      "cell_type": "code",
      "metadata": {
        "id": "RT6y7tKT_8qP",
        "colab_type": "code",
        "colab": {}
      },
      "source": [
        "import os"
      ],
      "execution_count": 0,
      "outputs": []
    },
    {
      "cell_type": "code",
      "metadata": {
        "id": "nQYhSOk8AAo3",
        "colab_type": "code",
        "colab": {
          "base_uri": "https://localhost:8080/",
          "height": 34
        },
        "outputId": "a14070a5-01a5-4634-d1c4-a2198ebf6f68"
      },
      "source": [
        "os.getcwd()"
      ],
      "execution_count": 8,
      "outputs": [
        {
          "output_type": "execute_result",
          "data": {
            "text/plain": [
              "'/content/cloned-repository'"
            ]
          },
          "metadata": {
            "tags": []
          },
          "execution_count": 8
        }
      ]
    },
    {
      "cell_type": "code",
      "metadata": {
        "id": "nEnTwCxk6Hza",
        "colab_type": "code",
        "colab": {
          "base_uri": "https://localhost:8080/",
          "height": 34
        },
        "outputId": "1eb095f9-2d79-4987-ee27-7ced1045c725"
      },
      "source": [
        "from sklearn.datasets import load_files       \n",
        "from keras.utils import np_utils\n",
        "import numpy as np\n",
        "from glob import glob\n",
        "\n",
        "# define function to load train, test, and validation datasets\n",
        "def load_dataset(path):\n",
        "    data = load_files(path)\n",
        "    dog_files = np.array(data['filenames'])\n",
        "    dog_targets = np_utils.to_categorical(np.array(data['target']), 133)\n",
        "    return dog_files, dog_targets\n",
        "\n"
      ],
      "execution_count": 9,
      "outputs": [
        {
          "output_type": "stream",
          "text": [
            "Using TensorFlow backend.\n"
          ],
          "name": "stderr"
        }
      ]
    },
    {
      "cell_type": "code",
      "metadata": {
        "id": "Um0Cw6PoAp9m",
        "colab_type": "code",
        "colab": {}
      },
      "source": [
        "basedir = os.getcwd()\n",
        "\n",
        "train_dir = os.path.join(basedir,'images/train')\n",
        "valid_dir = os.path.join(basedir,'images/valid')\n",
        "test_dir = os.path.join(basedir,'images/test')\n",
        "\n"
      ],
      "execution_count": 0,
      "outputs": []
    },
    {
      "cell_type": "code",
      "metadata": {
        "id": "gC2Va83I5h9m",
        "colab_type": "code",
        "colab": {}
      },
      "source": [
        "# load train, test, and validation datasets\n",
        "train_files, train_targets = load_dataset(train_dir)\n",
        "valid_files, valid_targets = load_dataset(valid_dir)\n",
        "test_files, test_targets = load_dataset(test_dir)\n",
        "\n"
      ],
      "execution_count": 0,
      "outputs": []
    },
    {
      "cell_type": "code",
      "metadata": {
        "id": "0DAuvWaqOyZM",
        "colab_type": "code",
        "colab": {}
      },
      "source": [
        "bottleneck_features_dir = '/gdrive/My Drive/Colab_stuff/dog_classifier_models'"
      ],
      "execution_count": 0,
      "outputs": []
    },
    {
      "cell_type": "code",
      "metadata": {
        "id": "ax3hf9gJAWZS",
        "colab_type": "code",
        "colab": {}
      },
      "source": [
        ""
      ],
      "execution_count": 0,
      "outputs": []
    },
    {
      "cell_type": "code",
      "metadata": {
        "id": "5S7-QU9l5h6d",
        "colab_type": "code",
        "colab": {
          "base_uri": "https://localhost:8080/",
          "height": 121
        },
        "outputId": "a2c817de-088b-4459-d7a5-38057671325f"
      },
      "source": [
        "# load list of dog names\n",
        "dog_names = [item[20:-1] for item in sorted(glob(\"images/train/*/\"))]\n",
        "\n",
        "# print statistics about the dataset\n",
        "print('There are %d total dog categories.' % len(dog_names))\n",
        "print('There are %s total dog images.\\n' % len(np.hstack([train_files, valid_files, test_files])))\n",
        "print('There are %d training dog images.' % len(train_files))\n",
        "print('There are %d validation dog images.' % len(valid_files))\n",
        "print('There are %d test dog images.'% len(test_files))"
      ],
      "execution_count": 13,
      "outputs": [
        {
          "output_type": "stream",
          "text": [
            "There are 133 total dog categories.\n",
            "There are 8351 total dog images.\n",
            "\n",
            "There are 6680 training dog images.\n",
            "There are 835 validation dog images.\n",
            "There are 836 test dog images.\n"
          ],
          "name": "stdout"
        }
      ]
    },
    {
      "cell_type": "code",
      "metadata": {
        "id": "IX_jthmCmfjB",
        "colab_type": "code",
        "colab": {
          "base_uri": "https://localhost:8080/",
          "height": 34
        },
        "outputId": "a31a88f5-296e-4100-b551-da9a03dcf057"
      },
      "source": [
        "import random\n",
        "random.seed(8675309)\n",
        "\n",
        "human_dir = os.path.join(basedir,'lfw/*/*')\n",
        "# load filenames in shuffled human dataset\n",
        "human_files = np.array(glob(human_dir))\n",
        "random.shuffle(human_files)\n",
        "\n",
        "# print statistics about the dataset\n",
        "print('There are %d total human images.' % len(human_files))"
      ],
      "execution_count": 14,
      "outputs": [
        {
          "output_type": "stream",
          "text": [
            "There are 13233 total human images.\n"
          ],
          "name": "stdout"
        }
      ]
    },
    {
      "cell_type": "markdown",
      "metadata": {
        "id": "Sza3aUiun9kO",
        "colab_type": "text"
      },
      "source": [
        "Step 1: Detect Humans\n",
        "We use OpenCV's implementation of Haar feature-based cascade classifiers to detect human faces in images. OpenCV provides many pre-trained face detectors, stored as XML files on github. We have downloaded one of these detectors and stored it in the haarcascades directory.\n",
        "\n",
        "In the next code cell, we demonstrate how to use this detector to find human faces in a sample image."
      ]
    },
    {
      "cell_type": "code",
      "metadata": {
        "id": "F2aKTENdni9n",
        "colab_type": "code",
        "colab": {
          "base_uri": "https://localhost:8080/",
          "height": 1000
        },
        "outputId": "79f3719b-fdaf-42a9-bc36-4ec5077a08c6"
      },
      "source": [
        "import cv2                \n",
        "import matplotlib.pyplot as plt                        \n",
        "%matplotlib inline                               \n",
        "\n",
        "# extract pre-trained face detector\n",
        "face_cascade = cv2.CascadeClassifier('haarcascades/haarcascade_frontalface_alt.xml')\n",
        "\n",
        "# load color (BGR) image\n",
        "img = cv2.imread(human_files[3])\n",
        "# convert BGR image to grayscale\n",
        "gray = cv2.cvtColor(img, cv2.COLOR_BGR2GRAY)\n",
        "\n",
        "# find faces in image\n",
        "faces = face_cascade.detectMultiScale(gray)\n",
        "\n",
        "# print number of faces detected in the image\n",
        "print('Number of faces detected:', len(faces))\n",
        "\n",
        "# get bounding box for each detected face\n",
        "for (x,y,w,h) in faces:\n",
        "    # add bounding box to color image\n",
        "    cv2.rectangle(img,(x,y),(x+w,y+h),(255,0,0),2)\n",
        "    \n",
        "# convert BGR image to RGB for plotting\n",
        "cv_rgb = cv2.cvtColor(img, cv2.COLOR_BGR2RGB)\n",
        "\n",
        "# display the image, along with bounding box\n",
        "plt.imshow(cv_rgb)\n",
        "plt.show()"
      ],
      "execution_count": 15,
      "outputs": [
        {
          "output_type": "stream",
          "text": [
            "Number of faces detected: 1\n"
          ],
          "name": "stdout"
        },
        {
          "output_type": "execute_result",
          "data": {
            "text/plain": [
              "array([[[  0,   0,   0],\n",
              "        [  0,   0,   0],\n",
              "        [  0,   0,   0],\n",
              "        ...,\n",
              "        [  0,   0,   0],\n",
              "        [  0,   0,   0],\n",
              "        [  0,   0,   0]],\n",
              "\n",
              "       [[  0,   0,   0],\n",
              "        [  0,   0,   0],\n",
              "        [  0,   0,   0],\n",
              "        ...,\n",
              "        [  0,   0,   0],\n",
              "        [  0,   0,   0],\n",
              "        [  0,   0,   0]],\n",
              "\n",
              "       [[  0,   0,   0],\n",
              "        [  0,   0,   0],\n",
              "        [  0,   0,   0],\n",
              "        ...,\n",
              "        [  0,   0,   0],\n",
              "        [  0,   0,   0],\n",
              "        [  0,   0,   0]],\n",
              "\n",
              "       ...,\n",
              "\n",
              "       [[  0,   0,   0],\n",
              "        [  0,   0,   0],\n",
              "        [  0,   0,   0],\n",
              "        ...,\n",
              "        [114,  80,  51],\n",
              "        [126,  80,  49],\n",
              "        [125,  76,  44]],\n",
              "\n",
              "       [[  0,   0,   0],\n",
              "        [  0,   0,   0],\n",
              "        [  0,   0,   0],\n",
              "        ...,\n",
              "        [107,  74,  48],\n",
              "        [121,  77,  48],\n",
              "        [124,  77,  46]],\n",
              "\n",
              "       [[  0,   0,   0],\n",
              "        [  0,   0,   0],\n",
              "        [  0,   0,   0],\n",
              "        ...,\n",
              "        [100,  69,  44],\n",
              "        [122,  79,  52],\n",
              "        [128,  80,  52]]], dtype=uint8)"
            ]
          },
          "metadata": {
            "tags": []
          },
          "execution_count": 15
        },
        {
          "output_type": "execute_result",
          "data": {
            "text/plain": [
              "<matplotlib.image.AxesImage at 0x7f57d716b940>"
            ]
          },
          "metadata": {
            "tags": []
          },
          "execution_count": 15
        },
        {
          "output_type": "display_data",
          "data": {
            "image/png": "[encoded data removed]",
            "text/plain": [
              "<Figure size 432x288 with 1 Axes>"
            ]
          },
          "metadata": {
            "tags": []
          }
        }
      ]
    },
    {
      "cell_type": "markdown",
      "metadata": {
        "id": "H-TXqmsHoszG",
        "colab_type": "text"
      },
      "source": [
        "Before using any of the face detectors, it is standard procedure to convert the images to grayscale. The detectMultiScale function executes the classifier stored in face_cascade and takes the grayscale image as a parameter.\n",
        "\n",
        "In the above code, faces is a numpy array of detected faces, where each row corresponds to a detected face. Each detected face is a 1D array with four entries that specifies the bounding box of the detected face. The first two entries in the array (extracted in the above code as x and y) specify the horizontal and vertical positions of the top left corner of the bounding box. The last two entries in the array (extracted here as w and h) specify the width and height of the box.\n",
        "\n",
        "Write a Human Face Detector\n",
        "We can use this procedure to write a function that returns True if a human face is detected in an image and False otherwise. This function, aptly named face_detector, takes a string-valued file path to an image as input and appears in the code block below."
      ]
    },
    {
      "cell_type": "code",
      "metadata": {
        "id": "Iq-4bFlRoLDM",
        "colab_type": "code",
        "colab": {}
      },
      "source": [
        "# returns \"True\" if face is detected in image stored at img_path\n",
        "def face_detector(img_path):\n",
        "    img = cv2.imread(img_path)\n",
        "    gray = cv2.cvtColor(img, cv2.COLOR_BGR2GRAY)\n",
        "    faces = face_cascade.detectMultiScale(gray)\n",
        "    return len(faces) > 0"
      ],
      "execution_count": 0,
      "outputs": []
    },
    {
      "cell_type": "markdown",
      "metadata": {
        "id": "KbNrvGRPo2Be",
        "colab_type": "text"
      },
      "source": [
        "IMPLEMENTATION) Assess the Human Face Detector\n",
        "Question 1: Use the code cell below to test the performance of the face_detector function.\n",
        "\n",
        "What percentage of the first 100 images in human_files have a detected human face?\n",
        "What percentage of the first 100 images in dog_files have a detected human face?\n",
        "Ideally, we would like 100% of human images with a detected face and 0% of dog images with a detected face. You will see that our algorithm falls short of this goal, but still gives acceptable performance. We extract the file paths for the first 100 images from each of the datasets and store them in the numpy arrays human_files_short and dog_files_short.\n",
        "\n",
        "Answer:\n",
        "\n",
        "Of the 100 human faces, all are detected as a human face\n",
        "11 of the 100 dog faces are also detected as human faces\n",
        "Object Detection using Haar feature-based cascade classifiers is an effective object detection method proposed by Paul Viola and Michael Jones in their paper, \"Rapid Object Detection using a Boosted Cascade of Simple Features\" in 2001.\n",
        "It is a machine learning based approach where a cascade function is trained from a lot of positive and negative images.\n",
        "It is then used to detect objects in other images.\n",
        "The algorithm uses the Haar frontal face to detect humans. So the expectation is that an image with the frontal features clearly defined is required"
      ]
    },
    {
      "cell_type": "code",
      "metadata": {
        "id": "L7xeO3y0orsb",
        "colab_type": "code",
        "colab": {
          "base_uri": "https://localhost:8080/",
          "height": 51
        },
        "outputId": "f3fe4468-e086-4377-8a85-5bedb2948ad9"
      },
      "source": [
        "human_files_short = human_files[:100]\n",
        "dog_files_short = train_files[:100]\n",
        "# Do NOT modify the code above this line.\n",
        "\n",
        "## TODO: Test the performance of the face_detector algorithm \n",
        "num_human_faces_human_files = 0\n",
        "num_human_faces_dog_files = 0\n",
        "for i in range(100):\n",
        "    num_human_faces_human_files += face_detector(human_files_short[i])\n",
        "    num_human_faces_dog_files += face_detector(dog_files_short[i])    \n",
        "    \n",
        "## on the images in human_files_short and dog_files_short.\n",
        "print('% of human faces detected in human files {:2.2%}\\n % of human faces detected in dog files {:2.2%}'\\\n",
        "      .format(num_human_faces_human_files/100, num_human_faces_dog_files/100))"
      ],
      "execution_count": 17,
      "outputs": [
        {
          "output_type": "stream",
          "text": [
            "% of human faces detected in human files 98.00%\n",
            " % of human faces detected in dog files 12.00%\n"
          ],
          "name": "stdout"
        }
      ]
    },
    {
      "cell_type": "markdown",
      "metadata": {
        "id": "D0-yO2-guP20",
        "colab_type": "text"
      },
      "source": [
        "**Question 2**: This algorithmic choice necessitates that we communicate to the user that we accept human images only when they provide a clear view of a face (otherwise, we risk having unneccessarily frustrated users!). In your opinion, is this a reasonable expectation to pose on the user? If not, can you think of a way to detect humans in images that does not necessitate an image with a clearly presented face?\n",
        "\n",
        "**Answer**:\n",
        "\n",
        "We suggest the face detector from OpenCV as a potential way to detect human images in your algorithm, but you are free to explore other approaches, especially approaches that make use of deep learning :). Please use the code cell below to design and test your own face detection algorithm. If you decide to pursue this optional task, report performance on each of the datasets."
      ]
    },
    {
      "cell_type": "markdown",
      "metadata": {
        "id": "Bj1RedGFuiS6",
        "colab_type": "text"
      },
      "source": [
        "**Step 2: Detect Dogs**\n",
        "In this section, we use a pre-trained ResNet-50 model to detect dogs in images. Our first line of code downloads the ResNet-50 model, along with weights that have been trained on ImageNet, a very large, very popular dataset used for image classification and other vision tasks. ImageNet contains over 10 million URLs, each linking to an image containing an object from one of 1000 categories. Given an image, this pre-trained ResNet-50 model returns a prediction (derived from the available categories in ImageNet) for the object that is contained in the image."
      ]
    },
    {
      "cell_type": "code",
      "metadata": {
        "id": "9nILAXeRpI0U",
        "colab_type": "code",
        "colab": {
          "base_uri": "https://localhost:8080/",
          "height": 315
        },
        "outputId": "a831bc29-4661-4f3e-d7bf-e1fe3d2edf61"
      },
      "source": [
        "from keras.applications.resnet50 import ResNet50\n",
        "\n",
        "# define ResNet50 model\n",
        "ResNet50_model = ResNet50(weights='imagenet')"
      ],
      "execution_count": 18,
      "outputs": [
        {
          "output_type": "stream",
          "text": [
            "WARNING:tensorflow:From /usr/local/lib/python3.6/dist-packages/keras/backend/tensorflow_backend.py:66: The name tf.get_default_graph is deprecated. Please use tf.compat.v1.get_default_graph instead.\n",
            "\n",
            "WARNING:tensorflow:From /usr/local/lib/python3.6/dist-packages/keras/backend/tensorflow_backend.py:541: The name tf.placeholder is deprecated. Please use tf.compat.v1.placeholder instead.\n",
            "\n",
            "WARNING:tensorflow:From /usr/local/lib/python3.6/dist-packages/keras/backend/tensorflow_backend.py:4479: The name tf.truncated_normal is deprecated. Please use tf.random.truncated_normal instead.\n",
            "\n",
            "WARNING:tensorflow:From /usr/local/lib/python3.6/dist-packages/keras/backend/tensorflow_backend.py:190: The name tf.get_default_session is deprecated. Please use tf.compat.v1.get_default_session instead.\n",
            "\n",
            "WARNING:tensorflow:From /usr/local/lib/python3.6/dist-packages/keras/backend/tensorflow_backend.py:197: The name tf.ConfigProto is deprecated. Please use tf.compat.v1.ConfigProto instead.\n",
            "\n",
            "WARNING:tensorflow:From /usr/local/lib/python3.6/dist-packages/keras/backend/tensorflow_backend.py:2041: The name tf.nn.fused_batch_norm is deprecated. Please use tf.compat.v1.nn.fused_batch_norm instead.\n",
            "\n",
            "WARNING:tensorflow:From /usr/local/lib/python3.6/dist-packages/keras/backend/tensorflow_backend.py:4267: The name tf.nn.max_pool is deprecated. Please use tf.nn.max_pool2d instead.\n",
            "\n",
            "Downloading data from https://github.com/fchollet/deep-learning-models/releases/download/v0.2/resnet50_weights_tf_dim_ordering_tf_kernels.h5\n",
            "102858752/102853048 [==============================] - 9s 0us/step\n"
          ],
          "name": "stdout"
        }
      ]
    },
    {
      "cell_type": "markdown",
      "metadata": {
        "id": "yFJJ2ahYu44A",
        "colab_type": "text"
      },
      "source": [
        "**Pre-process the Data**\n",
        "\n",
        "---\n",
        "\n",
        "\n",
        "When using TensorFlow as backend, Keras CNNs require a 4D array (which we'll also refer to as a 4D tensor) as input, with shape\n",
        "\n",
        "\n",
        "> (`nb_samples,rows,columns,channels`)\n",
        "\n",
        "\n",
        " \n",
        "where `nb_samples` corresponds to the total number of images (or samples), and `rows`, `columns`, and `channels` correspond to the number of rows, columns, and channels for each image, respectively.\n",
        "\n",
        "The `path_to_tensor` function below takes a string-valued file path to a color image as input and returns a 4D tensor suitable for supplying to a Keras CNN. The function first loads the image and resizes it to a square image that is  224×224  pixels. Next, the image is converted to an array, which is then resized to a 4D tensor. In this case, since we are working with color images, each image has three channels. Likewise, since we are processing a single image (or sample), the returned tensor will always have shape\n",
        "\n",
        "(1,224,224,3).\n",
        " \n",
        "The paths_to_tensor function takes a numpy array of string-valued image paths as input and returns a 4D tensor with shape\n",
        "\n",
        "(nb_samples,224,224,3).\n",
        " \n",
        "Here, `nb_samples` is the number of samples, or number of images, in the supplied array of image paths. It is best to think of nb_samples as the number of 3D tensors (where each 3D tensor corresponds to a different image) in your dataset!"
      ]
    },
    {
      "cell_type": "code",
      "metadata": {
        "id": "k7kd5nlouqUi",
        "colab_type": "code",
        "colab": {}
      },
      "source": [
        "from keras.preprocessing import image                  \n",
        "from tqdm import tqdm\n",
        "\n",
        "def path_to_tensor(img_path):\n",
        "    # loads RGB image as PIL.Image.Image type\n",
        "    img = image.load_img(img_path, target_size=(224, 224))\n",
        "    # convert PIL.Image.Image type to 3D tensor with shape (224, 224, 3)\n",
        "    x = image.img_to_array(img)\n",
        "    # convert 3D tensor to 4D tensor with shape (1, 224, 224, 3) and return 4D tensor\n",
        "    return np.expand_dims(x, axis=0)\n",
        "\n",
        "def paths_to_tensor(img_paths):\n",
        "    list_of_tensors = [path_to_tensor(img_path) for img_path in tqdm(img_paths)]\n",
        "    return np.vstack(list_of_tensors)"
      ],
      "execution_count": 0,
      "outputs": []
    },
    {
      "cell_type": "markdown",
      "metadata": {
        "id": "qEosJdAgv7-B",
        "colab_type": "text"
      },
      "source": [
        "Making Predictions with ResNet-50\n",
        "Getting the 4D tensor ready for ResNet-50, and for any other pre-trained model in Keras, requires some additional processing. First, the RGB image is converted to BGR by reordering the channels. All pre-trained models have the additional normalization step that the mean pixel (expressed in RGB as  [103.939,116.779,123.68]  and calculated from all pixels in all images in ImageNet) must be subtracted from every pixel in each image. This is implemented in the imported function preprocess_input. If you're curious, you can check the code for preprocess_input here.\n",
        "\n",
        "Now that we have a way to format our image for supplying to ResNet-50, we are now ready to use the model to extract the predictions. This is accomplished with the predict method, which returns an array whose  𝑖 -th entry is the model's predicted probability that the image belongs to the  𝑖 -th ImageNet category. This is implemented in the ResNet50_predict_labels function below.\n",
        "\n",
        "By taking the argmax of the predicted probability vector, we obtain an integer corresponding to the model's predicted object class, which we can identify with an object category through the use of this dictionary."
      ]
    },
    {
      "cell_type": "code",
      "metadata": {
        "id": "k7IN0JxWv0-6",
        "colab_type": "code",
        "colab": {}
      },
      "source": [
        "from keras.applications.resnet50 import preprocess_input, decode_predictions\n",
        "\n",
        "def ResNet50_predict_labels(img_path):\n",
        "    # returns prediction vector for image located at img_path\n",
        "    img = preprocess_input(path_to_tensor(img_path))\n",
        "    return np.argmax(ResNet50_model.predict(img))"
      ],
      "execution_count": 0,
      "outputs": []
    },
    {
      "cell_type": "markdown",
      "metadata": {
        "id": "Gx3nuSbHwHBV",
        "colab_type": "text"
      },
      "source": [
        "Write a Dog Detector\n",
        "While looking at the dictionary, you will notice that the categories corresponding to dogs appear in an uninterrupted sequence and correspond to dictionary keys 151-268, inclusive, to include all categories from 'Chihuahua' to 'Mexican hairless'. Thus, in order to check to see if an image is predicted to contain a dog by the pre-trained ResNet-50 model, we need only check if the ResNet50_predict_labels function above returns a value between 151 and 268 (inclusive).\n",
        "\n",
        "We use these ideas to complete the dog_detector function below, which returns True if a dog is detected in an image (and False if not)."
      ]
    },
    {
      "cell_type": "code",
      "metadata": {
        "id": "l83PxYtxv6yK",
        "colab_type": "code",
        "colab": {}
      },
      "source": [
        "### returns \"True\" if a dog is detected in the image stored at img_path\n",
        "def dog_detector(img_path):\n",
        "    prediction = ResNet50_predict_labels(img_path)\n",
        "    return ((prediction <= 268) & (prediction >= 151)) "
      ],
      "execution_count": 0,
      "outputs": []
    },
    {
      "cell_type": "markdown",
      "metadata": {
        "id": "Jn1fnbeVwPYm",
        "colab_type": "text"
      },
      "source": [
        "(IMPLEMENTATION) Assess the Dog Detector\n",
        "Question 3: Use the code cell below to test the performance of your dog_detector function.\n",
        "\n",
        "What percentage of the images in human_files_short have a detected dog?\n",
        "What percentage of the images in dog_files_short have a detected dog?\n",
        "Answer: 0% of the images in human_files_short have a detected dog 100% of the images in dog_files_short have a detected dog"
      ]
    },
    {
      "cell_type": "code",
      "metadata": {
        "id": "Bxr2zOHjwF8C",
        "colab_type": "code",
        "colab": {
          "base_uri": "https://localhost:8080/",
          "height": 51
        },
        "outputId": "86786b2c-c4c0-4fbd-ac9f-613e0e1fcfbc"
      },
      "source": [
        "### TODO: Test the performance of the dog_detector function\n",
        "### on the images in human_files_short and dog_files_short.\n",
        "\n",
        "dog_detected = 0\n",
        "for im in human_files_short:\n",
        "    dog_detected += dog_detector(im)\n",
        "    \n",
        "print('% of images in human_files with a dog detected: {:2.2%}'.format(dog_detected/len(human_files_short)))\n",
        "\n",
        "dog_detected = 0\n",
        "for im in dog_files_short:\n",
        "    dog_detected += dog_detector(im)\n",
        "    \n",
        "print('% of images in dog_files with a dog detected: {:2.2%}'.format(dog_detected/len(dog_files_short)))"
      ],
      "execution_count": 22,
      "outputs": [
        {
          "output_type": "stream",
          "text": [
            "% of images in human_files with a dog detected: 1.00%\n",
            "% of images in dog_files with a dog detected: 100.00%\n"
          ],
          "name": "stdout"
        }
      ]
    },
    {
      "cell_type": "markdown",
      "metadata": {
        "id": "mShy1nLdwnme",
        "colab_type": "text"
      },
      "source": [
        "**Step 3: Create a CNN to Classify Dog Breeds (from Scratch)**\n",
        "Now that we have functions for detecting humans and dogs in images, we need a way to predict breed from images. In this step, you will create a CNN that classifies dog breeds. You must create your CNN from scratch (so, you can't use transfer learning yet!), and you must attain a test accuracy of at least 1%. In Step 5 of this notebook, you will have the opportunity to use transfer learning to create a CNN that attains greatly improved accuracy.\n",
        "\n",
        "Be careful with adding too many trainable layers! More parameters means longer training, which means you are more likely to need a GPU to accelerate the training process. Thankfully, Keras provides a handy estimate of the time that each epoch is likely to take; you can extrapolate this estimate to figure out how long it will take for your algorithm to train.\n",
        "\n",
        "We mention that the task of assigning breed to dogs from images is considered exceptionally challenging. To see why, consider that even a human would have great difficulty in distinguishing between a Brittany and a Welsh Springer Spaniel.\n",
        "\n",
        "Brittany\t\n",
        "![Brittany](https://upload.wikimedia.org/wikipedia/commons/thumb/c/cf/MontyPortrait.jpg/440px-MontyPortrait.jpg)\n",
        "\n",
        "Welsh Springer Spaniel\n",
        "![alt text](https://upload.wikimedia.org/wikipedia/commons/thumb/5/5e/Welsh_Springer_Spaniel_Dog.jpg/340px-Welsh_Springer_Spaniel_Dog.jpg)\n",
        "\n",
        "It is not difficult to find other dog breed pairs with minimal inter-class variation (for instance, Curly-Coated Retrievers and American Water Spaniels).\n",
        "\n",
        "Curly-Coated Retriever\tAmerican Water Spaniel\n",
        "\t\n",
        "Likewise, recall that labradors come in yellow, chocolate, and black. Your vision-based algorithm will have to conquer this high intra-class variation to determine how to classify all of these different shades as the same breed.\n",
        "\n",
        "Yellow Labrador | Chocolate Labrador | Black Labrador\n",
        "\n",
        "| -||\n",
        "We also mention that random chance presents an exceptionally low bar: setting aside the fact that the classes are slightly imabalanced, a random guess will provide a correct answer roughly 1 in 133 times, which corresponds to an accuracy of less than 1%.\n",
        "\n",
        "Remember that the practice is far ahead of the theory in deep learning. Experiment with many different architectures, and trust your intuition. And, of course, have fun!\n",
        "\n",
        "Pre-process the Data\n",
        "We rescale the images by dividing every pixel in every image by 255."
      ]
    },
    {
      "cell_type": "code",
      "metadata": {
        "id": "hCZsgYZ9wZKK",
        "colab_type": "code",
        "colab": {
          "base_uri": "https://localhost:8080/",
          "height": 69
        },
        "outputId": "039f4d06-58b6-4ae1-eae3-ba5252582a04"
      },
      "source": [
        "from PIL import ImageFile                            \n",
        "ImageFile.LOAD_TRUNCATED_IMAGES = True                 \n",
        "\n",
        "# pre-process the data for Keras\n",
        "train_tensors = paths_to_tensor(train_files).astype('float32')/255\n",
        "valid_tensors = paths_to_tensor(valid_files).astype('float32')/255\n",
        "test_tensors = paths_to_tensor(test_files).astype('float32')/255"
      ],
      "execution_count": 23,
      "outputs": [
        {
          "output_type": "stream",
          "text": [
            "100%|██████████| 6680/6680 [00:54<00:00, 122.18it/s]\n",
            "100%|██████████| 835/835 [00:06<00:00, 136.82it/s]\n",
            "100%|██████████| 836/836 [00:06<00:00, 137.84it/s]\n"
          ],
          "name": "stderr"
        }
      ]
    },
    {
      "cell_type": "markdown",
      "metadata": {
        "id": "l3bnMsHhyfBf",
        "colab_type": "text"
      },
      "source": [
        "(IMPLEMENTATION) Model Architecture\n",
        "Create a CNN to classify dog breed. At the end of your code cell block, summarize the layers of your model by executing the line:\n",
        "\n",
        "    model.summary()\n",
        "We have imported some Python modules to get you started, but feel free to import as many modules as you need. If you end up getting stuck, here's a hint that specifies a model that trains relatively fast on CPU and attains >1% test accuracy in 5 epochs:\n",
        "\n",
        "\n",
        "**Question 4**: Outline the steps you took to get to your final CNN architecture and your reasoning at each step. If you chose to use the hinted architecture above, describe why you think that CNN architecture should work well for the image classification task.\n",
        "\n",
        "**Answer**:\n",
        "\n",
        "The selected CNN architecture has 3 convolutional layers alternating with maxpooling layers, 10% dropout and batch normalization. This is then followed by a global average pooling layer which is then followed by a dense layer to identify 133 breeds\n"
      ]
    },
    {
      "cell_type": "code",
      "metadata": {
        "id": "blfhgUwvwmUn",
        "colab_type": "code",
        "colab": {
          "base_uri": "https://localhost:8080/",
          "height": 854
        },
        "outputId": "90b58b97-ac70-42eb-f1c3-2a21d952aec3"
      },
      "source": [
        "from keras.layers import Conv2D, MaxPooling2D, GlobalAveragePooling2D\n",
        "from keras.layers import Dropout, Flatten, Dense\n",
        "from keras.models import Sequential\n",
        "from keras.layers.normalization import BatchNormalization\n",
        "\n",
        "model = Sequential()\n",
        "\n",
        "### TODO: Define your architecture.\n",
        "model.add(Conv2D(filters=16, kernel_size=2, padding='valid', activation='relu', \n",
        "                        input_shape=(224, 224, 3)))\n",
        "model.add(MaxPooling2D(pool_size=2))\n",
        "model.add(Dropout(0.01))\n",
        "model.add(BatchNormalization())\n",
        "model.add(Conv2D(filters=32, kernel_size=2, padding='valid', activation='relu'))\n",
        "model.add(MaxPooling2D(pool_size=2))\n",
        "model.add(Dropout(0.1))\n",
        "model.add(BatchNormalization())\n",
        "model.add(Conv2D(filters=64, kernel_size=2, padding='valid', activation='relu'))\n",
        "model.add(MaxPooling2D(pool_size=2))\n",
        "model.add(Dropout(0.2))\n",
        "model.add(BatchNormalization())\n",
        "model.add(Conv2D(filters=128, kernel_size=2, padding='valid', activation='relu'))\n",
        "model.add(MaxPooling2D(pool_size=2))\n",
        "model.add(Dropout(0.2))\n",
        "model.add(BatchNormalization())\n",
        "model.add(GlobalAveragePooling2D())\n",
        "\n",
        "model.add(Dense(133, activation='softmax'))\n",
        "\n",
        "model.summary()"
      ],
      "execution_count": 24,
      "outputs": [
        {
          "output_type": "stream",
          "text": [
            "WARNING:tensorflow:From /usr/local/lib/python3.6/dist-packages/keras/backend/tensorflow_backend.py:3733: calling dropout (from tensorflow.python.ops.nn_ops) with keep_prob is deprecated and will be removed in a future version.\n",
            "Instructions for updating:\n",
            "Please use `rate` instead of `keep_prob`. Rate should be set to `rate = 1 - keep_prob`.\n",
            "Model: \"sequential_1\"\n",
            "_________________________________________________________________\n",
            "Layer (type)                 Output Shape              Param #   \n",
            "=================================================================\n",
            "conv2d_1 (Conv2D)            (None, 223, 223, 16)      208       \n",
            "_________________________________________________________________\n",
            "max_pooling2d_2 (MaxPooling2 (None, 111, 111, 16)      0         \n",
            "_________________________________________________________________\n",
            "dropout_1 (Dropout)          (None, 111, 111, 16)      0         \n",
            "_________________________________________________________________\n",
            "batch_normalization_1 (Batch (None, 111, 111, 16)      64        \n",
            "_________________________________________________________________\n",
            "conv2d_2 (Conv2D)            (None, 110, 110, 32)      2080      \n",
            "_________________________________________________________________\n",
            "max_pooling2d_3 (MaxPooling2 (None, 55, 55, 32)        0         \n",
            "_________________________________________________________________\n",
            "dropout_2 (Dropout)          (None, 55, 55, 32)        0         \n",
            "_________________________________________________________________\n",
            "batch_normalization_2 (Batch (None, 55, 55, 32)        128       \n",
            "_________________________________________________________________\n",
            "conv2d_3 (Conv2D)            (None, 54, 54, 64)        8256      \n",
            "_________________________________________________________________\n",
            "max_pooling2d_4 (MaxPooling2 (None, 27, 27, 64)        0         \n",
            "_________________________________________________________________\n",
            "dropout_3 (Dropout)          (None, 27, 27, 64)        0         \n",
            "_________________________________________________________________\n",
            "batch_normalization_3 (Batch (None, 27, 27, 64)        256       \n",
            "_________________________________________________________________\n",
            "conv2d_4 (Conv2D)            (None, 26, 26, 128)       32896     \n",
            "_________________________________________________________________\n",
            "max_pooling2d_5 (MaxPooling2 (None, 13, 13, 128)       0         \n",
            "_________________________________________________________________\n",
            "dropout_4 (Dropout)          (None, 13, 13, 128)       0         \n",
            "_________________________________________________________________\n",
            "batch_normalization_4 (Batch (None, 13, 13, 128)       512       \n",
            "_________________________________________________________________\n",
            "global_average_pooling2d_1 ( (None, 128)               0         \n",
            "_________________________________________________________________\n",
            "dense_1 (Dense)              (None, 133)               17157     \n",
            "=================================================================\n",
            "Total params: 61,557\n",
            "Trainable params: 61,077\n",
            "Non-trainable params: 480\n",
            "_________________________________________________________________\n"
          ],
          "name": "stdout"
        }
      ]
    },
    {
      "cell_type": "markdown",
      "metadata": {
        "id": "qy2wWWKLzbiU",
        "colab_type": "text"
      },
      "source": [
        "**Compile the model**"
      ]
    },
    {
      "cell_type": "code",
      "metadata": {
        "id": "_-hkepDByZQd",
        "colab_type": "code",
        "colab": {
          "base_uri": "https://localhost:8080/",
          "height": 51
        },
        "outputId": "107722f6-f25a-48ae-dce5-c00d6057a1ea"
      },
      "source": [
        "model.compile(optimizer='rmsprop', loss='categorical_crossentropy', metrics=['accuracy'])"
      ],
      "execution_count": 25,
      "outputs": [
        {
          "output_type": "stream",
          "text": [
            "WARNING:tensorflow:From /usr/local/lib/python3.6/dist-packages/keras/optimizers.py:793: The name tf.train.Optimizer is deprecated. Please use tf.compat.v1.train.Optimizer instead.\n",
            "\n"
          ],
          "name": "stdout"
        }
      ]
    },
    {
      "cell_type": "code",
      "metadata": {
        "id": "ni10ZZ5tz-om",
        "colab_type": "code",
        "colab": {}
      },
      "source": [
        "mkdir saved_models"
      ],
      "execution_count": 0,
      "outputs": []
    },
    {
      "cell_type": "markdown",
      "metadata": {
        "id": "s5dbIHUkztd-",
        "colab_type": "text"
      },
      "source": [
        "**(IMPLEMENTATION) Train the Model**\n",
        "Train your model in the code cell below. Use model checkpointing to save the model that attains the best validation loss.\n",
        "\n",
        "You are welcome to augment the training data, but this is not a requirement."
      ]
    },
    {
      "cell_type": "code",
      "metadata": {
        "id": "drK_k51wzaw6",
        "colab_type": "code",
        "colab": {
          "base_uri": "https://localhost:8080/",
          "height": 820
        },
        "outputId": "bcb89435-e9e4-427d-9046-58be99acdee7"
      },
      "source": [
        "from keras.callbacks import ModelCheckpoint  \n",
        "\n",
        "### TODO: specify the number of epochs that you would like to use to train the model.\n",
        "\n",
        "epochs = 10\n",
        "\n",
        "### Do NOT modify the code below this line.\n",
        "\n",
        "checkpointer = ModelCheckpoint(filepath='saved_models/weights.best.from_scratch.hdf5', \n",
        "                               verbose=1, save_best_only=True)\n",
        "\n",
        "model.fit(train_tensors, train_targets, \n",
        "          validation_data=(valid_tensors, valid_targets),\n",
        "          epochs=epochs, batch_size=20, callbacks=[checkpointer], verbose=1)"
      ],
      "execution_count": 27,
      "outputs": [
        {
          "output_type": "stream",
          "text": [
            "WARNING:tensorflow:From /usr/local/lib/python3.6/dist-packages/tensorflow/python/ops/math_grad.py:1250: add_dispatch_support.<locals>.wrapper (from tensorflow.python.ops.array_ops) is deprecated and will be removed in a future version.\n",
            "Instructions for updating:\n",
            "Use tf.where in 2.0, which has the same broadcast rule as np.where\n",
            "Train on 6680 samples, validate on 835 samples\n",
            "Epoch 1/10\n",
            "6680/6680 [==============================] - 20s 3ms/step - loss: 4.7831 - acc: 0.0214 - val_loss: 4.7736 - val_acc: 0.0216\n",
            "\n",
            "Epoch 00001: val_loss improved from inf to 4.77364, saving model to saved_models/weights.best.from_scratch.hdf5\n",
            "Epoch 2/10\n",
            "6680/6680 [==============================] - 19s 3ms/step - loss: 4.6145 - acc: 0.0377 - val_loss: 4.6975 - val_acc: 0.0228\n",
            "\n",
            "Epoch 00002: val_loss improved from 4.77364 to 4.69752, saving model to saved_models/weights.best.from_scratch.hdf5\n",
            "Epoch 3/10\n",
            "6680/6680 [==============================] - 18s 3ms/step - loss: 4.5125 - acc: 0.0516 - val_loss: 4.5687 - val_acc: 0.0539\n",
            "\n",
            "Epoch 00003: val_loss improved from 4.69752 to 4.56869, saving model to saved_models/weights.best.from_scratch.hdf5\n",
            "Epoch 4/10\n",
            "6680/6680 [==============================] - 19s 3ms/step - loss: 4.4291 - acc: 0.0548 - val_loss: 4.5191 - val_acc: 0.0527\n",
            "\n",
            "Epoch 00004: val_loss improved from 4.56869 to 4.51914, saving model to saved_models/weights.best.from_scratch.hdf5\n",
            "Epoch 5/10\n",
            "6680/6680 [==============================] - 19s 3ms/step - loss: 4.3538 - acc: 0.0687 - val_loss: 4.4468 - val_acc: 0.0623\n",
            "\n",
            "Epoch 00005: val_loss improved from 4.51914 to 4.44676, saving model to saved_models/weights.best.from_scratch.hdf5\n",
            "Epoch 6/10\n",
            "6680/6680 [==============================] - 19s 3ms/step - loss: 4.2833 - acc: 0.0829 - val_loss: 4.4721 - val_acc: 0.0575\n",
            "\n",
            "Epoch 00006: val_loss did not improve from 4.44676\n",
            "Epoch 7/10\n",
            "6680/6680 [==============================] - 19s 3ms/step - loss: 4.2117 - acc: 0.0889 - val_loss: 4.4039 - val_acc: 0.0419\n",
            "\n",
            "Epoch 00007: val_loss improved from 4.44676 to 4.40385, saving model to saved_models/weights.best.from_scratch.hdf5\n",
            "Epoch 8/10\n",
            "6680/6680 [==============================] - 19s 3ms/step - loss: 4.1464 - acc: 0.1018 - val_loss: 4.3086 - val_acc: 0.0647\n",
            "\n",
            "Epoch 00008: val_loss improved from 4.40385 to 4.30859, saving model to saved_models/weights.best.from_scratch.hdf5\n",
            "Epoch 9/10\n",
            "6680/6680 [==============================] - 19s 3ms/step - loss: 4.0658 - acc: 0.1121 - val_loss: 4.2702 - val_acc: 0.0790\n",
            "\n",
            "Epoch 00009: val_loss improved from 4.30859 to 4.27022, saving model to saved_models/weights.best.from_scratch.hdf5\n",
            "Epoch 10/10\n",
            "6680/6680 [==============================] - 18s 3ms/step - loss: 3.9992 - acc: 0.1296 - val_loss: 4.1561 - val_acc: 0.0862\n",
            "\n",
            "Epoch 00010: val_loss improved from 4.27022 to 4.15607, saving model to saved_models/weights.best.from_scratch.hdf5\n"
          ],
          "name": "stdout"
        },
        {
          "output_type": "execute_result",
          "data": {
            "text/plain": [
              "<keras.callbacks.History at 0x7f57708f8cc0>"
            ]
          },
          "metadata": {
            "tags": []
          },
          "execution_count": 27
        }
      ]
    },
    {
      "cell_type": "markdown",
      "metadata": {
        "id": "lYyMIK3V2txx",
        "colab_type": "text"
      },
      "source": [
        "**Load the Model with the Best Validation Loss**"
      ]
    },
    {
      "cell_type": "code",
      "metadata": {
        "id": "g6AAUE8Nzr2c",
        "colab_type": "code",
        "colab": {}
      },
      "source": [
        "model.load_weights('saved_models/weights.best.from_scratch.hdf5')"
      ],
      "execution_count": 0,
      "outputs": []
    },
    {
      "cell_type": "markdown",
      "metadata": {
        "id": "WW7MCdjC2xp7",
        "colab_type": "text"
      },
      "source": [
        "**Test the Model**\n",
        "Try out your model on the test dataset of dog images. Ensure that your test accuracy is greater than 1%."
      ]
    },
    {
      "cell_type": "code",
      "metadata": {
        "id": "q4krWkMU23b9",
        "colab_type": "code",
        "colab": {
          "base_uri": "https://localhost:8080/",
          "height": 34
        },
        "outputId": "559e7e9e-948e-4fc8-cb3e-51c2d8c7300c"
      },
      "source": [
        "# get index of predicted dog breed for each image in test set\n",
        "dog_breed_predictions = [np.argmax(model.predict(np.expand_dims(tensor, axis=0))) for tensor in test_tensors]\n",
        "\n",
        "# report test accuracy\n",
        "test_accuracy = 100*np.sum(np.array(dog_breed_predictions)==np.argmax(test_targets, axis=1))/len(dog_breed_predictions)\n",
        "print('Test accuracy: %.4f%%' % test_accuracy)"
      ],
      "execution_count": 29,
      "outputs": [
        {
          "output_type": "stream",
          "text": [
            "Test accuracy: 10.0478%\n"
          ],
          "name": "stdout"
        }
      ]
    },
    {
      "cell_type": "markdown",
      "metadata": {
        "id": "2YTw1o4o3KiV",
        "colab_type": "text"
      },
      "source": [
        "**Step 4: Use a CNN to Classify Dog Breeds**\n",
        "\n",
        "To reduce training time without sacrificing accuracy, we show you how to train a CNN using transfer learning. In the following step, you will get a chance to use transfer learning to train your own CNN.\n",
        "\n",
        "***Obtain Bottleneck Features***"
      ]
    },
    {
      "cell_type": "code",
      "metadata": {
        "id": "CSisqCSJHeBn",
        "colab_type": "code",
        "colab": {}
      },
      "source": [
        "vgg16_file = os.path.join(bottleneck_features_dir,'DogVGG16Data.npz')\n",
        "vgg19_file = os.path.join(bottleneck_features_dir,'DogVGG19Data.npz')\n",
        "resnet50_file = os.path.join(bottleneck_features_dir,'DogResnet50Data.npz')\n",
        "inception_file = os.path.join(bottleneck_features_dir,'DogInceptionV3Data.npz')\n",
        "xception_file = os.path.join(bottleneck_features_dir,'DogXceptionData.npz')\n"
      ],
      "execution_count": 0,
      "outputs": []
    },
    {
      "cell_type": "code",
      "metadata": {
        "id": "Fg3FiKCC3BeG",
        "colab_type": "code",
        "colab": {}
      },
      "source": [
        "bottleneck_features_vgg16 = np.load(vgg16_file)\n",
        "train_VGG16 = bottleneck_features_vgg16['train']\n",
        "valid_VGG16 = bottleneck_features_vgg16['valid']\n",
        "test_VGG16 = bottleneck_features_vgg16['test']"
      ],
      "execution_count": 0,
      "outputs": []
    },
    {
      "cell_type": "markdown",
      "metadata": {
        "id": "6hwpSwiWK8De",
        "colab_type": "text"
      },
      "source": [
        "**Model Architecture**\n",
        "The model uses the the pre-trained VGG-16 model as a fixed feature extractor, where the last convolutional output of VGG-16 is fed as input to our model. We only add a global average pooling layer and a fully connected layer, where the latter contains one node for each dog category and is equipped with a softmax."
      ]
    },
    {
      "cell_type": "code",
      "metadata": {
        "id": "eTDSrkp3ILh0",
        "colab_type": "code",
        "colab": {
          "base_uri": "https://localhost:8080/",
          "height": 225
        },
        "outputId": "c7a74826-b4db-4058-cd88-d7e638c934a7"
      },
      "source": [
        "VGG16_model = Sequential()\n",
        "VGG16_model.add(GlobalAveragePooling2D(input_shape=train_VGG16.shape[1:]))\n",
        "VGG16_model.add(Dense(133, activation='softmax'))\n",
        "\n",
        "VGG16_model.summary()"
      ],
      "execution_count": 32,
      "outputs": [
        {
          "output_type": "stream",
          "text": [
            "Model: \"sequential_2\"\n",
            "_________________________________________________________________\n",
            "Layer (type)                 Output Shape              Param #   \n",
            "=================================================================\n",
            "global_average_pooling2d_2 ( (None, 512)               0         \n",
            "_________________________________________________________________\n",
            "dense_2 (Dense)              (None, 133)               68229     \n",
            "=================================================================\n",
            "Total params: 68,229\n",
            "Trainable params: 68,229\n",
            "Non-trainable params: 0\n",
            "_________________________________________________________________\n"
          ],
          "name": "stdout"
        }
      ]
    },
    {
      "cell_type": "markdown",
      "metadata": {
        "id": "l_cJdqaiLJll",
        "colab_type": "text"
      },
      "source": [
        "**Compile the Model**"
      ]
    },
    {
      "cell_type": "code",
      "metadata": {
        "id": "7iUOEm7eIPPx",
        "colab_type": "code",
        "colab": {}
      },
      "source": [
        "VGG16_model.compile(loss='categorical_crossentropy', optimizer='rmsprop', metrics=['accuracy'])"
      ],
      "execution_count": 0,
      "outputs": []
    },
    {
      "cell_type": "markdown",
      "metadata": {
        "id": "SuYu9-McLN1I",
        "colab_type": "text"
      },
      "source": [
        "**Test the Model**"
      ]
    },
    {
      "cell_type": "code",
      "metadata": {
        "id": "zIH_XRi0LM2S",
        "colab_type": "code",
        "colab": {
          "base_uri": "https://localhost:8080/",
          "height": 1000
        },
        "outputId": "7e2424b9-a2e7-4156-a4e7-0f2849fc356c"
      },
      "source": [
        "checkpointer_vgg16 = ModelCheckpoint(filepath='saved_models/weights.best.VGG16.hdf5', \n",
        "                               verbose=1, save_best_only=True)\n",
        "\n",
        "VGG16_model.fit(train_VGG16, train_targets, \n",
        "          validation_data=(valid_VGG16, valid_targets),\n",
        "          epochs=20, batch_size=20, callbacks=[checkpointer_vgg16], verbose=1)"
      ],
      "execution_count": 34,
      "outputs": [
        {
          "output_type": "stream",
          "text": [
            "Train on 6680 samples, validate on 835 samples\n",
            "Epoch 1/20\n",
            "6680/6680 [==============================] - 3s 401us/step - loss: 12.5419 - acc: 0.1159 - val_loss: 11.1292 - val_acc: 0.2024\n",
            "\n",
            "Epoch 00001: val_loss improved from inf to 11.12915, saving model to saved_models/weights.best.VGG16.hdf5\n",
            "Epoch 2/20\n",
            "6680/6680 [==============================] - 1s 223us/step - loss: 10.4024 - acc: 0.2624 - val_loss: 10.1652 - val_acc: 0.2683\n",
            "\n",
            "Epoch 00002: val_loss improved from 11.12915 to 10.16525, saving model to saved_models/weights.best.VGG16.hdf5\n",
            "Epoch 3/20\n",
            "6680/6680 [==============================] - 1s 221us/step - loss: 9.7022 - acc: 0.3347 - val_loss: 9.8461 - val_acc: 0.3102\n",
            "\n",
            "Epoch 00003: val_loss improved from 10.16525 to 9.84607, saving model to saved_models/weights.best.VGG16.hdf5\n",
            "Epoch 4/20\n",
            "6680/6680 [==============================] - 1s 221us/step - loss: 9.3672 - acc: 0.3713 - val_loss: 9.7450 - val_acc: 0.3066\n",
            "\n",
            "Epoch 00004: val_loss improved from 9.84607 to 9.74498, saving model to saved_models/weights.best.VGG16.hdf5\n",
            "Epoch 5/20\n",
            "6680/6680 [==============================] - 1s 219us/step - loss: 9.2287 - acc: 0.3939 - val_loss: 9.6784 - val_acc: 0.3365\n",
            "\n",
            "Epoch 00005: val_loss improved from 9.74498 to 9.67842, saving model to saved_models/weights.best.VGG16.hdf5\n",
            "Epoch 6/20\n",
            "6680/6680 [==============================] - 2s 225us/step - loss: 9.1732 - acc: 0.4009 - val_loss: 9.5398 - val_acc: 0.3281\n",
            "\n",
            "Epoch 00006: val_loss improved from 9.67842 to 9.53985, saving model to saved_models/weights.best.VGG16.hdf5\n",
            "Epoch 7/20\n",
            "6680/6680 [==============================] - 1s 223us/step - loss: 8.9805 - acc: 0.4165 - val_loss: 9.3952 - val_acc: 0.3413\n",
            "\n",
            "Epoch 00007: val_loss improved from 9.53985 to 9.39518, saving model to saved_models/weights.best.VGG16.hdf5\n",
            "Epoch 8/20\n",
            "6680/6680 [==============================] - 1s 220us/step - loss: 8.8744 - acc: 0.4302 - val_loss: 9.2963 - val_acc: 0.3665\n",
            "\n",
            "Epoch 00008: val_loss improved from 9.39518 to 9.29631, saving model to saved_models/weights.best.VGG16.hdf5\n",
            "Epoch 9/20\n",
            "6680/6680 [==============================] - 1s 223us/step - loss: 8.7646 - acc: 0.4374 - val_loss: 9.2660 - val_acc: 0.3581\n",
            "\n",
            "Epoch 00009: val_loss improved from 9.29631 to 9.26603, saving model to saved_models/weights.best.VGG16.hdf5\n",
            "Epoch 10/20\n",
            "6680/6680 [==============================] - 1s 222us/step - loss: 8.6262 - acc: 0.4454 - val_loss: 9.1592 - val_acc: 0.3557\n",
            "\n",
            "Epoch 00010: val_loss improved from 9.26603 to 9.15920, saving model to saved_models/weights.best.VGG16.hdf5\n",
            "Epoch 11/20\n",
            "6680/6680 [==============================] - 1s 220us/step - loss: 8.4416 - acc: 0.4567 - val_loss: 8.9264 - val_acc: 0.3796\n",
            "\n",
            "Epoch 00011: val_loss improved from 9.15920 to 8.92642, saving model to saved_models/weights.best.VGG16.hdf5\n",
            "Epoch 12/20\n",
            "6680/6680 [==============================] - 1s 221us/step - loss: 8.3305 - acc: 0.4651 - val_loss: 8.8697 - val_acc: 0.3713\n",
            "\n",
            "Epoch 00012: val_loss improved from 8.92642 to 8.86968, saving model to saved_models/weights.best.VGG16.hdf5\n",
            "Epoch 13/20\n",
            "6680/6680 [==============================] - 1s 218us/step - loss: 8.1899 - acc: 0.4725 - val_loss: 8.6274 - val_acc: 0.3940\n",
            "\n",
            "Epoch 00013: val_loss improved from 8.86968 to 8.62745, saving model to saved_models/weights.best.VGG16.hdf5\n",
            "Epoch 14/20\n",
            "6680/6680 [==============================] - 1s 221us/step - loss: 8.0462 - acc: 0.4820 - val_loss: 8.6570 - val_acc: 0.3928\n",
            "\n",
            "Epoch 00014: val_loss did not improve from 8.62745\n",
            "Epoch 15/20\n",
            "6680/6680 [==============================] - 1s 219us/step - loss: 7.8954 - acc: 0.4925 - val_loss: 8.5532 - val_acc: 0.3808\n",
            "\n",
            "Epoch 00015: val_loss improved from 8.62745 to 8.55321, saving model to saved_models/weights.best.VGG16.hdf5\n",
            "Epoch 16/20\n",
            "6680/6680 [==============================] - 1s 219us/step - loss: 7.6144 - acc: 0.5052 - val_loss: 8.2287 - val_acc: 0.4120\n",
            "\n",
            "Epoch 00016: val_loss improved from 8.55321 to 8.22872, saving model to saved_models/weights.best.VGG16.hdf5\n",
            "Epoch 17/20\n",
            "6680/6680 [==============================] - 1s 220us/step - loss: 7.4288 - acc: 0.5180 - val_loss: 8.1433 - val_acc: 0.4012\n",
            "\n",
            "Epoch 00017: val_loss improved from 8.22872 to 8.14333, saving model to saved_models/weights.best.VGG16.hdf5\n",
            "Epoch 18/20\n",
            "6680/6680 [==============================] - 1s 221us/step - loss: 7.1853 - acc: 0.5329 - val_loss: 7.9175 - val_acc: 0.4263\n",
            "\n",
            "Epoch 00018: val_loss improved from 8.14333 to 7.91755, saving model to saved_models/weights.best.VGG16.hdf5\n",
            "Epoch 19/20\n",
            "6680/6680 [==============================] - 1s 221us/step - loss: 7.0966 - acc: 0.5445 - val_loss: 7.9579 - val_acc: 0.4168\n",
            "\n",
            "Epoch 00019: val_loss did not improve from 7.91755\n",
            "Epoch 20/20\n",
            "6680/6680 [==============================] - 1s 217us/step - loss: 7.0418 - acc: 0.5503 - val_loss: 7.9381 - val_acc: 0.4060\n",
            "\n",
            "Epoch 00020: val_loss did not improve from 7.91755\n"
          ],
          "name": "stdout"
        },
        {
          "output_type": "execute_result",
          "data": {
            "text/plain": [
              "<keras.callbacks.History at 0x7f558f1da4a8>"
            ]
          },
          "metadata": {
            "tags": []
          },
          "execution_count": 34
        }
      ]
    },
    {
      "cell_type": "markdown",
      "metadata": {
        "id": "Kg1fLqgWMGdY",
        "colab_type": "text"
      },
      "source": [
        "**Load the model with the best validation loss**"
      ]
    },
    {
      "cell_type": "code",
      "metadata": {
        "id": "Hi6sxy76LafA",
        "colab_type": "code",
        "colab": {}
      },
      "source": [
        "VGG16_model.load_weights('saved_models/weights.best.VGG16.hdf5')"
      ],
      "execution_count": 0,
      "outputs": []
    },
    {
      "cell_type": "markdown",
      "metadata": {
        "id": "e86lBN4LMN52",
        "colab_type": "text"
      },
      "source": [
        "**Test the Model**\n",
        "\n",
        "Now, we can use the CNN to test how well it identifies breed within our test dataset of dog images. We print the test accuracy below."
      ]
    },
    {
      "cell_type": "code",
      "metadata": {
        "id": "7uZ3I4kQMMqu",
        "colab_type": "code",
        "colab": {
          "base_uri": "https://localhost:8080/",
          "height": 34
        },
        "outputId": "b86ef6d2-3cd6-4550-e7d4-5d045ce7ed41"
      },
      "source": [
        "# get index of predicted dog breed for each image in test set\n",
        "VGG16_predictions = [np.argmax(VGG16_model.predict(np.expand_dims(feature, axis=0))) for feature in test_VGG16]\n",
        "\n",
        "# report test accuracy\n",
        "test_accuracy = 100*np.sum(np.array(VGG16_predictions)==np.argmax(test_targets, axis=1))/len(VGG16_predictions)\n",
        "print('Test accuracy: %.4f%%' % test_accuracy)"
      ],
      "execution_count": 36,
      "outputs": [
        {
          "output_type": "stream",
          "text": [
            "Test accuracy: 42.3445%\n"
          ],
          "name": "stdout"
        }
      ]
    },
    {
      "cell_type": "markdown",
      "metadata": {
        "id": "3F4SeuXPNCpH",
        "colab_type": "text"
      },
      "source": [
        "**Predict Dog Breed with the Model**"
      ]
    },
    {
      "cell_type": "code",
      "metadata": {
        "id": "_1Ax1jq9MU6s",
        "colab_type": "code",
        "colab": {}
      },
      "source": [
        "from extract_bottleneck_features import *\n",
        "\n",
        "def VGG16_predict_breed(img_path):\n",
        "    # extract bottleneck features\n",
        "    bottleneck_feature = extract_VGG16(path_to_tensor(img_path))\n",
        "    # obtain predicted vector\n",
        "    predicted_vector = VGG16_model.predict(bottleneck_feature)\n",
        "    # return dog breed that is predicted by the model\n",
        "    return dog_names[np.argmax(predicted_vector)]"
      ],
      "execution_count": 0,
      "outputs": []
    },
    {
      "cell_type": "markdown",
      "metadata": {
        "id": "PXTnP5-0NQFc",
        "colab_type": "text"
      },
      "source": [
        "**Step 5: Create a CNN to Classify Dog Breeds (using Transfer Learning)**\n",
        "You will now use transfer learning to create a CNN that can identify dog breed from images. Your CNN must attain at least 60% accuracy on the test set.\n",
        "\n",
        "In Step 4, we used transfer learning to create a CNN using VGG-16 bottleneck features. In this section, you must use the bottleneck features from a different pre-trained model. To make things easier for you, we have pre-computed the features for all of the networks that are currently available in Keras:\n",
        "\n",
        "VGG-19 bottleneck features\n",
        "ResNet-50 bottleneck features\n",
        "Inception bottleneck features\n",
        "Xception bottleneck features\n",
        "The files are encoded as such:\n",
        "\n",
        "Dog{network}Data.npz\n",
        "where {network}, in the above filename, can be one of VGG19, Resnet50, InceptionV3, or Xception. Pick one of the above architectures, download the corresponding bottleneck features, and store the downloaded file in the bottleneck_features/ folder in the repository.\n",
        "\n",
        "**(IMPLEMENTATION) Obtain Bottleneck Features**\n",
        "In the code block below, extract the bottleneck features corresponding to the train, test, and validation sets by running the following:\n",
        "\n",
        "bottleneck_features = np.load('bottleneck_features/Dog{network}Data.npz')\n",
        "train_{network} = bottleneck_features['train']\n",
        "valid_{network} = bottleneck_features['valid']\n",
        "test_{network} = bottleneck_features['test']"
      ]
    },
    {
      "cell_type": "code",
      "metadata": {
        "id": "TnbKUMgJNIIF",
        "colab_type": "code",
        "colab": {}
      },
      "source": [
        "### TODO: Obtain bottleneck features from another pre-trained CNN.\n",
        "bottleneck_features_VGG19 = np.load(vgg19_file)\n",
        "train_VGG19 = bottleneck_features_VGG19['train']\n",
        "valid_VGG19 = bottleneck_features_VGG19['valid']\n",
        "test_VGG19 = bottleneck_features_VGG19['test']\n",
        "\n",
        "\n",
        "\n",
        "bottleneck_features_Resnet50 = np.load(resnet50_file)\n",
        "train_Resnet50 = bottleneck_features_Resnet50['train']\n",
        "valid_Resnet50 = bottleneck_features_Resnet50['valid']\n",
        "test_Resnet50 = bottleneck_features_Resnet50['test']\n",
        "\n",
        "bottleneck_features_Inception = np.load(inception_file)\n",
        "train_Inception = bottleneck_features_Inception['train']\n",
        "valid_Inception = bottleneck_features_Inception['valid']\n",
        "test_Inception = bottleneck_features_Inception['test']\n",
        "\n",
        "bottleneck_features_Xception = np.load(xception_file)\n",
        "train_Xception = bottleneck_features_Xception['train']\n",
        "valid_Xception = bottleneck_features_Xception['valid']\n",
        "test_Xception = bottleneck_features_Xception['test']"
      ],
      "execution_count": 0,
      "outputs": []
    },
    {
      "cell_type": "code",
      "metadata": {
        "id": "EQBiKShwDpmx",
        "colab_type": "code",
        "colab": {
          "base_uri": "https://localhost:8080/",
          "height": 34
        },
        "outputId": "55882088-7c73-4ed6-938a-30008f74491e"
      },
      "source": [
        "train_Resnet50[0].shape"
      ],
      "execution_count": 39,
      "outputs": [
        {
          "output_type": "execute_result",
          "data": {
            "text/plain": [
              "(1, 1, 2048)"
            ]
          },
          "metadata": {
            "tags": []
          },
          "execution_count": 39
        }
      ]
    },
    {
      "cell_type": "code",
      "metadata": {
        "id": "wEiQ8xyqP6sz",
        "colab_type": "code",
        "colab": {
          "base_uri": "https://localhost:8080/",
          "height": 104
        },
        "outputId": "aa548fb9-7f7d-4a3c-d14e-16892aaa2469"
      },
      "source": [
        "print('VGG16 Shape: {} '.format(train_VGG16.shape))\n",
        "print('VGG19 Shape: {} '.format(train_VGG19.shape))\n",
        "print('Resnet50 Shape: {} '.format(train_Resnet50.shape))\n",
        "print('Inception Shape: {} '.format(train_Inception.shape))\n",
        "print('Xception Shape: {} '.format(train_Xception.shape))"
      ],
      "execution_count": 40,
      "outputs": [
        {
          "output_type": "stream",
          "text": [
            "VGG16 Shape: (6680, 7, 7, 512) \n",
            "VGG19 Shape: (6680, 7, 7, 512) \n",
            "Resnet50 Shape: (6680, 1, 1, 2048) \n",
            "Inception Shape: (6680, 5, 5, 2048) \n",
            "Xception Shape: (6680, 7, 7, 2048) \n"
          ],
          "name": "stdout"
        }
      ]
    },
    {
      "cell_type": "code",
      "metadata": {
        "id": "wAYo6EMXPseb",
        "colab_type": "code",
        "colab": {
          "base_uri": "https://localhost:8080/",
          "height": 956
        },
        "outputId": "1d0f531a-8c80-412a-9c9d-87aa6477042e"
      },
      "source": [
        "### TODO: Define your architecture.\n",
        "\n",
        "print('VGG19_model')\n",
        "VGG19_model = Sequential()\n",
        "VGG19_model.add(GlobalAveragePooling2D(input_shape=train_VGG19.shape[1:]))\n",
        "VGG19_model.add(Dense(133, activation='softmax'))\n",
        "VGG19_model.summary()\n",
        "\n",
        "\n",
        "print('Resnet50_model')\n",
        "Resnet50_model = Sequential()\n",
        "Resnet50_model.add(GlobalAveragePooling2D(input_shape=train_Resnet50.shape[1:]))\n",
        "Resnet50_model.add(Dense(133, activation='softmax'))\n",
        "Resnet50_model.summary()\n",
        "\n",
        "print('Inception_model')\n",
        "Inception_model = Sequential()\n",
        "Inception_model.add(GlobalAveragePooling2D(input_shape=train_Inception.shape[1:]))\n",
        "Inception_model.add(Dense(133, activation='softmax'))\n",
        "\n",
        "print(Inception_model.summary())\n",
        "\n",
        "print('Xception_model')\n",
        "Xception_model = Sequential()\n",
        "Xception_model.add(GlobalAveragePooling2D(input_shape=train_Xception.shape[1:]))\n",
        "Xception_model.add(Dense(133, activation='softmax'))\n",
        "\n",
        "print(Xception_model.summary())"
      ],
      "execution_count": 41,
      "outputs": [
        {
          "output_type": "stream",
          "text": [
            "VGG19_model\n",
            "Model: \"sequential_3\"\n",
            "_________________________________________________________________\n",
            "Layer (type)                 Output Shape              Param #   \n",
            "=================================================================\n",
            "global_average_pooling2d_3 ( (None, 512)               0         \n",
            "_________________________________________________________________\n",
            "dense_3 (Dense)              (None, 133)               68229     \n",
            "=================================================================\n",
            "Total params: 68,229\n",
            "Trainable params: 68,229\n",
            "Non-trainable params: 0\n",
            "_________________________________________________________________\n",
            "Resnet50_model\n",
            "Model: \"sequential_4\"\n",
            "_________________________________________________________________\n",
            "Layer (type)                 Output Shape              Param #   \n",
            "=================================================================\n",
            "global_average_pooling2d_4 ( (None, 2048)              0         \n",
            "_________________________________________________________________\n",
            "dense_4 (Dense)              (None, 133)               272517    \n",
            "=================================================================\n",
            "Total params: 272,517\n",
            "Trainable params: 272,517\n",
            "Non-trainable params: 0\n",
            "_________________________________________________________________\n",
            "Inception_model\n",
            "Model: \"sequential_5\"\n",
            "_________________________________________________________________\n",
            "Layer (type)                 Output Shape              Param #   \n",
            "=================================================================\n",
            "global_average_pooling2d_5 ( (None, 2048)              0         \n",
            "_________________________________________________________________\n",
            "dense_5 (Dense)              (None, 133)               272517    \n",
            "=================================================================\n",
            "Total params: 272,517\n",
            "Trainable params: 272,517\n",
            "Non-trainable params: 0\n",
            "_________________________________________________________________\n",
            "None\n",
            "Xception_model\n",
            "Model: \"sequential_6\"\n",
            "_________________________________________________________________\n",
            "Layer (type)                 Output Shape              Param #   \n",
            "=================================================================\n",
            "global_average_pooling2d_6 ( (None, 2048)              0         \n",
            "_________________________________________________________________\n",
            "dense_6 (Dense)              (None, 133)               272517    \n",
            "=================================================================\n",
            "Total params: 272,517\n",
            "Trainable params: 272,517\n",
            "Non-trainable params: 0\n",
            "_________________________________________________________________\n",
            "None\n"
          ],
          "name": "stdout"
        }
      ]
    },
    {
      "cell_type": "code",
      "metadata": {
        "id": "K_-8CrVJQDfA",
        "colab_type": "code",
        "colab": {}
      },
      "source": [
        "### TODO: Compile the model.\n",
        "VGG19_model.compile(loss='categorical_crossentropy', optimizer='rmsprop', metrics=['accuracy'])\n",
        "Resnet50_model.compile(loss='categorical_crossentropy', optimizer='rmsprop', metrics=['accuracy'])\n",
        "Inception_model.compile(loss='categorical_crossentropy', optimizer='rmsprop', metrics=['accuracy'])\n",
        "Xception_model.compile(loss='categorical_crossentropy', optimizer='rmsprop', metrics=['accuracy'])"
      ],
      "execution_count": 0,
      "outputs": []
    },
    {
      "cell_type": "code",
      "metadata": {
        "id": "TMnBOW9kRPvr",
        "colab_type": "code",
        "colab": {
          "base_uri": "https://localhost:8080/",
          "height": 1000
        },
        "outputId": "5308d434-6e4f-4204-ef8c-054935eef717"
      },
      "source": [
        "### TODO: Train the model.\n",
        "\n",
        "checkpointer_VGG19 = ModelCheckpoint(filepath='saved_models/weights.best.VGG19.hdf5', \n",
        "                               verbose=1, save_best_only=True)\n",
        "\n",
        "VGG19_model.fit(train_VGG19, train_targets, \n",
        "          validation_data=(valid_VGG19, valid_targets),\n",
        "          epochs=20, batch_size=20, callbacks=[checkpointer_VGG19], verbose=1)\n",
        "\n",
        "checkpointer_Resnet50 = ModelCheckpoint(filepath='saved_models/weights.best.Resnet50.hdf5', \n",
        "                               verbose=1, save_best_only=True)\n",
        "\n",
        "Resnet50_model.fit(train_Resnet50, train_targets, \n",
        "          validation_data=(valid_Resnet50, valid_targets),\n",
        "          epochs=20, batch_size=20, callbacks=[checkpointer_Resnet50], verbose=1)\n",
        "\n",
        "checkpointer_Inception = ModelCheckpoint(filepath='saved_models/weights.best.Inception.hdf5', \n",
        "                               verbose=1, save_best_only=True)\n",
        "\n",
        "Inception_model.fit(train_Inception, train_targets, \n",
        "          validation_data=(valid_Inception, valid_targets),\n",
        "          epochs=20, batch_size=20, callbacks=[checkpointer_Inception], verbose=1)\n",
        "\n",
        "checkpointer_Xception = ModelCheckpoint(filepath='saved_models/weights.best.Xception.hdf5', \n",
        "                               verbose=1, save_best_only=True)\n",
        "\n",
        "Xception_model.fit(train_Xception, train_targets, \n",
        "          validation_data=(valid_Xception, valid_targets),\n",
        "          epochs=20, batch_size=20, callbacks=[checkpointer_Xception], verbose=1)"
      ],
      "execution_count": 43,
      "outputs": [
        {
          "output_type": "stream",
          "text": [
            "Train on 6680 samples, validate on 835 samples\n",
            "Epoch 1/20\n",
            "6680/6680 [==============================] - 3s 433us/step - loss: 11.4908 - acc: 0.1430 - val_loss: 9.5041 - val_acc: 0.2695\n",
            "\n",
            "Epoch 00001: val_loss improved from inf to 9.50414, saving model to saved_models/weights.best.VGG19.hdf5\n",
            "Epoch 2/20\n",
            "6680/6680 [==============================] - 1s 223us/step - loss: 8.8503 - acc: 0.3299 - val_loss: 8.6551 - val_acc: 0.3617\n",
            "\n",
            "Epoch 00002: val_loss improved from 9.50414 to 8.65507, saving model to saved_models/weights.best.VGG19.hdf5\n",
            "Epoch 3/20\n",
            "6680/6680 [==============================] - 2s 226us/step - loss: 8.1498 - acc: 0.4054 - val_loss: 8.2807 - val_acc: 0.3940\n",
            "\n",
            "Epoch 00003: val_loss improved from 8.65507 to 8.28066, saving model to saved_models/weights.best.VGG19.hdf5\n",
            "Epoch 4/20\n",
            "6680/6680 [==============================] - 2s 228us/step - loss: 7.8705 - acc: 0.4527 - val_loss: 8.1885 - val_acc: 0.3916\n",
            "\n",
            "Epoch 00004: val_loss improved from 8.28066 to 8.18852, saving model to saved_models/weights.best.VGG19.hdf5\n",
            "Epoch 5/20\n",
            "6680/6680 [==============================] - 1s 224us/step - loss: 7.6675 - acc: 0.4772 - val_loss: 8.0166 - val_acc: 0.4204\n",
            "\n",
            "Epoch 00005: val_loss improved from 8.18852 to 8.01655, saving model to saved_models/weights.best.VGG19.hdf5\n",
            "Epoch 6/20\n",
            "6680/6680 [==============================] - 1s 223us/step - loss: 7.5106 - acc: 0.4918 - val_loss: 8.0147 - val_acc: 0.4108\n",
            "\n",
            "Epoch 00006: val_loss improved from 8.01655 to 8.01473, saving model to saved_models/weights.best.VGG19.hdf5\n",
            "Epoch 7/20\n",
            "6680/6680 [==============================] - 1s 223us/step - loss: 7.3142 - acc: 0.5096 - val_loss: 7.8882 - val_acc: 0.4335\n",
            "\n",
            "Epoch 00007: val_loss improved from 8.01473 to 7.88824, saving model to saved_models/weights.best.VGG19.hdf5\n",
            "Epoch 8/20\n",
            "6680/6680 [==============================] - 2s 226us/step - loss: 7.2338 - acc: 0.5251 - val_loss: 7.8670 - val_acc: 0.4275\n",
            "\n",
            "Epoch 00008: val_loss improved from 7.88824 to 7.86698, saving model to saved_models/weights.best.VGG19.hdf5\n",
            "Epoch 9/20\n",
            "6680/6680 [==============================] - 1s 222us/step - loss: 7.1980 - acc: 0.5331 - val_loss: 7.8545 - val_acc: 0.4347\n",
            "\n",
            "Epoch 00009: val_loss improved from 7.86698 to 7.85448, saving model to saved_models/weights.best.VGG19.hdf5\n",
            "Epoch 10/20\n",
            "6680/6680 [==============================] - 2s 225us/step - loss: 7.1661 - acc: 0.5395 - val_loss: 7.8320 - val_acc: 0.4275\n",
            "\n",
            "Epoch 00010: val_loss improved from 7.85448 to 7.83202, saving model to saved_models/weights.best.VGG19.hdf5\n",
            "Epoch 11/20\n",
            "6680/6680 [==============================] - 1s 223us/step - loss: 7.1234 - acc: 0.5437 - val_loss: 7.8491 - val_acc: 0.4323\n",
            "\n",
            "Epoch 00011: val_loss did not improve from 7.83202\n",
            "Epoch 12/20\n",
            "6680/6680 [==============================] - 2s 225us/step - loss: 7.0424 - acc: 0.5448 - val_loss: 7.9220 - val_acc: 0.4156\n",
            "\n",
            "Epoch 00012: val_loss did not improve from 7.83202\n",
            "Epoch 13/20\n",
            "6680/6680 [==============================] - 1s 216us/step - loss: 6.9901 - acc: 0.5496 - val_loss: 7.7917 - val_acc: 0.4263\n",
            "\n",
            "Epoch 00013: val_loss improved from 7.83202 to 7.79174, saving model to saved_models/weights.best.VGG19.hdf5\n",
            "Epoch 14/20\n",
            "6680/6680 [==============================] - 1s 216us/step - loss: 6.9559 - acc: 0.5555 - val_loss: 7.7422 - val_acc: 0.4419\n",
            "\n",
            "Epoch 00014: val_loss improved from 7.79174 to 7.74217, saving model to saved_models/weights.best.VGG19.hdf5\n",
            "Epoch 15/20\n",
            "6680/6680 [==============================] - 1s 215us/step - loss: 6.8048 - acc: 0.5584 - val_loss: 7.4780 - val_acc: 0.4575\n",
            "\n",
            "Epoch 00015: val_loss improved from 7.74217 to 7.47797, saving model to saved_models/weights.best.VGG19.hdf5\n",
            "Epoch 16/20\n",
            "6680/6680 [==============================] - 1s 216us/step - loss: 6.6803 - acc: 0.5728 - val_loss: 7.4480 - val_acc: 0.4635\n",
            "\n",
            "Epoch 00016: val_loss improved from 7.47797 to 7.44798, saving model to saved_models/weights.best.VGG19.hdf5\n",
            "Epoch 17/20\n",
            "6680/6680 [==============================] - 2s 229us/step - loss: 6.6537 - acc: 0.5784 - val_loss: 7.4073 - val_acc: 0.4707\n",
            "\n",
            "Epoch 00017: val_loss improved from 7.44798 to 7.40727, saving model to saved_models/weights.best.VGG19.hdf5\n",
            "Epoch 18/20\n",
            "6680/6680 [==============================] - 2s 232us/step - loss: 6.6408 - acc: 0.5807 - val_loss: 7.4748 - val_acc: 0.4635\n",
            "\n",
            "Epoch 00018: val_loss did not improve from 7.40727\n",
            "Epoch 19/20\n",
            "6680/6680 [==============================] - 2s 227us/step - loss: 6.6325 - acc: 0.5837 - val_loss: 7.4927 - val_acc: 0.4695\n",
            "\n",
            "Epoch 00019: val_loss did not improve from 7.40727\n",
            "Epoch 20/20\n",
            "6680/6680 [==============================] - 2s 231us/step - loss: 6.6256 - acc: 0.5846 - val_loss: 7.4552 - val_acc: 0.4671\n",
            "\n",
            "Epoch 00020: val_loss did not improve from 7.40727\n"
          ],
          "name": "stdout"
        },
        {
          "output_type": "execute_result",
          "data": {
            "text/plain": [
              "<keras.callbacks.History at 0x7f54ef0ff908>"
            ]
          },
          "metadata": {
            "tags": []
          },
          "execution_count": 43
        },
        {
          "output_type": "stream",
          "text": [
            "Train on 6680 samples, validate on 835 samples\n",
            "Epoch 1/20\n",
            "6680/6680 [==============================] - 2s 349us/step - loss: 1.6173 - acc: 0.6063 - val_loss: 0.8441 - val_acc: 0.7329\n",
            "\n",
            "Epoch 00001: val_loss improved from inf to 0.84406, saving model to saved_models/weights.best.Resnet50.hdf5\n",
            "Epoch 2/20\n",
            "6680/6680 [==============================] - 1s 192us/step - loss: 0.4407 - acc: 0.8609 - val_loss: 0.7039 - val_acc: 0.7844\n",
            "\n",
            "Epoch 00002: val_loss improved from 0.84406 to 0.70391, saving model to saved_models/weights.best.Resnet50.hdf5\n",
            "Epoch 3/20\n",
            "6680/6680 [==============================] - 1s 180us/step - loss: 0.2605 - acc: 0.9178 - val_loss: 0.6941 - val_acc: 0.7940\n",
            "\n",
            "Epoch 00003: val_loss improved from 0.70391 to 0.69413, saving model to saved_models/weights.best.Resnet50.hdf5\n",
            "Epoch 4/20\n",
            "6680/6680 [==============================] - 1s 183us/step - loss: 0.1766 - acc: 0.9478 - val_loss: 0.6454 - val_acc: 0.8120\n",
            "\n",
            "Epoch 00004: val_loss improved from 0.69413 to 0.64538, saving model to saved_models/weights.best.Resnet50.hdf5\n",
            "Epoch 5/20\n",
            "6680/6680 [==============================] - 1s 180us/step - loss: 0.1258 - acc: 0.9630 - val_loss: 0.6727 - val_acc: 0.8192\n",
            "\n",
            "Epoch 00005: val_loss did not improve from 0.64538\n",
            "Epoch 6/20\n",
            "6680/6680 [==============================] - 1s 180us/step - loss: 0.0892 - acc: 0.9734 - val_loss: 0.6499 - val_acc: 0.8156\n",
            "\n",
            "Epoch 00006: val_loss did not improve from 0.64538\n",
            "Epoch 7/20\n",
            "6680/6680 [==============================] - 1s 177us/step - loss: 0.0664 - acc: 0.9784 - val_loss: 0.6994 - val_acc: 0.8228\n",
            "\n",
            "Epoch 00007: val_loss did not improve from 0.64538\n",
            "Epoch 8/20\n",
            "6680/6680 [==============================] - 1s 179us/step - loss: 0.0479 - acc: 0.9864 - val_loss: 0.7498 - val_acc: 0.8144\n",
            "\n",
            "Epoch 00008: val_loss did not improve from 0.64538\n",
            "Epoch 9/20\n",
            "6680/6680 [==============================] - 1s 179us/step - loss: 0.0381 - acc: 0.9891 - val_loss: 0.7342 - val_acc: 0.8180\n",
            "\n",
            "Epoch 00009: val_loss did not improve from 0.64538\n",
            "Epoch 10/20\n",
            "6680/6680 [==============================] - 1s 178us/step - loss: 0.0278 - acc: 0.9924 - val_loss: 0.7483 - val_acc: 0.8311\n",
            "\n",
            "Epoch 00010: val_loss did not improve from 0.64538\n",
            "Epoch 11/20\n",
            "6680/6680 [==============================] - 1s 179us/step - loss: 0.0230 - acc: 0.9936 - val_loss: 0.7348 - val_acc: 0.8323\n",
            "\n",
            "Epoch 00011: val_loss did not improve from 0.64538\n",
            "Epoch 12/20\n",
            "6680/6680 [==============================] - 1s 181us/step - loss: 0.0181 - acc: 0.9958 - val_loss: 0.7653 - val_acc: 0.8275\n",
            "\n",
            "Epoch 00012: val_loss did not improve from 0.64538\n",
            "Epoch 13/20\n",
            "6680/6680 [==============================] - 1s 179us/step - loss: 0.0153 - acc: 0.9970 - val_loss: 0.7672 - val_acc: 0.8263\n",
            "\n",
            "Epoch 00013: val_loss did not improve from 0.64538\n",
            "Epoch 14/20\n",
            "6680/6680 [==============================] - 1s 179us/step - loss: 0.0127 - acc: 0.9967 - val_loss: 0.8412 - val_acc: 0.8251\n",
            "\n",
            "Epoch 00014: val_loss did not improve from 0.64538\n",
            "Epoch 15/20\n",
            "6680/6680 [==============================] - 1s 177us/step - loss: 0.0101 - acc: 0.9972 - val_loss: 0.8306 - val_acc: 0.8311\n",
            "\n",
            "Epoch 00015: val_loss did not improve from 0.64538\n",
            "Epoch 16/20\n",
            "6680/6680 [==============================] - 1s 178us/step - loss: 0.0087 - acc: 0.9979 - val_loss: 0.8789 - val_acc: 0.8216\n",
            "\n",
            "Epoch 00016: val_loss did not improve from 0.64538\n",
            "Epoch 17/20\n",
            "6680/6680 [==============================] - 1s 178us/step - loss: 0.0073 - acc: 0.9982 - val_loss: 0.8713 - val_acc: 0.8192\n",
            "\n",
            "Epoch 00017: val_loss did not improve from 0.64538\n",
            "Epoch 18/20\n",
            "6680/6680 [==============================] - 1s 180us/step - loss: 0.0058 - acc: 0.9985 - val_loss: 0.9030 - val_acc: 0.8395\n",
            "\n",
            "Epoch 00018: val_loss did not improve from 0.64538\n",
            "Epoch 19/20\n",
            "6680/6680 [==============================] - 1s 177us/step - loss: 0.0064 - acc: 0.9984 - val_loss: 0.8610 - val_acc: 0.8311\n",
            "\n",
            "Epoch 00019: val_loss did not improve from 0.64538\n",
            "Epoch 20/20\n",
            "6680/6680 [==============================] - 1s 181us/step - loss: 0.0065 - acc: 0.9984 - val_loss: 0.9227 - val_acc: 0.8192\n",
            "\n",
            "Epoch 00020: val_loss did not improve from 0.64538\n"
          ],
          "name": "stdout"
        },
        {
          "output_type": "execute_result",
          "data": {
            "text/plain": [
              "<keras.callbacks.History at 0x7f54eef146d8>"
            ]
          },
          "metadata": {
            "tags": []
          },
          "execution_count": 43
        },
        {
          "output_type": "stream",
          "text": [
            "Train on 6680 samples, validate on 835 samples\n",
            "Epoch 1/20\n",
            "6680/6680 [==============================] - 3s 461us/step - loss: 1.1583 - acc: 0.7075 - val_loss: 0.7407 - val_acc: 0.7988\n",
            "\n",
            "Epoch 00001: val_loss improved from inf to 0.74068, saving model to saved_models/weights.best.Inception.hdf5\n",
            "Epoch 2/20\n",
            "6680/6680 [==============================] - 2s 281us/step - loss: 0.4746 - acc: 0.8569 - val_loss: 0.6327 - val_acc: 0.8347\n",
            "\n",
            "Epoch 00002: val_loss improved from 0.74068 to 0.63267, saving model to saved_models/weights.best.Inception.hdf5\n",
            "Epoch 3/20\n",
            "6680/6680 [==============================] - 2s 279us/step - loss: 0.3649 - acc: 0.8912 - val_loss: 0.6468 - val_acc: 0.8503\n",
            "\n",
            "Epoch 00003: val_loss did not improve from 0.63267\n",
            "Epoch 4/20\n",
            "6680/6680 [==============================] - 2s 282us/step - loss: 0.2941 - acc: 0.9099 - val_loss: 0.6848 - val_acc: 0.8371\n",
            "\n",
            "Epoch 00004: val_loss did not improve from 0.63267\n",
            "Epoch 5/20\n",
            "6680/6680 [==============================] - 2s 336us/step - loss: 0.2463 - acc: 0.9240 - val_loss: 0.7381 - val_acc: 0.8383\n",
            "\n",
            "Epoch 00005: val_loss did not improve from 0.63267\n",
            "Epoch 6/20\n",
            "6680/6680 [==============================] - 2s 279us/step - loss: 0.1965 - acc: 0.9404 - val_loss: 0.7497 - val_acc: 0.8431\n",
            "\n",
            "Epoch 00006: val_loss did not improve from 0.63267\n",
            "Epoch 7/20\n",
            "6680/6680 [==============================] - 2s 282us/step - loss: 0.1663 - acc: 0.9485 - val_loss: 0.7240 - val_acc: 0.8599\n",
            "\n",
            "Epoch 00007: val_loss did not improve from 0.63267\n",
            "Epoch 8/20\n",
            "6680/6680 [==============================] - 2s 281us/step - loss: 0.1486 - acc: 0.9540 - val_loss: 0.8283 - val_acc: 0.8479\n",
            "\n",
            "Epoch 00008: val_loss did not improve from 0.63267\n",
            "Epoch 9/20\n",
            "6680/6680 [==============================] - 2s 284us/step - loss: 0.1264 - acc: 0.9614 - val_loss: 0.8365 - val_acc: 0.8383\n",
            "\n",
            "Epoch 00009: val_loss did not improve from 0.63267\n",
            "Epoch 10/20\n",
            "6680/6680 [==============================] - 2s 286us/step - loss: 0.1083 - acc: 0.9653 - val_loss: 0.8713 - val_acc: 0.8455\n",
            "\n",
            "Epoch 00010: val_loss did not improve from 0.63267\n",
            "Epoch 11/20\n",
            "6680/6680 [==============================] - 2s 283us/step - loss: 0.0964 - acc: 0.9698 - val_loss: 0.8084 - val_acc: 0.8443\n",
            "\n",
            "Epoch 00011: val_loss did not improve from 0.63267\n",
            "Epoch 12/20\n",
            "6680/6680 [==============================] - 2s 286us/step - loss: 0.0808 - acc: 0.9765 - val_loss: 0.8272 - val_acc: 0.8455\n",
            "\n",
            "Epoch 00012: val_loss did not improve from 0.63267\n",
            "Epoch 13/20\n",
            "6680/6680 [==============================] - 2s 289us/step - loss: 0.0708 - acc: 0.9784 - val_loss: 0.8370 - val_acc: 0.8587\n",
            "\n",
            "Epoch 00013: val_loss did not improve from 0.63267\n",
            "Epoch 14/20\n",
            "6680/6680 [==============================] - 2s 285us/step - loss: 0.0629 - acc: 0.9814 - val_loss: 0.8888 - val_acc: 0.8431\n",
            "\n",
            "Epoch 00014: val_loss did not improve from 0.63267\n",
            "Epoch 15/20\n",
            "6680/6680 [==============================] - 2s 283us/step - loss: 0.0545 - acc: 0.9828 - val_loss: 0.9113 - val_acc: 0.8395\n",
            "\n",
            "Epoch 00015: val_loss did not improve from 0.63267\n",
            "Epoch 16/20\n",
            "6680/6680 [==============================] - 2s 288us/step - loss: 0.0514 - acc: 0.9846 - val_loss: 0.8941 - val_acc: 0.8479\n",
            "\n",
            "Epoch 00016: val_loss did not improve from 0.63267\n",
            "Epoch 17/20\n",
            "6680/6680 [==============================] - 2s 286us/step - loss: 0.0438 - acc: 0.9868 - val_loss: 0.9542 - val_acc: 0.8563\n",
            "\n",
            "Epoch 00017: val_loss did not improve from 0.63267\n",
            "Epoch 18/20\n",
            "6680/6680 [==============================] - 2s 286us/step - loss: 0.0392 - acc: 0.9885 - val_loss: 0.9384 - val_acc: 0.8479\n",
            "\n",
            "Epoch 00018: val_loss did not improve from 0.63267\n",
            "Epoch 19/20\n",
            "6680/6680 [==============================] - 2s 284us/step - loss: 0.0350 - acc: 0.9892 - val_loss: 0.9668 - val_acc: 0.8467\n",
            "\n",
            "Epoch 00019: val_loss did not improve from 0.63267\n",
            "Epoch 20/20\n",
            "6680/6680 [==============================] - 2s 284us/step - loss: 0.0316 - acc: 0.9916 - val_loss: 0.8931 - val_acc: 0.8575\n",
            "\n",
            "Epoch 00020: val_loss did not improve from 0.63267\n"
          ],
          "name": "stdout"
        },
        {
          "output_type": "execute_result",
          "data": {
            "text/plain": [
              "<keras.callbacks.History at 0x7f54eed6da58>"
            ]
          },
          "metadata": {
            "tags": []
          },
          "execution_count": 43
        },
        {
          "output_type": "stream",
          "text": [
            "Train on 6680 samples, validate on 835 samples\n",
            "Epoch 1/20\n",
            "6680/6680 [==============================] - 4s 554us/step - loss: 1.0514 - acc: 0.7373 - val_loss: 0.5304 - val_acc: 0.8216\n",
            "\n",
            "Epoch 00001: val_loss improved from inf to 0.53044, saving model to saved_models/weights.best.Xception.hdf5\n",
            "Epoch 2/20\n",
            "6680/6680 [==============================] - 3s 384us/step - loss: 0.3996 - acc: 0.8734 - val_loss: 0.4829 - val_acc: 0.8491\n",
            "\n",
            "Epoch 00002: val_loss improved from 0.53044 to 0.48292, saving model to saved_models/weights.best.Xception.hdf5\n",
            "Epoch 3/20\n",
            "6680/6680 [==============================] - 3s 385us/step - loss: 0.3216 - acc: 0.8976 - val_loss: 0.4874 - val_acc: 0.8491\n",
            "\n",
            "Epoch 00003: val_loss did not improve from 0.48292\n",
            "Epoch 4/20\n",
            "6680/6680 [==============================] - 3s 388us/step - loss: 0.2773 - acc: 0.9132 - val_loss: 0.4828 - val_acc: 0.8623\n",
            "\n",
            "Epoch 00004: val_loss improved from 0.48292 to 0.48279, saving model to saved_models/weights.best.Xception.hdf5\n",
            "Epoch 5/20\n",
            "6680/6680 [==============================] - 3s 400us/step - loss: 0.2428 - acc: 0.9225 - val_loss: 0.4900 - val_acc: 0.8539\n",
            "\n",
            "Epoch 00005: val_loss did not improve from 0.48279\n",
            "Epoch 6/20\n",
            "6680/6680 [==============================] - 3s 396us/step - loss: 0.2187 - acc: 0.9299 - val_loss: 0.5245 - val_acc: 0.8527\n",
            "\n",
            "Epoch 00006: val_loss did not improve from 0.48279\n",
            "Epoch 7/20\n",
            "6680/6680 [==============================] - 3s 414us/step - loss: 0.1943 - acc: 0.9415 - val_loss: 0.5357 - val_acc: 0.8587\n",
            "\n",
            "Epoch 00007: val_loss did not improve from 0.48279\n",
            "Epoch 8/20\n",
            "6680/6680 [==============================] - 3s 417us/step - loss: 0.1793 - acc: 0.9433 - val_loss: 0.5069 - val_acc: 0.8587\n",
            "\n",
            "Epoch 00008: val_loss did not improve from 0.48279\n",
            "Epoch 9/20\n",
            "6680/6680 [==============================] - 3s 424us/step - loss: 0.1620 - acc: 0.9491 - val_loss: 0.5826 - val_acc: 0.8503\n",
            "\n",
            "Epoch 00009: val_loss did not improve from 0.48279\n",
            "Epoch 10/20\n",
            "6680/6680 [==============================] - 3s 426us/step - loss: 0.1492 - acc: 0.9543 - val_loss: 0.5583 - val_acc: 0.8575\n",
            "\n",
            "Epoch 00010: val_loss did not improve from 0.48279\n",
            "Epoch 11/20\n",
            "6680/6680 [==============================] - 3s 425us/step - loss: 0.1368 - acc: 0.9594 - val_loss: 0.5687 - val_acc: 0.8527\n",
            "\n",
            "Epoch 00011: val_loss did not improve from 0.48279\n",
            "Epoch 12/20\n",
            "6680/6680 [==============================] - 3s 415us/step - loss: 0.1256 - acc: 0.9639 - val_loss: 0.5549 - val_acc: 0.8683\n",
            "\n",
            "Epoch 00012: val_loss did not improve from 0.48279\n",
            "Epoch 13/20\n",
            "6680/6680 [==============================] - 3s 426us/step - loss: 0.1149 - acc: 0.9669 - val_loss: 0.6241 - val_acc: 0.8623\n",
            "\n",
            "Epoch 00013: val_loss did not improve from 0.48279\n",
            "Epoch 14/20\n",
            "6680/6680 [==============================] - 3s 441us/step - loss: 0.1090 - acc: 0.9680 - val_loss: 0.6118 - val_acc: 0.8599\n",
            "\n",
            "Epoch 00014: val_loss did not improve from 0.48279\n",
            "Epoch 15/20\n",
            "6680/6680 [==============================] - 3s 452us/step - loss: 0.1022 - acc: 0.9683 - val_loss: 0.6228 - val_acc: 0.8551\n",
            "\n",
            "Epoch 00015: val_loss did not improve from 0.48279\n",
            "Epoch 16/20\n",
            "6680/6680 [==============================] - 3s 453us/step - loss: 0.0962 - acc: 0.9710 - val_loss: 0.6319 - val_acc: 0.8575\n",
            "\n",
            "Epoch 00016: val_loss did not improve from 0.48279\n",
            "Epoch 17/20\n",
            "6680/6680 [==============================] - 3s 438us/step - loss: 0.0877 - acc: 0.9741 - val_loss: 0.6542 - val_acc: 0.8563\n",
            "\n",
            "Epoch 00017: val_loss did not improve from 0.48279\n",
            "Epoch 18/20\n",
            "6680/6680 [==============================] - 3s 429us/step - loss: 0.0812 - acc: 0.9754 - val_loss: 0.6673 - val_acc: 0.8467\n",
            "\n",
            "Epoch 00018: val_loss did not improve from 0.48279\n",
            "Epoch 19/20\n",
            "6680/6680 [==============================] - 3s 415us/step - loss: 0.0767 - acc: 0.9766 - val_loss: 0.6828 - val_acc: 0.8563\n",
            "\n",
            "Epoch 00019: val_loss did not improve from 0.48279\n",
            "Epoch 20/20\n",
            "6680/6680 [==============================] - 3s 421us/step - loss: 0.0749 - acc: 0.9787 - val_loss: 0.6598 - val_acc: 0.8551\n",
            "\n",
            "Epoch 00020: val_loss did not improve from 0.48279\n"
          ],
          "name": "stdout"
        },
        {
          "output_type": "execute_result",
          "data": {
            "text/plain": [
              "<keras.callbacks.History at 0x7f54eebf6f28>"
            ]
          },
          "metadata": {
            "tags": []
          },
          "execution_count": 43
        }
      ]
    },
    {
      "cell_type": "code",
      "metadata": {
        "id": "oj3osvhaRxOo",
        "colab_type": "code",
        "colab": {}
      },
      "source": [
        "### TODO: Load the model weights with the best validation loss.\n",
        "VGG19_model.load_weights('saved_models/weights.best.VGG19.hdf5')\n",
        "Resnet50_model.load_weights('saved_models/weights.best.Resnet50.hdf5')\n",
        "Inception_model.load_weights('saved_models/weights.best.Inception.hdf5')\n",
        "Xception_model.load_weights('saved_models/weights.best.Xception.hdf5')"
      ],
      "execution_count": 0,
      "outputs": []
    },
    {
      "cell_type": "code",
      "metadata": {
        "id": "guTQwRCzR0sp",
        "colab_type": "code",
        "colab": {
          "base_uri": "https://localhost:8080/",
          "height": 86
        },
        "outputId": "9546c257-58fe-4047-a07e-7cfd2e2a5444"
      },
      "source": [
        "### TODO: Calculate classification accuracy on the test dataset.\n",
        "VGG19_predictions = [np.argmax(VGG19_model.predict(np.expand_dims(feature, axis=0))) for feature in test_VGG19]\n",
        "\n",
        "# report test accuracy\n",
        "test_accuracy_VGG19 = 100*np.sum(np.array(VGG19_predictions)==np.argmax(test_targets, axis=1))/len(VGG19_predictions)\n",
        "print('Test accuracy (VGG19): %.4f%%' % test_accuracy_VGG19)\n",
        "\n",
        "\n",
        "Resnet50_predictions = [np.argmax(Resnet50_model.predict(np.expand_dims(feature, axis=0))) for feature in test_Resnet50]\n",
        "\n",
        "# report test accuracy\n",
        "test_accuracy_Resnet50 = 100*np.sum(np.array(Resnet50_predictions)==np.argmax(test_targets, axis=1))/len(Resnet50_predictions)\n",
        "print('Test accuracy (Resnet50): %.4f%%' % test_accuracy_Resnet50)\n",
        "\n",
        "Inception_predictions = [np.argmax(Inception_model.predict(np.expand_dims(feature, axis=0))) for feature in test_Inception]\n",
        "test_accuracy_Inception = 100*np.sum(np.array(Inception_predictions)==np.argmax(test_targets, axis=1))/len(Inception_predictions)\n",
        "print('Test accuracy (Inception): %.4f%%' % test_accuracy_Inception)\n",
        "\n",
        "Xception_predictions = [np.argmax(Xception_model.predict(np.expand_dims(feature, axis=0))) for feature in test_Xception]\n",
        "test_accuracy_Xception = 100*np.sum(np.array(Xception_predictions)==np.argmax(test_targets, axis=1))/len(Xception_predictions)\n",
        "print('Test accuracy (Xception): %.4f%%' % test_accuracy_Xception)"
      ],
      "execution_count": 45,
      "outputs": [
        {
          "output_type": "stream",
          "text": [
            "Test accuracy (VGG19): 47.0096%\n",
            "Test accuracy (Resnet50): 80.1435%\n",
            "Test accuracy (Inception): 80.2632%\n",
            "Test accuracy (Xception): 84.5694%\n"
          ],
          "name": "stdout"
        }
      ]
    },
    {
      "cell_type": "code",
      "metadata": {
        "id": "ZrAZ-2uzR-AR",
        "colab_type": "code",
        "colab": {}
      },
      "source": [
        "### TODO: Write a function that takes a path to an image as input\n",
        "### and returns the dog breed that is predicted by the model.\n",
        "\n",
        "from extract_bottleneck_features import *\n",
        "\n",
        "def VGG19_predict_breed(img_path):\n",
        "    # extract bottleneck features\n",
        "    bottleneck_feature = extract_VGG19(path_to_tensor(img_path))\n",
        "    # obtain predicted vector\n",
        "    predicted_vector = VGG19_model.predict(bottleneck_feature)\n",
        "    # return dog breed that is predicted by the model\n",
        "    return dog_names[np.argmax(predicted_vector)]\n",
        "\n",
        "def Resnet50_predict_breed(img_path):\n",
        "    # extract bottleneck features\n",
        "    bottleneck_feature = extract_Resnet50(path_to_tensor(img_path))\n",
        "    # obtain predicted vector\n",
        "    predicted_vector = Resnet50_model.predict(bottleneck_feature)\n",
        "    # return dog breed that is predicted by the model\n",
        "    return dog_names[np.argmax(predicted_vector)]\n",
        "\n",
        "\n",
        "def Inception_predict_breed(img_path):\n",
        "    # extract bottleneck features\n",
        "    bottleneck_feature = extract_InceptionV3(path_to_tensor(img_path))\n",
        "    # obtain predicted vector\n",
        "    predicted_vector = Inception_model.predict(bottleneck_feature)\n",
        "    # return dog breed that is predicted by the model\n",
        "    return dog_names[np.argmax(predicted_vector)]\n",
        "\n",
        "def Xception_predict_breed(img_path):\n",
        "    # extract bottleneck features\n",
        "    bottleneck_feature = extract_Xception(path_to_tensor(img_path))\n",
        "    # obtain predicted vector\n",
        "    predicted_vector = Xception_model.predict(bottleneck_feature)\n",
        "    # return dog breed that is predicted by the model\n",
        "    return dog_names[np.argmax(predicted_vector)]"
      ],
      "execution_count": 0,
      "outputs": []
    },
    {
      "cell_type": "code",
      "metadata": {
        "id": "DqM8GSpI-5WJ",
        "colab_type": "code",
        "colab": {
          "base_uri": "https://localhost:8080/",
          "height": 34
        },
        "outputId": "df4479fd-339d-4e4e-b21b-0adc01456d52"
      },
      "source": [
        "stop_time = timeit.default_timer()\n",
        "\n",
        "print('Time {}'.format(stop_time-start_time))"
      ],
      "execution_count": 47,
      "outputs": [
        {
          "output_type": "stream",
          "text": [
            "Time 704.9987161329999\n"
          ],
          "name": "stdout"
        }
      ]
    },
    {
      "cell_type": "code",
      "metadata": {
        "id": "vEA6zW-PW0wZ",
        "colab_type": "code",
        "colab": {}
      },
      "source": [
        "### TODO: Write your algorithm.\n",
        "### Feel free to use as many code cells as needed.\n",
        "\n",
        "# Resnet50, Inception and Xception provides test accuracy close to each other, \n",
        "# We could provide output breed which are also multiple Golden Retriever or Chesapeake Retriever etc.\n",
        "# A function 'algo' to output the predicted breed based on each model\n",
        "# A function 'breed_function' to combine these outputs in case the models predict differen breeds\n",
        "# A function 'provide_output' to list out the text, plot the picture and list the predicted breed\n",
        "\n",
        "\n",
        "def breed_output(in1,in2,in3):\n",
        "#    potential_outputs = \" or \".join(str(e) for e in set([in1,in2,in3]))\n",
        "#    return potential_outputs\n",
        "    return set([str(in1),str(in2),str(in3)])\n",
        "\n",
        "\n",
        "\n",
        "\n",
        "def algo(img):\n",
        "    if dog_detector(img):\n",
        "        species = 'dog'\n",
        " #       output_Resnet50 = Resnet50_predict_breed(img).rsplit('.', 1)\n",
        "        output_Inception = Inception_predict_breed(img).rsplit('.', 1)\n",
        "        output_Xception = Xception_predict_breed(img).rsplit('.', 1)\n",
        "        output_VGG19 = VGG19_predict_breed(img).rsplit('.', 1)\n",
        "        \n",
        "        output = breed_output(str(output_Inception), str(output_Xception), str(output_VGG19))\n",
        "    elif face_detector(img):\n",
        "        species = 'human'\n",
        " #       output_Resnet50 = Resnet50_predict_breed(img).rsplit('.', 1)[1]\n",
        "        output_Inception = Inception_predict_breed(img).rsplit('.', 1)\n",
        "        output_Xception = Xception_predict_breed(img).rsplit('.', 1)\n",
        "        output_VGG19 = VGG19_predict_breed(img).rsplit('.', 1)\n",
        "        output = breed_output(str(output_Inception), str(output_Xception), str(output_VGG19))\n",
        "    else:\n",
        "        species = 'Neither dog nor human'\n",
        "        output = 'Error'\n",
        "    \n",
        "    \n",
        "    return species, output\n",
        "# \n",
        "\n",
        "def provide_output(input_image):\n",
        "    species, breed = algo(input_image)\n",
        "    print('Hello! {}'.format(species))\n",
        "    plt.imshow(cv2.cvtColor(cv2.imread(input_image), cv2.COLOR_BGR2RGB))\n",
        "    plt.show()\n",
        "    if breed != 'Error':\n",
        "        print('You look like {}'.format(breed))\n",
        "#    print(breed)\n",
        "    else:\n",
        "        print('Error: Unable to identify breed')"
      ],
      "execution_count": 0,
      "outputs": []
    },
    {
      "cell_type": "code",
      "metadata": {
        "id": "0NAOy4TsXVV6",
        "colab_type": "code",
        "colab": {
          "base_uri": "https://localhost:8080/",
          "height": 321
        },
        "outputId": "1c84d474-388b-418d-c64c-c40e9e7ff70d"
      },
      "source": [
        "x = human_files_short[25]\n",
        "print(x)\n",
        "provide_output(x)"
      ],
      "execution_count": 63,
      "outputs": [
        {
          "output_type": "stream",
          "text": [
            "/content/cloned-repository/lfw/Gray_Davis/Gray_Davis_0018.jpg\n",
            "Hello! human\n"
          ],
          "name": "stdout"
        },
        {
          "output_type": "display_data",
          "data": {
            "image/png": "[encoded data removed]",
            "text/plain": [
              "<Figure size 432x288 with 1 Axes>"
            ]
          },
          "metadata": {
            "tags": []
          }
        },
        {
          "output_type": "stream",
          "text": [
            "You look like {\"['alier_king_charles_spaniel']\", \"['a_scotia_duck_tolling_retriever']\", \"['lmastiff']\"}\n"
          ],
          "name": "stdout"
        }
      ]
    },
    {
      "cell_type": "code",
      "metadata": {
        "id": "zcyMshHiGtHg",
        "colab_type": "code",
        "colab": {}
      },
      "source": [
        ""
      ],
      "execution_count": 0,
      "outputs": []
    }
  ]
}