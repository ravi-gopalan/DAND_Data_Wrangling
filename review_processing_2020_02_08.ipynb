{
  "nbformat": 4,
  "nbformat_minor": 0,
  "metadata": {
    "colab": {
      "name": "review_processing_2020_02_04.ipynb",
      "provenance": [],
      "collapsed_sections": [],
      "authorship_tag": "ABX9TyPpdzwdhwm7QU0qsuvPPw9a",
      "include_colab_link": true
    },
    "kernelspec": {
      "name": "python3",
      "display_name": "Python 3"
    },
    "accelerator": "GPU"
  },
  "cells": [
    {
      "cell_type": "markdown",
      "metadata": {
        "id": "view-in-github",
        "colab_type": "text"
      },
      "source": [
        "<a href=\"https://colab.research.google.com/github/ravi-gopalan/DAND_Data_Wrangling/blob/master/review_processing_2020_02_08.ipynb\" target=\"_parent\"><img src=\"https://colab.research.google.com/assets/colab-badge.svg\" alt=\"Open In Colab\"/></a>"
      ]
    },
    {
      "cell_type": "markdown",
      "metadata": {
        "id": "5FU6bkNxN-UT",
        "colab_type": "text"
      },
      "source": [
        ""
      ]
    },
    {
      "cell_type": "code",
      "metadata": {
        "id": "5PehMbIWNx4u",
        "colab_type": "code",
        "outputId": "22a6f28e-ad1a-48f8-a02a-57bde1e763e8",
        "colab": {
          "base_uri": "https://localhost:8080/",
          "height": 141
        }
      },
      "source": [
        "from google.colab import drive\n",
        "drive.mount('/gdrive')\n",
        "%cd /gdrive"
      ],
      "execution_count": 1,
      "outputs": [
        {
          "output_type": "stream",
          "text": [
            "Go to this URL in a browser: https://accounts.google.com/o/oauth2/auth?client_id=947318989803-6bn6qk8qdgf4n4g3pfee6491hc0brc4i.apps.googleusercontent.com&redirect_uri=urn%3aietf%3awg%3aoauth%3a2.0%3aoob&response_type=code&scope=email%20https%3a%2f%2fwww.googleapis.com%2fauth%2fdocs.test%20https%3a%2f%2fwww.googleapis.com%2fauth%2fdrive%20https%3a%2f%2fwww.googleapis.com%2fauth%2fdrive.photos.readonly%20https%3a%2f%2fwww.googleapis.com%2fauth%2fpeopleapi.readonly\n",
            "\n",
            "Enter your authorization code:\n",
            "··········\n",
            "Mounted at /gdrive\n",
            "/gdrive\n"
          ],
          "name": "stdout"
        }
      ]
    },
    {
      "cell_type": "code",
      "metadata": {
        "id": "tsi9laZ_N_7C",
        "colab_type": "code",
        "outputId": "6b93ddb1-589f-43a4-eb0d-3836ff5679fb",
        "colab": {
          "base_uri": "https://localhost:8080/",
          "height": 34
        }
      },
      "source": [
        "cd '/gdrive/My Drive/abv_reviews'"
      ],
      "execution_count": 2,
      "outputs": [
        {
          "output_type": "stream",
          "text": [
            "/gdrive/My Drive/abv_reviews\n"
          ],
          "name": "stdout"
        }
      ]
    },
    {
      "cell_type": "code",
      "metadata": {
        "id": "BdGUNLxXOPMp",
        "colab_type": "code",
        "outputId": "546abb14-43d7-40a7-b7c9-4c294d5e3f4d",
        "colab": {
          "base_uri": "https://localhost:8080/",
          "height": 852
        }
      },
      "source": [
        "!pip install -U spacy[cuda100]"
      ],
      "execution_count": 3,
      "outputs": [
        {
          "output_type": "stream",
          "text": [
            "Collecting spacy[cuda100]\n",
            "\u001b[?25l  Downloading https://files.pythonhosted.org/packages/47/13/80ad28ef7a16e2a86d16d73e28588be5f1085afd3e85e4b9b912bd700e8a/spacy-2.2.3-cp36-cp36m-manylinux1_x86_64.whl (10.4MB)\n",
            "\u001b[K     |████████████████████████████████| 10.4MB 84kB/s \n",
            "\u001b[?25hRequirement already satisfied, skipping upgrade: plac<1.2.0,>=0.9.6 in /usr/local/lib/python3.6/dist-packages (from spacy[cuda100]) (0.9.6)\n",
            "Requirement already satisfied, skipping upgrade: srsly<1.1.0,>=0.1.0 in /usr/local/lib/python3.6/dist-packages (from spacy[cuda100]) (1.0.1)\n",
            "Collecting thinc<7.4.0,>=7.3.0\n",
            "\u001b[?25l  Downloading https://files.pythonhosted.org/packages/07/59/6bb553bc9a5f072d3cd479fc939fea0f6f682892f1f5cff98de5c9b615bb/thinc-7.3.1-cp36-cp36m-manylinux1_x86_64.whl (2.2MB)\n",
            "\u001b[K     |████████████████████████████████| 2.2MB 42.5MB/s \n",
            "\u001b[?25hRequirement already satisfied, skipping upgrade: setuptools in /usr/local/lib/python3.6/dist-packages (from spacy[cuda100]) (45.1.0)\n",
            "Collecting preshed<3.1.0,>=3.0.2\n",
            "\u001b[?25l  Downloading https://files.pythonhosted.org/packages/db/6b/e07fad36913879757c90ba03d6fb7f406f7279e11dcefc105ee562de63ea/preshed-3.0.2-cp36-cp36m-manylinux1_x86_64.whl (119kB)\n",
            "\u001b[K     |████████████████████████████████| 122kB 46.7MB/s \n",
            "\u001b[?25hRequirement already satisfied, skipping upgrade: requests<3.0.0,>=2.13.0 in /usr/local/lib/python3.6/dist-packages (from spacy[cuda100]) (2.21.0)\n",
            "Collecting blis<0.5.0,>=0.4.0\n",
            "\u001b[?25l  Downloading https://files.pythonhosted.org/packages/41/19/f95c75562d18eb27219df3a3590b911e78d131b68466ad79fdf5847eaac4/blis-0.4.1-cp36-cp36m-manylinux1_x86_64.whl (3.7MB)\n",
            "\u001b[K     |████████████████████████████████| 3.7MB 40.7MB/s \n",
            "\u001b[?25hRequirement already satisfied, skipping upgrade: wasabi<1.1.0,>=0.4.0 in /usr/local/lib/python3.6/dist-packages (from spacy[cuda100]) (0.6.0)\n",
            "Collecting catalogue<1.1.0,>=0.0.7\n",
            "  Downloading https://files.pythonhosted.org/packages/6c/f9/9a5658e2f56932e41eb264941f9a2cb7f3ce41a80cb36b2af6ab78e2f8af/catalogue-1.0.0-py2.py3-none-any.whl\n",
            "Requirement already satisfied, skipping upgrade: murmurhash<1.1.0,>=0.28.0 in /usr/local/lib/python3.6/dist-packages (from spacy[cuda100]) (1.0.2)\n",
            "Requirement already satisfied, skipping upgrade: cymem<2.1.0,>=2.0.2 in /usr/local/lib/python3.6/dist-packages (from spacy[cuda100]) (2.0.3)\n",
            "Requirement already satisfied, skipping upgrade: numpy>=1.15.0 in /usr/local/lib/python3.6/dist-packages (from spacy[cuda100]) (1.17.5)\n",
            "Collecting cupy-cuda100>=5.0.0b4; extra == \"cuda100\"\n",
            "\u001b[?25l  Downloading https://files.pythonhosted.org/packages/60/d5/e045963d8412e933fdc78dd31dce1be2376226734dfeda6a64379617a704/cupy_cuda100-7.1.1-cp36-cp36m-manylinux1_x86_64.whl (382.9MB)\n",
            "\u001b[K     |████████████████████████████████| 382.9MB 48kB/s \n",
            "\u001b[?25hRequirement already satisfied, skipping upgrade: tqdm<5.0.0,>=4.10.0 in /usr/local/lib/python3.6/dist-packages (from thinc<7.4.0,>=7.3.0->spacy[cuda100]) (4.28.1)\n",
            "Requirement already satisfied, skipping upgrade: certifi>=2017.4.17 in /usr/local/lib/python3.6/dist-packages (from requests<3.0.0,>=2.13.0->spacy[cuda100]) (2019.11.28)\n",
            "Requirement already satisfied, skipping upgrade: idna<2.9,>=2.5 in /usr/local/lib/python3.6/dist-packages (from requests<3.0.0,>=2.13.0->spacy[cuda100]) (2.8)\n",
            "Requirement already satisfied, skipping upgrade: chardet<3.1.0,>=3.0.2 in /usr/local/lib/python3.6/dist-packages (from requests<3.0.0,>=2.13.0->spacy[cuda100]) (3.0.4)\n",
            "Requirement already satisfied, skipping upgrade: urllib3<1.25,>=1.21.1 in /usr/local/lib/python3.6/dist-packages (from requests<3.0.0,>=2.13.0->spacy[cuda100]) (1.24.3)\n",
            "Requirement already satisfied, skipping upgrade: importlib-metadata>=0.20; python_version < \"3.8\" in /usr/local/lib/python3.6/dist-packages (from catalogue<1.1.0,>=0.0.7->spacy[cuda100]) (1.5.0)\n",
            "Requirement already satisfied, skipping upgrade: fastrlock>=0.3 in /usr/local/lib/python3.6/dist-packages (from cupy-cuda100>=5.0.0b4; extra == \"cuda100\"->spacy[cuda100]) (0.4)\n",
            "Requirement already satisfied, skipping upgrade: six>=1.9.0 in /usr/local/lib/python3.6/dist-packages (from cupy-cuda100>=5.0.0b4; extra == \"cuda100\"->spacy[cuda100]) (1.12.0)\n",
            "Requirement already satisfied, skipping upgrade: zipp>=0.5 in /usr/local/lib/python3.6/dist-packages (from importlib-metadata>=0.20; python_version < \"3.8\"->catalogue<1.1.0,>=0.0.7->spacy[cuda100]) (2.1.0)\n",
            "Installing collected packages: preshed, blis, thinc, catalogue, cupy-cuda100, spacy\n",
            "  Found existing installation: preshed 2.0.1\n",
            "    Uninstalling preshed-2.0.1:\n",
            "      Successfully uninstalled preshed-2.0.1\n",
            "  Found existing installation: blis 0.2.4\n",
            "    Uninstalling blis-0.2.4:\n",
            "      Successfully uninstalled blis-0.2.4\n",
            "  Found existing installation: thinc 7.0.8\n",
            "    Uninstalling thinc-7.0.8:\n",
            "      Successfully uninstalled thinc-7.0.8\n",
            "  Found existing installation: spacy 2.1.9\n",
            "    Uninstalling spacy-2.1.9:\n",
            "      Successfully uninstalled spacy-2.1.9\n",
            "Successfully installed blis-0.4.1 catalogue-1.0.0 cupy-cuda100-7.1.1 preshed-3.0.2 spacy-2.2.3 thinc-7.3.1\n"
          ],
          "name": "stdout"
        }
      ]
    },
    {
      "cell_type": "code",
      "metadata": {
        "id": "oz-V1k56OSc5",
        "colab_type": "code",
        "outputId": "d42332d0-4815-43a7-b98b-19c2dcc17933",
        "colab": {
          "base_uri": "https://localhost:8080/",
          "height": 747
        }
      },
      "source": [
        "!pip install textdistance\n",
        "!pip install \"textdistance[extras]\"\n"
      ],
      "execution_count": 4,
      "outputs": [
        {
          "output_type": "stream",
          "text": [
            "Collecting textdistance\n",
            "  Downloading https://files.pythonhosted.org/packages/3f/18/31397b687f50ffae65469175f07faa68f288e27fcd8716276004c42e5637/textdistance-4.1.5-py3-none-any.whl\n",
            "Installing collected packages: textdistance\n",
            "Successfully installed textdistance-4.1.5\n",
            "Requirement already satisfied: textdistance[extras] in /usr/local/lib/python3.6/dist-packages (4.1.5)\n",
            "Collecting abydos; extra == \"extras\"\n",
            "\u001b[?25l  Downloading https://files.pythonhosted.org/packages/7f/a5/ca258a571997be1c9483d6075bbc1b9487ae80f3bb3bf1f60db0b29f5aa6/abydos-0.5.0-py2.py3-none-any.whl (886kB)\n",
            "\u001b[K     |████████████████████████████████| 890kB 7.0MB/s \n",
            "\u001b[?25hRequirement already satisfied: numpy; extra == \"extras\" in /usr/local/lib/python3.6/dist-packages (from textdistance[extras]) (1.17.5)\n",
            "Collecting jellyfish; extra == \"extras\"\n",
            "\u001b[?25l  Downloading https://files.pythonhosted.org/packages/3f/80/bcacc7affb47be7279d7d35225e1a932416ed051b315a7f9df20acf04cbe/jellyfish-0.7.2.tar.gz (133kB)\n",
            "\u001b[K     |████████████████████████████████| 143kB 12.8MB/s \n",
            "\u001b[?25hCollecting pyxDamerauLevenshtein; extra == \"extras\"\n",
            "\u001b[?25l  Downloading https://files.pythonhosted.org/packages/b5/54/2d398545cae80d2fc8444345542ad5f3ffab0694c8efb8ed2fbe92017305/pyxDamerauLevenshtein-1.5.3.tar.gz (58kB)\n",
            "\u001b[K     |████████████████████████████████| 61kB 6.6MB/s \n",
            "\u001b[?25h  Installing build dependencies ... \u001b[?25l\u001b[?25hdone\n",
            "  Getting requirements to build wheel ... \u001b[?25l\u001b[?25hdone\n",
            "    Preparing wheel metadata ... \u001b[?25l\u001b[?25hdone\n",
            "Collecting python-Levenshtein; extra == \"extras\"\n",
            "\u001b[?25l  Downloading https://files.pythonhosted.org/packages/42/a9/d1785c85ebf9b7dfacd08938dd028209c34a0ea3b1bcdb895208bd40a67d/python-Levenshtein-0.12.0.tar.gz (48kB)\n",
            "\u001b[K     |████████████████████████████████| 51kB 5.8MB/s \n",
            "\u001b[?25hCollecting deprecation\n",
            "  Downloading https://files.pythonhosted.org/packages/b9/2a/d5084a8781398cea745c01237b95d9762c382697c63760a95cc6a814ad3a/deprecation-2.0.7-py2.py3-none-any.whl\n",
            "Requirement already satisfied: setuptools in /usr/local/lib/python3.6/dist-packages (from python-Levenshtein; extra == \"extras\"->textdistance[extras]) (45.1.0)\n",
            "Requirement already satisfied: packaging in /usr/local/lib/python3.6/dist-packages (from deprecation->abydos; extra == \"extras\"->textdistance[extras]) (20.1)\n",
            "Requirement already satisfied: six in /usr/local/lib/python3.6/dist-packages (from packaging->deprecation->abydos; extra == \"extras\"->textdistance[extras]) (1.12.0)\n",
            "Requirement already satisfied: pyparsing>=2.0.2 in /usr/local/lib/python3.6/dist-packages (from packaging->deprecation->abydos; extra == \"extras\"->textdistance[extras]) (2.4.6)\n",
            "Building wheels for collected packages: pyxDamerauLevenshtein\n",
            "  Building wheel for pyxDamerauLevenshtein (PEP 517) ... \u001b[?25l\u001b[?25hdone\n",
            "  Created wheel for pyxDamerauLevenshtein: filename=pyxDamerauLevenshtein-1.5.3-cp36-cp36m-linux_x86_64.whl size=86809 sha256=b8f29f66b86c59aa69ff61e2d8ef1d36c24f2fe05ddbfee08374cf2e83d2771f\n",
            "  Stored in directory: /root/.cache/pip/wheels/37/66/2c/863e33407d169ea809ce2908e86556df205dcf5edc4bdd10a5\n",
            "Successfully built pyxDamerauLevenshtein\n",
            "Building wheels for collected packages: jellyfish, python-Levenshtein\n",
            "  Building wheel for jellyfish (setup.py) ... \u001b[?25l\u001b[?25hdone\n",
            "  Created wheel for jellyfish: filename=jellyfish-0.7.2-cp36-cp36m-linux_x86_64.whl size=72995 sha256=66988a8c79859e05e856049ed491374472990ca84bacac024715c2baf219f027\n",
            "  Stored in directory: /root/.cache/pip/wheels/e8/fe/99/d8fa8f2ef7b82a625b0b77a84d319b0b50693659823c4effb4\n",
            "  Building wheel for python-Levenshtein (setup.py) ... \u001b[?25l\u001b[?25hdone\n",
            "  Created wheel for python-Levenshtein: filename=python_Levenshtein-0.12.0-cp36-cp36m-linux_x86_64.whl size=144667 sha256=0ab3a24e367f822355e9e76dbc80c13eb444030642d5be89523bef3ac8ca1faa\n",
            "  Stored in directory: /root/.cache/pip/wheels/de/c2/93/660fd5f7559049268ad2dc6d81c4e39e9e36518766eaf7e342\n",
            "Successfully built jellyfish python-Levenshtein\n",
            "Installing collected packages: deprecation, abydos, jellyfish, pyxDamerauLevenshtein, python-Levenshtein\n",
            "Successfully installed abydos-0.5.0 deprecation-2.0.7 jellyfish-0.7.2 python-Levenshtein-0.12.0 pyxDamerauLevenshtein-1.5.3\n"
          ],
          "name": "stdout"
        }
      ]
    },
    {
      "cell_type": "code",
      "metadata": {
        "id": "Bkc1dnd08gOl",
        "colab_type": "code",
        "outputId": "c810a2a0-d813-4cfa-cc16-18977887b9c2",
        "colab": {
          "base_uri": "https://localhost:8080/",
          "height": 34
        }
      },
      "source": [
        ""
      ],
      "execution_count": 5,
      "outputs": [
        {
          "output_type": "stream",
          "text": [
            "Requirement already satisfied: jellyfish in /usr/local/lib/python3.6/dist-packages (0.7.2)\n"
          ],
          "name": "stdout"
        }
      ]
    },
    {
      "cell_type": "code",
      "metadata": {
        "id": "ySLfuupmObpH",
        "colab_type": "code",
        "outputId": "c187b26a-5467-4b56-93eb-b6fad147746e",
        "colab": {
          "base_uri": "https://localhost:8080/",
          "height": 138
        }
      },
      "source": [
        "import spacy.cli\n",
        "spacy.cli.download(\"en_core_web_lg\")\n",
        "import en_core_web_lg"
      ],
      "execution_count": 5,
      "outputs": [
        {
          "output_type": "stream",
          "text": [
            "\u001b[38;5;3m⚠ Skipping model package dependencies and setting `--no-deps`. You\n",
            "don't seem to have the spaCy package itself installed (maybe because you've\n",
            "built from source?), so installing the model dependencies would cause spaCy to\n",
            "be downloaded, which probably isn't what you want. If the model package has\n",
            "other dependencies, you'll have to install them manually.\u001b[0m\n",
            "\u001b[38;5;2m✔ Download and installation successful\u001b[0m\n",
            "You can now load the model via spacy.load('en_core_web_lg')\n"
          ],
          "name": "stdout"
        }
      ]
    },
    {
      "cell_type": "code",
      "metadata": {
        "id": "_dSKj9yjOiKg",
        "colab_type": "code",
        "colab": {}
      },
      "source": [
        "import pandas as pd\n",
        "import numpy as np\n",
        "import warnings\n",
        "warnings.filterwarnings(\"ignore\")\n",
        "import re\n",
        "import random\n",
        "import srsly\n",
        "import json\n",
        "import spacy\n",
        "from spacy.lang.en import English\n",
        "from spacy.pipeline import EntityRuler\n",
        "from spacy import displacy\n",
        "from spacy.util import minibatch, compounding, decaying\n",
        "from pandas.io.json import json_normalize\n",
        "from spacy.gold import docs_to_json, biluo_tags_from_offsets, offsets_from_biluo_tags\n",
        "from spacy.matcher import Matcher \n",
        "from spacy.tokens import Span\n",
        "\n",
        "import itertools\n",
        "from collections import Counter\n",
        "\n",
        "import matplotlib.pyplot as plt\n",
        "%matplotlib inline\n",
        "\n",
        "import seaborn as sns"
      ],
      "execution_count": 0,
      "outputs": []
    },
    {
      "cell_type": "code",
      "metadata": {
        "id": "MfGh8ECU8slU",
        "colab_type": "code",
        "colab": {}
      },
      "source": [
        "import textdistance as td\n",
        "import jellyfish as jf"
      ],
      "execution_count": 0,
      "outputs": []
    },
    {
      "cell_type": "code",
      "metadata": {
        "id": "FL_KnneYOpYx",
        "colab_type": "code",
        "outputId": "cc0ed2ef-76c2-4f58-8aa2-27d6d41b1729",
        "colab": {
          "base_uri": "https://localhost:8080/",
          "height": 34
        }
      },
      "source": [
        "spacy.prefer_gpu()"
      ],
      "execution_count": 8,
      "outputs": [
        {
          "output_type": "execute_result",
          "data": {
            "text/plain": [
              "True"
            ]
          },
          "metadata": {
            "tags": []
          },
          "execution_count": 8
        }
      ]
    },
    {
      "cell_type": "code",
      "metadata": {
        "id": "JrpyvHlMPrRM",
        "colab_type": "code",
        "colab": {}
      },
      "source": [
        "def cleanse_text(text):\n",
        "  step1 = re.sub(r\"(\\{'LOWER':\\s)\",r\"\",str(text))\n",
        "  step2 = re.sub(r\"[\\[{\\'\\,\\\"}\\]]\",r\"\",step1)\n",
        "  return step2\n",
        "\n",
        "def trim_entity_spans(data: list) -> list:\n",
        "    \"\"\"Removes leading and trailing white spaces from entity spans.\n",
        "\n",
        "    Args:\n",
        "        data (list): The data to be cleaned in spaCy JSON format.\n",
        "\n",
        "    Returns:\n",
        "        list: The cleaned data.\n",
        "    \"\"\"\n",
        "    invalid_span_tokens = re.compile(r'\\s')\n",
        "\n",
        "    cleaned_data = []\n",
        "    for text, annotations in data:\n",
        "        entities = annotations['entities']\n",
        "\n",
        "#        print(text, annotations)\n",
        "        valid_entities = []\n",
        "        for start, end, label in entities:\n",
        "          valid_start = start\n",
        "          valid_end = end\n",
        "#          print(valid_start, valid_end, len(text))\n",
        "          while valid_start < len(text) and invalid_span_tokens.match(text[valid_start]):\n",
        "            valid_start += 1\n",
        "          while valid_end > 1 and invalid_span_tokens.match(text[valid_end - 1]):\n",
        "            valid_end -= 1\n",
        "          valid_entities.append([valid_start, valid_end, label])\n",
        "        cleaned_data.append([text, {'entities': valid_entities}])\n",
        "\n",
        "    return cleaned_data\n",
        "\n",
        "def dump_jsonl(data, output_path, append=False):\n",
        "    \"\"\"\n",
        "    Write list of objects to a JSON lines file.\n",
        "    \"\"\"\n",
        "    mode = 'a+' if append else 'w'\n",
        "    with open(output_path, mode, encoding='utf-8') as f:\n",
        "        for line in data:\n",
        "            json_record = json.dumps(line, ensure_ascii=False)\n",
        "            f.write(json_record + '\\n')\n",
        "    print('Wrote {} records to {}'.format(len(data), output_path))\n",
        "\n",
        "def load_jsonl(input_path) -> list:\n",
        "    \"\"\"\n",
        "    Read list of objects from a JSON lines file.\n",
        "    \"\"\"\n",
        "    data = []\n",
        "    with open(input_path, 'r', encoding='utf-8') as f:\n",
        "        for line in f:\n",
        "            data.append(json.loads(line.rstrip('\\n|\\r')))\n",
        "    print('Loaded {} records from {}'.format(len(data), input_path))\n",
        "    return data\n",
        "\n",
        "\n",
        "def create_entity_pattern(ent_name, ent_label):\n",
        "  pattern_list = []\n",
        "  pattern_dict = {}\n",
        "  id_str = ''\n",
        "  for word in ent_name.lower().split():\n",
        "    token_dict = {}\n",
        "    token_dict['LOWER'] = word\n",
        "    pattern_list.append(token_dict)\n",
        "    id_str += '_' + word\n",
        "  if ent_label[:2] == 'U_':\n",
        "    pattern_dict['label'] = ent_label[2:]\n",
        "  else:\n",
        "    pattern_dict['label'] = ent_label  \n",
        "  pattern_dict['pattern'] = pattern_list\n",
        "  if id_str[0] == '_':\n",
        "    id_str = id_str[1:]\n",
        "  pattern_dict['id'] = id_str\n",
        "  return pattern_dict\n",
        "\n",
        "\n",
        "def clean_like_objects(text):\n",
        "  step1 = re.sub(\"ObjectId\\(\\'\",\"\",str(text))\n",
        "  step2 = re.sub(\"\\'\\)\",\"\",step1)\n",
        "  return step2\n"
      ],
      "execution_count": 0,
      "outputs": []
    },
    {
      "cell_type": "code",
      "metadata": {
        "id": "KWZ_yLzaPx29",
        "colab_type": "code",
        "colab": {}
      },
      "source": [
        "!cat beverage.jsonl bread.jsonl card_date_event_fac.jsonl > test1.jsonl\n",
        "!cat condiment.jsonl dish.jsonl event_food_habit.jsonl > test2.jsonl\n",
        "!cat fruit.jsonl herb_lifestyle_meal.jsonl loc_money_norp_ordinal.jsonl > test3.jsonl\n",
        "!cat org_product.jsonl pastry_seed_spice.jsonl quant_time.jsonl > test4.jsonl\n",
        "\n",
        "!cat test1.jsonl test2.jsonl test3.jsonl test4.jsonl > test5.jsonl\n",
        "!cat test5.jsonl updated_GPE.jsonl partner.jsonl vegetable.jsonl > patterns_2020_02_08.jsonl"
      ],
      "execution_count": 0,
      "outputs": []
    },
    {
      "cell_type": "code",
      "metadata": {
        "id": "OM8cwm9nIV6E",
        "colab_type": "code",
        "outputId": "edc5cac1-0d7e-44d0-e32b-e83cca284446",
        "colab": {
          "base_uri": "https://localhost:8080/",
          "height": 382
        }
      },
      "source": [
        "!ls -l p*.jsonl"
      ],
      "execution_count": 11,
      "outputs": [
        {
          "output_type": "stream",
          "text": [
            "-rw------- 1 root root   13605 Feb  9 15:07 partner.jsonl\n",
            "-rw------- 1 root root   18045 Dec 26 16:46 pastries_list.jsonl\n",
            "-rw------- 1 root root   42724 Feb  9 15:07 pastry_seed_spice.jsonl\n",
            "-rw------- 1 root root    2365 Dec 26 18:11 pattern_bread.jsonl\n",
            "-rw------- 1 root root    4609 Dec 26 18:11 pattern_condiment.jsonl\n",
            "-rw------- 1 root root    5397 Dec 26 18:11 pattern_fruit.jsonl\n",
            "-rw------- 1 root root    3946 Dec 26 18:11 pattern_herb.jsonl\n",
            "-rw------- 1 root root    1700 Dec 26 18:11 pattern_pastry.jsonl\n",
            "-rw------- 1 root root 1926737 Feb  1 18:09 patterns_2019_02_01.jsonl\n",
            "-rw------- 1 root root  529064 Dec 26 14:49 patterns_2019_12_26.jsonl\n",
            "-rw------- 1 root root  589611 Jan  8 14:35 patterns_2020_01_08.jsonl\n",
            "-rw------- 1 root root 1833961 Jan 27 08:01 patterns_2020_01_27.jsonl\n",
            "-rw------- 1 root root 1969569 Jan 28 07:44 patterns_2020_01_28.jsonl\n",
            "-rw------- 1 root root 2044991 Jan 29 03:37 patterns_2020_01_29.jsonl\n",
            "-rw------- 1 root root 2022004 Jan 30 16:01 patterns_2020_01_30.jsonl\n",
            "-rw------- 1 root root 1991272 Jan 31 09:57 patterns_2020_01_31.jsonl\n",
            "-rw------- 1 root root 1933009 Feb  4 03:18 patterns_2020_02_01.jsonl\n",
            "-rw------- 1 root root 1933009 Feb  5 08:42 patterns_2020_02_04.jsonl\n",
            "-rw------- 1 root root 1977338 Feb  9 15:13 patterns_2020_02_08.jsonl\n",
            "-rw------- 1 root root    6749 Dec 26 18:11 pattern_spice.jsonl\n",
            "-rw------- 1 root root    9140 Dec 26 18:11 pattern_vegetable.jsonl\n"
          ],
          "name": "stdout"
        }
      ]
    },
    {
      "cell_type": "code",
      "metadata": {
        "id": "5IiKKbSPd0R7",
        "colab_type": "code",
        "outputId": "3e4e471a-1f69-4656-cde5-b61a48c34c02",
        "colab": {
          "base_uri": "https://localhost:8080/",
          "height": 34
        }
      },
      "source": [
        "df_temp = pd.read_json('test5.jsonl',lines=True)\n",
        "df_temp.head()\n",
        "df_temp.shape"
      ],
      "execution_count": 42,
      "outputs": [
        {
          "output_type": "execute_result",
          "data": {
            "text/plain": [
              "(9216, 3)"
            ]
          },
          "metadata": {
            "tags": []
          },
          "execution_count": 42
        }
      ]
    },
    {
      "cell_type": "code",
      "metadata": {
        "id": "eDoE89xB999n",
        "colab_type": "code",
        "colab": {}
      },
      "source": [
        ""
      ],
      "execution_count": 0,
      "outputs": []
    },
    {
      "cell_type": "code",
      "metadata": {
        "id": "RURDTL_bQWco",
        "colab_type": "code",
        "outputId": "6dbfa12d-38be-4656-ead0-ac6158ef1d4c",
        "colab": {
          "base_uri": "https://localhost:8080/",
          "height": 197
        }
      },
      "source": [
        "df_pattern = pd.read_json('patterns_2020_02_08.jsonl',lines=True)\n",
        "df_pattern['cleaned_pattern'] = df_pattern.pattern.apply(lambda x: cleanse_text(x))\n",
        "df_pattern['label'] = 'U_' + df_pattern.label.astype(str)\n",
        "df_pattern['tup_col'] = list(zip(df_pattern.cleaned_pattern, df_pattern.label))\n",
        "df_pattern['merged'] = df_pattern.apply(lambda row: {row['cleaned_pattern']:row['label']}, axis=1)\n",
        "df_pattern.head()\n",
        "df_pattern.tail()"
      ],
      "execution_count": 12,
      "outputs": [
        {
          "output_type": "execute_result",
          "data": {
            "text/html": [
              "<div>\n",
              "<style scoped>\n",
              "    .dataframe tbody tr th:only-of-type {\n",
              "        vertical-align: middle;\n",
              "    }\n",
              "\n",
              "    .dataframe tbody tr th {\n",
              "        vertical-align: top;\n",
              "    }\n",
              "\n",
              "    .dataframe thead th {\n",
              "        text-align: right;\n",
              "    }\n",
              "</style>\n",
              "<table border=\"1\" class=\"dataframe\">\n",
              "  <thead>\n",
              "    <tr style=\"text-align: right;\">\n",
              "      <th></th>\n",
              "      <th>label</th>\n",
              "      <th>pattern</th>\n",
              "      <th>id</th>\n",
              "      <th>cleaned_pattern</th>\n",
              "      <th>tup_col</th>\n",
              "      <th>merged</th>\n",
              "    </tr>\n",
              "  </thead>\n",
              "  <tbody>\n",
              "    <tr>\n",
              "      <th>22511</th>\n",
              "      <td>U_vegetable</td>\n",
              "      <td>[{'LOWER': 'zucchini'}]</td>\n",
              "      <td>zucchini</td>\n",
              "      <td>zucchini</td>\n",
              "      <td>(zucchini, U_vegetable)</td>\n",
              "      <td>{'zucchini': 'U_vegetable'}</td>\n",
              "    </tr>\n",
              "    <tr>\n",
              "      <th>22512</th>\n",
              "      <td>U_vegetable</td>\n",
              "      <td>[{'LOWER': 'zucchinis'}]</td>\n",
              "      <td>zucchini</td>\n",
              "      <td>zucchinis</td>\n",
              "      <td>(zucchinis, U_vegetable)</td>\n",
              "      <td>{'zucchinis': 'U_vegetable'}</td>\n",
              "    </tr>\n",
              "    <tr>\n",
              "      <th>22513</th>\n",
              "      <td>U_vegetable</td>\n",
              "      <td>[{'LOWER': 'zuccini'}]</td>\n",
              "      <td>zucchini</td>\n",
              "      <td>zuccini</td>\n",
              "      <td>(zuccini, U_vegetable)</td>\n",
              "      <td>{'zuccini': 'U_vegetable'}</td>\n",
              "    </tr>\n",
              "    <tr>\n",
              "      <th>22514</th>\n",
              "      <td>U_vegetable</td>\n",
              "      <td>[{'LOWER': 'zuchini'}]</td>\n",
              "      <td>zucchini</td>\n",
              "      <td>zuchini</td>\n",
              "      <td>(zuchini, U_vegetable)</td>\n",
              "      <td>{'zuchini': 'U_vegetable'}</td>\n",
              "    </tr>\n",
              "    <tr>\n",
              "      <th>22515</th>\n",
              "      <td>U_vegetable</td>\n",
              "      <td>[{'LOWER': 'zuchinni'}]</td>\n",
              "      <td>zucchini</td>\n",
              "      <td>zuchinni</td>\n",
              "      <td>(zuchinni, U_vegetable)</td>\n",
              "      <td>{'zuchinni': 'U_vegetable'}</td>\n",
              "    </tr>\n",
              "  </tbody>\n",
              "</table>\n",
              "</div>"
            ],
            "text/plain": [
              "             label  ...                        merged\n",
              "22511  U_vegetable  ...   {'zucchini': 'U_vegetable'}\n",
              "22512  U_vegetable  ...  {'zucchinis': 'U_vegetable'}\n",
              "22513  U_vegetable  ...    {'zuccini': 'U_vegetable'}\n",
              "22514  U_vegetable  ...    {'zuchini': 'U_vegetable'}\n",
              "22515  U_vegetable  ...   {'zuchinni': 'U_vegetable'}\n",
              "\n",
              "[5 rows x 6 columns]"
            ]
          },
          "metadata": {
            "tags": []
          },
          "execution_count": 12
        }
      ]
    },
    {
      "cell_type": "code",
      "metadata": {
        "id": "-xuYlLqIQa-A",
        "colab_type": "code",
        "colab": {}
      },
      "source": [
        "ent_list = df_pattern.tup_col.to_list()"
      ],
      "execution_count": 0,
      "outputs": []
    },
    {
      "cell_type": "code",
      "metadata": {
        "id": "JWPGy_doQhnW",
        "colab_type": "code",
        "colab": {}
      },
      "source": [
        "nlp = en_core_web_lg.load()"
      ],
      "execution_count": 0,
      "outputs": []
    },
    {
      "cell_type": "code",
      "metadata": {
        "id": "xOUn_kULQkF8",
        "colab_type": "code",
        "outputId": "716eb2f3-1c35-4a06-ea92-471aafe14ef2",
        "colab": {
          "base_uri": "https://localhost:8080/",
          "height": 34
        }
      },
      "source": [
        "ruler = EntityRuler(nlp).from_disk(\"patterns_2020_02_08.jsonl\")\n",
        "nlp.add_pipe(ruler, before='ner')\n",
        "merge_ents = nlp.create_pipe(\"merge_entities\")\n",
        "nlp.add_pipe(merge_ents, after='ner')\n",
        "nlp.pipe_names"
      ],
      "execution_count": 15,
      "outputs": [
        {
          "output_type": "execute_result",
          "data": {
            "text/plain": [
              "['tagger', 'parser', 'entity_ruler', 'ner', 'merge_entities']"
            ]
          },
          "metadata": {
            "tags": []
          },
          "execution_count": 15
        }
      ]
    },
    {
      "cell_type": "code",
      "metadata": {
        "id": "TSE1HcfiQord",
        "colab_type": "code",
        "outputId": "006efb05-90c6-4362-97ef-027f672d114f",
        "colab": {
          "base_uri": "https://localhost:8080/",
          "height": 591
        }
      },
      "source": [
        "reviews = pd.read_csv('full_reviews.csv',usecols=['_id', 'createdAt','text',\\\n",
        "                                                  'overall','originality','value','nutrition','presentation','taste',\\\n",
        "                                                  'type','user','user_info.name','user_info.username','user_info.home',\\\n",
        "                                                  'user_info.language','user_info.reviewKarma.total.score',\\\n",
        "                                                  'user_info.likedArticlesCount','user_info.likedReviewsCount',\\\n",
        "                                                  'user_info.followersCount','user_info.challengeReviews',\\\n",
        "                                                  'dish','dish_info.name','type',\\\n",
        "                                                  'restaurant','restaurant_name','restaurant_website','restaurant_country','restaurant_locality',\\\n",
        "                                                  'likes'])\n",
        "reviews['createdAt'] = pd.to_datetime(reviews['createdAt'],format='%Y-%m-%d %H:%M:%S.%f')\n",
        "\n",
        "reviews.info()\n"
      ],
      "execution_count": 16,
      "outputs": [
        {
          "output_type": "stream",
          "text": [
            "<class 'pandas.core.frame.DataFrame'>\n",
            "RangeIndex: 92797 entries, 0 to 92796\n",
            "Data columns (total 28 columns):\n",
            "_id                                  92797 non-null object\n",
            "likes                                92797 non-null object\n",
            "user                                 92797 non-null object\n",
            "text                                 92797 non-null object\n",
            "type                                 92797 non-null object\n",
            "restaurant                           92797 non-null object\n",
            "dish                                 92797 non-null object\n",
            "taste                                92797 non-null int64\n",
            "presentation                         92797 non-null int64\n",
            "nutrition                            92797 non-null int64\n",
            "originality                          92797 non-null int64\n",
            "value                                92797 non-null int64\n",
            "overall                              92797 non-null float64\n",
            "createdAt                            92797 non-null datetime64[ns]\n",
            "user_info.name                       92797 non-null object\n",
            "user_info.likedArticlesCount         92797 non-null int64\n",
            "user_info.followersCount             92797 non-null int64\n",
            "user_info.likedReviewsCount          92797 non-null int64\n",
            "user_info.challengeReviews           92797 non-null int64\n",
            "user_info.username                   92797 non-null object\n",
            "user_info.language                   75892 non-null object\n",
            "user_info.home                       89593 non-null object\n",
            "user_info.reviewKarma.total.score    92797 non-null int64\n",
            "dish_info.name                       92797 non-null object\n",
            "restaurant_name                      92797 non-null object\n",
            "restaurant_country                   92786 non-null object\n",
            "restaurant_website                   82077 non-null object\n",
            "restaurant_locality                  73380 non-null object\n",
            "dtypes: datetime64[ns](1), float64(1), int64(10), object(16)\n",
            "memory usage: 19.8+ MB\n"
          ],
          "name": "stdout"
        }
      ]
    },
    {
      "cell_type": "code",
      "metadata": {
        "id": "PC2g7Wv2VG9s",
        "colab_type": "code",
        "outputId": "0dedd9ab-e0b2-4182-ab2a-194b8047265c",
        "colab": {
          "base_uri": "https://localhost:8080/",
          "height": 164
        }
      },
      "source": [
        "test_reviews"
      ],
      "execution_count": 0,
      "outputs": [
        {
          "output_type": "execute_result",
          "data": {
            "text/html": [
              "<div>\n",
              "<style scoped>\n",
              "    .dataframe tbody tr th:only-of-type {\n",
              "        vertical-align: middle;\n",
              "    }\n",
              "\n",
              "    .dataframe tbody tr th {\n",
              "        vertical-align: top;\n",
              "    }\n",
              "\n",
              "    .dataframe thead th {\n",
              "        text-align: right;\n",
              "    }\n",
              "</style>\n",
              "<table border=\"1\" class=\"dataframe\">\n",
              "  <thead>\n",
              "    <tr style=\"text-align: right;\">\n",
              "      <th></th>\n",
              "      <th>_id</th>\n",
              "      <th>likes</th>\n",
              "      <th>user</th>\n",
              "      <th>text</th>\n",
              "      <th>type</th>\n",
              "      <th>restaurant</th>\n",
              "      <th>dish</th>\n",
              "      <th>taste</th>\n",
              "      <th>presentation</th>\n",
              "      <th>nutrition</th>\n",
              "      <th>originality</th>\n",
              "      <th>value</th>\n",
              "      <th>overall</th>\n",
              "      <th>createdAt</th>\n",
              "      <th>user_info.name</th>\n",
              "      <th>user_info.likedArticlesCount</th>\n",
              "      <th>user_info.followersCount</th>\n",
              "      <th>user_info.likedReviewsCount</th>\n",
              "      <th>user_info.challengeReviews</th>\n",
              "      <th>user_info.username</th>\n",
              "      <th>user_info.language</th>\n",
              "      <th>user_info.home</th>\n",
              "      <th>user_info.reviewKarma.total.score</th>\n",
              "      <th>dish_info.name</th>\n",
              "      <th>restaurant_name</th>\n",
              "      <th>restaurant_country</th>\n",
              "      <th>restaurant_website</th>\n",
              "      <th>restaurant_locality</th>\n",
              "    </tr>\n",
              "  </thead>\n",
              "  <tbody>\n",
              "    <tr>\n",
              "      <th>92796</th>\n",
              "      <td>59cb45be92c3c5000471f9a6</td>\n",
              "      <td>[ObjectId('5acb8f9dd5fbb40004e7a793')]</td>\n",
              "      <td>599a7f031dc5c80004bc3178</td>\n",
              "      <td>UrbanBites' falafel wrap came lightly toasted ...</td>\n",
              "      <td>dish</td>\n",
              "      <td>59cb26a292c3c5000471f99f</td>\n",
              "      <td>59cb45bc92c3c5000471f9a3</td>\n",
              "      <td>5</td>\n",
              "      <td>5</td>\n",
              "      <td>5</td>\n",
              "      <td>5</td>\n",
              "      <td>4</td>\n",
              "      <td>4.8</td>\n",
              "      <td>2017-09-27 06:31:26.826</td>\n",
              "      <td>Peter Lewis</td>\n",
              "      <td>0</td>\n",
              "      <td>26</td>\n",
              "      <td>4</td>\n",
              "      <td>11</td>\n",
              "      <td>peter</td>\n",
              "      <td>en</td>\n",
              "      <td>Singapore</td>\n",
              "      <td>8</td>\n",
              "      <td>Falafel Wrap</td>\n",
              "      <td>Urban Bites</td>\n",
              "      <td>Singapore</td>\n",
              "      <td>http://www.urbanbites.com.sg/</td>\n",
              "      <td>Singapore</td>\n",
              "    </tr>\n",
              "  </tbody>\n",
              "</table>\n",
              "</div>"
            ],
            "text/plain": [
              "                            _id  ... restaurant_locality\n",
              "92796  59cb45be92c3c5000471f9a6  ...           Singapore\n",
              "\n",
              "[1 rows x 28 columns]"
            ]
          },
          "metadata": {
            "tags": []
          },
          "execution_count": 77
        }
      ]
    },
    {
      "cell_type": "code",
      "metadata": {
        "id": "4UWQwzHrVDd9",
        "colab_type": "code",
        "colab": {}
      },
      "source": [
        "train_reviews = reviews[:3000]\n",
        "eval_reviews = reviews[3000:92796]\n",
        "test_reviews = reviews[92796:]"
      ],
      "execution_count": 0,
      "outputs": []
    },
    {
      "cell_type": "code",
      "metadata": {
        "id": "VBIZeNosT-cb",
        "colab_type": "code",
        "colab": {}
      },
      "source": [
        "train_gen = (rev for rev in train_reviews['text'])\n",
        "to_train_ents = []\n",
        "check_list = []"
      ],
      "execution_count": 0,
      "outputs": []
    },
    {
      "cell_type": "code",
      "metadata": {
        "id": "fGfxQkyHUCKE",
        "colab_type": "code",
        "colab": {}
      },
      "source": [
        "for raw, doc in zip(list(train_reviews['text']), nlp.pipe(list(train_reviews['text']))):\n",
        "  tok_list = [token.text for token in doc]\n",
        "  tag_list = ['O' for token in doc]\n",
        "  matched_ents = [(i,item) for i, item in enumerate(tok_list) if item.lower() in [i[0] for i in ent_list + check_list]]\n",
        "\n",
        "  for ent in matched_ents:\n",
        "    ent_tag = ''.join(list(set([tup[1] for tup in ent_list + check_list if tup[0] == ent[1].lower()])))\n",
        "    tag_list[ent[0]] = ent_tag\n",
        "  entities = offsets_from_biluo_tags(doc, tag_list)\n",
        "  to_train_ents.append((raw, dict(entities = entities)))\n",
        "clean_train_ents = trim_entity_spans(to_train_ents)"
      ],
      "execution_count": 0,
      "outputs": []
    },
    {
      "cell_type": "code",
      "metadata": {
        "id": "btstK3bqUFV-",
        "colab_type": "code",
        "outputId": "8355ce33-cd72-4d2b-e5f0-c881b3c87688",
        "colab": {
          "base_uri": "https://localhost:8080/",
          "height": 34
        }
      },
      "source": [
        "dump_jsonl(clean_train_ents,'train.jsonl')"
      ],
      "execution_count": 20,
      "outputs": [
        {
          "output_type": "stream",
          "text": [
            "Wrote 3000 records to train.jsonl\n"
          ],
          "name": "stdout"
        }
      ]
    },
    {
      "cell_type": "code",
      "metadata": {
        "id": "9mBZ2r87UJDC",
        "colab_type": "code",
        "outputId": "c8385b37-c4eb-49f3-e859-97c3c5d3dd2c",
        "colab": {
          "base_uri": "https://localhost:8080/",
          "height": 51
        }
      },
      "source": [
        "train_data = load_jsonl('train.jsonl')\n",
        "type(train_data)"
      ],
      "execution_count": 21,
      "outputs": [
        {
          "output_type": "stream",
          "text": [
            "Loaded 3000 records from train.jsonl\n"
          ],
          "name": "stdout"
        },
        {
          "output_type": "execute_result",
          "data": {
            "text/plain": [
              "list"
            ]
          },
          "metadata": {
            "tags": []
          },
          "execution_count": 21
        }
      ]
    },
    {
      "cell_type": "code",
      "metadata": {
        "id": "SbNODB6rUKwX",
        "colab_type": "code",
        "outputId": "a0b7e738-ac5e-46c2-e732-8ea6f2990f66",
        "colab": {
          "base_uri": "https://localhost:8080/",
          "height": 34
        }
      },
      "source": [
        "model = 'en_core_web_lg'\n",
        "#model = None\n",
        "\n",
        "\n",
        "\"\"\"Load the model, set up the pipeline and train the entity recognizer.\"\"\"\n",
        "if model is not None:\n",
        "    nlp = en_core_web_lg.load()  # load existing spaCy model\n",
        "    print(\"Loaded model '%s'\" % model)\n",
        "else:\n",
        "    nlp = spacy.blank(\"en\")  # create blank Language class\n",
        "    print(\"Created blank 'en' model\")\n",
        "\n",
        "# nlp.create_pipe works for built-ins that are registered with spaCy\n",
        "if \"ner\" not in nlp.pipe_names:\n",
        "    ner = nlp.create_pipe(\"ner\")\n",
        "    nlp.add_pipe(ner, last=True)\n",
        "# otherwise, get it so we can add labels\n",
        "else:\n",
        "    ner = nlp.get_pipe(\"ner\")\n",
        "\n",
        "# add labels\n",
        "for _, annotations in train_data:\n",
        "    for ent in annotations.get(\"entities\"):\n",
        "        ner.add_label(ent[2])"
      ],
      "execution_count": 22,
      "outputs": [
        {
          "output_type": "stream",
          "text": [
            "Loaded model 'en_core_web_lg'\n"
          ],
          "name": "stdout"
        }
      ]
    },
    {
      "cell_type": "code",
      "metadata": {
        "id": "g0IeWT5wUXTL",
        "colab_type": "code",
        "outputId": "0e41721c-45b3-47f1-956e-ac21fda876cd",
        "colab": {
          "base_uri": "https://localhost:8080/",
          "height": 695
        }
      },
      "source": [
        "ner.labels"
      ],
      "execution_count": 23,
      "outputs": [
        {
          "output_type": "execute_result",
          "data": {
            "text/plain": [
              "('CARDINAL',\n",
              " 'DATE',\n",
              " 'EVENT',\n",
              " 'FAC',\n",
              " 'GPE',\n",
              " 'GPE_city',\n",
              " 'GPE_country',\n",
              " 'GPE_region',\n",
              " 'GPE_regionU_GPE_city',\n",
              " 'LANGUAGE',\n",
              " 'LAW',\n",
              " 'LOC',\n",
              " 'MONEY',\n",
              " 'NORP',\n",
              " 'ORDINAL',\n",
              " 'ORG',\n",
              " 'PERCENT',\n",
              " 'PERSON',\n",
              " 'PRODUCT',\n",
              " 'QUANTITY',\n",
              " 'TIME',\n",
              " 'WORK_OF_ART',\n",
              " 'beverage',\n",
              " 'bread',\n",
              " 'condiment',\n",
              " 'dish',\n",
              " 'food_habit',\n",
              " 'fruit',\n",
              " 'herb',\n",
              " 'lifestyle',\n",
              " 'meal',\n",
              " 'partner',\n",
              " 'partnerU_ORG',\n",
              " 'pastry',\n",
              " 'pastryU_dish',\n",
              " 'seed',\n",
              " 'spice',\n",
              " 'spiceU_dish',\n",
              " 'vegetable')"
            ]
          },
          "metadata": {
            "tags": []
          },
          "execution_count": 23
        }
      ]
    },
    {
      "cell_type": "code",
      "metadata": {
        "id": "8qTz5Jq_Ulp7",
        "colab_type": "code",
        "colab": {}
      },
      "source": [
        "dropout = decaying(0.6, 0.2, 1e-4)"
      ],
      "execution_count": 0,
      "outputs": []
    },
    {
      "cell_type": "code",
      "metadata": {
        "id": "cxCGYbADYZ8i",
        "colab_type": "code",
        "colab": {}
      },
      "source": [
        "# get names of other pipes to disable them during training\n",
        "#other_pipes = [pipe for pipe in nlp.pipe_names if pipe not in [\"ner\", \"entity_ruler\",\"merge_entities\"]]\n",
        "\n",
        "other_pipes = [pipe for pipe in nlp.pipe_names if pipe not in [\"ner\"]]\n",
        "\n",
        "loss_trend = []\n",
        "with nlp.disable_pipes(*other_pipes):  # only train NER\n",
        "    # reset and initialize the weights randomly – but only if we're\n",
        "    # training a new model\n",
        "    if model is None:\n",
        "        nlp.begin_training()\n",
        "\n",
        "\n",
        "\n",
        "    for itn in range(40):\n",
        "      random.shuffle(train_data)\n",
        "      losses = {}\n",
        "\n",
        "#      for item in clean_train_ents:\n",
        "# batch up the examples using spaCy's minibatch\n",
        "      batches = minibatch(train_data, size=compounding(4.0, 32.0, 1.001))\n",
        "\n",
        "      for batch in batches:\n",
        "        texts, annotations = zip(*batch)\n",
        "#        print([item[0]], [item[1]])\n",
        "\n",
        "#        print(texts)\n",
        "#        print(annotations)\n",
        "        nlp.update(texts, annotations, drop=next(dropout), losses=losses)\n",
        "        loss_trend.append(losses['ner'])"
      ],
      "execution_count": 0,
      "outputs": []
    },
    {
      "cell_type": "code",
      "metadata": {
        "id": "AX92blcrYe6z",
        "colab_type": "code",
        "outputId": "6644af6d-f89f-4375-d557-5c467b1daac4",
        "colab": {
          "base_uri": "https://localhost:8080/",
          "height": 285
        }
      },
      "source": [
        "plt.plot(loss_trend)"
      ],
      "execution_count": 26,
      "outputs": [
        {
          "output_type": "execute_result",
          "data": {
            "text/plain": [
              "[<matplotlib.lines.Line2D at 0x7f3e329bff60>]"
            ]
          },
          "metadata": {
            "tags": []
          },
          "execution_count": 26
        },
        {
          "output_type": "display_data",
          "data": {
            "image/png": "[encoded data removed]",
            "text/plain": [
              "<Figure size 432x288 with 1 Axes>"
            ]
          },
          "metadata": {
            "tags": []
          }
        }
      ]
    },
    {
      "cell_type": "code",
      "metadata": {
        "id": "Q6wUY-w8YjV4",
        "colab_type": "code",
        "outputId": "d2509fb0-f3ae-4319-a5a6-e979f00d524d",
        "colab": {
          "base_uri": "https://localhost:8080/",
          "height": 34
        }
      },
      "source": [
        "nlp.pipe_names"
      ],
      "execution_count": 27,
      "outputs": [
        {
          "output_type": "execute_result",
          "data": {
            "text/plain": [
              "['tagger', 'parser', 'ner']"
            ]
          },
          "metadata": {
            "tags": []
          },
          "execution_count": 27
        }
      ]
    },
    {
      "cell_type": "code",
      "metadata": {
        "id": "oYloh95XYmrt",
        "colab_type": "code",
        "outputId": "d3c290d6-6cfc-4837-a239-3309e5f18333",
        "colab": {
          "base_uri": "https://localhost:8080/",
          "height": 34
        }
      },
      "source": [
        "merge_ents = nlp.create_pipe(\"merge_entities\")\n",
        "nlp.add_pipe(merge_ents, after='ner')\n",
        "ruler = EntityRuler(nlp).from_disk(\"patterns_2020_02_08.jsonl\")\n",
        "nlp.add_pipe(ruler, before='ner')\n",
        "nlp.pipe_names"
      ],
      "execution_count": 28,
      "outputs": [
        {
          "output_type": "execute_result",
          "data": {
            "text/plain": [
              "['tagger', 'parser', 'entity_ruler', 'ner', 'merge_entities']"
            ]
          },
          "metadata": {
            "tags": []
          },
          "execution_count": 28
        }
      ]
    },
    {
      "cell_type": "code",
      "metadata": {
        "id": "e9aysdzqYqw7",
        "colab_type": "code",
        "colab": {}
      },
      "source": [
        "nlp.to_disk('trained_model_2020_02_08')"
      ],
      "execution_count": 0,
      "outputs": []
    },
    {
      "cell_type": "code",
      "metadata": {
        "id": "362ufiR5Ru7s",
        "colab_type": "code",
        "colab": {
          "base_uri": "https://localhost:8080/",
          "height": 34
        },
        "outputId": "bd83d290-9743-40f0-947f-083a4396b831"
      },
      "source": [
        "pwd"
      ],
      "execution_count": 1,
      "outputs": [
        {
          "output_type": "execute_result",
          "data": {
            "text/plain": [
              "'/content'"
            ]
          },
          "metadata": {
            "tags": []
          },
          "execution_count": 1
        }
      ]
    },
    {
      "cell_type": "code",
      "metadata": {
        "id": "eDBKuMx5Yuxy",
        "colab_type": "code",
        "colab": {}
      },
      "source": [
        "nlp = spacy.load('trained_model_2020_02_08')"
      ],
      "execution_count": 0,
      "outputs": []
    },
    {
      "cell_type": "code",
      "metadata": {
        "id": "7hGECZGqjKzt",
        "colab_type": "code",
        "outputId": "041a882b-f342-46a0-ccf8-be8ab685a3bd",
        "colab": {
          "base_uri": "https://localhost:8080/",
          "height": 939
        }
      },
      "source": [
        "ent_list_eval = []\n",
        "for doc in nlp.pipe(eval_reviews['text']):\n",
        "#  displacy.render(nlp(doc),'ent',jupyter=True)\n",
        "  ent_list_eval.append([k  for k in Counter(sorted([(ent.ent_id_) for ent in doc.ents if ent.ent_id_ != ''])).keys()])\n",
        "#ent_list.append([ent.text for ent in nlp(doc).ents if ent.ent_id_ == ''])\n",
        "\n",
        "ent_list_eval[-5:]"
      ],
      "execution_count": 33,
      "outputs": [
        {
          "output_type": "execute_result",
          "data": {
            "text/plain": [
              "[['$_25',\n",
              "  '2',\n",
              "  'carrots',\n",
              "  'cottage_cheese',\n",
              "  'cucumber',\n",
              "  'dinner',\n",
              "  'lunch',\n",
              "  'mushrooms',\n",
              "  'persian_rice',\n",
              "  'pita',\n",
              "  'red_peppers',\n",
              "  'salad',\n",
              "  'vegetable',\n",
              "  'zucchini'],\n",
              " ['baklava', 'nuts', 'pastry', 'syrup'],\n",
              " ['$_2',\n",
              "  '3',\n",
              "  'beans',\n",
              "  'brown_rice',\n",
              "  'burrito_bowl',\n",
              "  'cheese',\n",
              "  'guacamole',\n",
              "  'gyg',\n",
              "  'jalapeños',\n",
              "  'meat',\n",
              "  'mexican',\n",
              "  'parsley',\n",
              "  'rice',\n",
              "  'salsa',\n",
              "  'singapore',\n",
              "  'tortilla_chips',\n",
              "  'vegan',\n",
              "  'vegetable',\n",
              "  'vegetarian'],\n",
              " ['arugula',\n",
              "  'bun',\n",
              "  'burger',\n",
              "  'crisp',\n",
              "  'dairy_free',\n",
              "  'half',\n",
              "  'pumpkin_seed',\n",
              "  'sautéed_mushrooms',\n",
              "  'vegan'],\n",
              " ['falafel_wrap',\n",
              "  'garlic',\n",
              "  'garlic_spread',\n",
              "  'olive_oil',\n",
              "  'salad',\n",
              "  'spice',\n",
              "  'sweet_potato_fries',\n",
              "  'tabbouleh',\n",
              "  'vegan',\n",
              "  'wrap']]"
            ]
          },
          "metadata": {
            "tags": []
          },
          "execution_count": 33
        }
      ]
    },
    {
      "cell_type": "code",
      "metadata": {
        "id": "D9LQLd1TjV74",
        "colab_type": "code",
        "outputId": "0f767d7d-73e9-485d-81b2-a20f71c1e5f5",
        "colab": {
          "base_uri": "https://localhost:8080/",
          "height": 104
        }
      },
      "source": [
        "ent_list_eval[:5]"
      ],
      "execution_count": 34,
      "outputs": [
        {
          "output_type": "execute_result",
          "data": {
            "text/plain": [
              "[['vegan'],\n",
              " ['garbanzo', 'hamburger'],\n",
              " ['basil', 'cashew_nuts', 'cherry_tomatoes', 'pasta', 'tea'],\n",
              " [],\n",
              " ['milanesa']]"
            ]
          },
          "metadata": {
            "tags": []
          },
          "execution_count": 34
        }
      ]
    },
    {
      "cell_type": "code",
      "metadata": {
        "id": "unhJxM14vAlS",
        "colab_type": "code",
        "colab": {}
      },
      "source": [
        "df_entities = pd.DataFrame(pd.Series(ent_list_eval),columns=['entities'])"
      ],
      "execution_count": 0,
      "outputs": []
    },
    {
      "cell_type": "code",
      "metadata": {
        "id": "yFPImIt6vSto",
        "colab_type": "code",
        "colab": {}
      },
      "source": [
        "df_entities.to_csv('entities_3_93k.csv',index=False)"
      ],
      "execution_count": 0,
      "outputs": []
    },
    {
      "cell_type": "code",
      "metadata": {
        "id": "4Q5VAJ37vchY",
        "colab_type": "code",
        "outputId": "dd2aaa78-2909-4281-db2c-9315b5547dff",
        "colab": {
          "base_uri": "https://localhost:8080/",
          "height": 197
        }
      },
      "source": [
        "df_entities.tail()"
      ],
      "execution_count": 37,
      "outputs": [
        {
          "output_type": "execute_result",
          "data": {
            "text/html": [
              "<div>\n",
              "<style scoped>\n",
              "    .dataframe tbody tr th:only-of-type {\n",
              "        vertical-align: middle;\n",
              "    }\n",
              "\n",
              "    .dataframe tbody tr th {\n",
              "        vertical-align: top;\n",
              "    }\n",
              "\n",
              "    .dataframe thead th {\n",
              "        text-align: right;\n",
              "    }\n",
              "</style>\n",
              "<table border=\"1\" class=\"dataframe\">\n",
              "  <thead>\n",
              "    <tr style=\"text-align: right;\">\n",
              "      <th></th>\n",
              "      <th>entities</th>\n",
              "    </tr>\n",
              "  </thead>\n",
              "  <tbody>\n",
              "    <tr>\n",
              "      <th>89791</th>\n",
              "      <td>[$_25, 2, carrots, cottage_cheese, cucumber, d...</td>\n",
              "    </tr>\n",
              "    <tr>\n",
              "      <th>89792</th>\n",
              "      <td>[baklava, nuts, pastry, syrup]</td>\n",
              "    </tr>\n",
              "    <tr>\n",
              "      <th>89793</th>\n",
              "      <td>[$_2, 3, beans, brown_rice, burrito_bowl, chee...</td>\n",
              "    </tr>\n",
              "    <tr>\n",
              "      <th>89794</th>\n",
              "      <td>[arugula, bun, burger, crisp, dairy_free, half...</td>\n",
              "    </tr>\n",
              "    <tr>\n",
              "      <th>89795</th>\n",
              "      <td>[falafel_wrap, garlic, garlic_spread, olive_oi...</td>\n",
              "    </tr>\n",
              "  </tbody>\n",
              "</table>\n",
              "</div>"
            ],
            "text/plain": [
              "                                                entities\n",
              "89791  [$_25, 2, carrots, cottage_cheese, cucumber, d...\n",
              "89792                     [baklava, nuts, pastry, syrup]\n",
              "89793  [$_2, 3, beans, brown_rice, burrito_bowl, chee...\n",
              "89794  [arugula, bun, burger, crisp, dairy_free, half...\n",
              "89795  [falafel_wrap, garlic, garlic_spread, olive_oi..."
            ]
          },
          "metadata": {
            "tags": []
          },
          "execution_count": 37
        }
      ]
    },
    {
      "cell_type": "code",
      "metadata": {
        "id": "vz4la2zqvmI1",
        "colab_type": "code",
        "outputId": "794908cc-64f4-4c5a-a8b4-b9d2cbc84028",
        "colab": {
          "base_uri": "https://localhost:8080/",
          "height": 980
        }
      },
      "source": [
        "eval_reviews.reset_index(drop=True)"
      ],
      "execution_count": 38,
      "outputs": [
        {
          "output_type": "execute_result",
          "data": {
            "text/html": [
              "<div>\n",
              "<style scoped>\n",
              "    .dataframe tbody tr th:only-of-type {\n",
              "        vertical-align: middle;\n",
              "    }\n",
              "\n",
              "    .dataframe tbody tr th {\n",
              "        vertical-align: top;\n",
              "    }\n",
              "\n",
              "    .dataframe thead th {\n",
              "        text-align: right;\n",
              "    }\n",
              "</style>\n",
              "<table border=\"1\" class=\"dataframe\">\n",
              "  <thead>\n",
              "    <tr style=\"text-align: right;\">\n",
              "      <th></th>\n",
              "      <th>_id</th>\n",
              "      <th>likes</th>\n",
              "      <th>user</th>\n",
              "      <th>text</th>\n",
              "      <th>type</th>\n",
              "      <th>restaurant</th>\n",
              "      <th>dish</th>\n",
              "      <th>taste</th>\n",
              "      <th>presentation</th>\n",
              "      <th>nutrition</th>\n",
              "      <th>originality</th>\n",
              "      <th>value</th>\n",
              "      <th>overall</th>\n",
              "      <th>createdAt</th>\n",
              "      <th>user_info.name</th>\n",
              "      <th>user_info.likedArticlesCount</th>\n",
              "      <th>user_info.followersCount</th>\n",
              "      <th>user_info.likedReviewsCount</th>\n",
              "      <th>user_info.challengeReviews</th>\n",
              "      <th>user_info.username</th>\n",
              "      <th>user_info.language</th>\n",
              "      <th>user_info.home</th>\n",
              "      <th>user_info.reviewKarma.total.score</th>\n",
              "      <th>dish_info.name</th>\n",
              "      <th>restaurant_name</th>\n",
              "      <th>restaurant_country</th>\n",
              "      <th>restaurant_website</th>\n",
              "      <th>restaurant_locality</th>\n",
              "    </tr>\n",
              "  </thead>\n",
              "  <tbody>\n",
              "    <tr>\n",
              "      <th>0</th>\n",
              "      <td>5e2f312ee873b10020b64c5d</td>\n",
              "      <td>[ObjectId('5e03e8307956290020e51e8d'), ObjectI...</td>\n",
              "      <td>5e09716a3a202700209d8f8d</td>\n",
              "      <td>Mitad cancha mitad super cancha (con queso veg...</td>\n",
              "      <td>dish</td>\n",
              "      <td>5c6f728176f4630004a9926b</td>\n",
              "      <td>5db821535168bd0020e738ca</td>\n",
              "      <td>5</td>\n",
              "      <td>5</td>\n",
              "      <td>5</td>\n",
              "      <td>5</td>\n",
              "      <td>5</td>\n",
              "      <td>5.0</td>\n",
              "      <td>2020-01-27 18:51:26.422</td>\n",
              "      <td>germancampagno</td>\n",
              "      <td>0</td>\n",
              "      <td>11</td>\n",
              "      <td>19</td>\n",
              "      <td>13</td>\n",
              "      <td>germancampagno</td>\n",
              "      <td>en</td>\n",
              "      <td>Argentina</td>\n",
              "      <td>40</td>\n",
              "      <td>Pizza con paparella</td>\n",
              "      <td>Pizzas y Empanadas IL Giardino De Devoto</td>\n",
              "      <td>Argentina</td>\n",
              "      <td>https://www.facebook.com/ilgiardinodidevoto/</td>\n",
              "      <td>NaN</td>\n",
              "    </tr>\n",
              "    <tr>\n",
              "      <th>1</th>\n",
              "      <td>5e2f30cd21cbcd002090abdd</td>\n",
              "      <td>[ObjectId('5e03e8307956290020e51e8d'), ObjectI...</td>\n",
              "      <td>5def888d287cf90020c983dc</td>\n",
              "      <td>Hamburguesa de porotos o de garbanzos con ques...</td>\n",
              "      <td>dish</td>\n",
              "      <td>5c78e1f22fc7720004d832eb</td>\n",
              "      <td>5e2f30cd21cbcd002090abdc</td>\n",
              "      <td>5</td>\n",
              "      <td>5</td>\n",
              "      <td>4</td>\n",
              "      <td>4</td>\n",
              "      <td>4</td>\n",
              "      <td>4.4</td>\n",
              "      <td>2020-01-27 18:49:49.544</td>\n",
              "      <td>Estefa</td>\n",
              "      <td>0</td>\n",
              "      <td>1</td>\n",
              "      <td>1</td>\n",
              "      <td>7</td>\n",
              "      <td>wicca</td>\n",
              "      <td>es</td>\n",
              "      <td>Chile</td>\n",
              "      <td>7</td>\n",
              "      <td>Hamburguesa cheddar</td>\n",
              "      <td>Rincón Flamenco Café</td>\n",
              "      <td>Chile</td>\n",
              "      <td>NaN</td>\n",
              "      <td>La Serena</td>\n",
              "    </tr>\n",
              "    <tr>\n",
              "      <th>2</th>\n",
              "      <td>5e2f30c521cbcd002090abd4</td>\n",
              "      <td>[ObjectId('5e03e8307956290020e51e8d'), ObjectI...</td>\n",
              "      <td>5e1a06a6ce56f60020488a73</td>\n",
              "      <td>Creamy and elegant pasta with cherry tomatoes ...</td>\n",
              "      <td>dish</td>\n",
              "      <td>5a067976989c390004ffc1ce</td>\n",
              "      <td>5e2f30c3e873b10020b64c4c</td>\n",
              "      <td>5</td>\n",
              "      <td>5</td>\n",
              "      <td>5</td>\n",
              "      <td>4</td>\n",
              "      <td>5</td>\n",
              "      <td>4.8</td>\n",
              "      <td>2020-01-27 18:49:41.422</td>\n",
              "      <td>anitagmer</td>\n",
              "      <td>0</td>\n",
              "      <td>2</td>\n",
              "      <td>0</td>\n",
              "      <td>8</td>\n",
              "      <td>anitagmer</td>\n",
              "      <td>es</td>\n",
              "      <td>Spain</td>\n",
              "      <td>8</td>\n",
              "      <td>Pasta Alfredo</td>\n",
              "      <td>Veda House</td>\n",
              "      <td>Bulgaria</td>\n",
              "      <td>http://vedahouse.business.site/</td>\n",
              "      <td>Sofia</td>\n",
              "    </tr>\n",
              "    <tr>\n",
              "      <th>3</th>\n",
              "      <td>5e2f305d21cbcd002090abaf</td>\n",
              "      <td>[ObjectId('5e03e8307956290020e51e8d'), ObjectI...</td>\n",
              "      <td>5e09716a3a202700209d8f8d</td>\n",
              "      <td>Despues del green doner es lo mas rico que pro...</td>\n",
              "      <td>dish</td>\n",
              "      <td>5c6fb05476f4630004a9979b</td>\n",
              "      <td>5d4c38082d8bea0004054003</td>\n",
              "      <td>5</td>\n",
              "      <td>5</td>\n",
              "      <td>3</td>\n",
              "      <td>5</td>\n",
              "      <td>3</td>\n",
              "      <td>4.2</td>\n",
              "      <td>2020-01-27 18:47:57.080</td>\n",
              "      <td>germancampagno</td>\n",
              "      <td>0</td>\n",
              "      <td>11</td>\n",
              "      <td>19</td>\n",
              "      <td>13</td>\n",
              "      <td>germancampagno</td>\n",
              "      <td>en</td>\n",
              "      <td>Argentina</td>\n",
              "      <td>40</td>\n",
              "      <td>Green Steak</td>\n",
              "      <td>GreenFactory</td>\n",
              "      <td>Argentina</td>\n",
              "      <td>http://www.greenfactory.com.ar/</td>\n",
              "      <td>NaN</td>\n",
              "    </tr>\n",
              "    <tr>\n",
              "      <th>4</th>\n",
              "      <td>5e2f3021e873b10020b64c1a</td>\n",
              "      <td>[ObjectId('5e03e8307956290020e51e8d'), ObjectI...</td>\n",
              "      <td>5e09716a3a202700209d8f8d</td>\n",
              "      <td>Jamon queso huevo milanesa, de todo 🤯🤯🤯🤯🤯🤯🤯</td>\n",
              "      <td>dish</td>\n",
              "      <td>5d36712b49745d0004c69f05</td>\n",
              "      <td>5d43224660309900045dbd46</td>\n",
              "      <td>5</td>\n",
              "      <td>5</td>\n",
              "      <td>3</td>\n",
              "      <td>5</td>\n",
              "      <td>5</td>\n",
              "      <td>4.6</td>\n",
              "      <td>2020-01-27 18:46:57.667</td>\n",
              "      <td>germancampagno</td>\n",
              "      <td>0</td>\n",
              "      <td>11</td>\n",
              "      <td>19</td>\n",
              "      <td>13</td>\n",
              "      <td>germancampagno</td>\n",
              "      <td>en</td>\n",
              "      <td>Argentina</td>\n",
              "      <td>40</td>\n",
              "      <td>Lomito completo</td>\n",
              "      <td>Loving Hut Microcentro</td>\n",
              "      <td>Argentina</td>\n",
              "      <td>https://www.facebook.com/LovingHut.Microcentro/</td>\n",
              "      <td>NaN</td>\n",
              "    </tr>\n",
              "    <tr>\n",
              "      <th>...</th>\n",
              "      <td>...</td>\n",
              "      <td>...</td>\n",
              "      <td>...</td>\n",
              "      <td>...</td>\n",
              "      <td>...</td>\n",
              "      <td>...</td>\n",
              "      <td>...</td>\n",
              "      <td>...</td>\n",
              "      <td>...</td>\n",
              "      <td>...</td>\n",
              "      <td>...</td>\n",
              "      <td>...</td>\n",
              "      <td>...</td>\n",
              "      <td>...</td>\n",
              "      <td>...</td>\n",
              "      <td>...</td>\n",
              "      <td>...</td>\n",
              "      <td>...</td>\n",
              "      <td>...</td>\n",
              "      <td>...</td>\n",
              "      <td>...</td>\n",
              "      <td>...</td>\n",
              "      <td>...</td>\n",
              "      <td>...</td>\n",
              "      <td>...</td>\n",
              "      <td>...</td>\n",
              "      <td>...</td>\n",
              "      <td>...</td>\n",
              "    </tr>\n",
              "    <tr>\n",
              "      <th>89791</th>\n",
              "      <td>59d44b0772199b0004e14a9a</td>\n",
              "      <td>[ObjectId('59cb241c92c3c5000471f99e'), ObjectI...</td>\n",
              "      <td>59c489e73e616a0004f9bcf7</td>\n",
              "      <td>The best grilled vegetable plate I've ever had...</td>\n",
              "      <td>dish</td>\n",
              "      <td>59d445ab35cce100043233af</td>\n",
              "      <td>59d44b0672199b0004e14a99</td>\n",
              "      <td>5</td>\n",
              "      <td>4</td>\n",
              "      <td>4</td>\n",
              "      <td>4</td>\n",
              "      <td>3</td>\n",
              "      <td>4.0</td>\n",
              "      <td>2017-10-04 02:44:23.439</td>\n",
              "      <td>Vikas Garg</td>\n",
              "      <td>153</td>\n",
              "      <td>696</td>\n",
              "      <td>8637</td>\n",
              "      <td>37</td>\n",
              "      <td>vikas</td>\n",
              "      <td>en</td>\n",
              "      <td>Singapore</td>\n",
              "      <td>661</td>\n",
              "      <td>Sabzi Kebab</td>\n",
              "      <td>Shabestan</td>\n",
              "      <td>Singapore</td>\n",
              "      <td>http://www.shabestan.sg/</td>\n",
              "      <td>Singapore</td>\n",
              "    </tr>\n",
              "    <tr>\n",
              "      <th>89792</th>\n",
              "      <td>59d1f1658ea122000471905b</td>\n",
              "      <td>[]</td>\n",
              "      <td>59cb241c92c3c5000471f99e</td>\n",
              "      <td>One of the best baklava I've had as it was not...</td>\n",
              "      <td>dish</td>\n",
              "      <td>59cb26a292c3c5000471f99f</td>\n",
              "      <td>59d1f0db8ea1220004719057</td>\n",
              "      <td>5</td>\n",
              "      <td>5</td>\n",
              "      <td>5</td>\n",
              "      <td>4</td>\n",
              "      <td>4</td>\n",
              "      <td>4.6</td>\n",
              "      <td>2017-10-02 07:57:25.472</td>\n",
              "      <td>honey-bee nya</td>\n",
              "      <td>0</td>\n",
              "      <td>11</td>\n",
              "      <td>63</td>\n",
              "      <td>0</td>\n",
              "      <td>nakahara</td>\n",
              "      <td>NaN</td>\n",
              "      <td>Singapore</td>\n",
              "      <td>2</td>\n",
              "      <td>Baklava</td>\n",
              "      <td>Urban Bites</td>\n",
              "      <td>Singapore</td>\n",
              "      <td>http://www.urbanbites.com.sg/</td>\n",
              "      <td>Singapore</td>\n",
              "    </tr>\n",
              "    <tr>\n",
              "      <th>89793</th>\n",
              "      <td>59cb5ca192c3c5000471f9c9</td>\n",
              "      <td>[ObjectId('5ac488841aa1140004b06fc1')]</td>\n",
              "      <td>59b0a60c3c31d00004d97fa2</td>\n",
              "      <td>Protip: get the vegetarian version of the burr...</td>\n",
              "      <td>dish</td>\n",
              "      <td>59cb5a0f92c3c5000471f9b7</td>\n",
              "      <td>59cb5b8a92c3c5000471f9b8</td>\n",
              "      <td>5</td>\n",
              "      <td>4</td>\n",
              "      <td>5</td>\n",
              "      <td>4</td>\n",
              "      <td>4</td>\n",
              "      <td>4.4</td>\n",
              "      <td>2017-09-27 08:09:05.837</td>\n",
              "      <td>Alaine Johnson</td>\n",
              "      <td>76</td>\n",
              "      <td>198</td>\n",
              "      <td>1930</td>\n",
              "      <td>7</td>\n",
              "      <td>alaine</td>\n",
              "      <td>en</td>\n",
              "      <td>Singapore</td>\n",
              "      <td>273</td>\n",
              "      <td>Vegetarian Burrito Bowl</td>\n",
              "      <td>Guzman Y Gomez</td>\n",
              "      <td>Singapore</td>\n",
              "      <td>http://www.gyg.com.sg/</td>\n",
              "      <td>Singapore</td>\n",
              "    </tr>\n",
              "    <tr>\n",
              "      <th>89794</th>\n",
              "      <td>59cb59dc92c3c5000471f9b5</td>\n",
              "      <td>[]</td>\n",
              "      <td>59b0a60c3c31d00004d97fa2</td>\n",
              "      <td>This dish is clearly labeled with a green leaf...</td>\n",
              "      <td>dish</td>\n",
              "      <td>59cb576a92c3c5000471f9b2</td>\n",
              "      <td>59cb59db92c3c5000471f9b4</td>\n",
              "      <td>5</td>\n",
              "      <td>4</td>\n",
              "      <td>5</td>\n",
              "      <td>4</td>\n",
              "      <td>4</td>\n",
              "      <td>4.4</td>\n",
              "      <td>2017-09-27 07:57:16.062</td>\n",
              "      <td>Alaine Johnson</td>\n",
              "      <td>76</td>\n",
              "      <td>198</td>\n",
              "      <td>1930</td>\n",
              "      <td>7</td>\n",
              "      <td>alaine</td>\n",
              "      <td>en</td>\n",
              "      <td>Singapore</td>\n",
              "      <td>273</td>\n",
              "      <td>Vegan Arugula Mushroom Burger</td>\n",
              "      <td>Tiong Bahru Bakery</td>\n",
              "      <td>Singapore</td>\n",
              "      <td>http://www.tiongbahrubakery.com/</td>\n",
              "      <td>Singapore</td>\n",
              "    </tr>\n",
              "    <tr>\n",
              "      <th>89795</th>\n",
              "      <td>59cb53da92c3c5000471f9ab</td>\n",
              "      <td>[ObjectId('59cb241c92c3c5000471f99e'), ObjectI...</td>\n",
              "      <td>59c489e73e616a0004f9bcf7</td>\n",
              "      <td>This is a really great falafel wrap with just ...</td>\n",
              "      <td>dish</td>\n",
              "      <td>59cb26a292c3c5000471f99f</td>\n",
              "      <td>59cb53d992c3c5000471f9aa</td>\n",
              "      <td>4</td>\n",
              "      <td>4</td>\n",
              "      <td>3</td>\n",
              "      <td>3</td>\n",
              "      <td>3</td>\n",
              "      <td>3.4</td>\n",
              "      <td>2017-09-27 07:31:38.208</td>\n",
              "      <td>Vikas Garg</td>\n",
              "      <td>153</td>\n",
              "      <td>696</td>\n",
              "      <td>8637</td>\n",
              "      <td>37</td>\n",
              "      <td>vikas</td>\n",
              "      <td>en</td>\n",
              "      <td>Singapore</td>\n",
              "      <td>661</td>\n",
              "      <td>Spicy Falafel Wrap</td>\n",
              "      <td>Urban Bites</td>\n",
              "      <td>Singapore</td>\n",
              "      <td>http://www.urbanbites.com.sg/</td>\n",
              "      <td>Singapore</td>\n",
              "    </tr>\n",
              "  </tbody>\n",
              "</table>\n",
              "<p>89796 rows × 28 columns</p>\n",
              "</div>"
            ],
            "text/plain": [
              "                            _id  ... restaurant_locality\n",
              "0      5e2f312ee873b10020b64c5d  ...                 NaN\n",
              "1      5e2f30cd21cbcd002090abdd  ...           La Serena\n",
              "2      5e2f30c521cbcd002090abd4  ...               Sofia\n",
              "3      5e2f305d21cbcd002090abaf  ...                 NaN\n",
              "4      5e2f3021e873b10020b64c1a  ...                 NaN\n",
              "...                         ...  ...                 ...\n",
              "89791  59d44b0772199b0004e14a9a  ...           Singapore\n",
              "89792  59d1f1658ea122000471905b  ...           Singapore\n",
              "89793  59cb5ca192c3c5000471f9c9  ...           Singapore\n",
              "89794  59cb59dc92c3c5000471f9b5  ...           Singapore\n",
              "89795  59cb53da92c3c5000471f9ab  ...           Singapore\n",
              "\n",
              "[89796 rows x 28 columns]"
            ]
          },
          "metadata": {
            "tags": []
          },
          "execution_count": 38
        }
      ]
    },
    {
      "cell_type": "code",
      "metadata": {
        "id": "vhh810fTvs7Q",
        "colab_type": "code",
        "outputId": "03c708a7-99f2-4f3b-8c82-aa28ba0cf820",
        "colab": {
          "base_uri": "https://localhost:8080/",
          "height": 503
        }
      },
      "source": [
        "eval_new_df = pd.concat([eval_reviews.reset_index(drop=True), df_entities],axis=1,ignore_index=True)\n",
        "eval_new_df.columns = list(eval_reviews.columns) + list(df_entities.columns)\n",
        "eval_new_df.head()"
      ],
      "execution_count": 39,
      "outputs": [
        {
          "output_type": "execute_result",
          "data": {
            "text/html": [
              "<div>\n",
              "<style scoped>\n",
              "    .dataframe tbody tr th:only-of-type {\n",
              "        vertical-align: middle;\n",
              "    }\n",
              "\n",
              "    .dataframe tbody tr th {\n",
              "        vertical-align: top;\n",
              "    }\n",
              "\n",
              "    .dataframe thead th {\n",
              "        text-align: right;\n",
              "    }\n",
              "</style>\n",
              "<table border=\"1\" class=\"dataframe\">\n",
              "  <thead>\n",
              "    <tr style=\"text-align: right;\">\n",
              "      <th></th>\n",
              "      <th>_id</th>\n",
              "      <th>likes</th>\n",
              "      <th>user</th>\n",
              "      <th>text</th>\n",
              "      <th>type</th>\n",
              "      <th>restaurant</th>\n",
              "      <th>dish</th>\n",
              "      <th>taste</th>\n",
              "      <th>presentation</th>\n",
              "      <th>nutrition</th>\n",
              "      <th>originality</th>\n",
              "      <th>value</th>\n",
              "      <th>overall</th>\n",
              "      <th>createdAt</th>\n",
              "      <th>user_info.name</th>\n",
              "      <th>user_info.likedArticlesCount</th>\n",
              "      <th>user_info.followersCount</th>\n",
              "      <th>user_info.likedReviewsCount</th>\n",
              "      <th>user_info.challengeReviews</th>\n",
              "      <th>user_info.username</th>\n",
              "      <th>user_info.language</th>\n",
              "      <th>user_info.home</th>\n",
              "      <th>user_info.reviewKarma.total.score</th>\n",
              "      <th>dish_info.name</th>\n",
              "      <th>restaurant_name</th>\n",
              "      <th>restaurant_country</th>\n",
              "      <th>restaurant_website</th>\n",
              "      <th>restaurant_locality</th>\n",
              "      <th>entities</th>\n",
              "    </tr>\n",
              "  </thead>\n",
              "  <tbody>\n",
              "    <tr>\n",
              "      <th>0</th>\n",
              "      <td>5e2f312ee873b10020b64c5d</td>\n",
              "      <td>[ObjectId('5e03e8307956290020e51e8d'), ObjectI...</td>\n",
              "      <td>5e09716a3a202700209d8f8d</td>\n",
              "      <td>Mitad cancha mitad super cancha (con queso veg...</td>\n",
              "      <td>dish</td>\n",
              "      <td>5c6f728176f4630004a9926b</td>\n",
              "      <td>5db821535168bd0020e738ca</td>\n",
              "      <td>5</td>\n",
              "      <td>5</td>\n",
              "      <td>5</td>\n",
              "      <td>5</td>\n",
              "      <td>5</td>\n",
              "      <td>5.0</td>\n",
              "      <td>2020-01-27 18:51:26.422</td>\n",
              "      <td>germancampagno</td>\n",
              "      <td>0</td>\n",
              "      <td>11</td>\n",
              "      <td>19</td>\n",
              "      <td>13</td>\n",
              "      <td>germancampagno</td>\n",
              "      <td>en</td>\n",
              "      <td>Argentina</td>\n",
              "      <td>40</td>\n",
              "      <td>Pizza con paparella</td>\n",
              "      <td>Pizzas y Empanadas IL Giardino De Devoto</td>\n",
              "      <td>Argentina</td>\n",
              "      <td>https://www.facebook.com/ilgiardinodidevoto/</td>\n",
              "      <td>NaN</td>\n",
              "      <td>[vegan]</td>\n",
              "    </tr>\n",
              "    <tr>\n",
              "      <th>1</th>\n",
              "      <td>5e2f30cd21cbcd002090abdd</td>\n",
              "      <td>[ObjectId('5e03e8307956290020e51e8d'), ObjectI...</td>\n",
              "      <td>5def888d287cf90020c983dc</td>\n",
              "      <td>Hamburguesa de porotos o de garbanzos con ques...</td>\n",
              "      <td>dish</td>\n",
              "      <td>5c78e1f22fc7720004d832eb</td>\n",
              "      <td>5e2f30cd21cbcd002090abdc</td>\n",
              "      <td>5</td>\n",
              "      <td>5</td>\n",
              "      <td>4</td>\n",
              "      <td>4</td>\n",
              "      <td>4</td>\n",
              "      <td>4.4</td>\n",
              "      <td>2020-01-27 18:49:49.544</td>\n",
              "      <td>Estefa</td>\n",
              "      <td>0</td>\n",
              "      <td>1</td>\n",
              "      <td>1</td>\n",
              "      <td>7</td>\n",
              "      <td>wicca</td>\n",
              "      <td>es</td>\n",
              "      <td>Chile</td>\n",
              "      <td>7</td>\n",
              "      <td>Hamburguesa cheddar</td>\n",
              "      <td>Rincón Flamenco Café</td>\n",
              "      <td>Chile</td>\n",
              "      <td>NaN</td>\n",
              "      <td>La Serena</td>\n",
              "      <td>[garbanzo, hamburger]</td>\n",
              "    </tr>\n",
              "    <tr>\n",
              "      <th>2</th>\n",
              "      <td>5e2f30c521cbcd002090abd4</td>\n",
              "      <td>[ObjectId('5e03e8307956290020e51e8d'), ObjectI...</td>\n",
              "      <td>5e1a06a6ce56f60020488a73</td>\n",
              "      <td>Creamy and elegant pasta with cherry tomatoes ...</td>\n",
              "      <td>dish</td>\n",
              "      <td>5a067976989c390004ffc1ce</td>\n",
              "      <td>5e2f30c3e873b10020b64c4c</td>\n",
              "      <td>5</td>\n",
              "      <td>5</td>\n",
              "      <td>5</td>\n",
              "      <td>4</td>\n",
              "      <td>5</td>\n",
              "      <td>4.8</td>\n",
              "      <td>2020-01-27 18:49:41.422</td>\n",
              "      <td>anitagmer</td>\n",
              "      <td>0</td>\n",
              "      <td>2</td>\n",
              "      <td>0</td>\n",
              "      <td>8</td>\n",
              "      <td>anitagmer</td>\n",
              "      <td>es</td>\n",
              "      <td>Spain</td>\n",
              "      <td>8</td>\n",
              "      <td>Pasta Alfredo</td>\n",
              "      <td>Veda House</td>\n",
              "      <td>Bulgaria</td>\n",
              "      <td>http://vedahouse.business.site/</td>\n",
              "      <td>Sofia</td>\n",
              "      <td>[basil, cashew_nuts, cherry_tomatoes, pasta, tea]</td>\n",
              "    </tr>\n",
              "    <tr>\n",
              "      <th>3</th>\n",
              "      <td>5e2f305d21cbcd002090abaf</td>\n",
              "      <td>[ObjectId('5e03e8307956290020e51e8d'), ObjectI...</td>\n",
              "      <td>5e09716a3a202700209d8f8d</td>\n",
              "      <td>Despues del green doner es lo mas rico que pro...</td>\n",
              "      <td>dish</td>\n",
              "      <td>5c6fb05476f4630004a9979b</td>\n",
              "      <td>5d4c38082d8bea0004054003</td>\n",
              "      <td>5</td>\n",
              "      <td>5</td>\n",
              "      <td>3</td>\n",
              "      <td>5</td>\n",
              "      <td>3</td>\n",
              "      <td>4.2</td>\n",
              "      <td>2020-01-27 18:47:57.080</td>\n",
              "      <td>germancampagno</td>\n",
              "      <td>0</td>\n",
              "      <td>11</td>\n",
              "      <td>19</td>\n",
              "      <td>13</td>\n",
              "      <td>germancampagno</td>\n",
              "      <td>en</td>\n",
              "      <td>Argentina</td>\n",
              "      <td>40</td>\n",
              "      <td>Green Steak</td>\n",
              "      <td>GreenFactory</td>\n",
              "      <td>Argentina</td>\n",
              "      <td>http://www.greenfactory.com.ar/</td>\n",
              "      <td>NaN</td>\n",
              "      <td>[]</td>\n",
              "    </tr>\n",
              "    <tr>\n",
              "      <th>4</th>\n",
              "      <td>5e2f3021e873b10020b64c1a</td>\n",
              "      <td>[ObjectId('5e03e8307956290020e51e8d'), ObjectI...</td>\n",
              "      <td>5e09716a3a202700209d8f8d</td>\n",
              "      <td>Jamon queso huevo milanesa, de todo 🤯🤯🤯🤯🤯🤯🤯</td>\n",
              "      <td>dish</td>\n",
              "      <td>5d36712b49745d0004c69f05</td>\n",
              "      <td>5d43224660309900045dbd46</td>\n",
              "      <td>5</td>\n",
              "      <td>5</td>\n",
              "      <td>3</td>\n",
              "      <td>5</td>\n",
              "      <td>5</td>\n",
              "      <td>4.6</td>\n",
              "      <td>2020-01-27 18:46:57.667</td>\n",
              "      <td>germancampagno</td>\n",
              "      <td>0</td>\n",
              "      <td>11</td>\n",
              "      <td>19</td>\n",
              "      <td>13</td>\n",
              "      <td>germancampagno</td>\n",
              "      <td>en</td>\n",
              "      <td>Argentina</td>\n",
              "      <td>40</td>\n",
              "      <td>Lomito completo</td>\n",
              "      <td>Loving Hut Microcentro</td>\n",
              "      <td>Argentina</td>\n",
              "      <td>https://www.facebook.com/LovingHut.Microcentro/</td>\n",
              "      <td>NaN</td>\n",
              "      <td>[milanesa]</td>\n",
              "    </tr>\n",
              "  </tbody>\n",
              "</table>\n",
              "</div>"
            ],
            "text/plain": [
              "                        _id  ...                                           entities\n",
              "0  5e2f312ee873b10020b64c5d  ...                                            [vegan]\n",
              "1  5e2f30cd21cbcd002090abdd  ...                              [garbanzo, hamburger]\n",
              "2  5e2f30c521cbcd002090abd4  ...  [basil, cashew_nuts, cherry_tomatoes, pasta, tea]\n",
              "3  5e2f305d21cbcd002090abaf  ...                                                 []\n",
              "4  5e2f3021e873b10020b64c1a  ...                                         [milanesa]\n",
              "\n",
              "[5 rows x 29 columns]"
            ]
          },
          "metadata": {
            "tags": []
          },
          "execution_count": 39
        }
      ]
    },
    {
      "cell_type": "code",
      "metadata": {
        "id": "RmhksjyWvza2",
        "colab_type": "code",
        "outputId": "dbce5f7e-fdfe-4349-a543-907c1ceab897",
        "colab": {
          "base_uri": "https://localhost:8080/",
          "height": 34
        }
      },
      "source": [
        "ent_list_eval_tba = []\n",
        "for doc in nlp.pipe(eval_reviews['text']):\n",
        "  ent_list_eval_tba.append([ent.text for ent in doc.ents if ent.ent_id_ == ''])\n",
        "\n",
        "df_eval = pd.DataFrame()\n",
        "df_eval = df_eval.append(ent_list_eval_tba).dropna(how='all')\n",
        "\n",
        "full_list_eval_tba = []\n",
        "\n",
        "for col in df_eval.columns:\n",
        "  full_list_eval_tba.extend([k.lower() for k in Counter(list(df_eval[col])).keys() if k != None])\n",
        "\n",
        "full_list_eval_tba = [k for k in Counter(sorted(full_list_eval_tba)).keys()]\n",
        "len(full_list_eval_tba)"
      ],
      "execution_count": 40,
      "outputs": [
        {
          "output_type": "execute_result",
          "data": {
            "text/plain": [
              "1651"
            ]
          },
          "metadata": {
            "tags": []
          },
          "execution_count": 40
        }
      ]
    },
    {
      "cell_type": "code",
      "metadata": {
        "id": "Xv_U2yRqv4B1",
        "colab_type": "code",
        "outputId": "fca7df5d-f76c-4c50-9b86-e4e25fad8530",
        "colab": {
          "base_uri": "https://localhost:8080/",
          "height": 34
        }
      },
      "source": [
        "ent_list_test_tba = []\n",
        "for doc in nlp.pipe(test_reviews['text']):\n",
        "  ent_list_test_tba.append([ent.text for ent in doc.ents if ent.ent_id_ == ''])\n",
        "\n",
        "df_test = pd.DataFrame()\n",
        "df_test = df_test.append(ent_list_test_tba).dropna(how='all')\n",
        "\n",
        "full_list_test_tba = []\n",
        "\n",
        "for col in df_test.columns:\n",
        "  full_list_test_tba.extend([k.lower() for k in Counter(list(df_test[col])).keys() if k != None])\n",
        "\n",
        "full_list_test_tba = [k for k in Counter(sorted(full_list_test_tba)).keys()]\n",
        "len(full_list_test_tba)"
      ],
      "execution_count": 41,
      "outputs": [
        {
          "output_type": "execute_result",
          "data": {
            "text/plain": [
              "0"
            ]
          },
          "metadata": {
            "tags": []
          },
          "execution_count": 41
        }
      ]
    },
    {
      "cell_type": "code",
      "metadata": {
        "id": "iqvyqHUsv8Mn",
        "colab_type": "code",
        "outputId": "832c3a9a-4f1a-4ed9-84dd-5f242a8d7cdb",
        "colab": {
          "base_uri": "https://localhost:8080/",
          "height": 34
        }
      },
      "source": [
        "entities_to_be_added = [k for k in Counter(sorted(full_list_eval_tba + full_list_test_tba)).keys()]\n",
        "len(entities_to_be_added)"
      ],
      "execution_count": 42,
      "outputs": [
        {
          "output_type": "execute_result",
          "data": {
            "text/plain": [
              "1651"
            ]
          },
          "metadata": {
            "tags": []
          },
          "execution_count": 42
        }
      ]
    },
    {
      "cell_type": "code",
      "metadata": {
        "id": "pKLLfr4Xv_si",
        "colab_type": "code",
        "colab": {}
      },
      "source": [
        ""
      ],
      "execution_count": 0,
      "outputs": []
    },
    {
      "cell_type": "code",
      "metadata": {
        "id": "TyY1hy-bwIAL",
        "colab_type": "code",
        "colab": {}
      },
      "source": [
        "pat_list = list(df_pattern['id'].unique())"
      ],
      "execution_count": 0,
      "outputs": []
    },
    {
      "cell_type": "code",
      "metadata": {
        "id": "9HdVGzIywK3w",
        "colab_type": "code",
        "outputId": "55da235f-4af2-44d5-9764-7540787b5434",
        "colab": {
          "base_uri": "https://localhost:8080/",
          "height": 34
        }
      },
      "source": [
        "leven_result = []\n",
        "for inp in entities_to_be_added:\n",
        "\n",
        "  for pat in pat_list:\n",
        "    leven = td.levenshtein.normalized_similarity(inp, pat)\n",
        "\n",
        "    if  (leven > 0.7) & (leven < 0.9999):\n",
        "      leven_result.append((inp, pat, leven))\n",
        "len(leven_result)"
      ],
      "execution_count": 44,
      "outputs": [
        {
          "output_type": "execute_result",
          "data": {
            "text/plain": [
              "936"
            ]
          },
          "metadata": {
            "tags": []
          },
          "execution_count": 44
        }
      ]
    },
    {
      "cell_type": "code",
      "metadata": {
        "id": "rnmrlLBABO3B",
        "colab_type": "code",
        "colab": {}
      },
      "source": [
        ""
      ],
      "execution_count": 0,
      "outputs": []
    },
    {
      "cell_type": "code",
      "metadata": {
        "id": "6NHlqSrmBZtY",
        "colab_type": "code",
        "colab": {
          "base_uri": "https://localhost:8080/",
          "height": 34
        },
        "outputId": "85cef280-bba2-45c9-96c7-40070183b8d0"
      },
      "source": [
        "sound_list = [item for item in entities_to_be_added if type(item) == str]\n",
        "soundex_list = []\n",
        "\n",
        "for item in sound_list:\n",
        "  try:\n",
        "    soundx = jf.soundex(item)\n",
        "  except:\n",
        "    soundx = 'no value'\n",
        "  soundex_list.append((item, soundx))\n",
        "\n",
        "len(soundex_list)"
      ],
      "execution_count": 45,
      "outputs": [
        {
          "output_type": "execute_result",
          "data": {
            "text/plain": [
              "1651"
            ]
          },
          "metadata": {
            "tags": []
          },
          "execution_count": 45
        }
      ]
    },
    {
      "cell_type": "code",
      "metadata": {
        "id": "_-2FOSmpCKxi",
        "colab_type": "code",
        "outputId": "3fa1937e-1593-4c15-d1e4-d2441961ece0",
        "colab": {
          "base_uri": "https://localhost:8080/",
          "height": 1000
        }
      },
      "source": [
        "soundex_list"
      ],
      "execution_count": 46,
      "outputs": [
        {
          "output_type": "execute_result",
          "data": {
            "text/plain": [
              "[('+0.20', '+000'),\n",
              " (', few', ',100'),\n",
              " ('-hour', '-600'),\n",
              " ('.ricotta  ', '.623'),\n",
              " ('0/10', '0000'),\n",
              " ('1.000', '1000'),\n",
              " ('10.40sgd', '1230'),\n",
              " ('1000/10', '1000'),\n",
              " ('100zaront', '1265'),\n",
              " ('10pcs', '1120'),\n",
              " ('11,50', '1000'),\n",
              " ('11:30', '1000'),\n",
              " ('12-jan', '1250'),\n",
              " ('12.90', '1000'),\n",
              " ('13,000', '1000'),\n",
              " ('130zaront', '1265'),\n",
              " ('14/11', '1000'),\n",
              " ('1920s', '1200'),\n",
              " ('1924', '1000'),\n",
              " ('1941', '1000'),\n",
              " ('1942', '1000'),\n",
              " ('1:00', '1000'),\n",
              " ('1:30', '1000'),\n",
              " ('1;trozo', '1362'),\n",
              " ('1for1', '1160'),\n",
              " ('1x', '1200'),\n",
              " ('1€.', '1000'),\n",
              " ('2/4', '2000'),\n",
              " ('20days', '2320'),\n",
              " ('22', '2000'),\n",
              " ('22 hours', '2620'),\n",
              " ('24 hours', '2620'),\n",
              " ('24 hrs', '2620'),\n",
              " ('2:30', '2000'),\n",
              " ('3-day', '3300'),\n",
              " ('3/11', '3000'),\n",
              " ('30mins', '3552'),\n",
              " ('3s', '3200'),\n",
              " ('3th', '3300'),\n",
              " ('45++', '4000'),\n",
              " ('49', '4000'),\n",
              " ('4:30', '4000'),\n",
              " ('4p', '4100'),\n",
              " ('5-spice', '5212'),\n",
              " ('5.000', '5000'),\n",
              " ('50pe', '5100'),\n",
              " ('5sg$', '5200'),\n",
              " ('7/11', '7000'),\n",
              " ('70kr', '7260'),\n",
              " ('71', '7000'),\n",
              " ('8.95', '8000'),\n",
              " ('95krs', '9262'),\n",
              " ('9inch', '9520'),\n",
              " ('@roshni01', '@625'),\n",
              " ('a hour', 'A600'),\n",
              " ('a.m.', 'A500'),\n",
              " ('aarhus', 'A620'),\n",
              " ('abacus', 'A122'),\n",
              " ('abdi', 'A130'),\n",
              " ('abobrinha', 'A116'),\n",
              " ('abucknellveg', 'A125'),\n",
              " ('academy', 'A235'),\n",
              " ('acid', 'A230'),\n",
              " ('acomspañado', 'A252'),\n",
              " ('acorn', 'A265'),\n",
              " ('acropolis', 'A261'),\n",
              " ('adai', 'A300'),\n",
              " ('additional hour', 'A335'),\n",
              " ('adobe', 'A310'),\n",
              " ('after few', 'A136'),\n",
              " ('afternoon 2:30 pm', 'A136'),\n",
              " ('afuri', 'A160'),\n",
              " ('agaricus', 'A262'),\n",
              " ('agradable', 'A263'),\n",
              " ('agrandado', 'A265'),\n",
              " ('agregué', 'A262'),\n",
              " ('aguadulce', 'A234'),\n",
              " ('ahimi', 'A500'),\n",
              " ('ahoy', 'A000'),\n",
              " ('ajijic', 'A222'),\n",
              " ('ajonjolí', 'A252'),\n",
              " ('alameda', 'A453'),\n",
              " ('alamo', 'A450'),\n",
              " ('alan', 'A450'),\n",
              " ('albondigas', 'A415'),\n",
              " ('alcalá', 'A424'),\n",
              " ('alcarchofas', 'A426'),\n",
              " ('aldi', 'A430'),\n",
              " ('alfalfa', 'A414'),\n",
              " ('alfredo', 'A416'),\n",
              " ('alhambra', 'A451'),\n",
              " ('alice', 'A420'),\n",
              " ('all day', 'A430'),\n",
              " ('all day!', 'A430'),\n",
              " ('allergen free', 'A462'),\n",
              " ('allium', 'A450'),\n",
              " ('allium free', 'A451'),\n",
              " ('alphonso', 'A415'),\n",
              " ('altamimi', 'A435'),\n",
              " ('alwayss', 'A420'),\n",
              " ('alyse', 'A420'),\n",
              " ('amazon', 'A525'),\n",
              " ('amooooo', 'A500'),\n",
              " ('amparo', 'A516'),\n",
              " ('amyof', 'A510'),\n",
              " ('amy’sdrivethru', 'A523'),\n",
              " ('ananá', 'A550'),\n",
              " ('anastasia', 'A523'),\n",
              " ('anchovy', 'A521'),\n",
              " ('and.oh', 'A530'),\n",
              " ('andes', 'A532'),\n",
              " ('andouille', 'A534'),\n",
              " ('angenehme süße', 'A525'),\n",
              " ('angerichtet', 'A526'),\n",
              " ('annatto', 'A530'),\n",
              " ('annecy', 'A520'),\n",
              " ('annsiang', 'A525'),\n",
              " ('anthocyanins', 'A532'),\n",
              " ('anticipación', 'A532'),\n",
              " ('anticucho', 'A532'),\n",
              " ('antigua', 'A532'),\n",
              " ('antonio', 'A535'),\n",
              " ('aparenta', 'A165'),\n",
              " ('are few', 'A610'),\n",
              " ('argentino', 'A625'),\n",
              " ('armarla', 'A656'),\n",
              " ('aromático', 'A653'),\n",
              " ('artemisia', 'A635'),\n",
              " ('asahi', 'A200'),\n",
              " ('ashersfarmsanctuary', 'A262'),\n",
              " ('astoria', 'A236'),\n",
              " ('astragalus', 'A236'),\n",
              " ('at qdoba', 'A323'),\n",
              " ('atendido', 'A353'),\n",
              " ('athena', 'A350'),\n",
              " ('atm', 'A350'),\n",
              " ('atún', 'A350'),\n",
              " ('autumn', 'A350'),\n",
              " ('avo rolls', 'A164'),\n",
              " ('awazekc', 'A220'),\n",
              " ('ayurveda', 'A613'),\n",
              " ('aztec', 'A232'),\n",
              " ('backyardcafe', 'B263'),\n",
              " ('bacons', 'B252'),\n",
              " ('bagle', 'B240'),\n",
              " ('baguio', 'B200'),\n",
              " ('bakar', 'B260'),\n",
              " ('baked rolls', 'B236'),\n",
              " ('baker', 'B260'),\n",
              " ('bananaey', 'B550'),\n",
              " ('banfield', 'B514'),\n",
              " ('bangalore', 'B524'),\n",
              " ('banh xeo', 'B520'),\n",
              " ('bao', 'B000'),\n",
              " ('bao claypot', 'B241'),\n",
              " ('barbara', 'B616'),\n",
              " ('barbecho', 'B612'),\n",
              " ('bariloche', 'B642'),\n",
              " ('bashir', 'B260'),\n",
              " ('bastó', 'B230'),\n",
              " ('baunilha', 'B540'),\n",
              " ('bayarea', 'B600'),\n",
              " ('bbq', 'B200'),\n",
              " ('bbq and', 'B253'),\n",
              " ('bbqs', 'B200'),\n",
              " ('bca', 'B200'),\n",
              " ('bcos', 'B220'),\n",
              " ('beach day', 'B230'),\n",
              " ('bead', 'B300'),\n",
              " ('bechamel', 'B254'),\n",
              " ('beds', 'B320'),\n",
              " ('bee tai', 'B300'),\n",
              " ('beech', 'B200'),\n",
              " ('beicon', 'B250'),\n",
              " ('beignets', 'B253'),\n",
              " ('beilagen', 'B425'),\n",
              " ('belag', 'B420'),\n",
              " ('bellly', 'B400'),\n",
              " ('beluga', 'B420'),\n",
              " ('benedict', 'B532'),\n",
              " ('berde', 'B630'),\n",
              " ('bergamot', 'B625'),\n",
              " ('bergvliet', 'B621'),\n",
              " ('betel', 'B340'),\n",
              " ('betterave', 'B361'),\n",
              " ('bhajji', 'B200'),\n",
              " ('bhature', 'B360'),\n",
              " ('bhojanam', 'B255'),\n",
              " ('biblioteksgatan', 'B143'),\n",
              " ('bico', 'B200'),\n",
              " ('bigmac', 'B252'),\n",
              " ('billy', 'B400'),\n",
              " ('birningham', 'B655'),\n",
              " ('black morels', 'B425'),\n",
              " ('black pigeon', 'B421'),\n",
              " ('bleu blanc', 'B414'),\n",
              " ('bleu cheez', 'B422'),\n",
              " ('blossoms', 'B425'),\n",
              " ('blue chip', 'B421'),\n",
              " ('blue zone', 'B425'),\n",
              " ('blvd', 'B413'),\n",
              " ('bmore', 'B560'),\n",
              " ('bohnenpatty', 'B551'),\n",
              " ('bok', 'B200'),\n",
              " ('bolita', 'B430'),\n",
              " ('bombay', 'B510'),\n",
              " ('boojum', 'B250'),\n",
              " ('boris', 'B620'),\n",
              " ('born', 'B650'),\n",
              " ('bosch', 'B200'),\n",
              " ('bostwick', 'B232'),\n",
              " ('bourbon', 'B615'),\n",
              " ('bradenton', 'B635'),\n",
              " ('branch(前门', 'B652'),\n",
              " ('brandon', 'B653'),\n",
              " ('branson', 'B652'),\n",
              " ('brassica', 'B622'),\n",
              " ('brassicas', 'B622'),\n",
              " ('breckenridge', 'B625'),\n",
              " ('bresaola', 'B624'),\n",
              " ('broccolinni', 'B624'),\n",
              " ('brocollini', 'B624'),\n",
              " ('bronto', 'B653'),\n",
              " ('brulee', 'B640'),\n",
              " ('brussel', 'B624'),\n",
              " ('brutaoes', 'B632'),\n",
              " ('bubble', 'B140'),\n",
              " ('buckeye', 'B200'),\n",
              " ('buddha', 'B300'),\n",
              " ('bude', 'B300'),\n",
              " ('bufet', 'B130'),\n",
              " ('bukit', 'B230'),\n",
              " ('buko', 'B200'),\n",
              " ('bulldog', 'B432'),\n",
              " ('burgerking', 'B626'),\n",
              " ('burgerwars', 'B626'),\n",
              " ('burguer king', 'B626'),\n",
              " ('burlington', 'B645'),\n",
              " ('burma', 'B650'),\n",
              " ('burma burma', 'B651'),\n",
              " ('busy day', 'B230'),\n",
              " ('butters', 'B362'),\n",
              " ('butterscotch', 'B362'),\n",
              " ('caeser', 'C260'),\n",
              " ('cafeinterior', 'C153'),\n",
              " ('café caju', 'C122'),\n",
              " ('café con', 'C125'),\n",
              " ('café de varkala', 'C131'),\n",
              " ('café en', 'C150'),\n",
              " ('café y', 'C100'),\n",
              " ('café 💕', 'C100'),\n",
              " ('cake#dessert', 'C232'),\n",
              " ('calendar', 'C453'),\n",
              " ('camellia', 'C540'),\n",
              " ('camelrock', 'C546'),\n",
              " ('cancun', 'C525'),\n",
              " ('cannolis', 'C542'),\n",
              " ('canola', 'C540'),\n",
              " ('canonshots', 'C552'),\n",
              " ('cantines', 'C535'),\n",
              " ('caper', 'C160'),\n",
              " ('capetown', 'C135'),\n",
              " ('capetownrestaurants', 'C135'),\n",
              " ('cappuccinos', 'C125'),\n",
              " ('caprese', 'C162'),\n",
              " ('car free', 'C616'),\n",
              " ('cardiovascular', 'C631'),\n",
              " ('carlos', 'C642'),\n",
              " ('carmel', 'C654'),\n",
              " ('carob', 'C610'),\n",
              " ('casserole', 'C264'),\n",
              " ('castro', 'C236'),\n",
              " ('catfish', 'C312'),\n",
              " ('cauliflower', 'C414'),\n",
              " ('caviar', 'C160'),\n",
              " ('ceaser', 'C260'),\n",
              " ('celiaco', 'C420'),\n",
              " ('cerritos', 'C632'),\n",
              " ('chai', 'C000'),\n",
              " ('chana', 'C500'),\n",
              " ('chanterelle', 'C536'),\n",
              " ('chanterelles', 'C536'),\n",
              " ('char', 'C600'),\n",
              " ('char dish', 'C632'),\n",
              " ('char grill', 'C626'),\n",
              " ('char grilled', 'C626'),\n",
              " ('char stalls', 'C623'),\n",
              " ('charlottesville', 'C643'),\n",
              " ('cheatday', 'C300'),\n",
              " ('chee', 'C000'),\n",
              " ('chee cheong', 'C252'),\n",
              " ('cheez', 'C200'),\n",
              " ('cheezefactory', 'C212'),\n",
              " ('cheong', 'C520'),\n",
              " ('chevre', 'C160'),\n",
              " ('chicagodiner', 'C223'),\n",
              " ('chicharron', 'C265'),\n",
              " ('chickenfingers', 'C251'),\n",
              " ('chickens', 'C252'),\n",
              " ('chicory', 'C260'),\n",
              " ('chicory root', 'C266'),\n",
              " ('chicxs', 'C200'),\n",
              " ('chifles', 'C142'),\n",
              " ('chilanga', 'C452'),\n",
              " ('chiles', 'C420'),\n",
              " ('chilis', 'C420'),\n",
              " ('chimi', 'C500'),\n",
              " ('chipotle sun goddess', 'C134'),\n",
              " ('chitose', 'C320'),\n",
              " ('chix', 'C200'),\n",
              " ('chlorella', 'C464'),\n",
              " ('choccy', 'C200'),\n",
              " ('chocolatada', 'C243'),\n",
              " ('chocolate+coconut', 'C243'),\n",
              " ('chocolates', 'C243'),\n",
              " ('choose', 'C200'),\n",
              " ('chor', 'C600'),\n",
              " ('chowder', 'C360'),\n",
              " ('chowders', 'C362'),\n",
              " ('choy', 'C000'),\n",
              " ('christian', 'C623'),\n",
              " ('chuan', 'C500'),\n",
              " ('chyes', 'C200'),\n",
              " ('citricos', 'C362'),\n",
              " ('citrus', 'C362'),\n",
              " ('claremont', 'C465'),\n",
              " ('clay pot', 'C413'),\n",
              " ('club', 'C410'),\n",
              " ('club sehat', 'C412'),\n",
              " ('co+nut+ink', 'C535'),\n",
              " ('cocina', 'C250'),\n",
              " ('cocinan', 'C255'),\n",
              " ('coco cuina', 'C225'),\n",
              " ('coconutwater', 'C253'),\n",
              " ('coctel', 'C234'),\n",
              " ('codfish', 'C312'),\n",
              " ('coffeeshop', 'C121'),\n",
              " ('cohonmbro', 'C516'),\n",
              " ('colada', 'C430'),\n",
              " ('cole', 'C400'),\n",
              " ('coliur', 'C460'),\n",
              " ('collard', 'C463'),\n",
              " ('comérmelo', 'C565'),\n",
              " ('confit', 'C513'),\n",
              " ('cooked hainanese', 'C235'),\n",
              " ('cooked neapolitan', 'C235'),\n",
              " ('cookiebutter', 'C213'),\n",
              " ('cornstarch', 'C652'),\n",
              " ('cortadita', 'C633'),\n",
              " ('costco', 'C232'),\n",
              " ('coulis', 'C420'),\n",
              " ('cowpea', 'C100'),\n",
              " ('craisins', 'C625'),\n",
              " ('crawfish', 'C612'),\n",
              " ('creamer', 'C656'),\n",
              " ('creerías', 'C662'),\n",
              " ('creme vega', 'C651'),\n",
              " ('crepe&spoon', 'C612'),\n",
              " ('crimini', 'C655'),\n",
              " ('crocker', 'C626'),\n",
              " ('croquet', 'C623'),\n",
              " ('cruces', 'C622'),\n",
              " ('crueltyfreeoptions', 'C643'),\n",
              " ('crueltyfreerestaurants', 'C643'),\n",
              " ('crunchie', 'C652'),\n",
              " ('crystal', 'C623'),\n",
              " ('cukes', 'C220'),\n",
              " ('curl', 'C640'),\n",
              " ('currants', 'C653'),\n",
              " ('curried', 'C630'),\n",
              " ('curried broth', 'C631'),\n",
              " ('daiyacheddar', 'D236'),\n",
              " ('dajen', 'D250'),\n",
              " ('daniel', 'D540'),\n",
              " ('dark brown', 'D621'),\n",
              " ('dark green', 'D622'),\n",
              " ('day old', 'D430'),\n",
              " ('dazu honig', 'D252'),\n",
              " ('deal.oh', 'D400'),\n",
              " ('debbie', 'D100'),\n",
              " ('decaf', 'D210'),\n",
              " ('decaff', 'D210'),\n",
              " ('deepgroove', 'D126'),\n",
              " ('degustation', 'D223'),\n",
              " ('delhi', 'D400'),\n",
              " ('delly', 'D400'),\n",
              " ('dfw', 'D100'),\n",
              " ('dharamsala', 'D652'),\n",
              " ('didi', 'D300'),\n",
              " ('diego', 'D200'),\n",
              " ('dig vega', 'D212'),\n",
              " ('dintaifung', 'D531'),\n",
              " ('disclamer', 'D245'),\n",
              " ('disney', 'D250'),\n",
              " ('ditchdairy', 'D323'),\n",
              " ('divino', 'D150'),\n",
              " ('dolsot', 'D423'),\n",
              " ('dominos', 'D552'),\n",
              " ('donatos', 'D532'),\n",
              " ('doner', 'D560'),\n",
              " ('dragon', 'D625'),\n",
              " ('drumstick', 'D652'),\n",
              " ('dulce de', 'D423'),\n",
              " ('döner', 'D560'),\n",
              " ('earl', 'E640'),\n",
              " ('earlier', 'E646'),\n",
              " ('early', 'E640'),\n",
              " ('eatability(my', 'E314'),\n",
              " ('eggroll', 'E264'),\n",
              " ('elche', 'E420'),\n",
              " ('ellxs', 'E420'),\n",
              " ('embassy', 'E512'),\n",
              " ('encantan', 'E525'),\n",
              " ('endives', 'E531'),\n",
              " ('enjiy', 'E520'),\n",
              " ('escatiman', 'E235'),\n",
              " ('estáis', 'E232'),\n",
              " ('every few', 'E161'),\n",
              " ('every.single.day', 'E162'),\n",
              " ('everythingbagel', 'E163'),\n",
              " ('exeter', 'E236'),\n",
              " ('expresso', 'E216'),\n",
              " ('extra few', 'E236'),\n",
              " ('extremely few', 'E236'),\n",
              " ('fahrenheit', 'F653'),\n",
              " ('farmerandthecook', 'F656'),\n",
              " ('fast and', 'F235'),\n",
              " ('fast serving', 'F232'),\n",
              " ('fast 😅', 'F230'),\n",
              " ('fatty', 'F300'),\n",
              " ('fatty bao', 'F310'),\n",
              " ('fava', 'F100'),\n",
              " ('favvvv', 'F100'),\n",
              " ('fenogreco', 'F526'),\n",
              " ('ferreto', 'F630'),\n",
              " ('filet', 'F430'),\n",
              " ('filets', 'F432'),\n",
              " ('fillet', 'F430'),\n",
              " ('fillets', 'F432'),\n",
              " ('find few', 'F531'),\n",
              " ('fishcake', 'F222'),\n",
              " ('fishcakes', 'F222'),\n",
              " ('flan', 'F450'),\n",
              " ('flat cheez', 'F432'),\n",
              " ('flavorable', 'F416'),\n",
              " ('flax', 'F420'),\n",
              " ('flax oil', 'F424'),\n",
              " ('flourishbistro', 'F462'),\n",
              " ('flourless', 'F464'),\n",
              " ('foie', 'F000'),\n",
              " ('fomu', 'F500'),\n",
              " ('food.highly', 'F324'),\n",
              " ('foodphotography', 'F313'),\n",
              " ('foodporn', 'F316'),\n",
              " ('foodtruck', 'F362'),\n",
              " ('foood', 'F300'),\n",
              " ('for few', 'F610'),\n",
              " ('forrest gump', 'F623'),\n",
              " ('fortnight', 'F635'),\n",
              " ('fraiche', 'F620'),\n",
              " ('frapuchino con', 'F612'),\n",
              " ('fresh rolls', 'F626'),\n",
              " ('fried fritters', 'F631'),\n",
              " ('fried oysters', 'F632'),\n",
              " ('fried pickle', 'F631'),\n",
              " ('fried potstickers', 'F631'),\n",
              " ('fried quorn', 'F632'),\n",
              " ('fried rolls', 'F636'),\n",
              " ('fried wantons', 'F635'),\n",
              " ('fritatta', 'F633'),\n",
              " ('fritters', 'F636'),\n",
              " ('frozen ice', 'F625'),\n",
              " ('fréjoles', 'F624'),\n",
              " ('früchte', 'F623'),\n",
              " ('fuccuk', 'F220'),\n",
              " ('fudgy', 'F320'),\n",
              " ('fully vega', 'F412'),\n",
              " ('funfetti', 'F513'),\n",
              " ('fuschia', 'F200'),\n",
              " ('gabriel', 'G164'),\n",
              " ('gado', 'G300'),\n",
              " ('galettes', 'G432'),\n",
              " ('gallo', 'G400'),\n",
              " ('games', 'G520'),\n",
              " ('ganoderma', 'G536'),\n",
              " ('gastarse', 'G236'),\n",
              " ('gejibre', 'G216'),\n",
              " ('gemütlichkeit', 'G534'),\n",
              " ('genmaicha', 'G520'),\n",
              " ('gerobak', 'G612'),\n",
              " ('getwiththeprogram', 'G333'),\n",
              " ('giant leaf', 'G534'),\n",
              " ('gibraltar', 'G164'),\n",
              " ('glass straw', 'G422'),\n",
              " ('glonojad', 'G452'),\n",
              " ('gluten', 'G435'),\n",
              " ('gluten\\n', 'G435'),\n",
              " ('gluten acompañado', 'G435'),\n",
              " ('gluten allergy', 'G435'),\n",
              " ('gluten and', 'G435'),\n",
              " ('gluten based', 'G435'),\n",
              " ('gluten fee', 'G435'),\n",
              " ('gluten freeness', 'G435'),\n",
              " ('gluten full', 'G435'),\n",
              " ('gluten intake', 'G435'),\n",
              " ('gluten substitute', 'G435'),\n",
              " ('gluten 😉', 'G435'),\n",
              " ('gluten-', 'G435'),\n",
              " ('gluten-based', 'G435'),\n",
              " ('gluten.', 'G435'),\n",
              " ('goat', 'G300'),\n",
              " ('gobi', 'G100'),\n",
              " ('goji', 'G200'),\n",
              " ('golden brown', 'G435'),\n",
              " ('golden crunch', 'G435'),\n",
              " ('golden rings', 'G435'),\n",
              " ('good few', 'G310'),\n",
              " ('gooodddddddd', 'G300'),\n",
              " ('gorda', 'G630'),\n",
              " ('granel', 'G654'),\n",
              " ('grassfed', 'G621'),\n",
              " ('green', 'G650'),\n",
              " ('green chiles', 'G652'),\n",
              " ('green chilis', 'G652'),\n",
              " ('green leaf', 'G654'),\n",
              " ('green leafy', 'G654'),\n",
              " ('green roll', 'G656'),\n",
              " ('green sprouts', 'G652'),\n",
              " ('green tiger', 'G653'),\n",
              " ('greenland', 'G654'),\n",
              " ('greenmonday', 'G655'),\n",
              " ('greenville', 'G651'),\n",
              " ('greiser', 'G626'),\n",
              " ('grey', 'G600'),\n",
              " ('grill', 'G640'),\n",
              " ('groundedcoffee', 'G653'),\n",
              " ('groundzero', 'G653'),\n",
              " ('gruesa', 'G620'),\n",
              " ('gss', 'G000'),\n",
              " ('guajillo', 'G240'),\n",
              " ('guamole', 'G540'),\n",
              " ('gulfport', 'G416'),\n",
              " ('gyros', 'G620'),\n",
              " ('h.o.p.e.', 'H100'),\n",
              " ('had!!!', 'H300'),\n",
              " ('halal', 'H440'),\n",
              " ('ham\"v\"urguesa', 'H516'),\n",
              " ('hamster', 'H523'),\n",
              " ('handroll', 'H536'),\n",
              " ('haricot', 'H623'),\n",
              " ('harrisburg', 'H621'),\n",
              " ('hawthorn', 'H365'),\n",
              " ('healtheir', 'H436'),\n",
              " ('healthysg', 'H432'),\n",
              " ('heathrow', 'H360'),\n",
              " ('hells', 'H420'),\n",
              " ('helvti', 'H413'),\n",
              " ('herb', 'H610'),\n",
              " ('herb and', 'H615'),\n",
              " ('herb aroma', 'H616'),\n",
              " ('herb based', 'H611'),\n",
              " ('herb cream', 'H612'),\n",
              " ('herb drizzle', 'H613'),\n",
              " ('herb emulsion', 'H615'),\n",
              " ('herb flavors', 'H611'),\n",
              " ('herb flavour', 'H611'),\n",
              " ('herb leaves', 'H614'),\n",
              " ('herb levels', 'H614'),\n",
              " ('herb mix', 'H615'),\n",
              " ('herb molé', 'H615'),\n",
              " ('herb oil', 'H614'),\n",
              " ('herb phos', 'H611'),\n",
              " ('herb toppings', 'H613'),\n",
              " ('herb which', 'H612'),\n",
              " ('herb-', 'H610'),\n",
              " ('hibachi', 'H120'),\n",
              " ('highly', 'H240'),\n",
              " ('himeji', 'H520'),\n",
              " ('hinqué', 'H520'),\n",
              " ('hippopotamus', 'H113'),\n",
              " ('hoagie', 'H200'),\n",
              " ('hoagie roll', 'H264'),\n",
              " ('hobart', 'H163'),\n",
              " ('hobcafe', 'H121'),\n",
              " ('hoboken', 'H125'),\n",
              " ('hoisin', 'H250'),\n",
              " ('hojicha', 'H220'),\n",
              " ('hokkaido', 'H230'),\n",
              " ('hominy', 'H550'),\n",
              " ('hong', 'H520'),\n",
              " ('hookah', 'H200'),\n",
              " ('hoon', 'H500'),\n",
              " ('hooper', 'H160'),\n",
              " ('hopkins', 'H125'),\n",
              " ('hospital', 'H213'),\n",
              " ('hostelfrutasyverduras', 'H234'),\n",
              " ('hot broth', 'H316'),\n",
              " ('hot dogs', 'H332'),\n",
              " ('hot food', 'H313'),\n",
              " ('hot foods', 'H313'),\n",
              " ('hot hot', 'H330'),\n",
              " ('hot roll', 'H364'),\n",
              " ('hot soupy', 'H321'),\n",
              " ('hot sun', 'H325'),\n",
              " ('hot teh', 'H330'),\n",
              " ('hot white', 'H330'),\n",
              " ('hot yoga', 'H320'),\n",
              " ('hotcake', 'H322'),\n",
              " ('hotel(maybe', 'H345'),\n",
              " ('hour', 'H600'),\n",
              " ('hours', 'H620'),\n",
              " ('hout', 'H300'),\n",
              " ('huajuan', 'H250'),\n",
              " ('huddersfield', 'H362'),\n",
              " ('hudsonburgers', 'H325'),\n",
              " ('hudsonsgreenpoint', 'H325'),\n",
              " ('huelin', 'H450'),\n",
              " ('hugo', 'H200'),\n",
              " ('huitlacoche', 'H342'),\n",
              " ('hundred', 'H536'),\n",
              " ('hunter valley', 'H536'),\n",
              " ('huntington', 'H535'),\n",
              " ('huts', 'H320'),\n",
              " ('håakon', 'H250'),\n",
              " (\"i'll\", 'I400'),\n",
              " ('iberico', 'I162'),\n",
              " ('ice', 'I200'),\n",
              " ('ice and', 'I253'),\n",
              " ('ice based', 'I212'),\n",
              " ('ice black', 'I214'),\n",
              " ('ice cold', 'I224'),\n",
              " ('ice cream.#greyton', 'I226'),\n",
              " ('ice crystals', 'I226'),\n",
              " ('ice ice', 'I220'),\n",
              " ('ice kim', 'I225'),\n",
              " ('iced', 'I230'),\n",
              " ('iced and', 'I235'),\n",
              " ('iced blue chai', 'I231'),\n",
              " ('iced chai', 'I232'),\n",
              " ('iced golden', 'I232'),\n",
              " ('iced hojicha', 'I232'),\n",
              " ('iced ocean blue', 'I232'),\n",
              " ('ihop', 'I100'),\n",
              " ('ikan', 'I250'),\n",
              " ('impossibleburger', 'I512'),\n",
              " ('increibleee vayan', 'I526'),\n",
              " ('infusion', 'I512'),\n",
              " ('intolerance', 'I534'),\n",
              " ('is few', 'I210'),\n",
              " ('it(hello', 'I340'),\n",
              " ('it.(take', 'I332'),\n",
              " ('itaewon', 'I350'),\n",
              " ('jabenero', 'J156'),\n",
              " ('jaffle', 'J140'),\n",
              " ('jainvegetarian', 'J512'),\n",
              " ('james', 'J520'),\n",
              " ('james st.', 'J522'),\n",
              " ('jamie', 'J500'),\n",
              " ('jams', 'J520'),\n",
              " ('jamun julep', 'J552'),\n",
              " ('jamón”(a', 'J550'),\n",
              " ('jan.', 'J500'),\n",
              " ('janatomo', 'J535'),\n",
              " ('japanische', 'J152'),\n",
              " ('jarra infusion', 'J651'),\n",
              " ('jars', 'J620'),\n",
              " ('jason', 'J250'),\n",
              " ('jello', 'J400'),\n",
              " ('jellyfish', 'J412'),\n",
              " ('jenjibre', 'J521'),\n",
              " ('jerry', 'J600'),\n",
              " ('jersey', 'J620'),\n",
              " ('jiffy', 'J100'),\n",
              " ('joan', 'J500'),\n",
              " ('joburg', 'J162'),\n",
              " ('jolla', 'J400'),\n",
              " ('juan valdez', 'J514'),\n",
              " ('juax', 'J200'),\n",
              " ('juguea', 'J200'),\n",
              " ('juicebenefits', 'J215'),\n",
              " ('julia', 'J400'),\n",
              " ('julienne', 'J450'),\n",
              " ('julienned', 'J453'),\n",
              " ('jungle hut', 'J524'),\n",
              " ('kaffir', 'K160'),\n",
              " ('kaiser', 'K260'),\n",
              " ('kamakura', 'K526'),\n",
              " ('kamut', 'K530'),\n",
              " ('karoo', 'K600'),\n",
              " ('karotten', 'K635'),\n",
              " ('kartoffeln', 'K631'),\n",
              " ('katong', 'K352'),\n",
              " ('keaney', 'K500'),\n",
              " ('keith', 'K300'),\n",
              " ('kellnern', 'K456'),\n",
              " ('kernel cream', 'K654'),\n",
              " ('kevin', 'K150'),\n",
              " ('keyfibol', 'K114'),\n",
              " ('khatib', 'K310'),\n",
              " ('kibe', 'K100'),\n",
              " ('kicker', 'K260'),\n",
              " ('kidney', 'K350'),\n",
              " ('kilda', 'K430'),\n",
              " ('kimbab', 'K511'),\n",
              " ('king arthur', 'K526'),\n",
              " ('kingsoba', 'K521'),\n",
              " ('kinsale', 'K524'),\n",
              " ('kite hill', 'K340'),\n",
              " ('kitsune', 'K325'),\n",
              " ('kiwis', 'K200'),\n",
              " ('klia2', 'K400'),\n",
              " ('klm', 'K450'),\n",
              " ('kloof', 'K410'),\n",
              " ('kloofstreet', 'K412'),\n",
              " ('knead', 'K530'),\n",
              " ('kofte', 'K130'),\n",
              " ('kokosmilch', 'K225'),\n",
              " ('kombüse', 'K512'),\n",
              " ('kona', 'K500'),\n",
              " ('konbu', 'K510'),\n",
              " ('kong', 'K520'),\n",
              " ('kong bao', 'K521'),\n",
              " ('koong', 'K520'),\n",
              " ('kosher', 'K260'),\n",
              " ('kraft', 'K613'),\n",
              " ('krishna', 'K625'),\n",
              " ('kronner', 'K656'),\n",
              " ('kruger', 'K626'),\n",
              " ('ksl', 'K400'),\n",
              " ('kuih', 'K000'),\n",
              " ('kumamoto', 'K553'),\n",
              " ('kumara', 'K560'),\n",
              " ('kuromon', 'K655'),\n",
              " ('kuta', 'K300'),\n",
              " ('kway', 'K000'),\n",
              " ('l.a.', 'L000'),\n",
              " ('lait', 'L300'),\n",
              " ('lake annecy', 'L252'),\n",
              " ('lasanga', 'L252'),\n",
              " ('latkes', 'L322'),\n",
              " ('latté', 'L300'),\n",
              " ('lecho', 'L200'),\n",
              " ('lecithin', 'L235'),\n",
              " ('lekkervegan', 'L261'),\n",
              " ('lemak', 'L520'),\n",
              " ('lemons', 'L552'),\n",
              " ('lessons', 'L252'),\n",
              " ('lfl', 'L140'),\n",
              " ('light cream', 'L232'),\n",
              " ('lighthousefarmsanctuary', 'L232'),\n",
              " ('lightning fast', 'L235'),\n",
              " ('lilikoi', 'L420'),\n",
              " ('limes', 'L520'),\n",
              " ('lion', 'L500'),\n",
              " ('lion king', 'L525'),\n",
              " ('livestock meats', 'L123'),\n",
              " ('lobster', 'L123'),\n",
              " ('lobster rolls', 'L123'),\n",
              " ('lonche', 'L520'),\n",
              " ('longblack', 'L521'),\n",
              " ('lotuswurzel', 'L326'),\n",
              " ('lpd', 'L130'),\n",
              " ('ltburger', 'L316'),\n",
              " ('lunchtime', 'L523'),\n",
              " ('lycheethaifood', 'L231'),\n",
              " ('lácteos', 'L232'),\n",
              " ('légumineuses', 'L255'),\n",
              " ('mac', 'M200'),\n",
              " ('mac &', 'M200'),\n",
              " ('mac & moon', 'M255'),\n",
              " ('mac and', 'M253'),\n",
              " ('mac attack', 'M232'),\n",
              " ('mac demarco', 'M235'),\n",
              " ('mac down', 'M235'),\n",
              " ('mac imitation', 'M253'),\n",
              " ('mac inspired', 'M252'),\n",
              " ('mac no', 'M250'),\n",
              " ('mac replacement', 'M261'),\n",
              " ('macdonalds', 'M235'),\n",
              " ('macrobiotic', 'M261'),\n",
              " ('magenta', 'M253'),\n",
              " ('magnolia', 'M254'),\n",
              " ('magpies', 'M212'),\n",
              " ('mai khao', 'M200'),\n",
              " ('maidstone', 'M323'),\n",
              " ('main and', 'M553'),\n",
              " ('main meal', 'M554'),\n",
              " ('main option', 'M513'),\n",
              " ('main protein', 'M516'),\n",
              " ('maindish!!all', 'M532'),\n",
              " ('maine', 'M500'),\n",
              " ('maitake', 'M320'),\n",
              " ('maitreas', 'M362'),\n",
              " ('maize', 'M200'),\n",
              " ('makis', 'M220'),\n",
              " ('malgan', 'M425'),\n",
              " ('malibu', 'M410'),\n",
              " ('mallow', 'M400'),\n",
              " ('mamak', 'M520'),\n",
              " ('manchego', 'M522'),\n",
              " ('manchuria', 'M526'),\n",
              " ('mandarin', 'M536'),\n",
              " ('mandarin peel', 'M536'),\n",
              " ('mandarins', 'M536'),\n",
              " ('mandelmilch', 'M534'),\n",
              " ('mane', 'M500'),\n",
              " ('mangosalad', 'M522'),\n",
              " ('manioc', 'M520'),\n",
              " ('manner#juliana', 'M562'),\n",
              " ('manuel montt', 'M545'),\n",
              " ('maravilhosa', 'M614'),\n",
              " ('marcos', 'M622'),\n",
              " ('marinara', 'M656'),\n",
              " ('marinara and', 'M656'),\n",
              " ('marinara arrabbiata', 'M656'),\n",
              " ('marinara slice', 'M656'),\n",
              " ('marinara topped', 'M656'),\n",
              " ('marinate', 'M653'),\n",
              " ('marley', 'M640'),\n",
              " ('marleycoffee', 'M642'),\n",
              " ('marrow', 'M600'),\n",
              " ('marrows', 'M620'),\n",
              " ('marsala', 'M624'),\n",
              " ('marseille', 'M624'),\n",
              " ('masamakestacos', 'M252'),\n",
              " ('massaman', 'M255'),\n",
              " ('matthew', 'M300'),\n",
              " ('matthew kenney', 'M325'),\n",
              " ('maui', 'M000'),\n",
              " ('maui mall', 'M540'),\n",
              " ('mavericks', 'M162'),\n",
              " ('maxwell', 'M240'),\n",
              " ('mayan', 'M500'),\n",
              " ('mayfair', 'M160'),\n",
              " ('mayonaise', 'M520'),\n",
              " ('mayonaise and', 'M525'),\n",
              " ('mcmuffin', 'M251'),\n",
              " ('me few', 'M100'),\n",
              " ('meals', 'M420'),\n",
              " ('meats', 'M320'),\n",
              " ('medialunas', 'M345'),\n",
              " ('medicalmedium', 'M324'),\n",
              " ('mee', 'M000'),\n",
              " ('melia', 'M400'),\n",
              " ('melville', 'M414'),\n",
              " ('merah', 'M600'),\n",
              " ('meridien', 'M635'),\n",
              " ('meringues', 'M652'),\n",
              " ('metalstraws', 'M342'),\n",
              " ('mex', 'M200'),\n",
              " ('michael', 'M240'),\n",
              " ('michaelscott', 'M242'),\n",
              " ('michelin', 'M245'),\n",
              " ('midweek', 'M320'),\n",
              " ('mikoko', 'M220'),\n",
              " ('milford', 'M416'),\n",
              " ('millennium', 'M455'),\n",
              " ('mindblowingly', 'M531'),\n",
              " ('missionary', 'M256'),\n",
              " ('missiontacojoint', 'M253'),\n",
              " ('mixta', 'M230'),\n",
              " ('mochisho', 'M220'),\n",
              " ('mock', 'M200'),\n",
              " ('mock fried', 'M216'),\n",
              " ('mock goose', 'M222'),\n",
              " ('molé', 'M400'),\n",
              " ('mon', 'M500'),\n",
              " ('monarca', 'M562'),\n",
              " ('monash', 'M520'),\n",
              " ('monde', 'M530'),\n",
              " ('monkey valley', 'M521'),\n",
              " ('monkfish', 'M521'),\n",
              " ('monks', 'M520'),\n",
              " ('montreal', 'M536'),\n",
              " ('montrose', 'M536'),\n",
              " ('moon hoon kway', 'M552'),\n",
              " ('mooshka', 'M220'),\n",
              " ('morcilla', 'M624'),\n",
              " ('morel', 'M640'),\n",
              " ('morels', 'M642'),\n",
              " ('morita', 'M630'),\n",
              " ('mozza', 'M200'),\n",
              " ('mpls', 'M142'),\n",
              " ('mrsantana', 'M625'),\n",
              " ('mrt', 'M630'),\n",
              " ('msg(take', 'M232'),\n",
              " ('msia', 'M200'),\n",
              " ('mt.', 'M300'),\n",
              " ('muccho', 'M200'),\n",
              " ('muchisimo', 'M225'),\n",
              " ('mumbaivegan', 'M511'),\n",
              " ('mung sprouts', 'M522'),\n",
              " ('munnar', 'M560'),\n",
              " ('museli', 'M240'),\n",
              " ('mushu', 'M200'),\n",
              " ('musk', 'M200'),\n",
              " ('musubi', 'M210'),\n",
              " ('muyuuybbuenassaaaa', 'M152'),\n",
              " ('mvst', 'M123'),\n",
              " ('my day', 'M300'),\n",
              " ('myrtle', 'M634'),\n",
              " ('más vega', 'M212'),\n",
              " ('n.y.', 'N000'),\n",
              " ('nach', 'N200'),\n",
              " ('nagasaki', 'N222'),\n",
              " ('namaskar', 'N526'),\n",
              " ('napa', 'N100'),\n",
              " ('napa farms', 'N116'),\n",
              " ('napafarms', 'N116'),\n",
              " ('napolitana', 'N143'),\n",
              " ('nappa', 'N100'),\n",
              " ('nasi', 'N200'),\n",
              " ('nasturtium', 'N236'),\n",
              " ('nationaldish', 'N354'),\n",
              " ('naviyas', 'N120'),\n",
              " ('neon pigeon', 'N512'),\n",
              " ('nettle', 'N340'),\n",
              " ('newarc', 'N620'),\n",
              " ('next few', 'N231'),\n",
              " ('niagara', 'N260'),\n",
              " ('nibs', 'N120'),\n",
              " ('niceto vega', 'N231'),\n",
              " ('nigiri', 'N260'),\n",
              " ('niseko', 'N220'),\n",
              " ('noddles', 'N342'),\n",
              " ('nofilter', 'N143'),\n",
              " ('non greasy', 'N526'),\n",
              " ('non-', 'N500'),\n",
              " ('noni', 'N500'),\n",
              " ('normaliza', 'N654'),\n",
              " ('norteños', 'N635'),\n",
              " ('northstar', 'N632'),\n",
              " ('notorio', 'N360'),\n",
              " ('nougat+hazelnut', 'N232'),\n",
              " ('nourishyoursoul', 'N626'),\n",
              " ('nov.', 'N100'),\n",
              " ('novapizza', 'N112'),\n",
              " ('novotel', 'N134'),\n",
              " ('nsw', 'N200'),\n",
              " ('ntuc', 'N320'),\n",
              " ('nublado', 'N143'),\n",
              " ('nus', 'N200'),\n",
              " ('nut', 'N300'),\n",
              " ('nut based', 'N312'),\n",
              " ('nuts.#veganosaka', 'N321'),\n",
              " ('nutter', 'N360'),\n",
              " ('nyu', 'N000'),\n",
              " ('nyuveg', 'N120'),\n",
              " ('oat', 'O300'),\n",
              " ('oat and', 'O353'),\n",
              " ('oat cream', 'O326'),\n",
              " ('oat meal', 'O354'),\n",
              " ('oat😉', 'O300'),\n",
              " ('oberlin', 'O164'),\n",
              " ('octopus', 'O231'),\n",
              " ('of few', 'O110'),\n",
              " ('ojai', 'O200'),\n",
              " ('okara', 'O260'),\n",
              " ('old food', 'O431'),\n",
              " ('old mac', 'O435'),\n",
              " ('old town', 'O433'),\n",
              " ('ol’ ice lattes', 'O424'),\n",
              " ('omdchallenge', 'O532'),\n",
              " ('omega', 'O520'),\n",
              " ('omega-3', 'O520'),\n",
              " ('only few', 'O541'),\n",
              " ('oolong', 'O452'),\n",
              " ('open day', 'O153'),\n",
              " ('ordan', 'O635'),\n",
              " ('orellana', 'O645'),\n",
              " ('organicos', 'O625'),\n",
              " ('ostrich', 'O236'),\n",
              " ('oysters', 'O236'),\n",
              " ('p.e.t.', 'P300'),\n",
              " ('p.m.', 'P500'),\n",
              " ('pablano', 'P145'),\n",
              " ('pablo', 'P140'),\n",
              " ('paleo', 'P400'),\n",
              " ('paltz', 'P432'),\n",
              " ('pan fry', 'P516'),\n",
              " ('panang', 'P552'),\n",
              " (\"pand'monium\", 'P535'),\n",
              " ('paninis', 'P552'),\n",
              " ('papayas', 'P120'),\n",
              " ('papayasalad', 'P124'),\n",
              " ('paragon', 'P625'),\n",
              " ('paraíso', 'P620'),\n",
              " ('parm', 'P650'),\n",
              " ('parmesean', 'P652'),\n",
              " ('parsely', 'P624'),\n",
              " ('pasha', 'P200'),\n",
              " ('pasha grill', 'P226'),\n",
              " ('past few', 'P231'),\n",
              " ('patatasbravas', 'P332'),\n",
              " ('pate', 'P300'),\n",
              " ('pb toast', 'P323'),\n",
              " ('pearl', 'P640'),\n",
              " ('pears', 'P620'),\n",
              " ('peazo', 'P200'),\n",
              " ('pecorino', 'P265'),\n",
              " ...]"
            ]
          },
          "metadata": {
            "tags": []
          },
          "execution_count": 46
        }
      ]
    },
    {
      "cell_type": "code",
      "metadata": {
        "id": "HuytbVxXwNuJ",
        "colab_type": "code",
        "outputId": "947e543c-2f78-47fc-dc22-ef78aafe469e",
        "colab": {
          "base_uri": "https://localhost:8080/",
          "height": 1000
        }
      },
      "source": [
        "leven_result.sort(key=lambda x: x[0])\n",
        "leven_result"
      ],
      "execution_count": 47,
      "outputs": [
        {
          "output_type": "execute_result",
          "data": {
            "text/plain": [
              "[('0/10', '10/10', 0.8),\n",
              " ('0/10', '20/10', 0.8),\n",
              " ('0/10', '3/10', 0.75),\n",
              " ('0/10', '4/10', 0.75),\n",
              " ('0/10', '5/10', 0.75),\n",
              " ('0/10', '6/10', 0.75),\n",
              " ('0/10', '7/10', 0.75),\n",
              " ('0/10', '8/10', 0.75),\n",
              " ('0/10', '9/10', 0.75),\n",
              " ('1.000', '1000', 0.8),\n",
              " ('1.000', '10000', 0.8),\n",
              " ('1000/10', '10000', 0.7142857142857143),\n",
              " ('1000/10', '10/10', 0.7142857142857143),\n",
              " ('1000/10', '100/10', 0.8571428571428572),\n",
              " ('1:00', '1000', 0.75),\n",
              " ('1:00', '100', 0.75),\n",
              " ('1:00', '5:00', 0.75),\n",
              " ('1:30', '5:30', 0.75),\n",
              " ('1:30', '7:30', 0.75),\n",
              " ('24 hours', '24_hour', 0.75),\n",
              " ('2:30', '5:30', 0.75),\n",
              " ('2:30', '7:30', 0.75),\n",
              " ('3/11', '3/10', 0.75),\n",
              " ('30mins', '10_mins', 0.7142857142857143),\n",
              " ('30mins', '20_mins', 0.7142857142857143),\n",
              " ('30mins', '90_mins', 0.7142857142857143),\n",
              " ('3th', '13th', 0.75),\n",
              " ('3th', '30th', 0.75),\n",
              " ('4:30', '5:30', 0.75),\n",
              " ('4:30', '7:30', 0.75),\n",
              " ('5-spice', 'spice', 0.7142857142857143),\n",
              " ('5.000', '50000', 0.8),\n",
              " ('50pe', '50p', 0.75),\n",
              " ('7/11', '7/10', 0.75),\n",
              " ('a hour', 'an_hour', 0.7142857142857143),\n",
              " ('acorn', 'corn', 0.8),\n",
              " ('adai', 'ada', 0.75),\n",
              " ('adobe', 'adobo', 0.8),\n",
              " ('afuri', 'akuri', 0.8),\n",
              " ('afuri', 'aburi', 0.8),\n",
              " ('ahimi', 'sashimi', 0.7142857142857143),\n",
              " ('alameda', 'alamata', 0.7142857142857143),\n",
              " ('alameda', 'almada', 0.7142857142857143),\n",
              " ('alamo', 'malambo', 0.7142857142857143),\n",
              " ('alan', 'aldan', 0.8),\n",
              " ('aldi', 'albi', 0.75),\n",
              " ('alfredo', 'laredo', 0.7142857142857143),\n",
              " ('alhambra', 'alambre', 0.75),\n",
              " ('alhambra', 'altamira', 0.75),\n",
              " ('alhambra', 'anambra', 0.75),\n",
              " ('alice', 'lice', 0.8),\n",
              " ('altamimi', 'altamira', 0.75),\n",
              " ('amazon', 'amarone', 0.7142857142857143),\n",
              " ('amazon', 'amazonas', 0.75),\n",
              " ('amparo', 'amaro', 0.8333333333333334),\n",
              " ('amparo', 'campari', 0.7142857142857143),\n",
              " ('amparo', 'vampiro', 0.7142857142857143),\n",
              " ('amparo', 'ampara', 0.8333333333333334),\n",
              " ('anchovy', 'ancho', 0.7142857142857143),\n",
              " ('andes', 'sandesh', 0.7142857142857143),\n",
              " ('andes', 'randers', 0.7142857142857143),\n",
              " ('andes', 'sandnes', 0.7142857142857143),\n",
              " ('andouille', 'andouillette', 0.75),\n",
              " ('annatto', 'natto', 0.7142857142857143),\n",
              " ('annsiang', 'an_giang', 0.75),\n",
              " ('anticucho', 'anticuchos', 0.9),\n",
              " ('antonio', 'antojito', 0.75),\n",
              " ('argentino', 'argentine', 0.8888888888888888),\n",
              " ('argentino', 'argentina', 0.8888888888888888),\n",
              " ('armarla', 'amarula', 0.7142857142857143),\n",
              " ('armarla', 'amara', 0.7142857142857143),\n",
              " ('armarla', 'asmara', 0.7142857142857143),\n",
              " ('artemisia', 'artemisa', 0.8888888888888888),\n",
              " ('asahi', 'basashi', 0.7142857142857143),\n",
              " ('ashersfarmsanctuary', 'ashers_farm_sanctuary', 0.9047619047619048),\n",
              " ('astoria', 'austria', 0.7142857142857143),\n",
              " ('astoria', 'estonia', 0.7142857142857143),\n",
              " ('astoria', 'asturias', 0.75),\n",
              " ('astoria', 'soria', 0.7142857142857143),\n",
              " ('astoria', 'styria', 0.7142857142857143),\n",
              " ('athena', 'athens', 0.8333333333333334),\n",
              " ('bacons', 'bacon', 0.8333333333333334),\n",
              " ('bakar', 'baar', 0.8),\n",
              " ('bakar', 'bakal', 0.8),\n",
              " ('bakar', 'bhakkar', 0.7142857142857143),\n",
              " ('bakar', 'dakar', 0.8),\n",
              " ('bananaey', 'banana', 0.75),\n",
              " ('banfield', 'enfield', 0.75),\n",
              " ('bangalore', 'mangalorean', 0.7272727272727273),\n",
              " ('bangalore', 'mangalore', 0.8888888888888888),\n",
              " ('bao', 'bago', 0.75),\n",
              " ('barbara', 'barbacoa', 0.75),\n",
              " ('barbara', 'akbara', 0.7142857142857143),\n",
              " ('barbara', 'bambari', 0.7142857142857143),\n",
              " ('barbara', 'baraka', 0.7142857142857143),\n",
              " ('barbara', 'barnala', 0.7142857142857143),\n",
              " ('barbara', 'iargara', 0.7142857142857143),\n",
              " ('barbara', 'mariara', 0.7142857142857143),\n",
              " ('barbara', 'mbarara', 0.7142857142857143),\n",
              " ('barbara', 'karbala', 0.7142857142857143),\n",
              " ('barbecho', 'barbecue', 0.75),\n",
              " ('bariloche', 'brioche', 0.7777777777777778),\n",
              " ('bashir', 'baghrir', 0.7142857142857143),\n",
              " ('bashir', 'kashira', 0.7142857142857143),\n",
              " ('bashir', 'tashir', 0.8333333333333334),\n",
              " ('bayarea', 'bavaria', 0.7142857142857143),\n",
              " ('beach day', 'each_day', 0.7777777777777778),\n",
              " ('bead', 'bread', 0.8),\n",
              " ('bead', 'beed', 0.75),\n",
              " ('bead', 'berd', 0.75),\n",
              " ('bead', 'brad', 0.75),\n",
              " ('beicon', 'bohicon', 0.7142857142857143),\n",
              " ('beignets', 'beignet', 0.875),\n",
              " ('beluga', 'vetluga', 0.7142857142857143),\n",
              " ('berde', 'zerde', 0.8),\n",
              " ('berde', 'berd', 0.8),\n",
              " ('bergamot', 'bergama', 0.75),\n",
              " ('bergamot', 'bergamo', 0.875),\n",
              " ('bhajji', 'bhaji', 0.8333333333333334),\n",
              " ('bhature', 'bhatura', 0.8571428571428572),\n",
              " ('bhature', 'shatura', 0.7142857142857143),\n",
              " ('bico', 'xico', 0.75),\n",
              " ('birningham', 'birmingham', 0.9),\n",
              " ('bok', 'bock', 0.75),\n",
              " ('bok', 'boké', 0.75),\n",
              " ('bolita', 'bolivia', 0.7142857142857143),\n",
              " ('boris', 'bopis', 0.8),\n",
              " ('boris', 'borts', 0.8),\n",
              " ('boris', 'borisov', 0.7142857142857143),\n",
              " ('boris', 'borås', 0.8),\n",
              " ('boris', 'goris', 0.8),\n",
              " ('born', 'borș', 0.75),\n",
              " ('born', 'korn', 0.75),\n",
              " ('born', 'bonn', 0.75),\n",
              " ('born', 'bor', 0.75),\n",
              " ('born', 'bern', 0.75),\n",
              " ('born', 'borno', 0.8),\n",
              " ('born', 'corn', 0.75),\n",
              " ('bosch', 'borscht', 0.7142857142857143),\n",
              " ('brandon', 'brandy', 0.7142857142857143),\n",
              " ('brandon', 'bandol', 0.7142857142857143),\n",
              " ('brandon', 'grandson', 0.75),\n",
              " ('branson', 'grandson', 0.75),\n",
              " ('branson', 'rawson', 0.7142857142857143),\n",
              " ('branson', 'rason', 0.7142857142857143),\n",
              " ('broccolinni', 'broccoli', 0.7272727272727273),\n",
              " ('broccolinni', 'broccolini', 0.9090909090909091),\n",
              " ('brocollini', 'broccolini', 0.8),\n",
              " ('bronto', 'bovonto', 0.7142857142857143),\n",
              " ('bronto', 'toronto', 0.7142857142857143),\n",
              " ('brussel', 'brussels', 0.875),\n",
              " ('bude', 'budu', 0.75),\n",
              " ('bufet', 'buffet', 0.8333333333333334),\n",
              " ('burgerking', 'burger_king', 0.9090909090909091),\n",
              " ('burguer king', 'burger_king', 0.8333333333333334),\n",
              " ('burlington', 'arlington', 0.8),\n",
              " ('burlington', 'darlington', 0.8),\n",
              " ('burma', 'bursa', 0.8),\n",
              " ('butters', 'butter', 0.8571428571428572),\n",
              " ('caeser', 'caesar', 0.8333333333333334),\n",
              " ('calendar', 'calentao', 0.75),\n",
              " ('cancun', 'cancún', 0.8333333333333334),\n",
              " ('cannolis', 'cannoli', 0.875),\n",
              " ('canola', 'cacolac', 0.7142857142857143),\n",
              " ('canola', 'cannoli', 0.7142857142857143),\n",
              " ('canola', 'granola', 0.7142857142857143),\n",
              " ('cantines', 'cantonese', 0.7777777777777778),\n",
              " ('cantines', 'antibes', 0.75),\n",
              " ('cantines', 'cannes', 0.75),\n",
              " ('capetown', 'cape_town', 0.8888888888888888),\n",
              " ('cappuccinos', 'cappuccino', 0.9090909090909091),\n",
              " ('cappuccinos', 'frappuccino', 0.7272727272727273),\n",
              " ('caprese', 'varese', 0.7142857142857143),\n",
              " ('carlos', 'carrots', 0.7142857142857143),\n",
              " ('carmel', 'karmiel', 0.7142857142857143),\n",
              " ('chai', 'chal', 0.75),\n",
              " ('chai', 'thai', 0.75),\n",
              " ('chai', 'chaia', 0.8),\n",
              " ('chai', 'cham', 0.75),\n",
              " ('chai', 'chad', 0.75),\n",
              " ('chana', 'chakna', 0.8333333333333334),\n",
              " ('chana', 'changua', 0.7142857142857143),\n",
              " ('chana', 'chaia', 0.8),\n",
              " ('chana', 'chania', 0.8333333333333334),\n",
              " ('chana', 'china', 0.8),\n",
              " ('chana', 'ghana', 0.8),\n",
              " ('chana', 'chainat', 0.7142857142857143),\n",
              " ('char', 'achar', 0.8),\n",
              " ('char', 'chal', 0.75),\n",
              " ('char', 'cham', 0.75),\n",
              " ('char', 'chur', 0.75),\n",
              " ('char', 'thar', 0.75),\n",
              " ('char', 'chad', 0.75),\n",
              " ('char', 'chard', 0.8),\n",
              " ('chee', 'ghee', 0.75),\n",
              " ('chicharron', 'chicharrón', 0.9),\n",
              " ('chickens', 'chicken', 0.875),\n",
              " ('chickens', 'chiken', 0.75),\n",
              " ('chickens', 'chickpeas', 0.7777777777777778),\n",
              " ('chifles', 'chilies', 0.7142857142857143),\n",
              " ('chifles', 'chifle', 0.8571428571428572),\n",
              " ('chifles', 'chillies', 0.75),\n",
              " ('chifles', 'chives', 0.7142857142857143),\n",
              " ('chifles', 'chillis', 0.7142857142857143),\n",
              " ('chifles', 'chile', 0.7142857142857143),\n",
              " ('chilanga', 'tchibanga', 0.7777777777777778),\n",
              " ('chiles', 'chilies', 0.8571428571428572),\n",
              " ('chiles', 'chillies', 0.75),\n",
              " ('chiles', 'chives', 0.8333333333333334),\n",
              " ('chiles', 'chilean', 0.7142857142857143),\n",
              " ('chiles', 'chinese', 0.7142857142857143),\n",
              " ('chiles', 'chillis', 0.7142857142857143),\n",
              " ('chiles', 'chile', 0.8333333333333334),\n",
              " ('chilis', 'chilies', 0.8571428571428572),\n",
              " ('chilis', 'chislic', 0.7142857142857143),\n",
              " ('chilis', 'chili', 0.8333333333333334),\n",
              " ('chilis', 'chillies', 0.75),\n",
              " ('chilis', 'chillis', 0.8571428571428572),\n",
              " ('chilis', 'chalcis', 0.7142857142857143),\n",
              " ('chimi', 'chili', 0.8),\n",
              " ('chimi', 'chimoio', 0.7142857142857143),\n",
              " ('chitose', 'chimole', 0.7142857142857143),\n",
              " ('chitose', 'chinese', 0.7142857142857143),\n",
              " ('chocolatada', 'chocolate', 0.7272727272727273),\n",
              " ('chocolates', 'chocolate', 0.9),\n",
              " ('chocolates', 'chocolate_fish', 0.7142857142857143),\n",
              " ('chor', 'chur', 0.75),\n",
              " ('chor', 'ghor', 0.75),\n",
              " ('choy', 'chuy', 0.75),\n",
              " ('christian', 'christmas', 0.7777777777777778),\n",
              " ('chuan', 'sichuan', 0.7142857142857143),\n",
              " ('club', 'cluj', 0.75),\n",
              " ('cocina', 'cocaine', 0.7142857142857143),\n",
              " ('cocina', 'coxinha', 0.7142857142857143),\n",
              " ('colada', 'cholado', 0.7142857142857143),\n",
              " ('colada', 'coslada', 0.8571428571428572),\n",
              " ('cole', 'mole', 0.75),\n",
              " ('collard', 'colmar', 0.7142857142857143),\n",
              " ('craisins', 'raisin', 0.75),\n",
              " ('craisins', 'raisins', 0.875),\n",
              " ('crimini', 'rimini', 0.8571428571428572),\n",
              " ('crocker', 'cracker', 0.8571428571428572),\n",
              " ('crocker', 'crackers', 0.75),\n",
              " ('croquet', 'croquette', 0.7777777777777778),\n",
              " ('croquet', 'cronut', 0.7142857142857143),\n",
              " ('cukes', 'cakes', 0.8),\n",
              " ('curl', 'curd', 0.75),\n",
              " ('curl', 'purl', 0.75),\n",
              " ('currants', 'currant', 0.875),\n",
              " ('dajen', 'daejeon', 0.7142857142857143),\n",
              " ('delly', 'jelly', 0.8),\n",
              " ('didi', 'didim', 0.8),\n",
              " ('didi', 'dili', 0.75),\n",
              " ('dintaifung', 'din_tai_fung', 0.8333333333333334),\n",
              " ('dominos', 'tomino', 0.7142857142857143),\n",
              " ('donatos', 'donuts', 0.7142857142857143),\n",
              " ('drumstick', 'drumsticks', 0.9),\n",
              " ('eggroll', 'egg_roll', 0.875),\n",
              " ('endives', 'endive', 0.8571428571428572),\n",
              " ('expresso', 'espresso', 0.875),\n",
              " ('fava', 'cava', 0.75),\n",
              " ('fava', 'rava', 0.75),\n",
              " ('fava', 'fada', 0.75),\n",
              " ('ferreto', 'fernet', 0.7142857142857143),\n",
              " ('filets', 'millets', 0.7142857142857143),\n",
              " ('fillet', 'lillet', 0.8333333333333334),\n",
              " ('fillet', 'millet', 0.8333333333333334),\n",
              " ('fillet', 'millets', 0.7142857142857143),\n",
              " ('fillets', 'lillet', 0.7142857142857143),\n",
              " ('fillets', 'millet', 0.7142857142857143),\n",
              " ('fillets', 'millets', 0.8571428571428572),\n",
              " ('foie', 'joie', 0.75),\n",
              " ('fraiche', 'flamiche', 0.75),\n",
              " ('fraiche', 'fiche', 0.7142857142857143),\n",
              " ('fraiche', 'france', 0.7142857142857143),\n",
              " ('fritatta', 'fritada', 0.75),\n",
              " ('fritatta', 'fritata', 0.875),\n",
              " ('fritatta', 'frittata', 0.75),\n",
              " ('fritters', 'fritter', 0.875),\n",
              " ('fudgy', 'fudge', 0.8),\n",
              " ('gado', 'gedo', 0.75),\n",
              " ('galettes', 'galette', 0.875),\n",
              " ('gallo', 'galão', 0.8),\n",
              " ('gallo', 'galle', 0.8),\n",
              " ('games', 'gades', 0.8),\n",
              " ('gerobak', 'gerona', 0.7142857142857143),\n",
              " ('gluten', 'gauteng', 0.7142857142857143),\n",
              " ('gluten\\n', 'gauteng', 0.7142857142857143),\n",
              " ('gluten fee', 'gluten_free', 0.8181818181818181),\n",
              " ('gluten-', 'gauteng', 0.7142857142857143),\n",
              " ('gluten.', 'gauteng', 0.7142857142857143),\n",
              " ('goat', 'goan', 0.75),\n",
              " ('goat', 'goa', 0.75),\n",
              " ('gobi', 'goba', 0.75),\n",
              " ('gobi', 'gori', 0.75),\n",
              " ('goji', 'gori', 0.75),\n",
              " ('gorda', 'gordita', 0.7142857142857143),\n",
              " ('gorda', 'gouda', 0.8),\n",
              " ('gorda', 'agordat', 0.7142857142857143),\n",
              " ('gorda', 'gordola', 0.7142857142857143),\n",
              " ('granel', 'granola', 0.7142857142857143),\n",
              " ('green', 'greek', 0.8),\n",
              " ('green', 'greens', 0.8333333333333334),\n",
              " ('guamole', 'guacamole', 0.7777777777777778),\n",
              " ('gyros', 'gyro', 0.8),\n",
              " ('hamster', 'easter', 0.7142857142857143),\n",
              " ('haricot', 'alicot', 0.7142857142857143),\n",
              " ('haricot', 'fricot', 0.7142857142857143),\n",
              " ('haricot', 'apricot', 0.7142857142857143),\n",
              " ('hells', 'helles', 0.8333333333333334),\n",
              " ('herb', 'herbs', 0.8),\n",
              " ('herb-', 'herbs', 0.8),\n",
              " ('hibachi', 'higashi', 0.7142857142857143),\n",
              " ('himeji', 'shimeji', 0.8571428571428572),\n",
              " ('hojicha', 'oicha', 0.7142857142857143),\n",
              " ('hoon', 'noon', 0.75),\n",
              " ('hoon', 'holon', 0.8),\n",
              " ('hot dogs', 'hot_dog', 0.75),\n",
              " ('hot dogs', 'hotdogs', 0.875),\n",
              " ('hot hot', 'hot_pot', 0.7142857142857143),\n",
              " ('hot hot', 'hohhot', 0.7142857142857143),\n",
              " ('hotcake', 'hot_cakes', 0.7777777777777778),\n",
              " ('hotcake', 'shortcake', 0.7777777777777778),\n",
              " ('hour', 'four', 0.75),\n",
              " ('hours', 'tours', 0.8),\n",
              " ('huajuan', \"huai'an\", 0.7142857142857143),\n",
              " ('huajuan', 'huainan', 0.7142857142857143),\n",
              " ('huelin', 'huedin', 0.8333333333333334),\n",
              " ('hugo', 'lugo', 0.75),\n",
              " ('huts', 'nuts', 0.75),\n",
              " ('ice', 'rice', 0.75),\n",
              " ('ice', 'lice', 0.75),\n",
              " ('ice and', 'iceland', 0.8571428571428572),\n",
              " ('ice and', 'ireland', 0.7142857142857143),\n",
              " ('iced and', 'iceland', 0.75),\n",
              " ('ikan', 'iran', 0.75),\n",
              " ('jabenero', 'habanero', 0.75),\n",
              " ('jaffle', 'waffles', 0.7142857142857143),\n",
              " ('jaffle', 'waffle', 0.8333333333333334),\n",
              " ('jainvegetarian', 'vegetarian', 0.7142857142857143),\n",
              " ('jainvegetarian', 'pi_vegetarian', 0.7857142857142857),\n",
              " ('jams', 'jam', 0.75),\n",
              " ('jars', 'fars', 0.75),\n",
              " ('jars', 'kars', 0.75),\n",
              " ('jason', 'jackson', 0.7142857142857143),\n",
              " ('jason', 'sason', 0.8),\n",
              " ('jason', 'rason', 0.8),\n",
              " ('jello', 'jell_o', 0.8333333333333334),\n",
              " ('jello', 'jelly', 0.8),\n",
              " ('jello', 'bello', 0.8),\n",
              " ('jerry', 'jerky', 0.8),\n",
              " ('jerry', 'berry', 0.8),\n",
              " ('joan', 'goan', 0.75),\n",
              " ('joan', 'jaan', 0.75),\n",
              " ('joburg', 'domburg', 0.7142857142857143),\n",
              " ('julia', 'zulia', 0.8),\n",
              " ('kaiser', 'kaiseki', 0.7142857142857143),\n",
              " ('kaiser', 'kasseri', 0.7142857142857143),\n",
              " ('kaiser', 'kassler', 0.7142857142857143),\n",
              " ('kaiser', 'kayseri', 0.7142857142857143),\n",
              " ('karoo', 'karoi', 0.8),\n",
              " ('karotten', 'korosten', 0.75),\n",
              " ('kartoffeln', 'pellkartoffeln', 0.7142857142857143),\n",
              " ('katong', 'datong', 0.8333333333333334),\n",
              " ('katong', 'karonga', 0.7142857142857143),\n",
              " ('katong', 'kasongo', 0.7142857142857143),\n",
              " ('katong', 'nantong', 0.7142857142857143),\n",
              " ('katong', 'katanga', 0.7142857142857143),\n",
              " ('kevin', 'kovin', 0.8),\n",
              " ('kibe', 'kibi', 0.75),\n",
              " ('kibe', 'kobe', 0.75),\n",
              " ('kicker', 'pickert', 0.7142857142857143),\n",
              " ('kilda', 'kilia', 0.8),\n",
              " ('kilda', 'kolda', 0.8),\n",
              " ('kinsale', 'isale', 0.7142857142857143),\n",
              " ('kinsale', 'kinkala', 0.7142857142857143),\n",
              " ('kinsale', 'kitale', 0.7142857142857143),\n",
              " ('kiwis', 'kiwi', 0.8),\n",
              " ('kiwis', 'kilis', 0.8),\n",
              " ('kofte', 'kofta', 0.8),\n",
              " ('kona', 'kola', 0.75),\n",
              " ('kona', 'konya', 0.8),\n",
              " ('konbu', 'kombu', 0.8),\n",
              " ('koong', 'konongo', 0.7142857142857143),\n",
              " ('koong', 'moong', 0.8),\n",
              " ('kraft', 'kraut', 0.8),\n",
              " ('kruger', 'kragerø', 0.7142857142857143),\n",
              " ('kumamoto', 'kumanovo', 0.75),\n",
              " ('kuromon', 'kuruman', 0.7142857142857143),\n",
              " ('kuta', 'kutia', 0.8),\n",
              " ('kuta', 'buta', 0.75),\n",
              " ('kuta', 'keta', 0.75),\n",
              " ('kuta', 'kula', 0.75),\n",
              " ('kuta', 'kusa', 0.75),\n",
              " ('lait', 'last', 0.75),\n",
              " ('lasanga', 'lasagna', 0.7142857142857143),\n",
              " ('lasanga', 'pasanda', 0.7142857142857143),\n",
              " ('lasanga', 'kananga', 0.7142857142857143),\n",
              " ('lasanga', 'palanga', 0.7142857142857143),\n",
              " ('lasanga', 'katanga', 0.7142857142857143),\n",
              " ('latté', 'latte', 0.8),\n",
              " ('lecho', 'lechazo', 0.7142857142857143),\n",
              " ('lecho', 'lechon', 0.8333333333333334),\n",
              " ('lecho', 'lechona', 0.7142857142857143),\n",
              " ('lecho', 'lecco', 0.8),\n",
              " ('lemons', 'lemon', 0.8333333333333334),\n",
              " ('lemons', 'le_mans', 0.7142857142857143),\n",
              " ('limes', 'lime', 0.8),\n",
              " ('limes', 'limoges', 0.7142857142857143),\n",
              " ('lion', 'lyon', 0.75),\n",
              " ('lion', 'sion', 0.75),\n",
              " ('lobster', 'oyster', 0.7142857142857143),\n",
              " ('lobster', 'oster', 0.7142857142857143),\n",
              " ('lobster rolls', 'lobster_roll', 0.8461538461538461),\n",
              " ('longblack', 'long_black', 0.9),\n",
              " ('ltburger', 'altenburger', 0.7272727272727273),\n",
              " ('ltburger', 'burger', 0.75),\n",
              " ('ltburger', 'limburger', 0.7777777777777778),\n",
              " ('mac', 'maca', 0.75),\n",
              " ('macdonalds', 'mcdonalds', 0.9),\n",
              " ('magenta', 'manta', 0.7142857142857143),\n",
              " ('magenta', 'macenta', 0.8571428571428572),\n",
              " ('maine', 'mains', 0.8),\n",
              " ('maine', 'mainz', 0.8),\n",
              " ('maine', 'romaine', 0.7142857142857143),\n",
              " ('maitake', 'matoke', 0.7142857142857143),\n",
              " ('maitake', 'matale', 0.7142857142857143),\n",
              " ('makis', 'masis', 0.8),\n",
              " ('malgan', 'jalgaon', 0.7142857142857143),\n",
              " ('malgan', 'malegaon', 0.75),\n",
              " ('mallow', 'malolos', 0.7142857142857143),\n",
              " ('mandarin', 'mandazi', 0.75),\n",
              " ('mandarin', 'mazarin', 0.75),\n",
              " ('mandarin', 'mandai', 0.75),\n",
              " ('mane', 'mate', 0.75),\n",
              " ('manioc', 'mandoca', 0.7142857142857143),\n",
              " ('marinara', 'farinata', 0.75),\n",
              " ('marinara', 'mariara', 0.875),\n",
              " ('marinara slice', 'marinara_sauce', 0.7857142857142857),\n",
              " ('marinate', 'farinata', 0.75),\n",
              " ('marley', 'barley', 0.8333333333333334),\n",
              " ('marley', 'parsley', 0.7142857142857143),\n",
              " ('marrow', 'harrow', 0.8333333333333334),\n",
              " ('marrows', 'harrow', 0.7142857142857143),\n",
              " ('marrows', 'carrots', 0.7142857142857143),\n",
              " ('marsala', 'masala', 0.8571428571428572),\n",
              " ('marsala', 'barnala', 0.7142857142857143),\n",
              " ('marsala', 'machala', 0.7142857142857143),\n",
              " ('marsala', 'maralal', 0.7142857142857143),\n",
              " ('marsala', 'mariara', 0.7142857142857143),\n",
              " ('marsala', 'masaka', 0.7142857142857143),\n",
              " ('marsala', 'massawa', 0.7142857142857143),\n",
              " ('marsala', 'karbala', 0.7142857142857143),\n",
              " ('marsala', 'kassala', 0.7142857142857143),\n",
              " ('massaman', 'massawa', 0.75),\n",
              " ('maui', 'mati', 0.75),\n",
              " ('maui', 'maua', 0.75),\n",
              " ('maui', 'maun', 0.75),\n",
              " ('maui', 'mauá', 0.75),\n",
              " ('maui', 'mali', 0.75),\n",
              " ('mayan', 'masan', 0.8),\n",
              " ('mayan', 'maymana', 0.7142857142857143),\n",
              " ('mayan', 'maysan', 0.8333333333333334),\n",
              " ('mayonaise', 'mayonnaise', 0.9),\n",
              " ('mcmuffin', 'muffin', 0.75),\n",
              " ('meats', 'meat', 0.8),\n",
              " ('mee', 'meze', 0.75),\n",
              " ('melia', 'morelia', 0.7142857142857143),\n",
              " ('melia', 'melilla', 0.7142857142857143),\n",
              " ('melville', 'seville', 0.75),\n",
              " ('melville', 'melilla', 0.75),\n",
              " ('meridien', 'meridian', 0.875),\n",
              " ('meringues', 'meringue', 0.8888888888888888),\n",
              " ('michael', 'kichel', 0.7142857142857143),\n",
              " ('michelin', 'mechelen', 0.75),\n",
              " ('mikoko', 'makokou', 0.7142857142857143),\n",
              " ('milford', 'mumford', 0.7142857142857143),\n",
              " ('milford', 'telford', 0.7142857142857143),\n",
              " ('mock', 'bock', 0.75),\n",
              " ('mock', 'moca', 0.75),\n",
              " ('molé', 'mole', 0.75),\n",
              " ('molé', 'molo', 0.75),\n",
              " ('molé', 'malé', 0.75),\n",
              " ('mon', 'mons', 0.75),\n",
              " ('monarca', 'monaka', 0.7142857142857143),\n",
              " ('monarca', 'monaco', 0.7142857142857143),\n",
              " ('monde', 'molde', 0.8),\n",
              " ('monks', 'mons', 0.8),\n",
              " ('montreal', 'montreux', 0.75),\n",
              " ('mooshka', 'mossaka', 0.7142857142857143),\n",
              " ('morcilla', 'tortilla', 0.75),\n",
              " ('morel', 'morelia', 0.7142857142857143),\n",
              " ('morel', 'morelos', 0.7142857142857143),\n",
              " ('morels', 'morelia', 0.7142857142857143),\n",
              " ('morels', 'morelos', 0.8571428571428572),\n",
              " ('morita', 'gordita', 0.7142857142857143),\n",
              " ('morita', 'moretta', 0.7142857142857143),\n",
              " ('morita', 'malorita', 0.75),\n",
              " ('morita', 'moringa', 0.7142857142857143),\n",
              " ('mozza', 'monza', 0.8),\n",
              " ('mrsantana', 'santana', 0.7777777777777778),\n",
              " ('msia', 'asia', 0.75),\n",
              " ('msia', 'maia', 0.75),\n",
              " ('munnar', 'junnar', 0.8333333333333334),\n",
              " ('munnar', 'mannar', 0.8333333333333334),\n",
              " ('mushu', 'yushu', 0.8),\n",
              " ('musk', 'mus', 0.75),\n",
              " ('musk', 'rusk', 0.75),\n",
              " ('musk', 'busk', 0.75),\n",
              " ('nach', 'nacho', 0.8),\n",
              " ('nagasaki', 'saganaki', 0.75),\n",
              " ('nagasaki', 'kawasaki', 0.75),\n",
              " ('namaskar', 'namakkal', 0.75),\n",
              " ('napa', 'tapa', 0.75),\n",
              " ('napa', 'anapa', 0.8),\n",
              " ('napa', 'naga', 0.75),\n",
              " ('napa', 'nara', 0.75),\n",
              " ('nappa', 'pappa', 0.8),\n",
              " ('nationaldish', 'national_dish', 0.9230769230769231),\n",
              " ('naviyas', 'navotas', 0.7142857142857143),\n",
              " ('nettle', 'seattle', 0.7142857142857143),\n",
              " ('newarc', 'newark', 0.8333333333333334),\n",
              " ('niagara', 'iargara', 0.7142857142857143),\n",
              " ('nigiri', 'onigiri', 0.8571428571428572),\n",
              " ('nigiri', 'nigeria', 0.7142857142857143),\n",
              " ('noddles', 'noodle', 0.7142857142857143),\n",
              " ('noddles', 'noodles', 0.8571428571428572),\n",
              " ('noddles', 'nogales', 0.7142857142857143),\n",
              " ('noni', 'nori', 0.75),\n",
              " ('novotel', 'novosil', 0.7142857142857143),\n",
              " ('nus', 'nuts', 0.75),\n",
              " ('nut', 'nunt', 0.75),\n",
              " ('nut', 'nuts', 0.75),\n",
              " ('nutter', 'butter', 0.8333333333333334),\n",
              " ('oat and', 'oakland', 0.7142857142857143),\n",
              " ('oberlin', 'oberwil', 0.7142857142857143),\n",
              " ('oberlin', 'berlin', 0.8571428571428572),\n",
              " ('oberlin', 'oberland', 0.75),\n",
              " ('okara', 'obara', 0.8),\n",
              " ('okara', 'kara', 0.8),\n",
              " ('okara', 'okra', 0.8),\n",
              " ('omega', 'onega', 0.8),\n",
              " ('ordan', 'jordan', 0.8333333333333334),\n",
              " ('ordan', 'oran', 0.8),\n",
              " ('ostrich', 'ostroh', 0.7142857142857143),\n",
              " ('oysters', 'oyster', 0.8571428571428572),\n",
              " ('oysters', 'oster', 0.7142857142857143),\n",
              " ('pablano', 'poblano', 0.8571428571428572),\n",
              " ('pablano', 'plano', 0.7142857142857143),\n",
              " ('paleo', 'palermo', 0.7142857142857143),\n",
              " ('paltz', 'palt', 0.8),\n",
              " ('panang', 'da_nang', 0.7142857142857143),\n",
              " ('panang', 'kananga', 0.7142857142857143),\n",
              " ('panang', 'nanyang', 0.7142857142857143),\n",
              " ('panang', 'padang', 0.8333333333333334),\n",
              " ('panang', 'palanga', 0.7142857142857143),\n",
              " ('panang', 'pahang', 0.8333333333333334),\n",
              " ('panang', 'penang', 0.8333333333333334),\n",
              " ('paninis', 'paniki', 0.7142857142857143),\n",
              " ('papayas', 'papaya', 0.8571428571428572),\n",
              " ('papayas', 'palayan', 0.7142857142857143),\n",
              " ('papayas', 'payas', 0.7142857142857143),\n",
              " ('paragon', 'tarragon', 0.75),\n",
              " ('paragon', 'parakou', 0.7142857142857143),\n",
              " ('paragon', 'paraćin', 0.7142857142857143),\n",
              " ('paraíso', 'paraíba', 0.7142857142857143),\n",
              " ('parm', 'parmo', 0.8),\n",
              " ('parm', 'parma', 0.8),\n",
              " ('parm', 'perm', 0.75),\n",
              " ('parm', 'pará', 0.75),\n",
              " ('parmesean', 'parmesan', 0.8888888888888888),\n",
              " ('parsely', 'parsley', 0.7142857142857143),\n",
              " ('pasha', 'pashmak', 0.7142857142857143),\n",
              " ('pasha', 'paska', 0.8),\n",
              " ('pasha', 'paskha', 0.8333333333333334),\n",
              " ('pasha', 'pasta', 0.8),\n",
              " ('pasha', 'asha', 0.8),\n",
              " ('patatasbravas', 'patatas_bravas', 0.9285714285714286),\n",
              " ('pate', 'mate', 0.75),\n",
              " ('pearl', 'pear', 0.8),\n",
              " ('pears', 'years', 0.8),\n",
              " ('pears', 'pear', 0.8),\n",
              " ('pears', 'peas', 0.8),\n",
              " ('pecorino', 'povorino', 0.75),\n",
              " ('peel', 'pecel', 0.8),\n",
              " ('pepas', 'peas', 0.8),\n",
              " ('pepitas', 'pelotas', 0.7142857142857143),\n",
              " ('peta', 'pita', 0.75),\n",
              " ('peta', 'feta', 0.75),\n",
              " ('peta', 'peda', 0.75),\n",
              " ('peta', 'deta', 0.75),\n",
              " ('peta', 'keta', 0.75),\n",
              " ('phad', 'chad', 0.75),\n",
              " ('philly', 'prilly', 0.8333333333333334),\n",
              " ('piccadilly', 'picadillo', 0.8),\n",
              " ('piccadilly', 'piccalilli', 0.8),\n",
              " ('pico', 'pici', 0.75),\n",
              " ('pico', 'pisco', 0.8),\n",
              " ('pico', 'xico', 0.75),\n",
              " ('pilau', 'pilaf', 0.8),\n",
              " ('pilau', 'pilav', 0.8),\n",
              " ('pillows', 'pillus', 0.7142857142857143),\n",
              " ('pimento', 'pimienta', 0.75),\n",
              " ('pimento', 'pinto', 0.7142857142857143),\n",
              " ('pine', 'nine', 0.75),\n",
              " ('pine', 'pune', 0.75),\n",
              " ('pine', 'çine', 0.75),\n",
              " ('piri', 'pici', 0.75),\n",
              " ('piri', 'piti', 0.75),\n",
              " ('piri', 'miri', 0.75),\n",
              " ('piri', 'pori', 0.75),\n",
              " ('piri', 'puri', 0.75),\n",
              " ('pitapita', 'pitalito', 0.75),\n",
              " ('pitta', 'pita', 0.8),\n",
              " ('pitta', 'pitha', 0.8),\n",
              " ('piza', 'pita', 0.75),\n",
              " ('piza', 'pizza', 0.8),\n",
              " ('piza', 'pisa', 0.75),\n",
              " ('piza', 'piła', 0.75),\n",
              " ('piza', 'giza', 0.75),\n",
              " ('plantasia', 'plantain', 0.7777777777777778),\n",
              " ('platte', 'latte', 0.8333333333333334),\n",
              " ('poboy', \"po'_boy\", 0.7142857142857143),\n",
              " ('pomme', 'gomme', 0.8),\n",
              " ('pondicherry', 'puducherry', 0.7272727272727273),\n",
              " ('porcini', 'porcino', 0.8571428571428572),\n",
              " ('porosa', 'formosa', 0.7142857142857143),\n",
              " ('porosa', 'lourosa', 0.7142857142857143),\n",
              " ('portabellas', 'portobello', 0.7272727272727273),\n",
              " ('portabello', 'portobello', 0.9),\n",
              " ('portugese', 'portuguese', 0.9),\n",
              " ('portugese', 'portugalete', 0.7272727272727273),\n",
              " ('portugese', 'portuguesa', 0.8),\n",
              " ('posole', 'pozole', 0.8333333333333334),\n",
              " ('potosi', 'potosí', 0.8333333333333334),\n",
              " ('potstickers', 'potsticker', 0.9090909090909091),\n",
              " ('poutines', 'poutine', 0.875),\n",
              " ('pozile', 'pozole', 0.8333333333333334),\n",
              " ('preto', 'pret', 0.8),\n",
              " ('profiteroles', 'profiterole', 0.9166666666666666),\n",
              " ('pudina', 'piadina', 0.7142857142857143),\n",
              " ('pudina', 'pudding', 0.7142857142857143),\n",
              " ('pudina', 'dudinka', 0.7142857142857143),\n",
              " ('pulled oat', 'pulled_oats', 0.8181818181818181),\n",
              " ('pumpernickle', 'pumpernickel', 0.8333333333333334),\n",
              " ('pupusas', 'pupusa', 0.8571428571428572),\n",
              " ('quacamole', 'guacamole', 0.8888888888888888),\n",
              " ('quarter', 'quarteira', 0.7777777777777778),\n",
              " ('quarter', 'duarte', 0.7142857142857143),\n",
              " ('radisson', 'calisson', 0.75),\n",
              " ('radisson', 'madison', 0.75),\n",
              " ('raitna', 'raita', 0.8333333333333334),\n",
              " ('raja', 'rajma', 0.8),\n",
              " ('raja', 'rava', 0.75),\n",
              " ('raja', 'rana', 0.75),\n",
              " ('raja', 'rača', 0.75),\n",
              " ('ranch dressings', 'ranch_dressing', 0.8666666666666667),\n",
              " ('ranchocucamonga', 'rancho_cucamonga', 0.9375),\n",
              " ('rasher', 'raschera', 0.75),\n",
              " ('roasted', 'roast', 0.7142857142857143),\n",
              " ('roe', 'rose', 0.75),\n",
              " ('roe', 'rome', 0.75),\n",
              " ('roman', 'oman', 0.8),\n",
              " ('roman', 'romania', 0.7142857142857143),\n",
              " ('roman', 'romaine', 0.7142857142857143),\n",
              " ('romana', 'romanian', 0.75),\n",
              " ('romana', 'somanya', 0.7142857142857143),\n",
              " ('romana', 'romania', 0.8571428571428572),\n",
              " ('romana', 'romaine', 0.7142857142857143),\n",
              " ('romanesco', 'romesco', 0.7777777777777778),\n",
              " ('rosa', 'dosa', 0.75),\n",
              " ('rosa', 'rose', 0.75),\n",
              " ('rosa', 'arosa', 0.8),\n",
              " ('rosa', 'osa', 0.75),\n",
              " ('rosetta', 'goetta', 0.7142857142857143),\n",
              " ('rosetta', 'moretta', 0.7142857142857143),\n",
              " ('rosetta', 'roskette', 0.75),\n",
              " ('rosetta', 'crocetta', 0.75),\n",
              " ('rúgula', 'fregula', 0.7142857142857143),\n",
              " ('rúgula', 'arugula', 0.7142857142857143),\n",
              " ('sacarte', 'saare', 0.7142857142857143),\n",
              " ('sacasmediterranean', 'mediterranean', 0.7222222222222222),\n",
              " ('saco', 'salo', 0.75),\n",
              " ('saco', 'seco', 0.75),\n",
              " ('saco', 'waco', 0.75),\n",
              " ('saigon', 'saison', 0.8333333333333334),\n",
              " ('saigon', 'saillon', 0.7142857142857143),\n",
              " ('salchipapa', 'salchipapas', 0.9090909090909091),\n",
              " ('sald', 'salt', 0.75),\n",
              " ('sald', 'salad', 0.8),\n",
              " ('sald', 'salo', 0.75),\n",
              " ('sald', 'salé', 0.75),\n",
              " ('samba', 'amba', 0.8),\n",
              " ('samba', 'sambal', 0.8333333333333334),\n",
              " ('samba', 'sambar', 0.8333333333333334),\n",
              " ('samba', 'sambhar', 0.7142857142857143),\n",
              " ('samba', 'sambuca', 0.7142857142857143),\n",
              " ('samba', 'shambar', 0.7142857142857143),\n",
              " ('samba', 'sambhal', 0.7142857142857143),\n",
              " ('sambo', 'ambo', 0.8),\n",
              " ('sambo', 'samobor', 0.7142857142857143),\n",
              " ('sammich', 'sabich', 0.7142857142857143),\n",
              " ('samoa', 'samosa', 0.8333333333333334),\n",
              " ('samoa', 'samosas', 0.7142857142857143),\n",
              " ('san bernardo', 'san_bernardino', 0.7857142857142857),\n",
              " ('san bernardo', 'san_fernando', 0.75),\n",
              " ('sandiego', 'san_diego', 0.8888888888888888),\n",
              " ('sandiego', 'santiago', 0.75),\n",
              " ('sandton', 'canton', 0.7142857142857143),\n",
              " ('sandton', 'santos', 0.7142857142857143),\n",
              " ('santa', 'sanna', 0.8),\n",
              " ('santa', 'manta', 0.8),\n",
              " ('santa', 'salonta', 0.7142857142857143),\n",
              " ('santa', 'santana', 0.7142857142857143),\n",
              " ('santa', 'senta', 0.8),\n",
              " ('santa', 'tanta', 0.8),\n",
              " ('santa', 'salta', 0.8),\n",
              " ('santa barbara', 'santa_bárbara', 0.8461538461538461),\n",
              " ('sanur', 'savur', 0.8),\n",
              " ('sarnie', 'sarnia', 0.8333333333333334),\n",
              " ('saucer', 'sauce', 0.8333333333333334),\n",
              " ('sauvignon', 'avignon', 0.7777777777777778),\n",
              " ('savarin', 'navarin', 0.8571428571428572),\n",
              " ('savarin', 'bavarian', 0.75),\n",
              " ('savarin', 'mazarin', 0.7142857142857143),\n",
              " ('savarin', 'gagarin', 0.7142857142857143),\n",
              " ('savarin', 'varvarin', 0.75),\n",
              " ('savarin', 'bavaria', 0.7142857142857143),\n",
              " ('savarin', 'saladin', 0.7142857142857143),\n",
              " ('savoy', 'saveloy', 0.7142857142857143),\n",
              " ('savoy', 'savory', 0.8333333333333334),\n",
              " ('sazonan', 'savona', 0.7142857142857143),\n",
              " ('scarborough', 'maryborough', 0.7272727272727273),\n",
              " ('scarborough', 'marlborough', 0.7272727272727273),\n",
              " ('scarola', 'carora', 0.7142857142857143),\n",
              " ('schnitzels', 'schnitzel', 0.9),\n",
              " ('sdvegan', 'vegan', 0.7142857142857143),\n",
              " ('season', 'sason', 0.8333333333333334),\n",
              " ('seasons', 'sason', 0.7142857142857143),\n",
              " ('seaweedchips', 'seaweed_chips', 0.9230769230769231),\n",
              " ('sec', 'seco', 0.75),\n",
              " ('sedap', 'seda', 0.8),\n",
              " ('selenium', 'selenicë', 0.75),\n",
              " ('serpong', 'sepang', 0.7142857142857143),\n",
              " ('serpong', 'serang', 0.7142857142857143),\n",
              " ('serpong', 'sorong', 0.7142857142857143),\n",
              " ('seventh', 'seven', 0.7142857142857143),\n",
              " ('severa', 'seversk', 0.7142857142857143),\n",
              " ('sevice', 'ceviche', 0.7142857142857143),\n",
              " ('sevice', 'levice', 0.8333333333333334),\n",
              " ('sevice', 'seville', 0.7142857142857143),\n",
              " ('shawerma', 'shawarma', 0.875),\n",
              " ('shish', 'shiso', 0.8),\n",
              " ('siam', 'spam', 0.75),\n",
              " ('siam', 'ssam', 0.75),\n",
              " ('siam', 'sim', 0.75),\n",
              " ('sicily', 'sicilia', 0.7142857142857143),\n",
              " ('sidney', 'sydney', 0.8333333333333334),\n",
              " ('sihanoukvillevegan', 'sihanoukville', 0.7222222222222222),\n",
              " ('siracho', 'sriracha', 0.75),\n",
              " ('siracho', 'siraha', 0.7142857142857143),\n",
              " ('snack.', 'snack', 0.8333333333333334),\n",
              " ('sobas', 'soba', 0.8),\n",
              " ('sobas', 'sobao', 0.8),\n",
              " ('sobrasada', 'sobrassada', 0.9),\n",
              " ('soho', 'soto', 0.75),\n",
              " ('soho', 'soyo', 0.75),\n",
              " ('soho', 'sodo', 0.75),\n",
              " ('solvang', 'silvana', 0.7142857142857143),\n",
              " ('solvang', 'silvan', 0.7142857142857143),\n",
              " ('solvang', 'solan', 0.7142857142857143),\n",
              " ('solvang', 'solhan', 0.7142857142857143),\n",
              " ('somen', 'sōmen', 0.8),\n",
              " ('sonoma', 'sonora', 0.8333333333333334),\n",
              " ('sorbetos', 'sorbet', 0.75),\n",
              " ('sorbetos', 'sorbetes', 0.875),\n",
              " ('sorbetos', 'sorbets', 0.875),\n",
              " ('southie', 'smoothie', 0.75),\n",
              " ('spagetti', 'spaghetti', 0.8888888888888888),\n",
              " ('spear', 'pear', 0.8),\n",
              " ('spicer', 'spice', 0.8333333333333334),\n",
              " ('spitz', 'spritz', 0.8333333333333334),\n",
              " ('spitz', 'spiez', 0.8),\n",
              " ('springs rolls', 'spring_roll', 0.7692307692307692),\n",
              " ('springs rolls', 'spring_rolls', 0.8461538461538461),\n",
              " ('stables', 'tablet', 0.7142857142857143),\n",
              " ('stingray', 'tigray', 0.75),\n",
              " ('stlouis', 'st._louis', 0.7777777777777778),\n",
              " ('stuffedbeast', 'stuffed_pasta', 0.7692307692307692),\n",
              " ('suey', 'sumy', 0.75),\n",
              " ('suey', 'suez', 0.75),\n",
              " ('sultana', 'silvana', 0.7142857142857143),\n",
              " ('sultana', 'sultsina', 0.75),\n",
              " ('sultana', 'mullana', 0.7142857142857143),\n",
              " ('sultana', 'multan', 0.7142857142857143),\n",
              " ('sultana', 'rutana', 0.7142857142857143),\n",
              " ('sultana', 'santana', 0.7142857142857143),\n",
              " ('sultana', 'sulina', 0.7142857142857143),\n",
              " ('sultana', 'sântana', 0.7142857142857143),\n",
              " ('sumo', 'sumy', 0.75),\n",
              " ('surinam', 'sulina', 0.7142857142857143),\n",
              " ('surinam', 'buriram', 0.7142857142857143),\n",
              " ('surinam', 'surin', 0.7142857142857143),\n",
              " ('sushi 🍣 rolls', 'sushi_rolls', 0.7692307692307692),\n",
              " ('syrian', 'assyrian', 0.75),\n",
              " ('syrian', 'serbian', 0.7142857142857143),\n",
              " ('syrian', 'syria', 0.8333333333333334),\n",
              " ('tableside', 'tameside', 0.7777777777777778),\n",
              " ('tackles', 'pickles', 0.7142857142857143),\n",
              " ('tackles', 'tamales', 0.7142857142857143),\n",
              " ('tagine', 'tajine', 0.8333333333333334),\n",
              " ('tagine', 'tartine', 0.7142857142857143),\n",
              " ('tahinni', 'tahina', 0.7142857142857143),\n",
              " ('tahinni', 'tahini', 0.8571428571428572),\n",
              " ('tai tai', 'mai_tai', 0.7142857142857143),\n",
              " ('tamarindo', 'tamarillo', 0.7777777777777778),\n",
              " ('tamarindo', 'tamarind', 0.8888888888888888),\n",
              " ('tamarindo', 'samarinda', 0.7777777777777778),\n",
              " ('tanaka', 'tabaka', 0.8333333333333334),\n",
              " ('tanaka', 'tanauan', 0.7142857142857143),\n",
              " ('tanaka', 'tarakan', 0.7142857142857143),\n",
              " ('taos', 'tacos', 0.8),\n",
              " ('taos', 'laos', 0.75),\n",
              " ('tardo', 'sardo', 0.8),\n",
              " ('tardo', 'taro', 0.8),\n",
              " ('tarteleta', 'tartlet', 0.7777777777777778),\n",
              " ('tartlets', 'tartlet', 0.875),\n",
              " ('tater', 'tatar', 0.8),\n",
              " ('thakali', 'plakali', 0.7142857142857143),\n",
              " ('thakali', 'thali', 0.7142857142857143),\n",
              " ('thakali', 'txakoli', 0.7142857142857143),\n",
              " ('thakali', 'trakai', 0.7142857142857143),\n",
              " ('the ton', 'trenton', 0.7142857142857143),\n",
              " ('thistle', 'thisted', 0.7142857142857143),\n",
              " ('threes', 'three', 0.8333333333333334),\n",
              " ('thrusday', 'thursday', 0.75),\n",
              " ('tierradeanimales', 'tierra_de_animales', 0.8888888888888888),\n",
              " ('tiger', 'stinger', 0.7142857142857143),\n",
              " ('tiger', 'niger', 0.8),\n",
              " ('timilia', 'tamilian', 0.75),\n",
              " ('timilia', 'cimișlia', 0.75),\n",
              " ('timilia', 'sicilia', 0.7142857142857143),\n",
              " ('toffee', 'coffee', 0.8333333333333334),\n",
              " ('tolle', 'stollen', 0.7142857142857143),\n",
              " ('tolle', 'rolle', 0.8),\n",
              " ('tom', 'toum', 0.75),\n",
              " ('tom yom', 'tom_yum', 0.7142857142857143),\n",
              " ('tom yom', 'tomyum', 0.7142857142857143),\n",
              " ('tonight', 'night', 0.7142857142857143),\n",
              " ('tonkotsu', 'tonkatsu', 0.875),\n",
              " ('tree', 'three', 0.8),\n",
              " ('tree', 'taree', 0.8),\n",
              " ('triangle', 'kringle', 0.75),\n",
              " ('tuber', 'tubers', 0.8333333333333334),\n",
              " ('tunisian', 'tunisia', 0.875),\n",
              " ('turtle', 'tartlet', 0.7142857142857143),\n",
              " ('ubon', 'udon', 0.75),\n",
              " ('urbana', 'burbank', 0.7142857142857143),\n",
              " ('urbana', 'turkana', 0.7142857142857143),\n",
              " ('vacon', 'bacon', 0.8),\n",
              " ('vacon', 'macon', 0.8),\n",
              " ('vallarta', 'valletta', 0.75),\n",
              " ('valley', 'vallejo', 0.7142857142857143),\n",
              " ('valley', 'valle', 0.8333333333333334),\n",
              " ('varkala', 'barnala', 0.7142857142857143),\n",
              " ('varkala', 'larkana', 0.7142857142857143),\n",
              " ('varkala', 'nartkala', 0.75),\n",
              " ('varkala', 'karbala', 0.7142857142857143),\n",
              " ('veganburger', 'veganburg', 0.8181818181818181),\n",
              " ('veganburger', 'veganburg!', 0.8181818181818181),\n",
              " ('vegancafe', 'vegan_cake', 0.8),\n",
              " ('vegancupcakes', 'vegan_cupcake', 0.8461538461538461),\n",
              " ('veganism', 'veganise', 0.875),\n",
              " ('vegankc', 'vegan', 0.7142857142857143),\n",
              " ('veganlife', 'veganise', 0.7777777777777778),\n",
              " ('veganoptions', 'veg_options', 0.8333333333333334),\n",
              " ('veganshakes', 'vegan_cake', 0.7272727272727273),\n",
              " ('vegantoastie', 'vegan_pastries', 0.7142857142857143),\n",
              " ('vegas', 'vegan', 0.8),\n",
              " ('vegatable', 'vegetable', 0.8888888888888888),\n",
              " ('vegenaise', 'veganise', 0.7777777777777778),\n",
              " ('vegeteriana', 'vegetarian', 0.8181818181818181),\n",
              " ('verbena', 'derbent', 0.7142857142857143),\n",
              " ('verbena', 'vereya', 0.7142857142857143),\n",
              " ('verbena', 'verona', 0.7142857142857143),\n",
              " ('vermont', 'vermouth', 0.75),\n",
              " ('vermont', 'verona', 0.7142857142857143),\n",
              " ('vidalia', 'visalia', 0.8571428571428572),\n",
              " ('vinagrette', 'vinaigrette', 0.9090909090909091),\n",
              " ('vine', 'nine', 0.75),\n",
              " ('vine', 'vinh', 0.75),\n",
              " ('vine', 'vize', 0.75),\n",
              " ('vine', 'çine', 0.75),\n",
              " ('violette', 'mimolette', 0.7777777777777778),\n",
              " ('volcano', 'vulcan', 0.7142857142857143),\n",
              " ('wakamole', 'wakame', 0.75),\n",
              " ('wantons', 'fartons', 0.7142857142857143),\n",
              " ('wantons', 'wonton', 0.7142857142857143),\n",
              " ('wantons', 'wontons', 0.8571428571428572),\n",
              " ('wantons', 'canton', 0.7142857142857143),\n",
              " ('wantons', 'nantong', 0.7142857142857143),\n",
              " ('wantons', 'santos', 0.7142857142857143),\n",
              " ('welsh rabbit', 'welsh_rarebit', 0.7692307692307692),\n",
              " ('williamsburg', 'wilhelmsburg', 0.75),\n",
              " ('winchester', 'manchester', 0.8),\n",
              " ('winters', 'winter', 0.8571428571428572),\n",
              " ('xanthan', 'banchan', 0.7142857142857143),\n",
              " ('xanthan', 'bantan', 0.7142857142857143),\n",
              " ('xanthan', 'anshan', 0.7142857142857143),\n",
              " ('xanthan', 'xanthi', 0.7142857142857143),\n",
              " ('yacon', 'bacon', 0.8),\n",
              " ('yacon', 'macon', 0.8),\n",
              " ('yakimeshi', 'yakimochi', 0.7777777777777778),\n",
              " ('yams', 'yam', 0.75),\n",
              " ('yeas', 'year', 0.75),\n",
              " ('yeas', 'years', 0.8),\n",
              " ('yeas', 'peas', 0.75),\n",
              " ('yoga', 'yola', 0.75),\n",
              " ('yolk', 'yola', 0.75),\n",
              " ('yolk', 'york', 0.75),\n",
              " ('yorker', 'yonkers', 0.7142857142857143),\n",
              " ('yorkshire', 'berkshire', 0.7777777777777778),\n",
              " ('yougurt', 'yogurts', 0.7142857142857143),\n",
              " ('yougurt', 'yoghurt', 0.7142857142857143),\n",
              " ('yougurt', 'yogurt', 0.8571428571428572),\n",
              " ('ysalsa', 'salsa', 0.8333333333333334),\n",
              " ('yuba', 'duba', 0.75),\n",
              " ('yuba', 'juba', 0.75),\n",
              " ('yuba', 'luba', 0.75),\n",
              " ('yuba', 'cuba', 0.75),\n",
              " ('yuba', 'yuca', 0.75),\n",
              " ('yucca', 'yuca', 0.8),\n",
              " ('yummus', 'hummus', 0.8333333333333334),\n",
              " ('yummus', 'hummous', 0.7142857142857143),\n",
              " ('zacon', 'bacon', 0.8),\n",
              " ('zacon', 'macon', 0.8)]"
            ]
          },
          "metadata": {
            "tags": []
          },
          "execution_count": 47
        }
      ]
    },
    {
      "cell_type": "code",
      "metadata": {
        "id": "H630RHrt96or",
        "colab_type": "code",
        "colab": {
          "base_uri": "https://localhost:8080/",
          "height": 167
        },
        "outputId": "f0393f9a-9f47-47d9-9ecb-dfefd692769e"
      },
      "source": [
        "leven_result"
      ],
      "execution_count": 2,
      "outputs": [
        {
          "output_type": "error",
          "ename": "NameError",
          "evalue": "ignored",
          "traceback": [
            "\u001b[0;31m---------------------------------------------------------------------------\u001b[0m",
            "\u001b[0;31mNameError\u001b[0m                                 Traceback (most recent call last)",
            "\u001b[0;32m<ipython-input-2-95db02887d90>\u001b[0m in \u001b[0;36m<module>\u001b[0;34m()\u001b[0m\n\u001b[0;32m----> 1\u001b[0;31m \u001b[0mleven_result\u001b[0m\u001b[0;34m\u001b[0m\u001b[0;34m\u001b[0m\u001b[0m\n\u001b[0m",
            "\u001b[0;31mNameError\u001b[0m: name 'leven_result' is not defined"
          ]
        }
      ]
    },
    {
      "cell_type": "code",
      "metadata": {
        "id": "bckD19bPTVTV",
        "colab_type": "code",
        "colab": {
          "base_uri": "https://localhost:8080/",
          "height": 69
        },
        "outputId": "f99523ed-70cc-439e-ab7c-e528380d0e53"
      },
      "source": [
        "dump_jsonl(entities_to_be_added,'entities_to_be_added.jsonl')\n",
        "dump_jsonl(leven_result,'leven_similar.jsonl')\n",
        "dump_jsonl(soundex_list,'sound_similar.jsonl')"
      ],
      "execution_count": 48,
      "outputs": [
        {
          "output_type": "stream",
          "text": [
            "Wrote 1651 records to entities_to_be_added.jsonl\n",
            "Wrote 936 records to leven_similar.jsonl\n",
            "Wrote 1651 records to sound_similar.jsonl\n"
          ],
          "name": "stdout"
        }
      ]
    },
    {
      "cell_type": "code",
      "metadata": {
        "id": "CE38u68uTqPx",
        "colab_type": "code",
        "colab": {}
      },
      "source": [
        "dump_jsonl(entities_to_be_added,'entities_to_be_added.jsonl')\n",
        "dump_jsonl(leven_result,'leven_similar.jsonl')\n",
        "dump_jsonl(soundex_list,'sound_similar.jsonl')"
      ],
      "execution_count": 0,
      "outputs": []
    },
    {
      "cell_type": "code",
      "metadata": {
        "id": "JRInbKzpwQ8N",
        "colab_type": "code",
        "colab": {}
      },
      "source": [
        "with open('entities_to_be_added_test.csv', 'w') as f:\n",
        "    f.write(json.dumps(entities_to_be_added))\n",
        "\n",
        "with open('most_similar_patterns.csv', 'w') as f:\n",
        "    f.write(json.dumps(leven_result))\n",
        "\n",
        "with open('most_similar_sounding_patterns.csv', 'w') as f:\n",
        "    f.write(json.dumps(soundex_list))"
      ],
      "execution_count": 0,
      "outputs": []
    },
    {
      "cell_type": "code",
      "metadata": {
        "id": "AFfgdcBuwUy8",
        "colab_type": "code",
        "outputId": "c01e5c78-4d2c-46e4-ea9c-29bb0c529948",
        "colab": {
          "base_uri": "https://localhost:8080/",
          "height": 191
        }
      },
      "source": [
        "eval_new_df.columns"
      ],
      "execution_count": 0,
      "outputs": [
        {
          "output_type": "execute_result",
          "data": {
            "text/plain": [
              "Index(['_id', 'likes', 'user', 'text', 'type', 'restaurant', 'dish', 'taste',\n",
              "       'presentation', 'nutrition', 'originality', 'value', 'overall',\n",
              "       'createdAt', 'user_info.name', 'user_info.likedArticlesCount',\n",
              "       'user_info.followersCount', 'user_info.likedReviewsCount',\n",
              "       'user_info.challengeReviews', 'user_info.username',\n",
              "       'user_info.language', 'user_info.home',\n",
              "       'user_info.reviewKarma.total.score', 'dish_info.name',\n",
              "       'restaurant_name', 'restaurant_country', 'restaurant_website',\n",
              "       'restaurant_locality', 'entities'],\n",
              "      dtype='object')"
            ]
          },
          "metadata": {
            "tags": []
          },
          "execution_count": 35
        }
      ]
    },
    {
      "cell_type": "code",
      "metadata": {
        "id": "-CXuFm-Vwc9f",
        "colab_type": "code",
        "colab": {}
      },
      "source": [
        "eval_new_df.columns = ['review', 'likes', 'user', 'text', 'type', 'restaurant', 'dish', 'taste',\\\n",
        "                       'presentation', 'nutrition', 'originality', 'value', 'overall',\\\n",
        "                       'createdAt', 'name', 'likedArticlesCount', 'followersCount',\\\n",
        "                       'likedReviewsCount','challengeReviews', 'username', 'language','home',\\\n",
        "                       'reviewKarma_score', 'dish_name', 'restaurant_name', 'restaurant_country', \\\n",
        "                       'restaurant_website', 'restaurant_locality', 'entities']"
      ],
      "execution_count": 0,
      "outputs": []
    },
    {
      "cell_type": "code",
      "metadata": {
        "id": "P7S0Rtit6mX4",
        "colab_type": "code",
        "outputId": "689f0c91-21e5-4b2d-eff9-b9c2798022fe",
        "colab": {
          "base_uri": "https://localhost:8080/",
          "height": 197
        }
      },
      "source": [
        "df_likes = eval_new_df[['review','likes']]\n",
        "df_likes['cleaned_likes'] = df_likes['likes'].apply(lambda x: clean_like_objects(x))\n",
        "df_likes.head()"
      ],
      "execution_count": 0,
      "outputs": [
        {
          "output_type": "execute_result",
          "data": {
            "text/html": [
              "<div>\n",
              "<style scoped>\n",
              "    .dataframe tbody tr th:only-of-type {\n",
              "        vertical-align: middle;\n",
              "    }\n",
              "\n",
              "    .dataframe tbody tr th {\n",
              "        vertical-align: top;\n",
              "    }\n",
              "\n",
              "    .dataframe thead th {\n",
              "        text-align: right;\n",
              "    }\n",
              "</style>\n",
              "<table border=\"1\" class=\"dataframe\">\n",
              "  <thead>\n",
              "    <tr style=\"text-align: right;\">\n",
              "      <th></th>\n",
              "      <th>review</th>\n",
              "      <th>likes</th>\n",
              "      <th>cleaned_likes</th>\n",
              "    </tr>\n",
              "  </thead>\n",
              "  <tbody>\n",
              "    <tr>\n",
              "      <th>0</th>\n",
              "      <td>5e2f312ee873b10020b64c5d</td>\n",
              "      <td>[ObjectId('5e03e8307956290020e51e8d'), ObjectI...</td>\n",
              "      <td>[5e03e8307956290020e51e8d, 5e1bb2793c198000200...</td>\n",
              "    </tr>\n",
              "    <tr>\n",
              "      <th>1</th>\n",
              "      <td>5e2f30cd21cbcd002090abdd</td>\n",
              "      <td>[ObjectId('5e03e8307956290020e51e8d'), ObjectI...</td>\n",
              "      <td>[5e03e8307956290020e51e8d, 5c748a8934dda90004b...</td>\n",
              "    </tr>\n",
              "    <tr>\n",
              "      <th>2</th>\n",
              "      <td>5e2f30c521cbcd002090abd4</td>\n",
              "      <td>[ObjectId('5e03e8307956290020e51e8d'), ObjectI...</td>\n",
              "      <td>[5e03e8307956290020e51e8d, 5b1c9c020e466900047...</td>\n",
              "    </tr>\n",
              "    <tr>\n",
              "      <th>3</th>\n",
              "      <td>5e2f305d21cbcd002090abaf</td>\n",
              "      <td>[ObjectId('5e03e8307956290020e51e8d'), ObjectI...</td>\n",
              "      <td>[5e03e8307956290020e51e8d, 5c748a8934dda90004b...</td>\n",
              "    </tr>\n",
              "    <tr>\n",
              "      <th>4</th>\n",
              "      <td>5e2f3021e873b10020b64c1a</td>\n",
              "      <td>[ObjectId('5e03e8307956290020e51e8d'), ObjectI...</td>\n",
              "      <td>[5e03e8307956290020e51e8d, 5c748a8934dda90004b...</td>\n",
              "    </tr>\n",
              "  </tbody>\n",
              "</table>\n",
              "</div>"
            ],
            "text/plain": [
              "                     review  ...                                      cleaned_likes\n",
              "0  5e2f312ee873b10020b64c5d  ...  [5e03e8307956290020e51e8d, 5e1bb2793c198000200...\n",
              "1  5e2f30cd21cbcd002090abdd  ...  [5e03e8307956290020e51e8d, 5c748a8934dda90004b...\n",
              "2  5e2f30c521cbcd002090abd4  ...  [5e03e8307956290020e51e8d, 5b1c9c020e466900047...\n",
              "3  5e2f305d21cbcd002090abaf  ...  [5e03e8307956290020e51e8d, 5c748a8934dda90004b...\n",
              "4  5e2f3021e873b10020b64c1a  ...  [5e03e8307956290020e51e8d, 5c748a8934dda90004b...\n",
              "\n",
              "[5 rows x 3 columns]"
            ]
          },
          "metadata": {
            "tags": []
          },
          "execution_count": 37
        }
      ]
    },
    {
      "cell_type": "code",
      "metadata": {
        "id": "Sj2F_fsC6qqa",
        "colab_type": "code",
        "outputId": "6715a072-5b5a-4ba4-95f3-ba94bc46e673",
        "colab": {
          "base_uri": "https://localhost:8080/",
          "height": 197
        }
      },
      "source": [
        "df_likes['likes'] = df_likes.cleaned_likes.apply(lambda x: x[1:-1].split(','))\n",
        "df_likes.head()"
      ],
      "execution_count": 0,
      "outputs": [
        {
          "output_type": "execute_result",
          "data": {
            "text/html": [
              "<div>\n",
              "<style scoped>\n",
              "    .dataframe tbody tr th:only-of-type {\n",
              "        vertical-align: middle;\n",
              "    }\n",
              "\n",
              "    .dataframe tbody tr th {\n",
              "        vertical-align: top;\n",
              "    }\n",
              "\n",
              "    .dataframe thead th {\n",
              "        text-align: right;\n",
              "    }\n",
              "</style>\n",
              "<table border=\"1\" class=\"dataframe\">\n",
              "  <thead>\n",
              "    <tr style=\"text-align: right;\">\n",
              "      <th></th>\n",
              "      <th>review</th>\n",
              "      <th>likes</th>\n",
              "      <th>cleaned_likes</th>\n",
              "    </tr>\n",
              "  </thead>\n",
              "  <tbody>\n",
              "    <tr>\n",
              "      <th>0</th>\n",
              "      <td>5e2f312ee873b10020b64c5d</td>\n",
              "      <td>[5e03e8307956290020e51e8d,  5e1bb2793c19800020...</td>\n",
              "      <td>[5e03e8307956290020e51e8d, 5e1bb2793c198000200...</td>\n",
              "    </tr>\n",
              "    <tr>\n",
              "      <th>1</th>\n",
              "      <td>5e2f30cd21cbcd002090abdd</td>\n",
              "      <td>[5e03e8307956290020e51e8d,  5c748a8934dda90004...</td>\n",
              "      <td>[5e03e8307956290020e51e8d, 5c748a8934dda90004b...</td>\n",
              "    </tr>\n",
              "    <tr>\n",
              "      <th>2</th>\n",
              "      <td>5e2f30c521cbcd002090abd4</td>\n",
              "      <td>[5e03e8307956290020e51e8d,  5b1c9c020e46690004...</td>\n",
              "      <td>[5e03e8307956290020e51e8d, 5b1c9c020e466900047...</td>\n",
              "    </tr>\n",
              "    <tr>\n",
              "      <th>3</th>\n",
              "      <td>5e2f305d21cbcd002090abaf</td>\n",
              "      <td>[5e03e8307956290020e51e8d,  5c748a8934dda90004...</td>\n",
              "      <td>[5e03e8307956290020e51e8d, 5c748a8934dda90004b...</td>\n",
              "    </tr>\n",
              "    <tr>\n",
              "      <th>4</th>\n",
              "      <td>5e2f3021e873b10020b64c1a</td>\n",
              "      <td>[5e03e8307956290020e51e8d,  5c748a8934dda90004...</td>\n",
              "      <td>[5e03e8307956290020e51e8d, 5c748a8934dda90004b...</td>\n",
              "    </tr>\n",
              "  </tbody>\n",
              "</table>\n",
              "</div>"
            ],
            "text/plain": [
              "                     review  ...                                      cleaned_likes\n",
              "0  5e2f312ee873b10020b64c5d  ...  [5e03e8307956290020e51e8d, 5e1bb2793c198000200...\n",
              "1  5e2f30cd21cbcd002090abdd  ...  [5e03e8307956290020e51e8d, 5c748a8934dda90004b...\n",
              "2  5e2f30c521cbcd002090abd4  ...  [5e03e8307956290020e51e8d, 5b1c9c020e466900047...\n",
              "3  5e2f305d21cbcd002090abaf  ...  [5e03e8307956290020e51e8d, 5c748a8934dda90004b...\n",
              "4  5e2f3021e873b10020b64c1a  ...  [5e03e8307956290020e51e8d, 5c748a8934dda90004b...\n",
              "\n",
              "[5 rows x 3 columns]"
            ]
          },
          "metadata": {
            "tags": []
          },
          "execution_count": 38
        }
      ]
    },
    {
      "cell_type": "code",
      "metadata": {
        "id": "TlWyGBA36uyX",
        "colab_type": "code",
        "colab": {}
      },
      "source": [
        "df_likes = df_likes[['review','likes']].explode('likes').reset_index(drop=True)"
      ],
      "execution_count": 0,
      "outputs": []
    },
    {
      "cell_type": "code",
      "metadata": {
        "id": "h8WNZxMi617L",
        "colab_type": "code",
        "outputId": "b509f1e4-1624-4f3d-afd7-1ff29fb1ce81",
        "colab": {
          "base_uri": "https://localhost:8080/",
          "height": 138
        }
      },
      "source": [
        "df_likes.info()"
      ],
      "execution_count": 0,
      "outputs": [
        {
          "output_type": "stream",
          "text": [
            "<class 'pandas.core.frame.DataFrame'>\n",
            "RangeIndex: 372733 entries, 0 to 372732\n",
            "Data columns (total 2 columns):\n",
            "review    372733 non-null object\n",
            "likes     372733 non-null object\n",
            "dtypes: object(2)\n",
            "memory usage: 5.7+ MB\n"
          ],
          "name": "stdout"
        }
      ]
    },
    {
      "cell_type": "code",
      "metadata": {
        "id": "R4OZZ0j565M8",
        "colab_type": "code",
        "outputId": "bb00f49f-f48d-4c07-f526-0c01f2e76066",
        "colab": {
          "base_uri": "https://localhost:8080/",
          "height": 138
        }
      },
      "source": [
        "df_likes.columns = ['review','user']\n",
        "df_likes.info()"
      ],
      "execution_count": 0,
      "outputs": [
        {
          "output_type": "stream",
          "text": [
            "<class 'pandas.core.frame.DataFrame'>\n",
            "RangeIndex: 372733 entries, 0 to 372732\n",
            "Data columns (total 2 columns):\n",
            "review    372733 non-null object\n",
            "user      372733 non-null object\n",
            "dtypes: object(2)\n",
            "memory usage: 5.7+ MB\n"
          ],
          "name": "stdout"
        }
      ]
    },
    {
      "cell_type": "code",
      "metadata": {
        "id": "O1REeE047BPh",
        "colab_type": "code",
        "outputId": "4db6df37-7426-445e-e268-2bbeea537dda",
        "colab": {
          "base_uri": "https://localhost:8080/",
          "height": 197
        }
      },
      "source": [
        "df_likes[df_likes['user']==''] = np.nan\n",
        "df_likes.dropna(inplace=True)\n",
        "df_likes.head()"
      ],
      "execution_count": 0,
      "outputs": [
        {
          "output_type": "execute_result",
          "data": {
            "text/html": [
              "<div>\n",
              "<style scoped>\n",
              "    .dataframe tbody tr th:only-of-type {\n",
              "        vertical-align: middle;\n",
              "    }\n",
              "\n",
              "    .dataframe tbody tr th {\n",
              "        vertical-align: top;\n",
              "    }\n",
              "\n",
              "    .dataframe thead th {\n",
              "        text-align: right;\n",
              "    }\n",
              "</style>\n",
              "<table border=\"1\" class=\"dataframe\">\n",
              "  <thead>\n",
              "    <tr style=\"text-align: right;\">\n",
              "      <th></th>\n",
              "      <th>review</th>\n",
              "      <th>user</th>\n",
              "    </tr>\n",
              "  </thead>\n",
              "  <tbody>\n",
              "    <tr>\n",
              "      <th>0</th>\n",
              "      <td>5e2f312ee873b10020b64c5d</td>\n",
              "      <td>5e03e8307956290020e51e8d</td>\n",
              "    </tr>\n",
              "    <tr>\n",
              "      <th>1</th>\n",
              "      <td>5e2f312ee873b10020b64c5d</td>\n",
              "      <td>5e1bb2793c198000200848ee</td>\n",
              "    </tr>\n",
              "    <tr>\n",
              "      <th>2</th>\n",
              "      <td>5e2f30cd21cbcd002090abdd</td>\n",
              "      <td>5e03e8307956290020e51e8d</td>\n",
              "    </tr>\n",
              "    <tr>\n",
              "      <th>3</th>\n",
              "      <td>5e2f30cd21cbcd002090abdd</td>\n",
              "      <td>5c748a8934dda90004b017b4</td>\n",
              "    </tr>\n",
              "    <tr>\n",
              "      <th>4</th>\n",
              "      <td>5e2f30c521cbcd002090abd4</td>\n",
              "      <td>5e03e8307956290020e51e8d</td>\n",
              "    </tr>\n",
              "  </tbody>\n",
              "</table>\n",
              "</div>"
            ],
            "text/plain": [
              "                     review                       user\n",
              "0  5e2f312ee873b10020b64c5d   5e03e8307956290020e51e8d\n",
              "1  5e2f312ee873b10020b64c5d   5e1bb2793c198000200848ee\n",
              "2  5e2f30cd21cbcd002090abdd   5e03e8307956290020e51e8d\n",
              "3  5e2f30cd21cbcd002090abdd   5c748a8934dda90004b017b4\n",
              "4  5e2f30c521cbcd002090abd4   5e03e8307956290020e51e8d"
            ]
          },
          "metadata": {
            "tags": []
          },
          "execution_count": 42
        }
      ]
    },
    {
      "cell_type": "code",
      "metadata": {
        "id": "BnRXm95r7Hgm",
        "colab_type": "code",
        "outputId": "efa6718b-098a-4650-c747-c3882c022736",
        "colab": {
          "base_uri": "https://localhost:8080/",
          "height": 260
        }
      },
      "source": [
        "df_likes.info()\n",
        "df_likes.drop_duplicates(inplace=True)\n",
        "df_likes.info()"
      ],
      "execution_count": 0,
      "outputs": [
        {
          "output_type": "stream",
          "text": [
            "<class 'pandas.core.frame.DataFrame'>\n",
            "Int64Index: 368472 entries, 0 to 372732\n",
            "Data columns (total 2 columns):\n",
            "review    368472 non-null object\n",
            "user      368472 non-null object\n",
            "dtypes: object(2)\n",
            "memory usage: 8.4+ MB\n",
            "<class 'pandas.core.frame.DataFrame'>\n",
            "Int64Index: 284277 entries, 0 to 372732\n",
            "Data columns (total 2 columns):\n",
            "review    284277 non-null object\n",
            "user      284277 non-null object\n",
            "dtypes: object(2)\n",
            "memory usage: 6.5+ MB\n"
          ],
          "name": "stdout"
        }
      ]
    },
    {
      "cell_type": "code",
      "metadata": {
        "id": "K6vr_2e87LnW",
        "colab_type": "code",
        "outputId": "ba1a6d9e-110b-4d26-e3cb-8e72b593020f",
        "colab": {
          "base_uri": "https://localhost:8080/",
          "height": 197
        }
      },
      "source": [
        "df_keyword_ents = pd.read_json('patterns_2020_02_08.jsonl',lines=True)[['id','label']].drop_duplicates().reset_index(drop=True)\n",
        "df_keyword_ents.head()"
      ],
      "execution_count": 0,
      "outputs": [
        {
          "output_type": "execute_result",
          "data": {
            "text/html": [
              "<div>\n",
              "<style scoped>\n",
              "    .dataframe tbody tr th:only-of-type {\n",
              "        vertical-align: middle;\n",
              "    }\n",
              "\n",
              "    .dataframe tbody tr th {\n",
              "        vertical-align: top;\n",
              "    }\n",
              "\n",
              "    .dataframe thead th {\n",
              "        text-align: right;\n",
              "    }\n",
              "</style>\n",
              "<table border=\"1\" class=\"dataframe\">\n",
              "  <thead>\n",
              "    <tr style=\"text-align: right;\">\n",
              "      <th></th>\n",
              "      <th>id</th>\n",
              "      <th>label</th>\n",
              "    </tr>\n",
              "  </thead>\n",
              "  <tbody>\n",
              "    <tr>\n",
              "      <th>0</th>\n",
              "      <td>algerian_coffee</td>\n",
              "      <td>beverage</td>\n",
              "    </tr>\n",
              "    <tr>\n",
              "      <th>1</th>\n",
              "      <td>almond_milk</td>\n",
              "      <td>beverage</td>\n",
              "    </tr>\n",
              "    <tr>\n",
              "      <th>2</th>\n",
              "      <td>almond_latte</td>\n",
              "      <td>beverage</td>\n",
              "    </tr>\n",
              "    <tr>\n",
              "      <th>3</th>\n",
              "      <td>arabic_coffee</td>\n",
              "      <td>beverage</td>\n",
              "    </tr>\n",
              "    <tr>\n",
              "      <th>4</th>\n",
              "      <td>arrack</td>\n",
              "      <td>beverage</td>\n",
              "    </tr>\n",
              "  </tbody>\n",
              "</table>\n",
              "</div>"
            ],
            "text/plain": [
              "                id     label\n",
              "0  algerian_coffee  beverage\n",
              "1      almond_milk  beverage\n",
              "2     almond_latte  beverage\n",
              "3    arabic_coffee  beverage\n",
              "4           arrack  beverage"
            ]
          },
          "metadata": {
            "tags": []
          },
          "execution_count": 44
        }
      ]
    },
    {
      "cell_type": "code",
      "metadata": {
        "id": "uZY5cNnp7tWy",
        "colab_type": "code",
        "outputId": "b51c0b99-6f12-4af5-eccf-4fb53a9ce257",
        "colab": {
          "base_uri": "https://localhost:8080/",
          "height": 138
        }
      },
      "source": [
        "df_keyword_ents.info()"
      ],
      "execution_count": 0,
      "outputs": [
        {
          "output_type": "stream",
          "text": [
            "<class 'pandas.core.frame.DataFrame'>\n",
            "RangeIndex: 20943 entries, 0 to 20942\n",
            "Data columns (total 2 columns):\n",
            "id       20943 non-null object\n",
            "label    20943 non-null object\n",
            "dtypes: object(2)\n",
            "memory usage: 327.4+ KB\n"
          ],
          "name": "stdout"
        }
      ]
    },
    {
      "cell_type": "code",
      "metadata": {
        "id": "wuGg3NoB7xsY",
        "colab_type": "code",
        "outputId": "ca8876e3-57a8-452c-bc8b-369e81f3fcfb",
        "colab": {
          "base_uri": "https://localhost:8080/",
          "height": 156
        }
      },
      "source": [
        "df_keyword_ents['updated'] = df_keyword_ents['label'].apply(lambda x: x+'_') + df_keyword_ents['id']\n",
        "df_keyword_ents.info()"
      ],
      "execution_count": 0,
      "outputs": [
        {
          "output_type": "stream",
          "text": [
            "<class 'pandas.core.frame.DataFrame'>\n",
            "RangeIndex: 20943 entries, 0 to 20942\n",
            "Data columns (total 3 columns):\n",
            "id         20943 non-null object\n",
            "label      20943 non-null object\n",
            "updated    20943 non-null object\n",
            "dtypes: object(3)\n",
            "memory usage: 491.0+ KB\n"
          ],
          "name": "stdout"
        }
      ]
    },
    {
      "cell_type": "code",
      "metadata": {
        "id": "cASIN1CG73-M",
        "colab_type": "code",
        "outputId": "49beab79-c005-4d1a-8b34-5318192e2e7a",
        "colab": {
          "base_uri": "https://localhost:8080/",
          "height": 197
        }
      },
      "source": [
        "df_keyword_ents.columns = ['keyword_name', 'keyword_class', 'keyword_id']\n",
        "df_keyword_ents.head()"
      ],
      "execution_count": 0,
      "outputs": [
        {
          "output_type": "execute_result",
          "data": {
            "text/html": [
              "<div>\n",
              "<style scoped>\n",
              "    .dataframe tbody tr th:only-of-type {\n",
              "        vertical-align: middle;\n",
              "    }\n",
              "\n",
              "    .dataframe tbody tr th {\n",
              "        vertical-align: top;\n",
              "    }\n",
              "\n",
              "    .dataframe thead th {\n",
              "        text-align: right;\n",
              "    }\n",
              "</style>\n",
              "<table border=\"1\" class=\"dataframe\">\n",
              "  <thead>\n",
              "    <tr style=\"text-align: right;\">\n",
              "      <th></th>\n",
              "      <th>keyword_name</th>\n",
              "      <th>keyword_class</th>\n",
              "      <th>keyword_id</th>\n",
              "    </tr>\n",
              "  </thead>\n",
              "  <tbody>\n",
              "    <tr>\n",
              "      <th>0</th>\n",
              "      <td>algerian_coffee</td>\n",
              "      <td>beverage</td>\n",
              "      <td>beverage_algerian_coffee</td>\n",
              "    </tr>\n",
              "    <tr>\n",
              "      <th>1</th>\n",
              "      <td>almond_milk</td>\n",
              "      <td>beverage</td>\n",
              "      <td>beverage_almond_milk</td>\n",
              "    </tr>\n",
              "    <tr>\n",
              "      <th>2</th>\n",
              "      <td>almond_latte</td>\n",
              "      <td>beverage</td>\n",
              "      <td>beverage_almond_latte</td>\n",
              "    </tr>\n",
              "    <tr>\n",
              "      <th>3</th>\n",
              "      <td>arabic_coffee</td>\n",
              "      <td>beverage</td>\n",
              "      <td>beverage_arabic_coffee</td>\n",
              "    </tr>\n",
              "    <tr>\n",
              "      <th>4</th>\n",
              "      <td>arrack</td>\n",
              "      <td>beverage</td>\n",
              "      <td>beverage_arrack</td>\n",
              "    </tr>\n",
              "  </tbody>\n",
              "</table>\n",
              "</div>"
            ],
            "text/plain": [
              "      keyword_name keyword_class                keyword_id\n",
              "0  algerian_coffee      beverage  beverage_algerian_coffee\n",
              "1      almond_milk      beverage      beverage_almond_milk\n",
              "2     almond_latte      beverage     beverage_almond_latte\n",
              "3    arabic_coffee      beverage    beverage_arabic_coffee\n",
              "4           arrack      beverage           beverage_arrack"
            ]
          },
          "metadata": {
            "tags": []
          },
          "execution_count": 47
        }
      ]
    },
    {
      "cell_type": "code",
      "metadata": {
        "id": "VFDfl1NV77xS",
        "colab_type": "code",
        "outputId": "ad148297-9828-475b-cab1-8bcddb079fd8",
        "colab": {
          "base_uri": "https://localhost:8080/",
          "height": 295
        }
      },
      "source": [
        "df_dish_keywords = eval_new_df[['dish','dish_name','entities']].explode('entities').reset_index(drop=True)\n",
        "df_dish_keywords.info()\n",
        "df_dish_keywords.dropna(inplace=True)\n",
        "df_dish_keywords.info()"
      ],
      "execution_count": 0,
      "outputs": [
        {
          "output_type": "stream",
          "text": [
            "<class 'pandas.core.frame.DataFrame'>\n",
            "RangeIndex: 341215 entries, 0 to 341214\n",
            "Data columns (total 3 columns):\n",
            "dish         341215 non-null object\n",
            "dish_name    341215 non-null object\n",
            "entities     332391 non-null object\n",
            "dtypes: object(3)\n",
            "memory usage: 7.8+ MB\n",
            "<class 'pandas.core.frame.DataFrame'>\n",
            "Int64Index: 332391 entries, 0 to 341214\n",
            "Data columns (total 3 columns):\n",
            "dish         332391 non-null object\n",
            "dish_name    332391 non-null object\n",
            "entities     332391 non-null object\n",
            "dtypes: object(3)\n",
            "memory usage: 10.1+ MB\n"
          ],
          "name": "stdout"
        }
      ]
    },
    {
      "cell_type": "code",
      "metadata": {
        "id": "myFj_mKr8YAq",
        "colab_type": "code",
        "outputId": "0e659943-2c16-4b52-d63c-e03d0599540c",
        "colab": {
          "base_uri": "https://localhost:8080/",
          "height": 197
        }
      },
      "source": [
        "df_dish_keywords=df_dish_keywords.merge(df_keyword_ents,how='left',left_on='entities',right_on='keyword_name').drop(columns=['keyword_name'])\n",
        "df_dish_keywords.columns=['dish','dish_name','keyword_name','keyword_class','keyword_id']\n",
        "df_dish_keywords.head()"
      ],
      "execution_count": 0,
      "outputs": [
        {
          "output_type": "execute_result",
          "data": {
            "text/html": [
              "<div>\n",
              "<style scoped>\n",
              "    .dataframe tbody tr th:only-of-type {\n",
              "        vertical-align: middle;\n",
              "    }\n",
              "\n",
              "    .dataframe tbody tr th {\n",
              "        vertical-align: top;\n",
              "    }\n",
              "\n",
              "    .dataframe thead th {\n",
              "        text-align: right;\n",
              "    }\n",
              "</style>\n",
              "<table border=\"1\" class=\"dataframe\">\n",
              "  <thead>\n",
              "    <tr style=\"text-align: right;\">\n",
              "      <th></th>\n",
              "      <th>dish</th>\n",
              "      <th>dish_name</th>\n",
              "      <th>keyword_name</th>\n",
              "      <th>keyword_class</th>\n",
              "      <th>keyword_id</th>\n",
              "    </tr>\n",
              "  </thead>\n",
              "  <tbody>\n",
              "    <tr>\n",
              "      <th>0</th>\n",
              "      <td>5db821535168bd0020e738ca</td>\n",
              "      <td>Pizza con paparella</td>\n",
              "      <td>vegan</td>\n",
              "      <td>lifestyle</td>\n",
              "      <td>lifestyle_vegan</td>\n",
              "    </tr>\n",
              "    <tr>\n",
              "      <th>1</th>\n",
              "      <td>5e2f30cd21cbcd002090abdc</td>\n",
              "      <td>Hamburguesa cheddar</td>\n",
              "      <td>garbanzo</td>\n",
              "      <td>vegetable</td>\n",
              "      <td>vegetable_garbanzo</td>\n",
              "    </tr>\n",
              "    <tr>\n",
              "      <th>2</th>\n",
              "      <td>5e2f30cd21cbcd002090abdc</td>\n",
              "      <td>Hamburguesa cheddar</td>\n",
              "      <td>hamburger</td>\n",
              "      <td>dish</td>\n",
              "      <td>dish_hamburger</td>\n",
              "    </tr>\n",
              "    <tr>\n",
              "      <th>3</th>\n",
              "      <td>5e2f30c3e873b10020b64c4c</td>\n",
              "      <td>Pasta Alfredo</td>\n",
              "      <td>basil</td>\n",
              "      <td>herb</td>\n",
              "      <td>herb_basil</td>\n",
              "    </tr>\n",
              "    <tr>\n",
              "      <th>4</th>\n",
              "      <td>5e2f30c3e873b10020b64c4c</td>\n",
              "      <td>Pasta Alfredo</td>\n",
              "      <td>cashew_nuts</td>\n",
              "      <td>seed</td>\n",
              "      <td>seed_cashew_nuts</td>\n",
              "    </tr>\n",
              "  </tbody>\n",
              "</table>\n",
              "</div>"
            ],
            "text/plain": [
              "                       dish  ...          keyword_id\n",
              "0  5db821535168bd0020e738ca  ...     lifestyle_vegan\n",
              "1  5e2f30cd21cbcd002090abdc  ...  vegetable_garbanzo\n",
              "2  5e2f30cd21cbcd002090abdc  ...      dish_hamburger\n",
              "3  5e2f30c3e873b10020b64c4c  ...          herb_basil\n",
              "4  5e2f30c3e873b10020b64c4c  ...    seed_cashew_nuts\n",
              "\n",
              "[5 rows x 5 columns]"
            ]
          },
          "metadata": {
            "tags": []
          },
          "execution_count": 49
        }
      ]
    },
    {
      "cell_type": "code",
      "metadata": {
        "id": "oZ3XG6ld9NYG",
        "colab_type": "code",
        "outputId": "d38d8680-59c8-4c2b-da1a-69e15b0251ee",
        "colab": {
          "base_uri": "https://localhost:8080/",
          "height": 365
        }
      },
      "source": [
        "df_dish_keywords.info()\n",
        "df_dish_keywords.drop_duplicates(inplace=True)\n",
        "\n",
        "df_dish_keywords.info()\n"
      ],
      "execution_count": 0,
      "outputs": [
        {
          "output_type": "stream",
          "text": [
            "<class 'pandas.core.frame.DataFrame'>\n",
            "Int64Index: 335064 entries, 0 to 335063\n",
            "Data columns (total 5 columns):\n",
            "dish             335064 non-null object\n",
            "dish_name        335064 non-null object\n",
            "keyword_name     335064 non-null object\n",
            "keyword_class    335064 non-null object\n",
            "keyword_id       335064 non-null object\n",
            "dtypes: object(5)\n",
            "memory usage: 15.3+ MB\n",
            "<class 'pandas.core.frame.DataFrame'>\n",
            "Int64Index: 234108 entries, 0 to 335061\n",
            "Data columns (total 5 columns):\n",
            "dish             234108 non-null object\n",
            "dish_name        234108 non-null object\n",
            "keyword_name     234108 non-null object\n",
            "keyword_class    234108 non-null object\n",
            "keyword_id       234108 non-null object\n",
            "dtypes: object(5)\n",
            "memory usage: 10.7+ MB\n"
          ],
          "name": "stdout"
        }
      ]
    },
    {
      "cell_type": "code",
      "metadata": {
        "id": "oTO0cqa69Roq",
        "colab_type": "code",
        "outputId": "1b734e1a-dd21-4ca1-e15d-7c00ea9bfd9a",
        "colab": {
          "base_uri": "https://localhost:8080/",
          "height": 197
        }
      },
      "source": [
        "df_dish_keywords.tail()"
      ],
      "execution_count": 0,
      "outputs": [
        {
          "output_type": "execute_result",
          "data": {
            "text/html": [
              "<div>\n",
              "<style scoped>\n",
              "    .dataframe tbody tr th:only-of-type {\n",
              "        vertical-align: middle;\n",
              "    }\n",
              "\n",
              "    .dataframe tbody tr th {\n",
              "        vertical-align: top;\n",
              "    }\n",
              "\n",
              "    .dataframe thead th {\n",
              "        text-align: right;\n",
              "    }\n",
              "</style>\n",
              "<table border=\"1\" class=\"dataframe\">\n",
              "  <thead>\n",
              "    <tr style=\"text-align: right;\">\n",
              "      <th></th>\n",
              "      <th>dish</th>\n",
              "      <th>dish_name</th>\n",
              "      <th>keyword_name</th>\n",
              "      <th>keyword_class</th>\n",
              "      <th>keyword_id</th>\n",
              "    </tr>\n",
              "  </thead>\n",
              "  <tbody>\n",
              "    <tr>\n",
              "      <th>335056</th>\n",
              "      <td>59cb53d992c3c5000471f9aa</td>\n",
              "      <td>Spicy Falafel Wrap</td>\n",
              "      <td>garlic_spread</td>\n",
              "      <td>condiment</td>\n",
              "      <td>condiment_garlic_spread</td>\n",
              "    </tr>\n",
              "    <tr>\n",
              "      <th>335057</th>\n",
              "      <td>59cb53d992c3c5000471f9aa</td>\n",
              "      <td>Spicy Falafel Wrap</td>\n",
              "      <td>olive_oil</td>\n",
              "      <td>condiment</td>\n",
              "      <td>condiment_olive_oil</td>\n",
              "    </tr>\n",
              "    <tr>\n",
              "      <th>335058</th>\n",
              "      <td>59cb53d992c3c5000471f9aa</td>\n",
              "      <td>Spicy Falafel Wrap</td>\n",
              "      <td>salad</td>\n",
              "      <td>dish</td>\n",
              "      <td>dish_salad</td>\n",
              "    </tr>\n",
              "    <tr>\n",
              "      <th>335059</th>\n",
              "      <td>59cb53d992c3c5000471f9aa</td>\n",
              "      <td>Spicy Falafel Wrap</td>\n",
              "      <td>spice</td>\n",
              "      <td>spice</td>\n",
              "      <td>spice_spice</td>\n",
              "    </tr>\n",
              "    <tr>\n",
              "      <th>335061</th>\n",
              "      <td>59cb53d992c3c5000471f9aa</td>\n",
              "      <td>Spicy Falafel Wrap</td>\n",
              "      <td>tabbouleh</td>\n",
              "      <td>dish</td>\n",
              "      <td>dish_tabbouleh</td>\n",
              "    </tr>\n",
              "  </tbody>\n",
              "</table>\n",
              "</div>"
            ],
            "text/plain": [
              "                            dish  ...               keyword_id\n",
              "335056  59cb53d992c3c5000471f9aa  ...  condiment_garlic_spread\n",
              "335057  59cb53d992c3c5000471f9aa  ...      condiment_olive_oil\n",
              "335058  59cb53d992c3c5000471f9aa  ...               dish_salad\n",
              "335059  59cb53d992c3c5000471f9aa  ...              spice_spice\n",
              "335061  59cb53d992c3c5000471f9aa  ...           dish_tabbouleh\n",
              "\n",
              "[5 rows x 5 columns]"
            ]
          },
          "metadata": {
            "tags": []
          },
          "execution_count": 51
        }
      ]
    },
    {
      "cell_type": "code",
      "metadata": {
        "id": "B9xCMER_9kZd",
        "colab_type": "code",
        "outputId": "26ebb9e8-39d5-43b6-8d14-ee57903065a4",
        "colab": {
          "base_uri": "https://localhost:8080/",
          "height": 191
        }
      },
      "source": [
        "df_GPE_keywords = df_dish_keywords.query('keyword_class in [\"GPE_city\",\"GPE_region\",\"GPE_country\"]')\n",
        "df_GPE_keywords.info()\n",
        "\n",
        "df_GPE_keywords.to_csv('gpe_keywords.csv',index=False)\n",
        "\n",
        "\n",
        "df_dish_keywords.query('keyword_class == \"GPE_city\"').to_csv('gpe_keywords_city.csv',index=False)\n",
        "df_dish_keywords.query('keyword_class == \"GPE_region\"').to_csv('gpe_keywords_region.csv',index=False)\n",
        "df_dish_keywords.query('keyword_class == \"GPE_country\"').to_csv('gpe_keywords_country.csv',index=False)\n"
      ],
      "execution_count": 0,
      "outputs": [
        {
          "output_type": "stream",
          "text": [
            "<class 'pandas.core.frame.DataFrame'>\n",
            "Int64Index: 5693 entries, 11 to 335040\n",
            "Data columns (total 5 columns):\n",
            "dish             5693 non-null object\n",
            "dish_name        5693 non-null object\n",
            "keyword_name     5693 non-null object\n",
            "keyword_class    5693 non-null object\n",
            "keyword_id       5693 non-null object\n",
            "dtypes: object(5)\n",
            "memory usage: 266.9+ KB\n"
          ],
          "name": "stdout"
        }
      ]
    },
    {
      "cell_type": "code",
      "metadata": {
        "id": "dRb0BpwfSEVA",
        "colab_type": "code",
        "colab": {}
      },
      "source": [
        "df_dish_keywords.query('keyword_class == \"partner\"').to_csv('dish_partner.csv',index=False)"
      ],
      "execution_count": 0,
      "outputs": []
    },
    {
      "cell_type": "code",
      "metadata": {
        "id": "2DiV6xTL_FCz",
        "colab_type": "code",
        "outputId": "d2dbe8b6-1284-43c0-aafe-f8aebabb8a81",
        "colab": {
          "base_uri": "https://localhost:8080/",
          "height": 406
        }
      },
      "source": [
        "df_dish_keywords.query('keyword_class == \"partner\"')"
      ],
      "execution_count": 0,
      "outputs": [
        {
          "output_type": "execute_result",
          "data": {
            "text/html": [
              "<div>\n",
              "<style scoped>\n",
              "    .dataframe tbody tr th:only-of-type {\n",
              "        vertical-align: middle;\n",
              "    }\n",
              "\n",
              "    .dataframe tbody tr th {\n",
              "        vertical-align: top;\n",
              "    }\n",
              "\n",
              "    .dataframe thead th {\n",
              "        text-align: right;\n",
              "    }\n",
              "</style>\n",
              "<table border=\"1\" class=\"dataframe\">\n",
              "  <thead>\n",
              "    <tr style=\"text-align: right;\">\n",
              "      <th></th>\n",
              "      <th>dish</th>\n",
              "      <th>dish_name</th>\n",
              "      <th>keyword_name</th>\n",
              "      <th>keyword_class</th>\n",
              "      <th>keyword_id</th>\n",
              "    </tr>\n",
              "  </thead>\n",
              "  <tbody>\n",
              "    <tr>\n",
              "      <th>134</th>\n",
              "      <td>5e2ee89721cbcd002090a019</td>\n",
              "      <td>Crema de col, espinaca y coliflor</td>\n",
              "      <td>fundación_santuario_gaia</td>\n",
              "      <td>partner</td>\n",
              "      <td>partner_fundación_santuario_gaia</td>\n",
              "    </tr>\n",
              "    <tr>\n",
              "      <th>140</th>\n",
              "      <td>5e2ee6e5e873b10020b64055</td>\n",
              "      <td>Wok</td>\n",
              "      <td>el_paraiso_de_los_animales</td>\n",
              "      <td>partner</td>\n",
              "      <td>partner_el_paraiso_de_los_animales</td>\n",
              "    </tr>\n",
              "    <tr>\n",
              "      <th>161</th>\n",
              "      <td>5e2ee68e21cbcd0020909fa5</td>\n",
              "      <td>Frushi Hot</td>\n",
              "      <td>el_paraiso_de_los_animales</td>\n",
              "      <td>partner</td>\n",
              "      <td>partner_el_paraiso_de_los_animales</td>\n",
              "    </tr>\n",
              "    <tr>\n",
              "      <th>1062</th>\n",
              "      <td>5e2dfe4afa045e002047d470</td>\n",
              "      <td>Cazuela De Verduras</td>\n",
              "      <td>el_hogar_animal_sanctuary</td>\n",
              "      <td>partner</td>\n",
              "      <td>partner_el_hogar_animal_sanctuary</td>\n",
              "    </tr>\n",
              "    <tr>\n",
              "      <th>1064</th>\n",
              "      <td>5e2dfe0efa045e002047d46a</td>\n",
              "      <td>Variedad De Entrantes</td>\n",
              "      <td>el_hogar_animal_sanctuary</td>\n",
              "      <td>partner</td>\n",
              "      <td>partner_el_hogar_animal_sanctuary</td>\n",
              "    </tr>\n",
              "    <tr>\n",
              "      <th>...</th>\n",
              "      <td>...</td>\n",
              "      <td>...</td>\n",
              "      <td>...</td>\n",
              "      <td>...</td>\n",
              "      <td>...</td>\n",
              "    </tr>\n",
              "    <tr>\n",
              "      <th>332974</th>\n",
              "      <td>5a387803e25030000437a255</td>\n",
              "      <td>Singapore Laksa (vegan)</td>\n",
              "      <td>center_for_responsible_future</td>\n",
              "      <td>partner</td>\n",
              "      <td>partner_center_for_responsible_future</td>\n",
              "    </tr>\n",
              "    <tr>\n",
              "      <th>332997</th>\n",
              "      <td>5a375d53727bfc00042da1e8</td>\n",
              "      <td>Organic bee hoon ‘fish’ seaweed soup</td>\n",
              "      <td>center_for_responsible_future</td>\n",
              "      <td>partner</td>\n",
              "      <td>partner_center_for_responsible_future</td>\n",
              "    </tr>\n",
              "    <tr>\n",
              "      <th>333091</th>\n",
              "      <td>5a364a74587eb70004fab238</td>\n",
              "      <td>Fried Kway Teow</td>\n",
              "      <td>center_for_responsible_future</td>\n",
              "      <td>partner</td>\n",
              "      <td>partner_center_for_responsible_future</td>\n",
              "    </tr>\n",
              "    <tr>\n",
              "      <th>333327</th>\n",
              "      <td>5a33a04ad43f27000440e2a5</td>\n",
              "      <td>Kutscher - Spicy Patty with grilled vegetable ...</td>\n",
              "      <td>center_for_responsible_future</td>\n",
              "      <td>partner</td>\n",
              "      <td>partner_center_for_responsible_future</td>\n",
              "    </tr>\n",
              "    <tr>\n",
              "      <th>334010</th>\n",
              "      <td>5a214c6c7360b7000433998a</td>\n",
              "      <td>Bee Hoon Goreng</td>\n",
              "      <td>center_for_responsible_future</td>\n",
              "      <td>partner</td>\n",
              "      <td>partner_center_for_responsible_future</td>\n",
              "    </tr>\n",
              "  </tbody>\n",
              "</table>\n",
              "<p>8481 rows × 5 columns</p>\n",
              "</div>"
            ],
            "text/plain": [
              "                            dish  ...                             keyword_id\n",
              "134     5e2ee89721cbcd002090a019  ...       partner_fundación_santuario_gaia\n",
              "140     5e2ee6e5e873b10020b64055  ...     partner_el_paraiso_de_los_animales\n",
              "161     5e2ee68e21cbcd0020909fa5  ...     partner_el_paraiso_de_los_animales\n",
              "1062    5e2dfe4afa045e002047d470  ...      partner_el_hogar_animal_sanctuary\n",
              "1064    5e2dfe0efa045e002047d46a  ...      partner_el_hogar_animal_sanctuary\n",
              "...                          ...  ...                                    ...\n",
              "332974  5a387803e25030000437a255  ...  partner_center_for_responsible_future\n",
              "332997  5a375d53727bfc00042da1e8  ...  partner_center_for_responsible_future\n",
              "333091  5a364a74587eb70004fab238  ...  partner_center_for_responsible_future\n",
              "333327  5a33a04ad43f27000440e2a5  ...  partner_center_for_responsible_future\n",
              "334010  5a214c6c7360b7000433998a  ...  partner_center_for_responsible_future\n",
              "\n",
              "[8481 rows x 5 columns]"
            ]
          },
          "metadata": {
            "tags": []
          },
          "execution_count": 54
        }
      ]
    },
    {
      "cell_type": "code",
      "metadata": {
        "id": "r82wlbwj90ke",
        "colab_type": "code",
        "colab": {}
      },
      "source": [
        "df_dish_keywords.query('keyword_class not in [\"GPE_city\",\"GPE_region\",\"GPE_country\"]').to_csv('dish_keywords.csv',index=False)"
      ],
      "execution_count": 0,
      "outputs": []
    },
    {
      "cell_type": "code",
      "metadata": {
        "id": "uSiRDXPg95KU",
        "colab_type": "code",
        "colab": {}
      },
      "source": [
        "eval_new_df.to_csv('eval_new_graph_input.csv',index=False)"
      ],
      "execution_count": 0,
      "outputs": []
    },
    {
      "cell_type": "code",
      "metadata": {
        "id": "-Ewn26pd-I4u",
        "colab_type": "code",
        "outputId": "ec17d560-0299-4e56-9710-c33621ef2571",
        "colab": {
          "base_uri": "https://localhost:8080/",
          "height": 225
        }
      },
      "source": [
        "df_dish_keywords.query('keyword_class==\"GPE_city\"')['keyword_name'].value_counts()"
      ],
      "execution_count": 0,
      "outputs": [
        {
          "output_type": "execute_result",
          "data": {
            "text/plain": [
              "barcelona    56\n",
              "portland     42\n",
              "tomar        38\n",
              "denver       36\n",
              "paris        36\n",
              "             ..\n",
              "acapulco      1\n",
              "miramar       1\n",
              "murrieta      1\n",
              "raleigh       1\n",
              "nanyang       1\n",
              "Name: keyword_name, Length: 452, dtype: int64"
            ]
          },
          "metadata": {
            "tags": []
          },
          "execution_count": 57
        }
      ]
    },
    {
      "cell_type": "code",
      "metadata": {
        "id": "BtaV-8_o-Qf2",
        "colab_type": "code",
        "outputId": "3bf25c93-007d-4340-d7c0-c92fec1dff42",
        "colab": {
          "base_uri": "https://localhost:8080/",
          "height": 225
        }
      },
      "source": [
        "df_dish_keywords.query('keyword_class==\"GPE_country\"')['keyword_name'].value_counts()"
      ],
      "execution_count": 0,
      "outputs": [
        {
          "output_type": "execute_result",
          "data": {
            "text/plain": [
              "singapore    525\n",
              "india        100\n",
              "hong_kong     93\n",
              "japan         90\n",
              "chile         66\n",
              "            ... \n",
              "bolivia        1\n",
              "romania        1\n",
              "tunisia        1\n",
              "armenia        1\n",
              "slovakia       1\n",
              "Name: keyword_name, Length: 82, dtype: int64"
            ]
          },
          "metadata": {
            "tags": []
          },
          "execution_count": 58
        }
      ]
    },
    {
      "cell_type": "code",
      "metadata": {
        "id": "fpqYIYNl-XLt",
        "colab_type": "code",
        "outputId": "5acc6bea-a260-41e4-f964-3663808f2074",
        "colab": {
          "base_uri": "https://localhost:8080/",
          "height": 225
        }
      },
      "source": [
        "df_dish_keywords.query('keyword_class==\"GPE_region\"')['keyword_name'].value_counts()"
      ],
      "execution_count": 0,
      "outputs": [
        {
          "output_type": "execute_result",
          "data": {
            "text/plain": [
              "bali            96\n",
              "london          93\n",
              "new_york        86\n",
              "sichuan         79\n",
              "van             72\n",
              "                ..\n",
              "azores           1\n",
              "illinois         1\n",
              "cundinamarca     1\n",
              "zürich           1\n",
              "hessen           1\n",
              "Name: keyword_name, Length: 276, dtype: int64"
            ]
          },
          "metadata": {
            "tags": []
          },
          "execution_count": 59
        }
      ]
    },
    {
      "cell_type": "code",
      "metadata": {
        "id": "F-vgnT7W-a_Q",
        "colab_type": "code",
        "colab": {}
      },
      "source": [
        "pd.DataFrame(df_pattern.query('label == \"U_GPE_country\"')['id'].drop_duplicates().reset_index(drop=True)).to_csv('country_list.csv',index=False)\n",
        "pd.DataFrame(df_pattern.query('label == \"U_GPE_region\"')['id'].drop_duplicates().reset_index(drop=True)).to_csv('admin_list.csv',index=False)\n",
        "pd.DataFrame(df_pattern.query('label == \"U_GPE_city\"')['id'].drop_duplicates().reset_index(drop=True)).to_csv('city_list.csv',index=False)"
      ],
      "execution_count": 0,
      "outputs": []
    },
    {
      "cell_type": "code",
      "metadata": {
        "id": "58i9LN3o-1Hn",
        "colab_type": "code",
        "outputId": "5b591013-319f-4db3-b509-2daa31e0380c",
        "colab": {
          "base_uri": "https://localhost:8080/",
          "height": 156
        }
      },
      "source": [
        "eval_new_df.columns"
      ],
      "execution_count": 0,
      "outputs": [
        {
          "output_type": "execute_result",
          "data": {
            "text/plain": [
              "Index(['review', 'likes', 'user', 'text', 'type', 'restaurant', 'dish',\n",
              "       'taste', 'presentation', 'nutrition', 'originality', 'value', 'overall',\n",
              "       'createdAt', 'name', 'likedArticlesCount', 'followersCount',\n",
              "       'likedReviewsCount', 'challengeReviews', 'username', 'language', 'home',\n",
              "       'reviewKarma_score', 'dish_name', 'restaurant_name',\n",
              "       'restaurant_country', 'restaurant_website', 'restaurant_locality',\n",
              "       'entities'],\n",
              "      dtype='object')"
            ]
          },
          "metadata": {
            "tags": []
          },
          "execution_count": 61
        }
      ]
    },
    {
      "cell_type": "code",
      "metadata": {
        "id": "HvX6gHYW-wPW",
        "colab_type": "code",
        "colab": {}
      },
      "source": [
        "eval_new_df[['user','username','name','likedArticlesCount',\\\n",
        "             'followersCount', 'likedReviewsCount',\\\n",
        "             'challengeReviews', 'language', 'home',\\\n",
        "             'reviewKarma_score']].drop_duplicates().reset_index(drop=True).to_csv('user_detail.csv',index=False)\n",
        "eval_new_df[['dish','dish_name']].drop_duplicates().reset_index(drop=True).to_csv('dish_detail.csv',index=False)\n",
        "eval_new_df[['restaurant','restaurant_name', \\\n",
        "             'restaurant_country','restaurant_website',\\\n",
        "             'restaurant_locality']].drop_duplicates().reset_index(drop=True).to_csv('rest_detail.csv',index=False)\n",
        "eval_new_df[['review','originality', 'value', \\\n",
        "             'nutrition','presentation', \\\n",
        "             'taste', 'overall','createdAt','type']].drop_duplicates().reset_index(drop=True).to_csv('rev_detail.csv',index=False)\n",
        "df_keyword_ents.to_csv('keyword_detail.csv',index=False)"
      ],
      "execution_count": 0,
      "outputs": []
    },
    {
      "cell_type": "code",
      "metadata": {
        "id": "KlWiCFQ5AcDN",
        "colab_type": "code",
        "colab": {}
      },
      "source": [
        "eval_new_df[['dish','restaurant']].drop_duplicates().reset_index(drop=True).to_csv('dish_restaurant.csv',index=False)\n",
        "eval_new_df[['user','review']].drop_duplicates().reset_index(drop=True).to_csv('user_review.csv',index=False)\n",
        "eval_new_df[['dish','review']].drop_duplicates().reset_index(drop=True).to_csv('dish_review.csv',index=False)\n",
        "df_likes.drop_duplicates().reset_index(drop=True).to_csv('rev_user_likes.csv',index=False)"
      ],
      "execution_count": 0,
      "outputs": []
    },
    {
      "cell_type": "code",
      "metadata": {
        "id": "_Sis8Tr5Aweb",
        "colab_type": "code",
        "outputId": "e28cfae9-c372-4cb6-9bca-3e9cc0e73b59",
        "colab": {
          "base_uri": "https://localhost:8080/",
          "height": 197
        }
      },
      "source": [
        "df_likes.head()"
      ],
      "execution_count": 0,
      "outputs": [
        {
          "output_type": "execute_result",
          "data": {
            "text/html": [
              "<div>\n",
              "<style scoped>\n",
              "    .dataframe tbody tr th:only-of-type {\n",
              "        vertical-align: middle;\n",
              "    }\n",
              "\n",
              "    .dataframe tbody tr th {\n",
              "        vertical-align: top;\n",
              "    }\n",
              "\n",
              "    .dataframe thead th {\n",
              "        text-align: right;\n",
              "    }\n",
              "</style>\n",
              "<table border=\"1\" class=\"dataframe\">\n",
              "  <thead>\n",
              "    <tr style=\"text-align: right;\">\n",
              "      <th></th>\n",
              "      <th>review</th>\n",
              "      <th>user</th>\n",
              "    </tr>\n",
              "  </thead>\n",
              "  <tbody>\n",
              "    <tr>\n",
              "      <th>0</th>\n",
              "      <td>5e2f312ee873b10020b64c5d</td>\n",
              "      <td>5e03e8307956290020e51e8d</td>\n",
              "    </tr>\n",
              "    <tr>\n",
              "      <th>1</th>\n",
              "      <td>5e2f312ee873b10020b64c5d</td>\n",
              "      <td>5e1bb2793c198000200848ee</td>\n",
              "    </tr>\n",
              "    <tr>\n",
              "      <th>2</th>\n",
              "      <td>5e2f30cd21cbcd002090abdd</td>\n",
              "      <td>5e03e8307956290020e51e8d</td>\n",
              "    </tr>\n",
              "    <tr>\n",
              "      <th>3</th>\n",
              "      <td>5e2f30cd21cbcd002090abdd</td>\n",
              "      <td>5c748a8934dda90004b017b4</td>\n",
              "    </tr>\n",
              "    <tr>\n",
              "      <th>4</th>\n",
              "      <td>5e2f30c521cbcd002090abd4</td>\n",
              "      <td>5e03e8307956290020e51e8d</td>\n",
              "    </tr>\n",
              "  </tbody>\n",
              "</table>\n",
              "</div>"
            ],
            "text/plain": [
              "                     review                       user\n",
              "0  5e2f312ee873b10020b64c5d   5e03e8307956290020e51e8d\n",
              "1  5e2f312ee873b10020b64c5d   5e1bb2793c198000200848ee\n",
              "2  5e2f30cd21cbcd002090abdd   5e03e8307956290020e51e8d\n",
              "3  5e2f30cd21cbcd002090abdd   5c748a8934dda90004b017b4\n",
              "4  5e2f30c521cbcd002090abd4   5e03e8307956290020e51e8d"
            ]
          },
          "metadata": {
            "tags": []
          },
          "execution_count": 64
        }
      ]
    },
    {
      "cell_type": "code",
      "metadata": {
        "id": "P-jRkIMDAyob",
        "colab_type": "code",
        "outputId": "a9ab1f3e-9d39-4d98-e91f-6094aa892a71",
        "colab": {
          "base_uri": "https://localhost:8080/",
          "height": 138
        }
      },
      "source": [
        "df_likes.info()"
      ],
      "execution_count": 0,
      "outputs": [
        {
          "output_type": "stream",
          "text": [
            "<class 'pandas.core.frame.DataFrame'>\n",
            "Int64Index: 284277 entries, 0 to 372732\n",
            "Data columns (total 2 columns):\n",
            "review    284277 non-null object\n",
            "user      284277 non-null object\n",
            "dtypes: object(2)\n",
            "memory usage: 6.5+ MB\n"
          ],
          "name": "stdout"
        }
      ]
    },
    {
      "cell_type": "code",
      "metadata": {
        "id": "s7QQ45DWdqq_",
        "colab_type": "code",
        "colab": {}
      },
      "source": [
        "review_likes_series_count = df_likes.groupby('review')['user'].count()"
      ],
      "execution_count": 0,
      "outputs": []
    },
    {
      "cell_type": "code",
      "metadata": {
        "id": "Cf2UlDH0_lJl",
        "colab_type": "code",
        "outputId": "0237572a-5e26-4754-f6af-38fa714b345f",
        "colab": {
          "base_uri": "https://localhost:8080/",
          "height": 34
        }
      },
      "source": [
        "review_likes_series_count.mean()"
      ],
      "execution_count": 0,
      "outputs": [
        {
          "output_type": "execute_result",
          "data": {
            "text/plain": [
              "4.104549589223061"
            ]
          },
          "metadata": {
            "tags": []
          },
          "execution_count": 69
        }
      ]
    },
    {
      "cell_type": "code",
      "metadata": {
        "id": "zAxxH0Nf_rnm",
        "colab_type": "code",
        "outputId": "dc104f63-848e-4e2f-b654-c08509a7e413",
        "colab": {
          "base_uri": "https://localhost:8080/",
          "height": 34
        }
      },
      "source": [
        "review_likes_series_count.max()"
      ],
      "execution_count": 0,
      "outputs": [
        {
          "output_type": "execute_result",
          "data": {
            "text/plain": [
              "45"
            ]
          },
          "metadata": {
            "tags": []
          },
          "execution_count": 70
        }
      ]
    },
    {
      "cell_type": "code",
      "metadata": {
        "id": "dg2otTkr_6fa",
        "colab_type": "code",
        "outputId": "b8764f61-9fff-4ebb-cc0e-8978c4facdfd",
        "colab": {
          "base_uri": "https://localhost:8080/",
          "height": 34
        }
      },
      "source": [
        "review_likes_series_count.median()"
      ],
      "execution_count": 0,
      "outputs": [
        {
          "output_type": "execute_result",
          "data": {
            "text/plain": [
              "3.0"
            ]
          },
          "metadata": {
            "tags": []
          },
          "execution_count": 71
        }
      ]
    },
    {
      "cell_type": "code",
      "metadata": {
        "id": "JWnX_1-D_-1j",
        "colab_type": "code",
        "outputId": "7b5fcdef-c635-4e6f-e6f8-112e480c84c5",
        "colab": {
          "base_uri": "https://localhost:8080/",
          "height": 561
        }
      },
      "source": [
        "plt.hist(review_likes_series_count,bins=50)"
      ],
      "execution_count": 0,
      "outputs": [
        {
          "output_type": "execute_result",
          "data": {
            "text/plain": [
              "(array([1.0352e+04, 1.3518e+04, 1.2950e+04, 9.9900e+03, 7.2140e+03,\n",
              "        4.7980e+03, 3.1630e+03, 2.0880e+03, 0.0000e+00, 1.4630e+03,\n",
              "        8.9200e+02, 6.6800e+02, 4.4900e+02, 3.5600e+02, 2.7600e+02,\n",
              "        2.1200e+02, 0.0000e+00, 1.7300e+02, 1.1500e+02, 1.0000e+02,\n",
              "        9.1000e+01, 6.0000e+01, 4.5000e+01, 3.7000e+01, 0.0000e+00,\n",
              "        3.7000e+01, 3.5000e+01, 4.4000e+01, 3.3000e+01, 2.2000e+01,\n",
              "        1.5000e+01, 1.8000e+01, 8.0000e+00, 0.0000e+00, 8.0000e+00,\n",
              "        1.1000e+01, 6.0000e+00, 3.0000e+00, 3.0000e+00, 2.0000e+00,\n",
              "        0.0000e+00, 0.0000e+00, 0.0000e+00, 1.0000e+00, 1.0000e+00,\n",
              "        0.0000e+00, 0.0000e+00, 0.0000e+00, 1.0000e+00, 1.0000e+00]),\n",
              " array([ 1.  ,  1.88,  2.76,  3.64,  4.52,  5.4 ,  6.28,  7.16,  8.04,\n",
              "         8.92,  9.8 , 10.68, 11.56, 12.44, 13.32, 14.2 , 15.08, 15.96,\n",
              "        16.84, 17.72, 18.6 , 19.48, 20.36, 21.24, 22.12, 23.  , 23.88,\n",
              "        24.76, 25.64, 26.52, 27.4 , 28.28, 29.16, 30.04, 30.92, 31.8 ,\n",
              "        32.68, 33.56, 34.44, 35.32, 36.2 , 37.08, 37.96, 38.84, 39.72,\n",
              "        40.6 , 41.48, 42.36, 43.24, 44.12, 45.  ]),\n",
              " <a list of 50 Patch objects>)"
            ]
          },
          "metadata": {
            "tags": []
          },
          "execution_count": 73
        },
        {
          "output_type": "display_data",
          "data": {
            "image/png": "[encoded data removed]",
            "text/plain": [
              "<Figure size 432x288 with 1 Axes>"
            ]
          },
          "metadata": {
            "tags": []
          }
        }
      ]
    },
    {
      "cell_type": "code",
      "metadata": {
        "id": "raPdn36rAIOq",
        "colab_type": "code",
        "outputId": "bc065610-7973-4dc1-db24-bccaed2fef7c",
        "colab": {
          "base_uri": "https://localhost:8080/",
          "height": 34
        }
      },
      "source": [
        "review_likes_series_count.count()"
      ],
      "execution_count": 0,
      "outputs": [
        {
          "output_type": "execute_result",
          "data": {
            "text/plain": [
              "69259"
            ]
          },
          "metadata": {
            "tags": []
          },
          "execution_count": 74
        }
      ]
    },
    {
      "cell_type": "code",
      "metadata": {
        "id": "rWGon4meATbF",
        "colab_type": "code",
        "colab": {}
      },
      "source": [
        ""
      ],
      "execution_count": 0,
      "outputs": []
    }
  ]
}