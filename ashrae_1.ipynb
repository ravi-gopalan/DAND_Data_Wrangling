{
  "nbformat": 4,
  "nbformat_minor": 0,
  "metadata": {
    "colab": {
      "name": "Untitled13.ipynb",
      "provenance": [],
      "include_colab_link": true
    },
    "kernelspec": {
      "name": "python3",
      "display_name": "Python 3"
    },
    "accelerator": "GPU"
  },
  "cells": [
    {
      "cell_type": "markdown",
      "metadata": {
        "id": "view-in-github",
        "colab_type": "text"
      },
      "source": [
        "<a href=\"https://colab.research.google.com/github/ravi-gopalan/DAND_Data_Wrangling/blob/master/ashrae_1.ipynb\" target=\"_parent\"><img src=\"https://colab.research.google.com/assets/colab-badge.svg\" alt=\"Open In Colab\"/></a>"
      ]
    },
    {
      "cell_type": "code",
      "metadata": {
        "id": "M2ICKbTBv1Gb",
        "colab_type": "code",
        "outputId": "9b2966a3-6b6e-43db-d912-df53eef2295f",
        "colab": {
          "base_uri": "https://localhost:8080/",
          "height": 141
        }
      },
      "source": [
        "from google.colab import drive\n",
        "drive.mount('/gdrive')\n",
        "%cd /gdrive"
      ],
      "execution_count": 1,
      "outputs": [
        {
          "output_type": "stream",
          "text": [
            "Go to this URL in a browser: https://accounts.google.com/o/oauth2/auth?client_id=947318989803-6bn6qk8qdgf4n4g3pfee6491hc0brc4i.apps.googleusercontent.com&redirect_uri=urn%3Aietf%3Awg%3Aoauth%3A2.0%3Aoob&scope=email%20https%3A%2F%2Fwww.googleapis.com%2Fauth%2Fdocs.test%20https%3A%2F%2Fwww.googleapis.com%2Fauth%2Fdrive%20https%3A%2F%2Fwww.googleapis.com%2Fauth%2Fdrive.photos.readonly%20https%3A%2F%2Fwww.googleapis.com%2Fauth%2Fpeopleapi.readonly&response_type=code\n",
            "\n",
            "Enter your authorization code:\n",
            "··········\n",
            "Mounted at /gdrive\n",
            "/gdrive\n"
          ],
          "name": "stdout"
        }
      ]
    },
    {
      "cell_type": "code",
      "metadata": {
        "id": "MO5h9l_dw6zv",
        "colab_type": "code",
        "outputId": "d2666777-5a35-419b-93ae-4e48e75785a1",
        "colab": {
          "base_uri": "https://localhost:8080/",
          "height": 34
        }
      },
      "source": [
        "cd /root"
      ],
      "execution_count": 2,
      "outputs": [
        {
          "output_type": "stream",
          "text": [
            "/root\n"
          ],
          "name": "stdout"
        }
      ]
    },
    {
      "cell_type": "code",
      "metadata": {
        "id": "Vqj8cLqOw8lu",
        "colab_type": "code",
        "colab": {}
      },
      "source": [
        "!mkdir .kaggle "
      ],
      "execution_count": 0,
      "outputs": []
    },
    {
      "cell_type": "code",
      "metadata": {
        "id": "IfEuFjjWw_9C",
        "colab_type": "code",
        "colab": {}
      },
      "source": [
        "!cp '/gdrive/My Drive/Colab_stuff/kaggle.json' '/root/.kaggle/kaggle.json' \n",
        "!chmod 600 /root/.kaggle/kaggle.json"
      ],
      "execution_count": 0,
      "outputs": []
    },
    {
      "cell_type": "code",
      "metadata": {
        "id": "psAknyniyDwd",
        "colab_type": "code",
        "outputId": "fc3520b4-f745-4b77-9709-feb4ca8a943a",
        "colab": {
          "base_uri": "https://localhost:8080/",
          "height": 34
        }
      },
      "source": [
        "cd /content/ "
      ],
      "execution_count": 5,
      "outputs": [
        {
          "output_type": "stream",
          "text": [
            "/content\n"
          ],
          "name": "stdout"
        }
      ]
    },
    {
      "cell_type": "code",
      "metadata": {
        "id": "TFX9SAOryHcv",
        "colab_type": "code",
        "colab": {}
      },
      "source": [
        "!mkdir ashrae_energy_prediction"
      ],
      "execution_count": 0,
      "outputs": []
    },
    {
      "cell_type": "code",
      "metadata": {
        "id": "1-GyGXKtxTYL",
        "colab_type": "code",
        "colab": {
          "base_uri": "https://localhost:8080/",
          "height": 34
        },
        "outputId": "3b9e7da0-263f-4299-b1be-2a3b0427fea5"
      },
      "source": [
        "cd ashrae_energy_prediction/"
      ],
      "execution_count": 7,
      "outputs": [
        {
          "output_type": "stream",
          "text": [
            "/content/ashrae_energy_prediction\n"
          ],
          "name": "stdout"
        }
      ]
    },
    {
      "cell_type": "code",
      "metadata": {
        "id": "vNN4AJ6Rxkdx",
        "colab_type": "code",
        "outputId": "5c653eff-5d96-4c1e-b54a-ea85c43afb47",
        "colab": {
          "base_uri": "https://localhost:8080/",
          "height": 347
        }
      },
      "source": [
        "!kaggle competitions download -c ashrae-energy-prediction"
      ],
      "execution_count": 8,
      "outputs": [
        {
          "output_type": "stream",
          "text": [
            "Warning: Looks like you're using an outdated API Version, please consider updating (server 1.5.6 / client 1.5.4)\n",
            "Downloading train.csv.zip to /content/ashrae_energy_prediction\n",
            " 94% 112M/120M [00:01<00:00, 93.3MB/s]\n",
            "100% 120M/120M [00:01<00:00, 112MB/s] \n",
            "Downloading building_metadata.csv to /content/ashrae_energy_prediction\n",
            "  0% 0.00/44.5k [00:00<?, ?B/s]\n",
            "100% 44.5k/44.5k [00:00<00:00, 57.8MB/s]\n",
            "Downloading weather_test.csv.zip to /content/ashrae_energy_prediction\n",
            "  0% 0.00/2.53M [00:00<?, ?B/s]\n",
            "100% 2.53M/2.53M [00:00<00:00, 83.6MB/s]\n",
            "Downloading sample_submission.csv.zip to /content/ashrae_energy_prediction\n",
            " 86% 76.0M/88.4M [00:00<00:00, 105MB/s] \n",
            "100% 88.4M/88.4M [00:00<00:00, 147MB/s]\n",
            "Downloading test.csv.zip to /content/ashrae_energy_prediction\n",
            " 92% 154M/167M [00:01<00:00, 132MB/s]\n",
            "100% 167M/167M [00:01<00:00, 138MB/s]\n",
            "Downloading weather_train.csv.zip to /content/ashrae_energy_prediction\n",
            "  0% 0.00/1.27M [00:00<?, ?B/s]\n",
            "100% 1.27M/1.27M [00:00<00:00, 156MB/s]\n"
          ],
          "name": "stdout"
        }
      ]
    },
    {
      "cell_type": "code",
      "metadata": {
        "id": "dPXWALfqxwcc",
        "colab_type": "code",
        "outputId": "c79c05ea-c861-4cc4-e21c-273e7df0df98",
        "colab": {
          "base_uri": "https://localhost:8080/",
          "height": 51
        }
      },
      "source": [
        "!ls"
      ],
      "execution_count": 9,
      "outputs": [
        {
          "output_type": "stream",
          "text": [
            "building_metadata.csv\t   test.csv.zip   weather_test.csv.zip\n",
            "sample_submission.csv.zip  train.csv.zip  weather_train.csv.zip\n"
          ],
          "name": "stdout"
        }
      ]
    },
    {
      "cell_type": "code",
      "metadata": {
        "id": "4urX0_yMzBZK",
        "colab_type": "code",
        "outputId": "35788d49-319d-4475-ffb7-ef4ae04c7597",
        "colab": {
          "base_uri": "https://localhost:8080/",
          "height": 191
        }
      },
      "source": [
        "!unzip train.csv.zip\n",
        "!unzip test.csv.zip\n",
        "!unzip weather_train.csv.zip\n",
        "!unzip weather_test.csv.zip\n",
        "!unzip sample_submission.csv.zip\n"
      ],
      "execution_count": 10,
      "outputs": [
        {
          "output_type": "stream",
          "text": [
            "Archive:  train.csv.zip\n",
            "  inflating: train.csv               \n",
            "Archive:  test.csv.zip\n",
            "  inflating: test.csv                \n",
            "Archive:  weather_train.csv.zip\n",
            "  inflating: weather_train.csv       \n",
            "Archive:  weather_test.csv.zip\n",
            "  inflating: weather_test.csv        \n",
            "Archive:  sample_submission.csv.zip\n",
            "  inflating: sample_submission.csv   \n"
          ],
          "name": "stdout"
        }
      ]
    },
    {
      "cell_type": "code",
      "metadata": {
        "id": "Q_InzVRqzIGO",
        "colab_type": "code",
        "outputId": "3fb51c8b-00e0-45ca-97e6-09ba2680a257",
        "colab": {
          "base_uri": "https://localhost:8080/",
          "height": 86
        }
      },
      "source": [
        "!ls"
      ],
      "execution_count": 11,
      "outputs": [
        {
          "output_type": "stream",
          "text": [
            "building_metadata.csv\t   test.csv.zip      weather_test.csv.zip\n",
            "sample_submission.csv\t   train.csv\t     weather_train.csv\n",
            "sample_submission.csv.zip  train.csv.zip     weather_train.csv.zip\n",
            "test.csv\t\t   weather_test.csv\n"
          ],
          "name": "stdout"
        }
      ]
    },
    {
      "cell_type": "code",
      "metadata": {
        "id": "DNSZT0TOVdyX",
        "colab_type": "code",
        "colab": {}
      },
      "source": [
        "import pandas as pd\n",
        "import matplotlib.pyplot as plt\n",
        "import seaborn as sns"
      ],
      "execution_count": 0,
      "outputs": []
    },
    {
      "cell_type": "code",
      "metadata": {
        "id": "5E01oP1FWmv6",
        "colab_type": "code",
        "colab": {}
      },
      "source": [
        "from IPython.core.interactiveshell import InteractiveShell\n",
        "InteractiveShell.ast_node_interactivity = \"all\""
      ],
      "execution_count": 0,
      "outputs": []
    },
    {
      "cell_type": "code",
      "metadata": {
        "id": "4LUC4NyQWEgq",
        "colab_type": "code",
        "colab": {}
      },
      "source": [
        "dateparse = lambda x: pd.datetime.strptime(x, '%Y-%m-%d %H:%M:%S')"
      ],
      "execution_count": 0,
      "outputs": []
    },
    {
      "cell_type": "code",
      "metadata": {
        "id": "pyBsEIGvzK-2",
        "colab_type": "code",
        "colab": {
          "base_uri": "https://localhost:8080/",
          "height": 534
        },
        "outputId": "cc6782e5-3f64-4c68-d5ac-5506a4caa4f9"
      },
      "source": [
        "df_train = pd.read_csv('train.csv',parse_dates = ['timestamp'], date_parser = dateparse)\n",
        "df_train.info()\n",
        "df_train.head()\n",
        "df_train.tail()"
      ],
      "execution_count": 15,
      "outputs": [
        {
          "output_type": "stream",
          "text": [
            "<class 'pandas.core.frame.DataFrame'>\n",
            "RangeIndex: 20216100 entries, 0 to 20216099\n",
            "Data columns (total 4 columns):\n",
            "building_id      int64\n",
            "meter            int64\n",
            "timestamp        datetime64[ns]\n",
            "meter_reading    float64\n",
            "dtypes: datetime64[ns](1), float64(1), int64(2)\n",
            "memory usage: 616.9 MB\n"
          ],
          "name": "stdout"
        },
        {
          "output_type": "execute_result",
          "data": {
            "text/html": [
              "<div>\n",
              "<style scoped>\n",
              "    .dataframe tbody tr th:only-of-type {\n",
              "        vertical-align: middle;\n",
              "    }\n",
              "\n",
              "    .dataframe tbody tr th {\n",
              "        vertical-align: top;\n",
              "    }\n",
              "\n",
              "    .dataframe thead th {\n",
              "        text-align: right;\n",
              "    }\n",
              "</style>\n",
              "<table border=\"1\" class=\"dataframe\">\n",
              "  <thead>\n",
              "    <tr style=\"text-align: right;\">\n",
              "      <th></th>\n",
              "      <th>building_id</th>\n",
              "      <th>meter</th>\n",
              "      <th>timestamp</th>\n",
              "      <th>meter_reading</th>\n",
              "    </tr>\n",
              "  </thead>\n",
              "  <tbody>\n",
              "    <tr>\n",
              "      <th>0</th>\n",
              "      <td>0</td>\n",
              "      <td>0</td>\n",
              "      <td>2016-01-01</td>\n",
              "      <td>0.0</td>\n",
              "    </tr>\n",
              "    <tr>\n",
              "      <th>1</th>\n",
              "      <td>1</td>\n",
              "      <td>0</td>\n",
              "      <td>2016-01-01</td>\n",
              "      <td>0.0</td>\n",
              "    </tr>\n",
              "    <tr>\n",
              "      <th>2</th>\n",
              "      <td>2</td>\n",
              "      <td>0</td>\n",
              "      <td>2016-01-01</td>\n",
              "      <td>0.0</td>\n",
              "    </tr>\n",
              "    <tr>\n",
              "      <th>3</th>\n",
              "      <td>3</td>\n",
              "      <td>0</td>\n",
              "      <td>2016-01-01</td>\n",
              "      <td>0.0</td>\n",
              "    </tr>\n",
              "    <tr>\n",
              "      <th>4</th>\n",
              "      <td>4</td>\n",
              "      <td>0</td>\n",
              "      <td>2016-01-01</td>\n",
              "      <td>0.0</td>\n",
              "    </tr>\n",
              "  </tbody>\n",
              "</table>\n",
              "</div>"
            ],
            "text/plain": [
              "   building_id  meter  timestamp  meter_reading\n",
              "0            0      0 2016-01-01            0.0\n",
              "1            1      0 2016-01-01            0.0\n",
              "2            2      0 2016-01-01            0.0\n",
              "3            3      0 2016-01-01            0.0\n",
              "4            4      0 2016-01-01            0.0"
            ]
          },
          "metadata": {
            "tags": []
          },
          "execution_count": 15
        },
        {
          "output_type": "execute_result",
          "data": {
            "text/html": [
              "<div>\n",
              "<style scoped>\n",
              "    .dataframe tbody tr th:only-of-type {\n",
              "        vertical-align: middle;\n",
              "    }\n",
              "\n",
              "    .dataframe tbody tr th {\n",
              "        vertical-align: top;\n",
              "    }\n",
              "\n",
              "    .dataframe thead th {\n",
              "        text-align: right;\n",
              "    }\n",
              "</style>\n",
              "<table border=\"1\" class=\"dataframe\">\n",
              "  <thead>\n",
              "    <tr style=\"text-align: right;\">\n",
              "      <th></th>\n",
              "      <th>building_id</th>\n",
              "      <th>meter</th>\n",
              "      <th>timestamp</th>\n",
              "      <th>meter_reading</th>\n",
              "    </tr>\n",
              "  </thead>\n",
              "  <tbody>\n",
              "    <tr>\n",
              "      <th>20216095</th>\n",
              "      <td>1444</td>\n",
              "      <td>0</td>\n",
              "      <td>2016-12-31 23:00:00</td>\n",
              "      <td>8.750</td>\n",
              "    </tr>\n",
              "    <tr>\n",
              "      <th>20216096</th>\n",
              "      <td>1445</td>\n",
              "      <td>0</td>\n",
              "      <td>2016-12-31 23:00:00</td>\n",
              "      <td>4.825</td>\n",
              "    </tr>\n",
              "    <tr>\n",
              "      <th>20216097</th>\n",
              "      <td>1446</td>\n",
              "      <td>0</td>\n",
              "      <td>2016-12-31 23:00:00</td>\n",
              "      <td>0.000</td>\n",
              "    </tr>\n",
              "    <tr>\n",
              "      <th>20216098</th>\n",
              "      <td>1447</td>\n",
              "      <td>0</td>\n",
              "      <td>2016-12-31 23:00:00</td>\n",
              "      <td>159.575</td>\n",
              "    </tr>\n",
              "    <tr>\n",
              "      <th>20216099</th>\n",
              "      <td>1448</td>\n",
              "      <td>0</td>\n",
              "      <td>2016-12-31 23:00:00</td>\n",
              "      <td>2.850</td>\n",
              "    </tr>\n",
              "  </tbody>\n",
              "</table>\n",
              "</div>"
            ],
            "text/plain": [
              "          building_id  meter           timestamp  meter_reading\n",
              "20216095         1444      0 2016-12-31 23:00:00          8.750\n",
              "20216096         1445      0 2016-12-31 23:00:00          4.825\n",
              "20216097         1446      0 2016-12-31 23:00:00          0.000\n",
              "20216098         1447      0 2016-12-31 23:00:00        159.575\n",
              "20216099         1448      0 2016-12-31 23:00:00          2.850"
            ]
          },
          "metadata": {
            "tags": []
          },
          "execution_count": 15
        }
      ]
    },
    {
      "cell_type": "code",
      "metadata": {
        "id": "P57ldq_PzrDs",
        "colab_type": "code",
        "outputId": "c4d09acc-1be6-4cbd-8a8f-d60a166cd76e",
        "colab": {
          "base_uri": "https://localhost:8080/",
          "height": 534
        }
      },
      "source": [
        "df_test = pd.read_csv('test.csv',parse_dates = ['timestamp'], date_parser = dateparse)\n",
        "df_test.info()\n",
        "df_test.head()\n",
        "df_test.tail()"
      ],
      "execution_count": 16,
      "outputs": [
        {
          "output_type": "stream",
          "text": [
            "<class 'pandas.core.frame.DataFrame'>\n",
            "RangeIndex: 41697600 entries, 0 to 41697599\n",
            "Data columns (total 4 columns):\n",
            "row_id         int64\n",
            "building_id    int64\n",
            "meter          int64\n",
            "timestamp      datetime64[ns]\n",
            "dtypes: datetime64[ns](1), int64(3)\n",
            "memory usage: 1.2 GB\n"
          ],
          "name": "stdout"
        },
        {
          "output_type": "execute_result",
          "data": {
            "text/html": [
              "<div>\n",
              "<style scoped>\n",
              "    .dataframe tbody tr th:only-of-type {\n",
              "        vertical-align: middle;\n",
              "    }\n",
              "\n",
              "    .dataframe tbody tr th {\n",
              "        vertical-align: top;\n",
              "    }\n",
              "\n",
              "    .dataframe thead th {\n",
              "        text-align: right;\n",
              "    }\n",
              "</style>\n",
              "<table border=\"1\" class=\"dataframe\">\n",
              "  <thead>\n",
              "    <tr style=\"text-align: right;\">\n",
              "      <th></th>\n",
              "      <th>row_id</th>\n",
              "      <th>building_id</th>\n",
              "      <th>meter</th>\n",
              "      <th>timestamp</th>\n",
              "    </tr>\n",
              "  </thead>\n",
              "  <tbody>\n",
              "    <tr>\n",
              "      <th>0</th>\n",
              "      <td>0</td>\n",
              "      <td>0</td>\n",
              "      <td>0</td>\n",
              "      <td>2017-01-01</td>\n",
              "    </tr>\n",
              "    <tr>\n",
              "      <th>1</th>\n",
              "      <td>1</td>\n",
              "      <td>1</td>\n",
              "      <td>0</td>\n",
              "      <td>2017-01-01</td>\n",
              "    </tr>\n",
              "    <tr>\n",
              "      <th>2</th>\n",
              "      <td>2</td>\n",
              "      <td>2</td>\n",
              "      <td>0</td>\n",
              "      <td>2017-01-01</td>\n",
              "    </tr>\n",
              "    <tr>\n",
              "      <th>3</th>\n",
              "      <td>3</td>\n",
              "      <td>3</td>\n",
              "      <td>0</td>\n",
              "      <td>2017-01-01</td>\n",
              "    </tr>\n",
              "    <tr>\n",
              "      <th>4</th>\n",
              "      <td>4</td>\n",
              "      <td>4</td>\n",
              "      <td>0</td>\n",
              "      <td>2017-01-01</td>\n",
              "    </tr>\n",
              "  </tbody>\n",
              "</table>\n",
              "</div>"
            ],
            "text/plain": [
              "   row_id  building_id  meter  timestamp\n",
              "0       0            0      0 2017-01-01\n",
              "1       1            1      0 2017-01-01\n",
              "2       2            2      0 2017-01-01\n",
              "3       3            3      0 2017-01-01\n",
              "4       4            4      0 2017-01-01"
            ]
          },
          "metadata": {
            "tags": []
          },
          "execution_count": 16
        },
        {
          "output_type": "execute_result",
          "data": {
            "text/html": [
              "<div>\n",
              "<style scoped>\n",
              "    .dataframe tbody tr th:only-of-type {\n",
              "        vertical-align: middle;\n",
              "    }\n",
              "\n",
              "    .dataframe tbody tr th {\n",
              "        vertical-align: top;\n",
              "    }\n",
              "\n",
              "    .dataframe thead th {\n",
              "        text-align: right;\n",
              "    }\n",
              "</style>\n",
              "<table border=\"1\" class=\"dataframe\">\n",
              "  <thead>\n",
              "    <tr style=\"text-align: right;\">\n",
              "      <th></th>\n",
              "      <th>row_id</th>\n",
              "      <th>building_id</th>\n",
              "      <th>meter</th>\n",
              "      <th>timestamp</th>\n",
              "    </tr>\n",
              "  </thead>\n",
              "  <tbody>\n",
              "    <tr>\n",
              "      <th>41697595</th>\n",
              "      <td>41697595</td>\n",
              "      <td>1444</td>\n",
              "      <td>0</td>\n",
              "      <td>2018-05-09 07:00:00</td>\n",
              "    </tr>\n",
              "    <tr>\n",
              "      <th>41697596</th>\n",
              "      <td>41697596</td>\n",
              "      <td>1445</td>\n",
              "      <td>0</td>\n",
              "      <td>2018-05-09 07:00:00</td>\n",
              "    </tr>\n",
              "    <tr>\n",
              "      <th>41697597</th>\n",
              "      <td>41697597</td>\n",
              "      <td>1446</td>\n",
              "      <td>0</td>\n",
              "      <td>2018-05-09 07:00:00</td>\n",
              "    </tr>\n",
              "    <tr>\n",
              "      <th>41697598</th>\n",
              "      <td>41697598</td>\n",
              "      <td>1447</td>\n",
              "      <td>0</td>\n",
              "      <td>2018-05-09 07:00:00</td>\n",
              "    </tr>\n",
              "    <tr>\n",
              "      <th>41697599</th>\n",
              "      <td>41697599</td>\n",
              "      <td>1448</td>\n",
              "      <td>0</td>\n",
              "      <td>2018-05-09 07:00:00</td>\n",
              "    </tr>\n",
              "  </tbody>\n",
              "</table>\n",
              "</div>"
            ],
            "text/plain": [
              "            row_id  building_id  meter           timestamp\n",
              "41697595  41697595         1444      0 2018-05-09 07:00:00\n",
              "41697596  41697596         1445      0 2018-05-09 07:00:00\n",
              "41697597  41697597         1446      0 2018-05-09 07:00:00\n",
              "41697598  41697598         1447      0 2018-05-09 07:00:00\n",
              "41697599  41697599         1448      0 2018-05-09 07:00:00"
            ]
          },
          "metadata": {
            "tags": []
          },
          "execution_count": 16
        }
      ]
    },
    {
      "cell_type": "code",
      "metadata": {
        "id": "glrvfo1hztAL",
        "colab_type": "code",
        "outputId": "a16da2c2-d1d0-4e14-d607-cb58d4bb300e",
        "colab": {
          "base_uri": "https://localhost:8080/",
          "height": 406
        }
      },
      "source": [
        "df_train['train_test'] = 0\n",
        "df_test['train_test'] = 1\n",
        "df_test.drop(columns = ['row_id'],inplace=True)"
      ],
      "execution_count": 17,
      "outputs": [
        {
          "output_type": "execute_result",
          "data": {
            "text/html": [
              "<div>\n",
              "<style scoped>\n",
              "    .dataframe tbody tr th:only-of-type {\n",
              "        vertical-align: middle;\n",
              "    }\n",
              "\n",
              "    .dataframe tbody tr th {\n",
              "        vertical-align: top;\n",
              "    }\n",
              "\n",
              "    .dataframe thead th {\n",
              "        text-align: right;\n",
              "    }\n",
              "</style>\n",
              "<table border=\"1\" class=\"dataframe\">\n",
              "  <thead>\n",
              "    <tr style=\"text-align: right;\">\n",
              "      <th></th>\n",
              "      <th>building_id</th>\n",
              "      <th>meter</th>\n",
              "      <th>timestamp</th>\n",
              "      <th>train_test</th>\n",
              "    </tr>\n",
              "  </thead>\n",
              "  <tbody>\n",
              "    <tr>\n",
              "      <th>0</th>\n",
              "      <td>0</td>\n",
              "      <td>0</td>\n",
              "      <td>2017-01-01 00:00:00</td>\n",
              "      <td>1</td>\n",
              "    </tr>\n",
              "    <tr>\n",
              "      <th>1</th>\n",
              "      <td>1</td>\n",
              "      <td>0</td>\n",
              "      <td>2017-01-01 00:00:00</td>\n",
              "      <td>1</td>\n",
              "    </tr>\n",
              "    <tr>\n",
              "      <th>2</th>\n",
              "      <td>2</td>\n",
              "      <td>0</td>\n",
              "      <td>2017-01-01 00:00:00</td>\n",
              "      <td>1</td>\n",
              "    </tr>\n",
              "    <tr>\n",
              "      <th>3</th>\n",
              "      <td>3</td>\n",
              "      <td>0</td>\n",
              "      <td>2017-01-01 00:00:00</td>\n",
              "      <td>1</td>\n",
              "    </tr>\n",
              "    <tr>\n",
              "      <th>4</th>\n",
              "      <td>4</td>\n",
              "      <td>0</td>\n",
              "      <td>2017-01-01 00:00:00</td>\n",
              "      <td>1</td>\n",
              "    </tr>\n",
              "    <tr>\n",
              "      <th>...</th>\n",
              "      <td>...</td>\n",
              "      <td>...</td>\n",
              "      <td>...</td>\n",
              "      <td>...</td>\n",
              "    </tr>\n",
              "    <tr>\n",
              "      <th>41697595</th>\n",
              "      <td>1444</td>\n",
              "      <td>0</td>\n",
              "      <td>2018-05-09 07:00:00</td>\n",
              "      <td>1</td>\n",
              "    </tr>\n",
              "    <tr>\n",
              "      <th>41697596</th>\n",
              "      <td>1445</td>\n",
              "      <td>0</td>\n",
              "      <td>2018-05-09 07:00:00</td>\n",
              "      <td>1</td>\n",
              "    </tr>\n",
              "    <tr>\n",
              "      <th>41697597</th>\n",
              "      <td>1446</td>\n",
              "      <td>0</td>\n",
              "      <td>2018-05-09 07:00:00</td>\n",
              "      <td>1</td>\n",
              "    </tr>\n",
              "    <tr>\n",
              "      <th>41697598</th>\n",
              "      <td>1447</td>\n",
              "      <td>0</td>\n",
              "      <td>2018-05-09 07:00:00</td>\n",
              "      <td>1</td>\n",
              "    </tr>\n",
              "    <tr>\n",
              "      <th>41697599</th>\n",
              "      <td>1448</td>\n",
              "      <td>0</td>\n",
              "      <td>2018-05-09 07:00:00</td>\n",
              "      <td>1</td>\n",
              "    </tr>\n",
              "  </tbody>\n",
              "</table>\n",
              "<p>41697600 rows × 4 columns</p>\n",
              "</div>"
            ],
            "text/plain": [
              "          building_id  meter           timestamp  train_test\n",
              "0                   0      0 2017-01-01 00:00:00           1\n",
              "1                   1      0 2017-01-01 00:00:00           1\n",
              "2                   2      0 2017-01-01 00:00:00           1\n",
              "3                   3      0 2017-01-01 00:00:00           1\n",
              "4                   4      0 2017-01-01 00:00:00           1\n",
              "...               ...    ...                 ...         ...\n",
              "41697595         1444      0 2018-05-09 07:00:00           1\n",
              "41697596         1445      0 2018-05-09 07:00:00           1\n",
              "41697597         1446      0 2018-05-09 07:00:00           1\n",
              "41697598         1447      0 2018-05-09 07:00:00           1\n",
              "41697599         1448      0 2018-05-09 07:00:00           1\n",
              "\n",
              "[41697600 rows x 4 columns]"
            ]
          },
          "metadata": {
            "tags": []
          },
          "execution_count": 17
        }
      ]
    },
    {
      "cell_type": "code",
      "metadata": {
        "id": "V-ybCE3vz1d5",
        "colab_type": "code",
        "outputId": "891cc4c4-dfdb-4a78-e290-fb84fc724b72",
        "colab": {
          "base_uri": "https://localhost:8080/",
          "height": 569
        }
      },
      "source": [
        "df_full = pd.concat([df_train, df_test],axis=0,ignore_index=True,sort=False)\n",
        "df_full.info()\n",
        "df_full.head()\n",
        "df_full.tail()"
      ],
      "execution_count": 18,
      "outputs": [
        {
          "output_type": "stream",
          "text": [
            "<class 'pandas.core.frame.DataFrame'>\n",
            "RangeIndex: 61913700 entries, 0 to 61913699\n",
            "Data columns (total 6 columns):\n",
            "building_id      int64\n",
            "meter            int64\n",
            "timestamp        datetime64[ns]\n",
            "meter_reading    float64\n",
            "train_test       int64\n",
            "row_id           float64\n",
            "dtypes: datetime64[ns](1), float64(2), int64(3)\n",
            "memory usage: 2.8 GB\n"
          ],
          "name": "stdout"
        },
        {
          "output_type": "execute_result",
          "data": {
            "text/html": [
              "<div>\n",
              "<style scoped>\n",
              "    .dataframe tbody tr th:only-of-type {\n",
              "        vertical-align: middle;\n",
              "    }\n",
              "\n",
              "    .dataframe tbody tr th {\n",
              "        vertical-align: top;\n",
              "    }\n",
              "\n",
              "    .dataframe thead th {\n",
              "        text-align: right;\n",
              "    }\n",
              "</style>\n",
              "<table border=\"1\" class=\"dataframe\">\n",
              "  <thead>\n",
              "    <tr style=\"text-align: right;\">\n",
              "      <th></th>\n",
              "      <th>building_id</th>\n",
              "      <th>meter</th>\n",
              "      <th>timestamp</th>\n",
              "      <th>meter_reading</th>\n",
              "      <th>train_test</th>\n",
              "      <th>row_id</th>\n",
              "    </tr>\n",
              "  </thead>\n",
              "  <tbody>\n",
              "    <tr>\n",
              "      <th>0</th>\n",
              "      <td>0</td>\n",
              "      <td>0</td>\n",
              "      <td>2016-01-01</td>\n",
              "      <td>0.0</td>\n",
              "      <td>0</td>\n",
              "      <td>NaN</td>\n",
              "    </tr>\n",
              "    <tr>\n",
              "      <th>1</th>\n",
              "      <td>1</td>\n",
              "      <td>0</td>\n",
              "      <td>2016-01-01</td>\n",
              "      <td>0.0</td>\n",
              "      <td>0</td>\n",
              "      <td>NaN</td>\n",
              "    </tr>\n",
              "    <tr>\n",
              "      <th>2</th>\n",
              "      <td>2</td>\n",
              "      <td>0</td>\n",
              "      <td>2016-01-01</td>\n",
              "      <td>0.0</td>\n",
              "      <td>0</td>\n",
              "      <td>NaN</td>\n",
              "    </tr>\n",
              "    <tr>\n",
              "      <th>3</th>\n",
              "      <td>3</td>\n",
              "      <td>0</td>\n",
              "      <td>2016-01-01</td>\n",
              "      <td>0.0</td>\n",
              "      <td>0</td>\n",
              "      <td>NaN</td>\n",
              "    </tr>\n",
              "    <tr>\n",
              "      <th>4</th>\n",
              "      <td>4</td>\n",
              "      <td>0</td>\n",
              "      <td>2016-01-01</td>\n",
              "      <td>0.0</td>\n",
              "      <td>0</td>\n",
              "      <td>NaN</td>\n",
              "    </tr>\n",
              "  </tbody>\n",
              "</table>\n",
              "</div>"
            ],
            "text/plain": [
              "   building_id  meter  timestamp  meter_reading  train_test  row_id\n",
              "0            0      0 2016-01-01            0.0           0     NaN\n",
              "1            1      0 2016-01-01            0.0           0     NaN\n",
              "2            2      0 2016-01-01            0.0           0     NaN\n",
              "3            3      0 2016-01-01            0.0           0     NaN\n",
              "4            4      0 2016-01-01            0.0           0     NaN"
            ]
          },
          "metadata": {
            "tags": []
          },
          "execution_count": 18
        },
        {
          "output_type": "execute_result",
          "data": {
            "text/html": [
              "<div>\n",
              "<style scoped>\n",
              "    .dataframe tbody tr th:only-of-type {\n",
              "        vertical-align: middle;\n",
              "    }\n",
              "\n",
              "    .dataframe tbody tr th {\n",
              "        vertical-align: top;\n",
              "    }\n",
              "\n",
              "    .dataframe thead th {\n",
              "        text-align: right;\n",
              "    }\n",
              "</style>\n",
              "<table border=\"1\" class=\"dataframe\">\n",
              "  <thead>\n",
              "    <tr style=\"text-align: right;\">\n",
              "      <th></th>\n",
              "      <th>building_id</th>\n",
              "      <th>meter</th>\n",
              "      <th>timestamp</th>\n",
              "      <th>meter_reading</th>\n",
              "      <th>train_test</th>\n",
              "      <th>row_id</th>\n",
              "    </tr>\n",
              "  </thead>\n",
              "  <tbody>\n",
              "    <tr>\n",
              "      <th>61913695</th>\n",
              "      <td>1444</td>\n",
              "      <td>0</td>\n",
              "      <td>2018-05-09 07:00:00</td>\n",
              "      <td>NaN</td>\n",
              "      <td>1</td>\n",
              "      <td>41697595.0</td>\n",
              "    </tr>\n",
              "    <tr>\n",
              "      <th>61913696</th>\n",
              "      <td>1445</td>\n",
              "      <td>0</td>\n",
              "      <td>2018-05-09 07:00:00</td>\n",
              "      <td>NaN</td>\n",
              "      <td>1</td>\n",
              "      <td>41697596.0</td>\n",
              "    </tr>\n",
              "    <tr>\n",
              "      <th>61913697</th>\n",
              "      <td>1446</td>\n",
              "      <td>0</td>\n",
              "      <td>2018-05-09 07:00:00</td>\n",
              "      <td>NaN</td>\n",
              "      <td>1</td>\n",
              "      <td>41697597.0</td>\n",
              "    </tr>\n",
              "    <tr>\n",
              "      <th>61913698</th>\n",
              "      <td>1447</td>\n",
              "      <td>0</td>\n",
              "      <td>2018-05-09 07:00:00</td>\n",
              "      <td>NaN</td>\n",
              "      <td>1</td>\n",
              "      <td>41697598.0</td>\n",
              "    </tr>\n",
              "    <tr>\n",
              "      <th>61913699</th>\n",
              "      <td>1448</td>\n",
              "      <td>0</td>\n",
              "      <td>2018-05-09 07:00:00</td>\n",
              "      <td>NaN</td>\n",
              "      <td>1</td>\n",
              "      <td>41697599.0</td>\n",
              "    </tr>\n",
              "  </tbody>\n",
              "</table>\n",
              "</div>"
            ],
            "text/plain": [
              "          building_id  meter  ... train_test      row_id\n",
              "61913695         1444      0  ...          1  41697595.0\n",
              "61913696         1445      0  ...          1  41697596.0\n",
              "61913697         1446      0  ...          1  41697597.0\n",
              "61913698         1447      0  ...          1  41697598.0\n",
              "61913699         1448      0  ...          1  41697599.0\n",
              "\n",
              "[5 rows x 6 columns]"
            ]
          },
          "metadata": {
            "tags": []
          },
          "execution_count": 18
        }
      ]
    },
    {
      "cell_type": "code",
      "metadata": {
        "id": "9mZPYo4fz-H1",
        "colab_type": "code",
        "colab": {}
      },
      "source": [
        "df_full.drop(columns='row_id',inplace=True)"
      ],
      "execution_count": 0,
      "outputs": []
    },
    {
      "cell_type": "code",
      "metadata": {
        "id": "x4-8JL3ZbPmF",
        "colab_type": "code",
        "colab": {}
      },
      "source": [
        "sns.pointplot(data=df_full, x='timestamp',y='meter_reading',hue='train_test')"
      ],
      "execution_count": 0,
      "outputs": []
    },
    {
      "cell_type": "code",
      "metadata": {
        "id": "BvsIvNUAge9M",
        "colab_type": "code",
        "colab": {}
      },
      "source": [
        ""
      ],
      "execution_count": 0,
      "outputs": []
    }
  ]
}