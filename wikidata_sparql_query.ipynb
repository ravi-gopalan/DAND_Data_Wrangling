{
  "nbformat": 4,
  "nbformat_minor": 0,
  "metadata": {
    "colab": {
      "name": "wikidata_sparql_query.ipynb",
      "provenance": [],
      "include_colab_link": true
    },
    "kernelspec": {
      "name": "python3",
      "display_name": "Python 3"
    }
  },
  "cells": [
    {
      "cell_type": "markdown",
      "metadata": {
        "id": "view-in-github",
        "colab_type": "text"
      },
      "source": [
        "<a href=\"https://colab.research.google.com/github/ravi-gopalan/DAND_Data_Wrangling/blob/master/wikidata_sparql_query.ipynb\" target=\"_parent\"><img src=\"https://colab.research.google.com/assets/colab-badge.svg\" alt=\"Open In Colab\"/></a>"
      ]
    },
    {
      "cell_type": "code",
      "metadata": {
        "id": "HCVtlpWWQXhx",
        "colab_type": "code",
        "colab": {
          "base_uri": "https://localhost:8080/",
          "height": 51
        },
        "outputId": "3723e79e-e4da-40ae-a51c-24992c3f518c"
      },
      "source": [
        "# pip install sparqlwrapper\n",
        "# https://rdflib.github.io/sparqlwrapper/\n",
        "\n",
        "from SPARQLWrapper import SPARQLWrapper, JSON\n",
        "\n",
        "endpoint_url = \"https://query.wikidata.org/sparql\"\n",
        "\n",
        "query = \"\"\"SELECT ?noodle ?noodleLabel ?country_of_origin ?country_of_originLabel \n",
        "WHERE {\n",
        "  ?country wdt:P36 ?capital.\n",
        "  SERVICE wikibase:label { bd:serviceParam wikibase:language \"   [AUTO_LANGUAGE],en\". }\n",
        "  ?noodle wdt:P279 wd:Q192874.\n",
        "  OPTIONAL { ?noodle wdt:P495 ?country_of_origin. }\n",
        "}\n",
        "LIMIT 100\"\"\"\n",
        "\n",
        "\n",
        "def get_results(endpoint_url, query):\n",
        "    sparql = SPARQLWrapper(endpoint_url)\n",
        "    sparql.setQuery(query)\n",
        "    sparql.setReturnFormat(JSON)\n",
        "    return sparql.query().convert()"
      ],
      "execution_count": 2,
      "outputs": [
        {
          "output_type": "stream",
          "text": [
            "English Donald Trump \n",
            "\n"
          ],
          "name": "stdout"
        }
      ]
    }
  ]
}