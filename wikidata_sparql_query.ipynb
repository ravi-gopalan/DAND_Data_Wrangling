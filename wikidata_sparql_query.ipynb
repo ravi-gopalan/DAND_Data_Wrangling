{
  "nbformat": 4,
  "nbformat_minor": 0,
  "metadata": {
    "colab": {
      "name": "wikidata_sparql_query.ipynb",
      "provenance": [],
      "include_colab_link": true
    },
    "kernelspec": {
      "name": "python3",
      "display_name": "Python 3"
    }
  },
  "cells": [
    {
      "cell_type": "markdown",
      "metadata": {
        "id": "view-in-github",
        "colab_type": "text"
      },
      "source": [
        "<a href=\"https://colab.research.google.com/github/ravi-gopalan/DAND_Data_Wrangling/blob/master/wikidata_sparql_query.ipynb\" target=\"_parent\"><img src=\"https://colab.research.google.com/assets/colab-badge.svg\" alt=\"Open In Colab\"/></a>"
      ]
    },
    {
      "cell_type": "code",
      "metadata": {
        "id": "LTKRP7aVsNMn",
        "colab_type": "code",
        "colab": {
          "base_uri": "https://localhost:8080/",
          "height": 225
        },
        "outputId": "917de220-6396-41e4-d7d4-f4a02f524eed"
      },
      "source": [
        "!pip install sparqlwrapper\n",
        "\n",
        "# https://rdflib.github.io/sparqlwrapper/"
      ],
      "execution_count": 1,
      "outputs": [
        {
          "output_type": "stream",
          "text": [
            "Collecting sparqlwrapper\n",
            "  Downloading https://files.pythonhosted.org/packages/b0/1d/d7c60a451a255fca655fe37eb3f6e3b3daa7d33fc87eeec0d8631d501e76/SPARQLWrapper-1.8.4-py3-none-any.whl\n",
            "Collecting rdflib>=4.0\n",
            "\u001b[?25l  Downloading https://files.pythonhosted.org/packages/3c/fe/630bacb652680f6d481b9febbb3e2c3869194a1a5fc3401a4a41195a2f8f/rdflib-4.2.2-py3-none-any.whl (344kB)\n",
            "\u001b[K     |████████████████████████████████| 348kB 22.7MB/s \n",
            "\u001b[?25hCollecting isodate\n",
            "\u001b[?25l  Downloading https://files.pythonhosted.org/packages/9b/9f/b36f7774ff5ea8e428fdcfc4bb332c39ee5b9362ddd3d40d9516a55221b2/isodate-0.6.0-py2.py3-none-any.whl (45kB)\n",
            "\u001b[K     |████████████████████████████████| 51kB 6.2MB/s \n",
            "\u001b[?25hRequirement already satisfied: pyparsing in /usr/local/lib/python3.6/dist-packages (from rdflib>=4.0->sparqlwrapper) (2.4.5)\n",
            "Requirement already satisfied: six in /usr/local/lib/python3.6/dist-packages (from isodate->rdflib>=4.0->sparqlwrapper) (1.12.0)\n",
            "Installing collected packages: isodate, rdflib, sparqlwrapper\n",
            "Successfully installed isodate-0.6.0 rdflib-4.2.2 sparqlwrapper-1.8.4\n"
          ],
          "name": "stdout"
        }
      ]
    },
    {
      "cell_type": "code",
      "metadata": {
        "id": "HCVtlpWWQXhx",
        "colab_type": "code",
        "colab": {}
      },
      "source": [
        "import pandas as pd\n",
        "import json\n",
        "from SPARQLWrapper import SPARQLWrapper, JSON\n",
        "\n",
        "\n",
        "def get_results(endpoint_url, query):\n",
        "    sparql = SPARQLWrapper(endpoint_url)\n",
        "    sparql.setQuery(query)\n",
        "    sparql.setReturnFormat(JSON)\n",
        "    result = sparql.query()\n",
        "\n",
        "    processed_results = json.load(result.response)\n",
        "    cols = processed_results['head']['vars']\n",
        "\n",
        "    out = []\n",
        "    for row in processed_results['results']['bindings']:\n",
        "      item = []\n",
        "      for c in cols:\n",
        "        item.append(row.get(c, {}).get('value'))\n",
        "      out.append(item)\n",
        "    return pd.DataFrame(out, columns = cols)"
      ],
      "execution_count": 0,
      "outputs": []
    },
    {
      "cell_type": "code",
      "metadata": {
        "id": "1d7unmk8snCo",
        "colab_type": "code",
        "colab": {}
      },
      "source": [
        "endpoint_url = \"https://query.wikidata.org/sparql\"\n",
        "\n",
        "query = \"\"\"SELECT ?noodle ?noodleLabel ?country_of_origin ?country_of_originLabel ?instance_of ?instance_ofLabel ?subclass_of ?subclass_ofLabel  ?Commons_category \n",
        "WHERE {\n",
        "  SERVICE wikibase:label { bd:serviceParam wikibase:language \"   [AUTO_LANGUAGE],en\". }\n",
        "  ?noodle wdt:P279 wd:Q192874.\n",
        "  OPTIONAL { ?noodle wdt:P495 ?country_of_origin. }\n",
        "  OPTIONAL { ?noodle wdt:P31 ?instance_of. }\n",
        "  OPTIONAL { ?noodle wdt:P279 ?subclass_of. }\n",
        "  OPTIONAL { ?noodle wdt:P373 ?Commons_category. }  \n",
        "}\"\"\"\n",
        "\n",
        "\n",
        "df = get_results(endpoint_url, query)"
      ],
      "execution_count": 0,
      "outputs": []
    },
    {
      "cell_type": "code",
      "metadata": {
        "id": "DM4jTwy_tdmG",
        "colab_type": "code",
        "colab": {
          "base_uri": "https://localhost:8080/",
          "height": 197
        },
        "outputId": "5468914f-e566-4cbe-a683-c56156bb3f52"
      },
      "source": [
        "df.head()"
      ],
      "execution_count": 11,
      "outputs": [
        {
          "output_type": "execute_result",
          "data": {
            "text/html": [
              "<div>\n",
              "<style scoped>\n",
              "    .dataframe tbody tr th:only-of-type {\n",
              "        vertical-align: middle;\n",
              "    }\n",
              "\n",
              "    .dataframe tbody tr th {\n",
              "        vertical-align: top;\n",
              "    }\n",
              "\n",
              "    .dataframe thead th {\n",
              "        text-align: right;\n",
              "    }\n",
              "</style>\n",
              "<table border=\"1\" class=\"dataframe\">\n",
              "  <thead>\n",
              "    <tr style=\"text-align: right;\">\n",
              "      <th></th>\n",
              "      <th>noodle</th>\n",
              "      <th>noodleLabel</th>\n",
              "      <th>country_of_origin</th>\n",
              "      <th>country_of_originLabel</th>\n",
              "      <th>instance_of</th>\n",
              "      <th>instance_ofLabel</th>\n",
              "      <th>subclass_of</th>\n",
              "      <th>subclass_ofLabel</th>\n",
              "      <th>Commons_category</th>\n",
              "    </tr>\n",
              "  </thead>\n",
              "  <tbody>\n",
              "    <tr>\n",
              "      <th>0</th>\n",
              "      <td>http://www.wikidata.org/entity/Q20065</td>\n",
              "      <td>Spätzle</td>\n",
              "      <td>http://www.wikidata.org/entity/Q142</td>\n",
              "      <td>France</td>\n",
              "      <td>None</td>\n",
              "      <td>None</td>\n",
              "      <td>http://www.wikidata.org/entity/Q192874</td>\n",
              "      <td>noodle</td>\n",
              "      <td>Spaetzle</td>\n",
              "    </tr>\n",
              "    <tr>\n",
              "      <th>1</th>\n",
              "      <td>http://www.wikidata.org/entity/Q20065</td>\n",
              "      <td>Spätzle</td>\n",
              "      <td>http://www.wikidata.org/entity/Q183</td>\n",
              "      <td>Germany</td>\n",
              "      <td>None</td>\n",
              "      <td>None</td>\n",
              "      <td>http://www.wikidata.org/entity/Q192874</td>\n",
              "      <td>noodle</td>\n",
              "      <td>Spaetzle</td>\n",
              "    </tr>\n",
              "    <tr>\n",
              "      <th>2</th>\n",
              "      <td>http://www.wikidata.org/entity/Q20065</td>\n",
              "      <td>Spätzle</td>\n",
              "      <td>http://www.wikidata.org/entity/Q142</td>\n",
              "      <td>France</td>\n",
              "      <td>None</td>\n",
              "      <td>None</td>\n",
              "      <td>http://www.wikidata.org/entity/Q53619707</td>\n",
              "      <td>egg pasta</td>\n",
              "      <td>Spaetzle</td>\n",
              "    </tr>\n",
              "    <tr>\n",
              "      <th>3</th>\n",
              "      <td>http://www.wikidata.org/entity/Q20065</td>\n",
              "      <td>Spätzle</td>\n",
              "      <td>http://www.wikidata.org/entity/Q183</td>\n",
              "      <td>Germany</td>\n",
              "      <td>None</td>\n",
              "      <td>None</td>\n",
              "      <td>http://www.wikidata.org/entity/Q53619707</td>\n",
              "      <td>egg pasta</td>\n",
              "      <td>Spaetzle</td>\n",
              "    </tr>\n",
              "    <tr>\n",
              "      <th>4</th>\n",
              "      <td>http://www.wikidata.org/entity/Q34156</td>\n",
              "      <td>Korean noodles</td>\n",
              "      <td>http://www.wikidata.org/entity/Q18097</td>\n",
              "      <td>Korea</td>\n",
              "      <td>None</td>\n",
              "      <td>None</td>\n",
              "      <td>http://www.wikidata.org/entity/Q192874</td>\n",
              "      <td>noodle</td>\n",
              "      <td>Noodles from Korea</td>\n",
              "    </tr>\n",
              "  </tbody>\n",
              "</table>\n",
              "</div>"
            ],
            "text/plain": [
              "                                  noodle  ...    Commons_category\n",
              "0  http://www.wikidata.org/entity/Q20065  ...            Spaetzle\n",
              "1  http://www.wikidata.org/entity/Q20065  ...            Spaetzle\n",
              "2  http://www.wikidata.org/entity/Q20065  ...            Spaetzle\n",
              "3  http://www.wikidata.org/entity/Q20065  ...            Spaetzle\n",
              "4  http://www.wikidata.org/entity/Q34156  ...  Noodles from Korea\n",
              "\n",
              "[5 rows x 9 columns]"
            ]
          },
          "metadata": {
            "tags": []
          },
          "execution_count": 11
        }
      ]
    },
    {
      "cell_type": "code",
      "metadata": {
        "id": "8XBQ5B_ks7ku",
        "colab_type": "code",
        "colab": {
          "base_uri": "https://localhost:8080/",
          "height": 406
        },
        "outputId": "3dab5712-770f-4bea-ab67-7ba2c25210a4"
      },
      "source": [
        "df[['noodleLabel','country_of_originLabel','instance_ofLabel','subclass_ofLabel','Commons_category']]"
      ],
      "execution_count": 12,
      "outputs": [
        {
          "output_type": "execute_result",
          "data": {
            "text/html": [
              "<div>\n",
              "<style scoped>\n",
              "    .dataframe tbody tr th:only-of-type {\n",
              "        vertical-align: middle;\n",
              "    }\n",
              "\n",
              "    .dataframe tbody tr th {\n",
              "        vertical-align: top;\n",
              "    }\n",
              "\n",
              "    .dataframe thead th {\n",
              "        text-align: right;\n",
              "    }\n",
              "</style>\n",
              "<table border=\"1\" class=\"dataframe\">\n",
              "  <thead>\n",
              "    <tr style=\"text-align: right;\">\n",
              "      <th></th>\n",
              "      <th>noodleLabel</th>\n",
              "      <th>country_of_originLabel</th>\n",
              "      <th>instance_ofLabel</th>\n",
              "      <th>subclass_ofLabel</th>\n",
              "      <th>Commons_category</th>\n",
              "    </tr>\n",
              "  </thead>\n",
              "  <tbody>\n",
              "    <tr>\n",
              "      <th>0</th>\n",
              "      <td>Spätzle</td>\n",
              "      <td>France</td>\n",
              "      <td>None</td>\n",
              "      <td>noodle</td>\n",
              "      <td>Spaetzle</td>\n",
              "    </tr>\n",
              "    <tr>\n",
              "      <th>1</th>\n",
              "      <td>Spätzle</td>\n",
              "      <td>Germany</td>\n",
              "      <td>None</td>\n",
              "      <td>noodle</td>\n",
              "      <td>Spaetzle</td>\n",
              "    </tr>\n",
              "    <tr>\n",
              "      <th>2</th>\n",
              "      <td>Spätzle</td>\n",
              "      <td>France</td>\n",
              "      <td>None</td>\n",
              "      <td>egg pasta</td>\n",
              "      <td>Spaetzle</td>\n",
              "    </tr>\n",
              "    <tr>\n",
              "      <th>3</th>\n",
              "      <td>Spätzle</td>\n",
              "      <td>Germany</td>\n",
              "      <td>None</td>\n",
              "      <td>egg pasta</td>\n",
              "      <td>Spaetzle</td>\n",
              "    </tr>\n",
              "    <tr>\n",
              "      <th>4</th>\n",
              "      <td>Korean noodles</td>\n",
              "      <td>Korea</td>\n",
              "      <td>None</td>\n",
              "      <td>noodle</td>\n",
              "      <td>Noodles from Korea</td>\n",
              "    </tr>\n",
              "    <tr>\n",
              "      <th>...</th>\n",
              "      <td>...</td>\n",
              "      <td>...</td>\n",
              "      <td>...</td>\n",
              "      <td>...</td>\n",
              "      <td>...</td>\n",
              "    </tr>\n",
              "    <tr>\n",
              "      <th>76</th>\n",
              "      <td>extruded noodle</td>\n",
              "      <td>None</td>\n",
              "      <td>None</td>\n",
              "      <td>noodle</td>\n",
              "      <td>Extruded noodles</td>\n",
              "    </tr>\n",
              "    <tr>\n",
              "      <th>77</th>\n",
              "      <td>knife-cut noodle</td>\n",
              "      <td>None</td>\n",
              "      <td>None</td>\n",
              "      <td>noodle</td>\n",
              "      <td>Knife-cut noodles</td>\n",
              "    </tr>\n",
              "    <tr>\n",
              "      <th>78</th>\n",
              "      <td>Mì</td>\n",
              "      <td>Vietnam</td>\n",
              "      <td>None</td>\n",
              "      <td>noodle</td>\n",
              "      <td>None</td>\n",
              "    </tr>\n",
              "    <tr>\n",
              "      <th>79</th>\n",
              "      <td>ribbon noodle</td>\n",
              "      <td>None</td>\n",
              "      <td>type of pasta</td>\n",
              "      <td>pasta</td>\n",
              "      <td>None</td>\n",
              "    </tr>\n",
              "    <tr>\n",
              "      <th>80</th>\n",
              "      <td>ribbon noodle</td>\n",
              "      <td>None</td>\n",
              "      <td>type of pasta</td>\n",
              "      <td>noodle</td>\n",
              "      <td>None</td>\n",
              "    </tr>\n",
              "  </tbody>\n",
              "</table>\n",
              "<p>81 rows × 5 columns</p>\n",
              "</div>"
            ],
            "text/plain": [
              "         noodleLabel  ...    Commons_category\n",
              "0            Spätzle  ...            Spaetzle\n",
              "1            Spätzle  ...            Spaetzle\n",
              "2            Spätzle  ...            Spaetzle\n",
              "3            Spätzle  ...            Spaetzle\n",
              "4     Korean noodles  ...  Noodles from Korea\n",
              "..               ...  ...                 ...\n",
              "76   extruded noodle  ...    Extruded noodles\n",
              "77  knife-cut noodle  ...   Knife-cut noodles\n",
              "78                Mì  ...                None\n",
              "79     ribbon noodle  ...                None\n",
              "80     ribbon noodle  ...                None\n",
              "\n",
              "[81 rows x 5 columns]"
            ]
          },
          "metadata": {
            "tags": []
          },
          "execution_count": 12
        }
      ]
    },
    {
      "cell_type": "code",
      "metadata": {
        "id": "aiTJvUiNtKSs",
        "colab_type": "code",
        "colab": {
          "base_uri": "https://localhost:8080/",
          "height": 243
        },
        "outputId": "2de5cb79-7004-4b4a-9949-3d0a0c00cd6f"
      },
      "source": [
        "df[['noodleLabel','country_of_originLabel','instance_ofLabel','subclass_ofLabel']]['noodleLabel'].unique()"
      ],
      "execution_count": 13,
      "outputs": [
        {
          "output_type": "execute_result",
          "data": {
            "text/plain": [
              "array(['Spätzle', 'Korean noodles', 'zhajiangmian', 'ramen',\n",
              "       'Curry noodle', 'udon', 'sōmen', 'soba', 'hot dry noodles',\n",
              "       'cart noodle', 'cellophane noodles', 'jajangmyeon', 'Bakmi',\n",
              "       'rice noodles', 'Hokkien mee', 'fried noodles', 'Pancit',\n",
              "       'Chinese noodles', 'Wonton noodles', 'buckwheat noodles', 'kesme',\n",
              "       'black noodles', 'Bánh hỏi', 'Char kway teow',\n",
              "       'Chinkiang pot cover noodles', 'Mi rebus', 'dragon beard noodles',\n",
              "       'phat si io', 'Vietnamese noodles', 'kishimen', 'Kadaif noodles',\n",
              "       'cold noodle', 'Buldak Bokkeum Myun', 'Mie ayam',\n",
              "       'Japanese noodles', 'boat noodles', 'Q24933621',\n",
              "       'Singapore chow mein', 'Q27566431', 'narrow lapsha', 'wide lapsha',\n",
              "       'laghman', 'extruded noodle', 'knife-cut noodle', 'Mì',\n",
              "       'ribbon noodle'], dtype=object)"
            ]
          },
          "metadata": {
            "tags": []
          },
          "execution_count": 13
        }
      ]
    },
    {
      "cell_type": "code",
      "metadata": {
        "id": "yt28lQevpXKU",
        "colab_type": "code",
        "colab": {
          "base_uri": "https://localhost:8080/",
          "height": 173
        },
        "outputId": "d08d5e87-c5d8-430c-bfd6-2db1c630f90e"
      },
      "source": [
        "df[['noodleLabel','country_of_originLabel','instance_ofLabel','subclass_ofLabel','Commons_category']]['Commons_category'].unique()"
      ],
      "execution_count": 15,
      "outputs": [
        {
          "output_type": "execute_result",
          "data": {
            "text/plain": [
              "array(['Spaetzle', 'Noodles from Korea', 'Zha jiang mian', 'Ramen', None,\n",
              "       'Udon', 'Somen', 'Soba', 'Re gan mian', 'Cart noodle',\n",
              "       'Cellophane noodles', 'Jajangmyeon', 'Noodles from Indonesia',\n",
              "       'Rice noodle', 'Hokkien mee', 'Fried noodles', 'Pancit',\n",
              "       'Noodles from China', 'Wonton noodle', 'Kesme', 'Bánh hỏi',\n",
              "       'Char kway teow', 'Bakmi Jawa', 'Phat si-io',\n",
              "       'Noodles from Vietnam', 'Kishimen', 'Tel kadayıf', 'Cold noodles',\n",
              "       'Mie ayam', 'Noodles from Japan', 'Laghman', 'Extruded noodles',\n",
              "       'Knife-cut noodles'], dtype=object)"
            ]
          },
          "metadata": {
            "tags": []
          },
          "execution_count": 15
        }
      ]
    },
    {
      "cell_type": "code",
      "metadata": {
        "id": "it-GJXK9rbFD",
        "colab_type": "code",
        "colab": {
          "base_uri": "https://localhost:8080/",
          "height": 608
        },
        "outputId": "96d12244-d39b-4cbf-c8d7-88ada670f85e"
      },
      "source": [
        "df.groupby(['Commons_category','noodleLabel'])['noodleLabel'].agg('count')"
      ],
      "execution_count": 16,
      "outputs": [
        {
          "output_type": "execute_result",
          "data": {
            "text/plain": [
              "Commons_category        noodleLabel       \n",
              "Bakmi Jawa              Mi rebus              1\n",
              "Bánh hỏi                Bánh hỏi              1\n",
              "Cart noodle             cart noodle           2\n",
              "Cellophane noodles      cellophane noodles    2\n",
              "Char kway teow          Char kway teow        1\n",
              "Cold noodles            cold noodle           1\n",
              "Extruded noodles        extruded noodle       1\n",
              "Fried noodles           fried noodles         2\n",
              "Hokkien mee             Hokkien mee           2\n",
              "Jajangmyeon             jajangmyeon           3\n",
              "Kesme                   kesme                 2\n",
              "Kishimen                kishimen              2\n",
              "Knife-cut noodles       knife-cut noodle      1\n",
              "Laghman                 laghman               2\n",
              "Mie ayam                Mie ayam              3\n",
              "Noodles from China      Chinese noodles       1\n",
              "Noodles from Indonesia  Bakmi                 2\n",
              "Noodles from Japan      Japanese noodles      1\n",
              "Noodles from Korea      Korean noodles        1\n",
              "Noodles from Vietnam    Vietnamese noodles    1\n",
              "Pancit                  Pancit                1\n",
              "Phat si-io              phat si io            2\n",
              "Ramen                   ramen                 3\n",
              "Re gan mian             hot dry noodles       2\n",
              "Rice noodle             rice noodles          1\n",
              "Soba                    soba                  1\n",
              "Somen                   sōmen                 1\n",
              "Spaetzle                Spätzle               4\n",
              "Tel kadayıf             Kadaif noodles        1\n",
              "Udon                    udon                  1\n",
              "Wonton noodle           Wonton noodles        2\n",
              "Zha jiang mian          zhajiangmian          2\n",
              "Name: noodleLabel, dtype: int64"
            ]
          },
          "metadata": {
            "tags": []
          },
          "execution_count": 16
        }
      ]
    },
    {
      "cell_type": "code",
      "metadata": {
        "id": "D5nfBuS6rvIW",
        "colab_type": "code",
        "colab": {}
      },
      "source": [
        ""
      ],
      "execution_count": 0,
      "outputs": []
    }
  ]
}