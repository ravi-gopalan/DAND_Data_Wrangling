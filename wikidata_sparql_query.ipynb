{
  "nbformat": 4,
  "nbformat_minor": 0,
  "metadata": {
    "colab": {
      "name": "wikidata_sparql_query.ipynb",
      "provenance": [],
      "include_colab_link": true
    },
    "kernelspec": {
      "name": "python3",
      "display_name": "Python 3"
    }
  },
  "cells": [
    {
      "cell_type": "markdown",
      "metadata": {
        "id": "view-in-github",
        "colab_type": "text"
      },
      "source": [
        "<a href=\"https://colab.research.google.com/github/ravi-gopalan/DAND_Data_Wrangling/blob/master/wikidata_sparql_query.ipynb\" target=\"_parent\"><img src=\"https://colab.research.google.com/assets/colab-badge.svg\" alt=\"Open In Colab\"/></a>"
      ]
    },
    {
      "cell_type": "code",
      "metadata": {
        "id": "LTKRP7aVsNMn",
        "colab_type": "code",
        "outputId": "79663986-d360-4abd-dd41-60648f987fc9",
        "colab": {
          "base_uri": "https://localhost:8080/",
          "height": 225
        }
      },
      "source": [
        "!pip install sparqlwrapper\n",
        "\n",
        "# https://rdflib.github.io/sparqlwrapper/"
      ],
      "execution_count": 1,
      "outputs": [
        {
          "output_type": "stream",
          "text": [
            "Collecting sparqlwrapper\n",
            "  Downloading https://files.pythonhosted.org/packages/b0/1d/d7c60a451a255fca655fe37eb3f6e3b3daa7d33fc87eeec0d8631d501e76/SPARQLWrapper-1.8.4-py3-none-any.whl\n",
            "Collecting rdflib>=4.0\n",
            "\u001b[?25l  Downloading https://files.pythonhosted.org/packages/3c/fe/630bacb652680f6d481b9febbb3e2c3869194a1a5fc3401a4a41195a2f8f/rdflib-4.2.2-py3-none-any.whl (344kB)\n",
            "\u001b[K     |████████████████████████████████| 348kB 11.6MB/s \n",
            "\u001b[?25hCollecting isodate\n",
            "\u001b[?25l  Downloading https://files.pythonhosted.org/packages/9b/9f/b36f7774ff5ea8e428fdcfc4bb332c39ee5b9362ddd3d40d9516a55221b2/isodate-0.6.0-py2.py3-none-any.whl (45kB)\n",
            "\u001b[K     |████████████████████████████████| 51kB 6.0MB/s \n",
            "\u001b[?25hRequirement already satisfied: pyparsing in /usr/local/lib/python3.6/dist-packages (from rdflib>=4.0->sparqlwrapper) (2.4.5)\n",
            "Requirement already satisfied: six in /usr/local/lib/python3.6/dist-packages (from isodate->rdflib>=4.0->sparqlwrapper) (1.12.0)\n",
            "Installing collected packages: isodate, rdflib, sparqlwrapper\n",
            "Successfully installed isodate-0.6.0 rdflib-4.2.2 sparqlwrapper-1.8.4\n"
          ],
          "name": "stdout"
        }
      ]
    },
    {
      "cell_type": "code",
      "metadata": {
        "id": "HCVtlpWWQXhx",
        "colab_type": "code",
        "colab": {}
      },
      "source": [
        "import pandas as pd\n",
        "import numpy as np\n",
        "import json\n",
        "from SPARQLWrapper import SPARQLWrapper, JSON\n",
        "import re\n",
        "from collections import Counter\n",
        "\n",
        "def get_results(endpoint_url, query):\n",
        "    sparql = SPARQLWrapper(endpoint_url)\n",
        "    sparql.setQuery(query)\n",
        "    sparql.setReturnFormat(JSON)\n",
        "    result = sparql.query()\n",
        "\n",
        "    processed_results = json.load(result.response)\n",
        "    cols = processed_results['head']['vars']\n",
        "\n",
        "    out = []\n",
        "    for row in processed_results['results']['bindings']:\n",
        "      item = []\n",
        "      for c in cols:\n",
        "        item.append(row.get(c, {}).get('value'))\n",
        "      out.append(item)\n",
        "    return pd.DataFrame(out, columns = cols)"
      ],
      "execution_count": 0,
      "outputs": []
    },
    {
      "cell_type": "code",
      "metadata": {
        "id": "1d7unmk8snCo",
        "colab_type": "code",
        "colab": {
          "base_uri": "https://localhost:8080/",
          "height": 234
        },
        "outputId": "5c0bee9f-5099-4e12-f40a-525f5b3d9dcc"
      },
      "source": [
        "endpoint_url = \"https://query.wikidata.org/sparql\"\n",
        "\n",
        "query_noodle = \"\"\"SELECT ?noodle ?noodleLabel ?country_of_origin ?country_of_originLabel ?instance_of ?instance_ofLabel ?subclass_of ?subclass_ofLabel  ?Commons_category \n",
        "WHERE {\n",
        "  SERVICE wikibase:label { bd:serviceParam wikibase:language \"   [AUTO_LANGUAGE],en\". }\n",
        "  ?noodle wdt:P279 wd:Q192874.\n",
        "  OPTIONAL { ?noodle wdt:P495 ?country_of_origin. }\n",
        "  OPTIONAL { ?noodle wdt:P31 ?instance_of. }\n",
        "  OPTIONAL { ?noodle wdt:P279 ?subclass_of. }\n",
        "  OPTIONAL { ?noodle wdt:P373 ?Commons_category. }  \n",
        "}\"\"\"\n",
        "\n",
        "\n",
        "df_noodle = get_results(endpoint_url, query_noodle)\n",
        "df_noodle.head()"
      ],
      "execution_count": 80,
      "outputs": [
        {
          "output_type": "execute_result",
          "data": {
            "text/html": [
              "<div>\n",
              "<style scoped>\n",
              "    .dataframe tbody tr th:only-of-type {\n",
              "        vertical-align: middle;\n",
              "    }\n",
              "\n",
              "    .dataframe tbody tr th {\n",
              "        vertical-align: top;\n",
              "    }\n",
              "\n",
              "    .dataframe thead th {\n",
              "        text-align: right;\n",
              "    }\n",
              "</style>\n",
              "<table border=\"1\" class=\"dataframe\">\n",
              "  <thead>\n",
              "    <tr style=\"text-align: right;\">\n",
              "      <th></th>\n",
              "      <th>noodle</th>\n",
              "      <th>noodleLabel</th>\n",
              "      <th>country_of_origin</th>\n",
              "      <th>country_of_originLabel</th>\n",
              "      <th>instance_of</th>\n",
              "      <th>instance_ofLabel</th>\n",
              "      <th>subclass_of</th>\n",
              "      <th>subclass_ofLabel</th>\n",
              "      <th>Commons_category</th>\n",
              "    </tr>\n",
              "  </thead>\n",
              "  <tbody>\n",
              "    <tr>\n",
              "      <th>0</th>\n",
              "      <td>http://www.wikidata.org/entity/Q20065</td>\n",
              "      <td>Spätzle</td>\n",
              "      <td>http://www.wikidata.org/entity/Q142</td>\n",
              "      <td>France</td>\n",
              "      <td>None</td>\n",
              "      <td>None</td>\n",
              "      <td>http://www.wikidata.org/entity/Q192874</td>\n",
              "      <td>noodle</td>\n",
              "      <td>Spaetzle</td>\n",
              "    </tr>\n",
              "    <tr>\n",
              "      <th>1</th>\n",
              "      <td>http://www.wikidata.org/entity/Q20065</td>\n",
              "      <td>Spätzle</td>\n",
              "      <td>http://www.wikidata.org/entity/Q1142</td>\n",
              "      <td>Alsace</td>\n",
              "      <td>None</td>\n",
              "      <td>None</td>\n",
              "      <td>http://www.wikidata.org/entity/Q192874</td>\n",
              "      <td>noodle</td>\n",
              "      <td>Spaetzle</td>\n",
              "    </tr>\n",
              "    <tr>\n",
              "      <th>2</th>\n",
              "      <td>http://www.wikidata.org/entity/Q20065</td>\n",
              "      <td>Spätzle</td>\n",
              "      <td>http://www.wikidata.org/entity/Q142</td>\n",
              "      <td>France</td>\n",
              "      <td>None</td>\n",
              "      <td>None</td>\n",
              "      <td>http://www.wikidata.org/entity/Q53619707</td>\n",
              "      <td>egg pasta</td>\n",
              "      <td>Spaetzle</td>\n",
              "    </tr>\n",
              "    <tr>\n",
              "      <th>3</th>\n",
              "      <td>http://www.wikidata.org/entity/Q20065</td>\n",
              "      <td>Spätzle</td>\n",
              "      <td>http://www.wikidata.org/entity/Q1142</td>\n",
              "      <td>Alsace</td>\n",
              "      <td>None</td>\n",
              "      <td>None</td>\n",
              "      <td>http://www.wikidata.org/entity/Q53619707</td>\n",
              "      <td>egg pasta</td>\n",
              "      <td>Spaetzle</td>\n",
              "    </tr>\n",
              "    <tr>\n",
              "      <th>4</th>\n",
              "      <td>http://www.wikidata.org/entity/Q34156</td>\n",
              "      <td>Korean noodles</td>\n",
              "      <td>http://www.wikidata.org/entity/Q18097</td>\n",
              "      <td>Korea</td>\n",
              "      <td>None</td>\n",
              "      <td>None</td>\n",
              "      <td>http://www.wikidata.org/entity/Q192874</td>\n",
              "      <td>noodle</td>\n",
              "      <td>Noodles from Korea</td>\n",
              "    </tr>\n",
              "  </tbody>\n",
              "</table>\n",
              "</div>"
            ],
            "text/plain": [
              "                                  noodle  ...    Commons_category\n",
              "0  http://www.wikidata.org/entity/Q20065  ...            Spaetzle\n",
              "1  http://www.wikidata.org/entity/Q20065  ...            Spaetzle\n",
              "2  http://www.wikidata.org/entity/Q20065  ...            Spaetzle\n",
              "3  http://www.wikidata.org/entity/Q20065  ...            Spaetzle\n",
              "4  http://www.wikidata.org/entity/Q34156  ...  Noodles from Korea\n",
              "\n",
              "[5 rows x 9 columns]"
            ]
          },
          "metadata": {
            "tags": []
          },
          "execution_count": 80
        }
      ]
    },
    {
      "cell_type": "code",
      "metadata": {
        "id": "8XBQ5B_ks7ku",
        "colab_type": "code",
        "outputId": "8a5362de-c32e-4baa-e3b8-c7e72047b797",
        "colab": {
          "base_uri": "https://localhost:8080/",
          "height": 54
        }
      },
      "source": [
        "noodle_list = sorted([re.sub(\"q[0-9]+\",\"\",item.lower()) \\\n",
        "                         for item in df_noodle.groupby(\\\n",
        "                                                     ['noodleLabel'])['country_of_originLabel']\\\n",
        "                    .agg('count').index.values.tolist()])\n",
        "\n",
        "noodle_list = sorted([re.sub(\"\\-\", \" \",item) for item in noodle_list])\n",
        "noodle_counter = Counter(noodle_list)\n",
        "\n",
        "noodle_list = []\n",
        "for key in noodle_counter.keys():\n",
        "  if len(key) != 0:\n",
        "    noodle_list.append(key)\n",
        "print(noodle_list)"
      ],
      "execution_count": 99,
      "outputs": [
        {
          "output_type": "stream",
          "text": [
            "['bakmi', 'black noodles', 'boat noodles', 'buckwheat noodles', 'buldak bokkeum myun', 'bánh hỏi', 'cart noodle', 'cellophane noodles', 'char kway teow', 'chinese noodles', 'chinkiang pot cover noodles', 'cold noodle', 'curry noodle', 'dragon beard noodles', 'extruded noodle', 'fried noodles', 'hokkien mee', 'hot dry noodles', 'jajangmyeon', 'japanese noodles', 'kadaif noodles', 'kesme', 'kishimen', 'knife cut noodle', 'korean noodles', 'laghman', 'mi rebus', 'mie ayam', 'mì', 'narrow lapsha', 'pancit', 'phat si io', 'ramen', 'ribbon noodle', 'rice noodles', 'singapore chow mein', 'soba', 'spätzle', 'sōmen', 'udon', 'vietnamese noodles', 'wide lapsha', 'wonton noodles', 'zhajiangmian']\n"
          ],
          "name": "stdout"
        }
      ]
    },
    {
      "cell_type": "code",
      "metadata": {
        "id": "aiTJvUiNtKSs",
        "colab_type": "code",
        "outputId": "9500acd9-22a1-418a-8d75-2de997bc0006",
        "colab": {
          "base_uri": "https://localhost:8080/",
          "height": 243
        }
      },
      "source": [
        "df[['noodleLabel','country_of_originLabel','instance_ofLabel','subclass_ofLabel']]['noodleLabel'].unique()"
      ],
      "execution_count": 6,
      "outputs": [
        {
          "output_type": "execute_result",
          "data": {
            "text/plain": [
              "array(['Spätzle', 'Korean noodles', 'zhajiangmian', 'ramen',\n",
              "       'Curry noodle', 'udon', 'sōmen', 'soba', 'hot dry noodles',\n",
              "       'cart noodle', 'cellophane noodles', 'jajangmyeon', 'Bakmi',\n",
              "       'rice noodles', 'Hokkien mee', 'fried noodles', 'Pancit',\n",
              "       'Chinese noodles', 'Wonton noodles', 'buckwheat noodles', 'kesme',\n",
              "       'black noodles', 'Bánh hỏi', 'Char kway teow',\n",
              "       'Chinkiang pot cover noodles', 'Mi rebus', 'dragon beard noodles',\n",
              "       'phat si io', 'Vietnamese noodles', 'kishimen', 'Kadaif noodles',\n",
              "       'cold noodle', 'Buldak Bokkeum Myun', 'Mie ayam',\n",
              "       'Japanese noodles', 'boat noodles', 'Q24933621',\n",
              "       'Singapore chow mein', 'Q27566431', 'narrow lapsha', 'wide lapsha',\n",
              "       'laghman', 'extruded noodle', 'knife-cut noodle', 'Mì',\n",
              "       'ribbon noodle'], dtype=object)"
            ]
          },
          "metadata": {
            "tags": []
          },
          "execution_count": 6
        }
      ]
    },
    {
      "cell_type": "code",
      "metadata": {
        "id": "yt28lQevpXKU",
        "colab_type": "code",
        "outputId": "6c7edf5e-c4ca-4ed2-d50a-d6258b23ef54",
        "colab": {
          "base_uri": "https://localhost:8080/",
          "height": 173
        }
      },
      "source": [
        "df[['noodleLabel','country_of_originLabel','instance_ofLabel','subclass_ofLabel','Commons_category']]['Commons_category'].unique()"
      ],
      "execution_count": 7,
      "outputs": [
        {
          "output_type": "execute_result",
          "data": {
            "text/plain": [
              "array(['Spaetzle', 'Noodles from Korea', 'Zha jiang mian', 'Ramen', None,\n",
              "       'Udon', 'Somen', 'Soba', 'Re gan mian', 'Cart noodle',\n",
              "       'Cellophane noodles', 'Jajangmyeon', 'Noodles from Indonesia',\n",
              "       'Rice noodle', 'Hokkien mee', 'Fried noodles', 'Pancit',\n",
              "       'Noodles from China', 'Wonton noodle', 'Kesme', 'Bánh hỏi',\n",
              "       'Char kway teow', 'Bakmi Jawa', 'Phat si-io',\n",
              "       'Noodles from Vietnam', 'Kishimen', 'Tel kadayıf', 'Cold noodles',\n",
              "       'Mie ayam', 'Noodles from Japan', 'Laghman', 'Extruded noodles',\n",
              "       'Knife-cut noodles'], dtype=object)"
            ]
          },
          "metadata": {
            "tags": []
          },
          "execution_count": 7
        }
      ]
    },
    {
      "cell_type": "code",
      "metadata": {
        "id": "it-GJXK9rbFD",
        "colab_type": "code",
        "outputId": "96d12244-d39b-4cbf-c8d7-88ada670f85e",
        "colab": {
          "base_uri": "https://localhost:8080/",
          "height": 608
        }
      },
      "source": [
        "df.groupby(['Commons_category','noodleLabel'])['noodleLabel'].agg('count')"
      ],
      "execution_count": 0,
      "outputs": [
        {
          "output_type": "execute_result",
          "data": {
            "text/plain": [
              "Commons_category        noodleLabel       \n",
              "Bakmi Jawa              Mi rebus              1\n",
              "Bánh hỏi                Bánh hỏi              1\n",
              "Cart noodle             cart noodle           2\n",
              "Cellophane noodles      cellophane noodles    2\n",
              "Char kway teow          Char kway teow        1\n",
              "Cold noodles            cold noodle           1\n",
              "Extruded noodles        extruded noodle       1\n",
              "Fried noodles           fried noodles         2\n",
              "Hokkien mee             Hokkien mee           2\n",
              "Jajangmyeon             jajangmyeon           3\n",
              "Kesme                   kesme                 2\n",
              "Kishimen                kishimen              2\n",
              "Knife-cut noodles       knife-cut noodle      1\n",
              "Laghman                 laghman               2\n",
              "Mie ayam                Mie ayam              3\n",
              "Noodles from China      Chinese noodles       1\n",
              "Noodles from Indonesia  Bakmi                 2\n",
              "Noodles from Japan      Japanese noodles      1\n",
              "Noodles from Korea      Korean noodles        1\n",
              "Noodles from Vietnam    Vietnamese noodles    1\n",
              "Pancit                  Pancit                1\n",
              "Phat si-io              phat si io            2\n",
              "Ramen                   ramen                 3\n",
              "Re gan mian             hot dry noodles       2\n",
              "Rice noodle             rice noodles          1\n",
              "Soba                    soba                  1\n",
              "Somen                   sōmen                 1\n",
              "Spaetzle                Spätzle               4\n",
              "Tel kadayıf             Kadaif noodles        1\n",
              "Udon                    udon                  1\n",
              "Wonton noodle           Wonton noodles        2\n",
              "Zha jiang mian          zhajiangmian          2\n",
              "Name: noodleLabel, dtype: int64"
            ]
          },
          "metadata": {
            "tags": []
          },
          "execution_count": 16
        }
      ]
    },
    {
      "cell_type": "code",
      "metadata": {
        "id": "D5nfBuS6rvIW",
        "colab_type": "code",
        "colab": {
          "base_uri": "https://localhost:8080/",
          "height": 251
        },
        "outputId": "fb2ced9a-5443-4006-caf0-008593e234e0"
      },
      "source": [
        "endpoint_url = \"https://query.wikidata.org/sparql\"\n",
        "query_soup = \"\"\"SELECT ?subclass ?subclassLabel ?TasteAtlas_ID ?instance_of ?instance_ofLabel ?country_of_origin ?country_of_originLabel ?topic_s_main_template ?topic_s_main_templateLabel WHERE {\n",
        "  SERVICE wikibase:label { bd:serviceParam wikibase:language \"[AUTO_LANGUAGE],en\". }\n",
        "  ?subclass wdt:P279 wd:Q41415.\n",
        "  OPTIONAL { ?subclass wdt:P5456 ?TasteAtlas_ID. }\n",
        "  OPTIONAL { ?subclass wdt:P31 ?instance_of. }\n",
        "  OPTIONAL { ?subclass wdt:P495 ?country_of_origin. }\n",
        "  OPTIONAL { ?subclass wdt:P1424 ?topic_s_main_template. }\n",
        "}\"\"\"\n",
        "\n",
        "df_soup = get_results(endpoint_url, query_soup)\n",
        "df_soup.head()"
      ],
      "execution_count": 71,
      "outputs": [
        {
          "output_type": "execute_result",
          "data": {
            "text/html": [
              "<div>\n",
              "<style scoped>\n",
              "    .dataframe tbody tr th:only-of-type {\n",
              "        vertical-align: middle;\n",
              "    }\n",
              "\n",
              "    .dataframe tbody tr th {\n",
              "        vertical-align: top;\n",
              "    }\n",
              "\n",
              "    .dataframe thead th {\n",
              "        text-align: right;\n",
              "    }\n",
              "</style>\n",
              "<table border=\"1\" class=\"dataframe\">\n",
              "  <thead>\n",
              "    <tr style=\"text-align: right;\">\n",
              "      <th></th>\n",
              "      <th>subclass</th>\n",
              "      <th>subclassLabel</th>\n",
              "      <th>TasteAtlas_ID</th>\n",
              "      <th>instance_of</th>\n",
              "      <th>instance_ofLabel</th>\n",
              "      <th>country_of_origin</th>\n",
              "      <th>country_of_originLabel</th>\n",
              "      <th>topic_s_main_template</th>\n",
              "      <th>topic_s_main_templateLabel</th>\n",
              "    </tr>\n",
              "  </thead>\n",
              "  <tbody>\n",
              "    <tr>\n",
              "      <th>0</th>\n",
              "      <td>http://www.wikidata.org/entity/Q11179944</td>\n",
              "      <td>Stewed dog meat with soft-shelled turtle</td>\n",
              "      <td>None</td>\n",
              "      <td>None</td>\n",
              "      <td>None</td>\n",
              "      <td>http://www.wikidata.org/entity/Q148</td>\n",
              "      <td>People's Republic of China</td>\n",
              "      <td>None</td>\n",
              "      <td>None</td>\n",
              "    </tr>\n",
              "    <tr>\n",
              "      <th>1</th>\n",
              "      <td>http://www.wikidata.org/entity/Q11242258</td>\n",
              "      <td>Soto mie</td>\n",
              "      <td>None</td>\n",
              "      <td>http://www.wikidata.org/entity/Q2095</td>\n",
              "      <td>food</td>\n",
              "      <td>http://www.wikidata.org/entity/Q252</td>\n",
              "      <td>Indonesia</td>\n",
              "      <td>None</td>\n",
              "      <td>None</td>\n",
              "    </tr>\n",
              "    <tr>\n",
              "      <th>2</th>\n",
              "      <td>http://www.wikidata.org/entity/Q11265947</td>\n",
              "      <td>Kenoshiru</td>\n",
              "      <td>None</td>\n",
              "      <td>None</td>\n",
              "      <td>None</td>\n",
              "      <td>http://www.wikidata.org/entity/Q17</td>\n",
              "      <td>Japan</td>\n",
              "      <td>None</td>\n",
              "      <td>None</td>\n",
              "    </tr>\n",
              "    <tr>\n",
              "      <th>3</th>\n",
              "      <td>http://www.wikidata.org/entity/Q11266028</td>\n",
              "      <td>Kenchinjiru</td>\n",
              "      <td>None</td>\n",
              "      <td>None</td>\n",
              "      <td>None</td>\n",
              "      <td>None</td>\n",
              "      <td>None</td>\n",
              "      <td>None</td>\n",
              "      <td>None</td>\n",
              "    </tr>\n",
              "    <tr>\n",
              "      <th>4</th>\n",
              "      <td>http://www.wikidata.org/entity/Q11443995</td>\n",
              "      <td>taipien</td>\n",
              "      <td>None</td>\n",
              "      <td>None</td>\n",
              "      <td>None</td>\n",
              "      <td>None</td>\n",
              "      <td>None</td>\n",
              "      <td>None</td>\n",
              "      <td>None</td>\n",
              "    </tr>\n",
              "  </tbody>\n",
              "</table>\n",
              "</div>"
            ],
            "text/plain": [
              "                                   subclass  ... topic_s_main_templateLabel\n",
              "0  http://www.wikidata.org/entity/Q11179944  ...                       None\n",
              "1  http://www.wikidata.org/entity/Q11242258  ...                       None\n",
              "2  http://www.wikidata.org/entity/Q11265947  ...                       None\n",
              "3  http://www.wikidata.org/entity/Q11266028  ...                       None\n",
              "4  http://www.wikidata.org/entity/Q11443995  ...                       None\n",
              "\n",
              "[5 rows x 9 columns]"
            ]
          },
          "metadata": {
            "tags": []
          },
          "execution_count": 71
        }
      ]
    },
    {
      "cell_type": "code",
      "metadata": {
        "id": "XB7gF8FBsuji",
        "colab_type": "code",
        "colab": {}
      },
      "source": [
        ""
      ],
      "execution_count": 0,
      "outputs": []
    },
    {
      "cell_type": "code",
      "metadata": {
        "id": "8qux088QtD4J",
        "colab_type": "code",
        "colab": {
          "base_uri": "https://localhost:8080/",
          "height": 54
        },
        "outputId": "3406af6a-a93c-4de6-8080-133797a7fc3c"
      },
      "source": [
        "soup_list = sorted([re.sub(\"q[0-9]+\",\"\",item.lower()) \\\n",
        "                         for item in df_soup.groupby(\\\n",
        "                                                     ['subclassLabel'])['country_of_originLabel']\\\n",
        "                    .agg('count').index.values.tolist()])\n",
        "\n",
        "soup_list = sorted([re.sub(\"\\-\", \" \",item) for item in soup_list])\n",
        "soup_counter = Counter(soup_list)\n",
        "\n",
        "soup_list = []\n",
        "for key in soup_counter.keys():\n",
        "  if len(key) != 0:\n",
        "    soup_list.append(key)\n",
        "print(soup_list)"
      ],
      "execution_count": 76,
      "outputs": [
        {
          "output_type": "stream",
          "text": [
            "['15 bean soup', '2007 vietnam food scare', 'acquacotta', 'aguadito de pollo', 'ajoblanco', 'alicot', 'amiedi', 'amish preaching soup', 'arabaşı soup', 'ash reshteh', 'ashe doogh', 'asian soup', 'aush', 'bacon soup', 'baeksuk', 'bagnun', 'banga', 'batchoy', 'bean soup', 'beer soup', 'beetroot soup', 'beyran', 'binignit', \"bird's nest soup\", 'bisque', 'black sesame soup', 'black soup', 'blood soup', 'bob chorba', 'bogeo', 'bookbinder soup', 'borş de burechiuşe', 'borș', 'bosintang', 'bouillon', 'bouillon cube', 'bouneschlupp', 'brown windsor soup', 'budae jjigae', 'buddha jumps over the wall', 'bun rieu', 'buridda', 'bún bò huế', 'bún mắm', 'bún ốc', 'cabbage soup', 'caldillo de perro', 'caldo de costilla', 'caldo de pollo', 'caldo de siete mares', 'caldo gallego', 'caldo tlalpeño', 'caldo verde', 'canja de goa', 'cantonese seafood soup', 'caparrones', 'cazuela', 'celimpungan', 'chakna', 'changua', 'chankonabe', 'cheese soup', 'chicken and dumplings', 'chicken soup', 'chikhirtma', 'ching bo leung', 'chorba', 'chupe', 'chè bà ba', 'ciorbă', 'ciorbă de perișoare', 'clam soup', 'cocido lebaniego', 'cocido madrileño', 'cock a leekie soup', 'cockchafer soup', 'coconut soup', 'cold soup', 'collard liquor', 'conch soup', 'consommé', 'corn crab soup', 'corn soup', 'cow cod soup', 'cozido à portuguesa', 'cream soup', 'cream stew', 'crossing the bridge noodles', 'crème ninon', 'cuchuco', 'cucumber soup', 'cup a soup', 'dal', 'de thuk', 'diyabath', 'draw soup', 'egg drop soup', 'egg tong sui', 'empal gentong', 'encebollado', \"escudella i carn d'olla\", 'ezogelin soup', 'fabes con almejas', 'feu (food)', 'fish soup', 'fish soup bee hoon', 'flädle', 'frejon', 'french onion soup', 'fruit soup', 'fugu chiri', 'galbitang', 'garbure', 'garlic soup', 'garmugia', 'gazpachuelo', 'geng', 'ginataan', 'ginestrata', 'gopchang jeongol', 'goulash', 'grouta', 'guk', 'gulyásleves', 'guthuk', 'haleem', 'harihari nabe', 'harira', 'herring soup', 'hodge podge (soup)', 'hot and sour soup', 'hulatang', 'hyderabadi marag', 'hōtō', \"imitation shark's fin soup\", 'imoni', 'instant soup', 'isi ewu', 'jenny lind soup', 'jeongol', 'jiuniang', 'juka', 'jókai bean soup', 'kadhi', 'kakavia', 'kaledo', 'kapustnica', 'keledoş', 'kenchinjiru', 'kenoshiru', 'khao poon', 'kharcho', 'khichra', 'kiritanpo', 'kiszczonka', 'kololak', 'konro', 'krupnik', 'kulajda', 'kwati', 'kyselo', 'leek soup', 'lemon and egg sauce', 'lentil soup', 'lettuce soup', 'liver soup', 'lobster stew', 'lung fung soup', 'macaroni soup', 'maccu', 'magiritsa', 'mallorcan soup', 'mami soup', 'manchow soup', 'manduguk', 'mannish water', 'meal soup', 'meatball soup', 'menudo', 'minestrone', 'miso soup', 'miyan kuka', 'miyeok guk', 'mock turtle soup', 'mohinga', 'molagoottal', 'motsunabe', 'mulligatawny', 'mutton soup', 'nabemono', 'naengguk', 'nam kaeng hua chai thao', 'nam ngiao', 'nettle soup', 'nihari', 'nimono', 'noodle soup', 'noppe', 'ogbono soup', 'oghwevwri', 'ohaw', 'oille', 'okoho', 'olla podrida', 'ollada', 'oritang', 'oxtail soup', 'palóc soup', 'panada', 'pappa', 'partan bree', 'pasta e fagioli', 'pasulj', 'pate acha', 'pea soup', 'peanut soup', 'peppersoup', 'petite marmite', 'pho', 'pho ga', 'pho ta', 'pickle soup', 'pig fallopian tubes', \"pig's organ soup\", 'piperade', 'pisca andina', 'pisto', 'piti', 'plantain soup', 'pomegranate soup', 'porra antequerana', 'potage', 'potato soup', 'potée', 'pozole', 'prawn soup', 'prežganka', 'psarosoupa', 'pumpkin soup', 'puree soup', 'purée mongole', 'ragout fin', 'ramen', 'rasam', 'rassolnik', 'rawon', 'red peas soup', 'revithia', 'ribollita', 'rose hip soup', 'rosolnyk', 'rosół', \"rumford's soup\", 'sago soup', 'salmorejo', 'samlar machu', 'samlor kako', 'sancocho', 'sausage soup broth', 'sayur asem', 'sayur lodeh', 'scotch broth', 'seolleongtang', 'shabu shabu', 'shambar', 'shark fin soup', 'shchi', 'she crab soup', \"sheep's sorrel soup\", 'shorwa', 'siemieniotka', 'sinigang', 'sinseollo', 'siri paya', 'snake soup', 'solyanka', 'sopa de gato', 'sopa de lacassá', 'sopa de mondongo', 'sopa de pata', 'sopa teologa', 'sopas mallorquinas', 'sorrel soup', 'soto', 'soto mie', \"soup all'imperatrice\", 'soup alla canavese', 'soup joumou', 'soup number five', 'soup with risotto', 'soupe aux truffes noires vge', 'soups of turkey', 'sour cherry soup', 'sour rye soup', 'sour soup', 'southern illinois chowder', 'soyo', 'soyutma', 'spinach soup', 'spring soup', 'steckrübeneintopf', 'stewed dog meat with soft shelled turtle', 'stracciatella', 'stuffed bitter melon soup', 'suaasat', 'sukiyaki', 'sundubu jjigae', 'sungeoguk', 'sup kambing', 'svartsoppa', 'sweet potato soup', 'tacacá', 'taco soup', 'taipien', 'talunan', 'tappaiskeitto', 'tarator', 'tarhana', 'tekwan', 'theeyal', 'thukpa', 'thukpa bhatuk', 'tian mo', 'tiger penis soup', 'tinola', 'tom khlong', 'tom yum', 'tomato and egg soup', 'tomato soup', 'tong sui', 'tong sui shop', 'tongseng', 'tonjiru', 'tortilla soup', 'tourin', 'toyga soup', 'tripe soup', 'tsilihourda', 'tteokguk', 'turtle soup', 'tutmaç soup', 'urojo', 'vegetable soup', 'velouté', 'vichyssoise', 'vori vori', 'wedding soup', 'white soup', \"widow's soup\", 'wodzionka', 'yarma çorbası', 'yayla çorbası', 'yeonpotang', 'yong tau foo', 'yukgaejang', 'yuvalama soup', 'yüksük soup', 'zoque', 'zosui', 'zuppa alla modenese', 'zuppa pavese', 'zuppa toscana', 'zōni']\n"
          ],
          "name": "stdout"
        }
      ]
    },
    {
      "cell_type": "code",
      "metadata": {
        "id": "qWgMAifDu1R-",
        "colab_type": "code",
        "colab": {
          "base_uri": "https://localhost:8080/",
          "height": 34
        },
        "outputId": "f01bbf7c-8125-4530-aa3e-2f40aff0c3cb"
      },
      "source": [
        "len(soup_list)"
      ],
      "execution_count": 77,
      "outputs": [
        {
          "output_type": "execute_result",
          "data": {
            "text/plain": [
              "363"
            ]
          },
          "metadata": {
            "tags": []
          },
          "execution_count": 77
        }
      ]
    },
    {
      "cell_type": "code",
      "metadata": {
        "id": "SsefF8BQ0stZ",
        "colab_type": "code",
        "colab": {
          "base_uri": "https://localhost:8080/",
          "height": 197
        },
        "outputId": "4a54c4b0-645f-4603-9526-e1ec92e00f41"
      },
      "source": [
        "endpoint_url = \"https://query.wikidata.org/sparql\"\n",
        "query_rice_dish = \"\"\"SELECT ?is_a_list_of ?instance_of ?instance_ofLabel ?subclass_of ?subclass_ofLabel ?country_of_origin ?country_of_originLabel WHERE {\n",
        "  SERVICE wikibase:label { bd:serviceParam wikibase:language \"[AUTO_LANGUAGE],en\". }\n",
        "  ?is_a_list_of wdt:P279 wd:Q21976260.\n",
        "  OPTIONAL {  }\n",
        "  OPTIONAL { ?is_a_list_of wdt:P5456 ?instance_of. }\n",
        "  OPTIONAL { ?is_a_list_of wdt:P279 ?subclass_of. }\n",
        "  OPTIONAL { ?is_a_list_of wdt:P495 ?country_of_origin. }\n",
        "}\n",
        "\"\"\"\n",
        "\n",
        "df_rice_dish = get_results(endpoint_url,query_rice_dish)\n",
        "df_rice_dish.head()"
      ],
      "execution_count": 65,
      "outputs": [
        {
          "output_type": "execute_result",
          "data": {
            "text/html": [
              "<div>\n",
              "<style scoped>\n",
              "    .dataframe tbody tr th:only-of-type {\n",
              "        vertical-align: middle;\n",
              "    }\n",
              "\n",
              "    .dataframe tbody tr th {\n",
              "        vertical-align: top;\n",
              "    }\n",
              "\n",
              "    .dataframe thead th {\n",
              "        text-align: right;\n",
              "    }\n",
              "</style>\n",
              "<table border=\"1\" class=\"dataframe\">\n",
              "  <thead>\n",
              "    <tr style=\"text-align: right;\">\n",
              "      <th></th>\n",
              "      <th>is_a_list_of</th>\n",
              "      <th>instance_of</th>\n",
              "      <th>instance_ofLabel</th>\n",
              "      <th>subclass_of</th>\n",
              "      <th>subclass_ofLabel</th>\n",
              "      <th>country_of_origin</th>\n",
              "      <th>country_of_originLabel</th>\n",
              "    </tr>\n",
              "  </thead>\n",
              "  <tbody>\n",
              "    <tr>\n",
              "      <th>0</th>\n",
              "      <td>http://www.wikidata.org/entity/Q19029</td>\n",
              "      <td>arroz-con-leche</td>\n",
              "      <td>arroz-con-leche</td>\n",
              "      <td>http://www.wikidata.org/entity/Q182940</td>\n",
              "      <td>dessert</td>\n",
              "      <td>None</td>\n",
              "      <td>None</td>\n",
              "    </tr>\n",
              "    <tr>\n",
              "      <th>1</th>\n",
              "      <td>http://www.wikidata.org/entity/Q19029</td>\n",
              "      <td>arroz-doce</td>\n",
              "      <td>arroz-doce</td>\n",
              "      <td>http://www.wikidata.org/entity/Q182940</td>\n",
              "      <td>dessert</td>\n",
              "      <td>None</td>\n",
              "      <td>None</td>\n",
              "    </tr>\n",
              "    <tr>\n",
              "      <th>2</th>\n",
              "      <td>http://www.wikidata.org/entity/Q19029</td>\n",
              "      <td>sutlijas</td>\n",
              "      <td>sutlijas</td>\n",
              "      <td>http://www.wikidata.org/entity/Q182940</td>\n",
              "      <td>dessert</td>\n",
              "      <td>None</td>\n",
              "      <td>None</td>\n",
              "    </tr>\n",
              "    <tr>\n",
              "      <th>3</th>\n",
              "      <td>http://www.wikidata.org/entity/Q19029</td>\n",
              "      <td>arroz-con-leche</td>\n",
              "      <td>arroz-con-leche</td>\n",
              "      <td>http://www.wikidata.org/entity/Q186817</td>\n",
              "      <td>porridge</td>\n",
              "      <td>None</td>\n",
              "      <td>None</td>\n",
              "    </tr>\n",
              "    <tr>\n",
              "      <th>4</th>\n",
              "      <td>http://www.wikidata.org/entity/Q19029</td>\n",
              "      <td>arroz-doce</td>\n",
              "      <td>arroz-doce</td>\n",
              "      <td>http://www.wikidata.org/entity/Q186817</td>\n",
              "      <td>porridge</td>\n",
              "      <td>None</td>\n",
              "      <td>None</td>\n",
              "    </tr>\n",
              "  </tbody>\n",
              "</table>\n",
              "</div>"
            ],
            "text/plain": [
              "                            is_a_list_of  ... country_of_originLabel\n",
              "0  http://www.wikidata.org/entity/Q19029  ...                   None\n",
              "1  http://www.wikidata.org/entity/Q19029  ...                   None\n",
              "2  http://www.wikidata.org/entity/Q19029  ...                   None\n",
              "3  http://www.wikidata.org/entity/Q19029  ...                   None\n",
              "4  http://www.wikidata.org/entity/Q19029  ...                   None\n",
              "\n",
              "[5 rows x 7 columns]"
            ]
          },
          "metadata": {
            "tags": []
          },
          "execution_count": 65
        }
      ]
    },
    {
      "cell_type": "code",
      "metadata": {
        "id": "sKYNpOzK5ckJ",
        "colab_type": "code",
        "colab": {
          "base_uri": "https://localhost:8080/",
          "height": 225
        },
        "outputId": "c8dd42ac-4685-42e6-bf65-72f35de210ff"
      },
      "source": [
        "df_rice_dish['instance_ofLabel']"
      ],
      "execution_count": 66,
      "outputs": [
        {
          "output_type": "execute_result",
          "data": {
            "text/plain": [
              "0      arroz-con-leche\n",
              "1           arroz-doce\n",
              "2             sutlijas\n",
              "3      arroz-con-leche\n",
              "4           arroz-doce\n",
              "            ...       \n",
              "207               None\n",
              "208              sarma\n",
              "209               None\n",
              "210               None\n",
              "211               None\n",
              "Name: instance_ofLabel, Length: 212, dtype: object"
            ]
          },
          "metadata": {
            "tags": []
          },
          "execution_count": 66
        }
      ]
    },
    {
      "cell_type": "code",
      "metadata": {
        "id": "hkswP_2Y4-uj",
        "colab_type": "code",
        "colab": {
          "base_uri": "https://localhost:8080/",
          "height": 54
        },
        "outputId": "8a3c719a-bccd-4a35-90e7-2f76b413b45b"
      },
      "source": [
        "df_rice_dish.groupby(['subclass_ofLabel', 'instance_ofLabel'], as_index=False)['country_of_originLabel'].agg('count').instance_ofLabel.values.tolist()\n",
        "\n",
        "rice_dish_list = sorted([re.sub(\"q[0-9]+\",\"\",item.lower()) \\\n",
        "                         for item in df_rice_dish.groupby(\\\n",
        "                                                          ['subclass_ofLabel', 'instance_ofLabel'], as_index=False)\\\n",
        "                         ['country_of_originLabel'].agg('count').instance_ofLabel.values.tolist()])\n",
        "\n",
        "rice_dish_list = sorted([re.sub(\"\\-\", \" \",item) for item in rice_dish_list])\n",
        "rice_dish_counter = Counter(rice_dish_list)\n",
        "\n",
        "rice_dish_list = []\n",
        "for key in rice_dish_counter.keys():\n",
        "  if len(key) != 0:\n",
        "    rice_dish_list.append(key)\n",
        "print(rice_dish_list)"
      ],
      "execution_count": 69,
      "outputs": [
        {
          "output_type": "stream",
          "text": [
            "['akki rotti', 'arroz caldo', 'arroz carreteiro', 'arroz con coco', 'arroz con leche', 'arroz con pollo', 'arroz doce', 'bibimbap', 'biryani', 'botamochi', 'cabidela', 'calas', 'chazuke', 'chukadon', 'com lam', 'daifuku', 'dal bhat', 'donburi', 'gyudon', 'hayashi rice', 'hoedeopbap', 'hokkien fried rice', 'idli', 'kabsa', 'kamameshi', 'kayu', 'ketupat', 'kheer', 'kiribath', 'lemang', 'loco moco', 'lotus leaf rice', 'mansaf', 'midye dolma', 'mujaddara', 'nasi campur', 'nasi kerabu', 'nasi lemak', 'oyakodon', 'pabellon criollo', 'paella', 'panta bhat', 'perde pilavi', 'platillo moros y cristiano', 'pongal', 'red beans and rice', 'risotto', 'sarma', 'sekihan', 'sindhi biryani', 'sushi', 'sutlijas', 'tacu tacu', 'tamago kake gohan', 'tekkadon', 'unadon', 'warabimochi', 'xoi', 'yangzhou fried rice', 'zongzi', 'zosui']\n"
          ],
          "name": "stdout"
        }
      ]
    },
    {
      "cell_type": "code",
      "metadata": {
        "id": "SSZd9vuF5TwO",
        "colab_type": "code",
        "colab": {
          "base_uri": "https://localhost:8080/",
          "height": 234
        },
        "outputId": "5ff14769-39c6-4dbe-bb28-b3781d849a6e"
      },
      "source": [
        "endpoint_url = \"https://query.wikidata.org/sparql\"\n",
        "query_salad = \"\"\"\n",
        "SELECT ?subclass ?subclassLabel ?TasteAtlas_ID ?instance_of ?instance_ofLabel ?country_of_origin ?country_of_originLabel ?topic_s_main_template ?topic_s_main_templateLabel WHERE {\n",
        "  SERVICE wikibase:label { bd:serviceParam wikibase:language \"[AUTO_LANGUAGE],en\". }\n",
        "  ?subclass wdt:P279 wd:Q9266.\n",
        "  OPTIONAL { ?subclass wdt:P5456 ?TasteAtlas_ID. }\n",
        "  OPTIONAL { ?subclass wdt:P31 ?instance_of. }\n",
        "  OPTIONAL { ?subclass wdt:P495 ?country_of_origin. }\n",
        "  OPTIONAL { ?subclass wdt:P1424 ?topic_s_main_template. }\n",
        "}\n",
        "\"\"\"\n",
        "\n",
        "df_salad = get_results(endpoint_url,query_salad)\n",
        "df_salad.head()\n",
        "\n"
      ],
      "execution_count": 37,
      "outputs": [
        {
          "output_type": "execute_result",
          "data": {
            "text/html": [
              "<div>\n",
              "<style scoped>\n",
              "    .dataframe tbody tr th:only-of-type {\n",
              "        vertical-align: middle;\n",
              "    }\n",
              "\n",
              "    .dataframe tbody tr th {\n",
              "        vertical-align: top;\n",
              "    }\n",
              "\n",
              "    .dataframe thead th {\n",
              "        text-align: right;\n",
              "    }\n",
              "</style>\n",
              "<table border=\"1\" class=\"dataframe\">\n",
              "  <thead>\n",
              "    <tr style=\"text-align: right;\">\n",
              "      <th></th>\n",
              "      <th>subclass</th>\n",
              "      <th>subclassLabel</th>\n",
              "      <th>TasteAtlas_ID</th>\n",
              "      <th>instance_of</th>\n",
              "      <th>instance_ofLabel</th>\n",
              "      <th>country_of_origin</th>\n",
              "      <th>country_of_originLabel</th>\n",
              "      <th>topic_s_main_template</th>\n",
              "      <th>topic_s_main_templateLabel</th>\n",
              "    </tr>\n",
              "  </thead>\n",
              "  <tbody>\n",
              "    <tr>\n",
              "      <th>0</th>\n",
              "      <td>http://www.wikidata.org/entity/Q6030071</td>\n",
              "      <td>Gavurdağı salatası</td>\n",
              "      <td>None</td>\n",
              "      <td>http://www.wikidata.org/entity/Q2095</td>\n",
              "      <td>food</td>\n",
              "      <td>http://www.wikidata.org/entity/Q43</td>\n",
              "      <td>Turkey</td>\n",
              "      <td>None</td>\n",
              "      <td>None</td>\n",
              "    </tr>\n",
              "    <tr>\n",
              "      <th>1</th>\n",
              "      <td>http://www.wikidata.org/entity/Q6060108</td>\n",
              "      <td>Q6060108</td>\n",
              "      <td>None</td>\n",
              "      <td>None</td>\n",
              "      <td>None</td>\n",
              "      <td>None</td>\n",
              "      <td>None</td>\n",
              "      <td>None</td>\n",
              "      <td>None</td>\n",
              "    </tr>\n",
              "    <tr>\n",
              "      <th>2</th>\n",
              "      <td>http://www.wikidata.org/entity/Q6076597</td>\n",
              "      <td>Q6076597</td>\n",
              "      <td>pipirrana</td>\n",
              "      <td>None</td>\n",
              "      <td>None</td>\n",
              "      <td>None</td>\n",
              "      <td>None</td>\n",
              "      <td>None</td>\n",
              "      <td>None</td>\n",
              "    </tr>\n",
              "    <tr>\n",
              "      <th>3</th>\n",
              "      <td>http://www.wikidata.org/entity/Q6117451</td>\n",
              "      <td>Q6117451</td>\n",
              "      <td>None</td>\n",
              "      <td>None</td>\n",
              "      <td>None</td>\n",
              "      <td>None</td>\n",
              "      <td>None</td>\n",
              "      <td>None</td>\n",
              "      <td>None</td>\n",
              "    </tr>\n",
              "    <tr>\n",
              "      <th>4</th>\n",
              "      <td>http://www.wikidata.org/entity/Q6128321</td>\n",
              "      <td>Salad cream</td>\n",
              "      <td>None</td>\n",
              "      <td>None</td>\n",
              "      <td>None</td>\n",
              "      <td>http://www.wikidata.org/entity/Q145</td>\n",
              "      <td>United Kingdom</td>\n",
              "      <td>None</td>\n",
              "      <td>None</td>\n",
              "    </tr>\n",
              "  </tbody>\n",
              "</table>\n",
              "</div>"
            ],
            "text/plain": [
              "                                  subclass  ... topic_s_main_templateLabel\n",
              "0  http://www.wikidata.org/entity/Q6030071  ...                       None\n",
              "1  http://www.wikidata.org/entity/Q6060108  ...                       None\n",
              "2  http://www.wikidata.org/entity/Q6076597  ...                       None\n",
              "3  http://www.wikidata.org/entity/Q6117451  ...                       None\n",
              "4  http://www.wikidata.org/entity/Q6128321  ...                       None\n",
              "\n",
              "[5 rows x 9 columns]"
            ]
          },
          "metadata": {
            "tags": []
          },
          "execution_count": 37
        }
      ]
    },
    {
      "cell_type": "code",
      "metadata": {
        "id": "mQp9mTjkFXSX",
        "colab_type": "code",
        "colab": {}
      },
      "source": [
        ""
      ],
      "execution_count": 0,
      "outputs": []
    },
    {
      "cell_type": "code",
      "metadata": {
        "id": "vw3tjNg1Fbh7",
        "colab_type": "code",
        "colab": {
          "base_uri": "https://localhost:8080/",
          "height": 54
        },
        "outputId": "0ac75f1c-1a35-48a5-c32f-6e7c4eff8022"
      },
      "source": [
        "salad_list = sorted([re.sub(\"q[0-9]+\",\"\",item.lower()) for item in df_salad.subclassLabel.values.tolist()])\n",
        "salad_counter = Counter(salad_list)\n",
        "\n",
        "salad_list = []\n",
        "for key in salad_counter.keys():\n",
        "  if len(key) != 0:\n",
        "    salad_list.append(key)\n",
        "print(salad_list)"
      ],
      "execution_count": 64,
      "outputs": [
        {
          "output_type": "stream",
          "text": [
            "['a thoke', 'acar', 'ahtapot salata', 'arab salad', 'asinan', 'baba ghanoush', 'bean salad', 'beetroot salad', 'beyin salata', 'broccoli slaw', 'buljol', 'caesar salad', 'caprese salad', 'carrot salad', 'celery root salad', 'celery victor', 'cheese slaw', 'chef salad', 'chicken salad', 'chilean salad', 'chinese chicken salad', 'cobb salad', 'coleslaw', 'composed salad', 'cookie salad', 'crab louie', 'curtido', 'dakos', 'dessert salad', 'dressed herring', 'egg salad', 'eggplant salads and appetizers', 'egg–anchovy salad', 'eruca vesicaria', 'escalivada', 'esgarrat', 'esqueixada', 'fattoush', 'fiambre', 'fruit salad', 'gado-gado', 'garden salad', 'gavurdağı salatası', 'glass noodle salad', 'glasswort salad', 'glorified rice', 'golbaengi-muchim', 'goma-ae', 'greek salad', 'ham salad', 'herring salad', 'hmiss', 'israeli eggplant salad', 'israeli salad', 'jello salad', 'karedok', 'kelan antep', 'kinilnat', 'korean carrot salad', 'kosambari', 'kuluban', 'kurkkusalaatti', 'kısır', 'lalab', 'larb', 'lentil salad', 'lyutika', 'macedonia', 'maple slaw', 'matbucha', 'mechouia salad', 'meeshay', 'mesclun', 'michigan salad', 'mimosa salad', 'mizeria', 'mont di', 'nam khao', 'nam tok', 'nan gyi thohk', 'noodle salad', 'nộm', 'olive salad', 'olivier salad', 'panzanella', 'pasembur', 'pasta salad', 'pebre', 'pico de gallo', 'piyaz', 'pizza salad', 'plecing kangkung', 'poke', 'poke salad', 'potato salad', 'prawn cocktail', 'radicchio', 'raheb', 'red slaw', 'rhyming recipe', 'rojak', 'rosolli', 'russisch ei', 'sabich salad', 'salad cream', 'salade cauchoise', 'salade niçoise', 'salată de boeuf', 'salmagundi', 'semizotu with yogurt', 'serbian salad', 'seven-layer salad', 'shalgam', 'shirazi salad', 'shopska salad', 'shrimp louie', 'snickers salad', 'snow white salad', 'spinach salad', 'sweet potato salad', 'szałot', 'sōmen salad', 'tabbouleh', 'taco salad', 'tangpyeongchae', 'texas caviar', 'thai salads', 'toros salad', 'tuna salad', 'tunisian salad', 'ulam', 'urap', 'urnebes', 'vinegret', 'wurstsalat', 'xató', 'yum sen lon', 'yusheng', 'çoban salatası', 'şakşuka']\n"
          ],
          "name": "stdout"
        }
      ]
    },
    {
      "cell_type": "code",
      "metadata": {
        "id": "1iWpVACxGwzs",
        "colab_type": "code",
        "colab": {
          "base_uri": "https://localhost:8080/",
          "height": 1000
        },
        "outputId": "754cbeb9-207e-4f01-a897-299927bfceda"
      },
      "source": [
        "rice_dish_list"
      ],
      "execution_count": 70,
      "outputs": [
        {
          "output_type": "execute_result",
          "data": {
            "text/plain": [
              "['akki rotti',\n",
              " 'arroz caldo',\n",
              " 'arroz carreteiro',\n",
              " 'arroz con coco',\n",
              " 'arroz con leche',\n",
              " 'arroz con pollo',\n",
              " 'arroz doce',\n",
              " 'bibimbap',\n",
              " 'biryani',\n",
              " 'botamochi',\n",
              " 'cabidela',\n",
              " 'calas',\n",
              " 'chazuke',\n",
              " 'chukadon',\n",
              " 'com lam',\n",
              " 'daifuku',\n",
              " 'dal bhat',\n",
              " 'donburi',\n",
              " 'gyudon',\n",
              " 'hayashi rice',\n",
              " 'hoedeopbap',\n",
              " 'hokkien fried rice',\n",
              " 'idli',\n",
              " 'kabsa',\n",
              " 'kamameshi',\n",
              " 'kayu',\n",
              " 'ketupat',\n",
              " 'kheer',\n",
              " 'kiribath',\n",
              " 'lemang',\n",
              " 'loco moco',\n",
              " 'lotus leaf rice',\n",
              " 'mansaf',\n",
              " 'midye dolma',\n",
              " 'mujaddara',\n",
              " 'nasi campur',\n",
              " 'nasi kerabu',\n",
              " 'nasi lemak',\n",
              " 'oyakodon',\n",
              " 'pabellon criollo',\n",
              " 'paella',\n",
              " 'panta bhat',\n",
              " 'perde pilavi',\n",
              " 'platillo moros y cristiano',\n",
              " 'pongal',\n",
              " 'red beans and rice',\n",
              " 'risotto',\n",
              " 'sarma',\n",
              " 'sekihan',\n",
              " 'sindhi biryani',\n",
              " 'sushi',\n",
              " 'sutlijas',\n",
              " 'tacu tacu',\n",
              " 'tamago kake gohan',\n",
              " 'tekkadon',\n",
              " 'unadon',\n",
              " 'warabimochi',\n",
              " 'xoi',\n",
              " 'yangzhou fried rice',\n",
              " 'zongzi',\n",
              " 'zosui']"
            ]
          },
          "metadata": {
            "tags": []
          },
          "execution_count": 70
        }
      ]
    },
    {
      "cell_type": "code",
      "metadata": {
        "id": "tV08vEN_EZXd",
        "colab_type": "code",
        "colab": {
          "base_uri": "https://localhost:8080/",
          "height": 197
        },
        "outputId": "6c57d645-973b-4339-a5ce-989bcd2e9209"
      },
      "source": [
        "endpoint_url = \"https://query.wikidata.org/sparql\"\n",
        "query_dish = \"\"\"\n",
        "SELECT ?subclass ?TasteAtlas_ID ?subclass_of ?subclass_ofLabel ?instance_of ?instance_ofLabel WHERE {\n",
        "  SERVICE wikibase:label { bd:serviceParam wikibase:language \"[AUTO_LANGUAGE],en\". }\n",
        "  \n",
        "  OPTIONAL { ?subclass wdt:P5456 ?TasteAtlas_ID. }\n",
        "  OPTIONAL { ?subclass wdt:P279 ?subclass_of. }\n",
        "  OPTIONAL { ?subclass wdt:P31 ?instance_of. }\n",
        "  \n",
        "  ?subclass wdt:P279 wd:Q746549.\n",
        "}\"\"\"\n",
        "df_dish = get_results(endpoint_url,query_dish)\n",
        "df_dish.head()"
      ],
      "execution_count": 100,
      "outputs": [
        {
          "output_type": "execute_result",
          "data": {
            "text/html": [
              "<div>\n",
              "<style scoped>\n",
              "    .dataframe tbody tr th:only-of-type {\n",
              "        vertical-align: middle;\n",
              "    }\n",
              "\n",
              "    .dataframe tbody tr th {\n",
              "        vertical-align: top;\n",
              "    }\n",
              "\n",
              "    .dataframe thead th {\n",
              "        text-align: right;\n",
              "    }\n",
              "</style>\n",
              "<table border=\"1\" class=\"dataframe\">\n",
              "  <thead>\n",
              "    <tr style=\"text-align: right;\">\n",
              "      <th></th>\n",
              "      <th>subclass</th>\n",
              "      <th>TasteAtlas_ID</th>\n",
              "      <th>subclass_of</th>\n",
              "      <th>subclass_ofLabel</th>\n",
              "      <th>instance_of</th>\n",
              "      <th>instance_ofLabel</th>\n",
              "    </tr>\n",
              "  </thead>\n",
              "  <tbody>\n",
              "    <tr>\n",
              "      <th>0</th>\n",
              "      <td>http://www.wikidata.org/entity/Q177</td>\n",
              "      <td>pizza</td>\n",
              "      <td>http://www.wikidata.org/entity/Q666242</td>\n",
              "      <td>flatbread</td>\n",
              "      <td>http://www.wikidata.org/entity/Q19861951</td>\n",
              "      <td>type of food or dish</td>\n",
              "    </tr>\n",
              "    <tr>\n",
              "      <th>1</th>\n",
              "      <td>http://www.wikidata.org/entity/Q177</td>\n",
              "      <td>pizza</td>\n",
              "      <td>http://www.wikidata.org/entity/Q746549</td>\n",
              "      <td>dish</td>\n",
              "      <td>http://www.wikidata.org/entity/Q19861951</td>\n",
              "      <td>type of food or dish</td>\n",
              "    </tr>\n",
              "    <tr>\n",
              "      <th>2</th>\n",
              "      <td>http://www.wikidata.org/entity/Q177</td>\n",
              "      <td>pizza</td>\n",
              "      <td>http://www.wikidata.org/entity/Q3245975</td>\n",
              "      <td>finished good</td>\n",
              "      <td>http://www.wikidata.org/entity/Q19861951</td>\n",
              "      <td>type of food or dish</td>\n",
              "    </tr>\n",
              "    <tr>\n",
              "      <th>3</th>\n",
              "      <td>http://www.wikidata.org/entity/Q177</td>\n",
              "      <td>pizza</td>\n",
              "      <td>http://www.wikidata.org/entity/Q13485782</td>\n",
              "      <td>convenience food</td>\n",
              "      <td>http://www.wikidata.org/entity/Q19861951</td>\n",
              "      <td>type of food or dish</td>\n",
              "    </tr>\n",
              "    <tr>\n",
              "      <th>4</th>\n",
              "      <td>http://www.wikidata.org/entity/Q177</td>\n",
              "      <td>pizza</td>\n",
              "      <td>http://www.wikidata.org/entity/Q26996677</td>\n",
              "      <td>Pizzas, casseroles</td>\n",
              "      <td>http://www.wikidata.org/entity/Q19861951</td>\n",
              "      <td>type of food or dish</td>\n",
              "    </tr>\n",
              "  </tbody>\n",
              "</table>\n",
              "</div>"
            ],
            "text/plain": [
              "                              subclass  ...      instance_ofLabel\n",
              "0  http://www.wikidata.org/entity/Q177  ...  type of food or dish\n",
              "1  http://www.wikidata.org/entity/Q177  ...  type of food or dish\n",
              "2  http://www.wikidata.org/entity/Q177  ...  type of food or dish\n",
              "3  http://www.wikidata.org/entity/Q177  ...  type of food or dish\n",
              "4  http://www.wikidata.org/entity/Q177  ...  type of food or dish\n",
              "\n",
              "[5 rows x 6 columns]"
            ]
          },
          "metadata": {
            "tags": []
          },
          "execution_count": 100
        }
      ]
    },
    {
      "cell_type": "code",
      "metadata": {
        "id": "VcV5JSmfEC1D",
        "colab_type": "code",
        "colab": {
          "base_uri": "https://localhost:8080/",
          "height": 1000
        },
        "outputId": "377de20e-e32a-417d-81e0-611cd8a1e14d"
      },
      "source": [
        "df_dish.groupby(['TasteAtlas_ID', 'subclass_ofLabel'], as_index=False)['subclass'].agg('count').TasteAtlas_ID.values.tolist()"
      ],
      "execution_count": 104,
      "outputs": [
        {
          "output_type": "execute_result",
          "data": {
            "text/plain": [
              "['a-gei',\n",
              " 'agedashi-tofu',\n",
              " 'ajapsandali',\n",
              " 'alheira',\n",
              " 'aloo-gobi',\n",
              " 'aloo-gobi',\n",
              " 'aloo-gobi',\n",
              " 'amatriciana',\n",
              " 'amatriciana',\n",
              " 'ambuyat',\n",
              " 'ambuyat',\n",
              " 'anticucho',\n",
              " 'aperitivo',\n",
              " 'apohtin',\n",
              " 'apohtin',\n",
              " 'apohtin',\n",
              " 'apohtin',\n",
              " 'apohtin',\n",
              " 'apple-sauce',\n",
              " 'apple-sauce',\n",
              " 'arroz-con-coco',\n",
              " 'arroz-con-coco',\n",
              " 'arroz-junto',\n",
              " 'arroz-rojo',\n",
              " 'arroz-rojo',\n",
              " 'aushak',\n",
              " 'avocado-toast',\n",
              " 'avocado-toast',\n",
              " 'bacalhau-a-bras',\n",
              " 'bacalhau-a-bras',\n",
              " 'bacon-egg-and-cheese -sandwich',\n",
              " 'bacon-egg-and-cheese -sandwich',\n",
              " 'badrijani',\n",
              " 'baingan-bharta',\n",
              " 'baked-beans',\n",
              " 'balut',\n",
              " 'balut',\n",
              " 'banana-bread',\n",
              " 'banana-bread',\n",
              " 'banku',\n",
              " 'bannock',\n",
              " 'bannock',\n",
              " 'banosh',\n",
              " 'barreado',\n",
              " 'beef-bourguignon',\n",
              " 'beef-chow-fun',\n",
              " 'beef-chow-fun',\n",
              " 'beef-noodle-soup',\n",
              " 'beef-noodle-soup',\n",
              " 'beef-noodle-soup',\n",
              " 'beef-stroganoff',\n",
              " 'beef-stroganoff',\n",
              " 'beef-wellington',\n",
              " 'beef-wellington',\n",
              " 'beignets',\n",
              " 'beignets',\n",
              " 'bethmannchen',\n",
              " 'bethmannchen',\n",
              " 'biryani',\n",
              " 'biryani',\n",
              " 'biryani',\n",
              " 'biryani',\n",
              " 'biryani',\n",
              " 'biryani',\n",
              " 'bison-burger',\n",
              " 'bison-burger',\n",
              " 'bison-burger',\n",
              " 'black-peas',\n",
              " 'black-sesame-soup',\n",
              " 'black-sesame-soup',\n",
              " 'bolo-do-caco',\n",
              " 'bolo-do-caco',\n",
              " 'bouillabaisse',\n",
              " 'bouillabaisse',\n",
              " 'bouillabaisse',\n",
              " 'briam',\n",
              " 'bruschetta',\n",
              " 'bruschetta',\n",
              " 'bubur-ayam',\n",
              " 'bubur-ayam',\n",
              " 'bun-cha',\n",
              " 'burger',\n",
              " 'burger',\n",
              " 'burger',\n",
              " 'butadon',\n",
              " 'butadon',\n",
              " 'butadon',\n",
              " 'cacik',\n",
              " 'cacik',\n",
              " 'cacik',\n",
              " 'cacik',\n",
              " 'calulu',\n",
              " 'calulu',\n",
              " 'calulu',\n",
              " 'cantonese-seafood-soup',\n",
              " 'cantonese-seafood-soup',\n",
              " 'cantonese-seafood-soup',\n",
              " 'capuns',\n",
              " 'carapulcra',\n",
              " 'carapulcra',\n",
              " 'carcerato',\n",
              " 'casunziei',\n",
              " 'casunziei',\n",
              " 'cauliflower-cheese',\n",
              " 'cauliflower-cheese',\n",
              " 'century-egg',\n",
              " 'century-egg',\n",
              " 'cevapi',\n",
              " 'cha-siu-bao',\n",
              " 'cha-siu-bao',\n",
              " 'cha-siu-bao',\n",
              " 'chahan',\n",
              " 'chahan',\n",
              " 'chahan',\n",
              " 'chairo',\n",
              " 'chairo',\n",
              " 'chairo',\n",
              " 'chanpuru',\n",
              " 'chanpuru',\n",
              " 'chanpuru',\n",
              " 'chen-mapo-doufu',\n",
              " 'chistorra',\n",
              " 'choucroute-garnie',\n",
              " 'choucroute-garnie',\n",
              " 'chow-mein',\n",
              " 'chukadon',\n",
              " 'chukadon',\n",
              " 'chukadon',\n",
              " 'ciccioli',\n",
              " 'ciorba-de-burta',\n",
              " 'cock-a-leekie',\n",
              " 'cock-a-leekie',\n",
              " 'cock-a-leekie',\n",
              " 'confit-de-canard',\n",
              " 'coppetta',\n",
              " 'coppetta',\n",
              " 'crepes',\n",
              " 'crepes',\n",
              " 'croque-monsieur',\n",
              " 'croque-monsieur',\n",
              " 'croque-monsieur',\n",
              " 'crumble',\n",
              " 'crumble',\n",
              " 'curry',\n",
              " 'currywurst',\n",
              " 'dal-makhani',\n",
              " 'dal-makhani',\n",
              " 'dampfnudel',\n",
              " 'dampfnudel',\n",
              " 'dashi',\n",
              " 'dashi',\n",
              " 'dhokla',\n",
              " 'disznosajt',\n",
              " 'disznosajt',\n",
              " 'disznosajt',\n",
              " 'disznosajt',\n",
              " 'donburi',\n",
              " 'donburi',\n",
              " 'doughnut',\n",
              " 'doughnut',\n",
              " 'doughnut',\n",
              " 'doupi',\n",
              " 'duck-rice',\n",
              " 'dushbara',\n",
              " 'dushbara',\n",
              " 'edamame',\n",
              " 'edamame',\n",
              " 'edamame',\n",
              " 'eetch',\n",
              " 'efo-riro',\n",
              " 'egg-tart',\n",
              " 'egg-tart',\n",
              " 'egg-tart',\n",
              " 'eggs-benedict',\n",
              " 'eggs-benedict',\n",
              " 'empanada-gallega',\n",
              " 'empanadas',\n",
              " 'empanadas',\n",
              " 'eriste',\n",
              " 'eriste',\n",
              " 'ezogelin-corbas',\n",
              " 'ezogelin-corbas',\n",
              " 'ezogelin-corbas',\n",
              " 'faggots',\n",
              " 'fajitas',\n",
              " 'farinata',\n",
              " 'faworki',\n",
              " 'fegato-alla-veneziana',\n",
              " 'feijao-tropeiro',\n",
              " 'flaouna',\n",
              " 'flaouna',\n",
              " 'focaccia',\n",
              " 'focaccia',\n",
              " 'frikadeller',\n",
              " 'frikadeller',\n",
              " 'frita',\n",
              " 'garnacha',\n",
              " 'garnacha',\n",
              " 'gazpacho',\n",
              " 'gazpacho',\n",
              " 'gazpacho',\n",
              " 'gazpachos-manchegos',\n",
              " 'gazpachos-manchegos',\n",
              " 'general-tsos-chicken',\n",
              " 'general-tsos-chicken',\n",
              " 'ginger-beef',\n",
              " 'ginger-beef',\n",
              " 'gnocchi-di-semolino-alla-romana',\n",
              " 'gnocchi-di-semolino-alla-romana',\n",
              " 'gofio-canario',\n",
              " 'gofio-canario',\n",
              " 'gopchang-gui',\n",
              " 'griesmeelpudding',\n",
              " 'griesmeelpudding',\n",
              " 'griesmeelpudding',\n",
              " 'gyros',\n",
              " 'gyros',\n",
              " 'gyros',\n",
              " 'gyros',\n",
              " 'gyudon',\n",
              " 'gyudon',\n",
              " 'gyudon',\n",
              " 'gyukatsu',\n",
              " 'gyukatsu',\n",
              " 'gyukatsu',\n",
              " 'hallaca',\n",
              " 'hallaca',\n",
              " 'hallaca',\n",
              " 'halwa-poori',\n",
              " 'hiyashi-chuka',\n",
              " 'hiyashi-chuka',\n",
              " 'hokkien-fried-rice',\n",
              " 'hokkien-fried-rice',\n",
              " 'hokkien-fried-rice',\n",
              " 'hot-dog',\n",
              " 'hot-dog',\n",
              " 'hot-dog',\n",
              " 'hot-dog',\n",
              " 'humita',\n",
              " 'iahnie',\n",
              " 'iahnie',\n",
              " 'imam-bayildi',\n",
              " 'imqaret',\n",
              " 'inegol-kofte',\n",
              " 'inegol-kofte',\n",
              " 'inegol-kofte',\n",
              " 'irish-stew',\n",
              " 'irish-stew',\n",
              " 'isaw',\n",
              " 'jellied-eels',\n",
              " 'jokbal',\n",
              " 'jokbal',\n",
              " 'jokbal',\n",
              " 'joumou',\n",
              " 'joumou',\n",
              " 'joumou',\n",
              " 'kapustnica',\n",
              " 'kapustnica',\n",
              " 'kapustnica',\n",
              " 'karaage',\n",
              " 'kare-pan',\n",
              " 'kare-pan',\n",
              " 'karedok',\n",
              " 'karedok',\n",
              " 'karjalanpaisti',\n",
              " 'katuv-sleh',\n",
              " 'kavarma',\n",
              " 'kebab',\n",
              " 'khao-lam',\n",
              " 'kig-ha-farz',\n",
              " 'kig-ha-farz',\n",
              " 'kimchi',\n",
              " 'kimchi',\n",
              " 'kimchi',\n",
              " 'kljukusa',\n",
              " 'kokis',\n",
              " 'koliva',\n",
              " 'koliva',\n",
              " 'koliva',\n",
              " 'konigsberger-klopse',\n",
              " 'kuku',\n",
              " 'kuku',\n",
              " 'kushari',\n",
              " 'kuymak',\n",
              " 'kuzu-kelle',\n",
              " 'lablabi',\n",
              " 'labskaus',\n",
              " 'labskaus',\n",
              " 'lagman',\n",
              " 'lagman',\n",
              " 'lanttulaatikko',\n",
              " 'lardy-cake',\n",
              " 'lardy-cake',\n",
              " 'lasagnette',\n",
              " 'lasagnette',\n",
              " 'lasagnette',\n",
              " 'leipziger-allerlei',\n",
              " 'leniwe-pierogi',\n",
              " 'levengi',\n",
              " 'lountza',\n",
              " 'mamaliga',\n",
              " 'manakish',\n",
              " 'manakish',\n",
              " 'manti',\n",
              " 'manti',\n",
              " 'matsumaezuke',\n",
              " 'mattar-paneer',\n",
              " 'mee-siam',\n",
              " 'mee-siam',\n",
              " 'meringue',\n",
              " 'meringue',\n",
              " 'meringue',\n",
              " 'migas',\n",
              " 'mitarashi-dango',\n",
              " 'mitarashi-dango',\n",
              " 'mofongo',\n",
              " 'mojo',\n",
              " 'mojo',\n",
              " 'montadito',\n",
              " 'moussaka',\n",
              " 'mousse',\n",
              " 'mousse',\n",
              " 'mousse',\n",
              " 'mousse-de-foie-de-canard-au-porto',\n",
              " 'mousse-de-foie-de-canard-au-porto',\n",
              " 'mousse-de-foie-de-canard-au-porto',\n",
              " 'muhammar',\n",
              " 'muhammar',\n",
              " 'mulukhiyah',\n",
              " 'musakhan',\n",
              " 'musakhan',\n",
              " 'nabemono',\n",
              " 'nabemono',\n",
              " 'nabemono',\n",
              " 'naengmyeon',\n",
              " 'naengmyeon',\n",
              " 'naengmyeon',\n",
              " 'nasi-kandar',\n",
              " 'nikuman',\n",
              " 'nikuman',\n",
              " 'nuomici',\n",
              " 'nuomici',\n",
              " 'okonomiyaki',\n",
              " 'olivier-salad',\n",
              " 'olivier-salad',\n",
              " 'olivier-salad',\n",
              " 'olivier-salad',\n",
              " 'omurice',\n",
              " 'omurice',\n",
              " 'onigiri',\n",
              " 'onigiri',\n",
              " 'ossobuco',\n",
              " 'ossobuco',\n",
              " 'ossobuco',\n",
              " 'ovocne-knedliky',\n",
              " 'oyakodon',\n",
              " 'oyakodon',\n",
              " 'oyakodon',\n",
              " 'oyster-omelet',\n",
              " 'oyster-omelet',\n",
              " 'pa-amb-tomaquet',\n",
              " 'paksiw',\n",
              " 'pamonha',\n",
              " 'pamonha',\n",
              " 'pancit-lomi',\n",
              " 'pao-de-queijo',\n",
              " 'pao-de-queijo',\n",
              " 'pao-de-queijo',\n",
              " 'parfait',\n",
              " 'parfait',\n",
              " 'parmigiana',\n",
              " 'parmigiana',\n",
              " 'pato-no-tucupi',\n",
              " 'peanut-butter-and-jelly-sandwich',\n",
              " 'peanut-butter-and-jelly-sandwich',\n",
              " 'pho',\n",
              " 'pho',\n",
              " 'pho',\n",
              " 'pho',\n",
              " 'picante-a-la-tacnena',\n",
              " 'pilaf',\n",
              " 'pilaf',\n",
              " 'pirozhki',\n",
              " 'pirozhki',\n",
              " 'pirozhki',\n",
              " 'pizza',\n",
              " 'pizza',\n",
              " 'pizza',\n",
              " 'pizza',\n",
              " 'pizza',\n",
              " 'pizza-cake',\n",
              " 'platano-frito',\n",
              " 'plateau-de-fruits-de-mer',\n",
              " 'plateau-de-fruits-de-mer',\n",
              " 'polenta',\n",
              " 'polenta',\n",
              " 'polenta-taragna',\n",
              " 'polpette',\n",
              " 'popara',\n",
              " 'porchetta',\n",
              " 'porchetta',\n",
              " 'porotos-con-rienda',\n",
              " 'porotos-con-rienda',\n",
              " 'porotos-con-rienda',\n",
              " 'pot-roast',\n",
              " 'pot-roast',\n",
              " 'potted-shrimps',\n",
              " 'potted-shrimps',\n",
              " 'presskopf',\n",
              " 'presskopf',\n",
              " 'presskopf',\n",
              " 'presskopf',\n",
              " 'puchero',\n",
              " 'puddings',\n",
              " 'puddings',\n",
              " 'pumpernickel',\n",
              " 'pumpernickel',\n",
              " 'quesadilla',\n",
              " 'quiche',\n",
              " 'quiche',\n",
              " 'quiche',\n",
              " 'quiche',\n",
              " 'rakott-krumpli',\n",
              " 'ratatouille',\n",
              " 'ratatouille',\n",
              " 'rigatoni-con-la-pajata',\n",
              " 'rinones-al-jerez',\n",
              " 'riz-casimir',\n",
              " 'roast-goose',\n",
              " 'roti',\n",
              " 'roti',\n",
              " 'roti',\n",
              " 'roti',\n",
              " 'roti',\n",
              " 'sai-mai-lou',\n",
              " 'sai-mai-lou',\n",
              " 'sai-mai-lou',\n",
              " 'salmorejo',\n",
              " 'salmorejo',\n",
              " 'salmorejo',\n",
              " 'salmorejo',\n",
              " 'salzburger-nockerl',\n",
              " 'salzburger-nockerl',\n",
              " 'salzburger-nockerl',\n",
              " 'samosa',\n",
              " 'samosa',\n",
              " 'samosa',\n",
              " 'sayadieh',\n",
              " 'sciatt',\n",
              " 'scotch-egg',\n",
              " 'scotch-egg',\n",
              " 'seco-de-chivo',\n",
              " 'shabu-shabu',\n",
              " 'shabu-shabu',\n",
              " 'shabu-shabu',\n",
              " 'shashlik',\n",
              " 'shashlik',\n",
              " 'shish-kebab',\n",
              " 'shotis-puri',\n",
              " 'shotis-puri',\n",
              " 'siemieniotka',\n",
              " 'siemieniotka',\n",
              " 'sigara-boregi',\n",
              " 'sigara-boregi',\n",
              " 'sigara-boregi',\n",
              " 'slinger',\n",
              " 'socca',\n",
              " 'sopa-de-tortilla',\n",
              " 'sopa-de-tortilla',\n",
              " 'sorrel-soup',\n",
              " 'sorrel-soup',\n",
              " 'souffle',\n",
              " 'souffle',\n",
              " 'souffle-au-fromage',\n",
              " 'souffle-au-fromage',\n",
              " 'souvlaki',\n",
              " 'spag-bol',\n",
              " 'speckknodel',\n",
              " 'spiced-beef',\n",
              " 'spiced-beef',\n",
              " 'stamppot',\n",
              " 'stamppot',\n",
              " 'stracciatella-alla-romana-1',\n",
              " 'stracciatella-alla-romana-1',\n",
              " 'stracciatella-alla-romana-1',\n",
              " 'strammer-max',\n",
              " 'strammer-max',\n",
              " 'struklji',\n",
              " 'sukiyaki',\n",
              " 'sukiyaki',\n",
              " 'sukiyaki',\n",
              " 'svickova',\n",
              " 'svickova',\n",
              " 'taboon',\n",
              " 'taboon',\n",
              " 'tacos',\n",
              " 'tacos',\n",
              " 'tacos',\n",
              " 'tacos',\n",
              " 'tacos',\n",
              " 'taiwanese-scallion-pancake',\n",
              " 'tamagodon',\n",
              " 'tamagodon',\n",
              " 'tamal',\n",
              " 'tangbao',\n",
              " 'tangbao',\n",
              " 'tartiflette',\n",
              " 'tartiflette',\n",
              " 'tea-egg',\n",
              " 'tea-egg',\n",
              " 'tejate',\n",
              " 'tejate',\n",
              " 'tekkadon',\n",
              " 'tekkadon',\n",
              " 'tekkadon',\n",
              " 'tekkadon',\n",
              " 'tekkadon',\n",
              " 'tenshindon',\n",
              " 'tenshindon',\n",
              " 'tenshindon',\n",
              " 'teppanyaki',\n",
              " 'thorramatur',\n",
              " 'tikka',\n",
              " 'tikka',\n",
              " 'toad-in-the-hole',\n",
              " 'tomates-rellenos',\n",
              " 'tomates-rellenos',\n",
              " 'tong-sui',\n",
              " 'tong-sui',\n",
              " 'torrijas',\n",
              " 'toyga',\n",
              " 'toyga',\n",
              " 'turducken',\n",
              " 'tzatziki',\n",
              " 'tzatziki',\n",
              " 'tzatziki',\n",
              " 'tzatziki',\n",
              " 'welsh-rarebit',\n",
              " 'welsh-rarebit',\n",
              " 'yakiniku',\n",
              " 'yakitori',\n",
              " 'yayla-corbas',\n",
              " 'yayla-corbas',\n",
              " 'yuvalama',\n",
              " 'yuvalama',\n",
              " 'zelnacka',\n",
              " 'zelnacka',\n",
              " 'zelnacka',\n",
              " 'zhajiangmian',\n",
              " 'zhajiangmian',\n",
              " 'zhangcha-duck',\n",
              " 'ziva',\n",
              " 'ziva']"
            ]
          },
          "metadata": {
            "tags": []
          },
          "execution_count": 104
        }
      ]
    },
    {
      "cell_type": "code",
      "metadata": {
        "id": "7qxCjs0NVwmj",
        "colab_type": "code",
        "colab": {
          "base_uri": "https://localhost:8080/",
          "height": 54
        },
        "outputId": "7e9cf669-3d17-4cc2-c87b-27e8e85f7cab"
      },
      "source": [
        "dish_list = sorted([re.sub(\"q[0-9]+\",\"\",item.lower()) \\\n",
        "                    for item in df_dish.groupby(\\\n",
        "                                                ['TasteAtlas_ID', 'subclass_ofLabel'], as_index=False)\\\n",
        "                    .agg('count').TasteAtlas_ID.values.tolist()])\n",
        "\n",
        "dish_list = sorted([re.sub(\"\\-\", \" \",item) for item in dish_list])\n",
        "\n",
        "dish_counter = Counter(dish_list)\n",
        "\n",
        "dish_list = []\n",
        "for key in dish_counter.keys():\n",
        "  if len(key) != 0:\n",
        "    dish_list.append(key)\n",
        "print(dish_list)"
      ],
      "execution_count": 106,
      "outputs": [
        {
          "output_type": "stream",
          "text": [
            "['a gei', 'agedashi tofu', 'ajapsandali', 'alheira', 'aloo gobi', 'amatriciana', 'ambuyat', 'anticucho', 'aperitivo', 'apohtin', 'apple sauce', 'arroz con coco', 'arroz junto', 'arroz rojo', 'aushak', 'avocado toast', 'bacalhau a bras', 'bacon egg and cheese  sandwich', 'badrijani', 'baingan bharta', 'baked beans', 'balut', 'banana bread', 'banku', 'bannock', 'banosh', 'barreado', 'beef bourguignon', 'beef chow fun', 'beef noodle soup', 'beef stroganoff', 'beef wellington', 'beignets', 'bethmannchen', 'biryani', 'bison burger', 'black peas', 'black sesame soup', 'bolo do caco', 'bouillabaisse', 'briam', 'bruschetta', 'bubur ayam', 'bun cha', 'burger', 'butadon', 'cacik', 'calulu', 'cantonese seafood soup', 'capuns', 'carapulcra', 'carcerato', 'casunziei', 'cauliflower cheese', 'century egg', 'cevapi', 'cha siu bao', 'chahan', 'chairo', 'chanpuru', 'chen mapo doufu', 'chistorra', 'choucroute garnie', 'chow mein', 'chukadon', 'ciccioli', 'ciorba de burta', 'cock a leekie', 'confit de canard', 'coppetta', 'crepes', 'croque monsieur', 'crumble', 'curry', 'currywurst', 'dal makhani', 'dampfnudel', 'dashi', 'dhokla', 'disznosajt', 'donburi', 'doughnut', 'doupi', 'duck rice', 'dushbara', 'edamame', 'eetch', 'efo riro', 'egg tart', 'eggs benedict', 'empanada gallega', 'empanadas', 'eriste', 'ezogelin corbas', 'faggots', 'fajitas', 'farinata', 'faworki', 'fegato alla veneziana', 'feijao tropeiro', 'flaouna', 'focaccia', 'frikadeller', 'frita', 'garnacha', 'gazpacho', 'gazpachos manchegos', 'general tsos chicken', 'ginger beef', 'gnocchi di semolino alla romana', 'gofio canario', 'gopchang gui', 'griesmeelpudding', 'gyros', 'gyudon', 'gyukatsu', 'hallaca', 'halwa poori', 'hiyashi chuka', 'hokkien fried rice', 'hot dog', 'humita', 'iahnie', 'imam bayildi', 'imqaret', 'inegol kofte', 'irish stew', 'isaw', 'jellied eels', 'jokbal', 'joumou', 'kapustnica', 'karaage', 'kare pan', 'karedok', 'karjalanpaisti', 'katuv sleh', 'kavarma', 'kebab', 'khao lam', 'kig ha farz', 'kimchi', 'kljukusa', 'kokis', 'koliva', 'konigsberger klopse', 'kuku', 'kushari', 'kuymak', 'kuzu kelle', 'lablabi', 'labskaus', 'lagman', 'lanttulaatikko', 'lardy cake', 'lasagnette', 'leipziger allerlei', 'leniwe pierogi', 'levengi', 'lountza', 'mamaliga', 'manakish', 'manti', 'matsumaezuke', 'mattar paneer', 'mee siam', 'meringue', 'migas', 'mitarashi dango', 'mofongo', 'mojo', 'montadito', 'moussaka', 'mousse', 'mousse de foie de canard au porto', 'muhammar', 'mulukhiyah', 'musakhan', 'nabemono', 'naengmyeon', 'nasi kandar', 'nikuman', 'nuomici', 'okonomiyaki', 'olivier salad', 'omurice', 'onigiri', 'ossobuco', 'ovocne knedliky', 'oyakodon', 'oyster omelet', 'pa amb tomaquet', 'paksiw', 'pamonha', 'pancit lomi', 'pao de queijo', 'parfait', 'parmigiana', 'pato no tucupi', 'peanut butter and jelly sandwich', 'pho', 'picante a la tacnena', 'pilaf', 'pirozhki', 'pizza', 'pizza cake', 'platano frito', 'plateau de fruits de mer', 'polenta', 'polenta taragna', 'polpette', 'popara', 'porchetta', 'porotos con rienda', 'pot roast', 'potted shrimps', 'presskopf', 'puchero', 'puddings', 'pumpernickel', 'quesadilla', 'quiche', 'rakott krumpli', 'ratatouille', 'rigatoni con la pajata', 'rinones al jerez', 'riz casimir', 'roast goose', 'roti', 'sai mai lou', 'salmorejo', 'salzburger nockerl', 'samosa', 'sayadieh', 'sciatt', 'scotch egg', 'seco de chivo', 'shabu shabu', 'shashlik', 'shish kebab', 'shotis puri', 'siemieniotka', 'sigara boregi', 'slinger', 'socca', 'sopa de tortilla', 'sorrel soup', 'souffle', 'souffle au fromage', 'souvlaki', 'spag bol', 'speckknodel', 'spiced beef', 'stamppot', 'stracciatella alla romana 1', 'strammer max', 'struklji', 'sukiyaki', 'svickova', 'taboon', 'tacos', 'taiwanese scallion pancake', 'tamagodon', 'tamal', 'tangbao', 'tartiflette', 'tea egg', 'tejate', 'tekkadon', 'tenshindon', 'teppanyaki', 'thorramatur', 'tikka', 'toad in the hole', 'tomates rellenos', 'tong sui', 'torrijas', 'toyga', 'turducken', 'tzatziki', 'welsh rarebit', 'yakiniku', 'yakitori', 'yayla corbas', 'yuvalama', 'zelnacka', 'zhajiangmian', 'zhangcha duck', 'ziva']\n"
          ],
          "name": "stdout"
        }
      ]
    },
    {
      "cell_type": "code",
      "metadata": {
        "id": "gi9nOJppXF4v",
        "colab_type": "code",
        "colab": {
          "base_uri": "https://localhost:8080/",
          "height": 34
        },
        "outputId": "a4398066-4e51-457f-c3bb-508cc0f7648c"
      },
      "source": [
        "full_list = sorted(dish_list + rice_dish_list + soup_list + noodle_list + salad_list)\n",
        "full_list = sorted([item for item in full_list if not item[0].isdigit()])\n",
        "\n",
        "full_counter = Counter(full_list)\n",
        "full_list=[]\n",
        "for key in full_counter.keys():\n",
        "  if len(key) != 0:\n",
        "    full_list.append(key)\n",
        "print(len(full_list))"
      ],
      "execution_count": 120,
      "outputs": [
        {
          "output_type": "stream",
          "text": [
            "871\n"
          ],
          "name": "stdout"
        }
      ]
    },
    {
      "cell_type": "code",
      "metadata": {
        "id": "cZbv7Gu1creh",
        "colab_type": "code",
        "colab": {}
      },
      "source": [
        "dish_keywords = np.array(full_list)\n",
        "np.savez(\"dish_keywords\", dish_keywords)"
      ],
      "execution_count": 0,
      "outputs": []
    },
    {
      "cell_type": "code",
      "metadata": {
        "id": "Agc095MFjJvj",
        "colab_type": "code",
        "colab": {}
      },
      "source": [
        "\"label\": \"DISH\", \"pattern\": [{'LOWER': 'agedashi'}, {'LOWER': 'tofu'}]"
      ],
      "execution_count": 0,
      "outputs": []
    },
    {
      "cell_type": "code",
      "metadata": {
        "id": "EVP6o9HkjMX5",
        "colab_type": "code",
        "colab": {}
      },
      "source": [
        "major_list = []\n",
        "for item in full_list[:10]:\n",
        "  pattern = []\n",
        "  line = {}\n",
        "  for word in item.split():\n",
        "    pattern.append('{\"LOWER\": \"' + word + '\"}')\n",
        "#  line = '{\"label\": \"DISH\", \"pattern\": ' + str(pattern) + '}'\n",
        "  line['label'] = \"DISH\"\n",
        "  line['pattern'] = pattern\n",
        "\n",
        "  major_list.append(line)\n",
        "\n",
        "#  major_list.append(re.sub(\"\\\\'\",\"\",line))"
      ],
      "execution_count": 0,
      "outputs": []
    },
    {
      "cell_type": "code",
      "metadata": {
        "id": "J3T_U23BlqKh",
        "colab_type": "code",
        "colab": {
          "base_uri": "https://localhost:8080/",
          "height": 243
        },
        "outputId": "34923061-9085-4df1-cda7-ca68886bfabf"
      },
      "source": [
        "major_list"
      ],
      "execution_count": 148,
      "outputs": [
        {
          "output_type": "execute_result",
          "data": {
            "text/plain": [
              "[{'label': 'DISH', 'pattern': ['{\"LOWER\": \"a\"}', '{\"LOWER\": \"gei\"}']},\n",
              " {'label': 'DISH', 'pattern': ['{\"LOWER\": \"a\"}', '{\"LOWER\": \"thoke\"}']},\n",
              " {'label': 'DISH', 'pattern': ['{\"LOWER\": \"acar\"}']},\n",
              " {'label': 'DISH', 'pattern': ['{\"LOWER\": \"acquacotta\"}']},\n",
              " {'label': 'DISH', 'pattern': ['{\"LOWER\": \"agedashi\"}', '{\"LOWER\": \"tofu\"}']},\n",
              " {'label': 'DISH',\n",
              "  'pattern': ['{\"LOWER\": \"aguadito\"}',\n",
              "   '{\"LOWER\": \"de\"}',\n",
              "   '{\"LOWER\": \"pollo\"}']},\n",
              " {'label': 'DISH', 'pattern': ['{\"LOWER\": \"ahtapot\"}', '{\"LOWER\": \"salata\"}']},\n",
              " {'label': 'DISH', 'pattern': ['{\"LOWER\": \"ajapsandali\"}']},\n",
              " {'label': 'DISH', 'pattern': ['{\"LOWER\": \"ajoblanco\"}']},\n",
              " {'label': 'DISH', 'pattern': ['{\"LOWER\": \"akki\"}', '{\"LOWER\": \"rotti\"}']}]"
            ]
          },
          "metadata": {
            "tags": []
          },
          "execution_count": 148
        }
      ]
    },
    {
      "cell_type": "code",
      "metadata": {
        "id": "MBgkqlTLXe_-",
        "colab_type": "code",
        "colab": {
          "base_uri": "https://localhost:8080/",
          "height": 539
        },
        "outputId": "4c4bab23-3ceb-4249-d583-fe7f499d257e"
      },
      "source": [
        "full_list[:30]"
      ],
      "execution_count": 124,
      "outputs": [
        {
          "output_type": "execute_result",
          "data": {
            "text/plain": [
              "['a gei',\n",
              " 'a thoke',\n",
              " 'acar',\n",
              " 'acquacotta',\n",
              " 'agedashi tofu',\n",
              " 'aguadito de pollo',\n",
              " 'ahtapot salata',\n",
              " 'ajapsandali',\n",
              " 'ajoblanco',\n",
              " 'akki rotti',\n",
              " 'alheira',\n",
              " 'alicot',\n",
              " 'aloo gobi',\n",
              " 'amatriciana',\n",
              " 'ambuyat',\n",
              " 'amiedi',\n",
              " 'amish preaching soup',\n",
              " 'anticucho',\n",
              " 'aperitivo',\n",
              " 'apohtin',\n",
              " 'apple sauce',\n",
              " 'arab salad',\n",
              " 'arabaşı soup',\n",
              " 'arroz caldo',\n",
              " 'arroz carreteiro',\n",
              " 'arroz con coco',\n",
              " 'arroz con leche',\n",
              " 'arroz con pollo',\n",
              " 'arroz doce',\n",
              " 'arroz junto']"
            ]
          },
          "metadata": {
            "tags": []
          },
          "execution_count": 124
        }
      ]
    },
    {
      "cell_type": "code",
      "metadata": {
        "id": "iKgRaeNHXllT",
        "colab_type": "code",
        "colab": {}
      },
      "source": [
        ""
      ],
      "execution_count": 0,
      "outputs": []
    }
  ]
}