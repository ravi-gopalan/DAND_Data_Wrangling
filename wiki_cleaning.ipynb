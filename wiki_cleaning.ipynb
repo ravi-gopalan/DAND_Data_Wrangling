{
  "nbformat": 4,
  "nbformat_minor": 0,
  "metadata": {
    "colab": {
      "name": "wiki-cleaning.ipynb",
      "provenance": [],
      "include_colab_link": true
    },
    "kernelspec": {
      "name": "python3",
      "display_name": "Python 3"
    }
  },
  "cells": [
    {
      "cell_type": "markdown",
      "metadata": {
        "id": "view-in-github",
        "colab_type": "text"
      },
      "source": [
        "<a href=\"https://colab.research.google.com/github/ravi-gopalan/DAND_Data_Wrangling/blob/master/wiki_cleaning.ipynb\" target=\"_parent\"><img src=\"https://colab.research.google.com/assets/colab-badge.svg\" alt=\"Open In Colab\"/></a>"
      ]
    },
    {
      "cell_type": "code",
      "metadata": {
        "id": "V-U-Z3Intnln",
        "colab_type": "code",
        "colab": {
          "base_uri": "https://localhost:8080/",
          "height": 141
        },
        "outputId": "e0ced6f8-a7fd-4f78-d6d3-147598a2df5e"
      },
      "source": [
        "from google.colab import drive\n",
        "drive.mount('/gdrive')\n",
        "%cd /gdrive"
      ],
      "execution_count": 1,
      "outputs": [
        {
          "output_type": "stream",
          "text": [
            "Go to this URL in a browser: https://accounts.google.com/o/oauth2/auth?client_id=947318989803-6bn6qk8qdgf4n4g3pfee6491hc0brc4i.apps.googleusercontent.com&redirect_uri=urn%3aietf%3awg%3aoauth%3a2.0%3aoob&response_type=code&scope=email%20https%3a%2f%2fwww.googleapis.com%2fauth%2fdocs.test%20https%3a%2f%2fwww.googleapis.com%2fauth%2fdrive%20https%3a%2f%2fwww.googleapis.com%2fauth%2fdrive.photos.readonly%20https%3a%2f%2fwww.googleapis.com%2fauth%2fpeopleapi.readonly\n",
            "\n",
            "Enter your authorization code:\n",
            "··········\n",
            "Mounted at /gdrive\n",
            "/gdrive\n"
          ],
          "name": "stdout"
        }
      ]
    },
    {
      "cell_type": "code",
      "metadata": {
        "id": "kMi3WRWAtp4U",
        "colab_type": "code",
        "colab": {
          "base_uri": "https://localhost:8080/",
          "height": 34
        },
        "outputId": "c0d940da-b6ed-4ea4-e67c-82f9bad5ceea"
      },
      "source": [
        "cd '/gdrive/My Drive/abv_reviews'"
      ],
      "execution_count": 2,
      "outputs": [
        {
          "output_type": "stream",
          "text": [
            "/gdrive/My Drive/abv_reviews\n"
          ],
          "name": "stdout"
        }
      ]
    },
    {
      "cell_type": "code",
      "metadata": {
        "id": "Fg7vFaWzts4f",
        "colab_type": "code",
        "colab": {
          "base_uri": "https://localhost:8080/",
          "height": 330
        },
        "outputId": "a66e1fbc-ddc5-4f4f-acda-d6feb4589208"
      },
      "source": [
        "ls"
      ],
      "execution_count": 3,
      "outputs": [
        {
          "output_type": "stream",
          "text": [
            " CoherenceScore.csv          pyLDAvis_11.html   pyLDAvis_29.html\n",
            " datalist_corrected.csv      pyLDAvis_12.html   pyLDAvis_3.html\n",
            " dictionary                  pyLDAvis_13.html   pyLDAvis_4.html\n",
            " dish_keyword_patterns.npz   pyLDAvis_14.html   pyLDAvis_5.html\n",
            " doc_term_matrix.mm          pyLDAvis_15.html   pyLDAvis_6.html\n",
            " doc_term_matrix.mm.index    pyLDAvis_16.html   pyLDAvis_7.html\n",
            " \u001b[0m\u001b[01;34mimages\u001b[0m/                     pyLDAvis_17.html   pyLDAvis_8.html\n",
            " lda                         pyLDAvis_18.html   pyLDAvis_9.html\n",
            " lda.expElogbeta.npy         pyLDAvis_19.html   reviews_text.csv\n",
            " lda_final                   pyLDAvis_20.html   taste_atlas_info_de.jsonl\n",
            " lda_final.expElogbeta.npy   pyLDAvis_21.html   taste_atlas_info_es.jsonl\n",
            " lda_final.id2word           pyLDAvis_22.html   taste_atlas_info_fr.jsonl\n",
            " lda_final.state             pyLDAvis_23.html   taste_atlas_info_fy.jsonl\n",
            " lda.id2word                 pyLDAvis_24.html   taste_atlas_info_it.jsonl\n",
            " lda.state                   pyLDAvis_25.html   taste_atlas_info.jsonl\n",
            " patterns.jsonl              pyLDAvis_26.html   test_summaries.csv\n",
            " \u001b[01;34mpending_images\u001b[0m/             pyLDAvis_27.html  'Topic coherence plot.png'\n",
            " pyLDAvis_10.html            pyLDAvis_28.html\n"
          ],
          "name": "stdout"
        }
      ]
    },
    {
      "cell_type": "code",
      "metadata": {
        "id": "NNsCHy1Vt5zi",
        "colab_type": "code",
        "colab": {}
      },
      "source": [
        "import pandas as pd\n",
        "import json\n",
        "import numpy as np\n",
        "import timeit\n",
        "\n",
        "from IPython.core.interactiveshell import InteractiveShell\n",
        "InteractiveShell.ast_node_interactivity = \"all\""
      ],
      "execution_count": 0,
      "outputs": []
    },
    {
      "cell_type": "code",
      "metadata": {
        "id": "m3SRBp_ZuDYg",
        "colab_type": "code",
        "colab": {
          "base_uri": "https://localhost:8080/",
          "height": 197
        },
        "outputId": "3180955a-61b4-4307-a00e-e32f1b2a8c4f"
      },
      "source": [
        "df = pd.read_json('taste_atlas_info.jsonl',lines=True)\n",
        "df.head()"
      ],
      "execution_count": 6,
      "outputs": [
        {
          "output_type": "execute_result",
          "data": {
            "text/html": [
              "<div>\n",
              "<style scoped>\n",
              "    .dataframe tbody tr th:only-of-type {\n",
              "        vertical-align: middle;\n",
              "    }\n",
              "\n",
              "    .dataframe tbody tr th {\n",
              "        vertical-align: top;\n",
              "    }\n",
              "\n",
              "    .dataframe thead th {\n",
              "        text-align: right;\n",
              "    }\n",
              "</style>\n",
              "<table border=\"1\" class=\"dataframe\">\n",
              "  <thead>\n",
              "    <tr style=\"text-align: right;\">\n",
              "      <th></th>\n",
              "      <th>name</th>\n",
              "      <th>page</th>\n",
              "      <th>summary</th>\n",
              "      <th>image_ref</th>\n",
              "    </tr>\n",
              "  </thead>\n",
              "  <tbody>\n",
              "    <tr>\n",
              "      <th>0</th>\n",
              "      <td>'mpanatigghi</td>\n",
              "      <td>https://en.wikipedia.org/wiki/Empanada</td>\n",
              "      <td>An empanada is a type of baked or fried turnov...</td>\n",
              "      <td>https://upload.wikimedia.org/wikipedia/commons...</td>\n",
              "    </tr>\n",
              "    <tr>\n",
              "      <th>1</th>\n",
              "      <td>'nduja</td>\n",
              "      <td>https://en.wikipedia.org/wiki/%27Nduja</td>\n",
              "      <td>'Nduja (Calabrian: [nˈduːja]) is a particularl...</td>\n",
              "      <td>https://upload.wikimedia.org/wikipedia/commons...</td>\n",
              "    </tr>\n",
              "    <tr>\n",
              "      <th>2</th>\n",
              "      <td>'ota 'ika</td>\n",
              "      <td>https://en.wikipedia.org/wiki/%27Ota_%27ika</td>\n",
              "      <td>'Ota ika is a Polynesian dish, similar to Lati...</td>\n",
              "      <td>https://upload.wikimedia.org/wikipedia/commons...</td>\n",
              "    </tr>\n",
              "    <tr>\n",
              "      <th>3</th>\n",
              "      <td>.amaro ramazzotti</td>\n",
              "      <td>https://en.wikipedia.org/wiki/Amaro_(liqueur)</td>\n",
              "      <td>Amaro (Italian for \"bitter\") is an Italian her...</td>\n",
              "      <td>https://upload.wikimedia.org/wikipedia/commons...</td>\n",
              "    </tr>\n",
              "    <tr>\n",
              "      <th>4</th>\n",
              "      <td>20th century</td>\n",
              "      <td>https://en.wikipedia.org/wiki/20th_Century_Fox</td>\n",
              "      <td>Twentieth Century Fox Film Corporation (colloq...</td>\n",
              "      <td>https://upload.wikimedia.org/wikipedia/commons...</td>\n",
              "    </tr>\n",
              "  </tbody>\n",
              "</table>\n",
              "</div>"
            ],
            "text/plain": [
              "                name  ...                                          image_ref\n",
              "0       'mpanatigghi  ...  https://upload.wikimedia.org/wikipedia/commons...\n",
              "1             'nduja  ...  https://upload.wikimedia.org/wikipedia/commons...\n",
              "2          'ota 'ika  ...  https://upload.wikimedia.org/wikipedia/commons...\n",
              "3  .amaro ramazzotti  ...  https://upload.wikimedia.org/wikipedia/commons...\n",
              "4       20th century  ...  https://upload.wikimedia.org/wikipedia/commons...\n",
              "\n",
              "[5 rows x 4 columns]"
            ]
          },
          "metadata": {
            "tags": []
          },
          "execution_count": 6
        }
      ]
    },
    {
      "cell_type": "code",
      "metadata": {
        "id": "5VqkZ1XVuNx5",
        "colab_type": "code",
        "colab": {}
      },
      "source": [
        "df['food'] = df['summary'].str.lower().str.contains('food')\n",
        "df['dish'] = df['summary'].str.lower().str.contains('dish')\n",
        "df['drink'] = df['summary'].str.lower().str.contains('drink')\n",
        "df['cheese'] = df['summary'].str.lower().str.contains('cheese')\n",
        "df['cookie'] = df['summary'].str.lower().str.contains('cookie')\n",
        "df['cake'] = df['summary'].str.lower().str.contains('cake')\n",
        "df['dessert'] = df['summary'].str.lower().str.contains('dessert')\n",
        "df['bread'] = df['summary'].str.lower().str.contains('bread')\n",
        "df['wine'] = df['summary'].str.lower().str.contains('wine')\n",
        "df['soup'] = df['summary'].str.lower().str.contains('soup')\n",
        "df['beer'] = df['summary'].str.lower().str.contains('beer')\n",
        "df['chocolate'] = df['summary'].str.lower().str.contains('chocolate')\n",
        "df['cocktail'] = df['summary'].str.lower().str.contains('cocktail')\n",
        "df['pickle'] = df['summary'].str.lower().str.contains('pickle')\n",
        "df['pasta'] = df['summary'].str.lower().str.contains('pasta')\n",
        "df['snack'] = df['summary'].str.lower().str.contains('snack')\n",
        "df['biscuit'] = df['summary'].str.lower().str.contains('biscuit')\n",
        "df['ham'] = df['summary'].str.lower().str.contains('ham')\n",
        "df['pie'] = df['summary'].str.lower().str.contains('pie')\n",
        "df['sandwich'] = df['summary'].str.lower().str.contains('sandwich')\n",
        "df['tofu'] = df['summary'].str.lower().str.contains('tofu')\n",
        "df['pastry'] = (df['summary'].str.lower().str.contains('pastry') | df['summary'].str.lower().str.contains('pastries'))\n",
        "df['porridge'] = df['summary'].str.lower().str.contains('porridge')\n",
        "df['meat'] = df['summary'].str.lower().str.contains('meat')\n",
        "df['stew'] = df['summary'].str.lower().str.contains('stew')\n",
        "df['beverage'] = df['summary'].str.lower().str.contains('beverage')\n",
        "df['paste'] = df['summary'].str.lower().str.contains('paste')\n",
        "df['sauce'] = df['summary'].str.lower().str.contains('sauce')\n",
        "df['sausage'] = df['summary'].str.lower().str.contains('sausage')\n",
        "df['spice'] = df['summary'].str.lower().str.contains('spice')\n",
        "df['seasoning'] = df['summary'].str.lower().str.contains('seasoning')\n",
        "df['salad'] = df['summary'].str.lower().str.contains('salad')\n",
        "df['omelette'] = df['summary'].str.lower().str.contains('omelette')\n",
        "df['sweet'] = df['summary'].str.lower().str.contains('sweet')\n",
        "df['pudding'] = df['summary'].str.lower().str.contains('pudding')\n",
        "df['pizza'] = df['summary'].str.lower().str.contains('pizza')\n",
        "df['bun'] = df['summary'].str.lower().str.contains('bun')\n",
        "df['pork'] = df['summary'].str.lower().str.contains('pork')\n",
        "df['beef'] = df['summary'].str.lower().str.contains('beef')"
      ],
      "execution_count": 0,
      "outputs": []
    },
    {
      "cell_type": "code",
      "metadata": {
        "id": "6ezvPLRLundI",
        "colab_type": "code",
        "colab": {
          "base_uri": "https://localhost:8080/",
          "height": 570
        },
        "outputId": "e2952b95-93a5-4488-9ff9-874d7ce15cea"
      },
      "source": [
        "df.head()"
      ],
      "execution_count": 132,
      "outputs": [
        {
          "output_type": "execute_result",
          "data": {
            "text/html": [
              "<div>\n",
              "<style scoped>\n",
              "    .dataframe tbody tr th:only-of-type {\n",
              "        vertical-align: middle;\n",
              "    }\n",
              "\n",
              "    .dataframe tbody tr th {\n",
              "        vertical-align: top;\n",
              "    }\n",
              "\n",
              "    .dataframe thead th {\n",
              "        text-align: right;\n",
              "    }\n",
              "</style>\n",
              "<table border=\"1\" class=\"dataframe\">\n",
              "  <thead>\n",
              "    <tr style=\"text-align: right;\">\n",
              "      <th></th>\n",
              "      <th>name</th>\n",
              "      <th>page</th>\n",
              "      <th>summary</th>\n",
              "      <th>image_ref</th>\n",
              "      <th>food</th>\n",
              "      <th>dish</th>\n",
              "      <th>drink</th>\n",
              "      <th>cheese</th>\n",
              "      <th>cookie</th>\n",
              "      <th>cake</th>\n",
              "      <th>dessert</th>\n",
              "      <th>bread</th>\n",
              "      <th>wine</th>\n",
              "      <th>soup</th>\n",
              "      <th>beer</th>\n",
              "      <th>chocolate</th>\n",
              "      <th>cocktail</th>\n",
              "      <th>pickle</th>\n",
              "      <th>pasta</th>\n",
              "      <th>snack</th>\n",
              "      <th>biscuit</th>\n",
              "      <th>ham</th>\n",
              "    </tr>\n",
              "  </thead>\n",
              "  <tbody>\n",
              "    <tr>\n",
              "      <th>0</th>\n",
              "      <td>'mpanatigghi</td>\n",
              "      <td>https://en.wikipedia.org/wiki/Empanada</td>\n",
              "      <td>An empanada is a type of baked or fried turnov...</td>\n",
              "      <td>https://upload.wikimedia.org/wikipedia/commons...</td>\n",
              "      <td>False</td>\n",
              "      <td>False</td>\n",
              "      <td>False</td>\n",
              "      <td>True</td>\n",
              "      <td>False</td>\n",
              "      <td>False</td>\n",
              "      <td>False</td>\n",
              "      <td>True</td>\n",
              "      <td>False</td>\n",
              "      <td>False</td>\n",
              "      <td>False</td>\n",
              "      <td>False</td>\n",
              "      <td>False</td>\n",
              "      <td>False</td>\n",
              "      <td>False</td>\n",
              "      <td>False</td>\n",
              "      <td>False</td>\n",
              "      <td>False</td>\n",
              "    </tr>\n",
              "    <tr>\n",
              "      <th>1</th>\n",
              "      <td>'nduja</td>\n",
              "      <td>https://en.wikipedia.org/wiki/%27Nduja</td>\n",
              "      <td>'Nduja (Calabrian: [nˈduːja]) is a particularl...</td>\n",
              "      <td>https://upload.wikimedia.org/wikipedia/commons...</td>\n",
              "      <td>False</td>\n",
              "      <td>True</td>\n",
              "      <td>False</td>\n",
              "      <td>True</td>\n",
              "      <td>False</td>\n",
              "      <td>False</td>\n",
              "      <td>False</td>\n",
              "      <td>True</td>\n",
              "      <td>False</td>\n",
              "      <td>False</td>\n",
              "      <td>False</td>\n",
              "      <td>False</td>\n",
              "      <td>False</td>\n",
              "      <td>False</td>\n",
              "      <td>True</td>\n",
              "      <td>False</td>\n",
              "      <td>False</td>\n",
              "      <td>False</td>\n",
              "    </tr>\n",
              "    <tr>\n",
              "      <th>2</th>\n",
              "      <td>'ota 'ika</td>\n",
              "      <td>https://en.wikipedia.org/wiki/%27Ota_%27ika</td>\n",
              "      <td>'Ota ika is a Polynesian dish, similar to Lati...</td>\n",
              "      <td>https://upload.wikimedia.org/wikipedia/commons...</td>\n",
              "      <td>True</td>\n",
              "      <td>True</td>\n",
              "      <td>False</td>\n",
              "      <td>False</td>\n",
              "      <td>False</td>\n",
              "      <td>False</td>\n",
              "      <td>False</td>\n",
              "      <td>False</td>\n",
              "      <td>False</td>\n",
              "      <td>False</td>\n",
              "      <td>False</td>\n",
              "      <td>False</td>\n",
              "      <td>False</td>\n",
              "      <td>False</td>\n",
              "      <td>False</td>\n",
              "      <td>False</td>\n",
              "      <td>False</td>\n",
              "      <td>False</td>\n",
              "    </tr>\n",
              "    <tr>\n",
              "      <th>3</th>\n",
              "      <td>.amaro ramazzotti</td>\n",
              "      <td>https://en.wikipedia.org/wiki/Amaro_(liqueur)</td>\n",
              "      <td>Amaro (Italian for \"bitter\") is an Italian her...</td>\n",
              "      <td>https://upload.wikimedia.org/wikipedia/commons...</td>\n",
              "      <td>False</td>\n",
              "      <td>False</td>\n",
              "      <td>False</td>\n",
              "      <td>False</td>\n",
              "      <td>False</td>\n",
              "      <td>False</td>\n",
              "      <td>False</td>\n",
              "      <td>False</td>\n",
              "      <td>True</td>\n",
              "      <td>False</td>\n",
              "      <td>False</td>\n",
              "      <td>False</td>\n",
              "      <td>False</td>\n",
              "      <td>False</td>\n",
              "      <td>False</td>\n",
              "      <td>False</td>\n",
              "      <td>False</td>\n",
              "      <td>False</td>\n",
              "    </tr>\n",
              "    <tr>\n",
              "      <th>4</th>\n",
              "      <td>20th century</td>\n",
              "      <td>https://en.wikipedia.org/wiki/20th_Century_Fox</td>\n",
              "      <td>Twentieth Century Fox Film Corporation (colloq...</td>\n",
              "      <td>https://upload.wikimedia.org/wikipedia/commons...</td>\n",
              "      <td>False</td>\n",
              "      <td>False</td>\n",
              "      <td>False</td>\n",
              "      <td>False</td>\n",
              "      <td>False</td>\n",
              "      <td>False</td>\n",
              "      <td>False</td>\n",
              "      <td>False</td>\n",
              "      <td>False</td>\n",
              "      <td>False</td>\n",
              "      <td>False</td>\n",
              "      <td>False</td>\n",
              "      <td>False</td>\n",
              "      <td>False</td>\n",
              "      <td>False</td>\n",
              "      <td>False</td>\n",
              "      <td>False</td>\n",
              "      <td>False</td>\n",
              "    </tr>\n",
              "  </tbody>\n",
              "</table>\n",
              "</div>"
            ],
            "text/plain": [
              "                name  ...    ham\n",
              "0       'mpanatigghi  ...  False\n",
              "1             'nduja  ...  False\n",
              "2          'ota 'ika  ...  False\n",
              "3  .amaro ramazzotti  ...  False\n",
              "4       20th century  ...  False\n",
              "\n",
              "[5 rows x 22 columns]"
            ]
          },
          "metadata": {
            "tags": []
          },
          "execution_count": 132
        }
      ]
    },
    {
      "cell_type": "code",
      "metadata": {
        "id": "_160eA4zuwZn",
        "colab_type": "code",
        "colab": {
          "base_uri": "https://localhost:8080/",
          "height": 406
        },
        "outputId": "52a498fc-16e5-4ff8-c835-9c462f5de3c5"
      },
      "source": [
        "df[df['summary'].isna()]"
      ],
      "execution_count": 57,
      "outputs": [
        {
          "output_type": "execute_result",
          "data": {
            "text/html": [
              "<div>\n",
              "<style scoped>\n",
              "    .dataframe tbody tr th:only-of-type {\n",
              "        vertical-align: middle;\n",
              "    }\n",
              "\n",
              "    .dataframe tbody tr th {\n",
              "        vertical-align: top;\n",
              "    }\n",
              "\n",
              "    .dataframe thead th {\n",
              "        text-align: right;\n",
              "    }\n",
              "</style>\n",
              "<table border=\"1\" class=\"dataframe\">\n",
              "  <thead>\n",
              "    <tr style=\"text-align: right;\">\n",
              "      <th></th>\n",
              "      <th>name</th>\n",
              "      <th>page</th>\n",
              "      <th>summary</th>\n",
              "      <th>image_ref</th>\n",
              "      <th>food</th>\n",
              "      <th>dish</th>\n",
              "      <th>drink</th>\n",
              "      <th>cheese</th>\n",
              "      <th>cookie</th>\n",
              "      <th>cake</th>\n",
              "      <th>dessert</th>\n",
              "    </tr>\n",
              "  </thead>\n",
              "  <tbody>\n",
              "    <tr>\n",
              "      <th>6</th>\n",
              "      <td>a gei</td>\n",
              "      <td>NaN</td>\n",
              "      <td>NaN</td>\n",
              "      <td>NaN</td>\n",
              "      <td>NaN</td>\n",
              "      <td>NaN</td>\n",
              "      <td>NaN</td>\n",
              "      <td>NaN</td>\n",
              "      <td>NaN</td>\n",
              "      <td>NaN</td>\n",
              "      <td>NaN</td>\n",
              "    </tr>\n",
              "    <tr>\n",
              "      <th>24</th>\n",
              "      <td>acqua pazza</td>\n",
              "      <td>NaN</td>\n",
              "      <td>NaN</td>\n",
              "      <td>NaN</td>\n",
              "      <td>NaN</td>\n",
              "      <td>NaN</td>\n",
              "      <td>NaN</td>\n",
              "      <td>NaN</td>\n",
              "      <td>NaN</td>\n",
              "      <td>NaN</td>\n",
              "      <td>NaN</td>\n",
              "    </tr>\n",
              "    <tr>\n",
              "      <th>106</th>\n",
              "      <td>amba</td>\n",
              "      <td>NaN</td>\n",
              "      <td>NaN</td>\n",
              "      <td>NaN</td>\n",
              "      <td>NaN</td>\n",
              "      <td>NaN</td>\n",
              "      <td>NaN</td>\n",
              "      <td>NaN</td>\n",
              "      <td>NaN</td>\n",
              "      <td>NaN</td>\n",
              "      <td>NaN</td>\n",
              "    </tr>\n",
              "    <tr>\n",
              "      <th>111</th>\n",
              "      <td>americano</td>\n",
              "      <td>NaN</td>\n",
              "      <td>NaN</td>\n",
              "      <td>NaN</td>\n",
              "      <td>NaN</td>\n",
              "      <td>NaN</td>\n",
              "      <td>NaN</td>\n",
              "      <td>NaN</td>\n",
              "      <td>NaN</td>\n",
              "      <td>NaN</td>\n",
              "      <td>NaN</td>\n",
              "    </tr>\n",
              "    <tr>\n",
              "      <th>133</th>\n",
              "      <td>anju</td>\n",
              "      <td>NaN</td>\n",
              "      <td>NaN</td>\n",
              "      <td>NaN</td>\n",
              "      <td>NaN</td>\n",
              "      <td>NaN</td>\n",
              "      <td>NaN</td>\n",
              "      <td>NaN</td>\n",
              "      <td>NaN</td>\n",
              "      <td>NaN</td>\n",
              "      <td>NaN</td>\n",
              "    </tr>\n",
              "    <tr>\n",
              "      <th>...</th>\n",
              "      <td>...</td>\n",
              "      <td>...</td>\n",
              "      <td>...</td>\n",
              "      <td>...</td>\n",
              "      <td>...</td>\n",
              "      <td>...</td>\n",
              "      <td>...</td>\n",
              "      <td>...</td>\n",
              "      <td>...</td>\n",
              "      <td>...</td>\n",
              "      <td>...</td>\n",
              "    </tr>\n",
              "    <tr>\n",
              "      <th>4947</th>\n",
              "      <td>yarg</td>\n",
              "      <td>NaN</td>\n",
              "      <td>NaN</td>\n",
              "      <td>NaN</td>\n",
              "      <td>NaN</td>\n",
              "      <td>NaN</td>\n",
              "      <td>NaN</td>\n",
              "      <td>NaN</td>\n",
              "      <td>NaN</td>\n",
              "      <td>NaN</td>\n",
              "      <td>NaN</td>\n",
              "    </tr>\n",
              "    <tr>\n",
              "      <th>4972</th>\n",
              "      <td>yuvalama soup</td>\n",
              "      <td>NaN</td>\n",
              "      <td>NaN</td>\n",
              "      <td>NaN</td>\n",
              "      <td>NaN</td>\n",
              "      <td>NaN</td>\n",
              "      <td>NaN</td>\n",
              "      <td>NaN</td>\n",
              "      <td>NaN</td>\n",
              "      <td>NaN</td>\n",
              "      <td>NaN</td>\n",
              "    </tr>\n",
              "    <tr>\n",
              "      <th>4997</th>\n",
              "      <td>zhal</td>\n",
              "      <td>NaN</td>\n",
              "      <td>NaN</td>\n",
              "      <td>NaN</td>\n",
              "      <td>NaN</td>\n",
              "      <td>NaN</td>\n",
              "      <td>NaN</td>\n",
              "      <td>NaN</td>\n",
              "      <td>NaN</td>\n",
              "      <td>NaN</td>\n",
              "      <td>NaN</td>\n",
              "    </tr>\n",
              "    <tr>\n",
              "      <th>5036</th>\n",
              "      <td>ñachi</td>\n",
              "      <td>NaN</td>\n",
              "      <td>NaN</td>\n",
              "      <td>NaN</td>\n",
              "      <td>NaN</td>\n",
              "      <td>NaN</td>\n",
              "      <td>NaN</td>\n",
              "      <td>NaN</td>\n",
              "      <td>NaN</td>\n",
              "      <td>NaN</td>\n",
              "      <td>NaN</td>\n",
              "    </tr>\n",
              "    <tr>\n",
              "      <th>5040</th>\n",
              "      <td>ćwikła</td>\n",
              "      <td>NaN</td>\n",
              "      <td>NaN</td>\n",
              "      <td>NaN</td>\n",
              "      <td>NaN</td>\n",
              "      <td>NaN</td>\n",
              "      <td>NaN</td>\n",
              "      <td>NaN</td>\n",
              "      <td>NaN</td>\n",
              "      <td>NaN</td>\n",
              "      <td>NaN</td>\n",
              "    </tr>\n",
              "  </tbody>\n",
              "</table>\n",
              "<p>284 rows × 11 columns</p>\n",
              "</div>"
            ],
            "text/plain": [
              "               name page summary image_ref  ... cheese cookie cake dessert\n",
              "6             a gei  NaN     NaN       NaN  ...    NaN    NaN  NaN     NaN\n",
              "24      acqua pazza  NaN     NaN       NaN  ...    NaN    NaN  NaN     NaN\n",
              "106            amba  NaN     NaN       NaN  ...    NaN    NaN  NaN     NaN\n",
              "111       americano  NaN     NaN       NaN  ...    NaN    NaN  NaN     NaN\n",
              "133            anju  NaN     NaN       NaN  ...    NaN    NaN  NaN     NaN\n",
              "...             ...  ...     ...       ...  ...    ...    ...  ...     ...\n",
              "4947           yarg  NaN     NaN       NaN  ...    NaN    NaN  NaN     NaN\n",
              "4972  yuvalama soup  NaN     NaN       NaN  ...    NaN    NaN  NaN     NaN\n",
              "4997           zhal  NaN     NaN       NaN  ...    NaN    NaN  NaN     NaN\n",
              "5036          ñachi  NaN     NaN       NaN  ...    NaN    NaN  NaN     NaN\n",
              "5040         ćwikła  NaN     NaN       NaN  ...    NaN    NaN  NaN     NaN\n",
              "\n",
              "[284 rows x 11 columns]"
            ]
          },
          "metadata": {
            "tags": []
          },
          "execution_count": 57
        }
      ]
    },
    {
      "cell_type": "code",
      "metadata": {
        "id": "ZpX9YSUUv4uI",
        "colab_type": "code",
        "colab": {
          "base_uri": "https://localhost:8080/",
          "height": 34
        },
        "outputId": "32e55501-3fa6-4a8a-cbdd-02e67a34f9da"
      },
      "source": [
        "df.shape"
      ],
      "execution_count": 42,
      "outputs": [
        {
          "output_type": "execute_result",
          "data": {
            "text/plain": [
              "(5055, 9)"
            ]
          },
          "metadata": {
            "tags": []
          },
          "execution_count": 42
        }
      ]
    },
    {
      "cell_type": "code",
      "metadata": {
        "id": "z-ly4hhcxom0",
        "colab_type": "code",
        "colab": {}
      },
      "source": [
        "food_str = '(food == False)'\n",
        "dish_str = '(dish == False)'\n",
        "drink_str = '(drink == False)'\n",
        "cheese_str = '(cheese == False)'\n",
        "cookie_str = '(cookie == False)'\n",
        "cake_str = '(cake == False)'\n",
        "dessert_str = '(dessert == False)'\n",
        "bread_str = '(bread == False)'\n",
        "wine_str = '(wine == False)'\n",
        "soup_str = '(soup == False)'\n",
        "beer_str = '(beer == False)'\n",
        "chocolate_str = '(chocolate == False)'\n",
        "cocktail_str = '(cocktail == False)'\n",
        "pickle_str = '(pickle == False)'\n",
        "pasta_str = '(pasta == False)'\n",
        "snack_str = '(snack == False)'\n",
        "biscuit_str = '(biscuit == False)'\n",
        "ham_str = '(ham == False)'\n",
        "pie_str = '(pie == False)'\n",
        "sandwich_str = '(sandwich == False)'\n",
        "tofu_str = '(tofu == False)'\n",
        "pastry_str = '(pastry == False)'\n",
        "porridge_str = '(porridge == False)'\n",
        "meat_str = '(meat == False)'\n",
        "stew_str = '(stew == False)'\n",
        "beverage_str = '(beverage == False)'\n",
        "paste_str = '(paste == False)'\n",
        "sauce_str = '(sauce == False)'\n",
        "sausage_str = '(sausage == False)'\n",
        "spice_str = '(spice == False)'\n",
        "seasoning_str = '(seasoning == False)'\n",
        "salad_str = '(salad == False)'\n",
        "omelette_str = '(omelette == False)'\n",
        "sweet_str = '(sweet == False)'\n",
        "pudding_str = '(pudding == False)'\n",
        "pizza_str = '(pizza == False)'\n",
        "bun_str = '(bun == False)'\n",
        "pork_str = '(pork == False)'\n",
        "beef_str = '(beef == False)'\n",
        "\n",
        "q_string = food_str + '&' + dish_str + '&' + drink_str + '&' + cheese_str + '&' + cookie_str + '&' +\\\n",
        "cake_str + '&' + dessert_str + '&' + bread_str + '&' + wine_str + '&' + soup_str + '&' + beer_str + '&' +\\\n",
        "chocolate_str + '&' + cocktail_str + '&' + pickle_str + '&' + pasta_str  + '&' + snack_str  + '&' + biscuit_str + '&' +\\\n",
        "ham_str + '&' + pie_str + '&' + sandwich_str + '&' + tofu_str  + '&' + pastry_str + '&' + porridge_str + '&' +\\\n",
        "meat_str + '&' + stew_str + '&' + beverage_str + '&' + paste_str + '&' + sauce_str + '&' + sausage_str + '&' + spice_str + '&' +\\\n",
        "seasoning_str + '&' + salad_str + '&' + omelette_str + '&' + sweet_str + '&' + pudding_str + '&' + pizza_str + '&' + bun_str + '&' +\\\n",
        "pork_str + '&' + beef_str\n",
        "\n",
        "#q_string = '(food == False) & (dish == False) & (drink == False) & (cheese == False) & (cookie == False) & (cake == False) & (dessert == False) & (bread == False)'"
      ],
      "execution_count": 0,
      "outputs": []
    },
    {
      "cell_type": "code",
      "metadata": {
        "id": "QDdY8tDzGMn0",
        "colab_type": "code",
        "colab": {
          "base_uri": "https://localhost:8080/",
          "height": 54
        },
        "outputId": "7de52269-ea1e-4d4f-dc28-320c377358fc"
      },
      "source": [
        "q_string"
      ],
      "execution_count": 218,
      "outputs": [
        {
          "output_type": "execute_result",
          "data": {
            "text/plain": [
              "'(food == False)&(dish == False)&(drink == False)&(cheese == False)&(cookie == False)&(cake == False)&(dessert == False)&(bread == False)&(wine == False)&(soup == False)&(beer == False)&(chocolate == False)&(cocktail == False)&(pickle == False)&(pasta == False)&(snack == False)&(biscuit == False)&(ham == False)&(pie == False)&(sandwich == False)&(tofu == False)&(pastry == False)&(porridge == False)&(meat == False)&(stew == False)&(beverage == False)&(paste == False)&(sauce == False)&(sausage == False)&(spice == False)&(seasoning == False)&(salad == False)'"
            ]
          },
          "metadata": {
            "tags": []
          },
          "execution_count": 218
        }
      ]
    },
    {
      "cell_type": "code",
      "metadata": {
        "id": "TzdElDSTu156",
        "colab_type": "code",
        "colab": {
          "base_uri": "https://localhost:8080/",
          "height": 225
        },
        "outputId": "b0c11d26-920d-4449-95d7-7b6a5aaf39c4"
      },
      "source": [
        "df.query(q_string, engine='python')['summary']"
      ],
      "execution_count": 268,
      "outputs": [
        {
          "output_type": "execute_result",
          "data": {
            "text/plain": [
              "4       Twentieth Century Fox Film Corporation (colloq...\n",
              "16      Eiffel is a French rock group founded in 1998 ...\n",
              "27      Adjara (Georgian: აჭარა Ač’ara [at͡ʃʼara] (lis...\n",
              "36      Agent Orange is a herbicide and defoliant chem...\n",
              "59      Ise (伊勢市, Ise-shi), formerly called Ujiyamada ...\n",
              "                              ...                        \n",
              "4992    A zentai suit (from Japanese  ゼンタイ zentai) is ...\n",
              "5000    Zhenjiang or Chinkiang vinegar is a rice-based...\n",
              "5005    Zita (c. 1212 – 27 April 1272; also known as S...\n",
              "5015    Sendai (仙台市, Sendai-shi, Japanese: [seꜜndai]) ...\n",
              "5048    Širden is one of the rare delicacies in the co...\n",
              "Name: summary, Length: 426, dtype: object"
            ]
          },
          "metadata": {
            "tags": []
          },
          "execution_count": 268
        }
      ]
    },
    {
      "cell_type": "code",
      "metadata": {
        "id": "-VPwX36eu9pi",
        "colab_type": "code",
        "colab": {
          "base_uri": "https://localhost:8080/",
          "height": 904
        },
        "outputId": "cf36c6cf-c94b-4d84-98b1-4bb6211822f1"
      },
      "source": [
        "df.query(q_string, engine='python')['summary'][0:400][50:100]"
      ],
      "execution_count": 269,
      "outputs": [
        {
          "output_type": "execute_result",
          "data": {
            "text/plain": [
              "463     Black Eyed Peas (also known as The Black Eyed ...\n",
              "468     Tuber melanosporum, called the black truffle, ...\n",
              "469     The black turtle bean is a small, shiny variet...\n",
              "470     \"Black Velvet\" is a song written by Canadian s...\n",
              "485     Blondie is an American rock band founded by si...\n",
              "486     The blood orange is a variety of orange (Citru...\n",
              "493     Blue Hawaii is a 1961 American musical romanti...\n",
              "495     A blue moon is an additional full moon that ap...\n",
              "503     Robert Paul Burns (September 1, 1878 – January...\n",
              "517     A boilermaker is a tradesperson who fabricates...\n",
              "522     Bolo de arroz is a Portuguese rice muffin, com...\n",
              "532     Lilakoi Moon (born Lisa Michelle Bonet, Novemb...\n",
              "563     Borgata Hotel Casino & Spa is a hotel, casino,...\n",
              "568     Flâneur (pronounced [flɑnœʁ]), from the French...\n",
              "573     Bourbon whiskey  is a type of American whiskey...\n",
              "577     Bovec (pronounced [ˈbɔːʋəts] (listen) or [ˈboː...\n",
              "605     Brendel is a surname. Notable people with the ...\n",
              "608     The poulet de Bresse (French pronunciation: ​[...\n",
              "622     Brooklyn () is a borough of New York City, cot...\n",
              "662     Bukayo Saka (born 5 September 2001) is an Engl...\n",
              "688     Bushwhacking was a form of guerrilla warfare c...\n",
              "744     Cachena cattle is a triple-purpose breed from ...\n",
              "753     Gaius Julius Caesar ( SEE-zər, Latin: [ˈɡaːɪ.ʊ...\n",
              "760     Café du Monde (French for \"Café of the World\" ...\n",
              "762     The Café Tortoni is a coffeehouse located at 8...\n",
              "771     Calcagno is an Italian surname. Notable people...\n",
              "782     Gram flour or Channa dal or besan (Hindi: बेसन...\n",
              "783     Calf Head (54°28′S 36°3′W) is a rocky headland...\n",
              "788     Calculus, originally called infinitesimal calc...\n",
              "789     Calvados (UK: , US: , French: [kalvados] (list...\n",
              "798     Candy apples, also known as toffee apples outs...\n",
              "805     Sprat is the common name applied to a group of...\n",
              "809     Cantal (French pronunciation: ​[kɑ̃tal]) is a ...\n",
              "818     \"Capparis\" is also a family name, see e.g. Mel...\n",
              "855     Carrum is a suburb in Melbourne, Victoria, Aus...\n",
              "857     Carurú is a town and municipality located in t...\n",
              "863     A casino is a facility for certain types of ga...\n",
              "889     Cağ kebabı (pronounced [ˈdʒaː cebabɯ]) is a ho...\n",
              "890     Pedrafita do Cebreiro is a municipality in the...\n",
              "893     A concrete mixer (often colloquially called a ...\n",
              "911     Chairo (feminine chaira) is a pejorative epith...\n",
              "941     A chapalele is a Chilean dumpling made from bo...\n",
              "956     Chartreuse (US:  (listen), UK: , French: [ʃaʁt...\n",
              "984     Chénas is a commune in the Rhône department in...\n",
              "986     Chenopodium graveolens (common name fetid goos...\n",
              "987     Chenopodium pallidicaule, known as cañihua, ca...\n",
              "990     Witzenhausen is a small town in the Werra-Meiß...\n",
              "1047    Chimay (French pronunciation: ​[ʃimɛ], Walloon...\n",
              "1054    The Chinese mitten crab (Eriocheir sinensis; C...\n",
              "1091    Choice involves decision making. It can includ...\n",
              "Name: summary, dtype: object"
            ]
          },
          "metadata": {
            "tags": []
          },
          "execution_count": 269
        }
      ]
    },
    {
      "cell_type": "code",
      "metadata": {
        "id": "1VFcNqCmvJDg",
        "colab_type": "code",
        "colab": {
          "base_uri": "https://localhost:8080/",
          "height": 34
        },
        "outputId": "d611cc02-2227-4842-fada-4928a30136d5"
      },
      "source": [
        "df.query(q_string, engine='python')['summary'][0:400][847]"
      ],
      "execution_count": 264,
      "outputs": [
        {
          "output_type": "execute_result",
          "data": {
            "text/plain": [
              "'Carne de Ávila (Beef from Avila) is a protected geographic designation for beef originating from the Province of Ávila in Spain. The designation was approved in 1988.'"
            ]
          },
          "metadata": {
            "tags": []
          },
          "execution_count": 264
        }
      ]
    },
    {
      "cell_type": "code",
      "metadata": {
        "id": "_wXwcpqM2CIf",
        "colab_type": "code",
        "colab": {
          "base_uri": "https://localhost:8080/",
          "height": 173
        },
        "outputId": "b8c0d475-f464-4660-e431-de34201841a1"
      },
      "source": [
        "df['summary'].str.lower().str.contains('pizza').sum()\n",
        "print('\\n')\n",
        "df['summary'].str.lower().str.contains('sweet').sum()\n",
        "print('\\n')\n",
        "df['summary'].str.lower().str.contains('infusion').sum()\n",
        "print('\\n')\n",
        "df['summary'].str.lower().str.contains('croquettes').sum()\n",
        "print('\\n')\n",
        "df['summary'].str.lower().str.contains('rice').sum()"
      ],
      "execution_count": 258,
      "outputs": [
        {
          "output_type": "execute_result",
          "data": {
            "text/plain": [
              "61"
            ]
          },
          "metadata": {
            "tags": []
          },
          "execution_count": 258
        },
        {
          "output_type": "stream",
          "text": [
            "\n",
            "\n"
          ],
          "name": "stdout"
        },
        {
          "output_type": "execute_result",
          "data": {
            "text/plain": [
              "747"
            ]
          },
          "metadata": {
            "tags": []
          },
          "execution_count": 258
        },
        {
          "output_type": "stream",
          "text": [
            "\n",
            "\n"
          ],
          "name": "stdout"
        },
        {
          "output_type": "execute_result",
          "data": {
            "text/plain": [
              "13"
            ]
          },
          "metadata": {
            "tags": []
          },
          "execution_count": 258
        },
        {
          "output_type": "stream",
          "text": [
            "\n",
            "\n"
          ],
          "name": "stdout"
        },
        {
          "output_type": "execute_result",
          "data": {
            "text/plain": [
              "8"
            ]
          },
          "metadata": {
            "tags": []
          },
          "execution_count": 258
        },
        {
          "output_type": "stream",
          "text": [
            "\n",
            "\n"
          ],
          "name": "stdout"
        },
        {
          "output_type": "execute_result",
          "data": {
            "text/plain": [
              "593"
            ]
          },
          "metadata": {
            "tags": []
          },
          "execution_count": 258
        }
      ]
    },
    {
      "cell_type": "code",
      "metadata": {
        "id": "ZZ6pW5sp-YUH",
        "colab_type": "code",
        "colab": {
          "base_uri": "https://localhost:8080/",
          "height": 225
        },
        "outputId": "56470d5c-5004-475f-fcbd-b4bec5ff41b4"
      },
      "source": [
        "df['summary'].str.lower().str.contains('rice')"
      ],
      "execution_count": 159,
      "outputs": [
        {
          "output_type": "execute_result",
          "data": {
            "text/plain": [
              "0       False\n",
              "1       False\n",
              "2       False\n",
              "3       False\n",
              "4       False\n",
              "        ...  \n",
              "5050    False\n",
              "5051    False\n",
              "5052     True\n",
              "5053    False\n",
              "5054    False\n",
              "Name: summary, Length: 5055, dtype: object"
            ]
          },
          "metadata": {
            "tags": []
          },
          "execution_count": 159
        }
      ]
    },
    {
      "cell_type": "code",
      "metadata": {
        "id": "uJPhRCi7_PiB",
        "colab_type": "code",
        "colab": {}
      },
      "source": [
        ""
      ],
      "execution_count": 0,
      "outputs": []
    }
  ]
}