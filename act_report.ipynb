{
 "cells": [
  {
   "cell_type": "markdown",
   "metadata": {},
   "source": [
    "### Analysis of WeRateDogs Twitter account\n",
    "\n",
    "\n",
    "[WeRateDogs](https://twitter.com/dog_rates) is a Twitter account that rates people's dogs with a humorous comment about the dog. It was started in 2015 by college student Matt Nelson, and has received international media coverage both for its popularity and for the attention drawn to social media copyright law when it was suspended by Twitter.\n",
    "\n",
    "\n",
    "\n",
    "\n",
    "WeRateDogs asks people to send photos of their dogs, then tweets selected photos rating and a humorous comment. Dogs are rated on a scale of one to ten, but are invariably given ratings in excess of the maximum, such as \"13/10\"\n",
    "[Source: Wikipedia](https://en.wikipedia.org/wiki/WeRateDogs)\n",
    "> The account's language has spawned an Internet language about \"doggos\" and \"puppers\".\n",
    "> In October 2017, Nelson released a book based on the Twitter account, #WeRateDogs: The Most Hilarious and Adorable Pups You’ve Ever Seen\n"
   ]
  },
  {
   "cell_type": "markdown",
   "metadata": {},
   "source": [
    "#### Analysis process\n",
    "\n",
    "This analysis includes a few steps.\n",
    "1. Analysis of 3 separate files\n",
    "... A tweet archive of ~2300+ tweets and some basic information provided by Udacity\n",
    "... A dog_breed predictions file that provides 3 predictions of the breed of the dog with varying confidence intervals based on the picture provided\n",
    "... A download of additional data leveraging Twitter API\n",
    "2. Once all data is downloaded, these are then analyzed, for issues\n",
    "3. A list of issues, both quality and structural (i.e. tidyness) is then made\n",
    "\n"
   ]
  },
  {
   "cell_type": "markdown",
   "metadata": {},
   "source": [
    "#### Cleansing process\n",
    "1. The issues identified earlier are then addressed one by one in an iterative manner\n",
    "2. As these issues are being resolved, there could be a few more that could surface and then needs addressing\n",
    "\n",
    "Care was taken to remove tweets that are not directly resulting in a rating such as \n",
    "1. replies to previous tweets\n",
    "2. retweets of prior tweets\n",
    "3. tweets that have been deleted\n",
    "4. those without images"
   ]
  },
  {
   "cell_type": "markdown",
   "metadata": {},
   "source": [
    "### Insights\n",
    "After a series of steps in the wrangling phase, insights can then be obtained and also visualized\n",
    "1: The tweet frequency has been reducing since the initial spurt in Nov/Dec 2016\n",
    "2: A tweet The average number of retweets per post is 2726 while the average number of favorites is 8798\n",
    "3: The tweet with the most favorites and retweets is from June 2016\n",
    "> [A Labrador retriever](https://twitter.com/dog_rates/status/744234799360020481/video/1) swimming in a pool obtained 84411 retweets and 165107 favorites\n",
    "\n",
    "4: The most common breeds of the dogs featured on these tweets are as follows: Golden Retriever, Labrador Retriever, Pembroke, Chihuahua, Pug\n",
    "5: Most common names for the dogs are Lucy, Charlie, Oliver, Cooper, Penny, Tucker, Sadie, Winston, Lol\n",
    "6: Most common stages of the dogs being featured: pupper, doggo, puppo, floofer in that order\n",
    "7: Lowest number of retweets was 12 for a [photo](https://twitter.com/dog_rates/status/666102155909144576/photo/1) of an English setter giving birth\n",
    "\n"
   ]
  },
  {
   "cell_type": "markdown",
   "metadata": {},
   "source": [
    "Here's a [graphic](https://github.com/ravi-gopalan/DAND_Data_Wrangling/blob/master/plot.jpg) that shows a few key plots from our analysis:\n",
    "\n",
    "The key takeaways from the analysis are the following\n",
    "1. Starting from a high of ~300 tweets per month in 2015, the frequency of tweets has stabilized to around 50 per month reflecting greater selectivity\n",
    "2. The ratings have progressively increased between 2015 through 2017 while the tweets are less frequent greater selectivity\n",
    "3. The avg retweets per month has increased to ~7K per month\n",
    "4. The avg favorites per month has increased to ~30K per month\n"
   ]
  }
 ],
 "metadata": {
  "kernelspec": {
   "display_name": "Python 3",
   "language": "python",
   "name": "python3"
  },
  "language_info": {
   "codemirror_mode": {
    "name": "ipython",
    "version": 3
   },
   "file_extension": ".py",
   "mimetype": "text/x-python",
   "name": "python",
   "nbconvert_exporter": "python",
   "pygments_lexer": "ipython3",
   "version": "3.6.6"
  }
 },
 "nbformat": 4,
 "nbformat_minor": 2
}
