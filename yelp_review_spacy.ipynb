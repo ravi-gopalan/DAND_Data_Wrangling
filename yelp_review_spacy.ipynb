{
  "nbformat": 4,
  "nbformat_minor": 0,
  "metadata": {
    "colab": {
      "name": "yelp_review_spacy.ipynb",
      "provenance": [],
      "machine_shape": "hm",
      "include_colab_link": true
    },
    "kernelspec": {
      "name": "python3",
      "display_name": "Python 3"
    },
    "accelerator": "GPU"
  },
  "cells": [
    {
      "cell_type": "markdown",
      "metadata": {
        "id": "view-in-github",
        "colab_type": "text"
      },
      "source": [
        "<a href=\"https://colab.research.google.com/github/ravi-gopalan/DAND_Data_Wrangling/blob/master/yelp_review_spacy.ipynb\" target=\"_parent\"><img src=\"https://colab.research.google.com/assets/colab-badge.svg\" alt=\"Open In Colab\"/></a>"
      ]
    },
    {
      "cell_type": "markdown",
      "metadata": {
        "id": "7reWknAa3rdF",
        "colab_type": "text"
      },
      "source": [
        "# Mount Google Drive"
      ]
    },
    {
      "cell_type": "code",
      "metadata": {
        "id": "S89Mld-p3oYn",
        "colab_type": "code",
        "colab": {
          "base_uri": "https://localhost:8080/",
          "height": 141
        },
        "outputId": "2a402455-3748-44d4-8d67-6f0095fbe4c9"
      },
      "source": [
        "from google.colab import drive\n",
        "drive.mount('/gdrive')\n",
        "%cd /gdrive"
      ],
      "execution_count": 1,
      "outputs": [
        {
          "output_type": "stream",
          "text": [
            "Go to this URL in a browser: https://accounts.google.com/o/oauth2/auth?client_id=947318989803-6bn6qk8qdgf4n4g3pfee6491hc0brc4i.apps.googleusercontent.com&redirect_uri=urn%3aietf%3awg%3aoauth%3a2.0%3aoob&response_type=code&scope=email%20https%3a%2f%2fwww.googleapis.com%2fauth%2fdocs.test%20https%3a%2f%2fwww.googleapis.com%2fauth%2fdrive%20https%3a%2f%2fwww.googleapis.com%2fauth%2fdrive.photos.readonly%20https%3a%2f%2fwww.googleapis.com%2fauth%2fpeopleapi.readonly\n",
            "\n",
            "Enter your authorization code:\n",
            "··········\n",
            "Mounted at /gdrive\n",
            "/gdrive\n"
          ],
          "name": "stdout"
        }
      ]
    },
    {
      "cell_type": "code",
      "metadata": {
        "id": "fUc9i1-r3jPA",
        "colab_type": "code",
        "colab": {
          "base_uri": "https://localhost:8080/",
          "height": 34
        },
        "outputId": "df2b0a64-5b95-400c-fa5e-da7b682d7ff7"
      },
      "source": [
        "pwd"
      ],
      "execution_count": 2,
      "outputs": [
        {
          "output_type": "execute_result",
          "data": {
            "text/plain": [
              "'/gdrive'"
            ]
          },
          "metadata": {
            "tags": []
          },
          "execution_count": 2
        }
      ]
    },
    {
      "cell_type": "markdown",
      "metadata": {
        "id": "XHOkKNE8LFXE",
        "colab_type": "text"
      },
      "source": [
        "# Import Libraries"
      ]
    },
    {
      "cell_type": "code",
      "metadata": {
        "id": "SVgtFqC05l91",
        "colab_type": "code",
        "colab": {}
      },
      "source": [
        "import pandas as pd\n",
        "from pandas.io.json import json_normalize\n",
        "import json"
      ],
      "execution_count": 0,
      "outputs": []
    },
    {
      "cell_type": "code",
      "metadata": {
        "id": "LLfHYwYEPlzv",
        "colab_type": "code",
        "colab": {
          "base_uri": "https://localhost:8080/",
          "height": 34
        },
        "outputId": "95b06128-a75e-4602-85b8-ec9476b6f2b2"
      },
      "source": [
        "cd '/gdrive/My Drive/yelp_dataset'"
      ],
      "execution_count": 4,
      "outputs": [
        {
          "output_type": "stream",
          "text": [
            "/gdrive/My Drive/yelp_dataset\n"
          ],
          "name": "stdout"
        }
      ]
    },
    {
      "cell_type": "code",
      "metadata": {
        "id": "MTmdo0DoPhdC",
        "colab_type": "code",
        "colab": {
          "base_uri": "https://localhost:8080/",
          "height": 104
        },
        "outputId": "57f91cc1-55ec-4146-e6bc-0f1c8ada05f7"
      },
      "source": [
        "!ls"
      ],
      "execution_count": 5,
      "outputs": [
        {
          "output_type": "stream",
          "text": [
            "business.json\t\t\t\t tip.json\n",
            "checkin.json\t\t\t\t user.json\n",
            "Dataset_Challenge_Dataset_Agreement.pdf  Yelp_Dataset_Challenge_Round_13.pdf\n",
            "photo.json\t\t\t\t yelp_photos\n",
            "review.json\n"
          ],
          "name": "stdout"
        }
      ]
    },
    {
      "cell_type": "code",
      "metadata": {
        "id": "p0HBSdIo9RRW",
        "colab_type": "code",
        "colab": {
          "base_uri": "https://localhost:8080/",
          "height": 347
        },
        "outputId": "06816e2b-6ea1-44f0-cfb8-0f09855cc170"
      },
      "source": [
        "df_business = pd.read_json('business.json', lines=True)\n",
        "df_business.info()"
      ],
      "execution_count": 5,
      "outputs": [
        {
          "output_type": "stream",
          "text": [
            "<class 'pandas.core.frame.DataFrame'>\n",
            "RangeIndex: 192609 entries, 0 to 192608\n",
            "Data columns (total 14 columns):\n",
            "business_id     192609 non-null object\n",
            "name            192609 non-null object\n",
            "address         192609 non-null object\n",
            "city            192609 non-null object\n",
            "state           192609 non-null object\n",
            "postal_code     192609 non-null object\n",
            "latitude        192609 non-null float64\n",
            "longitude       192609 non-null float64\n",
            "stars           192609 non-null float64\n",
            "review_count    192609 non-null int64\n",
            "is_open         192609 non-null int64\n",
            "attributes      163773 non-null object\n",
            "categories      192127 non-null object\n",
            "hours           147779 non-null object\n",
            "dtypes: float64(3), int64(2), object(9)\n",
            "memory usage: 20.6+ MB\n"
          ],
          "name": "stdout"
        }
      ]
    },
    {
      "cell_type": "code",
      "metadata": {
        "id": "0eJ-MkGLRVOP",
        "colab_type": "code",
        "colab": {
          "base_uri": "https://localhost:8080/",
          "height": 516
        },
        "outputId": "7a30e0eb-4a9c-402b-f7ae-e41e855f046f"
      },
      "source": [
        "df_business.head()"
      ],
      "execution_count": 6,
      "outputs": [
        {
          "output_type": "execute_result",
          "data": {
            "text/html": [
              "<div>\n",
              "<style scoped>\n",
              "    .dataframe tbody tr th:only-of-type {\n",
              "        vertical-align: middle;\n",
              "    }\n",
              "\n",
              "    .dataframe tbody tr th {\n",
              "        vertical-align: top;\n",
              "    }\n",
              "\n",
              "    .dataframe thead th {\n",
              "        text-align: right;\n",
              "    }\n",
              "</style>\n",
              "<table border=\"1\" class=\"dataframe\">\n",
              "  <thead>\n",
              "    <tr style=\"text-align: right;\">\n",
              "      <th></th>\n",
              "      <th>business_id</th>\n",
              "      <th>name</th>\n",
              "      <th>address</th>\n",
              "      <th>city</th>\n",
              "      <th>state</th>\n",
              "      <th>postal_code</th>\n",
              "      <th>latitude</th>\n",
              "      <th>longitude</th>\n",
              "      <th>stars</th>\n",
              "      <th>review_count</th>\n",
              "      <th>is_open</th>\n",
              "      <th>attributes</th>\n",
              "      <th>categories</th>\n",
              "      <th>hours</th>\n",
              "    </tr>\n",
              "  </thead>\n",
              "  <tbody>\n",
              "    <tr>\n",
              "      <th>0</th>\n",
              "      <td>1SWheh84yJXfytovILXOAQ</td>\n",
              "      <td>Arizona Biltmore Golf Club</td>\n",
              "      <td>2818 E Camino Acequia Drive</td>\n",
              "      <td>Phoenix</td>\n",
              "      <td>AZ</td>\n",
              "      <td>85016</td>\n",
              "      <td>33.522143</td>\n",
              "      <td>-112.018481</td>\n",
              "      <td>3.0</td>\n",
              "      <td>5</td>\n",
              "      <td>0</td>\n",
              "      <td>{'GoodForKids': 'False'}</td>\n",
              "      <td>Golf, Active Life</td>\n",
              "      <td>None</td>\n",
              "    </tr>\n",
              "    <tr>\n",
              "      <th>1</th>\n",
              "      <td>QXAEGFB4oINsVuTFxEYKFQ</td>\n",
              "      <td>Emerald Chinese Restaurant</td>\n",
              "      <td>30 Eglinton Avenue W</td>\n",
              "      <td>Mississauga</td>\n",
              "      <td>ON</td>\n",
              "      <td>L5R 3E7</td>\n",
              "      <td>43.605499</td>\n",
              "      <td>-79.652289</td>\n",
              "      <td>2.5</td>\n",
              "      <td>128</td>\n",
              "      <td>1</td>\n",
              "      <td>{'RestaurantsReservations': 'True', 'GoodForMe...</td>\n",
              "      <td>Specialty Food, Restaurants, Dim Sum, Imported...</td>\n",
              "      <td>{'Monday': '9:0-0:0', 'Tuesday': '9:0-0:0', 'W...</td>\n",
              "    </tr>\n",
              "    <tr>\n",
              "      <th>2</th>\n",
              "      <td>gnKjwL_1w79qoiV3IC_xQQ</td>\n",
              "      <td>Musashi Japanese Restaurant</td>\n",
              "      <td>10110 Johnston Rd, Ste 15</td>\n",
              "      <td>Charlotte</td>\n",
              "      <td>NC</td>\n",
              "      <td>28210</td>\n",
              "      <td>35.092564</td>\n",
              "      <td>-80.859132</td>\n",
              "      <td>4.0</td>\n",
              "      <td>170</td>\n",
              "      <td>1</td>\n",
              "      <td>{'GoodForKids': 'True', 'NoiseLevel': 'u'avera...</td>\n",
              "      <td>Sushi Bars, Restaurants, Japanese</td>\n",
              "      <td>{'Monday': '17:30-21:30', 'Wednesday': '17:30-...</td>\n",
              "    </tr>\n",
              "    <tr>\n",
              "      <th>3</th>\n",
              "      <td>xvX2CttrVhyG2z1dFg_0xw</td>\n",
              "      <td>Farmers Insurance - Paul Lorenz</td>\n",
              "      <td>15655 W Roosevelt St, Ste 237</td>\n",
              "      <td>Goodyear</td>\n",
              "      <td>AZ</td>\n",
              "      <td>85338</td>\n",
              "      <td>33.455613</td>\n",
              "      <td>-112.395596</td>\n",
              "      <td>5.0</td>\n",
              "      <td>3</td>\n",
              "      <td>1</td>\n",
              "      <td>None</td>\n",
              "      <td>Insurance, Financial Services</td>\n",
              "      <td>{'Monday': '8:0-17:0', 'Tuesday': '8:0-17:0', ...</td>\n",
              "    </tr>\n",
              "    <tr>\n",
              "      <th>4</th>\n",
              "      <td>HhyxOkGAM07SRYtlQ4wMFQ</td>\n",
              "      <td>Queen City Plumbing</td>\n",
              "      <td>4209 Stuart Andrew Blvd, Ste F</td>\n",
              "      <td>Charlotte</td>\n",
              "      <td>NC</td>\n",
              "      <td>28217</td>\n",
              "      <td>35.190012</td>\n",
              "      <td>-80.887223</td>\n",
              "      <td>4.0</td>\n",
              "      <td>4</td>\n",
              "      <td>1</td>\n",
              "      <td>{'BusinessAcceptsBitcoin': 'False', 'ByAppoint...</td>\n",
              "      <td>Plumbing, Shopping, Local Services, Home Servi...</td>\n",
              "      <td>{'Monday': '7:0-23:0', 'Tuesday': '7:0-23:0', ...</td>\n",
              "    </tr>\n",
              "  </tbody>\n",
              "</table>\n",
              "</div>"
            ],
            "text/plain": [
              "              business_id  ...                                              hours\n",
              "0  1SWheh84yJXfytovILXOAQ  ...                                               None\n",
              "1  QXAEGFB4oINsVuTFxEYKFQ  ...  {'Monday': '9:0-0:0', 'Tuesday': '9:0-0:0', 'W...\n",
              "2  gnKjwL_1w79qoiV3IC_xQQ  ...  {'Monday': '17:30-21:30', 'Wednesday': '17:30-...\n",
              "3  xvX2CttrVhyG2z1dFg_0xw  ...  {'Monday': '8:0-17:0', 'Tuesday': '8:0-17:0', ...\n",
              "4  HhyxOkGAM07SRYtlQ4wMFQ  ...  {'Monday': '7:0-23:0', 'Tuesday': '7:0-23:0', ...\n",
              "\n",
              "[5 rows x 14 columns]"
            ]
          },
          "metadata": {
            "tags": []
          },
          "execution_count": 6
        }
      ]
    },
    {
      "cell_type": "code",
      "metadata": {
        "id": "Uh7J4x2UU_wr",
        "colab_type": "code",
        "colab": {}
      },
      "source": [
        "# 1 = open, 0 = closed\n",
        "df_business = df_business[df_business['is_open']==1]"
      ],
      "execution_count": 0,
      "outputs": []
    },
    {
      "cell_type": "code",
      "metadata": {
        "id": "ddyNSkGiYXMT",
        "colab_type": "code",
        "colab": {}
      },
      "source": [
        "drop_columns = ['hours','is_open','review_count']\n",
        "df_business = df_business.drop(drop_columns, axis=1)"
      ],
      "execution_count": 0,
      "outputs": []
    },
    {
      "cell_type": "code",
      "metadata": {
        "id": "YtmO-iOdX8wO",
        "colab_type": "code",
        "colab": {
          "base_uri": "https://localhost:8080/",
          "height": 295
        },
        "outputId": "ae1cc230-7df3-4da5-bbca-705c53a73966"
      },
      "source": [
        "df_business.info()"
      ],
      "execution_count": 9,
      "outputs": [
        {
          "output_type": "stream",
          "text": [
            "<class 'pandas.core.frame.DataFrame'>\n",
            "Int64Index: 158525 entries, 1 to 192607\n",
            "Data columns (total 11 columns):\n",
            "business_id    158525 non-null object\n",
            "name           158525 non-null object\n",
            "address        158525 non-null object\n",
            "city           158525 non-null object\n",
            "state          158525 non-null object\n",
            "postal_code    158525 non-null object\n",
            "latitude       158525 non-null float64\n",
            "longitude      158525 non-null float64\n",
            "stars          158525 non-null float64\n",
            "attributes     132752 non-null object\n",
            "categories     158064 non-null object\n",
            "dtypes: float64(3), object(8)\n",
            "memory usage: 14.5+ MB\n"
          ],
          "name": "stdout"
        }
      ]
    },
    {
      "cell_type": "code",
      "metadata": {
        "id": "FE6QUPUyYL3v",
        "colab_type": "code",
        "colab": {
          "base_uri": "https://localhost:8080/",
          "height": 295
        },
        "outputId": "69e2897b-bda0-4653-c92e-a32d6d8ef8c9"
      },
      "source": [
        "df_explode = df_business.assign(categories = df_business.categories.str.split(', ')).explode('categories')\n",
        "df_explode.info()"
      ],
      "execution_count": 10,
      "outputs": [
        {
          "output_type": "stream",
          "text": [
            "<class 'pandas.core.frame.DataFrame'>\n",
            "Int64Index: 659391 entries, 1 to 192607\n",
            "Data columns (total 11 columns):\n",
            "business_id    659391 non-null object\n",
            "name           659391 non-null object\n",
            "address        659391 non-null object\n",
            "city           659391 non-null object\n",
            "state          659391 non-null object\n",
            "postal_code    659391 non-null object\n",
            "latitude       659391 non-null float64\n",
            "longitude      659391 non-null float64\n",
            "stars          659391 non-null float64\n",
            "attributes     572312 non-null object\n",
            "categories     658930 non-null object\n",
            "dtypes: float64(3), object(8)\n",
            "memory usage: 60.4+ MB\n"
          ],
          "name": "stdout"
        }
      ]
    },
    {
      "cell_type": "code",
      "metadata": {
        "id": "Q0ej8FaSZEEi",
        "colab_type": "code",
        "colab": {
          "base_uri": "https://localhost:8080/",
          "height": 281
        },
        "outputId": "28eb5b96-98e1-4966-8ae1-a67dc0e57aa5"
      },
      "source": [
        "df_explode.head()"
      ],
      "execution_count": 11,
      "outputs": [
        {
          "output_type": "execute_result",
          "data": {
            "text/html": [
              "<div>\n",
              "<style scoped>\n",
              "    .dataframe tbody tr th:only-of-type {\n",
              "        vertical-align: middle;\n",
              "    }\n",
              "\n",
              "    .dataframe tbody tr th {\n",
              "        vertical-align: top;\n",
              "    }\n",
              "\n",
              "    .dataframe thead th {\n",
              "        text-align: right;\n",
              "    }\n",
              "</style>\n",
              "<table border=\"1\" class=\"dataframe\">\n",
              "  <thead>\n",
              "    <tr style=\"text-align: right;\">\n",
              "      <th></th>\n",
              "      <th>business_id</th>\n",
              "      <th>name</th>\n",
              "      <th>address</th>\n",
              "      <th>city</th>\n",
              "      <th>state</th>\n",
              "      <th>postal_code</th>\n",
              "      <th>latitude</th>\n",
              "      <th>longitude</th>\n",
              "      <th>stars</th>\n",
              "      <th>attributes</th>\n",
              "      <th>categories</th>\n",
              "    </tr>\n",
              "  </thead>\n",
              "  <tbody>\n",
              "    <tr>\n",
              "      <th>1</th>\n",
              "      <td>QXAEGFB4oINsVuTFxEYKFQ</td>\n",
              "      <td>Emerald Chinese Restaurant</td>\n",
              "      <td>30 Eglinton Avenue W</td>\n",
              "      <td>Mississauga</td>\n",
              "      <td>ON</td>\n",
              "      <td>L5R 3E7</td>\n",
              "      <td>43.605499</td>\n",
              "      <td>-79.652289</td>\n",
              "      <td>2.5</td>\n",
              "      <td>{'RestaurantsReservations': 'True', 'GoodForMe...</td>\n",
              "      <td>Specialty Food</td>\n",
              "    </tr>\n",
              "    <tr>\n",
              "      <th>1</th>\n",
              "      <td>QXAEGFB4oINsVuTFxEYKFQ</td>\n",
              "      <td>Emerald Chinese Restaurant</td>\n",
              "      <td>30 Eglinton Avenue W</td>\n",
              "      <td>Mississauga</td>\n",
              "      <td>ON</td>\n",
              "      <td>L5R 3E7</td>\n",
              "      <td>43.605499</td>\n",
              "      <td>-79.652289</td>\n",
              "      <td>2.5</td>\n",
              "      <td>{'RestaurantsReservations': 'True', 'GoodForMe...</td>\n",
              "      <td>Restaurants</td>\n",
              "    </tr>\n",
              "    <tr>\n",
              "      <th>1</th>\n",
              "      <td>QXAEGFB4oINsVuTFxEYKFQ</td>\n",
              "      <td>Emerald Chinese Restaurant</td>\n",
              "      <td>30 Eglinton Avenue W</td>\n",
              "      <td>Mississauga</td>\n",
              "      <td>ON</td>\n",
              "      <td>L5R 3E7</td>\n",
              "      <td>43.605499</td>\n",
              "      <td>-79.652289</td>\n",
              "      <td>2.5</td>\n",
              "      <td>{'RestaurantsReservations': 'True', 'GoodForMe...</td>\n",
              "      <td>Dim Sum</td>\n",
              "    </tr>\n",
              "    <tr>\n",
              "      <th>1</th>\n",
              "      <td>QXAEGFB4oINsVuTFxEYKFQ</td>\n",
              "      <td>Emerald Chinese Restaurant</td>\n",
              "      <td>30 Eglinton Avenue W</td>\n",
              "      <td>Mississauga</td>\n",
              "      <td>ON</td>\n",
              "      <td>L5R 3E7</td>\n",
              "      <td>43.605499</td>\n",
              "      <td>-79.652289</td>\n",
              "      <td>2.5</td>\n",
              "      <td>{'RestaurantsReservations': 'True', 'GoodForMe...</td>\n",
              "      <td>Imported Food</td>\n",
              "    </tr>\n",
              "    <tr>\n",
              "      <th>1</th>\n",
              "      <td>QXAEGFB4oINsVuTFxEYKFQ</td>\n",
              "      <td>Emerald Chinese Restaurant</td>\n",
              "      <td>30 Eglinton Avenue W</td>\n",
              "      <td>Mississauga</td>\n",
              "      <td>ON</td>\n",
              "      <td>L5R 3E7</td>\n",
              "      <td>43.605499</td>\n",
              "      <td>-79.652289</td>\n",
              "      <td>2.5</td>\n",
              "      <td>{'RestaurantsReservations': 'True', 'GoodForMe...</td>\n",
              "      <td>Food</td>\n",
              "    </tr>\n",
              "  </tbody>\n",
              "</table>\n",
              "</div>"
            ],
            "text/plain": [
              "              business_id  ...      categories\n",
              "1  QXAEGFB4oINsVuTFxEYKFQ  ...  Specialty Food\n",
              "1  QXAEGFB4oINsVuTFxEYKFQ  ...     Restaurants\n",
              "1  QXAEGFB4oINsVuTFxEYKFQ  ...         Dim Sum\n",
              "1  QXAEGFB4oINsVuTFxEYKFQ  ...   Imported Food\n",
              "1  QXAEGFB4oINsVuTFxEYKFQ  ...            Food\n",
              "\n",
              "[5 rows x 11 columns]"
            ]
          },
          "metadata": {
            "tags": []
          },
          "execution_count": 11
        }
      ]
    },
    {
      "cell_type": "code",
      "metadata": {
        "id": "edZJsMpQZLpN",
        "colab_type": "code",
        "colab": {
          "base_uri": "https://localhost:8080/",
          "height": 225
        },
        "outputId": "8a760dcd-f988-403c-b1a1-f2996d8dac76"
      },
      "source": [
        "df_explode.categories.value_counts()"
      ],
      "execution_count": 12,
      "outputs": [
        {
          "output_type": "execute_result",
          "data": {
            "text/plain": [
              "Restaurants                    42237\n",
              "Shopping                       26734\n",
              "Food                           23208\n",
              "Home Services                  18455\n",
              "Beauty & Spas                  16545\n",
              "                               ...  \n",
              "Medical Foot Care                  1\n",
              "Kiosk                              1\n",
              "Halfway Houses                     1\n",
              "Street Art                         1\n",
              "Sauna Installation & Repair        1\n",
              "Name: categories, Length: 1290, dtype: int64"
            ]
          },
          "metadata": {
            "tags": []
          },
          "execution_count": 12
        }
      ]
    },
    {
      "cell_type": "code",
      "metadata": {
        "id": "FaFrtTGsnBLC",
        "colab_type": "code",
        "colab": {
          "base_uri": "https://localhost:8080/",
          "height": 1000
        },
        "outputId": "f12e5498-7c3a-41b8-9cae-54c73af6024e"
      },
      "source": [
        "# open input file: \n",
        "ifile = open('review.json') \n",
        "\n",
        "# read the first 100k entries\n",
        "# set to -1 to process everything\n",
        "stop = 1000000\n",
        "\n",
        "all_data = list()\n",
        "for i, line in enumerate(ifile):\n",
        "    if i%10000==0:\n",
        "        print(i)\n",
        "    if i==stop:\n",
        "        break    \n",
        "    # convert the json on this line to a dict\n",
        "    data = json.loads(line)\n",
        "    # extract what we want\n",
        "    text = data['text']\n",
        "    stars = data['stars']\n",
        "    # add to the data collected so far\n",
        "    all_data.append([stars, text])\n",
        "# create the DataFrame\n",
        "df_review = pd.DataFrame(all_data, columns=['stars','text'])\n",
        "print(df_review)\n",
        "# df.to_hdf('revie20ws.h5','reviews')\n",
        "\n",
        "ifile.close()"
      ],
      "execution_count": 17,
      "outputs": [
        {
          "output_type": "stream",
          "text": [
            "0\n",
            "10000\n",
            "20000\n",
            "30000\n",
            "40000\n",
            "50000\n",
            "60000\n",
            "70000\n",
            "80000\n",
            "90000\n",
            "100000\n",
            "110000\n",
            "120000\n",
            "130000\n",
            "140000\n",
            "150000\n",
            "160000\n",
            "170000\n",
            "180000\n",
            "190000\n",
            "200000\n",
            "210000\n",
            "220000\n",
            "230000\n",
            "240000\n",
            "250000\n",
            "260000\n",
            "270000\n",
            "280000\n",
            "290000\n",
            "300000\n",
            "310000\n",
            "320000\n",
            "330000\n",
            "340000\n",
            "350000\n",
            "360000\n",
            "370000\n",
            "380000\n",
            "390000\n",
            "400000\n",
            "410000\n",
            "420000\n",
            "430000\n",
            "440000\n",
            "450000\n",
            "460000\n",
            "470000\n",
            "480000\n",
            "490000\n",
            "500000\n",
            "510000\n",
            "520000\n",
            "530000\n",
            "540000\n",
            "550000\n",
            "560000\n",
            "570000\n",
            "580000\n",
            "590000\n",
            "600000\n",
            "610000\n",
            "620000\n",
            "630000\n",
            "640000\n",
            "650000\n",
            "660000\n",
            "670000\n",
            "680000\n",
            "690000\n",
            "700000\n",
            "710000\n",
            "720000\n",
            "730000\n",
            "740000\n",
            "750000\n",
            "760000\n",
            "770000\n",
            "780000\n",
            "790000\n",
            "800000\n",
            "810000\n",
            "820000\n",
            "830000\n",
            "840000\n",
            "850000\n",
            "860000\n",
            "870000\n",
            "880000\n",
            "890000\n",
            "900000\n",
            "910000\n",
            "920000\n",
            "930000\n",
            "940000\n",
            "950000\n",
            "960000\n",
            "970000\n",
            "980000\n",
            "990000\n",
            "1000000\n",
            "        stars                                               text\n",
            "0         1.0  Total bill for this horrible service? Over $8G...\n",
            "1         5.0  I *adore* Travis at the Hard Rock's new Kelly ...\n",
            "2         5.0  I have to say that this office really has it t...\n",
            "3         5.0  Went in for a lunch. Steak sandwich was delici...\n",
            "4         1.0  Today was my second out of three sessions I ha...\n",
            "...       ...                                                ...\n",
            "999995    5.0  There are moments in our lives that are so spe...\n",
            "999996    5.0  SO GOOOOOOOD\\n\\nI usually don't review after o...\n",
            "999997    5.0  This place is AMAZING!!!!  It's fairly new and...\n",
            "999998    1.0  So 4 days i ve been trying to go to office to ...\n",
            "999999    5.0  We were out doing some work in Deer Valley and...\n",
            "\n",
            "[1000000 rows x 2 columns]\n"
          ],
          "name": "stdout"
        }
      ]
    },
    {
      "cell_type": "code",
      "metadata": {
        "id": "zWC8QTdoR6z0",
        "colab_type": "code",
        "colab": {
          "base_uri": "https://localhost:8080/",
          "height": 1000
        },
        "outputId": "2b80de51-f714-441a-8886-061d3c93b645"
      },
      "source": [
        "!pip freeze"
      ],
      "execution_count": 15,
      "outputs": [
        {
          "output_type": "stream",
          "text": [
            "absl-py==0.8.1\n",
            "alabaster==0.7.12\n",
            "albumentations==0.1.12\n",
            "altair==3.3.0\n",
            "asgiref==3.2.3\n",
            "astor==0.8.0\n",
            "astropy==3.0.5\n",
            "atari-py==0.2.6\n",
            "atomicwrites==1.3.0\n",
            "attrs==19.3.0\n",
            "audioread==2.1.8\n",
            "autograd==1.3\n",
            "Babel==2.7.0\n",
            "backcall==0.1.0\n",
            "backports.tempfile==1.0\n",
            "backports.weakref==1.0.post1\n",
            "beautifulsoup4==4.6.3\n",
            "bleach==3.1.0\n",
            "blis==0.2.4\n",
            "bokeh==1.0.4\n",
            "boto==2.49.0\n",
            "boto3==1.10.32\n",
            "botocore==1.13.32\n",
            "Bottleneck==1.3.1\n",
            "branca==0.3.1\n",
            "bs4==0.0.1\n",
            "bz2file==0.98\n",
            "cachetools==3.1.1\n",
            "certifi==2019.11.28\n",
            "cffi==1.13.2\n",
            "chainer==6.5.0\n",
            "chardet==3.0.4\n",
            "chart-studio==1.0.0\n",
            "Click==7.0\n",
            "cloudpickle==1.2.2\n",
            "cmake==3.12.0\n",
            "colorlover==0.3.0\n",
            "community==1.0.0b1\n",
            "contextlib2==0.5.5\n",
            "convertdate==2.2.0\n",
            "coverage==3.7.1\n",
            "coveralls==0.5\n",
            "crcmod==1.7\n",
            "cufflinks==0.17.0\n",
            "cupy-cuda101==6.5.0\n",
            "cvxopt==1.2.3\n",
            "cvxpy==1.0.25\n",
            "cycler==0.10.0\n",
            "cymem==2.0.3\n",
            "Cython==0.29.14\n",
            "daft==0.0.4\n",
            "dask==1.1.5\n",
            "dataclasses==0.7\n",
            "datascience==0.10.6\n",
            "decorator==4.4.1\n",
            "defusedxml==0.6.0\n",
            "descartes==1.1.0\n",
            "dill==0.3.1.1\n",
            "distributed==1.25.3\n",
            "Django==3.0\n",
            "dlib==19.18.0\n",
            "dm-sonnet==1.35\n",
            "docopt==0.6.2\n",
            "docutils==0.15.2\n",
            "dopamine-rl==1.0.5\n",
            "earthengine-api==0.1.207\n",
            "easydict==1.9\n",
            "ecos==2.0.7.post1\n",
            "editdistance==0.5.3\n",
            "en-core-web-sm==2.1.0\n",
            "entrypoints==0.3\n",
            "et-xmlfile==1.0.1\n",
            "fa2==0.3.5\n",
            "fancyimpute==0.4.3\n",
            "fastai==1.0.59\n",
            "fastcache==1.1.0\n",
            "fastdtw==0.3.4\n",
            "fastprogress==0.1.22\n",
            "fastrlock==0.4\n",
            "fbprophet==0.5\n",
            "feather-format==0.4.0\n",
            "featuretools==0.4.1\n",
            "filelock==3.0.12\n",
            "fix-yahoo-finance==0.0.22\n",
            "Flask==1.1.1\n",
            "folium==0.8.3\n",
            "fsspec==0.6.1\n",
            "future==0.16.0\n",
            "gast==0.2.2\n",
            "GDAL==2.2.2\n",
            "gdown==3.6.4\n",
            "gensim==3.6.0\n",
            "geographiclib==1.50\n",
            "geopy==1.17.0\n",
            "gevent==1.4.0\n",
            "gin-config==0.2.1\n",
            "glob2==0.7\n",
            "google==2.0.2\n",
            "google-api-core==1.14.3\n",
            "google-api-python-client==1.7.11\n",
            "google-auth==1.4.2\n",
            "google-auth-httplib2==0.0.3\n",
            "google-auth-oauthlib==0.4.1\n",
            "google-cloud-bigquery==1.21.0\n",
            "google-cloud-core==1.0.3\n",
            "google-cloud-datastore==1.8.0\n",
            "google-cloud-language==1.2.0\n",
            "google-cloud-storage==1.16.2\n",
            "google-cloud-translate==1.5.0\n",
            "google-colab==1.0.0\n",
            "google-pasta==0.1.8\n",
            "google-resumable-media==0.4.1\n",
            "googleapis-common-protos==1.6.0\n",
            "googledrivedownloader==0.4\n",
            "graph-nets==1.0.5\n",
            "graphviz==0.10.1\n",
            "greenlet==0.4.15\n",
            "grpcio==1.15.0\n",
            "gspread==3.0.1\n",
            "gspread-dataframe==3.0.3\n",
            "gunicorn==20.0.4\n",
            "gym==0.15.4\n",
            "h5py==2.8.0\n",
            "HeapDict==1.0.1\n",
            "holidays==0.9.11\n",
            "html5lib==1.0.1\n",
            "httpimport==0.5.18\n",
            "httplib2==0.11.3\n",
            "humanize==0.5.1\n",
            "hyperopt==0.1.2\n",
            "ideep4py==2.0.0.post3\n",
            "idna==2.8\n",
            "image==1.5.27\n",
            "imageio==2.4.1\n",
            "imagesize==1.1.0\n",
            "imbalanced-learn==0.4.3\n",
            "imblearn==0.0\n",
            "imgaug==0.2.9\n",
            "importlib-metadata==1.2.0\n",
            "imutils==0.5.3\n",
            "inflect==2.1.0\n",
            "intel-openmp==2020.0.133\n",
            "intervaltree==2.1.0\n",
            "ipykernel==4.6.1\n",
            "ipython==5.5.0\n",
            "ipython-genutils==0.2.0\n",
            "ipython-sql==0.3.9\n",
            "ipywidgets==7.5.1\n",
            "itsdangerous==1.1.0\n",
            "jax==0.1.52\n",
            "jaxlib==0.1.36\n",
            "jdcal==1.4.1\n",
            "jedi==0.15.1\n",
            "jieba==0.39\n",
            "Jinja2==2.10.3\n",
            "jmespath==0.9.4\n",
            "joblib==0.14.0\n",
            "jpeg4py==0.1.4\n",
            "jsonschema==2.6.0\n",
            "jupyter==1.0.0\n",
            "jupyter-client==5.3.4\n",
            "jupyter-console==5.2.0\n",
            "jupyter-core==4.6.1\n",
            "kaggle==1.5.6\n",
            "kapre==0.1.3.1\n",
            "Keras==2.2.5\n",
            "Keras-Applications==1.0.8\n",
            "Keras-Preprocessing==1.1.0\n",
            "keras-vis==0.4.1\n",
            "kfac==0.2.0\n",
            "kiwisolver==1.1.0\n",
            "knnimpute==0.1.0\n",
            "librosa==0.6.3\n",
            "lightgbm==2.2.3\n",
            "llvmlite==0.30.0\n",
            "lmdb==0.98\n",
            "lucid==0.3.8\n",
            "lunardate==0.2.0\n",
            "lxml==4.2.6\n",
            "magenta==0.3.19\n",
            "Markdown==3.1.1\n",
            "MarkupSafe==1.1.1\n",
            "matplotlib==3.1.2\n",
            "matplotlib-venn==0.11.5\n",
            "mesh-tensorflow==0.1.6\n",
            "mido==1.2.6\n",
            "mir-eval==0.5\n",
            "missingno==0.4.2\n",
            "mistune==0.8.4\n",
            "mizani==0.5.4\n",
            "mkl==2019.0\n",
            "mlxtend==0.14.0\n",
            "more-itertools==8.0.0\n",
            "moviepy==0.2.3.5\n",
            "mpi4py==3.0.3\n",
            "mpmath==1.1.0\n",
            "msgpack==0.5.6\n",
            "multiprocess==0.70.9\n",
            "multitasking==0.0.9\n",
            "murmurhash==1.0.2\n",
            "music21==5.5.0\n",
            "natsort==5.5.0\n",
            "nbconvert==5.6.1\n",
            "nbformat==4.4.0\n",
            "networkx==2.4\n",
            "nibabel==2.3.3\n",
            "nltk==3.2.5\n",
            "notebook==5.2.2\n",
            "np-utils==0.5.11.1\n",
            "numba==0.40.1\n",
            "numexpr==2.7.0\n",
            "numpy==1.17.4\n",
            "nvidia-ml-py3==7.352.0\n",
            "oauth2client==4.1.3\n",
            "oauthlib==3.1.0\n",
            "okgrade==0.4.3\n",
            "olefile==0.46\n",
            "opencv-contrib-python==4.1.2.30\n",
            "opencv-python==4.1.2.30\n",
            "openpyxl==2.5.9\n",
            "opt-einsum==3.1.0\n",
            "osqp==0.6.1\n",
            "packaging==19.2\n",
            "palettable==3.3.0\n",
            "pandas==0.25.3\n",
            "pandas-datareader==0.7.4\n",
            "pandas-gbq==0.11.0\n",
            "pandas-profiling==1.4.1\n",
            "pandocfilters==1.4.2\n",
            "parso==0.5.1\n",
            "pathlib==1.0.1\n",
            "patsy==0.5.1\n",
            "pexpect==4.7.0\n",
            "pickleshare==0.7.5\n",
            "Pillow==4.3.0\n",
            "pip-tools==4.2.0\n",
            "plac==0.9.6\n",
            "plotly==4.1.1\n",
            "plotnine==0.5.1\n",
            "pluggy==0.7.1\n",
            "portpicker==1.2.0\n",
            "prefetch-generator==1.0.1\n",
            "preshed==2.0.1\n",
            "pretty-midi==0.2.8\n",
            "prettytable==0.7.2\n",
            "progressbar2==3.38.0\n",
            "prometheus-client==0.7.1\n",
            "promise==2.2.1\n",
            "prompt-toolkit==1.0.18\n",
            "protobuf==3.10.0\n",
            "psutil==5.4.8\n",
            "psycopg2==2.7.6.1\n",
            "ptyprocess==0.6.0\n",
            "py==1.8.0\n",
            "pyarrow==0.14.1\n",
            "pyasn1==0.4.8\n",
            "pyasn1-modules==0.2.7\n",
            "pycocotools==2.0.0\n",
            "pycparser==2.19\n",
            "pydata-google-auth==0.1.3\n",
            "pydot==1.3.0\n",
            "pydot-ng==2.0.0\n",
            "pydotplus==2.0.2\n",
            "PyDrive==1.3.1\n",
            "pyemd==0.5.1\n",
            "pyglet==1.3.2\n",
            "Pygments==2.1.3\n",
            "pygobject==3.26.1\n",
            "pymc3==3.7\n",
            "PyMeeus==0.3.6\n",
            "pymongo==3.9.0\n",
            "pymystem3==0.2.0\n",
            "PyOpenGL==3.1.4\n",
            "pyparsing==2.4.5\n",
            "pypng==0.0.20\n",
            "pyrsistent==0.15.6\n",
            "pysndfile==1.3.8\n",
            "PySocks==1.7.1\n",
            "pystan==2.19.1.1\n",
            "pytest==3.6.4\n",
            "python-apt==1.6.4\n",
            "python-chess==0.23.11\n",
            "python-dateutil==2.6.1\n",
            "python-louvain==0.13\n",
            "python-rtmidi==1.3.1\n",
            "python-slugify==4.0.0\n",
            "python-utils==2.3.0\n",
            "pytz==2018.9\n",
            "PyWavelets==1.1.1\n",
            "PyYAML==3.13\n",
            "pyzmq==17.0.0\n",
            "qtconsole==4.6.0\n",
            "requests==2.21.0\n",
            "requests-oauthlib==1.3.0\n",
            "resampy==0.2.2\n",
            "retrying==1.3.3\n",
            "rpy2==2.9.5\n",
            "rsa==4.0\n",
            "s3fs==0.4.0\n",
            "s3transfer==0.2.1\n",
            "scikit-image==0.15.0\n",
            "scikit-learn==0.21.3\n",
            "scipy==1.3.3\n",
            "screen-resolution-extra==0.0.0\n",
            "scs==2.1.1.post2\n",
            "seaborn==0.9.0\n",
            "semantic-version==2.8.3\n",
            "Send2Trash==1.5.0\n",
            "setuptools-git==1.2\n",
            "Shapely==1.6.4.post2\n",
            "simplegeneric==0.8.1\n",
            "six==1.12.0\n",
            "sklearn==0.0\n",
            "sklearn-pandas==1.8.0\n",
            "smart-open==1.9.0\n",
            "snowballstemmer==2.0.0\n",
            "sortedcontainers==2.1.0\n",
            "spacy==2.1.9\n",
            "Sphinx==1.8.5\n",
            "sphinxcontrib-websupport==1.1.2\n",
            "SQLAlchemy==1.3.11\n",
            "sqlparse==0.3.0\n",
            "srsly==0.2.0\n",
            "stable-baselines==2.2.1\n",
            "statsmodels==0.10.2\n",
            "sympy==1.1.1\n",
            "tables==3.4.4\n",
            "tabulate==0.8.6\n",
            "tblib==1.5.0\n",
            "tensor2tensor==1.14.1\n",
            "tensorboard==1.15.0\n",
            "tensorboardcolab==0.0.22\n",
            "tensorflow==1.15.0\n",
            "tensorflow-datasets==1.3.0\n",
            "tensorflow-estimator==1.15.1\n",
            "tensorflow-gan==2.0.0\n",
            "tensorflow-hub==0.7.0\n",
            "tensorflow-metadata==0.15.1\n",
            "tensorflow-privacy==0.2.2\n",
            "tensorflow-probability==0.7.0\n",
            "termcolor==1.1.0\n",
            "terminado==0.8.3\n",
            "testpath==0.4.4\n",
            "text-unidecode==1.3\n",
            "textblob==0.15.3\n",
            "textgenrnn==1.4.1\n",
            "tflearn==0.3.2\n",
            "Theano==1.0.4\n",
            "thinc==7.0.8\n",
            "toolz==0.10.0\n",
            "torch==1.3.1\n",
            "torchsummary==1.5.1\n",
            "torchtext==0.3.1\n",
            "torchvision==0.4.2\n",
            "tornado==4.5.3\n",
            "tqdm==4.28.1\n",
            "traitlets==4.3.3\n",
            "tweepy==3.6.0\n",
            "typing==3.6.6\n",
            "typing-extensions==3.6.6\n",
            "tzlocal==1.5.1\n",
            "umap-learn==0.3.10\n",
            "uritemplate==3.0.0\n",
            "urllib3==1.24.3\n",
            "vega-datasets==0.7.0\n",
            "wasabi==0.4.2\n",
            "wcwidth==0.1.7\n",
            "webencodings==0.5.1\n",
            "Werkzeug==0.16.0\n",
            "widgetsnbextension==3.5.1\n",
            "wordcloud==1.5.0\n",
            "wrapt==1.11.2\n",
            "xarray==0.11.3\n",
            "xgboost==0.90\n",
            "xkit==0.0.0\n",
            "xlrd==1.1.0\n",
            "xlwt==1.3.0\n",
            "yellowbrick==0.9.1\n",
            "zict==1.0.0\n",
            "zipp==0.6.0\n",
            "zmq==0.0.0\n"
          ],
          "name": "stdout"
        }
      ]
    },
    {
      "cell_type": "code",
      "metadata": {
        "id": "B8ehu3HuoYX5",
        "colab_type": "code",
        "colab": {}
      },
      "source": [
        "# Import the English language class\n",
        "from spacy.lang.en import English"
      ],
      "execution_count": 0,
      "outputs": []
    },
    {
      "cell_type": "code",
      "metadata": {
        "id": "nyn9WH99ofXT",
        "colab_type": "code",
        "colab": {}
      },
      "source": [
        "# Create the nlp object\n",
        "nlp = English()"
      ],
      "execution_count": 0,
      "outputs": []
    },
    {
      "cell_type": "code",
      "metadata": {
        "id": "wtL-YVTCoiYX",
        "colab_type": "code",
        "colab": {
          "base_uri": "https://localhost:8080/",
          "height": 69
        },
        "outputId": "a53c5665-710d-44e2-898d-f4c7a93b424a"
      },
      "source": [
        "# Created by processing a string of text with the nlp object\n",
        "doc = nlp(\"Hello world!\")\n",
        "\n",
        "# Iterate over tokens in a Doc\n",
        "for token in doc:\n",
        "    print(token.text)"
      ],
      "execution_count": 16,
      "outputs": [
        {
          "output_type": "stream",
          "text": [
            "Hello\n",
            "world\n",
            "!\n"
          ],
          "name": "stdout"
        }
      ]
    },
    {
      "cell_type": "code",
      "metadata": {
        "id": "A9rfiSUtoxO-",
        "colab_type": "code",
        "colab": {}
      },
      "source": [
        "import numpy as np\n",
        "import random\n",
        "check = random.randint(0,1000000)"
      ],
      "execution_count": 0,
      "outputs": []
    },
    {
      "cell_type": "code",
      "metadata": {
        "id": "OAuBRrSwpGTs",
        "colab_type": "code",
        "colab": {
          "base_uri": "https://localhost:8080/",
          "height": 211
        },
        "outputId": "b59fb4fb-5bf7-4580-aeb7-4ea605744813"
      },
      "source": [
        "check = random.randint(0,1000000)\n",
        "list(df_review['text'][check:check+10])"
      ],
      "execution_count": 19,
      "outputs": [
        {
          "output_type": "execute_result",
          "data": {
            "text/plain": [
              "['Always impressed regardless by the amount of times I\\'ve seen it. \\n\\nWho doesn\\'t love a little Frank Sinatra playing with a bonus of a synchronized water? The amount of room to watch the show is also pretty generous and it is often enough that you can come back or even wait around to catch the next round. It\\'s also free to watch and finding anything for free these days can be a challenge.\\n\\nThe only reason for the 4 instead of 5 is due to the fact that I had the opportunity to watch \"World of Color\" at Disneyland and that is THE MOST AMAZING water show in the world (of the 4 or 5 that I\\'ve seen anyway!).',\n",
              " \"Great place to stop in between gambling as the restaurant is located in MGM. The food was surprisingly really good as I understand that this is a chain restaurant. \\n\\nIt has a nice ambient feel to this place and the wait staff was attentive and helpful.   \\n\\nI ordered steak skewers as appetizer. The beef was tender and juicy. \\n\\nFor dessert, I ordered the chocolate soufflé because I saw a yelper post the dessert picture. My sugar addiction immediately  kicked in and said I've got to have one of these. The soufflé also came with a side order of ice cream. It definitely complimented the overall dessert taste. \\n\\nGreat place to dine in as well!\",\n",
              " 'Nice steak. Seasoning was OK. Cooked medium, was good. Baked potato. Added bacon and sour cream. A few mushrooms (would like to have had more come with the steak for that price). Salad with house dressing was 4 stars. \\nGood atmosphere in downtown Chandler.\\nFood, nothing really noteworthy. Will I go back, yes, probably. Will I look forward to going back, probably not.',\n",
              " \"Finally had a chance to check out this popular pizza spot in Latta Arcade.  It was a late lunch so there was no crowd and I had time to put lots of thought into my creation.  I decided on a few toppings which all looked fresh, the staff was very helpful and great to talk to.  The pizza was done very quickly which is always a good look.  For me the pizza was just ok, nothing really stood out or was special about it.  Perhaps I'll give them another try at some point, but for now I'm just not getting the hype.\",\n",
              " \"We just bought an AMAZING car from Jim's Motors in Glendale, AZ and the whole experience was W-O-N-D-E-R-F-U-L !!!!!   This is what it must feel like to have a friend in the car business... \\n\\nAfter looking within--and nearby--our home city of Tucson for nearly a month, we still hadn't found the special car we wanted to purchase for Mom's Birthday.  Our standards were high and our requirements specific.  Mom likes the retro look, so it had to be a PT Cruiser or HHR.  For a birthday gift, it had to be beautiful and clean so it would be worthy of our wonderful Mom.  And since Mom is older (and not a mechanic), it HAD to have low miles, be in great shape, and clearly well taken care of.\\n\\nWith no luck in Tucson, we expanded our search to Phoenix and surrounding areas to see if we could meet our requirements and stay within our budget.  That's how we found Jim's Motors.  \\n\\nTheir website had photos of a beautifully customized White PT Cruiser with blue trim, the price was right and the specs were beyond wonderful!  With low mileage of 58,289, and an immaculate CarFax (provided at NO charge by Jim's Motors), we contacted them to check availability.  We received a response immediately from Sales Director Scott H. and booked an appt. to see it (since we had to drive 2 hours from Tucson to get there).  When we saw the PT Cruiser in person, it was everything claimed on their website and MORE!\\n\\nWe took the car for a test drive, and Scott was patient and gave us the opportunity to check things out mechanically to our satisfaction.  He was generous in answering our many questions, and very supportive in ensuring this gift was only in my Mom's name even though it took overnighting the paperwork to her for her signature (Mom's mostly had hand-me-down cars, and we wanted this vehicle to be special and only hers).  Scott even helped us look at different carriers qualified to get the car to Mom in Washington.  This beautiful, customized and obviously loved PT Cruiser arrived safely with Scott's guidance, and Mom is absolutely thrilled and ecstatic with her gift.\\n\\nIn summary, after this GREAT car-buying experience, even though we try to buy local for just about everything, we would not hesitate to START our next car search with Jim's Motors in Glendale, AZ (we only purchase used vehicles; never new).  Purchasing a used car has the potential to be very stressful, but it was absolutely well worth the half-day driving investment to have such a positive and pleasant buying experience.  \\n\\nWorking with Scott H. and Jim's Motors truly was like having a friend or family member in the car business.  I enthusiastically recommend them to anyone and everyone looking for a high-integrity dealership which offers exceptionally high-quality used vehicles and customer care with personal, no-pressure, professional service.  Thank you, Jim's Motors and Scott H.\",\n",
              " \"First time here. Walked into a very clean restaurant inside of a small strip mall. This place has been open less than a year but it's my first time noticing it. I order #10 combination noodles. It was light and delicious. My mouth was having a party with all the flavor from the fresh vegetables and the pork was ohhhh so good. I will come back and try the pho soup next time. This is a hidden gem in Gastonia.\",\n",
              " 'Hubby and I stoppped and this was one of our beat decisions!!! Cheesecake was so good!!',\n",
              " \"I'm totally shocked by all the negative reviews. This place was delicious! We had a 6:30 reservation but got there early at 5:45 and they seated us anyway. The service was excellent. My water was always refilled! We used the groupon, which was a great deal as it covered wine, dinner and flan for dessert. We even ordered extra dessert (chocolate mousse cake and the Nutella cheesecake) both were absolutely amazing. The meat was delicious and cooked to perfection. My favorite part was their garlic bread. Served in huge portions on skewers and it was amazing. \\nI am honestly surprised that people had a negative experience as ours was so wonderful. I would tell anyone to give it a shot, and I know my husband and I will be returning.\",\n",
              " 'The food is good, the wings are tiny. I placed an order for \"three dozen wings\" and the girl that placed the order failed to mention they don\\'t sell wings by the dozen, but they come in orders of 8\\'s. So it was a total cost of $23.95 for 24 wings. Needless to say, I\\'ll stick to small businesses for a good pizza and good wings.',\n",
              " \"Kaya has great food and a fun atmosphere. It has an active bar and a sort of celebratory vibe, which made it nice for a birthday dinner.\\n\\nIt's vegetarian-friendly, and we've had some very interesting veggie and fish dishes in two visits. I particularly recommend the fish tacos--delicious and reasonably priced.\\n\\nOther favorites are halibut ceviche and gazpacho. All three dishes taste authentic--well, my version of that anyway. The tacos and ceviche would be right at home in CA. \\n\\nThe fish tacos are really the star though. The spicy creme fraiche sauce on the tacos was so tasty that we went home and tried to imitate it. The taco is a fresh wheat tortilla, an avocado slice, lightly battered fish, cole slaw dressed with lime, and a pink spicy creme fraiche sauce. It all works perfectly together. The acidity of the cole slaw is just perfect. I can't rave about these tacos enough (and I really love tacos).\\n\\nI also really like the homemade sweet potato chips.\\n\\nThey also have a good variety of wine, beer, and mixed drinks. The mojitos are very good.\\n\\nPortions are smallish, which I like. I was able to eat my appetizer and 2 of the 3 fish tacos. I really appreciate not having my plate loaded with rice and beans. More stuff I like, no stuff I don't.\\n\\nI suggest having reservations--we didn't the first time and we waited a while.\\n\\nThey also have a once a month prix fixe vegetarian dinner that we are going to try. It's pricey ($35, with $20 or so extra for wine pairing), but it's really hard to get high quality vegetarian food in a restaurant so we are going to try it.\\n\\nIncidentally, we liked the fish tacos so much that we made our own version at home (also delicious, but not as perfect). It's rare that a restaurant inspires me to directly copy one of their dishes.\"]"
            ]
          },
          "metadata": {
            "tags": []
          },
          "execution_count": 19
        }
      ]
    },
    {
      "cell_type": "code",
      "metadata": {
        "id": "FD6hctBATs8w",
        "colab_type": "code",
        "colab": {
          "base_uri": "https://localhost:8080/",
          "height": 51
        },
        "outputId": "288b3659-a30e-4737-8dd3-d56979725cfd"
      },
      "source": [
        "import spacy.cli\n",
        "spacy.cli.download(\"en_core_web_lg\")\n",
        "import en_core_web_lg\n",
        "nlp = en_core_web_lg.load()"
      ],
      "execution_count": 12,
      "outputs": [
        {
          "output_type": "stream",
          "text": [
            "\u001b[38;5;2m✔ Download and installation successful\u001b[0m\n",
            "You can now load the model via spacy.load('en_core_web_lg')\n"
          ],
          "name": "stdout"
        }
      ]
    },
    {
      "cell_type": "code",
      "metadata": {
        "id": "yskTapSATS6h",
        "colab_type": "code",
        "colab": {
          "base_uri": "https://localhost:8080/",
          "height": 34
        },
        "outputId": "82b60960-be1b-4f90-fce5-ef3bb3162e46"
      },
      "source": [
        "import spacy\n",
        "# Load a larger model with vectors\n",
        "nlp = spacy.load('en_core_web_lg')\n",
        "\n",
        "# Compare two documents\n",
        "doc1 = nlp(\"I like fast food\")\n",
        "doc2 = nlp(\"I like pizza\")\n",
        "print(doc1.similarity(doc2))"
      ],
      "execution_count": 13,
      "outputs": [
        {
          "output_type": "stream",
          "text": [
            "0.8627204117787385\n"
          ],
          "name": "stdout"
        }
      ]
    },
    {
      "cell_type": "code",
      "metadata": {
        "id": "qjQ1R5MvY0ea",
        "colab_type": "code",
        "colab": {
          "base_uri": "https://localhost:8080/",
          "height": 211
        },
        "outputId": "ac344e9a-cf14-46c6-bf76-94ac2bbde1d2"
      },
      "source": [
        "check = random.randint(0,1000000)\n",
        "list(df_review['text'][check:check+10])"
      ],
      "execution_count": 23,
      "outputs": [
        {
          "output_type": "execute_result",
          "data": {
            "text/plain": [
              "[\"When you walk in they watch you as though you're going to steal something. I have gone in a couple times with friends and family and there is no winning. Clothes aren't nice enough to be treated that way and honestly I rather invest in people who are genuinely interested rather than poor snobs. Should go out of business soon.\",\n",
              " \"The strangest thing about Brio is that it's setting it looks like a movie set, without any extras. A pristine street with a fountain, perfect brick streets but empty as all hell. \\n\\nIt was lunch, we were starving so we stumbled in. They seated us quickly, the ambiance was pleasant but not note worthy, we outside in our disturbingly quiet area and found it quite pleasant. Ladies who lunch, dripping with jewels and puffy clouds passing by, then it came down to the food. \\n\\nBrio is a great place for lunch for people who have already eaten lunch because the portions are small. \\n\\nI had crab and shrimp cakes that were miniature in size at best, with a side of veggies and potatoes drenched in olive oil. \\n\\nAs tasty as it all was, I would have needed to eat bread with two hands for an hour to fill me up. \\n\\nIn closing, nice and quiet during the week, good food, expensively priced but if I was in  in town again...I'd probably go back.\",\n",
              " 'Ha!  First review. Really?\\n\\nBlizz is IMNSHO the best place to have breakfast in MGM if you aren\\'t one of those \\'would rather eat massive amounts of crappy food from the trough\\' buffet types.  For ten bucks plus tax you can get either crepes or waffles (made to order) with all sorts of fruity, nutella-ey, or savory toppings.  And either a soda or a smoothie  (extra charge of course).\\n\\nThey also have one of those make-your-own fro-yo bars with lots of flavors and toppings at 59c an oz.\\n\\nI had \"The Congo\" nutella + banana crepes and they were pretty good.  Not the best crepes I\\'ve had but decent compared to the crap at the food court and more interesting / less expensive than Studio Cafe. (Where all the breakfasts are about $15+)\\n\\nI also visited Blizz for dessert one night during my trip and got a piece of chocolate molten lava cake for $4.95.  It was pretty good too and they packaged it to go so I could have my chocolate orgy in private.\\n\\nI think they open at 8am during the week, which sadly wasn\\'t early enough several days of my visit but it was the most satisfying breakfast I had during the week.',\n",
              " 'Being a local and having lots of friends and family come to town, I always lean on the Homewood Suites as my prefered hotel to house them at. Everything from the front desk staff to the housekeepers to the managers reception during the evenings on weekdays is nothing short of superb in my humble opinion. \\n\\nIf you need a place to stay off the strip and want great service with a nice clean large room, the Homewood Suites Henderson is the place to be!',\n",
              " 'Good place for a guiltar lover!!!!! Lots of choices for different people. Owner is pretty nice and helpful',\n",
              " \"Come here almost every weekday am. Love the atmosphere with the Starbucks music track and subtle conversation of the patrons.  Gets me ready for a work day.\\n\\nWish they had more than one man restrooms.  This is a coffee place, after all.  They never put enough  toilet paper for the am rush.\\n\\nParking is available,  but can be crazy at yimes. However,  I'm sure this building is at a premium,  because of the location.  Therefore,  it's accepted. \\n\\nMany happy returns.\",\n",
              " \"I hate this hotel and the club XS. Everyone is rude, I hate this hotel and everyone who works here. They don't care about customer service at all. DO NOT STAY OR COME HERE!!!!!!\",\n",
              " 'good food , proper name, good drinks, fast service,',\n",
              " \"I found this salon back in the beginning of the year during a break between classes one day.  Scrolling through Yelp reviews, I wasn't feeling too hopeful until I stumbled across their listing. Good reviews, nice pictures, why not give them a try?\\n\\nWow!!\\n\\nSuper clean, great massage chairs, greeted right away. I am always offered something to drink, asked if the water is warm enough; customer service gets an A+.  I got a pedicure and was really pleased with the results.\\n\\nSince then I have been back almost every two to three weeks.  Tiffany does the most amazing nail art (of which I wasn't a fan of in general, but her designs and color work are so beautiful that I have spread my wings and tried out some new looks.  She does the most gorgeous hand sculpted roses).  I have had pedicures done by Tiffany, Nancy, and her dad.  Everyone there is meticulous in their work, with the polish on the pedicures lasting for weeks!  I get the gel manicure and my nails are long and healthy.\\n\\nI normally get the VIP pedicure with the paraffin, hot stone, massage, and sugar scrub.  My legs and feet are so very happy after my time here!  \\n\\nI live over in Glendale, so they are about 45 minutes away from me and completely worth the drive.  I've been to many salons in the Phoenix metro area over the years and Marvel wins hands down!\",\n",
              " \"Best Barbershop in Vegas bar far. Great environment and every barber there can cut! You won't be disappointed! Hug (Davion) cleans me up and he's a surgeon with the clippers.\"]"
            ]
          },
          "metadata": {
            "tags": []
          },
          "execution_count": 23
        }
      ]
    },
    {
      "cell_type": "code",
      "metadata": {
        "id": "kz96faWApHLh",
        "colab_type": "code",
        "colab": {}
      },
      "source": [
        "# Created by processing a string of text with the nlp object\n",
        "check = random.randint(0,1000000)\n",
        "docs = list(df_review['text'][check:check+10])\n",
        "nlp_list = []\n",
        "for item in docs:\n",
        "  nlp_list.append(nlp(item))\n",
        "\n",
        "\n",
        "s = (len(docs),len(docs))\n",
        "similarity = np.zeros(s)\n"
      ],
      "execution_count": 0,
      "outputs": []
    },
    {
      "cell_type": "code",
      "metadata": {
        "id": "ZdyVZfKoaakO",
        "colab_type": "code",
        "colab": {
          "base_uri": "https://localhost:8080/",
          "height": 228
        },
        "outputId": "8130b4e7-979b-4354-8441-0075f2d1d308"
      },
      "source": [
        "check = random.randint(0,1000000)\n",
        "print(check)\n",
        "list(df_review['text'][check:check+10])\n"
      ],
      "execution_count": 40,
      "outputs": [
        {
          "output_type": "stream",
          "text": [
            "196985\n"
          ],
          "name": "stdout"
        },
        {
          "output_type": "execute_result",
          "data": {
            "text/plain": [
              "[\"800 Degree's just opened, so have to give them some time to get into the groove.  The service while friendly is very disorganized.  Ordered salads and pizza, and the pizza was done first.  This is in spite of having 8 staff literally standing around (there were only 6 people in the place).  The Pizza was nothing like the Westwood, CA main location. Sauce concentrated in center, so overly wet and could not lift up the pizza and eat easily, and could not keep toppings on pizza.  The Burrata was also a bit runny compared to the usual quality from the original.\\n\\nManagement and expeditors need to work on staff training if they want to preserve the unique and fabulous experience that keeps the CA original with lines out the door.\",\n",
              " 'For starters, this is a SPORTS bar.  If you want just a BAR, go elsewhere.  Also, this is mainly an \"Eagles\" football place.  If you want a team agnostic place, go elsewhere.  I experienced this on a Sunday that the Eagles were to play on Monday night.  If my experience is the same as when the Eagles play on Sundays, then I would give it five stars.  Four stars for now, summed up as:\\n\\nShow up 30 minutes before the game, get a great pick of seats.  Note to all us game watchers: don\\'t expect to get the best seats if you show up 1 minute before kick-off.  You know that, so why do you keep doing that?\\n\\nYour team is guaranteed to be on their TV\\'s given they have over two dozen screens.  Mind you, the 3 big screens will almost certainly have the Eagles, the Bears, or the Lions on the screen.  However, showing up early as I did, the \\'tv dj\\' let me select the TV I wanted.  NICE.\\n\\nThe reason I capitalized SPORTS above is because you can not expect great food at a SPORTS bar, it should be ok to good and cheap.  Upper Deck scores on this one.  You don\\'t go to a stadium and walk away saying damn they have great hot dogs and the draft brew is wonderful.  You go to SPORTS bars to WATCH THE GAME.  Upper Deck ensures you can.\\n\\n+++\\'s: FREE fast WiFi (so you can check the scores and your girl that\\'s with you who gets bored after the 1st Qtr can social network); OK cheap sports bar food (breakfast burritos & other stuff before 11a and under $9); plenty of TV\\'s; plenty of seating if you get there early; friendly, although not speedy, wait staff who put Hooters girls to shame; good relatively clean crowd although a little more than a healthy dose of the mid-western/north-eastern boys who think their team is THEIR team and those mid-west girls with the witch-chin, beady eyes, thin plucked brows, stark nose, and brown straight bob that wear banana republic clothes (they\\'re still hot and I\\'d take one on the chin for \\'em).\\n\\n- - - \\'s: bloody mary i ordered was a bit too peppery, not sure what the bathrooms looked like\\n\\nIn sum, a good sports bar for guys & girls that want a place in Old Town that is down-to-earth and will have your game on (just don\\'t expect to hear it over the regional fan din).  GO BILLS!',\n",
              " 'This is a great place in Downtown Summerlin! Nice patio, great bar, awesome appetizers.  Happy Hours are great and there is a nice big lounge and bar area with plenty of TV screens to watch sporting events!! Like Golden Knights hockey games!!!!! :)  It is my kind of public school :)',\n",
              " 'Food was good, but seems not as good as a few years ago.  Seems attentional to detail not as good. The lady took my order but she was in such a rush to sit down and eat herself, she forgot to put our order in and started to notice people there after us getting their food.\\n\\nMistakes happen, but for the inconvenience I would have preferred more than just a cookie offer, seriously brau?\\n\\nClub sandwich needed work, but oriental side salad was good.  Poor bros chips good, Arnold Palmer bland. They need work on their lemonade, little \\nweak',\n",
              " \"AMAZING!! Such a fun experience for any age or any time of day. The prices may seem high for the hourly rate, but it's split among all players in that cell (up to 6, I think). There are several games to choose from and I would recommend the TopGolf if it's your first time; think of it like bowling. The service is great and the food is even better! The do it yourself donut holes are a must try! If you do have people in your group who choose not to participate in the golfing there is so much more to do- Xbox Kinect, Giant Jenga, Bear Ball, foosball tables, pool tables, etc. The best part is they serve great beers to wash down the experience!\",\n",
              " 'The name is just plain horrible and cheesy.  It looks like there are a few in Montreal so I guess its a chain, something akin to IHOP.  The menu leans more towards the American palate (the bacon they serve is the American version, not Canadian).  Egg choices abound and there are a lot of combo choices (french toast, eggs etc.)\\n\\nThere are low fat options for all omelettes and you can sub out the potatoes with fresh fruit salad which is really nice.  Good choice for Americans who want a taste of home but probably not the place to get an authentic French Canadian breakfast.  A OK.',\n",
              " \"I had an AC problem this summer and called Arizona Dukes of Air. They answered the phone, were professional and clear about rates and schedule. A tech was able to make it to my house in the same day, was knowledgable and professional. He had diagnosed the problem in about 5 mins but took the time to check other components to ensure they were in good working order. The problem was fixed in a short time ( luckily he had the part on his truck) and paid him promptly. The fix has worked and I couldn't be happier that I called. Anytime I have an AC problem or check ups, I'll be calling Arizona Dukes of Air. \\n\\nThis is one case where you can believe the hype!\",\n",
              " 'I gather this is one of the nicer Anytime Fitnesses out there. The facility is new, and definitely very nice and well taken care of. Plenty of space, and equipment/machines. The place is kept clean, and they have little wipes all throughout for your convenience, and there\\'s plenty of parking.\\n\\nThat being said, I joined when they first barely opened, and it was nice to be in a gym that wasn\\'t overcrowded. Now that they\\'ve got more members, it gets extremely crowded around the time that I usually prefer to go. In the rare instances that my headphones run out of battery, I enjoy listening to the Zumba instructor yelling at the top of her lungs to \"STEP LEFT AND SHIMMY\".\\n\\nPersonally, I am used to a gym with more space and more machines. But this is certainly one of the best gyms around the Arcadia area. It\\'s convenient and everyone is extremely friendly. They offer group classes if that\\'s your jam, and they\\'re opening a Protein House right next to it soon!',\n",
              " \"Tasty bagels, sandwiches and desserts.  Kind of reminds me of Katz's Deli in NYC, except friendlier.  The bread is amazing.  The bagel sandwiches are huge.  Don't get the egg bagel sandwich for the road.  There is no way you can eat it without sitting down at a table, preferably with a knife and fork.  It's a monster.\\n\\nThe food can take some time but it is worth the wait.  But don't come here and expect to get out the door in five minutes.  If you dine in, they will not let you split a sandwich.  Also, ordering at the dessert counter can be a little frustrating.  We waited for some time and people cut in front of us before the guy behind the counter acknowledged us.  But a minor hiccup for great food.\",\n",
              " \"So I thought I would give this place a try since I was in the mood for some wings. First, it was delivered in a reasonable amount of time. Now what it was delivered in was making me think twice about my decision bc it showed up in brown paper bags that were covered in the sauce and in the little trays you get when you are at the restaurant. Now I'm not that picky about packaging as long as the food is good and they didn't disappoint. The wings were juicy and coated nicely.  I had medium and bbq wings and I was very satisfied. My only suggestion would be to change the medium used to the deliver the wings in. Hats off to Jesse's, the wings were good and reasonably priced. Thank you for a great meal.\"]"
            ]
          },
          "metadata": {
            "tags": []
          },
          "execution_count": 40
        }
      ]
    },
    {
      "cell_type": "code",
      "metadata": {
        "id": "5BV9sQT_aWss",
        "colab_type": "code",
        "colab": {
          "base_uri": "https://localhost:8080/",
          "height": 191
        },
        "outputId": "b8060f0a-2f2c-4bcd-a9a2-3674a074b3d5"
      },
      "source": [
        "similarity"
      ],
      "execution_count": 42,
      "outputs": [
        {
          "output_type": "execute_result",
          "data": {
            "text/plain": [
              "array([[0., 0., 0., 0., 0., 0., 0., 0., 0., 0.],\n",
              "       [0., 0., 0., 0., 0., 0., 0., 0., 0., 0.],\n",
              "       [0., 0., 0., 0., 0., 0., 0., 0., 0., 0.],\n",
              "       [0., 0., 0., 0., 0., 0., 0., 0., 0., 0.],\n",
              "       [0., 0., 0., 0., 0., 0., 0., 0., 0., 0.],\n",
              "       [0., 0., 0., 0., 0., 0., 0., 0., 0., 0.],\n",
              "       [0., 0., 0., 0., 0., 0., 0., 0., 0., 0.],\n",
              "       [0., 0., 0., 0., 0., 0., 0., 0., 0., 0.],\n",
              "       [0., 0., 0., 0., 0., 0., 0., 0., 0., 0.],\n",
              "       [0., 0., 0., 0., 0., 0., 0., 0., 0., 0.]])"
            ]
          },
          "metadata": {
            "tags": []
          },
          "execution_count": 42
        }
      ]
    },
    {
      "cell_type": "code",
      "metadata": {
        "id": "bnbK3nE9Z1F6",
        "colab_type": "code",
        "colab": {
          "base_uri": "https://localhost:8080/",
          "height": 365
        },
        "outputId": "ef24917b-d793-47ca-e2ec-f43817481312"
      },
      "source": [
        "for i in range(len(docs)):\n",
        "  for j in range(len(docs)):\n",
        "    similarity[i][j] = nlp_list[i].similarity(nlp_list[j])\n",
        "similarity"
      ],
      "execution_count": 43,
      "outputs": [
        {
          "output_type": "execute_result",
          "data": {
            "text/plain": [
              "array([[1.        , 0.9740605 , 0.86304307, 0.98156664, 0.95036943,\n",
              "        0.94708729, 0.95854179, 0.97418125, 0.95381807, 0.95352025],\n",
              "       [0.9740605 , 1.        , 0.88528665, 0.98066592, 0.95568925,\n",
              "        0.96076591, 0.94500574, 0.96698724, 0.95904372, 0.96898236],\n",
              "       [0.86304307, 0.88528665, 1.        , 0.86475462, 0.8998834 ,\n",
              "        0.91926741, 0.86499728, 0.84800727, 0.9279712 , 0.91011588],\n",
              "       [0.98156664, 0.98066592, 0.86475462, 1.        , 0.95150767,\n",
              "        0.94945884, 0.96319252, 0.97007998, 0.9506452 , 0.95382896],\n",
              "       [0.95036943, 0.95568925, 0.8998834 , 0.95150767, 1.        ,\n",
              "        0.9383397 , 0.93615731, 0.93503038, 0.9459369 , 0.94921302],\n",
              "       [0.94708729, 0.96076591, 0.91926741, 0.94945884, 0.9383397 ,\n",
              "        1.        , 0.93914946, 0.93386524, 0.97708247, 0.97728992],\n",
              "       [0.95854179, 0.94500574, 0.86499728, 0.96319252, 0.93615731,\n",
              "        0.93914946, 1.        , 0.95094043, 0.95023271, 0.93095181],\n",
              "       [0.97418125, 0.96698724, 0.84800727, 0.97007998, 0.93503038,\n",
              "        0.93386524, 0.95094043, 1.        , 0.94495962, 0.95008588],\n",
              "       [0.95381807, 0.95904372, 0.9279712 , 0.9506452 , 0.9459369 ,\n",
              "        0.97708247, 0.95023271, 0.94495962, 1.        , 0.97404585],\n",
              "       [0.95352025, 0.96898236, 0.91011588, 0.95382896, 0.94921302,\n",
              "        0.97728992, 0.93095181, 0.95008588, 0.97404585, 1.        ]])"
            ]
          },
          "metadata": {
            "tags": []
          },
          "execution_count": 43
        }
      ]
    },
    {
      "cell_type": "code",
      "metadata": {
        "id": "EMCAU8R6bQvI",
        "colab_type": "code",
        "colab": {
          "base_uri": "https://localhost:8080/",
          "height": 141
        },
        "outputId": "5dbfba7e-c2ae-4deb-a151-a639327e2662"
      },
      "source": [
        "print(docs[9])\n",
        "print(docs[similarity[9][:-1].argmax()+1])\n"
      ],
      "execution_count": 50,
      "outputs": [
        {
          "output_type": "stream",
          "text": [
            "This place has really gone downhill. A few years back when it had first opened it was a great place for decently priced Japanese/Korean food. Came here recently and found the quality has decreased. \n",
            "\n",
            "There's no parking in the front of the plaza where Gal's is, you will have to park in the main parking area or underground and walk around. The decor is a typical Japanese restaurant though I will say there are lots of tables and the restaurant is always lively. There are decently priced lunch and dinner combos and will come with Korean glass noodles, rice, soup and salad. \n",
            "\n",
            "The sashimi in my combo today was thinly sliced with little to no fish flavour.  Texture felt a bit odd so I ended up not eating  all of it. The sushi looked like it was falling apart.  The plates and soup bowls are lined red interior and the ink/paint is peeling off badly. Not only does this make it look dated, I also feel like the paint might go into my food. Please replace your bowls and plates.\n",
            "This State Farm is probably one of the best in Las Vegas. They will give you the best prices and best quotes that can compete with any insurance company guarantee. I also would recommend Kate Olson for her to help you out. She is very helpful and great at what she does. Thank you State Farm Family for all your help and support.\n"
          ],
          "name": "stdout"
        }
      ]
    },
    {
      "cell_type": "code",
      "metadata": {
        "id": "55LKXi5xpc6W",
        "colab_type": "code",
        "colab": {
          "base_uri": "https://localhost:8080/",
          "height": 34
        },
        "outputId": "ca760416-c396-45f8-a341-dd4a5c1cd7c7"
      },
      "source": [
        "# A slice from the Doc is a Span object\n",
        "span = doc[1:4]\n",
        "\n",
        "# Get the span text via the .text attribute\n",
        "print(span.text)"
      ],
      "execution_count": 20,
      "outputs": [
        {
          "output_type": "stream",
          "text": [
            "worst sushi we\n"
          ],
          "name": "stdout"
        }
      ]
    },
    {
      "cell_type": "code",
      "metadata": {
        "id": "kN7-Sra_qJAe",
        "colab_type": "code",
        "colab": {
          "base_uri": "https://localhost:8080/",
          "height": 104
        },
        "outputId": "6b48d38a-e893-4c7c-d423-7ce12c4eebc1"
      },
      "source": [
        "doc = nlp(\"It costs $5.\")\n",
        "print('Index:   ', [token.i for token in doc])\n",
        "print('Text:    ', [token.text for token in doc])\n",
        "print('is_alpha:', [token.is_alpha for token in doc])\n",
        "print('is_punct:', [token.is_punct for token in doc])\n",
        "print('like_num:', [token.like_num for token in doc])"
      ],
      "execution_count": 22,
      "outputs": [
        {
          "output_type": "stream",
          "text": [
            "Index:    [0, 1, 2, 3, 4]\n",
            "Text:     ['It', 'costs', '$', '5', '.']\n",
            "is_alpha: [True, True, False, False, False]\n",
            "is_punct: [False, False, False, False, True]\n",
            "like_num: [False, False, False, True, False]\n"
          ],
          "name": "stdout"
        }
      ]
    },
    {
      "cell_type": "code",
      "metadata": {
        "id": "-nSWW8OoqTqE",
        "colab_type": "code",
        "colab": {
          "base_uri": "https://localhost:8080/",
          "height": 124
        },
        "outputId": "6af18893-1e90-4837-832d-126a8d940c68"
      },
      "source": [
        "check = random.randint(0,1000000)\n",
        "doc = nlp(df_review['text'][check])\n",
        "print('Index:   ', [token.i for token in doc])\n",
        "print('Text:    ', [token.text for token in doc])\n",
        "print('is_alpha:', [token.is_alpha for token in doc])\n",
        "print('is_punct:', [token.is_punct for token in doc])\n",
        "print('like_num:', [token.like_num for token in doc])"
      ],
      "execution_count": 23,
      "outputs": [
        {
          "output_type": "stream",
          "text": [
            "Index:    [0, 1, 2, 3, 4, 5, 6, 7, 8, 9, 10, 11, 12, 13, 14, 15, 16, 17, 18, 19, 20, 21, 22, 23, 24, 25, 26, 27, 28, 29, 30, 31, 32, 33, 34, 35, 36, 37, 38, 39, 40, 41, 42, 43, 44, 45, 46, 47, 48, 49, 50, 51, 52, 53, 54, 55, 56, 57, 58, 59, 60, 61, 62, 63, 64, 65, 66, 67, 68, 69, 70, 71, 72, 73, 74, 75, 76, 77, 78, 79, 80, 81, 82, 83, 84, 85, 86, 87, 88, 89, 90, 91, 92, 93, 94, 95, 96, 97, 98, 99, 100, 101, 102, 103, 104, 105, 106, 107, 108, 109, 110, 111, 112, 113, 114, 115, 116, 117, 118, 119, 120, 121, 122, 123, 124, 125, 126, 127, 128, 129, 130, 131, 132, 133, 134, 135, 136, 137, 138, 139, 140, 141, 142, 143, 144, 145, 146, 147, 148, 149, 150, 151, 152, 153, 154, 155, 156, 157, 158, 159, 160, 161, 162, 163, 164, 165, 166, 167, 168, 169, 170, 171, 172, 173, 174, 175, 176, 177, 178, 179, 180, 181, 182, 183, 184, 185, 186, 187, 188, 189, 190, 191, 192, 193, 194, 195, 196, 197, 198, 199, 200, 201, 202, 203, 204, 205, 206, 207, 208, 209, 210, 211, 212, 213, 214, 215, 216, 217, 218, 219, 220, 221, 222, 223, 224, 225, 226, 227, 228, 229, 230, 231, 232, 233, 234, 235, 236, 237, 238]\n",
            "Text:     ['This', 'place', 'is', 'alright', '.', '\\n\\n', 'I', 'had', 'strawberry', 'limeade', 'with', 'a', 'mango', 'twist', '.', 'Mango', 'is', 'one', 'of', 'my', 'favorite', 'fruits', 'so', 'I', 'was', 'excited', '.', 'Plus', 'who', 'does', \"n't\", 'love', 'strawberry', 'limeade', 'with', 'mint', '.', '\\n\\n', 'Anyway', 'the', 'drink', 'itself', 'was', 'very', 'sweet', 'and', 'did', 'not', 'have', 'much', 'lime', 'flavor', '.', 'Basically', 'strawberry', 'sugar', 'water', 'with', 'a', 'hint', 'of', 'lime', '.', ' ', 'Not', 'bad', 'but', 'nothing', 'to', 'go', 'out', 'of', 'your', 'way', 'for', '.', 'The', 'mango', 'was', 'green', 'and', 'tough', 'to', 'chew', '.', 'Made', 'for', 'a', 'great', 'photo', 'but', 'as', 'something', 'to', 'eat', 'I', \"'ll\", 'pass', '.', '\\n\\n', 'Honestly', 'I', \"'d\", 'go', 'here', 'if', 'friends', 'wanted', 'to', 'meet', 'up', '.', 'I', 'would', 'not', 'go', 'as', 'a', 'date', ',', 'on', 'lunch', 'break', 'or', 'after', 'the', 'gym', 'unless', 'I', 'needed', 'something', 'at', 'that', 'exact', 'moment', 'and', 'was', 'a', 'planet', 'fitness', 'member', '.', '\\n\\n', 'Atmosphere', 'was', 'lively', 'and', 'a', 'tad', 'loud', 'by', 'the', '\\n ', 'counter', 'but', 'nothing', 'unexpected', '.', '\\n\\n', 'The', 'counters', 'were', 'nasty', 'dirty', '.', 'I', 'sat', 'by', 'the', 'window', 'at', 'a', 'bar', 'height', 'counter', 'covered', 'in', 'crumbs', 'and', 'who', 'knows', 'what', 'else', '.', 'No', 'napkins', 'in', 'site', 'for', 'me', 'to', 'clean', 'up', 'and', 'the', 'employees', 'were', 'all', 'busy', '.', 'Honestly', 'I', 'would', 'wager', 'that', 'counter', 'is', 'still', 'dirty', '.', 'I', 'did', \"n't\", 'even', 'dare', 'go', 'to', 'the', 'restroom', '.', 'So', 'I', 'ca', \"n't\", 'write', 'about', 'that', '.', '\\n\\n\\n', 'Tldr', ':', 'Okay', 'the', 'mango', 'is', 'green', 'and', 'hard', '.']\n",
            "is_alpha: [True, True, True, True, False, False, True, True, True, True, True, True, True, True, False, True, True, True, True, True, True, True, True, True, True, True, False, True, True, True, False, True, True, True, True, True, False, False, True, True, True, True, True, True, True, True, True, True, True, True, True, True, False, True, True, True, True, True, True, True, True, True, False, False, True, True, True, True, True, True, True, True, True, True, True, False, True, True, True, True, True, True, True, True, False, True, True, True, True, True, True, True, True, True, True, True, False, True, False, False, True, True, False, True, True, True, True, True, True, True, True, False, True, True, True, True, True, True, True, False, True, True, True, True, True, True, True, True, True, True, True, True, True, True, True, True, True, True, True, True, True, False, False, True, True, True, True, True, True, True, True, True, False, True, True, True, True, False, False, True, True, True, True, True, False, True, True, True, True, True, True, True, True, True, True, True, True, True, True, True, True, True, True, False, True, True, True, True, True, True, True, True, True, True, True, True, True, True, True, False, True, True, True, True, True, True, True, True, True, False, True, True, False, True, True, True, True, True, True, False, True, True, True, False, True, True, True, False, False, True, False, True, True, True, True, True, True, True, False]\n",
            "is_punct: [False, False, False, False, True, False, False, False, False, False, False, False, False, False, True, False, False, False, False, False, False, False, False, False, False, False, True, False, False, False, False, False, False, False, False, False, True, False, False, False, False, False, False, False, False, False, False, False, False, False, False, False, True, False, False, False, False, False, False, False, False, False, True, False, False, False, False, False, False, False, False, False, False, False, False, True, False, False, False, False, False, False, False, False, True, False, False, False, False, False, False, False, False, False, False, False, False, False, True, False, False, False, False, False, False, False, False, False, False, False, False, True, False, False, False, False, False, False, False, True, False, False, False, False, False, False, False, False, False, False, False, False, False, False, False, False, False, False, False, False, False, True, False, False, False, False, False, False, False, False, False, False, False, False, False, False, False, True, False, False, False, False, False, False, True, False, False, False, False, False, False, False, False, False, False, False, False, False, False, False, False, False, False, True, False, False, False, False, False, False, False, False, False, False, False, False, False, False, False, True, False, False, False, False, False, False, False, False, False, True, False, False, False, False, False, False, False, False, False, True, False, False, False, False, False, False, False, True, False, False, True, False, False, False, False, False, False, False, True]\n",
            "like_num: [False, False, False, False, False, False, False, False, False, False, False, False, False, False, False, False, False, True, False, False, False, False, False, False, False, False, False, False, False, False, False, False, False, False, False, False, False, False, False, False, False, False, False, False, False, False, False, False, False, False, False, False, False, False, False, False, False, False, False, False, False, False, False, False, False, False, False, False, False, False, False, False, False, False, False, False, False, False, False, False, False, False, False, False, False, False, False, False, False, False, False, False, False, False, False, False, False, False, False, False, False, False, False, False, False, False, False, False, False, False, False, False, False, False, False, False, False, False, False, False, False, False, False, False, False, False, False, False, False, False, False, False, False, False, False, False, False, False, False, False, False, False, False, False, False, False, False, False, False, False, False, False, False, False, False, False, False, False, False, False, False, False, False, False, False, False, False, False, False, False, False, False, False, False, False, False, False, False, False, False, False, False, False, False, False, False, False, False, False, False, False, False, False, False, False, False, False, False, False, False, False, False, False, False, False, False, False, False, False, False, False, False, False, False, False, False, False, False, False, False, False, False, False, False, False, False, False, False, False, False, False, False, False, False, False, False, False, False, False]\n"
          ],
          "name": "stdout"
        }
      ]
    },
    {
      "cell_type": "code",
      "metadata": {
        "id": "ItZ6mft0t81d",
        "colab_type": "code",
        "colab": {
          "base_uri": "https://localhost:8080/",
          "height": 243
        },
        "outputId": "70965ec5-fc8a-458b-f1c9-078357d92b9b"
      },
      "source": [
        "import spacy\n"
      ],
      "execution_count": 24,
      "outputs": [
        {
          "output_type": "stream",
          "text": [
            "Tots\n",
            "\n",
            "truffle honey mustard - yum!\n",
            "Tots NOUN compound yum\n",
            "\n",
            "\n",
            " SPACE  Tots\n",
            "truffle VERB amod yum\n",
            "honey NOUN compound yum\n",
            "mustard NOUN compound yum\n",
            "- PUNCT punct yum\n",
            "yum NOUN ROOT yum\n",
            "! PUNCT punct yum\n"
          ],
          "name": "stdout"
        }
      ]
    },
    {
      "cell_type": "code",
      "metadata": {
        "id": "-kuy9a0fuJjt",
        "colab_type": "code",
        "colab": {
          "base_uri": "https://localhost:8080/",
          "height": 34
        },
        "outputId": "58877aea-fac8-4463-a014-fa16a7426acb"
      },
      "source": [
        "spacy.explain('ORG')"
      ],
      "execution_count": 25,
      "outputs": [
        {
          "output_type": "execute_result",
          "data": {
            "text/plain": [
              "'Companies, agencies, institutions, etc.'"
            ]
          },
          "metadata": {
            "tags": []
          },
          "execution_count": 25
        }
      ]
    },
    {
      "cell_type": "code",
      "metadata": {
        "id": "P0sTvt_wviIj",
        "colab_type": "code",
        "colab": {
          "base_uri": "https://localhost:8080/",
          "height": 34
        },
        "outputId": "bd57609d-3692-4301-a626-ab2c0d448ae0"
      },
      "source": [
        "spacy.explain('CARDINAL')"
      ],
      "execution_count": 34,
      "outputs": [
        {
          "output_type": "execute_result",
          "data": {
            "text/plain": [
              "'Numerals that do not fall under another type'"
            ]
          },
          "metadata": {
            "tags": []
          },
          "execution_count": 34
        }
      ]
    },
    {
      "cell_type": "code",
      "metadata": {
        "id": "gt9whLBgvllw",
        "colab_type": "code",
        "colab": {
          "base_uri": "https://localhost:8080/",
          "height": 34
        },
        "outputId": "6c527fee-9847-4fe6-df61-ebfed2e4cfd4"
      },
      "source": [
        "spacy.explain('CCONJ')"
      ],
      "execution_count": 35,
      "outputs": [
        {
          "output_type": "execute_result",
          "data": {
            "text/plain": [
              "'coordinating conjunction'"
            ]
          },
          "metadata": {
            "tags": []
          },
          "execution_count": 35
        }
      ]
    },
    {
      "cell_type": "code",
      "metadata": {
        "id": "TjySCcE4vuhG",
        "colab_type": "code",
        "colab": {
          "base_uri": "https://localhost:8080/",
          "height": 434
        },
        "outputId": "755da80a-0ce9-4878-d346-481b45295e55"
      },
      "source": [
        "nlp = spacy.load('en_core_web_sm')\n",
        "\n",
        "check = random.randint(0,1000000)\n",
        "doc = nlp(df_review['text'][check])\n",
        "\n",
        "print(df_review['text'][check])\n",
        "# Iterate over the tokens\n",
        "for token in doc:\n",
        "    # Print the text and the predicted part-of-speech tag\n",
        "    print(token.text, token.pos_, token.dep_, token.head.text)\n",
        "\n",
        "# Iterate over the predicted entities\n",
        "for ent in doc.ents:\n",
        "    # Print the entity text and its label\n",
        "    print(ent.text, ent.label_)"
      ],
      "execution_count": 26,
      "outputs": [
        {
          "output_type": "stream",
          "text": [
            "This place has great burgers and they offer gluten free buns! It's also a fun place to watch sports games.\n",
            "This DET det place\n",
            "place NOUN nsubj has\n",
            "has VERB ROOT has\n",
            "great ADJ amod burgers\n",
            "burgers NOUN dobj has\n",
            "and CCONJ cc has\n",
            "they PRON nsubj offer\n",
            "offer VERB conj has\n",
            "gluten VERB amod buns\n",
            "free ADJ amod buns\n",
            "buns NOUN dobj offer\n",
            "! PUNCT punct offer\n",
            "It PRON nsubj 's\n",
            "'s VERB ROOT 's\n",
            "also ADV advmod 's\n",
            "a DET det place\n",
            "fun ADJ compound place\n",
            "place NOUN attr 's\n",
            "to PART aux watch\n",
            "watch VERB relcl place\n",
            "sports NOUN compound games\n",
            "games NOUN dobj watch\n",
            ". PUNCT punct 's\n"
          ],
          "name": "stdout"
        }
      ]
    }
  ]
}