{
  "nbformat": 4,
  "nbformat_minor": 0,
  "metadata": {
    "colab": {
      "name": "review_processing_2020_02_04.ipynb",
      "provenance": [],
      "collapsed_sections": [],
      "authorship_tag": "ABX9TyMI6LBawBjF8cR+19z9NUqQ",
      "include_colab_link": true
    },
    "kernelspec": {
      "name": "python3",
      "display_name": "Python 3"
    },
    "accelerator": "GPU"
  },
  "cells": [
    {
      "cell_type": "markdown",
      "metadata": {
        "id": "view-in-github",
        "colab_type": "text"
      },
      "source": [
        "<a href=\"https://colab.research.google.com/github/ravi-gopalan/DAND_Data_Wrangling/blob/master/review_processing_2020_02_04.ipynb\" target=\"_parent\"><img src=\"https://colab.research.google.com/assets/colab-badge.svg\" alt=\"Open In Colab\"/></a>"
      ]
    },
    {
      "cell_type": "markdown",
      "metadata": {
        "id": "5FU6bkNxN-UT",
        "colab_type": "text"
      },
      "source": [
        ""
      ]
    },
    {
      "cell_type": "code",
      "metadata": {
        "id": "5PehMbIWNx4u",
        "colab_type": "code",
        "colab": {
          "base_uri": "https://localhost:8080/",
          "height": 139
        },
        "outputId": "dd9f364c-b72c-47d9-f5bc-de329f324936"
      },
      "source": [
        "from google.colab import drive\n",
        "drive.mount('/gdrive')\n",
        "%cd /gdrive"
      ],
      "execution_count": 1,
      "outputs": [
        {
          "output_type": "stream",
          "text": [
            "Go to this URL in a browser: https://accounts.google.com/o/oauth2/auth?client_id=947318989803-6bn6qk8qdgf4n4g3pfee6491hc0brc4i.apps.googleusercontent.com&redirect_uri=urn%3aietf%3awg%3aoauth%3a2.0%3aoob&response_type=code&scope=email%20https%3a%2f%2fwww.googleapis.com%2fauth%2fdocs.test%20https%3a%2f%2fwww.googleapis.com%2fauth%2fdrive%20https%3a%2f%2fwww.googleapis.com%2fauth%2fdrive.photos.readonly%20https%3a%2f%2fwww.googleapis.com%2fauth%2fpeopleapi.readonly\n",
            "\n",
            "Enter your authorization code:\n",
            "··········\n",
            "Mounted at /gdrive\n",
            "/gdrive\n"
          ],
          "name": "stdout"
        }
      ]
    },
    {
      "cell_type": "code",
      "metadata": {
        "id": "tsi9laZ_N_7C",
        "colab_type": "code",
        "colab": {
          "base_uri": "https://localhost:8080/",
          "height": 34
        },
        "outputId": "4a19426d-5414-4a33-d07e-271af07e48da"
      },
      "source": [
        "cd '/gdrive/My Drive/abv_reviews'"
      ],
      "execution_count": 2,
      "outputs": [
        {
          "output_type": "stream",
          "text": [
            "/gdrive/My Drive/abv_reviews\n"
          ],
          "name": "stdout"
        }
      ]
    },
    {
      "cell_type": "code",
      "metadata": {
        "id": "BdGUNLxXOPMp",
        "colab_type": "code",
        "colab": {
          "base_uri": "https://localhost:8080/",
          "height": 853
        },
        "outputId": "c91038d0-f3dd-4551-957b-fbd19417ea7f"
      },
      "source": [
        "!pip install -U spacy[cuda100]"
      ],
      "execution_count": 3,
      "outputs": [
        {
          "output_type": "stream",
          "text": [
            "Collecting spacy[cuda100]\n",
            "\u001b[?25l  Downloading https://files.pythonhosted.org/packages/47/13/80ad28ef7a16e2a86d16d73e28588be5f1085afd3e85e4b9b912bd700e8a/spacy-2.2.3-cp36-cp36m-manylinux1_x86_64.whl (10.4MB)\n",
            "\u001b[K     |████████████████████████████████| 10.4MB 3.3MB/s \n",
            "\u001b[?25hCollecting thinc<7.4.0,>=7.3.0\n",
            "\u001b[?25l  Downloading https://files.pythonhosted.org/packages/07/59/6bb553bc9a5f072d3cd479fc939fea0f6f682892f1f5cff98de5c9b615bb/thinc-7.3.1-cp36-cp36m-manylinux1_x86_64.whl (2.2MB)\n",
            "\u001b[K     |████████████████████████████████| 2.2MB 54.7MB/s \n",
            "\u001b[?25hRequirement already satisfied, skipping upgrade: plac<1.2.0,>=0.9.6 in /usr/local/lib/python3.6/dist-packages (from spacy[cuda100]) (0.9.6)\n",
            "Requirement already satisfied, skipping upgrade: wasabi<1.1.0,>=0.4.0 in /usr/local/lib/python3.6/dist-packages (from spacy[cuda100]) (0.6.0)\n",
            "Requirement already satisfied, skipping upgrade: numpy>=1.15.0 in /usr/local/lib/python3.6/dist-packages (from spacy[cuda100]) (1.17.5)\n",
            "Requirement already satisfied, skipping upgrade: requests<3.0.0,>=2.13.0 in /usr/local/lib/python3.6/dist-packages (from spacy[cuda100]) (2.21.0)\n",
            "Requirement already satisfied, skipping upgrade: cymem<2.1.0,>=2.0.2 in /usr/local/lib/python3.6/dist-packages (from spacy[cuda100]) (2.0.3)\n",
            "Collecting catalogue<1.1.0,>=0.0.7\n",
            "  Downloading https://files.pythonhosted.org/packages/6c/f9/9a5658e2f56932e41eb264941f9a2cb7f3ce41a80cb36b2af6ab78e2f8af/catalogue-1.0.0-py2.py3-none-any.whl\n",
            "Requirement already satisfied, skipping upgrade: setuptools in /usr/local/lib/python3.6/dist-packages (from spacy[cuda100]) (45.1.0)\n",
            "Collecting preshed<3.1.0,>=3.0.2\n",
            "\u001b[?25l  Downloading https://files.pythonhosted.org/packages/db/6b/e07fad36913879757c90ba03d6fb7f406f7279e11dcefc105ee562de63ea/preshed-3.0.2-cp36-cp36m-manylinux1_x86_64.whl (119kB)\n",
            "\u001b[K     |████████████████████████████████| 122kB 65.7MB/s \n",
            "\u001b[?25hRequirement already satisfied, skipping upgrade: murmurhash<1.1.0,>=0.28.0 in /usr/local/lib/python3.6/dist-packages (from spacy[cuda100]) (1.0.2)\n",
            "Requirement already satisfied, skipping upgrade: srsly<1.1.0,>=0.1.0 in /usr/local/lib/python3.6/dist-packages (from spacy[cuda100]) (1.0.1)\n",
            "Collecting blis<0.5.0,>=0.4.0\n",
            "\u001b[?25l  Downloading https://files.pythonhosted.org/packages/41/19/f95c75562d18eb27219df3a3590b911e78d131b68466ad79fdf5847eaac4/blis-0.4.1-cp36-cp36m-manylinux1_x86_64.whl (3.7MB)\n",
            "\u001b[K     |████████████████████████████████| 3.7MB 61.6MB/s \n",
            "\u001b[?25hCollecting cupy-cuda100>=5.0.0b4; extra == \"cuda100\"\n",
            "\u001b[?25l  Downloading https://files.pythonhosted.org/packages/60/d5/e045963d8412e933fdc78dd31dce1be2376226734dfeda6a64379617a704/cupy_cuda100-7.1.1-cp36-cp36m-manylinux1_x86_64.whl (382.9MB)\n",
            "\u001b[K     |████████████████████████████████| 382.9MB 28kB/s \n",
            "\u001b[?25hRequirement already satisfied, skipping upgrade: tqdm<5.0.0,>=4.10.0 in /usr/local/lib/python3.6/dist-packages (from thinc<7.4.0,>=7.3.0->spacy[cuda100]) (4.28.1)\n",
            "Requirement already satisfied, skipping upgrade: certifi>=2017.4.17 in /usr/local/lib/python3.6/dist-packages (from requests<3.0.0,>=2.13.0->spacy[cuda100]) (2019.11.28)\n",
            "Requirement already satisfied, skipping upgrade: idna<2.9,>=2.5 in /usr/local/lib/python3.6/dist-packages (from requests<3.0.0,>=2.13.0->spacy[cuda100]) (2.8)\n",
            "Requirement already satisfied, skipping upgrade: chardet<3.1.0,>=3.0.2 in /usr/local/lib/python3.6/dist-packages (from requests<3.0.0,>=2.13.0->spacy[cuda100]) (3.0.4)\n",
            "Requirement already satisfied, skipping upgrade: urllib3<1.25,>=1.21.1 in /usr/local/lib/python3.6/dist-packages (from requests<3.0.0,>=2.13.0->spacy[cuda100]) (1.24.3)\n",
            "Requirement already satisfied, skipping upgrade: importlib-metadata>=0.20; python_version < \"3.8\" in /usr/local/lib/python3.6/dist-packages (from catalogue<1.1.0,>=0.0.7->spacy[cuda100]) (1.5.0)\n",
            "Requirement already satisfied, skipping upgrade: six>=1.9.0 in /usr/local/lib/python3.6/dist-packages (from cupy-cuda100>=5.0.0b4; extra == \"cuda100\"->spacy[cuda100]) (1.12.0)\n",
            "Requirement already satisfied, skipping upgrade: fastrlock>=0.3 in /usr/local/lib/python3.6/dist-packages (from cupy-cuda100>=5.0.0b4; extra == \"cuda100\"->spacy[cuda100]) (0.4)\n",
            "Requirement already satisfied, skipping upgrade: zipp>=0.5 in /usr/local/lib/python3.6/dist-packages (from importlib-metadata>=0.20; python_version < \"3.8\"->catalogue<1.1.0,>=0.0.7->spacy[cuda100]) (2.1.0)\n",
            "Installing collected packages: preshed, blis, thinc, catalogue, cupy-cuda100, spacy\n",
            "  Found existing installation: preshed 2.0.1\n",
            "    Uninstalling preshed-2.0.1:\n",
            "      Successfully uninstalled preshed-2.0.1\n",
            "  Found existing installation: blis 0.2.4\n",
            "    Uninstalling blis-0.2.4:\n",
            "      Successfully uninstalled blis-0.2.4\n",
            "  Found existing installation: thinc 7.0.8\n",
            "    Uninstalling thinc-7.0.8:\n",
            "      Successfully uninstalled thinc-7.0.8\n",
            "  Found existing installation: spacy 2.1.9\n",
            "    Uninstalling spacy-2.1.9:\n",
            "      Successfully uninstalled spacy-2.1.9\n",
            "Successfully installed blis-0.4.1 catalogue-1.0.0 cupy-cuda100-7.1.1 preshed-3.0.2 spacy-2.2.3 thinc-7.3.1\n"
          ],
          "name": "stdout"
        }
      ]
    },
    {
      "cell_type": "code",
      "metadata": {
        "id": "oz-V1k56OSc5",
        "colab_type": "code",
        "colab": {
          "base_uri": "https://localhost:8080/",
          "height": 751
        },
        "outputId": "c3bd178d-0036-48ad-f051-262df7aa6c34"
      },
      "source": [
        "!pip install textdistance\n",
        "!pip install \"textdistance[extras]\""
      ],
      "execution_count": 4,
      "outputs": [
        {
          "output_type": "stream",
          "text": [
            "Collecting textdistance\n",
            "  Downloading https://files.pythonhosted.org/packages/3f/18/31397b687f50ffae65469175f07faa68f288e27fcd8716276004c42e5637/textdistance-4.1.5-py3-none-any.whl\n",
            "Installing collected packages: textdistance\n",
            "Successfully installed textdistance-4.1.5\n",
            "Requirement already satisfied: textdistance[extras] in /usr/local/lib/python3.6/dist-packages (4.1.5)\n",
            "Collecting python-Levenshtein; extra == \"extras\"\n",
            "\u001b[?25l  Downloading https://files.pythonhosted.org/packages/42/a9/d1785c85ebf9b7dfacd08938dd028209c34a0ea3b1bcdb895208bd40a67d/python-Levenshtein-0.12.0.tar.gz (48kB)\n",
            "\u001b[K     |████████████████████████████████| 51kB 1.9MB/s \n",
            "\u001b[?25hRequirement already satisfied: numpy; extra == \"extras\" in /usr/local/lib/python3.6/dist-packages (from textdistance[extras]) (1.17.5)\n",
            "Collecting abydos; extra == \"extras\"\n",
            "\u001b[?25l  Downloading https://files.pythonhosted.org/packages/7f/a5/ca258a571997be1c9483d6075bbc1b9487ae80f3bb3bf1f60db0b29f5aa6/abydos-0.5.0-py2.py3-none-any.whl (886kB)\n",
            "\u001b[K     |████████████████████████████████| 890kB 7.2MB/s \n",
            "\u001b[?25hCollecting jellyfish; extra == \"extras\"\n",
            "\u001b[?25l  Downloading https://files.pythonhosted.org/packages/3f/80/bcacc7affb47be7279d7d35225e1a932416ed051b315a7f9df20acf04cbe/jellyfish-0.7.2.tar.gz (133kB)\n",
            "\u001b[K     |████████████████████████████████| 143kB 19.7MB/s \n",
            "\u001b[?25hCollecting pyxDamerauLevenshtein; extra == \"extras\"\n",
            "\u001b[?25l  Downloading https://files.pythonhosted.org/packages/b5/54/2d398545cae80d2fc8444345542ad5f3ffab0694c8efb8ed2fbe92017305/pyxDamerauLevenshtein-1.5.3.tar.gz (58kB)\n",
            "\u001b[K     |████████████████████████████████| 61kB 7.7MB/s \n",
            "\u001b[?25h  Installing build dependencies ... \u001b[?25l\u001b[?25hdone\n",
            "  Getting requirements to build wheel ... \u001b[?25l\u001b[?25hdone\n",
            "    Preparing wheel metadata ... \u001b[?25l\u001b[?25hdone\n",
            "Requirement already satisfied: setuptools in /usr/local/lib/python3.6/dist-packages (from python-Levenshtein; extra == \"extras\"->textdistance[extras]) (45.1.0)\n",
            "Collecting deprecation\n",
            "  Downloading https://files.pythonhosted.org/packages/b9/2a/d5084a8781398cea745c01237b95d9762c382697c63760a95cc6a814ad3a/deprecation-2.0.7-py2.py3-none-any.whl\n",
            "Requirement already satisfied: packaging in /usr/local/lib/python3.6/dist-packages (from deprecation->abydos; extra == \"extras\"->textdistance[extras]) (20.1)\n",
            "Requirement already satisfied: pyparsing>=2.0.2 in /usr/local/lib/python3.6/dist-packages (from packaging->deprecation->abydos; extra == \"extras\"->textdistance[extras]) (2.4.6)\n",
            "Requirement already satisfied: six in /usr/local/lib/python3.6/dist-packages (from packaging->deprecation->abydos; extra == \"extras\"->textdistance[extras]) (1.12.0)\n",
            "Building wheels for collected packages: pyxDamerauLevenshtein\n",
            "  Building wheel for pyxDamerauLevenshtein (PEP 517) ... \u001b[?25l\u001b[?25hdone\n",
            "  Created wheel for pyxDamerauLevenshtein: filename=pyxDamerauLevenshtein-1.5.3-cp36-cp36m-linux_x86_64.whl size=86819 sha256=847b50f54c224b2f3bde9b13af31958adf426d4f70e013fb036794d776fd7330\n",
            "  Stored in directory: /root/.cache/pip/wheels/37/66/2c/863e33407d169ea809ce2908e86556df205dcf5edc4bdd10a5\n",
            "Successfully built pyxDamerauLevenshtein\n",
            "Building wheels for collected packages: python-Levenshtein, jellyfish\n",
            "  Building wheel for python-Levenshtein (setup.py) ... \u001b[?25l\u001b[?25hdone\n",
            "  Created wheel for python-Levenshtein: filename=python_Levenshtein-0.12.0-cp36-cp36m-linux_x86_64.whl size=144669 sha256=3e1b94ee7fdbc0f089b445435bc6d636cd990d056984df540703dc41788f5067\n",
            "  Stored in directory: /root/.cache/pip/wheels/de/c2/93/660fd5f7559049268ad2dc6d81c4e39e9e36518766eaf7e342\n",
            "  Building wheel for jellyfish (setup.py) ... \u001b[?25l\u001b[?25hdone\n",
            "  Created wheel for jellyfish: filename=jellyfish-0.7.2-cp36-cp36m-linux_x86_64.whl size=72991 sha256=e0279bce4d9c2da3d08ddad20d93172df47159d482edf332125c94ff00e85069\n",
            "  Stored in directory: /root/.cache/pip/wheels/e8/fe/99/d8fa8f2ef7b82a625b0b77a84d319b0b50693659823c4effb4\n",
            "Successfully built python-Levenshtein jellyfish\n",
            "Installing collected packages: python-Levenshtein, deprecation, abydos, jellyfish, pyxDamerauLevenshtein\n",
            "Successfully installed abydos-0.5.0 deprecation-2.0.7 jellyfish-0.7.2 python-Levenshtein-0.12.0 pyxDamerauLevenshtein-1.5.3\n"
          ],
          "name": "stdout"
        }
      ]
    },
    {
      "cell_type": "code",
      "metadata": {
        "id": "ySLfuupmObpH",
        "colab_type": "code",
        "colab": {
          "base_uri": "https://localhost:8080/",
          "height": 136
        },
        "outputId": "89e2075f-0fea-4069-8683-eb71b7b72533"
      },
      "source": [
        "import spacy.cli\n",
        "spacy.cli.download(\"en_core_web_lg\")\n",
        "import en_core_web_lg"
      ],
      "execution_count": 5,
      "outputs": [
        {
          "output_type": "stream",
          "text": [
            "\u001b[38;5;3m⚠ Skipping model package dependencies and setting `--no-deps`. You\n",
            "don't seem to have the spaCy package itself installed (maybe because you've\n",
            "built from source?), so installing the model dependencies would cause spaCy to\n",
            "be downloaded, which probably isn't what you want. If the model package has\n",
            "other dependencies, you'll have to install them manually.\u001b[0m\n",
            "\u001b[38;5;2m✔ Download and installation successful\u001b[0m\n",
            "You can now load the model via spacy.load('en_core_web_lg')\n"
          ],
          "name": "stdout"
        }
      ]
    },
    {
      "cell_type": "code",
      "metadata": {
        "id": "_dSKj9yjOiKg",
        "colab_type": "code",
        "colab": {}
      },
      "source": [
        "import pandas as pd\n",
        "import numpy as np\n",
        "import warnings\n",
        "warnings.filterwarnings(\"ignore\")\n",
        "import re\n",
        "import random\n",
        "import srsly\n",
        "import json\n",
        "import spacy\n",
        "from spacy.lang.en import English\n",
        "from spacy.pipeline import EntityRuler\n",
        "from spacy import displacy\n",
        "from spacy.util import minibatch, compounding, decaying\n",
        "from pandas.io.json import json_normalize\n",
        "from spacy.gold import docs_to_json, biluo_tags_from_offsets, offsets_from_biluo_tags\n",
        "from spacy.matcher import Matcher \n",
        "from spacy.tokens import Span\n",
        "\n",
        "import itertools\n",
        "from collections import Counter\n",
        "\n",
        "import matplotlib.pyplot as plt\n",
        "%matplotlib inline\n",
        "\n",
        "import seaborn as sns"
      ],
      "execution_count": 0,
      "outputs": []
    },
    {
      "cell_type": "code",
      "metadata": {
        "id": "FL_KnneYOpYx",
        "colab_type": "code",
        "colab": {
          "base_uri": "https://localhost:8080/",
          "height": 34
        },
        "outputId": "e22f8d08-42fc-47a3-8859-5b5245721f0f"
      },
      "source": [
        "spacy.prefer_gpu()"
      ],
      "execution_count": 7,
      "outputs": [
        {
          "output_type": "execute_result",
          "data": {
            "text/plain": [
              "True"
            ]
          },
          "metadata": {
            "tags": []
          },
          "execution_count": 7
        }
      ]
    },
    {
      "cell_type": "code",
      "metadata": {
        "id": "JrpyvHlMPrRM",
        "colab_type": "code",
        "colab": {}
      },
      "source": [
        "def cleanse_text(text):\n",
        "  step1 = re.sub(r\"(\\{'LOWER':\\s)\",r\"\",str(text))\n",
        "  step2 = re.sub(r\"[\\[{\\'\\,\\\"}\\]]\",r\"\",step1)\n",
        "  return step2\n",
        "\n",
        "def trim_entity_spans(data: list) -> list:\n",
        "    \"\"\"Removes leading and trailing white spaces from entity spans.\n",
        "\n",
        "    Args:\n",
        "        data (list): The data to be cleaned in spaCy JSON format.\n",
        "\n",
        "    Returns:\n",
        "        list: The cleaned data.\n",
        "    \"\"\"\n",
        "    invalid_span_tokens = re.compile(r'\\s')\n",
        "\n",
        "    cleaned_data = []\n",
        "    for text, annotations in data:\n",
        "        entities = annotations['entities']\n",
        "\n",
        "#        print(text, annotations)\n",
        "        valid_entities = []\n",
        "        for start, end, label in entities:\n",
        "          valid_start = start\n",
        "          valid_end = end\n",
        "#          print(valid_start, valid_end, len(text))\n",
        "          while valid_start < len(text) and invalid_span_tokens.match(text[valid_start]):\n",
        "            valid_start += 1\n",
        "          while valid_end > 1 and invalid_span_tokens.match(text[valid_end - 1]):\n",
        "            valid_end -= 1\n",
        "          valid_entities.append([valid_start, valid_end, label])\n",
        "        cleaned_data.append([text, {'entities': valid_entities}])\n",
        "\n",
        "    return cleaned_data\n",
        "\n",
        "def dump_jsonl(data, output_path, append=False):\n",
        "    \"\"\"\n",
        "    Write list of objects to a JSON lines file.\n",
        "    \"\"\"\n",
        "    mode = 'a+' if append else 'w'\n",
        "    with open(output_path, mode, encoding='utf-8') as f:\n",
        "        for line in data:\n",
        "            json_record = json.dumps(line, ensure_ascii=False)\n",
        "            f.write(json_record + '\\n')\n",
        "    print('Wrote {} records to {}'.format(len(data), output_path))\n",
        "\n",
        "def load_jsonl(input_path) -> list:\n",
        "    \"\"\"\n",
        "    Read list of objects from a JSON lines file.\n",
        "    \"\"\"\n",
        "    data = []\n",
        "    with open(input_path, 'r', encoding='utf-8') as f:\n",
        "        for line in f:\n",
        "            data.append(json.loads(line.rstrip('\\n|\\r')))\n",
        "    print('Loaded {} records from {}'.format(len(data), input_path))\n",
        "    return data\n",
        "\n",
        "\n",
        "def create_entity_pattern(ent_name, ent_label):\n",
        "  pattern_list = []\n",
        "  pattern_dict = {}\n",
        "  id_str = ''\n",
        "  for word in ent_name.lower().split():\n",
        "    token_dict = {}\n",
        "    token_dict['LOWER'] = word\n",
        "    pattern_list.append(token_dict)\n",
        "    id_str += '_' + word\n",
        "  if ent_label[:2] == 'U_':\n",
        "    pattern_dict['label'] = ent_label[2:]\n",
        "  else:\n",
        "    pattern_dict['label'] = ent_label  \n",
        "  pattern_dict['pattern'] = pattern_list\n",
        "  if id_str[0] == '_':\n",
        "    id_str = id_str[1:]\n",
        "  pattern_dict['id'] = id_str\n",
        "  return pattern_dict\n",
        "\n",
        "\n",
        "def clean_like_objects(text):\n",
        "  step1 = re.sub(\"ObjectId\\(\\'\",\"\",str(text))\n",
        "  step2 = re.sub(\"\\'\\)\",\"\",step1)\n",
        "  return step2\n"
      ],
      "execution_count": 0,
      "outputs": []
    },
    {
      "cell_type": "code",
      "metadata": {
        "id": "KWZ_yLzaPx29",
        "colab_type": "code",
        "colab": {}
      },
      "source": [
        "!cat beverage.jsonl bread.jsonl card_date_event_fac.jsonl > test1.jsonl\n",
        "!cat condiment.jsonl dish.jsonl event_food_habit.jsonl > test2.jsonl\n",
        "!cat fruit.jsonl herb_lifestyle_meal.jsonl loc_money_norp_ordinal.jsonl > test3.jsonl\n",
        "!cat org_product.jsonl pastry_seed_spice.jsonl quant_time.jsonl vegetable.jsonl > test4.jsonl\n",
        "!cat test1.jsonl test2.jsonl test3.jsonl test4.jsonl > test5.jsonl\n",
        "!cat test5.jsonl updated_GPE.jsonl > patterns_2020_02_04.jsonl"
      ],
      "execution_count": 0,
      "outputs": []
    },
    {
      "cell_type": "code",
      "metadata": {
        "id": "RURDTL_bQWco",
        "colab_type": "code",
        "colab": {
          "base_uri": "https://localhost:8080/",
          "height": 238
        },
        "outputId": "9148ebcf-b9f2-4106-e21f-6007912f68e3"
      },
      "source": [
        "df_pattern = pd.read_json('patterns_2020_02_01.jsonl',lines=True)\n",
        "df_pattern['cleaned_pattern'] = df_pattern.pattern.apply(lambda x: cleanse_text(x))\n",
        "df_pattern['label'] = 'U_' + df_pattern.label.astype(str)\n",
        "df_pattern['tup_col'] = list(zip(df_pattern.cleaned_pattern, df_pattern.label))\n",
        "df_pattern['merged'] = df_pattern.apply(lambda row: {row['cleaned_pattern']:row['label']}, axis=1)\n",
        "df_pattern.head()\n",
        "df_pattern.tail()"
      ],
      "execution_count": 10,
      "outputs": [
        {
          "output_type": "execute_result",
          "data": {
            "text/html": [
              "<div>\n",
              "<style scoped>\n",
              "    .dataframe tbody tr th:only-of-type {\n",
              "        vertical-align: middle;\n",
              "    }\n",
              "\n",
              "    .dataframe tbody tr th {\n",
              "        vertical-align: top;\n",
              "    }\n",
              "\n",
              "    .dataframe thead th {\n",
              "        text-align: right;\n",
              "    }\n",
              "</style>\n",
              "<table border=\"1\" class=\"dataframe\">\n",
              "  <thead>\n",
              "    <tr style=\"text-align: right;\">\n",
              "      <th></th>\n",
              "      <th>label</th>\n",
              "      <th>pattern</th>\n",
              "      <th>id</th>\n",
              "      <th>cleaned_pattern</th>\n",
              "      <th>tup_col</th>\n",
              "      <th>merged</th>\n",
              "    </tr>\n",
              "  </thead>\n",
              "  <tbody>\n",
              "    <tr>\n",
              "      <th>22032</th>\n",
              "      <td>U_GPE_region</td>\n",
              "      <td>[{'LOWER': 'šumadija'}]</td>\n",
              "      <td>šumadija</td>\n",
              "      <td>šumadija</td>\n",
              "      <td>(šumadija, U_GPE_region)</td>\n",
              "      <td>{'šumadija': 'U_GPE_region'}</td>\n",
              "    </tr>\n",
              "    <tr>\n",
              "      <th>22033</th>\n",
              "      <td>U_GPE_region</td>\n",
              "      <td>[{'LOWER': 'žilina'}, {'LOWER': 'region'}]</td>\n",
              "      <td>žilina_region</td>\n",
              "      <td>žilina region</td>\n",
              "      <td>(žilina region, U_GPE_region)</td>\n",
              "      <td>{'žilina region': 'U_GPE_region'}</td>\n",
              "    </tr>\n",
              "    <tr>\n",
              "      <th>22034</th>\n",
              "      <td>U_GPE_region</td>\n",
              "      <td>[{'LOWER': 'ǁkaras'}]</td>\n",
              "      <td>ǁkaras</td>\n",
              "      <td>ǁkaras</td>\n",
              "      <td>(ǁkaras, U_GPE_region)</td>\n",
              "      <td>{'ǁkaras': 'U_GPE_region'}</td>\n",
              "    </tr>\n",
              "    <tr>\n",
              "      <th>22035</th>\n",
              "      <td>U_GPE_region</td>\n",
              "      <td>[{'LOWER': 'șoldănești'}, {'LOWER': 'district'}]</td>\n",
              "      <td>șoldănești_district</td>\n",
              "      <td>șoldănești district</td>\n",
              "      <td>(șoldănești district, U_GPE_region)</td>\n",
              "      <td>{'șoldănești district': 'U_GPE_region'}</td>\n",
              "    </tr>\n",
              "    <tr>\n",
              "      <th>22036</th>\n",
              "      <td>U_GPE_region</td>\n",
              "      <td>[{'LOWER': 'ștefan'}, {'LOWER': 'vodă'}, {'LOW...</td>\n",
              "      <td>ștefan_vodă_district</td>\n",
              "      <td>ștefan vodă district</td>\n",
              "      <td>(ștefan vodă district, U_GPE_region)</td>\n",
              "      <td>{'ștefan vodă district': 'U_GPE_region'}</td>\n",
              "    </tr>\n",
              "  </tbody>\n",
              "</table>\n",
              "</div>"
            ],
            "text/plain": [
              "              label  ...                                    merged\n",
              "22032  U_GPE_region  ...              {'šumadija': 'U_GPE_region'}\n",
              "22033  U_GPE_region  ...         {'žilina region': 'U_GPE_region'}\n",
              "22034  U_GPE_region  ...                {'ǁkaras': 'U_GPE_region'}\n",
              "22035  U_GPE_region  ...   {'șoldănești district': 'U_GPE_region'}\n",
              "22036  U_GPE_region  ...  {'ștefan vodă district': 'U_GPE_region'}\n",
              "\n",
              "[5 rows x 6 columns]"
            ]
          },
          "metadata": {
            "tags": []
          },
          "execution_count": 10
        }
      ]
    },
    {
      "cell_type": "code",
      "metadata": {
        "id": "-xuYlLqIQa-A",
        "colab_type": "code",
        "colab": {}
      },
      "source": [
        "ent_list = df_pattern.tup_col.to_list()"
      ],
      "execution_count": 0,
      "outputs": []
    },
    {
      "cell_type": "code",
      "metadata": {
        "id": "JWPGy_doQhnW",
        "colab_type": "code",
        "colab": {}
      },
      "source": [
        "nlp = en_core_web_lg.load()"
      ],
      "execution_count": 0,
      "outputs": []
    },
    {
      "cell_type": "code",
      "metadata": {
        "id": "xOUn_kULQkF8",
        "colab_type": "code",
        "colab": {
          "base_uri": "https://localhost:8080/",
          "height": 34
        },
        "outputId": "59eeefac-a5f2-4499-d7bf-d0560eec6863"
      },
      "source": [
        "ruler = EntityRuler(nlp).from_disk(\"patterns_2020_02_04.jsonl\")\n",
        "nlp.add_pipe(ruler, before='ner')\n",
        "merge_ents = nlp.create_pipe(\"merge_entities\")\n",
        "nlp.add_pipe(merge_ents, after='ner')\n",
        "nlp.pipe_names"
      ],
      "execution_count": 13,
      "outputs": [
        {
          "output_type": "execute_result",
          "data": {
            "text/plain": [
              "['tagger', 'parser', 'entity_ruler', 'ner', 'merge_entities']"
            ]
          },
          "metadata": {
            "tags": []
          },
          "execution_count": 13
        }
      ]
    },
    {
      "cell_type": "code",
      "metadata": {
        "id": "TSE1HcfiQord",
        "colab_type": "code",
        "colab": {
          "base_uri": "https://localhost:8080/",
          "height": 544
        },
        "outputId": "3b106780-0020-4854-a885-23757483cd80"
      },
      "source": [
        "reviews = pd.read_csv('full_reviews.csv',usecols=['_id', 'createdAt','text',\\\n",
        "                                                  'overall','originality','value','nutrition','presentation','taste',\\\n",
        "                                                  'type','user','user_info.name','user_info.language','user_info.reviewKarma.total.score',\\\n",
        "                                                  'user_info.likedArticlesCount','user_info.likedReviewsCount','user_info.followersCount',\\\n",
        "                                                  'user_info.challengeReviews','dish','dish_info.name','type',\\\n",
        "                                                  'restaurant','restaurant_name','restaurant_website','restaurant_country','restaurant_locality',\\\n",
        "                                                  'likes'])\n",
        "reviews['createdAt'] = pd.to_datetime(reviews['createdAt'],format='%Y-%m-%d %H:%M:%S.%f')\n",
        "\n",
        "reviews.info()\n",
        "\n",
        "\n",
        "\n",
        "\n",
        "\n"
      ],
      "execution_count": 22,
      "outputs": [
        {
          "output_type": "stream",
          "text": [
            "<class 'pandas.core.frame.DataFrame'>\n",
            "RangeIndex: 92797 entries, 0 to 92796\n",
            "Data columns (total 26 columns):\n",
            "_id                                  92797 non-null object\n",
            "likes                                92797 non-null object\n",
            "user                                 92797 non-null object\n",
            "text                                 92797 non-null object\n",
            "type                                 92797 non-null object\n",
            "restaurant                           92797 non-null object\n",
            "dish                                 92797 non-null object\n",
            "taste                                92797 non-null int64\n",
            "presentation                         92797 non-null int64\n",
            "nutrition                            92797 non-null int64\n",
            "originality                          92797 non-null int64\n",
            "value                                92797 non-null int64\n",
            "overall                              92797 non-null float64\n",
            "createdAt                            92797 non-null datetime64[ns]\n",
            "user_info.name                       92797 non-null object\n",
            "user_info.likedArticlesCount         92797 non-null int64\n",
            "user_info.followersCount             92797 non-null int64\n",
            "user_info.likedReviewsCount          92797 non-null int64\n",
            "user_info.challengeReviews           92797 non-null int64\n",
            "user_info.language                   75892 non-null object\n",
            "user_info.reviewKarma.total.score    92797 non-null int64\n",
            "dish_info.name                       92797 non-null object\n",
            "restaurant_name                      92797 non-null object\n",
            "restaurant_country                   92786 non-null object\n",
            "restaurant_website                   82077 non-null object\n",
            "restaurant_locality                  73380 non-null object\n",
            "dtypes: datetime64[ns](1), float64(1), int64(10), object(14)\n",
            "memory usage: 18.4+ MB\n"
          ],
          "name": "stdout"
        }
      ]
    },
    {
      "cell_type": "code",
      "metadata": {
        "id": "PC2g7Wv2VG9s",
        "colab_type": "code",
        "colab": {}
      },
      "source": [
        ""
      ],
      "execution_count": 0,
      "outputs": []
    },
    {
      "cell_type": "code",
      "metadata": {
        "id": "4UWQwzHrVDd9",
        "colab_type": "code",
        "colab": {}
      },
      "source": [
        "train_reviews = reviews[:10000]\n",
        "eval_reviews = reviews[10000:60000]\n",
        "test_reviews = reviews[60000:]"
      ],
      "execution_count": 0,
      "outputs": []
    },
    {
      "cell_type": "code",
      "metadata": {
        "id": "VBIZeNosT-cb",
        "colab_type": "code",
        "colab": {}
      },
      "source": [
        "train_gen = (rev for rev in train_reviews['text'])\n",
        "to_train_ents = []\n",
        "check_list = []"
      ],
      "execution_count": 0,
      "outputs": []
    },
    {
      "cell_type": "code",
      "metadata": {
        "id": "fGfxQkyHUCKE",
        "colab_type": "code",
        "colab": {}
      },
      "source": [
        "for raw, doc in zip(list(train_reviews['text']), nlp.pipe(list(train_reviews['text']))):\n",
        "  tok_list = [token.text for token in doc]\n",
        "  tag_list = ['O' for token in doc]\n",
        "  matched_ents = [(i,item) for i, item in enumerate(tok_list) if item.lower() in [i[0] for i in ent_list + check_list]]\n",
        "\n",
        "  for ent in matched_ents:\n",
        "    ent_tag = ''.join(list(set([tup[1] for tup in ent_list + check_list if tup[0] == ent[1].lower()])))\n",
        "    tag_list[ent[0]] = ent_tag\n",
        "  entities = offsets_from_biluo_tags(doc, tag_list)\n",
        "  to_train_ents.append((raw, dict(entities = entities)))\n",
        "clean_train_ents = trim_entity_spans(to_train_ents)"
      ],
      "execution_count": 0,
      "outputs": []
    },
    {
      "cell_type": "code",
      "metadata": {
        "id": "btstK3bqUFV-",
        "colab_type": "code",
        "colab": {
          "base_uri": "https://localhost:8080/",
          "height": 34
        },
        "outputId": "a1782acb-c573-4e40-9405-2875eb1544f7"
      },
      "source": [
        "dump_jsonl(clean_train_ents,'train.jsonl')"
      ],
      "execution_count": 26,
      "outputs": [
        {
          "output_type": "stream",
          "text": [
            "Wrote 10000 records to train.jsonl\n"
          ],
          "name": "stdout"
        }
      ]
    },
    {
      "cell_type": "code",
      "metadata": {
        "id": "9mBZ2r87UJDC",
        "colab_type": "code",
        "colab": {
          "base_uri": "https://localhost:8080/",
          "height": 51
        },
        "outputId": "e005da17-9b0f-4dcd-975c-ccf65ef9915d"
      },
      "source": [
        "train_data = load_jsonl('train.jsonl')\n",
        "type(train_data)"
      ],
      "execution_count": 27,
      "outputs": [
        {
          "output_type": "stream",
          "text": [
            "Loaded 10000 records from train.jsonl\n"
          ],
          "name": "stdout"
        },
        {
          "output_type": "execute_result",
          "data": {
            "text/plain": [
              "list"
            ]
          },
          "metadata": {
            "tags": []
          },
          "execution_count": 27
        }
      ]
    },
    {
      "cell_type": "code",
      "metadata": {
        "id": "SbNODB6rUKwX",
        "colab_type": "code",
        "colab": {
          "base_uri": "https://localhost:8080/",
          "height": 34
        },
        "outputId": "e0afd602-f1f8-4903-ac5c-ee3b74a1bacf"
      },
      "source": [
        "model = 'en_core_web_lg'\n",
        "#model = None\n",
        "\n",
        "\n",
        "\"\"\"Load the model, set up the pipeline and train the entity recognizer.\"\"\"\n",
        "if model is not None:\n",
        "    nlp = en_core_web_lg.load()  # load existing spaCy model\n",
        "    print(\"Loaded model '%s'\" % model)\n",
        "else:\n",
        "    nlp = spacy.blank(\"en\")  # create blank Language class\n",
        "    print(\"Created blank 'en' model\")\n",
        "\n",
        "# nlp.create_pipe works for built-ins that are registered with spaCy\n",
        "if \"ner\" not in nlp.pipe_names:\n",
        "    ner = nlp.create_pipe(\"ner\")\n",
        "    nlp.add_pipe(ner, last=True)\n",
        "# otherwise, get it so we can add labels\n",
        "else:\n",
        "    ner = nlp.get_pipe(\"ner\")\n",
        "\n",
        "# add labels\n",
        "for _, annotations in train_data:\n",
        "    for ent in annotations.get(\"entities\"):\n",
        "        ner.add_label(ent[2])"
      ],
      "execution_count": 28,
      "outputs": [
        {
          "output_type": "stream",
          "text": [
            "Loaded model 'en_core_web_lg'\n"
          ],
          "name": "stdout"
        }
      ]
    },
    {
      "cell_type": "code",
      "metadata": {
        "id": "g0IeWT5wUXTL",
        "colab_type": "code",
        "colab": {
          "base_uri": "https://localhost:8080/",
          "height": 680
        },
        "outputId": "d5abc7ee-2626-4197-ce0f-092df3591411"
      },
      "source": [
        "ner.labels"
      ],
      "execution_count": 29,
      "outputs": [
        {
          "output_type": "execute_result",
          "data": {
            "text/plain": [
              "('CARDINAL',\n",
              " 'DATE',\n",
              " 'EVENT',\n",
              " 'FAC',\n",
              " 'GPE',\n",
              " 'GPE_city',\n",
              " 'GPE_country',\n",
              " 'GPE_region',\n",
              " 'GPE_regionU_GPE_city',\n",
              " 'LANGUAGE',\n",
              " 'LAW',\n",
              " 'LOC',\n",
              " 'MONEY',\n",
              " 'NORP',\n",
              " 'ORDINAL',\n",
              " 'ORG',\n",
              " 'PERCENT',\n",
              " 'PERSON',\n",
              " 'PRODUCT',\n",
              " 'QUANTITY',\n",
              " 'TIME',\n",
              " 'WORK_OF_ART',\n",
              " 'beverage',\n",
              " 'bread',\n",
              " 'condiment',\n",
              " 'dish',\n",
              " 'dishU_GPE_city',\n",
              " 'food_habit',\n",
              " 'fruit',\n",
              " 'herb',\n",
              " 'herbU_condiment',\n",
              " 'lifestyle',\n",
              " 'meal',\n",
              " 'pastry',\n",
              " 'seed',\n",
              " 'spice',\n",
              " 'spiceU_dish',\n",
              " 'spiceU_vegetable',\n",
              " 'vegetable')"
            ]
          },
          "metadata": {
            "tags": []
          },
          "execution_count": 29
        }
      ]
    },
    {
      "cell_type": "code",
      "metadata": {
        "id": "8qTz5Jq_Ulp7",
        "colab_type": "code",
        "colab": {}
      },
      "source": [
        "dropout = decaying(0.6, 0.2, 1e-4)"
      ],
      "execution_count": 0,
      "outputs": []
    },
    {
      "cell_type": "code",
      "metadata": {
        "id": "cxCGYbADYZ8i",
        "colab_type": "code",
        "colab": {}
      },
      "source": [
        "# get names of other pipes to disable them during training\n",
        "#other_pipes = [pipe for pipe in nlp.pipe_names if pipe not in [\"ner\", \"entity_ruler\",\"merge_entities\"]]\n",
        "\n",
        "other_pipes = [pipe for pipe in nlp.pipe_names if pipe not in [\"ner\"]]\n",
        "\n",
        "loss_trend = []\n",
        "with nlp.disable_pipes(*other_pipes):  # only train NER\n",
        "    # reset and initialize the weights randomly – but only if we're\n",
        "    # training a new model\n",
        "    if model is None:\n",
        "        nlp.begin_training()\n",
        "\n",
        "\n",
        "\n",
        "    for itn in range(40):\n",
        "      random.shuffle(train_data)\n",
        "      losses = {}\n",
        "\n",
        "#      for item in clean_train_ents:\n",
        "# batch up the examples using spaCy's minibatch\n",
        "      batches = minibatch(train_data, size=compounding(4.0, 32.0, 1.001))\n",
        "\n",
        "      for batch in batches:\n",
        "        texts, annotations = zip(*batch)\n",
        "#        print([item[0]], [item[1]])\n",
        "\n",
        "#        print(texts)\n",
        "#        print(annotations)\n",
        "        nlp.update(texts, annotations, drop=next(dropout), losses=losses)\n",
        "        loss_trend.append(losses['ner'])"
      ],
      "execution_count": 0,
      "outputs": []
    },
    {
      "cell_type": "code",
      "metadata": {
        "id": "AX92blcrYe6z",
        "colab_type": "code",
        "colab": {
          "base_uri": "https://localhost:8080/",
          "height": 286
        },
        "outputId": "d36c464e-6c7b-4f65-d5da-caaf88d41faa"
      },
      "source": [
        "plt.plot(loss_trend)"
      ],
      "execution_count": 32,
      "outputs": [
        {
          "output_type": "execute_result",
          "data": {
            "text/plain": [
              "[<matplotlib.lines.Line2D at 0x7f9d9fc509e8>]"
            ]
          },
          "metadata": {
            "tags": []
          },
          "execution_count": 32
        },
        {
          "output_type": "display_data",
          "data": {
            "image/png": "[encoded data removed]",
            "text/plain": [
              "<Figure size 432x288 with 1 Axes>"
            ]
          },
          "metadata": {
            "tags": []
          }
        }
      ]
    },
    {
      "cell_type": "code",
      "metadata": {
        "id": "Q6wUY-w8YjV4",
        "colab_type": "code",
        "colab": {
          "base_uri": "https://localhost:8080/",
          "height": 34
        },
        "outputId": "931723e8-2360-47aa-905e-8c24ba8f493c"
      },
      "source": [
        "nlp.pipe_names"
      ],
      "execution_count": 33,
      "outputs": [
        {
          "output_type": "execute_result",
          "data": {
            "text/plain": [
              "['tagger', 'parser', 'ner']"
            ]
          },
          "metadata": {
            "tags": []
          },
          "execution_count": 33
        }
      ]
    },
    {
      "cell_type": "code",
      "metadata": {
        "id": "oYloh95XYmrt",
        "colab_type": "code",
        "colab": {
          "base_uri": "https://localhost:8080/",
          "height": 34
        },
        "outputId": "72f9bc55-95c5-429a-bd84-a55ed4aab29f"
      },
      "source": [
        "merge_ents = nlp.create_pipe(\"merge_entities\")\n",
        "nlp.add_pipe(merge_ents, after='ner')\n",
        "ruler = EntityRuler(nlp).from_disk(\"patterns_2020_02_04.jsonl\")\n",
        "nlp.add_pipe(ruler, before='ner')\n",
        "nlp.pipe_names"
      ],
      "execution_count": 34,
      "outputs": [
        {
          "output_type": "execute_result",
          "data": {
            "text/plain": [
              "['tagger', 'parser', 'entity_ruler', 'ner', 'merge_entities']"
            ]
          },
          "metadata": {
            "tags": []
          },
          "execution_count": 34
        }
      ]
    },
    {
      "cell_type": "code",
      "metadata": {
        "id": "e9aysdzqYqw7",
        "colab_type": "code",
        "colab": {}
      },
      "source": [
        "nlp.to_disk('trained_model_2020_02_04')"
      ],
      "execution_count": 0,
      "outputs": []
    },
    {
      "cell_type": "code",
      "metadata": {
        "id": "eDBKuMx5Yuxy",
        "colab_type": "code",
        "colab": {}
      },
      "source": [
        "nlp = spacy.load('trained_model_2020_02_04')"
      ],
      "execution_count": 0,
      "outputs": []
    },
    {
      "cell_type": "code",
      "metadata": {
        "id": "7hGECZGqjKzt",
        "colab_type": "code",
        "colab": {
          "base_uri": "https://localhost:8080/",
          "height": 102
        },
        "outputId": "00425d73-0eaa-4f81-f619-640a88202d89"
      },
      "source": [
        "ent_list_eval = []\n",
        "for doc in nlp.pipe(eval_reviews['text']):\n",
        "#  displacy.render(nlp(doc),'ent',jupyter=True)\n",
        "  ent_list_eval.append([k  for k in Counter(sorted([(ent.ent_id_) for ent in doc.ents if ent.ent_id_ != ''])).keys()])\n",
        "#ent_list.append([ent.text for ent in nlp(doc).ents if ent.ent_id_ == ''])\n",
        "\n",
        "ent_list_eval[-5:]"
      ],
      "execution_count": 37,
      "outputs": [
        {
          "output_type": "execute_result",
          "data": {
            "text/plain": [
              "[['eggplants', 'noodles', 'pickles', 'sauce', 'vegan'],\n",
              " ['eggplants', 'noodles', 'pickles', 'sauce', 'vegan'],\n",
              " ['eggplants', 'noodles', 'pickles', 'sauce', 'vegan'],\n",
              " ['cashew_sauce', 'chipotle', 'pepper', 'salsa', 'salt'],\n",
              " ['cashew_sauce', 'chipotle', 'pepper', 'salsa', 'salt']]"
            ]
          },
          "metadata": {
            "tags": []
          },
          "execution_count": 37
        }
      ]
    },
    {
      "cell_type": "code",
      "metadata": {
        "id": "D9LQLd1TjV74",
        "colab_type": "code",
        "colab": {
          "base_uri": "https://localhost:8080/",
          "height": 102
        },
        "outputId": "a9b652f5-1cfb-40cc-825a-47955c13ac2b"
      },
      "source": [
        "ent_list_eval[:5]"
      ],
      "execution_count": 38,
      "outputs": [
        {
          "output_type": "execute_result",
          "data": {
            "text/plain": [
              "[['meat', 'sausage', 'sausage_roll', 'vegan'],\n",
              " [],\n",
              " [],\n",
              " ['jelly', 'sugar'],\n",
              " ['broccolini', 'entrée', 'vegan']]"
            ]
          },
          "metadata": {
            "tags": []
          },
          "execution_count": 38
        }
      ]
    },
    {
      "cell_type": "code",
      "metadata": {
        "id": "unhJxM14vAlS",
        "colab_type": "code",
        "colab": {}
      },
      "source": [
        "df_entities = pd.DataFrame(pd.Series(ent_list_eval),columns=['entities'])"
      ],
      "execution_count": 0,
      "outputs": []
    },
    {
      "cell_type": "code",
      "metadata": {
        "id": "yFPImIt6vSto",
        "colab_type": "code",
        "colab": {}
      },
      "source": [
        "df_entities.to_csv('entities_10_60k.csv')"
      ],
      "execution_count": 0,
      "outputs": []
    },
    {
      "cell_type": "code",
      "metadata": {
        "id": "4Q5VAJ37vchY",
        "colab_type": "code",
        "colab": {
          "base_uri": "https://localhost:8080/",
          "height": 204
        },
        "outputId": "67b86be6-a00f-4618-8efb-725eefc656f6"
      },
      "source": [
        "df_entities.tail()"
      ],
      "execution_count": 41,
      "outputs": [
        {
          "output_type": "execute_result",
          "data": {
            "text/html": [
              "<div>\n",
              "<style scoped>\n",
              "    .dataframe tbody tr th:only-of-type {\n",
              "        vertical-align: middle;\n",
              "    }\n",
              "\n",
              "    .dataframe tbody tr th {\n",
              "        vertical-align: top;\n",
              "    }\n",
              "\n",
              "    .dataframe thead th {\n",
              "        text-align: right;\n",
              "    }\n",
              "</style>\n",
              "<table border=\"1\" class=\"dataframe\">\n",
              "  <thead>\n",
              "    <tr style=\"text-align: right;\">\n",
              "      <th></th>\n",
              "      <th>entities</th>\n",
              "    </tr>\n",
              "  </thead>\n",
              "  <tbody>\n",
              "    <tr>\n",
              "      <th>49995</th>\n",
              "      <td>[eggplants, noodles, pickles, sauce, vegan]</td>\n",
              "    </tr>\n",
              "    <tr>\n",
              "      <th>49996</th>\n",
              "      <td>[eggplants, noodles, pickles, sauce, vegan]</td>\n",
              "    </tr>\n",
              "    <tr>\n",
              "      <th>49997</th>\n",
              "      <td>[eggplants, noodles, pickles, sauce, vegan]</td>\n",
              "    </tr>\n",
              "    <tr>\n",
              "      <th>49998</th>\n",
              "      <td>[cashew_sauce, chipotle, pepper, salsa, salt]</td>\n",
              "    </tr>\n",
              "    <tr>\n",
              "      <th>49999</th>\n",
              "      <td>[cashew_sauce, chipotle, pepper, salsa, salt]</td>\n",
              "    </tr>\n",
              "  </tbody>\n",
              "</table>\n",
              "</div>"
            ],
            "text/plain": [
              "                                            entities\n",
              "49995    [eggplants, noodles, pickles, sauce, vegan]\n",
              "49996    [eggplants, noodles, pickles, sauce, vegan]\n",
              "49997    [eggplants, noodles, pickles, sauce, vegan]\n",
              "49998  [cashew_sauce, chipotle, pepper, salsa, salt]\n",
              "49999  [cashew_sauce, chipotle, pepper, salsa, salt]"
            ]
          },
          "metadata": {
            "tags": []
          },
          "execution_count": 41
        }
      ]
    },
    {
      "cell_type": "code",
      "metadata": {
        "id": "vz4la2zqvmI1",
        "colab_type": "code",
        "colab": {
          "base_uri": "https://localhost:8080/",
          "height": 1000
        },
        "outputId": "9b21ed2f-f225-41ac-c9ce-6af83a7e9e6e"
      },
      "source": [
        "eval_reviews.reset_index(drop=True)"
      ],
      "execution_count": 42,
      "outputs": [
        {
          "output_type": "execute_result",
          "data": {
            "text/html": [
              "<div>\n",
              "<style scoped>\n",
              "    .dataframe tbody tr th:only-of-type {\n",
              "        vertical-align: middle;\n",
              "    }\n",
              "\n",
              "    .dataframe tbody tr th {\n",
              "        vertical-align: top;\n",
              "    }\n",
              "\n",
              "    .dataframe thead th {\n",
              "        text-align: right;\n",
              "    }\n",
              "</style>\n",
              "<table border=\"1\" class=\"dataframe\">\n",
              "  <thead>\n",
              "    <tr style=\"text-align: right;\">\n",
              "      <th></th>\n",
              "      <th>_id</th>\n",
              "      <th>likes</th>\n",
              "      <th>user</th>\n",
              "      <th>text</th>\n",
              "      <th>type</th>\n",
              "      <th>restaurant</th>\n",
              "      <th>dish</th>\n",
              "      <th>taste</th>\n",
              "      <th>presentation</th>\n",
              "      <th>nutrition</th>\n",
              "      <th>originality</th>\n",
              "      <th>value</th>\n",
              "      <th>overall</th>\n",
              "      <th>createdAt</th>\n",
              "      <th>user_info.name</th>\n",
              "      <th>user_info.likedArticlesCount</th>\n",
              "      <th>user_info.followersCount</th>\n",
              "      <th>user_info.likedReviewsCount</th>\n",
              "      <th>user_info.challengeReviews</th>\n",
              "      <th>user_info.language</th>\n",
              "      <th>user_info.reviewKarma.total.score</th>\n",
              "      <th>dish_info.name</th>\n",
              "      <th>restaurant_name</th>\n",
              "      <th>restaurant_country</th>\n",
              "      <th>restaurant_website</th>\n",
              "      <th>restaurant_locality</th>\n",
              "    </tr>\n",
              "  </thead>\n",
              "  <tbody>\n",
              "    <tr>\n",
              "      <th>0</th>\n",
              "      <td>5e1db388f5e9b50020778794</td>\n",
              "      <td>[ObjectId('5c3530801b78330004aa6dc6'), ObjectI...</td>\n",
              "      <td>5dee900b5098f40020f128cd</td>\n",
              "      <td>The Greggs vegan sausage rolls are so lush! Th...</td>\n",
              "      <td>dish</td>\n",
              "      <td>5e172abedfb870002086eb7a</td>\n",
              "      <td>5e19e2e6ce56f60020488512</td>\n",
              "      <td>5</td>\n",
              "      <td>5</td>\n",
              "      <td>4</td>\n",
              "      <td>4</td>\n",
              "      <td>5</td>\n",
              "      <td>4.6</td>\n",
              "      <td>2020-01-14 12:26:48.486</td>\n",
              "      <td>whatrebeccaeats</td>\n",
              "      <td>0</td>\n",
              "      <td>3</td>\n",
              "      <td>4</td>\n",
              "      <td>4</td>\n",
              "      <td>en</td>\n",
              "      <td>4</td>\n",
              "      <td>Vegan Sausage Roll</td>\n",
              "      <td>Greggs</td>\n",
              "      <td>United Kingdom</td>\n",
              "      <td>https://www.greggs.co.uk/</td>\n",
              "      <td>NaN</td>\n",
              "    </tr>\n",
              "    <tr>\n",
              "      <th>1</th>\n",
              "      <td>5e1db339f5e9b50020778786</td>\n",
              "      <td>[ObjectId('5c748a8934dda90004b017b4')]</td>\n",
              "      <td>5d321bee40e1b300049613c9</td>\n",
              "      <td>Calentar el pan no hubiera estado mal! Muy log...</td>\n",
              "      <td>dish</td>\n",
              "      <td>5c6fae8676f4630004a99715</td>\n",
              "      <td>5ded82e9b9fe1300207a847f</td>\n",
              "      <td>4</td>\n",
              "      <td>4</td>\n",
              "      <td>3</td>\n",
              "      <td>4</td>\n",
              "      <td>4</td>\n",
              "      <td>3.8</td>\n",
              "      <td>2020-01-14 12:25:29.182</td>\n",
              "      <td>sechague</td>\n",
              "      <td>0</td>\n",
              "      <td>5</td>\n",
              "      <td>15</td>\n",
              "      <td>21</td>\n",
              "      <td>es</td>\n",
              "      <td>24</td>\n",
              "      <td>Hamburguesa Le Bleu</td>\n",
              "      <td>Casa Mhia</td>\n",
              "      <td>Argentina</td>\n",
              "      <td>http://www.facebook.com/casamhia/</td>\n",
              "      <td>NaN</td>\n",
              "    </tr>\n",
              "    <tr>\n",
              "      <th>2</th>\n",
              "      <td>5e1db2dbf2316f0020a86169</td>\n",
              "      <td>[ObjectId('5c3530801b78330004aa6dc6'), ObjectI...</td>\n",
              "      <td>5d321bee40e1b300049613c9</td>\n",
              "      <td>Muy rica la salchicha, quizás hubiera faltado ...</td>\n",
              "      <td>dish</td>\n",
              "      <td>5c6fae8676f4630004a99715</td>\n",
              "      <td>5ded141fb9fe1300207a617b</td>\n",
              "      <td>4</td>\n",
              "      <td>4</td>\n",
              "      <td>3</td>\n",
              "      <td>4</td>\n",
              "      <td>4</td>\n",
              "      <td>3.8</td>\n",
              "      <td>2020-01-14 12:23:55.409</td>\n",
              "      <td>sechague</td>\n",
              "      <td>0</td>\n",
              "      <td>5</td>\n",
              "      <td>15</td>\n",
              "      <td>21</td>\n",
              "      <td>es</td>\n",
              "      <td>24</td>\n",
              "      <td>pancho Alemán</td>\n",
              "      <td>Casa Mhia</td>\n",
              "      <td>Argentina</td>\n",
              "      <td>http://www.facebook.com/casamhia/</td>\n",
              "      <td>NaN</td>\n",
              "    </tr>\n",
              "    <tr>\n",
              "      <th>3</th>\n",
              "      <td>5e1db28af2316f0020a86157</td>\n",
              "      <td>[ObjectId('5bdc175f39e739000445ab2c'), ObjectI...</td>\n",
              "      <td>5c9d5576c0918c000425c391</td>\n",
              "      <td>Definitely my fave tau huey around! Decided to...</td>\n",
              "      <td>dish</td>\n",
              "      <td>5abc818231bca50004707143</td>\n",
              "      <td>5e1db289f5e9b50020778761</td>\n",
              "      <td>4</td>\n",
              "      <td>3</td>\n",
              "      <td>3</td>\n",
              "      <td>3</td>\n",
              "      <td>4</td>\n",
              "      <td>3.4</td>\n",
              "      <td>2020-01-14 12:22:34.181</td>\n",
              "      <td>ycarolyn</td>\n",
              "      <td>0</td>\n",
              "      <td>54</td>\n",
              "      <td>448</td>\n",
              "      <td>14</td>\n",
              "      <td>en</td>\n",
              "      <td>199</td>\n",
              "      <td>Classic Beancurd And Grass Jelly</td>\n",
              "      <td>Mr Bean - HarbourFront Centre</td>\n",
              "      <td>Singapore</td>\n",
              "      <td>http://www.mrbean.com.sg/</td>\n",
              "      <td>Singapore</td>\n",
              "    </tr>\n",
              "    <tr>\n",
              "      <th>4</th>\n",
              "      <td>5e1db24ff5e9b5002077874c</td>\n",
              "      <td>[ObjectId('5c3530801b78330004aa6dc6'), ObjectI...</td>\n",
              "      <td>5e11c7f7e5988d00203a7bc0</td>\n",
              "      <td>Flavour was amazing! So rich and luxurious. Be...</td>\n",
              "      <td>dish</td>\n",
              "      <td>5cad0305cb483a0004b22465</td>\n",
              "      <td>5e1db24ef2316f0020a8614b</td>\n",
              "      <td>5</td>\n",
              "      <td>5</td>\n",
              "      <td>4</td>\n",
              "      <td>3</td>\n",
              "      <td>3</td>\n",
              "      <td>4.0</td>\n",
              "      <td>2020-01-14 12:21:35.345</td>\n",
              "      <td>mally</td>\n",
              "      <td>0</td>\n",
              "      <td>0</td>\n",
              "      <td>0</td>\n",
              "      <td>2</td>\n",
              "      <td>en</td>\n",
              "      <td>2</td>\n",
              "      <td>Soft Polenta with Mushroom and Vegetable Ragu</td>\n",
              "      <td>Onesta Cucina</td>\n",
              "      <td>Australia</td>\n",
              "      <td>http://www.onestacucina.com.au/</td>\n",
              "      <td>Bowral</td>\n",
              "    </tr>\n",
              "    <tr>\n",
              "      <th>...</th>\n",
              "      <td>...</td>\n",
              "      <td>...</td>\n",
              "      <td>...</td>\n",
              "      <td>...</td>\n",
              "      <td>...</td>\n",
              "      <td>...</td>\n",
              "      <td>...</td>\n",
              "      <td>...</td>\n",
              "      <td>...</td>\n",
              "      <td>...</td>\n",
              "      <td>...</td>\n",
              "      <td>...</td>\n",
              "      <td>...</td>\n",
              "      <td>...</td>\n",
              "      <td>...</td>\n",
              "      <td>...</td>\n",
              "      <td>...</td>\n",
              "      <td>...</td>\n",
              "      <td>...</td>\n",
              "      <td>...</td>\n",
              "      <td>...</td>\n",
              "      <td>...</td>\n",
              "      <td>...</td>\n",
              "      <td>...</td>\n",
              "      <td>...</td>\n",
              "      <td>...</td>\n",
              "    </tr>\n",
              "    <tr>\n",
              "      <th>49995</th>\n",
              "      <td>5d2c08d73a9fde00047d8fb7</td>\n",
              "      <td>[ObjectId('5ce7c791f0fa8400047531a2'), ObjectI...</td>\n",
              "      <td>5b1495518a667e0004011e1a</td>\n",
              "      <td>This is vegan up request! I loved everything e...</td>\n",
              "      <td>dish</td>\n",
              "      <td>5b3aa5110e31f10004cb9e3a</td>\n",
              "      <td>5d2c08d73a9fde00047d8fb6</td>\n",
              "      <td>3</td>\n",
              "      <td>5</td>\n",
              "      <td>5</td>\n",
              "      <td>5</td>\n",
              "      <td>5</td>\n",
              "      <td>4.6</td>\n",
              "      <td>2019-07-15 05:02:15.503</td>\n",
              "      <td>Claire Fogarty</td>\n",
              "      <td>1</td>\n",
              "      <td>223</td>\n",
              "      <td>2663</td>\n",
              "      <td>4</td>\n",
              "      <td>en</td>\n",
              "      <td>204</td>\n",
              "      <td>The Vegetarian</td>\n",
              "      <td>Off the Grid: Fort Mason Center</td>\n",
              "      <td>United States</td>\n",
              "      <td>https://offthegrid.com/fmc2018</td>\n",
              "      <td>San Francisco</td>\n",
              "    </tr>\n",
              "    <tr>\n",
              "      <th>49996</th>\n",
              "      <td>5d2c08d73a9fde00047d8fb7</td>\n",
              "      <td>[ObjectId('5ce7c791f0fa8400047531a2'), ObjectI...</td>\n",
              "      <td>5b1495518a667e0004011e1a</td>\n",
              "      <td>This is vegan up request! I loved everything e...</td>\n",
              "      <td>dish</td>\n",
              "      <td>5b3aa5110e31f10004cb9e3a</td>\n",
              "      <td>5d2c08d73a9fde00047d8fb6</td>\n",
              "      <td>3</td>\n",
              "      <td>5</td>\n",
              "      <td>5</td>\n",
              "      <td>5</td>\n",
              "      <td>5</td>\n",
              "      <td>4.6</td>\n",
              "      <td>2019-07-15 05:02:15.503</td>\n",
              "      <td>Claire Fogarty</td>\n",
              "      <td>1</td>\n",
              "      <td>223</td>\n",
              "      <td>2663</td>\n",
              "      <td>4</td>\n",
              "      <td>en</td>\n",
              "      <td>204</td>\n",
              "      <td>The Vegetarian</td>\n",
              "      <td>Off the Grid: Fort Mason Center</td>\n",
              "      <td>United States</td>\n",
              "      <td>https://offthegrid.com/fmc2018</td>\n",
              "      <td>San Francisco</td>\n",
              "    </tr>\n",
              "    <tr>\n",
              "      <th>49997</th>\n",
              "      <td>5d2c08d73a9fde00047d8fb7</td>\n",
              "      <td>[ObjectId('5ce7c791f0fa8400047531a2'), ObjectI...</td>\n",
              "      <td>5b1495518a667e0004011e1a</td>\n",
              "      <td>This is vegan up request! I loved everything e...</td>\n",
              "      <td>dish</td>\n",
              "      <td>5b3aa5110e31f10004cb9e3a</td>\n",
              "      <td>5d2c08d73a9fde00047d8fb6</td>\n",
              "      <td>3</td>\n",
              "      <td>5</td>\n",
              "      <td>5</td>\n",
              "      <td>5</td>\n",
              "      <td>5</td>\n",
              "      <td>4.6</td>\n",
              "      <td>2019-07-15 05:02:15.503</td>\n",
              "      <td>Claire Fogarty</td>\n",
              "      <td>1</td>\n",
              "      <td>223</td>\n",
              "      <td>2663</td>\n",
              "      <td>4</td>\n",
              "      <td>en</td>\n",
              "      <td>204</td>\n",
              "      <td>The Vegetarian</td>\n",
              "      <td>Off the Grid: Fort Mason Center</td>\n",
              "      <td>United States</td>\n",
              "      <td>https://offthegrid.com/fmc2018</td>\n",
              "      <td>San Francisco</td>\n",
              "    </tr>\n",
              "    <tr>\n",
              "      <th>49998</th>\n",
              "      <td>5d2c05c53a9fde00047d8f90</td>\n",
              "      <td>[ObjectId('5d1c4c400d225d000450f2df'), ObjectI...</td>\n",
              "      <td>5d2923eb479bfb0004dbfd2d</td>\n",
              "      <td>Very tasty! I do think they should try roastin...</td>\n",
              "      <td>dish</td>\n",
              "      <td>59f9249134987c0004b2d399</td>\n",
              "      <td>5d2c05c53a9fde00047d8f8f</td>\n",
              "      <td>4</td>\n",
              "      <td>5</td>\n",
              "      <td>3</td>\n",
              "      <td>4</td>\n",
              "      <td>4</td>\n",
              "      <td>4.0</td>\n",
              "      <td>2019-07-15 04:49:09.508</td>\n",
              "      <td>veganadventurer</td>\n",
              "      <td>0</td>\n",
              "      <td>2</td>\n",
              "      <td>1</td>\n",
              "      <td>4</td>\n",
              "      <td>NaN</td>\n",
              "      <td>4</td>\n",
              "      <td>Cauliflower appetizer</td>\n",
              "      <td>Gracias Madre</td>\n",
              "      <td>United States</td>\n",
              "      <td>http://gracias-madre.com/</td>\n",
              "      <td>San Francisco</td>\n",
              "    </tr>\n",
              "    <tr>\n",
              "      <th>49999</th>\n",
              "      <td>5d2c05c53a9fde00047d8f90</td>\n",
              "      <td>[ObjectId('5d1c4c400d225d000450f2df'), ObjectI...</td>\n",
              "      <td>5d2923eb479bfb0004dbfd2d</td>\n",
              "      <td>Very tasty! I do think they should try roastin...</td>\n",
              "      <td>dish</td>\n",
              "      <td>59f9249134987c0004b2d399</td>\n",
              "      <td>5d2c05c53a9fde00047d8f8f</td>\n",
              "      <td>4</td>\n",
              "      <td>5</td>\n",
              "      <td>3</td>\n",
              "      <td>4</td>\n",
              "      <td>4</td>\n",
              "      <td>4.0</td>\n",
              "      <td>2019-07-15 04:49:09.508</td>\n",
              "      <td>veganadventurer</td>\n",
              "      <td>0</td>\n",
              "      <td>2</td>\n",
              "      <td>1</td>\n",
              "      <td>4</td>\n",
              "      <td>NaN</td>\n",
              "      <td>4</td>\n",
              "      <td>Cauliflower appetizer</td>\n",
              "      <td>Gracias Madre</td>\n",
              "      <td>United States</td>\n",
              "      <td>http://gracias-madre.com/</td>\n",
              "      <td>San Francisco</td>\n",
              "    </tr>\n",
              "  </tbody>\n",
              "</table>\n",
              "<p>50000 rows × 26 columns</p>\n",
              "</div>"
            ],
            "text/plain": [
              "                            _id  ... restaurant_locality\n",
              "0      5e1db388f5e9b50020778794  ...                 NaN\n",
              "1      5e1db339f5e9b50020778786  ...                 NaN\n",
              "2      5e1db2dbf2316f0020a86169  ...                 NaN\n",
              "3      5e1db28af2316f0020a86157  ...           Singapore\n",
              "4      5e1db24ff5e9b5002077874c  ...              Bowral\n",
              "...                         ...  ...                 ...\n",
              "49995  5d2c08d73a9fde00047d8fb7  ...       San Francisco\n",
              "49996  5d2c08d73a9fde00047d8fb7  ...       San Francisco\n",
              "49997  5d2c08d73a9fde00047d8fb7  ...       San Francisco\n",
              "49998  5d2c05c53a9fde00047d8f90  ...       San Francisco\n",
              "49999  5d2c05c53a9fde00047d8f90  ...       San Francisco\n",
              "\n",
              "[50000 rows x 26 columns]"
            ]
          },
          "metadata": {
            "tags": []
          },
          "execution_count": 42
        }
      ]
    },
    {
      "cell_type": "code",
      "metadata": {
        "id": "vhh810fTvs7Q",
        "colab_type": "code",
        "colab": {
          "base_uri": "https://localhost:8080/",
          "height": 683
        },
        "outputId": "dd479cb4-7ff6-4f14-feb6-7163df9b9411"
      },
      "source": [
        "eval_new_df = pd.concat([eval_reviews.reset_index(drop=True), df_entities],axis=1,ignore_index=True)\n",
        "eval_new_df.columns = list(eval_reviews.columns) + list(df_entities.columns)\n",
        "eval_new_df.head()"
      ],
      "execution_count": 43,
      "outputs": [
        {
          "output_type": "execute_result",
          "data": {
            "text/html": [
              "<div>\n",
              "<style scoped>\n",
              "    .dataframe tbody tr th:only-of-type {\n",
              "        vertical-align: middle;\n",
              "    }\n",
              "\n",
              "    .dataframe tbody tr th {\n",
              "        vertical-align: top;\n",
              "    }\n",
              "\n",
              "    .dataframe thead th {\n",
              "        text-align: right;\n",
              "    }\n",
              "</style>\n",
              "<table border=\"1\" class=\"dataframe\">\n",
              "  <thead>\n",
              "    <tr style=\"text-align: right;\">\n",
              "      <th></th>\n",
              "      <th>_id</th>\n",
              "      <th>likes</th>\n",
              "      <th>user</th>\n",
              "      <th>text</th>\n",
              "      <th>type</th>\n",
              "      <th>restaurant</th>\n",
              "      <th>dish</th>\n",
              "      <th>taste</th>\n",
              "      <th>presentation</th>\n",
              "      <th>nutrition</th>\n",
              "      <th>originality</th>\n",
              "      <th>value</th>\n",
              "      <th>overall</th>\n",
              "      <th>createdAt</th>\n",
              "      <th>user_info.name</th>\n",
              "      <th>user_info.likedArticlesCount</th>\n",
              "      <th>user_info.followersCount</th>\n",
              "      <th>user_info.likedReviewsCount</th>\n",
              "      <th>user_info.challengeReviews</th>\n",
              "      <th>user_info.language</th>\n",
              "      <th>user_info.reviewKarma.total.score</th>\n",
              "      <th>dish_info.name</th>\n",
              "      <th>restaurant_name</th>\n",
              "      <th>restaurant_country</th>\n",
              "      <th>restaurant_website</th>\n",
              "      <th>restaurant_locality</th>\n",
              "      <th>entities</th>\n",
              "    </tr>\n",
              "  </thead>\n",
              "  <tbody>\n",
              "    <tr>\n",
              "      <th>0</th>\n",
              "      <td>5e1db388f5e9b50020778794</td>\n",
              "      <td>[ObjectId('5c3530801b78330004aa6dc6'), ObjectI...</td>\n",
              "      <td>5dee900b5098f40020f128cd</td>\n",
              "      <td>The Greggs vegan sausage rolls are so lush! Th...</td>\n",
              "      <td>dish</td>\n",
              "      <td>5e172abedfb870002086eb7a</td>\n",
              "      <td>5e19e2e6ce56f60020488512</td>\n",
              "      <td>5</td>\n",
              "      <td>5</td>\n",
              "      <td>4</td>\n",
              "      <td>4</td>\n",
              "      <td>5</td>\n",
              "      <td>4.6</td>\n",
              "      <td>2020-01-14 12:26:48.486</td>\n",
              "      <td>whatrebeccaeats</td>\n",
              "      <td>0</td>\n",
              "      <td>3</td>\n",
              "      <td>4</td>\n",
              "      <td>4</td>\n",
              "      <td>en</td>\n",
              "      <td>4</td>\n",
              "      <td>Vegan Sausage Roll</td>\n",
              "      <td>Greggs</td>\n",
              "      <td>United Kingdom</td>\n",
              "      <td>https://www.greggs.co.uk/</td>\n",
              "      <td>NaN</td>\n",
              "      <td>[meat, sausage, sausage_roll, vegan]</td>\n",
              "    </tr>\n",
              "    <tr>\n",
              "      <th>1</th>\n",
              "      <td>5e1db339f5e9b50020778786</td>\n",
              "      <td>[ObjectId('5c748a8934dda90004b017b4')]</td>\n",
              "      <td>5d321bee40e1b300049613c9</td>\n",
              "      <td>Calentar el pan no hubiera estado mal! Muy log...</td>\n",
              "      <td>dish</td>\n",
              "      <td>5c6fae8676f4630004a99715</td>\n",
              "      <td>5ded82e9b9fe1300207a847f</td>\n",
              "      <td>4</td>\n",
              "      <td>4</td>\n",
              "      <td>3</td>\n",
              "      <td>4</td>\n",
              "      <td>4</td>\n",
              "      <td>3.8</td>\n",
              "      <td>2020-01-14 12:25:29.182</td>\n",
              "      <td>sechague</td>\n",
              "      <td>0</td>\n",
              "      <td>5</td>\n",
              "      <td>15</td>\n",
              "      <td>21</td>\n",
              "      <td>es</td>\n",
              "      <td>24</td>\n",
              "      <td>Hamburguesa Le Bleu</td>\n",
              "      <td>Casa Mhia</td>\n",
              "      <td>Argentina</td>\n",
              "      <td>http://www.facebook.com/casamhia/</td>\n",
              "      <td>NaN</td>\n",
              "      <td>[]</td>\n",
              "    </tr>\n",
              "    <tr>\n",
              "      <th>2</th>\n",
              "      <td>5e1db2dbf2316f0020a86169</td>\n",
              "      <td>[ObjectId('5c3530801b78330004aa6dc6'), ObjectI...</td>\n",
              "      <td>5d321bee40e1b300049613c9</td>\n",
              "      <td>Muy rica la salchicha, quizás hubiera faltado ...</td>\n",
              "      <td>dish</td>\n",
              "      <td>5c6fae8676f4630004a99715</td>\n",
              "      <td>5ded141fb9fe1300207a617b</td>\n",
              "      <td>4</td>\n",
              "      <td>4</td>\n",
              "      <td>3</td>\n",
              "      <td>4</td>\n",
              "      <td>4</td>\n",
              "      <td>3.8</td>\n",
              "      <td>2020-01-14 12:23:55.409</td>\n",
              "      <td>sechague</td>\n",
              "      <td>0</td>\n",
              "      <td>5</td>\n",
              "      <td>15</td>\n",
              "      <td>21</td>\n",
              "      <td>es</td>\n",
              "      <td>24</td>\n",
              "      <td>pancho Alemán</td>\n",
              "      <td>Casa Mhia</td>\n",
              "      <td>Argentina</td>\n",
              "      <td>http://www.facebook.com/casamhia/</td>\n",
              "      <td>NaN</td>\n",
              "      <td>[]</td>\n",
              "    </tr>\n",
              "    <tr>\n",
              "      <th>3</th>\n",
              "      <td>5e1db28af2316f0020a86157</td>\n",
              "      <td>[ObjectId('5bdc175f39e739000445ab2c'), ObjectI...</td>\n",
              "      <td>5c9d5576c0918c000425c391</td>\n",
              "      <td>Definitely my fave tau huey around! Decided to...</td>\n",
              "      <td>dish</td>\n",
              "      <td>5abc818231bca50004707143</td>\n",
              "      <td>5e1db289f5e9b50020778761</td>\n",
              "      <td>4</td>\n",
              "      <td>3</td>\n",
              "      <td>3</td>\n",
              "      <td>3</td>\n",
              "      <td>4</td>\n",
              "      <td>3.4</td>\n",
              "      <td>2020-01-14 12:22:34.181</td>\n",
              "      <td>ycarolyn</td>\n",
              "      <td>0</td>\n",
              "      <td>54</td>\n",
              "      <td>448</td>\n",
              "      <td>14</td>\n",
              "      <td>en</td>\n",
              "      <td>199</td>\n",
              "      <td>Classic Beancurd And Grass Jelly</td>\n",
              "      <td>Mr Bean - HarbourFront Centre</td>\n",
              "      <td>Singapore</td>\n",
              "      <td>http://www.mrbean.com.sg/</td>\n",
              "      <td>Singapore</td>\n",
              "      <td>[jelly, sugar]</td>\n",
              "    </tr>\n",
              "    <tr>\n",
              "      <th>4</th>\n",
              "      <td>5e1db24ff5e9b5002077874c</td>\n",
              "      <td>[ObjectId('5c3530801b78330004aa6dc6'), ObjectI...</td>\n",
              "      <td>5e11c7f7e5988d00203a7bc0</td>\n",
              "      <td>Flavour was amazing! So rich and luxurious. Be...</td>\n",
              "      <td>dish</td>\n",
              "      <td>5cad0305cb483a0004b22465</td>\n",
              "      <td>5e1db24ef2316f0020a8614b</td>\n",
              "      <td>5</td>\n",
              "      <td>5</td>\n",
              "      <td>4</td>\n",
              "      <td>3</td>\n",
              "      <td>3</td>\n",
              "      <td>4.0</td>\n",
              "      <td>2020-01-14 12:21:35.345</td>\n",
              "      <td>mally</td>\n",
              "      <td>0</td>\n",
              "      <td>0</td>\n",
              "      <td>0</td>\n",
              "      <td>2</td>\n",
              "      <td>en</td>\n",
              "      <td>2</td>\n",
              "      <td>Soft Polenta with Mushroom and Vegetable Ragu</td>\n",
              "      <td>Onesta Cucina</td>\n",
              "      <td>Australia</td>\n",
              "      <td>http://www.onestacucina.com.au/</td>\n",
              "      <td>Bowral</td>\n",
              "      <td>[broccolini, entrée, vegan]</td>\n",
              "    </tr>\n",
              "  </tbody>\n",
              "</table>\n",
              "</div>"
            ],
            "text/plain": [
              "                        _id  ...                              entities\n",
              "0  5e1db388f5e9b50020778794  ...  [meat, sausage, sausage_roll, vegan]\n",
              "1  5e1db339f5e9b50020778786  ...                                    []\n",
              "2  5e1db2dbf2316f0020a86169  ...                                    []\n",
              "3  5e1db28af2316f0020a86157  ...                        [jelly, sugar]\n",
              "4  5e1db24ff5e9b5002077874c  ...           [broccolini, entrée, vegan]\n",
              "\n",
              "[5 rows x 27 columns]"
            ]
          },
          "metadata": {
            "tags": []
          },
          "execution_count": 43
        }
      ]
    },
    {
      "cell_type": "code",
      "metadata": {
        "id": "RmhksjyWvza2",
        "colab_type": "code",
        "colab": {
          "base_uri": "https://localhost:8080/",
          "height": 34
        },
        "outputId": "9a2af5fb-602e-46c0-e84d-c08451e71280"
      },
      "source": [
        "ent_list_eval_tba = []\n",
        "for doc in nlp.pipe(eval_reviews['text']):\n",
        "  ent_list_eval_tba.append([ent.text for ent in doc.ents if ent.ent_id_ == ''])\n",
        "\n",
        "df_eval = pd.DataFrame()\n",
        "df_eval = df_eval.append(ent_list_eval_tba).dropna(how='all')\n",
        "\n",
        "full_list_eval_tba = []\n",
        "\n",
        "for col in df_eval.columns:\n",
        "  full_list_eval_tba.extend([k.lower() for k in Counter(list(df_eval[col])).keys() if k != None])\n",
        "\n",
        "full_list_eval_tba = [k for k in Counter(sorted(full_list_eval_tba)).keys()]\n",
        "len(full_list_eval_tba)"
      ],
      "execution_count": 44,
      "outputs": [
        {
          "output_type": "execute_result",
          "data": {
            "text/plain": [
              "795"
            ]
          },
          "metadata": {
            "tags": []
          },
          "execution_count": 44
        }
      ]
    },
    {
      "cell_type": "code",
      "metadata": {
        "id": "Xv_U2yRqv4B1",
        "colab_type": "code",
        "colab": {
          "base_uri": "https://localhost:8080/",
          "height": 34
        },
        "outputId": "3760eee5-b446-4e29-eccf-5908ed572b7b"
      },
      "source": [
        "ent_list_test_tba = []\n",
        "for doc in nlp.pipe(test_reviews['text']):\n",
        "  ent_list_test_tba.append([ent.text for ent in doc.ents if ent.ent_id_ == ''])\n",
        "\n",
        "df_test = pd.DataFrame()\n",
        "df_test = df_test.append(ent_list_test_tba).dropna(how='all')\n",
        "\n",
        "full_list_test_tba = []\n",
        "\n",
        "for col in df_test.columns:\n",
        "  full_list_test_tba.extend([k.lower() for k in Counter(list(df_test[col])).keys() if k != None])\n",
        "\n",
        "full_list_test_tba = [k for k in Counter(sorted(full_list_test_tba)).keys()]\n",
        "len(full_list_test_tba)"
      ],
      "execution_count": 45,
      "outputs": [
        {
          "output_type": "execute_result",
          "data": {
            "text/plain": [
              "576"
            ]
          },
          "metadata": {
            "tags": []
          },
          "execution_count": 45
        }
      ]
    },
    {
      "cell_type": "code",
      "metadata": {
        "id": "iqvyqHUsv8Mn",
        "colab_type": "code",
        "colab": {
          "base_uri": "https://localhost:8080/",
          "height": 34
        },
        "outputId": "47a62636-e818-4c05-ef2c-7a198d886d1e"
      },
      "source": [
        "entities_to_be_added = [k for k in Counter(sorted(full_list_eval_tba + full_list_test_tba)).keys()]\n",
        "len(entities_to_be_added)"
      ],
      "execution_count": 46,
      "outputs": [
        {
          "output_type": "execute_result",
          "data": {
            "text/plain": [
              "1134"
            ]
          },
          "metadata": {
            "tags": []
          },
          "execution_count": 46
        }
      ]
    },
    {
      "cell_type": "code",
      "metadata": {
        "id": "pKLLfr4Xv_si",
        "colab_type": "code",
        "colab": {}
      },
      "source": [
        "import textdistance as td"
      ],
      "execution_count": 0,
      "outputs": []
    },
    {
      "cell_type": "code",
      "metadata": {
        "id": "TyY1hy-bwIAL",
        "colab_type": "code",
        "colab": {}
      },
      "source": [
        "pat_list = list(df_pattern['id'].unique())"
      ],
      "execution_count": 0,
      "outputs": []
    },
    {
      "cell_type": "code",
      "metadata": {
        "id": "9HdVGzIywK3w",
        "colab_type": "code",
        "colab": {
          "base_uri": "https://localhost:8080/",
          "height": 34
        },
        "outputId": "70c04318-9e4f-4c20-d680-803a179ba7fa"
      },
      "source": [
        "leven_result = []\n",
        "for inp in entities_to_be_added:\n",
        "\n",
        "  for pat in pat_list:\n",
        "    leven = td.levenshtein.normalized_similarity(inp, pat)\n",
        "\n",
        "    if  (leven > 0.7) & (leven < 0.9999):\n",
        "      leven_result.append((inp, pat, leven))\n",
        "len(leven_result)"
      ],
      "execution_count": 49,
      "outputs": [
        {
          "output_type": "execute_result",
          "data": {
            "text/plain": [
              "837"
            ]
          },
          "metadata": {
            "tags": []
          },
          "execution_count": 49
        }
      ]
    },
    {
      "cell_type": "code",
      "metadata": {
        "id": "HuytbVxXwNuJ",
        "colab_type": "code",
        "colab": {
          "base_uri": "https://localhost:8080/",
          "height": 1000
        },
        "outputId": "d43dd547-689f-46b0-d96d-b2c4d5e0beb4"
      },
      "source": [
        "leven_result.sort(key=lambda x: x[0])\n",
        "leven_result"
      ],
      "execution_count": 50,
      "outputs": [
        {
          "output_type": "execute_result",
          "data": {
            "text/plain": [
              "[('1.50/100', '10/100', 0.75),\n",
              " ('10.5', '10/5', 0.75),\n",
              " ('1000/10', '10000', 0.7142857142857143),\n",
              " ('1000/10', '10/10', 0.7142857142857143),\n",
              " ('1000/10', '100/10', 0.8571428571428572),\n",
              " ('1001', '1000', 0.75),\n",
              " ('1001', '100', 0.75),\n",
              " ('1001', '100x', 0.75),\n",
              " ('16month', 'month', 0.7142857142857143),\n",
              " ('1:00', '1000', 0.75),\n",
              " ('1:00', '100', 0.75),\n",
              " ('1:00', '5:00', 0.75),\n",
              " ('1:30', '5:30', 0.75),\n",
              " ('1:30', '7:30', 0.75),\n",
              " ('20/20', '20/10', 0.8),\n",
              " ('3/11', '3/10', 0.75),\n",
              " ('30mins', '10_mins', 0.7142857142857143),\n",
              " ('30mins', '20_mins', 0.7142857142857143),\n",
              " ('30mins', '90_mins', 0.7142857142857143),\n",
              " ('5-spice', 'spice', 0.7142857142857143),\n",
              " ('50,000', '50000', 0.8333333333333334),\n",
              " ('60th', '10th', 0.75),\n",
              " ('60th', '20th', 0.75),\n",
              " ('60th', '30th', 0.75),\n",
              " ('60th', '6th', 0.75),\n",
              " ('60th', '90th', 0.75),\n",
              " ('6:00', '5:00', 0.75),\n",
              " ('7000', '1000', 0.75),\n",
              " ('7000', '3000', 0.75),\n",
              " ('adai', 'ada', 0.75),\n",
              " ('addis', 'raddish', 0.7142857142857143),\n",
              " ('afuri', 'akuri', 0.8),\n",
              " ('afuri', 'aburi', 0.8),\n",
              " ('aish', 'aush', 0.75),\n",
              " ('aish', 'fish', 0.75),\n",
              " ('aish', 'arish', 0.8),\n",
              " ('aish', 'baish', 0.8),\n",
              " ('alameda', 'alamata', 0.7142857142857143),\n",
              " ('alameda', 'almada', 0.7142857142857143),\n",
              " ('alamo', 'malambo', 0.7142857142857143),\n",
              " ('alfredo', 'laredo', 0.7142857142857143),\n",
              " ('alhambra', 'alambre', 0.75),\n",
              " ('alhambra', 'altamira', 0.75),\n",
              " ('alhambra', 'anambra', 0.75),\n",
              " ('alice', 'lice', 0.8),\n",
              " ('andouille', 'andouillette', 0.75),\n",
              " ('anko', 'panko', 0.8),\n",
              " ('annatto', 'natto', 0.7142857142857143),\n",
              " ('apetito', 'apatity', 0.7142857142857143),\n",
              " ('applepie', 'apple_pie', 0.8888888888888888),\n",
              " ('armarla', 'amarula', 0.7142857142857143),\n",
              " ('armarla', 'amara', 0.7142857142857143),\n",
              " ('armarla', 'asmara', 0.7142857142857143),\n",
              " ('asahi', 'basashi', 0.7142857142857143),\n",
              " ('asombra', 'asmara', 0.7142857142857143),\n",
              " ('asombra', 'anambra', 0.7142857142857143),\n",
              " ('avacados', 'avocado', 0.75),\n",
              " ('babka', 'baba', 0.8),\n",
              " ('bacalao', 'bacalhau', 0.75),\n",
              " ('bacalao', 'bacabal', 0.7142857142857143),\n",
              " ('bacalao', 'nacala', 0.7142857142857143),\n",
              " ('bacons', 'bacon', 0.8333333333333334),\n",
              " ('bajita', 'banitsa', 0.7142857142857143),\n",
              " ('bajita', 'fajita', 0.8333333333333334),\n",
              " ('bajita', 'fajitas', 0.7142857142857143),\n",
              " ('bam', 'bama', 0.75),\n",
              " ('bananaey', 'banana', 0.75),\n",
              " ('banchans', 'banchan', 0.875),\n",
              " ('banchans', 'nanchang', 0.75),\n",
              " ('banfield', 'enfield', 0.75),\n",
              " ('bangalore', 'mangalorean', 0.7272727272727273),\n",
              " ('bangalore', 'mangalore', 0.8888888888888888),\n",
              " ('baskets', 'banket', 0.7142857142857143),\n",
              " ('batidos', 'batida', 0.7142857142857143),\n",
              " ('batting', 'baobing', 0.7142857142857143),\n",
              " ('batting', 'nataing', 0.7142857142857143),\n",
              " ('batting', 'baoding', 0.7142857142857143),\n",
              " ('beaf', 'beef', 0.75),\n",
              " ('becel', 'pecel', 0.8),\n",
              " ('beeeans', 'beans', 0.7142857142857143),\n",
              " ('beetroots', 'beetroot', 0.8888888888888888),\n",
              " ('beluga', 'vetluga', 0.7142857142857143),\n",
              " ('bentos', 'sentosa', 0.7142857142857143),\n",
              " ('bentos', 'bento', 0.8333333333333334),\n",
              " ('beyondmeatburger', 'beyond_burger', 0.75),\n",
              " ('bhajji', 'bhaji', 0.8333333333333334),\n",
              " ('birch', 'biryuch', 0.7142857142857143),\n",
              " ('birra', 'birria', 0.8333333333333334),\n",
              " ('blarney', 'barley', 0.7142857142857143),\n",
              " ('blarney', 'barnet', 0.7142857142857143),\n",
              " ('blin', 'blini', 0.8),\n",
              " ('blin', 'klin', 0.75),\n",
              " ('blts', 'blt', 0.75),\n",
              " ('bok', 'bock', 0.75),\n",
              " ('bok', 'boké', 0.75),\n",
              " ('bolsillos', 'bolillo', 0.7777777777777778),\n",
              " ('bomber', 'boeber', 0.8333333333333334),\n",
              " ('bonsoy', 'donskoy', 0.7142857142857143),\n",
              " ('borek', 'börek', 0.8),\n",
              " ('boris', 'bopis', 0.8),\n",
              " ('boris', 'borts', 0.8),\n",
              " ('boris', 'borisov', 0.7142857142857143),\n",
              " ('boris', 'borås', 0.8),\n",
              " ('boris', 'goris', 0.8),\n",
              " ('bosnian', 'bosna', 0.7142857142857143),\n",
              " ('bouche', 'boliche', 0.7142857142857143),\n",
              " ('boursin', 'jourin', 0.7142857142857143),\n",
              " ('boursin', 'tourin', 0.7142857142857143),\n",
              " ('bracciole', 'braciola', 0.7777777777777778),\n",
              " ('braised', 'baise', 0.7142857142857143),\n",
              " ('brasilia', 'brazilian', 0.7777777777777778),\n",
              " ('brasilia', 'brasília', 0.875),\n",
              " ('brits', 'grits', 0.8),\n",
              " ('broc', 'broa', 0.75),\n",
              " ('brocolli', 'rosolli', 0.75),\n",
              " ('brocolli', 'broccoli', 0.75),\n",
              " ('buddhism', 'buddhist', 0.875),\n",
              " ('buffets', 'buffet', 0.8571428571428572),\n",
              " ('bundtcake', 'bundt_cake', 0.9),\n",
              " ('burek', 'börek', 0.8),\n",
              " ('burgerjoint', 'burger_king', 0.7272727272727273),\n",
              " ('burlington', 'arlington', 0.8),\n",
              " ('burlington', 'darlington', 0.8),\n",
              " ('burma', 'bursa', 0.8),\n",
              " ('busque', 'bisque', 0.8333333333333334),\n",
              " ('busque', 'brusque', 0.8571428571428572),\n",
              " ('buster', 'butter', 0.8333333333333334),\n",
              " ('buster', 'munster', 0.7142857142857143),\n",
              " ('buster', 'uster', 0.8333333333333334),\n",
              " ('buster', 'bushehr', 0.7142857142857143),\n",
              " ('calcio', 'chalcis', 0.7142857142857143),\n",
              " ('calendar', 'calentao', 0.75),\n",
              " ('calimari', 'cagliari', 0.75),\n",
              " ('canola', 'cacolac', 0.7142857142857143),\n",
              " ('canola', 'cannoli', 0.7142857142857143),\n",
              " ('canola', 'granola', 0.7142857142857143),\n",
              " ('canoli', 'cannoli', 0.8571428571428572),\n",
              " ('caprese', 'varese', 0.7142857142857143),\n",
              " ('cargadas', 'caracas', 0.75),\n",
              " ('caribou', 'maribor', 0.7142857142857143),\n",
              " ('carmel', 'karmiel', 0.7142857142857143),\n",
              " ('carnival', 'carnitas', 0.75),\n",
              " ('casco', 'cusco', 0.8),\n",
              " ('casco', 'pasco', 0.8),\n",
              " ('celiac', 'celeriac', 0.75),\n",
              " ('chedder', 'cheddar', 0.8571428571428572),\n",
              " ('cheesesticks', 'cheesesteak', 0.75),\n",
              " ('chichester', 'colchester', 0.8),\n",
              " (\"chik'n\", 'chicken', 0.7142857142857143),\n",
              " (\"chik'n\", 'chiken', 0.8333333333333334),\n",
              " ('chikin', 'chicken', 0.7142857142857143),\n",
              " ('chikin', 'chiken', 0.8333333333333334),\n",
              " ('chimi', 'chili', 0.8),\n",
              " ('chimi', 'chimoio', 0.7142857142857143),\n",
              " ('chimmichuri', 'chimichurri', 0.8181818181818181),\n",
              " ('chocolatito', 'chocolate', 0.7272727272727273),\n",
              " ('chor', 'chur', 0.75),\n",
              " ('chor', 'ghor', 0.75),\n",
              " ('chorizos', 'chorizo', 0.875),\n",
              " ('christian', 'christmas', 0.7777777777777778),\n",
              " ('chupito', 'chivito', 0.7142857142857143),\n",
              " ('cilatro', 'cilantro', 0.875),\n",
              " ('cilatro', 'culantro', 0.75),\n",
              " ('cilatro', 'milagro', 0.7142857142857143),\n",
              " ('cinamon', 'cinnamon', 0.875),\n",
              " ('cinnabon', 'cinnamon', 0.875),\n",
              " ('clementines', 'clementine', 0.9090909090909091),\n",
              " ('clementines', 'clementi', 0.7272727272727273),\n",
              " ('cocao', 'coca', 0.8),\n",
              " ('cocao', 'cocio', 0.8),\n",
              " ('cocao', 'cacao', 0.8),\n",
              " ('coeliac', 'colac', 0.7142857142857143),\n",
              " ('coffees', 'coffee', 0.8571428571428572),\n",
              " ('coke', 'poke', 0.75),\n",
              " ('coke', 'cake', 0.75),\n",
              " ('cordoba', 'cardona', 0.7142857142857143),\n",
              " ('cordoba', 'corona', 0.7142857142857143),\n",
              " ('cordoba', 'córdoba', 0.8571428571428572),\n",
              " ('cordoba', 'gordola', 0.7142857142857143),\n",
              " ('cordoba', 'woroba', 0.7142857142857143),\n",
              " ('cotija', 'cobija', 0.8333333333333334),\n",
              " ('cotija', 'cotia', 0.8333333333333334),\n",
              " ('cousine', 'cocaine', 0.7142857142857143),\n",
              " ('cousine', 'poutine', 0.7142857142857143),\n",
              " ('crabbycakes', 'crab_cake', 0.7272727272727273),\n",
              " ('craisins', 'raisin', 0.75),\n",
              " ('craisins', 'raisins', 0.875),\n",
              " ('crimini', 'rimini', 0.8571428571428572),\n",
              " ('cuina', 'china', 0.8),\n",
              " ('cukes', 'cakes', 0.8),\n",
              " ('daterra', 'matera', 0.7142857142857143),\n",
              " ('deeeeli', 'develi', 0.7142857142857143),\n",
              " ('deutsch', 'dutch', 0.7142857142857143),\n",
              " ('dhaal', 'daal', 0.8),\n",
              " ('dickson', 'jackson', 0.7142857142857143),\n",
              " ('didi', 'didim', 0.8),\n",
              " ('didi', 'dili', 0.75),\n",
              " ('doria', 'coria', 0.8),\n",
              " ('doria', 'soria', 0.8),\n",
              " ('dougnuts', 'donuts', 0.75),\n",
              " ('dougnuts', 'doughnut', 0.75),\n",
              " ('drumstick', 'drumsticks', 0.9),\n",
              " ('eatin', 'gelatin', 0.7142857142857143),\n",
              " ('eatin', 'latin', 0.8),\n",
              " ('eggroll', 'egg_roll', 0.875),\n",
              " ('elparaisodeanimales', 'el_paraiso_de_los_animales', 0.7307692307692308),\n",
              " ('empress', 'espresso', 0.75),\n",
              " ('endives', 'endive', 0.8571428571428572),\n",
              " ('england', 'gland', 0.7142857142857143),\n",
              " ('ervas', 'elvas', 0.8),\n",
              " ('escogido', 'escondido', 0.7777777777777778),\n",
              " ('española', 'espasol', 0.75),\n",
              " ('euston', 'houston', 0.7142857142857143),\n",
              " ('expresso', 'espresso', 0.875),\n",
              " ('far.', 'faro', 0.75),\n",
              " ('far.', 'fars', 0.75),\n",
              " ('fettucini', 'fettuccine', 0.8),\n",
              " ('fettucini', 'fettuccini', 0.9),\n",
              " ('filets', 'millets', 0.7142857142857143),\n",
              " ('finnish', 'linnich', 0.7142857142857143),\n",
              " ('foie', 'joie', 0.75),\n",
              " ('fraiche', 'flamiche', 0.75),\n",
              " ('fraiche', 'fiche', 0.7142857142857143),\n",
              " ('fraiche', 'france', 0.7142857142857143),\n",
              " ('francia', 'arancina', 0.75),\n",
              " ('francia', 'franca', 0.8571428571428572),\n",
              " ('francia', 'france', 0.7142857142857143),\n",
              " ('francia', 'vrancea', 0.7142857142857143),\n",
              " ('fried', 'fries', 0.8),\n",
              " ('fritatta', 'fritada', 0.75),\n",
              " ('fritatta', 'fritata', 0.875),\n",
              " ('fritatta', 'frittata', 0.75),\n",
              " ('fryday', 'friday', 0.8333333333333334),\n",
              " ('galeicnbread', 'garlic_bread', 0.75),\n",
              " ('galette', 'bavette', 0.7142857142857143),\n",
              " ('galette', 'raclette', 0.75),\n",
              " ('gandhi', 'gandaki', 0.7142857142857143),\n",
              " ('gerkins', 'gherkin', 0.7142857142857143),\n",
              " ('gerkins', 'gherkins', 0.875),\n",
              " ('germ', 'gera', 0.75),\n",
              " ('germ', 'perm', 0.75),\n",
              " ('gerobak', 'gerona', 0.7142857142857143),\n",
              " ('ghar', 'ghari', 0.8),\n",
              " ('ghar', 'thar', 0.75),\n",
              " ('ghar', 'ghor', 0.75),\n",
              " ('gogi', 'gogli', 0.8),\n",
              " ('gogi', 'gori', 0.75),\n",
              " ('gogi', 'kogi', 0.75),\n",
              " ('grana', 'granita', 0.7142857142857143),\n",
              " ('grana', 'granola', 0.7142857142857143),\n",
              " ('grana', 'guarana', 0.7142857142857143),\n",
              " ('grana', 'rana', 0.8),\n",
              " ('grana', 'ghana', 0.8),\n",
              " ('grana', 'granada', 0.7142857142857143),\n",
              " ('grana', 'granma', 0.8333333333333334),\n",
              " ('granel', 'granola', 0.7142857142857143),\n",
              " ('gras', 'graz', 0.75),\n",
              " ('grata', 'prata', 0.8),\n",
              " ('grata', 'gata', 0.8),\n",
              " ('grata', 'granita', 0.7142857142857143),\n",
              " ('greeks', 'greek', 0.8333333333333334),\n",
              " ('greeks', 'greens', 0.8333333333333334),\n",
              " ('grelos', 'morelos', 0.7142857142857143),\n",
              " ('gustarian', 'austrian', 0.7777777777777778),\n",
              " ('gyosas', 'gyozas', 0.8333333333333334),\n",
              " ('habitas', 'fajitas', 0.7142857142857143),\n",
              " ('habitas', 'cabimas', 0.7142857142857143),\n",
              " ('herbivhor', 'herbivore', 0.7777777777777778),\n",
              " ('hibachi', 'higashi', 0.7142857142857143),\n",
              " ('homefries', 'home_fries', 0.9),\n",
              " ('horlicks', 'horlivka', 0.75),\n",
              " ('hotcake', 'hot_cakes', 0.7777777777777778),\n",
              " ('hotcake', 'shortcake', 0.7777777777777778),\n",
              " ('hummers', 'summer', 0.7142857142857143),\n",
              " ('hummers', 'hummus', 0.7142857142857143),\n",
              " ('hummers', 'hummous', 0.7142857142857143),\n",
              " ('jaffle', 'waffles', 0.7142857142857143),\n",
              " ('jaffle', 'waffle', 0.8333333333333334),\n",
              " ('jainvegetarian', 'vegetarian', 0.7142857142857143),\n",
              " ('jainvegetarian', 'pi_vegetarian', 0.7857142857142857),\n",
              " ('jamu', 'jam', 0.75),\n",
              " ('jamun', 'jamón', 0.8),\n",
              " ('jamun', 'jamundí', 0.7142857142857143),\n",
              " ('jello', 'jell_o', 0.8333333333333334),\n",
              " ('jello', 'jelly', 0.8),\n",
              " ('jello', 'bello', 0.8),\n",
              " ('jungle', 'jonglei', 0.7142857142857143),\n",
              " ('kahului', 'bahulu', 0.7142857142857143),\n",
              " ('kahului', 'kasulu', 0.7142857142857143),\n",
              " ('kal', 'kale', 0.75),\n",
              " ('kalahari', 'kalamai', 0.75),\n",
              " ('kale.', 'kale', 0.8),\n",
              " ('kansascity', 'kansas_city', 0.9090909090909091),\n",
              " ('kanu', 'kunu', 0.75),\n",
              " ('kanu', 'kano', 0.75),\n",
              " ('karoo', 'karoi', 0.8),\n",
              " ('katong', 'datong', 0.8333333333333334),\n",
              " ('katong', 'karonga', 0.7142857142857143),\n",
              " ('katong', 'kasongo', 0.7142857142857143),\n",
              " ('katong', 'nantong', 0.7142857142857143),\n",
              " ('katong', 'katanga', 0.7142857142857143),\n",
              " ('kebap', 'keşap', 0.8),\n",
              " ('kebap', 'lebap', 0.8),\n",
              " ('khaosan', 'khaman', 0.7142857142857143),\n",
              " ('khaosan', 'hassan', 0.7142857142857143),\n",
              " ('khaosan', 'khasab', 0.7142857142857143),\n",
              " ('kimbap', 'gimbap', 0.8333333333333334),\n",
              " ('koi', 'kogi', 0.75),\n",
              " ('kokoreis', 'kokoreç', 0.75),\n",
              " ('kombi', 'kombu', 0.8),\n",
              " ('kormas', 'korma', 0.8333333333333334),\n",
              " ('kreme', 'krems', 0.8),\n",
              " ('krispy', 'krispie', 0.7142857142857143),\n",
              " ('kumamoto', 'kumanovo', 0.75),\n",
              " ('kuta', 'kutia', 0.8),\n",
              " ('kuta', 'buta', 0.75),\n",
              " ('kuta', 'keta', 0.75),\n",
              " ('kuta', 'kula', 0.75),\n",
              " ('kuta', 'kusa', 0.75),\n",
              " ('lamian', 'laotian', 0.7142857142857143),\n",
              " ('lamian', 'latvian', 0.7142857142857143),\n",
              " ('lamian', 'zambian', 0.7142857142857143),\n",
              " ('lamian', 'lalian', 0.8333333333333334),\n",
              " ('lamian', 'lamia', 0.8333333333333334),\n",
              " ('lamian', 'lampang', 0.7142857142857143),\n",
              " ('lasanga', 'lasagna', 0.7142857142857143),\n",
              " ('lasanga', 'pasanda', 0.7142857142857143),\n",
              " ('lasanga', 'kananga', 0.7142857142857143),\n",
              " ('lasanga', 'palanga', 0.7142857142857143),\n",
              " ('lasanga', 'katanga', 0.7142857142857143),\n",
              " ('lecho', 'lechazo', 0.7142857142857143),\n",
              " ('lecho', 'lechon', 0.8333333333333334),\n",
              " ('lecho', 'lechona', 0.7142857142857143),\n",
              " ('lecho', 'lecco', 0.8),\n",
              " ('lobster', 'oyster', 0.7142857142857143),\n",
              " ('lobster', 'oster', 0.7142857142857143),\n",
              " ('lokal', 'sokal', 0.8),\n",
              " ('lsingapore', 'singaporean', 0.7272727272727273),\n",
              " ('lsingapore', 'singapore', 0.9),\n",
              " ('lunches', 'lunch', 0.7142857142857143),\n",
              " ('lunches', 'luncheon', 0.75),\n",
              " ('madeleines', 'madeleine', 0.9),\n",
              " ('maine', 'mains', 0.8),\n",
              " ('maine', 'romaine', 0.7142857142857143),\n",
              " ('maine', 'mainz', 0.8),\n",
              " ('maitake', 'matoke', 0.7142857142857143),\n",
              " ('maitake', 'matale', 0.7142857142857143),\n",
              " ('makis', 'masis', 0.8),\n",
              " ('malda', 'mala', 0.8),\n",
              " ('malda', 'malta', 0.8),\n",
              " ('malt', 'salt', 0.75),\n",
              " ('malt', 'mala', 0.75),\n",
              " ('malt', 'palt', 0.75),\n",
              " ('malt', 'mat', 0.75),\n",
              " ('malt', 'mali', 0.75),\n",
              " ('malt', 'malta', 0.8),\n",
              " ('malt', 'malé', 0.75),\n",
              " ('mandioca', 'mandoca', 0.875),\n",
              " ('mandioca', 'manica', 0.75),\n",
              " ('manning', 'morning', 0.7142857142857143),\n",
              " ('manning', 'anqing', 0.7142857142857143),\n",
              " ('manning', 'lansing', 0.7142857142857143),\n",
              " ('manning', 'manjung', 0.7142857142857143),\n",
              " ('manning', 'maoming', 0.7142857142857143),\n",
              " ('manning', 'nanjing', 0.7142857142857143),\n",
              " ('manning', 'nanning', 0.8571428571428572),\n",
              " ('manning', 'nanping', 0.7142857142857143),\n",
              " ('manning', 'sanming', 0.7142857142857143),\n",
              " ('manning', 'xianning', 0.75),\n",
              " ('manning', 'yanjing', 0.7142857142857143),\n",
              " ('manoa', 'mandoca', 0.7142857142857143),\n",
              " ('manoa', 'mansa', 0.8),\n",
              " ('manoa', 'manta', 0.8),\n",
              " ('manteca', 'mandoca', 0.7142857142857143),\n",
              " ('manteca', 'manta', 0.7142857142857143),\n",
              " ('manteca', 'matera', 0.7142857142857143),\n",
              " ('manteca', 'mandera', 0.7142857142857143),\n",
              " ('manteca', 'manica', 0.7142857142857143),\n",
              " ('manteca', 'maniema', 0.7142857142857143),\n",
              " ('marinate', 'farinata', 0.75),\n",
              " ('marley', 'barley', 0.8333333333333334),\n",
              " ('marley', 'parsley', 0.7142857142857143),\n",
              " ('marsala', 'masala', 0.8571428571428572),\n",
              " ('marsala', 'barnala', 0.7142857142857143),\n",
              " ('marsala', 'machala', 0.7142857142857143),\n",
              " ('marsala', 'maralal', 0.7142857142857143),\n",
              " ('marsala', 'mariara', 0.7142857142857143),\n",
              " ('marsala', 'masaka', 0.7142857142857143),\n",
              " ('marsala', 'massawa', 0.7142857142857143),\n",
              " ('marsala', 'karbala', 0.7142857142857143),\n",
              " ('marsala', 'kassala', 0.7142857142857143),\n",
              " ('marscapone', 'mascarpone', 0.8),\n",
              " ('martaen', 'mardan', 0.7142857142857143),\n",
              " ('martaen', 'martin', 0.7142857142857143),\n",
              " ('martaen', 'murten', 0.7142857142857143),\n",
              " ('maten', 'mate', 0.8),\n",
              " ('matilda', 'batida', 0.7142857142857143),\n",
              " ('matilda', 'matola', 0.7142857142857143),\n",
              " ('matilda', 'manila', 0.7142857142857143),\n",
              " ('mayan', 'maymana', 0.7142857142857143),\n",
              " ('mayan', 'maysan', 0.8333333333333334),\n",
              " ('mayonaise', 'mayonnaise', 0.9),\n",
              " ('maza', 'mala', 0.75),\n",
              " ('maza', 'maca', 0.75),\n",
              " ('maza', 'gaza', 0.75),\n",
              " ('maza', 'maia', 0.75),\n",
              " ('maza', 'maua', 0.75),\n",
              " ('maza', 'taza', 0.75),\n",
              " ('maza', 'mara', 0.75),\n",
              " ('mcmuffin', 'muffin', 0.75),\n",
              " ('mee', 'meze', 0.75),\n",
              " ('menue', 'benue', 0.8),\n",
              " ('meringues', 'meringue', 0.8888888888888888),\n",
              " ('mexi', 'meki', 0.75),\n",
              " ('mexicocity', 'mexico_city', 0.9090909090909091),\n",
              " ('michelin', 'mechelen', 0.75),\n",
              " ('milano', 'midland', 0.7142857142857143),\n",
              " ('milano', 'milagro', 0.7142857142857143),\n",
              " ('milano', 'milan', 0.8333333333333334),\n",
              " ('milshake', 'milk_shake', 0.8),\n",
              " ('mineira', 'limeira', 0.7142857142857143),\n",
              " ('mineira', 'madeira', 0.7142857142857143),\n",
              " ('moby', 'moba', 0.75),\n",
              " ('mochis', 'mochi', 0.8333333333333334),\n",
              " ('moofree', 'gmo_free', 0.75),\n",
              " ('mooshka', 'mossaka', 0.7142857142857143),\n",
              " ('morcilla', 'tortilla', 0.75),\n",
              " ('morel', 'morelia', 0.7142857142857143),\n",
              " ('morel', 'morelos', 0.7142857142857143),\n",
              " ('morels', 'morelia', 0.7142857142857143),\n",
              " ('morels', 'morelos', 0.8571428571428572),\n",
              " ('mortar', 'mostar', 0.8333333333333334),\n",
              " ('mousakaa', 'moussaka', 0.75),\n",
              " ('mousakaa', 'mossaka', 0.75),\n",
              " ('mousakka', 'mojakka', 0.75),\n",
              " ('mousakka', 'moussaka', 0.75),\n",
              " ('mousakka', 'mossaka', 0.75),\n",
              " ('mozza', 'monza', 0.8),\n",
              " ('mrsantana', 'santana', 0.7777777777777778),\n",
              " ('msia', 'asia', 0.75),\n",
              " ('msia', 'maia', 0.75),\n",
              " ('mums', 'mus', 0.75),\n",
              " ('munnar', 'junnar', 0.8333333333333334),\n",
              " ('munnar', 'mannar', 0.8333333333333334),\n",
              " ('naans', 'naan', 0.8),\n",
              " ('nagasaki', 'saganaki', 0.75),\n",
              " ('nagasaki', 'kawasaki', 0.75),\n",
              " ('nasoya', 'nagoya', 0.8333333333333334),\n",
              " ('naviyas', 'navotas', 0.7142857142857143),\n",
              " ('nepali', 'nepal', 0.8333333333333334),\n",
              " ('nespresso', 'espresso', 0.8888888888888888),\n",
              " ('nettle', 'seattle', 0.7142857142857143),\n",
              " ('newtella', 'nutella', 0.75),\n",
              " ('newtella', 'estella', 0.75),\n",
              " ('ngoh', 'ngo', 0.75),\n",
              " ('nighter', 'nights', 0.7142857142857143),\n",
              " ('nighter', 'night', 0.7142857142857143),\n",
              " ('nighter', 'niger', 0.7142857142857143),\n",
              " ('ningjna', 'ningxia', 0.7142857142857143),\n",
              " ('nite', 'nine', 0.75),\n",
              " ('noddles', 'noodle', 0.7142857142857143),\n",
              " ('noddles', 'noodles', 0.8571428571428572),\n",
              " ('noddles', 'nogales', 0.7142857142857143),\n",
              " ('noni', 'nori', 0.75),\n",
              " ('nory', 'nori', 0.75),\n",
              " ('nory', 'żory', 0.75),\n",
              " ('nory', 'nord', 0.75),\n",
              " ('nuvegan', 'vegan', 0.7142857142857143),\n",
              " ('oatlymilk', 'oat_milk', 0.7777777777777778),\n",
              " ('oberoi', 'oberwil', 0.7142857142857143),\n",
              " ('ocata', 'ocaña', 0.8),\n",
              " ('okara', 'obara', 0.8),\n",
              " ('okara', 'okra', 0.8),\n",
              " ('okara', 'kara', 0.8),\n",
              " ('okinawa', 'okinawan', 0.875),\n",
              " ('okja', 'okra', 0.75),\n",
              " ('okja', 'okha', 0.75),\n",
              " ('olympia', 'lumpia', 0.7142857142857143),\n",
              " ('oporto', 'porto', 0.8333333333333334),\n",
              " ('ostrich', 'ostroh', 0.7142857142857143),\n",
              " ('osu', 'otsu', 0.75),\n",
              " ('osu', 'osun', 0.75),\n",
              " ('pablano', 'poblano', 0.8571428571428572),\n",
              " ('pablano', 'plano', 0.7142857142857143),\n",
              " ('paleo', 'palermo', 0.7142857142857143),\n",
              " ('palha', 'pala', 0.8),\n",
              " ('palha', 'palhoça', 0.7142857142857143),\n",
              " ('palha', 'palma', 0.8),\n",
              " ('panang', 'da_nang', 0.7142857142857143),\n",
              " ('panang', 'kananga', 0.7142857142857143),\n",
              " ('panang', 'nanyang', 0.7142857142857143),\n",
              " ('panang', 'padang', 0.8333333333333334),\n",
              " ('panang', 'palanga', 0.7142857142857143),\n",
              " ('panang', 'pahang', 0.8333333333333334),\n",
              " ('panang', 'penang', 0.8333333333333334),\n",
              " ('pani', 'hani', 0.75),\n",
              " ('pani', 'pali', 0.75),\n",
              " ('pani', 'pwani', 0.8),\n",
              " ('paninis', 'paniki', 0.7142857142857143),\n",
              " ('panzerotti', 'panzarotti', 0.9),\n",
              " ('papayas', 'papaya', 0.8571428571428572),\n",
              " ('papayas', 'palayan', 0.7142857142857143),\n",
              " ('papayas', 'payas', 0.7142857142857143),\n",
              " ('parkway', 'caraway', 0.7142857142857143),\n",
              " ('parkway', 'tarkwa', 0.7142857142857143),\n",
              " ('parkway', 'parwan', 0.7142857142857143),\n",
              " ('parmesean', 'parmesan', 0.8888888888888888),\n",
              " ('parsely', 'parsley', 0.7142857142857143),\n",
              " ('passata', 'cassata', 0.8571428571428572),\n",
              " ('passata', 'pasta', 0.7142857142857143),\n",
              " ('passata', 'cassava', 0.7142857142857143),\n",
              " ('passata', 'massawa', 0.7142857142857143),\n",
              " ('passata', 'assaba', 0.7142857142857143),\n",
              " ('passata', 'kassala', 0.7142857142857143),\n",
              " ('pears', 'years', 0.8),\n",
              " ('pears', 'pear', 0.8),\n",
              " ('pears', 'peas', 0.8),\n",
              " ('pecorino', 'povorino', 0.75),\n",
              " ('peperoni', 'pepperoni', 0.8888888888888888),\n",
              " ('pescetarianos', 'pescatarian', 0.7692307692307692),\n",
              " ('philippine', 'philippines', 0.9090909090909091),\n",
              " ('piccadilly', 'picadillo', 0.8),\n",
              " ('piccadilly', 'piccalilli', 0.8),\n",
              " ('pickled', 'pickles', 0.8571428571428572),\n",
              " ('pierogies', 'pierogi', 0.7777777777777778),\n",
              " ('pierogis', 'pierogi', 0.875),\n",
              " ('pilau', 'pilaf', 0.8),\n",
              " ('pilau', 'pilav', 0.8),\n",
              " ('pimento', 'pimienta', 0.75),\n",
              " ('pimento', 'pinto', 0.7142857142857143),\n",
              " ('pinot', 'pinol', 0.8),\n",
              " ('pinot', 'pirot', 0.8),\n",
              " ('piza', 'pita', 0.75),\n",
              " ('piza', 'pizza', 0.8),\n",
              " ('piza', 'pisa', 0.75),\n",
              " ('piza', 'piła', 0.75),\n",
              " ('piza', 'giza', 0.75),\n",
              " ('pizzeta', 'pizza', 0.7142857142857143),\n",
              " ('plantations', 'plantain', 0.7272727272727273),\n",
              " ('plin', 'klin', 0.75),\n",
              " ('poboy', \"po'_boy\", 0.7142857142857143),\n",
              " ('pok', 'poke', 0.75),\n",
              " ('pok', 'pork', 0.75),\n",
              " ('poké', 'poke', 0.75),\n",
              " ('poké', 'boké', 0.75),\n",
              " ('pomme', 'gomme', 0.8),\n",
              " ('pondria', 'andria', 0.7142857142857143),\n",
              " ('pondria', 'londrina', 0.75),\n",
              " ('ponedle', 'knedle', 0.7142857142857143),\n",
              " ('ponedle', 'panelle', 0.7142857142857143),\n",
              " ('pontian', 'pontianak', 0.7777777777777778),\n",
              " ('pontian', 'putian', 0.7142857142857143),\n",
              " ('portabellas', 'portobello', 0.7272727272727273),\n",
              " ('portabello', 'portobello', 0.9),\n",
              " ('portugese', 'portuguese', 0.9),\n",
              " ('portugese', 'portugalete', 0.7272727272727273),\n",
              " ('portugese', 'portuguesa', 0.8),\n",
              " ('posole', 'pozole', 0.8333333333333334),\n",
              " ('potluck', 'polack', 0.7142857142857143),\n",
              " ('potstickers', 'potsticker', 0.9090909090909091),\n",
              " ('poutines', 'poutine', 0.875),\n",
              " ('pozile', 'pozole', 0.8333333333333334),\n",
              " ('preto', 'pret', 0.8),\n",
              " ('profiteroles', 'profiterole', 0.9166666666666666),\n",
              " ('prune', 'pune', 0.8),\n",
              " ('pulao', 'pula', 0.8),\n",
              " ('punjab', 'punjabi', 0.8571428571428572),\n",
              " ('pupusas', 'pupusa', 0.8571428571428572),\n",
              " ('puris', 'paris', 0.8),\n",
              " ('puris', 'puri', 0.8),\n",
              " ('puro', 'purl', 0.75),\n",
              " ('puro', 'puto', 0.75),\n",
              " ('puro', 'puri', 0.75),\n",
              " ('puro', 'puno', 0.75),\n",
              " ('pushkins', 'pumpkins', 0.75),\n",
              " ('pushkins', 'pushkin', 0.875),\n",
              " ('pushkins', 'pushkino', 0.875),\n",
              " ('quacamole', 'guacamole', 0.8888888888888888),\n",
              " ('quarter', 'quarteira', 0.7777777777777778),\n",
              " ('quarter', 'duarte', 0.7142857142857143),\n",
              " ('rangoli', 'cannoli', 0.7142857142857143),\n",
              " ('rangoli', 'ravioli', 0.7142857142857143),\n",
              " ('rangoli', 'sangli', 0.7142857142857143),\n",
              " ('rangoli', 'angola', 0.7142857142857143),\n",
              " ('rasberry', 'cranberry', 0.7777777777777778),\n",
              " ('rasins', 'raisins', 0.8571428571428572),\n",
              " ('rasins', 'rasina', 0.8333333333333334),\n",
              " ('rawa', 'rava', 0.75),\n",
              " ('rawa', 'rana', 0.75),\n",
              " ('rawa', 'rača', 0.75),\n",
              " ('rawa', 'ruwa', 0.75),\n",
              " ('rawa', 'urawa', 0.8),\n",
              " ('rawa', 'rewa', 0.75),\n",
              " ('rawcake', 'pancake', 0.7142857142857143),\n",
              " ('rawcake', 'rab_cake', 0.75),\n",
              " ('rawvioli', 'ravioli', 0.875),\n",
              " ('rawvioli', 'raviolis', 0.75),\n",
              " ('riceballs', 'rice_ball', 0.7777777777777778),\n",
              " ('roasted', 'roast', 0.7142857142857143),\n",
              " ('rodeo', 'rodez', 0.8),\n",
              " ('roe', 'rose', 0.75),\n",
              " ('roe', 'rome', 0.75),\n",
              " ('romana', 'romanian', 0.75),\n",
              " ('romana', 'romaine', 0.7142857142857143),\n",
              " ('romana', 'somanya', 0.7142857142857143),\n",
              " ('romana', 'romania', 0.8571428571428572),\n",
              " ('rootbeer', 'root_beer', 0.8888888888888888),\n",
              " ('roselle', 'rosolli', 0.7142857142857143),\n",
              " ('roselle', 'rotelle', 0.8571428571428572),\n",
              " ('roselle', 'rouille', 0.7142857142857143),\n",
              " ('roselle', 'rolle', 0.7142857142857143),\n",
              " ('roselle', 'roseville', 0.7777777777777778),\n",
              " ('roulade', 'poularde', 0.75),\n",
              " ('roulade', 'remoulade', 0.7777777777777778),\n",
              " ('roulade', 'rouladen', 0.875),\n",
              " ('rumanian', 'romanian', 0.875),\n",
              " ('rumanian', 'tumanyan', 0.75),\n",
              " ('rumanian', 'romania', 0.75),\n",
              " ('runner', 'gunner', 0.8333333333333334),\n",
              " ('saco', 'salo', 0.75),\n",
              " ('saco', 'seco', 0.75),\n",
              " ('saco', 'waco', 0.75),\n",
              " ('saice', 'sauce', 0.8),\n",
              " ('saice', 'spice', 0.8),\n",
              " ('saigon', 'saison', 0.8333333333333334),\n",
              " ('saigon', 'saillon', 0.7142857142857143),\n",
              " ('salad.', 'salad', 0.8333333333333334),\n",
              " ('salad.', 'salads', 0.8333333333333334),\n",
              " ('salad.', 'saladin', 0.7142857142857143),\n",
              " ('saladito', 'majadito', 0.75),\n",
              " ('saladito', 'saladstop', 0.7777777777777778),\n",
              " ('saladito', 'saladin', 0.75),\n",
              " ('salchipapa', 'salchipapas', 0.9090909090909091),\n",
              " ('samba', 'amba', 0.8),\n",
              " ('samba', 'sambal', 0.8333333333333334),\n",
              " ('samba', 'sambar', 0.8333333333333334),\n",
              " ('samba', 'sambhar', 0.7142857142857143),\n",
              " ('samba', 'sambuca', 0.7142857142857143),\n",
              " ('samba', 'shambar', 0.7142857142857143),\n",
              " ('samba', 'sambhal', 0.7142857142857143),\n",
              " ('sambo', 'ambo', 0.8),\n",
              " ('sambo', 'samobor', 0.7142857142857143),\n",
              " ('sambusak', 'sambuca', 0.75),\n",
              " ('sammich', 'sabich', 0.7142857142857143),\n",
              " ('samoa', 'samosa', 0.8333333333333334),\n",
              " ('samoa', 'samosas', 0.7142857142857143),\n",
              " ('samoas', 'samosas', 0.8571428571428572),\n",
              " ('samson', 'saison', 0.8333333333333334),\n",
              " ('samson', 'samoon', 0.8333333333333334),\n",
              " ('samson', 'damson', 0.8333333333333334),\n",
              " ('samson', 'samrong', 0.7142857142857143),\n",
              " ('samson', 'sason', 0.8333333333333334),\n",
              " ('samson', 'samsun', 0.8333333333333334),\n",
              " ('sandra', 'sangria', 0.7142857142857143),\n",
              " ('sandra', 'gandra', 0.8333333333333334),\n",
              " ('sandra', 'jandira', 0.7142857142857143),\n",
              " ('sandra', 'kandıra', 0.7142857142857143),\n",
              " ('sandra', 'mandera', 0.7142857142857143),\n",
              " ('sanga', 'banga', 0.8),\n",
              " ('sanga', 'sangak', 0.8333333333333334),\n",
              " ('sanga', 'sangria', 0.7142857142857143),\n",
              " ('sanga', 'sanna', 0.8),\n",
              " ('sanga', 'shangla', 0.7142857142857143),\n",
              " ('sanga', 'sangha', 0.8333333333333334),\n",
              " ('sanga', 'tanga', 0.8),\n",
              " ('sansai', 'sassari', 0.7142857142857143),\n",
              " ('sansai', 'sunsari', 0.7142857142857143),\n",
              " ('santiariogaia', 'santuario_gaia', 0.8571428571428572),\n",
              " ('santuriogaia', 'santuario_gaia', 0.8571428571428572),\n",
              " ('sardine', 'tartine', 0.7142857142857143),\n",
              " ('sardine', 'sarpino', 0.7142857142857143),\n",
              " ('sardine', 'mardin', 0.7142857142857143),\n",
              " ('sarnie', 'sarnia', 0.8333333333333334),\n",
              " ('sarnies', 'sarnen', 0.7142857142857143),\n",
              " ('sarnies', 'sarnia', 0.7142857142857143),\n",
              " ('sarnies', 'warnes', 0.7142857142857143),\n",
              " ('scandinavia', 'scandinavian', 0.9166666666666666),\n",
              " ('scarborough', 'maryborough', 0.7272727272727273),\n",
              " ('scarborough', 'marlborough', 0.7272727272727273),\n",
              " ('schwarma', 'shawarma', 0.75),\n",
              " ('seasons', 'sason', 0.7142857142857143),\n",
              " ('seaweedchips', 'seaweed_chips', 0.9230769230769231),\n",
              " ('sedap', 'seda', 0.8),\n",
              " ('selenium', 'selenicë', 0.75),\n",
              " ('sesam', 'ssam', 0.8),\n",
              " ('sesam', 'sesame', 0.8333333333333334),\n",
              " ('set(vegetarian', 'vegetarian', 0.7142857142857143),\n",
              " ('set(vegetarian', 'pi_vegetarian', 0.7142857142857143),\n",
              " ('seventh', 'seven', 0.7142857142857143),\n",
              " ('sevice', 'ceviche', 0.7142857142857143),\n",
              " ('sevice', 'levice', 0.8333333333333334),\n",
              " ('sevice', 'seville', 0.7142857142857143),\n",
              " ('shakshukas', 'shakshuka', 0.9),\n",
              " ('shawerma', 'shawarma', 0.875),\n",
              " ('sherbert', 'sharbet', 0.75),\n",
              " ('sherbert', 'sherbet', 0.875),\n",
              " ('shimeiji', 'shimeji', 0.875),\n",
              " ('shoarma', 'sarma', 0.7142857142857143),\n",
              " ('shoarma', 'shawarma', 0.75),\n",
              " ('shoarma', 'shorwa', 0.7142857142857143),\n",
              " ('shoarma', 'shama', 0.7142857142857143),\n",
              " ('shoarma', 'sharya', 0.7142857142857143),\n",
              " ('sicily', 'sicilia', 0.7142857142857143),\n",
              " ('sihanoukvillevegan', 'sihanoukville', 0.7222222222222222),\n",
              " ('singles', 'senglea', 0.7142857142857143),\n",
              " ('singles', 'sines', 0.7142857142857143),\n",
              " ('sirop', 'siron', 0.8),\n",
              " ('sirop', 'sinop', 0.8),\n",
              " ('snack.', 'snack', 0.8333333333333334),\n",
              " ('snacker', 'cracker', 0.7142857142857143),\n",
              " ('snacker', 'snack', 0.7142857142857143),\n",
              " ('sobas', 'soba', 0.8),\n",
              " ('sobas', 'sobao', 0.8),\n",
              " ('sodas', 'skuodas', 0.7142857142857143),\n",
              " ('soho', 'soto', 0.75),\n",
              " ('soho', 'soyo', 0.75),\n",
              " ('soho', 'sodo', 0.75),\n",
              " ('somen', 'sōmen', 0.8),\n",
              " ('sopes', 'sope', 0.8),\n",
              " ('sorghum', 'sorgun', 0.7142857142857143),\n",
              " ('soulvegetarian', 'vegetarian', 0.7142857142857143),\n",
              " ('soulvegetarian', 'pi_vegetarian', 0.7142857142857143),\n",
              " ('soupspoon', 'soup_spoon', 0.9),\n",
              " ('sourcing', 'tourcoing', 0.7777777777777778),\n",
              " ('southie', 'smoothie', 0.75),\n",
              " ('southside', 'south_side', 0.9),\n",
              " ('soymilks', 'soy_milk', 0.75),\n",
              " ('spagetti', 'spaghetti', 0.8888888888888888),\n",
              " ('spinich', 'spanish', 0.7142857142857143),\n",
              " ('spinich', 'spinach', 0.8571428571428572),\n",
              " ('spizza', 'pizza', 0.8333333333333334),\n",
              " ('srap', 'urap', 0.75),\n",
              " ('srap', 'wrap', 0.75),\n",
              " ('sseeds', 'seeds', 0.8333333333333334),\n",
              " ('ssoup', 'soup', 0.8),\n",
              " ('stawberry', 'strawberry', 0.9),\n",
              " ('sultana', 'silvana', 0.7142857142857143),\n",
              " ('sultana', 'sultsina', 0.75),\n",
              " ('sultana', 'mullana', 0.7142857142857143),\n",
              " ('sultana', 'multan', 0.7142857142857143),\n",
              " ('sultana', 'rutana', 0.7142857142857143),\n",
              " ('sultana', 'santana', 0.7142857142857143),\n",
              " ('sultana', 'sulina', 0.7142857142857143),\n",
              " ('sultana', 'sântana', 0.7142857142857143),\n",
              " ('sunchoke', 'suncake', 0.75),\n",
              " ('suppli', 'supplì', 0.8333333333333334),\n",
              " ('supplier', 'supper', 0.75),\n",
              " (\"sushi'n\", 'sushi', 0.7142857142857143),\n",
              " ('swensen', 'swansea', 0.7142857142857143),\n",
              " ('swensen', 'sweden', 0.7142857142857143),\n",
              " ('tableside', 'tameside', 0.7777777777777778),\n",
              " ('tanjongpagar', 'tanjong_pagar', 0.9230769230769231),\n",
              " ('tarte', 'tartare', 0.7142857142857143),\n",
              " ('tarte', 'tartine', 0.7142857142857143),\n",
              " ('tarte', 'tartlet', 0.7142857142857143),\n",
              " ('tarte', 'taree', 0.8),\n",
              " ('tarte', 'tartu', 0.8),\n",
              " ('tartlets', 'tartlet', 0.875),\n",
              " ('tbat', 'trat', 0.75),\n",
              " ('terre', 'terrine', 0.7142857142857143),\n",
              " ('terre', 'terme', 0.8),\n",
              " ('thames', 'chaumes', 0.7142857142857143),\n",
              " ('thia', 'thika', 0.8),\n",
              " ('thistle', 'thisted', 0.7142857142857143),\n",
              " ('thrusday', 'thursday', 0.75),\n",
              " ('thundertea', 'thunder_bay', 0.7272727272727273),\n",
              " ('thundertearice', 'thunder_tea_rice', 0.875),\n",
              " ('thurs', 'tours', 0.8),\n",
              " ('tibet', 'tibetan', 0.7142857142857143),\n",
              " ('tibet', 'tibesti', 0.7142857142857143),\n",
              " ('tigernut', 'iernut', 0.75),\n",
              " ('tioman', 'tismana', 0.7142857142857143),\n",
              " ('tonkotsu', 'tonkatsu', 0.875),\n",
              " ('tortilha', 'tortilla', 0.875),\n",
              " ('tortilha', 'tortillas', 0.7777777777777778),\n",
              " ('trek', 'terek', 0.8),\n",
              " ('triana', 'tarhana', 0.7142857142857143),\n",
              " ('triana', 'brianka', 0.7142857142857143),\n",
              " ('triana', 'brianza', 0.7142857142857143),\n",
              " ('triana', 'trikala', 0.7142857142857143),\n",
              " ('triana', 'ariana', 0.8333333333333334),\n",
              " ('triana', 'turkana', 0.7142857142857143),\n",
              " ('trip(s', 'tripas', 0.8333333333333334),\n",
              " ('truffled', 'truffles', 0.875),\n",
              " ('tuber', 'tubers', 0.8333333333333334),\n",
              " ('tues', 'tuas', 0.75),\n",
              " ('tunisian', 'tunisia', 0.875),\n",
              " ('turtle', 'tartlet', 0.7142857142857143),\n",
              " ('tuscan', 'toscana', 0.7142857142857143),\n",
              " ('twitter', 'winter', 0.7142857142857143),\n",
              " ('twitter', 'fritter', 0.7142857142857143),\n",
              " ('ubon', 'udon', 0.75),\n",
              " ('ume', 'umeå', 0.75),\n",
              " ('undhiya', 'undhiyu', 0.8571428571428572),\n",
              " ('vallarta', 'valletta', 0.75),\n",
              " ('valley', 'vallejo', 0.7142857142857143),\n",
              " ('valley', 'valle', 0.8333333333333334),\n",
              " ('veganpastry', 'veganuary', 0.7272727272727273),\n",
              " ('veganpastry', 'vegan_pastries', 0.7142857142857143),\n",
              " ('veganshakes', 'vegan_cake', 0.7272727272727273),\n",
              " ('veloute', 'elote', 0.7142857142857143),\n",
              " ('veloute', 'velouté', 0.8571428571428572),\n",
              " ('verde', 'verdejo', 0.7142857142857143),\n",
              " ('verde', 'zerde', 0.8),\n",
              " ('verde', 'voerde', 0.8333333333333334),\n",
              " ('vermont', 'vermouth', 0.75),\n",
              " ('vermont', 'verona', 0.7142857142857143),\n",
              " ('viande', 'vianden', 0.8571428571428572),\n",
              " ('vibrance', 'sobrance', 0.75),\n",
              " ('vide', 'vize', 0.75),\n",
              " ('wanchai', 'banchan', 0.7142857142857143),\n",
              " ('wanchai', 'wan_chai', 0.875),\n",
              " ('wanchai', 'wenchi', 0.7142857142857143),\n",
              " ('wasabe', 'wasabi', 0.8333333333333334),\n",
              " ('welsh', 'belsh', 0.8),\n",
              " ('welsh', 'wels', 0.8),\n",
              " ('wholeheart', 'wholewheat', 0.8),\n",
              " ('wholeheart', 'whole_earth', 0.8181818181818181),\n",
              " ('xanthan', 'banchan', 0.7142857142857143),\n",
              " ('xanthan', 'bantan', 0.7142857142857143),\n",
              " ('xanthan', 'anshan', 0.7142857142857143),\n",
              " ('xanthan', 'xanthi', 0.7142857142857143),\n",
              " ('yaca', 'maca', 0.75),\n",
              " ('yaca', 'yuca', 0.75),\n",
              " ('yaca', 'yala', 0.75),\n",
              " ('yapingacho', 'llapingacho', 0.8181818181818181),\n",
              " ('yolk', 'yola', 0.75),\n",
              " ('yolk', 'york', 0.75),\n",
              " ('yorker', 'yonkers', 0.7142857142857143),\n",
              " ('yuba', 'yuca', 0.75),\n",
              " ('yuba', 'duba', 0.75),\n",
              " ('yuba', 'juba', 0.75),\n",
              " ('yuba', 'luba', 0.75),\n",
              " ('yuba', 'cuba', 0.75),\n",
              " ('zurich', 'zürich', 0.8333333333333334),\n",
              " ('~ice', 'rice', 0.75),\n",
              " ('~ice', 'lice', 0.75)]"
            ]
          },
          "metadata": {
            "tags": []
          },
          "execution_count": 50
        }
      ]
    },
    {
      "cell_type": "code",
      "metadata": {
        "id": "JRInbKzpwQ8N",
        "colab_type": "code",
        "colab": {}
      },
      "source": [
        "with open('entities_to_be_added_test.txt', 'w') as f:\n",
        "    f.write(json.dumps(entities_to_be_added))\n",
        "\n",
        "with open('most_similar_patterns.txt', 'w') as f:\n",
        "    f.write(json.dumps(leven_result))\n"
      ],
      "execution_count": 0,
      "outputs": []
    },
    {
      "cell_type": "code",
      "metadata": {
        "id": "AFfgdcBuwUy8",
        "colab_type": "code",
        "colab": {
          "base_uri": "https://localhost:8080/",
          "height": 170
        },
        "outputId": "79bc8510-1e4d-4570-8133-8c3d5ecf2a4e"
      },
      "source": [
        "eval_new_df.columns"
      ],
      "execution_count": 52,
      "outputs": [
        {
          "output_type": "execute_result",
          "data": {
            "text/plain": [
              "Index(['_id', 'likes', 'user', 'text', 'type', 'restaurant', 'dish', 'taste',\n",
              "       'presentation', 'nutrition', 'originality', 'value', 'overall',\n",
              "       'createdAt', 'user_info.name', 'user_info.likedArticlesCount',\n",
              "       'user_info.followersCount', 'user_info.likedReviewsCount',\n",
              "       'user_info.challengeReviews', 'user_info.language',\n",
              "       'user_info.reviewKarma.total.score', 'dish_info.name',\n",
              "       'restaurant_name', 'restaurant_country', 'restaurant_website',\n",
              "       'restaurant_locality', 'entities'],\n",
              "      dtype='object')"
            ]
          },
          "metadata": {
            "tags": []
          },
          "execution_count": 52
        }
      ]
    },
    {
      "cell_type": "code",
      "metadata": {
        "id": "-CXuFm-Vwc9f",
        "colab_type": "code",
        "colab": {}
      },
      "source": [
        "eval_new_df.columns = ['review', 'likes', 'user', 'text', 'type', 'restaurant', 'dish', 'taste',\n",
        "       'presentation', 'nutrition', 'originality', 'value', 'overall',\n",
        "       'createdAt', 'user_name', 'user_likedArticlesCount',\n",
        "       'user_followersCount', 'user_likedReviewsCount',\n",
        "       'user_challengeReviews', 'user_language',\n",
        "       'user_reviewKarma_score', 'dish_name',\n",
        "       'restaurant_name', 'restaurant_country', 'restaurant_website',\n",
        "       'restaurant_locality', 'entities']"
      ],
      "execution_count": 0,
      "outputs": []
    },
    {
      "cell_type": "code",
      "metadata": {
        "id": "P7S0Rtit6mX4",
        "colab_type": "code",
        "colab": {
          "base_uri": "https://localhost:8080/",
          "height": 204
        },
        "outputId": "fce1e404-7108-46d6-ea04-d0f6804d80af"
      },
      "source": [
        "df_likes = eval_new_df[['review','likes']]\n",
        "df_likes['cleaned_likes'] = df_likes['likes'].apply(lambda x: clean_like_objects(x))\n",
        "df_likes.head()"
      ],
      "execution_count": 54,
      "outputs": [
        {
          "output_type": "execute_result",
          "data": {
            "text/html": [
              "<div>\n",
              "<style scoped>\n",
              "    .dataframe tbody tr th:only-of-type {\n",
              "        vertical-align: middle;\n",
              "    }\n",
              "\n",
              "    .dataframe tbody tr th {\n",
              "        vertical-align: top;\n",
              "    }\n",
              "\n",
              "    .dataframe thead th {\n",
              "        text-align: right;\n",
              "    }\n",
              "</style>\n",
              "<table border=\"1\" class=\"dataframe\">\n",
              "  <thead>\n",
              "    <tr style=\"text-align: right;\">\n",
              "      <th></th>\n",
              "      <th>review</th>\n",
              "      <th>likes</th>\n",
              "      <th>cleaned_likes</th>\n",
              "    </tr>\n",
              "  </thead>\n",
              "  <tbody>\n",
              "    <tr>\n",
              "      <th>0</th>\n",
              "      <td>5e1db388f5e9b50020778794</td>\n",
              "      <td>[ObjectId('5c3530801b78330004aa6dc6'), ObjectI...</td>\n",
              "      <td>[5c3530801b78330004aa6dc6, 5df5528a261f8300207...</td>\n",
              "    </tr>\n",
              "    <tr>\n",
              "      <th>1</th>\n",
              "      <td>5e1db339f5e9b50020778786</td>\n",
              "      <td>[ObjectId('5c748a8934dda90004b017b4')]</td>\n",
              "      <td>[5c748a8934dda90004b017b4]</td>\n",
              "    </tr>\n",
              "    <tr>\n",
              "      <th>2</th>\n",
              "      <td>5e1db2dbf2316f0020a86169</td>\n",
              "      <td>[ObjectId('5c3530801b78330004aa6dc6'), ObjectI...</td>\n",
              "      <td>[5c3530801b78330004aa6dc6, 5e03e8307956290020e...</td>\n",
              "    </tr>\n",
              "    <tr>\n",
              "      <th>3</th>\n",
              "      <td>5e1db28af2316f0020a86157</td>\n",
              "      <td>[ObjectId('5bdc175f39e739000445ab2c'), ObjectI...</td>\n",
              "      <td>[5bdc175f39e739000445ab2c, 5d4fc4bec470910004c...</td>\n",
              "    </tr>\n",
              "    <tr>\n",
              "      <th>4</th>\n",
              "      <td>5e1db24ff5e9b5002077874c</td>\n",
              "      <td>[ObjectId('5c3530801b78330004aa6dc6'), ObjectI...</td>\n",
              "      <td>[5c3530801b78330004aa6dc6, 5e03e8307956290020e...</td>\n",
              "    </tr>\n",
              "  </tbody>\n",
              "</table>\n",
              "</div>"
            ],
            "text/plain": [
              "                     review  ...                                      cleaned_likes\n",
              "0  5e1db388f5e9b50020778794  ...  [5c3530801b78330004aa6dc6, 5df5528a261f8300207...\n",
              "1  5e1db339f5e9b50020778786  ...                         [5c748a8934dda90004b017b4]\n",
              "2  5e1db2dbf2316f0020a86169  ...  [5c3530801b78330004aa6dc6, 5e03e8307956290020e...\n",
              "3  5e1db28af2316f0020a86157  ...  [5bdc175f39e739000445ab2c, 5d4fc4bec470910004c...\n",
              "4  5e1db24ff5e9b5002077874c  ...  [5c3530801b78330004aa6dc6, 5e03e8307956290020e...\n",
              "\n",
              "[5 rows x 3 columns]"
            ]
          },
          "metadata": {
            "tags": []
          },
          "execution_count": 54
        }
      ]
    },
    {
      "cell_type": "code",
      "metadata": {
        "id": "Sj2F_fsC6qqa",
        "colab_type": "code",
        "colab": {
          "base_uri": "https://localhost:8080/",
          "height": 204
        },
        "outputId": "b000ffb1-8171-42e4-ace1-2db2ccd861c1"
      },
      "source": [
        "df_likes['likes'] = df_likes.cleaned_likes.apply(lambda x: x[1:-1].split(','))\n",
        "df_likes.head()"
      ],
      "execution_count": 55,
      "outputs": [
        {
          "output_type": "execute_result",
          "data": {
            "text/html": [
              "<div>\n",
              "<style scoped>\n",
              "    .dataframe tbody tr th:only-of-type {\n",
              "        vertical-align: middle;\n",
              "    }\n",
              "\n",
              "    .dataframe tbody tr th {\n",
              "        vertical-align: top;\n",
              "    }\n",
              "\n",
              "    .dataframe thead th {\n",
              "        text-align: right;\n",
              "    }\n",
              "</style>\n",
              "<table border=\"1\" class=\"dataframe\">\n",
              "  <thead>\n",
              "    <tr style=\"text-align: right;\">\n",
              "      <th></th>\n",
              "      <th>review</th>\n",
              "      <th>likes</th>\n",
              "      <th>cleaned_likes</th>\n",
              "    </tr>\n",
              "  </thead>\n",
              "  <tbody>\n",
              "    <tr>\n",
              "      <th>0</th>\n",
              "      <td>5e1db388f5e9b50020778794</td>\n",
              "      <td>[5c3530801b78330004aa6dc6,  5df5528a261f830020...</td>\n",
              "      <td>[5c3530801b78330004aa6dc6, 5df5528a261f8300207...</td>\n",
              "    </tr>\n",
              "    <tr>\n",
              "      <th>1</th>\n",
              "      <td>5e1db339f5e9b50020778786</td>\n",
              "      <td>[5c748a8934dda90004b017b4]</td>\n",
              "      <td>[5c748a8934dda90004b017b4]</td>\n",
              "    </tr>\n",
              "    <tr>\n",
              "      <th>2</th>\n",
              "      <td>5e1db2dbf2316f0020a86169</td>\n",
              "      <td>[5c3530801b78330004aa6dc6,  5e03e8307956290020...</td>\n",
              "      <td>[5c3530801b78330004aa6dc6, 5e03e8307956290020e...</td>\n",
              "    </tr>\n",
              "    <tr>\n",
              "      <th>3</th>\n",
              "      <td>5e1db28af2316f0020a86157</td>\n",
              "      <td>[5bdc175f39e739000445ab2c,  5d4fc4bec470910004...</td>\n",
              "      <td>[5bdc175f39e739000445ab2c, 5d4fc4bec470910004c...</td>\n",
              "    </tr>\n",
              "    <tr>\n",
              "      <th>4</th>\n",
              "      <td>5e1db24ff5e9b5002077874c</td>\n",
              "      <td>[5c3530801b78330004aa6dc6,  5e03e8307956290020...</td>\n",
              "      <td>[5c3530801b78330004aa6dc6, 5e03e8307956290020e...</td>\n",
              "    </tr>\n",
              "  </tbody>\n",
              "</table>\n",
              "</div>"
            ],
            "text/plain": [
              "                     review  ...                                      cleaned_likes\n",
              "0  5e1db388f5e9b50020778794  ...  [5c3530801b78330004aa6dc6, 5df5528a261f8300207...\n",
              "1  5e1db339f5e9b50020778786  ...                         [5c748a8934dda90004b017b4]\n",
              "2  5e1db2dbf2316f0020a86169  ...  [5c3530801b78330004aa6dc6, 5e03e8307956290020e...\n",
              "3  5e1db28af2316f0020a86157  ...  [5bdc175f39e739000445ab2c, 5d4fc4bec470910004c...\n",
              "4  5e1db24ff5e9b5002077874c  ...  [5c3530801b78330004aa6dc6, 5e03e8307956290020e...\n",
              "\n",
              "[5 rows x 3 columns]"
            ]
          },
          "metadata": {
            "tags": []
          },
          "execution_count": 55
        }
      ]
    },
    {
      "cell_type": "code",
      "metadata": {
        "id": "TlWyGBA36uyX",
        "colab_type": "code",
        "colab": {}
      },
      "source": [
        "df_likes = df_likes[['review','likes']].explode('likes').reset_index(drop=True)"
      ],
      "execution_count": 0,
      "outputs": []
    },
    {
      "cell_type": "code",
      "metadata": {
        "id": "h8WNZxMi617L",
        "colab_type": "code",
        "colab": {
          "base_uri": "https://localhost:8080/",
          "height": 136
        },
        "outputId": "bc3e92d1-dc3c-452b-c57e-f38371219472"
      },
      "source": [
        "df_likes.info()"
      ],
      "execution_count": 57,
      "outputs": [
        {
          "output_type": "stream",
          "text": [
            "<class 'pandas.core.frame.DataFrame'>\n",
            "RangeIndex: 206150 entries, 0 to 206149\n",
            "Data columns (total 2 columns):\n",
            "review    206150 non-null object\n",
            "likes     206150 non-null object\n",
            "dtypes: object(2)\n",
            "memory usage: 3.1+ MB\n"
          ],
          "name": "stdout"
        }
      ]
    },
    {
      "cell_type": "code",
      "metadata": {
        "id": "R4OZZ0j565M8",
        "colab_type": "code",
        "colab": {
          "base_uri": "https://localhost:8080/",
          "height": 136
        },
        "outputId": "9f2df079-1774-429d-f5e2-c65658f453e5"
      },
      "source": [
        "df_likes.columns = ['review','user']\n",
        "df_likes.info()"
      ],
      "execution_count": 58,
      "outputs": [
        {
          "output_type": "stream",
          "text": [
            "<class 'pandas.core.frame.DataFrame'>\n",
            "RangeIndex: 206150 entries, 0 to 206149\n",
            "Data columns (total 2 columns):\n",
            "review    206150 non-null object\n",
            "user      206150 non-null object\n",
            "dtypes: object(2)\n",
            "memory usage: 3.1+ MB\n"
          ],
          "name": "stdout"
        }
      ]
    },
    {
      "cell_type": "code",
      "metadata": {
        "id": "O1REeE047BPh",
        "colab_type": "code",
        "colab": {
          "base_uri": "https://localhost:8080/",
          "height": 204
        },
        "outputId": "fda5318f-3c11-4050-b9bd-05b821c60ad3"
      },
      "source": [
        "df_likes[df_likes['user']==''] = np.nan\n",
        "df_likes.dropna(inplace=True)\n",
        "df_likes.head()"
      ],
      "execution_count": 59,
      "outputs": [
        {
          "output_type": "execute_result",
          "data": {
            "text/html": [
              "<div>\n",
              "<style scoped>\n",
              "    .dataframe tbody tr th:only-of-type {\n",
              "        vertical-align: middle;\n",
              "    }\n",
              "\n",
              "    .dataframe tbody tr th {\n",
              "        vertical-align: top;\n",
              "    }\n",
              "\n",
              "    .dataframe thead th {\n",
              "        text-align: right;\n",
              "    }\n",
              "</style>\n",
              "<table border=\"1\" class=\"dataframe\">\n",
              "  <thead>\n",
              "    <tr style=\"text-align: right;\">\n",
              "      <th></th>\n",
              "      <th>review</th>\n",
              "      <th>user</th>\n",
              "    </tr>\n",
              "  </thead>\n",
              "  <tbody>\n",
              "    <tr>\n",
              "      <th>0</th>\n",
              "      <td>5e1db388f5e9b50020778794</td>\n",
              "      <td>5c3530801b78330004aa6dc6</td>\n",
              "    </tr>\n",
              "    <tr>\n",
              "      <th>1</th>\n",
              "      <td>5e1db388f5e9b50020778794</td>\n",
              "      <td>5df5528a261f830020736bcb</td>\n",
              "    </tr>\n",
              "    <tr>\n",
              "      <th>2</th>\n",
              "      <td>5e1db388f5e9b50020778794</td>\n",
              "      <td>5e137f3ef40ce300204041aa</td>\n",
              "    </tr>\n",
              "    <tr>\n",
              "      <th>3</th>\n",
              "      <td>5e1db339f5e9b50020778786</td>\n",
              "      <td>5c748a8934dda90004b017b4</td>\n",
              "    </tr>\n",
              "    <tr>\n",
              "      <th>4</th>\n",
              "      <td>5e1db2dbf2316f0020a86169</td>\n",
              "      <td>5c3530801b78330004aa6dc6</td>\n",
              "    </tr>\n",
              "  </tbody>\n",
              "</table>\n",
              "</div>"
            ],
            "text/plain": [
              "                     review                       user\n",
              "0  5e1db388f5e9b50020778794   5c3530801b78330004aa6dc6\n",
              "1  5e1db388f5e9b50020778794   5df5528a261f830020736bcb\n",
              "2  5e1db388f5e9b50020778794   5e137f3ef40ce300204041aa\n",
              "3  5e1db339f5e9b50020778786   5c748a8934dda90004b017b4\n",
              "4  5e1db2dbf2316f0020a86169   5c3530801b78330004aa6dc6"
            ]
          },
          "metadata": {
            "tags": []
          },
          "execution_count": 59
        }
      ]
    },
    {
      "cell_type": "code",
      "metadata": {
        "id": "BnRXm95r7Hgm",
        "colab_type": "code",
        "colab": {
          "base_uri": "https://localhost:8080/",
          "height": 136
        },
        "outputId": "41af0607-dc53-4e64-8e4a-61cf121c6d5c"
      },
      "source": [
        "df_likes.drop_duplicates(inplace=True)\n",
        "df_likes.info()"
      ],
      "execution_count": 60,
      "outputs": [
        {
          "output_type": "stream",
          "text": [
            "<class 'pandas.core.frame.DataFrame'>\n",
            "Int64Index: 159552 entries, 0 to 206139\n",
            "Data columns (total 2 columns):\n",
            "review    159552 non-null object\n",
            "user      159552 non-null object\n",
            "dtypes: object(2)\n",
            "memory usage: 3.7+ MB\n"
          ],
          "name": "stdout"
        }
      ]
    },
    {
      "cell_type": "code",
      "metadata": {
        "id": "K6vr_2e87LnW",
        "colab_type": "code",
        "colab": {
          "base_uri": "https://localhost:8080/",
          "height": 204
        },
        "outputId": "0318f5b9-3879-4477-ab78-ed5ab28f41c2"
      },
      "source": [
        "df_keyword_ents = pd.read_json('patterns_2020_02_04.jsonl',lines=True)[['id','label']].drop_duplicates().reset_index(drop=True)\n",
        "df_keyword_ents.head()"
      ],
      "execution_count": 61,
      "outputs": [
        {
          "output_type": "execute_result",
          "data": {
            "text/html": [
              "<div>\n",
              "<style scoped>\n",
              "    .dataframe tbody tr th:only-of-type {\n",
              "        vertical-align: middle;\n",
              "    }\n",
              "\n",
              "    .dataframe tbody tr th {\n",
              "        vertical-align: top;\n",
              "    }\n",
              "\n",
              "    .dataframe thead th {\n",
              "        text-align: right;\n",
              "    }\n",
              "</style>\n",
              "<table border=\"1\" class=\"dataframe\">\n",
              "  <thead>\n",
              "    <tr style=\"text-align: right;\">\n",
              "      <th></th>\n",
              "      <th>id</th>\n",
              "      <th>label</th>\n",
              "    </tr>\n",
              "  </thead>\n",
              "  <tbody>\n",
              "    <tr>\n",
              "      <th>0</th>\n",
              "      <td>algerian_coffee</td>\n",
              "      <td>beverage</td>\n",
              "    </tr>\n",
              "    <tr>\n",
              "      <th>1</th>\n",
              "      <td>almond_milk</td>\n",
              "      <td>beverage</td>\n",
              "    </tr>\n",
              "    <tr>\n",
              "      <th>2</th>\n",
              "      <td>almond_latte</td>\n",
              "      <td>beverage</td>\n",
              "    </tr>\n",
              "    <tr>\n",
              "      <th>3</th>\n",
              "      <td>arabic_coffee</td>\n",
              "      <td>beverage</td>\n",
              "    </tr>\n",
              "    <tr>\n",
              "      <th>4</th>\n",
              "      <td>arrack</td>\n",
              "      <td>beverage</td>\n",
              "    </tr>\n",
              "  </tbody>\n",
              "</table>\n",
              "</div>"
            ],
            "text/plain": [
              "                id     label\n",
              "0  algerian_coffee  beverage\n",
              "1      almond_milk  beverage\n",
              "2     almond_latte  beverage\n",
              "3    arabic_coffee  beverage\n",
              "4           arrack  beverage"
            ]
          },
          "metadata": {
            "tags": []
          },
          "execution_count": 61
        }
      ]
    },
    {
      "cell_type": "code",
      "metadata": {
        "id": "uZY5cNnp7tWy",
        "colab_type": "code",
        "colab": {
          "base_uri": "https://localhost:8080/",
          "height": 136
        },
        "outputId": "e5c7ad0b-a907-4f9e-a45e-39cf17a1d0f3"
      },
      "source": [
        "df_keyword_ents.info()"
      ],
      "execution_count": 62,
      "outputs": [
        {
          "output_type": "stream",
          "text": [
            "<class 'pandas.core.frame.DataFrame'>\n",
            "RangeIndex: 20920 entries, 0 to 20919\n",
            "Data columns (total 2 columns):\n",
            "id       20920 non-null object\n",
            "label    20920 non-null object\n",
            "dtypes: object(2)\n",
            "memory usage: 327.0+ KB\n"
          ],
          "name": "stdout"
        }
      ]
    },
    {
      "cell_type": "code",
      "metadata": {
        "id": "wuGg3NoB7xsY",
        "colab_type": "code",
        "colab": {
          "base_uri": "https://localhost:8080/",
          "height": 153
        },
        "outputId": "8268a517-0dd4-422d-d4c2-3035eae2c880"
      },
      "source": [
        "df_keyword_ents['updated'] = df_keyword_ents['label'].apply(lambda x: x+'_') + df_keyword_ents['id']\n",
        "df_keyword_ents.info()"
      ],
      "execution_count": 63,
      "outputs": [
        {
          "output_type": "stream",
          "text": [
            "<class 'pandas.core.frame.DataFrame'>\n",
            "RangeIndex: 20920 entries, 0 to 20919\n",
            "Data columns (total 3 columns):\n",
            "id         20920 non-null object\n",
            "label      20920 non-null object\n",
            "updated    20920 non-null object\n",
            "dtypes: object(3)\n",
            "memory usage: 490.4+ KB\n"
          ],
          "name": "stdout"
        }
      ]
    },
    {
      "cell_type": "code",
      "metadata": {
        "id": "cASIN1CG73-M",
        "colab_type": "code",
        "colab": {
          "base_uri": "https://localhost:8080/",
          "height": 204
        },
        "outputId": "d90101c4-205c-4e89-8a15-f12e6d677562"
      },
      "source": [
        "df_keyword_ents.head()"
      ],
      "execution_count": 64,
      "outputs": [
        {
          "output_type": "execute_result",
          "data": {
            "text/html": [
              "<div>\n",
              "<style scoped>\n",
              "    .dataframe tbody tr th:only-of-type {\n",
              "        vertical-align: middle;\n",
              "    }\n",
              "\n",
              "    .dataframe tbody tr th {\n",
              "        vertical-align: top;\n",
              "    }\n",
              "\n",
              "    .dataframe thead th {\n",
              "        text-align: right;\n",
              "    }\n",
              "</style>\n",
              "<table border=\"1\" class=\"dataframe\">\n",
              "  <thead>\n",
              "    <tr style=\"text-align: right;\">\n",
              "      <th></th>\n",
              "      <th>id</th>\n",
              "      <th>label</th>\n",
              "      <th>updated</th>\n",
              "    </tr>\n",
              "  </thead>\n",
              "  <tbody>\n",
              "    <tr>\n",
              "      <th>0</th>\n",
              "      <td>algerian_coffee</td>\n",
              "      <td>beverage</td>\n",
              "      <td>beverage_algerian_coffee</td>\n",
              "    </tr>\n",
              "    <tr>\n",
              "      <th>1</th>\n",
              "      <td>almond_milk</td>\n",
              "      <td>beverage</td>\n",
              "      <td>beverage_almond_milk</td>\n",
              "    </tr>\n",
              "    <tr>\n",
              "      <th>2</th>\n",
              "      <td>almond_latte</td>\n",
              "      <td>beverage</td>\n",
              "      <td>beverage_almond_latte</td>\n",
              "    </tr>\n",
              "    <tr>\n",
              "      <th>3</th>\n",
              "      <td>arabic_coffee</td>\n",
              "      <td>beverage</td>\n",
              "      <td>beverage_arabic_coffee</td>\n",
              "    </tr>\n",
              "    <tr>\n",
              "      <th>4</th>\n",
              "      <td>arrack</td>\n",
              "      <td>beverage</td>\n",
              "      <td>beverage_arrack</td>\n",
              "    </tr>\n",
              "  </tbody>\n",
              "</table>\n",
              "</div>"
            ],
            "text/plain": [
              "                id     label                   updated\n",
              "0  algerian_coffee  beverage  beverage_algerian_coffee\n",
              "1      almond_milk  beverage      beverage_almond_milk\n",
              "2     almond_latte  beverage     beverage_almond_latte\n",
              "3    arabic_coffee  beverage    beverage_arabic_coffee\n",
              "4           arrack  beverage           beverage_arrack"
            ]
          },
          "metadata": {
            "tags": []
          },
          "execution_count": 64
        }
      ]
    },
    {
      "cell_type": "code",
      "metadata": {
        "id": "VFDfl1NV77xS",
        "colab_type": "code",
        "colab": {
          "base_uri": "https://localhost:8080/",
          "height": 289
        },
        "outputId": "a19d1d79-be5b-4208-f7be-140d41bc6bb3"
      },
      "source": [
        "df_dish_keywords = eval_new_df[['dish','dish_name','entities']].explode('entities').reset_index(drop=True)\n",
        "df_dish_keywords.info()\n",
        "df_dish_keywords.dropna(inplace=True)\n",
        "df_dish_keywords.info()"
      ],
      "execution_count": 69,
      "outputs": [
        {
          "output_type": "stream",
          "text": [
            "<class 'pandas.core.frame.DataFrame'>\n",
            "RangeIndex: 173122 entries, 0 to 173121\n",
            "Data columns (total 3 columns):\n",
            "dish         173122 non-null object\n",
            "dish_name    173122 non-null object\n",
            "entities     166984 non-null object\n",
            "dtypes: object(3)\n",
            "memory usage: 4.0+ MB\n",
            "<class 'pandas.core.frame.DataFrame'>\n",
            "Int64Index: 166984 entries, 0 to 173121\n",
            "Data columns (total 3 columns):\n",
            "dish         166984 non-null object\n",
            "dish_name    166984 non-null object\n",
            "entities     166984 non-null object\n",
            "dtypes: object(3)\n",
            "memory usage: 5.1+ MB\n"
          ],
          "name": "stdout"
        }
      ]
    },
    {
      "cell_type": "code",
      "metadata": {
        "id": "myFj_mKr8YAq",
        "colab_type": "code",
        "colab": {
          "base_uri": "https://localhost:8080/",
          "height": 204
        },
        "outputId": "8882d986-4fc5-4c69-9afc-a54ce66e7f68"
      },
      "source": [
        "df_dish_keywords=df_dish_keywords.merge(df_keyword_ents,how='left',left_on='entities',right_on='id').drop(columns=['id'])\n",
        "df_dish_keywords.columns=['dish','dish_name','keyword_name','keyword_class','keyword_id']\n",
        "df_dish_keywords.head()"
      ],
      "execution_count": 70,
      "outputs": [
        {
          "output_type": "execute_result",
          "data": {
            "text/html": [
              "<div>\n",
              "<style scoped>\n",
              "    .dataframe tbody tr th:only-of-type {\n",
              "        vertical-align: middle;\n",
              "    }\n",
              "\n",
              "    .dataframe tbody tr th {\n",
              "        vertical-align: top;\n",
              "    }\n",
              "\n",
              "    .dataframe thead th {\n",
              "        text-align: right;\n",
              "    }\n",
              "</style>\n",
              "<table border=\"1\" class=\"dataframe\">\n",
              "  <thead>\n",
              "    <tr style=\"text-align: right;\">\n",
              "      <th></th>\n",
              "      <th>dish</th>\n",
              "      <th>dish_name</th>\n",
              "      <th>keyword_name</th>\n",
              "      <th>keyword_class</th>\n",
              "      <th>keyword_id</th>\n",
              "    </tr>\n",
              "  </thead>\n",
              "  <tbody>\n",
              "    <tr>\n",
              "      <th>0</th>\n",
              "      <td>5e19e2e6ce56f60020488512</td>\n",
              "      <td>Vegan Sausage Roll</td>\n",
              "      <td>meat</td>\n",
              "      <td>dish</td>\n",
              "      <td>dish_meat</td>\n",
              "    </tr>\n",
              "    <tr>\n",
              "      <th>1</th>\n",
              "      <td>5e19e2e6ce56f60020488512</td>\n",
              "      <td>Vegan Sausage Roll</td>\n",
              "      <td>sausage</td>\n",
              "      <td>dish</td>\n",
              "      <td>dish_sausage</td>\n",
              "    </tr>\n",
              "    <tr>\n",
              "      <th>2</th>\n",
              "      <td>5e19e2e6ce56f60020488512</td>\n",
              "      <td>Vegan Sausage Roll</td>\n",
              "      <td>sausage_roll</td>\n",
              "      <td>dish</td>\n",
              "      <td>dish_sausage_roll</td>\n",
              "    </tr>\n",
              "    <tr>\n",
              "      <th>3</th>\n",
              "      <td>5e19e2e6ce56f60020488512</td>\n",
              "      <td>Vegan Sausage Roll</td>\n",
              "      <td>vegan</td>\n",
              "      <td>lifestyle</td>\n",
              "      <td>lifestyle_vegan</td>\n",
              "    </tr>\n",
              "    <tr>\n",
              "      <th>4</th>\n",
              "      <td>5e1db289f5e9b50020778761</td>\n",
              "      <td>Classic Beancurd And Grass Jelly</td>\n",
              "      <td>jelly</td>\n",
              "      <td>dish</td>\n",
              "      <td>dish_jelly</td>\n",
              "    </tr>\n",
              "  </tbody>\n",
              "</table>\n",
              "</div>"
            ],
            "text/plain": [
              "                       dish  ...         keyword_id\n",
              "0  5e19e2e6ce56f60020488512  ...          dish_meat\n",
              "1  5e19e2e6ce56f60020488512  ...       dish_sausage\n",
              "2  5e19e2e6ce56f60020488512  ...  dish_sausage_roll\n",
              "3  5e19e2e6ce56f60020488512  ...    lifestyle_vegan\n",
              "4  5e1db289f5e9b50020778761  ...         dish_jelly\n",
              "\n",
              "[5 rows x 5 columns]"
            ]
          },
          "metadata": {
            "tags": []
          },
          "execution_count": 70
        }
      ]
    },
    {
      "cell_type": "code",
      "metadata": {
        "id": "oZ3XG6ld9NYG",
        "colab_type": "code",
        "colab": {
          "base_uri": "https://localhost:8080/",
          "height": 357
        },
        "outputId": "57e4d0ee-3be6-4c05-abc0-edaf1ad7b699"
      },
      "source": [
        "df_dish_keywords.info()\n",
        "df_dish_keywords.drop_duplicates(inplace=True)\n",
        "\n",
        "df_dish_keywords.info()\n"
      ],
      "execution_count": 72,
      "outputs": [
        {
          "output_type": "stream",
          "text": [
            "<class 'pandas.core.frame.DataFrame'>\n",
            "Int64Index: 168248 entries, 0 to 168247\n",
            "Data columns (total 5 columns):\n",
            "dish             168248 non-null object\n",
            "dish_name        168248 non-null object\n",
            "keyword_name     168248 non-null object\n",
            "keyword_class    168248 non-null object\n",
            "keyword_id       168248 non-null object\n",
            "dtypes: object(5)\n",
            "memory usage: 7.7+ MB\n",
            "<class 'pandas.core.frame.DataFrame'>\n",
            "Int64Index: 120097 entries, 0 to 168242\n",
            "Data columns (total 5 columns):\n",
            "dish             120097 non-null object\n",
            "dish_name        120097 non-null object\n",
            "keyword_name     120097 non-null object\n",
            "keyword_class    120097 non-null object\n",
            "keyword_id       120097 non-null object\n",
            "dtypes: object(5)\n",
            "memory usage: 5.5+ MB\n"
          ],
          "name": "stdout"
        }
      ]
    },
    {
      "cell_type": "code",
      "metadata": {
        "id": "oTO0cqa69Roq",
        "colab_type": "code",
        "colab": {
          "base_uri": "https://localhost:8080/",
          "height": 204
        },
        "outputId": "8e45afad-fb5a-4eea-f704-68e00c157ae5"
      },
      "source": [
        "df_dish_keywords.head()"
      ],
      "execution_count": 73,
      "outputs": [
        {
          "output_type": "execute_result",
          "data": {
            "text/html": [
              "<div>\n",
              "<style scoped>\n",
              "    .dataframe tbody tr th:only-of-type {\n",
              "        vertical-align: middle;\n",
              "    }\n",
              "\n",
              "    .dataframe tbody tr th {\n",
              "        vertical-align: top;\n",
              "    }\n",
              "\n",
              "    .dataframe thead th {\n",
              "        text-align: right;\n",
              "    }\n",
              "</style>\n",
              "<table border=\"1\" class=\"dataframe\">\n",
              "  <thead>\n",
              "    <tr style=\"text-align: right;\">\n",
              "      <th></th>\n",
              "      <th>dish</th>\n",
              "      <th>dish_name</th>\n",
              "      <th>keyword_name</th>\n",
              "      <th>keyword_class</th>\n",
              "      <th>keyword_id</th>\n",
              "    </tr>\n",
              "  </thead>\n",
              "  <tbody>\n",
              "    <tr>\n",
              "      <th>0</th>\n",
              "      <td>5e19e2e6ce56f60020488512</td>\n",
              "      <td>Vegan Sausage Roll</td>\n",
              "      <td>meat</td>\n",
              "      <td>dish</td>\n",
              "      <td>dish_meat</td>\n",
              "    </tr>\n",
              "    <tr>\n",
              "      <th>1</th>\n",
              "      <td>5e19e2e6ce56f60020488512</td>\n",
              "      <td>Vegan Sausage Roll</td>\n",
              "      <td>sausage</td>\n",
              "      <td>dish</td>\n",
              "      <td>dish_sausage</td>\n",
              "    </tr>\n",
              "    <tr>\n",
              "      <th>2</th>\n",
              "      <td>5e19e2e6ce56f60020488512</td>\n",
              "      <td>Vegan Sausage Roll</td>\n",
              "      <td>sausage_roll</td>\n",
              "      <td>dish</td>\n",
              "      <td>dish_sausage_roll</td>\n",
              "    </tr>\n",
              "    <tr>\n",
              "      <th>3</th>\n",
              "      <td>5e19e2e6ce56f60020488512</td>\n",
              "      <td>Vegan Sausage Roll</td>\n",
              "      <td>vegan</td>\n",
              "      <td>lifestyle</td>\n",
              "      <td>lifestyle_vegan</td>\n",
              "    </tr>\n",
              "    <tr>\n",
              "      <th>4</th>\n",
              "      <td>5e1db289f5e9b50020778761</td>\n",
              "      <td>Classic Beancurd And Grass Jelly</td>\n",
              "      <td>jelly</td>\n",
              "      <td>dish</td>\n",
              "      <td>dish_jelly</td>\n",
              "    </tr>\n",
              "  </tbody>\n",
              "</table>\n",
              "</div>"
            ],
            "text/plain": [
              "                       dish  ...         keyword_id\n",
              "0  5e19e2e6ce56f60020488512  ...          dish_meat\n",
              "1  5e19e2e6ce56f60020488512  ...       dish_sausage\n",
              "2  5e19e2e6ce56f60020488512  ...  dish_sausage_roll\n",
              "3  5e19e2e6ce56f60020488512  ...    lifestyle_vegan\n",
              "4  5e1db289f5e9b50020778761  ...         dish_jelly\n",
              "\n",
              "[5 rows x 5 columns]"
            ]
          },
          "metadata": {
            "tags": []
          },
          "execution_count": 73
        }
      ]
    },
    {
      "cell_type": "code",
      "metadata": {
        "id": "B9xCMER_9kZd",
        "colab_type": "code",
        "colab": {
          "base_uri": "https://localhost:8080/",
          "height": 187
        },
        "outputId": "63ca11cb-fc3a-4b20-9c77-5de63d07e2ef"
      },
      "source": [
        "df_GPE_keywords = df_dish_keywords.query('keyword_class in [\"GPE_city\",\"GPE_region\",\"GPE_country\"]')\n",
        "df_GPE_keywords.info()\n",
        "\n",
        "df_GPE_keywords.to_csv('gpe_keywords.csv',index=False)"
      ],
      "execution_count": 74,
      "outputs": [
        {
          "output_type": "stream",
          "text": [
            "<class 'pandas.core.frame.DataFrame'>\n",
            "Int64Index: 2975 entries, 183 to 168123\n",
            "Data columns (total 5 columns):\n",
            "dish             2975 non-null object\n",
            "dish_name        2975 non-null object\n",
            "keyword_name     2975 non-null object\n",
            "keyword_class    2975 non-null object\n",
            "keyword_id       2975 non-null object\n",
            "dtypes: object(5)\n",
            "memory usage: 139.5+ KB\n"
          ],
          "name": "stdout"
        }
      ]
    },
    {
      "cell_type": "code",
      "metadata": {
        "id": "r82wlbwj90ke",
        "colab_type": "code",
        "colab": {}
      },
      "source": [
        "df_dish_keywords.query('keyword_class not in [\"GPE_city\",\"GPE_region\",\"GPE_country\"]').to_csv('dish_keywords.csv',index=False)"
      ],
      "execution_count": 0,
      "outputs": []
    },
    {
      "cell_type": "code",
      "metadata": {
        "id": "uSiRDXPg95KU",
        "colab_type": "code",
        "colab": {}
      },
      "source": [
        "eval_new_df.to_csv('eval_new_graph_input.csv',index=False)"
      ],
      "execution_count": 0,
      "outputs": []
    },
    {
      "cell_type": "code",
      "metadata": {
        "id": "-Ewn26pd-I4u",
        "colab_type": "code",
        "colab": {
          "base_uri": "https://localhost:8080/",
          "height": 221
        },
        "outputId": "e20716d4-b908-41c6-fd37-653e2ad876be"
      },
      "source": [
        "\n",
        "df_dish_keywords.query('keyword_class==\"GPE_city\"')['keyword_name'].value_counts()"
      ],
      "execution_count": 77,
      "outputs": [
        {
          "output_type": "execute_result",
          "data": {
            "text/plain": [
              "tomar         32\n",
              "cape_town     28\n",
              "barcelona     25\n",
              "portland      24\n",
              "bogotá        21\n",
              "              ..\n",
              "tira           1\n",
              "nuremberg      1\n",
              "lomé           1\n",
              "sacaba         1\n",
              "charleston     1\n",
              "Name: keyword_name, Length: 332, dtype: int64"
            ]
          },
          "metadata": {
            "tags": []
          },
          "execution_count": 77
        }
      ]
    },
    {
      "cell_type": "code",
      "metadata": {
        "id": "BtaV-8_o-Qf2",
        "colab_type": "code",
        "colab": {
          "base_uri": "https://localhost:8080/",
          "height": 221
        },
        "outputId": "dfb7b967-1221-4946-90a5-07edf287d621"
      },
      "source": [
        "df_dish_keywords.query('keyword_class==\"GPE_country\"')['keyword_name'].value_counts()\n"
      ],
      "execution_count": 78,
      "outputs": [
        {
          "output_type": "execute_result",
          "data": {
            "text/plain": [
              "singapore      184\n",
              "méxico          45\n",
              "india           40\n",
              "japan           37\n",
              "chile           36\n",
              "              ... \n",
              "netherlands      1\n",
              "slovakia         1\n",
              "mozambique       1\n",
              "romania          1\n",
              "cyprus           1\n",
              "Name: keyword_name, Length: 71, dtype: int64"
            ]
          },
          "metadata": {
            "tags": []
          },
          "execution_count": 78
        }
      ]
    },
    {
      "cell_type": "code",
      "metadata": {
        "id": "fpqYIYNl-XLt",
        "colab_type": "code",
        "colab": {
          "base_uri": "https://localhost:8080/",
          "height": 221
        },
        "outputId": "16b0ea85-8566-4d32-c387-1d351320ad02"
      },
      "source": [
        "df_dish_keywords.query('keyword_class==\"GPE_region\"')['keyword_name'].value_counts()"
      ],
      "execution_count": 79,
      "outputs": [
        {
          "output_type": "execute_result",
          "data": {
            "text/plain": [
              "london            62\n",
              "van               50\n",
              "new_york          41\n",
              "vas               41\n",
              "bali              38\n",
              "                  ..\n",
              "valga              1\n",
              "azores             1\n",
              "yucatán            1\n",
              "mendoza            1\n",
              "aguascalientes     1\n",
              "Name: keyword_name, Length: 221, dtype: int64"
            ]
          },
          "metadata": {
            "tags": []
          },
          "execution_count": 79
        }
      ]
    },
    {
      "cell_type": "code",
      "metadata": {
        "id": "F-vgnT7W-a_Q",
        "colab_type": "code",
        "colab": {}
      },
      "source": [
        "pd.DataFrame(df_pattern.query('label == \"U_GPE_country\"')['id'].drop_duplicates().reset_index(drop=True)).to_csv('country_list.csv',index=False)\n",
        "pd.DataFrame(df_pattern.query('label == \"U_GPE_region\"')['id'].drop_duplicates().reset_index(drop=True)).to_csv('admin_list.csv',index=False)\n",
        "pd.DataFrame(df_pattern.query('label == \"U_GPE_city\"')['id'].drop_duplicates().reset_index(drop=True)).to_csv('city_list.csv',index=False)"
      ],
      "execution_count": 0,
      "outputs": []
    },
    {
      "cell_type": "code",
      "metadata": {
        "id": "58i9LN3o-1Hn",
        "colab_type": "code",
        "colab": {
          "base_uri": "https://localhost:8080/",
          "height": 153
        },
        "outputId": "ab8a1228-24f9-40e9-d741-e7ea909588d8"
      },
      "source": [
        "eval_new_df.columns"
      ],
      "execution_count": 82,
      "outputs": [
        {
          "output_type": "execute_result",
          "data": {
            "text/plain": [
              "Index(['review', 'likes', 'user', 'text', 'type', 'restaurant', 'dish',\n",
              "       'taste', 'presentation', 'nutrition', 'originality', 'value', 'overall',\n",
              "       'createdAt', 'user_name', 'user_likedArticlesCount',\n",
              "       'user_followersCount', 'user_likedReviewsCount',\n",
              "       'user_challengeReviews', 'user_language', 'user_reviewKarma_score',\n",
              "       'dish_name', 'restaurant_name', 'restaurant_country',\n",
              "       'restaurant_website', 'restaurant_locality', 'entities'],\n",
              "      dtype='object')"
            ]
          },
          "metadata": {
            "tags": []
          },
          "execution_count": 82
        }
      ]
    },
    {
      "cell_type": "code",
      "metadata": {
        "id": "HvX6gHYW-wPW",
        "colab_type": "code",
        "colab": {}
      },
      "source": [
        "eval_new_df[['user','user_name','user_likedArticlesCount',\\\n",
        "             'user_followersCount', 'user_likedReviewsCount',\\\n",
        "             'user_challengeReviews', 'user_language', \\\n",
        "             'user_reviewKarma_score']].drop_duplicates().reset_index(drop=True).to_csv('user_detail.csv',index=False)\n",
        "eval_new_df[['dish','dish_name']].drop_duplicates().reset_index(drop=True).to_csv('dish_detail.csv',index=False)\n",
        "eval_new_df[['restaurant','restaurant_name', \\\n",
        "             'restaurant_country','restaurant_website',\\\n",
        "             'restaurant_locality']].drop_duplicates().reset_index(drop=True).to_csv('rest_detail.csv',index=False)\n",
        "eval_new_df[['review','originality', 'value', \\\n",
        "             'nutrition','presentation', \\\n",
        "             'taste', 'overall','createdAt','type']].drop_duplicates().reset_index(drop=True).to_csv('rev_detail.csv',index=False)\n",
        "df_keyword_ents.to_csv('keyword_detail.csv',index=False)"
      ],
      "execution_count": 0,
      "outputs": []
    },
    {
      "cell_type": "code",
      "metadata": {
        "id": "KlWiCFQ5AcDN",
        "colab_type": "code",
        "colab": {}
      },
      "source": [
        "eval_new_df[['dish','restaurant']].drop_duplicates().reset_index(drop=True).to_csv('dish_restaurant.csv',index=False)\n",
        "eval_new_df[['user','review']].drop_duplicates().reset_index(drop=True).to_csv('user_review.csv',index=False)\n",
        "eval_new_df[['dish','review']].drop_duplicates().reset_index(drop=True).to_csv('dish_review.csv',index=False)\n",
        "df_likes.drop_duplicates().reset_index(drop=True).to_csv('rev_user_likes.csv',index=False)"
      ],
      "execution_count": 0,
      "outputs": []
    },
    {
      "cell_type": "code",
      "metadata": {
        "id": "_Sis8Tr5Aweb",
        "colab_type": "code",
        "colab": {
          "base_uri": "https://localhost:8080/",
          "height": 204
        },
        "outputId": "09793476-c832-4e14-fad8-04f810e2e8fb"
      },
      "source": [
        "df_likes.head()"
      ],
      "execution_count": 84,
      "outputs": [
        {
          "output_type": "execute_result",
          "data": {
            "text/html": [
              "<div>\n",
              "<style scoped>\n",
              "    .dataframe tbody tr th:only-of-type {\n",
              "        vertical-align: middle;\n",
              "    }\n",
              "\n",
              "    .dataframe tbody tr th {\n",
              "        vertical-align: top;\n",
              "    }\n",
              "\n",
              "    .dataframe thead th {\n",
              "        text-align: right;\n",
              "    }\n",
              "</style>\n",
              "<table border=\"1\" class=\"dataframe\">\n",
              "  <thead>\n",
              "    <tr style=\"text-align: right;\">\n",
              "      <th></th>\n",
              "      <th>review</th>\n",
              "      <th>user</th>\n",
              "    </tr>\n",
              "  </thead>\n",
              "  <tbody>\n",
              "    <tr>\n",
              "      <th>0</th>\n",
              "      <td>5e1db388f5e9b50020778794</td>\n",
              "      <td>5c3530801b78330004aa6dc6</td>\n",
              "    </tr>\n",
              "    <tr>\n",
              "      <th>1</th>\n",
              "      <td>5e1db388f5e9b50020778794</td>\n",
              "      <td>5df5528a261f830020736bcb</td>\n",
              "    </tr>\n",
              "    <tr>\n",
              "      <th>2</th>\n",
              "      <td>5e1db388f5e9b50020778794</td>\n",
              "      <td>5e137f3ef40ce300204041aa</td>\n",
              "    </tr>\n",
              "    <tr>\n",
              "      <th>3</th>\n",
              "      <td>5e1db339f5e9b50020778786</td>\n",
              "      <td>5c748a8934dda90004b017b4</td>\n",
              "    </tr>\n",
              "    <tr>\n",
              "      <th>4</th>\n",
              "      <td>5e1db2dbf2316f0020a86169</td>\n",
              "      <td>5c3530801b78330004aa6dc6</td>\n",
              "    </tr>\n",
              "  </tbody>\n",
              "</table>\n",
              "</div>"
            ],
            "text/plain": [
              "                     review                       user\n",
              "0  5e1db388f5e9b50020778794   5c3530801b78330004aa6dc6\n",
              "1  5e1db388f5e9b50020778794   5df5528a261f830020736bcb\n",
              "2  5e1db388f5e9b50020778794   5e137f3ef40ce300204041aa\n",
              "3  5e1db339f5e9b50020778786   5c748a8934dda90004b017b4\n",
              "4  5e1db2dbf2316f0020a86169   5c3530801b78330004aa6dc6"
            ]
          },
          "metadata": {
            "tags": []
          },
          "execution_count": 84
        }
      ]
    },
    {
      "cell_type": "code",
      "metadata": {
        "id": "P-jRkIMDAyob",
        "colab_type": "code",
        "colab": {}
      },
      "source": [
        ""
      ],
      "execution_count": 0,
      "outputs": []
    }
  ]
}