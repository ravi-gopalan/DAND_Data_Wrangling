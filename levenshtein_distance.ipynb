{
  "nbformat": 4,
  "nbformat_minor": 0,
  "metadata": {
    "colab": {
      "name": "levenshtein_distance.ipynb",
      "provenance": [],
      "authorship_tag": "ABX9TyOQ9FD+8XKtPdtuuTBmwSlC",
      "include_colab_link": true
    },
    "kernelspec": {
      "name": "python3",
      "display_name": "Python 3"
    }
  },
  "cells": [
    {
      "cell_type": "markdown",
      "metadata": {
        "id": "view-in-github",
        "colab_type": "text"
      },
      "source": [
        "<a href=\"https://colab.research.google.com/github/ravi-gopalan/DAND_Data_Wrangling/blob/master/levenshtein_distance.ipynb\" target=\"_parent\"><img src=\"https://colab.research.google.com/assets/colab-badge.svg\" alt=\"Open In Colab\"/></a>"
      ]
    },
    {
      "cell_type": "code",
      "metadata": {
        "id": "wak1JCKYstNY",
        "colab_type": "code",
        "colab": {
          "base_uri": "https://localhost:8080/",
          "height": 86
        },
        "outputId": "d6d7361b-0cbe-4a59-d486-5c20d48ce9c8"
      },
      "source": [
        "!pip install textdistance"
      ],
      "execution_count": 3,
      "outputs": [
        {
          "output_type": "stream",
          "text": [
            "Collecting textdistance\n",
            "  Downloading https://files.pythonhosted.org/packages/3f/18/31397b687f50ffae65469175f07faa68f288e27fcd8716276004c42e5637/textdistance-4.1.5-py3-none-any.whl\n",
            "Installing collected packages: textdistance\n",
            "Successfully installed textdistance-4.1.5\n"
          ],
          "name": "stdout"
        }
      ]
    },
    {
      "cell_type": "code",
      "metadata": {
        "id": "TPG83QgrtEuA",
        "colab_type": "code",
        "colab": {
          "base_uri": "https://localhost:8080/",
          "height": 698
        },
        "outputId": "8f86f19c-19f7-4227-d805-f4695e172285"
      },
      "source": [
        "!pip install \"textdistance[extras]\""
      ],
      "execution_count": 4,
      "outputs": [
        {
          "output_type": "stream",
          "text": [
            "Requirement already satisfied: textdistance[extras] in /usr/local/lib/python3.6/dist-packages (4.1.5)\n",
            "Collecting pyxDamerauLevenshtein; extra == \"extras\"\n",
            "\u001b[?25l  Downloading https://files.pythonhosted.org/packages/b5/54/2d398545cae80d2fc8444345542ad5f3ffab0694c8efb8ed2fbe92017305/pyxDamerauLevenshtein-1.5.3.tar.gz (58kB)\n",
            "\u001b[K     |████████████████████████████████| 61kB 4.2MB/s \n",
            "\u001b[?25h  Installing build dependencies ... \u001b[?25l\u001b[?25hdone\n",
            "  Getting requirements to build wheel ... \u001b[?25l\u001b[?25hdone\n",
            "    Preparing wheel metadata ... \u001b[?25l\u001b[?25hdone\n",
            "Collecting jellyfish; extra == \"extras\"\n",
            "\u001b[?25l  Downloading https://files.pythonhosted.org/packages/3f/80/bcacc7affb47be7279d7d35225e1a932416ed051b315a7f9df20acf04cbe/jellyfish-0.7.2.tar.gz (133kB)\n",
            "\u001b[K     |████████████████████████████████| 143kB 21.3MB/s \n",
            "\u001b[?25hRequirement already satisfied: numpy; extra == \"extras\" in /usr/local/lib/python3.6/dist-packages (from textdistance[extras]) (1.17.5)\n",
            "Collecting python-Levenshtein; extra == \"extras\"\n",
            "\u001b[?25l  Downloading https://files.pythonhosted.org/packages/42/a9/d1785c85ebf9b7dfacd08938dd028209c34a0ea3b1bcdb895208bd40a67d/python-Levenshtein-0.12.0.tar.gz (48kB)\n",
            "\u001b[K     |████████████████████████████████| 51kB 5.8MB/s \n",
            "\u001b[?25hCollecting abydos; extra == \"extras\"\n",
            "\u001b[?25l  Downloading https://files.pythonhosted.org/packages/7f/a5/ca258a571997be1c9483d6075bbc1b9487ae80f3bb3bf1f60db0b29f5aa6/abydos-0.5.0-py2.py3-none-any.whl (886kB)\n",
            "\u001b[K     |████████████████████████████████| 890kB 40.2MB/s \n",
            "\u001b[?25hRequirement already satisfied: setuptools in /usr/local/lib/python3.6/dist-packages (from python-Levenshtein; extra == \"extras\"->textdistance[extras]) (42.0.2)\n",
            "Collecting deprecation\n",
            "  Downloading https://files.pythonhosted.org/packages/b9/2a/d5084a8781398cea745c01237b95d9762c382697c63760a95cc6a814ad3a/deprecation-2.0.7-py2.py3-none-any.whl\n",
            "Requirement already satisfied: packaging in /usr/local/lib/python3.6/dist-packages (from deprecation->abydos; extra == \"extras\"->textdistance[extras]) (20.0)\n",
            "Requirement already satisfied: pyparsing>=2.0.2 in /usr/local/lib/python3.6/dist-packages (from packaging->deprecation->abydos; extra == \"extras\"->textdistance[extras]) (2.4.6)\n",
            "Requirement already satisfied: six in /usr/local/lib/python3.6/dist-packages (from packaging->deprecation->abydos; extra == \"extras\"->textdistance[extras]) (1.12.0)\n",
            "Building wheels for collected packages: pyxDamerauLevenshtein\n",
            "  Building wheel for pyxDamerauLevenshtein (PEP 517) ... \u001b[?25l\u001b[?25hdone\n",
            "  Created wheel for pyxDamerauLevenshtein: filename=pyxDamerauLevenshtein-1.5.3-cp36-cp36m-linux_x86_64.whl size=86831 sha256=f42799355d23b6cb8b89c573591592dfc7f37757af91f13f37f899250d3b9746\n",
            "  Stored in directory: /root/.cache/pip/wheels/37/66/2c/863e33407d169ea809ce2908e86556df205dcf5edc4bdd10a5\n",
            "Successfully built pyxDamerauLevenshtein\n",
            "Building wheels for collected packages: jellyfish, python-Levenshtein\n",
            "  Building wheel for jellyfish (setup.py) ... \u001b[?25l\u001b[?25hdone\n",
            "  Created wheel for jellyfish: filename=jellyfish-0.7.2-cp36-cp36m-linux_x86_64.whl size=73001 sha256=6a9489b3c8e0e533545f897344b18e673ea87a34951d99eccfed74f263256b08\n",
            "  Stored in directory: /root/.cache/pip/wheels/e8/fe/99/d8fa8f2ef7b82a625b0b77a84d319b0b50693659823c4effb4\n",
            "  Building wheel for python-Levenshtein (setup.py) ... \u001b[?25l\u001b[?25hdone\n",
            "  Created wheel for python-Levenshtein: filename=python_Levenshtein-0.12.0-cp36-cp36m-linux_x86_64.whl size=144671 sha256=cc6c3a7c90fb0b1b7b9413419f24fb0f8637ee60453e5cf67e9f2bace79e4423\n",
            "  Stored in directory: /root/.cache/pip/wheels/de/c2/93/660fd5f7559049268ad2dc6d81c4e39e9e36518766eaf7e342\n",
            "Successfully built jellyfish python-Levenshtein\n",
            "Installing collected packages: pyxDamerauLevenshtein, jellyfish, python-Levenshtein, deprecation, abydos\n",
            "Successfully installed abydos-0.5.0 deprecation-2.0.7 jellyfish-0.7.2 python-Levenshtein-0.12.0 pyxDamerauLevenshtein-1.5.3\n"
          ],
          "name": "stdout"
        }
      ]
    },
    {
      "cell_type": "code",
      "metadata": {
        "id": "nYcO0oxitVjv",
        "colab_type": "code",
        "colab": {}
      },
      "source": [
        "import textdistance as td"
      ],
      "execution_count": 0,
      "outputs": []
    },
    {
      "cell_type": "code",
      "metadata": {
        "id": "MtG35Sbutghm",
        "colab_type": "code",
        "colab": {
          "base_uri": "https://localhost:8080/",
          "height": 34
        },
        "outputId": "9fcc6092-7f5b-4236-fa12-a9d8c1aa5389"
      },
      "source": [
        "td.hamming('test','text')"
      ],
      "execution_count": 6,
      "outputs": [
        {
          "output_type": "execute_result",
          "data": {
            "text/plain": [
              "1"
            ]
          },
          "metadata": {
            "tags": []
          },
          "execution_count": 6
        }
      ]
    },
    {
      "cell_type": "code",
      "metadata": {
        "id": "E3EJBhB5tmrt",
        "colab_type": "code",
        "colab": {
          "base_uri": "https://localhost:8080/",
          "height": 34
        },
        "outputId": "3b94ecd2-91f2-41bd-c350-3ae6d6786b56"
      },
      "source": [
        "td.hamming.normalized_distance('test', 'text')"
      ],
      "execution_count": 7,
      "outputs": [
        {
          "output_type": "execute_result",
          "data": {
            "text/plain": [
              "0.25"
            ]
          },
          "metadata": {
            "tags": []
          },
          "execution_count": 7
        }
      ]
    },
    {
      "cell_type": "code",
      "metadata": {
        "id": "cDNwikDEtxyl",
        "colab_type": "code",
        "colab": {}
      },
      "source": [
        "f = open('entities_to_be_checked.txt', 'r+')\n",
        "lines = [line for line in f.readlines()]\n",
        "f.close()"
      ],
      "execution_count": 0,
      "outputs": []
    },
    {
      "cell_type": "code",
      "metadata": {
        "id": "1Cd1YFKqvI2Y",
        "colab_type": "code",
        "colab": {
          "base_uri": "https://localhost:8080/",
          "height": 54
        },
        "outputId": "9e89cc0b-3f14-48df-a06f-2f9b1b78f007"
      },
      "source": [
        "my_file_data\n"
      ],
      "execution_count": 9,
      "outputs": [
        {
          "output_type": "execute_result",
          "data": {
            "text/plain": [
              "'[\"+1\", \"-cent\", \"/savory\", \"0\", \"10 dollars\", \"10,000\", \"10k\", \"10pm\", \"11:30\", \"11th\", \"14 dollars\", \"14 euro\", \"14/11\", \"15 dollars\", \"150 yen\", \"15:00\", \"15mins\", \"16month\", \"17th\", \"18\", \"18$\", \"19:30\", \"1:30\", \"1\\\\u20ac.\", \"2/4\", \"21:30\", \"21st\", \"22nd\", \"28hongkongstreet\", \"28th\", \"29th\", \"2:30\", \"2hrs\", \"3/10\", \"350k\", \"4.80 euro\", \"45th\", \"48hours\", \"49 reais\", \"4:30\", \"4hr\", \"5.5 hour\", \"500 rupees\", \"50c\", \"50k\", \"50p\", \"530pm\", \"54 cents\", \"5:00\", \"6:00 pm\", \"6th\", \"70k\", \"7:30 a.m.\", \"7th\", \"9.30\", \"90mins\", \":o\", \"@forgoodnessseyks\", \"a 50c\", \"a fiver\", \"a mile\", \"a tree\", \"a.m.\", \"abbotkinney\", \"abucknellveg\", \"abundantes porciones\", \"abundate\", \"academy\", \"acompa\\\\u00f1ado\", \"acorn\", \"adici\\\\u00f3n\", \"advocado\", \"afagato\", \"afew\", \"afghan\", \"after few\", \"aftn teas\", \"afuri\", \"aggiungila\", \"agradable\", \"agridoce\", \"agridulce\", \"ahi\", \"ahlian\", \"airflown\", \"ajillo\", \"ajonjol\\\\u00ed\", \"al funghi\", \"alain\", \"alameda\", \"aldi\", \"alejamos\", \"alfa sprouts\", \"alfalfa sprouts\", \"alfredo\", \"alhamra\", \"alice rebel\", \"alicha\", \"alitas\", \"alla\", \"allioli\", \"almendra\", \"almeria\", \"aloha\", \"aloha eats\", \"aloha joy\", \"alrd\", \"alucinamos\", \"alv\", \"amabilidad\", \"amamos\", \"amazing\", \"amazing\\\\u201d-territory\", \"amerena\", \"america\", \"amigue\", \"amorino\", \"amoy\", \"amoy food\", \"amtrak\", \"ana\", \"anan\\\\u00e1\", \"ang siew\", \"anko\", \"annecy\", \"annsiang\", \"anthocyanins\", \"antipasto\", \"antoja\", \"antojadisima\", \"antonio\", \"apalagi\", \"aperia mall\", \"appetizers\", \"applesauce\", \"apricots\", \"aptas\", \"aquafaba\", \"aquafaba cream\", \"arabic\", \"arancini\", \"arcadian kitchen\", \"arepas\", \"argentinian\", \"arrabbiata\", \"arracacha\", \"arrowroot\", \"artichokepizza\", \"artificial\", \"artisanbread\", \"arvo\", \"asada\", \"asadas\", \"asbury park\", \"ashwaganda\", \"asi\\\\u00e1ticos\", \"aspargus\", \"astoria\", \"atasdotcom\", \"athena\", \"atienden\", \"atx\", \"au\", \"auburn\", \"aucaucil\", \"auf jeden fall noch mal bestellen und kann es guten gewissens empfehlen.\\\\n\\\\n\", \"auf jeden fall reservieren, da es sehr voll wird.\", \"aunties\", \"aunty\", \"aus dollars\", \"avenue\", \"avenue mrt\", \"avo handroll\", \"avo roll\", \"avocato\", \"ayam\", \"ayurveda\", \"ayurvedic\", \"baahubali\", \"babagonoush\", \"babka\", \"baby bok\", \"baby marrow\", \"baby pie\", \"babycorn\", \"bacoa\", \"bacons\", \"bac\\\\u00f3n\", \"baegoals\", \"baht\", \"bai cai\", \"bai tang gao\", \"baingan bharta\", \"bajaron\", \"baj\\\\u00f3n\", \"bak ku teh\", \"balboa bar\", \"baliveganfestival\", \"ballymaloe\", \"balsamicvinegar\", \"baltic\", \"bamboo\", \"bamboo straw\", \"bamboo straws\", \"bananaey\", \"bancha\", \"banchory\", \"bandra\", \"banff\", \"bangsar\", \"banh\", \"banh xeo\", \"bannana\", \"bannanas\", \"banoffee\", \"banyak\", \"baobab\", \"barato\", \"barbeque\", \"barceloneta\", \"bareburger\", \"baristas neo\", \"basilicato\", \"basilico\", \"basillicato\", \"basils\", \"baskets\", \"bastille day\", \"bastoncitos\", \"bastones\", \"bast\\\\u00f3\", \"batata\", \"batatas\", \"batido\", \"batyre cafe\", \"baxter theatre\", \"bayarea\", \"ba\\\\u00f1adas\", \"bbqs\", \"bca\", \"beacon\", \"beaf\", \"beancurdskin\", \"beansprout\", \"bechamel\", \"bedok\", \"bee free\", \"bee tai\", \"beechdean\", \"beignets\", \"beiruti\", \"belado\", \"bellly\", \"beluga\", \"benandjerrys\", \"benedict\", \"bengal\", \"bentos\", \"berde\", \"berengena\", \"bergamot\", \"bergvliet\", \"berjaya times square\", \"berlina\", \"berl\\\\u00edn\", \"besneta\", \"bessssst\", \"betel\", \"betterthaneggs\", \"beyond brat\", \"beyondbeef\", \"beyondsausage\", \"bfasssst\", \"bfast\", \"bhaji\", \"bhavan\", \"bibibop\", \"biblioteksgatan\", \"bicadillo\", \"bico\", \"bidones\", \"bife\", \"bigger\", \"biggg\", \"biopolis\", \"bircher\", \"biriyani\", \"birningham\", \"bistec\", \"bitss\", \"bizcochos\", \"bizza\", \"bkgd\", \"black\", \"black ball\", \"black caviar\", \"black eyed\", \"black morels\", \"black orchid\", \"black pearls\", \"black pigeon\", \"blackdirt\", \"blackriceveggieburger\", \"blackswansg\", \"blanc\", \"blanca\", \"bland.can\", \"blazepizza\", \"ble\", \"bliss kitchen\", \"blonde\", \"blts\", \"blue barn\", \"blue boy\", \"blue bubbles\\\\u201d,the\", \"blue label\", \"bluefin\", \"bluefood\", \"bluelabelpizza\", \"bmore\", \"bms organic\", \"boba\", \"bocata\", \"bodevici\", \"bodhi classic\", \"bogotano\", \"bojab\\\\u00e4s\", \"bok\", \"bok choi\", \"bolgnese\", \"bolinhas\", \"bolitas\", \"bollitos\", \"bomba\", \"bombay\", \"bombdiggity\", \"bonobo\", \"bonsoy\", \"bon\\\\u00edsima\", \"bon\\\\u00edssim\", \"bookoo\", \"boon lay\", \"borek\", \"borlotti\", \"borough\", \"boscailoa\", \"bosphorus\", \"bostwick\", \"botanical\", \"bouche\", \"boulton brothers\", \"bounti\", \"bourguignon\", \"bowl co.\", \"braised\", \"bran\", \"brassica\", \"bravas\", \"breadsticks\", \"brekkie\", \"bresaola\", \"brewdog\", \"brewing co.\", \"brisket\", \"british\", \"broccolinni\", \"bronxzoo\", \"brookline\", \"brown dog\", \"brown mystery\", \"brown prefection\", \"brown skin\", \"brownrice\", \"browns\", \"brulee\", \"bruschette\", \"brusqueta\", \"brussel\", \"brutales\", \"br\\\\u00e1s\", \"br\\\\u00f3colis\", \"bs\", \"btr\", \"buah keluak\", \"bubble\", \"buchu\", \"buddha\", \"buddha bodai\", \"buddha bowel\", \"buddha delight\", \"buddha rolls\", \"buddha stuffed\", \"buddha temple\", \"buddha this\", \"buddha\\'s\", \"buddha\\\\u2019s\", \"budin\", \"buenisima\", \"buenisimas\", \"buenoooo\", \"buenoss\", \"buen\\\\u00edsima\", \"buen\\\\u00edsimas\", \"buen\\\\u00edsimos\", \"bufet\", \"buffalocauliflowerwings\", \"bufflo\", \"bukcheon\", \"bukit\", \"bukit gombak\", \"bukit indah\", \"bukit merah\", \"bukit panjang\", \"bukit timah\", \"bulevar\", \"bulung boni\", \"bunini\", \"buonissimo\", \"burek\", \"burg\", \"burgatory\", \"burger!!first\", \"burgerking\", \"burgersofabv\", \"burgerwars\", \"burghul\", \"buritto\", \"burlingame\", \"burma\", \"burma burma\", \"burnley\", \"burpple\", \"butiken\", \"butterfinger shake\", \"butteriest\", \"butterscotch\", \"bvb\", \"byo\", \"byron bay\", \"b\\\\u00e9chamel\", \"b\\\\u00f9i vi\\\\u00ean\", \"caa banquet\", \"caerphilly\", \"cafe kaara\", \"cafe moccha\", \"cafedulce\", \"cafeinterior\", \"cafeter\\\\u00eda\", \"cafeter\\\\u00edas\", \"caffiene free\", \"caf\\\\u00e9 bl\\\\u00e5\", \"caf\\\\u00e9 caj\\\\u00fa\", \"caf\\\\u00e9 dulce\", \"caf\\\\u00e9 hawaiano\", \"caf\\\\u00e9 vegano\", \"cai po\", \"caifan\", \"cajunburger\", \"calabacitas\", \"calabrian\", \"calamares\", \"calamares veganos\", \"calamari\", \"calamari rings\", \"calentita\", \"calimari\", \"calor\\\\u00edas\", \"camarones\", \"camberwell\", \"cambian\", \"camden\", \"camps\", \"camu\", \"canastita\", \"canastitas\", \"cancun\", \"candle cafe\", \"canelli\", \"canelones\", \"canelones con\", \"canola\", \"canonshots\", \"canovas\", \"cantfind\", \"can\\\\u00f3nicos\", \"capetown\", \"caprese\", \"capricciosa\", \"caracter\\\\u00edstico\", \"caramel kitchen\", \"caramelizadas\", \"caramelizado\", \"caramels\", \"carbo monster\", \"caribou\", \"carilo\", \"carmel\", \"carnation\", \"carnistas\", \"carnival\", \"carn\\\\u00edvoro\", \"carob\", \"carotenes\", \"cartems\", \"cartons\", \"caseiros\", \"casera\", \"cashus\", \"casserole\", \"castanhas\", \"cat bar\", \"catalunya\", \"catsofabv\", \"catsup\", \"cauliflowers\", \"caviar\", \"cazuelita\", \"ca\\\\u00eda\", \"cbus\", \"cdmx\", \"ceasar\", \"cebola\", \"cebolleta\", \"cebollita\", \"cebollitas\", \"cedelesingapore\", \"cedr\\\\u00f3n\", \"cenamos\", \"cenoura\", \"ceplok\", \"cerr\\\\u00f3\", \"ceylon\", \"cha\", \"chaba\", \"chadbourne greenough\", \"chai\", \"chai creme br\\\\u00fbl\\\\u00e9e\", \"chai po\", \"chaicake\", \"champa cafe\", \"champignon\", \"champignones\", \"champi\\\\u00f1ones\", \"changi village\", \"channa\", \"chanterelle\", \"chanterelles\", \"chantilly\", \"chapatis\", \"chapel hill\", \"char dish\", \"char sui\", \"charcoaly\", \"charge 50c\", \"charquican\", \"chaya\", \"chee\", \"chee cheong\", \"cheedar\", \"cheescake\", \"cheeseburgers\", \"cheesecakefactory\", \"cheeses\", \"cheesesteaks\", \"cheese\\\\u201dcake\", \"cheez\", \"cheeze\", \"cheeze and\", \"cheeze curds\", \"cheezefactory\", \"chelsea\", \"cheong\", \"cherries\", \"chestnut\", \"chestnut anko\", \"chestnuts\", \"chevre\", \"chewyyy\", \"chf\", \"chiado\", \"chicharron\", \"chicharrones\", \"chicharr\\\\u00f3n\", \"chickennuggets\", \"chicory\", \"chicory root\", \"chifa\", \"chijmes\", \"chilean\", \"chiles\", \"chilli+szechuan peppercorns\", \"chillipadi\", \"chimichangas\", \"chimichurry\", \"chinesse\", \"chip\", \"chipolte\", \"chitose\", \"chive kitchen\", \"choclo\", \"choco\", \"chocolat\", \"chok\", \"chokha\", \"chole\", \"cholula\", \"chong pang\", \"choose\", \"chor\", \"chor mee\", \"chori\", \"chotas\", \"choux\", \"chowder\", \"choy\", \"chuchai\", \"chupito\", \"churri\", \"chwee\", \"chx\", \"chyes\", \"ch\\\\u00e8vre\", \"ci yan\", \"cider\", \"cinabon\", \"cincang\", \"cinnabon\", \"cinnacake\", \"cinnaholic\", \"citron\", \"city dish\", \"city hall\", \"cityocity\", \"ciudad\", \"civico\", \"clarke quay\", \"clay pot\", \"clear caf\\\\u00e9\", \"clocktower square\", \"clover sprouts\", \"cmc\", \"cocao nibs\", \"cocktel\", \"coco\", \"coco naranja\", \"cocobella\", \"cocoichibanya\", \"coconutmacaroon\", \"cocos\", \"cocunut sweet\", \"cod\", \"coffeecafe\", \"coffeecartel\", \"coffeehouse\", \"cogumelos\", \"coke\", \"col cacchio\", \"colaboro\", \"cole\", \"collard\", \"colleen\", \"collins st.\", \"colombian\", \"colorido\", \"combinaci\\\\u00f3n\", \"comeria\", \"comida gordivegana\", \"comimos\", \"comimos alitas\", \"compass\", \"completa\", \"compostable\", \"comprarles\", \"compro\", \"compuesta\", \"comri\", \"comune\", \"condado\", \"condimentada\", \"condimentarlo\", \"condiments\", \"confit\", \"consegu\\\\u00ed\", \"consta\", \"consulten\", \"contentas\", \"contest\", \"cooker\", \"cookie\", \"cookie and cream\", \"cookie chunks\", \"cookie monster\", \"cookie pie\", \"cookie \\\\ud83c\\\\udf6a\", \"cookiebutter\", \"cookiedough\", \"cookout\", \"coolamon co\", \"copada\", \"corelife\", \"corgette\", \"corner cafe\", \"cornflake\", \"cornish blue\", \"corns\", \"cornwall\", \"cortemadera\", \"costa\", \"costanera\", \"costco\", \"costo\", \"coulis\", \"courgettes\", \"covent\", \"covent garden\", \"coworking\", \"coyacan\", \"crab\", \"crabbycakes\", \"crabcake\", \"crabcakes\", \"crane caf\\\\u00e9\", \"crawfish\", \"cream.#crf\", \"creamcheese\", \"creamer\", \"creamiest\", \"creamistry\", \"creea\", \"creemy\", \"cremaise\", \"creme br\\\\u00fbl\\\\u00e9e\", \"cremita\", \"cremosa\", \"cremosita\", \"creole\", \"creperie\", \"creyendo\", \"crimini\", \"crispies\", \"crispy.#tcsveg\", \"crocantita\", \"croque\", \"croquettes\", \"crouton\", \"crowne plaza\", \"crudo\", \"cruetlyfree\", \"crumb pie\", \"crumbs\", \"crunchwrap\", \"crux\", \"cruxhy\", \"cr\\\\u00eapes\", \"cuidando\", \"cukes\", \"culturednut\", \"cupua\\\\u00e7u\", \"currants\", \"curried\", \"curryrice\", \"cusc\\\\u00fas\", \"cutlets\", \"cuttlefish\", \"d3\", \"da paolo\", \"dagon\", \"dailycut\", \"daiyacheddar\", \"daiya\\\\u00ae\", \"damascena\", \"danishes\", \"dari\", \"dari mie putih yang\", \"day11\", \"daytona street\", \"decorada\", \"deepavali\", \"defos\", \"degeneres\", \"delcies\", \"deleitarte\", \"deliciosa torta\", \"deliciosa \\\\ud83d\\\\ude46\", \"deliciosisimo\", \"delite\", \"deliveroo\", \"dempsey cookhouse\", \"denairport\", \"dengan\", \"dengan harga\", \"dengan nasi\", \"derriten\", \"desarma\", \"desarmaba\", \"desde\", \"deser\", \"desi\", \"despertarme\", \"desserys\", \"desventaja\", \"detallado\", \"deutsch\", \"dharamsala\", \"diabetic\", \"diavola\", \"dickson\", \"die pie\", \"diego\", \"diferentes\", \"dignity kitchen\", \"dim\", \"diminuto\", \"din\", \"dining dollars\", \"dipear\", \"dipping\", \"disclamer\", \"disney\", \"disneyland\", \"dispuestos\", \"ditaduras\", \"ditchdairy\", \"divinnne\", \"divino\", \"divinos\", \"dixie dharma\", \"dobinmushi\", \"doesnt\", \"dogsofabv\", \"dolce\", \"dole\", \"dominas\", \"dominican\", \"donaires\", \"doner\", \"donmt\", \"donutsofabv\", \"doomie\", \"doordash\", \"doritos\", \"dosha\", \"doshas\", \"dot com\", \"dotonburi\", \"dou bao\", \"doublerainbow\", \"doughasis\", \"doughs\", \"downeast cider\", \"dressing\", \"droooooool\", \"dubrovnik\", \"dudarlo\", \"dulce\", \"dulse\", \"duluth\", \"dulzor\", \"dunkindonuts\", \"dunuts\", \"durazno\", \"durum\", \"d\\\\u00f6ner\", \"d\\\\u00fcrum\", \"earls\", \"earth caf\\\\u00e9\", \"earthburger\", \"earthworks bowl\", \"east village\", \"easter\", \"eastvillage\", \"eau claire\", \"echo park\", \"economicalrice\", \"eden roll\", \"eel\", \"eggfree\", \"egg~\", \"egyptians\", \"el caf\\\\u00e9\", \"el manjar\", \"el oriental\", \"el tapeo\", \"elaboraci\\\\u00f3n\", \"embassy\", \"embryo\", \"emma\", \"empalagan\", \"empanaditas\", \"empress\", \"enaaak gilaa\", \"enamoradisima\", \"enamor\\\\u00e9\", \"encantador\", \"encantar\", \"encantar\\\\u00e1\", \"encontramos\", \"eneldo\", \"enjiy\", \"entre\", \"entre nous\", \"entrees\", \"erc\", \"ervas\", \"escuros\", \"eskrimnya pas\", \"espa\\\\u00f1a\", \"especista\", \"espectaculares\", \"esperarlo\", \"espinafres\", \"estupenda\", \"esye\", \"ethopian\", \"eunos\", \"eurekacompass\", \"euro kitchen\", \"evan\", \"every christmas\", \"every few\", \"every hour\", \"ewr\", \"excelsior\", \"excepci\\\\u00f3n\", \"expo\", \"expresso\", \"exquisito\", \"exquisitos\", \"extra 50c\", \"extra\\\\u00f1aba\", \"extremely few\", \"f*sh\", \"factura\", \"fain\\\\u00e1\", \"fakenews\", \"falafal\", \"fallafel\", \"fanoush\", \"fantatsic\", \"farmacy benedict\", \"farmerandthecoom\", \"farmers\", \"farmtotable\", \"faro\", \"farro\", \"fascinosa\", \"fass\", \"fast restaurant\", \"fattuchi\", \"favvvv\", \"feelgoodfoods\", \"ferdinandos\", \"fern fiddleheads\", \"ferrero roche\", \"ferries\", \"ferry\", \"fiances\", \"fiat\", \"fideos\", \"fifteenth\", \"figgs\", \"fiiiiin prob\\\\u00e9\", \"filets\", \"fillets\", \"final day\", \"find few\", \"finger brewing\", \"finger foods\", \"finger sarnie\", \"finnish\", \"fishballs\", \"fishcake\", \"fishcakes\", \"fitnes\", \"flacos\", \"flavory\", \"flavoursome\", \"flexitarian\", \"flyveg\", \"folhas\", \"folk cafe\", \"following day\", \"foodphotography\", \"foodporn\", \"forbidden black\", \"fortnight\", \"fourths\", \"fraiche\", \"frapp\\\\u00e9\", \"frapuchino\", \"freakshake\", \"freefood\", \"frequentflyer\", \"fresh toast\", \"freshe\", \"fresquisimos\", \"fresquitas\", \"fresquito\", \"fri\", \"fried croquettes\", \"fried dish\", \"fried foods\", \"fried pot\", \"fried roll\", \"frips\", \"frist\", \"fritatta\", \"frittaffle\", \"fritters\", \"from day to day\", \"from earth\", \"front counter\", \"frutas\", \"ftom\", \"fuccuk\", \"full belly\", \"funan\", \"funs\", \"fushimi\", \"fusian\", \"gado\", \"gakangal\", \"galata tower\", \"galeicnbread\", \"galette\", \"galettes\", \"galettesearch\", \"galletita dulce\", \"galletitas\", \"gambas\", \"ganashe\", \"gao\", \"garbanzomediterraneanfresh\", \"garden roll\", \"garlicky\", \"gaspacho\", \"gathered kitchen\", \"gauc\", \"gauteng\", \"gayatri\", \"gazali\", \"geezy\", \"genesis\", \"genialidad\", \"genmaicha\", \"germ\", \"germinado\", \"germinados\", \"gerobak\", \"get\", \"ghar\", \"gilly\", \"gingapura\", \"gingerbread\", \"ginkgo\", \"ginkgo nut\", \"ginza\", \"girl bowl\", \"glamdoll\", \"glassnoodles\", \"glueck\", \"gluten\\\\n\", \"gluten based duck\", \"gluten chunks\", \"gluten could\", \"gluten de la\", \"gluten freeness\", \"gluten friendly\", \"gluten intolerances\", \"gluten pieces\", \"gluten \\\\ud83d\\\\udc95\", \"gluten \\\\ud83d\\\\ude09\", \"gluten)\", \"gluten,\", \"gluten-\", \"gluten-based\", \"gluten.\", \"gluten..\", \"glutenfreedonut\", \"glutenous rolls\", \"glutinous\", \"glutinous crystal skin\", \"glutinous skin\", \"gmos\", \"gobhi(cabbage\", \"goji\", \"goji cafe\", \"gong cha\", \"gongbao\", \"gongcha\", \"good earth\", \"good!!bittergourd\", \"goodsouls kitchen\", \"gooodddd\", \"goose\", \"goose skin\", \"gorditas\", \"goura\", \"gourd\", \"gourds\", \"govegan\", \"gramahatan\", \"granada\", \"grand ave\", \"grand ole\", \"grand palace\", \"grand scam\", \"grande\", \"granny\", \"grasosas\", \"gratinado\", \"gratinantes\", \"grecia\", \"green ba\", \"green common\", \"green day\", \"green dish\", \"green gourd\", \"green pie\", \"green river roll\", \"green roll\", \"green skin\", \"greenhome\", \"greenmonday\", \"greenowl\", \"greenowlcafe\", \"greentea\", \"greenwich\", \"greggs\", \"greggs\\\\ud83d\\\\ude1c\", \"greiser\", \"greyton\", \"greyton plant\", \"grillgem\\\\u00fcse\", \"groundzero\", \"gss\", \"guang shan\", \"guarnici\\\\u00f3n\", \"guarnici\\\\u00f3n ensalada\", \"guavas\", \"guerrin\", \"guiltfreedessert\", \"guinda\", \"guisado\", \"guisito\", \"guizhou\", \"gula\", \"gulab\", \"gulfport\", \"gurken\", \"gurl\", \"gustosa\", \"gustosas\", \"gyros\", \"g\\\\u00f6teborg\", \"hab\\\\u00edamos\", \"hackney\", \"hac\\\\u00eda\", \"had!!!\", \"hai di lao\", \"hai hai\", \"hai nan\", \"hainanese\", \"hairy gourd\", \"haiwaiian\", \"halal\", \"halal cafeteria\", \"halva\", \"halwa\", \"hamburgers\", \"hamburguesa\", \"hamburguesa beyond\", \"hamburguesa grande\", \"hamburguesa watson\", \"hamb\\\\u00farguer\", \"hamb\\\\u00farguer vegano\", \"hammersmith\", \"hangten cafe\", \"hannah montana\", \"hanya\", \"harajuku\", \"hard times\", \"hari\", \"hari raya\", \"haricot\", \"harina\", \"harmlessharvest\", \"hash dish\", \"hawaiano\", \"hawaii\", \"hawaii foods\", \"hawaiivegan\", \"hawthorn\", \"haychor\", \"hayejores\", \"hazz\", \"heathrow airport\", \"heavennnn\", \"hecha\", \"hechas\", \"hechos\", \"hedrick\", \"hei zhor\", \"heirloom\", \"heladeria\", \"helados\", \"helvti diner\", \"henghwa\", \"herb cream\", \"herbaceous catering co\", \"herbal dish\", \"herbivhor\", \"herb\\\\u00edvoro\", \"heritage food street\", \"hermitage\", \"hermosisimo\", \"herring\", \"hewitt\", \"hicieron\", \"hidamari\", \"hidden lane\", \"hideout\", \"hierbabuena\", \"hiiighly\", \"hiiiighly\", \"himalayan\", \"hippopotamus\", \"hipvegan\", \"hispanic\", \"hk$\", \"hkd\", \"hoagie\", \"hoagie roll\", \"hoagies\", \"hoisin\", \"hojicha\", \"hojitas\", \"hokben\", \"hokkaido\", \"holland village\", \"hollandvillage\", \"holy cow\", \"homefries\", \"hominy\", \"homus\", \"hong\", \"hong coffeeshop\", \"hong kongers\", \"hooligan\", \"hooper\", \"hot counter\", \"hot foods\", \"hot plate\", \"hotpot dish\", \"hoyne\", \"hrvst\", \"hua hin\", \"huevo\", \"huff bagelry\", \"hugest\", \"huitlacoche\", \"hula\", \"hundir\", \"hundred\", \"hungarian\", \"hunger\", \"huntingtonbeach\", \"huu canh\", \"hwa jin\", \"ia\", \"iberico\", \"ibiza\", \"ibs\", \"ice black\", \"ice chunks\", \"ice creammmm\", \"ice creams\", \"iceberg\", \"icebox\", \"iceburg\", \"icecreams\", \"icecreamsandwich\", \"iced\", \"iced black\", \"iced chai\", \"iced cream\", \"iced hojicha\", \"iced teh\", \"ichigaya\", \"idr\", \"idr 10,000\", \"ifaty\", \"ikan\", \"ikea\", \"ilocos\", \"ilovespiderman\", \"imitaci\\\\u00f3n\", \"impossibleburger\", \"impossibleshitake\", \"impossoble\", \"impresionantes\", \"inari rolls\", \"inari skin\", \"incl\", \"incluyan\", \"incorporaron\", \"increibleeee\", \"increibles\", \"incre\\\\u00edble\", \"incre\\\\u00edblemente\", \"incre\\\\u00efble\", \"indo\", \"indonasian\", \"ingreds\", \"inside\", \"insta\", \"insurgentes\", \"intolerance\", \"ipad\", \"ipo\", \"isaandathenathailand\", \"iserra\", \"isetan\", \"israelis\", \"it.must\", \"itaewon\", \"italia\", \"italiano deshidratado\", \"italien\", \"itsa\", \"iwataya mall\", \"iwner\", \"j\\'ai\", \"jabenero\", \"jack\", \"jackie chan\", \"jackpot\", \"jadah\", \"jaffa\", \"jaffle\", \"jaggis\", \"jain meals\", \"jajja\", \"jajjajaa\", \"jajjajaja\", \"jajjangmyeon\", \"jakartaveganguide\", \"jalape\\\\u00f1oooooooos\", \"jalisco\", \"jamba\", \"james cameron\", \"jamun julep\", \"jamur\", \"jantung\", \"jap\", \"japanesecuisine\", \"japs\", \"jarr\", \"jarra\", \"jars\", \"java\", \"jav\\\\u00e1nka\", \"jay chou\", \"jeangeorges\", \"jeez\", \"jellies\", \"jello\", \"jellyfish\", \"jengibre\", \"jerric\", \"jerrie\", \"jersey\", \"jesters_coffee\", \"jiggae\", \"jitomate\", \"jjd\", \"jjsy\", \"jlt\", \"job~\", \"joes\", \"joey tribiani\", \"jogja\", \"joker xue\", \"jollibean\", \"jonker walk\", \"joo chiat\", \"ju qi\", \"juax\", \"juga\", \"juglans\", \"jugos\", \"juiceland\", \"julienne\", \"junior\", \"junkfood\", \"junkies\", \"juntan\", \"jurong east\", \"justegg\", \"justos\", \"jusu\", \"kabob\", \"kaffir\", \"kaiser\", \"kalamaki bar\", \"kalamari\", \"kalamata\", \"kalamatas\", \"kalau\", \"kalebone\", \"kalebouli\", \"kalecaesar\", \"kalk bay\", \"kalmata\", \"kampung\", \"kampung admiralty\", \"kanpyo\", \"karaoke\", \"karma\", \"karma cafe\", \"karottensalat\", \"katako\", \"katong\", \"kauai\", \"kava\", \"kawasan\", \"keat hong\", \"kebabsfaktorysg\", \"kebap\", \"kebun\", \"kee zhang\", \"keke h\\\\u00famedo\", \"kelantan\", \"kelly\", \"kensington\", \"kentfield\", \"kepayang tree\", \"kerela\", \"keropok\", \"kesari\", \"ketchups\", \"kew\", \"kfar saba\", \"khas\", \"khichadi\", \"khobez\", \"khyber\", \"kibe\", \"kidfriendly\", \"kidney\", \"kikurage\", \"kilda\", \"kilimanjaro\", \"kilimannachos\", \"killee\", \"kilokitchen\", \"kimbap\", \"kimchislaw\", \"kimizu\", \"kinako\", \"kinchi\", \"kind kitchen\", \"kinddda\", \"kindkones\", \"king pao\", \"king roll\", \"kishi\", \"kitamba\", \"kitava\", \"kitchen cheeses\", \"kitchen factory\", \"kitchen torch\", \"kite hill\", \"kitehill\", \"kithul\", \"kitsune\", \"klm\", \"knead\", \"knightsforanimalrights\", \"koftas\", \"kofte\", \"koi\", \"kolo\", \"kolomee\", \"kolomee #crfsg\", \"komb\\\\u00fcse\", \"konbu\", \"kong bao\", \"kong guan\", \"kong poh\", \"konnyaku\", \"konyakku\", \"konyakku balls\", \"koocha\", \"koreancoffee\", \"koreatown spa\", \"koriander\", \"kormas\", \"kotor\", \"kp dum\", \"krab\", \"krab burg\", \"krab toastie\", \"krakow\", \"kreme\", \"kr\\\\u00e4utersaitlingen\", \"ksl city mall\", \"kuchen\", \"kukus\", \"kumara\", \"kung fu panda\", \"kuppila\", \"kurang manis\", \"kurma\", \"kurrito\", \"kush www.landofkush.com\", \"kuskus\", \"kwa\", \"kway\", \"k\\\\u010d\", \"l$15\", \"la\", \"la bechamel\", \"la bondi\", \"la brusqueta\", \"la carte\", \"la ensaladilla\", \"la foto\", \"la glaci\\\\u00e8re\", \"la jolla\", \"la lucciola\", \"la masa\", \"la med\", \"la medialuna\", \"la napolitana\", \"la pain quotidienne\", \"la palta\", \"la panella\", \"la panth\\\\u00e8re\", \"la pedimos\", \"la pedir\\\\u00eda\", \"la press\", \"la raci\\\\u00f3n\", \"la raci\\\\u00f3n cuesta\", \"la raposa\", \"la reverde\", \"la salsita\", \"la sopa\", \"la taquisa\", \"la tia carlota\", \"la torta\", \"la trocadero\", \"la turka\", \"la veganesa\", \"la volver\\\\u00eda\", \"lababdar\", \"labna\", \"ladies\", \"ladoo\", \"laguna\", \"lala\", \"lamponi\", \"landbageriet\", \"langkawi\", \"lao ban\", \"lao di\", \"lao dish\", \"lapis\", \"laqueado\", \"lard\", \"las alitas\", \"las camareras\", \"las espinacas\", \"las milanesas\", \"las papitas\", \"las porciones\", \"lasagnas\", \"latkes\", \"lau pa sat\", \"lavendar\", \"laver\", \"lawd\", \"lazi cow\", \"leafy green\", \"leanbento\", \"lebar\", \"leche\", \"lechuga\", \"leckerer\", \"legumbres\", \"leguminati\", \"leicha\", \"lemak\", \"lemons\", \"lenteja express\", \"lentejas\", \"lentil dish\", \"lentiln\", \"lessmeaty\", \"leuween\", \"levain\", \"li xuan\", \"liang cai\", \"libanese\", \"licor\", \"licorice\", \"lighterr\", \"liho\", \"lilac\", \"lilla\", \"lim kee\", \"limonada\", \"limp\", \"lingonberries\", \"lintels\", \"lion sky tower\", \"little kitchen\", \"littlebuckets\", \"lkttle\", \"llenador\", \"llenaron\", \"llenos\", \"llevaba\", \"llevarme\", \"llev\\\\u00e9\", \"lo fai\", \"lo hei\", \"lo volver\\\\u00eda\", \"lobster\", \"localizada\", \"locavore\", \"lohei\", \"lokal\", \"loma tuno\", \"lombok\", \"lombok dish gado\", \"lomo\", \"lonce\", \"londres\", \"longblack\", \"longest\", \"looong\", \"looooove\", \"lormee\", \"lorong\", \"los volver\\\\u00eda\", \"lotf\", \"lotte\", \"lovelovelove javanka\", \"lowereastside\", \"lox\", \"lu rou fan\", \"luang prabang\", \"lucy\", \"ludlow\", \"lugar!!!-\", \"lukessg\", \"lupus\", \"l\\\\u00e0m r\\\\u1ea5t\", \"l\\\\u00e1cteos\", \"mac\", \"mac &\", \"mac and cheeses\", \"mac and cheeze\", \"mac n\", \"mac n cheeses\", \"mac n cheez\", \"mac n pleese\", \"mac nut\", \"macademia\", \"macchiato\", \"macia\", \"macrobiotica\", \"macrobiotics\", \"madam bakster\", \"mafalda\", \"maggie mee\", \"magherita\", \"magnolia\", \"magn\\\\u00edficos\", \"maharajah\", \"mai khao\", \"maionese\", \"maitake\", \"maize\", \"makan\", \"maki\", \"maki roll\", \"makini\", \"makisan\", \"mala xiang guo\", \"malacca\", \"malaga\", \"malam\", \"malasia\", \"malibu\", \"maltratar\", \"malunggay\", \"mama\", \"mama patisserie\", \"mamak\", \"mamarios\", \"mamouns\", \"mana foods\", \"manchurian\", \"mandala park\", \"mandala park,\", \"mandarin\", \"mandarin kitchen\", \"mandarin peel\", \"mandarins\", \"mandioca\", \"mandoline\", \"mang shan wang\", \"mangosalad\", \"manis\", \"manjar\", \"manna foods\", \"mantar\\\\u0131ndan\", \"manteca\", \"mantequilla\", \"mantquilla\", \"mantra lounge\", \"manuka\", \"mao shan wang\", \"maple crisps\", \"maple sirup\", \"maples\", \"maracumango\", \"marathon\", \"maravilhosa\", \"maravillosa\", \"mara\\\\u00f1on\", \"mara\\\\u00f1ones\", \"march\", \"margaritas\", \"mariachi\", \"marin\", \"marin county\", \"marinada\", \"marinaded\", \"marinado\", \"marinara\", \"marinara lentil\", \"mariscos\", \"marleycoffee\", \"marrakesh\", \"mars bar\", \"marsala\", \"marscapone\", \"martaen\", \"marunouchi\", \"maryland\", \"marzetti\", \"masa\", \"masamakestacos\", \"mascabo\", \"mashiseoyo\", \"massa\", \"massimos\", \"matah\", \"matchal\", \"matchalatte\", \"matthew keaney\", \"matzah\", \"maui mall\", \"maxhamburger\", \"maybbeee\", \"mayonaise\", \"mayonice\", \"mazamorra\", \"mazorcada\", \"ma\\\\u00edz cocinado\", \"mcmuffin\", \"medanese\", \"medialuna\", \"mee\", \"mee kia\", \"meesoto\", \"meesua\", \"meet\", \"mei cai\", \"mejoraron\", \"mejorar\\\\u00eda\", \"melaka\", \"melb\", \"melbs\", \"melocot\\\\u00f3n\", \"melted cheeze\", \"melted earth\", \"membuat penasaran\", \"meravigliose\", \"merienda\", \"meriendas\", \"mermelada\", \"mesculin\", \"mesero\", \"meski sudah dipanggang\", \"mestizo\", \"meta bites\", \"mezclaba\", \"mezclan\", \"mhk\", \"miao yi\", \"middle dish\", \"mikoko\", \"mil pesos\", \"mila\", \"milanesas\", \"milanese\", \"milanesitas\", \"milano\", \"milhoja\", \"milhojas\", \"milo\", \"milo powder\", \"mind!).i\", \"mineira\", \"minidessert\", \"misture\", \"mit sesamk\\\\u00f6rner\", \"mixedvegrice\", \"miyako yasi\", \"miyokos kitchen\", \"mochisho\", \"mock chop\", \"mock floss\", \"mock fried\", \"mojada\", \"moku roots\", \"molasses\", \"moltenchocolate\", \"mol\\\\u00e9\", \"monash\", \"monkey head\", \"monkey pod\", \"monkfish\", \"monterreyvegano\", \"montrose\", \"moofree dressing\", \"moon hoon kway\", \"mooncakes\", \"mooshies\", \"morcilla\", \"more rupees\", \"morel\", \"morita\", \"mortadella\", \"moschmosch\", \"mosque street\", \"motherjuice\", \"mounds\", \"mozerella\", \"mozz\", \"mozz chez\", \"mozza\", \"mozzerella\", \"msia\", \"muchiiiisimos\", \"mudd\", \"mung\", \"mung sprouts\", \"munnar\", \"murah tempat\", \"mustafa\", \"musttry\", \"musubi\", \"muuuy\", \"my dollars\", \"mycoprotein\", \"myki\", \"mykonos\", \"mylkbare\", \"mylky\", \"myrtle\", \"m\\\\u00e9lange\", \"m\\\\u00e9xico\", \"nachini\", \"nachitos\", \"naked\", \"naked leaves\", \"nalu bowl\", \"nalu bowls\", \"namaste\", \"nana\", \"nanaimo\", \"nando\", \"nandos\", \"nann\", \"nantucket\", \"napa\", \"napolitana\", \"naruto\", \"nasdaq\", \"nashvillevegan\", \"nasi\", \"nasi belut\", \"nasi merah\", \"nasi putih \\\\ud83c\\\\udf5a\", \"nasi rames\", \"national\", \"national park\", \"native foods\", \"nativefoods\", \"natural caf\\\\u00e9\", \"naumi\", \"neapolitan\", \"neon pigeon\", \"nest cafe\", \"nettle\", \"neveragain\", \"neverything\", \"new black\", \"new fut kai\", \"new soul food\", \"newlands\", \"newlands village\", \"newmexico\", \"newtella\", \"newton food\", \"newtown\", \"newyorkvegan\", \"next few\", \"ngee ann city\", \"ngohhiang\", \"nibs\", \"nice.wish\", \"nicr\", \"nigiri\", \"nigvziani\", \"nj\", \"no penny\", \"nobles\", \"nogada\", \"noho\", \"nokk\", \"nola\", \"nom\", \"nom nom\", \"nommmmm\", \"nommy\", \"non greasy skin\", \"non-\", \"nondairy\", \"nonethelss\", \"nono\", \"nonya\", \"nooch\", \"noods\", \"nordic\", \"north east\", \"north hill\", \"north shore\", \"northbridge\", \"northpoint\", \"northpoint city\", \"northstar\", \"northstar cafe\", \"northstar caf\\\\u00e9\", \"nos enteramos\", \"nos sobr\\\\u00f3\", \"nos veganizaron\", \"nosh\", \"notchos\", \"notdogs\", \"notella\", \"notella drizzle\", \"notre dame\", \"notting hill\", \"notts\", \"notvegan\", \"notworththecalories\", \"nourish\\'d cafe\", \"nourishyoursoul\", \"novapizza\", \"novotel\", \"ntd\", \"ntu hive\", \"ntu north\", \"ntuc\", \"nubbad\", \"nuff\", \"nuh\", \"nus\", \"nus law\", \"nus students\", \"nus?\", \"nushii\", \"nusss\", \"nut\", \"nut based\", \"nut dip\", \"nut-\", \"nutrientdense\", \"nutritivos\", \"nya\", \"nyack\", \"nyu\", \"nyuveg\", \"nyvegan\", \"nz\", \"n\\\\u2019ice\", \"oakbrook brewing\", \"oaks village\", \"oat\", \"oat cream\", \"oatly cream\", \"oatlyyyyy\", \"oatm*lk\", \"obanzai\", \"observatory\", \"obsesi\\\\u00f3n\", \"octopus\", \"oder s\\\\u00fc\\\\u00dfkartoffel pommes\", \"ofrecian\", \"ok-\", \"okura\", \"olio\", \"olympia\", \"omn\\\\u00edvoros\", \"omoomo\", \"onnipork\", \"oops\", \"open day\", \"oppsy\", \"options\", \"orang\", \"orchard\", \"orchardrd\", \"orderhow\", \"orderin\", \"organicos\", \"orh nee\", \"orobably\", \"othervegan\", \"oumph\", \"ovo\", \"oysters\", \"pacific\", \"pacific food\", \"paddu\", \"pajitas\", \"pakwaan\", \"paleo\", \"palestinian\", \"paleta\", \"palma\", \"palta\", \"panang\", \"pandany\", \"pandisho\", \"paninis\", \"panjabi\", \"pankackes\", \"panna\", \"pannacotta\", \"pansetas\", \"pao\", \"paparich\", \"papayas\", \"papistacos\", \"papitas\", \"pappu\", \"par\", \"para chuparte\", \"para mezclarlo\", \"para mi\", \"para tres\", \"para veganizarla\", \"paranthas\", \"parathas\", \"para\\\\u00edso\", \"parcels\", \"parecen\", \"park bench\", \"parkoras\", \"parkway\", \"parkway parade\", \"parm\", \"parmasan\", \"parque espa\\\\u00f1a\", \"parsnips\", \"parve\", \"pasar\", \"passata\", \"past few\", \"pasteler\\\\u00eda la\", \"pastelitos\", \"pastrami\", \"pastva\", \"patacon\", \"pataoes\", \"patatas\", \"patate douce\", \"pate\", \"pattie\", \"pattycake\", \"pat\\\\u00e8\", \"pat\\\\u00e9\", \"pawsup\", \"pb&j toast\", \"pcnuggets\", \"pdx\", \"peacefood\", \"peak hour\", \"peanutbuttercheesecake\", \"peanutbutterchocolate\", \"peanutbuttery\", \"peanutbuttery goodness\", \"peanutsauce\", \"pecorino\", \"pedacito\", \"pedidos\", \"pedimos\", \"pediria\", \"pedirla\", \"pedirte\", \"ped\\\\u00edamos\", \"ped\\\\u00eds\", \"pee vee\", \"peking\", \"peloton\\\\u2018s\", \"penakaran\", \"penang\", \"peninsula\", \"pensarlo\", \"peperoni grigliati\", \"pepillo\", \"pepitas\", \"peppadews\", \"pepperoncini\", \"peppierer\", \"peque\\\\u00f1ita\", \"perdi\\\\u00f3\", \"pericos\", \"perogi\", \"perogies\", \"perthshire\", \"per\\\\u00fa\", \"peshwari\", \"pesticide free\", \"peta\", \"petiscos\", \"petit\", \"pgp\", \"pgpr foodclique\", \"phillo\", \"philly\", \"philly roll\", \"phnom phen\", \"photographable\", \"photography\", \"phyllo\", \"ph\\\\u1edf\", \"pi\", \"piazza san\", \"picaba\", \"picante\", \"piccadilly\", \"pico\", \"pico and\", \"pico de\", \"pico on\", \"pico,\", \"pico.\", \"picoteo\", \"pidi\\\\u00f3\", \"pie\", \"pierogis\", \"pierre\", \"piezas\", \"pig\", \"pigandsprout\", \"pilau\", \"pimento\", \"piment\\\\u00f3n\", \"piment\\\\u00f5es\", \"pimiento\", \"pinamar\", \"pindi\", \"pine\", \"pine tree\", \"pines food\", \"pinut\", \"pioneros\", \"pitas\", \"pitaya\", \"pitta\", \"pizzaexpresssg\", \"pizzaluce\", \"pizzavegan\", \"pizzavegana\", \"pi\\\\u00f1ones\", \"places\", \"plant cafe\", \"plant crops\", \"plantforward\", \"platano\", \"plato\", \"plaza\", \"plaza ding\", \"plaza indo\", \"plp\", \"plsss\", \"plumcake\", \"plumeria\", \"pm\", \"pnut\", \"pnuts\", \"poboy\", \"podi\", \"pod\\\\u00e9s\", \"pod\\\\u00edan\", \"pointtt\", \"poisoning\", \"pokebowl\", \"pokeme\", \"polen restaurant\", \"polk county\", \"pollo\", \"pomodoro\", \"pond\", \"pontian\", \"pop parlour\", \"popadoms\", \"popaganda\", \"poppadoms\", \"popsicle\", \"popsicles\", \"poquitas\", \"porcini\", \"porciones\", \"poroto\", \"porotos\", \"portlandme\", \"portofino\", \"por\\\\u00f3\", \"posielarkspur\", \"postre\", \"pot\", \"potatoe\", \"potstickers\", \"pottage\", \"pound\", \"pounds\", \"pouze\", \"powerbowl\", \"prasad\", \"pre-6 pm\", \"predisposici\\\\u00f3n\", \"prefer\\\\u00ed\", \"prefiera\", \"preis\", \"preparaba mi\", \"preparada\", \"prepararos\", \"prepararte\", \"preparations\", \"prev ice\", \"prezzo\", \"priceh\", \"priceworthy\", \"pridemonth\", \"prince edward county\", \"prince roll\", \"prive\", \"privesg\", \"prix\", \"profiteroles\", \"promocionaban\", \"propercorn\", \"proporci\\\\u00f3n\", \"protagonismo\", \"protein\", \"protein shake\", \"prote\\\\u00edna\", \"protien\", \"provence\", \"provolone\", \"provolone vegano\", \"psyllium\", \"ptt\", \"puddings\", \"pudim\", \"puece\", \"puffpastry\", \"puka\", \"pulao\", \"pulau\", \"pulpo\", \"punk rawk labs\", \"punk rock\", \"pupusas\", \"pure\", \"pure cafe\", \"pure caf\\\\u00e9\", \"pure fitness\", \"pure luck\", \"puris\", \"pur\\\\u00e9\", \"putu\", \"puy\", \"pybus\", \"qoolco\", \"qq wanton\", \"quac\", \"qued\\\\u00e9\", \"queensland\", \"queenstown\", \"quejar\", \"quer\\\\u00e9s\", \"quich\\\\u00e9\", \"quitarlo\", \"quite few\", \"quorn\", \"r house\", \"r160\", \"r42\", \"r87\", \"rabanito\", \"rabe\", \"raci\\\\u00f3n\", \"raffles\", \"raffleshotel\", \"ragi\", \"ragu\", \"rahasthani\", \"rainbow\", \"raj restaurant\", \"raja\", \"raja\\\\u2018s food\", \"ramsl\\\\u00f8kricotto\", \"ramyeon\", \"ranch\\\\n\", \"ranch yum\", \"ranchocucamonga\", \"rang mahal\", \"rapee\", \"rapeseed\", \"rappi\", \"rasanya coklat\", \"rasin\", \"rastafarian\", \"ravioles\", \"rawchocolate\", \"rawnola\", \"rawpizza\", \"rawwrap\", \"real\", \"real foods\", \"reallyy\", \"reallyyy\", \"rebanaba\", \"rebus\", \"recargaban\", \"receta\", \"recheada\", \"recheado\", \"recibidos\", \"recoleta\", \"recomandado\", \"recomendable\", \"recomendadas\", \"recomendadisima\", \"recomendadisimo\", \"recomendado\", \"recomendad\\\\u00edsimos\", \"recomendarles\", \"reconocido\", \"recordaron\", \"red\", \"red bamboo\", \"red bank\", \"red bell\", \"red bowl\", \"red chai\", \"red food\", \"red haurache\", \"red king\", \"red lentil\", \"red marinara\", \"red roselle\", \"red ruby\", \"red sago\", \"red sea\", \"red sparrow\", \"red spring\", \"red star\", \"red velvet\", \"red white\", \"red yeast\", \"redding\", \"redeemable\", \"redpotatoes\", \"redwhitevegan\", \"reece\", \"reeeeaaallly\", \"refritos\", \"regalitos\", \"reggae\", \"rehogados\", \"reishi\", \"rellena\", \"rellenar\", \"remainig\", \"remolacha\", \"renkon\", \"renmaru\", \"renovaci\\\\u00f3n\", \"repetirlo\", \"repitiria\", \"republic\", \"reservas\", \"restauran\", \"restaurante\", \"restaurante la\", \"restaurante sopa\", \"restaurante vegano\", \"restaurnt\", \"restraraunt\", \"restraunt\", \"resturaunt\", \"resultaron\", \"retratar\", \"reuben\", \"reuben dish\", \"reuben toastie\", \"reusablestraw\", \"reverde\", \"reverie food\", \"rewild\", \"ri ri\", \"rica\", \"rica salsita\", \"rican\", \"ricebox\", \"riceroll\", \"rico!!!-lindo\", \"rifhtbat\", \"right\", \"riicos\", \"rilakkuma\", \"rinde\", \"rings\", \"rinku town\", \"ripiene di\", \"riquiisima\", \"riquisima\", \"riquisimas\", \"riquisimo\", \"riquisimos\", \"riqu\\\\u00edsiiima\", \"riqu\\\\u00edsima\", \"riqu\\\\u00edsimaa\", \"riqu\\\\u00edsimas\", \"riqu\\\\u00edsimo\", \"riqu\\\\u00edsimo pat\\\\u00e9\", \"riqu\\\\u00edsimo roll\", \"riqu\\\\u00edsimos\", \"rlie brown\", \"rllyyy\", \"rm1\", \"rm20.90\", \"rm4.20\", \"rm9.20\", \"rnohthai\", \"roastpaan\", \"robertsonquay\", \"robot\", \"rockweed\", \"rodajas\", \"roe\", \"roja\", \"rolling fatties\", \"romana\", \"romanesco\", \"romano\", \"rondebosch\", \"roodtop\", \"rooster bistro\", \"roosterredemption\", \"roots caf\\\\u00e9\", \"roquette\", \"rosalinda\", \"rosehip\", \"rosella\", \"rosemantic\", \"roto\", \"roulade\", \"roux\", \"rp 15,000\", \"rrally\", \"rspo\", \"ruccola\", \"rucola\", \"rupees\", \"rupiahs\", \"rush hour\", \"ryce\", \"ryokan\", \"ryori\", \"r\\\\u00f3cola\", \"r\\\\u00fagula\", \"r\\\\u00fasticas\", \"r\\\\u2019noh\", \"sababa\", \"sabores\", \"saborosa\", \"sabrosisima\", \"sabros\\\\u00edsima\", \"sacasmediterranean\", \"saciada\", \"sacro\", \"safeway\", \"sagharbor\", \"sago\", \"saitan\", \"salade\", \"saladsi brought my own takeaway box to save\", \"salah\", \"salam\", \"salat\", \"salchicha\", \"salchipapa\", \"salimos\", \"salsa tomate dulce\", \"salsine\", \"salsitas\", \"saltado\", \"salty dressed\", \"saludable\", \"salvemos\", \"samaya\", \"samba\", \"sambusas\", \"samgyetang\", \"sammich\", \"samoa\", \"san\", \"san fernando\", \"san jose\", \"san tan brewing\", \"san telmo\", \"sanandre\", \"sananselmo\", \"sanantonio\", \"sanctury\", \"sanddorn\", \"sandiegovegan\", \"sandwichs\", \"sandwinches\", \"sandwitch\", \"sangat\", \"sanrafael\", \"sans\", \"sansai\", \"santanafoods\", \"santorini bowl\", \"santuariogaia\", \"santuariosalvaje\", \"sanur\", \"saravana bhavan\", \"sarawak\", \"sardines\", \"sarnies\", \"sasonadas\", \"sasuage\", \"sate\", \"sate jawa\", \"saturn\", \"saturn cafe\", \"saturncafe\", \"sauceeee\", \"saud\\\\u00e1vel\", \"sauerkirsch\", \"sause\", \"savoy\", \"sayangsonline\", \"sayuri\", \"sazonador\", \"scamble\", \"scampi\", \"scheckter\", \"schezwan\", \"schmear\", \"scottish\", \"sea ranger\", \"seacoconut\", \"seatac\", \"seattleuniversity\", \"secci\\\\u00f3n\", \"sedap\", \"sedona\", \"selalu\", \"selecci\\\\u00f3n\", \"selenium\", \"selfridges\", \"sembawang park\", \"semester\", \"semesters\", \"semsem\", \"sencha\", \"sentosa\", \"sentosa boardwalk\", \"seoulkorea\", \"serangoon road\", \"seriousnesss\", \"servido\", \"servilleta\", \"servilletas\", \"set course\", \"setas\", \"seventh\", \"sevilla\", \"sgaia\", \"sgaia pastrami\", \"sgcheese\", \"sgmylk\", \"sgvegan\", \"shacha\", \"shangahi\", \"shanti bowl\", \"shaobao\", \"sheesy\", \"shenton outlet\", \"sherbet\", \"shermanoaks\", \"sheung wan\", \"shiitakes\", \"shirataki\", \"shoots\", \"shopback\", \"shortbread cookie shake\", \"shortcakes\", \"shortcrust\", \"should\\\\u2018ve\", \"shrimps\", \"shroomzai\", \"shujinko\", \"shun li industrial park\", \"shyam\", \"si va\", \"si vas\", \"sichimi\", \"sidra\", \"siem\", \"siete euros\", \"siew\", \"signature burgreens\", \"sihanouk\", \"sihanoukville\", \"sihanoukvillevegan\", \"sihaominshu\", \"silk\", \"silkairvegan\", \"silky gourd\", \"simpleraw\", \"simularon\", \"singaporeriver\", \"singaporevegan\", \"singara\", \"singtel\", \"sins tour\", \"sirem\", \"sirpringly\", \"sirup\", \"sitges\", \"sittingbourne\", \"siu mei\", \"skins\", \"skudai\", \"skv\\\\u011bl\\\\u00e1\", \"slab\", \"slab silken tofu\", \"slc\", \"slogan\", \"slow bakes\", \"smellllls\", \"smoochthie\", \"smores\", \"smorgasburg\", \"smothie\", \"sms mall\", \"snacc\", \"snack.\", \"snake gourd\", \"snake gourds\", \"sno cap\", \"so few\", \"sobraba\", \"sobrasada\", \"sobredosis\", \"sobr\\\\u00f3\", \"soft gourd\", \"soft skin\", \"softserve\", \"soho saloon\", \"sol food\", \"solero\", \"solutiontoeggwoes\", \"somen\", \"somerset\", \"something dollars\", \"sonna\", \"soomsoom\", \"sopa\", \"sopes\", \"sorbetish\", \"sorghum\", \"sorprenda\", \"sorprenderme\", \"sorprendi\\\\u00f3\", \"sorprendo\", \"sosetes\", \"sotong\", \"sotong rings\", \"souley\", \"soulvegetarian\", \"sour foods\", \"southsea\", \"southwestburger\", \"southwestern\", \"soyashake\", \"soyclone\", \"soylatte\", \"spaghettini\", \"spaghettrios\", \"speculoos spread\", \"spicay\", \"spicednuts\", \"spicymango\", \"spinach+pear\", \"spinachfriends\", \"spoiltforchoice\", \"spring green\", \"sprinklescupcakes\", \"sproutcraft\", \"squid\", \"sri\", \"srisun express\", \"sseeds\", \"stanley park\", \"steaks\", \"steet food\", \"stems\", \"stevia\", \"sticky black\", \"sticky!#barnardvegan\", \"stilly\", \"stirfry\", \"stole\", \"stonesedge\", \"straws\", \"streetfood\", \"streettacos\", \"stroganoff\", \"strongwater\", \"stuff\\'d\", \"stuffedbeast\", \"styrofoam\", \"suadero\", \"substatial dish\", \"suburbs\", \"sucking pig\", \"sudirman\", \"sugerencia\", \"suisse\", \"suizas\", \"suka\", \"suka suka\", \"sultana\", \"sultanas\", \"sum kitchen\", \"summercelebration\", \"summies\", \"sunachi\", \"sunbutter\", \"sunchokes\", \"sunchorizo\", \"sunlife\", \"sunterra\", \"supafood\", \"superrrrrrb tshirt\", \"supersabrosa\", \"suquini\", \"sushiko\", \"sushisamba\", \"sustainability commission\", \"suvegan\", \"swahili\", \"sweet captain\", \"sweet cheeze\", \"sweet cream\", \"sweet dressing\", \"sweet earth\", \"sweet gourd\", \"sweet n sour\", \"sweet potato tater tots\", \"sweet potatoe\", \"sweetener\", \"sweetfarm\", \"sweetfrog\", \"swensens\", \"swing kitchen\", \"swips\", \"swissbake\", \"s\\\\u00e4ttigend\", \"s\\\\u2019mores\", \"t^t\", \"tabao\", \"tabbouli\", \"tablespoon\", \"tabluleh\", \"tacofino\", \"tahu\", \"tai hang\", \"tailandia\", \"taka food\", \"taknakstraw\", \"tamal\", \"tamal vegano\", \"tamarindo\", \"tamatanga\", \"tan tan\", \"tanah merah ferry\", \"tang yuan\", \"tanglin\", \"tanjong\", \"tapenades\", \"tapeo\", \"taquitos\", \"tartaleta\", \"tartar\", \"tarte\", \"tarte aux marrons\", \"tarteleta\", \"tarts\", \"tasty!really\", \"tater\", \"tater tot\", \"tater tots\", \"tator tots\", \"tatte\", \"tau\", \"tau fu\", \"tau gua\", \"tau huay\", \"tau kee\", \"tazon\", \"tazon bowl\", \"tbsp\", \"tcc\", \"tcm\", \"tcsveg\", \"teaa\", \"teachically\", \"tears women\", \"teff\", \"tefu\", \"tei\", \"teishoku\", \"telok\", \"temasek\", \"temperada\", \"temph\\\\u00e9\", \"temple bar\", \"temppe\", \"tenderloin\", \"tenderstem\", \"tendria\", \"tenerife\", \"teniamos\", \"tenian\", \"ten\\\\u00edamos\", \"ten\\\\u00f3rio caf\\\\u00e9\", \"teow\", \"terasa\", \"terciopelo\", \"terengganu\", \"teriyaka\", \"terminarla\", \"terminar\\\\u00eda hastiada\", \"terriyaki\", \"textuee\", \"texturas\", \"tgb\", \"tgi\", \"tgif\", \"thaali\", \"thaifood\", \"thamassat university\", \"thames river\", \"thankful\", \"thanksgiving\", \"thanksgiving dish\", \"the butcher\", \"the yard\", \"the.specific day\", \"thebuzz\", \"theeeee\", \"theluckycupcakecompany\", \"themangotreecofe\", \"these few\", \"thetr\", \"thevikas\", \"thg\", \"thirds\", \"this day\", \"thisbdsh\", \"thise\", \"thistle\", \"those few\", \"thry\", \"thug kitchen\", \"thunder\", \"thunder tree\", \"thundertree\", \"thundertreeleichashu\", \"thurs\", \"th\\\\u00e9 cookie\", \"th\\\\u00e9 greasy\", \"th\\\\u00e9 lentil\", \"tiao\", \"tienda\", \"tigernut\", \"tigre\", \"timelesscoffee\", \"tin drum\", \"tioman\", \"tipicos\", \"tiramizu\", \"toaoe\", \"toasties\", \"tobasco\", \"todxs\", \"toffee\", \"tofish\", \"tofoie gras\", \"tofu?\", \"tofufriedrice\", \"token\", \"tom\\'s\", \"tomarte\", \"tomate\", \"tomate cherri\", \"tomate concentrado\", \"tomate deshidratado\", \"tomate refrito\", \"tomatitos\", \"tomato?)bread\", \"tomatoe\", \"tonde\", \"tong chong\", \"tong kee\", \"toona\", \"toppings.\", \"toreados\", \"torrija\", \"torrijos\", \"torta\", \"tortas\", \"torte\", \"tortilha\", \"tortitas\", \"toscana\", \"toss\", \"toss&turn\", \"tosta\", \"tostaron\", \"tostas\", \"tostones\", \"totopos\", \"toukoul\", \"tournament\", \"tower bridge\", \"towzen\", \"toyko\", \"tradisional\", \"trek\", \"tremenda\", \"trengganu street\", \"triangles\", \"tribe\", \"trigueros\", \"trilogy\", \"trinity beach\", \"triunfaron\", \"triunf\\\\u00f3\", \"trivia\", \"trocadero\", \"trompetas\", \"tropezones\", \"tropicaleo\", \"trout roe\", \"trufas\", \"truffleyness\", \"tryingvegan\", \"tr\\\\u00e1i\", \"tr\\\\u00e8s\", \"tschudin\", \"tso\", \"tso i\", \"tsp\", \"tteokbukki\", \"tub\\\\u00e9rculo\", \"tucos\", \"tues\", \"tum tum\", \"tung hoon\", \"tupperware\", \"turf city\", \"tury\", \"tuscan\", \"tuskish\", \"tuviese\", \"tvgb\", \"twelve dollars\", \"twg\", \"twg teas\", \"twin cities\", \"twoboots\", \"tyf\", \"typicallllllll\", \"tzarziki\", \"tzaziki\", \"t\\\\u00e1o\", \"t\\\\u00e9to\", \"t\\\\u00edpicos\", \"t\\\\u0159i\", \"u.p.\", \"ubereats\", \"ubon\", \"ubuntu\", \"ucf\", \"uchuva\", \"ucla\", \"uhmc\", \"uk\", \"umasspnut\", \"un\", \"un milll\", \"un s\\\\u00e1ndwich\", \"unflavoured\", \"uni\", \"unicap\", \"unicorn magic\", \"unity diner\", \"universal studios\", \"universidad cat\\\\u00f3lica\", \"university town\", \"untado\", \"urban\", \"urban remedy\", \"urban remedy foods\", \"urud\", \"uruguayes\", \"usa\", \"usaron\", \"usdan\", \"usp\", \"usq\", \"uthappam\", \"utk\", \"utthapam\", \"utthappam\", \"vacon\", \"vadas\", \"vagem\", \"valhala\", \"val\\\\u00e9rie\", \"vanderbilt\", \"vanderbilt university\", \"vas\", \"vayan\", \"veaga\", \"veal\", \"veestro\", \"veg*n\", \"vegaholic\", \"veganaise\", \"veganasian\", \"veganboston\", \"veganbrat\", \"veganbread\", \"veganbrownies\", \"veganbrunch\", \"veganbuffet\", \"vegancafe\", \"vegancakessrilanka\", \"vegancapetown#greyton\", \"vegancedele\", \"veganchocolatecake\", \"vegancoffee\", \"vegancolombo\", \"vegancookie\", \"vegandaise\", \"vegandiariescmb\", \"vegandonut\", \"vegandonuttourla\", \"veganeats\", \"veganegg\", \"veganes\", \"veganesa\", \"veganese\", \"veganfish\", \"veganfood\", \"veganfoodshare\", \"vegangram\", \"veganismo\", \"veganizado\", \"veganized\", \"veganjapanesegroceries\", \"vegankaaskop\", \"vegankc\", \"vegankyoto\", \"veganlife\", \"veganlifestyle\", \"veganlondon\", \"veganmozzarella\", \"veganmtlfoodies\", \"vegano\", \"veganohio\", \"veganoptions\", \"veganos\", \"veganpasarmalam foods\", \"veganpoke\", \"veganpork\", \"veganrestaurant\", \"veganribs\", \"veganroast\", \"veganrobs\", \"vegansa\", \"veganshakes\", \"vegansrilanka\", \"vegantacos\", \"vegatsu\", \"vegballs\", \"vegbuddies\", \"vege pot\", \"vegeatarian\", \"vegenaise\", \"vegenation\", \"vegepots\", \"veges\", \"vegestory\", \"vegetalia\", \"vegg\", \"veggiegrill\", \"veggies!!p\", \"vegoto\", \"vegreen\", \"vegsbchai\", \"vegthiscity food\", \"vegui\", \"venezuelan\", \"venian\", \"venty\", \"ven\\\\u00eda\", \"vera\", \"verbena\", \"verdolaga\", \"verdura\", \"verdurita\", \"verduritas\", \"vers\\\\u00e3o\", \"very few\", \"veryaffordable\", \"veryy\", \"vianda\", \"vic park\", \"vichi\", \"victorian\", \"views\", \"vikasa\", \"vinagre\", \"vinegarette\", \"vinhomes\", \"viniagarette\", \"vinniespizzeria\", \"violet\", \"virtuous pie\", \"vitalroot\", \"vitamin\", \"vivavanderbilt\", \"voil\\\\u00e0\", \"volc\\\\u00e1n\", \"vol\\\\u00f3\", \"vonut\", \"vryg\", \"vwz\", \"v\\\\u00e9g\\\\u00e9taux\", \"wa ko\", \"wada\", \"wafers\", \"wafuu dressing\", \"wagamama\", \"wagamamas\", \"wailuku\", \"wallnut\", \"wang miao\", \"wanton mee\", \"wantons\", \"watercoursefoods\", \"way\", \"wcc\", \"welsh\", \"west coast\", \"westgate\", \"westwood\", \"wheehee\", \"whip cream\", \"white cream\", \"white rabbit\", \"whitefield\", \"whitehibiscus\", \"whole day\", \"wholekitchen\", \"whoooole\", \"wildhoney\", \"wingz\", \"wish\", \"within\", \"withnoodle\", \"women\", \"womnopork\", \"wonton mee bites\", \"woods\", \"wooot\", \"wortel\", \"woulf\", \"wundersch\\\\u00f6n\", \"xampis\", \"xiang chun\", \"xiao bai\", \"xiao hei\", \"xi\\\\u2019an\", \"xlb\", \"xlbs\", \"xocolata\", \"xtra hard\", \"xuan miao\", \"xyst\", \"y3240\", \"yakimeshi\", \"yamabushitake\", \"yams\", \"yang indah\", \"yang pas\", \"yappy hour\", \"yaya\", \"ycmp\", \"yee mee\", \"yellow mee\", \"yellow skin\", \"yi xin\", \"yissssss\", \"yoffi\", \"yogi\", \"yuan xiang\", \"yuba\", \"yucca root\", \"yummmmmmmmmmmmmmmmm\", \"yummmo\", \"yummus\", \"yummyyy\", \"yummz\", \"yumz\", \"yumzz\", \"yyjvegan\", \"zacon\", \"zadar\", \"zaoni\", \"zattar\", \"zha\", \"zhajiang\", \"zillion\", \"zuccini\", \"zuihou\", \"zumos\", \"~\", \"~$15\", \"~ice\", \"\\\\u00bb\", \"\\\\u00e0\", \"\\\\u00f3ptima\", \"\\\\u0e2d\\\\u0e23\\\\u0e48\\\\u0e2d\\\\u0e22\\\\u0e21\\\\u0e32\\\\u0e01\\\\u0e40\\\\u0e25\\\\u0e22\\\\u0e04\\\\u0e48\\\\u0e30\", \"\\\\u2022\", \"\\\\u2714\", \"\\\\u2795\", \"\\\\u2b06\", \"\\\\u30d3\\\\u30fc\\\\u30ac\\\\u30f3\\\\u30e9\\\\u30b6\\\\u30cb\\\\u30a2\", \"\\\\u53bb\\\\u5230\\\\u8fd9\\\\u5bb6\\\\u201c\\\\u7f51\\\\u7ea2\\\\u201d\\\\u5c0f\\\\u94fa\\\\u8bb0\\\\u5f97\\\\u70b9\\\\u4e0a\\\\u4e00\\\\u9053\", \"\\\\u5495\\\\u54be\\\\u8089\\\\u9178\\\\u9178\\\\u751c\\\\u751c\\\\u7684\\\\u5f88\\\\u597d\\\\u5403\\\\u3002\\\\u54ac\\\\u611f\\\\u5f88\\\\u723d\\\\u5f88\\\\u559c\\\\u6b22\", \"\\\\u57fa\\\\u672c\\\\u4e0a\\\\u8fd9\\\\u91cc\\\\u7684\\\\u98df\\\\u7269\\\\u90fd\\\\u5f88\\\\u597d\\\\u5403\", \"\\\\u662f\\\\u6211\\\\u5403\\\\u7d20\\\\u4ee5\\\\u6765\\\\u6700\\\\u6d53\\\\u9999\\\\u7684\\\\u7d20\\\\u5496\\\\u55b1\\\\u8d85\\\\u7231\", \"\\\\u7cd6\\\\u918b\\\\u5473\\\\u9053\\\\u5fae\\\\u9178\\\\uff0c\\\\u7cd6\\\\u918b\\\\u6392\\\\u9aa8\\\\u5473\\\\u9053\\\\u6bd4\\\\u8f03\\\\u91cd\\\\u8981\\\\u914d\\\\u98ef\\\\u5403\\\\u4e0d\\\\u7136\\\\u6703\\\\u592a\\\\u9e79\\\\uff0c\\\\u6703\\\\u642d\\\\u914d\\\\u4e09\\\\u6a23\\\\u4eca\\\\u65e5\\\\u852c\\\\u83dc\\\\uff0c\\\\u6709\\\\u6642\\\\u5019\\\\u662f\\\\u82b1\\\\u6930\\\\u83dc\\\\uff0c\\\\u6709\\\\u6642\\\\u5019\\\\u662f\\\\u9752\\\\u6c5f\\\\u83dc\\\\u3001\\\\u767d\\\\u83dc\\\\u9183\\\\u863f\\\\u8514\", \"\\\\u8c46\\\\u6c99\", \"\\\\u91cc\\\\u9762\\\\u662f\\\\u9ed1\\\\u829d\\\\u9ebb\", \"\\\\u975e\\\\u5e38\\\\u6e05\\\\u751c\\\\u53ef\\\\u53e3\", \"\\\\ufe0frefrigerator\", \"\\\\uff09\", \"\\\\uff1f\", \"\\\\ud83c\\\\udf34\", \"\\\\ud83c\\\\udf3a\", \"\\\\ud83c\\\\udf43\", \"\\\\ud83c\\\\udf49\", \"\\\\ud83c\\\\udf49\\\\ud83c\\\\udf49\\\\ud83c\\\\udf49\", \"\\\\ud83c\\\\udf57\", \"\\\\ud83c\\\\udf6a\", \"\\\\ud83c\\\\udf74\", \"\\\\ud83c\\\\udf76\", \"\\\\ud83c\\\\udffcpretty\", \"\\\\ud83d\\\\udc24\", \"\\\\ud83d\\\\udc43\", \"\\\\ud83d\\\\udc96\", \"\\\\ud83d\\\\udc96\\\\ud83e\\\\udd84\", \"\\\\ud83d\\\\udcb0\", \"\\\\ud83d\\\\ude28\", \"\\\\ud83d\\\\ude2e\", \"\\\\ud83d\\\\ude32\", \"\\\\ud83d\\\\ude34\", \"\\\\ud83d\\\\ude36\", \"\\\\ud83d\\\\ude3f\", \"\\\\ud83d\\\\ude42\", \"\\\\ud83d\\\\ude87\", \"\\\\ud83e\\\\udd22\", \"\\\\ud83e\\\\udd2a\", \"\\\\ud83e\\\\udd2d\", \"\\\\ud83e\\\\udd61\", \"\\\\ud83e\\\\udd65\", \"\\\\ud83e\\\\udd74\", \"\\\\ud83e\\\\udd80\", \"\\\\ud83e\\\\udd84\"]'"
            ]
          },
          "metadata": {
            "tags": []
          },
          "execution_count": 9
        }
      ]
    },
    {
      "cell_type": "code",
      "metadata": {
        "id": "TKAnKwqevKiO",
        "colab_type": "code",
        "colab": {}
      },
      "source": [
        "import re\n",
        "import json\n",
        "import pandas as pd\n"
      ],
      "execution_count": 0,
      "outputs": []
    },
    {
      "cell_type": "code",
      "metadata": {
        "id": "Lvz8XoEQxW0d",
        "colab_type": "code",
        "colab": {
          "base_uri": "https://localhost:8080/",
          "height": 34
        },
        "outputId": "83f92666-e171-438e-8f2c-f04a47f93982"
      },
      "source": [
        "inp_list = json.loads(my_file_data)\n",
        "len(inp_list)"
      ],
      "execution_count": 20,
      "outputs": [
        {
          "output_type": "execute_result",
          "data": {
            "text/plain": [
              "3333"
            ]
          },
          "metadata": {
            "tags": []
          },
          "execution_count": 20
        }
      ]
    },
    {
      "cell_type": "code",
      "metadata": {
        "id": "l9zZyPXwvd3K",
        "colab_type": "code",
        "colab": {
          "base_uri": "https://localhost:8080/",
          "height": 51
        },
        "outputId": "41cd4f4e-bd6b-4770-e1cd-de873721c229"
      },
      "source": [
        "print(inp_list[100],'allioli')\n",
        "td.levenshtein.distance(inp_list[10],'allioli')\n",
        "#td.levenshtein(inp_list[10],inp_list[20])"
      ],
      "execution_count": 30,
      "outputs": [
        {
          "output_type": "stream",
          "text": [
            "allioli allioli\n"
          ],
          "name": "stdout"
        },
        {
          "output_type": "execute_result",
          "data": {
            "text/plain": [
              "8"
            ]
          },
          "metadata": {
            "tags": []
          },
          "execution_count": 30
        }
      ]
    },
    {
      "cell_type": "code",
      "metadata": {
        "id": "GGkdxAu8wWk0",
        "colab_type": "code",
        "colab": {
          "base_uri": "https://localhost:8080/",
          "height": 34
        },
        "outputId": "ba9ffa56-1b72-4d57-ca92-a830f1dbdda2"
      },
      "source": [
        "td.levenshtein.distance('arrabbiata','arabbiata')\n"
      ],
      "execution_count": 35,
      "outputs": [
        {
          "output_type": "execute_result",
          "data": {
            "text/plain": [
              "1"
            ]
          },
          "metadata": {
            "tags": []
          },
          "execution_count": 35
        }
      ]
    },
    {
      "cell_type": "code",
      "metadata": {
        "id": "3Tly2oTsyp2T",
        "colab_type": "code",
        "colab": {
          "base_uri": "https://localhost:8080/",
          "height": 34
        },
        "outputId": "6171dc77-e303-4cbf-fdb3-1f0775c6fc6b"
      },
      "source": [
        "td.levenshtein.normalized_similarity(inp_list[i], inp_list[j])"
      ],
      "execution_count": 40,
      "outputs": [
        {
          "output_type": "execute_result",
          "data": {
            "text/plain": [
              "0.875"
            ]
          },
          "metadata": {
            "tags": []
          },
          "execution_count": 40
        }
      ]
    },
    {
      "cell_type": "code",
      "metadata": {
        "id": "WblOP0NIzHfU",
        "colab_type": "code",
        "colab": {}
      },
      "source": [
        "leven_result = []\n",
        "for i in range(len(inp_list)):\n",
        "\n",
        "  for j in range(i,len(inp_list)):\n",
        "    leven = td.levenshtein.normalized_similarity(inp_list[i], inp_list[j])\n",
        "\n",
        "    if  (leven > 0.8) & (leven < 0.9999):\n",
        "      leven_result.append((inp_list[i], inp_list[j], leven))"
      ],
      "execution_count": 0,
      "outputs": []
    },
    {
      "cell_type": "code",
      "metadata": {
        "id": "56i8-KLu0GE-",
        "colab_type": "code",
        "colab": {
          "base_uri": "https://localhost:8080/",
          "height": 1000
        },
        "outputId": "0b41e9cf-ff85-46fa-e598-134d26688d4f"
      },
      "source": [
        "leven_result"
      ],
      "execution_count": 58,
      "outputs": [
        {
          "output_type": "execute_result",
          "data": {
            "text/plain": [
              "[('10 dollars', '14 dollars', 0.9),\n",
              " ('10 dollars', '15 dollars', 0.9),\n",
              " ('14 dollars', '15 dollars', 0.9),\n",
              " ('asada', 'asadas', 0.8333333333333334),\n",
              " ('bamboo straw', 'bamboo straws', 0.9230769230769231),\n",
              " ('bannana', 'bannanas', 0.875),\n",
              " ('basilicato', 'basillicato', 0.9090909090909091),\n",
              " ('batata', 'batatas', 0.8571428571428572),\n",
              " ('batatas', 'patatas', 0.8571428571428572),\n",
              " ('bechamel', 'béchamel', 0.875),\n",
              " ('blanc', 'blanca', 0.8333333333333334),\n",
              " ('bomba', 'bombay', 0.8333333333333334),\n",
              " (\"buddha's\", 'buddha’s', 0.875),\n",
              " ('buenisima', 'buenisimas', 0.9),\n",
              " ('buenisima', 'buenísima', 0.8888888888888888),\n",
              " ('buenisimas', 'buenísimas', 0.9),\n",
              " ('buenísima', 'buenísimas', 0.9),\n",
              " ('buenísimas', 'buenísimos', 0.9),\n",
              " ('cafetería', 'cafeterías', 0.9),\n",
              " ('cai po', 'chai po', 0.8571428571428572),\n",
              " ('calamari', 'calimari', 0.875),\n",
              " ('calamari', 'kalamari', 0.875),\n",
              " ('canastita', 'canastitas', 0.9),\n",
              " ('caramelizadas', 'caramelizado', 0.8461538461538461),\n",
              " ('cebolleta', 'cebollita', 0.8888888888888888),\n",
              " ('cebollita', 'cebollitas', 0.9),\n",
              " ('champignon', 'champignones', 0.8333333333333334),\n",
              " ('champignones', 'champiñones', 0.8333333333333334),\n",
              " ('chanterelle', 'chanterelles', 0.9166666666666666),\n",
              " ('cheescake', 'cheese”cake', 0.8181818181818181),\n",
              " ('cheez', 'cheeze', 0.8333333333333334),\n",
              " ('chestnut', 'chestnuts', 0.8888888888888888),\n",
              " ('chevre', 'chèvre', 0.8333333333333334),\n",
              " ('chicharron', 'chicharrones', 0.8333333333333334),\n",
              " ('chicharron', 'chicharrón', 0.9),\n",
              " ('choclo', 'choco', 0.8333333333333334),\n",
              " ('cinabon', 'cinnabon', 0.875),\n",
              " ('consta', 'costa', 0.8333333333333334),\n",
              " ('costco', 'costo', 0.8333333333333334),\n",
              " ('crabbycakes', 'crabcakes', 0.8181818181818181),\n",
              " ('crabcake', 'crabcakes', 0.8888888888888888),\n",
              " ('divino', 'divinos', 0.8571428571428572),\n",
              " ('dosha', 'doshas', 0.8333333333333334),\n",
              " ('east village', 'eastvillage', 0.9166666666666666),\n",
              " ('encantar', 'encantará', 0.8888888888888888),\n",
              " ('every few', 'very few', 0.8888888888888888),\n",
              " ('exquisito', 'exquisitos', 0.9),\n",
              " ('filets', 'fillets', 0.8571428571428572),\n",
              " ('fishcake', 'fishcakes', 0.8888888888888888),\n",
              " ('galette', 'galettes', 0.875),\n",
              " ('garden roll', 'green roll', 0.8181818181818181),\n",
              " ('germinado', 'germinados', 0.9),\n",
              " ('gluten\\n', 'gluten)', 0.8571428571428572),\n",
              " ('gluten\\n', 'gluten,', 0.8571428571428572),\n",
              " ('gluten\\n', 'gluten-', 0.8571428571428572),\n",
              " ('gluten\\n', 'gluten.', 0.8571428571428572),\n",
              " ('gluten 💕', 'gluten 😉', 0.875),\n",
              " ('gluten)', 'gluten,', 0.8571428571428572),\n",
              " ('gluten)', 'gluten-', 0.8571428571428572),\n",
              " ('gluten)', 'gluten.', 0.8571428571428572),\n",
              " ('gluten,', 'gluten-', 0.8571428571428572),\n",
              " ('gluten,', 'gluten.', 0.8571428571428572),\n",
              " ('gluten-', 'gluten.', 0.8571428571428572),\n",
              " ('gluten.', 'gluten..', 0.875),\n",
              " ('gong cha', 'gongcha', 0.875),\n",
              " ('gourd', 'gourds', 0.8333333333333334),\n",
              " ('greggs', 'greggs😜', 0.8571428571428572),\n",
              " ('gustosa', 'gustosas', 0.875),\n",
              " ('hecha', 'hechas', 0.8333333333333334),\n",
              " ('hechas', 'hechos', 0.8333333333333334),\n",
              " ('hiiighly', 'hiiiighly', 0.8888888888888888),\n",
              " ('hoagie', 'hoagies', 0.8571428571428572),\n",
              " ('holland village', 'hollandvillage', 0.9333333333333333),\n",
              " ('ice black', 'iced black', 0.9),\n",
              " ('ice creams', 'icecreams', 0.9),\n",
              " ('iceberg', 'iceburg', 0.8571428571428572),\n",
              " ('icebox', 'ricebox', 0.8571428571428572),\n",
              " ('increíble', 'increïble', 0.8888888888888888),\n",
              " ('jajjajaa', 'jajjajaja', 0.8888888888888888),\n",
              " ('jerric', 'jerrie', 0.8333333333333334),\n",
              " ('kalamata', 'kalamatas', 0.8888888888888888),\n",
              " ('kalamata', 'kalmata', 0.875),\n",
              " ('kite hill', 'kitehill', 0.8888888888888888),\n",
              " ('kukus', 'kuskus', 0.8333333333333334),\n",
              " ('la volvería', 'lo volvería', 0.9090909090909091),\n",
              " ('la volvería', 'los volvería', 0.8333333333333334),\n",
              " ('las alitas', 'las papitas', 0.8181818181818181),\n",
              " ('lo hei', 'lohei', 0.8333333333333334),\n",
              " ('lo volvería', 'los volvería', 0.9166666666666666),\n",
              " ('looong', 'lorong', 0.8333333333333334),\n",
              " ('mac and cheeses', 'mac and cheeze', 0.8666666666666667),\n",
              " ('mac and cheeses', 'mac n cheeses', 0.8666666666666667),\n",
              " ('macrobiotica', 'macrobiotics', 0.9166666666666666),\n",
              " ('mana foods', 'manna foods', 0.9090909090909091),\n",
              " ('mandala park', 'mandala park,', 0.9230769230769231),\n",
              " ('mandarin', 'mandarins', 0.8888888888888888),\n",
              " ('mang shan wang', 'mao shan wang', 0.8571428571428572),\n",
              " ('mantequilla', 'mantquilla', 0.9090909090909091),\n",
              " ('maravilhosa', 'maravillosa', 0.9090909090909091),\n",
              " ('marinada', 'marinado', 0.875),\n",
              " ('marinada', 'marinara', 0.875),\n",
              " ('matah', 'matzah', 0.8333333333333334),\n",
              " ('merienda', 'meriendas', 0.8888888888888888),\n",
              " ('milanesas', 'milanesitas', 0.8181818181818181),\n",
              " ('milhoja', 'milhojas', 0.875),\n",
              " ('mounds', 'pounds', 0.8333333333333334),\n",
              " ('mozerella', 'mozzerella', 0.9),\n",
              " ('nalu bowl', 'nalu bowls', 0.9),\n",
              " ('nando', 'nandos', 0.8333333333333334),\n",
              " ('native foods', 'nativefoods', 0.9166666666666666),\n",
              " ('northstar cafe', 'northstar café', 0.9285714285714286),\n",
              " ('oat cream', 'oatly cream', 0.8181818181818181),\n",
              " ('pajitas', 'papitas', 0.8571428571428572),\n",
              " ('paleta', 'palta', 0.8333333333333334),\n",
              " ('panang', 'penang', 0.8333333333333334),\n",
              " ('papitas', 'pepitas', 0.8571428571428572),\n",
              " ('paranthas', 'parathas', 0.8888888888888888),\n",
              " ('pedidos', 'pedimos', 0.8571428571428572),\n",
              " ('pediria', 'pedirla', 0.8571428571428572),\n",
              " ('phillo', 'philly', 0.8333333333333334),\n",
              " ('phillo', 'phyllo', 0.8333333333333334),\n",
              " ('pimento', 'pimiento', 0.875),\n",
              " ('pizzavegan', 'pizzavegana', 0.9090909090909091),\n",
              " ('popadoms', 'poppadoms', 0.8888888888888888),\n",
              " ('popsicle', 'popsicles', 0.8888888888888888),\n",
              " ('poroto', 'porotos', 0.8571428571428572),\n",
              " ('pound', 'pounds', 0.8333333333333334),\n",
              " ('pure cafe', 'pure café', 0.8888888888888888),\n",
              " ('reallyy', 'reallyyy', 0.875),\n",
              " ('recheada', 'recheado', 0.875),\n",
              " ('recomandado', 'recomendado', 0.9090909090909091),\n",
              " ('recomendable', 'recomendarles', 0.8461538461538461),\n",
              " ('recomendadas', 'recomendado', 0.8333333333333334),\n",
              " ('recomendadisima', 'recomendadisimo', 0.9333333333333333),\n",
              " ('recomendadisima', 'recomendadísimos', 0.8125),\n",
              " ('recomendadisimo', 'recomendadísimos', 0.875),\n",
              " ('rellena', 'rellenar', 0.875),\n",
              " ('restauran', 'restaurante', 0.8181818181818181),\n",
              " ('restaurante', 'restaurnt', 0.8181818181818181),\n",
              " ('restaurante la', 'restaurante sopa', 0.8125),\n",
              " ('restraraunt', 'restraunt', 0.8181818181818181),\n",
              " ('restraraunt', 'resturaunt', 0.8181818181818181),\n",
              " ('restraunt', 'resturaunt', 0.9),\n",
              " ('riquiisima', 'riquisima', 0.9),\n",
              " ('riquisima', 'riquisimas', 0.9),\n",
              " ('riquisima', 'riquisimo', 0.8888888888888888),\n",
              " ('riquisima', 'riquísima', 0.8888888888888888),\n",
              " ('riquisimas', 'riquisimos', 0.9),\n",
              " ('riquisimas', 'riquísimas', 0.9),\n",
              " ('riquisimo', 'riquisimos', 0.9),\n",
              " ('riquisimo', 'riquísimo', 0.8888888888888888),\n",
              " ('riquisimos', 'riquísimos', 0.9),\n",
              " ('riquísiiima', 'riquísima', 0.8181818181818181),\n",
              " ('riquísima', 'riquísimaa', 0.9),\n",
              " ('riquísima', 'riquísimas', 0.9),\n",
              " ('riquísima', 'riquísimo', 0.8888888888888888),\n",
              " ('riquísimaa', 'riquísimas', 0.9),\n",
              " ('riquísimas', 'riquísimos', 0.9),\n",
              " ('riquísimo', 'riquísimos', 0.9),\n",
              " ('rm4.20', 'rm9.20', 0.8333333333333334),\n",
              " ('romana', 'romano', 0.8333333333333334),\n",
              " ('ruccola', 'rucola', 0.8571428571428572),\n",
              " ('rucola', 'rócola', 0.8333333333333334),\n",
              " ('sabrosisima', 'sabrosísima', 0.9090909090909091),\n",
              " ('sandwichs', 'sandwinches', 0.8181818181818181),\n",
              " ('saturn cafe', 'saturncafe', 0.9090909090909091),\n",
              " ('semester', 'semesters', 0.8888888888888888),\n",
              " ('servilleta', 'servilletas', 0.9090909090909091),\n",
              " ('sgvegan', 'suvegan', 0.8571428571428572),\n",
              " ('si va', 'si vas', 0.8333333333333334),\n",
              " ('smores', 's’mores', 0.8571428571428572),\n",
              " ('snake gourd', 'snake gourds', 0.9166666666666666),\n",
              " ('sorprenda', 'sorprendo', 0.8888888888888888),\n",
              " ('sultana', 'sultanas', 0.875),\n",
              " ('tartaleta', 'tarteleta', 0.8888888888888888),\n",
              " ('tater tot', 'tater tots', 0.9),\n",
              " ('tater tots', 'tator tots', 0.9),\n",
              " ('teniamos', 'teníamos', 0.875),\n",
              " ('tenian', 'venian', 0.8333333333333334),\n",
              " ('these few', 'those few', 0.8888888888888888),\n",
              " ('thunder tree', 'thundertree', 0.9166666666666666),\n",
              " ('tipicos', 'típicos', 0.8571428571428572),\n",
              " ('tomarte', 'tomate', 0.8571428571428572),\n",
              " ('tomate', 'tomatoe', 0.8571428571428572),\n",
              " ('torta', 'tortas', 0.8333333333333334),\n",
              " ('tortas', 'tostas', 0.8333333333333334),\n",
              " ('tosta', 'tostas', 0.8333333333333334),\n",
              " ('tzarziki', 'tzaziki', 0.875),\n",
              " ('uthappam', 'utthappam', 0.8888888888888888),\n",
              " ('utthapam', 'utthappam', 0.8888888888888888),\n",
              " ('veganaise', 'vegandaise', 0.9),\n",
              " ('veganaise', 'vegenaise', 0.8888888888888888),\n",
              " ('veganes', 'veganesa', 0.875),\n",
              " ('veganes', 'veganese', 0.875),\n",
              " ('veganes', 'veganos', 0.8571428571428572),\n",
              " ('veganesa', 'veganese', 0.875),\n",
              " ('veganesa', 'vegansa', 0.875),\n",
              " ('vegano', 'veganos', 0.8571428571428572),\n",
              " ('veganribs', 'veganrobs', 0.8888888888888888),\n",
              " ('verdurita', 'verduritas', 0.9),\n",
              " ('vinegarette', 'viniagarette', 0.8333333333333334),\n",
              " ('wagamama', 'wagamamas', 0.8888888888888888),\n",
              " ('whip cream', 'white cream', 0.8181818181818181)]"
            ]
          },
          "metadata": {
            "tags": []
          },
          "execution_count": 58
        }
      ]
    },
    {
      "cell_type": "code",
      "metadata": {
        "id": "qZt5ijdb0d0N",
        "colab_type": "code",
        "colab": {}
      },
      "source": [
        "df = pd.read_json('patterns.jsonl',lines=True)"
      ],
      "execution_count": 0,
      "outputs": []
    },
    {
      "cell_type": "code",
      "metadata": {
        "id": "tkKCNsbn3Kfr",
        "colab_type": "code",
        "colab": {
          "base_uri": "https://localhost:8080/",
          "height": 197
        },
        "outputId": "725dee1f-14c2-47de-af69-125f49ab2e57"
      },
      "source": [
        "df.head()"
      ],
      "execution_count": 61,
      "outputs": [
        {
          "output_type": "execute_result",
          "data": {
            "text/html": [
              "<div>\n",
              "<style scoped>\n",
              "    .dataframe tbody tr th:only-of-type {\n",
              "        vertical-align: middle;\n",
              "    }\n",
              "\n",
              "    .dataframe tbody tr th {\n",
              "        vertical-align: top;\n",
              "    }\n",
              "\n",
              "    .dataframe thead th {\n",
              "        text-align: right;\n",
              "    }\n",
              "</style>\n",
              "<table border=\"1\" class=\"dataframe\">\n",
              "  <thead>\n",
              "    <tr style=\"text-align: right;\">\n",
              "      <th></th>\n",
              "      <th>label</th>\n",
              "      <th>pattern</th>\n",
              "      <th>id</th>\n",
              "    </tr>\n",
              "  </thead>\n",
              "  <tbody>\n",
              "    <tr>\n",
              "      <th>0</th>\n",
              "      <td>CARDINAL</td>\n",
              "      <td>[{'LOWER': '1'}]</td>\n",
              "      <td>1</td>\n",
              "    </tr>\n",
              "    <tr>\n",
              "      <th>1</th>\n",
              "      <td>CARDINAL</td>\n",
              "      <td>[{'LOWER': '1/2'}]</td>\n",
              "      <td>1/2</td>\n",
              "    </tr>\n",
              "    <tr>\n",
              "      <th>2</th>\n",
              "      <td>CARDINAL</td>\n",
              "      <td>[{'LOWER': '1/3'}]</td>\n",
              "      <td>1/3</td>\n",
              "    </tr>\n",
              "    <tr>\n",
              "      <th>3</th>\n",
              "      <td>CARDINAL</td>\n",
              "      <td>[{'LOWER': '1/4'}]</td>\n",
              "      <td>1/4</td>\n",
              "    </tr>\n",
              "    <tr>\n",
              "      <th>4</th>\n",
              "      <td>CARDINAL</td>\n",
              "      <td>[{'LOWER': '1/5'}]</td>\n",
              "      <td>1/5</td>\n",
              "    </tr>\n",
              "  </tbody>\n",
              "</table>\n",
              "</div>"
            ],
            "text/plain": [
              "      label             pattern   id\n",
              "0  CARDINAL    [{'LOWER': '1'}]    1\n",
              "1  CARDINAL  [{'LOWER': '1/2'}]  1/2\n",
              "2  CARDINAL  [{'LOWER': '1/3'}]  1/3\n",
              "3  CARDINAL  [{'LOWER': '1/4'}]  1/4\n",
              "4  CARDINAL  [{'LOWER': '1/5'}]  1/5"
            ]
          },
          "metadata": {
            "tags": []
          },
          "execution_count": 61
        }
      ]
    },
    {
      "cell_type": "code",
      "metadata": {
        "id": "GMRQLS8t3L9t",
        "colab_type": "code",
        "colab": {}
      },
      "source": [
        "pat_list = list(df['id'].unique())"
      ],
      "execution_count": 0,
      "outputs": []
    },
    {
      "cell_type": "code",
      "metadata": {
        "id": "ZTFNZASb3Z36",
        "colab_type": "code",
        "colab": {
          "base_uri": "https://localhost:8080/",
          "height": 34
        },
        "outputId": "e2113d78-626e-4074-8dab-35f9c9267a12"
      },
      "source": [
        "len(pat_list)"
      ],
      "execution_count": 63,
      "outputs": [
        {
          "output_type": "execute_result",
          "data": {
            "text/plain": [
              "12577"
            ]
          },
          "metadata": {
            "tags": []
          },
          "execution_count": 63
        }
      ]
    },
    {
      "cell_type": "code",
      "metadata": {
        "id": "u1BcSH4_3yOm",
        "colab_type": "code",
        "colab": {}
      },
      "source": [
        ""
      ],
      "execution_count": 0,
      "outputs": []
    },
    {
      "cell_type": "code",
      "metadata": {
        "id": "vrBKDDZk3Tvw",
        "colab_type": "code",
        "colab": {}
      },
      "source": [
        "leven_result = []\n",
        "for i in range(len(pat_list)):\n",
        "\n",
        "  for j in range(len(inp_list)):\n",
        "    leven = td.levenshtein.normalized_similarity(pat_list[i], inp_list[j])\n",
        "\n",
        "    if  (leven > 0.8) & (leven < 0.9999):\n",
        "      leven_result.append((pat_list[i], inp_list[j], leven))"
      ],
      "execution_count": 0,
      "outputs": []
    },
    {
      "cell_type": "code",
      "metadata": {
        "id": "4ll-wQg-4XRS",
        "colab_type": "code",
        "colab": {
          "base_uri": "https://localhost:8080/",
          "height": 1000
        },
        "outputId": "1d025b8d-5a8a-49b1-d325-d723c4d25207"
      },
      "source": [
        "leven_result"
      ],
      "execution_count": 66,
      "outputs": [
        {
          "output_type": "execute_result",
          "data": {
            "text/plain": [
              "[('robertson_quay', 'robertsonquay', 0.9285714285714286),\n",
              " ('al_ain', 'alain', 0.8333333333333334),\n",
              " ('algeria', 'almeria', 0.8571428571428572),\n",
              " ('almería', 'almeria', 0.8571428571428572),\n",
              " ('argentina', 'argentinian', 0.8181818181818181),\n",
              " ('athens', 'athena', 0.8333333333333334),\n",
              " ('banda', 'bandra', 0.8333333333333334),\n",
              " ('banha', 'bancha', 0.8333333333333334),\n",
              " ('barcelona', 'barceloneta', 0.8181818181818181),\n",
              " ('batala', 'batata', 0.8333333333333334),\n",
              " ('beirut', 'beiruti', 0.8571428571428572),\n",
              " ('bergamo', 'bergamot', 0.875),\n",
              " ('berlin', 'berlina', 0.8571428571428572),\n",
              " ('berlin', 'berlín', 0.8333333333333334),\n",
              " ('birmingham', 'birningham', 0.9),\n",
              " ('brussels', 'brussel', 0.875),\n",
              " ('bucheon', 'bukcheon', 0.875),\n",
              " ('buffalo', 'bufflo', 0.8571428571428572),\n",
              " ('cancún', 'cancun', 0.8333333333333334),\n",
              " ('canoas', 'canovas', 0.8571428571428572),\n",
              " ('cape_town', 'capetown', 0.8888888888888888),\n",
              " ('castanhal', 'castanhas', 0.8888888888888888),\n",
              " ('chile', 'chiles', 0.8333333333333334),\n",
              " ('colombia', 'colombian', 0.8888888888888888),\n",
              " ('colorado', 'colorido', 0.875),\n",
              " ('datong', 'katong', 0.8333333333333334),\n",
              " ('durban', 'urban', 0.8333333333333334),\n",
              " ('fujian', 'fusian', 0.8333333333333334),\n",
              " ('greece', 'reece', 0.8333333333333334),\n",
              " ('guinea', 'guinda', 0.8333333333333334),\n",
              " ('huizhou', 'guizhou', 0.8571428571428572),\n",
              " ('huntington_beach', 'huntingtonbeach', 0.9375),\n",
              " ('kerala', 'kerela', 0.8333333333333334),\n",
              " ('khanna', 'channa', 0.8333333333333334),\n",
              " ('killeen', 'killee', 0.8571428571428572),\n",
              " ('kraków', 'krakow', 0.8333333333333334),\n",
              " ('makeni', 'makini', 0.8333333333333334),\n",
              " ('malaysia', 'malasia', 0.875),\n",
              " ('manisa', 'manis', 0.8333333333333334),\n",
              " ('marrakech', 'marrakesh', 0.8888888888888888),\n",
              " ('mexico', 'méxico', 0.8333333333333334),\n",
              " ('milan', 'milano', 0.8333333333333334),\n",
              " ('munger', 'hunger', 0.8333333333333334),\n",
              " ('málaga', 'malaga', 0.8333333333333334),\n",
              " ('naples', 'maples', 0.8333333333333334),\n",
              " ('padang', 'panang', 0.8333333333333334),\n",
              " ('palmas', 'palma', 0.8333333333333334),\n",
              " ('porto', 'poroto', 0.8333333333333334),\n",
              " ('ranchi', 'ranch\\n', 0.8333333333333334),\n",
              " ('rancho_cucamonga', 'ranchocucamonga', 0.9375),\n",
              " ('reading', 'redding', 0.8571428571428572),\n",
              " ('rimini', 'crimini', 0.8571428571428572),\n",
              " ('romania', 'romana', 0.8571428571428572),\n",
              " ('sacaba', 'sababa', 0.8333333333333334),\n",
              " ('samara', 'samaya', 0.8333333333333334),\n",
              " ('san_antonio', 'sanantonio', 0.9090909090909091),\n",
              " ('san_rafael', 'sanrafael', 0.9),\n",
              " ('serra', 'iserra', 0.8333333333333334),\n",
              " ('seville', 'sevilla', 0.8571428571428572),\n",
              " ('shangzhi', 'shangahi', 0.875),\n",
              " ('sivas', 'si vas', 0.8333333333333334),\n",
              " ('soacha', 'shacha', 0.8333333333333334),\n",
              " ('suizhou', 'guizhou', 0.8571428571428572),\n",
              " ('sullana', 'sultana', 0.8571428571428572),\n",
              " ('tabaco', 'tabao', 0.8333333333333334),\n",
              " ('tamale', 'tamal', 0.8333333333333334),\n",
              " ('tartus', 'tarts', 0.8333333333333334),\n",
              " ('tempe', 'temppe', 0.8333333333333334),\n",
              " ('penang', 'panang', 0.8333333333333334),\n",
              " ('venezuela', 'venezuelan', 0.9),\n",
              " ('victoria', 'victorian', 0.8888888888888888),\n",
              " ('zhanjiang', 'zhajiang', 0.8888888888888888),\n",
              " ('zhejiang', 'zhajiang', 0.875),\n",
              " ('rupiah', 'rupiahs', 0.8571428571428572),\n",
              " ('american', 'america', 0.875),\n",
              " ('bengali', 'bengal', 0.8571428571428572),\n",
              " ('chinese', 'chinesse', 0.875),\n",
              " ('eastern', 'easter', 0.8571428571428572),\n",
              " ('egyptian', 'egyptians', 0.8888888888888888),\n",
              " ('ethiopian', 'ethopian', 0.8888888888888888),\n",
              " ('hawaiian', 'haiwaiian', 0.8888888888888888),\n",
              " ('indonesian', 'indonasian', 0.9),\n",
              " ('israeli', 'israelis', 0.875),\n",
              " ('italian', 'italia', 0.8571428571428572),\n",
              " ('italian', 'italien', 0.8571428571428572),\n",
              " ('lebanese', 'libanese', 0.875),\n",
              " ('nyonya', 'nonya', 0.8333333333333334),\n",
              " ('peshawari', 'peshwari', 0.8888888888888888),\n",
              " ('punjabi', 'panjabi', 0.8571428571428572),\n",
              " ('rajasthani', 'rahasthani', 0.9),\n",
              " ('tatar', 'tartar', 0.8333333333333334),\n",
              " ('turkish', 'tuskish', 0.8571428571428572),\n",
              " ('zambian', 'cambian', 0.8571428571428572),\n",
              " ('fourth', 'fourths', 0.8571428571428572),\n",
              " ('third', 'thirds', 0.8333333333333334),\n",
              " ('brownice', 'brownrice', 0.8888888888888888),\n",
              " ('burger_king', 'burgerking', 0.9090909090909091),\n",
              " ('coco_ichibanya', 'cocoichibanya', 0.9285714285714286),\n",
              " ('jaggi', 'jaggis', 0.8333333333333334),\n",
              " ('kind_kones', 'kindkones', 0.9),\n",
              " ('nomvnom', 'nom nom', 0.8571428571428572),\n",
              " ('nutella', 'notella', 0.8571428571428572),\n",
              " ('realfoods', 'real foods', 0.9),\n",
              " ('scramble', 'scamble', 0.875),\n",
              " ('vikas', 'vikasa', 0.8333333333333334),\n",
              " ('million', 'zillion', 0.8571428571428572),\n",
              " ('coffee', 'toffee', 0.8333333333333334),\n",
              " ('espresso', 'expresso', 0.875),\n",
              " ('frappuccino', 'frapuchino', 0.8181818181818181),\n",
              " ('green_tea', 'greentea', 0.8888888888888888),\n",
              " ('lei_cha', 'leicha', 0.8571428571428572),\n",
              " ('matcha', 'matchal', 0.8571428571428572),\n",
              " ('smoothie', 'smothie', 0.875),\n",
              " ('soy_latte', 'soylatte', 0.8888888888888888),\n",
              " ('chapati', 'chapatis', 0.875),\n",
              " ('matzoh', 'matzah', 0.8333333333333334),\n",
              " ('paratha', 'parathas', 0.875),\n",
              " ('tortilla', 'tortilha', 0.875),\n",
              " ('apple_sauce', 'applesauce', 0.9090909090909091),\n",
              " ('chilies', 'chiles', 0.8571428571428572),\n",
              " ('hawaij', 'hawaii', 0.8333333333333334),\n",
              " ('ketchup', 'ketchups', 0.875),\n",
              " ('masala', 'marsala', 0.8571428571428572),\n",
              " ('mayonnaise', 'mayonaise', 0.9),\n",
              " ('peanut_sauce', 'peanutsauce', 0.9166666666666666),\n",
              " ('shichimi', 'sichimi', 0.875),\n",
              " ('sweet_n sour', 'sweet n sour', 0.9166666666666666),\n",
              " ('tabasco', 'tobasco', 0.8571428571428572),\n",
              " ('tartare', 'tartar', 0.8571428571428572),\n",
              " ('arancina', 'arancini', 0.875),\n",
              " ('arepa', 'arepas', 0.8333333333333334),\n",
              " ('asiático', 'asiáticos', 0.8888888888888888),\n",
              " ('babaganoush', 'babagonoush', 0.9090909090909091),\n",
              " ('babbaganoush', 'babagonoush', 0.8333333333333334),\n",
              " ('bacon', 'bacons', 0.8333333333333334),\n",
              " ('bacon', 'beacon', 0.8333333333333334),\n",
              " ('balado', 'belado', 0.8333333333333334),\n",
              " ('balsamic_vinegar', 'balsamicvinegar', 0.9375),\n",
              " ('banchan', 'bancha', 0.8571428571428572),\n",
              " ('barbecue', 'barbeque', 0.875),\n",
              " ('batida', 'batido', 0.8333333333333334),\n",
              " ('beancurd_skin', 'beancurdskin', 0.9230769230769231),\n",
              " ('beignet', 'beignets', 0.875),\n",
              " ('bento', 'bentos', 0.8333333333333334),\n",
              " ('biryani', 'biriyani', 0.875),\n",
              " ('blondie', 'blonde', 0.8571428571428572),\n",
              " ('bolognese', 'bolgnese', 0.8888888888888888),\n",
              " ('breadstick', 'breadsticks', 0.9090909090909091),\n",
              " ('brown_rice', 'brownrice', 0.9),\n",
              " ('bruschetta', 'bruschette', 0.9),\n",
              " ('buddha_bowl', 'buddha bowel', 0.8333333333333334),\n",
              " (\"buddha's_delight\", 'buddha delight', 0.8125),\n",
              " ('budino', 'budin', 0.8333333333333334),\n",
              " ('burrito', 'kurrito', 0.8571428571428572),\n",
              " ('calentica', 'calentita', 0.8888888888888888),\n",
              " ('carnitas', 'carnistas', 0.8888888888888888),\n",
              " ('cassata', 'passata', 0.8571428571428572),\n",
              " ('cemita', 'cremita', 0.8571428571428572),\n",
              " ('chacha', 'shacha', 0.8333333333333334),\n",
              " ('chakna', 'channa', 0.8333333333333334),\n",
              " ('charquicán', 'charquican', 0.9),\n",
              " ('cheddar', 'cheedar', 0.8571428571428572),\n",
              " ('cheese_curds', 'cheeze curds', 0.8333333333333334),\n",
              " ('cheese', 'cheeses', 0.8571428571428572),\n",
              " ('cheese', 'cheeze', 0.8333333333333334),\n",
              " ('cheeseburger', 'cheeseburgers', 0.9230769230769231),\n",
              " ('cheesesteak', 'cheesesteaks', 0.9166666666666666),\n",
              " ('chicken_nugget', 'chickennuggets', 0.8571428571428572),\n",
              " ('chimichanga', 'chimichangas', 0.9166666666666666),\n",
              " ('chimichurri', 'chimichurry', 0.9090909090909091),\n",
              " ('chocolate', 'chocolat', 0.8888888888888888),\n",
              " ('chosco', 'choco', 0.8333333333333334),\n",
              " ('churro', 'churri', 0.8333333333333334),\n",
              " ('completo', 'completa', 0.875),\n",
              " ('cookie_dough', 'cookiedough', 0.9166666666666666),\n",
              " ('crab_cake', 'crabcake', 0.8888888888888888),\n",
              " ('cream_cheese', 'creamcheese', 0.9166666666666666),\n",
              " ('crepes', 'crêpes', 0.8333333333333334),\n",
              " ('croquette', 'croquettes', 0.9),\n",
              " ('croquette', 'roquette', 0.8888888888888888),\n",
              " ('crème_brûlée', 'creme brûlée', 0.8333333333333334),\n",
              " ('crêpe', 'crêpes', 0.8333333333333334),\n",
              " ('curry_rice', 'curryrice', 0.9),\n",
              " ('cutlet', 'cutlets', 0.8571428571428572),\n",
              " ('dosas', 'doshas', 0.8333333333333334),\n",
              " ('empanadas', 'empanaditas', 0.8181818181818181),\n",
              " ('entrée', 'entre', 0.8333333333333334),\n",
              " ('fajitas', 'pajitas', 0.8571428571428572),\n",
              " ('falafel', 'falafal', 0.8571428571428572),\n",
              " ('falafel', 'fallafel', 0.875),\n",
              " ('fartons', 'cartons', 0.8571428571428572),\n",
              " ('finger_food', 'finger foods', 0.8333333333333334),\n",
              " ('fish_balls', 'fishballs', 0.9),\n",
              " ('fishball', 'fishballs', 0.8888888888888888),\n",
              " ('fritata', 'fritatta', 0.875),\n",
              " ('fritter', 'fritters', 0.875),\n",
              " ('gaifan', 'caifan', 0.8333333333333334),\n",
              " ('galangal', 'gakangal', 0.875),\n",
              " ('ganache', 'ganashe', 0.8571428571428572),\n",
              " ('gazpacho', 'gaspacho', 0.875),\n",
              " ('gimbap', 'kimbap', 0.8333333333333334),\n",
              " ('glass_noodles', 'glassnoodles', 0.9230769230769231),\n",
              " ('gordita', 'gorditas', 0.875),\n",
              " ('haggis', 'jaggis', 0.8333333333333334),\n",
              " ('hamburger', 'hamburgers', 0.9),\n",
              " ('harira', 'harina', 0.8333333333333334),\n",
              " ('home_fries', 'homefries', 0.9),\n",
              " ('hummus', 'yummus', 0.8333333333333334),\n",
              " ('hotdogs', 'notdogs', 0.8571428571428572),\n",
              " ('jaffas', 'jaffa', 0.8333333333333334),\n",
              " ('jajangmyeon', 'jajjangmyeon', 0.9166666666666666),\n",
              " ('japanese_cuisine', 'japanesecuisine', 0.9375),\n",
              " ('jell_o', 'jello', 0.8333333333333334),\n",
              " ('jajyangmyeon', 'jajjangmyeon', 0.9166666666666666),\n",
              " ('kalamai', 'kalamari', 0.875),\n",
              " ('khichdi', 'khichadi', 0.875),\n",
              " ('kimchi', 'kinchi', 0.8333333333333334),\n",
              " ('kleicha', 'leicha', 0.8571428571428572),\n",
              " ('kofta', 'koftas', 0.8333333333333334),\n",
              " ('korma', 'kormas', 0.8333333333333334),\n",
              " ('lasagna', 'lasagnas', 0.875),\n",
              " ('lasagnes', 'lasagnas', 0.875),\n",
              " ('limonana', 'limonada', 0.875),\n",
              " ('long_black', 'longblack', 0.9),\n",
              " ('lor_mee', 'lormee', 0.8571428571428572),\n",
              " ('mafalde', 'mafalda', 0.8571428571428572),\n",
              " ('mandoca', 'mandioca', 0.875),\n",
              " ('maple_syrup', 'maple sirup', 0.8181818181818181),\n",
              " ('margarita', 'margaritas', 0.9),\n",
              " ('mee_sua', 'meesua', 0.8571428571428572),\n",
              " ('melted_cheese', 'melted cheeze', 0.8461538461538461),\n",
              " ('milanesa', 'milanesas', 0.8888888888888888),\n",
              " ('milanesa', 'milanese', 0.875),\n",
              " ('millets', 'fillets', 0.8571428571428572),\n",
              " ('mojama', 'mojada', 0.8333333333333334),\n",
              " ('mooncake', 'mooncakes', 0.8888888888888888),\n",
              " ('mozarella', 'mozerella', 0.8888888888888888),\n",
              " ('mozzarella', 'mozzerella', 0.9),\n",
              " ('mozzarrella', 'mozzerella', 0.8181818181818181),\n",
              " ('onigiri', 'nigiri', 0.8571428571428572),\n",
              " ('oyster', 'oysters', 0.8571428571428572),\n",
              " ('pakoras', 'parkoras', 0.875),\n",
              " ('paloma', 'palma', 0.8333333333333334),\n",
              " ('pandan', 'pandany', 0.8571428571428572),\n",
              " ('panna_cotta', 'pannacotta', 0.9090909090909091),\n",
              " ('panna_cottas', 'pannacotta', 0.8333333333333334),\n",
              " ('parmesan', 'parmasan', 0.875),\n",
              " ('pasta', 'pastva', 0.8333333333333334),\n",
              " ('patties', 'pattie', 0.8571428571428572),\n",
              " ('peanut_butter', 'peanutbuttery', 0.8461538461538461),\n",
              " ('picadillo', 'bicadillo', 0.8888888888888888),\n",
              " ('picana', 'picaba', 0.8333333333333334),\n",
              " ('picodon', 'pico on', 0.8571428571428572),\n",
              " ('pierogi', 'perogi', 0.8571428571428572),\n",
              " ('pierogi', 'pierogis', 0.875),\n",
              " ('poke_bowl', 'pokebowl', 0.8888888888888888),\n",
              " ('poppadoms', 'popadoms', 0.8888888888888888),\n",
              " ('porcino', 'porcini', 0.8571428571428572),\n",
              " ('potage', 'pottage', 0.8571428571428572),\n",
              " ('potsticker', 'potstickers', 0.9090909090909091),\n",
              " ('pudding', 'puddings', 0.875),\n",
              " ('pupusa', 'pupusas', 0.8571428571428572),\n",
              " ('quiche', 'quiché', 0.8333333333333334),\n",
              " ('raviolis', 'ravioles', 0.875),\n",
              " ('rouladen', 'roulade', 0.875),\n",
              " ('salad', 'salade', 0.8333333333333334),\n",
              " ('salads', 'salade', 0.8333333333333334),\n",
              " ('salami', 'salam', 0.8333333333333334),\n",
              " ('salchipapas', 'salchipapa', 0.9090909090909091),\n",
              " ('saltah', 'salah', 0.8333333333333334),\n",
              " ('sambal', 'samba', 0.8333333333333334),\n",
              " ('sambar', 'samba', 0.8333333333333334),\n",
              " ('samgye_tang', 'samgyetang', 0.9090909090909091),\n",
              " ('samosa', 'samoa', 0.8333333333333334),\n",
              " ('sandwich', 'sandwichs', 0.8888888888888888),\n",
              " ('sandwich', 'sandwitch', 0.8888888888888888),\n",
              " ('sandwiches', 'sandwichs', 0.9),\n",
              " ('sandwiches', 'sandwinches', 0.9090909090909091),\n",
              " ('sangak', 'sangat', 0.8333333333333334),\n",
              " ('seitan', 'saitan', 0.8333333333333334),\n",
              " ('sheese', 'sheesy', 0.8333333333333334),\n",
              " ('shrimp', 'shrimps', 0.8571428571428572),\n",
              " ('sobrassada', 'sobrasada', 0.9),\n",
              " ('spaghetti', 'spaghettini', 0.8181818181818181),\n",
              " ('tabouleh', 'tabluleh', 0.875),\n",
              " ('tangyuan', 'tang yuan', 0.8888888888888888),\n",
              " ('tapenade', 'tapenades', 0.8888888888888888),\n",
              " ('taquito', 'taquitos', 0.875),\n",
              " ('tiramisu', 'tiramizu', 0.875),\n",
              " ('teriyaki', 'teriyaka', 0.875),\n",
              " ('teriyaki', 'terriyaki', 0.8888888888888888),\n",
              " ('thali', 'thaali', 0.8333333333333334),\n",
              " ('totopo', 'totopos', 0.8571428571428572),\n",
              " ('triibe', 'tribe', 0.8333333333333334),\n",
              " ('tteok_bokki', 'tteokbukki', 0.8181818181818181),\n",
              " ('tzatziki', 'tzarziki', 0.875),\n",
              " ('tzatziki', 'tzaziki', 0.875),\n",
              " ('uttapam', 'utthapam', 0.875),\n",
              " ('vegan_donuts', 'vegandonut', 0.8333333333333334),\n",
              " ('waffle', 'jaffle', 0.8333333333333334),\n",
              " ('waffles', 'raffles', 0.8571428571428572),\n",
              " ('wafu_dressing', 'wafuu dressing', 0.8571428571428572),\n",
              " ('wontons', 'wantons', 0.8571428571428572),\n",
              " ('zhaliang', 'zhajiang', 0.875),\n",
              " ('veg_options', 'veganoptions', 0.8333333333333334),\n",
              " ('veganise', 'veganaise', 0.8888888888888888),\n",
              " ('veganise', 'veganese', 0.875),\n",
              " ('vegetarian', 'vegeatarian', 0.9090909090909091),\n",
              " ('apricot', 'apricots', 0.875),\n",
              " ('avocado', 'advocado', 0.875),\n",
              " ('avocado', 'avocato', 0.8571428571428572),\n",
              " ('banana', 'bannana', 0.8571428571428572),\n",
              " ('bananas', 'bannanas', 0.875),\n",
              " ('berries', 'ferries', 0.8571428571428572),\n",
              " ('currant', 'currants', 0.875),\n",
              " ('guava', 'guavas', 0.8333333333333334),\n",
              " ('lemon', 'lemons', 0.8333333333333334),\n",
              " ('lingon_berries', 'lingonberries', 0.9285714285714286),\n",
              " ('orange', 'orang', 0.8333333333333334),\n",
              " ('papaya', 'papayas', 0.8571428571428572),\n",
              " ('raisin', 'rasin', 0.8333333333333334),\n",
              " ('tomato', 'tomate', 0.8333333333333334),\n",
              " ('tomato', 'tomatoe', 0.8571428571428572),\n",
              " ('basil', 'basils', 0.8333333333333334),\n",
              " ('chives', 'chiles', 0.8333333333333334),\n",
              " ('coriander', 'koriander', 0.8888888888888888),\n",
              " ('lavender', 'lavendar', 0.875),\n",
              " ('savory', '/savory', 0.8571428571428572),\n",
              " ('savory', 'savoy', 0.8333333333333334),\n",
              " ('zaatar', 'zattar', 0.8333333333333334),\n",
              " ('#_veganized', 'veganized', 0.8181818181818181),\n",
              " ('vegan', 'vegano', 0.8333333333333334),\n",
              " ('appetizer', 'appetizers', 0.9),\n",
              " ('buffet', 'bufet', 0.8333333333333334),\n",
              " ('desserts', 'desserys', 0.875),\n",
              " ('entree', 'entre', 0.8333333333333334),\n",
              " ('entree', 'entrees', 0.8571428571428572),\n",
              " ('snack', 'snack.', 0.8333333333333334),\n",
              " ('cheese_cake', 'cheescake', 0.8181818181818181),\n",
              " ('cheese_cake', 'cheese”cake', 0.9090909090909091),\n",
              " ('cheesecake', 'cheescake', 0.9),\n",
              " ('cheesecake', 'cheese”cake', 0.9090909090909091),\n",
              " ('cheesecakes', 'cheescake', 0.8181818181818181),\n",
              " ('cheesecakes', 'cheese”cake', 0.8181818181818181),\n",
              " ('donuts', 'dunuts', 0.8333333333333334),\n",
              " ('profiterole', 'profiteroles', 0.9166666666666666),\n",
              " ('puff_pastry', 'puffpastry', 0.9090909090909091),\n",
              " ('shortcake', 'shortcakes', 0.9),\n",
              " ('macadamia', 'macademia', 0.8888888888888888),\n",
              " ('seeds', 'sseeds', 0.8333333333333334),\n",
              " ('walnut', 'wallnut', 0.8571428571428572),\n",
              " ('cinnamon', 'cinnabon', 0.875),\n",
              " ('pimienta', 'pimiento', 0.875),\n",
              " ('tamarind', 'tamarindo', 0.8888888888888888),\n",
              " ('alfalfa_sprouts', 'alfalfa sprouts', 0.9333333333333333),\n",
              " ('alfalfa_sprout', 'alfalfa sprouts', 0.8666666666666667),\n",
              " ('asparagus', 'aspargus', 0.8888888888888888),\n",
              " ('baby_corn', 'babycorn', 0.8888888888888888),\n",
              " ('bean_sprouts', 'beansprout', 0.8333333333333334),\n",
              " ('beansprouts', 'beansprout', 0.9090909090909091),\n",
              " ('broccolini', 'broccolinni', 0.9090909090909091),\n",
              " ('cauliflower', 'cauliflowers', 0.9166666666666666),\n",
              " ('courgette', 'corgette', 0.8888888888888888),\n",
              " ('courgette', 'courgettes', 0.9),\n",
              " ('leafy_greens', 'leafy green', 0.8333333333333334),\n",
              " ('lentils', 'lentiln', 0.8571428571428572),\n",
              " ('parsnip', 'parsnips', 0.875),\n",
              " ('potato', 'potatoe', 0.8571428571428572),\n",
              " ('potatoes', 'potatoe', 0.875),\n",
              " ('sweet_potato', 'sweet potatoe', 0.8461538461538461),\n",
              " ('sweet_potatoes', 'sweet potatoe', 0.8571428571428572),\n",
              " ('zucchini', 'zuccini', 0.875)]"
            ]
          },
          "metadata": {
            "tags": []
          },
          "execution_count": 66
        }
      ]
    },
    {
      "cell_type": "code",
      "metadata": {
        "id": "pNPrKybf5gsJ",
        "colab_type": "code",
        "colab": {
          "base_uri": "https://localhost:8080/",
          "height": 34
        },
        "outputId": "3a86c5a3-20b1-42c5-9818-0a478964494e"
      },
      "source": [
        "len(leven_result)"
      ],
      "execution_count": 68,
      "outputs": [
        {
          "output_type": "execute_result",
          "data": {
            "text/plain": [
              "372"
            ]
          },
          "metadata": {
            "tags": []
          },
          "execution_count": 68
        }
      ]
    },
    {
      "cell_type": "code",
      "metadata": {
        "id": "QQt3QG7V5qaO",
        "colab_type": "code",
        "colab": {
          "base_uri": "https://localhost:8080/",
          "height": 54
        },
        "outputId": "13621501-4146-4151-8ad6-573886eb0b29"
      },
      "source": [
        "json.dumps(leven_result)"
      ],
      "execution_count": 70,
      "outputs": [
        {
          "output_type": "execute_result",
          "data": {
            "text/plain": [
              "'[[\"robertson_quay\", \"robertsonquay\", 0.9285714285714286], [\"al_ain\", \"alain\", 0.8333333333333334], [\"algeria\", \"almeria\", 0.8571428571428572], [\"almer\\\\u00eda\", \"almeria\", 0.8571428571428572], [\"argentina\", \"argentinian\", 0.8181818181818181], [\"athens\", \"athena\", 0.8333333333333334], [\"banda\", \"bandra\", 0.8333333333333334], [\"banha\", \"bancha\", 0.8333333333333334], [\"barcelona\", \"barceloneta\", 0.8181818181818181], [\"batala\", \"batata\", 0.8333333333333334], [\"beirut\", \"beiruti\", 0.8571428571428572], [\"bergamo\", \"bergamot\", 0.875], [\"berlin\", \"berlina\", 0.8571428571428572], [\"berlin\", \"berl\\\\u00edn\", 0.8333333333333334], [\"birmingham\", \"birningham\", 0.9], [\"brussels\", \"brussel\", 0.875], [\"bucheon\", \"bukcheon\", 0.875], [\"buffalo\", \"bufflo\", 0.8571428571428572], [\"canc\\\\u00fan\", \"cancun\", 0.8333333333333334], [\"canoas\", \"canovas\", 0.8571428571428572], [\"cape_town\", \"capetown\", 0.8888888888888888], [\"castanhal\", \"castanhas\", 0.8888888888888888], [\"chile\", \"chiles\", 0.8333333333333334], [\"colombia\", \"colombian\", 0.8888888888888888], [\"colorado\", \"colorido\", 0.875], [\"datong\", \"katong\", 0.8333333333333334], [\"durban\", \"urban\", 0.8333333333333334], [\"fujian\", \"fusian\", 0.8333333333333334], [\"greece\", \"reece\", 0.8333333333333334], [\"guinea\", \"guinda\", 0.8333333333333334], [\"huizhou\", \"guizhou\", 0.8571428571428572], [\"huntington_beach\", \"huntingtonbeach\", 0.9375], [\"kerala\", \"kerela\", 0.8333333333333334], [\"khanna\", \"channa\", 0.8333333333333334], [\"killeen\", \"killee\", 0.8571428571428572], [\"krak\\\\u00f3w\", \"krakow\", 0.8333333333333334], [\"makeni\", \"makini\", 0.8333333333333334], [\"malaysia\", \"malasia\", 0.875], [\"manisa\", \"manis\", 0.8333333333333334], [\"marrakech\", \"marrakesh\", 0.8888888888888888], [\"mexico\", \"m\\\\u00e9xico\", 0.8333333333333334], [\"milan\", \"milano\", 0.8333333333333334], [\"munger\", \"hunger\", 0.8333333333333334], [\"m\\\\u00e1laga\", \"malaga\", 0.8333333333333334], [\"naples\", \"maples\", 0.8333333333333334], [\"padang\", \"panang\", 0.8333333333333334], [\"palmas\", \"palma\", 0.8333333333333334], [\"porto\", \"poroto\", 0.8333333333333334], [\"ranchi\", \"ranch\\\\n\", 0.8333333333333334], [\"rancho_cucamonga\", \"ranchocucamonga\", 0.9375], [\"reading\", \"redding\", 0.8571428571428572], [\"rimini\", \"crimini\", 0.8571428571428572], [\"romania\", \"romana\", 0.8571428571428572], [\"sacaba\", \"sababa\", 0.8333333333333334], [\"samara\", \"samaya\", 0.8333333333333334], [\"san_antonio\", \"sanantonio\", 0.9090909090909091], [\"san_rafael\", \"sanrafael\", 0.9], [\"serra\", \"iserra\", 0.8333333333333334], [\"seville\", \"sevilla\", 0.8571428571428572], [\"shangzhi\", \"shangahi\", 0.875], [\"sivas\", \"si vas\", 0.8333333333333334], [\"soacha\", \"shacha\", 0.8333333333333334], [\"suizhou\", \"guizhou\", 0.8571428571428572], [\"sullana\", \"sultana\", 0.8571428571428572], [\"tabaco\", \"tabao\", 0.8333333333333334], [\"tamale\", \"tamal\", 0.8333333333333334], [\"tartus\", \"tarts\", 0.8333333333333334], [\"tempe\", \"temppe\", 0.8333333333333334], [\"penang\", \"panang\", 0.8333333333333334], [\"venezuela\", \"venezuelan\", 0.9], [\"victoria\", \"victorian\", 0.8888888888888888], [\"zhanjiang\", \"zhajiang\", 0.8888888888888888], [\"zhejiang\", \"zhajiang\", 0.875], [\"rupiah\", \"rupiahs\", 0.8571428571428572], [\"american\", \"america\", 0.875], [\"bengali\", \"bengal\", 0.8571428571428572], [\"chinese\", \"chinesse\", 0.875], [\"eastern\", \"easter\", 0.8571428571428572], [\"egyptian\", \"egyptians\", 0.8888888888888888], [\"ethiopian\", \"ethopian\", 0.8888888888888888], [\"hawaiian\", \"haiwaiian\", 0.8888888888888888], [\"indonesian\", \"indonasian\", 0.9], [\"israeli\", \"israelis\", 0.875], [\"italian\", \"italia\", 0.8571428571428572], [\"italian\", \"italien\", 0.8571428571428572], [\"lebanese\", \"libanese\", 0.875], [\"nyonya\", \"nonya\", 0.8333333333333334], [\"peshawari\", \"peshwari\", 0.8888888888888888], [\"punjabi\", \"panjabi\", 0.8571428571428572], [\"rajasthani\", \"rahasthani\", 0.9], [\"tatar\", \"tartar\", 0.8333333333333334], [\"turkish\", \"tuskish\", 0.8571428571428572], [\"zambian\", \"cambian\", 0.8571428571428572], [\"fourth\", \"fourths\", 0.8571428571428572], [\"third\", \"thirds\", 0.8333333333333334], [\"brownice\", \"brownrice\", 0.8888888888888888], [\"burger_king\", \"burgerking\", 0.9090909090909091], [\"coco_ichibanya\", \"cocoichibanya\", 0.9285714285714286], [\"jaggi\", \"jaggis\", 0.8333333333333334], [\"kind_kones\", \"kindkones\", 0.9], [\"nomvnom\", \"nom nom\", 0.8571428571428572], [\"nutella\", \"notella\", 0.8571428571428572], [\"realfoods\", \"real foods\", 0.9], [\"scramble\", \"scamble\", 0.875], [\"vikas\", \"vikasa\", 0.8333333333333334], [\"million\", \"zillion\", 0.8571428571428572], [\"coffee\", \"toffee\", 0.8333333333333334], [\"espresso\", \"expresso\", 0.875], [\"frappuccino\", \"frapuchino\", 0.8181818181818181], [\"green_tea\", \"greentea\", 0.8888888888888888], [\"lei_cha\", \"leicha\", 0.8571428571428572], [\"matcha\", \"matchal\", 0.8571428571428572], [\"smoothie\", \"smothie\", 0.875], [\"soy_latte\", \"soylatte\", 0.8888888888888888], [\"chapati\", \"chapatis\", 0.875], [\"matzoh\", \"matzah\", 0.8333333333333334], [\"paratha\", \"parathas\", 0.875], [\"tortilla\", \"tortilha\", 0.875], [\"apple_sauce\", \"applesauce\", 0.9090909090909091], [\"chilies\", \"chiles\", 0.8571428571428572], [\"hawaij\", \"hawaii\", 0.8333333333333334], [\"ketchup\", \"ketchups\", 0.875], [\"masala\", \"marsala\", 0.8571428571428572], [\"mayonnaise\", \"mayonaise\", 0.9], [\"peanut_sauce\", \"peanutsauce\", 0.9166666666666666], [\"shichimi\", \"sichimi\", 0.875], [\"sweet_n sour\", \"sweet n sour\", 0.9166666666666666], [\"tabasco\", \"tobasco\", 0.8571428571428572], [\"tartare\", \"tartar\", 0.8571428571428572], [\"arancina\", \"arancini\", 0.875], [\"arepa\", \"arepas\", 0.8333333333333334], [\"asi\\\\u00e1tico\", \"asi\\\\u00e1ticos\", 0.8888888888888888], [\"babaganoush\", \"babagonoush\", 0.9090909090909091], [\"babbaganoush\", \"babagonoush\", 0.8333333333333334], [\"bacon\", \"bacons\", 0.8333333333333334], [\"bacon\", \"beacon\", 0.8333333333333334], [\"balado\", \"belado\", 0.8333333333333334], [\"balsamic_vinegar\", \"balsamicvinegar\", 0.9375], [\"banchan\", \"bancha\", 0.8571428571428572], [\"barbecue\", \"barbeque\", 0.875], [\"batida\", \"batido\", 0.8333333333333334], [\"beancurd_skin\", \"beancurdskin\", 0.9230769230769231], [\"beignet\", \"beignets\", 0.875], [\"bento\", \"bentos\", 0.8333333333333334], [\"biryani\", \"biriyani\", 0.875], [\"blondie\", \"blonde\", 0.8571428571428572], [\"bolognese\", \"bolgnese\", 0.8888888888888888], [\"breadstick\", \"breadsticks\", 0.9090909090909091], [\"brown_rice\", \"brownrice\", 0.9], [\"bruschetta\", \"bruschette\", 0.9], [\"buddha_bowl\", \"buddha bowel\", 0.8333333333333334], [\"buddha\\'s_delight\", \"buddha delight\", 0.8125], [\"budino\", \"budin\", 0.8333333333333334], [\"burrito\", \"kurrito\", 0.8571428571428572], [\"calentica\", \"calentita\", 0.8888888888888888], [\"carnitas\", \"carnistas\", 0.8888888888888888], [\"cassata\", \"passata\", 0.8571428571428572], [\"cemita\", \"cremita\", 0.8571428571428572], [\"chacha\", \"shacha\", 0.8333333333333334], [\"chakna\", \"channa\", 0.8333333333333334], [\"charquic\\\\u00e1n\", \"charquican\", 0.9], [\"cheddar\", \"cheedar\", 0.8571428571428572], [\"cheese_curds\", \"cheeze curds\", 0.8333333333333334], [\"cheese\", \"cheeses\", 0.8571428571428572], [\"cheese\", \"cheeze\", 0.8333333333333334], [\"cheeseburger\", \"cheeseburgers\", 0.9230769230769231], [\"cheesesteak\", \"cheesesteaks\", 0.9166666666666666], [\"chicken_nugget\", \"chickennuggets\", 0.8571428571428572], [\"chimichanga\", \"chimichangas\", 0.9166666666666666], [\"chimichurri\", \"chimichurry\", 0.9090909090909091], [\"chocolate\", \"chocolat\", 0.8888888888888888], [\"chosco\", \"choco\", 0.8333333333333334], [\"churro\", \"churri\", 0.8333333333333334], [\"completo\", \"completa\", 0.875], [\"cookie_dough\", \"cookiedough\", 0.9166666666666666], [\"crab_cake\", \"crabcake\", 0.8888888888888888], [\"cream_cheese\", \"creamcheese\", 0.9166666666666666], [\"crepes\", \"cr\\\\u00eapes\", 0.8333333333333334], [\"croquette\", \"croquettes\", 0.9], [\"croquette\", \"roquette\", 0.8888888888888888], [\"cr\\\\u00e8me_br\\\\u00fbl\\\\u00e9e\", \"creme br\\\\u00fbl\\\\u00e9e\", 0.8333333333333334], [\"cr\\\\u00eape\", \"cr\\\\u00eapes\", 0.8333333333333334], [\"curry_rice\", \"curryrice\", 0.9], [\"cutlet\", \"cutlets\", 0.8571428571428572], [\"dosas\", \"doshas\", 0.8333333333333334], [\"empanadas\", \"empanaditas\", 0.8181818181818181], [\"entr\\\\u00e9e\", \"entre\", 0.8333333333333334], [\"fajitas\", \"pajitas\", 0.8571428571428572], [\"falafel\", \"falafal\", 0.8571428571428572], [\"falafel\", \"fallafel\", 0.875], [\"fartons\", \"cartons\", 0.8571428571428572], [\"finger_food\", \"finger foods\", 0.8333333333333334], [\"fish_balls\", \"fishballs\", 0.9], [\"fishball\", \"fishballs\", 0.8888888888888888], [\"fritata\", \"fritatta\", 0.875], [\"fritter\", \"fritters\", 0.875], [\"gaifan\", \"caifan\", 0.8333333333333334], [\"galangal\", \"gakangal\", 0.875], [\"ganache\", \"ganashe\", 0.8571428571428572], [\"gazpacho\", \"gaspacho\", 0.875], [\"gimbap\", \"kimbap\", 0.8333333333333334], [\"glass_noodles\", \"glassnoodles\", 0.9230769230769231], [\"gordita\", \"gorditas\", 0.875], [\"haggis\", \"jaggis\", 0.8333333333333334], [\"hamburger\", \"hamburgers\", 0.9], [\"harira\", \"harina\", 0.8333333333333334], [\"home_fries\", \"homefries\", 0.9], [\"hummus\", \"yummus\", 0.8333333333333334], [\"hotdogs\", \"notdogs\", 0.8571428571428572], [\"jaffas\", \"jaffa\", 0.8333333333333334], [\"jajangmyeon\", \"jajjangmyeon\", 0.9166666666666666], [\"japanese_cuisine\", \"japanesecuisine\", 0.9375], [\"jell_o\", \"jello\", 0.8333333333333334], [\"jajyangmyeon\", \"jajjangmyeon\", 0.9166666666666666], [\"kalamai\", \"kalamari\", 0.875], [\"khichdi\", \"khichadi\", 0.875], [\"kimchi\", \"kinchi\", 0.8333333333333334], [\"kleicha\", \"leicha\", 0.8571428571428572], [\"kofta\", \"koftas\", 0.8333333333333334], [\"korma\", \"kormas\", 0.8333333333333334], [\"lasagna\", \"lasagnas\", 0.875], [\"lasagnes\", \"lasagnas\", 0.875], [\"limonana\", \"limonada\", 0.875], [\"long_black\", \"longblack\", 0.9], [\"lor_mee\", \"lormee\", 0.8571428571428572], [\"mafalde\", \"mafalda\", 0.8571428571428572], [\"mandoca\", \"mandioca\", 0.875], [\"maple_syrup\", \"maple sirup\", 0.8181818181818181], [\"margarita\", \"margaritas\", 0.9], [\"mee_sua\", \"meesua\", 0.8571428571428572], [\"melted_cheese\", \"melted cheeze\", 0.8461538461538461], [\"milanesa\", \"milanesas\", 0.8888888888888888], [\"milanesa\", \"milanese\", 0.875], [\"millets\", \"fillets\", 0.8571428571428572], [\"mojama\", \"mojada\", 0.8333333333333334], [\"mooncake\", \"mooncakes\", 0.8888888888888888], [\"mozarella\", \"mozerella\", 0.8888888888888888], [\"mozzarella\", \"mozzerella\", 0.9], [\"mozzarrella\", \"mozzerella\", 0.8181818181818181], [\"onigiri\", \"nigiri\", 0.8571428571428572], [\"oyster\", \"oysters\", 0.8571428571428572], [\"pakoras\", \"parkoras\", 0.875], [\"paloma\", \"palma\", 0.8333333333333334], [\"pandan\", \"pandany\", 0.8571428571428572], [\"panna_cotta\", \"pannacotta\", 0.9090909090909091], [\"panna_cottas\", \"pannacotta\", 0.8333333333333334], [\"parmesan\", \"parmasan\", 0.875], [\"pasta\", \"pastva\", 0.8333333333333334], [\"patties\", \"pattie\", 0.8571428571428572], [\"peanut_butter\", \"peanutbuttery\", 0.8461538461538461], [\"picadillo\", \"bicadillo\", 0.8888888888888888], [\"picana\", \"picaba\", 0.8333333333333334], [\"picodon\", \"pico on\", 0.8571428571428572], [\"pierogi\", \"perogi\", 0.8571428571428572], [\"pierogi\", \"pierogis\", 0.875], [\"poke_bowl\", \"pokebowl\", 0.8888888888888888], [\"poppadoms\", \"popadoms\", 0.8888888888888888], [\"porcino\", \"porcini\", 0.8571428571428572], [\"potage\", \"pottage\", 0.8571428571428572], [\"potsticker\", \"potstickers\", 0.9090909090909091], [\"pudding\", \"puddings\", 0.875], [\"pupusa\", \"pupusas\", 0.8571428571428572], [\"quiche\", \"quich\\\\u00e9\", 0.8333333333333334], [\"raviolis\", \"ravioles\", 0.875], [\"rouladen\", \"roulade\", 0.875], [\"salad\", \"salade\", 0.8333333333333334], [\"salads\", \"salade\", 0.8333333333333334], [\"salami\", \"salam\", 0.8333333333333334], [\"salchipapas\", \"salchipapa\", 0.9090909090909091], [\"saltah\", \"salah\", 0.8333333333333334], [\"sambal\", \"samba\", 0.8333333333333334], [\"sambar\", \"samba\", 0.8333333333333334], [\"samgye_tang\", \"samgyetang\", 0.9090909090909091], [\"samosa\", \"samoa\", 0.8333333333333334], [\"sandwich\", \"sandwichs\", 0.8888888888888888], [\"sandwich\", \"sandwitch\", 0.8888888888888888], [\"sandwiches\", \"sandwichs\", 0.9], [\"sandwiches\", \"sandwinches\", 0.9090909090909091], [\"sangak\", \"sangat\", 0.8333333333333334], [\"seitan\", \"saitan\", 0.8333333333333334], [\"sheese\", \"sheesy\", 0.8333333333333334], [\"shrimp\", \"shrimps\", 0.8571428571428572], [\"sobrassada\", \"sobrasada\", 0.9], [\"spaghetti\", \"spaghettini\", 0.8181818181818181], [\"tabouleh\", \"tabluleh\", 0.875], [\"tangyuan\", \"tang yuan\", 0.8888888888888888], [\"tapenade\", \"tapenades\", 0.8888888888888888], [\"taquito\", \"taquitos\", 0.875], [\"tiramisu\", \"tiramizu\", 0.875], [\"teriyaki\", \"teriyaka\", 0.875], [\"teriyaki\", \"terriyaki\", 0.8888888888888888], [\"thali\", \"thaali\", 0.8333333333333334], [\"totopo\", \"totopos\", 0.8571428571428572], [\"triibe\", \"tribe\", 0.8333333333333334], [\"tteok_bokki\", \"tteokbukki\", 0.8181818181818181], [\"tzatziki\", \"tzarziki\", 0.875], [\"tzatziki\", \"tzaziki\", 0.875], [\"uttapam\", \"utthapam\", 0.875], [\"vegan_donuts\", \"vegandonut\", 0.8333333333333334], [\"waffle\", \"jaffle\", 0.8333333333333334], [\"waffles\", \"raffles\", 0.8571428571428572], [\"wafu_dressing\", \"wafuu dressing\", 0.8571428571428572], [\"wontons\", \"wantons\", 0.8571428571428572], [\"zhaliang\", \"zhajiang\", 0.875], [\"veg_options\", \"veganoptions\", 0.8333333333333334], [\"veganise\", \"veganaise\", 0.8888888888888888], [\"veganise\", \"veganese\", 0.875], [\"vegetarian\", \"vegeatarian\", 0.9090909090909091], [\"apricot\", \"apricots\", 0.875], [\"avocado\", \"advocado\", 0.875], [\"avocado\", \"avocato\", 0.8571428571428572], [\"banana\", \"bannana\", 0.8571428571428572], [\"bananas\", \"bannanas\", 0.875], [\"berries\", \"ferries\", 0.8571428571428572], [\"currant\", \"currants\", 0.875], [\"guava\", \"guavas\", 0.8333333333333334], [\"lemon\", \"lemons\", 0.8333333333333334], [\"lingon_berries\", \"lingonberries\", 0.9285714285714286], [\"orange\", \"orang\", 0.8333333333333334], [\"papaya\", \"papayas\", 0.8571428571428572], [\"raisin\", \"rasin\", 0.8333333333333334], [\"tomato\", \"tomate\", 0.8333333333333334], [\"tomato\", \"tomatoe\", 0.8571428571428572], [\"basil\", \"basils\", 0.8333333333333334], [\"chives\", \"chiles\", 0.8333333333333334], [\"coriander\", \"koriander\", 0.8888888888888888], [\"lavender\", \"lavendar\", 0.875], [\"savory\", \"/savory\", 0.8571428571428572], [\"savory\", \"savoy\", 0.8333333333333334], [\"zaatar\", \"zattar\", 0.8333333333333334], [\"#_veganized\", \"veganized\", 0.8181818181818181], [\"vegan\", \"vegano\", 0.8333333333333334], [\"appetizer\", \"appetizers\", 0.9], [\"buffet\", \"bufet\", 0.8333333333333334], [\"desserts\", \"desserys\", 0.875], [\"entree\", \"entre\", 0.8333333333333334], [\"entree\", \"entrees\", 0.8571428571428572], [\"snack\", \"snack.\", 0.8333333333333334], [\"cheese_cake\", \"cheescake\", 0.8181818181818181], [\"cheese_cake\", \"cheese\\\\u201dcake\", 0.9090909090909091], [\"cheesecake\", \"cheescake\", 0.9], [\"cheesecake\", \"cheese\\\\u201dcake\", 0.9090909090909091], [\"cheesecakes\", \"cheescake\", 0.8181818181818181], [\"cheesecakes\", \"cheese\\\\u201dcake\", 0.8181818181818181], [\"donuts\", \"dunuts\", 0.8333333333333334], [\"profiterole\", \"profiteroles\", 0.9166666666666666], [\"puff_pastry\", \"puffpastry\", 0.9090909090909091], [\"shortcake\", \"shortcakes\", 0.9], [\"macadamia\", \"macademia\", 0.8888888888888888], [\"seeds\", \"sseeds\", 0.8333333333333334], [\"walnut\", \"wallnut\", 0.8571428571428572], [\"cinnamon\", \"cinnabon\", 0.875], [\"pimienta\", \"pimiento\", 0.875], [\"tamarind\", \"tamarindo\", 0.8888888888888888], [\"alfalfa_sprouts\", \"alfalfa sprouts\", 0.9333333333333333], [\"alfalfa_sprout\", \"alfalfa sprouts\", 0.8666666666666667], [\"asparagus\", \"aspargus\", 0.8888888888888888], [\"baby_corn\", \"babycorn\", 0.8888888888888888], [\"bean_sprouts\", \"beansprout\", 0.8333333333333334], [\"beansprouts\", \"beansprout\", 0.9090909090909091], [\"broccolini\", \"broccolinni\", 0.9090909090909091], [\"cauliflower\", \"cauliflowers\", 0.9166666666666666], [\"courgette\", \"corgette\", 0.8888888888888888], [\"courgette\", \"courgettes\", 0.9], [\"leafy_greens\", \"leafy green\", 0.8333333333333334], [\"lentils\", \"lentiln\", 0.8571428571428572], [\"parsnip\", \"parsnips\", 0.875], [\"potato\", \"potatoe\", 0.8571428571428572], [\"potatoes\", \"potatoe\", 0.875], [\"sweet_potato\", \"sweet potatoe\", 0.8461538461538461], [\"sweet_potatoes\", \"sweet potatoe\", 0.8571428571428572], [\"zucchini\", \"zuccini\", 0.875]]'"
            ]
          },
          "metadata": {
            "tags": []
          },
          "execution_count": 70
        }
      ]
    },
    {
      "cell_type": "code",
      "metadata": {
        "id": "Ei00fmG46YmZ",
        "colab_type": "code",
        "colab": {}
      },
      "source": [
        "with open(\"most_possible_dupes.txt\", \"w\") as output:\n",
        "    output.write(str(leven_result))"
      ],
      "execution_count": 0,
      "outputs": []
    },
    {
      "cell_type": "code",
      "metadata": {
        "id": "kdhLkq9d68ij",
        "colab_type": "code",
        "colab": {}
      },
      "source": [
        ""
      ],
      "execution_count": 0,
      "outputs": []
    }
  ]
}