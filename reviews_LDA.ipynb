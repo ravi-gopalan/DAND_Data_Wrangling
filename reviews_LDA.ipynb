{
  "nbformat": 4,
  "nbformat_minor": 0,
  "metadata": {
    "colab": {
      "name": "reviews_LDA.ipynb",
      "provenance": [],
      "include_colab_link": true
    },
    "kernelspec": {
      "name": "python3",
      "display_name": "Python 3"
    },
    "accelerator": "GPU"
  },
  "cells": [
    {
      "cell_type": "markdown",
      "metadata": {
        "id": "view-in-github",
        "colab_type": "text"
      },
      "source": [
        "<a href=\"https://colab.research.google.com/github/ravi-gopalan/DAND_Data_Wrangling/blob/master/reviews_LDA.ipynb\" target=\"_parent\"><img src=\"https://colab.research.google.com/assets/colab-badge.svg\" alt=\"Open In Colab\"/></a>"
      ]
    },
    {
      "cell_type": "code",
      "metadata": {
        "id": "Qip8eLUo8IbF",
        "colab_type": "code",
        "colab": {
          "base_uri": "https://localhost:8080/",
          "height": 141
        },
        "outputId": "488a8f65-aa6e-46cb-c33c-0a0627101351"
      },
      "source": [
        "from google.colab import drive\n",
        "drive.mount('/gdrive')\n",
        "%cd /gdrive"
      ],
      "execution_count": 1,
      "outputs": [
        {
          "output_type": "stream",
          "text": [
            "Go to this URL in a browser: https://accounts.google.com/o/oauth2/auth?client_id=947318989803-6bn6qk8qdgf4n4g3pfee6491hc0brc4i.apps.googleusercontent.com&redirect_uri=urn%3aietf%3awg%3aoauth%3a2.0%3aoob&response_type=code&scope=email%20https%3a%2f%2fwww.googleapis.com%2fauth%2fdocs.test%20https%3a%2f%2fwww.googleapis.com%2fauth%2fdrive%20https%3a%2f%2fwww.googleapis.com%2fauth%2fdrive.photos.readonly%20https%3a%2f%2fwww.googleapis.com%2fauth%2fpeopleapi.readonly\n",
            "\n",
            "Enter your authorization code:\n",
            "··········\n",
            "Mounted at /gdrive\n",
            "/gdrive\n"
          ],
          "name": "stdout"
        }
      ]
    },
    {
      "cell_type": "code",
      "metadata": {
        "id": "9nJFbgPz8KJr",
        "colab_type": "code",
        "colab": {
          "base_uri": "https://localhost:8080/",
          "height": 34
        },
        "outputId": "78c56848-2d31-4422-c985-755d2f87f8c5"
      },
      "source": [
        "cd '/gdrive/My Drive/abv_reviews'"
      ],
      "execution_count": 2,
      "outputs": [
        {
          "output_type": "stream",
          "text": [
            "/gdrive/My Drive/abv_reviews\n"
          ],
          "name": "stdout"
        }
      ]
    },
    {
      "cell_type": "code",
      "metadata": {
        "id": "6TI7HDRBpngh",
        "colab_type": "code",
        "colab": {
          "base_uri": "https://localhost:8080/",
          "height": 695
        },
        "outputId": "1ab0c54f-f48c-4954-8996-e9bbad4a5676"
      },
      "source": [
        "!pip install emot\n",
        "!pip install pyLDAvis"
      ],
      "execution_count": 4,
      "outputs": [
        {
          "output_type": "stream",
          "text": [
            "Collecting emot\n",
            "  Downloading https://files.pythonhosted.org/packages/49/07/20001ade19873de611b7b66a4d5e5aabbf190d65abea337d5deeaa2bc3de/emot-2.1-py3-none-any.whl\n",
            "Installing collected packages: emot\n",
            "Successfully installed emot-2.1\n",
            "Collecting pyLDAvis\n",
            "\u001b[?25l  Downloading https://files.pythonhosted.org/packages/a5/3a/af82e070a8a96e13217c8f362f9a73e82d61ac8fff3a2561946a97f96266/pyLDAvis-2.1.2.tar.gz (1.6MB)\n",
            "\u001b[K     |████████████████████████████████| 1.6MB 3.5MB/s \n",
            "\u001b[?25hRequirement already satisfied: wheel>=0.23.0 in /usr/local/lib/python3.6/dist-packages (from pyLDAvis) (0.33.6)\n",
            "Requirement already satisfied: numpy>=1.9.2 in /usr/local/lib/python3.6/dist-packages (from pyLDAvis) (1.17.4)\n",
            "Requirement already satisfied: scipy>=0.18.0 in /usr/local/lib/python3.6/dist-packages (from pyLDAvis) (1.3.3)\n",
            "Requirement already satisfied: pandas>=0.17.0 in /usr/local/lib/python3.6/dist-packages (from pyLDAvis) (0.25.3)\n",
            "Requirement already satisfied: joblib>=0.8.4 in /usr/local/lib/python3.6/dist-packages (from pyLDAvis) (0.14.1)\n",
            "Requirement already satisfied: jinja2>=2.7.2 in /usr/local/lib/python3.6/dist-packages (from pyLDAvis) (2.10.3)\n",
            "Requirement already satisfied: numexpr in /usr/local/lib/python3.6/dist-packages (from pyLDAvis) (2.7.0)\n",
            "Requirement already satisfied: pytest in /usr/local/lib/python3.6/dist-packages (from pyLDAvis) (3.6.4)\n",
            "Requirement already satisfied: future in /usr/local/lib/python3.6/dist-packages (from pyLDAvis) (0.16.0)\n",
            "Collecting funcy\n",
            "\u001b[?25l  Downloading https://files.pythonhosted.org/packages/ce/4b/6ffa76544e46614123de31574ad95758c421aae391a1764921b8a81e1eae/funcy-1.14.tar.gz (548kB)\n",
            "\u001b[K     |████████████████████████████████| 552kB 50.9MB/s \n",
            "\u001b[?25hRequirement already satisfied: python-dateutil>=2.6.1 in /usr/local/lib/python3.6/dist-packages (from pandas>=0.17.0->pyLDAvis) (2.6.1)\n",
            "Requirement already satisfied: pytz>=2017.2 in /usr/local/lib/python3.6/dist-packages (from pandas>=0.17.0->pyLDAvis) (2018.9)\n",
            "Requirement already satisfied: MarkupSafe>=0.23 in /usr/local/lib/python3.6/dist-packages (from jinja2>=2.7.2->pyLDAvis) (1.1.1)\n",
            "Requirement already satisfied: six>=1.10.0 in /usr/local/lib/python3.6/dist-packages (from pytest->pyLDAvis) (1.12.0)\n",
            "Requirement already satisfied: py>=1.5.0 in /usr/local/lib/python3.6/dist-packages (from pytest->pyLDAvis) (1.8.0)\n",
            "Requirement already satisfied: atomicwrites>=1.0 in /usr/local/lib/python3.6/dist-packages (from pytest->pyLDAvis) (1.3.0)\n",
            "Requirement already satisfied: setuptools in /usr/local/lib/python3.6/dist-packages (from pytest->pyLDAvis) (42.0.2)\n",
            "Requirement already satisfied: attrs>=17.4.0 in /usr/local/lib/python3.6/dist-packages (from pytest->pyLDAvis) (19.3.0)\n",
            "Requirement already satisfied: pluggy<0.8,>=0.5 in /usr/local/lib/python3.6/dist-packages (from pytest->pyLDAvis) (0.7.1)\n",
            "Requirement already satisfied: more-itertools>=4.0.0 in /usr/local/lib/python3.6/dist-packages (from pytest->pyLDAvis) (8.0.2)\n",
            "Building wheels for collected packages: pyLDAvis, funcy\n",
            "  Building wheel for pyLDAvis (setup.py) ... \u001b[?25l\u001b[?25hdone\n",
            "  Created wheel for pyLDAvis: filename=pyLDAvis-2.1.2-py2.py3-none-any.whl size=97711 sha256=1f434b6ae635f7f0a0c4cda64f4602c94f28b4403233d9347112ed98ebb4f163\n",
            "  Stored in directory: /root/.cache/pip/wheels/98/71/24/513a99e58bb6b8465bae4d2d5e9dba8f0bef8179e3051ac414\n",
            "  Building wheel for funcy (setup.py) ... \u001b[?25l\u001b[?25hdone\n",
            "  Created wheel for funcy: filename=funcy-1.14-py2.py3-none-any.whl size=32040 sha256=8f981a2533168dae573282c97d793f3bfb2f40443e2a13acedda345674ea8fab\n",
            "  Stored in directory: /root/.cache/pip/wheels/20/5a/d8/1d875df03deae6f178dfdf70238cca33f948ef8a6f5209f2eb\n",
            "Successfully built pyLDAvis funcy\n",
            "Installing collected packages: funcy, pyLDAvis\n",
            "Successfully installed funcy-1.14 pyLDAvis-2.1.2\n"
          ],
          "name": "stdout"
        }
      ]
    },
    {
      "cell_type": "code",
      "metadata": {
        "id": "HlhD9soF8MOI",
        "colab_type": "code",
        "colab": {}
      },
      "source": [
        "import pandas as pd\n",
        "import numpy as np\n",
        "import random\n",
        "import json\n",
        "from tqdm import tqdm\n",
        "from collections import Counter,OrderedDict\n",
        "import matplotlib.pyplot as plt\n",
        "import seaborn as sns\n",
        "import re\n",
        "\n",
        "from IPython.core.interactiveshell import InteractiveShell\n",
        "InteractiveShell.ast_node_interactivity = \"all\""
      ],
      "execution_count": 0,
      "outputs": []
    },
    {
      "cell_type": "code",
      "metadata": {
        "id": "fkmNE7Okpz2e",
        "colab_type": "code",
        "colab": {
          "base_uri": "https://localhost:8080/",
          "height": 124
        },
        "outputId": "6e0c087c-dba8-43c2-a646-dcdb86e672b3"
      },
      "source": [
        "# import logging\n",
        "import pyLDAvis.gensim\n",
        "from gensim.models.coherencemodel import CoherenceModel\n",
        "\n",
        "import warnings\n",
        "warnings.filterwarnings('ignore')\n",
        "\n",
        "import spacy\n",
        "\n",
        "from gensim import models,corpora\n",
        "from gensim.summarization import summarize,keywords"
      ],
      "execution_count": 6,
      "outputs": [
        {
          "output_type": "stream",
          "text": [
            "/usr/local/lib/python3.6/dist-packages/_pytest/mark/structures.py:426: DeprecationWarning: The usage of `cmp` is deprecated and will be removed on or after 2021-06-01.  Please use `eq` and `order` instead.\n",
            "  @attr.s(cmp=False, hash=False)\n",
            "/usr/local/lib/python3.6/dist-packages/scipy/sparse/sparsetools.py:21: DeprecationWarning: `scipy.sparse.sparsetools` is deprecated!\n",
            "scipy.sparse.sparsetools is a private module for scipy.sparse, and should not be used.\n",
            "  _deprecated()\n"
          ],
          "name": "stderr"
        }
      ]
    },
    {
      "cell_type": "code",
      "metadata": {
        "id": "hWb-pGXupI4O",
        "colab_type": "code",
        "colab": {}
      },
      "source": [
        "from emot.emo_unicode import UNICODE_EMO, EMOTICONS\n",
        "from bs4 import BeautifulSoup\n",
        "\n",
        "\n",
        "\n",
        "from textblob import TextBlob"
      ],
      "execution_count": 0,
      "outputs": []
    },
    {
      "cell_type": "code",
      "metadata": {
        "id": "Bwfu6l5J8Ygm",
        "colab_type": "code",
        "colab": {}
      },
      "source": [
        ""
      ],
      "execution_count": 0,
      "outputs": []
    },
    {
      "cell_type": "code",
      "metadata": {
        "id": "kM8ioH2j9AlT",
        "colab_type": "code",
        "colab": {
          "base_uri": "https://localhost:8080/",
          "height": 197
        },
        "outputId": "caa97b4e-93ea-4bd7-9c41-8489855029ff"
      },
      "source": [
        "df_review = pd.read_csv('reviews_text.csv')\n",
        "review_text = df_review[['text']]\n",
        "review_text.head()"
      ],
      "execution_count": 15,
      "outputs": [
        {
          "output_type": "execute_result",
          "data": {
            "text/html": [
              "<div>\n",
              "<style scoped>\n",
              "    .dataframe tbody tr th:only-of-type {\n",
              "        vertical-align: middle;\n",
              "    }\n",
              "\n",
              "    .dataframe tbody tr th {\n",
              "        vertical-align: top;\n",
              "    }\n",
              "\n",
              "    .dataframe thead th {\n",
              "        text-align: right;\n",
              "    }\n",
              "</style>\n",
              "<table border=\"1\" class=\"dataframe\">\n",
              "  <thead>\n",
              "    <tr style=\"text-align: right;\">\n",
              "      <th></th>\n",
              "      <th>text</th>\n",
              "    </tr>\n",
              "  </thead>\n",
              "  <tbody>\n",
              "    <tr>\n",
              "      <th>0</th>\n",
              "      <td>Burger joint offers a wide range of cheeseburg...</td>\n",
              "    </tr>\n",
              "    <tr>\n",
              "      <th>1</th>\n",
              "      <td>It was really good. The mushroom broth was esp...</td>\n",
              "    </tr>\n",
              "    <tr>\n",
              "      <th>2</th>\n",
              "      <td>$8.90 for sesame rice, mushroom rendang, curry...</td>\n",
              "    </tr>\n",
              "    <tr>\n",
              "      <th>3</th>\n",
              "      <td>2 mains + 1 green rice bento from greendot. Re...</td>\n",
              "    </tr>\n",
              "    <tr>\n",
              "      <th>4</th>\n",
              "      <td>The lion mane mushroom rendang is so delicious...</td>\n",
              "    </tr>\n",
              "  </tbody>\n",
              "</table>\n",
              "</div>"
            ],
            "text/plain": [
              "                                                text\n",
              "0  Burger joint offers a wide range of cheeseburg...\n",
              "1  It was really good. The mushroom broth was esp...\n",
              "2  $8.90 for sesame rice, mushroom rendang, curry...\n",
              "3  2 mains + 1 green rice bento from greendot. Re...\n",
              "4  The lion mane mushroom rendang is so delicious..."
            ]
          },
          "metadata": {
            "tags": []
          },
          "execution_count": 15
        }
      ]
    },
    {
      "cell_type": "code",
      "metadata": {
        "id": "LV2_Su5FBRVG",
        "colab_type": "code",
        "colab": {
          "base_uri": "https://localhost:8080/",
          "height": 77
        },
        "outputId": "a17c1646-74d4-437c-db04-49caf032646f"
      },
      "source": [
        "review_text[review_text.text.isnull()]"
      ],
      "execution_count": 16,
      "outputs": [
        {
          "output_type": "execute_result",
          "data": {
            "text/html": [
              "<div>\n",
              "<style scoped>\n",
              "    .dataframe tbody tr th:only-of-type {\n",
              "        vertical-align: middle;\n",
              "    }\n",
              "\n",
              "    .dataframe tbody tr th {\n",
              "        vertical-align: top;\n",
              "    }\n",
              "\n",
              "    .dataframe thead th {\n",
              "        text-align: right;\n",
              "    }\n",
              "</style>\n",
              "<table border=\"1\" class=\"dataframe\">\n",
              "  <thead>\n",
              "    <tr style=\"text-align: right;\">\n",
              "      <th></th>\n",
              "      <th>text</th>\n",
              "    </tr>\n",
              "  </thead>\n",
              "  <tbody>\n",
              "    <tr>\n",
              "      <th>5052</th>\n",
              "      <td>NaN</td>\n",
              "    </tr>\n",
              "  </tbody>\n",
              "</table>\n",
              "</div>"
            ],
            "text/plain": [
              "     text\n",
              "5052  NaN"
            ]
          },
          "metadata": {
            "tags": []
          },
          "execution_count": 16
        }
      ]
    },
    {
      "cell_type": "code",
      "metadata": {
        "id": "Jk4Agi-VBCFU",
        "colab_type": "code",
        "colab": {
          "base_uri": "https://localhost:8080/",
          "height": 47
        },
        "outputId": "ca096f53-07c6-4b4b-f844-12f0f734d773"
      },
      "source": [
        "df_review.drop(labels=5052,axis=0,inplace=True)\n",
        "review_text = df_review[['text']]\n",
        "review_text[review_text.text.isnull()]"
      ],
      "execution_count": 17,
      "outputs": [
        {
          "output_type": "execute_result",
          "data": {
            "text/html": [
              "<div>\n",
              "<style scoped>\n",
              "    .dataframe tbody tr th:only-of-type {\n",
              "        vertical-align: middle;\n",
              "    }\n",
              "\n",
              "    .dataframe tbody tr th {\n",
              "        vertical-align: top;\n",
              "    }\n",
              "\n",
              "    .dataframe thead th {\n",
              "        text-align: right;\n",
              "    }\n",
              "</style>\n",
              "<table border=\"1\" class=\"dataframe\">\n",
              "  <thead>\n",
              "    <tr style=\"text-align: right;\">\n",
              "      <th></th>\n",
              "      <th>text</th>\n",
              "    </tr>\n",
              "  </thead>\n",
              "  <tbody>\n",
              "  </tbody>\n",
              "</table>\n",
              "</div>"
            ],
            "text/plain": [
              "Empty DataFrame\n",
              "Columns: [text]\n",
              "Index: []"
            ]
          },
          "metadata": {
            "tags": []
          },
          "execution_count": 17
        }
      ]
    },
    {
      "cell_type": "code",
      "metadata": {
        "id": "o39_q1UitDof",
        "colab_type": "code",
        "colab": {
          "base_uri": "https://localhost:8080/",
          "height": 86
        },
        "outputId": "7149ea27-d6b5-483d-892d-eef1a8749715"
      },
      "source": [
        ""
      ],
      "execution_count": 71,
      "outputs": [
        {
          "output_type": "stream",
          "text": [
            "Collecting emot\n",
            "  Downloading https://files.pythonhosted.org/packages/49/07/20001ade19873de611b7b66a4d5e5aabbf190d65abea337d5deeaa2bc3de/emot-2.1-py3-none-any.whl\n",
            "Installing collected packages: emot\n",
            "Successfully installed emot-2.1\n"
          ],
          "name": "stdout"
        }
      ]
    },
    {
      "cell_type": "code",
      "metadata": {
        "id": "IZIfwGPZsGK4",
        "colab_type": "code",
        "colab": {}
      },
      "source": [
        "\n",
        "# Converting emojis to words\n",
        "def convert_emojis(text):\n",
        "    for emot in UNICODE_EMO:\n",
        "        text = text.replace(emot, \"_\".join(UNICODE_EMO[emot].replace(\",\",\"\").replace(\":\",\"\").split()))\n",
        "        return text\n",
        "# Converting emoticons to words    \n",
        "def convert_emoticons(text):\n",
        "    for emot in EMOTICONS:\n",
        "        text = re.sub(u'('+emot+')', \"_\".join(EMOTICONS[emot].replace(\",\",\"\").split()), text)\n",
        "        return text\n",
        "\n",
        "# Function for url's\n",
        "def remove_urls(text):\n",
        "    url_pattern = re.compile(r'https?://\\S+|www\\.\\S+')\n",
        "    return url_pattern.sub(r'', text)\n",
        "\n",
        "#Function for removing html\n",
        "\n",
        "def remove_html_tag(text):\n",
        "    return BeautifulSoup(text, \"lxml\").text\n",
        "\n",
        "# Function for hashtags\n",
        "def remove_hashtags(text):\n",
        "    hashtag_pattern = re.compile(r'\\#[a-z0-9]+')\n",
        "    return hashtag_pattern.sub(r'', text)"
      ],
      "execution_count": 0,
      "outputs": []
    },
    {
      "cell_type": "code",
      "metadata": {
        "id": "nUDX2QZEvcyr",
        "colab_type": "code",
        "colab": {}
      },
      "source": [
        ""
      ],
      "execution_count": 0,
      "outputs": []
    },
    {
      "cell_type": "code",
      "metadata": {
        "id": "o6JfE0jA9SdW",
        "colab_type": "code",
        "colab": {}
      },
      "source": [
        "nlp = spacy.load('en')"
      ],
      "execution_count": 0,
      "outputs": []
    },
    {
      "cell_type": "code",
      "metadata": {
        "id": "yRM0qZ-1-SgG",
        "colab_type": "code",
        "colab": {}
      },
      "source": [
        "def clean_up_spacy(text):\n",
        "    removal= ['ADV','PRON','CCONJ','PUNCT','PART','DET','ADP','SPACE']\n",
        "    text_out = []\n",
        "    doc= nlp(text)\n",
        "    for token in doc:\n",
        "        if token.is_stop == False and token.is_alpha and len(token)>2 and token.pos_ not in removal:\n",
        "            lemma = token.lemma_\n",
        "            text_out.append(lemma)\n",
        "    return text_out"
      ],
      "execution_count": 0,
      "outputs": []
    },
    {
      "cell_type": "code",
      "metadata": {
        "id": "8eXEYkFyAFEs",
        "colab_type": "code",
        "colab": {
          "base_uri": "https://localhost:8080/",
          "height": 121
        },
        "outputId": "8d5c5cdd-aacb-498c-a9f0-919194066130"
      },
      "source": [
        "review_text.info()"
      ],
      "execution_count": 18,
      "outputs": [
        {
          "output_type": "stream",
          "text": [
            "<class 'pandas.core.frame.DataFrame'>\n",
            "Int64Index: 56155 entries, 0 to 56155\n",
            "Data columns (total 1 columns):\n",
            "text    56155 non-null object\n",
            "dtypes: object(1)\n",
            "memory usage: 877.4+ KB\n"
          ],
          "name": "stdout"
        }
      ]
    },
    {
      "cell_type": "code",
      "metadata": {
        "id": "4NlVr6RGzCx6",
        "colab_type": "code",
        "colab": {
          "base_uri": "https://localhost:8080/",
          "height": 34
        },
        "outputId": "0fc56946-d3f5-4f79-cc75-a6855724e096"
      },
      "source": [
        "type(datalist)"
      ],
      "execution_count": 90,
      "outputs": [
        {
          "output_type": "execute_result",
          "data": {
            "text/plain": [
              "pandas.core.series.Series"
            ]
          },
          "metadata": {
            "tags": []
          },
          "execution_count": 90
        }
      ]
    },
    {
      "cell_type": "code",
      "metadata": {
        "id": "I34Kr2dhzYkY",
        "colab_type": "code",
        "colab": {}
      },
      "source": [
        "datalist = review_text.text.apply(lambda x:remove_html_tag(x)).to_frame()\n"
      ],
      "execution_count": 0,
      "outputs": []
    },
    {
      "cell_type": "code",
      "metadata": {
        "id": "_fIdtQ4z0WYt",
        "colab_type": "code",
        "colab": {
          "base_uri": "https://localhost:8080/",
          "height": 406
        },
        "outputId": "2cc481e7-cd44-491d-9436-9ed601a7af75"
      },
      "source": [
        "datalist.text.apply(lambda x:remove_urls(x)).to_frame()"
      ],
      "execution_count": 22,
      "outputs": [
        {
          "output_type": "execute_result",
          "data": {
            "text/html": [
              "<div>\n",
              "<style scoped>\n",
              "    .dataframe tbody tr th:only-of-type {\n",
              "        vertical-align: middle;\n",
              "    }\n",
              "\n",
              "    .dataframe tbody tr th {\n",
              "        vertical-align: top;\n",
              "    }\n",
              "\n",
              "    .dataframe thead th {\n",
              "        text-align: right;\n",
              "    }\n",
              "</style>\n",
              "<table border=\"1\" class=\"dataframe\">\n",
              "  <thead>\n",
              "    <tr style=\"text-align: right;\">\n",
              "      <th></th>\n",
              "      <th>text</th>\n",
              "    </tr>\n",
              "  </thead>\n",
              "  <tbody>\n",
              "    <tr>\n",
              "      <th>0</th>\n",
              "      <td>Burger joint offers a wide range of cheeseburg...</td>\n",
              "    </tr>\n",
              "    <tr>\n",
              "      <th>1</th>\n",
              "      <td>It was really good. The mushroom broth was esp...</td>\n",
              "    </tr>\n",
              "    <tr>\n",
              "      <th>2</th>\n",
              "      <td>$8.90 for sesame rice, mushroom rendang, curry...</td>\n",
              "    </tr>\n",
              "    <tr>\n",
              "      <th>3</th>\n",
              "      <td>2 mains + 1 green rice bento from greendot. Re...</td>\n",
              "    </tr>\n",
              "    <tr>\n",
              "      <th>4</th>\n",
              "      <td>The lion mane mushroom rendang is so delicious...</td>\n",
              "    </tr>\n",
              "    <tr>\n",
              "      <th>...</th>\n",
              "      <td>...</td>\n",
              "    </tr>\n",
              "    <tr>\n",
              "      <th>56151</th>\n",
              "      <td>Good love office treats! These are perfectly s...</td>\n",
              "    </tr>\n",
              "    <tr>\n",
              "      <th>56152</th>\n",
              "      <td>Very tasty! Crisp fresh vegetables with fried ...</td>\n",
              "    </tr>\n",
              "    <tr>\n",
              "      <th>56153</th>\n",
              "      <td>Delicious! Creamy coconut milk red curry sauce...</td>\n",
              "    </tr>\n",
              "    <tr>\n",
              "      <th>56154</th>\n",
              "      <td>Absolutely delicious! Great if you’re on the r...</td>\n",
              "    </tr>\n",
              "    <tr>\n",
              "      <th>56155</th>\n",
              "      <td>(Added the vegan coco whip on top at home)\\nGo...</td>\n",
              "    </tr>\n",
              "  </tbody>\n",
              "</table>\n",
              "<p>56155 rows × 1 columns</p>\n",
              "</div>"
            ],
            "text/plain": [
              "                                                    text\n",
              "0      Burger joint offers a wide range of cheeseburg...\n",
              "1      It was really good. The mushroom broth was esp...\n",
              "2      $8.90 for sesame rice, mushroom rendang, curry...\n",
              "3      2 mains + 1 green rice bento from greendot. Re...\n",
              "4      The lion mane mushroom rendang is so delicious...\n",
              "...                                                  ...\n",
              "56151  Good love office treats! These are perfectly s...\n",
              "56152  Very tasty! Crisp fresh vegetables with fried ...\n",
              "56153  Delicious! Creamy coconut milk red curry sauce...\n",
              "56154  Absolutely delicious! Great if you’re on the r...\n",
              "56155  (Added the vegan coco whip on top at home)\\nGo...\n",
              "\n",
              "[56155 rows x 1 columns]"
            ]
          },
          "metadata": {
            "tags": []
          },
          "execution_count": 22
        }
      ]
    },
    {
      "cell_type": "code",
      "metadata": {
        "id": "CvwJu28W0j6F",
        "colab_type": "code",
        "colab": {
          "base_uri": "https://localhost:8080/",
          "height": 406
        },
        "outputId": "f848cc4e-fb3d-4596-92ec-7fe82bf0e9ae"
      },
      "source": [
        "datalist.text.apply(lambda x:remove_urls(x)).to_frame()"
      ],
      "execution_count": 23,
      "outputs": [
        {
          "output_type": "execute_result",
          "data": {
            "text/html": [
              "<div>\n",
              "<style scoped>\n",
              "    .dataframe tbody tr th:only-of-type {\n",
              "        vertical-align: middle;\n",
              "    }\n",
              "\n",
              "    .dataframe tbody tr th {\n",
              "        vertical-align: top;\n",
              "    }\n",
              "\n",
              "    .dataframe thead th {\n",
              "        text-align: right;\n",
              "    }\n",
              "</style>\n",
              "<table border=\"1\" class=\"dataframe\">\n",
              "  <thead>\n",
              "    <tr style=\"text-align: right;\">\n",
              "      <th></th>\n",
              "      <th>text</th>\n",
              "    </tr>\n",
              "  </thead>\n",
              "  <tbody>\n",
              "    <tr>\n",
              "      <th>0</th>\n",
              "      <td>Burger joint offers a wide range of cheeseburg...</td>\n",
              "    </tr>\n",
              "    <tr>\n",
              "      <th>1</th>\n",
              "      <td>It was really good. The mushroom broth was esp...</td>\n",
              "    </tr>\n",
              "    <tr>\n",
              "      <th>2</th>\n",
              "      <td>$8.90 for sesame rice, mushroom rendang, curry...</td>\n",
              "    </tr>\n",
              "    <tr>\n",
              "      <th>3</th>\n",
              "      <td>2 mains + 1 green rice bento from greendot. Re...</td>\n",
              "    </tr>\n",
              "    <tr>\n",
              "      <th>4</th>\n",
              "      <td>The lion mane mushroom rendang is so delicious...</td>\n",
              "    </tr>\n",
              "    <tr>\n",
              "      <th>...</th>\n",
              "      <td>...</td>\n",
              "    </tr>\n",
              "    <tr>\n",
              "      <th>56151</th>\n",
              "      <td>Good love office treats! These are perfectly s...</td>\n",
              "    </tr>\n",
              "    <tr>\n",
              "      <th>56152</th>\n",
              "      <td>Very tasty! Crisp fresh vegetables with fried ...</td>\n",
              "    </tr>\n",
              "    <tr>\n",
              "      <th>56153</th>\n",
              "      <td>Delicious! Creamy coconut milk red curry sauce...</td>\n",
              "    </tr>\n",
              "    <tr>\n",
              "      <th>56154</th>\n",
              "      <td>Absolutely delicious! Great if you’re on the r...</td>\n",
              "    </tr>\n",
              "    <tr>\n",
              "      <th>56155</th>\n",
              "      <td>(Added the vegan coco whip on top at home)\\nGo...</td>\n",
              "    </tr>\n",
              "  </tbody>\n",
              "</table>\n",
              "<p>56155 rows × 1 columns</p>\n",
              "</div>"
            ],
            "text/plain": [
              "                                                    text\n",
              "0      Burger joint offers a wide range of cheeseburg...\n",
              "1      It was really good. The mushroom broth was esp...\n",
              "2      $8.90 for sesame rice, mushroom rendang, curry...\n",
              "3      2 mains + 1 green rice bento from greendot. Re...\n",
              "4      The lion mane mushroom rendang is so delicious...\n",
              "...                                                  ...\n",
              "56151  Good love office treats! These are perfectly s...\n",
              "56152  Very tasty! Crisp fresh vegetables with fried ...\n",
              "56153  Delicious! Creamy coconut milk red curry sauce...\n",
              "56154  Absolutely delicious! Great if you’re on the r...\n",
              "56155  (Added the vegan coco whip on top at home)\\nGo...\n",
              "\n",
              "[56155 rows x 1 columns]"
            ]
          },
          "metadata": {
            "tags": []
          },
          "execution_count": 23
        }
      ]
    },
    {
      "cell_type": "code",
      "metadata": {
        "id": "GG2G5fDV0nfw",
        "colab_type": "code",
        "colab": {
          "base_uri": "https://localhost:8080/",
          "height": 406
        },
        "outputId": "532e2f2e-5bad-435e-dd44-7cc0bdcda9cc"
      },
      "source": [
        "datalist.text.apply(lambda x:convert_emoticons(x)).to_frame()"
      ],
      "execution_count": 24,
      "outputs": [
        {
          "output_type": "execute_result",
          "data": {
            "text/html": [
              "<div>\n",
              "<style scoped>\n",
              "    .dataframe tbody tr th:only-of-type {\n",
              "        vertical-align: middle;\n",
              "    }\n",
              "\n",
              "    .dataframe tbody tr th {\n",
              "        vertical-align: top;\n",
              "    }\n",
              "\n",
              "    .dataframe thead th {\n",
              "        text-align: right;\n",
              "    }\n",
              "</style>\n",
              "<table border=\"1\" class=\"dataframe\">\n",
              "  <thead>\n",
              "    <tr style=\"text-align: right;\">\n",
              "      <th></th>\n",
              "      <th>text</th>\n",
              "    </tr>\n",
              "  </thead>\n",
              "  <tbody>\n",
              "    <tr>\n",
              "      <th>0</th>\n",
              "      <td>Burger joint offers a wide range of cheeseburg...</td>\n",
              "    </tr>\n",
              "    <tr>\n",
              "      <th>1</th>\n",
              "      <td>It was really good. The mushroom broth was esp...</td>\n",
              "    </tr>\n",
              "    <tr>\n",
              "      <th>2</th>\n",
              "      <td>$8.90 for sesame rice, mushroom rendang, curry...</td>\n",
              "    </tr>\n",
              "    <tr>\n",
              "      <th>3</th>\n",
              "      <td>2 mains + 1 green rice bento from greendot. Re...</td>\n",
              "    </tr>\n",
              "    <tr>\n",
              "      <th>4</th>\n",
              "      <td>The lion mane mushroom rendang is so delicious...</td>\n",
              "    </tr>\n",
              "    <tr>\n",
              "      <th>...</th>\n",
              "      <td>...</td>\n",
              "    </tr>\n",
              "    <tr>\n",
              "      <th>56151</th>\n",
              "      <td>Good love office treats! These are perfectly s...</td>\n",
              "    </tr>\n",
              "    <tr>\n",
              "      <th>56152</th>\n",
              "      <td>Very tasty! Crisp fresh vegetables with fried ...</td>\n",
              "    </tr>\n",
              "    <tr>\n",
              "      <th>56153</th>\n",
              "      <td>Delicious! Creamy coconut milk red curry sauce...</td>\n",
              "    </tr>\n",
              "    <tr>\n",
              "      <th>56154</th>\n",
              "      <td>Absolutely delicious! Great if you’re on the r...</td>\n",
              "    </tr>\n",
              "    <tr>\n",
              "      <th>56155</th>\n",
              "      <td>(Added the vegan coco whip on top at home)\\nGo...</td>\n",
              "    </tr>\n",
              "  </tbody>\n",
              "</table>\n",
              "<p>56155 rows × 1 columns</p>\n",
              "</div>"
            ],
            "text/plain": [
              "                                                    text\n",
              "0      Burger joint offers a wide range of cheeseburg...\n",
              "1      It was really good. The mushroom broth was esp...\n",
              "2      $8.90 for sesame rice, mushroom rendang, curry...\n",
              "3      2 mains + 1 green rice bento from greendot. Re...\n",
              "4      The lion mane mushroom rendang is so delicious...\n",
              "...                                                  ...\n",
              "56151  Good love office treats! These are perfectly s...\n",
              "56152  Very tasty! Crisp fresh vegetables with fried ...\n",
              "56153  Delicious! Creamy coconut milk red curry sauce...\n",
              "56154  Absolutely delicious! Great if you’re on the r...\n",
              "56155  (Added the vegan coco whip on top at home)\\nGo...\n",
              "\n",
              "[56155 rows x 1 columns]"
            ]
          },
          "metadata": {
            "tags": []
          },
          "execution_count": 24
        }
      ]
    },
    {
      "cell_type": "code",
      "metadata": {
        "id": "xUACcTHNzOZw",
        "colab_type": "code",
        "colab": {
          "base_uri": "https://localhost:8080/",
          "height": 406
        },
        "outputId": "44189bbc-5b8d-43a8-ee5f-e9abccbffd79"
      },
      "source": [
        "\n",
        "\n",
        "\n",
        "\n",
        "datalist.text.apply(lambda x:convert_emojis(x)).to_frame()\n"
      ],
      "execution_count": 25,
      "outputs": [
        {
          "output_type": "execute_result",
          "data": {
            "text/html": [
              "<div>\n",
              "<style scoped>\n",
              "    .dataframe tbody tr th:only-of-type {\n",
              "        vertical-align: middle;\n",
              "    }\n",
              "\n",
              "    .dataframe tbody tr th {\n",
              "        vertical-align: top;\n",
              "    }\n",
              "\n",
              "    .dataframe thead th {\n",
              "        text-align: right;\n",
              "    }\n",
              "</style>\n",
              "<table border=\"1\" class=\"dataframe\">\n",
              "  <thead>\n",
              "    <tr style=\"text-align: right;\">\n",
              "      <th></th>\n",
              "      <th>text</th>\n",
              "    </tr>\n",
              "  </thead>\n",
              "  <tbody>\n",
              "    <tr>\n",
              "      <th>0</th>\n",
              "      <td>Burger joint offers a wide range of cheeseburg...</td>\n",
              "    </tr>\n",
              "    <tr>\n",
              "      <th>1</th>\n",
              "      <td>It was really good. The mushroom broth was esp...</td>\n",
              "    </tr>\n",
              "    <tr>\n",
              "      <th>2</th>\n",
              "      <td>$8.90 for sesame rice, mushroom rendang, curry...</td>\n",
              "    </tr>\n",
              "    <tr>\n",
              "      <th>3</th>\n",
              "      <td>2 mains + 1 green rice bento from greendot. Re...</td>\n",
              "    </tr>\n",
              "    <tr>\n",
              "      <th>4</th>\n",
              "      <td>The lion mane mushroom rendang is so delicious...</td>\n",
              "    </tr>\n",
              "    <tr>\n",
              "      <th>...</th>\n",
              "      <td>...</td>\n",
              "    </tr>\n",
              "    <tr>\n",
              "      <th>56151</th>\n",
              "      <td>Good love office treats! These are perfectly s...</td>\n",
              "    </tr>\n",
              "    <tr>\n",
              "      <th>56152</th>\n",
              "      <td>Very tasty! Crisp fresh vegetables with fried ...</td>\n",
              "    </tr>\n",
              "    <tr>\n",
              "      <th>56153</th>\n",
              "      <td>Delicious! Creamy coconut milk red curry sauce...</td>\n",
              "    </tr>\n",
              "    <tr>\n",
              "      <th>56154</th>\n",
              "      <td>Absolutely delicious! Great if you’re on the r...</td>\n",
              "    </tr>\n",
              "    <tr>\n",
              "      <th>56155</th>\n",
              "      <td>(Added the vegan coco whip on top at home)\\nGo...</td>\n",
              "    </tr>\n",
              "  </tbody>\n",
              "</table>\n",
              "<p>56155 rows × 1 columns</p>\n",
              "</div>"
            ],
            "text/plain": [
              "                                                    text\n",
              "0      Burger joint offers a wide range of cheeseburg...\n",
              "1      It was really good. The mushroom broth was esp...\n",
              "2      $8.90 for sesame rice, mushroom rendang, curry...\n",
              "3      2 mains + 1 green rice bento from greendot. Re...\n",
              "4      The lion mane mushroom rendang is so delicious...\n",
              "...                                                  ...\n",
              "56151  Good love office treats! These are perfectly s...\n",
              "56152  Very tasty! Crisp fresh vegetables with fried ...\n",
              "56153  Delicious! Creamy coconut milk red curry sauce...\n",
              "56154  Absolutely delicious! Great if you’re on the r...\n",
              "56155  (Added the vegan coco whip on top at home)\\nGo...\n",
              "\n",
              "[56155 rows x 1 columns]"
            ]
          },
          "metadata": {
            "tags": []
          },
          "execution_count": 25
        }
      ]
    },
    {
      "cell_type": "code",
      "metadata": {
        "id": "nBqyP48DwORS",
        "colab_type": "code",
        "colab": {
          "base_uri": "https://localhost:8080/",
          "height": 406
        },
        "outputId": "90c0f4bc-6507-4539-d9c2-8374b2c22bdc"
      },
      "source": [
        "datalist.text.apply(lambda x:remove_hashtags(x)).to_frame()"
      ],
      "execution_count": 26,
      "outputs": [
        {
          "output_type": "execute_result",
          "data": {
            "text/html": [
              "<div>\n",
              "<style scoped>\n",
              "    .dataframe tbody tr th:only-of-type {\n",
              "        vertical-align: middle;\n",
              "    }\n",
              "\n",
              "    .dataframe tbody tr th {\n",
              "        vertical-align: top;\n",
              "    }\n",
              "\n",
              "    .dataframe thead th {\n",
              "        text-align: right;\n",
              "    }\n",
              "</style>\n",
              "<table border=\"1\" class=\"dataframe\">\n",
              "  <thead>\n",
              "    <tr style=\"text-align: right;\">\n",
              "      <th></th>\n",
              "      <th>text</th>\n",
              "    </tr>\n",
              "  </thead>\n",
              "  <tbody>\n",
              "    <tr>\n",
              "      <th>0</th>\n",
              "      <td>Burger joint offers a wide range of cheeseburg...</td>\n",
              "    </tr>\n",
              "    <tr>\n",
              "      <th>1</th>\n",
              "      <td>It was really good. The mushroom broth was esp...</td>\n",
              "    </tr>\n",
              "    <tr>\n",
              "      <th>2</th>\n",
              "      <td>$8.90 for sesame rice, mushroom rendang, curry...</td>\n",
              "    </tr>\n",
              "    <tr>\n",
              "      <th>3</th>\n",
              "      <td>2 mains + 1 green rice bento from greendot. Re...</td>\n",
              "    </tr>\n",
              "    <tr>\n",
              "      <th>4</th>\n",
              "      <td>The lion mane mushroom rendang is so delicious...</td>\n",
              "    </tr>\n",
              "    <tr>\n",
              "      <th>...</th>\n",
              "      <td>...</td>\n",
              "    </tr>\n",
              "    <tr>\n",
              "      <th>56151</th>\n",
              "      <td>Good love office treats! These are perfectly s...</td>\n",
              "    </tr>\n",
              "    <tr>\n",
              "      <th>56152</th>\n",
              "      <td>Very tasty! Crisp fresh vegetables with fried ...</td>\n",
              "    </tr>\n",
              "    <tr>\n",
              "      <th>56153</th>\n",
              "      <td>Delicious! Creamy coconut milk red curry sauce...</td>\n",
              "    </tr>\n",
              "    <tr>\n",
              "      <th>56154</th>\n",
              "      <td>Absolutely delicious! Great if you’re on the r...</td>\n",
              "    </tr>\n",
              "    <tr>\n",
              "      <th>56155</th>\n",
              "      <td>(Added the vegan coco whip on top at home)\\nGo...</td>\n",
              "    </tr>\n",
              "  </tbody>\n",
              "</table>\n",
              "<p>56155 rows × 1 columns</p>\n",
              "</div>"
            ],
            "text/plain": [
              "                                                    text\n",
              "0      Burger joint offers a wide range of cheeseburg...\n",
              "1      It was really good. The mushroom broth was esp...\n",
              "2      $8.90 for sesame rice, mushroom rendang, curry...\n",
              "3      2 mains + 1 green rice bento from greendot. Re...\n",
              "4      The lion mane mushroom rendang is so delicious...\n",
              "...                                                  ...\n",
              "56151  Good love office treats! These are perfectly s...\n",
              "56152  Very tasty! Crisp fresh vegetables with fried ...\n",
              "56153  Delicious! Creamy coconut milk red curry sauce...\n",
              "56154  Absolutely delicious! Great if you’re on the r...\n",
              "56155  (Added the vegan coco whip on top at home)\\nGo...\n",
              "\n",
              "[56155 rows x 1 columns]"
            ]
          },
          "metadata": {
            "tags": []
          },
          "execution_count": 26
        }
      ]
    },
    {
      "cell_type": "code",
      "metadata": {
        "id": "4sVpycDut2m6",
        "colab_type": "code",
        "colab": {}
      },
      "source": [
        "datalist.to_csv('datalist_corrected.csv')"
      ],
      "execution_count": 0,
      "outputs": []
    },
    {
      "cell_type": "code",
      "metadata": {
        "id": "6Fqq7-Or-fpV",
        "colab_type": "code",
        "colab": {}
      },
      "source": [
        "datalist = datalist.text.apply(lambda x:clean_up_spacy(x))"
      ],
      "execution_count": 0,
      "outputs": []
    },
    {
      "cell_type": "code",
      "metadata": {
        "id": "h_f4nbmDJL4w",
        "colab_type": "code",
        "colab": {
          "base_uri": "https://localhost:8080/",
          "height": 121
        },
        "outputId": "66d24987-f297-43ed-de46-b395af99e0fe"
      },
      "source": [
        "datalist.head()"
      ],
      "execution_count": 29,
      "outputs": [
        {
          "output_type": "execute_result",
          "data": {
            "text/plain": [
              "0    [Burger, joint, offer, wide, range, cheeseburg...\n",
              "1    [good, mushroom, broth, soupy, food, general, ...\n",
              "2    [sesame, rice, mushroom, rendang, curry, potat...\n",
              "3    [main, green, rice, bento, greendot, recommend...\n",
              "4    [lion, mane, mushroom, rendang, delicious, ord...\n",
              "Name: text, dtype: object"
            ]
          },
          "metadata": {
            "tags": []
          },
          "execution_count": 29
        }
      ]
    },
    {
      "cell_type": "code",
      "metadata": {
        "id": "v5kFlt5lMV7T",
        "colab_type": "code",
        "colab": {}
      },
      "source": [
        "dictionary = corpora.Dictionary(datalist)\n",
        "doc_term_matrix = [dictionary.doc2bow(doc) for doc in datalist]"
      ],
      "execution_count": 0,
      "outputs": []
    },
    {
      "cell_type": "code",
      "metadata": {
        "id": "0Hmco3a-Mj86",
        "colab_type": "code",
        "colab": {
          "base_uri": "https://localhost:8080/",
          "height": 887
        },
        "outputId": "0cb80559-dd2f-432d-ef43-e9733a7f811e"
      },
      "source": [
        "finalList =[]\n",
        "for sublist in datalist:\n",
        "    for item in sublist:\n",
        "        finalList.append(item)\n",
        "c =Counter(finalList)\n",
        "sorted(c.items(), key=lambda x:x[1],reverse=True)[:50]"
      ],
      "execution_count": 31,
      "outputs": [
        {
          "output_type": "execute_result",
          "data": {
            "text/plain": [
              "[('vegan', 17678),\n",
              " ('good', 14462),\n",
              " ('dish', 9360),\n",
              " ('taste', 8638),\n",
              " ('delicious', 7387),\n",
              " ('love', 7344),\n",
              " ('sauce', 7039),\n",
              " ('great', 6356),\n",
              " ('nice', 4880),\n",
              " ('sweet', 4610),\n",
              " ('cheese', 4600),\n",
              " ('rice', 4288),\n",
              " ('tasty', 4200),\n",
              " ('option', 4183),\n",
              " ('try', 4117),\n",
              " ('come', 4040),\n",
              " ('food', 4032),\n",
              " ('tofu', 3995),\n",
              " ('amazing', 3884),\n",
              " ('fry', 3877),\n",
              " ('like', 3843),\n",
              " ('eat', 3768),\n",
              " ('veggie', 3723),\n",
              " ('burger', 3587),\n",
              " ('fresh', 3562),\n",
              " ('flavour', 3531),\n",
              " ('mushroom', 3484),\n",
              " ('con', 3480),\n",
              " ('order', 3448),\n",
              " ('bit', 3310),\n",
              " ('salad', 3296),\n",
              " ('menu', 3141),\n",
              " ('spicy', 3004),\n",
              " ('flavor', 2948),\n",
              " ('place', 2934),\n",
              " ('serve', 2836),\n",
              " ('pizza', 2812),\n",
              " ('cream', 2758),\n",
              " ('time', 2753),\n",
              " ('add', 2637),\n",
              " ('restaurant', 2615),\n",
              " ('little', 2590),\n",
              " ('texture', 2577),\n",
              " ('portion', 2485),\n",
              " ('get', 2461),\n",
              " ('lot', 2456),\n",
              " ('meat', 2447),\n",
              " ('meal', 2435),\n",
              " ('perfect', 2370),\n",
              " ('think', 2343)]"
            ]
          },
          "metadata": {
            "tags": []
          },
          "execution_count": 31
        }
      ]
    },
    {
      "cell_type": "code",
      "metadata": {
        "id": "oZx-hj3oSbP-",
        "colab_type": "code",
        "colab": {
          "base_uri": "https://localhost:8080/",
          "height": 236
        },
        "outputId": "252b9f83-e4ba-44d2-d012-e4d57dfc0f96"
      },
      "source": [
        "Lda = models.LdaMulticore\n",
        "coherenceList_umass = []\n",
        "coherenceList_cv = []\n",
        "\n",
        "lda= Lda(doc_term_matrix, num_topics=25,id2word = dictionary,\\\n",
        "         passes=20,chunksize=4000,random_state=43)\n",
        "\n",
        "cm = CoherenceModel(model=lda, corpus=doc_term_matrix,\\\n",
        "                    dictionary=dictionary, coherence='u_mass')\n",
        "\n",
        "coherenceList_umass.append(cm.get_coherence())\n",
        "cm_cv = CoherenceModel(model=lda, corpus=doc_term_matrix,\\\n",
        "                       texts=datalist, dictionary=dictionary, coherence='c_v')\n",
        "coherenceList_cv.append(cm_cv.get_coherence())\n",
        "vis = pyLDAvis.gensim.prepare(lda, doc_term_matrix, dictionary)\n",
        "\n",
        "\n",
        "\n"
      ],
      "execution_count": 32,
      "outputs": [
        {
          "output_type": "error",
          "ename": "NameError",
          "evalue": "ignored",
          "traceback": [
            "\u001b[0;31m---------------------------------------------------------------------------\u001b[0m",
            "\u001b[0;31mNameError\u001b[0m                                 Traceback (most recent call last)",
            "\u001b[0;32m<ipython-input-32-c10db8893531>\u001b[0m in \u001b[0;36m<module>\u001b[0;34m()\u001b[0m\n\u001b[1;32m     11\u001b[0m \u001b[0mcoherenceList_cv\u001b[0m\u001b[0;34m.\u001b[0m\u001b[0mappend\u001b[0m\u001b[0;34m(\u001b[0m\u001b[0mcm_cv\u001b[0m\u001b[0;34m.\u001b[0m\u001b[0mget_coherence\u001b[0m\u001b[0;34m(\u001b[0m\u001b[0;34m)\u001b[0m\u001b[0;34m)\u001b[0m\u001b[0;34m\u001b[0m\u001b[0;34m\u001b[0m\u001b[0m\n\u001b[1;32m     12\u001b[0m \u001b[0mvis\u001b[0m \u001b[0;34m=\u001b[0m \u001b[0mpyLDAvis\u001b[0m\u001b[0;34m.\u001b[0m\u001b[0mgensim\u001b[0m\u001b[0;34m.\u001b[0m\u001b[0mprepare\u001b[0m\u001b[0;34m(\u001b[0m\u001b[0mlda\u001b[0m\u001b[0;34m,\u001b[0m \u001b[0mdoc_term_matrix\u001b[0m\u001b[0;34m,\u001b[0m \u001b[0mdictionary\u001b[0m\u001b[0;34m)\u001b[0m\u001b[0;34m\u001b[0m\u001b[0;34m\u001b[0m\u001b[0m\n\u001b[0;32m---> 13\u001b[0;31m \u001b[0mpyLDAvis\u001b[0m\u001b[0;34m.\u001b[0m\u001b[0msave_html\u001b[0m\u001b[0;34m(\u001b[0m\u001b[0mvis\u001b[0m\u001b[0;34m,\u001b[0m\u001b[0;34mf'pyLDAvis_{num_topics}.html'\u001b[0m\u001b[0;34m)\u001b[0m\u001b[0;34m\u001b[0m\u001b[0;34m\u001b[0m\u001b[0m\n\u001b[0m\u001b[1;32m     14\u001b[0m \u001b[0;34m\u001b[0m\u001b[0m\n\u001b[1;32m     15\u001b[0m \u001b[0;34m\u001b[0m\u001b[0m\n",
            "\u001b[0;31mNameError\u001b[0m: name 'num_topics' is not defined"
          ]
        }
      ]
    },
    {
      "cell_type": "code",
      "metadata": {
        "id": "zNFRMDD9ah72",
        "colab_type": "code",
        "colab": {}
      },
      "source": [
        "pyLDAvis.save_html(vis,f'pyLDAvis_25.html')"
      ],
      "execution_count": 0,
      "outputs": []
    },
    {
      "cell_type": "code",
      "metadata": {
        "id": "kCRWL-cPapen",
        "colab_type": "code",
        "colab": {}
      },
      "source": [
        "lda.save('lda')\n",
        "dictionary.save('dictionary')\n",
        "corpora.MmCorpus.serialize('doc_term_matrix.mm', doc_term_matrix)"
      ],
      "execution_count": 0,
      "outputs": []
    },
    {
      "cell_type": "code",
      "metadata": {
        "id": "WGbrzA4Va0om",
        "colab_type": "code",
        "colab": {}
      },
      "source": [
        "a = lda.show_topics(num_topics=25,formatted=False,num_words=100)\n",
        "b = lda.top_topics(doc_term_matrix,dictionary=dictionary,topn=100) # This orders the topics in the decreasing order of coherence score\n",
        "\n"
      ],
      "execution_count": 0,
      "outputs": []
    },
    {
      "cell_type": "code",
      "metadata": {
        "id": "TaTBALnLbGbt",
        "colab_type": "code",
        "colab": {}
      },
      "source": [
        "topic2skillb = {}\n",
        "topic2csb = {}\n",
        "topic2skilla = {}\n",
        "topic2csa = {}\n",
        "num_topics =lda.num_topics\n",
        "cnt =1\n",
        "\n",
        "for ws in b:\n",
        "    wset = set(w[1] for w in ws[0])\n",
        "    topic2skillb[cnt] = wset\n",
        "    topic2csb[cnt] = ws[1]\n",
        "    cnt +=1\n",
        "cnt = 1\n",
        "for ws in a:\n",
        "    wset = set(w[0]for w in ws[1])\n",
        "    topic2skilla[ws[0]+1] = wset\n",
        "    topic2csa[cnt] = ws[1]\n",
        "    cnt +=1"
      ],
      "execution_count": 0,
      "outputs": []
    },
    {
      "cell_type": "code",
      "metadata": {
        "id": "VXtLDOinOAUU",
        "colab_type": "code",
        "colab": {
          "base_uri": "https://localhost:8080/",
          "height": 34
        },
        "outputId": "df3fd5f1-cc90-4dc3-cb09-02a350c8521b"
      },
      "source": [
        "Lda = models.LdaMulticore\n",
        "coherenceList_umass = []\n",
        "coherenceList_cv = []\n",
        "num_topics_list = np.arange(3,30)\n",
        "for num_topics in tqdm(num_topics_list):\n",
        "    lda= Lda(doc_term_matrix, num_topics=num_topics,id2word = dictionary, \n",
        "             passes=20,chunksize=500,random_state=43)\n",
        "    cm = CoherenceModel(model=lda, corpus=doc_term_matrix, \n",
        "                        dictionary=dictionary, coherence='u_mass')\n",
        "    coherenceList_umass.append(cm.get_coherence())\n",
        "    cm_cv = CoherenceModel(model=lda, corpus=doc_term_matrix,\n",
        "                           texts=datalist, dictionary=dictionary, coherence='c_v')\n",
        "    coherenceList_cv.append(cm_cv.get_coherence())\n",
        "    vis = pyLDAvis.gensim.prepare(lda, doc_term_matrix, dictionary)\n",
        "    pyLDAvis.save_html(vis,f'pyLDAvis_{num_topics}.html')"
      ],
      "execution_count": 108,
      "outputs": [
        {
          "output_type": "stream",
          "text": [
            "100%|██████████| 27/27 [1:48:17<00:00, 237.42s/it]\n"
          ],
          "name": "stderr"
        }
      ]
    },
    {
      "cell_type": "code",
      "metadata": {
        "id": "f-OMp84hObmK",
        "colab_type": "code",
        "colab": {
          "base_uri": "https://localhost:8080/",
          "height": 421
        },
        "outputId": "72a6cb78-8afd-448c-f6a5-9033303516ae"
      },
      "source": [
        "\n",
        "plotData = pd.DataFrame({'Number of topics':num_topics_list,\n",
        "                         'CoherenceScore':coherenceList_umass})\n",
        "f,ax = plt.subplots(figsize=(10,6))\n",
        "sns.set_style(\"darkgrid\")\n",
        "sns.pointplot(x='Number of topics',y= 'CoherenceScore',data=plotData)\n",
        "plt.axhline(y=-3.9)\n",
        "plt.title('Topic coherence')\n",
        "plt.savefig('Topic coherence plot.png')"
      ],
      "execution_count": 112,
      "outputs": [
        {
          "output_type": "execute_result",
          "data": {
            "text/plain": [
              "<matplotlib.axes._subplots.AxesSubplot at 0x7f22c1299fd0>"
            ]
          },
          "metadata": {
            "tags": []
          },
          "execution_count": 112
        },
        {
          "output_type": "execute_result",
          "data": {
            "text/plain": [
              "<matplotlib.lines.Line2D at 0x7f22c31373c8>"
            ]
          },
          "metadata": {
            "tags": []
          },
          "execution_count": 112
        },
        {
          "output_type": "execute_result",
          "data": {
            "text/plain": [
              "Text(0.5, 1.0, 'Topic coherence')"
            ]
          },
          "metadata": {
            "tags": []
          },
          "execution_count": 112
        },
        {
          "output_type": "display_data",
          "data": {
            "image/png": "[encoded data removed]",
            "text/plain": [
              "<Figure size 720x432 with 1 Axes>"
            ]
          },
          "metadata": {
            "tags": []
          }
        }
      ]
    },
    {
      "cell_type": "code",
      "metadata": {
        "id": "Z3I0T4Dk_zri",
        "colab_type": "code",
        "colab": {}
      },
      "source": [
        "Lda = models.LdaMulticore\n",
        "lda_final= Lda(doc_term_matrix, num_topics=25,id2word = dictionary, passes=20,chunksize=400,random_state=43)"
      ],
      "execution_count": 0,
      "outputs": []
    },
    {
      "cell_type": "code",
      "metadata": {
        "id": "wWb6x__9l_rR",
        "colab_type": "code",
        "colab": {}
      },
      "source": [
        "lda_final.save('lda_final')\n",
        "dictionary.save('dictionary')\n",
        "corpora.MmCorpus.serialize('doc_term_matrix.mm', doc_term_matrix)"
      ],
      "execution_count": 0,
      "outputs": []
    },
    {
      "cell_type": "code",
      "metadata": {
        "id": "YHPlFXNUmLxO",
        "colab_type": "code",
        "colab": {
          "base_uri": "https://localhost:8080/",
          "height": 201
        },
        "outputId": "6034f6a0-e9c4-4072-f66c-a89c147e0ac6"
      },
      "source": [
        "a = lda_final.show_topics(num_topics=25,formatted=False,num_words=100)\n",
        "b = lda_final.top_topics(doc_term_matrix,dictionary=dictionary,topn=100) # This orders the topics in the decreasing order of coherence score\n",
        "\n"
      ],
      "execution_count": 52,
      "outputs": [
        {
          "output_type": "error",
          "ename": "NameError",
          "evalue": "ignored",
          "traceback": [
            "\u001b[0;31m---------------------------------------------------------------------------\u001b[0m",
            "\u001b[0;31mNameError\u001b[0m                                 Traceback (most recent call last)",
            "\u001b[0;32m<ipython-input-52-0c34d3099591>\u001b[0m in \u001b[0;36m<module>\u001b[0;34m()\u001b[0m\n\u001b[0;32m----> 1\u001b[0;31m \u001b[0ma\u001b[0m \u001b[0;34m=\u001b[0m \u001b[0mlda_final\u001b[0m\u001b[0;34m.\u001b[0m\u001b[0mshow_topics\u001b[0m\u001b[0;34m(\u001b[0m\u001b[0mnum_topics\u001b[0m\u001b[0;34m=\u001b[0m\u001b[0;36m25\u001b[0m\u001b[0;34m,\u001b[0m\u001b[0mformatted\u001b[0m\u001b[0;34m=\u001b[0m\u001b[0;32mFalse\u001b[0m\u001b[0;34m,\u001b[0m\u001b[0mnum_words\u001b[0m\u001b[0;34m=\u001b[0m\u001b[0;36m100\u001b[0m\u001b[0;34m)\u001b[0m\u001b[0;34m\u001b[0m\u001b[0;34m\u001b[0m\u001b[0m\n\u001b[0m\u001b[1;32m      2\u001b[0m \u001b[0mb\u001b[0m \u001b[0;34m=\u001b[0m \u001b[0mlda_final\u001b[0m\u001b[0;34m.\u001b[0m\u001b[0mtop_topics\u001b[0m\u001b[0;34m(\u001b[0m\u001b[0mdoc_term_matrix\u001b[0m\u001b[0;34m,\u001b[0m\u001b[0mdictionary\u001b[0m\u001b[0;34m=\u001b[0m\u001b[0mdictionary\u001b[0m\u001b[0;34m,\u001b[0m\u001b[0mtopn\u001b[0m\u001b[0;34m=\u001b[0m\u001b[0;36m100\u001b[0m\u001b[0;34m)\u001b[0m \u001b[0;31m# This orders the topics in the decreasing order of coherence score\u001b[0m\u001b[0;34m\u001b[0m\u001b[0;34m\u001b[0m\u001b[0m\n\u001b[1;32m      3\u001b[0m \u001b[0;34m\u001b[0m\u001b[0m\n",
            "\u001b[0;31mNameError\u001b[0m: name 'lda_final' is not defined"
          ]
        }
      ]
    },
    {
      "cell_type": "code",
      "metadata": {
        "id": "V0EXy3q_m0r5",
        "colab_type": "code",
        "colab": {
          "base_uri": "https://localhost:8080/",
          "height": 236
        },
        "outputId": "dfc2fff9-c961-4c0b-8760-b0a61c7a5dd9"
      },
      "source": [
        "topic2skillb = {}\n",
        "topic2csb = {}\n",
        "topic2skilla = {}\n",
        "topic2csa = {}\n",
        "num_topics =lda_final.num_topics\n",
        "cnt =1\n",
        "\n",
        "for ws in b:\n",
        "    wset = set(w[1] for w in ws[0])\n",
        "    topic2skillb[cnt] = wset\n",
        "    topic2csb[cnt] = ws[1]\n",
        "    cnt +=1\n",
        "cnt = 1\n",
        "for ws in a:\n",
        "    wset = set(w[0]for w in ws[1])\n",
        "    topic2skilla[ws[0]+1] = wset\n",
        "    topic2csa[cnt] = ws[1]\n",
        "    cnt +=1\n",
        " "
      ],
      "execution_count": 37,
      "outputs": [
        {
          "output_type": "error",
          "ename": "NameError",
          "evalue": "ignored",
          "traceback": [
            "\u001b[0;31m---------------------------------------------------------------------------\u001b[0m",
            "\u001b[0;31mNameError\u001b[0m                                 Traceback (most recent call last)",
            "\u001b[0;32m<ipython-input-37-c95bdea45d07>\u001b[0m in \u001b[0;36m<module>\u001b[0;34m()\u001b[0m\n\u001b[1;32m      3\u001b[0m \u001b[0mtopic2skilla\u001b[0m \u001b[0;34m=\u001b[0m \u001b[0;34m{\u001b[0m\u001b[0;34m}\u001b[0m\u001b[0;34m\u001b[0m\u001b[0;34m\u001b[0m\u001b[0m\n\u001b[1;32m      4\u001b[0m \u001b[0mtopic2csa\u001b[0m \u001b[0;34m=\u001b[0m \u001b[0;34m{\u001b[0m\u001b[0;34m}\u001b[0m\u001b[0;34m\u001b[0m\u001b[0;34m\u001b[0m\u001b[0m\n\u001b[0;32m----> 5\u001b[0;31m \u001b[0mnum_topics\u001b[0m \u001b[0;34m=\u001b[0m\u001b[0mlda_final\u001b[0m\u001b[0;34m.\u001b[0m\u001b[0mnum_topics\u001b[0m\u001b[0;34m\u001b[0m\u001b[0;34m\u001b[0m\u001b[0m\n\u001b[0m\u001b[1;32m      6\u001b[0m \u001b[0mcnt\u001b[0m \u001b[0;34m=\u001b[0m\u001b[0;36m1\u001b[0m\u001b[0;34m\u001b[0m\u001b[0;34m\u001b[0m\u001b[0m\n\u001b[1;32m      7\u001b[0m \u001b[0;34m\u001b[0m\u001b[0m\n",
            "\u001b[0;31mNameError\u001b[0m: name 'lda_final' is not defined"
          ]
        }
      ]
    },
    {
      "cell_type": "code",
      "metadata": {
        "id": "3OpE68pyn7qH",
        "colab_type": "code",
        "colab": {}
      },
      "source": [
        "for i in range(1,num_topics+1):\n",
        "    for j in range(1,num_topics+1):  \n",
        "        if topic2skilla[i].intersection(topic2skillb[j])==topic2skilla[i]:\n",
        "            topic2csa[i] = topic2csb[j]"
      ],
      "execution_count": 0,
      "outputs": []
    },
    {
      "cell_type": "code",
      "metadata": {
        "id": "bKWXsG5dmqEN",
        "colab_type": "code",
        "colab": {
          "base_uri": "https://localhost:8080/",
          "height": 797
        },
        "outputId": "d34e6bad-df09-4ea8-c147-a6b1978a8fab"
      },
      "source": [
        "\n",
        "    \n",
        "finalData = pd.DataFrame([],columns=['Topic','words'])\n",
        "finalData['Topic']=topic2skilla.keys()\n",
        "finalData['Topic'] = finalData['Topic'].apply(lambda x: 'Topic'+str(x))\n",
        "finalData['words']=topic2skilla.values()\n",
        "finalData['cs'] = topic2csa.values()\n",
        "\n",
        "finalData.sort_values(by='cs',ascending=False,inplace=True)\n",
        "finalData.to_csv('CoherenceScore.csv')\n",
        "finalData\n"
      ],
      "execution_count": 56,
      "outputs": [
        {
          "output_type": "execute_result",
          "data": {
            "text/html": [
              "<div>\n",
              "<style scoped>\n",
              "    .dataframe tbody tr th:only-of-type {\n",
              "        vertical-align: middle;\n",
              "    }\n",
              "\n",
              "    .dataframe tbody tr th {\n",
              "        vertical-align: top;\n",
              "    }\n",
              "\n",
              "    .dataframe thead th {\n",
              "        text-align: right;\n",
              "    }\n",
              "</style>\n",
              "<table border=\"1\" class=\"dataframe\">\n",
              "  <thead>\n",
              "    <tr style=\"text-align: right;\">\n",
              "      <th></th>\n",
              "      <th>Topic</th>\n",
              "      <th>words</th>\n",
              "      <th>cs</th>\n",
              "    </tr>\n",
              "  </thead>\n",
              "  <tbody>\n",
              "    <tr>\n",
              "      <th>7</th>\n",
              "      <td>Topic8</td>\n",
              "      <td>{jaan, bad, version, mock, similar, chicken, s...</td>\n",
              "      <td>-3.826031</td>\n",
              "    </tr>\n",
              "    <tr>\n",
              "      <th>21</th>\n",
              "      <td>Topic22</td>\n",
              "      <td>{excellent, version, small, table, fast, area,...</td>\n",
              "      <td>-4.195993</td>\n",
              "    </tr>\n",
              "    <tr>\n",
              "      <th>19</th>\n",
              "      <td>Topic20</td>\n",
              "      <td>{herb, roasted, dress, top, seed, mix, avo, ov...</td>\n",
              "      <td>-4.329468</td>\n",
              "    </tr>\n",
              "    <tr>\n",
              "      <th>2</th>\n",
              "      <td>Topic3</td>\n",
              "      <td>{year, bad, sure, place, hungry, mean, taste, ...</td>\n",
              "      <td>-4.581100</td>\n",
              "    </tr>\n",
              "    <tr>\n",
              "      <th>24</th>\n",
              "      <td>Topic25</td>\n",
              "      <td>{group, small, sure, chicken, precio, cook, so...</td>\n",
              "      <td>-5.159432</td>\n",
              "    </tr>\n",
              "    <tr>\n",
              "      <th>16</th>\n",
              "      <td>Topic17</td>\n",
              "      <td>{jaan, desert, whip, dense, sugar, top, dairy,...</td>\n",
              "      <td>-5.584490</td>\n",
              "    </tr>\n",
              "    <tr>\n",
              "      <th>0</th>\n",
              "      <td>Topic1</td>\n",
              "      <td>{excellent, jaan, dipping, chicken, wing, ranc...</td>\n",
              "      <td>-6.311987</td>\n",
              "    </tr>\n",
              "    <tr>\n",
              "      <th>23</th>\n",
              "      <td>Topic24</td>\n",
              "      <td>{porque, uno, mejore, frutos, toda, mis, otro,...</td>\n",
              "      <td>-7.019867</td>\n",
              "    </tr>\n",
              "    <tr>\n",
              "      <th>8</th>\n",
              "      <td>Topic9</td>\n",
              "      <td>{plastic, work, small, quick, soup, mix, pumpk...</td>\n",
              "      <td>-7.055661</td>\n",
              "    </tr>\n",
              "    <tr>\n",
              "      <th>15</th>\n",
              "      <td>Topic16</td>\n",
              "      <td>{gourmet, version, sure, pumpkin, pizza, nice,...</td>\n",
              "      <td>-7.541149</td>\n",
              "    </tr>\n",
              "    <tr>\n",
              "      <th>17</th>\n",
              "      <td>Topic18</td>\n",
              "      <td>{uno, especias, ensalada, abundante, soja, veg...</td>\n",
              "      <td>-7.882794</td>\n",
              "    </tr>\n",
              "    <tr>\n",
              "      <th>6</th>\n",
              "      <td>Topic7</td>\n",
              "      <td>{goji, tamale, sugar, top, seed, heart, smooth...</td>\n",
              "      <td>-7.993315</td>\n",
              "    </tr>\n",
              "    <tr>\n",
              "      <th>12</th>\n",
              "      <td>Topic13</td>\n",
              "      <td>{small, bili, naan, cook, side, fill, brown, n...</td>\n",
              "      <td>-8.020231</td>\n",
              "    </tr>\n",
              "    <tr>\n",
              "      <th>9</th>\n",
              "      <td>Topic10</td>\n",
              "      <td>{BEST, small, whip, seed, pancake, pumpkin, fi...</td>\n",
              "      <td>-8.595889</td>\n",
              "    </tr>\n",
              "    <tr>\n",
              "      <th>18</th>\n",
              "      <td>Topic19</td>\n",
              "      <td>{mejore, comer, champiñone, menú, encanta, los...</td>\n",
              "      <td>-8.753454</td>\n",
              "    </tr>\n",
              "    <tr>\n",
              "      <th>1</th>\n",
              "      <td>Topic2</td>\n",
              "      <td>{excellent, Supporters, heart, nice, watery, b...</td>\n",
              "      <td>-8.776390</td>\n",
              "    </tr>\n",
              "    <tr>\n",
              "      <th>4</th>\n",
              "      <td>Topic5</td>\n",
              "      <td>{Báhn, ready, small, Tasty, chicken, ranch, hu...</td>\n",
              "      <td>-9.241318</td>\n",
              "    </tr>\n",
              "    <tr>\n",
              "      <th>10</th>\n",
              "      <td>Topic11</td>\n",
              "      <td>{veganesa, espectacular, porque, jugo, comer, ...</td>\n",
              "      <td>-10.698080</td>\n",
              "    </tr>\n",
              "    <tr>\n",
              "      <th>14</th>\n",
              "      <td>Topic15</td>\n",
              "      <td>{mylk, plastic, sugar, coffee, dairy, Naan, ce...</td>\n",
              "      <td>-10.808387</td>\n",
              "    </tr>\n",
              "    <tr>\n",
              "      <th>3</th>\n",
              "      <td>Topic4</td>\n",
              "      <td>{sooo, Brownie, version, Maui, top, bomb, jala...</td>\n",
              "      <td>-11.054911</td>\n",
              "    </tr>\n",
              "    <tr>\n",
              "      <th>22</th>\n",
              "      <td>Topic23</td>\n",
              "      <td>{move, wide, knowledgeable, cuisine, Falafel, ...</td>\n",
              "      <td>-14.627020</td>\n",
              "    </tr>\n",
              "    <tr>\n",
              "      <th>20</th>\n",
              "      <td>Topic21</td>\n",
              "      <td>{Gluten, forest, melaka, dairy, hug, soooo, Ne...</td>\n",
              "      <td>-15.647656</td>\n",
              "    </tr>\n",
              "    <tr>\n",
              "      <th>13</th>\n",
              "      <td>Topic14</td>\n",
              "      <td>{ceviche, MSG, gem, assure, stunning, shot, ra...</td>\n",
              "      <td>-15.775190</td>\n",
              "    </tr>\n",
              "    <tr>\n",
              "      <th>11</th>\n",
              "      <td>Topic12</td>\n",
              "      <td>{veganfoodshare, perfecto, eastern, felafel, h...</td>\n",
              "      <td>-16.146410</td>\n",
              "    </tr>\n",
              "    <tr>\n",
              "      <th>5</th>\n",
              "      <td>Topic6</td>\n",
              "      <td>{encantó, Salad, hermosa, excite, quiche, Cook...</td>\n",
              "      <td>-16.497536</td>\n",
              "    </tr>\n",
              "  </tbody>\n",
              "</table>\n",
              "</div>"
            ],
            "text/plain": [
              "      Topic                                              words         cs\n",
              "7    Topic8  {jaan, bad, version, mock, similar, chicken, s...  -3.826031\n",
              "21  Topic22  {excellent, version, small, table, fast, area,...  -4.195993\n",
              "19  Topic20  {herb, roasted, dress, top, seed, mix, avo, ov...  -4.329468\n",
              "2    Topic3  {year, bad, sure, place, hungry, mean, taste, ...  -4.581100\n",
              "24  Topic25  {group, small, sure, chicken, precio, cook, so...  -5.159432\n",
              "16  Topic17  {jaan, desert, whip, dense, sugar, top, dairy,...  -5.584490\n",
              "0    Topic1  {excellent, jaan, dipping, chicken, wing, ranc...  -6.311987\n",
              "23  Topic24  {porque, uno, mejore, frutos, toda, mis, otro,...  -7.019867\n",
              "8    Topic9  {plastic, work, small, quick, soup, mix, pumpk...  -7.055661\n",
              "15  Topic16  {gourmet, version, sure, pumpkin, pizza, nice,...  -7.541149\n",
              "17  Topic18  {uno, especias, ensalada, abundante, soja, veg...  -7.882794\n",
              "6    Topic7  {goji, tamale, sugar, top, seed, heart, smooth...  -7.993315\n",
              "12  Topic13  {small, bili, naan, cook, side, fill, brown, n...  -8.020231\n",
              "9   Topic10  {BEST, small, whip, seed, pancake, pumpkin, fi...  -8.595889\n",
              "18  Topic19  {mejore, comer, champiñone, menú, encanta, los...  -8.753454\n",
              "1    Topic2  {excellent, Supporters, heart, nice, watery, b...  -8.776390\n",
              "4    Topic5  {Báhn, ready, small, Tasty, chicken, ranch, hu...  -9.241318\n",
              "10  Topic11  {veganesa, espectacular, porque, jugo, comer, ... -10.698080\n",
              "14  Topic15  {mylk, plastic, sugar, coffee, dairy, Naan, ce... -10.808387\n",
              "3    Topic4  {sooo, Brownie, version, Maui, top, bomb, jala... -11.054911\n",
              "22  Topic23  {move, wide, knowledgeable, cuisine, Falafel, ... -14.627020\n",
              "20  Topic21  {Gluten, forest, melaka, dairy, hug, soooo, Ne... -15.647656\n",
              "13  Topic14  {ceviche, MSG, gem, assure, stunning, shot, ra... -15.775190\n",
              "11  Topic12  {veganfoodshare, perfecto, eastern, felafel, h... -16.146410\n",
              "5    Topic6  {encantó, Salad, hermosa, excite, quiche, Cook... -16.497536"
            ]
          },
          "metadata": {
            "tags": []
          },
          "execution_count": 56
        }
      ]
    },
    {
      "cell_type": "code",
      "metadata": {
        "id": "AO7goWvUp5Pa",
        "colab_type": "code",
        "colab": {
          "base_uri": "https://localhost:8080/",
          "height": 1000
        },
        "outputId": "e242fe7b-7065-49b8-9ed1-91634f2828f7"
      },
      "source": [
        "finalData['words'][8]"
      ],
      "execution_count": 59,
      "outputs": [
        {
          "output_type": "execute_result",
          "data": {
            "text/plain": [
              "{'Buddha',\n",
              " 'Lima',\n",
              " 'Place',\n",
              " 'big',\n",
              " 'blend',\n",
              " 'bowl',\n",
              " 'bring',\n",
              " 'broth',\n",
              " 'building',\n",
              " 'cheap',\n",
              " 'cold',\n",
              " 'come',\n",
              " 'consider',\n",
              " 'cost',\n",
              " 'court',\n",
              " 'cute',\n",
              " 'day',\n",
              " 'delicious',\n",
              " 'develop',\n",
              " 'dinner',\n",
              " 'eat',\n",
              " 'evening',\n",
              " 'favourite',\n",
              " 'feel',\n",
              " 'fill',\n",
              " 'filling',\n",
              " 'floor',\n",
              " 'food',\n",
              " 'forget',\n",
              " 'fresh',\n",
              " 'good',\n",
              " 'goodness',\n",
              " 'great',\n",
              " 'healthy',\n",
              " 'hearty',\n",
              " 'high',\n",
              " 'hominy',\n",
              " 'hot',\n",
              " 'ingredient',\n",
              " 'know',\n",
              " 'light',\n",
              " 'lil',\n",
              " 'look',\n",
              " 'lot',\n",
              " 'love',\n",
              " 'lovely',\n",
              " 'lunch',\n",
              " 'mark',\n",
              " 'meal',\n",
              " 'mix',\n",
              " 'need',\n",
              " 'newarc',\n",
              " 'nice',\n",
              " 'nourishing',\n",
              " 'nutritious',\n",
              " 'office',\n",
              " 'option',\n",
              " 'organic',\n",
              " 'pack',\n",
              " 'perfect',\n",
              " 'plantbasedjapan',\n",
              " 'plastic',\n",
              " 'poke',\n",
              " 'popolo',\n",
              " 'porridge',\n",
              " 'price',\n",
              " 'pumpkin',\n",
              " 'quality',\n",
              " 'quick',\n",
              " 'recommend',\n",
              " 'refreshing',\n",
              " 'salad',\n",
              " 'satisfying',\n",
              " 'simple',\n",
              " 'small',\n",
              " 'snack',\n",
              " 'soba',\n",
              " 'soft',\n",
              " 'soup',\n",
              " 'spend',\n",
              " 'starter',\n",
              " 'store',\n",
              " 'summer',\n",
              " 'super',\n",
              " 'tamari',\n",
              " 'taste',\n",
              " 'tasting',\n",
              " 'tasty',\n",
              " 'today',\n",
              " 'tofu',\n",
              " 'topping',\n",
              " 'use',\n",
              " 'veg',\n",
              " 'veggie',\n",
              " 'want',\n",
              " 'warm',\n",
              " 'wish',\n",
              " 'work',\n",
              " 'wrap',\n",
              " 'yummy'}"
            ]
          },
          "metadata": {
            "tags": []
          },
          "execution_count": 59
        }
      ]
    },
    {
      "cell_type": "code",
      "metadata": {
        "id": "F0lIOwScbRDX",
        "colab_type": "code",
        "colab": {
          "base_uri": "https://localhost:8080/",
          "height": 976
        },
        "outputId": "34f66c01-5f61-43a1-b30b-7c57acdf384c"
      },
      "source": [
        "num_topics =25\n",
        "vis = pyLDAvis.gensim.prepare(lda, doc_term_matrix, dictionary,sort_topics=False)\n",
        "pyLDAvis.save_html(vis,f'pyLDAvis_5.html')\n",
        "vis"
      ],
      "execution_count": 42,
      "outputs": [
        {
          "output_type": "execute_result",
          "data": {
            "text/plain": [
              "PreparedData(topic_coordinates=              x         y  topics  cluster       Freq\n",
              "topic                                                \n",
              "0      0.167282 -0.075295       1        1   5.309484\n",
              "1      0.096684 -0.024167       2        1   3.579478\n",
              "2      0.155190 -0.040348       3        1   8.113931\n",
              "3     -0.017780  0.076410       4        1   2.372373\n",
              "4      0.088729  0.000357       5        1   1.924057\n",
              "5     -0.123404  0.206617       6        1   1.522813\n",
              "6     -0.002973  0.083241       7        1   2.573782\n",
              "7      0.212496 -0.141742       8        1  10.640517\n",
              "8      0.115707 -0.018497       9        1   4.048420\n",
              "9      0.092199  0.006386      10        1   2.568470\n",
              "10    -0.294489 -0.095425      11        1   2.770185\n",
              "11    -0.107236  0.193953      12        1   1.118181\n",
              "12     0.100918 -0.036360      13        1   3.318842\n",
              "13    -0.088409  0.173663      14        1   1.648863\n",
              "14    -0.003472  0.073264      15        1   2.613398\n",
              "15     0.133311 -0.023684      16        1   4.117523\n",
              "16     0.146349 -0.029941      17        1   5.820452\n",
              "17    -0.313779 -0.176363      18        1   2.866163\n",
              "18    -0.316890 -0.167682      19        1   3.183002\n",
              "19     0.143636 -0.083985      20        1   7.796967\n",
              "20    -0.094158  0.182288      21        1   1.625238\n",
              "21     0.174205 -0.025435      22        1   9.148792\n",
              "22    -0.089920  0.184239      23        1   1.858103\n",
              "23    -0.321753 -0.163714      24        1   3.147540\n",
              "24     0.147555 -0.077778      25        1   6.313429, topic_info=    Category          Freq      Term         Total  loglift  logprob\n",
              "254  Default  17693.000000     vegan  17693.000000  30.0000  30.0000\n",
              "88   Default   4366.000000      rice   4366.000000  29.0000  29.0000\n",
              "208  Default   3738.000000    cheese   3738.000000  28.0000  28.0000\n",
              "12   Default   3358.000000    burger   3358.000000  27.0000  27.0000\n",
              "18   Default   3427.000000       con   3427.000000  26.0000  26.0000\n",
              "..       ...           ...       ...           ...      ...      ...\n",
              "249  Topic25    428.022980      love   6464.190430   0.0476  -4.8316\n",
              "254  Topic25    483.240479     vegan  17693.197266  -0.8379  -4.7103\n",
              "30   Topic25    444.703674      good  14371.677734  -0.7131  -4.7934\n",
              "42   Topic25    337.922211  mushroom   3386.321045   0.4578  -5.0680\n",
              "136  Topic25    327.382599       eat   3693.008057   0.3394  -5.0997\n",
              "\n",
              "[1462 rows x 6 columns], token_table=       Topic      Freq            Term\n",
              "term                                  \n",
              "34945      7  0.996900             AED\n",
              "9946      18  0.990370          Además\n",
              "24006     18  0.753116  AnimalLibreArg\n",
              "24006     19  0.243655  AnimalLibreArg\n",
              "2048      12  0.058201            Bali\n",
              "...      ...       ...             ...\n",
              "457       25  0.057219           yummy\n",
              "14490     11  0.993793       zanahoria\n",
              "705       16  0.060958        zucchini\n",
              "705       20  0.937811        zucchini\n",
              "9174      24  0.989868           único\n",
              "\n",
              "[2552 rows x 3 columns], R=30, lambda_step=0.01, plot_opts={'xlab': 'PC1', 'ylab': 'PC2'}, topic_order=[1, 2, 3, 4, 5, 6, 7, 8, 9, 10, 11, 12, 13, 14, 15, 16, 17, 18, 19, 20, 21, 22, 23, 24, 25])"
            ]
          },
          "metadata": {
            "tags": []
          },
          "execution_count": 42
        }
      ]
    },
    {
      "cell_type": "code",
      "metadata": {
        "id": "eJck3ELQqg94",
        "colab_type": "code",
        "colab": {
          "base_uri": "https://localhost:8080/",
          "height": 976
        },
        "outputId": "cb08405c-885b-42eb-9276-e8f71b6bcde5"
      },
      "source": [
        "num_topics =25\n",
        "vis = pyLDAvis.gensim.prepare(lda_final, doc_term_matrix, dictionary,sort_topics=False)\n",
        "pyLDAvis.save_html(vis,f'pyLDAvis_{num_topics}.html')\n",
        "vis"
      ],
      "execution_count": 121,
      "outputs": [
        {
          "output_type": "execute_result",
          "data": {
            "text/plain": [
              "PreparedData(topic_coordinates=              x         y  topics  cluster      Freq\n",
              "topic                                               \n",
              "0      0.100678 -0.153146       1        1  5.095597\n",
              "1     -0.264049 -0.030068       2        1  1.770805\n",
              "2      0.155838  0.037616       3        1  7.316247\n",
              "3     -0.033516  0.052510       4        1  2.362251\n",
              "4     -0.019049 -0.065368       5        1  2.653512\n",
              "5     -0.083932 -0.064719       6        1  2.872945\n",
              "6      0.069926 -0.021238       7        1  3.512070\n",
              "7     -0.112036  0.000277       8        1  2.498696\n",
              "8      0.097323  0.000624       9        1  4.561342\n",
              "9     -0.003010 -0.010894      10        1  3.118087\n",
              "10     0.035143  0.028936      11        1  4.190141\n",
              "11    -0.075901  0.168178      12        1  4.245382\n",
              "12     0.051986  0.095443      13        1  4.850162\n",
              "13     0.059736  0.057681      14        1  3.883035\n",
              "14    -0.062618 -0.096820      15        1  2.219912\n",
              "15    -0.072562  0.052126      16        1  3.165334\n",
              "16    -0.184437  0.009625      17        1  2.289001\n",
              "17     0.101240  0.078982      18        1  7.005152\n",
              "18     0.021197 -0.165587      19        1  2.640085\n",
              "19     0.113064  0.024524      20        1  6.208794\n",
              "20    -0.056541 -0.011486      21        1  2.363161\n",
              "21    -0.118359 -0.047698      22        1  1.895395\n",
              "22     0.123189 -0.073581      23        1  7.586606\n",
              "23     0.129356 -0.070545      24        1  5.884251\n",
              "24     0.027336  0.204630      25        1  5.812034, topic_info=    Category        Freq       Term       Total  loglift  logprob\n",
              "12   Default  237.000000     burger  237.000000  30.0000  30.0000\n",
              "780  Default  163.000000      pizza  163.000000  29.0000  29.0000\n",
              "192  Default  216.000000      salad  216.000000  28.0000  28.0000\n",
              "147  Default  106.000000       soup  106.000000  27.0000  27.0000\n",
              "328  Default  116.000000      cream  116.000000  26.0000  26.0000\n",
              "..       ...         ...        ...         ...      ...      ...\n",
              "101  Topic25   19.390507  delicious  269.183044   0.2146  -4.8181\n",
              "84   Topic25   16.203707    healthy  136.526047   0.7140  -4.9976\n",
              "42   Topic25   16.062670   mushroom  194.432266   0.3517  -5.0063\n",
              "423  Topic25   14.874241       bowl  161.458282   0.4606  -5.0832\n",
              "170  Topic25   14.701985    flavour  201.532715   0.2273  -5.0949\n",
              "\n",
              "[1667 rows x 6 columns], token_table=      Topic      Freq         Term\n",
              "term                              \n",
              "3409     13  0.641787         Acai\n",
              "3759      6  0.871962    Afterglow\n",
              "4987     10  0.436262   Albóndigas\n",
              "4145      4  0.855852     Amritsar\n",
              "4263     20  0.925694  Aphrodisiac\n",
              "...     ...       ...          ...\n",
              "453      23  0.215296        yummy\n",
              "453      24  0.125589        yummy\n",
              "2651      6  0.667640         zero\n",
              "2651     15  0.166910         zero\n",
              "1975     14  0.894601         zing\n",
              "\n",
              "[3686 rows x 3 columns], R=30, lambda_step=0.01, plot_opts={'xlab': 'PC1', 'ylab': 'PC2'}, topic_order=[1, 2, 3, 4, 5, 6, 7, 8, 9, 10, 11, 12, 13, 14, 15, 16, 17, 18, 19, 20, 21, 22, 23, 24, 25])"
            ]
          },
          "metadata": {
            "tags": []
          },
          "execution_count": 121
        }
      ]
    },
    {
      "cell_type": "code",
      "metadata": {
        "id": "j40_W4um4wqo",
        "colab_type": "code",
        "colab": {}
      },
      "source": [
        "token_percent = vis.topic_coordinates.sort_values(by='topics').loc[:,['topics','Freq']]"
      ],
      "execution_count": 0,
      "outputs": []
    },
    {
      "cell_type": "code",
      "metadata": {
        "id": "opHw1tSu4gt0",
        "colab_type": "code",
        "colab": {}
      },
      "source": [
        "def get_relevant_words(vis,lam=0.3,topn=10):\n",
        "    a = vis.topic_info\n",
        "    a['finalscore'] = a['logprob']*lam+(1-lam)*a['loglift']\n",
        "    a = a.loc[:,['Category','Term','finalscore']].groupby(['Category'])\\\n",
        "    .apply(lambda x: x.sort_values(by='finalscore',ascending=False).head(topn))\n",
        "    a = a.loc[:,'Term'].reset_index().loc[:,['Category','Term']]\n",
        "    a = a[a['Category']!='Default']\n",
        "    a = a.to_dict('split')['data']\n",
        "    d ={}\n",
        "    for k,v in a: \n",
        "        if k not in d.keys():\n",
        "            d[k] =set()\n",
        "            d[k].add(v)\n",
        "        else:\n",
        "            d[k].add(v)\n",
        "    finalData = pd.DataFrame([],columns=['Topic','words with Relevance'])\n",
        "    finalData['Topic']=d.keys()\n",
        "    finalData['words with Relevance']=d.values()\n",
        "    return finalData"
      ],
      "execution_count": 0,
      "outputs": []
    },
    {
      "cell_type": "code",
      "metadata": {
        "id": "IQXlbsP04qvQ",
        "colab_type": "code",
        "colab": {
          "base_uri": "https://localhost:8080/",
          "height": 191
        },
        "outputId": "f61a6429-a500-47dd-fc5e-9f9fe7227cb3"
      },
      "source": [
        "finalData['words'][11]"
      ],
      "execution_count": 51,
      "outputs": [
        {
          "output_type": "execute_result",
          "data": {
            "text/plain": [
              "{'food',\n",
              " 'govegan',\n",
              " 'low',\n",
              " 'oil',\n",
              " 'papa',\n",
              " 'pasta',\n",
              " 'vegan',\n",
              " 'veganlife',\n",
              " 'vomx',\n",
              " 'yummy'}"
            ]
          },
          "metadata": {
            "tags": []
          },
          "execution_count": 51
        }
      ]
    },
    {
      "cell_type": "code",
      "metadata": {
        "id": "vC6p65fI4n5j",
        "colab_type": "code",
        "colab": {
          "base_uri": "https://localhost:8080/",
          "height": 797
        },
        "outputId": "e9461dc2-2664-4073-afb8-a8ee1326b962"
      },
      "source": [
        "get_relevant_words(vis,0.3).merge(finalData,how='left',on ='Topic').sort_values(by='cs',ascending=False).iloc[:,[0,1]]"
      ],
      "execution_count": 45,
      "outputs": [
        {
          "output_type": "execute_result",
          "data": {
            "text/html": [
              "<div>\n",
              "<style scoped>\n",
              "    .dataframe tbody tr th:only-of-type {\n",
              "        vertical-align: middle;\n",
              "    }\n",
              "\n",
              "    .dataframe tbody tr th {\n",
              "        vertical-align: top;\n",
              "    }\n",
              "\n",
              "    .dataframe thead th {\n",
              "        text-align: right;\n",
              "    }\n",
              "</style>\n",
              "<table border=\"1\" class=\"dataframe\">\n",
              "  <thead>\n",
              "    <tr style=\"text-align: right;\">\n",
              "      <th></th>\n",
              "      <th>Topic</th>\n",
              "      <th>words with Relevance</th>\n",
              "    </tr>\n",
              "  </thead>\n",
              "  <tbody>\n",
              "    <tr>\n",
              "      <th>14</th>\n",
              "      <td>Topic22</td>\n",
              "      <td>{place, service, food, option, offer, friendly...</td>\n",
              "    </tr>\n",
              "    <tr>\n",
              "      <th>16</th>\n",
              "      <td>Topic24</td>\n",
              "      <td>{hay, nada, mis, rojo, gustó, elhogar, pero, e...</td>\n",
              "    </tr>\n",
              "    <tr>\n",
              "      <th>8</th>\n",
              "      <td>Topic17</td>\n",
              "      <td>{dessert, cake, comida, moist, cookie, donut, ...</td>\n",
              "    </tr>\n",
              "    <tr>\n",
              "      <th>18</th>\n",
              "      <td>Topic3</td>\n",
              "      <td>{photo, buy, time, eat, friend, year, wait, ta...</td>\n",
              "    </tr>\n",
              "    <tr>\n",
              "      <th>9</th>\n",
              "      <td>Topic18</td>\n",
              "      <td>{con, papas, sabore, Muy, postre, tomate, frit...</td>\n",
              "    </tr>\n",
              "    <tr>\n",
              "      <th>0</th>\n",
              "      <td>Topic1</td>\n",
              "      <td>{asher, Burger, Price, patty, burger, fry, bun...</td>\n",
              "    </tr>\n",
              "    <tr>\n",
              "      <th>23</th>\n",
              "      <td>Topic8</td>\n",
              "      <td>{interesting, taste, texture, little, mock, di...</td>\n",
              "    </tr>\n",
              "    <tr>\n",
              "      <th>17</th>\n",
              "      <td>Topic25</td>\n",
              "      <td>{yam, brown, tofu, porción, precio, rice, soup...</td>\n",
              "    </tr>\n",
              "    <tr>\n",
              "      <th>12</th>\n",
              "      <td>Topic20</td>\n",
              "      <td>{falafel, tomato, hummus, pepper, dressing, sa...</td>\n",
              "    </tr>\n",
              "    <tr>\n",
              "      <th>24</th>\n",
              "      <td>Topic9</td>\n",
              "      <td>{fresh, bowl, lunch, poke, meal, healthy, offi...</td>\n",
              "    </tr>\n",
              "    <tr>\n",
              "      <th>4</th>\n",
              "      <td>Topic13</td>\n",
              "      <td>{wholesome, lotus, vege, portion, curry, servi...</td>\n",
              "    </tr>\n",
              "    <tr>\n",
              "      <th>10</th>\n",
              "      <td>Topic19</td>\n",
              "      <td>{tierradeanimale, lugar, elparaisodelosanimale...</td>\n",
              "    </tr>\n",
              "    <tr>\n",
              "      <th>11</th>\n",
              "      <td>Topic2</td>\n",
              "      <td>{watery, crfsg, overpower, greyton, pure, leve...</td>\n",
              "    </tr>\n",
              "    <tr>\n",
              "      <th>22</th>\n",
              "      <td>Topic7</td>\n",
              "      <td>{yogurt, description, chia, juice, AED, smooth...</td>\n",
              "    </tr>\n",
              "    <tr>\n",
              "      <th>2</th>\n",
              "      <td>Topic11</td>\n",
              "      <td>{SantuarioGaia, veganesa, fruta, contundente, ...</td>\n",
              "    </tr>\n",
              "    <tr>\n",
              "      <th>1</th>\n",
              "      <td>Topic10</td>\n",
              "      <td>{country, gado, Dough, Creamy, inside, outside...</td>\n",
              "    </tr>\n",
              "    <tr>\n",
              "      <th>7</th>\n",
              "      <td>Topic16</td>\n",
              "      <td>{artichoke, pizza, veganoutreach, pesto, tiene...</td>\n",
              "    </tr>\n",
              "    <tr>\n",
              "      <th>20</th>\n",
              "      <td>Topic5</td>\n",
              "      <td>{fin, multigrain, plantbase, Tasty, wrong, dig...</td>\n",
              "    </tr>\n",
              "    <tr>\n",
              "      <th>19</th>\n",
              "      <td>Topic4</td>\n",
              "      <td>{ideal, burrito, feta, animalsnow, hacen, nach...</td>\n",
              "    </tr>\n",
              "    <tr>\n",
              "      <th>5</th>\n",
              "      <td>Topic14</td>\n",
              "      <td>{animal, value, Seyks, comfort, meatball, sin,...</td>\n",
              "    </tr>\n",
              "    <tr>\n",
              "      <th>3</th>\n",
              "      <td>Topic12</td>\n",
              "      <td>{veganfoodshare, plantbasedfood, veganlife, an...</td>\n",
              "    </tr>\n",
              "    <tr>\n",
              "      <th>6</th>\n",
              "      <td>Topic15</td>\n",
              "      <td>{drink, pedir, latte, tea, coffee, cup, tienen...</td>\n",
              "    </tr>\n",
              "    <tr>\n",
              "      <th>15</th>\n",
              "      <td>Topic23</td>\n",
              "      <td>{base, blog, taco, selection, carne, plant, sp...</td>\n",
              "    </tr>\n",
              "    <tr>\n",
              "      <th>13</th>\n",
              "      <td>Topic21</td>\n",
              "      <td>{recomiendo, almendra, alv, yum, free, gluten,...</td>\n",
              "    </tr>\n",
              "    <tr>\n",
              "      <th>21</th>\n",
              "      <td>Topic6</td>\n",
              "      <td>{croissant, Sea, presentación, versión, pastry...</td>\n",
              "    </tr>\n",
              "  </tbody>\n",
              "</table>\n",
              "</div>"
            ],
            "text/plain": [
              "      Topic                               words with Relevance\n",
              "14  Topic22  {place, service, food, option, offer, friendly...\n",
              "16  Topic24  {hay, nada, mis, rojo, gustó, elhogar, pero, e...\n",
              "8   Topic17  {dessert, cake, comida, moist, cookie, donut, ...\n",
              "18   Topic3  {photo, buy, time, eat, friend, year, wait, ta...\n",
              "9   Topic18  {con, papas, sabore, Muy, postre, tomate, frit...\n",
              "0    Topic1  {asher, Burger, Price, patty, burger, fry, bun...\n",
              "23   Topic8  {interesting, taste, texture, little, mock, di...\n",
              "17  Topic25  {yam, brown, tofu, porción, precio, rice, soup...\n",
              "12  Topic20  {falafel, tomato, hummus, pepper, dressing, sa...\n",
              "24   Topic9  {fresh, bowl, lunch, poke, meal, healthy, offi...\n",
              "4   Topic13  {wholesome, lotus, vege, portion, curry, servi...\n",
              "10  Topic19  {tierradeanimale, lugar, elparaisodelosanimale...\n",
              "11   Topic2  {watery, crfsg, overpower, greyton, pure, leve...\n",
              "22   Topic7  {yogurt, description, chia, juice, AED, smooth...\n",
              "2   Topic11  {SantuarioGaia, veganesa, fruta, contundente, ...\n",
              "1   Topic10  {country, gado, Dough, Creamy, inside, outside...\n",
              "7   Topic16  {artichoke, pizza, veganoutreach, pesto, tiene...\n",
              "20   Topic5  {fin, multigrain, plantbase, Tasty, wrong, dig...\n",
              "19   Topic4  {ideal, burrito, feta, animalsnow, hacen, nach...\n",
              "5   Topic14  {animal, value, Seyks, comfort, meatball, sin,...\n",
              "3   Topic12  {veganfoodshare, plantbasedfood, veganlife, an...\n",
              "6   Topic15  {drink, pedir, latte, tea, coffee, cup, tienen...\n",
              "15  Topic23  {base, blog, taco, selection, carne, plant, sp...\n",
              "13  Topic21  {recomiendo, almendra, alv, yum, free, gluten,...\n",
              "21   Topic6  {croissant, Sea, presentación, versión, pastry..."
            ]
          },
          "metadata": {
            "tags": []
          },
          "execution_count": 45
        }
      ]
    },
    {
      "cell_type": "code",
      "metadata": {
        "id": "r5_i494GUOU2",
        "colab_type": "code",
        "colab": {}
      },
      "source": [
        ""
      ],
      "execution_count": 0,
      "outputs": []
    }
  ]
}