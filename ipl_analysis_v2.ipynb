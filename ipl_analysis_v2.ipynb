{
  "nbformat": 4,
  "nbformat_minor": 0,
  "metadata": {
    "colab": {
      "name": "ipl_analysis_v2.ipynb",
      "version": "0.3.2",
      "provenance": [],
      "collapsed_sections": [],
      "toc_visible": true,
      "include_colab_link": true
    },
    "kernelspec": {
      "name": "python3",
      "display_name": "Python 3"
    },
    "accelerator": "GPU"
  },
  "cells": [
    {
      "cell_type": "markdown",
      "metadata": {
        "id": "view-in-github",
        "colab_type": "text"
      },
      "source": [
        "<a href=\"https://colab.research.google.com/github/ravi-gopalan/DAND_Data_Wrangling/blob/master/ipl_analysis_v2.ipynb\" target=\"_parent\"><img src=\"https://colab.research.google.com/assets/colab-badge.svg\" alt=\"Open In Colab\"/></a>"
      ]
    },
    {
      "cell_type": "code",
      "metadata": {
        "id": "RrkZVr6GydyX",
        "colab_type": "code",
        "outputId": "c31f1f7a-89e2-4f1a-c395-f02aa3488b2b",
        "colab": {
          "base_uri": "https://localhost:8080/",
          "height": 225
        }
      },
      "source": [
        "!ls -la"
      ],
      "execution_count": 360,
      "outputs": [
        {
          "output_type": "stream",
          "text": [
            "total 137728\n",
            "drwxr-xr-x 2 root root     4096 Jun 13 01:21 .\n",
            "drwxr-xr-x 1 root root     4096 Jun 13 01:20 ..\n",
            "---------- 1 root root 61169075 Jun  9 00:37 ball_by_ball_details.csv\n",
            "-rw-r--r-- 1 root root  1202850 Jun 13 01:21 batsman_stats.csv\n",
            "-rw-r--r-- 1 root root 24027925 Jun 13 01:21 cleansed_ball_by_ball_details.csv\n",
            "-rw-r--r-- 1 root root 47620585 Jun 13 01:21 full_ipl_details.csv\n",
            "-rw-r--r-- 1 root root  4345524 Jun 13 01:20 ipl-2008-to-2019.zip\n",
            "---------- 1 root root   176133 Jun  9 00:37 ipl_summary.csv\n",
            "---------- 1 root root  2060580 Jun  9 00:37 ipl.zip\n",
            "-rw-r--r-- 1 root root   106682 Jun 13 01:21 match_summary.csv\n",
            "-rw-r--r-- 1 root root   291508 Jun 13 01:21 players_out_by_match_view.csv\n"
          ],
          "name": "stdout"
        }
      ]
    },
    {
      "cell_type": "code",
      "metadata": {
        "id": "0DGs-VctylRX",
        "colab_type": "code",
        "outputId": "d69a0ac1-9535-4c2d-9778-6f01e8eeabc2",
        "colab": {
          "base_uri": "https://localhost:8080/",
          "height": 34
        }
      },
      "source": [
        "from google.colab import drive\n",
        "drive.mount('/content/gdrive')"
      ],
      "execution_count": 361,
      "outputs": [
        {
          "output_type": "stream",
          "text": [
            "Drive already mounted at /content/gdrive; to attempt to forcibly remount, call drive.mount(\"/content/gdrive\", force_remount=True).\n"
          ],
          "name": "stdout"
        }
      ]
    },
    {
      "cell_type": "code",
      "metadata": {
        "id": "AqxY27RGzNp8",
        "colab_type": "code",
        "outputId": "b5fa5997-f93f-47f5-ca41-3abac9cf51d7",
        "colab": {
          "base_uri": "https://localhost:8080/",
          "height": 34
        }
      },
      "source": [
        "cd /content"
      ],
      "execution_count": 362,
      "outputs": [
        {
          "output_type": "stream",
          "text": [
            "/content\n"
          ],
          "name": "stdout"
        }
      ]
    },
    {
      "cell_type": "code",
      "metadata": {
        "id": "JXm7VGDXzRSO",
        "colab_type": "code",
        "colab": {
          "base_uri": "https://localhost:8080/",
          "height": 34
        },
        "outputId": "535c12f2-e8a6-4031-c963-baaae85c2baf"
      },
      "source": [
        "!mkdir ipl"
      ],
      "execution_count": 363,
      "outputs": [
        {
          "output_type": "stream",
          "text": [
            "mkdir: cannot create directory ‘ipl’: File exists\n"
          ],
          "name": "stdout"
        }
      ]
    },
    {
      "cell_type": "code",
      "metadata": {
        "id": "pBhsAYl8zWG3",
        "colab_type": "code",
        "outputId": "d190748e-b1a9-42a9-e54b-6c93611cef83",
        "colab": {
          "base_uri": "https://localhost:8080/",
          "height": 34
        }
      },
      "source": [
        "cd /content/ipl"
      ],
      "execution_count": 364,
      "outputs": [
        {
          "output_type": "stream",
          "text": [
            "/content/ipl\n"
          ],
          "name": "stdout"
        }
      ]
    },
    {
      "cell_type": "code",
      "metadata": {
        "id": "TSoGmc0cmDUX",
        "colab_type": "code",
        "outputId": "a068ef07-dcee-42e5-ab6c-d68a4c5b837b",
        "colab": {
          "base_uri": "https://localhost:8080/",
          "height": 34
        }
      },
      "source": [
        "cd /root"
      ],
      "execution_count": 365,
      "outputs": [
        {
          "output_type": "stream",
          "text": [
            "/root\n"
          ],
          "name": "stdout"
        }
      ]
    },
    {
      "cell_type": "code",
      "metadata": {
        "id": "uMdNkWFEmHE-",
        "colab_type": "code",
        "colab": {
          "base_uri": "https://localhost:8080/",
          "height": 34
        },
        "outputId": "e5c24867-7795-4c8c-8ae7-06f33ec9463c"
      },
      "source": [
        "!mkdir .kaggle"
      ],
      "execution_count": 366,
      "outputs": [
        {
          "output_type": "stream",
          "text": [
            "mkdir: cannot create directory ‘.kaggle’: File exists\n"
          ],
          "name": "stdout"
        }
      ]
    },
    {
      "cell_type": "code",
      "metadata": {
        "id": "CRAshjcJmMuN",
        "colab_type": "code",
        "colab": {}
      },
      "source": [
        "!cp '/content/gdrive/My Drive/Colab_stuff/kaggle.json' /root/.kaggle/kaggle.json\n",
        "!chmod 600 /root/.kaggle/kaggle.json"
      ],
      "execution_count": 0,
      "outputs": []
    },
    {
      "cell_type": "code",
      "metadata": {
        "id": "VmGVUrUBouC0",
        "colab_type": "code",
        "outputId": "ae9186ca-247b-48f2-a94b-0ad18b5bd8bc",
        "colab": {
          "base_uri": "https://localhost:8080/",
          "height": 34
        }
      },
      "source": [
        "cd /content/ipl"
      ],
      "execution_count": 368,
      "outputs": [
        {
          "output_type": "stream",
          "text": [
            "/content/ipl\n"
          ],
          "name": "stdout"
        }
      ]
    },
    {
      "cell_type": "code",
      "metadata": {
        "id": "ImG8LhjRo1re",
        "colab_type": "code",
        "outputId": "6d604eab-676a-437c-ed59-a9891f6d68f5",
        "colab": {
          "base_uri": "https://localhost:8080/",
          "height": 34
        }
      },
      "source": [
        "!kaggle datasets download -d ravijee/ipl-2008-to-2019 -p /content/ipl"
      ],
      "execution_count": 369,
      "outputs": [
        {
          "output_type": "stream",
          "text": [
            "ipl-2008-to-2019.zip: Skipping, found more recently modified local copy (use --force to force download)\n"
          ],
          "name": "stdout"
        }
      ]
    },
    {
      "cell_type": "code",
      "metadata": {
        "id": "WT09_zpqs6n2",
        "colab_type": "code",
        "outputId": "40258c5d-5067-4aa1-93a9-fdc8457cb600",
        "colab": {
          "base_uri": "https://localhost:8080/",
          "height": 225
        }
      },
      "source": [
        "!ls -la"
      ],
      "execution_count": 370,
      "outputs": [
        {
          "output_type": "stream",
          "text": [
            "total 137728\n",
            "drwxr-xr-x 2 root root     4096 Jun 13 01:21 .\n",
            "drwxr-xr-x 1 root root     4096 Jun 13 01:20 ..\n",
            "---------- 1 root root 61169075 Jun  9 00:37 ball_by_ball_details.csv\n",
            "-rw-r--r-- 1 root root  1202850 Jun 13 01:21 batsman_stats.csv\n",
            "-rw-r--r-- 1 root root 24027925 Jun 13 01:21 cleansed_ball_by_ball_details.csv\n",
            "-rw-r--r-- 1 root root 47620585 Jun 13 01:21 full_ipl_details.csv\n",
            "-rw-r--r-- 1 root root  4345524 Jun 13 01:20 ipl-2008-to-2019.zip\n",
            "---------- 1 root root   176133 Jun  9 00:37 ipl_summary.csv\n",
            "---------- 1 root root  2060580 Jun  9 00:37 ipl.zip\n",
            "-rw-r--r-- 1 root root   106682 Jun 13 01:21 match_summary.csv\n",
            "-rw-r--r-- 1 root root   291508 Jun 13 01:21 players_out_by_match_view.csv\n"
          ],
          "name": "stdout"
        }
      ]
    },
    {
      "cell_type": "code",
      "metadata": {
        "id": "HnrTkHpeL6iM",
        "colab_type": "code",
        "outputId": "3d90334b-f593-4147-cb30-d428c0f00684",
        "colab": {
          "base_uri": "https://localhost:8080/",
          "height": 34
        }
      },
      "source": [
        "pwd"
      ],
      "execution_count": 371,
      "outputs": [
        {
          "output_type": "execute_result",
          "data": {
            "text/plain": [
              "'/content/ipl'"
            ]
          },
          "metadata": {
            "tags": []
          },
          "execution_count": 371
        }
      ]
    },
    {
      "cell_type": "code",
      "metadata": {
        "id": "GbfiXimFL8WX",
        "colab_type": "code",
        "colab": {
          "base_uri": "https://localhost:8080/",
          "height": 64
        },
        "outputId": "089ec011-e300-4c50-d734-5a2312eefd05"
      },
      "source": [
        "!unzip -q /content/ipl/ipl-2008-to-2019.zip"
      ],
      "execution_count": 0,
      "outputs": [
        {
          "output_type": "stream",
          "text": [
            "replace ipl_summary.csv? [y]es, [n]o, [A]ll, [N]one, [r]ename: "
          ],
          "name": "stdout"
        }
      ]
    },
    {
      "cell_type": "code",
      "metadata": {
        "id": "COctAgA-tAy5",
        "colab_type": "code",
        "colab": {}
      },
      "source": [
        "!ls -la"
      ],
      "execution_count": 0,
      "outputs": []
    },
    {
      "cell_type": "code",
      "metadata": {
        "id": "Dd-Sjf3hzwLs",
        "colab_type": "code",
        "colab": {}
      },
      "source": [
        "import pandas as pd\n",
        "import numpy as np\n",
        "import matplotlib.pyplot as plt\n",
        "import seaborn as sns\n",
        "from pathlib import Path\n",
        "\n",
        "import datetime as dt"
      ],
      "execution_count": 0,
      "outputs": []
    },
    {
      "cell_type": "code",
      "metadata": {
        "id": "QV2NGhe7MZw4",
        "colab_type": "code",
        "colab": {}
      },
      "source": [
        "base_dir = Path('/content/ipl')"
      ],
      "execution_count": 0,
      "outputs": []
    },
    {
      "cell_type": "code",
      "metadata": {
        "id": "dw09szHLH77k",
        "colab_type": "code",
        "colab": {}
      },
      "source": [
        "df_match_summary = pd.read_csv('ipl_summary.csv')"
      ],
      "execution_count": 0,
      "outputs": []
    },
    {
      "cell_type": "code",
      "metadata": {
        "id": "jx6VuPeCt4-c",
        "colab_type": "code",
        "colab": {}
      },
      "source": [
        "df_match_summary.info()"
      ],
      "execution_count": 0,
      "outputs": []
    },
    {
      "cell_type": "code",
      "metadata": {
        "id": "o7ISNE0X6JiD",
        "colab_type": "code",
        "colab": {}
      },
      "source": [
        "df_match_summary = df_match_summary.set_index('match_id')"
      ],
      "execution_count": 0,
      "outputs": []
    },
    {
      "cell_type": "code",
      "metadata": {
        "id": "PXbZKpGz1-1o",
        "colab_type": "code",
        "colab": {}
      },
      "source": [
        "df_match_summary.head()"
      ],
      "execution_count": 0,
      "outputs": []
    },
    {
      "cell_type": "code",
      "metadata": {
        "id": "Lhw0DqtnuUIj",
        "colab_type": "code",
        "colab": {}
      },
      "source": [
        "df_match_summary['match_date'] = pd.to_datetime(df_match_summary['dates'].str[2:12])"
      ],
      "execution_count": 0,
      "outputs": []
    },
    {
      "cell_type": "code",
      "metadata": {
        "id": "4RN8_8nzu5Xm",
        "colab_type": "code",
        "colab": {}
      },
      "source": [
        "df_match_summary.info()"
      ],
      "execution_count": 0,
      "outputs": []
    },
    {
      "cell_type": "code",
      "metadata": {
        "id": "ATeMc12Nxos-",
        "colab_type": "code",
        "colab": {}
      },
      "source": [
        "df_match_summary['player_of_match'] = df_match_summary['player_of_match'].str[2:-2]\n",
        "df_match_summary.drop(['by','dates'], axis=1, inplace=True)\n",
        "df_match_summary.rename(columns={'decision':'toss_decision'}, inplace=True)"
      ],
      "execution_count": 0,
      "outputs": []
    },
    {
      "cell_type": "code",
      "metadata": {
        "id": "gUIG5Lpi1Azf",
        "colab_type": "code",
        "colab": {}
      },
      "source": [
        "df_teams = pd.DataFrame(df_match_summary.teams.str.split(',',n=2,expand=True))\n",
        "df_teams.rename(columns={0:'team_1',1:'team_2'},inplace=True)\n",
        "df_teams.team_1 = df_teams.team_1.str[2:-1] \n",
        "df_teams.team_2 = df_teams.team_2.str[2:-2] \n",
        "df_teams.head()"
      ],
      "execution_count": 0,
      "outputs": []
    },
    {
      "cell_type": "code",
      "metadata": {
        "id": "nMud7xls4mGe",
        "colab_type": "code",
        "colab": {}
      },
      "source": [
        "df_umpires = pd.DataFrame(df_match_summary.umpires.str.split(',',n=4,expand=True))\n",
        "df_umpires.rename(columns={0:'umpire_1',1:'umpire_2',2:'umpire_3',3:'umpire_4'},inplace=True)\n",
        "df_umpires.umpire_1 = df_umpires.umpire_1.str[2:-1] \n",
        "df_umpires.umpire_2 = df_umpires.umpire_2.str[2:-2]\n",
        "df_umpires.umpire_3 = df_umpires.umpire_3.str[2:-2]\n",
        "df_umpires.umpire_4 = df_umpires.umpire_4.str[2:-2]\n",
        "\n",
        "df_umpires.head()"
      ],
      "execution_count": 0,
      "outputs": []
    },
    {
      "cell_type": "code",
      "metadata": {
        "id": "jXhnfTK55B3C",
        "colab_type": "code",
        "colab": {}
      },
      "source": [
        "df_match_summary = df_match_summary.join(df_teams) \n",
        "df_match_summary = df_match_summary.join(df_umpires) \n",
        "df_match_summary.drop(['teams','umpires'], axis=1, inplace=True)\n",
        "df_match_summary.rename(columns={'runs':'won_by_runs','wickets':'won_by_wickets'}, inplace=True)"
      ],
      "execution_count": 0,
      "outputs": []
    },
    {
      "cell_type": "markdown",
      "metadata": {
        "id": "CIv7-kBNGuji",
        "colab_type": "text"
      },
      "source": [
        "Map team names to abbreviations and standardize names"
      ]
    },
    {
      "cell_type": "code",
      "metadata": {
        "id": "CpE8RwXPRKa-",
        "colab_type": "code",
        "colab": {}
      },
      "source": [
        "team_names = {'Rajasthan Royals':'RR',\\\n",
        "              'Mumbai Indians' : 'MI',\\\n",
        "              'Delhi Daredevils':'DD',\\\n",
        "              'Kolkata Knight Riders':'KKR',\\\n",
        "              'Kings XI Punjab':'KXP',\\\n",
        "              'Sunrisers Hyderabad':'SRH',\\\n",
        "              'Deccan Chargers':'DC-Chargers',\\\n",
        "              'Chennai Super Kings':'CSK',\\\n",
        "              'Rising Pune Supergiants':'RPS',\\\n",
        "              'Royal Challengers Bangalore':'RCB',\\\n",
        "              'Pune Warriors':'PW',\\\n",
        "              'Gujarat Lions':'GL',\\\n",
        "              'Delhi Capitals':'DC-Capitals',\\\n",
        "              'Rising Pune Supergiant':'RPS',\\\n",
        "              'Kochi Tuskers Kerala':'KTK'\n",
        "             }"
      ],
      "execution_count": 0,
      "outputs": []
    },
    {
      "cell_type": "code",
      "metadata": {
        "id": "YcJkxrnKG-pa",
        "colab_type": "code",
        "colab": {}
      },
      "source": [
        "df_match_summary['winner_toss'] = df_match_summary['winner_toss'].map(team_names)"
      ],
      "execution_count": 0,
      "outputs": []
    },
    {
      "cell_type": "code",
      "metadata": {
        "id": "Fcn6MPVjHMO3",
        "colab_type": "code",
        "colab": {}
      },
      "source": [
        "df_match_summary['winner'] = df_match_summary['winner'].map(team_names)\n",
        "df_match_summary['team_1'] = df_match_summary['team_1'].map(team_names)\n",
        "df_match_summary['team_2'] = df_match_summary['team_2'].map(team_names)"
      ],
      "execution_count": 0,
      "outputs": []
    },
    {
      "cell_type": "code",
      "metadata": {
        "id": "i0J_ejewti2g",
        "colab_type": "code",
        "colab": {}
      },
      "source": [
        "df_match_summary['season'] = df_match_summary['match_date'].dt.year"
      ],
      "execution_count": 0,
      "outputs": []
    },
    {
      "cell_type": "code",
      "metadata": {
        "id": "KwFqw03wu5j9",
        "colab_type": "code",
        "colab": {}
      },
      "source": [
        "df_match_summary.head()"
      ],
      "execution_count": 0,
      "outputs": []
    },
    {
      "cell_type": "code",
      "metadata": {
        "id": "RlE9eHnS0q_8",
        "colab_type": "code",
        "colab": {}
      },
      "source": [
        "df_match_summary.to_csv('match_summary.csv')"
      ],
      "execution_count": 0,
      "outputs": []
    },
    {
      "cell_type": "code",
      "metadata": {
        "id": "gYqp-g690Ebn",
        "colab_type": "code",
        "colab": {}
      },
      "source": [
        ""
      ],
      "execution_count": 0,
      "outputs": []
    },
    {
      "cell_type": "code",
      "metadata": {
        "id": "aiNxtp5ULdgS",
        "colab_type": "code",
        "colab": {}
      },
      "source": [
        "df_details = pd.read_csv('ball_by_ball_details.csv')"
      ],
      "execution_count": 0,
      "outputs": []
    },
    {
      "cell_type": "code",
      "metadata": {
        "id": "75Ikeert7OsH",
        "colab_type": "code",
        "colab": {}
      },
      "source": [
        "df_details = df_details.drop(columns=['by','competition','dates','decision','eliminator','gender','match_type','neutral_venue',\\\n",
        "                                      'overs','player_of_match','city','result','teams','umpires','winner','winner_toss','runs',\\\n",
        "                                      'wickets','match_date','season','venue'])"
      ],
      "execution_count": 0,
      "outputs": []
    },
    {
      "cell_type": "code",
      "metadata": {
        "id": "Z2ApN9k37cdP",
        "colab_type": "code",
        "colab": {}
      },
      "source": [
        ""
      ],
      "execution_count": 0,
      "outputs": []
    },
    {
      "cell_type": "code",
      "metadata": {
        "id": "VeVpcFaqu5ri",
        "colab_type": "code",
        "colab": {}
      },
      "source": [
        "df_details['batting_team'] = df_details['batting_team'].map(team_names)"
      ],
      "execution_count": 0,
      "outputs": []
    },
    {
      "cell_type": "code",
      "metadata": {
        "id": "LvsEh5HkuVXh",
        "colab_type": "code",
        "colab": {}
      },
      "source": [
        "df_details.head()"
      ],
      "execution_count": 0,
      "outputs": []
    },
    {
      "cell_type": "code",
      "metadata": {
        "id": "0j0qC_p9_UJu",
        "colab_type": "code",
        "colab": {}
      },
      "source": [
        "df_details['wides'] = df_details['wides'].astype('float')\n",
        "df_details['noballs'] = df_details['noballs'].astype('float')\n",
        "df_details['legbyes'] = df_details['legbyes'].astype('float')\n",
        "df_details['byes'] = df_details['byes'].astype('float')\n"
      ],
      "execution_count": 0,
      "outputs": []
    },
    {
      "cell_type": "code",
      "metadata": {
        "id": "HgiwWcNzfr6I",
        "colab_type": "code",
        "colab": {}
      },
      "source": [
        "df_details.info()"
      ],
      "execution_count": 0,
      "outputs": []
    },
    {
      "cell_type": "code",
      "metadata": {
        "id": "mrjIZiNB6fMH",
        "colab_type": "code",
        "colab": {}
      },
      "source": [
        "df_fielders = pd.DataFrame(df_details.fielders.str.split(',',n=2,expand=True))\n",
        "\n",
        "\n",
        "df_fielders.rename(columns={0:'fielder_1',1:'fielder_2',2:'fielder_3'},inplace=True)\n",
        "df_fielders.head()\n"
      ],
      "execution_count": 0,
      "outputs": []
    },
    {
      "cell_type": "code",
      "metadata": {
        "id": "Mu0X5ATRw-jV",
        "colab_type": "code",
        "colab": {}
      },
      "source": [
        "df_fielders[df_fielders['fielder_1'].notnull() & df_fielders['fielder_2'].notnull() & df_fielders['fielder_3'].notnull()]\n"
      ],
      "execution_count": 0,
      "outputs": []
    },
    {
      "cell_type": "code",
      "metadata": {
        "id": "X1jqAbDNYPSB",
        "colab_type": "code",
        "colab": {}
      },
      "source": [
        ""
      ],
      "execution_count": 0,
      "outputs": []
    },
    {
      "cell_type": "code",
      "metadata": {
        "id": "2Dwzrdl2Zvkh",
        "colab_type": "code",
        "colab": {}
      },
      "source": [
        "df_fielders['fielder_1'] = df_fielders['fielder_1'].str.replace(r\"\\[\",\"\")\n",
        "df_fielders['fielder_2'] = df_fielders['fielder_2'].str.replace(r\"\\[\",\"\")\n",
        "df_fielders['fielder_3'] = df_fielders['fielder_3'].str.replace(r\"\\[\",\"\")\n",
        "df_fielders['fielder_1'] = df_fielders['fielder_1'].str.replace(r\"\\]\",\"\")\n",
        "df_fielders['fielder_2'] = df_fielders['fielder_2'].str.replace(r\"\\]\",\"\")\n",
        "df_fielders['fielder_3'] = df_fielders['fielder_3'].str.replace(r\"\\]\",\"\")\n",
        "\n",
        "\n",
        "df_fielders['fielder_1'] = df_fielders['fielder_1'].str.replace(r\"\\'\",\"\")\n",
        "df_fielders['fielder_2'] = df_fielders['fielder_2'].str.replace(r\"\\'\",\"\")\n",
        "df_fielders['fielder_3'] = df_fielders['fielder_3'].str.replace(r\"\\'\",\"\")"
      ],
      "execution_count": 0,
      "outputs": []
    },
    {
      "cell_type": "code",
      "metadata": {
        "id": "LZy6_TFPaEBM",
        "colab_type": "code",
        "colab": {}
      },
      "source": [
        "print(df_fielders[df_fielders['fielder_1'].notnull() & df_fielders['fielder_2'].notnull() & df_fielders['fielder_3'].notnull()].head(5))\n",
        "print(df_fielders[df_fielders['fielder_1'].notnull()].head(5))"
      ],
      "execution_count": 0,
      "outputs": []
    },
    {
      "cell_type": "code",
      "metadata": {
        "id": "M2lrGJZWW4bu",
        "colab_type": "code",
        "colab": {}
      },
      "source": [
        "df_fielders.info()"
      ],
      "execution_count": 0,
      "outputs": []
    },
    {
      "cell_type": "code",
      "metadata": {
        "id": "FC_CBJORbfb4",
        "colab_type": "code",
        "colab": {}
      },
      "source": [
        "df_details = df_details.join(df_fielders)\n",
        "df_details.drop(['fielders'], axis=1, inplace=True)\n",
        "df_details.head()"
      ],
      "execution_count": 0,
      "outputs": []
    },
    {
      "cell_type": "code",
      "metadata": {
        "id": "Fy6oshEabt2S",
        "colab_type": "code",
        "colab": {}
      },
      "source": [
        ""
      ],
      "execution_count": 0,
      "outputs": []
    },
    {
      "cell_type": "code",
      "metadata": {
        "id": "IrMbzxKof0-o",
        "colab_type": "code",
        "colab": {}
      },
      "source": [
        "df_details.info()"
      ],
      "execution_count": 0,
      "outputs": []
    },
    {
      "cell_type": "code",
      "metadata": {
        "id": "EJrik67Cf6PZ",
        "colab_type": "code",
        "colab": {}
      },
      "source": [
        "df_details['level_1'] = df_details['level_1'].astype(str)"
      ],
      "execution_count": 0,
      "outputs": []
    },
    {
      "cell_type": "code",
      "metadata": {
        "id": "4df9hx1WfNy-",
        "colab_type": "code",
        "colab": {}
      },
      "source": [
        "delivery = {'0.1': '1','0.2': '2', '0.3': '3', '0.4': '4', '0.5': '5', '0.6': '6', '0.7': '7', '0.8': '8', '0.9': '9',\\\n",
        "         '1.1': '1','1.2': '2', '1.3': '3', '1.4': '4', '1.5': '5', '1.6': '6', '1.7': '7', '1.8': '8', '1.9': '9',\\\n",
        "         '2.1': '1','2.2': '2', '2.3': '3', '2.4': '4', '2.5': '5', '2.6': '6', '2.7': '7', '2.8': '8', '2.9': '9',\\\n",
        "         '3.1': '1','3.2': '2', '3.3': '3', '3.4': '4', '3.5': '5', '3.6': '6', '3.7': '7', '3.8': '8', '3.9': '9',\\\n",
        "         '4.1': '1','4.2': '2', '4.3': '3', '4.4': '4', '4.5': '5', '4.6': '6', '4.7': '7', '4.8': '8', '4.9': '9',\\\n",
        "         '5.1': '1','5.2': '2', '5.3': '3', '5.4': '4', '5.5': '5', '5.6': '6', '5.7': '7', '5.8': '8', '5.9': '9',\\\n",
        "         '6.1': '1','6.2': '2', '6.3': '3', '6.4': '4', '6.5': '5', '6.6': '6', '6.7': '7', '6.8': '8', '6.9': '9',\\\n",
        "         '7.1': '1','7.2': '2', '7.3': '3', '7.4': '4', '7.5': '5', '7.6': '6', '7.7': '7', '7.8': '8', '7.9': '9',\\\n",
        "         '8.1': '1','8.2': '2', '8.3': '3', '8.4': '4', '8.5': '5', '8.6': '6', '8.7': '7', '8.8': '8', '8.9': '9',\\\n",
        "         '9.1': '1','9.2': '2', '9.3': '3', '9.4': '4', '9.5': '5', '9.6': '6', '9.7': '7', '9.8': '8', '9.9': '9',\\\n",
        "         '10.1': '1','10.2': '2', '10.3': '3', '10.4': '4', '10.5': '5', '10.6': '6', '10.7': '7', '10.8': '8', '10.9': '9',\\\n",
        "         '11.1': '1','11.2': '2', '11.3': '3', '11.4': '4', '11.5': '5', '11.6': '6', '11.7': '7', '11.8': '8', '11.9': '9',\\\n",
        "         '12.1': '1','12.2': '2', '12.3': '3', '12.4': '4', '12.5': '5', '12.6': '6', '12.7': '7', '12.8': '8', '12.9': '9',\\\n",
        "         '13.1': '1','13.2': '2', '13.3': '3', '13.4': '4', '13.5': '5', '13.6': '6', '13.7': '7', '13.8': '8', '13.9': '9',\\\n",
        "         '14.1': '1','14.2': '2', '14.3': '3', '14.4': '4', '14.5': '5', '14.6': '6', '14.7': '7', '14.8': '8', '14.9': '9',\\\n",
        "         '15.1': '1','15.2': '2', '15.3': '3', '15.4': '4', '15.5': '5', '15.6': '6', '15.7': '7', '15.8': '8', '15.9': '9',\\\n",
        "         '16.1': '1','16.2': '2', '16.3': '3', '16.4': '4', '16.5': '5', '16.6': '6', '16.7': '7', '16.8': '8', '16.9': '9',\\\n",
        "         '17.1': '1','17.2': '2', '17.3': '3', '17.4': '4', '17.5': '5', '17.6': '6', '17.7': '7', '17.8': '8', '17.9': '9',\\\n",
        "         '18.1': '1','18.2': '2', '18.3': '3', '18.4': '4', '18.5': '5', '18.6': '6', '18.7': '7', '18.8': '8', '18.9': '9',\\\n",
        "         '19.1': '1','19.2': '2', '19.3': '3', '19.4': '4', '19.5': '5', '19.6': '6', '19.7': '7', '19.8': '8', '19.9': '9',\\\n",
        "        }"
      ],
      "execution_count": 0,
      "outputs": []
    },
    {
      "cell_type": "code",
      "metadata": {
        "id": "Ptj70ETkfOJ2",
        "colab_type": "code",
        "colab": {}
      },
      "source": [
        "df_details['delivery'] = df_details['level_1'].map(delivery)"
      ],
      "execution_count": 0,
      "outputs": []
    },
    {
      "cell_type": "code",
      "metadata": {
        "id": "UvyIpFy3yS5f",
        "colab_type": "code",
        "colab": {}
      },
      "source": [
        "df_details['over'] = df_details['over'].astype(str)\n",
        "inning_quarter = {'1': 'Q1','2': 'Q1', '3': 'Q1', '4': 'Q1', '5': 'Q1', \\\n",
        "                '6': 'Q2', '7': 'Q2', '8': 'Q2', '9': 'Q2', '10': 'Q2',\\\n",
        "                '11': 'Q3','12': 'Q3', '13': 'Q3', '14': 'Q3', '15': 'Q3',\\\n",
        "                '16': 'Q4', '17': 'Q4', '18': 'Q4', '19': 'Q4', '20': 'Q4'\\\n",
        "                }\n",
        "df_details['inning_quarter'] = df_details['over'].map(inning_quarter)"
      ],
      "execution_count": 0,
      "outputs": []
    },
    {
      "cell_type": "code",
      "metadata": {
        "id": "oEq0NyXHfOZi",
        "colab_type": "code",
        "colab": {}
      },
      "source": [
        "df_details.head()"
      ],
      "execution_count": 0,
      "outputs": []
    },
    {
      "cell_type": "code",
      "metadata": {
        "id": "0kaAUd14ibEW",
        "colab_type": "code",
        "colab": {}
      },
      "source": [
        "df_details[df_details.player_out.notna()].head()"
      ],
      "execution_count": 0,
      "outputs": []
    },
    {
      "cell_type": "code",
      "metadata": {
        "id": "imxW3zRWhdbx",
        "colab_type": "code",
        "colab": {}
      },
      "source": [
        "df_details['kind'].unique()"
      ],
      "execution_count": 0,
      "outputs": []
    },
    {
      "cell_type": "code",
      "metadata": {
        "id": "PICOq0fzAFZq",
        "colab_type": "code",
        "colab": {}
      },
      "source": [
        "def attribute_catch (row):\n",
        "  if row['kind'] == 'caught':\n",
        "    value = row['fielder_1']\n",
        "  elif row['kind'] == 'caught and bowled':\n",
        "    value = row['bowler']\n",
        "  else:\n",
        "    value = None\n",
        "  return value\n",
        "\n",
        "df_details['catch_attributed_to'] = df_details.apply (lambda row: attribute_catch(row), axis=1)"
      ],
      "execution_count": 0,
      "outputs": []
    },
    {
      "cell_type": "code",
      "metadata": {
        "id": "UkDKd6RpBjZh",
        "colab_type": "code",
        "colab": {}
      },
      "source": [
        ""
      ],
      "execution_count": 0,
      "outputs": []
    },
    {
      "cell_type": "code",
      "metadata": {
        "id": "b7TB9c15h-dV",
        "colab_type": "code",
        "colab": {}
      },
      "source": [
        "def attribute_wicket (row):\n",
        "    if row['kind'] == 'caught':\n",
        "      value = row['bowler']\n",
        "    elif row['kind'] == 'lbw':\n",
        "      value = row['bowler']\n",
        "    elif row['kind'] == 'stumped':\n",
        "      value = row['bowler']\n",
        "    elif row['kind'] == 'bowled':\n",
        "      value = row['bowler']\n",
        "    elif row['kind'] == 'hit wicket':\n",
        "      value = row['bowler']\n",
        "    elif row['kind'] == 'caught and bowled':\n",
        "      value = row['bowler']\n",
        "    else:\n",
        "      value = None\n",
        "    return value\n",
        "  \n",
        "df_details['wicket_attributed_to'] = df_details.apply( lambda row: attribute_wicket(row), axis = 1)"
      ],
      "execution_count": 0,
      "outputs": []
    },
    {
      "cell_type": "code",
      "metadata": {
        "id": "e6v6hCt5EWoo",
        "colab_type": "code",
        "colab": {}
      },
      "source": [
        ""
      ],
      "execution_count": 0,
      "outputs": []
    },
    {
      "cell_type": "code",
      "metadata": {
        "id": "50VfJ2sWCbN_",
        "colab_type": "code",
        "colab": {}
      },
      "source": [
        "df_details.info()"
      ],
      "execution_count": 0,
      "outputs": []
    },
    {
      "cell_type": "code",
      "metadata": {
        "id": "9HK_i-TciNxJ",
        "colab_type": "code",
        "colab": {}
      },
      "source": [
        "df_details['wicket_attributed_to'].value_counts()\n"
      ],
      "execution_count": 0,
      "outputs": []
    },
    {
      "cell_type": "code",
      "metadata": {
        "id": "ObkaIYushaLn",
        "colab_type": "code",
        "colab": {}
      },
      "source": [
        "df_details.query('kind == \"caught and bowled\"').info()"
      ],
      "execution_count": 0,
      "outputs": []
    },
    {
      "cell_type": "code",
      "metadata": {
        "id": "9ONCj9utjOkn",
        "colab_type": "code",
        "colab": {}
      },
      "source": [
        "df_details.query('kind == \"caught\"')['fielder_1']"
      ],
      "execution_count": 0,
      "outputs": []
    },
    {
      "cell_type": "code",
      "metadata": {
        "id": "zIHpk_PCjJ0N",
        "colab_type": "code",
        "colab": {}
      },
      "source": [
        "df_details.head()"
      ],
      "execution_count": 0,
      "outputs": []
    },
    {
      "cell_type": "code",
      "metadata": {
        "id": "-EbyitMkd3Et",
        "colab_type": "code",
        "colab": {}
      },
      "source": [
        "df_details['batsman_runs'][df_details['batsman_runs'] == 6.0].count()"
      ],
      "execution_count": 0,
      "outputs": []
    },
    {
      "cell_type": "code",
      "metadata": {
        "id": "nB6XDcILcQrw",
        "colab_type": "code",
        "colab": {}
      },
      "source": [
        "def flag_boundary_4 (row):\n",
        "    if row['batsman_runs'] == 4.0:\n",
        "      value = 1\n",
        "    else:\n",
        "      value = None  \n",
        "    return value\n",
        "\n",
        "def flag_boundary_6 (row):\n",
        "    if row['batsman_runs'] == 6.0:\n",
        "      value = 1\n",
        "    else:\n",
        "      value = None  \n",
        "    return value\n",
        "\n",
        "def flag_dot_ball (row):\n",
        "    if row['batsman_runs'] == 0.0:\n",
        "      value = 1\n",
        "    else:\n",
        "      value = None  \n",
        "    return value\n",
        "  \n",
        "  \n",
        "def flag_1_run_ball (row):\n",
        "    if row['batsman_runs'] == 1.0:\n",
        "      value = 1\n",
        "    else:\n",
        "      value = None  \n",
        "    return value\n",
        "  \n",
        "def flag_2_run_ball (row):\n",
        "    if row['batsman_runs'] == 2.0:\n",
        "      value = 1\n",
        "    else:\n",
        "      value = None  \n",
        "    return value\n",
        "\n",
        "def flag_3_run_ball (row):\n",
        "    if row['batsman_runs'] == 3.0:\n",
        "      value = 1\n",
        "    else:\n",
        "      value = None  \n",
        "    return value\n",
        "  \n",
        "def flag_5_run_ball (row):\n",
        "    if row['batsman_runs'] == 5.0:\n",
        "      value = 1\n",
        "    else:\n",
        "      value = None  \n",
        "    return value\n",
        "  \n",
        "  \n",
        "df_details['4_flag'] = df_details.apply(lambda row: flag_boundary_4(row), axis=1)\n",
        "df_details['6_flag'] = df_details.apply( lambda row: flag_boundary_6(row), axis = 1)\n",
        "df_details['dot_ball_flag'] = df_details.apply( lambda row: flag_dot_ball(row), axis = 1)\n",
        "df_details['1_run_flag'] = df_details.apply( lambda row: flag_1_run_ball(row), axis = 1)\n",
        "df_details['2_run_flag'] = df_details.apply( lambda row: flag_2_run_ball(row), axis = 1)\n",
        "df_details['3_run_flag'] = df_details.apply( lambda row: flag_3_run_ball(row), axis = 1)\n",
        "df_details['5_run_flag'] = df_details.apply( lambda row: flag_5_run_ball(row), axis = 1)"
      ],
      "execution_count": 0,
      "outputs": []
    },
    {
      "cell_type": "code",
      "metadata": {
        "id": "wrg5XHciB7tT",
        "colab_type": "code",
        "colab": {}
      },
      "source": [
        "df_details.kind.unique()"
      ],
      "execution_count": 0,
      "outputs": []
    },
    {
      "cell_type": "code",
      "metadata": {
        "id": "QUA_h2ZLet53",
        "colab_type": "code",
        "colab": {}
      },
      "source": [
        "def flag_caught (row):\n",
        "    if row['kind'] == 'caught':\n",
        "      value = 1\n",
        "    else:\n",
        "      value = None  \n",
        "    return value\n",
        "\n",
        "def flag_lbw (row):\n",
        "    if row['kind'] == 'lbw':\n",
        "      value = 1\n",
        "    else:\n",
        "      value = None  \n",
        "    return value\n",
        "\n",
        "def flag_stumped (row):\n",
        "    if row['kind'] == 'stumped':\n",
        "      value = 1\n",
        "    else:\n",
        "      value = None  \n",
        "    return value\n",
        "  \n",
        "  \n",
        "def flag_bowled (row):\n",
        "    if row['kind'] == 'bowled':\n",
        "      value = 1\n",
        "    else:\n",
        "      value = None  \n",
        "    return value\n",
        "  \n",
        "def flag_run_out (row):\n",
        "    if row['kind'] == 'run out':\n",
        "      value = 1\n",
        "    else:\n",
        "      value = None  \n",
        "    return value\n",
        "\n",
        "def flag_hit_wicket (row):\n",
        "    if row['kind'] == 'hit wicket':\n",
        "      value = 1\n",
        "    else:\n",
        "      value = None  \n",
        "    return value\n",
        "  \n",
        "def flag_caught_and_bowled (row):\n",
        "    if row['kind'] == 'caught and bowled':\n",
        "      value = 1\n",
        "    else:\n",
        "      value = None  \n",
        "    return value\n",
        "\n",
        "def flag_retired_hurt (row):\n",
        "    if row['kind'] == 'retired hurt':\n",
        "      value = 1\n",
        "    else:\n",
        "      value = None  \n",
        "    return value\n",
        "\n",
        "def flag_obstructing_the_field (row):\n",
        "    if row['kind'] == 'obstructing the field':\n",
        "      value = 1\n",
        "    else:\n",
        "      value = None  \n",
        "    return value  \n",
        "\n",
        "  \n",
        "df_details['caught_flag'] = df_details.apply(lambda row: flag_caught(row), axis=1)\n",
        "df_details['lbw_flag'] = df_details.apply( lambda row: flag_lbw(row), axis = 1)\n",
        "df_details['stumped_flag'] = df_details.apply( lambda row: flag_stumped(row), axis = 1)\n",
        "df_details['bowled_flag'] = df_details.apply( lambda row: flag_bowled(row), axis = 1)\n",
        "df_details['run_out_flag'] = df_details.apply( lambda row: flag_run_out(row), axis = 1)\n",
        "df_details['hit_wicket_flag'] = df_details.apply( lambda row: flag_hit_wicket(row), axis = 1)\n",
        "df_details['caught_and_bowled_flag'] = df_details.apply( lambda row: flag_caught_and_bowled(row), axis = 1)\n",
        "df_details['retired_hurt_flag'] = df_details.apply( lambda row: flag_retired_hurt(row), axis = 1)\n",
        "df_details['obstructing_the_field_flag'] = df_details.apply( lambda row: flag_obstructing_the_field(row), axis = 1)"
      ],
      "execution_count": 0,
      "outputs": []
    },
    {
      "cell_type": "code",
      "metadata": {
        "id": "8bWfWxMBjrI_",
        "colab_type": "code",
        "colab": {}
      },
      "source": [
        "df_details[df_details['wides'].notna()].head()"
      ],
      "execution_count": 0,
      "outputs": []
    },
    {
      "cell_type": "code",
      "metadata": {
        "id": "fjuecujXmYJi",
        "colab_type": "code",
        "colab": {}
      },
      "source": [
        "df_details['wide_flag'] = df_details['wides'].notna()\n",
        "df_details['noball_flag'] = df_details['noballs'].notna()\n",
        "df_details['legbye_flag'] = df_details['legbyes'].notna()\n",
        "df_details['bye_flag'] = df_details['byes'].notna()"
      ],
      "execution_count": 0,
      "outputs": []
    },
    {
      "cell_type": "code",
      "metadata": {
        "id": "Mc4I1m7yfS0K",
        "colab_type": "code",
        "colab": {}
      },
      "source": [
        "df_details.info()"
      ],
      "execution_count": 0,
      "outputs": []
    },
    {
      "cell_type": "code",
      "metadata": {
        "id": "9wsaRYb86msS",
        "colab_type": "code",
        "colab": {}
      },
      "source": [
        "df_details.drop(['0'], inplace=True, axis=1)"
      ],
      "execution_count": 0,
      "outputs": []
    },
    {
      "cell_type": "code",
      "metadata": {
        "id": "VDgaZ15X2MWH",
        "colab_type": "code",
        "colab": {}
      },
      "source": [
        "df_details.drop(['Unnamed: 0'], inplace=True, axis=1)"
      ],
      "execution_count": 0,
      "outputs": []
    },
    {
      "cell_type": "code",
      "metadata": {
        "id": "y2IIZmGItbgf",
        "colab_type": "code",
        "colab": {}
      },
      "source": [
        "df_details.info()"
      ],
      "execution_count": 0,
      "outputs": []
    },
    {
      "cell_type": "code",
      "metadata": {
        "id": "y9fYSzg9uZNM",
        "colab_type": "code",
        "colab": {}
      },
      "source": [
        "df_details.head()"
      ],
      "execution_count": 0,
      "outputs": []
    },
    {
      "cell_type": "code",
      "metadata": {
        "id": "gmjaptfq3J_p",
        "colab_type": "code",
        "colab": {}
      },
      "source": [
        "df_not_out_check = df_details[['match_id','level_0','batsman','player_out','kind']].drop_duplicates()"
      ],
      "execution_count": 0,
      "outputs": []
    },
    {
      "cell_type": "code",
      "metadata": {
        "id": "oehdV1UnrsI9",
        "colab_type": "code",
        "colab": {}
      },
      "source": [
        "df_not_out_check.query('kind==\"run out\"')"
      ],
      "execution_count": 0,
      "outputs": []
    },
    {
      "cell_type": "code",
      "metadata": {
        "id": "iLDRZnserNhA",
        "colab_type": "code",
        "colab": {}
      },
      "source": [
        "df_not_out_check.head(5)"
      ],
      "execution_count": 0,
      "outputs": []
    },
    {
      "cell_type": "code",
      "metadata": {
        "id": "I2uyQCp_tXKy",
        "colab_type": "code",
        "colab": {}
      },
      "source": [
        "def check_out(row):\n",
        "  if row['kind'] != 'NaN' and row['player_out'] == row['batsman']:\n",
        "    value = row['batsman']\n",
        "  elif row['kind'] !='NaN' and row['player_out'] != row['batsman']:\n",
        "    value = row['player_out']\n",
        "  else:\n",
        "    value = None\n",
        "  return value\n",
        "\n",
        "df_not_out_check['out'] = df_not_out_check.apply(lambda row: check_out(row),axis=1)"
      ],
      "execution_count": 0,
      "outputs": []
    },
    {
      "cell_type": "code",
      "metadata": {
        "id": "JySqGrLUuN84",
        "colab_type": "code",
        "colab": {}
      },
      "source": [
        ""
      ],
      "execution_count": 0,
      "outputs": []
    },
    {
      "cell_type": "code",
      "metadata": {
        "id": "KHOZ1oZqtBKH",
        "colab_type": "code",
        "colab": {}
      },
      "source": [
        "df_not_out_check.info()"
      ],
      "execution_count": 0,
      "outputs": []
    },
    {
      "cell_type": "code",
      "metadata": {
        "id": "xKm_jllFyg6-",
        "colab_type": "code",
        "colab": {}
      },
      "source": [
        "df_not_out_check.query('kind==\"run out\"').head()"
      ],
      "execution_count": 0,
      "outputs": []
    },
    {
      "cell_type": "code",
      "metadata": {
        "id": "AnBFDoQizM8s",
        "colab_type": "code",
        "colab": {}
      },
      "source": [
        "df_not_out = df_not_out_check.groupby(['match_id','level_0','player_out'],as_index=False)['out'].count()"
      ],
      "execution_count": 0,
      "outputs": []
    },
    {
      "cell_type": "code",
      "metadata": {
        "id": "KgbTTzykz2Bm",
        "colab_type": "code",
        "colab": {}
      },
      "source": [
        "df_not_out.head()"
      ],
      "execution_count": 0,
      "outputs": []
    },
    {
      "cell_type": "code",
      "metadata": {
        "id": "Ghhnx9OI0AWE",
        "colab_type": "code",
        "colab": {}
      },
      "source": [
        "df_not_out.tail()"
      ],
      "execution_count": 0,
      "outputs": []
    },
    {
      "cell_type": "code",
      "metadata": {
        "id": "u5P3kAY_njqn",
        "colab_type": "code",
        "colab": {}
      },
      "source": [
        "df_not_out.player_out.nunique()"
      ],
      "execution_count": 0,
      "outputs": []
    },
    {
      "cell_type": "code",
      "metadata": {
        "id": "_33Ip0RFx2bS",
        "colab_type": "code",
        "colab": {}
      },
      "source": [
        "df_not_out.query('match_id==\"336002\"')"
      ],
      "execution_count": 0,
      "outputs": []
    },
    {
      "cell_type": "code",
      "metadata": {
        "id": "CRtacBiBkzkA",
        "colab_type": "code",
        "colab": {}
      },
      "source": [
        "df_details.query('match_id==\"336002\" & kind ==\"run out\"')"
      ],
      "execution_count": 0,
      "outputs": []
    },
    {
      "cell_type": "code",
      "metadata": {
        "id": "eHNV8hUp6IqS",
        "colab_type": "code",
        "colab": {}
      },
      "source": [
        "df_not_out.query('match_id ==\"335989\"')"
      ],
      "execution_count": 0,
      "outputs": []
    },
    {
      "cell_type": "code",
      "metadata": {
        "id": "nmJRVRnPue4A",
        "colab_type": "code",
        "colab": {}
      },
      "source": [
        "df_not_out.info()"
      ],
      "execution_count": 0,
      "outputs": []
    },
    {
      "cell_type": "code",
      "metadata": {
        "id": "4qdob5NpGapq",
        "colab_type": "code",
        "colab": {}
      },
      "source": [
        "df_not_out.to_csv('players_out_by_match_view.csv')"
      ],
      "execution_count": 0,
      "outputs": []
    },
    {
      "cell_type": "code",
      "metadata": {
        "id": "jKbW9M2huenz",
        "colab_type": "code",
        "colab": {}
      },
      "source": [
        "df_details['0_extras'].head()"
      ],
      "execution_count": 0,
      "outputs": []
    },
    {
      "cell_type": "code",
      "metadata": {
        "id": "mNptQp5IYukZ",
        "colab_type": "code",
        "colab": {}
      },
      "source": [
        "df_details['0_extras'].value_counts()"
      ],
      "execution_count": 0,
      "outputs": []
    },
    {
      "cell_type": "code",
      "metadata": {
        "id": "krR5NU3Due8B",
        "colab_type": "code",
        "colab": {}
      },
      "source": [
        "df_details.to_csv('cleansed_ball_by_ball_details.csv')"
      ],
      "execution_count": 0,
      "outputs": []
    },
    {
      "cell_type": "code",
      "metadata": {
        "id": "9EjWLo3-CLBz",
        "colab_type": "code",
        "colab": {}
      },
      "source": [
        "df_combined = df_details.join(df_match_summary,on='match_id',rsuffix='_ipl_summary')"
      ],
      "execution_count": 0,
      "outputs": []
    },
    {
      "cell_type": "code",
      "metadata": {
        "id": "znJQ6PreKXW3",
        "colab_type": "code",
        "colab": {}
      },
      "source": [
        "overs = {'0.1': '1','0.2': '1', '0.3': '1', '0.4': '1', '0.5': '1', '0.6': '1', '0.7': '1', '0.8': '1', '0.9': '1',\\\n",
        "         '1.1': '2','1.2': '2', '1.3': '2', '1.4': '2', '1.5': '2', '1.6': '2', '1.7': '2', '1.8': '2', '1.9': '2',\\\n",
        "         '2.1': '3','2.2': '3', '2.3': '3', '2.4': '3', '2.5': '3', '2.6': '3', '2.7': '3', '2.8': '3', '2.9': '3',\\\n",
        "         '3.1': '4','3.2': '4', '3.3': '4', '3.4': '4', '3.5': '4', '3.6': '4', '3.7': '4', '3.8': '4', '3.9': '4',\\\n",
        "         '4.1': '5','4.2': '5', '4.3': '5', '4.4': '5', '4.5': '5', '4.6': '5', '4.7': '5', '4.8': '5', '4.9': '5',\\\n",
        "         '5.1': '6','5.2': '6', '5.3': '6', '5.4': '6', '5.5': '6', '5.6': '6', '5.7': '6', '5.8': '6', '5.9': '6',\\\n",
        "         '6.1': '7','6.2': '7', '6.3': '7', '6.4': '7', '6.5': '7', '6.6': '7', '6.7': '7', '6.8': '7', '6.9': '7',\\\n",
        "         '7.1': '8','7.2': '8', '7.3': '8', '7.4': '8', '7.5': '8', '7.6': '8', '7.7': '8', '7.8': '8', '7.9': '8',\\\n",
        "         '8.1': '9','8.2': '9', '8.3': '9', '8.4': '9', '8.5': '9', '8.6': '9', '8.7': '9', '8.8': '9', '8.9': '9',\\\n",
        "         '9.1': '10','9.2': '10', '9.3': '10', '9.4': '10', '9.5': '10', '9.6': '10', '9.7': '10', '9.8': '10', '9.9': '10',\\\n",
        "         '10.1': '11','10.2': '11', '10.3': '11', '10.4': '11', '10.5': '11', '10.6': '11', '10.7': '11', '10.8': '11', '10.9': '11',\\\n",
        "         '11.1': '12','11.2': '12', '11.3': '12', '11.4': '12', '11.5': '12', '11.6': '12', '11.7': '12', '11.8': '12', '11.9': '12',\\\n",
        "         '12.1': '13','12.2': '13', '12.3': '13', '12.4': '13', '12.5': '13', '12.6': '13', '12.7': '13', '12.8': '13', '12.9': '13',\\\n",
        "         '13.1': '14','13.2': '14', '13.3': '14', '13.4': '14', '13.5': '14', '13.6': '14', '13.7': '14', '13.8': '14', '13.9': '14',\\\n",
        "         '14.1': '15','14.2': '15', '14.3': '15', '14.4': '15', '14.5': '15', '14.6': '15', '14.7': '15', '14.8': '15', '14.9': '15',\\\n",
        "         '15.1': '16','15.2': '16', '15.3': '16', '15.4': '16', '15.5': '16', '15.6': '16', '15.7': '16', '15.8': '16', '15.9': '16',\\\n",
        "         '16.1': '17','16.2': '17', '16.3': '17', '16.4': '17', '16.5': '17', '16.6': '17', '16.7': '17', '16.8': '17', '16.9': '17',\\\n",
        "         '17.1': '18','17.2': '18', '17.3': '18', '17.4': '18', '17.5': '18', '17.6': '18', '17.7': '18', '17.8': '18', '17.9': '18',\\\n",
        "         '18.1': '19','18.2': '19', '18.3': '19', '18.4': '19', '18.5': '19', '18.6': '19', '18.7': '19', '18.8': '19', '18.9': '19',\\\n",
        "         '19.1': '20','19.2': '20', '19.3': '20', '19.4': '20', '19.5': '20', '19.6': '20', '19.7': '20', '19.8': '20', '19.9': '20'\n",
        "        }"
      ],
      "execution_count": 0,
      "outputs": []
    },
    {
      "cell_type": "code",
      "metadata": {
        "id": "rCzTs8L9OuPt",
        "colab_type": "code",
        "colab": {}
      },
      "source": [
        "df_combined['over'] = df_combined['level_1'].map(overs)"
      ],
      "execution_count": 0,
      "outputs": []
    },
    {
      "cell_type": "code",
      "metadata": {
        "id": "2stg6c5gQjKg",
        "colab_type": "code",
        "colab": {}
      },
      "source": [
        "df_combined['delivery'] = df_combined['level_1'].map(delivery)"
      ],
      "execution_count": 0,
      "outputs": []
    },
    {
      "cell_type": "code",
      "metadata": {
        "id": "-Z0NpbyR-eov",
        "colab_type": "code",
        "colab": {}
      },
      "source": [
        "df_combined.info()"
      ],
      "execution_count": 0,
      "outputs": []
    },
    {
      "cell_type": "code",
      "metadata": {
        "id": "_gTbtk1tx60p",
        "colab_type": "code",
        "colab": {}
      },
      "source": [
        "df_combined.to_csv('full_ipl_details.csv')"
      ],
      "execution_count": 0,
      "outputs": []
    },
    {
      "cell_type": "code",
      "metadata": {
        "id": "F7XyioFkGknS",
        "colab_type": "code",
        "colab": {}
      },
      "source": [
        "df_combined.tail()"
      ],
      "execution_count": 0,
      "outputs": []
    },
    {
      "cell_type": "code",
      "metadata": {
        "id": "3u7oHG4y7QNJ",
        "colab_type": "code",
        "colab": {}
      },
      "source": [
        "def calc_batting_strike_rate(row):\n",
        "  if row['net_balls_faced'] != 0:\n",
        "    value = row['runs_scored']/row['net_balls_faced']\n",
        "  else:\n",
        "    value = 0\n",
        "  return value"
      ],
      "execution_count": 0,
      "outputs": []
    },
    {
      "cell_type": "code",
      "metadata": {
        "id": "7J74lzrqetJ5",
        "colab_type": "code",
        "colab": {}
      },
      "source": [
        "# Define the aggregation calculations\n",
        "batsman_aggregations = {\n",
        "    'batsman_runs': { # work on the \"batsman_runs\" column\n",
        "        'runs_scored': 'sum',  # get the sum, and call this result 'total_duration'\n",
        "        'gross_balls_faced': 'count'\n",
        "    },\n",
        "    '4_flag': {     # Now work on the \"4_flag\" column\n",
        "        '4s': 'count'},\n",
        "    '6_flag': {     # Now work on the \"6_flag\" column\n",
        "        '6s': 'count'},\n",
        "    'dot_ball_flag': {     # Now work on the \"dot_ball_flag\" column\n",
        "        'dot_balls': 'count'},\n",
        "    'wide_flag': {     # Now work on the \"wide_flag\" column\n",
        "        'wides_faced': 'sum'},\n",
        "    'noball_flag': {     # Now work on the \"noball_flag\" column\n",
        "        'no_balls_faced': 'sum'}, \n",
        "    '1_run_flag': {     # Now work on the \"1_run_flag\" column\n",
        "        '1s': 'count'},\n",
        "    '2_run_flag': {     # Now work on the \"2_run_flag\" column\n",
        "        '2s': 'count'},\n",
        "    '3_run_flag': {     # Now work on the \"3_run_flag\" column\n",
        "        '3s': 'count'},\n",
        "    '5_run_flag': {     # Now work on the \"5_run_flag\" column\n",
        "        '5s': 'count'}  \n",
        "\n",
        "}\n",
        "df_batsman = df_combined.groupby(['match_id','season',\\\n",
        "                                  'match_date','batsman'],as_index=False)['batsman_runs','4_flag','6_flag','dot_ball_flag',\\\n",
        "                                                                          '1_run_flag','2_run_flag','3_run_flag','5_run_flag',\\\n",
        "                                                                          'wide_flag','noball_flag'].agg(batsman_aggregations)\n",
        "df_batsman['net_balls_faced'] = df_batsman['gross_balls_faced']-df_batsman['wides_faced']-df_batsman['no_balls_faced']\n",
        "df_batsman['strike_rate'] = df_batsman.apply(lambda row: calc_batting_strike_rate(row), axis=1)\n",
        "\n",
        "df_batsman.head(20)"
      ],
      "execution_count": 0,
      "outputs": []
    },
    {
      "cell_type": "code",
      "metadata": {
        "id": "pfvFgH-067LQ",
        "colab_type": "code",
        "colab": {}
      },
      "source": [
        "df_batsman.query('net_balls_faced==0')"
      ],
      "execution_count": 0,
      "outputs": []
    },
    {
      "cell_type": "code",
      "metadata": {
        "id": "1PbEFf_AVxrx",
        "colab_type": "code",
        "colab": {}
      },
      "source": [
        "df_batsman.tail(10)"
      ],
      "execution_count": 0,
      "outputs": []
    },
    {
      "cell_type": "code",
      "metadata": {
        "id": "bpWo2HNSi_0T",
        "colab_type": "code",
        "colab": {}
      },
      "source": [
        "df_not_out.info()"
      ],
      "execution_count": 0,
      "outputs": []
    },
    {
      "cell_type": "code",
      "metadata": {
        "id": "yBaMUqFHRX7o",
        "colab_type": "code",
        "colab": {}
      },
      "source": [
        "df_batsman_teams = df_combined[['match_id','batsman','batting_team']].drop_duplicates()"
      ],
      "execution_count": 0,
      "outputs": []
    },
    {
      "cell_type": "code",
      "metadata": {
        "id": "TdiSsqegZ203",
        "colab_type": "code",
        "colab": {}
      },
      "source": [
        "df_batsman_teams.query('batsman==\"MS Dhoni\"')"
      ],
      "execution_count": 0,
      "outputs": []
    },
    {
      "cell_type": "code",
      "metadata": {
        "id": "kXPa_nRFSAV4",
        "colab_type": "code",
        "colab": {}
      },
      "source": [
        "df_batsman_teams.info()"
      ],
      "execution_count": 0,
      "outputs": []
    },
    {
      "cell_type": "code",
      "metadata": {
        "id": "NyusCzKKiPJu",
        "colab_type": "code",
        "colab": {}
      },
      "source": [
        "df_batsman = df_batsman.merge(df_not_out,how='left',left_on=['match_id','batsman'],right_on=['match_id','player_out'])"
      ],
      "execution_count": 0,
      "outputs": []
    },
    {
      "cell_type": "code",
      "metadata": {
        "id": "kcVIax_qSL72",
        "colab_type": "code",
        "colab": {}
      },
      "source": [
        "df_batsman = df_batsman.merge(df_batsman_teams,how='left',left_on=['match_id','batsman'],right_on=['match_id','batsman'])"
      ],
      "execution_count": 0,
      "outputs": []
    },
    {
      "cell_type": "code",
      "metadata": {
        "id": "aM1Lw_FI2Nem",
        "colab_type": "code",
        "colab": {}
      },
      "source": [
        "df_batsman.tail(10)"
      ],
      "execution_count": 0,
      "outputs": []
    },
    {
      "cell_type": "code",
      "metadata": {
        "id": "HMCg_qly1lwn",
        "colab_type": "code",
        "colab": {}
      },
      "source": [
        "df_batsman.to_csv('batsman_stats.csv')"
      ],
      "execution_count": 0,
      "outputs": []
    },
    {
      "cell_type": "code",
      "metadata": {
        "id": "TrpMPkoWJ06I",
        "colab_type": "code",
        "colab": {}
      },
      "source": [
        "df_combined['level_1'].unique()"
      ],
      "execution_count": 0,
      "outputs": []
    },
    {
      "cell_type": "code",
      "metadata": {
        "id": "82CyDfKIb2Qq",
        "colab_type": "code",
        "colab": {}
      },
      "source": [
        "list_of_teams = list(df_batsman['batting_team'].unique())\n",
        "list_of_teams"
      ],
      "execution_count": 0,
      "outputs": []
    },
    {
      "cell_type": "code",
      "metadata": {
        "id": "2tmd6iQBxk_R",
        "colab_type": "code",
        "colab": {}
      },
      "source": [
        "ipl_palette = ['#EC1C24',\n",
        " '#2E0854',\n",
        " '#DCDDDF',\n",
        " \"#FFFF3C\",\n",
        " '#CBA92B',\n",
        " '#E32A26',\n",
        " '#004BA0',\n",
        " '#D5D6D0',\n",
        " '#7F3F98',\n",
        " '#2F9BE3',\n",
        " '#FF822A',\n",
        " '#FB2897',\n",
        " '#F97324',\n",
        " '#00008B']\n",
        "\n",
        "sns.set_palette(palette=ipl_palette)"
      ],
      "execution_count": 0,
      "outputs": []
    },
    {
      "cell_type": "code",
      "metadata": {
        "id": "KpLZN_Np3cJV",
        "colab_type": "code",
        "colab": {}
      },
      "source": [
        "#plt.hist(df_batsman['runs_scored'])\n",
        "plt.figure(figsize=(15,15))\n",
        "sns.swarmplot(data=df_batsman,x='season',y='runs_scored',hue='batting_team');"
      ],
      "execution_count": 0,
      "outputs": []
    },
    {
      "cell_type": "code",
      "metadata": {
        "id": "Ao4OvgKk58AO",
        "colab_type": "code",
        "colab": {}
      },
      "source": [
        "df_batsman['strike_rate'].mean()"
      ],
      "execution_count": 0,
      "outputs": []
    },
    {
      "cell_type": "code",
      "metadata": {
        "id": "mmQ8QGS7cVD5",
        "colab_type": "code",
        "colab": {}
      },
      "source": [
        "list_of_seasons = list(df_batsman['season'].unique())\n",
        "list_of_seasons"
      ],
      "execution_count": 0,
      "outputs": []
    },
    {
      "cell_type": "code",
      "metadata": {
        "id": "4tmXw5mfdSDm",
        "colab_type": "code",
        "colab": {}
      },
      "source": [
        "type(list_of_seasons[0])"
      ],
      "execution_count": 0,
      "outputs": []
    },
    {
      "cell_type": "code",
      "metadata": {
        "id": "coyf7yNKc1la",
        "colab_type": "code",
        "colab": {}
      },
      "source": [
        "df_batsman[df_batsman['batting_team'] == list_of_teams[0]].head()"
      ],
      "execution_count": 0,
      "outputs": []
    },
    {
      "cell_type": "code",
      "metadata": {
        "id": "VswmZVY4bXT4",
        "colab_type": "code",
        "colab": {}
      },
      "source": [
        "team_batsman_performances = []\n",
        "\n",
        "\n",
        "for team in list_of_teams:\n",
        "  team_batsman_performances.append(df_batsman[df_batsman['batting_team'] == team])\n",
        "\n",
        "\n",
        "\n"
      ],
      "execution_count": 0,
      "outputs": []
    },
    {
      "cell_type": "code",
      "metadata": {
        "id": "56oqBBwCcYE4",
        "colab_type": "code",
        "colab": {}
      },
      "source": [
        "team_batsman_seasonal_performances = []\n",
        "\n",
        "for season in list_of_seasons:\n",
        "  for team in list_of_teams:\n",
        "    team_batsman_seasonal_performances.append(df_batsman[(df_batsman['batting_team'] == team) & (df_batsman['season'] == season)])"
      ],
      "execution_count": 0,
      "outputs": []
    },
    {
      "cell_type": "code",
      "metadata": {
        "id": "6G72MD64eWFT",
        "colab_type": "code",
        "colab": {}
      },
      "source": [
        "team_batsman_seasonal_performances[9].tail()"
      ],
      "execution_count": 0,
      "outputs": []
    },
    {
      "cell_type": "code",
      "metadata": {
        "id": "3m6LTrf8grU8",
        "colab_type": "code",
        "colab": {}
      },
      "source": [
        "team_strikes = [x['strike_rate'].mean() for x in team_batsman_seasonal_performances]"
      ],
      "execution_count": 0,
      "outputs": []
    },
    {
      "cell_type": "code",
      "metadata": {
        "id": "zemNc6-HhRrT",
        "colab_type": "code",
        "colab": {}
      },
      "source": [
        "team_strikes"
      ],
      "execution_count": 0,
      "outputs": []
    },
    {
      "cell_type": "code",
      "metadata": {
        "id": "CWsxy-elgNpG",
        "colab_type": "code",
        "colab": {}
      },
      "source": [
        "plt.figure(figsize=(15,15))\n",
        "plt.hist([x['strike_rate'] for x in team_batsman_performances], density=1, histtype='bar',label=[x for x in list_of_teams]);\n",
        "plt.legend()"
      ],
      "execution_count": 0,
      "outputs": []
    },
    {
      "cell_type": "code",
      "metadata": {
        "id": "L95KEUWd4kve",
        "colab_type": "code",
        "colab": {}
      },
      "source": [
        "plt.figure(figsize=(15,15))\n",
        "for i in range(len(list_of_teams)):\n",
        "  g = sns.distplot(team_batsman_performances[i]['strike_rate'],rug=False,hist=False,label=list_of_teams[i])\n",
        "\n",
        "plt.legend(title='IPL', loc='upper right')\n",
        "plt.show(g)\n"
      ],
      "execution_count": 0,
      "outputs": []
    },
    {
      "cell_type": "code",
      "metadata": {
        "id": "cLGXPS4Ag6Et",
        "colab_type": "code",
        "colab": {}
      },
      "source": [
        "plt.figure(figsize=(15,15))\n",
        "\n",
        "\n",
        "\n",
        "sns.violinplot(data=df_batsman, x='batting_team',y='strike_rate')\n",
        "\n",
        "#plt.legend(title='IPL', loc='upper right')\n",
        "#plt.show(x)\n",
        "\n",
        "\n",
        "\n"
      ],
      "execution_count": 0,
      "outputs": []
    },
    {
      "cell_type": "code",
      "metadata": {
        "id": "SMYaQ1Tr6P_O",
        "colab_type": "code",
        "colab": {}
      },
      "source": [
        "list_of_teams"
      ],
      "execution_count": 0,
      "outputs": []
    },
    {
      "cell_type": "code",
      "metadata": {
        "id": "obsiXLhGgnOJ",
        "colab_type": "code",
        "colab": {}
      },
      "source": [
        "plt.figure(figsize=(15,15))\n",
        "for i in range(len(list_of_teams)):\n",
        "  g = sns.distplot(team_batsman_seasonal_performances[i]['strike_rate'],rug=False,hist=False,label=list_of_teams[i])\n",
        "\n",
        "plt.legend(title='IPL-2008', loc='upper right')\n",
        "plt.show(g)"
      ],
      "execution_count": 0,
      "outputs": []
    },
    {
      "cell_type": "markdown",
      "metadata": {
        "id": "nNeF7AACU3SI",
        "colab_type": "text"
      },
      "source": [
        "## Runs being scored by season"
      ]
    },
    {
      "cell_type": "code",
      "metadata": {
        "id": "BNfHiS2g46Xi",
        "colab_type": "code",
        "colab": {}
      },
      "source": [
        "#plt.plot(df_combined.groupby(['season'])['total'].sum())"
      ],
      "execution_count": 0,
      "outputs": []
    },
    {
      "cell_type": "markdown",
      "metadata": {
        "id": "rlcRXwFTVESE",
        "colab_type": "text"
      },
      "source": [
        "## Runs by innings by season"
      ]
    },
    {
      "cell_type": "code",
      "metadata": {
        "id": "hVdn2CVGzqoz",
        "colab_type": "code",
        "colab": {}
      },
      "source": [
        "plt.plot(df_combined.query('level_0 == \"inning_1\"').groupby(['season'])['total'].mean(),color='green')\n",
        "plt.plot(df_combined.query('level_0 == \"inning_2\"').groupby(['season'])['total'].mean(),color='blue')\n",
        "plt.show()\n"
      ],
      "execution_count": 0,
      "outputs": []
    },
    {
      "cell_type": "markdown",
      "metadata": {
        "id": "YQsf-9g1VcOA",
        "colab_type": "text"
      },
      "source": [
        "## Highest run scorer"
      ]
    },
    {
      "cell_type": "code",
      "metadata": {
        "id": "AqRRTmRhVfgg",
        "colab_type": "code",
        "colab": {}
      },
      "source": [
        "pd.DataFrame(df_combined[['season','batsman','match_id','batsman_runs']].groupby(['season','batsman','match_id'])['batsman_runs'].sum()).sort_values(by = ['batsman_runs','season'], ascending = [False, True])"
      ],
      "execution_count": 0,
      "outputs": []
    },
    {
      "cell_type": "code",
      "metadata": {
        "id": "4DbTlbTq3AAR",
        "colab_type": "code",
        "colab": {}
      },
      "source": [
        "df_batsman.info()"
      ],
      "execution_count": 0,
      "outputs": []
    },
    {
      "cell_type": "code",
      "metadata": {
        "id": "t27Te-qXnC0l",
        "colab_type": "code",
        "colab": {}
      },
      "source": [
        "df_batsman.head()"
      ],
      "execution_count": 0,
      "outputs": []
    },
    {
      "cell_type": "code",
      "metadata": {
        "id": "71v2rQzGnsjA",
        "colab_type": "code",
        "colab": {}
      },
      "source": [
        "def flag_200s(row):\n",
        "  if row['runs_scored'] >= 200:\n",
        "    value = 1\n",
        "  else:\n",
        "    value = 0\n",
        "  return value\n",
        "\n",
        "def flag_100s(row):\n",
        "  if (row['runs_scored'] >= 100) & (row['runs_scored'] < 200):\n",
        "    value = 1\n",
        "  else:\n",
        "    value = 0\n",
        "  return value\n",
        "\n",
        "def flag_50s(row):\n",
        "  if (row['runs_scored'] >= 50) & (row['runs_scored'] < 100):\n",
        "    value = 1\n",
        "  else:\n",
        "    value = 0\n",
        "  return value\n",
        "\n",
        "def flag_30s(row):\n",
        "  if (row['runs_scored'] >= 30) & (row['runs_scored'] < 50):\n",
        "    value = 1\n",
        "  else:\n",
        "    value = 0\n",
        "  return value\n"
      ],
      "execution_count": 0,
      "outputs": []
    },
    {
      "cell_type": "code",
      "metadata": {
        "id": "G6lG2nl0oVbf",
        "colab_type": "code",
        "colab": {}
      },
      "source": [
        "df_batsman['200s'] = df_batsman.apply(lambda row: flag_200s(row),axis=1)\n",
        "df_batsman['100s'] = df_batsman.apply(lambda row: flag_100s(row),axis=1)\n",
        "df_batsman['50s'] = df_batsman.apply(lambda row: flag_50s(row),axis=1)\n",
        "df_batsman['30s'] = df_batsman.apply(lambda row: flag_30s(row),axis=1)"
      ],
      "execution_count": 0,
      "outputs": []
    },
    {
      "cell_type": "code",
      "metadata": {
        "id": "0QSQErYbozoD",
        "colab_type": "code",
        "colab": {}
      },
      "source": [
        "df_batsman.tail()"
      ],
      "execution_count": 0,
      "outputs": []
    },
    {
      "cell_type": "code",
      "metadata": {
        "id": "xFrHDXUM19s3",
        "colab_type": "code",
        "colab": {}
      },
      "source": [
        "df_batsman[['season','batsman','runs_scored','net_balls_faced','100s','50s','30s','6s','5s','4s','3s','2s','1s','dot_balls','strike_rate']].sort_values(by=['runs_scored'],ascending=False).head()"
      ],
      "execution_count": 0,
      "outputs": []
    },
    {
      "cell_type": "code",
      "metadata": {
        "id": "CSoEVjEyukA4",
        "colab_type": "code",
        "colab": {}
      },
      "source": [
        "def calc_batting_strike_rate(row):\n",
        "  if row['net_balls_faced'] != 0:\n",
        "    value = row['runs_scored']/row['net_balls_faced']\n",
        "  else:\n",
        "    value = 0\n",
        "  return value\n",
        "\n",
        "def calc_batting_avg(row):\n",
        "  if row['out'] != 0:\n",
        "    value = row['runs_scored']/row['out']\n",
        "  else:\n",
        "    value = 0\n",
        "  return value\n",
        "\n",
        "def calc_balls_per_inning(row):\n",
        "  if row['out'] != 0:\n",
        "    value = row['net_balls_faced']/row['out']\n",
        "  else:\n",
        "    value = 0\n",
        "  return value"
      ],
      "execution_count": 0,
      "outputs": []
    },
    {
      "cell_type": "code",
      "metadata": {
        "id": "qGfCJ14Vp_Oz",
        "colab_type": "code",
        "colab": {}
      },
      "source": [
        "df_batsman_seasonal_stats = df_batsman[['season','batsman','runs_scored','net_balls_faced',\\\n",
        "                                        'out','100s','50s','30s','6s','5s','4s','3s','2s',\\\n",
        "                                        '1s','dot_balls','strike_rate']].groupby(['season','batsman'],as_index=False)['runs_scored','net_balls_faced','out',\\\n",
        "                                                                                          '100s','50s','30s','6s','5s','4s','3s',\\\n",
        "                                                                                          '2s','1s','dot_balls'].sum()"
      ],
      "execution_count": 0,
      "outputs": []
    },
    {
      "cell_type": "code",
      "metadata": {
        "id": "g5MPYyvRr3IV",
        "colab_type": "code",
        "colab": {}
      },
      "source": [
        "df_batsman_seasonal_stats['season_strike_rate'] = df_batsman_seasonal_stats.apply(lambda row: calc_batting_strike_rate(row),axis=1)\n",
        "df_batsman_seasonal_stats['season_batting_avg'] = df_batsman_seasonal_stats.apply(lambda row: calc_batting_avg(row),axis=1)\n",
        "df_batsman_seasonal_stats['balls_per_inning'] = df_batsman_seasonal_stats.apply(lambda row: calc_balls_per_inning(row),axis=1)\n",
        "\n",
        "df_batsman_seasonal_stats.head()\n"
      ],
      "execution_count": 0,
      "outputs": []
    },
    {
      "cell_type": "code",
      "metadata": {
        "id": "ZamlbB2rtvWG",
        "colab_type": "code",
        "colab": {}
      },
      "source": [
        "df_batsman_seasonal_stats.sort_values(by=['season_batting_avg','season_strike_rate','balls_per_inning'],ascending=False).head(20)\n"
      ],
      "execution_count": 0,
      "outputs": []
    },
    {
      "cell_type": "code",
      "metadata": {
        "id": "90stNOCs7r6R",
        "colab_type": "code",
        "colab": {}
      },
      "source": [
        "df_batsman_seasonal_stats.query('batsman==\"MS Dhoni\"')"
      ],
      "execution_count": 0,
      "outputs": []
    },
    {
      "cell_type": "code",
      "metadata": {
        "id": "WW0X3UCiduZZ",
        "colab_type": "code",
        "colab": {}
      },
      "source": [
        "df_mvp = pd.DataFrame(df_batsman_seasonal_stats.\\\n",
        "                      groupby('batsman',as_index=False)\\\n",
        "                      ['runs_scored','net_balls_faced','out',\\\n",
        "                       '100s','50s','30s','6s','5s','4s','3s','2s','1s','dot_balls']\\\n",
        "                      .sum()\\\n",
        "                      .sort_values(by=['runs_scored','net_balls_faced','100s','50s','30s'],\\\n",
        "                                   ascending=False)['batsman']\\\n",
        "                      .head(10)\\\n",
        "                      .reset_index(drop=True))\n",
        "\n"
      ],
      "execution_count": 0,
      "outputs": []
    },
    {
      "cell_type": "code",
      "metadata": {
        "id": "ofZtI5UL0D2q",
        "colab_type": "code",
        "colab": {}
      },
      "source": [
        "list(df_mvp['batsman'])\n"
      ],
      "execution_count": 0,
      "outputs": []
    },
    {
      "cell_type": "code",
      "metadata": {
        "id": "rfSOrgDs_AHi",
        "colab_type": "code",
        "colab": {}
      },
      "source": [
        "df_mvp"
      ],
      "execution_count": 0,
      "outputs": []
    },
    {
      "cell_type": "code",
      "metadata": {
        "id": "YyEJcWASh5yx",
        "colab_type": "code",
        "colab": {}
      },
      "source": [
        "mvp_list = df_mvp['batsman']"
      ],
      "execution_count": 0,
      "outputs": []
    },
    {
      "cell_type": "code",
      "metadata": {
        "id": "mIKcEsOCuqJO",
        "colab_type": "code",
        "colab": {}
      },
      "source": [
        "len(mvp_list)"
      ],
      "execution_count": 0,
      "outputs": []
    },
    {
      "cell_type": "code",
      "metadata": {
        "id": "azooC4HkwRv4",
        "colab_type": "code",
        "colab": {}
      },
      "source": [
        "df_mvp_comparison = df_batsman_seasonal_stats.groupby('batsman',as_index=False)['runs_scored','net_balls_faced','out',\\\n",
        "                                                            '100s','50s','30s','6s','5s','4s','3s',\\\n",
        "                                                            '2s','1s','dot_balls'].sum().query('batsman in @mvp_list') \n",
        "\n"
      ],
      "execution_count": 0,
      "outputs": []
    },
    {
      "cell_type": "code",
      "metadata": {
        "id": "Cg1sRNUCyx_c",
        "colab_type": "code",
        "colab": {}
      },
      "source": [
        "df_mvp_comparison['ipl_strike_rate'] = df_mvp_comparison.apply(lambda row: calc_batting_strike_rate(row),axis=1)\n",
        "df_mvp_comparison['ipl_batting_avg'] = df_mvp_comparison.apply(lambda row: calc_batting_avg(row),axis=1)\n",
        "df_mvp_comparison['ipl_balls_per_inning'] = df_mvp_comparison.apply(lambda row: calc_balls_per_inning(row),axis=1)\n",
        "\n",
        "df_mvp_comparison"
      ],
      "execution_count": 0,
      "outputs": []
    },
    {
      "cell_type": "code",
      "metadata": {
        "id": "9RrFWTockaR1",
        "colab_type": "code",
        "colab": {}
      },
      "source": [
        "df_mvp_comparison = df_mvp_comparison.sort_values(by=['runs_scored','net_balls_faced','100s','50s','30s'],\\\n",
        "                                   ascending=False).reset_index(drop=True)"
      ],
      "execution_count": 0,
      "outputs": []
    },
    {
      "cell_type": "code",
      "metadata": {
        "id": "AbAAa81e9Xg1",
        "colab_type": "code",
        "colab": {}
      },
      "source": [
        "df_mvp_comparison"
      ],
      "execution_count": 0,
      "outputs": []
    },
    {
      "cell_type": "code",
      "metadata": {
        "id": "ZvipYhL3lzlE",
        "colab_type": "code",
        "colab": {}
      },
      "source": [
        "plt.figure(figsize=(15,12))\n",
        "p1 = sns.scatterplot(x=\"ipl_batting_avg\", y=\"ipl_strike_rate\",\\\n",
        "                     hue='batsman', hue_order=mvp_list,size='runs_scored',\\\n",
        "                     data=df_mvp_comparison\\\n",
        "                     \n",
        "                    )\n",
        "for line in range(0,df_mvp_comparison.shape[0]):\n",
        "  p1.text(df_mvp_comparison.ipl_batting_avg[line]-0.015,df_mvp_comparison.ipl_strike_rate[line]+0.005,df_mvp_comparison.batsman[line])\n",
        "\n",
        "p1.set_title('Batting Strike rates vs Batting averages for top 10 run scorers')\n",
        "plt.show(p1)\n",
        "\n"
      ],
      "execution_count": 0,
      "outputs": []
    },
    {
      "cell_type": "code",
      "metadata": {
        "id": "lA3GJrboQ8_L",
        "colab_type": "code",
        "colab": {}
      },
      "source": [
        "plt.figure(figsize=(15,12))\n",
        "p2 = sns.scatterplot(x=\"ipl_batting_avg\", y=\"ipl_balls_per_inning\",\\\n",
        "                     hue='batsman', hue_order=mvp_list,size='runs_scored',\\\n",
        "                     data=df_mvp_comparison\\\n",
        "                     \n",
        "                    )\n",
        "for line in range(0,df_mvp_comparison.shape[0]):\n",
        "  p2.text(df_mvp_comparison.ipl_batting_avg[line]-0.015,df_mvp_comparison.ipl_balls_per_inning[line]+0.005,df_mvp_comparison.batsman[line])\n",
        "\n",
        "p2.set_title('Batting Longevity vs Batting averages for top 10 run scorers')\n",
        "plt.show(p2)"
      ],
      "execution_count": 0,
      "outputs": []
    },
    {
      "cell_type": "code",
      "metadata": {
        "id": "xNp3Lcx7w0VC",
        "colab_type": "code",
        "colab": {}
      },
      "source": [
        "df_mvp_comparison.ipl_batting_avg[0]"
      ],
      "execution_count": 0,
      "outputs": []
    },
    {
      "cell_type": "code",
      "metadata": {
        "id": "BBEZtTw7qkyC",
        "colab_type": "code",
        "colab": {}
      },
      "source": [
        "df_mvp_comparison.shape[0]"
      ],
      "execution_count": 0,
      "outputs": []
    },
    {
      "cell_type": "code",
      "metadata": {
        "id": "IKD3Fpcw-czi",
        "colab_type": "code",
        "colab": {}
      },
      "source": [
        "df_best_batsman = df_batsman.merge(df_mvp,how='right',left_on=['batsman'],right_on=['batsman'])"
      ],
      "execution_count": 0,
      "outputs": []
    },
    {
      "cell_type": "code",
      "metadata": {
        "id": "HoRxbF8QAau8",
        "colab_type": "code",
        "colab": {}
      },
      "source": [
        "df_best_batsman.head()"
      ],
      "execution_count": 0,
      "outputs": []
    },
    {
      "cell_type": "code",
      "metadata": {
        "id": "V_t00Sfv_rUO",
        "colab_type": "code",
        "colab": {}
      },
      "source": [
        "plt.figure(figsize=(8,8))\n",
        "sns.swarmplot(data=df_best_batsman,x='strike_rate',y='batsman').set_title('Strike Rates by player for each inning')\n",
        "#sns.violinplot(data=df_best_batsman,x='strike_rate',y='batsman')"
      ],
      "execution_count": 0,
      "outputs": []
    },
    {
      "cell_type": "code",
      "metadata": {
        "id": "mOGOHoLWLJSt",
        "colab_type": "code",
        "colab": {}
      },
      "source": [
        "plt.figure(figsize=(8,8))\n",
        "sns.swarmplot(data=df_best_batsman,x='runs_scored',y='batsman').set_title('Runs scored by player for each inning');"
      ],
      "execution_count": 0,
      "outputs": []
    },
    {
      "cell_type": "code",
      "metadata": {
        "id": "OKCTMdBAAN5s",
        "colab_type": "code",
        "colab": {}
      },
      "source": [
        "plt.figure(figsize=(8,8))\n",
        "sns.swarmplot(data=df_best_batsman,x='net_balls_faced',y='batsman').set_title('Balls faced by player for each inning')"
      ],
      "execution_count": 0,
      "outputs": []
    },
    {
      "cell_type": "code",
      "metadata": {
        "id": "IT1m1gXBBB6o",
        "colab_type": "code",
        "colab": {}
      },
      "source": [
        "sns.barplot(data=df_mvp_comparison,x='runs_scored',y='batsman')"
      ],
      "execution_count": 0,
      "outputs": []
    },
    {
      "cell_type": "code",
      "metadata": {
        "id": "6xt6IitizwTh",
        "colab_type": "code",
        "colab": {}
      },
      "source": [
        "df_match_summary['player_of_match'].value_counts()"
      ],
      "execution_count": 0,
      "outputs": []
    },
    {
      "cell_type": "code",
      "metadata": {
        "id": "MetAt-a3QuJf",
        "colab_type": "code",
        "colab": {}
      },
      "source": [
        "df_details.info()"
      ],
      "execution_count": 0,
      "outputs": []
    },
    {
      "cell_type": "code",
      "metadata": {
        "id": "4Vkf_owOSKy_",
        "colab_type": "code",
        "colab": {}
      },
      "source": [
        "df_inning_wise = df_details[['match_id','level_0','inning_quarter',\\\n",
        "                             'player_out','batsman_runs','total','6_flag','4_flag',\\\n",
        "                             'dot_ball_flag','delivery','wide_flag','noball_flag']].groupby(['match_id',\\\n",
        "                                                                             'level_0',\\\n",
        "                                                                             'inning_quarter'],as_index=False)['batsman_runs','total','player_out','delivery',\\\n",
        "                                                                                                               'wide_flag','noball_flag','6_flag',\\\n",
        "                                                                                                               '4_flag','dot_ball_flag'].agg({'batsman_runs':'sum','total':'sum',\\\n",
        "                                                                                                               'player_out':'count','delivery':'count',\\\n",
        "                                                                                                               'wide_flag':'count','noball_flag':'count',\\\n",
        "                                                                                                               '6_flag':'count','4_flag':'count',\\\n",
        "                                                                                                               'dot_ball_flag':'count'})\n",
        "\n"
      ],
      "execution_count": 0,
      "outputs": []
    },
    {
      "cell_type": "code",
      "metadata": {
        "id": "_XoyEKoRN2lz",
        "colab_type": "code",
        "colab": {}
      },
      "source": [
        "df_inning_wise.info()"
      ],
      "execution_count": 0,
      "outputs": []
    },
    {
      "cell_type": "code",
      "metadata": {
        "id": "whTUhsbENeRM",
        "colab_type": "code",
        "colab": {}
      },
      "source": [
        "df_unstacked = df_inning_wise.set_index(\\\n",
        "                                        ['match_id','inning_quarter','level_0']\\\n",
        "                                        ).unstack().unstack()\n",
        "\n"
      ],
      "execution_count": 0,
      "outputs": []
    },
    {
      "cell_type": "code",
      "metadata": {
        "id": "-EqLswVuZplt",
        "colab_type": "code",
        "colab": {}
      },
      "source": [
        "df_unstacked.info()"
      ],
      "execution_count": 0,
      "outputs": []
    },
    {
      "cell_type": "code",
      "metadata": {
        "id": "964-eWvLbhCD",
        "colab_type": "code",
        "colab": {}
      },
      "source": [
        "df_unstacked.columns.names"
      ],
      "execution_count": 0,
      "outputs": []
    },
    {
      "cell_type": "code",
      "metadata": {
        "id": "EYqLMEwDf0T7",
        "colab_type": "code",
        "colab": {}
      },
      "source": [
        "df_unstacked.columns.values"
      ],
      "execution_count": 0,
      "outputs": []
    },
    {
      "cell_type": "code",
      "metadata": {
        "id": "0FQTr_orfuxH",
        "colab_type": "code",
        "colab": {}
      },
      "source": [
        "df_unstacked.columns = ['_'.join(col).strip() for col in df_unstacked.columns.values]"
      ],
      "execution_count": 0,
      "outputs": []
    },
    {
      "cell_type": "code",
      "metadata": {
        "id": "1w7tYJP4gD2e",
        "colab_type": "code",
        "colab": {}
      },
      "source": [
        "df_unstacked.columns.values"
      ],
      "execution_count": 0,
      "outputs": []
    },
    {
      "cell_type": "code",
      "metadata": {
        "id": "nrMN-ujigKQY",
        "colab_type": "code",
        "colab": {}
      },
      "source": [
        "df_unstacked.info()"
      ],
      "execution_count": 0,
      "outputs": []
    },
    {
      "cell_type": "code",
      "metadata": {
        "id": "JCFUmczybfd_",
        "colab_type": "code",
        "colab": {}
      },
      "source": [
        "df_unstacked.reset_index()"
      ],
      "execution_count": 0,
      "outputs": []
    },
    {
      "cell_type": "code",
      "metadata": {
        "id": "psSg5gi5aBST",
        "colab_type": "code",
        "colab": {}
      },
      "source": [
        "df_match_summary.info()\n"
      ],
      "execution_count": 0,
      "outputs": []
    },
    {
      "cell_type": "code",
      "metadata": {
        "id": "qWOMMnErhuvH",
        "colab_type": "code",
        "colab": {}
      },
      "source": [
        "df_match_summary.merge(df_unstacked,how='left',on='match_id')"
      ],
      "execution_count": 0,
      "outputs": []
    },
    {
      "cell_type": "markdown",
      "metadata": {
        "id": "p57J-IjOJ4IW",
        "colab_type": "text"
      },
      "source": [
        "### Individual stats"
      ]
    },
    {
      "cell_type": "code",
      "metadata": {
        "id": "NB60El4wJ3by",
        "colab_type": "code",
        "colab": {}
      },
      "source": [
        "plt.plot(df_combined.query('batsman==\"CH Gayle\"').groupby(['season'])['batsman_runs'].mean(),color='green')\n",
        "plt.plot(df_combined.query('batsman==\"V Kohli\"').groupby(['season'])['batsman_runs'].mean(),color='blue')\n",
        "plt.plot(df_combined.query('batsman==\"MS Dhoni\"').groupby(['season'])['batsman_runs'].mean(),color='red')\n",
        "plt.plot(df_combined.query('batsman==\"YK Pathan\"').groupby(['season'])['batsman_runs'].mean(),color='red')\n",
        "plt.show()\n"
      ],
      "execution_count": 0,
      "outputs": []
    },
    {
      "cell_type": "code",
      "metadata": {
        "id": "RCwl5fabnV-B",
        "colab_type": "code",
        "colab": {}
      },
      "source": [
        "df_details.query('kind==\"caught\"').head()"
      ],
      "execution_count": 0,
      "outputs": []
    },
    {
      "cell_type": "code",
      "metadata": {
        "id": "xphXzRxXJJX3",
        "colab_type": "code",
        "colab": {}
      },
      "source": [
        "df_bowler = df_details[['match_id','bowler','level_0','inning_quarter','delivery',\\\n",
        "                        'total','batsman_runs','extras_runs','wides','noballs','byes',\\\n",
        "                        'legbyes','player_out','kind','wicket_attributed_to',\\\n",
        "                        'catch_attributed_to','over','dot_ball_flag','1_run_flag',\\\n",
        "                        '2_run_flag','3_run_flag','4_flag','5_run_flag',\\\n",
        "                        '6_flag','wide_flag','noball_flag','caught_flag',\\\n",
        "                        'lbw_flag','bowled_flag','stumped_flag','run_out_flag',\\\n",
        "                        'hit_wicket_flag','caught_and_bowled_flag',\\\n",
        "                        'retired_hurt_flag','obstructing_the_field_flag'\n",
        "                       ]].groupby(['match_id','bowler','level_0','inning_quarter','over'],as_index=False)\\\n",
        "                                                                      ['delivery','total','batsman_runs','extras_runs','wides','noballs','byes',\\\n",
        "                                                                       'player_out','kind','legbyes','wicket_attributed_to',\\\n",
        "                                                                      'catch_attributed_to','dot_ball_flag','1_run_flag',\\\n",
        "                                                                      '2_run_flag','3_run_flag','4_flag','5_run_flag',\\\n",
        "                                                                      '6_flag','wide_flag','noball_flag', 'caught_flag',\\\n",
        "                                                                       'lbw_flag','bowled_flag','stumped_flag','run_out_flag',\\\n",
        "                                                                       'hit_wicket_flag','caught_and_bowled_flag',\\\n",
        "                                                                       'retired_hurt_flag','obstructing_the_field_flag'\\\n",
        "                                                                      ].agg({'delivery':'count',\\\n",
        "                                                                             'total':'sum',\\\n",
        "                                                                             'batsman_runs':'sum',\\\n",
        "                                                                             'extras_runs':'sum',\\\n",
        "                                                                             'wides':'sum',\\\n",
        "                                                                             'noballs':'sum',\\\n",
        "                                                                             'byes':'sum',\\\n",
        "                                                                             'legbyes':'sum',\\\n",
        "                                                                             'player_out':'count',\\\n",
        "                                                                             'kind':'count',\\\n",
        "                                                                             'wicket_attributed_to':'count',\\\n",
        "                                                                             'catch_attributed_to':'count',\\\n",
        "                                                                             'dot_ball_flag':'count',\\\n",
        "                                                                             '1_run_flag':'count',\\\n",
        "                                                                             '2_run_flag':'count',\\\n",
        "                                                                             '3_run_flag':'count',\\\n",
        "                                                                             '4_flag':'count',\\\n",
        "                                                                             '5_run_flag':'count',\\\n",
        "                                                                             '6_flag':'count',\\\n",
        "                                                                             'wide_flag':'sum',\\\n",
        "                                                                             'noball_flag':'sum',\\\n",
        "                                                                             'caught_flag':'sum',\\\n",
        "                                                                             'lbw_flag':'sum',\\\n",
        "                                                                             'bowled_flag':'sum',\\\n",
        "                                                                             'stumped_flag':'sum',\\\n",
        "                                                                             'run_out_flag':'sum',\\\n",
        "                                                                             'hit_wicket_flag':'sum',\\\n",
        "                                                                             'caught_and_bowled_flag':'sum',\\\n",
        "                                                                             'retired_hurt_flag':'sum',\\\n",
        "                                                                             'obstructing_the_field_flag':'sum'\\\n",
        "                                                                             \n",
        "                                                                             })"
      ],
      "execution_count": 0,
      "outputs": []
    },
    {
      "cell_type": "code",
      "metadata": {
        "id": "rq6ADyJO6d9B",
        "colab_type": "code",
        "colab": {}
      },
      "source": [
        "df_details.query('(match_id==\"335982\") & (bowler == \"AA Noffke\") & (over == \"4\")')"
      ],
      "execution_count": 0,
      "outputs": []
    },
    {
      "cell_type": "code",
      "metadata": {
        "id": "AzkR-PEAbvVa",
        "colab_type": "code",
        "colab": {}
      },
      "source": [
        "df_bowler.info()"
      ],
      "execution_count": 0,
      "outputs": []
    },
    {
      "cell_type": "code",
      "metadata": {
        "id": "oRDl71hG9Lnr",
        "colab_type": "code",
        "colab": {}
      },
      "source": [
        "df_bowler.head()"
      ],
      "execution_count": 0,
      "outputs": []
    },
    {
      "cell_type": "code",
      "metadata": {
        "id": "BlPSSCUxWvcp",
        "colab_type": "code",
        "colab": {}
      },
      "source": [
        "df_bowler.groupby(['bowler'],\\\n",
        "                 as_index=False)['delivery','total','batsman_runs','extras_runs','wides','noballs','byes',\\\n",
        "                                 'player_out','kind','legbyes','wicket_attributed_to',\\\n",
        "                                 'catch_attributed_to','dot_ball_flag','1_run_flag',\\\n",
        "                                 '2_run_flag','3_run_flag','4_flag','5_run_flag',\\\n",
        "                                 '6_flag','wide_flag','noball_flag', 'caught_flag',\\\n",
        "                                 'lbw_flag','bowled_flag','stumped_flag','run_out_flag',\\\n",
        "                                 'hit_wicket_flag','caught_and_bowled_flag',\\\n",
        "                                 'retired_hurt_flag','obstructing_the_field_flag'].agg('sum'\n",
        "                                                                                        ).sort_values(\\\n",
        "                                                                                                       by=['wicket_attributed_to'],\\\n",
        "                                                                                                       ascending=False\\\n",
        "                                                                                                      )"
      ],
      "execution_count": 0,
      "outputs": []
    },
    {
      "cell_type": "code",
      "metadata": {
        "id": "cxseYXLPMiSP",
        "colab_type": "code",
        "colab": {}
      },
      "source": [
        "df_bowler.groupby(['bowler'],\\\n",
        "                 as_index=False)['total','batsman_runs','extras_runs','wides','noballs','byes',\\\n",
        "                                 'player_out','kind','legbyes','wicket_attributed_to',\\\n",
        "                                 'catch_attributed_to','dot_ball_flag','1_run_flag',\\\n",
        "                                 '2_run_flag','3_run_flag','4_flag','5_run_flag',\\\n",
        "                                 '6_flag','wide_flag','noball_flag', 'caught_flag',\\\n",
        "                                 'lbw_flag','bowled_flag','stumped_flag','run_out_flag',\\\n",
        "                                 'hit_wicket_flag','caught_and_bowled_flag',\\\n",
        "                                 'retired_hurt_flag','obstructing_the_field_flag'].agg('sum').sort_values(\\\n",
        "                                                                                                       by=['wicket_attributed_to'],\\\n",
        "                                                                                                       ascending=False\\\n",
        "                                                                                                      )"
      ],
      "execution_count": 0,
      "outputs": []
    },
    {
      "cell_type": "code",
      "metadata": {
        "id": "MH72LNkW_Y50",
        "colab_type": "code",
        "colab": {}
      },
      "source": [
        "df_combined['kind'].value_counts()"
      ],
      "execution_count": 0,
      "outputs": []
    },
    {
      "cell_type": "code",
      "metadata": {
        "id": "KR_mcqtCFfuv",
        "colab_type": "code",
        "colab": {}
      },
      "source": [
        "df_combined.query('kind == \"caught\"')"
      ],
      "execution_count": 0,
      "outputs": []
    },
    {
      "cell_type": "code",
      "metadata": {
        "id": "ywXDhOoa_aJA",
        "colab_type": "code",
        "colab": {}
      },
      "source": [
        "#df_combined['catch_attributed_to'] = np.where(df_combined.kind.eq('caught'),df_combined.fielders, np.where(df_combined.kind.eq('caught and bowled'),df_combined.bowler,'na'))"
      ],
      "execution_count": 0,
      "outputs": []
    },
    {
      "cell_type": "code",
      "metadata": {
        "id": "Xky3SxVoHGTT",
        "colab_type": "code",
        "colab": {}
      },
      "source": [
        "df_fielders = pd.DataFrame(df_combined['fielders'].apply(pd.Series))\n",
        "fielder_cols = ['fielder_1','fielder_2','fielder_3']\n",
        "df_fielders.columns = fielder_cols"
      ],
      "execution_count": 0,
      "outputs": []
    },
    {
      "cell_type": "code",
      "metadata": {
        "id": "J27uLoEDTQ6v",
        "colab_type": "code",
        "colab": {}
      },
      "source": [
        "df_fielders[df_fielders.fielder_2.notnull()]\n"
      ],
      "execution_count": 0,
      "outputs": []
    },
    {
      "cell_type": "code",
      "metadata": {
        "id": "srjlr536HUgK",
        "colab_type": "code",
        "colab": {}
      },
      "source": [
        "df_match_summary.team_1.unique()"
      ],
      "execution_count": 0,
      "outputs": []
    },
    {
      "cell_type": "code",
      "metadata": {
        "id": "-_aLGOsi0xS_",
        "colab_type": "code",
        "colab": {}
      },
      "source": [
        "df_batsman_value = df_combined[['season','match_id','match_date','batsman',\\\n",
        "             'batsman_runs','batting_team','total']].groupby(['season','match_id','match_date','batting_team',\\\n",
        "                                                              'batsman'],as_index=False)['batsman_runs'].sum()\n",
        "\n",
        "df_team_totals = df_combined[['season','match_id','match_date',\\\n",
        "                              'batting_team','total']].groupby(['season','match_id','match_date','batting_team',\\\n",
        "                                                              ],as_index=False)['total'].sum()"
      ],
      "execution_count": 0,
      "outputs": []
    },
    {
      "cell_type": "code",
      "metadata": {
        "id": "GScQYak54lOR",
        "colab_type": "code",
        "colab": {}
      },
      "source": [
        "df_batsman_value.head()"
      ],
      "execution_count": 0,
      "outputs": []
    },
    {
      "cell_type": "code",
      "metadata": {
        "id": "vasEenQO4rPi",
        "colab_type": "code",
        "colab": {}
      },
      "source": [
        "df_team_totals.head()"
      ],
      "execution_count": 0,
      "outputs": []
    },
    {
      "cell_type": "code",
      "metadata": {
        "id": "mZm5RPtl6fPu",
        "colab_type": "code",
        "colab": {}
      },
      "source": [
        "df_team_season_scores = df_team_totals.groupby(['season','batting_team'],as_index=False)['total'].sum()"
      ],
      "execution_count": 0,
      "outputs": []
    },
    {
      "cell_type": "code",
      "metadata": {
        "id": "OgEyQEOm6tlB",
        "colab_type": "code",
        "colab": {}
      },
      "source": [
        "df_team_season_scores"
      ],
      "execution_count": 0,
      "outputs": []
    },
    {
      "cell_type": "code",
      "metadata": {
        "id": "y7gG_yYY49zn",
        "colab_type": "code",
        "colab": {}
      },
      "source": [
        "df_batsman_value.merge(df_team_totals,how='left',on=['season','match_id','match_date','batting_team'])"
      ],
      "execution_count": 0,
      "outputs": []
    },
    {
      "cell_type": "code",
      "metadata": {
        "id": "-z22ZDyo5flU",
        "colab_type": "code",
        "colab": {}
      },
      "source": [
        "df_batsman_value_season = df_batsman_value.groupby(['season','batting_team','batsman'],as_index=False)['batsman_runs'].sum()"
      ],
      "execution_count": 0,
      "outputs": []
    },
    {
      "cell_type": "code",
      "metadata": {
        "id": "j858wBt47fpJ",
        "colab_type": "code",
        "colab": {}
      },
      "source": [
        "df_batsman_value_season.head()"
      ],
      "execution_count": 0,
      "outputs": []
    },
    {
      "cell_type": "code",
      "metadata": {
        "id": "5YEzTQmg74oc",
        "colab_type": "code",
        "colab": {}
      },
      "source": [
        "df_batsman_value_season = df_batsman_value_season.merge(df_team_season_scores,how='left',on=['season','batting_team'])\n",
        "df_batsman_value_season['batsman_value'] = df_batsman_value_season['batsman_runs']/df_batsman_value_season['total'] \n",
        "df_batsman_value_season.head()"
      ],
      "execution_count": 0,
      "outputs": []
    },
    {
      "cell_type": "code",
      "metadata": {
        "id": "Qzu9VcZF9x_r",
        "colab_type": "code",
        "colab": {}
      },
      "source": [
        "df_batsman_value_season.sort_values(by=['batting_team','batsman_value','season',], ascending=[True, False, True]).query('season == \"2011\"')"
      ],
      "execution_count": 0,
      "outputs": []
    },
    {
      "cell_type": "code",
      "metadata": {
        "id": "DeABOQzI22jB",
        "colab_type": "code",
        "colab": {}
      },
      "source": [
        "df_combined.head()"
      ],
      "execution_count": 0,
      "outputs": []
    },
    {
      "cell_type": "code",
      "metadata": {
        "id": "vNRLjW4Z29Wm",
        "colab_type": "code",
        "colab": {}
      },
      "source": [
        ""
      ],
      "execution_count": 0,
      "outputs": []
    }
  ]
}