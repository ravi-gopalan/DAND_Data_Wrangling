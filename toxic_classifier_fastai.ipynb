{
  "nbformat": 4,
  "nbformat_minor": 0,
  "metadata": {
    "colab": {
      "name": "toxic_classifier_fastai.ipynb",
      "provenance": [],
      "authorship_tag": "ABX9TyNDw3PfPZs4KzRcD7PDwrH7",
      "include_colab_link": true
    },
    "kernelspec": {
      "name": "python3",
      "display_name": "Python 3"
    },
    "language_info": {
      "name": "python"
    },
    "accelerator": "GPU"
  },
  "cells": [
    {
      "cell_type": "markdown",
      "metadata": {
        "id": "view-in-github",
        "colab_type": "text"
      },
      "source": [
        "<a href=\"https://colab.research.google.com/github/ravi-gopalan/DAND_Data_Wrangling/blob/master/toxic_classifier_fastai.ipynb\" target=\"_parent\"><img src=\"https://colab.research.google.com/assets/colab-badge.svg\" alt=\"Open In Colab\"/></a>"
      ]
    },
    {
      "cell_type": "code",
      "metadata": {
        "colab": {
          "base_uri": "https://localhost:8080/"
        },
        "id": "8V2F9RM-kzSP",
        "outputId": "c4222ff2-614f-4da5-88f5-45132057b695"
      },
      "source": [
        "!pip install kaggle\n",
        "!pip install fastai==2.3.0 --quiet\n",
        "\n"
      ],
      "execution_count": null,
      "outputs": [
        {
          "output_type": "stream",
          "text": [
            "Requirement already satisfied: kaggle in /usr/local/lib/python3.7/dist-packages (1.5.12)\n",
            "Requirement already satisfied: python-dateutil in /usr/local/lib/python3.7/dist-packages (from kaggle) (2.8.1)\n",
            "Requirement already satisfied: requests in /usr/local/lib/python3.7/dist-packages (from kaggle) (2.23.0)\n",
            "Requirement already satisfied: certifi in /usr/local/lib/python3.7/dist-packages (from kaggle) (2021.5.30)\n",
            "Requirement already satisfied: six>=1.10 in /usr/local/lib/python3.7/dist-packages (from kaggle) (1.15.0)\n",
            "Requirement already satisfied: urllib3 in /usr/local/lib/python3.7/dist-packages (from kaggle) (1.24.3)\n",
            "Requirement already satisfied: python-slugify in /usr/local/lib/python3.7/dist-packages (from kaggle) (5.0.2)\n",
            "Requirement already satisfied: tqdm in /usr/local/lib/python3.7/dist-packages (from kaggle) (4.41.1)\n",
            "Requirement already satisfied: chardet<4,>=3.0.2 in /usr/local/lib/python3.7/dist-packages (from requests->kaggle) (3.0.4)\n",
            "Requirement already satisfied: idna<3,>=2.5 in /usr/local/lib/python3.7/dist-packages (from requests->kaggle) (2.10)\n",
            "Requirement already satisfied: text-unidecode>=1.3 in /usr/local/lib/python3.7/dist-packages (from python-slugify->kaggle) (1.3)\n",
            "\u001b[K     |████████████████████████████████| 194kB 7.7MB/s \n",
            "\u001b[K     |████████████████████████████████| 776.8MB 23kB/s \n",
            "\u001b[K     |████████████████████████████████| 12.8MB 248kB/s \n",
            "\u001b[K     |████████████████████████████████| 61kB 9.8MB/s \n",
            "\u001b[31mERROR: torchtext 0.10.0 has requirement torch==1.9.0, but you'll have torch 1.7.1 which is incompatible.\u001b[0m\n",
            "\u001b[?25hTraceback (most recent call last):\n",
            "  File \"/usr/local/bin/kaggle\", line 5, in <module>\n",
            "    from kaggle.cli import main\n",
            "  File \"/usr/local/lib/python2.7/dist-packages/kaggle/__init__.py\", line 23, in <module>\n",
            "    api.authenticate()\n",
            "  File \"/usr/local/lib/python2.7/dist-packages/kaggle/api/kaggle_api_extended.py\", line 146, in authenticate\n",
            "    self.config_file, self.config_dir))\n",
            "IOError: Could not find kaggle.json. Make sure it's located in /root/.kaggle. Or use the environment method.\n"
          ],
          "name": "stdout"
        }
      ]
    },
    {
      "cell_type": "code",
      "metadata": {
        "colab": {
          "base_uri": "https://localhost:8080/"
        },
        "id": "LZsFiqmnPa2i",
        "outputId": "d5acb264-3c2c-4a04-f256-d79a2cfe54a0"
      },
      "source": [
        "import os\n",
        "import pandas as pd\n",
        "from fastai.text.all import *\n",
        "# Set your username and key from the kaggle API from your account\n",

      ],
      "execution_count": null,
      "outputs": [
        {
          "output_type": "stream",
          "text": [
            "Warning: Looks like you're using an outdated API Version, please consider updating (server 1.5.12 / client 1.5.4)\n",
            "Downloading sample_submission.csv.zip to /content\n",
            "  0% 0.00/1.39M [00:00<?, ?B/s]\n",
            "100% 1.39M/1.39M [00:00<00:00, 101MB/s]\n",
            "Downloading train.csv.zip to /content\n",
            " 65% 17.0M/26.3M [00:00<00:00, 37.1MB/s]\n",
            "100% 26.3M/26.3M [00:00<00:00, 53.6MB/s]\n",
            "Downloading test.csv.zip to /content\n",
            " 73% 17.0M/23.4M [00:00<00:00, 16.2MB/s]\n",
            "100% 23.4M/23.4M [00:01<00:00, 24.2MB/s]\n",
            "Downloading test_labels.csv.zip to /content\n",
            "  0% 0.00/1.46M [00:00<?, ?B/s]\n",
            "100% 1.46M/1.46M [00:00<00:00, 211MB/s]\n"
          ],
          "name": "stdout"
        }
      ]
    },
    {
      "cell_type": "code",
      "metadata": {
        "colab": {
          "base_uri": "https://localhost:8080/"
        },
        "id": "7Yq4LTCtPoY4",
        "outputId": "1245d9d8-03cf-42c9-ff34-0f946496e6f9"
      },
      "source": [
        "!ls"
      ],
      "execution_count": null,
      "outputs": [
        {
          "output_type": "stream",
          "text": [
            "sample_data\t\t   test.csv.zip\t\ttrain.csv.zip\n",
            "sample_submission.csv.zip  test_labels.csv.zip\n"
          ],
          "name": "stdout"
        }
      ]
    },
    {
      "cell_type": "code",
      "metadata": {
        "colab": {
          "base_uri": "https://localhost:8080/"
        },
        "id": "B5Q6l0gnP_Ze",
        "outputId": "1d4b78b8-7081-4e75-9e75-f06b1dd6628c"
      },
      "source": [
        "os.mkdir(\"toxic\")\n",
        "os.chdir(\"toxic\")\n",
        "!kaggle competitions download -c jigsaw-toxic-comment-classification-challenge"
      ],
      "execution_count": null,
      "outputs": [
        {
          "output_type": "stream",
          "text": [
            "Warning: Looks like you're using an outdated API Version, please consider updating (server 1.5.12 / client 1.5.4)\n",
            "Downloading test_labels.csv.zip to /content/toxic\n",
            "  0% 0.00/1.46M [00:00<?, ?B/s]\n",
            "100% 1.46M/1.46M [00:00<00:00, 98.0MB/s]\n",
            "Downloading test.csv.zip to /content/toxic\n",
            " 21% 5.00M/23.4M [00:00<00:01, 11.2MB/s]\n",
            "100% 23.4M/23.4M [00:00<00:00, 43.5MB/s]\n",
            "Downloading sample_submission.csv.zip to /content/toxic\n",
            "  0% 0.00/1.39M [00:00<?, ?B/s]\n",
            "100% 1.39M/1.39M [00:00<00:00, 95.7MB/s]\n",
            "Downloading train.csv.zip to /content/toxic\n",
            " 65% 17.0M/26.3M [00:00<00:00, 23.3MB/s]\n",
            "100% 26.3M/26.3M [00:00<00:00, 36.0MB/s]\n"
          ],
          "name": "stdout"
        }
      ]
    },
    {
      "cell_type": "code",
      "metadata": {
        "colab": {
          "base_uri": "https://localhost:8080/"
        },
        "id": "9pFiaUYIQVZP",
        "outputId": "db36ebd3-e7a1-4df6-c91e-26934c5776b1"
      },
      "source": [
        "# Unzip all the csv files and remove the zip files\n",
        "!unzip train.csv.zip && rm train.csv.zip\n",
        "!unzip test.csv.zip && rm test.csv.zip\n",
        "!unzip test_labels.csv.zip && rm test_labels.csv.zip\n",
        "!unzip sample_submission.csv.zip && rm sample_submission.csv.zip"
      ],
      "execution_count": null,
      "outputs": [
        {
          "output_type": "stream",
          "text": [
            "Archive:  train.csv.zip\n",
            "  inflating: train.csv               \n",
            "Archive:  test.csv.zip\n",
            "  inflating: test.csv                \n",
            "Archive:  test_labels.csv.zip\n",
            "  inflating: test_labels.csv         \n",
            "Archive:  sample_submission.csv.zip\n",
            "  inflating: sample_submission.csv   \n"
          ],
          "name": "stdout"
        }
      ]
    },
    {
      "cell_type": "code",
      "metadata": {
        "colab": {
          "base_uri": "https://localhost:8080/",
          "height": 470
        },
        "id": "AXo6b080QqEJ",
        "outputId": "cc81300d-43e7-4846-ef17-d8224d4fd34a"
      },
      "source": [
        "train_df = pd.read_csv(\"train.csv\")\n",
        "test_df = pd.read_csv(\"test.csv\")\n",
        "lm_df = pd.concat([train_df[[\"id\",\"comment_text\"]],test_df])\n",
        "lm_df.reset_index(drop=True,inplace=True)\n",
        "lm_df"
      ],
      "execution_count": null,
      "outputs": [
        {
          "output_type": "execute_result",
          "data": {
            "text/html": [
              "<div>\n",
              "<style scoped>\n",
              "    .dataframe tbody tr th:only-of-type {\n",
              "        vertical-align: middle;\n",
              "    }\n",
              "\n",
              "    .dataframe tbody tr th {\n",
              "        vertical-align: top;\n",
              "    }\n",
              "\n",
              "    .dataframe thead th {\n",
              "        text-align: right;\n",
              "    }\n",
              "</style>\n",
              "<table border=\"1\" class=\"dataframe\">\n",
              "  <thead>\n",
              "    <tr style=\"text-align: right;\">\n",
              "      <th></th>\n",
              "      <th>id</th>\n",
              "      <th>comment_text</th>\n",
              "    </tr>\n",
              "  </thead>\n",
              "  <tbody>\n",
              "    <tr>\n",
              "      <th>0</th>\n",
              "      <td>0000997932d777bf</td>\n",
              "      <td>Explanation\\nWhy the edits made under my username Hardcore Metallica Fan were reverted? They weren't vandalisms, just closure on some GAs after I voted at New York Dolls FAC. And please don't remove the template from the talk page since I'm retired now.89.205.38.27</td>\n",
              "    </tr>\n",
              "    <tr>\n",
              "      <th>1</th>\n",
              "      <td>000103f0d9cfb60f</td>\n",
              "      <td>D'aww! He matches this background colour I'm seemingly stuck with. Thanks.  (talk) 21:51, January 11, 2016 (UTC)</td>\n",
              "    </tr>\n",
              "    <tr>\n",
              "      <th>2</th>\n",
              "      <td>000113f07ec002fd</td>\n",
              "      <td>Hey man, I'm really not trying to edit war. It's just that this guy is constantly removing relevant information and talking to me through edits instead of my talk page. He seems to care more about the formatting than the actual info.</td>\n",
              "    </tr>\n",
              "    <tr>\n",
              "      <th>3</th>\n",
              "      <td>0001b41b1c6bb37e</td>\n",
              "      <td>\"\\nMore\\nI can't make any real suggestions on improvement - I wondered if the section statistics should be later on, or a subsection of \"\"types of accidents\"\"  -I think the references may need tidying so that they are all in the exact same format ie date format etc. I can do that later on, if no-one else does first - if you have any preferences for formatting style on references or want to do it yourself please let me know.\\n\\nThere appears to be a backlog on articles for review so I guess there may be a delay until a reviewer turns up. It's listed in the relevant form eg Wikipedia:Good_ar...</td>\n",
              "    </tr>\n",
              "    <tr>\n",
              "      <th>4</th>\n",
              "      <td>0001d958c54c6e35</td>\n",
              "      <td>You, sir, are my hero. Any chance you remember what page that's on?</td>\n",
              "    </tr>\n",
              "    <tr>\n",
              "      <th>...</th>\n",
              "      <td>...</td>\n",
              "      <td>...</td>\n",
              "    </tr>\n",
              "    <tr>\n",
              "      <th>312730</th>\n",
              "      <td>fffcd0960ee309b5</td>\n",
              "      <td>. \\n i totally agree, this stuff is nothing but too-long-crap</td>\n",
              "    </tr>\n",
              "    <tr>\n",
              "      <th>312731</th>\n",
              "      <td>fffd7a9a6eb32c16</td>\n",
              "      <td>== Throw from out field to home plate. == \\n\\n Does it get there faster by throwing to cut off man or direct from out fielder? \\n Were the out fielders in the Mickey mantle era have better arms? \\n Rich</td>\n",
              "    </tr>\n",
              "    <tr>\n",
              "      <th>312732</th>\n",
              "      <td>fffda9e8d6fafa9e</td>\n",
              "      <td>\" \\n\\n == Okinotorishima categories == \\n\\n I see your changes and agree this is \"\"more correct.\"\"  I had gotten confused, but then found this: \\n :... while acknowledging Japan's territorial rights to Okinotorishima itself ... \\n However, is there a category for  \\n :... did not acknowledge Japan's claim to an exclusive economic zone (EEZ) stemming from Okinotorishima. \\n That is, is there a category for \"\"disputed EEZ\"\"s?   \"</td>\n",
              "    </tr>\n",
              "    <tr>\n",
              "      <th>312733</th>\n",
              "      <td>fffe8f1340a79fc2</td>\n",
              "      <td>\" \\n\\n == \"\"One of the founding nations of the EU - Germany - has a Law of Return quite similar to Israel's\"\" == \\n\\n This isn't actually true, is it? Germany allows people whose ancestors were citizens of Germany to return, but AFAIK it does not allow the descendants of Anglo-Saxons to \"\"return\"\" to Angeln and Saxony. Israel, by contrast, allows all Jews to \"\"return\"\" to Israel, even if they can't trace a particular ancestral line to anyone who lived in the modern state or even mandate Palestine. — \"</td>\n",
              "    </tr>\n",
              "    <tr>\n",
              "      <th>312734</th>\n",
              "      <td>ffffce3fb183ee80</td>\n",
              "      <td>\" \\n :::Stop already. Your bullshit is not welcome here. I'm no fool, and if you think that kind of explination is enough, well pity you.    \"</td>\n",
              "    </tr>\n",
              "  </tbody>\n",
              "</table>\n",
              "<p>312735 rows × 2 columns</p>\n",
              "</div>"
            ],
            "text/plain": [
              "                      id                                                                                                                                                                                                                                                                                                                                                                                                                                                                                                                                                                                                             comment_text\n",
              "0       0000997932d777bf                                                                                                                                                                                                                                                                                                                                                Explanation\\nWhy the edits made under my username Hardcore Metallica Fan were reverted? They weren't vandalisms, just closure on some GAs after I voted at New York Dolls FAC. And please don't remove the template from the talk page since I'm retired now.89.205.38.27\n",
              "1       000103f0d9cfb60f                                                                                                                                                                                                                                                                                                                                                                                                                                                                                                         D'aww! He matches this background colour I'm seemingly stuck with. Thanks.  (talk) 21:51, January 11, 2016 (UTC)\n",
              "2       000113f07ec002fd                                                                                                                                                                                                                                                                                                                                                                                Hey man, I'm really not trying to edit war. It's just that this guy is constantly removing relevant information and talking to me through edits instead of my talk page. He seems to care more about the formatting than the actual info.\n",
              "3       0001b41b1c6bb37e  \"\\nMore\\nI can't make any real suggestions on improvement - I wondered if the section statistics should be later on, or a subsection of \"\"types of accidents\"\"  -I think the references may need tidying so that they are all in the exact same format ie date format etc. I can do that later on, if no-one else does first - if you have any preferences for formatting style on references or want to do it yourself please let me know.\\n\\nThere appears to be a backlog on articles for review so I guess there may be a delay until a reviewer turns up. It's listed in the relevant form eg Wikipedia:Good_ar...\n",
              "4       0001d958c54c6e35                                                                                                                                                                                                                                                                                                                                                                                                                                                                                                                                                      You, sir, are my hero. Any chance you remember what page that's on?\n",
              "...                  ...                                                                                                                                                                                                                                                                                                                                                                                                                                                                                                                                                                                                                      ...\n",
              "312730  fffcd0960ee309b5                                                                                                                                                                                                                                                                                                                                                                                                                                                                                                                                                            . \\n i totally agree, this stuff is nothing but too-long-crap\n",
              "312731  fffd7a9a6eb32c16                                                                                                                                                                                                                                                                                                                                                                                                               == Throw from out field to home plate. == \\n\\n Does it get there faster by throwing to cut off man or direct from out fielder? \\n Were the out fielders in the Mickey mantle era have better arms? \\n Rich\n",
              "312732  fffda9e8d6fafa9e                                                                                                                                                                          \" \\n\\n == Okinotorishima categories == \\n\\n I see your changes and agree this is \"\"more correct.\"\"  I had gotten confused, but then found this: \\n :... while acknowledging Japan's territorial rights to Okinotorishima itself ... \\n However, is there a category for  \\n :... did not acknowledge Japan's claim to an exclusive economic zone (EEZ) stemming from Okinotorishima. \\n That is, is there a category for \"\"disputed EEZ\"\"s?   \"\n",
              "312733  fffe8f1340a79fc2                                                                                               \" \\n\\n == \"\"One of the founding nations of the EU - Germany - has a Law of Return quite similar to Israel's\"\" == \\n\\n This isn't actually true, is it? Germany allows people whose ancestors were citizens of Germany to return, but AFAIK it does not allow the descendants of Anglo-Saxons to \"\"return\"\" to Angeln and Saxony. Israel, by contrast, allows all Jews to \"\"return\"\" to Israel, even if they can't trace a particular ancestral line to anyone who lived in the modern state or even mandate Palestine. — \"\n",
              "312734  ffffce3fb183ee80                                                                                                                                                                                                                                                                                                                                                                                                                                                                           \" \\n :::Stop already. Your bullshit is not welcome here. I'm no fool, and if you think that kind of explination is enough, well pity you.    \"\n",
              "\n",
              "[312735 rows x 2 columns]"
            ]
          },
          "metadata": {
            "tags": []
          },
          "execution_count": 6
        }
      ]
    },
    {
      "cell_type": "code",
      "metadata": {
        "colab": {
          "base_uri": "https://localhost:8080/",
          "height": 71
        },
        "id": "hYvAXs4ERLvO",
        "outputId": "cc33309b-1542-416a-e0c8-aabac231a642"
      },
      "source": [
        "# Tokenize the dataframe created above to have all the descriptions tokenized properly and build a dataloader\n",
        "# For creating a language model\n",
        "dls_lm = TextDataLoaders.from_df(lm_df,\n",
        "                                 # Specify the column that contains the comments\n",
        "                                 text_col='comment_text',\n",
        "                                 # Specify how much data is within train and validation sets\n",
        "                                 valid_pct = .2,\n",
        "                                 # Mention explicitly that this dataloader is meant for language model\n",
        "                                 is_lm = True,\n",
        "                                 # Pick a sequence length i.e. how many words to feed through the RNN at once\n",
        "                                 seq_len = 72,\n",
        "                                 # Specify the batch size for the dataloader\n",
        "                                 bs = 64)"
      ],
      "execution_count": null,
      "outputs": [
        {
          "output_type": "display_data",
          "data": {
            "text/html": [
              ""
            ],
            "text/plain": [
              "<IPython.core.display.HTML object>"
            ]
          },
          "metadata": {
            "tags": []
          }
        },
        {
          "output_type": "stream",
          "text": [
            "/usr/local/lib/python3.7/dist-packages/numpy/core/_asarray.py:83: VisibleDeprecationWarning: Creating an ndarray from ragged nested sequences (which is a list-or-tuple of lists-or-tuples-or ndarrays with different lengths or shapes) is deprecated. If you meant to do this, you must specify 'dtype=object' when creating the ndarray\n",
            "  return array(a, dtype, copy=False, order=order)\n"
          ],
          "name": "stderr"
        }
      ]
    },
    {
      "cell_type": "code",
      "metadata": {
        "colab": {
          "base_uri": "https://localhost:8080/",
          "height": 17
        },
        "id": "NjVPGqRIReA_",
        "outputId": "479e96af-3fc9-47cf-f2e7-db76c8aa7b85"
      },
      "source": [
        "# Create & fine tune the language model\n",
        "learn = language_model_learner(dls_lm, \n",
        "                               # Architecture to use\n",
        "                               AWD_LSTM,\n",
        "                               # Dropout percentage for regularization\n",
        "                               drop_mult = .3,\n",
        "                               pretrained = True,\n",
        "                               # Metrics to understand the performance\n",
        "                               metrics = [accuracy, Perplexity()]).to_fp16()"
      ],
      "execution_count": null,
      "outputs": [
        {
          "output_type": "display_data",
          "data": {
            "text/html": [
              ""
            ],
            "text/plain": [
              "<IPython.core.display.HTML object>"
            ]
          },
          "metadata": {
            "tags": []
          }
        }
      ]
    },
    {
      "cell_type": "code",
      "metadata": {
        "colab": {
          "base_uri": "https://localhost:8080/",
          "height": 143
        },
        "id": "VKJecI-iRiLS",
        "outputId": "d80d1e9d-a660-4cdf-82d6-16563555d1d7"
      },
      "source": [
        "learn.fine_tune(1)"
      ],
      "execution_count": null,
      "outputs": [
        {
          "output_type": "display_data",
          "data": {
            "text/html": [
              "<table border=\"1\" class=\"dataframe\">\n",
              "  <thead>\n",
              "    <tr style=\"text-align: left;\">\n",
              "      <th>epoch</th>\n",
              "      <th>train_loss</th>\n",
              "      <th>valid_loss</th>\n",
              "      <th>accuracy</th>\n",
              "      <th>perplexity</th>\n",
              "      <th>time</th>\n",
              "    </tr>\n",
              "  </thead>\n",
              "  <tbody>\n",
              "    <tr>\n",
              "      <td>0</td>\n",
              "      <td>3.965575</td>\n",
              "      <td>3.884057</td>\n",
              "      <td>0.319493</td>\n",
              "      <td>48.621063</td>\n",
              "      <td>24:36</td>\n",
              "    </tr>\n",
              "  </tbody>\n",
              "</table>"
            ],
            "text/plain": [
              "<IPython.core.display.HTML object>"
            ]
          },
          "metadata": {
            "tags": []
          }
        },
        {
          "output_type": "display_data",
          "data": {
            "text/html": [
              "<table border=\"1\" class=\"dataframe\">\n",
              "  <thead>\n",
              "    <tr style=\"text-align: left;\">\n",
              "      <th>epoch</th>\n",
              "      <th>train_loss</th>\n",
              "      <th>valid_loss</th>\n",
              "      <th>accuracy</th>\n",
              "      <th>perplexity</th>\n",
              "      <th>time</th>\n",
              "    </tr>\n",
              "  </thead>\n",
              "  <tbody>\n",
              "    <tr>\n",
              "      <td>0</td>\n",
              "      <td>3.693343</td>\n",
              "      <td>3.657018</td>\n",
              "      <td>0.347082</td>\n",
              "      <td>38.745640</td>\n",
              "      <td>25:55</td>\n",
              "    </tr>\n",
              "  </tbody>\n",
              "</table>"
            ],
            "text/plain": [
              "<IPython.core.display.HTML object>"
            ]
          },
          "metadata": {
            "tags": []
          }
        }
      ]
    },
    {
      "cell_type": "code",
      "metadata": {
        "id": "x3L8k1zbRp3Z"
      },
      "source": [
        "# Save the encoder part for the sake of building a classification model later on\n",
        "learn.save_encoder(\"initial_language_model_encoder\")"
      ],
      "execution_count": null,
      "outputs": []
    },
    {
      "cell_type": "code",
      "metadata": {
        "id": "DOSOCIx4RtXJ"
      },
      "source": [
        "learn.unfreeze()"
      ],
      "execution_count": null,
      "outputs": []
    },
    {
      "cell_type": "code",
      "metadata": {
        "colab": {
          "base_uri": "https://localhost:8080/",
          "height": 80
        },
        "id": "x0hm76sGR0H6",
        "outputId": "704e6501-d698-4522-9efb-2378633336a7"
      },
      "source": [
        "learn.fit_one_cycle(1, slice(1e-6,1e-5))"
      ],
      "execution_count": null,
      "outputs": [
        {
          "output_type": "display_data",
          "data": {
            "text/html": [
              "<table border=\"1\" class=\"dataframe\">\n",
              "  <thead>\n",
              "    <tr style=\"text-align: left;\">\n",
              "      <th>epoch</th>\n",
              "      <th>train_loss</th>\n",
              "      <th>valid_loss</th>\n",
              "      <th>accuracy</th>\n",
              "      <th>perplexity</th>\n",
              "      <th>time</th>\n",
              "    </tr>\n",
              "  </thead>\n",
              "  <tbody>\n",
              "    <tr>\n",
              "      <td>0</td>\n",
              "      <td>3.613383</td>\n",
              "      <td>3.653315</td>\n",
              "      <td>0.347550</td>\n",
              "      <td>38.602425</td>\n",
              "      <td>26:05</td>\n",
              "    </tr>\n",
              "  </tbody>\n",
              "</table>"
            ],
            "text/plain": [
              "<IPython.core.display.HTML object>"
            ]
          },
          "metadata": {
            "tags": []
          }
        }
      ]
    },
    {
      "cell_type": "code",
      "metadata": {
        "id": "L-xjNXV-R7ZZ"
      },
      "source": [
        "learn.save_encoder(\"finetuned_language_model_encoder\")"
      ],
      "execution_count": null,
      "outputs": []
    },
    {
      "cell_type": "code",
      "metadata": {
        "id": "oi6WXlh6g_45"
      },
      "source": [
        "ys = ['toxic', 'severe_toxic', 'obscene', 'threat', 'insult', 'identity_hate']"
      ],
      "execution_count": null,
      "outputs": []
    },
    {
      "cell_type": "code",
      "metadata": {
        "id": "86a3tLH85g8J"
      },
      "source": [
        "blocks = (TextBlock.from_df('comment_text', seq_len=dls_lm.seq_len, vocab=dls_lm.vocab), \n",
        "          MultiCategoryBlock(encoded=True, vocab=ys))"
      ],
      "execution_count": null,
      "outputs": []
    },
    {
      "cell_type": "code",
      "metadata": {
        "id": "dngG-w0I5jbB"
      },
      "source": [
        "toxic_clas = DataBlock(blocks=blocks,\n",
        "                      get_x=ColReader('text'),\n",
        "                      get_y=ColReader(ys),\n",
        "                      splitter=RandomSplitter())"
      ],
      "execution_count": null,
      "outputs": []
    },
    {
      "cell_type": "code",
      "metadata": {
        "colab": {
          "base_uri": "https://localhost:8080/",
          "height": 1000
        },
        "id": "bXqv4mie5mIR",
        "outputId": "e25fcab6-8162-427f-c01e-0e659d9b68fb"
      },
      "source": [
        "toxic_clas.summary(train_df.iloc[:10])"
      ],
      "execution_count": null,
      "outputs": [
        {
          "output_type": "stream",
          "text": [
            "Setting-up type transforms pipelines\n",
            "Collecting items from                  id  ... identity_hate\n",
            "0  0000997932d777bf  ...             0\n",
            "1  000103f0d9cfb60f  ...             0\n",
            "2  000113f07ec002fd  ...             0\n",
            "3  0001b41b1c6bb37e  ...             0\n",
            "4  0001d958c54c6e35  ...             0\n",
            "5  00025465d4725e87  ...             0\n",
            "6  0002bcb3da6cb337  ...             0\n",
            "7  00031b1e95af7921  ...             0\n",
            "8  00037261f536c51d  ...             0\n",
            "9  00040093b2687caa  ...             0\n",
            "\n",
            "[10 rows x 8 columns]\n",
            "Found 10 items\n",
            "2 datasets of sizes 8,2\n",
            "Setting up Pipeline: ColReader -- {'cols': 'text', 'pref': '', 'suff': '', 'label_delim': None} -> Tokenizer -> Numericalize\n"
          ],
          "name": "stdout"
        },
        {
          "output_type": "display_data",
          "data": {
            "text/html": [
              ""
            ],
            "text/plain": [
              "<IPython.core.display.HTML object>"
            ]
          },
          "metadata": {
            "tags": []
          }
        },
        {
          "output_type": "stream",
          "text": [
            "Setting up Pipeline: ColReader -- {'cols': ['toxic', 'severe_toxic', 'obscene', 'threat', 'insult', 'identity_hate'], 'pref': '', 'suff': '', 'label_delim': None} -> EncodedMultiCategorize -- {'vocab': ['toxic', 'severe_toxic', 'obscene', 'threat', 'insult', 'identity_hate'], 'sort': False, 'add_na': False}\n",
            "\n",
            "Building one sample\n",
            "  Pipeline: ColReader -- {'cols': 'text', 'pref': '', 'suff': '', 'label_delim': None} -> Tokenizer -> Numericalize\n",
            "    starting from\n",
            "      id                                                                                                       00025465d4725e87\n",
            "toxic                                                                                                                   0\n",
            "severe_toxic                                                                                                            0\n",
            "obscene                                                                                                                 0\n",
            "threat                                                                                                                  0\n",
            "insult                                                                                                                  0\n",
            "identity_hate                                                                                                           0\n",
            "text             [xxbos, \", \\n\\n, xxmaj, congratulations, from, me, as, well, ,, use, the, tools, well, .,  , ·, talk, \"]\n",
            "text_length                                                                                                            19\n",
            "Name: 5, dtype: object\n",
            "    applying ColReader -- {'cols': 'text', 'pref': '', 'suff': '', 'label_delim': None} gives\n",
            "      ['xxbos', '\"', '\\n\\n', 'xxmaj', 'congratulations', 'from', 'me', 'as', 'well', ',', 'use', 'the', 'tools', 'well', '.', '\\xa0', '·', 'talk', '\"']\n",
            "    applying Tokenizer gives\n",
            "      ['xxbos', '\"', '\\n\\n', 'xxmaj', 'congratulations', 'from', 'me', 'as', 'well', ',', 'use', 'the', 'tools', 'well', '.', '\\xa0', '·', 'talk', '\"']\n",
            "    applying Numericalize gives\n",
            "      TensorText([   2,   12,   41,    8, 2729,   57,   65,   34,  133,   11,  111,   10,\n",
            "        2412,  133,    9,  483,  917,   78,   12])\n",
            "  Pipeline: ColReader -- {'cols': ['toxic', 'severe_toxic', 'obscene', 'threat', 'insult', 'identity_hate'], 'pref': '', 'suff': '', 'label_delim': None} -> EncodedMultiCategorize -- {'vocab': ['toxic', 'severe_toxic', 'obscene', 'threat', 'insult', 'identity_hate'], 'sort': False, 'add_na': False}\n",
            "    starting from\n",
            "      id                                                                                                       00025465d4725e87\n",
            "toxic                                                                                                                   0\n",
            "severe_toxic                                                                                                            0\n",
            "obscene                                                                                                                 0\n",
            "threat                                                                                                                  0\n",
            "insult                                                                                                                  0\n",
            "identity_hate                                                                                                           0\n",
            "text             [xxbos, \", \\n\\n, xxmaj, congratulations, from, me, as, well, ,, use, the, tools, well, .,  , ·, talk, \"]\n",
            "text_length                                                                                                            19\n",
            "Name: 5, dtype: object\n",
            "    applying ColReader -- {'cols': ['toxic', 'severe_toxic', 'obscene', 'threat', 'insult', 'identity_hate'], 'pref': '', 'suff': '', 'label_delim': None} gives\n",
            "      [0, 0, 0, 0, 0, 0]\n",
            "    applying EncodedMultiCategorize -- {'vocab': ['toxic', 'severe_toxic', 'obscene', 'threat', 'insult', 'identity_hate'], 'sort': False, 'add_na': False} gives\n",
            "      TensorMultiCategory([0., 0., 0., 0., 0., 0.])\n",
            "\n",
            "Final sample: (TensorText([   2,   12,   41,    8, 2729,   57,   65,   34,  133,   11,  111,   10,\n",
            "        2412,  133,    9,  483,  917,   78,   12]), TensorMultiCategory([0., 0., 0., 0., 0., 0.]))\n",
            "\n",
            "\n",
            "Collecting items from                  id  ... identity_hate\n",
            "0  0000997932d777bf  ...             0\n",
            "1  000103f0d9cfb60f  ...             0\n",
            "2  000113f07ec002fd  ...             0\n",
            "3  0001b41b1c6bb37e  ...             0\n",
            "4  0001d958c54c6e35  ...             0\n",
            "5  00025465d4725e87  ...             0\n",
            "6  0002bcb3da6cb337  ...             0\n",
            "7  00031b1e95af7921  ...             0\n",
            "8  00037261f536c51d  ...             0\n",
            "9  00040093b2687caa  ...             0\n",
            "\n",
            "[10 rows x 8 columns]\n",
            "Found 10 items\n",
            "2 datasets of sizes 8,2\n",
            "Setting up Pipeline: ColReader -- {'cols': 'text', 'pref': '', 'suff': '', 'label_delim': None} -> Tokenizer -> Numericalize\n"
          ],
          "name": "stdout"
        },
        {
          "output_type": "stream",
          "text": [
            "/usr/local/lib/python3.7/dist-packages/numpy/core/_asarray.py:83: VisibleDeprecationWarning: Creating an ndarray from ragged nested sequences (which is a list-or-tuple of lists-or-tuples-or ndarrays with different lengths or shapes) is deprecated. If you meant to do this, you must specify 'dtype=object' when creating the ndarray\n",
            "  return array(a, dtype, copy=False, order=order)\n"
          ],
          "name": "stderr"
        },
        {
          "output_type": "display_data",
          "data": {
            "text/html": [
              ""
            ],
            "text/plain": [
              "<IPython.core.display.HTML object>"
            ]
          },
          "metadata": {
            "tags": []
          }
        },
        {
          "output_type": "stream",
          "text": [
            "Setting up Pipeline: ColReader -- {'cols': ['toxic', 'severe_toxic', 'obscene', 'threat', 'insult', 'identity_hate'], 'pref': '', 'suff': '', 'label_delim': None} -> EncodedMultiCategorize -- {'vocab': ['toxic', 'severe_toxic', 'obscene', 'threat', 'insult', 'identity_hate'], 'sort': False, 'add_na': False}\n",
            "Setting up after_item: Pipeline: ToTensor\n",
            "Setting up before_batch: Pipeline: Pad_Chunk -- {'pad_idx': 1, 'pad_first': True, 'seq_len': 72}\n",
            "Setting up after_batch: Pipeline: \n",
            "\n",
            "Building one batch\n",
            "Applying item_tfms to the first sample:\n",
            "  Pipeline: ToTensor\n",
            "    starting from\n",
            "      (TensorText([   2,   12,   41,    8, 2729,   57,   65,   34,  133,   11,  111,   10,\n",
            "        2412,  133,    9,  483,  917,   78,   12]), TensorMultiCategory([0., 0., 0., 0., 0., 0.]))\n",
            "    applying ToTensor gives\n",
            "      (TensorText([   2,   12,   41,    8, 2729,   57,   65,   34,  133,   11,  111,   10,\n",
            "        2412,  133,    9,  483,  917,   78,   12]), TensorMultiCategory([0., 0., 0., 0., 0., 0.]))\n",
            "\n",
            "Adding the next 3 samples\n",
            "\n",
            "Applying before_batch to the list of samples\n",
            "  Pipeline: Pad_Chunk -- {'pad_idx': 1, 'pad_first': True, 'seq_len': 72}\n",
            "    starting from\n",
            "      [(TensorText([   2,   12,   41,    8, 2729,   57,   65,   34,  133,   11,  111,   10,\n",
            "        2412,  133,    9,  483,  917,   78,   12]), TensorMultiCategory([0., 0., 0., 0., 0., 0.])), (TensorText of size 138, TensorMultiCategory([0., 0., 0., 0., 0., 0.])), (TensorText of size 105, TensorMultiCategory([0., 0., 0., 0., 0., 0.])), (TensorText of size 21, TensorMultiCategory([0., 0., 0., 0., 0., 0.]))]\n",
            "    applying Pad_Chunk -- {'pad_idx': 1, 'pad_first': True, 'seq_len': 72} gives\n",
            "      ((TensorText of size 138, TensorMultiCategory([0., 0., 0., 0., 0., 0.])), (TensorText of size 138, TensorMultiCategory([0., 0., 0., 0., 0., 0.])), (TensorText of size 138, TensorMultiCategory([0., 0., 0., 0., 0., 0.])), (TensorText of size 138, TensorMultiCategory([0., 0., 0., 0., 0., 0.])))\n",
            "\n",
            "Collating items in a batch\n",
            "\n",
            "No batch_tfms to apply\n"
          ],
          "name": "stdout"
        },
        {
          "output_type": "stream",
          "text": [
            "/usr/local/lib/python3.7/dist-packages/numpy/core/_asarray.py:83: VisibleDeprecationWarning: Creating an ndarray from ragged nested sequences (which is a list-or-tuple of lists-or-tuples-or ndarrays with different lengths or shapes) is deprecated. If you meant to do this, you must specify 'dtype=object' when creating the ndarray\n",
            "  return array(a, dtype, copy=False, order=order)\n"
          ],
          "name": "stderr"
        }
      ]
    },
    {
      "cell_type": "code",
      "metadata": {
        "colab": {
          "base_uri": "https://localhost:8080/",
          "height": 71
        },
        "id": "sNTsRq8e5o36",
        "outputId": "aafd961d-c5bd-4365-c7f5-c62dd2e94d27"
      },
      "source": [
        "dls = toxic_clas.dataloaders(train_df)"
      ],
      "execution_count": null,
      "outputs": [
        {
          "output_type": "display_data",
          "data": {
            "text/html": [
              ""
            ],
            "text/plain": [
              "<IPython.core.display.HTML object>"
            ]
          },
          "metadata": {
            "tags": []
          }
        },
        {
          "output_type": "stream",
          "text": [
            "/usr/local/lib/python3.7/dist-packages/numpy/core/_asarray.py:83: VisibleDeprecationWarning: Creating an ndarray from ragged nested sequences (which is a list-or-tuple of lists-or-tuples-or ndarrays with different lengths or shapes) is deprecated. If you meant to do this, you must specify 'dtype=object' when creating the ndarray\n",
            "  return array(a, dtype, copy=False, order=order)\n"
          ],
          "name": "stderr"
        }
      ]
    },
    {
      "cell_type": "code",
      "metadata": {
        "id": "ctgmUAt152lc"
      },
      "source": [
        "loss_func = BCEWithLogitsLossFlat(thresh=0.8)\n",
        "metrics = [partial(accuracy_multi, thresh=0.8)]"
      ],
      "execution_count": null,
      "outputs": []
    },
    {
      "cell_type": "code",
      "metadata": {
        "id": "bmtCxAvH68b0"
      },
      "source": [
        "learn = text_classifier_learner(dls, AWD_LSTM, metrics=metrics, loss_func=loss_func)"
      ],
      "execution_count": null,
      "outputs": []
    },
    {
      "cell_type": "code",
      "metadata": {
        "colab": {
          "base_uri": "https://localhost:8080/",
          "height": 300
        },
        "id": "XeA_HtKI7GJN",
        "outputId": "077a27e9-9d14-472c-aa37-a6b614177012"
      },
      "source": [
        "learn.lr_find()"
      ],
      "execution_count": null,
      "outputs": [
        {
          "output_type": "display_data",
          "data": {
            "text/html": [
              ""
            ],
            "text/plain": [
              "<IPython.core.display.HTML object>"
            ]
          },
          "metadata": {
            "tags": []
          }
        },
        {
          "output_type": "execute_result",
          "data": {
            "text/plain": [
              "SuggestedLRs(lr_min=0.06309573650360108, lr_steep=0.0691830962896347)"
            ]
          },
          "metadata": {
            "tags": []
          },
          "execution_count": 22
        },
        {
          "output_type": "display_data",
          "data": {
            "image/png": "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\n",
            "text/plain": [
              "<Figure size 432x288 with 1 Axes>"
            ]
          },
          "metadata": {
            "tags": [],
            "needs_background": "light"
          }
        }
      ]
    },
    {
      "cell_type": "code",
      "metadata": {
        "colab": {
          "base_uri": "https://localhost:8080/"
        },
        "id": "773laIa07Jre",
        "outputId": "fe187549-b952-4d6d-f8c0-180e2b93af46"
      },
      "source": [
        "learn.load_encoder('finetuned_language_model_encoder')"
      ],
      "execution_count": null,
      "outputs": [
        {
          "output_type": "execute_result",
          "data": {
            "text/plain": [
              "<fastai.text.learner.TextLearner at 0x7fdc6473d7d0>"
            ]
          },
          "metadata": {
            "tags": []
          },
          "execution_count": 23
        }
      ]
    },
    {
      "cell_type": "code",
      "metadata": {
        "colab": {
          "base_uri": "https://localhost:8080/",
          "height": 80
        },
        "id": "KleZkOwJ7OFP",
        "outputId": "0d38b6d9-1c49-455b-ca6b-91fdbb90df11"
      },
      "source": [
        "learn.to_fp16()\n",
        "\n",
        "lr = 1e-2\n",
        "moms = (0.8,0.7, 0.8)\n",
        "lr *= learn.dls.bs/128\n",
        "learn.fit_one_cycle(1, lr, moms=moms, wd=0.1)"
      ],
      "execution_count": null,
      "outputs": [
        {
          "output_type": "display_data",
          "data": {
            "text/html": [
              "<table border=\"1\" class=\"dataframe\">\n",
              "  <thead>\n",
              "    <tr style=\"text-align: left;\">\n",
              "      <th>epoch</th>\n",
              "      <th>train_loss</th>\n",
              "      <th>valid_loss</th>\n",
              "      <th>accuracy_multi</th>\n",
              "      <th>time</th>\n",
              "    </tr>\n",
              "  </thead>\n",
              "  <tbody>\n",
              "    <tr>\n",
              "      <td>0</td>\n",
              "      <td>0.079368</td>\n",
              "      <td>0.065344</td>\n",
              "      <td>0.973590</td>\n",
              "      <td>04:03</td>\n",
              "    </tr>\n",
              "  </tbody>\n",
              "</table>"
            ],
            "text/plain": [
              "<IPython.core.display.HTML object>"
            ]
          },
          "metadata": {
            "tags": []
          }
        }
      ]
    },
    {
      "cell_type": "code",
      "metadata": {
        "colab": {
          "base_uri": "https://localhost:8080/",
          "height": 80
        },
        "id": "G0mc52hk7TsG",
        "outputId": "d00cc251-f30e-423b-991d-6f2ef784464b"
      },
      "source": [
        "learn.freeze_to(-2)\n",
        "lr/=2\n",
        "learn.fit_one_cycle(1, slice(lr/(2.6**4), lr), moms=moms, wd=0.1)"
      ],
      "execution_count": null,
      "outputs": [
        {
          "output_type": "display_data",
          "data": {
            "text/html": [
              "<table border=\"1\" class=\"dataframe\">\n",
              "  <thead>\n",
              "    <tr style=\"text-align: left;\">\n",
              "      <th>epoch</th>\n",
              "      <th>train_loss</th>\n",
              "      <th>valid_loss</th>\n",
              "      <th>accuracy_multi</th>\n",
              "      <th>time</th>\n",
              "    </tr>\n",
              "  </thead>\n",
              "  <tbody>\n",
              "    <tr>\n",
              "      <td>0</td>\n",
              "      <td>0.061192</td>\n",
              "      <td>0.051241</td>\n",
              "      <td>0.977935</td>\n",
              "      <td>04:17</td>\n",
              "    </tr>\n",
              "  </tbody>\n",
              "</table>"
            ],
            "text/plain": [
              "<IPython.core.display.HTML object>"
            ]
          },
          "metadata": {
            "tags": []
          }
        }
      ]
    },
    {
      "cell_type": "code",
      "metadata": {
        "colab": {
          "base_uri": "https://localhost:8080/",
          "height": 80
        },
        "id": "6JPaFDD58au4",
        "outputId": "e7cb7c67-5480-4ae5-af81-a431b9cb5f0b"
      },
      "source": [
        "learn.freeze_to(-3)\n",
        "lr /=2\n",
        "learn.fit_one_cycle(1, slice(lr/(2.6**4), lr), moms=moms, wd=0.1)"
      ],
      "execution_count": null,
      "outputs": [
        {
          "output_type": "display_data",
          "data": {
            "text/html": [
              "<table border=\"1\" class=\"dataframe\">\n",
              "  <thead>\n",
              "    <tr style=\"text-align: left;\">\n",
              "      <th>epoch</th>\n",
              "      <th>train_loss</th>\n",
              "      <th>valid_loss</th>\n",
              "      <th>accuracy_multi</th>\n",
              "      <th>time</th>\n",
              "    </tr>\n",
              "  </thead>\n",
              "  <tbody>\n",
              "    <tr>\n",
              "      <td>0</td>\n",
              "      <td>0.049815</td>\n",
              "      <td>0.045033</td>\n",
              "      <td>0.981153</td>\n",
              "      <td>04:42</td>\n",
              "    </tr>\n",
              "  </tbody>\n",
              "</table>"
            ],
            "text/plain": [
              "<IPython.core.display.HTML object>"
            ]
          },
          "metadata": {
            "tags": []
          }
        }
      ]
    },
    {
      "cell_type": "code",
      "metadata": {
        "colab": {
          "base_uri": "https://localhost:8080/"
        },
        "id": "2xF2kWCsGodj",
        "outputId": "7372de75-49d3-49b9-f103-3b6c864b1e93"
      },
      "source": [
        "learn"
      ],
      "execution_count": null,
      "outputs": [
        {
          "output_type": "execute_result",
          "data": {
            "text/plain": [
              "<fastai.text.learner.TextLearner at 0x7fdc6473d7d0>"
            ]
          },
          "metadata": {
            "tags": []
          },
          "execution_count": 27
        }
      ]
    },
    {
      "cell_type": "code",
      "metadata": {
        "colab": {
          "base_uri": "https://localhost:8080/",
          "height": 111
        },
        "id": "u9lAdvfk-W7A",
        "outputId": "9ce94386-e6a9-40d0-b718-6095c7b67368"
      },
      "source": [
        "learn.unfreeze()\n",
        "lr /= 5\n",
        "learn.fit_one_cycle(2, slice(lr/(2.6**4),lr), moms=(0.8,0.7,0.8), wd=0.1)"
      ],
      "execution_count": null,
      "outputs": [
        {
          "output_type": "display_data",
          "data": {
            "text/html": [
              "<table border=\"1\" class=\"dataframe\">\n",
              "  <thead>\n",
              "    <tr style=\"text-align: left;\">\n",
              "      <th>epoch</th>\n",
              "      <th>train_loss</th>\n",
              "      <th>valid_loss</th>\n",
              "      <th>accuracy_multi</th>\n",
              "      <th>time</th>\n",
              "    </tr>\n",
              "  </thead>\n",
              "  <tbody>\n",
              "    <tr>\n",
              "      <td>0</td>\n",
              "      <td>0.048665</td>\n",
              "      <td>0.042945</td>\n",
              "      <td>0.980646</td>\n",
              "      <td>05:29</td>\n",
              "    </tr>\n",
              "    <tr>\n",
              "      <td>1</td>\n",
              "      <td>0.044644</td>\n",
              "      <td>0.042814</td>\n",
              "      <td>0.981267</td>\n",
              "      <td>05:30</td>\n",
              "    </tr>\n",
              "  </tbody>\n",
              "</table>"
            ],
            "text/plain": [
              "<IPython.core.display.HTML object>"
            ]
          },
          "metadata": {
            "tags": []
          }
        }
      ]
    },
    {
      "cell_type": "code",
      "metadata": {
        "colab": {
          "base_uri": "https://localhost:8080/"
        },
        "id": "ODXvAPqpGw2T",
        "outputId": "800af105-dfdd-4ea4-801e-c78a23e22e95"
      },
      "source": [
        "learn.save('toxic_comment_classifier')"
      ],
      "execution_count": null,
      "outputs": [
        {
          "output_type": "execute_result",
          "data": {
            "text/plain": [
              "Path('models/toxic_comment_classifier.pth')"
            ]
          },
          "metadata": {
            "tags": []
          },
          "execution_count": 29
        }
      ]
    },
    {
      "cell_type": "code",
      "metadata": {
        "id": "plGpueaDJYDQ"
      },
      "source": [
        "learn.export('models/toxic_comment_classifier.pkl')"
      ],
      "execution_count": null,
      "outputs": []
    },
    {
      "cell_type": "code",
      "metadata": {
        "id": "ICBHsQe4Jl_y"
      },
      "source": [
        "dl = learn.dls.test_dl(test_df['comment_text'])"
      ],
      "execution_count": null,
      "outputs": []
    },
    {
      "cell_type": "code",
      "metadata": {
        "colab": {
          "base_uri": "https://localhost:8080/"
        },
        "id": "DWBQvG9ZJ1yJ",
        "outputId": "5aad28c2-a32e-4d52-c646-4de5fecda41a"
      },
      "source": [
        "dl"
      ],
      "execution_count": null,
      "outputs": [
        {
          "output_type": "execute_result",
          "data": {
            "text/plain": [
              "<fastai.text.data.SortedDL at 0x7fdc62da9e50>"
            ]
          },
          "metadata": {
            "tags": []
          },
          "execution_count": 32
        }
      ]
    },
    {
      "cell_type": "code",
      "metadata": {
        "colab": {
          "base_uri": "https://localhost:8080/",
          "height": 17
        },
        "id": "vEWB3QCWJ2rL",
        "outputId": "e06fe4b8-a9a6-4ce9-ebf0-d497e5e46b32"
      },
      "source": [
        "preds = learn.get_preds(dl=dl)"
      ],
      "execution_count": null,
      "outputs": [
        {
          "output_type": "display_data",
          "data": {
            "text/html": [
              ""
            ],
            "text/plain": [
              "<IPython.core.display.HTML object>"
            ]
          },
          "metadata": {
            "tags": []
          }
        }
      ]
    },
    {
      "cell_type": "code",
      "metadata": {
        "colab": {
          "base_uri": "https://localhost:8080/"
        },
        "id": "9UlOvkpaLF4J",
        "outputId": "2482da73-729e-4e29-8c7e-a0abee8ffb7b"
      },
      "source": [
        "type(preds)"
      ],
      "execution_count": null,
      "outputs": [
        {
          "output_type": "execute_result",
          "data": {
            "text/plain": [
              "tuple"
            ]
          },
          "metadata": {
            "tags": []
          },
          "execution_count": 34
        }
      ]
    },
    {
      "cell_type": "code",
      "metadata": {
        "colab": {
          "base_uri": "https://localhost:8080/"
        },
        "id": "j5CuDZCuL9u_",
        "outputId": "067cb00a-b580-488a-e271-53788798de6a"
      },
      "source": [
        "preds[0][0].cpu().numpy()"
      ],
      "execution_count": null,
      "outputs": [
        {
          "output_type": "execute_result",
          "data": {
            "text/plain": [
              "array([0.9843364 , 0.3176379 , 0.9071478 , 0.08993301, 0.8659059 ,\n",
              "       0.55121136], dtype=float32)"
            ]
          },
          "metadata": {
            "tags": []
          },
          "execution_count": 40
        }
      ]
    },
    {
      "cell_type": "code",
      "metadata": {
        "colab": {
          "base_uri": "https://localhost:8080/",
          "height": 252
        },
        "id": "dwV85y5vL_RY",
        "outputId": "9556e769-d17e-4e8d-efd9-08a0e24bb1ab"
      },
      "source": [
        "test_df.loc[:5]"
      ],
      "execution_count": null,
      "outputs": [
        {
          "output_type": "execute_result",
          "data": {
            "text/html": [
              "<div>\n",
              "<style scoped>\n",
              "    .dataframe tbody tr th:only-of-type {\n",
              "        vertical-align: middle;\n",
              "    }\n",
              "\n",
              "    .dataframe tbody tr th {\n",
              "        vertical-align: top;\n",
              "    }\n",
              "\n",
              "    .dataframe thead th {\n",
              "        text-align: right;\n",
              "    }\n",
              "</style>\n",
              "<table border=\"1\" class=\"dataframe\">\n",
              "  <thead>\n",
              "    <tr style=\"text-align: right;\">\n",
              "      <th></th>\n",
              "      <th>id</th>\n",
              "      <th>comment_text</th>\n",
              "    </tr>\n",
              "  </thead>\n",
              "  <tbody>\n",
              "    <tr>\n",
              "      <th>0</th>\n",
              "      <td>00001cee341fdb12</td>\n",
              "      <td>Yo bitch Ja Rule is more succesful then you'll ever be whats up with you and hating you sad mofuckas...i should bitch slap ur pethedic white faces and get you to kiss my ass you guys sicken me. Ja rule is about pride in da music man. dont diss that shit on him. and nothin is wrong bein like tupac he was a brother too...fuckin white boys get things right next time.,</td>\n",
              "    </tr>\n",
              "    <tr>\n",
              "      <th>1</th>\n",
              "      <td>0000247867823ef7</td>\n",
              "      <td>== From RfC == \\n\\n The title is fine as it is, IMO.</td>\n",
              "    </tr>\n",
              "    <tr>\n",
              "      <th>2</th>\n",
              "      <td>00013b17ad220c46</td>\n",
              "      <td>\" \\n\\n == Sources == \\n\\n * Zawe Ashton on Lapland —  /  \"</td>\n",
              "    </tr>\n",
              "    <tr>\n",
              "      <th>3</th>\n",
              "      <td>00017563c3f7919a</td>\n",
              "      <td>:If you have a look back at the source, the information I updated was the correct form. I can only guess the source hadn't updated. I shall update the information once again but thank you for your message.</td>\n",
              "    </tr>\n",
              "    <tr>\n",
              "      <th>4</th>\n",
              "      <td>00017695ad8997eb</td>\n",
              "      <td>I don't anonymously edit articles at all.</td>\n",
              "    </tr>\n",
              "    <tr>\n",
              "      <th>5</th>\n",
              "      <td>0001ea8717f6de06</td>\n",
              "      <td>Thank you for understanding. I think very highly of you and would not revert without discussion.</td>\n",
              "    </tr>\n",
              "  </tbody>\n",
              "</table>\n",
              "</div>"
            ],
            "text/plain": [
              "                 id                                                                                                                                                                                                                                                                                                                                                                     comment_text\n",
              "0  00001cee341fdb12  Yo bitch Ja Rule is more succesful then you'll ever be whats up with you and hating you sad mofuckas...i should bitch slap ur pethedic white faces and get you to kiss my ass you guys sicken me. Ja rule is about pride in da music man. dont diss that shit on him. and nothin is wrong bein like tupac he was a brother too...fuckin white boys get things right next time.,\n",
              "1  0000247867823ef7                                                                                                                                                                                                                                                                                                                             == From RfC == \\n\\n The title is fine as it is, IMO.\n",
              "2  00013b17ad220c46                                                                                                                                                                                                                                                                                                                       \" \\n\\n == Sources == \\n\\n * Zawe Ashton on Lapland —  /  \"\n",
              "3  00017563c3f7919a                                                                                                                                                                    :If you have a look back at the source, the information I updated was the correct form. I can only guess the source hadn't updated. I shall update the information once again but thank you for your message.\n",
              "4  00017695ad8997eb                                                                                                                                                                                                                                                                                                                                        I don't anonymously edit articles at all.\n",
              "5  0001ea8717f6de06                                                                                                                                                                                                                                                                                 Thank you for understanding. I think very highly of you and would not revert without discussion."
            ]
          },
          "metadata": {
            "tags": []
          },
          "execution_count": 51
        }
      ]
    },
    {
      "cell_type": "code",
      "metadata": {
        "id": "gtBsf0YuNIFx"
      },
      "source": [
        "dl2 = learn.dls.test_dl(test_df.loc[:50]['comment_text'])"
      ],
      "execution_count": null,
      "outputs": []
    },
    {
      "cell_type": "code",
      "metadata": {
        "colab": {
          "base_uri": "https://localhost:8080/",
          "height": 51
        },
        "id": "_uI0K8nbNzru",
        "outputId": "516c9646-e367-4769-c61f-e04ef30edf97"
      },
      "source": [
        "learn.get_preds(dl=learn.dls.test_dl(test_df.loc[:0]['comment_text']))[0][0].cpu().numpy()"
      ],
      "execution_count": null,
      "outputs": [
        {
          "output_type": "display_data",
          "data": {
            "text/html": [
              ""
            ],
            "text/plain": [
              "<IPython.core.display.HTML object>"
            ]
          },
          "metadata": {
            "tags": []
          }
        },
        {
          "output_type": "execute_result",
          "data": {
            "text/plain": [
              "array([0.9843364 , 0.31774372, 0.9071478 , 0.08993301, 0.86601925,\n",
              "       0.5511812 ], dtype=float32)"
            ]
          },
          "metadata": {
            "tags": []
          },
          "execution_count": 50
        }
      ]
    },
    {
      "cell_type": "code",
      "metadata": {
        "colab": {
          "base_uri": "https://localhost:8080/"
        },
        "id": "Yqiy7EPNN4ef",
        "outputId": "558c0c7b-046f-476e-f45f-7c057a250199"
      },
      "source": [
        "preds[0][0].cpu().numpy()"
      ],
      "execution_count": null,
      "outputs": [
        {
          "output_type": "execute_result",
          "data": {
            "text/plain": [
              "array([0.9843364 , 0.3176379 , 0.9071478 , 0.08993301, 0.8659059 ,\n",
              "       0.55121136], dtype=float32)"
            ]
          },
          "metadata": {
            "tags": []
          },
          "execution_count": 52
        }
      ]
    },
    {
      "cell_type": "code",
      "metadata": {
        "colab": {
          "base_uri": "https://localhost:8080/"
        },
        "id": "8iFRoFNuX7kA",
        "outputId": "5cdd2522-598c-47d6-f3df-3b3d475e217f"
      },
      "source": [
        "!pip list | grep spac"
      ],
      "execution_count": null,
      "outputs": [
        {
          "output_type": "stream",
          "text": [
            "spacy                         2.2.4              \n"
          ],
          "name": "stdout"
        }
      ]
    },
    {
      "cell_type": "code",
      "metadata": {
        "id": "79uegtzgYESI"
      },
      "source": [
        ""
      ],
      "execution_count": null,
      "outputs": []
    }
  ]
}
