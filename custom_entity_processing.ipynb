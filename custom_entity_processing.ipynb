{
  "nbformat": 4,
  "nbformat_minor": 0,
  "metadata": {
    "colab": {
      "name": "custom_entity_processing.ipynb",
      "provenance": [],
      "include_colab_link": true
    },
    "kernelspec": {
      "name": "python3",
      "display_name": "Python 3"
    },
    "accelerator": "GPU"
  },
  "cells": [
    {
      "cell_type": "markdown",
      "metadata": {
        "id": "view-in-github",
        "colab_type": "text"
      },
      "source": [
        "<a href=\"https://colab.research.google.com/github/ravi-gopalan/DAND_Data_Wrangling/blob/master/custom_entity_processing.ipynb\" target=\"_parent\"><img src=\"https://colab.research.google.com/assets/colab-badge.svg\" alt=\"Open In Colab\"/></a>"
      ]
    },
    {
      "cell_type": "code",
      "metadata": {
        "id": "OjGpa9Q1pmdR",
        "colab_type": "code",
        "outputId": "253499fa-5542-449b-964a-f55117c8c594",
        "colab": {
          "base_uri": "https://localhost:8080/",
          "height": 932
        }
      },
      "source": [
        "from google.colab import drive\n",
        "drive.mount('/gdrive')\n",
        "%cd /gdrive"
      ],
      "execution_count": 3,
      "outputs": [
        {
          "output_type": "stream",
          "text": [
            "ERROR:root:Internal Python error in the inspect module.\n",
            "Below is the traceback from this internal error.\n",
            "\n"
          ],
          "name": "stderr"
        },
        {
          "output_type": "stream",
          "text": [
            "Mounted at /gdrive\n",
            "Traceback (most recent call last):\n",
            "  File \"/usr/local/lib/python3.6/dist-packages/IPython/core/interactiveshell.py\", line 2882, in run_code\n",
            "    exec(code_obj, self.user_global_ns, self.user_ns)\n",
            "  File \"<ipython-input-3-cd0a7580851e>\", line 3, in <module>\n",
            "    get_ipython().magic('cd /gdrive')\n",
            "  File \"/usr/local/lib/python3.6/dist-packages/IPython/core/interactiveshell.py\", line 2160, in magic\n",
            "    return self.run_line_magic(magic_name, magic_arg_s)\n",
            "  File \"/usr/local/lib/python3.6/dist-packages/IPython/core/interactiveshell.py\", line 2081, in run_line_magic\n",
            "    result = fn(*args,**kwargs)\n",
            "  File \"</usr/local/lib/python3.6/dist-packages/decorator.py:decorator-gen-91>\", line 2, in cd\n",
            "  File \"/usr/local/lib/python3.6/dist-packages/IPython/core/magic.py\", line 188, in <lambda>\n",
            "    call = lambda f, *a, **k: f(*a, **k)\n",
            "  File \"/usr/local/lib/python3.6/dist-packages/IPython/core/magics/osm.py\", line 288, in cd\n",
            "    oldcwd = py3compat.getcwd()\n",
            "OSError: [Errno 107] Transport endpoint is not connected\n",
            "\n",
            "During handling of the above exception, another exception occurred:\n",
            "\n",
            "Traceback (most recent call last):\n",
            "  File \"/usr/local/lib/python3.6/dist-packages/IPython/core/interactiveshell.py\", line 1823, in showtraceback\n",
            "    stb = value._render_traceback_()\n",
            "AttributeError: 'OSError' object has no attribute '_render_traceback_'\n",
            "\n",
            "During handling of the above exception, another exception occurred:\n",
            "\n",
            "Traceback (most recent call last):\n",
            "  File \"/usr/local/lib/python3.6/dist-packages/IPython/core/ultratb.py\", line 1132, in get_records\n",
            "    return _fixed_getinnerframes(etb, number_of_lines_of_context, tb_offset)\n",
            "  File \"/usr/local/lib/python3.6/dist-packages/IPython/core/ultratb.py\", line 313, in wrapped\n",
            "    return f(*args, **kwargs)\n",
            "  File \"/usr/local/lib/python3.6/dist-packages/IPython/core/ultratb.py\", line 358, in _fixed_getinnerframes\n",
            "    records = fix_frame_records_filenames(inspect.getinnerframes(etb, context))\n",
            "  File \"/usr/lib/python3.6/inspect.py\", line 1490, in getinnerframes\n",
            "    frameinfo = (tb.tb_frame,) + getframeinfo(tb, context)\n",
            "  File \"/usr/lib/python3.6/inspect.py\", line 1448, in getframeinfo\n",
            "    filename = getsourcefile(frame) or getfile(frame)\n",
            "  File \"/usr/lib/python3.6/inspect.py\", line 696, in getsourcefile\n",
            "    if getattr(getmodule(object, filename), '__loader__', None) is not None:\n",
            "  File \"/usr/lib/python3.6/inspect.py\", line 725, in getmodule\n",
            "    file = getabsfile(object, _filename)\n",
            "  File \"/usr/lib/python3.6/inspect.py\", line 709, in getabsfile\n",
            "    return os.path.normcase(os.path.abspath(_filename))\n",
            "  File \"/usr/lib/python3.6/posixpath.py\", line 383, in abspath\n",
            "    cwd = os.getcwd()\n",
            "OSError: [Errno 107] Transport endpoint is not connected\n"
          ],
          "name": "stdout"
        },
        {
          "output_type": "error",
          "ename": "OSError",
          "evalue": "ignored",
          "traceback": [
            "\u001b[0;31m---------------------------------------------------------------------------\u001b[0m"
          ]
        }
      ]
    },
    {
      "cell_type": "code",
      "metadata": {
        "id": "HeziVX--u8cR",
        "colab_type": "code",
        "outputId": "283b0fd3-5b07-485b-d692-17348eae58e9",
        "colab": {
          "base_uri": "https://localhost:8080/",
          "height": 34
        }
      },
      "source": [
        "cd '/gdrive/My Drive/abv_reviews'"
      ],
      "execution_count": 141,
      "outputs": [
        {
          "output_type": "stream",
          "text": [
            "/gdrive/My Drive/abv_reviews\n"
          ],
          "name": "stdout"
        }
      ]
    },
    {
      "cell_type": "code",
      "metadata": {
        "id": "z0sP9YiuQM80",
        "colab_type": "code",
        "outputId": "9e3eba63-6c4a-44ae-eaf7-ffba5b8428d3",
        "colab": {
          "base_uri": "https://localhost:8080/",
          "height": 504
        }
      },
      "source": [
        "!pip install spacymoji\n",
        "from spacymoji import Emoji"
      ],
      "execution_count": 3,
      "outputs": [
        {
          "output_type": "stream",
          "text": [
            "Collecting spacymoji\n",
            "  Downloading https://files.pythonhosted.org/packages/e6/42/b4460030eb06504451973609ab8a95b8c0106090aca7a4d657baf9b2611d/spacymoji-2.0.0-py3-none-any.whl\n",
            "Requirement already satisfied: spacy<3.0.0,>=2.1.3 in /usr/local/lib/python3.6/dist-packages (from spacymoji) (2.1.9)\n",
            "Collecting emoji<1.0.0,>=0.4.5\n",
            "\u001b[?25l  Downloading https://files.pythonhosted.org/packages/40/8d/521be7f0091fe0f2ae690cc044faf43e3445e0ff33c574eae752dd7e39fa/emoji-0.5.4.tar.gz (43kB)\n",
            "\r\u001b[K     |███████▌                        | 10kB 23.2MB/s eta 0:00:01\r\u001b[K     |███████████████                 | 20kB 4.8MB/s eta 0:00:01\r\u001b[K     |██████████████████████▋         | 30kB 6.9MB/s eta 0:00:01\r\u001b[K     |██████████████████████████████▏ | 40kB 8.3MB/s eta 0:00:01\r\u001b[K     |████████████████████████████████| 51kB 4.9MB/s \n",
            "\u001b[?25hRequirement already satisfied: preshed<2.1.0,>=2.0.1 in /usr/local/lib/python3.6/dist-packages (from spacy<3.0.0,>=2.1.3->spacymoji) (2.0.1)\n",
            "Requirement already satisfied: wasabi<1.1.0,>=0.2.0 in /usr/local/lib/python3.6/dist-packages (from spacy<3.0.0,>=2.1.3->spacymoji) (0.6.0)\n",
            "Requirement already satisfied: murmurhash<1.1.0,>=0.28.0 in /usr/local/lib/python3.6/dist-packages (from spacy<3.0.0,>=2.1.3->spacymoji) (1.0.2)\n",
            "Requirement already satisfied: numpy>=1.15.0 in /usr/local/lib/python3.6/dist-packages (from spacy<3.0.0,>=2.1.3->spacymoji) (1.17.5)\n",
            "Requirement already satisfied: thinc<7.1.0,>=7.0.8 in /usr/local/lib/python3.6/dist-packages (from spacy<3.0.0,>=2.1.3->spacymoji) (7.0.8)\n",
            "Requirement already satisfied: plac<1.0.0,>=0.9.6 in /usr/local/lib/python3.6/dist-packages (from spacy<3.0.0,>=2.1.3->spacymoji) (0.9.6)\n",
            "Requirement already satisfied: srsly<1.1.0,>=0.0.6 in /usr/local/lib/python3.6/dist-packages (from spacy<3.0.0,>=2.1.3->spacymoji) (1.0.1)\n",
            "Requirement already satisfied: cymem<2.1.0,>=2.0.2 in /usr/local/lib/python3.6/dist-packages (from spacy<3.0.0,>=2.1.3->spacymoji) (2.0.3)\n",
            "Requirement already satisfied: blis<0.3.0,>=0.2.2 in /usr/local/lib/python3.6/dist-packages (from spacy<3.0.0,>=2.1.3->spacymoji) (0.2.4)\n",
            "Requirement already satisfied: requests<3.0.0,>=2.13.0 in /usr/local/lib/python3.6/dist-packages (from spacy<3.0.0,>=2.1.3->spacymoji) (2.21.0)\n",
            "Requirement already satisfied: tqdm<5.0.0,>=4.10.0 in /usr/local/lib/python3.6/dist-packages (from thinc<7.1.0,>=7.0.8->spacy<3.0.0,>=2.1.3->spacymoji) (4.28.1)\n",
            "Requirement already satisfied: chardet<3.1.0,>=3.0.2 in /usr/local/lib/python3.6/dist-packages (from requests<3.0.0,>=2.13.0->spacy<3.0.0,>=2.1.3->spacymoji) (3.0.4)\n",
            "Requirement already satisfied: urllib3<1.25,>=1.21.1 in /usr/local/lib/python3.6/dist-packages (from requests<3.0.0,>=2.13.0->spacy<3.0.0,>=2.1.3->spacymoji) (1.24.3)\n",
            "Requirement already satisfied: certifi>=2017.4.17 in /usr/local/lib/python3.6/dist-packages (from requests<3.0.0,>=2.13.0->spacy<3.0.0,>=2.1.3->spacymoji) (2019.11.28)\n",
            "Requirement already satisfied: idna<2.9,>=2.5 in /usr/local/lib/python3.6/dist-packages (from requests<3.0.0,>=2.13.0->spacy<3.0.0,>=2.1.3->spacymoji) (2.8)\n",
            "Building wheels for collected packages: emoji\n",
            "  Building wheel for emoji (setup.py) ... \u001b[?25l\u001b[?25hdone\n",
            "  Created wheel for emoji: filename=emoji-0.5.4-cp36-none-any.whl size=42175 sha256=25e513ed91c7e81ef7b75bb9fee1678d355b118a9b96424830bf8c928799c6df\n",
            "  Stored in directory: /root/.cache/pip/wheels/2a/a9/0a/4f8e8cce8074232aba240caca3fade315bb49fac68808d1a9c\n",
            "Successfully built emoji\n",
            "Installing collected packages: emoji, spacymoji\n",
            "Successfully installed emoji-0.5.4 spacymoji-2.0.0\n"
          ],
          "name": "stdout"
        }
      ]
    },
    {
      "cell_type": "code",
      "metadata": {
        "id": "hCbKbxQ2vLCV",
        "colab_type": "code",
        "outputId": "b998f1c2-7fb0-4922-ceb4-dc3050ae4486",
        "colab": {
          "base_uri": "https://localhost:8080/",
          "height": 51
        }
      },
      "source": [
        "import pandas as pd\n",
        "import numpy as np\n",
        "import warnings\n",
        "warnings.filterwarnings(\"ignore\")\n",
        "import re\n",
        "import random\n",
        "import srsly\n",
        "import json\n",
        "import spacy\n",
        "from spacy.lang.en import English\n",
        "from spacy.pipeline import EntityRuler\n",
        "from spacy import displacy\n",
        "from spacy.util import minibatch, compounding\n",
        "from pandas.io.json import json_normalize\n",
        "from spacy.gold import docs_to_json, biluo_tags_from_offsets, offsets_from_biluo_tags\n",
        "import spacy.cli\n",
        "spacy.cli.download(\"en_core_web_lg\")\n",
        "import en_core_web_lg\n",
        "\n",
        "import itertools"
      ],
      "execution_count": 4,
      "outputs": [
        {
          "output_type": "stream",
          "text": [
            "\u001b[38;5;2m✔ Download and installation successful\u001b[0m\n",
            "You can now load the model via spacy.load('en_core_web_lg')\n"
          ],
          "name": "stdout"
        }
      ]
    },
    {
      "cell_type": "code",
      "metadata": {
        "id": "SS5aJl7_jFgG",
        "colab_type": "code",
        "colab": {}
      },
      "source": [
        "def cleanse_text(text):\n",
        "  step1 = re.sub(r\"(\\{'LOWER':\\s)\",r\"\",str(text))\n",
        "  step2 = re.sub(r\"[\\[{\\'\\,\\\"}\\]]\",r\"\",step1)\n",
        "  return step2\n",
        "\n",
        "def trim_entity_spans(data: list) -> list:\n",
        "    \"\"\"Removes leading and trailing white spaces from entity spans.\n",
        "\n",
        "    Args:\n",
        "        data (list): The data to be cleaned in spaCy JSON format.\n",
        "\n",
        "    Returns:\n",
        "        list: The cleaned data.\n",
        "    \"\"\"\n",
        "    invalid_span_tokens = re.compile(r'\\s')\n",
        "\n",
        "    cleaned_data = []\n",
        "    for text, annotations in data:\n",
        "        entities = annotations['entities']\n",
        "\n",
        "        print(text, annotations)\n",
        "        valid_entities = []\n",
        "        for start, end, label in entities:\n",
        "          valid_start = start\n",
        "          valid_end = end\n",
        "          print(valid_start, valid_end, len(text))\n",
        "          while valid_start < len(text) and invalid_span_tokens.match(text[valid_start]):\n",
        "            valid_start += 1\n",
        "          while valid_end > 1 and invalid_span_tokens.match(text[valid_end - 1]):\n",
        "            valid_end -= 1\n",
        "          valid_entities.append([valid_start, valid_end, label])\n",
        "        cleaned_data.append([text, {'entities': valid_entities}])\n",
        "\n",
        "    return cleaned_data\n",
        "\n",
        "def dump_jsonl(data, output_path, append=False):\n",
        "    \"\"\"\n",
        "    Write list of objects to a JSON lines file.\n",
        "    \"\"\"\n",
        "    mode = 'a+' if append else 'w'\n",
        "    with open(output_path, mode, encoding='utf-8') as f:\n",
        "        for line in data:\n",
        "            json_record = json.dumps(line, ensure_ascii=False)\n",
        "            f.write(json_record + '\\n')\n",
        "    print('Wrote {} records to {}'.format(len(data), output_path))\n",
        "\n",
        "def load_jsonl(input_path) -> list:\n",
        "    \"\"\"\n",
        "    Read list of objects from a JSON lines file.\n",
        "    \"\"\"\n",
        "    data = []\n",
        "    with open(input_path, 'r', encoding='utf-8') as f:\n",
        "        for line in f:\n",
        "            data.append(json.loads(line.rstrip('\\n|\\r')))\n",
        "    print('Loaded {} records from {}'.format(len(data), input_path))\n",
        "    return data\n",
        "\n",
        "\n",
        "def create_entity_pattern(ent_name, ent_label):\n",
        "  pattern_list = []\n",
        "  pattern_dict = {}\n",
        "  id_str = ''\n",
        "  for word in ent_name.lower().split():\n",
        "    token_dict = {}\n",
        "    token_dict['LOWER'] = word\n",
        "    pattern_list.append(token_dict)\n",
        "    id_str += '_' + word\n",
        "  if ent_label[:2] == 'U_':\n",
        "    pattern_dict['label'] = ent_label[2:]\n",
        "  else:\n",
        "    pattern_dict['label'] = ent_label  \n",
        "  pattern_dict['pattern'] = pattern_list\n",
        "  if id_str[0] == '_':\n",
        "    id_str = id_str[1:]\n",
        "  pattern_dict['id'] = id_str\n",
        "  return pattern_dict"
      ],
      "execution_count": 0,
      "outputs": []
    },
    {
      "cell_type": "code",
      "metadata": {
        "id": "nDdNW8ZzHnFH",
        "colab_type": "code",
        "outputId": "61e7494b-9427-4fb4-a0f4-2d8c8762180c",
        "colab": {
          "base_uri": "https://localhost:8080/",
          "height": 191
        }
      },
      "source": [
        "ls -l patt*"
      ],
      "execution_count": 142,
      "outputs": [
        {
          "output_type": "stream",
          "text": [
            "-rw------- 1 root root   2365 Dec 26 18:11 pattern_bread.jsonl\n",
            "-rw------- 1 root root   4609 Dec 26 18:11 pattern_condiment.jsonl\n",
            "-rw------- 1 root root   5397 Dec 26 18:11 pattern_fruit.jsonl\n",
            "-rw------- 1 root root   3946 Dec 26 18:11 pattern_herb.jsonl\n",
            "-rw------- 1 root root   1700 Dec 26 18:11 pattern_pastry.jsonl\n",
            "-rw------- 1 root root 529064 Dec 26 14:49 patterns_2019_12_26.jsonl\n",
            "-rw------- 1 root root 589611 Jan  8 14:35 patterns_2020_01_08.jsonl\n",
            "-rw------- 1 root root 622157 Jan 10 05:04 patterns.jsonl\n",
            "-rw------- 1 root root   6749 Dec 26 18:11 pattern_spice.jsonl\n",
            "-rw------- 1 root root   9140 Dec 26 18:11 pattern_vegetable.jsonl\n"
          ],
          "name": "stdout"
        }
      ]
    },
    {
      "cell_type": "code",
      "metadata": {
        "id": "kPz03VlrgZQm",
        "colab_type": "code",
        "outputId": "347cb90e-bbb3-4048-d59c-eca438ec93ed",
        "colab": {
          "base_uri": "https://localhost:8080/",
          "height": 197
        }
      },
      "source": [
        "df_pattern = pd.read_json('patterns.jsonl',lines=True)\n",
        "df_pattern['cleaned_pattern'] = df_pattern.pattern.apply(lambda x: cleanse_text(x))\n",
        "df_pattern['label'] = 'U_' + df_pattern.label.astype(str)\n",
        "df_pattern['tup_col'] = list(zip(df_pattern.cleaned_pattern, df_pattern.label))\n",
        "df_pattern['merged'] = df_pattern.apply(lambda row: {row['cleaned_pattern']:row['label']}, axis=1)\n",
        "df_pattern.head()\n",
        "df_pattern.tail()"
      ],
      "execution_count": 143,
      "outputs": [
        {
          "output_type": "execute_result",
          "data": {
            "text/html": [
              "<div>\n",
              "<style scoped>\n",
              "    .dataframe tbody tr th:only-of-type {\n",
              "        vertical-align: middle;\n",
              "    }\n",
              "\n",
              "    .dataframe tbody tr th {\n",
              "        vertical-align: top;\n",
              "    }\n",
              "\n",
              "    .dataframe thead th {\n",
              "        text-align: right;\n",
              "    }\n",
              "</style>\n",
              "<table border=\"1\" class=\"dataframe\">\n",
              "  <thead>\n",
              "    <tr style=\"text-align: right;\">\n",
              "      <th></th>\n",
              "      <th>label</th>\n",
              "      <th>pattern</th>\n",
              "      <th>id</th>\n",
              "      <th>cleaned_pattern</th>\n",
              "      <th>tup_col</th>\n",
              "      <th>merged</th>\n",
              "    </tr>\n",
              "  </thead>\n",
              "  <tbody>\n",
              "    <tr>\n",
              "      <th>7005</th>\n",
              "      <td>U_vegetable</td>\n",
              "      <td>[{'LOWER': 'watercress'}]</td>\n",
              "      <td>watercress</td>\n",
              "      <td>watercress</td>\n",
              "      <td>(watercress, U_vegetable)</td>\n",
              "      <td>{'watercress': 'U_vegetable'}</td>\n",
              "    </tr>\n",
              "    <tr>\n",
              "      <th>7006</th>\n",
              "      <td>U_vegetable</td>\n",
              "      <td>[{'LOWER': 'white'}, {'LOWER': 'radish'}]</td>\n",
              "      <td>white_radish</td>\n",
              "      <td>white radish</td>\n",
              "      <td>(white radish, U_vegetable)</td>\n",
              "      <td>{'white radish': 'U_vegetable'}</td>\n",
              "    </tr>\n",
              "    <tr>\n",
              "      <th>7007</th>\n",
              "      <td>U_vegetable</td>\n",
              "      <td>[{'LOWER': 'yellow'}, {'LOWER': 'pepper'}]</td>\n",
              "      <td>yellow_pepper</td>\n",
              "      <td>yellow pepper</td>\n",
              "      <td>(yellow pepper, U_vegetable)</td>\n",
              "      <td>{'yellow pepper': 'U_vegetable'}</td>\n",
              "    </tr>\n",
              "    <tr>\n",
              "      <th>7008</th>\n",
              "      <td>U_vegetable</td>\n",
              "      <td>[{'LOWER': 'yellow'}, {'LOWER': 'zucchini'}]</td>\n",
              "      <td>yellow_zucchini</td>\n",
              "      <td>yellow zucchini</td>\n",
              "      <td>(yellow zucchini, U_vegetable)</td>\n",
              "      <td>{'yellow zucchini': 'U_vegetable'}</td>\n",
              "    </tr>\n",
              "    <tr>\n",
              "      <th>7009</th>\n",
              "      <td>U_vegetable</td>\n",
              "      <td>[{'LOWER': 'zucchini'}]</td>\n",
              "      <td>zucchini</td>\n",
              "      <td>zucchini</td>\n",
              "      <td>(zucchini, U_vegetable)</td>\n",
              "      <td>{'zucchini': 'U_vegetable'}</td>\n",
              "    </tr>\n",
              "  </tbody>\n",
              "</table>\n",
              "</div>"
            ],
            "text/plain": [
              "            label  ...                              merged\n",
              "7005  U_vegetable  ...       {'watercress': 'U_vegetable'}\n",
              "7006  U_vegetable  ...     {'white radish': 'U_vegetable'}\n",
              "7007  U_vegetable  ...    {'yellow pepper': 'U_vegetable'}\n",
              "7008  U_vegetable  ...  {'yellow zucchini': 'U_vegetable'}\n",
              "7009  U_vegetable  ...         {'zucchini': 'U_vegetable'}\n",
              "\n",
              "[5 rows x 6 columns]"
            ]
          },
          "metadata": {
            "tags": []
          },
          "execution_count": 143
        }
      ]
    },
    {
      "cell_type": "code",
      "metadata": {
        "id": "dydSFTB_kbbv",
        "colab_type": "code",
        "colab": {}
      },
      "source": [
        "x = df_pattern[['id','label']].groupby(['id'],as_index=False).count().sort_values(by=['label'],ascending=False)\n",
        "check = list(x.query('label > 1')['id'])\n",
        "df_pattern.query('id in @check').sort_values(by=['cleaned_pattern','label'],ascending=False).to_csv('tbc.csv')"
      ],
      "execution_count": 0,
      "outputs": []
    },
    {
      "cell_type": "code",
      "metadata": {
        "id": "YDmBhmceraTI",
        "colab_type": "code",
        "outputId": "9f47030e-e666-4d7b-c380-01b98b9917af",
        "colab": {
          "base_uri": "https://localhost:8080/",
          "height": 191
        }
      },
      "source": [
        "ent_list = df_pattern.tup_col.to_list()\n",
        "ent_list[-10:]"
      ],
      "execution_count": 9,
      "outputs": [
        {
          "output_type": "execute_result",
          "data": {
            "text/plain": [
              "[('nyonya laksa', 'U_dish'),\n",
              " ('ngor hiang', 'U_dish'),\n",
              " ('char siew', 'U_dish'),\n",
              " ('tom kha soup', 'U_dish'),\n",
              " ('sesame seeds', 'U_seed'),\n",
              " ('japanese cucumber', 'U_vegetable'),\n",
              " ('mushroom soup', 'U_condiment'),\n",
              " ('set lunch', 'U_meal'),\n",
              " ('appetiser', 'U_meal'),\n",
              " ('spearmint tea', 'U_dish')]"
            ]
          },
          "metadata": {
            "tags": []
          },
          "execution_count": 9
        }
      ]
    },
    {
      "cell_type": "code",
      "metadata": {
        "id": "wSdQvxf4igK6",
        "colab_type": "code",
        "colab": {}
      },
      "source": [
        "nlp = spacy.load(\"en_core_web_lg\")\n",
        "ruler = EntityRuler(nlp).from_disk(\"patterns.jsonl\")\n",
        "emoji = Emoji(nlp)\n",
        "nlp.add_pipe(emoji, first=True)\n",
        "nlp.add_pipe(ruler, before='ner')\n",
        "merge_ents = nlp.create_pipe(\"merge_entities\")\n",
        "nlp.add_pipe(merge_ents, after='ner')"
      ],
      "execution_count": 0,
      "outputs": []
    },
    {
      "cell_type": "code",
      "metadata": {
        "id": "zYGh4-jaH6Ly",
        "colab_type": "code",
        "outputId": "e766b75b-85e5-4038-aaaf-b12928712fb3",
        "colab": {
          "base_uri": "https://localhost:8080/",
          "height": 34
        }
      },
      "source": [
        "nlp.pipe_names"
      ],
      "execution_count": 145,
      "outputs": [
        {
          "output_type": "execute_result",
          "data": {
            "text/plain": [
              "['emoji', 'tagger', 'parser', 'entity_ruler', 'ner', 'merge_entities']"
            ]
          },
          "metadata": {
            "tags": []
          },
          "execution_count": 145
        }
      ]
    },
    {
      "cell_type": "code",
      "metadata": {
        "id": "NFAqRlj8wbv-",
        "colab_type": "code",
        "colab": {}
      },
      "source": [
        "ruler = EntityRuler(nlp).from_disk(\"patterns.jsonl\")"
      ],
      "execution_count": 0,
      "outputs": []
    },
    {
      "cell_type": "code",
      "metadata": {
        "id": "T73K8dZLwd_N",
        "colab_type": "code",
        "outputId": "7da374ae-0d77-4183-f3da-576e7a68ba60",
        "colab": {
          "base_uri": "https://localhost:8080/",
          "height": 138
        }
      },
      "source": [
        "ruler.patterns[-3:]"
      ],
      "execution_count": 24,
      "outputs": [
        {
          "output_type": "execute_result",
          "data": {
            "text/plain": [
              "[{'id': 'white_radish',\n",
              "  'label': 'vegetable',\n",
              "  'pattern': [{'LOWER': 'white'}, {'LOWER': 'radish'}]},\n",
              " {'id': 'yellow_zucchini',\n",
              "  'label': 'vegetable',\n",
              "  'pattern': [{'LOWER': 'yellow'}, {'LOWER': 'zucchini'}]},\n",
              " {'id': 'zucchini', 'label': 'vegetable', 'pattern': [{'LOWER': 'zucchini'}]}]"
            ]
          },
          "metadata": {
            "tags": []
          },
          "execution_count": 24
        }
      ]
    },
    {
      "cell_type": "code",
      "metadata": {
        "id": "AzKrOlarv8ZW",
        "colab_type": "code",
        "outputId": "d6937416-ab30-4322-872b-aae052590e99",
        "colab": {
          "base_uri": "https://localhost:8080/",
          "height": 69
        }
      },
      "source": [
        "doc1 = nlp(\"I love fettuccine cheese 💚🌿 but hate buffalo wings while preferring a Lebanese diet.\")\n",
        "print([(ent.text, ent.label_, ent.ent_id_) for ent in doc1.ents])\n",
        "\n",
        "displacy.render(doc1,'ent',jupyter=True)"
      ],
      "execution_count": 12,
      "outputs": [
        {
          "output_type": "stream",
          "text": [
            "[('fettuccine', 'dish', 'fettuccine'), ('cheese', 'dish', 'cheese'), ('buffalo wings', 'dish', 'buffalo_wings'), ('Lebanese', 'NORP', 'lebanese')]\n"
          ],
          "name": "stdout"
        },
        {
          "output_type": "display_data",
          "data": {
            "text/html": [
              "<div class=\"entities\" style=\"line-height: 2.5; direction: ltr\">I love \n",
              "<mark class=\"entity\" style=\"background: #ddd; padding: 0.45em 0.6em; margin: 0 0.25em; line-height: 1; border-radius: 0.35em; box-decoration-break: clone; -webkit-box-decoration-break: clone\">\n",
              "    fettuccine\n",
              "    <span style=\"font-size: 0.8em; font-weight: bold; line-height: 1; border-radius: 0.35em; text-transform: uppercase; vertical-align: middle; margin-left: 0.5rem\">dish</span>\n",
              "</mark>\n",
              " \n",
              "<mark class=\"entity\" style=\"background: #ddd; padding: 0.45em 0.6em; margin: 0 0.25em; line-height: 1; border-radius: 0.35em; box-decoration-break: clone; -webkit-box-decoration-break: clone\">\n",
              "    cheese\n",
              "    <span style=\"font-size: 0.8em; font-weight: bold; line-height: 1; border-radius: 0.35em; text-transform: uppercase; vertical-align: middle; margin-left: 0.5rem\">dish</span>\n",
              "</mark>\n",
              " 💚🌿 but hate \n",
              "<mark class=\"entity\" style=\"background: #ddd; padding: 0.45em 0.6em; margin: 0 0.25em; line-height: 1; border-radius: 0.35em; box-decoration-break: clone; -webkit-box-decoration-break: clone\">\n",
              "    buffalo wings\n",
              "    <span style=\"font-size: 0.8em; font-weight: bold; line-height: 1; border-radius: 0.35em; text-transform: uppercase; vertical-align: middle; margin-left: 0.5rem\">dish</span>\n",
              "</mark>\n",
              " while preferring a \n",
              "<mark class=\"entity\" style=\"background: #c887fb; padding: 0.45em 0.6em; margin: 0 0.25em; line-height: 1; border-radius: 0.35em; box-decoration-break: clone; -webkit-box-decoration-break: clone\">\n",
              "    Lebanese\n",
              "    <span style=\"font-size: 0.8em; font-weight: bold; line-height: 1; border-radius: 0.35em; text-transform: uppercase; vertical-align: middle; margin-left: 0.5rem\">NORP</span>\n",
              "</mark>\n",
              " diet.</div>"
            ],
            "text/plain": [
              "<IPython.core.display.HTML object>"
            ]
          },
          "metadata": {
            "tags": []
          }
        }
      ]
    },
    {
      "cell_type": "code",
      "metadata": {
        "id": "VZ2JkO1uwBLt",
        "colab_type": "code",
        "outputId": "52b99339-4de5-4dcc-f1dd-77fd0cc1cc37",
        "colab": {
          "base_uri": "https://localhost:8080/",
          "height": 51
        }
      },
      "source": [
        "doc2 = nlp(\"Avocado 🌿 is good but Indian cuising such as chicken tikka masala and paneer tikka masala are fantastic while sweet potato fries is atrocious in Egypt and India\")\n",
        "displacy.render(doc2,'ent',jupyter=True)"
      ],
      "execution_count": 13,
      "outputs": [
        {
          "output_type": "display_data",
          "data": {
            "text/html": [
              "<div class=\"entities\" style=\"line-height: 2.5; direction: ltr\">\n",
              "<mark class=\"entity\" style=\"background: #ddd; padding: 0.45em 0.6em; margin: 0 0.25em; line-height: 1; border-radius: 0.35em; box-decoration-break: clone; -webkit-box-decoration-break: clone\">\n",
              "    Avocado\n",
              "    <span style=\"font-size: 0.8em; font-weight: bold; line-height: 1; border-radius: 0.35em; text-transform: uppercase; vertical-align: middle; margin-left: 0.5rem\">fruit</span>\n",
              "</mark>\n",
              " 🌿 is good but \n",
              "<mark class=\"entity\" style=\"background: #c887fb; padding: 0.45em 0.6em; margin: 0 0.25em; line-height: 1; border-radius: 0.35em; box-decoration-break: clone; -webkit-box-decoration-break: clone\">\n",
              "    Indian\n",
              "    <span style=\"font-size: 0.8em; font-weight: bold; line-height: 1; border-radius: 0.35em; text-transform: uppercase; vertical-align: middle; margin-left: 0.5rem\">NORP</span>\n",
              "</mark>\n",
              " cuising such as \n",
              "<mark class=\"entity\" style=\"background: #ddd; padding: 0.45em 0.6em; margin: 0 0.25em; line-height: 1; border-radius: 0.35em; box-decoration-break: clone; -webkit-box-decoration-break: clone\">\n",
              "    chicken tikka masala\n",
              "    <span style=\"font-size: 0.8em; font-weight: bold; line-height: 1; border-radius: 0.35em; text-transform: uppercase; vertical-align: middle; margin-left: 0.5rem\">dish</span>\n",
              "</mark>\n",
              " and \n",
              "<mark class=\"entity\" style=\"background: #ddd; padding: 0.45em 0.6em; margin: 0 0.25em; line-height: 1; border-radius: 0.35em; box-decoration-break: clone; -webkit-box-decoration-break: clone\">\n",
              "    paneer tikka masala\n",
              "    <span style=\"font-size: 0.8em; font-weight: bold; line-height: 1; border-radius: 0.35em; text-transform: uppercase; vertical-align: middle; margin-left: 0.5rem\">dish</span>\n",
              "</mark>\n",
              " are fantastic while \n",
              "<mark class=\"entity\" style=\"background: #ddd; padding: 0.45em 0.6em; margin: 0 0.25em; line-height: 1; border-radius: 0.35em; box-decoration-break: clone; -webkit-box-decoration-break: clone\">\n",
              "    sweet potato fries\n",
              "    <span style=\"font-size: 0.8em; font-weight: bold; line-height: 1; border-radius: 0.35em; text-transform: uppercase; vertical-align: middle; margin-left: 0.5rem\">dish</span>\n",
              "</mark>\n",
              " is atrocious in \n",
              "<mark class=\"entity\" style=\"background: #feca74; padding: 0.45em 0.6em; margin: 0 0.25em; line-height: 1; border-radius: 0.35em; box-decoration-break: clone; -webkit-box-decoration-break: clone\">\n",
              "    Egypt\n",
              "    <span style=\"font-size: 0.8em; font-weight: bold; line-height: 1; border-radius: 0.35em; text-transform: uppercase; vertical-align: middle; margin-left: 0.5rem\">GPE</span>\n",
              "</mark>\n",
              " and \n",
              "<mark class=\"entity\" style=\"background: #feca74; padding: 0.45em 0.6em; margin: 0 0.25em; line-height: 1; border-radius: 0.35em; box-decoration-break: clone; -webkit-box-decoration-break: clone\">\n",
              "    India\n",
              "    <span style=\"font-size: 0.8em; font-weight: bold; line-height: 1; border-radius: 0.35em; text-transform: uppercase; vertical-align: middle; margin-left: 0.5rem\">GPE</span>\n",
              "</mark>\n",
              "</div>"
            ],
            "text/plain": [
              "<IPython.core.display.HTML object>"
            ]
          },
          "metadata": {
            "tags": []
          }
        }
      ]
    },
    {
      "cell_type": "code",
      "metadata": {
        "id": "U_hv8JuEIBTR",
        "colab_type": "code",
        "outputId": "76be4397-811b-43b8-820f-9cdd647f6904",
        "colab": {
          "base_uri": "https://localhost:8080/",
          "height": 51
        }
      },
      "source": [
        "doc3 = nlp(\"Firstly, baguette is the best bread in the whole world - bagels came close last year and for ten dollars ciabatta from Italy is available\")\n",
        "displacy.render(doc3,'ent',jupyter=True)"
      ],
      "execution_count": 14,
      "outputs": [
        {
          "output_type": "display_data",
          "data": {
            "text/html": [
              "<div class=\"entities\" style=\"line-height: 2.5; direction: ltr\">\n",
              "<mark class=\"entity\" style=\"background: #e4e7d2; padding: 0.45em 0.6em; margin: 0 0.25em; line-height: 1; border-radius: 0.35em; box-decoration-break: clone; -webkit-box-decoration-break: clone\">\n",
              "    Firstly\n",
              "    <span style=\"font-size: 0.8em; font-weight: bold; line-height: 1; border-radius: 0.35em; text-transform: uppercase; vertical-align: middle; margin-left: 0.5rem\">ORDINAL</span>\n",
              "</mark>\n",
              ", \n",
              "<mark class=\"entity\" style=\"background: #ddd; padding: 0.45em 0.6em; margin: 0 0.25em; line-height: 1; border-radius: 0.35em; box-decoration-break: clone; -webkit-box-decoration-break: clone\">\n",
              "    baguette\n",
              "    <span style=\"font-size: 0.8em; font-weight: bold; line-height: 1; border-radius: 0.35em; text-transform: uppercase; vertical-align: middle; margin-left: 0.5rem\">bread</span>\n",
              "</mark>\n",
              " is the best bread in the whole world - bagels came close \n",
              "<mark class=\"entity\" style=\"background: #e4e7d2; padding: 0.45em 0.6em; margin: 0 0.25em; line-height: 1; border-radius: 0.35em; box-decoration-break: clone; -webkit-box-decoration-break: clone\">\n",
              "    last\n",
              "    <span style=\"font-size: 0.8em; font-weight: bold; line-height: 1; border-radius: 0.35em; text-transform: uppercase; vertical-align: middle; margin-left: 0.5rem\">ORDINAL</span>\n",
              "</mark>\n",
              " year and for \n",
              "<mark class=\"entity\" style=\"background: #e4e7d2; padding: 0.45em 0.6em; margin: 0 0.25em; line-height: 1; border-radius: 0.35em; box-decoration-break: clone; -webkit-box-decoration-break: clone\">\n",
              "    ten\n",
              "    <span style=\"font-size: 0.8em; font-weight: bold; line-height: 1; border-radius: 0.35em; text-transform: uppercase; vertical-align: middle; margin-left: 0.5rem\">CARDINAL</span>\n",
              "</mark>\n",
              " dollars \n",
              "<mark class=\"entity\" style=\"background: #ddd; padding: 0.45em 0.6em; margin: 0 0.25em; line-height: 1; border-radius: 0.35em; box-decoration-break: clone; -webkit-box-decoration-break: clone\">\n",
              "    ciabatta\n",
              "    <span style=\"font-size: 0.8em; font-weight: bold; line-height: 1; border-radius: 0.35em; text-transform: uppercase; vertical-align: middle; margin-left: 0.5rem\">bread</span>\n",
              "</mark>\n",
              " from \n",
              "<mark class=\"entity\" style=\"background: #feca74; padding: 0.45em 0.6em; margin: 0 0.25em; line-height: 1; border-radius: 0.35em; box-decoration-break: clone; -webkit-box-decoration-break: clone\">\n",
              "    Italy\n",
              "    <span style=\"font-size: 0.8em; font-weight: bold; line-height: 1; border-radius: 0.35em; text-transform: uppercase; vertical-align: middle; margin-left: 0.5rem\">GPE</span>\n",
              "</mark>\n",
              " is available</div>"
            ],
            "text/plain": [
              "<IPython.core.display.HTML object>"
            ]
          },
          "metadata": {
            "tags": []
          }
        }
      ]
    },
    {
      "cell_type": "code",
      "metadata": {
        "id": "7fW-mt4d7lFZ",
        "colab_type": "code",
        "outputId": "f41a9915-64f6-4440-decb-64a530163ded",
        "colab": {
          "base_uri": "https://localhost:8080/",
          "height": 51
        }
      },
      "source": [
        "doc4 = nlp(\"Peanut butter ice cream is good this week, but chocolate ice cream is better.\")\n",
        "displacy.render(doc4,'ent',jupyter=True)"
      ],
      "execution_count": 15,
      "outputs": [
        {
          "output_type": "display_data",
          "data": {
            "text/html": [
              "<div class=\"entities\" style=\"line-height: 2.5; direction: ltr\">\n",
              "<mark class=\"entity\" style=\"background: #ddd; padding: 0.45em 0.6em; margin: 0 0.25em; line-height: 1; border-radius: 0.35em; box-decoration-break: clone; -webkit-box-decoration-break: clone\">\n",
              "    Peanut butter\n",
              "    <span style=\"font-size: 0.8em; font-weight: bold; line-height: 1; border-radius: 0.35em; text-transform: uppercase; vertical-align: middle; margin-left: 0.5rem\">dish</span>\n",
              "</mark>\n",
              " \n",
              "<mark class=\"entity\" style=\"background: #ddd; padding: 0.45em 0.6em; margin: 0 0.25em; line-height: 1; border-radius: 0.35em; box-decoration-break: clone; -webkit-box-decoration-break: clone\">\n",
              "    ice cream\n",
              "    <span style=\"font-size: 0.8em; font-weight: bold; line-height: 1; border-radius: 0.35em; text-transform: uppercase; vertical-align: middle; margin-left: 0.5rem\">dish</span>\n",
              "</mark>\n",
              " is good \n",
              "<mark class=\"entity\" style=\"background: #bfe1d9; padding: 0.45em 0.6em; margin: 0 0.25em; line-height: 1; border-radius: 0.35em; box-decoration-break: clone; -webkit-box-decoration-break: clone\">\n",
              "    this week\n",
              "    <span style=\"font-size: 0.8em; font-weight: bold; line-height: 1; border-radius: 0.35em; text-transform: uppercase; vertical-align: middle; margin-left: 0.5rem\">DATE</span>\n",
              "</mark>\n",
              ", but \n",
              "<mark class=\"entity\" style=\"background: #ddd; padding: 0.45em 0.6em; margin: 0 0.25em; line-height: 1; border-radius: 0.35em; box-decoration-break: clone; -webkit-box-decoration-break: clone\">\n",
              "    chocolate ice cream\n",
              "    <span style=\"font-size: 0.8em; font-weight: bold; line-height: 1; border-radius: 0.35em; text-transform: uppercase; vertical-align: middle; margin-left: 0.5rem\">dish</span>\n",
              "</mark>\n",
              " is better.</div>"
            ],
            "text/plain": [
              "<IPython.core.display.HTML object>"
            ]
          },
          "metadata": {
            "tags": []
          }
        }
      ]
    },
    {
      "cell_type": "code",
      "metadata": {
        "id": "GVUQu6Qfmear",
        "colab_type": "code",
        "outputId": "e0146cd2-4324-49b2-e391-2293b7e8db6d",
        "colab": {
          "base_uri": "https://localhost:8080/",
          "height": 51
        }
      },
      "source": [
        "doc5 = nlp(\"basil is a great herb and the first ice cream I tasted was good but shitake mushroom stem at $ 5 is yet to be seen.\")\n",
        "displacy.render(doc5,'ent',jupyter=True)"
      ],
      "execution_count": 16,
      "outputs": [
        {
          "output_type": "display_data",
          "data": {
            "text/html": [
              "<div class=\"entities\" style=\"line-height: 2.5; direction: ltr\">\n",
              "<mark class=\"entity\" style=\"background: #ddd; padding: 0.45em 0.6em; margin: 0 0.25em; line-height: 1; border-radius: 0.35em; box-decoration-break: clone; -webkit-box-decoration-break: clone\">\n",
              "    basil\n",
              "    <span style=\"font-size: 0.8em; font-weight: bold; line-height: 1; border-radius: 0.35em; text-transform: uppercase; vertical-align: middle; margin-left: 0.5rem\">herb</span>\n",
              "</mark>\n",
              " is a great herb and the \n",
              "<mark class=\"entity\" style=\"background: #e4e7d2; padding: 0.45em 0.6em; margin: 0 0.25em; line-height: 1; border-radius: 0.35em; box-decoration-break: clone; -webkit-box-decoration-break: clone\">\n",
              "    first\n",
              "    <span style=\"font-size: 0.8em; font-weight: bold; line-height: 1; border-radius: 0.35em; text-transform: uppercase; vertical-align: middle; margin-left: 0.5rem\">ORDINAL</span>\n",
              "</mark>\n",
              " \n",
              "<mark class=\"entity\" style=\"background: #ddd; padding: 0.45em 0.6em; margin: 0 0.25em; line-height: 1; border-radius: 0.35em; box-decoration-break: clone; -webkit-box-decoration-break: clone\">\n",
              "    ice cream\n",
              "    <span style=\"font-size: 0.8em; font-weight: bold; line-height: 1; border-radius: 0.35em; text-transform: uppercase; vertical-align: middle; margin-left: 0.5rem\">dish</span>\n",
              "</mark>\n",
              " I tasted was good but \n",
              "<mark class=\"entity\" style=\"background: #ddd; padding: 0.45em 0.6em; margin: 0 0.25em; line-height: 1; border-radius: 0.35em; box-decoration-break: clone; -webkit-box-decoration-break: clone\">\n",
              "    shitake\n",
              "    <span style=\"font-size: 0.8em; font-weight: bold; line-height: 1; border-radius: 0.35em; text-transform: uppercase; vertical-align: middle; margin-left: 0.5rem\">vegetable</span>\n",
              "</mark>\n",
              " \n",
              "<mark class=\"entity\" style=\"background: #ddd; padding: 0.45em 0.6em; margin: 0 0.25em; line-height: 1; border-radius: 0.35em; box-decoration-break: clone; -webkit-box-decoration-break: clone\">\n",
              "    mushroom stem\n",
              "    <span style=\"font-size: 0.8em; font-weight: bold; line-height: 1; border-radius: 0.35em; text-transform: uppercase; vertical-align: middle; margin-left: 0.5rem\">vegetable</span>\n",
              "</mark>\n",
              " at $ 5 is yet to be seen.</div>"
            ],
            "text/plain": [
              "<IPython.core.display.HTML object>"
            ]
          },
          "metadata": {
            "tags": []
          }
        }
      ]
    },
    {
      "cell_type": "code",
      "metadata": {
        "id": "Qx41Eqp31oWT",
        "colab_type": "code",
        "outputId": "1e3b9c6b-bda9-4186-c932-950a076a21ec",
        "colab": {
          "base_uri": "https://localhost:8080/",
          "height": 138
        }
      },
      "source": [
        "reviews = pd.read_csv('reviews_text.csv',usecols=['_id', 'text'])\n",
        "reviews.info()"
      ],
      "execution_count": 17,
      "outputs": [
        {
          "output_type": "stream",
          "text": [
            "<class 'pandas.core.frame.DataFrame'>\n",
            "RangeIndex: 56156 entries, 0 to 56155\n",
            "Data columns (total 2 columns):\n",
            "_id     56156 non-null object\n",
            "text    56155 non-null object\n",
            "dtypes: object(2)\n",
            "memory usage: 877.6+ KB\n"
          ],
          "name": "stdout"
        }
      ]
    },
    {
      "cell_type": "code",
      "metadata": {
        "id": "tcPrdbjn2A7X",
        "colab_type": "code",
        "outputId": "07fa058e-04a3-4194-cafe-a42d35fbfc25",
        "colab": {
          "base_uri": "https://localhost:8080/",
          "height": 138
        }
      },
      "source": [
        "reviews.dropna(inplace=True)\n",
        "reviews.info()"
      ],
      "execution_count": 18,
      "outputs": [
        {
          "output_type": "stream",
          "text": [
            "<class 'pandas.core.frame.DataFrame'>\n",
            "Int64Index: 56155 entries, 0 to 56155\n",
            "Data columns (total 2 columns):\n",
            "_id     56155 non-null object\n",
            "text    56155 non-null object\n",
            "dtypes: object(2)\n",
            "memory usage: 1.3+ MB\n"
          ],
          "name": "stdout"
        }
      ]
    },
    {
      "cell_type": "code",
      "metadata": {
        "id": "wSV4paug2LTo",
        "colab_type": "code",
        "outputId": "cdd18cba-61fe-4b7f-b90b-93ccf414fdc6",
        "colab": {
          "base_uri": "https://localhost:8080/",
          "height": 225
        }
      },
      "source": [
        "train_reviews = reviews['text'][400:2000]\n",
        "train_reviews"
      ],
      "execution_count": 146,
      "outputs": [
        {
          "output_type": "execute_result",
          "data": {
            "text/plain": [
              "400     This was a 16 inch pizza with no egg used in i...\n",
              "401     Really unimpressive main dish which was practi...\n",
              "402     Sometimes you just want to have an amazing bow...\n",
              "403     Couscous' wraps are big! The ingredients barel...\n",
              "404     Flavourful ! Lots of other good food options a...\n",
              "                              ...                        \n",
              "1995    Part of an all-you-can-eat vegan lunch set. Al...\n",
              "1996    Part of an all-you-can-eat vegan lunch set. Th...\n",
              "1997    Egg white omelette with asparagus, feta, sauté...\n",
              "1998    This dish of stuffed tomatoes and green pepper...\n",
              "1999    Yummy warm dessert with crumbled hazelnuts and...\n",
              "Name: text, Length: 1600, dtype: object"
            ]
          },
          "metadata": {
            "tags": []
          },
          "execution_count": 146
        }
      ]
    },
    {
      "cell_type": "code",
      "metadata": {
        "id": "txc5n_63WRy0",
        "colab_type": "code",
        "colab": {}
      },
      "source": [
        ""
      ],
      "execution_count": 0,
      "outputs": []
    },
    {
      "cell_type": "code",
      "metadata": {
        "id": "zDxp93oFXuZP",
        "colab_type": "code",
        "colab": {}
      },
      "source": [
        "ingredients_list = ['pistachio', 'almond', 'walnut', 'cashew', 'peanuts', 'macadamia', 'hazelnuts', 'pecan', 'brazil nut', 'pine nut' ]\n",
        "issues_list = ['crumble - maybe a verb', 'milk']\n",
        "food_times = \n",
        "to_be_added_list = ['spirulina', 'herbs', 'micro-greens', 'greens','spinach','eggs', 'nut butters', 'cream cheese', 'cake', 'pepper', 'zucchini', 'aubergines',  'tomato',\\\n",
        "                    'oysters', 'kale', 'cucumber', 'quinoa', 'tomatoes', 'onion' ,'garlic', 'avocado', 'chilli', 'dark chocolate', 'mushrooms', 'coriander' ,'corn chips',\\\n",
        "                    'marinara', 'donuts', 'olives', 'crackers', 'waffles', 'strawberry', 'blueberry', 'raspberry', 'compote', 'mayo', 'mayonnaise', 'soy milk', 'oat milk', \\\n",
        "                    'coconut milk', 'almond milk', 'caffeine', 'milk tea', 'cauliflower', 'matcha', 'sorbet', 'banana', 'goji berry', 'chickpea', 'spinach', 'romaine',\\\n",
        "                    'arugula', 'cacao', 'Portobello', 'pear', 'plant milk', 'BBQ sauce', 'artichoke', 'mango', 'sandwich', 'capsicum', 'wedge', 'kang kong', 'seitan',\\\n",
        "                    'ciabatta', 'focaccia', 'bean sprouts', 'olive oil']"
      ],
      "execution_count": 0,
      "outputs": []
    },
    {
      "cell_type": "code",
      "metadata": {
        "id": "ZC0Hqtpt2U9l",
        "colab_type": "code",
        "outputId": "1e3d7170-ecf7-45fe-f63f-cdaf092ec353",
        "colab": {
          "base_uri": "https://localhost:8080/",
          "height": 208
        }
      },
      "source": [
        "check = np.random.randint(0,50000,3)\n",
        "print(check)\n",
        "\n",
        "for doc in list(nlp.pipe(texts[check])):\n",
        "  displacy.render(doc,'ent',jupyter=True)\n",
        "#  displacy.render(doc,'dep',jupyter=True,options={'distance': 60, 'fine_grained': True})\n",
        "\n"
      ],
      "execution_count": 0,
      "outputs": [
        {
          "output_type": "stream",
          "text": [
            "[49671 32259 46827]\n"
          ],
          "name": "stdout"
        },
        {
          "output_type": "display_data",
          "data": {
            "text/html": [
              "<div class=\"entities\" style=\"line-height: 2.5; direction: ltr\">By far my favorite vegan laksa! Gravy is very thick and flavorful. I\n",
              "<mark class=\"entity\" style=\"background: #7aecec; padding: 0.45em 0.6em; margin: 0 0.25em; line-height: 1; border-radius: 0.35em; box-decoration-break: clone; -webkit-box-decoration-break: clone\">\n",
              "    ’m\n",
              "    <span style=\"font-size: 0.8em; font-weight: bold; line-height: 1; border-radius: 0.35em; text-transform: uppercase; vertical-align: middle; margin-left: 0.5rem\">ORG</span>\n",
              "</mark>\n",
              " not a big fan of mock-meat so I’d usually request for no mock-meat (‘fishballs’ and ‘prawns’) but more tau pok and tau gey. It can be a little too spicy sometimes though. My other favourites at \n",
              "<mark class=\"entity\" style=\"background: #7aecec; padding: 0.45em 0.6em; margin: 0 0.25em; line-height: 1; border-radius: 0.35em; box-decoration-break: clone; -webkit-box-decoration-break: clone\">\n",
              "    Greendot\n",
              "    <span style=\"font-size: 0.8em; font-weight: bold; line-height: 1; border-radius: 0.35em; text-transform: uppercase; vertical-align: middle; margin-left: 0.5rem\">ORG</span>\n",
              "</mark>\n",
              " used to be their \n",
              "<mark class=\"entity\" style=\"background: #7aecec; padding: 0.45em 0.6em; margin: 0 0.25em; line-height: 1; border-radius: 0.35em; box-decoration-break: clone; -webkit-box-decoration-break: clone\">\n",
              "    Herbal Soup\n",
              "    <span style=\"font-size: 0.8em; font-weight: bold; line-height: 1; border-radius: 0.35em; text-transform: uppercase; vertical-align: middle; margin-left: 0.5rem\">ORG</span>\n",
              "</mark>\n",
              " and \n",
              "<mark class=\"entity\" style=\"background: #7aecec; padding: 0.45em 0.6em; margin: 0 0.25em; line-height: 1; border-radius: 0.35em; box-decoration-break: clone; -webkit-box-decoration-break: clone\">\n",
              "    Lion\n",
              "    <span style=\"font-size: 0.8em; font-weight: bold; line-height: 1; border-radius: 0.35em; text-transform: uppercase; vertical-align: middle; margin-left: 0.5rem\">ORG</span>\n",
              "</mark>\n",
              "’s Mane Rendung until I stopped consuming eggs and dairy \n",
              "<mark class=\"entity\" style=\"background: #bfe1d9; padding: 0.45em 0.6em; margin: 0 0.25em; line-height: 1; border-radius: 0.35em; box-decoration-break: clone; -webkit-box-decoration-break: clone\">\n",
              "    a year ago\n",
              "    <span style=\"font-size: 0.8em; font-weight: bold; line-height: 1; border-radius: 0.35em; text-transform: uppercase; vertical-align: middle; margin-left: 0.5rem\">DATE</span>\n",
              "</mark>\n",
              ". Really hope they would consider offering vegan options for these \n",
              "<mark class=\"entity\" style=\"background: #e4e7d2; padding: 0.45em 0.6em; margin: 0 0.25em; line-height: 1; border-radius: 0.35em; box-decoration-break: clone; -webkit-box-decoration-break: clone\">\n",
              "    two\n",
              "    <span style=\"font-size: 0.8em; font-weight: bold; line-height: 1; border-radius: 0.35em; text-transform: uppercase; vertical-align: middle; margin-left: 0.5rem\">CARDINAL</span>\n",
              "</mark>\n",
              " dishes.</div>"
            ],
            "text/plain": [
              "<IPython.core.display.HTML object>"
            ]
          },
          "metadata": {
            "tags": []
          }
        },
        {
          "output_type": "display_data",
          "data": {
            "text/html": [
              "<div class=\"entities\" style=\"line-height: 2.5; direction: ltr\">This dish consists of scrambled tofu, \n",
              "<mark class=\"entity\" style=\"background: #c887fb; padding: 0.45em 0.6em; margin: 0 0.25em; line-height: 1; border-radius: 0.35em; box-decoration-break: clone; -webkit-box-decoration-break: clone\">\n",
              "    Turkish\n",
              "    <span style=\"font-size: 0.8em; font-weight: bold; line-height: 1; border-radius: 0.35em; text-transform: uppercase; vertical-align: middle; margin-left: 0.5rem\">NORP</span>\n",
              "</mark>\n",
              " toast, roast tomato, pumpkin, hash brown, and baby spinach. Very delicious</div>"
            ],
            "text/plain": [
              "<IPython.core.display.HTML object>"
            ]
          },
          "metadata": {
            "tags": []
          }
        },
        {
          "output_type": "display_data",
          "data": {
            "text/html": [
              "<div class=\"entities\" style=\"line-height: 2.5; direction: ltr\">These were yum chips and so was the cheese, the gravy was good too though more just at the bottom of the bowl</div>"
            ],
            "text/plain": [
              "<IPython.core.display.HTML object>"
            ]
          },
          "metadata": {
            "tags": []
          }
        }
      ]
    },
    {
      "cell_type": "code",
      "metadata": {
        "id": "LqwDWA5YpI7p",
        "colab_type": "code",
        "colab": {}
      },
      "source": [
        "\n",
        "\n"
      ],
      "execution_count": 0,
      "outputs": []
    },
    {
      "cell_type": "code",
      "metadata": {
        "id": "gBvNJGRzPv-y",
        "colab_type": "code",
        "colab": {}
      },
      "source": [
        "f = open('rice.txt')\n",
        "docs = [] # initialize a list to be populated wih strings\n",
        "lines = f.readlines()  # returns a list of srings from the txt file\n",
        "for line in lines:\n",
        "    # print(line[:]) # display the sentence from that line\n",
        "    doc = nlp(line) # convert string into a spacy doc object using nlp\n",
        "    docs.append(doc) # add new doc to the list of docs\n",
        "\n",
        "json_data = docs_to_json(docs) # convert doc into a json file\n",
        "srsly.write_json('spacy_train.json', [json_data])\n"
      ],
      "execution_count": 0,
      "outputs": []
    },
    {
      "cell_type": "code",
      "metadata": {
        "id": "Wnaf1x9tTT8A",
        "colab_type": "code",
        "colab": {}
      },
      "source": [
        "f.close()"
      ],
      "execution_count": 0,
      "outputs": []
    },
    {
      "cell_type": "code",
      "metadata": {
        "id": "F3jdqEADX27z",
        "colab_type": "code",
        "colab": {}
      },
      "source": [
        "check_list = [('bok','U_vegetable'),('choy','U_vegetable'),\\\n",
        "              ('bean','U_vegetable'), ('sprouts','U_vegetable'),\\\n",
        "              ('soffritto','U_dish'),('patties','U_dish'),('cakes','U_dish'),('parmesan','U_dish'),('cheese','U_dish'),('breadcrumbs','U_dish'),\\\n",
        "              ('soy','U_condiment'),('sauce','U_condiment'),\\\n",
        "              ('olive','U_condiment'),('oil','U_condiment'),\\\n",
        "              ('wine','U_beverage'),\\\n",
        "              ('3/4-inch','U_QUANTITY'), ('2-inch','U_QUANTITY'),('3-inch','U_QUANTITY'),('6-inch','U_QUANTITY'),\\\n",
        "              ('first','U_ORDINAL'),('second','U_ORDINAL'),('third','U_ORDINAL'),('fourth','U_ORDINAL'),('fifth','U_ORDINAL'),('last','U_ORDINAL'),\\\n",
        "              ('1','U_CARDINAL'),('2','U_CARDINAL'),('3','U_CARDINAL'),('4','U_CARDINAL'),('5','U_CARDINAL'),('6','U_CARDINAL'),('10','U_CARDINAL'),\\\n",
        "              ('100','U_CARDINAL'),('one','U_CARDINAL'),('two','U_CARDINAL'),('three','U_CARDINAL'),('four','U_CARDINAL'),('five','U_CARDINAL'),('six','U_CARDINAL'),\\\n",
        "              ('seven','U_CARDINAL'),('eight','U_CARDINAL'),('nine','U_CARDINAL'),('ten','U_CARDINAL'),\\\n",
        "              ('minute','U_TIME'),('minutes','U_TIME'),('seconds','U_TIME'),('hour','U_TIME'),('hours','U_TIME'),('day','U_TIME'),\\\n",
        "              ('$', 'U_MONEY'), ('USD', 'U_MONEY'),('SGD', 'U_MONEY'),('S$', 'U_MONEY'), ('Rs', 'U_MONEY'), ('£', 'U_MONEY'), ('€', 'U_MONEY')]"
      ],
      "execution_count": 0,
      "outputs": []
    },
    {
      "cell_type": "code",
      "metadata": {
        "id": "pISRogIO2HR0",
        "colab_type": "code",
        "colab": {}
      },
      "source": [
        "f = open('rice.txt')\n",
        "docs = [] # initialize a list to be populated wih strings\n",
        "lines = f.readlines()  # returns a list of srings from the txt file\n",
        "for line in lines:\n",
        "    # print(line[:]) # display the sentence from that line\n",
        "    doc = nlp(line) # convert string into a spacy doc object using nlp\n",
        "    docs.append(doc) # add new doc to the list of docs\n",
        "f.close()\n",
        "\n"
      ],
      "execution_count": 0,
      "outputs": []
    },
    {
      "cell_type": "code",
      "metadata": {
        "id": "qGKRsVKF2zQn",
        "colab_type": "code",
        "colab": {}
      },
      "source": [
        "train_gen = (line for line in open('rice.txt'))\n",
        "type(train_gen)\n",
        "to_train_ents = []"
      ],
      "execution_count": 0,
      "outputs": []
    },
    {
      "cell_type": "code",
      "metadata": {
        "id": "Kh9yi7fK23NW",
        "colab_type": "code",
        "outputId": "fa6d40aa-a678-4b08-9f45-ec155f74be43",
        "colab": {
          "base_uri": "https://localhost:8080/",
          "height": 86
        }
      },
      "source": [
        "l = next(train_gen)\n",
        "tok_list = [token.text for token in nlp(l)] \n",
        "#print(l, tok_list)\n",
        "tag_list = ['O' for token in nlp(l)]\n",
        "#print(tag_list)\n",
        "matched_ents = [(i,item) for i, item in enumerate(tok_list) if item.lower() in [i[0] for i in ent_list + check_list]] \n",
        "#print(matched_ents)\n",
        "\n",
        "for ent in matched_ents:\n",
        "  ent_tag = ''.join(list(set([tup[1] for tup in ent_list + check_list if tup[0] == ent[1].lower()])))\n",
        "  print(ent[0], ent[1], ent_tag)\n",
        "  tag_list[ent[0]] = ent_tag\n",
        "\n",
        "#print(tag_list)\n",
        "entities = offsets_from_biluo_tags(nlp(l), tag_list)\n",
        "print(entities)\n",
        "to_train_ents.append((l, dict(entities = entities)))\n",
        "displacy.render(nlp(l),'ent',jupyter=True)\n",
        "print(l, entities)\n",
        "\n",
        "#displacy.render(l,'dep',jupyter=True)"
      ],
      "execution_count": 0,
      "outputs": [
        {
          "output_type": "stream",
          "text": [
            "[]\n"
          ],
          "name": "stdout"
        },
        {
          "output_type": "display_data",
          "data": {
            "text/html": [
              "<div class=\"entities\" style=\"line-height: 2.5; direction: ltr\">Leave alone for \n",
              "<mark class=\"entity\" style=\"background: #bfe1d9; padding: 0.45em 0.6em; margin: 0 0.25em; line-height: 1; border-radius: 0.35em; box-decoration-break: clone; -webkit-box-decoration-break: clone\">\n",
              "    five to seven minutes\n",
              "    <span style=\"font-size: 0.8em; font-weight: bold; line-height: 1; border-radius: 0.35em; text-transform: uppercase; vertical-align: middle; margin-left: 0.5rem\">TIME</span>\n",
              "</mark>\n",
              ", then serve.</div>"
            ],
            "text/plain": [
              "<IPython.core.display.HTML object>"
            ]
          },
          "metadata": {
            "tags": []
          }
        },
        {
          "output_type": "stream",
          "text": [
            "Leave alone for five to seven minutes, then serve. []\n"
          ],
          "name": "stdout"
        }
      ]
    },
    {
      "cell_type": "code",
      "metadata": {
        "id": "X6_NRnDC4GbQ",
        "colab_type": "code",
        "outputId": "54b025a4-aac2-4e92-f194-319e3189e9b7",
        "colab": {
          "base_uri": "https://localhost:8080/",
          "height": 34
        }
      },
      "source": [
        "len(to_train_ents)\n",
        "#to_train_ents[-5:]"
      ],
      "execution_count": 147,
      "outputs": [
        {
          "output_type": "execute_result",
          "data": {
            "text/plain": [
              "102"
            ]
          },
          "metadata": {
            "tags": []
          },
          "execution_count": 147
        }
      ]
    },
    {
      "cell_type": "code",
      "metadata": {
        "id": "YaVAV5J_IzFI",
        "colab_type": "code",
        "outputId": "8b2e2411-2c2b-4641-ee1d-f7b402487584",
        "colab": {
          "base_uri": "https://localhost:8080/",
          "height": 263
        }
      },
      "source": [
        "to_train_ents[0:5]"
      ],
      "execution_count": 0,
      "outputs": [
        {
          "output_type": "execute_result",
          "data": {
            "text/plain": [
              "[('If using tofu, cook it.\\n', {'entities': [(9, 13, 'dish')]}),\n",
              " ('Cook the rice as you normally would, but be careful not to use too much water. The rice should not be too sticky. It may help to let the cooked rice sit overnight in the refrigerator.\\n',\n",
              "  {'entities': [(9, 13, 'dish'), (83, 87, 'dish'), (137, 148, 'dish')]}),\n",
              " ('If using onions, dice them into whatever size you prefer.\\n',\n",
              "  {'entities': [(9, 15, 'vegetable')]}),\n",
              " ('If using bok choy, separate the stalk part from the leaf part. Slice the leaf part crosswise into 3/4-inch-thick strips, then tear the strips into 2-inch pieces. These pieces will be treated much like the bean sprouts, though perhaps with slightly more cooking. The stalk part will be treated as celery.\\n',\n",
              "  {'entities': [(9, 17, 'vegetable'),\n",
              "    (98, 106, 'QUANTITY'),\n",
              "    (147, 153, 'QUANTITY'),\n",
              "    (205, 217, 'vegetable'),\n",
              "    (296, 302, 'vegetable')]}),\n",
              " ('If using bean sprouts, wash them and discard any that are not white and crunchy.\\n',\n",
              "  {'entities': [(9, 21, 'vegetable')]})]"
            ]
          },
          "metadata": {
            "tags": []
          },
          "execution_count": 58
        }
      ]
    },
    {
      "cell_type": "code",
      "metadata": {
        "id": "RLCw-6ZWMR71",
        "colab_type": "code",
        "colab": {}
      },
      "source": [
        ""
      ],
      "execution_count": 0,
      "outputs": []
    },
    {
      "cell_type": "code",
      "metadata": {
        "id": "seBlcyjWiffa",
        "colab_type": "code",
        "colab": {}
      },
      "source": [
        "\n",
        "merged = list(itertools.chain(*[tup[1]['entities'] for tup in to_train_ents]))"
      ],
      "execution_count": 0,
      "outputs": []
    },
    {
      "cell_type": "code",
      "metadata": {
        "id": "HB1G5tIvihWs",
        "colab_type": "code",
        "outputId": "542d64fb-1821-415d-ce52-e2b725a05f8e",
        "colab": {
          "base_uri": "https://localhost:8080/",
          "height": 34
        }
      },
      "source": [
        "model = 'en_core_web_lg'\n",
        "\n",
        "\n",
        "\n",
        "\"\"\"Load the model, set up the pipeline and train the entity recognizer.\"\"\"\n",
        "if model is not None:\n",
        "    nlp = spacy.load(model)  # load existing spaCy model\n",
        "    print(\"Loaded model '%s'\" % model)\n",
        "else:\n",
        "    nlp = spacy.blank(\"en\")  # create blank Language class\n",
        "    print(\"Created blank 'en' model\")\n",
        "\n",
        "# nlp.create_pipe works for built-ins that are registered with spaCy\n",
        "if \"ner\" not in nlp.pipe_names:\n",
        "    ner = nlp.create_pipe(\"ner\")\n",
        "    nlp.add_pipe(ner, last=True)\n",
        "# otherwise, get it so we can add labels\n",
        "else:\n",
        "    ner = nlp.get_pipe(\"ner\")\n",
        "\n",
        "# add labels\n",
        "for _, annotations in to_train_ents:\n",
        "    for ent in annotations.get(\"entities\"):\n",
        "        ner.add_label(ent[2])"
      ],
      "execution_count": 0,
      "outputs": [
        {
          "output_type": "stream",
          "text": [
            "Loaded model 'en_core_web_lg'\n"
          ],
          "name": "stdout"
        }
      ]
    },
    {
      "cell_type": "code",
      "metadata": {
        "id": "_TQqvRheMWzm",
        "colab_type": "code",
        "outputId": "94eee4f8-cf0a-4f9e-8484-adae51fbc0bc",
        "colab": {
          "base_uri": "https://localhost:8080/",
          "height": 434
        }
      },
      "source": [
        "ner.labels"
      ],
      "execution_count": 0,
      "outputs": [
        {
          "output_type": "execute_result",
          "data": {
            "text/plain": [
              "('dish',\n",
              " 'ORG',\n",
              " 'condiment',\n",
              " 'FAC',\n",
              " 'vegetable',\n",
              " 'ORDINAL',\n",
              " 'PERSON',\n",
              " 'PRODUCT',\n",
              " 'LOC',\n",
              " 'spice',\n",
              " 'CARDINAL',\n",
              " 'LANGUAGE',\n",
              " 'TIME',\n",
              " 'WORK_OF_ART',\n",
              " 'GPE',\n",
              " 'DATE',\n",
              " 'LAW',\n",
              " 'NORP',\n",
              " 'beverage',\n",
              " 'MONEY',\n",
              " 'EVENT',\n",
              " 'herb',\n",
              " 'PERCENT',\n",
              " 'QUANTITY')"
            ]
          },
          "metadata": {
            "tags": []
          },
          "execution_count": 62
        }
      ]
    },
    {
      "cell_type": "code",
      "metadata": {
        "id": "SYlPQ58WW5F9",
        "colab_type": "code",
        "colab": {}
      },
      "source": [
        "from spacy.gold import GoldParse"
      ],
      "execution_count": 0,
      "outputs": []
    },
    {
      "cell_type": "code",
      "metadata": {
        "id": "Z5zBtvk6wRIl",
        "colab_type": "code",
        "outputId": "17bc3656-274b-400e-a44a-c804211c3eea",
        "colab": {
          "base_uri": "https://localhost:8080/",
          "height": 887
        }
      },
      "source": [
        "# get names of other pipes to disable them during training\n",
        "other_pipes = [pipe for pipe in nlp.pipe_names if pipe not in [\"ner\", \"entity_ruler\",\"merge_entities\"]]\n",
        "with nlp.disable_pipes(*other_pipes):  # only train NER\n",
        "    # reset and initialize the weights randomly – but only if we're\n",
        "    # training a new model\n",
        "    if model is None:\n",
        "        nlp.begin_training()\n",
        "\n",
        "\n",
        "\n",
        "    for itn in range(5):\n",
        "      random.shuffle(clean_train_ents)\n",
        "      losses = {}\n",
        "\n",
        "#      for item in clean_train_ents:\n",
        "# batch up the examples using spaCy's minibatch\n",
        "      batches = minibatch(clean_train_ents, size=compounding(4.0, 32.0, 1.001))\n",
        "\n",
        "      for batch in batches:\n",
        "        texts, annotations = zip(*batch)\n",
        "#        print([item[0]], [item[1]])\n",
        "\n",
        "#        print(texts)\n",
        "#        print(annotations)\n",
        "        nlp.update(texts, annotations, drop=0.5, losses=losses)\n",
        "        print(losses)"
      ],
      "execution_count": 0,
      "outputs": [
        {
          "output_type": "stream",
          "text": [
            "{'ner': 68.43624067306519}\n",
            "{'ner': 184.61740112304688}\n",
            "{'ner': 258.61230278015137}\n",
            "{'ner': 335.3837299346924}\n",
            "{'ner': 397.74806785583496}\n",
            "{'ner': 496.07928681373596}\n",
            "{'ner': 604.3904078006744}\n",
            "{'ner': 697.9849517345428}\n",
            "{'ner': 898.3083918094635}\n",
            "{'ner': 913.0961752086878}\n",
            "{'ner': 77.2951397895813}\n",
            "{'ner': 199.11220693588257}\n",
            "{'ner': 272.8479437828064}\n",
            "{'ner': 399.1770589351654}\n",
            "{'ner': 510.91890597343445}\n",
            "{'ner': 571.7339107990265}\n",
            "{'ner': 673.7506942749023}\n",
            "{'ner': 836.8600540161133}\n",
            "{'ner': 893.0359942913055}\n",
            "{'ner': 904.4475624634651}\n",
            "{'ner': 76.6790599822998}\n",
            "{'ner': 248.98345279693604}\n",
            "{'ner': 359.4646096229553}\n",
            "{'ner': 447.50255060195923}\n",
            "{'ner': 550.7681419849396}\n",
            "{'ner': 665.9656307697296}\n",
            "{'ner': 718.2194759845734}\n",
            "{'ner': 780.4857132434845}\n",
            "{'ner': 906.0226509571075}\n",
            "{'ner': 942.5896518924274}\n",
            "{'ner': 68.84220838546753}\n",
            "{'ner': 148.96541571617126}\n",
            "{'ner': 251.8399977684021}\n",
            "{'ner': 350.8443260192871}\n",
            "{'ner': 446.8515214920044}\n",
            "{'ner': 509.65203619003296}\n",
            "{'ner': 614.8967356681824}\n",
            "{'ner': 704.9221341609955}\n",
            "{'ner': 897.5528650283813}\n",
            "{'ner': 906.3885138100595}\n",
            "{'ner': 99.11557960510254}\n",
            "{'ner': 184.80943131446838}\n",
            "{'ner': 270.3797879219055}\n",
            "{'ner': 460.4393210411072}\n",
            "{'ner': 544.440104007721}\n",
            "{'ner': 622.5587096214294}\n",
            "{'ner': 748.2091861963272}\n",
            "{'ner': 817.0167857408524}\n",
            "{'ner': 893.5588480234146}\n",
            "{'ner': 914.5160444909707}\n"
          ],
          "name": "stdout"
        }
      ]
    },
    {
      "cell_type": "code",
      "metadata": {
        "id": "o71FuR23SmbQ",
        "colab_type": "code",
        "colab": {}
      },
      "source": [
        "check_list = []\n",
        "to_train_ents = []"
      ],
      "execution_count": 0,
      "outputs": []
    },
    {
      "cell_type": "code",
      "metadata": {
        "id": "_b90bE1v5_bf",
        "colab_type": "code",
        "outputId": "dcb8ece3-8f8a-4ac8-955c-8ded641d7e2d",
        "colab": {
          "base_uri": "https://localhost:8080/",
          "height": 34
        }
      },
      "source": [
        "train_rev = (rev for rev in train_reviews)\n",
        "type(train_rev)"
      ],
      "execution_count": 21,
      "outputs": [
        {
          "output_type": "execute_result",
          "data": {
            "text/plain": [
              "generator"
            ]
          },
          "metadata": {
            "tags": []
          },
          "execution_count": 21
        }
      ]
    },
    {
      "cell_type": "code",
      "metadata": {
        "id": "HMCEVq3G5pG9",
        "colab_type": "code",
        "colab": {}
      },
      "source": [
        ""
      ],
      "execution_count": 0,
      "outputs": []
    },
    {
      "cell_type": "code",
      "metadata": {
        "id": "RzZ0t4hS6L1a",
        "colab_type": "code",
        "outputId": "23182eb4-3928-4808-e63b-304c0432da78",
        "colab": {
          "base_uri": "https://localhost:8080/",
          "height": 506
        }
      },
      "source": [
        "rev = next(train_rev)\n",
        "tok_list = [token.text for token in nlp(rev)] \n",
        "tag_list = ['O' for token in nlp(rev)]\n",
        "matched_ents = [(i,item) for i, item in enumerate(tok_list) if item.lower() in [i[0] for i in ent_list + check_list]] \n",
        "#print(rev, tok_list, tag_list, matched_ents)\n",
        "\n",
        "ent_for_doc = []\n",
        "pattern_dict = {}\n",
        "for ent in matched_ents:\n",
        "  ent_tag = ''.join(list(set([tup[1] for tup in ent_list + check_list if tup[0] == ent[1].lower()])))\n",
        "  ent_for_doc.append((ent[0], ent[1], ent_tag))  \n",
        "  tag_list[ent[0]] = ent_tag\n",
        "print(ent_for_doc)\n",
        "#print(tag_list)\n",
        "entities = offsets_from_biluo_tags(nlp(rev), tag_list)\n",
        "print(entities)\n",
        "to_train_ents.append((rev, dict(entities = entities)))\n",
        "displacy.render(nlp(rev),'ent',jupyter=True)\n",
        "\n",
        "\n",
        "n_entities_to_be_added = int(input(\"How many entities are missing: \"))\n",
        "if n_entities_to_be_added == 0:\n",
        "  print('You entered {} Thanks. So no new entities to be considered'.format(n_entities_to_be_added))\n",
        "else:\n",
        "  for user_input in range(n_entities_to_be_added):\n",
        "    e_name = input('Provide the name of the entity to be added: ')\n",
        "    e_label = input('Provide the label of the entity to be added:')\n",
        "    print(e_name, e_label)\n",
        "    check_list.append((e_name, e_label))\n",
        "    pattern_list = []\n",
        "\n",
        "    pattern_dict = create_entity_pattern(e_name, e_label)\n",
        "    dump_jsonl([pattern_dict],'patterns.jsonl', append=True)\n",
        "    ruler = EntityRuler(nlp).from_disk(\"patterns.jsonl\")"
      ],
      "execution_count": 261,
      "outputs": [
        {
          "output_type": "stream",
          "text": [
            "[(4, 'burger', 'U_dish'), (16, 'burger', 'U_dish'), (29, 'burgers', 'U_dish'), (32, 'beef', 'U_dish'), (34, 'chicken', 'U_dish'), (36, 'bacon', 'U_dish'), (39, 'vegetarian', 'U_lifestyle'), (40, 'burger', 'U_dish'), (43, 'vegetarian', 'U_lifestyle'), (44, 'burger', 'U_dish'), (49, 'patty', 'U_dish'), (58, 'guacamole', 'U_dish'), (63, 'cheese', 'U_dish'), (67, 'vegan', 'U_lifestyle'), (78, 'burger', 'U_dish'), (81, 'guacamole', 'U_dish'), (87, 'burger', 'U_dish'), (92, 'salad', 'U_dish'), (97, 'potato', 'U_vegetable'), (100, 'onion', 'U_vegetable')]\n",
            "[(22, 28, 'dish'), (80, 86, 'dish'), (144, 151, 'dish'), (165, 169, 'dish'), (171, 178, 'dish'), (180, 185, 'dish'), (192, 202, 'lifestyle'), (203, 209, 'dish'), (215, 225, 'lifestyle'), (226, 232, 'dish'), (251, 256, 'dish'), (299, 308, 'dish'), (327, 333, 'dish'), (339, 344, 'lifestyle'), (381, 387, 'dish'), (398, 407, 'dish'), (429, 435, 'dish'), (452, 457, 'dish'), (479, 485, 'vegetable'), (497, 502, 'vegetable')]\n"
          ],
          "name": "stdout"
        },
        {
          "output_type": "display_data",
          "data": {
            "text/html": [
              "<div class=\"entities\" style=\"line-height: 2.5; direction: ltr\">Husband craving for a \n",
              "<mark class=\"entity\" style=\"background: #ddd; padding: 0.45em 0.6em; margin: 0 0.25em; line-height: 1; border-radius: 0.35em; box-decoration-break: clone; -webkit-box-decoration-break: clone\">\n",
              "    burger\n",
              "    <span style=\"font-size: 0.8em; font-weight: bold; line-height: 1; border-radius: 0.35em; text-transform: uppercase; vertical-align: middle; margin-left: 0.5rem\">dish</span>\n",
              "</mark>\n",
              " after a big ski morning and we came to this little \n",
              "<mark class=\"entity\" style=\"background: #ddd; padding: 0.45em 0.6em; margin: 0 0.25em; line-height: 1; border-radius: 0.35em; box-decoration-break: clone; -webkit-box-decoration-break: clone\">\n",
              "    burger\n",
              "    <span style=\"font-size: 0.8em; font-weight: bold; line-height: 1; border-radius: 0.35em; text-transform: uppercase; vertical-align: middle; margin-left: 0.5rem\">dish</span>\n",
              "</mark>\n",
              " shop in \n",
              "<mark class=\"entity\" style=\"background: #feca74; padding: 0.45em 0.6em; margin: 0 0.25em; line-height: 1; border-radius: 0.35em; box-decoration-break: clone; -webkit-box-decoration-break: clone\">\n",
              "    Kutchan Town\n",
              "    <span style=\"font-size: 0.8em; font-weight: bold; line-height: 1; border-radius: 0.35em; text-transform: uppercase; vertical-align: middle; margin-left: 0.5rem\">GPE</span>\n",
              "</mark>\n",
              " in \n",
              "<mark class=\"entity\" style=\"background: #feca74; padding: 0.45em 0.6em; margin: 0 0.25em; line-height: 1; border-radius: 0.35em; box-decoration-break: clone; -webkit-box-decoration-break: clone\">\n",
              "    Niseko\n",
              "    <span style=\"font-size: 0.8em; font-weight: bold; line-height: 1; border-radius: 0.35em; text-transform: uppercase; vertical-align: middle; margin-left: 0.5rem\">GPE</span>\n",
              "</mark>\n",
              ". They have a full menu of \n",
              "<mark class=\"entity\" style=\"background: #ddd; padding: 0.45em 0.6em; margin: 0 0.25em; line-height: 1; border-radius: 0.35em; box-decoration-break: clone; -webkit-box-decoration-break: clone\">\n",
              "    burgers\n",
              "    <span style=\"font-size: 0.8em; font-weight: bold; line-height: 1; border-radius: 0.35em; text-transform: uppercase; vertical-align: middle; margin-left: 0.5rem\">dish</span>\n",
              "</mark>\n",
              " from classic \n",
              "<mark class=\"entity\" style=\"background: #ddd; padding: 0.45em 0.6em; margin: 0 0.25em; line-height: 1; border-radius: 0.35em; box-decoration-break: clone; -webkit-box-decoration-break: clone\">\n",
              "    beef\n",
              "    <span style=\"font-size: 0.8em; font-weight: bold; line-height: 1; border-radius: 0.35em; text-transform: uppercase; vertical-align: middle; margin-left: 0.5rem\">dish</span>\n",
              "</mark>\n",
              ", \n",
              "<mark class=\"entity\" style=\"background: #ddd; padding: 0.45em 0.6em; margin: 0 0.25em; line-height: 1; border-radius: 0.35em; box-decoration-break: clone; -webkit-box-decoration-break: clone\">\n",
              "    chicken\n",
              "    <span style=\"font-size: 0.8em; font-weight: bold; line-height: 1; border-radius: 0.35em; text-transform: uppercase; vertical-align: middle; margin-left: 0.5rem\">dish</span>\n",
              "</mark>\n",
              ", \n",
              "<mark class=\"entity\" style=\"background: #ddd; padding: 0.45em 0.6em; margin: 0 0.25em; line-height: 1; border-radius: 0.35em; box-decoration-break: clone; -webkit-box-decoration-break: clone\">\n",
              "    bacon\n",
              "    <span style=\"font-size: 0.8em; font-weight: bold; line-height: 1; border-radius: 0.35em; text-transform: uppercase; vertical-align: middle; margin-left: 0.5rem\">dish</span>\n",
              "</mark>\n",
              " and a \n",
              "<mark class=\"entity\" style=\"background: #ddd; padding: 0.45em 0.6em; margin: 0 0.25em; line-height: 1; border-radius: 0.35em; box-decoration-break: clone; -webkit-box-decoration-break: clone\">\n",
              "    vegetarian\n",
              "    <span style=\"font-size: 0.8em; font-weight: bold; line-height: 1; border-radius: 0.35em; text-transform: uppercase; vertical-align: middle; margin-left: 0.5rem\">lifestyle</span>\n",
              "</mark>\n",
              " \n",
              "<mark class=\"entity\" style=\"background: #ddd; padding: 0.45em 0.6em; margin: 0 0.25em; line-height: 1; border-radius: 0.35em; box-decoration-break: clone; -webkit-box-decoration-break: clone\">\n",
              "    burger\n",
              "    <span style=\"font-size: 0.8em; font-weight: bold; line-height: 1; border-radius: 0.35em; text-transform: uppercase; vertical-align: middle; margin-left: 0.5rem\">dish</span>\n",
              "</mark>\n",
              ". The \n",
              "<mark class=\"entity\" style=\"background: #ddd; padding: 0.45em 0.6em; margin: 0 0.25em; line-height: 1; border-radius: 0.35em; box-decoration-break: clone; -webkit-box-decoration-break: clone\">\n",
              "    vegetarian\n",
              "    <span style=\"font-size: 0.8em; font-weight: bold; line-height: 1; border-radius: 0.35em; text-transform: uppercase; vertical-align: middle; margin-left: 0.5rem\">lifestyle</span>\n",
              "</mark>\n",
              " \n",
              "<mark class=\"entity\" style=\"background: #ddd; padding: 0.45em 0.6em; margin: 0 0.25em; line-height: 1; border-radius: 0.35em; box-decoration-break: clone; -webkit-box-decoration-break: clone\">\n",
              "    burger\n",
              "    <span style=\"font-size: 0.8em; font-weight: bold; line-height: 1; border-radius: 0.35em; text-transform: uppercase; vertical-align: middle; margin-left: 0.5rem\">dish</span>\n",
              "</mark>\n",
              " is made with bean \n",
              "<mark class=\"entity\" style=\"background: #ddd; padding: 0.45em 0.6em; margin: 0 0.25em; line-height: 1; border-radius: 0.35em; box-decoration-break: clone; -webkit-box-decoration-break: clone\">\n",
              "    patty\n",
              "    <span style=\"font-size: 0.8em; font-weight: bold; line-height: 1; border-radius: 0.35em; text-transform: uppercase; vertical-align: middle; margin-left: 0.5rem\">dish</span>\n",
              "</mark>\n",
              ", and you can add additional toppings like \n",
              "<mark class=\"entity\" style=\"background: #ddd; padding: 0.45em 0.6em; margin: 0 0.25em; line-height: 1; border-radius: 0.35em; box-decoration-break: clone; -webkit-box-decoration-break: clone\">\n",
              "    guacamole\n",
              "    <span style=\"font-size: 0.8em; font-weight: bold; line-height: 1; border-radius: 0.35em; text-transform: uppercase; vertical-align: middle; margin-left: 0.5rem\">dish</span>\n",
              "</mark>\n",
              ", chilli means and \n",
              "<mark class=\"entity\" style=\"background: #ddd; padding: 0.45em 0.6em; margin: 0 0.25em; line-height: 1; border-radius: 0.35em; box-decoration-break: clone; -webkit-box-decoration-break: clone\">\n",
              "    cheese\n",
              "    <span style=\"font-size: 0.8em; font-weight: bold; line-height: 1; border-radius: 0.35em; text-transform: uppercase; vertical-align: middle; margin-left: 0.5rem\">dish</span>\n",
              "</mark>\n",
              " (non-\n",
              "<mark class=\"entity\" style=\"background: #ddd; padding: 0.45em 0.6em; margin: 0 0.25em; line-height: 1; border-radius: 0.35em; box-decoration-break: clone; -webkit-box-decoration-break: clone\">\n",
              "    vegan\n",
              "    <span style=\"font-size: 0.8em; font-weight: bold; line-height: 1; border-radius: 0.35em; text-transform: uppercase; vertical-align: middle; margin-left: 0.5rem\">lifestyle</span>\n",
              "</mark>\n",
              " of course). I just had a simple veg \n",
              "<mark class=\"entity\" style=\"background: #ddd; padding: 0.45em 0.6em; margin: 0 0.25em; line-height: 1; border-radius: 0.35em; box-decoration-break: clone; -webkit-box-decoration-break: clone\">\n",
              "    burger\n",
              "    <span style=\"font-size: 0.8em; font-weight: bold; line-height: 1; border-radius: 0.35em; text-transform: uppercase; vertical-align: middle; margin-left: 0.5rem\">dish</span>\n",
              "</mark>\n",
              " and added \n",
              "<mark class=\"entity\" style=\"background: #ddd; padding: 0.45em 0.6em; margin: 0 0.25em; line-height: 1; border-radius: 0.35em; box-decoration-break: clone; -webkit-box-decoration-break: clone\">\n",
              "    guacamole\n",
              "    <span style=\"font-size: 0.8em; font-weight: bold; line-height: 1; border-radius: 0.35em; text-transform: uppercase; vertical-align: middle; margin-left: 0.5rem\">dish</span>\n",
              "</mark>\n",
              " and had a guilt free \n",
              "<mark class=\"entity\" style=\"background: #ddd; padding: 0.45em 0.6em; margin: 0 0.25em; line-height: 1; border-radius: 0.35em; box-decoration-break: clone; -webkit-box-decoration-break: clone\">\n",
              "    burger\n",
              "    <span style=\"font-size: 0.8em; font-weight: bold; line-height: 1; border-radius: 0.35em; text-transform: uppercase; vertical-align: middle; margin-left: 0.5rem\">dish</span>\n",
              "</mark>\n",
              ". Ordered a side \n",
              "<mark class=\"entity\" style=\"background: #ddd; padding: 0.45em 0.6em; margin: 0 0.25em; line-height: 1; border-radius: 0.35em; box-decoration-break: clone; -webkit-box-decoration-break: clone\">\n",
              "    salad\n",
              "    <span style=\"font-size: 0.8em; font-weight: bold; line-height: 1; border-radius: 0.35em; text-transform: uppercase; vertical-align: middle; margin-left: 0.5rem\">dish</span>\n",
              "</mark>\n",
              " while \n",
              "<mark class=\"entity\" style=\"background: #aa9cfc; padding: 0.45em 0.6em; margin: 0 0.25em; line-height: 1; border-radius: 0.35em; box-decoration-break: clone; -webkit-box-decoration-break: clone\">\n",
              "    Hubby\n",
              "    <span style=\"font-size: 0.8em; font-weight: bold; line-height: 1; border-radius: 0.35em; text-transform: uppercase; vertical-align: middle; margin-left: 0.5rem\">PERSON</span>\n",
              "</mark>\n",
              " went for \n",
              "<mark class=\"entity\" style=\"background: #ddd; padding: 0.45em 0.6em; margin: 0 0.25em; line-height: 1; border-radius: 0.35em; box-decoration-break: clone; -webkit-box-decoration-break: clone\">\n",
              "    potato\n",
              "    <span style=\"font-size: 0.8em; font-weight: bold; line-height: 1; border-radius: 0.35em; text-transform: uppercase; vertical-align: middle; margin-left: 0.5rem\">vegetable</span>\n",
              "</mark>\n",
              " wedges and \n",
              "<mark class=\"entity\" style=\"background: #ddd; padding: 0.45em 0.6em; margin: 0 0.25em; line-height: 1; border-radius: 0.35em; box-decoration-break: clone; -webkit-box-decoration-break: clone\">\n",
              "    onion\n",
              "    <span style=\"font-size: 0.8em; font-weight: bold; line-height: 1; border-radius: 0.35em; text-transform: uppercase; vertical-align: middle; margin-left: 0.5rem\">vegetable</span>\n",
              "</mark>\n",
              " rings (and apparently very good). Decor of the place is super cool. Worth checking it out and being away from the main ski area.</div>"
            ],
            "text/plain": [
              "<IPython.core.display.HTML object>"
            ]
          },
          "metadata": {
            "tags": []
          }
        },
        {
          "output_type": "stream",
          "text": [
            "How many entities are missing: 4\n",
            "Provide the name of the entity to be added: morning\n",
            "Provide the label of the entity to be added:TIME\n",
            "morning TIME\n",
            "Wrote 1 records to patterns.jsonl\n",
            "Provide the name of the entity to be added: kutchan town\n",
            "Provide the label of the entity to be added:LOC\n",
            "kutchan town LOC\n",
            "Wrote 1 records to patterns.jsonl\n",
            "Provide the name of the entity to be added: niseko\n",
            "Provide the label of the entity to be added:GPE\n",
            "niseko GPE\n",
            "Wrote 1 records to patterns.jsonl\n",
            "Provide the name of the entity to be added: non - vegan\n",
            "Provide the label of the entity to be added:U_lifestyle\n",
            "non - vegan U_lifestyle\n",
            "Wrote 1 records to patterns.jsonl\n"
          ],
          "name": "stdout"
        }
      ]
    },
    {
      "cell_type": "code",
      "metadata": {
        "id": "uAOCR7ifeFN4",
        "colab_type": "code",
        "outputId": "0549f17e-e318-401e-ae2b-15564da17fff",
        "colab": {
          "base_uri": "https://localhost:8080/",
          "height": 34
        }
      },
      "source": [
        "len(to_train_ents)"
      ],
      "execution_count": 262,
      "outputs": [
        {
          "output_type": "execute_result",
          "data": {
            "text/plain": [
              "200"
            ]
          },
          "metadata": {
            "tags": []
          },
          "execution_count": 262
        }
      ]
    },
    {
      "cell_type": "code",
      "metadata": {
        "id": "VjZssQzb8Q0G",
        "colab_type": "code",
        "outputId": "d093acec-2357-4620-e4d2-26f36edc8060",
        "colab": {
          "base_uri": "https://localhost:8080/",
          "height": 69
        }
      },
      "source": [
        "[(ent.text, ent.label_, ent.ent_id_) for ent in nlp(\"Its raining bok choy and jalapeno for € 3 in Singapore\").ents]"
      ],
      "execution_count": 0,
      "outputs": [
        {
          "output_type": "execute_result",
          "data": {
            "text/plain": [
              "[('bok choy', 'vegetable', 'bok_choy'),\n",
              " ('jalapeno', 'vegetable', 'jalapeno'),\n",
              " ('Singapore', 'GPE', 'singapore')]"
            ]
          },
          "metadata": {
            "tags": []
          },
          "execution_count": 288
        }
      ]
    },
    {
      "cell_type": "code",
      "metadata": {
        "id": "ggrLqD5ipjV9",
        "colab_type": "code",
        "colab": {}
      },
      "source": [
        "check_list"
      ],
      "execution_count": 0,
      "outputs": []
    },
    {
      "cell_type": "code",
      "metadata": {
        "id": "L9NFWUdcq4lN",
        "colab_type": "code",
        "outputId": "d37d9890-2cd4-4c9f-e6be-5b233806b15a",
        "colab": {
          "base_uri": "https://localhost:8080/",
          "height": 1000
        }
      },
      "source": [
        "check_list"
      ],
      "execution_count": 0,
      "outputs": [
        {
          "output_type": "execute_result",
          "data": {
            "text/plain": [
              "[(\"lion 's mane mushroom\", 'U_vegetable'),\n",
              " ('garlic dipping sauce', 'U_condiment'),\n",
              " ('garlic sauce', 'U_condiment'),\n",
              " ('garlic spread', 'U_condiment'),\n",
              " ('GyG', 'ORG'),\n",
              " ('Indochilli', 'ORG'),\n",
              " ('garlic sauce', 'U_condiment'),\n",
              " ('brazilian', 'NORP'),\n",
              " ('tomato sauce', 'U_condiment'),\n",
              " ('shabestan', 'ORG'),\n",
              " ('loco', 'ORG'),\n",
              " ('maison libanaise', 'ORG'),\n",
              " ('clarke quay central', 'FAC'),\n",
              " ('clark quay central', 'FAC'),\n",
              " ('salty cheese', 'U_dish'),\n",
              " ('nomvnom', 'ORG'),\n",
              " ('sarpino', 'ORG'),\n",
              " ('poke theory', 'ORG'),\n",
              " ('raisins', 'U_fruit'),\n",
              " ('pinenuts', 'U_seed'),\n",
              " ('almonds', 'U_seed'),\n",
              " ('cashew', 'U_seed'),\n",
              " ('aloha poke', 'ORG'),\n",
              " ('pumpkin seeds', 'U_seed'),\n",
              " ('cherry tomatoes', 'U_fruit'),\n",
              " ('blue rice', 'U_dish'),\n",
              " ('soy chicken cutlet', 'U_dish'),\n",
              " ('japanese', 'NORP'),\n",
              " ('blue bistro', 'ORG'),\n",
              " ('anchovies', 'U_dish'),\n",
              " ('ladies fingers', 'U_vegetable'),\n",
              " ('mushroom sauce', 'U_condiment'),\n",
              " ('mushroom salad', 'U_dish'),\n",
              " ('today', 'DATE'),\n",
              " ('tomorrow', 'DATE'),\n",
              " ('yesterday', 'DATE'),\n",
              " ('last week', 'DATE'),\n",
              " ('next week', 'DATE'),\n",
              " ('last month', 'DATE'),\n",
              " ('next month', 'DATE'),\n",
              " ('cherry tomato', 'U_fruit'),\n",
              " ('pasilla', 'U_dish'),\n",
              " ('pasilla sauce', 'U_condiment'),\n",
              " ('almonds', 'U_seed'),\n",
              " ('yogurt sauce', 'U_condiment'),\n",
              " ('fish balls', 'U_dish'),\n",
              " ('tau pok', 'U_dish'),\n",
              " ('tau kwa', 'U_dish'),\n",
              " ('taupok', 'U_dish'),\n",
              " ('cranberries', 'U_fruit'),\n",
              " ('cashew dressing', 'U_condiment'),\n",
              " ('macadamia', 'U_seed'),\n",
              " ('szechuan peppercorns', 'U_spice'),\n",
              " ('sichuan peppercorns', 'U_spice'),\n",
              " ('dumplings', 'U_dish'),\n",
              " ('kfc', 'ORG'),\n",
              " ('pollo frito', 'U_dish'),\n",
              " ('seitan', 'U_dish'),\n",
              " ('quesadillas', 'U_dish'),\n",
              " ('spanish', 'NORP'),\n",
              " ('hard rock cafe', 'ORG'),\n",
              " ('tortillas', 'U_dish'),\n",
              " ('brussel sprouts', 'U_vegetable'),\n",
              " ('pecans', 'U_seed'),\n",
              " ('hard rock', 'ORG'),\n",
              " ('hard rock café', 'ORG'),\n",
              " ('sriracha', 'U_condiment'),\n",
              " ('mayonnaise', 'U_condiment'),\n",
              " ('hard rock', 'ORG'),\n",
              " ('fajitas', 'U_dish'),\n",
              " ('pimienta', 'U_spice'),\n",
              " ('well dressed salad bar', 'ORG'),\n",
              " ('wdsb', 'ORG'),\n",
              " ('monkeyhead mushroom', 'U_vegetable'),\n",
              " ('monkey head mushroom', 'U_vegetable'),\n",
              " ('monkeyhead', 'U_vegetable'),\n",
              " ('seaweed crackers', 'U_dish'),\n",
              " ('seaweed chips', 'U_dish'),\n",
              " ('gula melaka', 'U_condiment'),\n",
              " ('waffles', 'U_dish'),\n",
              " ('ice cream', 'U_dish'),\n",
              " ('ice cream', 'U_dish'),\n",
              " ('ice-cream', 'U_dish')]"
            ]
          },
          "metadata": {
            "tags": []
          },
          "execution_count": 240
        }
      ]
    },
    {
      "cell_type": "code",
      "metadata": {
        "id": "g-b1X22C6QC0",
        "colab_type": "code",
        "outputId": "25dd90ed-5ea9-40c7-e82b-b8ae79ff569d",
        "colab": {
          "base_uri": "https://localhost:8080/",
          "height": 208
        }
      },
      "source": [
        "rev = next(train_rev)\n",
        "tok_list = [token.text for token in nlp(rev)] \n",
        "tag_list = ['O' for token in nlp(rev)]\n",
        "matched_ents = [(i,item) for i, item in enumerate(tok_list) if item.lower() in [i[0] for i in ent_list + check_list]] \n",
        "#print(rev, tok_list, tag_list, matched_ents)\n",
        "\n",
        "ent_for_doc = []\n",
        "pattern_dict = {}\n",
        "for ent in matched_ents:\n",
        "  ent_tag = ''.join(list(set([tup[1] for tup in ent_list + check_list if tup[0] == ent[1].lower()])))\n",
        "  ent_for_doc.append((ent[0], ent[1], ent_tag))  \n",
        "  tag_list[ent[0]] = ent_tag\n",
        "print(ent_for_doc)\n",
        "#print(tag_list)\n",
        "entities = offsets_from_biluo_tags(nlp(rev), tag_list)\n",
        "print(entities)\n",
        "to_train_ents.append((rev, dict(entities = entities)))\n",
        "displacy.render(nlp(rev),'ent',jupyter=True)\n",
        "\n",
        "\n",
        "n_entities_to_be_added = int(input(\"How many entities are missing: \"))\n",
        "if n_entities_to_be_added == 0:\n",
        "  print('You entered {} Thanks. So no new entities to be considered'.format(n_entities_to_be_added))\n",
        "else:\n",
        "  for user_input in range(n_entities_to_be_added):\n",
        "    e_name = input('Provide the name of the entity to be added: ')\n",
        "    e_label = input('Provide the label of the entity to be added:')\n",
        "    print(e_name, e_label)\n",
        "    check_list.append((e_name, e_label))\n",
        "    pattern_list = []\n",
        "    pattern_dict = {}\n",
        "    id_str = ''\n",
        "    for word in e_name.lower().split():\n",
        "      token_dict = {}\n",
        "      token_dict['LOWER'] = word\n",
        "      pattern_list.append(token_dict)\n",
        "      id_str += '_' + word\n",
        "    if e_label[:2] == 'U_':\n",
        "      pattern_dict['label'] = e_label[2:]\n",
        "    else:\n",
        "      pattern_dict['label'] = e_label  \n",
        "    pattern_dict['pattern'] = pattern_list\n",
        "    if id_str[0] == '_':\n",
        "      id_str = id_str[1:]\n",
        "    pattern_dict['id'] = id_str\n",
        "    dump_jsonl([pattern_dict],'patterns.jsonl', append=True)\n",
        "    ruler = EntityRuler(nlp).from_disk(\"patterns.jsonl\")"
      ],
      "execution_count": 0,
      "outputs": [
        {
          "output_type": "stream",
          "text": [
            "[(2, 'waffles', 'U_dish'), (43, 'peanut butter cookie', 'U_dish')]\n",
            "[(10, 17, 'dish'), (189, 209, 'dish')]\n"
          ],
          "name": "stdout"
        },
        {
          "output_type": "display_data",
          "data": {
            "text/html": [
              "<div class=\"entities\" style=\"line-height: 2.5; direction: ltr\">The vegan waffles with ice cream (also vegan of course) are amazing! Even though I'm not a sweet tooth, this is very nice as it is not overly sweet. The ice cream options vary - the salted \n",
              "<mark class=\"entity\" style=\"background: #ddd; padding: 0.45em 0.6em; margin: 0 0.25em; line-height: 1; border-radius: 0.35em; box-decoration-break: clone; -webkit-box-decoration-break: clone\">\n",
              "    peanut butter cookie\n",
              "    <span style=\"font-size: 0.8em; font-weight: bold; line-height: 1; border-radius: 0.35em; text-transform: uppercase; vertical-align: middle; margin-left: 0.5rem\">dish</span>\n",
              "</mark>\n",
              " dough is home-made if available. In this picture they had Brownice's chocolate ice cream. The presentation is very nice too.</div>"
            ],
            "text/plain": [
              "<IPython.core.display.HTML object>"
            ]
          },
          "metadata": {
            "tags": []
          }
        },
        {
          "output_type": "stream",
          "text": [
            "How many entities are missing: 1\n",
            "Provide the name of the entity to be added: chocolate ice cream\n",
            "Provide the label of the entity to be added:U_dish\n",
            "chocolate ice cream U_dish\n",
            "Wrote 1 records to patterns.jsonl\n"
          ],
          "name": "stdout"
        }
      ]
    },
    {
      "cell_type": "code",
      "metadata": {
        "id": "GgOrTm3Qq00i",
        "colab_type": "code",
        "colab": {}
      },
      "source": [
        "ruler = EntityRuler(nlp).from_disk(\"patterns.jsonl\")"
      ],
      "execution_count": 0,
      "outputs": []
    },
    {
      "cell_type": "code",
      "metadata": {
        "id": "X2W5UjmSVV3b",
        "colab_type": "code",
        "outputId": "3e9df5e2-72a1-4af2-d540-7ed87705a695",
        "colab": {
          "base_uri": "https://localhost:8080/",
          "height": 104
        }
      },
      "source": [
        "check_list[-5:]"
      ],
      "execution_count": 0,
      "outputs": [
        {
          "output_type": "execute_result",
          "data": {
            "text/plain": [
              "[('brussels sprouts', 'U_vegetable'),\n",
              " ('soy sesame', 'U_condiment'),\n",
              " ('soya sesame', 'U_condiment'),\n",
              " ('squash', 'U_vegetable'),\n",
              " ('honey mustard sauce', 'U_condiment')]"
            ]
          },
          "metadata": {
            "tags": []
          },
          "execution_count": 173
        }
      ]
    },
    {
      "cell_type": "code",
      "metadata": {
        "id": "KYobzFRrImAK",
        "colab_type": "code",
        "outputId": "71ae29ce-882f-4e63-ce0a-6c10355d9a28",
        "colab": {
          "base_uri": "https://localhost:8080/",
          "height": 34
        }
      },
      "source": [
        "len(to_train_ents)"
      ],
      "execution_count": 0,
      "outputs": [
        {
          "output_type": "execute_result",
          "data": {
            "text/plain": [
              "51"
            ]
          },
          "metadata": {
            "tags": []
          },
          "execution_count": 92
        }
      ]
    },
    {
      "cell_type": "code",
      "metadata": {
        "id": "3UShE2sdsZAm",
        "colab_type": "code",
        "outputId": "30313cec-6fda-44f8-e85c-1dd8cb3fac17",
        "colab": {
          "base_uri": "https://localhost:8080/",
          "height": 34
        }
      },
      "source": [
        "model = 'en_core_web_lg'\n",
        "\n",
        "\n",
        "\n",
        "\"\"\"Load the model, set up the pipeline and train the entity recognizer.\"\"\"\n",
        "if model is not None:\n",
        "    nlp = spacy.load(model)  # load existing spaCy model\n",
        "    print(\"Loaded model '%s'\" % model)\n",
        "else:\n",
        "    nlp = spacy.blank(\"en\")  # create blank Language class\n",
        "    print(\"Created blank 'en' model\")\n",
        "\n",
        "# nlp.create_pipe works for built-ins that are registered with spaCy\n",
        "if \"ner\" not in nlp.pipe_names:\n",
        "    ner = nlp.create_pipe(\"ner\")\n",
        "    nlp.add_pipe(ner, last=True)\n",
        "# otherwise, get it so we can add labels\n",
        "else:\n",
        "    ner = nlp.get_pipe(\"ner\")\n",
        "\n",
        "# add labels\n",
        "for _, annotations in to_train_ents:\n",
        "    for ent in annotations.get(\"entities\"):\n",
        "        ner.add_label(ent[2])"
      ],
      "execution_count": 263,
      "outputs": [
        {
          "output_type": "stream",
          "text": [
            "Loaded model 'en_core_web_lg'\n"
          ],
          "name": "stdout"
        }
      ]
    },
    {
      "cell_type": "code",
      "metadata": {
        "id": "PxZpmHnSsahQ",
        "colab_type": "code",
        "outputId": "2756b40c-aa15-43ea-e77d-8ed49288aace",
        "colab": {
          "base_uri": "https://localhost:8080/",
          "height": 608
        }
      },
      "source": [
        "ner.labels"
      ],
      "execution_count": 264,
      "outputs": [
        {
          "output_type": "execute_result",
          "data": {
            "text/plain": [
              "('LAW',\n",
              " 'dish',\n",
              " 'beverage',\n",
              " 'CARDINAL',\n",
              " 'EVENT',\n",
              " 'meal',\n",
              " 'FAC',\n",
              " 'ORG',\n",
              " 'bread',\n",
              " 'condiment',\n",
              " 'PRODUCT',\n",
              " 'breadU_dish',\n",
              " 'product',\n",
              " 'PERSON',\n",
              " 'MONEY',\n",
              " 'seed',\n",
              " 'herb',\n",
              " 'LANGUAGE',\n",
              " 'ORDINAL',\n",
              " 'dishU_beverage',\n",
              " 'food_habit',\n",
              " 'LOC',\n",
              " 'vegetable',\n",
              " 'WORK_OF_ART',\n",
              " 'DATE',\n",
              " 'TIME',\n",
              " 'fruit',\n",
              " 'pastry',\n",
              " 'PERCENT',\n",
              " 'spice',\n",
              " 'QUANTITY',\n",
              " 'lifestyle',\n",
              " 'GPE',\n",
              " 'NORP')"
            ]
          },
          "metadata": {
            "tags": []
          },
          "execution_count": 264
        }
      ]
    },
    {
      "cell_type": "code",
      "metadata": {
        "id": "NTk7IpQDso5P",
        "colab_type": "code",
        "outputId": "b86a02d5-f357-4b03-a6a4-55bc0f3f492e",
        "colab": {
          "base_uri": "https://localhost:8080/",
          "height": 34
        }
      },
      "source": [
        "len(to_train_ents)"
      ],
      "execution_count": 265,
      "outputs": [
        {
          "output_type": "execute_result",
          "data": {
            "text/plain": [
              "200"
            ]
          },
          "metadata": {
            "tags": []
          },
          "execution_count": 265
        }
      ]
    },
    {
      "cell_type": "code",
      "metadata": {
        "id": "6msp9lEOsjPt",
        "colab_type": "code",
        "outputId": "da0fe33d-fd11-4a70-9ac8-f4719830afd0",
        "colab": {
          "base_uri": "https://localhost:8080/",
          "height": 1000
        }
      },
      "source": [
        "clean_train_ents = trim_entity_spans(to_train_ents)"
      ],
      "execution_count": 266,
      "outputs": [
        {
          "output_type": "stream",
          "text": [
            "Used to be better at the original outlet a few years ago, with more varieties of tofu inside, but still go regularly to have this. {'entities': [(41, 56, 'DATE'), (81, 85, 'dish')]}\n",
            "41 56 130\n",
            "81 85 130\n",
            "Given how crowded Pho Stop is during lunch I was really excited about trying their vegan Vietnamese Pho noodles. Unfortunately the dish really didn't have much going for it. The noodles were limp and the veggies and tofu nor the broth had much flavor. {'entities': [(18, 26, 'ORG'), (37, 42, 'meal'), (83, 88, 'lifestyle'), (89, 99, 'NORP'), (100, 103, 'dish'), (104, 111, 'dish'), (178, 185, 'dish'), (216, 220, 'dish')]}\n",
            "18 26 251\n",
            "37 42 251\n",
            "83 88 251\n",
            "89 99 251\n",
            "100 103 251\n",
            "104 111 251\n",
            "178 185 251\n",
            "216 220 251\n",
            "Delicious! Sweet butternut squash in a brown sugar butter sauce. Would definitely have again. The zucchini fritto also amazing as a side dish. {'entities': [(17, 33, 'vegetable'), (39, 50, 'dish'), (51, 57, 'condiment'), (58, 63, 'condiment'), (98, 106, 'vegetable'), (132, 141, 'meal')]}\n",
            "17 33 142\n",
            "39 50 142\n",
            "51 57 142\n",
            "58 63 142\n",
            "98 106 142\n",
            "132 141 142\n",
            "so much better than you would expect! delicious and not too heavy {'entities': []}\n",
            "LGO makes some of the best pizza in Arizona. The best part is you can order any of their delicious pizzas made with their tasty house made Vegan Cashew Nut Cheese. I had the Dalai Lama Pizza. Its their hand stretched sourdough crust, Vegan Cashew Cheese, Kale, Brussel Sprouts, Roasted Yellow Pepper, Roasted Tomato, and finished with Parsley. \n",
            "\n",
            "Tip: If you have a Gluten Allergy you can also order any of their Pizzas on their house made Gluten Free Crust. {'entities': [(27, 32, 'dish'), (36, 43, 'GPE'), (99, 105, 'dish'), (139, 144, 'lifestyle'), (145, 162, 'dish'), (174, 190, 'product'), (217, 226, 'bread'), (234, 239, 'lifestyle'), (240, 253, 'dish'), (255, 259, 'vegetable'), (261, 276, 'vegetable'), (286, 299, 'vegetable'), (309, 315, 'fruit'), (335, 342, 'herb'), (412, 418, 'dish'), (439, 450, 'food_habit')]}\n",
            "27 32 457\n",
            "36 43 457\n",
            "99 105 457\n",
            "139 144 457\n",
            "145 162 457\n",
            "174 190 457\n",
            "217 226 457\n",
            "234 239 457\n",
            "240 253 457\n",
            "255 259 457\n",
            "261 276 457\n",
            "286 299 457\n",
            "309 315 457\n",
            "335 342 457\n",
            "412 418 457\n",
            "439 450 457\n",
            "No, this is not mango sticky rice WITH ice cream but rather, mango sticky rice FLAVOURED ice cream. It sounded inconceivable until I tried it for the first time and my life was changed forever. I am not kidding. It is as its name suggests - mango sticky rice reborn in ice cream form. It's amazing. You have to try it! The one pity is that it's only available in the month of September (or very, VERY occasionally during the rest of the year) as September is the anniversary month of the shop. I would gladly pay a premium to be able to buy a scoop at anytime throughout the year though. Perhaps it's this mystical, ULTRA-RARE element that lends to the overall appeal of the dish. If it's not available on your visit, FRET NOT! I can assure you that the other ice cream flavours on offer are equally unique and delicious :P {'entities': [(16, 33, 'dish'), (39, 48, 'dish'), (61, 78, 'dish'), (89, 98, 'dish'), (150, 155, 'ORDINAL'), (241, 258, 'dish'), (269, 278, 'dish'), (323, 326, 'CARDINAL'), (376, 385, 'DATE'), (446, 455, 'DATE'), (760, 769, 'dish')]}\n",
            "16 33 823\n",
            "39 48 823\n",
            "61 78 823\n",
            "89 98 823\n",
            "150 155 823\n",
            "241 258 823\n",
            "269 278 823\n",
            "323 326 823\n",
            "376 385 823\n",
            "446 455 823\n",
            "760 769 823\n",
            "I loved these vegan kebabs specially prepared as part of Fat Prince's collaboration with London based Le Bab. The combination of falafel with beetroot, pickled vegetables and homemade potato chips all served on a warm pita made for amazing tastes and textures. {'entities': [(14, 19, 'lifestyle'), (89, 95, 'GPE'), (102, 108, 'ORG'), (129, 136, 'dish'), (142, 150, 'vegetable'), (184, 190, 'vegetable'), (191, 196, 'dish'), (218, 222, 'bread')]}\n",
            "14 19 260\n",
            "89 95 260\n",
            "102 108 260\n",
            "129 136 260\n",
            "142 150 260\n",
            "184 190 260\n",
            "191 196 260\n",
            "218 222 260\n",
            "A passable burrito bowl that can be made vegan by skipping on the cheese. The one positive is the generous amount of guacamole. {'entities': [(11, 23, 'dish'), (41, 46, 'lifestyle'), (66, 72, 'dish'), (78, 81, 'CARDINAL'), (117, 126, 'dish')]}\n",
            "11 23 127\n",
            "41 46 127\n",
            "66 72 127\n",
            "78 81 127\n",
            "117 126 127\n",
            "The portion is big but the taste is refreshing so it doesn't feel like a heavy meal. The black beans are especially tasty! If you want to be extra healthy and vegan, you can opt for brown rice(additional $1 but is yummy!) and request for no cheese(in this case I didn't because I love my cheese ok). The best thing about this is it comes with guacamole whereas for the other meat bowls, you'd have to add $2. #itsgoodtobeveggie {'entities': [(89, 100, 'vegetable'), (159, 164, 'lifestyle'), (205, 206, 'CARDINAL'), (288, 294, 'dish'), (343, 352, 'dish'), (375, 379, 'dish')]}\n",
            "89 100 427\n",
            "159 164 427\n",
            "205 206 427\n",
            "288 294 427\n",
            "343 352 427\n",
            "375 379 427\n",
            "Pretty good. Student meal $7.90 with a drink was worth it :) {'entities': []}\n",
            "$12++ Actually quite interesting mix of content for a bowl of pho, there was vegan sausages, prawn, fishball, and the usual veggies of a pho. I think most of them were fried/the soup generally was abit too oily for my liking {'entities': [(62, 65, 'dish'), (77, 82, 'lifestyle'), (83, 91, 'dish'), (93, 98, 'dish'), (100, 108, 'dish'), (137, 140, 'dish'), (178, 182, 'dish')]}\n",
            "62 65 224\n",
            "77 82 224\n",
            "83 91 224\n",
            "93 98 224\n",
            "100 108 224\n",
            "137 140 224\n",
            "178 182 224\n",
            "Has fishball and vegan bites inside too?? Quite the bonus but the vegan bites are soy and taste like absolute cardboard garbage. Soup was tasteless and the plaza sing outlet DOES NOT HAVE CUT CHILLI. DO NOT EAT HERE {'entities': [(4, 12, 'dish'), (17, 22, 'lifestyle'), (66, 71, 'lifestyle'), (129, 133, 'dish'), (156, 166, 'FAC')]}\n",
            "4 12 215\n",
            "17 22 215\n",
            "66 71 215\n",
            "129 133 215\n",
            "156 166 215\n",
            "Really tasty, smooth noodles but the toppings are kind of lacking. (some frIrd tofu skIn, 1 mushroom and a bIt of veg) The broth is very good though, just a lil salty. Expensive though {'entities': [(21, 28, 'dish'), (79, 88, 'dish'), (90, 91, 'CARDINAL'), (92, 100, 'vegetable')]}\n",
            "21 28 184\n",
            "79 88 184\n",
            "90 91 184\n",
            "92 100 184\n",
            "The quality of Nam Nam's vegetarian pho can be hit of miss.  There's really not a lot of vegetables in this, except for 1 mushroom and a few pieces of tofu.  The brown rice noodles are a nice touch, but the broth could be more flavorful.  However, overall it is one of the better vegan pho options in Singapore.  I did notice that they expanded their vegetarian/vegan appetizer options with 2 more dishes! {'entities': [(25, 35, 'lifestyle'), (36, 39, 'dish'), (120, 121, 'CARDINAL'), (122, 130, 'vegetable'), (151, 155, 'dish'), (162, 180, 'dish'), (262, 265, 'CARDINAL'), (280, 285, 'lifestyle'), (286, 289, 'dish'), (301, 310, 'GPE'), (351, 361, 'lifestyle'), (362, 367, 'lifestyle'), (368, 377, 'meal')]}\n",
            "25 35 405\n",
            "36 39 405\n",
            "120 121 405\n",
            "122 130 405\n",
            "151 155 405\n",
            "162 180 405\n",
            "262 265 405\n",
            "280 285 405\n",
            "286 289 405\n",
            "301 310 405\n",
            "351 361 405\n",
            "362 367 405\n",
            "368 377 405\n",
            "The Paneer Kebab at Fat Prince is grilled paneer cubes, onion rings, beetroot sauce and some greens served on a mini pita.  The paneer is high quality and very tasty, and I sauces we very flavorful.  The portion size is on the small side, so I would recommend ordering at least 2-3 if you're hungry.  Presentation could be a bit more thoughtful, but I really enjoyed eating it! {'entities': [(4, 10, 'dish'), (11, 16, 'dish'), (20, 30, 'ORG'), (42, 48, 'dish'), (56, 61, 'vegetable'), (69, 77, 'vegetable'), (78, 83, 'condiment'), (93, 99, 'vegetable'), (117, 121, 'bread'), (128, 134, 'dish')]}\n",
            "4 10 377\n",
            "11 16 377\n",
            "20 30 377\n",
            "42 48 377\n",
            "56 61 377\n",
            "69 77 377\n",
            "78 83 377\n",
            "93 99 377\n",
            "117 121 377\n",
            "128 134 377\n",
            "I don't know how they make this laksa so seafoody but I adore it. The gravy is super legit and omnivore friend verifies that the mock shrimp and fish are crazy realistic. {'entities': [(32, 37, 'dish'), (95, 103, 'food_habit'), (134, 140, 'dish'), (145, 149, 'dish')]}\n",
            "32 37 170\n",
            "95 103 170\n",
            "134 140 170\n",
            "145 149 170\n",
            "While the dish tasted good it was slightly bland(i prefer more spicy) with addition of vegan sambal paste, it definitely improved {'entities': [(87, 92, 'lifestyle'), (93, 105, 'condiment')]}\n",
            "87 92 129\n",
            "93 105 129\n",
            "Was blown away by their Nyonya Laksa, a very authentic interpretation. The broth was so rich and full of flavour, better than a lot of hawker places. Also had their Ngor Hiang which was delicious. Their home made \"char siew\", although unbelievable in appearance (looked so much like real meat) had that sweet \"roasted\" taste and crispy texture but wasn't as impressive as their mains. Overall, generous portion sizes, great environment and would definitely recommend and revisit. {'entities': [(24, 36, 'dish'), (165, 175, 'dish'), (214, 223, 'dish'), (288, 292, 'dish')]}\n",
            "24 36 479\n",
            "165 175 479\n",
            "214 223 479\n",
            "288 292 479\n",
            "A light coconut milk based curry of sweet potatoes and green beans with roasted lime cashews and pea basmati rice. Give a little chilli kick to the meal with the coconut tomato sambal side. This generous one bowl main at Mildred’s makes for a wholesome meal for one. It’s warm, full of flavour and perfect to lift your mood on a gloomy chilly London day! {'entities': [(8, 20, 'dish'), (27, 32, 'dish'), (42, 50, 'vegetable'), (61, 66, 'vegetable'), (97, 100, 'vegetable'), (101, 113, 'dish'), (162, 169, 'fruit'), (170, 176, 'fruit'), (177, 183, 'dish'), (204, 207, 'CARDINAL'), (262, 265, 'CARDINAL'), (343, 349, 'GPE')]}\n",
            "8 20 354\n",
            "27 32 354\n",
            "42 50 354\n",
            "61 66 354\n",
            "97 100 354\n",
            "101 113 354\n",
            "162 169 354\n",
            "170 176 354\n",
            "177 183 354\n",
            "204 207 354\n",
            "262 265 354\n",
            "343 349 354\n",
            "A rich but not overly creamy soup. Very refreshing and contains a lot of herbs, vegetables and mushrooms. {'entities': [(29, 33, 'dish'), (73, 78, 'condiment'), (95, 104, 'vegetable')]}\n",
            "29 33 105\n",
            "73 78 105\n",
            "95 104 105\n",
            "This Tom Kha soup from Mak Mak is one of the most refined versions of this soup I have tasted. Served in a young coconut shell with a light but creamy coconut soup with a generous portion of different vegetables. I particularly enjoyed some of the young coconut flesh from the shell in my soup. {'entities': [(5, 17, 'dish'), (34, 37, 'CARDINAL'), (75, 79, 'dish'), (113, 120, 'fruit'), (151, 163, 'dish'), (254, 261, 'fruit'), (289, 293, 'dish')]}\n",
            "5 17 294\n",
            "34 37 294\n",
            "75 79 294\n",
            "113 120 294\n",
            "151 163 294\n",
            "254 261 294\n",
            "289 293 294\n",
            "This was a great lunch find for me! I really enjoyed my Poke Bowl - with a base of Lemon Herb Quinoa, Vegan Avocado Poke and the regular toppings of Sesame Seeds, Pineapple, Carrot, Cherry Tomato, Japanese Cucumber and Wakame Seaweed. Totally yummy, nutritious and filling. Highly recommend! {'entities': [(17, 22, 'meal'), (56, 60, 'dish'), (83, 88, 'fruit'), (94, 100, 'dish'), (102, 107, 'lifestyle'), (108, 115, 'fruit'), (116, 120, 'dish'), (149, 161, 'seed'), (163, 172, 'fruit'), (174, 180, 'vegetable'), (182, 195, 'fruit'), (197, 214, 'vegetable'), (219, 225, 'dish'), (226, 233, 'vegetable')]}\n",
            "17 22 291\n",
            "56 60 291\n",
            "83 88 291\n",
            "94 100 291\n",
            "102 107 291\n",
            "108 115 291\n",
            "116 120 291\n",
            "149 161 291\n",
            "163 172 291\n",
            "174 180 291\n",
            "182 195 291\n",
            "197 214 291\n",
            "219 225 291\n",
            "226 233 291\n",
            "I loved everything! The menu is broad with a huge variety from Asian to western flavours. Each dish is carefully crafted and service was so efficient. Be careful to note which items contain dairy! {'entities': [(63, 68, 'NORP')]}\n",
            "63 68 196\n",
            "Everything here was great! Loved that they really brought out the flavors of the individual components. Especially liked the mushroom soup. Hearty and filling but not too heavy. Unfortunately that's also the only photo I took. \n",
            "\n",
            "Definitely recommend and with such a variety of options, they'll have something for everyone. \n",
            "\n",
            "Only issue was the menu itself. Had to flip back and forth to check which dishes were what (e.g. Vegan, gluten free, dairy free etc). {'entities': [(125, 138, 'condiment'), (422, 427, 'lifestyle'), (429, 440, 'food_habit'), (442, 452, 'food_habit')]}\n",
            "125 138 458\n",
            "422 427 458\n",
            "429 440 458\n",
            "442 452 458\n",
            "I had the 7 course set instead of 5. Portion are a smaller than expected. Certain food flavours are quite mind-blowing such as the soups & salads. There's a course which is a drink, would be better if it's a dish. {'entities': [(139, 145, 'dish')]}\n",
            "139 145 213\n",
            "Tried the 5 course set lunch here - it does offer a good variety for vegetarians but I found the dishes to be a little hit and miss. The appetiser was quite tasty with 3 small items. I had the peppery herbal soup for starter which I enjoyed although I didn't eat the bread which came with it since it looked fried! For mains, I ordered the sizzling quinoa brown rice which was ok but lacking in flavour and could have had some vegetable added to it. The dessert was not for me but I enjoyed the Spearmint tea! {'entities': [(19, 28, 'meal'), (69, 80, 'food_habit'), (137, 146, 'meal'), (208, 212, 'dish'), (349, 355, 'dish'), (356, 366, 'dish'), (454, 461, 'meal'), (495, 508, 'dish')]}\n",
            "19 28 509\n",
            "69 80 509\n",
            "137 146 509\n",
            "208 212 509\n",
            "349 355 509\n",
            "356 366 509\n",
            "454 461 509\n",
            "495 508 509\n",
            "We are staying at St Ermins and cane here for breakfast. They did not have any hot items for vegetarians. We requested and they did a plate of grilled vegetables namely tomatoes, asparagus, mushrooms and hash brown. The grilling was just right for the mushroom and the asparagus. The yellow tomatoes were very nice. With just a dash of salt and pepper this was a good dish. Don’t know the cost as this was a part of our breakfast. {'entities': [(46, 55, 'meal'), (93, 104, 'food_habit'), (169, 177, 'fruit'), (179, 188, 'vegetable'), (190, 199, 'vegetable'), (252, 260, 'vegetable'), (269, 278, 'vegetable'), (291, 299, 'fruit'), (336, 340, 'condiment'), (345, 351, 'condiment'), (420, 429, 'meal')]}\n",
            "46 55 430\n",
            "93 104 430\n",
            "169 177 430\n",
            "179 188 430\n",
            "190 199 430\n",
            "252 260 430\n",
            "269 278 430\n",
            "291 299 430\n",
            "336 340 430\n",
            "345 351 430\n",
            "420 429 430\n",
            "This dish is clean and nice and awesome! They have around 3-4 different flavored falafels, my fav one is the one with beetroot! Who would have known??? I never liked beetroot, but this one is absolutely AWESOME! {'entities': [(81, 89, 'dish'), (98, 101, 'CARDINAL'), (109, 112, 'CARDINAL'), (118, 126, 'vegetable'), (166, 174, 'vegetable'), (185, 188, 'CARDINAL')]}\n",
            "81 89 211\n",
            "98 101 211\n",
            "109 112 211\n",
            "118 126 211\n",
            "166 174 211\n",
            "185 188 211\n",
            "Generous serving of rice noodles, with fried potato pieces, chunks of fried tofu, bean sprouts and a bit of leafy greens. Squeeze some lime juice adds some zesty freshness, a nice contrast to the flavourful dish. Also has a perfect level of spiciness that doesn't blow one's head off. #crfsg {'entities': [(20, 32, 'dish'), (45, 51, 'vegetable'), (76, 80, 'dish'), (82, 94, 'vegetable'), (114, 120, 'vegetable'), (140, 145, 'dish'), (269, 272, 'CARDINAL')]}\n",
            "20 32 291\n",
            "45 51 291\n",
            "76 80 291\n",
            "82 94 291\n",
            "114 120 291\n",
            "140 145 291\n",
            "269 272 291\n",
            "At first the samosa looked a bad choice due to the cover being that of spring roll. However, the samosa has some cinnamon and the flavor was really good. The way they served the chutney (sauces) it was different and good {'entities': [(3, 8, 'ORDINAL'), (13, 19, 'dish'), (71, 82, 'dish'), (97, 103, 'dish'), (113, 121, 'spice'), (178, 185, 'dish')]}\n",
            "3 8 220\n",
            "13 19 220\n",
            "71 82 220\n",
            "97 103 220\n",
            "113 121 220\n",
            "178 185 220\n",
            "Very well prepared wholesome dish. A little spicy though. Enjoyed it a lot. This is like urad daal Kachori. Portion is also good {'entities': [(99, 106, 'dish')]}\n",
            "99 106 128\n",
            "Excellent dish and very well prepared. It went extremely well with the Naan and the Rumaali roti. Strongly recommend the dish if you come here. {'entities': [(71, 75, 'bread'), (92, 96, 'bread')]}\n",
            "71 75 143\n",
            "92 96 143\n",
            "Very well prepared daal and it went very well with the naan and also the rumali roti. Really enjoyed the dish. {'entities': [(55, 59, 'bread'), (73, 84, 'bread')]}\n",
            "55 59 110\n",
            "73 84 110\n",
            "The breakfast bowl was a large portion with fresh ingredients. It can be ordered topped with tofu or eggs. Taste gets 3 only because I'm not a huge fan of green olives and they kind of overpower the rice. Other than that the dish was good. The green chili was my favorite part (and spicy!) next time I'll get it with an extra side. The cumin cashew cream topping added a nice flavor as well. Although the bowl is already full of carbs I was looking for a tortilla for dipping. Adam's is a very vegan/vegetarian friendly restaurant. {'entities': [(4, 13, 'meal'), (93, 97, 'dish'), (101, 105, 'dish'), (199, 203, 'dish'), (250, 255, 'fruit'), (336, 341, 'spice'), (342, 348, 'seed'), (455, 463, 'bread'), (494, 499, 'lifestyle'), (500, 510, 'lifestyle')]}\n",
            "4 13 531\n",
            "93 97 531\n",
            "101 105 531\n",
            "199 203 531\n",
            "250 255 531\n",
            "336 341 531\n",
            "342 348 531\n",
            "455 463 531\n",
            "494 499 531\n",
            "500 510 531\n",
            "This rendang was very heavy but felt quite nutritious with lots of vegetables and hearty slices of potato. The rendang sauce brought out a nice balance of sweet and salty, with crunchy peanut bits. Very affordable! {'entities': [(5, 12, 'dish'), (99, 105, 'vegetable'), (111, 118, 'dish'), (119, 124, 'condiment'), (185, 191, 'seed')]}\n",
            "5 12 214\n",
            "99 105 214\n",
            "111 118 214\n",
            "119 124 214\n",
            "185 191 214\n",
            "The vegan rendang here was hearty, spicy, and came at a great price. Although the gravy didn't have the same deep orange color of other rendang dishes I've enjoyed in the past, the taste was just as rich and creamy. Overall, it made for a perfect lunch on the lake, and paired well with the fresh fruit juice! {'entities': [(4, 9, 'lifestyle'), (10, 17, 'dish'), (136, 143, 'dish'), (247, 252, 'meal'), (303, 308, 'dish')]}\n",
            "4 9 309\n",
            "10 17 309\n",
            "136 143 309\n",
            "247 252 309\n",
            "303 308 309\n",
            "After enjoying this sandwich during my first visit to Thrive, I thought I'd stick to it this time as well--it didn't disappoint the second time around, either! A creative combination of portobello mushroom and lentil patty, the sandwich made for a satisfying and filling meal. The vinaigrette gave the mushroom a juicy bite, and blended well with the spices in the lentils. Topped with a generous helping of greens and a house-made cashew sauce, this dish is a great option for those looking for a vegan sandwich fix. Although Thrive doesn't have a lot of vegan options on the menu, the few that they do have are definitely worth a try! {'entities': [(20, 28, 'dish'), (39, 44, 'ORDINAL'), (132, 138, 'ORDINAL'), (186, 205, 'vegetable'), (217, 222, 'dish'), (228, 236, 'dish'), (302, 310, 'vegetable'), (365, 372, 'vegetable'), (408, 414, 'vegetable'), (432, 444, 'condiment'), (498, 503, 'lifestyle'), (504, 512, 'dish'), (556, 561, 'lifestyle')]}\n",
            "20 28 636\n",
            "39 44 636\n",
            "132 138 636\n",
            "186 205 636\n",
            "217 222 636\n",
            "228 236 636\n",
            "302 310 636\n",
            "365 372 636\n",
            "408 414 636\n",
            "432 444 636\n",
            "498 503 636\n",
            "504 512 636\n",
            "556 561 636\n",
            "BLACK BEAN BURGER\n",
            "tomato, red onion, arugula, roasted red pepper, white cheddar, sambal aioli, on a brioche bun\n",
            "\n",
            "The ingredients sounded great but don't be fooled it was tasteless. Guess they can't all be winners? Would not recommend I will not order this one again. {'entities': [(0, 17, 'dish'), (18, 24, 'fruit'), (30, 35, 'vegetable'), (37, 44, 'vegetable'), (54, 64, 'vegetable'), (72, 79, 'dish'), (81, 87, 'dish'), (88, 93, 'dish'), (100, 107, 'bread'), (256, 259, 'CARDINAL')]}\n",
            "0 17 266\n",
            "18 24 266\n",
            "30 35 266\n",
            "37 44 266\n",
            "54 64 266\n",
            "72 79 266\n",
            "81 87 266\n",
            "88 93 266\n",
            "100 107 266\n",
            "256 259 266\n",
            "Solidly mediocre. Nothing wrong with them, and it's great to have a vegan taco option in Canggu, but they are entirely forgettable. The vegan cream cheese style sauce they come with is great though! #jaan {'entities': [(68, 73, 'lifestyle'), (74, 78, 'dish'), (136, 141, 'lifestyle'), (148, 154, 'dish'), (161, 166, 'condiment')]}\n",
            "68 73 204\n",
            "74 78 204\n",
            "136 141 204\n",
            "148 154 204\n",
            "161 166 204\n",
            "Friend Dont really liked the sauce but finds it good. At first looks not filling but was rlly satisfying {'entities': [(29, 34, 'condiment'), (57, 62, 'ORDINAL')]}\n",
            "29 34 104\n",
            "57 62 104\n",
            "Very good. Don't like the addition of pineapple had it without before and was better. {'entities': [(38, 47, 'fruit')]}\n",
            "38 47 85\n",
            "Peloton Supershop's Ms. Jackson Tacos are filled with sweet marinated jackfruit. This tender and juicy texture is complimented with a light topical salsa and fresh avocado and coriander. The cashew sour cream is delicious, as is the chipotle peppers which add a bit of zing! {'entities': [(70, 79, 'fruit'), (148, 153, 'dish'), (164, 171, 'fruit'), (176, 185, 'herb'), (191, 197, 'seed'), (198, 208, 'condiment'), (233, 241, 'dish'), (242, 249, 'condiment')]}\n",
            "70 79 274\n",
            "148 153 274\n",
            "164 171 274\n",
            "176 185 274\n",
            "191 197 274\n",
            "198 208 274\n",
            "233 241 274\n",
            "242 249 274\n",
            "Spiced chickpeas, smooth hummus, roasted eggplant and quinoa mixed with fresh tomatoes and soft pita bread. This bowl has all the flavors and textures your want from a delicious vegetarian dish. Big enough to fill you up but healthy enough to keep you feeling light. {'entities': [(7, 16, 'vegetable'), (25, 31, 'dish'), (41, 49, 'vegetable'), (54, 60, 'dish'), (78, 86, 'fruit'), (96, 100, 'bread'), (178, 188, 'lifestyle')]}\n",
            "7 16 266\n",
            "25 31 266\n",
            "41 49 266\n",
            "54 60 266\n",
            "78 86 266\n",
            "96 100 266\n",
            "178 188 266\n",
            "Wah so nutrients packed. Huge salad, crunchy toast and lasagne {'entities': [(30, 35, 'dish'), (55, 62, 'dish')]}\n",
            "30 35 62\n",
            "55 62 62\n",
            "lots of veggies, pasta was cooked perfectly and the flavor was amazing. also loved the salad and garlic bread that comes with it. {'entities': [(17, 22, 'dish'), (87, 92, 'dish'), (97, 109, 'dish')]}\n",
            "17 22 129\n",
            "87 92 129\n",
            "97 109 129\n",
            "I’ve had a few vegan lasagnes and I enjoyed this one.\n",
            "A little smaller than I expected but honestly still a good portion size.\n",
            "Not too soft or “raw” as I know some people donMt like that. I would order it again for sure\n",
            "#raw #lasagne {'entities': [(15, 20, 'lifestyle'), (49, 52, 'CARDINAL'), (226, 233, 'dish')]}\n",
            "15 20 233\n",
            "49 52 233\n",
            "226 233 233\n",
            "This lasanga is a layering of eggplant, carrot, mushroom and zucchini, and has a soft spiciness to it. The tomato sauce gives it a richness that goes perfectly with the drizzle of cashew bechamel over the top. It is accompanied by fresh, crunchy garlic bread and a simple salad. {'entities': [(30, 38, 'vegetable'), (40, 46, 'vegetable'), (48, 56, 'vegetable'), (61, 69, 'vegetable'), (107, 119, 'condiment'), (180, 186, 'seed'), (246, 258, 'breadU_dish'), (272, 277, 'dish')]}\n",
            "30 38 278\n",
            "40 46 278\n",
            "48 56 278\n",
            "61 69 278\n",
            "107 119 278\n",
            "180 186 278\n",
            "246 258 278\n",
            "272 277 278\n",
            "The tofu in this vegan Banh Mi was silky soft and marinated to give a sweet flavor. The fresh, crunchy bread roll was perfectly toasted and big enough to hold a large amount of fresh shredded carrot, sauteed ion and Vietnamese pickles. A perfect lunch or light dinner meal. {'entities': [(4, 8, 'dish'), (17, 22, 'lifestyle'), (23, 30, 'dish'), (192, 198, 'vegetable'), (216, 226, 'NORP'), (227, 234, 'condiment'), (246, 251, 'meal'), (261, 267, 'meal')]}\n",
            "4 8 273\n",
            "17 22 273\n",
            "23 30 273\n",
            "192 198 273\n",
            "216 226 273\n",
            "227 234 273\n",
            "246 251 273\n",
            "261 267 273\n",
            "Bao burger with Taiwanese braised shiitake tempeh, truffle mayo, sweet daikon pickle and fried shallot.\n",
            "Aptly names Sloppy Chan, this Bao is messy to eat but so so good! Unforgettable umami flavours of the mushroom filling sing in your mouth long after you have finished it most likely push you to order another. Been here twice on our very short stay in Hong Kong and would probably go back with this being the top things to eat again. \n",
            "Tip: No reservations, go early and line up before opening as this 15-20 seater restaurant fills up right after they open doors for service. {'entities': [(4, 10, 'dish'), (43, 49, 'dish'), (51, 63, 'condiment'), (71, 77, 'vegetable'), (95, 102, 'vegetable'), (206, 214, 'vegetable'), (355, 364, 'GPE')]}\n",
            "4 10 577\n",
            "43 49 577\n",
            "51 63 577\n",
            "71 77 577\n",
            "95 102 577\n",
            "206 214 577\n",
            "355 364 577\n",
            "This 50+ year old place is a Bangalore legend. Their pillowy soft Idlis and crispy Vada served on a plate of perfectly thinned chutney make a great breakfast. For unlimited chutney refills, look for the man serving chutney with a ladle from a big pot near the entrance. No tables or chairs; pay, pick up, find a good spot to stand and enjoy your breakfast. {'entities': [(127, 134, 'dish'), (148, 157, 'meal'), (173, 180, 'dish'), (215, 222, 'dish'), (346, 355, 'meal')]}\n",
            "127 134 356\n",
            "148 157 356\n",
            "173 180 356\n",
            "215 222 356\n",
            "346 355 356\n",
            "After one week in Vietnam without my avocado I was really craving it. Did a little research online and found this beautiful 2 storey vintage French colonial style cafe sitting in a quiet alley in HCMH district 2. I have been trying to go off eggs and be more vegan, and this amazing avo toast can totally make my skip eggs. Mushrooms and sundries tomatoes. Warm. Sour. Savoury. Creamy. All at once. They even offer gluten free bread option. Saw turmeric latte on the menu I was really tempted but went for my dark Vietnamese coffee instead. Great meal. Great ambience. Very vegan friendly. {'entities': [(6, 9, 'CARDINAL'), (37, 44, 'fruit'), (141, 147, 'NORP'), (242, 246, 'dish'), (259, 264, 'lifestyle'), (283, 292, 'dish'), (318, 322, 'dish'), (324, 333, 'vegetable'), (347, 355, 'fruit'), (415, 426, 'food_habit'), (445, 453, 'spice'), (454, 459, 'dish'), (514, 524, 'NORP'), (525, 531, 'dish'), (574, 579, 'lifestyle')]}\n",
            "6 9 589\n",
            "37 44 589\n",
            "141 147 589\n",
            "242 246 589\n",
            "259 264 589\n",
            "283 292 589\n",
            "318 322 589\n",
            "324 333 589\n",
            "347 355 589\n",
            "415 426 589\n",
            "445 453 589\n",
            "454 459 589\n",
            "514 524 589\n",
            "525 531 589\n",
            "574 579 589\n",
            "Not bad! But I still prefer the original cream puff as the matcha taste is a bit too overpowering. Nonetheless, would recommend it to anyone who loves the taste of matcha! {'entities': []}\n",
            "The Acai bowl from Eko Cafe Bali is a great meal or snack on a hot day. The icy cold smoothie bowl is very cooling and the fresh flavors are a great treat. The sliced mango, ripe strawberries and crunchy coconut flakes provide added tastiness as well as texture. A scattering of Granola also gives the acai bowl a lovely crunch. {'entities': [(4, 8, 'dish'), (85, 93, 'dish'), (167, 172, 'fruit'), (204, 211, 'fruit'), (279, 286, 'dish'), (302, 306, 'dish')]}\n",
            "4 8 328\n",
            "85 93 328\n",
            "167 172 328\n",
            "204 211 328\n",
            "279 286 328\n",
            "302 306 328\n",
            "Cold and fruity, the Dragon Fruit Smoothie bowl from Eko Cafe Bali is a very refreshing dish. It's ingredients were of high quality and tasted delicious. The flavorsome fruits, seeds and granola topped off the dish perfectly. I have definitely been persuaded to come back to try another smoothie bowls from Eko's healthy range! {'entities': [(34, 42, 'dish'), (177, 182, 'seed'), (187, 194, 'dish'), (287, 295, 'dish')]}\n",
            "34 42 327\n",
            "177 182 327\n",
            "187 194 327\n",
            "287 295 327\n",
            "These jackfruit tacos are near perfect, if anything the shell has some hard bits that are a bit annoying under the tooth. Very messy to eat 🙈\n",
            "\n",
            "#balieats #alv {'entities': [(6, 15, 'fruit')]}\n",
            "6 15 157\n",
            "Best jackfruit taco I’ve ever had. Whatever they’re doing here they’re doing it right because these were amazing. {'entities': [(5, 14, 'fruit'), (15, 19, 'dish')]}\n",
            "5 14 113\n",
            "15 19 113\n",
            "The best fricken tacos I’ve ever had in my lifeeeee! {'entities': []}\n",
            "Cooked young jackfruit in a raw corn shell topped with greens, avocado, tomato salsa and coconut sour cream.\n",
            "Moksa's Jackfruit Tacos are a very innovative and healthy version of this dish. Executive Chef Mane uses primarily mashed corn and flaxseeds to make these taco shells, semi-dries them flat and then carefully dries them fully on bamboo stems to get the taco shape. This dish tastes unlike any other taco I have ever tasted, definitely worth a try if you are looking to taste something different. {'entities': [(13, 22, 'fruit'), (32, 36, 'vegetable'), (55, 61, 'vegetable'), (63, 70, 'fruit'), (72, 78, 'fruit'), (79, 84, 'dish'), (89, 96, 'fruit'), (97, 107, 'condiment'), (117, 126, 'fruit'), (127, 132, 'dish'), (231, 235, 'vegetable'), (264, 268, 'dish'), (361, 365, 'dish'), (407, 411, 'dish')]}\n",
            "13 22 503\n",
            "32 36 503\n",
            "55 61 503\n",
            "63 70 503\n",
            "72 78 503\n",
            "79 84 503\n",
            "89 96 503\n",
            "97 107 503\n",
            "117 126 503\n",
            "127 132 503\n",
            "231 235 503\n",
            "264 268 503\n",
            "361 365 503\n",
            "407 411 503\n",
            "Sensory Zero offers a few “no meat” options on their menu, including this lovely green salad with mixed greens, baby corn, pumpkin and mushrooms. It comes with potato salad too but I skipped it to avoid the mayonnaise. The salad is $80 but at lunch hours you get a free coffee that worths $35. They have almond milk (they use \n",
            "Califia) for $8 extra. It is a healthy and nutritious meal. {'entities': [(30, 34, 'dish'), (87, 92, 'dish'), (104, 110, 'vegetable'), (117, 121, 'vegetable'), (123, 130, 'vegetable'), (135, 144, 'vegetable'), (160, 172, 'dish'), (207, 217, 'condiment'), (223, 228, 'dish'), (243, 248, 'meal'), (270, 276, 'dish'), (304, 315, 'dish')]}\n",
            "30 34 386\n",
            "87 92 386\n",
            "104 110 386\n",
            "117 121 386\n",
            "123 130 386\n",
            "135 144 386\n",
            "160 172 386\n",
            "207 217 386\n",
            "223 228 386\n",
            "243 248 386\n",
            "270 276 386\n",
            "304 315 386\n",
            "This is a good starter to have for vegetarians at Hakkasan. Different varieties of dim sum. The taste is also different considering the fact that we went to this place from Singapore. Enjoyed the dish a lot. Compared to the other dishes I thjnk this one is a far superior dish and I definitely recommend ordering it. {'entities': [(15, 22, 'meal'), (35, 46, 'food_habit'), (83, 90, 'dish'), (173, 182, 'GPE'), (250, 253, 'CARDINAL')]}\n",
            "15 22 316\n",
            "35 46 316\n",
            "83 90 316\n",
            "173 182 316\n",
            "250 253 316\n",
            "This was a slight twist to the standard good old spring rolls. The edamame was a good addition. The taste was nice. Out of the various choices I would go for this for a vegetarian. {'entities': [(67, 74, 'vegetable'), (169, 179, 'lifestyle')]}\n",
            "67 74 180\n",
            "169 179 180\n",
            "This is a normal mock Chinese dish. We found the mock chicken a little rubbery and the peas were a little bitter and the capsicum tasted bad which was a put off. The kids told us the same dish at the Singapore Swimming club is better. {'entities': [(22, 29, 'NORP'), (54, 61, 'dish'), (200, 209, 'GPE')]}\n",
            "22 29 234\n",
            "54 61 234\n",
            "200 209 234\n",
            "This dish was different because of the nuts used and the flavor was good. Actually we may give this restaurant a miss the next time we are here. {'entities': [(86, 89, 'DATE')]}\n",
            "86 89 144\n",
            "We went to this restaurant which is a chain of restaurants. We were pretty happy that we went to this place. We had various varieties of Tacos and they will be reviewed separately. The tostadas were amazing. I definitely recommend having this dish. {'entities': [(137, 142, 'dish')]}\n",
            "137 142 248\n",
            "We had various Tacos the plantain Taco, the carrot and celeriano taco and one more popper taco. These were on soft taco shells and I liked the presentation. The taste was amazing and the level of spiciness could be adjusted using the habanero sauce. Will definitely recommend going to this restaurant. {'entities': [(15, 20, 'dish'), (34, 38, 'dish'), (44, 50, 'vegetable'), (65, 69, 'dish'), (74, 77, 'CARDINAL'), (90, 94, 'dish'), (115, 119, 'dish'), (234, 242, 'vegetable'), (243, 248, 'condiment')]}\n",
            "15 20 301\n",
            "34 38 301\n",
            "44 50 301\n",
            "65 69 301\n",
            "74 77 301\n",
            "90 94 301\n",
            "115 119 301\n",
            "234 242 301\n",
            "243 248 301\n",
            "Good old quesadilla and no surprises. Pretty enjoyable and no complaints. We found it just well done and again the level of spiciness can be adjusted using habanero sauce. {'entities': [(9, 19, 'dish'), (156, 164, 'vegetable'), (165, 170, 'condiment')]}\n",
            "9 19 171\n",
            "156 164 171\n",
            "165 170 171\n",
            "I really liked this especially the beetroot hummus the first time I had it, so I just had to have it again. Unfortunately it wasn't as good as I remembered it to be, the tofu was so super salty!! Like a salt crusted tofu and I could still taste the salt in my mouth for a while after lunch. Eeeks :/ the Greek salad and coleslaw were alright but nothing amazing. plus their service is really slow and for a place that calls itself \"avorush\" they are extremely stingy with the avocado...maybe it rushed off to somewhere? haha 🙃 {'entities': [(35, 43, 'vegetable'), (44, 50, 'dish'), (55, 60, 'ORDINAL'), (170, 174, 'dish'), (203, 207, 'condiment'), (216, 220, 'dish'), (249, 253, 'condiment'), (284, 289, 'meal'), (304, 315, 'dish'), (320, 328, 'dish'), (476, 483, 'fruit')]}\n",
            "35 43 526\n",
            "44 50 526\n",
            "55 60 526\n",
            "170 174 526\n",
            "203 207 526\n",
            "216 220 526\n",
            "249 253 526\n",
            "284 289 526\n",
            "304 315 526\n",
            "320 328 526\n",
            "476 483 526\n",
            "My first time having this and I have mixed feelings because the food was very tasty but the service is super agonizingly slow (despite all the food being prepared already)!! Do not get this if you want a quick lunch 😂 the beetroot hummus was on point, I loved it! Defo my fav hummus at the moment. The basil aioli drizzled on the tofu cubes was so good too, I really enjoyed it. Vegans should note that the basil aioli is not vegan as the owner said she puts parmesan in it. Honey roasted carrots were meh and I had some pieces that were so burnt they looked like lumps of coal :/ (see 2nd pic) {'entities': [(3, 8, 'ORDINAL'), (210, 215, 'meal'), (222, 230, 'vegetable'), (231, 237, 'dish'), (276, 282, 'dish'), (302, 307, 'herb'), (308, 313, 'dish'), (330, 334, 'dish'), (379, 385, 'lifestyle'), (407, 412, 'herb'), (413, 418, 'dish'), (426, 431, 'lifestyle'), (489, 496, 'vegetable'), (586, 589, 'ORDINAL')]}\n",
            "3 8 594\n",
            "210 215 594\n",
            "222 230 594\n",
            "231 237 594\n",
            "276 282 594\n",
            "302 307 594\n",
            "308 313 594\n",
            "330 334 594\n",
            "379 385 594\n",
            "407 412 594\n",
            "413 418 594\n",
            "426 431 594\n",
            "489 496 594\n",
            "586 589 594\n",
            "I got the regular sized plate which gives you a base, 1 protein, 2 sides and avocado. The tofu was really good- lightly fried and flavorful. The slaw was really yummy too, the carrots were good but didn’t excite me too much. The only downside of this place is they are so slow, expect to wait in line a while. {'entities': [(54, 55, 'CARDINAL'), (77, 84, 'fruit'), (90, 94, 'dish'), (145, 149, 'dish'), (176, 183, 'vegetable')]}\n",
            "54 55 309\n",
            "77 84 309\n",
            "90 94 309\n",
            "145 149 309\n",
            "176 183 309\n",
            "My weekly lunch spot. Amazing food and very vegan-friendly. All items are clearly marked if they are vegan or vegetarian. This place revolutionizes the way we think of salads. Every topping offered (except iceberg lettuce) is cooked and seasoned uniquely. Be sure to get the tofu as a protein option and also the beetroot hummus! {'entities': [(10, 15, 'meal'), (44, 49, 'lifestyle'), (101, 106, 'lifestyle'), (110, 120, 'lifestyle'), (168, 174, 'dish'), (214, 221, 'vegetable'), (275, 279, 'dish'), (313, 321, 'vegetable'), (322, 328, 'dish')]}\n",
            "10 15 329\n",
            "44 49 329\n",
            "101 106 329\n",
            "110 120 329\n",
            "168 174 329\n",
            "214 221 329\n",
            "275 279 329\n",
            "313 321 329\n",
            "322 328 329\n",
            "The tofu and beetroot hummus here are my favs and I order them all the time. The guacamole was pretty good too but the portion is way too little like for rabbits 🐰🐰 and I really wish there were more? It's like just 2 tiny teaspoons which is kind of frustrating and I had to ration it 😩 grilled zucchini was alright. {'entities': [(4, 8, 'dish'), (13, 21, 'vegetable'), (22, 28, 'dish'), (81, 90, 'dish'), (294, 302, 'vegetable')]}\n",
            "4 8 315\n",
            "13 21 315\n",
            "22 28 315\n",
            "81 90 315\n",
            "294 302 315\n",
            "Super yummy bowl! They clearly label which of their dishes are vegan. The spicy bulgur was BOMB!!! So flavorful and unique. Tofu balls were really unique.!Guac portion was a bit small. For $10 the portion was just a tad bit small for me, though some couldn’t finish theirs. {'entities': [(63, 68, 'lifestyle'), (80, 86, 'dish'), (124, 128, 'dish')]}\n",
            "63 68 273\n",
            "80 86 273\n",
            "124 128 273\n",
            "One word. Bulgur. Considerably good price point at $10 as compared to other cbd grain-centric bowls a.k.a atas cai fan. Their avo is the real deal, wished there was more. {'entities': [(0, 3, 'CARDINAL'), (10, 16, 'dish'), (76, 79, 'FAC')]}\n",
            "0 3 170\n",
            "10 16 170\n",
            "76 79 170\n",
            "Back here again. Paid for an extra side so I could get the beetroot hummus. Once again the tofu was STELLAR. This place might be my favourite ‘bowl’ place ever in Singapore. {'entities': [(59, 67, 'vegetable'), (68, 74, 'dish'), (91, 95, 'dish'), (163, 172, 'GPE')]}\n",
            "59 67 173\n",
            "68 74 173\n",
            "91 95 173\n",
            "163 172 173\n",
            "First time here and I really love it, especially the fried cajun tofu. Paid $10 for a plate and wish the quantity was larger. {'entities': [(0, 5, 'ORDINAL'), (65, 69, 'dish')]}\n",
            "0 5 125\n",
            "65 69 125\n",
            "This has to be my favourite ‘bowl’ place!! After 10 mins of walking around the food court area @sarahcyh and I finally decided to eat here and there were 0 regrets! The sesame tofu was soo deliciously amazing, I could eat it all day. We got a base called bulgar (or something like that) and I still don’t know what it is (apart from it not being gluten free) but the whole thing came together so well. Would recommend this place! \n",
            "\n",
            "They’re good with labelling allergens on each item which is sometimes a rare sight to see in Singapore. {'entities': [(169, 180, 'dish'), (346, 357, 'food_habit'), (525, 534, 'GPE')]}\n",
            "169 180 535\n",
            "346 357 535\n",
            "525 534 535\n",
            "In my bowl: Spicy Bulgar, broccoli, deep fried tofu cubes, Vegan Gangstas and potato wedges 🥔\n",
            "The star of this dish was definitely the deep fried tofu (2nd pic) cubes, so nicely seasoned with a very crispy crust and soft, silky tofu inside.\n",
            "“Vegan Gangstas” = a mix of kidney beans, diced onions and tomatoes (a bit like salsa)\n",
            "Spicy Bulgar tasted a bit like healthy fried rice which is great since they didn’t have brown rice as an option, and I love my carbs! {'entities': [(26, 34, 'vegetable'), (47, 51, 'dish'), (59, 64, 'lifestyle'), (78, 84, 'vegetable'), (146, 150, 'dish'), (152, 155, 'ORDINAL'), (228, 232, 'dish'), (242, 247, 'lifestyle'), (269, 281, 'vegetable'), (289, 295, 'vegetable'), (300, 308, 'fruit'), (321, 326, 'dish'), (334, 340, 'dish'), (367, 377, 'dish'), (416, 426, 'dish')]}\n",
            "26 34 461\n",
            "47 51 461\n",
            "59 64 461\n",
            "78 84 461\n",
            "146 150 461\n",
            "152 155 461\n",
            "228 232 461\n",
            "242 247 461\n",
            "269 281 461\n",
            "289 295 461\n",
            "300 308 461\n",
            "321 326 461\n",
            "334 340 461\n",
            "367 377 461\n",
            "416 426 461\n",
            "I adore the Cajun spiced tofu here. They marinate, bread and fry it fresh and with the amount of traffic Avorush gets during lunch you can usually see all the prep work in action. I forgot the tahini today but super happy as usual with all my choices especially the spicy Bulgar and the beetroot hummus! 😍🥑💪🏽 {'entities': [(25, 29, 'dish'), (125, 130, 'meal'), (193, 199, 'dish'), (200, 205, 'DATE'), (272, 278, 'dish'), (287, 295, 'vegetable'), (296, 302, 'dish')]}\n",
            "25 29 308\n",
            "125 130 308\n",
            "193 199 308\n",
            "200 205 308\n",
            "272 278 308\n",
            "287 295 308\n",
            "296 302 308\n",
            "This was really yummy and nutritious! They label their vegan items; their quinoa was labelled vegetarian but they said it’s vegan so I got that. The beans were slightly spicy but not much which was great for me. I got beetroot with carrot yay for having healthy beet dishes! The beetroot hummus was amazing! The guac was my favorite part of all I just wish it was twice that amount! Find the serving quite small for $10, for that price I would expect something larger as I got hungry after 4 hours or so. Yay for having paper takeaway boxes but would like to see biodegradable cutlery. {'entities': [(55, 60, 'lifestyle'), (74, 80, 'dish'), (94, 104, 'lifestyle'), (124, 129, 'lifestyle'), (149, 154, 'vegetable'), (218, 226, 'vegetable'), (232, 238, 'vegetable'), (279, 287, 'vegetable'), (288, 294, 'dish'), (312, 316, 'dish')]}\n",
            "55 60 585\n",
            "74 80 585\n",
            "94 104 585\n",
            "124 129 585\n",
            "149 154 585\n",
            "218 226 585\n",
            "232 238 585\n",
            "279 287 585\n",
            "288 294 585\n",
            "312 316 585\n",
            "They have a special vegan base made of beans! Fresh broccoli and salsa mix as toppings, but the salsa made the plate too watery. Love the guac! {'entities': [(20, 25, 'lifestyle'), (39, 44, 'vegetable'), (52, 60, 'vegetable'), (65, 70, 'dish'), (96, 101, 'dish'), (138, 142, 'dish')]}\n",
            "20 25 143\n",
            "39 44 143\n",
            "52 60 143\n",
            "65 70 143\n",
            "96 101 143\n",
            "138 142 143\n",
            "I can’t stop raving about #avorush in 🇸🇬 I’ve probably been here a dozen times now and haven’t had a bad meal. The owner is super nice and has been consistently adding vegan options for the protein bowl and the sesame #panko crusted tofu is out of this world good! Today I got it with bulgar, broccoli, carrots and beets and some guacamole. All for S$10 which is a great deal downtown.\n",
            "\n",
            "#bestof #sgcbd #marinasquare {'entities': [(168, 173, 'lifestyle'), (211, 217, 'spice'), (233, 237, 'dish'), (265, 270, 'DATE'), (285, 291, 'dish'), (293, 301, 'vegetable'), (303, 310, 'vegetable'), (315, 320, 'vegetable'), (330, 339, 'dish')]}\n",
            "168 173 415\n",
            "211 217 415\n",
            "233 237 415\n",
            "265 270 415\n",
            "285 291 415\n",
            "293 301 415\n",
            "303 310 415\n",
            "315 320 415\n",
            "330 339 415\n",
            "The best part of this place is how fresh everything is! The sesame panko crusted tofu is such a treat and they always have great veggie options including stuff that’s marked vegan, although just a few options as most of the veggies are glazed in butter 🙄 I absolutely adore the little touches like bulgar wheat with corn and the homemade tahini! \n",
            "\n",
            "#asiasquare #sgcbd #bestof #healthyish @alyr think you will ❤️ this! 🐮🐥👍 {'entities': [(60, 66, 'spice'), (81, 85, 'dish'), (174, 179, 'lifestyle'), (246, 252, 'condiment'), (298, 304, 'dish'), (316, 320, 'vegetable'), (338, 344, 'dish')]}\n",
            "60 66 420\n",
            "81 85 420\n",
            "174 179 420\n",
            "246 252 420\n",
            "298 304 420\n",
            "316 320 420\n",
            "338 344 420\n",
            "A M A Z I N G as always! Broccoli, zucchini, avocado, bulgar, corn and sesame Pablo crusted fried tofu all topped with a delicious homemade tahini and sriracha blend. Was so damn good! 😎 #avocado #bowls #plates #asiasquare #sgcbd {'entities': [(25, 33, 'vegetable'), (35, 43, 'vegetable'), (45, 52, 'fruit'), (54, 60, 'dish'), (62, 66, 'vegetable'), (71, 77, 'spice'), (98, 102, 'dish'), (140, 146, 'dish'), (151, 159, 'condiment'), (188, 195, 'fruit')]}\n",
            "25 33 229\n",
            "35 43 229\n",
            "45 52 229\n",
            "54 60 229\n",
            "62 66 229\n",
            "71 77 229\n",
            "98 102 229\n",
            "140 146 229\n",
            "151 159 229\n",
            "188 195 229\n",
            "I love places where you can put a dish together from a bunch of options but the challenge with most places like this in Asia is quality ingredients. Not at Avorush. \n",
            "\n",
            "The pic speaks for itself. Panko crusted tofu, carrot hummus, perfect avocado, roasted zucchini all on top of some really deliciously seasoned bulgar. I don’t know how they do it but every time I come here it’s seriously the best #avocado in Singapore! 😘 {'entities': [(194, 199, 'dish'), (208, 212, 'dish'), (214, 220, 'vegetable'), (221, 227, 'dish'), (237, 244, 'fruit'), (254, 262, 'vegetable'), (310, 316, 'dish'), (398, 405, 'fruit'), (409, 418, 'GPE')]}\n",
            "194 199 421\n",
            "208 212 421\n",
            "214 220 421\n",
            "221 227 421\n",
            "237 244 421\n",
            "254 262 421\n",
            "310 316 421\n",
            "398 405 421\n",
            "409 418 421\n",
            "The vegan options to customize my salad are awesome! My base today was bulgar wheat & corn, and I got sesame roasted carrots, roasted beets & carrots, their delicious panko crusted fried tofu, freshly sliced avocado and topped it off with sesame tahini. All for $10. This was an awesome meal, definitely recommend #avorush if you want something healthy! {'entities': [(4, 9, 'lifestyle'), (34, 39, 'dish'), (61, 66, 'DATE'), (71, 77, 'dish'), (86, 90, 'vegetable'), (102, 108, 'spice'), (117, 124, 'vegetable'), (134, 139, 'vegetable'), (142, 149, 'vegetable'), (167, 172, 'dish'), (187, 191, 'dish'), (208, 215, 'fruit'), (239, 245, 'spice'), (246, 252, 'dish')]}\n",
            "4 9 353\n",
            "34 39 353\n",
            "61 66 353\n",
            "71 77 353\n",
            "86 90 353\n",
            "102 108 353\n",
            "117 124 353\n",
            "134 139 353\n",
            "142 149 353\n",
            "167 172 353\n",
            "187 191 353\n",
            "208 215 353\n",
            "239 245 353\n",
            "246 252 353\n",
            "Food is really tasty and healthy. You have everything in one plate. A quick and satisfied lunch! {'entities': [(57, 60, 'CARDINAL'), (90, 95, 'meal')]}\n",
            "57 60 96\n",
            "90 95 96\n",
            "Avorush once again! Just can't get enough of this place. Changed it up a bit this time - got the beetroot hummus, bulgur salad, broccoli and lemon vinaigrette. The combination of hummus and bulgur was incredible! 🤩 {'entities': [(97, 105, 'vegetable'), (106, 112, 'dish'), (114, 120, 'dish'), (121, 126, 'dish'), (128, 136, 'vegetable'), (141, 146, 'fruit'), (147, 158, 'condiment'), (179, 185, 'dish'), (190, 196, 'dish')]}\n",
            "97 105 214\n",
            "106 112 214\n",
            "114 120 214\n",
            "121 126 214\n",
            "128 136 214\n",
            "141 146 214\n",
            "147 158 214\n",
            "179 185 214\n",
            "190 196 214\n",
            "I give Avorush really high marks for their vegan options. Their vegan protein bowl (more like a plate) is loaded with sesame encrusted tofu and a choice of carbs and sides. Pictured here is quinoa along with roasted carrots, beets and avocado, with a really lovely tahini dressing. It’s a great dish for just $9 and will keep you going the rest of the day! {'entities': [(43, 48, 'lifestyle'), (64, 69, 'lifestyle'), (118, 124, 'spice'), (135, 139, 'dish'), (190, 196, 'dish'), (216, 223, 'vegetable'), (225, 230, 'vegetable'), (235, 242, 'fruit'), (265, 271, 'dish')]}\n",
            "43 48 356\n",
            "64 69 356\n",
            "118 124 356\n",
            "135 139 356\n",
            "190 196 356\n",
            "216 223 356\n",
            "225 230 356\n",
            "235 242 356\n",
            "265 271 356\n",
            "I did not like this. The spice mix was very strong, and my tastebuds were not used to it. Very dry despite dipping it in stuff. {'entities': []}\n",
            "Love the zaatar flatbread at Urban Bites on Singapore. The bread has a hearty sprinkling of dried thyme, olive oil and sesame seeds along with cherry tomatoes and arugula. A great dish perfect for those that want Lebanese “pizza” with a twist! {'entities': [(9, 15, 'condiment'), (16, 25, 'breadU_dish'), (44, 53, 'GPE'), (98, 103, 'herb'), (105, 114, 'condiment'), (119, 131, 'seed'), (143, 158, 'fruit'), (163, 170, 'vegetable'), (213, 221, 'NORP'), (223, 228, 'dish')]}\n",
            "9 15 243\n",
            "16 25 243\n",
            "44 53 243\n",
            "98 103 243\n",
            "105 114 243\n",
            "119 131 243\n",
            "143 158 243\n",
            "163 170 243\n",
            "213 221 243\n",
            "223 228 243\n",
            "Fresh coconut milk flavours and veggies retained some crunchyness. I guess this will appeal to Chinese tastebuds more as it’s more familiar. {'entities': [(6, 18, 'dish'), (95, 102, 'NORP')]}\n",
            "6 18 140\n",
            "95 102 140\n",
            "Lovely fresh tasting “Kerala Ishtu”(vegetable, non dairy stew) I had called and asked the restaurant before I ordered, they were accommodating to my questions and told me all the things I asked. {'entities': [(57, 61, 'dish')]}\n",
            "57 61 194\n",
            "Vegetable Ishtu is a classic Kerala style vegetable curry cooked in coconut milk. The curry is creamy yet light and can be mopped off your plate with some Idiyappam (string hoppers) or Appam (hoppers). Among the umpteen South Indian restaurants in Singapore that serve Tamilian cuisine, Mango Tree is a welcome change with dishes from the coastal region of India primarily Kerala with enough options for vegetarians and vegans. {'entities': [(52, 57, 'dish'), (68, 80, 'dish'), (86, 91, 'dish'), (155, 164, 'dish'), (185, 190, 'dish'), (226, 232, 'NORP'), (248, 257, 'GPE'), (287, 292, 'fruit'), (357, 362, 'GPE'), (404, 415, 'food_habit'), (420, 426, 'lifestyle')]}\n",
            "52 57 427\n",
            "68 80 427\n",
            "86 91 427\n",
            "155 164 427\n",
            "185 190 427\n",
            "226 232 427\n",
            "248 257 427\n",
            "287 292 427\n",
            "357 362 427\n",
            "404 415 427\n",
            "420 426 427\n",
            "The Avial at Mango Tree never disappoints, I have had countless bowls of this in the past years. The dish is made with fresh coconut and yoghurt, includes traditional South India vegetables like drumsticks and raw banana among a medley of other vegetables. Goes perfectly with some hot Appams (hoppers). {'entities': [(4, 9, 'dish'), (13, 18, 'fruit'), (125, 132, 'fruit'), (173, 178, 'GPE'), (214, 220, 'fruit')]}\n",
            "4 9 303\n",
            "13 18 303\n",
            "125 132 303\n",
            "173 178 303\n",
            "214 220 303\n",
            "This was a pleasant surprise. We had around an hour in Iceland between our tours and we came across this place. The falafel was nice and when we asked for it to be made spicy it was really spicy. The cost was around SGD 20 and ambience so so. Cheap compared to Iceland standards. {'entities': [(116, 123, 'dish')]}\n",
            "116 123 279\n",
            "Really unimpressive main dish which was practically the only vegan main course. Wasn’t served with anything to eat the beans with either. {'entities': [(61, 66, 'lifestyle'), (67, 78, 'meal'), (119, 124, 'vegetable')]}\n",
            "61 66 137\n",
            "67 78 137\n",
            "119 124 137\n",
            "Sometimes you just want to have an amazing bowl of pasta. This penne was cooked perfectly al-dente and loaded with garlic. The portion size was also really good. For $23 I think it was an ok value but worth it for the overall quality and for a nice evening out with friends. And vegan! {'entities': [(51, 56, 'dish'), (63, 68, 'dish'), (115, 121, 'spice'), (279, 284, 'lifestyle')]}\n",
            "51 56 285\n",
            "63 68 285\n",
            "115 121 285\n",
            "279 284 285\n",
            "Couscous' wraps are big! The ingredients barely fit in the wraps! The delicious patty was made of a mixture of cooked beetroot and feta. They included lettuce for some crunch and, best of all, fresh avocado and mango for a burst of flavour. Yum! {'entities': [(0, 8, 'dish'), (10, 15, 'dish'), (59, 64, 'dish'), (80, 85, 'dish'), (118, 126, 'vegetable'), (131, 135, 'dish'), (151, 158, 'vegetable'), (199, 206, 'fruit'), (211, 216, 'fruit')]}\n",
            "0 8 245\n",
            "10 15 245\n",
            "59 64 245\n",
            "80 85 245\n",
            "118 126 245\n",
            "131 135 245\n",
            "151 158 245\n",
            "199 206 245\n",
            "211 216 245\n",
            "Flavourful ! Lots of other good food options available at RealFood menu {'entities': [(58, 66, 'ORG')]}\n",
            "58 66 71\n",
            "Absolutely wonderful beetroot burger with a freshly made patty and delicious freshly cut ingredients like avocado, tomatoes, and mixed greens. The burgers come with two sides. I chose the baked beans and crispy potatoes. Both were surprisingly good. The beans were a melange of different beans and the potatoes included delicious sweet potato! An awesome deal for around $10! {'entities': [(21, 29, 'vegetable'), (30, 36, 'dish'), (57, 62, 'dish'), (106, 113, 'fruit'), (115, 123, 'fruit'), (135, 141, 'vegetable'), (147, 154, 'dish'), (165, 168, 'CARDINAL'), (188, 199, 'dish'), (211, 219, 'vegetable'), (254, 259, 'vegetable'), (288, 293, 'vegetable'), (302, 310, 'vegetable'), (330, 342, 'vegetable')]}\n",
            "21 29 375\n",
            "30 36 375\n",
            "57 62 375\n",
            "106 113 375\n",
            "115 123 375\n",
            "135 141 375\n",
            "147 154 375\n",
            "165 168 375\n",
            "188 199 375\n",
            "211 219 375\n",
            "254 259 375\n",
            "288 293 375\n",
            "302 310 375\n",
            "330 342 375\n",
            "I like this dish! It was interesting and very fulfilling. Apparently I couldn’t finished it. Eating a plant-based meal surprisingly makes you feel full faster and longer rather than eating meat. Plus it’s very healthy and nutritious too! Yummm! {'entities': [(189, 193, 'dish')]}\n",
            "189 193 244\n",
            "The freshness of the raw zucchini spaghetti in this dish was perfectly matched with the creamy coconut and mushroom sauce. Vegan 'meatballs' are a great addition if you're looking to satisfy a larger appetite. The nut parmesan scattered over the top offered a sharper taste and really lifted the flavor of the entire dish. I really enjoyed this healthy version of a traditional Italian meal. {'entities': [(25, 33, 'vegetable'), (34, 43, 'dish'), (95, 102, 'fruit'), (107, 121, 'condiment'), (123, 128, 'lifestyle'), (218, 226, 'dish'), (378, 385, 'NORP')]}\n",
            "25 33 391\n",
            "34 43 391\n",
            "95 102 391\n",
            "107 121 391\n",
            "123 128 391\n",
            "218 226 391\n",
            "378 385 391\n",
            "Good value for money, above average quality American-Mexican food. Nothing amazing or unique about them, but the portions were plentiful. {'entities': [(53, 60, 'NORP')]}\n",
            "53 60 137\n",
            "The presentation is an absolute winner. The sourdough was nice and eggs cooked well. I would have liked a little more spices in the smashed avo {'entities': [(44, 53, 'bread'), (67, 71, 'dish')]}\n",
            "44 53 143\n",
            "67 71 143\n",
            "Taste explosion in every bite. This dish was exactly as described, perfect balance of cream & pancake to the sweet ice cream, chocolate & honeycomb. Expect a sugar high, but that's the dish. {'entities': [(115, 124, 'dish'), (158, 163, 'condiment')]}\n",
            "115 124 190\n",
            "158 163 190\n",
            "The redeeming aspects of this dish were the spinach and the verde salsa on top of the enchiladas. The pinto beans and rice on the side were stale. {'entities': [(44, 51, 'vegetable'), (66, 71, 'dish'), (108, 113, 'vegetable'), (118, 122, 'dish')]}\n",
            "44 51 146\n",
            "66 71 146\n",
            "108 113 146\n",
            "118 122 146\n",
            "Simple yet tasty flavours complimented by the perfectly cooked pastry. Unique presentation with the squash as the base of the pie. {'entities': [(100, 106, 'vegetable')]}\n",
            "100 106 130\n",
            "Breakfast for lunch? Don’t mind if I do 😋 I LOVE Refinery’s Vegetarian Breakfast. It’s a hearty plate of of grilled tomatoes, portobello mushrooms, espresso baked beans, scrambled eggs, and lettuce 🥗 My favorite component is the espresso baked beans, which are rich and earthy, soft but not mushy, and oh so comforting. The same goes for everything else in this dish. I love finding restaurants that make eating healthy easy, enjoyable, and something to look forward to! {'entities': [(0, 9, 'meal'), (14, 19, 'meal'), (60, 70, 'lifestyle'), (71, 80, 'meal'), (116, 124, 'fruit'), (126, 146, 'vegetable'), (148, 156, 'dish'), (157, 168, 'dish'), (170, 184, 'dish'), (190, 197, 'vegetable'), (229, 237, 'dish'), (238, 249, 'dish')]}\n",
            "0 9 470\n",
            "14 19 470\n",
            "60 70 470\n",
            "71 80 470\n",
            "116 124 470\n",
            "126 146 470\n",
            "148 156 470\n",
            "157 168 470\n",
            "170 184 470\n",
            "190 197 470\n",
            "229 237 470\n",
            "238 249 470\n",
            "An all-time favourite! I love how soft and chewy these dumplings are, and also full of flavour 😋 I never touch the sauce because this tongue of mine can’t take any level of spicy {'entities': [(55, 64, 'dish'), (115, 120, 'condiment')]}\n",
            "55 64 178\n",
            "115 120 178\n",
            "Finally got to try these! Good starter and great for sharing in a big group. I liked the dumplings but the chilli sauce could be better. {'entities': [(31, 38, 'meal'), (89, 98, 'dish'), (114, 119, 'condiment')]}\n",
            "31 38 136\n",
            "89 98 136\n",
            "114 119 136\n",
            "The dish is tasty! Totally recommended. Good for starter. {'entities': [(49, 56, 'meal')]}\n",
            "49 56 57\n",
            "Yummy.\n",
            "Its filling yet light.will go for more.\n",
            "Unique taste {'entities': []}\n",
            "Handmade goodness. Who doesn’t like dumplings..... {'entities': [(36, 45, 'dish')]}\n",
            "36 45 50\n",
            "My favourite dish at Real Food! I could eat a thousand hahah I like the chewy texture and light sauce {'entities': [(21, 30, 'ORG'), (96, 101, 'condiment')]}\n",
            "21 30 101\n",
            "96 101 101\n",
            "Their signature dumplings freshly steamed and drizzled with organic sesame oil and tamari. Can also be fried with a golden crisp. Contains soy. Very tasty little morsels! {'entities': [(16, 25, 'dish'), (68, 74, 'spice'), (123, 128, 'dish')]}\n",
            "16 25 170\n",
            "68 74 170\n",
            "123 128 170\n",
            "The mushrooms taste was powerfUL and have it while its hot plox!! The chilli goes really well tgt {'entities': [(4, 13, 'vegetable')]}\n",
            "4 13 97\n",
            "They’re big and generous with filling. Very tasty and seem to be made fresh. I don’t love the chilli it came with but it’s still a good option.\n",
            "I would recommend it to share\n",
            "#appetiser {'entities': [(175, 184, 'meal')]}\n",
            "175 184 184\n",
            "Perfectly steamed dumplings with a meaty filling! The sauce is the perfect pairing - not too spicy but flavourful enough to lift the whole dish up.\n",
            "\n",
            "#animalplace #dumplings {'entities': [(18, 27, 'dish'), (54, 59, 'condiment'), (163, 172, 'dish')]}\n",
            "18 27 172\n",
            "54 59 172\n",
            "163 172 172\n",
            "Steamed soy chunk taste with spicy sauce n served warm {'entities': [(29, 40, 'condiment')]}\n",
            "29 40 54\n",
            "Love these steam dumplings full of flavor. Well cooked. This is a must try from the menu! Only wish there was GF version {'entities': [(17, 26, 'dish')]}\n",
            "17 26 120\n",
            "Good cantonese style #dumplings filled with mushrooms, carrots, water chestnuts. Natural and clean taste. Excellent chilli, although I prefer my dumplings to have homemade skin. Their skin used is too soft and sometimes fragile and breaks too easily just like my heart hohoho. #sgeats {'entities': [(22, 31, 'dish'), (44, 53, 'vegetable'), (55, 62, 'vegetable'), (145, 154, 'dish')]}\n",
            "22 31 284\n",
            "44 53 284\n",
            "55 62 284\n",
            "145 154 284\n",
            "Real Food’s handmade dumplings are served in various ways. Their dumplings contain no less than 10 ingredients and are freshly prepared everyday.\n",
            "Eat them as a snack or appetiser just as dumplings with a chili paste or dunked in a clear soup with carrot and pak choy or as a main with noodles and vegetables. I usually eat them in their soup but enjoy them as a snack once in awhile. The little drizzle of sesame oil and soy sauce give much needed moisture to the dumplings. {'entities': [(21, 30, 'dish'), (65, 74, 'dish'), (169, 178, 'meal'), (187, 196, 'dish'), (204, 209, 'fruit'), (237, 241, 'dish'), (247, 253, 'vegetable'), (285, 292, 'dish'), (337, 341, 'dish'), (406, 412, 'spice'), (421, 430, 'condiment'), (464, 473, 'dish')]}\n",
            "21 30 474\n",
            "65 74 474\n",
            "169 178 474\n",
            "187 196 474\n",
            "204 209 474\n",
            "237 241 474\n",
            "247 253 474\n",
            "285 292 474\n",
            "337 341 474\n",
            "406 412 474\n",
            "421 430 474\n",
            "464 473 474\n",
            "The dish was very flavorful and nice. The restaurant perfectly understood vegetarian requirement and told us not to have green curry as that has shrimp paste. This is the first time we tried Matsaman curry and we really enjoyed the dish. {'entities': [(74, 84, 'lifestyle'), (121, 132, 'dish'), (145, 151, 'dish'), (171, 176, 'ORDINAL'), (200, 205, 'dish')]}\n",
            "74 84 237\n",
            "121 132 237\n",
            "145 151 237\n",
            "171 176 237\n",
            "200 205 237\n",
            "We have always had Tom Kha as a soup but this cane with rice on the side. We enjoyed the dish and again the flavors were all very nice and pronounced. {'entities': [(32, 36, 'dish'), (56, 60, 'dish')]}\n",
            "32 36 150\n",
            "56 60 150\n",
            "Just a run of the mill dish and we personally did not enjoy it much but the kids loved it. The cashews were a good addition {'entities': [(95, 102, 'seed')]}\n",
            "95 102 123\n",
            "Vitality Bowls is a fast casual superfood chain specialising in acai smoothies and bowls in over ten flavours. I got the pumpkin acai seasonal special, advertised being served in a carved out pumpkin (how cute is that?!) However I was disappointed it was served in a regular squarish metal bowl. \n",
            "\n",
            "Serveware quibble aside, the taste and the texture of the acai was on point – thick and smooth without being plagued by ice crystals. The pumpkin bowl was a blend of organic raw pumpkin, acai, almond milk, strawberry, banana and cinnamon. You couldn’t really taste the pumpkin in the mix though. It was topped with lightly sweetened hemp/flax granola, banana, strawberries, sprouted pumpkin seeds and nutmeg. It was the spices (cinnamon and nutmeg) that gave the bowl its main flavour. At $13 a bowl, it's on the pricey side, but the portion was generous and the medium size bowl very filling. {'entities': [(64, 68, 'dish'), (97, 100, 'CARDINAL'), (121, 128, 'vegetable'), (129, 133, 'dish'), (192, 199, 'vegetable'), (356, 360, 'dish'), (436, 443, 'vegetable'), (476, 483, 'vegetable'), (485, 489, 'dish'), (491, 502, 'dish'), (504, 514, 'fruit'), (516, 522, 'fruit'), (527, 535, 'spice'), (567, 574, 'vegetable'), (631, 635, 'herb'), (641, 648, 'dish'), (650, 656, 'fruit'), (681, 694, 'seed'), (699, 705, 'spice'), (726, 734, 'spice'), (739, 745, 'spice')]}\n",
            "64 68 891\n",
            "97 100 891\n",
            "121 128 891\n",
            "129 133 891\n",
            "192 199 891\n",
            "356 360 891\n",
            "436 443 891\n",
            "476 483 891\n",
            "485 489 891\n",
            "491 502 891\n",
            "504 514 891\n",
            "516 522 891\n",
            "527 535 891\n",
            "567 574 891\n",
            "631 635 891\n",
            "641 648 891\n",
            "650 656 891\n",
            "681 694 891\n",
            "699 705 891\n",
            "726 734 891\n",
            "739 745 891\n",
            "Horrible service and lousy or so so food at best. High on turmeric. Will not want to repeat this overpriced restaurant with little or no service again. {'entities': [(58, 66, 'spice')]}\n",
            "58 66 151\n",
            "This dish like the other dishes was not too good. The service or the lack of it was obvious, maybe racist considering the fact that there were Indian hostess in the restaurant. The dal was very average and the restaurant over priced {'entities': [(143, 149, 'NORP'), (181, 184, 'dish')]}\n",
            "143 149 232\n",
            "181 184 232\n",
            "Please read the review of my other dishes as well. Oily and heavy on turmeric and lack of service in the restaurant. Pricey and I think you can easily give it a miss. The restaurant is highly rated on TripAdvisor though. We had better cheaper vegetarian food at a falafel restaurant {'entities': [(69, 77, 'spice'), (201, 212, 'ORG'), (243, 253, 'lifestyle'), (264, 271, 'dish')]}\n",
            "69 77 282\n",
            "201 212 282\n",
            "243 253 282\n",
            "264 271 282\n",
            "This takes acai bowls to the next level because it is served in a coconut bowl - you can even dig the coconut flesh out with your spoon to be enjoyed with the rest of the smoothie bowl. Tastes as good as it looks and even though this was the most expensive smoothie bowl on the menu (75K rupiah), it is still pretty good value when compared with other acai bowls back home in Singapore, especially for the quantity and quality of ingredients used! {'entities': [(11, 15, 'dish'), (66, 73, 'fruit'), (102, 109, 'fruit'), (171, 179, 'dishU_beverage'), (257, 265, 'dishU_beverage'), (352, 356, 'dish'), (376, 385, 'GPE')]}\n",
            "11 15 447\n",
            "66 73 447\n",
            "102 109 447\n",
            "171 179 447\n",
            "257 265 447\n",
            "352 356 447\n",
            "376 385 447\n",
            "Caramelised french toast with banana flambe, maple syrup, strawberries and organic butter. It's part of the cafe's all-day breakfast menu and is so yummy! The toast was not too soggy and the flambed banana was especially good, went really well with the strawberries. Good value for money as the same dish at a cafe in Singapore would easily be at least double the price. If I had to nitpick on anything, it would be that the strawberries are a little anaemic-looking and could be sweeter. {'entities': [(12, 24, 'dish'), (30, 36, 'fruit'), (45, 56, 'dish'), (83, 89, 'condiment'), (123, 132, 'meal'), (199, 205, 'fruit'), (318, 327, 'GPE')]}\n",
            "12 24 488\n",
            "30 36 488\n",
            "45 56 488\n",
            "83 89 488\n",
            "123 132 488\n",
            "199 205 488\n",
            "318 327 488\n",
            "Really nice with just oil and salt. The Chef was saying that these peppers are imported. Sat at the far end of the bar counter as recommended by Vikas. Loved it. {'entities': [(30, 34, 'condiment'), (67, 74, 'condiment')]}\n",
            "30 34 161\n",
            "67 74 161\n",
            "If you’re going to go to FOC you have to get these peppers. They’re amazing. {'entities': [(51, 58, 'condiment')]}\n",
            "51 58 76\n",
            "Looked good and tasted even better. Citrousy and spicy. Maybe a bit too oily that is why I don’t give it top marks in taste {'entities': []}\n",
            "Very well grilled in a coal fired oven. All the dishes are sinful as there is too much oil but then that’s what gets the taste. Really enjoyed the place {'entities': []}\n",
            "Absolutely delicious dish of roasted cauliflower that had the perfect blend of citrus and salt and a sprinkling of pine nuts and other herbs and spices. The dish was served with a tomato and garlic pesto and it all came together perfectly! Highly recommend, just ask for it without cheese like I did for the vegan version. {'entities': [(37, 48, 'vegetable'), (90, 94, 'condiment'), (135, 140, 'condiment'), (180, 186, 'fruit'), (191, 197, 'spice'), (198, 203, 'dish'), (282, 288, 'dish'), (308, 313, 'lifestyle')]}\n",
            "37 48 322\n",
            "90 94 322\n",
            "135 140 322\n",
            "180 186 322\n",
            "191 197 322\n",
            "198 203 322\n",
            "282 288 322\n",
            "308 313 322\n",
            "Beautiful, delicious. You may not want to share them.. {'entities': [(26, 29, 'DATE')]}\n",
            "26 29 54\n",
            "The Jack fruit in these tacos is marinated, making the filling tender and sweet. The salsa added a different texture with bursts of flavour that went well with the sweet corn, fresh coriander and zingy red cabbage. The jalapenos are a great addition to up the heat factor! {'entities': [(24, 29, 'dish'), (85, 90, 'dish'), (170, 174, 'vegetable'), (182, 191, 'herb'), (206, 213, 'vegetable')]}\n",
            "24 29 272\n",
            "85 90 272\n",
            "170 174 272\n",
            "182 191 272\n",
            "206 213 272\n",
            "A bowl of freshness! A mix of lovely topical fruits was exactly what my taste buds needed on a hot day. The touch of honey and sprinkling of almonds added both to the flavour and texture of the dish as a whole. The extra touch of beautiful presentation makes this smoothie bowl a real treat. {'entities': [(141, 148, 'seed'), (264, 272, 'dishU_beverage')]}\n",
            "141 148 291\n",
            "264 272 291\n",
            "These little gems of sweet potato gnocchi were so moreish. The sautéed kale was soft and went well the creamy sauce, which was made with cashews and a touch of citrus.  A great combination of flavours and textures, this dish was both visually appealing and tasty. {'entities': [(21, 33, 'vegetable'), (34, 41, 'dish'), (71, 75, 'vegetable'), (110, 115, 'condiment'), (137, 144, 'seed')]}\n",
            "21 33 263\n",
            "34 41 263\n",
            "71 75 263\n",
            "110 115 263\n",
            "137 144 263\n",
            "Café Couscous lets you order most dishes either as a burger, wrap or naked. I love the wraps and decided to select from their specials menu. This wrap had just the right amount of salty grilled halloumi. It didn't overpower the other ingredients including the cooked eggplant and roasted tomatoes. All topped off with sautéed onions and a drizzle of flavoursome mayo. Delicious. {'entities': [(5, 13, 'dish'), (53, 59, 'dish'), (87, 92, 'dish'), (194, 202, 'dish'), (267, 275, 'vegetable'), (288, 296, 'fruit'), (326, 332, 'vegetable'), (362, 366, 'condiment')]}\n",
            "5 13 378\n",
            "53 59 378\n",
            "87 92 378\n",
            "194 202 378\n",
            "267 275 378\n",
            "288 296 378\n",
            "326 332 378\n",
            "362 366 378\n",
            "Light fluffy cheesecake with a nice tinge of citrus as an aftertaste! Cake tasted fresh and was a delicious dessert. Would have preferred for a stronger cheese flavour as the citrus proved a little overwhelming. Comes in slices or a whole cake! {'entities': [(108, 115, 'meal'), (153, 159, 'dish')]}\n",
            "108 115 244\n",
            "153 159 244\n",
            "As I wasn't the person who bought this cake, I was expecting it to be a normal cheesecake so the taste of yuzu took me by surprise. Although unexpected, it was still a welcome addition as it made the cheesecake taste so light and refreshing! A good twist on the usual cheesecakes which I find to be a bit too rich and heavy sometimes. (Disclaimer: Hamster not included.) {'entities': [(39, 43, 'pastry'), (79, 89, 'pastry'), (106, 110, 'spice'), (200, 210, 'pastry')]}\n",
            "39 43 370\n",
            "79 89 370\n",
            "106 110 370\n",
            "200 210 370\n",
            "The first thing that caught my attention was the super cute chocolate santa star sitting atop the tart! Too cute to eat 😍 The tart itself was alright, although I found the pastry base to be a little on the hard side. I also wish there was more of the chestnut cream (which was only on the outside, the inside of it is all whipped cream)! Or maybe I'm just greedy 😛 {'entities': [(4, 9, 'ORDINAL')]}\n",
            "4 9 364\n",
            "This red glossy raspberry mousse cake is to die for! It has this super creamy soft mousse that has a hint of brandy. But the fresh sweet and tangy raspberry aftertaste makes it flavoursome. Will surely go for it again! {'entities': [(16, 25, 'fruit'), (26, 32, 'dish'), (33, 37, 'pastry'), (83, 89, 'dish'), (109, 115, 'dish'), (147, 156, 'fruit')]}\n",
            "16 25 218\n",
            "26 32 218\n",
            "33 37 218\n",
            "83 89 218\n",
            "109 115 218\n",
            "147 156 218\n",
            "I’ve tried lemon cheesecake many times but never had one made with yuzu. The cake was certainly fluffy and light but missed that slightly tangy taste. I felt like my pallate was searching for that lemon flavour throughout and so didn’t feel fully satisfied. But maybe that’s just my preference. {'entities': [(11, 16, 'fruit'), (17, 27, 'pastry'), (53, 56, 'CARDINAL'), (67, 71, 'spice'), (77, 81, 'pastry'), (197, 202, 'fruit')]}\n",
            "11 16 294\n",
            "17 27 294\n",
            "53 56 294\n",
            "67 71 294\n",
            "77 81 294\n",
            "197 202 294\n",
            "A good hot meal. The dal was nicely flavored but felt like it was missing something, lentils and sauce we're good consistency. The rice was just okay too. Last time I had dal it was an amazing authentic and homemade experience so this wasnt quite on that level but still I finished my entire serving and would be interested to try some of their other veg options if we make it back. {'entities': [(21, 24, 'dish'), (85, 92, 'vegetable'), (97, 102, 'condiment'), (131, 135, 'dish'), (155, 159, 'ORDINAL'), (171, 174, 'dish')]}\n",
            "21 24 382\n",
            "85 92 382\n",
            "97 102 382\n",
            "131 135 382\n",
            "155 159 382\n",
            "171 174 382\n",
            "I was looking for the veggies it was supposed to have in it besides the zucchini. It was pretty much just loaded with squash, didn't really experience any tomato, grilled onions and the grilled peppers definitely weren't specifically grilled for this dish, they're more like roasted red peppers from a jar. The wrap was okay, the pesto aioli added decent flavor. I chose the pasta salad as a side, it wasn't exciting either. The pita chips that were served with the dish added no value or flavor. {'entities': [(72, 80, 'vegetable'), (118, 124, 'vegetable'), (155, 161, 'fruit'), (171, 177, 'vegetable'), (194, 201, 'condiment'), (283, 294, 'vegetable'), (330, 335, 'dish'), (336, 341, 'dish'), (375, 386, 'dish'), (429, 433, 'bread'), (434, 439, 'dish')]}\n",
            "72 80 496\n",
            "118 124 496\n",
            "155 161 496\n",
            "171 177 496\n",
            "194 201 496\n",
            "283 294 496\n",
            "330 335 496\n",
            "336 341 496\n",
            "375 386 496\n",
            "429 433 496\n",
            "434 439 496\n",
            "We had practically all the vegetarian dishes that this place had to offer. This was more like a tapas restaurant and each dish was small so 1 person would need around 3-4 dishes. This is 2 different types of tacos and we found the leek and soot one really good. Enjoyed the food a lot and the ambience was fantastic. Definitely worth a visit and very lovely atmosphere. This was a fusion restaurant with Mexican food. {'entities': [(27, 37, 'lifestyle'), (96, 101, 'dish'), (140, 141, 'CARDINAL'), (208, 213, 'dish'), (231, 235, 'vegetable'), (245, 248, 'CARDINAL'), (404, 411, 'NORP')]}\n",
            "27 37 417\n",
            "96 101 417\n",
            "140 141 417\n",
            "208 213 417\n",
            "231 235 417\n",
            "245 248 417\n",
            "404 411 417\n",
            "Again we asked for all vegetarian options and each dish had 2 small rolls and all were amazing. By itself the dishes are reasonable but you need atleast 3-4 dishes for filling up. {'entities': [(23, 33, 'lifestyle')]}\n",
            "23 33 179\n",
            "Very nice and fresh salad with beet root and other ingredients. We enjoyed the dish a lot. I found the place very happening and worth a visit {'entities': [(20, 25, 'dish'), (31, 35, 'vegetable')]}\n",
            "20 25 141\n",
            "31 35 141\n",
            "Good old nachos and the salsa was ok but guacamole was good. We felt the quantity was good and we shd have stuck to one portion. {'entities': [(9, 15, 'dish'), (24, 29, 'dish'), (41, 50, 'dish'), (116, 119, 'CARDINAL')]}\n",
            "9 15 128\n",
            "24 29 128\n",
            "41 50 128\n",
            "116 119 128\n",
            "This is a hearty, flavourful burrito that really hits the spot when you are craving for delicious Mexican food. With flavors like these, meat eaters won't even care that this is a vegan dish! \n",
            "\n",
            "Also, their sweet potato fries are some of the best out there as they are fried in a batter and this creates a really nice, crunchy texture. {'entities': [(29, 36, 'dish'), (98, 105, 'NORP'), (137, 148, 'food_habit'), (180, 185, 'lifestyle'), (206, 224, 'dish')]}\n",
            "29 36 334\n",
            "98 105 334\n",
            "137 148 334\n",
            "180 185 334\n",
            "206 224 334\n",
            "Creamy burrata with zucchini, Thai basil pesto and topped with curry leaves. I LOVE burrata and will never pass up the chance to order it if I see it on the menu. Unfortunately, this was not among the better ones I've had. The Thai basil pesto was too salty and completely overpowered the taste of the burrata. The zucchinis were interesting though, as they tasted slightly pickled and were cut into little hemispheres so I initially mistook them for grapes. I also found this dish to be a little pricey at SGD 21, for the portion size :( {'entities': [(7, 14, 'dish'), (20, 28, 'vegetable'), (30, 40, 'herb'), (41, 46, 'dish'), (63, 68, 'dish'), (84, 91, 'dish'), (227, 237, 'herb'), (238, 243, 'dish'), (302, 309, 'dish')]}\n",
            "7 14 538\n",
            "20 28 538\n",
            "30 40 538\n",
            "41 46 538\n",
            "63 68 538\n",
            "84 91 538\n",
            "227 237 538\n",
            "238 243 538\n",
            "302 309 538\n",
            "crisp on the outside and soft inside. Could have done with more spice and flavour though. The accompanying dip is made with yoghurt so doesn't qualify for vegan otherwise the falafel by itself would. {'entities': [(0, 5, 'dish'), (155, 160, 'lifestyle'), (175, 182, 'dish')]}\n",
            "0 5 199\n",
            "155 160 199\n",
            "175 182 199\n",
            "A classic North Indian dish, done well every time.  The bindi is cooked nicely and well spiced, never too oily.  K&C is consistently good.  They can also accommodate no ghee use! {'entities': [(16, 22, 'NORP')]}\n",
            "16 22 178\n",
            "This bindi was done to perfection, and nicely spiced and not too heavily oiled, which I always appreciate with Indian food.  The quality and K&C is also very consistent.  The dish is presented in a nice metal serving bowl, which is quite charming. {'entities': [(5, 10, 'vegetable'), (111, 117, 'NORP')]}\n",
            "5 10 247\n",
            "111 117 247\n",
            "The soup was served hot and it was presented well. The taste was authentic and the coconut added a great flavor. {'entities': [(4, 8, 'dish'), (83, 90, 'fruit')]}\n",
            "4 8 112\n",
            "83 90 112\n",
            "The ma po tofu can be vegan on demand, with different levels of spiciness. It could have more Sichuan peppercorn flavor for my taste, but great option overall. {'entities': [(10, 14, 'dish'), (22, 27, 'lifestyle'), (94, 101, 'GPE')]}\n",
            "10 14 159\n",
            "22 27 159\n",
            "94 101 159\n",
            "Definitely my favorite dish at Kebabs & Curries. Spicy, fragrant, just the right amount of mango powder and gravy and piping hot. I love the fresh ginger and onion on top!\n",
            "\n",
            "#kebabscurries #mustafacentre #littleindiasg #channa #bestof #healthyish {'entities': [(31, 37, 'dish'), (91, 96, 'fruit'), (147, 153, 'spice'), (158, 163, 'vegetable')]}\n",
            "31 37 245\n",
            "91 96 245\n",
            "147 153 245\n",
            "158 163 245\n",
            "I cannot help but love coming back to Kebabs & Curries at Mustafa Centre for their amazing channa masala. Made “peshawari” style, this North Indian dish is absolutely exquisite. It has the perfect balance of spices and just a touch of gravy but overall this is a drier curry that’s best with bread or rice. One of my favorite Indian dishes and Kebabs & Curries is one of the best. {'entities': [(38, 44, 'dish'), (141, 147, 'NORP'), (269, 274, 'dish'), (301, 305, 'dish'), (307, 310, 'CARDINAL'), (326, 332, 'NORP'), (344, 350, 'dish'), (364, 367, 'CARDINAL')]}\n",
            "38 44 380\n",
            "141 147 380\n",
            "269 274 380\n",
            "301 305 380\n",
            "307 310 380\n",
            "326 332 380\n",
            "344 350 380\n",
            "364 367 380\n",
            "Ok so this is super fried but sometimes I just gotta get this because it’s so damn good! Battered cauliflower thats crunchy on the outside and soft inside. Served with tangy green chutney and lime! Love it 😍 {'entities': [(98, 109, 'vegetable'), (180, 187, 'dish')]}\n",
            "98 109 207\n",
            "180 187 207\n",
            "All I can say is WOW!!! The staff at Kebabs & Curries told me about this special off menu dish and it was amazing! Think light battered and flash fried cauliflower florets with a ton of chaat masala and drenched in lime juice. {'entities': [(37, 43, 'dish'), (152, 163, 'vegetable'), (186, 198, 'condiment'), (215, 225, 'dish')]}\n",
            "37 43 226\n",
            "152 163 226\n",
            "186 198 226\n",
            "215 225 226\n",
            "WINNING! This was the burger of my dreams!! So in love with their vegan focused menu. The service was incredible! Good vibes all around from the staff, and the $5 meal top up was a generous serving of both sides and drinks 🥰 {'entities': [(22, 28, 'dish'), (66, 71, 'lifestyle')]}\n",
            "22 28 224\n",
            "66 71 224\n",
            "Soft sourdough and a delicious patty! Those sweet potato fries tho—yummylicious! Their lunch deal with a side and drink for an additional @$5 is super economical and really fills you up. {'entities': [(5, 14, 'bread'), (31, 36, 'dish'), (44, 62, 'dish'), (87, 92, 'meal')]}\n",
            "5 14 186\n",
            "31 36 186\n",
            "44 62 186\n",
            "87 92 186\n",
            "I love that the restaurant has a good range of vegan options. I just think that the patties can be worked on, the crust were thick and the filling was quite mushy, almost like a croquette, i wld like to look forward to something more firm to bite into, like a “chicken” patty. {'entities': [(47, 52, 'lifestyle'), (84, 91, 'dish'), (178, 187, 'dish'), (261, 268, 'dish'), (270, 275, 'dish')]}\n",
            "47 52 276\n",
            "84 91 276\n",
            "178 187 276\n",
            "261 268 276\n",
            "270 275 276\n",
            "Several vegetarian and 4 vegan burgers on the menu! \n",
            "The 'Kutscher' was very tasty with just a bit of spice. Patty itself was made of veggies and quinoa (i'm guessing) compared to the other wheat based vegan burgers and included some grilled veggies besides the usual lettuce ,tomato and onion. Burger bun as also pretty good and you get to choose between multi-grain and sourdough.\n",
            "Overall a great vegan burger which l would definitely order again. \n",
            "The side dish on the picture is a cabbage salad with Potato dressing..also very nice. {'entities': [(8, 18, 'lifestyle'), (25, 30, 'lifestyle'), (31, 38, 'dish'), (109, 114, 'dish'), (146, 152, 'dish'), (202, 207, 'lifestyle'), (208, 215, 'dish'), (268, 275, 'vegetable'), (277, 283, 'fruit'), (288, 293, 'vegetable'), (295, 301, 'dish'), (372, 381, 'bread'), (399, 404, 'lifestyle'), (405, 411, 'dish'), (455, 464, 'meal'), (485, 492, 'vegetable'), (493, 498, 'dish'), (504, 510, 'vegetable')]}\n",
            "8 18 536\n",
            "25 30 536\n",
            "31 38 536\n",
            "109 114 536\n",
            "146 152 536\n",
            "202 207 536\n",
            "208 215 536\n",
            "268 275 536\n",
            "277 283 536\n",
            "288 293 536\n",
            "295 301 536\n",
            "372 381 536\n",
            "399 404 536\n",
            "405 411 536\n",
            "455 464 536\n",
            "485 492 536\n",
            "493 498 536\n",
            "504 510 536\n",
            "No sugar in the buns is a plus point. Also the birch trees are great. There are four vegan sauces to put on the burgers n fries. #crfsg {'entities': [(3, 8, 'condiment'), (80, 84, 'CARDINAL'), (85, 90, 'lifestyle'), (112, 119, 'dish'), (122, 127, 'dish')]}\n",
            "3 8 135\n",
            "80 84 135\n",
            "85 90 135\n",
            "112 119 135\n",
            "122 127 135\n",
            "This dish was a terrible disappointment. The restaurant said they’d make a vegan version of their usual meat based rolls. All that was left is rice and some greens in the rubbery rice paper rolls with absolutely no flavour or innovation. {'entities': [(75, 80, 'lifestyle'), (104, 108, 'dish'), (143, 147, 'dish'), (157, 163, 'vegetable'), (179, 183, 'dish')]}\n",
            "75 80 237\n",
            "104 108 237\n",
            "143 147 237\n",
            "157 163 237\n",
            "179 183 237\n",
            "Great fresh salad of Pomelo, fresh and fried onions and peanuts. The flavours of mildly sweet and citrusy Pomelo went perfectly with the onions and peanuts. The side of baked rice and sesame crackers was a  perfect healthy compliment to the salad. {'entities': [(12, 17, 'dish'), (21, 27, 'fruit'), (45, 51, 'vegetable'), (56, 63, 'seed'), (106, 112, 'fruit'), (137, 143, 'vegetable'), (148, 155, 'seed'), (175, 179, 'dish'), (184, 190, 'spice'), (241, 246, 'dish')]}\n",
            "12 17 247\n",
            "21 27 247\n",
            "45 51 247\n",
            "56 63 247\n",
            "106 112 247\n",
            "137 143 247\n",
            "148 155 247\n",
            "175 179 247\n",
            "184 190 247\n",
            "241 246 247\n",
            "This was one of the best pizzas in Singapore that I’ve had lately. The crust wasn’t thin and chewy with the perfect amount of char. The tomato sauce was nicely tangy...could have had a little more cheese but was still delicious! {'entities': [(9, 12, 'CARDINAL'), (25, 31, 'dish'), (35, 44, 'GPE'), (136, 148, 'condiment'), (197, 203, 'dish')]}\n",
            "9 12 228\n",
            "25 31 228\n",
            "35 44 228\n",
            "136 148 228\n",
            "197 203 228\n",
            "This beautiful and delicious House super salad is one of my favourite salads in Singapore. Healthy, light and fresh. {'entities': [(41, 46, 'dish'), (50, 53, 'CARDINAL'), (70, 76, 'dish'), (80, 89, 'GPE')]}\n",
            "41 46 116\n",
            "50 53 116\n",
            "70 76 116\n",
            "80 89 116\n",
            "Very well\n",
            "Made cheese with the right amount of salt. All of us really enjoyed this dish and would definitely recommend it to all. {'entities': [(15, 21, 'dish'), (47, 51, 'condiment')]}\n",
            "15 21 129\n",
            "47 51 129\n",
            "We consider a Mezze platter as a main dish as generally speaking we stick to the dips and starters rather than mains in a Middle eastern restaurant. We enjoyed the dips and the red dip with the walnuts was amazing. Hummus was good and so was the salad. They can heat up the bread if you so desire. We recommend this restaurant and our suggestion is try the mezze platter to know what you like and then order those dips individually. {'entities': [(122, 136, 'NORP'), (194, 201, 'seed'), (215, 221, 'dish'), (246, 251, 'dish')]}\n",
            "122 136 432\n",
            "194 201 432\n",
            "215 221 432\n",
            "246 251 432\n",
            "Potatoe fries but the way they fried it was very nice. The spice was right and the skin on. Really enjoyed it. Definitely recommend if you are a potato lover {'entities': [(8, 13, 'dish'), (145, 151, 'vegetable')]}\n",
            "8 13 157\n",
            "145 151 157\n",
            "Really nice indulgence and it was quite some time ago I ate donuts! They are tasty fluffy fresh and perfectly sweet (not toooo sweet) can’t wait for more options! (They have two more vegan donuts ) {'entities': [(174, 177, 'CARDINAL'), (183, 188, 'lifestyle')]}\n",
            "174 177 197\n",
            "183 188 197\n",
            "At the airport we found this place which served vegetarian dishes. Their pizza dough does not contain egg and the spaghetti is also made without egg. The dish was well made except for the salt being on the lower side. This is more a sit down place at the airport rather than anything fancy. They did not have a great selection of sauces or paprika etc but very basic and nice food and good service in terms of understanding your needs and catering to the requirements. {'entities': [(48, 58, 'lifestyle'), (73, 78, 'dish'), (102, 105, 'dish'), (114, 123, 'dish'), (145, 148, 'dish'), (188, 192, 'condiment'), (330, 336, 'condiment'), (340, 347, 'spice')]}\n",
            "48 58 468\n",
            "73 78 468\n",
            "102 105 468\n",
            "114 123 468\n",
            "145 148 468\n",
            "188 192 468\n",
            "330 336 468\n",
            "340 347 468\n",
            "Good old pizza with extra toppings. Slightly low on salt but everything else was very good. Decent size and not too expensive at around 25SGD for the pizza. Again they were open to customization and the pizza dough was made without egg. {'entities': [(9, 14, 'dish'), (52, 56, 'condiment'), (150, 155, 'dish'), (203, 208, 'dish'), (232, 235, 'dish')]}\n",
            "9 14 236\n",
            "52 56 236\n",
            "150 155 236\n",
            "203 208 236\n",
            "232 235 236\n",
            "Again a high level of customization possible when we actually asked them to put ingredients of our choice in a tomato based pasta. Like the other dishes this was also low on salt but otherwise pretty ok. Don’t expect fancy stuff but pretty ok especially for the airport. No egg used in the spaghetti. {'entities': [(111, 117, 'fruit'), (124, 129, 'dish'), (174, 178, 'condiment'), (274, 277, 'dish'), (290, 299, 'dish')]}\n",
            "111 117 300\n",
            "124 129 300\n",
            "174 178 300\n",
            "274 277 300\n",
            "290 299 300\n",
            "Yakitori, sushi, ramen... the usual delicacies in Japan. But if you are vegetarian/vegan, you have to be careful of your food choices, as vegetables ramen is still cooked in meat broth, so is the curry. Lupicia is one of those restaurants which has a wide range of vegan and vegetarian options, and they have really good artisan bread. I bought some black bean hummus and fresh cumin bread home. The hummus is creamy and delicious, and I like that is different from the usual chickpea hummus. Opened a bottle of Pinot Noir to pair with that and it’s a beautiful apre ski snack. I am going to try other vegetarian snacks here and will share more. {'entities': [(0, 8, 'dish'), (10, 15, 'dish'), (17, 22, 'dish'), (72, 82, 'lifestyle'), (83, 88, 'lifestyle'), (149, 154, 'dish'), (174, 178, 'dish'), (196, 201, 'dish'), (214, 217, 'CARDINAL'), (265, 270, 'lifestyle'), (275, 285, 'lifestyle'), (361, 367, 'dish'), (378, 383, 'spice'), (400, 406, 'dish'), (476, 484, 'vegetable'), (485, 491, 'dish'), (602, 612, 'lifestyle')]}\n",
            "0 8 645\n",
            "10 15 645\n",
            "17 22 645\n",
            "72 82 645\n",
            "83 88 645\n",
            "149 154 645\n",
            "174 178 645\n",
            "196 201 645\n",
            "214 217 645\n",
            "265 270 645\n",
            "275 285 645\n",
            "361 367 645\n",
            "378 383 645\n",
            "400 406 645\n",
            "476 484 645\n",
            "485 491 645\n",
            "602 612 645\n",
            "More avocado toast! I did not know Coco Expresso serves Avo Toast. I always think they only serve baked goods so it was a pleasant surprise when I saw that on the menu. Their avo toast is simple and relatively smaller than the other avo roasts in town. but I like the extra green salads on the side. I had this at 4pm one day during my yoga training and it was the perfect size. Note many of the other cafes stop serving avo toast after lunch. It’s good they were still making it at 4pm. I know where to go when I want my avo toast fix at weird hours. 😅 And by the way, they have really good coffee and is definitely on my top list for caffeine in the neighbourhood. Diary free options available of course. {'entities': [(5, 18, 'dish'), (56, 65, 'dish'), (175, 184, 'dish'), (280, 286, 'dish'), (318, 321, 'CARDINAL'), (421, 430, 'dish'), (437, 442, 'meal'), (522, 531, 'dish'), (592, 598, 'dish')]}\n",
            "5 18 706\n",
            "56 65 706\n",
            "175 184 706\n",
            "280 286 706\n",
            "318 321 706\n",
            "421 430 706\n",
            "437 442 706\n",
            "522 531 706\n",
            "592 598 706\n",
            "Delicious earl grey cake with lemon icing! I was so excited to discover the baked goods here, and will definitely be coming back frequently. {'entities': [(20, 24, 'pastry'), (30, 35, 'fruit')]}\n",
            "20 24 140\n",
            "30 35 140\n",
            "Bought the cakes at V on Social event at Highball. So delicious that my friends and I couldn't wait a min for me to take a picture. {'entities': [(41, 49, 'dish')]}\n",
            "41 49 131\n",
            "can’t remember exactly which cake this was but it had cranberries and frosting on top! may or may not have burnt it a lil whilst reheating but definitely still delicious 👌🏼 really enjoy the cakes I’ve tried from them so far and their matcha crumble one is a must-try❗️ {'entities': [(29, 33, 'pastry'), (54, 65, 'fruit'), (87, 90, 'DATE'), (94, 97, 'DATE'), (234, 240, 'beverage'), (241, 248, 'dish'), (249, 252, 'CARDINAL')]}\n",
            "29 33 268\n",
            "54 65 268\n",
            "87 90 268\n",
            "94 97 268\n",
            "234 240 268\n",
            "241 248 268\n",
            "249 252 268\n",
            "They make amazing cakes for all occasions.  Made bespoke - just say what you want and they create a beautiful cake. {'entities': [(110, 114, 'pastry')]}\n",
            "110 114 115\n",
            "Sooo good! Delicious \n",
            "MENU\n",
            "\n",
            "                \n",
            "\n",
            "Please select a menu                                     *Chefs Special*                                  Ramen                                  Salads                                  Small Plates                                  JINYA Mini Tacos                                  Rice Bowls & Curry                                  Dessert                                  Kids' Meal                                  Happy Hour                            \n",
            "\n",
            "￼\n",
            "\n",
            "vegetable broth: tofu, onion, green onion, spinach, crispy onion, garlic chips, garlic oil, chili oil, sesame seeds served with thick noodles\n",
            "Delicious! {'entities': [(152, 157, 'dish'), (191, 197, 'dish'), (288, 293, 'dish'), (327, 331, 'dish'), (340, 345, 'dish'), (379, 386, 'meal'), (524, 528, 'dish'), (530, 535, 'vegetable'), (543, 548, 'vegetable'), (550, 557, 'vegetable'), (566, 571, 'vegetable'), (573, 579, 'spice'), (580, 585, 'dish'), (587, 593, 'spice'), (599, 604, 'fruit'), (610, 622, 'seed'), (641, 648, 'dish')]}\n",
            "152 157 659\n",
            "191 197 659\n",
            "288 293 659\n",
            "327 331 659\n",
            "340 345 659\n",
            "379 386 659\n",
            "524 528 659\n",
            "530 535 659\n",
            "543 548 659\n",
            "550 557 659\n",
            "566 571 659\n",
            "573 579 659\n",
            "580 585 659\n",
            "587 593 659\n",
            "599 604 659\n",
            "610 622 659\n",
            "641 648 659\n",
            "It was very tasty and filling! I do think it’s a couple dollars overpriced and when you add more toppings then it does get pricy.\n",
            "\n",
            "Would come back again! {'entities': []}\n",
            "Absolutely amazing. The best vegan ramen/noodle dish I’ve ever had, so many amazing flavours, creamy broth & the perfect noodles, i could go on forever 🤤 {'entities': [(29, 34, 'lifestyle'), (35, 40, 'dish'), (41, 47, 'dish'), (121, 128, 'dish')]}\n",
            "29 34 153\n",
            "35 40 153\n",
            "41 47 153\n",
            "121 128 153\n",
            "I wish there were MORE vegan options, but this one is DELICIOUS {'entities': [(23, 28, 'lifestyle'), (47, 50, 'CARDINAL')]}\n",
            "23 28 63\n",
            "47 50 63\n",
            "It's often amazing when a restaurant like this has a non-meat stock available, let alone a vegan option. I was delighted to find out about this dish, and I can tell you now, it did not disappoint. I substituted the thick noodles for the spinach noodles for an additional few dollars. While I would appreciate more vegetables or nutritional content, this has got to be the best tasting ramen I have ever had - BY FAR! It's so creamy and flavourful - I'll gladly be returning for this ramen time and again... as long as I can afford it! {'entities': [(57, 61, 'dish'), (91, 96, 'lifestyle'), (221, 228, 'dish'), (237, 244, 'vegetable'), (245, 252, 'dish'), (385, 390, 'dish'), (483, 488, 'dish')]}\n",
            "57 61 534\n",
            "91 96 534\n",
            "221 228 534\n",
            "237 244 534\n",
            "245 252 534\n",
            "385 390 534\n",
            "483 488 534\n",
            "got the wholemeal spaghetti so this was $5.20 :\") the tomato sauce was quite good and the combination of veggies was alright, but wld hv been better if there was more mushrooms haha {'entities': [(18, 27, 'dish'), (54, 66, 'condiment'), (167, 176, 'vegetable')]}\n",
            "18 27 181\n",
            "54 66 181\n",
            "167 176 181\n",
            "I got the fusilli spirals which were Al Dente! The Sauce isn‘t too oily or salty and has a nice tomato sauce (not particularly Spectacular, but tasty) plus a few tablespoons worth of assorted veggies. I really enjoyed It after addiNg tabasco and chillI flakes :). If you are a student I think it’s pretty worth 4.90 for a quick veg meal in Bugis! {'entities': [(10, 17, 'dish'), (51, 56, 'condiment'), (96, 108, 'condiment')]}\n",
            "10 17 346\n",
            "51 56 346\n",
            "96 108 346\n",
            "One of the two vegan pasta dishes on the menu--fortunately it is absolutely delicious. (The other is the plain aglio olio, but only the Mediterranean pasta contains vegetables.) \n",
            "This is a mix of fresh and canned vegetables in a non-oily tangy tomato sauce, served with pasta shape of your choice. The pasta is cooked perfectly al dente here, never soggy. Take note: sauce contains onions. Took a star away for nutrition because it could contain a bit more vegetables, and perhaps fresh mushrooms instead of canned ones. Thank you, Pastamania for this enjoyable dish! {'entities': [(0, 3, 'CARDINAL'), (11, 14, 'CARDINAL'), (15, 20, 'lifestyle'), (21, 26, 'dish'), (136, 149, 'NORP'), (150, 155, 'dish'), (244, 256, 'condiment'), (270, 275, 'dish'), (302, 307, 'dish'), (367, 372, 'condiment'), (382, 388, 'vegetable'), (487, 496, 'vegetable')]}\n",
            "0 3 567\n",
            "11 14 567\n",
            "15 20 567\n",
            "21 26 567\n",
            "136 149 567\n",
            "150 155 567\n",
            "244 256 567\n",
            "270 275 567\n",
            "302 307 567\n",
            "367 372 567\n",
            "382 388 567\n",
            "487 496 567\n",
            "The combination of strawberries, almonds, quinoa and tofu with varied greens, including arugula, is a winner. #crfsg {'entities': [(19, 31, 'fruit'), (33, 40, 'seed'), (42, 48, 'dish'), (53, 57, 'dish'), (70, 76, 'vegetable'), (88, 95, 'vegetable')]}\n",
            "19 31 116\n",
            "33 40 116\n",
            "42 48 116\n",
            "53 57 116\n",
            "70 76 116\n",
            "88 95 116\n",
            "The fruit is so sweet, the dressing is so tasty and the veggies are so green {'entities': []}\n",
            "I actually came here for supper because I was feeling greedy and this was one of the most guilt-free suppers I've ever had! The portion is huge too so it's definitely value for money. The tofu feta cheese tasted just like the real thing, I would never have known if it wasn't stated on the menu! I really liked the addition of almond slivers as they made the dish a lot more enjoyable. {'entities': [(74, 77, 'CARDINAL'), (188, 192, 'dish'), (193, 204, 'dish')]}\n",
            "74 77 385\n",
            "188 192 385\n",
            "193 204 385\n",
            "Lots of great ingredients: strawberries, vegan feta, quinoa, cakes, really green lettuce, almond. #crfsg {'entities': [(27, 39, 'fruit'), (41, 46, 'lifestyle'), (47, 51, 'dish'), (53, 59, 'dish'), (61, 66, 'pastry'), (81, 88, 'vegetable')]}\n",
            "27 39 104\n",
            "41 46 104\n",
            "47 51 104\n",
            "53 59 104\n",
            "61 66 104\n",
            "81 88 104\n",
            "Pretty basic spinach salad with pine nuts but with an amazing balsamic dressing. Great way to start a meal at Oso! {'entities': [(13, 26, 'dish')]}\n",
            "13 26 114\n",
            "While this wasn’t on the menu it’s one of the vegan recommendations from Oso’s staff and it was delicious. A great dish. The risotto had the perfect amount of bite and I loved the mushrooms. Definitely going back for this one! More vegan dishes please! {'entities': [(35, 38, 'CARDINAL'), (46, 51, 'lifestyle'), (125, 132, 'dish'), (180, 189, 'vegetable'), (222, 225, 'CARDINAL'), (232, 237, 'lifestyle')]}\n",
            "35 38 252\n",
            "46 51 252\n",
            "125 132 252\n",
            "180 189 252\n",
            "222 225 252\n",
            "232 237 252\n",
            "Husband craving for a burger after a big ski morning and we came to this little burger shop in Kutchan Town in Niseko. They have a full menu of burgers from classic beef, chicken, bacon and a vegetarian burger. The vegetarian burger is made with bean patty, and you can add additional toppings like guacamole, chilli means and cheese (non-vegan of course). I just had a simple veg burger and added guacamole and had a guilt free burger. Ordered a side salad while Hubby went for potato wedges and onion rings (and apparently very good). Decor of the place is super cool. Worth checking it out and being away from the main ski area. {'entities': [(22, 28, 'dish'), (80, 86, 'dish'), (144, 151, 'dish'), (165, 169, 'dish'), (171, 178, 'dish'), (180, 185, 'dish'), (192, 202, 'lifestyle'), (203, 209, 'dish'), (215, 225, 'lifestyle'), (226, 232, 'dish'), (251, 256, 'dish'), (299, 308, 'dish'), (327, 333, 'dish'), (339, 344, 'lifestyle'), (381, 387, 'dish'), (398, 407, 'dish'), (429, 435, 'dish'), (452, 457, 'dish'), (479, 485, 'vegetable'), (497, 502, 'vegetable')]}\n",
            "22 28 631\n",
            "80 86 631\n",
            "144 151 631\n",
            "165 169 631\n",
            "171 178 631\n",
            "180 185 631\n",
            "192 202 631\n",
            "203 209 631\n",
            "215 225 631\n",
            "226 232 631\n",
            "251 256 631\n",
            "299 308 631\n",
            "327 333 631\n",
            "339 344 631\n",
            "381 387 631\n",
            "398 407 631\n",
            "429 435 631\n",
            "452 457 631\n",
            "479 485 631\n",
            "497 502 631\n"
          ],
          "name": "stdout"
        }
      ]
    },
    {
      "cell_type": "code",
      "metadata": {
        "id": "MRcilVE1su-y",
        "colab_type": "code",
        "colab": {}
      },
      "source": [
        "# get names of other pipes to disable them during training\n",
        "other_pipes = [pipe for pipe in nlp.pipe_names if pipe not in [\"ner\", \"entity_ruler\",\"merge_entities\"]]\n",
        "loss_trend = []\n",
        "with nlp.disable_pipes(*other_pipes):  # only train NER\n",
        "    # reset and initialize the weights randomly – but only if we're\n",
        "    # training a new model\n",
        "    if model is None:\n",
        "        nlp.begin_training()\n",
        "\n",
        "\n",
        "\n",
        "    for itn in range(100):\n",
        "      random.shuffle(clean_train_ents)\n",
        "      losses = {}\n",
        "\n",
        "#      for item in clean_train_ents:\n",
        "# batch up the examples using spaCy's minibatch\n",
        "      batches = minibatch(clean_train_ents, size=compounding(4.0, 32.0, 1.001))\n",
        "\n",
        "      for batch in batches:\n",
        "        texts, annotations = zip(*batch)\n",
        "#        print([item[0]], [item[1]])\n",
        "\n",
        "#        print(texts)\n",
        "#        print(annotations)\n",
        "        nlp.update(texts, annotations, drop=0.5, losses=losses)\n",
        "        loss_trend.append(losses['ner'])"
      ],
      "execution_count": 0,
      "outputs": []
    },
    {
      "cell_type": "code",
      "metadata": {
        "id": "EPBTh3MR5dA1",
        "colab_type": "code",
        "outputId": "29e330fd-f4ff-4eae-865a-dad16c0953bd",
        "colab": {
          "base_uri": "https://localhost:8080/",
          "height": 1000
        }
      },
      "source": [
        "loss_trend"
      ],
      "execution_count": 268,
      "outputs": [
        {
          "output_type": "execute_result",
          "data": {
            "text/plain": [
              "[145.33725452423096,\n",
              " 314.8607861995697,\n",
              " 498.3596818447113,\n",
              " 843.4369208812714,\n",
              " 1095.5176584720612,\n",
              " 1350.666708169505,\n",
              " 1578.3052951674908,\n",
              " 1853.5741264205426,\n",
              " 2008.5748068671674,\n",
              " 2152.0296074729413,\n",
              " 2305.9835402350873,\n",
              " 2550.371819673106,\n",
              " 2806.523415742442,\n",
              " 3026.86674660258,\n",
              " 3268.6188546996564,\n",
              " 3423.755091605708,\n",
              " 3679.554184375331,\n",
              " 4021.542405543849,\n",
              " 4226.44842380099,\n",
              " 4467.581367908046,\n",
              " 4601.597646890208,\n",
              " 4826.460240541026,\n",
              " 4952.516124783084,\n",
              " 5090.6336670499295,\n",
              " 5249.164906082675,\n",
              " 5390.665559826419,\n",
              " 5606.96232729964,\n",
              " 5743.355153499171,\n",
              " 5860.842932520434,\n",
              " 5972.803637323901,\n",
              " 6169.783531008288,\n",
              " 6389.135033426806,\n",
              " 6548.988265810534,\n",
              " 6687.946084437892,\n",
              " 6776.69535153918,\n",
              " 7034.9421364646405,\n",
              " 7116.901090322062,\n",
              " 7237.516513286158,\n",
              " 7374.082912860438,\n",
              " 7497.348551688716,\n",
              " 7638.270624814555,\n",
              " 7817.649408994243,\n",
              " 7908.7154895644635,\n",
              " 8153.604407368228,\n",
              " 8393.2432970386,\n",
              " 8555.952220378444,\n",
              " 8684.456583438441,\n",
              " 8804.114982305095,\n",
              " 8902.483111558482,\n",
              " 9026.678452191874,\n",
              " 195.37675595283508,\n",
              " 318.56227231025696,\n",
              " 442.88309478759766,\n",
              " 632.4370142221451,\n",
              " 814.1829980611801,\n",
              " 1004.436346411705,\n",
              " 1110.9453214406967,\n",
              " 1381.4666129350662,\n",
              " 1567.8085721731186,\n",
              " 1658.650156378746,\n",
              " 1811.8434566259384,\n",
              " 1944.7403777837753,\n",
              " 2049.1091643571854,\n",
              " 2219.264654815197,\n",
              " 2397.699116408825,\n",
              " 2527.4390038847923,\n",
              " 2706.6797353625298,\n",
              " 2863.507665812969,\n",
              " 3019.6099550127983,\n",
              " 3182.8485233187675,\n",
              " 3348.6525532603264,\n",
              " 3605.2647110819817,\n",
              " 3739.5582825541496,\n",
              " 3873.67840641737,\n",
              " 4050.2361552119255,\n",
              " 4124.341517627239,\n",
              " 4236.776078879833,\n",
              " 4401.550127208233,\n",
              " 4574.942129671574,\n",
              " 4719.008075773716,\n",
              " 4832.4467514157295,\n",
              " 4929.363365471363,\n",
              " 5188.247369587421,\n",
              " 5401.498073875904,\n",
              " 5592.207716286182,\n",
              " 5735.182628929615,\n",
              " 5867.337131798267,\n",
              " 6065.061096012592,\n",
              " 6207.074717581272,\n",
              " 6355.704115450382,\n",
              " 6522.70278391242,\n",
              " 6639.684839576483,\n",
              " 6753.238172382116,\n",
              " 6808.312456458807,\n",
              " 7034.61150893569,\n",
              " 7219.599343508482,\n",
              " 7493.940372437239,\n",
              " 7640.525283783674,\n",
              " 7763.565863460302,\n",
              " 7877.987266629934,\n",
              " 224.67315769195557,\n",
              " 486.5291624069214,\n",
              " 630.5919597148895,\n",
              " 825.2990481853485,\n",
              " 930.1513369083405,\n",
              " 1086.797969341278,\n",
              " 1249.7285900115967,\n",
              " 1391.6752572059631,\n",
              " 1605.5217385292053,\n",
              " 1725.9442377090454,\n",
              " 1845.5134222507477,\n",
              " 1998.2782294750214,\n",
              " 2162.880891084671,\n",
              " 2274.6474912166595,\n",
              " 2381.7553396224976,\n",
              " 2518.7320861816406,\n",
              " 2669.6810150146484,\n",
              " 2804.463448524475,\n",
              " 2902.6852922439575,\n",
              " 3110.4867337942123,\n",
              " 3244.0773129463196,\n",
              " 3424.806782722473,\n",
              " 3607.539132118225,\n",
              " 3744.3865761756897,\n",
              " 3948.871402978897,\n",
              " 4081.61882519722,\n",
              " 4283.30486702919,\n",
              " 4436.982146024704,\n",
              " 4558.30482840538,\n",
              " 4652.639554023743,\n",
              " 4833.083476662636,\n",
              " 4959.331404566765,\n",
              " 5056.7412132024765,\n",
              " 5231.177377581596,\n",
              " 5393.380581736565,\n",
              " 5512.070087790489,\n",
              " 5603.649809479713,\n",
              " 5903.141096711159,\n",
              " 5989.984214186668,\n",
              " 6159.400326132774,\n",
              " 6273.338710665703,\n",
              " 6485.778105139732,\n",
              " 6621.317269206047,\n",
              " 6823.96073281765,\n",
              " 6971.290973067284,\n",
              " 7199.426501870155,\n",
              " 7359.197261452675,\n",
              " 7515.927010178566,\n",
              " 7625.178704380989,\n",
              " 7792.053830981255,\n",
              " 233.25478959083557,\n",
              " 362.35451674461365,\n",
              " 494.8968622684479,\n",
              " 658.1491210460663,\n",
              " 799.3284180164337,\n",
              " 954.5058414936066,\n",
              " 1027.65687251091,\n",
              " 1195.0238478183746,\n",
              " 1299.6763126850128,\n",
              " 1459.017677307129,\n",
              " 1682.3304295539856,\n",
              " 1797.4969124794006,\n",
              " 2020.550689458847,\n",
              " 2166.8433644771576,\n",
              " 2389.8318898677826,\n",
              " 2550.315774679184,\n",
              " 2672.372790813446,\n",
              " 2777.401249408722,\n",
              " 2987.3571395874023,\n",
              " 3178.9507637023926,\n",
              " 3275.3499369621277,\n",
              " 3407.638765156269,\n",
              " 3527.795961678028,\n",
              " 3703.500140964985,\n",
              " 3825.8998532891273,\n",
              " 4069.3749836683273,\n",
              " 4202.705331683159,\n",
              " 4383.176459908485,\n",
              " 4570.710093140602,\n",
              " 4727.804998993874,\n",
              " 4874.796020150185,\n",
              " 5004.139809727669,\n",
              " 5116.609757065773,\n",
              " 5310.921599984169,\n",
              " 5415.673998951912,\n",
              " 5582.623298764229,\n",
              " 5688.74332678318,\n",
              " 5914.578289151192,\n",
              " 6018.139081597328,\n",
              " 6082.775473713875,\n",
              " 6227.547688126564,\n",
              " 6434.935542941093,\n",
              " 6620.041612505913,\n",
              " 6791.69941008091,\n",
              " 6980.449318766594,\n",
              " 7131.399590849876,\n",
              " 7215.632579088211,\n",
              " 7429.526269674301,\n",
              " 7631.04781961441,\n",
              " 7688.443570971489,\n",
              " 141.0863175392151,\n",
              " 246.42286443710327,\n",
              " 390.5884623527527,\n",
              " 585.1373343467712,\n",
              " 713.0285687446594,\n",
              " 862.546760559082,\n",
              " 1016.1399421691895,\n",
              " 1207.9249972105026,\n",
              " 1324.2152972221375,\n",
              " 1439.2312850952148,\n",
              " 1558.5386972427368,\n",
              " 1752.0754880905151,\n",
              " 1876.1120052337646,\n",
              " 2013.4534912109375,\n",
              " 2209.5793294906616,\n",
              " 2327.6128494739532,\n",
              " 2485.5322415828705,\n",
              " 2535.8300054073334,\n",
              " 2770.4995037317276,\n",
              " 2894.901894211769,\n",
              " 2961.059911966324,\n",
              " 3053.1413173675537,\n",
              " 3155.2604098320007,\n",
              " 3305.8877996206284,\n",
              " 3503.1433647871017,\n",
              " 3654.5715361833572,\n",
              " 3807.5670198202133,\n",
              " 3969.5109184980392,\n",
              " 4096.105161070824,\n",
              " 4173.0122483968735,\n",
              " 4334.674640059471,\n",
              " 4498.86982190609,\n",
              " 4644.502668499947,\n",
              " 4801.4999676942825,\n",
              " 4981.7500368356705,\n",
              " 5142.4840487241745,\n",
              " 5290.771012425423,\n",
              " 5455.76164662838,\n",
              " 5639.373097062111,\n",
              " 5950.5152323246,\n",
              " 6208.128289937973,\n",
              " 6334.751503705978,\n",
              " 6542.343101322651,\n",
              " 6690.634637653828,\n",
              " 6804.378959000111,\n",
              " 6938.211533844471,\n",
              " 7136.090635836124,\n",
              " 7317.654524385929,\n",
              " 7420.946642458439,\n",
              " 7554.344975531101,\n",
              " 196.4349024295807,\n",
              " 309.2853355407715,\n",
              " 462.2346658706665,\n",
              " 581.5265543460846,\n",
              " 723.5203733444214,\n",
              " 880.2258379459381,\n",
              " 981.63228058815,\n",
              " 1127.1917440891266,\n",
              " 1298.501537322998,\n",
              " 1468.3786174058914,\n",
              " 1577.0961962938309,\n",
              " 1768.248368382454,\n",
              " 1901.0870906114578,\n",
              " 2042.3128963708878,\n",
              " 2224.6226238012314,\n",
              " 2410.2239116430283,\n",
              " 2516.2576369047165,\n",
              " 2641.220916867256,\n",
              " 2771.2625848054886,\n",
              " 3014.9551907777786,\n",
              " 3127.8510862588882,\n",
              " 3401.334004044533,\n",
              " 3554.6672218441963,\n",
              " 3661.38507014513,\n",
              " 3789.533599436283,\n",
              " 3960.2860274910927,\n",
              " 4146.366297781467,\n",
              " 4273.234131395817,\n",
              " 4480.457044184208,\n",
              " 4679.879775583744,\n",
              " 4824.255673229694,\n",
              " 4982.308986008167,\n",
              " 5064.39283066988,\n",
              " 5203.271092236042,\n",
              " 5419.372549831867,\n",
              " 5538.296221554279,\n",
              " 5627.418292820454,\n",
              " 5799.6808069348335,\n",
              " 5981.605562269688,\n",
              " 6062.292687475681,\n",
              " 6207.830748021603,\n",
              " 6283.174103677273,\n",
              " 6475.598662316799,\n",
              " 6635.784322679043,\n",
              " 6889.1429379582405,\n",
              " 7029.91355162859,\n",
              " 7221.562507688999,\n",
              " 7346.795785009861,\n",
              " 7475.752301752567,\n",
              " 7589.8752861619,\n",
              " 162.65651392936707,\n",
              " 321.8346211910248,\n",
              " 394.9356381893158,\n",
              " 567.9614193439484,\n",
              " 662.1958930492401,\n",
              " 837.8484833240509,\n",
              " 977.6229517459869,\n",
              " 1123.4351727962494,\n",
              " 1269.5337426662445,\n",
              " 1477.6500775814056,\n",
              " 1722.8613574504852,\n",
              " 1937.3786118030548,\n",
              " 2150.416467666626,\n",
              " 2270.4276971817017,\n",
              " 2495.709732055664,\n",
              " 2580.1647377610207,\n",
              " 2806.458539068699,\n",
              " 2985.3545189499855,\n",
              " 3100.146441280842,\n",
              " 3314.256735622883,\n",
              " 3427.1395500302315,\n",
              " 3644.637026131153,\n",
              " 3769.787824213505,\n",
              " 3934.489309489727,\n",
              " 4094.7540895342827,\n",
              " 4255.750281751156,\n",
              " 4368.2049216628075,\n",
              " 4481.665641963482,\n",
              " 4571.020893752575,\n",
              " 4716.603667914867,\n",
              " 4904.946331679821,\n",
              " 5025.562084138393,\n",
              " 5103.305518269539,\n",
              " 5333.27542078495,\n",
              " 5423.96868956089,\n",
              " 5634.320181488991,\n",
              " 5746.8908458948135,\n",
              " 5896.398884654045,\n",
              " 6139.151127696037,\n",
              " 6223.961983084679,\n",
              " 6401.3365668058395,\n",
              " 6493.011005759239,\n",
              " 6611.702957987785,\n",
              " 6745.112778544426,\n",
              " 6897.316132903099,\n",
              " 7086.392925858498,\n",
              " 7175.935138344765,\n",
              " 7345.47001850605,\n",
              " 7479.503586292267,\n",
              " 7581.850646018982,\n",
              " 180.1171133518219,\n",
              " 273.0577998161316,\n",
              " 393.9572615623474,\n",
              " 551.6141772270203,\n",
              " 677.1611227989197,\n",
              " 797.6963548660278,\n",
              " 912.4518136978149,\n",
              " 1077.5976015925407,\n",
              " 1248.3295790553093,\n",
              " 1389.3322865366936,\n",
              " 1572.2232397198677,\n",
              " 1743.5794301629066,\n",
              " 1810.7040887475014,\n",
              " 1897.6705057024956,\n",
              " 2047.8139714598656,\n",
              " 2152.432749092579,\n",
              " 2311.6627047657967,\n",
              " 2430.592236340046,\n",
              " 2534.777816593647,\n",
              " 2680.7461155056953,\n",
              " 2863.3828659653664,\n",
              " 3005.4610491394997,\n",
              " 3168.508970081806,\n",
              " 3372.530894577503,\n",
              " 3516.4452555775642,\n",
              " 3681.445523560047,\n",
              " 3870.1652477383614,\n",
              " 3984.3749507069588,\n",
              " 4163.896926224232,\n",
              " 4304.0054596066475,\n",
              " 4504.2761572003365,\n",
              " 4684.790062248707,\n",
              " 4797.574451267719,\n",
              " 4929.282006561756,\n",
              " 5098.232145130634,\n",
              " 5200.698557198048,\n",
              " 5418.44557505846,\n",
              " 5566.830750763416,\n",
              " 5763.578851044178,\n",
              " 5929.675438225269,\n",
              " 6117.951455414295,\n",
              " 6279.517862141132,\n",
              " 6424.610894501209,\n",
              " 6592.510325729847,\n",
              " 6865.828287899494,\n",
              " 6963.220284283161,\n",
              " 7101.597358763218,\n",
              " 7307.1762617230415,\n",
              " 7448.2903445363045,\n",
              " 7575.311030447483,\n",
              " 185.67409420013428,\n",
              " 253.01735258102417,\n",
              " 345.5883893966675,\n",
              " 484.6064386367798,\n",
              " 600.846333026886,\n",
              " 721.2604937553406,\n",
              " 858.1262097358704,\n",
              " 939.6030288934708,\n",
              " 1109.0705819129944,\n",
              " 1331.5699634552002,\n",
              " 1433.1830596923828,\n",
              " 1673.295922279358,\n",
              " 1818.2938237190247,\n",
              " 2030.3118023872375,\n",
              " 2174.465334177017,\n",
              " 2358.3719279766083,\n",
              " 2542.1062071323395,\n",
              " 2686.282489657402,\n",
              " 2954.5206993818283,\n",
              " 3148.4481323957443,\n",
              " 3282.462380051613,\n",
              " 3453.4575678110123,\n",
              " 3612.96806871891,\n",
              " 3762.0456014871597,\n",
              " 3981.0930503606796,\n",
              " 4148.579663872719,\n",
              " 4322.944258570671,\n",
              " 4445.159035921097,\n",
              " 4592.487459659576,\n",
              " 4669.900844097137,\n",
              " 4851.1797078847885,\n",
              " 4994.091979384422,\n",
              " 5120.404523253441,\n",
              " 5223.8761729002,\n",
              " 5387.785575509071,\n",
              " 5482.895827174187,\n",
              " 5635.310844302177,\n",
              " 5804.19884622097,\n",
              " 5920.6831303834915,\n",
              " 6144.662292599678,\n",
              " 6283.9633585214615,\n",
              " 6433.341110825539,\n",
              " 6573.668781876564,\n",
              " 6691.489104628563,\n",
              " 6921.541509985924,\n",
              " 7055.022354006767,\n",
              " 7222.160887598991,\n",
              " 7342.730226993561,\n",
              " 7543.588356971741,\n",
              " 7656.089464187622,\n",
              " 117.69423484802246,\n",
              " 327.8206458091736,\n",
              " 544.083502292633,\n",
              " 751.036322593689,\n",
              " 857.7261214256287,\n",
              " 1004.4267790317535,\n",
              " 1096.4993131160736,\n",
              " 1202.6034283638,\n",
              " 1376.5253891944885,\n",
              " 1532.4037907123566,\n",
              " 1643.5053095817566,\n",
              " 1837.5360941886902,\n",
              " 2063.488217830658,\n",
              " 2216.8293459415436,\n",
              " 2433.142266511917,\n",
              " 2615.0186150074005,\n",
              " 2769.4213387966156,\n",
              " 2942.7217485904694,\n",
              " 2986.313112258911,\n",
              " 3109.5284819602966,\n",
              " 3218.5541892051697,\n",
              " 3407.6006746292114,\n",
              " 3548.151162147522,\n",
              " 3733.5391280651093,\n",
              " 3897.36057972908,\n",
              " 4045.1365364789963,\n",
              " 4193.909578680992,\n",
              " 4315.7091807127,\n",
              " 4415.6231290102005,\n",
              " 4690.873604774475,\n",
              " 4822.781103134155,\n",
              " 4957.516748189926,\n",
              " 5173.5238490104675,\n",
              " 5445.087897777557,\n",
              " 5649.1368589401245,\n",
              " 5810.98815202713,\n",
              " 5907.43444776535,\n",
              " 6107.320378303528,\n",
              " 6393.825433731079,\n",
              " 6556.637667655945,\n",
              " 6708.312614440918,\n",
              " 6804.3849539756775,\n",
              " 6956.995332241058,\n",
              " 7078.871025562286,\n",
              " 7168.319118022919,\n",
              " 7328.0543575286865,\n",
              " 7457.078120470047,\n",
              " 7562.523152828217,\n",
              " 7639.446705341339,\n",
              " 7728.661691665649,\n",
              " 173.58623123168945,\n",
              " 268.51626574993134,\n",
              " 405.7919169664383,\n",
              " 511.850573182106,\n",
              " 770.5907884836197,\n",
              " 935.6415811777115,\n",
              " 1090.1244140863419,\n",
              " 1187.0710932016373,\n",
              " 1337.4237357378006,\n",
              " 1427.7945071458817,\n",
              " 1586.418384194374,\n",
              " 1674.8765670061111,\n",
              " 1756.4093078374863,\n",
              " 1955.2910010814667,\n",
              " 2107.6335847377777,\n",
              " 2271.8006796836853,\n",
              " 2481.140999317169,\n",
              " 2601.5079810619354,\n",
              " 2696.107787132263,\n",
              " 2900.488121509552,\n",
              " 3105.2375984191895,\n",
              " 3268.286341190338,\n",
              " 3379.940659046173,\n",
              " 3495.720516204834,\n",
              " 3725.533786177635,\n",
              " 3969.841959834099,\n",
              " 4119.233661532402,\n",
              " 4237.288810133934,\n",
              " 4360.7980798482895,\n",
              " 4544.962022185326,\n",
              " 4696.824529051781,\n",
              " 4855.2611800432205,\n",
              " 4962.359808564186,\n",
              " 5188.302076458931,\n",
              " 5267.497844338417,\n",
              " 5364.880663990974,\n",
              " 5552.688312411308,\n",
              " 5637.690232157707,\n",
              " 5835.260275483131,\n",
              " 5959.686134457588,\n",
              " 6148.039031624794,\n",
              " 6375.097311377525,\n",
              " 6580.834368944168,\n",
              " 6781.183660268784,\n",
              " 6984.876680612564,\n",
              " 7188.163987159729,\n",
              " 7379.932914733887,\n",
              " 7490.755434632301,\n",
              " 7623.239896655083,\n",
              " 7741.7794469594955,\n",
              " 130.2563135623932,\n",
              " 267.02415442466736,\n",
              " 432.75193071365356,\n",
              " 636.6385025978088,\n",
              " 767.3236141204834,\n",
              " 938.7498030662537,\n",
              " 1156.4784185886383,\n",
              " 1307.4227275848389,\n",
              " 1429.7361042499542,\n",
              " 1590.8390562534332,\n",
              " 1804.248492717743,\n",
              " 1949.8403277397156,\n",
              " 2066.6513929367065,\n",
              " 2186.553890943527,\n",
              " 2377.172723531723,\n",
              " 2533.123998641968,\n",
              " 2763.7668290138245,\n",
              " 2895.5213527679443,\n",
              " 3062.981812477112,\n",
              " 3195.63561463356,\n",
              " 3334.722678422928,\n",
              " 3398.197245955467,\n",
              " 3585.2583631277084,\n",
              " 3752.762835383415,\n",
              " 3961.719173312187,\n",
              " 4098.500559687614,\n",
              " 4173.6369515657425,\n",
              " 4381.615062832832,\n",
              " 4546.623367190361,\n",
              " 4709.620240807533,\n",
              " 4861.992170929909,\n",
              " 4994.453667283058,\n",
              " 5112.440267443657,\n",
              " 5234.626842856407,\n",
              " 5461.011957287788,\n",
              " 5625.96136200428,\n",
              " 5754.097561120987,\n",
              " 5872.869026660919,\n",
              " 5964.145570278168,\n",
              " 6186.499248743057,\n",
              " 6347.932314157486,\n",
              " 6447.327480554581,\n",
              " 6604.870648145676,\n",
              " 6746.977504491806,\n",
              " 6862.83397769928,\n",
              " 7084.136231422424,\n",
              " 7192.025301098824,\n",
              " 7418.909414410591,\n",
              " 7569.3745576143265,\n",
              " 7697.236911892891,\n",
              " 140.26464653015137,\n",
              " 273.8729610443115,\n",
              " 425.64393377304077,\n",
              " 644.5170388221741,\n",
              " 770.4004807472229,\n",
              " 990.9387550354004,\n",
              " 1085.9588131904602,\n",
              " 1223.1505680084229,\n",
              " 1422.5120737552643,\n",
              " 1559.2541143894196,\n",
              " 1704.5073165893555,\n",
              " 1852.7288193702698,\n",
              " 1936.7708988189697,\n",
              " 2072.3855221271515,\n",
              " 2187.1753063201904,\n",
              " 2326.166223049164,\n",
              " 2477.1700546741486,\n",
              " 2631.142121553421,\n",
              " 2779.6733956336975,\n",
              " 2955.72758936882,\n",
              " 3173.218001842499,\n",
              " 3367.9455132484436,\n",
              " 3508.3695726394653,\n",
              " 3659.2133157253265,\n",
              " 3867.7994134426117,\n",
              " 4090.9009368419647,\n",
              " 4269.429006814957,\n",
              " 4479.773126363754,\n",
              " 4597.02031993866,\n",
              " 4773.5880970954895,\n",
              " 4985.436239719391,\n",
              " 5093.491347789764,\n",
              " 5267.940478682518,\n",
              " 5440.663915038109,\n",
              " 5534.184156775475,\n",
              " 5709.71464574337,\n",
              " 5796.351084113121,\n",
              " 5952.244336485863,\n",
              " 6070.809730887413,\n",
              " 6180.881995081902,\n",
              " 6299.145015597343,\n",
              " 6510.712453722954,\n",
              " 6626.2542580366135,\n",
              " 6774.6607538461685,\n",
              " 6885.325629353523,\n",
              " 7095.253095269203,\n",
              " 7319.573865056038,\n",
              " 7463.738685727119,\n",
              " 7603.842820286751,\n",
              " 7691.096338868141,\n",
              " 125.42784070968628,\n",
              " 251.33191668987274,\n",
              " 477.6583160161972,\n",
              " 660.7003458738327,\n",
              " 850.9356087446213,\n",
              " 961.8968712091446,\n",
              " 1072.4186857938766,\n",
              " 1169.5103660821915,\n",
              " 1370.3845678567886,\n",
              " 1576.9143172502518,\n",
              " 1748.1649895906448,\n",
              " 1977.1623779535294,\n",
              " 2082.260980963707,\n",
              " 2213.8683599233627,\n",
              " 2400.9893625974655,\n",
              " 2517.625122666359,\n",
              " 2672.9080535173416,\n",
              " 2859.863591194153,\n",
              " 3027.905597448349,\n",
              " 3145.3064053058624,\n",
              " 3302.8624436855316,\n",
              " 3500.545333147049,\n",
              " 3668.0883127450943,\n",
              " 3806.35339987278,\n",
              " 3954.9494973421097,\n",
              " 4126.928854584694,\n",
              " 4231.8197602033615,\n",
              " 4316.203193306923,\n",
              " 4474.766250371933,\n",
              " 4580.489922761917,\n",
              " 4715.567925691605,\n",
              " 4928.633951425552,\n",
              " 5105.130398988724,\n",
              " 5238.4633893966675,\n",
              " 5346.765379905701,\n",
              " 5440.888644695282,\n",
              " 5514.204285860062,\n",
              " 5627.046460270882,\n",
              " 5832.538610577583,\n",
              " 5998.118987202644,\n",
              " 6162.390754342079,\n",
              " 6279.436611771584,\n",
              " 6466.425817131996,\n",
              " 6668.561796784401,\n",
              " 6826.834435105324,\n",
              " 6988.263424515724,\n",
              " 7125.261125445366,\n",
              " 7334.6059893369675,\n",
              " 7495.526149630547,\n",
              " 7607.297920584679,\n",
              " 167.1673707962036,\n",
              " 322.41684675216675,\n",
              " 445.13178396224976,\n",
              " 548.9896185398102,\n",
              " 754.0939166545868,\n",
              " 831.0831210613251,\n",
              " 911.6031692028046,\n",
              " 1011.1134960651398,\n",
              " 1151.0129532814026,\n",
              " 1363.185972571373,\n",
              " 1507.0768917798996,\n",
              " 1671.968880534172,\n",
              " 1892.6163166761398,\n",
              " 2009.4417921304703,\n",
              " 2156.4768472909927,\n",
              " 2380.3649678230286,\n",
              " 2548.30287027359,\n",
              " 2687.589895963669,\n",
              " 2866.1500651836395,\n",
              " 3024.0950005054474,\n",
              " 3199.9109575748444,\n",
              " 3405.232899427414,\n",
              " 3557.052297592163,\n",
              " 3681.172432899475,\n",
              " 3925.388331890106,\n",
              " 4012.8613344430923,\n",
              " 4123.564387202263,\n",
              " 4285.440045237541,\n",
              " 4402.970701575279,\n",
              " 4469.779775500298,\n",
              " 4633.764279007912,\n",
              " 4829.424721360207,\n",
              " 4993.338128685951,\n",
              " 5139.700556635857,\n",
              " 5304.422293543816,\n",
              " 5471.530570864677,\n",
              " 5570.182243227959,\n",
              " 5823.854895949364,\n",
              " 5986.022712945938,\n",
              " 6114.34801030159,\n",
              " 6294.832801103592,\n",
              " 6393.456052064896,\n",
              " 6536.680275917053,\n",
              " 6645.890091896057,\n",
              " 6774.202524423599,\n",
              " 6921.052089929581,\n",
              " 7086.050716161728,\n",
              " 7197.258551895618,\n",
              " 7395.814008295536,\n",
              " 7565.872758448124,\n",
              " 180.7705373764038,\n",
              " 285.86103892326355,\n",
              " 366.9029748439789,\n",
              " 476.4343800544739,\n",
              " 694.9248688220978,\n",
              " 848.918194770813,\n",
              " 926.404708147049,\n",
              " 1216.1142084598541,\n",
              " 1382.3093786239624,\n",
              " 1427.6886131763458,\n",
              " 1550.398062467575,\n",
              " 1808.7540967464447,\n",
              " 1922.2814815044403,\n",
              " 2114.5456072092056,\n",
              " 2281.723403096199,\n",
              " 2580.5876084566116,\n",
              " 2796.278308749199,\n",
              " 2927.5846613645554,\n",
              " 3088.8331731557846,\n",
              " 3187.3277753591537,\n",
              " 3310.6113287210464,\n",
              " 3444.304064154625,\n",
              " 3615.8815001249313,\n",
              " 3834.1768592596054,\n",
              " 3967.1221898794174,\n",
              " 4070.525538921356,\n",
              " 4217.109036445618,\n",
              " 4354.080923199654,\n",
              " 4514.801921486855,\n",
              " 4703.738076090813,\n",
              " 4886.332251429558,\n",
              " 5011.725957274437,\n",
              " 5162.582550644875,\n",
              " 5327.271520256996,\n",
              " 5440.716964840889,\n",
              " 5534.903631329536,\n",
              " 5699.899054646492,\n",
              " 5796.64598095417,\n",
              " 5959.71287214756,\n",
              " 6124.764554619789,\n",
              " 6247.008926987648,\n",
              " 6359.77794277668,\n",
              " 6544.676717638969,\n",
              " 6735.9547308683395,\n",
              " 6863.767145752907,\n",
              " 7038.329906105995,\n",
              " 7175.614803910255,\n",
              " 7302.597839951515,\n",
              " 7416.791122794151,\n",
              " 7611.45109307766,\n",
              " 183.53167867660522,\n",
              " 335.5512433052063,\n",
              " 462.04485273361206,\n",
              " 662.5379168987274,\n",
              " 729.158126115799,\n",
              " 913.6687138080597,\n",
              " 1004.115745306015,\n",
              " 1143.2960200309753,\n",
              " 1298.332631111145,\n",
              " 1441.72669672966,\n",
              " 1592.7833166122437,\n",
              " 1746.8170518875122,\n",
              " 1926.2702884674072,\n",
              " 2038.8299815654755,\n",
              " 2217.4965422153473,\n",
              " 2339.6947902441025,\n",
              " 2427.852179646492,\n",
              " 2567.9478265047073,\n",
              " 2931.670002579689,\n",
              " 3038.2113333940506,\n",
              " 3198.5834876298904,\n",
              " 3368.1810652017593,\n",
              " 3474.620080590248,\n",
              " 3568.343550801277,\n",
              " 3849.066056370735,\n",
              " 3966.0804253816605,\n",
              " 4078.8870865106583,\n",
              " 4216.92860519886,\n",
              " 4411.877060055733,\n",
              " 4499.951543927193,\n",
              " 4626.3951243162155,\n",
              " 4776.454576611519,\n",
              " 4892.652767777443,\n",
              " 4967.222565770149,\n",
              " 5081.227165102959,\n",
              " 5211.924217104912,\n",
              " 5334.441732048988,\n",
              " 5498.572056412697,\n",
              " 5693.155956268311,\n",
              " 5893.655748844147,\n",
              " 6106.975758552551,\n",
              " 6259.538382470608,\n",
              " 6420.671027243137,\n",
              " 6654.197378218174,\n",
              " 6820.432770311832,\n",
              " 7000.757940351963,\n",
              " 7192.909598886967,\n",
              " 7330.001050293446,\n",
              " 7451.397109806538,\n",
              " 7560.017046749592,\n",
              " 115.75693321228027,\n",
              " 195.687570810318,\n",
              " 300.62698316574097,\n",
              " 481.64802050590515,\n",
              " 656.8758708238602,\n",
              " 903.798664689064,\n",
              " 1088.8707000017166,\n",
              " 1284.6396003961563,\n",
              " 1424.239697098732,\n",
              " 1610.2632805109024,\n",
              " 1770.4732030630112,\n",
              " 1981.4944018125534,\n",
              " 2195.4248884916306,\n",
              " 2323.243056178093,\n",
              " 2496.4177500009537,\n",
              " 2684.9173887968063,\n",
              " 2796.5214005708694,\n",
              " 2983.349551320076,\n",
              " 3161.663026213646,\n",
              " 3314.022217154503,\n",
              " 3518.5394958257675,\n",
              " 3670.586911559105,\n",
              " 3865.4857453107834,\n",
              " 3977.948358654976,\n",
              " 4123.666154026985,\n",
              " 4285.388841509819,\n",
              " 4440.59426677227,\n",
              " 4587.648411154747,\n",
              " 4783.525589346886,\n",
              " 4885.149265885353,\n",
              " 5066.905288338661,\n",
              " 5191.236865878105,\n",
              " 5410.445387244225,\n",
              " 5521.917512059212,\n",
              " 5631.635827660561,\n",
              " 5828.943245053291,\n",
              " 5973.494101166725,\n",
              " 6098.791417717934,\n",
              " 6206.670545697212,\n",
              " 6314.225501656532,\n",
              " 6385.797414660454,\n",
              " 6507.237265706062,\n",
              " 6598.0729838609695,\n",
              " 6775.67815554142,\n",
              " 6912.916392922401,\n",
              " 7070.48747074604,\n",
              " 7249.883371353149,\n",
              " 7371.544281005859,\n",
              " 7448.107979297638,\n",
              " 7565.986046671867,\n",
              " 39.76766228675842,\n",
              " 191.17867970466614,\n",
              " 398.7580531835556,\n",
              " 503.724884390831,\n",
              " 689.0956658124924,\n",
              " 840.8644493818283,\n",
              " 987.2036212682724,\n",
              " 1260.5660403966904,\n",
              " 1372.7896789312363,\n",
              " 1545.4331358671188,\n",
              " 1708.2739502191544,\n",
              " 1892.9300450086594,\n",
              " 2029.0059641599655,\n",
              " 2164.876222014427,\n",
              " 2366.7114099264145,\n",
              " 2499.6864870786667,\n",
              " 2607.292969107628,\n",
              " 2770.503005385399,\n",
              " 2923.833455681801,\n",
              " 3012.2673946619034,\n",
              " 3150.6109544038773,\n",
              " 3300.70061981678,\n",
              " 3463.311190009117,\n",
              " 3659.2321432828903,\n",
              " 3788.0823048353195,\n",
              " 3949.7645787000656,\n",
              " 4134.742136836052,\n",
              " 4392.726510643959,\n",
              " 4501.864384770393,\n",
              " 4641.605736553669,\n",
              " 4762.024343788624,\n",
              " 4864.900121033192,\n",
              " 4991.091635406017,\n",
              " 5113.508125960827,\n",
              " 5251.801796853542,\n",
              " 5406.858553826809,\n",
              " 5509.809866607189,\n",
              " 5618.753378808498,\n",
              " 5800.002860486507,\n",
              " 5960.506949365139,\n",
              " 6098.002414166927,\n",
              " 6281.358573019505,\n",
              " 6429.842489302158,\n",
              " 6648.296846926212,\n",
              " 6861.062271177769,\n",
              " 6945.2248440384865,\n",
              " 7029.532828390598,\n",
              " 7183.492549002171,\n",
              " 7339.702891409397,\n",
              " 7575.204117357731,\n",
              " 110.49799013137817,\n",
              " 328.99939799308777,\n",
              " 478.74347281455994,\n",
              " 665.8309772014618,\n",
              " 813.6995415687561,\n",
              " 981.4589533805847,\n",
              " 1133.8471274375916,\n",
              " 1308.791843175888,\n",
              " 1507.9733502864838,\n",
              " 1638.0156462192535,\n",
              " 1734.5285441875458,\n",
              " 1809.36669754982,\n",
              " 1976.2396214008331,\n",
              " 2056.8344621658325,\n",
              " 2180.1534247398376,\n",
              " 2387.9423151016235,\n",
              " 2481.932524204254,\n",
              " 2662.9319252967834,\n",
              " 2793.62992143631,\n",
              " 2995.6331493854523,\n",
              " 3259.5283992290497,\n",
              " 3497.204554080963,\n",
              " 3662.650230884552,\n",
              " 3802.5237336158752,\n",
              " 3907.5652599334717,\n",
              " 4072.414773464203,\n",
              " 4173.686150431633,\n",
              " 4431.31851708889,\n",
              " 4575.636227011681,\n",
              " 4688.787575364113,\n",
              " 4869.434812664986,\n",
              " 5002.5728014707565,\n",
              " 5114.3993483781815,\n",
              " 5256.861702084541,\n",
              " 5471.789224743843,\n",
              " 5671.892451882362,\n",
              " 5774.833637595177,\n",
              " 5949.6203635931015,\n",
              " 6051.914470791817,\n",
              " 6200.735873579979,\n",
              " 6311.481011748314,\n",
              " 6476.180009961128,\n",
              " 6580.612681031227,\n",
              " 6752.981353878975,\n",
              " 7016.028885483742,\n",
              " 7139.249350428581,\n",
              " 7240.965782046318,\n",
              " 7327.196452736855,\n",
              " 7476.642934679985,\n",
              " 7604.684737801552,\n",
              " ...]"
            ]
          },
          "metadata": {
            "tags": []
          },
          "execution_count": 268
        }
      ]
    },
    {
      "cell_type": "code",
      "metadata": {
        "id": "HR5Mbp2X5fVB",
        "colab_type": "code",
        "colab": {}
      },
      "source": [
        "import matplotlib.pyplot as plt\n",
        "% matplotlib inline\n",
        "\n",
        "\n"
      ],
      "execution_count": 0,
      "outputs": []
    },
    {
      "cell_type": "code",
      "metadata": {
        "id": "HLHndPhu5lp3",
        "colab_type": "code",
        "outputId": "1c7c238b-1eaf-4a63-e298-4eff8eb850dc",
        "colab": {
          "base_uri": "https://localhost:8080/",
          "height": 282
        }
      },
      "source": [
        "plt.plot(loss_trend)"
      ],
      "execution_count": 271,
      "outputs": [
        {
          "output_type": "execute_result",
          "data": {
            "text/plain": [
              "[<matplotlib.lines.Line2D at 0x7f531fba63c8>]"
            ]
          },
          "metadata": {
            "tags": []
          },
          "execution_count": 271
        },
        {
          "output_type": "display_data",
          "data": {
            "image/png": "[encoded data removed]",
            "text/plain": [
              "<Figure size 432x288 with 1 Axes>"
            ]
          },
          "metadata": {
            "tags": []
          }
        }
      ]
    },
    {
      "cell_type": "code",
      "metadata": {
        "id": "BLlxkRxHU9us",
        "colab_type": "code",
        "outputId": "620723c8-a5ac-449b-d4d3-0fabee6eac57",
        "colab": {
          "base_uri": "https://localhost:8080/",
          "height": 34
        }
      },
      "source": [
        "nlp.pipe_names\n"
      ],
      "execution_count": 0,
      "outputs": [
        {
          "output_type": "execute_result",
          "data": {
            "text/plain": [
              "['tagger', 'parser', 'entity_ruler', 'ner', 'merge_entities']"
            ]
          },
          "metadata": {
            "tags": []
          },
          "execution_count": 191
        }
      ]
    },
    {
      "cell_type": "code",
      "metadata": {
        "id": "h5C6V1QPVhf8",
        "colab_type": "code",
        "outputId": "32594d91-602e-49a0-a2ec-666de1c4715b",
        "colab": {
          "base_uri": "https://localhost:8080/",
          "height": 34
        }
      },
      "source": [
        "ruler = EntityRuler(nlp).from_disk(\"patterns.jsonl\")\n",
        "nlp.add_pipe(ruler, before='ner')\n",
        "merge_ents = nlp.create_pipe(\"merge_entities\")\n",
        "nlp.add_pipe(merge_ents, after='ner')\n",
        "nlp.pipe_names"
      ],
      "execution_count": 0,
      "outputs": [
        {
          "output_type": "execute_result",
          "data": {
            "text/plain": [
              "['tagger', 'parser', 'entity_ruler', 'ner', 'merge_entities']"
            ]
          },
          "metadata": {
            "tags": []
          },
          "execution_count": 184
        }
      ]
    },
    {
      "cell_type": "code",
      "metadata": {
        "id": "OVNSKMZ2s_nH",
        "colab_type": "code",
        "outputId": "81f28029-9bab-48af-fea7-29ab5a46ee31",
        "colab": {
          "base_uri": "https://localhost:8080/",
          "height": 976
        }
      },
      "source": [
        "test_docs = train_reviews[1500:1510]\n",
        "\n",
        "for doc in test_docs:\n",
        "  displacy.render(nlp(doc),'ent',jupyter=True)\n",
        "  print([(ent.text, ent.label_) for ent in nlp(doc).ents])"
      ],
      "execution_count": 276,
      "outputs": [
        {
          "output_type": "display_data",
          "data": {
            "text/html": [
              "<div class=\"entities\" style=\"line-height: 2.5; direction: ltr\">Very fresh and high quality ingredients. The \n",
              "<mark class=\"entity\" style=\"background: #ddd; padding: 0.45em 0.6em; margin: 0 0.25em; line-height: 1; border-radius: 0.35em; box-decoration-break: clone; -webkit-box-decoration-break: clone\">\n",
              "    salad\n",
              "    <span style=\"font-size: 0.8em; font-weight: bold; line-height: 1; border-radius: 0.35em; text-transform: uppercase; vertical-align: middle; margin-left: 0.5rem\">dish</span>\n",
              "</mark>\n",
              " was crunchy and nice. They had \n",
              "<mark class=\"entity\" style=\"background: #ddd; padding: 0.45em 0.6em; margin: 0 0.25em; line-height: 1; border-radius: 0.35em; box-decoration-break: clone; -webkit-box-decoration-break: clone\">\n",
              "    cucumber\n",
              "    <span style=\"font-size: 0.8em; font-weight: bold; line-height: 1; border-radius: 0.35em; text-transform: uppercase; vertical-align: middle; margin-left: 0.5rem\">vegetable</span>\n",
              "</mark>\n",
              " and \n",
              "<mark class=\"entity\" style=\"background: #ddd; padding: 0.45em 0.6em; margin: 0 0.25em; line-height: 1; border-radius: 0.35em; box-decoration-break: clone; -webkit-box-decoration-break: clone\">\n",
              "    avocado\n",
              "    <span style=\"font-size: 0.8em; font-weight: bold; line-height: 1; border-radius: 0.35em; text-transform: uppercase; vertical-align: middle; margin-left: 0.5rem\">vegetable</span>\n",
              "</mark>\n",
              " amongst other things.</div>"
            ],
            "text/plain": [
              "<IPython.core.display.HTML object>"
            ]
          },
          "metadata": {
            "tags": []
          }
        },
        {
          "output_type": "stream",
          "text": [
            "[('salad', 'dish'), ('cucumber', 'vegetable'), ('avocado', 'vegetable')]\n"
          ],
          "name": "stdout"
        },
        {
          "output_type": "display_data",
          "data": {
            "text/html": [
              "<div class=\"entities\" style=\"line-height: 2.5; direction: ltr\">Again very nice and good. \n",
              "<mark class=\"entity\" style=\"background: #e4e7d2; padding: 0.45em 0.6em; margin: 0 0.25em; line-height: 1; border-radius: 0.35em; box-decoration-break: clone; -webkit-box-decoration-break: clone\">\n",
              "    One\n",
              "    <span style=\"font-size: 0.8em; font-weight: bold; line-height: 1; border-radius: 0.35em; text-transform: uppercase; vertical-align: middle; margin-left: 0.5rem\">CARDINAL</span>\n",
              "</mark>\n",
              " can argue why pay more for this dish which is a convenient mom mock dish available. The mock \n",
              "<mark class=\"entity\" style=\"background: #ddd; padding: 0.45em 0.6em; margin: 0 0.25em; line-height: 1; border-radius: 0.35em; box-decoration-break: clone; -webkit-box-decoration-break: clone\">\n",
              "    chicken\n",
              "    <span style=\"font-size: 0.8em; font-weight: bold; line-height: 1; border-radius: 0.35em; text-transform: uppercase; vertical-align: middle; margin-left: 0.5rem\">dish</span>\n",
              "</mark>\n",
              " was well done and the \n",
              "<mark class=\"entity\" style=\"background: #ddd; padding: 0.45em 0.6em; margin: 0 0.25em; line-height: 1; border-radius: 0.35em; box-decoration-break: clone; -webkit-box-decoration-break: clone\">\n",
              "    cashews\n",
              "    <span style=\"font-size: 0.8em; font-weight: bold; line-height: 1; border-radius: 0.35em; text-transform: uppercase; vertical-align: middle; margin-left: 0.5rem\">dish</span>\n",
              "</mark>\n",
              " and the chilli enhance the taste.</div>"
            ],
            "text/plain": [
              "<IPython.core.display.HTML object>"
            ]
          },
          "metadata": {
            "tags": []
          }
        },
        {
          "output_type": "stream",
          "text": [
            "[('One', 'CARDINAL'), ('chicken', 'dish'), ('cashews', 'dish')]\n"
          ],
          "name": "stdout"
        },
        {
          "output_type": "display_data",
          "data": {
            "text/html": [
              "<div class=\"entities\" style=\"line-height: 2.5; direction: ltr\">I’ve had this gooey chocolate cake a couple of times, so my friends ordered it on my birthday! And not just me (\n",
              "<mark class=\"entity\" style=\"background: #ddd; padding: 0.45em 0.6em; margin: 0 0.25em; line-height: 1; border-radius: 0.35em; box-decoration-break: clone; -webkit-box-decoration-break: clone\">\n",
              "    vegan\n",
              "    <span style=\"font-size: 0.8em; font-weight: bold; line-height: 1; border-radius: 0.35em; text-transform: uppercase; vertical-align: middle; margin-left: 0.5rem\">lifestyle</span>\n",
              "</mark>\n",
              ") but all my other friends also loved it! It’s the best when it’s warm because the chocolate oozes out, if cold it’s a little hard to cut but nonetheless delicious! It’s my favourite \n",
              "<mark class=\"entity\" style=\"background: #ddd; padding: 0.45em 0.6em; margin: 0 0.25em; line-height: 1; border-radius: 0.35em; box-decoration-break: clone; -webkit-box-decoration-break: clone\">\n",
              "    vegan\n",
              "    <span style=\"font-size: 0.8em; font-weight: bold; line-height: 1; border-radius: 0.35em; text-transform: uppercase; vertical-align: middle; margin-left: 0.5rem\">lifestyle</span>\n",
              "</mark>\n",
              " dessert in the city and after having it on my birthday a couple of friends (non-\n",
              "<mark class=\"entity\" style=\"background: #ddd; padding: 0.45em 0.6em; margin: 0 0.25em; line-height: 1; border-radius: 0.35em; box-decoration-break: clone; -webkit-box-decoration-break: clone\">\n",
              "    vegetarian\n",
              "    <span style=\"font-size: 0.8em; font-weight: bold; line-height: 1; border-radius: 0.35em; text-transform: uppercase; vertical-align: middle; margin-left: 0.5rem\">lifestyle</span>\n",
              "</mark>\n",
              ") ordered it for their birthday as well! Highly recommended!</div>"
            ],
            "text/plain": [
              "<IPython.core.display.HTML object>"
            ]
          },
          "metadata": {
            "tags": []
          }
        },
        {
          "output_type": "stream",
          "text": [
            "[('vegan', 'lifestyle'), ('vegan', 'lifestyle'), ('vegetarian', 'lifestyle')]\n"
          ],
          "name": "stdout"
        },
        {
          "output_type": "display_data",
          "data": {
            "text/html": [
              "<div class=\"entities\" style=\"line-height: 2.5; direction: ltr\">The texture of the ice cream is really smooth. It’s got a slightly bitter taste for it and Its great if you like dark chocolate. It’s made of \n",
              "<mark class=\"entity\" style=\"background: #ddd; padding: 0.45em 0.6em; margin: 0 0.25em; line-height: 1; border-radius: 0.35em; box-decoration-break: clone; -webkit-box-decoration-break: clone\">\n",
              "    coconut milk\n",
              "    <span style=\"font-size: 0.8em; font-weight: bold; line-height: 1; border-radius: 0.35em; text-transform: uppercase; vertical-align: middle; margin-left: 0.5rem\">dish</span>\n",
              "</mark>\n",
              " but you don’t get the taste of the coconut at all! My go-to place for \n",
              "<mark class=\"entity\" style=\"background: #ddd; padding: 0.45em 0.6em; margin: 0 0.25em; line-height: 1; border-radius: 0.35em; box-decoration-break: clone; -webkit-box-decoration-break: clone\">\n",
              "    vegan\n",
              "    <span style=\"font-size: 0.8em; font-weight: bold; line-height: 1; border-radius: 0.35em; text-transform: uppercase; vertical-align: middle; margin-left: 0.5rem\">lifestyle</span>\n",
              "</mark>\n",
              " ice cream!</div>"
            ],
            "text/plain": [
              "<IPython.core.display.HTML object>"
            ]
          },
          "metadata": {
            "tags": []
          }
        },
        {
          "output_type": "stream",
          "text": [
            "[('coconut milk', 'dish'), ('vegan', 'lifestyle')]\n"
          ],
          "name": "stdout"
        },
        {
          "output_type": "display_data",
          "data": {
            "text/html": [
              "<div class=\"entities\" style=\"line-height: 2.5; direction: ltr\">This \n",
              "<mark class=\"entity\" style=\"background: #ddd; padding: 0.45em 0.6em; margin: 0 0.25em; line-height: 1; border-radius: 0.35em; box-decoration-break: clone; -webkit-box-decoration-break: clone\">\n",
              "    hummus\n",
              "    <span style=\"font-size: 0.8em; font-weight: bold; line-height: 1; border-radius: 0.35em; text-transform: uppercase; vertical-align: middle; margin-left: 0.5rem\">dish</span>\n",
              "</mark>\n",
              " is a very different \n",
              "<mark class=\"entity\" style=\"background: #ddd; padding: 0.45em 0.6em; margin: 0 0.25em; line-height: 1; border-radius: 0.35em; box-decoration-break: clone; -webkit-box-decoration-break: clone\">\n",
              "    hummus\n",
              "    <span style=\"font-size: 0.8em; font-weight: bold; line-height: 1; border-radius: 0.35em; text-transform: uppercase; vertical-align: middle; margin-left: 0.5rem\">dish</span>\n",
              "</mark>\n",
              "! It’s got an orangish colour and tastes a lot like olives. Have it with the \n",
              "<mark class=\"entity\" style=\"background: #ddd; padding: 0.45em 0.6em; margin: 0 0.25em; line-height: 1; border-radius: 0.35em; box-decoration-break: clone; -webkit-box-decoration-break: clone\">\n",
              "    ciabatta\n",
              "    <span style=\"font-size: 0.8em; font-weight: bold; line-height: 1; border-radius: 0.35em; text-transform: uppercase; vertical-align: middle; margin-left: 0.5rem\">dish</span>\n",
              "</mark>\n",
              " bread only, it tastes like heaven. Not everyone’s taste but personally it’s \n",
              "<mark class=\"entity\" style=\"background: #e4e7d2; padding: 0.45em 0.6em; margin: 0 0.25em; line-height: 1; border-radius: 0.35em; box-decoration-break: clone; -webkit-box-decoration-break: clone\">\n",
              "    one\n",
              "    <span style=\"font-size: 0.8em; font-weight: bold; line-height: 1; border-radius: 0.35em; text-transform: uppercase; vertical-align: middle; margin-left: 0.5rem\">CARDINAL</span>\n",
              "</mark>\n",
              " of my favourite \n",
              "<mark class=\"entity\" style=\"background: #ddd; padding: 0.45em 0.6em; margin: 0 0.25em; line-height: 1; border-radius: 0.35em; box-decoration-break: clone; -webkit-box-decoration-break: clone\">\n",
              "    hummus\n",
              "    <span style=\"font-size: 0.8em; font-weight: bold; line-height: 1; border-radius: 0.35em; text-transform: uppercase; vertical-align: middle; margin-left: 0.5rem\">dish</span>\n",
              "</mark>\n",
              " in the city.</div>"
            ],
            "text/plain": [
              "<IPython.core.display.HTML object>"
            ]
          },
          "metadata": {
            "tags": []
          }
        },
        {
          "output_type": "stream",
          "text": [
            "[('hummus', 'dish'), ('hummus', 'dish'), ('ciabatta', 'dish'), ('one', 'CARDINAL'), ('hummus', 'dish')]\n"
          ],
          "name": "stdout"
        },
        {
          "output_type": "display_data",
          "data": {
            "text/html": [
              "<div class=\"entities\" style=\"line-height: 2.5; direction: ltr\">This food truck is incredible. I've had \n",
              "<mark class=\"entity\" style=\"background: #ddd; padding: 0.45em 0.6em; margin: 0 0.25em; line-height: 1; border-radius: 0.35em; box-decoration-break: clone; -webkit-box-decoration-break: clone\">\n",
              "    vegan\n",
              "    <span style=\"font-size: 0.8em; font-weight: bold; line-height: 1; border-radius: 0.35em; text-transform: uppercase; vertical-align: middle; margin-left: 0.5rem\">lifestyle</span>\n",
              "</mark>\n",
              " hot dogs in the past, but they're usually at food trucks that primarily sell hot dogs and happen to have a \n",
              "<mark class=\"entity\" style=\"background: #ddd; padding: 0.45em 0.6em; margin: 0 0.25em; line-height: 1; border-radius: 0.35em; box-decoration-break: clone; -webkit-box-decoration-break: clone\">\n",
              "    vegan\n",
              "    <span style=\"font-size: 0.8em; font-weight: bold; line-height: 1; border-radius: 0.35em; text-transform: uppercase; vertical-align: middle; margin-left: 0.5rem\">lifestyle</span>\n",
              "</mark>\n",
              " option. This food truck sells ONLY \n",
              "<mark class=\"entity\" style=\"background: #ddd; padding: 0.45em 0.6em; margin: 0 0.25em; line-height: 1; border-radius: 0.35em; box-decoration-break: clone; -webkit-box-decoration-break: clone\">\n",
              "    vegan\n",
              "    <span style=\"font-size: 0.8em; font-weight: bold; line-height: 1; border-radius: 0.35em; text-transform: uppercase; vertical-align: middle; margin-left: 0.5rem\">lifestyle</span>\n",
              "</mark>\n",
              " dogs. They additional \n",
              "<mark class=\"entity\" style=\"background: #ddd; padding: 0.45em 0.6em; margin: 0 0.25em; line-height: 1; border-radius: 0.35em; box-decoration-break: clone; -webkit-box-decoration-break: clone\">\n",
              "    vegan\n",
              "    <span style=\"font-size: 0.8em; font-weight: bold; line-height: 1; border-radius: 0.35em; text-transform: uppercase; vertical-align: middle; margin-left: 0.5rem\">lifestyle</span>\n",
              "</mark>\n",
              " sides as well.</br></br>I got the \n",
              "<mark class=\"entity\" style=\"background: #ddd; padding: 0.45em 0.6em; margin: 0 0.25em; line-height: 1; border-radius: 0.35em; box-decoration-break: clone; -webkit-box-decoration-break: clone\">\n",
              "    breakfast\n",
              "    <span style=\"font-size: 0.8em; font-weight: bold; line-height: 1; border-radius: 0.35em; text-transform: uppercase; vertical-align: middle; margin-left: 0.5rem\">meal</span>\n",
              "</mark>\n",
              " dog - it had a \n",
              "<mark class=\"entity\" style=\"background: #ddd; padding: 0.45em 0.6em; margin: 0 0.25em; line-height: 1; border-radius: 0.35em; box-decoration-break: clone; -webkit-box-decoration-break: clone\">\n",
              "    vegan\n",
              "    <span style=\"font-size: 0.8em; font-weight: bold; line-height: 1; border-radius: 0.35em; text-transform: uppercase; vertical-align: middle; margin-left: 0.5rem\">lifestyle</span>\n",
              "</mark>\n",
              " dog, hashbrown, \n",
              "<mark class=\"entity\" style=\"background: #ddd; padding: 0.45em 0.6em; margin: 0 0.25em; line-height: 1; border-radius: 0.35em; box-decoration-break: clone; -webkit-box-decoration-break: clone\">\n",
              "    chipotle\n",
              "    <span style=\"font-size: 0.8em; font-weight: bold; line-height: 1; border-radius: 0.35em; text-transform: uppercase; vertical-align: middle; margin-left: 0.5rem\">dish</span>\n",
              "</mark>\n",
              " \n",
              "<mark class=\"entity\" style=\"background: #ddd; padding: 0.45em 0.6em; margin: 0 0.25em; line-height: 1; border-radius: 0.35em; box-decoration-break: clone; -webkit-box-decoration-break: clone\">\n",
              "    seitan\n",
              "    <span style=\"font-size: 0.8em; font-weight: bold; line-height: 1; border-radius: 0.35em; text-transform: uppercase; vertical-align: middle; margin-left: 0.5rem\">dish</span>\n",
              "</mark>\n",
              ", and \n",
              "<mark class=\"entity\" style=\"background: #ddd; padding: 0.45em 0.6em; margin: 0 0.25em; line-height: 1; border-radius: 0.35em; box-decoration-break: clone; -webkit-box-decoration-break: clone\">\n",
              "    vegan\n",
              "    <span style=\"font-size: 0.8em; font-weight: bold; line-height: 1; border-radius: 0.35em; text-transform: uppercase; vertical-align: middle; margin-left: 0.5rem\">lifestyle</span>\n",
              "</mark>\n",
              " \n",
              "<mark class=\"entity\" style=\"background: #ddd; padding: 0.45em 0.6em; margin: 0 0.25em; line-height: 1; border-radius: 0.35em; box-decoration-break: clone; -webkit-box-decoration-break: clone\">\n",
              "    queso\n",
              "    <span style=\"font-size: 0.8em; font-weight: bold; line-height: 1; border-radius: 0.35em; text-transform: uppercase; vertical-align: middle; margin-left: 0.5rem\">dish</span>\n",
              "</mark>\n",
              ". I was full after eating it and will definitely come back to try out the different options. Plus, it's permanently stationed at a bar with an awesome patio.</div>"
            ],
            "text/plain": [
              "<IPython.core.display.HTML object>"
            ]
          },
          "metadata": {
            "tags": []
          }
        },
        {
          "output_type": "stream",
          "text": [
            "[('vegan', 'lifestyle'), ('vegan', 'lifestyle'), ('vegan', 'lifestyle'), ('vegan', 'lifestyle'), ('breakfast', 'meal'), ('vegan', 'lifestyle'), ('chipotle', 'dish'), ('seitan', 'dish'), ('vegan', 'lifestyle'), ('queso', 'dish')]\n"
          ],
          "name": "stdout"
        },
        {
          "output_type": "display_data",
          "data": {
            "text/html": [
              "<div class=\"entities\" style=\"line-height: 2.5; direction: ltr\">I haven't had much \n",
              "<mark class=\"entity\" style=\"background: #c887fb; padding: 0.45em 0.6em; margin: 0 0.25em; line-height: 1; border-radius: 0.35em; box-decoration-break: clone; -webkit-box-decoration-break: clone\">\n",
              "    Malaysian\n",
              "    <span style=\"font-size: 0.8em; font-weight: bold; line-height: 1; border-radius: 0.35em; text-transform: uppercase; vertical-align: middle; margin-left: 0.5rem\">NORP</span>\n",
              "</mark>\n",
              " food in the States before (just a few dishes in Kuala Lumpur), but objectively I thought the \n",
              "<mark class=\"entity\" style=\"background: #ddd; padding: 0.45em 0.6em; margin: 0 0.25em; line-height: 1; border-radius: 0.35em; box-decoration-break: clone; -webkit-box-decoration-break: clone\">\n",
              "    Nasi\n",
              "    <span style=\"font-size: 0.8em; font-weight: bold; line-height: 1; border-radius: 0.35em; text-transform: uppercase; vertical-align: middle; margin-left: 0.5rem\">dish</span>\n",
              "</mark>\n",
              " Goreng was really well done. It was crispy, but it didn't taste too oily. Since it's a type of fried \n",
              "<mark class=\"entity\" style=\"background: #ddd; padding: 0.45em 0.6em; margin: 0 0.25em; line-height: 1; border-radius: 0.35em; box-decoration-break: clone; -webkit-box-decoration-break: clone\">\n",
              "    rice\n",
              "    <span style=\"font-size: 0.8em; font-weight: bold; line-height: 1; border-radius: 0.35em; text-transform: uppercase; vertical-align: middle; margin-left: 0.5rem\">dish</span>\n",
              "</mark>\n",
              ", I imagine it wasn't the healthiest, but everything else about the experience was incredible. I definitely recommend this restaurant!</div>"
            ],
            "text/plain": [
              "<IPython.core.display.HTML object>"
            ]
          },
          "metadata": {
            "tags": []
          }
        },
        {
          "output_type": "stream",
          "text": [
            "[('Malaysian', 'NORP'), ('Nasi', 'dish'), ('rice', 'dish')]\n"
          ],
          "name": "stdout"
        },
        {
          "output_type": "display_data",
          "data": {
            "text/html": [
              "<div class=\"entities\" style=\"line-height: 2.5; direction: ltr\">This \n",
              "<mark class=\"entity\" style=\"background: #ddd; padding: 0.45em 0.6em; margin: 0 0.25em; line-height: 1; border-radius: 0.35em; box-decoration-break: clone; -webkit-box-decoration-break: clone\">\n",
              "    noodle\n",
              "    <span style=\"font-size: 0.8em; font-weight: bold; line-height: 1; border-radius: 0.35em; text-transform: uppercase; vertical-align: middle; margin-left: 0.5rem\">dish</span>\n",
              "</mark>\n",
              " dish was delicious. The flavors were different than what I'm accustomed to (I haven't had much \n",
              "<mark class=\"entity\" style=\"background: #c887fb; padding: 0.45em 0.6em; margin: 0 0.25em; line-height: 1; border-radius: 0.35em; box-decoration-break: clone; -webkit-box-decoration-break: clone\">\n",
              "    Malaysian\n",
              "    <span style=\"font-size: 0.8em; font-weight: bold; line-height: 1; border-radius: 0.35em; text-transform: uppercase; vertical-align: middle; margin-left: 0.5rem\">NORP</span>\n",
              "</mark>\n",
              " food, but I'm told the flavors are pretty authentic here). Nonetheless, it felt creative and tasty. They serve a separate \n",
              "<mark class=\"entity\" style=\"background: #ddd; padding: 0.45em 0.6em; margin: 0 0.25em; line-height: 1; border-radius: 0.35em; box-decoration-break: clone; -webkit-box-decoration-break: clone\">\n",
              "    mushroom\n",
              "    <span style=\"font-size: 0.8em; font-weight: bold; line-height: 1; border-radius: 0.35em; text-transform: uppercase; vertical-align: middle; margin-left: 0.5rem\">vegetable</span>\n",
              "</mark>\n",
              " broth on the side with the dish as well.</div>"
            ],
            "text/plain": [
              "<IPython.core.display.HTML object>"
            ]
          },
          "metadata": {
            "tags": []
          }
        },
        {
          "output_type": "stream",
          "text": [
            "[('noodle', 'dish'), ('Malaysian', 'NORP'), ('mushroom', 'vegetable')]\n"
          ],
          "name": "stdout"
        },
        {
          "output_type": "display_data",
          "data": {
            "text/html": [
              "<div class=\"entities\" style=\"line-height: 2.5; direction: ltr\">This is the best \n",
              "<mark class=\"entity\" style=\"background: #ddd; padding: 0.45em 0.6em; margin: 0 0.25em; line-height: 1; border-radius: 0.35em; box-decoration-break: clone; -webkit-box-decoration-break: clone\">\n",
              "    vegan\n",
              "    <span style=\"font-size: 0.8em; font-weight: bold; line-height: 1; border-radius: 0.35em; text-transform: uppercase; vertical-align: middle; margin-left: 0.5rem\">lifestyle</span>\n",
              "</mark>\n",
              " \n",
              "<mark class=\"entity\" style=\"background: #ddd; padding: 0.45em 0.6em; margin: 0 0.25em; line-height: 1; border-radius: 0.35em; box-decoration-break: clone; -webkit-box-decoration-break: clone\">\n",
              "    pizza\n",
              "    <span style=\"font-size: 0.8em; font-weight: bold; line-height: 1; border-radius: 0.35em; text-transform: uppercase; vertical-align: middle; margin-left: 0.5rem\">dish</span>\n",
              "</mark>\n",
              " I've ever had. Couldn't tell that there wasn't any dairy in the \n",
              "<mark class=\"entity\" style=\"background: #ddd; padding: 0.45em 0.6em; margin: 0 0.25em; line-height: 1; border-radius: 0.35em; box-decoration-break: clone; -webkit-box-decoration-break: clone\">\n",
              "    pizza\n",
              "    <span style=\"font-size: 0.8em; font-weight: bold; line-height: 1; border-radius: 0.35em; text-transform: uppercase; vertical-align: middle; margin-left: 0.5rem\">dish</span>\n",
              "</mark>\n",
              "! This place has \n",
              "<mark class=\"entity\" style=\"background: #e4e7d2; padding: 0.45em 0.6em; margin: 0 0.25em; line-height: 1; border-radius: 0.35em; box-decoration-break: clone; -webkit-box-decoration-break: clone\">\n",
              "    six\n",
              "    <span style=\"font-size: 0.8em; font-weight: bold; line-height: 1; border-radius: 0.35em; text-transform: uppercase; vertical-align: middle; margin-left: 0.5rem\">CARDINAL</span>\n",
              "</mark>\n",
              " different \n",
              "<mark class=\"entity\" style=\"background: #ddd; padding: 0.45em 0.6em; margin: 0 0.25em; line-height: 1; border-radius: 0.35em; box-decoration-break: clone; -webkit-box-decoration-break: clone\">\n",
              "    vegan\n",
              "    <span style=\"font-size: 0.8em; font-weight: bold; line-height: 1; border-radius: 0.35em; text-transform: uppercase; vertical-align: middle; margin-left: 0.5rem\">lifestyle</span>\n",
              "</mark>\n",
              " \n",
              "<mark class=\"entity\" style=\"background: #ddd; padding: 0.45em 0.6em; margin: 0 0.25em; line-height: 1; border-radius: 0.35em; box-decoration-break: clone; -webkit-box-decoration-break: clone\">\n",
              "    pizza\n",
              "    <span style=\"font-size: 0.8em; font-weight: bold; line-height: 1; border-radius: 0.35em; text-transform: uppercase; vertical-align: middle; margin-left: 0.5rem\">dish</span>\n",
              "</mark>\n",
              " pies that all seem exceptionally creative. I almost ordered it twice over the course of three days - can't wait to go back.</div>"
            ],
            "text/plain": [
              "<IPython.core.display.HTML object>"
            ]
          },
          "metadata": {
            "tags": []
          }
        },
        {
          "output_type": "stream",
          "text": [
            "[('vegan', 'lifestyle'), ('pizza', 'dish'), ('pizza', 'dish'), ('six', 'CARDINAL'), ('vegan', 'lifestyle'), ('pizza', 'dish')]\n"
          ],
          "name": "stdout"
        },
        {
          "output_type": "display_data",
          "data": {
            "text/html": [
              "<div class=\"entities\" style=\"line-height: 2.5; direction: ltr\">The \n",
              "<mark class=\"entity\" style=\"background: #ddd; padding: 0.45em 0.6em; margin: 0 0.25em; line-height: 1; border-radius: 0.35em; box-decoration-break: clone; -webkit-box-decoration-break: clone\">\n",
              "    rendang\n",
              "    <span style=\"font-size: 0.8em; font-weight: bold; line-height: 1; border-radius: 0.35em; text-transform: uppercase; vertical-align: middle; margin-left: 0.5rem\">dish</span>\n",
              "</mark>\n",
              " has been blowing my mind for the last few days!!</div>"
            ],
            "text/plain": [
              "<IPython.core.display.HTML object>"
            ]
          },
          "metadata": {
            "tags": []
          }
        },
        {
          "output_type": "stream",
          "text": [
            "[('rendang', 'dish')]\n"
          ],
          "name": "stdout"
        }
      ]
    },
    {
      "cell_type": "code",
      "metadata": {
        "id": "VgFoa_qg27IU",
        "colab_type": "code",
        "outputId": "52bdb3fc-621e-4c38-8740-1fa288c3ff86",
        "colab": {
          "base_uri": "https://localhost:8080/",
          "height": 34
        }
      },
      "source": [
        "pwd"
      ],
      "execution_count": 0,
      "outputs": [
        {
          "output_type": "execute_result",
          "data": {
            "text/plain": [
              "'/gdrive/My Drive/abv_reviews'"
            ]
          },
          "metadata": {
            "tags": []
          },
          "execution_count": 375
        }
      ]
    },
    {
      "cell_type": "code",
      "metadata": {
        "id": "giyKfzGBDiCd",
        "colab_type": "code",
        "outputId": "2d571add-9be5-49bb-db69-ddf334b7f944",
        "colab": {
          "base_uri": "https://localhost:8080/",
          "height": 1000
        }
      },
      "source": [
        "check_list"
      ],
      "execution_count": 0,
      "outputs": [
        {
          "output_type": "execute_result",
          "data": {
            "text/plain": [
              "[('bok', 'U_vegetable'),\n",
              " ('choy', 'U_vegetable'),\n",
              " ('bean', 'U_vegetable'),\n",
              " ('sprouts', 'U_vegetable'),\n",
              " ('soffritto', 'U_dish'),\n",
              " ('patties', 'U_dish'),\n",
              " ('cakes', 'U_dish'),\n",
              " ('parmesan', 'U_dish'),\n",
              " ('cheese', 'U_dish'),\n",
              " ('breadcrumbs', 'U_dish'),\n",
              " ('soy', 'U_condiment'),\n",
              " ('sauce', 'U_condiment'),\n",
              " ('olive', 'U_condiment'),\n",
              " ('oil', 'U_condiment'),\n",
              " ('wine', 'U_beverage'),\n",
              " ('3/4-inch', 'U_QUANTITY'),\n",
              " ('2-inch', 'U_QUANTITY'),\n",
              " ('3-inch', 'U_QUANTITY'),\n",
              " ('6-inch', 'U_QUANTITY'),\n",
              " ('first', 'U_ORDINAL'),\n",
              " ('second', 'U_ORDINAL'),\n",
              " ('third', 'U_ORDINAL'),\n",
              " ('fourth', 'U_ORDINAL'),\n",
              " ('fifth', 'U_ORDINAL'),\n",
              " ('last', 'U_ORDINAL'),\n",
              " ('1', 'U_CARDINAL'),\n",
              " ('2', 'U_CARDINAL'),\n",
              " ('3', 'U_CARDINAL'),\n",
              " ('4', 'U_CARDINAL'),\n",
              " ('5', 'U_CARDINAL'),\n",
              " ('6', 'U_CARDINAL'),\n",
              " ('10', 'U_CARDINAL'),\n",
              " ('100', 'U_CARDINAL'),\n",
              " ('one', 'U_CARDINAL'),\n",
              " ('two', 'U_CARDINAL'),\n",
              " ('three', 'U_CARDINAL'),\n",
              " ('four', 'U_CARDINAL'),\n",
              " ('five', 'U_CARDINAL'),\n",
              " ('six', 'U_CARDINAL'),\n",
              " ('seven', 'U_CARDINAL'),\n",
              " ('eight', 'U_CARDINAL'),\n",
              " ('nine', 'U_CARDINAL'),\n",
              " ('ten', 'U_CARDINAL'),\n",
              " ('minute', 'U_TIME'),\n",
              " ('minutes', 'U_TIME'),\n",
              " ('seconds', 'U_TIME'),\n",
              " ('hour', 'U_TIME'),\n",
              " ('hours', 'U_TIME'),\n",
              " ('day', 'U_TIME'),\n",
              " ('$', 'U_MONEY'),\n",
              " ('USD', 'U_MONEY'),\n",
              " ('SGD', 'U_MONEY'),\n",
              " ('S$', 'U_MONEY'),\n",
              " ('Rs', 'U_MONEY'),\n",
              " ('£', 'U_MONEY'),\n",
              " ('€', 'U_MONEY'),\n",
              " ('bacon', 'U_dish'),\n",
              " ('burger', 'U_dish'),\n",
              " ('portobello mushroom', 'U_vegetable'),\n",
              " ('tomatoes', 'U_vegetable'),\n",
              " ('pickles', 'U_condiment'),\n",
              " ('french beans', 'U_vegetable'),\n",
              " ('bento', 'U_dish'),\n",
              " (\"lion's mane mushroom\", 'U_vegetable'),\n",
              " ('lion mane mushroom', 'U_1'),\n",
              " ('beehoon', 'U_dish'),\n",
              " ('dollar', 'U_MONEY'),\n",
              " (\"lion's mane mushroom rendang\", 'U_dish'),\n",
              " ('soy chunks', 'U_dish'),\n",
              " ('soya noodles', 'U_dish'),\n",
              " ('beans', 'U_vegetable'),\n",
              " ('peppers', 'U_condiment'),\n",
              " ('paneer tikka masala', 'U_dish'),\n",
              " ('sweet potato', 'U_vegetable'),\n",
              " ('falafels', 'U_dish')]"
            ]
          },
          "metadata": {
            "tags": []
          },
          "execution_count": 108
        }
      ]
    },
    {
      "cell_type": "code",
      "metadata": {
        "id": "BdUe0QHS2huF",
        "colab_type": "code",
        "colab": {}
      },
      "source": [
        "nlp.to_disk('trained_model_2020_01_08')"
      ],
      "execution_count": 0,
      "outputs": []
    },
    {
      "cell_type": "code",
      "metadata": {
        "id": "OkwkkIwToFSn",
        "colab_type": "code",
        "colab": {}
      },
      "source": [
        "import json\n",
        "\n",
        "with open('checklist.txt', 'w') as f:\n",
        "    f.write(json.dumps(check_list))"
      ],
      "execution_count": 0,
      "outputs": []
    },
    {
      "cell_type": "code",
      "metadata": {
        "id": "DdEsXdFB8VVJ",
        "colab_type": "code",
        "outputId": "347ccd64-426c-4651-861a-efc85e513cae",
        "colab": {
          "base_uri": "https://localhost:8080/",
          "height": 34
        }
      },
      "source": [
        "[token.pos_ for token in nlp(\"lion's mane mushroom falafels\")]"
      ],
      "execution_count": 0,
      "outputs": [
        {
          "output_type": "execute_result",
          "data": {
            "text/plain": [
              "['NOUN', 'PART', 'NOUN', 'NOUN', 'NOUN']"
            ]
          },
          "metadata": {
            "tags": []
          },
          "execution_count": 114
        }
      ]
    },
    {
      "cell_type": "code",
      "metadata": {
        "id": "gAn4XTSI3zLS",
        "colab_type": "code",
        "outputId": "af9282f9-b33a-4faa-9a2c-dbe755ad8e32",
        "colab": {
          "base_uri": "https://localhost:8080/",
          "height": 767
        }
      },
      "source": [
        "for doc in list(nlp.pipe(texts[check])):\n",
        "  displacy.render(doc,'ent',jupyter=True)\n",
        "#  displacy.render(doc,'dep',jupyter=True,options={'distance': 60, 'fine_grained': True})"
      ],
      "execution_count": 0,
      "outputs": [
        {
          "output_type": "display_data",
          "data": {
            "text/html": [
              "<div class=\"entities\" style=\"line-height: 2.5; direction: ltr\">I ordered the high rise pizza dough, red \n",
              "<mark class=\"entity\" style=\"background: #ddd; padding: 0.45em 0.6em; margin: 0 0.25em; line-height: 1; border-radius: 0.35em; box-decoration-break: clone; -webkit-box-decoration-break: clone\">\n",
              "    sauce\n",
              "    <span style=\"font-size: 0.8em; font-weight: bold; line-height: 1; border-radius: 0.35em; text-transform: uppercase; vertical-align: middle; margin-left: 0.5rem\">dish</span>\n",
              "</mark>\n",
              ", vegan \n",
              "<mark class=\"entity\" style=\"background: #ddd; padding: 0.45em 0.6em; margin: 0 0.25em; line-height: 1; border-radius: 0.35em; box-decoration-break: clone; -webkit-box-decoration-break: clone\">\n",
              "    cheese\n",
              "    <span style=\"font-size: 0.8em; font-weight: bold; line-height: 1; border-radius: 0.35em; text-transform: uppercase; vertical-align: middle; margin-left: 0.5rem\">dish</span>\n",
              "</mark>\n",
              ", \n",
              "<mark class=\"entity\" style=\"background: #ddd; padding: 0.45em 0.6em; margin: 0 0.25em; line-height: 1; border-radius: 0.35em; box-decoration-break: clone; -webkit-box-decoration-break: clone\">\n",
              "    oregano\n",
              "    <span style=\"font-size: 0.8em; font-weight: bold; line-height: 1; border-radius: 0.35em; text-transform: uppercase; vertical-align: middle; margin-left: 0.5rem\">dish</span>\n",
              "</mark>\n",
              ", \n",
              "<mark class=\"entity\" style=\"background: #ddd; padding: 0.45em 0.6em; margin: 0 0.25em; line-height: 1; border-radius: 0.35em; box-decoration-break: clone; -webkit-box-decoration-break: clone\">\n",
              "    basil\n",
              "    <span style=\"font-size: 0.8em; font-weight: bold; line-height: 1; border-radius: 0.35em; text-transform: uppercase; vertical-align: middle; margin-left: 0.5rem\">dish</span>\n",
              "</mark>\n",
              " leaves, and balsamiq drizzle. Very cool set up there, they even change their gloves before working on the pizza at both prep and oven stages. Very tasty.</div>"
            ],
            "text/plain": [
              "<IPython.core.display.HTML object>"
            ]
          },
          "metadata": {
            "tags": []
          }
        },
        {
          "output_type": "display_data",
          "data": {
            "text/html": [
              "<div class=\"entities\" style=\"line-height: 2.5; direction: ltr\">Spinach and pumpkin flavoured \n",
              "<mark class=\"entity\" style=\"background: #ddd; padding: 0.45em 0.6em; margin: 0 0.25em; line-height: 1; border-radius: 0.35em; box-decoration-break: clone; -webkit-box-decoration-break: clone\">\n",
              "    ravioli\n",
              "    <span style=\"font-size: 0.8em; font-weight: bold; line-height: 1; border-radius: 0.35em; text-transform: uppercase; vertical-align: middle; margin-left: 0.5rem\">dish</span>\n",
              "</mark>\n",
              " was an excellent combination.\n",
              "#crfsg</div>"
            ],
            "text/plain": [
              "<IPython.core.display.HTML object>"
            ]
          },
          "metadata": {
            "tags": []
          }
        },
        {
          "output_type": "display_data",
          "data": {
            "text/html": [
              "<div class=\"entities\" style=\"line-height: 2.5; direction: ltr\">The \n",
              "<mark class=\"entity\" style=\"background: #ddd; padding: 0.45em 0.6em; margin: 0 0.25em; line-height: 1; border-radius: 0.35em; box-decoration-break: clone; -webkit-box-decoration-break: clone\">\n",
              "    vegan\n",
              "    <span style=\"font-size: 0.8em; font-weight: bold; line-height: 1; border-radius: 0.35em; text-transform: uppercase; vertical-align: middle; margin-left: 0.5rem\">dish</span>\n",
              "</mark>\n",
              " options to customize my \n",
              "<mark class=\"entity\" style=\"background: #ddd; padding: 0.45em 0.6em; margin: 0 0.25em; line-height: 1; border-radius: 0.35em; box-decoration-break: clone; -webkit-box-decoration-break: clone\">\n",
              "    salad\n",
              "    <span style=\"font-size: 0.8em; font-weight: bold; line-height: 1; border-radius: 0.35em; text-transform: uppercase; vertical-align: middle; margin-left: 0.5rem\">dish</span>\n",
              "</mark>\n",
              " are awesome! My base today was \n",
              "<mark class=\"entity\" style=\"background: #ddd; padding: 0.45em 0.6em; margin: 0 0.25em; line-height: 1; border-radius: 0.35em; box-decoration-break: clone; -webkit-box-decoration-break: clone\">\n",
              "    bulgar\n",
              "    <span style=\"font-size: 0.8em; font-weight: bold; line-height: 1; border-radius: 0.35em; text-transform: uppercase; vertical-align: middle; margin-left: 0.5rem\">vegetable</span>\n",
              "</mark>\n",
              " \n",
              "<mark class=\"entity\" style=\"background: #ddd; padding: 0.45em 0.6em; margin: 0 0.25em; line-height: 1; border-radius: 0.35em; box-decoration-break: clone; -webkit-box-decoration-break: clone\">\n",
              "    wheat\n",
              "    <span style=\"font-size: 0.8em; font-weight: bold; line-height: 1; border-radius: 0.35em; text-transform: uppercase; vertical-align: middle; margin-left: 0.5rem\">dish</span>\n",
              "</mark>\n",
              " &amp; \n",
              "<mark class=\"entity\" style=\"background: #ddd; padding: 0.45em 0.6em; margin: 0 0.25em; line-height: 1; border-radius: 0.35em; box-decoration-break: clone; -webkit-box-decoration-break: clone\">\n",
              "    corn\n",
              "    <span style=\"font-size: 0.8em; font-weight: bold; line-height: 1; border-radius: 0.35em; text-transform: uppercase; vertical-align: middle; margin-left: 0.5rem\">dish</span>\n",
              "</mark>\n",
              ", and I got \n",
              "<mark class=\"entity\" style=\"background: #ddd; padding: 0.45em 0.6em; margin: 0 0.25em; line-height: 1; border-radius: 0.35em; box-decoration-break: clone; -webkit-box-decoration-break: clone\">\n",
              "    sesame\n",
              "    <span style=\"font-size: 0.8em; font-weight: bold; line-height: 1; border-radius: 0.35em; text-transform: uppercase; vertical-align: middle; margin-left: 0.5rem\">dish</span>\n",
              "</mark>\n",
              " roasted carrots, roasted beets &amp; carrots, their delicious \n",
              "<mark class=\"entity\" style=\"background: #ddd; padding: 0.45em 0.6em; margin: 0 0.25em; line-height: 1; border-radius: 0.35em; box-decoration-break: clone; -webkit-box-decoration-break: clone\">\n",
              "    panko\n",
              "    <span style=\"font-size: 0.8em; font-weight: bold; line-height: 1; border-radius: 0.35em; text-transform: uppercase; vertical-align: middle; margin-left: 0.5rem\">dish</span>\n",
              "</mark>\n",
              " crusted fried \n",
              "<mark class=\"entity\" style=\"background: #ddd; padding: 0.45em 0.6em; margin: 0 0.25em; line-height: 1; border-radius: 0.35em; box-decoration-break: clone; -webkit-box-decoration-break: clone\">\n",
              "    tofu\n",
              "    <span style=\"font-size: 0.8em; font-weight: bold; line-height: 1; border-radius: 0.35em; text-transform: uppercase; vertical-align: middle; margin-left: 0.5rem\">dish</span>\n",
              "</mark>\n",
              ", freshly sliced \n",
              "<mark class=\"entity\" style=\"background: #ddd; padding: 0.45em 0.6em; margin: 0 0.25em; line-height: 1; border-radius: 0.35em; box-decoration-break: clone; -webkit-box-decoration-break: clone\">\n",
              "    avocado\n",
              "    <span style=\"font-size: 0.8em; font-weight: bold; line-height: 1; border-radius: 0.35em; text-transform: uppercase; vertical-align: middle; margin-left: 0.5rem\">dish</span>\n",
              "</mark>\n",
              " and topped it off with \n",
              "<mark class=\"entity\" style=\"background: #ddd; padding: 0.45em 0.6em; margin: 0 0.25em; line-height: 1; border-radius: 0.35em; box-decoration-break: clone; -webkit-box-decoration-break: clone\">\n",
              "    sesame\n",
              "    <span style=\"font-size: 0.8em; font-weight: bold; line-height: 1; border-radius: 0.35em; text-transform: uppercase; vertical-align: middle; margin-left: 0.5rem\">vegetable</span>\n",
              "</mark>\n",
              " \n",
              "<mark class=\"entity\" style=\"background: #ddd; padding: 0.45em 0.6em; margin: 0 0.25em; line-height: 1; border-radius: 0.35em; box-decoration-break: clone; -webkit-box-decoration-break: clone\">\n",
              "    tahini\n",
              "    <span style=\"font-size: 0.8em; font-weight: bold; line-height: 1; border-radius: 0.35em; text-transform: uppercase; vertical-align: middle; margin-left: 0.5rem\">vegetable</span>\n",
              "</mark>\n",
              ". All for $10. This was an awesome meal, definitely recommend #avorush if you want something healthy!</div>"
            ],
            "text/plain": [
              "<IPython.core.display.HTML object>"
            ]
          },
          "metadata": {
            "tags": []
          }
        },
        {
          "output_type": "display_data",
          "data": {
            "text/html": [
              "<div class=\"entities\" style=\"line-height: 2.5; direction: ltr\">I love that the restaurant has a good range of \n",
              "<mark class=\"entity\" style=\"background: #ddd; padding: 0.45em 0.6em; margin: 0 0.25em; line-height: 1; border-radius: 0.35em; box-decoration-break: clone; -webkit-box-decoration-break: clone\">\n",
              "    vegan\n",
              "    <span style=\"font-size: 0.8em; font-weight: bold; line-height: 1; border-radius: 0.35em; text-transform: uppercase; vertical-align: middle; margin-left: 0.5rem\">dish</span>\n",
              "</mark>\n",
              " options. I just think that the \n",
              "<mark class=\"entity\" style=\"background: #ddd; padding: 0.45em 0.6em; margin: 0 0.25em; line-height: 1; border-radius: 0.35em; box-decoration-break: clone; -webkit-box-decoration-break: clone\">\n",
              "    patties\n",
              "    <span style=\"font-size: 0.8em; font-weight: bold; line-height: 1; border-radius: 0.35em; text-transform: uppercase; vertical-align: middle; margin-left: 0.5rem\">dish</span>\n",
              "</mark>\n",
              " can be worked on, the crust were thick and the filling was quite mushy, almost like a \n",
              "<mark class=\"entity\" style=\"background: #ddd; padding: 0.45em 0.6em; margin: 0 0.25em; line-height: 1; border-radius: 0.35em; box-decoration-break: clone; -webkit-box-decoration-break: clone\">\n",
              "    croquette\n",
              "    <span style=\"font-size: 0.8em; font-weight: bold; line-height: 1; border-radius: 0.35em; text-transform: uppercase; vertical-align: middle; margin-left: 0.5rem\">dish</span>\n",
              "</mark>\n",
              ", i wld like to look forward to something more firm to bite into, like a “\n",
              "<mark class=\"entity\" style=\"background: #ddd; padding: 0.45em 0.6em; margin: 0 0.25em; line-height: 1; border-radius: 0.35em; box-decoration-break: clone; -webkit-box-decoration-break: clone\">\n",
              "    chicken\n",
              "    <span style=\"font-size: 0.8em; font-weight: bold; line-height: 1; border-radius: 0.35em; text-transform: uppercase; vertical-align: middle; margin-left: 0.5rem\">dish</span>\n",
              "</mark>\n",
              "” \n",
              "<mark class=\"entity\" style=\"background: #ddd; padding: 0.45em 0.6em; margin: 0 0.25em; line-height: 1; border-radius: 0.35em; box-decoration-break: clone; -webkit-box-decoration-break: clone\">\n",
              "    patty\n",
              "    <span style=\"font-size: 0.8em; font-weight: bold; line-height: 1; border-radius: 0.35em; text-transform: uppercase; vertical-align: middle; margin-left: 0.5rem\">dish</span>\n",
              "</mark>\n",
              ".</div>"
            ],
            "text/plain": [
              "<IPython.core.display.HTML object>"
            ]
          },
          "metadata": {
            "tags": []
          }
        },
        {
          "output_type": "display_data",
          "data": {
            "text/html": [
              "<div class=\"entities\" style=\"line-height: 2.5; direction: ltr\">Like I said ordered \n",
              "<mark class=\"entity\" style=\"background: #e4e7d2; padding: 0.45em 0.6em; margin: 0 0.25em; line-height: 1; border-radius: 0.35em; box-decoration-break: clone; -webkit-box-decoration-break: clone\">\n",
              "    3\n",
              "    <span style=\"font-size: 0.8em; font-weight: bold; line-height: 1; border-radius: 0.35em; text-transform: uppercase; vertical-align: middle; margin-left: 0.5rem\">CARDINAL</span>\n",
              "</mark>\n",
              " different types of dimsums and each looked similar. Expected this to taste much better. In fact they don’t even serve fresh \n",
              "<mark class=\"entity\" style=\"background: #ddd; padding: 0.45em 0.6em; margin: 0 0.25em; line-height: 1; border-radius: 0.35em; box-decoration-break: clone; -webkit-box-decoration-break: clone\">\n",
              "    chilies\n",
              "    <span style=\"font-size: 0.8em; font-weight: bold; line-height: 1; border-radius: 0.35em; text-transform: uppercase; vertical-align: middle; margin-left: 0.5rem\">dish</span>\n",
              "</mark>\n",
              " with \n",
              "<mark class=\"entity\" style=\"background: #ddd; padding: 0.45em 0.6em; margin: 0 0.25em; line-height: 1; border-radius: 0.35em; box-decoration-break: clone; -webkit-box-decoration-break: clone\">\n",
              "    soya\n",
              "    <span style=\"font-size: 0.8em; font-weight: bold; line-height: 1; border-radius: 0.35em; text-transform: uppercase; vertical-align: middle; margin-left: 0.5rem\">dish</span>\n",
              "</mark>\n",
              " \n",
              "<mark class=\"entity\" style=\"background: #ddd; padding: 0.45em 0.6em; margin: 0 0.25em; line-height: 1; border-radius: 0.35em; box-decoration-break: clone; -webkit-box-decoration-break: clone\">\n",
              "    sauce\n",
              "    <span style=\"font-size: 0.8em; font-weight: bold; line-height: 1; border-radius: 0.35em; text-transform: uppercase; vertical-align: middle; margin-left: 0.5rem\">dish</span>\n",
              "</mark>\n",
              " but have \n",
              "<mark class=\"entity\" style=\"background: #ddd; padding: 0.45em 0.6em; margin: 0 0.25em; line-height: 1; border-radius: 0.35em; box-decoration-break: clone; -webkit-box-decoration-break: clone\">\n",
              "    chilli\n",
              "    <span style=\"font-size: 0.8em; font-weight: bold; line-height: 1; border-radius: 0.35em; text-transform: uppercase; vertical-align: middle; margin-left: 0.5rem\">dish</span>\n",
              "</mark>\n",
              " \n",
              "<mark class=\"entity\" style=\"background: #ddd; padding: 0.45em 0.6em; margin: 0 0.25em; line-height: 1; border-radius: 0.35em; box-decoration-break: clone; -webkit-box-decoration-break: clone\">\n",
              "    sauce\n",
              "    <span style=\"font-size: 0.8em; font-weight: bold; line-height: 1; border-radius: 0.35em; text-transform: uppercase; vertical-align: middle; margin-left: 0.5rem\">dish</span>\n",
              "</mark>\n",
              " mixed with \n",
              "<mark class=\"entity\" style=\"background: #ddd; padding: 0.45em 0.6em; margin: 0 0.25em; line-height: 1; border-radius: 0.35em; box-decoration-break: clone; -webkit-box-decoration-break: clone\">\n",
              "    soya\n",
              "    <span style=\"font-size: 0.8em; font-weight: bold; line-height: 1; border-radius: 0.35em; text-transform: uppercase; vertical-align: middle; margin-left: 0.5rem\">dish</span>\n",
              "</mark>\n",
              " \n",
              "<mark class=\"entity\" style=\"background: #ddd; padding: 0.45em 0.6em; margin: 0 0.25em; line-height: 1; border-radius: 0.35em; box-decoration-break: clone; -webkit-box-decoration-break: clone\">\n",
              "    sauce\n",
              "    <span style=\"font-size: 0.8em; font-weight: bold; line-height: 1; border-radius: 0.35em; text-transform: uppercase; vertical-align: middle; margin-left: 0.5rem\">dish</span>\n",
              "</mark>\n",
              ". Avoidable dishes</div>"
            ],
            "text/plain": [
              "<IPython.core.display.HTML object>"
            ]
          },
          "metadata": {
            "tags": []
          }
        },
        {
          "output_type": "display_data",
          "data": {
            "text/html": [
              "<div class=\"entities\" style=\"line-height: 2.5; direction: ltr\">One of my favorite food at WDSB! Various types of vegetables can be found in the \n",
              "<mark class=\"entity\" style=\"background: #ddd; padding: 0.45em 0.6em; margin: 0 0.25em; line-height: 1; border-radius: 0.35em; box-decoration-break: clone; -webkit-box-decoration-break: clone\">\n",
              "    burger\n",
              "    <span style=\"font-size: 0.8em; font-weight: bold; line-height: 1; border-radius: 0.35em; text-transform: uppercase; vertical-align: middle; margin-left: 0.5rem\">dish</span>\n",
              "</mark>\n",
              ", generous amount of the main ingredient -- monkeyhead \n",
              "<mark class=\"entity\" style=\"background: #ddd; padding: 0.45em 0.6em; margin: 0 0.25em; line-height: 1; border-radius: 0.35em; box-decoration-break: clone; -webkit-box-decoration-break: clone\">\n",
              "    mushroom\n",
              "    <span style=\"font-size: 0.8em; font-weight: bold; line-height: 1; border-radius: 0.35em; text-transform: uppercase; vertical-align: middle; margin-left: 0.5rem\">dish</span>\n",
              "</mark>\n",
              ", also comes with two sides in great portion!</div>"
            ],
            "text/plain": [
              "<IPython.core.display.HTML object>"
            ]
          },
          "metadata": {
            "tags": []
          }
        },
        {
          "output_type": "display_data",
          "data": {
            "text/html": [
              "<div class=\"entities\" style=\"line-height: 2.5; direction: ltr\">This place hand dips their \n",
              "<mark class=\"entity\" style=\"background: #ddd; padding: 0.45em 0.6em; margin: 0 0.25em; line-height: 1; border-radius: 0.35em; box-decoration-break: clone; -webkit-box-decoration-break: clone\">\n",
              "    corn\n",
              "    <span style=\"font-size: 0.8em; font-weight: bold; line-height: 1; border-radius: 0.35em; text-transform: uppercase; vertical-align: middle; margin-left: 0.5rem\">dish</span>\n",
              "</mark>\n",
              " dogs in their own batter so they are fresh and not from the freezer, and they do not disappoint! I like to go here on Wenesdays for their \n",
              "<mark class=\"entity\" style=\"background: #ddd; padding: 0.45em 0.6em; margin: 0 0.25em; line-height: 1; border-radius: 0.35em; box-decoration-break: clone; -webkit-box-decoration-break: clone\">\n",
              "    corn\n",
              "    <span style=\"font-size: 0.8em; font-weight: bold; line-height: 1; border-radius: 0.35em; text-transform: uppercase; vertical-align: middle; margin-left: 0.5rem\">dish</span>\n",
              "</mark>\n",
              " dog special, 3 for $5! And of course I always get a \n",
              "<mark class=\"entity\" style=\"background: #ddd; padding: 0.45em 0.6em; margin: 0 0.25em; line-height: 1; border-radius: 0.35em; box-decoration-break: clone; -webkit-box-decoration-break: clone\">\n",
              "    salad\n",
              "    <span style=\"font-size: 0.8em; font-weight: bold; line-height: 1; border-radius: 0.35em; text-transform: uppercase; vertical-align: middle; margin-left: 0.5rem\">dish</span>\n",
              "</mark>\n",
              " to balance things out. They have delicious \n",
              "<mark class=\"entity\" style=\"background: #ddd; padding: 0.45em 0.6em; margin: 0 0.25em; line-height: 1; border-radius: 0.35em; box-decoration-break: clone; -webkit-box-decoration-break: clone\">\n",
              "    salad\n",
              "    <span style=\"font-size: 0.8em; font-weight: bold; line-height: 1; border-radius: 0.35em; text-transform: uppercase; vertical-align: middle; margin-left: 0.5rem\">dish</span>\n",
              "</mark>\n",
              " dressings to choose from including a \n",
              "<mark class=\"entity\" style=\"background: #ddd; padding: 0.45em 0.6em; margin: 0 0.25em; line-height: 1; border-radius: 0.35em; box-decoration-break: clone; -webkit-box-decoration-break: clone\">\n",
              "    vegan\n",
              "    <span style=\"font-size: 0.8em; font-weight: bold; line-height: 1; border-radius: 0.35em; text-transform: uppercase; vertical-align: middle; margin-left: 0.5rem\">dish</span>\n",
              "</mark>\n",
              " ranch and \n",
              "<mark class=\"entity\" style=\"background: #ddd; padding: 0.45em 0.6em; margin: 0 0.25em; line-height: 1; border-radius: 0.35em; box-decoration-break: clone; -webkit-box-decoration-break: clone\">\n",
              "    vegan\n",
              "    <span style=\"font-size: 0.8em; font-weight: bold; line-height: 1; border-radius: 0.35em; text-transform: uppercase; vertical-align: middle; margin-left: 0.5rem\">vegetable</span>\n",
              "</mark>\n",
              " thousand island. Their weekend \n",
              "<mark class=\"entity\" style=\"background: #ddd; padding: 0.45em 0.6em; margin: 0 0.25em; line-height: 1; border-radius: 0.35em; box-decoration-break: clone; -webkit-box-decoration-break: clone\">\n",
              "    brunch\n",
              "    <span style=\"font-size: 0.8em; font-weight: bold; line-height: 1; border-radius: 0.35em; text-transform: uppercase; vertical-align: middle; margin-left: 0.5rem\">dish</span>\n",
              "</mark>\n",
              " is also very good and there is rarely a wait like so many other places in \n",
              "<mark class=\"entity\" style=\"background: #ddd; padding: 0.45em 0.6em; margin: 0 0.25em; line-height: 1; border-radius: 0.35em; box-decoration-break: clone; -webkit-box-decoration-break: clone\">\n",
              "    Portland\n",
              "    <span style=\"font-size: 0.8em; font-weight: bold; line-height: 1; border-radius: 0.35em; text-transform: uppercase; vertical-align: middle; margin-left: 0.5rem\">dish</span>\n",
              "</mark>\n",
              ". My favorite breakfast plate there is called The \n",
              "<mark class=\"entity\" style=\"background: #ddd; padding: 0.45em 0.6em; margin: 0 0.25em; line-height: 1; border-radius: 0.35em; box-decoration-break: clone; -webkit-box-decoration-break: clone\">\n",
              "    Portland\n",
              "    <span style=\"font-size: 0.8em; font-weight: bold; line-height: 1; border-radius: 0.35em; text-transform: uppercase; vertical-align: middle; margin-left: 0.5rem\">dish</span>\n",
              "</mark>\n",
              ", it’s a \n",
              "<mark class=\"entity\" style=\"background: #ddd; padding: 0.45em 0.6em; margin: 0 0.25em; line-height: 1; border-radius: 0.35em; box-decoration-break: clone; -webkit-box-decoration-break: clone\">\n",
              "    tofu\n",
              "    <span style=\"font-size: 0.8em; font-weight: bold; line-height: 1; border-radius: 0.35em; text-transform: uppercase; vertical-align: middle; margin-left: 0.5rem\">dish</span>\n",
              "</mark>\n",
              " scramble with veggies and \n",
              "<mark class=\"entity\" style=\"background: #ddd; padding: 0.45em 0.6em; margin: 0 0.25em; line-height: 1; border-radius: 0.35em; box-decoration-break: clone; -webkit-box-decoration-break: clone\">\n",
              "    potatoes\n",
              "    <span style=\"font-size: 0.8em; font-weight: bold; line-height: 1; border-radius: 0.35em; text-transform: uppercase; vertical-align: middle; margin-left: 0.5rem\">dish</span>\n",
              "</mark>\n",
              " and a \n",
              "<mark class=\"entity\" style=\"background: #ddd; padding: 0.45em 0.6em; margin: 0 0.25em; line-height: 1; border-radius: 0.35em; box-decoration-break: clone; -webkit-box-decoration-break: clone\">\n",
              "    biscuit\n",
              "    <span style=\"font-size: 0.8em; font-weight: bold; line-height: 1; border-radius: 0.35em; text-transform: uppercase; vertical-align: middle; margin-left: 0.5rem\">dish</span>\n",
              "</mark>\n",
              " or toast of choice. Their \n",
              "<mark class=\"entity\" style=\"background: #ddd; padding: 0.45em 0.6em; margin: 0 0.25em; line-height: 1; border-radius: 0.35em; box-decoration-break: clone; -webkit-box-decoration-break: clone\">\n",
              "    vegan\n",
              "    <span style=\"font-size: 0.8em; font-weight: bold; line-height: 1; border-radius: 0.35em; text-transform: uppercase; vertical-align: middle; margin-left: 0.5rem\">dish</span>\n",
              "</mark>\n",
              " gravy is also very yummy and unique.</div>"
            ],
            "text/plain": [
              "<IPython.core.display.HTML object>"
            ]
          },
          "metadata": {
            "tags": []
          }
        },
        {
          "output_type": "display_data",
          "data": {
            "text/html": [
              "<div class=\"entities\" style=\"line-height: 2.5; direction: ltr\">This dish was a terrible disappointment. The restaurant said they’d make a \n",
              "<mark class=\"entity\" style=\"background: #ddd; padding: 0.45em 0.6em; margin: 0 0.25em; line-height: 1; border-radius: 0.35em; box-decoration-break: clone; -webkit-box-decoration-break: clone\">\n",
              "    vegan\n",
              "    <span style=\"font-size: 0.8em; font-weight: bold; line-height: 1; border-radius: 0.35em; text-transform: uppercase; vertical-align: middle; margin-left: 0.5rem\">dish</span>\n",
              "</mark>\n",
              " version of their usual meat based rolls. All that was left is \n",
              "<mark class=\"entity\" style=\"background: #ddd; padding: 0.45em 0.6em; margin: 0 0.25em; line-height: 1; border-radius: 0.35em; box-decoration-break: clone; -webkit-box-decoration-break: clone\">\n",
              "    rice\n",
              "    <span style=\"font-size: 0.8em; font-weight: bold; line-height: 1; border-radius: 0.35em; text-transform: uppercase; vertical-align: middle; margin-left: 0.5rem\">dish</span>\n",
              "</mark>\n",
              " and some greens in the rubbery \n",
              "<mark class=\"entity\" style=\"background: #ddd; padding: 0.45em 0.6em; margin: 0 0.25em; line-height: 1; border-radius: 0.35em; box-decoration-break: clone; -webkit-box-decoration-break: clone\">\n",
              "    rice\n",
              "    <span style=\"font-size: 0.8em; font-weight: bold; line-height: 1; border-radius: 0.35em; text-transform: uppercase; vertical-align: middle; margin-left: 0.5rem\">dish</span>\n",
              "</mark>\n",
              " paper rolls with absolutely no flavour or innovation.</div>"
            ],
            "text/plain": [
              "<IPython.core.display.HTML object>"
            ]
          },
          "metadata": {
            "tags": []
          }
        },
        {
          "output_type": "display_data",
          "data": {
            "text/html": [
              "<div class=\"entities\" style=\"line-height: 2.5; direction: ltr\">As a \n",
              "<mark class=\"entity\" style=\"background: #ddd; padding: 0.45em 0.6em; margin: 0 0.25em; line-height: 1; border-radius: 0.35em; box-decoration-break: clone; -webkit-box-decoration-break: clone\">\n",
              "    vegan\n",
              "    <span style=\"font-size: 0.8em; font-weight: bold; line-height: 1; border-radius: 0.35em; text-transform: uppercase; vertical-align: middle; margin-left: 0.5rem\">dish</span>\n",
              "</mark>\n",
              " this is about as good as it gets for \n",
              "<mark class=\"entity\" style=\"background: #ddd; padding: 0.45em 0.6em; margin: 0 0.25em; line-height: 1; border-radius: 0.35em; box-decoration-break: clone; -webkit-box-decoration-break: clone\">\n",
              "    Chinese\n",
              "    <span style=\"font-size: 0.8em; font-weight: bold; line-height: 1; border-radius: 0.35em; text-transform: uppercase; vertical-align: middle; margin-left: 0.5rem\">dish</span>\n",
              "</mark>\n",
              " food. Mapo Doufu is \n",
              "<mark class=\"entity\" style=\"background: #e4e7d2; padding: 0.45em 0.6em; margin: 0 0.25em; line-height: 1; border-radius: 0.35em; box-decoration-break: clone; -webkit-box-decoration-break: clone\">\n",
              "    one\n",
              "    <span style=\"font-size: 0.8em; font-weight: bold; line-height: 1; border-radius: 0.35em; text-transform: uppercase; vertical-align: middle; margin-left: 0.5rem\">CARDINAL</span>\n",
              "</mark>\n",
              " of those extraordinary \n",
              "<mark class=\"entity\" style=\"background: #ddd; padding: 0.45em 0.6em; margin: 0 0.25em; line-height: 1; border-radius: 0.35em; box-decoration-break: clone; -webkit-box-decoration-break: clone\">\n",
              "    Sichuan\n",
              "    <span style=\"font-size: 0.8em; font-weight: bold; line-height: 1; border-radius: 0.35em; text-transform: uppercase; vertical-align: middle; margin-left: 0.5rem\">dish</span>\n",
              "</mark>\n",
              " dishes that almost everyone loves (if you like spicy food). It's typically made with \n",
              "<mark class=\"entity\" style=\"background: #ddd; padding: 0.45em 0.6em; margin: 0 0.25em; line-height: 1; border-radius: 0.35em; box-decoration-break: clone; -webkit-box-decoration-break: clone\">\n",
              "    pork\n",
              "    <span style=\"font-size: 0.8em; font-weight: bold; line-height: 1; border-radius: 0.35em; text-transform: uppercase; vertical-align: middle; margin-left: 0.5rem\">dish</span>\n",
              "</mark>\n",
              ", but Shisen Hanten is always happy to make this signature dish \n",
              "<mark class=\"entity\" style=\"background: #ddd; padding: 0.45em 0.6em; margin: 0 0.25em; line-height: 1; border-radius: 0.35em; box-decoration-break: clone; -webkit-box-decoration-break: clone\">\n",
              "    vegan\n",
              "    <span style=\"font-size: 0.8em; font-weight: bold; line-height: 1; border-radius: 0.35em; text-transform: uppercase; vertical-align: middle; margin-left: 0.5rem\">dish</span>\n",
              "</mark>\n",
              ". It's pretty much firm \n",
              "<mark class=\"entity\" style=\"background: #ddd; padding: 0.45em 0.6em; margin: 0 0.25em; line-height: 1; border-radius: 0.35em; box-decoration-break: clone; -webkit-box-decoration-break: clone\">\n",
              "    tofu\n",
              "    <span style=\"font-size: 0.8em; font-weight: bold; line-height: 1; border-radius: 0.35em; text-transform: uppercase; vertical-align: middle; margin-left: 0.5rem\">dish</span>\n",
              "</mark>\n",
              " with lots of \n",
              "<mark class=\"entity\" style=\"background: #ddd; padding: 0.45em 0.6em; margin: 0 0.25em; line-height: 1; border-radius: 0.35em; box-decoration-break: clone; -webkit-box-decoration-break: clone\">\n",
              "    Sichuan\n",
              "    <span style=\"font-size: 0.8em; font-weight: bold; line-height: 1; border-radius: 0.35em; text-transform: uppercase; vertical-align: middle; margin-left: 0.5rem\">dish</span>\n",
              "</mark>\n",
              " \n",
              "<mark class=\"entity\" style=\"background: #ddd; padding: 0.45em 0.6em; margin: 0 0.25em; line-height: 1; border-radius: 0.35em; box-decoration-break: clone; -webkit-box-decoration-break: clone\">\n",
              "    peppercorn\n",
              "    <span style=\"font-size: 0.8em; font-weight: bold; line-height: 1; border-radius: 0.35em; text-transform: uppercase; vertical-align: middle; margin-left: 0.5rem\">dish</span>\n",
              "</mark>\n",
              " which gives you that amazing numbing sensation. I've had this dish at so many restaurants around \n",
              "<mark class=\"entity\" style=\"background: #ddd; padding: 0.45em 0.6em; margin: 0 0.25em; line-height: 1; border-radius: 0.35em; box-decoration-break: clone; -webkit-box-decoration-break: clone\">\n",
              "    Singapore\n",
              "    <span style=\"font-size: 0.8em; font-weight: bold; line-height: 1; border-radius: 0.35em; text-transform: uppercase; vertical-align: middle; margin-left: 0.5rem\">dish</span>\n",
              "</mark>\n",
              " and have to say this is probably my favorite!</div>"
            ],
            "text/plain": [
              "<IPython.core.display.HTML object>"
            ]
          },
          "metadata": {
            "tags": []
          }
        },
        {
          "output_type": "display_data",
          "data": {
            "text/html": [
              "<div class=\"entities\" style=\"line-height: 2.5; direction: ltr\">A rich but not overly creamy \n",
              "<mark class=\"entity\" style=\"background: #ddd; padding: 0.45em 0.6em; margin: 0 0.25em; line-height: 1; border-radius: 0.35em; box-decoration-break: clone; -webkit-box-decoration-break: clone\">\n",
              "    soup\n",
              "    <span style=\"font-size: 0.8em; font-weight: bold; line-height: 1; border-radius: 0.35em; text-transform: uppercase; vertical-align: middle; margin-left: 0.5rem\">dish</span>\n",
              "</mark>\n",
              ". Very refreshing and contains a lot of \n",
              "<mark class=\"entity\" style=\"background: #ddd; padding: 0.45em 0.6em; margin: 0 0.25em; line-height: 1; border-radius: 0.35em; box-decoration-break: clone; -webkit-box-decoration-break: clone\">\n",
              "    herbs\n",
              "    <span style=\"font-size: 0.8em; font-weight: bold; line-height: 1; border-radius: 0.35em; text-transform: uppercase; vertical-align: middle; margin-left: 0.5rem\">dish</span>\n",
              "</mark>\n",
              ", vegetables and mushrooms.</div>"
            ],
            "text/plain": [
              "<IPython.core.display.HTML object>"
            ]
          },
          "metadata": {
            "tags": []
          }
        }
      ]
    }
  ]
}