{
  "nbformat": 4,
  "nbformat_minor": 0,
  "metadata": {
    "colab": {
      "name": "custom_entity_processing.ipynb",
      "provenance": [],
      "include_colab_link": true
    },
    "kernelspec": {
      "name": "python3",
      "display_name": "Python 3"
    },
    "accelerator": "GPU"
  },
  "cells": [
    {
      "cell_type": "markdown",
      "metadata": {
        "id": "view-in-github",
        "colab_type": "text"
      },
      "source": [
        "<a href=\"https://colab.research.google.com/github/ravi-gopalan/DAND_Data_Wrangling/blob/master/custom_entity_processing.ipynb\" target=\"_parent\"><img src=\"https://colab.research.google.com/assets/colab-badge.svg\" alt=\"Open In Colab\"/></a>"
      ]
    },
    {
      "cell_type": "code",
      "metadata": {
        "id": "OjGpa9Q1pmdR",
        "colab_type": "code",
        "outputId": "3f087605-ac02-4adf-df9a-7f46b0e09eb4",
        "colab": {
          "base_uri": "https://localhost:8080/",
          "height": 51
        }
      },
      "source": [
        "from google.colab import drive\n",
        "drive.mount('/gdrive')\n",
        "%cd /gdrive"
      ],
      "execution_count": 1,
      "outputs": [
        {
          "output_type": "stream",
          "text": [
            "Drive already mounted at /gdrive; to attempt to forcibly remount, call drive.mount(\"/gdrive\", force_remount=True).\n",
            "/gdrive\n"
          ],
          "name": "stdout"
        }
      ]
    },
    {
      "cell_type": "code",
      "metadata": {
        "id": "HeziVX--u8cR",
        "colab_type": "code",
        "outputId": "d62d4263-118c-446b-b450-94da2edc7336",
        "colab": {
          "base_uri": "https://localhost:8080/",
          "height": 34
        }
      },
      "source": [
        "cd '/gdrive/My Drive/abv_reviews'"
      ],
      "execution_count": 2,
      "outputs": [
        {
          "output_type": "stream",
          "text": [
            "/gdrive/My Drive/abv_reviews\n"
          ],
          "name": "stdout"
        }
      ]
    },
    {
      "cell_type": "code",
      "metadata": {
        "id": "z0sP9YiuQM80",
        "colab_type": "code",
        "outputId": "bfce864b-edb4-4aaf-baca-d5682ba8ea09",
        "colab": {
          "base_uri": "https://localhost:8080/",
          "height": 330
        }
      },
      "source": [
        "!pip install spacymoji\n",
        "from spacymoji import Emoji"
      ],
      "execution_count": 3,
      "outputs": [
        {
          "output_type": "stream",
          "text": [
            "Requirement already satisfied: spacymoji in /usr/local/lib/python3.6/dist-packages (2.0.0)\n",
            "Requirement already satisfied: spacy<3.0.0,>=2.1.3 in /usr/local/lib/python3.6/dist-packages (from spacymoji) (2.1.9)\n",
            "Requirement already satisfied: emoji<1.0.0,>=0.4.5 in /usr/local/lib/python3.6/dist-packages (from spacymoji) (0.5.4)\n",
            "Requirement already satisfied: srsly<1.1.0,>=0.0.6 in /usr/local/lib/python3.6/dist-packages (from spacy<3.0.0,>=2.1.3->spacymoji) (0.2.0)\n",
            "Requirement already satisfied: plac<1.0.0,>=0.9.6 in /usr/local/lib/python3.6/dist-packages (from spacy<3.0.0,>=2.1.3->spacymoji) (0.9.6)\n",
            "Requirement already satisfied: cymem<2.1.0,>=2.0.2 in /usr/local/lib/python3.6/dist-packages (from spacy<3.0.0,>=2.1.3->spacymoji) (2.0.3)\n",
            "Requirement already satisfied: wasabi<1.1.0,>=0.2.0 in /usr/local/lib/python3.6/dist-packages (from spacy<3.0.0,>=2.1.3->spacymoji) (0.4.2)\n",
            "Requirement already satisfied: numpy>=1.15.0 in /usr/local/lib/python3.6/dist-packages (from spacy<3.0.0,>=2.1.3->spacymoji) (1.17.4)\n",
            "Requirement already satisfied: thinc<7.1.0,>=7.0.8 in /usr/local/lib/python3.6/dist-packages (from spacy<3.0.0,>=2.1.3->spacymoji) (7.0.8)\n",
            "Requirement already satisfied: requests<3.0.0,>=2.13.0 in /usr/local/lib/python3.6/dist-packages (from spacy<3.0.0,>=2.1.3->spacymoji) (2.21.0)\n",
            "Requirement already satisfied: murmurhash<1.1.0,>=0.28.0 in /usr/local/lib/python3.6/dist-packages (from spacy<3.0.0,>=2.1.3->spacymoji) (1.0.2)\n",
            "Requirement already satisfied: preshed<2.1.0,>=2.0.1 in /usr/local/lib/python3.6/dist-packages (from spacy<3.0.0,>=2.1.3->spacymoji) (2.0.1)\n",
            "Requirement already satisfied: blis<0.3.0,>=0.2.2 in /usr/local/lib/python3.6/dist-packages (from spacy<3.0.0,>=2.1.3->spacymoji) (0.2.4)\n",
            "Requirement already satisfied: tqdm<5.0.0,>=4.10.0 in /usr/local/lib/python3.6/dist-packages (from thinc<7.1.0,>=7.0.8->spacy<3.0.0,>=2.1.3->spacymoji) (4.28.1)\n",
            "Requirement already satisfied: chardet<3.1.0,>=3.0.2 in /usr/local/lib/python3.6/dist-packages (from requests<3.0.0,>=2.13.0->spacy<3.0.0,>=2.1.3->spacymoji) (3.0.4)\n",
            "Requirement already satisfied: urllib3<1.25,>=1.21.1 in /usr/local/lib/python3.6/dist-packages (from requests<3.0.0,>=2.13.0->spacy<3.0.0,>=2.1.3->spacymoji) (1.24.3)\n",
            "Requirement already satisfied: certifi>=2017.4.17 in /usr/local/lib/python3.6/dist-packages (from requests<3.0.0,>=2.13.0->spacy<3.0.0,>=2.1.3->spacymoji) (2019.11.28)\n",
            "Requirement already satisfied: idna<2.9,>=2.5 in /usr/local/lib/python3.6/dist-packages (from requests<3.0.0,>=2.13.0->spacy<3.0.0,>=2.1.3->spacymoji) (2.8)\n"
          ],
          "name": "stdout"
        }
      ]
    },
    {
      "cell_type": "code",
      "metadata": {
        "id": "hCbKbxQ2vLCV",
        "colab_type": "code",
        "colab": {}
      },
      "source": [
        "import pandas as pd\n",
        "import numpy as np\n",
        "import warnings\n",
        "warnings.filterwarnings(\"ignore\")\n",
        "\n",
        "import random\n",
        "import srsly\n",
        "import spacy\n",
        "from spacy.lang.en import English\n",
        "from spacy.pipeline import EntityRuler\n",
        "from spacy import displacy\n",
        "from spacy.util import minibatch, compounding\n",
        "from pandas.io.json import json_normalize"
      ],
      "execution_count": 0,
      "outputs": []
    },
    {
      "cell_type": "code",
      "metadata": {
        "id": "R9gnqY-XJbQk",
        "colab_type": "code",
        "outputId": "947c5ab0-6abf-4c30-aea4-d8b02cd15630",
        "colab": {
          "base_uri": "https://localhost:8080/",
          "height": 51
        }
      },
      "source": [
        "import spacy.cli\n",
        "spacy.cli.download(\"en_core_web_lg\")\n",
        "import en_core_web_lg"
      ],
      "execution_count": 5,
      "outputs": [
        {
          "output_type": "stream",
          "text": [
            "\u001b[38;5;2m✔ Download and installation successful\u001b[0m\n",
            "You can now load the model via spacy.load('en_core_web_lg')\n"
          ],
          "name": "stdout"
        }
      ]
    },
    {
      "cell_type": "code",
      "metadata": {
        "id": "TGLm6zp-Cjq0",
        "colab_type": "code",
        "colab": {}
      },
      "source": [
        "from spacy.gold import docs_to_json, biluo_tags_from_offsets, offsets_from_biluo_tags"
      ],
      "execution_count": 0,
      "outputs": []
    },
    {
      "cell_type": "code",
      "metadata": {
        "id": "fBsoGnHnl4iv",
        "colab_type": "code",
        "colab": {}
      },
      "source": [
        "import re"
      ],
      "execution_count": 0,
      "outputs": []
    },
    {
      "cell_type": "code",
      "metadata": {
        "id": "1wVRjXGAkS8d",
        "colab_type": "code",
        "colab": {
          "base_uri": "https://localhost:8080/",
          "height": 1000
        },
        "outputId": "e002ff8c-27e4-4cd6-8d38-323175ab6cb0"
      },
      "source": [
        "ls -l"
      ],
      "execution_count": 238,
      "outputs": [
        {
          "output_type": "stream",
          "text": [
            "total 101759\n",
            "-rw------- 1 root root     2000 Dec 26 18:06  bread_keyword_patterns.npz\n",
            "-rw------- 1 root root      589 Dec 26 17:27  breads_list_2.jsonl\n",
            "-rw------- 1 root root    26438 Dec 26 16:44  breads_list.jsonl\n",
            "-rw------- 1 root root    25359 Dec 15 03:21  CoherenceScore.csv\n",
            "-rw------- 1 root root     4968 Dec 26 18:06  condiment_keyword_patterns.npz\n",
            "-rw------- 1 root root     2353 Dec 26 16:29  condiments_list_2.jsonl\n",
            "-rw------- 1 root root    43320 Dec 26 16:21  condiments_list.jsonl\n",
            "-rw------- 1 root root  8428475 Dec 21 13:01  datalist_corrected.csv\n",
            "-rw------- 1 root root    24864 Dec 26 17:05  df_check_breads.csv\n",
            "-rw------- 1 root root    40909 Dec 26 16:21  df_check_condiments.csv\n",
            "-rw------- 1 root root   185178 Dec 26 08:09  df_check_de.csv\n",
            "-rw------- 1 root root  4580904 Dec 26 08:10  df_check_en.csv\n",
            "-rw------- 1 root root    56341 Dec 26 09:17  df_check_es.csv\n",
            "-rw------- 1 root root    43595 Dec 26 09:17  df_check_fr.csv\n",
            "-rw------- 1 root root    72573 Dec 26 17:05  df_check_fruits.csv\n",
            "-rw------- 1 root root     5342 Dec 26 09:40  df_check_fy.csv\n",
            "-rw------- 1 root root     9468 Dec 26 09:51  df_check_id.csv\n",
            "-rw------- 1 root root    80301 Dec 26 09:17  df_check_it.csv\n",
            "-rw------- 1 root root     2625 Dec 26 10:00  df_check_ms.csv\n",
            "-rw------- 1 root root    17078 Dec 26 17:05  df_check_pastries.csv\n",
            "-rw------- 1 root root     4915 Dec 26 09:45  df_check_tr.csv\n",
            "-rw------- 1 root root   106605 Dec 26 17:05  df_check_vegetables.csv\n",
            "-rw------- 1 root root    18463 Dec 25 15:21  df_coffee.csv\n",
            "-rw------- 1 root root   869707 Dec 25 17:19  df_consolidated.csv\n",
            "-rw------- 1 root root   268283 Dec 25 15:21  df_dish.csv\n",
            "-rw------- 1 root root    93910 Dec 25 15:21  df_drink.csv\n",
            "-rw------- 1 root root     5322 Dec 25 15:21  df_hot_bev.csv\n",
            "-rw------- 1 root root    15865 Dec 25 15:21  df_noodle.csv\n",
            "-rw------- 1 root root    40106 Dec 25 15:21  df_rice.csv\n",
            "-rw------- 1 root root    52804 Dec 25 15:21  df_salad.csv\n",
            "-rw------- 1 root root   124433 Dec 25 15:21  df_soup.csv\n",
            "-rw------- 1 root root  1959288 Dec 25 16:25  df_taste_atlas.csv\n",
            "-rw------- 1 root root  1157248 Dec 15 02:37  dictionary\n",
            "-rw------- 1 root root   524784 Dec 26 11:33  dish_keyword_patterns.npz\n",
            "-rw------- 1 root root  9577137 Dec 15 02:37  doc_term_matrix.mm\n",
            "-rw------- 1 root root   280266 Dec 15 02:37  doc_term_matrix.mm.index\n",
            "-rw------- 1 root root     5092 Dec 26 18:06  fruit_keyword_patterns.npz\n",
            "-rw------- 1 root root     9686 Dec 26 17:28  fruits_list_2.jsonl\n",
            "-rw------- 1 root root    76231 Dec 26 16:51  fruits_list.jsonl\n",
            "-rw------- 1 root root     4344 Dec 26 18:06  herb_keyword_patterns.npz\n",
            "-rw------- 1 root root     8527 Dec 26 16:36  herbs_list_2.jsonl\n",
            "-rw------- 1 root root    34637 Dec 26 16:36  herbs_list.jsonl\n",
            "drwx------ 6 root root     4096 Dec  9 01:54  \u001b[0m\u001b[01;34mimages\u001b[0m/\n",
            "-rw------- 1 root root   179965 Dec 15 02:37  lda\n",
            "-rw------- 1 root root  3497328 Dec 15 02:37  lda.expElogbeta.npy\n",
            "-rw------- 1 root root    30311 Dec 14 16:43  lda_final\n",
            "-rw------- 1 root root   503728 Dec 14 16:43  lda_final.expElogbeta.npy\n",
            "-rw------- 1 root root   160690 Dec 14 16:43  lda_final.id2word\n",
            "-rw------- 1 root root   714093 Dec 14 16:43  lda_final.state\n",
            "-rw------- 1 root root  1157137 Dec 15 02:37  lda.id2word\n",
            "-rw------- 1 root root  4984263 Dec 15 02:37  lda.state\n",
            "-rw------- 1 root root    18045 Dec 26 16:46  pastries_list.jsonl\n",
            "-rw------- 1 root root     1544 Dec 26 18:06  pastry_keyword_patterns.npz\n",
            "-rw------- 1 root root     2365 Dec 26 18:11  pattern_bread.jsonl\n",
            "-rw------- 1 root root     4609 Dec 26 18:11  pattern_condiment.jsonl\n",
            "-rw------- 1 root root     5397 Dec 26 18:11  pattern_fruit.jsonl\n",
            "-rw------- 1 root root     3946 Dec 26 18:11  pattern_herb.jsonl\n",
            "-rw------- 1 root root     1700 Dec 26 18:11  pattern_pastry.jsonl\n",
            "-rw------- 1 root root   529064 Dec 26 14:49  patterns_2019_12_26.jsonl\n",
            "-rw------- 1 root root   563960 Jan  5 16:38  patterns.jsonl\n",
            "-rw------- 1 root root     6749 Dec 26 18:11  pattern_spice.jsonl\n",
            "-rw------- 1 root root     9140 Dec 26 18:11  pattern_vegetable.jsonl\n",
            "drwx------ 3 root root     4096 Dec  9 01:55  \u001b[01;34mpending_images\u001b[0m/\n",
            "-rw------- 1 root root   130017 Dec 14 15:06  pyLDAvis_10.html\n",
            "-rw------- 1 root root   144690 Dec 14 15:10  pyLDAvis_11.html\n",
            "-rw------- 1 root root   291844 Dec 14 16:48  pyLDAvis_12.html\n",
            "-rw------- 1 root root   168973 Dec 14 15:18  pyLDAvis_13.html\n",
            "-rw------- 1 root root   183832 Dec 14 15:22  pyLDAvis_14.html\n",
            "-rw------- 1 root root   195035 Dec 14 15:26  pyLDAvis_15.html\n",
            "-rw------- 1 root root   207406 Dec 14 15:30  pyLDAvis_16.html\n",
            "-rw------- 1 root root   223593 Dec 14 15:35  pyLDAvis_17.html\n",
            "-rw------- 1 root root   234487 Dec 14 15:39  pyLDAvis_18.html\n",
            "-rw------- 1 root root   248745 Dec 14 15:43  pyLDAvis_19.html\n",
            "-rw------- 1 root root   258354 Dec 14 15:47  pyLDAvis_20.html\n",
            "-rw------- 1 root root   273803 Dec 14 15:51  pyLDAvis_21.html\n",
            "-rw------- 1 root root   303858 Dec 14 15:54  pyLDAvis_22.html\n",
            "-rw------- 1 root root   306990 Dec 14 15:58  pyLDAvis_23.html\n",
            "-rw------- 1 root root   323727 Dec 14 16:02  pyLDAvis_24.html\n",
            "-rw------- 1 root root   232181 Dec 15 02:36  pyLDAvis_25.html\n",
            "-rw------- 1 root root   340943 Dec 14 16:10  pyLDAvis_26.html\n",
            "-rw------- 1 root root   355360 Dec 14 16:14  pyLDAvis_27.html\n",
            "-rw------- 1 root root   385093 Dec 14 16:18  pyLDAvis_28.html\n",
            "-rw------- 1 root root   383813 Dec 14 16:22  pyLDAvis_29.html\n",
            "-rw------- 1 root root    24378 Dec 21 02:17  pyLDAvis_3.html\n",
            "-rw------- 1 root root    49368 Dec 14 14:42  pyLDAvis_4.html\n",
            "-rw------- 1 root root   232496 Dec 15 03:07  pyLDAvis_5.html\n",
            "-rw------- 1 root root    78978 Dec 14 14:50  pyLDAvis_6.html\n",
            "-rw------- 1 root root    90300 Dec 14 14:54  pyLDAvis_7.html\n",
            "-rw------- 1 root root   103689 Dec 14 14:58  pyLDAvis_8.html\n",
            "-rw------- 1 root root   117331 Dec 14 15:02  pyLDAvis_9.html\n",
            "-rw------- 1 root root 42526541 Dec 10 08:21  reviews_text.csv\n",
            "-rw------- 1 root root     6416 Jan  5 15:55  rice.txt\n",
            "-rw------- 1 root root    39510 Dec 26 19:27  sandwiches.json\n",
            "-rw------- 1 root root   153196 Dec 26 19:47  sandwich_list.jsonl\n",
            "-rw------- 1 root root   293115 Jan  5 16:17  spacy_train.json\n",
            "-rw------- 1 root root     6096 Dec 26 18:06  spice_keyword_patterns.npz\n",
            "-rw------- 1 root root     8177 Dec 26 16:12  spices_list_2.jsonl\n",
            "-rw------- 1 root root    80262 Dec 26 16:35  spices_list.jsonl\n",
            "-rw------- 1 root root   205292 Dec 26 07:57  taste_atlas_info_de.jsonl\n",
            "-rw------- 1 root root  5408936 Dec 26 00:38  taste_atlas_info_en.jsonl\n",
            "-rw------- 1 root root    63900 Dec 26 08:46  taste_atlas_info_es.jsonl\n",
            "-rw------- 1 root root    51816 Dec 26 09:16  taste_atlas_info_fr.jsonl\n",
            "-rw------- 1 root root    11829 Dec 26 09:23  taste_atlas_info_fy.jsonl\n",
            "-rw------- 1 root root    13271 Dec 26 09:51  taste_atlas_info_id.jsonl\n",
            "-rw------- 1 root root    91616 Dec 26 08:25  taste_atlas_info_it.jsonl\n",
            "-rw------- 1 root root  4203031 Dec 23 13:17  taste_atlas_info.jsonl\n",
            "-rw------- 1 root root     6022 Dec 26 09:54  taste_atlas_info_ms.jsonl\n",
            "-rw------- 1 root root    24272 Dec 26 09:44  taste_atlas_info_tr.jsonl\n",
            "-rw------- 1 root root  3406013 Dec 23 14:45  test_summaries.csv\n",
            "-rw------- 1 root root    28914 Dec 14 16:27 'Topic coherence plot.png'\n",
            "-rw------- 1 root root   252791 Dec 24 12:34  unmatched_dishes.csv\n",
            "-rw------- 1 root root     8624 Dec 26 18:06  vegetable_keyword_patterns.npz\n",
            "-rw------- 1 root root     9597 Dec 26 17:28  vegetables_list_2.jsonl\n",
            "-rw------- 1 root root   112165 Dec 26 16:59  vegetables_list.jsonl\n"
          ],
          "name": "stdout"
        }
      ]
    },
    {
      "cell_type": "code",
      "metadata": {
        "id": "kPz03VlrgZQm",
        "colab_type": "code",
        "outputId": "9689505e-348f-4f08-c749-2234fea4a2a4",
        "colab": {
          "base_uri": "https://localhost:8080/",
          "height": 197
        }
      },
      "source": [
        "df_pattern = pd.read_json('patterns.jsonl',lines=True)\n",
        "df_pattern.head()"
      ],
      "execution_count": 239,
      "outputs": [
        {
          "output_type": "execute_result",
          "data": {
            "text/html": [
              "<div>\n",
              "<style scoped>\n",
              "    .dataframe tbody tr th:only-of-type {\n",
              "        vertical-align: middle;\n",
              "    }\n",
              "\n",
              "    .dataframe tbody tr th {\n",
              "        vertical-align: top;\n",
              "    }\n",
              "\n",
              "    .dataframe thead th {\n",
              "        text-align: right;\n",
              "    }\n",
              "</style>\n",
              "<table border=\"1\" class=\"dataframe\">\n",
              "  <thead>\n",
              "    <tr style=\"text-align: right;\">\n",
              "      <th></th>\n",
              "      <th>label</th>\n",
              "      <th>pattern</th>\n",
              "      <th>id</th>\n",
              "    </tr>\n",
              "  </thead>\n",
              "  <tbody>\n",
              "    <tr>\n",
              "      <th>0</th>\n",
              "      <td>dish</td>\n",
              "      <td>[{'LOWER': ''mpanatigghi'}]</td>\n",
              "      <td>'mpanatigghi</td>\n",
              "    </tr>\n",
              "    <tr>\n",
              "      <th>1</th>\n",
              "      <td>dish</td>\n",
              "      <td>[{'LOWER': ''nduja'}]</td>\n",
              "      <td>'nduja</td>\n",
              "    </tr>\n",
              "    <tr>\n",
              "      <th>2</th>\n",
              "      <td>dish</td>\n",
              "      <td>[{'LOWER': ''ota'}, {'LOWER': ''ika'}]</td>\n",
              "      <td>'ota_'ika</td>\n",
              "    </tr>\n",
              "    <tr>\n",
              "      <th>3</th>\n",
              "      <td>dish</td>\n",
              "      <td>[{'LOWER': '.amaro'}, {'LOWER': 'ramazzotti'}]</td>\n",
              "      <td>.amaro_ramazzotti</td>\n",
              "    </tr>\n",
              "    <tr>\n",
              "      <th>4</th>\n",
              "      <td>dish</td>\n",
              "      <td>[{'LOWER': '15'}, {'LOWER': 'bean'}, {'LOWER':...</td>\n",
              "      <td>15_bean_soup</td>\n",
              "    </tr>\n",
              "  </tbody>\n",
              "</table>\n",
              "</div>"
            ],
            "text/plain": [
              "  label                                            pattern                 id\n",
              "0  dish                        [{'LOWER': ''mpanatigghi'}]       'mpanatigghi\n",
              "1  dish                              [{'LOWER': ''nduja'}]             'nduja\n",
              "2  dish             [{'LOWER': ''ota'}, {'LOWER': ''ika'}]          'ota_'ika\n",
              "3  dish     [{'LOWER': '.amaro'}, {'LOWER': 'ramazzotti'}]  .amaro_ramazzotti\n",
              "4  dish  [{'LOWER': '15'}, {'LOWER': 'bean'}, {'LOWER':...       15_bean_soup"
            ]
          },
          "metadata": {
            "tags": []
          },
          "execution_count": 239
        }
      ]
    },
    {
      "cell_type": "code",
      "metadata": {
        "id": "SS5aJl7_jFgG",
        "colab_type": "code",
        "colab": {}
      },
      "source": [
        "\n",
        "def cleanse_text(text):\n",
        "  step1 = re.sub(r\"(\\{'LOWER':\\s)\",r\"\",str(text))\n",
        "  step2 = re.sub(r\"[\\[{\\'\\,\\\"}\\]]\",r\"\",step1)\n",
        "  return step2\n",
        "\n"
      ],
      "execution_count": 0,
      "outputs": []
    },
    {
      "cell_type": "code",
      "metadata": {
        "id": "eJhkC6aylyuw",
        "colab_type": "code",
        "colab": {
          "base_uri": "https://localhost:8080/",
          "height": 197
        },
        "outputId": "0989d1ca-3d30-4dfd-a60a-1c0bbed65577"
      },
      "source": [
        "df_pattern['cleaned_pattern'] = df_pattern.pattern.apply(lambda x: cleanse_text(x))\n",
        "df_pattern['label'] = 'U_' + df_pattern.label.astype(str)\n",
        "df_pattern.head()"
      ],
      "execution_count": 240,
      "outputs": [
        {
          "output_type": "execute_result",
          "data": {
            "text/html": [
              "<div>\n",
              "<style scoped>\n",
              "    .dataframe tbody tr th:only-of-type {\n",
              "        vertical-align: middle;\n",
              "    }\n",
              "\n",
              "    .dataframe tbody tr th {\n",
              "        vertical-align: top;\n",
              "    }\n",
              "\n",
              "    .dataframe thead th {\n",
              "        text-align: right;\n",
              "    }\n",
              "</style>\n",
              "<table border=\"1\" class=\"dataframe\">\n",
              "  <thead>\n",
              "    <tr style=\"text-align: right;\">\n",
              "      <th></th>\n",
              "      <th>label</th>\n",
              "      <th>pattern</th>\n",
              "      <th>id</th>\n",
              "      <th>cleaned_pattern</th>\n",
              "    </tr>\n",
              "  </thead>\n",
              "  <tbody>\n",
              "    <tr>\n",
              "      <th>0</th>\n",
              "      <td>U_dish</td>\n",
              "      <td>[{'LOWER': ''mpanatigghi'}]</td>\n",
              "      <td>'mpanatigghi</td>\n",
              "      <td>mpanatigghi</td>\n",
              "    </tr>\n",
              "    <tr>\n",
              "      <th>1</th>\n",
              "      <td>U_dish</td>\n",
              "      <td>[{'LOWER': ''nduja'}]</td>\n",
              "      <td>'nduja</td>\n",
              "      <td>nduja</td>\n",
              "    </tr>\n",
              "    <tr>\n",
              "      <th>2</th>\n",
              "      <td>U_dish</td>\n",
              "      <td>[{'LOWER': ''ota'}, {'LOWER': ''ika'}]</td>\n",
              "      <td>'ota_'ika</td>\n",
              "      <td>ota ika</td>\n",
              "    </tr>\n",
              "    <tr>\n",
              "      <th>3</th>\n",
              "      <td>U_dish</td>\n",
              "      <td>[{'LOWER': '.amaro'}, {'LOWER': 'ramazzotti'}]</td>\n",
              "      <td>.amaro_ramazzotti</td>\n",
              "      <td>.amaro ramazzotti</td>\n",
              "    </tr>\n",
              "    <tr>\n",
              "      <th>4</th>\n",
              "      <td>U_dish</td>\n",
              "      <td>[{'LOWER': '15'}, {'LOWER': 'bean'}, {'LOWER':...</td>\n",
              "      <td>15_bean_soup</td>\n",
              "      <td>15 bean soup</td>\n",
              "    </tr>\n",
              "  </tbody>\n",
              "</table>\n",
              "</div>"
            ],
            "text/plain": [
              "    label  ...    cleaned_pattern\n",
              "0  U_dish  ...        mpanatigghi\n",
              "1  U_dish  ...              nduja\n",
              "2  U_dish  ...            ota ika\n",
              "3  U_dish  ...  .amaro ramazzotti\n",
              "4  U_dish  ...       15 bean soup\n",
              "\n",
              "[5 rows x 4 columns]"
            ]
          },
          "metadata": {
            "tags": []
          },
          "execution_count": 240
        }
      ]
    },
    {
      "cell_type": "code",
      "metadata": {
        "id": "WRm0fTrFoUHB",
        "colab_type": "code",
        "colab": {
          "base_uri": "https://localhost:8080/",
          "height": 197
        },
        "outputId": "d8ff94b9-a217-4d88-c4b6-7c00f9de7687"
      },
      "source": [
        "df_pattern['tup_col'] = list(zip(df_pattern.cleaned_pattern, df_pattern.label))\n",
        "df_pattern['merged'] = df_pattern.apply(lambda row: {row['cleaned_pattern']:row['label']}, axis=1)\n",
        "df_pattern.head()\n",
        "\n"
      ],
      "execution_count": 241,
      "outputs": [
        {
          "output_type": "execute_result",
          "data": {
            "text/html": [
              "<div>\n",
              "<style scoped>\n",
              "    .dataframe tbody tr th:only-of-type {\n",
              "        vertical-align: middle;\n",
              "    }\n",
              "\n",
              "    .dataframe tbody tr th {\n",
              "        vertical-align: top;\n",
              "    }\n",
              "\n",
              "    .dataframe thead th {\n",
              "        text-align: right;\n",
              "    }\n",
              "</style>\n",
              "<table border=\"1\" class=\"dataframe\">\n",
              "  <thead>\n",
              "    <tr style=\"text-align: right;\">\n",
              "      <th></th>\n",
              "      <th>label</th>\n",
              "      <th>pattern</th>\n",
              "      <th>id</th>\n",
              "      <th>cleaned_pattern</th>\n",
              "      <th>tup_col</th>\n",
              "      <th>merged</th>\n",
              "    </tr>\n",
              "  </thead>\n",
              "  <tbody>\n",
              "    <tr>\n",
              "      <th>0</th>\n",
              "      <td>U_dish</td>\n",
              "      <td>[{'LOWER': ''mpanatigghi'}]</td>\n",
              "      <td>'mpanatigghi</td>\n",
              "      <td>mpanatigghi</td>\n",
              "      <td>(mpanatigghi, U_dish)</td>\n",
              "      <td>{'mpanatigghi': 'U_dish'}</td>\n",
              "    </tr>\n",
              "    <tr>\n",
              "      <th>1</th>\n",
              "      <td>U_dish</td>\n",
              "      <td>[{'LOWER': ''nduja'}]</td>\n",
              "      <td>'nduja</td>\n",
              "      <td>nduja</td>\n",
              "      <td>(nduja, U_dish)</td>\n",
              "      <td>{'nduja': 'U_dish'}</td>\n",
              "    </tr>\n",
              "    <tr>\n",
              "      <th>2</th>\n",
              "      <td>U_dish</td>\n",
              "      <td>[{'LOWER': ''ota'}, {'LOWER': ''ika'}]</td>\n",
              "      <td>'ota_'ika</td>\n",
              "      <td>ota ika</td>\n",
              "      <td>(ota ika, U_dish)</td>\n",
              "      <td>{'ota ika': 'U_dish'}</td>\n",
              "    </tr>\n",
              "    <tr>\n",
              "      <th>3</th>\n",
              "      <td>U_dish</td>\n",
              "      <td>[{'LOWER': '.amaro'}, {'LOWER': 'ramazzotti'}]</td>\n",
              "      <td>.amaro_ramazzotti</td>\n",
              "      <td>.amaro ramazzotti</td>\n",
              "      <td>(.amaro ramazzotti, U_dish)</td>\n",
              "      <td>{'.amaro ramazzotti': 'U_dish'}</td>\n",
              "    </tr>\n",
              "    <tr>\n",
              "      <th>4</th>\n",
              "      <td>U_dish</td>\n",
              "      <td>[{'LOWER': '15'}, {'LOWER': 'bean'}, {'LOWER':...</td>\n",
              "      <td>15_bean_soup</td>\n",
              "      <td>15 bean soup</td>\n",
              "      <td>(15 bean soup, U_dish)</td>\n",
              "      <td>{'15 bean soup': 'U_dish'}</td>\n",
              "    </tr>\n",
              "  </tbody>\n",
              "</table>\n",
              "</div>"
            ],
            "text/plain": [
              "    label  ...                           merged\n",
              "0  U_dish  ...        {'mpanatigghi': 'U_dish'}\n",
              "1  U_dish  ...              {'nduja': 'U_dish'}\n",
              "2  U_dish  ...            {'ota ika': 'U_dish'}\n",
              "3  U_dish  ...  {'.amaro ramazzotti': 'U_dish'}\n",
              "4  U_dish  ...       {'15 bean soup': 'U_dish'}\n",
              "\n",
              "[5 rows x 6 columns]"
            ]
          },
          "metadata": {
            "tags": []
          },
          "execution_count": 241
        }
      ]
    },
    {
      "cell_type": "code",
      "metadata": {
        "id": "YDmBhmceraTI",
        "colab_type": "code",
        "outputId": "8b3fec91-dc41-479c-f7e6-fd6af83a07de",
        "colab": {
          "base_uri": "https://localhost:8080/",
          "height": 191
        }
      },
      "source": [
        "\n",
        "ent_list = df_pattern.tup_col.to_list()\n",
        "ent_list[50:60]"
      ],
      "execution_count": 242,
      "outputs": [
        {
          "output_type": "execute_result",
          "data": {
            "text/plain": [
              "[('agliata', 'U_dish'),\n",
              " ('agneau du périgord', 'U_dish'),\n",
              " ('agnolotti', 'U_dish'),\n",
              " ('agrodolce', 'U_dish'),\n",
              " ('agua de sevilla', 'U_dish'),\n",
              " ('agua de valencia', 'U_dish'),\n",
              " ('aguachile', 'U_dish'),\n",
              " ('aguadito de pollo', 'U_dish'),\n",
              " ('aguapanela', 'U_dish'),\n",
              " ('aguas frescas', 'U_dish')]"
            ]
          },
          "metadata": {
            "tags": []
          },
          "execution_count": 242
        }
      ]
    },
    {
      "cell_type": "code",
      "metadata": {
        "id": "wSdQvxf4igK6",
        "colab_type": "code",
        "colab": {}
      },
      "source": [
        "nlp = spacy.load(\"en_core_web_lg\")\n",
        "ruler = EntityRuler(nlp).from_disk(\"patterns.jsonl\")\n",
        "emoji = Emoji(nlp)\n",
        "nlp.add_pipe(emoji, first=True)\n",
        "nlp.add_pipe(ruler, before='ner')\n",
        "#merge_ents = nlp.create_pipe(\"merge_entities\")\n",
        "#nlp.add_pipe(merge_ents, after='ner')"
      ],
      "execution_count": 0,
      "outputs": []
    },
    {
      "cell_type": "code",
      "metadata": {
        "id": "zK6WIlIOFssU",
        "colab_type": "code",
        "colab": {}
      },
      "source": [
        ""
      ],
      "execution_count": 0,
      "outputs": []
    },
    {
      "cell_type": "code",
      "metadata": {
        "id": "tqE7T_nu_nNd",
        "colab_type": "code",
        "colab": {
          "base_uri": "https://localhost:8080/",
          "height": 167
        },
        "outputId": "487df46a-bb8d-4ace-a991-1b616c3ddba7"
      },
      "source": [
        ""
      ],
      "execution_count": 14,
      "outputs": [
        {
          "output_type": "error",
          "ename": "NameError",
          "evalue": "ignored",
          "traceback": [
            "\u001b[0;31m---------------------------------------------------------------------------\u001b[0m",
            "\u001b[0;31mNameError\u001b[0m                                 Traceback (most recent call last)",
            "\u001b[0;32m<ipython-input-14-817aefb473db>\u001b[0m in \u001b[0;36m<module>\u001b[0;34m()\u001b[0m\n\u001b[0;32m----> 1\u001b[0;31m \u001b[0mner\u001b[0m\u001b[0;34m.\u001b[0m\u001b[0mlabels\u001b[0m\u001b[0;34m\u001b[0m\u001b[0;34m\u001b[0m\u001b[0m\n\u001b[0m",
            "\u001b[0;31mNameError\u001b[0m: name 'ner' is not defined"
          ]
        }
      ]
    },
    {
      "cell_type": "code",
      "metadata": {
        "id": "DcGak0lFvo6a",
        "colab_type": "code",
        "outputId": "4ff4bda1-cfde-46cf-e872-038b93162649",
        "colab": {
          "base_uri": "https://localhost:8080/",
          "height": 278
        }
      },
      "source": [
        "ruler.patterns[10:15]"
      ],
      "execution_count": 16,
      "outputs": [
        {
          "output_type": "execute_result",
          "data": {
            "text/plain": [
              "[{'id': '5_hour_energy',\n",
              "  'label': 'dish',\n",
              "  'pattern': [{'LOWER': '5'}, {'LOWER': 'hour'}, {'LOWER': 'energy'}]},\n",
              " {'id': '7_and_7',\n",
              "  'label': 'dish',\n",
              "  'pattern': [{'LOWER': '7'}, {'LOWER': 'and'}, {'LOWER': '7'}]},\n",
              " {'id': 'a_gei',\n",
              "  'label': 'dish',\n",
              "  'pattern': [{'LOWER': 'a'}, {'LOWER': 'gei'}]},\n",
              " {'id': 'a_thoke',\n",
              "  'label': 'dish',\n",
              "  'pattern': [{'LOWER': 'a'}, {'LOWER': 'thoke'}]},\n",
              " {'id': 'aachener_printen',\n",
              "  'label': 'dish',\n",
              "  'pattern': [{'LOWER': 'aachener'}, {'LOWER': 'printen'}]}]"
            ]
          },
          "metadata": {
            "tags": []
          },
          "execution_count": 16
        }
      ]
    },
    {
      "cell_type": "code",
      "metadata": {
        "id": "zYGh4-jaH6Ly",
        "colab_type": "code",
        "outputId": "0890357a-ab88-4a44-a02f-c8a0ab861b52",
        "colab": {
          "base_uri": "https://localhost:8080/",
          "height": 34
        }
      },
      "source": [
        "nlp.pipe_names"
      ],
      "execution_count": 244,
      "outputs": [
        {
          "output_type": "execute_result",
          "data": {
            "text/plain": [
              "['emoji', 'tagger', 'parser', 'entity_ruler', 'ner']"
            ]
          },
          "metadata": {
            "tags": []
          },
          "execution_count": 244
        }
      ]
    },
    {
      "cell_type": "code",
      "metadata": {
        "id": "7dgmGUu9XHsp",
        "colab_type": "code",
        "outputId": "70d0e2a0-5154-4a24-cfc9-fa4a1b48e5e3",
        "colab": {
          "base_uri": "https://localhost:8080/",
          "height": 69
        }
      },
      "source": [
        "ruler.patterns[6200]"
      ],
      "execution_count": 18,
      "outputs": [
        {
          "output_type": "execute_result",
          "data": {
            "text/plain": [
              "{'id': 'litsea_cubeba',\n",
              " 'label': 'spice',\n",
              " 'pattern': [{'LOWER': 'litsea'}, {'LOWER': 'cubeba'}]}"
            ]
          },
          "metadata": {
            "tags": []
          },
          "execution_count": 18
        }
      ]
    },
    {
      "cell_type": "code",
      "metadata": {
        "id": "AzKrOlarv8ZW",
        "colab_type": "code",
        "outputId": "fb6ffee2-7500-406c-b3ba-866cfe3eadeb",
        "colab": {
          "base_uri": "https://localhost:8080/",
          "height": 69
        }
      },
      "source": [
        "doc1 = nlp(\"I love fettuccine cheese 💚🌿 but hate buffalo wings.\")\n",
        "print([(ent.text, ent.label_, ent.ent_id_) for ent in doc1.ents])\n",
        "\n",
        "displacy.render(doc1,'ent',jupyter=True)\n",
        "\n"
      ],
      "execution_count": 326,
      "outputs": [
        {
          "output_type": "stream",
          "text": [
            "[('fettuccine', 'dish', 'fettuccine'), ('buffalo wings', 'dish', 'buffalo_wings')]\n"
          ],
          "name": "stdout"
        },
        {
          "output_type": "display_data",
          "data": {
            "text/html": [
              "<div class=\"entities\" style=\"line-height: 2.5; direction: ltr\">I love \n",
              "<mark class=\"entity\" style=\"background: #ddd; padding: 0.45em 0.6em; margin: 0 0.25em; line-height: 1; border-radius: 0.35em; box-decoration-break: clone; -webkit-box-decoration-break: clone\">\n",
              "    fettuccine\n",
              "    <span style=\"font-size: 0.8em; font-weight: bold; line-height: 1; border-radius: 0.35em; text-transform: uppercase; vertical-align: middle; margin-left: 0.5rem\">dish</span>\n",
              "</mark>\n",
              " cheese 💚🌿 but hate \n",
              "<mark class=\"entity\" style=\"background: #ddd; padding: 0.45em 0.6em; margin: 0 0.25em; line-height: 1; border-radius: 0.35em; box-decoration-break: clone; -webkit-box-decoration-break: clone\">\n",
              "    buffalo wings\n",
              "    <span style=\"font-size: 0.8em; font-weight: bold; line-height: 1; border-radius: 0.35em; text-transform: uppercase; vertical-align: middle; margin-left: 0.5rem\">dish</span>\n",
              "</mark>\n",
              ".</div>"
            ],
            "text/plain": [
              "<IPython.core.display.HTML object>"
            ]
          },
          "metadata": {
            "tags": []
          }
        }
      ]
    },
    {
      "cell_type": "code",
      "metadata": {
        "id": "VZ2JkO1uwBLt",
        "colab_type": "code",
        "outputId": "13d89077-c25f-4531-9fa5-46725b0faf2a",
        "colab": {
          "base_uri": "https://localhost:8080/",
          "height": 51
        }
      },
      "source": [
        "doc2 = nlp(\"Avocado 🌿 are good but the ajwain is great\")\n",
        "displacy.render(doc2,'ent',jupyter=True)"
      ],
      "execution_count": 72,
      "outputs": [
        {
          "output_type": "display_data",
          "data": {
            "text/html": [
              "<div class=\"entities\" style=\"line-height: 2.5; direction: ltr\">\n",
              "<mark class=\"entity\" style=\"background: #ddd; padding: 0.45em 0.6em; margin: 0 0.25em; line-height: 1; border-radius: 0.35em; box-decoration-break: clone; -webkit-box-decoration-break: clone\">\n",
              "    Avocado\n",
              "    <span style=\"font-size: 0.8em; font-weight: bold; line-height: 1; border-radius: 0.35em; text-transform: uppercase; vertical-align: middle; margin-left: 0.5rem\">fruit</span>\n",
              "</mark>\n",
              " 🌿 are good but the \n",
              "<mark class=\"entity\" style=\"background: #ddd; padding: 0.45em 0.6em; margin: 0 0.25em; line-height: 1; border-radius: 0.35em; box-decoration-break: clone; -webkit-box-decoration-break: clone\">\n",
              "    ajwain\n",
              "    <span style=\"font-size: 0.8em; font-weight: bold; line-height: 1; border-radius: 0.35em; text-transform: uppercase; vertical-align: middle; margin-left: 0.5rem\">spice</span>\n",
              "</mark>\n",
              " is great</div>"
            ],
            "text/plain": [
              "<IPython.core.display.HTML object>"
            ]
          },
          "metadata": {
            "tags": []
          }
        }
      ]
    },
    {
      "cell_type": "code",
      "metadata": {
        "id": "1LFBMNywzLLc",
        "colab_type": "code",
        "outputId": "666038e2-9dcd-4a73-f097-4f3f06fe9bc1",
        "colab": {
          "base_uri": "https://localhost:8080/",
          "height": 34
        }
      },
      "source": [
        "nlp.pipe_names"
      ],
      "execution_count": 21,
      "outputs": [
        {
          "output_type": "execute_result",
          "data": {
            "text/plain": [
              "['emoji', 'tagger', 'parser', 'entity_ruler', 'ner']"
            ]
          },
          "metadata": {
            "tags": []
          },
          "execution_count": 21
        }
      ]
    },
    {
      "cell_type": "code",
      "metadata": {
        "id": "U_hv8JuEIBTR",
        "colab_type": "code",
        "outputId": "fd026fd7-5f7c-4c50-be82-383b66fcfa61",
        "colab": {
          "base_uri": "https://localhost:8080/",
          "height": 51
        }
      },
      "source": [
        "doc3 = nlp(\"Baguette is the best bread in the whole world - bagels come close and ciabatta is also up there\")\n",
        "displacy.render(doc3,'ent',jupyter=True)"
      ],
      "execution_count": 16,
      "outputs": [
        {
          "output_type": "display_data",
          "data": {
            "text/html": [
              "<div class=\"entities\" style=\"line-height: 2.5; direction: ltr\">\n",
              "<mark class=\"entity\" style=\"background: #ddd; padding: 0.45em 0.6em; margin: 0 0.25em; line-height: 1; border-radius: 0.35em; box-decoration-break: clone; -webkit-box-decoration-break: clone\">\n",
              "    Baguette\n",
              "    <span style=\"font-size: 0.8em; font-weight: bold; line-height: 1; border-radius: 0.35em; text-transform: uppercase; vertical-align: middle; margin-left: 0.5rem\">dish</span>\n",
              "</mark>\n",
              " is the best bread in the whole world - bagels come close and \n",
              "<mark class=\"entity\" style=\"background: #ddd; padding: 0.45em 0.6em; margin: 0 0.25em; line-height: 1; border-radius: 0.35em; box-decoration-break: clone; -webkit-box-decoration-break: clone\">\n",
              "    ciabatta\n",
              "    <span style=\"font-size: 0.8em; font-weight: bold; line-height: 1; border-radius: 0.35em; text-transform: uppercase; vertical-align: middle; margin-left: 0.5rem\">bread</span>\n",
              "</mark>\n",
              " is also up there</div>"
            ],
            "text/plain": [
              "<IPython.core.display.HTML object>"
            ]
          },
          "metadata": {
            "tags": []
          }
        }
      ]
    },
    {
      "cell_type": "code",
      "metadata": {
        "id": "CnDcxuI_IBx3",
        "colab_type": "code",
        "outputId": "23e8a320-12f2-4ea9-ac8c-1df0162bf92c",
        "colab": {
          "base_uri": "https://localhost:8080/",
          "height": 34
        }
      },
      "source": [
        "nlp.disable_pipes('entity_ruler')"
      ],
      "execution_count": 18,
      "outputs": [
        {
          "output_type": "execute_result",
          "data": {
            "text/plain": [
              "[('entity_ruler', <spacy.pipeline.entityruler.EntityRuler at 0x7f5fdaccc630>)]"
            ]
          },
          "metadata": {
            "tags": []
          },
          "execution_count": 18
        }
      ]
    },
    {
      "cell_type": "code",
      "metadata": {
        "id": "LRdi-_iTIt1O",
        "colab_type": "code",
        "outputId": "e6032a1d-fc1d-41dc-a741-4b76e6a5f78b",
        "colab": {
          "base_uri": "https://localhost:8080/",
          "height": 51
        }
      },
      "source": [
        "doc3 = nlp(\"Baguette is the best chaunk bread in the whole world - bagels come close and ciabatta is also up there\")\n",
        "displacy.render(doc3,'ent',jupyter=True)"
      ],
      "execution_count": 19,
      "outputs": [
        {
          "output_type": "display_data",
          "data": {
            "text/html": [
              "<div class=\"entities\" style=\"line-height: 2.5; direction: ltr\">\n",
              "<mark class=\"entity\" style=\"background: #7aecec; padding: 0.45em 0.6em; margin: 0 0.25em; line-height: 1; border-radius: 0.35em; box-decoration-break: clone; -webkit-box-decoration-break: clone\">\n",
              "    Baguette\n",
              "    <span style=\"font-size: 0.8em; font-weight: bold; line-height: 1; border-radius: 0.35em; text-transform: uppercase; vertical-align: middle; margin-left: 0.5rem\">ORG</span>\n",
              "</mark>\n",
              " is the best chaunk bread in the whole world - bagels come close and ciabatta is also up there</div>"
            ],
            "text/plain": [
              "<IPython.core.display.HTML object>"
            ]
          },
          "metadata": {
            "tags": []
          }
        }
      ]
    },
    {
      "cell_type": "code",
      "metadata": {
        "id": "Qx41Eqp31oWT",
        "colab_type": "code",
        "outputId": "66c69e76-afac-47a9-b7a4-215177ca26e7",
        "colab": {
          "base_uri": "https://localhost:8080/",
          "height": 138
        }
      },
      "source": [
        "reviews = pd.read_csv('reviews_text.csv',usecols=['_id', 'text'])\n",
        "reviews.info()"
      ],
      "execution_count": 17,
      "outputs": [
        {
          "output_type": "stream",
          "text": [
            "<class 'pandas.core.frame.DataFrame'>\n",
            "RangeIndex: 56156 entries, 0 to 56155\n",
            "Data columns (total 2 columns):\n",
            "_id     56156 non-null object\n",
            "text    56155 non-null object\n",
            "dtypes: object(2)\n",
            "memory usage: 877.6+ KB\n"
          ],
          "name": "stdout"
        }
      ]
    },
    {
      "cell_type": "code",
      "metadata": {
        "id": "tcPrdbjn2A7X",
        "colab_type": "code",
        "outputId": "5aa6cc16-c24e-44b2-9550-08ef3731c769",
        "colab": {
          "base_uri": "https://localhost:8080/",
          "height": 138
        }
      },
      "source": [
        "reviews.dropna(inplace=True)\n",
        "reviews.info()"
      ],
      "execution_count": 18,
      "outputs": [
        {
          "output_type": "stream",
          "text": [
            "<class 'pandas.core.frame.DataFrame'>\n",
            "Int64Index: 56155 entries, 0 to 56155\n",
            "Data columns (total 2 columns):\n",
            "_id     56155 non-null object\n",
            "text    56155 non-null object\n",
            "dtypes: object(2)\n",
            "memory usage: 1.3+ MB\n"
          ],
          "name": "stdout"
        }
      ]
    },
    {
      "cell_type": "code",
      "metadata": {
        "id": "wSV4paug2LTo",
        "colab_type": "code",
        "outputId": "3e2a660c-1d45-4de6-d8e0-3b3b4d1c8358",
        "colab": {
          "base_uri": "https://localhost:8080/",
          "height": 225
        }
      },
      "source": [
        "texts = reviews['text'][0:1000]\n",
        "texts"
      ],
      "execution_count": 382,
      "outputs": [
        {
          "output_type": "execute_result",
          "data": {
            "text/plain": [
              "0      Burger joint offers a wide range of cheeseburg...\n",
              "1      It was really good. The mushroom broth was esp...\n",
              "2      $8.90 for sesame rice, mushroom rendang, curry...\n",
              "3      2 mains + 1 green rice bento from greendot. Re...\n",
              "4      The lion mane mushroom rendang is so delicious...\n",
              "                             ...                        \n",
              "995    This dish is 6-spoon appetizer made of tea lea...\n",
              "996    These churros are so simple, original, and cri...\n",
              "997    Warm fluffy soft bread with avocado and tofu f...\n",
              "998    The avo + tofu didn’t fly well together but th...\n",
              "999    Super original and definitely worth trying if ...\n",
              "Name: text, Length: 1000, dtype: object"
            ]
          },
          "metadata": {
            "tags": []
          },
          "execution_count": 382
        }
      ]
    },
    {
      "cell_type": "code",
      "metadata": {
        "id": "txc5n_63WRy0",
        "colab_type": "code",
        "colab": {}
      },
      "source": [
        ""
      ],
      "execution_count": 0,
      "outputs": []
    },
    {
      "cell_type": "code",
      "metadata": {
        "id": "zDxp93oFXuZP",
        "colab_type": "code",
        "colab": {}
      },
      "source": [
        "ingredients_list = ['pistachio', 'almond', 'walnut', 'cashew', 'peanuts', 'macadamia', 'hazelnuts', 'pecan', 'brazil nut', 'pine nut' ]\n",
        "issues_list = ['crumble - maybe a verb', 'milk']\n",
        "food_times = \n",
        "to_be_added_list = ['spirulina', 'herbs', 'micro-greens', 'greens','spinach','eggs', 'nut butters', 'cream cheese', 'cake', 'pepper', 'zucchini', 'aubergines',  'tomato',\\\n",
        "                    'oysters', 'kale', 'cucumber', 'quinoa', 'tomatoes', 'onion' ,'garlic', 'avocado', 'chilli', 'dark chocolate', 'mushrooms', 'coriander' ,'corn chips',\\\n",
        "                    'marinara', 'donuts', 'olives', 'crackers', 'waffles', 'strawberry', 'blueberry', 'raspberry', 'compote', 'mayo', 'mayonnaise', 'soy milk', 'oat milk', \\\n",
        "                    'coconut milk', 'almond milk', 'caffeine', 'milk tea', 'cauliflower', 'matcha', 'sorbet', 'banana', 'goji berry', 'chickpea', 'spinach', 'romaine',\\\n",
        "                    'arugula', 'cacao', 'Portobello', 'pear', 'plant milk', 'BBQ sauce', 'artichoke', 'mango', 'sandwich', 'capsicum', 'wedge', 'kang kong', 'seitan',\\\n",
        "                    'ciabatta', 'focaccia', 'bean sprouts', 'olive oil']"
      ],
      "execution_count": 0,
      "outputs": []
    },
    {
      "cell_type": "code",
      "metadata": {
        "id": "ZC0Hqtpt2U9l",
        "colab_type": "code",
        "outputId": "1e3d7170-ecf7-45fe-f63f-cdaf092ec353",
        "colab": {
          "base_uri": "https://localhost:8080/",
          "height": 208
        }
      },
      "source": [
        "check = np.random.randint(0,50000,3)\n",
        "print(check)\n",
        "\n",
        "for doc in list(nlp.pipe(texts[check])):\n",
        "  displacy.render(doc,'ent',jupyter=True)\n",
        "#  displacy.render(doc,'dep',jupyter=True,options={'distance': 60, 'fine_grained': True})\n",
        "\n"
      ],
      "execution_count": 27,
      "outputs": [
        {
          "output_type": "stream",
          "text": [
            "[49671 32259 46827]\n"
          ],
          "name": "stdout"
        },
        {
          "output_type": "display_data",
          "data": {
            "text/html": [
              "<div class=\"entities\" style=\"line-height: 2.5; direction: ltr\">By far my favorite vegan laksa! Gravy is very thick and flavorful. I\n",
              "<mark class=\"entity\" style=\"background: #7aecec; padding: 0.45em 0.6em; margin: 0 0.25em; line-height: 1; border-radius: 0.35em; box-decoration-break: clone; -webkit-box-decoration-break: clone\">\n",
              "    ’m\n",
              "    <span style=\"font-size: 0.8em; font-weight: bold; line-height: 1; border-radius: 0.35em; text-transform: uppercase; vertical-align: middle; margin-left: 0.5rem\">ORG</span>\n",
              "</mark>\n",
              " not a big fan of mock-meat so I’d usually request for no mock-meat (‘fishballs’ and ‘prawns’) but more tau pok and tau gey. It can be a little too spicy sometimes though. My other favourites at \n",
              "<mark class=\"entity\" style=\"background: #7aecec; padding: 0.45em 0.6em; margin: 0 0.25em; line-height: 1; border-radius: 0.35em; box-decoration-break: clone; -webkit-box-decoration-break: clone\">\n",
              "    Greendot\n",
              "    <span style=\"font-size: 0.8em; font-weight: bold; line-height: 1; border-radius: 0.35em; text-transform: uppercase; vertical-align: middle; margin-left: 0.5rem\">ORG</span>\n",
              "</mark>\n",
              " used to be their \n",
              "<mark class=\"entity\" style=\"background: #7aecec; padding: 0.45em 0.6em; margin: 0 0.25em; line-height: 1; border-radius: 0.35em; box-decoration-break: clone; -webkit-box-decoration-break: clone\">\n",
              "    Herbal Soup\n",
              "    <span style=\"font-size: 0.8em; font-weight: bold; line-height: 1; border-radius: 0.35em; text-transform: uppercase; vertical-align: middle; margin-left: 0.5rem\">ORG</span>\n",
              "</mark>\n",
              " and \n",
              "<mark class=\"entity\" style=\"background: #7aecec; padding: 0.45em 0.6em; margin: 0 0.25em; line-height: 1; border-radius: 0.35em; box-decoration-break: clone; -webkit-box-decoration-break: clone\">\n",
              "    Lion\n",
              "    <span style=\"font-size: 0.8em; font-weight: bold; line-height: 1; border-radius: 0.35em; text-transform: uppercase; vertical-align: middle; margin-left: 0.5rem\">ORG</span>\n",
              "</mark>\n",
              "’s Mane Rendung until I stopped consuming eggs and dairy \n",
              "<mark class=\"entity\" style=\"background: #bfe1d9; padding: 0.45em 0.6em; margin: 0 0.25em; line-height: 1; border-radius: 0.35em; box-decoration-break: clone; -webkit-box-decoration-break: clone\">\n",
              "    a year ago\n",
              "    <span style=\"font-size: 0.8em; font-weight: bold; line-height: 1; border-radius: 0.35em; text-transform: uppercase; vertical-align: middle; margin-left: 0.5rem\">DATE</span>\n",
              "</mark>\n",
              ". Really hope they would consider offering vegan options for these \n",
              "<mark class=\"entity\" style=\"background: #e4e7d2; padding: 0.45em 0.6em; margin: 0 0.25em; line-height: 1; border-radius: 0.35em; box-decoration-break: clone; -webkit-box-decoration-break: clone\">\n",
              "    two\n",
              "    <span style=\"font-size: 0.8em; font-weight: bold; line-height: 1; border-radius: 0.35em; text-transform: uppercase; vertical-align: middle; margin-left: 0.5rem\">CARDINAL</span>\n",
              "</mark>\n",
              " dishes.</div>"
            ],
            "text/plain": [
              "<IPython.core.display.HTML object>"
            ]
          },
          "metadata": {
            "tags": []
          }
        },
        {
          "output_type": "display_data",
          "data": {
            "text/html": [
              "<div class=\"entities\" style=\"line-height: 2.5; direction: ltr\">This dish consists of scrambled tofu, \n",
              "<mark class=\"entity\" style=\"background: #c887fb; padding: 0.45em 0.6em; margin: 0 0.25em; line-height: 1; border-radius: 0.35em; box-decoration-break: clone; -webkit-box-decoration-break: clone\">\n",
              "    Turkish\n",
              "    <span style=\"font-size: 0.8em; font-weight: bold; line-height: 1; border-radius: 0.35em; text-transform: uppercase; vertical-align: middle; margin-left: 0.5rem\">NORP</span>\n",
              "</mark>\n",
              " toast, roast tomato, pumpkin, hash brown, and baby spinach. Very delicious</div>"
            ],
            "text/plain": [
              "<IPython.core.display.HTML object>"
            ]
          },
          "metadata": {
            "tags": []
          }
        },
        {
          "output_type": "display_data",
          "data": {
            "text/html": [
              "<div class=\"entities\" style=\"line-height: 2.5; direction: ltr\">These were yum chips and so was the cheese, the gravy was good too though more just at the bottom of the bowl</div>"
            ],
            "text/plain": [
              "<IPython.core.display.HTML object>"
            ]
          },
          "metadata": {
            "tags": []
          }
        }
      ]
    },
    {
      "cell_type": "code",
      "metadata": {
        "id": "3x4KofN-oBCA",
        "colab_type": "code",
        "outputId": "0e6e605d-77df-4f18-915f-ab3033d915f6",
        "colab": {
          "base_uri": "https://localhost:8080/",
          "height": 440
        }
      },
      "source": [
        "\n",
        "displacy.render(nlp(\"Very fresh and juicy coconut FRUIT Lassi DISH . Didn't thought it would be so fresh\"),'dep',jupyter=True)"
      ],
      "execution_count": 28,
      "outputs": [
        {
          "output_type": "display_data",
          "data": {
            "text/html": [
              "<svg xmlns=\"http://www.w3.org/2000/svg\" xmlns:xlink=\"http://www.w3.org/1999/xlink\" xml:lang=\"en\" id=\"8ddfba8a01154572aaf3d9d33d1ec4fa-0\" class=\"displacy\" width=\"2850\" height=\"399.5\" direction=\"ltr\" style=\"max-width: none; height: 399.5px; color: #000000; background: #ffffff; font-family: Arial; direction: ltr\">\n",
              "<text class=\"displacy-token\" fill=\"currentColor\" text-anchor=\"middle\" y=\"309.5\">\n",
              "    <tspan class=\"displacy-word\" fill=\"currentColor\" x=\"50\">Very</tspan>\n",
              "    <tspan class=\"displacy-tag\" dy=\"2em\" fill=\"currentColor\" x=\"50\">ADV</tspan>\n",
              "</text>\n",
              "\n",
              "<text class=\"displacy-token\" fill=\"currentColor\" text-anchor=\"middle\" y=\"309.5\">\n",
              "    <tspan class=\"displacy-word\" fill=\"currentColor\" x=\"225\">fresh</tspan>\n",
              "    <tspan class=\"displacy-tag\" dy=\"2em\" fill=\"currentColor\" x=\"225\">ADJ</tspan>\n",
              "</text>\n",
              "\n",
              "<text class=\"displacy-token\" fill=\"currentColor\" text-anchor=\"middle\" y=\"309.5\">\n",
              "    <tspan class=\"displacy-word\" fill=\"currentColor\" x=\"400\">and</tspan>\n",
              "    <tspan class=\"displacy-tag\" dy=\"2em\" fill=\"currentColor\" x=\"400\">CCONJ</tspan>\n",
              "</text>\n",
              "\n",
              "<text class=\"displacy-token\" fill=\"currentColor\" text-anchor=\"middle\" y=\"309.5\">\n",
              "    <tspan class=\"displacy-word\" fill=\"currentColor\" x=\"575\">juicy</tspan>\n",
              "    <tspan class=\"displacy-tag\" dy=\"2em\" fill=\"currentColor\" x=\"575\">ADJ</tspan>\n",
              "</text>\n",
              "\n",
              "<text class=\"displacy-token\" fill=\"currentColor\" text-anchor=\"middle\" y=\"309.5\">\n",
              "    <tspan class=\"displacy-word\" fill=\"currentColor\" x=\"750\">coconut</tspan>\n",
              "    <tspan class=\"displacy-tag\" dy=\"2em\" fill=\"currentColor\" x=\"750\">NOUN</tspan>\n",
              "</text>\n",
              "\n",
              "<text class=\"displacy-token\" fill=\"currentColor\" text-anchor=\"middle\" y=\"309.5\">\n",
              "    <tspan class=\"displacy-word\" fill=\"currentColor\" x=\"925\">FRUIT</tspan>\n",
              "    <tspan class=\"displacy-tag\" dy=\"2em\" fill=\"currentColor\" x=\"925\">PROPN</tspan>\n",
              "</text>\n",
              "\n",
              "<text class=\"displacy-token\" fill=\"currentColor\" text-anchor=\"middle\" y=\"309.5\">\n",
              "    <tspan class=\"displacy-word\" fill=\"currentColor\" x=\"1100\">Lassi</tspan>\n",
              "    <tspan class=\"displacy-tag\" dy=\"2em\" fill=\"currentColor\" x=\"1100\">PROPN</tspan>\n",
              "</text>\n",
              "\n",
              "<text class=\"displacy-token\" fill=\"currentColor\" text-anchor=\"middle\" y=\"309.5\">\n",
              "    <tspan class=\"displacy-word\" fill=\"currentColor\" x=\"1275\">DISH .</tspan>\n",
              "    <tspan class=\"displacy-tag\" dy=\"2em\" fill=\"currentColor\" x=\"1275\">PROPN</tspan>\n",
              "</text>\n",
              "\n",
              "<text class=\"displacy-token\" fill=\"currentColor\" text-anchor=\"middle\" y=\"309.5\">\n",
              "    <tspan class=\"displacy-word\" fill=\"currentColor\" x=\"1450\">Did</tspan>\n",
              "    <tspan class=\"displacy-tag\" dy=\"2em\" fill=\"currentColor\" x=\"1450\">VERB</tspan>\n",
              "</text>\n",
              "\n",
              "<text class=\"displacy-token\" fill=\"currentColor\" text-anchor=\"middle\" y=\"309.5\">\n",
              "    <tspan class=\"displacy-word\" fill=\"currentColor\" x=\"1625\">n't</tspan>\n",
              "    <tspan class=\"displacy-tag\" dy=\"2em\" fill=\"currentColor\" x=\"1625\">ADV</tspan>\n",
              "</text>\n",
              "\n",
              "<text class=\"displacy-token\" fill=\"currentColor\" text-anchor=\"middle\" y=\"309.5\">\n",
              "    <tspan class=\"displacy-word\" fill=\"currentColor\" x=\"1800\">thought</tspan>\n",
              "    <tspan class=\"displacy-tag\" dy=\"2em\" fill=\"currentColor\" x=\"1800\">VERB</tspan>\n",
              "</text>\n",
              "\n",
              "<text class=\"displacy-token\" fill=\"currentColor\" text-anchor=\"middle\" y=\"309.5\">\n",
              "    <tspan class=\"displacy-word\" fill=\"currentColor\" x=\"1975\">it</tspan>\n",
              "    <tspan class=\"displacy-tag\" dy=\"2em\" fill=\"currentColor\" x=\"1975\">PRON</tspan>\n",
              "</text>\n",
              "\n",
              "<text class=\"displacy-token\" fill=\"currentColor\" text-anchor=\"middle\" y=\"309.5\">\n",
              "    <tspan class=\"displacy-word\" fill=\"currentColor\" x=\"2150\">would</tspan>\n",
              "    <tspan class=\"displacy-tag\" dy=\"2em\" fill=\"currentColor\" x=\"2150\">VERB</tspan>\n",
              "</text>\n",
              "\n",
              "<text class=\"displacy-token\" fill=\"currentColor\" text-anchor=\"middle\" y=\"309.5\">\n",
              "    <tspan class=\"displacy-word\" fill=\"currentColor\" x=\"2325\">be</tspan>\n",
              "    <tspan class=\"displacy-tag\" dy=\"2em\" fill=\"currentColor\" x=\"2325\">VERB</tspan>\n",
              "</text>\n",
              "\n",
              "<text class=\"displacy-token\" fill=\"currentColor\" text-anchor=\"middle\" y=\"309.5\">\n",
              "    <tspan class=\"displacy-word\" fill=\"currentColor\" x=\"2500\">so</tspan>\n",
              "    <tspan class=\"displacy-tag\" dy=\"2em\" fill=\"currentColor\" x=\"2500\">ADV</tspan>\n",
              "</text>\n",
              "\n",
              "<text class=\"displacy-token\" fill=\"currentColor\" text-anchor=\"middle\" y=\"309.5\">\n",
              "    <tspan class=\"displacy-word\" fill=\"currentColor\" x=\"2675\">fresh</tspan>\n",
              "    <tspan class=\"displacy-tag\" dy=\"2em\" fill=\"currentColor\" x=\"2675\">ADJ</tspan>\n",
              "</text>\n",
              "\n",
              "<g class=\"displacy-arrow\">\n",
              "    <path class=\"displacy-arc\" id=\"arrow-8ddfba8a01154572aaf3d9d33d1ec4fa-0-0\" stroke-width=\"2px\" d=\"M70,264.5 C70,177.0 215.0,177.0 215.0,264.5\" fill=\"none\" stroke=\"currentColor\"/>\n",
              "    <text dy=\"1.25em\" style=\"font-size: 0.8em; letter-spacing: 1px\">\n",
              "        <textPath xlink:href=\"#arrow-8ddfba8a01154572aaf3d9d33d1ec4fa-0-0\" class=\"displacy-label\" startOffset=\"50%\" side=\"left\" fill=\"currentColor\" text-anchor=\"middle\">advmod</textPath>\n",
              "    </text>\n",
              "    <path class=\"displacy-arrowhead\" d=\"M70,266.5 L62,254.5 78,254.5\" fill=\"currentColor\"/>\n",
              "</g>\n",
              "\n",
              "<g class=\"displacy-arrow\">\n",
              "    <path class=\"displacy-arc\" id=\"arrow-8ddfba8a01154572aaf3d9d33d1ec4fa-0-1\" stroke-width=\"2px\" d=\"M245,264.5 C245,2.0 750.0,2.0 750.0,264.5\" fill=\"none\" stroke=\"currentColor\"/>\n",
              "    <text dy=\"1.25em\" style=\"font-size: 0.8em; letter-spacing: 1px\">\n",
              "        <textPath xlink:href=\"#arrow-8ddfba8a01154572aaf3d9d33d1ec4fa-0-1\" class=\"displacy-label\" startOffset=\"50%\" side=\"left\" fill=\"currentColor\" text-anchor=\"middle\">amod</textPath>\n",
              "    </text>\n",
              "    <path class=\"displacy-arrowhead\" d=\"M245,266.5 L237,254.5 253,254.5\" fill=\"currentColor\"/>\n",
              "</g>\n",
              "\n",
              "<g class=\"displacy-arrow\">\n",
              "    <path class=\"displacy-arc\" id=\"arrow-8ddfba8a01154572aaf3d9d33d1ec4fa-0-2\" stroke-width=\"2px\" d=\"M245,264.5 C245,177.0 390.0,177.0 390.0,264.5\" fill=\"none\" stroke=\"currentColor\"/>\n",
              "    <text dy=\"1.25em\" style=\"font-size: 0.8em; letter-spacing: 1px\">\n",
              "        <textPath xlink:href=\"#arrow-8ddfba8a01154572aaf3d9d33d1ec4fa-0-2\" class=\"displacy-label\" startOffset=\"50%\" side=\"left\" fill=\"currentColor\" text-anchor=\"middle\">cc</textPath>\n",
              "    </text>\n",
              "    <path class=\"displacy-arrowhead\" d=\"M390.0,266.5 L398.0,254.5 382.0,254.5\" fill=\"currentColor\"/>\n",
              "</g>\n",
              "\n",
              "<g class=\"displacy-arrow\">\n",
              "    <path class=\"displacy-arc\" id=\"arrow-8ddfba8a01154572aaf3d9d33d1ec4fa-0-3\" stroke-width=\"2px\" d=\"M245,264.5 C245,89.5 570.0,89.5 570.0,264.5\" fill=\"none\" stroke=\"currentColor\"/>\n",
              "    <text dy=\"1.25em\" style=\"font-size: 0.8em; letter-spacing: 1px\">\n",
              "        <textPath xlink:href=\"#arrow-8ddfba8a01154572aaf3d9d33d1ec4fa-0-3\" class=\"displacy-label\" startOffset=\"50%\" side=\"left\" fill=\"currentColor\" text-anchor=\"middle\">conj</textPath>\n",
              "    </text>\n",
              "    <path class=\"displacy-arrowhead\" d=\"M570.0,266.5 L578.0,254.5 562.0,254.5\" fill=\"currentColor\"/>\n",
              "</g>\n",
              "\n",
              "<g class=\"displacy-arrow\">\n",
              "    <path class=\"displacy-arc\" id=\"arrow-8ddfba8a01154572aaf3d9d33d1ec4fa-0-4\" stroke-width=\"2px\" d=\"M770,264.5 C770,2.0 1275.0,2.0 1275.0,264.5\" fill=\"none\" stroke=\"currentColor\"/>\n",
              "    <text dy=\"1.25em\" style=\"font-size: 0.8em; letter-spacing: 1px\">\n",
              "        <textPath xlink:href=\"#arrow-8ddfba8a01154572aaf3d9d33d1ec4fa-0-4\" class=\"displacy-label\" startOffset=\"50%\" side=\"left\" fill=\"currentColor\" text-anchor=\"middle\">compound</textPath>\n",
              "    </text>\n",
              "    <path class=\"displacy-arrowhead\" d=\"M770,266.5 L762,254.5 778,254.5\" fill=\"currentColor\"/>\n",
              "</g>\n",
              "\n",
              "<g class=\"displacy-arrow\">\n",
              "    <path class=\"displacy-arc\" id=\"arrow-8ddfba8a01154572aaf3d9d33d1ec4fa-0-5\" stroke-width=\"2px\" d=\"M945,264.5 C945,177.0 1090.0,177.0 1090.0,264.5\" fill=\"none\" stroke=\"currentColor\"/>\n",
              "    <text dy=\"1.25em\" style=\"font-size: 0.8em; letter-spacing: 1px\">\n",
              "        <textPath xlink:href=\"#arrow-8ddfba8a01154572aaf3d9d33d1ec4fa-0-5\" class=\"displacy-label\" startOffset=\"50%\" side=\"left\" fill=\"currentColor\" text-anchor=\"middle\">compound</textPath>\n",
              "    </text>\n",
              "    <path class=\"displacy-arrowhead\" d=\"M945,266.5 L937,254.5 953,254.5\" fill=\"currentColor\"/>\n",
              "</g>\n",
              "\n",
              "<g class=\"displacy-arrow\">\n",
              "    <path class=\"displacy-arc\" id=\"arrow-8ddfba8a01154572aaf3d9d33d1ec4fa-0-6\" stroke-width=\"2px\" d=\"M1120,264.5 C1120,177.0 1265.0,177.0 1265.0,264.5\" fill=\"none\" stroke=\"currentColor\"/>\n",
              "    <text dy=\"1.25em\" style=\"font-size: 0.8em; letter-spacing: 1px\">\n",
              "        <textPath xlink:href=\"#arrow-8ddfba8a01154572aaf3d9d33d1ec4fa-0-6\" class=\"displacy-label\" startOffset=\"50%\" side=\"left\" fill=\"currentColor\" text-anchor=\"middle\">compound</textPath>\n",
              "    </text>\n",
              "    <path class=\"displacy-arrowhead\" d=\"M1120,266.5 L1112,254.5 1128,254.5\" fill=\"currentColor\"/>\n",
              "</g>\n",
              "\n",
              "<g class=\"displacy-arrow\">\n",
              "    <path class=\"displacy-arc\" id=\"arrow-8ddfba8a01154572aaf3d9d33d1ec4fa-0-7\" stroke-width=\"2px\" d=\"M1470,264.5 C1470,89.5 1795.0,89.5 1795.0,264.5\" fill=\"none\" stroke=\"currentColor\"/>\n",
              "    <text dy=\"1.25em\" style=\"font-size: 0.8em; letter-spacing: 1px\">\n",
              "        <textPath xlink:href=\"#arrow-8ddfba8a01154572aaf3d9d33d1ec4fa-0-7\" class=\"displacy-label\" startOffset=\"50%\" side=\"left\" fill=\"currentColor\" text-anchor=\"middle\">aux</textPath>\n",
              "    </text>\n",
              "    <path class=\"displacy-arrowhead\" d=\"M1470,266.5 L1462,254.5 1478,254.5\" fill=\"currentColor\"/>\n",
              "</g>\n",
              "\n",
              "<g class=\"displacy-arrow\">\n",
              "    <path class=\"displacy-arc\" id=\"arrow-8ddfba8a01154572aaf3d9d33d1ec4fa-0-8\" stroke-width=\"2px\" d=\"M1645,264.5 C1645,177.0 1790.0,177.0 1790.0,264.5\" fill=\"none\" stroke=\"currentColor\"/>\n",
              "    <text dy=\"1.25em\" style=\"font-size: 0.8em; letter-spacing: 1px\">\n",
              "        <textPath xlink:href=\"#arrow-8ddfba8a01154572aaf3d9d33d1ec4fa-0-8\" class=\"displacy-label\" startOffset=\"50%\" side=\"left\" fill=\"currentColor\" text-anchor=\"middle\">neg</textPath>\n",
              "    </text>\n",
              "    <path class=\"displacy-arrowhead\" d=\"M1645,266.5 L1637,254.5 1653,254.5\" fill=\"currentColor\"/>\n",
              "</g>\n",
              "\n",
              "<g class=\"displacy-arrow\">\n",
              "    <path class=\"displacy-arc\" id=\"arrow-8ddfba8a01154572aaf3d9d33d1ec4fa-0-9\" stroke-width=\"2px\" d=\"M1995,264.5 C1995,89.5 2320.0,89.5 2320.0,264.5\" fill=\"none\" stroke=\"currentColor\"/>\n",
              "    <text dy=\"1.25em\" style=\"font-size: 0.8em; letter-spacing: 1px\">\n",
              "        <textPath xlink:href=\"#arrow-8ddfba8a01154572aaf3d9d33d1ec4fa-0-9\" class=\"displacy-label\" startOffset=\"50%\" side=\"left\" fill=\"currentColor\" text-anchor=\"middle\">nsubj</textPath>\n",
              "    </text>\n",
              "    <path class=\"displacy-arrowhead\" d=\"M1995,266.5 L1987,254.5 2003,254.5\" fill=\"currentColor\"/>\n",
              "</g>\n",
              "\n",
              "<g class=\"displacy-arrow\">\n",
              "    <path class=\"displacy-arc\" id=\"arrow-8ddfba8a01154572aaf3d9d33d1ec4fa-0-10\" stroke-width=\"2px\" d=\"M2170,264.5 C2170,177.0 2315.0,177.0 2315.0,264.5\" fill=\"none\" stroke=\"currentColor\"/>\n",
              "    <text dy=\"1.25em\" style=\"font-size: 0.8em; letter-spacing: 1px\">\n",
              "        <textPath xlink:href=\"#arrow-8ddfba8a01154572aaf3d9d33d1ec4fa-0-10\" class=\"displacy-label\" startOffset=\"50%\" side=\"left\" fill=\"currentColor\" text-anchor=\"middle\">aux</textPath>\n",
              "    </text>\n",
              "    <path class=\"displacy-arrowhead\" d=\"M2170,266.5 L2162,254.5 2178,254.5\" fill=\"currentColor\"/>\n",
              "</g>\n",
              "\n",
              "<g class=\"displacy-arrow\">\n",
              "    <path class=\"displacy-arc\" id=\"arrow-8ddfba8a01154572aaf3d9d33d1ec4fa-0-11\" stroke-width=\"2px\" d=\"M1820,264.5 C1820,2.0 2325.0,2.0 2325.0,264.5\" fill=\"none\" stroke=\"currentColor\"/>\n",
              "    <text dy=\"1.25em\" style=\"font-size: 0.8em; letter-spacing: 1px\">\n",
              "        <textPath xlink:href=\"#arrow-8ddfba8a01154572aaf3d9d33d1ec4fa-0-11\" class=\"displacy-label\" startOffset=\"50%\" side=\"left\" fill=\"currentColor\" text-anchor=\"middle\">ccomp</textPath>\n",
              "    </text>\n",
              "    <path class=\"displacy-arrowhead\" d=\"M2325.0,266.5 L2333.0,254.5 2317.0,254.5\" fill=\"currentColor\"/>\n",
              "</g>\n",
              "\n",
              "<g class=\"displacy-arrow\">\n",
              "    <path class=\"displacy-arc\" id=\"arrow-8ddfba8a01154572aaf3d9d33d1ec4fa-0-12\" stroke-width=\"2px\" d=\"M2520,264.5 C2520,177.0 2665.0,177.0 2665.0,264.5\" fill=\"none\" stroke=\"currentColor\"/>\n",
              "    <text dy=\"1.25em\" style=\"font-size: 0.8em; letter-spacing: 1px\">\n",
              "        <textPath xlink:href=\"#arrow-8ddfba8a01154572aaf3d9d33d1ec4fa-0-12\" class=\"displacy-label\" startOffset=\"50%\" side=\"left\" fill=\"currentColor\" text-anchor=\"middle\">advmod</textPath>\n",
              "    </text>\n",
              "    <path class=\"displacy-arrowhead\" d=\"M2520,266.5 L2512,254.5 2528,254.5\" fill=\"currentColor\"/>\n",
              "</g>\n",
              "\n",
              "<g class=\"displacy-arrow\">\n",
              "    <path class=\"displacy-arc\" id=\"arrow-8ddfba8a01154572aaf3d9d33d1ec4fa-0-13\" stroke-width=\"2px\" d=\"M2345,264.5 C2345,89.5 2670.0,89.5 2670.0,264.5\" fill=\"none\" stroke=\"currentColor\"/>\n",
              "    <text dy=\"1.25em\" style=\"font-size: 0.8em; letter-spacing: 1px\">\n",
              "        <textPath xlink:href=\"#arrow-8ddfba8a01154572aaf3d9d33d1ec4fa-0-13\" class=\"displacy-label\" startOffset=\"50%\" side=\"left\" fill=\"currentColor\" text-anchor=\"middle\">acomp</textPath>\n",
              "    </text>\n",
              "    <path class=\"displacy-arrowhead\" d=\"M2670.0,266.5 L2678.0,254.5 2662.0,254.5\" fill=\"currentColor\"/>\n",
              "</g>\n",
              "</svg>"
            ],
            "text/plain": [
              "<IPython.core.display.HTML object>"
            ]
          },
          "metadata": {
            "tags": []
          }
        }
      ]
    },
    {
      "cell_type": "code",
      "metadata": {
        "id": "LqwDWA5YpI7p",
        "colab_type": "code",
        "colab": {}
      },
      "source": [
        "\n",
        "\n"
      ],
      "execution_count": 0,
      "outputs": []
    },
    {
      "cell_type": "code",
      "metadata": {
        "id": "scOvECiXeMP3",
        "colab_type": "code",
        "outputId": "f5ad1bbe-149c-49bc-c9f3-e0bac7650832",
        "colab": {
          "base_uri": "https://localhost:8080/",
          "height": 34
        }
      },
      "source": [
        "doc = nlp(\"I like London. I also like Bangalore\")\n",
        "tok_list = [token for token in doc]\n",
        "print(tok_list, len(tok_list))\n"
      ],
      "execution_count": 29,
      "outputs": [
        {
          "output_type": "stream",
          "text": [
            "[I, like, London, ., I, also, like, Bangalore] 8\n"
          ],
          "name": "stdout"
        }
      ]
    },
    {
      "cell_type": "code",
      "metadata": {
        "id": "Mv0CbelBexot",
        "colab_type": "code",
        "outputId": "87c1d218-cb3e-4d8a-f6a2-d4f67cfe3aa9",
        "colab": {
          "base_uri": "https://localhost:8080/",
          "height": 34
        }
      },
      "source": [
        "tags = ['O' for tok in tok_list]\n",
        "tags"
      ],
      "execution_count": 30,
      "outputs": [
        {
          "output_type": "execute_result",
          "data": {
            "text/plain": [
              "['O', 'O', 'O', 'O', 'O', 'O', 'O', 'O']"
            ]
          },
          "metadata": {
            "tags": []
          },
          "execution_count": 30
        }
      ]
    },
    {
      "cell_type": "code",
      "metadata": {
        "id": "9lHScjA8e7ZN",
        "colab_type": "code",
        "outputId": "743cf8cc-88e7-4382-d98f-15a7e114afb8",
        "colab": {
          "base_uri": "https://localhost:8080/",
          "height": 34
        }
      },
      "source": [
        "tags[2] = 'U-LOC'\n",
        "tags[7] = 'U-LOC'\n",
        "tags"
      ],
      "execution_count": 0,
      "outputs": [
        {
          "output_type": "execute_result",
          "data": {
            "text/plain": [
              "['O', 'O', 'U-LOC', 'O', 'O', 'O', 'O', 'U-LOC']"
            ]
          },
          "metadata": {
            "tags": []
          },
          "execution_count": 69
        }
      ]
    },
    {
      "cell_type": "code",
      "metadata": {
        "id": "UfIC8POaeayc",
        "colab_type": "code",
        "outputId": "57e24741-70bc-42aa-9523-e4ecc8bad9f2",
        "colab": {
          "base_uri": "https://localhost:8080/",
          "height": 34
        }
      },
      "source": [
        "entities = offsets_from_biluo_tags(doc, tags)\n",
        "entities"
      ],
      "execution_count": 0,
      "outputs": [
        {
          "output_type": "execute_result",
          "data": {
            "text/plain": [
              "[(7, 13, 'LOC'), (27, 36, 'LOC')]"
            ]
          },
          "metadata": {
            "tags": []
          },
          "execution_count": 70
        }
      ]
    },
    {
      "cell_type": "code",
      "metadata": {
        "id": "LX5EGsANfeQl",
        "colab_type": "code",
        "outputId": "f12f834d-a1f0-4642-b128-988e77f1daa7",
        "colab": {
          "base_uri": "https://localhost:8080/",
          "height": 34
        }
      },
      "source": [
        "doc = nlp(\"I love Punjabi cuisine.\")\n",
        "[ent.label_ for ent in doc.ents]"
      ],
      "execution_count": 31,
      "outputs": [
        {
          "output_type": "execute_result",
          "data": {
            "text/plain": [
              "['NORP']"
            ]
          },
          "metadata": {
            "tags": []
          },
          "execution_count": 31
        }
      ]
    },
    {
      "cell_type": "code",
      "metadata": {
        "id": "b5Kc1KldflRG",
        "colab_type": "code",
        "outputId": "bde7fdce-0f91-4e66-c220-7a08df3568ba",
        "colab": {
          "base_uri": "https://localhost:8080/",
          "height": 34
        }
      },
      "source": [
        ""
      ],
      "execution_count": 0,
      "outputs": [
        {
          "output_type": "execute_result",
          "data": {
            "text/plain": [
              "['NORP']"
            ]
          },
          "metadata": {
            "tags": []
          },
          "execution_count": 74
        }
      ]
    },
    {
      "cell_type": "code",
      "metadata": {
        "id": "tE-BsJRnf9YD",
        "colab_type": "code",
        "outputId": "5d63478b-7bdf-41f0-9919-4fb4e4f0250b",
        "colab": {
          "base_uri": "https://localhost:8080/",
          "height": 51
        }
      },
      "source": [
        "tok_list = [token for token in doc]\n",
        "print(tok_list, len(tok_list))\n",
        "tags = ['O' for tok in tok_list]\n",
        "print(tags)"
      ],
      "execution_count": 32,
      "outputs": [
        {
          "output_type": "stream",
          "text": [
            "[I, love, Punjabi, cuisine, .] 5\n",
            "['O', 'O', 'O', 'O', 'O']\n"
          ],
          "name": "stdout"
        }
      ]
    },
    {
      "cell_type": "code",
      "metadata": {
        "id": "DT_Bf9fvgNGS",
        "colab_type": "code",
        "outputId": "e561db34-920d-41a4-d2a4-e588d03ad72b",
        "colab": {
          "base_uri": "https://localhost:8080/",
          "height": 51
        }
      },
      "source": [
        "tags[2] = 'U-NORP'\n",
        "print(tags)\n",
        "entities = offsets_from_biluo_tags(doc, tags)\n",
        "print(entities)\n"
      ],
      "execution_count": 0,
      "outputs": [
        {
          "output_type": "stream",
          "text": [
            "['O', 'O', 'U-NORP', 'O', 'O']\n",
            "[(7, 15, 'NORP')]\n"
          ],
          "name": "stdout"
        }
      ]
    },
    {
      "cell_type": "code",
      "metadata": {
        "id": "aiwCpezIdwDv",
        "colab_type": "code",
        "outputId": "a2dc531c-0726-477f-bee9-6bc4460a22e3",
        "colab": {
          "base_uri": "https://localhost:8080/",
          "height": 34
        }
      },
      "source": [
        ""
      ],
      "execution_count": 0,
      "outputs": [
        {
          "output_type": "execute_result",
          "data": {
            "text/plain": [
              "['O', 'O', 'U-LOC', 'O']"
            ]
          },
          "metadata": {
            "tags": []
          },
          "execution_count": 63
        }
      ]
    },
    {
      "cell_type": "code",
      "metadata": {
        "id": "MsPzwrAIcVxK",
        "colab_type": "code",
        "outputId": "75ded1cd-a1c9-4b2c-82b0-e173c9f96c2f",
        "colab": {
          "base_uri": "https://localhost:8080/",
          "height": 34
        }
      },
      "source": [
        "json_data = docs_to_json([doc])\n",
        "json_data['paragraphs'][0]['sentences'][0]['tokens'][2]['ner']"
      ],
      "execution_count": 0,
      "outputs": [
        {
          "output_type": "execute_result",
          "data": {
            "text/plain": [
              "'U-NORP'"
            ]
          },
          "metadata": {
            "tags": []
          },
          "execution_count": 98
        }
      ]
    },
    {
      "cell_type": "code",
      "metadata": {
        "id": "jPZsCE6dSuO4",
        "colab_type": "code",
        "colab": {}
      },
      "source": [
        "import srsly"
      ],
      "execution_count": 0,
      "outputs": []
    },
    {
      "cell_type": "code",
      "metadata": {
        "id": "gBvNJGRzPv-y",
        "colab_type": "code",
        "colab": {}
      },
      "source": [
        "f = open('rice.txt')\n",
        "docs = [] # initialize a list to be populated wih strings\n",
        "lines = f.readlines()  # returns a list of srings from the txt file\n",
        "for line in lines:\n",
        "    # print(line[:]) # display the sentence from that line\n",
        "    doc = nlp(line) # convert string into a spacy doc object using nlp\n",
        "    docs.append(doc) # add new doc to the list of docs\n",
        "\n",
        "json_data = docs_to_json(docs) # convert doc into a json file\n",
        "srsly.write_json('spacy_train.json', [json_data])\n"
      ],
      "execution_count": 0,
      "outputs": []
    },
    {
      "cell_type": "code",
      "metadata": {
        "id": "Wnaf1x9tTT8A",
        "colab_type": "code",
        "colab": {}
      },
      "source": [
        "f.close()"
      ],
      "execution_count": 0,
      "outputs": []
    },
    {
      "cell_type": "code",
      "metadata": {
        "id": "F3jdqEADX27z",
        "colab_type": "code",
        "colab": {}
      },
      "source": [
        "check_list = [('bok','U_vegetable'),('choy','U_vegetable'),\\\n",
        "              ('bean','U_vegetable'), ('sprouts','U_vegetable'),\\\n",
        "              ('soffritto','U_dish'),('patties','U_dish'),('cakes','U_dish'),('parmesan','U_dish'),('cheese','U_dish'),('breadcrumbs','U_dish'),\\\n",
        "              ('soy','U_condiment'),('sauce','U_condiment'),\\\n",
        "              ('olive','U_condiment'),('oil','U_condiment'),\\\n",
        "              ('wine','U_beverage'),\\\n",
        "              ('3/4-inch','U_QUANTITY'), ('2-inch','U_QUANTITY'),('3-inch','U_QUANTITY'),('6-inch','U_QUANTITY'),\\\n",
        "              ('first','U_ORDINAL'),('second','U_ORDINAL'),('third','U_ORDINAL'),('fourth','U_ORDINAL'),('fifth','U_ORDINAL'),('last','U_ORDINAL'),\\\n",
        "              ('1','U_CARDINAL'),('2','U_CARDINAL'),('3','U_CARDINAL'),('4','U_CARDINAL'),('5','U_CARDINAL'),('6','U_CARDINAL'),('10','U_CARDINAL'),\\\n",
        "              ('100','U_CARDINAL'),('one','U_CARDINAL'),('two','U_CARDINAL'),('three','U_CARDINAL'),('four','U_CARDINAL'),('five','U_CARDINAL'),('six','U_CARDINAL'),\\\n",
        "              ('seven','U_CARDINAL'),('eight','U_CARDINAL'),('nine','U_CARDINAL'),('ten','U_CARDINAL'),\\\n",
        "              ('minute','U_TIME'),('minutes','U_TIME'),('seconds','U_TIME'),('hour','U_TIME'),('hours','U_TIME'),('day','U_TIME')]"
      ],
      "execution_count": 0,
      "outputs": []
    },
    {
      "cell_type": "code",
      "metadata": {
        "id": "Cjlg-W-RNZV2",
        "colab_type": "code",
        "colab": {
          "base_uri": "https://localhost:8080/",
          "height": 34
        },
        "outputId": "8f707b30-f17e-4dc9-e6c6-133f37f326ef"
      },
      "source": [
        "''.join(list(set([tup[1] for tup in ent_list + check_list if tup[0] == 'rice'])))"
      ],
      "execution_count": 64,
      "outputs": [
        {
          "output_type": "execute_result",
          "data": {
            "text/plain": [
              "'U_dish'"
            ]
          },
          "metadata": {
            "tags": []
          },
          "execution_count": 64
        }
      ]
    },
    {
      "cell_type": "code",
      "metadata": {
        "id": "pISRogIO2HR0",
        "colab_type": "code",
        "colab": {}
      },
      "source": [
        "f = open('rice.txt')\n",
        "docs = [] # initialize a list to be populated wih strings\n",
        "lines = f.readlines()  # returns a list of srings from the txt file\n",
        "for line in lines:\n",
        "    # print(line[:]) # display the sentence from that line\n",
        "    doc = nlp(line) # convert string into a spacy doc object using nlp\n",
        "    docs.append(doc) # add new doc to the list of docs\n",
        "f.close()\n",
        "\n"
      ],
      "execution_count": 0,
      "outputs": []
    },
    {
      "cell_type": "code",
      "metadata": {
        "id": "qGKRsVKF2zQn",
        "colab_type": "code",
        "colab": {}
      },
      "source": [
        "train_gen = (line for line in open('rice.txt'))\n",
        "type(train_gen)\n",
        "to_train_ents = []"
      ],
      "execution_count": 0,
      "outputs": []
    },
    {
      "cell_type": "code",
      "metadata": {
        "id": "APIsqJPv5SQM",
        "colab_type": "code",
        "colab": {
          "base_uri": "https://localhost:8080/",
          "height": 1000
        },
        "outputId": "e41e1dd1-1646-46ff-c7fe-79fe99d3849b"
      },
      "source": [
        "ls"
      ],
      "execution_count": 127,
      "outputs": [
        {
          "output_type": "stream",
          "text": [
            " bread_keyword_patterns.npz       pattern_pastry.jsonl\n",
            " breads_list_2.jsonl              patterns_2019_12_26.jsonl\n",
            " breads_list.jsonl                patterns.jsonl\n",
            " CoherenceScore.csv               pattern_spice.jsonl\n",
            " condiment_keyword_patterns.npz   pattern_vegetable.jsonl\n",
            " condiments_list_2.jsonl          \u001b[0m\u001b[01;34mpending_images\u001b[0m/\n",
            " condiments_list.jsonl            pyLDAvis_10.html\n",
            " datalist_corrected.csv           pyLDAvis_11.html\n",
            " df_check_breads.csv              pyLDAvis_12.html\n",
            " df_check_condiments.csv          pyLDAvis_13.html\n",
            " df_check_de.csv                  pyLDAvis_14.html\n",
            " df_check_en.csv                  pyLDAvis_15.html\n",
            " df_check_es.csv                  pyLDAvis_16.html\n",
            " df_check_fr.csv                  pyLDAvis_17.html\n",
            " df_check_fruits.csv              pyLDAvis_18.html\n",
            " df_check_fy.csv                  pyLDAvis_19.html\n",
            " df_check_id.csv                  pyLDAvis_20.html\n",
            " df_check_it.csv                  pyLDAvis_21.html\n",
            " df_check_ms.csv                  pyLDAvis_22.html\n",
            " df_check_pastries.csv            pyLDAvis_23.html\n",
            " df_check_tr.csv                  pyLDAvis_24.html\n",
            " df_check_vegetables.csv          pyLDAvis_25.html\n",
            " df_coffee.csv                    pyLDAvis_26.html\n",
            " df_consolidated.csv              pyLDAvis_27.html\n",
            " df_dish.csv                      pyLDAvis_28.html\n",
            " df_drink.csv                     pyLDAvis_29.html\n",
            " df_hot_bev.csv                   pyLDAvis_3.html\n",
            " df_noodle.csv                    pyLDAvis_4.html\n",
            " df_rice.csv                      pyLDAvis_5.html\n",
            " df_salad.csv                     pyLDAvis_6.html\n",
            " df_soup.csv                      pyLDAvis_7.html\n",
            " df_taste_atlas.csv               pyLDAvis_8.html\n",
            " dictionary                       pyLDAvis_9.html\n",
            " dish_keyword_patterns.npz        reviews_text.csv\n",
            " doc_term_matrix.mm               rice.txt\n",
            " doc_term_matrix.mm.index         sandwiches.json\n",
            " fruit_keyword_patterns.npz       sandwich_list.jsonl\n",
            " fruits_list_2.jsonl              spacy_train.json\n",
            " fruits_list.jsonl                spice_keyword_patterns.npz\n",
            " herb_keyword_patterns.npz        spices_list_2.jsonl\n",
            " herbs_list_2.jsonl               spices_list.jsonl\n",
            " herbs_list.jsonl                 taste_atlas_info_de.jsonl\n",
            " \u001b[01;34mimages\u001b[0m/                          taste_atlas_info_en.jsonl\n",
            " lda                              taste_atlas_info_es.jsonl\n",
            " lda.expElogbeta.npy              taste_atlas_info_fr.jsonl\n",
            " lda_final                        taste_atlas_info_fy.jsonl\n",
            " lda_final.expElogbeta.npy        taste_atlas_info_id.jsonl\n",
            " lda_final.id2word                taste_atlas_info_it.jsonl\n",
            " lda_final.state                  taste_atlas_info.jsonl\n",
            " lda.id2word                      taste_atlas_info_ms.jsonl\n",
            " lda.state                        taste_atlas_info_tr.jsonl\n",
            " pastries_list.jsonl              test_summaries.csv\n",
            " pastry_keyword_patterns.npz     'Topic coherence plot.png'\n",
            " pattern_bread.jsonl              unmatched_dishes.csv\n",
            " pattern_condiment.jsonl          vegetable_keyword_patterns.npz\n",
            " pattern_fruit.jsonl              vegetables_list_2.jsonl\n",
            " pattern_herb.jsonl               vegetables_list.jsonl\n"
          ],
          "name": "stdout"
        }
      ]
    },
    {
      "cell_type": "code",
      "metadata": {
        "id": "Kh9yi7fK23NW",
        "colab_type": "code",
        "colab": {
          "base_uri": "https://localhost:8080/",
          "height": 138
        },
        "outputId": "77dde03b-3ed1-4e0f-ee48-025c1e73adcf"
      },
      "source": [
        "l = next(train_gen)\n",
        "tok_list = [token.text for token in nlp(l)] \n",
        "#print(l, tok_list)\n",
        "tag_list = ['O' for token in nlp(l)]\n",
        "#print(tag_list)\n",
        "matched_ents = [(i,item) for i, item in enumerate(tok_list) if item.lower() in [i[0] for i in ent_list + check_list]] \n",
        "#print(matched_ents)\n",
        "\n",
        "for ent in matched_ents:\n",
        "  ent_tag = ''.join(list(set([tup[1] for tup in ent_list + check_list if tup[0] == ent[1].lower()])))\n",
        "  print(ent[0], ent[1], ent_tag)\n",
        "  tag_list[ent[0]] = ent_tag\n",
        "\n",
        "#print(tag_list)\n",
        "entities = offsets_from_biluo_tags(nlp(l), tag_list)\n",
        "print(entities)\n",
        "to_train_ents.append((l, dict(entities = entities)))\n",
        "displacy.render(nlp(l),'ent',jupyter=True)\n",
        "print(l, entities)\n",
        "\n",
        "#displacy.render(l,'dep',jupyter=True)"
      ],
      "execution_count": 364,
      "outputs": [
        {
          "output_type": "stream",
          "text": [
            "3 five U_CARDINAL\n",
            "5 seven U_CARDINAL\n",
            "6 minutes U_TIME\n",
            "[(16, 20, 'CARDINAL'), (24, 29, 'CARDINAL'), (30, 37, 'TIME')]\n"
          ],
          "name": "stdout"
        },
        {
          "output_type": "display_data",
          "data": {
            "text/html": [
              "<div class=\"entities\" style=\"line-height: 2.5; direction: ltr\">Leave alone for \n",
              "<mark class=\"entity\" style=\"background: #bfe1d9; padding: 0.45em 0.6em; margin: 0 0.25em; line-height: 1; border-radius: 0.35em; box-decoration-break: clone; -webkit-box-decoration-break: clone\">\n",
              "    five to seven minutes\n",
              "    <span style=\"font-size: 0.8em; font-weight: bold; line-height: 1; border-radius: 0.35em; text-transform: uppercase; vertical-align: middle; margin-left: 0.5rem\">TIME</span>\n",
              "</mark>\n",
              ", then serve.</div>"
            ],
            "text/plain": [
              "<IPython.core.display.HTML object>"
            ]
          },
          "metadata": {
            "tags": []
          }
        },
        {
          "output_type": "stream",
          "text": [
            "Leave alone for five to seven minutes, then serve. [(16, 20, 'CARDINAL'), (24, 29, 'CARDINAL'), (30, 37, 'TIME')]\n"
          ],
          "name": "stdout"
        }
      ]
    },
    {
      "cell_type": "code",
      "metadata": {
        "id": "X6_NRnDC4GbQ",
        "colab_type": "code",
        "colab": {
          "base_uri": "https://localhost:8080/",
          "height": 34
        },
        "outputId": "df7c75ec-ce12-4278-b5b9-aafcc847015d"
      },
      "source": [
        "len(to_train_ents)\n",
        "#to_train_ents[-5:]"
      ],
      "execution_count": 365,
      "outputs": [
        {
          "output_type": "execute_result",
          "data": {
            "text/plain": [
              "37"
            ]
          },
          "metadata": {
            "tags": []
          },
          "execution_count": 365
        }
      ]
    },
    {
      "cell_type": "code",
      "metadata": {
        "id": "2rRlFQqFL3QI",
        "colab_type": "code",
        "colab": {
          "base_uri": "https://localhost:8080/",
          "height": 201
        },
        "outputId": "022e59e2-78d2-4c8d-cdf4-78ba92cc9b0b"
      },
      "source": [
        "for _, annotations in to_train_ents:\n",
        "    for ent in annotations.get(\"entities\"):\n",
        "        ner.add_label(ent[2])"
      ],
      "execution_count": 78,
      "outputs": [
        {
          "output_type": "error",
          "ename": "NameError",
          "evalue": "ignored",
          "traceback": [
            "\u001b[0;31m---------------------------------------------------------------------------\u001b[0m",
            "\u001b[0;31mNameError\u001b[0m                                 Traceback (most recent call last)",
            "\u001b[0;32m<ipython-input-78-ba5b01e7cdba>\u001b[0m in \u001b[0;36m<module>\u001b[0;34m()\u001b[0m\n\u001b[1;32m      1\u001b[0m \u001b[0;32mfor\u001b[0m \u001b[0m_\u001b[0m\u001b[0;34m,\u001b[0m \u001b[0mannotations\u001b[0m \u001b[0;32min\u001b[0m \u001b[0mto_train_ents\u001b[0m\u001b[0;34m:\u001b[0m\u001b[0;34m\u001b[0m\u001b[0;34m\u001b[0m\u001b[0m\n\u001b[1;32m      2\u001b[0m     \u001b[0;32mfor\u001b[0m \u001b[0ment\u001b[0m \u001b[0;32min\u001b[0m \u001b[0mannotations\u001b[0m\u001b[0;34m.\u001b[0m\u001b[0mget\u001b[0m\u001b[0;34m(\u001b[0m\u001b[0;34m\"entities\"\u001b[0m\u001b[0;34m)\u001b[0m\u001b[0;34m:\u001b[0m\u001b[0;34m\u001b[0m\u001b[0;34m\u001b[0m\u001b[0m\n\u001b[0;32m----> 3\u001b[0;31m         \u001b[0mner\u001b[0m\u001b[0;34m.\u001b[0m\u001b[0madd_label\u001b[0m\u001b[0;34m(\u001b[0m\u001b[0ment\u001b[0m\u001b[0;34m[\u001b[0m\u001b[0;36m2\u001b[0m\u001b[0;34m]\u001b[0m\u001b[0;34m)\u001b[0m\u001b[0;34m\u001b[0m\u001b[0;34m\u001b[0m\u001b[0m\n\u001b[0m",
            "\u001b[0;31mNameError\u001b[0m: name 'ner' is not defined"
          ]
        }
      ]
    },
    {
      "cell_type": "code",
      "metadata": {
        "id": "Aod66hrUTeZl",
        "colab_type": "code",
        "outputId": "4a4c39ec-b105-431d-8c22-a53327b1aadf",
        "colab": {
          "base_uri": "https://localhost:8080/",
          "height": 1000
        }
      },
      "source": [
        "to_train_ents = []\n",
        "\n",
        "for _, doc in enumerate(docs):\n",
        "  print(_)\n",
        "  tok_list = [token.text for token in doc] \n",
        "#  print(tok_list)\n",
        "  tag_list = ['O' for token in doc]\n",
        "#  print(tag_list)\n",
        "  matched_ents = [(i,item) for i, item in enumerate(tok_list) if item.lower() in [i[0] for i in ent_list + check_list]] \n",
        "#  print(matched_ents)\n",
        "  print(doc)\n",
        "  for ent in matched_ents:\n",
        "    ent_tag = ''.join(list(set([tup[1] for tup in ent_list + check_list if tup[0] == ent[1].lower()])))\n",
        "    print(ent[0], ent[1], ent_tag)\n",
        "    tag_list[ent[0]] = ent_tag\n",
        "  \n",
        "#  print(tag_list)\n",
        "  entities = offsets_from_biluo_tags(doc, tag_list)\n",
        "#  print(entities)\n",
        "  to_train_ents.append((doc, dict(entities = entities)))\n",
        "  print(doc, entities)"
      ],
      "execution_count": 82,
      "outputs": [
        {
          "output_type": "stream",
          "text": [
            "0\n",
            "If using tofu, cook it.\n",
            "\n",
            "2 tofu U_dish\n",
            "If using tofu, cook it.\n",
            " [(9, 13, 'dish')]\n",
            "1\n",
            "Cook the rice as you normally would, but be careful not to use too much water. The rice should not be too sticky. It may help to let the cooked rice sit overnight in the refrigerator.\n",
            "\n",
            "2 rice U_dish\n",
            "19 rice U_dish\n",
            "33 rice U_dish\n",
            "Cook the rice as you normally would, but be careful not to use too much water. The rice should not be too sticky. It may help to let the cooked rice sit overnight in the refrigerator.\n",
            " [(9, 13, 'dish'), (83, 87, 'dish'), (144, 148, 'dish')]\n",
            "2\n",
            "If using onions, dice them into whatever size you prefer.\n",
            "\n",
            "2 onions U_vegetable\n",
            "If using onions, dice them into whatever size you prefer.\n",
            " [(9, 15, 'vegetable')]\n",
            "3\n",
            "If using bok choy, separate the stalk part from the leaf part. Slice the leaf part crosswise into 3/4-inch-thick strips, then tear the strips into 2-inch pieces. These pieces will be treated much like the bean sprouts, though perhaps with slightly more cooking. The stalk part will be treated as celery.\n",
            "\n",
            "2 bok U_vegetable\n",
            "3 choy U_vegetable\n",
            "20 3/4-inch U_QUANTITY\n",
            "30 2-inch U_QUANTITY\n",
            "41 bean U_vegetable\n",
            "42 sprouts U_vegetable\n",
            "58 celery U_vegetable\n",
            "If using bok choy, separate the stalk part from the leaf part. Slice the leaf part crosswise into 3/4-inch-thick strips, then tear the strips into 2-inch pieces. These pieces will be treated much like the bean sprouts, though perhaps with slightly more cooking. The stalk part will be treated as celery.\n",
            " [(9, 12, 'vegetable'), (13, 17, 'vegetable'), (98, 106, 'QUANTITY'), (147, 153, 'QUANTITY'), (205, 209, 'vegetable'), (210, 217, 'vegetable'), (296, 302, 'vegetable')]\n",
            "4\n",
            "If using bean sprouts, wash them and discard any that are not white and crunchy.\n",
            "\n",
            "2 bean U_vegetable\n",
            "3 sprouts U_vegetable\n",
            "If using bean sprouts, wash them and discard any that are not white and crunchy.\n",
            " [(9, 13, 'vegetable'), (14, 21, 'vegetable')]\n",
            "5\n",
            "If using meat, slice into desired sized pieces and cook.\n",
            "\n",
            "2 meat U_dish\n",
            "If using meat, slice into desired sized pieces and cook.\n",
            " [(9, 13, 'dish')]\n",
            "6\n",
            "Add a generous amount of oil to a large frying pan, more than you think you'd need to avoid sticking. If using a type of sausage or other excessively fatty meat, not as much oil may be needed because of the amount of fat.\n",
            "\n",
            "5 oil U_condiment\n",
            "28 sausage U_dish\n",
            "33 meat U_dish\n",
            "38 oil U_condiment\n",
            "Add a generous amount of oil to a large frying pan, more than you think you'd need to avoid sticking. If using a type of sausage or other excessively fatty meat, not as much oil may be needed because of the amount of fat.\n",
            " [(25, 28, 'condiment'), (121, 128, 'dish'), (156, 160, 'dish'), (174, 177, 'condiment')]\n",
            "7\n",
            "Add the rice. Cook over the stove on medium high to high heat.\n",
            "\n",
            "2 rice U_dish\n",
            "Add the rice. Cook over the stove on medium high to high heat.\n",
            " [(8, 12, 'dish')]\n",
            "8\n",
            "Add the soy sauce, meat(s), eggs, and all vegetables save for the onions and bean sprouts.\n",
            "\n",
            "2 soy U_condiment\n",
            "3 sauce U_condiment\n",
            "8 eggs U_dish\n",
            "16 onions U_vegetable\n",
            "18 bean U_vegetable\n",
            "19 sprouts U_vegetable\n",
            "Add the soy sauce, meat(s), eggs, and all vegetables save for the onions and bean sprouts.\n",
            " [(8, 11, 'condiment'), (12, 17, 'condiment'), (28, 32, 'dish'), (66, 72, 'vegetable'), (77, 81, 'vegetable'), (82, 89, 'vegetable')]\n",
            "9\n",
            "Add pepper, a pinch or two of sugar, and optionally some added salt.\n",
            "\n",
            "1 pepper U_condiment\n",
            "6 two U_ORDINAL\n",
            "8 sugar U_condiment\n",
            "14 salt U_condimentU_spice\n",
            "Add pepper, a pinch or two of sugar, and optionally some added salt.\n",
            " [(4, 10, 'condiment'), (23, 26, 'ORDINAL'), (30, 35, 'condiment'), (63, 67, 'condimentU_spice')]\n",
            "10\n",
            "Add the tofu, bean sprouts, and onion when the rice is almost done (depending on how fried you want them) being careful not to overcook them.\n",
            "\n",
            "2 tofu U_dish\n",
            "4 bean U_vegetable\n",
            "5 sprouts U_vegetable\n",
            "8 onion U_vegetable\n",
            "11 rice U_dish\n",
            "Add the tofu, bean sprouts, and onion when the rice is almost done (depending on how fried you want them) being careful not to overcook them.\n",
            " [(8, 12, 'dish'), (14, 18, 'vegetable'), (19, 26, 'vegetable'), (32, 37, 'vegetable'), (47, 51, 'dish')]\n",
            "11\n",
            "\n",
            "\n",
            "\n",
            " []\n",
            "12\n",
            "Make sure your stock is simmering before you begin. It's important that the temperature is as high as possible, without letting the stock boil. The surface of the stock should just be moving a little. A large thick pot is best for the risotto.\n",
            "\n",
            "48 risotto U_dish\n",
            "Make sure your stock is simmering before you begin. It's important that the temperature is as high as possible, without letting the stock boil. The surface of the stock should just be moving a little. A large thick pot is best for the risotto.\n",
            " [(235, 242, 'dish')]\n",
            "13\n",
            "\n",
            "\n",
            "\n",
            " []\n",
            "14\n",
            "Finely chop the onion and sweat it very gently (cook over medium heat, without letting it brown) in some butter or olive oil. This is known as a soffritto in Italy.\n",
            "\n",
            "3 onion U_vegetable\n",
            "22 butter U_condiment\n",
            "24 olive U_fruitU_condiment\n",
            "25 oil U_condiment\n",
            "32 soffritto U_dish\n",
            "Finely chop the onion and sweat it very gently (cook over medium heat, without letting it brown) in some butter or olive oil. This is known as a soffritto in Italy.\n",
            " [(16, 21, 'vegetable'), (105, 111, 'condiment'), (115, 120, 'fruitU_condiment'), (121, 124, 'condiment'), (145, 154, 'dish')]\n",
            "15\n",
            "Add the rice and cook until it has a transparent look (this shouldn't take long). Add some salt and pepper.\n",
            "\n",
            "2 rice U_dish\n",
            "21 salt U_condimentU_spice\n",
            "23 pepper U_condiment\n",
            "Add the rice and cook until it has a transparent look (this shouldn't take long). Add some salt and pepper.\n",
            " [(8, 12, 'dish'), (91, 95, 'condimentU_spice'), (100, 106, 'condiment')]\n",
            "16\n",
            "Add the wine. A hot pan will cause the alcohol to evaporate more quickly (and create a nice dramatic effect), but make sure you don't burn the rice or the soffritto.\n",
            "\n",
            "2 wine U_beverage\n",
            "32 rice U_dish\n",
            "35 soffritto U_dish\n",
            "Add the wine. A hot pan will cause the alcohol to evaporate more quickly (and create a nice dramatic effect), but make sure you don't burn the rice or the soffritto.\n",
            " [(8, 12, 'beverage'), (143, 147, 'dish'), (155, 164, 'dish')]\n",
            "17\n",
            "As the wine cooks away you will see the remaining liquid getting thicker as it's absorbing the starch from the rice. When it’s more or less gone, add some stock. Do not add too much stock. The rice should never be submerged in stock. Keep stirring it and keep adding more stock as it cooks away. This should take about 15 to 20 minutes.\n",
            "\n",
            "2 wine U_beverage\n",
            "21 rice U_dish\n",
            "43 rice U_dish\n",
            "71 minutes U_TIME\n",
            "As the wine cooks away you will see the remaining liquid getting thicker as it's absorbing the starch from the rice. When it’s more or less gone, add some stock. Do not add too much stock. The rice should never be submerged in stock. Keep stirring it and keep adding more stock as it cooks away. This should take about 15 to 20 minutes.\n",
            " [(7, 11, 'beverage'), (111, 115, 'dish'), (193, 197, 'dish'), (328, 335, 'TIME')]\n",
            "18\n",
            "Taste to see if the rice is done. The rice should be soft, but have enough bite to it to feel the individual grains of rice. The choice between a liquid risotto or a firmer one is a matter of personal preference.\n",
            "\n",
            "5 rice U_dish\n",
            "10 rice U_dish\n",
            "27 rice U_dish\n",
            "34 risotto U_dish\n",
            "38 one U_ORDINAL\n",
            "Taste to see if the rice is done. The rice should be soft, but have enough bite to it to feel the individual grains of rice. The choice between a liquid risotto or a firmer one is a matter of personal preference.\n",
            " [(20, 24, 'dish'), (38, 42, 'dish'), (119, 123, 'dish'), (153, 160, 'dish'), (173, 176, 'ORDINAL')]\n",
            "19\n",
            "When put on a plate, it should spread out slowly. If it sits still, it needs some more stock; if there's liquid coming from the risotto, it needs to cook down a bit more.\n",
            "\n",
            "30 risotto U_dish\n",
            "When put on a plate, it should spread out slowly. If it sits still, it needs some more stock; if there's liquid coming from the risotto, it needs to cook down a bit more.\n",
            " [(128, 135, 'dish')]\n",
            "20\n",
            "\n",
            "\n",
            "\n",
            " []\n",
            "21\n",
            "Let it rest for about a minute\n",
            "\n",
            "6 minute U_TIME\n",
            "Let it rest for about a minute\n",
            " [(24, 30, 'TIME')]\n",
            "22\n",
            "Vigorously stir in the butter in small chunks at the time, taste to get the amount of butter right. Season with more salt and pepper to taste. This phase is called the mantecatura.\n",
            "\n",
            "4 butter U_condiment\n",
            "18 butter U_condiment\n",
            "24 salt U_condimentU_spice\n",
            "26 pepper U_condiment\n",
            "Vigorously stir in the butter in small chunks at the time, taste to get the amount of butter right. Season with more salt and pepper to taste. This phase is called the mantecatura.\n",
            " [(23, 29, 'condiment'), (86, 92, 'condiment'), (117, 121, 'condimentU_spice'), (126, 132, 'condiment')]\n",
            "23\n",
            "Serve immediately. Risotto won't keep beyond the meal, but rehydrating it with some soup or stock can yield edible results.\n",
            "\n",
            "3 Risotto U_dish\n",
            "16 soup U_dish\n",
            "Serve immediately. Risotto won't keep beyond the meal, but rehydrating it with some soup or stock can yield edible results.\n",
            " [(19, 26, 'dish'), (84, 88, 'dish')]\n",
            "24\n",
            "With risotto, practice makes perfect because there are many factors that influence the outcome. Experiment with several varieties of rice, choose the one you like best and then fine-tune the various parameters like cooking temperature, selection of the proper pot, the amount and timing of seasonings etc.\n",
            "\n",
            "1 risotto U_dish\n",
            "21 rice U_dish\n",
            "25 one U_ORDINAL\n",
            "With risotto, practice makes perfect because there are many factors that influence the outcome. Experiment with several varieties of rice, choose the one you like best and then fine-tune the various parameters like cooking temperature, selection of the proper pot, the amount and timing of seasonings etc.\n",
            " [(5, 12, 'dish'), (133, 137, 'dish'), (150, 153, 'ORDINAL')]\n",
            "25\n",
            "This is only the most basic risotto recipe. Add ingredients only at the beginning (through the soffritto, when they need to cook with the rice) or at the very end in the mantecura (for ingredients that lose their flavour with too much cooking, such as herbs). If you want to use ingredients that require a very specific cooking time, like potatoes or broccoli, it's best to blanch them in advance, and add them to the risotto at the very end. It's very difficult to add them to the risotto halfway so that they will be cooked perfectly when the risotto is done. If you want the flavour of the stock to be present in these ingredients, blanch them in the stock. For some ingredients, like mushrooms, the cooking time isn't extremely important. These can simply be added to the risotto somewhere along the line.\n",
            "\n",
            "6 risotto U_dish\n",
            "18 soffritto U_dish\n",
            "27 rice U_dish\n",
            "51 herbs U_condiment\n",
            "69 potatoes U_vegetable\n",
            "71 broccoli U_vegetable\n",
            "87 risotto U_dish\n",
            "102 risotto U_dish\n",
            "113 risotto U_dish\n",
            "160 risotto U_dish\n",
            "This is only the most basic risotto recipe. Add ingredients only at the beginning (through the soffritto, when they need to cook with the rice) or at the very end in the mantecura (for ingredients that lose their flavour with too much cooking, such as herbs). If you want to use ingredients that require a very specific cooking time, like potatoes or broccoli, it's best to blanch them in advance, and add them to the risotto at the very end. It's very difficult to add them to the risotto halfway so that they will be cooked perfectly when the risotto is done. If you want the flavour of the stock to be present in these ingredients, blanch them in the stock. For some ingredients, like mushrooms, the cooking time isn't extremely important. These can simply be added to the risotto somewhere along the line.\n",
            " [(28, 35, 'dish'), (95, 104, 'dish'), (138, 142, 'dish'), (252, 257, 'condiment'), (339, 347, 'vegetable'), (351, 359, 'vegetable'), (418, 425, 'dish'), (482, 489, 'dish'), (545, 552, 'dish'), (776, 783, 'dish')]\n",
            "26\n",
            "A common mistake in making risotto is to add too much of the extra ingredients. The star of the dish is the rice, and only very little else is needed.\n",
            "\n",
            "5 risotto U_dish\n",
            "23 rice U_dish\n",
            "A common mistake in making risotto is to add too much of the extra ingredients. The star of the dish is the rice, and only very little else is needed.\n",
            " [(27, 34, 'dish'), (108, 112, 'dish')]\n",
            "27\n",
            "Ingredients added at the last moment will be laced with butter. This can have a negative impact on the effect of some delicate ingredients, like garden cress.\n",
            "\n",
            "4 last U_CARDINAL\n",
            "10 butter U_condiment\n",
            "28 cress U_herb\n",
            "Ingredients added at the last moment will be laced with butter. This can have a negative impact on the effect of some delicate ingredients, like garden cress.\n",
            " [(25, 29, 'CARDINAL'), (56, 62, 'condiment'), (152, 157, 'herb')]\n",
            "28\n",
            "\n",
            "\n",
            "\n",
            " []\n",
            "29\n",
            "Think of risotto as a way of making stock edible with a fork: the quality of the stock you use is the most important factor in the quality of your risotto.\n",
            "\n",
            "2 risotto U_dish\n",
            "31 risotto U_dish\n",
            "Think of risotto as a way of making stock edible with a fork: the quality of the stock you use is the most important factor in the quality of your risotto.\n",
            " [(9, 16, 'dish'), (147, 154, 'dish')]\n",
            "30\n",
            "\n",
            "\n",
            "\n",
            " []\n",
            "31\n",
            "Saffron added to the stock is risotto alla Milanese.\n",
            "\n",
            "0 Saffron U_spice\n",
            "6 risotto U_dish\n",
            "Saffron added to the stock is risotto alla Milanese.\n",
            " [(0, 7, 'spice'), (30, 37, 'dish')]\n",
            "32\n",
            "If you are using some sweet ingredients, such as pumpkin, you may want to consider using leek instead of onion, to balance the taste.\n",
            "\n",
            "10 pumpkin U_vegetable\n",
            "18 leek U_vegetable\n",
            "21 onion U_vegetable\n",
            "If you are using some sweet ingredients, such as pumpkin, you may want to consider using leek instead of onion, to balance the taste.\n",
            " [(49, 56, 'vegetable'), (89, 93, 'vegetable'), (105, 110, 'vegetable')]\n",
            "33\n",
            "Using large roasted breadcrumbs instead of parmesan cheese will create a nice contrast in texture with the risotto. Put the breadcrumbs on top of the risotto at the last minute and don't stir, or they will soak up too much moisture and lose their crunch.\n",
            "\n",
            "6 parmesan U_dish\n",
            "7 cheese U_dish\n",
            "17 risotto U_dish\n",
            "26 risotto U_dish\n",
            "29 last U_CARDINAL\n",
            "30 minute U_TIME\n",
            "Using large roasted breadcrumbs instead of parmesan cheese will create a nice contrast in texture with the risotto. Put the breadcrumbs on top of the risotto at the last minute and don't stir, or they will soak up too much moisture and lose their crunch.\n",
            " [(43, 51, 'dish'), (52, 58, 'dish'), (107, 114, 'dish'), (150, 157, 'dish'), (165, 169, 'CARDINAL'), (170, 176, 'TIME')]\n",
            "34\n",
            "After step 3 you can move the contents into a rice cooker with the stock and left to its own devices to finish it off. The end result isn't quite as good, but the saving in effort makes it worthwhile.\n",
            "\n",
            "2 3 U_ORDINAL\n",
            "10 rice U_dish\n",
            "After step 3 you can move the contents into a rice cooker with the stock and left to its own devices to finish it off. The end result isn't quite as good, but the saving in effort makes it worthwhile.\n",
            " [(11, 12, 'ORDINAL'), (46, 50, 'dish')]\n",
            "35\n",
            "Left over risotto is not particularly nice reheated on its own. So as not to waste the leftovers, you can form day old risotto into cakes or patties, coat them in flour and shallow fry them in olive oil, making risotto cakes. This can be served with a salad.\n",
            "\n",
            "2 risotto U_dish\n",
            "23 day U_TIME\n",
            "25 risotto U_dish\n",
            "27 cakes U_dish\n",
            "29 patties U_dish\n",
            "40 olive U_fruitU_condiment\n",
            "41 oil U_condiment\n",
            "44 risotto U_dish\n",
            "45 cakes U_dish\n",
            "53 salad U_dish\n",
            "Left over risotto is not particularly nice reheated on its own. So as not to waste the leftovers, you can form day old risotto into cakes or patties, coat them in flour and shallow fry them in olive oil, making risotto cakes. This can be served with a salad.\n",
            " [(10, 17, 'dish'), (111, 114, 'TIME'), (119, 126, 'dish'), (132, 137, 'dish'), (141, 148, 'dish'), (193, 198, 'fruitU_condiment'), (199, 202, 'condiment'), (211, 218, 'dish'), (219, 224, 'dish'), (252, 257, 'dish')]\n",
            "36\n",
            "When really pressed for time, the following procedure will produce a reasonable semblance of risotto within ten minutes:\n",
            "\n",
            "15 risotto U_dish\n",
            "17 ten U_ORDINAL\n",
            "18 minutes U_TIME\n",
            "When really pressed for time, the following procedure will produce a reasonable semblance of risotto within ten minutes:\n",
            " [(93, 100, 'dish'), (108, 111, 'ORDINAL'), (112, 119, 'TIME')]\n",
            "37\n",
            "\n",
            "\n",
            "\n",
            " []\n",
            "38\n",
            "Place a pot over strong heat and pour in the stock to boil. You will need twice as much stock as the rice to be cooked (e.g. two cups of stock for one cup of dry rice).\n",
            "\n",
            "23 rice U_dish\n",
            "29 two U_ORDINAL\n",
            "34 one U_ORDINAL\n",
            "38 rice U_dish\n",
            "Place a pot over strong heat and pour in the stock to boil. You will need twice as much stock as the rice to be cooked (e.g. two cups of stock for one cup of dry rice).\n",
            " [(101, 105, 'dish'), (125, 128, 'ORDINAL'), (147, 150, 'ORDINAL'), (162, 166, 'dish')]\n",
            "39\n",
            "Place a second pot over strong heat and drop in some butter.\n",
            "\n",
            "2 second U_CARDINAL\n",
            "11 butter U_condiment\n",
            "Place a second pot over strong heat and drop in some butter.\n",
            " [(8, 14, 'CARDINAL'), (53, 59, 'condiment')]\n",
            "40\n",
            "Once the butter in the first pot has melted, pour in the rice and start sautéing it, stirring continuously with a wooden spoon. The butter will soon start to froth. Extra seasonings can also be added at this point.\n",
            "\n",
            "2 butter U_condiment\n",
            "5 first U_CARDINAL\n",
            "13 rice U_dish\n",
            "27 butter U_condiment\n",
            "Once the butter in the first pot has melted, pour in the rice and start sautéing it, stirring continuously with a wooden spoon. The butter will soon start to froth. Extra seasonings can also be added at this point.\n",
            " [(9, 15, 'condiment'), (23, 28, 'CARDINAL'), (57, 61, 'dish'), (132, 138, 'condiment')]\n",
            "41\n",
            "By this time, the stock will have started boiling. Pour it into the pot with the rice (caution: this produces hot steam suddenly), stir well to make sure that no rice has stuck on the inside of the pot, cover the pot and switch off the heat.\n",
            "\n",
            "18 rice U_dish\n",
            "36 rice U_dish\n",
            "By this time, the stock will have started boiling. Pour it into the pot with the rice (caution: this produces hot steam suddenly), stir well to make sure that no rice has stuck on the inside of the pot, cover the pot and switch off the heat.\n",
            " [(81, 85, 'dish'), (162, 166, 'dish')]\n",
            "42\n",
            "Leave alone for five to seven minutes, then serve.\n",
            "\n",
            "3 five U_ORDINAL\n",
            "5 seven U_ORDINAL\n",
            "6 minutes U_TIME\n",
            "Leave alone for five to seven minutes, then serve.\n",
            " [(16, 20, 'ORDINAL'), (24, 29, 'ORDINAL'), (30, 37, 'TIME')]\n"
          ],
          "name": "stdout"
        }
      ]
    },
    {
      "cell_type": "code",
      "metadata": {
        "id": "YaVAV5J_IzFI",
        "colab_type": "code",
        "outputId": "58390714-165f-4bfb-e6eb-95ea77457551",
        "colab": {
          "base_uri": "https://localhost:8080/",
          "height": 263
        }
      },
      "source": [
        "to_train_ents[0:5]"
      ],
      "execution_count": 168,
      "outputs": [
        {
          "output_type": "execute_result",
          "data": {
            "text/plain": [
              "[(If using tofu, cook it., {'entities': [(9, 13, 'dish')]}),\n",
              " (Cook the rice as you normally would, but be careful not to use too much water. The rice should not be too sticky. It may help to let the cooked rice sit overnight in the refrigerator.,\n",
              "  {'entities': [(9, 13, 'dish'), (83, 87, 'dish'), (137, 148, 'dish')]}),\n",
              " (If using onions, dice them into whatever size you prefer.,\n",
              "  {'entities': [(9, 15, 'vegetable')]}),\n",
              " (If using bok choy, separate the stalk part from the leaf part. Slice the leaf part crosswise into 3/4-inch-thick strips, then tear the strips into 2-inch pieces. These pieces will be treated much like the bean sprouts, though perhaps with slightly more cooking. The stalk part will be treated as celery.,\n",
              "  {'entities': [(9, 17, 'vegetable'),\n",
              "    (98, 106, 'QUANTITY'),\n",
              "    (147, 153, 'QUANTITY'),\n",
              "    (205, 217, 'vegetable'),\n",
              "    (296, 302, 'vegetable')]}),\n",
              " (If using bean sprouts, wash them and discard any that are not white and crunchy.,\n",
              "  {'entities': [(9, 21, 'vegetable')]})]"
            ]
          },
          "metadata": {
            "tags": []
          },
          "execution_count": 168
        }
      ]
    },
    {
      "cell_type": "code",
      "metadata": {
        "id": "RLCw-6ZWMR71",
        "colab_type": "code",
        "colab": {}
      },
      "source": [
        ""
      ],
      "execution_count": 0,
      "outputs": []
    },
    {
      "cell_type": "code",
      "metadata": {
        "id": "mfmAUc2pw8Nq",
        "colab_type": "code",
        "outputId": "38d875dd-9843-4db8-a95f-e06dc62a3fe9",
        "colab": {
          "base_uri": "https://localhost:8080/",
          "height": 34
        }
      },
      "source": [
        "nlp = spacy.load(\"en_core_web_lg\")\n",
        "ruler = EntityRuler(nlp).from_disk(\"patterns.jsonl\")\n",
        "emoji = Emoji(nlp)\n",
        "nlp.add_pipe(emoji, first=True)\n",
        "nlp.add_pipe(ruler, before='ner')\n",
        "nlp.pipe_names"
      ],
      "execution_count": 0,
      "outputs": [
        {
          "output_type": "execute_result",
          "data": {
            "text/plain": [
              "['emoji', 'tagger', 'parser', 'entity_ruler', 'ner']"
            ]
          },
          "metadata": {
            "tags": []
          },
          "execution_count": 40
        }
      ]
    },
    {
      "cell_type": "code",
      "metadata": {
        "id": "d5Es9hIzxke4",
        "colab_type": "code",
        "outputId": "18d2906b-418a-47fc-b2c7-dde2a97b1974",
        "colab": {
          "base_uri": "https://localhost:8080/",
          "height": 34
        }
      },
      "source": [
        "other_pipes = [pipe for pipe in nlp.pipe_names if pipe not in [\"ner\" , \"entity_ruler\", \"merge_entities\"]]\n",
        "other_pipes"
      ],
      "execution_count": 169,
      "outputs": [
        {
          "output_type": "execute_result",
          "data": {
            "text/plain": [
              "['emoji', 'tagger', 'parser']"
            ]
          },
          "metadata": {
            "tags": []
          },
          "execution_count": 169
        }
      ]
    },
    {
      "cell_type": "code",
      "metadata": {
        "id": "seBlcyjWiffa",
        "colab_type": "code",
        "colab": {}
      },
      "source": [
        "import itertools\n",
        "merged = list(itertools.chain(*[tup[1]['entities'] for tup in to_train_ents]))"
      ],
      "execution_count": 0,
      "outputs": []
    },
    {
      "cell_type": "code",
      "metadata": {
        "id": "PF4BMpymioKL",
        "colab_type": "code",
        "colab": {
          "base_uri": "https://localhost:8080/",
          "height": 1000
        },
        "outputId": "2d4ea40a-cbf8-4a17-b571-69459ae365c0"
      },
      "source": [
        "[t[2] for t in merged]"
      ],
      "execution_count": 286,
      "outputs": [
        {
          "output_type": "execute_result",
          "data": {
            "text/plain": [
              "['dish',\n",
              " 'dish',\n",
              " 'dish',\n",
              " 'dish',\n",
              " 'vegetable',\n",
              " 'vegetable',\n",
              " 'vegetable',\n",
              " 'QUANTITY',\n",
              " 'QUANTITY',\n",
              " 'vegetable',\n",
              " 'vegetable',\n",
              " 'vegetable',\n",
              " 'vegetable',\n",
              " 'vegetable',\n",
              " 'dish',\n",
              " 'condiment',\n",
              " 'dish',\n",
              " 'dish',\n",
              " 'condiment',\n",
              " 'dish',\n",
              " 'condiment',\n",
              " 'condiment',\n",
              " 'dish',\n",
              " 'vegetable',\n",
              " 'vegetable',\n",
              " 'vegetable',\n",
              " 'condiment',\n",
              " 'CARDINAL',\n",
              " 'condiment',\n",
              " 'condiment',\n",
              " 'dish',\n",
              " 'vegetable',\n",
              " 'vegetable',\n",
              " 'vegetable',\n",
              " 'dish',\n",
              " 'dish',\n",
              " 'vegetable',\n",
              " 'condiment',\n",
              " 'condiment',\n",
              " 'condiment',\n",
              " 'dish',\n",
              " 'dish',\n",
              " 'condiment',\n",
              " 'condiment',\n",
              " 'beverage',\n",
              " 'dish',\n",
              " 'dish',\n",
              " 'beverage',\n",
              " 'dish',\n",
              " 'dish',\n",
              " 'TIME',\n",
              " 'dish',\n",
              " 'dish',\n",
              " 'dish',\n",
              " 'dish',\n",
              " 'CARDINAL',\n",
              " 'dish',\n",
              " 'TIME',\n",
              " 'condiment',\n",
              " 'condiment',\n",
              " 'condiment',\n",
              " 'condiment',\n",
              " 'dish',\n",
              " 'dish',\n",
              " 'dish',\n",
              " 'dish',\n",
              " 'CARDINAL',\n",
              " 'dish',\n",
              " 'dish',\n",
              " 'dish',\n",
              " 'condiment',\n",
              " 'vegetable',\n",
              " 'vegetable',\n",
              " 'dish',\n",
              " 'dish',\n",
              " 'dish',\n",
              " 'dish',\n",
              " 'dish',\n",
              " 'dish',\n",
              " 'ORDINAL',\n",
              " 'condiment',\n",
              " 'herb',\n",
              " 'dish',\n",
              " 'dish',\n",
              " 'spice',\n",
              " 'dish',\n",
              " 'vegetable',\n",
              " 'vegetable',\n",
              " 'vegetable',\n",
              " 'dish',\n",
              " 'dish',\n",
              " 'dish',\n",
              " 'dish',\n",
              " 'dish',\n",
              " 'dish',\n",
              " 'ORDINAL',\n",
              " 'TIME',\n",
              " 'CARDINAL',\n",
              " 'dish',\n",
              " 'dish',\n",
              " 'TIME',\n",
              " 'dish',\n",
              " 'dish',\n",
              " 'dish',\n",
              " 'condiment',\n",
              " 'condiment',\n",
              " 'dish',\n",
              " 'dish',\n",
              " 'dish',\n",
              " 'dish',\n",
              " 'CARDINAL',\n",
              " 'TIME',\n",
              " 'dish',\n",
              " 'CARDINAL',\n",
              " 'CARDINAL',\n",
              " 'dish',\n",
              " 'ORDINAL',\n",
              " 'condiment',\n",
              " 'condiment',\n",
              " 'ORDINAL',\n",
              " 'dish',\n",
              " 'condiment',\n",
              " 'dish',\n",
              " 'dish',\n",
              " 'CARDINAL',\n",
              " 'CARDINAL',\n",
              " 'TIME']"
            ]
          },
          "metadata": {
            "tags": []
          },
          "execution_count": 286
        }
      ]
    },
    {
      "cell_type": "code",
      "metadata": {
        "id": "5Zkfk_0Did-V",
        "colab_type": "code",
        "colab": {
          "base_uri": "https://localhost:8080/",
          "height": 1000
        },
        "outputId": "1f32f217-d04e-48ae-a3e9-9fbec4501209"
      },
      "source": [
        "[tup for tup in to_train_ents]"
      ],
      "execution_count": 231,
      "outputs": [
        {
          "output_type": "execute_result",
          "data": {
            "text/plain": [
              "[(If using tofu, cook it., {'entities': [(9, 13, 'dish')]}),\n",
              " (Cook the rice as you normally would, but be careful not to use too much water. The rice should not be too sticky. It may help to let the cooked rice sit overnight in the refrigerator.,\n",
              "  {'entities': [(9, 13, 'dish'), (83, 87, 'dish'), (144, 148, 'dish')]}),\n",
              " (If using onions, dice them into whatever size you prefer.,\n",
              "  {'entities': [(9, 15, 'vegetable')]}),\n",
              " (If using bok choy, separate the stalk part from the leaf part. Slice the leaf part crosswise into 3/4-inch-thick strips, then tear the strips into 2-inch pieces. These pieces will be treated much like the bean sprouts, though perhaps with slightly more cooking. The stalk part will be treated as celery.,\n",
              "  {'entities': [(9, 12, 'vegetable'),\n",
              "    (13, 17, 'vegetable'),\n",
              "    (98, 106, 'QUANTITY'),\n",
              "    (147, 153, 'QUANTITY'),\n",
              "    (205, 209, 'vegetable'),\n",
              "    (210, 217, 'vegetable'),\n",
              "    (296, 302, 'vegetable')]}),\n",
              " (If using bean sprouts, wash them and discard any that are not white and crunchy.,\n",
              "  {'entities': [(9, 13, 'vegetable'), (14, 21, 'vegetable')]}),\n",
              " (If using meat, slice into desired sized pieces and cook.,\n",
              "  {'entities': [(9, 13, 'dish')]}),\n",
              " (Add a generous amount of oil to a large frying pan, more than you think you'd need to avoid sticking. If using a type of sausage or other excessively fatty meat, not as much oil may be needed because of the amount of fat.,\n",
              "  {'entities': [(25, 28, 'condiment'),\n",
              "    (121, 128, 'dish'),\n",
              "    (156, 160, 'dish'),\n",
              "    (174, 177, 'condiment')]}),\n",
              " (Add the rice. Cook over the stove on medium high to high heat.,\n",
              "  {'entities': [(8, 12, 'dish')]}),\n",
              " (Add the soy sauce, meat(s), eggs, and all vegetables save for the onions and bean sprouts.,\n",
              "  {'entities': [(8, 11, 'condiment'),\n",
              "    (12, 17, 'condiment'),\n",
              "    (28, 32, 'dish'),\n",
              "    (66, 72, 'vegetable'),\n",
              "    (77, 81, 'vegetable'),\n",
              "    (82, 89, 'vegetable')]}),\n",
              " (Add pepper, a pinch or two of sugar, and optionally some added salt.,\n",
              "  {'entities': [(4, 10, 'condiment'),\n",
              "    (23, 26, 'CARDINAL'),\n",
              "    (30, 35, 'condiment'),\n",
              "    (63, 67, 'condiment')]}),\n",
              " (Add the tofu, bean sprouts, and onion when the rice is almost done (depending on how fried you want them) being careful not to overcook them.,\n",
              "  {'entities': [(8, 12, 'dish'),\n",
              "    (14, 18, 'vegetable'),\n",
              "    (19, 26, 'vegetable'),\n",
              "    (32, 37, 'vegetable'),\n",
              "    (47, 51, 'dish')]}),\n",
              " (Make sure your stock is simmering before you begin. It's important that the temperature is as high as possible, without letting the stock boil. The surface of the stock should just be moving a little. A large thick pot is best for the risotto.,\n",
              "  {'entities': [(235, 242, 'dish')]}),\n",
              " (Finely chop the onion and sweat it very gently (cook over medium heat, without letting it brown) in some butter or olive oil. This is known as a soffritto in Italy.,\n",
              "  {'entities': [(16, 21, 'vegetable'),\n",
              "    (105, 111, 'condiment'),\n",
              "    (115, 120, 'condimentU_fruit'),\n",
              "    (121, 124, 'condiment'),\n",
              "    (145, 154, 'dish')]}),\n",
              " (Add the rice and cook until it has a transparent look (this shouldn't take long). Add some salt and pepper.,\n",
              "  {'entities': [(8, 12, 'dish'),\n",
              "    (91, 95, 'condiment'),\n",
              "    (100, 106, 'condiment')]}),\n",
              " (Add the wine. A hot pan will cause the alcohol to evaporate more quickly (and create a nice dramatic effect), but make sure you don't burn the rice or the soffritto.,\n",
              "  {'entities': [(8, 12, 'beverage'), (143, 147, 'dish'), (155, 164, 'dish')]}),\n",
              " (As the wine cooks away you will see the remaining liquid getting thicker as it's absorbing the starch from the rice. When it’s more or less gone, add some stock. Do not add too much stock. The rice should never be submerged in stock. Keep stirring it and keep adding more stock as it cooks away. This should take about 15 to 20 minutes.,\n",
              "  {'entities': [(7, 11, 'beverage'),\n",
              "    (111, 115, 'dish'),\n",
              "    (193, 197, 'dish'),\n",
              "    (328, 335, 'TIME')]}),\n",
              " (Taste to see if the rice is done. The rice should be soft, but have enough bite to it to feel the individual grains of rice. The choice between a liquid risotto or a firmer one is a matter of personal preference.,\n",
              "  {'entities': [(20, 24, 'dish'),\n",
              "    (38, 42, 'dish'),\n",
              "    (119, 123, 'dish'),\n",
              "    (153, 160, 'dish'),\n",
              "    (173, 176, 'CARDINAL')]}),\n",
              " (When put on a plate, it should spread out slowly. If it sits still, it needs some more stock; if there's liquid coming from the risotto, it needs to cook down a bit more.,\n",
              "  {'entities': [(128, 135, 'dish')]}),\n",
              " (Let it rest for about a minute, {'entities': [(24, 30, 'TIME')]}),\n",
              " (Vigorously stir in the butter in small chunks at the time, taste to get the amount of butter right. Season with more salt and pepper to taste. This phase is called the mantecatura.,\n",
              "  {'entities': [(23, 29, 'condiment'),\n",
              "    (86, 92, 'condiment'),\n",
              "    (117, 121, 'condiment'),\n",
              "    (126, 132, 'condiment')]}),\n",
              " (Serve immediately. Risotto won't keep beyond the meal, but rehydrating it with some soup or stock can yield edible results.,\n",
              "  {'entities': [(19, 26, 'dish'), (84, 88, 'dish')]}),\n",
              " (With risotto, practice makes perfect because there are many factors that influence the outcome. Experiment with several varieties of rice, choose the one you like best and then fine-tune the various parameters like cooking temperature, selection of the proper pot, the amount and timing of seasonings etc.,\n",
              "  {'entities': [(5, 12, 'dish'), (133, 137, 'dish'), (150, 153, 'CARDINAL')]}),\n",
              " (This is only the most basic risotto recipe. Add ingredients only at the beginning (through the soffritto, when they need to cook with the rice) or at the very end in the mantecura (for ingredients that lose their flavour with too much cooking, such as herbs). If you want to use ingredients that require a very specific cooking time, like potatoes or broccoli, it's best to blanch them in advance, and add them to the risotto at the very end. It's very difficult to add them to the risotto halfway so that they will be cooked perfectly when the risotto is done. If you want the flavour of the stock to be present in these ingredients, blanch them in the stock. For some ingredients, like mushrooms, the cooking time isn't extremely important. These can simply be added to the risotto somewhere along the line.,\n",
              "  {'entities': [(28, 35, 'dish'),\n",
              "    (95, 104, 'dish'),\n",
              "    (138, 142, 'dish'),\n",
              "    (252, 257, 'condiment'),\n",
              "    (339, 347, 'vegetable'),\n",
              "    (351, 359, 'vegetable'),\n",
              "    (418, 425, 'dish'),\n",
              "    (482, 489, 'dish'),\n",
              "    (545, 552, 'dish'),\n",
              "    (776, 783, 'dish')]}),\n",
              " (A common mistake in making risotto is to add too much of the extra ingredients. The star of the dish is the rice, and only very little else is needed.,\n",
              "  {'entities': [(27, 34, 'dish'), (108, 112, 'dish')]}),\n",
              " (Ingredients added at the last moment will be laced with butter. This can have a negative impact on the effect of some delicate ingredients, like garden cress.,\n",
              "  {'entities': [(25, 29, 'ORDINAL'),\n",
              "    (56, 62, 'condiment'),\n",
              "    (152, 157, 'herb')]}),\n",
              " (Think of risotto as a way of making stock edible with a fork: the quality of the stock you use is the most important factor in the quality of your risotto.,\n",
              "  {'entities': [(9, 16, 'dish'), (147, 154, 'dish')]}),\n",
              " (Saffron added to the stock is risotto alla Milanese.,\n",
              "  {'entities': [(0, 7, 'spice'), (30, 37, 'dish')]}),\n",
              " (If you are using some sweet ingredients, such as pumpkin, you may want to consider using leek instead of onion, to balance the taste.,\n",
              "  {'entities': [(49, 56, 'vegetable'),\n",
              "    (89, 93, 'vegetable'),\n",
              "    (105, 110, 'vegetable')]}),\n",
              " (Using large roasted breadcrumbs instead of parmesan cheese will create a nice contrast in texture with the risotto. Put the breadcrumbs on top of the risotto at the last minute and don't stir, or they will soak up too much moisture and lose their crunch.,\n",
              "  {'entities': [(20, 31, 'dish'),\n",
              "    (43, 51, 'dish'),\n",
              "    (52, 58, 'dish'),\n",
              "    (107, 114, 'dish'),\n",
              "    (124, 135, 'dish'),\n",
              "    (150, 157, 'dish'),\n",
              "    (165, 169, 'ORDINAL'),\n",
              "    (170, 176, 'TIME')]}),\n",
              " (After step 3 you can move the contents into a rice cooker with the stock and left to its own devices to finish it off. The end result isn't quite as good, but the saving in effort makes it worthwhile.,\n",
              "  {'entities': [(11, 12, 'CARDINAL'), (46, 50, 'dish')]}),\n",
              " (Left over risotto is not particularly nice reheated on its own. So as not to waste the leftovers, you can form day old risotto into cakes or patties, coat them in flour and shallow fry them in olive oil, making risotto cakes. This can be served with a salad.,\n",
              "  {'entities': [(10, 17, 'dish'),\n",
              "    (111, 114, 'TIME'),\n",
              "    (119, 126, 'dish'),\n",
              "    (132, 137, 'dish'),\n",
              "    (141, 148, 'dish'),\n",
              "    (193, 198, 'condimentU_fruit'),\n",
              "    (199, 202, 'condiment'),\n",
              "    (211, 218, 'dish'),\n",
              "    (219, 224, 'dish'),\n",
              "    (252, 257, 'dish')]}),\n",
              " (When really pressed for time, the following procedure will produce a reasonable semblance of risotto within ten minutes:,\n",
              "  {'entities': [(93, 100, 'dish'),\n",
              "    (108, 111, 'CARDINAL'),\n",
              "    (112, 119, 'TIME')]}),\n",
              " (Place a pot over strong heat and pour in the stock to boil. You will need twice as much stock as the rice to be cooked (e.g. two cups of stock for one cup of dry rice).,\n",
              "  {'entities': [(101, 105, 'dish'),\n",
              "    (125, 128, 'CARDINAL'),\n",
              "    (147, 150, 'CARDINAL'),\n",
              "    (162, 166, 'dish')]}),\n",
              " (Place a second pot over strong heat and drop in some butter.,\n",
              "  {'entities': [(8, 14, 'ORDINAL'), (53, 59, 'condiment')]}),\n",
              " (Once the butter in the first pot has melted, pour in the rice and start sautéing it, stirring continuously with a wooden spoon. The butter will soon start to froth. Extra seasonings can also be added at this point.,\n",
              "  {'entities': [(9, 15, 'condiment'),\n",
              "    (23, 28, 'ORDINAL'),\n",
              "    (57, 61, 'dish'),\n",
              "    (132, 138, 'condiment')]}),\n",
              " (By this time, the stock will have started boiling. Pour it into the pot with the rice (caution: this produces hot steam suddenly), stir well to make sure that no rice has stuck on the inside of the pot, cover the pot and switch off the heat.,\n",
              "  {'entities': [(81, 85, 'dish'), (162, 166, 'dish')]}),\n",
              " (Leave alone for five to seven minutes, then serve.,\n",
              "  {'entities': [(16, 20, 'CARDINAL'),\n",
              "    (24, 29, 'CARDINAL'),\n",
              "    (30, 37, 'TIME')]})]"
            ]
          },
          "metadata": {
            "tags": []
          },
          "execution_count": 231
        }
      ]
    },
    {
      "cell_type": "code",
      "metadata": {
        "id": "HB1G5tIvihWs",
        "colab_type": "code",
        "colab": {
          "base_uri": "https://localhost:8080/",
          "height": 34
        },
        "outputId": "0505e827-a241-4876-bb64-dc3fc1d7df06"
      },
      "source": [
        "model = 'en_core_web_lg'\n",
        "\n",
        "\n",
        "\n",
        "\"\"\"Load the model, set up the pipeline and train the entity recognizer.\"\"\"\n",
        "if model is not None:\n",
        "    nlp = spacy.load(model)  # load existing spaCy model\n",
        "    print(\"Loaded model '%s'\" % model)\n",
        "else:\n",
        "    nlp = spacy.blank(\"en\")  # create blank Language class\n",
        "    print(\"Created blank 'en' model\")\n",
        "\n",
        "# nlp.create_pipe works for built-ins that are registered with spaCy\n",
        "if \"ner\" not in nlp.pipe_names:\n",
        "    ner = nlp.create_pipe(\"ner\")\n",
        "    nlp.add_pipe(ner, last=True)\n",
        "# otherwise, get it so we can add labels\n",
        "else:\n",
        "    ner = nlp.get_pipe(\"ner\")\n",
        "\n",
        "# add labels\n",
        "for _, annotations in to_train_ents:\n",
        "    for ent in annotations.get(\"entities\"):\n",
        "        ner.add_label(ent[2])"
      ],
      "execution_count": 366,
      "outputs": [
        {
          "output_type": "stream",
          "text": [
            "Loaded model 'en_core_web_lg'\n"
          ],
          "name": "stdout"
        }
      ]
    },
    {
      "cell_type": "code",
      "metadata": {
        "id": "_TQqvRheMWzm",
        "colab_type": "code",
        "colab": {
          "base_uri": "https://localhost:8080/",
          "height": 434
        },
        "outputId": "579679df-6046-4f5b-efc5-ae9a848d4037"
      },
      "source": [
        "ner.labels"
      ],
      "execution_count": 367,
      "outputs": [
        {
          "output_type": "execute_result",
          "data": {
            "text/plain": [
              "('PRODUCT',\n",
              " 'PERCENT',\n",
              " 'dish',\n",
              " 'LANGUAGE',\n",
              " 'condiment',\n",
              " 'LOC',\n",
              " 'FAC',\n",
              " 'ORDINAL',\n",
              " 'herb',\n",
              " 'NORP',\n",
              " 'MONEY',\n",
              " 'CARDINAL',\n",
              " 'spice',\n",
              " 'QUANTITY',\n",
              " 'beverage',\n",
              " 'TIME',\n",
              " 'ORG',\n",
              " 'EVENT',\n",
              " 'PERSON',\n",
              " 'LAW',\n",
              " 'DATE',\n",
              " 'GPE',\n",
              " 'vegetable',\n",
              " 'WORK_OF_ART')"
            ]
          },
          "metadata": {
            "tags": []
          },
          "execution_count": 367
        }
      ]
    },
    {
      "cell_type": "code",
      "metadata": {
        "id": "SYlPQ58WW5F9",
        "colab_type": "code",
        "colab": {}
      },
      "source": [
        "from spacy.gold import GoldParse"
      ],
      "execution_count": 0,
      "outputs": []
    },
    {
      "cell_type": "code",
      "metadata": {
        "id": "Z5zBtvk6wRIl",
        "colab_type": "code",
        "colab": {
          "base_uri": "https://localhost:8080/",
          "height": 1000
        },
        "outputId": "957be5cd-9cca-4dcd-de66-dfa64fe6548a"
      },
      "source": [
        "# get names of other pipes to disable them during training\n",
        "other_pipes = [pipe for pipe in nlp.pipe_names if pipe not in [\"ner\"]]\n",
        "with nlp.disable_pipes(*other_pipes):  # only train NER\n",
        "    # reset and initialize the weights randomly – but only if we're\n",
        "    # training a new model\n",
        "    if model is None:\n",
        "        nlp.begin_training()\n",
        "\n",
        "\n",
        "\n",
        "    for itn in range(100):\n",
        "      random.shuffle(clean_train_ents)\n",
        "      losses = {}\n",
        "\n",
        "#      for item in clean_train_ents:\n",
        "# batch up the examples using spaCy's minibatch\n",
        "      batches = minibatch(clean_train_ents, size=compounding(4.0, 32.0, 1.001))\n",
        "\n",
        "      for batch in batches:\n",
        "        texts, annotations = zip(*batch)\n",
        "#        print([item[0]], [item[1]])\n",
        "\n",
        "#        print(texts)\n",
        "#        print(annotations)\n",
        "        nlp.update(texts, annotations, drop=0.5, losses=losses)\n",
        "        print(losses)"
      ],
      "execution_count": 374,
      "outputs": [
        {
          "output_type": "stream",
          "text": [
            "{'ner': 88.65077209472656}\n",
            "{'ner': 191.41206622123718}\n",
            "{'ner': 274.0754544734955}\n",
            "{'ner': 376.19938254356384}\n",
            "{'ner': 484.4726674556732}\n",
            "{'ner': 600.2701672315598}\n",
            "{'ner': 688.1295403242111}\n",
            "{'ner': 780.2445400953293}\n",
            "{'ner': 968.3551481962204}\n",
            "{'ner': 985.2630408851546}\n",
            "{'ner': 103.13918900489807}\n",
            "{'ner': 173.14196467399597}\n",
            "{'ner': 211.9196584224701}\n",
            "{'ner': 356.4261119365692}\n",
            "{'ner': 467.49747109413147}\n",
            "{'ner': 550.5530912876129}\n",
            "{'ner': 628.9059693813324}\n",
            "{'ner': 808.8429419994354}\n",
            "{'ner': 976.6488535404205}\n",
            "{'ner': 1012.5997161976993}\n",
            "{'ner': 106.78622198104858}\n",
            "{'ner': 171.02277731895447}\n",
            "{'ner': 358.5514028072357}\n",
            "{'ner': 456.2937424182892}\n",
            "{'ner': 547.4443485736847}\n",
            "{'ner': 682.4905865192413}\n",
            "{'ner': 785.4192407131195}\n",
            "{'ner': 868.8943121433258}\n",
            "{'ner': 975.0826132297516}\n",
            "{'ner': 996.660508826375}\n",
            "{'ner': 79.75613355636597}\n",
            "{'ner': 203.94504261016846}\n",
            "{'ner': 291.61164689064026}\n",
            "{'ner': 386.6651213169098}\n",
            "{'ner': 500.7001885175705}\n",
            "{'ner': 620.7740014791489}\n",
            "{'ner': 712.7062219381332}\n",
            "{'ner': 873.0394777059555}\n",
            "{'ner': 950.7959178686142}\n",
            "{'ner': 978.3448859918863}\n",
            "{'ner': 74.18935346603394}\n",
            "{'ner': 158.39553117752075}\n",
            "{'ner': 341.51591634750366}\n",
            "{'ner': 464.18906807899475}\n",
            "{'ner': 581.7770417928696}\n",
            "{'ner': 654.7545064687729}\n",
            "{'ner': 761.6733421087265}\n",
            "{'ner': 849.7519925832748}\n",
            "{'ner': 925.2227224111557}\n",
            "{'ner': 939.654938385589}\n",
            "{'ner': 55.3622100353241}\n",
            "{'ner': 128.06298518180847}\n",
            "{'ner': 186.13812613487244}\n",
            "{'ner': 305.30726170539856}\n",
            "{'ner': 500.27407455444336}\n",
            "{'ner': 623.4828412532806}\n",
            "{'ner': 702.8124741315842}\n",
            "{'ner': 837.7023380994797}\n",
            "{'ner': 931.4566544294357}\n",
            "{'ner': 954.3125242833048}\n",
            "{'ner': 131.34783601760864}\n",
            "{'ner': 212.54629707336426}\n",
            "{'ner': 313.71315002441406}\n",
            "{'ner': 381.59599900245667}\n",
            "{'ner': 512.6147105693817}\n",
            "{'ner': 706.9339301586151}\n",
            "{'ner': 791.7065257877111}\n",
            "{'ner': 865.8317642062902}\n",
            "{'ner': 942.7906918376684}\n",
            "{'ner': 958.2183826513938}\n",
            "{'ner': 108.62797260284424}\n",
            "{'ner': 171.4344139099121}\n",
            "{'ner': 284.1738466024399}\n",
            "{'ner': 367.48679316043854}\n",
            "{'ner': 438.3192094564438}\n",
            "{'ner': 507.24833953380585}\n",
            "{'ner': 647.5660886764526}\n",
            "{'ner': 818.8994092941284}\n",
            "{'ner': 916.187084197998}\n",
            "{'ner': 952.57524523139}\n",
            "{'ner': 90.5539026260376}\n",
            "{'ner': 204.79672527313232}\n",
            "{'ner': 407.76346015930176}\n",
            "{'ner': 496.19333267211914}\n",
            "{'ner': 556.5265183448792}\n",
            "{'ner': 629.8014025688171}\n",
            "{'ner': 722.4945511817932}\n",
            "{'ner': 851.1400184631348}\n",
            "{'ner': 942.3557686805725}\n",
            "{'ner': 968.6624981390778}\n",
            "{'ner': 175.83348178863525}\n",
            "{'ner': 281.4318609237671}\n",
            "{'ner': 388.05375027656555}\n",
            "{'ner': 476.0237262248993}\n",
            "{'ner': 583.803849697113}\n",
            "{'ner': 675.4698262214661}\n",
            "{'ner': 747.9320688247681}\n",
            "{'ner': 892.5650664567947}\n",
            "{'ner': 935.1906200647354}\n",
            "{'ner': 951.3187813069671}\n",
            "{'ner': 105.19222509860992}\n",
            "{'ner': 226.0070093870163}\n",
            "{'ner': 342.4340218305588}\n",
            "{'ner': 391.04745376110077}\n",
            "{'ner': 422.82863092422485}\n",
            "{'ner': 524.3634195327759}\n",
            "{'ner': 635.3481670618057}\n",
            "{'ner': 749.1988316774368}\n",
            "{'ner': 939.5126258134842}\n",
            "{'ner': 981.2467467039824}\n",
            "{'ner': 87.92262840270996}\n",
            "{'ner': 198.22042608261108}\n",
            "{'ner': 272.0984649658203}\n",
            "{'ner': 344.6287980079651}\n",
            "{'ner': 431.71546721458435}\n",
            "{'ner': 559.5512146949768}\n",
            "{'ner': 646.5907726287842}\n",
            "{'ner': 815.3196296691895}\n",
            "{'ner': 912.0192770957947}\n",
            "{'ner': 942.0641163215041}\n",
            "{'ner': 98.4340889453888}\n",
            "{'ner': 186.54643273353577}\n",
            "{'ner': 298.8299415111542}\n",
            "{'ner': 420.6810052394867}\n",
            "{'ner': 489.3733855485916}\n",
            "{'ner': 590.023575425148}\n",
            "{'ner': 679.5360192060471}\n",
            "{'ner': 871.2405594587326}\n",
            "{'ner': 934.8584460020065}\n",
            "{'ner': 973.4292732514441}\n",
            "{'ner': 174.5475034713745}\n",
            "{'ner': 271.1869077682495}\n",
            "{'ner': 346.97104024887085}\n",
            "{'ner': 419.15585136413574}\n",
            "{'ner': 551.868183016777}\n",
            "{'ner': 664.0895997285843}\n",
            "{'ner': 776.9465953111649}\n",
            "{'ner': 830.4112850427628}\n",
            "{'ner': 904.3635755777359}\n",
            "{'ner': 925.2427194174379}\n",
            "{'ner': 191.2618055343628}\n",
            "{'ner': 298.88061118125916}\n",
            "{'ner': 374.59842252731323}\n",
            "{'ner': 472.5189690589905}\n",
            "{'ner': 570.8554677963257}\n",
            "{'ner': 650.291980266571}\n",
            "{'ner': 697.0642566680908}\n",
            "{'ner': 794.2859153747559}\n",
            "{'ner': 902.7538423538208}\n",
            "{'ner': 952.0019273906946}\n",
            "{'ner': 62.30888891220093}\n",
            "{'ner': 185.09697544574738}\n",
            "{'ner': 282.9984151124954}\n",
            "{'ner': 402.0369545221329}\n",
            "{'ner': 601.6351064443588}\n",
            "{'ner': 673.0339599847794}\n",
            "{'ner': 741.3498598337173}\n",
            "{'ner': 825.9250599145889}\n",
            "{'ner': 903.672482252121}\n",
            "{'ner': 912.2055692598224}\n",
            "{'ner': 92.51700401306152}\n",
            "{'ner': 163.24915087223053}\n",
            "{'ner': 237.55220806598663}\n",
            "{'ner': 301.6265541315079}\n",
            "{'ner': 382.60565960407257}\n",
            "{'ner': 470.1798187494278}\n",
            "{'ner': 586.2659981846809}\n",
            "{'ner': 802.5443137288094}\n",
            "{'ner': 882.2491584420204}\n",
            "{'ner': 901.5276122894138}\n",
            "{'ner': 94.75841283798218}\n",
            "{'ner': 198.17334508895874}\n",
            "{'ner': 330.7170901298523}\n",
            "{'ner': 401.8219451904297}\n",
            "{'ner': 467.7340393066406}\n",
            "{'ner': 591.7396910190582}\n",
            "{'ner': 679.2604677677155}\n",
            "{'ner': 754.9712021350861}\n",
            "{'ner': 903.0208446979523}\n",
            "{'ner': 923.7899129539728}\n",
            "{'ner': 102.83503723144531}\n",
            "{'ner': 262.85459184646606}\n",
            "{'ner': 405.30521416664124}\n",
            "{'ner': 499.5964210033417}\n",
            "{'ner': 571.0457694530487}\n",
            "{'ner': 635.5061776638031}\n",
            "{'ner': 726.3802956342697}\n",
            "{'ner': 828.203650355339}\n",
            "{'ner': 961.6274896860123}\n",
            "{'ner': 970.087087854743}\n",
            "{'ner': 109.56964015960693}\n",
            "{'ner': 215.7343235015869}\n",
            "{'ner': 401.18914699554443}\n",
            "{'ner': 496.959477186203}\n",
            "{'ner': 563.2900817394257}\n",
            "{'ner': 632.17795586586}\n",
            "{'ner': 725.8958885669708}\n",
            "{'ner': 816.7136714458466}\n",
            "{'ner': 926.4335331916809}\n",
            "{'ner': 943.2503618374467}\n",
            "{'ner': 210.07933712005615}\n",
            "{'ner': 304.8427309989929}\n",
            "{'ner': 392.63644313812256}\n",
            "{'ner': 475.13962483406067}\n",
            "{'ner': 546.2527620792389}\n",
            "{'ner': 647.1849911212921}\n",
            "{'ner': 673.547460436821}\n",
            "{'ner': 801.0700308084488}\n",
            "{'ner': 918.6119908094406}\n",
            "{'ner': 940.2907393933274}\n",
            "{'ner': 103.08528256416321}\n",
            "{'ner': 188.98297905921936}\n",
            "{'ner': 269.3079001903534}\n",
            "{'ner': 348.5593936443329}\n",
            "{'ner': 444.6721697449684}\n",
            "{'ner': 574.9550777077675}\n",
            "{'ner': 672.4023025631905}\n",
            "{'ner': 768.1171310544014}\n",
            "{'ner': 937.3197963833809}\n",
            "{'ner': 963.926942281425}\n",
            "{'ner': 127.98239183425903}\n",
            "{'ner': 209.31259536743164}\n",
            "{'ner': 271.0106768608093}\n",
            "{'ner': 342.67436480522156}\n",
            "{'ner': 472.1787586212158}\n",
            "{'ner': 577.9961729049683}\n",
            "{'ner': 675.646782875061}\n",
            "{'ner': 761.0652027130127}\n",
            "{'ner': 937.7873592376709}\n",
            "{'ner': 959.1224067509174}\n",
            "{'ner': 77.80946969985962}\n",
            "{'ner': 174.2207489013672}\n",
            "{'ner': 270.8638401031494}\n",
            "{'ner': 407.3893880844116}\n",
            "{'ner': 484.96001076698303}\n",
            "{'ner': 590.721762418747}\n",
            "{'ner': 659.3653628826141}\n",
            "{'ner': 739.3712871074677}\n",
            "{'ner': 974.7376368045807}\n",
            "{'ner': 1000.7482319995761}\n",
            "{'ner': 64.17540121078491}\n",
            "{'ner': 131.22117137908936}\n",
            "{'ner': 231.54042315483093}\n",
            "{'ner': 329.0270097255707}\n",
            "{'ner': 428.9993562698364}\n",
            "{'ner': 609.6488189697266}\n",
            "{'ner': 696.4551630020142}\n",
            "{'ner': 793.4810194969177}\n",
            "{'ner': 917.0595469474792}\n",
            "{'ner': 941.8371251332574}\n",
            "{'ner': 105.06210708618164}\n",
            "{'ner': 225.88773107528687}\n",
            "{'ner': 317.341956615448}\n",
            "{'ner': 390.5856146812439}\n",
            "{'ner': 494.22344303131104}\n",
            "{'ner': 644.8628072738647}\n",
            "{'ner': 766.1456153392792}\n",
            "{'ner': 868.69606757164}\n",
            "{'ner': 926.8867509365082}\n",
            "{'ner': 940.8531720074825}\n",
            "{'ner': 183.12285614013672}\n",
            "{'ner': 295.88476634025574}\n",
            "{'ner': 412.8524100780487}\n",
            "{'ner': 459.7678425312042}\n",
            "{'ner': 573.5987648963928}\n",
            "{'ner': 664.4221353530884}\n",
            "{'ner': 784.4146203994751}\n",
            "{'ner': 878.4060244560242}\n",
            "{'ner': 950.7515099048615}\n",
            "{'ner': 965.1459426740184}\n",
            "{'ner': 120.75835609436035}\n",
            "{'ner': 219.04441785812378}\n",
            "{'ner': 293.7138156890869}\n",
            "{'ner': 425.71031165122986}\n",
            "{'ner': 641.1960113048553}\n",
            "{'ner': 707.8417370319366}\n",
            "{'ner': 791.0054686069489}\n",
            "{'ner': 872.2205474376678}\n",
            "{'ner': 958.7767001390457}\n",
            "{'ner': 966.5372488647699}\n",
            "{'ner': 120.51176488399506}\n",
            "{'ner': 302.8755820989609}\n",
            "{'ner': 435.1349982023239}\n",
            "{'ner': 511.81998097896576}\n",
            "{'ner': 611.4705103635788}\n",
            "{'ner': 702.8320506811142}\n",
            "{'ner': 770.1171127557755}\n",
            "{'ner': 863.0927020311356}\n",
            "{'ner': 950.3873182535172}\n",
            "{'ner': 956.1259669996798}\n",
            "{'ner': 112.79681777954102}\n",
            "{'ner': 183.0097541809082}\n",
            "{'ner': 277.8123230934143}\n",
            "{'ner': 336.76042342185974}\n",
            "{'ner': 387.9753601551056}\n",
            "{'ner': 466.9429109096527}\n",
            "{'ner': 628.6170861721039}\n",
            "{'ner': 746.192578792572}\n",
            "{'ner': 881.6388899087906}\n",
            "{'ner': 924.0438139690086}\n",
            "{'ner': 132.72047650814056}\n",
            "{'ner': 219.6327977180481}\n",
            "{'ner': 309.16589641571045}\n",
            "{'ner': 371.0053677558899}\n",
            "{'ner': 556.4741187095642}\n",
            "{'ner': 631.1986107826233}\n",
            "{'ner': 741.2275757789612}\n",
            "{'ner': 818.725914478302}\n",
            "{'ner': 929.5407898426056}\n",
            "{'ner': 937.7363350326195}\n",
            "{'ner': 92.50972509384155}\n",
            "{'ner': 173.10904812812805}\n",
            "{'ner': 248.341641664505}\n",
            "{'ner': 330.5519244670868}\n",
            "{'ner': 403.1678559780121}\n",
            "{'ner': 544.8773736953735}\n",
            "{'ner': 719.9800519943237}\n",
            "{'ner': 855.2934818267822}\n",
            "{'ner': 943.9956159591675}\n",
            "{'ner': 976.7666722983122}\n",
            "{'ner': 73.51016807556152}\n",
            "{'ner': 204.32206773757935}\n",
            "{'ner': 275.23536252975464}\n",
            "{'ner': 363.90168285369873}\n",
            "{'ner': 495.13082933425903}\n",
            "{'ner': 641.0056042671204}\n",
            "{'ner': 725.0036170482635}\n",
            "{'ner': 802.3177607059479}\n",
            "{'ner': 889.3282954692841}\n",
            "{'ner': 944.2612633132376}\n",
            "{'ner': 57.84496307373047}\n",
            "{'ner': 114.01629376411438}\n",
            "{'ner': 199.72028946876526}\n",
            "{'ner': 328.31282782554626}\n",
            "{'ner': 493.4376485347748}\n",
            "{'ner': 611.0172567367554}\n",
            "{'ner': 714.1443748474121}\n",
            "{'ner': 854.3125131130219}\n",
            "{'ner': 950.4333157539368}\n",
            "{'ner': 979.3937766253948}\n",
            "{'ner': 108.41322469711304}\n",
            "{'ner': 232.75611567497253}\n",
            "{'ner': 402.8713347911835}\n",
            "{'ner': 524.9769093990326}\n",
            "{'ner': 615.3884861469269}\n",
            "{'ner': 658.0830533504486}\n",
            "{'ner': 820.2804557085037}\n",
            "{'ner': 909.9786273241043}\n",
            "{'ner': 963.5972224473953}\n",
            "{'ner': 973.6607299353927}\n",
            "{'ner': 88.41585779190063}\n",
            "{'ner': 252.7477993965149}\n",
            "{'ner': 359.96220111846924}\n",
            "{'ner': 451.9753611087799}\n",
            "{'ner': 568.7559187412262}\n",
            "{'ner': 665.6538169384003}\n",
            "{'ner': 776.22696185112}\n",
            "{'ner': 859.9425098896027}\n",
            "{'ner': 923.487930059433}\n",
            "{'ner': 942.1432164311409}\n",
            "{'ner': 78.65525388717651}\n",
            "{'ner': 168.94551992416382}\n",
            "{'ner': 297.6862602233887}\n",
            "{'ner': 416.6795357465744}\n",
            "{'ner': 578.5593594312668}\n",
            "{'ner': 640.32290828228}\n",
            "{'ner': 752.7728587388992}\n",
            "{'ner': 817.82936668396}\n",
            "{'ner': 912.9795184135437}\n",
            "{'ner': 943.4715258390643}\n",
            "{'ner': 85.13046407699585}\n",
            "{'ner': 189.89901864528656}\n",
            "{'ner': 290.52220475673676}\n",
            "{'ner': 374.1175273656845}\n",
            "{'ner': 457.485035777092}\n",
            "{'ner': 511.97865664958954}\n",
            "{'ner': 621.301864027977}\n",
            "{'ner': 740.6594632863998}\n",
            "{'ner': 848.3208192586899}\n",
            "{'ner': 972.8754123449326}\n",
            "{'ner': 68.9712381362915}\n",
            "{'ner': 137.30517101287842}\n",
            "{'ner': 264.99456655979156}\n",
            "{'ner': 319.0072144269943}\n",
            "{'ner': 434.85488164424896}\n",
            "{'ner': 525.5523446798325}\n",
            "{'ner': 681.7550367116928}\n",
            "{'ner': 779.0105403661728}\n",
            "{'ner': 917.2195438146591}\n",
            "{'ner': 939.8076375568053}\n",
            "{'ner': 89.53722429275513}\n",
            "{'ner': 210.46025788784027}\n",
            "{'ner': 322.0503295660019}\n",
            "{'ner': 406.9985717535019}\n",
            "{'ner': 581.914298415184}\n",
            "{'ner': 654.544242143631}\n",
            "{'ner': 713.8261597156525}\n",
            "{'ner': 801.1220381259918}\n",
            "{'ner': 888.4818985462189}\n",
            "{'ner': 943.8811320699751}\n",
            "{'ner': 121.4153425693512}\n",
            "{'ner': 202.29834961891174}\n",
            "{'ner': 293.8631134033203}\n",
            "{'ner': 342.61253809928894}\n",
            "{'ner': 394.6813485622406}\n",
            "{'ner': 517.9613029956818}\n",
            "{'ner': 630.3371932506561}\n",
            "{'ner': 732.891398191452}\n",
            "{'ner': 918.6463940143585}\n",
            "{'ner': 946.3000171482563}\n",
            "{'ner': 129.50670313835144}\n",
            "{'ner': 335.9789843559265}\n",
            "{'ner': 470.56037640571594}\n",
            "{'ner': 534.0436141490936}\n",
            "{'ner': 604.3218309879303}\n",
            "{'ner': 679.5767397880554}\n",
            "{'ner': 736.436158657074}\n",
            "{'ner': 837.6744432449341}\n",
            "{'ner': 921.1536645889282}\n",
            "{'ner': 934.114072992932}\n",
            "{'ner': 100.0336012840271}\n",
            "{'ner': 234.67126750946045}\n",
            "{'ner': 309.3564462661743}\n",
            "{'ner': 376.5356287956238}\n",
            "{'ner': 486.18205165863037}\n",
            "{'ner': 600.3373172283173}\n",
            "{'ner': 662.1621179580688}\n",
            "{'ner': 854.1110153198242}\n",
            "{'ner': 934.6860790252686}\n",
            "{'ner': 948.8959538784693}\n",
            "{'ner': 112.17208480834961}\n",
            "{'ner': 205.52736568450928}\n",
            "{'ner': 439.30851793289185}\n",
            "{'ner': 520.5034160614014}\n",
            "{'ner': 608.9517483711243}\n",
            "{'ner': 690.6988353729248}\n",
            "{'ner': 769.6011898517609}\n",
            "{'ner': 857.1308944225311}\n",
            "{'ner': 916.0199539661407}\n",
            "{'ner': 938.1402624989278}\n",
            "{'ner': 97.3076479434967}\n",
            "{'ner': 191.06313157081604}\n",
            "{'ner': 286.5304079055786}\n",
            "{'ner': 360.6437819004059}\n",
            "{'ner': 513.1198036670685}\n",
            "{'ner': 593.5530049800873}\n",
            "{'ner': 712.9405252933502}\n",
            "{'ner': 854.4898555278778}\n",
            "{'ner': 917.2183740139008}\n",
            "{'ner': 943.1628682855517}\n",
            "{'ner': 108.2597017288208}\n",
            "{'ner': 288.8516902923584}\n",
            "{'ner': 353.72187662124634}\n",
            "{'ner': 445.8343048095703}\n",
            "{'ner': 548.0554621219635}\n",
            "{'ner': 657.8948404788971}\n",
            "{'ner': 726.567483663559}\n",
            "{'ner': 802.0292065143585}\n",
            "{'ner': 880.4499504566193}\n",
            "{'ner': 890.7541766645154}\n",
            "{'ner': 83.13149547576904}\n",
            "{'ner': 148.7897961139679}\n",
            "{'ner': 265.7640688419342}\n",
            "{'ner': 363.12410140037537}\n",
            "{'ner': 544.7765123844147}\n",
            "{'ner': 598.4300310611725}\n",
            "{'ner': 679.0706288814545}\n",
            "{'ner': 786.1770766973495}\n",
            "{'ner': 857.9106167554855}\n",
            "{'ner': 904.490775346756}\n",
            "{'ner': 95.71120691299438}\n",
            "{'ner': 209.28532075881958}\n",
            "{'ner': 286.18889021873474}\n",
            "{'ner': 450.81674218177795}\n",
            "{'ner': 563.1324827671051}\n",
            "{'ner': 648.244898557663}\n",
            "{'ner': 765.772543668747}\n",
            "{'ner': 835.2149240970612}\n",
            "{'ner': 908.898716211319}\n",
            "{'ner': 926.5469952523708}\n",
            "{'ner': 58.70140099525452}\n",
            "{'ner': 165.67954277992249}\n",
            "{'ner': 278.7701241970062}\n",
            "{'ner': 390.77730202674866}\n",
            "{'ner': 484.0805609226227}\n",
            "{'ner': 577.643218755722}\n",
            "{'ner': 658.9619462490082}\n",
            "{'ner': 839.9624698162079}\n",
            "{'ner': 910.5334227085114}\n",
            "{'ner': 924.2918757269508}\n",
            "{'ner': 102.87532091140747}\n",
            "{'ner': 223.3597776889801}\n",
            "{'ner': 298.5963571071625}\n",
            "{'ner': 377.1112713813782}\n",
            "{'ner': 561.1862320899963}\n",
            "{'ner': 642.863157749176}\n",
            "{'ner': 758.665985584259}\n",
            "{'ner': 845.3122100830078}\n",
            "{'ner': 938.8913549184799}\n",
            "{'ner': 952.2377993570481}\n",
            "{'ner': 71.36725044250488}\n",
            "{'ner': 133.18627834320068}\n",
            "{'ner': 271.57240080833435}\n",
            "{'ner': 377.03584265708923}\n",
            "{'ner': 475.348650932312}\n",
            "{'ner': 566.8396301269531}\n",
            "{'ner': 659.0938844680786}\n",
            "{'ner': 717.8572611808777}\n",
            "{'ner': 924.4298911094666}\n",
            "{'ner': 945.4793874992174}\n",
            "{'ner': 121.56780409812927}\n",
            "{'ner': 162.21741795539856}\n",
            "{'ner': 247.76557564735413}\n",
            "{'ner': 343.61108016967773}\n",
            "{'ner': 434.41530179977417}\n",
            "{'ner': 533.5622928142548}\n",
            "{'ner': 627.4442789554596}\n",
            "{'ner': 698.7575538158417}\n",
            "{'ner': 806.3389704227448}\n",
            "{'ner': 922.0943627357483}\n",
            "{'ner': 75.73072123527527}\n",
            "{'ner': 268.5137197971344}\n",
            "{'ner': 347.75593852996826}\n",
            "{'ner': 401.2719955444336}\n",
            "{'ner': 511.29477167129517}\n",
            "{'ner': 592.7858810424805}\n",
            "{'ner': 727.2841720581055}\n",
            "{'ner': 812.4800219535828}\n",
            "{'ner': 910.6511380672455}\n",
            "{'ner': 931.5389991402626}\n",
            "{'ner': 102.95580053329468}\n",
            "{'ner': 220.6797969341278}\n",
            "{'ner': 315.9638440608978}\n",
            "{'ner': 374.85286927223206}\n",
            "{'ner': 479.0238765478134}\n",
            "{'ner': 589.4772704839706}\n",
            "{'ner': 681.4341005086899}\n",
            "{'ner': 755.4540899991989}\n",
            "{'ner': 913.8200968503952}\n",
            "{'ner': 930.0889928949182}\n",
            "{'ner': 122.02271938323975}\n",
            "{'ner': 190.401846408844}\n",
            "{'ner': 397.5952754020691}\n",
            "{'ner': 506.3111689090729}\n",
            "{'ner': 623.9110691547394}\n",
            "{'ner': 734.2704322338104}\n",
            "{'ner': 819.9951827526093}\n",
            "{'ner': 872.9357404708862}\n",
            "{'ner': 962.4271178245544}\n",
            "{'ner': 975.7060844763764}\n",
            "{'ner': 111.09956085681915}\n",
            "{'ner': 206.59444391727448}\n",
            "{'ner': 332.4188002347946}\n",
            "{'ner': 412.5294154882431}\n",
            "{'ner': 490.92163836956024}\n",
            "{'ner': 680.3256434202194}\n",
            "{'ner': 757.5354050397873}\n",
            "{'ner': 826.701730132103}\n",
            "{'ner': 924.5603674650192}\n",
            "{'ner': 930.2148222500109}\n",
            "{'ner': 149.54455471038818}\n",
            "{'ner': 269.4219479560852}\n",
            "{'ner': 370.9532239437103}\n",
            "{'ner': 465.3772361278534}\n",
            "{'ner': 548.5891463756561}\n",
            "{'ner': 632.3912723064423}\n",
            "{'ner': 729.2195780277252}\n",
            "{'ner': 820.5387332439423}\n",
            "{'ner': 906.2734534740448}\n",
            "{'ner': 945.4796556606889}\n",
            "{'ner': 113.91041374206543}\n",
            "{'ner': 222.7615623474121}\n",
            "{'ner': 340.65833842754364}\n",
            "{'ner': 404.1553713083267}\n",
            "{'ner': 483.5532976388931}\n",
            "{'ner': 583.2102838754654}\n",
            "{'ner': 668.4097746610641}\n",
            "{'ner': 766.5028349161148}\n",
            "{'ner': 940.4627014398575}\n",
            "{'ner': 947.8100536465645}\n",
            "{'ner': 75.4580864906311}\n",
            "{'ner': 192.3783016204834}\n",
            "{'ner': 272.6495645046234}\n",
            "{'ner': 454.289742231369}\n",
            "{'ner': 573.8131606578827}\n",
            "{'ner': 646.9120900630951}\n",
            "{'ner': 730.1361787319183}\n",
            "{'ner': 847.9205377101898}\n",
            "{'ner': 931.4363281726837}\n",
            "{'ner': 959.6570284515619}\n",
            "{'ner': 89.48020839691162}\n",
            "{'ner': 199.27910327911377}\n",
            "{'ner': 261.0678564310074}\n",
            "{'ner': 393.56125128269196}\n",
            "{'ner': 509.9684303998947}\n",
            "{'ner': 593.1818436384201}\n",
            "{'ner': 685.3741108179092}\n",
            "{'ner': 780.003962635994}\n",
            "{'ner': 880.3174923658371}\n",
            "{'ner': 920.4396287351847}\n",
            "{'ner': 63.18458032608032}\n",
            "{'ner': 175.24780297279358}\n",
            "{'ner': 298.4625198841095}\n",
            "{'ner': 350.56467366218567}\n",
            "{'ner': 419.27595114707947}\n",
            "{'ner': 496.700546503067}\n",
            "{'ner': 624.4167348146439}\n",
            "{'ner': 763.3395701646805}\n",
            "{'ner': 840.7329264879227}\n",
            "{'ner': 961.4402370452881}\n",
            "{'ner': 64.65207815170288}\n",
            "{'ner': 147.49118399620056}\n",
            "{'ner': 221.31079506874084}\n",
            "{'ner': 262.2742872238159}\n",
            "{'ner': 395.7828505039215}\n",
            "{'ner': 515.4806538820267}\n",
            "{'ner': 625.9442306756973}\n",
            "{'ner': 703.0677877664566}\n",
            "{'ner': 875.0574012994766}\n",
            "{'ner': 888.0938401613384}\n",
            "{'ner': 42.51955056190491}\n",
            "{'ner': 148.88004446029663}\n",
            "{'ner': 216.16246128082275}\n",
            "{'ner': 373.6022825241089}\n",
            "{'ner': 478.304025888443}\n",
            "{'ner': 575.9350469112396}\n",
            "{'ner': 654.0896956920624}\n",
            "{'ner': 773.0505311489105}\n",
            "{'ner': 880.121288061142}\n",
            "{'ner': 894.7798775088158}\n",
            "{'ner': 96.80152750015259}\n",
            "{'ner': 160.30927324295044}\n",
            "{'ner': 226.9211835861206}\n",
            "{'ner': 290.84221029281616}\n",
            "{'ner': 498.6760334968567}\n",
            "{'ner': 595.1359702348709}\n",
            "{'ner': 668.6515089273453}\n",
            "{'ner': 765.0366462469101}\n",
            "{'ner': 867.0191138982773}\n",
            "{'ner': 910.8551023569889}\n",
            "{'ner': 139.4966869354248}\n",
            "{'ner': 193.48188734054565}\n",
            "{'ner': 241.0924620628357}\n",
            "{'ner': 326.9568063020706}\n",
            "{'ner': 553.1855725049973}\n",
            "{'ner': 612.7356301546097}\n",
            "{'ner': 670.4684582948685}\n",
            "{'ner': 759.8311048746109}\n",
            "{'ner': 877.374875664711}\n",
            "{'ner': 914.2295737862587}\n",
            "{'ner': 139.5545699596405}\n",
            "{'ner': 191.07890343666077}\n",
            "{'ner': 262.0014078617096}\n",
            "{'ner': 430.5700294971466}\n",
            "{'ner': 545.324734210968}\n",
            "{'ner': 635.3881816864014}\n",
            "{'ner': 699.0878238677979}\n",
            "{'ner': 834.9973735809326}\n",
            "{'ner': 924.4100499153137}\n",
            "{'ner': 933.0767592936754}\n",
            "{'ner': 73.06089687347412}\n",
            "{'ner': 260.69203519821167}\n",
            "{'ner': 358.7939076423645}\n",
            "{'ner': 460.3208050727844}\n",
            "{'ner': 533.0940964221954}\n",
            "{'ner': 659.7645828723907}\n",
            "{'ner': 747.8533651828766}\n",
            "{'ner': 814.3400368690491}\n",
            "{'ner': 911.4065361022949}\n",
            "{'ner': 924.5598597377539}\n",
            "{'ner': 65.77051877975464}\n",
            "{'ner': 194.97040355205536}\n",
            "{'ner': 282.6189168691635}\n",
            "{'ner': 445.15097749233246}\n",
            "{'ner': 549.8298423290253}\n",
            "{'ner': 683.288804769516}\n",
            "{'ner': 773.3426988124847}\n",
            "{'ner': 818.3888313770294}\n",
            "{'ner': 901.9069356918335}\n",
            "{'ner': 939.3195096105337}\n",
            "{'ner': 92.08898663520813}\n",
            "{'ner': 189.86926198005676}\n",
            "{'ner': 302.0204041004181}\n",
            "{'ner': 407.5530025959015}\n",
            "{'ner': 479.1405117511749}\n",
            "{'ner': 630.2630064487457}\n",
            "{'ner': 737.5433784723282}\n",
            "{'ner': 804.6836708784103}\n",
            "{'ner': 907.0166100263596}\n",
            "{'ner': 914.224455177784}\n",
            "{'ner': 114.55279350280762}\n",
            "{'ner': 186.8031096458435}\n",
            "{'ner': 266.8661642074585}\n",
            "{'ner': 373.7147455215454}\n",
            "{'ner': 461.28527545928955}\n",
            "{'ner': 652.3456859588623}\n",
            "{'ner': 780.0117416381836}\n",
            "{'ner': 838.7408666610718}\n",
            "{'ner': 941.0417680740356}\n",
            "{'ner': 961.2889643386006}\n",
            "{'ner': 112.49607801437378}\n",
            "{'ner': 214.90784573554993}\n",
            "{'ner': 288.29465413093567}\n",
            "{'ner': 344.6682803630829}\n",
            "{'ner': 486.74531054496765}\n",
            "{'ner': 586.9549729824066}\n",
            "{'ner': 670.9968864917755}\n",
            "{'ner': 777.7655556201935}\n",
            "{'ner': 889.9168870449066}\n",
            "{'ner': 920.4787635207176}\n",
            "{'ner': 51.584187030792236}\n",
            "{'ner': 137.46715688705444}\n",
            "{'ner': 224.90483236312866}\n",
            "{'ner': 354.0986792445183}\n",
            "{'ner': 457.25110882520676}\n",
            "{'ner': 526.8433994650841}\n",
            "{'ner': 595.2686550021172}\n",
            "{'ner': 767.3044974207878}\n",
            "{'ner': 889.5003058314323}\n",
            "{'ner': 926.428896037396}\n",
            "{'ner': 86.36581492424011}\n",
            "{'ner': 286.6137092113495}\n",
            "{'ner': 344.5101034641266}\n",
            "{'ner': 458.4807325601578}\n",
            "{'ner': 549.1654201745987}\n",
            "{'ner': 660.063297867775}\n",
            "{'ner': 748.8798509836197}\n",
            "{'ner': 844.3221827745438}\n",
            "{'ner': 902.7233380079269}\n",
            "{'ner': 912.9123278781772}\n",
            "{'ner': 83.02809381484985}\n",
            "{'ner': 155.36870956420898}\n",
            "{'ner': 247.20563507080078}\n",
            "{'ner': 452.80546951293945}\n",
            "{'ner': 516.3593156337738}\n",
            "{'ner': 611.2607057094574}\n",
            "{'ner': 712.4132525920868}\n",
            "{'ner': 830.3343625068665}\n",
            "{'ner': 908.7677450180054}\n",
            "{'ner': 931.3814196884632}\n",
            "{'ner': 95.22418630123138}\n",
            "{'ner': 185.05849134922028}\n",
            "{'ner': 335.4411264657974}\n",
            "{'ner': 426.24656450748444}\n",
            "{'ner': 556.0066682100296}\n",
            "{'ner': 664.2925087213516}\n",
            "{'ner': 728.2585226297379}\n",
            "{'ner': 801.5815979242325}\n",
            "{'ner': 908.5130177736282}\n",
            "{'ner': 946.902549754479}\n",
            "{'ner': 90.65780687332153}\n",
            "{'ner': 192.00651121139526}\n",
            "{'ner': 395.5079302787781}\n",
            "{'ner': 455.96624279022217}\n",
            "{'ner': 529.5042243003845}\n",
            "{'ner': 630.0791027545929}\n",
            "{'ner': 741.7574450969696}\n",
            "{'ner': 810.4856169223785}\n",
            "{'ner': 926.5424976348877}\n",
            "{'ner': 929.1921163602201}\n",
            "{'ner': 142.6216104030609}\n",
            "{'ner': 187.4661672115326}\n",
            "{'ner': 275.9194242954254}\n",
            "{'ner': 399.2063112258911}\n",
            "{'ner': 473.9144678115845}\n",
            "{'ner': 544.4927248954773}\n",
            "{'ner': 626.7998027801514}\n",
            "{'ner': 726.7312359809875}\n",
            "{'ner': 821.4110479354858}\n",
            "{'ner': 925.321814417839}\n",
            "{'ner': 82.43542671203613}\n",
            "{'ner': 170.96918201446533}\n",
            "{'ner': 277.7762522697449}\n",
            "{'ner': 382.7265820503235}\n",
            "{'ner': 446.0254055261612}\n",
            "{'ner': 603.2155872583389}\n",
            "{'ner': 691.3963824510574}\n",
            "{'ner': 813.3492541313171}\n",
            "{'ner': 887.8434040546417}\n",
            "{'ner': 908.4480235204101}\n",
            "{'ner': 48.61561894416809}\n",
            "{'ner': 137.09430599212646}\n",
            "{'ner': 236.88981235027313}\n",
            "{'ner': 386.3856180906296}\n",
            "{'ner': 452.8652082681656}\n",
            "{'ner': 559.5158058404922}\n",
            "{'ner': 655.5685240030289}\n",
            "{'ner': 811.5934656858444}\n",
            "{'ner': 892.0323494672775}\n",
            "{'ner': 921.5806208724389}\n",
            "{'ner': 103.26404190063477}\n",
            "{'ner': 184.08033227920532}\n",
            "{'ner': 311.768675327301}\n",
            "{'ner': 369.6979146003723}\n",
            "{'ner': 518.0082578659058}\n",
            "{'ner': 616.2474031448364}\n",
            "{'ner': 690.551112651825}\n",
            "{'ner': 782.7840740680695}\n",
            "{'ner': 864.4730513095856}\n",
            "{'ner': 914.2333648479398}\n",
            "{'ner': 92.59550786018372}\n",
            "{'ner': 197.59667444229126}\n",
            "{'ner': 311.6777757406235}\n",
            "{'ner': 453.1501523256302}\n",
            "{'ner': 493.14802849292755}\n",
            "{'ner': 642.8216677904129}\n",
            "{'ner': 737.1395045518875}\n",
            "{'ner': 784.5971428155899}\n",
            "{'ner': 876.9700697660446}\n",
            "{'ner': 906.0885103688342}\n",
            "{'ner': 136.38948440551758}\n",
            "{'ner': 235.5597050189972}\n",
            "{'ner': 345.45357489585876}\n",
            "{'ner': 423.49277234077454}\n",
            "{'ner': 507.4216077327728}\n",
            "{'ner': 609.0672256946564}\n",
            "{'ner': 721.8447363376617}\n",
            "{'ner': 810.7123787403107}\n",
            "{'ner': 861.9307463169098}\n",
            "{'ner': 898.0586662888527}\n",
            "{'ner': 78.53988456726074}\n",
            "{'ner': 169.68032836914062}\n",
            "{'ner': 306.2674045562744}\n",
            "{'ner': 381.600462436676}\n",
            "{'ner': 461.4683666229248}\n",
            "{'ner': 551.4470481872559}\n",
            "{'ner': 619.829864025116}\n",
            "{'ner': 738.331885933876}\n",
            "{'ner': 877.4906097650528}\n",
            "{'ner': 883.5583338891156}\n",
            "{'ner': 101.95952486991882}\n",
            "{'ner': 173.94602608680725}\n",
            "{'ner': 277.1735165119171}\n",
            "{'ner': 468.4911859035492}\n",
            "{'ner': 572.7892692089081}\n",
            "{'ner': 672.255628824234}\n",
            "{'ner': 770.1508958339691}\n",
            "{'ner': 847.8344786167145}\n",
            "{'ner': 911.3474051952362}\n",
            "{'ner': 924.5778219029307}\n",
            "{'ner': 68.65797901153564}\n",
            "{'ner': 124.41236639022827}\n",
            "{'ner': 179.20791959762573}\n",
            "{'ner': 365.1383032798767}\n",
            "{'ner': 440.6915512084961}\n",
            "{'ner': 530.4644742012024}\n",
            "{'ner': 656.1633155345917}\n",
            "{'ner': 771.1675229072571}\n",
            "{'ner': 885.480028629303}\n",
            "{'ner': 914.5362602770329}\n",
            "{'ner': 203.0972409248352}\n",
            "{'ner': 322.6719195842743}\n",
            "{'ner': 392.4533212184906}\n",
            "{'ner': 503.5873453617096}\n",
            "{'ner': 574.034017086029}\n",
            "{'ner': 692.591926574707}\n",
            "{'ner': 765.7000975608826}\n",
            "{'ner': 826.5524015426636}\n",
            "{'ner': 904.9285349845886}\n",
            "{'ner': 914.959095223996}\n",
            "{'ner': 83.93843102455139}\n",
            "{'ner': 187.16743922233582}\n",
            "{'ner': 243.3937804698944}\n",
            "{'ner': 302.3124883174896}\n",
            "{'ner': 412.51785826683044}\n",
            "{'ner': 482.44514203071594}\n",
            "{'ner': 696.8945486545563}\n",
            "{'ner': 800.2789688110352}\n",
            "{'ner': 886.5087461471558}\n",
            "{'ner': 912.8486301116645}\n",
            "{'ner': 190.53429222106934}\n",
            "{'ner': 246.2254695892334}\n",
            "{'ner': 328.78974533081055}\n",
            "{'ner': 431.8505883216858}\n",
            "{'ner': 500.2119200229645}\n",
            "{'ner': 598.8596904277802}\n",
            "{'ner': 679.7529113292694}\n",
            "{'ner': 765.3079507350922}\n",
            "{'ner': 884.6776348352432}\n",
            "{'ner': 912.541950052313}\n",
            "{'ner': 118.24556255340576}\n",
            "{'ner': 301.110671043396}\n",
            "{'ner': 392.1261830329895}\n",
            "{'ner': 531.4897611141205}\n",
            "{'ner': 598.1843082904816}\n",
            "{'ner': 695.0647642612457}\n",
            "{'ner': 747.600204706192}\n",
            "{'ner': 853.5299062728882}\n",
            "{'ner': 910.6836061477661}\n",
            "{'ner': 947.6302765922155}\n",
            "{'ner': 144.80358457565308}\n",
            "{'ner': 249.76082825660706}\n",
            "{'ner': 314.72024750709534}\n",
            "{'ner': 413.7804391384125}\n",
            "{'ner': 570.0754735469818}\n",
            "{'ner': 620.1389424800873}\n",
            "{'ner': 738.9232931137085}\n",
            "{'ner': 831.9558374881744}\n",
            "{'ner': 901.7748243808746}\n",
            "{'ner': 936.3637992420408}\n",
            "{'ner': 88.64300441741943}\n",
            "{'ner': 290.5023226737976}\n",
            "{'ner': 358.1982922554016}\n",
            "{'ner': 412.2781095504761}\n",
            "{'ner': 470.3126525878906}\n",
            "{'ner': 552.6225075721741}\n",
            "{'ner': 659.6885163784027}\n",
            "{'ner': 742.2955276966095}\n",
            "{'ner': 870.0786210298538}\n",
            "{'ner': 912.2255812194198}\n",
            "{'ner': 112.69253587722778}\n",
            "{'ner': 194.86880540847778}\n",
            "{'ner': 264.2610592842102}\n",
            "{'ner': 450.67254543304443}\n",
            "{'ner': 582.4967439174652}\n",
            "{'ner': 667.3235166072845}\n",
            "{'ner': 738.3664307594299}\n",
            "{'ner': 839.4170331954956}\n",
            "{'ner': 909.0896973609924}\n",
            "{'ner': 919.050034513406}\n",
            "{'ner': 69.04811954498291}\n",
            "{'ner': 188.70330691337585}\n",
            "{'ner': 251.40785956382751}\n",
            "{'ner': 349.67729663848877}\n",
            "{'ner': 415.23483657836914}\n",
            "{'ner': 498.02278900146484}\n",
            "{'ner': 682.0376987457275}\n",
            "{'ner': 766.9607996940613}\n",
            "{'ner': 873.2263133525848}\n",
            "{'ner': 892.9049552604556}\n",
            "{'ner': 61.65953254699707}\n",
            "{'ner': 260.4484214782715}\n",
            "{'ner': 348.18229484558105}\n",
            "{'ner': 462.52997386455536}\n",
            "{'ner': 564.540048956871}\n",
            "{'ner': 644.7193225622177}\n",
            "{'ner': 749.2401783466339}\n",
            "{'ner': 805.1146700382233}\n",
            "{'ner': 895.8857009410858}\n",
            "{'ner': 933.2292514783621}\n",
            "{'ner': 89.26420783996582}\n",
            "{'ner': 134.2437653541565}\n",
            "{'ner': 251.89822578430176}\n",
            "{'ner': 430.60145807266235}\n",
            "{'ner': 496.94162702560425}\n",
            "{'ner': 608.4801833629608}\n",
            "{'ner': 682.1263144016266}\n",
            "{'ner': 775.4392075538635}\n",
            "{'ner': 883.3467717170715}\n",
            "{'ner': 909.0995113924146}\n",
            "{'ner': 68.39988660812378}\n",
            "{'ner': 233.2903814315796}\n",
            "{'ner': 335.759831905365}\n",
            "{'ner': 424.7538318634033}\n",
            "{'ner': 511.4886245727539}\n",
            "{'ner': 629.1195883750916}\n",
            "{'ner': 710.7854075431824}\n",
            "{'ner': 784.6999793052673}\n",
            "{'ner': 857.5805039405823}\n",
            "{'ner': 882.9609429338598}\n",
            "{'ner': 64.94237327575684}\n",
            "{'ner': 137.53688979148865}\n",
            "{'ner': 240.83182573318481}\n",
            "{'ner': 357.135449886322}\n",
            "{'ner': 423.7330915927887}\n",
            "{'ner': 506.8499505519867}\n",
            "{'ner': 619.9141507148743}\n",
            "{'ner': 784.2214465141296}\n",
            "{'ner': 877.6297979354858}\n",
            "{'ner': 892.8318765585636}\n",
            "{'ner': 101.16624593734741}\n",
            "{'ner': 163.43106043338776}\n",
            "{'ner': 205.99047338962555}\n",
            "{'ner': 307.7345210313797}\n",
            "{'ner': 390.4621020555496}\n",
            "{'ner': 513.7356189489365}\n",
            "{'ner': 684.1168082952499}\n",
            "{'ner': 786.4045876264572}\n",
            "{'ner': 887.5417729616165}\n",
            "{'ner': 899.0963183820713}\n",
            "{'ner': 123.46236526966095}\n",
            "{'ner': 203.3023396730423}\n",
            "{'ner': 253.94698441028595}\n",
            "{'ner': 422.9980994462967}\n",
            "{'ner': 515.5057965517044}\n",
            "{'ner': 589.6885429620743}\n",
            "{'ner': 704.365761756897}\n",
            "{'ner': 772.539523601532}\n",
            "{'ner': 868.7301299571991}\n",
            "{'ner': 883.0233863982139}\n",
            "{'ner': 97.61919641494751}\n",
            "{'ner': 153.95878314971924}\n",
            "{'ner': 265.7687773704529}\n",
            "{'ner': 312.5245203971863}\n",
            "{'ner': 434.1740860939026}\n",
            "{'ner': 588.9247584342957}\n",
            "{'ner': 649.3145184516907}\n",
            "{'ner': 763.1907362937927}\n",
            "{'ner': 874.0487725734711}\n",
            "{'ner': 929.1651688814163}\n"
          ],
          "name": "stdout"
        }
      ]
    },
    {
      "cell_type": "code",
      "metadata": {
        "id": "VgFoa_qg27IU",
        "colab_type": "code",
        "colab": {
          "base_uri": "https://localhost:8080/",
          "height": 34
        },
        "outputId": "52bdb3fc-621e-4c38-8740-1fa288c3ff86"
      },
      "source": [
        "pwd"
      ],
      "execution_count": 375,
      "outputs": [
        {
          "output_type": "execute_result",
          "data": {
            "text/plain": [
              "'/gdrive/My Drive/abv_reviews'"
            ]
          },
          "metadata": {
            "tags": []
          },
          "execution_count": 375
        }
      ]
    },
    {
      "cell_type": "code",
      "metadata": {
        "id": "BdUe0QHS2huF",
        "colab_type": "code",
        "colab": {}
      },
      "source": [
        "nlp.to_disk('trained_model_2020_01_06')"
      ],
      "execution_count": 0,
      "outputs": []
    },
    {
      "cell_type": "code",
      "metadata": {
        "id": "KCPrsik34Q-t",
        "colab_type": "code",
        "colab": {}
      },
      "source": [
        ""
      ],
      "execution_count": 0,
      "outputs": []
    },
    {
      "cell_type": "code",
      "metadata": {
        "id": "dbAF30d_JDj2",
        "colab_type": "code",
        "outputId": "85cb56e7-0e5a-4dc8-e366-88d07eba83b1",
        "colab": {
          "base_uri": "https://localhost:8080/",
          "height": 622
        }
      },
      "source": [
        "\n",
        "\n",
        "\n",
        "\n",
        "# get names of other pipes to disable them during training\n",
        "other_pipes = [pipe for pipe in nlp.pipe_names if pipe not in [\"ner\"]]\n",
        "with nlp.disable_pipes(*other_pipes):  # only train NER\n",
        "    # reset and initialize the weights randomly – but only if we're\n",
        "    # training a new model\n",
        "    if model is None:\n",
        "        nlp.begin_training()\n",
        "\n",
        "\n",
        "\n",
        "    for itn in range(100):\n",
        "      random.shuffle(to_train_ents)\n",
        "      losses = {}\n",
        "# batch up the examples using spaCy's minibatch\n",
        "      batches = minibatch(to_train_ents, size=compounding(4.0, 32.0, 1.001))\n",
        "\n",
        "      for batch in batches:\n",
        "        texts, annotations = zip(*batch)\n",
        "#        gold = GoldParse(texts, entities=entities)\n",
        "        print(texts)\n",
        "        print(annotations)\n",
        "        nlp.update(texts, annotations, drop=0.5, losses=losses)\n",
        "        print(losses)"
      ],
      "execution_count": 311,
      "outputs": [
        {
          "output_type": "stream",
          "text": [
            "(Add the soy sauce, meat(s), eggs, and all vegetables save for the onions and bean sprouts.\n",
            ", Add the wine. A hot pan will cause the alcohol to evaporate more quickly (and create a nice dramatic effect), but make sure you don't burn the rice or the soffritto.\n",
            ", Left over risotto is not particularly nice reheated on its own. So as not to waste the leftovers, you can form day old risotto into cakes or patties, coat them in flour and shallow fry them in olive oil, making risotto cakes. This can be served with a salad.\n",
            ", Add a generous amount of oil to a large frying pan, more than you think you'd need to avoid sticking. If using a type of sausage or other excessively fatty meat, not as much oil may be needed because of the amount of fat.\n",
            ")\n",
            "({'entities': [(8, 11, 'condiment'), (12, 17, 'condiment'), (28, 32, 'dish'), (66, 72, 'vegetable'), (77, 81, 'vegetable'), (82, 89, 'vegetable')]}, {'entities': [(8, 12, 'beverage'), (143, 147, 'dish'), (155, 164, 'dish')]}, {'entities': [(10, 17, 'dish'), (111, 114, 'TIME'), (119, 126, 'dish'), (132, 137, 'dish'), (141, 148, 'dish'), (193, 198, 'condiment'), (199, 202, 'condiment'), (211, 218, 'dish'), (219, 224, 'dish'), (252, 257, 'dish')]}, {'entities': [(25, 28, 'condiment'), (121, 128, 'dish'), (156, 160, 'dish'), (174, 177, 'condiment')]})\n"
          ],
          "name": "stdout"
        },
        {
          "output_type": "error",
          "ename": "ValueError",
          "evalue": "ignored",
          "traceback": [
            "\u001b[0;31m---------------------------------------------------------------------------\u001b[0m",
            "\u001b[0;31mValueError\u001b[0m                                Traceback (most recent call last)",
            "\u001b[0;32m<ipython-input-311-a758de7ed955>\u001b[0m in \u001b[0;36m<module>\u001b[0;34m()\u001b[0m\n\u001b[1;32m     19\u001b[0m         \u001b[0mprint\u001b[0m\u001b[0;34m(\u001b[0m\u001b[0mtexts\u001b[0m\u001b[0;34m)\u001b[0m\u001b[0;34m\u001b[0m\u001b[0;34m\u001b[0m\u001b[0m\n\u001b[1;32m     20\u001b[0m         \u001b[0mprint\u001b[0m\u001b[0;34m(\u001b[0m\u001b[0mannotations\u001b[0m\u001b[0;34m)\u001b[0m\u001b[0;34m\u001b[0m\u001b[0;34m\u001b[0m\u001b[0m\n\u001b[0;32m---> 21\u001b[0;31m         \u001b[0mnlp\u001b[0m\u001b[0;34m.\u001b[0m\u001b[0mupdate\u001b[0m\u001b[0;34m(\u001b[0m\u001b[0mtexts\u001b[0m\u001b[0;34m,\u001b[0m \u001b[0mannotations\u001b[0m\u001b[0;34m,\u001b[0m \u001b[0mdrop\u001b[0m\u001b[0;34m=\u001b[0m\u001b[0;36m0.5\u001b[0m\u001b[0;34m,\u001b[0m \u001b[0mlosses\u001b[0m\u001b[0;34m=\u001b[0m\u001b[0mlosses\u001b[0m\u001b[0;34m)\u001b[0m\u001b[0;34m\u001b[0m\u001b[0;34m\u001b[0m\u001b[0m\n\u001b[0m\u001b[1;32m     22\u001b[0m         \u001b[0mprint\u001b[0m\u001b[0;34m(\u001b[0m\u001b[0mlosses\u001b[0m\u001b[0;34m)\u001b[0m\u001b[0;34m\u001b[0m\u001b[0;34m\u001b[0m\u001b[0m\n",
            "\u001b[0;32m/usr/local/lib/python3.6/dist-packages/spacy/language.py\u001b[0m in \u001b[0;36mupdate\u001b[0;34m(self, docs, golds, drop, sgd, losses, component_cfg)\u001b[0m\n\u001b[1;32m    473\u001b[0m             \u001b[0mkwargs\u001b[0m \u001b[0;34m=\u001b[0m \u001b[0mcomponent_cfg\u001b[0m\u001b[0;34m.\u001b[0m\u001b[0mget\u001b[0m\u001b[0;34m(\u001b[0m\u001b[0mname\u001b[0m\u001b[0;34m,\u001b[0m \u001b[0;34m{\u001b[0m\u001b[0;34m}\u001b[0m\u001b[0;34m)\u001b[0m\u001b[0;34m\u001b[0m\u001b[0;34m\u001b[0m\u001b[0m\n\u001b[1;32m    474\u001b[0m             \u001b[0mkwargs\u001b[0m\u001b[0;34m.\u001b[0m\u001b[0msetdefault\u001b[0m\u001b[0;34m(\u001b[0m\u001b[0;34m\"drop\"\u001b[0m\u001b[0;34m,\u001b[0m \u001b[0mdrop\u001b[0m\u001b[0;34m)\u001b[0m\u001b[0;34m\u001b[0m\u001b[0;34m\u001b[0m\u001b[0m\n\u001b[0;32m--> 475\u001b[0;31m             \u001b[0mproc\u001b[0m\u001b[0;34m.\u001b[0m\u001b[0mupdate\u001b[0m\u001b[0;34m(\u001b[0m\u001b[0mdocs\u001b[0m\u001b[0;34m,\u001b[0m \u001b[0mgolds\u001b[0m\u001b[0;34m,\u001b[0m \u001b[0msgd\u001b[0m\u001b[0;34m=\u001b[0m\u001b[0mget_grads\u001b[0m\u001b[0;34m,\u001b[0m \u001b[0mlosses\u001b[0m\u001b[0;34m=\u001b[0m\u001b[0mlosses\u001b[0m\u001b[0;34m,\u001b[0m \u001b[0;34m**\u001b[0m\u001b[0mkwargs\u001b[0m\u001b[0;34m)\u001b[0m\u001b[0;34m\u001b[0m\u001b[0;34m\u001b[0m\u001b[0m\n\u001b[0m\u001b[1;32m    476\u001b[0m             \u001b[0;32mfor\u001b[0m \u001b[0mkey\u001b[0m\u001b[0;34m,\u001b[0m \u001b[0;34m(\u001b[0m\u001b[0mW\u001b[0m\u001b[0;34m,\u001b[0m \u001b[0mdW\u001b[0m\u001b[0;34m)\u001b[0m \u001b[0;32min\u001b[0m \u001b[0mgrads\u001b[0m\u001b[0;34m.\u001b[0m\u001b[0mitems\u001b[0m\u001b[0;34m(\u001b[0m\u001b[0;34m)\u001b[0m\u001b[0;34m:\u001b[0m\u001b[0;34m\u001b[0m\u001b[0;34m\u001b[0m\u001b[0m\n\u001b[1;32m    477\u001b[0m                 \u001b[0msgd\u001b[0m\u001b[0;34m(\u001b[0m\u001b[0mW\u001b[0m\u001b[0;34m,\u001b[0m \u001b[0mdW\u001b[0m\u001b[0;34m,\u001b[0m \u001b[0mkey\u001b[0m\u001b[0;34m=\u001b[0m\u001b[0mkey\u001b[0m\u001b[0;34m)\u001b[0m\u001b[0;34m\u001b[0m\u001b[0;34m\u001b[0m\u001b[0m\n",
            "\u001b[0;32mnn_parser.pyx\u001b[0m in \u001b[0;36mspacy.syntax.nn_parser.Parser.update\u001b[0;34m()\u001b[0m\n",
            "\u001b[0;32mnn_parser.pyx\u001b[0m in \u001b[0;36mspacy.syntax.nn_parser.Parser._init_gold_batch\u001b[0;34m()\u001b[0m\n",
            "\u001b[0;32mtransition_system.pyx\u001b[0m in \u001b[0;36mspacy.syntax.transition_system.TransitionSystem.get_oracle_sequence\u001b[0;34m()\u001b[0m\n",
            "\u001b[0;32mtransition_system.pyx\u001b[0m in \u001b[0;36mspacy.syntax.transition_system.TransitionSystem.set_costs\u001b[0;34m()\u001b[0m\n",
            "\u001b[0;31mValueError\u001b[0m: [E024] Could not find an optimal move to supervise the parser. Usually, this means that the model can't be updated in a way that's valid and satisfies the correct annotations specified in the GoldParse. For example, are all labels added to the model? If you're training a named entity recognizer, also make sure that none of your annotated entity spans have leading or trailing whitespace. You can also use the experimental `debug-data` command to validate your JSON-formatted training data. For details, run:\npython -m spacy debug-data --help"
          ]
        }
      ]
    },
    {
      "cell_type": "code",
      "metadata": {
        "id": "jYtboMrPlg8P",
        "colab_type": "code",
        "colab": {
          "base_uri": "https://localhost:8080/",
          "height": 434
        },
        "outputId": "c8136ca8-730a-4bdf-ecb0-da57854638ae"
      },
      "source": [
        "ner.labels"
      ],
      "execution_count": 83,
      "outputs": [
        {
          "output_type": "execute_result",
          "data": {
            "text/plain": [
              "('PRODUCT',\n",
              " 'PERCENT',\n",
              " 'dish',\n",
              " 'LANGUAGE',\n",
              " 'condiment',\n",
              " 'LOC',\n",
              " 'FAC',\n",
              " 'ORDINAL',\n",
              " 'herb',\n",
              " 'NORP',\n",
              " 'MONEY',\n",
              " 'CARDINAL',\n",
              " 'spice',\n",
              " 'QUANTITY',\n",
              " 'beverage',\n",
              " 'TIME',\n",
              " 'ORG',\n",
              " 'EVENT',\n",
              " 'PERSON',\n",
              " 'LAW',\n",
              " 'DATE',\n",
              " 'GPE',\n",
              " 'vegetable',\n",
              " 'WORK_OF_ART')"
            ]
          },
          "metadata": {
            "tags": []
          },
          "execution_count": 83
        }
      ]
    },
    {
      "cell_type": "code",
      "metadata": {
        "id": "CjEG8qcSl8Hm",
        "colab_type": "code",
        "colab": {
          "base_uri": "https://localhost:8080/",
          "height": 34
        },
        "outputId": "95216172-fdb6-4814-e052-6b9338a9c8f9"
      },
      "source": [
        "[tup for tup in to_train_ents if tup[0] == 'condimentU_spice']"
      ],
      "execution_count": 108,
      "outputs": [
        {
          "output_type": "execute_result",
          "data": {
            "text/plain": [
              "[]"
            ]
          },
          "metadata": {
            "tags": []
          },
          "execution_count": 108
        }
      ]
    },
    {
      "cell_type": "code",
      "metadata": {
        "id": "bsq_QetblDtu",
        "colab_type": "code",
        "colab": {
          "base_uri": "https://localhost:8080/",
          "height": 34
        },
        "outputId": "fe362980-0f03-419d-e7df-d1b4b7c8bd84"
      },
      "source": [
        "to_train_ents[5][1]['entities']"
      ],
      "execution_count": 105,
      "outputs": [
        {
          "output_type": "execute_result",
          "data": {
            "text/plain": [
              "[(235, 242, 'dish')]"
            ]
          },
          "metadata": {
            "tags": []
          },
          "execution_count": 105
        }
      ]
    },
    {
      "cell_type": "code",
      "metadata": {
        "id": "38LD8ZsWjkZ1",
        "colab_type": "code",
        "colab": {}
      },
      "source": [
        "import re\n",
        "\n",
        "\n",
        "def trim_entity_spans(data: list) -> list:\n",
        "    \"\"\"Removes leading and trailing white spaces from entity spans.\n",
        "\n",
        "    Args:\n",
        "        data (list): The data to be cleaned in spaCy JSON format.\n",
        "\n",
        "    Returns:\n",
        "        list: The cleaned data.\n",
        "    \"\"\"\n",
        "    invalid_span_tokens = re.compile(r'\\s')\n",
        "\n",
        "    cleaned_data = []\n",
        "    for text, annotations in data:\n",
        "        entities = annotations['entities']\n",
        "\n",
        "        print(text, annotations)\n",
        "        valid_entities = []\n",
        "        for start, end, label in entities:\n",
        "          valid_start = start\n",
        "          valid_end = end\n",
        "          print(valid_start, valid_end, len(text))\n",
        "          while valid_start < len(text) and invalid_span_tokens.match(text[valid_start]):\n",
        "            valid_start += 1\n",
        "          while valid_end > 1 and invalid_span_tokens.match(text[valid_end - 1]):\n",
        "            valid_end -= 1\n",
        "          valid_entities.append([valid_start, valid_end, label])\n",
        "        cleaned_data.append([text, {'entities': valid_entities}])\n",
        "\n",
        "    return cleaned_data"
      ],
      "execution_count": 0,
      "outputs": []
    },
    {
      "cell_type": "code",
      "metadata": {
        "id": "OkwkkIwToFSn",
        "colab_type": "code",
        "colab": {}
      },
      "source": [
        ""
      ],
      "execution_count": 0,
      "outputs": []
    },
    {
      "cell_type": "code",
      "metadata": {
        "id": "vDFC8HNykeuc",
        "colab_type": "code",
        "colab": {
          "base_uri": "https://localhost:8080/",
          "height": 1000
        },
        "outputId": "653cc9b4-6ac2-40c1-b741-918d6933bc14"
      },
      "source": [
        "clean_train_ents = trim_entity_spans(to_train_ents)\n"
      ],
      "execution_count": 369,
      "outputs": [
        {
          "output_type": "stream",
          "text": [
            "If using tofu, cook it.\n",
            " {'entities': [(9, 13, 'dish')]}\n",
            "9 13 24\n",
            "Cook the rice as you normally would, but be careful not to use too much water. The rice should not be too sticky. It may help to let the cooked rice sit overnight in the refrigerator.\n",
            " {'entities': [(9, 13, 'dish'), (83, 87, 'dish'), (144, 148, 'dish')]}\n",
            "9 13 184\n",
            "83 87 184\n",
            "144 148 184\n",
            "If using onions, dice them into whatever size you prefer.\n",
            " {'entities': [(9, 15, 'vegetable')]}\n",
            "9 15 58\n",
            "If using bok choy, separate the stalk part from the leaf part. Slice the leaf part crosswise into 3/4-inch-thick strips, then tear the strips into 2-inch pieces. These pieces will be treated much like the bean sprouts, though perhaps with slightly more cooking. The stalk part will be treated as celery.\n",
            " {'entities': [(9, 12, 'vegetable'), (13, 17, 'vegetable'), (98, 106, 'QUANTITY'), (147, 153, 'QUANTITY'), (205, 209, 'vegetable'), (210, 217, 'vegetable'), (296, 302, 'vegetable')]}\n",
            "9 12 304\n",
            "13 17 304\n",
            "98 106 304\n",
            "147 153 304\n",
            "205 209 304\n",
            "210 217 304\n",
            "296 302 304\n",
            "If using bean sprouts, wash them and discard any that are not white and crunchy.\n",
            " {'entities': [(9, 13, 'vegetable'), (14, 21, 'vegetable')]}\n",
            "9 13 81\n",
            "14 21 81\n",
            "If using meat, slice into desired sized pieces and cook.\n",
            " {'entities': [(9, 13, 'dish')]}\n",
            "9 13 57\n",
            "Add a generous amount of oil to a large frying pan, more than you think you'd need to avoid sticking. If using a type of sausage or other excessively fatty meat, not as much oil may be needed because of the amount of fat.\n",
            " {'entities': [(25, 28, 'condiment'), (121, 128, 'dish'), (156, 160, 'dish'), (174, 177, 'condiment')]}\n",
            "25 28 222\n",
            "121 128 222\n",
            "156 160 222\n",
            "174 177 222\n",
            "Add the rice. Cook over the stove on medium high to high heat.\n",
            " {'entities': [(8, 12, 'dish')]}\n",
            "8 12 63\n",
            "Add the soy sauce, meat(s), eggs, and all vegetables save for the onions and bean sprouts.\n",
            " {'entities': [(8, 11, 'condiment'), (12, 17, 'condiment'), (28, 32, 'dish'), (66, 72, 'vegetable'), (77, 81, 'vegetable'), (82, 89, 'vegetable')]}\n",
            "8 11 91\n",
            "12 17 91\n",
            "28 32 91\n",
            "66 72 91\n",
            "77 81 91\n",
            "82 89 91\n",
            "Add pepper, a pinch or two of sugar, and optionally some added salt.\n",
            " {'entities': [(4, 10, 'condiment'), (23, 26, 'CARDINAL'), (30, 35, 'condiment'), (63, 67, 'condiment')]}\n",
            "4 10 69\n",
            "23 26 69\n",
            "30 35 69\n",
            "63 67 69\n",
            "Add the tofu, bean sprouts, and onion when the rice is almost done (depending on how fried you want them) being careful not to overcook them.\n",
            " {'entities': [(8, 12, 'dish'), (14, 18, 'vegetable'), (19, 26, 'vegetable'), (32, 37, 'vegetable'), (47, 51, 'dish')]}\n",
            "8 12 142\n",
            "14 18 142\n",
            "19 26 142\n",
            "32 37 142\n",
            "47 51 142\n",
            "Make sure your stock is simmering before you begin. It's important that the temperature is as high as possible, without letting the stock boil. The surface of the stock should just be moving a little. A large thick pot is best for the risotto.\n",
            " {'entities': [(235, 242, 'dish')]}\n",
            "235 242 244\n",
            "Finely chop the onion and sweat it very gently (cook over medium heat, without letting it brown) in some butter or olive oil. This is known as a soffritto in Italy.\n",
            " {'entities': [(16, 21, 'vegetable'), (105, 111, 'condiment'), (115, 120, 'condiment'), (121, 124, 'condiment'), (145, 154, 'dish')]}\n",
            "16 21 165\n",
            "105 111 165\n",
            "115 120 165\n",
            "121 124 165\n",
            "145 154 165\n",
            "Add the rice and cook until it has a transparent look (this shouldn't take long). Add some salt and pepper.\n",
            " {'entities': [(8, 12, 'dish'), (91, 95, 'condiment'), (100, 106, 'condiment')]}\n",
            "8 12 108\n",
            "91 95 108\n",
            "100 106 108\n",
            "Add the wine. A hot pan will cause the alcohol to evaporate more quickly (and create a nice dramatic effect), but make sure you don't burn the rice or the soffritto.\n",
            " {'entities': [(8, 12, 'beverage'), (143, 147, 'dish'), (155, 164, 'dish')]}\n",
            "8 12 166\n",
            "143 147 166\n",
            "155 164 166\n",
            "As the wine cooks away you will see the remaining liquid getting thicker as it's absorbing the starch from the rice. When it’s more or less gone, add some stock. Do not add too much stock. The rice should never be submerged in stock. Keep stirring it and keep adding more stock as it cooks away. This should take about 15 to 20 minutes.\n",
            " {'entities': [(7, 11, 'beverage'), (111, 115, 'dish'), (193, 197, 'dish'), (328, 335, 'TIME')]}\n",
            "7 11 337\n",
            "111 115 337\n",
            "193 197 337\n",
            "328 335 337\n",
            "Taste to see if the rice is done. The rice should be soft, but have enough bite to it to feel the individual grains of rice. The choice between a liquid risotto or a firmer one is a matter of personal preference.\n",
            " {'entities': [(20, 24, 'dish'), (38, 42, 'dish'), (119, 123, 'dish'), (153, 160, 'dish'), (173, 176, 'CARDINAL')]}\n",
            "20 24 213\n",
            "38 42 213\n",
            "119 123 213\n",
            "153 160 213\n",
            "173 176 213\n",
            "When put on a plate, it should spread out slowly. If it sits still, it needs some more stock; if there's liquid coming from the risotto, it needs to cook down a bit more.\n",
            " {'entities': [(128, 135, 'dish')]}\n",
            "128 135 171\n",
            "Let it rest for about a minute\n",
            " {'entities': [(24, 30, 'TIME')]}\n",
            "24 30 31\n",
            "Vigorously stir in the butter in small chunks at the time, taste to get the amount of butter right. Season with more salt and pepper to taste. This phase is called the mantecatura.\n",
            " {'entities': [(23, 29, 'condiment'), (86, 92, 'condiment'), (117, 121, 'condiment'), (126, 132, 'condiment')]}\n",
            "23 29 181\n",
            "86 92 181\n",
            "117 121 181\n",
            "126 132 181\n",
            "Serve immediately. Risotto won't keep beyond the meal, but rehydrating it with some soup or stock can yield edible results.\n",
            " {'entities': [(19, 26, 'dish'), (84, 88, 'dish')]}\n",
            "19 26 124\n",
            "84 88 124\n",
            "With risotto, practice makes perfect because there are many factors that influence the outcome. Experiment with several varieties of rice, choose the one you like best and then fine-tune the various parameters like cooking temperature, selection of the proper pot, the amount and timing of seasonings etc.\n",
            " {'entities': [(5, 12, 'dish'), (133, 137, 'dish'), (150, 153, 'CARDINAL')]}\n",
            "5 12 306\n",
            "133 137 306\n",
            "150 153 306\n",
            "This is only the most basic risotto recipe. Add ingredients only at the beginning (through the soffritto, when they need to cook with the rice) or at the very end in the mantecura (for ingredients that lose their flavour with too much cooking, such as herbs). If you want to use ingredients that require a very specific cooking time, like potatoes or broccoli, it's best to blanch them in advance, and add them to the risotto at the very end. It's very difficult to add them to the risotto halfway so that they will be cooked perfectly when the risotto is done. If you want the flavour of the stock to be present in these ingredients, blanch them in the stock. For some ingredients, like mushrooms, the cooking time isn't extremely important. These can simply be added to the risotto somewhere along the line.\n",
            " {'entities': [(28, 35, 'dish'), (95, 104, 'dish'), (138, 142, 'dish'), (252, 257, 'condiment'), (339, 347, 'vegetable'), (351, 359, 'vegetable'), (418, 425, 'dish'), (482, 489, 'dish'), (545, 552, 'dish'), (776, 783, 'dish')]}\n",
            "28 35 810\n",
            "95 104 810\n",
            "138 142 810\n",
            "252 257 810\n",
            "339 347 810\n",
            "351 359 810\n",
            "418 425 810\n",
            "482 489 810\n",
            "545 552 810\n",
            "776 783 810\n",
            "A common mistake in making risotto is to add too much of the extra ingredients. The star of the dish is the rice, and only very little else is needed.\n",
            " {'entities': [(27, 34, 'dish'), (108, 112, 'dish')]}\n",
            "27 34 151\n",
            "108 112 151\n",
            "Ingredients added at the last moment will be laced with butter. This can have a negative impact on the effect of some delicate ingredients, like garden cress.\n",
            " {'entities': [(25, 29, 'ORDINAL'), (56, 62, 'condiment'), (152, 157, 'herb')]}\n",
            "25 29 159\n",
            "56 62 159\n",
            "152 157 159\n",
            "Think of risotto as a way of making stock edible with a fork: the quality of the stock you use is the most important factor in the quality of your risotto.\n",
            " {'entities': [(9, 16, 'dish'), (147, 154, 'dish')]}\n",
            "9 16 156\n",
            "147 154 156\n",
            "Saffron added to the stock is risotto alla Milanese.\n",
            " {'entities': [(0, 7, 'spice'), (30, 37, 'dish')]}\n",
            "0 7 53\n",
            "30 37 53\n",
            "If you are using some sweet ingredients, such as pumpkin, you may want to consider using leek instead of onion, to balance the taste.\n",
            " {'entities': [(49, 56, 'vegetable'), (89, 93, 'vegetable'), (105, 110, 'vegetable')]}\n",
            "49 56 134\n",
            "89 93 134\n",
            "105 110 134\n",
            "Using large roasted breadcrumbs instead of parmesan cheese will create a nice contrast in texture with the risotto. Put the breadcrumbs on top of the risotto at the last minute and don't stir, or they will soak up too much moisture and lose their crunch.\n",
            " {'entities': [(20, 31, 'dish'), (43, 51, 'dish'), (52, 58, 'dish'), (107, 114, 'dish'), (124, 135, 'dish'), (150, 157, 'dish'), (165, 169, 'ORDINAL'), (170, 176, 'TIME')]}\n",
            "20 31 255\n",
            "43 51 255\n",
            "52 58 255\n",
            "107 114 255\n",
            "124 135 255\n",
            "150 157 255\n",
            "165 169 255\n",
            "170 176 255\n",
            "After step 3 you can move the contents into a rice cooker with the stock and left to its own devices to finish it off. The end result isn't quite as good, but the saving in effort makes it worthwhile.\n",
            " {'entities': [(11, 12, 'CARDINAL'), (46, 50, 'dish')]}\n",
            "11 12 201\n",
            "46 50 201\n",
            "Left over risotto is not particularly nice reheated on its own. So as not to waste the leftovers, you can form day old risotto into cakes or patties, coat them in flour and shallow fry them in olive oil, making risotto cakes. This can be served with a salad.\n",
            " {'entities': [(10, 17, 'dish'), (111, 114, 'TIME'), (119, 126, 'dish'), (132, 137, 'dish'), (141, 148, 'dish'), (193, 198, 'condiment'), (199, 202, 'condiment'), (211, 218, 'dish'), (219, 224, 'dish'), (252, 257, 'dish')]}\n",
            "10 17 259\n",
            "111 114 259\n",
            "119 126 259\n",
            "132 137 259\n",
            "141 148 259\n",
            "193 198 259\n",
            "199 202 259\n",
            "211 218 259\n",
            "219 224 259\n",
            "252 257 259\n",
            "When really pressed for time, the following procedure will produce a reasonable semblance of risotto within ten minutes:\n",
            " {'entities': [(93, 100, 'dish'), (108, 111, 'CARDINAL'), (112, 119, 'TIME')]}\n",
            "93 100 121\n",
            "108 111 121\n",
            "112 119 121\n",
            "Place a pot over strong heat and pour in the stock to boil. You will need twice as much stock as the rice to be cooked (e.g. two cups of stock for one cup of dry rice).\n",
            " {'entities': [(101, 105, 'dish'), (125, 128, 'CARDINAL'), (147, 150, 'CARDINAL'), (162, 166, 'dish')]}\n",
            "101 105 169\n",
            "125 128 169\n",
            "147 150 169\n",
            "162 166 169\n",
            "Place a second pot over strong heat and drop in some butter.\n",
            " {'entities': [(8, 14, 'ORDINAL'), (53, 59, 'condiment')]}\n",
            "8 14 61\n",
            "53 59 61\n",
            "Once the butter in the first pot has melted, pour in the rice and start sautéing it, stirring continuously with a wooden spoon. The butter will soon start to froth. Extra seasonings can also be added at this point.\n",
            " {'entities': [(9, 15, 'condiment'), (23, 28, 'ORDINAL'), (57, 61, 'dish'), (132, 138, 'condiment')]}\n",
            "9 15 215\n",
            "23 28 215\n",
            "57 61 215\n",
            "132 138 215\n",
            "By this time, the stock will have started boiling. Pour it into the pot with the rice (caution: this produces hot steam suddenly), stir well to make sure that no rice has stuck on the inside of the pot, cover the pot and switch off the heat.\n",
            " {'entities': [(81, 85, 'dish'), (162, 166, 'dish')]}\n",
            "81 85 242\n",
            "162 166 242\n",
            "Leave alone for five to seven minutes, then serve. {'entities': [(16, 20, 'CARDINAL'), (24, 29, 'CARDINAL'), (30, 37, 'TIME')]}\n",
            "16 20 50\n",
            "24 29 50\n",
            "30 37 50\n"
          ],
          "name": "stdout"
        }
      ]
    },
    {
      "cell_type": "code",
      "metadata": {
        "id": "NCUOKquNzoh0",
        "colab_type": "code",
        "colab": {
          "base_uri": "https://localhost:8080/",
          "height": 1000
        },
        "outputId": "12bf07b4-67ee-4a45-f72f-ce9653d7e6b4"
      },
      "source": [
        "clean_train_ents"
      ],
      "execution_count": 370,
      "outputs": [
        {
          "output_type": "execute_result",
          "data": {
            "text/plain": [
              "[['If using tofu, cook it.\\n', {'entities': [[9, 13, 'dish']]}],\n",
              " ['Cook the rice as you normally would, but be careful not to use too much water. The rice should not be too sticky. It may help to let the cooked rice sit overnight in the refrigerator.\\n',\n",
              "  {'entities': [[9, 13, 'dish'], [83, 87, 'dish'], [144, 148, 'dish']]}],\n",
              " ['If using onions, dice them into whatever size you prefer.\\n',\n",
              "  {'entities': [[9, 15, 'vegetable']]}],\n",
              " ['If using bok choy, separate the stalk part from the leaf part. Slice the leaf part crosswise into 3/4-inch-thick strips, then tear the strips into 2-inch pieces. These pieces will be treated much like the bean sprouts, though perhaps with slightly more cooking. The stalk part will be treated as celery.\\n',\n",
              "  {'entities': [[9, 12, 'vegetable'],\n",
              "    [13, 17, 'vegetable'],\n",
              "    [98, 106, 'QUANTITY'],\n",
              "    [147, 153, 'QUANTITY'],\n",
              "    [205, 209, 'vegetable'],\n",
              "    [210, 217, 'vegetable'],\n",
              "    [296, 302, 'vegetable']]}],\n",
              " ['If using bean sprouts, wash them and discard any that are not white and crunchy.\\n',\n",
              "  {'entities': [[9, 13, 'vegetable'], [14, 21, 'vegetable']]}],\n",
              " ['If using meat, slice into desired sized pieces and cook.\\n',\n",
              "  {'entities': [[9, 13, 'dish']]}],\n",
              " [\"Add a generous amount of oil to a large frying pan, more than you think you'd need to avoid sticking. If using a type of sausage or other excessively fatty meat, not as much oil may be needed because of the amount of fat.\\n\",\n",
              "  {'entities': [[25, 28, 'condiment'],\n",
              "    [121, 128, 'dish'],\n",
              "    [156, 160, 'dish'],\n",
              "    [174, 177, 'condiment']]}],\n",
              " ['Add the rice. Cook over the stove on medium high to high heat.\\n',\n",
              "  {'entities': [[8, 12, 'dish']]}],\n",
              " ['Add the soy sauce, meat(s), eggs, and all vegetables save for the onions and bean sprouts.\\n',\n",
              "  {'entities': [[8, 11, 'condiment'],\n",
              "    [12, 17, 'condiment'],\n",
              "    [28, 32, 'dish'],\n",
              "    [66, 72, 'vegetable'],\n",
              "    [77, 81, 'vegetable'],\n",
              "    [82, 89, 'vegetable']]}],\n",
              " ['Add pepper, a pinch or two of sugar, and optionally some added salt.\\n',\n",
              "  {'entities': [[4, 10, 'condiment'],\n",
              "    [23, 26, 'CARDINAL'],\n",
              "    [30, 35, 'condiment'],\n",
              "    [63, 67, 'condiment']]}],\n",
              " ['Add the tofu, bean sprouts, and onion when the rice is almost done (depending on how fried you want them) being careful not to overcook them.\\n',\n",
              "  {'entities': [[8, 12, 'dish'],\n",
              "    [14, 18, 'vegetable'],\n",
              "    [19, 26, 'vegetable'],\n",
              "    [32, 37, 'vegetable'],\n",
              "    [47, 51, 'dish']]}],\n",
              " [\"Make sure your stock is simmering before you begin. It's important that the temperature is as high as possible, without letting the stock boil. The surface of the stock should just be moving a little. A large thick pot is best for the risotto.\\n\",\n",
              "  {'entities': [[235, 242, 'dish']]}],\n",
              " ['Finely chop the onion and sweat it very gently (cook over medium heat, without letting it brown) in some butter or olive oil. This is known as a soffritto in Italy.\\n',\n",
              "  {'entities': [[16, 21, 'vegetable'],\n",
              "    [105, 111, 'condiment'],\n",
              "    [115, 120, 'condiment'],\n",
              "    [121, 124, 'condiment'],\n",
              "    [145, 154, 'dish']]}],\n",
              " [\"Add the rice and cook until it has a transparent look (this shouldn't take long). Add some salt and pepper.\\n\",\n",
              "  {'entities': [[8, 12, 'dish'],\n",
              "    [91, 95, 'condiment'],\n",
              "    [100, 106, 'condiment']]}],\n",
              " [\"Add the wine. A hot pan will cause the alcohol to evaporate more quickly (and create a nice dramatic effect), but make sure you don't burn the rice or the soffritto.\\n\",\n",
              "  {'entities': [[8, 12, 'beverage'], [143, 147, 'dish'], [155, 164, 'dish']]}],\n",
              " [\"As the wine cooks away you will see the remaining liquid getting thicker as it's absorbing the starch from the rice. When it’s more or less gone, add some stock. Do not add too much stock. The rice should never be submerged in stock. Keep stirring it and keep adding more stock as it cooks away. This should take about 15 to 20 minutes.\\n\",\n",
              "  {'entities': [[7, 11, 'beverage'],\n",
              "    [111, 115, 'dish'],\n",
              "    [193, 197, 'dish'],\n",
              "    [328, 335, 'TIME']]}],\n",
              " ['Taste to see if the rice is done. The rice should be soft, but have enough bite to it to feel the individual grains of rice. The choice between a liquid risotto or a firmer one is a matter of personal preference.\\n',\n",
              "  {'entities': [[20, 24, 'dish'],\n",
              "    [38, 42, 'dish'],\n",
              "    [119, 123, 'dish'],\n",
              "    [153, 160, 'dish'],\n",
              "    [173, 176, 'CARDINAL']]}],\n",
              " [\"When put on a plate, it should spread out slowly. If it sits still, it needs some more stock; if there's liquid coming from the risotto, it needs to cook down a bit more.\\n\",\n",
              "  {'entities': [[128, 135, 'dish']]}],\n",
              " ['Let it rest for about a minute\\n', {'entities': [[24, 30, 'TIME']]}],\n",
              " ['Vigorously stir in the butter in small chunks at the time, taste to get the amount of butter right. Season with more salt and pepper to taste. This phase is called the mantecatura.\\n',\n",
              "  {'entities': [[23, 29, 'condiment'],\n",
              "    [86, 92, 'condiment'],\n",
              "    [117, 121, 'condiment'],\n",
              "    [126, 132, 'condiment']]}],\n",
              " [\"Serve immediately. Risotto won't keep beyond the meal, but rehydrating it with some soup or stock can yield edible results.\\n\",\n",
              "  {'entities': [[19, 26, 'dish'], [84, 88, 'dish']]}],\n",
              " ['With risotto, practice makes perfect because there are many factors that influence the outcome. Experiment with several varieties of rice, choose the one you like best and then fine-tune the various parameters like cooking temperature, selection of the proper pot, the amount and timing of seasonings etc.\\n',\n",
              "  {'entities': [[5, 12, 'dish'], [133, 137, 'dish'], [150, 153, 'CARDINAL']]}],\n",
              " [\"This is only the most basic risotto recipe. Add ingredients only at the beginning (through the soffritto, when they need to cook with the rice) or at the very end in the mantecura (for ingredients that lose their flavour with too much cooking, such as herbs). If you want to use ingredients that require a very specific cooking time, like potatoes or broccoli, it's best to blanch them in advance, and add them to the risotto at the very end. It's very difficult to add them to the risotto halfway so that they will be cooked perfectly when the risotto is done. If you want the flavour of the stock to be present in these ingredients, blanch them in the stock. For some ingredients, like mushrooms, the cooking time isn't extremely important. These can simply be added to the risotto somewhere along the line.\\n\",\n",
              "  {'entities': [[28, 35, 'dish'],\n",
              "    [95, 104, 'dish'],\n",
              "    [138, 142, 'dish'],\n",
              "    [252, 257, 'condiment'],\n",
              "    [339, 347, 'vegetable'],\n",
              "    [351, 359, 'vegetable'],\n",
              "    [418, 425, 'dish'],\n",
              "    [482, 489, 'dish'],\n",
              "    [545, 552, 'dish'],\n",
              "    [776, 783, 'dish']]}],\n",
              " ['A common mistake in making risotto is to add too much of the extra ingredients. The star of the dish is the rice, and only very little else is needed.\\n',\n",
              "  {'entities': [[27, 34, 'dish'], [108, 112, 'dish']]}],\n",
              " ['Ingredients added at the last moment will be laced with butter. This can have a negative impact on the effect of some delicate ingredients, like garden cress.\\n',\n",
              "  {'entities': [[25, 29, 'ORDINAL'],\n",
              "    [56, 62, 'condiment'],\n",
              "    [152, 157, 'herb']]}],\n",
              " ['Think of risotto as a way of making stock edible with a fork: the quality of the stock you use is the most important factor in the quality of your risotto.\\n',\n",
              "  {'entities': [[9, 16, 'dish'], [147, 154, 'dish']]}],\n",
              " ['Saffron added to the stock is risotto alla Milanese.\\n',\n",
              "  {'entities': [[0, 7, 'spice'], [30, 37, 'dish']]}],\n",
              " ['If you are using some sweet ingredients, such as pumpkin, you may want to consider using leek instead of onion, to balance the taste.\\n',\n",
              "  {'entities': [[49, 56, 'vegetable'],\n",
              "    [89, 93, 'vegetable'],\n",
              "    [105, 110, 'vegetable']]}],\n",
              " [\"Using large roasted breadcrumbs instead of parmesan cheese will create a nice contrast in texture with the risotto. Put the breadcrumbs on top of the risotto at the last minute and don't stir, or they will soak up too much moisture and lose their crunch.\\n\",\n",
              "  {'entities': [[20, 31, 'dish'],\n",
              "    [43, 51, 'dish'],\n",
              "    [52, 58, 'dish'],\n",
              "    [107, 114, 'dish'],\n",
              "    [124, 135, 'dish'],\n",
              "    [150, 157, 'dish'],\n",
              "    [165, 169, 'ORDINAL'],\n",
              "    [170, 176, 'TIME']]}],\n",
              " [\"After step 3 you can move the contents into a rice cooker with the stock and left to its own devices to finish it off. The end result isn't quite as good, but the saving in effort makes it worthwhile.\\n\",\n",
              "  {'entities': [[11, 12, 'CARDINAL'], [46, 50, 'dish']]}],\n",
              " ['Left over risotto is not particularly nice reheated on its own. So as not to waste the leftovers, you can form day old risotto into cakes or patties, coat them in flour and shallow fry them in olive oil, making risotto cakes. This can be served with a salad.\\n',\n",
              "  {'entities': [[10, 17, 'dish'],\n",
              "    [111, 114, 'TIME'],\n",
              "    [119, 126, 'dish'],\n",
              "    [132, 137, 'dish'],\n",
              "    [141, 148, 'dish'],\n",
              "    [193, 198, 'condiment'],\n",
              "    [199, 202, 'condiment'],\n",
              "    [211, 218, 'dish'],\n",
              "    [219, 224, 'dish'],\n",
              "    [252, 257, 'dish']]}],\n",
              " ['When really pressed for time, the following procedure will produce a reasonable semblance of risotto within ten minutes:\\n',\n",
              "  {'entities': [[93, 100, 'dish'],\n",
              "    [108, 111, 'CARDINAL'],\n",
              "    [112, 119, 'TIME']]}],\n",
              " ['Place a pot over strong heat and pour in the stock to boil. You will need twice as much stock as the rice to be cooked (e.g. two cups of stock for one cup of dry rice).\\n',\n",
              "  {'entities': [[101, 105, 'dish'],\n",
              "    [125, 128, 'CARDINAL'],\n",
              "    [147, 150, 'CARDINAL'],\n",
              "    [162, 166, 'dish']]}],\n",
              " ['Place a second pot over strong heat and drop in some butter.\\n',\n",
              "  {'entities': [[8, 14, 'ORDINAL'], [53, 59, 'condiment']]}],\n",
              " ['Once the butter in the first pot has melted, pour in the rice and start sautéing it, stirring continuously with a wooden spoon. The butter will soon start to froth. Extra seasonings can also be added at this point.\\n',\n",
              "  {'entities': [[9, 15, 'condiment'],\n",
              "    [23, 28, 'ORDINAL'],\n",
              "    [57, 61, 'dish'],\n",
              "    [132, 138, 'condiment']]}],\n",
              " ['By this time, the stock will have started boiling. Pour it into the pot with the rice (caution: this produces hot steam suddenly), stir well to make sure that no rice has stuck on the inside of the pot, cover the pot and switch off the heat.\\n',\n",
              "  {'entities': [[81, 85, 'dish'], [162, 166, 'dish']]}],\n",
              " ['Leave alone for five to seven minutes, then serve.',\n",
              "  {'entities': [[16, 20, 'CARDINAL'],\n",
              "    [24, 29, 'CARDINAL'],\n",
              "    [30, 37, 'TIME']]}]]"
            ]
          },
          "metadata": {
            "tags": []
          },
          "execution_count": 370
        }
      ]
    },
    {
      "cell_type": "code",
      "metadata": {
        "id": "NxItMMnE8Leo",
        "colab_type": "code",
        "outputId": "029e8ed1-e70d-4997-c917-2f34e420ebb8",
        "colab": {
          "base_uri": "https://localhost:8080/",
          "height": 69
        }
      },
      "source": [
        "doc1 = nlp(\"I love fettuccine cheese 💚🌿 but hate rice, bok choy  and onion.\")\n",
        "print([(ent.text, ent.label_, ent.ent_id_) for ent in doc1.ents])\n",
        "\n",
        "displacy.render(doc1,'ent',jupyter=True)"
      ],
      "execution_count": 88,
      "outputs": [
        {
          "output_type": "stream",
          "text": [
            "[]\n"
          ],
          "name": "stdout"
        },
        {
          "output_type": "display_data",
          "data": {
            "text/html": [
              "<div class=\"entities\" style=\"line-height: 2.5; direction: ltr\">I love fettuccine cheese 💚🌿 but hate rice, bok choy  and onion.</div>"
            ],
            "text/plain": [
              "<IPython.core.display.HTML object>"
            ]
          },
          "metadata": {
            "tags": []
          }
        }
      ]
    },
    {
      "cell_type": "code",
      "metadata": {
        "id": "YgIZnwVSPdcU",
        "colab_type": "code",
        "outputId": "5d4ac33c-5ca6-452a-af77-b82bcb135e1c",
        "colab": {
          "base_uri": "https://localhost:8080/",
          "height": 69
        }
      },
      "source": [
        "doc1 = nlp(\"I love fettuccine cheese 💚🌿 but hate rice, bok choy  and onion.\")\n",
        "print([(ent.text, ent.label_, ent.ent_id_) for ent in doc1.ents])\n",
        "\n",
        "displacy.render(doc1,'ent',jupyter=True)\n"
      ],
      "execution_count": 0,
      "outputs": [
        {
          "output_type": "stream",
          "text": [
            "[('rice', 'dish', ''), ('bok', 'dish', ''), ('onion', 'dish', '')]\n"
          ],
          "name": "stdout"
        },
        {
          "output_type": "display_data",
          "data": {
            "text/html": [
              "<div class=\"entities\" style=\"line-height: 2.5; direction: ltr\">I love fettuccine cheese 💚🌿 but hate \n",
              "<mark class=\"entity\" style=\"background: #ddd; padding: 0.45em 0.6em; margin: 0 0.25em; line-height: 1; border-radius: 0.35em; box-decoration-break: clone; -webkit-box-decoration-break: clone\">\n",
              "    rice\n",
              "    <span style=\"font-size: 0.8em; font-weight: bold; line-height: 1; border-radius: 0.35em; text-transform: uppercase; vertical-align: middle; margin-left: 0.5rem\">dish</span>\n",
              "</mark>\n",
              ", \n",
              "<mark class=\"entity\" style=\"background: #ddd; padding: 0.45em 0.6em; margin: 0 0.25em; line-height: 1; border-radius: 0.35em; box-decoration-break: clone; -webkit-box-decoration-break: clone\">\n",
              "    bok\n",
              "    <span style=\"font-size: 0.8em; font-weight: bold; line-height: 1; border-radius: 0.35em; text-transform: uppercase; vertical-align: middle; margin-left: 0.5rem\">dish</span>\n",
              "</mark>\n",
              " choy  and \n",
              "<mark class=\"entity\" style=\"background: #ddd; padding: 0.45em 0.6em; margin: 0 0.25em; line-height: 1; border-radius: 0.35em; box-decoration-break: clone; -webkit-box-decoration-break: clone\">\n",
              "    onion\n",
              "    <span style=\"font-size: 0.8em; font-weight: bold; line-height: 1; border-radius: 0.35em; text-transform: uppercase; vertical-align: middle; margin-left: 0.5rem\">dish</span>\n",
              "</mark>\n",
              ".</div>"
            ],
            "text/plain": [
              "<IPython.core.display.HTML object>"
            ]
          },
          "metadata": {
            "tags": []
          }
        }
      ]
    },
    {
      "cell_type": "code",
      "metadata": {
        "id": "RhSAnp01Pn2M",
        "colab_type": "code",
        "outputId": "28968891-fde5-445c-a6c2-b6d3ad60fd9f",
        "colab": {
          "base_uri": "https://localhost:8080/",
          "height": 452
        }
      },
      "source": [
        "ner.labels"
      ],
      "execution_count": 0,
      "outputs": [
        {
          "output_type": "execute_result",
          "data": {
            "text/plain": [
              "('GPE',\n",
              " 'herb',\n",
              " 'condiment',\n",
              " 'ORDINAL',\n",
              " 'PERCENT',\n",
              " 'LAW',\n",
              " 'LANGUAGE',\n",
              " 'MONEY',\n",
              " 'PERSON',\n",
              " 'LOC',\n",
              " 'fruit',\n",
              " 'dish',\n",
              " 'WORK_OF_ART',\n",
              " 'CARDINAL',\n",
              " 'bread',\n",
              " 'spice',\n",
              " 'ORG',\n",
              " 'PRODUCT',\n",
              " 'DATE',\n",
              " 'TIME',\n",
              " 'QUANTITY',\n",
              " 'NORP',\n",
              " 'EVENT',\n",
              " 'FAC',\n",
              " 'vegetable')"
            ]
          },
          "metadata": {
            "tags": []
          },
          "execution_count": 255
        }
      ]
    },
    {
      "cell_type": "code",
      "metadata": {
        "id": "7KhVRVQyMNGb",
        "colab_type": "code",
        "outputId": "4c92166f-cdfd-4d2b-9239-13fe319b74c6",
        "colab": {
          "base_uri": "https://localhost:8080/",
          "height": 1000
        }
      },
      "source": [
        "for _, annotations in to_train_ents:\n",
        "    for ent in annotations.get(\"entities\"):\n",
        "        print(ent[2])"
      ],
      "execution_count": 0,
      "outputs": [
        {
          "output_type": "stream",
          "text": [
            "dish\n",
            "dish\n",
            "dish\n",
            "dish\n",
            "dish\n",
            "condiment\n",
            "dish\n",
            "vegetable\n",
            "vegetable\n",
            "TIME\n",
            "condiment\n",
            "CARDINAL\n",
            "dish\n",
            "condiment\n",
            "dish\n",
            "ORDINAL\n",
            "TIME\n",
            "dish\n",
            "dish\n",
            "CARDINAL\n",
            "condiment\n",
            "dish\n",
            "ORDINAL\n",
            "ORDINAL\n",
            "dish\n",
            "dish\n",
            "dish\n",
            "dish\n",
            "vegetable\n",
            "vegetable\n",
            "condiment\n",
            "condiment\n",
            "condiment\n",
            "dish\n",
            "dish\n",
            "dish\n",
            "dish\n",
            "vegetable\n",
            "vegetable\n",
            "dish\n",
            "dish\n",
            "dish\n",
            "dish\n",
            "dish\n",
            "dish\n",
            "dish\n",
            "dish\n",
            "ORDINAL\n",
            "dish\n",
            "dish\n",
            "dish\n",
            "dish\n",
            "condiment\n",
            "dish\n",
            "dish\n",
            "vegetable\n",
            "vegetable\n",
            "vegetable\n",
            "dish\n",
            "dish\n",
            "dish\n",
            "CARDINAL\n",
            "CARDINAL\n",
            "TIME\n",
            "spice\n",
            "dish\n",
            "dish\n",
            "condiment\n",
            "dish\n",
            "ORDINAL\n",
            "ORDINAL\n",
            "TIME\n",
            "condiment\n",
            "vegetable\n",
            "vegetable\n",
            "vegetable\n",
            "dish\n",
            "condiment\n",
            "dish\n",
            "dish\n",
            "dish\n",
            "CARDINAL\n",
            "TIME\n",
            "dish\n",
            "dish\n",
            "dish\n",
            "vegetable\n",
            "vegetable\n",
            "dish\n",
            "dish\n",
            "dish\n",
            "dish\n",
            "dish\n",
            "vegetable\n",
            "condiment\n",
            "dish\n",
            "GPE\n"
          ],
          "name": "stdout"
        }
      ]
    },
    {
      "cell_type": "code",
      "metadata": {
        "id": "NPWgMs1rO_YQ",
        "colab_type": "code",
        "outputId": "c574fc44-5b66-43fa-cba1-21e8fb523766",
        "colab": {
          "base_uri": "https://localhost:8080/",
          "height": 34
        }
      },
      "source": [
        "check = np.random.randint(0,1000,10)\n",
        "print(check)\n",
        "\n"
      ],
      "execution_count": 379,
      "outputs": [
        {
          "output_type": "stream",
          "text": [
            "[589 595 386 476 882 141 977 479 612 319]\n"
          ],
          "name": "stdout"
        }
      ]
    },
    {
      "cell_type": "code",
      "metadata": {
        "id": "iYZu9gT44yem",
        "colab_type": "code",
        "colab": {
          "base_uri": "https://localhost:8080/",
          "height": 208
        },
        "outputId": "916c01c9-e7fa-40ae-e9d6-ca3830b2e1f0"
      },
      "source": [
        "texts[check]"
      ],
      "execution_count": 384,
      "outputs": [
        {
          "output_type": "execute_result",
          "data": {
            "text/plain": [
              "589    I ordered the high rise pizza dough, red sauce...\n",
              "595    Spinach and pumpkin flavoured ravioli was an e...\n",
              "386    The vegan options to customize my salad are aw...\n",
              "476    I love that the restaurant has a good range of...\n",
              "882    Like I said ordered 3 different types of dimsu...\n",
              "141    One of my favorite food at WDSB! Various types...\n",
              "977    This place hand dips their corn dogs in their ...\n",
              "479    This dish was a terrible disappointment. The r...\n",
              "612    As a vegan this is about as good as it gets fo...\n",
              "319    A rich but not overly creamy soup. Very refres...\n",
              "Name: text, dtype: object"
            ]
          },
          "metadata": {
            "tags": []
          },
          "execution_count": 384
        }
      ]
    },
    {
      "cell_type": "code",
      "metadata": {
        "id": "MRph2bgh5WOs",
        "colab_type": "code",
        "colab": {
          "base_uri": "https://localhost:8080/",
          "height": 34
        },
        "outputId": "5adcce3c-7e68-43d5-a76c-4322e78e43fb"
      },
      "source": [
        "nlp.pipe_names"
      ],
      "execution_count": 386,
      "outputs": [
        {
          "output_type": "execute_result",
          "data": {
            "text/plain": [
              "['tagger', 'parser', 'ner']"
            ]
          },
          "metadata": {
            "tags": []
          },
          "execution_count": 386
        }
      ]
    },
    {
      "cell_type": "code",
      "metadata": {
        "id": "_b90bE1v5_bf",
        "colab_type": "code",
        "colab": {}
      },
      "source": [
        "train_rev = (rev for rev in texts)"
      ],
      "execution_count": 0,
      "outputs": []
    },
    {
      "cell_type": "code",
      "metadata": {
        "id": "ibbugGYc6GiC",
        "colab_type": "code",
        "colab": {
          "base_uri": "https://localhost:8080/",
          "height": 34
        },
        "outputId": "9bbd605c-f59f-42bd-c09c-64064d47c2bb"
      },
      "source": [
        "type(train_rev)"
      ],
      "execution_count": 388,
      "outputs": [
        {
          "output_type": "execute_result",
          "data": {
            "text/plain": [
              "generator"
            ]
          },
          "metadata": {
            "tags": []
          },
          "execution_count": 388
        }
      ]
    },
    {
      "cell_type": "code",
      "metadata": {
        "id": "DdEsXdFB8VVJ",
        "colab_type": "code",
        "colab": {
          "base_uri": "https://localhost:8080/",
          "height": 34
        },
        "outputId": "9a733ca0-6dad-4d8d-8fad-5bf4f766bdab"
      },
      "source": [
        "[tup[1] for tup in ent_list + check_list if tup[0] == 'rendang']"
      ],
      "execution_count": 397,
      "outputs": [
        {
          "output_type": "execute_result",
          "data": {
            "text/plain": [
              "['U_dish']"
            ]
          },
          "metadata": {
            "tags": []
          },
          "execution_count": 397
        }
      ]
    },
    {
      "cell_type": "code",
      "metadata": {
        "id": "g-b1X22C6QC0",
        "colab_type": "code",
        "colab": {
          "base_uri": "https://localhost:8080/",
          "height": 365
        },
        "outputId": "52ebfbcd-96cd-43e8-a470-49d2a48ed6dc"
      },
      "source": [
        "rev = next(train_rev)\n",
        "tok_list = [token.text for token in nlp(rev)] \n",
        "#print(rev, tok_list)\n",
        "tag_list = ['O' for token in nlp(rev)]\n",
        "#print(tag_list)\n",
        "matched_ents = [(i,item) for i, item in enumerate(tok_list) if item.lower() in [i[0] for i in ent_list + check_list]] \n",
        "print(matched_ents)\n",
        "\n",
        "for ent in matched_ents:\n",
        "  ent_tag = ''.join(list(set([tup[1] for tup in ent_list + check_list if tup[0] == ent[1].lower()])))\n",
        "  print(ent[0], ent[1], ent_tag)\n",
        "  tag_list[ent[0]] = ent_tag\n",
        "\n",
        "#print(tag_list)\n",
        "entities = offsets_from_biluo_tags(nlp(rev), tag_list)\n",
        "print(entities)\n",
        "to_train_ents.append((rev, dict(entities = entities)))\n",
        "displacy.render(nlp(rev),'ent',jupyter=True)\n",
        "#print(rev, entities)\n",
        "\n",
        "#displacy.render(l,'dep',jupyter=True)\n",
        "\n",
        "n_entities_to_be_added = int(input(\"How many entities are missing: \"))\n",
        "if n_entities_to_be_added == 0:\n",
        "  print('You entered {} Thanks. So no new entities to be considered'.format(n_entities_to_be_added))\n",
        "else:\n",
        "  for user_input in range(n_entities_to_be_added):\n",
        "    e_name = input('Provide the name of the entity to be added: ')\n",
        "    e_label = input('Provide the label of the entity to be added:')\n",
        "    print(e_name, 'U_'+e_label)\n",
        "    check_list.append((e_name, 'U_'+e_label))"
      ],
      "execution_count": 425,
      "outputs": [
        {
          "output_type": "stream",
          "text": [
            "[(2, 'falafel'), (14, 'falafel'), (27, 'potato'), (34, 'garlic'), (72, 'sauce'), (77, 'eggs'), (80, 'salad'), (87, 'onions')]\n",
            "2 falafel U_dish\n",
            "14 falafel U_dish\n",
            "27 potato U_vegetable\n",
            "34 garlic U_spiceU_vegetable\n",
            "72 sauce U_condiment\n",
            "77 eggs U_dish\n",
            "80 salad U_dish\n",
            "87 onions U_vegetable\n",
            "[(12, 19, 'dish'), (83, 90, 'dish'), (157, 163, 'vegetable'), (198, 204, 'spiceU_vegetable'), (376, 381, 'condiment'), (403, 407, 'dish'), (411, 416, 'dish'), (444, 450, 'vegetable')]\n"
          ],
          "name": "stdout"
        },
        {
          "output_type": "display_data",
          "data": {
            "text/html": [
              "<div class=\"entities\" style=\"line-height: 2.5; direction: ltr\">UrbanBites' falafel wrap came lightly toasted and packed with a balanced spread of falafel and greens. Accompanying the wrap was a generous portion of sweet \n",
              "<mark class=\"entity\" style=\"background: #ddd; padding: 0.45em 0.6em; margin: 0 0.25em; line-height: 1; border-radius: 0.35em; box-decoration-break: clone; -webkit-box-decoration-break: clone\">\n",
              "    potato\n",
              "    <span style=\"font-size: 0.8em; font-weight: bold; line-height: 1; border-radius: 0.35em; text-transform: uppercase; vertical-align: middle; margin-left: 0.5rem\">vegetable</span>\n",
              "</mark>\n",
              " fries which came with a delicious \n",
              "<mark class=\"entity\" style=\"background: #ddd; padding: 0.45em 0.6em; margin: 0 0.25em; line-height: 1; border-radius: 0.35em; box-decoration-break: clone; -webkit-box-decoration-break: clone\">\n",
              "    garlic\n",
              "    <span style=\"font-size: 0.8em; font-weight: bold; line-height: 1; border-radius: 0.35em; text-transform: uppercase; vertical-align: middle; margin-left: 0.5rem\">dish</span>\n",
              "</mark>\n",
              " dip--the creamy and full texture of the dip prompted me to check with the staff to confirm that it was \n",
              "<mark class=\"entity\" style=\"background: #ddd; padding: 0.45em 0.6em; margin: 0 0.25em; line-height: 1; border-radius: 0.35em; box-decoration-break: clone; -webkit-box-decoration-break: clone\">\n",
              "    vegan\n",
              "    <span style=\"font-size: 0.8em; font-weight: bold; line-height: 1; border-radius: 0.35em; text-transform: uppercase; vertical-align: middle; margin-left: 0.5rem\">dish</span>\n",
              "</mark>\n",
              ", and I was surprised that they were able to craft such a rich \n",
              "<mark class=\"entity\" style=\"background: #ddd; padding: 0.45em 0.6em; margin: 0 0.25em; line-height: 1; border-radius: 0.35em; box-decoration-break: clone; -webkit-box-decoration-break: clone\">\n",
              "    sauce\n",
              "    <span style=\"font-size: 0.8em; font-weight: bold; line-height: 1; border-radius: 0.35em; text-transform: uppercase; vertical-align: middle; margin-left: 0.5rem\">dish</span>\n",
              "</mark>\n",
              " without any dairy or \n",
              "<mark class=\"entity\" style=\"background: #ddd; padding: 0.45em 0.6em; margin: 0 0.25em; line-height: 1; border-radius: 0.35em; box-decoration-break: clone; -webkit-box-decoration-break: clone\">\n",
              "    eggs\n",
              "    <span style=\"font-size: 0.8em; font-weight: bold; line-height: 1; border-radius: 0.35em; text-transform: uppercase; vertical-align: middle; margin-left: 0.5rem\">dish</span>\n",
              "</mark>\n",
              ". A \n",
              "<mark class=\"entity\" style=\"background: #ddd; padding: 0.45em 0.6em; margin: 0 0.25em; line-height: 1; border-radius: 0.35em; box-decoration-break: clone; -webkit-box-decoration-break: clone\">\n",
              "    salad\n",
              "    <span style=\"font-size: 0.8em; font-weight: bold; line-height: 1; border-radius: 0.35em; text-transform: uppercase; vertical-align: middle; margin-left: 0.5rem\">dish</span>\n",
              "</mark>\n",
              " with greens, tomatoes, and onions tied together the meal, and left me satisfied with their healthy and delicious lunch offering. Overall, the presentation and quality of the meal was great, and the atmosphere of \n",
              "<mark class=\"entity\" style=\"background: #ddd; padding: 0.45em 0.6em; margin: 0 0.25em; line-height: 1; border-radius: 0.35em; box-decoration-break: clone; -webkit-box-decoration-break: clone\">\n",
              "    UrbanBites\n",
              "    <span style=\"font-size: 0.8em; font-weight: bold; line-height: 1; border-radius: 0.35em; text-transform: uppercase; vertical-align: middle; margin-left: 0.5rem\">dish</span>\n",
              "</mark>\n",
              " was well-suited to an extended lunch conversation on a rainy afternoon. I will be visiting again and I look forward to trying their other dishes.</div>"
            ],
            "text/plain": [
              "<IPython.core.display.HTML object>"
            ]
          },
          "metadata": {
            "tags": []
          }
        },
        {
          "output_type": "stream",
          "text": [
            "How many entities are missing: 0\n",
            "You entered 0 Thanks. So no new entities to be considered\n"
          ],
          "name": "stdout"
        }
      ]
    },
    {
      "cell_type": "code",
      "metadata": {
        "id": "giyKfzGBDiCd",
        "colab_type": "code",
        "colab": {
          "base_uri": "https://localhost:8080/",
          "height": 904
        },
        "outputId": "cb94e6a9-0bf3-47d9-edde-998729738b49"
      },
      "source": [
        "check_list"
      ],
      "execution_count": 409,
      "outputs": [
        {
          "output_type": "execute_result",
          "data": {
            "text/plain": [
              "[('bok', 'U_vegetable'),\n",
              " ('choy', 'U_vegetable'),\n",
              " ('bean', 'U_vegetable'),\n",
              " ('sprouts', 'U_vegetable'),\n",
              " ('soffritto', 'U_dish'),\n",
              " ('patties', 'U_dish'),\n",
              " ('cakes', 'U_dish'),\n",
              " ('parmesan', 'U_dish'),\n",
              " ('cheese', 'U_dish'),\n",
              " ('breadcrumbs', 'U_dish'),\n",
              " ('soy', 'U_condiment'),\n",
              " ('sauce', 'U_condiment'),\n",
              " ('olive', 'U_condiment'),\n",
              " ('oil', 'U_condiment'),\n",
              " ('wine', 'U_beverage'),\n",
              " ('3/4-inch', 'U_QUANTITY'),\n",
              " ('2-inch', 'U_QUANTITY'),\n",
              " ('3-inch', 'U_QUANTITY'),\n",
              " ('6-inch', 'U_QUANTITY'),\n",
              " ('first', 'U_ORDINAL'),\n",
              " ('second', 'U_ORDINAL'),\n",
              " ('third', 'U_ORDINAL'),\n",
              " ('fourth', 'U_ORDINAL'),\n",
              " ('fifth', 'U_ORDINAL'),\n",
              " ('last', 'U_ORDINAL'),\n",
              " ('1', 'U_CARDINAL'),\n",
              " ('2', 'U_CARDINAL'),\n",
              " ('3', 'U_CARDINAL'),\n",
              " ('4', 'U_CARDINAL'),\n",
              " ('5', 'U_CARDINAL'),\n",
              " ('6', 'U_CARDINAL'),\n",
              " ('10', 'U_CARDINAL'),\n",
              " ('100', 'U_CARDINAL'),\n",
              " ('one', 'U_CARDINAL'),\n",
              " ('two', 'U_CARDINAL'),\n",
              " ('three', 'U_CARDINAL'),\n",
              " ('four', 'U_CARDINAL'),\n",
              " ('five', 'U_CARDINAL'),\n",
              " ('six', 'U_CARDINAL'),\n",
              " ('seven', 'U_CARDINAL'),\n",
              " ('eight', 'U_CARDINAL'),\n",
              " ('nine', 'U_CARDINAL'),\n",
              " ('ten', 'U_CARDINAL'),\n",
              " ('minute', 'U_TIME'),\n",
              " ('minutes', 'U_TIME'),\n",
              " ('seconds', 'U_TIME'),\n",
              " ('hour', 'U_TIME'),\n",
              " ('hours', 'U_TIME'),\n",
              " ('day', 'U_TIME'),\n",
              " ('sweet potato', 'U_vegetable'),\n",
              " ('chips', 'U_dish')]"
            ]
          },
          "metadata": {
            "tags": []
          },
          "execution_count": 409
        }
      ]
    },
    {
      "cell_type": "code",
      "metadata": {
        "id": "gAn4XTSI3zLS",
        "colab_type": "code",
        "colab": {
          "base_uri": "https://localhost:8080/",
          "height": 767
        },
        "outputId": "af9282f9-b33a-4faa-9a2c-dbe755ad8e32"
      },
      "source": [
        "for doc in list(nlp.pipe(texts[check])):\n",
        "  displacy.render(doc,'ent',jupyter=True)\n",
        "#  displacy.render(doc,'dep',jupyter=True,options={'distance': 60, 'fine_grained': True})"
      ],
      "execution_count": 385,
      "outputs": [
        {
          "output_type": "display_data",
          "data": {
            "text/html": [
              "<div class=\"entities\" style=\"line-height: 2.5; direction: ltr\">I ordered the high rise pizza dough, red \n",
              "<mark class=\"entity\" style=\"background: #ddd; padding: 0.45em 0.6em; margin: 0 0.25em; line-height: 1; border-radius: 0.35em; box-decoration-break: clone; -webkit-box-decoration-break: clone\">\n",
              "    sauce\n",
              "    <span style=\"font-size: 0.8em; font-weight: bold; line-height: 1; border-radius: 0.35em; text-transform: uppercase; vertical-align: middle; margin-left: 0.5rem\">dish</span>\n",
              "</mark>\n",
              ", vegan \n",
              "<mark class=\"entity\" style=\"background: #ddd; padding: 0.45em 0.6em; margin: 0 0.25em; line-height: 1; border-radius: 0.35em; box-decoration-break: clone; -webkit-box-decoration-break: clone\">\n",
              "    cheese\n",
              "    <span style=\"font-size: 0.8em; font-weight: bold; line-height: 1; border-radius: 0.35em; text-transform: uppercase; vertical-align: middle; margin-left: 0.5rem\">dish</span>\n",
              "</mark>\n",
              ", \n",
              "<mark class=\"entity\" style=\"background: #ddd; padding: 0.45em 0.6em; margin: 0 0.25em; line-height: 1; border-radius: 0.35em; box-decoration-break: clone; -webkit-box-decoration-break: clone\">\n",
              "    oregano\n",
              "    <span style=\"font-size: 0.8em; font-weight: bold; line-height: 1; border-radius: 0.35em; text-transform: uppercase; vertical-align: middle; margin-left: 0.5rem\">dish</span>\n",
              "</mark>\n",
              ", \n",
              "<mark class=\"entity\" style=\"background: #ddd; padding: 0.45em 0.6em; margin: 0 0.25em; line-height: 1; border-radius: 0.35em; box-decoration-break: clone; -webkit-box-decoration-break: clone\">\n",
              "    basil\n",
              "    <span style=\"font-size: 0.8em; font-weight: bold; line-height: 1; border-radius: 0.35em; text-transform: uppercase; vertical-align: middle; margin-left: 0.5rem\">dish</span>\n",
              "</mark>\n",
              " leaves, and balsamiq drizzle. Very cool set up there, they even change their gloves before working on the pizza at both prep and oven stages. Very tasty.</div>"
            ],
            "text/plain": [
              "<IPython.core.display.HTML object>"
            ]
          },
          "metadata": {
            "tags": []
          }
        },
        {
          "output_type": "display_data",
          "data": {
            "text/html": [
              "<div class=\"entities\" style=\"line-height: 2.5; direction: ltr\">Spinach and pumpkin flavoured \n",
              "<mark class=\"entity\" style=\"background: #ddd; padding: 0.45em 0.6em; margin: 0 0.25em; line-height: 1; border-radius: 0.35em; box-decoration-break: clone; -webkit-box-decoration-break: clone\">\n",
              "    ravioli\n",
              "    <span style=\"font-size: 0.8em; font-weight: bold; line-height: 1; border-radius: 0.35em; text-transform: uppercase; vertical-align: middle; margin-left: 0.5rem\">dish</span>\n",
              "</mark>\n",
              " was an excellent combination.\n",
              "#crfsg</div>"
            ],
            "text/plain": [
              "<IPython.core.display.HTML object>"
            ]
          },
          "metadata": {
            "tags": []
          }
        },
        {
          "output_type": "display_data",
          "data": {
            "text/html": [
              "<div class=\"entities\" style=\"line-height: 2.5; direction: ltr\">The \n",
              "<mark class=\"entity\" style=\"background: #ddd; padding: 0.45em 0.6em; margin: 0 0.25em; line-height: 1; border-radius: 0.35em; box-decoration-break: clone; -webkit-box-decoration-break: clone\">\n",
              "    vegan\n",
              "    <span style=\"font-size: 0.8em; font-weight: bold; line-height: 1; border-radius: 0.35em; text-transform: uppercase; vertical-align: middle; margin-left: 0.5rem\">dish</span>\n",
              "</mark>\n",
              " options to customize my \n",
              "<mark class=\"entity\" style=\"background: #ddd; padding: 0.45em 0.6em; margin: 0 0.25em; line-height: 1; border-radius: 0.35em; box-decoration-break: clone; -webkit-box-decoration-break: clone\">\n",
              "    salad\n",
              "    <span style=\"font-size: 0.8em; font-weight: bold; line-height: 1; border-radius: 0.35em; text-transform: uppercase; vertical-align: middle; margin-left: 0.5rem\">dish</span>\n",
              "</mark>\n",
              " are awesome! My base today was \n",
              "<mark class=\"entity\" style=\"background: #ddd; padding: 0.45em 0.6em; margin: 0 0.25em; line-height: 1; border-radius: 0.35em; box-decoration-break: clone; -webkit-box-decoration-break: clone\">\n",
              "    bulgar\n",
              "    <span style=\"font-size: 0.8em; font-weight: bold; line-height: 1; border-radius: 0.35em; text-transform: uppercase; vertical-align: middle; margin-left: 0.5rem\">vegetable</span>\n",
              "</mark>\n",
              " \n",
              "<mark class=\"entity\" style=\"background: #ddd; padding: 0.45em 0.6em; margin: 0 0.25em; line-height: 1; border-radius: 0.35em; box-decoration-break: clone; -webkit-box-decoration-break: clone\">\n",
              "    wheat\n",
              "    <span style=\"font-size: 0.8em; font-weight: bold; line-height: 1; border-radius: 0.35em; text-transform: uppercase; vertical-align: middle; margin-left: 0.5rem\">dish</span>\n",
              "</mark>\n",
              " &amp; \n",
              "<mark class=\"entity\" style=\"background: #ddd; padding: 0.45em 0.6em; margin: 0 0.25em; line-height: 1; border-radius: 0.35em; box-decoration-break: clone; -webkit-box-decoration-break: clone\">\n",
              "    corn\n",
              "    <span style=\"font-size: 0.8em; font-weight: bold; line-height: 1; border-radius: 0.35em; text-transform: uppercase; vertical-align: middle; margin-left: 0.5rem\">dish</span>\n",
              "</mark>\n",
              ", and I got \n",
              "<mark class=\"entity\" style=\"background: #ddd; padding: 0.45em 0.6em; margin: 0 0.25em; line-height: 1; border-radius: 0.35em; box-decoration-break: clone; -webkit-box-decoration-break: clone\">\n",
              "    sesame\n",
              "    <span style=\"font-size: 0.8em; font-weight: bold; line-height: 1; border-radius: 0.35em; text-transform: uppercase; vertical-align: middle; margin-left: 0.5rem\">dish</span>\n",
              "</mark>\n",
              " roasted carrots, roasted beets &amp; carrots, their delicious \n",
              "<mark class=\"entity\" style=\"background: #ddd; padding: 0.45em 0.6em; margin: 0 0.25em; line-height: 1; border-radius: 0.35em; box-decoration-break: clone; -webkit-box-decoration-break: clone\">\n",
              "    panko\n",
              "    <span style=\"font-size: 0.8em; font-weight: bold; line-height: 1; border-radius: 0.35em; text-transform: uppercase; vertical-align: middle; margin-left: 0.5rem\">dish</span>\n",
              "</mark>\n",
              " crusted fried \n",
              "<mark class=\"entity\" style=\"background: #ddd; padding: 0.45em 0.6em; margin: 0 0.25em; line-height: 1; border-radius: 0.35em; box-decoration-break: clone; -webkit-box-decoration-break: clone\">\n",
              "    tofu\n",
              "    <span style=\"font-size: 0.8em; font-weight: bold; line-height: 1; border-radius: 0.35em; text-transform: uppercase; vertical-align: middle; margin-left: 0.5rem\">dish</span>\n",
              "</mark>\n",
              ", freshly sliced \n",
              "<mark class=\"entity\" style=\"background: #ddd; padding: 0.45em 0.6em; margin: 0 0.25em; line-height: 1; border-radius: 0.35em; box-decoration-break: clone; -webkit-box-decoration-break: clone\">\n",
              "    avocado\n",
              "    <span style=\"font-size: 0.8em; font-weight: bold; line-height: 1; border-radius: 0.35em; text-transform: uppercase; vertical-align: middle; margin-left: 0.5rem\">dish</span>\n",
              "</mark>\n",
              " and topped it off with \n",
              "<mark class=\"entity\" style=\"background: #ddd; padding: 0.45em 0.6em; margin: 0 0.25em; line-height: 1; border-radius: 0.35em; box-decoration-break: clone; -webkit-box-decoration-break: clone\">\n",
              "    sesame\n",
              "    <span style=\"font-size: 0.8em; font-weight: bold; line-height: 1; border-radius: 0.35em; text-transform: uppercase; vertical-align: middle; margin-left: 0.5rem\">vegetable</span>\n",
              "</mark>\n",
              " \n",
              "<mark class=\"entity\" style=\"background: #ddd; padding: 0.45em 0.6em; margin: 0 0.25em; line-height: 1; border-radius: 0.35em; box-decoration-break: clone; -webkit-box-decoration-break: clone\">\n",
              "    tahini\n",
              "    <span style=\"font-size: 0.8em; font-weight: bold; line-height: 1; border-radius: 0.35em; text-transform: uppercase; vertical-align: middle; margin-left: 0.5rem\">vegetable</span>\n",
              "</mark>\n",
              ". All for $10. This was an awesome meal, definitely recommend #avorush if you want something healthy!</div>"
            ],
            "text/plain": [
              "<IPython.core.display.HTML object>"
            ]
          },
          "metadata": {
            "tags": []
          }
        },
        {
          "output_type": "display_data",
          "data": {
            "text/html": [
              "<div class=\"entities\" style=\"line-height: 2.5; direction: ltr\">I love that the restaurant has a good range of \n",
              "<mark class=\"entity\" style=\"background: #ddd; padding: 0.45em 0.6em; margin: 0 0.25em; line-height: 1; border-radius: 0.35em; box-decoration-break: clone; -webkit-box-decoration-break: clone\">\n",
              "    vegan\n",
              "    <span style=\"font-size: 0.8em; font-weight: bold; line-height: 1; border-radius: 0.35em; text-transform: uppercase; vertical-align: middle; margin-left: 0.5rem\">dish</span>\n",
              "</mark>\n",
              " options. I just think that the \n",
              "<mark class=\"entity\" style=\"background: #ddd; padding: 0.45em 0.6em; margin: 0 0.25em; line-height: 1; border-radius: 0.35em; box-decoration-break: clone; -webkit-box-decoration-break: clone\">\n",
              "    patties\n",
              "    <span style=\"font-size: 0.8em; font-weight: bold; line-height: 1; border-radius: 0.35em; text-transform: uppercase; vertical-align: middle; margin-left: 0.5rem\">dish</span>\n",
              "</mark>\n",
              " can be worked on, the crust were thick and the filling was quite mushy, almost like a \n",
              "<mark class=\"entity\" style=\"background: #ddd; padding: 0.45em 0.6em; margin: 0 0.25em; line-height: 1; border-radius: 0.35em; box-decoration-break: clone; -webkit-box-decoration-break: clone\">\n",
              "    croquette\n",
              "    <span style=\"font-size: 0.8em; font-weight: bold; line-height: 1; border-radius: 0.35em; text-transform: uppercase; vertical-align: middle; margin-left: 0.5rem\">dish</span>\n",
              "</mark>\n",
              ", i wld like to look forward to something more firm to bite into, like a “\n",
              "<mark class=\"entity\" style=\"background: #ddd; padding: 0.45em 0.6em; margin: 0 0.25em; line-height: 1; border-radius: 0.35em; box-decoration-break: clone; -webkit-box-decoration-break: clone\">\n",
              "    chicken\n",
              "    <span style=\"font-size: 0.8em; font-weight: bold; line-height: 1; border-radius: 0.35em; text-transform: uppercase; vertical-align: middle; margin-left: 0.5rem\">dish</span>\n",
              "</mark>\n",
              "” \n",
              "<mark class=\"entity\" style=\"background: #ddd; padding: 0.45em 0.6em; margin: 0 0.25em; line-height: 1; border-radius: 0.35em; box-decoration-break: clone; -webkit-box-decoration-break: clone\">\n",
              "    patty\n",
              "    <span style=\"font-size: 0.8em; font-weight: bold; line-height: 1; border-radius: 0.35em; text-transform: uppercase; vertical-align: middle; margin-left: 0.5rem\">dish</span>\n",
              "</mark>\n",
              ".</div>"
            ],
            "text/plain": [
              "<IPython.core.display.HTML object>"
            ]
          },
          "metadata": {
            "tags": []
          }
        },
        {
          "output_type": "display_data",
          "data": {
            "text/html": [
              "<div class=\"entities\" style=\"line-height: 2.5; direction: ltr\">Like I said ordered \n",
              "<mark class=\"entity\" style=\"background: #e4e7d2; padding: 0.45em 0.6em; margin: 0 0.25em; line-height: 1; border-radius: 0.35em; box-decoration-break: clone; -webkit-box-decoration-break: clone\">\n",
              "    3\n",
              "    <span style=\"font-size: 0.8em; font-weight: bold; line-height: 1; border-radius: 0.35em; text-transform: uppercase; vertical-align: middle; margin-left: 0.5rem\">CARDINAL</span>\n",
              "</mark>\n",
              " different types of dimsums and each looked similar. Expected this to taste much better. In fact they don’t even serve fresh \n",
              "<mark class=\"entity\" style=\"background: #ddd; padding: 0.45em 0.6em; margin: 0 0.25em; line-height: 1; border-radius: 0.35em; box-decoration-break: clone; -webkit-box-decoration-break: clone\">\n",
              "    chilies\n",
              "    <span style=\"font-size: 0.8em; font-weight: bold; line-height: 1; border-radius: 0.35em; text-transform: uppercase; vertical-align: middle; margin-left: 0.5rem\">dish</span>\n",
              "</mark>\n",
              " with \n",
              "<mark class=\"entity\" style=\"background: #ddd; padding: 0.45em 0.6em; margin: 0 0.25em; line-height: 1; border-radius: 0.35em; box-decoration-break: clone; -webkit-box-decoration-break: clone\">\n",
              "    soya\n",
              "    <span style=\"font-size: 0.8em; font-weight: bold; line-height: 1; border-radius: 0.35em; text-transform: uppercase; vertical-align: middle; margin-left: 0.5rem\">dish</span>\n",
              "</mark>\n",
              " \n",
              "<mark class=\"entity\" style=\"background: #ddd; padding: 0.45em 0.6em; margin: 0 0.25em; line-height: 1; border-radius: 0.35em; box-decoration-break: clone; -webkit-box-decoration-break: clone\">\n",
              "    sauce\n",
              "    <span style=\"font-size: 0.8em; font-weight: bold; line-height: 1; border-radius: 0.35em; text-transform: uppercase; vertical-align: middle; margin-left: 0.5rem\">dish</span>\n",
              "</mark>\n",
              " but have \n",
              "<mark class=\"entity\" style=\"background: #ddd; padding: 0.45em 0.6em; margin: 0 0.25em; line-height: 1; border-radius: 0.35em; box-decoration-break: clone; -webkit-box-decoration-break: clone\">\n",
              "    chilli\n",
              "    <span style=\"font-size: 0.8em; font-weight: bold; line-height: 1; border-radius: 0.35em; text-transform: uppercase; vertical-align: middle; margin-left: 0.5rem\">dish</span>\n",
              "</mark>\n",
              " \n",
              "<mark class=\"entity\" style=\"background: #ddd; padding: 0.45em 0.6em; margin: 0 0.25em; line-height: 1; border-radius: 0.35em; box-decoration-break: clone; -webkit-box-decoration-break: clone\">\n",
              "    sauce\n",
              "    <span style=\"font-size: 0.8em; font-weight: bold; line-height: 1; border-radius: 0.35em; text-transform: uppercase; vertical-align: middle; margin-left: 0.5rem\">dish</span>\n",
              "</mark>\n",
              " mixed with \n",
              "<mark class=\"entity\" style=\"background: #ddd; padding: 0.45em 0.6em; margin: 0 0.25em; line-height: 1; border-radius: 0.35em; box-decoration-break: clone; -webkit-box-decoration-break: clone\">\n",
              "    soya\n",
              "    <span style=\"font-size: 0.8em; font-weight: bold; line-height: 1; border-radius: 0.35em; text-transform: uppercase; vertical-align: middle; margin-left: 0.5rem\">dish</span>\n",
              "</mark>\n",
              " \n",
              "<mark class=\"entity\" style=\"background: #ddd; padding: 0.45em 0.6em; margin: 0 0.25em; line-height: 1; border-radius: 0.35em; box-decoration-break: clone; -webkit-box-decoration-break: clone\">\n",
              "    sauce\n",
              "    <span style=\"font-size: 0.8em; font-weight: bold; line-height: 1; border-radius: 0.35em; text-transform: uppercase; vertical-align: middle; margin-left: 0.5rem\">dish</span>\n",
              "</mark>\n",
              ". Avoidable dishes</div>"
            ],
            "text/plain": [
              "<IPython.core.display.HTML object>"
            ]
          },
          "metadata": {
            "tags": []
          }
        },
        {
          "output_type": "display_data",
          "data": {
            "text/html": [
              "<div class=\"entities\" style=\"line-height: 2.5; direction: ltr\">One of my favorite food at WDSB! Various types of vegetables can be found in the \n",
              "<mark class=\"entity\" style=\"background: #ddd; padding: 0.45em 0.6em; margin: 0 0.25em; line-height: 1; border-radius: 0.35em; box-decoration-break: clone; -webkit-box-decoration-break: clone\">\n",
              "    burger\n",
              "    <span style=\"font-size: 0.8em; font-weight: bold; line-height: 1; border-radius: 0.35em; text-transform: uppercase; vertical-align: middle; margin-left: 0.5rem\">dish</span>\n",
              "</mark>\n",
              ", generous amount of the main ingredient -- monkeyhead \n",
              "<mark class=\"entity\" style=\"background: #ddd; padding: 0.45em 0.6em; margin: 0 0.25em; line-height: 1; border-radius: 0.35em; box-decoration-break: clone; -webkit-box-decoration-break: clone\">\n",
              "    mushroom\n",
              "    <span style=\"font-size: 0.8em; font-weight: bold; line-height: 1; border-radius: 0.35em; text-transform: uppercase; vertical-align: middle; margin-left: 0.5rem\">dish</span>\n",
              "</mark>\n",
              ", also comes with two sides in great portion!</div>"
            ],
            "text/plain": [
              "<IPython.core.display.HTML object>"
            ]
          },
          "metadata": {
            "tags": []
          }
        },
        {
          "output_type": "display_data",
          "data": {
            "text/html": [
              "<div class=\"entities\" style=\"line-height: 2.5; direction: ltr\">This place hand dips their \n",
              "<mark class=\"entity\" style=\"background: #ddd; padding: 0.45em 0.6em; margin: 0 0.25em; line-height: 1; border-radius: 0.35em; box-decoration-break: clone; -webkit-box-decoration-break: clone\">\n",
              "    corn\n",
              "    <span style=\"font-size: 0.8em; font-weight: bold; line-height: 1; border-radius: 0.35em; text-transform: uppercase; vertical-align: middle; margin-left: 0.5rem\">dish</span>\n",
              "</mark>\n",
              " dogs in their own batter so they are fresh and not from the freezer, and they do not disappoint! I like to go here on Wenesdays for their \n",
              "<mark class=\"entity\" style=\"background: #ddd; padding: 0.45em 0.6em; margin: 0 0.25em; line-height: 1; border-radius: 0.35em; box-decoration-break: clone; -webkit-box-decoration-break: clone\">\n",
              "    corn\n",
              "    <span style=\"font-size: 0.8em; font-weight: bold; line-height: 1; border-radius: 0.35em; text-transform: uppercase; vertical-align: middle; margin-left: 0.5rem\">dish</span>\n",
              "</mark>\n",
              " dog special, 3 for $5! And of course I always get a \n",
              "<mark class=\"entity\" style=\"background: #ddd; padding: 0.45em 0.6em; margin: 0 0.25em; line-height: 1; border-radius: 0.35em; box-decoration-break: clone; -webkit-box-decoration-break: clone\">\n",
              "    salad\n",
              "    <span style=\"font-size: 0.8em; font-weight: bold; line-height: 1; border-radius: 0.35em; text-transform: uppercase; vertical-align: middle; margin-left: 0.5rem\">dish</span>\n",
              "</mark>\n",
              " to balance things out. They have delicious \n",
              "<mark class=\"entity\" style=\"background: #ddd; padding: 0.45em 0.6em; margin: 0 0.25em; line-height: 1; border-radius: 0.35em; box-decoration-break: clone; -webkit-box-decoration-break: clone\">\n",
              "    salad\n",
              "    <span style=\"font-size: 0.8em; font-weight: bold; line-height: 1; border-radius: 0.35em; text-transform: uppercase; vertical-align: middle; margin-left: 0.5rem\">dish</span>\n",
              "</mark>\n",
              " dressings to choose from including a \n",
              "<mark class=\"entity\" style=\"background: #ddd; padding: 0.45em 0.6em; margin: 0 0.25em; line-height: 1; border-radius: 0.35em; box-decoration-break: clone; -webkit-box-decoration-break: clone\">\n",
              "    vegan\n",
              "    <span style=\"font-size: 0.8em; font-weight: bold; line-height: 1; border-radius: 0.35em; text-transform: uppercase; vertical-align: middle; margin-left: 0.5rem\">dish</span>\n",
              "</mark>\n",
              " ranch and \n",
              "<mark class=\"entity\" style=\"background: #ddd; padding: 0.45em 0.6em; margin: 0 0.25em; line-height: 1; border-radius: 0.35em; box-decoration-break: clone; -webkit-box-decoration-break: clone\">\n",
              "    vegan\n",
              "    <span style=\"font-size: 0.8em; font-weight: bold; line-height: 1; border-radius: 0.35em; text-transform: uppercase; vertical-align: middle; margin-left: 0.5rem\">vegetable</span>\n",
              "</mark>\n",
              " thousand island. Their weekend \n",
              "<mark class=\"entity\" style=\"background: #ddd; padding: 0.45em 0.6em; margin: 0 0.25em; line-height: 1; border-radius: 0.35em; box-decoration-break: clone; -webkit-box-decoration-break: clone\">\n",
              "    brunch\n",
              "    <span style=\"font-size: 0.8em; font-weight: bold; line-height: 1; border-radius: 0.35em; text-transform: uppercase; vertical-align: middle; margin-left: 0.5rem\">dish</span>\n",
              "</mark>\n",
              " is also very good and there is rarely a wait like so many other places in \n",
              "<mark class=\"entity\" style=\"background: #ddd; padding: 0.45em 0.6em; margin: 0 0.25em; line-height: 1; border-radius: 0.35em; box-decoration-break: clone; -webkit-box-decoration-break: clone\">\n",
              "    Portland\n",
              "    <span style=\"font-size: 0.8em; font-weight: bold; line-height: 1; border-radius: 0.35em; text-transform: uppercase; vertical-align: middle; margin-left: 0.5rem\">dish</span>\n",
              "</mark>\n",
              ". My favorite breakfast plate there is called The \n",
              "<mark class=\"entity\" style=\"background: #ddd; padding: 0.45em 0.6em; margin: 0 0.25em; line-height: 1; border-radius: 0.35em; box-decoration-break: clone; -webkit-box-decoration-break: clone\">\n",
              "    Portland\n",
              "    <span style=\"font-size: 0.8em; font-weight: bold; line-height: 1; border-radius: 0.35em; text-transform: uppercase; vertical-align: middle; margin-left: 0.5rem\">dish</span>\n",
              "</mark>\n",
              ", it’s a \n",
              "<mark class=\"entity\" style=\"background: #ddd; padding: 0.45em 0.6em; margin: 0 0.25em; line-height: 1; border-radius: 0.35em; box-decoration-break: clone; -webkit-box-decoration-break: clone\">\n",
              "    tofu\n",
              "    <span style=\"font-size: 0.8em; font-weight: bold; line-height: 1; border-radius: 0.35em; text-transform: uppercase; vertical-align: middle; margin-left: 0.5rem\">dish</span>\n",
              "</mark>\n",
              " scramble with veggies and \n",
              "<mark class=\"entity\" style=\"background: #ddd; padding: 0.45em 0.6em; margin: 0 0.25em; line-height: 1; border-radius: 0.35em; box-decoration-break: clone; -webkit-box-decoration-break: clone\">\n",
              "    potatoes\n",
              "    <span style=\"font-size: 0.8em; font-weight: bold; line-height: 1; border-radius: 0.35em; text-transform: uppercase; vertical-align: middle; margin-left: 0.5rem\">dish</span>\n",
              "</mark>\n",
              " and a \n",
              "<mark class=\"entity\" style=\"background: #ddd; padding: 0.45em 0.6em; margin: 0 0.25em; line-height: 1; border-radius: 0.35em; box-decoration-break: clone; -webkit-box-decoration-break: clone\">\n",
              "    biscuit\n",
              "    <span style=\"font-size: 0.8em; font-weight: bold; line-height: 1; border-radius: 0.35em; text-transform: uppercase; vertical-align: middle; margin-left: 0.5rem\">dish</span>\n",
              "</mark>\n",
              " or toast of choice. Their \n",
              "<mark class=\"entity\" style=\"background: #ddd; padding: 0.45em 0.6em; margin: 0 0.25em; line-height: 1; border-radius: 0.35em; box-decoration-break: clone; -webkit-box-decoration-break: clone\">\n",
              "    vegan\n",
              "    <span style=\"font-size: 0.8em; font-weight: bold; line-height: 1; border-radius: 0.35em; text-transform: uppercase; vertical-align: middle; margin-left: 0.5rem\">dish</span>\n",
              "</mark>\n",
              " gravy is also very yummy and unique.</div>"
            ],
            "text/plain": [
              "<IPython.core.display.HTML object>"
            ]
          },
          "metadata": {
            "tags": []
          }
        },
        {
          "output_type": "display_data",
          "data": {
            "text/html": [
              "<div class=\"entities\" style=\"line-height: 2.5; direction: ltr\">This dish was a terrible disappointment. The restaurant said they’d make a \n",
              "<mark class=\"entity\" style=\"background: #ddd; padding: 0.45em 0.6em; margin: 0 0.25em; line-height: 1; border-radius: 0.35em; box-decoration-break: clone; -webkit-box-decoration-break: clone\">\n",
              "    vegan\n",
              "    <span style=\"font-size: 0.8em; font-weight: bold; line-height: 1; border-radius: 0.35em; text-transform: uppercase; vertical-align: middle; margin-left: 0.5rem\">dish</span>\n",
              "</mark>\n",
              " version of their usual meat based rolls. All that was left is \n",
              "<mark class=\"entity\" style=\"background: #ddd; padding: 0.45em 0.6em; margin: 0 0.25em; line-height: 1; border-radius: 0.35em; box-decoration-break: clone; -webkit-box-decoration-break: clone\">\n",
              "    rice\n",
              "    <span style=\"font-size: 0.8em; font-weight: bold; line-height: 1; border-radius: 0.35em; text-transform: uppercase; vertical-align: middle; margin-left: 0.5rem\">dish</span>\n",
              "</mark>\n",
              " and some greens in the rubbery \n",
              "<mark class=\"entity\" style=\"background: #ddd; padding: 0.45em 0.6em; margin: 0 0.25em; line-height: 1; border-radius: 0.35em; box-decoration-break: clone; -webkit-box-decoration-break: clone\">\n",
              "    rice\n",
              "    <span style=\"font-size: 0.8em; font-weight: bold; line-height: 1; border-radius: 0.35em; text-transform: uppercase; vertical-align: middle; margin-left: 0.5rem\">dish</span>\n",
              "</mark>\n",
              " paper rolls with absolutely no flavour or innovation.</div>"
            ],
            "text/plain": [
              "<IPython.core.display.HTML object>"
            ]
          },
          "metadata": {
            "tags": []
          }
        },
        {
          "output_type": "display_data",
          "data": {
            "text/html": [
              "<div class=\"entities\" style=\"line-height: 2.5; direction: ltr\">As a \n",
              "<mark class=\"entity\" style=\"background: #ddd; padding: 0.45em 0.6em; margin: 0 0.25em; line-height: 1; border-radius: 0.35em; box-decoration-break: clone; -webkit-box-decoration-break: clone\">\n",
              "    vegan\n",
              "    <span style=\"font-size: 0.8em; font-weight: bold; line-height: 1; border-radius: 0.35em; text-transform: uppercase; vertical-align: middle; margin-left: 0.5rem\">dish</span>\n",
              "</mark>\n",
              " this is about as good as it gets for \n",
              "<mark class=\"entity\" style=\"background: #ddd; padding: 0.45em 0.6em; margin: 0 0.25em; line-height: 1; border-radius: 0.35em; box-decoration-break: clone; -webkit-box-decoration-break: clone\">\n",
              "    Chinese\n",
              "    <span style=\"font-size: 0.8em; font-weight: bold; line-height: 1; border-radius: 0.35em; text-transform: uppercase; vertical-align: middle; margin-left: 0.5rem\">dish</span>\n",
              "</mark>\n",
              " food. Mapo Doufu is \n",
              "<mark class=\"entity\" style=\"background: #e4e7d2; padding: 0.45em 0.6em; margin: 0 0.25em; line-height: 1; border-radius: 0.35em; box-decoration-break: clone; -webkit-box-decoration-break: clone\">\n",
              "    one\n",
              "    <span style=\"font-size: 0.8em; font-weight: bold; line-height: 1; border-radius: 0.35em; text-transform: uppercase; vertical-align: middle; margin-left: 0.5rem\">CARDINAL</span>\n",
              "</mark>\n",
              " of those extraordinary \n",
              "<mark class=\"entity\" style=\"background: #ddd; padding: 0.45em 0.6em; margin: 0 0.25em; line-height: 1; border-radius: 0.35em; box-decoration-break: clone; -webkit-box-decoration-break: clone\">\n",
              "    Sichuan\n",
              "    <span style=\"font-size: 0.8em; font-weight: bold; line-height: 1; border-radius: 0.35em; text-transform: uppercase; vertical-align: middle; margin-left: 0.5rem\">dish</span>\n",
              "</mark>\n",
              " dishes that almost everyone loves (if you like spicy food). It's typically made with \n",
              "<mark class=\"entity\" style=\"background: #ddd; padding: 0.45em 0.6em; margin: 0 0.25em; line-height: 1; border-radius: 0.35em; box-decoration-break: clone; -webkit-box-decoration-break: clone\">\n",
              "    pork\n",
              "    <span style=\"font-size: 0.8em; font-weight: bold; line-height: 1; border-radius: 0.35em; text-transform: uppercase; vertical-align: middle; margin-left: 0.5rem\">dish</span>\n",
              "</mark>\n",
              ", but Shisen Hanten is always happy to make this signature dish \n",
              "<mark class=\"entity\" style=\"background: #ddd; padding: 0.45em 0.6em; margin: 0 0.25em; line-height: 1; border-radius: 0.35em; box-decoration-break: clone; -webkit-box-decoration-break: clone\">\n",
              "    vegan\n",
              "    <span style=\"font-size: 0.8em; font-weight: bold; line-height: 1; border-radius: 0.35em; text-transform: uppercase; vertical-align: middle; margin-left: 0.5rem\">dish</span>\n",
              "</mark>\n",
              ". It's pretty much firm \n",
              "<mark class=\"entity\" style=\"background: #ddd; padding: 0.45em 0.6em; margin: 0 0.25em; line-height: 1; border-radius: 0.35em; box-decoration-break: clone; -webkit-box-decoration-break: clone\">\n",
              "    tofu\n",
              "    <span style=\"font-size: 0.8em; font-weight: bold; line-height: 1; border-radius: 0.35em; text-transform: uppercase; vertical-align: middle; margin-left: 0.5rem\">dish</span>\n",
              "</mark>\n",
              " with lots of \n",
              "<mark class=\"entity\" style=\"background: #ddd; padding: 0.45em 0.6em; margin: 0 0.25em; line-height: 1; border-radius: 0.35em; box-decoration-break: clone; -webkit-box-decoration-break: clone\">\n",
              "    Sichuan\n",
              "    <span style=\"font-size: 0.8em; font-weight: bold; line-height: 1; border-radius: 0.35em; text-transform: uppercase; vertical-align: middle; margin-left: 0.5rem\">dish</span>\n",
              "</mark>\n",
              " \n",
              "<mark class=\"entity\" style=\"background: #ddd; padding: 0.45em 0.6em; margin: 0 0.25em; line-height: 1; border-radius: 0.35em; box-decoration-break: clone; -webkit-box-decoration-break: clone\">\n",
              "    peppercorn\n",
              "    <span style=\"font-size: 0.8em; font-weight: bold; line-height: 1; border-radius: 0.35em; text-transform: uppercase; vertical-align: middle; margin-left: 0.5rem\">dish</span>\n",
              "</mark>\n",
              " which gives you that amazing numbing sensation. I've had this dish at so many restaurants around \n",
              "<mark class=\"entity\" style=\"background: #ddd; padding: 0.45em 0.6em; margin: 0 0.25em; line-height: 1; border-radius: 0.35em; box-decoration-break: clone; -webkit-box-decoration-break: clone\">\n",
              "    Singapore\n",
              "    <span style=\"font-size: 0.8em; font-weight: bold; line-height: 1; border-radius: 0.35em; text-transform: uppercase; vertical-align: middle; margin-left: 0.5rem\">dish</span>\n",
              "</mark>\n",
              " and have to say this is probably my favorite!</div>"
            ],
            "text/plain": [
              "<IPython.core.display.HTML object>"
            ]
          },
          "metadata": {
            "tags": []
          }
        },
        {
          "output_type": "display_data",
          "data": {
            "text/html": [
              "<div class=\"entities\" style=\"line-height: 2.5; direction: ltr\">A rich but not overly creamy \n",
              "<mark class=\"entity\" style=\"background: #ddd; padding: 0.45em 0.6em; margin: 0 0.25em; line-height: 1; border-radius: 0.35em; box-decoration-break: clone; -webkit-box-decoration-break: clone\">\n",
              "    soup\n",
              "    <span style=\"font-size: 0.8em; font-weight: bold; line-height: 1; border-radius: 0.35em; text-transform: uppercase; vertical-align: middle; margin-left: 0.5rem\">dish</span>\n",
              "</mark>\n",
              ". Very refreshing and contains a lot of \n",
              "<mark class=\"entity\" style=\"background: #ddd; padding: 0.45em 0.6em; margin: 0 0.25em; line-height: 1; border-radius: 0.35em; box-decoration-break: clone; -webkit-box-decoration-break: clone\">\n",
              "    herbs\n",
              "    <span style=\"font-size: 0.8em; font-weight: bold; line-height: 1; border-radius: 0.35em; text-transform: uppercase; vertical-align: middle; margin-left: 0.5rem\">dish</span>\n",
              "</mark>\n",
              ", vegetables and mushrooms.</div>"
            ],
            "text/plain": [
              "<IPython.core.display.HTML object>"
            ]
          },
          "metadata": {
            "tags": []
          }
        }
      ]
    }
  ]
}