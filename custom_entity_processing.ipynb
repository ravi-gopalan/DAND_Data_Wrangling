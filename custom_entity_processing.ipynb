{
  "nbformat": 4,
  "nbformat_minor": 0,
  "metadata": {
    "colab": {
      "name": "custom_entity_processing.ipynb",
      "provenance": [],
      "include_colab_link": true
    },
    "kernelspec": {
      "name": "python3",
      "display_name": "Python 3"
    },
    "accelerator": "GPU"
  },
  "cells": [
    {
      "cell_type": "markdown",
      "metadata": {
        "id": "view-in-github",
        "colab_type": "text"
      },
      "source": [
        "<a href=\"https://colab.research.google.com/github/ravi-gopalan/DAND_Data_Wrangling/blob/master/custom_entity_processing.ipynb\" target=\"_parent\"><img src=\"https://colab.research.google.com/assets/colab-badge.svg\" alt=\"Open In Colab\"/></a>"
      ]
    },
    {
      "cell_type": "code",
      "metadata": {
        "id": "OjGpa9Q1pmdR",
        "colab_type": "code",
        "outputId": "cb334914-017c-415b-f62d-75d8af6b4d06",
        "colab": {
          "base_uri": "https://localhost:8080/",
          "height": 141
        }
      },
      "source": [
        "from google.colab import drive\n",
        "drive.mount('/gdrive')\n",
        "%cd /gdrive"
      ],
      "execution_count": 1,
      "outputs": [
        {
          "output_type": "stream",
          "text": [
            "Go to this URL in a browser: https://accounts.google.com/o/oauth2/auth?client_id=947318989803-6bn6qk8qdgf4n4g3pfee6491hc0brc4i.apps.googleusercontent.com&redirect_uri=urn%3aietf%3awg%3aoauth%3a2.0%3aoob&response_type=code&scope=email%20https%3a%2f%2fwww.googleapis.com%2fauth%2fdocs.test%20https%3a%2f%2fwww.googleapis.com%2fauth%2fdrive%20https%3a%2f%2fwww.googleapis.com%2fauth%2fdrive.photos.readonly%20https%3a%2f%2fwww.googleapis.com%2fauth%2fpeopleapi.readonly\n",
            "\n",
            "Enter your authorization code:\n",
            "··········\n",
            "Mounted at /gdrive\n",
            "/gdrive\n"
          ],
          "name": "stdout"
        }
      ]
    },
    {
      "cell_type": "code",
      "metadata": {
        "id": "HeziVX--u8cR",
        "colab_type": "code",
        "outputId": "a2500fec-7bd2-4962-ab97-c5a234fe090b",
        "colab": {
          "base_uri": "https://localhost:8080/",
          "height": 34
        }
      },
      "source": [
        "cd '/gdrive/My Drive/abv_reviews'"
      ],
      "execution_count": 2,
      "outputs": [
        {
          "output_type": "stream",
          "text": [
            "/gdrive/My Drive/abv_reviews\n"
          ],
          "name": "stdout"
        }
      ]
    },
    {
      "cell_type": "code",
      "metadata": {
        "id": "z0sP9YiuQM80",
        "colab_type": "code",
        "outputId": "6c52a107-ad9f-496f-f8ae-cb7bd079e8f3",
        "colab": {
          "base_uri": "https://localhost:8080/",
          "height": 504
        }
      },
      "source": [
        "!pip install spacymoji\n",
        "from spacymoji import Emoji"
      ],
      "execution_count": 3,
      "outputs": [
        {
          "output_type": "stream",
          "text": [
            "Collecting spacymoji\n",
            "  Downloading https://files.pythonhosted.org/packages/e6/42/b4460030eb06504451973609ab8a95b8c0106090aca7a4d657baf9b2611d/spacymoji-2.0.0-py3-none-any.whl\n",
            "Collecting emoji<1.0.0,>=0.4.5\n",
            "\u001b[?25l  Downloading https://files.pythonhosted.org/packages/40/8d/521be7f0091fe0f2ae690cc044faf43e3445e0ff33c574eae752dd7e39fa/emoji-0.5.4.tar.gz (43kB)\n",
            "\r\u001b[K     |███████▌                        | 10kB 27.2MB/s eta 0:00:01\r\u001b[K     |███████████████                 | 20kB 6.2MB/s eta 0:00:01\r\u001b[K     |██████████████████████▋         | 30kB 8.9MB/s eta 0:00:01\r\u001b[K     |██████████████████████████████▏ | 40kB 11.3MB/s eta 0:00:01\r\u001b[K     |████████████████████████████████| 51kB 5.4MB/s \n",
            "\u001b[?25hRequirement already satisfied: spacy<3.0.0,>=2.1.3 in /usr/local/lib/python3.6/dist-packages (from spacymoji) (2.1.9)\n",
            "Requirement already satisfied: srsly<1.1.0,>=0.0.6 in /usr/local/lib/python3.6/dist-packages (from spacy<3.0.0,>=2.1.3->spacymoji) (0.2.0)\n",
            "Requirement already satisfied: cymem<2.1.0,>=2.0.2 in /usr/local/lib/python3.6/dist-packages (from spacy<3.0.0,>=2.1.3->spacymoji) (2.0.3)\n",
            "Requirement already satisfied: plac<1.0.0,>=0.9.6 in /usr/local/lib/python3.6/dist-packages (from spacy<3.0.0,>=2.1.3->spacymoji) (0.9.6)\n",
            "Requirement already satisfied: requests<3.0.0,>=2.13.0 in /usr/local/lib/python3.6/dist-packages (from spacy<3.0.0,>=2.1.3->spacymoji) (2.21.0)\n",
            "Requirement already satisfied: numpy>=1.15.0 in /usr/local/lib/python3.6/dist-packages (from spacy<3.0.0,>=2.1.3->spacymoji) (1.17.4)\n",
            "Requirement already satisfied: blis<0.3.0,>=0.2.2 in /usr/local/lib/python3.6/dist-packages (from spacy<3.0.0,>=2.1.3->spacymoji) (0.2.4)\n",
            "Requirement already satisfied: murmurhash<1.1.0,>=0.28.0 in /usr/local/lib/python3.6/dist-packages (from spacy<3.0.0,>=2.1.3->spacymoji) (1.0.2)\n",
            "Requirement already satisfied: preshed<2.1.0,>=2.0.1 in /usr/local/lib/python3.6/dist-packages (from spacy<3.0.0,>=2.1.3->spacymoji) (2.0.1)\n",
            "Requirement already satisfied: wasabi<1.1.0,>=0.2.0 in /usr/local/lib/python3.6/dist-packages (from spacy<3.0.0,>=2.1.3->spacymoji) (0.4.2)\n",
            "Requirement already satisfied: thinc<7.1.0,>=7.0.8 in /usr/local/lib/python3.6/dist-packages (from spacy<3.0.0,>=2.1.3->spacymoji) (7.0.8)\n",
            "Requirement already satisfied: urllib3<1.25,>=1.21.1 in /usr/local/lib/python3.6/dist-packages (from requests<3.0.0,>=2.13.0->spacy<3.0.0,>=2.1.3->spacymoji) (1.24.3)\n",
            "Requirement already satisfied: certifi>=2017.4.17 in /usr/local/lib/python3.6/dist-packages (from requests<3.0.0,>=2.13.0->spacy<3.0.0,>=2.1.3->spacymoji) (2019.11.28)\n",
            "Requirement already satisfied: idna<2.9,>=2.5 in /usr/local/lib/python3.6/dist-packages (from requests<3.0.0,>=2.13.0->spacy<3.0.0,>=2.1.3->spacymoji) (2.8)\n",
            "Requirement already satisfied: chardet<3.1.0,>=3.0.2 in /usr/local/lib/python3.6/dist-packages (from requests<3.0.0,>=2.13.0->spacy<3.0.0,>=2.1.3->spacymoji) (3.0.4)\n",
            "Requirement already satisfied: tqdm<5.0.0,>=4.10.0 in /usr/local/lib/python3.6/dist-packages (from thinc<7.1.0,>=7.0.8->spacy<3.0.0,>=2.1.3->spacymoji) (4.28.1)\n",
            "Building wheels for collected packages: emoji\n",
            "  Building wheel for emoji (setup.py) ... \u001b[?25l\u001b[?25hdone\n",
            "  Created wheel for emoji: filename=emoji-0.5.4-cp36-none-any.whl size=42175 sha256=edebb9c9614958a390b2d6ba2f7b10254c2e5219601b4654d79d39ac35b636e4\n",
            "  Stored in directory: /root/.cache/pip/wheels/2a/a9/0a/4f8e8cce8074232aba240caca3fade315bb49fac68808d1a9c\n",
            "Successfully built emoji\n",
            "Installing collected packages: emoji, spacymoji\n",
            "Successfully installed emoji-0.5.4 spacymoji-2.0.0\n"
          ],
          "name": "stdout"
        }
      ]
    },
    {
      "cell_type": "code",
      "metadata": {
        "id": "hCbKbxQ2vLCV",
        "colab_type": "code",
        "colab": {}
      },
      "source": [
        "import pandas as pd\n",
        "import numpy as np\n",
        "import warnings\n",
        "warnings.filterwarnings(\"ignore\")\n",
        "import re\n",
        "import random\n",
        "import srsly\n",
        "import spacy\n",
        "from spacy.lang.en import English\n",
        "from spacy.pipeline import EntityRuler\n",
        "from spacy import displacy\n",
        "from spacy.util import minibatch, compounding\n",
        "from pandas.io.json import json_normalize"
      ],
      "execution_count": 0,
      "outputs": []
    },
    {
      "cell_type": "code",
      "metadata": {
        "id": "R9gnqY-XJbQk",
        "colab_type": "code",
        "outputId": "6d8acde4-d195-4137-8034-e172ab1753d5",
        "colab": {
          "base_uri": "https://localhost:8080/",
          "height": 51
        }
      },
      "source": [
        "import spacy.cli\n",
        "spacy.cli.download(\"en_core_web_lg\")\n",
        "import en_core_web_lg\n",
        "from spacy.gold import docs_to_json, biluo_tags_from_offsets, offsets_from_biluo_tags"
      ],
      "execution_count": 5,
      "outputs": [
        {
          "output_type": "stream",
          "text": [
            "\u001b[38;5;2m✔ Download and installation successful\u001b[0m\n",
            "You can now load the model via spacy.load('en_core_web_lg')\n"
          ],
          "name": "stdout"
        }
      ]
    },
    {
      "cell_type": "code",
      "metadata": {
        "id": "SS5aJl7_jFgG",
        "colab_type": "code",
        "colab": {}
      },
      "source": [
        "def cleanse_text(text):\n",
        "  step1 = re.sub(r\"(\\{'LOWER':\\s)\",r\"\",str(text))\n",
        "  step2 = re.sub(r\"[\\[{\\'\\,\\\"}\\]]\",r\"\",step1)\n",
        "  return step2\n",
        "\n",
        "def trim_entity_spans(data: list) -> list:\n",
        "    \"\"\"Removes leading and trailing white spaces from entity spans.\n",
        "\n",
        "    Args:\n",
        "        data (list): The data to be cleaned in spaCy JSON format.\n",
        "\n",
        "    Returns:\n",
        "        list: The cleaned data.\n",
        "    \"\"\"\n",
        "    invalid_span_tokens = re.compile(r'\\s')\n",
        "\n",
        "    cleaned_data = []\n",
        "    for text, annotations in data:\n",
        "        entities = annotations['entities']\n",
        "\n",
        "        print(text, annotations)\n",
        "        valid_entities = []\n",
        "        for start, end, label in entities:\n",
        "          valid_start = start\n",
        "          valid_end = end\n",
        "          print(valid_start, valid_end, len(text))\n",
        "          while valid_start < len(text) and invalid_span_tokens.match(text[valid_start]):\n",
        "            valid_start += 1\n",
        "          while valid_end > 1 and invalid_span_tokens.match(text[valid_end - 1]):\n",
        "            valid_end -= 1\n",
        "          valid_entities.append([valid_start, valid_end, label])\n",
        "        cleaned_data.append([text, {'entities': valid_entities}])\n",
        "\n",
        "    return cleaned_data"
      ],
      "execution_count": 0,
      "outputs": []
    },
    {
      "cell_type": "code",
      "metadata": {
        "id": "kPz03VlrgZQm",
        "colab_type": "code",
        "outputId": "272d1257-a015-40a9-bb4c-8371679af2ed",
        "colab": {
          "base_uri": "https://localhost:8080/",
          "height": 197
        }
      },
      "source": [
        "df_pattern = pd.read_json('patterns.jsonl',lines=True)\n",
        "df_pattern['cleaned_pattern'] = df_pattern.pattern.apply(lambda x: cleanse_text(x))\n",
        "df_pattern['label'] = 'U_' + df_pattern.label.astype(str)\n",
        "df_pattern['tup_col'] = list(zip(df_pattern.cleaned_pattern, df_pattern.label))\n",
        "df_pattern['merged'] = df_pattern.apply(lambda row: {row['cleaned_pattern']:row['label']}, axis=1)\n",
        "df_pattern.head()"
      ],
      "execution_count": 8,
      "outputs": [
        {
          "output_type": "execute_result",
          "data": {
            "text/html": [
              "<div>\n",
              "<style scoped>\n",
              "    .dataframe tbody tr th:only-of-type {\n",
              "        vertical-align: middle;\n",
              "    }\n",
              "\n",
              "    .dataframe tbody tr th {\n",
              "        vertical-align: top;\n",
              "    }\n",
              "\n",
              "    .dataframe thead th {\n",
              "        text-align: right;\n",
              "    }\n",
              "</style>\n",
              "<table border=\"1\" class=\"dataframe\">\n",
              "  <thead>\n",
              "    <tr style=\"text-align: right;\">\n",
              "      <th></th>\n",
              "      <th>label</th>\n",
              "      <th>pattern</th>\n",
              "      <th>id</th>\n",
              "      <th>cleaned_pattern</th>\n",
              "      <th>tup_col</th>\n",
              "      <th>merged</th>\n",
              "    </tr>\n",
              "  </thead>\n",
              "  <tbody>\n",
              "    <tr>\n",
              "      <th>0</th>\n",
              "      <td>U_dish</td>\n",
              "      <td>[{'LOWER': ''mpanatigghi'}]</td>\n",
              "      <td>'mpanatigghi</td>\n",
              "      <td>mpanatigghi</td>\n",
              "      <td>(mpanatigghi, U_dish)</td>\n",
              "      <td>{'mpanatigghi': 'U_dish'}</td>\n",
              "    </tr>\n",
              "    <tr>\n",
              "      <th>1</th>\n",
              "      <td>U_dish</td>\n",
              "      <td>[{'LOWER': ''nduja'}]</td>\n",
              "      <td>'nduja</td>\n",
              "      <td>nduja</td>\n",
              "      <td>(nduja, U_dish)</td>\n",
              "      <td>{'nduja': 'U_dish'}</td>\n",
              "    </tr>\n",
              "    <tr>\n",
              "      <th>2</th>\n",
              "      <td>U_dish</td>\n",
              "      <td>[{'LOWER': ''ota'}, {'LOWER': ''ika'}]</td>\n",
              "      <td>'ota_'ika</td>\n",
              "      <td>ota ika</td>\n",
              "      <td>(ota ika, U_dish)</td>\n",
              "      <td>{'ota ika': 'U_dish'}</td>\n",
              "    </tr>\n",
              "    <tr>\n",
              "      <th>3</th>\n",
              "      <td>U_dish</td>\n",
              "      <td>[{'LOWER': '.amaro'}, {'LOWER': 'ramazzotti'}]</td>\n",
              "      <td>.amaro_ramazzotti</td>\n",
              "      <td>.amaro ramazzotti</td>\n",
              "      <td>(.amaro ramazzotti, U_dish)</td>\n",
              "      <td>{'.amaro ramazzotti': 'U_dish'}</td>\n",
              "    </tr>\n",
              "    <tr>\n",
              "      <th>4</th>\n",
              "      <td>U_dish</td>\n",
              "      <td>[{'LOWER': '15'}, {'LOWER': 'bean'}, {'LOWER':...</td>\n",
              "      <td>15_bean_soup</td>\n",
              "      <td>15 bean soup</td>\n",
              "      <td>(15 bean soup, U_dish)</td>\n",
              "      <td>{'15 bean soup': 'U_dish'}</td>\n",
              "    </tr>\n",
              "  </tbody>\n",
              "</table>\n",
              "</div>"
            ],
            "text/plain": [
              "    label  ...                           merged\n",
              "0  U_dish  ...        {'mpanatigghi': 'U_dish'}\n",
              "1  U_dish  ...              {'nduja': 'U_dish'}\n",
              "2  U_dish  ...            {'ota ika': 'U_dish'}\n",
              "3  U_dish  ...  {'.amaro ramazzotti': 'U_dish'}\n",
              "4  U_dish  ...       {'15 bean soup': 'U_dish'}\n",
              "\n",
              "[5 rows x 6 columns]"
            ]
          },
          "metadata": {
            "tags": []
          },
          "execution_count": 8
        }
      ]
    },
    {
      "cell_type": "code",
      "metadata": {
        "id": "YDmBhmceraTI",
        "colab_type": "code",
        "outputId": "a1bdc327-0786-46b8-e17e-df278c36d174",
        "colab": {
          "base_uri": "https://localhost:8080/",
          "height": 191
        }
      },
      "source": [
        "ent_list = df_pattern.tup_col.to_list()\n",
        "ent_list[50:60]"
      ],
      "execution_count": 9,
      "outputs": [
        {
          "output_type": "execute_result",
          "data": {
            "text/plain": [
              "[('agliata', 'U_dish'),\n",
              " ('agneau du périgord', 'U_dish'),\n",
              " ('agnolotti', 'U_dish'),\n",
              " ('agrodolce', 'U_dish'),\n",
              " ('agua de sevilla', 'U_dish'),\n",
              " ('agua de valencia', 'U_dish'),\n",
              " ('aguachile', 'U_dish'),\n",
              " ('aguadito de pollo', 'U_dish'),\n",
              " ('aguapanela', 'U_dish'),\n",
              " ('aguas frescas', 'U_dish')]"
            ]
          },
          "metadata": {
            "tags": []
          },
          "execution_count": 9
        }
      ]
    },
    {
      "cell_type": "code",
      "metadata": {
        "id": "wSdQvxf4igK6",
        "colab_type": "code",
        "colab": {}
      },
      "source": [
        "nlp = spacy.load(\"en_core_web_lg\")\n",
        "ruler = EntityRuler(nlp).from_disk(\"patterns.jsonl\")\n",
        "emoji = Emoji(nlp)\n",
        "nlp.add_pipe(emoji, first=True)\n",
        "nlp.add_pipe(ruler, before='ner')\n",
        "merge_ents = nlp.create_pipe(\"merge_entities\")\n",
        "nlp.add_pipe(merge_ents, after='ner')"
      ],
      "execution_count": 0,
      "outputs": []
    },
    {
      "cell_type": "code",
      "metadata": {
        "id": "zYGh4-jaH6Ly",
        "colab_type": "code",
        "outputId": "d82ce0d3-40a4-47b8-abf4-452e10603102",
        "colab": {
          "base_uri": "https://localhost:8080/",
          "height": 34
        }
      },
      "source": [
        "nlp.pipe_names"
      ],
      "execution_count": 11,
      "outputs": [
        {
          "output_type": "execute_result",
          "data": {
            "text/plain": [
              "['emoji', 'tagger', 'parser', 'entity_ruler', 'ner', 'merge_entities']"
            ]
          },
          "metadata": {
            "tags": []
          },
          "execution_count": 11
        }
      ]
    },
    {
      "cell_type": "code",
      "metadata": {
        "id": "AzKrOlarv8ZW",
        "colab_type": "code",
        "outputId": "88b76a37-972e-4244-f9f0-b02bf7887e69",
        "colab": {
          "base_uri": "https://localhost:8080/",
          "height": 69
        }
      },
      "source": [
        "doc1 = nlp(\"I love fettuccine cheese 💚🌿 but hate buffalo wings.\")\n",
        "print([(ent.text, ent.label_, ent.ent_id_) for ent in doc1.ents])\n",
        "\n",
        "displacy.render(doc1,'ent',jupyter=True)\n",
        "\n"
      ],
      "execution_count": 12,
      "outputs": [
        {
          "output_type": "stream",
          "text": [
            "[('fettuccine', 'dish', 'fettuccine'), ('buffalo wings', 'dish', 'buffalo_wings')]\n"
          ],
          "name": "stdout"
        },
        {
          "output_type": "display_data",
          "data": {
            "text/html": [
              "<div class=\"entities\" style=\"line-height: 2.5; direction: ltr\">I love \n",
              "<mark class=\"entity\" style=\"background: #ddd; padding: 0.45em 0.6em; margin: 0 0.25em; line-height: 1; border-radius: 0.35em; box-decoration-break: clone; -webkit-box-decoration-break: clone\">\n",
              "    fettuccine\n",
              "    <span style=\"font-size: 0.8em; font-weight: bold; line-height: 1; border-radius: 0.35em; text-transform: uppercase; vertical-align: middle; margin-left: 0.5rem\">dish</span>\n",
              "</mark>\n",
              " cheese 💚🌿 but hate \n",
              "<mark class=\"entity\" style=\"background: #ddd; padding: 0.45em 0.6em; margin: 0 0.25em; line-height: 1; border-radius: 0.35em; box-decoration-break: clone; -webkit-box-decoration-break: clone\">\n",
              "    buffalo wings\n",
              "    <span style=\"font-size: 0.8em; font-weight: bold; line-height: 1; border-radius: 0.35em; text-transform: uppercase; vertical-align: middle; margin-left: 0.5rem\">dish</span>\n",
              "</mark>\n",
              ".</div>"
            ],
            "text/plain": [
              "<IPython.core.display.HTML object>"
            ]
          },
          "metadata": {
            "tags": []
          }
        }
      ]
    },
    {
      "cell_type": "code",
      "metadata": {
        "id": "VZ2JkO1uwBLt",
        "colab_type": "code",
        "outputId": "792cff65-afd1-48e6-9081-626c711bc1cc",
        "colab": {
          "base_uri": "https://localhost:8080/",
          "height": 51
        }
      },
      "source": [
        "doc2 = nlp(\"Avocado 🌿 are good but chicken tikka masala is fantastic while paneer tikka masala and sweet potato fries are atrocious\")\n",
        "displacy.render(doc2,'ent',jupyter=True)"
      ],
      "execution_count": 13,
      "outputs": [
        {
          "output_type": "display_data",
          "data": {
            "text/html": [
              "<div class=\"entities\" style=\"line-height: 2.5; direction: ltr\">\n",
              "<mark class=\"entity\" style=\"background: #ddd; padding: 0.45em 0.6em; margin: 0 0.25em; line-height: 1; border-radius: 0.35em; box-decoration-break: clone; -webkit-box-decoration-break: clone\">\n",
              "    Avocado\n",
              "    <span style=\"font-size: 0.8em; font-weight: bold; line-height: 1; border-radius: 0.35em; text-transform: uppercase; vertical-align: middle; margin-left: 0.5rem\">fruit</span>\n",
              "</mark>\n",
              " 🌿 are good but \n",
              "<mark class=\"entity\" style=\"background: #ddd; padding: 0.45em 0.6em; margin: 0 0.25em; line-height: 1; border-radius: 0.35em; box-decoration-break: clone; -webkit-box-decoration-break: clone\">\n",
              "    chicken tikka masala\n",
              "    <span style=\"font-size: 0.8em; font-weight: bold; line-height: 1; border-radius: 0.35em; text-transform: uppercase; vertical-align: middle; margin-left: 0.5rem\">dish</span>\n",
              "</mark>\n",
              " is fantastic while \n",
              "<mark class=\"entity\" style=\"background: #ddd; padding: 0.45em 0.6em; margin: 0 0.25em; line-height: 1; border-radius: 0.35em; box-decoration-break: clone; -webkit-box-decoration-break: clone\">\n",
              "    paneer tikka masala\n",
              "    <span style=\"font-size: 0.8em; font-weight: bold; line-height: 1; border-radius: 0.35em; text-transform: uppercase; vertical-align: middle; margin-left: 0.5rem\">dish</span>\n",
              "</mark>\n",
              " and \n",
              "<mark class=\"entity\" style=\"background: #ddd; padding: 0.45em 0.6em; margin: 0 0.25em; line-height: 1; border-radius: 0.35em; box-decoration-break: clone; -webkit-box-decoration-break: clone\">\n",
              "    sweet potato fries\n",
              "    <span style=\"font-size: 0.8em; font-weight: bold; line-height: 1; border-radius: 0.35em; text-transform: uppercase; vertical-align: middle; margin-left: 0.5rem\">dish</span>\n",
              "</mark>\n",
              " are atrocious</div>"
            ],
            "text/plain": [
              "<IPython.core.display.HTML object>"
            ]
          },
          "metadata": {
            "tags": []
          }
        }
      ]
    },
    {
      "cell_type": "code",
      "metadata": {
        "id": "1LFBMNywzLLc",
        "colab_type": "code",
        "outputId": "666038e2-9dcd-4a73-f097-4f3f06fe9bc1",
        "colab": {
          "base_uri": "https://localhost:8080/",
          "height": 34
        }
      },
      "source": [
        "nlp.pipe_names"
      ],
      "execution_count": 0,
      "outputs": [
        {
          "output_type": "execute_result",
          "data": {
            "text/plain": [
              "['emoji', 'tagger', 'parser', 'entity_ruler', 'ner']"
            ]
          },
          "metadata": {
            "tags": []
          },
          "execution_count": 21
        }
      ]
    },
    {
      "cell_type": "code",
      "metadata": {
        "id": "U_hv8JuEIBTR",
        "colab_type": "code",
        "outputId": "edb2d352-b1b7-4c9b-982b-8252340c1d75",
        "colab": {
          "base_uri": "https://localhost:8080/",
          "height": 51
        }
      },
      "source": [
        "doc3 = nlp(\"Baguette is the best bread in the whole world - bagels come close and ciabatta is also up there\")\n",
        "displacy.render(doc3,'ent',jupyter=True)"
      ],
      "execution_count": 14,
      "outputs": [
        {
          "output_type": "display_data",
          "data": {
            "text/html": [
              "<div class=\"entities\" style=\"line-height: 2.5; direction: ltr\">\n",
              "<mark class=\"entity\" style=\"background: #ddd; padding: 0.45em 0.6em; margin: 0 0.25em; line-height: 1; border-radius: 0.35em; box-decoration-break: clone; -webkit-box-decoration-break: clone\">\n",
              "    Baguette\n",
              "    <span style=\"font-size: 0.8em; font-weight: bold; line-height: 1; border-radius: 0.35em; text-transform: uppercase; vertical-align: middle; margin-left: 0.5rem\">dish</span>\n",
              "</mark>\n",
              " is the best bread in the whole world - bagels come close and \n",
              "<mark class=\"entity\" style=\"background: #ddd; padding: 0.45em 0.6em; margin: 0 0.25em; line-height: 1; border-radius: 0.35em; box-decoration-break: clone; -webkit-box-decoration-break: clone\">\n",
              "    ciabatta\n",
              "    <span style=\"font-size: 0.8em; font-weight: bold; line-height: 1; border-radius: 0.35em; text-transform: uppercase; vertical-align: middle; margin-left: 0.5rem\">bread</span>\n",
              "</mark>\n",
              " is also up there</div>"
            ],
            "text/plain": [
              "<IPython.core.display.HTML object>"
            ]
          },
          "metadata": {
            "tags": []
          }
        }
      ]
    },
    {
      "cell_type": "code",
      "metadata": {
        "id": "CnDcxuI_IBx3",
        "colab_type": "code",
        "outputId": "23e8a320-12f2-4ea9-ac8c-1df0162bf92c",
        "colab": {
          "base_uri": "https://localhost:8080/",
          "height": 34
        }
      },
      "source": [
        "nlp.disable_pipes('entity_ruler')"
      ],
      "execution_count": 0,
      "outputs": [
        {
          "output_type": "execute_result",
          "data": {
            "text/plain": [
              "[('entity_ruler', <spacy.pipeline.entityruler.EntityRuler at 0x7f5fdaccc630>)]"
            ]
          },
          "metadata": {
            "tags": []
          },
          "execution_count": 18
        }
      ]
    },
    {
      "cell_type": "code",
      "metadata": {
        "id": "LRdi-_iTIt1O",
        "colab_type": "code",
        "outputId": "e6032a1d-fc1d-41dc-a741-4b76e6a5f78b",
        "colab": {
          "base_uri": "https://localhost:8080/",
          "height": 51
        }
      },
      "source": [
        "doc3 = nlp(\"Baguette is the best chaunk bread in the whole world - bagels come close and ciabatta is also up there\")\n",
        "displacy.render(doc3,'ent',jupyter=True)"
      ],
      "execution_count": 0,
      "outputs": [
        {
          "output_type": "display_data",
          "data": {
            "text/html": [
              "<div class=\"entities\" style=\"line-height: 2.5; direction: ltr\">\n",
              "<mark class=\"entity\" style=\"background: #7aecec; padding: 0.45em 0.6em; margin: 0 0.25em; line-height: 1; border-radius: 0.35em; box-decoration-break: clone; -webkit-box-decoration-break: clone\">\n",
              "    Baguette\n",
              "    <span style=\"font-size: 0.8em; font-weight: bold; line-height: 1; border-radius: 0.35em; text-transform: uppercase; vertical-align: middle; margin-left: 0.5rem\">ORG</span>\n",
              "</mark>\n",
              " is the best chaunk bread in the whole world - bagels come close and ciabatta is also up there</div>"
            ],
            "text/plain": [
              "<IPython.core.display.HTML object>"
            ]
          },
          "metadata": {
            "tags": []
          }
        }
      ]
    },
    {
      "cell_type": "code",
      "metadata": {
        "id": "Qx41Eqp31oWT",
        "colab_type": "code",
        "outputId": "6b230f5c-6c9a-4975-cd9a-b4ef5ded7616",
        "colab": {
          "base_uri": "https://localhost:8080/",
          "height": 138
        }
      },
      "source": [
        "reviews = pd.read_csv('reviews_text.csv',usecols=['_id', 'text'])\n",
        "reviews.info()"
      ],
      "execution_count": 15,
      "outputs": [
        {
          "output_type": "stream",
          "text": [
            "<class 'pandas.core.frame.DataFrame'>\n",
            "RangeIndex: 56156 entries, 0 to 56155\n",
            "Data columns (total 2 columns):\n",
            "_id     56156 non-null object\n",
            "text    56155 non-null object\n",
            "dtypes: object(2)\n",
            "memory usage: 877.6+ KB\n"
          ],
          "name": "stdout"
        }
      ]
    },
    {
      "cell_type": "code",
      "metadata": {
        "id": "tcPrdbjn2A7X",
        "colab_type": "code",
        "outputId": "d3148f93-2bae-4129-fc88-74d9a5c256cc",
        "colab": {
          "base_uri": "https://localhost:8080/",
          "height": 138
        }
      },
      "source": [
        "reviews.dropna(inplace=True)\n",
        "reviews.info()"
      ],
      "execution_count": 16,
      "outputs": [
        {
          "output_type": "stream",
          "text": [
            "<class 'pandas.core.frame.DataFrame'>\n",
            "Int64Index: 56155 entries, 0 to 56155\n",
            "Data columns (total 2 columns):\n",
            "_id     56155 non-null object\n",
            "text    56155 non-null object\n",
            "dtypes: object(2)\n",
            "memory usage: 1.3+ MB\n"
          ],
          "name": "stdout"
        }
      ]
    },
    {
      "cell_type": "code",
      "metadata": {
        "id": "wSV4paug2LTo",
        "colab_type": "code",
        "outputId": "3431dbbf-1b2a-44ee-889e-d4b67ca53e9a",
        "colab": {
          "base_uri": "https://localhost:8080/",
          "height": 225
        }
      },
      "source": [
        "train_reviews = reviews['text'][0:2000]\n",
        "train_reviews"
      ],
      "execution_count": 17,
      "outputs": [
        {
          "output_type": "execute_result",
          "data": {
            "text/plain": [
              "0       Burger joint offers a wide range of cheeseburg...\n",
              "1       It was really good. The mushroom broth was esp...\n",
              "2       $8.90 for sesame rice, mushroom rendang, curry...\n",
              "3       2 mains + 1 green rice bento from greendot. Re...\n",
              "4       The lion mane mushroom rendang is so delicious...\n",
              "                              ...                        \n",
              "1995    Part of an all-you-can-eat vegan lunch set. Al...\n",
              "1996    Part of an all-you-can-eat vegan lunch set. Th...\n",
              "1997    Egg white omelette with asparagus, feta, sauté...\n",
              "1998    This dish of stuffed tomatoes and green pepper...\n",
              "1999    Yummy warm dessert with crumbled hazelnuts and...\n",
              "Name: text, Length: 2000, dtype: object"
            ]
          },
          "metadata": {
            "tags": []
          },
          "execution_count": 17
        }
      ]
    },
    {
      "cell_type": "code",
      "metadata": {
        "id": "txc5n_63WRy0",
        "colab_type": "code",
        "colab": {}
      },
      "source": [
        ""
      ],
      "execution_count": 0,
      "outputs": []
    },
    {
      "cell_type": "code",
      "metadata": {
        "id": "zDxp93oFXuZP",
        "colab_type": "code",
        "colab": {}
      },
      "source": [
        "ingredients_list = ['pistachio', 'almond', 'walnut', 'cashew', 'peanuts', 'macadamia', 'hazelnuts', 'pecan', 'brazil nut', 'pine nut' ]\n",
        "issues_list = ['crumble - maybe a verb', 'milk']\n",
        "food_times = \n",
        "to_be_added_list = ['spirulina', 'herbs', 'micro-greens', 'greens','spinach','eggs', 'nut butters', 'cream cheese', 'cake', 'pepper', 'zucchini', 'aubergines',  'tomato',\\\n",
        "                    'oysters', 'kale', 'cucumber', 'quinoa', 'tomatoes', 'onion' ,'garlic', 'avocado', 'chilli', 'dark chocolate', 'mushrooms', 'coriander' ,'corn chips',\\\n",
        "                    'marinara', 'donuts', 'olives', 'crackers', 'waffles', 'strawberry', 'blueberry', 'raspberry', 'compote', 'mayo', 'mayonnaise', 'soy milk', 'oat milk', \\\n",
        "                    'coconut milk', 'almond milk', 'caffeine', 'milk tea', 'cauliflower', 'matcha', 'sorbet', 'banana', 'goji berry', 'chickpea', 'spinach', 'romaine',\\\n",
        "                    'arugula', 'cacao', 'Portobello', 'pear', 'plant milk', 'BBQ sauce', 'artichoke', 'mango', 'sandwich', 'capsicum', 'wedge', 'kang kong', 'seitan',\\\n",
        "                    'ciabatta', 'focaccia', 'bean sprouts', 'olive oil']"
      ],
      "execution_count": 0,
      "outputs": []
    },
    {
      "cell_type": "code",
      "metadata": {
        "id": "ZC0Hqtpt2U9l",
        "colab_type": "code",
        "outputId": "1e3d7170-ecf7-45fe-f63f-cdaf092ec353",
        "colab": {
          "base_uri": "https://localhost:8080/",
          "height": 208
        }
      },
      "source": [
        "check = np.random.randint(0,50000,3)\n",
        "print(check)\n",
        "\n",
        "for doc in list(nlp.pipe(texts[check])):\n",
        "  displacy.render(doc,'ent',jupyter=True)\n",
        "#  displacy.render(doc,'dep',jupyter=True,options={'distance': 60, 'fine_grained': True})\n",
        "\n"
      ],
      "execution_count": 0,
      "outputs": [
        {
          "output_type": "stream",
          "text": [
            "[49671 32259 46827]\n"
          ],
          "name": "stdout"
        },
        {
          "output_type": "display_data",
          "data": {
            "text/html": [
              "<div class=\"entities\" style=\"line-height: 2.5; direction: ltr\">By far my favorite vegan laksa! Gravy is very thick and flavorful. I\n",
              "<mark class=\"entity\" style=\"background: #7aecec; padding: 0.45em 0.6em; margin: 0 0.25em; line-height: 1; border-radius: 0.35em; box-decoration-break: clone; -webkit-box-decoration-break: clone\">\n",
              "    ’m\n",
              "    <span style=\"font-size: 0.8em; font-weight: bold; line-height: 1; border-radius: 0.35em; text-transform: uppercase; vertical-align: middle; margin-left: 0.5rem\">ORG</span>\n",
              "</mark>\n",
              " not a big fan of mock-meat so I’d usually request for no mock-meat (‘fishballs’ and ‘prawns’) but more tau pok and tau gey. It can be a little too spicy sometimes though. My other favourites at \n",
              "<mark class=\"entity\" style=\"background: #7aecec; padding: 0.45em 0.6em; margin: 0 0.25em; line-height: 1; border-radius: 0.35em; box-decoration-break: clone; -webkit-box-decoration-break: clone\">\n",
              "    Greendot\n",
              "    <span style=\"font-size: 0.8em; font-weight: bold; line-height: 1; border-radius: 0.35em; text-transform: uppercase; vertical-align: middle; margin-left: 0.5rem\">ORG</span>\n",
              "</mark>\n",
              " used to be their \n",
              "<mark class=\"entity\" style=\"background: #7aecec; padding: 0.45em 0.6em; margin: 0 0.25em; line-height: 1; border-radius: 0.35em; box-decoration-break: clone; -webkit-box-decoration-break: clone\">\n",
              "    Herbal Soup\n",
              "    <span style=\"font-size: 0.8em; font-weight: bold; line-height: 1; border-radius: 0.35em; text-transform: uppercase; vertical-align: middle; margin-left: 0.5rem\">ORG</span>\n",
              "</mark>\n",
              " and \n",
              "<mark class=\"entity\" style=\"background: #7aecec; padding: 0.45em 0.6em; margin: 0 0.25em; line-height: 1; border-radius: 0.35em; box-decoration-break: clone; -webkit-box-decoration-break: clone\">\n",
              "    Lion\n",
              "    <span style=\"font-size: 0.8em; font-weight: bold; line-height: 1; border-radius: 0.35em; text-transform: uppercase; vertical-align: middle; margin-left: 0.5rem\">ORG</span>\n",
              "</mark>\n",
              "’s Mane Rendung until I stopped consuming eggs and dairy \n",
              "<mark class=\"entity\" style=\"background: #bfe1d9; padding: 0.45em 0.6em; margin: 0 0.25em; line-height: 1; border-radius: 0.35em; box-decoration-break: clone; -webkit-box-decoration-break: clone\">\n",
              "    a year ago\n",
              "    <span style=\"font-size: 0.8em; font-weight: bold; line-height: 1; border-radius: 0.35em; text-transform: uppercase; vertical-align: middle; margin-left: 0.5rem\">DATE</span>\n",
              "</mark>\n",
              ". Really hope they would consider offering vegan options for these \n",
              "<mark class=\"entity\" style=\"background: #e4e7d2; padding: 0.45em 0.6em; margin: 0 0.25em; line-height: 1; border-radius: 0.35em; box-decoration-break: clone; -webkit-box-decoration-break: clone\">\n",
              "    two\n",
              "    <span style=\"font-size: 0.8em; font-weight: bold; line-height: 1; border-radius: 0.35em; text-transform: uppercase; vertical-align: middle; margin-left: 0.5rem\">CARDINAL</span>\n",
              "</mark>\n",
              " dishes.</div>"
            ],
            "text/plain": [
              "<IPython.core.display.HTML object>"
            ]
          },
          "metadata": {
            "tags": []
          }
        },
        {
          "output_type": "display_data",
          "data": {
            "text/html": [
              "<div class=\"entities\" style=\"line-height: 2.5; direction: ltr\">This dish consists of scrambled tofu, \n",
              "<mark class=\"entity\" style=\"background: #c887fb; padding: 0.45em 0.6em; margin: 0 0.25em; line-height: 1; border-radius: 0.35em; box-decoration-break: clone; -webkit-box-decoration-break: clone\">\n",
              "    Turkish\n",
              "    <span style=\"font-size: 0.8em; font-weight: bold; line-height: 1; border-radius: 0.35em; text-transform: uppercase; vertical-align: middle; margin-left: 0.5rem\">NORP</span>\n",
              "</mark>\n",
              " toast, roast tomato, pumpkin, hash brown, and baby spinach. Very delicious</div>"
            ],
            "text/plain": [
              "<IPython.core.display.HTML object>"
            ]
          },
          "metadata": {
            "tags": []
          }
        },
        {
          "output_type": "display_data",
          "data": {
            "text/html": [
              "<div class=\"entities\" style=\"line-height: 2.5; direction: ltr\">These were yum chips and so was the cheese, the gravy was good too though more just at the bottom of the bowl</div>"
            ],
            "text/plain": [
              "<IPython.core.display.HTML object>"
            ]
          },
          "metadata": {
            "tags": []
          }
        }
      ]
    },
    {
      "cell_type": "code",
      "metadata": {
        "id": "LqwDWA5YpI7p",
        "colab_type": "code",
        "colab": {}
      },
      "source": [
        "\n",
        "\n"
      ],
      "execution_count": 0,
      "outputs": []
    },
    {
      "cell_type": "code",
      "metadata": {
        "id": "scOvECiXeMP3",
        "colab_type": "code",
        "outputId": "f5ad1bbe-149c-49bc-c9f3-e0bac7650832",
        "colab": {
          "base_uri": "https://localhost:8080/",
          "height": 34
        }
      },
      "source": [
        "doc = nlp(\"I like London. I also like Bangalore\")\n",
        "tok_list = [token for token in doc]\n",
        "print(tok_list, len(tok_list))\n"
      ],
      "execution_count": 0,
      "outputs": [
        {
          "output_type": "stream",
          "text": [
            "[I, like, London, ., I, also, like, Bangalore] 8\n"
          ],
          "name": "stdout"
        }
      ]
    },
    {
      "cell_type": "code",
      "metadata": {
        "id": "Mv0CbelBexot",
        "colab_type": "code",
        "outputId": "87c1d218-cb3e-4d8a-f6a2-d4f67cfe3aa9",
        "colab": {
          "base_uri": "https://localhost:8080/",
          "height": 34
        }
      },
      "source": [
        "tags = ['O' for tok in tok_list]\n",
        "tags"
      ],
      "execution_count": 0,
      "outputs": [
        {
          "output_type": "execute_result",
          "data": {
            "text/plain": [
              "['O', 'O', 'O', 'O', 'O', 'O', 'O', 'O']"
            ]
          },
          "metadata": {
            "tags": []
          },
          "execution_count": 30
        }
      ]
    },
    {
      "cell_type": "code",
      "metadata": {
        "id": "9lHScjA8e7ZN",
        "colab_type": "code",
        "outputId": "743cf8cc-88e7-4382-d98f-15a7e114afb8",
        "colab": {
          "base_uri": "https://localhost:8080/",
          "height": 34
        }
      },
      "source": [
        "tags[2] = 'U-LOC'\n",
        "tags[7] = 'U-LOC'\n",
        "tags"
      ],
      "execution_count": 0,
      "outputs": [
        {
          "output_type": "execute_result",
          "data": {
            "text/plain": [
              "['O', 'O', 'U-LOC', 'O', 'O', 'O', 'O', 'U-LOC']"
            ]
          },
          "metadata": {
            "tags": []
          },
          "execution_count": 69
        }
      ]
    },
    {
      "cell_type": "code",
      "metadata": {
        "id": "UfIC8POaeayc",
        "colab_type": "code",
        "outputId": "57e24741-70bc-42aa-9523-e4ecc8bad9f2",
        "colab": {
          "base_uri": "https://localhost:8080/",
          "height": 34
        }
      },
      "source": [
        "entities = offsets_from_biluo_tags(doc, tags)\n",
        "entities"
      ],
      "execution_count": 0,
      "outputs": [
        {
          "output_type": "execute_result",
          "data": {
            "text/plain": [
              "[(7, 13, 'LOC'), (27, 36, 'LOC')]"
            ]
          },
          "metadata": {
            "tags": []
          },
          "execution_count": 70
        }
      ]
    },
    {
      "cell_type": "code",
      "metadata": {
        "id": "LX5EGsANfeQl",
        "colab_type": "code",
        "outputId": "f12f834d-a1f0-4642-b128-988e77f1daa7",
        "colab": {
          "base_uri": "https://localhost:8080/",
          "height": 34
        }
      },
      "source": [
        "doc = nlp(\"I love Punjabi cuisine.\")\n",
        "[ent.label_ for ent in doc.ents]"
      ],
      "execution_count": 0,
      "outputs": [
        {
          "output_type": "execute_result",
          "data": {
            "text/plain": [
              "['NORP']"
            ]
          },
          "metadata": {
            "tags": []
          },
          "execution_count": 31
        }
      ]
    },
    {
      "cell_type": "code",
      "metadata": {
        "id": "b5Kc1KldflRG",
        "colab_type": "code",
        "outputId": "bde7fdce-0f91-4e66-c220-7a08df3568ba",
        "colab": {
          "base_uri": "https://localhost:8080/",
          "height": 34
        }
      },
      "source": [
        ""
      ],
      "execution_count": 0,
      "outputs": [
        {
          "output_type": "execute_result",
          "data": {
            "text/plain": [
              "['NORP']"
            ]
          },
          "metadata": {
            "tags": []
          },
          "execution_count": 74
        }
      ]
    },
    {
      "cell_type": "code",
      "metadata": {
        "id": "tE-BsJRnf9YD",
        "colab_type": "code",
        "outputId": "5d63478b-7bdf-41f0-9919-4fb4e4f0250b",
        "colab": {
          "base_uri": "https://localhost:8080/",
          "height": 51
        }
      },
      "source": [
        "tok_list = [token for token in doc]\n",
        "print(tok_list, len(tok_list))\n",
        "tags = ['O' for tok in tok_list]\n",
        "print(tags)"
      ],
      "execution_count": 0,
      "outputs": [
        {
          "output_type": "stream",
          "text": [
            "[I, love, Punjabi, cuisine, .] 5\n",
            "['O', 'O', 'O', 'O', 'O']\n"
          ],
          "name": "stdout"
        }
      ]
    },
    {
      "cell_type": "code",
      "metadata": {
        "id": "DT_Bf9fvgNGS",
        "colab_type": "code",
        "outputId": "e561db34-920d-41a4-d2a4-e588d03ad72b",
        "colab": {
          "base_uri": "https://localhost:8080/",
          "height": 51
        }
      },
      "source": [
        "tags[2] = 'U-NORP'\n",
        "print(tags)\n",
        "entities = offsets_from_biluo_tags(doc, tags)\n",
        "print(entities)\n"
      ],
      "execution_count": 0,
      "outputs": [
        {
          "output_type": "stream",
          "text": [
            "['O', 'O', 'U-NORP', 'O', 'O']\n",
            "[(7, 15, 'NORP')]\n"
          ],
          "name": "stdout"
        }
      ]
    },
    {
      "cell_type": "code",
      "metadata": {
        "id": "aiwCpezIdwDv",
        "colab_type": "code",
        "outputId": "a2dc531c-0726-477f-bee9-6bc4460a22e3",
        "colab": {
          "base_uri": "https://localhost:8080/",
          "height": 34
        }
      },
      "source": [
        ""
      ],
      "execution_count": 0,
      "outputs": [
        {
          "output_type": "execute_result",
          "data": {
            "text/plain": [
              "['O', 'O', 'U-LOC', 'O']"
            ]
          },
          "metadata": {
            "tags": []
          },
          "execution_count": 63
        }
      ]
    },
    {
      "cell_type": "code",
      "metadata": {
        "id": "MsPzwrAIcVxK",
        "colab_type": "code",
        "outputId": "75ded1cd-a1c9-4b2c-82b0-e173c9f96c2f",
        "colab": {
          "base_uri": "https://localhost:8080/",
          "height": 34
        }
      },
      "source": [
        "json_data = docs_to_json([doc])\n",
        "json_data['paragraphs'][0]['sentences'][0]['tokens'][2]['ner']"
      ],
      "execution_count": 0,
      "outputs": [
        {
          "output_type": "execute_result",
          "data": {
            "text/plain": [
              "'U-NORP'"
            ]
          },
          "metadata": {
            "tags": []
          },
          "execution_count": 98
        }
      ]
    },
    {
      "cell_type": "code",
      "metadata": {
        "id": "jPZsCE6dSuO4",
        "colab_type": "code",
        "colab": {}
      },
      "source": [
        "import srsly"
      ],
      "execution_count": 0,
      "outputs": []
    },
    {
      "cell_type": "code",
      "metadata": {
        "id": "gBvNJGRzPv-y",
        "colab_type": "code",
        "colab": {}
      },
      "source": [
        "f = open('rice.txt')\n",
        "docs = [] # initialize a list to be populated wih strings\n",
        "lines = f.readlines()  # returns a list of srings from the txt file\n",
        "for line in lines:\n",
        "    # print(line[:]) # display the sentence from that line\n",
        "    doc = nlp(line) # convert string into a spacy doc object using nlp\n",
        "    docs.append(doc) # add new doc to the list of docs\n",
        "\n",
        "json_data = docs_to_json(docs) # convert doc into a json file\n",
        "srsly.write_json('spacy_train.json', [json_data])\n"
      ],
      "execution_count": 0,
      "outputs": []
    },
    {
      "cell_type": "code",
      "metadata": {
        "id": "Wnaf1x9tTT8A",
        "colab_type": "code",
        "colab": {}
      },
      "source": [
        "f.close()"
      ],
      "execution_count": 0,
      "outputs": []
    },
    {
      "cell_type": "code",
      "metadata": {
        "id": "F3jdqEADX27z",
        "colab_type": "code",
        "colab": {}
      },
      "source": [
        "check_list = [('bok','U_vegetable'),('choy','U_vegetable'),\\\n",
        "              ('bean','U_vegetable'), ('sprouts','U_vegetable'),\\\n",
        "              ('soffritto','U_dish'),('patties','U_dish'),('cakes','U_dish'),('parmesan','U_dish'),('cheese','U_dish'),('breadcrumbs','U_dish'),\\\n",
        "              ('soy','U_condiment'),('sauce','U_condiment'),\\\n",
        "              ('olive','U_condiment'),('oil','U_condiment'),\\\n",
        "              ('wine','U_beverage'),\\\n",
        "              ('3/4-inch','U_QUANTITY'), ('2-inch','U_QUANTITY'),('3-inch','U_QUANTITY'),('6-inch','U_QUANTITY'),\\\n",
        "              ('first','U_ORDINAL'),('second','U_ORDINAL'),('third','U_ORDINAL'),('fourth','U_ORDINAL'),('fifth','U_ORDINAL'),('last','U_ORDINAL'),\\\n",
        "              ('1','U_CARDINAL'),('2','U_CARDINAL'),('3','U_CARDINAL'),('4','U_CARDINAL'),('5','U_CARDINAL'),('6','U_CARDINAL'),('10','U_CARDINAL'),\\\n",
        "              ('100','U_CARDINAL'),('one','U_CARDINAL'),('two','U_CARDINAL'),('three','U_CARDINAL'),('four','U_CARDINAL'),('five','U_CARDINAL'),('six','U_CARDINAL'),\\\n",
        "              ('seven','U_CARDINAL'),('eight','U_CARDINAL'),('nine','U_CARDINAL'),('ten','U_CARDINAL'),\\\n",
        "              ('minute','U_TIME'),('minutes','U_TIME'),('seconds','U_TIME'),('hour','U_TIME'),('hours','U_TIME'),('day','U_TIME'),\\\n",
        "              ('$', 'U_MONEY'), ('USD', 'U_MONEY'),('SGD', 'U_MONEY'),('S$', 'U_MONEY'), ('Rs', 'U_MONEY'), ('£', 'U_MONEY'), ('€', 'U_MONEY')]"
      ],
      "execution_count": 0,
      "outputs": []
    },
    {
      "cell_type": "code",
      "metadata": {
        "id": "Cjlg-W-RNZV2",
        "colab_type": "code",
        "outputId": "8f707b30-f17e-4dc9-e6c6-133f37f326ef",
        "colab": {
          "base_uri": "https://localhost:8080/",
          "height": 34
        }
      },
      "source": [
        "''.join(list(set([tup[1] for tup in ent_list + check_list if tup[0] == 'rice'])))"
      ],
      "execution_count": 0,
      "outputs": [
        {
          "output_type": "execute_result",
          "data": {
            "text/plain": [
              "'U_dish'"
            ]
          },
          "metadata": {
            "tags": []
          },
          "execution_count": 64
        }
      ]
    },
    {
      "cell_type": "code",
      "metadata": {
        "id": "pISRogIO2HR0",
        "colab_type": "code",
        "colab": {}
      },
      "source": [
        "f = open('rice.txt')\n",
        "docs = [] # initialize a list to be populated wih strings\n",
        "lines = f.readlines()  # returns a list of srings from the txt file\n",
        "for line in lines:\n",
        "    # print(line[:]) # display the sentence from that line\n",
        "    doc = nlp(line) # convert string into a spacy doc object using nlp\n",
        "    docs.append(doc) # add new doc to the list of docs\n",
        "f.close()\n",
        "\n"
      ],
      "execution_count": 0,
      "outputs": []
    },
    {
      "cell_type": "code",
      "metadata": {
        "id": "qGKRsVKF2zQn",
        "colab_type": "code",
        "colab": {}
      },
      "source": [
        "train_gen = (line for line in open('rice.txt'))\n",
        "type(train_gen)\n",
        "to_train_ents = []"
      ],
      "execution_count": 0,
      "outputs": []
    },
    {
      "cell_type": "code",
      "metadata": {
        "id": "Kh9yi7fK23NW",
        "colab_type": "code",
        "outputId": "fa6d40aa-a678-4b08-9f45-ec155f74be43",
        "colab": {
          "base_uri": "https://localhost:8080/",
          "height": 86
        }
      },
      "source": [
        "l = next(train_gen)\n",
        "tok_list = [token.text for token in nlp(l)] \n",
        "#print(l, tok_list)\n",
        "tag_list = ['O' for token in nlp(l)]\n",
        "#print(tag_list)\n",
        "matched_ents = [(i,item) for i, item in enumerate(tok_list) if item.lower() in [i[0] for i in ent_list + check_list]] \n",
        "#print(matched_ents)\n",
        "\n",
        "for ent in matched_ents:\n",
        "  ent_tag = ''.join(list(set([tup[1] for tup in ent_list + check_list if tup[0] == ent[1].lower()])))\n",
        "  print(ent[0], ent[1], ent_tag)\n",
        "  tag_list[ent[0]] = ent_tag\n",
        "\n",
        "#print(tag_list)\n",
        "entities = offsets_from_biluo_tags(nlp(l), tag_list)\n",
        "print(entities)\n",
        "to_train_ents.append((l, dict(entities = entities)))\n",
        "displacy.render(nlp(l),'ent',jupyter=True)\n",
        "print(l, entities)\n",
        "\n",
        "#displacy.render(l,'dep',jupyter=True)"
      ],
      "execution_count": 56,
      "outputs": [
        {
          "output_type": "stream",
          "text": [
            "[]\n"
          ],
          "name": "stdout"
        },
        {
          "output_type": "display_data",
          "data": {
            "text/html": [
              "<div class=\"entities\" style=\"line-height: 2.5; direction: ltr\">Leave alone for \n",
              "<mark class=\"entity\" style=\"background: #bfe1d9; padding: 0.45em 0.6em; margin: 0 0.25em; line-height: 1; border-radius: 0.35em; box-decoration-break: clone; -webkit-box-decoration-break: clone\">\n",
              "    five to seven minutes\n",
              "    <span style=\"font-size: 0.8em; font-weight: bold; line-height: 1; border-radius: 0.35em; text-transform: uppercase; vertical-align: middle; margin-left: 0.5rem\">TIME</span>\n",
              "</mark>\n",
              ", then serve.</div>"
            ],
            "text/plain": [
              "<IPython.core.display.HTML object>"
            ]
          },
          "metadata": {
            "tags": []
          }
        },
        {
          "output_type": "stream",
          "text": [
            "Leave alone for five to seven minutes, then serve. []\n"
          ],
          "name": "stdout"
        }
      ]
    },
    {
      "cell_type": "code",
      "metadata": {
        "id": "X6_NRnDC4GbQ",
        "colab_type": "code",
        "outputId": "0bede159-2423-42fa-9165-e9ea189b66d5",
        "colab": {
          "base_uri": "https://localhost:8080/",
          "height": 34
        }
      },
      "source": [
        "len(to_train_ents)\n",
        "#to_train_ents[-5:]"
      ],
      "execution_count": 57,
      "outputs": [
        {
          "output_type": "execute_result",
          "data": {
            "text/plain": [
              "37"
            ]
          },
          "metadata": {
            "tags": []
          },
          "execution_count": 57
        }
      ]
    },
    {
      "cell_type": "code",
      "metadata": {
        "id": "YaVAV5J_IzFI",
        "colab_type": "code",
        "outputId": "8b2e2411-2c2b-4641-ee1d-f7b402487584",
        "colab": {
          "base_uri": "https://localhost:8080/",
          "height": 263
        }
      },
      "source": [
        "to_train_ents[0:5]"
      ],
      "execution_count": 58,
      "outputs": [
        {
          "output_type": "execute_result",
          "data": {
            "text/plain": [
              "[('If using tofu, cook it.\\n', {'entities': [(9, 13, 'dish')]}),\n",
              " ('Cook the rice as you normally would, but be careful not to use too much water. The rice should not be too sticky. It may help to let the cooked rice sit overnight in the refrigerator.\\n',\n",
              "  {'entities': [(9, 13, 'dish'), (83, 87, 'dish'), (137, 148, 'dish')]}),\n",
              " ('If using onions, dice them into whatever size you prefer.\\n',\n",
              "  {'entities': [(9, 15, 'vegetable')]}),\n",
              " ('If using bok choy, separate the stalk part from the leaf part. Slice the leaf part crosswise into 3/4-inch-thick strips, then tear the strips into 2-inch pieces. These pieces will be treated much like the bean sprouts, though perhaps with slightly more cooking. The stalk part will be treated as celery.\\n',\n",
              "  {'entities': [(9, 17, 'vegetable'),\n",
              "    (98, 106, 'QUANTITY'),\n",
              "    (147, 153, 'QUANTITY'),\n",
              "    (205, 217, 'vegetable'),\n",
              "    (296, 302, 'vegetable')]}),\n",
              " ('If using bean sprouts, wash them and discard any that are not white and crunchy.\\n',\n",
              "  {'entities': [(9, 21, 'vegetable')]})]"
            ]
          },
          "metadata": {
            "tags": []
          },
          "execution_count": 58
        }
      ]
    },
    {
      "cell_type": "code",
      "metadata": {
        "id": "RLCw-6ZWMR71",
        "colab_type": "code",
        "colab": {}
      },
      "source": [
        ""
      ],
      "execution_count": 0,
      "outputs": []
    },
    {
      "cell_type": "code",
      "metadata": {
        "id": "seBlcyjWiffa",
        "colab_type": "code",
        "colab": {}
      },
      "source": [
        "import itertools\n",
        "merged = list(itertools.chain(*[tup[1]['entities'] for tup in to_train_ents]))"
      ],
      "execution_count": 0,
      "outputs": []
    },
    {
      "cell_type": "code",
      "metadata": {
        "id": "PF4BMpymioKL",
        "colab_type": "code",
        "outputId": "2eabbc3d-93da-411a-d06e-2561d3de2daf",
        "colab": {
          "base_uri": "https://localhost:8080/",
          "height": 1000
        }
      },
      "source": [
        "[t[2] for t in merged]"
      ],
      "execution_count": 60,
      "outputs": [
        {
          "output_type": "execute_result",
          "data": {
            "text/plain": [
              "['dish',\n",
              " 'dish',\n",
              " 'dish',\n",
              " 'dish',\n",
              " 'vegetable',\n",
              " 'vegetable',\n",
              " 'QUANTITY',\n",
              " 'QUANTITY',\n",
              " 'vegetable',\n",
              " 'vegetable',\n",
              " 'vegetable',\n",
              " 'dish',\n",
              " 'condiment',\n",
              " 'dish',\n",
              " 'dish',\n",
              " 'condiment',\n",
              " 'dish',\n",
              " 'condiment',\n",
              " 'dish',\n",
              " 'vegetable',\n",
              " 'vegetable',\n",
              " 'condiment',\n",
              " 'CARDINAL',\n",
              " 'condiment',\n",
              " 'condiment',\n",
              " 'dish',\n",
              " 'vegetable',\n",
              " 'vegetable',\n",
              " 'dish',\n",
              " 'dish',\n",
              " 'vegetable',\n",
              " 'condiment',\n",
              " 'condiment',\n",
              " 'dish',\n",
              " 'dish',\n",
              " 'condiment',\n",
              " 'condiment',\n",
              " 'beverage',\n",
              " 'dish',\n",
              " 'dish',\n",
              " 'beverage',\n",
              " 'dish',\n",
              " 'dish',\n",
              " 'dish',\n",
              " 'dish',\n",
              " 'dish',\n",
              " 'dish',\n",
              " 'CARDINAL',\n",
              " 'dish',\n",
              " 'condiment',\n",
              " 'condiment',\n",
              " 'condiment',\n",
              " 'condiment',\n",
              " 'dish',\n",
              " 'dish',\n",
              " 'dish',\n",
              " 'dish',\n",
              " 'CARDINAL',\n",
              " 'dish',\n",
              " 'dish',\n",
              " 'dish',\n",
              " 'condiment',\n",
              " 'vegetable',\n",
              " 'vegetable',\n",
              " 'dish',\n",
              " 'dish',\n",
              " 'dish',\n",
              " 'dish',\n",
              " 'dish',\n",
              " 'dish',\n",
              " 'ORDINAL',\n",
              " 'condiment',\n",
              " 'herb',\n",
              " 'dish',\n",
              " 'dish',\n",
              " 'spice',\n",
              " 'dish',\n",
              " 'vegetable',\n",
              " 'vegetable',\n",
              " 'vegetable',\n",
              " 'dish',\n",
              " 'dish',\n",
              " 'dish',\n",
              " 'dish',\n",
              " 'dish',\n",
              " 'ORDINAL',\n",
              " 'TIME',\n",
              " 'CARDINAL',\n",
              " 'dish',\n",
              " 'dish',\n",
              " 'TIME',\n",
              " 'dish',\n",
              " 'dish',\n",
              " 'dish',\n",
              " 'condiment',\n",
              " 'dish',\n",
              " 'dish',\n",
              " 'dish',\n",
              " 'dish',\n",
              " 'dish',\n",
              " 'CARDINAL',\n",
              " 'dish',\n",
              " 'ORDINAL',\n",
              " 'condiment',\n",
              " 'condiment',\n",
              " 'ORDINAL',\n",
              " 'dish',\n",
              " 'condiment',\n",
              " 'dish',\n",
              " 'dish']"
            ]
          },
          "metadata": {
            "tags": []
          },
          "execution_count": 60
        }
      ]
    },
    {
      "cell_type": "code",
      "metadata": {
        "id": "HB1G5tIvihWs",
        "colab_type": "code",
        "outputId": "542d64fb-1821-415d-ce52-e2b725a05f8e",
        "colab": {
          "base_uri": "https://localhost:8080/",
          "height": 34
        }
      },
      "source": [
        "model = 'en_core_web_lg'\n",
        "\n",
        "\n",
        "\n",
        "\"\"\"Load the model, set up the pipeline and train the entity recognizer.\"\"\"\n",
        "if model is not None:\n",
        "    nlp = spacy.load(model)  # load existing spaCy model\n",
        "    print(\"Loaded model '%s'\" % model)\n",
        "else:\n",
        "    nlp = spacy.blank(\"en\")  # create blank Language class\n",
        "    print(\"Created blank 'en' model\")\n",
        "\n",
        "# nlp.create_pipe works for built-ins that are registered with spaCy\n",
        "if \"ner\" not in nlp.pipe_names:\n",
        "    ner = nlp.create_pipe(\"ner\")\n",
        "    nlp.add_pipe(ner, last=True)\n",
        "# otherwise, get it so we can add labels\n",
        "else:\n",
        "    ner = nlp.get_pipe(\"ner\")\n",
        "\n",
        "# add labels\n",
        "for _, annotations in to_train_ents:\n",
        "    for ent in annotations.get(\"entities\"):\n",
        "        ner.add_label(ent[2])"
      ],
      "execution_count": 61,
      "outputs": [
        {
          "output_type": "stream",
          "text": [
            "Loaded model 'en_core_web_lg'\n"
          ],
          "name": "stdout"
        }
      ]
    },
    {
      "cell_type": "code",
      "metadata": {
        "id": "_TQqvRheMWzm",
        "colab_type": "code",
        "outputId": "94eee4f8-cf0a-4f9e-8484-adae51fbc0bc",
        "colab": {
          "base_uri": "https://localhost:8080/",
          "height": 434
        }
      },
      "source": [
        "ner.labels"
      ],
      "execution_count": 62,
      "outputs": [
        {
          "output_type": "execute_result",
          "data": {
            "text/plain": [
              "('dish',\n",
              " 'ORG',\n",
              " 'condiment',\n",
              " 'FAC',\n",
              " 'vegetable',\n",
              " 'ORDINAL',\n",
              " 'PERSON',\n",
              " 'PRODUCT',\n",
              " 'LOC',\n",
              " 'spice',\n",
              " 'CARDINAL',\n",
              " 'LANGUAGE',\n",
              " 'TIME',\n",
              " 'WORK_OF_ART',\n",
              " 'GPE',\n",
              " 'DATE',\n",
              " 'LAW',\n",
              " 'NORP',\n",
              " 'beverage',\n",
              " 'MONEY',\n",
              " 'EVENT',\n",
              " 'herb',\n",
              " 'PERCENT',\n",
              " 'QUANTITY')"
            ]
          },
          "metadata": {
            "tags": []
          },
          "execution_count": 62
        }
      ]
    },
    {
      "cell_type": "code",
      "metadata": {
        "id": "SYlPQ58WW5F9",
        "colab_type": "code",
        "colab": {}
      },
      "source": [
        "from spacy.gold import GoldParse"
      ],
      "execution_count": 0,
      "outputs": []
    },
    {
      "cell_type": "code",
      "metadata": {
        "id": "Z5zBtvk6wRIl",
        "colab_type": "code",
        "outputId": "17bc3656-274b-400e-a44a-c804211c3eea",
        "colab": {
          "base_uri": "https://localhost:8080/",
          "height": 887
        }
      },
      "source": [
        "# get names of other pipes to disable them during training\n",
        "other_pipes = [pipe for pipe in nlp.pipe_names if pipe not in [\"ner\", \"entity_ruler\",\"merge_entities\"]]\n",
        "with nlp.disable_pipes(*other_pipes):  # only train NER\n",
        "    # reset and initialize the weights randomly – but only if we're\n",
        "    # training a new model\n",
        "    if model is None:\n",
        "        nlp.begin_training()\n",
        "\n",
        "\n",
        "\n",
        "    for itn in range(5):\n",
        "      random.shuffle(clean_train_ents)\n",
        "      losses = {}\n",
        "\n",
        "#      for item in clean_train_ents:\n",
        "# batch up the examples using spaCy's minibatch\n",
        "      batches = minibatch(clean_train_ents, size=compounding(4.0, 32.0, 1.001))\n",
        "\n",
        "      for batch in batches:\n",
        "        texts, annotations = zip(*batch)\n",
        "#        print([item[0]], [item[1]])\n",
        "\n",
        "#        print(texts)\n",
        "#        print(annotations)\n",
        "        nlp.update(texts, annotations, drop=0.5, losses=losses)\n",
        "        print(losses)"
      ],
      "execution_count": 66,
      "outputs": [
        {
          "output_type": "stream",
          "text": [
            "{'ner': 68.43624067306519}\n",
            "{'ner': 184.61740112304688}\n",
            "{'ner': 258.61230278015137}\n",
            "{'ner': 335.3837299346924}\n",
            "{'ner': 397.74806785583496}\n",
            "{'ner': 496.07928681373596}\n",
            "{'ner': 604.3904078006744}\n",
            "{'ner': 697.9849517345428}\n",
            "{'ner': 898.3083918094635}\n",
            "{'ner': 913.0961752086878}\n",
            "{'ner': 77.2951397895813}\n",
            "{'ner': 199.11220693588257}\n",
            "{'ner': 272.8479437828064}\n",
            "{'ner': 399.1770589351654}\n",
            "{'ner': 510.91890597343445}\n",
            "{'ner': 571.7339107990265}\n",
            "{'ner': 673.7506942749023}\n",
            "{'ner': 836.8600540161133}\n",
            "{'ner': 893.0359942913055}\n",
            "{'ner': 904.4475624634651}\n",
            "{'ner': 76.6790599822998}\n",
            "{'ner': 248.98345279693604}\n",
            "{'ner': 359.4646096229553}\n",
            "{'ner': 447.50255060195923}\n",
            "{'ner': 550.7681419849396}\n",
            "{'ner': 665.9656307697296}\n",
            "{'ner': 718.2194759845734}\n",
            "{'ner': 780.4857132434845}\n",
            "{'ner': 906.0226509571075}\n",
            "{'ner': 942.5896518924274}\n",
            "{'ner': 68.84220838546753}\n",
            "{'ner': 148.96541571617126}\n",
            "{'ner': 251.8399977684021}\n",
            "{'ner': 350.8443260192871}\n",
            "{'ner': 446.8515214920044}\n",
            "{'ner': 509.65203619003296}\n",
            "{'ner': 614.8967356681824}\n",
            "{'ner': 704.9221341609955}\n",
            "{'ner': 897.5528650283813}\n",
            "{'ner': 906.3885138100595}\n",
            "{'ner': 99.11557960510254}\n",
            "{'ner': 184.80943131446838}\n",
            "{'ner': 270.3797879219055}\n",
            "{'ner': 460.4393210411072}\n",
            "{'ner': 544.440104007721}\n",
            "{'ner': 622.5587096214294}\n",
            "{'ner': 748.2091861963272}\n",
            "{'ner': 817.0167857408524}\n",
            "{'ner': 893.5588480234146}\n",
            "{'ner': 914.5160444909707}\n"
          ],
          "name": "stdout"
        }
      ]
    },
    {
      "cell_type": "code",
      "metadata": {
        "id": "o71FuR23SmbQ",
        "colab_type": "code",
        "colab": {}
      },
      "source": [
        "check_list = []\n",
        "to_train_ents = []"
      ],
      "execution_count": 0,
      "outputs": []
    },
    {
      "cell_type": "code",
      "metadata": {
        "id": "_b90bE1v5_bf",
        "colab_type": "code",
        "colab": {
          "base_uri": "https://localhost:8080/",
          "height": 34
        },
        "outputId": "e1379d39-cba2-484a-f8d0-abc474cdf246"
      },
      "source": [
        "train_rev = (rev for rev in train_reviews)\n",
        "type(train_rev)"
      ],
      "execution_count": 23,
      "outputs": [
        {
          "output_type": "execute_result",
          "data": {
            "text/plain": [
              "generator"
            ]
          },
          "metadata": {
            "tags": []
          },
          "execution_count": 23
        }
      ]
    },
    {
      "cell_type": "code",
      "metadata": {
        "id": "g-b1X22C6QC0",
        "colab_type": "code",
        "outputId": "0859dd21-a966-49b0-9b9f-e2fed27db358",
        "colab": {
          "base_uri": "https://localhost:8080/",
          "height": 121
        }
      },
      "source": [
        "rev = next(train_rev)\n",
        "tok_list = [token.text for token in nlp(rev)] \n",
        "#print(rev, tok_list)\n",
        "tag_list = ['O' for token in nlp(rev)]\n",
        "#print(tag_list)\n",
        "matched_ents = [(i,item) for i, item in enumerate(tok_list) if item.lower() in [i[0] for i in ent_list + check_list]] \n",
        "#print(matched_ents)\n",
        "\n",
        "ent_for_doc = []\n",
        "for ent in matched_ents:\n",
        "  ent_tag = ''.join(list(set([tup[1] for tup in ent_list + check_list if tup[0] == ent[1].lower()])))\n",
        "  ent_for_doc.append((ent[0], ent[1], ent_tag))  \n",
        "  tag_list[ent[0]] = ent_tag\n",
        "print(ent_for_doc)\n",
        "#print(tag_list)\n",
        "entities = offsets_from_biluo_tags(nlp(rev), tag_list)\n",
        "print(entities)\n",
        "to_train_ents.append((rev, dict(entities = entities)))\n",
        "displacy.render(nlp(rev),'ent',jupyter=True)\n",
        "#print(rev, entities)\n",
        "\n",
        "#displacy.render(l,'dep',jupyter=True)\n",
        "\n",
        "n_entities_to_be_added = int(input(\"How many entities are missing: \"))\n",
        "if n_entities_to_be_added == 0:\n",
        "  print('You entered {} Thanks. So no new entities to be considered'.format(n_entities_to_be_added))\n",
        "else:\n",
        "  for user_input in range(n_entities_to_be_added):\n",
        "    e_name = input('Provide the name of the entity to be added: ')\n",
        "    e_label = input('Provide the label of the entity to be added:')\n",
        "    print(e_name, e_label)\n",
        "    check_list.append((e_name, e_label))"
      ],
      "execution_count": 171,
      "outputs": [
        {
          "output_type": "stream",
          "text": [
            "[(2, 'salad', 'U_dish'), (5, 'Autobus', 'ORG')]\n",
            "[(13, 18, 'dish')]\n"
          ],
          "name": "stdout"
        },
        {
          "output_type": "display_data",
          "data": {
            "text/html": [
              "<div class=\"entities\" style=\"line-height: 2.5; direction: ltr\">Really fresh \n",
              "<mark class=\"entity\" style=\"background: #ddd; padding: 0.45em 0.6em; margin: 0 0.25em; line-height: 1; border-radius: 0.35em; box-decoration-break: clone; -webkit-box-decoration-break: clone\">\n",
              "    salad\n",
              "    <span style=\"font-size: 0.8em; font-weight: bold; line-height: 1; border-radius: 0.35em; text-transform: uppercase; vertical-align: middle; margin-left: 0.5rem\">dish</span>\n",
              "</mark>\n",
              " bowls from \n",
              "<mark class=\"entity\" style=\"background: #feca74; padding: 0.45em 0.6em; margin: 0 0.25em; line-height: 1; border-radius: 0.35em; box-decoration-break: clone; -webkit-box-decoration-break: clone\">\n",
              "    Autobus\n",
              "    <span style=\"font-size: 0.8em; font-weight: bold; line-height: 1; border-radius: 0.35em; text-transform: uppercase; vertical-align: middle; margin-left: 0.5rem\">GPE</span>\n",
              "</mark>\n",
              "! Loved the customizable options that I get to choose from and it makes for a great lunch</div>"
            ],
            "text/plain": [
              "<IPython.core.display.HTML object>"
            ]
          },
          "metadata": {
            "tags": []
          }
        },
        {
          "output_type": "stream",
          "text": [
            "How many entities are missing: 0\n",
            "You entered 0 Thanks. So no new entities to be considered\n"
          ],
          "name": "stdout"
        }
      ]
    },
    {
      "cell_type": "code",
      "metadata": {
        "id": "X2W5UjmSVV3b",
        "colab_type": "code",
        "colab": {
          "base_uri": "https://localhost:8080/",
          "height": 104
        },
        "outputId": "3e9df5e2-72a1-4af2-d540-7ed87705a695"
      },
      "source": [
        "check_list[-5:]"
      ],
      "execution_count": 173,
      "outputs": [
        {
          "output_type": "execute_result",
          "data": {
            "text/plain": [
              "[('brussels sprouts', 'U_vegetable'),\n",
              " ('soy sesame', 'U_condiment'),\n",
              " ('soya sesame', 'U_condiment'),\n",
              " ('squash', 'U_vegetable'),\n",
              " ('honey mustard sauce', 'U_condiment')]"
            ]
          },
          "metadata": {
            "tags": []
          },
          "execution_count": 173
        }
      ]
    },
    {
      "cell_type": "code",
      "metadata": {
        "id": "KYobzFRrImAK",
        "colab_type": "code",
        "colab": {
          "base_uri": "https://localhost:8080/",
          "height": 34
        },
        "outputId": "4e410244-fe00-43c3-dff0-ac2772f2f6c5"
      },
      "source": [
        "len(to_train_ents)"
      ],
      "execution_count": 172,
      "outputs": [
        {
          "output_type": "execute_result",
          "data": {
            "text/plain": [
              "109"
            ]
          },
          "metadata": {
            "tags": []
          },
          "execution_count": 172
        }
      ]
    },
    {
      "cell_type": "code",
      "metadata": {
        "id": "3UShE2sdsZAm",
        "colab_type": "code",
        "colab": {
          "base_uri": "https://localhost:8080/",
          "height": 34
        },
        "outputId": "19298d59-78e9-4413-fea0-d6424024fdb0"
      },
      "source": [
        "model = 'en_core_web_lg'\n",
        "\n",
        "\n",
        "\n",
        "\"\"\"Load the model, set up the pipeline and train the entity recognizer.\"\"\"\n",
        "if model is not None:\n",
        "    nlp = spacy.load(model)  # load existing spaCy model\n",
        "    print(\"Loaded model '%s'\" % model)\n",
        "else:\n",
        "    nlp = spacy.blank(\"en\")  # create blank Language class\n",
        "    print(\"Created blank 'en' model\")\n",
        "\n",
        "# nlp.create_pipe works for built-ins that are registered with spaCy\n",
        "if \"ner\" not in nlp.pipe_names:\n",
        "    ner = nlp.create_pipe(\"ner\")\n",
        "    nlp.add_pipe(ner, last=True)\n",
        "# otherwise, get it so we can add labels\n",
        "else:\n",
        "    ner = nlp.get_pipe(\"ner\")\n",
        "\n",
        "# add labels\n",
        "for _, annotations in to_train_ents:\n",
        "    for ent in annotations.get(\"entities\"):\n",
        "        ner.add_label(ent[2])"
      ],
      "execution_count": 175,
      "outputs": [
        {
          "output_type": "stream",
          "text": [
            "Loaded model 'en_core_web_lg'\n"
          ],
          "name": "stdout"
        }
      ]
    },
    {
      "cell_type": "code",
      "metadata": {
        "id": "PxZpmHnSsahQ",
        "colab_type": "code",
        "colab": {
          "base_uri": "https://localhost:8080/",
          "height": 539
        },
        "outputId": "bfeddfe0-6cc6-4159-d40c-abbe8223fd6a"
      },
      "source": [
        "ner.labels"
      ],
      "execution_count": 176,
      "outputs": [
        {
          "output_type": "execute_result",
          "data": {
            "text/plain": [
              "('PERCENT',\n",
              " 'CARDINAL',\n",
              " 'spice',\n",
              " 'pastryU_dish',\n",
              " 'vegetable',\n",
              " 'PERSON',\n",
              " 'herb',\n",
              " 'bread',\n",
              " 'dish',\n",
              " 'herbU_vegetable',\n",
              " 'PRODUCT',\n",
              " 'GPE',\n",
              " 'fruitU_vegetable',\n",
              " 'EVENT',\n",
              " 'WORK_OF_ART',\n",
              " 'ORDINAL',\n",
              " 'ORG',\n",
              " 'MONEY',\n",
              " 'FAC',\n",
              " 'LANGUAGE',\n",
              " 'LAW',\n",
              " 'QUANTITY',\n",
              " 'condiment',\n",
              " 'fruit',\n",
              " 'NORP',\n",
              " 'breadU_dish',\n",
              " 'TIME',\n",
              " 'DATE',\n",
              " 'LOC',\n",
              " 'spiceU_vegetable')"
            ]
          },
          "metadata": {
            "tags": []
          },
          "execution_count": 176
        }
      ]
    },
    {
      "cell_type": "code",
      "metadata": {
        "id": "NTk7IpQDso5P",
        "colab_type": "code",
        "colab": {
          "base_uri": "https://localhost:8080/",
          "height": 34
        },
        "outputId": "103e186e-d3a4-455f-9a3a-edc9fd435289"
      },
      "source": [
        "len(to_train_ents)"
      ],
      "execution_count": 99,
      "outputs": [
        {
          "output_type": "execute_result",
          "data": {
            "text/plain": [
              "63"
            ]
          },
          "metadata": {
            "tags": []
          },
          "execution_count": 99
        }
      ]
    },
    {
      "cell_type": "code",
      "metadata": {
        "id": "6msp9lEOsjPt",
        "colab_type": "code",
        "colab": {
          "base_uri": "https://localhost:8080/",
          "height": 1000
        },
        "outputId": "18feec1f-890a-42a8-d39c-91fb6860ec0b"
      },
      "source": [
        "clean_train_ents = trim_entity_spans(to_train_ents)"
      ],
      "execution_count": 177,
      "outputs": [
        {
          "output_type": "stream",
          "text": [
            "Burger joint offers a wide range of cheeseburger choices and vegetarian mushroom option. Price range from $12 for the standard cheeseburger to the top of the range double jalapeno bacon cheeseburger at $30.40.\n",
            "\n",
            "We ordered the vegetarian option which is the Portobello mushroom burger with the option to add jalapeno. Inside the bun it comes with tomato, onions, pickles and lettuce, basically what you expect from a burger. Currently burger joint is only offering the Portobello mushroom burger as their only choice of vegetarian option but I spoke to Darius, the manager who said that they will be sampling more vegetarian options in the coming weeks. I asked why they are bringing in more vegetarian options is because there is a increase demand for vegetarian dishes. \n",
            "\n",
            "Waiting time for the he Portobello burger was about 10 minutes and it came In a paper bag and it was well wrapped inside. When you unwrap the burger, you can just imagine how huge the burger is and it can barely fit into your mouth. \n",
            "\n",
            "The first bite I took, the components of the burger like lettuce, tomatoes, pickles, onions and jalapenos, the flavor of them combined exploded in my mouth. It tasted to fresh and juicy and you just want to have more and more. As for the Portobello mushroom, it was just a patty coming along for the ride. There was a mild taste of Portobello but nothing wow to get you off your seat. It probably isn’t the best burger I’ve tasted but it’s good enough to be one of the better vegetarian burgers I’ve tasted. There is a big con against this joint. It is that the Portobello mushroom jalapeno burger with no sides cost around $17. It is certainly on the pricey side mainly due to the overall freshness and quality of the food. {'entities': [(0, 6, 'dish'), (36, 48, 'dish'), (72, 80, 'vegetable'), (127, 139, 'dish'), (171, 179, 'vegetable'), (180, 185, 'dish'), (186, 198, 'dish'), (257, 276, 'vegetable'), (277, 283, 'dish'), (307, 315, 'vegetable'), (346, 352, 'fruit'), (354, 360, 'vegetable'), (362, 369, 'condiment'), (374, 381, 'vegetable'), (416, 422, 'dish'), (434, 440, 'dish'), (468, 487, 'vegetable'), (488, 494, 'dish'), (808, 814, 'dish'), (915, 921, 'dish'), (957, 963, 'dish'), (1053, 1059, 'dish'), (1065, 1072, 'vegetable'), (1074, 1082, 'fruit'), (1084, 1091, 'condiment'), (1093, 1099, 'vegetable'), (1246, 1265, 'vegetable'), (1420, 1426, 'dish'), (1570, 1589, 'vegetable'), (1590, 1598, 'vegetable'), (1599, 1605, 'dish')]}\n",
            "0 6 1732\n",
            "36 48 1732\n",
            "72 80 1732\n",
            "127 139 1732\n",
            "171 179 1732\n",
            "180 185 1732\n",
            "186 198 1732\n",
            "257 276 1732\n",
            "277 283 1732\n",
            "307 315 1732\n",
            "346 352 1732\n",
            "354 360 1732\n",
            "362 369 1732\n",
            "374 381 1732\n",
            "416 422 1732\n",
            "434 440 1732\n",
            "468 487 1732\n",
            "488 494 1732\n",
            "808 814 1732\n",
            "915 921 1732\n",
            "957 963 1732\n",
            "1053 1059 1732\n",
            "1065 1072 1732\n",
            "1074 1082 1732\n",
            "1084 1091 1732\n",
            "1093 1099 1732\n",
            "1246 1265 1732\n",
            "1420 1426 1732\n",
            "1570 1589 1732\n",
            "1590 1598 1732\n",
            "1599 1605 1732\n",
            "It was really good. The mushroom broth was especially soupy. The food in general is good and I highly recommend this place to anyone who wants a gr8 meal. {'entities': [(24, 32, 'vegetable')]}\n",
            "24 32 154\n",
            "$8.90 for sesame rice, mushroom rendang, curry potato with tofu, French beans and vegetable broth. Healthy, hearty, comforting food and warm service with a smile. {'entities': [(10, 16, 'spice'), (17, 21, 'dish'), (23, 31, 'vegetable'), (32, 39, 'dish'), (41, 46, 'dish'), (47, 53, 'vegetable'), (59, 63, 'dish'), (65, 77, 'vegetable')]}\n",
            "10 16 162\n",
            "17 21 162\n",
            "23 31 162\n",
            "32 39 162\n",
            "41 46 162\n",
            "47 53 162\n",
            "59 63 162\n",
            "65 77 162\n",
            "2 mains + 1 green rice bento from greendot. Recommended to try! {'entities': [(18, 22, 'dish'), (23, 28, 'dish')]}\n",
            "18 22 63\n",
            "23 28 63\n",
            "I felt like beehoon and was able to change my rice to noodle for an extra dollar. There was a good amount of mushroom in it. Yums. The broccoli was very tasty like it was smoked. Definitely will add it to my bento next time. Cabbage wasn't my favorite cuz it was slightly sweet. Soup was herbally. Overall a satisfying meal. {'entities': [(12, 19, 'dish'), (46, 50, 'dish'), (54, 60, 'dish'), (74, 80, 'MONEY'), (109, 117, 'vegetable'), (135, 143, 'vegetable'), (208, 213, 'dish'), (225, 232, 'vegetable'), (279, 283, 'dish')]}\n",
            "12 19 324\n",
            "46 50 324\n",
            "54 60 324\n",
            "74 80 324\n",
            "109 117 324\n",
            "135 143 324\n",
            "208 213 324\n",
            "225 232 324\n",
            "279 283 324\n",
            "Finally came round to trying the famous lion’s mane mushroom rendang and they were great: texture was very similar to chicken and curry gravy was tasty. Humble stir-fried vegetables were good too. {'entities': [(52, 60, 'vegetable'), (61, 68, 'dish'), (130, 135, 'dish')]}\n",
            "52 60 196\n",
            "61 68 196\n",
            "130 135 196\n",
            "Good, healthy meal but can get pretty expensive for a bento. Only drawback is I ate this once during CNY and the broccoli was really bitter - never had that before. {'entities': [(54, 59, 'dish'), (113, 121, 'vegetable')]}\n",
            "54 59 164\n",
            "113 121 164\n",
            "Good choice for a simple but healthy lunch, you will have discount as student! {'entities': []}\n",
            "Soy chunks are rly good. The quantity is substantial and the soup is really good. Quite filling and the rice is gd.\n",
            "Mostly Chinese style cooking. {'entities': [(0, 10, 'dish'), (61, 65, 'dish'), (104, 108, 'dish')]}\n",
            "0 10 145\n",
            "61 65 145\n",
            "104 108 145\n",
            "The minced soya noodles are a great source of both carbs and protein at the end of a long day. One of my favorite dishes from green dot because it also travels well! {'entities': [(11, 23, 'dish')]}\n",
            "11 23 165\n",
            "e burrito was packed so tightly, and I felt a weird sense of satisfaction just from looking at it. Perhaps it was the anticipation of sinking my teeth into a mouthful of flavoured rice and beans but I was so excited as I cut the burrito open. The rice fell out almost immediately and exposed the rest of ingredients inside; salsa, peppers and onions. I chowed down and was rewarded with the fragrance from the ingredients. The wrap was nicely toasted and I really liked the texture as I chewed on it. However, my initial positive impression of the rice was not rewarded accordingly. The rice was not as fragrant and soft as I would have liked, and the proportion of rice to the other ingredients was too much. It felt like I was eating a lot more rice than I would have liked. The lettuce and mushrooms were however still excellent much like the salad! I was not sure how the kitchen managed the ingredients but it does seem that the vegetables team were having their game on point. {'entities': [(2, 9, 'dish'), (180, 194, 'dish'), (229, 236, 'dish'), (247, 251, 'dish'), (324, 329, 'dish'), (331, 338, 'condiment'), (343, 349, 'vegetable'), (548, 552, 'dish'), (587, 591, 'dish'), (666, 670, 'dish'), (747, 751, 'dish'), (781, 788, 'vegetable'), (846, 851, 'dish')]}\n",
            "2 9 982\n",
            "180 194 982\n",
            "229 236 982\n",
            "247 251 982\n",
            "324 329 982\n",
            "331 338 982\n",
            "343 349 982\n",
            "548 552 982\n",
            "587 591 982\n",
            "666 670 982\n",
            "747 751 982\n",
            "781 788 982\n",
            "846 851 982\n",
            "Imagine my delight when the dishes came. To be honest, I was a little disappointed when I noted the serving size of the paneer tikka masala. The garlic naan however came in two large pieces and I was so eager to get my hands onto those. I tasted the paneer tikka masala and to my delight, the spices of the curry really came together so well. The cottage cheese came in huge chunks in the curry, and the entire dish tasted excellent. I stirred my spoon around the curry and found pieces of vegetable, which really made the entire dish feel like I was eating a very fragrant stew. If I could make any improvements, I would have preferred a slightly spicier curry, but this dish was really fragrant and it was a delicious experience. This raised my expectations for the garlic naan which I greedily tore into pieces. I dipped my first piece and ate it with the curry (which was excellent) but when I ate the second piece by itself, I fell back disappointed. I was not an expert with naans, but it     was burned, and not just at the extent of being slightly charred. I could detect a bitter aftertaste and the naan just tasted bad. I tried parts of it which were less burnt, and it was actually not too bad; I could taste the garlic in it. However the naan was a little too buttery and oily; adding on to the burnt parts of it and I could not bring myself to finish the dish. {'entities': [(120, 139, 'dish'), (145, 151, 'spice'), (152, 156, 'bread'), (250, 269, 'dish'), (307, 312, 'dish'), (389, 394, 'dish'), (464, 469, 'dish'), (574, 578, 'dish'), (656, 661, 'dish'), (768, 774, 'spice'), (775, 779, 'bread'), (859, 864, 'dish'), (1108, 1112, 'bread'), (1224, 1230, 'spice'), (1250, 1254, 'bread')]}\n",
            "120 139 1373\n",
            "145 151 1373\n",
            "152 156 1373\n",
            "250 269 1373\n",
            "307 312 1373\n",
            "389 394 1373\n",
            "464 469 1373\n",
            "574 578 1373\n",
            "656 661 1373\n",
            "768 774 1373\n",
            "775 779 1373\n",
            "859 864 1373\n",
            "1108 1112 1373\n",
            "1224 1230 1373\n",
            "1250 1254 1373\n",
            "Decided to try this wrap after reading all the positive reviews on ABV. The wrap really did live up to my expectation. Absolutely love the combination of the sweet potato fries with the garlic sauce. Can’t believe this dish was vegan! Will return back for sure👍🏼 {'entities': [(158, 176, 'dish'), (186, 192, 'spice'), (193, 198, 'condiment')]}\n",
            "158 176 262\n",
            "186 192 262\n",
            "193 198 262\n",
            "Overall a really solid falafel wrap. Has pickled peppers, cabbage, and avocado 🥑 and served with really delicious sweet potato 🍠 fries, a cabbage slaw and the most delicious vegan garlic dip ever!\n",
            "\n",
            "It’s super hard to find great Lebanese food in Singapore and Urban Bites is about as good as it gets here! Also check out Fat Prince. {'entities': [(23, 30, 'dish'), (49, 56, 'condiment'), (58, 65, 'vegetable'), (71, 78, 'fruit'), (114, 126, 'vegetable'), (138, 145, 'vegetable'), (180, 186, 'spice')]}\n",
            "23 30 331\n",
            "49 56 331\n",
            "58 65 331\n",
            "71 78 331\n",
            "114 126 331\n",
            "138 145 331\n",
            "180 186 331\n",
            "Delicious, nutritious and filling, what else can you ask for? 🤩🤩 I really enjoyed the taste of the falafel and the sweet potato chips. The hummus is top! {'entities': [(99, 106, 'dish'), (115, 127, 'vegetable'), (139, 145, 'dish')]}\n",
            "99 106 153\n",
            "115 127 153\n",
            "139 145 153\n",
            "Got this again cos I know it'll be tasty, healthy and filling. And it didn't disappoint! Always amazed at their garlic sauce though cos it looks and tastes almost like mayo but without all the (gross) stuff and way better! And the crunch of the veggies tgt with the falafels + the soft wrap never fails 💯 {'entities': [(112, 118, 'spice'), (119, 124, 'condiment'), (266, 274, 'dish')]}\n",
            "112 118 304\n",
            "119 124 304\n",
            "266 274 304\n",
            "This is one of my favorite lunch options in Singapore’s CBD. It’s perfect every time and I normally swap out the sweet potato 🍠 fries for more salad or regular fries which they throw a bunch of spices on. Even the garlic dip is vegan 🌱 and brings everything together. Not a better falafel sandwich 🥙 anywhere in 🇸🇬\n",
            "\n",
            "#telokayer #urbanbites {'entities': [(113, 125, 'vegetable'), (143, 148, 'dish'), (214, 220, 'spice'), (281, 297, 'dish')]}\n",
            "113 125 338\n",
            "143 148 338\n",
            "214 220 338\n",
            "281 297 338\n",
            "This was yummyyyy. Everything was so fresh and well put tgt, the falafel had a great crunch to it as well. Would def go back! {'entities': [(65, 72, 'dish')]}\n",
            "65 72 125\n",
            "My fav meal at one of my fav restaurants. Best falafels I’ve ever had! {'entities': [(47, 55, 'dish')]}\n",
            "47 55 70\n",
            "It tasted good but perhaps because this was at Earthfest, it wasn’t very value for money - $14 for a small-ish wrap and three sticks of crudités. {'entities': [(136, 144, 'dish')]}\n",
            "136 144 145\n",
            "This is very delicious! They serve this with a salad. And it also comes with a garlic sauce. I am not usually a fan of garlic sauces but I was amazed on how good it was with the wrap. Love the falafel. This is simply amazing! #crfsg {'entities': [(47, 52, 'dish'), (79, 85, 'spice'), (86, 91, 'condiment'), (119, 125, 'spice'), (193, 200, 'dish')]}\n",
            "47 52 232\n",
            "79 85 232\n",
            "86 91 232\n",
            "119 125 232\n",
            "193 200 232\n",
            "One of the best wraps I've ever had!  Beautiful combination of flavors and textures.  Side Salad is a bit boring but ok. {'entities': [(91, 96, 'dish')]}\n",
            "91 96 120\n",
            "This is by far the best falafel sandwich in Singapore! It’s so perfectly made with the usual ingredients but also nice touches like beets and pickles. And the vegan garlic aioli is AMAZING!!! They serve this with a side of vegan slaw and sweet potato fries but I swap the fries out for some tabbouleh (which I love here because it’s got a ton of fresh parsley!)\n",
            "\n",
            "#bestof #falafel #telokayer {'entities': [(24, 40, 'dish'), (142, 149, 'condiment'), (165, 171, 'spice'), (172, 177, 'dish'), (238, 256, 'dish'), (291, 300, 'dish'), (352, 359, 'herbU_vegetable'), (372, 379, 'dish')]}\n",
            "24 40 390\n",
            "142 149 390\n",
            "165 171 390\n",
            "172 177 390\n",
            "238 256 390\n",
            "291 300 390\n",
            "352 359 390\n",
            "372 379 390\n",
            "This falafel wrap hits the spot every time. The wrap itself is freshly made and rolled tightly packed with fresh falafel and pickled veggies and beets. The whipped garlic sauce is out of this world and they serve all of this with really good sweet potato fries and salad. Pretty awesome!\n",
            "\n",
            "#falafel #cbdsg #singapore #urbanbites {'entities': [(5, 12, 'dish'), (113, 120, 'dish'), (145, 150, 'vegetable'), (164, 170, 'spice'), (171, 176, 'condiment'), (242, 260, 'dish'), (265, 270, 'dish'), (290, 297, 'dish')]}\n",
            "5 12 327\n",
            "113 120 327\n",
            "145 150 327\n",
            "164 170 327\n",
            "171 176 327\n",
            "242 260 327\n",
            "265 270 327\n",
            "290 297 327\n",
            "This was amazing, it's so good I forgot it's vegan. Like seriously so many delicious ingredients and textures. The garlic puree was the best thing I've ever had - imagine sour cream but vegan. Boomshakalaka\n",
            "\n",
            "Best thing was it was free. Thanks @vikas {'entities': [(115, 121, 'spice')]}\n",
            "115 121 249\n",
            "This was super good. The wrap was phenomenal and it same with this amazing garlic dipping sauce and sweet potato fries. Definitely make more that one order if sharing. {'entities': [(75, 81, 'spice'), (90, 95, 'condiment'), (100, 118, 'dish')]}\n",
            "75 81 167\n",
            "90 95 167\n",
            "100 118 167\n",
            "Healthy, wholesome, hearty and most importantly tasty! So rare to find places that can mke healthy taste good  Will definitely order again. The garlic dip was proof that you don’t need dairy to make creamy and flavourful dips! {'entities': [(144, 150, 'spice')]}\n",
            "144 150 226\n",
            "Some people might think that it's quite pricey but I think the portion of the dish is quite a lot. The sweet potato chips were awesome, especially, and overall I totally enjoyed the meal here. I'd def recommend this place as long as you can have a diverse spectrum to choose menu including non-vegan, vegetarian, and vegan dishes. {'entities': [(103, 115, 'vegetable')]}\n",
            "103 115 330\n",
            "These falafel wraps have become something of an addiction. They’re cheap and delicious, and satisfy our cravings for Middle Eastern style fast food. {'entities': [(6, 13, 'dish'), (138, 147, 'dish')]}\n",
            "6 13 148\n",
            "138 147 148\n",
            "UrbanBites' falafel wrap came lightly toasted and packed with a balanced spread of falafel and greens. Accompanying the wrap was a generous portion of sweet potato fries which came with a delicious garlic dip--the creamy and full texture of the dip prompted me to check with the staff to confirm that it was vegan, and I was surprised that they were able to craft such a rich sauce without any dairy or eggs. A salad with greens, tomatoes, and onions tied together the meal, and left me satisfied with their healthy and delicious lunch offering. Overall, the presentation and quality of the meal was great, and the atmosphere of UrbanBites was well-suited to an extended lunch conversation on a rainy afternoon. I will be visiting again and I look forward to trying their other dishes. {'entities': [(12, 19, 'dish'), (83, 90, 'dish'), (151, 169, 'dish'), (198, 204, 'spice'), (376, 381, 'condiment'), (403, 407, 'dish'), (411, 416, 'dish'), (430, 438, 'fruit'), (444, 450, 'vegetable')]}\n",
            "12 19 785\n",
            "83 90 785\n",
            "151 169 785\n",
            "198 204 785\n",
            "376 381 785\n",
            "403 407 785\n",
            "411 416 785\n",
            "430 438 785\n",
            "444 450 785\n",
            "Portions here are always really worth it 😍 The falafel wrap wasn't as spicy as I expected but there was a kick with slices of chilli inside and was even more flavorful with pickles! Sweet potato fries perfect as always and seems to be even more than I remembered being served to? And the toum!!!!!! It's a garlic sauce! So good I can eat it with anything - in fact I'm going to try and make it myself sometime soon 😋 {'entities': [(47, 54, 'dish'), (173, 180, 'condiment'), (182, 200, 'dish'), (288, 292, 'dish'), (306, 312, 'spice'), (313, 318, 'condiment')]}\n",
            "47 54 416\n",
            "173 180 416\n",
            "182 200 416\n",
            "288 292 416\n",
            "306 312 416\n",
            "313 318 416\n",
            "Apologies for the half-eaten wrap - I was starving! Expected the wrap to be spicier but it was delicious and filling nonetheless. Ironically, the sweet potato fries were way too sweet for my taste. Urban bites does have a lot of vegetarian options that can be made vegan! Slightly on the expensive side, but well worth the money spent. {'entities': [(146, 164, 'dish')]}\n",
            "146 164 335\n",
            "This is one of my favorite vegan dishes at Urban Bites. The wrap comes with a delicious vegan whipped garlic mayo, crunchy sweet potato fries and they just started including a vegan cabbage slaw that’s fantastic. And the wrap’s pretty awesome too! 😋 {'entities': [(102, 108, 'spice'), (123, 141, 'dish'), (182, 189, 'vegetable')]}\n",
            "102 108 249\n",
            "123 141 249\n",
            "182 189 249\n",
            "This is a really great falafel wrap with just the right amount of filling and a slightly toasted wrap. I usually love to add something spicy to my food and this wrap offers just the right amount of spice. It also comes with a garlic spread which is surprisingly vegan, made with just whipped garlic and olive oil, that complements the wrap perfectly. It's a great dish! I asked to substitute the sweet potato fries that come with the dish to a side of the tabbouleh salad which they graciously did with no extra charge! {'entities': [(23, 30, 'dish'), (226, 232, 'spice'), (292, 298, 'spice'), (303, 312, 'condiment'), (396, 414, 'dish'), (456, 465, 'dish'), (466, 471, 'dish')]}\n",
            "23 30 519\n",
            "226 232 519\n",
            "292 298 519\n",
            "303 312 519\n",
            "396 414 519\n",
            "456 465 519\n",
            "466 471 519\n",
            "This dish is clearly labeled with a green leaf icon as vegan-friendly and was presented as a special, made with fresh arugula.  The bun was also dairy-free, toasted, and topped with pumpkin seeds. Although a bit messy to eat (sliced in half would have been easier), the sauteed mushrooms with crisp arugula was scrumptious. My friend and I even shared another burger after each eating our own. {'entities': [(118, 125, 'vegetable'), (182, 189, 'vegetable'), (293, 298, 'dish'), (299, 306, 'vegetable'), (360, 366, 'dish')]}\n",
            "118 125 393\n",
            "182 189 393\n",
            "293 298 393\n",
            "299 306 393\n",
            "360 366 393\n",
            "It’s so delicious and substantial!! Very hearty ingredients and great!! Add more rice, chips or beans to be more filling or add more guac for a creamier bowl {'entities': [(81, 85, 'dish'), (96, 101, 'vegetable')]}\n",
            "81 85 157\n",
            "96 101 157\n",
            "Protip: get the vegetarian version of the burrito bowl and the guacamole is included free of the $2 charge that is normally added on for the meat versions! While Mexican food can often be overpriced and disappointing in Singapore, GyG's Vegetarian Burrito Bowl is always hearty and rewarding. It can be made vegan by omitting cheese. Sub brown rice for a healthier option. This big portion is difficult to finish in one sitting. It includes tortilla chips, beans, rice, lots of veggies, and guacamole. Fresh chopped parsley and sliced jalapeno are self-service, as is salsa in 3 heat types: mild, medium, and hot. {'entities': [(42, 49, 'dish'), (63, 72, 'dish'), (141, 145, 'dish'), (248, 255, 'dish'), (344, 348, 'dish'), (441, 449, 'breadU_dish'), (457, 462, 'vegetable'), (464, 468, 'dish'), (491, 500, 'dish'), (516, 523, 'herbU_vegetable'), (535, 543, 'vegetable'), (568, 573, 'dish')]}\n",
            "42 49 613\n",
            "63 72 613\n",
            "141 145 613\n",
            "248 255 613\n",
            "344 348 613\n",
            "441 449 613\n",
            "457 462 613\n",
            "464 468 613\n",
            "491 500 613\n",
            "516 523 613\n",
            "535 543 613\n",
            "568 573 613\n",
            "UB Salad. Freshly prepared vegetarian food. The different dips were yummy {'entities': [(3, 8, 'dish')]}\n",
            "3 8 73\n",
            "One of the best baklava I've had as it was not overpoweringly sweet like the others I've had. This allowed the fragrance of the nuts to come through. The pastry was also crispy and not soggy with syrup. {'entities': [(16, 23, 'pastryU_dish'), (196, 201, 'dish')]}\n",
            "16 23 202\n",
            "196 201 202\n",
            "Who could have said to have been to Singapore if they have never tried traditional Malay cuisine before? Indochilli serves up some of our favourite Indonesian-Malay dishes in a slightly more ‘posh’ setting as compared to the kopitiams that we are used to; definitely a welcoming option for our sun-fearing office crowd. \n",
            "\n",
            "I had the Nasi Kampung which the waitress assured me was vegetarian friendly. The dish was a simple plate of rice and an assortment of sides such as omelette, urap, tempe, balado, bakwan jagung, pickles and toasted coconut. What I really like about such dishes, are the savoury and spicy flavours that they bring to a simple plate of rice. I was a little disappointed though in this instance where I found the side dishes to be a little on the oily side and the flavours were found to be slightly lacking. Still, it was refreshing to have a large array of side dishes to pair with the rice and each mouthful was a pleasant treat. \n",
            "\n",
            "A decent dish, although the quality could be better to match up to the price tag. An option to consider if you are in the area! {'entities': [(431, 435, 'dish'), (471, 479, 'dish'), (481, 485, 'dish'), (502, 508, 'dish'), (517, 524, 'condiment'), (537, 544, 'fruit'), (656, 660, 'dish'), (907, 911, 'dish')]}\n",
            "431 435 1081\n",
            "471 479 1081\n",
            "481 485 1081\n",
            "502 508 1081\n",
            "517 524 1081\n",
            "537 544 1081\n",
            "656 660 1081\n",
            "907 911 1081\n",
            "ordered the Hot Stone Bimbimbap Combo, which included the Bimbimbap as well as a Sesame Soontofu. I was assured by the waitress that these dishes were vegetarian and I excitedly waited for the dishes to be served. As with most Korean places, the side dishes were served up as appetisers. There was the usual kimchi, a small plate of seaweed, a piece of fried fish, as well as spicy stir fried squid. The sides dishes tasted decent; nothing too fanciful or different from what I have had before at other places. Still, I could not judge the quality of the place before I have seen their main cast right?\n",
            "\n",
            "\tThe Bimbimbap looked nothing short of fantastic in my opinion. As mentioned, the mix of bright colours really appealed in the dish, and the claypot that held the food highlighted the aesthetics of the entire dish. The bed of white rice that lay beneath the vegetables looked fresh and bursting with flavour. The Sesame Soontofu however did not look as pleasing and the steamed egg that floated above the soup laid in pieces. Seaweed floated around limply in the soup bowl and the bowl just did not appeal to me.\n",
            "\n",
            "The Bimbimbap could stand to score higher in terms of taste. I noted, and enjoyed the taste of the charred rice that was typical as with claypot dishes. The claypot meant that the rice bits stuck to the side of the claypot were typically charred and had a nice roasted smell to it. However the rest of the rice were not as soft as I would have preferred my rice. The plus point for the dish was that as expected, the freshness of the vegetables really helped to enhance the fragrance and the smell of the bimbimbap. However, and this could actually be down to a ‘plus point’, but SBCD’s proud declaration of no MSG in their dishes also meant that the dish tasted rather bland as a whole. I felt that the bimbimbap did not have a strong a flavour as one would expect from most Korean dishes. As mentioned, the texture of the dish was also ordinary and the sole plus point would come from the fragrance from the vegetables. The soup was also cold, and tasted bland and plain. However, the steamed egg turned out to be rather tasty. Despite its appearance, the chunky egg bits were welcomed and tasted delicious. {'entities': [(81, 87, 'spice'), (308, 314, 'dish'), (836, 840, 'dish'), (917, 923, 'spice'), (982, 985, 'dish'), (1009, 1013, 'dish'), (1067, 1071, 'dish'), (1225, 1229, 'dish'), (1298, 1302, 'dish'), (1424, 1428, 'dish'), (1475, 1479, 'dish'), (2044, 2048, 'dish'), (2113, 2116, 'dish'), (2183, 2186, 'dish')]}\n",
            "81 87 2227\n",
            "308 314 2227\n",
            "836 840 2227\n",
            "917 923 2227\n",
            "982 985 2227\n",
            "1009 1013 2227\n",
            "1067 1071 2227\n",
            "1225 1229 2227\n",
            "1298 1302 2227\n",
            "1424 1428 2227\n",
            "1475 1479 2227\n",
            "2044 2048 2227\n",
            "2113 2116 2227\n",
            "2183 2186 2227\n",
            "Subway style sandwiches are probably the top of the list for most guys and why not? Chunks of yummy goodness encased in freshly baked bread provide for a hearty meal for most people.\n",
            "\n",
            "The Vegetarian Tofu Banh Mi I had was delicious. Perhaps I am a biased carbohydrate lover but I adored the sandwich in its entirety. Tofu, which is normally plain and slightly tasteless was given life by the strong Spicy Garlic Sauce and the vegetables that garnished the sandwich. I had a welcoming crunch from the fresh onions and the entire sandwich was a delight. A word of caution though, I tried to leave half of my sandwich for a snack later on, but found the bread’s texture becoming slightly tougher. An excellent choice, but perhaps you should eat the sandwich all in one go (which isn’t too difficult actually :p) {'entities': [(199, 203, 'dish'), (317, 321, 'dish'), (405, 411, 'spice'), (412, 417, 'condiment'), (506, 512, 'vegetable')]}\n",
            "199 203 808\n",
            "317 321 808\n",
            "405 411 808\n",
            "412 417 808\n",
            "506 512 808\n",
            "Acai portion was bigger than Haakon’s and they had a 20% discount for opening of Novena outlet which I used, so it was pretty worth it. The acai is sweet but not too sweet and thick enough to have a smoothie texture which I really liked. {'entities': [(199, 207, 'dish')]}\n",
            "199 207 237\n",
            "Pretty sure they add sugar to their acai bowls. Not happy about this. I can feel the granules and it’s much sweeter than the average acai bowl.\n",
            "It has a good use of granola and fruIt but unfortunately {'entities': [(21, 26, 'condiment'), (36, 40, 'dish'), (133, 137, 'dish')]}\n",
            "21 26 200\n",
            "36 40 200\n",
            "133 137 200\n",
            "I had ordered the Signature Bowl, while my colleague ordered the Brazilian Bowl. I poked my acai bowl with my spoon and made contact with the delightful texture of the acai puree that was underneath the toppings. The rich colour of the puree made it look too good to eat. I tried the puree and was immensely amazed at how the texture of the puree was identical to that of ice cream. I was not sure if the recipe of the puree included other ingredients, but the puree tasted sweet with a slight tart-y taste, just like what you would expect from a berry. The puree went well with the toppings on my Signature Bowl. Nothing too special about the toppings, although I personally felt that a crunchy option; like the granola I had was an awesome contrast to the soft acai puree. For the same reason, I could not resist but ‘steal’ spoonfuls from my colleague’s Brazilian Bowl (she had granola WITH honey!). The added honey made the entire spoonful of acai such an amazing experience, as the smooth sweetness of honey wrapped itself around the blend of the granola and acai puree. {'entities': [(92, 96, 'dish'), (168, 172, 'dish'), (713, 720, 'dish'), (763, 767, 'dish'), (881, 888, 'dish'), (947, 951, 'dish'), (1052, 1059, 'dish'), (1064, 1068, 'dish')]}\n",
            "92 96 1075\n",
            "168 172 1075\n",
            "713 720 1075\n",
            "763 767 1075\n",
            "881 888 1075\n",
            "947 951 1075\n",
            "1052 1059 1075\n",
            "1064 1068 1075\n",
            "Incredible vegetarian restaurant :) we’ll definitely be back. Our favorite vegetarian spot in Singapore so far!! {'entities': []}\n",
            "The texture of the mushrooms was really amazing and meat-like. The curry was really tasty and I couldn’t stop having more! {'entities': [(52, 56, 'dish'), (67, 72, 'dish')]}\n",
            "52 56 122\n",
            "67 72 122\n",
            "Delicious and spicy mushroom rendang complimented by a refreshing dish of steamed cabbage rolls stuffed with wild black fungus, bamboo pith, mushroom, celery, cabbage and carrots. Finished the meals with a homemade (prepared for more than 30 months!) limited batch of special edition booster enzyme essence that was surprisingly delicious! {'entities': [(20, 28, 'vegetable'), (29, 36, 'dish'), (82, 89, 'vegetable'), (141, 149, 'vegetable'), (151, 157, 'vegetable'), (159, 166, 'vegetable')]}\n",
            "20 28 339\n",
            "29 36 339\n",
            "82 89 339\n",
            "141 149 339\n",
            "151 157 339\n",
            "159 166 339\n",
            "It's surprisingly very delicious and you just cannot stop at one piece. My only gripe is the pricing of this dish - at $22 for an averagely sized portion of mushrooms, it is extremely pricey! We added a bowl of white rice and the total bill for just these two items, including taxes, came up to $28, which can get you a main course at a decently fancy restaurant. As such, this is not a place that one would eat at frequently. (unless it is your payday or some other special occasion) {'entities': [(217, 221, 'dish'), (320, 331, 'dish')]}\n",
            "217 221 484\n",
            "320 331 484\n",
            "I was excited to try their signature Penang Rendang which replaces the traditional meat to shiitake mushrooms. However be informed that this is dish comes only as a vegetarian option and not a vegan option.\n",
            "\n",
            "The traditional rendang with meat normally has a layer of oily visible and it is normally difficult to perfect the texture of the meat. Sometimes it being too firm or it being too soft and breaks up when scooping it. For Whole Earth’s style, the mushroom was soft, juicy and tender. I would say it’s better than most traditional rendang I’ve tried. It simply is more airy and light flavored compared to the “gelat” feeling of a traditional rendang. {'entities': [(44, 51, 'dish'), (83, 87, 'dish'), (100, 109, 'vegetable'), (224, 231, 'dish'), (237, 241, 'dish'), (338, 342, 'dish'), (454, 462, 'vegetable'), (537, 544, 'dish'), (648, 655, 'dish')]}\n",
            "44 51 656\n",
            "83 87 656\n",
            "100 109 656\n",
            "224 231 656\n",
            "237 241 656\n",
            "338 342 656\n",
            "454 462 656\n",
            "537 544 656\n",
            "648 655 656\n",
            "I tried the Penang Rendang which was highly recommended. Personally I was not a big fan of rendang due to the ‘heaviness’ of the dish. Rendang is a Malay dish which involved simmering meat, often beef in coconut milk and is served in a manner similar to curry, albeit a thicker version. The oily nature of the dish is not one of that I enjoy, although I really like the flavour and the fragrance brought out from the spices used in the dish. Using shiitake mushrooms to replace the meat may seem weird to many, but Whole Earth got it right with this dish. The blander nature of the mushrooms only served to elevate and bring out the fragrance of the stew-like nature of the dish, and the dish did not feel as ‘heavy’ or unhealthy as the original version. In fact, I liked the dish a lot and it was an excellent dish on its own. The dish is a little on the savoury side, so do take note to pair each bite with rice as it is too salty to eat on its own. {'entities': [(19, 26, 'dish'), (91, 98, 'dish'), (135, 142, 'dish'), (184, 188, 'dish'), (204, 211, 'fruit'), (254, 259, 'dish'), (457, 466, 'vegetable'), (482, 486, 'dish'), (582, 591, 'vegetable'), (650, 654, 'dish'), (909, 913, 'dish')]}\n",
            "19 26 951\n",
            "91 98 951\n",
            "135 142 951\n",
            "184 188 951\n",
            "204 211 951\n",
            "254 259 951\n",
            "457 466 951\n",
            "482 486 951\n",
            "582 591 951\n",
            "650 654 951\n",
            "909 913 951\n",
            "These charcoal grilled vegetables came out mostly tender but plainly seasoned. I especially liked the grilled cottage cheese. Pretty pricy overall. {'entities': []}\n",
            "The best grilled vegetable plate I've ever had! Included whole carrots, cucumbers, zucchini, red peppers mushrooms, and cottage cheese along with Persian rice and salad. The thing that really set this dish apart was the marinade for the vegetables, it was so different and spectacular! Will definitely be going back for this super healthy dish. While it's $25, it's definitely enough for 2 people to share for lunch or dinner. Goes really well with their homemade pita. {'entities': [(63, 70, 'vegetable'), (83, 91, 'vegetable'), (97, 104, 'condiment'), (105, 114, 'vegetable'), (146, 153, 'dish'), (154, 158, 'dish'), (163, 168, 'dish'), (464, 468, 'bread')]}\n",
            "63 70 469\n",
            "83 91 469\n",
            "97 104 469\n",
            "105 114 469\n",
            "146 153 469\n",
            "154 158 469\n",
            "163 168 469\n",
            "464 468 469\n",
            "I normally don't like stuffed grape leaves but these were really different and pleasantly surprising. They were served warm and the rice stuffing had a really tangy, citrus like taste. And a pretty good value for $9, one of the less expensive items on the menu but definitely satisfying! And vegan! {'entities': [(30, 35, 'fruit'), (132, 136, 'dish')]}\n",
            "30 35 298\n",
            "132 136 298\n",
            "This vegan dish could have been a lot better. The okra were overcooked so really soft. And the tomato sauce didn't really add anything to the dish. Compared to the other dishes on the menu, this one also lacked presentation and wasn't very inviting. {'entities': [(50, 54, 'vegetable'), (95, 101, 'fruit'), (102, 107, 'condiment')]}\n",
            "50 54 249\n",
            "95 101 249\n",
            "102 107 249\n",
            "This is one of my favorite things to order at Shabestan in Singapore. If you like Persian rice definitely get this side dish. It's vegan and a much better deal than the expensive main rice dishes on the menu. The mix of rice, saffron, pomegranate and pistachios are absolutely wonderful! {'entities': [(82, 89, 'dish'), (90, 94, 'dish'), (115, 124, 'dish'), (184, 188, 'dish'), (220, 224, 'dish'), (226, 233, 'spice'), (235, 246, 'fruit')]}\n",
            "82 89 287\n",
            "90 94 287\n",
            "115 124 287\n",
            "184 188 287\n",
            "220 224 287\n",
            "226 233 287\n",
            "235 246 287\n",
            "Loco's vegan burrito was a welcome find in the Changkat area, which was otherwise packed with meat-heavy bar food. The menu advertises veggie substitutions for the burrito, and the staff was very accommodating in making sure that the burrito was suitable for my vegan diet. My burrito was presented on a hot skillet with a spread of bright salsas and refried beans, and the tortilla was fried to a crunchy golden brown and filled generously with veggies. It was wonderful to find a vegan option here, but the ~40MYR menu price would push me to find another dining option in the future. {'entities': [(13, 20, 'dish'), (94, 98, 'dish'), (164, 171, 'dish'), (234, 241, 'dish'), (277, 284, 'dish'), (359, 364, 'vegetable'), (374, 382, 'breadU_dish')]}\n",
            "13 20 585\n",
            "94 98 585\n",
            "164 171 585\n",
            "234 241 585\n",
            "277 284 585\n",
            "359 364 585\n",
            "374 382 585\n",
            "This was hands down the best vegan / vegetarian dish at Maison Libanaise. If you're going there with a friend and want something that's satisfying try the roasted cauliflower. It's lavished with a solid helping of tahini and harissa before being roasted in the restaurant's oven. The end result is a really nicely charred cauliflower that arrives steaming hot and smells and tastes great. {'entities': [(163, 174, 'vegetable'), (214, 220, 'dish'), (225, 232, 'condiment'), (322, 333, 'vegetable')]}\n",
            "163 174 388\n",
            "214 220 388\n",
            "225 232 388\n",
            "322 333 388\n",
            "Overall taste was alright but I feel there was a slight imbalance between the beetroot patty and avocado with the overly large slice of pumpkin\n",
            "Also the bread was a nice touch except it kept crumbling so it was very hard to eat with hands :( {'entities': [(97, 104, 'fruit'), (136, 143, 'vegetable')]}\n",
            "97 104 241\n",
            "136 143 241\n",
            "Got the wholemeal sunflower bread, which was really nice but made my burger looks more like a sandwich 😝\n",
            "I really liked the patty, can taste the beetroot but nicely mixed with spices. I could have used more avocado but overall very satisfied!! {'entities': [(69, 75, 'dish'), (94, 102, 'dish'), (145, 153, 'vegetable'), (207, 214, 'fruit')]}\n",
            "69 75 243\n",
            "94 102 243\n",
            "145 153 243\n",
            "207 214 243\n",
            "This is one of my favourite burgers in Singapore! It's also vegan-friendly if you ask them to omit the mayo. I've also been able to ask to replace the avocado with mushrooms upon request. {'entities': [(151, 158, 'fruit'), (164, 173, 'vegetable')]}\n",
            "151 158 187\n",
            "164 173 187\n",
            "Пицата е невероятна, като гъбите могат да бъдат добавени допълнително. Персоналът е разбиращ що се отнася до вегетарианци и вегани - няма никакъв проблем да се поръча специална пица. {'entities': []}\n",
            "Came here with @ryte @shraddha Katherine and other vegan folk! Got mine with the set. Honestly can’t go wrong with the options here - there’s something here for everyone!! {'entities': []}\n",
            "All-time fave for me and I've not reviewed it here yet oop. Better portion of the cashew cheese now since I last had it. Breaded slices oyster mushrooms give good texture. I love the bun so much here it's so fluffffff {'entities': [(143, 152, 'vegetable')]}\n",
            "143 152 217\n",
            "This place is just phenomenal, great variety of vegan comfort food dishes, pasta, pizza and burgers. Very tasty fresh juices and macaroons 😋 I had the Qi cheezy & golden rings followed by very very good macaroons, in addition the staff were extremely helpful and welcoming. I will be returning very soon {'entities': [(75, 80, 'dish'), (82, 87, 'dish')]}\n",
            "75 80 303\n",
            "82 87 303\n",
            "Can’t believe the most classic burger on the menu hadn’t been reviewed yet! I must admit that I haven’t had it for a long time also, because there are so many new options to try now. It’s cashew creamy cheese and breaded mushrooms - just simply delicious. A light bite for a quick snack or meal. {'entities': [(31, 37, 'dish'), (213, 230, 'dish')]}\n",
            "31 37 295\n",
            "213 230 295\n",
            "tasted good! sauce may have been a little on the salty side for me, but the texture and overall experience was great 💪🏼😊 {'entities': [(13, 18, 'condiment')]}\n",
            "13 18 120\n",
            "The texture of the breaded mushroom patty is so good! I think omnivores wouldn't even notice that they are eating plant-based! The homemade cashew cream cheese has a good, gritty, and savory taste. {'entities': [(27, 35, 'vegetable'), (184, 190, 'herb')]}\n",
            "27 35 197\n",
            "184 190 197\n",
            "Taste was not bad, I didn't really like the mushroom patty but my bf loves it. Ordered it as a set and the salad was pretty bad; it was so oily! I really love the food here though 😊😊 {'entities': [(44, 52, 'vegetable'), (107, 112, 'dish')]}\n",
            "44 52 182\n",
            "107 112 182\n",
            "Delicious burger in their upgraded restaurant on the 3rd storey of Clark Quay Central - most seats get a great view of the Singapore River {'entities': [(10, 16, 'dish')]}\n",
            "10 16 138\n",
            "Burger with mushroom as patty with cashew sauce. Must try! Unconventional but fantastic flavours! #worththecalories {'entities': [(0, 6, 'dish'), (12, 20, 'vegetable'), (42, 47, 'condiment')]}\n",
            "0 6 115\n",
            "12 20 115\n",
            "42 47 115\n",
            "Texture is so much like a chicken. \n",
            "Overall, very cheesy and nutty. {'entities': []}\n",
            "Nice taste and consistency! The flavour is soft so don‘t go for it is you are looking for intense {'entities': []}\n",
            "The patty is deep fried mushroom stems, and it came with their own cashew nut cheese. I liked that the cheese was gooey and had tiny nut bits in it. I would have preferred more lettuce to even out the salty cheese. {'entities': [(24, 32, 'vegetable'), (177, 184, 'vegetable')]}\n",
            "24 32 214\n",
            "177 184 214\n",
            "QQ Cheezy burger (S$9.90) from nomVnom! 🍔\n",
            "\n",
            "Being one of their best-sellers in 2017, the burger comes with a mushroom stem patty, lettuce and homemade cashew nut cheese! 💫 First time trying cashew cheese and I’m utterly in love 😍\n",
            "\n",
            "Although I found the texture of the patty and bun rather average, I have to commend the variety of food that nomVnom offers! 👍🏼 There’ll definitely be something for everyone there, so you don’t have to worry about a limited menu! Will definitely be back to try their other deliciously vegan eats! 🌱🌱 {'entities': [(10, 16, 'dish'), (88, 94, 'dish'), (108, 116, 'vegetable'), (129, 136, 'vegetable')]}\n",
            "10 16 529\n",
            "88 94 529\n",
            "108 116 529\n",
            "129 136 529\n",
            "Delicious burger, I also got the mushrooms fritters which were juicy and perfectly crispy at the same time. All dine-in burgers/pasta dishes come with a healthy fruit vinegar drink as an apetiser. This was interesting and some new for me to try and I really liked it. Also had the fresh lemon passionfruit tea (cold) which was great! {'entities': [(10, 16, 'dish'), (33, 42, 'vegetable'), (120, 127, 'dish'), (128, 133, 'dish'), (287, 292, 'fruit'), (293, 305, 'fruit'), (306, 309, 'dish')]}\n",
            "10 16 333\n",
            "33 42 333\n",
            "120 127 333\n",
            "128 133 333\n",
            "287 292 333\n",
            "293 305 333\n",
            "306 309 333\n",
            "It was a pretty average burger to be honest. Maybe it's because I was looking for a direct substitute of the non-vegan cheese I am used to, but was instead given a cashew based cheese, which although innovative, was not even close to the normal dairy cheese I eat. The patty was made of mushroom stem, which was the first time I had something like that, and was satisfied with the taste. \n",
            "However, overall, given my expectations, I don't think it was worth $9.9 and hence was unsatisfied with the burger overall. {'entities': [(24, 30, 'dish'), (287, 295, 'vegetable'), (497, 503, 'dish')]}\n",
            "24 30 512\n",
            "287 295 512\n",
            "497 503 512\n",
            "The pizza was light and tasted good. The presentation was very appealing. However, would recommend eating the pizza while it is hot to get the best taste. Overall would recommend trying. {'entities': [(4, 9, 'dish'), (110, 115, 'dish')]}\n",
            "4 9 186\n",
            "110 115 186\n",
            "Sarpino's in Singapore is super friendly when it comes to making their pizzas vegan. They have a lot of vegetarian choices on their menu and while they didn't have vegan cheese, they were happy to make the pizzas without any cheese. I was skeptical but this pesto pie came out beautifully and tasted delicious! It was like eating a delicious mediterranean flat bread or panini bread, really soft and moist with just the right amount of crunch. The combination of pesto, herbs and spices really made the pizza very green and colorful. {'entities': [(258, 263, 'dish'), (370, 376, 'dish'), (463, 468, 'dish'), (470, 475, 'condiment'), (503, 508, 'dish')]}\n",
            "258 263 533\n",
            "370 376 533\n",
            "463 468 533\n",
            "470 475 533\n",
            "503 508 533\n",
            "I also ordered seaweed and edamame and they really loaded my bowl.\n",
            "Honestly I like them better than A Poke Theory because they have cauliflower rice as an option. BUT their service is pretty crap.\n",
            "My friend is allergic to onion and scallIons and they refused to swap out the scallions for something else, saying they would have to charge her if she wanted anything different 🙃 I don’t get why.\n",
            "Really left a bad taste in my mouth.\n",
            "Ok the food though - tofu was not bad. Could have definitely been better.\n",
            "I’m disappointed seaweed does not come with the poke and is instead an extra cost. The cauliflower rice is lovely and quite tasty, had raisins and pinenuts but for an extra $2, not worth it. {'entities': [(27, 34, 'dish'), (102, 106, 'dish'), (132, 143, 'vegetable'), (144, 148, 'dish'), (222, 227, 'vegetable'), (452, 456, 'dish'), (553, 557, 'dish'), (592, 603, 'vegetable'), (604, 608, 'dish')]}\n",
            "27 34 695\n",
            "102 106 695\n",
            "132 143 695\n",
            "144 148 695\n",
            "222 227 695\n",
            "452 456 695\n",
            "553 557 695\n",
            "592 603 695\n",
            "604 608 695\n",
            "When ordering your Poke Bowl, you will be spoilt for choices by the amount of combinations you can have. There is a wide variety of poke to choose from ranging from Ahi Tuna, Salmon, Vegetarian Tofu to the seasonal poke like salmon mentaiko that was offered on the day we went down.\n",
            "\n",
            "I ordered the lil’ Swell bowl with salad base. For the choice of poke, I chose nutty sesame tofu. It was a dilemma choosing which complementary add-ons was best as all of them looked so colorful and fresh. After quite some time, I took the edamame and pumpkin seeds as my 2 complementary add-ons and last I had the avocado as my complimentary superfood. All of my toppings on the bowl were 100% vegan even the salad dressing which was miso yuzu dressing.\n",
            "\n",
            "\n",
            "Your poke bowl arrives in a cute white bowl. Whilst it looks small, it packs a punch for me. It was incredible how much a simple lil’ swell poke bowl holds as it was filled to the brim. It took me quite awhile to finish the poke bowl.\n",
            "\n",
            "As for the flavors, the sesame tofu is really soft and juicy. Something very unique which I haven’t tasted before. the sesame tofu really complements the large chunks of avocado provided. For the complimentary add-ons, the edamame and pumpkin seeds gives a bite to both the soft and juicy sesame tofu and avocado. \n",
            "\n",
            "Poke trend in Singapore is getting ever so popular and I certainly hope the trend increases. It’s seriously fresh and tasty and a good place to have lunch with your colleagues. In my view, aloha poke is one of the best poke restaurants I’ve been to and it certainly won’t be my last visiting this place. {'entities': [(19, 23, 'dish'), (132, 136, 'dish'), (194, 198, 'dish'), (215, 219, 'dish'), (319, 324, 'dish'), (349, 353, 'dish'), (369, 375, 'spice'), (376, 380, 'dish'), (524, 531, 'dish'), (536, 543, 'vegetable'), (599, 606, 'fruit'), (694, 699, 'dish'), (719, 723, 'dish'), (724, 728, 'spice'), (746, 750, 'dish'), (881, 885, 'dish'), (965, 969, 'dish'), (1001, 1007, 'spice'), (1008, 1012, 'dish'), (1096, 1102, 'spice'), (1103, 1107, 'dish'), (1147, 1154, 'fruit'), (1200, 1207, 'dish'), (1212, 1219, 'vegetable'), (1266, 1272, 'spice'), (1273, 1277, 'dish'), (1282, 1289, 'fruit'), (1293, 1297, 'dish'), (1488, 1492, 'dish'), (1512, 1516, 'dish')]}\n",
            "19 23 1596\n",
            "132 136 1596\n",
            "194 198 1596\n",
            "215 219 1596\n",
            "319 324 1596\n",
            "349 353 1596\n",
            "369 375 1596\n",
            "376 380 1596\n",
            "524 531 1596\n",
            "536 543 1596\n",
            "599 606 1596\n",
            "694 699 1596\n",
            "719 723 1596\n",
            "724 728 1596\n",
            "746 750 1596\n",
            "881 885 1596\n",
            "965 969 1596\n",
            "1001 1007 1596\n",
            "1008 1012 1596\n",
            "1096 1102 1596\n",
            "1103 1107 1596\n",
            "1147 1154 1596\n",
            "1200 1207 1596\n",
            "1212 1219 1596\n",
            "1266 1272 1596\n",
            "1273 1277 1596\n",
            "1282 1289 1596\n",
            "1293 1297 1596\n",
            "1488 1492 1596\n",
            "1512 1516 1596\n",
            "I ordered the Umami Quinoa Salad which is a garlic fragrant quinoa with roasted veggies, arugula, charred corn and cherry tomatoes.\n",
            "\n",
            "The salad was really good with crispy quinoa adding crunch to bits of corn and juicy sweet cherry tomatoes. Portion of the salad was palm size but then again you’re paying $6 for a yummy fresh bowl of salad. \n",
            "\n",
            "Bird Bird is definitely a place to consider visiting for a satisfying brunch with your vegetarian or non-vegetarian friends. The heartland-ish location also makes it an endearing opening for those living in the east side to pop in for a simple meal or coffee. {'entities': [(27, 32, 'dish'), (44, 50, 'spice'), (89, 96, 'vegetable'), (106, 110, 'vegetable'), (115, 121, 'fruit'), (122, 130, 'fruit'), (137, 142, 'dish'), (203, 207, 'vegetable'), (224, 230, 'fruit'), (231, 239, 'fruit'), (256, 261, 'dish'), (334, 339, 'dish'), (595, 601, 'dish')]}\n",
            "27 32 602\n",
            "44 50 602\n",
            "89 96 602\n",
            "106 110 602\n",
            "115 121 602\n",
            "122 130 602\n",
            "137 142 602\n",
            "203 207 602\n",
            "224 230 602\n",
            "231 239 602\n",
            "256 261 602\n",
            "334 339 602\n",
            "595 601 602\n",
            "I order their signature minced meat noodle which cost $4.50. The noodles sound like good value for money considering the portion size they gave. Service staff were nice in providing me with suggestions on which dish I should order and the noodle came within 5 minutes upon ordering it.\n",
            "\n",
            "I love the bounciness and chewiness of the noodles and you simply want more noodles after each subsequence bite. The soybean paste gravy was on the salty side garnished with deep fried beancurd skin. The main ingredient of the dish which is the mince mock meat. The soybean gravy blends well with the little slices of tofu and mince mock meat which to be honest tasted just like any ordinary real meat I’ve tried. One bad thing I have to say is that the portion of noodle to mince meat and deep fried beancurd skin is a bit off. Every spoonful of noodles I found myself lacking in beancurd skin and mince meat. I think this is a personal opinion and not everyone would agree with the noodle to meat servings. {'entities': [(31, 35, 'dish'), (36, 42, 'dish'), (239, 245, 'dish'), (543, 547, 'dish'), (605, 609, 'dish'), (625, 629, 'dish'), (684, 688, 'dish'), (752, 758, 'dish'), (768, 772, 'dish'), (892, 896, 'dish'), (971, 977, 'dish'), (981, 985, 'dish')]}\n",
            "31 35 995\n",
            "36 42 995\n",
            "239 245 995\n",
            "543 547 995\n",
            "605 609 995\n",
            "625 629 995\n",
            "684 688 995\n",
            "752 758 995\n",
            "768 772 995\n",
            "892 896 995\n",
            "971 977 995\n",
            "981 985 995\n",
            "There’s a special lunch menu everyday. Specials include Blue Rice served with Air fried ribbon fish, cucumber, boiled okra and sambal grated coconut, choped bunga kantan and limau purut leaf with lime, Nasi Kandar, Soy chicken cutlet rice set, Japanese bento set and Friday is their recommended Nasi Lemak.\n",
            "\n",
            "I went down on Friday and tried they Nasi Lemak set. Instead of using normally white coconut rice, Blue Bistro uses basmati rice as it is not only more fragrant than traditional rice, it also also proven to be healthier. The dish also came with mock meat rendang which was a stand out for the dish. It was so aromatic and delicious. You just want to keep eating more and more. Sambal chili was grated with coconut to give a sweet after taste. The mock “Ikan bilis” or anchovies we’re made from mushroom stalks. I am not a biggest fan of ladies fingers but then again it was so fresh and juicy it turned out to be so yummy.\n",
            "\n",
            "I would certainly recommend all my friends who are non vegetarian to come down and try this little bistro located at Burlington square. It’s good to cleanse your body with something so refreshing with these healthy meals. {'entities': [(61, 65, 'dish'), (101, 109, 'fruitU_vegetable'), (118, 122, 'vegetable'), (127, 133, 'dish'), (141, 148, 'fruit'), (202, 213, 'dish'), (234, 238, 'dish'), (253, 258, 'dish'), (295, 305, 'dish'), (345, 355, 'dish'), (393, 405, 'dish'), (432, 436, 'dish'), (486, 490, 'dish'), (558, 562, 'dish'), (563, 570, 'dish'), (685, 691, 'dish'), (692, 697, 'fruit'), (714, 721, 'fruit'), (802, 810, 'vegetable')]}\n",
            "61 65 1153\n",
            "101 109 1153\n",
            "118 122 1153\n",
            "127 133 1153\n",
            "141 148 1153\n",
            "202 213 1153\n",
            "234 238 1153\n",
            "253 258 1153\n",
            "295 305 1153\n",
            "345 355 1153\n",
            "393 405 1153\n",
            "432 436 1153\n",
            "486 490 1153\n",
            "558 562 1153\n",
            "563 570 1153\n",
            "685 691 1153\n",
            "692 697 1153\n",
            "714 721 1153\n",
            "802 810 1153\n",
            "I ordered the Vegetarian Mushroom Sandwich. First impression of the sandwich isn’t great. Firstly, upon opening the sandwich, it was absolutely soggy and drenched with mushroom sauce. Secondly, the ingredients in the sandwich was not entirely fresh. when you bite into them you can tell it has lost a bit of its bite. \n",
            "\n",
            "Only positive review is that the mushroom sauce is really delightful but too much which is why the bread is soggy. \n",
            "\n",
            "I wouldn’t recommend this sandwich to anyone instead i would try to recommend the Vegetarian Mushroom Salad which i think is a better option that the sandwich. {'entities': [(25, 33, 'vegetable'), (34, 42, 'dish'), (68, 76, 'dish'), (116, 124, 'dish'), (168, 176, 'vegetable'), (177, 182, 'condiment'), (217, 225, 'dish'), (353, 361, 'vegetable'), (362, 367, 'condiment'), (463, 471, 'dish'), (530, 538, 'vegetable'), (539, 544, 'dish'), (587, 595, 'dish')]}\n",
            "25 33 596\n",
            "34 42 596\n",
            "68 76 596\n",
            "116 124 596\n",
            "168 176 596\n",
            "177 182 596\n",
            "217 225 596\n",
            "353 361 596\n",
            "362 367 596\n",
            "463 471 596\n",
            "530 538 596\n",
            "539 544 596\n",
            "587 595 596\n",
            "Great bowl at Autobus as always🥙 Tried their pumpkin today, really liked it! A filling and healthy lunch, although I wish they also  had tofu or tempeh as an option. {'entities': [(45, 52, 'vegetable'), (137, 141, 'dish'), (145, 151, 'dish')]}\n",
            "45 52 165\n",
            "137 141 165\n",
            "145 151 165\n",
            "Overall this was tasty and I love the crunch chickpeas. Would eat here more often they had any vegan protein options. Tempeh or tofu would be an easy option. {'entities': [(118, 124, 'dish'), (128, 132, 'dish')]}\n",
            "118 124 157\n",
            "128 132 157\n",
            "A customized bowl with brown rice, pumpkin, chickpeas, tomatoes, curry cauliflower & avocado. I really liked the curry cauliflower! I added basil pesto on top, and the flavours are all good 🍅 but it felt a bit dry. Very filling! {'entities': [(29, 33, 'dish'), (35, 42, 'vegetable'), (44, 53, 'vegetable'), (55, 63, 'fruit'), (65, 70, 'dish'), (71, 82, 'vegetable'), (85, 92, 'fruit'), (113, 118, 'dish'), (119, 130, 'vegetable'), (140, 145, 'herbU_vegetable'), (146, 151, 'dish')]}\n",
            "29 33 228\n",
            "35 42 228\n",
            "44 53 228\n",
            "55 63 228\n",
            "65 70 228\n",
            "71 82 228\n",
            "85 92 228\n",
            "113 118 228\n",
            "119 130 228\n",
            "140 145 228\n",
            "146 151 228\n",
            "Another great warm grain bowl from #autobus although I’m taking off a point because the veggies were cold today. Overall this is a great healthy option in a sea of not so great options. Love the sweet potato 🍠 and cauliflower! {'entities': [(195, 207, 'vegetable'), (214, 225, 'vegetable')]}\n",
            "195 207 226\n",
            "214 225 226\n",
            "Wholesome, tasty and very filling. Perfect for a healthy lunch!🥑 {'entities': []}\n",
            "So inspiring to see all the delicious new vegan options! Loved the purple sweet potato 🍠 and the cauliflower. This is one of the best lunch options around in Singapore’s business district! {'entities': [(74, 86, 'vegetable'), (97, 108, 'vegetable')]}\n",
            "74 86 188\n",
            "97 108 188\n",
            "I was looking for a healthy place to have a quick lunch in Downtown area and found this place on this app. Glad we tried! Brown rice was cooked perfectly to my taste, moist and chewy:) Edamame and chickpea were delicious, but I didn't enjoy the texture of pumpkin so much. Next time I will try something other than pumpkin I guess😋 {'entities': [(128, 132, 'dish'), (185, 192, 'dish'), (197, 205, 'vegetable'), (256, 263, 'vegetable'), (315, 322, 'vegetable')]}\n",
            "128 132 331\n",
            "185 192 331\n",
            "197 205 331\n",
            "256 263 331\n",
            "315 322 331\n",
            "When your accountant asks “what are all these receipts from the Autobus” you know you’re an addict! Another 🌱💪 custom brown rice bowl this time with orange glazed carrots. I know I get the chickpeas and edamame every time but hey that’s what I like! #autobus #singapore #sofresh {'entities': [(124, 128, 'dish'), (163, 170, 'vegetable'), (189, 198, 'vegetable'), (203, 210, 'dish')]}\n",
            "124 128 278\n",
            "163 170 278\n",
            "189 198 278\n",
            "203 210 278\n",
            "Totally digging their soy sesame dressing on this awesome brown rice bowl. I mixed it up today with ratatouille which to be honest I was thinking wouldn’t be great but I gave it a shot and it was awesome. Veggies were cooked perfectly! Love #autobus {'entities': [(26, 32, 'spice'), (64, 68, 'dish'), (100, 111, 'dish')]}\n",
            "26 32 249\n",
            "64 68 249\n",
            "100 111 249\n",
            "Best $10 I’ve ever spent on lunch in Singapore. #autobus makes an amazing custom vegan bowl. I got mine today with brown rice, roasted pumpkin, fried chickpeas and edamame. All topped off with their delicious soy sesame and mixed seeds. This is one of my favorite 🌱lunch options in Singapore! 🐮 {'entities': [(121, 125, 'dish'), (135, 142, 'vegetable'), (150, 159, 'vegetable'), (164, 171, 'dish'), (213, 219, 'spice')]}\n",
            "121 125 294\n",
            "135 142 294\n",
            "150 159 294\n",
            "164 171 294\n",
            "213 219 294\n",
            "Nothing energizes me more on a tough day than the warm grain bowls at Autobus. It’s been a couple of weeks since my last visit and they’ve updated their menu to include a lot more veggies including okra and even Brussels sprouts. And they have a new soy sesame dressing which is delicious! Today I stuck with some of my favorites including their roasted carrots, edamame and fried chickpeas. The soy sesame is even better than the pesto I used to put on here! {'entities': [(198, 202, 'vegetable'), (254, 260, 'spice'), (354, 361, 'vegetable'), (363, 370, 'dish'), (381, 390, 'vegetable'), (400, 406, 'spice'), (431, 436, 'dish')]}\n",
            "198 202 459\n",
            "254 260 459\n",
            "354 361 459\n",
            "363 370 459\n",
            "381 390 459\n",
            "400 406 459\n",
            "431 436 459\n",
            "For $12 in the central area, I could get a balanced warm grain bowl with carbs, protein and veggies! Got their edamame, cherry tomato, pumpkin, crispy chickpeas (likely deep fried but soooo good) with soy sesame dressing topped with crushed nuts. Everything was fresh, high quality and tasty. Even the brown rice (which was 100% brown) was well cooked. Will be back! {'entities': [(111, 118, 'dish'), (120, 126, 'fruit'), (127, 133, 'fruit'), (135, 142, 'vegetable'), (151, 160, 'vegetable'), (205, 211, 'spice'), (308, 312, 'dish')]}\n",
            "111 118 366\n",
            "120 126 366\n",
            "127 133 366\n",
            "135 142 366\n",
            "151 160 366\n",
            "205 211 366\n",
            "308 312 366\n",
            "A healthy and refreshing bowl with good flavours although the roasted pumpkin was a bit too sweet for my taste. {'entities': [(70, 77, 'vegetable')]}\n",
            "70 77 111\n",
            "I keep going back again and again for the awesome customizable warm grain bowls at Autobus. They're the best way to stay fueled and light on your feet through the day. This bowl was packed full of my favorite fried chickpeas, steamed edamame, broccoli, and roasted carrots all topped with seeds and a delicious pesto. And a great deal for ten bucks! {'entities': [(215, 224, 'vegetable'), (234, 241, 'dish'), (243, 251, 'vegetable'), (265, 272, 'vegetable'), (311, 316, 'dish')]}\n",
            "215 224 349\n",
            "234 241 349\n",
            "243 251 349\n",
            "265 272 349\n",
            "311 316 349\n",
            "Nothing keeps me fueled like all the amazing people I’ve been meeting around the world working to make the planet a better place. But occasionally a guy has to eat, and I simply can’t find a more amazingly nutritious pick me up than a warm brown rice bowl at Autobus. The customization options are awesome and you’ll stay lit up for the rest of the day. And the plant based options are not only healthy but the least expensive! Check it out, edamame, broccoli, roasted carrots, air fried chickpeas, seeds and brown rice! {'entities': [(246, 250, 'dish'), (442, 449, 'dish'), (451, 459, 'vegetable'), (469, 476, 'vegetable'), (488, 497, 'vegetable'), (515, 519, 'dish')]}\n",
            "246 250 520\n",
            "442 449 520\n",
            "451 459 520\n",
            "469 476 520\n",
            "488 497 520\n",
            "515 519 520\n",
            "What a great find for a healthy lunch! I really enjoyed the brown rice bowl - I added the crispy chickpeas, broccoli, seeds and avocado. All the ingredients tasted and looked very fresh.  The venue itself is bright and open with a very relaxed vibe. Not many like this in Singapore - I would definitely recommend making your way here for lunch. {'entities': [(66, 70, 'dish'), (97, 106, 'vegetable'), (108, 116, 'vegetable'), (128, 135, 'fruit')]}\n",
            "66 70 344\n",
            "97 106 344\n",
            "108 116 344\n",
            "128 135 344\n",
            "This is honestly one of the best things I've eaten in Singapore. The menu at this place is all about picking the ingredients you like and combining with different grains or salad. The bowl pictured here had warm brown rice, edamame, asparagus, broccoli, crispy chickpeas (so good!), and basil pesto. {'entities': [(173, 178, 'dish'), (218, 222, 'dish'), (224, 231, 'dish'), (233, 242, 'vegetable'), (244, 252, 'vegetable'), (261, 270, 'vegetable'), (287, 292, 'herbU_vegetable'), (293, 298, 'dish')]}\n",
            "173 178 299\n",
            "218 222 299\n",
            "224 231 299\n",
            "233 242 299\n",
            "244 252 299\n",
            "261 270 299\n",
            "287 292 299\n",
            "293 298 299\n",
            "Love my colourful bowl - phytonutrients yayyy! Base + 4 sides + topping + dressing for $11. Tip: Combine your order with a friend and buy the $20 for $15 fave voucher. So that's $8.50 for this bowl 😁 {'entities': []}\n",
            "I was STARVING when I ordered this, and I still couldn't finish it because the portion is just that huge! Was surprised to see that the menu changed yet again, not sure if it's a daily rotational thing but I prefer the previous one because this one no longer has the ratatouille or soy sesame sauce that I liked! #disappointed None of the new sauces really appealed to me. I tried the roasted sesame ginger sauce and it was okay, though I couldn't taste the ginger at all. The nut topping was kind of lame because it's just crushed peanuts which reminded me of #muachee except that it's not... The baby corn was labelled as \"Charred baby corn\" on the menu except that...IT'S NOT (or barely) #doubledisappointed Also they no longer offer $10 bowls, now it's $11 but instead of a half-sized portion of protein in the $10 bowl, you get a full sized portion so it's not that bad. {'entities': [(267, 278, 'dish'), (286, 292, 'spice'), (293, 298, 'condiment'), (393, 399, 'spice'), (400, 406, 'spiceU_vegetable'), (407, 412, 'condiment'), (458, 464, 'spiceU_vegetable'), (603, 607, 'vegetable'), (638, 642, 'vegetable')]}\n",
            "267 278 875\n",
            "286 292 875\n",
            "293 298 875\n",
            "393 399 875\n",
            "400 406 875\n",
            "407 412 875\n",
            "458 464 875\n",
            "603 607 875\n",
            "638 642 875\n",
            "I hadn't come here in a while after they raised their prices and since I can no longer remember what their old prices were, it was all good. The fried chickpeas and soya sesame sauce were great as usual but my new favourites were the butter corn (like an upgraded version of the cup corn sold on the streets) and the ratatouille. So yum! I can almost forgive them for raising their prices. Only the roasted pumpkin was kind of meh as it didn't taste roasted at all and was just...like normal :/ Oh and they forgot to give me one of the sides I picked so remember to check your bowl to make sure you have everything before you start eating! {'entities': [(151, 160, 'vegetable'), (170, 176, 'spice'), (177, 182, 'condiment'), (234, 240, 'condiment'), (241, 245, 'vegetable'), (283, 287, 'vegetable'), (317, 328, 'dish'), (407, 414, 'vegetable')]}\n",
            "151 160 639\n",
            "170 176 639\n",
            "177 182 639\n",
            "234 240 639\n",
            "241 245 639\n",
            "283 287 639\n",
            "317 328 639\n",
            "407 414 639\n",
            "As a fitness-focussed omnivore, one of my major challenges of eating a plant-based diet is that often restos don't offer enough protein in their plant-based options. I have no problem prepping healthy plant-based meals at home but when eating out at lunch the options are usually carb-heavy and unappetising. All this changed when I discovered Autobus.\n",
            "\n",
            "Autobus enabled me to get my macros from edamame, chickpeas, egg plus greens and smart carbs like quinoa and roasted squash. It's a win-win option and one I will turn to again and again. {'entities': [(395, 402, 'dish'), (404, 413, 'vegetable'), (415, 418, 'dish'), (452, 458, 'dish')]}\n",
            "395 402 540\n",
            "404 413 540\n",
            "415 418 540\n",
            "452 458 540\n",
            "I can't get enough of the salads at autobus.  The ingredients are very fresh and high quality.  The chickpeas are the highlight- they are crispy and savory unlike any way I've had them before.  The salad is filling and good value for money. {'entities': [(100, 109, 'vegetable'), (149, 155, 'herb'), (198, 203, 'dish')]}\n",
            "100 109 240\n",
            "149 155 240\n",
            "198 203 240\n",
            "Get the crispy chickpeas - they’re delicious! Also had the fried corn, red pepper and mushrooms with the mesclun mix. Pretty filling, and the honey mustard sauce brought everything together. Yummy! {'entities': [(15, 24, 'vegetable'), (65, 69, 'vegetable'), (75, 81, 'condiment'), (86, 95, 'vegetable'), (105, 112, 'dish'), (156, 161, 'condiment')]}\n",
            "15 24 197\n",
            "65 69 197\n",
            "75 81 197\n",
            "86 95 197\n",
            "105 112 197\n",
            "156 161 197\n",
            "Really fresh salad bowls from Autobus! Loved the customizable options that I get to choose from and it makes for a great lunch {'entities': [(13, 18, 'dish')]}\n",
            "13 18 126\n"
          ],
          "name": "stdout"
        }
      ]
    },
    {
      "cell_type": "code",
      "metadata": {
        "id": "MRcilVE1su-y",
        "colab_type": "code",
        "colab": {
          "base_uri": "https://localhost:8080/",
          "height": 1000
        },
        "outputId": "aef96307-6caf-4180-cee5-ec48d400a4dc"
      },
      "source": [
        "# get names of other pipes to disable them during training\n",
        "other_pipes = [pipe for pipe in nlp.pipe_names if pipe not in [\"ner\", \"entity_ruler\",\"merge_entities\"]]\n",
        "with nlp.disable_pipes(*other_pipes):  # only train NER\n",
        "    # reset and initialize the weights randomly – but only if we're\n",
        "    # training a new model\n",
        "    if model is None:\n",
        "        nlp.begin_training()\n",
        "\n",
        "\n",
        "\n",
        "    for itn in range(100):\n",
        "      random.shuffle(clean_train_ents)\n",
        "      losses = {}\n",
        "\n",
        "#      for item in clean_train_ents:\n",
        "# batch up the examples using spaCy's minibatch\n",
        "      batches = minibatch(clean_train_ents, size=compounding(10.0, 32.0, 1.001))\n",
        "\n",
        "      for batch in batches:\n",
        "        texts, annotations = zip(*batch)\n",
        "#        print([item[0]], [item[1]])\n",
        "\n",
        "#        print(texts)\n",
        "#        print(annotations)\n",
        "        nlp.update(texts, annotations, drop=0.5, losses=losses)\n",
        "        print(losses)"
      ],
      "execution_count": 190,
      "outputs": [
        {
          "output_type": "stream",
          "text": [
            "{'ner': 359.6167507171631}\n",
            "{'ner': 1044.9250736236572}\n",
            "{'ner': 1594.313588142395}\n",
            "{'ner': 1989.6091718673706}\n",
            "{'ner': 2625.0646419525146}\n",
            "{'ner': 3091.6135540008545}\n",
            "{'ner': 3961.095869064331}\n",
            "{'ner': 4274.681268692017}\n",
            "{'ner': 4704.154732704163}\n",
            "{'ner': 5051.164274215698}\n",
            "{'ner': 5524.894720077515}\n",
            "{'ner': 465.1182155609131}\n",
            "{'ner': 988.834508895874}\n",
            "{'ner': 1494.3885164260864}\n",
            "{'ner': 2069.1512594223022}\n",
            "{'ner': 2675.306851387024}\n",
            "{'ner': 3158.2569398880005}\n",
            "{'ner': 3542.4446363449097}\n",
            "{'ner': 4173.406796455383}\n",
            "{'ner': 4478.461621284485}\n",
            "{'ner': 5041.80259513855}\n",
            "{'ner': 5582.517515182495}\n",
            "{'ner': 441.93192863464355}\n",
            "{'ner': 896.1393356323242}\n",
            "{'ner': 1584.5796241760254}\n",
            "{'ner': 1975.0675654411316}\n",
            "{'ner': 2267.5771946907043}\n",
            "{'ner': 2858.408874988556}\n",
            "{'ner': 3776.0630745887756}\n",
            "{'ner': 4237.513055324554}\n",
            "{'ner': 4621.016045093536}\n",
            "{'ner': 5037.430918216705}\n",
            "{'ner': 5475.250187397003}\n",
            "{'ner': 255.0232982635498}\n",
            "{'ner': 559.0359325408936}\n",
            "{'ner': 1127.0450916290283}\n",
            "{'ner': 1733.4581775665283}\n",
            "{'ner': 2403.9512844085693}\n",
            "{'ner': 3251.228151321411}\n",
            "{'ner': 3637.601369857788}\n",
            "{'ner': 4285.504886627197}\n",
            "{'ner': 4693.616449356079}\n",
            "{'ner': 5103.447427749634}\n",
            "{'ner': 5499.177921295166}\n",
            "{'ner': 697.8581466674805}\n",
            "{'ner': 1189.1338863372803}\n",
            "{'ner': 2082.3080196380615}\n",
            "{'ner': 2520.899293899536}\n",
            "{'ner': 3020.1749725341797}\n",
            "{'ner': 3360.541382789612}\n",
            "{'ner': 3714.097833633423}\n",
            "{'ner': 4127.756813049316}\n",
            "{'ner': 4659.540306091309}\n",
            "{'ner': 4999.604069232941}\n",
            "{'ner': 5462.092556476593}\n",
            "{'ner': 376.8888473510742}\n",
            "{'ner': 922.9081897735596}\n",
            "{'ner': 1577.987892150879}\n",
            "{'ner': 2001.2425708770752}\n",
            "{'ner': 2650.347818374634}\n",
            "{'ner': 3155.744373321533}\n",
            "{'ner': 3933.753095626831}\n",
            "{'ner': 4342.417747497559}\n",
            "{'ner': 4762.258140563965}\n",
            "{'ner': 5275.001308441162}\n",
            "{'ner': 5575.234616279602}\n",
            "{'ner': 639.2735757827759}\n",
            "{'ner': 1167.4511308670044}\n",
            "{'ner': 1529.6272192001343}\n",
            "{'ner': 1994.326015472412}\n",
            "{'ner': 2406.068857192993}\n",
            "{'ner': 2957.3904876708984}\n",
            "{'ner': 3304.140598297119}\n",
            "{'ner': 3965.9560356140137}\n",
            "{'ner': 4699.842639923096}\n",
            "{'ner': 5020.21681022644}\n",
            "{'ner': 5502.075551986694}\n",
            "{'ner': 443.4317855834961}\n",
            "{'ner': 1404.1587181091309}\n",
            "{'ner': 1970.8978958129883}\n",
            "{'ner': 2630.966714859009}\n",
            "{'ner': 3124.409115791321}\n",
            "{'ner': 3498.1489114761353}\n",
            "{'ner': 3810.8953008651733}\n",
            "{'ner': 4091.2234086990356}\n",
            "{'ner': 4810.786633491516}\n",
            "{'ner': 5295.120108604431}\n",
            "{'ner': 5570.8626499176025}\n",
            "{'ner': 553.2769603729248}\n",
            "{'ner': 967.590259552002}\n",
            "{'ner': 1268.0678062438965}\n",
            "{'ner': 1652.0352334976196}\n",
            "{'ner': 2460.6561403274536}\n",
            "{'ner': 2938.1201524734497}\n",
            "{'ner': 3698.671772956848}\n",
            "{'ner': 4150.182467460632}\n",
            "{'ner': 4575.507966041565}\n",
            "{'ner': 5224.2681493759155}\n",
            "{'ner': 5527.336753845215}\n",
            "{'ner': 626.1431770324707}\n",
            "{'ner': 1006.0081195831299}\n",
            "{'ner': 1503.0608234405518}\n",
            "{'ner': 2066.5447940826416}\n",
            "{'ner': 2429.755549430847}\n",
            "{'ner': 2846.9288759231567}\n",
            "{'ner': 3437.2685737609863}\n",
            "{'ner': 4124.067556381226}\n",
            "{'ner': 4591.175066947937}\n",
            "{'ner': 4994.918820381165}\n",
            "{'ner': 5439.451874732971}\n",
            "{'ner': 385.3140392303467}\n",
            "{'ner': 864.6677494049072}\n",
            "{'ner': 1308.2465114593506}\n",
            "{'ner': 2006.9311771392822}\n",
            "{'ner': 2483.349473953247}\n",
            "{'ner': 3131.2147674560547}\n",
            "{'ner': 3659.9402046203613}\n",
            "{'ner': 4062.0336570739746}\n",
            "{'ner': 4559.291838645935}\n",
            "{'ner': 5025.349600791931}\n",
            "{'ner': 5537.948298454285}\n",
            "{'ner': 394.18986988067627}\n",
            "{'ner': 797.2424058914185}\n",
            "{'ner': 1383.514567375183}\n",
            "{'ner': 1927.0837602615356}\n",
            "{'ner': 2486.2144708633423}\n",
            "{'ner': 2978.920651435852}\n",
            "{'ner': 3547.5224390029907}\n",
            "{'ner': 3896.599447250366}\n",
            "{'ner': 4468.979709625244}\n",
            "{'ner': 5104.482398986816}\n",
            "{'ner': 5507.981860160828}\n",
            "{'ner': 355.6927890777588}\n",
            "{'ner': 798.0671091079712}\n",
            "{'ner': 1338.1386919021606}\n",
            "{'ner': 2116.278797149658}\n",
            "{'ner': 2895.7863006591797}\n",
            "{'ner': 3238.2918405532837}\n",
            "{'ner': 3792.301552772522}\n",
            "{'ner': 4083.5927562713623}\n",
            "{'ner': 4564.148200035095}\n",
            "{'ner': 4921.0389947891235}\n",
            "{'ner': 5548.225743293762}\n",
            "{'ner': 449.3421401977539}\n",
            "{'ner': 1030.8292655944824}\n",
            "{'ner': 1689.8352222442627}\n",
            "{'ner': 2168.104419708252}\n",
            "{'ner': 2583.821859359741}\n",
            "{'ner': 3020.370933532715}\n",
            "{'ner': 3482.765037536621}\n",
            "{'ner': 3964.9330883026123}\n",
            "{'ner': 4417.55143737793}\n",
            "{'ner': 4924.797019958496}\n",
            "{'ner': 5512.590523719788}\n",
            "{'ner': 809.6986846923828}\n",
            "{'ner': 1147.5021419525146}\n",
            "{'ner': 1641.9907493591309}\n",
            "{'ner': 2051.833227157593}\n",
            "{'ner': 2485.045563697815}\n",
            "{'ner': 2962.528416633606}\n",
            "{'ner': 3475.8412408828735}\n",
            "{'ner': 4160.855000495911}\n",
            "{'ner': 4554.412373542786}\n",
            "{'ner': 4889.353914260864}\n",
            "{'ner': 5526.571393966675}\n",
            "{'ner': 411.41011810302734}\n",
            "{'ner': 1224.7485427856445}\n",
            "{'ner': 1544.2535705566406}\n",
            "{'ner': 2197.663327217102}\n",
            "{'ner': 2676.0667600631714}\n",
            "{'ner': 3150.7126150131226}\n",
            "{'ner': 3637.9506883621216}\n",
            "{'ner': 4155.4249839782715}\n",
            "{'ner': 4483.7647314071655}\n",
            "{'ner': 4907.13169002533}\n",
            "{'ner': 5518.372405052185}\n",
            "{'ner': 769.6500968933105}\n",
            "{'ner': 1186.2390384674072}\n",
            "{'ner': 1617.6461486816406}\n",
            "{'ner': 2013.7093181610107}\n",
            "{'ner': 2559.9568786621094}\n",
            "{'ner': 3069.342779159546}\n",
            "{'ner': 3570.449998855591}\n",
            "{'ner': 3994.8962049484253}\n",
            "{'ner': 4624.758803367615}\n",
            "{'ner': 5099.014114379883}\n",
            "{'ner': 5464.491004943848}\n",
            "{'ner': 322.1601791381836}\n",
            "{'ner': 945.2320594787598}\n",
            "{'ner': 1434.6989364624023}\n",
            "{'ner': 1910.8152046203613}\n",
            "{'ner': 2355.5697631835938}\n",
            "{'ner': 3080.4882888793945}\n",
            "{'ner': 3473.0018253326416}\n",
            "{'ner': 4051.074083328247}\n",
            "{'ner': 4778.733291625977}\n",
            "{'ner': 5318.968114852905}\n",
            "{'ner': 5616.886545181274}\n",
            "{'ner': 826.1652641296387}\n",
            "{'ner': 1234.129919052124}\n",
            "{'ner': 1704.0832414627075}\n",
            "{'ner': 2081.081353187561}\n",
            "{'ner': 2650.5451288223267}\n",
            "{'ner': 3232.3837480545044}\n",
            "{'ner': 3753.951720237732}\n",
            "{'ner': 4149.148955345154}\n",
            "{'ner': 4644.273471832275}\n",
            "{'ner': 5051.608415603638}\n",
            "{'ner': 5429.261907577515}\n",
            "{'ner': 380.67978286743164}\n",
            "{'ner': 707.8971920013428}\n",
            "{'ner': 1285.9834957122803}\n",
            "{'ner': 1738.2256002426147}\n",
            "{'ner': 2163.0795526504517}\n",
            "{'ner': 3261.060688972473}\n",
            "{'ner': 3617.0499773025513}\n",
            "{'ner': 4034.9508543014526}\n",
            "{'ner': 4585.3222761154175}\n",
            "{'ner': 5046.853119850159}\n",
            "{'ner': 5460.949084281921}\n",
            "{'ner': 312.96792221069336}\n",
            "{'ner': 737.5519161224365}\n",
            "{'ner': 1507.545576095581}\n",
            "{'ner': 1919.9819564819336}\n",
            "{'ner': 2339.684892654419}\n",
            "{'ner': 3092.8939514160156}\n",
            "{'ner': 3708.2004718780518}\n",
            "{'ner': 4144.10391998291}\n",
            "{'ner': 4644.929103851318}\n",
            "{'ner': 4971.459449768066}\n",
            "{'ner': 5497.920903205872}\n",
            "{'ner': 591.4718360900879}\n",
            "{'ner': 1427.860580444336}\n",
            "{'ner': 2064.7437953948975}\n",
            "{'ner': 2511.1969203948975}\n",
            "{'ner': 2970.070056915283}\n",
            "{'ner': 3548.8385829925537}\n",
            "{'ner': 3844.30486869812}\n",
            "{'ner': 4182.627986907959}\n",
            "{'ner': 4626.459777832031}\n",
            "{'ner': 5039.508958816528}\n",
            "{'ner': 5531.588272094727}\n",
            "{'ner': 457.96552085876465}\n",
            "{'ner': 972.614953994751}\n",
            "{'ner': 1363.9581108093262}\n",
            "{'ner': 2030.2212142944336}\n",
            "{'ner': 2548.184274673462}\n",
            "{'ner': 2961.787826538086}\n",
            "{'ner': 3295.1949138641357}\n",
            "{'ner': 3792.6647510528564}\n",
            "{'ner': 4487.017387390137}\n",
            "{'ner': 5127.206539154053}\n",
            "{'ner': 5499.291856765747}\n",
            "{'ner': 415.13965797424316}\n",
            "{'ner': 898.361572265625}\n",
            "{'ner': 1458.5422477722168}\n",
            "{'ner': 1971.2170867919922}\n",
            "{'ner': 2589.5780849456787}\n",
            "{'ner': 3190.9105892181396}\n",
            "{'ner': 3628.4034881591797}\n",
            "{'ner': 3932.9981060028076}\n",
            "{'ner': 4528.744783401489}\n",
            "{'ner': 4964.0783767700195}\n",
            "{'ner': 5445.340551376343}\n",
            "{'ner': 574.9437923431396}\n",
            "{'ner': 1170.9241409301758}\n",
            "{'ner': 1560.8561916351318}\n",
            "{'ner': 2267.6232109069824}\n",
            "{'ner': 2707.629301071167}\n",
            "{'ner': 3106.2612648010254}\n",
            "{'ner': 3795.9945964813232}\n",
            "{'ner': 4332.327226638794}\n",
            "{'ner': 4697.040238380432}\n",
            "{'ner': 5179.987174034119}\n",
            "{'ner': 5482.734597206116}\n",
            "{'ner': 846.3244113922119}\n",
            "{'ner': 1260.922924041748}\n",
            "{'ner': 1763.4162197113037}\n",
            "{'ner': 2162.901741027832}\n",
            "{'ner': 2668.209201812744}\n",
            "{'ner': 3284.8028678894043}\n",
            "{'ner': 3629.4158363342285}\n",
            "{'ner': 4207.9440059661865}\n",
            "{'ner': 4760.205560684204}\n",
            "{'ner': 5269.494323730469}\n",
            "{'ner': 5499.480034828186}\n",
            "{'ner': 548.9501800537109}\n",
            "{'ner': 1189.1459331512451}\n",
            "{'ner': 1710.5894203186035}\n",
            "{'ner': 2184.7803115844727}\n",
            "{'ner': 2629.394765853882}\n",
            "{'ner': 3274.5077953338623}\n",
            "{'ner': 3676.1664428710938}\n",
            "{'ner': 4102.828662872314}\n",
            "{'ner': 4468.3414306640625}\n",
            "{'ner': 5021.784255981445}\n",
            "{'ner': 5423.175933837891}\n",
            "{'ner': 367.2844934463501}\n",
            "{'ner': 839.3734216690063}\n",
            "{'ner': 1239.1277475357056}\n",
            "{'ner': 1809.7004251480103}\n",
            "{'ner': 2447.610718727112}\n",
            "{'ner': 3096.9998140335083}\n",
            "{'ner': 3549.5500688552856}\n",
            "{'ner': 4035.827494621277}\n",
            "{'ner': 4523.84326839447}\n",
            "{'ner': 5073.1101331710815}\n",
            "{'ner': 5507.510601043701}\n",
            "{'ner': 574.3117713928223}\n",
            "{'ner': 876.8314628601074}\n",
            "{'ner': 1337.0008697509766}\n",
            "{'ner': 1882.8096332550049}\n",
            "{'ner': 2277.5431175231934}\n",
            "{'ner': 2827.2213745117188}\n",
            "{'ner': 3320.5812072753906}\n",
            "{'ner': 4022.482000350952}\n",
            "{'ner': 4497.497901916504}\n",
            "{'ner': 5043.161916732788}\n",
            "{'ner': 5511.150287628174}\n",
            "{'ner': 601.5637664794922}\n",
            "{'ner': 904.6784648895264}\n",
            "{'ner': 1350.7285709381104}\n",
            "{'ner': 1794.3225917816162}\n",
            "{'ner': 2420.358431816101}\n",
            "{'ner': 2767.8422498703003}\n",
            "{'ner': 3250.351662635803}\n",
            "{'ner': 3903.827142715454}\n",
            "{'ner': 4498.164915084839}\n",
            "{'ner': 4852.759031295776}\n",
            "{'ner': 5523.858777999878}\n",
            "{'ner': 480.6543216705322}\n",
            "{'ner': 987.049840927124}\n",
            "{'ner': 1455.0639038085938}\n",
            "{'ner': 2044.6327781677246}\n",
            "{'ner': 2471.4715909957886}\n",
            "{'ner': 3102.4531507492065}\n",
            "{'ner': 3749.352412223816}\n",
            "{'ner': 4244.497056007385}\n",
            "{'ner': 4788.524306297302}\n",
            "{'ner': 5213.779141426086}\n",
            "{'ner': 5552.754663467407}\n",
            "{'ner': 319.74400329589844}\n",
            "{'ner': 923.0885066986084}\n",
            "{'ner': 1263.9107398986816}\n",
            "{'ner': 1716.674584388733}\n",
            "{'ner': 2495.29208278656}\n",
            "{'ner': 3082.1144762039185}\n",
            "{'ner': 3644.1762552261353}\n",
            "{'ner': 4003.8788499832153}\n",
            "{'ner': 4544.460789680481}\n",
            "{'ner': 4972.232157707214}\n",
            "{'ner': 5483.117812156677}\n",
            "{'ner': 505.23686027526855}\n",
            "{'ner': 970.318883895874}\n",
            "{'ner': 1527.7369766235352}\n",
            "{'ner': 1989.022777557373}\n",
            "{'ner': 2498.4829692840576}\n",
            "{'ner': 3112.36102104187}\n",
            "{'ner': 3648.0650730133057}\n",
            "{'ner': 4038.1534214019775}\n",
            "{'ner': 4643.313188552856}\n",
            "{'ner': 5195.823711395264}\n",
            "{'ner': 5486.18065071106}\n",
            "{'ner': 518.4724445343018}\n",
            "{'ner': 1055.9630374908447}\n",
            "{'ner': 1736.2851314544678}\n",
            "{'ner': 2342.1013832092285}\n",
            "{'ner': 2849.973521232605}\n",
            "{'ner': 3243.174572944641}\n",
            "{'ner': 3578.988320350647}\n",
            "{'ner': 3916.3779191970825}\n",
            "{'ner': 4384.806130409241}\n",
            "{'ner': 5094.354920387268}\n",
            "{'ner': 5521.000657081604}\n",
            "{'ner': 457.5328063964844}\n",
            "{'ner': 905.7475862503052}\n",
            "{'ner': 1256.534878730774}\n",
            "{'ner': 1555.2668380737305}\n",
            "{'ner': 2099.0477027893066}\n",
            "{'ner': 2782.2450733184814}\n",
            "{'ner': 3177.414393424988}\n",
            "{'ner': 3875.5322942733765}\n",
            "{'ner': 4661.604769706726}\n",
            "{'ner': 5039.324734687805}\n",
            "{'ner': 5399.820802688599}\n",
            "{'ner': 455.95949935913086}\n",
            "{'ner': 1019.8961048126221}\n",
            "{'ner': 1291.3187346458435}\n",
            "{'ner': 1901.3509459495544}\n",
            "{'ner': 2391.2470121383667}\n",
            "{'ner': 2822.4632234573364}\n",
            "{'ner': 3576.3624601364136}\n",
            "{'ner': 3833.276282310486}\n",
            "{'ner': 4446.228783607483}\n",
            "{'ner': 4842.995741844177}\n",
            "{'ner': 5529.594478607178}\n",
            "{'ner': 283.3962650299072}\n",
            "{'ner': 600.110348701477}\n",
            "{'ner': 1299.8975706100464}\n",
            "{'ner': 1714.922921180725}\n",
            "{'ner': 1961.2362413406372}\n",
            "{'ner': 2558.027955055237}\n",
            "{'ner': 3047.7060136795044}\n",
            "{'ner': 3537.0829124450684}\n",
            "{'ner': 4084.759250640869}\n",
            "{'ner': 4681.007328033447}\n",
            "{'ner': 5443.4402866363525}\n",
            "{'ner': 400.35348320007324}\n",
            "{'ner': 1016.9022941589355}\n",
            "{'ner': 1399.160083770752}\n",
            "{'ner': 2093.3072986602783}\n",
            "{'ner': 2580.8291454315186}\n",
            "{'ner': 3011.0706005096436}\n",
            "{'ner': 3604.6753273010254}\n",
            "{'ner': 4142.098149299622}\n",
            "{'ner': 4648.201565742493}\n",
            "{'ner': 5183.524964332581}\n",
            "{'ner': 5493.748210906982}\n",
            "{'ner': 477.316219329834}\n",
            "{'ner': 1078.3454322814941}\n",
            "{'ner': 1494.8272800445557}\n",
            "{'ner': 2023.8756275177002}\n",
            "{'ner': 2464.7209453582764}\n",
            "{'ner': 2881.408507347107}\n",
            "{'ner': 3483.9442796707153}\n",
            "{'ner': 3801.428978919983}\n",
            "{'ner': 4239.390645027161}\n",
            "{'ner': 4684.4210023880005}\n",
            "{'ner': 5511.899176597595}\n",
            "{'ner': 372.8040313720703}\n",
            "{'ner': 597.441294670105}\n",
            "{'ner': 1089.2165784835815}\n",
            "{'ner': 1598.1825094223022}\n",
            "{'ner': 2176.299798965454}\n",
            "{'ner': 2709.889720916748}\n",
            "{'ner': 3218.0755224227905}\n",
            "{'ner': 3654.5894136428833}\n",
            "{'ner': 4388.483212471008}\n",
            "{'ner': 5009.604926109314}\n",
            "{'ner': 5477.880835533142}\n",
            "{'ner': 678.9836273193359}\n",
            "{'ner': 1246.0046863555908}\n",
            "{'ner': 1687.4609451293945}\n",
            "{'ner': 2404.8503456115723}\n",
            "{'ner': 2727.8962354660034}\n",
            "{'ner': 3183.286721229553}\n",
            "{'ner': 3558.4825830459595}\n",
            "{'ner': 4024.4488458633423}\n",
            "{'ner': 4511.793445587158}\n",
            "{'ner': 4985.910606384277}\n",
            "{'ner': 5552.581100463867}\n",
            "{'ner': 537.8239650726318}\n",
            "{'ner': 919.4477586746216}\n",
            "{'ner': 1320.386589050293}\n",
            "{'ner': 2094.8979110717773}\n",
            "{'ner': 2700.8409309387207}\n",
            "{'ner': 3146.7698459625244}\n",
            "{'ner': 3784.9038372039795}\n",
            "{'ner': 4204.44476890564}\n",
            "{'ner': 4673.3441915512085}\n",
            "{'ner': 5161.209780693054}\n",
            "{'ner': 5583.939402580261}\n",
            "{'ner': 431.2880229949951}\n",
            "{'ner': 928.0556869506836}\n",
            "{'ner': 1509.4064693450928}\n",
            "{'ner': 2046.1948947906494}\n",
            "{'ner': 2452.4062452316284}\n",
            "{'ner': 2953.8101148605347}\n",
            "{'ner': 3331.1194677352905}\n",
            "{'ner': 3878.18661403656}\n",
            "{'ner': 4467.482022285461}\n",
            "{'ner': 5156.125958442688}\n",
            "{'ner': 5503.402007102966}\n",
            "{'ner': 391.3441925048828}\n",
            "{'ner': 1073.982707977295}\n",
            "{'ner': 1811.8182792663574}\n",
            "{'ner': 2119.549590110779}\n",
            "{'ner': 2428.671902656555}\n",
            "{'ner': 3005.615263938904}\n",
            "{'ner': 3474.4918146133423}\n",
            "{'ner': 4119.553479194641}\n",
            "{'ner': 4599.671021461487}\n",
            "{'ner': 5127.319664001465}\n",
            "{'ner': 5557.438793182373}\n",
            "{'ner': 787.1063299179077}\n",
            "{'ner': 1304.2076301574707}\n",
            "{'ner': 1818.7570991516113}\n",
            "{'ner': 2422.957619667053}\n",
            "{'ner': 2716.5505867004395}\n",
            "{'ner': 3196.827100753784}\n",
            "{'ner': 3777.9848651885986}\n",
            "{'ner': 4110.5893840789795}\n",
            "{'ner': 4873.799760818481}\n",
            "{'ner': 5221.982828140259}\n",
            "{'ner': 5587.046004295349}\n",
            "{'ner': 367.94867515563965}\n",
            "{'ner': 779.2491970062256}\n",
            "{'ner': 1257.995626449585}\n",
            "{'ner': 1620.0518627166748}\n",
            "{'ner': 2560.9375076293945}\n",
            "{'ner': 2920.06915473938}\n",
            "{'ner': 3365.8988971710205}\n",
            "{'ner': 3931.908603668213}\n",
            "{'ner': 4385.142128944397}\n",
            "{'ner': 5202.040421485901}\n",
            "{'ner': 5554.34006023407}\n",
            "{'ner': 680.7673511505127}\n",
            "{'ner': 1427.905309677124}\n",
            "{'ner': 2075.653985977173}\n",
            "{'ner': 2465.6312341690063}\n",
            "{'ner': 2908.3904314041138}\n",
            "{'ner': 3431.1174669265747}\n",
            "{'ner': 3749.784194946289}\n",
            "{'ner': 4175.810755729675}\n",
            "{'ner': 4650.089411735535}\n",
            "{'ner': 5208.481565475464}\n",
            "{'ner': 5564.428391456604}\n",
            "{'ner': 367.8014087677002}\n",
            "{'ner': 1074.704360961914}\n",
            "{'ner': 1677.2851295471191}\n",
            "{'ner': 2026.4173488616943}\n",
            "{'ner': 2834.093460083008}\n",
            "{'ner': 3463.20379447937}\n",
            "{'ner': 3881.3883571624756}\n",
            "{'ner': 4408.991402626038}\n",
            "{'ner': 4903.259064674377}\n",
            "{'ner': 5269.223196983337}\n",
            "{'ner': 5566.346315383911}\n",
            "{'ner': 553.1639060974121}\n",
            "{'ner': 990.6408348083496}\n",
            "{'ner': 1664.4704246520996}\n",
            "{'ner': 2235.144567489624}\n",
            "{'ner': 2568.8163986206055}\n",
            "{'ner': 3210.4761505126953}\n",
            "{'ner': 3478.831280708313}\n",
            "{'ner': 4119.365265846252}\n",
            "{'ner': 4450.642424583435}\n",
            "{'ner': 4937.429093360901}\n",
            "{'ner': 5477.239079475403}\n",
            "{'ner': 485.7321071624756}\n",
            "{'ner': 1138.3952646255493}\n",
            "{'ner': 1944.8791913986206}\n",
            "{'ner': 2588.425316810608}\n",
            "{'ner': 2955.649178504944}\n",
            "{'ner': 3285.010274887085}\n",
            "{'ner': 3714.9176483154297}\n",
            "{'ner': 4161.038986206055}\n",
            "{'ner': 4518.642931938171}\n",
            "{'ner': 4840.183575630188}\n",
            "{'ner': 5508.5408935546875}\n",
            "{'ner': 570.8395385742188}\n",
            "{'ner': 1149.2705669403076}\n",
            "{'ner': 1624.1037979125977}\n",
            "{'ner': 2327.275074005127}\n",
            "{'ner': 2877.8796758651733}\n",
            "{'ner': 3374.7287092208862}\n",
            "{'ner': 3756.1959400177}\n",
            "{'ner': 4200.306020736694}\n",
            "{'ner': 4633.4725131988525}\n",
            "{'ner': 5099.2635107040405}\n",
            "{'ner': 5515.865245819092}\n",
            "{'ner': 297.6002082824707}\n",
            "{'ner': 979.3171405792236}\n",
            "{'ner': 1390.9294891357422}\n",
            "{'ner': 1818.0603475570679}\n",
            "{'ner': 2371.4026803970337}\n",
            "{'ner': 3014.914277076721}\n",
            "{'ner': 3502.690665245056}\n",
            "{'ner': 3817.3951168060303}\n",
            "{'ner': 4254.826663970947}\n",
            "{'ner': 5108.353067398071}\n",
            "{'ner': 5549.116025924683}\n",
            "{'ner': 601.9291591644287}\n",
            "{'ner': 1140.690191268921}\n",
            "{'ner': 1707.2027072906494}\n",
            "{'ner': 2235.8475818634033}\n",
            "{'ner': 2600.643186569214}\n",
            "{'ner': 2951.439028739929}\n",
            "{'ner': 3596.153769493103}\n",
            "{'ner': 4057.9057245254517}\n",
            "{'ner': 4569.011830329895}\n",
            "{'ner': 5022.655295372009}\n",
            "{'ner': 5481.412304878235}\n",
            "{'ner': 579.548526763916}\n",
            "{'ner': 1147.8822269439697}\n",
            "{'ner': 1851.3585729599}\n",
            "{'ner': 2219.3737659454346}\n",
            "{'ner': 2781.569257736206}\n",
            "{'ner': 3121.963191986084}\n",
            "{'ner': 3552.9932613372803}\n",
            "{'ner': 4247.922527313232}\n",
            "{'ner': 4501.393674850464}\n",
            "{'ner': 4994.872440338135}\n",
            "{'ner': 5458.4673709869385}\n",
            "{'ner': 462.14051055908203}\n",
            "{'ner': 1049.7102222442627}\n",
            "{'ner': 1438.329779624939}\n",
            "{'ner': 2002.4199895858765}\n",
            "{'ner': 2634.5677556991577}\n",
            "{'ner': 2921.8448514938354}\n",
            "{'ner': 3599.713557243347}\n",
            "{'ner': 3946.936508655548}\n",
            "{'ner': 4361.715916156769}\n",
            "{'ner': 4961.482944965363}\n",
            "{'ner': 5549.427011966705}\n",
            "{'ner': 515.7539405822754}\n",
            "{'ner': 887.9869995117188}\n",
            "{'ner': 1345.5173091888428}\n",
            "{'ner': 1876.17360496521}\n",
            "{'ner': 2568.135579109192}\n",
            "{'ner': 3107.827434539795}\n",
            "{'ner': 3511.826986312866}\n",
            "{'ner': 4033.215600967407}\n",
            "{'ner': 4769.443363189697}\n",
            "{'ner': 5161.432554244995}\n",
            "{'ner': 5596.919948577881}\n",
            "{'ner': 509.5750980377197}\n",
            "{'ner': 807.5864734649658}\n",
            "{'ner': 1670.2231464385986}\n",
            "{'ner': 2306.8464431762695}\n",
            "{'ner': 2788.204936981201}\n",
            "{'ner': 3480.2731857299805}\n",
            "{'ner': 3848.922824859619}\n",
            "{'ner': 4329.92626953125}\n",
            "{'ner': 4748.220319747925}\n",
            "{'ner': 5147.201006889343}\n",
            "{'ner': 5498.4947328567505}\n",
            "{'ner': 690.9927101135254}\n",
            "{'ner': 1229.7352924346924}\n",
            "{'ner': 1507.9192953109741}\n",
            "{'ner': 1722.1227502822876}\n",
            "{'ner': 2156.3516759872437}\n",
            "{'ner': 2889.382109642029}\n",
            "{'ner': 3382.25802898407}\n",
            "{'ner': 4160.600113868713}\n",
            "{'ner': 4634.776270866394}\n",
            "{'ner': 5020.071249008179}\n",
            "{'ner': 5470.805271148682}\n",
            "{'ner': 410.0197162628174}\n",
            "{'ner': 857.7366046905518}\n",
            "{'ner': 1431.670178413391}\n",
            "{'ner': 1987.4602556228638}\n",
            "{'ner': 2549.669835090637}\n",
            "{'ner': 2933.051241874695}\n",
            "{'ner': 3534.9946088790894}\n",
            "{'ner': 3808.5288195610046}\n",
            "{'ner': 4445.532599925995}\n",
            "{'ner': 5055.188495159149}\n",
            "{'ner': 5503.342236042023}\n",
            "{'ner': 627.701132774353}\n",
            "{'ner': 1128.1899709701538}\n",
            "{'ner': 1513.310154914856}\n",
            "{'ner': 2061.9930505752563}\n",
            "{'ner': 2535.778389930725}\n",
            "{'ner': 2801.8938579559326}\n",
            "{'ner': 3203.553017616272}\n",
            "{'ner': 3673.8377828598022}\n",
            "{'ner': 4409.56751537323}\n",
            "{'ner': 5044.400133132935}\n",
            "{'ner': 5573.362098693848}\n",
            "{'ner': 590.7637004852295}\n",
            "{'ner': 1253.5528297424316}\n",
            "{'ner': 1697.692834854126}\n",
            "{'ner': 2033.8897037506104}\n",
            "{'ner': 2323.331729888916}\n",
            "{'ner': 3001.294454574585}\n",
            "{'ner': 3825.4097270965576}\n",
            "{'ner': 4112.310037612915}\n",
            "{'ner': 4505.4225730896}\n",
            "{'ner': 5085.226804733276}\n",
            "{'ner': 5504.23722076416}\n",
            "{'ner': 343.5547399520874}\n",
            "{'ner': 853.7704191207886}\n",
            "{'ner': 1780.104479789734}\n",
            "{'ner': 2377.5283193588257}\n",
            "{'ner': 2698.3147945404053}\n",
            "{'ner': 3389.5810146331787}\n",
            "{'ner': 3943.91965675354}\n",
            "{'ner': 4455.686304092407}\n",
            "{'ner': 4882.1432094573975}\n",
            "{'ner': 5278.677707672119}\n",
            "{'ner': 5570.600954055786}\n",
            "{'ner': 408.48641204833984}\n",
            "{'ner': 1149.0203685760498}\n",
            "{'ner': 1501.6019315719604}\n",
            "{'ner': 2045.7247858047485}\n",
            "{'ner': 2630.8211040496826}\n",
            "{'ner': 2926.673448562622}\n",
            "{'ner': 3379.8862800598145}\n",
            "{'ner': 4212.295150756836}\n",
            "{'ner': 4620.631467819214}\n",
            "{'ner': 4921.7054271698}\n",
            "{'ner': 5466.905550956726}\n",
            "{'ner': 514.4760799407959}\n",
            "{'ner': 1025.742971420288}\n",
            "{'ner': 1844.3184986114502}\n",
            "{'ner': 2389.911376953125}\n",
            "{'ner': 2881.8293113708496}\n",
            "{'ner': 3264.7326984405518}\n",
            "{'ner': 3622.12979221344}\n",
            "{'ner': 4071.593020439148}\n",
            "{'ner': 4589.178519248962}\n",
            "{'ner': 4894.129825592041}\n",
            "{'ner': 5407.261375427246}\n",
            "{'ner': 942.9522018432617}\n",
            "{'ner': 1381.8909149169922}\n",
            "{'ner': 2166.6583881378174}\n",
            "{'ner': 2723.298252105713}\n",
            "{'ner': 3008.0282888412476}\n",
            "{'ner': 3320.346619606018}\n",
            "{'ner': 3765.961730003357}\n",
            "{'ner': 4085.0260305404663}\n",
            "{'ner': 4604.386242866516}\n",
            "{'ner': 4970.145924568176}\n",
            "{'ner': 5511.5549993515015}\n",
            "{'ner': 548.6090078353882}\n",
            "{'ner': 963.6328458786011}\n",
            "{'ner': 1476.7062883377075}\n",
            "{'ner': 1936.6825399398804}\n",
            "{'ner': 2548.070969581604}\n",
            "{'ner': 3127.4623346328735}\n",
            "{'ner': 3787.794518470764}\n",
            "{'ner': 4091.1277713775635}\n",
            "{'ner': 4612.704389572144}\n",
            "{'ner': 4984.335311889648}\n",
            "{'ner': 5502.191873550415}\n",
            "{'ner': 410.40588569641113}\n",
            "{'ner': 1163.3215503692627}\n",
            "{'ner': 1469.1769847869873}\n",
            "{'ner': 1726.8536014556885}\n",
            "{'ner': 2384.6033000946045}\n",
            "{'ner': 2902.2014303207397}\n",
            "{'ner': 3257.7667751312256}\n",
            "{'ner': 3694.194383621216}\n",
            "{'ner': 4398.323558807373}\n",
            "{'ner': 5078.347229003906}\n",
            "{'ner': 5491.204248428345}\n",
            "{'ner': 348.0736656188965}\n",
            "{'ner': 1431.649980545044}\n",
            "{'ner': 1893.1287822723389}\n",
            "{'ner': 2229.357297897339}\n",
            "{'ner': 2694.2765922546387}\n",
            "{'ner': 3196.1771669387817}\n",
            "{'ner': 3718.217827796936}\n",
            "{'ner': 4063.65367603302}\n",
            "{'ner': 4753.783198356628}\n",
            "{'ner': 5075.675950050354}\n",
            "{'ner': 5533.430837631226}\n",
            "{'ner': 413.68782234191895}\n",
            "{'ner': 722.9168090820312}\n",
            "{'ner': 1240.5576934814453}\n",
            "{'ner': 1822.1042032241821}\n",
            "{'ner': 2154.0061559677124}\n",
            "{'ner': 2766.059567451477}\n",
            "{'ner': 3252.935217857361}\n",
            "{'ner': 4214.104857444763}\n",
            "{'ner': 4732.75841999054}\n",
            "{'ner': 5237.2930727005005}\n",
            "{'ner': 5560.498377799988}\n",
            "{'ner': 623.0734558105469}\n",
            "{'ner': 1005.0262136459351}\n",
            "{'ner': 1388.5943784713745}\n",
            "{'ner': 1945.110987663269}\n",
            "{'ner': 2309.3357915878296}\n",
            "{'ner': 2766.2468690872192}\n",
            "{'ner': 3309.803427696228}\n",
            "{'ner': 4035.170536994934}\n",
            "{'ner': 4591.966336250305}\n",
            "{'ner': 5135.295220375061}\n",
            "{'ner': 5553.614842414856}\n",
            "{'ner': 611.7164916992188}\n",
            "{'ner': 1134.3268280029297}\n",
            "{'ner': 1572.27201461792}\n",
            "{'ner': 1991.4563846588135}\n",
            "{'ner': 2421.928755760193}\n",
            "{'ner': 3047.988793373108}\n",
            "{'ner': 3398.516577720642}\n",
            "{'ner': 4188.237788200378}\n",
            "{'ner': 4654.230000495911}\n",
            "{'ner': 5045.497498512268}\n",
            "{'ner': 5489.299218654633}\n",
            "{'ner': 569.6731109619141}\n",
            "{'ner': 1187.6417484283447}\n",
            "{'ner': 1459.746521949768}\n",
            "{'ner': 2390.591275215149}\n",
            "{'ner': 3036.396243095398}\n",
            "{'ner': 3413.145281791687}\n",
            "{'ner': 3779.884570121765}\n",
            "{'ner': 4197.937880516052}\n",
            "{'ner': 4671.694088935852}\n",
            "{'ner': 5124.881440162659}\n",
            "{'ner': 5549.941878318787}\n",
            "{'ner': 313.70706939697266}\n",
            "{'ner': 606.8080902099609}\n",
            "{'ner': 1145.727518081665}\n",
            "{'ner': 1664.9698963165283}\n",
            "{'ner': 2006.4312076568604}\n",
            "{'ner': 2427.1844730377197}\n",
            "{'ner': 2939.175100326538}\n",
            "{'ner': 3357.908435821533}\n",
            "{'ner': 3849.857337474823}\n",
            "{'ner': 4858.4226603508}\n",
            "{'ner': 5558.09672498703}\n",
            "{'ner': 662.8664798736572}\n",
            "{'ner': 1203.853925704956}\n",
            "{'ner': 1673.146019935608}\n",
            "{'ner': 2592.2629861831665}\n",
            "{'ner': 2894.89435005188}\n",
            "{'ner': 3095.1626539230347}\n",
            "{'ner': 3786.4558210372925}\n",
            "{'ner': 4372.370951652527}\n",
            "{'ner': 4879.603178977966}\n",
            "{'ner': 5194.035888671875}\n",
            "{'ner': 5561.460409164429}\n",
            "{'ner': 478.03278827667236}\n",
            "{'ner': 934.8729524612427}\n",
            "{'ner': 1444.3657417297363}\n",
            "{'ner': 1961.3311824798584}\n",
            "{'ner': 2697.0633907318115}\n",
            "{'ner': 3227.508445739746}\n",
            "{'ner': 3707.5886220932007}\n",
            "{'ner': 4177.024230003357}\n",
            "{'ner': 4758.6293478012085}\n",
            "{'ner': 5134.904879570007}\n",
            "{'ner': 5475.326409339905}\n",
            "{'ner': 301.9226665496826}\n",
            "{'ner': 935.025318145752}\n",
            "{'ner': 1359.2042770385742}\n",
            "{'ner': 1718.994891166687}\n",
            "{'ner': 2453.3314237594604}\n",
            "{'ner': 2925.9771070480347}\n",
            "{'ner': 3259.9962248802185}\n",
            "{'ner': 4190.205995082855}\n",
            "{'ner': 4686.93408536911}\n",
            "{'ner': 5139.54952955246}\n",
            "{'ner': 5522.425359249115}\n",
            "{'ner': 495.1757011413574}\n",
            "{'ner': 1055.754524230957}\n",
            "{'ner': 1496.2002086639404}\n",
            "{'ner': 2015.7259693145752}\n",
            "{'ner': 2879.26243019104}\n",
            "{'ner': 3377.096185684204}\n",
            "{'ner': 3789.743158340454}\n",
            "{'ner': 4489.357088088989}\n",
            "{'ner': 4909.580654144287}\n",
            "{'ner': 5312.158184051514}\n",
            "{'ner': 5563.713819503784}\n",
            "{'ner': 524.7209453582764}\n",
            "{'ner': 1038.8693866729736}\n",
            "{'ner': 1504.1609230041504}\n",
            "{'ner': 1950.9253778457642}\n",
            "{'ner': 2256.113758087158}\n",
            "{'ner': 2840.617672920227}\n",
            "{'ner': 3324.3527879714966}\n",
            "{'ner': 3555.6811571121216}\n",
            "{'ner': 4318.3185930252075}\n",
            "{'ner': 4949.379536628723}\n",
            "{'ner': 5446.789425849915}\n",
            "{'ner': 507.2130661010742}\n",
            "{'ner': 1017.457612991333}\n",
            "{'ner': 1507.4488410949707}\n",
            "{'ner': 1937.174108505249}\n",
            "{'ner': 2417.2554054260254}\n",
            "{'ner': 3341.229928970337}\n",
            "{'ner': 3621.8752574920654}\n",
            "{'ner': 3926.3025798797607}\n",
            "{'ner': 4501.2581787109375}\n",
            "{'ner': 4972.072624206543}\n",
            "{'ner': 5487.623197555542}\n",
            "{'ner': 378.3988971710205}\n",
            "{'ner': 897.6244449615479}\n",
            "{'ner': 1506.4889469146729}\n",
            "{'ner': 2090.2459564208984}\n",
            "{'ner': 2548.3771228790283}\n",
            "{'ner': 2864.773042678833}\n",
            "{'ner': 3242.571464538574}\n",
            "{'ner': 3873.424690246582}\n",
            "{'ner': 4597.889760971069}\n",
            "{'ner': 5013.233373641968}\n",
            "{'ner': 5449.275894165039}\n",
            "{'ner': 568.2773475646973}\n",
            "{'ner': 1169.8340759277344}\n",
            "{'ner': 1547.1995573043823}\n",
            "{'ner': 1925.2295141220093}\n",
            "{'ner': 2407.9614725112915}\n",
            "{'ner': 2880.5463695526123}\n",
            "{'ner': 3553.4921264648438}\n",
            "{'ner': 4133.832628250122}\n",
            "{'ner': 4555.112756729126}\n",
            "{'ner': 5193.681531906128}\n",
            "{'ner': 5468.136529922485}\n",
            "{'ner': 460.4940347671509}\n",
            "{'ner': 1114.3092241287231}\n",
            "{'ner': 1461.9247903823853}\n",
            "{'ner': 1847.0025796890259}\n",
            "{'ner': 2335.099268913269}\n",
            "{'ner': 2985.559229850769}\n",
            "{'ner': 3462.09445476532}\n",
            "{'ner': 3994.804705619812}\n",
            "{'ner': 4490.730241775513}\n",
            "{'ner': 5193.329671859741}\n",
            "{'ner': 5559.709154129028}\n",
            "{'ner': 546.3739986419678}\n",
            "{'ner': 892.3415050506592}\n",
            "{'ner': 1279.050298690796}\n",
            "{'ner': 1782.956859588623}\n",
            "{'ner': 2276.274498939514}\n",
            "{'ner': 2854.690438270569}\n",
            "{'ner': 3557.433789253235}\n",
            "{'ner': 4304.001291275024}\n",
            "{'ner': 4577.620128631592}\n",
            "{'ner': 5063.258436203003}\n",
            "{'ner': 5500.065893173218}\n",
            "{'ner': 562.8629379272461}\n",
            "{'ner': 1505.2094345092773}\n",
            "{'ner': 2038.3204021453857}\n",
            "{'ner': 2276.1046295166016}\n",
            "{'ner': 2858.4065990448}\n",
            "{'ner': 3224.227397918701}\n",
            "{'ner': 3783.774106025696}\n",
            "{'ner': 4238.582245826721}\n",
            "{'ner': 4651.679654121399}\n",
            "{'ner': 5155.634268760681}\n",
            "{'ner': 5464.912972450256}\n",
            "{'ner': 394.46244621276855}\n",
            "{'ner': 656.4935278892517}\n",
            "{'ner': 1322.0200781822205}\n",
            "{'ner': 1802.301471233368}\n",
            "{'ner': 2352.88151884079}\n",
            "{'ner': 2608.3247389793396}\n",
            "{'ner': 3152.1488947868347}\n",
            "{'ner': 3962.532853603363}\n",
            "{'ner': 4623.130935192108}\n",
            "{'ner': 5130.519294261932}\n",
            "{'ner': 5485.44655752182}\n",
            "{'ner': 756.5514678955078}\n",
            "{'ner': 1066.083173751831}\n",
            "{'ner': 1500.730037689209}\n",
            "{'ner': 2001.6185598373413}\n",
            "{'ner': 2615.9424810409546}\n",
            "{'ner': 3047.402907371521}\n",
            "{'ner': 3618.5347108840942}\n",
            "{'ner': 4093.0565786361694}\n",
            "{'ner': 4479.419644355774}\n",
            "{'ner': 4941.499125480652}\n",
            "{'ner': 5513.883413314819}\n",
            "{'ner': 698.971435546875}\n",
            "{'ner': 1256.0291051864624}\n",
            "{'ner': 1629.7000074386597}\n",
            "{'ner': 1946.7235851287842}\n",
            "{'ner': 2393.5612087249756}\n",
            "{'ner': 2888.2217330932617}\n",
            "{'ner': 3577.6880779266357}\n",
            "{'ner': 4236.184278488159}\n",
            "{'ner': 4699.879758834839}\n",
            "{'ner': 5050.16242980957}\n",
            "{'ner': 5544.327548980713}\n",
            "{'ner': 631.4007720947266}\n",
            "{'ner': 1151.2793378829956}\n",
            "{'ner': 1668.0291652679443}\n",
            "{'ner': 1954.9853076934814}\n",
            "{'ner': 2478.7810592651367}\n",
            "{'ner': 3062.213369369507}\n",
            "{'ner': 3582.0908708572388}\n",
            "{'ner': 3985.2654972076416}\n",
            "{'ner': 4368.220306396484}\n",
            "{'ner': 4903.547311782837}\n",
            "{'ner': 5502.73398399353}\n",
            "{'ner': 570.3753662109375}\n",
            "{'ner': 871.50412940979}\n",
            "{'ner': 1513.8399105072021}\n",
            "{'ner': 1965.3184099197388}\n",
            "{'ner': 2545.6112203598022}\n",
            "{'ner': 3163.545289039612}\n",
            "{'ner': 3538.8353247642517}\n",
            "{'ner': 3936.2108521461487}\n",
            "{'ner': 4489.101288318634}\n",
            "{'ner': 4976.345915317535}\n",
            "{'ner': 5523.080290317535}\n",
            "{'ner': 419.676287651062}\n",
            "{'ner': 997.9517698287964}\n",
            "{'ner': 1447.0515050888062}\n",
            "{'ner': 2052.0711736679077}\n",
            "{'ner': 2566.756594657898}\n",
            "{'ner': 3551.1827154159546}\n",
            "{'ner': 4045.822329521179}\n",
            "{'ner': 4454.8444566726685}\n",
            "{'ner': 4865.485062599182}\n",
            "{'ner': 5239.089900016785}\n",
            "{'ner': 5507.591623306274}\n",
            "{'ner': 400.2005786895752}\n",
            "{'ner': 946.0489521026611}\n",
            "{'ner': 1366.5158157348633}\n",
            "{'ner': 1742.4711685180664}\n",
            "{'ner': 2579.7890338897705}\n",
            "{'ner': 3107.0603790283203}\n",
            "{'ner': 3461.56990814209}\n",
            "{'ner': 4246.816535949707}\n",
            "{'ner': 4663.191375732422}\n",
            "{'ner': 5071.01229763031}\n",
            "{'ner': 5425.186058044434}\n",
            "{'ner': 379.14480781555176}\n",
            "{'ner': 768.1785039901733}\n",
            "{'ner': 1168.3801164627075}\n",
            "{'ner': 2139.6062936782837}\n",
            "{'ner': 2625.26584148407}\n",
            "{'ner': 3052.0042066574097}\n",
            "{'ner': 3731.716559410095}\n",
            "{'ner': 4253.759634971619}\n",
            "{'ner': 4623.728079795837}\n",
            "{'ner': 5165.608696937561}\n",
            "{'ner': 5551.258244514465}\n",
            "{'ner': 541.2042856216431}\n",
            "{'ner': 1538.1752061843872}\n",
            "{'ner': 2142.021656036377}\n",
            "{'ner': 2404.4179134368896}\n",
            "{'ner': 3049.893621444702}\n",
            "{'ner': 3512.561756134033}\n",
            "{'ner': 3928.020233154297}\n",
            "{'ner': 4223.41445350647}\n",
            "{'ner': 4552.3387660980225}\n",
            "{'ner': 4961.432807922363}\n",
            "{'ner': 5485.498708724976}\n",
            "{'ner': 764.8048610687256}\n",
            "{'ner': 1264.1921100616455}\n",
            "{'ner': 1593.3128814697266}\n",
            "{'ner': 2159.27569770813}\n",
            "{'ner': 2619.481424331665}\n",
            "{'ner': 2917.5526390075684}\n",
            "{'ner': 3523.8861865997314}\n",
            "{'ner': 4286.973947525024}\n",
            "{'ner': 4746.240165710449}\n",
            "{'ner': 5094.643713474274}\n",
            "{'ner': 5485.763665676117}\n",
            "{'ner': 465.9841651916504}\n",
            "{'ner': 871.752363204956}\n",
            "{'ner': 1282.4222507476807}\n",
            "{'ner': 1639.0844249725342}\n",
            "{'ner': 2293.7177333831787}\n",
            "{'ner': 2816.702714920044}\n",
            "{'ner': 3325.968366622925}\n",
            "{'ner': 4220.156814575195}\n",
            "{'ner': 4743.554058074951}\n",
            "{'ner': 5106.338302612305}\n",
            "{'ner': 5450.05083656311}\n",
            "{'ner': 521.7422275543213}\n",
            "{'ner': 1273.4258117675781}\n",
            "{'ner': 1599.215615272522}\n",
            "{'ner': 2127.4903135299683}\n",
            "{'ner': 2675.8283948898315}\n",
            "{'ner': 2964.2530879974365}\n",
            "{'ner': 3361.981788635254}\n",
            "{'ner': 3746.7745208740234}\n",
            "{'ner': 4291.765625}\n",
            "{'ner': 4830.953533172607}\n",
            "{'ner': 5484.3051109313965}\n",
            "{'ner': 526.3920803070068}\n",
            "{'ner': 880.687647819519}\n",
            "{'ner': 1485.0585374832153}\n",
            "{'ner': 1989.59574508667}\n",
            "{'ner': 2497.6598892211914}\n",
            "{'ner': 2928.678642272949}\n",
            "{'ner': 3448.100908279419}\n",
            "{'ner': 3910.4394817352295}\n",
            "{'ner': 4488.88173866272}\n",
            "{'ner': 5020.655298233032}\n",
            "{'ner': 5517.663101196289}\n",
            "{'ner': 695.1786289215088}\n",
            "{'ner': 993.2627696990967}\n",
            "{'ner': 1668.8900661468506}\n",
            "{'ner': 2084.1008853912354}\n",
            "{'ner': 2558.023542404175}\n",
            "{'ner': 3029.4240169525146}\n",
            "{'ner': 3545.201440811157}\n",
            "{'ner': 4049.9797983169556}\n",
            "{'ner': 4721.773272514343}\n",
            "{'ner': 5158.5849351882935}\n",
            "{'ner': 5517.049139022827}\n",
            "{'ner': 807.0635757446289}\n",
            "{'ner': 1331.0433349609375}\n",
            "{'ner': 1811.1619939804077}\n",
            "{'ner': 2183.9342107772827}\n",
            "{'ner': 2627.0531244277954}\n",
            "{'ner': 3198.4534730911255}\n",
            "{'ner': 3540.5575647354126}\n",
            "{'ner': 4128.864338874817}\n",
            "{'ner': 4580.171040534973}\n",
            "{'ner': 5092.097902297974}\n",
            "{'ner': 5474.188522338867}\n",
            "{'ner': 539.2078895568848}\n",
            "{'ner': 841.0267324447632}\n",
            "{'ner': 1192.7955265045166}\n",
            "{'ner': 1697.2400588989258}\n",
            "{'ner': 2215.5841789245605}\n",
            "{'ner': 2589.123622894287}\n",
            "{'ner': 3068.100072860718}\n",
            "{'ner': 3705.710180282593}\n",
            "{'ner': 4433.409023284912}\n",
            "{'ner': 4936.3342208862305}\n",
            "{'ner': 5535.757768630981}\n"
          ],
          "name": "stdout"
        }
      ]
    },
    {
      "cell_type": "code",
      "metadata": {
        "id": "BLlxkRxHU9us",
        "colab_type": "code",
        "colab": {
          "base_uri": "https://localhost:8080/",
          "height": 34
        },
        "outputId": "620723c8-a5ac-449b-d4d3-0fabee6eac57"
      },
      "source": [
        "nlp.pipe_names\n"
      ],
      "execution_count": 191,
      "outputs": [
        {
          "output_type": "execute_result",
          "data": {
            "text/plain": [
              "['tagger', 'parser', 'entity_ruler', 'ner', 'merge_entities']"
            ]
          },
          "metadata": {
            "tags": []
          },
          "execution_count": 191
        }
      ]
    },
    {
      "cell_type": "code",
      "metadata": {
        "id": "h5C6V1QPVhf8",
        "colab_type": "code",
        "colab": {
          "base_uri": "https://localhost:8080/",
          "height": 34
        },
        "outputId": "32594d91-602e-49a0-a2ec-666de1c4715b"
      },
      "source": [
        "ruler = EntityRuler(nlp).from_disk(\"patterns.jsonl\")\n",
        "nlp.add_pipe(ruler, before='ner')\n",
        "merge_ents = nlp.create_pipe(\"merge_entities\")\n",
        "nlp.add_pipe(merge_ents, after='ner')\n",
        "nlp.pipe_names"
      ],
      "execution_count": 184,
      "outputs": [
        {
          "output_type": "execute_result",
          "data": {
            "text/plain": [
              "['tagger', 'parser', 'entity_ruler', 'ner', 'merge_entities']"
            ]
          },
          "metadata": {
            "tags": []
          },
          "execution_count": 184
        }
      ]
    },
    {
      "cell_type": "code",
      "metadata": {
        "id": "OVNSKMZ2s_nH",
        "colab_type": "code",
        "colab": {
          "base_uri": "https://localhost:8080/",
          "height": 1000
        },
        "outputId": "1844cd0d-0345-49ef-8a79-961ddee1005d"
      },
      "source": [
        "test_docs = train_reviews[100:120]\n",
        "\n",
        "for doc in test_docs:\n",
        "  displacy.render(nlp(doc),'ent',jupyter=True)"
      ],
      "execution_count": 192,
      "outputs": [
        {
          "output_type": "display_data",
          "data": {
            "text/html": [
              "<div class=\"entities\" style=\"line-height: 2.5; direction: ltr\">I keep going back again and again for the awesome customizable warm grain bowls at Autobus. They're the best way to stay fueled and light on your feet through the day. This bowl was packed full of my favorite fried \n",
              "<mark class=\"entity\" style=\"background: #ddd; padding: 0.45em 0.6em; margin: 0 0.25em; line-height: 1; border-radius: 0.35em; box-decoration-break: clone; -webkit-box-decoration-break: clone\">\n",
              "    chickpeas\n",
              "    <span style=\"font-size: 0.8em; font-weight: bold; line-height: 1; border-radius: 0.35em; text-transform: uppercase; vertical-align: middle; margin-left: 0.5rem\">vegetable</span>\n",
              "</mark>\n",
              ", steamed \n",
              "<mark class=\"entity\" style=\"background: #ddd; padding: 0.45em 0.6em; margin: 0 0.25em; line-height: 1; border-radius: 0.35em; box-decoration-break: clone; -webkit-box-decoration-break: clone\">\n",
              "    edamame\n",
              "    <span style=\"font-size: 0.8em; font-weight: bold; line-height: 1; border-radius: 0.35em; text-transform: uppercase; vertical-align: middle; margin-left: 0.5rem\">dish</span>\n",
              "</mark>\n",
              ", \n",
              "<mark class=\"entity\" style=\"background: #ddd; padding: 0.45em 0.6em; margin: 0 0.25em; line-height: 1; border-radius: 0.35em; box-decoration-break: clone; -webkit-box-decoration-break: clone\">\n",
              "    broccoli\n",
              "    <span style=\"font-size: 0.8em; font-weight: bold; line-height: 1; border-radius: 0.35em; text-transform: uppercase; vertical-align: middle; margin-left: 0.5rem\">vegetable</span>\n",
              "</mark>\n",
              ", and roasted \n",
              "<mark class=\"entity\" style=\"background: #ddd; padding: 0.45em 0.6em; margin: 0 0.25em; line-height: 1; border-radius: 0.35em; box-decoration-break: clone; -webkit-box-decoration-break: clone\">\n",
              "    carrots\n",
              "    <span style=\"font-size: 0.8em; font-weight: bold; line-height: 1; border-radius: 0.35em; text-transform: uppercase; vertical-align: middle; margin-left: 0.5rem\">vegetable</span>\n",
              "</mark>\n",
              " all topped with seeds and a delicious \n",
              "<mark class=\"entity\" style=\"background: #ddd; padding: 0.45em 0.6em; margin: 0 0.25em; line-height: 1; border-radius: 0.35em; box-decoration-break: clone; -webkit-box-decoration-break: clone\">\n",
              "    pesto\n",
              "    <span style=\"font-size: 0.8em; font-weight: bold; line-height: 1; border-radius: 0.35em; text-transform: uppercase; vertical-align: middle; margin-left: 0.5rem\">dish</span>\n",
              "</mark>\n",
              ". And a great deal for ten bucks!</div>"
            ],
            "text/plain": [
              "<IPython.core.display.HTML object>"
            ]
          },
          "metadata": {
            "tags": []
          }
        },
        {
          "output_type": "display_data",
          "data": {
            "text/html": [
              "<div class=\"entities\" style=\"line-height: 2.5; direction: ltr\">Nothing keeps me fueled like all the amazing people I’ve been meeting around the world working to make the planet a better place. But occasionally a guy has to eat, and I simply can’t find a more amazingly nutritious pick me up than a warm brown \n",
              "<mark class=\"entity\" style=\"background: #ddd; padding: 0.45em 0.6em; margin: 0 0.25em; line-height: 1; border-radius: 0.35em; box-decoration-break: clone; -webkit-box-decoration-break: clone\">\n",
              "    rice\n",
              "    <span style=\"font-size: 0.8em; font-weight: bold; line-height: 1; border-radius: 0.35em; text-transform: uppercase; vertical-align: middle; margin-left: 0.5rem\">dish</span>\n",
              "</mark>\n",
              " bowl at Autobus. The customization options are awesome and you’ll stay lit up for the rest of the day. And the plant based options are not only healthy but the least expensive! Check it out, \n",
              "<mark class=\"entity\" style=\"background: #ddd; padding: 0.45em 0.6em; margin: 0 0.25em; line-height: 1; border-radius: 0.35em; box-decoration-break: clone; -webkit-box-decoration-break: clone\">\n",
              "    edamame\n",
              "    <span style=\"font-size: 0.8em; font-weight: bold; line-height: 1; border-radius: 0.35em; text-transform: uppercase; vertical-align: middle; margin-left: 0.5rem\">dish</span>\n",
              "</mark>\n",
              ", \n",
              "<mark class=\"entity\" style=\"background: #ddd; padding: 0.45em 0.6em; margin: 0 0.25em; line-height: 1; border-radius: 0.35em; box-decoration-break: clone; -webkit-box-decoration-break: clone\">\n",
              "    broccoli\n",
              "    <span style=\"font-size: 0.8em; font-weight: bold; line-height: 1; border-radius: 0.35em; text-transform: uppercase; vertical-align: middle; margin-left: 0.5rem\">vegetable</span>\n",
              "</mark>\n",
              ", roasted \n",
              "<mark class=\"entity\" style=\"background: #ddd; padding: 0.45em 0.6em; margin: 0 0.25em; line-height: 1; border-radius: 0.35em; box-decoration-break: clone; -webkit-box-decoration-break: clone\">\n",
              "    carrots\n",
              "    <span style=\"font-size: 0.8em; font-weight: bold; line-height: 1; border-radius: 0.35em; text-transform: uppercase; vertical-align: middle; margin-left: 0.5rem\">vegetable</span>\n",
              "</mark>\n",
              ", air fried \n",
              "<mark class=\"entity\" style=\"background: #ddd; padding: 0.45em 0.6em; margin: 0 0.25em; line-height: 1; border-radius: 0.35em; box-decoration-break: clone; -webkit-box-decoration-break: clone\">\n",
              "    chickpeas\n",
              "    <span style=\"font-size: 0.8em; font-weight: bold; line-height: 1; border-radius: 0.35em; text-transform: uppercase; vertical-align: middle; margin-left: 0.5rem\">vegetable</span>\n",
              "</mark>\n",
              ", seeds and brown \n",
              "<mark class=\"entity\" style=\"background: #ddd; padding: 0.45em 0.6em; margin: 0 0.25em; line-height: 1; border-radius: 0.35em; box-decoration-break: clone; -webkit-box-decoration-break: clone\">\n",
              "    rice\n",
              "    <span style=\"font-size: 0.8em; font-weight: bold; line-height: 1; border-radius: 0.35em; text-transform: uppercase; vertical-align: middle; margin-left: 0.5rem\">dish</span>\n",
              "</mark>\n",
              "!</div>"
            ],
            "text/plain": [
              "<IPython.core.display.HTML object>"
            ]
          },
          "metadata": {
            "tags": []
          }
        },
        {
          "output_type": "display_data",
          "data": {
            "text/html": [
              "<div class=\"entities\" style=\"line-height: 2.5; direction: ltr\">What a great find for a healthy lunch! I really enjoyed the brown \n",
              "<mark class=\"entity\" style=\"background: #ddd; padding: 0.45em 0.6em; margin: 0 0.25em; line-height: 1; border-radius: 0.35em; box-decoration-break: clone; -webkit-box-decoration-break: clone\">\n",
              "    rice\n",
              "    <span style=\"font-size: 0.8em; font-weight: bold; line-height: 1; border-radius: 0.35em; text-transform: uppercase; vertical-align: middle; margin-left: 0.5rem\">dish</span>\n",
              "</mark>\n",
              " bowl - I added the crispy \n",
              "<mark class=\"entity\" style=\"background: #ddd; padding: 0.45em 0.6em; margin: 0 0.25em; line-height: 1; border-radius: 0.35em; box-decoration-break: clone; -webkit-box-decoration-break: clone\">\n",
              "    chickpeas\n",
              "    <span style=\"font-size: 0.8em; font-weight: bold; line-height: 1; border-radius: 0.35em; text-transform: uppercase; vertical-align: middle; margin-left: 0.5rem\">vegetable</span>\n",
              "</mark>\n",
              ", \n",
              "<mark class=\"entity\" style=\"background: #ddd; padding: 0.45em 0.6em; margin: 0 0.25em; line-height: 1; border-radius: 0.35em; box-decoration-break: clone; -webkit-box-decoration-break: clone\">\n",
              "    broccoli\n",
              "    <span style=\"font-size: 0.8em; font-weight: bold; line-height: 1; border-radius: 0.35em; text-transform: uppercase; vertical-align: middle; margin-left: 0.5rem\">vegetable</span>\n",
              "</mark>\n",
              ", seeds and \n",
              "<mark class=\"entity\" style=\"background: #ddd; padding: 0.45em 0.6em; margin: 0 0.25em; line-height: 1; border-radius: 0.35em; box-decoration-break: clone; -webkit-box-decoration-break: clone\">\n",
              "    avocado\n",
              "    <span style=\"font-size: 0.8em; font-weight: bold; line-height: 1; border-radius: 0.35em; text-transform: uppercase; vertical-align: middle; margin-left: 0.5rem\">fruit</span>\n",
              "</mark>\n",
              ". All the ingredients tasted and looked very fresh.  The venue itself is bright and open with a very relaxed vibe. Not many like this in Singapore - I would definitely recommend making your way here for lunch.</div>"
            ],
            "text/plain": [
              "<IPython.core.display.HTML object>"
            ]
          },
          "metadata": {
            "tags": []
          }
        },
        {
          "output_type": "display_data",
          "data": {
            "text/html": [
              "<div class=\"entities\" style=\"line-height: 2.5; direction: ltr\">This is honestly one of the best things I've eaten in Singapore. The menu at this place is all about picking the ingredients you like and combining with different grains or \n",
              "<mark class=\"entity\" style=\"background: #ddd; padding: 0.45em 0.6em; margin: 0 0.25em; line-height: 1; border-radius: 0.35em; box-decoration-break: clone; -webkit-box-decoration-break: clone\">\n",
              "    salad\n",
              "    <span style=\"font-size: 0.8em; font-weight: bold; line-height: 1; border-radius: 0.35em; text-transform: uppercase; vertical-align: middle; margin-left: 0.5rem\">dish</span>\n",
              "</mark>\n",
              ". The bowl pictured here had warm brown \n",
              "<mark class=\"entity\" style=\"background: #ddd; padding: 0.45em 0.6em; margin: 0 0.25em; line-height: 1; border-radius: 0.35em; box-decoration-break: clone; -webkit-box-decoration-break: clone\">\n",
              "    rice\n",
              "    <span style=\"font-size: 0.8em; font-weight: bold; line-height: 1; border-radius: 0.35em; text-transform: uppercase; vertical-align: middle; margin-left: 0.5rem\">dish</span>\n",
              "</mark>\n",
              ", \n",
              "<mark class=\"entity\" style=\"background: #ddd; padding: 0.45em 0.6em; margin: 0 0.25em; line-height: 1; border-radius: 0.35em; box-decoration-break: clone; -webkit-box-decoration-break: clone\">\n",
              "    edamame\n",
              "    <span style=\"font-size: 0.8em; font-weight: bold; line-height: 1; border-radius: 0.35em; text-transform: uppercase; vertical-align: middle; margin-left: 0.5rem\">dish</span>\n",
              "</mark>\n",
              ", \n",
              "<mark class=\"entity\" style=\"background: #ddd; padding: 0.45em 0.6em; margin: 0 0.25em; line-height: 1; border-radius: 0.35em; box-decoration-break: clone; -webkit-box-decoration-break: clone\">\n",
              "    asparagus\n",
              "    <span style=\"font-size: 0.8em; font-weight: bold; line-height: 1; border-radius: 0.35em; text-transform: uppercase; vertical-align: middle; margin-left: 0.5rem\">vegetable</span>\n",
              "</mark>\n",
              ", \n",
              "<mark class=\"entity\" style=\"background: #ddd; padding: 0.45em 0.6em; margin: 0 0.25em; line-height: 1; border-radius: 0.35em; box-decoration-break: clone; -webkit-box-decoration-break: clone\">\n",
              "    broccoli\n",
              "    <span style=\"font-size: 0.8em; font-weight: bold; line-height: 1; border-radius: 0.35em; text-transform: uppercase; vertical-align: middle; margin-left: 0.5rem\">vegetable</span>\n",
              "</mark>\n",
              ", crispy \n",
              "<mark class=\"entity\" style=\"background: #ddd; padding: 0.45em 0.6em; margin: 0 0.25em; line-height: 1; border-radius: 0.35em; box-decoration-break: clone; -webkit-box-decoration-break: clone\">\n",
              "    chickpeas\n",
              "    <span style=\"font-size: 0.8em; font-weight: bold; line-height: 1; border-radius: 0.35em; text-transform: uppercase; vertical-align: middle; margin-left: 0.5rem\">vegetable</span>\n",
              "</mark>\n",
              " (so good!), and \n",
              "<mark class=\"entity\" style=\"background: #ddd; padding: 0.45em 0.6em; margin: 0 0.25em; line-height: 1; border-radius: 0.35em; box-decoration-break: clone; -webkit-box-decoration-break: clone\">\n",
              "    basil\n",
              "    <span style=\"font-size: 0.8em; font-weight: bold; line-height: 1; border-radius: 0.35em; text-transform: uppercase; vertical-align: middle; margin-left: 0.5rem\">herb</span>\n",
              "</mark>\n",
              " \n",
              "<mark class=\"entity\" style=\"background: #ddd; padding: 0.45em 0.6em; margin: 0 0.25em; line-height: 1; border-radius: 0.35em; box-decoration-break: clone; -webkit-box-decoration-break: clone\">\n",
              "    pesto\n",
              "    <span style=\"font-size: 0.8em; font-weight: bold; line-height: 1; border-radius: 0.35em; text-transform: uppercase; vertical-align: middle; margin-left: 0.5rem\">dish</span>\n",
              "</mark>\n",
              ".</div>"
            ],
            "text/plain": [
              "<IPython.core.display.HTML object>"
            ]
          },
          "metadata": {
            "tags": []
          }
        },
        {
          "output_type": "display_data",
          "data": {
            "text/html": [
              "<div class=\"entities\" style=\"line-height: 2.5; direction: ltr\">Love my colourful bowl - phytonutrients yayyy! Base + 4 sides + topping + dressing for $11. Tip: Combine your order with a friend and buy the $20 for $15 fave voucher. So that's $8.50 for this bowl 😁</div>"
            ],
            "text/plain": [
              "<IPython.core.display.HTML object>"
            ]
          },
          "metadata": {
            "tags": []
          }
        },
        {
          "output_type": "display_data",
          "data": {
            "text/html": [
              "<div class=\"entities\" style=\"line-height: 2.5; direction: ltr\">I was STARVING when I ordered this, and I still couldn't finish it because the portion is just that huge! Was surprised to see that the menu changed yet again, not sure if it's a daily rotational thing but I prefer the previous one because this one no longer has the \n",
              "<mark class=\"entity\" style=\"background: #ddd; padding: 0.45em 0.6em; margin: 0 0.25em; line-height: 1; border-radius: 0.35em; box-decoration-break: clone; -webkit-box-decoration-break: clone\">\n",
              "    ratatouille\n",
              "    <span style=\"font-size: 0.8em; font-weight: bold; line-height: 1; border-radius: 0.35em; text-transform: uppercase; vertical-align: middle; margin-left: 0.5rem\">dish</span>\n",
              "</mark>\n",
              " or soy \n",
              "<mark class=\"entity\" style=\"background: #ddd; padding: 0.45em 0.6em; margin: 0 0.25em; line-height: 1; border-radius: 0.35em; box-decoration-break: clone; -webkit-box-decoration-break: clone\">\n",
              "    sesame\n",
              "    <span style=\"font-size: 0.8em; font-weight: bold; line-height: 1; border-radius: 0.35em; text-transform: uppercase; vertical-align: middle; margin-left: 0.5rem\">spice</span>\n",
              "</mark>\n",
              " \n",
              "<mark class=\"entity\" style=\"background: #ddd; padding: 0.45em 0.6em; margin: 0 0.25em; line-height: 1; border-radius: 0.35em; box-decoration-break: clone; -webkit-box-decoration-break: clone\">\n",
              "    sauce\n",
              "    <span style=\"font-size: 0.8em; font-weight: bold; line-height: 1; border-radius: 0.35em; text-transform: uppercase; vertical-align: middle; margin-left: 0.5rem\">condiment</span>\n",
              "</mark>\n",
              " that I liked! #disappointed None of the new sauces really appealed to me. I tried the roasted \n",
              "<mark class=\"entity\" style=\"background: #ddd; padding: 0.45em 0.6em; margin: 0 0.25em; line-height: 1; border-radius: 0.35em; box-decoration-break: clone; -webkit-box-decoration-break: clone\">\n",
              "    sesame\n",
              "    <span style=\"font-size: 0.8em; font-weight: bold; line-height: 1; border-radius: 0.35em; text-transform: uppercase; vertical-align: middle; margin-left: 0.5rem\">spice</span>\n",
              "</mark>\n",
              " \n",
              "<mark class=\"entity\" style=\"background: #ddd; padding: 0.45em 0.6em; margin: 0 0.25em; line-height: 1; border-radius: 0.35em; box-decoration-break: clone; -webkit-box-decoration-break: clone\">\n",
              "    ginger\n",
              "    <span style=\"font-size: 0.8em; font-weight: bold; line-height: 1; border-radius: 0.35em; text-transform: uppercase; vertical-align: middle; margin-left: 0.5rem\">spice</span>\n",
              "</mark>\n",
              " \n",
              "<mark class=\"entity\" style=\"background: #ddd; padding: 0.45em 0.6em; margin: 0 0.25em; line-height: 1; border-radius: 0.35em; box-decoration-break: clone; -webkit-box-decoration-break: clone\">\n",
              "    sauce\n",
              "    <span style=\"font-size: 0.8em; font-weight: bold; line-height: 1; border-radius: 0.35em; text-transform: uppercase; vertical-align: middle; margin-left: 0.5rem\">condiment</span>\n",
              "</mark>\n",
              " and it was okay, though I couldn't taste the \n",
              "<mark class=\"entity\" style=\"background: #ddd; padding: 0.45em 0.6em; margin: 0 0.25em; line-height: 1; border-radius: 0.35em; box-decoration-break: clone; -webkit-box-decoration-break: clone\">\n",
              "    ginger\n",
              "    <span style=\"font-size: 0.8em; font-weight: bold; line-height: 1; border-radius: 0.35em; text-transform: uppercase; vertical-align: middle; margin-left: 0.5rem\">spice</span>\n",
              "</mark>\n",
              " at all. The nut topping was kind of lame because it's just crushed peanuts which reminded me of #muachee except that it's not... The baby \n",
              "<mark class=\"entity\" style=\"background: #ddd; padding: 0.45em 0.6em; margin: 0 0.25em; line-height: 1; border-radius: 0.35em; box-decoration-break: clone; -webkit-box-decoration-break: clone\">\n",
              "    corn\n",
              "    <span style=\"font-size: 0.8em; font-weight: bold; line-height: 1; border-radius: 0.35em; text-transform: uppercase; vertical-align: middle; margin-left: 0.5rem\">vegetable</span>\n",
              "</mark>\n",
              " was labelled as &quot;Charred baby \n",
              "<mark class=\"entity\" style=\"background: #ddd; padding: 0.45em 0.6em; margin: 0 0.25em; line-height: 1; border-radius: 0.35em; box-decoration-break: clone; -webkit-box-decoration-break: clone\">\n",
              "    corn\n",
              "    <span style=\"font-size: 0.8em; font-weight: bold; line-height: 1; border-radius: 0.35em; text-transform: uppercase; vertical-align: middle; margin-left: 0.5rem\">vegetable</span>\n",
              "</mark>\n",
              "&quot; on the menu except that...IT'S NOT (or barely) #doubledisappointed Also they no longer offer $10 bowls, now it's $11 but instead of a half-sized portion of protein in the $10 bowl, you get a full sized portion so it's not that bad.</div>"
            ],
            "text/plain": [
              "<IPython.core.display.HTML object>"
            ]
          },
          "metadata": {
            "tags": []
          }
        },
        {
          "output_type": "display_data",
          "data": {
            "text/html": [
              "<div class=\"entities\" style=\"line-height: 2.5; direction: ltr\">I hadn't come here in a while after they raised their prices and since I can no longer remember what their old prices were, it was all good. The fried \n",
              "<mark class=\"entity\" style=\"background: #ddd; padding: 0.45em 0.6em; margin: 0 0.25em; line-height: 1; border-radius: 0.35em; box-decoration-break: clone; -webkit-box-decoration-break: clone\">\n",
              "    chickpeas\n",
              "    <span style=\"font-size: 0.8em; font-weight: bold; line-height: 1; border-radius: 0.35em; text-transform: uppercase; vertical-align: middle; margin-left: 0.5rem\">vegetable</span>\n",
              "</mark>\n",
              " and soya \n",
              "<mark class=\"entity\" style=\"background: #ddd; padding: 0.45em 0.6em; margin: 0 0.25em; line-height: 1; border-radius: 0.35em; box-decoration-break: clone; -webkit-box-decoration-break: clone\">\n",
              "    sesame\n",
              "    <span style=\"font-size: 0.8em; font-weight: bold; line-height: 1; border-radius: 0.35em; text-transform: uppercase; vertical-align: middle; margin-left: 0.5rem\">spice</span>\n",
              "</mark>\n",
              " \n",
              "<mark class=\"entity\" style=\"background: #ddd; padding: 0.45em 0.6em; margin: 0 0.25em; line-height: 1; border-radius: 0.35em; box-decoration-break: clone; -webkit-box-decoration-break: clone\">\n",
              "    sauce\n",
              "    <span style=\"font-size: 0.8em; font-weight: bold; line-height: 1; border-radius: 0.35em; text-transform: uppercase; vertical-align: middle; margin-left: 0.5rem\">condiment</span>\n",
              "</mark>\n",
              " were great as usual but my new favourites were the \n",
              "<mark class=\"entity\" style=\"background: #ddd; padding: 0.45em 0.6em; margin: 0 0.25em; line-height: 1; border-radius: 0.35em; box-decoration-break: clone; -webkit-box-decoration-break: clone\">\n",
              "    butter\n",
              "    <span style=\"font-size: 0.8em; font-weight: bold; line-height: 1; border-radius: 0.35em; text-transform: uppercase; vertical-align: middle; margin-left: 0.5rem\">condiment</span>\n",
              "</mark>\n",
              " \n",
              "<mark class=\"entity\" style=\"background: #ddd; padding: 0.45em 0.6em; margin: 0 0.25em; line-height: 1; border-radius: 0.35em; box-decoration-break: clone; -webkit-box-decoration-break: clone\">\n",
              "    corn\n",
              "    <span style=\"font-size: 0.8em; font-weight: bold; line-height: 1; border-radius: 0.35em; text-transform: uppercase; vertical-align: middle; margin-left: 0.5rem\">vegetable</span>\n",
              "</mark>\n",
              " (like an upgraded version of the cup \n",
              "<mark class=\"entity\" style=\"background: #ddd; padding: 0.45em 0.6em; margin: 0 0.25em; line-height: 1; border-radius: 0.35em; box-decoration-break: clone; -webkit-box-decoration-break: clone\">\n",
              "    corn\n",
              "    <span style=\"font-size: 0.8em; font-weight: bold; line-height: 1; border-radius: 0.35em; text-transform: uppercase; vertical-align: middle; margin-left: 0.5rem\">vegetable</span>\n",
              "</mark>\n",
              " sold on the streets) and the \n",
              "<mark class=\"entity\" style=\"background: #ddd; padding: 0.45em 0.6em; margin: 0 0.25em; line-height: 1; border-radius: 0.35em; box-decoration-break: clone; -webkit-box-decoration-break: clone\">\n",
              "    ratatouille\n",
              "    <span style=\"font-size: 0.8em; font-weight: bold; line-height: 1; border-radius: 0.35em; text-transform: uppercase; vertical-align: middle; margin-left: 0.5rem\">dish</span>\n",
              "</mark>\n",
              ". So yum! I can almost forgive them for raising their prices. Only the roasted \n",
              "<mark class=\"entity\" style=\"background: #ddd; padding: 0.45em 0.6em; margin: 0 0.25em; line-height: 1; border-radius: 0.35em; box-decoration-break: clone; -webkit-box-decoration-break: clone\">\n",
              "    pumpkin\n",
              "    <span style=\"font-size: 0.8em; font-weight: bold; line-height: 1; border-radius: 0.35em; text-transform: uppercase; vertical-align: middle; margin-left: 0.5rem\">vegetable</span>\n",
              "</mark>\n",
              " was kind of meh as it didn't taste roasted at all and was just...like normal :/ Oh and they forgot to give me one of the sides I picked so remember to check your bowl to make sure you have everything before you start eating!</div>"
            ],
            "text/plain": [
              "<IPython.core.display.HTML object>"
            ]
          },
          "metadata": {
            "tags": []
          }
        },
        {
          "output_type": "display_data",
          "data": {
            "text/html": [
              "<div class=\"entities\" style=\"line-height: 2.5; direction: ltr\">As a fitness-focussed omnivore, one of my major challenges of eating a plant-based diet is that often restos don't offer enough protein in their plant-based options. I have no problem prepping healthy plant-based meals at home but when eating out at lunch the options are usually carb-heavy and unappetising. All this changed when I discovered Autobus.</br></br>Autobus enabled me to get my macros from \n",
              "<mark class=\"entity\" style=\"background: #ddd; padding: 0.45em 0.6em; margin: 0 0.25em; line-height: 1; border-radius: 0.35em; box-decoration-break: clone; -webkit-box-decoration-break: clone\">\n",
              "    edamame\n",
              "    <span style=\"font-size: 0.8em; font-weight: bold; line-height: 1; border-radius: 0.35em; text-transform: uppercase; vertical-align: middle; margin-left: 0.5rem\">dish</span>\n",
              "</mark>\n",
              ", \n",
              "<mark class=\"entity\" style=\"background: #ddd; padding: 0.45em 0.6em; margin: 0 0.25em; line-height: 1; border-radius: 0.35em; box-decoration-break: clone; -webkit-box-decoration-break: clone\">\n",
              "    chickpeas\n",
              "    <span style=\"font-size: 0.8em; font-weight: bold; line-height: 1; border-radius: 0.35em; text-transform: uppercase; vertical-align: middle; margin-left: 0.5rem\">vegetable</span>\n",
              "</mark>\n",
              ", \n",
              "<mark class=\"entity\" style=\"background: #ddd; padding: 0.45em 0.6em; margin: 0 0.25em; line-height: 1; border-radius: 0.35em; box-decoration-break: clone; -webkit-box-decoration-break: clone\">\n",
              "    egg\n",
              "    <span style=\"font-size: 0.8em; font-weight: bold; line-height: 1; border-radius: 0.35em; text-transform: uppercase; vertical-align: middle; margin-left: 0.5rem\">dish</span>\n",
              "</mark>\n",
              " plus greens and smart carbs like \n",
              "<mark class=\"entity\" style=\"background: #ddd; padding: 0.45em 0.6em; margin: 0 0.25em; line-height: 1; border-radius: 0.35em; box-decoration-break: clone; -webkit-box-decoration-break: clone\">\n",
              "    quinoa\n",
              "    <span style=\"font-size: 0.8em; font-weight: bold; line-height: 1; border-radius: 0.35em; text-transform: uppercase; vertical-align: middle; margin-left: 0.5rem\">dish</span>\n",
              "</mark>\n",
              " and roasted squash. It's a win-win option and one I will turn to again and again.</div>"
            ],
            "text/plain": [
              "<IPython.core.display.HTML object>"
            ]
          },
          "metadata": {
            "tags": []
          }
        },
        {
          "output_type": "display_data",
          "data": {
            "text/html": [
              "<div class=\"entities\" style=\"line-height: 2.5; direction: ltr\">I can't get enough of the salads at autobus.  The ingredients are very fresh and high quality.  The \n",
              "<mark class=\"entity\" style=\"background: #ddd; padding: 0.45em 0.6em; margin: 0 0.25em; line-height: 1; border-radius: 0.35em; box-decoration-break: clone; -webkit-box-decoration-break: clone\">\n",
              "    chickpeas\n",
              "    <span style=\"font-size: 0.8em; font-weight: bold; line-height: 1; border-radius: 0.35em; text-transform: uppercase; vertical-align: middle; margin-left: 0.5rem\">vegetable</span>\n",
              "</mark>\n",
              " are the highlight- they are crispy and \n",
              "<mark class=\"entity\" style=\"background: #ddd; padding: 0.45em 0.6em; margin: 0 0.25em; line-height: 1; border-radius: 0.35em; box-decoration-break: clone; -webkit-box-decoration-break: clone\">\n",
              "    savory\n",
              "    <span style=\"font-size: 0.8em; font-weight: bold; line-height: 1; border-radius: 0.35em; text-transform: uppercase; vertical-align: middle; margin-left: 0.5rem\">herb</span>\n",
              "</mark>\n",
              " unlike any way I've had them before.  The \n",
              "<mark class=\"entity\" style=\"background: #ddd; padding: 0.45em 0.6em; margin: 0 0.25em; line-height: 1; border-radius: 0.35em; box-decoration-break: clone; -webkit-box-decoration-break: clone\">\n",
              "    salad\n",
              "    <span style=\"font-size: 0.8em; font-weight: bold; line-height: 1; border-radius: 0.35em; text-transform: uppercase; vertical-align: middle; margin-left: 0.5rem\">dish</span>\n",
              "</mark>\n",
              " is filling and good value for money.</div>"
            ],
            "text/plain": [
              "<IPython.core.display.HTML object>"
            ]
          },
          "metadata": {
            "tags": []
          }
        },
        {
          "output_type": "display_data",
          "data": {
            "text/html": [
              "<div class=\"entities\" style=\"line-height: 2.5; direction: ltr\">Get the crispy \n",
              "<mark class=\"entity\" style=\"background: #ddd; padding: 0.45em 0.6em; margin: 0 0.25em; line-height: 1; border-radius: 0.35em; box-decoration-break: clone; -webkit-box-decoration-break: clone\">\n",
              "    chickpeas\n",
              "    <span style=\"font-size: 0.8em; font-weight: bold; line-height: 1; border-radius: 0.35em; text-transform: uppercase; vertical-align: middle; margin-left: 0.5rem\">vegetable</span>\n",
              "</mark>\n",
              " - they’re delicious! Also had the fried \n",
              "<mark class=\"entity\" style=\"background: #ddd; padding: 0.45em 0.6em; margin: 0 0.25em; line-height: 1; border-radius: 0.35em; box-decoration-break: clone; -webkit-box-decoration-break: clone\">\n",
              "    corn\n",
              "    <span style=\"font-size: 0.8em; font-weight: bold; line-height: 1; border-radius: 0.35em; text-transform: uppercase; vertical-align: middle; margin-left: 0.5rem\">vegetable</span>\n",
              "</mark>\n",
              ", red \n",
              "<mark class=\"entity\" style=\"background: #ddd; padding: 0.45em 0.6em; margin: 0 0.25em; line-height: 1; border-radius: 0.35em; box-decoration-break: clone; -webkit-box-decoration-break: clone\">\n",
              "    pepper\n",
              "    <span style=\"font-size: 0.8em; font-weight: bold; line-height: 1; border-radius: 0.35em; text-transform: uppercase; vertical-align: middle; margin-left: 0.5rem\">condiment</span>\n",
              "</mark>\n",
              " and \n",
              "<mark class=\"entity\" style=\"background: #ddd; padding: 0.45em 0.6em; margin: 0 0.25em; line-height: 1; border-radius: 0.35em; box-decoration-break: clone; -webkit-box-decoration-break: clone\">\n",
              "    mushrooms\n",
              "    <span style=\"font-size: 0.8em; font-weight: bold; line-height: 1; border-radius: 0.35em; text-transform: uppercase; vertical-align: middle; margin-left: 0.5rem\">vegetable</span>\n",
              "</mark>\n",
              " with the \n",
              "<mark class=\"entity\" style=\"background: #ddd; padding: 0.45em 0.6em; margin: 0 0.25em; line-height: 1; border-radius: 0.35em; box-decoration-break: clone; -webkit-box-decoration-break: clone\">\n",
              "    mesclun\n",
              "    <span style=\"font-size: 0.8em; font-weight: bold; line-height: 1; border-radius: 0.35em; text-transform: uppercase; vertical-align: middle; margin-left: 0.5rem\">dish</span>\n",
              "</mark>\n",
              " mix. Pretty filling, and the honey mustard \n",
              "<mark class=\"entity\" style=\"background: #ddd; padding: 0.45em 0.6em; margin: 0 0.25em; line-height: 1; border-radius: 0.35em; box-decoration-break: clone; -webkit-box-decoration-break: clone\">\n",
              "    sauce\n",
              "    <span style=\"font-size: 0.8em; font-weight: bold; line-height: 1; border-radius: 0.35em; text-transform: uppercase; vertical-align: middle; margin-left: 0.5rem\">condiment</span>\n",
              "</mark>\n",
              " brought everything together. Yummy!</div>"
            ],
            "text/plain": [
              "<IPython.core.display.HTML object>"
            ]
          },
          "metadata": {
            "tags": []
          }
        },
        {
          "output_type": "display_data",
          "data": {
            "text/html": [
              "<div class=\"entities\" style=\"line-height: 2.5; direction: ltr\">Really fresh \n",
              "<mark class=\"entity\" style=\"background: #ddd; padding: 0.45em 0.6em; margin: 0 0.25em; line-height: 1; border-radius: 0.35em; box-decoration-break: clone; -webkit-box-decoration-break: clone\">\n",
              "    salad\n",
              "    <span style=\"font-size: 0.8em; font-weight: bold; line-height: 1; border-radius: 0.35em; text-transform: uppercase; vertical-align: middle; margin-left: 0.5rem\">dish</span>\n",
              "</mark>\n",
              " bowls from Autobus! Loved the customizable options that I get to choose from and it makes for a great lunch</div>"
            ],
            "text/plain": [
              "<IPython.core.display.HTML object>"
            ]
          },
          "metadata": {
            "tags": []
          }
        },
        {
          "output_type": "display_data",
          "data": {
            "text/html": [
              "<div class=\"entities\" style=\"line-height: 2.5; direction: ltr\">Every component of the dish was delicious, I especially liked the fried \n",
              "<mark class=\"entity\" style=\"background: #ddd; padding: 0.45em 0.6em; margin: 0 0.25em; line-height: 1; border-radius: 0.35em; box-decoration-break: clone; -webkit-box-decoration-break: clone\">\n",
              "    chickpeas\n",
              "    <span style=\"font-size: 0.8em; font-weight: bold; line-height: 1; border-radius: 0.35em; text-transform: uppercase; vertical-align: middle; margin-left: 0.5rem\">vegetable</span>\n",
              "</mark>\n",
              " which were something different from the usual boiled kind. The highlight however, was the soy \n",
              "<mark class=\"entity\" style=\"background: #ddd; padding: 0.45em 0.6em; margin: 0 0.25em; line-height: 1; border-radius: 0.35em; box-decoration-break: clone; -webkit-box-decoration-break: clone\">\n",
              "    sesame\n",
              "    <span style=\"font-size: 0.8em; font-weight: bold; line-height: 1; border-radius: 0.35em; text-transform: uppercase; vertical-align: middle; margin-left: 0.5rem\">spice</span>\n",
              "</mark>\n",
              " \n",
              "<mark class=\"entity\" style=\"background: #ddd; padding: 0.45em 0.6em; margin: 0 0.25em; line-height: 1; border-radius: 0.35em; box-decoration-break: clone; -webkit-box-decoration-break: clone\">\n",
              "    sauce\n",
              "    <span style=\"font-size: 0.8em; font-weight: bold; line-height: 1; border-radius: 0.35em; text-transform: uppercase; vertical-align: middle; margin-left: 0.5rem\">condiment</span>\n",
              "</mark>\n",
              " which brought the dish together perfectly.</div>"
            ],
            "text/plain": [
              "<IPython.core.display.HTML object>"
            ]
          },
          "metadata": {
            "tags": []
          }
        },
        {
          "output_type": "display_data",
          "data": {
            "text/html": [
              "<div class=\"entities\" style=\"line-height: 2.5; direction: ltr\">Fantastic \n",
              "<mark class=\"entity\" style=\"background: #ddd; padding: 0.45em 0.6em; margin: 0 0.25em; line-height: 1; border-radius: 0.35em; box-decoration-break: clone; -webkit-box-decoration-break: clone\">\n",
              "    quinoa\n",
              "    <span style=\"font-size: 0.8em; font-weight: bold; line-height: 1; border-radius: 0.35em; text-transform: uppercase; vertical-align: middle; margin-left: 0.5rem\">dish</span>\n",
              "</mark>\n",
              " bowl with soy \n",
              "<mark class=\"entity\" style=\"background: #ddd; padding: 0.45em 0.6em; margin: 0 0.25em; line-height: 1; border-radius: 0.35em; box-decoration-break: clone; -webkit-box-decoration-break: clone\">\n",
              "    sesame\n",
              "    <span style=\"font-size: 0.8em; font-weight: bold; line-height: 1; border-radius: 0.35em; text-transform: uppercase; vertical-align: middle; margin-left: 0.5rem\">spice</span>\n",
              "</mark>\n",
              " dressing and crispy fried \n",
              "<mark class=\"entity\" style=\"background: #ddd; padding: 0.45em 0.6em; margin: 0 0.25em; line-height: 1; border-radius: 0.35em; box-decoration-break: clone; -webkit-box-decoration-break: clone\">\n",
              "    chickpeas\n",
              "    <span style=\"font-size: 0.8em; font-weight: bold; line-height: 1; border-radius: 0.35em; text-transform: uppercase; vertical-align: middle; margin-left: 0.5rem\">vegetable</span>\n",
              "</mark>\n",
              ". Loved the presentation and ambiance--I'll definitely be coming back here again!</div>"
            ],
            "text/plain": [
              "<IPython.core.display.HTML object>"
            ]
          },
          "metadata": {
            "tags": []
          }
        },
        {
          "output_type": "display_data",
          "data": {
            "text/html": [
              "<div class=\"entities\" style=\"line-height: 2.5; direction: ltr\">This \n",
              "<mark class=\"entity\" style=\"background: #ddd; padding: 0.45em 0.6em; margin: 0 0.25em; line-height: 1; border-radius: 0.35em; box-decoration-break: clone; -webkit-box-decoration-break: clone\">\n",
              "    acai\n",
              "    <span style=\"font-size: 0.8em; font-weight: bold; line-height: 1; border-radius: 0.35em; text-transform: uppercase; vertical-align: middle; margin-left: 0.5rem\">dish</span>\n",
              "</mark>\n",
              " bowl is just a bowl of delight. I had it as a \n",
              "<mark class=\"entity\" style=\"background: #ddd; padding: 0.45em 0.6em; margin: 0 0.25em; line-height: 1; border-radius: 0.35em; box-decoration-break: clone; -webkit-box-decoration-break: clone\">\n",
              "    dessert\n",
              "    <span style=\"font-size: 0.8em; font-weight: bold; line-height: 1; border-radius: 0.35em; text-transform: uppercase; vertical-align: middle; margin-left: 0.5rem\">dish</span>\n",
              "</mark>\n",
              " to share after a meal but I would order it as a main in the future. A good portion and a lot of fruits! Love it!</div>"
            ],
            "text/plain": [
              "<IPython.core.display.HTML object>"
            ]
          },
          "metadata": {
            "tags": []
          }
        },
        {
          "output_type": "display_data",
          "data": {
            "text/html": [
              "<div class=\"entities\" style=\"line-height: 2.5; direction: ltr\">Amazing \n",
              "<mark class=\"entity\" style=\"background: #ddd; padding: 0.45em 0.6em; margin: 0 0.25em; line-height: 1; border-radius: 0.35em; box-decoration-break: clone; -webkit-box-decoration-break: clone\">\n",
              "    Pamelo\n",
              "    <span style=\"font-size: 0.8em; font-weight: bold; line-height: 1; border-radius: 0.35em; text-transform: uppercase; vertical-align: middle; margin-left: 0.5rem\">fruit</span>\n",
              "</mark>\n",
              " \n",
              "<mark class=\"entity\" style=\"background: #ddd; padding: 0.45em 0.6em; margin: 0 0.25em; line-height: 1; border-radius: 0.35em; box-decoration-break: clone; -webkit-box-decoration-break: clone\">\n",
              "    salad\n",
              "    <span style=\"font-size: 0.8em; font-weight: bold; line-height: 1; border-radius: 0.35em; text-transform: uppercase; vertical-align: middle; margin-left: 0.5rem\">dish</span>\n",
              "</mark>\n",
              " - a mix of oranges and veggies. Very fresh and I can finish 2 at a time. I would advise anyone who loves salads to not miss this. Serves 2 people</div>"
            ],
            "text/plain": [
              "<IPython.core.display.HTML object>"
            ]
          },
          "metadata": {
            "tags": []
          }
        },
        {
          "output_type": "display_data",
          "data": {
            "text/html": [
              "<div class=\"entities\" style=\"line-height: 2.5; direction: ltr\">The roasted \n",
              "<mark class=\"entity\" style=\"background: #ddd; padding: 0.45em 0.6em; margin: 0 0.25em; line-height: 1; border-radius: 0.35em; box-decoration-break: clone; -webkit-box-decoration-break: clone\">\n",
              "    cauliflower\n",
              "    <span style=\"font-size: 0.8em; font-weight: bold; line-height: 1; border-radius: 0.35em; text-transform: uppercase; vertical-align: middle; margin-left: 0.5rem\">vegetable</span>\n",
              "</mark>\n",
              " at Commissary is delicious. It has all of the flavours of the \n",
              "<mark class=\"entity\" style=\"background: #ddd; padding: 0.45em 0.6em; margin: 0 0.25em; line-height: 1; border-radius: 0.35em; box-decoration-break: clone; -webkit-box-decoration-break: clone\">\n",
              "    cauliflower\n",
              "    <span style=\"font-size: 0.8em; font-weight: bold; line-height: 1; border-radius: 0.35em; text-transform: uppercase; vertical-align: middle; margin-left: 0.5rem\">vegetable</span>\n",
              "</mark>\n",
              " with a very nice and light pasilla \n",
              "<mark class=\"entity\" style=\"background: #ddd; padding: 0.45em 0.6em; margin: 0 0.25em; line-height: 1; border-radius: 0.35em; box-decoration-break: clone; -webkit-box-decoration-break: clone\">\n",
              "    sauce\n",
              "    <span style=\"font-size: 0.8em; font-weight: bold; line-height: 1; border-radius: 0.35em; text-transform: uppercase; vertical-align: middle; margin-left: 0.5rem\">condiment</span>\n",
              "</mark>\n",
              " to dress the plate. The smokiness of the pasilla together with roasted almonds and the roasted \n",
              "<mark class=\"entity\" style=\"background: #ddd; padding: 0.45em 0.6em; margin: 0 0.25em; line-height: 1; border-radius: 0.35em; box-decoration-break: clone; -webkit-box-decoration-break: clone\">\n",
              "    cauliflower\n",
              "    <span style=\"font-size: 0.8em; font-weight: bold; line-height: 1; border-radius: 0.35em; text-transform: uppercase; vertical-align: middle; margin-left: 0.5rem\">vegetable</span>\n",
              "</mark>\n",
              " give the dish a lot of depth and complexity. A very good option.</div>"
            ],
            "text/plain": [
              "<IPython.core.display.HTML object>"
            ]
          },
          "metadata": {
            "tags": []
          }
        },
        {
          "output_type": "display_data",
          "data": {
            "text/html": [
              "<div class=\"entities\" style=\"line-height: 2.5; direction: ltr\">Super tasty and healthy (because it's baked, not fried!) \n",
              "<mark class=\"entity\" style=\"background: #ddd; padding: 0.45em 0.6em; margin: 0 0.25em; line-height: 1; border-radius: 0.35em; box-decoration-break: clone; -webkit-box-decoration-break: clone\">\n",
              "    falafels\n",
              "    <span style=\"font-size: 0.8em; font-weight: bold; line-height: 1; border-radius: 0.35em; text-transform: uppercase; vertical-align: middle; margin-left: 0.5rem\">dish</span>\n",
              "</mark>\n",
              " inside tucked inside a freshly baked yummy \n",
              "<mark class=\"entity\" style=\"background: #ddd; padding: 0.45em 0.6em; margin: 0 0.25em; line-height: 1; border-radius: 0.35em; box-decoration-break: clone; -webkit-box-decoration-break: clone\">\n",
              "    pita\n",
              "    <span style=\"font-size: 0.8em; font-weight: bold; line-height: 1; border-radius: 0.35em; text-transform: uppercase; vertical-align: middle; margin-left: 0.5rem\">bread</span>\n",
              "</mark>\n",
              " amongst a generous nest of vegetables.  Get it with the spicy \n",
              "<mark class=\"entity\" style=\"background: #ddd; padding: 0.45em 0.6em; margin: 0 0.25em; line-height: 1; border-radius: 0.35em; box-decoration-break: clone; -webkit-box-decoration-break: clone\">\n",
              "    yogurt\n",
              "    <span style=\"font-size: 0.8em; font-weight: bold; line-height: 1; border-radius: 0.35em; text-transform: uppercase; vertical-align: middle; margin-left: 0.5rem\">dish</span>\n",
              "</mark>\n",
              " \n",
              "<mark class=\"entity\" style=\"background: #ddd; padding: 0.45em 0.6em; margin: 0 0.25em; line-height: 1; border-radius: 0.35em; box-decoration-break: clone; -webkit-box-decoration-break: clone\">\n",
              "    sauce\n",
              "    <span style=\"font-size: 0.8em; font-weight: bold; line-height: 1; border-radius: 0.35em; text-transform: uppercase; vertical-align: middle; margin-left: 0.5rem\">condiment</span>\n",
              "</mark>\n",
              " for a shiok kick.  Light aftertaste which doesn't leave you feeling bloated and thirsty.</div>"
            ],
            "text/plain": [
              "<IPython.core.display.HTML object>"
            ]
          },
          "metadata": {
            "tags": []
          }
        },
        {
          "output_type": "display_data",
          "data": {
            "text/html": [
              "<div class=\"entities\" style=\"line-height: 2.5; direction: ltr\">Simple vegetarian sautéed \n",
              "<mark class=\"entity\" style=\"background: #ddd; padding: 0.45em 0.6em; margin: 0 0.25em; line-height: 1; border-radius: 0.35em; box-decoration-break: clone; -webkit-box-decoration-break: clone\">\n",
              "    rice noodles\n",
              "    <span style=\"font-size: 0.8em; font-weight: bold; line-height: 1; border-radius: 0.35em; text-transform: uppercase; vertical-align: middle; margin-left: 0.5rem\">dish</span>\n",
              "</mark>\n",
              " with organic greens and mushrooms for breakfast, great \n",
              "<mark class=\"entity\" style=\"background: #ddd; padding: 0.45em 0.6em; margin: 0 0.25em; line-height: 1; border-radius: 0.35em; box-decoration-break: clone; -webkit-box-decoration-break: clone\">\n",
              "    savory\n",
              "    <span style=\"font-size: 0.8em; font-weight: bold; line-height: 1; border-radius: 0.35em; text-transform: uppercase; vertical-align: middle; margin-left: 0.5rem\">herb</span>\n",
              "</mark>\n",
              " option for breakfast, the taste can be improved.</div>"
            ],
            "text/plain": [
              "<IPython.core.display.HTML object>"
            ]
          },
          "metadata": {
            "tags": []
          }
        },
        {
          "output_type": "display_data",
          "data": {
            "text/html": [
              "<div class=\"entities\" style=\"line-height: 2.5; direction: ltr\">Heaps of brown \n",
              "<mark class=\"entity\" style=\"background: #ddd; padding: 0.45em 0.6em; margin: 0 0.25em; line-height: 1; border-radius: 0.35em; box-decoration-break: clone; -webkit-box-decoration-break: clone\">\n",
              "    rice\n",
              "    <span style=\"font-size: 0.8em; font-weight: bold; line-height: 1; border-radius: 0.35em; text-transform: uppercase; vertical-align: middle; margin-left: 0.5rem\">dish</span>\n",
              "</mark>\n",
              ", \n",
              "<mark class=\"entity\" style=\"background: #ddd; padding: 0.45em 0.6em; margin: 0 0.25em; line-height: 1; border-radius: 0.35em; box-decoration-break: clone; -webkit-box-decoration-break: clone\">\n",
              "    beehoon\n",
              "    <span style=\"font-size: 0.8em; font-weight: bold; line-height: 1; border-radius: 0.35em; text-transform: uppercase; vertical-align: middle; margin-left: 0.5rem\">dish</span>\n",
              "</mark>\n",
              ", and macaroni underneath the \n",
              "<mark class=\"entity\" style=\"background: #ddd; padding: 0.45em 0.6em; margin: 0 0.25em; line-height: 1; border-radius: 0.35em; box-decoration-break: clone; -webkit-box-decoration-break: clone\">\n",
              "    sauce\n",
              "    <span style=\"font-size: 0.8em; font-weight: bold; line-height: 1; border-radius: 0.35em; text-transform: uppercase; vertical-align: middle; margin-left: 0.5rem\">condiment</span>\n",
              "</mark>\n",
              ". I didn't think this was particularly delicious maybe because the taste was quite one-dimensional. Not very value for money too ($10). And mostly carbs?? Lol. I wouldn't order it again. #crf</div>"
            ],
            "text/plain": [
              "<IPython.core.display.HTML object>"
            ]
          },
          "metadata": {
            "tags": []
          }
        },
        {
          "output_type": "display_data",
          "data": {
            "text/html": [
              "<div class=\"entities\" style=\"line-height: 2.5; direction: ltr\">This is probably one of those dishes one can eat without really thinking twice. Caution, it is carb loaded but light at the same time as the restaurant uses brown \n",
              "<mark class=\"entity\" style=\"background: #ddd; padding: 0.45em 0.6em; margin: 0 0.25em; line-height: 1; border-radius: 0.35em; box-decoration-break: clone; -webkit-box-decoration-break: clone\">\n",
              "    rice\n",
              "    <span style=\"font-size: 0.8em; font-weight: bold; line-height: 1; border-radius: 0.35em; text-transform: uppercase; vertical-align: middle; margin-left: 0.5rem\">dish</span>\n",
              "</mark>\n",
              ". The taste of Browne \n",
              "<mark class=\"entity\" style=\"background: #ddd; padding: 0.45em 0.6em; margin: 0 0.25em; line-height: 1; border-radius: 0.35em; box-decoration-break: clone; -webkit-box-decoration-break: clone\">\n",
              "    rice\n",
              "    <span style=\"font-size: 0.8em; font-weight: bold; line-height: 1; border-radius: 0.35em; text-transform: uppercase; vertical-align: middle; margin-left: 0.5rem\">dish</span>\n",
              "</mark>\n",
              " mixture with macaroni and \n",
              "<mark class=\"entity\" style=\"background: #ddd; padding: 0.45em 0.6em; margin: 0 0.25em; line-height: 1; border-radius: 0.35em; box-decoration-break: clone; -webkit-box-decoration-break: clone\">\n",
              "    spaghetti\n",
              "    <span style=\"font-size: 0.8em; font-weight: bold; line-height: 1; border-radius: 0.35em; text-transform: uppercase; vertical-align: middle; margin-left: 0.5rem\">dish</span>\n",
              "</mark>\n",
              " along with the \n",
              "<mark class=\"entity\" style=\"background: #ddd; padding: 0.45em 0.6em; margin: 0 0.25em; line-height: 1; border-radius: 0.35em; box-decoration-break: clone; -webkit-box-decoration-break: clone\">\n",
              "    lentils\n",
              "    <span style=\"font-size: 0.8em; font-weight: bold; line-height: 1; border-radius: 0.35em; text-transform: uppercase; vertical-align: middle; margin-left: 0.5rem\">vegetable</span>\n",
              "</mark>\n",
              ". On top, the spread of \n",
              "<mark class=\"entity\" style=\"background: #ddd; padding: 0.45em 0.6em; margin: 0 0.25em; line-height: 1; border-radius: 0.35em; box-decoration-break: clone; -webkit-box-decoration-break: clone\">\n",
              "    tomato\n",
              "    <span style=\"font-size: 0.8em; font-weight: bold; line-height: 1; border-radius: 0.35em; text-transform: uppercase; vertical-align: middle; margin-left: 0.5rem\">fruit</span>\n",
              "</mark>\n",
              " \n",
              "<mark class=\"entity\" style=\"background: #ddd; padding: 0.45em 0.6em; margin: 0 0.25em; line-height: 1; border-radius: 0.35em; box-decoration-break: clone; -webkit-box-decoration-break: clone\">\n",
              "    sauce\n",
              "    <span style=\"font-size: 0.8em; font-weight: bold; line-height: 1; border-radius: 0.35em; text-transform: uppercase; vertical-align: middle; margin-left: 0.5rem\">condiment</span>\n",
              "</mark>\n",
              " with sprinkles of fried \n",
              "<mark class=\"entity\" style=\"background: #ddd; padding: 0.45em 0.6em; margin: 0 0.25em; line-height: 1; border-radius: 0.35em; box-decoration-break: clone; -webkit-box-decoration-break: clone\">\n",
              "    onions\n",
              "    <span style=\"font-size: 0.8em; font-weight: bold; line-height: 1; border-radius: 0.35em; text-transform: uppercase; vertical-align: middle; margin-left: 0.5rem\">vegetable</span>\n",
              "</mark>\n",
              " with the \n",
              "<mark class=\"entity\" style=\"background: #ddd; padding: 0.45em 0.6em; margin: 0 0.25em; line-height: 1; border-radius: 0.35em; box-decoration-break: clone; -webkit-box-decoration-break: clone\">\n",
              "    garlic\n",
              "    <span style=\"font-size: 0.8em; font-weight: bold; line-height: 1; border-radius: 0.35em; text-transform: uppercase; vertical-align: middle; margin-left: 0.5rem\">spice</span>\n",
              "</mark>\n",
              " \n",
              "<mark class=\"entity\" style=\"background: #ddd; padding: 0.45em 0.6em; margin: 0 0.25em; line-height: 1; border-radius: 0.35em; box-decoration-break: clone; -webkit-box-decoration-break: clone\">\n",
              "    sauce\n",
              "    <span style=\"font-size: 0.8em; font-weight: bold; line-height: 1; border-radius: 0.35em; text-transform: uppercase; vertical-align: middle; margin-left: 0.5rem\">condiment</span>\n",
              "</mark>\n",
              " really hits the spot for me. The owners said this dish has a fun historic fact behind it. Apparently it originated in the mid 19th century, during a time when Egypt was a multi-cultural country in the middle of an economic boom. It was based on foods from India such as \n",
              "<mark class=\"entity\" style=\"background: #ddd; padding: 0.45em 0.6em; margin: 0 0.25em; line-height: 1; border-radius: 0.35em; box-decoration-break: clone; -webkit-box-decoration-break: clone\">\n",
              "    khichdi\n",
              "    <span style=\"font-size: 0.8em; font-weight: bold; line-height: 1; border-radius: 0.35em; text-transform: uppercase; vertical-align: middle; margin-left: 0.5rem\">dish</span>\n",
              "</mark>\n",
              " (\n",
              "<mark class=\"entity\" style=\"background: #ddd; padding: 0.45em 0.6em; margin: 0 0.25em; line-height: 1; border-radius: 0.35em; box-decoration-break: clone; -webkit-box-decoration-break: clone\">\n",
              "    lentils\n",
              "    <span style=\"font-size: 0.8em; font-weight: bold; line-height: 1; border-radius: 0.35em; text-transform: uppercase; vertical-align: middle; margin-left: 0.5rem\">vegetable</span>\n",
              "</mark>\n",
              " and \n",
              "<mark class=\"entity\" style=\"background: #ddd; padding: 0.45em 0.6em; margin: 0 0.25em; line-height: 1; border-radius: 0.35em; box-decoration-break: clone; -webkit-box-decoration-break: clone\">\n",
              "    rice\n",
              "    <span style=\"font-size: 0.8em; font-weight: bold; line-height: 1; border-radius: 0.35em; text-transform: uppercase; vertical-align: middle; margin-left: 0.5rem\">dish</span>\n",
              "</mark>\n",
              ") and Italy (macaroni). Over time the dish has evolved through \n",
              "<mark class=\"entity\" style=\"background: #ddd; padding: 0.45em 0.6em; margin: 0 0.25em; line-height: 1; border-radius: 0.35em; box-decoration-break: clone; -webkit-box-decoration-break: clone\">\n",
              "    Egyptian\n",
              "    <span style=\"font-size: 0.8em; font-weight: bold; line-height: 1; border-radius: 0.35em; text-transform: uppercase; vertical-align: middle; margin-left: 0.5rem\">dish</span>\n",
              "</mark>\n",
              " soldiers, then \n",
              "<mark class=\"entity\" style=\"background: #ddd; padding: 0.45em 0.6em; margin: 0 0.25em; line-height: 1; border-radius: 0.35em; box-decoration-break: clone; -webkit-box-decoration-break: clone\">\n",
              "    Egyptian\n",
              "    <span style=\"font-size: 0.8em; font-weight: bold; line-height: 1; border-radius: 0.35em; text-transform: uppercase; vertical-align: middle; margin-left: 0.5rem\">dish</span>\n",
              "</mark>\n",
              " citizens.\n",
              "<mark class=\"entity\" style=\"background: #ddd; padding: 0.45em 0.6em; margin: 0 0.25em; line-height: 1; border-radius: 0.35em; box-decoration-break: clone; -webkit-box-decoration-break: clone\">\n",
              "    Kushari\n",
              "    <span style=\"font-size: 0.8em; font-weight: bold; line-height: 1; border-radius: 0.35em; text-transform: uppercase; vertical-align: middle; margin-left: 0.5rem\">dish</span>\n",
              "</mark>\n",
              " used to be sold on food carts in its early years, and was introduced to restaurants later. If you like to try vegetarian food that is not only plants based then this will be your best choice.</div>"
            ],
            "text/plain": [
              "<IPython.core.display.HTML object>"
            ]
          },
          "metadata": {
            "tags": []
          }
        }
      ]
    },
    {
      "cell_type": "code",
      "metadata": {
        "id": "VgFoa_qg27IU",
        "colab_type": "code",
        "outputId": "52bdb3fc-621e-4c38-8740-1fa288c3ff86",
        "colab": {
          "base_uri": "https://localhost:8080/",
          "height": 34
        }
      },
      "source": [
        "pwd"
      ],
      "execution_count": 0,
      "outputs": [
        {
          "output_type": "execute_result",
          "data": {
            "text/plain": [
              "'/gdrive/My Drive/abv_reviews'"
            ]
          },
          "metadata": {
            "tags": []
          },
          "execution_count": 375
        }
      ]
    },
    {
      "cell_type": "code",
      "metadata": {
        "id": "giyKfzGBDiCd",
        "colab_type": "code",
        "outputId": "2d571add-9be5-49bb-db69-ddf334b7f944",
        "colab": {
          "base_uri": "https://localhost:8080/",
          "height": 1000
        }
      },
      "source": [
        "check_list"
      ],
      "execution_count": 108,
      "outputs": [
        {
          "output_type": "execute_result",
          "data": {
            "text/plain": [
              "[('bok', 'U_vegetable'),\n",
              " ('choy', 'U_vegetable'),\n",
              " ('bean', 'U_vegetable'),\n",
              " ('sprouts', 'U_vegetable'),\n",
              " ('soffritto', 'U_dish'),\n",
              " ('patties', 'U_dish'),\n",
              " ('cakes', 'U_dish'),\n",
              " ('parmesan', 'U_dish'),\n",
              " ('cheese', 'U_dish'),\n",
              " ('breadcrumbs', 'U_dish'),\n",
              " ('soy', 'U_condiment'),\n",
              " ('sauce', 'U_condiment'),\n",
              " ('olive', 'U_condiment'),\n",
              " ('oil', 'U_condiment'),\n",
              " ('wine', 'U_beverage'),\n",
              " ('3/4-inch', 'U_QUANTITY'),\n",
              " ('2-inch', 'U_QUANTITY'),\n",
              " ('3-inch', 'U_QUANTITY'),\n",
              " ('6-inch', 'U_QUANTITY'),\n",
              " ('first', 'U_ORDINAL'),\n",
              " ('second', 'U_ORDINAL'),\n",
              " ('third', 'U_ORDINAL'),\n",
              " ('fourth', 'U_ORDINAL'),\n",
              " ('fifth', 'U_ORDINAL'),\n",
              " ('last', 'U_ORDINAL'),\n",
              " ('1', 'U_CARDINAL'),\n",
              " ('2', 'U_CARDINAL'),\n",
              " ('3', 'U_CARDINAL'),\n",
              " ('4', 'U_CARDINAL'),\n",
              " ('5', 'U_CARDINAL'),\n",
              " ('6', 'U_CARDINAL'),\n",
              " ('10', 'U_CARDINAL'),\n",
              " ('100', 'U_CARDINAL'),\n",
              " ('one', 'U_CARDINAL'),\n",
              " ('two', 'U_CARDINAL'),\n",
              " ('three', 'U_CARDINAL'),\n",
              " ('four', 'U_CARDINAL'),\n",
              " ('five', 'U_CARDINAL'),\n",
              " ('six', 'U_CARDINAL'),\n",
              " ('seven', 'U_CARDINAL'),\n",
              " ('eight', 'U_CARDINAL'),\n",
              " ('nine', 'U_CARDINAL'),\n",
              " ('ten', 'U_CARDINAL'),\n",
              " ('minute', 'U_TIME'),\n",
              " ('minutes', 'U_TIME'),\n",
              " ('seconds', 'U_TIME'),\n",
              " ('hour', 'U_TIME'),\n",
              " ('hours', 'U_TIME'),\n",
              " ('day', 'U_TIME'),\n",
              " ('$', 'U_MONEY'),\n",
              " ('USD', 'U_MONEY'),\n",
              " ('SGD', 'U_MONEY'),\n",
              " ('S$', 'U_MONEY'),\n",
              " ('Rs', 'U_MONEY'),\n",
              " ('£', 'U_MONEY'),\n",
              " ('€', 'U_MONEY'),\n",
              " ('bacon', 'U_dish'),\n",
              " ('burger', 'U_dish'),\n",
              " ('portobello mushroom', 'U_vegetable'),\n",
              " ('tomatoes', 'U_vegetable'),\n",
              " ('pickles', 'U_condiment'),\n",
              " ('french beans', 'U_vegetable'),\n",
              " ('bento', 'U_dish'),\n",
              " (\"lion's mane mushroom\", 'U_vegetable'),\n",
              " ('lion mane mushroom', 'U_1'),\n",
              " ('beehoon', 'U_dish'),\n",
              " ('dollar', 'U_MONEY'),\n",
              " (\"lion's mane mushroom rendang\", 'U_dish'),\n",
              " ('soy chunks', 'U_dish'),\n",
              " ('soya noodles', 'U_dish'),\n",
              " ('beans', 'U_vegetable'),\n",
              " ('peppers', 'U_condiment'),\n",
              " ('paneer tikka masala', 'U_dish'),\n",
              " ('sweet potato', 'U_vegetable'),\n",
              " ('falafels', 'U_dish')]"
            ]
          },
          "metadata": {
            "tags": []
          },
          "execution_count": 108
        }
      ]
    },
    {
      "cell_type": "code",
      "metadata": {
        "id": "BdUe0QHS2huF",
        "colab_type": "code",
        "colab": {}
      },
      "source": [
        "nlp.to_disk('trained_model_2020_01_06')"
      ],
      "execution_count": 0,
      "outputs": []
    },
    {
      "cell_type": "code",
      "metadata": {
        "id": "OkwkkIwToFSn",
        "colab_type": "code",
        "colab": {}
      },
      "source": [
        "import json\n",
        "\n",
        "with open('checklist.txt', 'w') as f:\n",
        "    f.write(json.dumps(check_list))"
      ],
      "execution_count": 0,
      "outputs": []
    },
    {
      "cell_type": "code",
      "metadata": {
        "id": "DdEsXdFB8VVJ",
        "colab_type": "code",
        "outputId": "347ccd64-426c-4651-861a-efc85e513cae",
        "colab": {
          "base_uri": "https://localhost:8080/",
          "height": 34
        }
      },
      "source": [
        "[token.pos_ for token in nlp(\"lion's mane mushroom falafels\")]"
      ],
      "execution_count": 114,
      "outputs": [
        {
          "output_type": "execute_result",
          "data": {
            "text/plain": [
              "['NOUN', 'PART', 'NOUN', 'NOUN', 'NOUN']"
            ]
          },
          "metadata": {
            "tags": []
          },
          "execution_count": 114
        }
      ]
    },
    {
      "cell_type": "code",
      "metadata": {
        "id": "gAn4XTSI3zLS",
        "colab_type": "code",
        "outputId": "af9282f9-b33a-4faa-9a2c-dbe755ad8e32",
        "colab": {
          "base_uri": "https://localhost:8080/",
          "height": 767
        }
      },
      "source": [
        "for doc in list(nlp.pipe(texts[check])):\n",
        "  displacy.render(doc,'ent',jupyter=True)\n",
        "#  displacy.render(doc,'dep',jupyter=True,options={'distance': 60, 'fine_grained': True})"
      ],
      "execution_count": 0,
      "outputs": [
        {
          "output_type": "display_data",
          "data": {
            "text/html": [
              "<div class=\"entities\" style=\"line-height: 2.5; direction: ltr\">I ordered the high rise pizza dough, red \n",
              "<mark class=\"entity\" style=\"background: #ddd; padding: 0.45em 0.6em; margin: 0 0.25em; line-height: 1; border-radius: 0.35em; box-decoration-break: clone; -webkit-box-decoration-break: clone\">\n",
              "    sauce\n",
              "    <span style=\"font-size: 0.8em; font-weight: bold; line-height: 1; border-radius: 0.35em; text-transform: uppercase; vertical-align: middle; margin-left: 0.5rem\">dish</span>\n",
              "</mark>\n",
              ", vegan \n",
              "<mark class=\"entity\" style=\"background: #ddd; padding: 0.45em 0.6em; margin: 0 0.25em; line-height: 1; border-radius: 0.35em; box-decoration-break: clone; -webkit-box-decoration-break: clone\">\n",
              "    cheese\n",
              "    <span style=\"font-size: 0.8em; font-weight: bold; line-height: 1; border-radius: 0.35em; text-transform: uppercase; vertical-align: middle; margin-left: 0.5rem\">dish</span>\n",
              "</mark>\n",
              ", \n",
              "<mark class=\"entity\" style=\"background: #ddd; padding: 0.45em 0.6em; margin: 0 0.25em; line-height: 1; border-radius: 0.35em; box-decoration-break: clone; -webkit-box-decoration-break: clone\">\n",
              "    oregano\n",
              "    <span style=\"font-size: 0.8em; font-weight: bold; line-height: 1; border-radius: 0.35em; text-transform: uppercase; vertical-align: middle; margin-left: 0.5rem\">dish</span>\n",
              "</mark>\n",
              ", \n",
              "<mark class=\"entity\" style=\"background: #ddd; padding: 0.45em 0.6em; margin: 0 0.25em; line-height: 1; border-radius: 0.35em; box-decoration-break: clone; -webkit-box-decoration-break: clone\">\n",
              "    basil\n",
              "    <span style=\"font-size: 0.8em; font-weight: bold; line-height: 1; border-radius: 0.35em; text-transform: uppercase; vertical-align: middle; margin-left: 0.5rem\">dish</span>\n",
              "</mark>\n",
              " leaves, and balsamiq drizzle. Very cool set up there, they even change their gloves before working on the pizza at both prep and oven stages. Very tasty.</div>"
            ],
            "text/plain": [
              "<IPython.core.display.HTML object>"
            ]
          },
          "metadata": {
            "tags": []
          }
        },
        {
          "output_type": "display_data",
          "data": {
            "text/html": [
              "<div class=\"entities\" style=\"line-height: 2.5; direction: ltr\">Spinach and pumpkin flavoured \n",
              "<mark class=\"entity\" style=\"background: #ddd; padding: 0.45em 0.6em; margin: 0 0.25em; line-height: 1; border-radius: 0.35em; box-decoration-break: clone; -webkit-box-decoration-break: clone\">\n",
              "    ravioli\n",
              "    <span style=\"font-size: 0.8em; font-weight: bold; line-height: 1; border-radius: 0.35em; text-transform: uppercase; vertical-align: middle; margin-left: 0.5rem\">dish</span>\n",
              "</mark>\n",
              " was an excellent combination.\n",
              "#crfsg</div>"
            ],
            "text/plain": [
              "<IPython.core.display.HTML object>"
            ]
          },
          "metadata": {
            "tags": []
          }
        },
        {
          "output_type": "display_data",
          "data": {
            "text/html": [
              "<div class=\"entities\" style=\"line-height: 2.5; direction: ltr\">The \n",
              "<mark class=\"entity\" style=\"background: #ddd; padding: 0.45em 0.6em; margin: 0 0.25em; line-height: 1; border-radius: 0.35em; box-decoration-break: clone; -webkit-box-decoration-break: clone\">\n",
              "    vegan\n",
              "    <span style=\"font-size: 0.8em; font-weight: bold; line-height: 1; border-radius: 0.35em; text-transform: uppercase; vertical-align: middle; margin-left: 0.5rem\">dish</span>\n",
              "</mark>\n",
              " options to customize my \n",
              "<mark class=\"entity\" style=\"background: #ddd; padding: 0.45em 0.6em; margin: 0 0.25em; line-height: 1; border-radius: 0.35em; box-decoration-break: clone; -webkit-box-decoration-break: clone\">\n",
              "    salad\n",
              "    <span style=\"font-size: 0.8em; font-weight: bold; line-height: 1; border-radius: 0.35em; text-transform: uppercase; vertical-align: middle; margin-left: 0.5rem\">dish</span>\n",
              "</mark>\n",
              " are awesome! My base today was \n",
              "<mark class=\"entity\" style=\"background: #ddd; padding: 0.45em 0.6em; margin: 0 0.25em; line-height: 1; border-radius: 0.35em; box-decoration-break: clone; -webkit-box-decoration-break: clone\">\n",
              "    bulgar\n",
              "    <span style=\"font-size: 0.8em; font-weight: bold; line-height: 1; border-radius: 0.35em; text-transform: uppercase; vertical-align: middle; margin-left: 0.5rem\">vegetable</span>\n",
              "</mark>\n",
              " \n",
              "<mark class=\"entity\" style=\"background: #ddd; padding: 0.45em 0.6em; margin: 0 0.25em; line-height: 1; border-radius: 0.35em; box-decoration-break: clone; -webkit-box-decoration-break: clone\">\n",
              "    wheat\n",
              "    <span style=\"font-size: 0.8em; font-weight: bold; line-height: 1; border-radius: 0.35em; text-transform: uppercase; vertical-align: middle; margin-left: 0.5rem\">dish</span>\n",
              "</mark>\n",
              " &amp; \n",
              "<mark class=\"entity\" style=\"background: #ddd; padding: 0.45em 0.6em; margin: 0 0.25em; line-height: 1; border-radius: 0.35em; box-decoration-break: clone; -webkit-box-decoration-break: clone\">\n",
              "    corn\n",
              "    <span style=\"font-size: 0.8em; font-weight: bold; line-height: 1; border-radius: 0.35em; text-transform: uppercase; vertical-align: middle; margin-left: 0.5rem\">dish</span>\n",
              "</mark>\n",
              ", and I got \n",
              "<mark class=\"entity\" style=\"background: #ddd; padding: 0.45em 0.6em; margin: 0 0.25em; line-height: 1; border-radius: 0.35em; box-decoration-break: clone; -webkit-box-decoration-break: clone\">\n",
              "    sesame\n",
              "    <span style=\"font-size: 0.8em; font-weight: bold; line-height: 1; border-radius: 0.35em; text-transform: uppercase; vertical-align: middle; margin-left: 0.5rem\">dish</span>\n",
              "</mark>\n",
              " roasted carrots, roasted beets &amp; carrots, their delicious \n",
              "<mark class=\"entity\" style=\"background: #ddd; padding: 0.45em 0.6em; margin: 0 0.25em; line-height: 1; border-radius: 0.35em; box-decoration-break: clone; -webkit-box-decoration-break: clone\">\n",
              "    panko\n",
              "    <span style=\"font-size: 0.8em; font-weight: bold; line-height: 1; border-radius: 0.35em; text-transform: uppercase; vertical-align: middle; margin-left: 0.5rem\">dish</span>\n",
              "</mark>\n",
              " crusted fried \n",
              "<mark class=\"entity\" style=\"background: #ddd; padding: 0.45em 0.6em; margin: 0 0.25em; line-height: 1; border-radius: 0.35em; box-decoration-break: clone; -webkit-box-decoration-break: clone\">\n",
              "    tofu\n",
              "    <span style=\"font-size: 0.8em; font-weight: bold; line-height: 1; border-radius: 0.35em; text-transform: uppercase; vertical-align: middle; margin-left: 0.5rem\">dish</span>\n",
              "</mark>\n",
              ", freshly sliced \n",
              "<mark class=\"entity\" style=\"background: #ddd; padding: 0.45em 0.6em; margin: 0 0.25em; line-height: 1; border-radius: 0.35em; box-decoration-break: clone; -webkit-box-decoration-break: clone\">\n",
              "    avocado\n",
              "    <span style=\"font-size: 0.8em; font-weight: bold; line-height: 1; border-radius: 0.35em; text-transform: uppercase; vertical-align: middle; margin-left: 0.5rem\">dish</span>\n",
              "</mark>\n",
              " and topped it off with \n",
              "<mark class=\"entity\" style=\"background: #ddd; padding: 0.45em 0.6em; margin: 0 0.25em; line-height: 1; border-radius: 0.35em; box-decoration-break: clone; -webkit-box-decoration-break: clone\">\n",
              "    sesame\n",
              "    <span style=\"font-size: 0.8em; font-weight: bold; line-height: 1; border-radius: 0.35em; text-transform: uppercase; vertical-align: middle; margin-left: 0.5rem\">vegetable</span>\n",
              "</mark>\n",
              " \n",
              "<mark class=\"entity\" style=\"background: #ddd; padding: 0.45em 0.6em; margin: 0 0.25em; line-height: 1; border-radius: 0.35em; box-decoration-break: clone; -webkit-box-decoration-break: clone\">\n",
              "    tahini\n",
              "    <span style=\"font-size: 0.8em; font-weight: bold; line-height: 1; border-radius: 0.35em; text-transform: uppercase; vertical-align: middle; margin-left: 0.5rem\">vegetable</span>\n",
              "</mark>\n",
              ". All for $10. This was an awesome meal, definitely recommend #avorush if you want something healthy!</div>"
            ],
            "text/plain": [
              "<IPython.core.display.HTML object>"
            ]
          },
          "metadata": {
            "tags": []
          }
        },
        {
          "output_type": "display_data",
          "data": {
            "text/html": [
              "<div class=\"entities\" style=\"line-height: 2.5; direction: ltr\">I love that the restaurant has a good range of \n",
              "<mark class=\"entity\" style=\"background: #ddd; padding: 0.45em 0.6em; margin: 0 0.25em; line-height: 1; border-radius: 0.35em; box-decoration-break: clone; -webkit-box-decoration-break: clone\">\n",
              "    vegan\n",
              "    <span style=\"font-size: 0.8em; font-weight: bold; line-height: 1; border-radius: 0.35em; text-transform: uppercase; vertical-align: middle; margin-left: 0.5rem\">dish</span>\n",
              "</mark>\n",
              " options. I just think that the \n",
              "<mark class=\"entity\" style=\"background: #ddd; padding: 0.45em 0.6em; margin: 0 0.25em; line-height: 1; border-radius: 0.35em; box-decoration-break: clone; -webkit-box-decoration-break: clone\">\n",
              "    patties\n",
              "    <span style=\"font-size: 0.8em; font-weight: bold; line-height: 1; border-radius: 0.35em; text-transform: uppercase; vertical-align: middle; margin-left: 0.5rem\">dish</span>\n",
              "</mark>\n",
              " can be worked on, the crust were thick and the filling was quite mushy, almost like a \n",
              "<mark class=\"entity\" style=\"background: #ddd; padding: 0.45em 0.6em; margin: 0 0.25em; line-height: 1; border-radius: 0.35em; box-decoration-break: clone; -webkit-box-decoration-break: clone\">\n",
              "    croquette\n",
              "    <span style=\"font-size: 0.8em; font-weight: bold; line-height: 1; border-radius: 0.35em; text-transform: uppercase; vertical-align: middle; margin-left: 0.5rem\">dish</span>\n",
              "</mark>\n",
              ", i wld like to look forward to something more firm to bite into, like a “\n",
              "<mark class=\"entity\" style=\"background: #ddd; padding: 0.45em 0.6em; margin: 0 0.25em; line-height: 1; border-radius: 0.35em; box-decoration-break: clone; -webkit-box-decoration-break: clone\">\n",
              "    chicken\n",
              "    <span style=\"font-size: 0.8em; font-weight: bold; line-height: 1; border-radius: 0.35em; text-transform: uppercase; vertical-align: middle; margin-left: 0.5rem\">dish</span>\n",
              "</mark>\n",
              "” \n",
              "<mark class=\"entity\" style=\"background: #ddd; padding: 0.45em 0.6em; margin: 0 0.25em; line-height: 1; border-radius: 0.35em; box-decoration-break: clone; -webkit-box-decoration-break: clone\">\n",
              "    patty\n",
              "    <span style=\"font-size: 0.8em; font-weight: bold; line-height: 1; border-radius: 0.35em; text-transform: uppercase; vertical-align: middle; margin-left: 0.5rem\">dish</span>\n",
              "</mark>\n",
              ".</div>"
            ],
            "text/plain": [
              "<IPython.core.display.HTML object>"
            ]
          },
          "metadata": {
            "tags": []
          }
        },
        {
          "output_type": "display_data",
          "data": {
            "text/html": [
              "<div class=\"entities\" style=\"line-height: 2.5; direction: ltr\">Like I said ordered \n",
              "<mark class=\"entity\" style=\"background: #e4e7d2; padding: 0.45em 0.6em; margin: 0 0.25em; line-height: 1; border-radius: 0.35em; box-decoration-break: clone; -webkit-box-decoration-break: clone\">\n",
              "    3\n",
              "    <span style=\"font-size: 0.8em; font-weight: bold; line-height: 1; border-radius: 0.35em; text-transform: uppercase; vertical-align: middle; margin-left: 0.5rem\">CARDINAL</span>\n",
              "</mark>\n",
              " different types of dimsums and each looked similar. Expected this to taste much better. In fact they don’t even serve fresh \n",
              "<mark class=\"entity\" style=\"background: #ddd; padding: 0.45em 0.6em; margin: 0 0.25em; line-height: 1; border-radius: 0.35em; box-decoration-break: clone; -webkit-box-decoration-break: clone\">\n",
              "    chilies\n",
              "    <span style=\"font-size: 0.8em; font-weight: bold; line-height: 1; border-radius: 0.35em; text-transform: uppercase; vertical-align: middle; margin-left: 0.5rem\">dish</span>\n",
              "</mark>\n",
              " with \n",
              "<mark class=\"entity\" style=\"background: #ddd; padding: 0.45em 0.6em; margin: 0 0.25em; line-height: 1; border-radius: 0.35em; box-decoration-break: clone; -webkit-box-decoration-break: clone\">\n",
              "    soya\n",
              "    <span style=\"font-size: 0.8em; font-weight: bold; line-height: 1; border-radius: 0.35em; text-transform: uppercase; vertical-align: middle; margin-left: 0.5rem\">dish</span>\n",
              "</mark>\n",
              " \n",
              "<mark class=\"entity\" style=\"background: #ddd; padding: 0.45em 0.6em; margin: 0 0.25em; line-height: 1; border-radius: 0.35em; box-decoration-break: clone; -webkit-box-decoration-break: clone\">\n",
              "    sauce\n",
              "    <span style=\"font-size: 0.8em; font-weight: bold; line-height: 1; border-radius: 0.35em; text-transform: uppercase; vertical-align: middle; margin-left: 0.5rem\">dish</span>\n",
              "</mark>\n",
              " but have \n",
              "<mark class=\"entity\" style=\"background: #ddd; padding: 0.45em 0.6em; margin: 0 0.25em; line-height: 1; border-radius: 0.35em; box-decoration-break: clone; -webkit-box-decoration-break: clone\">\n",
              "    chilli\n",
              "    <span style=\"font-size: 0.8em; font-weight: bold; line-height: 1; border-radius: 0.35em; text-transform: uppercase; vertical-align: middle; margin-left: 0.5rem\">dish</span>\n",
              "</mark>\n",
              " \n",
              "<mark class=\"entity\" style=\"background: #ddd; padding: 0.45em 0.6em; margin: 0 0.25em; line-height: 1; border-radius: 0.35em; box-decoration-break: clone; -webkit-box-decoration-break: clone\">\n",
              "    sauce\n",
              "    <span style=\"font-size: 0.8em; font-weight: bold; line-height: 1; border-radius: 0.35em; text-transform: uppercase; vertical-align: middle; margin-left: 0.5rem\">dish</span>\n",
              "</mark>\n",
              " mixed with \n",
              "<mark class=\"entity\" style=\"background: #ddd; padding: 0.45em 0.6em; margin: 0 0.25em; line-height: 1; border-radius: 0.35em; box-decoration-break: clone; -webkit-box-decoration-break: clone\">\n",
              "    soya\n",
              "    <span style=\"font-size: 0.8em; font-weight: bold; line-height: 1; border-radius: 0.35em; text-transform: uppercase; vertical-align: middle; margin-left: 0.5rem\">dish</span>\n",
              "</mark>\n",
              " \n",
              "<mark class=\"entity\" style=\"background: #ddd; padding: 0.45em 0.6em; margin: 0 0.25em; line-height: 1; border-radius: 0.35em; box-decoration-break: clone; -webkit-box-decoration-break: clone\">\n",
              "    sauce\n",
              "    <span style=\"font-size: 0.8em; font-weight: bold; line-height: 1; border-radius: 0.35em; text-transform: uppercase; vertical-align: middle; margin-left: 0.5rem\">dish</span>\n",
              "</mark>\n",
              ". Avoidable dishes</div>"
            ],
            "text/plain": [
              "<IPython.core.display.HTML object>"
            ]
          },
          "metadata": {
            "tags": []
          }
        },
        {
          "output_type": "display_data",
          "data": {
            "text/html": [
              "<div class=\"entities\" style=\"line-height: 2.5; direction: ltr\">One of my favorite food at WDSB! Various types of vegetables can be found in the \n",
              "<mark class=\"entity\" style=\"background: #ddd; padding: 0.45em 0.6em; margin: 0 0.25em; line-height: 1; border-radius: 0.35em; box-decoration-break: clone; -webkit-box-decoration-break: clone\">\n",
              "    burger\n",
              "    <span style=\"font-size: 0.8em; font-weight: bold; line-height: 1; border-radius: 0.35em; text-transform: uppercase; vertical-align: middle; margin-left: 0.5rem\">dish</span>\n",
              "</mark>\n",
              ", generous amount of the main ingredient -- monkeyhead \n",
              "<mark class=\"entity\" style=\"background: #ddd; padding: 0.45em 0.6em; margin: 0 0.25em; line-height: 1; border-radius: 0.35em; box-decoration-break: clone; -webkit-box-decoration-break: clone\">\n",
              "    mushroom\n",
              "    <span style=\"font-size: 0.8em; font-weight: bold; line-height: 1; border-radius: 0.35em; text-transform: uppercase; vertical-align: middle; margin-left: 0.5rem\">dish</span>\n",
              "</mark>\n",
              ", also comes with two sides in great portion!</div>"
            ],
            "text/plain": [
              "<IPython.core.display.HTML object>"
            ]
          },
          "metadata": {
            "tags": []
          }
        },
        {
          "output_type": "display_data",
          "data": {
            "text/html": [
              "<div class=\"entities\" style=\"line-height: 2.5; direction: ltr\">This place hand dips their \n",
              "<mark class=\"entity\" style=\"background: #ddd; padding: 0.45em 0.6em; margin: 0 0.25em; line-height: 1; border-radius: 0.35em; box-decoration-break: clone; -webkit-box-decoration-break: clone\">\n",
              "    corn\n",
              "    <span style=\"font-size: 0.8em; font-weight: bold; line-height: 1; border-radius: 0.35em; text-transform: uppercase; vertical-align: middle; margin-left: 0.5rem\">dish</span>\n",
              "</mark>\n",
              " dogs in their own batter so they are fresh and not from the freezer, and they do not disappoint! I like to go here on Wenesdays for their \n",
              "<mark class=\"entity\" style=\"background: #ddd; padding: 0.45em 0.6em; margin: 0 0.25em; line-height: 1; border-radius: 0.35em; box-decoration-break: clone; -webkit-box-decoration-break: clone\">\n",
              "    corn\n",
              "    <span style=\"font-size: 0.8em; font-weight: bold; line-height: 1; border-radius: 0.35em; text-transform: uppercase; vertical-align: middle; margin-left: 0.5rem\">dish</span>\n",
              "</mark>\n",
              " dog special, 3 for $5! And of course I always get a \n",
              "<mark class=\"entity\" style=\"background: #ddd; padding: 0.45em 0.6em; margin: 0 0.25em; line-height: 1; border-radius: 0.35em; box-decoration-break: clone; -webkit-box-decoration-break: clone\">\n",
              "    salad\n",
              "    <span style=\"font-size: 0.8em; font-weight: bold; line-height: 1; border-radius: 0.35em; text-transform: uppercase; vertical-align: middle; margin-left: 0.5rem\">dish</span>\n",
              "</mark>\n",
              " to balance things out. They have delicious \n",
              "<mark class=\"entity\" style=\"background: #ddd; padding: 0.45em 0.6em; margin: 0 0.25em; line-height: 1; border-radius: 0.35em; box-decoration-break: clone; -webkit-box-decoration-break: clone\">\n",
              "    salad\n",
              "    <span style=\"font-size: 0.8em; font-weight: bold; line-height: 1; border-radius: 0.35em; text-transform: uppercase; vertical-align: middle; margin-left: 0.5rem\">dish</span>\n",
              "</mark>\n",
              " dressings to choose from including a \n",
              "<mark class=\"entity\" style=\"background: #ddd; padding: 0.45em 0.6em; margin: 0 0.25em; line-height: 1; border-radius: 0.35em; box-decoration-break: clone; -webkit-box-decoration-break: clone\">\n",
              "    vegan\n",
              "    <span style=\"font-size: 0.8em; font-weight: bold; line-height: 1; border-radius: 0.35em; text-transform: uppercase; vertical-align: middle; margin-left: 0.5rem\">dish</span>\n",
              "</mark>\n",
              " ranch and \n",
              "<mark class=\"entity\" style=\"background: #ddd; padding: 0.45em 0.6em; margin: 0 0.25em; line-height: 1; border-radius: 0.35em; box-decoration-break: clone; -webkit-box-decoration-break: clone\">\n",
              "    vegan\n",
              "    <span style=\"font-size: 0.8em; font-weight: bold; line-height: 1; border-radius: 0.35em; text-transform: uppercase; vertical-align: middle; margin-left: 0.5rem\">vegetable</span>\n",
              "</mark>\n",
              " thousand island. Their weekend \n",
              "<mark class=\"entity\" style=\"background: #ddd; padding: 0.45em 0.6em; margin: 0 0.25em; line-height: 1; border-radius: 0.35em; box-decoration-break: clone; -webkit-box-decoration-break: clone\">\n",
              "    brunch\n",
              "    <span style=\"font-size: 0.8em; font-weight: bold; line-height: 1; border-radius: 0.35em; text-transform: uppercase; vertical-align: middle; margin-left: 0.5rem\">dish</span>\n",
              "</mark>\n",
              " is also very good and there is rarely a wait like so many other places in \n",
              "<mark class=\"entity\" style=\"background: #ddd; padding: 0.45em 0.6em; margin: 0 0.25em; line-height: 1; border-radius: 0.35em; box-decoration-break: clone; -webkit-box-decoration-break: clone\">\n",
              "    Portland\n",
              "    <span style=\"font-size: 0.8em; font-weight: bold; line-height: 1; border-radius: 0.35em; text-transform: uppercase; vertical-align: middle; margin-left: 0.5rem\">dish</span>\n",
              "</mark>\n",
              ". My favorite breakfast plate there is called The \n",
              "<mark class=\"entity\" style=\"background: #ddd; padding: 0.45em 0.6em; margin: 0 0.25em; line-height: 1; border-radius: 0.35em; box-decoration-break: clone; -webkit-box-decoration-break: clone\">\n",
              "    Portland\n",
              "    <span style=\"font-size: 0.8em; font-weight: bold; line-height: 1; border-radius: 0.35em; text-transform: uppercase; vertical-align: middle; margin-left: 0.5rem\">dish</span>\n",
              "</mark>\n",
              ", it’s a \n",
              "<mark class=\"entity\" style=\"background: #ddd; padding: 0.45em 0.6em; margin: 0 0.25em; line-height: 1; border-radius: 0.35em; box-decoration-break: clone; -webkit-box-decoration-break: clone\">\n",
              "    tofu\n",
              "    <span style=\"font-size: 0.8em; font-weight: bold; line-height: 1; border-radius: 0.35em; text-transform: uppercase; vertical-align: middle; margin-left: 0.5rem\">dish</span>\n",
              "</mark>\n",
              " scramble with veggies and \n",
              "<mark class=\"entity\" style=\"background: #ddd; padding: 0.45em 0.6em; margin: 0 0.25em; line-height: 1; border-radius: 0.35em; box-decoration-break: clone; -webkit-box-decoration-break: clone\">\n",
              "    potatoes\n",
              "    <span style=\"font-size: 0.8em; font-weight: bold; line-height: 1; border-radius: 0.35em; text-transform: uppercase; vertical-align: middle; margin-left: 0.5rem\">dish</span>\n",
              "</mark>\n",
              " and a \n",
              "<mark class=\"entity\" style=\"background: #ddd; padding: 0.45em 0.6em; margin: 0 0.25em; line-height: 1; border-radius: 0.35em; box-decoration-break: clone; -webkit-box-decoration-break: clone\">\n",
              "    biscuit\n",
              "    <span style=\"font-size: 0.8em; font-weight: bold; line-height: 1; border-radius: 0.35em; text-transform: uppercase; vertical-align: middle; margin-left: 0.5rem\">dish</span>\n",
              "</mark>\n",
              " or toast of choice. Their \n",
              "<mark class=\"entity\" style=\"background: #ddd; padding: 0.45em 0.6em; margin: 0 0.25em; line-height: 1; border-radius: 0.35em; box-decoration-break: clone; -webkit-box-decoration-break: clone\">\n",
              "    vegan\n",
              "    <span style=\"font-size: 0.8em; font-weight: bold; line-height: 1; border-radius: 0.35em; text-transform: uppercase; vertical-align: middle; margin-left: 0.5rem\">dish</span>\n",
              "</mark>\n",
              " gravy is also very yummy and unique.</div>"
            ],
            "text/plain": [
              "<IPython.core.display.HTML object>"
            ]
          },
          "metadata": {
            "tags": []
          }
        },
        {
          "output_type": "display_data",
          "data": {
            "text/html": [
              "<div class=\"entities\" style=\"line-height: 2.5; direction: ltr\">This dish was a terrible disappointment. The restaurant said they’d make a \n",
              "<mark class=\"entity\" style=\"background: #ddd; padding: 0.45em 0.6em; margin: 0 0.25em; line-height: 1; border-radius: 0.35em; box-decoration-break: clone; -webkit-box-decoration-break: clone\">\n",
              "    vegan\n",
              "    <span style=\"font-size: 0.8em; font-weight: bold; line-height: 1; border-radius: 0.35em; text-transform: uppercase; vertical-align: middle; margin-left: 0.5rem\">dish</span>\n",
              "</mark>\n",
              " version of their usual meat based rolls. All that was left is \n",
              "<mark class=\"entity\" style=\"background: #ddd; padding: 0.45em 0.6em; margin: 0 0.25em; line-height: 1; border-radius: 0.35em; box-decoration-break: clone; -webkit-box-decoration-break: clone\">\n",
              "    rice\n",
              "    <span style=\"font-size: 0.8em; font-weight: bold; line-height: 1; border-radius: 0.35em; text-transform: uppercase; vertical-align: middle; margin-left: 0.5rem\">dish</span>\n",
              "</mark>\n",
              " and some greens in the rubbery \n",
              "<mark class=\"entity\" style=\"background: #ddd; padding: 0.45em 0.6em; margin: 0 0.25em; line-height: 1; border-radius: 0.35em; box-decoration-break: clone; -webkit-box-decoration-break: clone\">\n",
              "    rice\n",
              "    <span style=\"font-size: 0.8em; font-weight: bold; line-height: 1; border-radius: 0.35em; text-transform: uppercase; vertical-align: middle; margin-left: 0.5rem\">dish</span>\n",
              "</mark>\n",
              " paper rolls with absolutely no flavour or innovation.</div>"
            ],
            "text/plain": [
              "<IPython.core.display.HTML object>"
            ]
          },
          "metadata": {
            "tags": []
          }
        },
        {
          "output_type": "display_data",
          "data": {
            "text/html": [
              "<div class=\"entities\" style=\"line-height: 2.5; direction: ltr\">As a \n",
              "<mark class=\"entity\" style=\"background: #ddd; padding: 0.45em 0.6em; margin: 0 0.25em; line-height: 1; border-radius: 0.35em; box-decoration-break: clone; -webkit-box-decoration-break: clone\">\n",
              "    vegan\n",
              "    <span style=\"font-size: 0.8em; font-weight: bold; line-height: 1; border-radius: 0.35em; text-transform: uppercase; vertical-align: middle; margin-left: 0.5rem\">dish</span>\n",
              "</mark>\n",
              " this is about as good as it gets for \n",
              "<mark class=\"entity\" style=\"background: #ddd; padding: 0.45em 0.6em; margin: 0 0.25em; line-height: 1; border-radius: 0.35em; box-decoration-break: clone; -webkit-box-decoration-break: clone\">\n",
              "    Chinese\n",
              "    <span style=\"font-size: 0.8em; font-weight: bold; line-height: 1; border-radius: 0.35em; text-transform: uppercase; vertical-align: middle; margin-left: 0.5rem\">dish</span>\n",
              "</mark>\n",
              " food. Mapo Doufu is \n",
              "<mark class=\"entity\" style=\"background: #e4e7d2; padding: 0.45em 0.6em; margin: 0 0.25em; line-height: 1; border-radius: 0.35em; box-decoration-break: clone; -webkit-box-decoration-break: clone\">\n",
              "    one\n",
              "    <span style=\"font-size: 0.8em; font-weight: bold; line-height: 1; border-radius: 0.35em; text-transform: uppercase; vertical-align: middle; margin-left: 0.5rem\">CARDINAL</span>\n",
              "</mark>\n",
              " of those extraordinary \n",
              "<mark class=\"entity\" style=\"background: #ddd; padding: 0.45em 0.6em; margin: 0 0.25em; line-height: 1; border-radius: 0.35em; box-decoration-break: clone; -webkit-box-decoration-break: clone\">\n",
              "    Sichuan\n",
              "    <span style=\"font-size: 0.8em; font-weight: bold; line-height: 1; border-radius: 0.35em; text-transform: uppercase; vertical-align: middle; margin-left: 0.5rem\">dish</span>\n",
              "</mark>\n",
              " dishes that almost everyone loves (if you like spicy food). It's typically made with \n",
              "<mark class=\"entity\" style=\"background: #ddd; padding: 0.45em 0.6em; margin: 0 0.25em; line-height: 1; border-radius: 0.35em; box-decoration-break: clone; -webkit-box-decoration-break: clone\">\n",
              "    pork\n",
              "    <span style=\"font-size: 0.8em; font-weight: bold; line-height: 1; border-radius: 0.35em; text-transform: uppercase; vertical-align: middle; margin-left: 0.5rem\">dish</span>\n",
              "</mark>\n",
              ", but Shisen Hanten is always happy to make this signature dish \n",
              "<mark class=\"entity\" style=\"background: #ddd; padding: 0.45em 0.6em; margin: 0 0.25em; line-height: 1; border-radius: 0.35em; box-decoration-break: clone; -webkit-box-decoration-break: clone\">\n",
              "    vegan\n",
              "    <span style=\"font-size: 0.8em; font-weight: bold; line-height: 1; border-radius: 0.35em; text-transform: uppercase; vertical-align: middle; margin-left: 0.5rem\">dish</span>\n",
              "</mark>\n",
              ". It's pretty much firm \n",
              "<mark class=\"entity\" style=\"background: #ddd; padding: 0.45em 0.6em; margin: 0 0.25em; line-height: 1; border-radius: 0.35em; box-decoration-break: clone; -webkit-box-decoration-break: clone\">\n",
              "    tofu\n",
              "    <span style=\"font-size: 0.8em; font-weight: bold; line-height: 1; border-radius: 0.35em; text-transform: uppercase; vertical-align: middle; margin-left: 0.5rem\">dish</span>\n",
              "</mark>\n",
              " with lots of \n",
              "<mark class=\"entity\" style=\"background: #ddd; padding: 0.45em 0.6em; margin: 0 0.25em; line-height: 1; border-radius: 0.35em; box-decoration-break: clone; -webkit-box-decoration-break: clone\">\n",
              "    Sichuan\n",
              "    <span style=\"font-size: 0.8em; font-weight: bold; line-height: 1; border-radius: 0.35em; text-transform: uppercase; vertical-align: middle; margin-left: 0.5rem\">dish</span>\n",
              "</mark>\n",
              " \n",
              "<mark class=\"entity\" style=\"background: #ddd; padding: 0.45em 0.6em; margin: 0 0.25em; line-height: 1; border-radius: 0.35em; box-decoration-break: clone; -webkit-box-decoration-break: clone\">\n",
              "    peppercorn\n",
              "    <span style=\"font-size: 0.8em; font-weight: bold; line-height: 1; border-radius: 0.35em; text-transform: uppercase; vertical-align: middle; margin-left: 0.5rem\">dish</span>\n",
              "</mark>\n",
              " which gives you that amazing numbing sensation. I've had this dish at so many restaurants around \n",
              "<mark class=\"entity\" style=\"background: #ddd; padding: 0.45em 0.6em; margin: 0 0.25em; line-height: 1; border-radius: 0.35em; box-decoration-break: clone; -webkit-box-decoration-break: clone\">\n",
              "    Singapore\n",
              "    <span style=\"font-size: 0.8em; font-weight: bold; line-height: 1; border-radius: 0.35em; text-transform: uppercase; vertical-align: middle; margin-left: 0.5rem\">dish</span>\n",
              "</mark>\n",
              " and have to say this is probably my favorite!</div>"
            ],
            "text/plain": [
              "<IPython.core.display.HTML object>"
            ]
          },
          "metadata": {
            "tags": []
          }
        },
        {
          "output_type": "display_data",
          "data": {
            "text/html": [
              "<div class=\"entities\" style=\"line-height: 2.5; direction: ltr\">A rich but not overly creamy \n",
              "<mark class=\"entity\" style=\"background: #ddd; padding: 0.45em 0.6em; margin: 0 0.25em; line-height: 1; border-radius: 0.35em; box-decoration-break: clone; -webkit-box-decoration-break: clone\">\n",
              "    soup\n",
              "    <span style=\"font-size: 0.8em; font-weight: bold; line-height: 1; border-radius: 0.35em; text-transform: uppercase; vertical-align: middle; margin-left: 0.5rem\">dish</span>\n",
              "</mark>\n",
              ". Very refreshing and contains a lot of \n",
              "<mark class=\"entity\" style=\"background: #ddd; padding: 0.45em 0.6em; margin: 0 0.25em; line-height: 1; border-radius: 0.35em; box-decoration-break: clone; -webkit-box-decoration-break: clone\">\n",
              "    herbs\n",
              "    <span style=\"font-size: 0.8em; font-weight: bold; line-height: 1; border-radius: 0.35em; text-transform: uppercase; vertical-align: middle; margin-left: 0.5rem\">dish</span>\n",
              "</mark>\n",
              ", vegetables and mushrooms.</div>"
            ],
            "text/plain": [
              "<IPython.core.display.HTML object>"
            ]
          },
          "metadata": {
            "tags": []
          }
        }
      ]
    }
  ]
}