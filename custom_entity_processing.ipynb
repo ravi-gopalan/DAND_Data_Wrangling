{
  "nbformat": 4,
  "nbformat_minor": 0,
  "metadata": {
    "colab": {
      "name": "custom_entity_processing.ipynb",
      "provenance": [],
      "include_colab_link": true
    },
    "kernelspec": {
      "name": "python3",
      "display_name": "Python 3"
    },
    "accelerator": "GPU"
  },
  "cells": [
    {
      "cell_type": "markdown",
      "metadata": {
        "id": "view-in-github",
        "colab_type": "text"
      },
      "source": [
        "<a href=\"https://colab.research.google.com/github/ravi-gopalan/DAND_Data_Wrangling/blob/master/custom_entity_processing.ipynb\" target=\"_parent\"><img src=\"https://colab.research.google.com/assets/colab-badge.svg\" alt=\"Open In Colab\"/></a>"
      ]
    },
    {
      "cell_type": "code",
      "metadata": {
        "id": "OjGpa9Q1pmdR",
        "colab_type": "code",
        "outputId": "d8776a0e-421c-415b-b24f-4ddabdb621af",
        "colab": {
          "base_uri": "https://localhost:8080/",
          "height": 141
        }
      },
      "source": [
        "from google.colab import drive\n",
        "drive.mount('/gdrive')\n",
        "%cd /gdrive"
      ],
      "execution_count": 2,
      "outputs": [
        {
          "output_type": "stream",
          "text": [
            "Go to this URL in a browser: https://accounts.google.com/o/oauth2/auth?client_id=947318989803-6bn6qk8qdgf4n4g3pfee6491hc0brc4i.apps.googleusercontent.com&redirect_uri=urn%3aietf%3awg%3aoauth%3a2.0%3aoob&response_type=code&scope=email%20https%3a%2f%2fwww.googleapis.com%2fauth%2fdocs.test%20https%3a%2f%2fwww.googleapis.com%2fauth%2fdrive%20https%3a%2f%2fwww.googleapis.com%2fauth%2fdrive.photos.readonly%20https%3a%2f%2fwww.googleapis.com%2fauth%2fpeopleapi.readonly\n",
            "\n",
            "Enter your authorization code:\n",
            "··········\n",
            "Mounted at /gdrive\n",
            "/gdrive\n"
          ],
          "name": "stdout"
        }
      ]
    },
    {
      "cell_type": "code",
      "metadata": {
        "id": "HeziVX--u8cR",
        "colab_type": "code",
        "outputId": "a7695e01-5362-4242-bc40-5f885c0a21ca",
        "colab": {
          "base_uri": "https://localhost:8080/",
          "height": 34
        }
      },
      "source": [
        "cd '/gdrive/My Drive/abv_reviews'"
      ],
      "execution_count": 3,
      "outputs": [
        {
          "output_type": "stream",
          "text": [
            "/gdrive/My Drive/abv_reviews\n"
          ],
          "name": "stdout"
        }
      ]
    },
    {
      "cell_type": "code",
      "metadata": {
        "id": "z0sP9YiuQM80",
        "colab_type": "code",
        "outputId": "b6d056ff-cdb1-4c0b-df77-7b832559ea14",
        "colab": {
          "base_uri": "https://localhost:8080/",
          "height": 504
        }
      },
      "source": [
        "!pip install spacymoji\n",
        "from spacymoji import Emoji"
      ],
      "execution_count": 4,
      "outputs": [
        {
          "output_type": "stream",
          "text": [
            "Collecting spacymoji\n",
            "  Downloading https://files.pythonhosted.org/packages/e6/42/b4460030eb06504451973609ab8a95b8c0106090aca7a4d657baf9b2611d/spacymoji-2.0.0-py3-none-any.whl\n",
            "Requirement already satisfied: spacy<3.0.0,>=2.1.3 in /usr/local/lib/python3.6/dist-packages (from spacymoji) (2.1.9)\n",
            "Collecting emoji<1.0.0,>=0.4.5\n",
            "\u001b[?25l  Downloading https://files.pythonhosted.org/packages/40/8d/521be7f0091fe0f2ae690cc044faf43e3445e0ff33c574eae752dd7e39fa/emoji-0.5.4.tar.gz (43kB)\n",
            "\u001b[K     |████████████████████████████████| 51kB 4.2MB/s \n",
            "\u001b[?25hRequirement already satisfied: preshed<2.1.0,>=2.0.1 in /usr/local/lib/python3.6/dist-packages (from spacy<3.0.0,>=2.1.3->spacymoji) (2.0.1)\n",
            "Requirement already satisfied: srsly<1.1.0,>=0.0.6 in /usr/local/lib/python3.6/dist-packages (from spacy<3.0.0,>=2.1.3->spacymoji) (0.2.0)\n",
            "Requirement already satisfied: requests<3.0.0,>=2.13.0 in /usr/local/lib/python3.6/dist-packages (from spacy<3.0.0,>=2.1.3->spacymoji) (2.21.0)\n",
            "Requirement already satisfied: blis<0.3.0,>=0.2.2 in /usr/local/lib/python3.6/dist-packages (from spacy<3.0.0,>=2.1.3->spacymoji) (0.2.4)\n",
            "Requirement already satisfied: numpy>=1.15.0 in /usr/local/lib/python3.6/dist-packages (from spacy<3.0.0,>=2.1.3->spacymoji) (1.17.4)\n",
            "Requirement already satisfied: wasabi<1.1.0,>=0.2.0 in /usr/local/lib/python3.6/dist-packages (from spacy<3.0.0,>=2.1.3->spacymoji) (0.4.2)\n",
            "Requirement already satisfied: plac<1.0.0,>=0.9.6 in /usr/local/lib/python3.6/dist-packages (from spacy<3.0.0,>=2.1.3->spacymoji) (0.9.6)\n",
            "Requirement already satisfied: murmurhash<1.1.0,>=0.28.0 in /usr/local/lib/python3.6/dist-packages (from spacy<3.0.0,>=2.1.3->spacymoji) (1.0.2)\n",
            "Requirement already satisfied: cymem<2.1.0,>=2.0.2 in /usr/local/lib/python3.6/dist-packages (from spacy<3.0.0,>=2.1.3->spacymoji) (2.0.3)\n",
            "Requirement already satisfied: thinc<7.1.0,>=7.0.8 in /usr/local/lib/python3.6/dist-packages (from spacy<3.0.0,>=2.1.3->spacymoji) (7.0.8)\n",
            "Requirement already satisfied: idna<2.9,>=2.5 in /usr/local/lib/python3.6/dist-packages (from requests<3.0.0,>=2.13.0->spacy<3.0.0,>=2.1.3->spacymoji) (2.8)\n",
            "Requirement already satisfied: certifi>=2017.4.17 in /usr/local/lib/python3.6/dist-packages (from requests<3.0.0,>=2.13.0->spacy<3.0.0,>=2.1.3->spacymoji) (2019.11.28)\n",
            "Requirement already satisfied: chardet<3.1.0,>=3.0.2 in /usr/local/lib/python3.6/dist-packages (from requests<3.0.0,>=2.13.0->spacy<3.0.0,>=2.1.3->spacymoji) (3.0.4)\n",
            "Requirement already satisfied: urllib3<1.25,>=1.21.1 in /usr/local/lib/python3.6/dist-packages (from requests<3.0.0,>=2.13.0->spacy<3.0.0,>=2.1.3->spacymoji) (1.24.3)\n",
            "Requirement already satisfied: tqdm<5.0.0,>=4.10.0 in /usr/local/lib/python3.6/dist-packages (from thinc<7.1.0,>=7.0.8->spacy<3.0.0,>=2.1.3->spacymoji) (4.28.1)\n",
            "Building wheels for collected packages: emoji\n",
            "  Building wheel for emoji (setup.py) ... \u001b[?25l\u001b[?25hdone\n",
            "  Created wheel for emoji: filename=emoji-0.5.4-cp36-none-any.whl size=42175 sha256=73552e66585d1e89e79d016357368b03dcdf542dd0781ca1fa8b4315a750714a\n",
            "  Stored in directory: /root/.cache/pip/wheels/2a/a9/0a/4f8e8cce8074232aba240caca3fade315bb49fac68808d1a9c\n",
            "Successfully built emoji\n",
            "Installing collected packages: emoji, spacymoji\n",
            "Successfully installed emoji-0.5.4 spacymoji-2.0.0\n"
          ],
          "name": "stdout"
        }
      ]
    },
    {
      "cell_type": "code",
      "metadata": {
        "id": "hCbKbxQ2vLCV",
        "colab_type": "code",
        "colab": {
          "base_uri": "https://localhost:8080/",
          "height": 51
        },
        "outputId": "842d2860-1aac-4170-b2a0-715109f5a80e"
      },
      "source": [
        "import pandas as pd\n",
        "import numpy as np\n",
        "import warnings\n",
        "warnings.filterwarnings(\"ignore\")\n",
        "import re\n",
        "import random\n",
        "import srsly\n",
        "import json\n",
        "import spacy\n",
        "from spacy.lang.en import English\n",
        "from spacy.pipeline import EntityRuler\n",
        "from spacy import displacy\n",
        "from spacy.util import minibatch, compounding\n",
        "from pandas.io.json import json_normalize\n",
        "from spacy.gold import docs_to_json, biluo_tags_from_offsets, offsets_from_biluo_tags\n",
        "import spacy.cli\n",
        "spacy.cli.download(\"en_core_web_lg\")\n",
        "import en_core_web_lg\n",
        "\n",
        "import itertools"
      ],
      "execution_count": 5,
      "outputs": [
        {
          "output_type": "stream",
          "text": [
            "\u001b[38;5;2m✔ Download and installation successful\u001b[0m\n",
            "You can now load the model via spacy.load('en_core_web_lg')\n"
          ],
          "name": "stdout"
        }
      ]
    },
    {
      "cell_type": "code",
      "metadata": {
        "id": "SS5aJl7_jFgG",
        "colab_type": "code",
        "colab": {}
      },
      "source": [
        "def cleanse_text(text):\n",
        "  step1 = re.sub(r\"(\\{'LOWER':\\s)\",r\"\",str(text))\n",
        "  step2 = re.sub(r\"[\\[{\\'\\,\\\"}\\]]\",r\"\",step1)\n",
        "  return step2\n",
        "\n",
        "def trim_entity_spans(data: list) -> list:\n",
        "    \"\"\"Removes leading and trailing white spaces from entity spans.\n",
        "\n",
        "    Args:\n",
        "        data (list): The data to be cleaned in spaCy JSON format.\n",
        "\n",
        "    Returns:\n",
        "        list: The cleaned data.\n",
        "    \"\"\"\n",
        "    invalid_span_tokens = re.compile(r'\\s')\n",
        "\n",
        "    cleaned_data = []\n",
        "    for text, annotations in data:\n",
        "        entities = annotations['entities']\n",
        "\n",
        "        print(text, annotations)\n",
        "        valid_entities = []\n",
        "        for start, end, label in entities:\n",
        "          valid_start = start\n",
        "          valid_end = end\n",
        "          print(valid_start, valid_end, len(text))\n",
        "          while valid_start < len(text) and invalid_span_tokens.match(text[valid_start]):\n",
        "            valid_start += 1\n",
        "          while valid_end > 1 and invalid_span_tokens.match(text[valid_end - 1]):\n",
        "            valid_end -= 1\n",
        "          valid_entities.append([valid_start, valid_end, label])\n",
        "        cleaned_data.append([text, {'entities': valid_entities}])\n",
        "\n",
        "    return cleaned_data\n",
        "\n",
        "def dump_jsonl(data, output_path, append=False):\n",
        "    \"\"\"\n",
        "    Write list of objects to a JSON lines file.\n",
        "    \"\"\"\n",
        "    mode = 'a+' if append else 'w'\n",
        "    with open(output_path, mode, encoding='utf-8') as f:\n",
        "        for line in data:\n",
        "            json_record = json.dumps(line, ensure_ascii=False)\n",
        "            f.write(json_record + '\\n')\n",
        "    print('Wrote {} records to {}'.format(len(data), output_path))\n",
        "\n",
        "def load_jsonl(input_path) -> list:\n",
        "    \"\"\"\n",
        "    Read list of objects from a JSON lines file.\n",
        "    \"\"\"\n",
        "    data = []\n",
        "    with open(input_path, 'r', encoding='utf-8') as f:\n",
        "        for line in f:\n",
        "            data.append(json.loads(line.rstrip('\\n|\\r')))\n",
        "    print('Loaded {} records from {}'.format(len(data), input_path))\n",
        "    return data\n",
        "\n",
        "\n",
        "def create_entity_pattern(ent_name, ent_label):\n",
        "  pattern_list = []\n",
        "  pattern_dict = {}\n",
        "  id_str = ''\n",
        "  for word in ent_name.lower().split():\n",
        "    token_dict = {}\n",
        "    token_dict['LOWER'] = word\n",
        "    pattern_list.append(token_dict)\n",
        "    id_str += '_' + word\n",
        "  if ent_label[:2] == 'U_':\n",
        "    pattern_dict['label'] = ent_label[2:]\n",
        "  else:\n",
        "    pattern_dict['label'] = ent_label  \n",
        "  pattern_dict['pattern'] = pattern_list\n",
        "  if id_str[0] == '_':\n",
        "    id_str = id_str[1:]\n",
        "  pattern_dict['id'] = id_str\n",
        "  return pattern_dict"
      ],
      "execution_count": 0,
      "outputs": []
    },
    {
      "cell_type": "code",
      "metadata": {
        "id": "nDdNW8ZzHnFH",
        "colab_type": "code",
        "colab": {
          "base_uri": "https://localhost:8080/",
          "height": 765
        },
        "outputId": "b591c8a7-cdf7-4167-bdab-065e15186b4a"
      },
      "source": [
        "ls -l p*"
      ],
      "execution_count": 8,
      "outputs": [
        {
          "output_type": "stream",
          "text": [
            "-rw------- 1 root root  18045 Dec 26 16:46 pastries_list.jsonl\n",
            "-rw------- 1 root root   1544 Dec 26 18:06 pastry_keyword_patterns.npz\n",
            "-rw------- 1 root root   2365 Dec 26 18:11 pattern_bread.jsonl\n",
            "-rw------- 1 root root   4609 Dec 26 18:11 pattern_condiment.jsonl\n",
            "-rw------- 1 root root   5397 Dec 26 18:11 pattern_fruit.jsonl\n",
            "-rw------- 1 root root   3946 Dec 26 18:11 pattern_herb.jsonl\n",
            "-rw------- 1 root root   1700 Dec 26 18:11 pattern_pastry.jsonl\n",
            "-rw------- 1 root root 529064 Dec 26 14:49 patterns_2019_12_26.jsonl\n",
            "-rw------- 1 root root 589611 Jan  8 14:35 patterns_2020_01_08.jsonl\n",
            "-rw------- 1 root root 590005 Jan  8 14:36 patterns.jsonl\n",
            "-rw------- 1 root root   6749 Dec 26 18:11 pattern_spice.jsonl\n",
            "-rw------- 1 root root   9140 Dec 26 18:11 pattern_vegetable.jsonl\n",
            "-rw------- 1 root root 130017 Dec 14 15:06 pyLDAvis_10.html\n",
            "-rw------- 1 root root 144690 Dec 14 15:10 pyLDAvis_11.html\n",
            "-rw------- 1 root root 291844 Dec 14 16:48 pyLDAvis_12.html\n",
            "-rw------- 1 root root 168973 Dec 14 15:18 pyLDAvis_13.html\n",
            "-rw------- 1 root root 183832 Dec 14 15:22 pyLDAvis_14.html\n",
            "-rw------- 1 root root 195035 Dec 14 15:26 pyLDAvis_15.html\n",
            "-rw------- 1 root root 207406 Dec 14 15:30 pyLDAvis_16.html\n",
            "-rw------- 1 root root 223593 Dec 14 15:35 pyLDAvis_17.html\n",
            "-rw------- 1 root root 234487 Dec 14 15:39 pyLDAvis_18.html\n",
            "-rw------- 1 root root 248745 Dec 14 15:43 pyLDAvis_19.html\n",
            "-rw------- 1 root root 258354 Dec 14 15:47 pyLDAvis_20.html\n",
            "-rw------- 1 root root 273803 Dec 14 15:51 pyLDAvis_21.html\n",
            "-rw------- 1 root root 303858 Dec 14 15:54 pyLDAvis_22.html\n",
            "-rw------- 1 root root 306990 Dec 14 15:58 pyLDAvis_23.html\n",
            "-rw------- 1 root root 323727 Dec 14 16:02 pyLDAvis_24.html\n",
            "-rw------- 1 root root 232181 Dec 15 02:36 pyLDAvis_25.html\n",
            "-rw------- 1 root root 340943 Dec 14 16:10 pyLDAvis_26.html\n",
            "-rw------- 1 root root 355360 Dec 14 16:14 pyLDAvis_27.html\n",
            "-rw------- 1 root root 385093 Dec 14 16:18 pyLDAvis_28.html\n",
            "-rw------- 1 root root 383813 Dec 14 16:22 pyLDAvis_29.html\n",
            "-rw------- 1 root root  24378 Dec 21 02:17 pyLDAvis_3.html\n",
            "-rw------- 1 root root  49368 Dec 14 14:42 pyLDAvis_4.html\n",
            "-rw------- 1 root root 232496 Dec 15 03:07 pyLDAvis_5.html\n",
            "-rw------- 1 root root  78978 Dec 14 14:50 pyLDAvis_6.html\n",
            "-rw------- 1 root root  90300 Dec 14 14:54 pyLDAvis_7.html\n",
            "-rw------- 1 root root 103689 Dec 14 14:58 pyLDAvis_8.html\n",
            "-rw------- 1 root root 117331 Dec 14 15:02 pyLDAvis_9.html\n",
            "\n",
            "pending_images:\n",
            "total 4\n",
            "drwx------ 2 root root 4096 Dec  9 02:06 \u001b[0m\u001b[01;34mpending\u001b[0m/\n"
          ],
          "name": "stdout"
        }
      ]
    },
    {
      "cell_type": "code",
      "metadata": {
        "id": "kPz03VlrgZQm",
        "colab_type": "code",
        "outputId": "ebb8eecc-c7fd-4248-a266-5fbbf7e7aadb",
        "colab": {
          "base_uri": "https://localhost:8080/",
          "height": 197
        }
      },
      "source": [
        "df_pattern = pd.read_json('patterns.jsonl',lines=True)\n",
        "df_pattern['cleaned_pattern'] = df_pattern.pattern.apply(lambda x: cleanse_text(x))\n",
        "df_pattern['label'] = 'U_' + df_pattern.label.astype(str)\n",
        "df_pattern['tup_col'] = list(zip(df_pattern.cleaned_pattern, df_pattern.label))\n",
        "df_pattern['merged'] = df_pattern.apply(lambda row: {row['cleaned_pattern']:row['label']}, axis=1)\n",
        "df_pattern.head()\n",
        "df_pattern.tail()"
      ],
      "execution_count": 9,
      "outputs": [
        {
          "output_type": "execute_result",
          "data": {
            "text/html": [
              "<div>\n",
              "<style scoped>\n",
              "    .dataframe tbody tr th:only-of-type {\n",
              "        vertical-align: middle;\n",
              "    }\n",
              "\n",
              "    .dataframe tbody tr th {\n",
              "        vertical-align: top;\n",
              "    }\n",
              "\n",
              "    .dataframe thead th {\n",
              "        text-align: right;\n",
              "    }\n",
              "</style>\n",
              "<table border=\"1\" class=\"dataframe\">\n",
              "  <thead>\n",
              "    <tr style=\"text-align: right;\">\n",
              "      <th></th>\n",
              "      <th>label</th>\n",
              "      <th>pattern</th>\n",
              "      <th>id</th>\n",
              "      <th>cleaned_pattern</th>\n",
              "      <th>tup_col</th>\n",
              "      <th>merged</th>\n",
              "    </tr>\n",
              "  </thead>\n",
              "  <tbody>\n",
              "    <tr>\n",
              "      <th>6724</th>\n",
              "      <td>U_ORG</td>\n",
              "      <td>[{'LOWER': 'hard'}, {'LOWER': 'rock'}, {'LOWER...</td>\n",
              "      <td>hard_rock_cafe</td>\n",
              "      <td>hard rock cafe</td>\n",
              "      <td>(hard rock cafe, U_ORG)</td>\n",
              "      <td>{'hard rock cafe': 'U_ORG'}</td>\n",
              "    </tr>\n",
              "    <tr>\n",
              "      <th>6725</th>\n",
              "      <td>U_meal</td>\n",
              "      <td>[{'LOWER': 'entree'}]</td>\n",
              "      <td>entree</td>\n",
              "      <td>entree</td>\n",
              "      <td>(entree, U_meal)</td>\n",
              "      <td>{'entree': 'U_meal'}</td>\n",
              "    </tr>\n",
              "    <tr>\n",
              "      <th>6726</th>\n",
              "      <td>U_meal</td>\n",
              "      <td>[{'LOWER': 'side'}, {'LOWER': 'dish'}]</td>\n",
              "      <td>side_dish</td>\n",
              "      <td>side dish</td>\n",
              "      <td>(side dish, U_meal)</td>\n",
              "      <td>{'side dish': 'U_meal'}</td>\n",
              "    </tr>\n",
              "    <tr>\n",
              "      <th>6727</th>\n",
              "      <td>U_vegetable</td>\n",
              "      <td>[{'LOWER': 'yellow'}, {'LOWER': 'zucchini'}]</td>\n",
              "      <td>yellow_zucchini</td>\n",
              "      <td>yellow zucchini</td>\n",
              "      <td>(yellow zucchini, U_vegetable)</td>\n",
              "      <td>{'yellow zucchini': 'U_vegetable'}</td>\n",
              "    </tr>\n",
              "    <tr>\n",
              "      <th>6728</th>\n",
              "      <td>U_vegetable</td>\n",
              "      <td>[{'LOWER': 'green'}, {'LOWER': 'zucchini'}]</td>\n",
              "      <td>green_zucchini</td>\n",
              "      <td>green zucchini</td>\n",
              "      <td>(green zucchini, U_vegetable)</td>\n",
              "      <td>{'green zucchini': 'U_vegetable'}</td>\n",
              "    </tr>\n",
              "  </tbody>\n",
              "</table>\n",
              "</div>"
            ],
            "text/plain": [
              "            label  ...                              merged\n",
              "6724        U_ORG  ...         {'hard rock cafe': 'U_ORG'}\n",
              "6725       U_meal  ...                {'entree': 'U_meal'}\n",
              "6726       U_meal  ...             {'side dish': 'U_meal'}\n",
              "6727  U_vegetable  ...  {'yellow zucchini': 'U_vegetable'}\n",
              "6728  U_vegetable  ...   {'green zucchini': 'U_vegetable'}\n",
              "\n",
              "[5 rows x 6 columns]"
            ]
          },
          "metadata": {
            "tags": []
          },
          "execution_count": 9
        }
      ]
    },
    {
      "cell_type": "code",
      "metadata": {
        "id": "YDmBhmceraTI",
        "colab_type": "code",
        "outputId": "a6a47542-8a41-4472-9e5d-12dec468296c",
        "colab": {
          "base_uri": "https://localhost:8080/",
          "height": 191
        }
      },
      "source": [
        "ent_list = df_pattern.tup_col.to_list()\n",
        "ent_list[-10:]"
      ],
      "execution_count": 10,
      "outputs": [
        {
          "output_type": "execute_result",
          "data": {
            "text/plain": [
              "[('duddell s', 'U_ORG'),\n",
              " ('hong kong', 'U_GPE'),\n",
              " ('dumpling', 'U_dish'),\n",
              " ('red chilies', 'U_spice'),\n",
              " ('pollo frito', 'U_dish'),\n",
              " ('hard rock cafe', 'U_ORG'),\n",
              " ('entree', 'U_meal'),\n",
              " ('side dish', 'U_meal'),\n",
              " ('yellow zucchini', 'U_vegetable'),\n",
              " ('green zucchini', 'U_vegetable')]"
            ]
          },
          "metadata": {
            "tags": []
          },
          "execution_count": 10
        }
      ]
    },
    {
      "cell_type": "code",
      "metadata": {
        "id": "wSdQvxf4igK6",
        "colab_type": "code",
        "colab": {}
      },
      "source": [
        "nlp = spacy.load(\"en_core_web_lg\")\n",
        "ruler = EntityRuler(nlp).from_disk(\"patterns.jsonl\")\n",
        "emoji = Emoji(nlp)\n",
        "nlp.add_pipe(emoji, first=True)\n",
        "nlp.add_pipe(ruler, before='ner')\n",
        "merge_ents = nlp.create_pipe(\"merge_entities\")\n",
        "nlp.add_pipe(merge_ents, after='ner')"
      ],
      "execution_count": 0,
      "outputs": []
    },
    {
      "cell_type": "code",
      "metadata": {
        "id": "zYGh4-jaH6Ly",
        "colab_type": "code",
        "outputId": "40d62e96-f2ec-45d4-8bdd-a00ba25a80b2",
        "colab": {
          "base_uri": "https://localhost:8080/",
          "height": 34
        }
      },
      "source": [
        "nlp.pipe_names"
      ],
      "execution_count": 12,
      "outputs": [
        {
          "output_type": "execute_result",
          "data": {
            "text/plain": [
              "['emoji', 'tagger', 'parser', 'entity_ruler', 'ner', 'merge_entities']"
            ]
          },
          "metadata": {
            "tags": []
          },
          "execution_count": 12
        }
      ]
    },
    {
      "cell_type": "code",
      "metadata": {
        "id": "NFAqRlj8wbv-",
        "colab_type": "code",
        "colab": {}
      },
      "source": [
        "ruler = EntityRuler(nlp).from_disk(\"patterns.jsonl\")"
      ],
      "execution_count": 0,
      "outputs": []
    },
    {
      "cell_type": "code",
      "metadata": {
        "id": "T73K8dZLwd_N",
        "colab_type": "code",
        "colab": {
          "base_uri": "https://localhost:8080/",
          "height": 138
        },
        "outputId": "b23d4cb5-12a2-4b8d-b5a4-9e20bb0c62a9"
      },
      "source": [
        "ruler.patterns[-3:]"
      ],
      "execution_count": 263,
      "outputs": [
        {
          "output_type": "execute_result",
          "data": {
            "text/plain": [
              "[{'id': 'seaweed_chips',\n",
              "  'label': 'dish',\n",
              "  'pattern': [{'LOWER': 'seaweed'}, {'LOWER': 'chips'}]},\n",
              " {'id': 'gula_melaka',\n",
              "  'label': 'condiment',\n",
              "  'pattern': [{'LOWER': 'gula'}, {'LOWER': 'melaka'}]},\n",
              " {'id': 'waffles', 'label': 'dish', 'pattern': [{'LOWER': 'waffles'}]}]"
            ]
          },
          "metadata": {
            "tags": []
          },
          "execution_count": 263
        }
      ]
    },
    {
      "cell_type": "code",
      "metadata": {
        "id": "AzKrOlarv8ZW",
        "colab_type": "code",
        "outputId": "50366519-b9c5-45ae-d429-53d7ae8d8624",
        "colab": {
          "base_uri": "https://localhost:8080/",
          "height": 69
        }
      },
      "source": [
        "doc1 = nlp(\"I love fettuccine cheese 💚🌿 but hate buffalo wings while preferring a Lebanese diet.\")\n",
        "print([(ent.text, ent.label_, ent.ent_id_) for ent in doc1.ents])\n",
        "\n",
        "displacy.render(doc1,'ent',jupyter=True)\n",
        "\n"
      ],
      "execution_count": 13,
      "outputs": [
        {
          "output_type": "stream",
          "text": [
            "[('fettuccine', 'dish', 'fettuccine'), ('buffalo wings', 'dish', 'buffalo_wings'), ('Lebanese', 'NORP', 'lebanese')]\n"
          ],
          "name": "stdout"
        },
        {
          "output_type": "display_data",
          "data": {
            "text/html": [
              "<div class=\"entities\" style=\"line-height: 2.5; direction: ltr\">I love \n",
              "<mark class=\"entity\" style=\"background: #ddd; padding: 0.45em 0.6em; margin: 0 0.25em; line-height: 1; border-radius: 0.35em; box-decoration-break: clone; -webkit-box-decoration-break: clone\">\n",
              "    fettuccine\n",
              "    <span style=\"font-size: 0.8em; font-weight: bold; line-height: 1; border-radius: 0.35em; text-transform: uppercase; vertical-align: middle; margin-left: 0.5rem\">dish</span>\n",
              "</mark>\n",
              " cheese 💚🌿 but hate \n",
              "<mark class=\"entity\" style=\"background: #ddd; padding: 0.45em 0.6em; margin: 0 0.25em; line-height: 1; border-radius: 0.35em; box-decoration-break: clone; -webkit-box-decoration-break: clone\">\n",
              "    buffalo wings\n",
              "    <span style=\"font-size: 0.8em; font-weight: bold; line-height: 1; border-radius: 0.35em; text-transform: uppercase; vertical-align: middle; margin-left: 0.5rem\">dish</span>\n",
              "</mark>\n",
              " while preferring a \n",
              "<mark class=\"entity\" style=\"background: #c887fb; padding: 0.45em 0.6em; margin: 0 0.25em; line-height: 1; border-radius: 0.35em; box-decoration-break: clone; -webkit-box-decoration-break: clone\">\n",
              "    Lebanese\n",
              "    <span style=\"font-size: 0.8em; font-weight: bold; line-height: 1; border-radius: 0.35em; text-transform: uppercase; vertical-align: middle; margin-left: 0.5rem\">NORP</span>\n",
              "</mark>\n",
              " diet.</div>"
            ],
            "text/plain": [
              "<IPython.core.display.HTML object>"
            ]
          },
          "metadata": {
            "tags": []
          }
        }
      ]
    },
    {
      "cell_type": "code",
      "metadata": {
        "id": "VZ2JkO1uwBLt",
        "colab_type": "code",
        "outputId": "507a6de3-9c55-4240-9ebe-fd21454d97a2",
        "colab": {
          "base_uri": "https://localhost:8080/",
          "height": 51
        }
      },
      "source": [
        "doc2 = nlp(\"Avocado 🌿 is good but Indian cuising such as chicken tikka masala and paneer tikka masala are fantastic while sweet potato fries is atrocious in Egypt and India\")\n",
        "displacy.render(doc2,'ent',jupyter=True)"
      ],
      "execution_count": 14,
      "outputs": [
        {
          "output_type": "display_data",
          "data": {
            "text/html": [
              "<div class=\"entities\" style=\"line-height: 2.5; direction: ltr\">\n",
              "<mark class=\"entity\" style=\"background: #ddd; padding: 0.45em 0.6em; margin: 0 0.25em; line-height: 1; border-radius: 0.35em; box-decoration-break: clone; -webkit-box-decoration-break: clone\">\n",
              "    Avocado\n",
              "    <span style=\"font-size: 0.8em; font-weight: bold; line-height: 1; border-radius: 0.35em; text-transform: uppercase; vertical-align: middle; margin-left: 0.5rem\">fruit</span>\n",
              "</mark>\n",
              " 🌿 is good but \n",
              "<mark class=\"entity\" style=\"background: #c887fb; padding: 0.45em 0.6em; margin: 0 0.25em; line-height: 1; border-radius: 0.35em; box-decoration-break: clone; -webkit-box-decoration-break: clone\">\n",
              "    Indian\n",
              "    <span style=\"font-size: 0.8em; font-weight: bold; line-height: 1; border-radius: 0.35em; text-transform: uppercase; vertical-align: middle; margin-left: 0.5rem\">NORP</span>\n",
              "</mark>\n",
              " cuising such as \n",
              "<mark class=\"entity\" style=\"background: #ddd; padding: 0.45em 0.6em; margin: 0 0.25em; line-height: 1; border-radius: 0.35em; box-decoration-break: clone; -webkit-box-decoration-break: clone\">\n",
              "    chicken tikka masala\n",
              "    <span style=\"font-size: 0.8em; font-weight: bold; line-height: 1; border-radius: 0.35em; text-transform: uppercase; vertical-align: middle; margin-left: 0.5rem\">dish</span>\n",
              "</mark>\n",
              " and \n",
              "<mark class=\"entity\" style=\"background: #ddd; padding: 0.45em 0.6em; margin: 0 0.25em; line-height: 1; border-radius: 0.35em; box-decoration-break: clone; -webkit-box-decoration-break: clone\">\n",
              "    paneer tikka masala\n",
              "    <span style=\"font-size: 0.8em; font-weight: bold; line-height: 1; border-radius: 0.35em; text-transform: uppercase; vertical-align: middle; margin-left: 0.5rem\">dish</span>\n",
              "</mark>\n",
              " are fantastic while \n",
              "<mark class=\"entity\" style=\"background: #ddd; padding: 0.45em 0.6em; margin: 0 0.25em; line-height: 1; border-radius: 0.35em; box-decoration-break: clone; -webkit-box-decoration-break: clone\">\n",
              "    sweet potato fries\n",
              "    <span style=\"font-size: 0.8em; font-weight: bold; line-height: 1; border-radius: 0.35em; text-transform: uppercase; vertical-align: middle; margin-left: 0.5rem\">dish</span>\n",
              "</mark>\n",
              " is atrocious in \n",
              "<mark class=\"entity\" style=\"background: #feca74; padding: 0.45em 0.6em; margin: 0 0.25em; line-height: 1; border-radius: 0.35em; box-decoration-break: clone; -webkit-box-decoration-break: clone\">\n",
              "    Egypt\n",
              "    <span style=\"font-size: 0.8em; font-weight: bold; line-height: 1; border-radius: 0.35em; text-transform: uppercase; vertical-align: middle; margin-left: 0.5rem\">GPE</span>\n",
              "</mark>\n",
              " and \n",
              "<mark class=\"entity\" style=\"background: #feca74; padding: 0.45em 0.6em; margin: 0 0.25em; line-height: 1; border-radius: 0.35em; box-decoration-break: clone; -webkit-box-decoration-break: clone\">\n",
              "    India\n",
              "    <span style=\"font-size: 0.8em; font-weight: bold; line-height: 1; border-radius: 0.35em; text-transform: uppercase; vertical-align: middle; margin-left: 0.5rem\">GPE</span>\n",
              "</mark>\n",
              "</div>"
            ],
            "text/plain": [
              "<IPython.core.display.HTML object>"
            ]
          },
          "metadata": {
            "tags": []
          }
        }
      ]
    },
    {
      "cell_type": "code",
      "metadata": {
        "id": "U_hv8JuEIBTR",
        "colab_type": "code",
        "outputId": "1ba8ca5e-3770-416e-b902-0cef73e50bb5",
        "colab": {
          "base_uri": "https://localhost:8080/",
          "height": 51
        }
      },
      "source": [
        "doc3 = nlp(\"Firstly, baguette is the best bread in the whole world - bagels come close and for ten dollars ciabatta is available\")\n",
        "displacy.render(doc3,'ent',jupyter=True)"
      ],
      "execution_count": 15,
      "outputs": [
        {
          "output_type": "display_data",
          "data": {
            "text/html": [
              "<div class=\"entities\" style=\"line-height: 2.5; direction: ltr\">\n",
              "<mark class=\"entity\" style=\"background: #e4e7d2; padding: 0.45em 0.6em; margin: 0 0.25em; line-height: 1; border-radius: 0.35em; box-decoration-break: clone; -webkit-box-decoration-break: clone\">\n",
              "    Firstly\n",
              "    <span style=\"font-size: 0.8em; font-weight: bold; line-height: 1; border-radius: 0.35em; text-transform: uppercase; vertical-align: middle; margin-left: 0.5rem\">ORDINAL</span>\n",
              "</mark>\n",
              ", \n",
              "<mark class=\"entity\" style=\"background: #ddd; padding: 0.45em 0.6em; margin: 0 0.25em; line-height: 1; border-radius: 0.35em; box-decoration-break: clone; -webkit-box-decoration-break: clone\">\n",
              "    baguette\n",
              "    <span style=\"font-size: 0.8em; font-weight: bold; line-height: 1; border-radius: 0.35em; text-transform: uppercase; vertical-align: middle; margin-left: 0.5rem\">bread</span>\n",
              "</mark>\n",
              " is the best bread in the whole world - bagels come close and for \n",
              "<mark class=\"entity\" style=\"background: #e4e7d2; padding: 0.45em 0.6em; margin: 0 0.25em; line-height: 1; border-radius: 0.35em; box-decoration-break: clone; -webkit-box-decoration-break: clone\">\n",
              "    ten dollars\n",
              "    <span style=\"font-size: 0.8em; font-weight: bold; line-height: 1; border-radius: 0.35em; text-transform: uppercase; vertical-align: middle; margin-left: 0.5rem\">MONEY</span>\n",
              "</mark>\n",
              " \n",
              "<mark class=\"entity\" style=\"background: #ddd; padding: 0.45em 0.6em; margin: 0 0.25em; line-height: 1; border-radius: 0.35em; box-decoration-break: clone; -webkit-box-decoration-break: clone\">\n",
              "    ciabatta\n",
              "    <span style=\"font-size: 0.8em; font-weight: bold; line-height: 1; border-radius: 0.35em; text-transform: uppercase; vertical-align: middle; margin-left: 0.5rem\">bread</span>\n",
              "</mark>\n",
              " is available</div>"
            ],
            "text/plain": [
              "<IPython.core.display.HTML object>"
            ]
          },
          "metadata": {
            "tags": []
          }
        }
      ]
    },
    {
      "cell_type": "code",
      "metadata": {
        "id": "7fW-mt4d7lFZ",
        "colab_type": "code",
        "colab": {
          "base_uri": "https://localhost:8080/",
          "height": 51
        },
        "outputId": "cc6b0e79-80cd-434c-d573-4d0448a39844"
      },
      "source": [
        "doc4 = nlp(\"Peanut butter ice cream is good but chocolate ice cream is better.\")\n",
        "displacy.render(doc4,'ent',jupyter=True)"
      ],
      "execution_count": 16,
      "outputs": [
        {
          "output_type": "display_data",
          "data": {
            "text/html": [
              "<div class=\"entities\" style=\"line-height: 2.5; direction: ltr\">\n",
              "<mark class=\"entity\" style=\"background: #ddd; padding: 0.45em 0.6em; margin: 0 0.25em; line-height: 1; border-radius: 0.35em; box-decoration-break: clone; -webkit-box-decoration-break: clone\">\n",
              "    Peanut butter\n",
              "    <span style=\"font-size: 0.8em; font-weight: bold; line-height: 1; border-radius: 0.35em; text-transform: uppercase; vertical-align: middle; margin-left: 0.5rem\">dish</span>\n",
              "</mark>\n",
              " \n",
              "<mark class=\"entity\" style=\"background: #ddd; padding: 0.45em 0.6em; margin: 0 0.25em; line-height: 1; border-radius: 0.35em; box-decoration-break: clone; -webkit-box-decoration-break: clone\">\n",
              "    ice cream\n",
              "    <span style=\"font-size: 0.8em; font-weight: bold; line-height: 1; border-radius: 0.35em; text-transform: uppercase; vertical-align: middle; margin-left: 0.5rem\">dish</span>\n",
              "</mark>\n",
              " is good but \n",
              "<mark class=\"entity\" style=\"background: #ddd; padding: 0.45em 0.6em; margin: 0 0.25em; line-height: 1; border-radius: 0.35em; box-decoration-break: clone; -webkit-box-decoration-break: clone\">\n",
              "    chocolate ice cream\n",
              "    <span style=\"font-size: 0.8em; font-weight: bold; line-height: 1; border-radius: 0.35em; text-transform: uppercase; vertical-align: middle; margin-left: 0.5rem\">dish</span>\n",
              "</mark>\n",
              " is better.</div>"
            ],
            "text/plain": [
              "<IPython.core.display.HTML object>"
            ]
          },
          "metadata": {
            "tags": []
          }
        }
      ]
    },
    {
      "cell_type": "code",
      "metadata": {
        "id": "GVUQu6Qfmear",
        "colab_type": "code",
        "colab": {
          "base_uri": "https://localhost:8080/",
          "height": 51
        },
        "outputId": "8bf2da0f-47c2-4a68-e80c-d81b4ca493bf"
      },
      "source": [
        "doc5 = nlp(\"basil is a great herb and the first ice cream I tasted was good but mushroom stem at $ 5 is yet to be seen.\")\n",
        "displacy.render(doc5,'ent',jupyter=True)"
      ],
      "execution_count": 18,
      "outputs": [
        {
          "output_type": "display_data",
          "data": {
            "text/html": [
              "<div class=\"entities\" style=\"line-height: 2.5; direction: ltr\">\n",
              "<mark class=\"entity\" style=\"background: #ddd; padding: 0.45em 0.6em; margin: 0 0.25em; line-height: 1; border-radius: 0.35em; box-decoration-break: clone; -webkit-box-decoration-break: clone\">\n",
              "    basil\n",
              "    <span style=\"font-size: 0.8em; font-weight: bold; line-height: 1; border-radius: 0.35em; text-transform: uppercase; vertical-align: middle; margin-left: 0.5rem\">herb</span>\n",
              "</mark>\n",
              " is a great herb and the \n",
              "<mark class=\"entity\" style=\"background: #e4e7d2; padding: 0.45em 0.6em; margin: 0 0.25em; line-height: 1; border-radius: 0.35em; box-decoration-break: clone; -webkit-box-decoration-break: clone\">\n",
              "    first\n",
              "    <span style=\"font-size: 0.8em; font-weight: bold; line-height: 1; border-radius: 0.35em; text-transform: uppercase; vertical-align: middle; margin-left: 0.5rem\">ORDINAL</span>\n",
              "</mark>\n",
              " \n",
              "<mark class=\"entity\" style=\"background: #ddd; padding: 0.45em 0.6em; margin: 0 0.25em; line-height: 1; border-radius: 0.35em; box-decoration-break: clone; -webkit-box-decoration-break: clone\">\n",
              "    ice cream\n",
              "    <span style=\"font-size: 0.8em; font-weight: bold; line-height: 1; border-radius: 0.35em; text-transform: uppercase; vertical-align: middle; margin-left: 0.5rem\">dish</span>\n",
              "</mark>\n",
              " I tasted was good but \n",
              "<mark class=\"entity\" style=\"background: #ddd; padding: 0.45em 0.6em; margin: 0 0.25em; line-height: 1; border-radius: 0.35em; box-decoration-break: clone; -webkit-box-decoration-break: clone\">\n",
              "    mushroom stem\n",
              "    <span style=\"font-size: 0.8em; font-weight: bold; line-height: 1; border-radius: 0.35em; text-transform: uppercase; vertical-align: middle; margin-left: 0.5rem\">vegetable</span>\n",
              "</mark>\n",
              " at $ 5 is yet to be seen.</div>"
            ],
            "text/plain": [
              "<IPython.core.display.HTML object>"
            ]
          },
          "metadata": {
            "tags": []
          }
        }
      ]
    },
    {
      "cell_type": "code",
      "metadata": {
        "id": "Qx41Eqp31oWT",
        "colab_type": "code",
        "outputId": "7f23b986-eb35-475b-8fc5-20f1f4011cdf",
        "colab": {
          "base_uri": "https://localhost:8080/",
          "height": 138
        }
      },
      "source": [
        "reviews = pd.read_csv('reviews_text.csv',usecols=['_id', 'text'])\n",
        "reviews.info()"
      ],
      "execution_count": 19,
      "outputs": [
        {
          "output_type": "stream",
          "text": [
            "<class 'pandas.core.frame.DataFrame'>\n",
            "RangeIndex: 56156 entries, 0 to 56155\n",
            "Data columns (total 2 columns):\n",
            "_id     56156 non-null object\n",
            "text    56155 non-null object\n",
            "dtypes: object(2)\n",
            "memory usage: 877.6+ KB\n"
          ],
          "name": "stdout"
        }
      ]
    },
    {
      "cell_type": "code",
      "metadata": {
        "id": "tcPrdbjn2A7X",
        "colab_type": "code",
        "outputId": "e3133e58-5870-470f-f2be-4fcc6381841f",
        "colab": {
          "base_uri": "https://localhost:8080/",
          "height": 138
        }
      },
      "source": [
        "reviews.dropna(inplace=True)\n",
        "reviews.info()"
      ],
      "execution_count": 20,
      "outputs": [
        {
          "output_type": "stream",
          "text": [
            "<class 'pandas.core.frame.DataFrame'>\n",
            "Int64Index: 56155 entries, 0 to 56155\n",
            "Data columns (total 2 columns):\n",
            "_id     56155 non-null object\n",
            "text    56155 non-null object\n",
            "dtypes: object(2)\n",
            "memory usage: 1.3+ MB\n"
          ],
          "name": "stdout"
        }
      ]
    },
    {
      "cell_type": "code",
      "metadata": {
        "id": "wSV4paug2LTo",
        "colab_type": "code",
        "outputId": "8011a730-3d36-4a97-9b2e-f2493f0e1252",
        "colab": {
          "base_uri": "https://localhost:8080/",
          "height": 225
        }
      },
      "source": [
        "train_reviews = reviews['text'][100:2000]\n",
        "train_reviews"
      ],
      "execution_count": 21,
      "outputs": [
        {
          "output_type": "execute_result",
          "data": {
            "text/plain": [
              "100     I keep going back again and again for the awes...\n",
              "101     Nothing keeps me fueled like all the amazing p...\n",
              "102     What a great find for a healthy lunch! I reall...\n",
              "103     This is honestly one of the best things I've e...\n",
              "104     Love my colourful bowl - phytonutrients yayyy!...\n",
              "                              ...                        \n",
              "1995    Part of an all-you-can-eat vegan lunch set. Al...\n",
              "1996    Part of an all-you-can-eat vegan lunch set. Th...\n",
              "1997    Egg white omelette with asparagus, feta, sauté...\n",
              "1998    This dish of stuffed tomatoes and green pepper...\n",
              "1999    Yummy warm dessert with crumbled hazelnuts and...\n",
              "Name: text, Length: 1900, dtype: object"
            ]
          },
          "metadata": {
            "tags": []
          },
          "execution_count": 21
        }
      ]
    },
    {
      "cell_type": "code",
      "metadata": {
        "id": "txc5n_63WRy0",
        "colab_type": "code",
        "colab": {}
      },
      "source": [
        ""
      ],
      "execution_count": 0,
      "outputs": []
    },
    {
      "cell_type": "code",
      "metadata": {
        "id": "zDxp93oFXuZP",
        "colab_type": "code",
        "colab": {}
      },
      "source": [
        "ingredients_list = ['pistachio', 'almond', 'walnut', 'cashew', 'peanuts', 'macadamia', 'hazelnuts', 'pecan', 'brazil nut', 'pine nut' ]\n",
        "issues_list = ['crumble - maybe a verb', 'milk']\n",
        "food_times = \n",
        "to_be_added_list = ['spirulina', 'herbs', 'micro-greens', 'greens','spinach','eggs', 'nut butters', 'cream cheese', 'cake', 'pepper', 'zucchini', 'aubergines',  'tomato',\\\n",
        "                    'oysters', 'kale', 'cucumber', 'quinoa', 'tomatoes', 'onion' ,'garlic', 'avocado', 'chilli', 'dark chocolate', 'mushrooms', 'coriander' ,'corn chips',\\\n",
        "                    'marinara', 'donuts', 'olives', 'crackers', 'waffles', 'strawberry', 'blueberry', 'raspberry', 'compote', 'mayo', 'mayonnaise', 'soy milk', 'oat milk', \\\n",
        "                    'coconut milk', 'almond milk', 'caffeine', 'milk tea', 'cauliflower', 'matcha', 'sorbet', 'banana', 'goji berry', 'chickpea', 'spinach', 'romaine',\\\n",
        "                    'arugula', 'cacao', 'Portobello', 'pear', 'plant milk', 'BBQ sauce', 'artichoke', 'mango', 'sandwich', 'capsicum', 'wedge', 'kang kong', 'seitan',\\\n",
        "                    'ciabatta', 'focaccia', 'bean sprouts', 'olive oil']"
      ],
      "execution_count": 0,
      "outputs": []
    },
    {
      "cell_type": "code",
      "metadata": {
        "id": "ZC0Hqtpt2U9l",
        "colab_type": "code",
        "outputId": "1e3d7170-ecf7-45fe-f63f-cdaf092ec353",
        "colab": {
          "base_uri": "https://localhost:8080/",
          "height": 208
        }
      },
      "source": [
        "check = np.random.randint(0,50000,3)\n",
        "print(check)\n",
        "\n",
        "for doc in list(nlp.pipe(texts[check])):\n",
        "  displacy.render(doc,'ent',jupyter=True)\n",
        "#  displacy.render(doc,'dep',jupyter=True,options={'distance': 60, 'fine_grained': True})\n",
        "\n"
      ],
      "execution_count": 0,
      "outputs": [
        {
          "output_type": "stream",
          "text": [
            "[49671 32259 46827]\n"
          ],
          "name": "stdout"
        },
        {
          "output_type": "display_data",
          "data": {
            "text/html": [
              "<div class=\"entities\" style=\"line-height: 2.5; direction: ltr\">By far my favorite vegan laksa! Gravy is very thick and flavorful. I\n",
              "<mark class=\"entity\" style=\"background: #7aecec; padding: 0.45em 0.6em; margin: 0 0.25em; line-height: 1; border-radius: 0.35em; box-decoration-break: clone; -webkit-box-decoration-break: clone\">\n",
              "    ’m\n",
              "    <span style=\"font-size: 0.8em; font-weight: bold; line-height: 1; border-radius: 0.35em; text-transform: uppercase; vertical-align: middle; margin-left: 0.5rem\">ORG</span>\n",
              "</mark>\n",
              " not a big fan of mock-meat so I’d usually request for no mock-meat (‘fishballs’ and ‘prawns’) but more tau pok and tau gey. It can be a little too spicy sometimes though. My other favourites at \n",
              "<mark class=\"entity\" style=\"background: #7aecec; padding: 0.45em 0.6em; margin: 0 0.25em; line-height: 1; border-radius: 0.35em; box-decoration-break: clone; -webkit-box-decoration-break: clone\">\n",
              "    Greendot\n",
              "    <span style=\"font-size: 0.8em; font-weight: bold; line-height: 1; border-radius: 0.35em; text-transform: uppercase; vertical-align: middle; margin-left: 0.5rem\">ORG</span>\n",
              "</mark>\n",
              " used to be their \n",
              "<mark class=\"entity\" style=\"background: #7aecec; padding: 0.45em 0.6em; margin: 0 0.25em; line-height: 1; border-radius: 0.35em; box-decoration-break: clone; -webkit-box-decoration-break: clone\">\n",
              "    Herbal Soup\n",
              "    <span style=\"font-size: 0.8em; font-weight: bold; line-height: 1; border-radius: 0.35em; text-transform: uppercase; vertical-align: middle; margin-left: 0.5rem\">ORG</span>\n",
              "</mark>\n",
              " and \n",
              "<mark class=\"entity\" style=\"background: #7aecec; padding: 0.45em 0.6em; margin: 0 0.25em; line-height: 1; border-radius: 0.35em; box-decoration-break: clone; -webkit-box-decoration-break: clone\">\n",
              "    Lion\n",
              "    <span style=\"font-size: 0.8em; font-weight: bold; line-height: 1; border-radius: 0.35em; text-transform: uppercase; vertical-align: middle; margin-left: 0.5rem\">ORG</span>\n",
              "</mark>\n",
              "’s Mane Rendung until I stopped consuming eggs and dairy \n",
              "<mark class=\"entity\" style=\"background: #bfe1d9; padding: 0.45em 0.6em; margin: 0 0.25em; line-height: 1; border-radius: 0.35em; box-decoration-break: clone; -webkit-box-decoration-break: clone\">\n",
              "    a year ago\n",
              "    <span style=\"font-size: 0.8em; font-weight: bold; line-height: 1; border-radius: 0.35em; text-transform: uppercase; vertical-align: middle; margin-left: 0.5rem\">DATE</span>\n",
              "</mark>\n",
              ". Really hope they would consider offering vegan options for these \n",
              "<mark class=\"entity\" style=\"background: #e4e7d2; padding: 0.45em 0.6em; margin: 0 0.25em; line-height: 1; border-radius: 0.35em; box-decoration-break: clone; -webkit-box-decoration-break: clone\">\n",
              "    two\n",
              "    <span style=\"font-size: 0.8em; font-weight: bold; line-height: 1; border-radius: 0.35em; text-transform: uppercase; vertical-align: middle; margin-left: 0.5rem\">CARDINAL</span>\n",
              "</mark>\n",
              " dishes.</div>"
            ],
            "text/plain": [
              "<IPython.core.display.HTML object>"
            ]
          },
          "metadata": {
            "tags": []
          }
        },
        {
          "output_type": "display_data",
          "data": {
            "text/html": [
              "<div class=\"entities\" style=\"line-height: 2.5; direction: ltr\">This dish consists of scrambled tofu, \n",
              "<mark class=\"entity\" style=\"background: #c887fb; padding: 0.45em 0.6em; margin: 0 0.25em; line-height: 1; border-radius: 0.35em; box-decoration-break: clone; -webkit-box-decoration-break: clone\">\n",
              "    Turkish\n",
              "    <span style=\"font-size: 0.8em; font-weight: bold; line-height: 1; border-radius: 0.35em; text-transform: uppercase; vertical-align: middle; margin-left: 0.5rem\">NORP</span>\n",
              "</mark>\n",
              " toast, roast tomato, pumpkin, hash brown, and baby spinach. Very delicious</div>"
            ],
            "text/plain": [
              "<IPython.core.display.HTML object>"
            ]
          },
          "metadata": {
            "tags": []
          }
        },
        {
          "output_type": "display_data",
          "data": {
            "text/html": [
              "<div class=\"entities\" style=\"line-height: 2.5; direction: ltr\">These were yum chips and so was the cheese, the gravy was good too though more just at the bottom of the bowl</div>"
            ],
            "text/plain": [
              "<IPython.core.display.HTML object>"
            ]
          },
          "metadata": {
            "tags": []
          }
        }
      ]
    },
    {
      "cell_type": "code",
      "metadata": {
        "id": "LqwDWA5YpI7p",
        "colab_type": "code",
        "colab": {}
      },
      "source": [
        "\n",
        "\n"
      ],
      "execution_count": 0,
      "outputs": []
    },
    {
      "cell_type": "code",
      "metadata": {
        "id": "gBvNJGRzPv-y",
        "colab_type": "code",
        "colab": {}
      },
      "source": [
        "f = open('rice.txt')\n",
        "docs = [] # initialize a list to be populated wih strings\n",
        "lines = f.readlines()  # returns a list of srings from the txt file\n",
        "for line in lines:\n",
        "    # print(line[:]) # display the sentence from that line\n",
        "    doc = nlp(line) # convert string into a spacy doc object using nlp\n",
        "    docs.append(doc) # add new doc to the list of docs\n",
        "\n",
        "json_data = docs_to_json(docs) # convert doc into a json file\n",
        "srsly.write_json('spacy_train.json', [json_data])\n"
      ],
      "execution_count": 0,
      "outputs": []
    },
    {
      "cell_type": "code",
      "metadata": {
        "id": "Wnaf1x9tTT8A",
        "colab_type": "code",
        "colab": {}
      },
      "source": [
        "f.close()"
      ],
      "execution_count": 0,
      "outputs": []
    },
    {
      "cell_type": "code",
      "metadata": {
        "id": "F3jdqEADX27z",
        "colab_type": "code",
        "colab": {}
      },
      "source": [
        "check_list = [('bok','U_vegetable'),('choy','U_vegetable'),\\\n",
        "              ('bean','U_vegetable'), ('sprouts','U_vegetable'),\\\n",
        "              ('soffritto','U_dish'),('patties','U_dish'),('cakes','U_dish'),('parmesan','U_dish'),('cheese','U_dish'),('breadcrumbs','U_dish'),\\\n",
        "              ('soy','U_condiment'),('sauce','U_condiment'),\\\n",
        "              ('olive','U_condiment'),('oil','U_condiment'),\\\n",
        "              ('wine','U_beverage'),\\\n",
        "              ('3/4-inch','U_QUANTITY'), ('2-inch','U_QUANTITY'),('3-inch','U_QUANTITY'),('6-inch','U_QUANTITY'),\\\n",
        "              ('first','U_ORDINAL'),('second','U_ORDINAL'),('third','U_ORDINAL'),('fourth','U_ORDINAL'),('fifth','U_ORDINAL'),('last','U_ORDINAL'),\\\n",
        "              ('1','U_CARDINAL'),('2','U_CARDINAL'),('3','U_CARDINAL'),('4','U_CARDINAL'),('5','U_CARDINAL'),('6','U_CARDINAL'),('10','U_CARDINAL'),\\\n",
        "              ('100','U_CARDINAL'),('one','U_CARDINAL'),('two','U_CARDINAL'),('three','U_CARDINAL'),('four','U_CARDINAL'),('five','U_CARDINAL'),('six','U_CARDINAL'),\\\n",
        "              ('seven','U_CARDINAL'),('eight','U_CARDINAL'),('nine','U_CARDINAL'),('ten','U_CARDINAL'),\\\n",
        "              ('minute','U_TIME'),('minutes','U_TIME'),('seconds','U_TIME'),('hour','U_TIME'),('hours','U_TIME'),('day','U_TIME'),\\\n",
        "              ('$', 'U_MONEY'), ('USD', 'U_MONEY'),('SGD', 'U_MONEY'),('S$', 'U_MONEY'), ('Rs', 'U_MONEY'), ('£', 'U_MONEY'), ('€', 'U_MONEY')]"
      ],
      "execution_count": 0,
      "outputs": []
    },
    {
      "cell_type": "code",
      "metadata": {
        "id": "pISRogIO2HR0",
        "colab_type": "code",
        "colab": {}
      },
      "source": [
        "f = open('rice.txt')\n",
        "docs = [] # initialize a list to be populated wih strings\n",
        "lines = f.readlines()  # returns a list of srings from the txt file\n",
        "for line in lines:\n",
        "    # print(line[:]) # display the sentence from that line\n",
        "    doc = nlp(line) # convert string into a spacy doc object using nlp\n",
        "    docs.append(doc) # add new doc to the list of docs\n",
        "f.close()\n",
        "\n"
      ],
      "execution_count": 0,
      "outputs": []
    },
    {
      "cell_type": "code",
      "metadata": {
        "id": "qGKRsVKF2zQn",
        "colab_type": "code",
        "colab": {}
      },
      "source": [
        "train_gen = (line for line in open('rice.txt'))\n",
        "type(train_gen)\n",
        "to_train_ents = []"
      ],
      "execution_count": 0,
      "outputs": []
    },
    {
      "cell_type": "code",
      "metadata": {
        "id": "Kh9yi7fK23NW",
        "colab_type": "code",
        "outputId": "fa6d40aa-a678-4b08-9f45-ec155f74be43",
        "colab": {
          "base_uri": "https://localhost:8080/",
          "height": 86
        }
      },
      "source": [
        "l = next(train_gen)\n",
        "tok_list = [token.text for token in nlp(l)] \n",
        "#print(l, tok_list)\n",
        "tag_list = ['O' for token in nlp(l)]\n",
        "#print(tag_list)\n",
        "matched_ents = [(i,item) for i, item in enumerate(tok_list) if item.lower() in [i[0] for i in ent_list + check_list]] \n",
        "#print(matched_ents)\n",
        "\n",
        "for ent in matched_ents:\n",
        "  ent_tag = ''.join(list(set([tup[1] for tup in ent_list + check_list if tup[0] == ent[1].lower()])))\n",
        "  print(ent[0], ent[1], ent_tag)\n",
        "  tag_list[ent[0]] = ent_tag\n",
        "\n",
        "#print(tag_list)\n",
        "entities = offsets_from_biluo_tags(nlp(l), tag_list)\n",
        "print(entities)\n",
        "to_train_ents.append((l, dict(entities = entities)))\n",
        "displacy.render(nlp(l),'ent',jupyter=True)\n",
        "print(l, entities)\n",
        "\n",
        "#displacy.render(l,'dep',jupyter=True)"
      ],
      "execution_count": 56,
      "outputs": [
        {
          "output_type": "stream",
          "text": [
            "[]\n"
          ],
          "name": "stdout"
        },
        {
          "output_type": "display_data",
          "data": {
            "text/html": [
              "<div class=\"entities\" style=\"line-height: 2.5; direction: ltr\">Leave alone for \n",
              "<mark class=\"entity\" style=\"background: #bfe1d9; padding: 0.45em 0.6em; margin: 0 0.25em; line-height: 1; border-radius: 0.35em; box-decoration-break: clone; -webkit-box-decoration-break: clone\">\n",
              "    five to seven minutes\n",
              "    <span style=\"font-size: 0.8em; font-weight: bold; line-height: 1; border-radius: 0.35em; text-transform: uppercase; vertical-align: middle; margin-left: 0.5rem\">TIME</span>\n",
              "</mark>\n",
              ", then serve.</div>"
            ],
            "text/plain": [
              "<IPython.core.display.HTML object>"
            ]
          },
          "metadata": {
            "tags": []
          }
        },
        {
          "output_type": "stream",
          "text": [
            "Leave alone for five to seven minutes, then serve. []\n"
          ],
          "name": "stdout"
        }
      ]
    },
    {
      "cell_type": "code",
      "metadata": {
        "id": "X6_NRnDC4GbQ",
        "colab_type": "code",
        "outputId": "0bede159-2423-42fa-9165-e9ea189b66d5",
        "colab": {
          "base_uri": "https://localhost:8080/",
          "height": 34
        }
      },
      "source": [
        "len(to_train_ents)\n",
        "#to_train_ents[-5:]"
      ],
      "execution_count": 57,
      "outputs": [
        {
          "output_type": "execute_result",
          "data": {
            "text/plain": [
              "37"
            ]
          },
          "metadata": {
            "tags": []
          },
          "execution_count": 57
        }
      ]
    },
    {
      "cell_type": "code",
      "metadata": {
        "id": "YaVAV5J_IzFI",
        "colab_type": "code",
        "outputId": "8b2e2411-2c2b-4641-ee1d-f7b402487584",
        "colab": {
          "base_uri": "https://localhost:8080/",
          "height": 263
        }
      },
      "source": [
        "to_train_ents[0:5]"
      ],
      "execution_count": 58,
      "outputs": [
        {
          "output_type": "execute_result",
          "data": {
            "text/plain": [
              "[('If using tofu, cook it.\\n', {'entities': [(9, 13, 'dish')]}),\n",
              " ('Cook the rice as you normally would, but be careful not to use too much water. The rice should not be too sticky. It may help to let the cooked rice sit overnight in the refrigerator.\\n',\n",
              "  {'entities': [(9, 13, 'dish'), (83, 87, 'dish'), (137, 148, 'dish')]}),\n",
              " ('If using onions, dice them into whatever size you prefer.\\n',\n",
              "  {'entities': [(9, 15, 'vegetable')]}),\n",
              " ('If using bok choy, separate the stalk part from the leaf part. Slice the leaf part crosswise into 3/4-inch-thick strips, then tear the strips into 2-inch pieces. These pieces will be treated much like the bean sprouts, though perhaps with slightly more cooking. The stalk part will be treated as celery.\\n',\n",
              "  {'entities': [(9, 17, 'vegetable'),\n",
              "    (98, 106, 'QUANTITY'),\n",
              "    (147, 153, 'QUANTITY'),\n",
              "    (205, 217, 'vegetable'),\n",
              "    (296, 302, 'vegetable')]}),\n",
              " ('If using bean sprouts, wash them and discard any that are not white and crunchy.\\n',\n",
              "  {'entities': [(9, 21, 'vegetable')]})]"
            ]
          },
          "metadata": {
            "tags": []
          },
          "execution_count": 58
        }
      ]
    },
    {
      "cell_type": "code",
      "metadata": {
        "id": "RLCw-6ZWMR71",
        "colab_type": "code",
        "colab": {}
      },
      "source": [
        ""
      ],
      "execution_count": 0,
      "outputs": []
    },
    {
      "cell_type": "code",
      "metadata": {
        "id": "seBlcyjWiffa",
        "colab_type": "code",
        "colab": {}
      },
      "source": [
        "\n",
        "merged = list(itertools.chain(*[tup[1]['entities'] for tup in to_train_ents]))"
      ],
      "execution_count": 0,
      "outputs": []
    },
    {
      "cell_type": "code",
      "metadata": {
        "id": "HB1G5tIvihWs",
        "colab_type": "code",
        "outputId": "542d64fb-1821-415d-ce52-e2b725a05f8e",
        "colab": {
          "base_uri": "https://localhost:8080/",
          "height": 34
        }
      },
      "source": [
        "model = 'en_core_web_lg'\n",
        "\n",
        "\n",
        "\n",
        "\"\"\"Load the model, set up the pipeline and train the entity recognizer.\"\"\"\n",
        "if model is not None:\n",
        "    nlp = spacy.load(model)  # load existing spaCy model\n",
        "    print(\"Loaded model '%s'\" % model)\n",
        "else:\n",
        "    nlp = spacy.blank(\"en\")  # create blank Language class\n",
        "    print(\"Created blank 'en' model\")\n",
        "\n",
        "# nlp.create_pipe works for built-ins that are registered with spaCy\n",
        "if \"ner\" not in nlp.pipe_names:\n",
        "    ner = nlp.create_pipe(\"ner\")\n",
        "    nlp.add_pipe(ner, last=True)\n",
        "# otherwise, get it so we can add labels\n",
        "else:\n",
        "    ner = nlp.get_pipe(\"ner\")\n",
        "\n",
        "# add labels\n",
        "for _, annotations in to_train_ents:\n",
        "    for ent in annotations.get(\"entities\"):\n",
        "        ner.add_label(ent[2])"
      ],
      "execution_count": 61,
      "outputs": [
        {
          "output_type": "stream",
          "text": [
            "Loaded model 'en_core_web_lg'\n"
          ],
          "name": "stdout"
        }
      ]
    },
    {
      "cell_type": "code",
      "metadata": {
        "id": "_TQqvRheMWzm",
        "colab_type": "code",
        "outputId": "94eee4f8-cf0a-4f9e-8484-adae51fbc0bc",
        "colab": {
          "base_uri": "https://localhost:8080/",
          "height": 434
        }
      },
      "source": [
        "ner.labels"
      ],
      "execution_count": 62,
      "outputs": [
        {
          "output_type": "execute_result",
          "data": {
            "text/plain": [
              "('dish',\n",
              " 'ORG',\n",
              " 'condiment',\n",
              " 'FAC',\n",
              " 'vegetable',\n",
              " 'ORDINAL',\n",
              " 'PERSON',\n",
              " 'PRODUCT',\n",
              " 'LOC',\n",
              " 'spice',\n",
              " 'CARDINAL',\n",
              " 'LANGUAGE',\n",
              " 'TIME',\n",
              " 'WORK_OF_ART',\n",
              " 'GPE',\n",
              " 'DATE',\n",
              " 'LAW',\n",
              " 'NORP',\n",
              " 'beverage',\n",
              " 'MONEY',\n",
              " 'EVENT',\n",
              " 'herb',\n",
              " 'PERCENT',\n",
              " 'QUANTITY')"
            ]
          },
          "metadata": {
            "tags": []
          },
          "execution_count": 62
        }
      ]
    },
    {
      "cell_type": "code",
      "metadata": {
        "id": "SYlPQ58WW5F9",
        "colab_type": "code",
        "colab": {}
      },
      "source": [
        "from spacy.gold import GoldParse"
      ],
      "execution_count": 0,
      "outputs": []
    },
    {
      "cell_type": "code",
      "metadata": {
        "id": "Z5zBtvk6wRIl",
        "colab_type": "code",
        "outputId": "17bc3656-274b-400e-a44a-c804211c3eea",
        "colab": {
          "base_uri": "https://localhost:8080/",
          "height": 887
        }
      },
      "source": [
        "# get names of other pipes to disable them during training\n",
        "other_pipes = [pipe for pipe in nlp.pipe_names if pipe not in [\"ner\", \"entity_ruler\",\"merge_entities\"]]\n",
        "with nlp.disable_pipes(*other_pipes):  # only train NER\n",
        "    # reset and initialize the weights randomly – but only if we're\n",
        "    # training a new model\n",
        "    if model is None:\n",
        "        nlp.begin_training()\n",
        "\n",
        "\n",
        "\n",
        "    for itn in range(5):\n",
        "      random.shuffle(clean_train_ents)\n",
        "      losses = {}\n",
        "\n",
        "#      for item in clean_train_ents:\n",
        "# batch up the examples using spaCy's minibatch\n",
        "      batches = minibatch(clean_train_ents, size=compounding(4.0, 32.0, 1.001))\n",
        "\n",
        "      for batch in batches:\n",
        "        texts, annotations = zip(*batch)\n",
        "#        print([item[0]], [item[1]])\n",
        "\n",
        "#        print(texts)\n",
        "#        print(annotations)\n",
        "        nlp.update(texts, annotations, drop=0.5, losses=losses)\n",
        "        print(losses)"
      ],
      "execution_count": 66,
      "outputs": [
        {
          "output_type": "stream",
          "text": [
            "{'ner': 68.43624067306519}\n",
            "{'ner': 184.61740112304688}\n",
            "{'ner': 258.61230278015137}\n",
            "{'ner': 335.3837299346924}\n",
            "{'ner': 397.74806785583496}\n",
            "{'ner': 496.07928681373596}\n",
            "{'ner': 604.3904078006744}\n",
            "{'ner': 697.9849517345428}\n",
            "{'ner': 898.3083918094635}\n",
            "{'ner': 913.0961752086878}\n",
            "{'ner': 77.2951397895813}\n",
            "{'ner': 199.11220693588257}\n",
            "{'ner': 272.8479437828064}\n",
            "{'ner': 399.1770589351654}\n",
            "{'ner': 510.91890597343445}\n",
            "{'ner': 571.7339107990265}\n",
            "{'ner': 673.7506942749023}\n",
            "{'ner': 836.8600540161133}\n",
            "{'ner': 893.0359942913055}\n",
            "{'ner': 904.4475624634651}\n",
            "{'ner': 76.6790599822998}\n",
            "{'ner': 248.98345279693604}\n",
            "{'ner': 359.4646096229553}\n",
            "{'ner': 447.50255060195923}\n",
            "{'ner': 550.7681419849396}\n",
            "{'ner': 665.9656307697296}\n",
            "{'ner': 718.2194759845734}\n",
            "{'ner': 780.4857132434845}\n",
            "{'ner': 906.0226509571075}\n",
            "{'ner': 942.5896518924274}\n",
            "{'ner': 68.84220838546753}\n",
            "{'ner': 148.96541571617126}\n",
            "{'ner': 251.8399977684021}\n",
            "{'ner': 350.8443260192871}\n",
            "{'ner': 446.8515214920044}\n",
            "{'ner': 509.65203619003296}\n",
            "{'ner': 614.8967356681824}\n",
            "{'ner': 704.9221341609955}\n",
            "{'ner': 897.5528650283813}\n",
            "{'ner': 906.3885138100595}\n",
            "{'ner': 99.11557960510254}\n",
            "{'ner': 184.80943131446838}\n",
            "{'ner': 270.3797879219055}\n",
            "{'ner': 460.4393210411072}\n",
            "{'ner': 544.440104007721}\n",
            "{'ner': 622.5587096214294}\n",
            "{'ner': 748.2091861963272}\n",
            "{'ner': 817.0167857408524}\n",
            "{'ner': 893.5588480234146}\n",
            "{'ner': 914.5160444909707}\n"
          ],
          "name": "stdout"
        }
      ]
    },
    {
      "cell_type": "code",
      "metadata": {
        "id": "o71FuR23SmbQ",
        "colab_type": "code",
        "colab": {}
      },
      "source": [
        "check_list = []\n",
        "to_train_ents = []"
      ],
      "execution_count": 0,
      "outputs": []
    },
    {
      "cell_type": "code",
      "metadata": {
        "id": "_b90bE1v5_bf",
        "colab_type": "code",
        "colab": {
          "base_uri": "https://localhost:8080/",
          "height": 34
        },
        "outputId": "22fde419-d1a6-4066-ded9-4236de006199"
      },
      "source": [
        "train_rev = (rev for rev in train_reviews)\n",
        "type(train_rev)"
      ],
      "execution_count": 23,
      "outputs": [
        {
          "output_type": "execute_result",
          "data": {
            "text/plain": [
              "generator"
            ]
          },
          "metadata": {
            "tags": []
          },
          "execution_count": 23
        }
      ]
    },
    {
      "cell_type": "code",
      "metadata": {
        "id": "HMCEVq3G5pG9",
        "colab_type": "code",
        "colab": {}
      },
      "source": [
        ""
      ],
      "execution_count": 0,
      "outputs": []
    },
    {
      "cell_type": "code",
      "metadata": {
        "id": "RzZ0t4hS6L1a",
        "colab_type": "code",
        "colab": {
          "base_uri": "https://localhost:8080/",
          "height": 208
        },
        "outputId": "585a6ca9-9d32-486d-b934-edc208cad6fd"
      },
      "source": [
        "rev = next(train_rev)\n",
        "tok_list = [token.text for token in nlp(rev)] \n",
        "tag_list = ['O' for token in nlp(rev)]\n",
        "matched_ents = [(i,item) for i, item in enumerate(tok_list) if item.lower() in [i[0] for i in ent_list + check_list]] \n",
        "#print(rev, tok_list, tag_list, matched_ents)\n",
        "\n",
        "ent_for_doc = []\n",
        "pattern_dict = {}\n",
        "for ent in matched_ents:\n",
        "  ent_tag = ''.join(list(set([tup[1] for tup in ent_list + check_list if tup[0] == ent[1].lower()])))\n",
        "  ent_for_doc.append((ent[0], ent[1], ent_tag))  \n",
        "  tag_list[ent[0]] = ent_tag\n",
        "print(ent_for_doc)\n",
        "#print(tag_list)\n",
        "entities = offsets_from_biluo_tags(nlp(rev), tag_list)\n",
        "print(entities)\n",
        "to_train_ents.append((rev, dict(entities = entities)))\n",
        "displacy.render(nlp(rev),'ent',jupyter=True)\n",
        "\n",
        "\n",
        "n_entities_to_be_added = int(input(\"How many entities are missing: \"))\n",
        "if n_entities_to_be_added == 0:\n",
        "  print('You entered {} Thanks. So no new entities to be considered'.format(n_entities_to_be_added))\n",
        "else:\n",
        "  for user_input in range(n_entities_to_be_added):\n",
        "    e_name = input('Provide the name of the entity to be added: ')\n",
        "    e_label = input('Provide the label of the entity to be added:')\n",
        "    print(e_name, e_label)\n",
        "    check_list.append((e_name, e_label))\n",
        "    pattern_list = []\n",
        "\n",
        "    pattern_dict = create_entity_pattern(e_name, e_label)\n",
        "    dump_jsonl([pattern_dict],'patterns.jsonl', append=True)\n",
        "    ruler = EntityRuler(nlp).from_disk(\"patterns.jsonl\")"
      ],
      "execution_count": 139,
      "outputs": [
        {
          "output_type": "stream",
          "text": [
            "[(7, 'Veganburg', 'ORG'), (30, 'cabbage', 'U_vegetable'), (32, 'patty', 'U_dish'), (35, 'patty', 'U_dish'), (38, 'portobello mushrooms', 'U_vegetable'), (56, 'burger', 'U_dish')]\n",
            "[(139, 146, 'vegetable'), (151, 156, 'dish'), (162, 167, 'dish'), (179, 199, 'vegetable'), (285, 291, 'dish')]\n"
          ],
          "name": "stdout"
        },
        {
          "output_type": "display_data",
          "data": {
            "text/html": [
              "<div class=\"entities\" style=\"line-height: 2.5; direction: ltr\">i really liked the orange dressing (\n",
              "<mark class=\"entity\" style=\"background: #7aecec; padding: 0.45em 0.6em; margin: 0 0.25em; line-height: 1; border-radius: 0.35em; box-decoration-break: clone; -webkit-box-decoration-break: clone\">\n",
              "    Veganburg\n",
              "    <span style=\"font-size: 0.8em; font-weight: bold; line-height: 1; border-radius: 0.35em; text-transform: uppercase; vertical-align: middle; margin-left: 0.5rem\">ORG</span>\n",
              "</mark>\n",
              "'s version of \n",
              "<mark class=\"entity\" style=\"background: #e4e7d2; padding: 0.45em 0.6em; margin: 0 0.25em; line-height: 1; border-radius: 0.35em; box-decoration-break: clone; -webkit-box-decoration-break: clone\">\n",
              "    thousand\n",
              "    <span style=\"font-size: 0.8em; font-weight: bold; line-height: 1; border-radius: 0.35em; text-transform: uppercase; vertical-align: middle; margin-left: 0.5rem\">CARDINAL</span>\n",
              "</mark>\n",
              " island? im not too sure :p) which i felt went really well w the purple \n",
              "<mark class=\"entity\" style=\"background: #ddd; padding: 0.45em 0.6em; margin: 0 0.25em; line-height: 1; border-radius: 0.35em; box-decoration-break: clone; -webkit-box-decoration-break: clone\">\n",
              "    cabbage\n",
              "    <span style=\"font-size: 0.8em; font-weight: bold; line-height: 1; border-radius: 0.35em; text-transform: uppercase; vertical-align: middle; margin-left: 0.5rem\">vegetable</span>\n",
              "</mark>\n",
              " and \n",
              "<mark class=\"entity\" style=\"background: #ddd; padding: 0.45em 0.6em; margin: 0 0.25em; line-height: 1; border-radius: 0.35em; box-decoration-break: clone; -webkit-box-decoration-break: clone\">\n",
              "    patty\n",
              "    <span style=\"font-size: 0.8em; font-weight: bold; line-height: 1; border-radius: 0.35em; text-transform: uppercase; vertical-align: middle; margin-left: 0.5rem\">dish</span>\n",
              "</mark>\n",
              "; the \n",
              "<mark class=\"entity\" style=\"background: #ddd; padding: 0.45em 0.6em; margin: 0 0.25em; line-height: 1; border-radius: 0.35em; box-decoration-break: clone; -webkit-box-decoration-break: clone\">\n",
              "    patty\n",
              "    <span style=\"font-size: 0.8em; font-weight: bold; line-height: 1; border-radius: 0.35em; text-transform: uppercase; vertical-align: middle; margin-left: 0.5rem\">dish</span>\n",
              "</mark>\n",
              " was mainly \n",
              "<mark class=\"entity\" style=\"background: #ddd; padding: 0.45em 0.6em; margin: 0 0.25em; line-height: 1; border-radius: 0.35em; box-decoration-break: clone; -webkit-box-decoration-break: clone\">\n",
              "    portobello mushrooms\n",
              "    <span style=\"font-size: 0.8em; font-weight: bold; line-height: 1; border-radius: 0.35em; text-transform: uppercase; vertical-align: middle; margin-left: 0.5rem\">vegetable</span>\n",
              "</mark>\n",
              " - cooked really well so it tasted good as usual :) felt the truffle flavour for this \n",
              "<mark class=\"entity\" style=\"background: #ddd; padding: 0.45em 0.6em; margin: 0 0.25em; line-height: 1; border-radius: 0.35em; box-decoration-break: clone; -webkit-box-decoration-break: clone\">\n",
              "    burger\n",
              "    <span style=\"font-size: 0.8em; font-weight: bold; line-height: 1; border-radius: 0.35em; text-transform: uppercase; vertical-align: middle; margin-left: 0.5rem\">dish</span>\n",
              "</mark>\n",
              " cld hv been stronger tho!</div>"
            ],
            "text/plain": [
              "<IPython.core.display.HTML object>"
            ]
          },
          "metadata": {
            "tags": []
          }
        },
        {
          "output_type": "stream",
          "text": [
            "How many entities are missing: 1\n",
            "Provide the name of the entity to be added: thousand island\n",
            "Provide the label of the entity to be added:U_dish\n",
            "thousand island U_dish\n",
            "Wrote 1 records to patterns.jsonl\n"
          ],
          "name": "stdout"
        }
      ]
    },
    {
      "cell_type": "code",
      "metadata": {
        "id": "uAOCR7ifeFN4",
        "colab_type": "code",
        "colab": {
          "base_uri": "https://localhost:8080/",
          "height": 34
        },
        "outputId": "6242ca1a-f8cf-47ac-8832-c9a07feb9f1f"
      },
      "source": [
        "len(to_train_ents)"
      ],
      "execution_count": 140,
      "outputs": [
        {
          "output_type": "execute_result",
          "data": {
            "text/plain": [
              "104"
            ]
          },
          "metadata": {
            "tags": []
          },
          "execution_count": 140
        }
      ]
    },
    {
      "cell_type": "code",
      "metadata": {
        "id": "VjZssQzb8Q0G",
        "colab_type": "code",
        "colab": {
          "base_uri": "https://localhost:8080/",
          "height": 69
        },
        "outputId": "d093acec-2357-4620-e4d2-26f36edc8060"
      },
      "source": [
        "[(ent.text, ent.label_, ent.ent_id_) for ent in nlp(\"Its raining bok choy and jalapeno for € 3 in Singapore\").ents]"
      ],
      "execution_count": 288,
      "outputs": [
        {
          "output_type": "execute_result",
          "data": {
            "text/plain": [
              "[('bok choy', 'vegetable', 'bok_choy'),\n",
              " ('jalapeno', 'vegetable', 'jalapeno'),\n",
              " ('Singapore', 'GPE', 'singapore')]"
            ]
          },
          "metadata": {
            "tags": []
          },
          "execution_count": 288
        }
      ]
    },
    {
      "cell_type": "code",
      "metadata": {
        "id": "ggrLqD5ipjV9",
        "colab_type": "code",
        "colab": {}
      },
      "source": [
        "check_list"
      ],
      "execution_count": 0,
      "outputs": []
    },
    {
      "cell_type": "code",
      "metadata": {
        "id": "L9NFWUdcq4lN",
        "colab_type": "code",
        "colab": {
          "base_uri": "https://localhost:8080/",
          "height": 1000
        },
        "outputId": "d37d9890-2cd4-4c9f-e6be-5b233806b15a"
      },
      "source": [
        "check_list"
      ],
      "execution_count": 240,
      "outputs": [
        {
          "output_type": "execute_result",
          "data": {
            "text/plain": [
              "[(\"lion 's mane mushroom\", 'U_vegetable'),\n",
              " ('garlic dipping sauce', 'U_condiment'),\n",
              " ('garlic sauce', 'U_condiment'),\n",
              " ('garlic spread', 'U_condiment'),\n",
              " ('GyG', 'ORG'),\n",
              " ('Indochilli', 'ORG'),\n",
              " ('garlic sauce', 'U_condiment'),\n",
              " ('brazilian', 'NORP'),\n",
              " ('tomato sauce', 'U_condiment'),\n",
              " ('shabestan', 'ORG'),\n",
              " ('loco', 'ORG'),\n",
              " ('maison libanaise', 'ORG'),\n",
              " ('clarke quay central', 'FAC'),\n",
              " ('clark quay central', 'FAC'),\n",
              " ('salty cheese', 'U_dish'),\n",
              " ('nomvnom', 'ORG'),\n",
              " ('sarpino', 'ORG'),\n",
              " ('poke theory', 'ORG'),\n",
              " ('raisins', 'U_fruit'),\n",
              " ('pinenuts', 'U_seed'),\n",
              " ('almonds', 'U_seed'),\n",
              " ('cashew', 'U_seed'),\n",
              " ('aloha poke', 'ORG'),\n",
              " ('pumpkin seeds', 'U_seed'),\n",
              " ('cherry tomatoes', 'U_fruit'),\n",
              " ('blue rice', 'U_dish'),\n",
              " ('soy chicken cutlet', 'U_dish'),\n",
              " ('japanese', 'NORP'),\n",
              " ('blue bistro', 'ORG'),\n",
              " ('anchovies', 'U_dish'),\n",
              " ('ladies fingers', 'U_vegetable'),\n",
              " ('mushroom sauce', 'U_condiment'),\n",
              " ('mushroom salad', 'U_dish'),\n",
              " ('today', 'DATE'),\n",
              " ('tomorrow', 'DATE'),\n",
              " ('yesterday', 'DATE'),\n",
              " ('last week', 'DATE'),\n",
              " ('next week', 'DATE'),\n",
              " ('last month', 'DATE'),\n",
              " ('next month', 'DATE'),\n",
              " ('cherry tomato', 'U_fruit'),\n",
              " ('pasilla', 'U_dish'),\n",
              " ('pasilla sauce', 'U_condiment'),\n",
              " ('almonds', 'U_seed'),\n",
              " ('yogurt sauce', 'U_condiment'),\n",
              " ('fish balls', 'U_dish'),\n",
              " ('tau pok', 'U_dish'),\n",
              " ('tau kwa', 'U_dish'),\n",
              " ('taupok', 'U_dish'),\n",
              " ('cranberries', 'U_fruit'),\n",
              " ('cashew dressing', 'U_condiment'),\n",
              " ('macadamia', 'U_seed'),\n",
              " ('szechuan peppercorns', 'U_spice'),\n",
              " ('sichuan peppercorns', 'U_spice'),\n",
              " ('dumplings', 'U_dish'),\n",
              " ('kfc', 'ORG'),\n",
              " ('pollo frito', 'U_dish'),\n",
              " ('seitan', 'U_dish'),\n",
              " ('quesadillas', 'U_dish'),\n",
              " ('spanish', 'NORP'),\n",
              " ('hard rock cafe', 'ORG'),\n",
              " ('tortillas', 'U_dish'),\n",
              " ('brussel sprouts', 'U_vegetable'),\n",
              " ('pecans', 'U_seed'),\n",
              " ('hard rock', 'ORG'),\n",
              " ('hard rock café', 'ORG'),\n",
              " ('sriracha', 'U_condiment'),\n",
              " ('mayonnaise', 'U_condiment'),\n",
              " ('hard rock', 'ORG'),\n",
              " ('fajitas', 'U_dish'),\n",
              " ('pimienta', 'U_spice'),\n",
              " ('well dressed salad bar', 'ORG'),\n",
              " ('wdsb', 'ORG'),\n",
              " ('monkeyhead mushroom', 'U_vegetable'),\n",
              " ('monkey head mushroom', 'U_vegetable'),\n",
              " ('monkeyhead', 'U_vegetable'),\n",
              " ('seaweed crackers', 'U_dish'),\n",
              " ('seaweed chips', 'U_dish'),\n",
              " ('gula melaka', 'U_condiment'),\n",
              " ('waffles', 'U_dish'),\n",
              " ('ice cream', 'U_dish'),\n",
              " ('ice cream', 'U_dish'),\n",
              " ('ice-cream', 'U_dish')]"
            ]
          },
          "metadata": {
            "tags": []
          },
          "execution_count": 240
        }
      ]
    },
    {
      "cell_type": "code",
      "metadata": {
        "id": "g-b1X22C6QC0",
        "colab_type": "code",
        "outputId": "25dd90ed-5ea9-40c7-e82b-b8ae79ff569d",
        "colab": {
          "base_uri": "https://localhost:8080/",
          "height": 208
        }
      },
      "source": [
        "rev = next(train_rev)\n",
        "tok_list = [token.text for token in nlp(rev)] \n",
        "tag_list = ['O' for token in nlp(rev)]\n",
        "matched_ents = [(i,item) for i, item in enumerate(tok_list) if item.lower() in [i[0] for i in ent_list + check_list]] \n",
        "#print(rev, tok_list, tag_list, matched_ents)\n",
        "\n",
        "ent_for_doc = []\n",
        "pattern_dict = {}\n",
        "for ent in matched_ents:\n",
        "  ent_tag = ''.join(list(set([tup[1] for tup in ent_list + check_list if tup[0] == ent[1].lower()])))\n",
        "  ent_for_doc.append((ent[0], ent[1], ent_tag))  \n",
        "  tag_list[ent[0]] = ent_tag\n",
        "print(ent_for_doc)\n",
        "#print(tag_list)\n",
        "entities = offsets_from_biluo_tags(nlp(rev), tag_list)\n",
        "print(entities)\n",
        "to_train_ents.append((rev, dict(entities = entities)))\n",
        "displacy.render(nlp(rev),'ent',jupyter=True)\n",
        "\n",
        "\n",
        "n_entities_to_be_added = int(input(\"How many entities are missing: \"))\n",
        "if n_entities_to_be_added == 0:\n",
        "  print('You entered {} Thanks. So no new entities to be considered'.format(n_entities_to_be_added))\n",
        "else:\n",
        "  for user_input in range(n_entities_to_be_added):\n",
        "    e_name = input('Provide the name of the entity to be added: ')\n",
        "    e_label = input('Provide the label of the entity to be added:')\n",
        "    print(e_name, e_label)\n",
        "    check_list.append((e_name, e_label))\n",
        "    pattern_list = []\n",
        "    pattern_dict = {}\n",
        "    id_str = ''\n",
        "    for word in e_name.lower().split():\n",
        "      token_dict = {}\n",
        "      token_dict['LOWER'] = word\n",
        "      pattern_list.append(token_dict)\n",
        "      id_str += '_' + word\n",
        "    if e_label[:2] == 'U_':\n",
        "      pattern_dict['label'] = e_label[2:]\n",
        "    else:\n",
        "      pattern_dict['label'] = e_label  \n",
        "    pattern_dict['pattern'] = pattern_list\n",
        "    if id_str[0] == '_':\n",
        "      id_str = id_str[1:]\n",
        "    pattern_dict['id'] = id_str\n",
        "    dump_jsonl([pattern_dict],'patterns.jsonl', append=True)\n",
        "    ruler = EntityRuler(nlp).from_disk(\"patterns.jsonl\")"
      ],
      "execution_count": 286,
      "outputs": [
        {
          "output_type": "stream",
          "text": [
            "[(2, 'waffles', 'U_dish'), (43, 'peanut butter cookie', 'U_dish')]\n",
            "[(10, 17, 'dish'), (189, 209, 'dish')]\n"
          ],
          "name": "stdout"
        },
        {
          "output_type": "display_data",
          "data": {
            "text/html": [
              "<div class=\"entities\" style=\"line-height: 2.5; direction: ltr\">The vegan waffles with ice cream (also vegan of course) are amazing! Even though I'm not a sweet tooth, this is very nice as it is not overly sweet. The ice cream options vary - the salted \n",
              "<mark class=\"entity\" style=\"background: #ddd; padding: 0.45em 0.6em; margin: 0 0.25em; line-height: 1; border-radius: 0.35em; box-decoration-break: clone; -webkit-box-decoration-break: clone\">\n",
              "    peanut butter cookie\n",
              "    <span style=\"font-size: 0.8em; font-weight: bold; line-height: 1; border-radius: 0.35em; text-transform: uppercase; vertical-align: middle; margin-left: 0.5rem\">dish</span>\n",
              "</mark>\n",
              " dough is home-made if available. In this picture they had Brownice's chocolate ice cream. The presentation is very nice too.</div>"
            ],
            "text/plain": [
              "<IPython.core.display.HTML object>"
            ]
          },
          "metadata": {
            "tags": []
          }
        },
        {
          "output_type": "stream",
          "text": [
            "How many entities are missing: 1\n",
            "Provide the name of the entity to be added: chocolate ice cream\n",
            "Provide the label of the entity to be added:U_dish\n",
            "chocolate ice cream U_dish\n",
            "Wrote 1 records to patterns.jsonl\n"
          ],
          "name": "stdout"
        }
      ]
    },
    {
      "cell_type": "code",
      "metadata": {
        "id": "GgOrTm3Qq00i",
        "colab_type": "code",
        "colab": {}
      },
      "source": [
        "ruler = EntityRuler(nlp).from_disk(\"patterns.jsonl\")"
      ],
      "execution_count": 0,
      "outputs": []
    },
    {
      "cell_type": "code",
      "metadata": {
        "id": "X2W5UjmSVV3b",
        "colab_type": "code",
        "colab": {
          "base_uri": "https://localhost:8080/",
          "height": 104
        },
        "outputId": "3e9df5e2-72a1-4af2-d540-7ed87705a695"
      },
      "source": [
        "check_list[-5:]"
      ],
      "execution_count": 173,
      "outputs": [
        {
          "output_type": "execute_result",
          "data": {
            "text/plain": [
              "[('brussels sprouts', 'U_vegetable'),\n",
              " ('soy sesame', 'U_condiment'),\n",
              " ('soya sesame', 'U_condiment'),\n",
              " ('squash', 'U_vegetable'),\n",
              " ('honey mustard sauce', 'U_condiment')]"
            ]
          },
          "metadata": {
            "tags": []
          },
          "execution_count": 173
        }
      ]
    },
    {
      "cell_type": "code",
      "metadata": {
        "id": "KYobzFRrImAK",
        "colab_type": "code",
        "colab": {
          "base_uri": "https://localhost:8080/",
          "height": 34
        },
        "outputId": "71ae29ce-882f-4e63-ce0a-6c10355d9a28"
      },
      "source": [
        "len(to_train_ents)"
      ],
      "execution_count": 92,
      "outputs": [
        {
          "output_type": "execute_result",
          "data": {
            "text/plain": [
              "51"
            ]
          },
          "metadata": {
            "tags": []
          },
          "execution_count": 92
        }
      ]
    },
    {
      "cell_type": "code",
      "metadata": {
        "id": "3UShE2sdsZAm",
        "colab_type": "code",
        "colab": {
          "base_uri": "https://localhost:8080/",
          "height": 34
        },
        "outputId": "46cb7365-a2e4-457f-889e-bf56418f6151"
      },
      "source": [
        "model = 'en_core_web_lg'\n",
        "\n",
        "\n",
        "\n",
        "\"\"\"Load the model, set up the pipeline and train the entity recognizer.\"\"\"\n",
        "if model is not None:\n",
        "    nlp = spacy.load(model)  # load existing spaCy model\n",
        "    print(\"Loaded model '%s'\" % model)\n",
        "else:\n",
        "    nlp = spacy.blank(\"en\")  # create blank Language class\n",
        "    print(\"Created blank 'en' model\")\n",
        "\n",
        "# nlp.create_pipe works for built-ins that are registered with spaCy\n",
        "if \"ner\" not in nlp.pipe_names:\n",
        "    ner = nlp.create_pipe(\"ner\")\n",
        "    nlp.add_pipe(ner, last=True)\n",
        "# otherwise, get it so we can add labels\n",
        "else:\n",
        "    ner = nlp.get_pipe(\"ner\")\n",
        "\n",
        "# add labels\n",
        "for _, annotations in to_train_ents:\n",
        "    for ent in annotations.get(\"entities\"):\n",
        "        ner.add_label(ent[2])"
      ],
      "execution_count": 141,
      "outputs": [
        {
          "output_type": "stream",
          "text": [
            "Loaded model 'en_core_web_lg'\n"
          ],
          "name": "stdout"
        }
      ]
    },
    {
      "cell_type": "code",
      "metadata": {
        "id": "PxZpmHnSsahQ",
        "colab_type": "code",
        "colab": {
          "base_uri": "https://localhost:8080/",
          "height": 539
        },
        "outputId": "047ba4f5-13e8-4593-eea6-cd21967cb449"
      },
      "source": [
        "ner.labels"
      ],
      "execution_count": 142,
      "outputs": [
        {
          "output_type": "execute_result",
          "data": {
            "text/plain": [
              "('FAC',\n",
              " 'seed',\n",
              " 'ORG',\n",
              " 'LAW',\n",
              " 'spice',\n",
              " 'QUANTITY',\n",
              " 'GPE',\n",
              " 'vegetableU_herb',\n",
              " 'PRODUCT',\n",
              " 'dish',\n",
              " 'PERSON',\n",
              " 'ORDINAL',\n",
              " 'fruit',\n",
              " 'WORK_OF_ART',\n",
              " 'condiment',\n",
              " 'CARDINAL',\n",
              " 'LOC',\n",
              " 'DATE',\n",
              " 'PERCENT',\n",
              " 'vegetableU_dish',\n",
              " 'mealU_dish',\n",
              " 'EVENT',\n",
              " 'meal',\n",
              " 'TIME',\n",
              " 'bread',\n",
              " 'LANGUAGE',\n",
              " 'vegetable',\n",
              " 'MONEY',\n",
              " 'herb',\n",
              " 'NORP')"
            ]
          },
          "metadata": {
            "tags": []
          },
          "execution_count": 142
        }
      ]
    },
    {
      "cell_type": "code",
      "metadata": {
        "id": "NTk7IpQDso5P",
        "colab_type": "code",
        "colab": {
          "base_uri": "https://localhost:8080/",
          "height": 34
        },
        "outputId": "103e186e-d3a4-455f-9a3a-edc9fd435289"
      },
      "source": [
        "len(to_train_ents)"
      ],
      "execution_count": 99,
      "outputs": [
        {
          "output_type": "execute_result",
          "data": {
            "text/plain": [
              "63"
            ]
          },
          "metadata": {
            "tags": []
          },
          "execution_count": 99
        }
      ]
    },
    {
      "cell_type": "code",
      "metadata": {
        "id": "6msp9lEOsjPt",
        "colab_type": "code",
        "colab": {
          "base_uri": "https://localhost:8080/",
          "height": 1000
        },
        "outputId": "d1b76839-f0c7-4473-c5ae-43be13fc30b2"
      },
      "source": [
        "clean_train_ents = trim_entity_spans(to_train_ents)"
      ],
      "execution_count": 143,
      "outputs": [
        {
          "output_type": "stream",
          "text": [
            "I keep going back again and again for the awesome customizable warm grain bowls at Autobus. They're the best way to stay fueled and light on your feet through the day. This bowl was packed full of my favorite fried chickpeas, steamed edamame, broccoli, and roasted carrots all topped with seeds and a delicious pesto. And a great deal for ten bucks! {'entities': [(83, 90, 'ORG'), (215, 224, 'vegetable'), (234, 241, 'vegetableU_dish'), (243, 251, 'vegetable'), (265, 272, 'vegetable'), (289, 294, 'seed'), (311, 316, 'dish'), (339, 348, 'MONEY')]}\n",
            "83 90 349\n",
            "215 224 349\n",
            "234 241 349\n",
            "243 251 349\n",
            "265 272 349\n",
            "289 294 349\n",
            "311 316 349\n",
            "339 348 349\n",
            "Nothing keeps me fueled like all the amazing people I’ve been meeting around the world working to make the planet a better place. But occasionally a guy has to eat, and I simply can’t find a more amazingly nutritious pick me up than a warm brown rice bowl at Autobus. The customization options are awesome and you’ll stay lit up for the rest of the day. And the plant based options are not only healthy but the least expensive! Check it out, edamame, broccoli, roasted carrots, air fried chickpeas, seeds and brown rice! {'entities': [(240, 250, 'dish'), (259, 266, 'ORG'), (442, 449, 'vegetableU_dish'), (451, 459, 'vegetable'), (469, 476, 'vegetable'), (488, 497, 'vegetable'), (499, 504, 'seed'), (509, 519, 'dish')]}\n",
            "240 250 520\n",
            "259 266 520\n",
            "442 449 520\n",
            "451 459 520\n",
            "469 476 520\n",
            "488 497 520\n",
            "499 504 520\n",
            "509 519 520\n",
            "What a great find for a healthy lunch! I really enjoyed the brown rice bowl - I added the crispy chickpeas, broccoli, seeds and avocado. All the ingredients tasted and looked very fresh.  The venue itself is bright and open with a very relaxed vibe. Not many like this in Singapore - I would definitely recommend making your way here for lunch. {'entities': [(32, 37, 'meal'), (60, 70, 'dish'), (97, 106, 'vegetable'), (108, 116, 'vegetable'), (118, 123, 'seed'), (128, 135, 'fruit'), (272, 281, 'GPE'), (338, 343, 'meal')]}\n",
            "32 37 344\n",
            "60 70 344\n",
            "97 106 344\n",
            "108 116 344\n",
            "118 123 344\n",
            "128 135 344\n",
            "272 281 344\n",
            "338 343 344\n",
            "This is honestly one of the best things I've eaten in Singapore. The menu at this place is all about picking the ingredients you like and combining with different grains or salad. The bowl pictured here had warm brown rice, edamame, asparagus, broccoli, crispy chickpeas (so good!), and basil pesto. {'entities': [(17, 20, 'CARDINAL'), (54, 63, 'GPE'), (173, 178, 'dish'), (212, 222, 'dish'), (224, 231, 'vegetableU_dish'), (233, 242, 'vegetable'), (244, 252, 'vegetable'), (261, 270, 'vegetable'), (287, 292, 'herb'), (293, 298, 'dish')]}\n",
            "17 20 299\n",
            "54 63 299\n",
            "173 178 299\n",
            "212 222 299\n",
            "224 231 299\n",
            "233 242 299\n",
            "244 252 299\n",
            "261 270 299\n",
            "287 292 299\n",
            "293 298 299\n",
            "Love my colourful bowl - phytonutrients yayyy! Base + 4 sides + topping + dressing for $11. Tip: Combine your order with a friend and buy the $20 for $15 fave voucher. So that's $8.50 for this bowl 😁 {'entities': []}\n",
            "I was STARVING when I ordered this, and I still couldn't finish it because the portion is just that huge! Was surprised to see that the menu changed yet again, not sure if it's a daily rotational thing but I prefer the previous one because this one no longer has the ratatouille or soy sesame sauce that I liked! #disappointed None of the new sauces really appealed to me. I tried the roasted sesame ginger sauce and it was okay, though I couldn't taste the ginger at all. The nut topping was kind of lame because it's just crushed peanuts which reminded me of #muachee except that it's not... The baby corn was labelled as \"Charred baby corn\" on the menu except that...IT'S NOT (or barely) #doubledisappointed Also they no longer offer $10 bowls, now it's $11 but instead of a half-sized portion of protein in the $10 bowl, you get a full sized portion so it's not that bad. {'entities': [(228, 231, 'CARDINAL'), (245, 248, 'CARDINAL'), (267, 278, 'dish'), (282, 298, 'condiment'), (393, 412, 'condiment'), (458, 464, 'spice'), (532, 539, 'seed'), (603, 607, 'vegetable'), (638, 642, 'vegetable')]}\n",
            "228 231 875\n",
            "245 248 875\n",
            "267 278 875\n",
            "282 298 875\n",
            "393 412 875\n",
            "458 464 875\n",
            "532 539 875\n",
            "603 607 875\n",
            "638 642 875\n",
            "I hadn't come here in a while after they raised their prices and since I can no longer remember what their old prices were, it was all good. The fried chickpeas and soya sesame sauce were great as usual but my new favourites were the butter corn (like an upgraded version of the cup corn sold on the streets) and the ratatouille. So yum! I can almost forgive them for raising their prices. Only the roasted pumpkin was kind of meh as it didn't taste roasted at all and was just...like normal :/ Oh and they forgot to give me one of the sides I picked so remember to check your bowl to make sure you have everything before you start eating! {'entities': [(151, 160, 'vegetable'), (165, 182, 'condiment'), (234, 240, 'condiment'), (241, 245, 'vegetable'), (283, 287, 'vegetable'), (317, 328, 'dish'), (407, 414, 'vegetable'), (525, 528, 'CARDINAL')]}\n",
            "151 160 639\n",
            "165 182 639\n",
            "234 240 639\n",
            "241 245 639\n",
            "283 287 639\n",
            "317 328 639\n",
            "407 414 639\n",
            "525 528 639\n",
            "As a fitness-focussed omnivore, one of my major challenges of eating a plant-based diet is that often restos don't offer enough protein in their plant-based options. I have no problem prepping healthy plant-based meals at home but when eating out at lunch the options are usually carb-heavy and unappetising. All this changed when I discovered Autobus.\n",
            "\n",
            "Autobus enabled me to get my macros from edamame, chickpeas, egg plus greens and smart carbs like quinoa and roasted squash. It's a win-win option and one I will turn to again and again. {'entities': [(32, 35, 'CARDINAL'), (250, 255, 'meal'), (344, 351, 'ORG'), (354, 361, 'ORG'), (395, 402, 'vegetableU_dish'), (404, 413, 'vegetable'), (415, 418, 'dish'), (424, 430, 'vegetable'), (452, 458, 'dish'), (471, 477, 'vegetable'), (505, 508, 'CARDINAL')]}\n",
            "32 35 540\n",
            "250 255 540\n",
            "344 351 540\n",
            "354 361 540\n",
            "395 402 540\n",
            "404 413 540\n",
            "415 418 540\n",
            "424 430 540\n",
            "452 458 540\n",
            "471 477 540\n",
            "505 508 540\n",
            "I can't get enough of the salads at autobus.  The ingredients are very fresh and high quality.  The chickpeas are the highlight- they are crispy and savory unlike any way I've had them before.  The salad is filling and good value for money. {'entities': [(36, 43, 'ORG'), (100, 109, 'vegetable'), (149, 155, 'herb'), (198, 203, 'dish')]}\n",
            "36 43 240\n",
            "100 109 240\n",
            "149 155 240\n",
            "198 203 240\n",
            "Get the crispy chickpeas - they’re delicious! Also had the fried corn, red pepper and mushrooms with the mesclun mix. Pretty filling, and the honey mustard sauce brought everything together. Yummy! {'entities': [(15, 24, 'vegetable'), (65, 69, 'vegetable'), (71, 81, 'vegetable'), (86, 95, 'vegetable'), (105, 112, 'dish'), (142, 161, 'condiment')]}\n",
            "15 24 197\n",
            "65 69 197\n",
            "71 81 197\n",
            "86 95 197\n",
            "105 112 197\n",
            "142 161 197\n",
            "Really fresh salad bowls from Autobus! Loved the customizable options that I get to choose from and it makes for a great lunch {'entities': [(13, 18, 'dish'), (30, 37, 'ORG'), (121, 126, 'meal')]}\n",
            "13 18 126\n",
            "30 37 126\n",
            "121 126 126\n",
            "Every component of the dish was delicious, I especially liked the fried chickpeas which were something different from the usual boiled kind. The highlight however, was the soy sesame sauce which brought the dish together perfectly. {'entities': [(72, 81, 'vegetable'), (172, 188, 'condiment')]}\n",
            "72 81 231\n",
            "172 188 231\n",
            "Fantastic quinoa bowl with soy sesame dressing and crispy fried chickpeas. Loved the presentation and ambiance--I'll definitely be coming back here again! {'entities': [(10, 16, 'dish'), (27, 37, 'condiment'), (64, 73, 'vegetable')]}\n",
            "10 16 154\n",
            "27 37 154\n",
            "64 73 154\n",
            "This acai bowl is just a bowl of delight. I had it as a dessert to share after a meal but I would order it as a main in the future. A good portion and a lot of fruits! Love it! {'entities': [(5, 9, 'dish'), (56, 63, 'mealU_dish')]}\n",
            "5 9 176\n",
            "56 63 176\n",
            "Amazing Pamelo salad - a mix of oranges and veggies. Very fresh and I can finish 2 at a time. I would advise anyone who loves salads to not miss this. Serves 2 people {'entities': [(8, 14, 'fruit'), (15, 20, 'dish'), (32, 39, 'fruit')]}\n",
            "8 14 166\n",
            "15 20 166\n",
            "32 39 166\n",
            "The roasted cauliflower at Commissary is delicious. It has all of the flavours of the cauliflower with a very nice and light pasilla sauce to dress the plate. The smokiness of the pasilla together with roasted almonds and the roasted cauliflower give the dish a lot of depth and complexity. A very good option. {'entities': [(12, 23, 'vegetable'), (86, 97, 'vegetable'), (125, 138, 'condiment'), (180, 187, 'dish'), (210, 217, 'seed'), (234, 245, 'vegetable')]}\n",
            "12 23 310\n",
            "86 97 310\n",
            "125 138 310\n",
            "180 187 310\n",
            "210 217 310\n",
            "234 245 310\n",
            "Super tasty and healthy (because it's baked, not fried!) falafels inside tucked inside a freshly baked yummy pita amongst a generous nest of vegetables.  Get it with the spicy yogurt sauce for a shiok kick.  Light aftertaste which doesn't leave you feeling bloated and thirsty. {'entities': [(57, 65, 'dish'), (109, 113, 'bread'), (176, 188, 'condiment')]}\n",
            "57 65 277\n",
            "109 113 277\n",
            "176 188 277\n",
            "Simple vegetarian sautéed rice noodles with organic greens and mushrooms for breakfast, great savory option for breakfast, the taste can be improved. {'entities': [(26, 38, 'dish'), (52, 58, 'vegetable'), (63, 72, 'vegetable'), (77, 86, 'meal'), (94, 100, 'herb'), (112, 121, 'meal')]}\n",
            "26 38 149\n",
            "52 58 149\n",
            "63 72 149\n",
            "77 86 149\n",
            "94 100 149\n",
            "112 121 149\n",
            "Heaps of brown rice, beehoon, and macaroni underneath the sauce. I didn't think this was particularly delicious maybe because the taste was quite one-dimensional. Not very value for money too ($10). And mostly carbs?? Lol. I wouldn't order it again. #crf {'entities': [(9, 19, 'dish'), (21, 28, 'dish'), (34, 42, 'dish'), (58, 63, 'condiment'), (146, 149, 'CARDINAL')]}\n",
            "9 19 254\n",
            "21 28 254\n",
            "34 42 254\n",
            "58 63 254\n",
            "146 149 254\n",
            "This is probably one of those dishes one can eat without really thinking twice. Caution, it is carb loaded but light at the same time as the restaurant uses brown rice. The taste of Browne rice mixture with macaroni and spaghetti along with the lentils. On top, the spread of tomato sauce with sprinkles of fried onions with the garlic sauce really hits the spot for me. The owners said this dish has a fun historic fact behind it. Apparently it originated in the mid 19th century, during a time when Egypt was a multi-cultural country in the middle of an economic boom. It was based on foods from India such as khichdi (lentils and rice) and Italy (macaroni). Over time the dish has evolved through Egyptian soldiers, then Egyptian citizens.Kushari used to be sold on food carts in its early years, and was introduced to restaurants later. If you like to try vegetarian food that is not only plants based then this will be your best choice. {'entities': [(17, 20, 'CARDINAL'), (37, 40, 'CARDINAL'), (157, 167, 'dish'), (189, 193, 'dish'), (207, 215, 'dish'), (220, 229, 'dish'), (245, 252, 'vegetable'), (276, 288, 'condiment'), (313, 319, 'vegetable'), (329, 341, 'condiment'), (468, 480, 'TIME'), (501, 506, 'GPE'), (598, 603, 'GPE'), (612, 619, 'dish'), (621, 628, 'vegetable'), (633, 637, 'dish'), (650, 658, 'dish'), (700, 708, 'NORP'), (724, 732, 'NORP'), (742, 749, 'dish')]}\n",
            "17 20 941\n",
            "37 40 941\n",
            "157 167 941\n",
            "189 193 941\n",
            "207 215 941\n",
            "220 229 941\n",
            "245 252 941\n",
            "276 288 941\n",
            "313 319 941\n",
            "329 341 941\n",
            "468 480 941\n",
            "501 506 941\n",
            "598 603 941\n",
            "612 619 941\n",
            "621 628 941\n",
            "633 637 941\n",
            "650 658 941\n",
            "700 708 941\n",
            "724 732 941\n",
            "742 749 941\n",
            "Greendot 🌱 |\n",
            "⠀⠀⠀⠀⠀⠀⠀⠀⠀\n",
            "Laksa 🍜\n",
            "Love their laksa!! 😋\n",
            "\n",
            "#crf {'entities': [(0, 8, 'ORG'), (23, 28, 'dish'), (42, 47, 'dish')]}\n",
            "0 8 57\n",
            "23 28 57\n",
            "42 47 57\n",
            "$7.50 for a bowl of laksa.\n",
            "Comes with mocked fish balls, taupok, bean sprouts and mushrooms.\n",
            "The laksa gravy can be top up without extra charges. {'entities': [(20, 25, 'dish'), (45, 55, 'dish'), (57, 63, 'dish'), (65, 77, 'vegetable'), (82, 91, 'vegetable'), (97, 102, 'dish')]}\n",
            "20 25 145\n",
            "45 55 145\n",
            "57 63 145\n",
            "65 77 145\n",
            "82 91 145\n",
            "97 102 145\n",
            "I love rice noodles and this option at Duddell's in Hong Kong was awesome. The rice noodles were so thin and yet had just the right amount of bite! I love when I visit Chinese restaurants with friends that are non-veg and they end up saying that my vegan dishes were the best thing! Just need to figure out something vegan that's better than duck at these places... But these noodles were definitely a hit at our table. The sesame seeds and veggies were perfect and for one of the less expensive dishes on the menu this was a huge portion that could feed 4. Also check out my dumpling review and restaurant review of Duddell's. Will be going back! {'entities': [(7, 19, 'dish'), (52, 61, 'GPE'), (79, 91, 'dish'), (168, 175, 'NORP'), (424, 430, 'spice'), (431, 436, 'seed'), (470, 473, 'CARDINAL'), (576, 584, 'dish')]}\n",
            "7 19 647\n",
            "52 61 647\n",
            "79 91 647\n",
            "168 175 647\n",
            "424 430 647\n",
            "431 436 647\n",
            "470 473 647\n",
            "576 584 647\n",
            "I wasn’t pretty excited to try this dish but unfortunently it was actually awful. It was very bitter and too vinegary...we didn’t even finish it.  There is some kind of bitter leafy green which we didn’t like.  Would definitely pass on this unless you have an acquired taste for whatever is in here! {'entities': []}\n",
            "Green salad leaves with sprouted seeds, cranberries, beetroot, orange cashew dressing, and macadamia cheese. This was kinda “meh” to me. The dressing was quite heavy and tasted really pungent. This salad didn’t feel light or healthy after eating. I mean, it wasn’t horrible but I’ve definitely had better salads! {'entities': [(6, 11, 'dish'), (33, 38, 'seed'), (40, 51, 'fruit'), (53, 61, 'vegetable'), (70, 85, 'condiment'), (91, 100, 'seed'), (198, 203, 'dish')]}\n",
            "6 11 312\n",
            "33 38 312\n",
            "40 51 312\n",
            "53 61 312\n",
            "70 85 312\n",
            "91 100 312\n",
            "198 203 312\n",
            "Absolutely loved this salad which to me was a take on a kale Caesar, it was the best thing we had there.  I really like the cashew dressing and the kale was the perfect texture.  It was also pretty light despite cashew dressing and macadamia cheese.  Would order it again! {'entities': [(22, 27, 'dish'), (56, 60, 'vegetable'), (61, 67, 'dish'), (124, 139, 'condiment'), (148, 152, 'vegetable'), (212, 227, 'condiment'), (232, 241, 'seed')]}\n",
            "22 27 272\n",
            "56 60 272\n",
            "61 67 272\n",
            "124 139 272\n",
            "148 152 272\n",
            "212 227 272\n",
            "232 241 272\n",
            "This dish wasn’t very spicy despite the Szechuan peppercorns. I really liked to XO sauce as well, but the dumpling wrapper was a bit on the soggy side so I would rate it lower for that...filling was good though.  Would give it another shot maybe it was a one off. {'entities': [(40, 60, 'spice'), (80, 88, 'condiment'), (106, 114, 'dish'), (255, 258, 'CARDINAL')]}\n",
            "40 60 263\n",
            "80 88 263\n",
            "106 114 263\n",
            "255 258 263\n",
            "Great steamed vegetable dumplings. The dumpling wrapper was really thin and clear but sturdy enough to hold a bundle of diced veggies. Had these served with diced red chilies which made the dumplings explosive. Loved these! {'entities': [(24, 33, 'dish'), (39, 47, 'dish'), (163, 174, 'spice'), (190, 199, 'dish')]}\n",
            "24 33 223\n",
            "39 47 223\n",
            "163 174 223\n",
            "190 199 223\n",
            "Not sure on the nutrition of this one but hey! It’s not like fried chicken was ever healthy! Freaking looks, smells and tastes like gourmet KFC. Portion is massive so best to share if you want to feel good about yourself at the end of the meal. #jaan {'entities': [(34, 37, 'CARDINAL'), (61, 74, 'dish'), (140, 143, 'ORG')]}\n",
            "34 37 250\n",
            "61 74 250\n",
            "140 143 250\n",
            "You get huge portions here but I'm not a huge fan of the chicken on it's own. Try a burger!\n",
            "\n",
            "#animalsnow {'entities': [(57, 64, 'dish'), (84, 90, 'dish')]}\n",
            "57 64 104\n",
            "84 90 104\n",
            "Some of the best vegan chicken I've tasted. Would defiantly recommend! {'entities': [(23, 30, 'dish')]}\n",
            "23 30 70\n",
            "Delicioso 'pollo' frito: hacia mucho tiempo queria probar la comida de Temple of seitan y ha merecido la pena\n",
            "#Elhogar {'entities': [(81, 87, 'dish')]}\n",
            "81 87 118\n",
            "Great seasoning and crispy crust, but it’s simply a big piece of fried seitan. The pieces of seitan are too big so there coating to seitan ratio is off. {'entities': [(71, 77, 'dish'), (93, 99, 'dish'), (132, 138, 'dish')]}\n",
            "71 77 152\n",
            "93 99 152\n",
            "132 138 152\n",
            "Really unique concept - had some of my omnivore friends a bit confused; finding it a tad difficult to admit it tasted pretty darn close to the real thing! {'entities': []}\n",
            "This salad was described to us by the manager as kickass, and I can’t help but agree! This salad is filling, tasty, and healthy all at the same time. The mix of arugula and baby brussel sprouts was super nutritious; but then pair that with freshly-made pico de gallo, spicy pecans, and craisins - and it became something I would crave for! The crunch of the pecans and the tangy sweetness of the cranberries made this salad an entree on its own, not a side dish. Easily veganize this salad by omitting the feta cheese. The portion is definitely big enough for sharing with 3-4 people if you like. {'entities': [(5, 10, 'dish'), (91, 96, 'dish'), (161, 168, 'vegetable'), (178, 193, 'vegetable'), (253, 266, 'dish'), (274, 280, 'seed'), (358, 364, 'seed'), (396, 407, 'fruit'), (418, 423, 'dish'), (427, 433, 'meal'), (452, 461, 'meal'), (484, 489, 'dish'), (506, 510, 'dish')]}\n",
            "5 10 596\n",
            "91 96 596\n",
            "161 168 596\n",
            "178 193 596\n",
            "253 266 596\n",
            "274 280 596\n",
            "358 364 596\n",
            "396 407 596\n",
            "418 423 596\n",
            "427 433 596\n",
            "452 461 596\n",
            "484 489 596\n",
            "506 510 596\n",
            "As a classic burger cafe, I was excited to hear that Hard Rock had two vegetarian burger offerings on their menu, and opted for the vegan Chickpea patty. Although the yogurt sauce and bread were not vegan (each bun had an egg-white glazing), the patty and other toppings still made for a satisfying meal. I’ve tried a number of chickpea patties in the past, but this one had more texture and flavor than any of the others I’ve tried. The house-made combination of chickpeas with red skin potato, spinach, chili peppers, cilantro, and spices gave the burger a hearty character, and the greens added color and reminded me that the meal was a healthy choice. On the outside of the burger was a crispy layer that was grilled to a golden brown, and I enjoyed having the slightly different textures in the patty. As you’d expect from a restaurant like the Hard Rock, the fries were killer (always a good vegan option), and made for a great combination with the burger. In the future, I would love to see the Hard Rock add vegan buns to their burger selection. {'entities': [(13, 19, 'dish'), (53, 62, 'ORG'), (82, 88, 'dish'), (138, 146, 'vegetable'), (147, 152, 'dish'), (167, 179, 'condiment'), (222, 225, 'dish'), (246, 251, 'dish'), (328, 336, 'vegetable'), (337, 344, 'dish'), (367, 370, 'CARDINAL'), (464, 473, 'vegetable'), (488, 494, 'vegetable'), (496, 503, 'vegetable'), (505, 510, 'fruit'), (511, 518, 'condiment'), (520, 528, 'vegetableU_herb'), (550, 556, 'dish'), (585, 591, 'vegetable'), (678, 684, 'dish'), (800, 805, 'dish'), (850, 859, 'ORG'), (865, 870, 'dish'), (955, 961, 'dish'), (1002, 1011, 'ORG'), (1036, 1042, 'dish')]}\n",
            "13 19 1053\n",
            "53 62 1053\n",
            "82 88 1053\n",
            "138 146 1053\n",
            "147 152 1053\n",
            "167 179 1053\n",
            "222 225 1053\n",
            "246 251 1053\n",
            "328 336 1053\n",
            "337 344 1053\n",
            "367 370 1053\n",
            "464 473 1053\n",
            "488 494 1053\n",
            "496 503 1053\n",
            "505 510 1053\n",
            "511 518 1053\n",
            "520 528 1053\n",
            "550 556 1053\n",
            "585 591 1053\n",
            "678 684 1053\n",
            "800 805 1053\n",
            "850 859 1053\n",
            "865 870 1053\n",
            "955 961 1053\n",
            "1002 1011 1053\n",
            "1036 1042 1053\n",
            "Great news! Hard Rock Café has introduced a meatless a.k.a. vegan menu for a limited time. You’ll be surprised to find heaps of options to pick from, but I went for the Grilled Ratatouille Wrap...still can’t stop thinking about it! The wrap was filled with chunks of juicy vegetables such a yellow zucchini, green zucchini, baby arugula & eggplant topped with Sriracha mayonnaise that was full of flavors. The dish came along with a bowl of salad which added a nice crunch with fresh lettuce and colorful veggies. Overall, this menu is full of great, meat-free options. But my personal favorite was the Ratatouille wrap. Must try it out if you haven’t already! {'entities': [(12, 26, 'ORG'), (177, 188, 'dish'), (291, 306, 'vegetable'), (308, 322, 'vegetable'), (329, 336, 'vegetable'), (339, 347, 'vegetable'), (360, 368, 'condiment'), (369, 379, 'condiment'), (441, 446, 'dish'), (484, 491, 'vegetable'), (551, 555, 'dish'), (603, 614, 'dish')]}\n",
            "12 26 660\n",
            "177 188 660\n",
            "291 306 660\n",
            "308 322 660\n",
            "329 336 660\n",
            "339 347 660\n",
            "360 368 660\n",
            "369 379 660\n",
            "441 446 660\n",
            "484 491 660\n",
            "551 555 660\n",
            "603 614 660\n",
            "It was great to see the Hard Rock adding a vegetarian option for fajitas on their main menu, and after asking our waiter about a vegan version, he was happy to accommodate. The house-made guacamole was fantastic, and with two generous scoops, its fresh and lemony taste really added a lot to the fajitas as a whole. Accompanying the veggies was an excellent pico de gallo and some warmed tortillas, which formed a great packaging for the vegetable fillings. While the texture and variety of the veggies was great, they would have been even better with more spices and flavor. I also feel that fajitas are best with ample onions and peppers, and would love to see a spread that brings out those more, but that might also just be personal preference. Overall, the fajitas are a decent vegetarian/vegan option, and were filling, delicious, and very healthy. Would definitely order again in the future! {'entities': [(24, 33, 'ORG'), (65, 72, 'dish'), (188, 197, 'dish'), (296, 303, 'dish'), (358, 371, 'dish'), (388, 397, 'dish'), (593, 600, 'dish'), (621, 627, 'vegetable'), (632, 639, 'condiment'), (762, 769, 'dish')]}\n",
            "24 33 898\n",
            "65 72 898\n",
            "188 197 898\n",
            "296 303 898\n",
            "358 371 898\n",
            "388 397 898\n",
            "593 600 898\n",
            "621 627 898\n",
            "632 639 898\n",
            "762 769 898\n",
            "Estaba piola🙄 Creo que no soy muy fan de la pimienta y la textura del mushroom no me gusto🤷🏻‍♀️\n",
            "Pero todo lo demas que he comido aca es muy muy rico! Y la Onda del lugar me encanta💚 {'entities': [(44, 52, 'spice'), (70, 78, 'vegetable')]}\n",
            "44 52 181\n",
            "70 78 181\n",
            "yass!! Love the sauce! My non-veg friend’s first time having WDSB food and said it’s gooooood !! I would do this w/o onions for myself!!  (sorry for the bad picture) {'entities': [(16, 21, 'condiment'), (43, 48, 'ORDINAL'), (61, 65, 'ORG'), (117, 123, 'vegetable')]}\n",
            "16 21 165\n",
            "43 48 165\n",
            "61 65 165\n",
            "117 123 165\n",
            "One of my favorite food at WDSB! Various types of vegetables can be found in the burger, generous amount of the main ingredient -- monkeyhead mushroom, also comes with two sides in great portion! {'entities': [(0, 3, 'CARDINAL'), (27, 31, 'ORG'), (81, 87, 'dish'), (131, 150, 'vegetable')]}\n",
            "0 3 195\n",
            "27 31 195\n",
            "81 87 195\n",
            "131 150 195\n",
            "Black pepper seasoning is so yummy! This time around, the pasta was too al dente, could have used another 2 minutes of cooking. {'entities': [(6, 12, 'condiment'), (58, 63, 'dish')]}\n",
            "6 12 127\n",
            "58 63 127\n",
            "My friends felt that they could hold up on the black pepper cause it overpowered the taste of the monkeyhead mushrooms and other ingredients. They really like the potatoes and seaweed chips though! :) #burger #monkeyheadmushroom #lionsmanemushroom #seaweedchips #potato {'entities': [(53, 59, 'condiment'), (98, 108, 'vegetable'), (109, 118, 'vegetable'), (163, 171, 'vegetable'), (176, 189, 'dish'), (202, 208, 'dish'), (263, 269, 'vegetable')]}\n",
            "53 59 269\n",
            "98 108 269\n",
            "109 118 269\n",
            "163 171 269\n",
            "176 189 269\n",
            "202 208 269\n",
            "263 269 269\n",
            "The monkey head mushrooms were really yummy & flavourful, and the toasted bun was super crispy & yummy as well :3 Comes with seaweed crackers & roasted baby potatoes! {'entities': [(16, 25, 'vegetable'), (125, 141, 'dish'), (157, 165, 'vegetable')]}\n",
            "16 25 166\n",
            "125 141 166\n",
            "157 165 166\n",
            "The monkeyhead mushroom burger with black pepper sauce and avocado, lettuce and tomato is very tasty and comes with 2 sides of your choice! I recommend the seaweed crackers as they add a nice crunch. {'entities': [(4, 23, 'vegetable'), (24, 30, 'dish'), (42, 48, 'condiment'), (49, 54, 'condiment'), (59, 66, 'fruit'), (68, 75, 'vegetable'), (80, 86, 'fruit'), (156, 172, 'dish')]}\n",
            "4 23 199\n",
            "24 30 199\n",
            "42 48 199\n",
            "49 54 199\n",
            "59 66 199\n",
            "68 75 199\n",
            "80 86 199\n",
            "156 172 199\n",
            "Got the Gula Melaka waffles with ice cream cause I was feeling especially indulgent on that day. Didn’t know the ice cream was going to be peanut butter flavoured otherwise I probably wouldn’t have ordered it. BUT I’m so glad it came because it was absolutely delicious and paired well with the waffles and Gula Melaka. {'entities': [(8, 19, 'condiment'), (20, 27, 'dish'), (33, 42, 'dish'), (113, 122, 'dish'), (139, 152, 'dish'), (295, 302, 'dish'), (307, 318, 'condiment')]}\n",
            "8 19 319\n",
            "20 27 319\n",
            "33 42 319\n",
            "113 122 319\n",
            "139 152 319\n",
            "295 302 319\n",
            "307 318 319\n",
            "Oh this was so good, my non vegan friend enjoyed it so much. Peanut butter cookie dough ice cream! I just had to be the annoying vegan and told him that this was made without animal products, it’s healthier so feel free to eat a lot  🤣 #bestpicks {'entities': [(61, 81, 'dish'), (88, 97, 'dish')]}\n",
            "61 81 246\n",
            "88 97 246\n",
            "It was my first time having vegan waffles but I loved the texture of the waffles. The waffles were also served warm and delicious. The ice cream tested great, especially with the peanut butter bits that added a nice texture. Would recommend getting the cold ice cream to go with the warm waffles! {'entities': [(10, 15, 'ORDINAL'), (34, 41, 'dish'), (73, 80, 'dish'), (86, 93, 'dish'), (135, 144, 'dish'), (179, 192, 'dish'), (258, 267, 'dish'), (288, 295, 'dish')]}\n",
            "10 15 296\n",
            "34 41 296\n",
            "73 80 296\n",
            "86 93 296\n",
            "135 144 296\n",
            "179 192 296\n",
            "258 267 296\n",
            "288 295 296\n",
            "I thought blueberry ice-cream was one flavour and lavender ice-cream was another. So when I ordered I was super excited about blueberry ice-cream, but the flavours are mixed so I thought what the hell. Let's try something new! They are a good mix of flavours but personally I wouldn't order again as the lavender flavour was too strong for me. Definitely worth a try though and the waffles were seriously fluffy! {'entities': [(10, 19, 'fruit'), (34, 37, 'CARDINAL'), (50, 58, 'vegetableU_herb'), (126, 135, 'fruit'), (304, 312, 'vegetableU_herb'), (382, 389, 'dish')]}\n",
            "10 19 412\n",
            "34 37 412\n",
            "50 58 412\n",
            "126 135 412\n",
            "304 312 412\n",
            "382 389 412\n",
            "I'm not a big fan of peanut butter things, even though I love peanut butter on toast. But this was pretty good, the waffles are seriously fluffy! {'entities': [(21, 34, 'dish'), (62, 75, 'dish'), (116, 123, 'dish')]}\n",
            "21 34 145\n",
            "62 75 145\n",
            "116 123 145\n",
            "This was nice, haven’t had waffles since going vegan. Not such a fan of fruity ice cream though. {'entities': [(27, 34, 'dish'), (79, 88, 'dish')]}\n",
            "27 34 96\n",
            "79 88 96\n",
            "Peaches. There were peach bits in the mango coconut ice cream (not for the coconut-faint-hearted). \n",
            "\n",
            "My favourite part was the waffles. So fluffeh and soft, but crisp to the bite and sweet enough to finish another two more. {'entities': [(20, 25, 'fruit'), (38, 43, 'fruit'), (44, 61, 'dish'), (75, 82, 'fruit'), (127, 134, 'dish'), (161, 166, 'dish')]}\n",
            "20 25 223\n",
            "38 43 223\n",
            "44 61 223\n",
            "75 82 223\n",
            "127 134 223\n",
            "161 166 223\n",
            "Do I even need to say anth about these waffles. They were SO GOOD 😭 please do yourselves a favour and go try them! {'entities': [(39, 46, 'dish')]}\n",
            "39 46 114\n",
            "Best vegan #waffles in Singapore. Period. Complete your life now by eating this. It made me feel like this cat. #bestpicks #sgdesserts {'entities': [(12, 19, 'dish'), (23, 32, 'GPE')]}\n",
            "12 19 134\n",
            "23 32 134\n",
            "These waffles were so on point! Hot and freshly made (i hate eating stale waffles!), crispy on the outside and fluffy on the inside 😍Would have been good enough just with the maple syrup drizzled over, but I really enjoyed the passionfruit coconut ice cream too! I liked that it wasn't too sour and had the right balance of sweetness and tanginess 💯 {'entities': [(6, 13, 'dish'), (74, 81, 'dish'), (175, 186, 'dish'), (227, 239, 'fruit'), (240, 257, 'dish')]}\n",
            "6 13 349\n",
            "74 81 349\n",
            "175 186 349\n",
            "227 239 349\n",
            "240 257 349\n",
            "First time trying vegan waffles and these were so fluffy and yummy. The ice cream was alright, I am just not into sour ice cream, so I will give the passionfruit ice cream a miss next time. 10/10 for the waffles though! {'entities': [(0, 5, 'ORDINAL'), (24, 31, 'dish'), (72, 81, 'dish'), (119, 128, 'dish'), (149, 161, 'fruit'), (162, 171, 'dish'), (204, 211, 'dish')]}\n",
            "0 5 219\n",
            "24 31 219\n",
            "72 81 219\n",
            "119 128 219\n",
            "149 161 219\n",
            "162 171 219\n",
            "204 211 219\n",
            "These waffles were everythingggg, so fluffy, still cant believe they’re vegan🤤. The ice cream was really good too, although I’m not a huge fan of passion fruit but that’s just my personal taste. {'entities': [(6, 13, 'dish'), (84, 93, 'dish'), (146, 159, 'fruit')]}\n",
            "6 13 194\n",
            "84 93 194\n",
            "146 159 194\n",
            "Another stunner of a dessert dish from the best plant based cafe in SG! Beautifully tangy ice cream which complements the *very* fluffy waffles. Think it’s safe to say these went down quickly😋 {'entities': [(21, 28, 'mealU_dish'), (90, 99, 'dish'), (136, 143, 'dish')]}\n",
            "21 28 192\n",
            "90 99 192\n",
            "136 143 192\n",
            "Had mine with Peanut Butter ice cream.  Probably this was the best PB ice cream I've ever had. It had PB chuncks inside. 😍 \n",
            "And heyy.... The waffle was amazing. My omni friend said it's the best waffle she have ever had. \n",
            "Soft and chrispy.. I'm amazed. 🌹🌹🌹 {'entities': [(14, 27, 'dish'), (28, 37, 'dish'), (70, 79, 'dish'), (141, 147, 'dish'), (195, 201, 'dish')]}\n",
            "14 27 256\n",
            "28 37 256\n",
            "70 79 256\n",
            "141 147 256\n",
            "195 201 256\n",
            "$7.50! ate this again but this time with chocolate ice cream and a cousin who hasn’t eaten waffles in 2 years because of his egg allergy:”) he enjoyed a lot and devoured it so fast!!! the waffles were once again amazing, but didn’t have as good a crunch as the previous time I came. chocolate ice cream had a pretty strong coconut flavour, which I didn’t mind because I like coconut but my sister doesn’t! the peanut butter cookie dough one didn’t have as much coconut flavour. overall amazing waffles :”D {'entities': [(41, 60, 'dish'), (91, 98, 'dish'), (125, 128, 'dish'), (188, 195, 'dish'), (283, 302, 'dish'), (323, 330, 'fruit'), (375, 382, 'fruit'), (410, 430, 'dish'), (437, 440, 'CARDINAL'), (461, 468, 'fruit'), (494, 501, 'dish')]}\n",
            "41 60 505\n",
            "91 98 505\n",
            "125 128 505\n",
            "188 195 505\n",
            "283 302 505\n",
            "323 330 505\n",
            "375 382 505\n",
            "410 430 505\n",
            "437 440 505\n",
            "461 468 505\n",
            "494 501 505\n",
            "$7.50 for one entire Belgian waffle with ice cream and maple syrup!! (basically four quarters even though it looks like there’s only two aha) got the peanut cookie dough ice cream AND IT WAS GOOD. waffles were cooked to perfection and honestly couldn’t tell it was vegan:”) texture was just like how I love my waffles - crispy on the outside, thick and fluffy on the inside! maple syrup added a good sweetness:D ice cream was pretty good but my friend didn’t like it as much because she isn’t used to salty-sweet ice cream HAHA but overall pretty good👌 {'entities': [(10, 13, 'CARDINAL'), (21, 28, 'NORP'), (29, 35, 'dish'), (41, 50, 'dish'), (55, 66, 'dish'), (170, 179, 'dish'), (197, 204, 'dish'), (310, 317, 'dish'), (375, 386, 'dish'), (412, 421, 'dish'), (513, 522, 'dish')]}\n",
            "10 13 552\n",
            "21 28 552\n",
            "29 35 552\n",
            "41 50 552\n",
            "55 66 552\n",
            "170 179 552\n",
            "197 204 552\n",
            "310 317 552\n",
            "375 386 552\n",
            "412 421 552\n",
            "513 522 552\n",
            "Ice cream is rich & creamy & comes with generous chunks of sweetened peanut butter + maple syrup. The waffles are the soft, old-school kind you’ll get from the neighbourhood bakery :) {'entities': [(0, 9, 'dish'), (69, 82, 'dish'), (85, 96, 'dish'), (102, 109, 'dish')]}\n",
            "0 9 183\n",
            "69 82 183\n",
            "85 96 183\n",
            "102 109 183\n",
            "Simple and delicious - I got the plain waffle with dark chocolate ice cream 😊 {'entities': [(39, 45, 'dish'), (56, 75, 'dish')]}\n",
            "39 45 77\n",
            "56 75 77\n",
            "Zenna has done It again!\n",
            "This time plain waffles with beautifully caramelized bananas and a hint of syrup drizzled over.\n",
            "Might be my favourite yet!\n",
            "Not overly sweet and honestly perfect to add ice cream to - which I did!! \n",
            "I’d recommend this as long as you are a banana fan. One you can’t not try at least once!\n",
            "#dessert #comfortfood {'entities': [(41, 48, 'dish'), (78, 85, 'fruit'), (100, 105, 'dish'), (193, 202, 'dish'), (263, 269, 'fruit'), (275, 278, 'CARDINAL'), (313, 320, 'mealU_dish')]}\n",
            "41 48 333\n",
            "78 85 333\n",
            "100 105 333\n",
            "193 202 333\n",
            "263 269 333\n",
            "275 278 333\n",
            "313 320 333\n",
            "This vegan waffle is so yummy. I love the texture. Make sure you eat it while it is still hot. #crfsg {'entities': [(11, 17, 'dish')]}\n",
            "11 17 101\n",
            "Always so fluffy and so light, just like traditional waffles. Not too greasy and tastes practically like the non vegan version. Ice cream depends on the day but has never disappointed {'entities': [(53, 60, 'dish'), (128, 137, 'dish')]}\n",
            "53 60 183\n",
            "128 137 183\n",
            "Hazelnut ice cream tasted familiar 😂 went really well with the waffles! Not too sweet, crispy sIdes and soft insides ☺️ {'entities': [(0, 8, 'seed'), (9, 18, 'dish'), (63, 70, 'dish')]}\n",
            "0 8 119\n",
            "9 18 119\n",
            "63 70 119\n",
            "Great waffles, amazing Dutch chocolate ice cream! This place has so much more than salads. {'entities': [(6, 13, 'dish'), (23, 28, 'NORP'), (29, 48, 'dish')]}\n",
            "6 13 90\n",
            "23 28 90\n",
            "29 48 90\n",
            "The vegan waffles with ice cream (also vegan of course) are amazing! Even though I'm not a sweet tooth, this is very nice as it is not overly sweet. The ice cream options vary - the salted peanut butter cookie dough is home-made if available. In this picture they had Brownice's chocolate ice cream. The presentation is very nice too. {'entities': [(10, 17, 'dish'), (23, 32, 'dish'), (153, 162, 'dish'), (189, 209, 'dish'), (279, 298, 'dish')]}\n",
            "10 17 334\n",
            "23 32 334\n",
            "153 162 334\n",
            "189 209 334\n",
            "279 298 334\n",
            "Grassroots Pantry launched a new Autumn menu featuring a Chinese classic to warm the belly and inspire the palates of those wanting to partake in this fun meal tradition. Yunnan Hot Pot features seasonal wild mushrooms, kelp, mung bean noodles, and greens in five-spice tonic broth and truffle yolk sauce. Delicious! {'entities': [(57, 64, 'NORP'), (178, 185, 'dish'), (209, 218, 'vegetable'), (226, 235, 'vegetable'), (249, 255, 'vegetable'), (299, 304, 'condiment')]}\n",
            "57 64 316\n",
            "178 185 316\n",
            "209 218 316\n",
            "226 235 316\n",
            "249 255 316\n",
            "299 304 316\n",
            "Loved these vegan skewers at TokyoLima in HK. Combination of portobello mushrooms and eggplant served with a miso mayo, charred leeks and pickled ginger. I loved the simplicity of the grilled mushrooms and eggplant, they weren't battered or drenched in sauce, but simply grilled and with just the right amount of bite. My non-veg friends at the table loved the mushrooms and said they'd be a great alternative to some of the non-veg food they had ordered. Overall a great dish. {'entities': [(61, 81, 'vegetable'), (86, 94, 'vegetable'), (109, 113, 'dish'), (114, 118, 'condiment'), (128, 133, 'vegetable'), (146, 152, 'spice'), (192, 201, 'vegetable'), (206, 214, 'vegetable'), (253, 258, 'condiment'), (361, 370, 'vegetable')]}\n",
            "61 81 477\n",
            "86 94 477\n",
            "109 113 477\n",
            "114 118 477\n",
            "128 133 477\n",
            "146 152 477\n",
            "192 201 477\n",
            "206 214 477\n",
            "253 258 477\n",
            "361 370 477\n",
            "Loved the sweet potato fries at TokyoLima which get high marks for taste and originality but they were a bit expensive for the small amount of fries and the mayo they come with isn't vegan. The combination of regular long skinny fries and chips was really great and in spite of being fried they were full of that unique and really inviting sweet potato scent and color. Wish I had taken a photo! {'entities': [(10, 28, 'dish'), (143, 148, 'dish'), (157, 161, 'condiment'), (229, 234, 'dish'), (239, 244, 'dish'), (340, 352, 'vegetable')]}\n",
            "10 28 395\n",
            "143 148 395\n",
            "157 161 395\n",
            "229 234 395\n",
            "239 244 395\n",
            "340 352 395\n",
            "One of my favourites — absolutely love this dish. With crunchy veggies, fried rice, and a delicious sauce, I would happily eat this every time I visit. {'entities': [(0, 3, 'CARDINAL'), (72, 82, 'dish'), (100, 105, 'condiment')]}\n",
            "0 3 151\n",
            "72 82 151\n",
            "100 105 151\n",
            "This was hands down my favorite dish of the night at TokyoLima. Traditional Peruvian rice that with delicious grilled vegetables. The rice was so perfectly charred and was mixed with snow beans which gave the dish a really deep aroma and texture. If you're going to order one thing at TokyoLima go for this rice and the vegan okra tempura rolls. Both are delicious! {'entities': [(85, 89, 'dish'), (134, 138, 'dish'), (188, 193, 'vegetable'), (272, 275, 'CARDINAL'), (307, 311, 'dish'), (326, 330, 'vegetable'), (331, 338, 'dish')]}\n",
            "85 89 365\n",
            "134 138 365\n",
            "188 193 365\n",
            "272 275 365\n",
            "307 311 365\n",
            "326 330 365\n",
            "331 338 365\n",
            "Amazing sushi rolls with tempura okra, cucumber and shitake mushrooms. These were absolutely delicious. They used to make this vegan option with beets and avocado which was ok but the fried okra and cucumber has really taken this option up another level! Wish I had taken a photo, if there's anyone else in HK that has a photo of these please share! {'entities': [(8, 13, 'dish'), (25, 32, 'dish'), (33, 37, 'vegetable'), (39, 47, 'fruit'), (60, 69, 'vegetable'), (145, 150, 'vegetable'), (155, 162, 'fruit'), (190, 194, 'vegetable'), (199, 207, 'fruit')]}\n",
            "8 13 349\n",
            "25 32 349\n",
            "33 37 349\n",
            "39 47 349\n",
            "60 69 349\n",
            "145 150 349\n",
            "155 162 349\n",
            "190 194 349\n",
            "199 207 349\n",
            "The lentil coquette burger is a satisfying meal. The burger is a mix of lentils with mushrooms, quinoa and some other veggies stacked on a fresh bun.  You also get 2 sides (oops I ate most of the spiced potatoes before taking the pic) that are very good as well.  All the food at Real Food is made fresh, on demand, and you can really taste the difference! {'entities': [(20, 26, 'dish'), (53, 59, 'dish'), (72, 79, 'vegetable'), (85, 94, 'vegetable'), (96, 102, 'dish'), (203, 211, 'vegetable')]}\n",
            "20 26 356\n",
            "53 59 356\n",
            "72 79 356\n",
            "85 94 356\n",
            "96 102 356\n",
            "203 211 356\n",
            "It has a nice mix of lentils, quinoa with a nice flavor.  Goes well with the sauce they put on top and comes with choice of two sides. {'entities': [(21, 28, 'vegetable'), (30, 36, 'dish'), (77, 82, 'condiment')]}\n",
            "21 28 134\n",
            "30 36 134\n",
            "77 82 134\n",
            "I love the dumpling soup at real food, it is my go to when I want something cozy.  It's a simple but flavorful clear broth, baby bok choy greens, and 5 large dumplings filled with mixed veggies and mushrooms.  I eat this every time I got Real Food, and I appreciate that it's consistently good. Pro tip: ask for some chili sauce to give it a little kick! {'entities': [(11, 19, 'dish'), (20, 24, 'dish'), (129, 137, 'vegetable'), (138, 144, 'vegetable'), (158, 167, 'dish'), (198, 207, 'vegetable'), (317, 322, 'fruit'), (323, 328, 'condiment')]}\n",
            "11 19 354\n",
            "20 24 354\n",
            "129 137 354\n",
            "138 144 354\n",
            "158 167 354\n",
            "198 207 354\n",
            "317 322 354\n",
            "323 328 354\n",
            "This is one of the best dumpling soup!  The dumplings have a really nice filling and texture.  It could be more filling and nutritionally balanced so I usually eat it as a starter for something else. {'entities': [(8, 11, 'CARDINAL'), (24, 32, 'dish'), (33, 37, 'dish'), (44, 53, 'dish')]}\n",
            "8 11 199\n",
            "24 32 199\n",
            "33 37 199\n",
            "44 53 199\n",
            "Replace the crispy patty with impossible. Picked lettuce wrap over bun. Belly satisfying. All the creamy shrooms deliciousness with my favourite vegan sunny side up. Wish it is more affordable so I can enjoy it more often. 😎 {'entities': [(19, 24, 'dish'), (49, 56, 'vegetable')]}\n",
            "19 24 224\n",
            "49 56 224\n",
            "The burger patty was crispy and satisfying with every bite! Its a messy burger to eat but definitely one that's worth the trouble. They also have an option to change the party to impossible meat but I honestly preferred the original. My only regret is trying to be too healthy and going for the broccoli instead of fries. I love broccoli but there's no way it can replace fries. {'entities': [(4, 10, 'dish'), (11, 16, 'dish'), (72, 78, 'dish'), (101, 104, 'CARDINAL'), (190, 194, 'dish'), (295, 303, 'vegetable'), (315, 320, 'dish'), (329, 337, 'vegetable'), (372, 377, 'dish')]}\n",
            "4 10 378\n",
            "11 16 378\n",
            "72 78 378\n",
            "101 104 378\n",
            "190 194 378\n",
            "295 303 378\n",
            "315 320 378\n",
            "329 337 378\n",
            "372 377 378\n",
            "Really delicious burger and the portion is just right! {'entities': [(17, 23, 'dish')]}\n",
            "17 23 54\n",
            "I wish Veganburg were available in more locations in Singapore! So yummy and satisfying. {'entities': [(53, 62, 'GPE')]}\n",
            "53 62 88\n",
            "Amazing burger. This one is the impossible patty version. Very full-filling. Must try if you are nearby! {'entities': [(8, 14, 'dish'), (21, 24, 'CARDINAL'), (43, 48, 'dish')]}\n",
            "8 14 104\n",
            "21 24 104\n",
            "43 48 104\n",
            "I like this burger. The patty is crispy and the buns are nice and fluffy. I have brought my friends to try and they enjoyed the food too. {'entities': [(12, 18, 'dish'), (24, 29, 'dish')]}\n",
            "12 18 137\n",
            "24 29 137\n",
            "the creamy shrooms burger is really good; i liked the combination of the ingredients - mushrooms, pepper, the mayo used (possibly soy?) and the patty go well together! i dare say the type of bread used for their burgers are better than that normally served at fastfood outlets 💯veganburg is definitely a must-try, not just for vegans or vegetarians, but for everyone! {'entities': [(19, 25, 'dish'), (87, 96, 'vegetable'), (98, 104, 'condiment'), (110, 114, 'condiment'), (144, 149, 'dish'), (212, 219, 'dish')]}\n",
            "19 25 367\n",
            "87 96 367\n",
            "98 104 367\n",
            "110 114 367\n",
            "144 149 367\n",
            "212 219 367\n",
            "Great portion, interesting taste, love the peanuts inside {'entities': [(43, 50, 'seed')]}\n",
            "43 50 57\n",
            "Decent! For ppl who doesn't like exotic flavours, it's something more down-to-earth #animalsasia {'entities': []}\n",
            "It was delicious! I definitely recommend this to anyone who is keen to try vegan meats. {'entities': []}\n",
            "Good all vegan option however burgers more of size of sliders , wish serving size was bigger even if priced higher. {'entities': [(30, 37, 'dish')]}\n",
            "30 37 115\n",
            "You can’t go wrong with a mushroom burger.\n",
            "👉🏻 The vegan cheese adds an aesthetic look to the burger but since it wasn’t melted, it doesn’t add on to the taste at all.\n",
            "\n",
            "#veganburger #crfsg {'entities': [(26, 34, 'vegetable'), (35, 41, 'dish'), (93, 99, 'dish')]}\n",
            "26 34 187\n",
            "35 41 187\n",
            "93 99 187\n",
            "The best burger at the best burger place in town, in my opinion. The sautéed mushrooms and creamy sauce are a perfect pair. I also decided to try out the \"bacon\" which was pretty good. \n",
            "\n",
            "Love the seaweed flavour with the fries. {'entities': [(9, 15, 'dish'), (28, 34, 'dish'), (69, 86, 'dish'), (98, 103, 'condiment'), (155, 160, 'dish'), (196, 203, 'vegetable'), (221, 226, 'dish')]}\n",
            "9 15 227\n",
            "28 34 227\n",
            "69 86 227\n",
            "98 103 227\n",
            "155 160 227\n",
            "196 203 227\n",
            "221 226 227\n",
            "A good burger which came with fries and a drink as part of the meal - not often I get the fast food burger experience as a vegetarian! The burger was tasty (not amazing but good), and as a meal option I felt it was good value. The staff were friendly and happy to make recommendations. This is obviously a great place for vegans and vegetarians alike with the whole menu catering to us! {'entities': [(7, 13, 'dish'), (30, 35, 'dish'), (90, 99, 'dish'), (100, 106, 'dish'), (139, 145, 'dish')]}\n",
            "7 13 386\n",
            "30 35 386\n",
            "90 99 386\n",
            "100 106 386\n",
            "139 145 386\n",
            "Kitsune udon is my favourite kind of udon - I love how the sweet beancurd, salty shoyu broth and springy QQ udon noodles go so well together! I'm pretty sure it's vegan because it doesn't contain meat or animal products. {'entities': [(0, 12, 'dish'), (37, 41, 'dish'), (65, 73, 'dish'), (108, 112, 'dish'), (196, 200, 'dish')]}\n",
            "0 12 220\n",
            "37 41 220\n",
            "65 73 220\n",
            "108 112 220\n",
            "196 200 220\n",
            "HopDoddy has two burgers that can be altered to be vegan. Modifications to make it vegan are - remove cheese, pesto and aioli. The employee suggested I add mushrooms since I was removing so much. Glad I did, it made it extra tasty. I also brought my own vegan mayo with me. My only complaint on the final version is the patty is really mushy and falls apart easily. I ended up eating much of it with a fork. The taste is good, your typical veggie burger taste. {'entities': [(17, 24, 'dish'), (110, 115, 'dish'), (120, 125, 'dish'), (156, 165, 'vegetable'), (260, 264, 'condiment'), (320, 325, 'dish'), (447, 453, 'dish')]}\n",
            "17 24 460\n",
            "110 115 460\n",
            "120 125 460\n",
            "156 165 460\n",
            "260 264 460\n",
            "320 325 460\n",
            "447 453 460\n",
            "The buns at Mother's are some of the best I've had, for that alone it's worth the visit. This is one of the original awesome veggie burgers in this town and it holds up. The patty is firm and doesn't fall apart. Just omit the cheese and may and you are good to go - get it with avocado instead and it's even better! {'entities': [(97, 100, 'CARDINAL'), (132, 139, 'dish'), (174, 179, 'dish'), (278, 285, 'fruit')]}\n",
            "97 100 315\n",
            "132 139 315\n",
            "174 179 315\n",
            "278 285 315\n",
            "This dish has a wonderful blend of texture and flavor. I always order it without jalapeños because it's just a bit too spicy. Fantastic thai flavor! {'entities': []}\n",
            "Best breakfast dish at Balthazar for vegetarians. The puff pastry creates a savory flavor around the scrambled eggs which have mushrooms and asparagus and a little cheese in them. Just awesome {'entities': [(5, 14, 'meal'), (76, 82, 'herb'), (101, 115, 'dish'), (127, 136, 'vegetable'), (141, 150, 'vegetable')]}\n",
            "5 14 192\n",
            "76 82 192\n",
            "101 115 192\n",
            "127 136 192\n",
            "141 150 192\n",
            "best egg dish in town. scrambled eggs in a puff pastry with asparagus and cheese. blends savory and puff pastry in beautiful combo. {'entities': [(5, 13, 'dish'), (23, 37, 'dish'), (60, 69, 'vegetable'), (89, 95, 'herb')]}\n",
            "5 13 131\n",
            "23 37 131\n",
            "60 69 131\n",
            "89 95 131\n",
            "Mixed platter with 5 sides. Pita was enough to fill you up (haha pun) Comprises of fava beans, falafels, hummus, labna cheese and pita bread (according to menu online) {'entities': [(28, 32, 'bread'), (88, 93, 'vegetable'), (95, 103, 'dish'), (105, 111, 'dish'), (130, 134, 'bread')]}\n",
            "28 32 167\n",
            "88 93 167\n",
            "95 103 167\n",
            "105 111 167\n",
            "130 134 167\n",
            "It was an interesting experience. \n",
            "First time trying Middle Eastern cuisine.\n",
            "I had no idea how to eat it.\n",
            "Falafel, coriander hummus, fava bean and pita bread. Loved the hummus. Falafel was strong. Tahina sauce was weird. \n",
            "Le gf reported that the Labna cheese was light. {'entities': [(35, 40, 'ORDINAL'), (53, 67, 'NORP'), (106, 113, 'dish'), (115, 124, 'herb'), (125, 131, 'dish'), (147, 151, 'bread'), (169, 175, 'dish'), (177, 184, 'dish'), (204, 209, 'condiment')]}\n",
            "35 40 269\n",
            "53 67 269\n",
            "106 113 269\n",
            "115 124 269\n",
            "125 131 269\n",
            "147 151 269\n",
            "169 175 269\n",
            "177 184 269\n",
            "204 209 269\n",
            "First time going to Fill a pita and tried their pita platter which was the best seller! It’s by default vegetarian as there is a cheese dip but it can be veganised by changing the dip to babaganoush which is what I did!\n",
            "The platter comes with pita bread, Fava beans, babaganoush, hummus and falafel. It’s suppose to be for a single person but I find that if you order an extra plate of pita bread it is enough for 2 people! It is really satisfying and flavourful! This protein packed Mediterranean meal will make you appreciate and embrace the vegan lifestyle as you won’t feel like you are missing out at all. After eating this, I already felt like coming back for seconds. I loved everything in this plate but the hummus was me and my boyfriend’s favourite to dip the pita bread in! It will leave you wanting more surely! Come to Fil-a-pita and try it out for yourselves! They also are recommended by TripAdvisor and won an award for having one of the best recommended restaurants in Singapore!! {'entities': [(0, 5, 'ORDINAL'), (27, 31, 'bread'), (48, 52, 'bread'), (243, 247, 'bread'), (260, 265, 'vegetable'), (280, 286, 'dish'), (291, 298, 'dish'), (386, 390, 'bread'), (484, 497, 'NORP'), (716, 722, 'dish'), (770, 774, 'bread'), (838, 842, 'bread'), (943, 946, 'CARDINAL'), (986, 995, 'GPE')]}\n",
            "0 5 997\n",
            "27 31 997\n",
            "48 52 997\n",
            "243 247 997\n",
            "260 265 997\n",
            "280 286 997\n",
            "291 298 997\n",
            "386 390 997\n",
            "484 497 997\n",
            "716 722 997\n",
            "770 774 997\n",
            "838 842 997\n",
            "943 946 997\n",
            "986 995 997\n",
            "it’s a very tasty bread with great variety of ingredients available for you to mix with ? The tomatoes are nice. {'entities': [(94, 102, 'fruit')]}\n",
            "94 102 112\n",
            "i really liked the orange dressing (Veganburg's version of thousand island? im not too sure :p) which i felt went really well w the purple cabbage and patty; the patty was mainly portobello mushrooms - cooked really well so it tasted good as usual :) felt the truffle flavour for this burger cld hv been stronger tho! {'entities': [(139, 146, 'vegetable'), (151, 156, 'dish'), (162, 167, 'dish'), (179, 199, 'vegetable'), (285, 291, 'dish')]}\n",
            "139 146 317\n",
            "151 156 317\n",
            "162 167 317\n",
            "179 199 317\n",
            "285 291 317\n"
          ],
          "name": "stdout"
        }
      ]
    },
    {
      "cell_type": "code",
      "metadata": {
        "id": "MRcilVE1su-y",
        "colab_type": "code",
        "colab": {}
      },
      "source": [
        "# get names of other pipes to disable them during training\n",
        "other_pipes = [pipe for pipe in nlp.pipe_names if pipe not in [\"ner\", \"entity_ruler\",\"merge_entities\"]]\n",
        "loss_trend = []\n",
        "with nlp.disable_pipes(*other_pipes):  # only train NER\n",
        "    # reset and initialize the weights randomly – but only if we're\n",
        "    # training a new model\n",
        "    if model is None:\n",
        "        nlp.begin_training()\n",
        "\n",
        "\n",
        "\n",
        "    for itn in range(100):\n",
        "      random.shuffle(clean_train_ents)\n",
        "      losses = {}\n",
        "\n",
        "#      for item in clean_train_ents:\n",
        "# batch up the examples using spaCy's minibatch\n",
        "      batches = minibatch(clean_train_ents, size=compounding(4.0, 32.0, 1.001))\n",
        "\n",
        "      for batch in batches:\n",
        "        texts, annotations = zip(*batch)\n",
        "#        print([item[0]], [item[1]])\n",
        "\n",
        "#        print(texts)\n",
        "#        print(annotations)\n",
        "        nlp.update(texts, annotations, drop=0.5, losses=losses)\n",
        "        loss_trend.append(losses['ner'])"
      ],
      "execution_count": 0,
      "outputs": []
    },
    {
      "cell_type": "code",
      "metadata": {
        "id": "EPBTh3MR5dA1",
        "colab_type": "code",
        "colab": {
          "base_uri": "https://localhost:8080/",
          "height": 1000
        },
        "outputId": "9417a7c4-73d0-4a97-8a38-d5ce2419a25f"
      },
      "source": [
        "loss_trend"
      ],
      "execution_count": 145,
      "outputs": [
        {
          "output_type": "execute_result",
          "data": {
            "text/plain": [
              "[364.337007522583,\n",
              " 599.0929312705994,\n",
              " 754.661214351654,\n",
              " 942.235755443573,\n",
              " 1087.483063697815,\n",
              " 1232.2286112308502,\n",
              " 1411.072500884533,\n",
              " 1596.9470066428185,\n",
              " 1751.373357951641,\n",
              " 1899.2725276350975,\n",
              " 2026.702387034893,\n",
              " 2470.808494269848,\n",
              " 2827.386105954647,\n",
              " 3035.71809476614,\n",
              " 3270.4592627882957,\n",
              " 3534.8350099921227,\n",
              " 3837.0898680090904,\n",
              " 3984.2545287013054,\n",
              " 4145.385672152042,\n",
              " 4380.408072531223,\n",
              " 4502.639606058598,\n",
              " 4593.439907133579,\n",
              " 4787.597074568272,\n",
              " 4979.844209253788,\n",
              " 5205.431047022343,\n",
              " 5435.966329157352,\n",
              " 236.460129737854,\n",
              " 405.36231565475464,\n",
              " 554.7841603755951,\n",
              " 658.6323046684265,\n",
              " 946.8408770561218,\n",
              " 1085.8581323623657,\n",
              " 1336.6209769248962,\n",
              " 1568.6237750053406,\n",
              " 1732.5794610977173,\n",
              " 1868.5478022098541,\n",
              " 2043.1232439279556,\n",
              " 2241.1574174165726,\n",
              " 2416.02887737751,\n",
              " 2606.672175049782,\n",
              " 2689.33666908741,\n",
              " 2874.072038769722,\n",
              " 3020.2716537714005,\n",
              " 3195.1491834521294,\n",
              " 3300.465352475643,\n",
              " 3477.404521405697,\n",
              " 3691.783054769039,\n",
              " 3868.2997474074364,\n",
              " 4000.2941259741783,\n",
              " 4232.146865308285,\n",
              " 4395.557301938534,\n",
              " 4569.847383201122,\n",
              " 127.12709474563599,\n",
              " 250.3768346309662,\n",
              " 488.34013962745667,\n",
              " 687.7965624332428,\n",
              " 893.6253255605698,\n",
              " 1031.376014828682,\n",
              " 1137.8707472085953,\n",
              " 1249.3678728342056,\n",
              " 1475.4181514978409,\n",
              " 1575.5778535604477,\n",
              " 1779.6153720617294,\n",
              " 1988.4642404317856,\n",
              " 2131.7803653478622,\n",
              " 2312.780407309532,\n",
              " 2428.882180213928,\n",
              " 2608.0885004997253,\n",
              " 2764.9803814888,\n",
              " 2993.2963728904724,\n",
              " 3163.5747648477554,\n",
              " 3328.515434861183,\n",
              " 3474.8971868753433,\n",
              " 3804.277866959572,\n",
              " 4019.0693517923355,\n",
              " 4165.871805071831,\n",
              " 4411.756866335869,\n",
              " 4572.970449328423,\n",
              " 196.84283769130707,\n",
              " 388.14954590797424,\n",
              " 477.70538878440857,\n",
              " 680.8566558361053,\n",
              " 817.1547347307205,\n",
              " 1014.8864706754684,\n",
              " 1177.5331748723984,\n",
              " 1300.4427810907364,\n",
              " 1477.4291895627975,\n",
              " 1642.2297440767288,\n",
              " 1760.198187470436,\n",
              " 2071.5581628084183,\n",
              " 2266.714571118355,\n",
              " 2448.378212571144,\n",
              " 2561.8260369300842,\n",
              " 2706.042980670929,\n",
              " 2870.9636363983154,\n",
              " 3220.449658870697,\n",
              " 3375.1159706115723,\n",
              " 3491.511749267578,\n",
              " 3605.914960861206,\n",
              " 3746.3254318237305,\n",
              " 3987.9645652770996,\n",
              " 4132.25772690773,\n",
              " 4292.154315948486,\n",
              " 4405.714272975922,\n",
              " 193.37418699264526,\n",
              " 328.2911286354065,\n",
              " 480.7091112136841,\n",
              " 622.6583802700043,\n",
              " 794.6704671382904,\n",
              " 926.8880100250244,\n",
              " 1130.2192950248718,\n",
              " 1337.9250836372375,\n",
              " 1491.3470067977905,\n",
              " 1824.1484036445618,\n",
              " 1910.6294393539429,\n",
              " 2088.489718437195,\n",
              " 2223.413513660431,\n",
              " 2358.7350425720215,\n",
              " 2442.4670701026917,\n",
              " 2626.218138694763,\n",
              " 2859.4596695899963,\n",
              " 2968.936327815056,\n",
              " 3315.9197667837143,\n",
              " 3423.9482073783875,\n",
              " 3548.1016640663147,\n",
              " 3743.0669198036194,\n",
              " 3878.850040435791,\n",
              " 4048.4532623291016,\n",
              " 4225.731773376465,\n",
              " 4365.369345664978,\n",
              " 85.29871809482574,\n",
              " 340.1382700204849,\n",
              " 557.1090613603592,\n",
              " 731.0032833814621,\n",
              " 916.719407916069,\n",
              " 1072.2850274443626,\n",
              " 1162.6707653403282,\n",
              " 1245.2200157046318,\n",
              " 1438.5567037463188,\n",
              " 1592.9596809744835,\n",
              " 1821.689798772335,\n",
              " 1954.434344470501,\n",
              " 2149.9101192355156,\n",
              " 2269.6194754242897,\n",
              " 2378.077983915806,\n",
              " 2525.1673923134804,\n",
              " 2680.605300247669,\n",
              " 2810.896466553211,\n",
              " 3091.253206551075,\n",
              " 3263.82096606493,\n",
              " 3461.031637966633,\n",
              " 3634.479603111744,\n",
              " 3779.2273998856544,\n",
              " 3861.099754989147,\n",
              " 3983.3166739344597,\n",
              " 4173.533574521542,\n",
              " 85.4990644454956,\n",
              " 232.87009978294373,\n",
              " 375.38029342889786,\n",
              " 511.4020331501961,\n",
              " 678.4365022778511,\n",
              " 836.3082922101021,\n",
              " 1093.287747681141,\n",
              " 1332.3542855381966,\n",
              " 1519.9080479741096,\n",
              " 1679.167730152607,\n",
              " 1813.4397915005684,\n",
              " 2002.0753975510597,\n",
              " 2305.0526624321938,\n",
              " 2373.0409755706787,\n",
              " 2597.2439980506897,\n",
              " 2741.1765933036804,\n",
              " 2869.0490782260895,\n",
              " 3010.458662748337,\n",
              " 3113.3278518915176,\n",
              " 3252.448387980461,\n",
              " 3354.8818756341934,\n",
              " 3474.7935968637466,\n",
              " 3714.160906434059,\n",
              " 3842.269350171089,\n",
              " 4078.6602593660355,\n",
              " 4180.486911177635,\n",
              " 276.92587661743164,\n",
              " 419.1321853399277,\n",
              " 547.7027016878128,\n",
              " 831.1105080842972,\n",
              " 914.5427767038345,\n",
              " 1047.361199259758,\n",
              " 1210.5574425458908,\n",
              " 1331.5954523086548,\n",
              " 1443.6600433588028,\n",
              " 1623.1466423273087,\n",
              " 1767.2284454107285,\n",
              " 1911.4957500696182,\n",
              " 2027.855039715767,\n",
              " 2207.978894352913,\n",
              " 2330.4623371362686,\n",
              " 2454.291526913643,\n",
              " 2670.3068910837173,\n",
              " 2860.0660947561264,\n",
              " 3007.126664042473,\n",
              " 3209.576214194298,\n",
              " 3470.4036034345627,\n",
              " 3582.8997539281845,\n",
              " 3791.53096807003,\n",
              " 3947.234595179558,\n",
              " 4027.513377070427,\n",
              " 4228.678610444069,\n",
              " 155.21090531349182,\n",
              " 293.8522045612335,\n",
              " 544.419068813324,\n",
              " 800.4040975570679,\n",
              " 1082.3788404464722,\n",
              " 1192.1417813301086,\n",
              " 1319.2273777723312,\n",
              " 1466.70523416996,\n",
              " 1594.591721534729,\n",
              " 1684.5203475952148,\n",
              " 1770.2166767120361,\n",
              " 1871.4100332260132,\n",
              " 2058.019147157669,\n",
              " 2242.346270084381,\n",
              " 2326.842924118042,\n",
              " 2545.3204317092896,\n",
              " 2650.2576792240143,\n",
              " 2775.519204854965,\n",
              " 2908.8899762630463,\n",
              " 3191.9019582271576,\n",
              " 3280.4309109449387,\n",
              " 3448.664393544197,\n",
              " 3644.468727707863,\n",
              " 3721.8654482364655,\n",
              " 3951.8924849033356,\n",
              " 4143.407584428787,\n",
              " 256.1834120750427,\n",
              " 391.1922836303711,\n",
              " 540.3340473175049,\n",
              " 691.6815176010132,\n",
              " 861.444776058197,\n",
              " 1051.4388332366943,\n",
              " 1198.228289604187,\n",
              " 1381.7131133079529,\n",
              " 1471.8376133441925,\n",
              " 1681.7551698684692,\n",
              " 1816.4035139083862,\n",
              " 1952.796221256256,\n",
              " 2104.7066704034805,\n",
              " 2202.2939878702164,\n",
              " 2332.1113377809525,\n",
              " 2436.084107041359,\n",
              " 2578.9588638544083,\n",
              " 2823.6294692754745,\n",
              " 2961.7486399412155,\n",
              " 3147.555484652519,\n",
              " 3402.991347193718,\n",
              " 3488.062282949686,\n",
              " 3642.933879286051,\n",
              " 3842.022976785898,\n",
              " 4012.9821456968784,\n",
              " 4189.143922716379,\n",
              " 142.89524698257446,\n",
              " 278.8853135108948,\n",
              " 404.07145738601685,\n",
              " 498.1388568878174,\n",
              " 640.0519688129425,\n",
              " 711.7248432636261,\n",
              " 826.9769430160522,\n",
              " 1070.5071935653687,\n",
              " 1169.4151886701584,\n",
              " 1289.7127898931503,\n",
              " 1512.02945458889,\n",
              " 1714.0671503543854,\n",
              " 1804.8326399326324,\n",
              " 1914.3620913028717,\n",
              " 2057.87611413002,\n",
              " 2391.5660026073456,\n",
              " 2615.8068130016327,\n",
              " 2708.404758453369,\n",
              " 2891.632184743881,\n",
              " 3092.9346492290497,\n",
              " 3288.5930919647217,\n",
              " 3496.3632740974426,\n",
              " 3687.0470674037933,\n",
              " 3896.4736516475677,\n",
              " 3994.660862326622,\n",
              " 4174.142637491226,\n",
              " 100.38372445106506,\n",
              " 254.30501341819763,\n",
              " 405.4325611591339,\n",
              " 576.5201933383942,\n",
              " 697.3699328899384,\n",
              " 838.478287935257,\n",
              " 952.7652695178986,\n",
              " 1181.5136787891388,\n",
              " 1410.9977700710297,\n",
              " 1502.47461104393,\n",
              " 1592.4129722118378,\n",
              " 1893.8744585514069,\n",
              " 2114.0771062374115,\n",
              " 2211.4073054790497,\n",
              " 2365.633524417877,\n",
              " 2503.6189997196198,\n",
              " 2701.9848918914795,\n",
              " 2950.959568500519,\n",
              " 3162.523984193802,\n",
              " 3255.7518541812897,\n",
              " 3494.530022382736,\n",
              " 3656.274561405182,\n",
              " 3771.612711906433,\n",
              " 3984.28844165802,\n",
              " 4207.78098154068,\n",
              " 4303.0927538871765,\n",
              " 173.54519963264465,\n",
              " 286.0944745540619,\n",
              " 418.05410981178284,\n",
              " 545.8130600452423,\n",
              " 679.760977268219,\n",
              " 869.4534025192261,\n",
              " 933.2896513938904,\n",
              " 1181.6465992927551,\n",
              " 1387.0969727039337,\n",
              " 1494.7961815595627,\n",
              " 1644.3754171133041,\n",
              " 1806.592698931694,\n",
              " 1949.9514549970627,\n",
              " 2144.4377349615097,\n",
              " 2333.1820224523544,\n",
              " 2461.73169529438,\n",
              " 2590.7616699934006,\n",
              " 2861.2740973234177,\n",
              " 3021.704536795616,\n",
              " 3198.575766682625,\n",
              " 3322.831719517708,\n",
              " 3585.8501707315445,\n",
              " 3736.881786942482,\n",
              " 3858.4614893198013,\n",
              " 4041.281726002693,\n",
              " 4255.507425427437,\n",
              " 165.61491918563843,\n",
              " 341.9087858200073,\n",
              " 415.814493060112,\n",
              " 548.06132376194,\n",
              " 788.2289739847183,\n",
              " 926.9325784444809,\n",
              " 1025.775570511818,\n",
              " 1152.1610375642776,\n",
              " 1274.0106970071793,\n",
              " 1495.4167619943619,\n",
              " 1676.2840017080307,\n",
              " 1841.5164569616318,\n",
              " 2093.923783659935,\n",
              " 2220.036443591118,\n",
              " 2402.672782897949,\n",
              " 2500.340398311615,\n",
              " 2654.5353507995605,\n",
              " 2834.1900091171265,\n",
              " 2964.474800825119,\n",
              " 3107.2474269866943,\n",
              " 3252.776795387268,\n",
              " 3524.0541784763336,\n",
              " 3712.6476069688797,\n",
              " 3811.8775547742844,\n",
              " 3940.1783677339554,\n",
              " 4245.3295212984085,\n",
              " 149.06018352508545,\n",
              " 385.02127027511597,\n",
              " 520.0734148025513,\n",
              " 781.8450355529785,\n",
              " 884.5202791690826,\n",
              " 1072.0516238212585,\n",
              " 1225.396406173706,\n",
              " 1348.5747122764587,\n",
              " 1443.1017317771912,\n",
              " 1617.578806400299,\n",
              " 1931.47971200943,\n",
              " 2046.7544708251953,\n",
              " 2259.6610963344574,\n",
              " 2408.316427707672,\n",
              " 2555.128353834152,\n",
              " 2701.4630563259125,\n",
              " 2876.08154797554,\n",
              " 3038.3042595386505,\n",
              " 3189.713978290558,\n",
              " 3386.243232488632,\n",
              " 3473.9521840810776,\n",
              " 3599.552066683769,\n",
              " 3805.1592940092087,\n",
              " 3955.679205060005,\n",
              " 4094.0889064073563,\n",
              " 4296.968539357185,\n",
              " 131.0203092098236,\n",
              " 268.2069230079651,\n",
              " 438.1080045700073,\n",
              " 650.6016774177551,\n",
              " 749.1934045553207,\n",
              " 911.9384971857071,\n",
              " 1191.2619768381119,\n",
              " 1414.8845168352127,\n",
              " 1597.9189153909683,\n",
              " 1830.7620517015457,\n",
              " 1965.0979708433151,\n",
              " 2032.6560105085373,\n",
              " 2121.16337454319,\n",
              " 2282.552301287651,\n",
              " 2458.915036559105,\n",
              " 2647.0245113372803,\n",
              " 2901.0436420440674,\n",
              " 3037.7259726524353,\n",
              " 3196.9419882297516,\n",
              " 3300.167192220688,\n",
              " 3405.8776557445526,\n",
              " 3533.9978053569794,\n",
              " 3716.715725183487,\n",
              " 3851.3138365745544,\n",
              " 4149.941403865814,\n",
              " 4316.9300656318665,\n",
              " 232.42499828338623,\n",
              " 377.4546842575073,\n",
              " 599.1841230392456,\n",
              " 760.3933629989624,\n",
              " 881.9105095863342,\n",
              " 957.200271487236,\n",
              " 1080.5891050100327,\n",
              " 1224.871490240097,\n",
              " 1337.4923617839813,\n",
              " 1619.3590168952942,\n",
              " 1735.1311242580414,\n",
              " 1972.8021280765533,\n",
              " 2104.3101646900177,\n",
              " 2323.632889986038,\n",
              " 2456.246962785721,\n",
              " 2730.2797973155975,\n",
              " 2863.1736451387405,\n",
              " 2971.2095803022385,\n",
              " 3069.3398381471634,\n",
              " 3218.7042375802994,\n",
              " 3458.0764862298965,\n",
              " 3611.4092861413956,\n",
              " 3742.2724121809006,\n",
              " 3829.051894545555,\n",
              " 4075.9101947546005,\n",
              " 4226.360840916634,\n",
              " 154.44294095039368,\n",
              " 314.79632210731506,\n",
              " 435.63876152038574,\n",
              " 541.3135113716125,\n",
              " 787.7601132392883,\n",
              " 940.4036822319031,\n",
              " 1058.1316676139832,\n",
              " 1190.9279866218567,\n",
              " 1279.1434226036072,\n",
              " 1434.1522924900055,\n",
              " 1551.217714548111,\n",
              " 1702.6322567462921,\n",
              " 1799.4055659770966,\n",
              " 1933.6589858531952,\n",
              " 2210.62579703331,\n",
              " 2378.6023030281067,\n",
              " 2529.272117614746,\n",
              " 2719.400411605835,\n",
              " 2901.701158761978,\n",
              " 3118.8790028095245,\n",
              " 3277.529853820801,\n",
              " 3475.4980182647705,\n",
              " 3758.9969482421875,\n",
              " 3937.0471749305725,\n",
              " 4178.318061351776,\n",
              " 4295.96400141716,\n",
              " 158.3302583694458,\n",
              " 365.9288773536682,\n",
              " 625.7562456130981,\n",
              " 764.3307909965515,\n",
              " 921.680314540863,\n",
              " 1014.4620368480682,\n",
              " 1104.8871903419495,\n",
              " 1274.160089969635,\n",
              " 1395.972202539444,\n",
              " 1522.9125365018845,\n",
              " 1754.8346832990646,\n",
              " 1952.342035651207,\n",
              " 2044.2175925970078,\n",
              " 2227.118352293968,\n",
              " 2318.5701855421066,\n",
              " 2462.881742835045,\n",
              " 2641.5582822561264,\n",
              " 2772.6195348501205,\n",
              " 2967.5246671438217,\n",
              " 3065.4552265405655,\n",
              " 3305.583964705467,\n",
              " 3421.2669335603714,\n",
              " 3591.3077725172043,\n",
              " 3829.904532313347,\n",
              " 4016.9285720586777,\n",
              " 4294.576286911964,\n",
              " 222.48758840560913,\n",
              " 411.5593333244324,\n",
              " 538.640077829361,\n",
              " 650.3087050914764,\n",
              " 752.9411952495575,\n",
              " 933.8347294330597,\n",
              " 1160.0796859264374,\n",
              " 1356.709088087082,\n",
              " 1438.448725104332,\n",
              " 1543.1597431898117,\n",
              " 1766.790166258812,\n",
              " 1902.160280585289,\n",
              " 2019.8838802576065,\n",
              " 2246.7492862939835,\n",
              " 2375.4815331697464,\n",
              " 2489.3344942331314,\n",
              " 2637.912674307823,\n",
              " 2929.1114896535873,\n",
              " 3055.691995024681,\n",
              " 3262.5604844093323,\n",
              " 3510.474967479706,\n",
              " 3726.2278814315796,\n",
              " 3869.962131023407,\n",
              " 3973.1980443000793,\n",
              " 4070.699299097061,\n",
              " 4199.960466623306,\n",
              " 112.96631121635437,\n",
              " 312.36116766929626,\n",
              " 441.8277087211609,\n",
              " 591.6831741333008,\n",
              " 686.678156375885,\n",
              " 819.7355239391327,\n",
              " 1097.6610020399094,\n",
              " 1209.113426566124,\n",
              " 1543.7207194566727,\n",
              " 1683.317617058754,\n",
              " 1769.0629070997238,\n",
              " 1892.0688186883926,\n",
              " 2187.6928631067276,\n",
              " 2281.0079259872437,\n",
              " 2552.328414440155,\n",
              " 2743.805143594742,\n",
              " 2985.3403203487396,\n",
              " 3127.6344151496887,\n",
              " 3262.486721754074,\n",
              " 3370.5286135673523,\n",
              " 3491.041093826294,\n",
              " 3626.4968889951706,\n",
              " 3746.735974431038,\n",
              " 3937.8623245954514,\n",
              " 4073.011694788933,\n",
              " 4203.81637108326,\n",
              " 122.53679728507996,\n",
              " 280.2601099014282,\n",
              " 498.0269522666931,\n",
              " 574.1301997900009,\n",
              " 793.7443279027939,\n",
              " 1071.1597069501877,\n",
              " 1213.368362545967,\n",
              " 1427.9011353254318,\n",
              " 1579.0041538476944,\n",
              " 1765.135339140892,\n",
              " 1830.7619820833206,\n",
              " 2057.6161309480667,\n",
              " 2180.0416194200516,\n",
              " 2317.1131917238235,\n",
              " 2557.4004994630814,\n",
              " 2675.424714446068,\n",
              " 2756.861452460289,\n",
              " 2846.9592427015305,\n",
              " 2972.1202787160873,\n",
              " 3104.5956304073334,\n",
              " 3244.663863658905,\n",
              " 3415.372079849243,\n",
              " 3642.9018926620483,\n",
              " 3874.649812221527,\n",
              " 4063.728320121765,\n",
              " 4237.339914798737,\n",
              " 158.52852964401245,\n",
              " 359.24293088912964,\n",
              " 545.2457242012024,\n",
              " 710.9496121406555,\n",
              " 802.1993246078491,\n",
              " 942.7154383659363,\n",
              " 1064.959345817566,\n",
              " 1412.8018441200256,\n",
              " 1541.5964245796204,\n",
              " 1701.5186161994934,\n",
              " 1851.436936378479,\n",
              " 1937.8042919635773,\n",
              " 2095.97478890419,\n",
              " 2295.496755838394,\n",
              " 2450.98909676075,\n",
              " 2588.3771494627,\n",
              " 2753.547502398491,\n",
              " 3007.0239042043686,\n",
              " 3188.307222008705,\n",
              " 3306.419986128807,\n",
              " 3392.8257092237473,\n",
              " 3534.3300164937973,\n",
              " 3731.9805196523666,\n",
              " 4054.8257373571396,\n",
              " 4184.338904738426,\n",
              " 4253.633783459663,\n",
              " 263.44426345825195,\n",
              " 339.2704961299896,\n",
              " 410.12124943733215,\n",
              " 549.3557691574097,\n",
              " 744.5374729633331,\n",
              " 876.6989674568176,\n",
              " 1091.1219782829285,\n",
              " 1164.2911214828491,\n",
              " 1263.0794748067856,\n",
              " 1403.3677419424057,\n",
              " 1544.7731040716171,\n",
              " 1777.4849857091904,\n",
              " 1892.8129798173904,\n",
              " 2069.6811138391495,\n",
              " 2209.8775922060013,\n",
              " 2363.375475525856,\n",
              " 2482.285932660103,\n",
              " 2805.6507807970047,\n",
              " 3115.7105880975723,\n",
              " 3388.9194442033768,\n",
              " 3570.311932682991,\n",
              " 3670.9855850934982,\n",
              " 3879.3765634298325,\n",
              " 4023.6215718984604,\n",
              " 4155.512325167656,\n",
              " 4252.024771690369,\n",
              " 208.73457765579224,\n",
              " 314.07132613658905,\n",
              " 511.8158588409424,\n",
              " 575.8875677585602,\n",
              " 793.5546112060547,\n",
              " 970.9093766212463,\n",
              " 1071.5001349449158,\n",
              " 1237.183175086975,\n",
              " 1500.6096391677856,\n",
              " 1696.7890124320984,\n",
              " 1892.079171180725,\n",
              " 2266.592997789383,\n",
              " 2390.092691421509,\n",
              " 2498.2029881477356,\n",
              " 2596.8397002220154,\n",
              " 2677.605736732483,\n",
              " 2833.5945167541504,\n",
              " 2992.6098296642303,\n",
              " 3145.5837523937225,\n",
              " 3252.5319868326187,\n",
              " 3387.878781914711,\n",
              " 3579.017109513283,\n",
              " 3766.487713932991,\n",
              " 3921.1953793764114,\n",
              " 4063.46131169796,\n",
              " 4247.619860053062,\n",
              " 221.16070795059204,\n",
              " 382.18383836746216,\n",
              " 487.5583939552307,\n",
              " 742.7938206195831,\n",
              " 923.2614099979401,\n",
              " 1049.2929484844208,\n",
              " 1178.5240051746368,\n",
              " 1275.365094423294,\n",
              " 1425.6663593053818,\n",
              " 1518.0752946138382,\n",
              " 1651.7897790670395,\n",
              " 1807.1262282133102,\n",
              " 1964.0456455945969,\n",
              " 2286.8413046598434,\n",
              " 2495.1565269231796,\n",
              " 2687.282006621361,\n",
              " 2935.0379289388657,\n",
              " 3061.0342370271683,\n",
              " 3232.4872213602066,\n",
              " 3373.9994369745255,\n",
              " 3489.644424557686,\n",
              " 3722.909911751747,\n",
              " 3916.0235029459,\n",
              " 4031.046020388603,\n",
              " 4098.896059155464,\n",
              " 4211.1128541231155,\n",
              " 94.45462989807129,\n",
              " 253.06181478500366,\n",
              " 400.39739418029785,\n",
              " 508.3240098953247,\n",
              " 676.9505324363708,\n",
              " 894.3151800632477,\n",
              " 1086.2979502677917,\n",
              " 1197.2752993106842,\n",
              " 1294.983068704605,\n",
              " 1390.8747441768646,\n",
              " 1502.1593105793,\n",
              " 1760.6658499240875,\n",
              " 1888.8032793998718,\n",
              " 2049.572696208954,\n",
              " 2165.4871649742126,\n",
              " 2279.358218431473,\n",
              " 2496.6744616031647,\n",
              " 2666.129390478134,\n",
              " 2841.357990026474,\n",
              " 3080.3137481212616,\n",
              " 3245.731452226639,\n",
              " 3489.307416677475,\n",
              " 3636.4888195991516,\n",
              " 3904.462350845337,\n",
              " 4209.285452842712,\n",
              " 4268.969023704529,\n",
              " 122.0416169166565,\n",
              " 260.2172951698303,\n",
              " 357.15254616737366,\n",
              " 637.6008718013763,\n",
              " 816.2257163524628,\n",
              " 999.1262922286987,\n",
              " 1403.0634670257568,\n",
              " 1527.9310603141785,\n",
              " 1607.7808861732483,\n",
              " 1739.8600752353668,\n",
              " 2066.4769761562347,\n",
              " 2239.927659034729,\n",
              " 2341.663939476013,\n",
              " 2455.6991987228394,\n",
              " 2542.6729888916016,\n",
              " 2692.0645892620087,\n",
              " 2781.234605073929,\n",
              " 3006.0851588249207,\n",
              " 3210.109498977661,\n",
              " 3306.63965010643,\n",
              " 3453.6993997097015,\n",
              " 3580.8225486278534,\n",
              " 3779.6217613220215,\n",
              " 3959.138268470764,\n",
              " 4038.5127034187317,\n",
              " 4218.293828487396,\n",
              " 153.12826561927795,\n",
              " 379.13804841041565,\n",
              " 510.54430508613586,\n",
              " 769.9331138134003,\n",
              " 918.170257806778,\n",
              " 1033.3093762397766,\n",
              " 1123.413737297058,\n",
              " 1333.389117717743,\n",
              " 1402.9252877235413,\n",
              " 1558.9193518161774,\n",
              " 1692.834263086319,\n",
              " 1907.6196575164795,\n",
              " 2131.126896381378,\n",
              " 2260.5157718658447,\n",
              " 2373.59241771698,\n",
              " 2479.452446937561,\n",
              " 2835.615412712097,\n",
              " 3020.434853553772,\n",
              " 3148.85698223114,\n",
              " 3325.5242507457733,\n",
              " 3482.212690114975,\n",
              " 3627.6980011463165,\n",
              " 3747.994870901108,\n",
              " 3914.35148024559,\n",
              " 4036.730113506317,\n",
              " 4217.994087696075,\n",
              " 153.3093912601471,\n",
              " 277.8143084049225,\n",
              " 379.4087173938751,\n",
              " 590.6270620822906,\n",
              " 789.2660858631134,\n",
              " 938.2830635309219,\n",
              " 1130.3864690065384,\n",
              " 1298.0773822069168,\n",
              " 1375.6785274744034,\n",
              " 1549.839514374733,\n",
              " 1669.619637131691,\n",
              " 1754.7108701467514,\n",
              " 1898.5980368852615,\n",
              " 1992.8158494234085,\n",
              " 2063.8478039503098,\n",
              " 2256.1038261651993,\n",
              " 2430.8165014982224,\n",
              " 2528.0613001585007,\n",
              " 2803.582637190819,\n",
              " 3063.921944975853,\n",
              " 3184.42980325222,\n",
              " 3295.432111144066,\n",
              " 3469.894788146019,\n",
              " 3797.5253998041153,\n",
              " 3961.632592320442,\n",
              " 4178.687577366829,\n",
              " 196.0643663406372,\n",
              " 303.2182719707489,\n",
              " 526.5510685443878,\n",
              " 668.8045201301575,\n",
              " 977.8772749900818,\n",
              " 1105.6124625205994,\n",
              " 1229.6529450416565,\n",
              " 1396.3511674404144,\n",
              " 1522.1887469291687,\n",
              " 1649.2105412483215,\n",
              " 1777.1286599636078,\n",
              " 1898.3028652668,\n",
              " 2072.8078396320343,\n",
              " 2315.1785538196564,\n",
              " 2429.996021270752,\n",
              " 2660.276529312134,\n",
              " 2790.0483436584473,\n",
              " 2920.8056015968323,\n",
              " 3067.2551102638245,\n",
              " 3210.3852229118347,\n",
              " 3352.4779233932495,\n",
              " 3468.724055290222,\n",
              " 3759.7852420806885,\n",
              " 3993.238073825836,\n",
              " 4071.052526473999,\n",
              " 4229.258941650391,\n",
              " 154.66589212417603,\n",
              " 328.107271194458,\n",
              " 458.14857625961304,\n",
              " 609.1959353685379,\n",
              " 898.9657517671585,\n",
              " 1020.1967467069626,\n",
              " 1303.438558936119,\n",
              " 1381.970375418663,\n",
              " 1485.5958769321442,\n",
              " 1642.636605978012,\n",
              " 1794.9003517627716,\n",
              " 1998.322161912918,\n",
              " 2207.460582256317,\n",
              " 2330.052824497223,\n",
              " 2453.3550980091095,\n",
              " 2798.6790993213654,\n",
              " 3014.5487407445908,\n",
              " 3098.5472058057785,\n",
              " 3301.1787365674973,\n",
              " 3471.777375817299,\n",
              " 3594.5611013174057,\n",
              " 3770.257448077202,\n",
              " 3856.5407322645187,\n",
              " 4016.612901329994,\n",
              " 4135.638045549393,\n",
              " 4222.36420416832,\n",
              " 151.05174732208252,\n",
              " 278.30348205566406,\n",
              " 366.17398393154144,\n",
              " 464.1845877170563,\n",
              " 588.9566547870636,\n",
              " 749.5828350782394,\n",
              " 991.4058479070663,\n",
              " 1100.324903845787,\n",
              " 1245.5760697126389,\n",
              " 1447.943694472313,\n",
              " 1554.6768342256546,\n",
              " 1619.5661422014236,\n",
              " 1774.7350746393204,\n",
              " 2093.7153836488724,\n",
              " 2301.4585140943527,\n",
              " 2447.795707821846,\n",
              " 2652.2232571840286,\n",
              " 2776.12799179554,\n",
              " 2968.1730481386185,\n",
              " 3176.9931679964066,\n",
              " 3445.2588111162186,\n",
              " 3591.774347424507,\n",
              " 3699.6795324087143,\n",
              " 3804.3759071826935,\n",
              " 4036.300984621048,\n",
              " 4159.867288351059,\n",
              " 91.370441198349,\n",
              " 247.9938507080078,\n",
              " 343.52429926395416,\n",
              " 487.57980597019196,\n",
              " 691.2393881082535,\n",
              " 785.4694119691849,\n",
              " 957.109184384346,\n",
              " 1189.491900086403,\n",
              " 1334.1970576047897,\n",
              " 1420.0727545022964,\n",
              " 1607.959359049797,\n",
              " 1820.3518105745316,\n",
              " 2045.4665151834488,\n",
              " 2302.0106142759323,\n",
              " 2429.9965958595276,\n",
              " 2653.931988477707,\n",
              " 2859.4150207042694,\n",
              " 3001.954859018326,\n",
              " 3125.463895559311,\n",
              " 3305.5977823734283,\n",
              " 3468.743988275528,\n",
              " 3546.0758702754974,\n",
              " 3680.1934493780136,\n",
              " 3810.4649966955185,\n",
              " 3953.649017930031,\n",
              " 4149.084489822388,\n",
              " 141.12001967430115,\n",
              " 342.7074455022812,\n",
              " 550.7999881505966,\n",
              " 763.3835715055466,\n",
              " 938.987739443779,\n",
              " 1059.569844007492,\n",
              " 1166.7252969741821,\n",
              " 1339.9797196388245,\n",
              " 1432.8178889751434,\n",
              " 1550.6554734706879,\n",
              " 1673.0764997005463,\n",
              " 1816.6173422336578,\n",
              " 2136.927319765091,\n",
              " 2270.7166216373444,\n",
              " 2434.7220113277435,\n",
              " 2516.9290351867676,\n",
              " 2645.0819631814957,\n",
              " 2795.228797316551,\n",
              " 3014.199183344841,\n",
              " 3161.200623869896,\n",
              " 3300.9165424108505,\n",
              " 3434.977180838585,\n",
              " 3590.256773352623,\n",
              " 3852.5312579870224,\n",
              " 3963.8693631887436,\n",
              " 4212.243155837059,\n",
              " 96.10702586174011,\n",
              " 261.37934398651123,\n",
              " 438.71219778060913,\n",
              " 594.8500981330872,\n",
              " 862.2636904716492,\n",
              " 1022.2243020534515,\n",
              " 1141.2902371883392,\n",
              " 1261.3443727493286,\n",
              " 1457.6870498657227,\n",
              " 1603.52054977417,\n",
              " 1764.5086932182312,\n",
              " 1922.8612599372864,\n",
              " 2026.7925868034363,\n",
              " 2170.81055021286,\n",
              " 2298.259190559387,\n",
              " 2548.460214614868,\n",
              " 2698.7059359550476,\n",
              " 2845.131460905075,\n",
              " 2942.9522185325623,\n",
              " 3107.968126296997,\n",
              " 3310.7795448303223,\n",
              " 3544.287924051285,\n",
              " 3812.3529348373413,\n",
              " 3929.693650484085,\n",
              " 4000.3285505771637,\n",
              " 4120.01442527771,\n",
              " 110.49931478500366,\n",
              " 382.91918420791626,\n",
              " 594.1288237571716,\n",
              " 786.0642786026001,\n",
              " 991.775983273983,\n",
              " 1238.300716817379,\n",
              " 1409.0984525084496,\n",
              " 1523.9862872958183,\n",
              " 1700.9191762804985,\n",
              " 1838.1500970721245,\n",
              " 1940.5625724196434,\n",
              " 2137.0011844038963,\n",
              " 2253.162049472332,\n",
              " 2514.654001891613,\n",
              " 2680.18675249815,\n",
              " 2771.1401693224907,\n",
              " 3046.870672404766,\n",
              " 3260.493731200695,\n",
              " 3338.8676649928093,\n",
              " 3481.1590453982353,\n",
              " 3600.894644677639,\n",
              " 3735.394286096096,\n",
              " 3874.4592795968056,\n",
              " 3992.328226864338,\n",
              " 4084.056664288044,\n",
              " 4189.177302420139,\n",
              " 136.66380834579468,\n",
              " 344.46864461898804,\n",
              " 498.341863155365,\n",
              " 674.9161133766174,\n",
              " 777.4416372776031,\n",
              " 971.2903130054474,\n",
              " 1193.162354707718,\n",
              " 1373.234946012497,\n",
              " 1525.699955701828,\n",
              " 1668.7038810253143,\n",
              " 1844.2060840129852,\n",
              " 1955.2405529022217,\n",
              " 2109.220030784607,\n",
              " 2259.7131509780884,\n",
              " 2393.7070350646973,\n",
              " 2501.6547560691833,\n",
              " 2616.7387216091156,\n",
              " 2774.0397770404816,\n",
              " 2921.9396069049835,\n",
              " 3121.640596628189,\n",
              " 3238.5925574302673,\n",
              " 3464.1319546699524,\n",
              " 3649.2106153964996,\n",
              " 3858.7951793670654,\n",
              " 3980.8053028583527,\n",
              " 4166.417151212692,\n",
              " 400.24478244781494,\n",
              " 497.80421686172485,\n",
              " 645.3908162117004,\n",
              " 891.8083326816559,\n",
              " 1014.4976333379745,\n",
              " 1275.46126973629,\n",
              " 1429.0783737897873,\n",
              " 1654.543810725212,\n",
              " 1863.3337587118149,\n",
              " 1977.6255964040756,\n",
              " 2048.2961560487747,\n",
              " 2190.5190073251724,\n",
              " ...]"
            ]
          },
          "metadata": {
            "tags": []
          },
          "execution_count": 145
        }
      ]
    },
    {
      "cell_type": "code",
      "metadata": {
        "id": "HR5Mbp2X5fVB",
        "colab_type": "code",
        "colab": {}
      },
      "source": [
        "import matplotlib.pyplot as plt\n",
        "% matplotlib inline\n",
        "\n",
        "\n"
      ],
      "execution_count": 0,
      "outputs": []
    },
    {
      "cell_type": "code",
      "metadata": {
        "id": "HLHndPhu5lp3",
        "colab_type": "code",
        "colab": {
          "base_uri": "https://localhost:8080/",
          "height": 282
        },
        "outputId": "b88aa517-c657-4c16-b5a2-deb392e8899c"
      },
      "source": [
        "plt.plot(loss_trend)"
      ],
      "execution_count": 149,
      "outputs": [
        {
          "output_type": "execute_result",
          "data": {
            "text/plain": [
              "[<matplotlib.lines.Line2D at 0x7fcd30e2d828>]"
            ]
          },
          "metadata": {
            "tags": []
          },
          "execution_count": 149
        },
        {
          "output_type": "display_data",
          "data": {
            "image/png": "[encoded data removed]",
            "text/plain": [
              "<Figure size 432x288 with 1 Axes>"
            ]
          },
          "metadata": {
            "tags": []
          }
        }
      ]
    },
    {
      "cell_type": "code",
      "metadata": {
        "id": "BLlxkRxHU9us",
        "colab_type": "code",
        "colab": {
          "base_uri": "https://localhost:8080/",
          "height": 34
        },
        "outputId": "620723c8-a5ac-449b-d4d3-0fabee6eac57"
      },
      "source": [
        "nlp.pipe_names\n"
      ],
      "execution_count": 191,
      "outputs": [
        {
          "output_type": "execute_result",
          "data": {
            "text/plain": [
              "['tagger', 'parser', 'entity_ruler', 'ner', 'merge_entities']"
            ]
          },
          "metadata": {
            "tags": []
          },
          "execution_count": 191
        }
      ]
    },
    {
      "cell_type": "code",
      "metadata": {
        "id": "h5C6V1QPVhf8",
        "colab_type": "code",
        "colab": {
          "base_uri": "https://localhost:8080/",
          "height": 34
        },
        "outputId": "32594d91-602e-49a0-a2ec-666de1c4715b"
      },
      "source": [
        "ruler = EntityRuler(nlp).from_disk(\"patterns.jsonl\")\n",
        "nlp.add_pipe(ruler, before='ner')\n",
        "merge_ents = nlp.create_pipe(\"merge_entities\")\n",
        "nlp.add_pipe(merge_ents, after='ner')\n",
        "nlp.pipe_names"
      ],
      "execution_count": 184,
      "outputs": [
        {
          "output_type": "execute_result",
          "data": {
            "text/plain": [
              "['tagger', 'parser', 'entity_ruler', 'ner', 'merge_entities']"
            ]
          },
          "metadata": {
            "tags": []
          },
          "execution_count": 184
        }
      ]
    },
    {
      "cell_type": "code",
      "metadata": {
        "id": "OVNSKMZ2s_nH",
        "colab_type": "code",
        "colab": {
          "base_uri": "https://localhost:8080/",
          "height": 1000
        },
        "outputId": "4ec20868-18e3-403d-ffa4-4f5bc9477699"
      },
      "source": [
        "test_docs = train_reviews[900:920]\n",
        "\n",
        "for doc in test_docs:\n",
        "  displacy.render(nlp(doc),'ent',jupyter=True)"
      ],
      "execution_count": 151,
      "outputs": [
        {
          "output_type": "display_data",
          "data": {
            "text/html": [
              "<div class=\"entities\" style=\"line-height: 2.5; direction: ltr\">The way the dish was presented was so different. Unfortunately could not get a good picture as was in a big group at a business meeting. Very well done and with the sauce tasted amazing</div>"
            ],
            "text/plain": [
              "<IPython.core.display.HTML object>"
            ]
          },
          "metadata": {
            "tags": []
          }
        },
        {
          "output_type": "display_data",
          "data": {
            "text/html": [
              "<div class=\"entities\" style=\"line-height: 2.5; direction: ltr\">Off the menu and they added \n",
              "<mark class=\"entity\" style=\"background: #ddd; padding: 0.45em 0.6em; margin: 0 0.25em; line-height: 1; border-radius: 0.35em; box-decoration-break: clone; -webkit-box-decoration-break: clone\">\n",
              "    asparagus\n",
              "    <span style=\"font-size: 0.8em; font-weight: bold; line-height: 1; border-radius: 0.35em; text-transform: uppercase; vertical-align: middle; margin-left: 0.5rem\">vegetable</span>\n",
              "</mark>\n",
              " and \n",
              "<mark class=\"entity\" style=\"background: #ddd; padding: 0.45em 0.6em; margin: 0 0.25em; line-height: 1; border-radius: 0.35em; box-decoration-break: clone; -webkit-box-decoration-break: clone\">\n",
              "    mushroom\n",
              "    <span style=\"font-size: 0.8em; font-weight: bold; line-height: 1; border-radius: 0.35em; text-transform: uppercase; vertical-align: middle; margin-left: 0.5rem\">vegetable</span>\n",
              "</mark>\n",
              " and since I wanted it spicy they did pretty well. The quality of the ingredients was very good.</div>"
            ],
            "text/plain": [
              "<IPython.core.display.HTML object>"
            ]
          },
          "metadata": {
            "tags": []
          }
        },
        {
          "output_type": "display_data",
          "data": {
            "text/html": [
              "<div class=\"entities\" style=\"line-height: 2.5; direction: ltr\">Overall good \n",
              "<mark class=\"entity\" style=\"background: #ddd; padding: 0.45em 0.6em; margin: 0 0.25em; line-height: 1; border-radius: 0.35em; box-decoration-break: clone; -webkit-box-decoration-break: clone\">\n",
              "    salad\n",
              "    <span style=\"font-size: 0.8em; font-weight: bold; line-height: 1; border-radius: 0.35em; text-transform: uppercase; vertical-align: middle; margin-left: 0.5rem\">dish</span>\n",
              "</mark>\n",
              " that was healthy and hadn’t a nice mix of different toppings including grilled tofu, \n",
              "<mark class=\"entity\" style=\"background: #ddd; padding: 0.45em 0.6em; margin: 0 0.25em; line-height: 1; border-radius: 0.35em; box-decoration-break: clone; -webkit-box-decoration-break: clone\">\n",
              "    pomelo\n",
              "    <span style=\"font-size: 0.8em; font-weight: bold; line-height: 1; border-radius: 0.35em; text-transform: uppercase; vertical-align: middle; margin-left: 0.5rem\">vegetable</span>\n",
              "</mark>\n",
              ", \n",
              "<mark class=\"entity\" style=\"background: #ddd; padding: 0.45em 0.6em; margin: 0 0.25em; line-height: 1; border-radius: 0.35em; box-decoration-break: clone; -webkit-box-decoration-break: clone\">\n",
              "    corn\n",
              "    <span style=\"font-size: 0.8em; font-weight: bold; line-height: 1; border-radius: 0.35em; text-transform: uppercase; vertical-align: middle; margin-left: 0.5rem\">vegetable</span>\n",
              "</mark>\n",
              ", \n",
              "<mark class=\"entity\" style=\"background: #ddd; padding: 0.45em 0.6em; margin: 0 0.25em; line-height: 1; border-radius: 0.35em; box-decoration-break: clone; -webkit-box-decoration-break: clone\">\n",
              "    carrots\n",
              "    <span style=\"font-size: 0.8em; font-weight: bold; line-height: 1; border-radius: 0.35em; text-transform: uppercase; vertical-align: middle; margin-left: 0.5rem\">vegetable</span>\n",
              "</mark>\n",
              " and \n",
              "<mark class=\"entity\" style=\"background: #ddd; padding: 0.45em 0.6em; margin: 0 0.25em; line-height: 1; border-radius: 0.35em; box-decoration-break: clone; -webkit-box-decoration-break: clone\">\n",
              "    quinoa\n",
              "    <span style=\"font-size: 0.8em; font-weight: bold; line-height: 1; border-radius: 0.35em; text-transform: uppercase; vertical-align: middle; margin-left: 0.5rem\">dish</span>\n",
              "</mark>\n",
              ".  The \n",
              "<mark class=\"entity\" style=\"background: #ddd; padding: 0.45em 0.6em; margin: 0 0.25em; line-height: 1; border-radius: 0.35em; box-decoration-break: clone; -webkit-box-decoration-break: clone\">\n",
              "    salad\n",
              "    <span style=\"font-size: 0.8em; font-weight: bold; line-height: 1; border-radius: 0.35em; text-transform: uppercase; vertical-align: middle; margin-left: 0.5rem\">dish</span>\n",
              "</mark>\n",
              " dressing could have been a bit more flavorful but I appreciate that they don’t overdress the \n",
              "<mark class=\"entity\" style=\"background: #ddd; padding: 0.45em 0.6em; margin: 0 0.25em; line-height: 1; border-radius: 0.35em; box-decoration-break: clone; -webkit-box-decoration-break: clone\">\n",
              "    salad\n",
              "    <span style=\"font-size: 0.8em; font-weight: bold; line-height: 1; border-radius: 0.35em; text-transform: uppercase; vertical-align: middle; margin-left: 0.5rem\">dish</span>\n",
              "</mark>\n",
              " because that is the worst! I would order again.  TIP: I noticed a new sign that says if you have allergies or are vegan/vegetarian you can ask them to switch out the chopping board. Applaud them for highlighting this option!</div>"
            ],
            "text/plain": [
              "<IPython.core.display.HTML object>"
            ]
          },
          "metadata": {
            "tags": []
          }
        },
        {
          "output_type": "display_data",
          "data": {
            "text/html": [
              "<div class=\"entities\" style=\"line-height: 2.5; direction: ltr\">Not much choices for vegetarians but they do have a veg set menu. I ordered the hot and sour \n",
              "<mark class=\"entity\" style=\"background: #ddd; padding: 0.45em 0.6em; margin: 0 0.25em; line-height: 1; border-radius: 0.35em; box-decoration-break: clone; -webkit-box-decoration-break: clone\">\n",
              "    soup\n",
              "    <span style=\"font-size: 0.8em; font-weight: bold; line-height: 1; border-radius: 0.35em; text-transform: uppercase; vertical-align: middle; margin-left: 0.5rem\">dish</span>\n",
              "</mark>\n",
              " and some fried rice with veggies and tofu without \n",
              "<mark class=\"entity\" style=\"background: #ddd; padding: 0.45em 0.6em; margin: 0 0.25em; line-height: 1; border-radius: 0.35em; box-decoration-break: clone; -webkit-box-decoration-break: clone\">\n",
              "    egg\n",
              "    <span style=\"font-size: 0.8em; font-weight: bold; line-height: 1; border-radius: 0.35em; text-transform: uppercase; vertical-align: middle; margin-left: 0.5rem\">dish</span>\n",
              "</mark>\n",
              ". Could not capture pics as this was a business dinner. The \n",
              "<mark class=\"entity\" style=\"background: #ddd; padding: 0.45em 0.6em; margin: 0 0.25em; line-height: 1; border-radius: 0.35em; box-decoration-break: clone; -webkit-box-decoration-break: clone\">\n",
              "    soup\n",
              "    <span style=\"font-size: 0.8em; font-weight: bold; line-height: 1; border-radius: 0.35em; text-transform: uppercase; vertical-align: middle; margin-left: 0.5rem\">dish</span>\n",
              "</mark>\n",
              " was good. Other dishes so so</div>"
            ],
            "text/plain": [
              "<IPython.core.display.HTML object>"
            ]
          },
          "metadata": {
            "tags": []
          }
        },
        {
          "output_type": "display_data",
          "data": {
            "text/html": [
              "<div class=\"entities\" style=\"line-height: 2.5; direction: ltr\">So colorful. So much variety. I especially like the purple edible flower. #crfsg</div>"
            ],
            "text/plain": [
              "<IPython.core.display.HTML object>"
            ]
          },
          "metadata": {
            "tags": []
          }
        },
        {
          "output_type": "display_data",
          "data": {
            "text/html": [
              "<div class=\"entities\" style=\"line-height: 2.5; direction: ltr\">$10.90, but got it for $5 during the international day of peace disc! honestly for $10.90 it’s pretty expensive so I probably wouldn’t get this usually. anyway quite good though! \n",
              "<mark class=\"entity\" style=\"background: #ddd; padding: 0.45em 0.6em; margin: 0 0.25em; line-height: 1; border-radius: 0.35em; box-decoration-break: clone; -webkit-box-decoration-break: clone\">\n",
              "    linguine\n",
              "    <span style=\"font-size: 0.8em; font-weight: bold; line-height: 1; border-radius: 0.35em; text-transform: uppercase; vertical-align: middle; margin-left: 0.5rem\">dish</span>\n",
              "</mark>\n",
              " in \n",
              "<mark class=\"entity\" style=\"background: #ddd; padding: 0.45em 0.6em; margin: 0 0.25em; line-height: 1; border-radius: 0.35em; box-decoration-break: clone; -webkit-box-decoration-break: clone\">\n",
              "    cashew\n",
              "    <span style=\"font-size: 0.8em; font-weight: bold; line-height: 1; border-radius: 0.35em; text-transform: uppercase; vertical-align: middle; margin-left: 0.5rem\">vegetable</span>\n",
              "</mark>\n",
              " nut cream cheese and \n",
              "<mark class=\"entity\" style=\"background: #ddd; padding: 0.45em 0.6em; margin: 0 0.25em; line-height: 1; border-radius: 0.35em; box-decoration-break: clone; -webkit-box-decoration-break: clone\">\n",
              "    spinach\n",
              "    <span style=\"font-size: 0.8em; font-weight: bold; line-height: 1; border-radius: 0.35em; text-transform: uppercase; vertical-align: middle; margin-left: 0.5rem\">vegetable</span>\n",
              "</mark>\n",
              ", super flavourful and you can’t taste the \n",
              "<mark class=\"entity\" style=\"background: #ddd; padding: 0.45em 0.6em; margin: 0 0.25em; line-height: 1; border-radius: 0.35em; box-decoration-break: clone; -webkit-box-decoration-break: clone\">\n",
              "    spinach\n",
              "    <span style=\"font-size: 0.8em; font-weight: bold; line-height: 1; border-radius: 0.35em; text-transform: uppercase; vertical-align: middle; margin-left: 0.5rem\">vegetable</span>\n",
              "</mark>\n",
              " at all:o not sure how to describe the taste actually bc ive never tried anything like it😂 in a good way! </br>also I waited 35 MINUTES for this which is honestly too long... the place wasn’t super full for them to be so busy, and the person who sat beside me that came 20mins after me and also ordered a \n",
              "<mark class=\"entity\" style=\"background: #ddd; padding: 0.45em 0.6em; margin: 0 0.25em; line-height: 1; border-radius: 0.35em; box-decoration-break: clone; -webkit-box-decoration-break: clone\">\n",
              "    pasta\n",
              "    <span style=\"font-size: 0.8em; font-weight: bold; line-height: 1; border-radius: 0.35em; text-transform: uppercase; vertical-align: middle; margin-left: 0.5rem\">dish</span>\n",
              "</mark>\n",
              " had his \n",
              "<mark class=\"entity\" style=\"background: #ddd; padding: 0.45em 0.6em; margin: 0 0.25em; line-height: 1; border-radius: 0.35em; box-decoration-break: clone; -webkit-box-decoration-break: clone\">\n",
              "    pasta\n",
              "    <span style=\"font-size: 0.8em; font-weight: bold; line-height: 1; border-radius: 0.35em; text-transform: uppercase; vertical-align: middle; margin-left: 0.5rem\">dish</span>\n",
              "</mark>\n",
              " come in 10 mins and mine came after his... and it was only after I asked, them it was served like immediately so I was just wondering where it was sitting this entire time:/ but it still came hot so that was ok! the taste compensated I guess haha</div>"
            ],
            "text/plain": [
              "<IPython.core.display.HTML object>"
            ]
          },
          "metadata": {
            "tags": []
          }
        },
        {
          "output_type": "display_data",
          "data": {
            "text/html": [
              "<div class=\"entities\" style=\"line-height: 2.5; direction: ltr\">Very yummy! I've got a weakness for \n",
              "<mark class=\"entity\" style=\"background: #ddd; padding: 0.45em 0.6em; margin: 0 0.25em; line-height: 1; border-radius: 0.35em; box-decoration-break: clone; -webkit-box-decoration-break: clone\">\n",
              "    pasta\n",
              "    <span style=\"font-size: 0.8em; font-weight: bold; line-height: 1; border-radius: 0.35em; text-transform: uppercase; vertical-align: middle; margin-left: 0.5rem\">dish</span>\n",
              "</mark>\n",
              " and I've tried many vegan \n",
              "<mark class=\"entity\" style=\"background: #ddd; padding: 0.45em 0.6em; margin: 0 0.25em; line-height: 1; border-radius: 0.35em; box-decoration-break: clone; -webkit-box-decoration-break: clone\">\n",
              "    pasta\n",
              "    <span style=\"font-size: 0.8em; font-weight: bold; line-height: 1; border-radius: 0.35em; text-transform: uppercase; vertical-align: middle; margin-left: 0.5rem\">dish</span>\n",
              "</mark>\n",
              " so far. This is \n",
              "<mark class=\"entity\" style=\"background: #e4e7d2; padding: 0.45em 0.6em; margin: 0 0.25em; line-height: 1; border-radius: 0.35em; box-decoration-break: clone; -webkit-box-decoration-break: clone\">\n",
              "    one\n",
              "    <span style=\"font-size: 0.8em; font-weight: bold; line-height: 1; border-radius: 0.35em; text-transform: uppercase; vertical-align: middle; margin-left: 0.5rem\">CARDINAL</span>\n",
              "</mark>\n",
              " of my favourites so far, will come back again for more. #crf</div>"
            ],
            "text/plain": [
              "<IPython.core.display.HTML object>"
            ]
          },
          "metadata": {
            "tags": []
          }
        },
        {
          "output_type": "display_data",
          "data": {
            "text/html": [
              "<div class=\"entities\" style=\"line-height: 2.5; direction: ltr\">Yum! I especially like the nutritional yeast and lots of \n",
              "<mark class=\"entity\" style=\"background: #ddd; padding: 0.45em 0.6em; margin: 0 0.25em; line-height: 1; border-radius: 0.35em; box-decoration-break: clone; -webkit-box-decoration-break: clone\">\n",
              "    spinach\n",
              "    <span style=\"font-size: 0.8em; font-weight: bold; line-height: 1; border-radius: 0.35em; text-transform: uppercase; vertical-align: middle; margin-left: 0.5rem\">dish</span>\n",
              "</mark>\n",
              ". The \n",
              "<mark class=\"entity\" style=\"background: #ddd; padding: 0.45em 0.6em; margin: 0 0.25em; line-height: 1; border-radius: 0.35em; box-decoration-break: clone; -webkit-box-decoration-break: clone\">\n",
              "    pasta\n",
              "    <span style=\"font-size: 0.8em; font-weight: bold; line-height: 1; border-radius: 0.35em; text-transform: uppercase; vertical-align: middle; margin-left: 0.5rem\">dish</span>\n",
              "</mark>\n",
              " is cooked just right. #crfsg</div>"
            ],
            "text/plain": [
              "<IPython.core.display.HTML object>"
            ]
          },
          "metadata": {
            "tags": []
          }
        },
        {
          "output_type": "display_data",
          "data": {
            "text/html": [
              "<div class=\"entities\" style=\"line-height: 2.5; direction: ltr\">The steady stream of visitors to this food truck in a 7-11 parking lot should alert you that the food is authentic.  Prices ridiculously modest, snack spot on!!  The sweet sauce is amazing..</div>"
            ],
            "text/plain": [
              "<IPython.core.display.HTML object>"
            ]
          },
          "metadata": {
            "tags": []
          }
        },
        {
          "output_type": "display_data",
          "data": {
            "text/html": [
              "<div class=\"entities\" style=\"line-height: 2.5; direction: ltr\">Delicious \n",
              "<mark class=\"entity\" style=\"background: #ddd; padding: 0.45em 0.6em; margin: 0 0.25em; line-height: 1; border-radius: 0.35em; box-decoration-break: clone; -webkit-box-decoration-break: clone\">\n",
              "    donut\n",
              "    <span style=\"font-size: 0.8em; font-weight: bold; line-height: 1; border-radius: 0.35em; text-transform: uppercase; vertical-align: middle; margin-left: 0.5rem\">dish</span>\n",
              "</mark>\n",
              " stuffed with homemade \n",
              "<mark class=\"entity\" style=\"background: #ddd; padding: 0.45em 0.6em; margin: 0 0.25em; line-height: 1; border-radius: 0.35em; box-decoration-break: clone; -webkit-box-decoration-break: clone\">\n",
              "    banana cream\n",
              "    <span style=\"font-size: 0.8em; font-weight: bold; line-height: 1; border-radius: 0.35em; text-transform: uppercase; vertical-align: middle; margin-left: 0.5rem\">dish</span>\n",
              "</mark>\n",
              ". The dough had a perfect consistency and there was just the right amount of \n",
              "<mark class=\"entity\" style=\"background: #ddd; padding: 0.45em 0.6em; margin: 0 0.25em; line-height: 1; border-radius: 0.35em; box-decoration-break: clone; -webkit-box-decoration-break: clone\">\n",
              "    banana\n",
              "    <span style=\"font-size: 0.8em; font-weight: bold; line-height: 1; border-radius: 0.35em; text-transform: uppercase; vertical-align: middle; margin-left: 0.5rem\">vegetable</span>\n",
              "</mark>\n",
              " to chocolate ratio. Note, this donut is only sold certain days as the cafe tends to rotate their homemade donuts.</div>"
            ],
            "text/plain": [
              "<IPython.core.display.HTML object>"
            ]
          },
          "metadata": {
            "tags": []
          }
        },
        {
          "output_type": "display_data",
          "data": {
            "text/html": [
              "<div class=\"entities\" style=\"line-height: 2.5; direction: ltr\">Cheese meats bread offers a solid vegan grilled cheese option. Grilled cheeseries are hard to come across in the \n",
              "<mark class=\"entity\" style=\"background: #e4e7d2; padding: 0.45em 0.6em; margin: 0 0.25em; line-height: 1; border-radius: 0.35em; box-decoration-break: clone; -webkit-box-decoration-break: clone\">\n",
              "    first\n",
              "    <span style=\"font-size: 0.8em; font-weight: bold; line-height: 1; border-radius: 0.35em; text-transform: uppercase; vertical-align: middle; margin-left: 0.5rem\">ORDINAL</span>\n",
              "</mark>\n",
              " place and to find a vegan option was pretty exciting. It tasted great, provided the comfort of a non-vegan grilled cheese, and it actually walked the line of late-night and healthy \n",
              "<mark class=\"entity\" style=\"background: #ddd; padding: 0.45em 0.6em; margin: 0 0.25em; line-height: 1; border-radius: 0.35em; box-decoration-break: clone; -webkit-box-decoration-break: clone\">\n",
              "    lunch\n",
              "    <span style=\"font-size: 0.8em; font-weight: bold; line-height: 1; border-radius: 0.35em; text-transform: uppercase; vertical-align: middle; margin-left: 0.5rem\">dish</span>\n",
              "</mark>\n",
              " food. I would definitely recommend it. My only wish is that they offer some of their other \n",
              "<mark class=\"entity\" style=\"background: #ddd; padding: 0.45em 0.6em; margin: 0 0.25em; line-height: 1; border-radius: 0.35em; box-decoration-break: clone; -webkit-box-decoration-break: clone\">\n",
              "    sandwich\n",
              "    <span style=\"font-size: 0.8em; font-weight: bold; line-height: 1; border-radius: 0.35em; text-transform: uppercase; vertical-align: middle; margin-left: 0.5rem\">dish</span>\n",
              "</mark>\n",
              " toppings with the vegan \n",
              "<mark class=\"entity\" style=\"background: #ddd; padding: 0.45em 0.6em; margin: 0 0.25em; line-height: 1; border-radius: 0.35em; box-decoration-break: clone; -webkit-box-decoration-break: clone\">\n",
              "    sandwich\n",
              "    <span style=\"font-size: 0.8em; font-weight: bold; line-height: 1; border-radius: 0.35em; text-transform: uppercase; vertical-align: middle; margin-left: 0.5rem\">dish</span>\n",
              "</mark>\n",
              " (you can't ask for substitutions).</br></br>Ingredients: Vegan cheese, smashed \n",
              "<mark class=\"entity\" style=\"background: #ddd; padding: 0.45em 0.6em; margin: 0 0.25em; line-height: 1; border-radius: 0.35em; box-decoration-break: clone; -webkit-box-decoration-break: clone\">\n",
              "    avocado\n",
              "    <span style=\"font-size: 0.8em; font-weight: bold; line-height: 1; border-radius: 0.35em; text-transform: uppercase; vertical-align: middle; margin-left: 0.5rem\">dish</span>\n",
              "</mark>\n",
              ", roasted \n",
              "<mark class=\"entity\" style=\"background: #ddd; padding: 0.45em 0.6em; margin: 0 0.25em; line-height: 1; border-radius: 0.35em; box-decoration-break: clone; -webkit-box-decoration-break: clone\">\n",
              "    tomatoes\n",
              "    <span style=\"font-size: 0.8em; font-weight: bold; line-height: 1; border-radius: 0.35em; text-transform: uppercase; vertical-align: middle; margin-left: 0.5rem\">vegetable</span>\n",
              "</mark>\n",
              ", \n",
              "<mark class=\"entity\" style=\"background: #ddd; padding: 0.45em 0.6em; margin: 0 0.25em; line-height: 1; border-radius: 0.35em; box-decoration-break: clone; -webkit-box-decoration-break: clone\">\n",
              "    kale\n",
              "    <span style=\"font-size: 0.8em; font-weight: bold; line-height: 1; border-radius: 0.35em; text-transform: uppercase; vertical-align: middle; margin-left: 0.5rem\">vegetable</span>\n",
              "</mark>\n",
              ", balsamic drizzle, whole wheat bread, vegan butter</div>"
            ],
            "text/plain": [
              "<IPython.core.display.HTML object>"
            ]
          },
          "metadata": {
            "tags": []
          }
        },
        {
          "output_type": "display_data",
          "data": {
            "text/html": [
              "<div class=\"entities\" style=\"line-height: 2.5; direction: ltr\">This restaurant only offers 10 orders of these per day. The dipping cube is actually a bread cube filled with \n",
              "<mark class=\"entity\" style=\"background: #ddd; padding: 0.45em 0.6em; margin: 0 0.25em; line-height: 1; border-radius: 0.35em; box-decoration-break: clone; -webkit-box-decoration-break: clone\">\n",
              "    pumpkin\n",
              "    <span style=\"font-size: 0.8em; font-weight: bold; line-height: 1; border-radius: 0.35em; text-transform: uppercase; vertical-align: middle; margin-left: 0.5rem\">dish</span>\n",
              "</mark>\n",
              " and some sprinkled vegan cheese on top. Although this isn’t the healthiest (the skewers are deep fried!) this is a good sharing dish. The veggies include winter \n",
              "<mark class=\"entity\" style=\"background: #ddd; padding: 0.45em 0.6em; margin: 0 0.25em; line-height: 1; border-radius: 0.35em; box-decoration-break: clone; -webkit-box-decoration-break: clone\">\n",
              "    melon\n",
              "    <span style=\"font-size: 0.8em; font-weight: bold; line-height: 1; border-radius: 0.35em; text-transform: uppercase; vertical-align: middle; margin-left: 0.5rem\">vegetable</span>\n",
              "</mark>\n",
              ", \n",
              "<mark class=\"entity\" style=\"background: #ddd; padding: 0.45em 0.6em; margin: 0 0.25em; line-height: 1; border-radius: 0.35em; box-decoration-break: clone; -webkit-box-decoration-break: clone\">\n",
              "    mushroom\n",
              "    <span style=\"font-size: 0.8em; font-weight: bold; line-height: 1; border-radius: 0.35em; text-transform: uppercase; vertical-align: middle; margin-left: 0.5rem\">vegetable</span>\n",
              "</mark>\n",
              ", Choi sum, as well as \n",
              "<mark class=\"entity\" style=\"background: #ddd; padding: 0.45em 0.6em; margin: 0 0.25em; line-height: 1; border-radius: 0.35em; box-decoration-break: clone; -webkit-box-decoration-break: clone\">\n",
              "    rice\n",
              "    <span style=\"font-size: 0.8em; font-weight: bold; line-height: 1; border-radius: 0.35em; text-transform: uppercase; vertical-align: middle; margin-left: 0.5rem\">vegetable</span>\n",
              "</mark>\n",
              " rolls and \n",
              "<mark class=\"entity\" style=\"background: #ddd; padding: 0.45em 0.6em; margin: 0 0.25em; line-height: 1; border-radius: 0.35em; box-decoration-break: clone; -webkit-box-decoration-break: clone\">\n",
              "    tofu\n",
              "    <span style=\"font-size: 0.8em; font-weight: bold; line-height: 1; border-radius: 0.35em; text-transform: uppercase; vertical-align: middle; margin-left: 0.5rem\">dish</span>\n",
              "</mark>\n",
              ". It also comes with a side of \n",
              "<mark class=\"entity\" style=\"background: #ddd; padding: 0.45em 0.6em; margin: 0 0.25em; line-height: 1; border-radius: 0.35em; box-decoration-break: clone; -webkit-box-decoration-break: clone\">\n",
              "    kimchi\n",
              "    <span style=\"font-size: 0.8em; font-weight: bold; line-height: 1; border-radius: 0.35em; text-transform: uppercase; vertical-align: middle; margin-left: 0.5rem\">vegetable</span>\n",
              "</mark>\n",
              ", something I haven’t tried since going vegan!</div>"
            ],
            "text/plain": [
              "<IPython.core.display.HTML object>"
            ]
          },
          "metadata": {
            "tags": []
          }
        },
        {
          "output_type": "display_data",
          "data": {
            "text/html": [
              "<div class=\"entities\" style=\"line-height: 2.5; direction: ltr\">The \n",
              "<mark class=\"entity\" style=\"background: #ddd; padding: 0.45em 0.6em; margin: 0 0.25em; line-height: 1; border-radius: 0.35em; box-decoration-break: clone; -webkit-box-decoration-break: clone\">\n",
              "    bacon\n",
              "    <span style=\"font-size: 0.8em; font-weight: bold; line-height: 1; border-radius: 0.35em; text-transform: uppercase; vertical-align: middle; margin-left: 0.5rem\">dish</span>\n",
              "</mark>\n",
              " looked so real, I was so afraid to eat it!!  A must try!</div>"
            ],
            "text/plain": [
              "<IPython.core.display.HTML object>"
            ]
          },
          "metadata": {
            "tags": []
          }
        },
        {
          "output_type": "display_data",
          "data": {
            "text/html": [
              "<div class=\"entities\" style=\"line-height: 2.5; direction: ltr\">These are the only dim sum / \n",
              "<mark class=\"entity\" style=\"background: #ddd; padding: 0.45em 0.6em; margin: 0 0.25em; line-height: 1; border-radius: 0.35em; box-decoration-break: clone; -webkit-box-decoration-break: clone\">\n",
              "    dumpling\n",
              "    <span style=\"font-size: 0.8em; font-weight: bold; line-height: 1; border-radius: 0.35em; text-transform: uppercase; vertical-align: middle; margin-left: 0.5rem\">dish</span>\n",
              "</mark>\n",
              " option which is vegan. You can tell these \n",
              "<mark class=\"entity\" style=\"background: #ddd; padding: 0.45em 0.6em; margin: 0 0.25em; line-height: 1; border-radius: 0.35em; box-decoration-break: clone; -webkit-box-decoration-break: clone\">\n",
              "    dumplings\n",
              "    <span style=\"font-size: 0.8em; font-weight: bold; line-height: 1; border-radius: 0.35em; text-transform: uppercase; vertical-align: middle; margin-left: 0.5rem\">dish</span>\n",
              "</mark>\n",
              " are fresh and have a hint of truffle (not too powerful!)</div>"
            ],
            "text/plain": [
              "<IPython.core.display.HTML object>"
            ]
          },
          "metadata": {
            "tags": []
          }
        },
        {
          "output_type": "display_data",
          "data": {
            "text/html": [
              "<div class=\"entities\" style=\"line-height: 2.5; direction: ltr\">Although I really don’t like \n",
              "<mark class=\"entity\" style=\"background: #ddd; padding: 0.45em 0.6em; margin: 0 0.25em; line-height: 1; border-radius: 0.35em; box-decoration-break: clone; -webkit-box-decoration-break: clone\">\n",
              "    kale\n",
              "    <span style=\"font-size: 0.8em; font-weight: bold; line-height: 1; border-radius: 0.35em; text-transform: uppercase; vertical-align: middle; margin-left: 0.5rem\">dish</span>\n",
              "</mark>\n",
              " on its own, this dish was flavourful and easy to digest. The \n",
              "<mark class=\"entity\" style=\"background: #ddd; padding: 0.45em 0.6em; margin: 0 0.25em; line-height: 1; border-radius: 0.35em; box-decoration-break: clone; -webkit-box-decoration-break: clone\">\n",
              "    goji\n",
              "    <span style=\"font-size: 0.8em; font-weight: bold; line-height: 1; border-radius: 0.35em; text-transform: uppercase; vertical-align: middle; margin-left: 0.5rem\">fruit</span>\n",
              "</mark>\n",
              " berries are a nice touch.</div>"
            ],
            "text/plain": [
              "<IPython.core.display.HTML object>"
            ]
          },
          "metadata": {
            "tags": []
          }
        },
        {
          "output_type": "display_data",
          "data": {
            "text/html": [
              "<div class=\"entities\" style=\"line-height: 2.5; direction: ltr\">This \n",
              "<mark class=\"entity\" style=\"background: #ddd; padding: 0.45em 0.6em; margin: 0 0.25em; line-height: 1; border-radius: 0.35em; box-decoration-break: clone; -webkit-box-decoration-break: clone\">\n",
              "    eggplant\n",
              "    <span style=\"font-size: 0.8em; font-weight: bold; line-height: 1; border-radius: 0.35em; text-transform: uppercase; vertical-align: middle; margin-left: 0.5rem\">dish</span>\n",
              "</mark>\n",
              " was cooked perfectly and wasn’t too oily. There was a great combination of flavours and it wasn’t too spicy.</div>"
            ],
            "text/plain": [
              "<IPython.core.display.HTML object>"
            ]
          },
          "metadata": {
            "tags": []
          }
        },
        {
          "output_type": "display_data",
          "data": {
            "text/html": [
              "<div class=\"entities\" style=\"line-height: 2.5; direction: ltr\">*** update, these are NOT vegan since theyre made with \n",
              "<mark class=\"entity\" style=\"background: #ddd; padding: 0.45em 0.6em; margin: 0 0.25em; line-height: 1; border-radius: 0.35em; box-decoration-break: clone; -webkit-box-decoration-break: clone\">\n",
              "    egg\n",
              "    <span style=\"font-size: 0.8em; font-weight: bold; line-height: 1; border-radius: 0.35em; text-transform: uppercase; vertical-align: middle; margin-left: 0.5rem\">dish</span>\n",
              "</mark>\n",
              "*** This was actually a large portion of noodles. A nice combination of truffle, \n",
              "<mark class=\"entity\" style=\"background: #ddd; padding: 0.45em 0.6em; margin: 0 0.25em; line-height: 1; border-radius: 0.35em; box-decoration-break: clone; -webkit-box-decoration-break: clone\">\n",
              "    mushrooms\n",
              "    <span style=\"font-size: 0.8em; font-weight: bold; line-height: 1; border-radius: 0.35em; text-transform: uppercase; vertical-align: middle; margin-left: 0.5rem\">vegetable</span>\n",
              "</mark>\n",
              ", and \n",
              "<mark class=\"entity\" style=\"background: #ddd; padding: 0.45em 0.6em; margin: 0 0.25em; line-height: 1; border-radius: 0.35em; box-decoration-break: clone; -webkit-box-decoration-break: clone\">\n",
              "    edamame\n",
              "    <span style=\"font-size: 0.8em; font-weight: bold; line-height: 1; border-radius: 0.35em; text-transform: uppercase; vertical-align: middle; margin-left: 0.5rem\">vegetable</span>\n",
              "</mark>\n",
              ".</div>"
            ],
            "text/plain": [
              "<IPython.core.display.HTML object>"
            ]
          },
          "metadata": {
            "tags": []
          }
        },
        {
          "output_type": "display_data",
          "data": {
            "text/html": [
              "<div class=\"entities\" style=\"line-height: 2.5; direction: ltr\">This \n",
              "<mark class=\"entity\" style=\"background: #ddd; padding: 0.45em 0.6em; margin: 0 0.25em; line-height: 1; border-radius: 0.35em; box-decoration-break: clone; -webkit-box-decoration-break: clone\">\n",
              "    tofu\n",
              "    <span style=\"font-size: 0.8em; font-weight: bold; line-height: 1; border-radius: 0.35em; text-transform: uppercase; vertical-align: middle; margin-left: 0.5rem\">dish</span>\n",
              "</mark>\n",
              " is a favourite with my carnivore friends. It’s silken tofu with delicious seasonings on a bed of fried enoki \n",
              "<mark class=\"entity\" style=\"background: #ddd; padding: 0.45em 0.6em; margin: 0 0.25em; line-height: 1; border-radius: 0.35em; box-decoration-break: clone; -webkit-box-decoration-break: clone\">\n",
              "    mushrooms\n",
              "    <span style=\"font-size: 0.8em; font-weight: bold; line-height: 1; border-radius: 0.35em; text-transform: uppercase; vertical-align: middle; margin-left: 0.5rem\">vegetable</span>\n",
              "</mark>\n",
              ".</div>"
            ],
            "text/plain": [
              "<IPython.core.display.HTML object>"
            ]
          },
          "metadata": {
            "tags": []
          }
        },
        {
          "output_type": "display_data",
          "data": {
            "text/html": [
              "<div class=\"entities\" style=\"line-height: 2.5; direction: ltr\">I’ve never tried \n",
              "<mark class=\"entity\" style=\"background: #ddd; padding: 0.45em 0.6em; margin: 0 0.25em; line-height: 1; border-radius: 0.35em; box-decoration-break: clone; -webkit-box-decoration-break: clone\">\n",
              "    kale\n",
              "    <span style=\"font-size: 0.8em; font-weight: bold; line-height: 1; border-radius: 0.35em; text-transform: uppercase; vertical-align: middle; margin-left: 0.5rem\">vegetable</span>\n",
              "</mark>\n",
              " that looked like this before. The tartness of the \n",
              "<mark class=\"entity\" style=\"background: #ddd; padding: 0.45em 0.6em; margin: 0 0.25em; line-height: 1; border-radius: 0.35em; box-decoration-break: clone; -webkit-box-decoration-break: clone\">\n",
              "    pomegranate seeds\n",
              "    <span style=\"font-size: 0.8em; font-weight: bold; line-height: 1; border-radius: 0.35em; text-transform: uppercase; vertical-align: middle; margin-left: 0.5rem\">dish</span>\n",
              "</mark>\n",
              " complimented the bitterness of the veggie.</div>"
            ],
            "text/plain": [
              "<IPython.core.display.HTML object>"
            ]
          },
          "metadata": {
            "tags": []
          }
        },
        {
          "output_type": "display_data",
          "data": {
            "text/html": [
              "<div class=\"entities\" style=\"line-height: 2.5; direction: ltr\">This is a healthy fruit dessert in a sweet \n",
              "<mark class=\"entity\" style=\"background: #ddd; padding: 0.45em 0.6em; margin: 0 0.25em; line-height: 1; border-radius: 0.35em; box-decoration-break: clone; -webkit-box-decoration-break: clone\">\n",
              "    soup\n",
              "    <span style=\"font-size: 0.8em; font-weight: bold; line-height: 1; border-radius: 0.35em; text-transform: uppercase; vertical-align: middle; margin-left: 0.5rem\">dish</span>\n",
              "</mark>\n",
              "-like base with \n",
              "<mark class=\"entity\" style=\"background: #ddd; padding: 0.45em 0.6em; margin: 0 0.25em; line-height: 1; border-radius: 0.35em; box-decoration-break: clone; -webkit-box-decoration-break: clone\">\n",
              "    goji\n",
              "    <span style=\"font-size: 0.8em; font-weight: bold; line-height: 1; border-radius: 0.35em; text-transform: uppercase; vertical-align: middle; margin-left: 0.5rem\">fruit</span>\n",
              "</mark>\n",
              " berries. Great if you don’t want something too filling or too sweet!</div>"
            ],
            "text/plain": [
              "<IPython.core.display.HTML object>"
            ]
          },
          "metadata": {
            "tags": []
          }
        }
      ]
    },
    {
      "cell_type": "code",
      "metadata": {
        "id": "VgFoa_qg27IU",
        "colab_type": "code",
        "outputId": "52bdb3fc-621e-4c38-8740-1fa288c3ff86",
        "colab": {
          "base_uri": "https://localhost:8080/",
          "height": 34
        }
      },
      "source": [
        "pwd"
      ],
      "execution_count": 0,
      "outputs": [
        {
          "output_type": "execute_result",
          "data": {
            "text/plain": [
              "'/gdrive/My Drive/abv_reviews'"
            ]
          },
          "metadata": {
            "tags": []
          },
          "execution_count": 375
        }
      ]
    },
    {
      "cell_type": "code",
      "metadata": {
        "id": "giyKfzGBDiCd",
        "colab_type": "code",
        "outputId": "2d571add-9be5-49bb-db69-ddf334b7f944",
        "colab": {
          "base_uri": "https://localhost:8080/",
          "height": 1000
        }
      },
      "source": [
        "check_list"
      ],
      "execution_count": 108,
      "outputs": [
        {
          "output_type": "execute_result",
          "data": {
            "text/plain": [
              "[('bok', 'U_vegetable'),\n",
              " ('choy', 'U_vegetable'),\n",
              " ('bean', 'U_vegetable'),\n",
              " ('sprouts', 'U_vegetable'),\n",
              " ('soffritto', 'U_dish'),\n",
              " ('patties', 'U_dish'),\n",
              " ('cakes', 'U_dish'),\n",
              " ('parmesan', 'U_dish'),\n",
              " ('cheese', 'U_dish'),\n",
              " ('breadcrumbs', 'U_dish'),\n",
              " ('soy', 'U_condiment'),\n",
              " ('sauce', 'U_condiment'),\n",
              " ('olive', 'U_condiment'),\n",
              " ('oil', 'U_condiment'),\n",
              " ('wine', 'U_beverage'),\n",
              " ('3/4-inch', 'U_QUANTITY'),\n",
              " ('2-inch', 'U_QUANTITY'),\n",
              " ('3-inch', 'U_QUANTITY'),\n",
              " ('6-inch', 'U_QUANTITY'),\n",
              " ('first', 'U_ORDINAL'),\n",
              " ('second', 'U_ORDINAL'),\n",
              " ('third', 'U_ORDINAL'),\n",
              " ('fourth', 'U_ORDINAL'),\n",
              " ('fifth', 'U_ORDINAL'),\n",
              " ('last', 'U_ORDINAL'),\n",
              " ('1', 'U_CARDINAL'),\n",
              " ('2', 'U_CARDINAL'),\n",
              " ('3', 'U_CARDINAL'),\n",
              " ('4', 'U_CARDINAL'),\n",
              " ('5', 'U_CARDINAL'),\n",
              " ('6', 'U_CARDINAL'),\n",
              " ('10', 'U_CARDINAL'),\n",
              " ('100', 'U_CARDINAL'),\n",
              " ('one', 'U_CARDINAL'),\n",
              " ('two', 'U_CARDINAL'),\n",
              " ('three', 'U_CARDINAL'),\n",
              " ('four', 'U_CARDINAL'),\n",
              " ('five', 'U_CARDINAL'),\n",
              " ('six', 'U_CARDINAL'),\n",
              " ('seven', 'U_CARDINAL'),\n",
              " ('eight', 'U_CARDINAL'),\n",
              " ('nine', 'U_CARDINAL'),\n",
              " ('ten', 'U_CARDINAL'),\n",
              " ('minute', 'U_TIME'),\n",
              " ('minutes', 'U_TIME'),\n",
              " ('seconds', 'U_TIME'),\n",
              " ('hour', 'U_TIME'),\n",
              " ('hours', 'U_TIME'),\n",
              " ('day', 'U_TIME'),\n",
              " ('$', 'U_MONEY'),\n",
              " ('USD', 'U_MONEY'),\n",
              " ('SGD', 'U_MONEY'),\n",
              " ('S$', 'U_MONEY'),\n",
              " ('Rs', 'U_MONEY'),\n",
              " ('£', 'U_MONEY'),\n",
              " ('€', 'U_MONEY'),\n",
              " ('bacon', 'U_dish'),\n",
              " ('burger', 'U_dish'),\n",
              " ('portobello mushroom', 'U_vegetable'),\n",
              " ('tomatoes', 'U_vegetable'),\n",
              " ('pickles', 'U_condiment'),\n",
              " ('french beans', 'U_vegetable'),\n",
              " ('bento', 'U_dish'),\n",
              " (\"lion's mane mushroom\", 'U_vegetable'),\n",
              " ('lion mane mushroom', 'U_1'),\n",
              " ('beehoon', 'U_dish'),\n",
              " ('dollar', 'U_MONEY'),\n",
              " (\"lion's mane mushroom rendang\", 'U_dish'),\n",
              " ('soy chunks', 'U_dish'),\n",
              " ('soya noodles', 'U_dish'),\n",
              " ('beans', 'U_vegetable'),\n",
              " ('peppers', 'U_condiment'),\n",
              " ('paneer tikka masala', 'U_dish'),\n",
              " ('sweet potato', 'U_vegetable'),\n",
              " ('falafels', 'U_dish')]"
            ]
          },
          "metadata": {
            "tags": []
          },
          "execution_count": 108
        }
      ]
    },
    {
      "cell_type": "code",
      "metadata": {
        "id": "BdUe0QHS2huF",
        "colab_type": "code",
        "colab": {}
      },
      "source": [
        "nlp.to_disk('trained_model_2020_01_08')"
      ],
      "execution_count": 0,
      "outputs": []
    },
    {
      "cell_type": "code",
      "metadata": {
        "id": "OkwkkIwToFSn",
        "colab_type": "code",
        "colab": {}
      },
      "source": [
        "import json\n",
        "\n",
        "with open('checklist.txt', 'w') as f:\n",
        "    f.write(json.dumps(check_list))"
      ],
      "execution_count": 0,
      "outputs": []
    },
    {
      "cell_type": "code",
      "metadata": {
        "id": "DdEsXdFB8VVJ",
        "colab_type": "code",
        "outputId": "347ccd64-426c-4651-861a-efc85e513cae",
        "colab": {
          "base_uri": "https://localhost:8080/",
          "height": 34
        }
      },
      "source": [
        "[token.pos_ for token in nlp(\"lion's mane mushroom falafels\")]"
      ],
      "execution_count": 114,
      "outputs": [
        {
          "output_type": "execute_result",
          "data": {
            "text/plain": [
              "['NOUN', 'PART', 'NOUN', 'NOUN', 'NOUN']"
            ]
          },
          "metadata": {
            "tags": []
          },
          "execution_count": 114
        }
      ]
    },
    {
      "cell_type": "code",
      "metadata": {
        "id": "gAn4XTSI3zLS",
        "colab_type": "code",
        "outputId": "af9282f9-b33a-4faa-9a2c-dbe755ad8e32",
        "colab": {
          "base_uri": "https://localhost:8080/",
          "height": 767
        }
      },
      "source": [
        "for doc in list(nlp.pipe(texts[check])):\n",
        "  displacy.render(doc,'ent',jupyter=True)\n",
        "#  displacy.render(doc,'dep',jupyter=True,options={'distance': 60, 'fine_grained': True})"
      ],
      "execution_count": 0,
      "outputs": [
        {
          "output_type": "display_data",
          "data": {
            "text/html": [
              "<div class=\"entities\" style=\"line-height: 2.5; direction: ltr\">I ordered the high rise pizza dough, red \n",
              "<mark class=\"entity\" style=\"background: #ddd; padding: 0.45em 0.6em; margin: 0 0.25em; line-height: 1; border-radius: 0.35em; box-decoration-break: clone; -webkit-box-decoration-break: clone\">\n",
              "    sauce\n",
              "    <span style=\"font-size: 0.8em; font-weight: bold; line-height: 1; border-radius: 0.35em; text-transform: uppercase; vertical-align: middle; margin-left: 0.5rem\">dish</span>\n",
              "</mark>\n",
              ", vegan \n",
              "<mark class=\"entity\" style=\"background: #ddd; padding: 0.45em 0.6em; margin: 0 0.25em; line-height: 1; border-radius: 0.35em; box-decoration-break: clone; -webkit-box-decoration-break: clone\">\n",
              "    cheese\n",
              "    <span style=\"font-size: 0.8em; font-weight: bold; line-height: 1; border-radius: 0.35em; text-transform: uppercase; vertical-align: middle; margin-left: 0.5rem\">dish</span>\n",
              "</mark>\n",
              ", \n",
              "<mark class=\"entity\" style=\"background: #ddd; padding: 0.45em 0.6em; margin: 0 0.25em; line-height: 1; border-radius: 0.35em; box-decoration-break: clone; -webkit-box-decoration-break: clone\">\n",
              "    oregano\n",
              "    <span style=\"font-size: 0.8em; font-weight: bold; line-height: 1; border-radius: 0.35em; text-transform: uppercase; vertical-align: middle; margin-left: 0.5rem\">dish</span>\n",
              "</mark>\n",
              ", \n",
              "<mark class=\"entity\" style=\"background: #ddd; padding: 0.45em 0.6em; margin: 0 0.25em; line-height: 1; border-radius: 0.35em; box-decoration-break: clone; -webkit-box-decoration-break: clone\">\n",
              "    basil\n",
              "    <span style=\"font-size: 0.8em; font-weight: bold; line-height: 1; border-radius: 0.35em; text-transform: uppercase; vertical-align: middle; margin-left: 0.5rem\">dish</span>\n",
              "</mark>\n",
              " leaves, and balsamiq drizzle. Very cool set up there, they even change their gloves before working on the pizza at both prep and oven stages. Very tasty.</div>"
            ],
            "text/plain": [
              "<IPython.core.display.HTML object>"
            ]
          },
          "metadata": {
            "tags": []
          }
        },
        {
          "output_type": "display_data",
          "data": {
            "text/html": [
              "<div class=\"entities\" style=\"line-height: 2.5; direction: ltr\">Spinach and pumpkin flavoured \n",
              "<mark class=\"entity\" style=\"background: #ddd; padding: 0.45em 0.6em; margin: 0 0.25em; line-height: 1; border-radius: 0.35em; box-decoration-break: clone; -webkit-box-decoration-break: clone\">\n",
              "    ravioli\n",
              "    <span style=\"font-size: 0.8em; font-weight: bold; line-height: 1; border-radius: 0.35em; text-transform: uppercase; vertical-align: middle; margin-left: 0.5rem\">dish</span>\n",
              "</mark>\n",
              " was an excellent combination.\n",
              "#crfsg</div>"
            ],
            "text/plain": [
              "<IPython.core.display.HTML object>"
            ]
          },
          "metadata": {
            "tags": []
          }
        },
        {
          "output_type": "display_data",
          "data": {
            "text/html": [
              "<div class=\"entities\" style=\"line-height: 2.5; direction: ltr\">The \n",
              "<mark class=\"entity\" style=\"background: #ddd; padding: 0.45em 0.6em; margin: 0 0.25em; line-height: 1; border-radius: 0.35em; box-decoration-break: clone; -webkit-box-decoration-break: clone\">\n",
              "    vegan\n",
              "    <span style=\"font-size: 0.8em; font-weight: bold; line-height: 1; border-radius: 0.35em; text-transform: uppercase; vertical-align: middle; margin-left: 0.5rem\">dish</span>\n",
              "</mark>\n",
              " options to customize my \n",
              "<mark class=\"entity\" style=\"background: #ddd; padding: 0.45em 0.6em; margin: 0 0.25em; line-height: 1; border-radius: 0.35em; box-decoration-break: clone; -webkit-box-decoration-break: clone\">\n",
              "    salad\n",
              "    <span style=\"font-size: 0.8em; font-weight: bold; line-height: 1; border-radius: 0.35em; text-transform: uppercase; vertical-align: middle; margin-left: 0.5rem\">dish</span>\n",
              "</mark>\n",
              " are awesome! My base today was \n",
              "<mark class=\"entity\" style=\"background: #ddd; padding: 0.45em 0.6em; margin: 0 0.25em; line-height: 1; border-radius: 0.35em; box-decoration-break: clone; -webkit-box-decoration-break: clone\">\n",
              "    bulgar\n",
              "    <span style=\"font-size: 0.8em; font-weight: bold; line-height: 1; border-radius: 0.35em; text-transform: uppercase; vertical-align: middle; margin-left: 0.5rem\">vegetable</span>\n",
              "</mark>\n",
              " \n",
              "<mark class=\"entity\" style=\"background: #ddd; padding: 0.45em 0.6em; margin: 0 0.25em; line-height: 1; border-radius: 0.35em; box-decoration-break: clone; -webkit-box-decoration-break: clone\">\n",
              "    wheat\n",
              "    <span style=\"font-size: 0.8em; font-weight: bold; line-height: 1; border-radius: 0.35em; text-transform: uppercase; vertical-align: middle; margin-left: 0.5rem\">dish</span>\n",
              "</mark>\n",
              " &amp; \n",
              "<mark class=\"entity\" style=\"background: #ddd; padding: 0.45em 0.6em; margin: 0 0.25em; line-height: 1; border-radius: 0.35em; box-decoration-break: clone; -webkit-box-decoration-break: clone\">\n",
              "    corn\n",
              "    <span style=\"font-size: 0.8em; font-weight: bold; line-height: 1; border-radius: 0.35em; text-transform: uppercase; vertical-align: middle; margin-left: 0.5rem\">dish</span>\n",
              "</mark>\n",
              ", and I got \n",
              "<mark class=\"entity\" style=\"background: #ddd; padding: 0.45em 0.6em; margin: 0 0.25em; line-height: 1; border-radius: 0.35em; box-decoration-break: clone; -webkit-box-decoration-break: clone\">\n",
              "    sesame\n",
              "    <span style=\"font-size: 0.8em; font-weight: bold; line-height: 1; border-radius: 0.35em; text-transform: uppercase; vertical-align: middle; margin-left: 0.5rem\">dish</span>\n",
              "</mark>\n",
              " roasted carrots, roasted beets &amp; carrots, their delicious \n",
              "<mark class=\"entity\" style=\"background: #ddd; padding: 0.45em 0.6em; margin: 0 0.25em; line-height: 1; border-radius: 0.35em; box-decoration-break: clone; -webkit-box-decoration-break: clone\">\n",
              "    panko\n",
              "    <span style=\"font-size: 0.8em; font-weight: bold; line-height: 1; border-radius: 0.35em; text-transform: uppercase; vertical-align: middle; margin-left: 0.5rem\">dish</span>\n",
              "</mark>\n",
              " crusted fried \n",
              "<mark class=\"entity\" style=\"background: #ddd; padding: 0.45em 0.6em; margin: 0 0.25em; line-height: 1; border-radius: 0.35em; box-decoration-break: clone; -webkit-box-decoration-break: clone\">\n",
              "    tofu\n",
              "    <span style=\"font-size: 0.8em; font-weight: bold; line-height: 1; border-radius: 0.35em; text-transform: uppercase; vertical-align: middle; margin-left: 0.5rem\">dish</span>\n",
              "</mark>\n",
              ", freshly sliced \n",
              "<mark class=\"entity\" style=\"background: #ddd; padding: 0.45em 0.6em; margin: 0 0.25em; line-height: 1; border-radius: 0.35em; box-decoration-break: clone; -webkit-box-decoration-break: clone\">\n",
              "    avocado\n",
              "    <span style=\"font-size: 0.8em; font-weight: bold; line-height: 1; border-radius: 0.35em; text-transform: uppercase; vertical-align: middle; margin-left: 0.5rem\">dish</span>\n",
              "</mark>\n",
              " and topped it off with \n",
              "<mark class=\"entity\" style=\"background: #ddd; padding: 0.45em 0.6em; margin: 0 0.25em; line-height: 1; border-radius: 0.35em; box-decoration-break: clone; -webkit-box-decoration-break: clone\">\n",
              "    sesame\n",
              "    <span style=\"font-size: 0.8em; font-weight: bold; line-height: 1; border-radius: 0.35em; text-transform: uppercase; vertical-align: middle; margin-left: 0.5rem\">vegetable</span>\n",
              "</mark>\n",
              " \n",
              "<mark class=\"entity\" style=\"background: #ddd; padding: 0.45em 0.6em; margin: 0 0.25em; line-height: 1; border-radius: 0.35em; box-decoration-break: clone; -webkit-box-decoration-break: clone\">\n",
              "    tahini\n",
              "    <span style=\"font-size: 0.8em; font-weight: bold; line-height: 1; border-radius: 0.35em; text-transform: uppercase; vertical-align: middle; margin-left: 0.5rem\">vegetable</span>\n",
              "</mark>\n",
              ". All for $10. This was an awesome meal, definitely recommend #avorush if you want something healthy!</div>"
            ],
            "text/plain": [
              "<IPython.core.display.HTML object>"
            ]
          },
          "metadata": {
            "tags": []
          }
        },
        {
          "output_type": "display_data",
          "data": {
            "text/html": [
              "<div class=\"entities\" style=\"line-height: 2.5; direction: ltr\">I love that the restaurant has a good range of \n",
              "<mark class=\"entity\" style=\"background: #ddd; padding: 0.45em 0.6em; margin: 0 0.25em; line-height: 1; border-radius: 0.35em; box-decoration-break: clone; -webkit-box-decoration-break: clone\">\n",
              "    vegan\n",
              "    <span style=\"font-size: 0.8em; font-weight: bold; line-height: 1; border-radius: 0.35em; text-transform: uppercase; vertical-align: middle; margin-left: 0.5rem\">dish</span>\n",
              "</mark>\n",
              " options. I just think that the \n",
              "<mark class=\"entity\" style=\"background: #ddd; padding: 0.45em 0.6em; margin: 0 0.25em; line-height: 1; border-radius: 0.35em; box-decoration-break: clone; -webkit-box-decoration-break: clone\">\n",
              "    patties\n",
              "    <span style=\"font-size: 0.8em; font-weight: bold; line-height: 1; border-radius: 0.35em; text-transform: uppercase; vertical-align: middle; margin-left: 0.5rem\">dish</span>\n",
              "</mark>\n",
              " can be worked on, the crust were thick and the filling was quite mushy, almost like a \n",
              "<mark class=\"entity\" style=\"background: #ddd; padding: 0.45em 0.6em; margin: 0 0.25em; line-height: 1; border-radius: 0.35em; box-decoration-break: clone; -webkit-box-decoration-break: clone\">\n",
              "    croquette\n",
              "    <span style=\"font-size: 0.8em; font-weight: bold; line-height: 1; border-radius: 0.35em; text-transform: uppercase; vertical-align: middle; margin-left: 0.5rem\">dish</span>\n",
              "</mark>\n",
              ", i wld like to look forward to something more firm to bite into, like a “\n",
              "<mark class=\"entity\" style=\"background: #ddd; padding: 0.45em 0.6em; margin: 0 0.25em; line-height: 1; border-radius: 0.35em; box-decoration-break: clone; -webkit-box-decoration-break: clone\">\n",
              "    chicken\n",
              "    <span style=\"font-size: 0.8em; font-weight: bold; line-height: 1; border-radius: 0.35em; text-transform: uppercase; vertical-align: middle; margin-left: 0.5rem\">dish</span>\n",
              "</mark>\n",
              "” \n",
              "<mark class=\"entity\" style=\"background: #ddd; padding: 0.45em 0.6em; margin: 0 0.25em; line-height: 1; border-radius: 0.35em; box-decoration-break: clone; -webkit-box-decoration-break: clone\">\n",
              "    patty\n",
              "    <span style=\"font-size: 0.8em; font-weight: bold; line-height: 1; border-radius: 0.35em; text-transform: uppercase; vertical-align: middle; margin-left: 0.5rem\">dish</span>\n",
              "</mark>\n",
              ".</div>"
            ],
            "text/plain": [
              "<IPython.core.display.HTML object>"
            ]
          },
          "metadata": {
            "tags": []
          }
        },
        {
          "output_type": "display_data",
          "data": {
            "text/html": [
              "<div class=\"entities\" style=\"line-height: 2.5; direction: ltr\">Like I said ordered \n",
              "<mark class=\"entity\" style=\"background: #e4e7d2; padding: 0.45em 0.6em; margin: 0 0.25em; line-height: 1; border-radius: 0.35em; box-decoration-break: clone; -webkit-box-decoration-break: clone\">\n",
              "    3\n",
              "    <span style=\"font-size: 0.8em; font-weight: bold; line-height: 1; border-radius: 0.35em; text-transform: uppercase; vertical-align: middle; margin-left: 0.5rem\">CARDINAL</span>\n",
              "</mark>\n",
              " different types of dimsums and each looked similar. Expected this to taste much better. In fact they don’t even serve fresh \n",
              "<mark class=\"entity\" style=\"background: #ddd; padding: 0.45em 0.6em; margin: 0 0.25em; line-height: 1; border-radius: 0.35em; box-decoration-break: clone; -webkit-box-decoration-break: clone\">\n",
              "    chilies\n",
              "    <span style=\"font-size: 0.8em; font-weight: bold; line-height: 1; border-radius: 0.35em; text-transform: uppercase; vertical-align: middle; margin-left: 0.5rem\">dish</span>\n",
              "</mark>\n",
              " with \n",
              "<mark class=\"entity\" style=\"background: #ddd; padding: 0.45em 0.6em; margin: 0 0.25em; line-height: 1; border-radius: 0.35em; box-decoration-break: clone; -webkit-box-decoration-break: clone\">\n",
              "    soya\n",
              "    <span style=\"font-size: 0.8em; font-weight: bold; line-height: 1; border-radius: 0.35em; text-transform: uppercase; vertical-align: middle; margin-left: 0.5rem\">dish</span>\n",
              "</mark>\n",
              " \n",
              "<mark class=\"entity\" style=\"background: #ddd; padding: 0.45em 0.6em; margin: 0 0.25em; line-height: 1; border-radius: 0.35em; box-decoration-break: clone; -webkit-box-decoration-break: clone\">\n",
              "    sauce\n",
              "    <span style=\"font-size: 0.8em; font-weight: bold; line-height: 1; border-radius: 0.35em; text-transform: uppercase; vertical-align: middle; margin-left: 0.5rem\">dish</span>\n",
              "</mark>\n",
              " but have \n",
              "<mark class=\"entity\" style=\"background: #ddd; padding: 0.45em 0.6em; margin: 0 0.25em; line-height: 1; border-radius: 0.35em; box-decoration-break: clone; -webkit-box-decoration-break: clone\">\n",
              "    chilli\n",
              "    <span style=\"font-size: 0.8em; font-weight: bold; line-height: 1; border-radius: 0.35em; text-transform: uppercase; vertical-align: middle; margin-left: 0.5rem\">dish</span>\n",
              "</mark>\n",
              " \n",
              "<mark class=\"entity\" style=\"background: #ddd; padding: 0.45em 0.6em; margin: 0 0.25em; line-height: 1; border-radius: 0.35em; box-decoration-break: clone; -webkit-box-decoration-break: clone\">\n",
              "    sauce\n",
              "    <span style=\"font-size: 0.8em; font-weight: bold; line-height: 1; border-radius: 0.35em; text-transform: uppercase; vertical-align: middle; margin-left: 0.5rem\">dish</span>\n",
              "</mark>\n",
              " mixed with \n",
              "<mark class=\"entity\" style=\"background: #ddd; padding: 0.45em 0.6em; margin: 0 0.25em; line-height: 1; border-radius: 0.35em; box-decoration-break: clone; -webkit-box-decoration-break: clone\">\n",
              "    soya\n",
              "    <span style=\"font-size: 0.8em; font-weight: bold; line-height: 1; border-radius: 0.35em; text-transform: uppercase; vertical-align: middle; margin-left: 0.5rem\">dish</span>\n",
              "</mark>\n",
              " \n",
              "<mark class=\"entity\" style=\"background: #ddd; padding: 0.45em 0.6em; margin: 0 0.25em; line-height: 1; border-radius: 0.35em; box-decoration-break: clone; -webkit-box-decoration-break: clone\">\n",
              "    sauce\n",
              "    <span style=\"font-size: 0.8em; font-weight: bold; line-height: 1; border-radius: 0.35em; text-transform: uppercase; vertical-align: middle; margin-left: 0.5rem\">dish</span>\n",
              "</mark>\n",
              ". Avoidable dishes</div>"
            ],
            "text/plain": [
              "<IPython.core.display.HTML object>"
            ]
          },
          "metadata": {
            "tags": []
          }
        },
        {
          "output_type": "display_data",
          "data": {
            "text/html": [
              "<div class=\"entities\" style=\"line-height: 2.5; direction: ltr\">One of my favorite food at WDSB! Various types of vegetables can be found in the \n",
              "<mark class=\"entity\" style=\"background: #ddd; padding: 0.45em 0.6em; margin: 0 0.25em; line-height: 1; border-radius: 0.35em; box-decoration-break: clone; -webkit-box-decoration-break: clone\">\n",
              "    burger\n",
              "    <span style=\"font-size: 0.8em; font-weight: bold; line-height: 1; border-radius: 0.35em; text-transform: uppercase; vertical-align: middle; margin-left: 0.5rem\">dish</span>\n",
              "</mark>\n",
              ", generous amount of the main ingredient -- monkeyhead \n",
              "<mark class=\"entity\" style=\"background: #ddd; padding: 0.45em 0.6em; margin: 0 0.25em; line-height: 1; border-radius: 0.35em; box-decoration-break: clone; -webkit-box-decoration-break: clone\">\n",
              "    mushroom\n",
              "    <span style=\"font-size: 0.8em; font-weight: bold; line-height: 1; border-radius: 0.35em; text-transform: uppercase; vertical-align: middle; margin-left: 0.5rem\">dish</span>\n",
              "</mark>\n",
              ", also comes with two sides in great portion!</div>"
            ],
            "text/plain": [
              "<IPython.core.display.HTML object>"
            ]
          },
          "metadata": {
            "tags": []
          }
        },
        {
          "output_type": "display_data",
          "data": {
            "text/html": [
              "<div class=\"entities\" style=\"line-height: 2.5; direction: ltr\">This place hand dips their \n",
              "<mark class=\"entity\" style=\"background: #ddd; padding: 0.45em 0.6em; margin: 0 0.25em; line-height: 1; border-radius: 0.35em; box-decoration-break: clone; -webkit-box-decoration-break: clone\">\n",
              "    corn\n",
              "    <span style=\"font-size: 0.8em; font-weight: bold; line-height: 1; border-radius: 0.35em; text-transform: uppercase; vertical-align: middle; margin-left: 0.5rem\">dish</span>\n",
              "</mark>\n",
              " dogs in their own batter so they are fresh and not from the freezer, and they do not disappoint! I like to go here on Wenesdays for their \n",
              "<mark class=\"entity\" style=\"background: #ddd; padding: 0.45em 0.6em; margin: 0 0.25em; line-height: 1; border-radius: 0.35em; box-decoration-break: clone; -webkit-box-decoration-break: clone\">\n",
              "    corn\n",
              "    <span style=\"font-size: 0.8em; font-weight: bold; line-height: 1; border-radius: 0.35em; text-transform: uppercase; vertical-align: middle; margin-left: 0.5rem\">dish</span>\n",
              "</mark>\n",
              " dog special, 3 for $5! And of course I always get a \n",
              "<mark class=\"entity\" style=\"background: #ddd; padding: 0.45em 0.6em; margin: 0 0.25em; line-height: 1; border-radius: 0.35em; box-decoration-break: clone; -webkit-box-decoration-break: clone\">\n",
              "    salad\n",
              "    <span style=\"font-size: 0.8em; font-weight: bold; line-height: 1; border-radius: 0.35em; text-transform: uppercase; vertical-align: middle; margin-left: 0.5rem\">dish</span>\n",
              "</mark>\n",
              " to balance things out. They have delicious \n",
              "<mark class=\"entity\" style=\"background: #ddd; padding: 0.45em 0.6em; margin: 0 0.25em; line-height: 1; border-radius: 0.35em; box-decoration-break: clone; -webkit-box-decoration-break: clone\">\n",
              "    salad\n",
              "    <span style=\"font-size: 0.8em; font-weight: bold; line-height: 1; border-radius: 0.35em; text-transform: uppercase; vertical-align: middle; margin-left: 0.5rem\">dish</span>\n",
              "</mark>\n",
              " dressings to choose from including a \n",
              "<mark class=\"entity\" style=\"background: #ddd; padding: 0.45em 0.6em; margin: 0 0.25em; line-height: 1; border-radius: 0.35em; box-decoration-break: clone; -webkit-box-decoration-break: clone\">\n",
              "    vegan\n",
              "    <span style=\"font-size: 0.8em; font-weight: bold; line-height: 1; border-radius: 0.35em; text-transform: uppercase; vertical-align: middle; margin-left: 0.5rem\">dish</span>\n",
              "</mark>\n",
              " ranch and \n",
              "<mark class=\"entity\" style=\"background: #ddd; padding: 0.45em 0.6em; margin: 0 0.25em; line-height: 1; border-radius: 0.35em; box-decoration-break: clone; -webkit-box-decoration-break: clone\">\n",
              "    vegan\n",
              "    <span style=\"font-size: 0.8em; font-weight: bold; line-height: 1; border-radius: 0.35em; text-transform: uppercase; vertical-align: middle; margin-left: 0.5rem\">vegetable</span>\n",
              "</mark>\n",
              " thousand island. Their weekend \n",
              "<mark class=\"entity\" style=\"background: #ddd; padding: 0.45em 0.6em; margin: 0 0.25em; line-height: 1; border-radius: 0.35em; box-decoration-break: clone; -webkit-box-decoration-break: clone\">\n",
              "    brunch\n",
              "    <span style=\"font-size: 0.8em; font-weight: bold; line-height: 1; border-radius: 0.35em; text-transform: uppercase; vertical-align: middle; margin-left: 0.5rem\">dish</span>\n",
              "</mark>\n",
              " is also very good and there is rarely a wait like so many other places in \n",
              "<mark class=\"entity\" style=\"background: #ddd; padding: 0.45em 0.6em; margin: 0 0.25em; line-height: 1; border-radius: 0.35em; box-decoration-break: clone; -webkit-box-decoration-break: clone\">\n",
              "    Portland\n",
              "    <span style=\"font-size: 0.8em; font-weight: bold; line-height: 1; border-radius: 0.35em; text-transform: uppercase; vertical-align: middle; margin-left: 0.5rem\">dish</span>\n",
              "</mark>\n",
              ". My favorite breakfast plate there is called The \n",
              "<mark class=\"entity\" style=\"background: #ddd; padding: 0.45em 0.6em; margin: 0 0.25em; line-height: 1; border-radius: 0.35em; box-decoration-break: clone; -webkit-box-decoration-break: clone\">\n",
              "    Portland\n",
              "    <span style=\"font-size: 0.8em; font-weight: bold; line-height: 1; border-radius: 0.35em; text-transform: uppercase; vertical-align: middle; margin-left: 0.5rem\">dish</span>\n",
              "</mark>\n",
              ", it’s a \n",
              "<mark class=\"entity\" style=\"background: #ddd; padding: 0.45em 0.6em; margin: 0 0.25em; line-height: 1; border-radius: 0.35em; box-decoration-break: clone; -webkit-box-decoration-break: clone\">\n",
              "    tofu\n",
              "    <span style=\"font-size: 0.8em; font-weight: bold; line-height: 1; border-radius: 0.35em; text-transform: uppercase; vertical-align: middle; margin-left: 0.5rem\">dish</span>\n",
              "</mark>\n",
              " scramble with veggies and \n",
              "<mark class=\"entity\" style=\"background: #ddd; padding: 0.45em 0.6em; margin: 0 0.25em; line-height: 1; border-radius: 0.35em; box-decoration-break: clone; -webkit-box-decoration-break: clone\">\n",
              "    potatoes\n",
              "    <span style=\"font-size: 0.8em; font-weight: bold; line-height: 1; border-radius: 0.35em; text-transform: uppercase; vertical-align: middle; margin-left: 0.5rem\">dish</span>\n",
              "</mark>\n",
              " and a \n",
              "<mark class=\"entity\" style=\"background: #ddd; padding: 0.45em 0.6em; margin: 0 0.25em; line-height: 1; border-radius: 0.35em; box-decoration-break: clone; -webkit-box-decoration-break: clone\">\n",
              "    biscuit\n",
              "    <span style=\"font-size: 0.8em; font-weight: bold; line-height: 1; border-radius: 0.35em; text-transform: uppercase; vertical-align: middle; margin-left: 0.5rem\">dish</span>\n",
              "</mark>\n",
              " or toast of choice. Their \n",
              "<mark class=\"entity\" style=\"background: #ddd; padding: 0.45em 0.6em; margin: 0 0.25em; line-height: 1; border-radius: 0.35em; box-decoration-break: clone; -webkit-box-decoration-break: clone\">\n",
              "    vegan\n",
              "    <span style=\"font-size: 0.8em; font-weight: bold; line-height: 1; border-radius: 0.35em; text-transform: uppercase; vertical-align: middle; margin-left: 0.5rem\">dish</span>\n",
              "</mark>\n",
              " gravy is also very yummy and unique.</div>"
            ],
            "text/plain": [
              "<IPython.core.display.HTML object>"
            ]
          },
          "metadata": {
            "tags": []
          }
        },
        {
          "output_type": "display_data",
          "data": {
            "text/html": [
              "<div class=\"entities\" style=\"line-height: 2.5; direction: ltr\">This dish was a terrible disappointment. The restaurant said they’d make a \n",
              "<mark class=\"entity\" style=\"background: #ddd; padding: 0.45em 0.6em; margin: 0 0.25em; line-height: 1; border-radius: 0.35em; box-decoration-break: clone; -webkit-box-decoration-break: clone\">\n",
              "    vegan\n",
              "    <span style=\"font-size: 0.8em; font-weight: bold; line-height: 1; border-radius: 0.35em; text-transform: uppercase; vertical-align: middle; margin-left: 0.5rem\">dish</span>\n",
              "</mark>\n",
              " version of their usual meat based rolls. All that was left is \n",
              "<mark class=\"entity\" style=\"background: #ddd; padding: 0.45em 0.6em; margin: 0 0.25em; line-height: 1; border-radius: 0.35em; box-decoration-break: clone; -webkit-box-decoration-break: clone\">\n",
              "    rice\n",
              "    <span style=\"font-size: 0.8em; font-weight: bold; line-height: 1; border-radius: 0.35em; text-transform: uppercase; vertical-align: middle; margin-left: 0.5rem\">dish</span>\n",
              "</mark>\n",
              " and some greens in the rubbery \n",
              "<mark class=\"entity\" style=\"background: #ddd; padding: 0.45em 0.6em; margin: 0 0.25em; line-height: 1; border-radius: 0.35em; box-decoration-break: clone; -webkit-box-decoration-break: clone\">\n",
              "    rice\n",
              "    <span style=\"font-size: 0.8em; font-weight: bold; line-height: 1; border-radius: 0.35em; text-transform: uppercase; vertical-align: middle; margin-left: 0.5rem\">dish</span>\n",
              "</mark>\n",
              " paper rolls with absolutely no flavour or innovation.</div>"
            ],
            "text/plain": [
              "<IPython.core.display.HTML object>"
            ]
          },
          "metadata": {
            "tags": []
          }
        },
        {
          "output_type": "display_data",
          "data": {
            "text/html": [
              "<div class=\"entities\" style=\"line-height: 2.5; direction: ltr\">As a \n",
              "<mark class=\"entity\" style=\"background: #ddd; padding: 0.45em 0.6em; margin: 0 0.25em; line-height: 1; border-radius: 0.35em; box-decoration-break: clone; -webkit-box-decoration-break: clone\">\n",
              "    vegan\n",
              "    <span style=\"font-size: 0.8em; font-weight: bold; line-height: 1; border-radius: 0.35em; text-transform: uppercase; vertical-align: middle; margin-left: 0.5rem\">dish</span>\n",
              "</mark>\n",
              " this is about as good as it gets for \n",
              "<mark class=\"entity\" style=\"background: #ddd; padding: 0.45em 0.6em; margin: 0 0.25em; line-height: 1; border-radius: 0.35em; box-decoration-break: clone; -webkit-box-decoration-break: clone\">\n",
              "    Chinese\n",
              "    <span style=\"font-size: 0.8em; font-weight: bold; line-height: 1; border-radius: 0.35em; text-transform: uppercase; vertical-align: middle; margin-left: 0.5rem\">dish</span>\n",
              "</mark>\n",
              " food. Mapo Doufu is \n",
              "<mark class=\"entity\" style=\"background: #e4e7d2; padding: 0.45em 0.6em; margin: 0 0.25em; line-height: 1; border-radius: 0.35em; box-decoration-break: clone; -webkit-box-decoration-break: clone\">\n",
              "    one\n",
              "    <span style=\"font-size: 0.8em; font-weight: bold; line-height: 1; border-radius: 0.35em; text-transform: uppercase; vertical-align: middle; margin-left: 0.5rem\">CARDINAL</span>\n",
              "</mark>\n",
              " of those extraordinary \n",
              "<mark class=\"entity\" style=\"background: #ddd; padding: 0.45em 0.6em; margin: 0 0.25em; line-height: 1; border-radius: 0.35em; box-decoration-break: clone; -webkit-box-decoration-break: clone\">\n",
              "    Sichuan\n",
              "    <span style=\"font-size: 0.8em; font-weight: bold; line-height: 1; border-radius: 0.35em; text-transform: uppercase; vertical-align: middle; margin-left: 0.5rem\">dish</span>\n",
              "</mark>\n",
              " dishes that almost everyone loves (if you like spicy food). It's typically made with \n",
              "<mark class=\"entity\" style=\"background: #ddd; padding: 0.45em 0.6em; margin: 0 0.25em; line-height: 1; border-radius: 0.35em; box-decoration-break: clone; -webkit-box-decoration-break: clone\">\n",
              "    pork\n",
              "    <span style=\"font-size: 0.8em; font-weight: bold; line-height: 1; border-radius: 0.35em; text-transform: uppercase; vertical-align: middle; margin-left: 0.5rem\">dish</span>\n",
              "</mark>\n",
              ", but Shisen Hanten is always happy to make this signature dish \n",
              "<mark class=\"entity\" style=\"background: #ddd; padding: 0.45em 0.6em; margin: 0 0.25em; line-height: 1; border-radius: 0.35em; box-decoration-break: clone; -webkit-box-decoration-break: clone\">\n",
              "    vegan\n",
              "    <span style=\"font-size: 0.8em; font-weight: bold; line-height: 1; border-radius: 0.35em; text-transform: uppercase; vertical-align: middle; margin-left: 0.5rem\">dish</span>\n",
              "</mark>\n",
              ". It's pretty much firm \n",
              "<mark class=\"entity\" style=\"background: #ddd; padding: 0.45em 0.6em; margin: 0 0.25em; line-height: 1; border-radius: 0.35em; box-decoration-break: clone; -webkit-box-decoration-break: clone\">\n",
              "    tofu\n",
              "    <span style=\"font-size: 0.8em; font-weight: bold; line-height: 1; border-radius: 0.35em; text-transform: uppercase; vertical-align: middle; margin-left: 0.5rem\">dish</span>\n",
              "</mark>\n",
              " with lots of \n",
              "<mark class=\"entity\" style=\"background: #ddd; padding: 0.45em 0.6em; margin: 0 0.25em; line-height: 1; border-radius: 0.35em; box-decoration-break: clone; -webkit-box-decoration-break: clone\">\n",
              "    Sichuan\n",
              "    <span style=\"font-size: 0.8em; font-weight: bold; line-height: 1; border-radius: 0.35em; text-transform: uppercase; vertical-align: middle; margin-left: 0.5rem\">dish</span>\n",
              "</mark>\n",
              " \n",
              "<mark class=\"entity\" style=\"background: #ddd; padding: 0.45em 0.6em; margin: 0 0.25em; line-height: 1; border-radius: 0.35em; box-decoration-break: clone; -webkit-box-decoration-break: clone\">\n",
              "    peppercorn\n",
              "    <span style=\"font-size: 0.8em; font-weight: bold; line-height: 1; border-radius: 0.35em; text-transform: uppercase; vertical-align: middle; margin-left: 0.5rem\">dish</span>\n",
              "</mark>\n",
              " which gives you that amazing numbing sensation. I've had this dish at so many restaurants around \n",
              "<mark class=\"entity\" style=\"background: #ddd; padding: 0.45em 0.6em; margin: 0 0.25em; line-height: 1; border-radius: 0.35em; box-decoration-break: clone; -webkit-box-decoration-break: clone\">\n",
              "    Singapore\n",
              "    <span style=\"font-size: 0.8em; font-weight: bold; line-height: 1; border-radius: 0.35em; text-transform: uppercase; vertical-align: middle; margin-left: 0.5rem\">dish</span>\n",
              "</mark>\n",
              " and have to say this is probably my favorite!</div>"
            ],
            "text/plain": [
              "<IPython.core.display.HTML object>"
            ]
          },
          "metadata": {
            "tags": []
          }
        },
        {
          "output_type": "display_data",
          "data": {
            "text/html": [
              "<div class=\"entities\" style=\"line-height: 2.5; direction: ltr\">A rich but not overly creamy \n",
              "<mark class=\"entity\" style=\"background: #ddd; padding: 0.45em 0.6em; margin: 0 0.25em; line-height: 1; border-radius: 0.35em; box-decoration-break: clone; -webkit-box-decoration-break: clone\">\n",
              "    soup\n",
              "    <span style=\"font-size: 0.8em; font-weight: bold; line-height: 1; border-radius: 0.35em; text-transform: uppercase; vertical-align: middle; margin-left: 0.5rem\">dish</span>\n",
              "</mark>\n",
              ". Very refreshing and contains a lot of \n",
              "<mark class=\"entity\" style=\"background: #ddd; padding: 0.45em 0.6em; margin: 0 0.25em; line-height: 1; border-radius: 0.35em; box-decoration-break: clone; -webkit-box-decoration-break: clone\">\n",
              "    herbs\n",
              "    <span style=\"font-size: 0.8em; font-weight: bold; line-height: 1; border-radius: 0.35em; text-transform: uppercase; vertical-align: middle; margin-left: 0.5rem\">dish</span>\n",
              "</mark>\n",
              ", vegetables and mushrooms.</div>"
            ],
            "text/plain": [
              "<IPython.core.display.HTML object>"
            ]
          },
          "metadata": {
            "tags": []
          }
        }
      ]
    }
  ]
}